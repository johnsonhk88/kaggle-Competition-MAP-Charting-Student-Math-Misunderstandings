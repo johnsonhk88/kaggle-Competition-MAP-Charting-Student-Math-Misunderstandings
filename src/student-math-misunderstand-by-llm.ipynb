{
 "cells": [
  {
   "cell_type": "markdown",
   "id": "7ede8530",
   "metadata": {
    "papermill": {
     "duration": 0.016983,
     "end_time": "2025-08-26T06:04:01.497899",
     "exception": false,
     "start_time": "2025-08-26T06:04:01.480916",
     "status": "completed"
    },
    "tags": []
   },
   "source": [
    "# Kaggle Competition Info\n",
    "In this competition, you’ll develop an NLP model driven by ML to accurately predict students’ potential math misconceptions based on student explanations in open-ended responses. This solution will suggest candidate misconceptions for these explanations, making it easier for teachers to identify and address students’ incorrect thinking, which is critical to improving student math learning.  \n",
    "## Offical Link\n",
    "https://www.kaggle.com/competitions/map-charting-student-math-misunderstandings "
   ]
  },
  {
   "cell_type": "markdown",
   "id": "cfd5ea19",
   "metadata": {
    "papermill": {
     "duration": 0.013786,
     "end_time": "2025-08-26T06:04:01.525826",
     "exception": false,
     "start_time": "2025-08-26T06:04:01.512040",
     "status": "completed"
    },
    "tags": []
   },
   "source": [
    "# Recommand install package first at Add-ons --> Install Dependence\n",
    "\n",
    "```python\n",
    "!pip install -U bitsandbytes==0.47.0\n",
    "!pip install -U peft==0.17.0\n",
    "!pip install -U trl==0.21.0\n",
    "!pip install -U accelerate==1.10.0\n",
    "!pip install transformers==4.55.0\n",
    "!pip install langchain==0.3.27\n",
    "!pip install -U langchain-core==0.3.74\n",
    "!pip install langchain-text-splitters==0.3.9\n",
    "!pip install langchain-community==0.3.27\n",
    "!pip install -U deepeval==3.3.9\n",
    "```"
   ]
  },
  {
   "cell_type": "code",
   "execution_count": 1,
   "id": "f9e6df5a",
   "metadata": {
    "execution": {
     "iopub.execute_input": "2025-08-26T06:04:01.555150Z",
     "iopub.status.busy": "2025-08-26T06:04:01.554895Z",
     "iopub.status.idle": "2025-08-26T06:07:04.090502Z",
     "shell.execute_reply": "2025-08-26T06:07:04.089644Z"
    },
    "papermill": {
     "duration": 182.552264,
     "end_time": "2025-08-26T06:07:04.091997",
     "exception": false,
     "start_time": "2025-08-26T06:04:01.539733",
     "status": "completed"
    },
    "scrolled": true,
    "tags": []
   },
   "outputs": [
    {
     "name": "stdout",
     "output_type": "stream",
     "text": [
      "Collecting git+https://github.com/huggingface/transformers.git\r\n",
      "  Cloning https://github.com/huggingface/transformers.git to /tmp/pip-req-build-igk7qqh0\r\n",
      "  Running command git clone --filter=blob:none --quiet https://github.com/huggingface/transformers.git /tmp/pip-req-build-igk7qqh0\r\n",
      "  Resolved https://github.com/huggingface/transformers.git to commit e68146fbe7052a6dc8456f48edabe705dc1f7381\r\n",
      "  Installing build dependencies ... \u001b[?25l\u001b[?25hdone\r\n",
      "  Getting requirements to build wheel ... \u001b[?25l\u001b[?25hdone\r\n",
      "  Preparing metadata (pyproject.toml) ... \u001b[?25l\u001b[?25hdone\r\n",
      "Requirement already satisfied: filelock in /usr/local/lib/python3.11/dist-packages (from transformers==4.56.0.dev0) (3.18.0)\r\n",
      "Collecting huggingface-hub<1.0,>=0.34.0 (from transformers==4.56.0.dev0)\r\n",
      "  Downloading huggingface_hub-0.34.4-py3-none-any.whl.metadata (14 kB)\r\n",
      "Requirement already satisfied: numpy>=1.17 in /usr/local/lib/python3.11/dist-packages (from transformers==4.56.0.dev0) (1.26.4)\r\n",
      "Requirement already satisfied: packaging>=20.0 in /usr/local/lib/python3.11/dist-packages (from transformers==4.56.0.dev0) (25.0)\r\n",
      "Requirement already satisfied: pyyaml>=5.1 in /usr/local/lib/python3.11/dist-packages (from transformers==4.56.0.dev0) (6.0.2)\r\n",
      "Requirement already satisfied: regex!=2019.12.17 in /usr/local/lib/python3.11/dist-packages (from transformers==4.56.0.dev0) (2024.11.6)\r\n",
      "Requirement already satisfied: requests in /usr/local/lib/python3.11/dist-packages (from transformers==4.56.0.dev0) (2.32.4)\r\n",
      "Requirement already satisfied: tokenizers<0.22,>=0.21 in /usr/local/lib/python3.11/dist-packages (from transformers==4.56.0.dev0) (0.21.2)\r\n",
      "Requirement already satisfied: safetensors>=0.4.3 in /usr/local/lib/python3.11/dist-packages (from transformers==4.56.0.dev0) (0.5.3)\r\n",
      "Requirement already satisfied: tqdm>=4.27 in /usr/local/lib/python3.11/dist-packages (from transformers==4.56.0.dev0) (4.67.1)\r\n",
      "Requirement already satisfied: fsspec>=2023.5.0 in /usr/local/lib/python3.11/dist-packages (from huggingface-hub<1.0,>=0.34.0->transformers==4.56.0.dev0) (2025.5.1)\r\n",
      "Requirement already satisfied: typing-extensions>=3.7.4.3 in /usr/local/lib/python3.11/dist-packages (from huggingface-hub<1.0,>=0.34.0->transformers==4.56.0.dev0) (4.14.0)\r\n",
      "Requirement already satisfied: hf-xet<2.0.0,>=1.1.3 in /usr/local/lib/python3.11/dist-packages (from huggingface-hub<1.0,>=0.34.0->transformers==4.56.0.dev0) (1.1.5)\r\n",
      "Requirement already satisfied: mkl_fft in /usr/local/lib/python3.11/dist-packages (from numpy>=1.17->transformers==4.56.0.dev0) (1.3.8)\r\n",
      "Requirement already satisfied: mkl_random in /usr/local/lib/python3.11/dist-packages (from numpy>=1.17->transformers==4.56.0.dev0) (1.2.4)\r\n",
      "Requirement already satisfied: mkl_umath in /usr/local/lib/python3.11/dist-packages (from numpy>=1.17->transformers==4.56.0.dev0) (0.1.1)\r\n",
      "Requirement already satisfied: mkl in /usr/local/lib/python3.11/dist-packages (from numpy>=1.17->transformers==4.56.0.dev0) (2025.2.0)\r\n",
      "Requirement already satisfied: tbb4py in /usr/local/lib/python3.11/dist-packages (from numpy>=1.17->transformers==4.56.0.dev0) (2022.2.0)\r\n",
      "Requirement already satisfied: mkl-service in /usr/local/lib/python3.11/dist-packages (from numpy>=1.17->transformers==4.56.0.dev0) (2.4.1)\r\n",
      "Requirement already satisfied: charset_normalizer<4,>=2 in /usr/local/lib/python3.11/dist-packages (from requests->transformers==4.56.0.dev0) (3.4.2)\r\n",
      "Requirement already satisfied: idna<4,>=2.5 in /usr/local/lib/python3.11/dist-packages (from requests->transformers==4.56.0.dev0) (3.10)\r\n",
      "Requirement already satisfied: urllib3<3,>=1.21.1 in /usr/local/lib/python3.11/dist-packages (from requests->transformers==4.56.0.dev0) (2.5.0)\r\n",
      "Requirement already satisfied: certifi>=2017.4.17 in /usr/local/lib/python3.11/dist-packages (from requests->transformers==4.56.0.dev0) (2025.6.15)\r\n",
      "Requirement already satisfied: intel-openmp<2026,>=2024 in /usr/local/lib/python3.11/dist-packages (from mkl->numpy>=1.17->transformers==4.56.0.dev0) (2024.2.0)\r\n",
      "Requirement already satisfied: tbb==2022.* in /usr/local/lib/python3.11/dist-packages (from mkl->numpy>=1.17->transformers==4.56.0.dev0) (2022.2.0)\r\n",
      "Requirement already satisfied: tcmlib==1.* in /usr/local/lib/python3.11/dist-packages (from tbb==2022.*->mkl->numpy>=1.17->transformers==4.56.0.dev0) (1.4.0)\r\n",
      "Requirement already satisfied: intel-cmplr-lib-rt in /usr/local/lib/python3.11/dist-packages (from mkl_umath->numpy>=1.17->transformers==4.56.0.dev0) (2024.2.0)\r\n",
      "Requirement already satisfied: intel-cmplr-lib-ur==2024.2.0 in /usr/local/lib/python3.11/dist-packages (from intel-openmp<2026,>=2024->mkl->numpy>=1.17->transformers==4.56.0.dev0) (2024.2.0)\r\n",
      "Downloading huggingface_hub-0.34.4-py3-none-any.whl (561 kB)\r\n",
      "\u001b[2K   \u001b[90m━━━━━━━━━━━━━━━━━━━━━━━━━━━━━━━━━━━━━━━━\u001b[0m \u001b[32m561.5/561.5 kB\u001b[0m \u001b[31m9.7 MB/s\u001b[0m eta \u001b[36m0:00:00\u001b[0m\r\n",
      "\u001b[?25hBuilding wheels for collected packages: transformers\r\n",
      "  Building wheel for transformers (pyproject.toml) ... \u001b[?25l\u001b[?25hdone\r\n",
      "  Created wheel for transformers: filename=transformers-4.56.0.dev0-py3-none-any.whl size=12586691 sha256=4cb7bdb103d14715dfca7cb117e7b6f37fd93174dc9a1098c53f69372c332569\r\n",
      "  Stored in directory: /tmp/pip-ephem-wheel-cache-cynbsbui/wheels/32/4b/78/f195c684dd3a9ed21f3b39fe8f85b48df7918581b6437be143\r\n",
      "Successfully built transformers\r\n",
      "Installing collected packages: huggingface-hub, transformers\r\n",
      "  Attempting uninstall: huggingface-hub\r\n",
      "    Found existing installation: huggingface-hub 0.33.1\r\n",
      "    Uninstalling huggingface-hub-0.33.1:\r\n",
      "      Successfully uninstalled huggingface-hub-0.33.1\r\n",
      "  Attempting uninstall: transformers\r\n",
      "    Found existing installation: transformers 4.52.4\r\n",
      "    Uninstalling transformers-4.52.4:\r\n",
      "      Successfully uninstalled transformers-4.52.4\r\n",
      "\u001b[31mERROR: pip's dependency resolver does not currently take into account all the packages that are installed. This behaviour is the source of the following dependency conflicts.\r\n",
      "datasets 3.6.0 requires fsspec[http]<=2025.3.0,>=2023.1.0, but you have fsspec 2025.5.1 which is incompatible.\u001b[0m\u001b[31m\r\n",
      "\u001b[0mSuccessfully installed huggingface-hub-0.34.4 transformers-4.56.0.dev0\r\n",
      "Requirement already satisfied: datasets in /usr/local/lib/python3.11/dist-packages (3.6.0)\r\n",
      "Collecting datasets\r\n",
      "  Downloading datasets-4.0.0-py3-none-any.whl.metadata (19 kB)\r\n",
      "Requirement already satisfied: accelerate in /usr/local/lib/python3.11/dist-packages (1.8.1)\r\n",
      "Collecting accelerate\r\n",
      "  Downloading accelerate-1.10.1-py3-none-any.whl.metadata (19 kB)\r\n",
      "Requirement already satisfied: filelock in /usr/local/lib/python3.11/dist-packages (from datasets) (3.18.0)\r\n",
      "Requirement already satisfied: numpy>=1.17 in /usr/local/lib/python3.11/dist-packages (from datasets) (1.26.4)\r\n",
      "Requirement already satisfied: pyarrow>=15.0.0 in /usr/local/lib/python3.11/dist-packages (from datasets) (19.0.1)\r\n",
      "Requirement already satisfied: dill<0.3.9,>=0.3.0 in /usr/local/lib/python3.11/dist-packages (from datasets) (0.3.8)\r\n",
      "Requirement already satisfied: pandas in /usr/local/lib/python3.11/dist-packages (from datasets) (2.2.3)\r\n",
      "Requirement already satisfied: requests>=2.32.2 in /usr/local/lib/python3.11/dist-packages (from datasets) (2.32.4)\r\n",
      "Requirement already satisfied: tqdm>=4.66.3 in /usr/local/lib/python3.11/dist-packages (from datasets) (4.67.1)\r\n",
      "Requirement already satisfied: xxhash in /usr/local/lib/python3.11/dist-packages (from datasets) (3.5.0)\r\n",
      "Requirement already satisfied: multiprocess<0.70.17 in /usr/local/lib/python3.11/dist-packages (from datasets) (0.70.16)\r\n",
      "Collecting fsspec<=2025.3.0,>=2023.1.0 (from fsspec[http]<=2025.3.0,>=2023.1.0->datasets)\r\n",
      "  Downloading fsspec-2025.3.0-py3-none-any.whl.metadata (11 kB)\r\n",
      "Requirement already satisfied: huggingface-hub>=0.24.0 in /usr/local/lib/python3.11/dist-packages (from datasets) (0.34.4)\r\n",
      "Requirement already satisfied: packaging in /usr/local/lib/python3.11/dist-packages (from datasets) (25.0)\r\n",
      "Requirement already satisfied: pyyaml>=5.1 in /usr/local/lib/python3.11/dist-packages (from datasets) (6.0.2)\r\n",
      "Requirement already satisfied: psutil in /usr/local/lib/python3.11/dist-packages (from accelerate) (7.0.0)\r\n",
      "Requirement already satisfied: torch>=2.0.0 in /usr/local/lib/python3.11/dist-packages (from accelerate) (2.6.0+cu124)\r\n",
      "Requirement already satisfied: safetensors>=0.4.3 in /usr/local/lib/python3.11/dist-packages (from accelerate) (0.5.3)\r\n",
      "Requirement already satisfied: aiohttp!=4.0.0a0,!=4.0.0a1 in /usr/local/lib/python3.11/dist-packages (from fsspec[http]<=2025.3.0,>=2023.1.0->datasets) (3.12.13)\r\n",
      "Requirement already satisfied: typing-extensions>=3.7.4.3 in /usr/local/lib/python3.11/dist-packages (from huggingface-hub>=0.24.0->datasets) (4.14.0)\r\n",
      "Requirement already satisfied: hf-xet<2.0.0,>=1.1.3 in /usr/local/lib/python3.11/dist-packages (from huggingface-hub>=0.24.0->datasets) (1.1.5)\r\n",
      "Requirement already satisfied: mkl_fft in /usr/local/lib/python3.11/dist-packages (from numpy>=1.17->datasets) (1.3.8)\r\n",
      "Requirement already satisfied: mkl_random in /usr/local/lib/python3.11/dist-packages (from numpy>=1.17->datasets) (1.2.4)\r\n",
      "Requirement already satisfied: mkl_umath in /usr/local/lib/python3.11/dist-packages (from numpy>=1.17->datasets) (0.1.1)\r\n",
      "Requirement already satisfied: mkl in /usr/local/lib/python3.11/dist-packages (from numpy>=1.17->datasets) (2025.2.0)\r\n",
      "Requirement already satisfied: tbb4py in /usr/local/lib/python3.11/dist-packages (from numpy>=1.17->datasets) (2022.2.0)\r\n",
      "Requirement already satisfied: mkl-service in /usr/local/lib/python3.11/dist-packages (from numpy>=1.17->datasets) (2.4.1)\r\n",
      "Requirement already satisfied: charset_normalizer<4,>=2 in /usr/local/lib/python3.11/dist-packages (from requests>=2.32.2->datasets) (3.4.2)\r\n",
      "Requirement already satisfied: idna<4,>=2.5 in /usr/local/lib/python3.11/dist-packages (from requests>=2.32.2->datasets) (3.10)\r\n",
      "Requirement already satisfied: urllib3<3,>=1.21.1 in /usr/local/lib/python3.11/dist-packages (from requests>=2.32.2->datasets) (2.5.0)\r\n",
      "Requirement already satisfied: certifi>=2017.4.17 in /usr/local/lib/python3.11/dist-packages (from requests>=2.32.2->datasets) (2025.6.15)\r\n",
      "Requirement already satisfied: networkx in /usr/local/lib/python3.11/dist-packages (from torch>=2.0.0->accelerate) (3.5)\r\n",
      "Requirement already satisfied: jinja2 in /usr/local/lib/python3.11/dist-packages (from torch>=2.0.0->accelerate) (3.1.6)\r\n",
      "Collecting nvidia-cuda-nvrtc-cu12==12.4.127 (from torch>=2.0.0->accelerate)\r\n",
      "  Downloading nvidia_cuda_nvrtc_cu12-12.4.127-py3-none-manylinux2014_x86_64.whl.metadata (1.5 kB)\r\n",
      "Collecting nvidia-cuda-runtime-cu12==12.4.127 (from torch>=2.0.0->accelerate)\r\n",
      "  Downloading nvidia_cuda_runtime_cu12-12.4.127-py3-none-manylinux2014_x86_64.whl.metadata (1.5 kB)\r\n",
      "Collecting nvidia-cuda-cupti-cu12==12.4.127 (from torch>=2.0.0->accelerate)\r\n",
      "  Downloading nvidia_cuda_cupti_cu12-12.4.127-py3-none-manylinux2014_x86_64.whl.metadata (1.6 kB)\r\n",
      "Collecting nvidia-cudnn-cu12==9.1.0.70 (from torch>=2.0.0->accelerate)\r\n",
      "  Downloading nvidia_cudnn_cu12-9.1.0.70-py3-none-manylinux2014_x86_64.whl.metadata (1.6 kB)\r\n",
      "Collecting nvidia-cublas-cu12==12.4.5.8 (from torch>=2.0.0->accelerate)\r\n",
      "  Downloading nvidia_cublas_cu12-12.4.5.8-py3-none-manylinux2014_x86_64.whl.metadata (1.5 kB)\r\n",
      "Collecting nvidia-cufft-cu12==11.2.1.3 (from torch>=2.0.0->accelerate)\r\n",
      "  Downloading nvidia_cufft_cu12-11.2.1.3-py3-none-manylinux2014_x86_64.whl.metadata (1.5 kB)\r\n",
      "Collecting nvidia-curand-cu12==10.3.5.147 (from torch>=2.0.0->accelerate)\r\n",
      "  Downloading nvidia_curand_cu12-10.3.5.147-py3-none-manylinux2014_x86_64.whl.metadata (1.5 kB)\r\n",
      "Collecting nvidia-cusolver-cu12==11.6.1.9 (from torch>=2.0.0->accelerate)\r\n",
      "  Downloading nvidia_cusolver_cu12-11.6.1.9-py3-none-manylinux2014_x86_64.whl.metadata (1.6 kB)\r\n",
      "Collecting nvidia-cusparse-cu12==12.3.1.170 (from torch>=2.0.0->accelerate)\r\n",
      "  Downloading nvidia_cusparse_cu12-12.3.1.170-py3-none-manylinux2014_x86_64.whl.metadata (1.6 kB)\r\n",
      "Requirement already satisfied: nvidia-cusparselt-cu12==0.6.2 in /usr/local/lib/python3.11/dist-packages (from torch>=2.0.0->accelerate) (0.6.2)\r\n",
      "Requirement already satisfied: nvidia-nccl-cu12==2.21.5 in /usr/local/lib/python3.11/dist-packages (from torch>=2.0.0->accelerate) (2.21.5)\r\n",
      "Requirement already satisfied: nvidia-nvtx-cu12==12.4.127 in /usr/local/lib/python3.11/dist-packages (from torch>=2.0.0->accelerate) (12.4.127)\r\n",
      "Collecting nvidia-nvjitlink-cu12==12.4.127 (from torch>=2.0.0->accelerate)\r\n",
      "  Downloading nvidia_nvjitlink_cu12-12.4.127-py3-none-manylinux2014_x86_64.whl.metadata (1.5 kB)\r\n",
      "Requirement already satisfied: triton==3.2.0 in /usr/local/lib/python3.11/dist-packages (from torch>=2.0.0->accelerate) (3.2.0)\r\n",
      "Requirement already satisfied: sympy==1.13.1 in /usr/local/lib/python3.11/dist-packages (from torch>=2.0.0->accelerate) (1.13.1)\r\n",
      "Requirement already satisfied: mpmath<1.4,>=1.1.0 in /usr/local/lib/python3.11/dist-packages (from sympy==1.13.1->torch>=2.0.0->accelerate) (1.3.0)\r\n",
      "Requirement already satisfied: python-dateutil>=2.8.2 in /usr/local/lib/python3.11/dist-packages (from pandas->datasets) (2.9.0.post0)\r\n",
      "Requirement already satisfied: pytz>=2020.1 in /usr/local/lib/python3.11/dist-packages (from pandas->datasets) (2025.2)\r\n",
      "Requirement already satisfied: tzdata>=2022.7 in /usr/local/lib/python3.11/dist-packages (from pandas->datasets) (2025.2)\r\n",
      "Requirement already satisfied: aiohappyeyeballs>=2.5.0 in /usr/local/lib/python3.11/dist-packages (from aiohttp!=4.0.0a0,!=4.0.0a1->fsspec[http]<=2025.3.0,>=2023.1.0->datasets) (2.6.1)\r\n",
      "Requirement already satisfied: aiosignal>=1.1.2 in /usr/local/lib/python3.11/dist-packages (from aiohttp!=4.0.0a0,!=4.0.0a1->fsspec[http]<=2025.3.0,>=2023.1.0->datasets) (1.3.2)\r\n",
      "Requirement already satisfied: attrs>=17.3.0 in /usr/local/lib/python3.11/dist-packages (from aiohttp!=4.0.0a0,!=4.0.0a1->fsspec[http]<=2025.3.0,>=2023.1.0->datasets) (25.3.0)\r\n",
      "Requirement already satisfied: frozenlist>=1.1.1 in /usr/local/lib/python3.11/dist-packages (from aiohttp!=4.0.0a0,!=4.0.0a1->fsspec[http]<=2025.3.0,>=2023.1.0->datasets) (1.7.0)\r\n",
      "Requirement already satisfied: multidict<7.0,>=4.5 in /usr/local/lib/python3.11/dist-packages (from aiohttp!=4.0.0a0,!=4.0.0a1->fsspec[http]<=2025.3.0,>=2023.1.0->datasets) (6.6.3)\r\n",
      "Requirement already satisfied: propcache>=0.2.0 in /usr/local/lib/python3.11/dist-packages (from aiohttp!=4.0.0a0,!=4.0.0a1->fsspec[http]<=2025.3.0,>=2023.1.0->datasets) (0.3.2)\r\n",
      "Requirement already satisfied: yarl<2.0,>=1.17.0 in /usr/local/lib/python3.11/dist-packages (from aiohttp!=4.0.0a0,!=4.0.0a1->fsspec[http]<=2025.3.0,>=2023.1.0->datasets) (1.20.1)\r\n",
      "Requirement already satisfied: six>=1.5 in /usr/local/lib/python3.11/dist-packages (from python-dateutil>=2.8.2->pandas->datasets) (1.17.0)\r\n",
      "Requirement already satisfied: MarkupSafe>=2.0 in /usr/local/lib/python3.11/dist-packages (from jinja2->torch>=2.0.0->accelerate) (3.0.2)\r\n",
      "Requirement already satisfied: intel-openmp<2026,>=2024 in /usr/local/lib/python3.11/dist-packages (from mkl->numpy>=1.17->datasets) (2024.2.0)\r\n",
      "Requirement already satisfied: tbb==2022.* in /usr/local/lib/python3.11/dist-packages (from mkl->numpy>=1.17->datasets) (2022.2.0)\r\n",
      "Requirement already satisfied: tcmlib==1.* in /usr/local/lib/python3.11/dist-packages (from tbb==2022.*->mkl->numpy>=1.17->datasets) (1.4.0)\r\n",
      "Requirement already satisfied: intel-cmplr-lib-rt in /usr/local/lib/python3.11/dist-packages (from mkl_umath->numpy>=1.17->datasets) (2024.2.0)\r\n",
      "Requirement already satisfied: intel-cmplr-lib-ur==2024.2.0 in /usr/local/lib/python3.11/dist-packages (from intel-openmp<2026,>=2024->mkl->numpy>=1.17->datasets) (2024.2.0)\r\n",
      "Downloading datasets-4.0.0-py3-none-any.whl (494 kB)\r\n",
      "\u001b[2K   \u001b[90m━━━━━━━━━━━━━━━━━━━━━━━━━━━━━━━━━━━━━━━━\u001b[0m \u001b[32m494.8/494.8 kB\u001b[0m \u001b[31m9.9 MB/s\u001b[0m eta \u001b[36m0:00:00\u001b[0m\r\n",
      "\u001b[?25hDownloading accelerate-1.10.1-py3-none-any.whl (374 kB)\r\n",
      "\u001b[2K   \u001b[90m━━━━━━━━━━━━━━━━━━━━━━━━━━━━━━━━━━━━━━━━\u001b[0m \u001b[32m374.9/374.9 kB\u001b[0m \u001b[31m30.8 MB/s\u001b[0m eta \u001b[36m0:00:00\u001b[0m\r\n",
      "\u001b[?25hDownloading fsspec-2025.3.0-py3-none-any.whl (193 kB)\r\n",
      "\u001b[2K   \u001b[90m━━━━━━━━━━━━━━━━━━━━━━━━━━━━━━━━━━━━━━━━\u001b[0m \u001b[32m193.6/193.6 kB\u001b[0m \u001b[31m15.0 MB/s\u001b[0m eta \u001b[36m0:00:00\u001b[0m\r\n",
      "\u001b[?25hDownloading nvidia_cublas_cu12-12.4.5.8-py3-none-manylinux2014_x86_64.whl (363.4 MB)\r\n",
      "\u001b[2K   \u001b[90m━━━━━━━━━━━━━━━━━━━━━━━━━━━━━━━━━━━━━━━━\u001b[0m \u001b[32m363.4/363.4 MB\u001b[0m \u001b[31m4.7 MB/s\u001b[0m eta \u001b[36m0:00:00\u001b[0m\r\n",
      "\u001b[?25hDownloading nvidia_cuda_cupti_cu12-12.4.127-py3-none-manylinux2014_x86_64.whl (13.8 MB)\r\n",
      "\u001b[2K   \u001b[90m━━━━━━━━━━━━━━━━━━━━━━━━━━━━━━━━━━━━━━━━\u001b[0m \u001b[32m13.8/13.8 MB\u001b[0m \u001b[31m94.3 MB/s\u001b[0m eta \u001b[36m0:00:00\u001b[0m\r\n",
      "\u001b[?25hDownloading nvidia_cuda_nvrtc_cu12-12.4.127-py3-none-manylinux2014_x86_64.whl (24.6 MB)\r\n",
      "\u001b[2K   \u001b[90m━━━━━━━━━━━━━━━━━━━━━━━━━━━━━━━━━━━━━━━━\u001b[0m \u001b[32m24.6/24.6 MB\u001b[0m \u001b[31m66.8 MB/s\u001b[0m eta \u001b[36m0:00:00\u001b[0m\r\n",
      "\u001b[?25hDownloading nvidia_cuda_runtime_cu12-12.4.127-py3-none-manylinux2014_x86_64.whl (883 kB)\r\n",
      "\u001b[2K   \u001b[90m━━━━━━━━━━━━━━━━━━━━━━━━━━━━━━━━━━━━━━━━\u001b[0m \u001b[32m883.7/883.7 kB\u001b[0m \u001b[31m42.9 MB/s\u001b[0m eta \u001b[36m0:00:00\u001b[0m\r\n",
      "\u001b[?25hDownloading nvidia_cudnn_cu12-9.1.0.70-py3-none-manylinux2014_x86_64.whl (664.8 MB)\r\n",
      "\u001b[2K   \u001b[90m━━━━━━━━━━━━━━━━━━━━━━━━━━━━━━━━━━━━━━━━\u001b[0m \u001b[32m664.8/664.8 MB\u001b[0m \u001b[31m2.5 MB/s\u001b[0m eta \u001b[36m0:00:00\u001b[0m\r\n",
      "\u001b[?25hDownloading nvidia_cufft_cu12-11.2.1.3-py3-none-manylinux2014_x86_64.whl (211.5 MB)\r\n",
      "\u001b[2K   \u001b[90m━━━━━━━━━━━━━━━━━━━━━━━━━━━━━━━━━━━━━━━━\u001b[0m \u001b[32m211.5/211.5 MB\u001b[0m \u001b[31m6.2 MB/s\u001b[0m eta \u001b[36m0:00:00\u001b[0m\r\n",
      "\u001b[?25hDownloading nvidia_curand_cu12-10.3.5.147-py3-none-manylinux2014_x86_64.whl (56.3 MB)\r\n",
      "\u001b[2K   \u001b[90m━━━━━━━━━━━━━━━━━━━━━━━━━━━━━━━━━━━━━━━━\u001b[0m \u001b[32m56.3/56.3 MB\u001b[0m \u001b[31m31.3 MB/s\u001b[0m eta \u001b[36m0:00:00\u001b[0m\r\n",
      "\u001b[?25hDownloading nvidia_cusolver_cu12-11.6.1.9-py3-none-manylinux2014_x86_64.whl (127.9 MB)\r\n",
      "\u001b[2K   \u001b[90m━━━━━━━━━━━━━━━━━━━━━━━━━━━━━━━━━━━━━━━━\u001b[0m \u001b[32m127.9/127.9 MB\u001b[0m \u001b[31m13.7 MB/s\u001b[0m eta \u001b[36m0:00:00\u001b[0m\r\n",
      "\u001b[?25hDownloading nvidia_cusparse_cu12-12.3.1.170-py3-none-manylinux2014_x86_64.whl (207.5 MB)\r\n",
      "\u001b[2K   \u001b[90m━━━━━━━━━━━━━━━━━━━━━━━━━━━━━━━━━━━━━━━━\u001b[0m \u001b[32m207.5/207.5 MB\u001b[0m \u001b[31m1.9 MB/s\u001b[0m eta \u001b[36m0:00:00\u001b[0m\r\n",
      "\u001b[?25hDownloading nvidia_nvjitlink_cu12-12.4.127-py3-none-manylinux2014_x86_64.whl (21.1 MB)\r\n",
      "\u001b[2K   \u001b[90m━━━━━━━━━━━━━━━━━━━━━━━━━━━━━━━━━━━━━━━━\u001b[0m \u001b[32m21.1/21.1 MB\u001b[0m \u001b[31m18.8 MB/s\u001b[0m eta \u001b[36m0:00:00\u001b[0m\r\n",
      "\u001b[?25hInstalling collected packages: nvidia-nvjitlink-cu12, nvidia-curand-cu12, nvidia-cufft-cu12, nvidia-cuda-runtime-cu12, nvidia-cuda-nvrtc-cu12, nvidia-cuda-cupti-cu12, nvidia-cublas-cu12, fsspec, nvidia-cusparse-cu12, nvidia-cudnn-cu12, nvidia-cusolver-cu12, datasets, accelerate\r\n",
      "  Attempting uninstall: nvidia-nvjitlink-cu12\r\n",
      "    Found existing installation: nvidia-nvjitlink-cu12 12.5.82\r\n",
      "    Uninstalling nvidia-nvjitlink-cu12-12.5.82:\r\n",
      "      Successfully uninstalled nvidia-nvjitlink-cu12-12.5.82\r\n",
      "  Attempting uninstall: nvidia-curand-cu12\r\n",
      "    Found existing installation: nvidia-curand-cu12 10.3.6.82\r\n",
      "    Uninstalling nvidia-curand-cu12-10.3.6.82:\r\n",
      "      Successfully uninstalled nvidia-curand-cu12-10.3.6.82\r\n",
      "  Attempting uninstall: nvidia-cufft-cu12\r\n",
      "    Found existing installation: nvidia-cufft-cu12 11.2.3.61\r\n",
      "    Uninstalling nvidia-cufft-cu12-11.2.3.61:\r\n",
      "      Successfully uninstalled nvidia-cufft-cu12-11.2.3.61\r\n",
      "  Attempting uninstall: nvidia-cuda-runtime-cu12\r\n",
      "    Found existing installation: nvidia-cuda-runtime-cu12 12.5.82\r\n",
      "    Uninstalling nvidia-cuda-runtime-cu12-12.5.82:\r\n",
      "      Successfully uninstalled nvidia-cuda-runtime-cu12-12.5.82\r\n",
      "  Attempting uninstall: nvidia-cuda-nvrtc-cu12\r\n",
      "    Found existing installation: nvidia-cuda-nvrtc-cu12 12.5.82\r\n",
      "    Uninstalling nvidia-cuda-nvrtc-cu12-12.5.82:\r\n",
      "      Successfully uninstalled nvidia-cuda-nvrtc-cu12-12.5.82\r\n",
      "  Attempting uninstall: nvidia-cuda-cupti-cu12\r\n",
      "    Found existing installation: nvidia-cuda-cupti-cu12 12.5.82\r\n",
      "    Uninstalling nvidia-cuda-cupti-cu12-12.5.82:\r\n",
      "      Successfully uninstalled nvidia-cuda-cupti-cu12-12.5.82\r\n",
      "  Attempting uninstall: nvidia-cublas-cu12\r\n",
      "    Found existing installation: nvidia-cublas-cu12 12.5.3.2\r\n",
      "    Uninstalling nvidia-cublas-cu12-12.5.3.2:\r\n",
      "      Successfully uninstalled nvidia-cublas-cu12-12.5.3.2\r\n",
      "  Attempting uninstall: fsspec\r\n",
      "    Found existing installation: fsspec 2025.5.1\r\n",
      "    Uninstalling fsspec-2025.5.1:\r\n",
      "      Successfully uninstalled fsspec-2025.5.1\r\n",
      "  Attempting uninstall: nvidia-cusparse-cu12\r\n",
      "    Found existing installation: nvidia-cusparse-cu12 12.5.1.3\r\n",
      "    Uninstalling nvidia-cusparse-cu12-12.5.1.3:\r\n",
      "      Successfully uninstalled nvidia-cusparse-cu12-12.5.1.3\r\n",
      "  Attempting uninstall: nvidia-cudnn-cu12\r\n",
      "    Found existing installation: nvidia-cudnn-cu12 9.3.0.75\r\n",
      "    Uninstalling nvidia-cudnn-cu12-9.3.0.75:\r\n",
      "      Successfully uninstalled nvidia-cudnn-cu12-9.3.0.75\r\n",
      "  Attempting uninstall: nvidia-cusolver-cu12\r\n",
      "    Found existing installation: nvidia-cusolver-cu12 11.6.3.83\r\n",
      "    Uninstalling nvidia-cusolver-cu12-11.6.3.83:\r\n",
      "      Successfully uninstalled nvidia-cusolver-cu12-11.6.3.83\r\n",
      "  Attempting uninstall: datasets\r\n",
      "    Found existing installation: datasets 3.6.0\r\n",
      "    Uninstalling datasets-3.6.0:\r\n",
      "      Successfully uninstalled datasets-3.6.0\r\n",
      "  Attempting uninstall: accelerate\r\n",
      "    Found existing installation: accelerate 1.8.1\r\n",
      "    Uninstalling accelerate-1.8.1:\r\n",
      "      Successfully uninstalled accelerate-1.8.1\r\n",
      "\u001b[31mERROR: pip's dependency resolver does not currently take into account all the packages that are installed. This behaviour is the source of the following dependency conflicts.\r\n",
      "bigframes 2.8.0 requires google-cloud-bigquery-storage<3.0.0,>=2.30.0, which is not installed.\r\n",
      "cesium 0.12.4 requires numpy<3.0,>=2.0, but you have numpy 1.26.4 which is incompatible.\r\n",
      "gcsfs 2025.3.2 requires fsspec==2025.3.2, but you have fsspec 2025.3.0 which is incompatible.\r\n",
      "bigframes 2.8.0 requires google-cloud-bigquery[bqstorage,pandas]>=3.31.0, but you have google-cloud-bigquery 3.25.0 which is incompatible.\r\n",
      "bigframes 2.8.0 requires rich<14,>=12.4.4, but you have rich 14.0.0 which is incompatible.\u001b[0m\u001b[31m\r\n",
      "\u001b[0mSuccessfully installed accelerate-1.10.1 datasets-4.0.0 fsspec-2025.3.0 nvidia-cublas-cu12-12.4.5.8 nvidia-cuda-cupti-cu12-12.4.127 nvidia-cuda-nvrtc-cu12-12.4.127 nvidia-cuda-runtime-cu12-12.4.127 nvidia-cudnn-cu12-9.1.0.70 nvidia-cufft-cu12-11.2.1.3 nvidia-curand-cu12-10.3.5.147 nvidia-cusolver-cu12-11.6.1.9 nvidia-cusparse-cu12-12.3.1.170 nvidia-nvjitlink-cu12-12.4.127\r\n",
      "Requirement already satisfied: peft in /usr/local/lib/python3.11/dist-packages (0.15.2)\r\n",
      "Collecting peft\r\n",
      "  Downloading peft-0.17.1-py3-none-any.whl.metadata (14 kB)\r\n",
      "Collecting trl\r\n",
      "  Downloading trl-0.21.0-py3-none-any.whl.metadata (11 kB)\r\n",
      "Requirement already satisfied: numpy>=1.17 in /usr/local/lib/python3.11/dist-packages (from peft) (1.26.4)\r\n",
      "Requirement already satisfied: packaging>=20.0 in /usr/local/lib/python3.11/dist-packages (from peft) (25.0)\r\n",
      "Requirement already satisfied: psutil in /usr/local/lib/python3.11/dist-packages (from peft) (7.0.0)\r\n",
      "Requirement already satisfied: pyyaml in /usr/local/lib/python3.11/dist-packages (from peft) (6.0.2)\r\n",
      "Requirement already satisfied: torch>=1.13.0 in /usr/local/lib/python3.11/dist-packages (from peft) (2.6.0+cu124)\r\n",
      "Requirement already satisfied: transformers in /usr/local/lib/python3.11/dist-packages (from peft) (4.56.0.dev0)\r\n",
      "Requirement already satisfied: tqdm in /usr/local/lib/python3.11/dist-packages (from peft) (4.67.1)\r\n",
      "Requirement already satisfied: accelerate>=0.21.0 in /usr/local/lib/python3.11/dist-packages (from peft) (1.10.1)\r\n",
      "Requirement already satisfied: safetensors in /usr/local/lib/python3.11/dist-packages (from peft) (0.5.3)\r\n",
      "Requirement already satisfied: huggingface_hub>=0.25.0 in /usr/local/lib/python3.11/dist-packages (from peft) (0.34.4)\r\n",
      "Requirement already satisfied: datasets>=3.0.0 in /usr/local/lib/python3.11/dist-packages (from trl) (4.0.0)\r\n",
      "Requirement already satisfied: filelock in /usr/local/lib/python3.11/dist-packages (from datasets>=3.0.0->trl) (3.18.0)\r\n",
      "Requirement already satisfied: pyarrow>=15.0.0 in /usr/local/lib/python3.11/dist-packages (from datasets>=3.0.0->trl) (19.0.1)\r\n",
      "Requirement already satisfied: dill<0.3.9,>=0.3.0 in /usr/local/lib/python3.11/dist-packages (from datasets>=3.0.0->trl) (0.3.8)\r\n",
      "Requirement already satisfied: pandas in /usr/local/lib/python3.11/dist-packages (from datasets>=3.0.0->trl) (2.2.3)\r\n",
      "Requirement already satisfied: requests>=2.32.2 in /usr/local/lib/python3.11/dist-packages (from datasets>=3.0.0->trl) (2.32.4)\r\n",
      "Requirement already satisfied: xxhash in /usr/local/lib/python3.11/dist-packages (from datasets>=3.0.0->trl) (3.5.0)\r\n",
      "Requirement already satisfied: multiprocess<0.70.17 in /usr/local/lib/python3.11/dist-packages (from datasets>=3.0.0->trl) (0.70.16)\r\n",
      "Requirement already satisfied: fsspec<=2025.3.0,>=2023.1.0 in /usr/local/lib/python3.11/dist-packages (from fsspec[http]<=2025.3.0,>=2023.1.0->datasets>=3.0.0->trl) (2025.3.0)\r\n",
      "Requirement already satisfied: typing-extensions>=3.7.4.3 in /usr/local/lib/python3.11/dist-packages (from huggingface_hub>=0.25.0->peft) (4.14.0)\r\n",
      "Requirement already satisfied: hf-xet<2.0.0,>=1.1.3 in /usr/local/lib/python3.11/dist-packages (from huggingface_hub>=0.25.0->peft) (1.1.5)\r\n",
      "Requirement already satisfied: mkl_fft in /usr/local/lib/python3.11/dist-packages (from numpy>=1.17->peft) (1.3.8)\r\n",
      "Requirement already satisfied: mkl_random in /usr/local/lib/python3.11/dist-packages (from numpy>=1.17->peft) (1.2.4)\r\n",
      "Requirement already satisfied: mkl_umath in /usr/local/lib/python3.11/dist-packages (from numpy>=1.17->peft) (0.1.1)\r\n",
      "Requirement already satisfied: mkl in /usr/local/lib/python3.11/dist-packages (from numpy>=1.17->peft) (2025.2.0)\r\n",
      "Requirement already satisfied: tbb4py in /usr/local/lib/python3.11/dist-packages (from numpy>=1.17->peft) (2022.2.0)\r\n",
      "Requirement already satisfied: mkl-service in /usr/local/lib/python3.11/dist-packages (from numpy>=1.17->peft) (2.4.1)\r\n",
      "Requirement already satisfied: networkx in /usr/local/lib/python3.11/dist-packages (from torch>=1.13.0->peft) (3.5)\r\n",
      "Requirement already satisfied: jinja2 in /usr/local/lib/python3.11/dist-packages (from torch>=1.13.0->peft) (3.1.6)\r\n",
      "Requirement already satisfied: nvidia-cuda-nvrtc-cu12==12.4.127 in /usr/local/lib/python3.11/dist-packages (from torch>=1.13.0->peft) (12.4.127)\r\n",
      "Requirement already satisfied: nvidia-cuda-runtime-cu12==12.4.127 in /usr/local/lib/python3.11/dist-packages (from torch>=1.13.0->peft) (12.4.127)\r\n",
      "Requirement already satisfied: nvidia-cuda-cupti-cu12==12.4.127 in /usr/local/lib/python3.11/dist-packages (from torch>=1.13.0->peft) (12.4.127)\r\n",
      "Requirement already satisfied: nvidia-cudnn-cu12==9.1.0.70 in /usr/local/lib/python3.11/dist-packages (from torch>=1.13.0->peft) (9.1.0.70)\r\n",
      "Requirement already satisfied: nvidia-cublas-cu12==12.4.5.8 in /usr/local/lib/python3.11/dist-packages (from torch>=1.13.0->peft) (12.4.5.8)\r\n",
      "Requirement already satisfied: nvidia-cufft-cu12==11.2.1.3 in /usr/local/lib/python3.11/dist-packages (from torch>=1.13.0->peft) (11.2.1.3)\r\n",
      "Requirement already satisfied: nvidia-curand-cu12==10.3.5.147 in /usr/local/lib/python3.11/dist-packages (from torch>=1.13.0->peft) (10.3.5.147)\r\n",
      "Requirement already satisfied: nvidia-cusolver-cu12==11.6.1.9 in /usr/local/lib/python3.11/dist-packages (from torch>=1.13.0->peft) (11.6.1.9)\r\n",
      "Requirement already satisfied: nvidia-cusparse-cu12==12.3.1.170 in /usr/local/lib/python3.11/dist-packages (from torch>=1.13.0->peft) (12.3.1.170)\r\n",
      "Requirement already satisfied: nvidia-cusparselt-cu12==0.6.2 in /usr/local/lib/python3.11/dist-packages (from torch>=1.13.0->peft) (0.6.2)\r\n",
      "Requirement already satisfied: nvidia-nccl-cu12==2.21.5 in /usr/local/lib/python3.11/dist-packages (from torch>=1.13.0->peft) (2.21.5)\r\n",
      "Requirement already satisfied: nvidia-nvtx-cu12==12.4.127 in /usr/local/lib/python3.11/dist-packages (from torch>=1.13.0->peft) (12.4.127)\r\n",
      "Requirement already satisfied: nvidia-nvjitlink-cu12==12.4.127 in /usr/local/lib/python3.11/dist-packages (from torch>=1.13.0->peft) (12.4.127)\r\n",
      "Requirement already satisfied: triton==3.2.0 in /usr/local/lib/python3.11/dist-packages (from torch>=1.13.0->peft) (3.2.0)\r\n",
      "Requirement already satisfied: sympy==1.13.1 in /usr/local/lib/python3.11/dist-packages (from torch>=1.13.0->peft) (1.13.1)\r\n",
      "Requirement already satisfied: mpmath<1.4,>=1.1.0 in /usr/local/lib/python3.11/dist-packages (from sympy==1.13.1->torch>=1.13.0->peft) (1.3.0)\r\n",
      "Requirement already satisfied: regex!=2019.12.17 in /usr/local/lib/python3.11/dist-packages (from transformers->peft) (2024.11.6)\r\n",
      "Requirement already satisfied: tokenizers<0.22,>=0.21 in /usr/local/lib/python3.11/dist-packages (from transformers->peft) (0.21.2)\r\n",
      "Requirement already satisfied: aiohttp!=4.0.0a0,!=4.0.0a1 in /usr/local/lib/python3.11/dist-packages (from fsspec[http]<=2025.3.0,>=2023.1.0->datasets>=3.0.0->trl) (3.12.13)\r\n",
      "Requirement already satisfied: charset_normalizer<4,>=2 in /usr/local/lib/python3.11/dist-packages (from requests>=2.32.2->datasets>=3.0.0->trl) (3.4.2)\r\n",
      "Requirement already satisfied: idna<4,>=2.5 in /usr/local/lib/python3.11/dist-packages (from requests>=2.32.2->datasets>=3.0.0->trl) (3.10)\r\n",
      "Requirement already satisfied: urllib3<3,>=1.21.1 in /usr/local/lib/python3.11/dist-packages (from requests>=2.32.2->datasets>=3.0.0->trl) (2.5.0)\r\n",
      "Requirement already satisfied: certifi>=2017.4.17 in /usr/local/lib/python3.11/dist-packages (from requests>=2.32.2->datasets>=3.0.0->trl) (2025.6.15)\r\n",
      "Requirement already satisfied: MarkupSafe>=2.0 in /usr/local/lib/python3.11/dist-packages (from jinja2->torch>=1.13.0->peft) (3.0.2)\r\n",
      "Requirement already satisfied: intel-openmp<2026,>=2024 in /usr/local/lib/python3.11/dist-packages (from mkl->numpy>=1.17->peft) (2024.2.0)\r\n",
      "Requirement already satisfied: tbb==2022.* in /usr/local/lib/python3.11/dist-packages (from mkl->numpy>=1.17->peft) (2022.2.0)\r\n",
      "Requirement already satisfied: tcmlib==1.* in /usr/local/lib/python3.11/dist-packages (from tbb==2022.*->mkl->numpy>=1.17->peft) (1.4.0)\r\n",
      "Requirement already satisfied: intel-cmplr-lib-rt in /usr/local/lib/python3.11/dist-packages (from mkl_umath->numpy>=1.17->peft) (2024.2.0)\r\n",
      "Requirement already satisfied: python-dateutil>=2.8.2 in /usr/local/lib/python3.11/dist-packages (from pandas->datasets>=3.0.0->trl) (2.9.0.post0)\r\n",
      "Requirement already satisfied: pytz>=2020.1 in /usr/local/lib/python3.11/dist-packages (from pandas->datasets>=3.0.0->trl) (2025.2)\r\n",
      "Requirement already satisfied: tzdata>=2022.7 in /usr/local/lib/python3.11/dist-packages (from pandas->datasets>=3.0.0->trl) (2025.2)\r\n",
      "Requirement already satisfied: aiohappyeyeballs>=2.5.0 in /usr/local/lib/python3.11/dist-packages (from aiohttp!=4.0.0a0,!=4.0.0a1->fsspec[http]<=2025.3.0,>=2023.1.0->datasets>=3.0.0->trl) (2.6.1)\r\n",
      "Requirement already satisfied: aiosignal>=1.1.2 in /usr/local/lib/python3.11/dist-packages (from aiohttp!=4.0.0a0,!=4.0.0a1->fsspec[http]<=2025.3.0,>=2023.1.0->datasets>=3.0.0->trl) (1.3.2)\r\n",
      "Requirement already satisfied: attrs>=17.3.0 in /usr/local/lib/python3.11/dist-packages (from aiohttp!=4.0.0a0,!=4.0.0a1->fsspec[http]<=2025.3.0,>=2023.1.0->datasets>=3.0.0->trl) (25.3.0)\r\n",
      "Requirement already satisfied: frozenlist>=1.1.1 in /usr/local/lib/python3.11/dist-packages (from aiohttp!=4.0.0a0,!=4.0.0a1->fsspec[http]<=2025.3.0,>=2023.1.0->datasets>=3.0.0->trl) (1.7.0)\r\n",
      "Requirement already satisfied: multidict<7.0,>=4.5 in /usr/local/lib/python3.11/dist-packages (from aiohttp!=4.0.0a0,!=4.0.0a1->fsspec[http]<=2025.3.0,>=2023.1.0->datasets>=3.0.0->trl) (6.6.3)\r\n",
      "Requirement already satisfied: propcache>=0.2.0 in /usr/local/lib/python3.11/dist-packages (from aiohttp!=4.0.0a0,!=4.0.0a1->fsspec[http]<=2025.3.0,>=2023.1.0->datasets>=3.0.0->trl) (0.3.2)\r\n",
      "Requirement already satisfied: yarl<2.0,>=1.17.0 in /usr/local/lib/python3.11/dist-packages (from aiohttp!=4.0.0a0,!=4.0.0a1->fsspec[http]<=2025.3.0,>=2023.1.0->datasets>=3.0.0->trl) (1.20.1)\r\n",
      "Requirement already satisfied: intel-cmplr-lib-ur==2024.2.0 in /usr/local/lib/python3.11/dist-packages (from intel-openmp<2026,>=2024->mkl->numpy>=1.17->peft) (2024.2.0)\r\n",
      "Requirement already satisfied: six>=1.5 in /usr/local/lib/python3.11/dist-packages (from python-dateutil>=2.8.2->pandas->datasets>=3.0.0->trl) (1.17.0)\r\n",
      "Downloading peft-0.17.1-py3-none-any.whl (504 kB)\r\n",
      "\u001b[2K   \u001b[90m━━━━━━━━━━━━━━━━━━━━━━━━━━━━━━━━━━━━━━━━\u001b[0m \u001b[32m504.9/504.9 kB\u001b[0m \u001b[31m10.3 MB/s\u001b[0m eta \u001b[36m0:00:00\u001b[0m\r\n",
      "\u001b[?25hDownloading trl-0.21.0-py3-none-any.whl (511 kB)\r\n",
      "\u001b[2K   \u001b[90m━━━━━━━━━━━━━━━━━━━━━━━━━━━━━━━━━━━━━━━━\u001b[0m \u001b[32m511.9/511.9 kB\u001b[0m \u001b[31m32.6 MB/s\u001b[0m eta \u001b[36m0:00:00\u001b[0m\r\n",
      "\u001b[?25hInstalling collected packages: trl, peft\r\n",
      "  Attempting uninstall: peft\r\n",
      "    Found existing installation: peft 0.15.2\r\n",
      "    Uninstalling peft-0.15.2:\r\n",
      "      Successfully uninstalled peft-0.15.2\r\n",
      "Successfully installed peft-0.17.1 trl-0.21.0\r\n",
      "Collecting langchain==0.3.27\r\n",
      "  Downloading langchain-0.3.27-py3-none-any.whl.metadata (7.8 kB)\r\n",
      "Collecting langchain-core<1.0.0,>=0.3.72 (from langchain==0.3.27)\r\n",
      "  Downloading langchain_core-0.3.74-py3-none-any.whl.metadata (5.8 kB)\r\n",
      "Collecting langchain-text-splitters<1.0.0,>=0.3.9 (from langchain==0.3.27)\r\n",
      "  Downloading langchain_text_splitters-0.3.9-py3-none-any.whl.metadata (1.9 kB)\r\n",
      "Requirement already satisfied: langsmith>=0.1.17 in /usr/local/lib/python3.11/dist-packages (from langchain==0.3.27) (0.4.1)\r\n",
      "Requirement already satisfied: pydantic<3.0.0,>=2.7.4 in /usr/local/lib/python3.11/dist-packages (from langchain==0.3.27) (2.11.7)\r\n",
      "Requirement already satisfied: SQLAlchemy<3,>=1.4 in /usr/local/lib/python3.11/dist-packages (from langchain==0.3.27) (2.0.41)\r\n",
      "Requirement already satisfied: requests<3,>=2 in /usr/local/lib/python3.11/dist-packages (from langchain==0.3.27) (2.32.4)\r\n",
      "Requirement already satisfied: PyYAML>=5.3 in /usr/local/lib/python3.11/dist-packages (from langchain==0.3.27) (6.0.2)\r\n",
      "Requirement already satisfied: tenacity!=8.4.0,<10.0.0,>=8.1.0 in /usr/local/lib/python3.11/dist-packages (from langchain-core<1.0.0,>=0.3.72->langchain==0.3.27) (8.5.0)\r\n",
      "Requirement already satisfied: jsonpatch<2.0,>=1.33 in /usr/local/lib/python3.11/dist-packages (from langchain-core<1.0.0,>=0.3.72->langchain==0.3.27) (1.33)\r\n",
      "Requirement already satisfied: typing-extensions>=4.7 in /usr/local/lib/python3.11/dist-packages (from langchain-core<1.0.0,>=0.3.72->langchain==0.3.27) (4.14.0)\r\n",
      "Requirement already satisfied: packaging>=23.2 in /usr/local/lib/python3.11/dist-packages (from langchain-core<1.0.0,>=0.3.72->langchain==0.3.27) (25.0)\r\n",
      "Requirement already satisfied: httpx<1,>=0.23.0 in /usr/local/lib/python3.11/dist-packages (from langsmith>=0.1.17->langchain==0.3.27) (0.28.1)\r\n",
      "Requirement already satisfied: orjson<4.0.0,>=3.9.14 in /usr/local/lib/python3.11/dist-packages (from langsmith>=0.1.17->langchain==0.3.27) (3.10.18)\r\n",
      "Requirement already satisfied: requests-toolbelt<2.0.0,>=1.0.0 in /usr/local/lib/python3.11/dist-packages (from langsmith>=0.1.17->langchain==0.3.27) (1.0.0)\r\n",
      "Requirement already satisfied: zstandard<0.24.0,>=0.23.0 in /usr/local/lib/python3.11/dist-packages (from langsmith>=0.1.17->langchain==0.3.27) (0.23.0)\r\n",
      "Requirement already satisfied: annotated-types>=0.6.0 in /usr/local/lib/python3.11/dist-packages (from pydantic<3.0.0,>=2.7.4->langchain==0.3.27) (0.7.0)\r\n",
      "Requirement already satisfied: pydantic-core==2.33.2 in /usr/local/lib/python3.11/dist-packages (from pydantic<3.0.0,>=2.7.4->langchain==0.3.27) (2.33.2)\r\n",
      "Requirement already satisfied: typing-inspection>=0.4.0 in /usr/local/lib/python3.11/dist-packages (from pydantic<3.0.0,>=2.7.4->langchain==0.3.27) (0.4.1)\r\n",
      "Requirement already satisfied: charset_normalizer<4,>=2 in /usr/local/lib/python3.11/dist-packages (from requests<3,>=2->langchain==0.3.27) (3.4.2)\r\n",
      "Requirement already satisfied: idna<4,>=2.5 in /usr/local/lib/python3.11/dist-packages (from requests<3,>=2->langchain==0.3.27) (3.10)\r\n",
      "Requirement already satisfied: urllib3<3,>=1.21.1 in /usr/local/lib/python3.11/dist-packages (from requests<3,>=2->langchain==0.3.27) (2.5.0)\r\n",
      "Requirement already satisfied: certifi>=2017.4.17 in /usr/local/lib/python3.11/dist-packages (from requests<3,>=2->langchain==0.3.27) (2025.6.15)\r\n",
      "Requirement already satisfied: greenlet>=1 in /usr/local/lib/python3.11/dist-packages (from SQLAlchemy<3,>=1.4->langchain==0.3.27) (3.2.3)\r\n",
      "Requirement already satisfied: anyio in /usr/local/lib/python3.11/dist-packages (from httpx<1,>=0.23.0->langsmith>=0.1.17->langchain==0.3.27) (4.9.0)\r\n",
      "Requirement already satisfied: httpcore==1.* in /usr/local/lib/python3.11/dist-packages (from httpx<1,>=0.23.0->langsmith>=0.1.17->langchain==0.3.27) (1.0.9)\r\n",
      "Requirement already satisfied: h11>=0.16 in /usr/local/lib/python3.11/dist-packages (from httpcore==1.*->httpx<1,>=0.23.0->langsmith>=0.1.17->langchain==0.3.27) (0.16.0)\r\n",
      "Requirement already satisfied: jsonpointer>=1.9 in /usr/local/lib/python3.11/dist-packages (from jsonpatch<2.0,>=1.33->langchain-core<1.0.0,>=0.3.72->langchain==0.3.27) (3.0.0)\r\n",
      "Requirement already satisfied: sniffio>=1.1 in /usr/local/lib/python3.11/dist-packages (from anyio->httpx<1,>=0.23.0->langsmith>=0.1.17->langchain==0.3.27) (1.3.1)\r\n",
      "Downloading langchain-0.3.27-py3-none-any.whl (1.0 MB)\r\n",
      "\u001b[2K   \u001b[90m━━━━━━━━━━━━━━━━━━━━━━━━━━━━━━━━━━━━━━━━\u001b[0m \u001b[32m1.0/1.0 MB\u001b[0m \u001b[31m16.1 MB/s\u001b[0m eta \u001b[36m0:00:00\u001b[0m\r\n",
      "\u001b[?25hDownloading langchain_core-0.3.74-py3-none-any.whl (443 kB)\r\n",
      "\u001b[2K   \u001b[90m━━━━━━━━━━━━━━━━━━━━━━━━━━━━━━━━━━━━━━━━\u001b[0m \u001b[32m443.5/443.5 kB\u001b[0m \u001b[31m30.6 MB/s\u001b[0m eta \u001b[36m0:00:00\u001b[0m\r\n",
      "\u001b[?25hDownloading langchain_text_splitters-0.3.9-py3-none-any.whl (33 kB)\r\n",
      "Installing collected packages: langchain-core, langchain-text-splitters, langchain\r\n",
      "  Attempting uninstall: langchain-core\r\n",
      "    Found existing installation: langchain-core 0.3.66\r\n",
      "    Uninstalling langchain-core-0.3.66:\r\n",
      "      Successfully uninstalled langchain-core-0.3.66\r\n",
      "  Attempting uninstall: langchain-text-splitters\r\n",
      "    Found existing installation: langchain-text-splitters 0.3.8\r\n",
      "    Uninstalling langchain-text-splitters-0.3.8:\r\n",
      "      Successfully uninstalled langchain-text-splitters-0.3.8\r\n",
      "  Attempting uninstall: langchain\r\n",
      "    Found existing installation: langchain 0.3.26\r\n",
      "    Uninstalling langchain-0.3.26:\r\n",
      "      Successfully uninstalled langchain-0.3.26\r\n",
      "Successfully installed langchain-0.3.27 langchain-core-0.3.74 langchain-text-splitters-0.3.9\r\n",
      "Requirement already satisfied: langchain-core==0.3.74 in /usr/local/lib/python3.11/dist-packages (0.3.74)\r\n",
      "Requirement already satisfied: langsmith>=0.3.45 in /usr/local/lib/python3.11/dist-packages (from langchain-core==0.3.74) (0.4.1)\r\n",
      "Requirement already satisfied: tenacity!=8.4.0,<10.0.0,>=8.1.0 in /usr/local/lib/python3.11/dist-packages (from langchain-core==0.3.74) (8.5.0)\r\n",
      "Requirement already satisfied: jsonpatch<2.0,>=1.33 in /usr/local/lib/python3.11/dist-packages (from langchain-core==0.3.74) (1.33)\r\n",
      "Requirement already satisfied: PyYAML>=5.3 in /usr/local/lib/python3.11/dist-packages (from langchain-core==0.3.74) (6.0.2)\r\n",
      "Requirement already satisfied: typing-extensions>=4.7 in /usr/local/lib/python3.11/dist-packages (from langchain-core==0.3.74) (4.14.0)\r\n",
      "Requirement already satisfied: packaging>=23.2 in /usr/local/lib/python3.11/dist-packages (from langchain-core==0.3.74) (25.0)\r\n",
      "Requirement already satisfied: pydantic>=2.7.4 in /usr/local/lib/python3.11/dist-packages (from langchain-core==0.3.74) (2.11.7)\r\n",
      "Requirement already satisfied: jsonpointer>=1.9 in /usr/local/lib/python3.11/dist-packages (from jsonpatch<2.0,>=1.33->langchain-core==0.3.74) (3.0.0)\r\n",
      "Requirement already satisfied: httpx<1,>=0.23.0 in /usr/local/lib/python3.11/dist-packages (from langsmith>=0.3.45->langchain-core==0.3.74) (0.28.1)\r\n",
      "Requirement already satisfied: orjson<4.0.0,>=3.9.14 in /usr/local/lib/python3.11/dist-packages (from langsmith>=0.3.45->langchain-core==0.3.74) (3.10.18)\r\n",
      "Requirement already satisfied: requests<3,>=2 in /usr/local/lib/python3.11/dist-packages (from langsmith>=0.3.45->langchain-core==0.3.74) (2.32.4)\r\n",
      "Requirement already satisfied: requests-toolbelt<2.0.0,>=1.0.0 in /usr/local/lib/python3.11/dist-packages (from langsmith>=0.3.45->langchain-core==0.3.74) (1.0.0)\r\n",
      "Requirement already satisfied: zstandard<0.24.0,>=0.23.0 in /usr/local/lib/python3.11/dist-packages (from langsmith>=0.3.45->langchain-core==0.3.74) (0.23.0)\r\n",
      "Requirement already satisfied: annotated-types>=0.6.0 in /usr/local/lib/python3.11/dist-packages (from pydantic>=2.7.4->langchain-core==0.3.74) (0.7.0)\r\n",
      "Requirement already satisfied: pydantic-core==2.33.2 in /usr/local/lib/python3.11/dist-packages (from pydantic>=2.7.4->langchain-core==0.3.74) (2.33.2)\r\n",
      "Requirement already satisfied: typing-inspection>=0.4.0 in /usr/local/lib/python3.11/dist-packages (from pydantic>=2.7.4->langchain-core==0.3.74) (0.4.1)\r\n",
      "Requirement already satisfied: anyio in /usr/local/lib/python3.11/dist-packages (from httpx<1,>=0.23.0->langsmith>=0.3.45->langchain-core==0.3.74) (4.9.0)\r\n",
      "Requirement already satisfied: certifi in /usr/local/lib/python3.11/dist-packages (from httpx<1,>=0.23.0->langsmith>=0.3.45->langchain-core==0.3.74) (2025.6.15)\r\n",
      "Requirement already satisfied: httpcore==1.* in /usr/local/lib/python3.11/dist-packages (from httpx<1,>=0.23.0->langsmith>=0.3.45->langchain-core==0.3.74) (1.0.9)\r\n",
      "Requirement already satisfied: idna in /usr/local/lib/python3.11/dist-packages (from httpx<1,>=0.23.0->langsmith>=0.3.45->langchain-core==0.3.74) (3.10)\r\n",
      "Requirement already satisfied: h11>=0.16 in /usr/local/lib/python3.11/dist-packages (from httpcore==1.*->httpx<1,>=0.23.0->langsmith>=0.3.45->langchain-core==0.3.74) (0.16.0)\r\n",
      "Requirement already satisfied: charset_normalizer<4,>=2 in /usr/local/lib/python3.11/dist-packages (from requests<3,>=2->langsmith>=0.3.45->langchain-core==0.3.74) (3.4.2)\r\n",
      "Requirement already satisfied: urllib3<3,>=1.21.1 in /usr/local/lib/python3.11/dist-packages (from requests<3,>=2->langsmith>=0.3.45->langchain-core==0.3.74) (2.5.0)\r\n",
      "Requirement already satisfied: sniffio>=1.1 in /usr/local/lib/python3.11/dist-packages (from anyio->httpx<1,>=0.23.0->langsmith>=0.3.45->langchain-core==0.3.74) (1.3.1)\r\n",
      "Requirement already satisfied: langchain-text-splitters==0.3.9 in /usr/local/lib/python3.11/dist-packages (0.3.9)\r\n",
      "Requirement already satisfied: langchain-core<1.0.0,>=0.3.72 in /usr/local/lib/python3.11/dist-packages (from langchain-text-splitters==0.3.9) (0.3.74)\r\n",
      "Requirement already satisfied: langsmith>=0.3.45 in /usr/local/lib/python3.11/dist-packages (from langchain-core<1.0.0,>=0.3.72->langchain-text-splitters==0.3.9) (0.4.1)\r\n",
      "Requirement already satisfied: tenacity!=8.4.0,<10.0.0,>=8.1.0 in /usr/local/lib/python3.11/dist-packages (from langchain-core<1.0.0,>=0.3.72->langchain-text-splitters==0.3.9) (8.5.0)\r\n",
      "Requirement already satisfied: jsonpatch<2.0,>=1.33 in /usr/local/lib/python3.11/dist-packages (from langchain-core<1.0.0,>=0.3.72->langchain-text-splitters==0.3.9) (1.33)\r\n",
      "Requirement already satisfied: PyYAML>=5.3 in /usr/local/lib/python3.11/dist-packages (from langchain-core<1.0.0,>=0.3.72->langchain-text-splitters==0.3.9) (6.0.2)\r\n",
      "Requirement already satisfied: typing-extensions>=4.7 in /usr/local/lib/python3.11/dist-packages (from langchain-core<1.0.0,>=0.3.72->langchain-text-splitters==0.3.9) (4.14.0)\r\n",
      "Requirement already satisfied: packaging>=23.2 in /usr/local/lib/python3.11/dist-packages (from langchain-core<1.0.0,>=0.3.72->langchain-text-splitters==0.3.9) (25.0)\r\n",
      "Requirement already satisfied: pydantic>=2.7.4 in /usr/local/lib/python3.11/dist-packages (from langchain-core<1.0.0,>=0.3.72->langchain-text-splitters==0.3.9) (2.11.7)\r\n",
      "Requirement already satisfied: jsonpointer>=1.9 in /usr/local/lib/python3.11/dist-packages (from jsonpatch<2.0,>=1.33->langchain-core<1.0.0,>=0.3.72->langchain-text-splitters==0.3.9) (3.0.0)\r\n",
      "Requirement already satisfied: httpx<1,>=0.23.0 in /usr/local/lib/python3.11/dist-packages (from langsmith>=0.3.45->langchain-core<1.0.0,>=0.3.72->langchain-text-splitters==0.3.9) (0.28.1)\r\n",
      "Requirement already satisfied: orjson<4.0.0,>=3.9.14 in /usr/local/lib/python3.11/dist-packages (from langsmith>=0.3.45->langchain-core<1.0.0,>=0.3.72->langchain-text-splitters==0.3.9) (3.10.18)\r\n",
      "Requirement already satisfied: requests<3,>=2 in /usr/local/lib/python3.11/dist-packages (from langsmith>=0.3.45->langchain-core<1.0.0,>=0.3.72->langchain-text-splitters==0.3.9) (2.32.4)\r\n",
      "Requirement already satisfied: requests-toolbelt<2.0.0,>=1.0.0 in /usr/local/lib/python3.11/dist-packages (from langsmith>=0.3.45->langchain-core<1.0.0,>=0.3.72->langchain-text-splitters==0.3.9) (1.0.0)\r\n",
      "Requirement already satisfied: zstandard<0.24.0,>=0.23.0 in /usr/local/lib/python3.11/dist-packages (from langsmith>=0.3.45->langchain-core<1.0.0,>=0.3.72->langchain-text-splitters==0.3.9) (0.23.0)\r\n",
      "Requirement already satisfied: annotated-types>=0.6.0 in /usr/local/lib/python3.11/dist-packages (from pydantic>=2.7.4->langchain-core<1.0.0,>=0.3.72->langchain-text-splitters==0.3.9) (0.7.0)\r\n",
      "Requirement already satisfied: pydantic-core==2.33.2 in /usr/local/lib/python3.11/dist-packages (from pydantic>=2.7.4->langchain-core<1.0.0,>=0.3.72->langchain-text-splitters==0.3.9) (2.33.2)\r\n",
      "Requirement already satisfied: typing-inspection>=0.4.0 in /usr/local/lib/python3.11/dist-packages (from pydantic>=2.7.4->langchain-core<1.0.0,>=0.3.72->langchain-text-splitters==0.3.9) (0.4.1)\r\n",
      "Requirement already satisfied: anyio in /usr/local/lib/python3.11/dist-packages (from httpx<1,>=0.23.0->langsmith>=0.3.45->langchain-core<1.0.0,>=0.3.72->langchain-text-splitters==0.3.9) (4.9.0)\r\n",
      "Requirement already satisfied: certifi in /usr/local/lib/python3.11/dist-packages (from httpx<1,>=0.23.0->langsmith>=0.3.45->langchain-core<1.0.0,>=0.3.72->langchain-text-splitters==0.3.9) (2025.6.15)\r\n",
      "Requirement already satisfied: httpcore==1.* in /usr/local/lib/python3.11/dist-packages (from httpx<1,>=0.23.0->langsmith>=0.3.45->langchain-core<1.0.0,>=0.3.72->langchain-text-splitters==0.3.9) (1.0.9)\r\n",
      "Requirement already satisfied: idna in /usr/local/lib/python3.11/dist-packages (from httpx<1,>=0.23.0->langsmith>=0.3.45->langchain-core<1.0.0,>=0.3.72->langchain-text-splitters==0.3.9) (3.10)\r\n",
      "Requirement already satisfied: h11>=0.16 in /usr/local/lib/python3.11/dist-packages (from httpcore==1.*->httpx<1,>=0.23.0->langsmith>=0.3.45->langchain-core<1.0.0,>=0.3.72->langchain-text-splitters==0.3.9) (0.16.0)\r\n",
      "Requirement already satisfied: charset_normalizer<4,>=2 in /usr/local/lib/python3.11/dist-packages (from requests<3,>=2->langsmith>=0.3.45->langchain-core<1.0.0,>=0.3.72->langchain-text-splitters==0.3.9) (3.4.2)\r\n",
      "Requirement already satisfied: urllib3<3,>=1.21.1 in /usr/local/lib/python3.11/dist-packages (from requests<3,>=2->langsmith>=0.3.45->langchain-core<1.0.0,>=0.3.72->langchain-text-splitters==0.3.9) (2.5.0)\r\n",
      "Requirement already satisfied: sniffio>=1.1 in /usr/local/lib/python3.11/dist-packages (from anyio->httpx<1,>=0.23.0->langsmith>=0.3.45->langchain-core<1.0.0,>=0.3.72->langchain-text-splitters==0.3.9) (1.3.1)\r\n",
      "Collecting langchain-community==0.3.27\r\n",
      "  Downloading langchain_community-0.3.27-py3-none-any.whl.metadata (2.9 kB)\r\n",
      "Requirement already satisfied: langchain-core<1.0.0,>=0.3.66 in /usr/local/lib/python3.11/dist-packages (from langchain-community==0.3.27) (0.3.74)\r\n",
      "Requirement already satisfied: langchain<1.0.0,>=0.3.26 in /usr/local/lib/python3.11/dist-packages (from langchain-community==0.3.27) (0.3.27)\r\n",
      "Requirement already satisfied: SQLAlchemy<3,>=1.4 in /usr/local/lib/python3.11/dist-packages (from langchain-community==0.3.27) (2.0.41)\r\n",
      "Requirement already satisfied: requests<3,>=2 in /usr/local/lib/python3.11/dist-packages (from langchain-community==0.3.27) (2.32.4)\r\n",
      "Requirement already satisfied: PyYAML>=5.3 in /usr/local/lib/python3.11/dist-packages (from langchain-community==0.3.27) (6.0.2)\r\n",
      "Requirement already satisfied: aiohttp<4.0.0,>=3.8.3 in /usr/local/lib/python3.11/dist-packages (from langchain-community==0.3.27) (3.12.13)\r\n",
      "Requirement already satisfied: tenacity!=8.4.0,<10,>=8.1.0 in /usr/local/lib/python3.11/dist-packages (from langchain-community==0.3.27) (8.5.0)\r\n",
      "Requirement already satisfied: dataclasses-json<0.7,>=0.5.7 in /usr/local/lib/python3.11/dist-packages (from langchain-community==0.3.27) (0.6.7)\r\n",
      "Collecting pydantic-settings<3.0.0,>=2.4.0 (from langchain-community==0.3.27)\r\n",
      "  Downloading pydantic_settings-2.10.1-py3-none-any.whl.metadata (3.4 kB)\r\n",
      "Requirement already satisfied: langsmith>=0.1.125 in /usr/local/lib/python3.11/dist-packages (from langchain-community==0.3.27) (0.4.1)\r\n",
      "Collecting httpx-sse<1.0.0,>=0.4.0 (from langchain-community==0.3.27)\r\n",
      "  Downloading httpx_sse-0.4.1-py3-none-any.whl.metadata (9.4 kB)\r\n",
      "Requirement already satisfied: numpy>=1.26.2 in /usr/local/lib/python3.11/dist-packages (from langchain-community==0.3.27) (1.26.4)\r\n",
      "Requirement already satisfied: aiohappyeyeballs>=2.5.0 in /usr/local/lib/python3.11/dist-packages (from aiohttp<4.0.0,>=3.8.3->langchain-community==0.3.27) (2.6.1)\r\n",
      "Requirement already satisfied: aiosignal>=1.1.2 in /usr/local/lib/python3.11/dist-packages (from aiohttp<4.0.0,>=3.8.3->langchain-community==0.3.27) (1.3.2)\r\n",
      "Requirement already satisfied: attrs>=17.3.0 in /usr/local/lib/python3.11/dist-packages (from aiohttp<4.0.0,>=3.8.3->langchain-community==0.3.27) (25.3.0)\r\n",
      "Requirement already satisfied: frozenlist>=1.1.1 in /usr/local/lib/python3.11/dist-packages (from aiohttp<4.0.0,>=3.8.3->langchain-community==0.3.27) (1.7.0)\r\n",
      "Requirement already satisfied: multidict<7.0,>=4.5 in /usr/local/lib/python3.11/dist-packages (from aiohttp<4.0.0,>=3.8.3->langchain-community==0.3.27) (6.6.3)\r\n",
      "Requirement already satisfied: propcache>=0.2.0 in /usr/local/lib/python3.11/dist-packages (from aiohttp<4.0.0,>=3.8.3->langchain-community==0.3.27) (0.3.2)\r\n",
      "Requirement already satisfied: yarl<2.0,>=1.17.0 in /usr/local/lib/python3.11/dist-packages (from aiohttp<4.0.0,>=3.8.3->langchain-community==0.3.27) (1.20.1)\r\n",
      "Requirement already satisfied: marshmallow<4.0.0,>=3.18.0 in /usr/local/lib/python3.11/dist-packages (from dataclasses-json<0.7,>=0.5.7->langchain-community==0.3.27) (3.26.1)\r\n",
      "Requirement already satisfied: typing-inspect<1,>=0.4.0 in /usr/local/lib/python3.11/dist-packages (from dataclasses-json<0.7,>=0.5.7->langchain-community==0.3.27) (0.9.0)\r\n",
      "Requirement already satisfied: langchain-text-splitters<1.0.0,>=0.3.9 in /usr/local/lib/python3.11/dist-packages (from langchain<1.0.0,>=0.3.26->langchain-community==0.3.27) (0.3.9)\r\n",
      "Requirement already satisfied: pydantic<3.0.0,>=2.7.4 in /usr/local/lib/python3.11/dist-packages (from langchain<1.0.0,>=0.3.26->langchain-community==0.3.27) (2.11.7)\r\n",
      "Requirement already satisfied: jsonpatch<2.0,>=1.33 in /usr/local/lib/python3.11/dist-packages (from langchain-core<1.0.0,>=0.3.66->langchain-community==0.3.27) (1.33)\r\n",
      "Requirement already satisfied: typing-extensions>=4.7 in /usr/local/lib/python3.11/dist-packages (from langchain-core<1.0.0,>=0.3.66->langchain-community==0.3.27) (4.14.0)\r\n",
      "Requirement already satisfied: packaging>=23.2 in /usr/local/lib/python3.11/dist-packages (from langchain-core<1.0.0,>=0.3.66->langchain-community==0.3.27) (25.0)\r\n",
      "Requirement already satisfied: httpx<1,>=0.23.0 in /usr/local/lib/python3.11/dist-packages (from langsmith>=0.1.125->langchain-community==0.3.27) (0.28.1)\r\n",
      "Requirement already satisfied: orjson<4.0.0,>=3.9.14 in /usr/local/lib/python3.11/dist-packages (from langsmith>=0.1.125->langchain-community==0.3.27) (3.10.18)\r\n",
      "Requirement already satisfied: requests-toolbelt<2.0.0,>=1.0.0 in /usr/local/lib/python3.11/dist-packages (from langsmith>=0.1.125->langchain-community==0.3.27) (1.0.0)\r\n",
      "Requirement already satisfied: zstandard<0.24.0,>=0.23.0 in /usr/local/lib/python3.11/dist-packages (from langsmith>=0.1.125->langchain-community==0.3.27) (0.23.0)\r\n",
      "Requirement already satisfied: mkl_fft in /usr/local/lib/python3.11/dist-packages (from numpy>=1.26.2->langchain-community==0.3.27) (1.3.8)\r\n",
      "Requirement already satisfied: mkl_random in /usr/local/lib/python3.11/dist-packages (from numpy>=1.26.2->langchain-community==0.3.27) (1.2.4)\r\n",
      "Requirement already satisfied: mkl_umath in /usr/local/lib/python3.11/dist-packages (from numpy>=1.26.2->langchain-community==0.3.27) (0.1.1)\r\n",
      "Requirement already satisfied: mkl in /usr/local/lib/python3.11/dist-packages (from numpy>=1.26.2->langchain-community==0.3.27) (2025.2.0)\r\n",
      "Requirement already satisfied: tbb4py in /usr/local/lib/python3.11/dist-packages (from numpy>=1.26.2->langchain-community==0.3.27) (2022.2.0)\r\n",
      "Requirement already satisfied: mkl-service in /usr/local/lib/python3.11/dist-packages (from numpy>=1.26.2->langchain-community==0.3.27) (2.4.1)\r\n",
      "Collecting python-dotenv>=0.21.0 (from pydantic-settings<3.0.0,>=2.4.0->langchain-community==0.3.27)\r\n",
      "  Downloading python_dotenv-1.1.1-py3-none-any.whl.metadata (24 kB)\r\n",
      "Requirement already satisfied: typing-inspection>=0.4.0 in /usr/local/lib/python3.11/dist-packages (from pydantic-settings<3.0.0,>=2.4.0->langchain-community==0.3.27) (0.4.1)\r\n",
      "Requirement already satisfied: charset_normalizer<4,>=2 in /usr/local/lib/python3.11/dist-packages (from requests<3,>=2->langchain-community==0.3.27) (3.4.2)\r\n",
      "Requirement already satisfied: idna<4,>=2.5 in /usr/local/lib/python3.11/dist-packages (from requests<3,>=2->langchain-community==0.3.27) (3.10)\r\n",
      "Requirement already satisfied: urllib3<3,>=1.21.1 in /usr/local/lib/python3.11/dist-packages (from requests<3,>=2->langchain-community==0.3.27) (2.5.0)\r\n",
      "Requirement already satisfied: certifi>=2017.4.17 in /usr/local/lib/python3.11/dist-packages (from requests<3,>=2->langchain-community==0.3.27) (2025.6.15)\r\n",
      "Requirement already satisfied: greenlet>=1 in /usr/local/lib/python3.11/dist-packages (from SQLAlchemy<3,>=1.4->langchain-community==0.3.27) (3.2.3)\r\n",
      "Requirement already satisfied: anyio in /usr/local/lib/python3.11/dist-packages (from httpx<1,>=0.23.0->langsmith>=0.1.125->langchain-community==0.3.27) (4.9.0)\r\n",
      "Requirement already satisfied: httpcore==1.* in /usr/local/lib/python3.11/dist-packages (from httpx<1,>=0.23.0->langsmith>=0.1.125->langchain-community==0.3.27) (1.0.9)\r\n",
      "Requirement already satisfied: h11>=0.16 in /usr/local/lib/python3.11/dist-packages (from httpcore==1.*->httpx<1,>=0.23.0->langsmith>=0.1.125->langchain-community==0.3.27) (0.16.0)\r\n",
      "Requirement already satisfied: jsonpointer>=1.9 in /usr/local/lib/python3.11/dist-packages (from jsonpatch<2.0,>=1.33->langchain-core<1.0.0,>=0.3.66->langchain-community==0.3.27) (3.0.0)\r\n",
      "Requirement already satisfied: annotated-types>=0.6.0 in /usr/local/lib/python3.11/dist-packages (from pydantic<3.0.0,>=2.7.4->langchain<1.0.0,>=0.3.26->langchain-community==0.3.27) (0.7.0)\r\n",
      "Requirement already satisfied: pydantic-core==2.33.2 in /usr/local/lib/python3.11/dist-packages (from pydantic<3.0.0,>=2.7.4->langchain<1.0.0,>=0.3.26->langchain-community==0.3.27) (2.33.2)\r\n",
      "Requirement already satisfied: mypy-extensions>=0.3.0 in /usr/local/lib/python3.11/dist-packages (from typing-inspect<1,>=0.4.0->dataclasses-json<0.7,>=0.5.7->langchain-community==0.3.27) (1.1.0)\r\n",
      "Requirement already satisfied: intel-openmp<2026,>=2024 in /usr/local/lib/python3.11/dist-packages (from mkl->numpy>=1.26.2->langchain-community==0.3.27) (2024.2.0)\r\n",
      "Requirement already satisfied: tbb==2022.* in /usr/local/lib/python3.11/dist-packages (from mkl->numpy>=1.26.2->langchain-community==0.3.27) (2022.2.0)\r\n",
      "Requirement already satisfied: tcmlib==1.* in /usr/local/lib/python3.11/dist-packages (from tbb==2022.*->mkl->numpy>=1.26.2->langchain-community==0.3.27) (1.4.0)\r\n",
      "Requirement already satisfied: intel-cmplr-lib-rt in /usr/local/lib/python3.11/dist-packages (from mkl_umath->numpy>=1.26.2->langchain-community==0.3.27) (2024.2.0)\r\n",
      "Requirement already satisfied: intel-cmplr-lib-ur==2024.2.0 in /usr/local/lib/python3.11/dist-packages (from intel-openmp<2026,>=2024->mkl->numpy>=1.26.2->langchain-community==0.3.27) (2024.2.0)\r\n",
      "Requirement already satisfied: sniffio>=1.1 in /usr/local/lib/python3.11/dist-packages (from anyio->httpx<1,>=0.23.0->langsmith>=0.1.125->langchain-community==0.3.27) (1.3.1)\r\n",
      "Downloading langchain_community-0.3.27-py3-none-any.whl (2.5 MB)\r\n",
      "\u001b[2K   \u001b[90m━━━━━━━━━━━━━━━━━━━━━━━━━━━━━━━━━━━━━━━━\u001b[0m \u001b[32m2.5/2.5 MB\u001b[0m \u001b[31m34.9 MB/s\u001b[0m eta \u001b[36m0:00:00\u001b[0m\r\n",
      "\u001b[?25hDownloading httpx_sse-0.4.1-py3-none-any.whl (8.1 kB)\r\n",
      "Downloading pydantic_settings-2.10.1-py3-none-any.whl (45 kB)\r\n",
      "\u001b[2K   \u001b[90m━━━━━━━━━━━━━━━━━━━━━━━━━━━━━━━━━━━━━━━━\u001b[0m \u001b[32m45.2/45.2 kB\u001b[0m \u001b[31m3.6 MB/s\u001b[0m eta \u001b[36m0:00:00\u001b[0m\r\n",
      "\u001b[?25hDownloading python_dotenv-1.1.1-py3-none-any.whl (20 kB)\r\n",
      "Installing collected packages: python-dotenv, httpx-sse, pydantic-settings, langchain-community\r\n",
      "Successfully installed httpx-sse-0.4.1 langchain-community-0.3.27 pydantic-settings-2.10.1 python-dotenv-1.1.1\r\n",
      "Collecting deepeval==3.3.9\r\n",
      "  Downloading deepeval-3.3.9-py3-none-any.whl.metadata (17 kB)\r\n",
      "Requirement already satisfied: aiohttp in /usr/local/lib/python3.11/dist-packages (from deepeval==3.3.9) (3.12.13)\r\n",
      "Collecting anthropic (from deepeval==3.3.9)\r\n",
      "  Downloading anthropic-0.64.0-py3-none-any.whl.metadata (27 kB)\r\n",
      "Requirement already satisfied: click<8.3.0,>=8.0.0 in /usr/local/lib/python3.11/dist-packages (from deepeval==3.3.9) (8.2.1)\r\n",
      "Requirement already satisfied: google-genai<2.0.0,>=1.9.0 in /usr/local/lib/python3.11/dist-packages (from deepeval==3.3.9) (1.21.1)\r\n",
      "Requirement already satisfied: grpcio<2.0.0,>=1.67.1 in /usr/local/lib/python3.11/dist-packages (from deepeval==3.3.9) (1.73.1)\r\n",
      "Requirement already satisfied: nest_asyncio in /usr/local/lib/python3.11/dist-packages (from deepeval==3.3.9) (1.6.0)\r\n",
      "Collecting ollama (from deepeval==3.3.9)\r\n",
      "  Downloading ollama-0.5.3-py3-none-any.whl.metadata (4.3 kB)\r\n",
      "Requirement already satisfied: openai in /usr/local/lib/python3.11/dist-packages (from deepeval==3.3.9) (1.91.0)\r\n",
      "Collecting opentelemetry-api<2.0.0,>=1.24.0 (from deepeval==3.3.9)\r\n",
      "  Downloading opentelemetry_api-1.36.0-py3-none-any.whl.metadata (1.5 kB)\r\n",
      "Collecting opentelemetry-exporter-otlp-proto-grpc<2.0.0,>=1.24.0 (from deepeval==3.3.9)\r\n",
      "  Downloading opentelemetry_exporter_otlp_proto_grpc-1.36.0-py3-none-any.whl.metadata (2.4 kB)\r\n",
      "Collecting opentelemetry-sdk<2.0.0,>=1.24.0 (from deepeval==3.3.9)\r\n",
      "  Downloading opentelemetry_sdk-1.36.0-py3-none-any.whl.metadata (1.5 kB)\r\n",
      "Collecting portalocker (from deepeval==3.3.9)\r\n",
      "  Downloading portalocker-3.2.0-py3-none-any.whl.metadata (8.7 kB)\r\n",
      "Collecting posthog<4.0.0,>=3.23.0 (from deepeval==3.3.9)\r\n",
      "  Downloading posthog-3.25.0-py2.py3-none-any.whl.metadata (3.0 kB)\r\n",
      "Collecting pyfiglet (from deepeval==3.3.9)\r\n",
      "  Downloading pyfiglet-1.0.4-py3-none-any.whl.metadata (7.4 kB)\r\n",
      "Requirement already satisfied: pytest in /usr/local/lib/python3.11/dist-packages (from deepeval==3.3.9) (8.3.5)\r\n",
      "Collecting pytest-asyncio (from deepeval==3.3.9)\r\n",
      "  Downloading pytest_asyncio-1.1.0-py3-none-any.whl.metadata (4.1 kB)\r\n",
      "Collecting pytest-repeat (from deepeval==3.3.9)\r\n",
      "  Downloading pytest_repeat-0.9.4-py3-none-any.whl.metadata (4.9 kB)\r\n",
      "Collecting pytest-rerunfailures<13.0,>=12.0 (from deepeval==3.3.9)\r\n",
      "  Downloading pytest_rerunfailures-12.0-py3-none-any.whl.metadata (18 kB)\r\n",
      "Collecting pytest-xdist (from deepeval==3.3.9)\r\n",
      "  Downloading pytest_xdist-3.8.0-py3-none-any.whl.metadata (3.0 kB)\r\n",
      "Requirement already satisfied: requests<3.0.0,>=2.31.0 in /usr/local/lib/python3.11/dist-packages (from deepeval==3.3.9) (2.32.4)\r\n",
      "Requirement already satisfied: rich<15.0.0,>=13.6.0 in /usr/local/lib/python3.11/dist-packages (from deepeval==3.3.9) (14.0.0)\r\n",
      "Requirement already satisfied: sentry-sdk in /usr/local/lib/python3.11/dist-packages (from deepeval==3.3.9) (2.31.0)\r\n",
      "Requirement already satisfied: setuptools in /usr/local/lib/python3.11/dist-packages (from deepeval==3.3.9) (75.2.0)\r\n",
      "Requirement already satisfied: tabulate<0.10.0,>=0.9.0 in /usr/local/lib/python3.11/dist-packages (from deepeval==3.3.9) (0.9.0)\r\n",
      "Requirement already satisfied: tenacity<=10.0.0,>=8.0.0 in /usr/local/lib/python3.11/dist-packages (from deepeval==3.3.9) (8.5.0)\r\n",
      "Requirement already satisfied: tqdm<5.0.0,>=4.66.1 in /usr/local/lib/python3.11/dist-packages (from deepeval==3.3.9) (4.67.1)\r\n",
      "Requirement already satisfied: typer<1.0.0,>=0.9 in /usr/local/lib/python3.11/dist-packages (from deepeval==3.3.9) (0.16.0)\r\n",
      "Requirement already satisfied: wheel in /usr/local/lib/python3.11/dist-packages (from deepeval==3.3.9) (0.45.1)\r\n",
      "Requirement already satisfied: anyio<5.0.0,>=4.8.0 in /usr/local/lib/python3.11/dist-packages (from google-genai<2.0.0,>=1.9.0->deepeval==3.3.9) (4.9.0)\r\n",
      "Requirement already satisfied: google-auth<3.0.0,>=2.14.1 in /usr/local/lib/python3.11/dist-packages (from google-genai<2.0.0,>=1.9.0->deepeval==3.3.9) (2.40.3)\r\n",
      "Requirement already satisfied: httpx<1.0.0,>=0.28.1 in /usr/local/lib/python3.11/dist-packages (from google-genai<2.0.0,>=1.9.0->deepeval==3.3.9) (0.28.1)\r\n",
      "Requirement already satisfied: pydantic<3.0.0,>=2.0.0 in /usr/local/lib/python3.11/dist-packages (from google-genai<2.0.0,>=1.9.0->deepeval==3.3.9) (2.11.7)\r\n",
      "Requirement already satisfied: websockets<15.1.0,>=13.0.0 in /usr/local/lib/python3.11/dist-packages (from google-genai<2.0.0,>=1.9.0->deepeval==3.3.9) (15.0.1)\r\n",
      "Requirement already satisfied: typing-extensions<5.0.0,>=4.11.0 in /usr/local/lib/python3.11/dist-packages (from google-genai<2.0.0,>=1.9.0->deepeval==3.3.9) (4.14.0)\r\n",
      "Requirement already satisfied: importlib-metadata<8.8.0,>=6.0 in /usr/local/lib/python3.11/dist-packages (from opentelemetry-api<2.0.0,>=1.24.0->deepeval==3.3.9) (8.7.0)\r\n",
      "Requirement already satisfied: googleapis-common-protos~=1.57 in /usr/local/lib/python3.11/dist-packages (from opentelemetry-exporter-otlp-proto-grpc<2.0.0,>=1.24.0->deepeval==3.3.9) (1.70.0)\r\n",
      "Collecting opentelemetry-exporter-otlp-proto-common==1.36.0 (from opentelemetry-exporter-otlp-proto-grpc<2.0.0,>=1.24.0->deepeval==3.3.9)\r\n",
      "  Downloading opentelemetry_exporter_otlp_proto_common-1.36.0-py3-none-any.whl.metadata (1.8 kB)\r\n",
      "Collecting opentelemetry-proto==1.36.0 (from opentelemetry-exporter-otlp-proto-grpc<2.0.0,>=1.24.0->deepeval==3.3.9)\r\n",
      "  Downloading opentelemetry_proto-1.36.0-py3-none-any.whl.metadata (2.3 kB)\r\n",
      "Collecting protobuf<7.0,>=5.0 (from opentelemetry-proto==1.36.0->opentelemetry-exporter-otlp-proto-grpc<2.0.0,>=1.24.0->deepeval==3.3.9)\r\n",
      "  Downloading protobuf-6.32.0-cp39-abi3-manylinux2014_x86_64.whl.metadata (593 bytes)\r\n",
      "Collecting opentelemetry-semantic-conventions==0.57b0 (from opentelemetry-sdk<2.0.0,>=1.24.0->deepeval==3.3.9)\r\n",
      "  Downloading opentelemetry_semantic_conventions-0.57b0-py3-none-any.whl.metadata (2.4 kB)\r\n",
      "Requirement already satisfied: six>=1.5 in /usr/local/lib/python3.11/dist-packages (from posthog<4.0.0,>=3.23.0->deepeval==3.3.9) (1.17.0)\r\n",
      "Collecting monotonic>=1.5 (from posthog<4.0.0,>=3.23.0->deepeval==3.3.9)\r\n",
      "  Downloading monotonic-1.6-py2.py3-none-any.whl.metadata (1.5 kB)\r\n",
      "Collecting backoff>=1.10.0 (from posthog<4.0.0,>=3.23.0->deepeval==3.3.9)\r\n",
      "  Downloading backoff-2.2.1-py3-none-any.whl.metadata (14 kB)\r\n",
      "Requirement already satisfied: python-dateutil>2.1 in /usr/local/lib/python3.11/dist-packages (from posthog<4.0.0,>=3.23.0->deepeval==3.3.9) (2.9.0.post0)\r\n",
      "Requirement already satisfied: distro>=1.5.0 in /usr/local/lib/python3.11/dist-packages (from posthog<4.0.0,>=3.23.0->deepeval==3.3.9) (1.9.0)\r\n",
      "Requirement already satisfied: packaging>=17.1 in /usr/local/lib/python3.11/dist-packages (from pytest-rerunfailures<13.0,>=12.0->deepeval==3.3.9) (25.0)\r\n",
      "Requirement already satisfied: iniconfig in /usr/local/lib/python3.11/dist-packages (from pytest->deepeval==3.3.9) (2.1.0)\r\n",
      "Requirement already satisfied: pluggy<2,>=1.5 in /usr/local/lib/python3.11/dist-packages (from pytest->deepeval==3.3.9) (1.6.0)\r\n",
      "Requirement already satisfied: charset_normalizer<4,>=2 in /usr/local/lib/python3.11/dist-packages (from requests<3.0.0,>=2.31.0->deepeval==3.3.9) (3.4.2)\r\n",
      "Requirement already satisfied: idna<4,>=2.5 in /usr/local/lib/python3.11/dist-packages (from requests<3.0.0,>=2.31.0->deepeval==3.3.9) (3.10)\r\n",
      "Requirement already satisfied: urllib3<3,>=1.21.1 in /usr/local/lib/python3.11/dist-packages (from requests<3.0.0,>=2.31.0->deepeval==3.3.9) (2.5.0)\r\n",
      "Requirement already satisfied: certifi>=2017.4.17 in /usr/local/lib/python3.11/dist-packages (from requests<3.0.0,>=2.31.0->deepeval==3.3.9) (2025.6.15)\r\n",
      "Requirement already satisfied: markdown-it-py>=2.2.0 in /usr/local/lib/python3.11/dist-packages (from rich<15.0.0,>=13.6.0->deepeval==3.3.9) (3.0.0)\r\n",
      "Requirement already satisfied: pygments<3.0.0,>=2.13.0 in /usr/local/lib/python3.11/dist-packages (from rich<15.0.0,>=13.6.0->deepeval==3.3.9) (2.19.2)\r\n",
      "Requirement already satisfied: shellingham>=1.3.0 in /usr/local/lib/python3.11/dist-packages (from typer<1.0.0,>=0.9->deepeval==3.3.9) (1.5.4)\r\n",
      "Requirement already satisfied: aiohappyeyeballs>=2.5.0 in /usr/local/lib/python3.11/dist-packages (from aiohttp->deepeval==3.3.9) (2.6.1)\r\n",
      "Requirement already satisfied: aiosignal>=1.1.2 in /usr/local/lib/python3.11/dist-packages (from aiohttp->deepeval==3.3.9) (1.3.2)\r\n",
      "Requirement already satisfied: attrs>=17.3.0 in /usr/local/lib/python3.11/dist-packages (from aiohttp->deepeval==3.3.9) (25.3.0)\r\n",
      "Requirement already satisfied: frozenlist>=1.1.1 in /usr/local/lib/python3.11/dist-packages (from aiohttp->deepeval==3.3.9) (1.7.0)\r\n",
      "Requirement already satisfied: multidict<7.0,>=4.5 in /usr/local/lib/python3.11/dist-packages (from aiohttp->deepeval==3.3.9) (6.6.3)\r\n",
      "Requirement already satisfied: propcache>=0.2.0 in /usr/local/lib/python3.11/dist-packages (from aiohttp->deepeval==3.3.9) (0.3.2)\r\n",
      "Requirement already satisfied: yarl<2.0,>=1.17.0 in /usr/local/lib/python3.11/dist-packages (from aiohttp->deepeval==3.3.9) (1.20.1)\r\n",
      "Requirement already satisfied: jiter<1,>=0.4.0 in /usr/local/lib/python3.11/dist-packages (from anthropic->deepeval==3.3.9) (0.10.0)\r\n",
      "Requirement already satisfied: sniffio in /usr/local/lib/python3.11/dist-packages (from anthropic->deepeval==3.3.9) (1.3.1)\r\n",
      "Collecting execnet>=2.1 (from pytest-xdist->deepeval==3.3.9)\r\n",
      "  Downloading execnet-2.1.1-py3-none-any.whl.metadata (2.9 kB)\r\n",
      "Requirement already satisfied: cachetools<6.0,>=2.0.0 in /usr/local/lib/python3.11/dist-packages (from google-auth<3.0.0,>=2.14.1->google-genai<2.0.0,>=1.9.0->deepeval==3.3.9) (5.5.2)\r\n",
      "Requirement already satisfied: pyasn1-modules>=0.2.1 in /usr/local/lib/python3.11/dist-packages (from google-auth<3.0.0,>=2.14.1->google-genai<2.0.0,>=1.9.0->deepeval==3.3.9) (0.4.2)\r\n",
      "Requirement already satisfied: rsa<5,>=3.1.4 in /usr/local/lib/python3.11/dist-packages (from google-auth<3.0.0,>=2.14.1->google-genai<2.0.0,>=1.9.0->deepeval==3.3.9) (4.9.1)\r\n",
      "Requirement already satisfied: httpcore==1.* in /usr/local/lib/python3.11/dist-packages (from httpx<1.0.0,>=0.28.1->google-genai<2.0.0,>=1.9.0->deepeval==3.3.9) (1.0.9)\r\n",
      "Requirement already satisfied: h11>=0.16 in /usr/local/lib/python3.11/dist-packages (from httpcore==1.*->httpx<1.0.0,>=0.28.1->google-genai<2.0.0,>=1.9.0->deepeval==3.3.9) (0.16.0)\r\n",
      "Requirement already satisfied: zipp>=3.20 in /usr/local/lib/python3.11/dist-packages (from importlib-metadata<8.8.0,>=6.0->opentelemetry-api<2.0.0,>=1.24.0->deepeval==3.3.9) (3.23.0)\r\n",
      "Requirement already satisfied: mdurl~=0.1 in /usr/local/lib/python3.11/dist-packages (from markdown-it-py>=2.2.0->rich<15.0.0,>=13.6.0->deepeval==3.3.9) (0.1.2)\r\n",
      "Requirement already satisfied: annotated-types>=0.6.0 in /usr/local/lib/python3.11/dist-packages (from pydantic<3.0.0,>=2.0.0->google-genai<2.0.0,>=1.9.0->deepeval==3.3.9) (0.7.0)\r\n",
      "Requirement already satisfied: pydantic-core==2.33.2 in /usr/local/lib/python3.11/dist-packages (from pydantic<3.0.0,>=2.0.0->google-genai<2.0.0,>=1.9.0->deepeval==3.3.9) (2.33.2)\r\n",
      "Requirement already satisfied: typing-inspection>=0.4.0 in /usr/local/lib/python3.11/dist-packages (from pydantic<3.0.0,>=2.0.0->google-genai<2.0.0,>=1.9.0->deepeval==3.3.9) (0.4.1)\r\n",
      "Requirement already satisfied: pyasn1<0.7.0,>=0.6.1 in /usr/local/lib/python3.11/dist-packages (from pyasn1-modules>=0.2.1->google-auth<3.0.0,>=2.14.1->google-genai<2.0.0,>=1.9.0->deepeval==3.3.9) (0.6.1)\r\n",
      "Downloading deepeval-3.3.9-py3-none-any.whl (558 kB)\r\n",
      "\u001b[2K   \u001b[90m━━━━━━━━━━━━━━━━━━━━━━━━━━━━━━━━━━━━━━━━\u001b[0m \u001b[32m558.2/558.2 kB\u001b[0m \u001b[31m11.6 MB/s\u001b[0m eta \u001b[36m0:00:00\u001b[0m\r\n",
      "\u001b[?25hDownloading opentelemetry_api-1.36.0-py3-none-any.whl (65 kB)\r\n",
      "\u001b[2K   \u001b[90m━━━━━━━━━━━━━━━━━━━━━━━━━━━━━━━━━━━━━━━━\u001b[0m \u001b[32m65.6/65.6 kB\u001b[0m \u001b[31m5.3 MB/s\u001b[0m eta \u001b[36m0:00:00\u001b[0m\r\n",
      "\u001b[?25hDownloading opentelemetry_exporter_otlp_proto_grpc-1.36.0-py3-none-any.whl (18 kB)\r\n",
      "Downloading opentelemetry_exporter_otlp_proto_common-1.36.0-py3-none-any.whl (18 kB)\r\n",
      "Downloading opentelemetry_proto-1.36.0-py3-none-any.whl (72 kB)\r\n",
      "\u001b[2K   \u001b[90m━━━━━━━━━━━━━━━━━━━━━━━━━━━━━━━━━━━━━━━━\u001b[0m \u001b[32m72.5/72.5 kB\u001b[0m \u001b[31m5.8 MB/s\u001b[0m eta \u001b[36m0:00:00\u001b[0m\r\n",
      "\u001b[?25hDownloading opentelemetry_sdk-1.36.0-py3-none-any.whl (119 kB)\r\n",
      "\u001b[2K   \u001b[90m━━━━━━━━━━━━━━━━━━━━━━━━━━━━━━━━━━━━━━━━\u001b[0m \u001b[32m120.0/120.0 kB\u001b[0m \u001b[31m11.8 MB/s\u001b[0m eta \u001b[36m0:00:00\u001b[0m\r\n",
      "\u001b[?25hDownloading opentelemetry_semantic_conventions-0.57b0-py3-none-any.whl (201 kB)\r\n",
      "\u001b[2K   \u001b[90m━━━━━━━━━━━━━━━━━━━━━━━━━━━━━━━━━━━━━━━━\u001b[0m \u001b[32m201.6/201.6 kB\u001b[0m \u001b[31m18.2 MB/s\u001b[0m eta \u001b[36m0:00:00\u001b[0m\r\n",
      "\u001b[?25hDownloading posthog-3.25.0-py2.py3-none-any.whl (89 kB)\r\n",
      "\u001b[2K   \u001b[90m━━━━━━━━━━━━━━━━━━━━━━━━━━━━━━━━━━━━━━━━\u001b[0m \u001b[32m89.1/89.1 kB\u001b[0m \u001b[31m8.0 MB/s\u001b[0m eta \u001b[36m0:00:00\u001b[0m\r\n",
      "\u001b[?25hDownloading pytest_rerunfailures-12.0-py3-none-any.whl (12 kB)\r\n",
      "Downloading anthropic-0.64.0-py3-none-any.whl (297 kB)\r\n",
      "\u001b[2K   \u001b[90m━━━━━━━━━━━━━━━━━━━━━━━━━━━━━━━━━━━━━━━━\u001b[0m \u001b[32m297.2/297.2 kB\u001b[0m \u001b[31m23.3 MB/s\u001b[0m eta \u001b[36m0:00:00\u001b[0m\r\n",
      "\u001b[?25hDownloading ollama-0.5.3-py3-none-any.whl (13 kB)\r\n",
      "Downloading portalocker-3.2.0-py3-none-any.whl (22 kB)\r\n",
      "Downloading pyfiglet-1.0.4-py3-none-any.whl (1.8 MB)\r\n",
      "\u001b[2K   \u001b[90m━━━━━━━━━━━━━━━━━━━━━━━━━━━━━━━━━━━━━━━━\u001b[0m \u001b[32m1.8/1.8 MB\u001b[0m \u001b[31m46.6 MB/s\u001b[0m eta \u001b[36m0:00:00\u001b[0m\r\n",
      "\u001b[?25hDownloading pytest_asyncio-1.1.0-py3-none-any.whl (15 kB)\r\n",
      "Downloading pytest_repeat-0.9.4-py3-none-any.whl (4.2 kB)\r\n",
      "Downloading pytest_xdist-3.8.0-py3-none-any.whl (46 kB)\r\n",
      "\u001b[2K   \u001b[90m━━━━━━━━━━━━━━━━━━━━━━━━━━━━━━━━━━━━━━━━\u001b[0m \u001b[32m46.4/46.4 kB\u001b[0m \u001b[31m3.9 MB/s\u001b[0m eta \u001b[36m0:00:00\u001b[0m\r\n",
      "\u001b[?25hDownloading backoff-2.2.1-py3-none-any.whl (15 kB)\r\n",
      "Downloading execnet-2.1.1-py3-none-any.whl (40 kB)\r\n",
      "\u001b[2K   \u001b[90m━━━━━━━━━━━━━━━━━━━━━━━━━━━━━━━━━━━━━━━━\u001b[0m \u001b[32m40.6/40.6 kB\u001b[0m \u001b[31m3.2 MB/s\u001b[0m eta \u001b[36m0:00:00\u001b[0m\r\n",
      "\u001b[?25hDownloading monotonic-1.6-py2.py3-none-any.whl (8.2 kB)\r\n",
      "Downloading protobuf-6.32.0-cp39-abi3-manylinux2014_x86_64.whl (322 kB)\r\n",
      "\u001b[2K   \u001b[90m━━━━━━━━━━━━━━━━━━━━━━━━━━━━━━━━━━━━━━━━\u001b[0m \u001b[32m322.0/322.0 kB\u001b[0m \u001b[31m27.7 MB/s\u001b[0m eta \u001b[36m0:00:00\u001b[0m\r\n",
      "\u001b[?25hInstalling collected packages: monotonic, pyfiglet, protobuf, portalocker, execnet, backoff, pytest-xdist, pytest-rerunfailures, pytest-repeat, pytest-asyncio, posthog, opentelemetry-proto, opentelemetry-api, opentelemetry-semantic-conventions, opentelemetry-exporter-otlp-proto-common, ollama, anthropic, opentelemetry-sdk, opentelemetry-exporter-otlp-proto-grpc, deepeval\r\n",
      "  Attempting uninstall: protobuf\r\n",
      "    Found existing installation: protobuf 3.20.3\r\n",
      "    Uninstalling protobuf-3.20.3:\r\n",
      "      Successfully uninstalled protobuf-3.20.3\r\n",
      "\u001b[31mERROR: pip's dependency resolver does not currently take into account all the packages that are installed. This behaviour is the source of the following dependency conflicts.\r\n",
      "bigframes 2.8.0 requires google-cloud-bigquery-storage<3.0.0,>=2.30.0, which is not installed.\r\n",
      "google-api-core 1.34.1 requires protobuf!=3.20.0,!=3.20.1,!=4.21.0,!=4.21.1,!=4.21.2,!=4.21.3,!=4.21.4,!=4.21.5,<4.0.0dev,>=3.19.5, but you have protobuf 6.32.0 which is incompatible.\r\n",
      "google-cloud-translate 3.12.1 requires protobuf!=3.20.0,!=3.20.1,!=4.21.0,!=4.21.1,!=4.21.2,!=4.21.3,!=4.21.4,!=4.21.5,<5.0.0dev,>=3.19.5, but you have protobuf 6.32.0 which is incompatible.\r\n",
      "pandas-gbq 0.29.1 requires google-api-core<3.0.0,>=2.10.2, but you have google-api-core 1.34.1 which is incompatible.\r\n",
      "google-ai-generativelanguage 0.6.15 requires protobuf!=4.21.0,!=4.21.1,!=4.21.2,!=4.21.3,!=4.21.4,!=4.21.5,<6.0.0dev,>=3.20.2, but you have protobuf 6.32.0 which is incompatible.\r\n",
      "google-cloud-storage 2.19.0 requires google-api-core<3.0.0dev,>=2.15.0, but you have google-api-core 1.34.1 which is incompatible.\r\n",
      "dataproc-spark-connect 0.7.5 requires google-api-core>=2.19, but you have google-api-core 1.34.1 which is incompatible.\r\n",
      "tensorflow 2.18.0 requires protobuf!=4.21.0,!=4.21.1,!=4.21.2,!=4.21.3,!=4.21.4,!=4.21.5,<6.0.0dev,>=3.20.3, but you have protobuf 6.32.0 which is incompatible.\r\n",
      "bigframes 2.8.0 requires google-cloud-bigquery[bqstorage,pandas]>=3.31.0, but you have google-cloud-bigquery 3.25.0 which is incompatible.\r\n",
      "bigframes 2.8.0 requires rich<14,>=12.4.4, but you have rich 14.0.0 which is incompatible.\u001b[0m\u001b[31m\r\n",
      "\u001b[0mSuccessfully installed anthropic-0.64.0 backoff-2.2.1 deepeval-3.3.9 execnet-2.1.1 monotonic-1.6 ollama-0.5.3 opentelemetry-api-1.36.0 opentelemetry-exporter-otlp-proto-common-1.36.0 opentelemetry-exporter-otlp-proto-grpc-1.36.0 opentelemetry-proto-1.36.0 opentelemetry-sdk-1.36.0 opentelemetry-semantic-conventions-0.57b0 portalocker-3.2.0 posthog-3.25.0 protobuf-6.32.0 pyfiglet-1.0.4 pytest-asyncio-1.1.0 pytest-repeat-0.9.4 pytest-rerunfailures-12.0 pytest-xdist-3.8.0\r\n",
      "Collecting protobuf==4.25.8\r\n",
      "  Downloading protobuf-4.25.8-cp37-abi3-manylinux2014_x86_64.whl.metadata (541 bytes)\r\n",
      "Downloading protobuf-4.25.8-cp37-abi3-manylinux2014_x86_64.whl (294 kB)\r\n",
      "\u001b[2K   \u001b[90m━━━━━━━━━━━━━━━━━━━━━━━━━━━━━━━━━━━━━━━━\u001b[0m \u001b[32m294.9/294.9 kB\u001b[0m \u001b[31m7.5 MB/s\u001b[0m eta \u001b[36m0:00:00\u001b[0m\r\n",
      "\u001b[?25hInstalling collected packages: protobuf\r\n",
      "  Attempting uninstall: protobuf\r\n",
      "    Found existing installation: protobuf 6.32.0\r\n",
      "    Uninstalling protobuf-6.32.0:\r\n",
      "      Successfully uninstalled protobuf-6.32.0\r\n",
      "\u001b[31mERROR: pip's dependency resolver does not currently take into account all the packages that are installed. This behaviour is the source of the following dependency conflicts.\r\n",
      "bigframes 2.8.0 requires google-cloud-bigquery-storage<3.0.0,>=2.30.0, which is not installed.\r\n",
      "opentelemetry-proto 1.36.0 requires protobuf<7.0,>=5.0, but you have protobuf 4.25.8 which is incompatible.\r\n",
      "google-api-core 1.34.1 requires protobuf!=3.20.0,!=3.20.1,!=4.21.0,!=4.21.1,!=4.21.2,!=4.21.3,!=4.21.4,!=4.21.5,<4.0.0dev,>=3.19.5, but you have protobuf 4.25.8 which is incompatible.\r\n",
      "pandas-gbq 0.29.1 requires google-api-core<3.0.0,>=2.10.2, but you have google-api-core 1.34.1 which is incompatible.\r\n",
      "google-cloud-storage 2.19.0 requires google-api-core<3.0.0dev,>=2.15.0, but you have google-api-core 1.34.1 which is incompatible.\r\n",
      "dataproc-spark-connect 0.7.5 requires google-api-core>=2.19, but you have google-api-core 1.34.1 which is incompatible.\r\n",
      "bigframes 2.8.0 requires google-cloud-bigquery[bqstorage,pandas]>=3.31.0, but you have google-cloud-bigquery 3.25.0 which is incompatible.\r\n",
      "bigframes 2.8.0 requires rich<14,>=12.4.4, but you have rich 14.0.0 which is incompatible.\u001b[0m\u001b[31m\r\n",
      "\u001b[0mSuccessfully installed protobuf-4.25.8\r\n",
      "Collecting triton==3.0.0\r\n",
      "  Downloading triton-3.0.0-1-cp311-cp311-manylinux2014_x86_64.manylinux_2_17_x86_64.whl.metadata (1.3 kB)\r\n",
      "Requirement already satisfied: filelock in /usr/local/lib/python3.11/dist-packages (from triton==3.0.0) (3.18.0)\r\n",
      "Downloading triton-3.0.0-1-cp311-cp311-manylinux2014_x86_64.manylinux_2_17_x86_64.whl (209.4 MB)\r\n",
      "\u001b[2K   \u001b[90m━━━━━━━━━━━━━━━━━━━━━━━━━━━━━━━━━━━━━━━━\u001b[0m \u001b[32m209.4/209.4 MB\u001b[0m \u001b[31m8.3 MB/s\u001b[0m eta \u001b[36m0:00:00\u001b[0m\r\n",
      "\u001b[?25hInstalling collected packages: triton\r\n",
      "  Attempting uninstall: triton\r\n",
      "    Found existing installation: triton 3.2.0\r\n",
      "    Uninstalling triton-3.2.0:\r\n",
      "      Successfully uninstalled triton-3.2.0\r\n",
      "\u001b[31mERROR: pip's dependency resolver does not currently take into account all the packages that are installed. This behaviour is the source of the following dependency conflicts.\r\n",
      "torch 2.6.0+cu124 requires triton==3.2.0; platform_system == \"Linux\" and platform_machine == \"x86_64\", but you have triton 3.0.0 which is incompatible.\u001b[0m\u001b[31m\r\n",
      "\u001b[0mSuccessfully installed triton-3.0.0\r\n",
      "Collecting bitsandbytes\r\n",
      "  Downloading bitsandbytes-0.47.0-py3-none-manylinux_2_24_x86_64.whl.metadata (11 kB)\r\n",
      "Requirement already satisfied: torch<3,>=2.2 in /usr/local/lib/python3.11/dist-packages (from bitsandbytes) (2.6.0+cu124)\r\n",
      "Requirement already satisfied: numpy>=1.17 in /usr/local/lib/python3.11/dist-packages (from bitsandbytes) (1.26.4)\r\n",
      "Requirement already satisfied: mkl_fft in /usr/local/lib/python3.11/dist-packages (from numpy>=1.17->bitsandbytes) (1.3.8)\r\n",
      "Requirement already satisfied: mkl_random in /usr/local/lib/python3.11/dist-packages (from numpy>=1.17->bitsandbytes) (1.2.4)\r\n",
      "Requirement already satisfied: mkl_umath in /usr/local/lib/python3.11/dist-packages (from numpy>=1.17->bitsandbytes) (0.1.1)\r\n",
      "Requirement already satisfied: mkl in /usr/local/lib/python3.11/dist-packages (from numpy>=1.17->bitsandbytes) (2025.2.0)\r\n",
      "Requirement already satisfied: tbb4py in /usr/local/lib/python3.11/dist-packages (from numpy>=1.17->bitsandbytes) (2022.2.0)\r\n",
      "Requirement already satisfied: mkl-service in /usr/local/lib/python3.11/dist-packages (from numpy>=1.17->bitsandbytes) (2.4.1)\r\n",
      "Requirement already satisfied: filelock in /usr/local/lib/python3.11/dist-packages (from torch<3,>=2.2->bitsandbytes) (3.18.0)\r\n",
      "Requirement already satisfied: typing-extensions>=4.10.0 in /usr/local/lib/python3.11/dist-packages (from torch<3,>=2.2->bitsandbytes) (4.14.0)\r\n",
      "Requirement already satisfied: networkx in /usr/local/lib/python3.11/dist-packages (from torch<3,>=2.2->bitsandbytes) (3.5)\r\n",
      "Requirement already satisfied: jinja2 in /usr/local/lib/python3.11/dist-packages (from torch<3,>=2.2->bitsandbytes) (3.1.6)\r\n",
      "Requirement already satisfied: fsspec in /usr/local/lib/python3.11/dist-packages (from torch<3,>=2.2->bitsandbytes) (2025.3.0)\r\n",
      "Requirement already satisfied: nvidia-cuda-nvrtc-cu12==12.4.127 in /usr/local/lib/python3.11/dist-packages (from torch<3,>=2.2->bitsandbytes) (12.4.127)\r\n",
      "Requirement already satisfied: nvidia-cuda-runtime-cu12==12.4.127 in /usr/local/lib/python3.11/dist-packages (from torch<3,>=2.2->bitsandbytes) (12.4.127)\r\n",
      "Requirement already satisfied: nvidia-cuda-cupti-cu12==12.4.127 in /usr/local/lib/python3.11/dist-packages (from torch<3,>=2.2->bitsandbytes) (12.4.127)\r\n",
      "Requirement already satisfied: nvidia-cudnn-cu12==9.1.0.70 in /usr/local/lib/python3.11/dist-packages (from torch<3,>=2.2->bitsandbytes) (9.1.0.70)\r\n",
      "Requirement already satisfied: nvidia-cublas-cu12==12.4.5.8 in /usr/local/lib/python3.11/dist-packages (from torch<3,>=2.2->bitsandbytes) (12.4.5.8)\r\n",
      "Requirement already satisfied: nvidia-cufft-cu12==11.2.1.3 in /usr/local/lib/python3.11/dist-packages (from torch<3,>=2.2->bitsandbytes) (11.2.1.3)\r\n",
      "Requirement already satisfied: nvidia-curand-cu12==10.3.5.147 in /usr/local/lib/python3.11/dist-packages (from torch<3,>=2.2->bitsandbytes) (10.3.5.147)\r\n",
      "Requirement already satisfied: nvidia-cusolver-cu12==11.6.1.9 in /usr/local/lib/python3.11/dist-packages (from torch<3,>=2.2->bitsandbytes) (11.6.1.9)\r\n",
      "Requirement already satisfied: nvidia-cusparse-cu12==12.3.1.170 in /usr/local/lib/python3.11/dist-packages (from torch<3,>=2.2->bitsandbytes) (12.3.1.170)\r\n",
      "Requirement already satisfied: nvidia-cusparselt-cu12==0.6.2 in /usr/local/lib/python3.11/dist-packages (from torch<3,>=2.2->bitsandbytes) (0.6.2)\r\n",
      "Requirement already satisfied: nvidia-nccl-cu12==2.21.5 in /usr/local/lib/python3.11/dist-packages (from torch<3,>=2.2->bitsandbytes) (2.21.5)\r\n",
      "Requirement already satisfied: nvidia-nvtx-cu12==12.4.127 in /usr/local/lib/python3.11/dist-packages (from torch<3,>=2.2->bitsandbytes) (12.4.127)\r\n",
      "Requirement already satisfied: nvidia-nvjitlink-cu12==12.4.127 in /usr/local/lib/python3.11/dist-packages (from torch<3,>=2.2->bitsandbytes) (12.4.127)\r\n",
      "Collecting triton==3.2.0 (from torch<3,>=2.2->bitsandbytes)\r\n",
      "  Downloading triton-3.2.0-cp311-cp311-manylinux_2_17_x86_64.manylinux2014_x86_64.whl.metadata (1.4 kB)\r\n",
      "Requirement already satisfied: sympy==1.13.1 in /usr/local/lib/python3.11/dist-packages (from torch<3,>=2.2->bitsandbytes) (1.13.1)\r\n",
      "Requirement already satisfied: mpmath<1.4,>=1.1.0 in /usr/local/lib/python3.11/dist-packages (from sympy==1.13.1->torch<3,>=2.2->bitsandbytes) (1.3.0)\r\n",
      "Requirement already satisfied: MarkupSafe>=2.0 in /usr/local/lib/python3.11/dist-packages (from jinja2->torch<3,>=2.2->bitsandbytes) (3.0.2)\r\n",
      "Requirement already satisfied: intel-openmp<2026,>=2024 in /usr/local/lib/python3.11/dist-packages (from mkl->numpy>=1.17->bitsandbytes) (2024.2.0)\r\n",
      "Requirement already satisfied: tbb==2022.* in /usr/local/lib/python3.11/dist-packages (from mkl->numpy>=1.17->bitsandbytes) (2022.2.0)\r\n",
      "Requirement already satisfied: tcmlib==1.* in /usr/local/lib/python3.11/dist-packages (from tbb==2022.*->mkl->numpy>=1.17->bitsandbytes) (1.4.0)\r\n",
      "Requirement already satisfied: intel-cmplr-lib-rt in /usr/local/lib/python3.11/dist-packages (from mkl_umath->numpy>=1.17->bitsandbytes) (2024.2.0)\r\n",
      "Requirement already satisfied: intel-cmplr-lib-ur==2024.2.0 in /usr/local/lib/python3.11/dist-packages (from intel-openmp<2026,>=2024->mkl->numpy>=1.17->bitsandbytes) (2024.2.0)\r\n",
      "Downloading bitsandbytes-0.47.0-py3-none-manylinux_2_24_x86_64.whl (61.3 MB)\r\n",
      "\u001b[2K   \u001b[90m━━━━━━━━━━━━━━━━━━━━━━━━━━━━━━━━━━━━━━━━\u001b[0m \u001b[32m61.3/61.3 MB\u001b[0m \u001b[31m29.6 MB/s\u001b[0m eta \u001b[36m0:00:00\u001b[0m\r\n",
      "\u001b[?25hDownloading triton-3.2.0-cp311-cp311-manylinux_2_17_x86_64.manylinux2014_x86_64.whl (253.2 MB)\r\n",
      "\u001b[2K   \u001b[90m━━━━━━━━━━━━━━━━━━━━━━━━━━━━━━━━━━━━━━━━\u001b[0m \u001b[32m253.2/253.2 MB\u001b[0m \u001b[31m6.7 MB/s\u001b[0m eta \u001b[36m0:00:00\u001b[0m\r\n",
      "\u001b[?25hInstalling collected packages: triton, bitsandbytes\r\n",
      "  Attempting uninstall: triton\r\n",
      "    Found existing installation: triton 3.0.0\r\n",
      "    Uninstalling triton-3.0.0:\r\n",
      "      Successfully uninstalled triton-3.0.0\r\n",
      "Successfully installed bitsandbytes-0.47.0 triton-3.2.0\r\n"
     ]
    }
   ],
   "source": [
    "import kagglehub\n",
    "\n",
    "DEBUG = True\n",
    "\n",
    "if DEBUG is True:\n",
    "    !pip install git+https://github.com/huggingface/transformers.git  # install transformer from source\n",
    "    # !pip install --upgrade torch datasets accelerate peft bitsandbytes trl\n",
    "    # !pip install --upgrade accelerate peft bitsandbytes trl\n",
    "    !pip install --upgrade datasets accelerate  # add datasets, accelerate , bitsndbytes\n",
    "    # !pip install -U bitsandbytes==0.47.0\n",
    "    # !pip install -U peft==0.17.0\n",
    "    # !pip install -U trl==0.21.0\n",
    "    !pip install --upgrade peft trl\n",
    "    # !pip install -U accelerate==1.10.0\n",
    "    # !pip install transformers==4.55.0\n",
    "    !pip install langchain==0.3.27\n",
    "    !pip install -U langchain-core==0.3.74\n",
    "    !pip install langchain-text-splitters==0.3.9\n",
    "    !pip install langchain-community==0.3.27\n",
    "    !pip install -U deepeval==3.3.9\n",
    "    !pip install protobuf==4.25.8 #4.49.0     # 6.30.2      #==3.20.3 #4.49.0\n",
    "    !pip install triton==3.0.0   # avoid load LLM error\n",
    "    !pip install --upgrade bitsandbytes\n",
    "\n",
    "else:\n",
    "    # package = kagglehub.package_import(\"/johnsonhk88/universal-llm-install-package2\")\n",
    "    installDir = \"/kaggle/input/universal-llm-install-package2/V7\" #\"/kaggle/input/universal-llm-install-package2/V7\"\n",
    "    # installDir2 =\"/kaggle/input/deepeval-open-source-llm-evaluation-framework\"\n",
    "    !pip install transformers --no-index --no-deps --find-links=file://{installDir}/transformers-4.45.2-py3-none-any.whl\n",
    "    !pip install -U accelerate --no-index --no-deps --find-links=file://{installDir}/accelerate-1.0.1-py3-none-any.whl\n",
    "    !pip install -U trl --no-index --no-deps --find-links=file://{installDir}/trl-0.11.4-py3-none-any.whl\n",
    "    !pip install -U peft --no-index --no-deps --find-links=file://{installDir}/peft-0.14.0-py3-none-any.whl\n",
    "    !pip install  bitsandbytes --no-index --no-deps --find-links=file://{installDir}/bitsandbytes-0.45.0-py3-none-manylinux_2_24_x86_64.whl\n",
    "    \n",
    "    !pip install -U langchain --no-index  --no-deps --find-links=file://{installDir}/langchain-0.3.3-py3-none-any.whl\n",
    "    !pip install -U langchain_core --no-index  --no-deps --find-links=file://{installDir}/langchain_core-0.3.12-py3-none-any.whl\n",
    "    !pip install -U langchain_text_splitters  --no-index  --no-deps  --find-links=file://{installDir}/langchain_text_splitters-0.3.0-py3-none-any.whl\n",
    "    !pip install -U langchain_community  --no-index  --no-deps   --find-link=file://{installDir}/langchain_community-0.3.2-py3-none-any.whl\n",
    "    \n",
    "    # !pip install -U vllm   --no-index --find-links=file:///kaggle/input/vllm-inference/\n",
    "\n"
   ]
  },
  {
   "cell_type": "code",
   "execution_count": 2,
   "id": "38e4f50f",
   "metadata": {
    "execution": {
     "iopub.execute_input": "2025-08-26T06:07:04.187878Z",
     "iopub.status.busy": "2025-08-26T06:07:04.187573Z",
     "iopub.status.idle": "2025-08-26T06:07:10.298282Z",
     "shell.execute_reply": "2025-08-26T06:07:10.297675Z"
    },
    "papermill": {
     "duration": 6.159705,
     "end_time": "2025-08-26T06:07:10.299609",
     "exception": false,
     "start_time": "2025-08-26T06:07:04.139904",
     "status": "completed"
    },
    "tags": []
   },
   "outputs": [],
   "source": [
    "import numpy as np # linear algebra\n",
    "import pandas as pd # data processing, CSV file I/O (e.g. pd.read_csv)\n",
    "from sklearn.preprocessing import LabelEncoder\n",
    "from sklearn.model_selection import train_test_split\n",
    "\n",
    "import os, time , gc , json\n",
    "import numpy as np # linear algebra\n",
    "import pandas as pd # data processing, CSV file I/O (e.g. pd.read_csv)\n",
    "import matplotlib.pyplot as plt\n",
    "import seaborn as sns\n",
    "\n",
    "import torch\n",
    "from torch import nn\n",
    "import transformers\n",
    "\n",
    "\n"
   ]
  },
  {
   "cell_type": "code",
   "execution_count": 3,
   "id": "8d0e43ab",
   "metadata": {
    "execution": {
     "iopub.execute_input": "2025-08-26T06:07:10.395718Z",
     "iopub.status.busy": "2025-08-26T06:07:10.395363Z",
     "iopub.status.idle": "2025-08-26T06:07:32.575370Z",
     "shell.execute_reply": "2025-08-26T06:07:32.574803Z"
    },
    "papermill": {
     "duration": 22.229867,
     "end_time": "2025-08-26T06:07:32.576734",
     "exception": false,
     "start_time": "2025-08-26T06:07:10.346867",
     "status": "completed"
    },
    "tags": []
   },
   "outputs": [
    {
     "name": "stderr",
     "output_type": "stream",
     "text": [
      "2025-08-26 06:07:17.138794: E external/local_xla/xla/stream_executor/cuda/cuda_fft.cc:477] Unable to register cuFFT factory: Attempting to register factory for plugin cuFFT when one has already been registered\n",
      "WARNING: All log messages before absl::InitializeLog() is called are written to STDERR\n",
      "E0000 00:00:1756188437.305400      19 cuda_dnn.cc:8310] Unable to register cuDNN factory: Attempting to register factory for plugin cuDNN when one has already been registered\n",
      "E0000 00:00:1756188437.353112      19 cuda_blas.cc:1418] Unable to register cuBLAS factory: Attempting to register factory for plugin cuBLAS when one has already been registered\n"
     ]
    }
   ],
   "source": [
    "import torch\n",
    "from sklearn.model_selection import train_test_split\n",
    "\n",
    "from transformers import (AutoTokenizer, \n",
    "                          BitsAndBytesConfig, \n",
    "                          AutoModelForCausalLM,\n",
    "                          AutoModelForSequenceClassification,\n",
    "                         TrainingArguments)\n",
    "\n",
    "from datasets import Dataset, DatasetDict, load_dataset\n",
    "\n",
    "\n",
    "# Fine tuning \n",
    "from trl import SFTTrainer, SFTConfig\n",
    "from peft import (LoraConfig, \n",
    "                    PeftModel, \n",
    "                    get_peft_model)\n",
    "                    # prepare_model_for_kbit_training)  #prepare_model_for_int8_training deprecated \n",
    "\n",
    "from sklearn.metrics import (classification_report, ConfusionMatrixDisplay, log_loss,\n",
    "                             f1_score, accuracy_score, precision_score, recall_score)"
   ]
  },
  {
   "cell_type": "code",
   "execution_count": 4,
   "id": "d7f7be54",
   "metadata": {
    "_cell_guid": "b1076dfc-b9ad-4769-8c92-a6c4dae69d19",
    "_uuid": "8f2839f25d086af736a60e9eeb907d3b93b6e0e5",
    "execution": {
     "iopub.execute_input": "2025-08-26T06:07:32.671149Z",
     "iopub.status.busy": "2025-08-26T06:07:32.670896Z",
     "iopub.status.idle": "2025-08-26T06:07:32.686881Z",
     "shell.execute_reply": "2025-08-26T06:07:32.686184Z"
    },
    "papermill": {
     "duration": 0.063589,
     "end_time": "2025-08-26T06:07:32.688007",
     "exception": false,
     "start_time": "2025-08-26T06:07:32.624418",
     "status": "completed"
    },
    "tags": []
   },
   "outputs": [
    {
     "name": "stdout",
     "output_type": "stream",
     "text": [
      "/kaggle/input/map-charting-student-math-misunderstandings/sample_submission.csv\n",
      "/kaggle/input/map-charting-student-math-misunderstandings/train.csv\n",
      "/kaggle/input/map-charting-student-math-misunderstandings/test.csv\n",
      "/kaggle/input/universal-llm-install-package2/V7/langchain_community-0.3.2-py3-none-any.whl\n",
      "/kaggle/input/universal-llm-install-package2/V7/langsmith-0.1.136-py3-none-any.whl\n",
      "/kaggle/input/universal-llm-install-package2/V7/bitsandbytes-0.45.0-py3-none-manylinux_2_24_x86_64.whl\n",
      "/kaggle/input/universal-llm-install-package2/V7/langchain_core-0.3.12-py3-none-any.whl\n",
      "/kaggle/input/universal-llm-install-package2/V7/accelerate-1.0.1-py3-none-any.whl\n",
      "/kaggle/input/universal-llm-install-package2/V7/trl-0.11.4-py3-none-any.whl\n",
      "/kaggle/input/universal-llm-install-package2/V7/langchain_text_splitters-0.3.0-py3-none-any.whl\n",
      "/kaggle/input/universal-llm-install-package2/V7/huggingface_hub-0.26.0-py3-none-any.whl\n",
      "/kaggle/input/universal-llm-install-package2/V7/langchain-0.3.3-py3-none-any.whl\n",
      "/kaggle/input/universal-llm-install-package2/V7/peft-0.14.0-py3-none-any.whl\n",
      "/kaggle/input/universal-llm-install-package2/V7/transformers-4.45.2-py3-none-any.whl\n",
      "/kaggle/input/qwen-3/transformers/8b/1/model.safetensors.index.json\n",
      "/kaggle/input/qwen-3/transformers/8b/1/config.json\n",
      "/kaggle/input/qwen-3/transformers/8b/1/merges.txt\n",
      "/kaggle/input/qwen-3/transformers/8b/1/model-00005-of-00005.safetensors\n",
      "/kaggle/input/qwen-3/transformers/8b/1/model-00001-of-00005.safetensors\n",
      "/kaggle/input/qwen-3/transformers/8b/1/README.md\n",
      "/kaggle/input/qwen-3/transformers/8b/1/model-00002-of-00005.safetensors\n",
      "/kaggle/input/qwen-3/transformers/8b/1/tokenizer.json\n",
      "/kaggle/input/qwen-3/transformers/8b/1/vocab.json\n",
      "/kaggle/input/qwen-3/transformers/8b/1/tokenizer_config.json\n",
      "/kaggle/input/qwen-3/transformers/8b/1/model-00004-of-00005.safetensors\n",
      "/kaggle/input/qwen-3/transformers/8b/1/model-00003-of-00005.safetensors\n",
      "/kaggle/input/qwen-3/transformers/8b/1/generation_config.json\n"
     ]
    }
   ],
   "source": [
    "\n",
    "\n",
    "# Input data files are available in the read-only \"../input/\" directory\n",
    "# For example, running this (by clicking run or pressing Shift+Enter) will list all files under the input directory\n",
    "\n",
    "import os\n",
    "for dirname, _, filenames in os.walk('/kaggle/input'):\n",
    "    for filename in filenames:\n",
    "        print(os.path.join(dirname, filename))\n",
    "\n",
    "# You can write up to 20GB to the current directory (/kaggle/working/) that gets preserved as output when you create a version using \"Save & Run All\" \n",
    "# You can also write temporary files to /kaggle/temp/, but they won't be saved outside of the current session"
   ]
  },
  {
   "cell_type": "code",
   "execution_count": 5,
   "id": "be7c749e",
   "metadata": {
    "execution": {
     "iopub.execute_input": "2025-08-26T06:07:32.782493Z",
     "iopub.status.busy": "2025-08-26T06:07:32.782256Z",
     "iopub.status.idle": "2025-08-26T06:07:32.786981Z",
     "shell.execute_reply": "2025-08-26T06:07:32.786391Z"
    },
    "papermill": {
     "duration": 0.053503,
     "end_time": "2025-08-26T06:07:32.788099",
     "exception": false,
     "start_time": "2025-08-26T06:07:32.734596",
     "status": "completed"
    },
    "tags": []
   },
   "outputs": [],
   "source": [
    "class CFG:\n",
    "    DeepEval = False#True  # True must enable \"Internet on\" \n",
    "\n",
    "     # LLM Config \n",
    "    reportTo =\"none\"\n",
    "    topK = 40\n",
    "    topP = 1.0\n",
    "    temperature = 0.1 #0.5\n",
    "    repetition_penalty = 1.05 # 1.1\n",
    "    maxOutToken = 300 #150#180 #100\n",
    "    \n",
    "\n",
    "    # Fine tuning Config\n",
    "    maxLength = 256 #1024 \n",
    "    reportTo = \"none\"\n",
    "    maxEpoch = 2\n",
    "    evalSteps = 20 \n",
    "    learning_rate = 2e-4 #1e-4\n",
    "    per_device_train_batch_size = 6 #2 #8#6 #8\n",
    "    per_device_eval_batch_size = 6 #2 #8#6 #8  \n",
    "\n",
    "    warmup_steps= 5# 10\n",
    "    gradient_accumulation_steps =2  #10\n",
    "    maxTrainStep = 100 #50#100 #250 #150 \n",
    "    valDatasetSize = 20 #10 #50 #500 # set validiation data size\n",
    "\n",
    "    #model\n",
    "    model1 = \"/kaggle/input/qwen-3/transformers/8b/1\"\n",
    "\n",
    "    #\n",
    "    frac = 0.5 #0.3 #0.3 #0.3 #0.1 # Random resample data(reduce train data size )\n",
    "    \n",
    "\n",
    "    trainFile = \"/kaggle/input/map-charting-student-math-misunderstandings/train.csv\"\n",
    "    testFile  = \"/kaggle/input/map-charting-student-math-misunderstandings/test.csv\"\n",
    "    sampleFile = \"/kaggle/input/map-charting-student-math-misunderstandings/sample_submission.csv\"\n",
    "    "
   ]
  },
  {
   "cell_type": "code",
   "execution_count": 6,
   "id": "84521bc7",
   "metadata": {
    "execution": {
     "iopub.execute_input": "2025-08-26T06:07:32.881560Z",
     "iopub.status.busy": "2025-08-26T06:07:32.881329Z",
     "iopub.status.idle": "2025-08-26T06:07:32.886162Z",
     "shell.execute_reply": "2025-08-26T06:07:32.885663Z"
    },
    "papermill": {
     "duration": 0.052376,
     "end_time": "2025-08-26T06:07:32.887125",
     "exception": false,
     "start_time": "2025-08-26T06:07:32.834749",
     "status": "completed"
    },
    "tags": []
   },
   "outputs": [
    {
     "data": {
      "text/plain": [
       "device(type='cuda')"
      ]
     },
     "execution_count": 6,
     "metadata": {},
     "output_type": "execute_result"
    }
   ],
   "source": [
    "device = torch.device(\"cuda\" if torch.cuda.is_available() else \"cpu\")\n",
    "device"
   ]
  },
  {
   "cell_type": "code",
   "execution_count": 7,
   "id": "5b64d8e9",
   "metadata": {
    "execution": {
     "iopub.execute_input": "2025-08-26T06:07:32.980940Z",
     "iopub.status.busy": "2025-08-26T06:07:32.980715Z",
     "iopub.status.idle": "2025-08-26T06:07:33.146638Z",
     "shell.execute_reply": "2025-08-26T06:07:33.145980Z"
    },
    "papermill": {
     "duration": 0.2137,
     "end_time": "2025-08-26T06:07:33.147822",
     "exception": false,
     "start_time": "2025-08-26T06:07:32.934122",
     "status": "completed"
    },
    "tags": []
   },
   "outputs": [
    {
     "data": {
      "text/plain": [
       "True"
      ]
     },
     "execution_count": 7,
     "metadata": {},
     "output_type": "execute_result"
    }
   ],
   "source": [
    "torch.cuda.is_bf16_supported()"
   ]
  },
  {
   "cell_type": "code",
   "execution_count": 8,
   "id": "eec186b4",
   "metadata": {
    "execution": {
     "iopub.execute_input": "2025-08-26T06:07:33.243028Z",
     "iopub.status.busy": "2025-08-26T06:07:33.242558Z",
     "iopub.status.idle": "2025-08-26T06:07:33.246436Z",
     "shell.execute_reply": "2025-08-26T06:07:33.245674Z"
    },
    "papermill": {
     "duration": 0.051957,
     "end_time": "2025-08-26T06:07:33.247545",
     "exception": false,
     "start_time": "2025-08-26T06:07:33.195588",
     "status": "completed"
    },
    "tags": []
   },
   "outputs": [],
   "source": [
    "def clearMemory():\n",
    "    for _ in range(5):\n",
    "        torch.cuda.empty_cache()\n",
    "        gc.collect()\n",
    "        time.sleep(0.3)"
   ]
  },
  {
   "cell_type": "code",
   "execution_count": 9,
   "id": "78e091c5",
   "metadata": {
    "execution": {
     "iopub.execute_input": "2025-08-26T06:07:33.341245Z",
     "iopub.status.busy": "2025-08-26T06:07:33.341061Z",
     "iopub.status.idle": "2025-08-26T06:07:36.580280Z",
     "shell.execute_reply": "2025-08-26T06:07:36.579711Z"
    },
    "papermill": {
     "duration": 3.287105,
     "end_time": "2025-08-26T06:07:36.581538",
     "exception": false,
     "start_time": "2025-08-26T06:07:33.294433",
     "status": "completed"
    },
    "tags": []
   },
   "outputs": [],
   "source": [
    "clearMemory()"
   ]
  },
  {
   "cell_type": "code",
   "execution_count": 10,
   "id": "8af45547",
   "metadata": {
    "execution": {
     "iopub.execute_input": "2025-08-26T06:07:36.676722Z",
     "iopub.status.busy": "2025-08-26T06:07:36.676037Z",
     "iopub.status.idle": "2025-08-26T06:07:36.882438Z",
     "shell.execute_reply": "2025-08-26T06:07:36.881630Z"
    },
    "papermill": {
     "duration": 0.254377,
     "end_time": "2025-08-26T06:07:36.883691",
     "exception": false,
     "start_time": "2025-08-26T06:07:36.629314",
     "status": "completed"
    },
    "tags": []
   },
   "outputs": [
    {
     "data": {
      "text/html": [
       "<div>\n",
       "<style scoped>\n",
       "    .dataframe tbody tr th:only-of-type {\n",
       "        vertical-align: middle;\n",
       "    }\n",
       "\n",
       "    .dataframe tbody tr th {\n",
       "        vertical-align: top;\n",
       "    }\n",
       "\n",
       "    .dataframe thead th {\n",
       "        text-align: right;\n",
       "    }\n",
       "</style>\n",
       "<table border=\"1\" class=\"dataframe\">\n",
       "  <thead>\n",
       "    <tr style=\"text-align: right;\">\n",
       "      <th></th>\n",
       "      <th>row_id</th>\n",
       "      <th>QuestionId</th>\n",
       "      <th>QuestionText</th>\n",
       "      <th>MC_Answer</th>\n",
       "      <th>StudentExplanation</th>\n",
       "      <th>Category</th>\n",
       "      <th>Misconception</th>\n",
       "    </tr>\n",
       "  </thead>\n",
       "  <tbody>\n",
       "    <tr>\n",
       "      <th>0</th>\n",
       "      <td>0</td>\n",
       "      <td>31772</td>\n",
       "      <td>What fraction of the shape is not shaded? Give...</td>\n",
       "      <td>\\( \\frac{1}{3} \\)</td>\n",
       "      <td>0ne third is equal to tree nineth</td>\n",
       "      <td>True_Correct</td>\n",
       "      <td>NaN</td>\n",
       "    </tr>\n",
       "    <tr>\n",
       "      <th>1</th>\n",
       "      <td>1</td>\n",
       "      <td>31772</td>\n",
       "      <td>What fraction of the shape is not shaded? Give...</td>\n",
       "      <td>\\( \\frac{1}{3} \\)</td>\n",
       "      <td>1 / 3 because 6 over 9 is 2 thirds and 1 third...</td>\n",
       "      <td>True_Correct</td>\n",
       "      <td>NaN</td>\n",
       "    </tr>\n",
       "    <tr>\n",
       "      <th>2</th>\n",
       "      <td>2</td>\n",
       "      <td>31772</td>\n",
       "      <td>What fraction of the shape is not shaded? Give...</td>\n",
       "      <td>\\( \\frac{1}{3} \\)</td>\n",
       "      <td>1 3rd is half of 3 6th, so it is simplee to un...</td>\n",
       "      <td>True_Neither</td>\n",
       "      <td>NaN</td>\n",
       "    </tr>\n",
       "    <tr>\n",
       "      <th>3</th>\n",
       "      <td>3</td>\n",
       "      <td>31772</td>\n",
       "      <td>What fraction of the shape is not shaded? Give...</td>\n",
       "      <td>\\( \\frac{1}{3} \\)</td>\n",
       "      <td>1 goes into everything and 3 goes into nine</td>\n",
       "      <td>True_Neither</td>\n",
       "      <td>NaN</td>\n",
       "    </tr>\n",
       "    <tr>\n",
       "      <th>4</th>\n",
       "      <td>4</td>\n",
       "      <td>31772</td>\n",
       "      <td>What fraction of the shape is not shaded? Give...</td>\n",
       "      <td>\\( \\frac{1}{3} \\)</td>\n",
       "      <td>1 out of every 3 isn't coloured</td>\n",
       "      <td>True_Correct</td>\n",
       "      <td>NaN</td>\n",
       "    </tr>\n",
       "  </tbody>\n",
       "</table>\n",
       "</div>"
      ],
      "text/plain": [
       "   row_id  QuestionId                                       QuestionText  \\\n",
       "0       0       31772  What fraction of the shape is not shaded? Give...   \n",
       "1       1       31772  What fraction of the shape is not shaded? Give...   \n",
       "2       2       31772  What fraction of the shape is not shaded? Give...   \n",
       "3       3       31772  What fraction of the shape is not shaded? Give...   \n",
       "4       4       31772  What fraction of the shape is not shaded? Give...   \n",
       "\n",
       "           MC_Answer                                 StudentExplanation  \\\n",
       "0  \\( \\frac{1}{3} \\)                  0ne third is equal to tree nineth   \n",
       "1  \\( \\frac{1}{3} \\)  1 / 3 because 6 over 9 is 2 thirds and 1 third...   \n",
       "2  \\( \\frac{1}{3} \\)  1 3rd is half of 3 6th, so it is simplee to un...   \n",
       "3  \\( \\frac{1}{3} \\)        1 goes into everything and 3 goes into nine   \n",
       "4  \\( \\frac{1}{3} \\)                    1 out of every 3 isn't coloured   \n",
       "\n",
       "       Category Misconception  \n",
       "0  True_Correct           NaN  \n",
       "1  True_Correct           NaN  \n",
       "2  True_Neither           NaN  \n",
       "3  True_Neither           NaN  \n",
       "4  True_Correct           NaN  "
      ]
     },
     "execution_count": 10,
     "metadata": {},
     "output_type": "execute_result"
    }
   ],
   "source": [
    "trainDF = pd.read_csv(CFG.trainFile)\n",
    "trainDF.head()"
   ]
  },
  {
   "cell_type": "code",
   "execution_count": 11,
   "id": "8e28fffd",
   "metadata": {
    "execution": {
     "iopub.execute_input": "2025-08-26T06:07:36.980425Z",
     "iopub.status.busy": "2025-08-26T06:07:36.980209Z",
     "iopub.status.idle": "2025-08-26T06:07:37.006941Z",
     "shell.execute_reply": "2025-08-26T06:07:37.006144Z"
    },
    "papermill": {
     "duration": 0.076113,
     "end_time": "2025-08-26T06:07:37.008136",
     "exception": false,
     "start_time": "2025-08-26T06:07:36.932023",
     "status": "completed"
    },
    "tags": []
   },
   "outputs": [
    {
     "name": "stdout",
     "output_type": "stream",
     "text": [
      "<class 'pandas.core.frame.DataFrame'>\n",
      "RangeIndex: 36696 entries, 0 to 36695\n",
      "Data columns (total 7 columns):\n",
      " #   Column              Non-Null Count  Dtype \n",
      "---  ------              --------------  ----- \n",
      " 0   row_id              36696 non-null  int64 \n",
      " 1   QuestionId          36696 non-null  int64 \n",
      " 2   QuestionText        36696 non-null  object\n",
      " 3   MC_Answer           36696 non-null  object\n",
      " 4   StudentExplanation  36696 non-null  object\n",
      " 5   Category            36696 non-null  object\n",
      " 6   Misconception       9860 non-null   object\n",
      "dtypes: int64(2), object(5)\n",
      "memory usage: 2.0+ MB\n"
     ]
    }
   ],
   "source": [
    "trainDF.info()"
   ]
  },
  {
   "cell_type": "code",
   "execution_count": 12,
   "id": "a8d89b93",
   "metadata": {
    "execution": {
     "iopub.execute_input": "2025-08-26T06:07:37.101948Z",
     "iopub.status.busy": "2025-08-26T06:07:37.101710Z",
     "iopub.status.idle": "2025-08-26T06:07:37.115835Z",
     "shell.execute_reply": "2025-08-26T06:07:37.115188Z"
    },
    "papermill": {
     "duration": 0.0619,
     "end_time": "2025-08-26T06:07:37.116924",
     "exception": false,
     "start_time": "2025-08-26T06:07:37.055024",
     "status": "completed"
    },
    "tags": []
   },
   "outputs": [
    {
     "data": {
      "text/html": [
       "<div>\n",
       "<style scoped>\n",
       "    .dataframe tbody tr th:only-of-type {\n",
       "        vertical-align: middle;\n",
       "    }\n",
       "\n",
       "    .dataframe tbody tr th {\n",
       "        vertical-align: top;\n",
       "    }\n",
       "\n",
       "    .dataframe thead th {\n",
       "        text-align: right;\n",
       "    }\n",
       "</style>\n",
       "<table border=\"1\" class=\"dataframe\">\n",
       "  <thead>\n",
       "    <tr style=\"text-align: right;\">\n",
       "      <th></th>\n",
       "      <th>row_id</th>\n",
       "      <th>QuestionId</th>\n",
       "    </tr>\n",
       "  </thead>\n",
       "  <tbody>\n",
       "    <tr>\n",
       "      <th>count</th>\n",
       "      <td>36696.000000</td>\n",
       "      <td>36696.000000</td>\n",
       "    </tr>\n",
       "    <tr>\n",
       "      <th>mean</th>\n",
       "      <td>18347.500000</td>\n",
       "      <td>46356.825104</td>\n",
       "    </tr>\n",
       "    <tr>\n",
       "      <th>std</th>\n",
       "      <td>10593.367076</td>\n",
       "      <td>25617.723392</td>\n",
       "    </tr>\n",
       "    <tr>\n",
       "      <th>min</th>\n",
       "      <td>0.000000</td>\n",
       "      <td>31772.000000</td>\n",
       "    </tr>\n",
       "    <tr>\n",
       "      <th>25%</th>\n",
       "      <td>9173.750000</td>\n",
       "      <td>31777.000000</td>\n",
       "    </tr>\n",
       "    <tr>\n",
       "      <th>50%</th>\n",
       "      <td>18347.500000</td>\n",
       "      <td>32833.000000</td>\n",
       "    </tr>\n",
       "    <tr>\n",
       "      <th>75%</th>\n",
       "      <td>27521.250000</td>\n",
       "      <td>33474.000000</td>\n",
       "    </tr>\n",
       "    <tr>\n",
       "      <th>max</th>\n",
       "      <td>36695.000000</td>\n",
       "      <td>109465.000000</td>\n",
       "    </tr>\n",
       "  </tbody>\n",
       "</table>\n",
       "</div>"
      ],
      "text/plain": [
       "             row_id     QuestionId\n",
       "count  36696.000000   36696.000000\n",
       "mean   18347.500000   46356.825104\n",
       "std    10593.367076   25617.723392\n",
       "min        0.000000   31772.000000\n",
       "25%     9173.750000   31777.000000\n",
       "50%    18347.500000   32833.000000\n",
       "75%    27521.250000   33474.000000\n",
       "max    36695.000000  109465.000000"
      ]
     },
     "execution_count": 12,
     "metadata": {},
     "output_type": "execute_result"
    }
   ],
   "source": [
    "trainDF.describe()"
   ]
  },
  {
   "cell_type": "code",
   "execution_count": 13,
   "id": "aaa12994",
   "metadata": {
    "execution": {
     "iopub.execute_input": "2025-08-26T06:07:37.213203Z",
     "iopub.status.busy": "2025-08-26T06:07:37.212992Z",
     "iopub.status.idle": "2025-08-26T06:07:37.223431Z",
     "shell.execute_reply": "2025-08-26T06:07:37.222817Z"
    },
    "papermill": {
     "duration": 0.059107,
     "end_time": "2025-08-26T06:07:37.224413",
     "exception": false,
     "start_time": "2025-08-26T06:07:37.165306",
     "status": "completed"
    },
    "tags": []
   },
   "outputs": [
    {
     "data": {
      "text/html": [
       "<div>\n",
       "<style scoped>\n",
       "    .dataframe tbody tr th:only-of-type {\n",
       "        vertical-align: middle;\n",
       "    }\n",
       "\n",
       "    .dataframe tbody tr th {\n",
       "        vertical-align: top;\n",
       "    }\n",
       "\n",
       "    .dataframe thead th {\n",
       "        text-align: right;\n",
       "    }\n",
       "</style>\n",
       "<table border=\"1\" class=\"dataframe\">\n",
       "  <thead>\n",
       "    <tr style=\"text-align: right;\">\n",
       "      <th></th>\n",
       "      <th>row_id</th>\n",
       "      <th>QuestionId</th>\n",
       "      <th>QuestionText</th>\n",
       "      <th>MC_Answer</th>\n",
       "      <th>StudentExplanation</th>\n",
       "    </tr>\n",
       "  </thead>\n",
       "  <tbody>\n",
       "    <tr>\n",
       "      <th>0</th>\n",
       "      <td>36696</td>\n",
       "      <td>31772</td>\n",
       "      <td>What fraction of the shape is not shaded? Give...</td>\n",
       "      <td>\\( \\frac{1}{3} \\)</td>\n",
       "      <td>I think that 1/3 is the answer, as it's the si...</td>\n",
       "    </tr>\n",
       "    <tr>\n",
       "      <th>1</th>\n",
       "      <td>36697</td>\n",
       "      <td>31772</td>\n",
       "      <td>What fraction of the shape is not shaded? Give...</td>\n",
       "      <td>\\( \\frac{3}{6} \\)</td>\n",
       "      <td>i think this answer is because 3 triangles are...</td>\n",
       "    </tr>\n",
       "    <tr>\n",
       "      <th>2</th>\n",
       "      <td>36698</td>\n",
       "      <td>32835</td>\n",
       "      <td>Which number is the greatest?</td>\n",
       "      <td>\\( 6.2 \\)</td>\n",
       "      <td>because the 2 makes it higher than the others.</td>\n",
       "    </tr>\n",
       "  </tbody>\n",
       "</table>\n",
       "</div>"
      ],
      "text/plain": [
       "   row_id  QuestionId                                       QuestionText  \\\n",
       "0   36696       31772  What fraction of the shape is not shaded? Give...   \n",
       "1   36697       31772  What fraction of the shape is not shaded? Give...   \n",
       "2   36698       32835                      Which number is the greatest?   \n",
       "\n",
       "           MC_Answer                                 StudentExplanation  \n",
       "0  \\( \\frac{1}{3} \\)  I think that 1/3 is the answer, as it's the si...  \n",
       "1  \\( \\frac{3}{6} \\)  i think this answer is because 3 triangles are...  \n",
       "2          \\( 6.2 \\)     because the 2 makes it higher than the others.  "
      ]
     },
     "execution_count": 13,
     "metadata": {},
     "output_type": "execute_result"
    }
   ],
   "source": [
    "testDF = pd.read_csv(CFG.testFile)\n",
    "testDF"
   ]
  },
  {
   "cell_type": "code",
   "execution_count": 14,
   "id": "753e3371",
   "metadata": {
    "execution": {
     "iopub.execute_input": "2025-08-26T06:07:37.319053Z",
     "iopub.status.busy": "2025-08-26T06:07:37.318843Z",
     "iopub.status.idle": "2025-08-26T06:07:37.326366Z",
     "shell.execute_reply": "2025-08-26T06:07:37.325655Z"
    },
    "papermill": {
     "duration": 0.055588,
     "end_time": "2025-08-26T06:07:37.327480",
     "exception": false,
     "start_time": "2025-08-26T06:07:37.271892",
     "status": "completed"
    },
    "tags": []
   },
   "outputs": [
    {
     "name": "stdout",
     "output_type": "stream",
     "text": [
      "<class 'pandas.core.frame.DataFrame'>\n",
      "RangeIndex: 3 entries, 0 to 2\n",
      "Data columns (total 5 columns):\n",
      " #   Column              Non-Null Count  Dtype \n",
      "---  ------              --------------  ----- \n",
      " 0   row_id              3 non-null      int64 \n",
      " 1   QuestionId          3 non-null      int64 \n",
      " 2   QuestionText        3 non-null      object\n",
      " 3   MC_Answer           3 non-null      object\n",
      " 4   StudentExplanation  3 non-null      object\n",
      "dtypes: int64(2), object(3)\n",
      "memory usage: 252.0+ bytes\n"
     ]
    }
   ],
   "source": [
    "testDF.info()"
   ]
  },
  {
   "cell_type": "code",
   "execution_count": 15,
   "id": "26862551",
   "metadata": {
    "execution": {
     "iopub.execute_input": "2025-08-26T06:07:37.422131Z",
     "iopub.status.busy": "2025-08-26T06:07:37.421928Z",
     "iopub.status.idle": "2025-08-26T06:07:37.426870Z",
     "shell.execute_reply": "2025-08-26T06:07:37.426283Z"
    },
    "papermill": {
     "duration": 0.053715,
     "end_time": "2025-08-26T06:07:37.427971",
     "exception": false,
     "start_time": "2025-08-26T06:07:37.374256",
     "status": "completed"
    },
    "tags": []
   },
   "outputs": [
    {
     "data": {
      "text/plain": [
       "row_id                0\n",
       "QuestionId            0\n",
       "QuestionText          0\n",
       "MC_Answer             0\n",
       "StudentExplanation    0\n",
       "dtype: int64"
      ]
     },
     "execution_count": 15,
     "metadata": {},
     "output_type": "execute_result"
    }
   ],
   "source": [
    "testDF.isnull().sum()"
   ]
  },
  {
   "cell_type": "code",
   "execution_count": 16,
   "id": "e0290900",
   "metadata": {
    "execution": {
     "iopub.execute_input": "2025-08-26T06:07:37.525106Z",
     "iopub.status.busy": "2025-08-26T06:07:37.524889Z",
     "iopub.status.idle": "2025-08-26T06:07:37.538054Z",
     "shell.execute_reply": "2025-08-26T06:07:37.537390Z"
    },
    "papermill": {
     "duration": 0.061987,
     "end_time": "2025-08-26T06:07:37.539069",
     "exception": false,
     "start_time": "2025-08-26T06:07:37.477082",
     "status": "completed"
    },
    "tags": []
   },
   "outputs": [
    {
     "data": {
      "text/plain": [
       "row_id                    0\n",
       "QuestionId                0\n",
       "QuestionText              0\n",
       "MC_Answer                 0\n",
       "StudentExplanation        0\n",
       "Category                  0\n",
       "Misconception         26836\n",
       "dtype: int64"
      ]
     },
     "execution_count": 16,
     "metadata": {},
     "output_type": "execute_result"
    }
   ],
   "source": [
    "# Nan and Null check\n",
    "trainDF.isnull().sum()\n"
   ]
  },
  {
   "cell_type": "code",
   "execution_count": 17,
   "id": "d7302d1d",
   "metadata": {
    "execution": {
     "iopub.execute_input": "2025-08-26T06:07:37.634820Z",
     "iopub.status.busy": "2025-08-26T06:07:37.634575Z",
     "iopub.status.idle": "2025-08-26T06:07:37.651686Z",
     "shell.execute_reply": "2025-08-26T06:07:37.651077Z"
    },
    "papermill": {
     "duration": 0.065824,
     "end_time": "2025-08-26T06:07:37.652685",
     "exception": false,
     "start_time": "2025-08-26T06:07:37.586861",
     "status": "completed"
    },
    "tags": []
   },
   "outputs": [
    {
     "data": {
      "text/html": [
       "<div>\n",
       "<style scoped>\n",
       "    .dataframe tbody tr th:only-of-type {\n",
       "        vertical-align: middle;\n",
       "    }\n",
       "\n",
       "    .dataframe tbody tr th {\n",
       "        vertical-align: top;\n",
       "    }\n",
       "\n",
       "    .dataframe thead th {\n",
       "        text-align: right;\n",
       "    }\n",
       "</style>\n",
       "<table border=\"1\" class=\"dataframe\">\n",
       "  <thead>\n",
       "    <tr style=\"text-align: right;\">\n",
       "      <th></th>\n",
       "      <th>row_id</th>\n",
       "      <th>Category:Misconception</th>\n",
       "    </tr>\n",
       "  </thead>\n",
       "  <tbody>\n",
       "    <tr>\n",
       "      <th>0</th>\n",
       "      <td>36696</td>\n",
       "      <td>True_Correct:NA False_Neither:NA False_Misconc...</td>\n",
       "    </tr>\n",
       "    <tr>\n",
       "      <th>1</th>\n",
       "      <td>36697</td>\n",
       "      <td>True_Correct:NA False_Neither:NA False_Misconc...</td>\n",
       "    </tr>\n",
       "    <tr>\n",
       "      <th>2</th>\n",
       "      <td>36698</td>\n",
       "      <td>True_Correct:NA False_Neither:NA False_Misconc...</td>\n",
       "    </tr>\n",
       "  </tbody>\n",
       "</table>\n",
       "</div>"
      ],
      "text/plain": [
       "   row_id                             Category:Misconception\n",
       "0   36696  True_Correct:NA False_Neither:NA False_Misconc...\n",
       "1   36697  True_Correct:NA False_Neither:NA False_Misconc...\n",
       "2   36698  True_Correct:NA False_Neither:NA False_Misconc..."
      ]
     },
     "execution_count": 17,
     "metadata": {},
     "output_type": "execute_result"
    }
   ],
   "source": [
    "sample = pd.read_csv(CFG.sampleFile)\n",
    "sample"
   ]
  },
  {
   "cell_type": "code",
   "execution_count": 18,
   "id": "30814686",
   "metadata": {
    "execution": {
     "iopub.execute_input": "2025-08-26T06:07:37.750274Z",
     "iopub.status.busy": "2025-08-26T06:07:37.749900Z",
     "iopub.status.idle": "2025-08-26T06:07:37.754192Z",
     "shell.execute_reply": "2025-08-26T06:07:37.753670Z"
    },
    "papermill": {
     "duration": 0.052654,
     "end_time": "2025-08-26T06:07:37.755222",
     "exception": false,
     "start_time": "2025-08-26T06:07:37.702568",
     "status": "completed"
    },
    "tags": []
   },
   "outputs": [
    {
     "data": {
      "text/plain": [
       "Index(['row_id', 'Category:Misconception'], dtype='object')"
      ]
     },
     "execution_count": 18,
     "metadata": {},
     "output_type": "execute_result"
    }
   ],
   "source": [
    "sample.columns"
   ]
  },
  {
   "cell_type": "markdown",
   "id": "12844cfd",
   "metadata": {
    "execution": {
     "iopub.execute_input": "2025-08-05T12:00:32.719746Z",
     "iopub.status.busy": "2025-08-05T12:00:32.719388Z",
     "iopub.status.idle": "2025-08-05T12:00:32.724824Z",
     "shell.execute_reply": "2025-08-05T12:00:32.723659Z",
     "shell.execute_reply.started": "2025-08-05T12:00:32.719721Z"
    },
    "papermill": {
     "duration": 0.047159,
     "end_time": "2025-08-26T06:07:37.850151",
     "exception": false,
     "start_time": "2025-08-26T06:07:37.802992",
     "status": "completed"
    },
    "tags": []
   },
   "source": [
    "## EDA\n",
    "### Print Columns Values"
   ]
  },
  {
   "cell_type": "code",
   "execution_count": 19,
   "id": "aa4b6db6",
   "metadata": {
    "execution": {
     "iopub.execute_input": "2025-08-26T06:07:37.946312Z",
     "iopub.status.busy": "2025-08-26T06:07:37.945879Z",
     "iopub.status.idle": "2025-08-26T06:07:37.950197Z",
     "shell.execute_reply": "2025-08-26T06:07:37.949681Z"
    },
    "papermill": {
     "duration": 0.053365,
     "end_time": "2025-08-26T06:07:37.951222",
     "exception": false,
     "start_time": "2025-08-26T06:07:37.897857",
     "status": "completed"
    },
    "tags": []
   },
   "outputs": [],
   "source": [
    "def printAllcolumnsValue(df, showAll=True):\n",
    "    \"\"\"\n",
    "    Print DataFrame columns values\n",
    "    \"\"\"\n",
    "    # loop column\n",
    "    for col in df.columns:\n",
    "        if showAll is True:\n",
    "            print(f\"{col} : {df[col].unique()}\") # print unique value\n",
    "        else: # only print caterogy column\n",
    "            if df[col].dtype == \"object\":\n",
    "                print(f\"{col} : {df[col].unique()}\") # print unique value\n",
    "\n",
    "def printSerieUnquieValue(df):\n",
    "    \"\"\"\n",
    "    print data serie value\n",
    "    \"\"\"\n",
    "    print(f\" {df.unique()}\")"
   ]
  },
  {
   "cell_type": "code",
   "execution_count": 20,
   "id": "3e4a0adf",
   "metadata": {
    "execution": {
     "iopub.execute_input": "2025-08-26T06:07:38.046062Z",
     "iopub.status.busy": "2025-08-26T06:07:38.045848Z",
     "iopub.status.idle": "2025-08-26T06:07:38.069868Z",
     "shell.execute_reply": "2025-08-26T06:07:38.069078Z"
    },
    "papermill": {
     "duration": 0.072371,
     "end_time": "2025-08-26T06:07:38.071055",
     "exception": false,
     "start_time": "2025-08-26T06:07:37.998684",
     "status": "completed"
    },
    "tags": []
   },
   "outputs": [
    {
     "name": "stdout",
     "output_type": "stream",
     "text": [
      "row_id : [    0     1     2 ... 36693 36694 36695]\n",
      "QuestionId : [ 31772  31774  31777  31778  32829  32833  32835  33471  33472  33474\n",
      "  76870  89443  91695 104665 109465]\n",
      "QuestionText : ['What fraction of the shape is not shaded? Give your answer in its simplest form. [Image: A triangle split into 9 equal smaller triangles. 6 of them are shaded.]'\n",
      " 'Calculate \\\\( \\\\frac{1}{2} \\\\div 6 \\\\)'\n",
      " 'A box contains \\\\( 120 \\\\) counters. The counters are red or blue. \\\\( \\\\frac{3}{5} \\\\) of the counters are red.\\nHow many red counters are there?'\n",
      " '\\\\( \\\\frac{A}{10}=\\\\frac{9}{15} \\\\) What is the value of \\\\( A \\\\) ?'\n",
      " '\\\\( 2 y=24 \\\\) What is the value of \\\\( y \\\\) ?'\n",
      " 'Calculate \\\\( \\\\frac{2}{3} \\\\times 5 \\\\)'\n",
      " 'Which number is the greatest?'\n",
      " 'A bag contains \\\\( 24 \\\\) yellow and green balls. \\\\( \\\\frac{3}{8} \\\\) of the balls are yellow. How many of the balls are green?'\n",
      " '\\\\( \\\\frac{1}{3}+\\\\frac{2}{5}= \\\\)'\n",
      " 'Sally has \\\\( \\\\frac{2}{3} \\\\) of a whole cake in the fridge. Robert eats \\\\( \\\\frac{1}{3} \\\\) of this piece. What fraction of the whole cake has Robert eaten?\\nChoose the number sentence that would solve the word problem.'\n",
      " 'This is part of a regular polygon. How many sides does it have? [Image: A diagram showing an obtuse angle labelled 144 degrees]'\n",
      " 'What number belongs in the box?\\n\\\\(\\n(-8)-(-5)=\\n\\\\square\\\\)'\n",
      " 'Dots have been arranged in these patterns: [Image: Pattern 1 consists of 6 dots, Pattern 2 consists of 10 dots, Pattern 3 consists of 14 dots and Pattern 4 consists of 18 dots] How many dots would there be in Pattern \\\\( 6 \\\\) ?'\n",
      " 'It takes \\\\( 3 \\\\) people a total of \\\\( 192 \\\\) hours to build a wall.\\n\\nHow long would it take if \\\\( 12 \\\\) people built the same wall?'\n",
      " 'The probability of an event occurring is \\\\( 0.9 \\\\).\\n\\nWhich of the following most accurately describes the likelihood of the event occurring?']\n",
      "MC_Answer : ['\\\\( \\\\frac{1}{3} \\\\)' '\\\\( \\\\frac{3}{6} \\\\)' '\\\\( \\\\frac{3}{8} \\\\)'\n",
      " '\\\\( \\\\frac{3}{9} \\\\)' '\\\\( 3 \\\\)' '\\\\( \\\\frac{1}{12} \\\\)'\n",
      " '\\\\( \\\\frac{6}{2} \\\\)' '\\\\( 24 \\\\)' '\\\\( 48 \\\\)' '\\\\( 60 \\\\)'\n",
      " '\\\\( 72 \\\\)' '\\\\( 4 \\\\)' '\\\\( 6 \\\\)' '\\\\( 9 \\\\)' '\\\\( 12 \\\\)'\n",
      " '\\\\( 22 \\\\)' '\\\\( 3 \\\\frac{1}{3} \\\\)' '\\\\( 5 \\\\frac{2}{3} \\\\)'\n",
      " '\\\\( \\\\frac{10}{15} \\\\)' '\\\\( \\\\frac{2}{15} \\\\)' '\\\\( 6.0001 \\\\)'\n",
      " '\\\\( 6.079 \\\\)' '\\\\( 6.2 \\\\)' '\\\\( 15 \\\\)' '\\\\( 8 \\\\)'\n",
      " '\\\\( \\\\frac{11}{15} \\\\)' '\\\\( \\\\frac{11}{30} \\\\)' '\\\\( \\\\frac{3}{15} \\\\)'\n",
      " '\\\\( \\\\frac{1}{3} \\\\times \\\\frac{2}{3} \\\\)'\n",
      " '\\\\( \\\\frac{1}{3}+\\\\frac{2}{3} \\\\)'\n",
      " '\\\\( \\\\frac{2}{3} \\\\div \\\\frac{1}{3} \\\\)'\n",
      " '\\\\( \\\\frac{2}{3}-\\\\frac{1}{3} \\\\)' 'Not enough information' '\\\\( 10 \\\\)'\n",
      " '\\\\( 5 \\\\)' '\\\\( -13 \\\\)' '\\\\( -3 \\\\)' '\\\\( 13 \\\\)' '\\\\( 20 \\\\)'\n",
      " '\\\\( 26 \\\\)' '\\\\( 36 \\\\)' '\\\\( 192 \\\\) hours' '\\\\( 48 \\\\) hours'\n",
      " '\\\\( 64 \\\\) hours' '\\\\( 768 \\\\) hours' 'Certain' 'Impossible' 'Likely'\n",
      " 'Unlikely']\n",
      "StudentExplanation : ['0ne third is equal to tree nineth'\n",
      " '1 / 3 because 6 over 9 is 2 thirds and 1 third is not shaded.'\n",
      " '1 3rd is half of 3 6th, so it is simplee to understand.' ...\n",
      " 'yeah pretty unlikelyy from what it seems.'\n",
      " 'you have 9 other numbers to get.'\n",
      " 'you have a chanve but it is not i think this because there is 0.9 odds so you have chance chance,']\n",
      "Category : ['True_Correct' 'True_Neither' 'True_Misconception' 'False_Neither'\n",
      " 'False_Misconception' 'False_Correct']\n",
      "Misconception : [nan 'Incomplete' 'WNB' 'SwapDividend' 'Mult' 'FlipChange' 'Irrelevant'\n",
      " 'Wrong_Fraction' 'Additive' 'Not_variable' 'Adding_terms'\n",
      " 'Inverse_operation' 'Inversion' 'Duplication' 'Wrong_Operation'\n",
      " 'Whole_numbers_larger' 'Longer_is_bigger' 'Ignores_zeroes'\n",
      " 'Shorter_is_bigger' 'Wrong_fraction' 'Adding_across'\n",
      " 'Denominator-only_change' 'Incorrect_equivalent_fraction_addition'\n",
      " 'Division' 'Subtraction' 'Unknowable' 'Definition' 'Interior' 'Positive'\n",
      " 'Tacking' 'Wrong_term' 'Firstterm' 'Base_rate' 'Multiplying_by_4'\n",
      " 'Certainty' 'Scale']\n"
     ]
    }
   ],
   "source": [
    "printAllcolumnsValue(trainDF, showAll=True)"
   ]
  },
  {
   "cell_type": "code",
   "execution_count": 21,
   "id": "8c796bb5",
   "metadata": {
    "execution": {
     "iopub.execute_input": "2025-08-26T06:07:38.166351Z",
     "iopub.status.busy": "2025-08-26T06:07:38.166174Z",
     "iopub.status.idle": "2025-08-26T06:07:38.170497Z",
     "shell.execute_reply": "2025-08-26T06:07:38.169810Z"
    },
    "papermill": {
     "duration": 0.053233,
     "end_time": "2025-08-26T06:07:38.171494",
     "exception": false,
     "start_time": "2025-08-26T06:07:38.118261",
     "status": "completed"
    },
    "tags": []
   },
   "outputs": [
    {
     "data": {
      "text/plain": [
       "['row_id',\n",
       " 'QuestionId',\n",
       " 'QuestionText',\n",
       " 'MC_Answer',\n",
       " 'StudentExplanation',\n",
       " 'Category',\n",
       " 'Misconception']"
      ]
     },
     "execution_count": 21,
     "metadata": {},
     "output_type": "execute_result"
    }
   ],
   "source": [
    "featureCols = trainDF.columns.tolist()\n",
    "featureCols"
   ]
  },
  {
   "cell_type": "code",
   "execution_count": 22,
   "id": "d122eb86",
   "metadata": {
    "execution": {
     "iopub.execute_input": "2025-08-26T06:07:38.266698Z",
     "iopub.status.busy": "2025-08-26T06:07:38.266275Z",
     "iopub.status.idle": "2025-08-26T06:07:38.275020Z",
     "shell.execute_reply": "2025-08-26T06:07:38.274457Z"
    },
    "papermill": {
     "duration": 0.057307,
     "end_time": "2025-08-26T06:07:38.276104",
     "exception": false,
     "start_time": "2025-08-26T06:07:38.218797",
     "status": "completed"
    },
    "tags": []
   },
   "outputs": [
    {
     "data": {
      "text/plain": [
       "0"
      ]
     },
     "execution_count": 22,
     "metadata": {},
     "output_type": "execute_result"
    }
   ],
   "source": [
    "# clean data\n",
    "trainDF[\"Misconception\"]= trainDF[\"Misconception\"].fillna(\"NA\") # fill NaN to NA\n",
    "trainDF[\"Misconception\"].isnull().sum() # check Null "
   ]
  },
  {
   "cell_type": "markdown",
   "id": "06b48e38",
   "metadata": {
    "execution": {
     "iopub.execute_input": "2025-08-06T05:39:57.456179Z",
     "iopub.status.busy": "2025-08-06T05:39:57.455612Z",
     "iopub.status.idle": "2025-08-06T05:39:57.459673Z",
     "shell.execute_reply": "2025-08-06T05:39:57.458795Z",
     "shell.execute_reply.started": "2025-08-06T05:39:57.456155Z"
    },
    "papermill": {
     "duration": 0.046512,
     "end_time": "2025-08-26T06:07:38.370336",
     "exception": false,
     "start_time": "2025-08-26T06:07:38.323824",
     "status": "completed"
    },
    "tags": []
   },
   "source": [
    "#### combine into target columns"
   ]
  },
  {
   "cell_type": "code",
   "execution_count": 23,
   "id": "3dc1cb8c",
   "metadata": {
    "execution": {
     "iopub.execute_input": "2025-08-26T06:07:38.468153Z",
     "iopub.status.busy": "2025-08-26T06:07:38.467697Z",
     "iopub.status.idle": "2025-08-26T06:07:38.487214Z",
     "shell.execute_reply": "2025-08-26T06:07:38.486683Z"
    },
    "papermill": {
     "duration": 0.069279,
     "end_time": "2025-08-26T06:07:38.488200",
     "exception": false,
     "start_time": "2025-08-26T06:07:38.418921",
     "status": "completed"
    },
    "tags": []
   },
   "outputs": [
    {
     "data": {
      "text/html": [
       "<div>\n",
       "<style scoped>\n",
       "    .dataframe tbody tr th:only-of-type {\n",
       "        vertical-align: middle;\n",
       "    }\n",
       "\n",
       "    .dataframe tbody tr th {\n",
       "        vertical-align: top;\n",
       "    }\n",
       "\n",
       "    .dataframe thead th {\n",
       "        text-align: right;\n",
       "    }\n",
       "</style>\n",
       "<table border=\"1\" class=\"dataframe\">\n",
       "  <thead>\n",
       "    <tr style=\"text-align: right;\">\n",
       "      <th></th>\n",
       "      <th>row_id</th>\n",
       "      <th>QuestionId</th>\n",
       "      <th>QuestionText</th>\n",
       "      <th>MC_Answer</th>\n",
       "      <th>StudentExplanation</th>\n",
       "      <th>Category</th>\n",
       "      <th>Misconception</th>\n",
       "      <th>target</th>\n",
       "    </tr>\n",
       "  </thead>\n",
       "  <tbody>\n",
       "    <tr>\n",
       "      <th>0</th>\n",
       "      <td>0</td>\n",
       "      <td>31772</td>\n",
       "      <td>What fraction of the shape is not shaded? Give...</td>\n",
       "      <td>\\( \\frac{1}{3} \\)</td>\n",
       "      <td>0ne third is equal to tree nineth</td>\n",
       "      <td>True_Correct</td>\n",
       "      <td>NA</td>\n",
       "      <td>True_Correct:NA</td>\n",
       "    </tr>\n",
       "    <tr>\n",
       "      <th>1</th>\n",
       "      <td>1</td>\n",
       "      <td>31772</td>\n",
       "      <td>What fraction of the shape is not shaded? Give...</td>\n",
       "      <td>\\( \\frac{1}{3} \\)</td>\n",
       "      <td>1 / 3 because 6 over 9 is 2 thirds and 1 third...</td>\n",
       "      <td>True_Correct</td>\n",
       "      <td>NA</td>\n",
       "      <td>True_Correct:NA</td>\n",
       "    </tr>\n",
       "    <tr>\n",
       "      <th>2</th>\n",
       "      <td>2</td>\n",
       "      <td>31772</td>\n",
       "      <td>What fraction of the shape is not shaded? Give...</td>\n",
       "      <td>\\( \\frac{1}{3} \\)</td>\n",
       "      <td>1 3rd is half of 3 6th, so it is simplee to un...</td>\n",
       "      <td>True_Neither</td>\n",
       "      <td>NA</td>\n",
       "      <td>True_Neither:NA</td>\n",
       "    </tr>\n",
       "    <tr>\n",
       "      <th>3</th>\n",
       "      <td>3</td>\n",
       "      <td>31772</td>\n",
       "      <td>What fraction of the shape is not shaded? Give...</td>\n",
       "      <td>\\( \\frac{1}{3} \\)</td>\n",
       "      <td>1 goes into everything and 3 goes into nine</td>\n",
       "      <td>True_Neither</td>\n",
       "      <td>NA</td>\n",
       "      <td>True_Neither:NA</td>\n",
       "    </tr>\n",
       "    <tr>\n",
       "      <th>4</th>\n",
       "      <td>4</td>\n",
       "      <td>31772</td>\n",
       "      <td>What fraction of the shape is not shaded? Give...</td>\n",
       "      <td>\\( \\frac{1}{3} \\)</td>\n",
       "      <td>1 out of every 3 isn't coloured</td>\n",
       "      <td>True_Correct</td>\n",
       "      <td>NA</td>\n",
       "      <td>True_Correct:NA</td>\n",
       "    </tr>\n",
       "    <tr>\n",
       "      <th>...</th>\n",
       "      <td>...</td>\n",
       "      <td>...</td>\n",
       "      <td>...</td>\n",
       "      <td>...</td>\n",
       "      <td>...</td>\n",
       "      <td>...</td>\n",
       "      <td>...</td>\n",
       "      <td>...</td>\n",
       "    </tr>\n",
       "    <tr>\n",
       "      <th>36691</th>\n",
       "      <td>36691</td>\n",
       "      <td>109465</td>\n",
       "      <td>The probability of an event occurring is \\( 0....</td>\n",
       "      <td>Unlikely</td>\n",
       "      <td>very unlikely.</td>\n",
       "      <td>False_Neither</td>\n",
       "      <td>NA</td>\n",
       "      <td>False_Neither:NA</td>\n",
       "    </tr>\n",
       "    <tr>\n",
       "      <th>36692</th>\n",
       "      <td>36692</td>\n",
       "      <td>109465</td>\n",
       "      <td>The probability of an event occurring is \\( 0....</td>\n",
       "      <td>Unlikely</td>\n",
       "      <td>yea pretty much unlikely from what it seems.</td>\n",
       "      <td>False_Neither</td>\n",
       "      <td>NA</td>\n",
       "      <td>False_Neither:NA</td>\n",
       "    </tr>\n",
       "    <tr>\n",
       "      <th>36693</th>\n",
       "      <td>36693</td>\n",
       "      <td>109465</td>\n",
       "      <td>The probability of an event occurring is \\( 0....</td>\n",
       "      <td>Unlikely</td>\n",
       "      <td>yeah pretty unlikelyy from what it seems.</td>\n",
       "      <td>False_Neither</td>\n",
       "      <td>NA</td>\n",
       "      <td>False_Neither:NA</td>\n",
       "    </tr>\n",
       "    <tr>\n",
       "      <th>36694</th>\n",
       "      <td>36694</td>\n",
       "      <td>109465</td>\n",
       "      <td>The probability of an event occurring is \\( 0....</td>\n",
       "      <td>Unlikely</td>\n",
       "      <td>you have 9 other numbers to get.</td>\n",
       "      <td>False_Neither</td>\n",
       "      <td>NA</td>\n",
       "      <td>False_Neither:NA</td>\n",
       "    </tr>\n",
       "    <tr>\n",
       "      <th>36695</th>\n",
       "      <td>36695</td>\n",
       "      <td>109465</td>\n",
       "      <td>The probability of an event occurring is \\( 0....</td>\n",
       "      <td>Unlikely</td>\n",
       "      <td>you have a chanve but it is not i think this b...</td>\n",
       "      <td>False_Neither</td>\n",
       "      <td>NA</td>\n",
       "      <td>False_Neither:NA</td>\n",
       "    </tr>\n",
       "  </tbody>\n",
       "</table>\n",
       "<p>36696 rows × 8 columns</p>\n",
       "</div>"
      ],
      "text/plain": [
       "       row_id  QuestionId                                       QuestionText  \\\n",
       "0           0       31772  What fraction of the shape is not shaded? Give...   \n",
       "1           1       31772  What fraction of the shape is not shaded? Give...   \n",
       "2           2       31772  What fraction of the shape is not shaded? Give...   \n",
       "3           3       31772  What fraction of the shape is not shaded? Give...   \n",
       "4           4       31772  What fraction of the shape is not shaded? Give...   \n",
       "...       ...         ...                                                ...   \n",
       "36691   36691      109465  The probability of an event occurring is \\( 0....   \n",
       "36692   36692      109465  The probability of an event occurring is \\( 0....   \n",
       "36693   36693      109465  The probability of an event occurring is \\( 0....   \n",
       "36694   36694      109465  The probability of an event occurring is \\( 0....   \n",
       "36695   36695      109465  The probability of an event occurring is \\( 0....   \n",
       "\n",
       "               MC_Answer                                 StudentExplanation  \\\n",
       "0      \\( \\frac{1}{3} \\)                  0ne third is equal to tree nineth   \n",
       "1      \\( \\frac{1}{3} \\)  1 / 3 because 6 over 9 is 2 thirds and 1 third...   \n",
       "2      \\( \\frac{1}{3} \\)  1 3rd is half of 3 6th, so it is simplee to un...   \n",
       "3      \\( \\frac{1}{3} \\)        1 goes into everything and 3 goes into nine   \n",
       "4      \\( \\frac{1}{3} \\)                    1 out of every 3 isn't coloured   \n",
       "...                  ...                                                ...   \n",
       "36691           Unlikely                                     very unlikely.   \n",
       "36692           Unlikely       yea pretty much unlikely from what it seems.   \n",
       "36693           Unlikely          yeah pretty unlikelyy from what it seems.   \n",
       "36694           Unlikely                   you have 9 other numbers to get.   \n",
       "36695           Unlikely  you have a chanve but it is not i think this b...   \n",
       "\n",
       "            Category Misconception            target  \n",
       "0       True_Correct            NA   True_Correct:NA  \n",
       "1       True_Correct            NA   True_Correct:NA  \n",
       "2       True_Neither            NA   True_Neither:NA  \n",
       "3       True_Neither            NA   True_Neither:NA  \n",
       "4       True_Correct            NA   True_Correct:NA  \n",
       "...              ...           ...               ...  \n",
       "36691  False_Neither            NA  False_Neither:NA  \n",
       "36692  False_Neither            NA  False_Neither:NA  \n",
       "36693  False_Neither            NA  False_Neither:NA  \n",
       "36694  False_Neither            NA  False_Neither:NA  \n",
       "36695  False_Neither            NA  False_Neither:NA  \n",
       "\n",
       "[36696 rows x 8 columns]"
      ]
     },
     "execution_count": 23,
     "metadata": {},
     "output_type": "execute_result"
    }
   ],
   "source": [
    "\n",
    "trainDF['target'] = trainDF[\"Category\"]+\":\"+trainDF[\"Misconception\"]\n",
    "trainDF"
   ]
  },
  {
   "cell_type": "markdown",
   "id": "03d342e0",
   "metadata": {
    "papermill": {
     "duration": 0.047457,
     "end_time": "2025-08-26T06:07:38.583981",
     "exception": false,
     "start_time": "2025-08-26T06:07:38.536524",
     "status": "completed"
    },
    "tags": []
   },
   "source": [
    "### Create Label"
   ]
  },
  {
   "cell_type": "code",
   "execution_count": 24,
   "id": "42bc7ae7",
   "metadata": {
    "execution": {
     "iopub.execute_input": "2025-08-26T06:07:38.679636Z",
     "iopub.status.busy": "2025-08-26T06:07:38.679243Z",
     "iopub.status.idle": "2025-08-26T06:07:38.689981Z",
     "shell.execute_reply": "2025-08-26T06:07:38.689391Z"
    },
    "papermill": {
     "duration": 0.059764,
     "end_time": "2025-08-26T06:07:38.690991",
     "exception": false,
     "start_time": "2025-08-26T06:07:38.631227",
     "status": "completed"
    },
    "tags": []
   },
   "outputs": [],
   "source": [
    "le = LabelEncoder()\n",
    "trainDF[\"label\"]= le.fit_transform(trainDF['target']) # encode caterogy into label"
   ]
  },
  {
   "cell_type": "code",
   "execution_count": 25,
   "id": "c392487f",
   "metadata": {
    "execution": {
     "iopub.execute_input": "2025-08-26T06:07:38.833426Z",
     "iopub.status.busy": "2025-08-26T06:07:38.832862Z",
     "iopub.status.idle": "2025-08-26T06:07:38.843629Z",
     "shell.execute_reply": "2025-08-26T06:07:38.842952Z"
    },
    "papermill": {
     "duration": 0.059985,
     "end_time": "2025-08-26T06:07:38.844628",
     "exception": false,
     "start_time": "2025-08-26T06:07:38.784643",
     "status": "completed"
    },
    "tags": []
   },
   "outputs": [
    {
     "data": {
      "text/html": [
       "<div>\n",
       "<style scoped>\n",
       "    .dataframe tbody tr th:only-of-type {\n",
       "        vertical-align: middle;\n",
       "    }\n",
       "\n",
       "    .dataframe tbody tr th {\n",
       "        vertical-align: top;\n",
       "    }\n",
       "\n",
       "    .dataframe thead th {\n",
       "        text-align: right;\n",
       "    }\n",
       "</style>\n",
       "<table border=\"1\" class=\"dataframe\">\n",
       "  <thead>\n",
       "    <tr style=\"text-align: right;\">\n",
       "      <th></th>\n",
       "      <th>row_id</th>\n",
       "      <th>QuestionId</th>\n",
       "      <th>QuestionText</th>\n",
       "      <th>MC_Answer</th>\n",
       "      <th>StudentExplanation</th>\n",
       "      <th>Category</th>\n",
       "      <th>Misconception</th>\n",
       "      <th>target</th>\n",
       "      <th>label</th>\n",
       "    </tr>\n",
       "  </thead>\n",
       "  <tbody>\n",
       "    <tr>\n",
       "      <th>0</th>\n",
       "      <td>0</td>\n",
       "      <td>31772</td>\n",
       "      <td>What fraction of the shape is not shaded? Give...</td>\n",
       "      <td>\\( \\frac{1}{3} \\)</td>\n",
       "      <td>0ne third is equal to tree nineth</td>\n",
       "      <td>True_Correct</td>\n",
       "      <td>NA</td>\n",
       "      <td>True_Correct:NA</td>\n",
       "      <td>37</td>\n",
       "    </tr>\n",
       "    <tr>\n",
       "      <th>1</th>\n",
       "      <td>1</td>\n",
       "      <td>31772</td>\n",
       "      <td>What fraction of the shape is not shaded? Give...</td>\n",
       "      <td>\\( \\frac{1}{3} \\)</td>\n",
       "      <td>1 / 3 because 6 over 9 is 2 thirds and 1 third...</td>\n",
       "      <td>True_Correct</td>\n",
       "      <td>NA</td>\n",
       "      <td>True_Correct:NA</td>\n",
       "      <td>37</td>\n",
       "    </tr>\n",
       "    <tr>\n",
       "      <th>2</th>\n",
       "      <td>2</td>\n",
       "      <td>31772</td>\n",
       "      <td>What fraction of the shape is not shaded? Give...</td>\n",
       "      <td>\\( \\frac{1}{3} \\)</td>\n",
       "      <td>1 3rd is half of 3 6th, so it is simplee to un...</td>\n",
       "      <td>True_Neither</td>\n",
       "      <td>NA</td>\n",
       "      <td>True_Neither:NA</td>\n",
       "      <td>64</td>\n",
       "    </tr>\n",
       "    <tr>\n",
       "      <th>3</th>\n",
       "      <td>3</td>\n",
       "      <td>31772</td>\n",
       "      <td>What fraction of the shape is not shaded? Give...</td>\n",
       "      <td>\\( \\frac{1}{3} \\)</td>\n",
       "      <td>1 goes into everything and 3 goes into nine</td>\n",
       "      <td>True_Neither</td>\n",
       "      <td>NA</td>\n",
       "      <td>True_Neither:NA</td>\n",
       "      <td>64</td>\n",
       "    </tr>\n",
       "    <tr>\n",
       "      <th>4</th>\n",
       "      <td>4</td>\n",
       "      <td>31772</td>\n",
       "      <td>What fraction of the shape is not shaded? Give...</td>\n",
       "      <td>\\( \\frac{1}{3} \\)</td>\n",
       "      <td>1 out of every 3 isn't coloured</td>\n",
       "      <td>True_Correct</td>\n",
       "      <td>NA</td>\n",
       "      <td>True_Correct:NA</td>\n",
       "      <td>37</td>\n",
       "    </tr>\n",
       "    <tr>\n",
       "      <th>...</th>\n",
       "      <td>...</td>\n",
       "      <td>...</td>\n",
       "      <td>...</td>\n",
       "      <td>...</td>\n",
       "      <td>...</td>\n",
       "      <td>...</td>\n",
       "      <td>...</td>\n",
       "      <td>...</td>\n",
       "      <td>...</td>\n",
       "    </tr>\n",
       "    <tr>\n",
       "      <th>36691</th>\n",
       "      <td>36691</td>\n",
       "      <td>109465</td>\n",
       "      <td>The probability of an event occurring is \\( 0....</td>\n",
       "      <td>Unlikely</td>\n",
       "      <td>very unlikely.</td>\n",
       "      <td>False_Neither</td>\n",
       "      <td>NA</td>\n",
       "      <td>False_Neither:NA</td>\n",
       "      <td>36</td>\n",
       "    </tr>\n",
       "    <tr>\n",
       "      <th>36692</th>\n",
       "      <td>36692</td>\n",
       "      <td>109465</td>\n",
       "      <td>The probability of an event occurring is \\( 0....</td>\n",
       "      <td>Unlikely</td>\n",
       "      <td>yea pretty much unlikely from what it seems.</td>\n",
       "      <td>False_Neither</td>\n",
       "      <td>NA</td>\n",
       "      <td>False_Neither:NA</td>\n",
       "      <td>36</td>\n",
       "    </tr>\n",
       "    <tr>\n",
       "      <th>36693</th>\n",
       "      <td>36693</td>\n",
       "      <td>109465</td>\n",
       "      <td>The probability of an event occurring is \\( 0....</td>\n",
       "      <td>Unlikely</td>\n",
       "      <td>yeah pretty unlikelyy from what it seems.</td>\n",
       "      <td>False_Neither</td>\n",
       "      <td>NA</td>\n",
       "      <td>False_Neither:NA</td>\n",
       "      <td>36</td>\n",
       "    </tr>\n",
       "    <tr>\n",
       "      <th>36694</th>\n",
       "      <td>36694</td>\n",
       "      <td>109465</td>\n",
       "      <td>The probability of an event occurring is \\( 0....</td>\n",
       "      <td>Unlikely</td>\n",
       "      <td>you have 9 other numbers to get.</td>\n",
       "      <td>False_Neither</td>\n",
       "      <td>NA</td>\n",
       "      <td>False_Neither:NA</td>\n",
       "      <td>36</td>\n",
       "    </tr>\n",
       "    <tr>\n",
       "      <th>36695</th>\n",
       "      <td>36695</td>\n",
       "      <td>109465</td>\n",
       "      <td>The probability of an event occurring is \\( 0....</td>\n",
       "      <td>Unlikely</td>\n",
       "      <td>you have a chanve but it is not i think this b...</td>\n",
       "      <td>False_Neither</td>\n",
       "      <td>NA</td>\n",
       "      <td>False_Neither:NA</td>\n",
       "      <td>36</td>\n",
       "    </tr>\n",
       "  </tbody>\n",
       "</table>\n",
       "<p>36696 rows × 9 columns</p>\n",
       "</div>"
      ],
      "text/plain": [
       "       row_id  QuestionId                                       QuestionText  \\\n",
       "0           0       31772  What fraction of the shape is not shaded? Give...   \n",
       "1           1       31772  What fraction of the shape is not shaded? Give...   \n",
       "2           2       31772  What fraction of the shape is not shaded? Give...   \n",
       "3           3       31772  What fraction of the shape is not shaded? Give...   \n",
       "4           4       31772  What fraction of the shape is not shaded? Give...   \n",
       "...       ...         ...                                                ...   \n",
       "36691   36691      109465  The probability of an event occurring is \\( 0....   \n",
       "36692   36692      109465  The probability of an event occurring is \\( 0....   \n",
       "36693   36693      109465  The probability of an event occurring is \\( 0....   \n",
       "36694   36694      109465  The probability of an event occurring is \\( 0....   \n",
       "36695   36695      109465  The probability of an event occurring is \\( 0....   \n",
       "\n",
       "               MC_Answer                                 StudentExplanation  \\\n",
       "0      \\( \\frac{1}{3} \\)                  0ne third is equal to tree nineth   \n",
       "1      \\( \\frac{1}{3} \\)  1 / 3 because 6 over 9 is 2 thirds and 1 third...   \n",
       "2      \\( \\frac{1}{3} \\)  1 3rd is half of 3 6th, so it is simplee to un...   \n",
       "3      \\( \\frac{1}{3} \\)        1 goes into everything and 3 goes into nine   \n",
       "4      \\( \\frac{1}{3} \\)                    1 out of every 3 isn't coloured   \n",
       "...                  ...                                                ...   \n",
       "36691           Unlikely                                     very unlikely.   \n",
       "36692           Unlikely       yea pretty much unlikely from what it seems.   \n",
       "36693           Unlikely          yeah pretty unlikelyy from what it seems.   \n",
       "36694           Unlikely                   you have 9 other numbers to get.   \n",
       "36695           Unlikely  you have a chanve but it is not i think this b...   \n",
       "\n",
       "            Category Misconception            target  label  \n",
       "0       True_Correct            NA   True_Correct:NA     37  \n",
       "1       True_Correct            NA   True_Correct:NA     37  \n",
       "2       True_Neither            NA   True_Neither:NA     64  \n",
       "3       True_Neither            NA   True_Neither:NA     64  \n",
       "4       True_Correct            NA   True_Correct:NA     37  \n",
       "...              ...           ...               ...    ...  \n",
       "36691  False_Neither            NA  False_Neither:NA     36  \n",
       "36692  False_Neither            NA  False_Neither:NA     36  \n",
       "36693  False_Neither            NA  False_Neither:NA     36  \n",
       "36694  False_Neither            NA  False_Neither:NA     36  \n",
       "36695  False_Neither            NA  False_Neither:NA     36  \n",
       "\n",
       "[36696 rows x 9 columns]"
      ]
     },
     "execution_count": 25,
     "metadata": {},
     "output_type": "execute_result"
    }
   ],
   "source": [
    "trainDF"
   ]
  },
  {
   "cell_type": "code",
   "execution_count": 26,
   "id": "4629d20f",
   "metadata": {
    "execution": {
     "iopub.execute_input": "2025-08-26T06:07:38.939560Z",
     "iopub.status.busy": "2025-08-26T06:07:38.939335Z",
     "iopub.status.idle": "2025-08-26T06:07:38.967288Z",
     "shell.execute_reply": "2025-08-26T06:07:38.966430Z"
    },
    "papermill": {
     "duration": 0.076444,
     "end_time": "2025-08-26T06:07:38.968395",
     "exception": false,
     "start_time": "2025-08-26T06:07:38.891951",
     "status": "completed"
    },
    "tags": []
   },
   "outputs": [
    {
     "name": "stdout",
     "output_type": "stream",
     "text": [
      "row_id : [    0     1     2 ... 36693 36694 36695]\n",
      "QuestionId : [ 31772  31774  31777  31778  32829  32833  32835  33471  33472  33474\n",
      "  76870  89443  91695 104665 109465]\n",
      "QuestionText : ['What fraction of the shape is not shaded? Give your answer in its simplest form. [Image: A triangle split into 9 equal smaller triangles. 6 of them are shaded.]'\n",
      " 'Calculate \\\\( \\\\frac{1}{2} \\\\div 6 \\\\)'\n",
      " 'A box contains \\\\( 120 \\\\) counters. The counters are red or blue. \\\\( \\\\frac{3}{5} \\\\) of the counters are red.\\nHow many red counters are there?'\n",
      " '\\\\( \\\\frac{A}{10}=\\\\frac{9}{15} \\\\) What is the value of \\\\( A \\\\) ?'\n",
      " '\\\\( 2 y=24 \\\\) What is the value of \\\\( y \\\\) ?'\n",
      " 'Calculate \\\\( \\\\frac{2}{3} \\\\times 5 \\\\)'\n",
      " 'Which number is the greatest?'\n",
      " 'A bag contains \\\\( 24 \\\\) yellow and green balls. \\\\( \\\\frac{3}{8} \\\\) of the balls are yellow. How many of the balls are green?'\n",
      " '\\\\( \\\\frac{1}{3}+\\\\frac{2}{5}= \\\\)'\n",
      " 'Sally has \\\\( \\\\frac{2}{3} \\\\) of a whole cake in the fridge. Robert eats \\\\( \\\\frac{1}{3} \\\\) of this piece. What fraction of the whole cake has Robert eaten?\\nChoose the number sentence that would solve the word problem.'\n",
      " 'This is part of a regular polygon. How many sides does it have? [Image: A diagram showing an obtuse angle labelled 144 degrees]'\n",
      " 'What number belongs in the box?\\n\\\\(\\n(-8)-(-5)=\\n\\\\square\\\\)'\n",
      " 'Dots have been arranged in these patterns: [Image: Pattern 1 consists of 6 dots, Pattern 2 consists of 10 dots, Pattern 3 consists of 14 dots and Pattern 4 consists of 18 dots] How many dots would there be in Pattern \\\\( 6 \\\\) ?'\n",
      " 'It takes \\\\( 3 \\\\) people a total of \\\\( 192 \\\\) hours to build a wall.\\n\\nHow long would it take if \\\\( 12 \\\\) people built the same wall?'\n",
      " 'The probability of an event occurring is \\\\( 0.9 \\\\).\\n\\nWhich of the following most accurately describes the likelihood of the event occurring?']\n",
      "MC_Answer : ['\\\\( \\\\frac{1}{3} \\\\)' '\\\\( \\\\frac{3}{6} \\\\)' '\\\\( \\\\frac{3}{8} \\\\)'\n",
      " '\\\\( \\\\frac{3}{9} \\\\)' '\\\\( 3 \\\\)' '\\\\( \\\\frac{1}{12} \\\\)'\n",
      " '\\\\( \\\\frac{6}{2} \\\\)' '\\\\( 24 \\\\)' '\\\\( 48 \\\\)' '\\\\( 60 \\\\)'\n",
      " '\\\\( 72 \\\\)' '\\\\( 4 \\\\)' '\\\\( 6 \\\\)' '\\\\( 9 \\\\)' '\\\\( 12 \\\\)'\n",
      " '\\\\( 22 \\\\)' '\\\\( 3 \\\\frac{1}{3} \\\\)' '\\\\( 5 \\\\frac{2}{3} \\\\)'\n",
      " '\\\\( \\\\frac{10}{15} \\\\)' '\\\\( \\\\frac{2}{15} \\\\)' '\\\\( 6.0001 \\\\)'\n",
      " '\\\\( 6.079 \\\\)' '\\\\( 6.2 \\\\)' '\\\\( 15 \\\\)' '\\\\( 8 \\\\)'\n",
      " '\\\\( \\\\frac{11}{15} \\\\)' '\\\\( \\\\frac{11}{30} \\\\)' '\\\\( \\\\frac{3}{15} \\\\)'\n",
      " '\\\\( \\\\frac{1}{3} \\\\times \\\\frac{2}{3} \\\\)'\n",
      " '\\\\( \\\\frac{1}{3}+\\\\frac{2}{3} \\\\)'\n",
      " '\\\\( \\\\frac{2}{3} \\\\div \\\\frac{1}{3} \\\\)'\n",
      " '\\\\( \\\\frac{2}{3}-\\\\frac{1}{3} \\\\)' 'Not enough information' '\\\\( 10 \\\\)'\n",
      " '\\\\( 5 \\\\)' '\\\\( -13 \\\\)' '\\\\( -3 \\\\)' '\\\\( 13 \\\\)' '\\\\( 20 \\\\)'\n",
      " '\\\\( 26 \\\\)' '\\\\( 36 \\\\)' '\\\\( 192 \\\\) hours' '\\\\( 48 \\\\) hours'\n",
      " '\\\\( 64 \\\\) hours' '\\\\( 768 \\\\) hours' 'Certain' 'Impossible' 'Likely'\n",
      " 'Unlikely']\n",
      "StudentExplanation : ['0ne third is equal to tree nineth'\n",
      " '1 / 3 because 6 over 9 is 2 thirds and 1 third is not shaded.'\n",
      " '1 3rd is half of 3 6th, so it is simplee to understand.' ...\n",
      " 'yeah pretty unlikelyy from what it seems.'\n",
      " 'you have 9 other numbers to get.'\n",
      " 'you have a chanve but it is not i think this because there is 0.9 odds so you have chance chance,']\n",
      "Category : ['True_Correct' 'True_Neither' 'True_Misconception' 'False_Neither'\n",
      " 'False_Misconception' 'False_Correct']\n",
      "Misconception : ['NA' 'Incomplete' 'WNB' 'SwapDividend' 'Mult' 'FlipChange' 'Irrelevant'\n",
      " 'Wrong_Fraction' 'Additive' 'Not_variable' 'Adding_terms'\n",
      " 'Inverse_operation' 'Inversion' 'Duplication' 'Wrong_Operation'\n",
      " 'Whole_numbers_larger' 'Longer_is_bigger' 'Ignores_zeroes'\n",
      " 'Shorter_is_bigger' 'Wrong_fraction' 'Adding_across'\n",
      " 'Denominator-only_change' 'Incorrect_equivalent_fraction_addition'\n",
      " 'Division' 'Subtraction' 'Unknowable' 'Definition' 'Interior' 'Positive'\n",
      " 'Tacking' 'Wrong_term' 'Firstterm' 'Base_rate' 'Multiplying_by_4'\n",
      " 'Certainty' 'Scale']\n",
      "target : ['True_Correct:NA' 'True_Neither:NA' 'True_Misconception:Incomplete'\n",
      " 'True_Misconception:WNB' 'False_Neither:NA' 'False_Misconception:WNB'\n",
      " 'False_Misconception:Incomplete' 'False_Correct:NA'\n",
      " 'False_Misconception:SwapDividend' 'False_Misconception:Mult'\n",
      " 'False_Misconception:FlipChange' 'True_Misconception:SwapDividend'\n",
      " 'True_Misconception:Mult' 'True_Misconception:FlipChange'\n",
      " 'False_Misconception:Irrelevant' 'False_Misconception:Wrong_Fraction'\n",
      " 'False_Misconception:Additive' 'True_Misconception:Irrelevant'\n",
      " 'True_Misconception:Additive' 'True_Misconception:Not_variable'\n",
      " 'False_Misconception:Adding_terms' 'False_Misconception:Not_variable'\n",
      " 'False_Misconception:Inverse_operation' 'True_Misconception:Inversion'\n",
      " 'True_Misconception:Duplication' 'False_Misconception:Duplication'\n",
      " 'False_Misconception:Inversion' 'False_Misconception:Wrong_Operation'\n",
      " 'False_Misconception:Whole_numbers_larger'\n",
      " 'False_Misconception:Longer_is_bigger'\n",
      " 'False_Misconception:Ignores_zeroes'\n",
      " 'False_Misconception:Shorter_is_bigger'\n",
      " 'True_Misconception:Whole_numbers_larger'\n",
      " 'True_Misconception:Shorter_is_bigger'\n",
      " 'True_Misconception:Longer_is_bigger' 'True_Misconception:Wrong_fraction'\n",
      " 'False_Misconception:Wrong_fraction' 'True_Misconception:Adding_across'\n",
      " 'True_Misconception:Denominator-only_change'\n",
      " 'True_Misconception:Incorrect_equivalent_fraction_addition'\n",
      " 'False_Misconception:Denominator-only_change'\n",
      " 'False_Misconception:Incorrect_equivalent_fraction_addition'\n",
      " 'False_Misconception:Adding_across' 'True_Misconception:Division'\n",
      " 'True_Misconception:Subtraction' 'False_Misconception:Subtraction'\n",
      " 'False_Misconception:Division' 'False_Misconception:Unknowable'\n",
      " 'False_Misconception:Definition' 'False_Misconception:Interior'\n",
      " 'True_Misconception:Definition' 'False_Misconception:Positive'\n",
      " 'False_Misconception:Tacking' 'True_Misconception:Tacking'\n",
      " 'True_Misconception:Positive' 'False_Misconception:Wrong_term'\n",
      " 'False_Misconception:Firstterm' 'True_Misconception:Wrong_term'\n",
      " 'True_Misconception:Firstterm' 'False_Misconception:Base_rate'\n",
      " 'True_Misconception:Base_rate' 'True_Misconception:Multiplying_by_4'\n",
      " 'False_Misconception:Multiplying_by_4' 'False_Misconception:Certainty'\n",
      " 'False_Misconception:Scale']\n",
      "label : [37 64 47 60 36 30 13  0 27 20 11 58 52 46 18 32  3 50 39 54  2 22 16 49\n",
      " 44  9 17 33 31 19 12 25 61 56 51 62 34 38 42 48  7 14  1 43 57 26  8 29\n",
      "  6 15 41 23 28 59 55 35 10 63 45  4 40 53 21  5 24]\n"
     ]
    }
   ],
   "source": [
    "# print all unique t\n",
    "printAllcolumnsValue(trainDF, showAll=True)"
   ]
  },
  {
   "cell_type": "markdown",
   "id": "2e13c037",
   "metadata": {
    "papermill": {
     "duration": 0.046762,
     "end_time": "2025-08-26T06:07:39.063285",
     "exception": false,
     "start_time": "2025-08-26T06:07:39.016523",
     "status": "completed"
    },
    "tags": []
   },
   "source": [
    "### Get Label Catergory class name"
   ]
  },
  {
   "cell_type": "code",
   "execution_count": 27,
   "id": "e871a2f3",
   "metadata": {
    "execution": {
     "iopub.execute_input": "2025-08-26T06:07:39.158868Z",
     "iopub.status.busy": "2025-08-26T06:07:39.158339Z",
     "iopub.status.idle": "2025-08-26T06:07:39.163123Z",
     "shell.execute_reply": "2025-08-26T06:07:39.162433Z"
    },
    "papermill": {
     "duration": 0.053637,
     "end_time": "2025-08-26T06:07:39.164347",
     "exception": false,
     "start_time": "2025-08-26T06:07:39.110710",
     "status": "completed"
    },
    "tags": []
   },
   "outputs": [
    {
     "data": {
      "text/plain": [
       "array(['False_Correct:NA', 'False_Misconception:Adding_across',\n",
       "       'False_Misconception:Adding_terms', 'False_Misconception:Additive',\n",
       "       'False_Misconception:Base_rate', 'False_Misconception:Certainty',\n",
       "       'False_Misconception:Definition',\n",
       "       'False_Misconception:Denominator-only_change',\n",
       "       'False_Misconception:Division', 'False_Misconception:Duplication',\n",
       "       'False_Misconception:Firstterm', 'False_Misconception:FlipChange',\n",
       "       'False_Misconception:Ignores_zeroes',\n",
       "       'False_Misconception:Incomplete',\n",
       "       'False_Misconception:Incorrect_equivalent_fraction_addition',\n",
       "       'False_Misconception:Interior',\n",
       "       'False_Misconception:Inverse_operation',\n",
       "       'False_Misconception:Inversion', 'False_Misconception:Irrelevant',\n",
       "       'False_Misconception:Longer_is_bigger', 'False_Misconception:Mult',\n",
       "       'False_Misconception:Multiplying_by_4',\n",
       "       'False_Misconception:Not_variable', 'False_Misconception:Positive',\n",
       "       'False_Misconception:Scale',\n",
       "       'False_Misconception:Shorter_is_bigger',\n",
       "       'False_Misconception:Subtraction',\n",
       "       'False_Misconception:SwapDividend', 'False_Misconception:Tacking',\n",
       "       'False_Misconception:Unknowable', 'False_Misconception:WNB',\n",
       "       'False_Misconception:Whole_numbers_larger',\n",
       "       'False_Misconception:Wrong_Fraction',\n",
       "       'False_Misconception:Wrong_Operation',\n",
       "       'False_Misconception:Wrong_fraction',\n",
       "       'False_Misconception:Wrong_term', 'False_Neither:NA',\n",
       "       'True_Correct:NA', 'True_Misconception:Adding_across',\n",
       "       'True_Misconception:Additive', 'True_Misconception:Base_rate',\n",
       "       'True_Misconception:Definition',\n",
       "       'True_Misconception:Denominator-only_change',\n",
       "       'True_Misconception:Division', 'True_Misconception:Duplication',\n",
       "       'True_Misconception:Firstterm', 'True_Misconception:FlipChange',\n",
       "       'True_Misconception:Incomplete',\n",
       "       'True_Misconception:Incorrect_equivalent_fraction_addition',\n",
       "       'True_Misconception:Inversion', 'True_Misconception:Irrelevant',\n",
       "       'True_Misconception:Longer_is_bigger', 'True_Misconception:Mult',\n",
       "       'True_Misconception:Multiplying_by_4',\n",
       "       'True_Misconception:Not_variable', 'True_Misconception:Positive',\n",
       "       'True_Misconception:Shorter_is_bigger',\n",
       "       'True_Misconception:Subtraction',\n",
       "       'True_Misconception:SwapDividend', 'True_Misconception:Tacking',\n",
       "       'True_Misconception:WNB',\n",
       "       'True_Misconception:Whole_numbers_larger',\n",
       "       'True_Misconception:Wrong_fraction',\n",
       "       'True_Misconception:Wrong_term', 'True_Neither:NA'], dtype=object)"
      ]
     },
     "execution_count": 27,
     "metadata": {},
     "output_type": "execute_result"
    }
   ],
   "source": [
    "\n",
    "targetClasses = le.classes_   \n",
    "targetClasses"
   ]
  },
  {
   "cell_type": "code",
   "execution_count": 28,
   "id": "97cec0d2",
   "metadata": {
    "execution": {
     "iopub.execute_input": "2025-08-26T06:07:39.262444Z",
     "iopub.status.busy": "2025-08-26T06:07:39.262224Z",
     "iopub.status.idle": "2025-08-26T06:07:39.266477Z",
     "shell.execute_reply": "2025-08-26T06:07:39.265814Z"
    },
    "papermill": {
     "duration": 0.054562,
     "end_time": "2025-08-26T06:07:39.267657",
     "exception": false,
     "start_time": "2025-08-26T06:07:39.213095",
     "status": "completed"
    },
    "tags": []
   },
   "outputs": [
    {
     "data": {
      "text/plain": [
       "65"
      ]
     },
     "execution_count": 28,
     "metadata": {},
     "output_type": "execute_result"
    }
   ],
   "source": [
    "nClasses = len(targetClasses)\n",
    "nClasses"
   ]
  },
  {
   "cell_type": "code",
   "execution_count": 29,
   "id": "806d1220",
   "metadata": {
    "execution": {
     "iopub.execute_input": "2025-08-26T06:07:39.364265Z",
     "iopub.status.busy": "2025-08-26T06:07:39.364060Z",
     "iopub.status.idle": "2025-08-26T06:07:39.373545Z",
     "shell.execute_reply": "2025-08-26T06:07:39.372909Z"
    },
    "papermill": {
     "duration": 0.058983,
     "end_time": "2025-08-26T06:07:39.374709",
     "exception": false,
     "start_time": "2025-08-26T06:07:39.315726",
     "status": "completed"
    },
    "tags": []
   },
   "outputs": [
    {
     "name": "stdout",
     "output_type": "stream",
     "text": [
      "Train shape: (36696, 9) with 65 target classes\n"
     ]
    },
    {
     "data": {
      "text/html": [
       "<div>\n",
       "<style scoped>\n",
       "    .dataframe tbody tr th:only-of-type {\n",
       "        vertical-align: middle;\n",
       "    }\n",
       "\n",
       "    .dataframe tbody tr th {\n",
       "        vertical-align: top;\n",
       "    }\n",
       "\n",
       "    .dataframe thead th {\n",
       "        text-align: right;\n",
       "    }\n",
       "</style>\n",
       "<table border=\"1\" class=\"dataframe\">\n",
       "  <thead>\n",
       "    <tr style=\"text-align: right;\">\n",
       "      <th></th>\n",
       "      <th>row_id</th>\n",
       "      <th>QuestionId</th>\n",
       "      <th>QuestionText</th>\n",
       "      <th>MC_Answer</th>\n",
       "      <th>StudentExplanation</th>\n",
       "      <th>Category</th>\n",
       "      <th>Misconception</th>\n",
       "      <th>target</th>\n",
       "      <th>label</th>\n",
       "    </tr>\n",
       "  </thead>\n",
       "  <tbody>\n",
       "    <tr>\n",
       "      <th>0</th>\n",
       "      <td>0</td>\n",
       "      <td>31772</td>\n",
       "      <td>What fraction of the shape is not shaded? Give...</td>\n",
       "      <td>\\( \\frac{1}{3} \\)</td>\n",
       "      <td>0ne third is equal to tree nineth</td>\n",
       "      <td>True_Correct</td>\n",
       "      <td>NA</td>\n",
       "      <td>True_Correct:NA</td>\n",
       "      <td>37</td>\n",
       "    </tr>\n",
       "    <tr>\n",
       "      <th>1</th>\n",
       "      <td>1</td>\n",
       "      <td>31772</td>\n",
       "      <td>What fraction of the shape is not shaded? Give...</td>\n",
       "      <td>\\( \\frac{1}{3} \\)</td>\n",
       "      <td>1 / 3 because 6 over 9 is 2 thirds and 1 third...</td>\n",
       "      <td>True_Correct</td>\n",
       "      <td>NA</td>\n",
       "      <td>True_Correct:NA</td>\n",
       "      <td>37</td>\n",
       "    </tr>\n",
       "    <tr>\n",
       "      <th>2</th>\n",
       "      <td>2</td>\n",
       "      <td>31772</td>\n",
       "      <td>What fraction of the shape is not shaded? Give...</td>\n",
       "      <td>\\( \\frac{1}{3} \\)</td>\n",
       "      <td>1 3rd is half of 3 6th, so it is simplee to un...</td>\n",
       "      <td>True_Neither</td>\n",
       "      <td>NA</td>\n",
       "      <td>True_Neither:NA</td>\n",
       "      <td>64</td>\n",
       "    </tr>\n",
       "    <tr>\n",
       "      <th>3</th>\n",
       "      <td>3</td>\n",
       "      <td>31772</td>\n",
       "      <td>What fraction of the shape is not shaded? Give...</td>\n",
       "      <td>\\( \\frac{1}{3} \\)</td>\n",
       "      <td>1 goes into everything and 3 goes into nine</td>\n",
       "      <td>True_Neither</td>\n",
       "      <td>NA</td>\n",
       "      <td>True_Neither:NA</td>\n",
       "      <td>64</td>\n",
       "    </tr>\n",
       "    <tr>\n",
       "      <th>4</th>\n",
       "      <td>4</td>\n",
       "      <td>31772</td>\n",
       "      <td>What fraction of the shape is not shaded? Give...</td>\n",
       "      <td>\\( \\frac{1}{3} \\)</td>\n",
       "      <td>1 out of every 3 isn't coloured</td>\n",
       "      <td>True_Correct</td>\n",
       "      <td>NA</td>\n",
       "      <td>True_Correct:NA</td>\n",
       "      <td>37</td>\n",
       "    </tr>\n",
       "  </tbody>\n",
       "</table>\n",
       "</div>"
      ],
      "text/plain": [
       "   row_id  QuestionId                                       QuestionText  \\\n",
       "0       0       31772  What fraction of the shape is not shaded? Give...   \n",
       "1       1       31772  What fraction of the shape is not shaded? Give...   \n",
       "2       2       31772  What fraction of the shape is not shaded? Give...   \n",
       "3       3       31772  What fraction of the shape is not shaded? Give...   \n",
       "4       4       31772  What fraction of the shape is not shaded? Give...   \n",
       "\n",
       "           MC_Answer                                 StudentExplanation  \\\n",
       "0  \\( \\frac{1}{3} \\)                  0ne third is equal to tree nineth   \n",
       "1  \\( \\frac{1}{3} \\)  1 / 3 because 6 over 9 is 2 thirds and 1 third...   \n",
       "2  \\( \\frac{1}{3} \\)  1 3rd is half of 3 6th, so it is simplee to un...   \n",
       "3  \\( \\frac{1}{3} \\)        1 goes into everything and 3 goes into nine   \n",
       "4  \\( \\frac{1}{3} \\)                    1 out of every 3 isn't coloured   \n",
       "\n",
       "       Category Misconception           target  label  \n",
       "0  True_Correct            NA  True_Correct:NA     37  \n",
       "1  True_Correct            NA  True_Correct:NA     37  \n",
       "2  True_Neither            NA  True_Neither:NA     64  \n",
       "3  True_Neither            NA  True_Neither:NA     64  \n",
       "4  True_Correct            NA  True_Correct:NA     37  "
      ]
     },
     "execution_count": 29,
     "metadata": {},
     "output_type": "execute_result"
    }
   ],
   "source": [
    "print(f\"Train shape: {trainDF.shape} with {nClasses} target classes\")\n",
    "trainDF.head()"
   ]
  },
  {
   "cell_type": "markdown",
   "id": "10e2841b",
   "metadata": {
    "papermill": {
     "duration": 0.048634,
     "end_time": "2025-08-26T06:07:39.472407",
     "exception": false,
     "start_time": "2025-08-26T06:07:39.423773",
     "status": "completed"
    },
    "tags": []
   },
   "source": [
    "# Feature Engineering\n",
    "\n",
    "### Add correct answer flag"
   ]
  },
  {
   "cell_type": "code",
   "execution_count": 30,
   "id": "340ef41f",
   "metadata": {
    "execution": {
     "iopub.execute_input": "2025-08-26T06:07:39.567779Z",
     "iopub.status.busy": "2025-08-26T06:07:39.567547Z",
     "iopub.status.idle": "2025-08-26T06:07:39.730235Z",
     "shell.execute_reply": "2025-08-26T06:07:39.729650Z"
    },
    "papermill": {
     "duration": 0.211741,
     "end_time": "2025-08-26T06:07:39.731319",
     "exception": false,
     "start_time": "2025-08-26T06:07:39.519578",
     "status": "completed"
    },
    "tags": []
   },
   "outputs": [
    {
     "data": {
      "text/plain": [
       "0         True\n",
       "1         True\n",
       "2         True\n",
       "3         True\n",
       "4         True\n",
       "         ...  \n",
       "36691    False\n",
       "36692    False\n",
       "36693    False\n",
       "36694    False\n",
       "36695    False\n",
       "Length: 36696, dtype: bool"
      ]
     },
     "execution_count": 30,
     "metadata": {},
     "output_type": "execute_result"
    }
   ],
   "source": [
    "idx = trainDF.apply(lambda row: row[\"Category\"].split(\"_\")[0] , axis=1) == \"True\" # get Category with True \n",
    "idx"
   ]
  },
  {
   "cell_type": "code",
   "execution_count": 31,
   "id": "2f747d34",
   "metadata": {
    "execution": {
     "iopub.execute_input": "2025-08-26T06:07:39.828802Z",
     "iopub.status.busy": "2025-08-26T06:07:39.828569Z",
     "iopub.status.idle": "2025-08-26T06:07:39.843066Z",
     "shell.execute_reply": "2025-08-26T06:07:39.842520Z"
    },
    "papermill": {
     "duration": 0.063646,
     "end_time": "2025-08-26T06:07:39.844095",
     "exception": false,
     "start_time": "2025-08-26T06:07:39.780449",
     "status": "completed"
    },
    "tags": []
   },
   "outputs": [
    {
     "data": {
      "text/html": [
       "<div>\n",
       "<style scoped>\n",
       "    .dataframe tbody tr th:only-of-type {\n",
       "        vertical-align: middle;\n",
       "    }\n",
       "\n",
       "    .dataframe tbody tr th {\n",
       "        vertical-align: top;\n",
       "    }\n",
       "\n",
       "    .dataframe thead th {\n",
       "        text-align: right;\n",
       "    }\n",
       "</style>\n",
       "<table border=\"1\" class=\"dataframe\">\n",
       "  <thead>\n",
       "    <tr style=\"text-align: right;\">\n",
       "      <th></th>\n",
       "      <th>row_id</th>\n",
       "      <th>QuestionId</th>\n",
       "      <th>QuestionText</th>\n",
       "      <th>MC_Answer</th>\n",
       "      <th>StudentExplanation</th>\n",
       "      <th>Category</th>\n",
       "      <th>Misconception</th>\n",
       "      <th>target</th>\n",
       "      <th>label</th>\n",
       "    </tr>\n",
       "  </thead>\n",
       "  <tbody>\n",
       "    <tr>\n",
       "      <th>0</th>\n",
       "      <td>0</td>\n",
       "      <td>31772</td>\n",
       "      <td>What fraction of the shape is not shaded? Give...</td>\n",
       "      <td>\\( \\frac{1}{3} \\)</td>\n",
       "      <td>0ne third is equal to tree nineth</td>\n",
       "      <td>True_Correct</td>\n",
       "      <td>NA</td>\n",
       "      <td>True_Correct:NA</td>\n",
       "      <td>37</td>\n",
       "    </tr>\n",
       "    <tr>\n",
       "      <th>1</th>\n",
       "      <td>1</td>\n",
       "      <td>31772</td>\n",
       "      <td>What fraction of the shape is not shaded? Give...</td>\n",
       "      <td>\\( \\frac{1}{3} \\)</td>\n",
       "      <td>1 / 3 because 6 over 9 is 2 thirds and 1 third...</td>\n",
       "      <td>True_Correct</td>\n",
       "      <td>NA</td>\n",
       "      <td>True_Correct:NA</td>\n",
       "      <td>37</td>\n",
       "    </tr>\n",
       "    <tr>\n",
       "      <th>2</th>\n",
       "      <td>2</td>\n",
       "      <td>31772</td>\n",
       "      <td>What fraction of the shape is not shaded? Give...</td>\n",
       "      <td>\\( \\frac{1}{3} \\)</td>\n",
       "      <td>1 3rd is half of 3 6th, so it is simplee to un...</td>\n",
       "      <td>True_Neither</td>\n",
       "      <td>NA</td>\n",
       "      <td>True_Neither:NA</td>\n",
       "      <td>64</td>\n",
       "    </tr>\n",
       "    <tr>\n",
       "      <th>3</th>\n",
       "      <td>3</td>\n",
       "      <td>31772</td>\n",
       "      <td>What fraction of the shape is not shaded? Give...</td>\n",
       "      <td>\\( \\frac{1}{3} \\)</td>\n",
       "      <td>1 goes into everything and 3 goes into nine</td>\n",
       "      <td>True_Neither</td>\n",
       "      <td>NA</td>\n",
       "      <td>True_Neither:NA</td>\n",
       "      <td>64</td>\n",
       "    </tr>\n",
       "    <tr>\n",
       "      <th>4</th>\n",
       "      <td>4</td>\n",
       "      <td>31772</td>\n",
       "      <td>What fraction of the shape is not shaded? Give...</td>\n",
       "      <td>\\( \\frac{1}{3} \\)</td>\n",
       "      <td>1 out of every 3 isn't coloured</td>\n",
       "      <td>True_Correct</td>\n",
       "      <td>NA</td>\n",
       "      <td>True_Correct:NA</td>\n",
       "      <td>37</td>\n",
       "    </tr>\n",
       "    <tr>\n",
       "      <th>...</th>\n",
       "      <td>...</td>\n",
       "      <td>...</td>\n",
       "      <td>...</td>\n",
       "      <td>...</td>\n",
       "      <td>...</td>\n",
       "      <td>...</td>\n",
       "      <td>...</td>\n",
       "      <td>...</td>\n",
       "      <td>...</td>\n",
       "    </tr>\n",
       "    <tr>\n",
       "      <th>36275</th>\n",
       "      <td>36275</td>\n",
       "      <td>109465</td>\n",
       "      <td>The probability of an event occurring is \\( 0....</td>\n",
       "      <td>Likely</td>\n",
       "      <td>very close to one but not one so it cant be ce...</td>\n",
       "      <td>True_Correct</td>\n",
       "      <td>NA</td>\n",
       "      <td>True_Correct:NA</td>\n",
       "      <td>37</td>\n",
       "    </tr>\n",
       "    <tr>\n",
       "      <th>36276</th>\n",
       "      <td>36276</td>\n",
       "      <td>109465</td>\n",
       "      <td>The probability of an event occurring is \\( 0....</td>\n",
       "      <td>Likely</td>\n",
       "      <td>very high probability however it's not certain</td>\n",
       "      <td>True_Neither</td>\n",
       "      <td>NA</td>\n",
       "      <td>True_Neither:NA</td>\n",
       "      <td>64</td>\n",
       "    </tr>\n",
       "    <tr>\n",
       "      <th>36277</th>\n",
       "      <td>36277</td>\n",
       "      <td>109465</td>\n",
       "      <td>The probability of an event occurring is \\( 0....</td>\n",
       "      <td>Likely</td>\n",
       "      <td>we should use likely because we dont know for ...</td>\n",
       "      <td>True_Neither</td>\n",
       "      <td>NA</td>\n",
       "      <td>True_Neither:NA</td>\n",
       "      <td>64</td>\n",
       "    </tr>\n",
       "    <tr>\n",
       "      <th>36278</th>\n",
       "      <td>36278</td>\n",
       "      <td>109465</td>\n",
       "      <td>The probability of an event occurring is \\( 0....</td>\n",
       "      <td>Likely</td>\n",
       "      <td>well 0.9 = 90% and the only way something can ...</td>\n",
       "      <td>True_Correct</td>\n",
       "      <td>NA</td>\n",
       "      <td>True_Correct:NA</td>\n",
       "      <td>37</td>\n",
       "    </tr>\n",
       "    <tr>\n",
       "      <th>36279</th>\n",
       "      <td>36279</td>\n",
       "      <td>109465</td>\n",
       "      <td>The probability of an event occurring is \\( 0....</td>\n",
       "      <td>Likely</td>\n",
       "      <td>well normally if it is in the decimals its the...</td>\n",
       "      <td>True_Correct</td>\n",
       "      <td>NA</td>\n",
       "      <td>True_Correct:NA</td>\n",
       "      <td>37</td>\n",
       "    </tr>\n",
       "  </tbody>\n",
       "</table>\n",
       "<p>20470 rows × 9 columns</p>\n",
       "</div>"
      ],
      "text/plain": [
       "       row_id  QuestionId                                       QuestionText  \\\n",
       "0           0       31772  What fraction of the shape is not shaded? Give...   \n",
       "1           1       31772  What fraction of the shape is not shaded? Give...   \n",
       "2           2       31772  What fraction of the shape is not shaded? Give...   \n",
       "3           3       31772  What fraction of the shape is not shaded? Give...   \n",
       "4           4       31772  What fraction of the shape is not shaded? Give...   \n",
       "...       ...         ...                                                ...   \n",
       "36275   36275      109465  The probability of an event occurring is \\( 0....   \n",
       "36276   36276      109465  The probability of an event occurring is \\( 0....   \n",
       "36277   36277      109465  The probability of an event occurring is \\( 0....   \n",
       "36278   36278      109465  The probability of an event occurring is \\( 0....   \n",
       "36279   36279      109465  The probability of an event occurring is \\( 0....   \n",
       "\n",
       "               MC_Answer                                 StudentExplanation  \\\n",
       "0      \\( \\frac{1}{3} \\)                  0ne third is equal to tree nineth   \n",
       "1      \\( \\frac{1}{3} \\)  1 / 3 because 6 over 9 is 2 thirds and 1 third...   \n",
       "2      \\( \\frac{1}{3} \\)  1 3rd is half of 3 6th, so it is simplee to un...   \n",
       "3      \\( \\frac{1}{3} \\)        1 goes into everything and 3 goes into nine   \n",
       "4      \\( \\frac{1}{3} \\)                    1 out of every 3 isn't coloured   \n",
       "...                  ...                                                ...   \n",
       "36275             Likely  very close to one but not one so it cant be ce...   \n",
       "36276             Likely     very high probability however it's not certain   \n",
       "36277             Likely  we should use likely because we dont know for ...   \n",
       "36278             Likely  well 0.9 = 90% and the only way something can ...   \n",
       "36279             Likely  well normally if it is in the decimals its the...   \n",
       "\n",
       "           Category Misconception           target  label  \n",
       "0      True_Correct            NA  True_Correct:NA     37  \n",
       "1      True_Correct            NA  True_Correct:NA     37  \n",
       "2      True_Neither            NA  True_Neither:NA     64  \n",
       "3      True_Neither            NA  True_Neither:NA     64  \n",
       "4      True_Correct            NA  True_Correct:NA     37  \n",
       "...             ...           ...              ...    ...  \n",
       "36275  True_Correct            NA  True_Correct:NA     37  \n",
       "36276  True_Neither            NA  True_Neither:NA     64  \n",
       "36277  True_Neither            NA  True_Neither:NA     64  \n",
       "36278  True_Correct            NA  True_Correct:NA     37  \n",
       "36279  True_Correct            NA  True_Correct:NA     37  \n",
       "\n",
       "[20470 rows x 9 columns]"
      ]
     },
     "execution_count": 31,
     "metadata": {},
     "output_type": "execute_result"
    }
   ],
   "source": [
    "correct = trainDF.loc[idx].copy()\n",
    "correct"
   ]
  },
  {
   "cell_type": "code",
   "execution_count": 32,
   "id": "0990620a",
   "metadata": {
    "execution": {
     "iopub.execute_input": "2025-08-26T06:07:39.941478Z",
     "iopub.status.busy": "2025-08-26T06:07:39.941244Z",
     "iopub.status.idle": "2025-08-26T06:07:39.956730Z",
     "shell.execute_reply": "2025-08-26T06:07:39.956163Z"
    },
    "papermill": {
     "duration": 0.064844,
     "end_time": "2025-08-26T06:07:39.957709",
     "exception": false,
     "start_time": "2025-08-26T06:07:39.892865",
     "status": "completed"
    },
    "tags": []
   },
   "outputs": [
    {
     "data": {
      "text/html": [
       "<div>\n",
       "<style scoped>\n",
       "    .dataframe tbody tr th:only-of-type {\n",
       "        vertical-align: middle;\n",
       "    }\n",
       "\n",
       "    .dataframe tbody tr th {\n",
       "        vertical-align: top;\n",
       "    }\n",
       "\n",
       "    .dataframe thead th {\n",
       "        text-align: right;\n",
       "    }\n",
       "</style>\n",
       "<table border=\"1\" class=\"dataframe\">\n",
       "  <thead>\n",
       "    <tr style=\"text-align: right;\">\n",
       "      <th></th>\n",
       "      <th>row_id</th>\n",
       "      <th>QuestionId</th>\n",
       "      <th>QuestionText</th>\n",
       "      <th>MC_Answer</th>\n",
       "      <th>StudentExplanation</th>\n",
       "      <th>Category</th>\n",
       "      <th>Misconception</th>\n",
       "      <th>target</th>\n",
       "      <th>label</th>\n",
       "      <th>c</th>\n",
       "    </tr>\n",
       "  </thead>\n",
       "  <tbody>\n",
       "    <tr>\n",
       "      <th>61</th>\n",
       "      <td>61</td>\n",
       "      <td>31772</td>\n",
       "      <td>What fraction of the shape is not shaded? Give...</td>\n",
       "      <td>\\( \\frac{1}{3} \\)</td>\n",
       "      <td>3 goes into 9 three times which makes it one t...</td>\n",
       "      <td>True_Correct</td>\n",
       "      <td>NA</td>\n",
       "      <td>True_Correct:NA</td>\n",
       "      <td>37</td>\n",
       "      <td>2348</td>\n",
       "    </tr>\n",
       "    <tr>\n",
       "      <th>7</th>\n",
       "      <td>7</td>\n",
       "      <td>31772</td>\n",
       "      <td>What fraction of the shape is not shaded? Give...</td>\n",
       "      <td>\\( \\frac{1}{3} \\)</td>\n",
       "      <td>1/3 because 3/9 simplified divided by 3 would ...</td>\n",
       "      <td>True_Correct</td>\n",
       "      <td>NA</td>\n",
       "      <td>True_Correct:NA</td>\n",
       "      <td>37</td>\n",
       "      <td>2348</td>\n",
       "    </tr>\n",
       "    <tr>\n",
       "      <th>6</th>\n",
       "      <td>6</td>\n",
       "      <td>31772</td>\n",
       "      <td>What fraction of the shape is not shaded? Give...</td>\n",
       "      <td>\\( \\frac{1}{3} \\)</td>\n",
       "      <td>1/3 and 3/9 are not shaded but they are equal ...</td>\n",
       "      <td>True_Correct</td>\n",
       "      <td>NA</td>\n",
       "      <td>True_Correct:NA</td>\n",
       "      <td>37</td>\n",
       "      <td>2348</td>\n",
       "    </tr>\n",
       "    <tr>\n",
       "      <th>5</th>\n",
       "      <td>5</td>\n",
       "      <td>31772</td>\n",
       "      <td>What fraction of the shape is not shaded? Give...</td>\n",
       "      <td>\\( \\frac{1}{3} \\)</td>\n",
       "      <td>1 third because 6 over 9 is 2 thirds and 1 thi...</td>\n",
       "      <td>True_Correct</td>\n",
       "      <td>NA</td>\n",
       "      <td>True_Correct:NA</td>\n",
       "      <td>37</td>\n",
       "      <td>2348</td>\n",
       "    </tr>\n",
       "    <tr>\n",
       "      <th>60</th>\n",
       "      <td>60</td>\n",
       "      <td>31772</td>\n",
       "      <td>What fraction of the shape is not shaded? Give...</td>\n",
       "      <td>\\( \\frac{1}{3} \\)</td>\n",
       "      <td>3 from the 9 triangles are not shaded and 3/9 ...</td>\n",
       "      <td>True_Correct</td>\n",
       "      <td>NA</td>\n",
       "      <td>True_Correct:NA</td>\n",
       "      <td>37</td>\n",
       "      <td>2348</td>\n",
       "    </tr>\n",
       "    <tr>\n",
       "      <th>...</th>\n",
       "      <td>...</td>\n",
       "      <td>...</td>\n",
       "      <td>...</td>\n",
       "      <td>...</td>\n",
       "      <td>...</td>\n",
       "      <td>...</td>\n",
       "      <td>...</td>\n",
       "      <td>...</td>\n",
       "      <td>...</td>\n",
       "      <td>...</td>\n",
       "    </tr>\n",
       "    <tr>\n",
       "      <th>14338</th>\n",
       "      <td>14338</td>\n",
       "      <td>31778</td>\n",
       "      <td>\\( \\frac{A}{10}=\\frac{9}{15} \\) What is the va...</td>\n",
       "      <td>\\( 9 \\)</td>\n",
       "      <td>It is six because they are both equal to 3over5.</td>\n",
       "      <td>True_Correct</td>\n",
       "      <td>NA</td>\n",
       "      <td>True_Correct:NA</td>\n",
       "      <td>37</td>\n",
       "      <td>12</td>\n",
       "    </tr>\n",
       "    <tr>\n",
       "      <th>14335</th>\n",
       "      <td>14335</td>\n",
       "      <td>31778</td>\n",
       "      <td>\\( \\frac{A}{10}=\\frac{9}{15} \\) What is the va...</td>\n",
       "      <td>\\( 9 \\)</td>\n",
       "      <td>Il believe that is the ansewer because I calcu...</td>\n",
       "      <td>True_Neither</td>\n",
       "      <td>NA</td>\n",
       "      <td>True_Neither:NA</td>\n",
       "      <td>64</td>\n",
       "      <td>12</td>\n",
       "    </tr>\n",
       "    <tr>\n",
       "      <th>14321</th>\n",
       "      <td>14321</td>\n",
       "      <td>31778</td>\n",
       "      <td>\\( \\frac{A}{10}=\\frac{9}{15} \\) What is the va...</td>\n",
       "      <td>\\( 9 \\)</td>\n",
       "      <td>I think it's C because 6/10 is the same as 9/15.</td>\n",
       "      <td>True_Correct</td>\n",
       "      <td>NA</td>\n",
       "      <td>True_Correct:NA</td>\n",
       "      <td>37</td>\n",
       "      <td>12</td>\n",
       "    </tr>\n",
       "    <tr>\n",
       "      <th>14280</th>\n",
       "      <td>14280</td>\n",
       "      <td>31778</td>\n",
       "      <td>\\( \\frac{A}{10}=\\frac{9}{15} \\) What is the va...</td>\n",
       "      <td>\\( 9 \\)</td>\n",
       "      <td>Because 10 is 2 / 3 of 15, and 2 is 6.</td>\n",
       "      <td>True_Neither</td>\n",
       "      <td>NA</td>\n",
       "      <td>True_Neither:NA</td>\n",
       "      <td>64</td>\n",
       "      <td>12</td>\n",
       "    </tr>\n",
       "    <tr>\n",
       "      <th>14305</th>\n",
       "      <td>14305</td>\n",
       "      <td>31778</td>\n",
       "      <td>\\( \\frac{A}{10}=\\frac{9}{15} \\) What is the va...</td>\n",
       "      <td>\\( 9 \\)</td>\n",
       "      <td>I divided 9/15 by 3, then got 3/5 and timsed i...</td>\n",
       "      <td>True_Correct</td>\n",
       "      <td>NA</td>\n",
       "      <td>True_Correct:NA</td>\n",
       "      <td>37</td>\n",
       "      <td>12</td>\n",
       "    </tr>\n",
       "  </tbody>\n",
       "</table>\n",
       "<p>20470 rows × 10 columns</p>\n",
       "</div>"
      ],
      "text/plain": [
       "       row_id  QuestionId                                       QuestionText  \\\n",
       "61         61       31772  What fraction of the shape is not shaded? Give...   \n",
       "7           7       31772  What fraction of the shape is not shaded? Give...   \n",
       "6           6       31772  What fraction of the shape is not shaded? Give...   \n",
       "5           5       31772  What fraction of the shape is not shaded? Give...   \n",
       "60         60       31772  What fraction of the shape is not shaded? Give...   \n",
       "...       ...         ...                                                ...   \n",
       "14338   14338       31778  \\( \\frac{A}{10}=\\frac{9}{15} \\) What is the va...   \n",
       "14335   14335       31778  \\( \\frac{A}{10}=\\frac{9}{15} \\) What is the va...   \n",
       "14321   14321       31778  \\( \\frac{A}{10}=\\frac{9}{15} \\) What is the va...   \n",
       "14280   14280       31778  \\( \\frac{A}{10}=\\frac{9}{15} \\) What is the va...   \n",
       "14305   14305       31778  \\( \\frac{A}{10}=\\frac{9}{15} \\) What is the va...   \n",
       "\n",
       "               MC_Answer                                 StudentExplanation  \\\n",
       "61     \\( \\frac{1}{3} \\)  3 goes into 9 three times which makes it one t...   \n",
       "7      \\( \\frac{1}{3} \\)  1/3 because 3/9 simplified divided by 3 would ...   \n",
       "6      \\( \\frac{1}{3} \\)  1/3 and 3/9 are not shaded but they are equal ...   \n",
       "5      \\( \\frac{1}{3} \\)  1 third because 6 over 9 is 2 thirds and 1 thi...   \n",
       "60     \\( \\frac{1}{3} \\)  3 from the 9 triangles are not shaded and 3/9 ...   \n",
       "...                  ...                                                ...   \n",
       "14338            \\( 9 \\)   It is six because they are both equal to 3over5.   \n",
       "14335            \\( 9 \\)  Il believe that is the ansewer because I calcu...   \n",
       "14321            \\( 9 \\)   I think it's C because 6/10 is the same as 9/15.   \n",
       "14280            \\( 9 \\)             Because 10 is 2 / 3 of 15, and 2 is 6.   \n",
       "14305            \\( 9 \\)  I divided 9/15 by 3, then got 3/5 and timsed i...   \n",
       "\n",
       "           Category Misconception           target  label     c  \n",
       "61     True_Correct            NA  True_Correct:NA     37  2348  \n",
       "7      True_Correct            NA  True_Correct:NA     37  2348  \n",
       "6      True_Correct            NA  True_Correct:NA     37  2348  \n",
       "5      True_Correct            NA  True_Correct:NA     37  2348  \n",
       "60     True_Correct            NA  True_Correct:NA     37  2348  \n",
       "...             ...           ...              ...    ...   ...  \n",
       "14338  True_Correct            NA  True_Correct:NA     37    12  \n",
       "14335  True_Neither            NA  True_Neither:NA     64    12  \n",
       "14321  True_Correct            NA  True_Correct:NA     37    12  \n",
       "14280  True_Neither            NA  True_Neither:NA     64    12  \n",
       "14305  True_Correct            NA  True_Correct:NA     37    12  \n",
       "\n",
       "[20470 rows x 10 columns]"
      ]
     },
     "execution_count": 32,
     "metadata": {},
     "output_type": "execute_result"
    }
   ],
   "source": [
    "# group MC anwser with count \n",
    "correct['c'] = correct.groupby(['QuestionId','MC_Answer']).MC_Answer.transform('count')\n",
    "correct = correct.sort_values('c',ascending=False) # sort value \n",
    "correct"
   ]
  },
  {
   "cell_type": "code",
   "execution_count": 33,
   "id": "3b7e1148",
   "metadata": {
    "execution": {
     "iopub.execute_input": "2025-08-26T06:07:40.054726Z",
     "iopub.status.busy": "2025-08-26T06:07:40.054541Z",
     "iopub.status.idle": "2025-08-26T06:07:40.062348Z",
     "shell.execute_reply": "2025-08-26T06:07:40.061802Z"
    },
    "papermill": {
     "duration": 0.05739,
     "end_time": "2025-08-26T06:07:40.063319",
     "exception": false,
     "start_time": "2025-08-26T06:07:40.005929",
     "status": "completed"
    },
    "tags": []
   },
   "outputs": [
    {
     "data": {
      "text/html": [
       "<div>\n",
       "<style scoped>\n",
       "    .dataframe tbody tr th:only-of-type {\n",
       "        vertical-align: middle;\n",
       "    }\n",
       "\n",
       "    .dataframe tbody tr th {\n",
       "        vertical-align: top;\n",
       "    }\n",
       "\n",
       "    .dataframe thead th {\n",
       "        text-align: right;\n",
       "    }\n",
       "</style>\n",
       "<table border=\"1\" class=\"dataframe\">\n",
       "  <thead>\n",
       "    <tr style=\"text-align: right;\">\n",
       "      <th></th>\n",
       "      <th>QuestionId</th>\n",
       "      <th>MC_Answer</th>\n",
       "    </tr>\n",
       "  </thead>\n",
       "  <tbody>\n",
       "    <tr>\n",
       "      <th>61</th>\n",
       "      <td>31772</td>\n",
       "      <td>\\( \\frac{1}{3} \\)</td>\n",
       "    </tr>\n",
       "    <tr>\n",
       "      <th>7430</th>\n",
       "      <td>31774</td>\n",
       "      <td>\\( \\frac{1}{12} \\)</td>\n",
       "    </tr>\n",
       "    <tr>\n",
       "      <th>10770</th>\n",
       "      <td>31777</td>\n",
       "      <td>\\( 72 \\)</td>\n",
       "    </tr>\n",
       "    <tr>\n",
       "      <th>14266</th>\n",
       "      <td>31778</td>\n",
       "      <td>\\( 6 \\)</td>\n",
       "    </tr>\n",
       "    <tr>\n",
       "      <th>14440</th>\n",
       "      <td>32829</td>\n",
       "      <td>\\( 12 \\)</td>\n",
       "    </tr>\n",
       "    <tr>\n",
       "      <th>22004</th>\n",
       "      <td>32835</td>\n",
       "      <td>\\( 6.2 \\)</td>\n",
       "    </tr>\n",
       "    <tr>\n",
       "      <th>24278</th>\n",
       "      <td>33472</td>\n",
       "      <td>\\( \\frac{11}{15} \\)</td>\n",
       "    </tr>\n",
       "    <tr>\n",
       "      <th>18135</th>\n",
       "      <td>32833</td>\n",
       "      <td>\\( 3 \\frac{1}{3} \\)</td>\n",
       "    </tr>\n",
       "    <tr>\n",
       "      <th>33183</th>\n",
       "      <td>91695</td>\n",
       "      <td>\\( 26 \\)</td>\n",
       "    </tr>\n",
       "    <tr>\n",
       "      <th>30937</th>\n",
       "      <td>89443</td>\n",
       "      <td>\\( -3 \\)</td>\n",
       "    </tr>\n",
       "    <tr>\n",
       "      <th>22198</th>\n",
       "      <td>33471</td>\n",
       "      <td>\\( 15 \\)</td>\n",
       "    </tr>\n",
       "    <tr>\n",
       "      <th>26981</th>\n",
       "      <td>33474</td>\n",
       "      <td>\\( \\frac{1}{3} \\times \\frac{2}{3} \\)</td>\n",
       "    </tr>\n",
       "    <tr>\n",
       "      <th>36279</th>\n",
       "      <td>109465</td>\n",
       "      <td>Likely</td>\n",
       "    </tr>\n",
       "    <tr>\n",
       "      <th>28530</th>\n",
       "      <td>76870</td>\n",
       "      <td>\\( 10 \\)</td>\n",
       "    </tr>\n",
       "    <tr>\n",
       "      <th>34997</th>\n",
       "      <td>104665</td>\n",
       "      <td>\\( 48 \\) hours</td>\n",
       "    </tr>\n",
       "  </tbody>\n",
       "</table>\n",
       "</div>"
      ],
      "text/plain": [
       "       QuestionId                             MC_Answer\n",
       "61          31772                     \\( \\frac{1}{3} \\)\n",
       "7430        31774                    \\( \\frac{1}{12} \\)\n",
       "10770       31777                              \\( 72 \\)\n",
       "14266       31778                               \\( 6 \\)\n",
       "14440       32829                              \\( 12 \\)\n",
       "22004       32835                             \\( 6.2 \\)\n",
       "24278       33472                   \\( \\frac{11}{15} \\)\n",
       "18135       32833                   \\( 3 \\frac{1}{3} \\)\n",
       "33183       91695                              \\( 26 \\)\n",
       "30937       89443                              \\( -3 \\)\n",
       "22198       33471                              \\( 15 \\)\n",
       "26981       33474  \\( \\frac{1}{3} \\times \\frac{2}{3} \\)\n",
       "36279      109465                                Likely\n",
       "28530       76870                              \\( 10 \\)\n",
       "34997      104665                        \\( 48 \\) hours"
      ]
     },
     "execution_count": 33,
     "metadata": {},
     "output_type": "execute_result"
    }
   ],
   "source": [
    "# Drop duplicateds ID\n",
    "correct = correct.drop_duplicates(['QuestionId']) #drop dprlicate id\n",
    "correct = correct[['QuestionId','MC_Answer']]\n",
    "correct"
   ]
  },
  {
   "cell_type": "code",
   "execution_count": 34,
   "id": "07a00904",
   "metadata": {
    "execution": {
     "iopub.execute_input": "2025-08-26T06:07:40.160348Z",
     "iopub.status.busy": "2025-08-26T06:07:40.160167Z",
     "iopub.status.idle": "2025-08-26T06:07:40.167136Z",
     "shell.execute_reply": "2025-08-26T06:07:40.166565Z"
    },
    "papermill": {
     "duration": 0.057155,
     "end_time": "2025-08-26T06:07:40.168216",
     "exception": false,
     "start_time": "2025-08-26T06:07:40.111061",
     "status": "completed"
    },
    "tags": []
   },
   "outputs": [
    {
     "data": {
      "text/html": [
       "<div>\n",
       "<style scoped>\n",
       "    .dataframe tbody tr th:only-of-type {\n",
       "        vertical-align: middle;\n",
       "    }\n",
       "\n",
       "    .dataframe tbody tr th {\n",
       "        vertical-align: top;\n",
       "    }\n",
       "\n",
       "    .dataframe thead th {\n",
       "        text-align: right;\n",
       "    }\n",
       "</style>\n",
       "<table border=\"1\" class=\"dataframe\">\n",
       "  <thead>\n",
       "    <tr style=\"text-align: right;\">\n",
       "      <th></th>\n",
       "      <th>QuestionId</th>\n",
       "      <th>MC_Answer</th>\n",
       "      <th>is_correct</th>\n",
       "    </tr>\n",
       "  </thead>\n",
       "  <tbody>\n",
       "    <tr>\n",
       "      <th>61</th>\n",
       "      <td>31772</td>\n",
       "      <td>\\( \\frac{1}{3} \\)</td>\n",
       "      <td>1</td>\n",
       "    </tr>\n",
       "    <tr>\n",
       "      <th>7430</th>\n",
       "      <td>31774</td>\n",
       "      <td>\\( \\frac{1}{12} \\)</td>\n",
       "      <td>1</td>\n",
       "    </tr>\n",
       "    <tr>\n",
       "      <th>10770</th>\n",
       "      <td>31777</td>\n",
       "      <td>\\( 72 \\)</td>\n",
       "      <td>1</td>\n",
       "    </tr>\n",
       "    <tr>\n",
       "      <th>14266</th>\n",
       "      <td>31778</td>\n",
       "      <td>\\( 6 \\)</td>\n",
       "      <td>1</td>\n",
       "    </tr>\n",
       "    <tr>\n",
       "      <th>14440</th>\n",
       "      <td>32829</td>\n",
       "      <td>\\( 12 \\)</td>\n",
       "      <td>1</td>\n",
       "    </tr>\n",
       "    <tr>\n",
       "      <th>22004</th>\n",
       "      <td>32835</td>\n",
       "      <td>\\( 6.2 \\)</td>\n",
       "      <td>1</td>\n",
       "    </tr>\n",
       "    <tr>\n",
       "      <th>24278</th>\n",
       "      <td>33472</td>\n",
       "      <td>\\( \\frac{11}{15} \\)</td>\n",
       "      <td>1</td>\n",
       "    </tr>\n",
       "    <tr>\n",
       "      <th>18135</th>\n",
       "      <td>32833</td>\n",
       "      <td>\\( 3 \\frac{1}{3} \\)</td>\n",
       "      <td>1</td>\n",
       "    </tr>\n",
       "    <tr>\n",
       "      <th>33183</th>\n",
       "      <td>91695</td>\n",
       "      <td>\\( 26 \\)</td>\n",
       "      <td>1</td>\n",
       "    </tr>\n",
       "    <tr>\n",
       "      <th>30937</th>\n",
       "      <td>89443</td>\n",
       "      <td>\\( -3 \\)</td>\n",
       "      <td>1</td>\n",
       "    </tr>\n",
       "    <tr>\n",
       "      <th>22198</th>\n",
       "      <td>33471</td>\n",
       "      <td>\\( 15 \\)</td>\n",
       "      <td>1</td>\n",
       "    </tr>\n",
       "    <tr>\n",
       "      <th>26981</th>\n",
       "      <td>33474</td>\n",
       "      <td>\\( \\frac{1}{3} \\times \\frac{2}{3} \\)</td>\n",
       "      <td>1</td>\n",
       "    </tr>\n",
       "    <tr>\n",
       "      <th>36279</th>\n",
       "      <td>109465</td>\n",
       "      <td>Likely</td>\n",
       "      <td>1</td>\n",
       "    </tr>\n",
       "    <tr>\n",
       "      <th>28530</th>\n",
       "      <td>76870</td>\n",
       "      <td>\\( 10 \\)</td>\n",
       "      <td>1</td>\n",
       "    </tr>\n",
       "    <tr>\n",
       "      <th>34997</th>\n",
       "      <td>104665</td>\n",
       "      <td>\\( 48 \\) hours</td>\n",
       "      <td>1</td>\n",
       "    </tr>\n",
       "  </tbody>\n",
       "</table>\n",
       "</div>"
      ],
      "text/plain": [
       "       QuestionId                             MC_Answer  is_correct\n",
       "61          31772                     \\( \\frac{1}{3} \\)           1\n",
       "7430        31774                    \\( \\frac{1}{12} \\)           1\n",
       "10770       31777                              \\( 72 \\)           1\n",
       "14266       31778                               \\( 6 \\)           1\n",
       "14440       32829                              \\( 12 \\)           1\n",
       "22004       32835                             \\( 6.2 \\)           1\n",
       "24278       33472                   \\( \\frac{11}{15} \\)           1\n",
       "18135       32833                   \\( 3 \\frac{1}{3} \\)           1\n",
       "33183       91695                              \\( 26 \\)           1\n",
       "30937       89443                              \\( -3 \\)           1\n",
       "22198       33471                              \\( 15 \\)           1\n",
       "26981       33474  \\( \\frac{1}{3} \\times \\frac{2}{3} \\)           1\n",
       "36279      109465                                Likely           1\n",
       "28530       76870                              \\( 10 \\)           1\n",
       "34997      104665                        \\( 48 \\) hours           1"
      ]
     },
     "execution_count": 34,
     "metadata": {},
     "output_type": "execute_result"
    }
   ],
   "source": [
    "# set correct flag = 1\n",
    "correct[\"is_correct\"] = 1\n",
    "correct"
   ]
  },
  {
   "cell_type": "markdown",
   "id": "b87e98d6",
   "metadata": {
    "papermill": {
     "duration": 0.048384,
     "end_time": "2025-08-26T06:07:40.265466",
     "exception": false,
     "start_time": "2025-08-26T06:07:40.217082",
     "status": "completed"
    },
    "tags": []
   },
   "source": [
    "### Merge training data"
   ]
  },
  {
   "cell_type": "code",
   "execution_count": 35,
   "id": "f694f2a0",
   "metadata": {
    "execution": {
     "iopub.execute_input": "2025-08-26T06:07:40.363512Z",
     "iopub.status.busy": "2025-08-26T06:07:40.363318Z",
     "iopub.status.idle": "2025-08-26T06:07:40.384917Z",
     "shell.execute_reply": "2025-08-26T06:07:40.384362Z"
    },
    "papermill": {
     "duration": 0.072284,
     "end_time": "2025-08-26T06:07:40.386109",
     "exception": false,
     "start_time": "2025-08-26T06:07:40.313825",
     "status": "completed"
    },
    "tags": []
   },
   "outputs": [],
   "source": [
    "\n",
    "trainDF = trainDF.merge(correct, on=['QuestionId','MC_Answer'], how='left')\n",
    "trainDF[\"is_correct\"] = trainDF[\"is_correct\"].fillna(0) # fill miss data to 0"
   ]
  },
  {
   "cell_type": "code",
   "execution_count": 36,
   "id": "ab1a0f37",
   "metadata": {
    "execution": {
     "iopub.execute_input": "2025-08-26T06:07:40.488994Z",
     "iopub.status.busy": "2025-08-26T06:07:40.488776Z",
     "iopub.status.idle": "2025-08-26T06:07:40.492674Z",
     "shell.execute_reply": "2025-08-26T06:07:40.492192Z"
    },
    "papermill": {
     "duration": 0.056282,
     "end_time": "2025-08-26T06:07:40.493689",
     "exception": false,
     "start_time": "2025-08-26T06:07:40.437407",
     "status": "completed"
    },
    "tags": []
   },
   "outputs": [],
   "source": [
    "trainDF[\"is_correct\"] = trainDF[\"is_correct\"].astype(int) # change is_correct data type to int"
   ]
  },
  {
   "cell_type": "code",
   "execution_count": 37,
   "id": "9c74bb0b",
   "metadata": {
    "execution": {
     "iopub.execute_input": "2025-08-26T06:07:40.592637Z",
     "iopub.status.busy": "2025-08-26T06:07:40.592463Z",
     "iopub.status.idle": "2025-08-26T06:07:40.602275Z",
     "shell.execute_reply": "2025-08-26T06:07:40.601788Z"
    },
    "papermill": {
     "duration": 0.059851,
     "end_time": "2025-08-26T06:07:40.603261",
     "exception": false,
     "start_time": "2025-08-26T06:07:40.543410",
     "status": "completed"
    },
    "tags": []
   },
   "outputs": [
    {
     "data": {
      "text/html": [
       "<div>\n",
       "<style scoped>\n",
       "    .dataframe tbody tr th:only-of-type {\n",
       "        vertical-align: middle;\n",
       "    }\n",
       "\n",
       "    .dataframe tbody tr th {\n",
       "        vertical-align: top;\n",
       "    }\n",
       "\n",
       "    .dataframe thead th {\n",
       "        text-align: right;\n",
       "    }\n",
       "</style>\n",
       "<table border=\"1\" class=\"dataframe\">\n",
       "  <thead>\n",
       "    <tr style=\"text-align: right;\">\n",
       "      <th></th>\n",
       "      <th>row_id</th>\n",
       "      <th>QuestionId</th>\n",
       "      <th>QuestionText</th>\n",
       "      <th>MC_Answer</th>\n",
       "      <th>StudentExplanation</th>\n",
       "      <th>Category</th>\n",
       "      <th>Misconception</th>\n",
       "      <th>target</th>\n",
       "      <th>label</th>\n",
       "      <th>is_correct</th>\n",
       "    </tr>\n",
       "  </thead>\n",
       "  <tbody>\n",
       "    <tr>\n",
       "      <th>0</th>\n",
       "      <td>0</td>\n",
       "      <td>31772</td>\n",
       "      <td>What fraction of the shape is not shaded? Give...</td>\n",
       "      <td>\\( \\frac{1}{3} \\)</td>\n",
       "      <td>0ne third is equal to tree nineth</td>\n",
       "      <td>True_Correct</td>\n",
       "      <td>NA</td>\n",
       "      <td>True_Correct:NA</td>\n",
       "      <td>37</td>\n",
       "      <td>1</td>\n",
       "    </tr>\n",
       "    <tr>\n",
       "      <th>1</th>\n",
       "      <td>1</td>\n",
       "      <td>31772</td>\n",
       "      <td>What fraction of the shape is not shaded? Give...</td>\n",
       "      <td>\\( \\frac{1}{3} \\)</td>\n",
       "      <td>1 / 3 because 6 over 9 is 2 thirds and 1 third...</td>\n",
       "      <td>True_Correct</td>\n",
       "      <td>NA</td>\n",
       "      <td>True_Correct:NA</td>\n",
       "      <td>37</td>\n",
       "      <td>1</td>\n",
       "    </tr>\n",
       "    <tr>\n",
       "      <th>2</th>\n",
       "      <td>2</td>\n",
       "      <td>31772</td>\n",
       "      <td>What fraction of the shape is not shaded? Give...</td>\n",
       "      <td>\\( \\frac{1}{3} \\)</td>\n",
       "      <td>1 3rd is half of 3 6th, so it is simplee to un...</td>\n",
       "      <td>True_Neither</td>\n",
       "      <td>NA</td>\n",
       "      <td>True_Neither:NA</td>\n",
       "      <td>64</td>\n",
       "      <td>1</td>\n",
       "    </tr>\n",
       "    <tr>\n",
       "      <th>3</th>\n",
       "      <td>3</td>\n",
       "      <td>31772</td>\n",
       "      <td>What fraction of the shape is not shaded? Give...</td>\n",
       "      <td>\\( \\frac{1}{3} \\)</td>\n",
       "      <td>1 goes into everything and 3 goes into nine</td>\n",
       "      <td>True_Neither</td>\n",
       "      <td>NA</td>\n",
       "      <td>True_Neither:NA</td>\n",
       "      <td>64</td>\n",
       "      <td>1</td>\n",
       "    </tr>\n",
       "    <tr>\n",
       "      <th>4</th>\n",
       "      <td>4</td>\n",
       "      <td>31772</td>\n",
       "      <td>What fraction of the shape is not shaded? Give...</td>\n",
       "      <td>\\( \\frac{1}{3} \\)</td>\n",
       "      <td>1 out of every 3 isn't coloured</td>\n",
       "      <td>True_Correct</td>\n",
       "      <td>NA</td>\n",
       "      <td>True_Correct:NA</td>\n",
       "      <td>37</td>\n",
       "      <td>1</td>\n",
       "    </tr>\n",
       "    <tr>\n",
       "      <th>...</th>\n",
       "      <td>...</td>\n",
       "      <td>...</td>\n",
       "      <td>...</td>\n",
       "      <td>...</td>\n",
       "      <td>...</td>\n",
       "      <td>...</td>\n",
       "      <td>...</td>\n",
       "      <td>...</td>\n",
       "      <td>...</td>\n",
       "      <td>...</td>\n",
       "    </tr>\n",
       "    <tr>\n",
       "      <th>36691</th>\n",
       "      <td>36691</td>\n",
       "      <td>109465</td>\n",
       "      <td>The probability of an event occurring is \\( 0....</td>\n",
       "      <td>Unlikely</td>\n",
       "      <td>very unlikely.</td>\n",
       "      <td>False_Neither</td>\n",
       "      <td>NA</td>\n",
       "      <td>False_Neither:NA</td>\n",
       "      <td>36</td>\n",
       "      <td>0</td>\n",
       "    </tr>\n",
       "    <tr>\n",
       "      <th>36692</th>\n",
       "      <td>36692</td>\n",
       "      <td>109465</td>\n",
       "      <td>The probability of an event occurring is \\( 0....</td>\n",
       "      <td>Unlikely</td>\n",
       "      <td>yea pretty much unlikely from what it seems.</td>\n",
       "      <td>False_Neither</td>\n",
       "      <td>NA</td>\n",
       "      <td>False_Neither:NA</td>\n",
       "      <td>36</td>\n",
       "      <td>0</td>\n",
       "    </tr>\n",
       "    <tr>\n",
       "      <th>36693</th>\n",
       "      <td>36693</td>\n",
       "      <td>109465</td>\n",
       "      <td>The probability of an event occurring is \\( 0....</td>\n",
       "      <td>Unlikely</td>\n",
       "      <td>yeah pretty unlikelyy from what it seems.</td>\n",
       "      <td>False_Neither</td>\n",
       "      <td>NA</td>\n",
       "      <td>False_Neither:NA</td>\n",
       "      <td>36</td>\n",
       "      <td>0</td>\n",
       "    </tr>\n",
       "    <tr>\n",
       "      <th>36694</th>\n",
       "      <td>36694</td>\n",
       "      <td>109465</td>\n",
       "      <td>The probability of an event occurring is \\( 0....</td>\n",
       "      <td>Unlikely</td>\n",
       "      <td>you have 9 other numbers to get.</td>\n",
       "      <td>False_Neither</td>\n",
       "      <td>NA</td>\n",
       "      <td>False_Neither:NA</td>\n",
       "      <td>36</td>\n",
       "      <td>0</td>\n",
       "    </tr>\n",
       "    <tr>\n",
       "      <th>36695</th>\n",
       "      <td>36695</td>\n",
       "      <td>109465</td>\n",
       "      <td>The probability of an event occurring is \\( 0....</td>\n",
       "      <td>Unlikely</td>\n",
       "      <td>you have a chanve but it is not i think this b...</td>\n",
       "      <td>False_Neither</td>\n",
       "      <td>NA</td>\n",
       "      <td>False_Neither:NA</td>\n",
       "      <td>36</td>\n",
       "      <td>0</td>\n",
       "    </tr>\n",
       "  </tbody>\n",
       "</table>\n",
       "<p>36696 rows × 10 columns</p>\n",
       "</div>"
      ],
      "text/plain": [
       "       row_id  QuestionId                                       QuestionText  \\\n",
       "0           0       31772  What fraction of the shape is not shaded? Give...   \n",
       "1           1       31772  What fraction of the shape is not shaded? Give...   \n",
       "2           2       31772  What fraction of the shape is not shaded? Give...   \n",
       "3           3       31772  What fraction of the shape is not shaded? Give...   \n",
       "4           4       31772  What fraction of the shape is not shaded? Give...   \n",
       "...       ...         ...                                                ...   \n",
       "36691   36691      109465  The probability of an event occurring is \\( 0....   \n",
       "36692   36692      109465  The probability of an event occurring is \\( 0....   \n",
       "36693   36693      109465  The probability of an event occurring is \\( 0....   \n",
       "36694   36694      109465  The probability of an event occurring is \\( 0....   \n",
       "36695   36695      109465  The probability of an event occurring is \\( 0....   \n",
       "\n",
       "               MC_Answer                                 StudentExplanation  \\\n",
       "0      \\( \\frac{1}{3} \\)                  0ne third is equal to tree nineth   \n",
       "1      \\( \\frac{1}{3} \\)  1 / 3 because 6 over 9 is 2 thirds and 1 third...   \n",
       "2      \\( \\frac{1}{3} \\)  1 3rd is half of 3 6th, so it is simplee to un...   \n",
       "3      \\( \\frac{1}{3} \\)        1 goes into everything and 3 goes into nine   \n",
       "4      \\( \\frac{1}{3} \\)                    1 out of every 3 isn't coloured   \n",
       "...                  ...                                                ...   \n",
       "36691           Unlikely                                     very unlikely.   \n",
       "36692           Unlikely       yea pretty much unlikely from what it seems.   \n",
       "36693           Unlikely          yeah pretty unlikelyy from what it seems.   \n",
       "36694           Unlikely                   you have 9 other numbers to get.   \n",
       "36695           Unlikely  you have a chanve but it is not i think this b...   \n",
       "\n",
       "            Category Misconception            target  label  is_correct  \n",
       "0       True_Correct            NA   True_Correct:NA     37           1  \n",
       "1       True_Correct            NA   True_Correct:NA     37           1  \n",
       "2       True_Neither            NA   True_Neither:NA     64           1  \n",
       "3       True_Neither            NA   True_Neither:NA     64           1  \n",
       "4       True_Correct            NA   True_Correct:NA     37           1  \n",
       "...              ...           ...               ...    ...         ...  \n",
       "36691  False_Neither            NA  False_Neither:NA     36           0  \n",
       "36692  False_Neither            NA  False_Neither:NA     36           0  \n",
       "36693  False_Neither            NA  False_Neither:NA     36           0  \n",
       "36694  False_Neither            NA  False_Neither:NA     36           0  \n",
       "36695  False_Neither            NA  False_Neither:NA     36           0  \n",
       "\n",
       "[36696 rows x 10 columns]"
      ]
     },
     "execution_count": 37,
     "metadata": {},
     "output_type": "execute_result"
    }
   ],
   "source": [
    "trainDF"
   ]
  },
  {
   "cell_type": "code",
   "execution_count": 38,
   "id": "27fa01f1",
   "metadata": {
    "execution": {
     "iopub.execute_input": "2025-08-26T06:07:40.702137Z",
     "iopub.status.busy": "2025-08-26T06:07:40.701960Z",
     "iopub.status.idle": "2025-08-26T06:07:40.952435Z",
     "shell.execute_reply": "2025-08-26T06:07:40.951799Z"
    },
    "papermill": {
     "duration": 0.301574,
     "end_time": "2025-08-26T06:07:40.953551",
     "exception": false,
     "start_time": "2025-08-26T06:07:40.651977",
     "status": "completed"
    },
    "tags": []
   },
   "outputs": [
    {
     "data": {
      "image/png": "[encoded data removed]",
      "text/plain": [
       "<Figure size 640x480 with 1 Axes>"
      ]
     },
     "metadata": {},
     "output_type": "display_data"
    }
   ],
   "source": [
    "trainDF[\"is_correct\"].value_counts().plot(kind=\"bar\", title=\"Correct vs Incorrect\");"
   ]
  },
  {
   "cell_type": "markdown",
   "id": "a72ad1fb",
   "metadata": {
    "papermill": {
     "duration": 0.04868,
     "end_time": "2025-08-26T06:07:41.053563",
     "exception": false,
     "start_time": "2025-08-26T06:07:41.004883",
     "status": "completed"
    },
    "tags": []
   },
   "source": [
    "## Merge into Test /Submit Data"
   ]
  },
  {
   "cell_type": "code",
   "execution_count": 39,
   "id": "32704f3b",
   "metadata": {
    "execution": {
     "iopub.execute_input": "2025-08-26T06:07:41.152057Z",
     "iopub.status.busy": "2025-08-26T06:07:41.151539Z",
     "iopub.status.idle": "2025-08-26T06:07:41.158150Z",
     "shell.execute_reply": "2025-08-26T06:07:41.157618Z"
    },
    "papermill": {
     "duration": 0.056888,
     "end_time": "2025-08-26T06:07:41.159218",
     "exception": false,
     "start_time": "2025-08-26T06:07:41.102330",
     "status": "completed"
    },
    "tags": []
   },
   "outputs": [],
   "source": [
    "testDF = testDF.merge(correct, on=['QuestionId','MC_Answer'], how='left')\n",
    "testDF[\"is_correct\"] = testDF[\"is_correct\"].fillna(0)  # fill Na to 0\n"
   ]
  },
  {
   "cell_type": "code",
   "execution_count": 40,
   "id": "12cbc47c",
   "metadata": {
    "execution": {
     "iopub.execute_input": "2025-08-26T06:07:41.259036Z",
     "iopub.status.busy": "2025-08-26T06:07:41.258825Z",
     "iopub.status.idle": "2025-08-26T06:07:41.266304Z",
     "shell.execute_reply": "2025-08-26T06:07:41.265693Z"
    },
    "papermill": {
     "duration": 0.059076,
     "end_time": "2025-08-26T06:07:41.267349",
     "exception": false,
     "start_time": "2025-08-26T06:07:41.208273",
     "status": "completed"
    },
    "tags": []
   },
   "outputs": [
    {
     "data": {
      "text/html": [
       "<div>\n",
       "<style scoped>\n",
       "    .dataframe tbody tr th:only-of-type {\n",
       "        vertical-align: middle;\n",
       "    }\n",
       "\n",
       "    .dataframe tbody tr th {\n",
       "        vertical-align: top;\n",
       "    }\n",
       "\n",
       "    .dataframe thead th {\n",
       "        text-align: right;\n",
       "    }\n",
       "</style>\n",
       "<table border=\"1\" class=\"dataframe\">\n",
       "  <thead>\n",
       "    <tr style=\"text-align: right;\">\n",
       "      <th></th>\n",
       "      <th>row_id</th>\n",
       "      <th>QuestionId</th>\n",
       "      <th>QuestionText</th>\n",
       "      <th>MC_Answer</th>\n",
       "      <th>StudentExplanation</th>\n",
       "      <th>is_correct</th>\n",
       "    </tr>\n",
       "  </thead>\n",
       "  <tbody>\n",
       "    <tr>\n",
       "      <th>0</th>\n",
       "      <td>36696</td>\n",
       "      <td>31772</td>\n",
       "      <td>What fraction of the shape is not shaded? Give...</td>\n",
       "      <td>\\( \\frac{1}{3} \\)</td>\n",
       "      <td>I think that 1/3 is the answer, as it's the si...</td>\n",
       "      <td>1</td>\n",
       "    </tr>\n",
       "    <tr>\n",
       "      <th>1</th>\n",
       "      <td>36697</td>\n",
       "      <td>31772</td>\n",
       "      <td>What fraction of the shape is not shaded? Give...</td>\n",
       "      <td>\\( \\frac{3}{6} \\)</td>\n",
       "      <td>i think this answer is because 3 triangles are...</td>\n",
       "      <td>0</td>\n",
       "    </tr>\n",
       "    <tr>\n",
       "      <th>2</th>\n",
       "      <td>36698</td>\n",
       "      <td>32835</td>\n",
       "      <td>Which number is the greatest?</td>\n",
       "      <td>\\( 6.2 \\)</td>\n",
       "      <td>because the 2 makes it higher than the others.</td>\n",
       "      <td>1</td>\n",
       "    </tr>\n",
       "  </tbody>\n",
       "</table>\n",
       "</div>"
      ],
      "text/plain": [
       "   row_id  QuestionId                                       QuestionText  \\\n",
       "0   36696       31772  What fraction of the shape is not shaded? Give...   \n",
       "1   36697       31772  What fraction of the shape is not shaded? Give...   \n",
       "2   36698       32835                      Which number is the greatest?   \n",
       "\n",
       "           MC_Answer                                 StudentExplanation  \\\n",
       "0  \\( \\frac{1}{3} \\)  I think that 1/3 is the answer, as it's the si...   \n",
       "1  \\( \\frac{3}{6} \\)  i think this answer is because 3 triangles are...   \n",
       "2          \\( 6.2 \\)     because the 2 makes it higher than the others.   \n",
       "\n",
       "   is_correct  \n",
       "0           1  \n",
       "1           0  \n",
       "2           1  "
      ]
     },
     "execution_count": 40,
     "metadata": {},
     "output_type": "execute_result"
    }
   ],
   "source": [
    "testDF[\"is_correct\"] = testDF[\"is_correct\"].astype(int)\n",
    "testDF"
   ]
  },
  {
   "cell_type": "markdown",
   "id": "121cc3e8",
   "metadata": {
    "papermill": {
     "duration": 0.049653,
     "end_time": "2025-08-26T06:07:41.367072",
     "exception": false,
     "start_time": "2025-08-26T06:07:41.317419",
     "status": "completed"
    },
    "tags": []
   },
   "source": [
    "## Get Answer choices "
   ]
  },
  {
   "cell_type": "code",
   "execution_count": 41,
   "id": "0d128604",
   "metadata": {
    "execution": {
     "iopub.execute_input": "2025-08-26T06:07:41.467974Z",
     "iopub.status.busy": "2025-08-26T06:07:41.467606Z",
     "iopub.status.idle": "2025-08-26T06:07:41.471019Z",
     "shell.execute_reply": "2025-08-26T06:07:41.470324Z"
    },
    "papermill": {
     "duration": 0.054739,
     "end_time": "2025-08-26T06:07:41.472037",
     "exception": false,
     "start_time": "2025-08-26T06:07:41.417298",
     "status": "completed"
    },
    "tags": []
   },
   "outputs": [],
   "source": [
    "from IPython.display import display, Math, Latex"
   ]
  },
  {
   "cell_type": "code",
   "execution_count": 42,
   "id": "a3dc1d89",
   "metadata": {
    "execution": {
     "iopub.execute_input": "2025-08-26T06:07:41.580649Z",
     "iopub.status.busy": "2025-08-26T06:07:41.580117Z",
     "iopub.status.idle": "2025-08-26T06:07:41.595505Z",
     "shell.execute_reply": "2025-08-26T06:07:41.594822Z"
    },
    "papermill": {
     "duration": 0.074149,
     "end_time": "2025-08-26T06:07:41.597167",
     "exception": false,
     "start_time": "2025-08-26T06:07:41.523018",
     "status": "completed"
    },
    "tags": []
   },
   "outputs": [
    {
     "data": {
      "text/html": [
       "<div>\n",
       "<style scoped>\n",
       "    .dataframe tbody tr th:only-of-type {\n",
       "        vertical-align: middle;\n",
       "    }\n",
       "\n",
       "    .dataframe tbody tr th {\n",
       "        vertical-align: top;\n",
       "    }\n",
       "\n",
       "    .dataframe thead th {\n",
       "        text-align: right;\n",
       "    }\n",
       "</style>\n",
       "<table border=\"1\" class=\"dataframe\">\n",
       "  <thead>\n",
       "    <tr style=\"text-align: right;\">\n",
       "      <th></th>\n",
       "      <th>QuestionId</th>\n",
       "      <th>MC_Answer</th>\n",
       "      <th>count</th>\n",
       "    </tr>\n",
       "  </thead>\n",
       "  <tbody>\n",
       "    <tr>\n",
       "      <th>0</th>\n",
       "      <td>31772</td>\n",
       "      <td>\\( \\frac{1}{3} \\)</td>\n",
       "      <td>2348</td>\n",
       "    </tr>\n",
       "    <tr>\n",
       "      <th>1</th>\n",
       "      <td>31772</td>\n",
       "      <td>\\( \\frac{3}{6} \\)</td>\n",
       "      <td>412</td>\n",
       "    </tr>\n",
       "    <tr>\n",
       "      <th>2</th>\n",
       "      <td>31772</td>\n",
       "      <td>\\( \\frac{3}{8} \\)</td>\n",
       "      <td>118</td>\n",
       "    </tr>\n",
       "    <tr>\n",
       "      <th>3</th>\n",
       "      <td>31772</td>\n",
       "      <td>\\( \\frac{3}{9} \\)</td>\n",
       "      <td>1979</td>\n",
       "    </tr>\n",
       "    <tr>\n",
       "      <th>4</th>\n",
       "      <td>31774</td>\n",
       "      <td>\\( 3 \\)</td>\n",
       "      <td>659</td>\n",
       "    </tr>\n",
       "    <tr>\n",
       "      <th>5</th>\n",
       "      <td>31774</td>\n",
       "      <td>\\( \\frac{1}{12} \\)</td>\n",
       "      <td>1918</td>\n",
       "    </tr>\n",
       "    <tr>\n",
       "      <th>6</th>\n",
       "      <td>31774</td>\n",
       "      <td>\\( \\frac{1}{3} \\)</td>\n",
       "      <td>251</td>\n",
       "    </tr>\n",
       "    <tr>\n",
       "      <th>7</th>\n",
       "      <td>31774</td>\n",
       "      <td>\\( \\frac{6}{2} \\)</td>\n",
       "      <td>287</td>\n",
       "    </tr>\n",
       "    <tr>\n",
       "      <th>8</th>\n",
       "      <td>31777</td>\n",
       "      <td>\\( 24 \\)</td>\n",
       "      <td>255</td>\n",
       "    </tr>\n",
       "    <tr>\n",
       "      <th>9</th>\n",
       "      <td>31777</td>\n",
       "      <td>\\( 48 \\)</td>\n",
       "      <td>406</td>\n",
       "    </tr>\n",
       "    <tr>\n",
       "      <th>10</th>\n",
       "      <td>31777</td>\n",
       "      <td>\\( 60 \\)</td>\n",
       "      <td>350</td>\n",
       "    </tr>\n",
       "    <tr>\n",
       "      <th>11</th>\n",
       "      <td>31777</td>\n",
       "      <td>\\( 72 \\)</td>\n",
       "      <td>1798</td>\n",
       "    </tr>\n",
       "    <tr>\n",
       "      <th>12</th>\n",
       "      <td>31778</td>\n",
       "      <td>\\( 3 \\)</td>\n",
       "      <td>627</td>\n",
       "    </tr>\n",
       "    <tr>\n",
       "      <th>13</th>\n",
       "      <td>31778</td>\n",
       "      <td>\\( 4 \\)</td>\n",
       "      <td>1108</td>\n",
       "    </tr>\n",
       "    <tr>\n",
       "      <th>14</th>\n",
       "      <td>31778</td>\n",
       "      <td>\\( 6 \\)</td>\n",
       "      <td>1755</td>\n",
       "    </tr>\n",
       "    <tr>\n",
       "      <th>15</th>\n",
       "      <td>31778</td>\n",
       "      <td>\\( 9 \\)</td>\n",
       "      <td>150</td>\n",
       "    </tr>\n",
       "    <tr>\n",
       "      <th>16</th>\n",
       "      <td>32829</td>\n",
       "      <td>\\( 12 \\)</td>\n",
       "      <td>1716</td>\n",
       "    </tr>\n",
       "    <tr>\n",
       "      <th>17</th>\n",
       "      <td>32829</td>\n",
       "      <td>\\( 22 \\)</td>\n",
       "      <td>148</td>\n",
       "    </tr>\n",
       "    <tr>\n",
       "      <th>18</th>\n",
       "      <td>32829</td>\n",
       "      <td>\\( 4 \\)</td>\n",
       "      <td>248</td>\n",
       "    </tr>\n",
       "    <tr>\n",
       "      <th>19</th>\n",
       "      <td>32829</td>\n",
       "      <td>\\( 48 \\)</td>\n",
       "      <td>44</td>\n",
       "    </tr>\n",
       "    <tr>\n",
       "      <th>20</th>\n",
       "      <td>32833</td>\n",
       "      <td>\\( 3 \\frac{1}{3} \\)</td>\n",
       "      <td>1601</td>\n",
       "    </tr>\n",
       "    <tr>\n",
       "      <th>21</th>\n",
       "      <td>32833</td>\n",
       "      <td>\\( 5 \\frac{2}{3} \\)</td>\n",
       "      <td>78</td>\n",
       "    </tr>\n",
       "    <tr>\n",
       "      <th>22</th>\n",
       "      <td>32833</td>\n",
       "      <td>\\( \\frac{10}{15} \\)</td>\n",
       "      <td>906</td>\n",
       "    </tr>\n",
       "    <tr>\n",
       "      <th>23</th>\n",
       "      <td>32833</td>\n",
       "      <td>\\( \\frac{2}{15} \\)</td>\n",
       "      <td>520</td>\n",
       "    </tr>\n",
       "    <tr>\n",
       "      <th>24</th>\n",
       "      <td>32835</td>\n",
       "      <td>\\( 6 \\)</td>\n",
       "      <td>478</td>\n",
       "    </tr>\n",
       "    <tr>\n",
       "      <th>25</th>\n",
       "      <td>32835</td>\n",
       "      <td>\\( 6.0001 \\)</td>\n",
       "      <td>64</td>\n",
       "    </tr>\n",
       "    <tr>\n",
       "      <th>26</th>\n",
       "      <td>32835</td>\n",
       "      <td>\\( 6.079 \\)</td>\n",
       "      <td>116</td>\n",
       "    </tr>\n",
       "    <tr>\n",
       "      <th>27</th>\n",
       "      <td>32835</td>\n",
       "      <td>\\( 6.2 \\)</td>\n",
       "      <td>1674</td>\n",
       "    </tr>\n",
       "    <tr>\n",
       "      <th>28</th>\n",
       "      <td>33471</td>\n",
       "      <td>\\( 15 \\)</td>\n",
       "      <td>874</td>\n",
       "    </tr>\n",
       "    <tr>\n",
       "      <th>29</th>\n",
       "      <td>33471</td>\n",
       "      <td>\\( 3 \\)</td>\n",
       "      <td>40</td>\n",
       "    </tr>\n",
       "    <tr>\n",
       "      <th>30</th>\n",
       "      <td>33471</td>\n",
       "      <td>\\( 8 \\)</td>\n",
       "      <td>56</td>\n",
       "    </tr>\n",
       "    <tr>\n",
       "      <th>31</th>\n",
       "      <td>33471</td>\n",
       "      <td>\\( 9 \\)</td>\n",
       "      <td>572</td>\n",
       "    </tr>\n",
       "    <tr>\n",
       "      <th>32</th>\n",
       "      <td>33472</td>\n",
       "      <td>\\( \\frac{11}{15} \\)</td>\n",
       "      <td>1651</td>\n",
       "    </tr>\n",
       "    <tr>\n",
       "      <th>33</th>\n",
       "      <td>33472</td>\n",
       "      <td>\\( \\frac{11}{30} \\)</td>\n",
       "      <td>116</td>\n",
       "    </tr>\n",
       "    <tr>\n",
       "      <th>34</th>\n",
       "      <td>33472</td>\n",
       "      <td>\\( \\frac{3}{15} \\)</td>\n",
       "      <td>565</td>\n",
       "    </tr>\n",
       "    <tr>\n",
       "      <th>35</th>\n",
       "      <td>33472</td>\n",
       "      <td>\\( \\frac{3}{8} \\)</td>\n",
       "      <td>468</td>\n",
       "    </tr>\n",
       "    <tr>\n",
       "      <th>36</th>\n",
       "      <td>33474</td>\n",
       "      <td>\\( \\frac{1}{3} \\times \\frac{2}{3} \\)</td>\n",
       "      <td>630</td>\n",
       "    </tr>\n",
       "    <tr>\n",
       "      <th>37</th>\n",
       "      <td>33474</td>\n",
       "      <td>\\( \\frac{1}{3}+\\frac{2}{3} \\)</td>\n",
       "      <td>49</td>\n",
       "    </tr>\n",
       "    <tr>\n",
       "      <th>38</th>\n",
       "      <td>33474</td>\n",
       "      <td>\\( \\frac{2}{3} \\div \\frac{1}{3} \\)</td>\n",
       "      <td>147</td>\n",
       "    </tr>\n",
       "    <tr>\n",
       "      <th>39</th>\n",
       "      <td>33474</td>\n",
       "      <td>\\( \\frac{2}{3}-\\frac{1}{3} \\)</td>\n",
       "      <td>940</td>\n",
       "    </tr>\n",
       "    <tr>\n",
       "      <th>40</th>\n",
       "      <td>76870</td>\n",
       "      <td>Not enough information</td>\n",
       "      <td>403</td>\n",
       "    </tr>\n",
       "    <tr>\n",
       "      <th>41</th>\n",
       "      <td>76870</td>\n",
       "      <td>\\( 10 \\)</td>\n",
       "      <td>508</td>\n",
       "    </tr>\n",
       "    <tr>\n",
       "      <th>42</th>\n",
       "      <td>76870</td>\n",
       "      <td>\\( 5 \\)</td>\n",
       "      <td>140</td>\n",
       "    </tr>\n",
       "    <tr>\n",
       "      <th>43</th>\n",
       "      <td>76870</td>\n",
       "      <td>\\( 6 \\)</td>\n",
       "      <td>135</td>\n",
       "    </tr>\n",
       "    <tr>\n",
       "      <th>44</th>\n",
       "      <td>89443</td>\n",
       "      <td>\\( -13 \\)</td>\n",
       "      <td>798</td>\n",
       "    </tr>\n",
       "    <tr>\n",
       "      <th>45</th>\n",
       "      <td>89443</td>\n",
       "      <td>\\( -3 \\)</td>\n",
       "      <td>1394</td>\n",
       "    </tr>\n",
       "    <tr>\n",
       "      <th>46</th>\n",
       "      <td>89443</td>\n",
       "      <td>\\( 13 \\)</td>\n",
       "      <td>396</td>\n",
       "    </tr>\n",
       "    <tr>\n",
       "      <th>47</th>\n",
       "      <td>89443</td>\n",
       "      <td>\\( 3 \\)</td>\n",
       "      <td>466</td>\n",
       "    </tr>\n",
       "    <tr>\n",
       "      <th>48</th>\n",
       "      <td>91695</td>\n",
       "      <td>\\( 20 \\)</td>\n",
       "      <td>102</td>\n",
       "    </tr>\n",
       "    <tr>\n",
       "      <th>49</th>\n",
       "      <td>91695</td>\n",
       "      <td>\\( 22 \\)</td>\n",
       "      <td>718</td>\n",
       "    </tr>\n",
       "    <tr>\n",
       "      <th>50</th>\n",
       "      <td>91695</td>\n",
       "      <td>\\( 26 \\)</td>\n",
       "      <td>1547</td>\n",
       "    </tr>\n",
       "    <tr>\n",
       "      <th>51</th>\n",
       "      <td>91695</td>\n",
       "      <td>\\( 36 \\)</td>\n",
       "      <td>243</td>\n",
       "    </tr>\n",
       "    <tr>\n",
       "      <th>52</th>\n",
       "      <td>104665</td>\n",
       "      <td>\\( 192 \\) hours</td>\n",
       "      <td>9</td>\n",
       "    </tr>\n",
       "    <tr>\n",
       "      <th>53</th>\n",
       "      <td>104665</td>\n",
       "      <td>\\( 48 \\) hours</td>\n",
       "      <td>497</td>\n",
       "    </tr>\n",
       "    <tr>\n",
       "      <th>54</th>\n",
       "      <td>104665</td>\n",
       "      <td>\\( 64 \\) hours</td>\n",
       "      <td>62</td>\n",
       "    </tr>\n",
       "    <tr>\n",
       "      <th>55</th>\n",
       "      <td>104665</td>\n",
       "      <td>\\( 768 \\) hours</td>\n",
       "      <td>105</td>\n",
       "    </tr>\n",
       "    <tr>\n",
       "      <th>56</th>\n",
       "      <td>109465</td>\n",
       "      <td>Certain</td>\n",
       "      <td>64</td>\n",
       "    </tr>\n",
       "    <tr>\n",
       "      <th>57</th>\n",
       "      <td>109465</td>\n",
       "      <td>Impossible</td>\n",
       "      <td>18</td>\n",
       "    </tr>\n",
       "    <tr>\n",
       "      <th>58</th>\n",
       "      <td>109465</td>\n",
       "      <td>Likely</td>\n",
       "      <td>553</td>\n",
       "    </tr>\n",
       "    <tr>\n",
       "      <th>59</th>\n",
       "      <td>109465</td>\n",
       "      <td>Unlikely</td>\n",
       "      <td>416</td>\n",
       "    </tr>\n",
       "  </tbody>\n",
       "</table>\n",
       "</div>"
      ],
      "text/plain": [
       "    QuestionId                             MC_Answer  count\n",
       "0        31772                     \\( \\frac{1}{3} \\)   2348\n",
       "1        31772                     \\( \\frac{3}{6} \\)    412\n",
       "2        31772                     \\( \\frac{3}{8} \\)    118\n",
       "3        31772                     \\( \\frac{3}{9} \\)   1979\n",
       "4        31774                               \\( 3 \\)    659\n",
       "5        31774                    \\( \\frac{1}{12} \\)   1918\n",
       "6        31774                     \\( \\frac{1}{3} \\)    251\n",
       "7        31774                     \\( \\frac{6}{2} \\)    287\n",
       "8        31777                              \\( 24 \\)    255\n",
       "9        31777                              \\( 48 \\)    406\n",
       "10       31777                              \\( 60 \\)    350\n",
       "11       31777                              \\( 72 \\)   1798\n",
       "12       31778                               \\( 3 \\)    627\n",
       "13       31778                               \\( 4 \\)   1108\n",
       "14       31778                               \\( 6 \\)   1755\n",
       "15       31778                               \\( 9 \\)    150\n",
       "16       32829                              \\( 12 \\)   1716\n",
       "17       32829                              \\( 22 \\)    148\n",
       "18       32829                               \\( 4 \\)    248\n",
       "19       32829                              \\( 48 \\)     44\n",
       "20       32833                   \\( 3 \\frac{1}{3} \\)   1601\n",
       "21       32833                   \\( 5 \\frac{2}{3} \\)     78\n",
       "22       32833                   \\( \\frac{10}{15} \\)    906\n",
       "23       32833                    \\( \\frac{2}{15} \\)    520\n",
       "24       32835                               \\( 6 \\)    478\n",
       "25       32835                          \\( 6.0001 \\)     64\n",
       "26       32835                           \\( 6.079 \\)    116\n",
       "27       32835                             \\( 6.2 \\)   1674\n",
       "28       33471                              \\( 15 \\)    874\n",
       "29       33471                               \\( 3 \\)     40\n",
       "30       33471                               \\( 8 \\)     56\n",
       "31       33471                               \\( 9 \\)    572\n",
       "32       33472                   \\( \\frac{11}{15} \\)   1651\n",
       "33       33472                   \\( \\frac{11}{30} \\)    116\n",
       "34       33472                    \\( \\frac{3}{15} \\)    565\n",
       "35       33472                     \\( \\frac{3}{8} \\)    468\n",
       "36       33474  \\( \\frac{1}{3} \\times \\frac{2}{3} \\)    630\n",
       "37       33474         \\( \\frac{1}{3}+\\frac{2}{3} \\)     49\n",
       "38       33474    \\( \\frac{2}{3} \\div \\frac{1}{3} \\)    147\n",
       "39       33474         \\( \\frac{2}{3}-\\frac{1}{3} \\)    940\n",
       "40       76870                Not enough information    403\n",
       "41       76870                              \\( 10 \\)    508\n",
       "42       76870                               \\( 5 \\)    140\n",
       "43       76870                               \\( 6 \\)    135\n",
       "44       89443                             \\( -13 \\)    798\n",
       "45       89443                              \\( -3 \\)   1394\n",
       "46       89443                              \\( 13 \\)    396\n",
       "47       89443                               \\( 3 \\)    466\n",
       "48       91695                              \\( 20 \\)    102\n",
       "49       91695                              \\( 22 \\)    718\n",
       "50       91695                              \\( 26 \\)   1547\n",
       "51       91695                              \\( 36 \\)    243\n",
       "52      104665                       \\( 192 \\) hours      9\n",
       "53      104665                        \\( 48 \\) hours    497\n",
       "54      104665                        \\( 64 \\) hours     62\n",
       "55      104665                       \\( 768 \\) hours    105\n",
       "56      109465                               Certain     64\n",
       "57      109465                            Impossible     18\n",
       "58      109465                                Likely    553\n",
       "59      109465                              Unlikely    416"
      ]
     },
     "execution_count": 42,
     "metadata": {},
     "output_type": "execute_result"
    }
   ],
   "source": [
    "temp = trainDF.groupby([\"QuestionId\", \"MC_Answer\"]).size().reset_index(name=\"count\")\n",
    "temp"
   ]
  },
  {
   "cell_type": "code",
   "execution_count": 43,
   "id": "8da76963",
   "metadata": {
    "execution": {
     "iopub.execute_input": "2025-08-26T06:07:41.705395Z",
     "iopub.status.busy": "2025-08-26T06:07:41.705172Z",
     "iopub.status.idle": "2025-08-26T06:07:41.718610Z",
     "shell.execute_reply": "2025-08-26T06:07:41.718008Z"
    },
    "papermill": {
     "duration": 0.065131,
     "end_time": "2025-08-26T06:07:41.719658",
     "exception": false,
     "start_time": "2025-08-26T06:07:41.654527",
     "status": "completed"
    },
    "tags": []
   },
   "outputs": [
    {
     "data": {
      "text/html": [
       "<div>\n",
       "<style scoped>\n",
       "    .dataframe tbody tr th:only-of-type {\n",
       "        vertical-align: middle;\n",
       "    }\n",
       "\n",
       "    .dataframe tbody tr th {\n",
       "        vertical-align: top;\n",
       "    }\n",
       "\n",
       "    .dataframe thead th {\n",
       "        text-align: right;\n",
       "    }\n",
       "</style>\n",
       "<table border=\"1\" class=\"dataframe\">\n",
       "  <thead>\n",
       "    <tr style=\"text-align: right;\">\n",
       "      <th></th>\n",
       "      <th>QuestionId</th>\n",
       "      <th>MC_Answer</th>\n",
       "      <th>count</th>\n",
       "      <th>rank</th>\n",
       "    </tr>\n",
       "  </thead>\n",
       "  <tbody>\n",
       "    <tr>\n",
       "      <th>0</th>\n",
       "      <td>31772</td>\n",
       "      <td>\\( \\frac{1}{3} \\)</td>\n",
       "      <td>2348</td>\n",
       "      <td>0</td>\n",
       "    </tr>\n",
       "    <tr>\n",
       "      <th>1</th>\n",
       "      <td>31772</td>\n",
       "      <td>\\( \\frac{3}{6} \\)</td>\n",
       "      <td>412</td>\n",
       "      <td>2</td>\n",
       "    </tr>\n",
       "    <tr>\n",
       "      <th>2</th>\n",
       "      <td>31772</td>\n",
       "      <td>\\( \\frac{3}{8} \\)</td>\n",
       "      <td>118</td>\n",
       "      <td>3</td>\n",
       "    </tr>\n",
       "    <tr>\n",
       "      <th>3</th>\n",
       "      <td>31772</td>\n",
       "      <td>\\( \\frac{3}{9} \\)</td>\n",
       "      <td>1979</td>\n",
       "      <td>1</td>\n",
       "    </tr>\n",
       "    <tr>\n",
       "      <th>4</th>\n",
       "      <td>31774</td>\n",
       "      <td>\\( 3 \\)</td>\n",
       "      <td>659</td>\n",
       "      <td>1</td>\n",
       "    </tr>\n",
       "    <tr>\n",
       "      <th>5</th>\n",
       "      <td>31774</td>\n",
       "      <td>\\( \\frac{1}{12} \\)</td>\n",
       "      <td>1918</td>\n",
       "      <td>0</td>\n",
       "    </tr>\n",
       "    <tr>\n",
       "      <th>6</th>\n",
       "      <td>31774</td>\n",
       "      <td>\\( \\frac{1}{3} \\)</td>\n",
       "      <td>251</td>\n",
       "      <td>3</td>\n",
       "    </tr>\n",
       "    <tr>\n",
       "      <th>7</th>\n",
       "      <td>31774</td>\n",
       "      <td>\\( \\frac{6}{2} \\)</td>\n",
       "      <td>287</td>\n",
       "      <td>2</td>\n",
       "    </tr>\n",
       "    <tr>\n",
       "      <th>8</th>\n",
       "      <td>31777</td>\n",
       "      <td>\\( 24 \\)</td>\n",
       "      <td>255</td>\n",
       "      <td>3</td>\n",
       "    </tr>\n",
       "    <tr>\n",
       "      <th>9</th>\n",
       "      <td>31777</td>\n",
       "      <td>\\( 48 \\)</td>\n",
       "      <td>406</td>\n",
       "      <td>1</td>\n",
       "    </tr>\n",
       "    <tr>\n",
       "      <th>10</th>\n",
       "      <td>31777</td>\n",
       "      <td>\\( 60 \\)</td>\n",
       "      <td>350</td>\n",
       "      <td>2</td>\n",
       "    </tr>\n",
       "    <tr>\n",
       "      <th>11</th>\n",
       "      <td>31777</td>\n",
       "      <td>\\( 72 \\)</td>\n",
       "      <td>1798</td>\n",
       "      <td>0</td>\n",
       "    </tr>\n",
       "    <tr>\n",
       "      <th>12</th>\n",
       "      <td>31778</td>\n",
       "      <td>\\( 3 \\)</td>\n",
       "      <td>627</td>\n",
       "      <td>2</td>\n",
       "    </tr>\n",
       "    <tr>\n",
       "      <th>13</th>\n",
       "      <td>31778</td>\n",
       "      <td>\\( 4 \\)</td>\n",
       "      <td>1108</td>\n",
       "      <td>1</td>\n",
       "    </tr>\n",
       "    <tr>\n",
       "      <th>14</th>\n",
       "      <td>31778</td>\n",
       "      <td>\\( 6 \\)</td>\n",
       "      <td>1755</td>\n",
       "      <td>0</td>\n",
       "    </tr>\n",
       "    <tr>\n",
       "      <th>15</th>\n",
       "      <td>31778</td>\n",
       "      <td>\\( 9 \\)</td>\n",
       "      <td>150</td>\n",
       "      <td>3</td>\n",
       "    </tr>\n",
       "    <tr>\n",
       "      <th>16</th>\n",
       "      <td>32829</td>\n",
       "      <td>\\( 12 \\)</td>\n",
       "      <td>1716</td>\n",
       "      <td>0</td>\n",
       "    </tr>\n",
       "    <tr>\n",
       "      <th>17</th>\n",
       "      <td>32829</td>\n",
       "      <td>\\( 22 \\)</td>\n",
       "      <td>148</td>\n",
       "      <td>2</td>\n",
       "    </tr>\n",
       "    <tr>\n",
       "      <th>18</th>\n",
       "      <td>32829</td>\n",
       "      <td>\\( 4 \\)</td>\n",
       "      <td>248</td>\n",
       "      <td>1</td>\n",
       "    </tr>\n",
       "    <tr>\n",
       "      <th>19</th>\n",
       "      <td>32829</td>\n",
       "      <td>\\( 48 \\)</td>\n",
       "      <td>44</td>\n",
       "      <td>3</td>\n",
       "    </tr>\n",
       "    <tr>\n",
       "      <th>20</th>\n",
       "      <td>32833</td>\n",
       "      <td>\\( 3 \\frac{1}{3} \\)</td>\n",
       "      <td>1601</td>\n",
       "      <td>0</td>\n",
       "    </tr>\n",
       "    <tr>\n",
       "      <th>21</th>\n",
       "      <td>32833</td>\n",
       "      <td>\\( 5 \\frac{2}{3} \\)</td>\n",
       "      <td>78</td>\n",
       "      <td>3</td>\n",
       "    </tr>\n",
       "    <tr>\n",
       "      <th>22</th>\n",
       "      <td>32833</td>\n",
       "      <td>\\( \\frac{10}{15} \\)</td>\n",
       "      <td>906</td>\n",
       "      <td>1</td>\n",
       "    </tr>\n",
       "    <tr>\n",
       "      <th>23</th>\n",
       "      <td>32833</td>\n",
       "      <td>\\( \\frac{2}{15} \\)</td>\n",
       "      <td>520</td>\n",
       "      <td>2</td>\n",
       "    </tr>\n",
       "    <tr>\n",
       "      <th>24</th>\n",
       "      <td>32835</td>\n",
       "      <td>\\( 6 \\)</td>\n",
       "      <td>478</td>\n",
       "      <td>1</td>\n",
       "    </tr>\n",
       "    <tr>\n",
       "      <th>25</th>\n",
       "      <td>32835</td>\n",
       "      <td>\\( 6.0001 \\)</td>\n",
       "      <td>64</td>\n",
       "      <td>3</td>\n",
       "    </tr>\n",
       "    <tr>\n",
       "      <th>26</th>\n",
       "      <td>32835</td>\n",
       "      <td>\\( 6.079 \\)</td>\n",
       "      <td>116</td>\n",
       "      <td>2</td>\n",
       "    </tr>\n",
       "    <tr>\n",
       "      <th>27</th>\n",
       "      <td>32835</td>\n",
       "      <td>\\( 6.2 \\)</td>\n",
       "      <td>1674</td>\n",
       "      <td>0</td>\n",
       "    </tr>\n",
       "    <tr>\n",
       "      <th>28</th>\n",
       "      <td>33471</td>\n",
       "      <td>\\( 15 \\)</td>\n",
       "      <td>874</td>\n",
       "      <td>0</td>\n",
       "    </tr>\n",
       "    <tr>\n",
       "      <th>29</th>\n",
       "      <td>33471</td>\n",
       "      <td>\\( 3 \\)</td>\n",
       "      <td>40</td>\n",
       "      <td>3</td>\n",
       "    </tr>\n",
       "    <tr>\n",
       "      <th>30</th>\n",
       "      <td>33471</td>\n",
       "      <td>\\( 8 \\)</td>\n",
       "      <td>56</td>\n",
       "      <td>2</td>\n",
       "    </tr>\n",
       "    <tr>\n",
       "      <th>31</th>\n",
       "      <td>33471</td>\n",
       "      <td>\\( 9 \\)</td>\n",
       "      <td>572</td>\n",
       "      <td>1</td>\n",
       "    </tr>\n",
       "    <tr>\n",
       "      <th>32</th>\n",
       "      <td>33472</td>\n",
       "      <td>\\( \\frac{11}{15} \\)</td>\n",
       "      <td>1651</td>\n",
       "      <td>0</td>\n",
       "    </tr>\n",
       "    <tr>\n",
       "      <th>33</th>\n",
       "      <td>33472</td>\n",
       "      <td>\\( \\frac{11}{30} \\)</td>\n",
       "      <td>116</td>\n",
       "      <td>3</td>\n",
       "    </tr>\n",
       "    <tr>\n",
       "      <th>34</th>\n",
       "      <td>33472</td>\n",
       "      <td>\\( \\frac{3}{15} \\)</td>\n",
       "      <td>565</td>\n",
       "      <td>1</td>\n",
       "    </tr>\n",
       "    <tr>\n",
       "      <th>35</th>\n",
       "      <td>33472</td>\n",
       "      <td>\\( \\frac{3}{8} \\)</td>\n",
       "      <td>468</td>\n",
       "      <td>2</td>\n",
       "    </tr>\n",
       "    <tr>\n",
       "      <th>36</th>\n",
       "      <td>33474</td>\n",
       "      <td>\\( \\frac{1}{3} \\times \\frac{2}{3} \\)</td>\n",
       "      <td>630</td>\n",
       "      <td>1</td>\n",
       "    </tr>\n",
       "    <tr>\n",
       "      <th>37</th>\n",
       "      <td>33474</td>\n",
       "      <td>\\( \\frac{1}{3}+\\frac{2}{3} \\)</td>\n",
       "      <td>49</td>\n",
       "      <td>3</td>\n",
       "    </tr>\n",
       "    <tr>\n",
       "      <th>38</th>\n",
       "      <td>33474</td>\n",
       "      <td>\\( \\frac{2}{3} \\div \\frac{1}{3} \\)</td>\n",
       "      <td>147</td>\n",
       "      <td>2</td>\n",
       "    </tr>\n",
       "    <tr>\n",
       "      <th>39</th>\n",
       "      <td>33474</td>\n",
       "      <td>\\( \\frac{2}{3}-\\frac{1}{3} \\)</td>\n",
       "      <td>940</td>\n",
       "      <td>0</td>\n",
       "    </tr>\n",
       "    <tr>\n",
       "      <th>40</th>\n",
       "      <td>76870</td>\n",
       "      <td>Not enough information</td>\n",
       "      <td>403</td>\n",
       "      <td>1</td>\n",
       "    </tr>\n",
       "    <tr>\n",
       "      <th>41</th>\n",
       "      <td>76870</td>\n",
       "      <td>\\( 10 \\)</td>\n",
       "      <td>508</td>\n",
       "      <td>0</td>\n",
       "    </tr>\n",
       "    <tr>\n",
       "      <th>42</th>\n",
       "      <td>76870</td>\n",
       "      <td>\\( 5 \\)</td>\n",
       "      <td>140</td>\n",
       "      <td>2</td>\n",
       "    </tr>\n",
       "    <tr>\n",
       "      <th>43</th>\n",
       "      <td>76870</td>\n",
       "      <td>\\( 6 \\)</td>\n",
       "      <td>135</td>\n",
       "      <td>3</td>\n",
       "    </tr>\n",
       "    <tr>\n",
       "      <th>44</th>\n",
       "      <td>89443</td>\n",
       "      <td>\\( -13 \\)</td>\n",
       "      <td>798</td>\n",
       "      <td>1</td>\n",
       "    </tr>\n",
       "    <tr>\n",
       "      <th>45</th>\n",
       "      <td>89443</td>\n",
       "      <td>\\( -3 \\)</td>\n",
       "      <td>1394</td>\n",
       "      <td>0</td>\n",
       "    </tr>\n",
       "    <tr>\n",
       "      <th>46</th>\n",
       "      <td>89443</td>\n",
       "      <td>\\( 13 \\)</td>\n",
       "      <td>396</td>\n",
       "      <td>3</td>\n",
       "    </tr>\n",
       "    <tr>\n",
       "      <th>47</th>\n",
       "      <td>89443</td>\n",
       "      <td>\\( 3 \\)</td>\n",
       "      <td>466</td>\n",
       "      <td>2</td>\n",
       "    </tr>\n",
       "    <tr>\n",
       "      <th>48</th>\n",
       "      <td>91695</td>\n",
       "      <td>\\( 20 \\)</td>\n",
       "      <td>102</td>\n",
       "      <td>3</td>\n",
       "    </tr>\n",
       "    <tr>\n",
       "      <th>49</th>\n",
       "      <td>91695</td>\n",
       "      <td>\\( 22 \\)</td>\n",
       "      <td>718</td>\n",
       "      <td>1</td>\n",
       "    </tr>\n",
       "    <tr>\n",
       "      <th>50</th>\n",
       "      <td>91695</td>\n",
       "      <td>\\( 26 \\)</td>\n",
       "      <td>1547</td>\n",
       "      <td>0</td>\n",
       "    </tr>\n",
       "    <tr>\n",
       "      <th>51</th>\n",
       "      <td>91695</td>\n",
       "      <td>\\( 36 \\)</td>\n",
       "      <td>243</td>\n",
       "      <td>2</td>\n",
       "    </tr>\n",
       "    <tr>\n",
       "      <th>52</th>\n",
       "      <td>104665</td>\n",
       "      <td>\\( 192 \\) hours</td>\n",
       "      <td>9</td>\n",
       "      <td>3</td>\n",
       "    </tr>\n",
       "    <tr>\n",
       "      <th>53</th>\n",
       "      <td>104665</td>\n",
       "      <td>\\( 48 \\) hours</td>\n",
       "      <td>497</td>\n",
       "      <td>0</td>\n",
       "    </tr>\n",
       "    <tr>\n",
       "      <th>54</th>\n",
       "      <td>104665</td>\n",
       "      <td>\\( 64 \\) hours</td>\n",
       "      <td>62</td>\n",
       "      <td>2</td>\n",
       "    </tr>\n",
       "    <tr>\n",
       "      <th>55</th>\n",
       "      <td>104665</td>\n",
       "      <td>\\( 768 \\) hours</td>\n",
       "      <td>105</td>\n",
       "      <td>1</td>\n",
       "    </tr>\n",
       "    <tr>\n",
       "      <th>56</th>\n",
       "      <td>109465</td>\n",
       "      <td>Certain</td>\n",
       "      <td>64</td>\n",
       "      <td>2</td>\n",
       "    </tr>\n",
       "    <tr>\n",
       "      <th>57</th>\n",
       "      <td>109465</td>\n",
       "      <td>Impossible</td>\n",
       "      <td>18</td>\n",
       "      <td>3</td>\n",
       "    </tr>\n",
       "    <tr>\n",
       "      <th>58</th>\n",
       "      <td>109465</td>\n",
       "      <td>Likely</td>\n",
       "      <td>553</td>\n",
       "      <td>0</td>\n",
       "    </tr>\n",
       "    <tr>\n",
       "      <th>59</th>\n",
       "      <td>109465</td>\n",
       "      <td>Unlikely</td>\n",
       "      <td>416</td>\n",
       "      <td>1</td>\n",
       "    </tr>\n",
       "  </tbody>\n",
       "</table>\n",
       "</div>"
      ],
      "text/plain": [
       "    QuestionId                             MC_Answer  count  rank\n",
       "0        31772                     \\( \\frac{1}{3} \\)   2348     0\n",
       "1        31772                     \\( \\frac{3}{6} \\)    412     2\n",
       "2        31772                     \\( \\frac{3}{8} \\)    118     3\n",
       "3        31772                     \\( \\frac{3}{9} \\)   1979     1\n",
       "4        31774                               \\( 3 \\)    659     1\n",
       "5        31774                    \\( \\frac{1}{12} \\)   1918     0\n",
       "6        31774                     \\( \\frac{1}{3} \\)    251     3\n",
       "7        31774                     \\( \\frac{6}{2} \\)    287     2\n",
       "8        31777                              \\( 24 \\)    255     3\n",
       "9        31777                              \\( 48 \\)    406     1\n",
       "10       31777                              \\( 60 \\)    350     2\n",
       "11       31777                              \\( 72 \\)   1798     0\n",
       "12       31778                               \\( 3 \\)    627     2\n",
       "13       31778                               \\( 4 \\)   1108     1\n",
       "14       31778                               \\( 6 \\)   1755     0\n",
       "15       31778                               \\( 9 \\)    150     3\n",
       "16       32829                              \\( 12 \\)   1716     0\n",
       "17       32829                              \\( 22 \\)    148     2\n",
       "18       32829                               \\( 4 \\)    248     1\n",
       "19       32829                              \\( 48 \\)     44     3\n",
       "20       32833                   \\( 3 \\frac{1}{3} \\)   1601     0\n",
       "21       32833                   \\( 5 \\frac{2}{3} \\)     78     3\n",
       "22       32833                   \\( \\frac{10}{15} \\)    906     1\n",
       "23       32833                    \\( \\frac{2}{15} \\)    520     2\n",
       "24       32835                               \\( 6 \\)    478     1\n",
       "25       32835                          \\( 6.0001 \\)     64     3\n",
       "26       32835                           \\( 6.079 \\)    116     2\n",
       "27       32835                             \\( 6.2 \\)   1674     0\n",
       "28       33471                              \\( 15 \\)    874     0\n",
       "29       33471                               \\( 3 \\)     40     3\n",
       "30       33471                               \\( 8 \\)     56     2\n",
       "31       33471                               \\( 9 \\)    572     1\n",
       "32       33472                   \\( \\frac{11}{15} \\)   1651     0\n",
       "33       33472                   \\( \\frac{11}{30} \\)    116     3\n",
       "34       33472                    \\( \\frac{3}{15} \\)    565     1\n",
       "35       33472                     \\( \\frac{3}{8} \\)    468     2\n",
       "36       33474  \\( \\frac{1}{3} \\times \\frac{2}{3} \\)    630     1\n",
       "37       33474         \\( \\frac{1}{3}+\\frac{2}{3} \\)     49     3\n",
       "38       33474    \\( \\frac{2}{3} \\div \\frac{1}{3} \\)    147     2\n",
       "39       33474         \\( \\frac{2}{3}-\\frac{1}{3} \\)    940     0\n",
       "40       76870                Not enough information    403     1\n",
       "41       76870                              \\( 10 \\)    508     0\n",
       "42       76870                               \\( 5 \\)    140     2\n",
       "43       76870                               \\( 6 \\)    135     3\n",
       "44       89443                             \\( -13 \\)    798     1\n",
       "45       89443                              \\( -3 \\)   1394     0\n",
       "46       89443                              \\( 13 \\)    396     3\n",
       "47       89443                               \\( 3 \\)    466     2\n",
       "48       91695                              \\( 20 \\)    102     3\n",
       "49       91695                              \\( 22 \\)    718     1\n",
       "50       91695                              \\( 26 \\)   1547     0\n",
       "51       91695                              \\( 36 \\)    243     2\n",
       "52      104665                       \\( 192 \\) hours      9     3\n",
       "53      104665                        \\( 48 \\) hours    497     0\n",
       "54      104665                        \\( 64 \\) hours     62     2\n",
       "55      104665                       \\( 768 \\) hours    105     1\n",
       "56      109465                               Certain     64     2\n",
       "57      109465                            Impossible     18     3\n",
       "58      109465                                Likely    553     0\n",
       "59      109465                              Unlikely    416     1"
      ]
     },
     "execution_count": 43,
     "metadata": {},
     "output_type": "execute_result"
    }
   ],
   "source": [
    "# add Ranking\n",
    "temp[\"rank\"] = temp.groupby(\"QuestionId\")['count'].rank(method='dense', ascending=False).astype(int) - 1\n",
    "temp"
   ]
  },
  {
   "cell_type": "code",
   "execution_count": 44,
   "id": "fa48a6d0",
   "metadata": {
    "execution": {
     "iopub.execute_input": "2025-08-26T06:07:41.820915Z",
     "iopub.status.busy": "2025-08-26T06:07:41.820695Z",
     "iopub.status.idle": "2025-08-26T06:07:41.830461Z",
     "shell.execute_reply": "2025-08-26T06:07:41.829894Z"
    },
    "papermill": {
     "duration": 0.061411,
     "end_time": "2025-08-26T06:07:41.831531",
     "exception": false,
     "start_time": "2025-08-26T06:07:41.770120",
     "status": "completed"
    },
    "scrolled": true,
    "tags": []
   },
   "outputs": [
    {
     "data": {
      "text/html": [
       "<div>\n",
       "<style scoped>\n",
       "    .dataframe tbody tr th:only-of-type {\n",
       "        vertical-align: middle;\n",
       "    }\n",
       "\n",
       "    .dataframe tbody tr th {\n",
       "        vertical-align: top;\n",
       "    }\n",
       "\n",
       "    .dataframe thead th {\n",
       "        text-align: right;\n",
       "    }\n",
       "</style>\n",
       "<table border=\"1\" class=\"dataframe\">\n",
       "  <thead>\n",
       "    <tr style=\"text-align: right;\">\n",
       "      <th></th>\n",
       "      <th>QuestionId</th>\n",
       "      <th>MC_Answer</th>\n",
       "      <th>rank</th>\n",
       "    </tr>\n",
       "  </thead>\n",
       "  <tbody>\n",
       "    <tr>\n",
       "      <th>0</th>\n",
       "      <td>31772</td>\n",
       "      <td>\\( \\frac{1}{3} \\)</td>\n",
       "      <td>0</td>\n",
       "    </tr>\n",
       "    <tr>\n",
       "      <th>3</th>\n",
       "      <td>31772</td>\n",
       "      <td>\\( \\frac{3}{9} \\)</td>\n",
       "      <td>1</td>\n",
       "    </tr>\n",
       "    <tr>\n",
       "      <th>1</th>\n",
       "      <td>31772</td>\n",
       "      <td>\\( \\frac{3}{6} \\)</td>\n",
       "      <td>2</td>\n",
       "    </tr>\n",
       "    <tr>\n",
       "      <th>2</th>\n",
       "      <td>31772</td>\n",
       "      <td>\\( \\frac{3}{8} \\)</td>\n",
       "      <td>3</td>\n",
       "    </tr>\n",
       "    <tr>\n",
       "      <th>5</th>\n",
       "      <td>31774</td>\n",
       "      <td>\\( \\frac{1}{12} \\)</td>\n",
       "      <td>0</td>\n",
       "    </tr>\n",
       "    <tr>\n",
       "      <th>4</th>\n",
       "      <td>31774</td>\n",
       "      <td>\\( 3 \\)</td>\n",
       "      <td>1</td>\n",
       "    </tr>\n",
       "    <tr>\n",
       "      <th>7</th>\n",
       "      <td>31774</td>\n",
       "      <td>\\( \\frac{6}{2} \\)</td>\n",
       "      <td>2</td>\n",
       "    </tr>\n",
       "    <tr>\n",
       "      <th>6</th>\n",
       "      <td>31774</td>\n",
       "      <td>\\( \\frac{1}{3} \\)</td>\n",
       "      <td>3</td>\n",
       "    </tr>\n",
       "    <tr>\n",
       "      <th>11</th>\n",
       "      <td>31777</td>\n",
       "      <td>\\( 72 \\)</td>\n",
       "      <td>0</td>\n",
       "    </tr>\n",
       "    <tr>\n",
       "      <th>9</th>\n",
       "      <td>31777</td>\n",
       "      <td>\\( 48 \\)</td>\n",
       "      <td>1</td>\n",
       "    </tr>\n",
       "    <tr>\n",
       "      <th>10</th>\n",
       "      <td>31777</td>\n",
       "      <td>\\( 60 \\)</td>\n",
       "      <td>2</td>\n",
       "    </tr>\n",
       "    <tr>\n",
       "      <th>8</th>\n",
       "      <td>31777</td>\n",
       "      <td>\\( 24 \\)</td>\n",
       "      <td>3</td>\n",
       "    </tr>\n",
       "    <tr>\n",
       "      <th>14</th>\n",
       "      <td>31778</td>\n",
       "      <td>\\( 6 \\)</td>\n",
       "      <td>0</td>\n",
       "    </tr>\n",
       "    <tr>\n",
       "      <th>13</th>\n",
       "      <td>31778</td>\n",
       "      <td>\\( 4 \\)</td>\n",
       "      <td>1</td>\n",
       "    </tr>\n",
       "    <tr>\n",
       "      <th>12</th>\n",
       "      <td>31778</td>\n",
       "      <td>\\( 3 \\)</td>\n",
       "      <td>2</td>\n",
       "    </tr>\n",
       "    <tr>\n",
       "      <th>15</th>\n",
       "      <td>31778</td>\n",
       "      <td>\\( 9 \\)</td>\n",
       "      <td>3</td>\n",
       "    </tr>\n",
       "    <tr>\n",
       "      <th>16</th>\n",
       "      <td>32829</td>\n",
       "      <td>\\( 12 \\)</td>\n",
       "      <td>0</td>\n",
       "    </tr>\n",
       "    <tr>\n",
       "      <th>18</th>\n",
       "      <td>32829</td>\n",
       "      <td>\\( 4 \\)</td>\n",
       "      <td>1</td>\n",
       "    </tr>\n",
       "    <tr>\n",
       "      <th>17</th>\n",
       "      <td>32829</td>\n",
       "      <td>\\( 22 \\)</td>\n",
       "      <td>2</td>\n",
       "    </tr>\n",
       "    <tr>\n",
       "      <th>19</th>\n",
       "      <td>32829</td>\n",
       "      <td>\\( 48 \\)</td>\n",
       "      <td>3</td>\n",
       "    </tr>\n",
       "    <tr>\n",
       "      <th>20</th>\n",
       "      <td>32833</td>\n",
       "      <td>\\( 3 \\frac{1}{3} \\)</td>\n",
       "      <td>0</td>\n",
       "    </tr>\n",
       "    <tr>\n",
       "      <th>22</th>\n",
       "      <td>32833</td>\n",
       "      <td>\\( \\frac{10}{15} \\)</td>\n",
       "      <td>1</td>\n",
       "    </tr>\n",
       "    <tr>\n",
       "      <th>23</th>\n",
       "      <td>32833</td>\n",
       "      <td>\\( \\frac{2}{15} \\)</td>\n",
       "      <td>2</td>\n",
       "    </tr>\n",
       "    <tr>\n",
       "      <th>21</th>\n",
       "      <td>32833</td>\n",
       "      <td>\\( 5 \\frac{2}{3} \\)</td>\n",
       "      <td>3</td>\n",
       "    </tr>\n",
       "    <tr>\n",
       "      <th>27</th>\n",
       "      <td>32835</td>\n",
       "      <td>\\( 6.2 \\)</td>\n",
       "      <td>0</td>\n",
       "    </tr>\n",
       "    <tr>\n",
       "      <th>24</th>\n",
       "      <td>32835</td>\n",
       "      <td>\\( 6 \\)</td>\n",
       "      <td>1</td>\n",
       "    </tr>\n",
       "    <tr>\n",
       "      <th>26</th>\n",
       "      <td>32835</td>\n",
       "      <td>\\( 6.079 \\)</td>\n",
       "      <td>2</td>\n",
       "    </tr>\n",
       "    <tr>\n",
       "      <th>25</th>\n",
       "      <td>32835</td>\n",
       "      <td>\\( 6.0001 \\)</td>\n",
       "      <td>3</td>\n",
       "    </tr>\n",
       "    <tr>\n",
       "      <th>28</th>\n",
       "      <td>33471</td>\n",
       "      <td>\\( 15 \\)</td>\n",
       "      <td>0</td>\n",
       "    </tr>\n",
       "    <tr>\n",
       "      <th>31</th>\n",
       "      <td>33471</td>\n",
       "      <td>\\( 9 \\)</td>\n",
       "      <td>1</td>\n",
       "    </tr>\n",
       "    <tr>\n",
       "      <th>30</th>\n",
       "      <td>33471</td>\n",
       "      <td>\\( 8 \\)</td>\n",
       "      <td>2</td>\n",
       "    </tr>\n",
       "    <tr>\n",
       "      <th>29</th>\n",
       "      <td>33471</td>\n",
       "      <td>\\( 3 \\)</td>\n",
       "      <td>3</td>\n",
       "    </tr>\n",
       "    <tr>\n",
       "      <th>32</th>\n",
       "      <td>33472</td>\n",
       "      <td>\\( \\frac{11}{15} \\)</td>\n",
       "      <td>0</td>\n",
       "    </tr>\n",
       "    <tr>\n",
       "      <th>34</th>\n",
       "      <td>33472</td>\n",
       "      <td>\\( \\frac{3}{15} \\)</td>\n",
       "      <td>1</td>\n",
       "    </tr>\n",
       "    <tr>\n",
       "      <th>35</th>\n",
       "      <td>33472</td>\n",
       "      <td>\\( \\frac{3}{8} \\)</td>\n",
       "      <td>2</td>\n",
       "    </tr>\n",
       "    <tr>\n",
       "      <th>33</th>\n",
       "      <td>33472</td>\n",
       "      <td>\\( \\frac{11}{30} \\)</td>\n",
       "      <td>3</td>\n",
       "    </tr>\n",
       "    <tr>\n",
       "      <th>39</th>\n",
       "      <td>33474</td>\n",
       "      <td>\\( \\frac{2}{3}-\\frac{1}{3} \\)</td>\n",
       "      <td>0</td>\n",
       "    </tr>\n",
       "    <tr>\n",
       "      <th>36</th>\n",
       "      <td>33474</td>\n",
       "      <td>\\( \\frac{1}{3} \\times \\frac{2}{3} \\)</td>\n",
       "      <td>1</td>\n",
       "    </tr>\n",
       "    <tr>\n",
       "      <th>38</th>\n",
       "      <td>33474</td>\n",
       "      <td>\\( \\frac{2}{3} \\div \\frac{1}{3} \\)</td>\n",
       "      <td>2</td>\n",
       "    </tr>\n",
       "    <tr>\n",
       "      <th>37</th>\n",
       "      <td>33474</td>\n",
       "      <td>\\( \\frac{1}{3}+\\frac{2}{3} \\)</td>\n",
       "      <td>3</td>\n",
       "    </tr>\n",
       "    <tr>\n",
       "      <th>41</th>\n",
       "      <td>76870</td>\n",
       "      <td>\\( 10 \\)</td>\n",
       "      <td>0</td>\n",
       "    </tr>\n",
       "    <tr>\n",
       "      <th>40</th>\n",
       "      <td>76870</td>\n",
       "      <td>Not enough information</td>\n",
       "      <td>1</td>\n",
       "    </tr>\n",
       "    <tr>\n",
       "      <th>42</th>\n",
       "      <td>76870</td>\n",
       "      <td>\\( 5 \\)</td>\n",
       "      <td>2</td>\n",
       "    </tr>\n",
       "    <tr>\n",
       "      <th>43</th>\n",
       "      <td>76870</td>\n",
       "      <td>\\( 6 \\)</td>\n",
       "      <td>3</td>\n",
       "    </tr>\n",
       "    <tr>\n",
       "      <th>45</th>\n",
       "      <td>89443</td>\n",
       "      <td>\\( -3 \\)</td>\n",
       "      <td>0</td>\n",
       "    </tr>\n",
       "    <tr>\n",
       "      <th>44</th>\n",
       "      <td>89443</td>\n",
       "      <td>\\( -13 \\)</td>\n",
       "      <td>1</td>\n",
       "    </tr>\n",
       "    <tr>\n",
       "      <th>47</th>\n",
       "      <td>89443</td>\n",
       "      <td>\\( 3 \\)</td>\n",
       "      <td>2</td>\n",
       "    </tr>\n",
       "    <tr>\n",
       "      <th>46</th>\n",
       "      <td>89443</td>\n",
       "      <td>\\( 13 \\)</td>\n",
       "      <td>3</td>\n",
       "    </tr>\n",
       "    <tr>\n",
       "      <th>50</th>\n",
       "      <td>91695</td>\n",
       "      <td>\\( 26 \\)</td>\n",
       "      <td>0</td>\n",
       "    </tr>\n",
       "    <tr>\n",
       "      <th>49</th>\n",
       "      <td>91695</td>\n",
       "      <td>\\( 22 \\)</td>\n",
       "      <td>1</td>\n",
       "    </tr>\n",
       "    <tr>\n",
       "      <th>51</th>\n",
       "      <td>91695</td>\n",
       "      <td>\\( 36 \\)</td>\n",
       "      <td>2</td>\n",
       "    </tr>\n",
       "    <tr>\n",
       "      <th>48</th>\n",
       "      <td>91695</td>\n",
       "      <td>\\( 20 \\)</td>\n",
       "      <td>3</td>\n",
       "    </tr>\n",
       "    <tr>\n",
       "      <th>53</th>\n",
       "      <td>104665</td>\n",
       "      <td>\\( 48 \\) hours</td>\n",
       "      <td>0</td>\n",
       "    </tr>\n",
       "    <tr>\n",
       "      <th>55</th>\n",
       "      <td>104665</td>\n",
       "      <td>\\( 768 \\) hours</td>\n",
       "      <td>1</td>\n",
       "    </tr>\n",
       "    <tr>\n",
       "      <th>54</th>\n",
       "      <td>104665</td>\n",
       "      <td>\\( 64 \\) hours</td>\n",
       "      <td>2</td>\n",
       "    </tr>\n",
       "    <tr>\n",
       "      <th>52</th>\n",
       "      <td>104665</td>\n",
       "      <td>\\( 192 \\) hours</td>\n",
       "      <td>3</td>\n",
       "    </tr>\n",
       "    <tr>\n",
       "      <th>58</th>\n",
       "      <td>109465</td>\n",
       "      <td>Likely</td>\n",
       "      <td>0</td>\n",
       "    </tr>\n",
       "    <tr>\n",
       "      <th>59</th>\n",
       "      <td>109465</td>\n",
       "      <td>Unlikely</td>\n",
       "      <td>1</td>\n",
       "    </tr>\n",
       "    <tr>\n",
       "      <th>56</th>\n",
       "      <td>109465</td>\n",
       "      <td>Certain</td>\n",
       "      <td>2</td>\n",
       "    </tr>\n",
       "    <tr>\n",
       "      <th>57</th>\n",
       "      <td>109465</td>\n",
       "      <td>Impossible</td>\n",
       "      <td>3</td>\n",
       "    </tr>\n",
       "  </tbody>\n",
       "</table>\n",
       "</div>"
      ],
      "text/plain": [
       "    QuestionId                             MC_Answer  rank\n",
       "0        31772                     \\( \\frac{1}{3} \\)     0\n",
       "3        31772                     \\( \\frac{3}{9} \\)     1\n",
       "1        31772                     \\( \\frac{3}{6} \\)     2\n",
       "2        31772                     \\( \\frac{3}{8} \\)     3\n",
       "5        31774                    \\( \\frac{1}{12} \\)     0\n",
       "4        31774                               \\( 3 \\)     1\n",
       "7        31774                     \\( \\frac{6}{2} \\)     2\n",
       "6        31774                     \\( \\frac{1}{3} \\)     3\n",
       "11       31777                              \\( 72 \\)     0\n",
       "9        31777                              \\( 48 \\)     1\n",
       "10       31777                              \\( 60 \\)     2\n",
       "8        31777                              \\( 24 \\)     3\n",
       "14       31778                               \\( 6 \\)     0\n",
       "13       31778                               \\( 4 \\)     1\n",
       "12       31778                               \\( 3 \\)     2\n",
       "15       31778                               \\( 9 \\)     3\n",
       "16       32829                              \\( 12 \\)     0\n",
       "18       32829                               \\( 4 \\)     1\n",
       "17       32829                              \\( 22 \\)     2\n",
       "19       32829                              \\( 48 \\)     3\n",
       "20       32833                   \\( 3 \\frac{1}{3} \\)     0\n",
       "22       32833                   \\( \\frac{10}{15} \\)     1\n",
       "23       32833                    \\( \\frac{2}{15} \\)     2\n",
       "21       32833                   \\( 5 \\frac{2}{3} \\)     3\n",
       "27       32835                             \\( 6.2 \\)     0\n",
       "24       32835                               \\( 6 \\)     1\n",
       "26       32835                           \\( 6.079 \\)     2\n",
       "25       32835                          \\( 6.0001 \\)     3\n",
       "28       33471                              \\( 15 \\)     0\n",
       "31       33471                               \\( 9 \\)     1\n",
       "30       33471                               \\( 8 \\)     2\n",
       "29       33471                               \\( 3 \\)     3\n",
       "32       33472                   \\( \\frac{11}{15} \\)     0\n",
       "34       33472                    \\( \\frac{3}{15} \\)     1\n",
       "35       33472                     \\( \\frac{3}{8} \\)     2\n",
       "33       33472                   \\( \\frac{11}{30} \\)     3\n",
       "39       33474         \\( \\frac{2}{3}-\\frac{1}{3} \\)     0\n",
       "36       33474  \\( \\frac{1}{3} \\times \\frac{2}{3} \\)     1\n",
       "38       33474    \\( \\frac{2}{3} \\div \\frac{1}{3} \\)     2\n",
       "37       33474         \\( \\frac{1}{3}+\\frac{2}{3} \\)     3\n",
       "41       76870                              \\( 10 \\)     0\n",
       "40       76870                Not enough information     1\n",
       "42       76870                               \\( 5 \\)     2\n",
       "43       76870                               \\( 6 \\)     3\n",
       "45       89443                              \\( -3 \\)     0\n",
       "44       89443                             \\( -13 \\)     1\n",
       "47       89443                               \\( 3 \\)     2\n",
       "46       89443                              \\( 13 \\)     3\n",
       "50       91695                              \\( 26 \\)     0\n",
       "49       91695                              \\( 22 \\)     1\n",
       "51       91695                              \\( 36 \\)     2\n",
       "48       91695                              \\( 20 \\)     3\n",
       "53      104665                        \\( 48 \\) hours     0\n",
       "55      104665                       \\( 768 \\) hours     1\n",
       "54      104665                        \\( 64 \\) hours     2\n",
       "52      104665                       \\( 192 \\) hours     3\n",
       "58      109465                                Likely     0\n",
       "59      109465                              Unlikely     1\n",
       "56      109465                               Certain     2\n",
       "57      109465                            Impossible     3"
      ]
     },
     "execution_count": 44,
     "metadata": {},
     "output_type": "execute_result"
    }
   ],
   "source": [
    "temp = temp.drop('count',axis=1)\n",
    "temp = temp.sort_values(['QuestionId','rank'])\n",
    "temp"
   ]
  },
  {
   "cell_type": "code",
   "execution_count": 45,
   "id": "0cd1bf85",
   "metadata": {
    "execution": {
     "iopub.execute_input": "2025-08-26T06:07:41.942701Z",
     "iopub.status.busy": "2025-08-26T06:07:41.942080Z",
     "iopub.status.idle": "2025-08-26T06:07:42.006595Z",
     "shell.execute_reply": "2025-08-26T06:07:42.005981Z"
    },
    "papermill": {
     "duration": 0.121132,
     "end_time": "2025-08-26T06:07:42.007663",
     "exception": false,
     "start_time": "2025-08-26T06:07:41.886531",
     "status": "completed"
    },
    "scrolled": true,
    "tags": []
   },
   "outputs": [
    {
     "name": "stdout",
     "output_type": "stream",
     "text": [
      "\n"
     ]
    },
    {
     "data": {
      "text/latex": [
       "Question Id: 31772: What fraction of the shape is not shaded? Give your answer in its simplest form. [Image: A triangle split into 9 equal smaller triangles. 6 of them are shaded.]"
      ],
      "text/plain": [
       "<IPython.core.display.Latex object>"
      ]
     },
     "metadata": {},
     "output_type": "display_data"
    },
    {
     "data": {
      "text/latex": [
       "MC Answer: (A) \\( \\frac{1}{3} \\) (B) \\( \\frac{3}{9} \\) (C) \\( \\frac{3}{6} \\) (D) \\( \\frac{3}{8} \\)\n",
       "\r"
      ],
      "text/plain": [
       "<IPython.core.display.Latex object>"
      ]
     },
     "metadata": {},
     "output_type": "display_data"
    },
    {
     "name": "stdout",
     "output_type": "stream",
     "text": [
      "\n"
     ]
    },
    {
     "data": {
      "text/latex": [
       "Question Id: 31774: Calculate \\( \\frac{1}{2} \\div 6 \\)"
      ],
      "text/plain": [
       "<IPython.core.display.Latex object>"
      ]
     },
     "metadata": {},
     "output_type": "display_data"
    },
    {
     "data": {
      "text/latex": [
       "MC Answer: (A) \\( \\frac{1}{12} \\) (B) \\( 3 \\) (C) \\( \\frac{6}{2} \\) (D) \\( \\frac{1}{3} \\)\n",
       "\r"
      ],
      "text/plain": [
       "<IPython.core.display.Latex object>"
      ]
     },
     "metadata": {},
     "output_type": "display_data"
    },
    {
     "name": "stdout",
     "output_type": "stream",
     "text": [
      "\n"
     ]
    },
    {
     "data": {
      "text/latex": [
       "Question Id: 31777: A box contains \\( 120 \\) counters. The counters are red or blue. \\( \\frac{3}{5} \\) of the counters are red.\n",
       "How many red counters are there?"
      ],
      "text/plain": [
       "<IPython.core.display.Latex object>"
      ]
     },
     "metadata": {},
     "output_type": "display_data"
    },
    {
     "data": {
      "text/latex": [
       "MC Answer: (A) \\( 72 \\) (B) \\( 48 \\) (C) \\( 60 \\) (D) \\( 24 \\)\n",
       "\r"
      ],
      "text/plain": [
       "<IPython.core.display.Latex object>"
      ]
     },
     "metadata": {},
     "output_type": "display_data"
    },
    {
     "name": "stdout",
     "output_type": "stream",
     "text": [
      "\n"
     ]
    },
    {
     "data": {
      "text/latex": [
       "Question Id: 31778: \\( \\frac{A}{10}=\\frac{9}{15} \\) What is the value of \\( A \\) ?"
      ],
      "text/plain": [
       "<IPython.core.display.Latex object>"
      ]
     },
     "metadata": {},
     "output_type": "display_data"
    },
    {
     "data": {
      "text/latex": [
       "MC Answer: (A) \\( 6 \\) (B) \\( 4 \\) (C) \\( 3 \\) (D) \\( 9 \\)\n",
       "\r"
      ],
      "text/plain": [
       "<IPython.core.display.Latex object>"
      ]
     },
     "metadata": {},
     "output_type": "display_data"
    },
    {
     "name": "stdout",
     "output_type": "stream",
     "text": [
      "\n"
     ]
    },
    {
     "data": {
      "text/latex": [
       "Question Id: 32829: \\( 2 y=24 \\) What is the value of \\( y \\) ?"
      ],
      "text/plain": [
       "<IPython.core.display.Latex object>"
      ]
     },
     "metadata": {},
     "output_type": "display_data"
    },
    {
     "data": {
      "text/latex": [
       "MC Answer: (A) \\( 12 \\) (B) \\( 4 \\) (C) \\( 22 \\) (D) \\( 48 \\)\n",
       "\r"
      ],
      "text/plain": [
       "<IPython.core.display.Latex object>"
      ]
     },
     "metadata": {},
     "output_type": "display_data"
    },
    {
     "name": "stdout",
     "output_type": "stream",
     "text": [
      "\n"
     ]
    },
    {
     "data": {
      "text/latex": [
       "Question Id: 32833: Calculate \\( \\frac{2}{3} \\times 5 \\)"
      ],
      "text/plain": [
       "<IPython.core.display.Latex object>"
      ]
     },
     "metadata": {},
     "output_type": "display_data"
    },
    {
     "data": {
      "text/latex": [
       "MC Answer: (A) \\( 3 \\frac{1}{3} \\) (B) \\( \\frac{10}{15} \\) (C) \\( \\frac{2}{15} \\) (D) \\( 5 \\frac{2}{3} \\)\n",
       "\r"
      ],
      "text/plain": [
       "<IPython.core.display.Latex object>"
      ]
     },
     "metadata": {},
     "output_type": "display_data"
    },
    {
     "name": "stdout",
     "output_type": "stream",
     "text": [
      "\n"
     ]
    },
    {
     "data": {
      "text/latex": [
       "Question Id: 32835: Which number is the greatest?"
      ],
      "text/plain": [
       "<IPython.core.display.Latex object>"
      ]
     },
     "metadata": {},
     "output_type": "display_data"
    },
    {
     "data": {
      "text/latex": [
       "MC Answer: (A) \\( 6.2 \\) (B) \\( 6 \\) (C) \\( 6.079 \\) (D) \\( 6.0001 \\)\n",
       "\r"
      ],
      "text/plain": [
       "<IPython.core.display.Latex object>"
      ]
     },
     "metadata": {},
     "output_type": "display_data"
    },
    {
     "name": "stdout",
     "output_type": "stream",
     "text": [
      "\n"
     ]
    },
    {
     "data": {
      "text/latex": [
       "Question Id: 33471: A bag contains \\( 24 \\) yellow and green balls. \\( \\frac{3}{8} \\) of the balls are yellow. How many of the balls are green?"
      ],
      "text/plain": [
       "<IPython.core.display.Latex object>"
      ]
     },
     "metadata": {},
     "output_type": "display_data"
    },
    {
     "data": {
      "text/latex": [
       "MC Answer: (A) \\( 15 \\) (B) \\( 9 \\) (C) \\( 8 \\) (D) \\( 3 \\)\n",
       "\r"
      ],
      "text/plain": [
       "<IPython.core.display.Latex object>"
      ]
     },
     "metadata": {},
     "output_type": "display_data"
    },
    {
     "name": "stdout",
     "output_type": "stream",
     "text": [
      "\n"
     ]
    },
    {
     "data": {
      "text/latex": [
       "Question Id: 33472: \\( \\frac{1}{3}+\\frac{2}{5}= \\)"
      ],
      "text/plain": [
       "<IPython.core.display.Latex object>"
      ]
     },
     "metadata": {},
     "output_type": "display_data"
    },
    {
     "data": {
      "text/latex": [
       "MC Answer: (A) \\( \\frac{11}{15} \\) (B) \\( \\frac{3}{15} \\) (C) \\( \\frac{3}{8} \\) (D) \\( \\frac{11}{30} \\)\n",
       "\r"
      ],
      "text/plain": [
       "<IPython.core.display.Latex object>"
      ]
     },
     "metadata": {},
     "output_type": "display_data"
    },
    {
     "name": "stdout",
     "output_type": "stream",
     "text": [
      "\n"
     ]
    },
    {
     "data": {
      "text/latex": [
       "Question Id: 33474: Sally has \\( \\frac{2}{3} \\) of a whole cake in the fridge. Robert eats \\( \\frac{1}{3} \\) of this piece. What fraction of the whole cake has Robert eaten?\n",
       "Choose the number sentence that would solve the word problem."
      ],
      "text/plain": [
       "<IPython.core.display.Latex object>"
      ]
     },
     "metadata": {},
     "output_type": "display_data"
    },
    {
     "data": {
      "text/latex": [
       "MC Answer: (A) \\( \\frac{2}{3}-\\frac{1}{3} \\) (B) \\( \\frac{1}{3} \\times \\frac{2}{3} \\) (C) \\( \\frac{2}{3} \\div \\frac{1}{3} \\) (D) \\( \\frac{1}{3}+\\frac{2}{3} \\)\n",
       "\r"
      ],
      "text/plain": [
       "<IPython.core.display.Latex object>"
      ]
     },
     "metadata": {},
     "output_type": "display_data"
    },
    {
     "name": "stdout",
     "output_type": "stream",
     "text": [
      "\n"
     ]
    },
    {
     "data": {
      "text/latex": [
       "Question Id: 76870: This is part of a regular polygon. How many sides does it have? [Image: A diagram showing an obtuse angle labelled 144 degrees]"
      ],
      "text/plain": [
       "<IPython.core.display.Latex object>"
      ]
     },
     "metadata": {},
     "output_type": "display_data"
    },
    {
     "data": {
      "text/latex": [
       "MC Answer: (A) \\( 10 \\) (B) Not enough information (C) \\( 5 \\) (D) \\( 6 \\)\n",
       "\r"
      ],
      "text/plain": [
       "<IPython.core.display.Latex object>"
      ]
     },
     "metadata": {},
     "output_type": "display_data"
    },
    {
     "name": "stdout",
     "output_type": "stream",
     "text": [
      "\n"
     ]
    },
    {
     "data": {
      "text/latex": [
       "Question Id: 89443: What number belongs in the box?\n",
       "\\(\n",
       "(-8)-(-5)=\n",
       "\\square\\)"
      ],
      "text/plain": [
       "<IPython.core.display.Latex object>"
      ]
     },
     "metadata": {},
     "output_type": "display_data"
    },
    {
     "data": {
      "text/latex": [
       "MC Answer: (A) \\( -3 \\) (B) \\( -13 \\) (C) \\( 3 \\) (D) \\( 13 \\)\n",
       "\r"
      ],
      "text/plain": [
       "<IPython.core.display.Latex object>"
      ]
     },
     "metadata": {},
     "output_type": "display_data"
    },
    {
     "name": "stdout",
     "output_type": "stream",
     "text": [
      "\n"
     ]
    },
    {
     "data": {
      "text/latex": [
       "Question Id: 91695: Dots have been arranged in these patterns: [Image: Pattern 1 consists of 6 dots, Pattern 2 consists of 10 dots, Pattern 3 consists of 14 dots and Pattern 4 consists of 18 dots] How many dots would there be in Pattern \\( 6 \\) ?"
      ],
      "text/plain": [
       "<IPython.core.display.Latex object>"
      ]
     },
     "metadata": {},
     "output_type": "display_data"
    },
    {
     "data": {
      "text/latex": [
       "MC Answer: (A) \\( 26 \\) (B) \\( 22 \\) (C) \\( 36 \\) (D) \\( 20 \\)\n",
       "\r"
      ],
      "text/plain": [
       "<IPython.core.display.Latex object>"
      ]
     },
     "metadata": {},
     "output_type": "display_data"
    },
    {
     "name": "stdout",
     "output_type": "stream",
     "text": [
      "\n"
     ]
    },
    {
     "data": {
      "text/latex": [
       "Question Id: 104665: It takes \\( 3 \\) people a total of \\( 192 \\) hours to build a wall.\n",
       "\n",
       "How long would it take if \\( 12 \\) people built the same wall?"
      ],
      "text/plain": [
       "<IPython.core.display.Latex object>"
      ]
     },
     "metadata": {},
     "output_type": "display_data"
    },
    {
     "data": {
      "text/latex": [
       "MC Answer: (A) \\( 48 \\) hours (B) \\( 768 \\) hours (C) \\( 64 \\) hours (D) \\( 192 \\) hours\n",
       "\r"
      ],
      "text/plain": [
       "<IPython.core.display.Latex object>"
      ]
     },
     "metadata": {},
     "output_type": "display_data"
    },
    {
     "name": "stdout",
     "output_type": "stream",
     "text": [
      "\n"
     ]
    },
    {
     "data": {
      "text/latex": [
       "Question Id: 109465: The probability of an event occurring is \\( 0.9 \\).\n",
       "\n",
       "Which of the following most accurately describes the likelihood of the event occurring?"
      ],
      "text/plain": [
       "<IPython.core.display.Latex object>"
      ]
     },
     "metadata": {},
     "output_type": "display_data"
    },
    {
     "data": {
      "text/latex": [
       "MC Answer: (A) Likely (B) Unlikely (C) Certain (D) Impossible\n",
       "\r"
      ],
      "text/plain": [
       "<IPython.core.display.Latex object>"
      ]
     },
     "metadata": {},
     "output_type": "display_data"
    }
   ],
   "source": [
    "Qid = temp[\"QuestionId\"].unique() # get unique questionid\n",
    "for q in Qid:\n",
    "    question = trainDF.loc[trainDF.QuestionId==q].iloc[0][\"QuestionText\"] # get Question Text for specific QuestionId\n",
    "    choices = temp.loc[temp[\"QuestionId\"] ==q][\"MC_Answer\"].values #\n",
    "    labels=\"ABCD\" # define labels name\n",
    "    choiceStr = \" \".join([f\"({labels[i]}) {choice}\" for  i, choice in enumerate(choices)])\n",
    "    print()\n",
    "    display(Latex(f\"Question Id: {q}: {question}\"))\n",
    "    display(Latex(f\"MC Answer: {choiceStr}\\n\\r\"))\n",
    "    \n",
    "    # print(f\"question: {question}, choices: {choices}  \\n\\r\")"
   ]
  },
  {
   "cell_type": "code",
   "execution_count": 46,
   "id": "bf30adf4",
   "metadata": {
    "execution": {
     "iopub.execute_input": "2025-08-26T06:07:42.117298Z",
     "iopub.status.busy": "2025-08-26T06:07:42.117111Z",
     "iopub.status.idle": "2025-08-26T06:07:42.121458Z",
     "shell.execute_reply": "2025-08-26T06:07:42.120721Z"
    },
    "papermill": {
     "duration": 0.059359,
     "end_time": "2025-08-26T06:07:42.122587",
     "exception": false,
     "start_time": "2025-08-26T06:07:42.063228",
     "status": "completed"
    },
    "tags": []
   },
   "outputs": [
    {
     "data": {
      "text/plain": [
       "15"
      ]
     },
     "execution_count": 46,
     "metadata": {},
     "output_type": "execute_result"
    }
   ],
   "source": [
    "len(Qid)"
   ]
  },
  {
   "cell_type": "code",
   "execution_count": 47,
   "id": "e26c2048",
   "metadata": {
    "execution": {
     "iopub.execute_input": "2025-08-26T06:07:42.230262Z",
     "iopub.status.busy": "2025-08-26T06:07:42.229850Z",
     "iopub.status.idle": "2025-08-26T06:07:45.555498Z",
     "shell.execute_reply": "2025-08-26T06:07:45.554909Z"
    },
    "papermill": {
     "duration": 3.380889,
     "end_time": "2025-08-26T06:07:45.556824",
     "exception": false,
     "start_time": "2025-08-26T06:07:42.175935",
     "status": "completed"
    },
    "tags": []
   },
   "outputs": [],
   "source": [
    "clearMemory()"
   ]
  },
  {
   "cell_type": "code",
   "execution_count": 48,
   "id": "54d449fc",
   "metadata": {
    "execution": {
     "iopub.execute_input": "2025-08-26T06:07:45.665573Z",
     "iopub.status.busy": "2025-08-26T06:07:45.665046Z",
     "iopub.status.idle": "2025-08-26T06:07:45.668123Z",
     "shell.execute_reply": "2025-08-26T06:07:45.667551Z"
    },
    "papermill": {
     "duration": 0.058497,
     "end_time": "2025-08-26T06:07:45.669218",
     "exception": false,
     "start_time": "2025-08-26T06:07:45.610721",
     "status": "completed"
    },
    "tags": []
   },
   "outputs": [],
   "source": [
    "# !pip uninstall protobuf\n",
    "# !pip install protobuf==3.20.3"
   ]
  },
  {
   "cell_type": "markdown",
   "id": "f1c6baa9",
   "metadata": {
    "papermill": {
     "duration": 0.053642,
     "end_time": "2025-08-26T06:07:45.817340",
     "exception": false,
     "start_time": "2025-08-26T06:07:45.763698",
     "status": "completed"
    },
    "tags": []
   },
   "source": [
    "## LLM inital"
   ]
  },
  {
   "cell_type": "code",
   "execution_count": 49,
   "id": "d97b3c96",
   "metadata": {
    "execution": {
     "iopub.execute_input": "2025-08-26T06:07:45.925794Z",
     "iopub.status.busy": "2025-08-26T06:07:45.925247Z",
     "iopub.status.idle": "2025-08-26T06:07:45.930181Z",
     "shell.execute_reply": "2025-08-26T06:07:45.929654Z"
    },
    "papermill": {
     "duration": 0.059665,
     "end_time": "2025-08-26T06:07:45.931153",
     "exception": false,
     "start_time": "2025-08-26T06:07:45.871488",
     "status": "completed"
    },
    "tags": []
   },
   "outputs": [],
   "source": [
    "bnbConfig = BitsAndBytesConfig(\n",
    "            load_in_4bit=True,\n",
    "            bnb_4bit_quant_type=\"nf4\",\n",
    "            bnb_4bit_compute_dtype=torch.bfloat16,\n",
    "            bnb_4bit_use_double_quant=True ) # Activate netsed quantization for 4bit base "
   ]
  },
  {
   "cell_type": "code",
   "execution_count": 50,
   "id": "16788db2",
   "metadata": {
    "execution": {
     "iopub.execute_input": "2025-08-26T06:07:46.038050Z",
     "iopub.status.busy": "2025-08-26T06:07:46.037640Z",
     "iopub.status.idle": "2025-08-26T06:07:46.040686Z",
     "shell.execute_reply": "2025-08-26T06:07:46.040135Z"
    },
    "papermill": {
     "duration": 0.057177,
     "end_time": "2025-08-26T06:07:46.041723",
     "exception": false,
     "start_time": "2025-08-26T06:07:45.984546",
     "status": "completed"
    },
    "tags": []
   },
   "outputs": [],
   "source": [
    "# !pip install triton==3.4.0\n",
    "# !pip install triton==3.0.0\n",
    "# !pip install protobuf==6.30.2"
   ]
  },
  {
   "cell_type": "code",
   "execution_count": null,
   "id": "6c256606",
   "metadata": {
    "papermill": {
     "duration": 0.052475,
     "end_time": "2025-08-26T06:07:46.147295",
     "exception": false,
     "start_time": "2025-08-26T06:07:46.094820",
     "status": "completed"
    },
    "tags": []
   },
   "outputs": [],
   "source": []
  },
  {
   "cell_type": "markdown",
   "id": "b46e5300",
   "metadata": {
    "papermill": {
     "duration": 0.054582,
     "end_time": "2025-08-26T06:07:46.255230",
     "exception": false,
     "start_time": "2025-08-26T06:07:46.200648",
     "status": "completed"
    },
    "tags": []
   },
   "source": [
    "### Load LLM Model and Tokenizer"
   ]
  },
  {
   "cell_type": "code",
   "execution_count": 51,
   "id": "9f6501c3",
   "metadata": {
    "execution": {
     "iopub.execute_input": "2025-08-26T06:07:46.362492Z",
     "iopub.status.busy": "2025-08-26T06:07:46.362094Z",
     "iopub.status.idle": "2025-08-26T06:07:49.609780Z",
     "shell.execute_reply": "2025-08-26T06:07:49.608986Z"
    },
    "papermill": {
     "duration": 3.30308,
     "end_time": "2025-08-26T06:07:49.611282",
     "exception": false,
     "start_time": "2025-08-26T06:07:46.308202",
     "status": "completed"
    },
    "tags": []
   },
   "outputs": [],
   "source": [
    "clearMemory()"
   ]
  },
  {
   "cell_type": "code",
   "execution_count": 52,
   "id": "a1887408",
   "metadata": {
    "execution": {
     "iopub.execute_input": "2025-08-26T06:07:49.719344Z",
     "iopub.status.busy": "2025-08-26T06:07:49.718890Z",
     "iopub.status.idle": "2025-08-26T06:09:54.110496Z",
     "shell.execute_reply": "2025-08-26T06:09:54.109911Z"
    },
    "papermill": {
     "duration": 124.446144,
     "end_time": "2025-08-26T06:09:54.111849",
     "exception": false,
     "start_time": "2025-08-26T06:07:49.665705",
     "status": "completed"
    },
    "tags": []
   },
   "outputs": [
    {
     "name": "stderr",
     "output_type": "stream",
     "text": [
      "`torch_dtype` is deprecated! Use `dtype` instead!\n"
     ]
    },
    {
     "data": {
      "application/vnd.jupyter.widget-view+json": {
       "model_id": "45c2a695f46f47338f1664335ee87296",
       "version_major": 2,
       "version_minor": 0
      },
      "text/plain": [
       "Loading checkpoint shards:   0%|          | 0/5 [00:00<?, ?it/s]"
      ]
     },
     "metadata": {},
     "output_type": "display_data"
    },
    {
     "name": "stderr",
     "output_type": "stream",
     "text": [
      "Some weights of Qwen3ForSequenceClassification were not initialized from the model checkpoint at /kaggle/input/qwen-3/transformers/8b/1 and are newly initialized: ['score.weight']\n",
      "You should probably TRAIN this model on a down-stream task to be able to use it for predictions and inference.\n"
     ]
    }
   ],
   "source": [
    "#  if device.type == \"cuda\":\n",
    "#     model =  AutoModelForCausalLM.from_pretrained(\n",
    "#         CFG.model1,\n",
    "#         quantization_config = bnbConfig, \n",
    "#         device_map=\"auto\",\n",
    "#         trust_remote_code = True)\n",
    "#     tokenizer = AutoTokenizer.from_pretrained(CFG.model1)\n",
    "#     tokenizer.pad_token = tokenizer.eos_token\n",
    "# else:\n",
    "#     model =  AutoModelForCausalLM.from_pretrained(\n",
    "#         CFG.model1,\n",
    "#         torch_dtype=torch.bfloat16,\n",
    "#         device_map=\"auto\",\n",
    "#         trust_remote_code = True)\n",
    "#     tokenizer = AutoTokenizer.from_pretrained(CFG.model1)\n",
    "#     tokenizer.pad_token = tokenizer.eos_token\n",
    "\n",
    "if device.type == \"cuda\":\n",
    "    model = AutoModelForSequenceClassification.from_pretrained(\n",
    "        CFG.model1, #CFG.model3,\n",
    "        num_labels= nClasses,\n",
    "        # id2label =id2Label,\n",
    "        # label2id = label2id,\n",
    "        torch_dtype=torch.bfloat16,\n",
    "        device_map=\"auto\",\n",
    "        quantization_config= bnbConfig,\n",
    "        trust_remote_code=False,\n",
    "        problem_type=\"single_label_classification\", \n",
    "    )\n",
    "\n",
    "else: \n",
    "     model = AutoModelForSequenceClassification.from_pretrained(\n",
    "        CFG.model1, #CFG.model3,\n",
    "        num_labels= nClasses,\n",
    "        # id2label =id2Label,\n",
    "        # label2id = label2id,\n",
    "        device_map=\"auto\",\n",
    "        trust_remote_code=False,\n",
    "        problem_type=\"single_label_classification\", \n",
    "    )\n",
    "\n",
    "tokenizer = AutoTokenizer.from_pretrained(CFG.model1)\n",
    "tokenizer.pad_token = tokenizer.eos_token"
   ]
  },
  {
   "cell_type": "code",
   "execution_count": 53,
   "id": "c0d153a4",
   "metadata": {
    "execution": {
     "iopub.execute_input": "2025-08-26T06:09:54.224113Z",
     "iopub.status.busy": "2025-08-26T06:09:54.223813Z",
     "iopub.status.idle": "2025-08-26T06:09:54.231004Z",
     "shell.execute_reply": "2025-08-26T06:09:54.230435Z"
    },
    "papermill": {
     "duration": 0.065019,
     "end_time": "2025-08-26T06:09:54.232082",
     "exception": false,
     "start_time": "2025-08-26T06:09:54.167063",
     "status": "completed"
    },
    "tags": []
   },
   "outputs": [
    {
     "data": {
      "text/plain": [
       "Qwen3ForSequenceClassification(\n",
       "  (model): Qwen3Model(\n",
       "    (embed_tokens): Embedding(151936, 4096)\n",
       "    (layers): ModuleList(\n",
       "      (0-35): 36 x Qwen3DecoderLayer(\n",
       "        (self_attn): Qwen3Attention(\n",
       "          (q_proj): Linear4bit(in_features=4096, out_features=4096, bias=False)\n",
       "          (k_proj): Linear4bit(in_features=4096, out_features=1024, bias=False)\n",
       "          (v_proj): Linear4bit(in_features=4096, out_features=1024, bias=False)\n",
       "          (o_proj): Linear4bit(in_features=4096, out_features=4096, bias=False)\n",
       "          (q_norm): Qwen3RMSNorm((128,), eps=1e-06)\n",
       "          (k_norm): Qwen3RMSNorm((128,), eps=1e-06)\n",
       "        )\n",
       "        (mlp): Qwen3MLP(\n",
       "          (gate_proj): Linear4bit(in_features=4096, out_features=12288, bias=False)\n",
       "          (up_proj): Linear4bit(in_features=4096, out_features=12288, bias=False)\n",
       "          (down_proj): Linear4bit(in_features=12288, out_features=4096, bias=False)\n",
       "          (act_fn): SiLU()\n",
       "        )\n",
       "        (input_layernorm): Qwen3RMSNorm((4096,), eps=1e-06)\n",
       "        (post_attention_layernorm): Qwen3RMSNorm((4096,), eps=1e-06)\n",
       "      )\n",
       "    )\n",
       "    (norm): Qwen3RMSNorm((4096,), eps=1e-06)\n",
       "    (rotary_emb): Qwen3RotaryEmbedding()\n",
       "  )\n",
       "  (score): Linear(in_features=4096, out_features=65, bias=False)\n",
       ")"
      ]
     },
     "execution_count": 53,
     "metadata": {},
     "output_type": "execute_result"
    }
   ],
   "source": [
    "model"
   ]
  },
  {
   "cell_type": "code",
   "execution_count": 54,
   "id": "3b48a7d1",
   "metadata": {
    "execution": {
     "iopub.execute_input": "2025-08-26T06:09:54.343993Z",
     "iopub.status.busy": "2025-08-26T06:09:54.343742Z",
     "iopub.status.idle": "2025-08-26T06:09:54.347368Z",
     "shell.execute_reply": "2025-08-26T06:09:54.346865Z"
    },
    "papermill": {
     "duration": 0.057607,
     "end_time": "2025-08-26T06:09:54.348290",
     "exception": false,
     "start_time": "2025-08-26T06:09:54.290683",
     "status": "completed"
    },
    "tags": []
   },
   "outputs": [],
   "source": [
    "if CFG.DeepEval:\n",
    "    from deepeval.models.base_model import DeepEvalBaseLLM\n",
    "    from deepeval.test_case import LLMTestCase, LLMTestCaseParams\n",
    "    from deepeval.metrics import GEval\n",
    "    # from deepeval import evaluate\n",
    "    from deepeval.metrics import AnswerRelevancyMetric\n",
    "    # from deepeval.benchmarks import MMLU, HellaSwag, HumanEval,TruthfulQA\n",
    "    # from deepeval.benchmarks.tasks import HumanEvalTask, HellaSwagTask, MMLUTask, TruthfulQATask\n",
    "    # from deepeval.benchmarks.modes import TruthfulQAMode "
   ]
  },
  {
   "cell_type": "markdown",
   "id": "dc2d3102",
   "metadata": {
    "papermill": {
     "duration": 0.052387,
     "end_time": "2025-08-26T06:09:54.453932",
     "exception": false,
     "start_time": "2025-08-26T06:09:54.401545",
     "status": "completed"
    },
    "tags": []
   },
   "source": [
    "## Prepare Training Dataset"
   ]
  },
  {
   "cell_type": "code",
   "execution_count": 55,
   "id": "afc27a70",
   "metadata": {
    "execution": {
     "iopub.execute_input": "2025-08-26T06:09:54.560613Z",
     "iopub.status.busy": "2025-08-26T06:09:54.560413Z",
     "iopub.status.idle": "2025-08-26T06:09:54.581034Z",
     "shell.execute_reply": "2025-08-26T06:09:54.580407Z"
    },
    "papermill": {
     "duration": 0.07527,
     "end_time": "2025-08-26T06:09:54.582145",
     "exception": false,
     "start_time": "2025-08-26T06:09:54.506875",
     "status": "completed"
    },
    "tags": []
   },
   "outputs": [
    {
     "data": {
      "text/html": [
       "<div>\n",
       "<style scoped>\n",
       "    .dataframe tbody tr th:only-of-type {\n",
       "        vertical-align: middle;\n",
       "    }\n",
       "\n",
       "    .dataframe tbody tr th {\n",
       "        vertical-align: top;\n",
       "    }\n",
       "\n",
       "    .dataframe thead th {\n",
       "        text-align: right;\n",
       "    }\n",
       "</style>\n",
       "<table border=\"1\" class=\"dataframe\">\n",
       "  <thead>\n",
       "    <tr style=\"text-align: right;\">\n",
       "      <th></th>\n",
       "      <th>row_id</th>\n",
       "      <th>QuestionId</th>\n",
       "      <th>QuestionText</th>\n",
       "      <th>MC_Answer</th>\n",
       "      <th>StudentExplanation</th>\n",
       "      <th>Category</th>\n",
       "      <th>Misconception</th>\n",
       "      <th>target</th>\n",
       "      <th>label</th>\n",
       "      <th>is_correct</th>\n",
       "    </tr>\n",
       "  </thead>\n",
       "  <tbody>\n",
       "    <tr>\n",
       "      <th>0</th>\n",
       "      <td>33567</td>\n",
       "      <td>91695</td>\n",
       "      <td>Dots have been arranged in these patterns: [Im...</td>\n",
       "      <td>\\( 26 \\)</td>\n",
       "      <td>because the formula is the number of the patte...</td>\n",
       "      <td>True_Correct</td>\n",
       "      <td>NA</td>\n",
       "      <td>True_Correct:NA</td>\n",
       "      <td>37</td>\n",
       "      <td>1</td>\n",
       "    </tr>\n",
       "    <tr>\n",
       "      <th>1</th>\n",
       "      <td>23649</td>\n",
       "      <td>33472</td>\n",
       "      <td>\\( \\frac{1}{3}+\\frac{2}{5}= \\)</td>\n",
       "      <td>\\( \\frac{11}{15} \\)</td>\n",
       "      <td>3 times 5=15\\n15 divided 3=5\\n1 times 5=5\\n15 ...</td>\n",
       "      <td>True_Correct</td>\n",
       "      <td>NA</td>\n",
       "      <td>True_Correct:NA</td>\n",
       "      <td>37</td>\n",
       "      <td>1</td>\n",
       "    </tr>\n",
       "    <tr>\n",
       "      <th>2</th>\n",
       "      <td>16899</td>\n",
       "      <td>32833</td>\n",
       "      <td>Calculate \\( \\frac{2}{3} \\times 5 \\)</td>\n",
       "      <td>\\( 3 \\frac{1}{3} \\)</td>\n",
       "      <td>Because i did divide by the bottom times by</td>\n",
       "      <td>True_Neither</td>\n",
       "      <td>NA</td>\n",
       "      <td>True_Neither:NA</td>\n",
       "      <td>64</td>\n",
       "      <td>1</td>\n",
       "    </tr>\n",
       "    <tr>\n",
       "      <th>3</th>\n",
       "      <td>32145</td>\n",
       "      <td>89443</td>\n",
       "      <td>What number belongs in the box?\\n\\(\\n(-8)-(-5)...</td>\n",
       "      <td>\\( 3 \\)</td>\n",
       "      <td>c is correct because if you minus a negative i...</td>\n",
       "      <td>False_Neither</td>\n",
       "      <td>NA</td>\n",
       "      <td>False_Neither:NA</td>\n",
       "      <td>36</td>\n",
       "      <td>0</td>\n",
       "    </tr>\n",
       "    <tr>\n",
       "      <th>4</th>\n",
       "      <td>27526</td>\n",
       "      <td>33474</td>\n",
       "      <td>Sally has \\( \\frac{2}{3} \\) of a whole cake in...</td>\n",
       "      <td>\\( \\frac{2}{3}-\\frac{1}{3} \\)</td>\n",
       "      <td>because you are taking 1/3 away from 2/3</td>\n",
       "      <td>False_Misconception</td>\n",
       "      <td>Subtraction</td>\n",
       "      <td>False_Misconception:Subtraction</td>\n",
       "      <td>26</td>\n",
       "      <td>0</td>\n",
       "    </tr>\n",
       "    <tr>\n",
       "      <th>...</th>\n",
       "      <td>...</td>\n",
       "      <td>...</td>\n",
       "      <td>...</td>\n",
       "      <td>...</td>\n",
       "      <td>...</td>\n",
       "      <td>...</td>\n",
       "      <td>...</td>\n",
       "      <td>...</td>\n",
       "      <td>...</td>\n",
       "      <td>...</td>\n",
       "    </tr>\n",
       "    <tr>\n",
       "      <th>36691</th>\n",
       "      <td>22718</td>\n",
       "      <td>33471</td>\n",
       "      <td>A bag contains \\( 24 \\) yellow and green balls...</td>\n",
       "      <td>\\( 15 \\)</td>\n",
       "      <td>i worked out 1 eighth and multiplied it by 3 t...</td>\n",
       "      <td>True_Correct</td>\n",
       "      <td>NA</td>\n",
       "      <td>True_Correct:NA</td>\n",
       "      <td>37</td>\n",
       "      <td>1</td>\n",
       "    </tr>\n",
       "    <tr>\n",
       "      <th>36692</th>\n",
       "      <td>35280</td>\n",
       "      <td>104665</td>\n",
       "      <td>It takes \\( 3 \\) people a total of \\( 192 \\) h...</td>\n",
       "      <td>\\( 48 \\) hours</td>\n",
       "      <td>i think this because if there are 4 times as m...</td>\n",
       "      <td>True_Correct</td>\n",
       "      <td>NA</td>\n",
       "      <td>True_Correct:NA</td>\n",
       "      <td>37</td>\n",
       "      <td>1</td>\n",
       "    </tr>\n",
       "    <tr>\n",
       "      <th>36693</th>\n",
       "      <td>14677</td>\n",
       "      <td>32829</td>\n",
       "      <td>\\( 2 y=24 \\) What is the value of \\( y \\) ?</td>\n",
       "      <td>\\( 12 \\)</td>\n",
       "      <td>because 24 divided by 2 is 12 which is the val...</td>\n",
       "      <td>True_Correct</td>\n",
       "      <td>NA</td>\n",
       "      <td>True_Correct:NA</td>\n",
       "      <td>37</td>\n",
       "      <td>1</td>\n",
       "    </tr>\n",
       "    <tr>\n",
       "      <th>36694</th>\n",
       "      <td>9488</td>\n",
       "      <td>31777</td>\n",
       "      <td>A box contains \\( 120 \\) counters. The counter...</td>\n",
       "      <td>\\( 72 \\)</td>\n",
       "      <td>Because it’s the only thing over a half</td>\n",
       "      <td>True_Correct</td>\n",
       "      <td>NA</td>\n",
       "      <td>True_Correct:NA</td>\n",
       "      <td>37</td>\n",
       "      <td>1</td>\n",
       "    </tr>\n",
       "    <tr>\n",
       "      <th>36695</th>\n",
       "      <td>11668</td>\n",
       "      <td>31778</td>\n",
       "      <td>\\( \\frac{A}{10}=\\frac{9}{15} \\) What is the va...</td>\n",
       "      <td>\\( 4 \\)</td>\n",
       "      <td>I think 4 because 15 has 5 more than 10, so I ...</td>\n",
       "      <td>False_Misconception</td>\n",
       "      <td>Additive</td>\n",
       "      <td>False_Misconception:Additive</td>\n",
       "      <td>3</td>\n",
       "      <td>0</td>\n",
       "    </tr>\n",
       "  </tbody>\n",
       "</table>\n",
       "<p>36696 rows × 10 columns</p>\n",
       "</div>"
      ],
      "text/plain": [
       "       row_id  QuestionId                                       QuestionText  \\\n",
       "0       33567       91695  Dots have been arranged in these patterns: [Im...   \n",
       "1       23649       33472                     \\( \\frac{1}{3}+\\frac{2}{5}= \\)   \n",
       "2       16899       32833               Calculate \\( \\frac{2}{3} \\times 5 \\)   \n",
       "3       32145       89443  What number belongs in the box?\\n\\(\\n(-8)-(-5)...   \n",
       "4       27526       33474  Sally has \\( \\frac{2}{3} \\) of a whole cake in...   \n",
       "...       ...         ...                                                ...   \n",
       "36691   22718       33471  A bag contains \\( 24 \\) yellow and green balls...   \n",
       "36692   35280      104665  It takes \\( 3 \\) people a total of \\( 192 \\) h...   \n",
       "36693   14677       32829        \\( 2 y=24 \\) What is the value of \\( y \\) ?   \n",
       "36694    9488       31777  A box contains \\( 120 \\) counters. The counter...   \n",
       "36695   11668       31778  \\( \\frac{A}{10}=\\frac{9}{15} \\) What is the va...   \n",
       "\n",
       "                           MC_Answer  \\\n",
       "0                           \\( 26 \\)   \n",
       "1                \\( \\frac{11}{15} \\)   \n",
       "2                \\( 3 \\frac{1}{3} \\)   \n",
       "3                            \\( 3 \\)   \n",
       "4      \\( \\frac{2}{3}-\\frac{1}{3} \\)   \n",
       "...                              ...   \n",
       "36691                       \\( 15 \\)   \n",
       "36692                 \\( 48 \\) hours   \n",
       "36693                       \\( 12 \\)   \n",
       "36694                       \\( 72 \\)   \n",
       "36695                        \\( 4 \\)   \n",
       "\n",
       "                                      StudentExplanation             Category  \\\n",
       "0      because the formula is the number of the patte...         True_Correct   \n",
       "1      3 times 5=15\\n15 divided 3=5\\n1 times 5=5\\n15 ...         True_Correct   \n",
       "2            Because i did divide by the bottom times by         True_Neither   \n",
       "3      c is correct because if you minus a negative i...        False_Neither   \n",
       "4               because you are taking 1/3 away from 2/3  False_Misconception   \n",
       "...                                                  ...                  ...   \n",
       "36691  i worked out 1 eighth and multiplied it by 3 t...         True_Correct   \n",
       "36692  i think this because if there are 4 times as m...         True_Correct   \n",
       "36693  because 24 divided by 2 is 12 which is the val...         True_Correct   \n",
       "36694            Because it’s the only thing over a half         True_Correct   \n",
       "36695  I think 4 because 15 has 5 more than 10, so I ...  False_Misconception   \n",
       "\n",
       "      Misconception                           target  label  is_correct  \n",
       "0                NA                  True_Correct:NA     37           1  \n",
       "1                NA                  True_Correct:NA     37           1  \n",
       "2                NA                  True_Neither:NA     64           1  \n",
       "3                NA                 False_Neither:NA     36           0  \n",
       "4       Subtraction  False_Misconception:Subtraction     26           0  \n",
       "...             ...                              ...    ...         ...  \n",
       "36691            NA                  True_Correct:NA     37           1  \n",
       "36692            NA                  True_Correct:NA     37           1  \n",
       "36693            NA                  True_Correct:NA     37           1  \n",
       "36694            NA                  True_Correct:NA     37           1  \n",
       "36695      Additive     False_Misconception:Additive      3           0  \n",
       "\n",
       "[36696 rows x 10 columns]"
      ]
     },
     "execution_count": 55,
     "metadata": {},
     "output_type": "execute_result"
    }
   ],
   "source": [
    "# Random Resample Dataset\n",
    "trainDF = trainDF.sample(frac=1.0, replace=True)\n",
    "trainDF = trainDF.reset_index(drop=True)\n",
    "trainDF"
   ]
  },
  {
   "cell_type": "code",
   "execution_count": 56,
   "id": "1b34342a",
   "metadata": {
    "execution": {
     "iopub.execute_input": "2025-08-26T06:09:54.698617Z",
     "iopub.status.busy": "2025-08-26T06:09:54.698168Z",
     "iopub.status.idle": "2025-08-26T06:09:54.702099Z",
     "shell.execute_reply": "2025-08-26T06:09:54.701410Z"
    },
    "papermill": {
     "duration": 0.065122,
     "end_time": "2025-08-26T06:09:54.703262",
     "exception": false,
     "start_time": "2025-08-26T06:09:54.638140",
     "status": "completed"
    },
    "tags": []
   },
   "outputs": [],
   "source": [
    "def generateTrainContent(row):\n",
    "    x= \"True\"\n",
    "    if not row[\"is_correct\"]:\n",
    "        x= \"False\"\n",
    "    return (\n",
    "           f\"Question: {row['QuestionText']}\\n\"\n",
    "           f\"Answer: {row['MC_Answer']}\\n\"\n",
    "           f\"Correct: {x}\\n\"\n",
    "           f\"Student Explanation: {row['StudentExplanation']}\"\n",
    "    )"
   ]
  },
  {
   "cell_type": "code",
   "execution_count": 57,
   "id": "ec7c7f98",
   "metadata": {
    "execution": {
     "iopub.execute_input": "2025-08-26T06:09:54.811975Z",
     "iopub.status.busy": "2025-08-26T06:09:54.811691Z",
     "iopub.status.idle": "2025-08-26T06:09:55.156648Z",
     "shell.execute_reply": "2025-08-26T06:09:55.155894Z"
    },
    "papermill": {
     "duration": 0.401422,
     "end_time": "2025-08-26T06:09:55.158111",
     "exception": false,
     "start_time": "2025-08-26T06:09:54.756689",
     "status": "completed"
    },
    "tags": []
   },
   "outputs": [],
   "source": [
    "trainDF[\"LLM_Content\"]= trainDF.apply(generateTrainContent, axis=1)"
   ]
  },
  {
   "cell_type": "code",
   "execution_count": 58,
   "id": "cf4f17e9",
   "metadata": {
    "execution": {
     "iopub.execute_input": "2025-08-26T06:09:55.267862Z",
     "iopub.status.busy": "2025-08-26T06:09:55.267561Z",
     "iopub.status.idle": "2025-08-26T06:09:55.271798Z",
     "shell.execute_reply": "2025-08-26T06:09:55.271260Z"
    },
    "papermill": {
     "duration": 0.059579,
     "end_time": "2025-08-26T06:09:55.272834",
     "exception": false,
     "start_time": "2025-08-26T06:09:55.213255",
     "status": "completed"
    },
    "tags": []
   },
   "outputs": [],
   "source": [
    "testDF[\"LLM_Content\"]= testDF.apply(generateTrainContent, axis=1)"
   ]
  },
  {
   "cell_type": "code",
   "execution_count": 59,
   "id": "16f7c551",
   "metadata": {
    "execution": {
     "iopub.execute_input": "2025-08-26T06:09:55.380090Z",
     "iopub.status.busy": "2025-08-26T06:09:55.379879Z",
     "iopub.status.idle": "2025-08-26T06:09:55.383685Z",
     "shell.execute_reply": "2025-08-26T06:09:55.383090Z"
    },
    "papermill": {
     "duration": 0.058589,
     "end_time": "2025-08-26T06:09:55.384822",
     "exception": false,
     "start_time": "2025-08-26T06:09:55.326233",
     "status": "completed"
    },
    "tags": []
   },
   "outputs": [
    {
     "name": "stdout",
     "output_type": "stream",
     "text": [
      "Question: Dots have been arranged in these patterns: [Image: Pattern 1 consists of 6 dots, Pattern 2 consists of 10 dots, Pattern 3 consists of 14 dots and Pattern 4 consists of 18 dots] How many dots would there be in Pattern \\( 6 \\) ?\n",
      "Answer: \\( 26 \\)\n",
      "Correct: True\n",
      "Student Explanation: because the formula is the number of the pattern x 4 + 2\n"
     ]
    }
   ],
   "source": [
    "# print one of example\n",
    "print(trainDF[\"LLM_Content\"].values[0])"
   ]
  },
  {
   "cell_type": "code",
   "execution_count": 60,
   "id": "90fee56d",
   "metadata": {
    "execution": {
     "iopub.execute_input": "2025-08-26T06:09:55.493857Z",
     "iopub.status.busy": "2025-08-26T06:09:55.493602Z",
     "iopub.status.idle": "2025-08-26T06:09:55.497203Z",
     "shell.execute_reply": "2025-08-26T06:09:55.496514Z"
    },
    "papermill": {
     "duration": 0.058879,
     "end_time": "2025-08-26T06:09:55.498227",
     "exception": false,
     "start_time": "2025-08-26T06:09:55.439348",
     "status": "completed"
    },
    "tags": []
   },
   "outputs": [
    {
     "name": "stdout",
     "output_type": "stream",
     "text": [
      "Question: What fraction of the shape is not shaded? Give your answer in its simplest form. [Image: A triangle split into 9 equal smaller triangles. 6 of them are shaded.]\n",
      "Answer: \\( \\frac{1}{3} \\)\n",
      "Correct: True\n",
      "Student Explanation: I think that 1/3 is the answer, as it's the simplest form of 3/9.\n"
     ]
    }
   ],
   "source": [
    "print(testDF[\"LLM_Content\"].values[0])"
   ]
  },
  {
   "cell_type": "markdown",
   "id": "303e14e5",
   "metadata": {
    "papermill": {
     "duration": 0.05367,
     "end_time": "2025-08-26T06:09:55.605711",
     "exception": false,
     "start_time": "2025-08-26T06:09:55.552041",
     "status": "completed"
    },
    "tags": []
   },
   "source": [
    "## lenght of the LLM conntent"
   ]
  },
  {
   "cell_type": "code",
   "execution_count": 61,
   "id": "1041e9da",
   "metadata": {
    "execution": {
     "iopub.execute_input": "2025-08-26T06:09:55.713418Z",
     "iopub.status.busy": "2025-08-26T06:09:55.713206Z",
     "iopub.status.idle": "2025-08-26T06:10:02.444405Z",
     "shell.execute_reply": "2025-08-26T06:10:02.443794Z"
    },
    "papermill": {
     "duration": 6.78651,
     "end_time": "2025-08-26T06:10:02.445478",
     "exception": false,
     "start_time": "2025-08-26T06:09:55.658968",
     "status": "completed"
    },
    "tags": []
   },
   "outputs": [
    {
     "data": {
      "text/plain": [
       "count    36696.000000\n",
       "mean        71.178221\n",
       "std         20.722009\n",
       "min         27.000000\n",
       "25%         55.000000\n",
       "50%         69.000000\n",
       "75%         85.000000\n",
       "max        322.000000\n",
       "Name: Length, dtype: float64"
      ]
     },
     "execution_count": 61,
     "metadata": {},
     "output_type": "execute_result"
    }
   ],
   "source": [
    "# trainDF[\"Length\"] = trainDF[\"LLM_Content\"].str.len()\n",
    "trainDF[\"Length\"] = [len(tokenizer.encode(t, truncation=False)) for t in trainDF[\"LLM_Content\"]]\n",
    "\n",
    "trainDF[\"Length\"].describe()"
   ]
  },
  {
   "cell_type": "code",
   "execution_count": 62,
   "id": "9d15e7d8",
   "metadata": {
    "execution": {
     "iopub.execute_input": "2025-08-26T06:10:02.556231Z",
     "iopub.status.busy": "2025-08-26T06:10:02.555655Z",
     "iopub.status.idle": "2025-08-26T06:10:02.736271Z",
     "shell.execute_reply": "2025-08-26T06:10:02.735633Z"
    },
    "papermill": {
     "duration": 0.23665,
     "end_time": "2025-08-26T06:10:02.737388",
     "exception": false,
     "start_time": "2025-08-26T06:10:02.500738",
     "status": "completed"
    },
    "tags": []
   },
   "outputs": [
    {
     "data": {
      "image/png": "[encoded data removed]",
      "text/plain": [
       "<Figure size 640x480 with 1 Axes>"
      ]
     },
     "metadata": {},
     "output_type": "display_data"
    }
   ],
   "source": [
    "trainDF[\"Length\"].plot(kind='hist', bins=50, subplots=True,sharex=True,sharey=True, title='LLM Content Length Distribution');"
   ]
  },
  {
   "cell_type": "code",
   "execution_count": 63,
   "id": "2748a3d0",
   "metadata": {
    "execution": {
     "iopub.execute_input": "2025-08-26T06:10:02.849739Z",
     "iopub.status.busy": "2025-08-26T06:10:02.849508Z",
     "iopub.status.idle": "2025-08-26T06:10:02.854252Z",
     "shell.execute_reply": "2025-08-26T06:10:02.853642Z"
    },
    "papermill": {
     "duration": 0.062557,
     "end_time": "2025-08-26T06:10:02.855257",
     "exception": false,
     "start_time": "2025-08-26T06:10:02.792700",
     "status": "completed"
    },
    "tags": []
   },
   "outputs": [
    {
     "name": "stdout",
     "output_type": "stream",
     "text": [
      "There are 1 train sample(s) with more than 256 tokens\n"
     ]
    }
   ],
   "source": [
    "MAX_LEN = 256 #512\n",
    "L = (np.array(trainDF[\"Length\"])>MAX_LEN).sum()\n",
    "print(f\"There are {L} train sample(s) with more than {MAX_LEN} tokens\")"
   ]
  },
  {
   "cell_type": "markdown",
   "id": "fc250c1e",
   "metadata": {
    "execution": {
     "iopub.execute_input": "2025-08-12T14:48:14.784040Z",
     "iopub.status.busy": "2025-08-12T14:48:14.783703Z",
     "iopub.status.idle": "2025-08-12T14:48:14.788666Z",
     "shell.execute_reply": "2025-08-12T14:48:14.787640Z",
     "shell.execute_reply.started": "2025-08-12T14:48:14.784018Z"
    },
    "papermill": {
     "duration": 0.053951,
     "end_time": "2025-08-26T06:10:02.963030",
     "exception": false,
     "start_time": "2025-08-26T06:10:02.909079",
     "status": "completed"
    },
    "tags": []
   },
   "source": [
    "### MAX window size 256 is suitable for training "
   ]
  },
  {
   "cell_type": "markdown",
   "id": "383b15cf",
   "metadata": {
    "papermill": {
     "duration": 0.053604,
     "end_time": "2025-08-26T06:10:03.070333",
     "exception": false,
     "start_time": "2025-08-26T06:10:03.016729",
     "status": "completed"
    },
    "tags": []
   },
   "source": [
    "## Create Dataset"
   ]
  },
  {
   "cell_type": "code",
   "execution_count": 64,
   "id": "ba58412b",
   "metadata": {
    "execution": {
     "iopub.execute_input": "2025-08-26T06:10:03.179403Z",
     "iopub.status.busy": "2025-08-26T06:10:03.179160Z",
     "iopub.status.idle": "2025-08-26T06:10:03.183800Z",
     "shell.execute_reply": "2025-08-26T06:10:03.183234Z"
    },
    "papermill": {
     "duration": 0.060198,
     "end_time": "2025-08-26T06:10:03.184904",
     "exception": false,
     "start_time": "2025-08-26T06:10:03.124706",
     "status": "completed"
    },
    "tags": []
   },
   "outputs": [
    {
     "data": {
      "text/plain": [
       "(36696, 31192)"
      ]
     },
     "execution_count": 64,
     "metadata": {},
     "output_type": "execute_result"
    }
   ],
   "source": [
    "len(trainDF) , round(len(trainDF) * 0.85) # check train data size"
   ]
  },
  {
   "cell_type": "code",
   "execution_count": 65,
   "id": "47b7b22e",
   "metadata": {
    "execution": {
     "iopub.execute_input": "2025-08-26T06:10:03.294604Z",
     "iopub.status.busy": "2025-08-26T06:10:03.294364Z",
     "iopub.status.idle": "2025-08-26T06:10:03.298560Z",
     "shell.execute_reply": "2025-08-26T06:10:03.298016Z"
    },
    "papermill": {
     "duration": 0.059446,
     "end_time": "2025-08-26T06:10:03.299501",
     "exception": false,
     "start_time": "2025-08-26T06:10:03.240055",
     "status": "completed"
    },
    "tags": []
   },
   "outputs": [
    {
     "data": {
      "text/plain": [
       "36696"
      ]
     },
     "execution_count": 65,
     "metadata": {},
     "output_type": "execute_result"
    }
   ],
   "source": [
    "totalTrainSize= len(trainDF)\n",
    "totalTrainSize"
   ]
  },
  {
   "cell_type": "code",
   "execution_count": 66,
   "id": "34c93019",
   "metadata": {
    "execution": {
     "iopub.execute_input": "2025-08-26T06:10:03.409230Z",
     "iopub.status.busy": "2025-08-26T06:10:03.409051Z",
     "iopub.status.idle": "2025-08-26T06:10:03.411983Z",
     "shell.execute_reply": "2025-08-26T06:10:03.411416Z"
    },
    "papermill": {
     "duration": 0.058857,
     "end_time": "2025-08-26T06:10:03.412930",
     "exception": false,
     "start_time": "2025-08-26T06:10:03.354073",
     "status": "completed"
    },
    "tags": []
   },
   "outputs": [],
   "source": [
    "# Random Resample Dataset Reduce Totla \n",
    "# trainDF = trainDF.sample(frac=CFG.frac, replace=True)\n",
    "# trainDF = trainDF.reset_index(drop=True)\n",
    "# trainDF"
   ]
  },
  {
   "cell_type": "code",
   "execution_count": 67,
   "id": "eac8b791",
   "metadata": {
    "execution": {
     "iopub.execute_input": "2025-08-26T06:10:03.522087Z",
     "iopub.status.busy": "2025-08-26T06:10:03.521671Z",
     "iopub.status.idle": "2025-08-26T06:10:03.668389Z",
     "shell.execute_reply": "2025-08-26T06:10:03.667793Z"
    },
    "papermill": {
     "duration": 0.202408,
     "end_time": "2025-08-26T06:10:03.669430",
     "exception": false,
     "start_time": "2025-08-26T06:10:03.467022",
     "status": "completed"
    },
    "tags": []
   },
   "outputs": [
    {
     "data": {
      "image/png": "[encoded data removed]",
      "text/plain": [
       "<Figure size 640x480 with 1 Axes>"
      ]
     },
     "metadata": {},
     "output_type": "display_data"
    }
   ],
   "source": [
    "trainDF[\"is_correct\"].value_counts().plot(kind=\"bar\", title=\"Correct vs Incorrect\");"
   ]
  },
  {
   "cell_type": "code",
   "execution_count": 68,
   "id": "527d8821",
   "metadata": {
    "execution": {
     "iopub.execute_input": "2025-08-26T06:10:03.779698Z",
     "iopub.status.busy": "2025-08-26T06:10:03.779501Z",
     "iopub.status.idle": "2025-08-26T06:10:03.783829Z",
     "shell.execute_reply": "2025-08-26T06:10:03.783132Z"
    },
    "papermill": {
     "duration": 0.060356,
     "end_time": "2025-08-26T06:10:03.784980",
     "exception": false,
     "start_time": "2025-08-26T06:10:03.724624",
     "status": "completed"
    },
    "tags": []
   },
   "outputs": [
    {
     "data": {
      "text/plain": [
       "36696"
      ]
     },
     "execution_count": 68,
     "metadata": {},
     "output_type": "execute_result"
    }
   ],
   "source": [
    "totalTrainSize= len(trainDF)\n",
    "totalTrainSize"
   ]
  },
  {
   "cell_type": "code",
   "execution_count": 69,
   "id": "ecd703e9",
   "metadata": {
    "execution": {
     "iopub.execute_input": "2025-08-26T06:10:03.902062Z",
     "iopub.status.busy": "2025-08-26T06:10:03.901860Z",
     "iopub.status.idle": "2025-08-26T06:10:03.906305Z",
     "shell.execute_reply": "2025-08-26T06:10:03.905602Z"
    },
    "papermill": {
     "duration": 0.066019,
     "end_time": "2025-08-26T06:10:03.907430",
     "exception": false,
     "start_time": "2025-08-26T06:10:03.841411",
     "status": "completed"
    },
    "tags": []
   },
   "outputs": [
    {
     "data": {
      "text/plain": [
       "36676"
      ]
     },
     "execution_count": 69,
     "metadata": {},
     "output_type": "execute_result"
    }
   ],
   "source": [
    "setMaxTrainData = totalTrainSize - CFG.valDatasetSize\n",
    "setMaxTrainData"
   ]
  },
  {
   "cell_type": "markdown",
   "id": "34635c13",
   "metadata": {
    "papermill": {
     "duration": 0.060827,
     "end_time": "2025-08-26T06:10:04.023340",
     "exception": false,
     "start_time": "2025-08-26T06:10:03.962513",
     "status": "completed"
    },
    "tags": []
   },
   "source": [
    "### Create Dataset for Train/Validation"
   ]
  },
  {
   "cell_type": "code",
   "execution_count": 70,
   "id": "ae966574",
   "metadata": {
    "execution": {
     "iopub.execute_input": "2025-08-26T06:10:04.152153Z",
     "iopub.status.busy": "2025-08-26T06:10:04.151468Z",
     "iopub.status.idle": "2025-08-26T06:10:04.155123Z",
     "shell.execute_reply": "2025-08-26T06:10:04.154573Z"
    },
    "papermill": {
     "duration": 0.060218,
     "end_time": "2025-08-26T06:10:04.156224",
     "exception": false,
     "start_time": "2025-08-26T06:10:04.096006",
     "status": "completed"
    },
    "tags": []
   },
   "outputs": [],
   "source": [
    "tempTrainDF = trainDF[:setMaxTrainData]\n",
    "tempValDF = trainDF[setMaxTrainData:] "
   ]
  },
  {
   "cell_type": "code",
   "execution_count": 71,
   "id": "e7837e91",
   "metadata": {
    "execution": {
     "iopub.execute_input": "2025-08-26T06:10:04.268959Z",
     "iopub.status.busy": "2025-08-26T06:10:04.268722Z",
     "iopub.status.idle": "2025-08-26T06:10:04.280451Z",
     "shell.execute_reply": "2025-08-26T06:10:04.279822Z"
    },
    "papermill": {
     "duration": 0.070021,
     "end_time": "2025-08-26T06:10:04.281522",
     "exception": false,
     "start_time": "2025-08-26T06:10:04.211501",
     "status": "completed"
    },
    "tags": []
   },
   "outputs": [
    {
     "data": {
      "text/html": [
       "<div>\n",
       "<style scoped>\n",
       "    .dataframe tbody tr th:only-of-type {\n",
       "        vertical-align: middle;\n",
       "    }\n",
       "\n",
       "    .dataframe tbody tr th {\n",
       "        vertical-align: top;\n",
       "    }\n",
       "\n",
       "    .dataframe thead th {\n",
       "        text-align: right;\n",
       "    }\n",
       "</style>\n",
       "<table border=\"1\" class=\"dataframe\">\n",
       "  <thead>\n",
       "    <tr style=\"text-align: right;\">\n",
       "      <th></th>\n",
       "      <th>row_id</th>\n",
       "      <th>QuestionId</th>\n",
       "      <th>QuestionText</th>\n",
       "      <th>MC_Answer</th>\n",
       "      <th>StudentExplanation</th>\n",
       "      <th>Category</th>\n",
       "      <th>Misconception</th>\n",
       "      <th>target</th>\n",
       "      <th>label</th>\n",
       "      <th>is_correct</th>\n",
       "      <th>LLM_Content</th>\n",
       "      <th>Length</th>\n",
       "    </tr>\n",
       "  </thead>\n",
       "  <tbody>\n",
       "    <tr>\n",
       "      <th>0</th>\n",
       "      <td>33567</td>\n",
       "      <td>91695</td>\n",
       "      <td>Dots have been arranged in these patterns: [Im...</td>\n",
       "      <td>\\( 26 \\)</td>\n",
       "      <td>because the formula is the number of the patte...</td>\n",
       "      <td>True_Correct</td>\n",
       "      <td>NA</td>\n",
       "      <td>True_Correct:NA</td>\n",
       "      <td>37</td>\n",
       "      <td>1</td>\n",
       "      <td>Question: Dots have been arranged in these pat...</td>\n",
       "      <td>97</td>\n",
       "    </tr>\n",
       "    <tr>\n",
       "      <th>1</th>\n",
       "      <td>23649</td>\n",
       "      <td>33472</td>\n",
       "      <td>\\( \\frac{1}{3}+\\frac{2}{5}= \\)</td>\n",
       "      <td>\\( \\frac{11}{15} \\)</td>\n",
       "      <td>3 times 5=15\\n15 divided 3=5\\n1 times 5=5\\n15 ...</td>\n",
       "      <td>True_Correct</td>\n",
       "      <td>NA</td>\n",
       "      <td>True_Correct:NA</td>\n",
       "      <td>37</td>\n",
       "      <td>1</td>\n",
       "      <td>Question: \\( \\frac{1}{3}+\\frac{2}{5}= \\)\\nAnsw...</td>\n",
       "      <td>92</td>\n",
       "    </tr>\n",
       "    <tr>\n",
       "      <th>2</th>\n",
       "      <td>16899</td>\n",
       "      <td>32833</td>\n",
       "      <td>Calculate \\( \\frac{2}{3} \\times 5 \\)</td>\n",
       "      <td>\\( 3 \\frac{1}{3} \\)</td>\n",
       "      <td>Because i did divide by the bottom times by</td>\n",
       "      <td>True_Neither</td>\n",
       "      <td>NA</td>\n",
       "      <td>True_Neither:NA</td>\n",
       "      <td>64</td>\n",
       "      <td>1</td>\n",
       "      <td>Question: Calculate \\( \\frac{2}{3} \\times 5 \\)...</td>\n",
       "      <td>47</td>\n",
       "    </tr>\n",
       "    <tr>\n",
       "      <th>3</th>\n",
       "      <td>32145</td>\n",
       "      <td>89443</td>\n",
       "      <td>What number belongs in the box?\\n\\(\\n(-8)-(-5)...</td>\n",
       "      <td>\\( 3 \\)</td>\n",
       "      <td>c is correct because if you minus a negative i...</td>\n",
       "      <td>False_Neither</td>\n",
       "      <td>NA</td>\n",
       "      <td>False_Neither:NA</td>\n",
       "      <td>36</td>\n",
       "      <td>0</td>\n",
       "      <td>Question: What number belongs in the box?\\n\\(\\...</td>\n",
       "      <td>56</td>\n",
       "    </tr>\n",
       "    <tr>\n",
       "      <th>4</th>\n",
       "      <td>27526</td>\n",
       "      <td>33474</td>\n",
       "      <td>Sally has \\( \\frac{2}{3} \\) of a whole cake in...</td>\n",
       "      <td>\\( \\frac{2}{3}-\\frac{1}{3} \\)</td>\n",
       "      <td>because you are taking 1/3 away from 2/3</td>\n",
       "      <td>False_Misconception</td>\n",
       "      <td>Subtraction</td>\n",
       "      <td>False_Misconception:Subtraction</td>\n",
       "      <td>26</td>\n",
       "      <td>0</td>\n",
       "      <td>Question: Sally has \\( \\frac{2}{3} \\) of a who...</td>\n",
       "      <td>99</td>\n",
       "    </tr>\n",
       "    <tr>\n",
       "      <th>...</th>\n",
       "      <td>...</td>\n",
       "      <td>...</td>\n",
       "      <td>...</td>\n",
       "      <td>...</td>\n",
       "      <td>...</td>\n",
       "      <td>...</td>\n",
       "      <td>...</td>\n",
       "      <td>...</td>\n",
       "      <td>...</td>\n",
       "      <td>...</td>\n",
       "      <td>...</td>\n",
       "      <td>...</td>\n",
       "    </tr>\n",
       "    <tr>\n",
       "      <th>36671</th>\n",
       "      <td>13090</td>\n",
       "      <td>31778</td>\n",
       "      <td>\\( \\frac{A}{10}=\\frac{9}{15} \\) What is the va...</td>\n",
       "      <td>\\( 6 \\)</td>\n",
       "      <td>I have answered C because both of the sides of...</td>\n",
       "      <td>True_Correct</td>\n",
       "      <td>NA</td>\n",
       "      <td>True_Correct:NA</td>\n",
       "      <td>37</td>\n",
       "      <td>1</td>\n",
       "      <td>Question: \\( \\frac{A}{10}=\\frac{9}{15} \\) What...</td>\n",
       "      <td>134</td>\n",
       "    </tr>\n",
       "    <tr>\n",
       "      <th>36672</th>\n",
       "      <td>35912</td>\n",
       "      <td>109465</td>\n",
       "      <td>The probability of an event occurring is \\( 0....</td>\n",
       "      <td>Likely</td>\n",
       "      <td>because it is not guaranteed to happen but pro...</td>\n",
       "      <td>True_Neither</td>\n",
       "      <td>NA</td>\n",
       "      <td>True_Neither:NA</td>\n",
       "      <td>64</td>\n",
       "      <td>1</td>\n",
       "      <td>Question: The probability of an event occurrin...</td>\n",
       "      <td>51</td>\n",
       "    </tr>\n",
       "    <tr>\n",
       "      <th>36673</th>\n",
       "      <td>18588</td>\n",
       "      <td>32833</td>\n",
       "      <td>Calculate \\( \\frac{2}{3} \\times 5 \\)</td>\n",
       "      <td>\\( \\frac{10}{15} \\)</td>\n",
       "      <td>because 2 x 5 is 10 and 3 x 5 is 15 but you ca...</td>\n",
       "      <td>False_Misconception</td>\n",
       "      <td>Duplication</td>\n",
       "      <td>False_Misconception:Duplication</td>\n",
       "      <td>9</td>\n",
       "      <td>0</td>\n",
       "      <td>Question: Calculate \\( \\frac{2}{3} \\times 5 \\)...</td>\n",
       "      <td>67</td>\n",
       "    </tr>\n",
       "    <tr>\n",
       "      <th>36674</th>\n",
       "      <td>24084</td>\n",
       "      <td>33472</td>\n",
       "      <td>\\( \\frac{1}{3}+\\frac{2}{5}= \\)</td>\n",
       "      <td>\\( \\frac{11}{15} \\)</td>\n",
       "      <td>d because that is the answer</td>\n",
       "      <td>True_Neither</td>\n",
       "      <td>NA</td>\n",
       "      <td>True_Neither:NA</td>\n",
       "      <td>64</td>\n",
       "      <td>1</td>\n",
       "      <td>Question: \\( \\frac{1}{3}+\\frac{2}{5}= \\)\\nAnsw...</td>\n",
       "      <td>46</td>\n",
       "    </tr>\n",
       "    <tr>\n",
       "      <th>36675</th>\n",
       "      <td>33559</td>\n",
       "      <td>91695</td>\n",
       "      <td>Dots have been arranged in these patterns: [Im...</td>\n",
       "      <td>\\( 26 \\)</td>\n",
       "      <td>because the dots each pattern adds 5 dots</td>\n",
       "      <td>True_Misconception</td>\n",
       "      <td>Wrong_term</td>\n",
       "      <td>True_Misconception:Wrong_term</td>\n",
       "      <td>63</td>\n",
       "      <td>1</td>\n",
       "      <td>Question: Dots have been arranged in these pat...</td>\n",
       "      <td>91</td>\n",
       "    </tr>\n",
       "  </tbody>\n",
       "</table>\n",
       "<p>36676 rows × 12 columns</p>\n",
       "</div>"
      ],
      "text/plain": [
       "       row_id  QuestionId                                       QuestionText  \\\n",
       "0       33567       91695  Dots have been arranged in these patterns: [Im...   \n",
       "1       23649       33472                     \\( \\frac{1}{3}+\\frac{2}{5}= \\)   \n",
       "2       16899       32833               Calculate \\( \\frac{2}{3} \\times 5 \\)   \n",
       "3       32145       89443  What number belongs in the box?\\n\\(\\n(-8)-(-5)...   \n",
       "4       27526       33474  Sally has \\( \\frac{2}{3} \\) of a whole cake in...   \n",
       "...       ...         ...                                                ...   \n",
       "36671   13090       31778  \\( \\frac{A}{10}=\\frac{9}{15} \\) What is the va...   \n",
       "36672   35912      109465  The probability of an event occurring is \\( 0....   \n",
       "36673   18588       32833               Calculate \\( \\frac{2}{3} \\times 5 \\)   \n",
       "36674   24084       33472                     \\( \\frac{1}{3}+\\frac{2}{5}= \\)   \n",
       "36675   33559       91695  Dots have been arranged in these patterns: [Im...   \n",
       "\n",
       "                           MC_Answer  \\\n",
       "0                           \\( 26 \\)   \n",
       "1                \\( \\frac{11}{15} \\)   \n",
       "2                \\( 3 \\frac{1}{3} \\)   \n",
       "3                            \\( 3 \\)   \n",
       "4      \\( \\frac{2}{3}-\\frac{1}{3} \\)   \n",
       "...                              ...   \n",
       "36671                        \\( 6 \\)   \n",
       "36672                         Likely   \n",
       "36673            \\( \\frac{10}{15} \\)   \n",
       "36674            \\( \\frac{11}{15} \\)   \n",
       "36675                       \\( 26 \\)   \n",
       "\n",
       "                                      StudentExplanation             Category  \\\n",
       "0      because the formula is the number of the patte...         True_Correct   \n",
       "1      3 times 5=15\\n15 divided 3=5\\n1 times 5=5\\n15 ...         True_Correct   \n",
       "2            Because i did divide by the bottom times by         True_Neither   \n",
       "3      c is correct because if you minus a negative i...        False_Neither   \n",
       "4               because you are taking 1/3 away from 2/3  False_Misconception   \n",
       "...                                                  ...                  ...   \n",
       "36671  I have answered C because both of the sides of...         True_Correct   \n",
       "36672  because it is not guaranteed to happen but pro...         True_Neither   \n",
       "36673  because 2 x 5 is 10 and 3 x 5 is 15 but you ca...  False_Misconception   \n",
       "36674                       d because that is the answer         True_Neither   \n",
       "36675          because the dots each pattern adds 5 dots   True_Misconception   \n",
       "\n",
       "      Misconception                           target  label  is_correct  \\\n",
       "0                NA                  True_Correct:NA     37           1   \n",
       "1                NA                  True_Correct:NA     37           1   \n",
       "2                NA                  True_Neither:NA     64           1   \n",
       "3                NA                 False_Neither:NA     36           0   \n",
       "4       Subtraction  False_Misconception:Subtraction     26           0   \n",
       "...             ...                              ...    ...         ...   \n",
       "36671            NA                  True_Correct:NA     37           1   \n",
       "36672            NA                  True_Neither:NA     64           1   \n",
       "36673   Duplication  False_Misconception:Duplication      9           0   \n",
       "36674            NA                  True_Neither:NA     64           1   \n",
       "36675    Wrong_term    True_Misconception:Wrong_term     63           1   \n",
       "\n",
       "                                             LLM_Content  Length  \n",
       "0      Question: Dots have been arranged in these pat...      97  \n",
       "1      Question: \\( \\frac{1}{3}+\\frac{2}{5}= \\)\\nAnsw...      92  \n",
       "2      Question: Calculate \\( \\frac{2}{3} \\times 5 \\)...      47  \n",
       "3      Question: What number belongs in the box?\\n\\(\\...      56  \n",
       "4      Question: Sally has \\( \\frac{2}{3} \\) of a who...      99  \n",
       "...                                                  ...     ...  \n",
       "36671  Question: \\( \\frac{A}{10}=\\frac{9}{15} \\) What...     134  \n",
       "36672  Question: The probability of an event occurrin...      51  \n",
       "36673  Question: Calculate \\( \\frac{2}{3} \\times 5 \\)...      67  \n",
       "36674  Question: \\( \\frac{1}{3}+\\frac{2}{5}= \\)\\nAnsw...      46  \n",
       "36675  Question: Dots have been arranged in these pat...      91  \n",
       "\n",
       "[36676 rows x 12 columns]"
      ]
     },
     "execution_count": 71,
     "metadata": {},
     "output_type": "execute_result"
    }
   ],
   "source": [
    "tempTrainDF"
   ]
  },
  {
   "cell_type": "code",
   "execution_count": 72,
   "id": "fca0fb08",
   "metadata": {
    "execution": {
     "iopub.execute_input": "2025-08-26T06:10:04.396538Z",
     "iopub.status.busy": "2025-08-26T06:10:04.396341Z",
     "iopub.status.idle": "2025-08-26T06:10:04.498025Z",
     "shell.execute_reply": "2025-08-26T06:10:04.497431Z"
    },
    "papermill": {
     "duration": 0.159783,
     "end_time": "2025-08-26T06:10:04.499295",
     "exception": false,
     "start_time": "2025-08-26T06:10:04.339512",
     "status": "completed"
    },
    "tags": []
   },
   "outputs": [],
   "source": [
    "# Convert to Hugging Face Dataset for training dataset\n",
    "COLS = ['LLM_Content','label']\n",
    "\n",
    "trainDataset = Dataset.from_pandas(tempTrainDF[COLS], split=\"train\")\n",
    "valDataset = Dataset.from_pandas(tempValDF[COLS], split=\"test\")\n",
    "testDataset = Dataset.from_pandas(testDF, split=\"test\")\n",
    "subDataset = Dataset.from_pandas(sample, split=\"test\") # submit dataset\n",
    "\n",
    "# trainDataset = Dataset.from_pandas(tempTrainDF, split=\"train\")\n",
    "# valDataset = Dataset.from_pandas(tempValDF, split=\"test\")\n",
    "# subDataset = Dataset.from_pandas(sample, split=\"test\") # submit dataset"
   ]
  },
  {
   "cell_type": "code",
   "execution_count": 73,
   "id": "18641c49",
   "metadata": {
    "execution": {
     "iopub.execute_input": "2025-08-26T06:10:04.615112Z",
     "iopub.status.busy": "2025-08-26T06:10:04.614886Z",
     "iopub.status.idle": "2025-08-26T06:10:04.619096Z",
     "shell.execute_reply": "2025-08-26T06:10:04.618554Z"
    },
    "papermill": {
     "duration": 0.060582,
     "end_time": "2025-08-26T06:10:04.620086",
     "exception": false,
     "start_time": "2025-08-26T06:10:04.559504",
     "status": "completed"
    },
    "tags": []
   },
   "outputs": [
    {
     "data": {
      "text/plain": [
       "Dataset({\n",
       "    features: ['LLM_Content', 'label'],\n",
       "    num_rows: 36676\n",
       "})"
      ]
     },
     "execution_count": 73,
     "metadata": {},
     "output_type": "execute_result"
    }
   ],
   "source": [
    "trainDataset"
   ]
  },
  {
   "cell_type": "code",
   "execution_count": 74,
   "id": "24b38459",
   "metadata": {
    "execution": {
     "iopub.execute_input": "2025-08-26T06:10:04.732583Z",
     "iopub.status.busy": "2025-08-26T06:10:04.732365Z",
     "iopub.status.idle": "2025-08-26T06:10:04.736784Z",
     "shell.execute_reply": "2025-08-26T06:10:04.736100Z"
    },
    "papermill": {
     "duration": 0.06134,
     "end_time": "2025-08-26T06:10:04.737878",
     "exception": false,
     "start_time": "2025-08-26T06:10:04.676538",
     "status": "completed"
    },
    "tags": []
   },
   "outputs": [
    {
     "data": {
      "text/plain": [
       "Dataset({\n",
       "    features: ['row_id', 'QuestionId', 'QuestionText', 'MC_Answer', 'StudentExplanation', 'is_correct', 'LLM_Content'],\n",
       "    num_rows: 3\n",
       "})"
      ]
     },
     "execution_count": 74,
     "metadata": {},
     "output_type": "execute_result"
    }
   ],
   "source": [
    "testDataset"
   ]
  },
  {
   "cell_type": "code",
   "execution_count": 75,
   "id": "72c60f12",
   "metadata": {
    "execution": {
     "iopub.execute_input": "2025-08-26T06:10:04.850122Z",
     "iopub.status.busy": "2025-08-26T06:10:04.849907Z",
     "iopub.status.idle": "2025-08-26T06:10:04.854103Z",
     "shell.execute_reply": "2025-08-26T06:10:04.853408Z"
    },
    "papermill": {
     "duration": 0.062142,
     "end_time": "2025-08-26T06:10:04.855221",
     "exception": false,
     "start_time": "2025-08-26T06:10:04.793079",
     "status": "completed"
    },
    "tags": []
   },
   "outputs": [
    {
     "data": {
      "text/plain": [
       "Dataset({\n",
       "    features: ['row_id', 'Category:Misconception'],\n",
       "    num_rows: 3\n",
       "})"
      ]
     },
     "execution_count": 75,
     "metadata": {},
     "output_type": "execute_result"
    }
   ],
   "source": [
    "subDataset"
   ]
  },
  {
   "cell_type": "code",
   "execution_count": 76,
   "id": "9782aaa5",
   "metadata": {
    "execution": {
     "iopub.execute_input": "2025-08-26T06:10:04.966211Z",
     "iopub.status.busy": "2025-08-26T06:10:04.966012Z",
     "iopub.status.idle": "2025-08-26T06:10:05.226659Z",
     "shell.execute_reply": "2025-08-26T06:10:05.225699Z"
    },
    "papermill": {
     "duration": 0.317697,
     "end_time": "2025-08-26T06:10:05.227972",
     "exception": false,
     "start_time": "2025-08-26T06:10:04.910275",
     "status": "completed"
    },
    "tags": []
   },
   "outputs": [
    {
     "name": "stdout",
     "output_type": "stream",
     "text": [
      "Tue Aug 26 06:10:05 2025       \r\n",
      "+-----------------------------------------------------------------------------------------+\r\n",
      "| NVIDIA-SMI 560.35.03              Driver Version: 560.35.03      CUDA Version: 12.6     |\r\n",
      "|-----------------------------------------+------------------------+----------------------+\r\n",
      "| GPU  Name                 Persistence-M | Bus-Id          Disp.A | Volatile Uncorr. ECC |\r\n",
      "| Fan  Temp   Perf          Pwr:Usage/Cap |           Memory-Usage | GPU-Util  Compute M. |\r\n",
      "|                                         |                        |               MIG M. |\r\n",
      "|=========================================+========================+======================|\r\n",
      "|   0  Tesla T4                       Off |   00000000:00:04.0 Off |                    0 |\r\n",
      "| N/A   54C    P0             29W /   70W |    3333MiB /  15360MiB |      0%      Default |\r\n",
      "|                                         |                        |                  N/A |\r\n",
      "+-----------------------------------------+------------------------+----------------------+\r\n",
      "|   1  Tesla T4                       Off |   00000000:00:05.0 Off |                    0 |\r\n",
      "| N/A   54C    P0             29W /   70W |    4235MiB /  15360MiB |      0%      Default |\r\n",
      "|                                         |                        |                  N/A |\r\n",
      "+-----------------------------------------+------------------------+----------------------+\r\n",
      "                                                                                         \r\n",
      "+-----------------------------------------------------------------------------------------+\r\n",
      "| Processes:                                                                              |\r\n",
      "|  GPU   GI   CI        PID   Type   Process name                              GPU Memory |\r\n",
      "|        ID   ID                                                               Usage      |\r\n",
      "|=========================================================================================|\r\n",
      "+-----------------------------------------------------------------------------------------+\r\n"
     ]
    },
    {
     "name": "stderr",
     "output_type": "stream",
     "text": [
      "huggingface/tokenizers: The current process just got forked, after parallelism has already been used. Disabling parallelism to avoid deadlocks...\n",
      "To disable this warning, you can either:\n",
      "\t- Avoid using `tokenizers` before the fork if possible\n",
      "\t- Explicitly set the environment variable TOKENIZERS_PARALLELISM=(true | false)\n"
     ]
    }
   ],
   "source": [
    "# for GPU only\n",
    "!nvidia-smi  "
   ]
  },
  {
   "cell_type": "code",
   "execution_count": 77,
   "id": "ffd8012e",
   "metadata": {
    "execution": {
     "iopub.execute_input": "2025-08-26T06:10:05.386077Z",
     "iopub.status.busy": "2025-08-26T06:10:05.385725Z",
     "iopub.status.idle": "2025-08-26T06:10:05.389356Z",
     "shell.execute_reply": "2025-08-26T06:10:05.388881Z"
    },
    "papermill": {
     "duration": 0.060894,
     "end_time": "2025-08-26T06:10:05.390417",
     "exception": false,
     "start_time": "2025-08-26T06:10:05.329523",
     "status": "completed"
    },
    "tags": []
   },
   "outputs": [],
   "source": [
    "del tempTrainDF \n",
    "del tempValDF"
   ]
  },
  {
   "cell_type": "code",
   "execution_count": 78,
   "id": "43a18bfe",
   "metadata": {
    "execution": {
     "iopub.execute_input": "2025-08-26T06:10:05.501136Z",
     "iopub.status.busy": "2025-08-26T06:10:05.500657Z",
     "iopub.status.idle": "2025-08-26T06:10:05.505577Z",
     "shell.execute_reply": "2025-08-26T06:10:05.505057Z"
    },
    "papermill": {
     "duration": 0.060739,
     "end_time": "2025-08-26T06:10:05.506540",
     "exception": false,
     "start_time": "2025-08-26T06:10:05.445801",
     "status": "completed"
    },
    "tags": []
   },
   "outputs": [
    {
     "data": {
      "text/plain": [
       "DatasetDict({\n",
       "    train: Dataset({\n",
       "        features: ['LLM_Content', 'label'],\n",
       "        num_rows: 36676\n",
       "    })\n",
       "    val: Dataset({\n",
       "        features: ['LLM_Content', 'label'],\n",
       "        num_rows: 20\n",
       "    })\n",
       "})"
      ]
     },
     "execution_count": 78,
     "metadata": {},
     "output_type": "execute_result"
    }
   ],
   "source": [
    "datasetDict = DatasetDict({\n",
    "    \"train\" : trainDataset,\n",
    "    \"val\"  : valDataset\n",
    "    \n",
    "})\n",
    "datasetDict"
   ]
  },
  {
   "cell_type": "code",
   "execution_count": 79,
   "id": "42147ea4",
   "metadata": {
    "execution": {
     "iopub.execute_input": "2025-08-26T06:10:05.617281Z",
     "iopub.status.busy": "2025-08-26T06:10:05.617068Z",
     "iopub.status.idle": "2025-08-26T06:10:05.621253Z",
     "shell.execute_reply": "2025-08-26T06:10:05.620666Z"
    },
    "papermill": {
     "duration": 0.060362,
     "end_time": "2025-08-26T06:10:05.622326",
     "exception": false,
     "start_time": "2025-08-26T06:10:05.561964",
     "status": "completed"
    },
    "tags": []
   },
   "outputs": [
    {
     "data": {
      "text/plain": [
       "Dataset({\n",
       "    features: ['LLM_Content', 'label'],\n",
       "    num_rows: 36676\n",
       "})"
      ]
     },
     "execution_count": 79,
     "metadata": {},
     "output_type": "execute_result"
    }
   ],
   "source": [
    "datasetDict[\"train\"]"
   ]
  },
  {
   "cell_type": "code",
   "execution_count": 80,
   "id": "8f736c3a",
   "metadata": {
    "execution": {
     "iopub.execute_input": "2025-08-26T06:10:05.733392Z",
     "iopub.status.busy": "2025-08-26T06:10:05.733173Z",
     "iopub.status.idle": "2025-08-26T06:10:05.736299Z",
     "shell.execute_reply": "2025-08-26T06:10:05.735805Z"
    },
    "papermill": {
     "duration": 0.060035,
     "end_time": "2025-08-26T06:10:05.737311",
     "exception": false,
     "start_time": "2025-08-26T06:10:05.677276",
     "status": "completed"
    },
    "tags": []
   },
   "outputs": [],
   "source": [
    "def tokenizeFunc(batch):\n",
    "    return tokenizer(batch[\"LLM_Content\"],  max_length=CFG.maxLength, padding=True, truncation=True)"
   ]
  },
  {
   "cell_type": "code",
   "execution_count": 81,
   "id": "179512c3",
   "metadata": {
    "execution": {
     "iopub.execute_input": "2025-08-26T06:10:05.850734Z",
     "iopub.status.busy": "2025-08-26T06:10:05.850534Z",
     "iopub.status.idle": "2025-08-26T06:10:11.089398Z",
     "shell.execute_reply": "2025-08-26T06:10:11.088751Z"
    },
    "papermill": {
     "duration": 5.297336,
     "end_time": "2025-08-26T06:10:11.090521",
     "exception": false,
     "start_time": "2025-08-26T06:10:05.793185",
     "status": "completed"
    },
    "tags": []
   },
   "outputs": [
    {
     "data": {
      "application/vnd.jupyter.widget-view+json": {
       "model_id": "dbbaac1be6ac41879fbaf485aa1532b5",
       "version_major": 2,
       "version_minor": 0
      },
      "text/plain": [
       "Map:   0%|          | 0/36676 [00:00<?, ? examples/s]"
      ]
     },
     "metadata": {},
     "output_type": "display_data"
    },
    {
     "data": {
      "application/vnd.jupyter.widget-view+json": {
       "model_id": "fb1fb151983f446386c2431e83eddb9b",
       "version_major": 2,
       "version_minor": 0
      },
      "text/plain": [
       "Map:   0%|          | 0/20 [00:00<?, ? examples/s]"
      ]
     },
     "metadata": {},
     "output_type": "display_data"
    }
   ],
   "source": [
    "datasetDict = datasetDict.map(tokenizeFunc, batched=True)"
   ]
  },
  {
   "cell_type": "code",
   "execution_count": 82,
   "id": "4dfcfeb1",
   "metadata": {
    "execution": {
     "iopub.execute_input": "2025-08-26T06:10:11.204582Z",
     "iopub.status.busy": "2025-08-26T06:10:11.204335Z",
     "iopub.status.idle": "2025-08-26T06:10:11.208582Z",
     "shell.execute_reply": "2025-08-26T06:10:11.208029Z"
    },
    "papermill": {
     "duration": 0.061318,
     "end_time": "2025-08-26T06:10:11.209725",
     "exception": false,
     "start_time": "2025-08-26T06:10:11.148407",
     "status": "completed"
    },
    "tags": []
   },
   "outputs": [
    {
     "data": {
      "text/plain": [
       "DatasetDict({\n",
       "    train: Dataset({\n",
       "        features: ['LLM_Content', 'label', 'input_ids', 'attention_mask'],\n",
       "        num_rows: 36676\n",
       "    })\n",
       "    val: Dataset({\n",
       "        features: ['LLM_Content', 'label', 'input_ids', 'attention_mask'],\n",
       "        num_rows: 20\n",
       "    })\n",
       "})"
      ]
     },
     "execution_count": 82,
     "metadata": {},
     "output_type": "execute_result"
    }
   ],
   "source": [
    "datasetDict"
   ]
  },
  {
   "cell_type": "code",
   "execution_count": 83,
   "id": "f05bfa19",
   "metadata": {
    "execution": {
     "iopub.execute_input": "2025-08-26T06:10:11.322355Z",
     "iopub.status.busy": "2025-08-26T06:10:11.322118Z",
     "iopub.status.idle": "2025-08-26T06:10:11.328002Z",
     "shell.execute_reply": "2025-08-26T06:10:11.327487Z"
    },
    "papermill": {
     "duration": 0.063633,
     "end_time": "2025-08-26T06:10:11.329032",
     "exception": false,
     "start_time": "2025-08-26T06:10:11.265399",
     "status": "completed"
    },
    "tags": []
   },
   "outputs": [],
   "source": [
    "datasetDict = datasetDict.rename_column(\"label\", \"labels\")  # change name to labels "
   ]
  },
  {
   "cell_type": "code",
   "execution_count": 84,
   "id": "b3d8364b",
   "metadata": {
    "execution": {
     "iopub.execute_input": "2025-08-26T06:10:11.441119Z",
     "iopub.status.busy": "2025-08-26T06:10:11.440914Z",
     "iopub.status.idle": "2025-08-26T06:10:11.445190Z",
     "shell.execute_reply": "2025-08-26T06:10:11.444531Z"
    },
    "papermill": {
     "duration": 0.061616,
     "end_time": "2025-08-26T06:10:11.446282",
     "exception": false,
     "start_time": "2025-08-26T06:10:11.384666",
     "status": "completed"
    },
    "tags": []
   },
   "outputs": [
    {
     "data": {
      "text/plain": [
       "DatasetDict({\n",
       "    train: Dataset({\n",
       "        features: ['LLM_Content', 'labels', 'input_ids', 'attention_mask'],\n",
       "        num_rows: 36676\n",
       "    })\n",
       "    val: Dataset({\n",
       "        features: ['LLM_Content', 'labels', 'input_ids', 'attention_mask'],\n",
       "        num_rows: 20\n",
       "    })\n",
       "})"
      ]
     },
     "execution_count": 84,
     "metadata": {},
     "output_type": "execute_result"
    }
   ],
   "source": [
    "datasetDict"
   ]
  },
  {
   "cell_type": "code",
   "execution_count": 85,
   "id": "efa07ea6",
   "metadata": {
    "execution": {
     "iopub.execute_input": "2025-08-26T06:10:11.559752Z",
     "iopub.status.busy": "2025-08-26T06:10:11.559536Z",
     "iopub.status.idle": "2025-08-26T06:10:11.563841Z",
     "shell.execute_reply": "2025-08-26T06:10:11.563130Z"
    },
    "papermill": {
     "duration": 0.062561,
     "end_time": "2025-08-26T06:10:11.565095",
     "exception": false,
     "start_time": "2025-08-26T06:10:11.502534",
     "status": "completed"
    },
    "tags": []
   },
   "outputs": [
    {
     "data": {
      "text/plain": [
       "DatasetDict({\n",
       "    test: Dataset({\n",
       "        features: ['row_id', 'QuestionId', 'QuestionText', 'MC_Answer', 'StudentExplanation', 'is_correct', 'LLM_Content'],\n",
       "        num_rows: 3\n",
       "    })\n",
       "})"
      ]
     },
     "execution_count": 85,
     "metadata": {},
     "output_type": "execute_result"
    }
   ],
   "source": [
    "testDict = DatasetDict({\n",
    "    \"test\": testDataset\n",
    "    \n",
    "})\n",
    "testDict"
   ]
  },
  {
   "cell_type": "code",
   "execution_count": 86,
   "id": "9f30933c",
   "metadata": {
    "execution": {
     "iopub.execute_input": "2025-08-26T06:10:11.679725Z",
     "iopub.status.busy": "2025-08-26T06:10:11.679504Z",
     "iopub.status.idle": "2025-08-26T06:10:11.683797Z",
     "shell.execute_reply": "2025-08-26T06:10:11.683248Z"
    },
    "papermill": {
     "duration": 0.06291,
     "end_time": "2025-08-26T06:10:11.684740",
     "exception": false,
     "start_time": "2025-08-26T06:10:11.621830",
     "status": "completed"
    },
    "tags": []
   },
   "outputs": [
    {
     "data": {
      "text/plain": [
       "DatasetDict({\n",
       "    test: Dataset({\n",
       "        features: ['row_id', 'Category:Misconception'],\n",
       "        num_rows: 3\n",
       "    })\n",
       "})"
      ]
     },
     "execution_count": 86,
     "metadata": {},
     "output_type": "execute_result"
    }
   ],
   "source": [
    "submitDict = DatasetDict({\n",
    "    \"test\": subDataset\n",
    "    # \"test\": subDataset\n",
    "    \n",
    "})\n",
    "submitDict"
   ]
  },
  {
   "cell_type": "code",
   "execution_count": 87,
   "id": "e3ac72d4",
   "metadata": {
    "execution": {
     "iopub.execute_input": "2025-08-26T06:10:11.797279Z",
     "iopub.status.busy": "2025-08-26T06:10:11.796655Z",
     "iopub.status.idle": "2025-08-26T06:10:11.803002Z",
     "shell.execute_reply": "2025-08-26T06:10:11.802298Z"
    },
    "papermill": {
     "duration": 0.063474,
     "end_time": "2025-08-26T06:10:11.804176",
     "exception": false,
     "start_time": "2025-08-26T06:10:11.740702",
     "status": "completed"
    },
    "tags": []
   },
   "outputs": [],
   "source": [
    "# Evaluation Metrics\n",
    "# accList = []\n",
    "# f1List = []\n",
    "# recallList = []\n",
    "# preciseList = []\n",
    "# map3List = [] \n",
    "def compute_metric(eval_pred):\n",
    "    logits , labels = eval_pred\n",
    "    predictions = np.argmax(logits, axis=-1)  # for mult-class\n",
    "    acc = (predictions == labels).mean()\n",
    "    f1score  =  f1_score(labels, predictions, average='weighted', zero_division=1)\n",
    "    recallScore = recall_score(labels, predictions,  average='weighted', zero_division=1)\n",
    "    precision = precision_score(labels, predictions,  average='weighted', zero_division=1)\n",
    "    # accList.append(acc)\n",
    "    # f1List.append(f1score)\n",
    "    # recallList.append(recallScore)\n",
    "    # preciseList.append(precision)\n",
    "    \n",
    "    # for map@3\n",
    "    top3_preds = np.argsort(logits, axis=-1)[:, -3:]\n",
    "    match = (top3_preds == labels[:, None])\n",
    "\n",
    "    # Compute MAP@3 manually\n",
    "    map3 = 0\n",
    "    for i in range(len(labels)):\n",
    "        if match[i, 0]:\n",
    "            map3 += 1.0\n",
    "        elif match[i, 1]:\n",
    "            map3 += 1.0 / 2\n",
    "        elif match[i, 2]:\n",
    "            map3 += 1.0 / 3\n",
    "    map3Score = map3 / len(labels)\n",
    "    # map3List.append(map3Score)\n",
    "    \n",
    "    return {\"accuracy\": acc , \"recall\":  recallScore,  \"precision\":precision, 'f1-score': f1score ,\n",
    "             \"map@3\":map3Score}\n",
    "    \n",
    "    \n",
    "    \n",
    "    "
   ]
  },
  {
   "cell_type": "markdown",
   "id": "5be36699",
   "metadata": {
    "papermill": {
     "duration": 0.054772,
     "end_time": "2025-08-26T06:10:11.915432",
     "exception": false,
     "start_time": "2025-08-26T06:10:11.860660",
     "status": "completed"
    },
    "tags": []
   },
   "source": [
    "## LoRA fine tuing"
   ]
  },
  {
   "cell_type": "code",
   "execution_count": 88,
   "id": "d07150a9",
   "metadata": {
    "execution": {
     "iopub.execute_input": "2025-08-26T06:10:12.028627Z",
     "iopub.status.busy": "2025-08-26T06:10:12.028388Z",
     "iopub.status.idle": "2025-08-26T06:10:12.032261Z",
     "shell.execute_reply": "2025-08-26T06:10:12.031568Z"
    },
    "papermill": {
     "duration": 0.061036,
     "end_time": "2025-08-26T06:10:12.033264",
     "exception": false,
     "start_time": "2025-08-26T06:10:11.972228",
     "status": "completed"
    },
    "tags": []
   },
   "outputs": [],
   "source": [
    "lora_config = LoraConfig(\n",
    "        r=16,\n",
    "        lora_alpha=32,\n",
    "        task_type=\"SEQ_CLS\",  # for Sequence Classification\n",
    "        # task_type=\"CAUSAL_LM\", # for generative task\n",
    "        bias=\"none\",\n",
    "        target_modules = [\"q_proj\", \"o_proj\", \"k_proj\", \"v_proj\",\n",
    "                      \"gate_proj\", \"up_proj\", \"down_proj\"],\n",
    "        # lora_dropout= 0.05,\n",
    "    )"
   ]
  },
  {
   "cell_type": "code",
   "execution_count": 89,
   "id": "afa3ba63",
   "metadata": {
    "execution": {
     "iopub.execute_input": "2025-08-26T06:10:12.145091Z",
     "iopub.status.busy": "2025-08-26T06:10:12.144889Z",
     "iopub.status.idle": "2025-08-26T06:10:13.426058Z",
     "shell.execute_reply": "2025-08-26T06:10:13.425409Z"
    },
    "papermill": {
     "duration": 1.338625,
     "end_time": "2025-08-26T06:10:13.427548",
     "exception": false,
     "start_time": "2025-08-26T06:10:12.088923",
     "status": "completed"
    },
    "tags": []
   },
   "outputs": [],
   "source": [
    "model = get_peft_model(model, lora_config)"
   ]
  },
  {
   "cell_type": "code",
   "execution_count": 90,
   "id": "357670c6",
   "metadata": {
    "execution": {
     "iopub.execute_input": "2025-08-26T06:10:13.549330Z",
     "iopub.status.busy": "2025-08-26T06:10:13.549090Z",
     "iopub.status.idle": "2025-08-26T06:10:13.559850Z",
     "shell.execute_reply": "2025-08-26T06:10:13.559081Z"
    },
    "papermill": {
     "duration": 0.069792,
     "end_time": "2025-08-26T06:10:13.560951",
     "exception": false,
     "start_time": "2025-08-26T06:10:13.491159",
     "status": "completed"
    },
    "tags": []
   },
   "outputs": [
    {
     "name": "stdout",
     "output_type": "stream",
     "text": [
      "trainable params: 43,913,216 || all params: 7,612,584,960 || trainable%: 0.5769\n"
     ]
    }
   ],
   "source": [
    "model.print_trainable_parameters()"
   ]
  },
  {
   "cell_type": "markdown",
   "id": "957608ff",
   "metadata": {
    "papermill": {
     "duration": 0.055883,
     "end_time": "2025-08-26T06:10:13.672431",
     "exception": false,
     "start_time": "2025-08-26T06:10:13.616548",
     "status": "completed"
    },
    "tags": []
   },
   "source": [
    "## STF Trainer Parameter"
   ]
  },
  {
   "cell_type": "code",
   "execution_count": 91,
   "id": "e90ffb18",
   "metadata": {
    "execution": {
     "iopub.execute_input": "2025-08-26T06:10:13.784748Z",
     "iopub.status.busy": "2025-08-26T06:10:13.784509Z",
     "iopub.status.idle": "2025-08-26T06:10:13.817324Z",
     "shell.execute_reply": "2025-08-26T06:10:13.816793Z"
    },
    "papermill": {
     "duration": 0.089822,
     "end_time": "2025-08-26T06:10:13.818465",
     "exception": false,
     "start_time": "2025-08-26T06:10:13.728643",
     "status": "completed"
    },
    "tags": []
   },
   "outputs": [],
   "source": [
    "from trl import SFTTrainer, SFTConfig\n",
    "torch_dtype = model.dtype\n",
    "trainArg = SFTConfig(\n",
    "    output_dir= \"kaggle/working\",\n",
    "    max_length= CFG.maxLength,\n",
    "    per_device_train_batch_size =CFG.per_device_train_batch_size,\n",
    "    per_device_eval_batch_size = CFG.per_device_eval_batch_size,\n",
    "    gradient_accumulation_steps = CFG.gradient_accumulation_steps,\n",
    "    eval_strategy= \"steps\",\n",
    "    save_strategy= \"steps\",\n",
    "    warmup_steps=CFG.warmup_steps,\n",
    "    max_steps = CFG.maxTrainStep, # set max train step size\n",
    "    learning_rate=CFG.learning_rate,\n",
    "    fp16=True if torch_dtype == torch.float16 else False,   # use float16 precision ,  # INFER WITH FP16 BECAUSE KAGGLE IS T4 GPU\n",
    "    bf16=True if torch_dtype == torch.bfloat16 else False,  # use bfloat16 precision, TRAIN WITH BF16 IF LOCAL GPU IS NEWER GPU  \n",
    "    # fp16=True,\n",
    "    logging_steps= CFG.evalSteps,\n",
    "    eval_steps = CFG.evalSteps,\n",
    "    optim=\"paged_adamw_8bit\",\n",
    "    report_to = CFG.reportTo,\n",
    "    do_eval=True,                # Perform evaluation at the end of training\n",
    "    # weight_decay=0.01,\n",
    "    metric_for_best_model=\"map@3\",\n",
    "    greater_is_better=True,\n",
    "\n",
    "    \n",
    ")"
   ]
  },
  {
   "cell_type": "code",
   "execution_count": 92,
   "id": "14fcbc59",
   "metadata": {
    "execution": {
     "iopub.execute_input": "2025-08-26T06:10:13.937953Z",
     "iopub.status.busy": "2025-08-26T06:10:13.937675Z",
     "iopub.status.idle": "2025-08-26T06:10:13.942177Z",
     "shell.execute_reply": "2025-08-26T06:10:13.941470Z"
    },
    "papermill": {
     "duration": 0.065106,
     "end_time": "2025-08-26T06:10:13.943217",
     "exception": false,
     "start_time": "2025-08-26T06:10:13.878111",
     "status": "completed"
    },
    "tags": []
   },
   "outputs": [
    {
     "data": {
      "text/plain": [
       "True"
      ]
     },
     "execution_count": 92,
     "metadata": {},
     "output_type": "execute_result"
    }
   ],
   "source": [
    "trainArg.bf16 "
   ]
  },
  {
   "cell_type": "code",
   "execution_count": 93,
   "id": "538efef8",
   "metadata": {
    "execution": {
     "iopub.execute_input": "2025-08-26T06:10:14.079911Z",
     "iopub.status.busy": "2025-08-26T06:10:14.079593Z",
     "iopub.status.idle": "2025-08-26T06:10:14.083827Z",
     "shell.execute_reply": "2025-08-26T06:10:14.082949Z"
    },
    "papermill": {
     "duration": 0.085647,
     "end_time": "2025-08-26T06:10:14.085328",
     "exception": false,
     "start_time": "2025-08-26T06:10:13.999681",
     "status": "completed"
    },
    "tags": []
   },
   "outputs": [],
   "source": [
    "from transformers import DataCollatorWithPadding"
   ]
  },
  {
   "cell_type": "code",
   "execution_count": 94,
   "id": "dae82fdc",
   "metadata": {
    "execution": {
     "iopub.execute_input": "2025-08-26T06:10:14.199460Z",
     "iopub.status.busy": "2025-08-26T06:10:14.199242Z",
     "iopub.status.idle": "2025-08-26T06:10:15.739499Z",
     "shell.execute_reply": "2025-08-26T06:10:15.738793Z"
    },
    "papermill": {
     "duration": 1.597551,
     "end_time": "2025-08-26T06:10:15.740680",
     "exception": false,
     "start_time": "2025-08-26T06:10:14.143129",
     "status": "completed"
    },
    "tags": []
   },
   "outputs": [
    {
     "name": "stderr",
     "output_type": "stream",
     "text": [
      "/usr/local/lib/python3.11/dist-packages/peft/mapping_func.py:73: UserWarning: You are trying to modify a model with PEFT for a second time. If you want to reload the model with a different config, make sure to call `.unload()` before.\n",
      "  warnings.warn(\n",
      "/usr/local/lib/python3.11/dist-packages/peft/mapping_func.py:79: UserWarning: The PEFT config's `base_model_name_or_path` was renamed from '/kaggle/input/qwen-3/transformers/8b/1' to 'None'. Please ensure that the correct base model is loaded when loading this checkpoint.\n",
      "  warnings.warn(\n",
      "/usr/local/lib/python3.11/dist-packages/peft/tuners/tuners_utils.py:196: UserWarning: Already found a `peft_config` attribute in the model. This will lead to having multiple adapters in the model. Make sure to know what you are doing!\n",
      "  warnings.warn(\n"
     ]
    },
    {
     "data": {
      "application/vnd.jupyter.widget-view+json": {
       "model_id": "7d8bf5b4a5ac4d1597d0b5b3c59e3b4e",
       "version_major": 2,
       "version_minor": 0
      },
      "text/plain": [
       "Truncating train dataset:   0%|          | 0/36676 [00:00<?, ? examples/s]"
      ]
     },
     "metadata": {},
     "output_type": "display_data"
    },
    {
     "data": {
      "application/vnd.jupyter.widget-view+json": {
       "model_id": "be8fc742cbba4d96b04a72fdb4741091",
       "version_major": 2,
       "version_minor": 0
      },
      "text/plain": [
       "Truncating eval dataset:   0%|          | 0/20 [00:00<?, ? examples/s]"
      ]
     },
     "metadata": {},
     "output_type": "display_data"
    }
   ],
   "source": [
    "data_collator = DataCollatorWithPadding(tokenizer=tokenizer)\n",
    "\n",
    "trainer= SFTTrainer(\n",
    "    model=model,\n",
    "    train_dataset=datasetDict[\"train\"],\n",
    "    eval_dataset = datasetDict[\"val\"],\n",
    "    args=trainArg,\n",
    "    peft_config = lora_config,\n",
    "    # formatting_func=formatFuct,\n",
    "    data_collator = data_collator, \n",
    "    compute_metrics= compute_metric\n",
    "    \n",
    "    \n",
    ")"
   ]
  },
  {
   "cell_type": "code",
   "execution_count": 95,
   "id": "fd680f38",
   "metadata": {
    "execution": {
     "iopub.execute_input": "2025-08-26T06:10:15.857676Z",
     "iopub.status.busy": "2025-08-26T06:10:15.857436Z",
     "iopub.status.idle": "2025-08-26T06:10:15.860996Z",
     "shell.execute_reply": "2025-08-26T06:10:15.860422Z"
    },
    "papermill": {
     "duration": 0.062444,
     "end_time": "2025-08-26T06:10:15.862084",
     "exception": false,
     "start_time": "2025-08-26T06:10:15.799640",
     "status": "completed"
    },
    "tags": []
   },
   "outputs": [],
   "source": [
    "# Fix Batch size >1 , not define pad token id issues\n",
    "eos_token_id=tokenizer.eos_token_id\n",
    "model.config.use_cache=False\n",
    "model.config.pad_token_id = tokenizer.pad_token_id"
   ]
  },
  {
   "cell_type": "code",
   "execution_count": null,
   "id": "30016741",
   "metadata": {
    "papermill": {
     "duration": 0.099608,
     "end_time": "2025-08-26T06:10:16.017615",
     "exception": false,
     "start_time": "2025-08-26T06:10:15.918007",
     "status": "completed"
    },
    "tags": []
   },
   "outputs": [],
   "source": []
  },
  {
   "cell_type": "code",
   "execution_count": 96,
   "id": "08ee7761",
   "metadata": {
    "execution": {
     "iopub.execute_input": "2025-08-26T06:10:16.130121Z",
     "iopub.status.busy": "2025-08-26T06:10:16.129706Z",
     "iopub.status.idle": "2025-08-26T06:10:19.499860Z",
     "shell.execute_reply": "2025-08-26T06:10:19.499244Z"
    },
    "papermill": {
     "duration": 3.427751,
     "end_time": "2025-08-26T06:10:19.501246",
     "exception": false,
     "start_time": "2025-08-26T06:10:16.073495",
     "status": "completed"
    },
    "tags": []
   },
   "outputs": [],
   "source": [
    "clearMemory() # clear memory before training"
   ]
  },
  {
   "cell_type": "code",
   "execution_count": 97,
   "id": "1032c328",
   "metadata": {
    "execution": {
     "iopub.execute_input": "2025-08-26T06:10:19.617260Z",
     "iopub.status.busy": "2025-08-26T06:10:19.617023Z",
     "iopub.status.idle": "2025-08-26T07:09:40.890829Z",
     "shell.execute_reply": "2025-08-26T07:09:40.890193Z"
    },
    "papermill": {
     "duration": 3561.33205,
     "end_time": "2025-08-26T07:09:40.892043",
     "exception": false,
     "start_time": "2025-08-26T06:10:19.559993",
     "status": "completed"
    },
    "tags": []
   },
   "outputs": [
    {
     "name": "stderr",
     "output_type": "stream",
     "text": [
      "The tokenizer has new PAD/BOS/EOS tokens that differ from the model config and generation config. The model config and generation config were aligned accordingly, being updated with the tokenizer's values. Updated tokens: {'bos_token_id': None, 'pad_token_id': 151643}.\n"
     ]
    },
    {
     "data": {
      "text/html": [
       "\n",
       "    <div>\n",
       "      \n",
       "      <progress value='100' max='100' style='width:300px; height:20px; vertical-align: middle;'></progress>\n",
       "      [100/100 58:46, Epoch 0/1]\n",
       "    </div>\n",
       "    <table border=\"1\" class=\"dataframe\">\n",
       "  <thead>\n",
       " <tr style=\"text-align: left;\">\n",
       "      <th>Step</th>\n",
       "      <th>Training Loss</th>\n",
       "      <th>Validation Loss</th>\n",
       "      <th>Accuracy</th>\n",
       "      <th>Recall</th>\n",
       "      <th>Precision</th>\n",
       "      <th>F1-score</th>\n",
       "      <th>Map@3</th>\n",
       "    </tr>\n",
       "  </thead>\n",
       "  <tbody>\n",
       "    <tr>\n",
       "      <td>20</td>\n",
       "      <td>8.943900</td>\n",
       "      <td>2.964722</td>\n",
       "      <td>0.350000</td>\n",
       "      <td>0.350000</td>\n",
       "      <td>0.687143</td>\n",
       "      <td>0.252525</td>\n",
       "      <td>0.208333</td>\n",
       "    </tr>\n",
       "    <tr>\n",
       "      <td>40</td>\n",
       "      <td>3.642300</td>\n",
       "      <td>1.948925</td>\n",
       "      <td>0.450000</td>\n",
       "      <td>0.450000</td>\n",
       "      <td>0.775227</td>\n",
       "      <td>0.344848</td>\n",
       "      <td>0.225000</td>\n",
       "    </tr>\n",
       "    <tr>\n",
       "      <td>60</td>\n",
       "      <td>3.443900</td>\n",
       "      <td>1.689230</td>\n",
       "      <td>0.450000</td>\n",
       "      <td>0.450000</td>\n",
       "      <td>0.833333</td>\n",
       "      <td>0.365000</td>\n",
       "      <td>0.275000</td>\n",
       "    </tr>\n",
       "    <tr>\n",
       "      <td>80</td>\n",
       "      <td>3.188200</td>\n",
       "      <td>1.836900</td>\n",
       "      <td>0.500000</td>\n",
       "      <td>0.500000</td>\n",
       "      <td>0.773810</td>\n",
       "      <td>0.376923</td>\n",
       "      <td>0.216667</td>\n",
       "    </tr>\n",
       "    <tr>\n",
       "      <td>100</td>\n",
       "      <td>2.355000</td>\n",
       "      <td>1.441989</td>\n",
       "      <td>0.650000</td>\n",
       "      <td>0.650000</td>\n",
       "      <td>0.855556</td>\n",
       "      <td>0.570804</td>\n",
       "      <td>0.266667</td>\n",
       "    </tr>\n",
       "  </tbody>\n",
       "</table><p>"
      ],
      "text/plain": [
       "<IPython.core.display.HTML object>"
      ]
     },
     "metadata": {},
     "output_type": "display_data"
    },
    {
     "name": "stdout",
     "output_type": "stream",
     "text": [
      "CPU times: user 33min 16s, sys: 26min 7s, total: 59min 23s\n",
      "Wall time: 59min 21s\n"
     ]
    },
    {
     "data": {
      "text/plain": [
       "TrainOutput(global_step=100, training_loss=4.314655876159668, metrics={'train_runtime': 3560.7876, 'train_samples_per_second': 0.337, 'train_steps_per_second': 0.028, 'total_flos': 9516868830830592.0, 'train_loss': 4.314655876159668})"
      ]
     },
     "execution_count": 97,
     "metadata": {},
     "output_type": "execute_result"
    }
   ],
   "source": [
    "%%time\n",
    "trainer.train()"
   ]
  },
  {
   "cell_type": "code",
   "execution_count": 98,
   "id": "de0aa59a",
   "metadata": {
    "execution": {
     "iopub.execute_input": "2025-08-26T07:09:41.008341Z",
     "iopub.status.busy": "2025-08-26T07:09:41.008027Z",
     "iopub.status.idle": "2025-08-26T07:09:41.335643Z",
     "shell.execute_reply": "2025-08-26T07:09:41.334897Z"
    },
    "papermill": {
     "duration": 0.386561,
     "end_time": "2025-08-26T07:09:41.337168",
     "exception": false,
     "start_time": "2025-08-26T07:09:40.950607",
     "status": "completed"
    },
    "tags": []
   },
   "outputs": [],
   "source": [
    "model.save_pretrained(\"student-math-llm-Fine-tune\")"
   ]
  },
  {
   "cell_type": "code",
   "execution_count": 99,
   "id": "4b956058",
   "metadata": {
    "execution": {
     "iopub.execute_input": "2025-08-26T07:09:41.461541Z",
     "iopub.status.busy": "2025-08-26T07:09:41.461045Z",
     "iopub.status.idle": "2025-08-26T07:09:41.488368Z",
     "shell.execute_reply": "2025-08-26T07:09:41.487735Z"
    },
    "papermill": {
     "duration": 0.094355,
     "end_time": "2025-08-26T07:09:41.489448",
     "exception": false,
     "start_time": "2025-08-26T07:09:41.395093",
     "status": "completed"
    },
    "tags": []
   },
   "outputs": [
    {
     "name": "stderr",
     "output_type": "stream",
     "text": [
      "/usr/local/lib/python3.11/dist-packages/pandas/io/formats/format.py:1458: RuntimeWarning: invalid value encountered in greater\n",
      "  has_large_values = (abs_vals > 1e6).any()\n",
      "/usr/local/lib/python3.11/dist-packages/pandas/io/formats/format.py:1459: RuntimeWarning: invalid value encountered in less\n",
      "  has_small_values = ((abs_vals < 10 ** (-self.digits)) & (abs_vals > 0)).any()\n",
      "/usr/local/lib/python3.11/dist-packages/pandas/io/formats/format.py:1459: RuntimeWarning: invalid value encountered in greater\n",
      "  has_small_values = ((abs_vals < 10 ** (-self.digits)) & (abs_vals > 0)).any()\n",
      "/usr/local/lib/python3.11/dist-packages/pandas/io/formats/format.py:1458: RuntimeWarning: invalid value encountered in greater\n",
      "  has_large_values = (abs_vals > 1e6).any()\n",
      "/usr/local/lib/python3.11/dist-packages/pandas/io/formats/format.py:1459: RuntimeWarning: invalid value encountered in less\n",
      "  has_small_values = ((abs_vals < 10 ** (-self.digits)) & (abs_vals > 0)).any()\n",
      "/usr/local/lib/python3.11/dist-packages/pandas/io/formats/format.py:1459: RuntimeWarning: invalid value encountered in greater\n",
      "  has_small_values = ((abs_vals < 10 ** (-self.digits)) & (abs_vals > 0)).any()\n"
     ]
    },
    {
     "data": {
      "text/html": [
       "<div>\n",
       "<style scoped>\n",
       "    .dataframe tbody tr th:only-of-type {\n",
       "        vertical-align: middle;\n",
       "    }\n",
       "\n",
       "    .dataframe tbody tr th {\n",
       "        vertical-align: top;\n",
       "    }\n",
       "\n",
       "    .dataframe thead th {\n",
       "        text-align: right;\n",
       "    }\n",
       "</style>\n",
       "<table border=\"1\" class=\"dataframe\">\n",
       "  <thead>\n",
       "    <tr style=\"text-align: right;\">\n",
       "      <th></th>\n",
       "      <th>loss</th>\n",
       "      <th>grad_norm</th>\n",
       "      <th>learning_rate</th>\n",
       "      <th>num_tokens</th>\n",
       "      <th>mean_token_accuracy</th>\n",
       "      <th>epoch</th>\n",
       "      <th>step</th>\n",
       "      <th>eval_loss</th>\n",
       "      <th>eval_accuracy</th>\n",
       "      <th>eval_recall</th>\n",
       "      <th>...</th>\n",
       "      <th>eval_runtime</th>\n",
       "      <th>eval_samples_per_second</th>\n",
       "      <th>eval_steps_per_second</th>\n",
       "      <th>eval_num_tokens</th>\n",
       "      <th>eval_mean_token_accuracy</th>\n",
       "      <th>train_runtime</th>\n",
       "      <th>train_samples_per_second</th>\n",
       "      <th>train_steps_per_second</th>\n",
       "      <th>total_flos</th>\n",
       "      <th>train_loss</th>\n",
       "    </tr>\n",
       "  </thead>\n",
       "  <tbody>\n",
       "    <tr>\n",
       "      <th>0</th>\n",
       "      <td>8.9439</td>\n",
       "      <td>35.965714</td>\n",
       "      <td>0.000171</td>\n",
       "      <td>38138.0</td>\n",
       "      <td>0.215</td>\n",
       "      <td>0.006543</td>\n",
       "      <td>20</td>\n",
       "      <td>NaN</td>\n",
       "      <td>NaN</td>\n",
       "      <td>NaN</td>\n",
       "      <td>...</td>\n",
       "      <td>NaN</td>\n",
       "      <td>NaN</td>\n",
       "      <td>NaN</td>\n",
       "      <td>NaN</td>\n",
       "      <td>NaN</td>\n",
       "      <td>NaN</td>\n",
       "      <td>NaN</td>\n",
       "      <td>NaN</td>\n",
       "      <td>NaN</td>\n",
       "      <td>NaN</td>\n",
       "    </tr>\n",
       "    <tr>\n",
       "      <th>1</th>\n",
       "      <td>NaN</td>\n",
       "      <td>NaN</td>\n",
       "      <td>NaN</td>\n",
       "      <td>NaN</td>\n",
       "      <td>NaN</td>\n",
       "      <td>0.006543</td>\n",
       "      <td>20</td>\n",
       "      <td>2.964722</td>\n",
       "      <td>0.35</td>\n",
       "      <td>0.35</td>\n",
       "      <td>...</td>\n",
       "      <td>15.2150</td>\n",
       "      <td>1.314</td>\n",
       "      <td>0.263</td>\n",
       "      <td>38138.0</td>\n",
       "      <td>0.2</td>\n",
       "      <td>NaN</td>\n",
       "      <td>NaN</td>\n",
       "      <td>NaN</td>\n",
       "      <td>NaN</td>\n",
       "      <td>NaN</td>\n",
       "    </tr>\n",
       "    <tr>\n",
       "      <th>2</th>\n",
       "      <td>3.6423</td>\n",
       "      <td>23.162527</td>\n",
       "      <td>0.000128</td>\n",
       "      <td>76191.0</td>\n",
       "      <td>0.300</td>\n",
       "      <td>0.013087</td>\n",
       "      <td>40</td>\n",
       "      <td>NaN</td>\n",
       "      <td>NaN</td>\n",
       "      <td>NaN</td>\n",
       "      <td>...</td>\n",
       "      <td>NaN</td>\n",
       "      <td>NaN</td>\n",
       "      <td>NaN</td>\n",
       "      <td>NaN</td>\n",
       "      <td>NaN</td>\n",
       "      <td>NaN</td>\n",
       "      <td>NaN</td>\n",
       "      <td>NaN</td>\n",
       "      <td>NaN</td>\n",
       "      <td>NaN</td>\n",
       "    </tr>\n",
       "    <tr>\n",
       "      <th>3</th>\n",
       "      <td>NaN</td>\n",
       "      <td>NaN</td>\n",
       "      <td>NaN</td>\n",
       "      <td>NaN</td>\n",
       "      <td>NaN</td>\n",
       "      <td>0.013087</td>\n",
       "      <td>40</td>\n",
       "      <td>1.948925</td>\n",
       "      <td>0.45</td>\n",
       "      <td>0.45</td>\n",
       "      <td>...</td>\n",
       "      <td>15.1939</td>\n",
       "      <td>1.316</td>\n",
       "      <td>0.263</td>\n",
       "      <td>76191.0</td>\n",
       "      <td>0.3</td>\n",
       "      <td>NaN</td>\n",
       "      <td>NaN</td>\n",
       "      <td>NaN</td>\n",
       "      <td>NaN</td>\n",
       "      <td>NaN</td>\n",
       "    </tr>\n",
       "    <tr>\n",
       "      <th>4</th>\n",
       "      <td>3.4439</td>\n",
       "      <td>44.061661</td>\n",
       "      <td>0.000086</td>\n",
       "      <td>114969.0</td>\n",
       "      <td>0.230</td>\n",
       "      <td>0.019630</td>\n",
       "      <td>60</td>\n",
       "      <td>NaN</td>\n",
       "      <td>NaN</td>\n",
       "      <td>NaN</td>\n",
       "      <td>...</td>\n",
       "      <td>NaN</td>\n",
       "      <td>NaN</td>\n",
       "      <td>NaN</td>\n",
       "      <td>NaN</td>\n",
       "      <td>NaN</td>\n",
       "      <td>NaN</td>\n",
       "      <td>NaN</td>\n",
       "      <td>NaN</td>\n",
       "      <td>NaN</td>\n",
       "      <td>NaN</td>\n",
       "    </tr>\n",
       "    <tr>\n",
       "      <th>5</th>\n",
       "      <td>NaN</td>\n",
       "      <td>NaN</td>\n",
       "      <td>NaN</td>\n",
       "      <td>NaN</td>\n",
       "      <td>NaN</td>\n",
       "      <td>0.019630</td>\n",
       "      <td>60</td>\n",
       "      <td>1.689230</td>\n",
       "      <td>0.45</td>\n",
       "      <td>0.45</td>\n",
       "      <td>...</td>\n",
       "      <td>15.0702</td>\n",
       "      <td>1.327</td>\n",
       "      <td>0.265</td>\n",
       "      <td>114969.0</td>\n",
       "      <td>0.3</td>\n",
       "      <td>NaN</td>\n",
       "      <td>NaN</td>\n",
       "      <td>NaN</td>\n",
       "      <td>NaN</td>\n",
       "      <td>NaN</td>\n",
       "    </tr>\n",
       "    <tr>\n",
       "      <th>6</th>\n",
       "      <td>3.1882</td>\n",
       "      <td>30.701227</td>\n",
       "      <td>0.000044</td>\n",
       "      <td>153395.0</td>\n",
       "      <td>0.275</td>\n",
       "      <td>0.026174</td>\n",
       "      <td>80</td>\n",
       "      <td>NaN</td>\n",
       "      <td>NaN</td>\n",
       "      <td>NaN</td>\n",
       "      <td>...</td>\n",
       "      <td>NaN</td>\n",
       "      <td>NaN</td>\n",
       "      <td>NaN</td>\n",
       "      <td>NaN</td>\n",
       "      <td>NaN</td>\n",
       "      <td>NaN</td>\n",
       "      <td>NaN</td>\n",
       "      <td>NaN</td>\n",
       "      <td>NaN</td>\n",
       "      <td>NaN</td>\n",
       "    </tr>\n",
       "    <tr>\n",
       "      <th>7</th>\n",
       "      <td>NaN</td>\n",
       "      <td>NaN</td>\n",
       "      <td>NaN</td>\n",
       "      <td>NaN</td>\n",
       "      <td>NaN</td>\n",
       "      <td>0.026174</td>\n",
       "      <td>80</td>\n",
       "      <td>1.836900</td>\n",
       "      <td>0.50</td>\n",
       "      <td>0.50</td>\n",
       "      <td>...</td>\n",
       "      <td>15.2206</td>\n",
       "      <td>1.314</td>\n",
       "      <td>0.263</td>\n",
       "      <td>153395.0</td>\n",
       "      <td>0.3</td>\n",
       "      <td>NaN</td>\n",
       "      <td>NaN</td>\n",
       "      <td>NaN</td>\n",
       "      <td>NaN</td>\n",
       "      <td>NaN</td>\n",
       "    </tr>\n",
       "    <tr>\n",
       "      <th>8</th>\n",
       "      <td>2.3550</td>\n",
       "      <td>29.353500</td>\n",
       "      <td>0.000002</td>\n",
       "      <td>191826.0</td>\n",
       "      <td>0.265</td>\n",
       "      <td>0.032717</td>\n",
       "      <td>100</td>\n",
       "      <td>NaN</td>\n",
       "      <td>NaN</td>\n",
       "      <td>NaN</td>\n",
       "      <td>...</td>\n",
       "      <td>NaN</td>\n",
       "      <td>NaN</td>\n",
       "      <td>NaN</td>\n",
       "      <td>NaN</td>\n",
       "      <td>NaN</td>\n",
       "      <td>NaN</td>\n",
       "      <td>NaN</td>\n",
       "      <td>NaN</td>\n",
       "      <td>NaN</td>\n",
       "      <td>NaN</td>\n",
       "    </tr>\n",
       "    <tr>\n",
       "      <th>9</th>\n",
       "      <td>NaN</td>\n",
       "      <td>NaN</td>\n",
       "      <td>NaN</td>\n",
       "      <td>NaN</td>\n",
       "      <td>NaN</td>\n",
       "      <td>0.032717</td>\n",
       "      <td>100</td>\n",
       "      <td>1.441989</td>\n",
       "      <td>0.65</td>\n",
       "      <td>0.65</td>\n",
       "      <td>...</td>\n",
       "      <td>15.0703</td>\n",
       "      <td>1.327</td>\n",
       "      <td>0.265</td>\n",
       "      <td>191826.0</td>\n",
       "      <td>0.2</td>\n",
       "      <td>NaN</td>\n",
       "      <td>NaN</td>\n",
       "      <td>NaN</td>\n",
       "      <td>NaN</td>\n",
       "      <td>NaN</td>\n",
       "    </tr>\n",
       "    <tr>\n",
       "      <th>10</th>\n",
       "      <td>NaN</td>\n",
       "      <td>NaN</td>\n",
       "      <td>NaN</td>\n",
       "      <td>NaN</td>\n",
       "      <td>NaN</td>\n",
       "      <td>0.032717</td>\n",
       "      <td>100</td>\n",
       "      <td>NaN</td>\n",
       "      <td>NaN</td>\n",
       "      <td>NaN</td>\n",
       "      <td>...</td>\n",
       "      <td>NaN</td>\n",
       "      <td>NaN</td>\n",
       "      <td>NaN</td>\n",
       "      <td>NaN</td>\n",
       "      <td>NaN</td>\n",
       "      <td>3560.7876</td>\n",
       "      <td>0.337</td>\n",
       "      <td>0.028</td>\n",
       "      <td>9.516869e+15</td>\n",
       "      <td>4.314656</td>\n",
       "    </tr>\n",
       "  </tbody>\n",
       "</table>\n",
       "<p>11 rows × 23 columns</p>\n",
       "</div>"
      ],
      "text/plain": [
       "      loss  grad_norm  learning_rate  num_tokens  mean_token_accuracy  \\\n",
       "0   8.9439  35.965714       0.000171     38138.0                0.215   \n",
       "1      NaN        NaN            NaN         NaN                  NaN   \n",
       "2   3.6423  23.162527       0.000128     76191.0                0.300   \n",
       "3      NaN        NaN            NaN         NaN                  NaN   \n",
       "4   3.4439  44.061661       0.000086    114969.0                0.230   \n",
       "5      NaN        NaN            NaN         NaN                  NaN   \n",
       "6   3.1882  30.701227       0.000044    153395.0                0.275   \n",
       "7      NaN        NaN            NaN         NaN                  NaN   \n",
       "8   2.3550  29.353500       0.000002    191826.0                0.265   \n",
       "9      NaN        NaN            NaN         NaN                  NaN   \n",
       "10     NaN        NaN            NaN         NaN                  NaN   \n",
       "\n",
       "       epoch  step  eval_loss  eval_accuracy  eval_recall  ...  eval_runtime  \\\n",
       "0   0.006543    20        NaN            NaN          NaN  ...           NaN   \n",
       "1   0.006543    20   2.964722           0.35         0.35  ...       15.2150   \n",
       "2   0.013087    40        NaN            NaN          NaN  ...           NaN   \n",
       "3   0.013087    40   1.948925           0.45         0.45  ...       15.1939   \n",
       "4   0.019630    60        NaN            NaN          NaN  ...           NaN   \n",
       "5   0.019630    60   1.689230           0.45         0.45  ...       15.0702   \n",
       "6   0.026174    80        NaN            NaN          NaN  ...           NaN   \n",
       "7   0.026174    80   1.836900           0.50         0.50  ...       15.2206   \n",
       "8   0.032717   100        NaN            NaN          NaN  ...           NaN   \n",
       "9   0.032717   100   1.441989           0.65         0.65  ...       15.0703   \n",
       "10  0.032717   100        NaN            NaN          NaN  ...           NaN   \n",
       "\n",
       "    eval_samples_per_second  eval_steps_per_second  eval_num_tokens  \\\n",
       "0                       NaN                    NaN              NaN   \n",
       "1                     1.314                  0.263          38138.0   \n",
       "2                       NaN                    NaN              NaN   \n",
       "3                     1.316                  0.263          76191.0   \n",
       "4                       NaN                    NaN              NaN   \n",
       "5                     1.327                  0.265         114969.0   \n",
       "6                       NaN                    NaN              NaN   \n",
       "7                     1.314                  0.263         153395.0   \n",
       "8                       NaN                    NaN              NaN   \n",
       "9                     1.327                  0.265         191826.0   \n",
       "10                      NaN                    NaN              NaN   \n",
       "\n",
       "    eval_mean_token_accuracy  train_runtime  train_samples_per_second  \\\n",
       "0                        NaN            NaN                       NaN   \n",
       "1                        0.2            NaN                       NaN   \n",
       "2                        NaN            NaN                       NaN   \n",
       "3                        0.3            NaN                       NaN   \n",
       "4                        NaN            NaN                       NaN   \n",
       "5                        0.3            NaN                       NaN   \n",
       "6                        NaN            NaN                       NaN   \n",
       "7                        0.3            NaN                       NaN   \n",
       "8                        NaN            NaN                       NaN   \n",
       "9                        0.2            NaN                       NaN   \n",
       "10                       NaN      3560.7876                     0.337   \n",
       "\n",
       "    train_steps_per_second    total_flos  train_loss  \n",
       "0                      NaN           NaN         NaN  \n",
       "1                      NaN           NaN         NaN  \n",
       "2                      NaN           NaN         NaN  \n",
       "3                      NaN           NaN         NaN  \n",
       "4                      NaN           NaN         NaN  \n",
       "5                      NaN           NaN         NaN  \n",
       "6                      NaN           NaN         NaN  \n",
       "7                      NaN           NaN         NaN  \n",
       "8                      NaN           NaN         NaN  \n",
       "9                      NaN           NaN         NaN  \n",
       "10                   0.028  9.516869e+15    4.314656  \n",
       "\n",
       "[11 rows x 23 columns]"
      ]
     },
     "execution_count": 99,
     "metadata": {},
     "output_type": "execute_result"
    }
   ],
   "source": [
    "trainHistoryDF = pd.DataFrame(trainer.state.log_history)\n",
    "trainHistoryDF"
   ]
  },
  {
   "cell_type": "code",
   "execution_count": 100,
   "id": "59999e87",
   "metadata": {
    "execution": {
     "iopub.execute_input": "2025-08-26T07:09:41.605362Z",
     "iopub.status.busy": "2025-08-26T07:09:41.605134Z",
     "iopub.status.idle": "2025-08-26T07:09:41.609536Z",
     "shell.execute_reply": "2025-08-26T07:09:41.609079Z"
    },
    "papermill": {
     "duration": 0.063149,
     "end_time": "2025-08-26T07:09:41.610627",
     "exception": false,
     "start_time": "2025-08-26T07:09:41.547478",
     "status": "completed"
    },
    "tags": []
   },
   "outputs": [
    {
     "data": {
      "text/plain": [
       "Index(['loss', 'grad_norm', 'learning_rate', 'num_tokens',\n",
       "       'mean_token_accuracy', 'epoch', 'step', 'eval_loss', 'eval_accuracy',\n",
       "       'eval_recall', 'eval_precision', 'eval_f1-score', 'eval_map@3',\n",
       "       'eval_runtime', 'eval_samples_per_second', 'eval_steps_per_second',\n",
       "       'eval_num_tokens', 'eval_mean_token_accuracy', 'train_runtime',\n",
       "       'train_samples_per_second', 'train_steps_per_second', 'total_flos',\n",
       "       'train_loss'],\n",
       "      dtype='object')"
      ]
     },
     "execution_count": 100,
     "metadata": {},
     "output_type": "execute_result"
    }
   ],
   "source": [
    "trainHistoryDF.columns"
   ]
  },
  {
   "cell_type": "code",
   "execution_count": 101,
   "id": "9a12d587",
   "metadata": {
    "execution": {
     "iopub.execute_input": "2025-08-26T07:09:41.774804Z",
     "iopub.status.busy": "2025-08-26T07:09:41.774505Z",
     "iopub.status.idle": "2025-08-26T07:09:41.926080Z",
     "shell.execute_reply": "2025-08-26T07:09:41.925320Z"
    },
    "papermill": {
     "duration": 0.21046,
     "end_time": "2025-08-26T07:09:41.927256",
     "exception": false,
     "start_time": "2025-08-26T07:09:41.716796",
     "status": "completed"
    },
    "tags": []
   },
   "outputs": [
    {
     "data": {
      "image/png": "[encoded data removed]",
      "text/plain": [
       "<Figure size 640x480 with 1 Axes>"
      ]
     },
     "metadata": {},
     "output_type": "display_data"
    }
   ],
   "source": [
    "import matplotlib.pyplot as plt\n",
    "trainloss = trainHistoryDF[~trainHistoryDF[\"loss\"].isnull()]\n",
    "valloss = trainHistoryDF[~trainHistoryDF[\"eval_loss\"].isnull()]\n",
    "plt.plot(trainloss[\"loss\"], label=\"Train\")\n",
    "plt.plot(valloss[\"eval_loss\"], label=\"Val\")\n",
    "plt.title(\"LLM loss\")\n",
    "plt.legend()\n",
    "plt.show()"
   ]
  },
  {
   "cell_type": "code",
   "execution_count": 102,
   "id": "bb2fe4fe",
   "metadata": {
    "execution": {
     "iopub.execute_input": "2025-08-26T07:09:42.047571Z",
     "iopub.status.busy": "2025-08-26T07:09:42.047310Z",
     "iopub.status.idle": "2025-08-26T07:09:42.204128Z",
     "shell.execute_reply": "2025-08-26T07:09:42.203403Z"
    },
    "papermill": {
     "duration": 0.217812,
     "end_time": "2025-08-26T07:09:42.205242",
     "exception": false,
     "start_time": "2025-08-26T07:09:41.987430",
     "status": "completed"
    },
    "tags": []
   },
   "outputs": [
    {
     "data": {
      "image/png": "[encoded data removed]",
      "text/plain": [
       "<Figure size 640x480 with 1 Axes>"
      ]
     },
     "metadata": {},
     "output_type": "display_data"
    }
   ],
   "source": [
    "trainloss = trainHistoryDF[~trainHistoryDF[\"eval_accuracy\"].isnull()]\n",
    "plt.plot(trainloss[\"eval_accuracy\"], label=\"Val Accuracy\")\n",
    "plt.title(\"Val Accuracy\")\n",
    "plt.legend()\n",
    "plt.show()"
   ]
  },
  {
   "cell_type": "code",
   "execution_count": 103,
   "id": "089430be",
   "metadata": {
    "execution": {
     "iopub.execute_input": "2025-08-26T07:09:42.326551Z",
     "iopub.status.busy": "2025-08-26T07:09:42.326318Z",
     "iopub.status.idle": "2025-08-26T07:09:42.479865Z",
     "shell.execute_reply": "2025-08-26T07:09:42.479130Z"
    },
    "papermill": {
     "duration": 0.213371,
     "end_time": "2025-08-26T07:09:42.481026",
     "exception": false,
     "start_time": "2025-08-26T07:09:42.267655",
     "status": "completed"
    },
    "tags": []
   },
   "outputs": [
    {
     "data": {
      "image/png": "[encoded data removed]",
      "text/plain": [
       "<Figure size 640x480 with 1 Axes>"
      ]
     },
     "metadata": {},
     "output_type": "display_data"
    }
   ],
   "source": [
    "trainloss = trainHistoryDF[~trainHistoryDF[\"eval_recall\"].isnull()]\n",
    "plt.plot(trainloss[\"eval_recall\"], label=\"Val Recall\")\n",
    "plt.title(\"Val Recall\")\n",
    "plt.legend()\n",
    "plt.show()"
   ]
  },
  {
   "cell_type": "code",
   "execution_count": 104,
   "id": "e9856e1c",
   "metadata": {
    "execution": {
     "iopub.execute_input": "2025-08-26T07:09:42.600367Z",
     "iopub.status.busy": "2025-08-26T07:09:42.600135Z",
     "iopub.status.idle": "2025-08-26T07:09:42.761461Z",
     "shell.execute_reply": "2025-08-26T07:09:42.760683Z"
    },
    "papermill": {
     "duration": 0.221925,
     "end_time": "2025-08-26T07:09:42.762715",
     "exception": false,
     "start_time": "2025-08-26T07:09:42.540790",
     "status": "completed"
    },
    "tags": []
   },
   "outputs": [
    {
     "data": {
      "image/png": "[encoded data removed]",
      "text/plain": [
       "<Figure size 640x480 with 1 Axes>"
      ]
     },
     "metadata": {},
     "output_type": "display_data"
    }
   ],
   "source": [
    "trainloss = trainHistoryDF[~trainHistoryDF[\"eval_precision\"].isnull()]\n",
    "plt.plot(trainloss[\"eval_precision\"], label=\"Val Precision\")\n",
    "plt.title(\"Val Precision\")\n",
    "plt.legend()\n",
    "plt.show()"
   ]
  },
  {
   "cell_type": "code",
   "execution_count": 105,
   "id": "ccc9a17e",
   "metadata": {
    "execution": {
     "iopub.execute_input": "2025-08-26T07:09:42.888433Z",
     "iopub.status.busy": "2025-08-26T07:09:42.888011Z",
     "iopub.status.idle": "2025-08-26T07:09:43.057267Z",
     "shell.execute_reply": "2025-08-26T07:09:43.056472Z"
    },
    "papermill": {
     "duration": 0.234038,
     "end_time": "2025-08-26T07:09:43.058544",
     "exception": false,
     "start_time": "2025-08-26T07:09:42.824506",
     "status": "completed"
    },
    "tags": []
   },
   "outputs": [
    {
     "data": {
      "image/png": "[encoded data removed]",
      "text/plain": [
       "<Figure size 640x480 with 1 Axes>"
      ]
     },
     "metadata": {},
     "output_type": "display_data"
    }
   ],
   "source": [
    "trainloss = trainHistoryDF[~trainHistoryDF[\"eval_f1-score\"].isnull()]\n",
    "plt.plot(trainloss[\"eval_f1-score\"], label=\"Val F1-Score\")\n",
    "plt.title(\"Val F1-Score\")\n",
    "plt.legend()\n",
    "plt.show()"
   ]
  },
  {
   "cell_type": "code",
   "execution_count": 106,
   "id": "a2bd6979",
   "metadata": {
    "execution": {
     "iopub.execute_input": "2025-08-26T07:09:43.180430Z",
     "iopub.status.busy": "2025-08-26T07:09:43.180217Z",
     "iopub.status.idle": "2025-08-26T07:09:43.338604Z",
     "shell.execute_reply": "2025-08-26T07:09:43.337902Z"
    },
    "papermill": {
     "duration": 0.219103,
     "end_time": "2025-08-26T07:09:43.339711",
     "exception": false,
     "start_time": "2025-08-26T07:09:43.120608",
     "status": "completed"
    },
    "tags": []
   },
   "outputs": [
    {
     "data": {
      "image/png": "[encoded data removed]",
      "text/plain": [
       "<Figure size 640x480 with 1 Axes>"
      ]
     },
     "metadata": {},
     "output_type": "display_data"
    }
   ],
   "source": [
    "trainloss = trainHistoryDF[~trainHistoryDF[\"eval_map@3\"].isnull()]\n",
    "plt.plot(trainloss[\"eval_map@3\"], label=\"MAP@3 Score\")\n",
    "plt.title(\"Val MAP@3\")\n",
    "plt.legend()\n",
    "plt.show()"
   ]
  },
  {
   "cell_type": "code",
   "execution_count": 107,
   "id": "62ab18c1",
   "metadata": {
    "execution": {
     "iopub.execute_input": "2025-08-26T07:09:43.464089Z",
     "iopub.status.busy": "2025-08-26T07:09:43.463850Z",
     "iopub.status.idle": "2025-08-26T07:09:43.469059Z",
     "shell.execute_reply": "2025-08-26T07:09:43.468534Z"
    },
    "papermill": {
     "duration": 0.067766,
     "end_time": "2025-08-26T07:09:43.470076",
     "exception": false,
     "start_time": "2025-08-26T07:09:43.402310",
     "status": "completed"
    },
    "tags": []
   },
   "outputs": [],
   "source": [
    "def testValDataset(ds, maxNumData=10):\n",
    "    for i, data in enumerate(ds):\n",
    "        print(f\"Data {i}\")\n",
    "        newPrompt = data[\"LLM_Content\"]\n",
    "        with torch.no_grad():\n",
    "             inputIds = tokenizer(newPrompt, return_tensors=\"pt\").to(device)\n",
    "             logits = model(**inputIds).logits\n",
    "             probabilities = nn.functional.softmax(logits, dim=-1) # get probilitity\n",
    "             classID =logits.argmax().item()\n",
    "             print(f\"Class ID type {type(classID)}\")\n",
    "             classTxt = le.inverse_transform([classID])[0]\n",
    "             actualClassID = data['labels']\n",
    "             actualClass = le.inverse_transform([actualClassID])[0]\n",
    "\n",
    "        print(f\"Query: {newPrompt}\\n\\rPredict Class ID: {classID}\\n\\r Predict Text: {classTxt} \\n\\rActual Class ID: {actualClassID}\\n\\rActual Class Text: {actualClass}\")\n",
    "        print(\"-\"*30)\n"
   ]
  },
  {
   "cell_type": "code",
   "execution_count": 108,
   "id": "c38528bc",
   "metadata": {
    "execution": {
     "iopub.execute_input": "2025-08-26T07:09:43.591742Z",
     "iopub.status.busy": "2025-08-26T07:09:43.591312Z",
     "iopub.status.idle": "2025-08-26T07:09:59.837275Z",
     "shell.execute_reply": "2025-08-26T07:09:59.836347Z"
    },
    "papermill": {
     "duration": 16.307402,
     "end_time": "2025-08-26T07:09:59.838452",
     "exception": false,
     "start_time": "2025-08-26T07:09:43.531050",
     "status": "completed"
    },
    "scrolled": true,
    "tags": []
   },
   "outputs": [
    {
     "name": "stdout",
     "output_type": "stream",
     "text": [
      "Data 0\n",
      "Class ID type <class 'int'>\n",
      "Query: Question: Which number is the greatest?\n",
      "Answer: \\( 6 \\)\n",
      "Correct: False\n",
      "Student Explanation: because it is the only whole number.\n",
      "Predict Class ID: 36\n",
      " Predict Text: False_Neither:NA \n",
      "Actual Class ID: 31\n",
      "Actual Class Text: False_Misconception:Whole_numbers_larger\n",
      "------------------------------\n",
      "Data 1\n",
      "Class ID type <class 'int'>\n",
      "Query: Question: This is part of a regular polygon. How many sides does it have? [Image: A diagram showing an obtuse angle labelled 144 degrees]\n",
      "Answer: \\( 6 \\)\n",
      "Correct: False\n",
      "Student Explanation: if you do it in your head or draw it it will not have 10 side since 10 sides would be shorter than 144.\n",
      "Predict Class ID: 37\n",
      " Predict Text: True_Correct:NA \n",
      "Actual Class ID: 36\n",
      "Actual Class Text: False_Neither:NA\n",
      "------------------------------\n",
      "Data 2\n",
      "Class ID type <class 'int'>\n",
      "Query: Question: A box contains \\( 120 \\) counters. The counters are red or blue. \\( \\frac{3}{5} \\) of the counters are red.\n",
      "How many red counters are there?\n",
      "Answer: \\( 48 \\)\n",
      "Correct: False\n",
      "Student Explanation: I think this because 3/5=72 and 120-72=48\n",
      "Predict Class ID: 36\n",
      " Predict Text: False_Neither:NA \n",
      "Actual Class ID: 32\n",
      "Actual Class Text: False_Misconception:Wrong_Fraction\n",
      "------------------------------\n",
      "Data 3\n",
      "Class ID type <class 'int'>\n",
      "Query: Question: What number belongs in the box?\n",
      "\\(\n",
      "(-8)-(-5)=\n",
      "\\square\\)\n",
      "Answer: \\( -13 \\)\n",
      "Correct: False\n",
      "Student Explanation: because if you count along you get the answer\n",
      "Predict Class ID: 36\n",
      " Predict Text: False_Neither:NA \n",
      "Actual Class ID: 36\n",
      "Actual Class Text: False_Neither:NA\n",
      "------------------------------\n",
      "Data 4\n",
      "Class ID type <class 'int'>\n",
      "Query: Question: Which number is the greatest?\n",
      "Answer: \\( 6.2 \\)\n",
      "Correct: True\n",
      "Student Explanation: because it doesn’t matter how big a number is if the number in the column before it isn’t bigger than the number in the other answers\n",
      "Predict Class ID: 37\n",
      " Predict Text: True_Correct:NA \n",
      "Actual Class ID: 64\n",
      "Actual Class Text: True_Neither:NA\n",
      "------------------------------\n",
      "Data 5\n",
      "Class ID type <class 'int'>\n",
      "Query: Question: Dots have been arranged in these patterns: [Image: Pattern 1 consists of 6 dots, Pattern 2 consists of 10 dots, Pattern 3 consists of 14 dots and Pattern 4 consists of 18 dots] How many dots would there be in Pattern \\( 6 \\) ?\n",
      "Answer: \\( 22 \\)\n",
      "Correct: False\n",
      "Student Explanation: because it adds on 4 each and every time\n",
      "Predict Class ID: 37\n",
      " Predict Text: True_Correct:NA \n",
      "Actual Class ID: 35\n",
      "Actual Class Text: False_Misconception:Wrong_term\n",
      "------------------------------\n",
      "Data 6\n",
      "Class ID type <class 'int'>\n",
      "Query: Question: \\( 2 y=24 \\) What is the value of \\( y \\) ?\n",
      "Answer: \\( 4 \\)\n",
      "Correct: False\n",
      "Student Explanation: if 24 and 2y are the same then the 2 in 2x = 20 which means y=4.\n",
      "Predict Class ID: 22\n",
      " Predict Text: False_Misconception:Not_variable \n",
      "Actual Class ID: 22\n",
      "Actual Class Text: False_Misconception:Not_variable\n",
      "------------------------------\n",
      "Data 7\n",
      "Class ID type <class 'int'>\n",
      "Query: Question: \\( \\frac{1}{3}+\\frac{2}{5}= \\)\n",
      "Answer: \\( \\frac{3}{15} \\)\n",
      "Correct: False\n",
      "Student Explanation: you have to convert the fractions to a equelent fraction\n",
      "Predict Class ID: 34\n",
      " Predict Text: False_Misconception:Wrong_fraction \n",
      "Actual Class ID: 36\n",
      "Actual Class Text: False_Neither:NA\n",
      "------------------------------\n",
      "Data 8\n",
      "Class ID type <class 'int'>\n",
      "Query: Question: \\( \\frac{A}{10}=\\frac{9}{15} \\) What is the value of \\( A \\) ?\n",
      "Answer: \\( 4 \\)\n",
      "Correct: False\n",
      "Student Explanation: because if you add 5 to 10 it equals 15 so then - 5 from 9\n",
      "Predict Class ID: 36\n",
      " Predict Text: False_Neither:NA \n",
      "Actual Class ID: 3\n",
      "Actual Class Text: False_Misconception:Additive\n",
      "------------------------------\n",
      "Data 9\n",
      "Class ID type <class 'int'>\n",
      "Query: Question: A box contains \\( 120 \\) counters. The counters are red or blue. \\( \\frac{3}{5} \\) of the counters are red.\n",
      "How many red counters are there?\n",
      "Answer: \\( 72 \\)\n",
      "Correct: True\n",
      "Student Explanation: That is because you do 120 divided by 5 and then multiplied my 3 in which you get 72\n",
      "Predict Class ID: 64\n",
      " Predict Text: True_Neither:NA \n",
      "Actual Class ID: 37\n",
      "Actual Class Text: True_Correct:NA\n",
      "------------------------------\n",
      "Data 10\n",
      "Class ID type <class 'int'>\n",
      "Query: Question: Calculate \\( \\frac{2}{3} \\times 5 \\)\n",
      "Answer: \\( \\frac{2}{15} \\)\n",
      "Correct: False\n",
      "Student Explanation: 5 is the same as 1 over 5\n",
      "Predict Class ID: 34\n",
      " Predict Text: False_Misconception:Wrong_fraction \n",
      "Actual Class ID: 17\n",
      "Actual Class Text: False_Misconception:Inversion\n",
      "------------------------------\n",
      "Data 11\n",
      "Class ID type <class 'int'>\n",
      "Query: Question: Calculate \\( \\frac{1}{2} \\div 6 \\)\n",
      "Answer: \\( \\frac{1}{12} \\)\n",
      "Correct: True\n",
      "Student Explanation: i think this because if you divide the denominator with the whole number then the numerator stays the same you should get 1/12\n",
      "Predict Class ID: 37\n",
      " Predict Text: True_Correct:NA \n",
      "Actual Class ID: 37\n",
      "Actual Class Text: True_Correct:NA\n",
      "------------------------------\n",
      "Data 12\n",
      "Class ID type <class 'int'>\n",
      "Query: Question: What fraction of the shape is not shaded? Give your answer in its simplest form. [Image: A triangle split into 9 equal smaller triangles. 6 of them are shaded.]\n",
      "Answer: \\( \\frac{3}{9} \\)\n",
      "Correct: False\n",
      "Student Explanation: There are 9 pieces.6 are shaded.9-6 is 3.That is the answer.\n",
      "Predict Class ID: 64\n",
      " Predict Text: True_Neither:NA \n",
      "Actual Class ID: 13\n",
      "Actual Class Text: False_Misconception:Incomplete\n",
      "------------------------------\n",
      "Data 13\n",
      "Class ID type <class 'int'>\n",
      "Query: Question: Calculate \\( \\frac{1}{2} \\div 6 \\)\n",
      "Answer: \\( \\frac{1}{3} \\)\n",
      "Correct: False\n",
      "Student Explanation: C because if I convert 2 6th as a fraction it would be 1 3rd as\n",
      "Predict Class ID: 37\n",
      " Predict Text: True_Correct:NA \n",
      "Actual Class ID: 36\n",
      "Actual Class Text: False_Neither:NA\n",
      "------------------------------\n",
      "Data 14\n",
      "Class ID type <class 'int'>\n",
      "Query: Question: Sally has \\( \\frac{2}{3} \\) of a whole cake in the fridge. Robert eats \\( \\frac{1}{3} \\) of this piece. What fraction of the whole cake has Robert eaten?\n",
      "Choose the number sentence that would solve the word problem.\n",
      "Answer: \\( \\frac{2}{3}-\\frac{1}{3} \\)\n",
      "Correct: False\n",
      "Student Explanation: because you would subtract sally's total from roberts total.\n",
      "Predict Class ID: 26\n",
      " Predict Text: False_Misconception:Subtraction \n",
      "Actual Class ID: 26\n",
      "Actual Class Text: False_Misconception:Subtraction\n",
      "------------------------------\n",
      "Data 15\n",
      "Class ID type <class 'int'>\n",
      "Query: Question: A bag contains \\( 24 \\) yellow and green balls. \\( \\frac{3}{8} \\) of the balls are yellow. How many of the balls are green?\n",
      "Answer: \\( 15 \\)\n",
      "Correct: True\n",
      "Student Explanation: i worked out 1 eighth and multiplied it by 3 to get 9 then i took 9 away from 24 and i got 15.\n",
      "Predict Class ID: 37\n",
      " Predict Text: True_Correct:NA \n",
      "Actual Class ID: 37\n",
      "Actual Class Text: True_Correct:NA\n",
      "------------------------------\n",
      "Data 16\n",
      "Class ID type <class 'int'>\n",
      "Query: Question: It takes \\( 3 \\) people a total of \\( 192 \\) hours to build a wall.\n",
      "\n",
      "How long would it take if \\( 12 \\) people built the same wall?\n",
      "Answer: \\( 48 \\) hours\n",
      "Correct: True\n",
      "Student Explanation: i think this because if there are 4 times as many people it will be 4 times faster so 192 hours divided by 4 is 48 hours.\n",
      "Predict Class ID: 37\n",
      " Predict Text: True_Correct:NA \n",
      "Actual Class ID: 37\n",
      "Actual Class Text: True_Correct:NA\n",
      "------------------------------\n",
      "Data 17\n",
      "Class ID type <class 'int'>\n",
      "Query: Question: \\( 2 y=24 \\) What is the value of \\( y \\) ?\n",
      "Answer: \\( 12 \\)\n",
      "Correct: True\n",
      "Student Explanation: because 24 divided by 2 is 12 which is the value of y\n",
      "Predict Class ID: 36\n",
      " Predict Text: False_Neither:NA \n",
      "Actual Class ID: 37\n",
      "Actual Class Text: True_Correct:NA\n",
      "------------------------------\n",
      "Data 18\n",
      "Class ID type <class 'int'>\n",
      "Query: Question: A box contains \\( 120 \\) counters. The counters are red or blue. \\( \\frac{3}{5} \\) of the counters are red.\n",
      "How many red counters are there?\n",
      "Answer: \\( 72 \\)\n",
      "Correct: True\n",
      "Student Explanation: Because it’s the only thing over a half\n",
      "Predict Class ID: 24\n",
      " Predict Text: False_Misconception:Scale \n",
      "Actual Class ID: 37\n",
      "Actual Class Text: True_Correct:NA\n",
      "------------------------------\n",
      "Data 19\n",
      "Class ID type <class 'int'>\n",
      "Query: Question: \\( \\frac{A}{10}=\\frac{9}{15} \\) What is the value of \\( A \\) ?\n",
      "Answer: \\( 4 \\)\n",
      "Correct: False\n",
      "Student Explanation: I think 4 because 15 has 5 more than 10, so I took 5 away from 9 and it was 4.\n",
      "Predict Class ID: 24\n",
      " Predict Text: False_Misconception:Scale \n",
      "Actual Class ID: 3\n",
      "Actual Class Text: False_Misconception:Additive\n",
      "------------------------------\n"
     ]
    }
   ],
   "source": [
    "testValDataset(datasetDict[\"val\"], 3)"
   ]
  },
  {
   "cell_type": "code",
   "execution_count": 109,
   "id": "55508f7a",
   "metadata": {
    "execution": {
     "iopub.execute_input": "2025-08-26T07:09:59.965390Z",
     "iopub.status.busy": "2025-08-26T07:09:59.965168Z",
     "iopub.status.idle": "2025-08-26T07:09:59.969530Z",
     "shell.execute_reply": "2025-08-26T07:09:59.969003Z"
    },
    "papermill": {
     "duration": 0.068468,
     "end_time": "2025-08-26T07:09:59.970548",
     "exception": false,
     "start_time": "2025-08-26T07:09:59.902080",
     "status": "completed"
    },
    "tags": []
   },
   "outputs": [
    {
     "data": {
      "text/plain": [
       "DatasetDict({\n",
       "    test: Dataset({\n",
       "        features: ['row_id', 'Category:Misconception'],\n",
       "        num_rows: 3\n",
       "    })\n",
       "})"
      ]
     },
     "execution_count": 109,
     "metadata": {},
     "output_type": "execute_result"
    }
   ],
   "source": [
    "submitDict"
   ]
  },
  {
   "cell_type": "markdown",
   "id": "214bfd93",
   "metadata": {
    "papermill": {
     "duration": 0.062515,
     "end_time": "2025-08-26T07:10:00.094334",
     "exception": false,
     "start_time": "2025-08-26T07:10:00.031819",
     "status": "completed"
    },
    "tags": []
   },
   "source": [
    "# Final Prediction"
   ]
  },
  {
   "cell_type": "code",
   "execution_count": 110,
   "id": "83558ce0",
   "metadata": {
    "execution": {
     "iopub.execute_input": "2025-08-26T07:10:00.217671Z",
     "iopub.status.busy": "2025-08-26T07:10:00.217157Z",
     "iopub.status.idle": "2025-08-26T07:10:00.223369Z",
     "shell.execute_reply": "2025-08-26T07:10:00.222800Z"
    },
    "papermill": {
     "duration": 0.068334,
     "end_time": "2025-08-26T07:10:00.224481",
     "exception": false,
     "start_time": "2025-08-26T07:10:00.156147",
     "status": "completed"
    },
    "tags": []
   },
   "outputs": [],
   "source": [
    "def predictTestDataset(ds):\n",
    "    result = []\n",
    "    idx = []\n",
    "    for i, data in enumerate(ds):\n",
    "        print(f\"Data {i}\")\n",
    "        rowId= data[\"row_id\"]\n",
    "        newPrompt = data[\"LLM_Content\"]\n",
    "        with torch.no_grad():\n",
    "             inputIds = tokenizer(newPrompt, return_tensors=\"pt\").to(device)\n",
    "             logits = model(**inputIds).logits\n",
    "             probabilities = nn.functional.softmax(logits, dim=-1) # get probilitity\n",
    "             top3_preds = np.argsort(logits.cpu(), axis=-1)[:, -3:]\n",
    "             top3 = top3_preds.flatten() # convert to 1D \n",
    "             classTxtArray = le.inverse_transform(top3) # convert class ID to Label \n",
    "             top3_labels    = classTxtArray.reshape(top3.shape)\n",
    "             temp = \"\"\n",
    "             # for preds in top3_labels:\n",
    "             temp += temp + \" \".join(top3_labels)\n",
    "             # result.append(temp)\n",
    "             # print((top3.shape))\n",
    "             result.append(temp[:-1])\n",
    "             idx.append(rowId)\n",
    "\n",
    "        print(f\"RowID: {rowId}\\n\\rQuery: {newPrompt}\\n\\rPredict Top3 Class ID : {top3}\\n\\rClass Text : {temp}\")\n",
    "        print(\"-\"*30)\n",
    "    return idx, result\n"
   ]
  },
  {
   "cell_type": "code",
   "execution_count": 111,
   "id": "3545629c",
   "metadata": {
    "execution": {
     "iopub.execute_input": "2025-08-26T07:10:00.346912Z",
     "iopub.status.busy": "2025-08-26T07:10:00.346532Z",
     "iopub.status.idle": "2025-08-26T07:10:02.874028Z",
     "shell.execute_reply": "2025-08-26T07:10:02.873259Z"
    },
    "papermill": {
     "duration": 2.58999,
     "end_time": "2025-08-26T07:10:02.875222",
     "exception": false,
     "start_time": "2025-08-26T07:10:00.285232",
     "status": "completed"
    },
    "tags": []
   },
   "outputs": [
    {
     "name": "stdout",
     "output_type": "stream",
     "text": [
      "Data 0\n",
      "RowID: 36696\n",
      "Query: Question: What fraction of the shape is not shaded? Give your answer in its simplest form. [Image: A triangle split into 9 equal smaller triangles. 6 of them are shaded.]\n",
      "Answer: \\( \\frac{1}{3} \\)\n",
      "Correct: True\n",
      "Student Explanation: I think that 1/3 is the answer, as it's the simplest form of 3/9.\n",
      "Predict Top3 Class ID : tensor([34, 64, 37])\n",
      "Class Text : False_Misconception:Wrong_fraction True_Neither:NA True_Correct:NA\n",
      "------------------------------\n",
      "Data 1\n",
      "RowID: 36697\n",
      "Query: Question: What fraction of the shape is not shaded? Give your answer in its simplest form. [Image: A triangle split into 9 equal smaller triangles. 6 of them are shaded.]\n",
      "Answer: \\( \\frac{3}{6} \\)\n",
      "Correct: False\n",
      "Student Explanation: i think this answer is because 3 triangles are white and 6 triangle are blue.\n",
      "Predict Top3 Class ID : tensor([37,  2, 64])\n",
      "Class Text : True_Correct:NA False_Misconception:Adding_terms True_Neither:NA\n",
      "------------------------------\n",
      "Data 2\n",
      "RowID: 36698\n",
      "Query: Question: Which number is the greatest?\n",
      "Answer: \\( 6.2 \\)\n",
      "Correct: True\n",
      "Student Explanation: because the 2 makes it higher than the others.\n",
      "Predict Top3 Class ID : tensor([36, 64, 37])\n",
      "Class Text : False_Neither:NA True_Neither:NA True_Correct:NA\n",
      "------------------------------\n"
     ]
    },
    {
     "data": {
      "text/html": [
       "<div>\n",
       "<style scoped>\n",
       "    .dataframe tbody tr th:only-of-type {\n",
       "        vertical-align: middle;\n",
       "    }\n",
       "\n",
       "    .dataframe tbody tr th {\n",
       "        vertical-align: top;\n",
       "    }\n",
       "\n",
       "    .dataframe thead th {\n",
       "        text-align: right;\n",
       "    }\n",
       "</style>\n",
       "<table border=\"1\" class=\"dataframe\">\n",
       "  <thead>\n",
       "    <tr style=\"text-align: right;\">\n",
       "      <th></th>\n",
       "      <th>row_id</th>\n",
       "      <th>Category:Misconception</th>\n",
       "    </tr>\n",
       "  </thead>\n",
       "  <tbody>\n",
       "    <tr>\n",
       "      <th>0</th>\n",
       "      <td>36696</td>\n",
       "      <td>False_Misconception:Wrong_fraction True_Neithe...</td>\n",
       "    </tr>\n",
       "    <tr>\n",
       "      <th>1</th>\n",
       "      <td>36697</td>\n",
       "      <td>True_Correct:NA False_Misconception:Adding_ter...</td>\n",
       "    </tr>\n",
       "    <tr>\n",
       "      <th>2</th>\n",
       "      <td>36698</td>\n",
       "      <td>False_Neither:NA True_Neither:NA True_Correct:N</td>\n",
       "    </tr>\n",
       "  </tbody>\n",
       "</table>\n",
       "</div>"
      ],
      "text/plain": [
       "   row_id                             Category:Misconception\n",
       "0   36696  False_Misconception:Wrong_fraction True_Neithe...\n",
       "1   36697  True_Correct:NA False_Misconception:Adding_ter...\n",
       "2   36698    False_Neither:NA True_Neither:NA True_Correct:N"
      ]
     },
     "execution_count": 111,
     "metadata": {},
     "output_type": "execute_result"
    }
   ],
   "source": [
    "rowID ,predictResult = predictTestDataset(testDict[\"test\"])\n",
    "final =  pd.DataFrame({\"row_id\": rowID, \"Category:Misconception\": predictResult})\n",
    "final"
   ]
  },
  {
   "cell_type": "code",
   "execution_count": 112,
   "id": "672b5ce5",
   "metadata": {
    "execution": {
     "iopub.execute_input": "2025-08-26T07:10:03.002545Z",
     "iopub.status.busy": "2025-08-26T07:10:03.002332Z",
     "iopub.status.idle": "2025-08-26T07:10:03.006595Z",
     "shell.execute_reply": "2025-08-26T07:10:03.006036Z"
    },
    "papermill": {
     "duration": 0.068056,
     "end_time": "2025-08-26T07:10:03.007572",
     "exception": false,
     "start_time": "2025-08-26T07:10:02.939516",
     "status": "completed"
    },
    "tags": []
   },
   "outputs": [
    {
     "data": {
      "text/plain": [
       "['False_Misconception:Wrong_fraction True_Neither:NA True_Correct:N',\n",
       " 'True_Correct:NA False_Misconception:Adding_terms True_Neither:N',\n",
       " 'False_Neither:NA True_Neither:NA True_Correct:N']"
      ]
     },
     "execution_count": 112,
     "metadata": {},
     "output_type": "execute_result"
    }
   ],
   "source": [
    "predictResult\n"
   ]
  },
  {
   "cell_type": "code",
   "execution_count": 113,
   "id": "659711ef",
   "metadata": {
    "execution": {
     "iopub.execute_input": "2025-08-26T07:10:03.134887Z",
     "iopub.status.busy": "2025-08-26T07:10:03.134645Z",
     "iopub.status.idle": "2025-08-26T07:10:03.142403Z",
     "shell.execute_reply": "2025-08-26T07:10:03.141864Z"
    },
    "papermill": {
     "duration": 0.07206,
     "end_time": "2025-08-26T07:10:03.143454",
     "exception": false,
     "start_time": "2025-08-26T07:10:03.071394",
     "status": "completed"
    },
    "tags": []
   },
   "outputs": [],
   "source": [
    "final.to_csv('submission.csv', index = False)"
   ]
  },
  {
   "cell_type": "code",
   "execution_count": 114,
   "id": "a7dc8944",
   "metadata": {
    "execution": {
     "iopub.execute_input": "2025-08-26T07:10:03.268042Z",
     "iopub.status.busy": "2025-08-26T07:10:03.267823Z",
     "iopub.status.idle": "2025-08-26T07:10:03.275989Z",
     "shell.execute_reply": "2025-08-26T07:10:03.275302Z"
    },
    "papermill": {
     "duration": 0.072137,
     "end_time": "2025-08-26T07:10:03.277222",
     "exception": false,
     "start_time": "2025-08-26T07:10:03.205085",
     "status": "completed"
    },
    "tags": []
   },
   "outputs": [
    {
     "data": {
      "text/html": [
       "<div>\n",
       "<style scoped>\n",
       "    .dataframe tbody tr th:only-of-type {\n",
       "        vertical-align: middle;\n",
       "    }\n",
       "\n",
       "    .dataframe tbody tr th {\n",
       "        vertical-align: top;\n",
       "    }\n",
       "\n",
       "    .dataframe thead th {\n",
       "        text-align: right;\n",
       "    }\n",
       "</style>\n",
       "<table border=\"1\" class=\"dataframe\">\n",
       "  <thead>\n",
       "    <tr style=\"text-align: right;\">\n",
       "      <th></th>\n",
       "      <th>row_id</th>\n",
       "      <th>Category:Misconception</th>\n",
       "    </tr>\n",
       "  </thead>\n",
       "  <tbody>\n",
       "    <tr>\n",
       "      <th>0</th>\n",
       "      <td>36696</td>\n",
       "      <td>False_Misconception:Wrong_fraction True_Neithe...</td>\n",
       "    </tr>\n",
       "    <tr>\n",
       "      <th>1</th>\n",
       "      <td>36697</td>\n",
       "      <td>True_Correct:NA False_Misconception:Adding_ter...</td>\n",
       "    </tr>\n",
       "    <tr>\n",
       "      <th>2</th>\n",
       "      <td>36698</td>\n",
       "      <td>False_Neither:NA True_Neither:NA True_Correct:N</td>\n",
       "    </tr>\n",
       "  </tbody>\n",
       "</table>\n",
       "</div>"
      ],
      "text/plain": [
       "   row_id                             Category:Misconception\n",
       "0   36696  False_Misconception:Wrong_fraction True_Neithe...\n",
       "1   36697  True_Correct:NA False_Misconception:Adding_ter...\n",
       "2   36698    False_Neither:NA True_Neither:NA True_Correct:N"
      ]
     },
     "execution_count": 114,
     "metadata": {},
     "output_type": "execute_result"
    }
   ],
   "source": [
    "pd.read_csv('submission.csv')"
   ]
  },
  {
   "cell_type": "code",
   "execution_count": null,
   "id": "8573a763",
   "metadata": {
    "papermill": {
     "duration": 0.060526,
     "end_time": "2025-08-26T07:10:03.400855",
     "exception": false,
     "start_time": "2025-08-26T07:10:03.340329",
     "status": "completed"
    },
    "tags": []
   },
   "outputs": [],
   "source": []
  }
 ],
 "metadata": {
  "kaggle": {
   "accelerator": "nvidiaTeslaT4",
   "dataSources": [
    {
     "databundleVersionId": 12957508,
     "isSourceIdPinned": false,
     "sourceId": 104383,
     "sourceType": "competition"
    },
    {
     "datasetId": 5404413,
     "sourceId": 10443044,
     "sourceType": "datasetVersion"
    },
    {
     "isSourceIdPinned": false,
     "modelId": 322000,
     "modelInstanceId": 301517,
     "sourceId": 363139,
     "sourceType": "modelInstanceVersion"
    }
   ],
   "dockerImageVersionId": 31089,
   "isGpuEnabled": true,
   "isInternetEnabled": true,
   "language": "python",
   "sourceType": "notebook"
  },
  "kernelspec": {
   "display_name": "Python 3",
   "language": "python",
   "name": "python3"
  },
  "language_info": {
   "codemirror_mode": {
    "name": "ipython",
    "version": 3
   },
   "file_extension": ".py",
   "mimetype": "text/x-python",
   "name": "python",
   "nbconvert_exporter": "python",
   "pygments_lexer": "ipython3",
   "version": "3.11.13"
  },
  "papermill": {
   "default_parameters": {},
   "duration": 3968.933443,
   "end_time": "2025-08-26T07:10:06.519903",
   "environment_variables": {},
   "exception": null,
   "input_path": "__notebook__.ipynb",
   "output_path": "__notebook__.ipynb",
   "parameters": {},
   "start_time": "2025-08-26T06:03:57.586460",
   "version": "2.6.0"
  },
  "widgets": {
   "application/vnd.jupyter.widget-state+json": {
    "state": {
     "0a77baa05a84416092c407604a761828": {
      "model_module": "@jupyter-widgets/controls",
      "model_module_version": "2.0.0",
      "model_name": "FloatProgressModel",
      "state": {
       "_dom_classes": [],
       "_model_module": "@jupyter-widgets/controls",
       "_model_module_version": "2.0.0",
       "_model_name": "FloatProgressModel",
       "_view_count": null,
       "_view_module": "@jupyter-widgets/controls",
       "_view_module_version": "2.0.0",
       "_view_name": "ProgressView",
       "bar_style": "success",
       "description": "",
       "description_allow_html": false,
       "layout": "IPY_MODEL_ff256de43f594777b5e8471908c6068b",
       "max": 20.0,
       "min": 0.0,
       "orientation": "horizontal",
       "style": "IPY_MODEL_bf366831c6ae435c8083c75bc1e9a65e",
       "tabbable": null,
       "tooltip": null,
       "value": 20.0
      }
     },
     "0ecae0646fd5498081d43a8e8b7079e6": {
      "model_module": "@jupyter-widgets/controls",
      "model_module_version": "2.0.0",
      "model_name": "HTMLStyleModel",
      "state": {
       "_model_module": "@jupyter-widgets/controls",
       "_model_module_version": "2.0.0",
       "_model_name": "HTMLStyleModel",
       "_view_count": null,
       "_view_module": "@jupyter-widgets/base",
       "_view_module_version": "2.0.0",
       "_view_name": "StyleView",
       "background": null,
       "description_width": "",
       "font_size": null,
       "text_color": null
      }
     },
     "134749a06d1d4e5bb75201546fbdd945": {
      "model_module": "@jupyter-widgets/base",
      "model_module_version": "2.0.0",
      "model_name": "LayoutModel",
      "state": {
       "_model_module": "@jupyter-widgets/base",
       "_model_module_version": "2.0.0",
       "_model_name": "LayoutModel",
       "_view_count": null,
       "_view_module": "@jupyter-widgets/base",
       "_view_module_version": "2.0.0",
       "_view_name": "LayoutView",
       "align_content": null,
       "align_items": null,
       "align_self": null,
       "border_bottom": null,
       "border_left": null,
       "border_right": null,
       "border_top": null,
       "bottom": null,
       "display": null,
       "flex": null,
       "flex_flow": null,
       "grid_area": null,
       "grid_auto_columns": null,
       "grid_auto_flow": null,
       "grid_auto_rows": null,
       "grid_column": null,
       "grid_gap": null,
       "grid_row": null,
       "grid_template_areas": null,
       "grid_template_columns": null,
       "grid_template_rows": null,
       "height": null,
       "justify_content": null,
       "justify_items": null,
       "left": null,
       "margin": null,
       "max_height": null,
       "max_width": null,
       "min_height": null,
       "min_width": null,
       "object_fit": null,
       "object_position": null,
       "order": null,
       "overflow": null,
       "padding": null,
       "right": null,
       "top": null,
       "visibility": null,
       "width": null
      }
     },
     "15e76ade6e7b46358ff45111dbf270dc": {
      "model_module": "@jupyter-widgets/controls",
      "model_module_version": "2.0.0",
      "model_name": "HTMLModel",
      "state": {
       "_dom_classes": [],
       "_model_module": "@jupyter-widgets/controls",
       "_model_module_version": "2.0.0",
       "_model_name": "HTMLModel",
       "_view_count": null,
       "_view_module": "@jupyter-widgets/controls",
       "_view_module_version": "2.0.0",
       "_view_name": "HTMLView",
       "description": "",
       "description_allow_html": false,
       "layout": "IPY_MODEL_822337c60c7a4e549aa40d27914f6ad9",
       "placeholder": "​",
       "style": "IPY_MODEL_18f7e1027e6f43e083e600838fae53e0",
       "tabbable": null,
       "tooltip": null,
       "value": "Truncating train dataset: 100%"
      }
     },
     "18f7e1027e6f43e083e600838fae53e0": {
      "model_module": "@jupyter-widgets/controls",
      "model_module_version": "2.0.0",
      "model_name": "HTMLStyleModel",
      "state": {
       "_model_module": "@jupyter-widgets/controls",
       "_model_module_version": "2.0.0",
       "_model_name": "HTMLStyleModel",
       "_view_count": null,
       "_view_module": "@jupyter-widgets/base",
       "_view_module_version": "2.0.0",
       "_view_name": "StyleView",
       "background": null,
       "description_width": "",
       "font_size": null,
       "text_color": null
      }
     },
     "21b170cce6cd45c3b0c29149d89c46c1": {
      "model_module": "@jupyter-widgets/controls",
      "model_module_version": "2.0.0",
      "model_name": "ProgressStyleModel",
      "state": {
       "_model_module": "@jupyter-widgets/controls",
       "_model_module_version": "2.0.0",
       "_model_name": "ProgressStyleModel",
       "_view_count": null,
       "_view_module": "@jupyter-widgets/base",
       "_view_module_version": "2.0.0",
       "_view_name": "StyleView",
       "bar_color": null,
       "description_width": ""
      }
     },
     "2aba700d1af448658ace4e6058952b2a": {
      "model_module": "@jupyter-widgets/controls",
      "model_module_version": "2.0.0",
      "model_name": "HTMLModel",
      "state": {
       "_dom_classes": [],
       "_model_module": "@jupyter-widgets/controls",
       "_model_module_version": "2.0.0",
       "_model_name": "HTMLModel",
       "_view_count": null,
       "_view_module": "@jupyter-widgets/controls",
       "_view_module_version": "2.0.0",
       "_view_name": "HTMLView",
       "description": "",
       "description_allow_html": false,
       "layout": "IPY_MODEL_7d302132865b41e5bd12be86601bd9eb",
       "placeholder": "​",
       "style": "IPY_MODEL_938c8074d5a1489a8e802ff6f2ff35b2",
       "tabbable": null,
       "tooltip": null,
       "value": " 36676/36676 [00:04&lt;00:00, 7316.10 examples/s]"
      }
     },
     "2b0b5b6105b445f3bfa6357c4230cf25": {
      "model_module": "@jupyter-widgets/base",
      "model_module_version": "2.0.0",
      "model_name": "LayoutModel",
      "state": {
       "_model_module": "@jupyter-widgets/base",
       "_model_module_version": "2.0.0",
       "_model_name": "LayoutModel",
       "_view_count": null,
       "_view_module": "@jupyter-widgets/base",
       "_view_module_version": "2.0.0",
       "_view_name": "LayoutView",
       "align_content": null,
       "align_items": null,
       "align_self": null,
       "border_bottom": null,
       "border_left": null,
       "border_right": null,
       "border_top": null,
       "bottom": null,
       "display": null,
       "flex": null,
       "flex_flow": null,
       "grid_area": null,
       "grid_auto_columns": null,
       "grid_auto_flow": null,
       "grid_auto_rows": null,
       "grid_column": null,
       "grid_gap": null,
       "grid_row": null,
       "grid_template_areas": null,
       "grid_template_columns": null,
       "grid_template_rows": null,
       "height": null,
       "justify_content": null,
       "justify_items": null,
       "left": null,
       "margin": null,
       "max_height": null,
       "max_width": null,
       "min_height": null,
       "min_width": null,
       "object_fit": null,
       "object_position": null,
       "order": null,
       "overflow": null,
       "padding": null,
       "right": null,
       "top": null,
       "visibility": null,
       "width": null
      }
     },
     "2bb4e196f6264a638b2e407a9978f4c8": {
      "model_module": "@jupyter-widgets/controls",
      "model_module_version": "2.0.0",
      "model_name": "HTMLStyleModel",
      "state": {
       "_model_module": "@jupyter-widgets/controls",
       "_model_module_version": "2.0.0",
       "_model_name": "HTMLStyleModel",
       "_view_count": null,
       "_view_module": "@jupyter-widgets/base",
       "_view_module_version": "2.0.0",
       "_view_name": "StyleView",
       "background": null,
       "description_width": "",
       "font_size": null,
       "text_color": null
      }
     },
     "387b84a30f2543648be5110481939ac3": {
      "model_module": "@jupyter-widgets/base",
      "model_module_version": "2.0.0",
      "model_name": "LayoutModel",
      "state": {
       "_model_module": "@jupyter-widgets/base",
       "_model_module_version": "2.0.0",
       "_model_name": "LayoutModel",
       "_view_count": null,
       "_view_module": "@jupyter-widgets/base",
       "_view_module_version": "2.0.0",
       "_view_name": "LayoutView",
       "align_content": null,
       "align_items": null,
       "align_self": null,
       "border_bottom": null,
       "border_left": null,
       "border_right": null,
       "border_top": null,
       "bottom": null,
       "display": null,
       "flex": null,
       "flex_flow": null,
       "grid_area": null,
       "grid_auto_columns": null,
       "grid_auto_flow": null,
       "grid_auto_rows": null,
       "grid_column": null,
       "grid_gap": null,
       "grid_row": null,
       "grid_template_areas": null,
       "grid_template_columns": null,
       "grid_template_rows": null,
       "height": null,
       "justify_content": null,
       "justify_items": null,
       "left": null,
       "margin": null,
       "max_height": null,
       "max_width": null,
       "min_height": null,
       "min_width": null,
       "object_fit": null,
       "object_position": null,
       "order": null,
       "overflow": null,
       "padding": null,
       "right": null,
       "top": null,
       "visibility": null,
       "width": null
      }
     },
     "3cf05d264e9a4a7595362dd4936f470c": {
      "model_module": "@jupyter-widgets/base",
      "model_module_version": "2.0.0",
      "model_name": "LayoutModel",
      "state": {
       "_model_module": "@jupyter-widgets/base",
       "_model_module_version": "2.0.0",
       "_model_name": "LayoutModel",
       "_view_count": null,
       "_view_module": "@jupyter-widgets/base",
       "_view_module_version": "2.0.0",
       "_view_name": "LayoutView",
       "align_content": null,
       "align_items": null,
       "align_self": null,
       "border_bottom": null,
       "border_left": null,
       "border_right": null,
       "border_top": null,
       "bottom": null,
       "display": null,
       "flex": null,
       "flex_flow": null,
       "grid_area": null,
       "grid_auto_columns": null,
       "grid_auto_flow": null,
       "grid_auto_rows": null,
       "grid_column": null,
       "grid_gap": null,
       "grid_row": null,
       "grid_template_areas": null,
       "grid_template_columns": null,
       "grid_template_rows": null,
       "height": null,
       "justify_content": null,
       "justify_items": null,
       "left": null,
       "margin": null,
       "max_height": null,
       "max_width": null,
       "min_height": null,
       "min_width": null,
       "object_fit": null,
       "object_position": null,
       "order": null,
       "overflow": null,
       "padding": null,
       "right": null,
       "top": null,
       "visibility": null,
       "width": null
      }
     },
     "453dbd1de4fd4c76a7e59caa90f3e6b4": {
      "model_module": "@jupyter-widgets/controls",
      "model_module_version": "2.0.0",
      "model_name": "HTMLModel",
      "state": {
       "_dom_classes": [],
       "_model_module": "@jupyter-widgets/controls",
       "_model_module_version": "2.0.0",
       "_model_name": "HTMLModel",
       "_view_count": null,
       "_view_module": "@jupyter-widgets/controls",
       "_view_module_version": "2.0.0",
       "_view_name": "HTMLView",
       "description": "",
       "description_allow_html": false,
       "layout": "IPY_MODEL_c4e1eed9a5e942b7a9c6f80c3278d6da",
       "placeholder": "​",
       "style": "IPY_MODEL_f2bd530f386c4c81bd81908dd81ba012",
       "tabbable": null,
       "tooltip": null,
       "value": " 36676/36676 [00:00&lt;00:00, 289239.28 examples/s]"
      }
     },
     "45c2a695f46f47338f1664335ee87296": {
      "model_module": "@jupyter-widgets/controls",
      "model_module_version": "2.0.0",
      "model_name": "HBoxModel",
      "state": {
       "_dom_classes": [],
       "_model_module": "@jupyter-widgets/controls",
       "_model_module_version": "2.0.0",
       "_model_name": "HBoxModel",
       "_view_count": null,
       "_view_module": "@jupyter-widgets/controls",
       "_view_module_version": "2.0.0",
       "_view_name": "HBoxView",
       "box_style": "",
       "children": [
        "IPY_MODEL_f6ce7919cdb24c6582b8aa658ce2fb1f",
        "IPY_MODEL_6001a9d4cecd47de8a06e5af4decca28",
        "IPY_MODEL_cfb93b2a4f22431086dd34f81a4d0fdc"
       ],
       "layout": "IPY_MODEL_3cf05d264e9a4a7595362dd4936f470c",
       "tabbable": null,
       "tooltip": null
      }
     },
     "485da3c796ba42c48967aa92d680f6a9": {
      "model_module": "@jupyter-widgets/base",
      "model_module_version": "2.0.0",
      "model_name": "LayoutModel",
      "state": {
       "_model_module": "@jupyter-widgets/base",
       "_model_module_version": "2.0.0",
       "_model_name": "LayoutModel",
       "_view_count": null,
       "_view_module": "@jupyter-widgets/base",
       "_view_module_version": "2.0.0",
       "_view_name": "LayoutView",
       "align_content": null,
       "align_items": null,
       "align_self": null,
       "border_bottom": null,
       "border_left": null,
       "border_right": null,
       "border_top": null,
       "bottom": null,
       "display": null,
       "flex": null,
       "flex_flow": null,
       "grid_area": null,
       "grid_auto_columns": null,
       "grid_auto_flow": null,
       "grid_auto_rows": null,
       "grid_column": null,
       "grid_gap": null,
       "grid_row": null,
       "grid_template_areas": null,
       "grid_template_columns": null,
       "grid_template_rows": null,
       "height": null,
       "justify_content": null,
       "justify_items": null,
       "left": null,
       "margin": null,
       "max_height": null,
       "max_width": null,
       "min_height": null,
       "min_width": null,
       "object_fit": null,
       "object_position": null,
       "order": null,
       "overflow": null,
       "padding": null,
       "right": null,
       "top": null,
       "visibility": null,
       "width": null
      }
     },
     "48c5e2d1690742c4a648b7b31748af33": {
      "model_module": "@jupyter-widgets/base",
      "model_module_version": "2.0.0",
      "model_name": "LayoutModel",
      "state": {
       "_model_module": "@jupyter-widgets/base",
       "_model_module_version": "2.0.0",
       "_model_name": "LayoutModel",
       "_view_count": null,
       "_view_module": "@jupyter-widgets/base",
       "_view_module_version": "2.0.0",
       "_view_name": "LayoutView",
       "align_content": null,
       "align_items": null,
       "align_self": null,
       "border_bottom": null,
       "border_left": null,
       "border_right": null,
       "border_top": null,
       "bottom": null,
       "display": null,
       "flex": null,
       "flex_flow": null,
       "grid_area": null,
       "grid_auto_columns": null,
       "grid_auto_flow": null,
       "grid_auto_rows": null,
       "grid_column": null,
       "grid_gap": null,
       "grid_row": null,
       "grid_template_areas": null,
       "grid_template_columns": null,
       "grid_template_rows": null,
       "height": null,
       "justify_content": null,
       "justify_items": null,
       "left": null,
       "margin": null,
       "max_height": null,
       "max_width": null,
       "min_height": null,
       "min_width": null,
       "object_fit": null,
       "object_position": null,
       "order": null,
       "overflow": null,
       "padding": null,
       "right": null,
       "top": null,
       "visibility": null,
       "width": null
      }
     },
     "4d8691f9e68a469980c0d24b438cc8fb": {
      "model_module": "@jupyter-widgets/controls",
      "model_module_version": "2.0.0",
      "model_name": "ProgressStyleModel",
      "state": {
       "_model_module": "@jupyter-widgets/controls",
       "_model_module_version": "2.0.0",
       "_model_name": "ProgressStyleModel",
       "_view_count": null,
       "_view_module": "@jupyter-widgets/base",
       "_view_module_version": "2.0.0",
       "_view_name": "StyleView",
       "bar_color": null,
       "description_width": ""
      }
     },
     "4ef31e1cafac44e087103f88f0c24c52": {
      "model_module": "@jupyter-widgets/base",
      "model_module_version": "2.0.0",
      "model_name": "LayoutModel",
      "state": {
       "_model_module": "@jupyter-widgets/base",
       "_model_module_version": "2.0.0",
       "_model_name": "LayoutModel",
       "_view_count": null,
       "_view_module": "@jupyter-widgets/base",
       "_view_module_version": "2.0.0",
       "_view_name": "LayoutView",
       "align_content": null,
       "align_items": null,
       "align_self": null,
       "border_bottom": null,
       "border_left": null,
       "border_right": null,
       "border_top": null,
       "bottom": null,
       "display": null,
       "flex": null,
       "flex_flow": null,
       "grid_area": null,
       "grid_auto_columns": null,
       "grid_auto_flow": null,
       "grid_auto_rows": null,
       "grid_column": null,
       "grid_gap": null,
       "grid_row": null,
       "grid_template_areas": null,
       "grid_template_columns": null,
       "grid_template_rows": null,
       "height": null,
       "justify_content": null,
       "justify_items": null,
       "left": null,
       "margin": null,
       "max_height": null,
       "max_width": null,
       "min_height": null,
       "min_width": null,
       "object_fit": null,
       "object_position": null,
       "order": null,
       "overflow": null,
       "padding": null,
       "right": null,
       "top": null,
       "visibility": null,
       "width": null
      }
     },
     "5d0f413b8b854c92b5ce92536225bca0": {
      "model_module": "@jupyter-widgets/controls",
      "model_module_version": "2.0.0",
      "model_name": "HTMLStyleModel",
      "state": {
       "_model_module": "@jupyter-widgets/controls",
       "_model_module_version": "2.0.0",
       "_model_name": "HTMLStyleModel",
       "_view_count": null,
       "_view_module": "@jupyter-widgets/base",
       "_view_module_version": "2.0.0",
       "_view_name": "StyleView",
       "background": null,
       "description_width": "",
       "font_size": null,
       "text_color": null
      }
     },
     "5e66780ca06d43dd9266e7f3cc3cfeee": {
      "model_module": "@jupyter-widgets/controls",
      "model_module_version": "2.0.0",
      "model_name": "HTMLStyleModel",
      "state": {
       "_model_module": "@jupyter-widgets/controls",
       "_model_module_version": "2.0.0",
       "_model_name": "HTMLStyleModel",
       "_view_count": null,
       "_view_module": "@jupyter-widgets/base",
       "_view_module_version": "2.0.0",
       "_view_name": "StyleView",
       "background": null,
       "description_width": "",
       "font_size": null,
       "text_color": null
      }
     },
     "6001a9d4cecd47de8a06e5af4decca28": {
      "model_module": "@jupyter-widgets/controls",
      "model_module_version": "2.0.0",
      "model_name": "FloatProgressModel",
      "state": {
       "_dom_classes": [],
       "_model_module": "@jupyter-widgets/controls",
       "_model_module_version": "2.0.0",
       "_model_name": "FloatProgressModel",
       "_view_count": null,
       "_view_module": "@jupyter-widgets/controls",
       "_view_module_version": "2.0.0",
       "_view_name": "ProgressView",
       "bar_style": "success",
       "description": "",
       "description_allow_html": false,
       "layout": "IPY_MODEL_485da3c796ba42c48967aa92d680f6a9",
       "max": 5.0,
       "min": 0.0,
       "orientation": "horizontal",
       "style": "IPY_MODEL_b85a9ff48dc941c59dbbd9537fe7a538",
       "tabbable": null,
       "tooltip": null,
       "value": 5.0
      }
     },
     "715a5c7ca98c4a428ade69ef5d95ef8d": {
      "model_module": "@jupyter-widgets/controls",
      "model_module_version": "2.0.0",
      "model_name": "HTMLStyleModel",
      "state": {
       "_model_module": "@jupyter-widgets/controls",
       "_model_module_version": "2.0.0",
       "_model_name": "HTMLStyleModel",
       "_view_count": null,
       "_view_module": "@jupyter-widgets/base",
       "_view_module_version": "2.0.0",
       "_view_name": "StyleView",
       "background": null,
       "description_width": "",
       "font_size": null,
       "text_color": null
      }
     },
     "786bc3510ce64d9fabdeaf9951995bd0": {
      "model_module": "@jupyter-widgets/base",
      "model_module_version": "2.0.0",
      "model_name": "LayoutModel",
      "state": {
       "_model_module": "@jupyter-widgets/base",
       "_model_module_version": "2.0.0",
       "_model_name": "LayoutModel",
       "_view_count": null,
       "_view_module": "@jupyter-widgets/base",
       "_view_module_version": "2.0.0",
       "_view_name": "LayoutView",
       "align_content": null,
       "align_items": null,
       "align_self": null,
       "border_bottom": null,
       "border_left": null,
       "border_right": null,
       "border_top": null,
       "bottom": null,
       "display": null,
       "flex": null,
       "flex_flow": null,
       "grid_area": null,
       "grid_auto_columns": null,
       "grid_auto_flow": null,
       "grid_auto_rows": null,
       "grid_column": null,
       "grid_gap": null,
       "grid_row": null,
       "grid_template_areas": null,
       "grid_template_columns": null,
       "grid_template_rows": null,
       "height": null,
       "justify_content": null,
       "justify_items": null,
       "left": null,
       "margin": null,
       "max_height": null,
       "max_width": null,
       "min_height": null,
       "min_width": null,
       "object_fit": null,
       "object_position": null,
       "order": null,
       "overflow": null,
       "padding": null,
       "right": null,
       "top": null,
       "visibility": null,
       "width": null
      }
     },
     "79072b9832f64edf9c607b516a551fd4": {
      "model_module": "@jupyter-widgets/base",
      "model_module_version": "2.0.0",
      "model_name": "LayoutModel",
      "state": {
       "_model_module": "@jupyter-widgets/base",
       "_model_module_version": "2.0.0",
       "_model_name": "LayoutModel",
       "_view_count": null,
       "_view_module": "@jupyter-widgets/base",
       "_view_module_version": "2.0.0",
       "_view_name": "LayoutView",
       "align_content": null,
       "align_items": null,
       "align_self": null,
       "border_bottom": null,
       "border_left": null,
       "border_right": null,
       "border_top": null,
       "bottom": null,
       "display": null,
       "flex": null,
       "flex_flow": null,
       "grid_area": null,
       "grid_auto_columns": null,
       "grid_auto_flow": null,
       "grid_auto_rows": null,
       "grid_column": null,
       "grid_gap": null,
       "grid_row": null,
       "grid_template_areas": null,
       "grid_template_columns": null,
       "grid_template_rows": null,
       "height": null,
       "justify_content": null,
       "justify_items": null,
       "left": null,
       "margin": null,
       "max_height": null,
       "max_width": null,
       "min_height": null,
       "min_width": null,
       "object_fit": null,
       "object_position": null,
       "order": null,
       "overflow": null,
       "padding": null,
       "right": null,
       "top": null,
       "visibility": null,
       "width": null
      }
     },
     "7d302132865b41e5bd12be86601bd9eb": {
      "model_module": "@jupyter-widgets/base",
      "model_module_version": "2.0.0",
      "model_name": "LayoutModel",
      "state": {
       "_model_module": "@jupyter-widgets/base",
       "_model_module_version": "2.0.0",
       "_model_name": "LayoutModel",
       "_view_count": null,
       "_view_module": "@jupyter-widgets/base",
       "_view_module_version": "2.0.0",
       "_view_name": "LayoutView",
       "align_content": null,
       "align_items": null,
       "align_self": null,
       "border_bottom": null,
       "border_left": null,
       "border_right": null,
       "border_top": null,
       "bottom": null,
       "display": null,
       "flex": null,
       "flex_flow": null,
       "grid_area": null,
       "grid_auto_columns": null,
       "grid_auto_flow": null,
       "grid_auto_rows": null,
       "grid_column": null,
       "grid_gap": null,
       "grid_row": null,
       "grid_template_areas": null,
       "grid_template_columns": null,
       "grid_template_rows": null,
       "height": null,
       "justify_content": null,
       "justify_items": null,
       "left": null,
       "margin": null,
       "max_height": null,
       "max_width": null,
       "min_height": null,
       "min_width": null,
       "object_fit": null,
       "object_position": null,
       "order": null,
       "overflow": null,
       "padding": null,
       "right": null,
       "top": null,
       "visibility": null,
       "width": null
      }
     },
     "7d8bf5b4a5ac4d1597d0b5b3c59e3b4e": {
      "model_module": "@jupyter-widgets/controls",
      "model_module_version": "2.0.0",
      "model_name": "HBoxModel",
      "state": {
       "_dom_classes": [],
       "_model_module": "@jupyter-widgets/controls",
       "_model_module_version": "2.0.0",
       "_model_name": "HBoxModel",
       "_view_count": null,
       "_view_module": "@jupyter-widgets/controls",
       "_view_module_version": "2.0.0",
       "_view_name": "HBoxView",
       "box_style": "",
       "children": [
        "IPY_MODEL_15e76ade6e7b46358ff45111dbf270dc",
        "IPY_MODEL_8cb194d3042343dd868f03955b32afd0",
        "IPY_MODEL_453dbd1de4fd4c76a7e59caa90f3e6b4"
       ],
       "layout": "IPY_MODEL_4ef31e1cafac44e087103f88f0c24c52",
       "tabbable": null,
       "tooltip": null
      }
     },
     "822337c60c7a4e549aa40d27914f6ad9": {
      "model_module": "@jupyter-widgets/base",
      "model_module_version": "2.0.0",
      "model_name": "LayoutModel",
      "state": {
       "_model_module": "@jupyter-widgets/base",
       "_model_module_version": "2.0.0",
       "_model_name": "LayoutModel",
       "_view_count": null,
       "_view_module": "@jupyter-widgets/base",
       "_view_module_version": "2.0.0",
       "_view_name": "LayoutView",
       "align_content": null,
       "align_items": null,
       "align_self": null,
       "border_bottom": null,
       "border_left": null,
       "border_right": null,
       "border_top": null,
       "bottom": null,
       "display": null,
       "flex": null,
       "flex_flow": null,
       "grid_area": null,
       "grid_auto_columns": null,
       "grid_auto_flow": null,
       "grid_auto_rows": null,
       "grid_column": null,
       "grid_gap": null,
       "grid_row": null,
       "grid_template_areas": null,
       "grid_template_columns": null,
       "grid_template_rows": null,
       "height": null,
       "justify_content": null,
       "justify_items": null,
       "left": null,
       "margin": null,
       "max_height": null,
       "max_width": null,
       "min_height": null,
       "min_width": null,
       "object_fit": null,
       "object_position": null,
       "order": null,
       "overflow": null,
       "padding": null,
       "right": null,
       "top": null,
       "visibility": null,
       "width": null
      }
     },
     "837b45461f5e41548a6d875d586a19ce": {
      "model_module": "@jupyter-widgets/base",
      "model_module_version": "2.0.0",
      "model_name": "LayoutModel",
      "state": {
       "_model_module": "@jupyter-widgets/base",
       "_model_module_version": "2.0.0",
       "_model_name": "LayoutModel",
       "_view_count": null,
       "_view_module": "@jupyter-widgets/base",
       "_view_module_version": "2.0.0",
       "_view_name": "LayoutView",
       "align_content": null,
       "align_items": null,
       "align_self": null,
       "border_bottom": null,
       "border_left": null,
       "border_right": null,
       "border_top": null,
       "bottom": null,
       "display": null,
       "flex": null,
       "flex_flow": null,
       "grid_area": null,
       "grid_auto_columns": null,
       "grid_auto_flow": null,
       "grid_auto_rows": null,
       "grid_column": null,
       "grid_gap": null,
       "grid_row": null,
       "grid_template_areas": null,
       "grid_template_columns": null,
       "grid_template_rows": null,
       "height": null,
       "justify_content": null,
       "justify_items": null,
       "left": null,
       "margin": null,
       "max_height": null,
       "max_width": null,
       "min_height": null,
       "min_width": null,
       "object_fit": null,
       "object_position": null,
       "order": null,
       "overflow": null,
       "padding": null,
       "right": null,
       "top": null,
       "visibility": null,
       "width": null
      }
     },
     "8cb194d3042343dd868f03955b32afd0": {
      "model_module": "@jupyter-widgets/controls",
      "model_module_version": "2.0.0",
      "model_name": "FloatProgressModel",
      "state": {
       "_dom_classes": [],
       "_model_module": "@jupyter-widgets/controls",
       "_model_module_version": "2.0.0",
       "_model_name": "FloatProgressModel",
       "_view_count": null,
       "_view_module": "@jupyter-widgets/controls",
       "_view_module_version": "2.0.0",
       "_view_name": "ProgressView",
       "bar_style": "success",
       "description": "",
       "description_allow_html": false,
       "layout": "IPY_MODEL_387b84a30f2543648be5110481939ac3",
       "max": 36676.0,
       "min": 0.0,
       "orientation": "horizontal",
       "style": "IPY_MODEL_4d8691f9e68a469980c0d24b438cc8fb",
       "tabbable": null,
       "tooltip": null,
       "value": 36676.0
      }
     },
     "8eec7a7b60d54aafa8400d885007d29b": {
      "model_module": "@jupyter-widgets/base",
      "model_module_version": "2.0.0",
      "model_name": "LayoutModel",
      "state": {
       "_model_module": "@jupyter-widgets/base",
       "_model_module_version": "2.0.0",
       "_model_name": "LayoutModel",
       "_view_count": null,
       "_view_module": "@jupyter-widgets/base",
       "_view_module_version": "2.0.0",
       "_view_name": "LayoutView",
       "align_content": null,
       "align_items": null,
       "align_self": null,
       "border_bottom": null,
       "border_left": null,
       "border_right": null,
       "border_top": null,
       "bottom": null,
       "display": null,
       "flex": null,
       "flex_flow": null,
       "grid_area": null,
       "grid_auto_columns": null,
       "grid_auto_flow": null,
       "grid_auto_rows": null,
       "grid_column": null,
       "grid_gap": null,
       "grid_row": null,
       "grid_template_areas": null,
       "grid_template_columns": null,
       "grid_template_rows": null,
       "height": null,
       "justify_content": null,
       "justify_items": null,
       "left": null,
       "margin": null,
       "max_height": null,
       "max_width": null,
       "min_height": null,
       "min_width": null,
       "object_fit": null,
       "object_position": null,
       "order": null,
       "overflow": null,
       "padding": null,
       "right": null,
       "top": null,
       "visibility": null,
       "width": null
      }
     },
     "9342ea04777b415ca7a514592ac0aaa4": {
      "model_module": "@jupyter-widgets/base",
      "model_module_version": "2.0.0",
      "model_name": "LayoutModel",
      "state": {
       "_model_module": "@jupyter-widgets/base",
       "_model_module_version": "2.0.0",
       "_model_name": "LayoutModel",
       "_view_count": null,
       "_view_module": "@jupyter-widgets/base",
       "_view_module_version": "2.0.0",
       "_view_name": "LayoutView",
       "align_content": null,
       "align_items": null,
       "align_self": null,
       "border_bottom": null,
       "border_left": null,
       "border_right": null,
       "border_top": null,
       "bottom": null,
       "display": null,
       "flex": null,
       "flex_flow": null,
       "grid_area": null,
       "grid_auto_columns": null,
       "grid_auto_flow": null,
       "grid_auto_rows": null,
       "grid_column": null,
       "grid_gap": null,
       "grid_row": null,
       "grid_template_areas": null,
       "grid_template_columns": null,
       "grid_template_rows": null,
       "height": null,
       "justify_content": null,
       "justify_items": null,
       "left": null,
       "margin": null,
       "max_height": null,
       "max_width": null,
       "min_height": null,
       "min_width": null,
       "object_fit": null,
       "object_position": null,
       "order": null,
       "overflow": null,
       "padding": null,
       "right": null,
       "top": null,
       "visibility": null,
       "width": null
      }
     },
     "938c8074d5a1489a8e802ff6f2ff35b2": {
      "model_module": "@jupyter-widgets/controls",
      "model_module_version": "2.0.0",
      "model_name": "HTMLStyleModel",
      "state": {
       "_model_module": "@jupyter-widgets/controls",
       "_model_module_version": "2.0.0",
       "_model_name": "HTMLStyleModel",
       "_view_count": null,
       "_view_module": "@jupyter-widgets/base",
       "_view_module_version": "2.0.0",
       "_view_name": "StyleView",
       "background": null,
       "description_width": "",
       "font_size": null,
       "text_color": null
      }
     },
     "97c7582914c2415c89b3c09a6b886bdd": {
      "model_module": "@jupyter-widgets/controls",
      "model_module_version": "2.0.0",
      "model_name": "HTMLModel",
      "state": {
       "_dom_classes": [],
       "_model_module": "@jupyter-widgets/controls",
       "_model_module_version": "2.0.0",
       "_model_name": "HTMLModel",
       "_view_count": null,
       "_view_module": "@jupyter-widgets/controls",
       "_view_module_version": "2.0.0",
       "_view_name": "HTMLView",
       "description": "",
       "description_allow_html": false,
       "layout": "IPY_MODEL_8eec7a7b60d54aafa8400d885007d29b",
       "placeholder": "​",
       "style": "IPY_MODEL_5e66780ca06d43dd9266e7f3cc3cfeee",
       "tabbable": null,
       "tooltip": null,
       "value": " 20/20 [00:00&lt;00:00, 1846.17 examples/s]"
      }
     },
     "9de0c8bdf3ee4ff78effaf22c8f001fa": {
      "model_module": "@jupyter-widgets/controls",
      "model_module_version": "2.0.0",
      "model_name": "HTMLStyleModel",
      "state": {
       "_model_module": "@jupyter-widgets/controls",
       "_model_module_version": "2.0.0",
       "_model_name": "HTMLStyleModel",
       "_view_count": null,
       "_view_module": "@jupyter-widgets/base",
       "_view_module_version": "2.0.0",
       "_view_name": "StyleView",
       "background": null,
       "description_width": "",
       "font_size": null,
       "text_color": null
      }
     },
     "af9b0f305d8e48309f3e7183103c1201": {
      "model_module": "@jupyter-widgets/controls",
      "model_module_version": "2.0.0",
      "model_name": "FloatProgressModel",
      "state": {
       "_dom_classes": [],
       "_model_module": "@jupyter-widgets/controls",
       "_model_module_version": "2.0.0",
       "_model_name": "FloatProgressModel",
       "_view_count": null,
       "_view_module": "@jupyter-widgets/controls",
       "_view_module_version": "2.0.0",
       "_view_name": "ProgressView",
       "bar_style": "success",
       "description": "",
       "description_allow_html": false,
       "layout": "IPY_MODEL_837b45461f5e41548a6d875d586a19ce",
       "max": 36676.0,
       "min": 0.0,
       "orientation": "horizontal",
       "style": "IPY_MODEL_21b170cce6cd45c3b0c29149d89c46c1",
       "tabbable": null,
       "tooltip": null,
       "value": 36676.0
      }
     },
     "b85a9ff48dc941c59dbbd9537fe7a538": {
      "model_module": "@jupyter-widgets/controls",
      "model_module_version": "2.0.0",
      "model_name": "ProgressStyleModel",
      "state": {
       "_model_module": "@jupyter-widgets/controls",
       "_model_module_version": "2.0.0",
       "_model_name": "ProgressStyleModel",
       "_view_count": null,
       "_view_module": "@jupyter-widgets/base",
       "_view_module_version": "2.0.0",
       "_view_name": "StyleView",
       "bar_color": null,
       "description_width": ""
      }
     },
     "be8fc742cbba4d96b04a72fdb4741091": {
      "model_module": "@jupyter-widgets/controls",
      "model_module_version": "2.0.0",
      "model_name": "HBoxModel",
      "state": {
       "_dom_classes": [],
       "_model_module": "@jupyter-widgets/controls",
       "_model_module_version": "2.0.0",
       "_model_name": "HBoxModel",
       "_view_count": null,
       "_view_module": "@jupyter-widgets/controls",
       "_view_module_version": "2.0.0",
       "_view_name": "HBoxView",
       "box_style": "",
       "children": [
        "IPY_MODEL_d42bcd143d224564a26520f5e787bb53",
        "IPY_MODEL_f4ef3878f519401c950343063b4199c3",
        "IPY_MODEL_97c7582914c2415c89b3c09a6b886bdd"
       ],
       "layout": "IPY_MODEL_134749a06d1d4e5bb75201546fbdd945",
       "tabbable": null,
       "tooltip": null
      }
     },
     "bf366831c6ae435c8083c75bc1e9a65e": {
      "model_module": "@jupyter-widgets/controls",
      "model_module_version": "2.0.0",
      "model_name": "ProgressStyleModel",
      "state": {
       "_model_module": "@jupyter-widgets/controls",
       "_model_module_version": "2.0.0",
       "_model_name": "ProgressStyleModel",
       "_view_count": null,
       "_view_module": "@jupyter-widgets/base",
       "_view_module_version": "2.0.0",
       "_view_name": "StyleView",
       "bar_color": null,
       "description_width": ""
      }
     },
     "c4e1eed9a5e942b7a9c6f80c3278d6da": {
      "model_module": "@jupyter-widgets/base",
      "model_module_version": "2.0.0",
      "model_name": "LayoutModel",
      "state": {
       "_model_module": "@jupyter-widgets/base",
       "_model_module_version": "2.0.0",
       "_model_name": "LayoutModel",
       "_view_count": null,
       "_view_module": "@jupyter-widgets/base",
       "_view_module_version": "2.0.0",
       "_view_name": "LayoutView",
       "align_content": null,
       "align_items": null,
       "align_self": null,
       "border_bottom": null,
       "border_left": null,
       "border_right": null,
       "border_top": null,
       "bottom": null,
       "display": null,
       "flex": null,
       "flex_flow": null,
       "grid_area": null,
       "grid_auto_columns": null,
       "grid_auto_flow": null,
       "grid_auto_rows": null,
       "grid_column": null,
       "grid_gap": null,
       "grid_row": null,
       "grid_template_areas": null,
       "grid_template_columns": null,
       "grid_template_rows": null,
       "height": null,
       "justify_content": null,
       "justify_items": null,
       "left": null,
       "margin": null,
       "max_height": null,
       "max_width": null,
       "min_height": null,
       "min_width": null,
       "object_fit": null,
       "object_position": null,
       "order": null,
       "overflow": null,
       "padding": null,
       "right": null,
       "top": null,
       "visibility": null,
       "width": null
      }
     },
     "c847ffade1e9474881e56261d74e2deb": {
      "model_module": "@jupyter-widgets/controls",
      "model_module_version": "2.0.0",
      "model_name": "HTMLModel",
      "state": {
       "_dom_classes": [],
       "_model_module": "@jupyter-widgets/controls",
       "_model_module_version": "2.0.0",
       "_model_name": "HTMLModel",
       "_view_count": null,
       "_view_module": "@jupyter-widgets/controls",
       "_view_module_version": "2.0.0",
       "_view_name": "HTMLView",
       "description": "",
       "description_allow_html": false,
       "layout": "IPY_MODEL_79072b9832f64edf9c607b516a551fd4",
       "placeholder": "​",
       "style": "IPY_MODEL_0ecae0646fd5498081d43a8e8b7079e6",
       "tabbable": null,
       "tooltip": null,
       "value": " 20/20 [00:00&lt;00:00, 1236.60 examples/s]"
      }
     },
     "cd84c1d657fe48069aa8c040fe6b007b": {
      "model_module": "@jupyter-widgets/controls",
      "model_module_version": "2.0.0",
      "model_name": "HTMLModel",
      "state": {
       "_dom_classes": [],
       "_model_module": "@jupyter-widgets/controls",
       "_model_module_version": "2.0.0",
       "_model_name": "HTMLModel",
       "_view_count": null,
       "_view_module": "@jupyter-widgets/controls",
       "_view_module_version": "2.0.0",
       "_view_name": "HTMLView",
       "description": "",
       "description_allow_html": false,
       "layout": "IPY_MODEL_48c5e2d1690742c4a648b7b31748af33",
       "placeholder": "​",
       "style": "IPY_MODEL_715a5c7ca98c4a428ade69ef5d95ef8d",
       "tabbable": null,
       "tooltip": null,
       "value": "Map: 100%"
      }
     },
     "cfb93b2a4f22431086dd34f81a4d0fdc": {
      "model_module": "@jupyter-widgets/controls",
      "model_module_version": "2.0.0",
      "model_name": "HTMLModel",
      "state": {
       "_dom_classes": [],
       "_model_module": "@jupyter-widgets/controls",
       "_model_module_version": "2.0.0",
       "_model_name": "HTMLModel",
       "_view_count": null,
       "_view_module": "@jupyter-widgets/controls",
       "_view_module_version": "2.0.0",
       "_view_name": "HTMLView",
       "description": "",
       "description_allow_html": false,
       "layout": "IPY_MODEL_dd358463fb8745468a36ec5f49b293c2",
       "placeholder": "​",
       "style": "IPY_MODEL_2bb4e196f6264a638b2e407a9978f4c8",
       "tabbable": null,
       "tooltip": null,
       "value": " 5/5 [02:00&lt;00:00, 28.95s/it]"
      }
     },
     "d42bcd143d224564a26520f5e787bb53": {
      "model_module": "@jupyter-widgets/controls",
      "model_module_version": "2.0.0",
      "model_name": "HTMLModel",
      "state": {
       "_dom_classes": [],
       "_model_module": "@jupyter-widgets/controls",
       "_model_module_version": "2.0.0",
       "_model_name": "HTMLModel",
       "_view_count": null,
       "_view_module": "@jupyter-widgets/controls",
       "_view_module_version": "2.0.0",
       "_view_name": "HTMLView",
       "description": "",
       "description_allow_html": false,
       "layout": "IPY_MODEL_d65c39c0c91441c29916bd3d4817bed7",
       "placeholder": "​",
       "style": "IPY_MODEL_fd19d40a8a9b4cc68d54b203aa248ad8",
       "tabbable": null,
       "tooltip": null,
       "value": "Truncating eval dataset: 100%"
      }
     },
     "d65c39c0c91441c29916bd3d4817bed7": {
      "model_module": "@jupyter-widgets/base",
      "model_module_version": "2.0.0",
      "model_name": "LayoutModel",
      "state": {
       "_model_module": "@jupyter-widgets/base",
       "_model_module_version": "2.0.0",
       "_model_name": "LayoutModel",
       "_view_count": null,
       "_view_module": "@jupyter-widgets/base",
       "_view_module_version": "2.0.0",
       "_view_name": "LayoutView",
       "align_content": null,
       "align_items": null,
       "align_self": null,
       "border_bottom": null,
       "border_left": null,
       "border_right": null,
       "border_top": null,
       "bottom": null,
       "display": null,
       "flex": null,
       "flex_flow": null,
       "grid_area": null,
       "grid_auto_columns": null,
       "grid_auto_flow": null,
       "grid_auto_rows": null,
       "grid_column": null,
       "grid_gap": null,
       "grid_row": null,
       "grid_template_areas": null,
       "grid_template_columns": null,
       "grid_template_rows": null,
       "height": null,
       "justify_content": null,
       "justify_items": null,
       "left": null,
       "margin": null,
       "max_height": null,
       "max_width": null,
       "min_height": null,
       "min_width": null,
       "object_fit": null,
       "object_position": null,
       "order": null,
       "overflow": null,
       "padding": null,
       "right": null,
       "top": null,
       "visibility": null,
       "width": null
      }
     },
     "dbbaac1be6ac41879fbaf485aa1532b5": {
      "model_module": "@jupyter-widgets/controls",
      "model_module_version": "2.0.0",
      "model_name": "HBoxModel",
      "state": {
       "_dom_classes": [],
       "_model_module": "@jupyter-widgets/controls",
       "_model_module_version": "2.0.0",
       "_model_name": "HBoxModel",
       "_view_count": null,
       "_view_module": "@jupyter-widgets/controls",
       "_view_module_version": "2.0.0",
       "_view_name": "HBoxView",
       "box_style": "",
       "children": [
        "IPY_MODEL_cd84c1d657fe48069aa8c040fe6b007b",
        "IPY_MODEL_af9b0f305d8e48309f3e7183103c1201",
        "IPY_MODEL_2aba700d1af448658ace4e6058952b2a"
       ],
       "layout": "IPY_MODEL_f93243941aa84c98ae66896764c84506",
       "tabbable": null,
       "tooltip": null
      }
     },
     "dd358463fb8745468a36ec5f49b293c2": {
      "model_module": "@jupyter-widgets/base",
      "model_module_version": "2.0.0",
      "model_name": "LayoutModel",
      "state": {
       "_model_module": "@jupyter-widgets/base",
       "_model_module_version": "2.0.0",
       "_model_name": "LayoutModel",
       "_view_count": null,
       "_view_module": "@jupyter-widgets/base",
       "_view_module_version": "2.0.0",
       "_view_name": "LayoutView",
       "align_content": null,
       "align_items": null,
       "align_self": null,
       "border_bottom": null,
       "border_left": null,
       "border_right": null,
       "border_top": null,
       "bottom": null,
       "display": null,
       "flex": null,
       "flex_flow": null,
       "grid_area": null,
       "grid_auto_columns": null,
       "grid_auto_flow": null,
       "grid_auto_rows": null,
       "grid_column": null,
       "grid_gap": null,
       "grid_row": null,
       "grid_template_areas": null,
       "grid_template_columns": null,
       "grid_template_rows": null,
       "height": null,
       "justify_content": null,
       "justify_items": null,
       "left": null,
       "margin": null,
       "max_height": null,
       "max_width": null,
       "min_height": null,
       "min_width": null,
       "object_fit": null,
       "object_position": null,
       "order": null,
       "overflow": null,
       "padding": null,
       "right": null,
       "top": null,
       "visibility": null,
       "width": null
      }
     },
     "e496aef2ce944312b777d334d33ddb2c": {
      "model_module": "@jupyter-widgets/base",
      "model_module_version": "2.0.0",
      "model_name": "LayoutModel",
      "state": {
       "_model_module": "@jupyter-widgets/base",
       "_model_module_version": "2.0.0",
       "_model_name": "LayoutModel",
       "_view_count": null,
       "_view_module": "@jupyter-widgets/base",
       "_view_module_version": "2.0.0",
       "_view_name": "LayoutView",
       "align_content": null,
       "align_items": null,
       "align_self": null,
       "border_bottom": null,
       "border_left": null,
       "border_right": null,
       "border_top": null,
       "bottom": null,
       "display": null,
       "flex": null,
       "flex_flow": null,
       "grid_area": null,
       "grid_auto_columns": null,
       "grid_auto_flow": null,
       "grid_auto_rows": null,
       "grid_column": null,
       "grid_gap": null,
       "grid_row": null,
       "grid_template_areas": null,
       "grid_template_columns": null,
       "grid_template_rows": null,
       "height": null,
       "justify_content": null,
       "justify_items": null,
       "left": null,
       "margin": null,
       "max_height": null,
       "max_width": null,
       "min_height": null,
       "min_width": null,
       "object_fit": null,
       "object_position": null,
       "order": null,
       "overflow": null,
       "padding": null,
       "right": null,
       "top": null,
       "visibility": null,
       "width": null
      }
     },
     "f2bd530f386c4c81bd81908dd81ba012": {
      "model_module": "@jupyter-widgets/controls",
      "model_module_version": "2.0.0",
      "model_name": "HTMLStyleModel",
      "state": {
       "_model_module": "@jupyter-widgets/controls",
       "_model_module_version": "2.0.0",
       "_model_name": "HTMLStyleModel",
       "_view_count": null,
       "_view_module": "@jupyter-widgets/base",
       "_view_module_version": "2.0.0",
       "_view_name": "StyleView",
       "background": null,
       "description_width": "",
       "font_size": null,
       "text_color": null
      }
     },
     "f4ef3878f519401c950343063b4199c3": {
      "model_module": "@jupyter-widgets/controls",
      "model_module_version": "2.0.0",
      "model_name": "FloatProgressModel",
      "state": {
       "_dom_classes": [],
       "_model_module": "@jupyter-widgets/controls",
       "_model_module_version": "2.0.0",
       "_model_name": "FloatProgressModel",
       "_view_count": null,
       "_view_module": "@jupyter-widgets/controls",
       "_view_module_version": "2.0.0",
       "_view_name": "ProgressView",
       "bar_style": "success",
       "description": "",
       "description_allow_html": false,
       "layout": "IPY_MODEL_e496aef2ce944312b777d334d33ddb2c",
       "max": 20.0,
       "min": 0.0,
       "orientation": "horizontal",
       "style": "IPY_MODEL_f84937fb8b2144ee97e21b80ea63ba93",
       "tabbable": null,
       "tooltip": null,
       "value": 20.0
      }
     },
     "f6ce7919cdb24c6582b8aa658ce2fb1f": {
      "model_module": "@jupyter-widgets/controls",
      "model_module_version": "2.0.0",
      "model_name": "HTMLModel",
      "state": {
       "_dom_classes": [],
       "_model_module": "@jupyter-widgets/controls",
       "_model_module_version": "2.0.0",
       "_model_name": "HTMLModel",
       "_view_count": null,
       "_view_module": "@jupyter-widgets/controls",
       "_view_module_version": "2.0.0",
       "_view_name": "HTMLView",
       "description": "",
       "description_allow_html": false,
       "layout": "IPY_MODEL_786bc3510ce64d9fabdeaf9951995bd0",
       "placeholder": "​",
       "style": "IPY_MODEL_9de0c8bdf3ee4ff78effaf22c8f001fa",
       "tabbable": null,
       "tooltip": null,
       "value": "Loading checkpoint shards: 100%"
      }
     },
     "f84937fb8b2144ee97e21b80ea63ba93": {
      "model_module": "@jupyter-widgets/controls",
      "model_module_version": "2.0.0",
      "model_name": "ProgressStyleModel",
      "state": {
       "_model_module": "@jupyter-widgets/controls",
       "_model_module_version": "2.0.0",
       "_model_name": "ProgressStyleModel",
       "_view_count": null,
       "_view_module": "@jupyter-widgets/base",
       "_view_module_version": "2.0.0",
       "_view_name": "StyleView",
       "bar_color": null,
       "description_width": ""
      }
     },
     "f93243941aa84c98ae66896764c84506": {
      "model_module": "@jupyter-widgets/base",
      "model_module_version": "2.0.0",
      "model_name": "LayoutModel",
      "state": {
       "_model_module": "@jupyter-widgets/base",
       "_model_module_version": "2.0.0",
       "_model_name": "LayoutModel",
       "_view_count": null,
       "_view_module": "@jupyter-widgets/base",
       "_view_module_version": "2.0.0",
       "_view_name": "LayoutView",
       "align_content": null,
       "align_items": null,
       "align_self": null,
       "border_bottom": null,
       "border_left": null,
       "border_right": null,
       "border_top": null,
       "bottom": null,
       "display": null,
       "flex": null,
       "flex_flow": null,
       "grid_area": null,
       "grid_auto_columns": null,
       "grid_auto_flow": null,
       "grid_auto_rows": null,
       "grid_column": null,
       "grid_gap": null,
       "grid_row": null,
       "grid_template_areas": null,
       "grid_template_columns": null,
       "grid_template_rows": null,
       "height": null,
       "justify_content": null,
       "justify_items": null,
       "left": null,
       "margin": null,
       "max_height": null,
       "max_width": null,
       "min_height": null,
       "min_width": null,
       "object_fit": null,
       "object_position": null,
       "order": null,
       "overflow": null,
       "padding": null,
       "right": null,
       "top": null,
       "visibility": null,
       "width": null
      }
     },
     "fb1fb151983f446386c2431e83eddb9b": {
      "model_module": "@jupyter-widgets/controls",
      "model_module_version": "2.0.0",
      "model_name": "HBoxModel",
      "state": {
       "_dom_classes": [],
       "_model_module": "@jupyter-widgets/controls",
       "_model_module_version": "2.0.0",
       "_model_name": "HBoxModel",
       "_view_count": null,
       "_view_module": "@jupyter-widgets/controls",
       "_view_module_version": "2.0.0",
       "_view_name": "HBoxView",
       "box_style": "",
       "children": [
        "IPY_MODEL_ff027c65a7a445828982141b05720c09",
        "IPY_MODEL_0a77baa05a84416092c407604a761828",
        "IPY_MODEL_c847ffade1e9474881e56261d74e2deb"
       ],
       "layout": "IPY_MODEL_2b0b5b6105b445f3bfa6357c4230cf25",
       "tabbable": null,
       "tooltip": null
      }
     },
     "fd19d40a8a9b4cc68d54b203aa248ad8": {
      "model_module": "@jupyter-widgets/controls",
      "model_module_version": "2.0.0",
      "model_name": "HTMLStyleModel",
      "state": {
       "_model_module": "@jupyter-widgets/controls",
       "_model_module_version": "2.0.0",
       "_model_name": "HTMLStyleModel",
       "_view_count": null,
       "_view_module": "@jupyter-widgets/base",
       "_view_module_version": "2.0.0",
       "_view_name": "StyleView",
       "background": null,
       "description_width": "",
       "font_size": null,
       "text_color": null
      }
     },
     "ff027c65a7a445828982141b05720c09": {
      "model_module": "@jupyter-widgets/controls",
      "model_module_version": "2.0.0",
      "model_name": "HTMLModel",
      "state": {
       "_dom_classes": [],
       "_model_module": "@jupyter-widgets/controls",
       "_model_module_version": "2.0.0",
       "_model_name": "HTMLModel",
       "_view_count": null,
       "_view_module": "@jupyter-widgets/controls",
       "_view_module_version": "2.0.0",
       "_view_name": "HTMLView",
       "description": "",
       "description_allow_html": false,
       "layout": "IPY_MODEL_9342ea04777b415ca7a514592ac0aaa4",
       "placeholder": "​",
       "style": "IPY_MODEL_5d0f413b8b854c92b5ce92536225bca0",
       "tabbable": null,
       "tooltip": null,
       "value": "Map: 100%"
      }
     },
     "ff256de43f594777b5e8471908c6068b": {
      "model_module": "@jupyter-widgets/base",
      "model_module_version": "2.0.0",
      "model_name": "LayoutModel",
      "state": {
       "_model_module": "@jupyter-widgets/base",
       "_model_module_version": "2.0.0",
       "_model_name": "LayoutModel",
       "_view_count": null,
       "_view_module": "@jupyter-widgets/base",
       "_view_module_version": "2.0.0",
       "_view_name": "LayoutView",
       "align_content": null,
       "align_items": null,
       "align_self": null,
       "border_bottom": null,
       "border_left": null,
       "border_right": null,
       "border_top": null,
       "bottom": null,
       "display": null,
       "flex": null,
       "flex_flow": null,
       "grid_area": null,
       "grid_auto_columns": null,
       "grid_auto_flow": null,
       "grid_auto_rows": null,
       "grid_column": null,
       "grid_gap": null,
       "grid_row": null,
       "grid_template_areas": null,
       "grid_template_columns": null,
       "grid_template_rows": null,
       "height": null,
       "justify_content": null,
       "justify_items": null,
       "left": null,
       "margin": null,
       "max_height": null,
       "max_width": null,
       "min_height": null,
       "min_width": null,
       "object_fit": null,
       "object_position": null,
       "order": null,
       "overflow": null,
       "padding": null,
       "right": null,
       "top": null,
       "visibility": null,
       "width": null
      }
     }
    },
    "version_major": 2,
    "version_minor": 0
   }
  }
 },
 "nbformat": 4,
 "nbformat_minor": 5
}
