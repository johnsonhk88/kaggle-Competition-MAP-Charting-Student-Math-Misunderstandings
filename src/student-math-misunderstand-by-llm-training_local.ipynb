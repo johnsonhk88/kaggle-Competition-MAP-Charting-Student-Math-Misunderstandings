{
 "cells": [
  {
   "cell_type": "markdown",
   "metadata": {},
   "source": [
    "# Kaggle Competition Info\n",
    "In this competition, you’ll develop an NLP model driven by ML to accurately predict students’ potential math misconceptions based on student explanations in open-ended responses. This solution will suggest candidate misconceptions for these explanations, making it easier for teachers to identify and address students’ incorrect thinking, which is critical to improving student math learning.  \n",
    "## Offical Link\n",
    "https://www.kaggle.com/competitions/map-charting-student-math-misunderstandings "
   ]
  },
  {
   "cell_type": "markdown",
   "metadata": {},
   "source": [
    "# Recommand install package first at Add-ons --> Install Dependence\n",
    "\n",
    "```python\n",
    "!pip install -U bitsandbytes==0.47.0\n",
    "!pip install -U peft==0.17.0\n",
    "!pip install -U trl==0.21.0\n",
    "!pip install -U accelerate==1.10.0\n",
    "!pip install transformers==4.55.0\n",
    "!pip install langchain==0.3.27\n",
    "!pip install -U langchain-core==0.3.74\n",
    "!pip install langchain-text-splitters==0.3.9\n",
    "!pip install langchain-community==0.3.27\n",
    "!pip install -U deepeval==3.3.9\n",
    "```"
   ]
  },
  {
   "cell_type": "code",
   "execution_count": 11,
   "metadata": {
    "scrolled": true,
    "tags": []
   },
   "outputs": [
    {
     "name": "stdout",
     "output_type": "stream",
     "text": [
      "Collecting git+https://github.com/huggingface/transformers.git\n",
      "  Cloning https://github.com/huggingface/transformers.git to /tmp/pip-req-build-xohej4d2\n",
      "  Running command git clone --filter=blob:none --quiet https://github.com/huggingface/transformers.git /tmp/pip-req-build-xohej4d2\n",
      "  Resolved https://github.com/huggingface/transformers.git to commit 071eb5334f5a9ac2c7a13515219be8a272388ec6\n",
      "  Installing build dependencies ... \u001b[?25ldone\n",
      "\u001b[?25h  Getting requirements to build wheel ... \u001b[?25ldone\n",
      "\u001b[?25h  Preparing metadata (pyproject.toml) ... \u001b[?25ldone\n",
      "\u001b[?25hRequirement already satisfied: filelock in /home/johnsonhk88/.pyenv/versions/3.11.11/lib/python3.11/site-packages (from transformers==4.57.0.dev0) (3.18.0)\n",
      "Requirement already satisfied: huggingface-hub==1.0.0.rc1 in /home/johnsonhk88/.pyenv/versions/3.11.11/lib/python3.11/site-packages (from transformers==4.57.0.dev0) (1.0.0rc1)\n",
      "Requirement already satisfied: numpy>=1.17 in /home/johnsonhk88/.pyenv/versions/3.11.11/lib/python3.11/site-packages (from transformers==4.57.0.dev0) (2.1.3)\n",
      "Requirement already satisfied: packaging>=20.0 in /home/johnsonhk88/.pyenv/versions/3.11.11/lib/python3.11/site-packages (from transformers==4.57.0.dev0) (24.2)\n",
      "Requirement already satisfied: pyyaml>=5.1 in /home/johnsonhk88/.pyenv/versions/3.11.11/lib/python3.11/site-packages (from transformers==4.57.0.dev0) (6.0.2)\n",
      "Requirement already satisfied: regex!=2019.12.17 in /home/johnsonhk88/.pyenv/versions/3.11.11/lib/python3.11/site-packages (from transformers==4.57.0.dev0) (2024.11.6)\n",
      "Requirement already satisfied: requests in /home/johnsonhk88/.pyenv/versions/3.11.11/lib/python3.11/site-packages (from transformers==4.57.0.dev0) (2.32.3)\n",
      "Requirement already satisfied: tokenizers<=0.23.0,>=0.22.0 in /home/johnsonhk88/.pyenv/versions/3.11.11/lib/python3.11/site-packages (from transformers==4.57.0.dev0) (0.22.1)\n",
      "Requirement already satisfied: safetensors>=0.4.3 in /home/johnsonhk88/.pyenv/versions/3.11.11/lib/python3.11/site-packages (from transformers==4.57.0.dev0) (0.6.2)\n",
      "Requirement already satisfied: tqdm>=4.27 in /home/johnsonhk88/.pyenv/versions/3.11.11/lib/python3.11/site-packages (from transformers==4.57.0.dev0) (4.67.1)\n",
      "Requirement already satisfied: fsspec>=2023.5.0 in /home/johnsonhk88/.pyenv/versions/3.11.11/lib/python3.11/site-packages (from huggingface-hub==1.0.0.rc1->transformers==4.57.0.dev0) (2025.3.0)\n",
      "Requirement already satisfied: httpx<1,>=0.23.0 in /home/johnsonhk88/.pyenv/versions/3.11.11/lib/python3.11/site-packages (from huggingface-hub==1.0.0.rc1->transformers==4.57.0.dev0) (0.28.1)\n",
      "Requirement already satisfied: typer-slim in /home/johnsonhk88/.pyenv/versions/3.11.11/lib/python3.11/site-packages (from huggingface-hub==1.0.0.rc1->transformers==4.57.0.dev0) (0.19.2)\n",
      "Requirement already satisfied: typing-extensions>=3.7.4.3 in /home/johnsonhk88/.pyenv/versions/3.11.11/lib/python3.11/site-packages (from huggingface-hub==1.0.0.rc1->transformers==4.57.0.dev0) (4.15.0)\n",
      "Requirement already satisfied: hf-xet<2.0.0,>=1.1.3 in /home/johnsonhk88/.pyenv/versions/3.11.11/lib/python3.11/site-packages (from huggingface-hub==1.0.0.rc1->transformers==4.57.0.dev0) (1.1.9)\n",
      "Requirement already satisfied: anyio in /home/johnsonhk88/.pyenv/versions/3.11.11/lib/python3.11/site-packages (from httpx<1,>=0.23.0->huggingface-hub==1.0.0.rc1->transformers==4.57.0.dev0) (4.9.0)\n",
      "Requirement already satisfied: certifi in /home/johnsonhk88/.pyenv/versions/3.11.11/lib/python3.11/site-packages (from httpx<1,>=0.23.0->huggingface-hub==1.0.0.rc1->transformers==4.57.0.dev0) (2025.4.26)\n",
      "Requirement already satisfied: httpcore==1.* in /home/johnsonhk88/.pyenv/versions/3.11.11/lib/python3.11/site-packages (from httpx<1,>=0.23.0->huggingface-hub==1.0.0.rc1->transformers==4.57.0.dev0) (1.0.9)\n",
      "Requirement already satisfied: idna in /home/johnsonhk88/.pyenv/versions/3.11.11/lib/python3.11/site-packages (from httpx<1,>=0.23.0->huggingface-hub==1.0.0.rc1->transformers==4.57.0.dev0) (3.10)\n",
      "Requirement already satisfied: h11>=0.16 in /home/johnsonhk88/.pyenv/versions/3.11.11/lib/python3.11/site-packages (from httpcore==1.*->httpx<1,>=0.23.0->huggingface-hub==1.0.0.rc1->transformers==4.57.0.dev0) (0.16.0)\n",
      "Requirement already satisfied: sniffio>=1.1 in /home/johnsonhk88/.pyenv/versions/3.11.11/lib/python3.11/site-packages (from anyio->httpx<1,>=0.23.0->huggingface-hub==1.0.0.rc1->transformers==4.57.0.dev0) (1.3.1)\n",
      "Requirement already satisfied: charset-normalizer<4,>=2 in /home/johnsonhk88/.pyenv/versions/3.11.11/lib/python3.11/site-packages (from requests->transformers==4.57.0.dev0) (3.4.2)\n",
      "Requirement already satisfied: urllib3<3,>=1.21.1 in /home/johnsonhk88/.pyenv/versions/3.11.11/lib/python3.11/site-packages (from requests->transformers==4.57.0.dev0) (2.4.0)\n",
      "Requirement already satisfied: click>=8.0.0 in /home/johnsonhk88/.pyenv/versions/3.11.11/lib/python3.11/site-packages (from typer-slim->huggingface-hub==1.0.0.rc1->transformers==4.57.0.dev0) (8.1.8)\n",
      "Requirement already satisfied: datasets in /home/johnsonhk88/.pyenv/versions/3.11.11/lib/python3.11/site-packages (4.1.1)\n",
      "Requirement already satisfied: accelerate in /home/johnsonhk88/.pyenv/versions/3.11.11/lib/python3.11/site-packages (1.10.1)\n",
      "Requirement already satisfied: filelock in /home/johnsonhk88/.pyenv/versions/3.11.11/lib/python3.11/site-packages (from datasets) (3.18.0)\n",
      "Requirement already satisfied: numpy>=1.17 in /home/johnsonhk88/.pyenv/versions/3.11.11/lib/python3.11/site-packages (from datasets) (2.1.3)\n",
      "Requirement already satisfied: pyarrow>=21.0.0 in /home/johnsonhk88/.pyenv/versions/3.11.11/lib/python3.11/site-packages (from datasets) (21.0.0)\n",
      "Requirement already satisfied: dill<0.4.1,>=0.3.0 in /home/johnsonhk88/.pyenv/versions/3.11.11/lib/python3.11/site-packages (from datasets) (0.3.8)\n",
      "Requirement already satisfied: pandas in /home/johnsonhk88/.pyenv/versions/3.11.11/lib/python3.11/site-packages (from datasets) (2.2.3)\n",
      "Requirement already satisfied: requests>=2.32.2 in /home/johnsonhk88/.pyenv/versions/3.11.11/lib/python3.11/site-packages (from datasets) (2.32.3)\n",
      "Requirement already satisfied: tqdm>=4.66.3 in /home/johnsonhk88/.pyenv/versions/3.11.11/lib/python3.11/site-packages (from datasets) (4.67.1)\n",
      "Requirement already satisfied: xxhash in /home/johnsonhk88/.pyenv/versions/3.11.11/lib/python3.11/site-packages (from datasets) (3.5.0)\n",
      "Requirement already satisfied: multiprocess<0.70.17 in /home/johnsonhk88/.pyenv/versions/3.11.11/lib/python3.11/site-packages (from datasets) (0.70.16)\n",
      "Requirement already satisfied: fsspec<=2025.9.0,>=2023.1.0 in /home/johnsonhk88/.pyenv/versions/3.11.11/lib/python3.11/site-packages (from fsspec[http]<=2025.9.0,>=2023.1.0->datasets) (2025.3.0)\n",
      "Requirement already satisfied: huggingface-hub>=0.24.0 in /home/johnsonhk88/.pyenv/versions/3.11.11/lib/python3.11/site-packages (from datasets) (1.0.0rc1)\n",
      "Requirement already satisfied: packaging in /home/johnsonhk88/.pyenv/versions/3.11.11/lib/python3.11/site-packages (from datasets) (24.2)\n",
      "Requirement already satisfied: pyyaml>=5.1 in /home/johnsonhk88/.pyenv/versions/3.11.11/lib/python3.11/site-packages (from datasets) (6.0.2)\n",
      "Requirement already satisfied: aiohttp!=4.0.0a0,!=4.0.0a1 in /home/johnsonhk88/.pyenv/versions/3.11.11/lib/python3.11/site-packages (from fsspec[http]<=2025.9.0,>=2023.1.0->datasets) (3.11.18)\n",
      "Requirement already satisfied: psutil in /home/johnsonhk88/.pyenv/versions/3.11.11/lib/python3.11/site-packages (from accelerate) (7.0.0)\n",
      "Requirement already satisfied: torch>=2.0.0 in /home/johnsonhk88/.pyenv/versions/3.11.11/lib/python3.11/site-packages (from accelerate) (2.8.0)\n",
      "Requirement already satisfied: safetensors>=0.4.3 in /home/johnsonhk88/.pyenv/versions/3.11.11/lib/python3.11/site-packages (from accelerate) (0.6.2)\n",
      "Requirement already satisfied: aiohappyeyeballs>=2.3.0 in /home/johnsonhk88/.pyenv/versions/3.11.11/lib/python3.11/site-packages (from aiohttp!=4.0.0a0,!=4.0.0a1->fsspec[http]<=2025.9.0,>=2023.1.0->datasets) (2.6.1)\n",
      "Requirement already satisfied: aiosignal>=1.1.2 in /home/johnsonhk88/.pyenv/versions/3.11.11/lib/python3.11/site-packages (from aiohttp!=4.0.0a0,!=4.0.0a1->fsspec[http]<=2025.9.0,>=2023.1.0->datasets) (1.3.2)\n",
      "Requirement already satisfied: attrs>=17.3.0 in /home/johnsonhk88/.pyenv/versions/3.11.11/lib/python3.11/site-packages (from aiohttp!=4.0.0a0,!=4.0.0a1->fsspec[http]<=2025.9.0,>=2023.1.0->datasets) (25.3.0)\n",
      "Requirement already satisfied: frozenlist>=1.1.1 in /home/johnsonhk88/.pyenv/versions/3.11.11/lib/python3.11/site-packages (from aiohttp!=4.0.0a0,!=4.0.0a1->fsspec[http]<=2025.9.0,>=2023.1.0->datasets) (1.6.0)\n",
      "Requirement already satisfied: multidict<7.0,>=4.5 in /home/johnsonhk88/.pyenv/versions/3.11.11/lib/python3.11/site-packages (from aiohttp!=4.0.0a0,!=4.0.0a1->fsspec[http]<=2025.9.0,>=2023.1.0->datasets) (6.4.4)\n",
      "Requirement already satisfied: propcache>=0.2.0 in /home/johnsonhk88/.pyenv/versions/3.11.11/lib/python3.11/site-packages (from aiohttp!=4.0.0a0,!=4.0.0a1->fsspec[http]<=2025.9.0,>=2023.1.0->datasets) (0.3.1)\n",
      "Requirement already satisfied: yarl<2.0,>=1.17.0 in /home/johnsonhk88/.pyenv/versions/3.11.11/lib/python3.11/site-packages (from aiohttp!=4.0.0a0,!=4.0.0a1->fsspec[http]<=2025.9.0,>=2023.1.0->datasets) (1.20.0)\n",
      "Requirement already satisfied: idna>=2.0 in /home/johnsonhk88/.pyenv/versions/3.11.11/lib/python3.11/site-packages (from yarl<2.0,>=1.17.0->aiohttp!=4.0.0a0,!=4.0.0a1->fsspec[http]<=2025.9.0,>=2023.1.0->datasets) (3.10)\n",
      "Requirement already satisfied: httpx<1,>=0.23.0 in /home/johnsonhk88/.pyenv/versions/3.11.11/lib/python3.11/site-packages (from huggingface-hub>=0.24.0->datasets) (0.28.1)\n",
      "Requirement already satisfied: typer-slim in /home/johnsonhk88/.pyenv/versions/3.11.11/lib/python3.11/site-packages (from huggingface-hub>=0.24.0->datasets) (0.19.2)\n",
      "Requirement already satisfied: typing-extensions>=3.7.4.3 in /home/johnsonhk88/.pyenv/versions/3.11.11/lib/python3.11/site-packages (from huggingface-hub>=0.24.0->datasets) (4.15.0)\n",
      "Requirement already satisfied: hf-xet<2.0.0,>=1.1.3 in /home/johnsonhk88/.pyenv/versions/3.11.11/lib/python3.11/site-packages (from huggingface-hub>=0.24.0->datasets) (1.1.9)\n",
      "Requirement already satisfied: anyio in /home/johnsonhk88/.pyenv/versions/3.11.11/lib/python3.11/site-packages (from httpx<1,>=0.23.0->huggingface-hub>=0.24.0->datasets) (4.9.0)\n",
      "Requirement already satisfied: certifi in /home/johnsonhk88/.pyenv/versions/3.11.11/lib/python3.11/site-packages (from httpx<1,>=0.23.0->huggingface-hub>=0.24.0->datasets) (2025.4.26)\n",
      "Requirement already satisfied: httpcore==1.* in /home/johnsonhk88/.pyenv/versions/3.11.11/lib/python3.11/site-packages (from httpx<1,>=0.23.0->huggingface-hub>=0.24.0->datasets) (1.0.9)\n",
      "Requirement already satisfied: h11>=0.16 in /home/johnsonhk88/.pyenv/versions/3.11.11/lib/python3.11/site-packages (from httpcore==1.*->httpx<1,>=0.23.0->huggingface-hub>=0.24.0->datasets) (0.16.0)\n",
      "Requirement already satisfied: charset-normalizer<4,>=2 in /home/johnsonhk88/.pyenv/versions/3.11.11/lib/python3.11/site-packages (from requests>=2.32.2->datasets) (3.4.2)\n",
      "Requirement already satisfied: urllib3<3,>=1.21.1 in /home/johnsonhk88/.pyenv/versions/3.11.11/lib/python3.11/site-packages (from requests>=2.32.2->datasets) (2.4.0)\n",
      "Requirement already satisfied: sympy>=1.13.3 in /home/johnsonhk88/.pyenv/versions/3.11.11/lib/python3.11/site-packages (from torch>=2.0.0->accelerate) (1.14.0)\n",
      "Requirement already satisfied: networkx in /home/johnsonhk88/.pyenv/versions/3.11.11/lib/python3.11/site-packages (from torch>=2.0.0->accelerate) (3.4.2)\n",
      "Requirement already satisfied: jinja2 in /home/johnsonhk88/.pyenv/versions/3.11.11/lib/python3.11/site-packages (from torch>=2.0.0->accelerate) (3.1.6)\n",
      "Collecting nvidia-cuda-nvrtc-cu12==12.8.93 (from torch>=2.0.0->accelerate)\n",
      "  Using cached nvidia_cuda_nvrtc_cu12-12.8.93-py3-none-manylinux2010_x86_64.manylinux_2_12_x86_64.whl.metadata (1.7 kB)\n",
      "Collecting nvidia-cuda-runtime-cu12==12.8.90 (from torch>=2.0.0->accelerate)\n",
      "  Using cached nvidia_cuda_runtime_cu12-12.8.90-py3-none-manylinux2014_x86_64.manylinux_2_17_x86_64.whl.metadata (1.7 kB)\n",
      "Collecting nvidia-cuda-cupti-cu12==12.8.90 (from torch>=2.0.0->accelerate)\n",
      "  Using cached nvidia_cuda_cupti_cu12-12.8.90-py3-none-manylinux2014_x86_64.manylinux_2_17_x86_64.whl.metadata (1.7 kB)\n",
      "Collecting nvidia-cudnn-cu12==9.10.2.21 (from torch>=2.0.0->accelerate)\n",
      "  Using cached nvidia_cudnn_cu12-9.10.2.21-py3-none-manylinux_2_27_x86_64.whl.metadata (1.8 kB)\n",
      "Collecting nvidia-cublas-cu12==12.8.4.1 (from torch>=2.0.0->accelerate)\n",
      "  Using cached nvidia_cublas_cu12-12.8.4.1-py3-none-manylinux_2_27_x86_64.whl.metadata (1.7 kB)\n",
      "Collecting nvidia-cufft-cu12==11.3.3.83 (from torch>=2.0.0->accelerate)\n",
      "  Using cached nvidia_cufft_cu12-11.3.3.83-py3-none-manylinux2014_x86_64.manylinux_2_17_x86_64.whl.metadata (1.7 kB)\n",
      "Collecting nvidia-curand-cu12==10.3.9.90 (from torch>=2.0.0->accelerate)\n",
      "  Using cached nvidia_curand_cu12-10.3.9.90-py3-none-manylinux_2_27_x86_64.whl.metadata (1.7 kB)\n",
      "Collecting nvidia-cusolver-cu12==11.7.3.90 (from torch>=2.0.0->accelerate)\n",
      "  Using cached nvidia_cusolver_cu12-11.7.3.90-py3-none-manylinux_2_27_x86_64.whl.metadata (1.8 kB)\n",
      "Collecting nvidia-cusparse-cu12==12.5.8.93 (from torch>=2.0.0->accelerate)\n",
      "  Using cached nvidia_cusparse_cu12-12.5.8.93-py3-none-manylinux2014_x86_64.manylinux_2_17_x86_64.whl.metadata (1.8 kB)\n",
      "Requirement already satisfied: nvidia-cusparselt-cu12==0.7.1 in /home/johnsonhk88/.pyenv/versions/3.11.11/lib/python3.11/site-packages (from torch>=2.0.0->accelerate) (0.7.1)\n",
      "Collecting nvidia-nccl-cu12==2.27.3 (from torch>=2.0.0->accelerate)\n",
      "  Using cached nvidia_nccl_cu12-2.27.3-py3-none-manylinux2014_x86_64.manylinux_2_17_x86_64.whl.metadata (2.0 kB)\n",
      "Requirement already satisfied: nvidia-nvtx-cu12==12.8.90 in /home/johnsonhk88/.pyenv/versions/3.11.11/lib/python3.11/site-packages (from torch>=2.0.0->accelerate) (12.8.90)\n",
      "Collecting nvidia-nvjitlink-cu12==12.8.93 (from torch>=2.0.0->accelerate)\n",
      "  Using cached nvidia_nvjitlink_cu12-12.8.93-py3-none-manylinux2010_x86_64.manylinux_2_12_x86_64.whl.metadata (1.7 kB)\n",
      "Requirement already satisfied: nvidia-cufile-cu12==1.13.1.3 in /home/johnsonhk88/.pyenv/versions/3.11.11/lib/python3.11/site-packages (from torch>=2.0.0->accelerate) (1.13.1.3)\n",
      "Requirement already satisfied: triton==3.4.0 in /home/johnsonhk88/.pyenv/versions/3.11.11/lib/python3.11/site-packages (from torch>=2.0.0->accelerate) (3.4.0)\n",
      "Requirement already satisfied: setuptools>=40.8.0 in /home/johnsonhk88/.pyenv/versions/3.11.11/lib/python3.11/site-packages (from triton==3.4.0->torch>=2.0.0->accelerate) (65.5.0)\n",
      "Requirement already satisfied: mpmath<1.4,>=1.1.0 in /home/johnsonhk88/.pyenv/versions/3.11.11/lib/python3.11/site-packages (from sympy>=1.13.3->torch>=2.0.0->accelerate) (1.3.0)\n",
      "Requirement already satisfied: sniffio>=1.1 in /home/johnsonhk88/.pyenv/versions/3.11.11/lib/python3.11/site-packages (from anyio->httpx<1,>=0.23.0->huggingface-hub>=0.24.0->datasets) (1.3.1)\n",
      "Requirement already satisfied: MarkupSafe>=2.0 in /home/johnsonhk88/.pyenv/versions/3.11.11/lib/python3.11/site-packages (from jinja2->torch>=2.0.0->accelerate) (3.0.2)\n",
      "Requirement already satisfied: python-dateutil>=2.8.2 in /home/johnsonhk88/.pyenv/versions/3.11.11/lib/python3.11/site-packages (from pandas->datasets) (2.9.0.post0)\n",
      "Requirement already satisfied: pytz>=2020.1 in /home/johnsonhk88/.pyenv/versions/3.11.11/lib/python3.11/site-packages (from pandas->datasets) (2025.2)\n",
      "Requirement already satisfied: tzdata>=2022.7 in /home/johnsonhk88/.pyenv/versions/3.11.11/lib/python3.11/site-packages (from pandas->datasets) (2025.2)\n",
      "Requirement already satisfied: six>=1.5 in /home/johnsonhk88/.pyenv/versions/3.11.11/lib/python3.11/site-packages (from python-dateutil>=2.8.2->pandas->datasets) (1.17.0)\n",
      "Requirement already satisfied: click>=8.0.0 in /home/johnsonhk88/.pyenv/versions/3.11.11/lib/python3.11/site-packages (from typer-slim->huggingface-hub>=0.24.0->datasets) (8.1.8)\n",
      "Using cached nvidia_cublas_cu12-12.8.4.1-py3-none-manylinux_2_27_x86_64.whl (594.3 MB)\n",
      "Using cached nvidia_cuda_cupti_cu12-12.8.90-py3-none-manylinux2014_x86_64.manylinux_2_17_x86_64.whl (10.2 MB)\n",
      "Using cached nvidia_cuda_nvrtc_cu12-12.8.93-py3-none-manylinux2010_x86_64.manylinux_2_12_x86_64.whl (88.0 MB)\n",
      "Using cached nvidia_cuda_runtime_cu12-12.8.90-py3-none-manylinux2014_x86_64.manylinux_2_17_x86_64.whl (954 kB)\n",
      "Using cached nvidia_cudnn_cu12-9.10.2.21-py3-none-manylinux_2_27_x86_64.whl (706.8 MB)\n",
      "Using cached nvidia_cufft_cu12-11.3.3.83-py3-none-manylinux2014_x86_64.manylinux_2_17_x86_64.whl (193.1 MB)\n",
      "Using cached nvidia_curand_cu12-10.3.9.90-py3-none-manylinux_2_27_x86_64.whl (63.6 MB)\n",
      "Using cached nvidia_cusolver_cu12-11.7.3.90-py3-none-manylinux_2_27_x86_64.whl (267.5 MB)\n",
      "Using cached nvidia_cusparse_cu12-12.5.8.93-py3-none-manylinux2014_x86_64.manylinux_2_17_x86_64.whl (288.2 MB)\n",
      "Using cached nvidia_nccl_cu12-2.27.3-py3-none-manylinux2014_x86_64.manylinux_2_17_x86_64.whl (322.4 MB)\n",
      "Using cached nvidia_nvjitlink_cu12-12.8.93-py3-none-manylinux2010_x86_64.manylinux_2_12_x86_64.whl (39.3 MB)\n",
      "Installing collected packages: nvidia-nvjitlink-cu12, nvidia-nccl-cu12, nvidia-curand-cu12, nvidia-cuda-runtime-cu12, nvidia-cuda-nvrtc-cu12, nvidia-cuda-cupti-cu12, nvidia-cublas-cu12, nvidia-cusparse-cu12, nvidia-cufft-cu12, nvidia-cudnn-cu12, nvidia-cusolver-cu12\n",
      "\u001b[2K  Attempting uninstall: nvidia-nvjitlink-cu12\n",
      "\u001b[2K    Found existing installation: nvidia-nvjitlink-cu12 12.5.82\n",
      "\u001b[2K    Uninstalling nvidia-nvjitlink-cu12-12.5.82:\n",
      "\u001b[2K      Successfully uninstalled nvidia-nvjitlink-cu12-12.5.82\n",
      "\u001b[2K  Attempting uninstall: nvidia-nccl-cu12━━━━━━━━━━━━━━\u001b[0m \u001b[32m 0/11\u001b[0m [nvidia-nvjitlink-cu12]\n",
      "\u001b[2K    Found existing installation: nvidia-nccl-cu12 2.23.4[32m 0/11\u001b[0m [nvidia-nvjitlink-cu12]\n",
      "\u001b[2K    Uninstalling nvidia-nccl-cu12-2.23.4:━━━━━━━━━\u001b[0m \u001b[32m 0/11\u001b[0m [nvidia-nvjitlink-cu12]\n",
      "\u001b[2K      Successfully uninstalled nvidia-nccl-cu12-2.23.4 \u001b[32m 0/11\u001b[0m [nvidia-nvjitlink-cu12]\n",
      "\u001b[2K  Attempting uninstall: nvidia-curand-cu12114m╸\u001b[0m\u001b[38;5;237m━━━━━━━━━━━━━━━━━━━━━━━━━━━━━━━━━━━━\u001b[0m \u001b[32m 1/11\u001b[0m [nvidia-nccl-cu12]\n",
      "\u001b[2K    Found existing installation: nvidia-curand-cu12 10.3.6.82━━━━━━━━━━━━━━━━━━━━━━━━━━━━━━━━━\u001b[0m \u001b[32m 1/11\u001b[0m [nvidia-nccl-cu12]\n",
      "\u001b[2K    Uninstalling nvidia-curand-cu12-10.3.6.82:m\u001b[38;5;237m━━━━━━━━━━━━━━━━━━━━━━━━━━━━━━━━━━━━\u001b[0m \u001b[32m 1/11\u001b[0m [nvidia-nccl-cu12]\n",
      "\u001b[2K      Successfully uninstalled nvidia-curand-cu12-10.3.6.82━━━━━━━━━━━━━━━━━━━━━━━━━━━━━━━━━━━\u001b[0m \u001b[32m 1/11\u001b[0m [nvidia-nccl-cu12]\n",
      "\u001b[2K  Attempting uninstall: nvidia-cuda-runtime-cu12\u001b[38;5;237m━━━━━━━━━━━━━━━━━━━━━━━━━━━━━━━━\u001b[0m \u001b[32m 2/11\u001b[0m [nvidia-curand-cu12]]\n",
      "\u001b[2K    Found existing installation: nvidia-cuda-runtime-cu12 12.5.82━━━━━━━━━━━━━━━━━━━━━━\u001b[0m \u001b[32m 2/11\u001b[0m [nvidia-curand-cu12]\n",
      "\u001b[2K    Uninstalling nvidia-cuda-runtime-cu12-12.5.82:;237m━━━━━━━━━━━━━━━━━━━━━━━━━━━━━━━━\u001b[0m \u001b[32m 2/11\u001b[0m [nvidia-curand-cu12]\n",
      "\u001b[2K      Successfully uninstalled nvidia-cuda-runtime-cu12-12.5.82━━━━━━━━━━━━━━━━━━━━━━━━\u001b[0m \u001b[32m 2/11\u001b[0m [nvidia-curand-cu12]\n",
      "\u001b[2K  Attempting uninstall: nvidia-cuda-nvrtc-cu1238;114m╸\u001b[0m\u001b[38;5;237m━━━━━━━━━━━━━━━━━━━━━━━━━━━━━\u001b[0m \u001b[32m 3/11\u001b[0m [nvidia-cuda-runtime-cu12]\n",
      "\u001b[2K    Found existing installation: nvidia-cuda-nvrtc-cu12 12.5.827m━━━━━━━━━━━━━━━━━━━━━━━━━━━━━\u001b[0m \u001b[32m 3/11\u001b[0m [nvidia-cuda-runtime-cu12]\n",
      "\u001b[2K    Uninstalling nvidia-cuda-nvrtc-cu12-12.5.82:m╸\u001b[0m\u001b[38;5;237m━━━━━━━━━━━━━━━━━━━━━━━━━━━━━\u001b[0m \u001b[32m 3/11\u001b[0m [nvidia-cuda-runtime-cu12]\n",
      "\u001b[2K      Successfully uninstalled nvidia-cuda-nvrtc-cu12-12.5.82237m━━━━━━━━━━━━━━━━━━━━━━━━━━━━━\u001b[0m \u001b[32m 3/11\u001b[0m [nvidia-cuda-runtime-cu12]\n",
      "\u001b[2K  Attempting uninstall: nvidia-cuda-cupti-cu12249;38;114m╸\u001b[0m\u001b[38;5;237m━━━━━━━━━━━━━━━━━━━━━━━━━\u001b[0m \u001b[32m 4/11\u001b[0m [nvidia-cuda-nvrtc-cu12]\n",
      "\u001b[2K    Found existing installation: nvidia-cuda-cupti-cu12 12.5.825;237m━━━━━━━━━━━━━━━━━━━━━━━━━\u001b[0m \u001b[32m 4/11\u001b[0m [nvidia-cuda-nvrtc-cu12]\n",
      "\u001b[2K    Uninstalling nvidia-cuda-cupti-cu12-12.5.82:;114m╸\u001b[0m\u001b[38;5;237m━━━━━━━━━━━━━━━━━━━━━━━━━\u001b[0m \u001b[32m 4/11\u001b[0m [nvidia-cuda-nvrtc-cu12]\n",
      "\u001b[2K      Successfully uninstalled nvidia-cuda-cupti-cu12-12.5.828;5;237m━━━━━━━━━━━━━━━━━━━━━━━━━\u001b[0m \u001b[32m 4/11\u001b[0m [nvidia-cuda-nvrtc-cu12]\n",
      "\u001b[2K  Attempting uninstall: nvidia-cublas-cu12m\u001b[38;5;237m╺\u001b[0m\u001b[38;5;237m━━━━━━━━━━━━━━━━━━━━━\u001b[0m \u001b[32m 5/11\u001b[0m [nvidia-cuda-cupti-cu12]12]\n",
      "\u001b[2K    Found existing installation: nvidia-cublas-cu12 12.5.3.25;237m━━━━━━━━━━━━━━━━━━━━━\u001b[0m \u001b[32m 5/11\u001b[0m [nvidia-cuda-cupti-cu12]\n",
      "\u001b[2K    Uninstalling nvidia-cublas-cu12-12.5.3.2:;237m╺\u001b[0m\u001b[38;5;237m━━━━━━━━━━━━━━━━━━━━━\u001b[0m \u001b[32m 5/11\u001b[0m [nvidia-cuda-cupti-cu12]\n",
      "\u001b[2K      Successfully uninstalled nvidia-cublas-cu12-12.5.3.28;5;237m━━━━━━━━━━━━━━━━━━━━━\u001b[0m \u001b[32m 5/11\u001b[0m [nvidia-cuda-cupti-cu12]\n",
      "\u001b[2K  Attempting uninstall: nvidia-cusparse-cu120m\u001b[38;2;249;38;114m╸\u001b[0m\u001b[38;5;237m━━━━━━━━━━━━━━━━━━\u001b[0m \u001b[32m 6/11\u001b[0m [nvidia-cublas-cu12]\n",
      "\u001b[2K    Found existing installation: nvidia-cusparse-cu12 12.5.1.3[0m\u001b[38;5;237m━━━━━━━━━━━━━━━━━━\u001b[0m \u001b[32m 6/11\u001b[0m [nvidia-cublas-cu12]\n",
      "\u001b[2K    Uninstalling nvidia-cusparse-cu12-12.5.1.3:2;249;38;114m╸\u001b[0m\u001b[38;5;237m━━━━━━━━━━━━━━━━━━\u001b[0m \u001b[32m 6/11\u001b[0m [nvidia-cublas-cu12]\n",
      "\u001b[2K      Successfully uninstalled nvidia-cusparse-cu12-12.5.1.3╸\u001b[0m\u001b[38;5;237m━━━━━━━━━━━━━━━━━━\u001b[0m \u001b[32m 6/11\u001b[0m [nvidia-cublas-cu12]\n",
      "\u001b[2K  Attempting uninstall: nvidia-cufft-cu12━━━━━\u001b[0m\u001b[38;5;237m╺\u001b[0m\u001b[38;5;237m━━━━━━━━━━━━━━\u001b[0m \u001b[32m 7/11\u001b[0m [nvidia-cusparse-cu12]]\n",
      "\u001b[2K    Found existing installation: nvidia-cufft-cu12 11.2.3.610m\u001b[38;5;237m━━━━━━━━━━━━━━\u001b[0m \u001b[32m 7/11\u001b[0m [nvidia-cusparse-cu12]\n",
      "\u001b[2K    Uninstalling nvidia-cufft-cu12-11.2.3.61:m\u001b[38;5;237m╺\u001b[0m\u001b[38;5;237m━━━━━━━━━━━━━━\u001b[0m \u001b[32m 7/11\u001b[0m [nvidia-cusparse-cu12]\n",
      "\u001b[2K      Successfully uninstalled nvidia-cufft-cu12-11.2.3.61\u001b[0m\u001b[38;5;237m━━━━━━━━━━━━━━\u001b[0m \u001b[32m 7/11\u001b[0m [nvidia-cusparse-cu12]\n",
      "\u001b[2K  Attempting uninstall: nvidia-cudnn-cu12━━━━━━━━━\u001b[0m\u001b[38;5;237m╺\u001b[0m\u001b[38;5;237m━━━━━━━━━━\u001b[0m \u001b[32m 8/11\u001b[0m [nvidia-cufft-cu12]\n",
      "\u001b[2K    Found existing installation: nvidia-cudnn-cu12 9.3.0.757m╺\u001b[0m\u001b[38;5;237m━━━━━━━━━━\u001b[0m \u001b[32m 8/11\u001b[0m [nvidia-cufft-cu12]\n",
      "\u001b[2K    Uninstalling nvidia-cudnn-cu12-9.3.0.75:━━\u001b[0m\u001b[38;5;237m╺\u001b[0m\u001b[38;5;237m━━━━━━━━━━\u001b[0m \u001b[32m 8/11\u001b[0m [nvidia-cufft-cu12]\n",
      "\u001b[2K      Successfully uninstalled nvidia-cudnn-cu12-9.3.0.75237m╺\u001b[0m\u001b[38;5;237m━━━━━━━━━━\u001b[0m \u001b[32m 8/11\u001b[0m [nvidia-cufft-cu12]\n",
      "\u001b[2K  Attempting uninstall: nvidia-cusolver-cu12━━━━━━━━━\u001b[0m\u001b[38;2;249;38;114m╸\u001b[0m\u001b[38;5;237m━━━━━━━\u001b[0m \u001b[32m 9/11\u001b[0m [nvidia-cudnn-cu12]\n",
      "\u001b[2K    Found existing installation: nvidia-cusolver-cu12 11.6.3.83;38;114m╸\u001b[0m\u001b[38;5;237m━━━━━━━\u001b[0m \u001b[32m 9/11\u001b[0m [nvidia-cudnn-cu12]\n",
      "\u001b[2K    Uninstalling nvidia-cusolver-cu12-11.6.3.83:━\u001b[0m\u001b[38;2;249;38;114m╸\u001b[0m\u001b[38;5;237m━━━━━━━\u001b[0m \u001b[32m 9/11\u001b[0m [nvidia-cudnn-cu12]\n",
      "\u001b[2K      Successfully uninstalled nvidia-cusolver-cu12-11.6.3.8349;38;114m╸\u001b[0m\u001b[38;5;237m━━━━━━━\u001b[0m \u001b[32m 9/11\u001b[0m [nvidia-cudnn-cu12]\n",
      "\u001b[2K   \u001b[38;2;114;156;31m━━━━━━━━━━━━━━━━━━━━━━━━━━━━━━━━━━━━━━━━\u001b[0m \u001b[32m11/11\u001b[0m [nvidia-cusolver-cu12]/11\u001b[0m [nvidia-cusolver-cu12]\n",
      "\u001b[1A\u001b[2K\u001b[31mERROR: pip's dependency resolver does not currently take into account all the packages that are installed. This behaviour is the source of the following dependency conflicts.\n",
      "unsloth 2025.8.10 requires datasets<4.0.0,>=3.4.1, but you have datasets 4.1.1 which is incompatible.\u001b[0m\u001b[31m\n",
      "\u001b[0mSuccessfully installed nvidia-cublas-cu12-12.8.4.1 nvidia-cuda-cupti-cu12-12.8.90 nvidia-cuda-nvrtc-cu12-12.8.93 nvidia-cuda-runtime-cu12-12.8.90 nvidia-cudnn-cu12-9.10.2.21 nvidia-cufft-cu12-11.3.3.83 nvidia-curand-cu12-10.3.9.90 nvidia-cusolver-cu12-11.7.3.90 nvidia-cusparse-cu12-12.5.8.93 nvidia-nccl-cu12-2.27.3 nvidia-nvjitlink-cu12-12.8.93\n",
      "Requirement already satisfied: peft in /home/johnsonhk88/.pyenv/versions/3.11.11/lib/python3.11/site-packages (0.17.1)\n",
      "Requirement already satisfied: trl in /home/johnsonhk88/.pyenv/versions/3.11.11/lib/python3.11/site-packages (0.23.0)\n",
      "Requirement already satisfied: numpy>=1.17 in /home/johnsonhk88/.pyenv/versions/3.11.11/lib/python3.11/site-packages (from peft) (2.1.3)\n",
      "Requirement already satisfied: packaging>=20.0 in /home/johnsonhk88/.pyenv/versions/3.11.11/lib/python3.11/site-packages (from peft) (24.2)\n",
      "Requirement already satisfied: psutil in /home/johnsonhk88/.pyenv/versions/3.11.11/lib/python3.11/site-packages (from peft) (7.0.0)\n",
      "Requirement already satisfied: pyyaml in /home/johnsonhk88/.pyenv/versions/3.11.11/lib/python3.11/site-packages (from peft) (6.0.2)\n",
      "Requirement already satisfied: torch>=1.13.0 in /home/johnsonhk88/.pyenv/versions/3.11.11/lib/python3.11/site-packages (from peft) (2.8.0)\n",
      "Requirement already satisfied: transformers in /home/johnsonhk88/.pyenv/versions/3.11.11/lib/python3.11/site-packages (from peft) (4.57.0.dev0)\n",
      "Requirement already satisfied: tqdm in /home/johnsonhk88/.pyenv/versions/3.11.11/lib/python3.11/site-packages (from peft) (4.67.1)\n",
      "Requirement already satisfied: accelerate>=0.21.0 in /home/johnsonhk88/.pyenv/versions/3.11.11/lib/python3.11/site-packages (from peft) (1.10.1)\n",
      "Requirement already satisfied: safetensors in /home/johnsonhk88/.pyenv/versions/3.11.11/lib/python3.11/site-packages (from peft) (0.6.2)\n",
      "Requirement already satisfied: huggingface_hub>=0.25.0 in /home/johnsonhk88/.pyenv/versions/3.11.11/lib/python3.11/site-packages (from peft) (1.0.0rc1)\n",
      "Requirement already satisfied: datasets>=3.0.0 in /home/johnsonhk88/.pyenv/versions/3.11.11/lib/python3.11/site-packages (from trl) (4.1.1)\n",
      "Requirement already satisfied: filelock in /home/johnsonhk88/.pyenv/versions/3.11.11/lib/python3.11/site-packages (from datasets>=3.0.0->trl) (3.18.0)\n",
      "Requirement already satisfied: pyarrow>=21.0.0 in /home/johnsonhk88/.pyenv/versions/3.11.11/lib/python3.11/site-packages (from datasets>=3.0.0->trl) (21.0.0)\n",
      "Requirement already satisfied: dill<0.4.1,>=0.3.0 in /home/johnsonhk88/.pyenv/versions/3.11.11/lib/python3.11/site-packages (from datasets>=3.0.0->trl) (0.3.8)\n",
      "Requirement already satisfied: pandas in /home/johnsonhk88/.pyenv/versions/3.11.11/lib/python3.11/site-packages (from datasets>=3.0.0->trl) (2.2.3)\n",
      "Requirement already satisfied: requests>=2.32.2 in /home/johnsonhk88/.pyenv/versions/3.11.11/lib/python3.11/site-packages (from datasets>=3.0.0->trl) (2.32.3)\n",
      "Requirement already satisfied: xxhash in /home/johnsonhk88/.pyenv/versions/3.11.11/lib/python3.11/site-packages (from datasets>=3.0.0->trl) (3.5.0)\n",
      "Requirement already satisfied: multiprocess<0.70.17 in /home/johnsonhk88/.pyenv/versions/3.11.11/lib/python3.11/site-packages (from datasets>=3.0.0->trl) (0.70.16)\n",
      "Requirement already satisfied: fsspec<=2025.9.0,>=2023.1.0 in /home/johnsonhk88/.pyenv/versions/3.11.11/lib/python3.11/site-packages (from fsspec[http]<=2025.9.0,>=2023.1.0->datasets>=3.0.0->trl) (2025.3.0)\n",
      "Requirement already satisfied: aiohttp!=4.0.0a0,!=4.0.0a1 in /home/johnsonhk88/.pyenv/versions/3.11.11/lib/python3.11/site-packages (from fsspec[http]<=2025.9.0,>=2023.1.0->datasets>=3.0.0->trl) (3.11.18)\n",
      "Requirement already satisfied: aiohappyeyeballs>=2.3.0 in /home/johnsonhk88/.pyenv/versions/3.11.11/lib/python3.11/site-packages (from aiohttp!=4.0.0a0,!=4.0.0a1->fsspec[http]<=2025.9.0,>=2023.1.0->datasets>=3.0.0->trl) (2.6.1)\n",
      "Requirement already satisfied: aiosignal>=1.1.2 in /home/johnsonhk88/.pyenv/versions/3.11.11/lib/python3.11/site-packages (from aiohttp!=4.0.0a0,!=4.0.0a1->fsspec[http]<=2025.9.0,>=2023.1.0->datasets>=3.0.0->trl) (1.3.2)\n",
      "Requirement already satisfied: attrs>=17.3.0 in /home/johnsonhk88/.pyenv/versions/3.11.11/lib/python3.11/site-packages (from aiohttp!=4.0.0a0,!=4.0.0a1->fsspec[http]<=2025.9.0,>=2023.1.0->datasets>=3.0.0->trl) (25.3.0)\n",
      "Requirement already satisfied: frozenlist>=1.1.1 in /home/johnsonhk88/.pyenv/versions/3.11.11/lib/python3.11/site-packages (from aiohttp!=4.0.0a0,!=4.0.0a1->fsspec[http]<=2025.9.0,>=2023.1.0->datasets>=3.0.0->trl) (1.6.0)\n",
      "Requirement already satisfied: multidict<7.0,>=4.5 in /home/johnsonhk88/.pyenv/versions/3.11.11/lib/python3.11/site-packages (from aiohttp!=4.0.0a0,!=4.0.0a1->fsspec[http]<=2025.9.0,>=2023.1.0->datasets>=3.0.0->trl) (6.4.4)\n",
      "Requirement already satisfied: propcache>=0.2.0 in /home/johnsonhk88/.pyenv/versions/3.11.11/lib/python3.11/site-packages (from aiohttp!=4.0.0a0,!=4.0.0a1->fsspec[http]<=2025.9.0,>=2023.1.0->datasets>=3.0.0->trl) (0.3.1)\n",
      "Requirement already satisfied: yarl<2.0,>=1.17.0 in /home/johnsonhk88/.pyenv/versions/3.11.11/lib/python3.11/site-packages (from aiohttp!=4.0.0a0,!=4.0.0a1->fsspec[http]<=2025.9.0,>=2023.1.0->datasets>=3.0.0->trl) (1.20.0)\n",
      "Requirement already satisfied: idna>=2.0 in /home/johnsonhk88/.pyenv/versions/3.11.11/lib/python3.11/site-packages (from yarl<2.0,>=1.17.0->aiohttp!=4.0.0a0,!=4.0.0a1->fsspec[http]<=2025.9.0,>=2023.1.0->datasets>=3.0.0->trl) (3.10)\n",
      "Requirement already satisfied: httpx<1,>=0.23.0 in /home/johnsonhk88/.pyenv/versions/3.11.11/lib/python3.11/site-packages (from huggingface_hub>=0.25.0->peft) (0.28.1)\n",
      "Requirement already satisfied: typer-slim in /home/johnsonhk88/.pyenv/versions/3.11.11/lib/python3.11/site-packages (from huggingface_hub>=0.25.0->peft) (0.19.2)\n",
      "Requirement already satisfied: typing-extensions>=3.7.4.3 in /home/johnsonhk88/.pyenv/versions/3.11.11/lib/python3.11/site-packages (from huggingface_hub>=0.25.0->peft) (4.15.0)\n",
      "Requirement already satisfied: hf-xet<2.0.0,>=1.1.3 in /home/johnsonhk88/.pyenv/versions/3.11.11/lib/python3.11/site-packages (from huggingface_hub>=0.25.0->peft) (1.1.9)\n",
      "Requirement already satisfied: anyio in /home/johnsonhk88/.pyenv/versions/3.11.11/lib/python3.11/site-packages (from httpx<1,>=0.23.0->huggingface_hub>=0.25.0->peft) (4.9.0)\n",
      "Requirement already satisfied: certifi in /home/johnsonhk88/.pyenv/versions/3.11.11/lib/python3.11/site-packages (from httpx<1,>=0.23.0->huggingface_hub>=0.25.0->peft) (2025.4.26)\n",
      "Requirement already satisfied: httpcore==1.* in /home/johnsonhk88/.pyenv/versions/3.11.11/lib/python3.11/site-packages (from httpx<1,>=0.23.0->huggingface_hub>=0.25.0->peft) (1.0.9)\n",
      "Requirement already satisfied: h11>=0.16 in /home/johnsonhk88/.pyenv/versions/3.11.11/lib/python3.11/site-packages (from httpcore==1.*->httpx<1,>=0.23.0->huggingface_hub>=0.25.0->peft) (0.16.0)\n",
      "Requirement already satisfied: charset-normalizer<4,>=2 in /home/johnsonhk88/.pyenv/versions/3.11.11/lib/python3.11/site-packages (from requests>=2.32.2->datasets>=3.0.0->trl) (3.4.2)\n",
      "Requirement already satisfied: urllib3<3,>=1.21.1 in /home/johnsonhk88/.pyenv/versions/3.11.11/lib/python3.11/site-packages (from requests>=2.32.2->datasets>=3.0.0->trl) (2.4.0)\n",
      "Requirement already satisfied: sympy>=1.13.3 in /home/johnsonhk88/.pyenv/versions/3.11.11/lib/python3.11/site-packages (from torch>=1.13.0->peft) (1.14.0)\n",
      "Requirement already satisfied: networkx in /home/johnsonhk88/.pyenv/versions/3.11.11/lib/python3.11/site-packages (from torch>=1.13.0->peft) (3.4.2)\n",
      "Requirement already satisfied: jinja2 in /home/johnsonhk88/.pyenv/versions/3.11.11/lib/python3.11/site-packages (from torch>=1.13.0->peft) (3.1.6)\n",
      "Requirement already satisfied: nvidia-cuda-nvrtc-cu12==12.8.93 in /home/johnsonhk88/.pyenv/versions/3.11.11/lib/python3.11/site-packages (from torch>=1.13.0->peft) (12.8.93)\n",
      "Requirement already satisfied: nvidia-cuda-runtime-cu12==12.8.90 in /home/johnsonhk88/.pyenv/versions/3.11.11/lib/python3.11/site-packages (from torch>=1.13.0->peft) (12.8.90)\n",
      "Requirement already satisfied: nvidia-cuda-cupti-cu12==12.8.90 in /home/johnsonhk88/.pyenv/versions/3.11.11/lib/python3.11/site-packages (from torch>=1.13.0->peft) (12.8.90)\n",
      "Requirement already satisfied: nvidia-cudnn-cu12==9.10.2.21 in /home/johnsonhk88/.pyenv/versions/3.11.11/lib/python3.11/site-packages (from torch>=1.13.0->peft) (9.10.2.21)\n",
      "Requirement already satisfied: nvidia-cublas-cu12==12.8.4.1 in /home/johnsonhk88/.pyenv/versions/3.11.11/lib/python3.11/site-packages (from torch>=1.13.0->peft) (12.8.4.1)\n",
      "Requirement already satisfied: nvidia-cufft-cu12==11.3.3.83 in /home/johnsonhk88/.pyenv/versions/3.11.11/lib/python3.11/site-packages (from torch>=1.13.0->peft) (11.3.3.83)\n",
      "Requirement already satisfied: nvidia-curand-cu12==10.3.9.90 in /home/johnsonhk88/.pyenv/versions/3.11.11/lib/python3.11/site-packages (from torch>=1.13.0->peft) (10.3.9.90)\n",
      "Requirement already satisfied: nvidia-cusolver-cu12==11.7.3.90 in /home/johnsonhk88/.pyenv/versions/3.11.11/lib/python3.11/site-packages (from torch>=1.13.0->peft) (11.7.3.90)\n",
      "Requirement already satisfied: nvidia-cusparse-cu12==12.5.8.93 in /home/johnsonhk88/.pyenv/versions/3.11.11/lib/python3.11/site-packages (from torch>=1.13.0->peft) (12.5.8.93)\n",
      "Requirement already satisfied: nvidia-cusparselt-cu12==0.7.1 in /home/johnsonhk88/.pyenv/versions/3.11.11/lib/python3.11/site-packages (from torch>=1.13.0->peft) (0.7.1)\n",
      "Requirement already satisfied: nvidia-nccl-cu12==2.27.3 in /home/johnsonhk88/.pyenv/versions/3.11.11/lib/python3.11/site-packages (from torch>=1.13.0->peft) (2.27.3)\n",
      "Requirement already satisfied: nvidia-nvtx-cu12==12.8.90 in /home/johnsonhk88/.pyenv/versions/3.11.11/lib/python3.11/site-packages (from torch>=1.13.0->peft) (12.8.90)\n",
      "Requirement already satisfied: nvidia-nvjitlink-cu12==12.8.93 in /home/johnsonhk88/.pyenv/versions/3.11.11/lib/python3.11/site-packages (from torch>=1.13.0->peft) (12.8.93)\n",
      "Requirement already satisfied: nvidia-cufile-cu12==1.13.1.3 in /home/johnsonhk88/.pyenv/versions/3.11.11/lib/python3.11/site-packages (from torch>=1.13.0->peft) (1.13.1.3)\n",
      "Requirement already satisfied: triton==3.4.0 in /home/johnsonhk88/.pyenv/versions/3.11.11/lib/python3.11/site-packages (from torch>=1.13.0->peft) (3.4.0)\n",
      "Requirement already satisfied: setuptools>=40.8.0 in /home/johnsonhk88/.pyenv/versions/3.11.11/lib/python3.11/site-packages (from triton==3.4.0->torch>=1.13.0->peft) (65.5.0)\n",
      "Requirement already satisfied: mpmath<1.4,>=1.1.0 in /home/johnsonhk88/.pyenv/versions/3.11.11/lib/python3.11/site-packages (from sympy>=1.13.3->torch>=1.13.0->peft) (1.3.0)\n",
      "Requirement already satisfied: regex!=2019.12.17 in /home/johnsonhk88/.pyenv/versions/3.11.11/lib/python3.11/site-packages (from transformers->peft) (2024.11.6)\n",
      "Requirement already satisfied: tokenizers<=0.23.0,>=0.22.0 in /home/johnsonhk88/.pyenv/versions/3.11.11/lib/python3.11/site-packages (from transformers->peft) (0.22.1)\n",
      "Requirement already satisfied: sniffio>=1.1 in /home/johnsonhk88/.pyenv/versions/3.11.11/lib/python3.11/site-packages (from anyio->httpx<1,>=0.23.0->huggingface_hub>=0.25.0->peft) (1.3.1)\n",
      "Requirement already satisfied: MarkupSafe>=2.0 in /home/johnsonhk88/.pyenv/versions/3.11.11/lib/python3.11/site-packages (from jinja2->torch>=1.13.0->peft) (3.0.2)\n",
      "Requirement already satisfied: python-dateutil>=2.8.2 in /home/johnsonhk88/.pyenv/versions/3.11.11/lib/python3.11/site-packages (from pandas->datasets>=3.0.0->trl) (2.9.0.post0)\n",
      "Requirement already satisfied: pytz>=2020.1 in /home/johnsonhk88/.pyenv/versions/3.11.11/lib/python3.11/site-packages (from pandas->datasets>=3.0.0->trl) (2025.2)\n",
      "Requirement already satisfied: tzdata>=2022.7 in /home/johnsonhk88/.pyenv/versions/3.11.11/lib/python3.11/site-packages (from pandas->datasets>=3.0.0->trl) (2025.2)\n",
      "Requirement already satisfied: six>=1.5 in /home/johnsonhk88/.pyenv/versions/3.11.11/lib/python3.11/site-packages (from python-dateutil>=2.8.2->pandas->datasets>=3.0.0->trl) (1.17.0)\n",
      "Requirement already satisfied: click>=8.0.0 in /home/johnsonhk88/.pyenv/versions/3.11.11/lib/python3.11/site-packages (from typer-slim->huggingface_hub>=0.25.0->peft) (8.1.8)\n",
      "Collecting langchain==0.3.27\n",
      "  Downloading langchain-0.3.27-py3-none-any.whl.metadata (7.8 kB)\n",
      "Collecting langchain-core<1.0.0,>=0.3.72 (from langchain==0.3.27)\n",
      "  Downloading langchain_core-0.3.76-py3-none-any.whl.metadata (3.7 kB)\n",
      "Collecting langchain-text-splitters<1.0.0,>=0.3.9 (from langchain==0.3.27)\n",
      "  Downloading langchain_text_splitters-0.3.11-py3-none-any.whl.metadata (1.8 kB)\n",
      "Requirement already satisfied: langsmith>=0.1.17 in /home/johnsonhk88/.pyenv/versions/3.11.11/lib/python3.11/site-packages (from langchain==0.3.27) (0.3.42)\n",
      "Requirement already satisfied: pydantic<3.0.0,>=2.7.4 in /home/johnsonhk88/.pyenv/versions/3.11.11/lib/python3.11/site-packages (from langchain==0.3.27) (2.11.9)\n",
      "Requirement already satisfied: SQLAlchemy<3,>=1.4 in /home/johnsonhk88/.pyenv/versions/3.11.11/lib/python3.11/site-packages (from langchain==0.3.27) (2.0.41)\n",
      "Requirement already satisfied: requests<3,>=2 in /home/johnsonhk88/.pyenv/versions/3.11.11/lib/python3.11/site-packages (from langchain==0.3.27) (2.32.3)\n",
      "Requirement already satisfied: PyYAML>=5.3 in /home/johnsonhk88/.pyenv/versions/3.11.11/lib/python3.11/site-packages (from langchain==0.3.27) (6.0.2)\n",
      "Collecting langsmith>=0.1.17 (from langchain==0.3.27)\n",
      "  Downloading langsmith-0.4.31-py3-none-any.whl.metadata (14 kB)\n",
      "Requirement already satisfied: tenacity!=8.4.0,<10.0.0,>=8.1.0 in /home/johnsonhk88/.pyenv/versions/3.11.11/lib/python3.11/site-packages (from langchain-core<1.0.0,>=0.3.72->langchain==0.3.27) (9.1.2)\n",
      "Requirement already satisfied: jsonpatch<2.0,>=1.33 in /home/johnsonhk88/.pyenv/versions/3.11.11/lib/python3.11/site-packages (from langchain-core<1.0.0,>=0.3.72->langchain==0.3.27) (1.33)\n",
      "Requirement already satisfied: typing-extensions>=4.7 in /home/johnsonhk88/.pyenv/versions/3.11.11/lib/python3.11/site-packages (from langchain-core<1.0.0,>=0.3.72->langchain==0.3.27) (4.15.0)\n",
      "Requirement already satisfied: packaging>=23.2 in /home/johnsonhk88/.pyenv/versions/3.11.11/lib/python3.11/site-packages (from langchain-core<1.0.0,>=0.3.72->langchain==0.3.27) (24.2)\n",
      "Requirement already satisfied: jsonpointer>=1.9 in /home/johnsonhk88/.pyenv/versions/3.11.11/lib/python3.11/site-packages (from jsonpatch<2.0,>=1.33->langchain-core<1.0.0,>=0.3.72->langchain==0.3.27) (3.0.0)\n",
      "Requirement already satisfied: annotated-types>=0.6.0 in /home/johnsonhk88/.pyenv/versions/3.11.11/lib/python3.11/site-packages (from pydantic<3.0.0,>=2.7.4->langchain==0.3.27) (0.7.0)\n",
      "Requirement already satisfied: pydantic-core==2.33.2 in /home/johnsonhk88/.pyenv/versions/3.11.11/lib/python3.11/site-packages (from pydantic<3.0.0,>=2.7.4->langchain==0.3.27) (2.33.2)\n",
      "Requirement already satisfied: typing-inspection>=0.4.0 in /home/johnsonhk88/.pyenv/versions/3.11.11/lib/python3.11/site-packages (from pydantic<3.0.0,>=2.7.4->langchain==0.3.27) (0.4.0)\n",
      "Requirement already satisfied: charset-normalizer<4,>=2 in /home/johnsonhk88/.pyenv/versions/3.11.11/lib/python3.11/site-packages (from requests<3,>=2->langchain==0.3.27) (3.4.2)\n",
      "Requirement already satisfied: idna<4,>=2.5 in /home/johnsonhk88/.pyenv/versions/3.11.11/lib/python3.11/site-packages (from requests<3,>=2->langchain==0.3.27) (3.10)\n",
      "Requirement already satisfied: urllib3<3,>=1.21.1 in /home/johnsonhk88/.pyenv/versions/3.11.11/lib/python3.11/site-packages (from requests<3,>=2->langchain==0.3.27) (2.4.0)\n",
      "Requirement already satisfied: certifi>=2017.4.17 in /home/johnsonhk88/.pyenv/versions/3.11.11/lib/python3.11/site-packages (from requests<3,>=2->langchain==0.3.27) (2025.4.26)\n",
      "Requirement already satisfied: greenlet>=1 in /home/johnsonhk88/.pyenv/versions/3.11.11/lib/python3.11/site-packages (from SQLAlchemy<3,>=1.4->langchain==0.3.27) (3.2.2)\n",
      "Requirement already satisfied: httpx<1,>=0.23.0 in /home/johnsonhk88/.pyenv/versions/3.11.11/lib/python3.11/site-packages (from langsmith>=0.1.17->langchain==0.3.27) (0.28.1)\n",
      "Requirement already satisfied: orjson>=3.9.14 in /home/johnsonhk88/.pyenv/versions/3.11.11/lib/python3.11/site-packages (from langsmith>=0.1.17->langchain==0.3.27) (3.10.18)\n",
      "Requirement already satisfied: requests-toolbelt>=1.0.0 in /home/johnsonhk88/.pyenv/versions/3.11.11/lib/python3.11/site-packages (from langsmith>=0.1.17->langchain==0.3.27) (1.0.0)\n",
      "Requirement already satisfied: zstandard>=0.23.0 in /home/johnsonhk88/.pyenv/versions/3.11.11/lib/python3.11/site-packages (from langsmith>=0.1.17->langchain==0.3.27) (0.23.0)\n",
      "Requirement already satisfied: anyio in /home/johnsonhk88/.pyenv/versions/3.11.11/lib/python3.11/site-packages (from httpx<1,>=0.23.0->langsmith>=0.1.17->langchain==0.3.27) (4.9.0)\n",
      "Requirement already satisfied: httpcore==1.* in /home/johnsonhk88/.pyenv/versions/3.11.11/lib/python3.11/site-packages (from httpx<1,>=0.23.0->langsmith>=0.1.17->langchain==0.3.27) (1.0.9)\n",
      "Requirement already satisfied: h11>=0.16 in /home/johnsonhk88/.pyenv/versions/3.11.11/lib/python3.11/site-packages (from httpcore==1.*->httpx<1,>=0.23.0->langsmith>=0.1.17->langchain==0.3.27) (0.16.0)\n",
      "Requirement already satisfied: sniffio>=1.1 in /home/johnsonhk88/.pyenv/versions/3.11.11/lib/python3.11/site-packages (from anyio->httpx<1,>=0.23.0->langsmith>=0.1.17->langchain==0.3.27) (1.3.1)\n",
      "Downloading langchain-0.3.27-py3-none-any.whl (1.0 MB)\n",
      "\u001b[2K   \u001b[38;2;114;156;31m━━━━━━━━━━━━━━━━━━━━━━━━━━━━━━━━━━━━━━━━\u001b[0m \u001b[32m1.0/1.0 MB\u001b[0m \u001b[31m52.1 MB/s\u001b[0m  \u001b[33m0:00:00\u001b[0m\n",
      "\u001b[?25hDownloading langchain_core-0.3.76-py3-none-any.whl (447 kB)\n",
      "Downloading langchain_text_splitters-0.3.11-py3-none-any.whl (33 kB)\n",
      "Downloading langsmith-0.4.31-py3-none-any.whl (386 kB)\n",
      "Installing collected packages: langsmith, langchain-core, langchain-text-splitters, langchain\n",
      "\u001b[2K  Attempting uninstall: langsmith\n",
      "\u001b[2K    Found existing installation: langsmith 0.3.42\n",
      "\u001b[2K    Uninstalling langsmith-0.3.42:\n",
      "\u001b[2K      Successfully uninstalled langsmith-0.3.42\n",
      "\u001b[2K  Attempting uninstall: langchain-core\n",
      "\u001b[2K    Found existing installation: langchain-core 0.3.60\n",
      "\u001b[2K    Uninstalling langchain-core-0.3.60:\n",
      "\u001b[2K      Successfully uninstalled langchain-core-0.3.60\n",
      "\u001b[2K  Attempting uninstall: langchain-text-splitters[0m\u001b[38;5;237m━━━━━━━━━━━━━━━━━━━━━━━━━━━━━\u001b[0m \u001b[32m1/4\u001b[0m [langchain-core]\n",
      "\u001b[2K    Found existing installation: langchain-text-splitters 0.3.8━━━━━━━━━━━━━━━━━━━━━━━━\u001b[0m \u001b[32m1/4\u001b[0m [langchain-core]\n",
      "\u001b[2K    Uninstalling langchain-text-splitters-0.3.8:8;5;237m╺\u001b[0m\u001b[38;5;237m━━━━━━━━━━━━━━━━━━━\u001b[0m \u001b[32m2/4\u001b[0m [langchain-text-splitters]\n",
      "\u001b[2K      Successfully uninstalled langchain-text-splitters-0.3.8;5;237m━━━━━━━━━━━━━━━━━━━\u001b[0m \u001b[32m2/4\u001b[0m [langchain-text-splitters]\n",
      "\u001b[2K  Attempting uninstall: langchain━━━━\u001b[0m\u001b[38;5;237m╺\u001b[0m\u001b[38;5;237m━━━━━━━━━━━━━━━━━━━\u001b[0m \u001b[32m2/4\u001b[0m [langchain-text-splitters]\n",
      "\u001b[2K    Found existing installation: langchain 0.3.2537m╺\u001b[0m\u001b[38;5;237m━━━━━━━━━━━━━━━━━━━\u001b[0m \u001b[32m2/4\u001b[0m [langchain-text-splitters]\n",
      "\u001b[2K    Uninstalling langchain-0.3.25:━━━\u001b[0m\u001b[38;5;237m╺\u001b[0m\u001b[38;5;237m━━━━━━━━━━━━━━━━━━━\u001b[0m \u001b[32m2/4\u001b[0m [langchain-text-splitters]\n",
      "\u001b[2K      Successfully uninstalled langchain-0.3.25;237m╺\u001b[0m\u001b[38;5;237m━━━━━━━━━━━━━━━━━━━\u001b[0m \u001b[32m2/4\u001b[0m [langchain-text-splitters]\n",
      "\u001b[2K   \u001b[38;2;114;156;31m━━━━━━━━━━━━━━━━━━━━━━━━━━━━━━━━━━━━━━━━\u001b[0m \u001b[32m4/4\u001b[0m [langchain]━\u001b[0m \u001b[32m3/4\u001b[0m [langchain]-splitters]\n",
      "\u001b[1A\u001b[2K\u001b[31mERROR: pip's dependency resolver does not currently take into account all the packages that are installed. This behaviour is the source of the following dependency conflicts.\n",
      "langchain-community 0.3.24 requires langsmith<0.4,>=0.1.125, but you have langsmith 0.4.31 which is incompatible.\n",
      "embedchain 0.1.128 requires langsmith<0.4.0,>=0.3.18, but you have langsmith 0.4.31 which is incompatible.\u001b[0m\u001b[31m\n",
      "\u001b[0mSuccessfully installed langchain-0.3.27 langchain-core-0.3.76 langchain-text-splitters-0.3.11 langsmith-0.4.31\n",
      "Collecting langchain-core==0.3.74\n",
      "  Downloading langchain_core-0.3.74-py3-none-any.whl.metadata (5.8 kB)\n",
      "Requirement already satisfied: langsmith>=0.3.45 in /home/johnsonhk88/.pyenv/versions/3.11.11/lib/python3.11/site-packages (from langchain-core==0.3.74) (0.4.31)\n",
      "Requirement already satisfied: tenacity!=8.4.0,<10.0.0,>=8.1.0 in /home/johnsonhk88/.pyenv/versions/3.11.11/lib/python3.11/site-packages (from langchain-core==0.3.74) (9.1.2)\n",
      "Requirement already satisfied: jsonpatch<2.0,>=1.33 in /home/johnsonhk88/.pyenv/versions/3.11.11/lib/python3.11/site-packages (from langchain-core==0.3.74) (1.33)\n",
      "Requirement already satisfied: PyYAML>=5.3 in /home/johnsonhk88/.pyenv/versions/3.11.11/lib/python3.11/site-packages (from langchain-core==0.3.74) (6.0.2)\n",
      "Requirement already satisfied: typing-extensions>=4.7 in /home/johnsonhk88/.pyenv/versions/3.11.11/lib/python3.11/site-packages (from langchain-core==0.3.74) (4.15.0)\n",
      "Requirement already satisfied: packaging>=23.2 in /home/johnsonhk88/.pyenv/versions/3.11.11/lib/python3.11/site-packages (from langchain-core==0.3.74) (24.2)\n",
      "Requirement already satisfied: pydantic>=2.7.4 in /home/johnsonhk88/.pyenv/versions/3.11.11/lib/python3.11/site-packages (from langchain-core==0.3.74) (2.11.9)\n",
      "Requirement already satisfied: jsonpointer>=1.9 in /home/johnsonhk88/.pyenv/versions/3.11.11/lib/python3.11/site-packages (from jsonpatch<2.0,>=1.33->langchain-core==0.3.74) (3.0.0)\n",
      "Requirement already satisfied: httpx<1,>=0.23.0 in /home/johnsonhk88/.pyenv/versions/3.11.11/lib/python3.11/site-packages (from langsmith>=0.3.45->langchain-core==0.3.74) (0.28.1)\n",
      "Requirement already satisfied: orjson>=3.9.14 in /home/johnsonhk88/.pyenv/versions/3.11.11/lib/python3.11/site-packages (from langsmith>=0.3.45->langchain-core==0.3.74) (3.10.18)\n",
      "Requirement already satisfied: requests-toolbelt>=1.0.0 in /home/johnsonhk88/.pyenv/versions/3.11.11/lib/python3.11/site-packages (from langsmith>=0.3.45->langchain-core==0.3.74) (1.0.0)\n",
      "Requirement already satisfied: requests>=2.0.0 in /home/johnsonhk88/.pyenv/versions/3.11.11/lib/python3.11/site-packages (from langsmith>=0.3.45->langchain-core==0.3.74) (2.32.3)\n",
      "Requirement already satisfied: zstandard>=0.23.0 in /home/johnsonhk88/.pyenv/versions/3.11.11/lib/python3.11/site-packages (from langsmith>=0.3.45->langchain-core==0.3.74) (0.23.0)\n",
      "Requirement already satisfied: anyio in /home/johnsonhk88/.pyenv/versions/3.11.11/lib/python3.11/site-packages (from httpx<1,>=0.23.0->langsmith>=0.3.45->langchain-core==0.3.74) (4.9.0)\n",
      "Requirement already satisfied: certifi in /home/johnsonhk88/.pyenv/versions/3.11.11/lib/python3.11/site-packages (from httpx<1,>=0.23.0->langsmith>=0.3.45->langchain-core==0.3.74) (2025.4.26)\n",
      "Requirement already satisfied: httpcore==1.* in /home/johnsonhk88/.pyenv/versions/3.11.11/lib/python3.11/site-packages (from httpx<1,>=0.23.0->langsmith>=0.3.45->langchain-core==0.3.74) (1.0.9)\n",
      "Requirement already satisfied: idna in /home/johnsonhk88/.pyenv/versions/3.11.11/lib/python3.11/site-packages (from httpx<1,>=0.23.0->langsmith>=0.3.45->langchain-core==0.3.74) (3.10)\n",
      "Requirement already satisfied: h11>=0.16 in /home/johnsonhk88/.pyenv/versions/3.11.11/lib/python3.11/site-packages (from httpcore==1.*->httpx<1,>=0.23.0->langsmith>=0.3.45->langchain-core==0.3.74) (0.16.0)\n",
      "Requirement already satisfied: annotated-types>=0.6.0 in /home/johnsonhk88/.pyenv/versions/3.11.11/lib/python3.11/site-packages (from pydantic>=2.7.4->langchain-core==0.3.74) (0.7.0)\n",
      "Requirement already satisfied: pydantic-core==2.33.2 in /home/johnsonhk88/.pyenv/versions/3.11.11/lib/python3.11/site-packages (from pydantic>=2.7.4->langchain-core==0.3.74) (2.33.2)\n",
      "Requirement already satisfied: typing-inspection>=0.4.0 in /home/johnsonhk88/.pyenv/versions/3.11.11/lib/python3.11/site-packages (from pydantic>=2.7.4->langchain-core==0.3.74) (0.4.0)\n",
      "Requirement already satisfied: charset-normalizer<4,>=2 in /home/johnsonhk88/.pyenv/versions/3.11.11/lib/python3.11/site-packages (from requests>=2.0.0->langsmith>=0.3.45->langchain-core==0.3.74) (3.4.2)\n",
      "Requirement already satisfied: urllib3<3,>=1.21.1 in /home/johnsonhk88/.pyenv/versions/3.11.11/lib/python3.11/site-packages (from requests>=2.0.0->langsmith>=0.3.45->langchain-core==0.3.74) (2.4.0)\n",
      "Requirement already satisfied: sniffio>=1.1 in /home/johnsonhk88/.pyenv/versions/3.11.11/lib/python3.11/site-packages (from anyio->httpx<1,>=0.23.0->langsmith>=0.3.45->langchain-core==0.3.74) (1.3.1)\n",
      "Downloading langchain_core-0.3.74-py3-none-any.whl (443 kB)\n",
      "Installing collected packages: langchain-core\n",
      "  Attempting uninstall: langchain-core\n",
      "    Found existing installation: langchain-core 0.3.76\n",
      "    Uninstalling langchain-core-0.3.76:\n",
      "      Successfully uninstalled langchain-core-0.3.76\n",
      "\u001b[31mERROR: pip's dependency resolver does not currently take into account all the packages that are installed. This behaviour is the source of the following dependency conflicts.\n",
      "langchain-community 0.3.24 requires langsmith<0.4,>=0.1.125, but you have langsmith 0.4.31 which is incompatible.\n",
      "langchain-text-splitters 0.3.11 requires langchain-core<2.0.0,>=0.3.75, but you have langchain-core 0.3.74 which is incompatible.\n",
      "embedchain 0.1.128 requires langsmith<0.4.0,>=0.3.18, but you have langsmith 0.4.31 which is incompatible.\u001b[0m\u001b[31m\n",
      "\u001b[0mSuccessfully installed langchain-core-0.3.74\n",
      "Collecting langchain-text-splitters==0.3.9\n",
      "  Downloading langchain_text_splitters-0.3.9-py3-none-any.whl.metadata (1.9 kB)\n",
      "Requirement already satisfied: langchain-core<1.0.0,>=0.3.72 in /home/johnsonhk88/.pyenv/versions/3.11.11/lib/python3.11/site-packages (from langchain-text-splitters==0.3.9) (0.3.74)\n",
      "Requirement already satisfied: langsmith>=0.3.45 in /home/johnsonhk88/.pyenv/versions/3.11.11/lib/python3.11/site-packages (from langchain-core<1.0.0,>=0.3.72->langchain-text-splitters==0.3.9) (0.4.31)\n",
      "Requirement already satisfied: tenacity!=8.4.0,<10.0.0,>=8.1.0 in /home/johnsonhk88/.pyenv/versions/3.11.11/lib/python3.11/site-packages (from langchain-core<1.0.0,>=0.3.72->langchain-text-splitters==0.3.9) (9.1.2)\n",
      "Requirement already satisfied: jsonpatch<2.0,>=1.33 in /home/johnsonhk88/.pyenv/versions/3.11.11/lib/python3.11/site-packages (from langchain-core<1.0.0,>=0.3.72->langchain-text-splitters==0.3.9) (1.33)\n",
      "Requirement already satisfied: PyYAML>=5.3 in /home/johnsonhk88/.pyenv/versions/3.11.11/lib/python3.11/site-packages (from langchain-core<1.0.0,>=0.3.72->langchain-text-splitters==0.3.9) (6.0.2)\n",
      "Requirement already satisfied: typing-extensions>=4.7 in /home/johnsonhk88/.pyenv/versions/3.11.11/lib/python3.11/site-packages (from langchain-core<1.0.0,>=0.3.72->langchain-text-splitters==0.3.9) (4.15.0)\n",
      "Requirement already satisfied: packaging>=23.2 in /home/johnsonhk88/.pyenv/versions/3.11.11/lib/python3.11/site-packages (from langchain-core<1.0.0,>=0.3.72->langchain-text-splitters==0.3.9) (24.2)\n",
      "Requirement already satisfied: pydantic>=2.7.4 in /home/johnsonhk88/.pyenv/versions/3.11.11/lib/python3.11/site-packages (from langchain-core<1.0.0,>=0.3.72->langchain-text-splitters==0.3.9) (2.11.9)\n",
      "Requirement already satisfied: jsonpointer>=1.9 in /home/johnsonhk88/.pyenv/versions/3.11.11/lib/python3.11/site-packages (from jsonpatch<2.0,>=1.33->langchain-core<1.0.0,>=0.3.72->langchain-text-splitters==0.3.9) (3.0.0)\n",
      "Requirement already satisfied: httpx<1,>=0.23.0 in /home/johnsonhk88/.pyenv/versions/3.11.11/lib/python3.11/site-packages (from langsmith>=0.3.45->langchain-core<1.0.0,>=0.3.72->langchain-text-splitters==0.3.9) (0.28.1)\n",
      "Requirement already satisfied: orjson>=3.9.14 in /home/johnsonhk88/.pyenv/versions/3.11.11/lib/python3.11/site-packages (from langsmith>=0.3.45->langchain-core<1.0.0,>=0.3.72->langchain-text-splitters==0.3.9) (3.10.18)\n",
      "Requirement already satisfied: requests-toolbelt>=1.0.0 in /home/johnsonhk88/.pyenv/versions/3.11.11/lib/python3.11/site-packages (from langsmith>=0.3.45->langchain-core<1.0.0,>=0.3.72->langchain-text-splitters==0.3.9) (1.0.0)\n",
      "Requirement already satisfied: requests>=2.0.0 in /home/johnsonhk88/.pyenv/versions/3.11.11/lib/python3.11/site-packages (from langsmith>=0.3.45->langchain-core<1.0.0,>=0.3.72->langchain-text-splitters==0.3.9) (2.32.3)\n",
      "Requirement already satisfied: zstandard>=0.23.0 in /home/johnsonhk88/.pyenv/versions/3.11.11/lib/python3.11/site-packages (from langsmith>=0.3.45->langchain-core<1.0.0,>=0.3.72->langchain-text-splitters==0.3.9) (0.23.0)\n",
      "Requirement already satisfied: anyio in /home/johnsonhk88/.pyenv/versions/3.11.11/lib/python3.11/site-packages (from httpx<1,>=0.23.0->langsmith>=0.3.45->langchain-core<1.0.0,>=0.3.72->langchain-text-splitters==0.3.9) (4.9.0)\n",
      "Requirement already satisfied: certifi in /home/johnsonhk88/.pyenv/versions/3.11.11/lib/python3.11/site-packages (from httpx<1,>=0.23.0->langsmith>=0.3.45->langchain-core<1.0.0,>=0.3.72->langchain-text-splitters==0.3.9) (2025.4.26)\n",
      "Requirement already satisfied: httpcore==1.* in /home/johnsonhk88/.pyenv/versions/3.11.11/lib/python3.11/site-packages (from httpx<1,>=0.23.0->langsmith>=0.3.45->langchain-core<1.0.0,>=0.3.72->langchain-text-splitters==0.3.9) (1.0.9)\n",
      "Requirement already satisfied: idna in /home/johnsonhk88/.pyenv/versions/3.11.11/lib/python3.11/site-packages (from httpx<1,>=0.23.0->langsmith>=0.3.45->langchain-core<1.0.0,>=0.3.72->langchain-text-splitters==0.3.9) (3.10)\n",
      "Requirement already satisfied: h11>=0.16 in /home/johnsonhk88/.pyenv/versions/3.11.11/lib/python3.11/site-packages (from httpcore==1.*->httpx<1,>=0.23.0->langsmith>=0.3.45->langchain-core<1.0.0,>=0.3.72->langchain-text-splitters==0.3.9) (0.16.0)\n",
      "Requirement already satisfied: annotated-types>=0.6.0 in /home/johnsonhk88/.pyenv/versions/3.11.11/lib/python3.11/site-packages (from pydantic>=2.7.4->langchain-core<1.0.0,>=0.3.72->langchain-text-splitters==0.3.9) (0.7.0)\n",
      "Requirement already satisfied: pydantic-core==2.33.2 in /home/johnsonhk88/.pyenv/versions/3.11.11/lib/python3.11/site-packages (from pydantic>=2.7.4->langchain-core<1.0.0,>=0.3.72->langchain-text-splitters==0.3.9) (2.33.2)\n",
      "Requirement already satisfied: typing-inspection>=0.4.0 in /home/johnsonhk88/.pyenv/versions/3.11.11/lib/python3.11/site-packages (from pydantic>=2.7.4->langchain-core<1.0.0,>=0.3.72->langchain-text-splitters==0.3.9) (0.4.0)\n",
      "Requirement already satisfied: charset-normalizer<4,>=2 in /home/johnsonhk88/.pyenv/versions/3.11.11/lib/python3.11/site-packages (from requests>=2.0.0->langsmith>=0.3.45->langchain-core<1.0.0,>=0.3.72->langchain-text-splitters==0.3.9) (3.4.2)\n",
      "Requirement already satisfied: urllib3<3,>=1.21.1 in /home/johnsonhk88/.pyenv/versions/3.11.11/lib/python3.11/site-packages (from requests>=2.0.0->langsmith>=0.3.45->langchain-core<1.0.0,>=0.3.72->langchain-text-splitters==0.3.9) (2.4.0)\n",
      "Requirement already satisfied: sniffio>=1.1 in /home/johnsonhk88/.pyenv/versions/3.11.11/lib/python3.11/site-packages (from anyio->httpx<1,>=0.23.0->langsmith>=0.3.45->langchain-core<1.0.0,>=0.3.72->langchain-text-splitters==0.3.9) (1.3.1)\n",
      "Downloading langchain_text_splitters-0.3.9-py3-none-any.whl (33 kB)\n",
      "Installing collected packages: langchain-text-splitters\n",
      "  Attempting uninstall: langchain-text-splitters\n",
      "    Found existing installation: langchain-text-splitters 0.3.11\n",
      "    Uninstalling langchain-text-splitters-0.3.11:\n",
      "      Successfully uninstalled langchain-text-splitters-0.3.11\n",
      "Successfully installed langchain-text-splitters-0.3.9\n",
      "Collecting langchain-community==0.3.27\n",
      "  Downloading langchain_community-0.3.27-py3-none-any.whl.metadata (2.9 kB)\n",
      "Requirement already satisfied: langchain-core<1.0.0,>=0.3.66 in /home/johnsonhk88/.pyenv/versions/3.11.11/lib/python3.11/site-packages (from langchain-community==0.3.27) (0.3.74)\n",
      "Requirement already satisfied: langchain<1.0.0,>=0.3.26 in /home/johnsonhk88/.pyenv/versions/3.11.11/lib/python3.11/site-packages (from langchain-community==0.3.27) (0.3.27)\n",
      "Requirement already satisfied: SQLAlchemy<3,>=1.4 in /home/johnsonhk88/.pyenv/versions/3.11.11/lib/python3.11/site-packages (from langchain-community==0.3.27) (2.0.41)\n",
      "Requirement already satisfied: requests<3,>=2 in /home/johnsonhk88/.pyenv/versions/3.11.11/lib/python3.11/site-packages (from langchain-community==0.3.27) (2.32.3)\n",
      "Requirement already satisfied: PyYAML>=5.3 in /home/johnsonhk88/.pyenv/versions/3.11.11/lib/python3.11/site-packages (from langchain-community==0.3.27) (6.0.2)\n",
      "Requirement already satisfied: aiohttp<4.0.0,>=3.8.3 in /home/johnsonhk88/.pyenv/versions/3.11.11/lib/python3.11/site-packages (from langchain-community==0.3.27) (3.11.18)\n",
      "Requirement already satisfied: tenacity!=8.4.0,<10,>=8.1.0 in /home/johnsonhk88/.pyenv/versions/3.11.11/lib/python3.11/site-packages (from langchain-community==0.3.27) (9.1.2)\n",
      "Requirement already satisfied: dataclasses-json<0.7,>=0.5.7 in /home/johnsonhk88/.pyenv/versions/3.11.11/lib/python3.11/site-packages (from langchain-community==0.3.27) (0.6.7)\n",
      "Requirement already satisfied: pydantic-settings<3.0.0,>=2.4.0 in /home/johnsonhk88/.pyenv/versions/3.11.11/lib/python3.11/site-packages (from langchain-community==0.3.27) (2.9.1)\n",
      "Requirement already satisfied: langsmith>=0.1.125 in /home/johnsonhk88/.pyenv/versions/3.11.11/lib/python3.11/site-packages (from langchain-community==0.3.27) (0.4.31)\n",
      "Requirement already satisfied: httpx-sse<1.0.0,>=0.4.0 in /home/johnsonhk88/.pyenv/versions/3.11.11/lib/python3.11/site-packages (from langchain-community==0.3.27) (0.4.0)\n",
      "Requirement already satisfied: numpy>=1.26.2 in /home/johnsonhk88/.pyenv/versions/3.11.11/lib/python3.11/site-packages (from langchain-community==0.3.27) (2.1.3)\n",
      "Requirement already satisfied: aiohappyeyeballs>=2.3.0 in /home/johnsonhk88/.pyenv/versions/3.11.11/lib/python3.11/site-packages (from aiohttp<4.0.0,>=3.8.3->langchain-community==0.3.27) (2.6.1)\n",
      "Requirement already satisfied: aiosignal>=1.1.2 in /home/johnsonhk88/.pyenv/versions/3.11.11/lib/python3.11/site-packages (from aiohttp<4.0.0,>=3.8.3->langchain-community==0.3.27) (1.3.2)\n",
      "Requirement already satisfied: attrs>=17.3.0 in /home/johnsonhk88/.pyenv/versions/3.11.11/lib/python3.11/site-packages (from aiohttp<4.0.0,>=3.8.3->langchain-community==0.3.27) (25.3.0)\n",
      "Requirement already satisfied: frozenlist>=1.1.1 in /home/johnsonhk88/.pyenv/versions/3.11.11/lib/python3.11/site-packages (from aiohttp<4.0.0,>=3.8.3->langchain-community==0.3.27) (1.6.0)\n",
      "Requirement already satisfied: multidict<7.0,>=4.5 in /home/johnsonhk88/.pyenv/versions/3.11.11/lib/python3.11/site-packages (from aiohttp<4.0.0,>=3.8.3->langchain-community==0.3.27) (6.4.4)\n",
      "Requirement already satisfied: propcache>=0.2.0 in /home/johnsonhk88/.pyenv/versions/3.11.11/lib/python3.11/site-packages (from aiohttp<4.0.0,>=3.8.3->langchain-community==0.3.27) (0.3.1)\n",
      "Requirement already satisfied: yarl<2.0,>=1.17.0 in /home/johnsonhk88/.pyenv/versions/3.11.11/lib/python3.11/site-packages (from aiohttp<4.0.0,>=3.8.3->langchain-community==0.3.27) (1.20.0)\n",
      "Requirement already satisfied: marshmallow<4.0.0,>=3.18.0 in /home/johnsonhk88/.pyenv/versions/3.11.11/lib/python3.11/site-packages (from dataclasses-json<0.7,>=0.5.7->langchain-community==0.3.27) (3.26.1)\n",
      "Requirement already satisfied: typing-inspect<1,>=0.4.0 in /home/johnsonhk88/.pyenv/versions/3.11.11/lib/python3.11/site-packages (from dataclasses-json<0.7,>=0.5.7->langchain-community==0.3.27) (0.9.0)\n",
      "Requirement already satisfied: langchain-text-splitters<1.0.0,>=0.3.9 in /home/johnsonhk88/.pyenv/versions/3.11.11/lib/python3.11/site-packages (from langchain<1.0.0,>=0.3.26->langchain-community==0.3.27) (0.3.9)\n",
      "Requirement already satisfied: pydantic<3.0.0,>=2.7.4 in /home/johnsonhk88/.pyenv/versions/3.11.11/lib/python3.11/site-packages (from langchain<1.0.0,>=0.3.26->langchain-community==0.3.27) (2.11.9)\n",
      "Requirement already satisfied: jsonpatch<2.0,>=1.33 in /home/johnsonhk88/.pyenv/versions/3.11.11/lib/python3.11/site-packages (from langchain-core<1.0.0,>=0.3.66->langchain-community==0.3.27) (1.33)\n",
      "Requirement already satisfied: typing-extensions>=4.7 in /home/johnsonhk88/.pyenv/versions/3.11.11/lib/python3.11/site-packages (from langchain-core<1.0.0,>=0.3.66->langchain-community==0.3.27) (4.15.0)\n",
      "Requirement already satisfied: packaging>=23.2 in /home/johnsonhk88/.pyenv/versions/3.11.11/lib/python3.11/site-packages (from langchain-core<1.0.0,>=0.3.66->langchain-community==0.3.27) (24.2)\n",
      "Requirement already satisfied: jsonpointer>=1.9 in /home/johnsonhk88/.pyenv/versions/3.11.11/lib/python3.11/site-packages (from jsonpatch<2.0,>=1.33->langchain-core<1.0.0,>=0.3.66->langchain-community==0.3.27) (3.0.0)\n",
      "Requirement already satisfied: annotated-types>=0.6.0 in /home/johnsonhk88/.pyenv/versions/3.11.11/lib/python3.11/site-packages (from pydantic<3.0.0,>=2.7.4->langchain<1.0.0,>=0.3.26->langchain-community==0.3.27) (0.7.0)\n",
      "Requirement already satisfied: pydantic-core==2.33.2 in /home/johnsonhk88/.pyenv/versions/3.11.11/lib/python3.11/site-packages (from pydantic<3.0.0,>=2.7.4->langchain<1.0.0,>=0.3.26->langchain-community==0.3.27) (2.33.2)\n",
      "Requirement already satisfied: typing-inspection>=0.4.0 in /home/johnsonhk88/.pyenv/versions/3.11.11/lib/python3.11/site-packages (from pydantic<3.0.0,>=2.7.4->langchain<1.0.0,>=0.3.26->langchain-community==0.3.27) (0.4.0)\n",
      "Requirement already satisfied: python-dotenv>=0.21.0 in /home/johnsonhk88/.pyenv/versions/3.11.11/lib/python3.11/site-packages (from pydantic-settings<3.0.0,>=2.4.0->langchain-community==0.3.27) (1.1.0)\n",
      "Requirement already satisfied: charset-normalizer<4,>=2 in /home/johnsonhk88/.pyenv/versions/3.11.11/lib/python3.11/site-packages (from requests<3,>=2->langchain-community==0.3.27) (3.4.2)\n",
      "Requirement already satisfied: idna<4,>=2.5 in /home/johnsonhk88/.pyenv/versions/3.11.11/lib/python3.11/site-packages (from requests<3,>=2->langchain-community==0.3.27) (3.10)\n",
      "Requirement already satisfied: urllib3<3,>=1.21.1 in /home/johnsonhk88/.pyenv/versions/3.11.11/lib/python3.11/site-packages (from requests<3,>=2->langchain-community==0.3.27) (2.4.0)\n",
      "Requirement already satisfied: certifi>=2017.4.17 in /home/johnsonhk88/.pyenv/versions/3.11.11/lib/python3.11/site-packages (from requests<3,>=2->langchain-community==0.3.27) (2025.4.26)\n",
      "Requirement already satisfied: greenlet>=1 in /home/johnsonhk88/.pyenv/versions/3.11.11/lib/python3.11/site-packages (from SQLAlchemy<3,>=1.4->langchain-community==0.3.27) (3.2.2)\n",
      "Requirement already satisfied: mypy-extensions>=0.3.0 in /home/johnsonhk88/.pyenv/versions/3.11.11/lib/python3.11/site-packages (from typing-inspect<1,>=0.4.0->dataclasses-json<0.7,>=0.5.7->langchain-community==0.3.27) (1.1.0)\n",
      "Requirement already satisfied: httpx<1,>=0.23.0 in /home/johnsonhk88/.pyenv/versions/3.11.11/lib/python3.11/site-packages (from langsmith>=0.1.125->langchain-community==0.3.27) (0.28.1)\n",
      "Requirement already satisfied: orjson>=3.9.14 in /home/johnsonhk88/.pyenv/versions/3.11.11/lib/python3.11/site-packages (from langsmith>=0.1.125->langchain-community==0.3.27) (3.10.18)\n",
      "Requirement already satisfied: requests-toolbelt>=1.0.0 in /home/johnsonhk88/.pyenv/versions/3.11.11/lib/python3.11/site-packages (from langsmith>=0.1.125->langchain-community==0.3.27) (1.0.0)\n",
      "Requirement already satisfied: zstandard>=0.23.0 in /home/johnsonhk88/.pyenv/versions/3.11.11/lib/python3.11/site-packages (from langsmith>=0.1.125->langchain-community==0.3.27) (0.23.0)\n",
      "Requirement already satisfied: anyio in /home/johnsonhk88/.pyenv/versions/3.11.11/lib/python3.11/site-packages (from httpx<1,>=0.23.0->langsmith>=0.1.125->langchain-community==0.3.27) (4.9.0)\n",
      "Requirement already satisfied: httpcore==1.* in /home/johnsonhk88/.pyenv/versions/3.11.11/lib/python3.11/site-packages (from httpx<1,>=0.23.0->langsmith>=0.1.125->langchain-community==0.3.27) (1.0.9)\n",
      "Requirement already satisfied: h11>=0.16 in /home/johnsonhk88/.pyenv/versions/3.11.11/lib/python3.11/site-packages (from httpcore==1.*->httpx<1,>=0.23.0->langsmith>=0.1.125->langchain-community==0.3.27) (0.16.0)\n",
      "Requirement already satisfied: sniffio>=1.1 in /home/johnsonhk88/.pyenv/versions/3.11.11/lib/python3.11/site-packages (from anyio->httpx<1,>=0.23.0->langsmith>=0.1.125->langchain-community==0.3.27) (1.3.1)\n",
      "Downloading langchain_community-0.3.27-py3-none-any.whl (2.5 MB)\n",
      "\u001b[2K   \u001b[38;2;114;156;31m━━━━━━━━━━━━━━━━━━━━━━━━━━━━━━━━━━━━━━━━\u001b[0m \u001b[32m2.5/2.5 MB\u001b[0m \u001b[31m58.1 MB/s\u001b[0m  \u001b[33m0:00:00\u001b[0m\n",
      "\u001b[?25hInstalling collected packages: langchain-community\n",
      "  Attempting uninstall: langchain-community\n",
      "    Found existing installation: langchain-community 0.3.24\n",
      "    Uninstalling langchain-community-0.3.24:\n",
      "      Successfully uninstalled langchain-community-0.3.24\n",
      "\u001b[31mERROR: pip's dependency resolver does not currently take into account all the packages that are installed. This behaviour is the source of the following dependency conflicts.\n",
      "embedchain 0.1.128 requires langsmith<0.4.0,>=0.3.18, but you have langsmith 0.4.31 which is incompatible.\u001b[0m\u001b[31m\n",
      "\u001b[0mSuccessfully installed langchain-community-0.3.27\n",
      "Collecting deepeval==3.3.9\n",
      "  Downloading deepeval-3.3.9-py3-none-any.whl.metadata (17 kB)\n",
      "Requirement already satisfied: aiohttp in /home/johnsonhk88/.pyenv/versions/3.11.11/lib/python3.11/site-packages (from deepeval==3.3.9) (3.11.18)\n",
      "Collecting anthropic (from deepeval==3.3.9)\n",
      "  Downloading anthropic-0.68.1-py3-none-any.whl.metadata (28 kB)\n",
      "Requirement already satisfied: click<8.3.0,>=8.0.0 in /home/johnsonhk88/.pyenv/versions/3.11.11/lib/python3.11/site-packages (from deepeval==3.3.9) (8.1.8)\n",
      "Collecting google-genai<2.0.0,>=1.9.0 (from deepeval==3.3.9)\n",
      "  Downloading google_genai-1.39.1-py3-none-any.whl.metadata (45 kB)\n",
      "Requirement already satisfied: grpcio<2.0.0,>=1.67.1 in /home/johnsonhk88/.pyenv/versions/3.11.11/lib/python3.11/site-packages (from deepeval==3.3.9) (1.71.0)\n",
      "Requirement already satisfied: nest_asyncio in /home/johnsonhk88/.pyenv/versions/3.11.11/lib/python3.11/site-packages (from deepeval==3.3.9) (1.6.0)\n",
      "Requirement already satisfied: ollama in /home/johnsonhk88/.pyenv/versions/3.11.11/lib/python3.11/site-packages (from deepeval==3.3.9) (0.5.1)\n",
      "Requirement already satisfied: openai in /home/johnsonhk88/.pyenv/versions/3.11.11/lib/python3.11/site-packages (from deepeval==3.3.9) (1.107.2)\n",
      "Requirement already satisfied: opentelemetry-api<2.0.0,>=1.24.0 in /home/johnsonhk88/.pyenv/versions/3.11.11/lib/python3.11/site-packages (from deepeval==3.3.9) (1.33.1)\n",
      "Requirement already satisfied: opentelemetry-exporter-otlp-proto-grpc<2.0.0,>=1.24.0 in /home/johnsonhk88/.pyenv/versions/3.11.11/lib/python3.11/site-packages (from deepeval==3.3.9) (1.33.1)\n",
      "Requirement already satisfied: opentelemetry-sdk<2.0.0,>=1.24.0 in /home/johnsonhk88/.pyenv/versions/3.11.11/lib/python3.11/site-packages (from deepeval==3.3.9) (1.33.1)\n",
      "Requirement already satisfied: portalocker in /home/johnsonhk88/.pyenv/versions/3.11.11/lib/python3.11/site-packages (from deepeval==3.3.9) (2.10.1)\n",
      "Requirement already satisfied: posthog<4.0.0,>=3.23.0 in /home/johnsonhk88/.pyenv/versions/3.11.11/lib/python3.11/site-packages (from deepeval==3.3.9) (3.25.0)\n",
      "Collecting pyfiglet (from deepeval==3.3.9)\n",
      "  Downloading pyfiglet-1.0.4-py3-none-any.whl.metadata (7.4 kB)\n",
      "Requirement already satisfied: pytest in /home/johnsonhk88/.pyenv/versions/3.11.11/lib/python3.11/site-packages (from deepeval==3.3.9) (8.3.5)\n",
      "Collecting pytest-asyncio (from deepeval==3.3.9)\n",
      "  Downloading pytest_asyncio-1.2.0-py3-none-any.whl.metadata (4.1 kB)\n",
      "Collecting pytest-repeat (from deepeval==3.3.9)\n",
      "  Using cached pytest_repeat-0.9.4-py3-none-any.whl.metadata (4.9 kB)\n",
      "Collecting pytest-rerunfailures<13.0,>=12.0 (from deepeval==3.3.9)\n",
      "  Using cached pytest_rerunfailures-12.0-py3-none-any.whl.metadata (18 kB)\n",
      "Collecting pytest-xdist (from deepeval==3.3.9)\n",
      "  Downloading pytest_xdist-3.8.0-py3-none-any.whl.metadata (3.0 kB)\n",
      "Requirement already satisfied: requests<3.0.0,>=2.31.0 in /home/johnsonhk88/.pyenv/versions/3.11.11/lib/python3.11/site-packages (from deepeval==3.3.9) (2.32.3)\n",
      "Requirement already satisfied: rich<15.0.0,>=13.6.0 in /home/johnsonhk88/.pyenv/versions/3.11.11/lib/python3.11/site-packages (from deepeval==3.3.9) (13.9.4)\n",
      "Requirement already satisfied: sentry-sdk in /home/johnsonhk88/.pyenv/versions/3.11.11/lib/python3.11/site-packages (from deepeval==3.3.9) (2.29.1)\n",
      "Requirement already satisfied: setuptools in /home/johnsonhk88/.pyenv/versions/3.11.11/lib/python3.11/site-packages (from deepeval==3.3.9) (65.5.0)\n",
      "Requirement already satisfied: tabulate<0.10.0,>=0.9.0 in /home/johnsonhk88/.pyenv/versions/3.11.11/lib/python3.11/site-packages (from deepeval==3.3.9) (0.9.0)\n",
      "Requirement already satisfied: tenacity<=10.0.0,>=8.0.0 in /home/johnsonhk88/.pyenv/versions/3.11.11/lib/python3.11/site-packages (from deepeval==3.3.9) (9.1.2)\n",
      "Requirement already satisfied: tqdm<5.0.0,>=4.66.1 in /home/johnsonhk88/.pyenv/versions/3.11.11/lib/python3.11/site-packages (from deepeval==3.3.9) (4.67.1)\n",
      "Requirement already satisfied: typer<1.0.0,>=0.9 in /home/johnsonhk88/.pyenv/versions/3.11.11/lib/python3.11/site-packages (from deepeval==3.3.9) (0.15.4)\n",
      "Requirement already satisfied: wheel in /home/johnsonhk88/.pyenv/versions/3.11.11/lib/python3.11/site-packages (from deepeval==3.3.9) (0.45.1)\n",
      "Requirement already satisfied: anyio<5.0.0,>=4.8.0 in /home/johnsonhk88/.pyenv/versions/3.11.11/lib/python3.11/site-packages (from google-genai<2.0.0,>=1.9.0->deepeval==3.3.9) (4.9.0)\n",
      "Requirement already satisfied: google-auth<3.0.0,>=2.14.1 in /home/johnsonhk88/.pyenv/versions/3.11.11/lib/python3.11/site-packages (from google-genai<2.0.0,>=1.9.0->deepeval==3.3.9) (2.40.2)\n",
      "Requirement already satisfied: httpx<1.0.0,>=0.28.1 in /home/johnsonhk88/.pyenv/versions/3.11.11/lib/python3.11/site-packages (from google-genai<2.0.0,>=1.9.0->deepeval==3.3.9) (0.28.1)\n",
      "Requirement already satisfied: pydantic<3.0.0,>=2.0.0 in /home/johnsonhk88/.pyenv/versions/3.11.11/lib/python3.11/site-packages (from google-genai<2.0.0,>=1.9.0->deepeval==3.3.9) (2.11.9)\n",
      "Requirement already satisfied: websockets<15.1.0,>=13.0.0 in /home/johnsonhk88/.pyenv/versions/3.11.11/lib/python3.11/site-packages (from google-genai<2.0.0,>=1.9.0->deepeval==3.3.9) (15.0.1)\n",
      "Requirement already satisfied: typing-extensions<5.0.0,>=4.11.0 in /home/johnsonhk88/.pyenv/versions/3.11.11/lib/python3.11/site-packages (from google-genai<2.0.0,>=1.9.0->deepeval==3.3.9) (4.15.0)\n",
      "Requirement already satisfied: idna>=2.8 in /home/johnsonhk88/.pyenv/versions/3.11.11/lib/python3.11/site-packages (from anyio<5.0.0,>=4.8.0->google-genai<2.0.0,>=1.9.0->deepeval==3.3.9) (3.10)\n",
      "Requirement already satisfied: sniffio>=1.1 in /home/johnsonhk88/.pyenv/versions/3.11.11/lib/python3.11/site-packages (from anyio<5.0.0,>=4.8.0->google-genai<2.0.0,>=1.9.0->deepeval==3.3.9) (1.3.1)\n",
      "Requirement already satisfied: cachetools<6.0,>=2.0.0 in /home/johnsonhk88/.pyenv/versions/3.11.11/lib/python3.11/site-packages (from google-auth<3.0.0,>=2.14.1->google-genai<2.0.0,>=1.9.0->deepeval==3.3.9) (5.5.2)\n",
      "Requirement already satisfied: pyasn1-modules>=0.2.1 in /home/johnsonhk88/.pyenv/versions/3.11.11/lib/python3.11/site-packages (from google-auth<3.0.0,>=2.14.1->google-genai<2.0.0,>=1.9.0->deepeval==3.3.9) (0.4.2)\n",
      "Requirement already satisfied: rsa<5,>=3.1.4 in /home/johnsonhk88/.pyenv/versions/3.11.11/lib/python3.11/site-packages (from google-auth<3.0.0,>=2.14.1->google-genai<2.0.0,>=1.9.0->deepeval==3.3.9) (4.9.1)\n",
      "Requirement already satisfied: certifi in /home/johnsonhk88/.pyenv/versions/3.11.11/lib/python3.11/site-packages (from httpx<1.0.0,>=0.28.1->google-genai<2.0.0,>=1.9.0->deepeval==3.3.9) (2025.4.26)\n",
      "Requirement already satisfied: httpcore==1.* in /home/johnsonhk88/.pyenv/versions/3.11.11/lib/python3.11/site-packages (from httpx<1.0.0,>=0.28.1->google-genai<2.0.0,>=1.9.0->deepeval==3.3.9) (1.0.9)\n",
      "Requirement already satisfied: h11>=0.16 in /home/johnsonhk88/.pyenv/versions/3.11.11/lib/python3.11/site-packages (from httpcore==1.*->httpx<1.0.0,>=0.28.1->google-genai<2.0.0,>=1.9.0->deepeval==3.3.9) (0.16.0)\n",
      "Requirement already satisfied: deprecated>=1.2.6 in /home/johnsonhk88/.pyenv/versions/3.11.11/lib/python3.11/site-packages (from opentelemetry-api<2.0.0,>=1.24.0->deepeval==3.3.9) (1.2.18)\n",
      "Requirement already satisfied: importlib-metadata<8.7.0,>=6.0 in /home/johnsonhk88/.pyenv/versions/3.11.11/lib/python3.11/site-packages (from opentelemetry-api<2.0.0,>=1.24.0->deepeval==3.3.9) (8.6.1)\n",
      "Requirement already satisfied: zipp>=3.20 in /home/johnsonhk88/.pyenv/versions/3.11.11/lib/python3.11/site-packages (from importlib-metadata<8.7.0,>=6.0->opentelemetry-api<2.0.0,>=1.24.0->deepeval==3.3.9) (3.21.0)\n",
      "Requirement already satisfied: googleapis-common-protos~=1.52 in /home/johnsonhk88/.pyenv/versions/3.11.11/lib/python3.11/site-packages (from opentelemetry-exporter-otlp-proto-grpc<2.0.0,>=1.24.0->deepeval==3.3.9) (1.70.0)\n",
      "Requirement already satisfied: opentelemetry-exporter-otlp-proto-common==1.33.1 in /home/johnsonhk88/.pyenv/versions/3.11.11/lib/python3.11/site-packages (from opentelemetry-exporter-otlp-proto-grpc<2.0.0,>=1.24.0->deepeval==3.3.9) (1.33.1)\n",
      "Requirement already satisfied: opentelemetry-proto==1.33.1 in /home/johnsonhk88/.pyenv/versions/3.11.11/lib/python3.11/site-packages (from opentelemetry-exporter-otlp-proto-grpc<2.0.0,>=1.24.0->deepeval==3.3.9) (1.33.1)\n",
      "Requirement already satisfied: protobuf<6.0,>=5.0 in /home/johnsonhk88/.pyenv/versions/3.11.11/lib/python3.11/site-packages (from opentelemetry-proto==1.33.1->opentelemetry-exporter-otlp-proto-grpc<2.0.0,>=1.24.0->deepeval==3.3.9) (5.29.4)\n",
      "Requirement already satisfied: opentelemetry-semantic-conventions==0.54b1 in /home/johnsonhk88/.pyenv/versions/3.11.11/lib/python3.11/site-packages (from opentelemetry-sdk<2.0.0,>=1.24.0->deepeval==3.3.9) (0.54b1)\n",
      "Requirement already satisfied: six>=1.5 in /home/johnsonhk88/.pyenv/versions/3.11.11/lib/python3.11/site-packages (from posthog<4.0.0,>=3.23.0->deepeval==3.3.9) (1.17.0)\n",
      "Requirement already satisfied: monotonic>=1.5 in /home/johnsonhk88/.pyenv/versions/3.11.11/lib/python3.11/site-packages (from posthog<4.0.0,>=3.23.0->deepeval==3.3.9) (1.6)\n",
      "Requirement already satisfied: backoff>=1.10.0 in /home/johnsonhk88/.pyenv/versions/3.11.11/lib/python3.11/site-packages (from posthog<4.0.0,>=3.23.0->deepeval==3.3.9) (2.2.1)\n",
      "Requirement already satisfied: python-dateutil>2.1 in /home/johnsonhk88/.pyenv/versions/3.11.11/lib/python3.11/site-packages (from posthog<4.0.0,>=3.23.0->deepeval==3.3.9) (2.9.0.post0)\n",
      "Requirement already satisfied: distro>=1.5.0 in /home/johnsonhk88/.pyenv/versions/3.11.11/lib/python3.11/site-packages (from posthog<4.0.0,>=3.23.0->deepeval==3.3.9) (1.9.0)\n",
      "Requirement already satisfied: annotated-types>=0.6.0 in /home/johnsonhk88/.pyenv/versions/3.11.11/lib/python3.11/site-packages (from pydantic<3.0.0,>=2.0.0->google-genai<2.0.0,>=1.9.0->deepeval==3.3.9) (0.7.0)\n",
      "Requirement already satisfied: pydantic-core==2.33.2 in /home/johnsonhk88/.pyenv/versions/3.11.11/lib/python3.11/site-packages (from pydantic<3.0.0,>=2.0.0->google-genai<2.0.0,>=1.9.0->deepeval==3.3.9) (2.33.2)\n",
      "Requirement already satisfied: typing-inspection>=0.4.0 in /home/johnsonhk88/.pyenv/versions/3.11.11/lib/python3.11/site-packages (from pydantic<3.0.0,>=2.0.0->google-genai<2.0.0,>=1.9.0->deepeval==3.3.9) (0.4.0)\n",
      "Requirement already satisfied: packaging>=17.1 in /home/johnsonhk88/.pyenv/versions/3.11.11/lib/python3.11/site-packages (from pytest-rerunfailures<13.0,>=12.0->deepeval==3.3.9) (24.2)\n",
      "Requirement already satisfied: charset-normalizer<4,>=2 in /home/johnsonhk88/.pyenv/versions/3.11.11/lib/python3.11/site-packages (from requests<3.0.0,>=2.31.0->deepeval==3.3.9) (3.4.2)\n",
      "Requirement already satisfied: urllib3<3,>=1.21.1 in /home/johnsonhk88/.pyenv/versions/3.11.11/lib/python3.11/site-packages (from requests<3.0.0,>=2.31.0->deepeval==3.3.9) (2.4.0)\n",
      "Requirement already satisfied: markdown-it-py>=2.2.0 in /home/johnsonhk88/.pyenv/versions/3.11.11/lib/python3.11/site-packages (from rich<15.0.0,>=13.6.0->deepeval==3.3.9) (3.0.0)\n",
      "Requirement already satisfied: pygments<3.0.0,>=2.13.0 in /home/johnsonhk88/.pyenv/versions/3.11.11/lib/python3.11/site-packages (from rich<15.0.0,>=13.6.0->deepeval==3.3.9) (2.19.1)\n",
      "Requirement already satisfied: pyasn1>=0.1.3 in /home/johnsonhk88/.pyenv/versions/3.11.11/lib/python3.11/site-packages (from rsa<5,>=3.1.4->google-auth<3.0.0,>=2.14.1->google-genai<2.0.0,>=1.9.0->deepeval==3.3.9) (0.6.1)\n",
      "Requirement already satisfied: shellingham>=1.3.0 in /home/johnsonhk88/.pyenv/versions/3.11.11/lib/python3.11/site-packages (from typer<1.0.0,>=0.9->deepeval==3.3.9) (1.5.4)\n",
      "Requirement already satisfied: wrapt<2,>=1.10 in /home/johnsonhk88/.pyenv/versions/3.11.11/lib/python3.11/site-packages (from deprecated>=1.2.6->opentelemetry-api<2.0.0,>=1.24.0->deepeval==3.3.9) (1.17.2)\n",
      "Requirement already satisfied: mdurl~=0.1 in /home/johnsonhk88/.pyenv/versions/3.11.11/lib/python3.11/site-packages (from markdown-it-py>=2.2.0->rich<15.0.0,>=13.6.0->deepeval==3.3.9) (0.1.2)\n",
      "Requirement already satisfied: iniconfig in /home/johnsonhk88/.pyenv/versions/3.11.11/lib/python3.11/site-packages (from pytest->deepeval==3.3.9) (2.1.0)\n",
      "Requirement already satisfied: pluggy<2,>=1.5 in /home/johnsonhk88/.pyenv/versions/3.11.11/lib/python3.11/site-packages (from pytest->deepeval==3.3.9) (1.6.0)\n",
      "Requirement already satisfied: aiohappyeyeballs>=2.3.0 in /home/johnsonhk88/.pyenv/versions/3.11.11/lib/python3.11/site-packages (from aiohttp->deepeval==3.3.9) (2.6.1)\n",
      "Requirement already satisfied: aiosignal>=1.1.2 in /home/johnsonhk88/.pyenv/versions/3.11.11/lib/python3.11/site-packages (from aiohttp->deepeval==3.3.9) (1.3.2)\n",
      "Requirement already satisfied: attrs>=17.3.0 in /home/johnsonhk88/.pyenv/versions/3.11.11/lib/python3.11/site-packages (from aiohttp->deepeval==3.3.9) (25.3.0)\n",
      "Requirement already satisfied: frozenlist>=1.1.1 in /home/johnsonhk88/.pyenv/versions/3.11.11/lib/python3.11/site-packages (from aiohttp->deepeval==3.3.9) (1.6.0)\n",
      "Requirement already satisfied: multidict<7.0,>=4.5 in /home/johnsonhk88/.pyenv/versions/3.11.11/lib/python3.11/site-packages (from aiohttp->deepeval==3.3.9) (6.4.4)\n",
      "Requirement already satisfied: propcache>=0.2.0 in /home/johnsonhk88/.pyenv/versions/3.11.11/lib/python3.11/site-packages (from aiohttp->deepeval==3.3.9) (0.3.1)\n",
      "Requirement already satisfied: yarl<2.0,>=1.17.0 in /home/johnsonhk88/.pyenv/versions/3.11.11/lib/python3.11/site-packages (from aiohttp->deepeval==3.3.9) (1.20.0)\n",
      "Requirement already satisfied: docstring-parser<1,>=0.15 in /home/johnsonhk88/.pyenv/versions/3.11.11/lib/python3.11/site-packages (from anthropic->deepeval==3.3.9) (0.16)\n",
      "Requirement already satisfied: jiter<1,>=0.4.0 in /home/johnsonhk88/.pyenv/versions/3.11.11/lib/python3.11/site-packages (from anthropic->deepeval==3.3.9) (0.8.2)\n",
      "Collecting execnet>=2.1 (from pytest-xdist->deepeval==3.3.9)\n",
      "  Using cached execnet-2.1.1-py3-none-any.whl.metadata (2.9 kB)\n",
      "Downloading deepeval-3.3.9-py3-none-any.whl (558 kB)\n",
      "\u001b[2K   \u001b[38;2;114;156;31m━━━━━━━━━━━━━━━━━━━━━━━━━━━━━━━━━━━━━━━━\u001b[0m \u001b[32m558.2/558.2 kB\u001b[0m \u001b[31m32.8 MB/s\u001b[0m  \u001b[33m0:00:00\u001b[0m\n",
      "\u001b[?25hDownloading google_genai-1.39.1-py3-none-any.whl (244 kB)\n",
      "Downloading pytest_rerunfailures-12.0-py3-none-any.whl (12 kB)\n",
      "Downloading anthropic-0.68.1-py3-none-any.whl (325 kB)\n",
      "Downloading pyfiglet-1.0.4-py3-none-any.whl (1.8 MB)\n",
      "\u001b[2K   \u001b[38;2;114;156;31m━━━━━━━━━━━━━━━━━━━━━━━━━━━━━━━━━━━━━━━━\u001b[0m \u001b[32m1.8/1.8 MB\u001b[0m \u001b[31m60.5 MB/s\u001b[0m  \u001b[33m0:00:00\u001b[0m\n",
      "\u001b[?25hDownloading pytest_asyncio-1.2.0-py3-none-any.whl (15 kB)\n",
      "Downloading pytest_repeat-0.9.4-py3-none-any.whl (4.2 kB)\n",
      "Downloading pytest_xdist-3.8.0-py3-none-any.whl (46 kB)\n",
      "Using cached execnet-2.1.1-py3-none-any.whl (40 kB)\n",
      "Installing collected packages: pyfiglet, execnet, pytest-xdist, pytest-rerunfailures, pytest-repeat, pytest-asyncio, google-genai, anthropic, deepeval\n",
      "\u001b[2K   \u001b[38;2;114;156;31m━━━━━━━━━━━━━━━━━━━━━━━━━━━━━━━━━━━━━━━━\u001b[0m \u001b[32m9/9\u001b[0m [deepeval];237m━━━━\u001b[0m \u001b[32m8/9\u001b[0m [deepeval]nai]\n",
      "\u001b[1A\u001b[2KSuccessfully installed anthropic-0.68.1 deepeval-3.3.9 execnet-2.1.1 google-genai-1.39.1 pyfiglet-1.0.4 pytest-asyncio-1.2.0 pytest-repeat-0.9.4 pytest-rerunfailures-12.0 pytest-xdist-3.8.0\n",
      "Requirement already satisfied: bitsandbytes in /home/johnsonhk88/.pyenv/versions/3.11.11/lib/python3.11/site-packages (0.47.0)\n",
      "Requirement already satisfied: torch<3,>=2.2 in /home/johnsonhk88/.pyenv/versions/3.11.11/lib/python3.11/site-packages (from bitsandbytes) (2.8.0)\n",
      "Requirement already satisfied: numpy>=1.17 in /home/johnsonhk88/.pyenv/versions/3.11.11/lib/python3.11/site-packages (from bitsandbytes) (2.1.3)\n",
      "Requirement already satisfied: filelock in /home/johnsonhk88/.pyenv/versions/3.11.11/lib/python3.11/site-packages (from torch<3,>=2.2->bitsandbytes) (3.18.0)\n",
      "Requirement already satisfied: typing-extensions>=4.10.0 in /home/johnsonhk88/.pyenv/versions/3.11.11/lib/python3.11/site-packages (from torch<3,>=2.2->bitsandbytes) (4.15.0)\n",
      "Requirement already satisfied: sympy>=1.13.3 in /home/johnsonhk88/.pyenv/versions/3.11.11/lib/python3.11/site-packages (from torch<3,>=2.2->bitsandbytes) (1.14.0)\n",
      "Requirement already satisfied: networkx in /home/johnsonhk88/.pyenv/versions/3.11.11/lib/python3.11/site-packages (from torch<3,>=2.2->bitsandbytes) (3.4.2)\n",
      "Requirement already satisfied: jinja2 in /home/johnsonhk88/.pyenv/versions/3.11.11/lib/python3.11/site-packages (from torch<3,>=2.2->bitsandbytes) (3.1.6)\n",
      "Requirement already satisfied: fsspec in /home/johnsonhk88/.pyenv/versions/3.11.11/lib/python3.11/site-packages (from torch<3,>=2.2->bitsandbytes) (2025.3.0)\n",
      "Requirement already satisfied: nvidia-cuda-nvrtc-cu12==12.8.93 in /home/johnsonhk88/.pyenv/versions/3.11.11/lib/python3.11/site-packages (from torch<3,>=2.2->bitsandbytes) (12.8.93)\n",
      "Requirement already satisfied: nvidia-cuda-runtime-cu12==12.8.90 in /home/johnsonhk88/.pyenv/versions/3.11.11/lib/python3.11/site-packages (from torch<3,>=2.2->bitsandbytes) (12.8.90)\n",
      "Requirement already satisfied: nvidia-cuda-cupti-cu12==12.8.90 in /home/johnsonhk88/.pyenv/versions/3.11.11/lib/python3.11/site-packages (from torch<3,>=2.2->bitsandbytes) (12.8.90)\n",
      "Requirement already satisfied: nvidia-cudnn-cu12==9.10.2.21 in /home/johnsonhk88/.pyenv/versions/3.11.11/lib/python3.11/site-packages (from torch<3,>=2.2->bitsandbytes) (9.10.2.21)\n",
      "Requirement already satisfied: nvidia-cublas-cu12==12.8.4.1 in /home/johnsonhk88/.pyenv/versions/3.11.11/lib/python3.11/site-packages (from torch<3,>=2.2->bitsandbytes) (12.8.4.1)\n",
      "Requirement already satisfied: nvidia-cufft-cu12==11.3.3.83 in /home/johnsonhk88/.pyenv/versions/3.11.11/lib/python3.11/site-packages (from torch<3,>=2.2->bitsandbytes) (11.3.3.83)\n",
      "Requirement already satisfied: nvidia-curand-cu12==10.3.9.90 in /home/johnsonhk88/.pyenv/versions/3.11.11/lib/python3.11/site-packages (from torch<3,>=2.2->bitsandbytes) (10.3.9.90)\n",
      "Requirement already satisfied: nvidia-cusolver-cu12==11.7.3.90 in /home/johnsonhk88/.pyenv/versions/3.11.11/lib/python3.11/site-packages (from torch<3,>=2.2->bitsandbytes) (11.7.3.90)\n",
      "Requirement already satisfied: nvidia-cusparse-cu12==12.5.8.93 in /home/johnsonhk88/.pyenv/versions/3.11.11/lib/python3.11/site-packages (from torch<3,>=2.2->bitsandbytes) (12.5.8.93)\n",
      "Requirement already satisfied: nvidia-cusparselt-cu12==0.7.1 in /home/johnsonhk88/.pyenv/versions/3.11.11/lib/python3.11/site-packages (from torch<3,>=2.2->bitsandbytes) (0.7.1)\n",
      "Requirement already satisfied: nvidia-nccl-cu12==2.27.3 in /home/johnsonhk88/.pyenv/versions/3.11.11/lib/python3.11/site-packages (from torch<3,>=2.2->bitsandbytes) (2.27.3)\n",
      "Requirement already satisfied: nvidia-nvtx-cu12==12.8.90 in /home/johnsonhk88/.pyenv/versions/3.11.11/lib/python3.11/site-packages (from torch<3,>=2.2->bitsandbytes) (12.8.90)\n",
      "Requirement already satisfied: nvidia-nvjitlink-cu12==12.8.93 in /home/johnsonhk88/.pyenv/versions/3.11.11/lib/python3.11/site-packages (from torch<3,>=2.2->bitsandbytes) (12.8.93)\n",
      "Requirement already satisfied: nvidia-cufile-cu12==1.13.1.3 in /home/johnsonhk88/.pyenv/versions/3.11.11/lib/python3.11/site-packages (from torch<3,>=2.2->bitsandbytes) (1.13.1.3)\n",
      "Requirement already satisfied: triton==3.4.0 in /home/johnsonhk88/.pyenv/versions/3.11.11/lib/python3.11/site-packages (from torch<3,>=2.2->bitsandbytes) (3.4.0)\n",
      "Requirement already satisfied: setuptools>=40.8.0 in /home/johnsonhk88/.pyenv/versions/3.11.11/lib/python3.11/site-packages (from triton==3.4.0->torch<3,>=2.2->bitsandbytes) (65.5.0)\n",
      "Requirement already satisfied: mpmath<1.4,>=1.1.0 in /home/johnsonhk88/.pyenv/versions/3.11.11/lib/python3.11/site-packages (from sympy>=1.13.3->torch<3,>=2.2->bitsandbytes) (1.3.0)\n",
      "Requirement already satisfied: MarkupSafe>=2.0 in /home/johnsonhk88/.pyenv/versions/3.11.11/lib/python3.11/site-packages (from jinja2->torch<3,>=2.2->bitsandbytes) (3.0.2)\n"
     ]
    }
   ],
   "source": [
    "# import kagglehub\n",
    "\n",
    "DEBUG = True#True\n",
    "\n",
    "if DEBUG is True:\n",
    "    !pip install git+https://github.com/huggingface/transformers.git  # install transformer from source\n",
    "    # !pip install --upgrade torch datasets accelerate peft bitsandbytes trl\n",
    "    # !pip install --upgrade accelerate peft bitsandbytes trl\n",
    "    !pip install --upgrade datasets accelerate  # add datasets, accelerate , bitsndbytes\n",
    "    # !pip install -U bitsandbytes==0.47.0\n",
    "    # !pip install -U peft==0.17.0\n",
    "    # !pip install -U trl==0.21.0\n",
    "    !pip install --upgrade peft trl\n",
    "    # !pip install -U accelerate==1.10.0\n",
    "    # !pip install transformers==4.55.0\n",
    "    !pip install langchain==0.3.27\n",
    "    !pip install -U langchain-core==0.3.74\n",
    "    !pip install langchain-text-splitters==0.3.9\n",
    "    !pip install langchain-community==0.3.27\n",
    "    !pip install -U deepeval==3.3.9\n",
    "    # !pip install protobuf==4.25.8 #4.49.0     # 6.30.2      #==3.20.3 #4.49.0\n",
    "    # !pip install triton==3.0.0   # avoid load LLM error\n",
    "    !pip install --upgrade bitsandbytes\n",
    "\n",
    "else:\n",
    "    # package = kagglehub.package_import(\"/johnsonhk88/universal-llm-install-package2\")\n",
    "    # installDir = \"/kaggle/input/universal-llm-install-package2/V7\" #\"/kaggle/input/universal-llm-install-package2/V7\"\n",
    "    installDir = \"/kaggle/input/universal-llm-install-package2/V9\"\n",
    "    # installDir2 =\"/kaggle/input/deepeval-open-source-llm-evaluation-framework\"\n",
    "    !pip install transformers --no-index --no-deps --find-links=file://{installDir}/transformers-4.45.2-py3-none-any.whl\n",
    "    !pip install -U accelerate --no-index --no-deps --find-links=file://{installDir}/accelerate-1.0.1-py3-none-any.whl\n",
    "    !pip install -U trl --no-index --no-deps --find-links=file://{installDir}/trl-0.11.4-py3-none-any.whl\n",
    "    !pip install -U peft --no-index --no-deps --find-links=file://{installDir}/peft-0.14.0-py3-none-any.whl\n",
    "    !pip install  bitsandbytes --no-index --no-deps --find-links=file://{installDir}/bitsandbytes-0.46.1-py3-none-manylinux_2_24_x86_64.whl\n",
    "    \n",
    "    !pip install -U langchain --no-index  --no-deps --find-links=file://{installDir}/langchain-0.3.3-py3-none-any.whl\n",
    "    !pip install -U langchain_core --no-index  --no-deps --find-links=file://{installDir}/langchain_core-0.3.12-py3-none-any.whl\n",
    "    !pip install -U langchain_text_splitters  --no-index  --no-deps  --find-links=file://{installDir}/langchain_text_splitters-0.3.0-py3-none-any.whl\n",
    "    !pip install -U langchain_community  --no-index  --no-deps   --find-links=file://{installDir}/langchain_community-0.3.2-py3-none-any.whl\n",
    "    # !pip install -U triton  --no-index --no-deps  --find-links=file://{installDir}/triton-3.4.0-cp311-cp311-manylinux_2_27_x86_64.manylinux_2_28_x86_64.whl\n",
    "    # !pip install -U protobuf  --no-index  --no-deps  --find-links=file://{installDir}/protobuf-4.25.8-cp37-abi3-manylinux2014_x86_64.whl  \n",
    "    \n",
    "    # !pip install -U vllm   --no-index --find-links=file:///kaggle/input/vllm-inference/\n",
    "\n"
   ]
  },
  {
   "cell_type": "code",
   "execution_count": 1,
   "metadata": {
    "tags": []
   },
   "outputs": [],
   "source": [
    "# !pip install triton==3.0.0\n",
    "# !pip install triton==3.3.0"
   ]
  },
  {
   "cell_type": "code",
   "execution_count": 2,
   "metadata": {
    "scrolled": true,
    "tags": []
   },
   "outputs": [],
   "source": [
    "# !pip install deepspeed==0.14.5"
   ]
  },
  {
   "cell_type": "code",
   "execution_count": 1,
   "metadata": {
    "tags": []
   },
   "outputs": [
    {
     "name": "stderr",
     "output_type": "stream",
     "text": [
      "/home/johnsonhk88/.pyenv/versions/3.11.11/lib/python3.11/site-packages/tqdm/auto.py:21: TqdmWarning: IProgress not found. Please update jupyter and ipywidgets. See https://ipywidgets.readthedocs.io/en/stable/user_install.html\n",
      "  from .autonotebook import tqdm as notebook_tqdm\n"
     ]
    }
   ],
   "source": [
    "import numpy as np # linear algebra\n",
    "import pandas as pd # data processing, CSV file I/O (e.g. pd.read_csv)\n",
    "from sklearn.preprocessing import LabelEncoder\n",
    "from sklearn.model_selection import train_test_split\n",
    "\n",
    "import os, time , gc , json\n",
    "import numpy as np # linear algebra\n",
    "import pandas as pd # data processing, CSV file I/O (e.g. pd.read_csv)\n",
    "import matplotlib.pyplot as plt\n",
    "import seaborn as sns\n",
    "\n",
    "import torch\n",
    "from torch import nn\n",
    "import transformers\n",
    "\n",
    "\n"
   ]
  },
  {
   "cell_type": "code",
   "execution_count": 2,
   "metadata": {
    "tags": []
   },
   "outputs": [],
   "source": [
    "# !pip install --upgrade imbalanced-learn\n",
    "# !pip install --upgrade scikit-learn"
   ]
  },
  {
   "cell_type": "code",
   "execution_count": 3,
   "metadata": {
    "scrolled": true,
    "tags": []
   },
   "outputs": [],
   "source": [
    "# !pip install trl==0.15.0\n",
    "# from imblearn.over_sampling import SMOTE\n",
    "# from collections import Counte"
   ]
  },
  {
   "cell_type": "code",
   "execution_count": 4,
   "metadata": {
    "tags": []
   },
   "outputs": [
    {
     "data": {
      "text/plain": [
       "'0.11.4'"
      ]
     },
     "execution_count": 4,
     "metadata": {},
     "output_type": "execute_result"
    }
   ],
   "source": [
    "import trl\n",
    "trl.__version__"
   ]
  },
  {
   "cell_type": "code",
   "execution_count": 5,
   "metadata": {
    "tags": []
   },
   "outputs": [
    {
     "name": "stderr",
     "output_type": "stream",
     "text": [
      "2025-10-01 23:29:10.159322: I tensorflow/core/util/port.cc:153] oneDNN custom operations are on. You may see slightly different numerical results due to floating-point round-off errors from different computation orders. To turn them off, set the environment variable `TF_ENABLE_ONEDNN_OPTS=0`.\n",
      "2025-10-01 23:29:10.167388: E external/local_xla/xla/stream_executor/cuda/cuda_fft.cc:477] Unable to register cuFFT factory: Attempting to register factory for plugin cuFFT when one has already been registered\n",
      "WARNING: All log messages before absl::InitializeLog() is called are written to STDERR\n",
      "E0000 00:00:1759332550.176787  483413 cuda_dnn.cc:8310] Unable to register cuDNN factory: Attempting to register factory for plugin cuDNN when one has already been registered\n",
      "E0000 00:00:1759332550.179594  483413 cuda_blas.cc:1418] Unable to register cuBLAS factory: Attempting to register factory for plugin cuBLAS when one has already been registered\n",
      "2025-10-01 23:29:10.189611: I tensorflow/core/platform/cpu_feature_guard.cc:210] This TensorFlow binary is optimized to use available CPU instructions in performance-critical operations.\n",
      "To enable the following instructions: AVX2 AVX_VNNI FMA, in other operations, rebuild TensorFlow with the appropriate compiler flags.\n"
     ]
    },
    {
     "ename": "RuntimeError",
     "evalue": "Failed to import trl.trainer.sft_trainer because of the following error (look up to see its traceback):\nFailed to import transformers.trainer because of the following error (look up to see its traceback):\nFailed to import transformers.integrations.integration_utils because of the following error (look up to see its traceback):\nFailed to import transformers.modeling_tf_utils because of the following error (look up to see its traceback):\nYour currently installed version of Keras is Keras 3, but this is not yet supported in Transformers. Please install the backwards-compatible tf-keras package with `pip install tf-keras`.",
     "output_type": "error",
     "traceback": [
      "\u001b[31m---------------------------------------------------------------------------\u001b[39m",
      "\u001b[31mImportError\u001b[39m                               Traceback (most recent call last)",
      "\u001b[36mFile \u001b[39m\u001b[32m~/.pyenv/versions/3.11.11/lib/python3.11/site-packages/transformers/activations_tf.py:22\u001b[39m\n\u001b[32m     21\u001b[39m \u001b[38;5;28;01mtry\u001b[39;00m:\n\u001b[32m---> \u001b[39m\u001b[32m22\u001b[39m     \u001b[38;5;28;01mimport\u001b[39;00m\u001b[38;5;250m \u001b[39m\u001b[34;01mtf_keras\u001b[39;00m\u001b[38;5;250m \u001b[39m\u001b[38;5;28;01mas\u001b[39;00m\u001b[38;5;250m \u001b[39m\u001b[34;01mkeras\u001b[39;00m\n\u001b[32m     23\u001b[39m \u001b[38;5;28;01mexcept\u001b[39;00m (\u001b[38;5;167;01mModuleNotFoundError\u001b[39;00m, \u001b[38;5;167;01mImportError\u001b[39;00m):\n",
      "\u001b[36mFile \u001b[39m\u001b[32m~/.pyenv/versions/3.11.11/lib/python3.11/site-packages/tf_keras/__init__.py:3\u001b[39m\n\u001b[32m      1\u001b[39m \u001b[33;03m\"\"\"AUTOGENERATED. DO NOT EDIT.\"\"\"\u001b[39;00m\n\u001b[32m----> \u001b[39m\u001b[32m3\u001b[39m \u001b[38;5;28;01mfrom\u001b[39;00m\u001b[38;5;250m \u001b[39m\u001b[34;01mtf_keras\u001b[39;00m\u001b[38;5;250m \u001b[39m\u001b[38;5;28;01mimport\u001b[39;00m __internal__\n\u001b[32m      4\u001b[39m \u001b[38;5;28;01mfrom\u001b[39;00m\u001b[38;5;250m \u001b[39m\u001b[34;01mtf_keras\u001b[39;00m\u001b[38;5;250m \u001b[39m\u001b[38;5;28;01mimport\u001b[39;00m activations\n",
      "\u001b[36mFile \u001b[39m\u001b[32m~/.pyenv/versions/3.11.11/lib/python3.11/site-packages/tf_keras/__internal__/__init__.py:3\u001b[39m\n\u001b[32m      1\u001b[39m \u001b[33;03m\"\"\"AUTOGENERATED. DO NOT EDIT.\"\"\"\u001b[39;00m\n\u001b[32m----> \u001b[39m\u001b[32m3\u001b[39m \u001b[38;5;28;01mfrom\u001b[39;00m\u001b[38;5;250m \u001b[39m\u001b[34;01mtf_keras\u001b[39;00m\u001b[34;01m.\u001b[39;00m\u001b[34;01m__internal__\u001b[39;00m\u001b[38;5;250m \u001b[39m\u001b[38;5;28;01mimport\u001b[39;00m backend\n\u001b[32m      4\u001b[39m \u001b[38;5;28;01mfrom\u001b[39;00m\u001b[38;5;250m \u001b[39m\u001b[34;01mtf_keras\u001b[39;00m\u001b[34;01m.\u001b[39;00m\u001b[34;01m__internal__\u001b[39;00m\u001b[38;5;250m \u001b[39m\u001b[38;5;28;01mimport\u001b[39;00m layers\n",
      "\u001b[36mFile \u001b[39m\u001b[32m~/.pyenv/versions/3.11.11/lib/python3.11/site-packages/tf_keras/__internal__/backend/__init__.py:3\u001b[39m\n\u001b[32m      1\u001b[39m \u001b[33;03m\"\"\"AUTOGENERATED. DO NOT EDIT.\"\"\"\u001b[39;00m\n\u001b[32m----> \u001b[39m\u001b[32m3\u001b[39m \u001b[38;5;28;01mfrom\u001b[39;00m\u001b[38;5;250m \u001b[39m\u001b[34;01mtf_keras\u001b[39;00m\u001b[34;01m.\u001b[39;00m\u001b[34;01msrc\u001b[39;00m\u001b[34;01m.\u001b[39;00m\u001b[34;01mbackend\u001b[39;00m\u001b[38;5;250m \u001b[39m\u001b[38;5;28;01mimport\u001b[39;00m _initialize_variables \u001b[38;5;28;01mas\u001b[39;00m initialize_variables\n\u001b[32m      4\u001b[39m \u001b[38;5;28;01mfrom\u001b[39;00m\u001b[38;5;250m \u001b[39m\u001b[34;01mtf_keras\u001b[39;00m\u001b[34;01m.\u001b[39;00m\u001b[34;01msrc\u001b[39;00m\u001b[34;01m.\u001b[39;00m\u001b[34;01mbackend\u001b[39;00m\u001b[38;5;250m \u001b[39m\u001b[38;5;28;01mimport\u001b[39;00m track_variable\n",
      "\u001b[36mFile \u001b[39m\u001b[32m~/.pyenv/versions/3.11.11/lib/python3.11/site-packages/tf_keras/src/__init__.py:21\u001b[39m\n\u001b[32m     15\u001b[39m \u001b[33;03m\"\"\"Implementation of the TF-Keras API, the high-level API of TensorFlow.\u001b[39;00m\n\u001b[32m     16\u001b[39m \n\u001b[32m     17\u001b[39m \u001b[33;03mDetailed documentation and user guides are available at\u001b[39;00m\n\u001b[32m     18\u001b[39m \u001b[33;03m[keras.io](https://keras.io).\u001b[39;00m\n\u001b[32m     19\u001b[39m \u001b[33;03m\"\"\"\u001b[39;00m\n\u001b[32m---> \u001b[39m\u001b[32m21\u001b[39m \u001b[38;5;28;01mfrom\u001b[39;00m\u001b[38;5;250m \u001b[39m\u001b[34;01mtf_keras\u001b[39;00m\u001b[34;01m.\u001b[39;00m\u001b[34;01msrc\u001b[39;00m\u001b[38;5;250m \u001b[39m\u001b[38;5;28;01mimport\u001b[39;00m applications\n\u001b[32m     22\u001b[39m \u001b[38;5;28;01mfrom\u001b[39;00m\u001b[38;5;250m \u001b[39m\u001b[34;01mtf_keras\u001b[39;00m\u001b[34;01m.\u001b[39;00m\u001b[34;01msrc\u001b[39;00m\u001b[38;5;250m \u001b[39m\u001b[38;5;28;01mimport\u001b[39;00m distribute\n",
      "\u001b[36mFile \u001b[39m\u001b[32m~/.pyenv/versions/3.11.11/lib/python3.11/site-packages/tf_keras/src/applications/__init__.py:18\u001b[39m\n\u001b[32m     15\u001b[39m \u001b[33;03m\"\"\"Keras Applications are premade architectures with pre-trained weights.\"\"\"\u001b[39;00m\n\u001b[32m---> \u001b[39m\u001b[32m18\u001b[39m \u001b[38;5;28;01mfrom\u001b[39;00m\u001b[38;5;250m \u001b[39m\u001b[34;01mtf_keras\u001b[39;00m\u001b[34;01m.\u001b[39;00m\u001b[34;01msrc\u001b[39;00m\u001b[34;01m.\u001b[39;00m\u001b[34;01mapplications\u001b[39;00m\u001b[34;01m.\u001b[39;00m\u001b[34;01mconvnext\u001b[39;00m\u001b[38;5;250m \u001b[39m\u001b[38;5;28;01mimport\u001b[39;00m ConvNeXtBase\n\u001b[32m     19\u001b[39m \u001b[38;5;28;01mfrom\u001b[39;00m\u001b[38;5;250m \u001b[39m\u001b[34;01mtf_keras\u001b[39;00m\u001b[34;01m.\u001b[39;00m\u001b[34;01msrc\u001b[39;00m\u001b[34;01m.\u001b[39;00m\u001b[34;01mapplications\u001b[39;00m\u001b[34;01m.\u001b[39;00m\u001b[34;01mconvnext\u001b[39;00m\u001b[38;5;250m \u001b[39m\u001b[38;5;28;01mimport\u001b[39;00m ConvNeXtLarge\n",
      "\u001b[36mFile \u001b[39m\u001b[32m~/.pyenv/versions/3.11.11/lib/python3.11/site-packages/tf_keras/src/applications/convnext.py:28\u001b[39m\n\u001b[32m     26\u001b[39m \u001b[38;5;28;01mimport\u001b[39;00m\u001b[38;5;250m \u001b[39m\u001b[34;01mtensorflow\u001b[39;00m\u001b[34;01m.\u001b[39;00m\u001b[34;01mcompat\u001b[39;00m\u001b[34;01m.\u001b[39;00m\u001b[34;01mv2\u001b[39;00m\u001b[38;5;250m \u001b[39m\u001b[38;5;28;01mas\u001b[39;00m\u001b[38;5;250m \u001b[39m\u001b[34;01mtf\u001b[39;00m\n\u001b[32m---> \u001b[39m\u001b[32m28\u001b[39m \u001b[38;5;28;01mfrom\u001b[39;00m\u001b[38;5;250m \u001b[39m\u001b[34;01mtf_keras\u001b[39;00m\u001b[34;01m.\u001b[39;00m\u001b[34;01msrc\u001b[39;00m\u001b[38;5;250m \u001b[39m\u001b[38;5;28;01mimport\u001b[39;00m backend\n\u001b[32m     29\u001b[39m \u001b[38;5;28;01mfrom\u001b[39;00m\u001b[38;5;250m \u001b[39m\u001b[34;01mtf_keras\u001b[39;00m\u001b[34;01m.\u001b[39;00m\u001b[34;01msrc\u001b[39;00m\u001b[38;5;250m \u001b[39m\u001b[38;5;28;01mimport\u001b[39;00m initializers\n",
      "\u001b[36mFile \u001b[39m\u001b[32m~/.pyenv/versions/3.11.11/lib/python3.11/site-packages/tf_keras/src/backend.py:35\u001b[39m\n\u001b[32m     34\u001b[39m \u001b[38;5;28;01mfrom\u001b[39;00m\u001b[38;5;250m \u001b[39m\u001b[34;01mtf_keras\u001b[39;00m\u001b[34;01m.\u001b[39;00m\u001b[34;01msrc\u001b[39;00m\u001b[34;01m.\u001b[39;00m\u001b[34;01mdtensor\u001b[39;00m\u001b[38;5;250m \u001b[39m\u001b[38;5;28;01mimport\u001b[39;00m dtensor_api \u001b[38;5;28;01mas\u001b[39;00m dtensor\n\u001b[32m---> \u001b[39m\u001b[32m35\u001b[39m \u001b[38;5;28;01mfrom\u001b[39;00m\u001b[38;5;250m \u001b[39m\u001b[34;01mtf_keras\u001b[39;00m\u001b[34;01m.\u001b[39;00m\u001b[34;01msrc\u001b[39;00m\u001b[34;01m.\u001b[39;00m\u001b[34;01mengine\u001b[39;00m\u001b[38;5;250m \u001b[39m\u001b[38;5;28;01mimport\u001b[39;00m keras_tensor\n\u001b[32m     36\u001b[39m \u001b[38;5;28;01mfrom\u001b[39;00m\u001b[38;5;250m \u001b[39m\u001b[34;01mtf_keras\u001b[39;00m\u001b[34;01m.\u001b[39;00m\u001b[34;01msrc\u001b[39;00m\u001b[34;01m.\u001b[39;00m\u001b[34;01mutils\u001b[39;00m\u001b[38;5;250m \u001b[39m\u001b[38;5;28;01mimport\u001b[39;00m control_flow_util\n",
      "\u001b[36mFile \u001b[39m\u001b[32m~/.pyenv/versions/3.11.11/lib/python3.11/site-packages/tf_keras/src/engine/keras_tensor.py:19\u001b[39m\n\u001b[32m     17\u001b[39m \u001b[38;5;28;01mimport\u001b[39;00m\u001b[38;5;250m \u001b[39m\u001b[34;01mtensorflow\u001b[39;00m\u001b[34;01m.\u001b[39;00m\u001b[34;01mcompat\u001b[39;00m\u001b[34;01m.\u001b[39;00m\u001b[34;01mv2\u001b[39;00m\u001b[38;5;250m \u001b[39m\u001b[38;5;28;01mas\u001b[39;00m\u001b[38;5;250m \u001b[39m\u001b[34;01mtf\u001b[39;00m\n\u001b[32m---> \u001b[39m\u001b[32m19\u001b[39m \u001b[38;5;28;01mfrom\u001b[39;00m\u001b[38;5;250m \u001b[39m\u001b[34;01mtf_keras\u001b[39;00m\u001b[34;01m.\u001b[39;00m\u001b[34;01msrc\u001b[39;00m\u001b[34;01m.\u001b[39;00m\u001b[34;01mutils\u001b[39;00m\u001b[38;5;250m \u001b[39m\u001b[38;5;28;01mimport\u001b[39;00m object_identity\n\u001b[32m     21\u001b[39m \u001b[38;5;66;03m# isort: off\u001b[39;00m\n",
      "\u001b[36mFile \u001b[39m\u001b[32m~/.pyenv/versions/3.11.11/lib/python3.11/site-packages/tf_keras/src/utils/__init__.py:53\u001b[39m\n\u001b[32m     52\u001b[39m \u001b[38;5;66;03m# Preprocessing utils\u001b[39;00m\n\u001b[32m---> \u001b[39m\u001b[32m53\u001b[39m \u001b[38;5;28;01mfrom\u001b[39;00m\u001b[38;5;250m \u001b[39m\u001b[34;01mtf_keras\u001b[39;00m\u001b[34;01m.\u001b[39;00m\u001b[34;01msrc\u001b[39;00m\u001b[34;01m.\u001b[39;00m\u001b[34;01mutils\u001b[39;00m\u001b[34;01m.\u001b[39;00m\u001b[34;01mfeature_space\u001b[39;00m\u001b[38;5;250m \u001b[39m\u001b[38;5;28;01mimport\u001b[39;00m FeatureSpace\n\u001b[32m     55\u001b[39m \u001b[38;5;66;03m# Internal\u001b[39;00m\n",
      "\u001b[36mFile \u001b[39m\u001b[32m~/.pyenv/versions/3.11.11/lib/python3.11/site-packages/tf_keras/src/utils/feature_space.py:20\u001b[39m\n\u001b[32m     19\u001b[39m \u001b[38;5;28;01mfrom\u001b[39;00m\u001b[38;5;250m \u001b[39m\u001b[34;01mtf_keras\u001b[39;00m\u001b[34;01m.\u001b[39;00m\u001b[34;01msrc\u001b[39;00m\u001b[38;5;250m \u001b[39m\u001b[38;5;28;01mimport\u001b[39;00m backend\n\u001b[32m---> \u001b[39m\u001b[32m20\u001b[39m \u001b[38;5;28;01mfrom\u001b[39;00m\u001b[38;5;250m \u001b[39m\u001b[34;01mtf_keras\u001b[39;00m\u001b[34;01m.\u001b[39;00m\u001b[34;01msrc\u001b[39;00m\u001b[34;01m.\u001b[39;00m\u001b[34;01mengine\u001b[39;00m\u001b[38;5;250m \u001b[39m\u001b[38;5;28;01mimport\u001b[39;00m base_layer\n\u001b[32m     21\u001b[39m \u001b[38;5;28;01mfrom\u001b[39;00m\u001b[38;5;250m \u001b[39m\u001b[34;01mtf_keras\u001b[39;00m\u001b[34;01m.\u001b[39;00m\u001b[34;01msrc\u001b[39;00m\u001b[34;01m.\u001b[39;00m\u001b[34;01msaving\u001b[39;00m\u001b[38;5;250m \u001b[39m\u001b[38;5;28;01mimport\u001b[39;00m saving_lib\n",
      "\u001b[36mFile \u001b[39m\u001b[32m~/.pyenv/versions/3.11.11/lib/python3.11/site-packages/tf_keras/src/engine/base_layer.py:43\u001b[39m\n\u001b[32m     42\u001b[39m \u001b[38;5;28;01mfrom\u001b[39;00m\u001b[38;5;250m \u001b[39m\u001b[34;01mtf_keras\u001b[39;00m\u001b[34;01m.\u001b[39;00m\u001b[34;01msrc\u001b[39;00m\u001b[34;01m.\u001b[39;00m\u001b[34;01msaving\u001b[39;00m\u001b[38;5;250m \u001b[39m\u001b[38;5;28;01mimport\u001b[39;00m serialization_lib\n\u001b[32m---> \u001b[39m\u001b[32m43\u001b[39m \u001b[38;5;28;01mfrom\u001b[39;00m\u001b[38;5;250m \u001b[39m\u001b[34;01mtf_keras\u001b[39;00m\u001b[34;01m.\u001b[39;00m\u001b[34;01msrc\u001b[39;00m\u001b[34;01m.\u001b[39;00m\u001b[34;01msaving\u001b[39;00m\u001b[34;01m.\u001b[39;00m\u001b[34;01mlegacy\u001b[39;00m\u001b[34;01m.\u001b[39;00m\u001b[34;01msaved_model\u001b[39;00m\u001b[38;5;250m \u001b[39m\u001b[38;5;28;01mimport\u001b[39;00m layer_serialization\n\u001b[32m     44\u001b[39m \u001b[38;5;28;01mfrom\u001b[39;00m\u001b[38;5;250m \u001b[39m\u001b[34;01mtf_keras\u001b[39;00m\u001b[34;01m.\u001b[39;00m\u001b[34;01msrc\u001b[39;00m\u001b[34;01m.\u001b[39;00m\u001b[34;01mutils\u001b[39;00m\u001b[38;5;250m \u001b[39m\u001b[38;5;28;01mimport\u001b[39;00m generic_utils\n",
      "\u001b[36mFile \u001b[39m\u001b[32m~/.pyenv/versions/3.11.11/lib/python3.11/site-packages/tf_keras/src/saving/legacy/saved_model/layer_serialization.py:23\u001b[39m\n\u001b[32m     22\u001b[39m \u001b[38;5;28;01mfrom\u001b[39;00m\u001b[38;5;250m \u001b[39m\u001b[34;01mtf_keras\u001b[39;00m\u001b[34;01m.\u001b[39;00m\u001b[34;01msrc\u001b[39;00m\u001b[34;01m.\u001b[39;00m\u001b[34;01msaving\u001b[39;00m\u001b[34;01m.\u001b[39;00m\u001b[34;01mlegacy\u001b[39;00m\u001b[34;01m.\u001b[39;00m\u001b[34;01msaved_model\u001b[39;00m\u001b[38;5;250m \u001b[39m\u001b[38;5;28;01mimport\u001b[39;00m constants\n\u001b[32m---> \u001b[39m\u001b[32m23\u001b[39m \u001b[38;5;28;01mfrom\u001b[39;00m\u001b[38;5;250m \u001b[39m\u001b[34;01mtf_keras\u001b[39;00m\u001b[34;01m.\u001b[39;00m\u001b[34;01msrc\u001b[39;00m\u001b[34;01m.\u001b[39;00m\u001b[34;01msaving\u001b[39;00m\u001b[34;01m.\u001b[39;00m\u001b[34;01mlegacy\u001b[39;00m\u001b[34;01m.\u001b[39;00m\u001b[34;01msaved_model\u001b[39;00m\u001b[38;5;250m \u001b[39m\u001b[38;5;28;01mimport\u001b[39;00m save_impl\n\u001b[32m     24\u001b[39m \u001b[38;5;28;01mfrom\u001b[39;00m\u001b[38;5;250m \u001b[39m\u001b[34;01mtf_keras\u001b[39;00m\u001b[34;01m.\u001b[39;00m\u001b[34;01msrc\u001b[39;00m\u001b[34;01m.\u001b[39;00m\u001b[34;01msaving\u001b[39;00m\u001b[34;01m.\u001b[39;00m\u001b[34;01mlegacy\u001b[39;00m\u001b[34;01m.\u001b[39;00m\u001b[34;01msaved_model\u001b[39;00m\u001b[38;5;250m \u001b[39m\u001b[38;5;28;01mimport\u001b[39;00m serialized_attributes\n",
      "\u001b[36mFile \u001b[39m\u001b[32m~/.pyenv/versions/3.11.11/lib/python3.11/site-packages/tf_keras/src/saving/legacy/saved_model/save_impl.py:34\u001b[39m\n\u001b[32m     33\u001b[39m \u001b[38;5;28;01mfrom\u001b[39;00m\u001b[38;5;250m \u001b[39m\u001b[34;01mtf_keras\u001b[39;00m\u001b[34;01m.\u001b[39;00m\u001b[34;01msrc\u001b[39;00m\u001b[34;01m.\u001b[39;00m\u001b[34;01msaving\u001b[39;00m\u001b[34;01m.\u001b[39;00m\u001b[34;01mlegacy\u001b[39;00m\u001b[34;01m.\u001b[39;00m\u001b[34;01msaved_model\u001b[39;00m\u001b[38;5;250m \u001b[39m\u001b[38;5;28;01mimport\u001b[39;00m constants\n\u001b[32m---> \u001b[39m\u001b[32m34\u001b[39m \u001b[38;5;28;01mfrom\u001b[39;00m\u001b[38;5;250m \u001b[39m\u001b[34;01mtf_keras\u001b[39;00m\u001b[34;01m.\u001b[39;00m\u001b[34;01msrc\u001b[39;00m\u001b[34;01m.\u001b[39;00m\u001b[34;01msaving\u001b[39;00m\u001b[34;01m.\u001b[39;00m\u001b[34;01mlegacy\u001b[39;00m\u001b[34;01m.\u001b[39;00m\u001b[34;01msaved_model\u001b[39;00m\u001b[38;5;250m \u001b[39m\u001b[38;5;28;01mimport\u001b[39;00m load \u001b[38;5;28;01mas\u001b[39;00m keras_load\n\u001b[32m     35\u001b[39m \u001b[38;5;28;01mfrom\u001b[39;00m\u001b[38;5;250m \u001b[39m\u001b[34;01mtf_keras\u001b[39;00m\u001b[34;01m.\u001b[39;00m\u001b[34;01msrc\u001b[39;00m\u001b[34;01m.\u001b[39;00m\u001b[34;01msaving\u001b[39;00m\u001b[34;01m.\u001b[39;00m\u001b[34;01mlegacy\u001b[39;00m\u001b[34;01m.\u001b[39;00m\u001b[34;01msaved_model\u001b[39;00m\u001b[38;5;250m \u001b[39m\u001b[38;5;28;01mimport\u001b[39;00m serialized_attributes\n",
      "\u001b[36mFile \u001b[39m\u001b[32m~/.pyenv/versions/3.11.11/lib/python3.11/site-packages/tf_keras/src/saving/legacy/saved_model/load.py:29\u001b[39m\n\u001b[32m     28\u001b[39m \u001b[38;5;28;01mfrom\u001b[39;00m\u001b[38;5;250m \u001b[39m\u001b[34;01mtf_keras\u001b[39;00m\u001b[34;01m.\u001b[39;00m\u001b[34;01msrc\u001b[39;00m\u001b[34;01m.\u001b[39;00m\u001b[34;01moptimizers\u001b[39;00m\u001b[34;01m.\u001b[39;00m\u001b[34;01mlegacy\u001b[39;00m\u001b[38;5;250m \u001b[39m\u001b[38;5;28;01mimport\u001b[39;00m optimizer_v2\n\u001b[32m---> \u001b[39m\u001b[32m29\u001b[39m \u001b[38;5;28;01mfrom\u001b[39;00m\u001b[38;5;250m \u001b[39m\u001b[34;01mtf_keras\u001b[39;00m\u001b[34;01m.\u001b[39;00m\u001b[34;01mprotobuf\u001b[39;00m\u001b[38;5;250m \u001b[39m\u001b[38;5;28;01mimport\u001b[39;00m saved_metadata_pb2\n\u001b[32m     30\u001b[39m \u001b[38;5;28;01mfrom\u001b[39;00m\u001b[38;5;250m \u001b[39m\u001b[34;01mtf_keras\u001b[39;00m\u001b[34;01m.\u001b[39;00m\u001b[34;01mprotobuf\u001b[39;00m\u001b[38;5;250m \u001b[39m\u001b[38;5;28;01mimport\u001b[39;00m versions_pb2\n",
      "\u001b[36mFile \u001b[39m\u001b[32m~/.pyenv/versions/3.11.11/lib/python3.11/site-packages/tf_keras/protobuf/saved_metadata_pb2.py:9\u001b[39m\n\u001b[32m      8\u001b[39m \u001b[38;5;28;01mfrom\u001b[39;00m\u001b[38;5;250m \u001b[39m\u001b[34;01mgoogle\u001b[39;00m\u001b[34;01m.\u001b[39;00m\u001b[34;01mprotobuf\u001b[39;00m\u001b[38;5;250m \u001b[39m\u001b[38;5;28;01mimport\u001b[39;00m descriptor_pool \u001b[38;5;28;01mas\u001b[39;00m _descriptor_pool\n\u001b[32m----> \u001b[39m\u001b[32m9\u001b[39m \u001b[38;5;28;01mfrom\u001b[39;00m\u001b[38;5;250m \u001b[39m\u001b[34;01mgoogle\u001b[39;00m\u001b[34;01m.\u001b[39;00m\u001b[34;01mprotobuf\u001b[39;00m\u001b[38;5;250m \u001b[39m\u001b[38;5;28;01mimport\u001b[39;00m runtime_version \u001b[38;5;28;01mas\u001b[39;00m _runtime_version\n\u001b[32m     10\u001b[39m \u001b[38;5;28;01mfrom\u001b[39;00m\u001b[38;5;250m \u001b[39m\u001b[34;01mgoogle\u001b[39;00m\u001b[34;01m.\u001b[39;00m\u001b[34;01mprotobuf\u001b[39;00m\u001b[38;5;250m \u001b[39m\u001b[38;5;28;01mimport\u001b[39;00m symbol_database \u001b[38;5;28;01mas\u001b[39;00m _symbol_database\n",
      "\u001b[31mImportError\u001b[39m: cannot import name 'runtime_version' from 'google.protobuf' (/home/johnsonhk88/.pyenv/versions/3.11.11/lib/python3.11/site-packages/google/protobuf/__init__.py)",
      "\nDuring handling of the above exception, another exception occurred:\n",
      "\u001b[31mValueError\u001b[39m                                Traceback (most recent call last)",
      "\u001b[36mFile \u001b[39m\u001b[32m~/.pyenv/versions/3.11.11/lib/python3.11/site-packages/transformers/utils/import_utils.py:1764\u001b[39m, in \u001b[36m_LazyModule._get_module\u001b[39m\u001b[34m(self, module_name)\u001b[39m\n\u001b[32m   1763\u001b[39m \u001b[38;5;28;01mtry\u001b[39;00m:\n\u001b[32m-> \u001b[39m\u001b[32m1764\u001b[39m     \u001b[38;5;28;01mreturn\u001b[39;00m \u001b[43mimportlib\u001b[49m\u001b[43m.\u001b[49m\u001b[43mimport_module\u001b[49m\u001b[43m(\u001b[49m\u001b[33;43m\"\u001b[39;49m\u001b[33;43m.\u001b[39;49m\u001b[33;43m\"\u001b[39;49m\u001b[43m \u001b[49m\u001b[43m+\u001b[49m\u001b[43m \u001b[49m\u001b[43mmodule_name\u001b[49m\u001b[43m,\u001b[49m\u001b[43m \u001b[49m\u001b[38;5;28;43mself\u001b[39;49m\u001b[43m.\u001b[49m\u001b[34;43m__name__\u001b[39;49m\u001b[43m)\u001b[49m\n\u001b[32m   1765\u001b[39m \u001b[38;5;28;01mexcept\u001b[39;00m \u001b[38;5;167;01mException\u001b[39;00m \u001b[38;5;28;01mas\u001b[39;00m e:\n",
      "\u001b[36mFile \u001b[39m\u001b[32m~/.pyenv/versions/3.11.11/lib/python3.11/importlib/__init__.py:126\u001b[39m, in \u001b[36mimport_module\u001b[39m\u001b[34m(name, package)\u001b[39m\n\u001b[32m    125\u001b[39m         level += \u001b[32m1\u001b[39m\n\u001b[32m--> \u001b[39m\u001b[32m126\u001b[39m \u001b[38;5;28;01mreturn\u001b[39;00m \u001b[43m_bootstrap\u001b[49m\u001b[43m.\u001b[49m\u001b[43m_gcd_import\u001b[49m\u001b[43m(\u001b[49m\u001b[43mname\u001b[49m\u001b[43m[\u001b[49m\u001b[43mlevel\u001b[49m\u001b[43m:\u001b[49m\u001b[43m]\u001b[49m\u001b[43m,\u001b[49m\u001b[43m \u001b[49m\u001b[43mpackage\u001b[49m\u001b[43m,\u001b[49m\u001b[43m \u001b[49m\u001b[43mlevel\u001b[49m\u001b[43m)\u001b[49m\n",
      "\u001b[36mFile \u001b[39m\u001b[32m<frozen importlib._bootstrap>:1204\u001b[39m, in \u001b[36m_gcd_import\u001b[39m\u001b[34m(name, package, level)\u001b[39m\n",
      "\u001b[36mFile \u001b[39m\u001b[32m<frozen importlib._bootstrap>:1176\u001b[39m, in \u001b[36m_find_and_load\u001b[39m\u001b[34m(name, import_)\u001b[39m\n",
      "\u001b[36mFile \u001b[39m\u001b[32m<frozen importlib._bootstrap>:1147\u001b[39m, in \u001b[36m_find_and_load_unlocked\u001b[39m\u001b[34m(name, import_)\u001b[39m\n",
      "\u001b[36mFile \u001b[39m\u001b[32m<frozen importlib._bootstrap>:690\u001b[39m, in \u001b[36m_load_unlocked\u001b[39m\u001b[34m(spec)\u001b[39m\n",
      "\u001b[36mFile \u001b[39m\u001b[32m<frozen importlib._bootstrap_external>:940\u001b[39m, in \u001b[36mexec_module\u001b[39m\u001b[34m(self, module)\u001b[39m\n",
      "\u001b[36mFile \u001b[39m\u001b[32m<frozen importlib._bootstrap>:241\u001b[39m, in \u001b[36m_call_with_frames_removed\u001b[39m\u001b[34m(f, *args, **kwds)\u001b[39m\n",
      "\u001b[36mFile \u001b[39m\u001b[32m~/.pyenv/versions/3.11.11/lib/python3.11/site-packages/transformers/modeling_tf_utils.py:38\u001b[39m\n\u001b[32m     37\u001b[39m \u001b[38;5;28;01mfrom\u001b[39;00m\u001b[38;5;250m \u001b[39m\u001b[34;01m.\u001b[39;00m\u001b[38;5;250m \u001b[39m\u001b[38;5;28;01mimport\u001b[39;00m DataCollatorWithPadding, DefaultDataCollator\n\u001b[32m---> \u001b[39m\u001b[32m38\u001b[39m \u001b[38;5;28;01mfrom\u001b[39;00m\u001b[38;5;250m \u001b[39m\u001b[34;01m.\u001b[39;00m\u001b[34;01mactivations_tf\u001b[39;00m\u001b[38;5;250m \u001b[39m\u001b[38;5;28;01mimport\u001b[39;00m get_tf_activation\n\u001b[32m     39\u001b[39m \u001b[38;5;28;01mfrom\u001b[39;00m\u001b[38;5;250m \u001b[39m\u001b[34;01m.\u001b[39;00m\u001b[34;01mconfiguration_utils\u001b[39;00m\u001b[38;5;250m \u001b[39m\u001b[38;5;28;01mimport\u001b[39;00m PretrainedConfig\n",
      "\u001b[36mFile \u001b[39m\u001b[32m~/.pyenv/versions/3.11.11/lib/python3.11/site-packages/transformers/activations_tf.py:27\u001b[39m\n\u001b[32m     26\u001b[39m     \u001b[38;5;28;01mif\u001b[39;00m parse(keras.__version__).major > \u001b[32m2\u001b[39m:\n\u001b[32m---> \u001b[39m\u001b[32m27\u001b[39m         \u001b[38;5;28;01mraise\u001b[39;00m \u001b[38;5;167;01mValueError\u001b[39;00m(\n\u001b[32m     28\u001b[39m             \u001b[33m\"\u001b[39m\u001b[33mYour currently installed version of Keras is Keras 3, but this is not yet supported in \u001b[39m\u001b[33m\"\u001b[39m\n\u001b[32m     29\u001b[39m             \u001b[33m\"\u001b[39m\u001b[33mTransformers. Please install the backwards-compatible tf-keras package with \u001b[39m\u001b[33m\"\u001b[39m\n\u001b[32m     30\u001b[39m             \u001b[33m\"\u001b[39m\u001b[33m`pip install tf-keras`.\u001b[39m\u001b[33m\"\u001b[39m\n\u001b[32m     31\u001b[39m         )\n\u001b[32m     34\u001b[39m \u001b[38;5;28;01mdef\u001b[39;00m\u001b[38;5;250m \u001b[39m\u001b[34m_gelu\u001b[39m(x):\n",
      "\u001b[31mValueError\u001b[39m: Your currently installed version of Keras is Keras 3, but this is not yet supported in Transformers. Please install the backwards-compatible tf-keras package with `pip install tf-keras`.",
      "\nThe above exception was the direct cause of the following exception:\n",
      "\u001b[31mRuntimeError\u001b[39m                              Traceback (most recent call last)",
      "\u001b[36mFile \u001b[39m\u001b[32m~/.pyenv/versions/3.11.11/lib/python3.11/site-packages/transformers/utils/import_utils.py:1764\u001b[39m, in \u001b[36m_LazyModule._get_module\u001b[39m\u001b[34m(self, module_name)\u001b[39m\n\u001b[32m   1763\u001b[39m \u001b[38;5;28;01mtry\u001b[39;00m:\n\u001b[32m-> \u001b[39m\u001b[32m1764\u001b[39m     \u001b[38;5;28;01mreturn\u001b[39;00m \u001b[43mimportlib\u001b[49m\u001b[43m.\u001b[49m\u001b[43mimport_module\u001b[49m\u001b[43m(\u001b[49m\u001b[33;43m\"\u001b[39;49m\u001b[33;43m.\u001b[39;49m\u001b[33;43m\"\u001b[39;49m\u001b[43m \u001b[49m\u001b[43m+\u001b[49m\u001b[43m \u001b[49m\u001b[43mmodule_name\u001b[49m\u001b[43m,\u001b[49m\u001b[43m \u001b[49m\u001b[38;5;28;43mself\u001b[39;49m\u001b[43m.\u001b[49m\u001b[34;43m__name__\u001b[39;49m\u001b[43m)\u001b[49m\n\u001b[32m   1765\u001b[39m \u001b[38;5;28;01mexcept\u001b[39;00m \u001b[38;5;167;01mException\u001b[39;00m \u001b[38;5;28;01mas\u001b[39;00m e:\n",
      "\u001b[36mFile \u001b[39m\u001b[32m~/.pyenv/versions/3.11.11/lib/python3.11/importlib/__init__.py:126\u001b[39m, in \u001b[36mimport_module\u001b[39m\u001b[34m(name, package)\u001b[39m\n\u001b[32m    125\u001b[39m         level += \u001b[32m1\u001b[39m\n\u001b[32m--> \u001b[39m\u001b[32m126\u001b[39m \u001b[38;5;28;01mreturn\u001b[39;00m \u001b[43m_bootstrap\u001b[49m\u001b[43m.\u001b[49m\u001b[43m_gcd_import\u001b[49m\u001b[43m(\u001b[49m\u001b[43mname\u001b[49m\u001b[43m[\u001b[49m\u001b[43mlevel\u001b[49m\u001b[43m:\u001b[49m\u001b[43m]\u001b[49m\u001b[43m,\u001b[49m\u001b[43m \u001b[49m\u001b[43mpackage\u001b[49m\u001b[43m,\u001b[49m\u001b[43m \u001b[49m\u001b[43mlevel\u001b[49m\u001b[43m)\u001b[49m\n",
      "\u001b[36mFile \u001b[39m\u001b[32m<frozen importlib._bootstrap>:1204\u001b[39m, in \u001b[36m_gcd_import\u001b[39m\u001b[34m(name, package, level)\u001b[39m\n",
      "\u001b[36mFile \u001b[39m\u001b[32m<frozen importlib._bootstrap>:1176\u001b[39m, in \u001b[36m_find_and_load\u001b[39m\u001b[34m(name, import_)\u001b[39m\n",
      "\u001b[36mFile \u001b[39m\u001b[32m<frozen importlib._bootstrap>:1147\u001b[39m, in \u001b[36m_find_and_load_unlocked\u001b[39m\u001b[34m(name, import_)\u001b[39m\n",
      "\u001b[36mFile \u001b[39m\u001b[32m<frozen importlib._bootstrap>:690\u001b[39m, in \u001b[36m_load_unlocked\u001b[39m\u001b[34m(spec)\u001b[39m\n",
      "\u001b[36mFile \u001b[39m\u001b[32m<frozen importlib._bootstrap_external>:940\u001b[39m, in \u001b[36mexec_module\u001b[39m\u001b[34m(self, module)\u001b[39m\n",
      "\u001b[36mFile \u001b[39m\u001b[32m<frozen importlib._bootstrap>:241\u001b[39m, in \u001b[36m_call_with_frames_removed\u001b[39m\u001b[34m(f, *args, **kwds)\u001b[39m\n",
      "\u001b[36mFile \u001b[39m\u001b[32m~/.pyenv/versions/3.11.11/lib/python3.11/site-packages/transformers/integrations/integration_utils.py:36\u001b[39m\n\u001b[32m     34\u001b[39m \u001b[38;5;28;01mimport\u001b[39;00m\u001b[38;5;250m \u001b[39m\u001b[34;01mpackaging\u001b[39;00m\u001b[34;01m.\u001b[39;00m\u001b[34;01mversion\u001b[39;00m\n\u001b[32m---> \u001b[39m\u001b[32m36\u001b[39m \u001b[38;5;28;01mfrom\u001b[39;00m\u001b[38;5;250m \u001b[39m\u001b[34;01m.\u001b[39;00m\u001b[34;01m.\u001b[39;00m\u001b[38;5;250m \u001b[39m\u001b[38;5;28;01mimport\u001b[39;00m PreTrainedModel, TFPreTrainedModel\n\u001b[32m     37\u001b[39m \u001b[38;5;28;01mfrom\u001b[39;00m\u001b[38;5;250m \u001b[39m\u001b[34;01m.\u001b[39;00m\u001b[34;01m.\u001b[39;00m\u001b[38;5;250m \u001b[39m\u001b[38;5;28;01mimport\u001b[39;00m __version__ \u001b[38;5;28;01mas\u001b[39;00m version\n",
      "\u001b[36mFile \u001b[39m\u001b[32m<frozen importlib._bootstrap>:1229\u001b[39m, in \u001b[36m_handle_fromlist\u001b[39m\u001b[34m(module, fromlist, import_, recursive)\u001b[39m\n",
      "\u001b[36mFile \u001b[39m\u001b[32m~/.pyenv/versions/3.11.11/lib/python3.11/site-packages/transformers/utils/import_utils.py:1754\u001b[39m, in \u001b[36m_LazyModule.__getattr__\u001b[39m\u001b[34m(self, name)\u001b[39m\n\u001b[32m   1753\u001b[39m \u001b[38;5;28;01melif\u001b[39;00m name \u001b[38;5;129;01min\u001b[39;00m \u001b[38;5;28mself\u001b[39m._class_to_module.keys():\n\u001b[32m-> \u001b[39m\u001b[32m1754\u001b[39m     module = \u001b[38;5;28;43mself\u001b[39;49m\u001b[43m.\u001b[49m\u001b[43m_get_module\u001b[49m\u001b[43m(\u001b[49m\u001b[38;5;28;43mself\u001b[39;49m\u001b[43m.\u001b[49m\u001b[43m_class_to_module\u001b[49m\u001b[43m[\u001b[49m\u001b[43mname\u001b[49m\u001b[43m]\u001b[49m\u001b[43m)\u001b[49m\n\u001b[32m   1755\u001b[39m     value = \u001b[38;5;28mgetattr\u001b[39m(module, name)\n",
      "\u001b[36mFile \u001b[39m\u001b[32m~/.pyenv/versions/3.11.11/lib/python3.11/site-packages/transformers/utils/import_utils.py:1766\u001b[39m, in \u001b[36m_LazyModule._get_module\u001b[39m\u001b[34m(self, module_name)\u001b[39m\n\u001b[32m   1765\u001b[39m \u001b[38;5;28;01mexcept\u001b[39;00m \u001b[38;5;167;01mException\u001b[39;00m \u001b[38;5;28;01mas\u001b[39;00m e:\n\u001b[32m-> \u001b[39m\u001b[32m1766\u001b[39m     \u001b[38;5;28;01mraise\u001b[39;00m \u001b[38;5;167;01mRuntimeError\u001b[39;00m(\n\u001b[32m   1767\u001b[39m         \u001b[33mf\u001b[39m\u001b[33m\"\u001b[39m\u001b[33mFailed to import \u001b[39m\u001b[38;5;132;01m{\u001b[39;00m\u001b[38;5;28mself\u001b[39m.\u001b[34m__name__\u001b[39m\u001b[38;5;132;01m}\u001b[39;00m\u001b[33m.\u001b[39m\u001b[38;5;132;01m{\u001b[39;00mmodule_name\u001b[38;5;132;01m}\u001b[39;00m\u001b[33m because of the following error (look up to see its\u001b[39m\u001b[33m\"\u001b[39m\n\u001b[32m   1768\u001b[39m         \u001b[33mf\u001b[39m\u001b[33m\"\u001b[39m\u001b[33m traceback):\u001b[39m\u001b[38;5;130;01m\\n\u001b[39;00m\u001b[38;5;132;01m{\u001b[39;00me\u001b[38;5;132;01m}\u001b[39;00m\u001b[33m\"\u001b[39m\n\u001b[32m   1769\u001b[39m     ) \u001b[38;5;28;01mfrom\u001b[39;00m\u001b[38;5;250m \u001b[39m\u001b[34;01me\u001b[39;00m\n",
      "\u001b[31mRuntimeError\u001b[39m: Failed to import transformers.modeling_tf_utils because of the following error (look up to see its traceback):\nYour currently installed version of Keras is Keras 3, but this is not yet supported in Transformers. Please install the backwards-compatible tf-keras package with `pip install tf-keras`.",
      "\nThe above exception was the direct cause of the following exception:\n",
      "\u001b[31mRuntimeError\u001b[39m                              Traceback (most recent call last)",
      "\u001b[36mFile \u001b[39m\u001b[32m~/.pyenv/versions/3.11.11/lib/python3.11/site-packages/transformers/utils/import_utils.py:1764\u001b[39m, in \u001b[36m_LazyModule._get_module\u001b[39m\u001b[34m(self, module_name)\u001b[39m\n\u001b[32m   1763\u001b[39m \u001b[38;5;28;01mtry\u001b[39;00m:\n\u001b[32m-> \u001b[39m\u001b[32m1764\u001b[39m     \u001b[38;5;28;01mreturn\u001b[39;00m \u001b[43mimportlib\u001b[49m\u001b[43m.\u001b[49m\u001b[43mimport_module\u001b[49m\u001b[43m(\u001b[49m\u001b[33;43m\"\u001b[39;49m\u001b[33;43m.\u001b[39;49m\u001b[33;43m\"\u001b[39;49m\u001b[43m \u001b[49m\u001b[43m+\u001b[49m\u001b[43m \u001b[49m\u001b[43mmodule_name\u001b[49m\u001b[43m,\u001b[49m\u001b[43m \u001b[49m\u001b[38;5;28;43mself\u001b[39;49m\u001b[43m.\u001b[49m\u001b[34;43m__name__\u001b[39;49m\u001b[43m)\u001b[49m\n\u001b[32m   1765\u001b[39m \u001b[38;5;28;01mexcept\u001b[39;00m \u001b[38;5;167;01mException\u001b[39;00m \u001b[38;5;28;01mas\u001b[39;00m e:\n",
      "\u001b[36mFile \u001b[39m\u001b[32m~/.pyenv/versions/3.11.11/lib/python3.11/importlib/__init__.py:126\u001b[39m, in \u001b[36mimport_module\u001b[39m\u001b[34m(name, package)\u001b[39m\n\u001b[32m    125\u001b[39m         level += \u001b[32m1\u001b[39m\n\u001b[32m--> \u001b[39m\u001b[32m126\u001b[39m \u001b[38;5;28;01mreturn\u001b[39;00m \u001b[43m_bootstrap\u001b[49m\u001b[43m.\u001b[49m\u001b[43m_gcd_import\u001b[49m\u001b[43m(\u001b[49m\u001b[43mname\u001b[49m\u001b[43m[\u001b[49m\u001b[43mlevel\u001b[49m\u001b[43m:\u001b[49m\u001b[43m]\u001b[49m\u001b[43m,\u001b[49m\u001b[43m \u001b[49m\u001b[43mpackage\u001b[49m\u001b[43m,\u001b[49m\u001b[43m \u001b[49m\u001b[43mlevel\u001b[49m\u001b[43m)\u001b[49m\n",
      "\u001b[36mFile \u001b[39m\u001b[32m<frozen importlib._bootstrap>:1204\u001b[39m, in \u001b[36m_gcd_import\u001b[39m\u001b[34m(name, package, level)\u001b[39m\n",
      "\u001b[36mFile \u001b[39m\u001b[32m<frozen importlib._bootstrap>:1176\u001b[39m, in \u001b[36m_find_and_load\u001b[39m\u001b[34m(name, import_)\u001b[39m\n",
      "\u001b[36mFile \u001b[39m\u001b[32m<frozen importlib._bootstrap>:1147\u001b[39m, in \u001b[36m_find_and_load_unlocked\u001b[39m\u001b[34m(name, import_)\u001b[39m\n",
      "\u001b[36mFile \u001b[39m\u001b[32m<frozen importlib._bootstrap>:690\u001b[39m, in \u001b[36m_load_unlocked\u001b[39m\u001b[34m(spec)\u001b[39m\n",
      "\u001b[36mFile \u001b[39m\u001b[32m<frozen importlib._bootstrap_external>:940\u001b[39m, in \u001b[36mexec_module\u001b[39m\u001b[34m(self, module)\u001b[39m\n",
      "\u001b[36mFile \u001b[39m\u001b[32m<frozen importlib._bootstrap>:241\u001b[39m, in \u001b[36m_call_with_frames_removed\u001b[39m\u001b[34m(f, *args, **kwds)\u001b[39m\n",
      "\u001b[36mFile \u001b[39m\u001b[32m~/.pyenv/versions/3.11.11/lib/python3.11/site-packages/transformers/trainer.py:42\u001b[39m\n\u001b[32m     40\u001b[39m \u001b[38;5;66;03m# Integrations must be imported before ML frameworks:\u001b[39;00m\n\u001b[32m     41\u001b[39m \u001b[38;5;66;03m# isort: off\u001b[39;00m\n\u001b[32m---> \u001b[39m\u001b[32m42\u001b[39m \u001b[38;5;28;01mfrom\u001b[39;00m\u001b[38;5;250m \u001b[39m\u001b[34;01m.\u001b[39;00m\u001b[34;01mintegrations\u001b[39;00m\u001b[38;5;250m \u001b[39m\u001b[38;5;28;01mimport\u001b[39;00m (\n\u001b[32m     43\u001b[39m     get_reporting_integration_callbacks,\n\u001b[32m     44\u001b[39m     hp_params,\n\u001b[32m     45\u001b[39m )\n\u001b[32m     47\u001b[39m \u001b[38;5;66;03m# isort: on\u001b[39;00m\n",
      "\u001b[36mFile \u001b[39m\u001b[32m<frozen importlib._bootstrap>:1229\u001b[39m, in \u001b[36m_handle_fromlist\u001b[39m\u001b[34m(module, fromlist, import_, recursive)\u001b[39m\n",
      "\u001b[36mFile \u001b[39m\u001b[32m~/.pyenv/versions/3.11.11/lib/python3.11/site-packages/transformers/utils/import_utils.py:1754\u001b[39m, in \u001b[36m_LazyModule.__getattr__\u001b[39m\u001b[34m(self, name)\u001b[39m\n\u001b[32m   1753\u001b[39m \u001b[38;5;28;01melif\u001b[39;00m name \u001b[38;5;129;01min\u001b[39;00m \u001b[38;5;28mself\u001b[39m._class_to_module.keys():\n\u001b[32m-> \u001b[39m\u001b[32m1754\u001b[39m     module = \u001b[38;5;28;43mself\u001b[39;49m\u001b[43m.\u001b[49m\u001b[43m_get_module\u001b[49m\u001b[43m(\u001b[49m\u001b[38;5;28;43mself\u001b[39;49m\u001b[43m.\u001b[49m\u001b[43m_class_to_module\u001b[49m\u001b[43m[\u001b[49m\u001b[43mname\u001b[49m\u001b[43m]\u001b[49m\u001b[43m)\u001b[49m\n\u001b[32m   1755\u001b[39m     value = \u001b[38;5;28mgetattr\u001b[39m(module, name)\n",
      "\u001b[36mFile \u001b[39m\u001b[32m~/.pyenv/versions/3.11.11/lib/python3.11/site-packages/transformers/utils/import_utils.py:1766\u001b[39m, in \u001b[36m_LazyModule._get_module\u001b[39m\u001b[34m(self, module_name)\u001b[39m\n\u001b[32m   1765\u001b[39m \u001b[38;5;28;01mexcept\u001b[39;00m \u001b[38;5;167;01mException\u001b[39;00m \u001b[38;5;28;01mas\u001b[39;00m e:\n\u001b[32m-> \u001b[39m\u001b[32m1766\u001b[39m     \u001b[38;5;28;01mraise\u001b[39;00m \u001b[38;5;167;01mRuntimeError\u001b[39;00m(\n\u001b[32m   1767\u001b[39m         \u001b[33mf\u001b[39m\u001b[33m\"\u001b[39m\u001b[33mFailed to import \u001b[39m\u001b[38;5;132;01m{\u001b[39;00m\u001b[38;5;28mself\u001b[39m.\u001b[34m__name__\u001b[39m\u001b[38;5;132;01m}\u001b[39;00m\u001b[33m.\u001b[39m\u001b[38;5;132;01m{\u001b[39;00mmodule_name\u001b[38;5;132;01m}\u001b[39;00m\u001b[33m because of the following error (look up to see its\u001b[39m\u001b[33m\"\u001b[39m\n\u001b[32m   1768\u001b[39m         \u001b[33mf\u001b[39m\u001b[33m\"\u001b[39m\u001b[33m traceback):\u001b[39m\u001b[38;5;130;01m\\n\u001b[39;00m\u001b[38;5;132;01m{\u001b[39;00me\u001b[38;5;132;01m}\u001b[39;00m\u001b[33m\"\u001b[39m\n\u001b[32m   1769\u001b[39m     ) \u001b[38;5;28;01mfrom\u001b[39;00m\u001b[38;5;250m \u001b[39m\u001b[34;01me\u001b[39;00m\n",
      "\u001b[31mRuntimeError\u001b[39m: Failed to import transformers.integrations.integration_utils because of the following error (look up to see its traceback):\nFailed to import transformers.modeling_tf_utils because of the following error (look up to see its traceback):\nYour currently installed version of Keras is Keras 3, but this is not yet supported in Transformers. Please install the backwards-compatible tf-keras package with `pip install tf-keras`.",
      "\nThe above exception was the direct cause of the following exception:\n",
      "\u001b[31mRuntimeError\u001b[39m                              Traceback (most recent call last)",
      "\u001b[36mFile \u001b[39m\u001b[32m~/.pyenv/versions/3.11.11/lib/python3.11/site-packages/trl/import_utils.py:142\u001b[39m, in \u001b[36m_LazyModule._get_module\u001b[39m\u001b[34m(self, module_name)\u001b[39m\n\u001b[32m    141\u001b[39m \u001b[38;5;28;01mtry\u001b[39;00m:\n\u001b[32m--> \u001b[39m\u001b[32m142\u001b[39m     \u001b[38;5;28;01mreturn\u001b[39;00m \u001b[43mimportlib\u001b[49m\u001b[43m.\u001b[49m\u001b[43mimport_module\u001b[49m\u001b[43m(\u001b[49m\u001b[33;43m\"\u001b[39;49m\u001b[33;43m.\u001b[39;49m\u001b[33;43m\"\u001b[39;49m\u001b[43m \u001b[49m\u001b[43m+\u001b[49m\u001b[43m \u001b[49m\u001b[43mmodule_name\u001b[49m\u001b[43m,\u001b[49m\u001b[43m \u001b[49m\u001b[38;5;28;43mself\u001b[39;49m\u001b[43m.\u001b[49m\u001b[34;43m__name__\u001b[39;49m\u001b[43m)\u001b[49m\n\u001b[32m    143\u001b[39m \u001b[38;5;28;01mexcept\u001b[39;00m \u001b[38;5;167;01mException\u001b[39;00m \u001b[38;5;28;01mas\u001b[39;00m e:\n",
      "\u001b[36mFile \u001b[39m\u001b[32m~/.pyenv/versions/3.11.11/lib/python3.11/importlib/__init__.py:126\u001b[39m, in \u001b[36mimport_module\u001b[39m\u001b[34m(name, package)\u001b[39m\n\u001b[32m    125\u001b[39m         level += \u001b[32m1\u001b[39m\n\u001b[32m--> \u001b[39m\u001b[32m126\u001b[39m \u001b[38;5;28;01mreturn\u001b[39;00m \u001b[43m_bootstrap\u001b[49m\u001b[43m.\u001b[49m\u001b[43m_gcd_import\u001b[49m\u001b[43m(\u001b[49m\u001b[43mname\u001b[49m\u001b[43m[\u001b[49m\u001b[43mlevel\u001b[49m\u001b[43m:\u001b[49m\u001b[43m]\u001b[49m\u001b[43m,\u001b[49m\u001b[43m \u001b[49m\u001b[43mpackage\u001b[49m\u001b[43m,\u001b[49m\u001b[43m \u001b[49m\u001b[43mlevel\u001b[49m\u001b[43m)\u001b[49m\n",
      "\u001b[36mFile \u001b[39m\u001b[32m<frozen importlib._bootstrap>:1204\u001b[39m, in \u001b[36m_gcd_import\u001b[39m\u001b[34m(name, package, level)\u001b[39m\n",
      "\u001b[36mFile \u001b[39m\u001b[32m<frozen importlib._bootstrap>:1176\u001b[39m, in \u001b[36m_find_and_load\u001b[39m\u001b[34m(name, import_)\u001b[39m\n",
      "\u001b[36mFile \u001b[39m\u001b[32m<frozen importlib._bootstrap>:1147\u001b[39m, in \u001b[36m_find_and_load_unlocked\u001b[39m\u001b[34m(name, import_)\u001b[39m\n",
      "\u001b[36mFile \u001b[39m\u001b[32m<frozen importlib._bootstrap>:690\u001b[39m, in \u001b[36m_load_unlocked\u001b[39m\u001b[34m(spec)\u001b[39m\n",
      "\u001b[36mFile \u001b[39m\u001b[32m<frozen importlib._bootstrap_external>:940\u001b[39m, in \u001b[36mexec_module\u001b[39m\u001b[34m(self, module)\u001b[39m\n",
      "\u001b[36mFile \u001b[39m\u001b[32m<frozen importlib._bootstrap>:241\u001b[39m, in \u001b[36m_call_with_frames_removed\u001b[39m\u001b[34m(f, *args, **kwds)\u001b[39m\n",
      "\u001b[36mFile \u001b[39m\u001b[32m~/.pyenv/versions/3.11.11/lib/python3.11/site-packages/trl/trainer/sft_trainer.py:28\u001b[39m\n\u001b[32m     27\u001b[39m \u001b[38;5;28;01mfrom\u001b[39;00m\u001b[38;5;250m \u001b[39m\u001b[34;01mhuggingface_hub\u001b[39;00m\u001b[34;01m.\u001b[39;00m\u001b[34;01mutils\u001b[39;00m\u001b[34;01m.\u001b[39;00m\u001b[34;01m_deprecation\u001b[39;00m\u001b[38;5;250m \u001b[39m\u001b[38;5;28;01mimport\u001b[39;00m _deprecate_arguments\n\u001b[32m---> \u001b[39m\u001b[32m28\u001b[39m \u001b[38;5;28;01mfrom\u001b[39;00m\u001b[38;5;250m \u001b[39m\u001b[34;01mtransformers\u001b[39;00m\u001b[38;5;250m \u001b[39m\u001b[38;5;28;01mimport\u001b[39;00m (\n\u001b[32m     29\u001b[39m     AutoModelForCausalLM,\n\u001b[32m     30\u001b[39m     AutoTokenizer,\n\u001b[32m     31\u001b[39m     DataCollator,\n\u001b[32m     32\u001b[39m     DataCollatorForLanguageModeling,\n\u001b[32m     33\u001b[39m     PreTrainedModel,\n\u001b[32m     34\u001b[39m     PreTrainedTokenizerBase,\n\u001b[32m     35\u001b[39m     Trainer,\n\u001b[32m     36\u001b[39m )\n\u001b[32m     37\u001b[39m \u001b[38;5;28;01mfrom\u001b[39;00m\u001b[38;5;250m \u001b[39m\u001b[34;01mtransformers\u001b[39;00m\u001b[34;01m.\u001b[39;00m\u001b[34;01mmodeling_utils\u001b[39;00m\u001b[38;5;250m \u001b[39m\u001b[38;5;28;01mimport\u001b[39;00m unwrap_model\n",
      "\u001b[36mFile \u001b[39m\u001b[32m<frozen importlib._bootstrap>:1229\u001b[39m, in \u001b[36m_handle_fromlist\u001b[39m\u001b[34m(module, fromlist, import_, recursive)\u001b[39m\n",
      "\u001b[36mFile \u001b[39m\u001b[32m~/.pyenv/versions/3.11.11/lib/python3.11/site-packages/transformers/utils/import_utils.py:1754\u001b[39m, in \u001b[36m_LazyModule.__getattr__\u001b[39m\u001b[34m(self, name)\u001b[39m\n\u001b[32m   1753\u001b[39m \u001b[38;5;28;01melif\u001b[39;00m name \u001b[38;5;129;01min\u001b[39;00m \u001b[38;5;28mself\u001b[39m._class_to_module.keys():\n\u001b[32m-> \u001b[39m\u001b[32m1754\u001b[39m     module = \u001b[38;5;28;43mself\u001b[39;49m\u001b[43m.\u001b[49m\u001b[43m_get_module\u001b[49m\u001b[43m(\u001b[49m\u001b[38;5;28;43mself\u001b[39;49m\u001b[43m.\u001b[49m\u001b[43m_class_to_module\u001b[49m\u001b[43m[\u001b[49m\u001b[43mname\u001b[49m\u001b[43m]\u001b[49m\u001b[43m)\u001b[49m\n\u001b[32m   1755\u001b[39m     value = \u001b[38;5;28mgetattr\u001b[39m(module, name)\n",
      "\u001b[36mFile \u001b[39m\u001b[32m~/.pyenv/versions/3.11.11/lib/python3.11/site-packages/transformers/utils/import_utils.py:1766\u001b[39m, in \u001b[36m_LazyModule._get_module\u001b[39m\u001b[34m(self, module_name)\u001b[39m\n\u001b[32m   1765\u001b[39m \u001b[38;5;28;01mexcept\u001b[39;00m \u001b[38;5;167;01mException\u001b[39;00m \u001b[38;5;28;01mas\u001b[39;00m e:\n\u001b[32m-> \u001b[39m\u001b[32m1766\u001b[39m     \u001b[38;5;28;01mraise\u001b[39;00m \u001b[38;5;167;01mRuntimeError\u001b[39;00m(\n\u001b[32m   1767\u001b[39m         \u001b[33mf\u001b[39m\u001b[33m\"\u001b[39m\u001b[33mFailed to import \u001b[39m\u001b[38;5;132;01m{\u001b[39;00m\u001b[38;5;28mself\u001b[39m.\u001b[34m__name__\u001b[39m\u001b[38;5;132;01m}\u001b[39;00m\u001b[33m.\u001b[39m\u001b[38;5;132;01m{\u001b[39;00mmodule_name\u001b[38;5;132;01m}\u001b[39;00m\u001b[33m because of the following error (look up to see its\u001b[39m\u001b[33m\"\u001b[39m\n\u001b[32m   1768\u001b[39m         \u001b[33mf\u001b[39m\u001b[33m\"\u001b[39m\u001b[33m traceback):\u001b[39m\u001b[38;5;130;01m\\n\u001b[39;00m\u001b[38;5;132;01m{\u001b[39;00me\u001b[38;5;132;01m}\u001b[39;00m\u001b[33m\"\u001b[39m\n\u001b[32m   1769\u001b[39m     ) \u001b[38;5;28;01mfrom\u001b[39;00m\u001b[38;5;250m \u001b[39m\u001b[34;01me\u001b[39;00m\n",
      "\u001b[31mRuntimeError\u001b[39m: Failed to import transformers.trainer because of the following error (look up to see its traceback):\nFailed to import transformers.integrations.integration_utils because of the following error (look up to see its traceback):\nFailed to import transformers.modeling_tf_utils because of the following error (look up to see its traceback):\nYour currently installed version of Keras is Keras 3, but this is not yet supported in Transformers. Please install the backwards-compatible tf-keras package with `pip install tf-keras`.",
      "\nThe above exception was the direct cause of the following exception:\n",
      "\u001b[31mRuntimeError\u001b[39m                              Traceback (most recent call last)",
      "\u001b[36mCell\u001b[39m\u001b[36m \u001b[39m\u001b[32mIn[5]\u001b[39m\u001b[32m, line 14\u001b[39m\n\u001b[32m     10\u001b[39m \u001b[38;5;28;01mfrom\u001b[39;00m\u001b[38;5;250m \u001b[39m\u001b[34;01mdatasets\u001b[39;00m\u001b[38;5;250m \u001b[39m\u001b[38;5;28;01mimport\u001b[39;00m Dataset, DatasetDict, load_dataset\n\u001b[32m     13\u001b[39m \u001b[38;5;66;03m# Fine tuning \u001b[39;00m\n\u001b[32m---> \u001b[39m\u001b[32m14\u001b[39m \u001b[38;5;28;01mfrom\u001b[39;00m\u001b[38;5;250m \u001b[39m\u001b[34;01mtrl\u001b[39;00m\u001b[38;5;250m \u001b[39m\u001b[38;5;28;01mimport\u001b[39;00m SFTTrainer, SFTConfig\n\u001b[32m     15\u001b[39m \u001b[38;5;28;01mfrom\u001b[39;00m\u001b[38;5;250m \u001b[39m\u001b[34;01mpeft\u001b[39;00m\u001b[38;5;250m \u001b[39m\u001b[38;5;28;01mimport\u001b[39;00m (LoraConfig, \n\u001b[32m     16\u001b[39m                     PeftModel, \n\u001b[32m     17\u001b[39m                     get_peft_model)\n\u001b[32m     18\u001b[39m                     \u001b[38;5;66;03m# prepare_model_for_kbit_training)  #prepare_model_for_int8_training deprecated \u001b[39;00m\n",
      "\u001b[36mFile \u001b[39m\u001b[32m<frozen importlib._bootstrap>:1229\u001b[39m, in \u001b[36m_handle_fromlist\u001b[39m\u001b[34m(module, fromlist, import_, recursive)\u001b[39m\n",
      "\u001b[36mFile \u001b[39m\u001b[32m~/.pyenv/versions/3.11.11/lib/python3.11/site-packages/trl/import_utils.py:133\u001b[39m, in \u001b[36m_LazyModule.__getattr__\u001b[39m\u001b[34m(self, name)\u001b[39m\n\u001b[32m    131\u001b[39m \u001b[38;5;28;01melif\u001b[39;00m name \u001b[38;5;129;01min\u001b[39;00m \u001b[38;5;28mself\u001b[39m._class_to_module.keys():\n\u001b[32m    132\u001b[39m     module = \u001b[38;5;28mself\u001b[39m._get_module(\u001b[38;5;28mself\u001b[39m._class_to_module[name])\n\u001b[32m--> \u001b[39m\u001b[32m133\u001b[39m     value = \u001b[38;5;28;43mgetattr\u001b[39;49m\u001b[43m(\u001b[49m\u001b[43mmodule\u001b[49m\u001b[43m,\u001b[49m\u001b[43m \u001b[49m\u001b[43mname\u001b[49m\u001b[43m)\u001b[49m\n\u001b[32m    134\u001b[39m \u001b[38;5;28;01melse\u001b[39;00m:\n\u001b[32m    135\u001b[39m     \u001b[38;5;28;01mraise\u001b[39;00m \u001b[38;5;167;01mAttributeError\u001b[39;00m(\u001b[33mf\u001b[39m\u001b[33m\"\u001b[39m\u001b[33mmodule \u001b[39m\u001b[38;5;132;01m{\u001b[39;00m\u001b[38;5;28mself\u001b[39m.\u001b[34m__name__\u001b[39m\u001b[38;5;132;01m}\u001b[39;00m\u001b[33m has no attribute \u001b[39m\u001b[38;5;132;01m{\u001b[39;00mname\u001b[38;5;132;01m}\u001b[39;00m\u001b[33m\"\u001b[39m)\n",
      "\u001b[36mFile \u001b[39m\u001b[32m~/.pyenv/versions/3.11.11/lib/python3.11/site-packages/trl/import_utils.py:132\u001b[39m, in \u001b[36m_LazyModule.__getattr__\u001b[39m\u001b[34m(self, name)\u001b[39m\n\u001b[32m    130\u001b[39m     value = \u001b[38;5;28mself\u001b[39m._get_module(name)\n\u001b[32m    131\u001b[39m \u001b[38;5;28;01melif\u001b[39;00m name \u001b[38;5;129;01min\u001b[39;00m \u001b[38;5;28mself\u001b[39m._class_to_module.keys():\n\u001b[32m--> \u001b[39m\u001b[32m132\u001b[39m     module = \u001b[38;5;28;43mself\u001b[39;49m\u001b[43m.\u001b[49m\u001b[43m_get_module\u001b[49m\u001b[43m(\u001b[49m\u001b[38;5;28;43mself\u001b[39;49m\u001b[43m.\u001b[49m\u001b[43m_class_to_module\u001b[49m\u001b[43m[\u001b[49m\u001b[43mname\u001b[49m\u001b[43m]\u001b[49m\u001b[43m)\u001b[49m\n\u001b[32m    133\u001b[39m     value = \u001b[38;5;28mgetattr\u001b[39m(module, name)\n\u001b[32m    134\u001b[39m \u001b[38;5;28;01melse\u001b[39;00m:\n",
      "\u001b[36mFile \u001b[39m\u001b[32m~/.pyenv/versions/3.11.11/lib/python3.11/site-packages/trl/import_utils.py:144\u001b[39m, in \u001b[36m_LazyModule._get_module\u001b[39m\u001b[34m(self, module_name)\u001b[39m\n\u001b[32m    142\u001b[39m     \u001b[38;5;28;01mreturn\u001b[39;00m importlib.import_module(\u001b[33m\"\u001b[39m\u001b[33m.\u001b[39m\u001b[33m\"\u001b[39m + module_name, \u001b[38;5;28mself\u001b[39m.\u001b[34m__name__\u001b[39m)\n\u001b[32m    143\u001b[39m \u001b[38;5;28;01mexcept\u001b[39;00m \u001b[38;5;167;01mException\u001b[39;00m \u001b[38;5;28;01mas\u001b[39;00m e:\n\u001b[32m--> \u001b[39m\u001b[32m144\u001b[39m     \u001b[38;5;28;01mraise\u001b[39;00m \u001b[38;5;167;01mRuntimeError\u001b[39;00m(\n\u001b[32m    145\u001b[39m         \u001b[33mf\u001b[39m\u001b[33m\"\u001b[39m\u001b[33mFailed to import \u001b[39m\u001b[38;5;132;01m{\u001b[39;00m\u001b[38;5;28mself\u001b[39m.\u001b[34m__name__\u001b[39m\u001b[38;5;132;01m}\u001b[39;00m\u001b[33m.\u001b[39m\u001b[38;5;132;01m{\u001b[39;00mmodule_name\u001b[38;5;132;01m}\u001b[39;00m\u001b[33m because of the following error (look up to see its\u001b[39m\u001b[33m\"\u001b[39m\n\u001b[32m    146\u001b[39m         \u001b[33mf\u001b[39m\u001b[33m\"\u001b[39m\u001b[33m traceback):\u001b[39m\u001b[38;5;130;01m\\n\u001b[39;00m\u001b[38;5;132;01m{\u001b[39;00me\u001b[38;5;132;01m}\u001b[39;00m\u001b[33m\"\u001b[39m\n\u001b[32m    147\u001b[39m     ) \u001b[38;5;28;01mfrom\u001b[39;00m\u001b[38;5;250m \u001b[39m\u001b[34;01me\u001b[39;00m\n",
      "\u001b[31mRuntimeError\u001b[39m: Failed to import trl.trainer.sft_trainer because of the following error (look up to see its traceback):\nFailed to import transformers.trainer because of the following error (look up to see its traceback):\nFailed to import transformers.integrations.integration_utils because of the following error (look up to see its traceback):\nFailed to import transformers.modeling_tf_utils because of the following error (look up to see its traceback):\nYour currently installed version of Keras is Keras 3, but this is not yet supported in Transformers. Please install the backwards-compatible tf-keras package with `pip install tf-keras`."
     ]
    }
   ],
   "source": [
    "import torch\n",
    "from sklearn.model_selection import train_test_split\n",
    "\n",
    "from transformers import (AutoTokenizer, \n",
    "                          BitsAndBytesConfig, \n",
    "                          AutoModelForCausalLM,\n",
    "                          AutoModelForSequenceClassification,\n",
    "                         TrainingArguments)\n",
    "\n",
    "from datasets import Dataset, DatasetDict, load_dataset\n",
    "\n",
    "\n",
    "# Fine tuning \n",
    "from trl import SFTTrainer, SFTConfig\n",
    "from peft import (LoraConfig, \n",
    "                    PeftModel, \n",
    "                    get_peft_model)\n",
    "                    # prepare_model_for_kbit_training)  #prepare_model_for_int8_training deprecated \n",
    "\n",
    "from sklearn.metrics import (classification_report, ConfusionMatrixDisplay, log_loss,\n",
    "                             f1_score, accuracy_score, precision_score, recall_score)"
   ]
  },
  {
   "cell_type": "code",
   "execution_count": null,
   "metadata": {},
   "outputs": [],
   "source": []
  },
  {
   "cell_type": "code",
   "execution_count": 8,
   "metadata": {
    "_cell_guid": "b1076dfc-b9ad-4769-8c92-a6c4dae69d19",
    "_uuid": "8f2839f25d086af736a60e9eeb907d3b93b6e0e5",
    "tags": []
   },
   "outputs": [],
   "source": [
    "\n",
    "\n",
    "# Input data files are available in the read-only \"../input/\" directory\n",
    "# For example, running this (by clicking run or pressing Shift+Enter) will list all files under the input directory\n",
    "\n",
    "# import os\n",
    "# for dirname, _, filenames in os.walk('/kaggle/input'):\n",
    "#     for filename in filenames:\n",
    "#         print(os.path.join(dirname, filename))\n",
    "\n",
    "# You can write up to 20GB to the current directory (/kaggle/working/) that gets preserved as output when you create a version using \"Save & Run All\" \n",
    "# You can also write temporary files to /kaggle/temp/, but they won't be saved outside of the current session"
   ]
  },
  {
   "cell_type": "code",
   "execution_count": 121,
   "metadata": {
    "tags": []
   },
   "outputs": [],
   "source": [
    "class CFG:\n",
    "    local = True  # False for kaggle , True for local test\n",
    "    DeepEval = False #True  # True must enable \"Internet on\" \n",
    "    SEED = 42\n",
    "\n",
    "     # LLM Config \n",
    "    reportTo =\"none\"\n",
    "    topK = 40\n",
    "    topP = 1.0\n",
    "    temperature = 0.1 #0.5\n",
    "    repetition_penalty = 1.05 # 1.1\n",
    "    maxOutToken = 300 #150#180 #100\n",
    "    test_size = 0.002 #0.005 #0.005 #0.1 #0.01 #0.005 #0.01\n",
    "\n",
    "\n",
    "    # Fine tuning Config\n",
    "    maxLength = 256 #368 #512 #1024 \n",
    "    reportTo = \"none\"\n",
    "    maxEpoch = 0.005 #0.01 #0.005 #0.5 #0.05 #0.02 #0.05  #0.1 #0.5 #1 #2\n",
    "    evalSteps = 20 #50 #30 #40 #20 \n",
    "    learning_rate = 5e-4 #8e-5 #5e-5 #2e-5 #2e-4 #1e-4\n",
    "    per_device_train_batch_size = 1 #2 #8 #10#6#16 #6 #2 #8#6 #8\n",
    "    per_device_eval_batch_size =  1 #2 # 8 #10 #6#16 #6 #2 #8#6 #8  \n",
    "    # Lora config\n",
    "    DROPOUT = 0.05\n",
    "    weight_decay = 0.01 \n",
    "\n",
    "    warmup_steps= 10 #5# 10\n",
    "    gradient_accumulation_steps = 4 #8 # 4 #2  #10\n",
    "    maxTrainStep =  500 #120 #160 #100 #50#100 #250 #150 \n",
    "    valDatasetSize = 50 #20 #10 #50 #500 # set validiation data size\n",
    "\n",
    "    #model\n",
    "    model1 = \"/kaggle/input/qwen-3/transformers/8b/1\"\n",
    "    model2 = \"/kaggle/input/qwen-3-reranker/transformers/4b/1\"\n",
    "\n",
    "    #\n",
    "    frac = 0.5 #0.3 #0.3 #0.3 #0.1 # Random resample data(reduce train data size )\n",
    "    \n",
    "\n",
    "    trainFile = \"/kaggle/input/map-charting-student-math-misunderstandings/train.csv\"\n",
    "    testFile  = \"/kaggle/input/map-charting-student-math-misunderstandings/test.csv\"\n",
    "    sampleFile = \"/kaggle/input/map-charting-student-math-misunderstandings/sample_submission.csv\"\n",
    "    deepspeedConfigFile = \"/kaggle/input/deepspeed-config-for-kaggle-t4x2-gpu/deepspeed_config.json\"\n",
    "\n",
    "    #local file\n",
    "    if local:\n",
    "        model1 = \"Qwen/Qwen3-8B\"\n",
    "        model2 = \"Qwen/Qwen3-Reranker-4B\"\n",
    "\n",
    "        trainFile = \"../dataset/train.csv\"\n",
    "        testFile = \"../dataset/test.csv\"\n",
    "        sampleFile = \"../dataset/sample_submission.csv\""
   ]
  },
  {
   "cell_type": "code",
   "execution_count": 10,
   "metadata": {},
   "outputs": [
    {
     "name": "stdout",
     "output_type": "stream",
     "text": [
      "Qwen/Qwen3-Reranker-4B\n",
      "../dataset/train.csv\n"
     ]
    },
    {
     "data": {
      "text/plain": [
       "(None, None)"
      ]
     },
     "execution_count": 10,
     "metadata": {},
     "output_type": "execute_result"
    }
   ],
   "source": [
    "print(CFG.model2) , print(CFG.trainFile)"
   ]
  },
  {
   "cell_type": "code",
   "execution_count": 11,
   "metadata": {
    "execution": {
     "iopub.execute_input": "2025-09-27T16:28:02.762927Z",
     "iopub.status.busy": "2025-09-27T16:28:02.762612Z",
     "iopub.status.idle": "2025-09-27T16:28:02.768924Z",
     "shell.execute_reply": "2025-09-27T16:28:02.768202Z",
     "shell.execute_reply.started": "2025-09-27T16:28:02.762906Z"
    }
   },
   "outputs": [
    {
     "data": {
      "text/plain": [
       "device(type='cuda')"
      ]
     },
     "execution_count": 11,
     "metadata": {},
     "output_type": "execute_result"
    }
   ],
   "source": [
    "device = torch.device(\"cuda\" if torch.cuda.is_available() else \"cpu\")\n",
    "device"
   ]
  },
  {
   "cell_type": "code",
   "execution_count": 12,
   "metadata": {
    "execution": {
     "iopub.execute_input": "2025-09-27T16:28:02.997783Z",
     "iopub.status.busy": "2025-09-27T16:28:02.996941Z",
     "iopub.status.idle": "2025-09-27T16:28:03.002817Z",
     "shell.execute_reply": "2025-09-27T16:28:03.002131Z",
     "shell.execute_reply.started": "2025-09-27T16:28:02.997754Z"
    }
   },
   "outputs": [
    {
     "data": {
      "text/plain": [
       "True"
      ]
     },
     "execution_count": 12,
     "metadata": {},
     "output_type": "execute_result"
    }
   ],
   "source": [
    "torch.cuda.is_bf16_supported()"
   ]
  },
  {
   "cell_type": "code",
   "execution_count": 13,
   "metadata": {
    "execution": {
     "iopub.execute_input": "2025-09-27T16:28:03.218379Z",
     "iopub.status.busy": "2025-09-27T16:28:03.218042Z",
     "iopub.status.idle": "2025-09-27T16:28:03.223041Z",
     "shell.execute_reply": "2025-09-27T16:28:03.222346Z",
     "shell.execute_reply.started": "2025-09-27T16:28:03.218354Z"
    }
   },
   "outputs": [],
   "source": [
    "def clearMemory():\n",
    "    for _ in range(5):\n",
    "        torch.cuda.empty_cache()\n",
    "        gc.collect()\n",
    "        time.sleep(0.3)"
   ]
  },
  {
   "cell_type": "code",
   "execution_count": 14,
   "metadata": {
    "execution": {
     "iopub.execute_input": "2025-09-27T14:43:40.930179Z",
     "iopub.status.busy": "2025-09-27T14:43:40.929857Z",
     "iopub.status.idle": "2025-09-27T14:43:44.507013Z",
     "shell.execute_reply": "2025-09-27T14:43:44.506098Z",
     "shell.execute_reply.started": "2025-09-27T14:43:40.930157Z"
    }
   },
   "outputs": [],
   "source": [
    "clearMemory()"
   ]
  },
  {
   "cell_type": "code",
   "execution_count": 15,
   "metadata": {
    "execution": {
     "iopub.execute_input": "2025-09-27T14:43:48.092641Z",
     "iopub.status.busy": "2025-09-27T14:43:48.092324Z",
     "iopub.status.idle": "2025-09-27T14:43:48.096375Z",
     "shell.execute_reply": "2025-09-27T14:43:48.095584Z",
     "shell.execute_reply.started": "2025-09-27T14:43:48.092620Z"
    }
   },
   "outputs": [],
   "source": [
    "# !accelerate config"
   ]
  },
  {
   "cell_type": "code",
   "execution_count": 16,
   "metadata": {
    "execution": {
     "iopub.execute_input": "2025-09-27T14:43:48.355921Z",
     "iopub.status.busy": "2025-09-27T14:43:48.355628Z",
     "iopub.status.idle": "2025-09-27T14:43:48.580876Z",
     "shell.execute_reply": "2025-09-27T14:43:48.580153Z",
     "shell.execute_reply.started": "2025-09-27T14:43:48.355899Z"
    }
   },
   "outputs": [
    {
     "data": {
      "application/vnd.microsoft.datawrangler.viewer.v0+json": {
       "columns": [
        {
         "name": "index",
         "rawType": "int64",
         "type": "integer"
        },
        {
         "name": "row_id",
         "rawType": "int64",
         "type": "integer"
        },
        {
         "name": "QuestionId",
         "rawType": "int64",
         "type": "integer"
        },
        {
         "name": "QuestionText",
         "rawType": "object",
         "type": "string"
        },
        {
         "name": "MC_Answer",
         "rawType": "object",
         "type": "string"
        },
        {
         "name": "StudentExplanation",
         "rawType": "object",
         "type": "string"
        },
        {
         "name": "Category",
         "rawType": "object",
         "type": "string"
        },
        {
         "name": "Misconception",
         "rawType": "object",
         "type": "unknown"
        }
       ],
       "ref": "9082b1a0-dfe1-4508-94e6-231443abfe27",
       "rows": [
        [
         "0",
         "0",
         "31772",
         "What fraction of the shape is not shaded? Give your answer in its simplest form. [Image: A triangle split into 9 equal smaller triangles. 6 of them are shaded.]",
         "\\( \\frac{1}{3} \\)",
         "0ne third is equal to tree nineth",
         "True_Correct",
         null
        ],
        [
         "1",
         "1",
         "31772",
         "What fraction of the shape is not shaded? Give your answer in its simplest form. [Image: A triangle split into 9 equal smaller triangles. 6 of them are shaded.]",
         "\\( \\frac{1}{3} \\)",
         "1 / 3 because 6 over 9 is 2 thirds and 1 third is not shaded.",
         "True_Correct",
         null
        ],
        [
         "2",
         "2",
         "31772",
         "What fraction of the shape is not shaded? Give your answer in its simplest form. [Image: A triangle split into 9 equal smaller triangles. 6 of them are shaded.]",
         "\\( \\frac{1}{3} \\)",
         "1 3rd is half of 3 6th, so it is simplee to understand.",
         "True_Neither",
         null
        ],
        [
         "3",
         "3",
         "31772",
         "What fraction of the shape is not shaded? Give your answer in its simplest form. [Image: A triangle split into 9 equal smaller triangles. 6 of them are shaded.]",
         "\\( \\frac{1}{3} \\)",
         "1 goes into everything and 3 goes into nine",
         "True_Neither",
         null
        ],
        [
         "4",
         "4",
         "31772",
         "What fraction of the shape is not shaded? Give your answer in its simplest form. [Image: A triangle split into 9 equal smaller triangles. 6 of them are shaded.]",
         "\\( \\frac{1}{3} \\)",
         "1 out of every 3 isn't coloured",
         "True_Correct",
         null
        ]
       ],
       "shape": {
        "columns": 7,
        "rows": 5
       }
      },
      "text/html": [
       "<div>\n",
       "<style scoped>\n",
       "    .dataframe tbody tr th:only-of-type {\n",
       "        vertical-align: middle;\n",
       "    }\n",
       "\n",
       "    .dataframe tbody tr th {\n",
       "        vertical-align: top;\n",
       "    }\n",
       "\n",
       "    .dataframe thead th {\n",
       "        text-align: right;\n",
       "    }\n",
       "</style>\n",
       "<table border=\"1\" class=\"dataframe\">\n",
       "  <thead>\n",
       "    <tr style=\"text-align: right;\">\n",
       "      <th></th>\n",
       "      <th>row_id</th>\n",
       "      <th>QuestionId</th>\n",
       "      <th>QuestionText</th>\n",
       "      <th>MC_Answer</th>\n",
       "      <th>StudentExplanation</th>\n",
       "      <th>Category</th>\n",
       "      <th>Misconception</th>\n",
       "    </tr>\n",
       "  </thead>\n",
       "  <tbody>\n",
       "    <tr>\n",
       "      <th>0</th>\n",
       "      <td>0</td>\n",
       "      <td>31772</td>\n",
       "      <td>What fraction of the shape is not shaded? Give...</td>\n",
       "      <td>\\( \\frac{1}{3} \\)</td>\n",
       "      <td>0ne third is equal to tree nineth</td>\n",
       "      <td>True_Correct</td>\n",
       "      <td>NaN</td>\n",
       "    </tr>\n",
       "    <tr>\n",
       "      <th>1</th>\n",
       "      <td>1</td>\n",
       "      <td>31772</td>\n",
       "      <td>What fraction of the shape is not shaded? Give...</td>\n",
       "      <td>\\( \\frac{1}{3} \\)</td>\n",
       "      <td>1 / 3 because 6 over 9 is 2 thirds and 1 third...</td>\n",
       "      <td>True_Correct</td>\n",
       "      <td>NaN</td>\n",
       "    </tr>\n",
       "    <tr>\n",
       "      <th>2</th>\n",
       "      <td>2</td>\n",
       "      <td>31772</td>\n",
       "      <td>What fraction of the shape is not shaded? Give...</td>\n",
       "      <td>\\( \\frac{1}{3} \\)</td>\n",
       "      <td>1 3rd is half of 3 6th, so it is simplee to un...</td>\n",
       "      <td>True_Neither</td>\n",
       "      <td>NaN</td>\n",
       "    </tr>\n",
       "    <tr>\n",
       "      <th>3</th>\n",
       "      <td>3</td>\n",
       "      <td>31772</td>\n",
       "      <td>What fraction of the shape is not shaded? Give...</td>\n",
       "      <td>\\( \\frac{1}{3} \\)</td>\n",
       "      <td>1 goes into everything and 3 goes into nine</td>\n",
       "      <td>True_Neither</td>\n",
       "      <td>NaN</td>\n",
       "    </tr>\n",
       "    <tr>\n",
       "      <th>4</th>\n",
       "      <td>4</td>\n",
       "      <td>31772</td>\n",
       "      <td>What fraction of the shape is not shaded? Give...</td>\n",
       "      <td>\\( \\frac{1}{3} \\)</td>\n",
       "      <td>1 out of every 3 isn't coloured</td>\n",
       "      <td>True_Correct</td>\n",
       "      <td>NaN</td>\n",
       "    </tr>\n",
       "  </tbody>\n",
       "</table>\n",
       "</div>"
      ],
      "text/plain": [
       "   row_id  QuestionId                                       QuestionText  \\\n",
       "0       0       31772  What fraction of the shape is not shaded? Give...   \n",
       "1       1       31772  What fraction of the shape is not shaded? Give...   \n",
       "2       2       31772  What fraction of the shape is not shaded? Give...   \n",
       "3       3       31772  What fraction of the shape is not shaded? Give...   \n",
       "4       4       31772  What fraction of the shape is not shaded? Give...   \n",
       "\n",
       "           MC_Answer                                 StudentExplanation  \\\n",
       "0  \\( \\frac{1}{3} \\)                  0ne third is equal to tree nineth   \n",
       "1  \\( \\frac{1}{3} \\)  1 / 3 because 6 over 9 is 2 thirds and 1 third...   \n",
       "2  \\( \\frac{1}{3} \\)  1 3rd is half of 3 6th, so it is simplee to un...   \n",
       "3  \\( \\frac{1}{3} \\)        1 goes into everything and 3 goes into nine   \n",
       "4  \\( \\frac{1}{3} \\)                    1 out of every 3 isn't coloured   \n",
       "\n",
       "       Category Misconception  \n",
       "0  True_Correct           NaN  \n",
       "1  True_Correct           NaN  \n",
       "2  True_Neither           NaN  \n",
       "3  True_Neither           NaN  \n",
       "4  True_Correct           NaN  "
      ]
     },
     "execution_count": 16,
     "metadata": {},
     "output_type": "execute_result"
    }
   ],
   "source": [
    "trainDF = pd.read_csv(CFG.trainFile)\n",
    "trainDF.head()"
   ]
  },
  {
   "cell_type": "code",
   "execution_count": 17,
   "metadata": {
    "execution": {
     "iopub.execute_input": "2025-09-27T14:43:48.582649Z",
     "iopub.status.busy": "2025-09-27T14:43:48.582361Z",
     "iopub.status.idle": "2025-09-27T14:43:48.616877Z",
     "shell.execute_reply": "2025-09-27T14:43:48.616064Z",
     "shell.execute_reply.started": "2025-09-27T14:43:48.582629Z"
    }
   },
   "outputs": [
    {
     "name": "stdout",
     "output_type": "stream",
     "text": [
      "<class 'pandas.core.frame.DataFrame'>\n",
      "RangeIndex: 36696 entries, 0 to 36695\n",
      "Data columns (total 7 columns):\n",
      " #   Column              Non-Null Count  Dtype \n",
      "---  ------              --------------  ----- \n",
      " 0   row_id              36696 non-null  int64 \n",
      " 1   QuestionId          36696 non-null  int64 \n",
      " 2   QuestionText        36696 non-null  object\n",
      " 3   MC_Answer           36696 non-null  object\n",
      " 4   StudentExplanation  36696 non-null  object\n",
      " 5   Category            36696 non-null  object\n",
      " 6   Misconception       9860 non-null   object\n",
      "dtypes: int64(2), object(5)\n",
      "memory usage: 2.0+ MB\n"
     ]
    }
   ],
   "source": [
    "trainDF.info()"
   ]
  },
  {
   "cell_type": "code",
   "execution_count": 18,
   "metadata": {
    "execution": {
     "iopub.execute_input": "2025-09-27T14:43:50.143351Z",
     "iopub.status.busy": "2025-09-27T14:43:50.143024Z",
     "iopub.status.idle": "2025-09-27T14:43:50.161807Z",
     "shell.execute_reply": "2025-09-27T14:43:50.161015Z",
     "shell.execute_reply.started": "2025-09-27T14:43:50.143327Z"
    }
   },
   "outputs": [
    {
     "data": {
      "application/vnd.microsoft.datawrangler.viewer.v0+json": {
       "columns": [
        {
         "name": "index",
         "rawType": "object",
         "type": "string"
        },
        {
         "name": "row_id",
         "rawType": "float64",
         "type": "float"
        },
        {
         "name": "QuestionId",
         "rawType": "float64",
         "type": "float"
        }
       ],
       "ref": "29987c87-cbb4-442a-965f-fc0ea0395610",
       "rows": [
        [
         "count",
         "36696.0",
         "36696.0"
        ],
        [
         "mean",
         "18347.5",
         "46356.82510355352"
        ],
        [
         "std",
         "10593.36707567523",
         "25617.723391974087"
        ],
        [
         "min",
         "0.0",
         "31772.0"
        ],
        [
         "25%",
         "9173.75",
         "31777.0"
        ],
        [
         "50%",
         "18347.5",
         "32833.0"
        ],
        [
         "75%",
         "27521.25",
         "33474.0"
        ],
        [
         "max",
         "36695.0",
         "109465.0"
        ]
       ],
       "shape": {
        "columns": 2,
        "rows": 8
       }
      },
      "text/html": [
       "<div>\n",
       "<style scoped>\n",
       "    .dataframe tbody tr th:only-of-type {\n",
       "        vertical-align: middle;\n",
       "    }\n",
       "\n",
       "    .dataframe tbody tr th {\n",
       "        vertical-align: top;\n",
       "    }\n",
       "\n",
       "    .dataframe thead th {\n",
       "        text-align: right;\n",
       "    }\n",
       "</style>\n",
       "<table border=\"1\" class=\"dataframe\">\n",
       "  <thead>\n",
       "    <tr style=\"text-align: right;\">\n",
       "      <th></th>\n",
       "      <th>row_id</th>\n",
       "      <th>QuestionId</th>\n",
       "    </tr>\n",
       "  </thead>\n",
       "  <tbody>\n",
       "    <tr>\n",
       "      <th>count</th>\n",
       "      <td>36696.000000</td>\n",
       "      <td>36696.000000</td>\n",
       "    </tr>\n",
       "    <tr>\n",
       "      <th>mean</th>\n",
       "      <td>18347.500000</td>\n",
       "      <td>46356.825104</td>\n",
       "    </tr>\n",
       "    <tr>\n",
       "      <th>std</th>\n",
       "      <td>10593.367076</td>\n",
       "      <td>25617.723392</td>\n",
       "    </tr>\n",
       "    <tr>\n",
       "      <th>min</th>\n",
       "      <td>0.000000</td>\n",
       "      <td>31772.000000</td>\n",
       "    </tr>\n",
       "    <tr>\n",
       "      <th>25%</th>\n",
       "      <td>9173.750000</td>\n",
       "      <td>31777.000000</td>\n",
       "    </tr>\n",
       "    <tr>\n",
       "      <th>50%</th>\n",
       "      <td>18347.500000</td>\n",
       "      <td>32833.000000</td>\n",
       "    </tr>\n",
       "    <tr>\n",
       "      <th>75%</th>\n",
       "      <td>27521.250000</td>\n",
       "      <td>33474.000000</td>\n",
       "    </tr>\n",
       "    <tr>\n",
       "      <th>max</th>\n",
       "      <td>36695.000000</td>\n",
       "      <td>109465.000000</td>\n",
       "    </tr>\n",
       "  </tbody>\n",
       "</table>\n",
       "</div>"
      ],
      "text/plain": [
       "             row_id     QuestionId\n",
       "count  36696.000000   36696.000000\n",
       "mean   18347.500000   46356.825104\n",
       "std    10593.367076   25617.723392\n",
       "min        0.000000   31772.000000\n",
       "25%     9173.750000   31777.000000\n",
       "50%    18347.500000   32833.000000\n",
       "75%    27521.250000   33474.000000\n",
       "max    36695.000000  109465.000000"
      ]
     },
     "execution_count": 18,
     "metadata": {},
     "output_type": "execute_result"
    }
   ],
   "source": [
    "trainDF.describe()"
   ]
  },
  {
   "cell_type": "code",
   "execution_count": 19,
   "metadata": {
    "execution": {
     "iopub.execute_input": "2025-09-27T14:43:50.381867Z",
     "iopub.status.busy": "2025-09-27T14:43:50.380881Z",
     "iopub.status.idle": "2025-09-27T14:43:50.395142Z",
     "shell.execute_reply": "2025-09-27T14:43:50.394435Z",
     "shell.execute_reply.started": "2025-09-27T14:43:50.381831Z"
    }
   },
   "outputs": [
    {
     "data": {
      "application/vnd.microsoft.datawrangler.viewer.v0+json": {
       "columns": [
        {
         "name": "index",
         "rawType": "int64",
         "type": "integer"
        },
        {
         "name": "row_id",
         "rawType": "int64",
         "type": "integer"
        },
        {
         "name": "QuestionId",
         "rawType": "int64",
         "type": "integer"
        },
        {
         "name": "QuestionText",
         "rawType": "object",
         "type": "string"
        },
        {
         "name": "MC_Answer",
         "rawType": "object",
         "type": "string"
        },
        {
         "name": "StudentExplanation",
         "rawType": "object",
         "type": "string"
        }
       ],
       "ref": "7d9ab975-3add-4b44-977b-f1f86b640208",
       "rows": [
        [
         "0",
         "36696",
         "31772",
         "What fraction of the shape is not shaded? Give your answer in its simplest form. [Image: A triangle split into 9 equal smaller triangles. 6 of them are shaded.]",
         "\\( \\frac{1}{3} \\)",
         "I think that 1/3 is the answer, as it's the simplest form of 3/9."
        ],
        [
         "1",
         "36697",
         "31772",
         "What fraction of the shape is not shaded? Give your answer in its simplest form. [Image: A triangle split into 9 equal smaller triangles. 6 of them are shaded.]",
         "\\( \\frac{3}{6} \\)",
         "i think this answer is because 3 triangles are white and 6 triangle are blue."
        ],
        [
         "2",
         "36698",
         "32835",
         "Which number is the greatest?",
         "\\( 6.2 \\)",
         "because the 2 makes it higher than the others."
        ]
       ],
       "shape": {
        "columns": 5,
        "rows": 3
       }
      },
      "text/html": [
       "<div>\n",
       "<style scoped>\n",
       "    .dataframe tbody tr th:only-of-type {\n",
       "        vertical-align: middle;\n",
       "    }\n",
       "\n",
       "    .dataframe tbody tr th {\n",
       "        vertical-align: top;\n",
       "    }\n",
       "\n",
       "    .dataframe thead th {\n",
       "        text-align: right;\n",
       "    }\n",
       "</style>\n",
       "<table border=\"1\" class=\"dataframe\">\n",
       "  <thead>\n",
       "    <tr style=\"text-align: right;\">\n",
       "      <th></th>\n",
       "      <th>row_id</th>\n",
       "      <th>QuestionId</th>\n",
       "      <th>QuestionText</th>\n",
       "      <th>MC_Answer</th>\n",
       "      <th>StudentExplanation</th>\n",
       "    </tr>\n",
       "  </thead>\n",
       "  <tbody>\n",
       "    <tr>\n",
       "      <th>0</th>\n",
       "      <td>36696</td>\n",
       "      <td>31772</td>\n",
       "      <td>What fraction of the shape is not shaded? Give...</td>\n",
       "      <td>\\( \\frac{1}{3} \\)</td>\n",
       "      <td>I think that 1/3 is the answer, as it's the si...</td>\n",
       "    </tr>\n",
       "    <tr>\n",
       "      <th>1</th>\n",
       "      <td>36697</td>\n",
       "      <td>31772</td>\n",
       "      <td>What fraction of the shape is not shaded? Give...</td>\n",
       "      <td>\\( \\frac{3}{6} \\)</td>\n",
       "      <td>i think this answer is because 3 triangles are...</td>\n",
       "    </tr>\n",
       "    <tr>\n",
       "      <th>2</th>\n",
       "      <td>36698</td>\n",
       "      <td>32835</td>\n",
       "      <td>Which number is the greatest?</td>\n",
       "      <td>\\( 6.2 \\)</td>\n",
       "      <td>because the 2 makes it higher than the others.</td>\n",
       "    </tr>\n",
       "  </tbody>\n",
       "</table>\n",
       "</div>"
      ],
      "text/plain": [
       "   row_id  QuestionId                                       QuestionText  \\\n",
       "0   36696       31772  What fraction of the shape is not shaded? Give...   \n",
       "1   36697       31772  What fraction of the shape is not shaded? Give...   \n",
       "2   36698       32835                      Which number is the greatest?   \n",
       "\n",
       "           MC_Answer                                 StudentExplanation  \n",
       "0  \\( \\frac{1}{3} \\)  I think that 1/3 is the answer, as it's the si...  \n",
       "1  \\( \\frac{3}{6} \\)  i think this answer is because 3 triangles are...  \n",
       "2          \\( 6.2 \\)     because the 2 makes it higher than the others.  "
      ]
     },
     "execution_count": 19,
     "metadata": {},
     "output_type": "execute_result"
    }
   ],
   "source": [
    "testDF = pd.read_csv(CFG.testFile)\n",
    "testDF"
   ]
  },
  {
   "cell_type": "code",
   "execution_count": 20,
   "metadata": {
    "execution": {
     "iopub.execute_input": "2025-09-27T14:43:50.533775Z",
     "iopub.status.busy": "2025-09-27T14:43:50.533467Z",
     "iopub.status.idle": "2025-09-27T14:43:50.543735Z",
     "shell.execute_reply": "2025-09-27T14:43:50.542889Z",
     "shell.execute_reply.started": "2025-09-27T14:43:50.533752Z"
    }
   },
   "outputs": [
    {
     "name": "stdout",
     "output_type": "stream",
     "text": [
      "<class 'pandas.core.frame.DataFrame'>\n",
      "RangeIndex: 3 entries, 0 to 2\n",
      "Data columns (total 5 columns):\n",
      " #   Column              Non-Null Count  Dtype \n",
      "---  ------              --------------  ----- \n",
      " 0   row_id              3 non-null      int64 \n",
      " 1   QuestionId          3 non-null      int64 \n",
      " 2   QuestionText        3 non-null      object\n",
      " 3   MC_Answer           3 non-null      object\n",
      " 4   StudentExplanation  3 non-null      object\n",
      "dtypes: int64(2), object(3)\n",
      "memory usage: 252.0+ bytes\n"
     ]
    }
   ],
   "source": [
    "testDF.info()"
   ]
  },
  {
   "cell_type": "code",
   "execution_count": 21,
   "metadata": {
    "execution": {
     "iopub.execute_input": "2025-09-27T14:43:52.462704Z",
     "iopub.status.busy": "2025-09-27T14:43:52.461934Z",
     "iopub.status.idle": "2025-09-27T14:43:52.469211Z",
     "shell.execute_reply": "2025-09-27T14:43:52.468333Z",
     "shell.execute_reply.started": "2025-09-27T14:43:52.462678Z"
    }
   },
   "outputs": [
    {
     "data": {
      "application/vnd.microsoft.datawrangler.viewer.v0+json": {
       "columns": [
        {
         "name": "index",
         "rawType": "object",
         "type": "string"
        },
        {
         "name": "0",
         "rawType": "int64",
         "type": "integer"
        }
       ],
       "ref": "7b44426d-03a0-464f-98bc-f6d02d877f83",
       "rows": [
        [
         "row_id",
         "0"
        ],
        [
         "QuestionId",
         "0"
        ],
        [
         "QuestionText",
         "0"
        ],
        [
         "MC_Answer",
         "0"
        ],
        [
         "StudentExplanation",
         "0"
        ]
       ],
       "shape": {
        "columns": 1,
        "rows": 5
       }
      },
      "text/plain": [
       "row_id                0\n",
       "QuestionId            0\n",
       "QuestionText          0\n",
       "MC_Answer             0\n",
       "StudentExplanation    0\n",
       "dtype: int64"
      ]
     },
     "execution_count": 21,
     "metadata": {},
     "output_type": "execute_result"
    }
   ],
   "source": [
    "testDF.isnull().sum()"
   ]
  },
  {
   "cell_type": "code",
   "execution_count": 22,
   "metadata": {
    "execution": {
     "iopub.execute_input": "2025-09-27T14:43:52.699170Z",
     "iopub.status.busy": "2025-09-27T14:43:52.698526Z",
     "iopub.status.idle": "2025-09-27T14:43:52.715700Z",
     "shell.execute_reply": "2025-09-27T14:43:52.714827Z",
     "shell.execute_reply.started": "2025-09-27T14:43:52.699145Z"
    }
   },
   "outputs": [
    {
     "data": {
      "application/vnd.microsoft.datawrangler.viewer.v0+json": {
       "columns": [
        {
         "name": "index",
         "rawType": "object",
         "type": "string"
        },
        {
         "name": "0",
         "rawType": "int64",
         "type": "integer"
        }
       ],
       "ref": "4818f4d9-61ab-49cb-b99f-3a0c7e823961",
       "rows": [
        [
         "row_id",
         "0"
        ],
        [
         "QuestionId",
         "0"
        ],
        [
         "QuestionText",
         "0"
        ],
        [
         "MC_Answer",
         "0"
        ],
        [
         "StudentExplanation",
         "0"
        ],
        [
         "Category",
         "0"
        ],
        [
         "Misconception",
         "26836"
        ]
       ],
       "shape": {
        "columns": 1,
        "rows": 7
       }
      },
      "text/plain": [
       "row_id                    0\n",
       "QuestionId                0\n",
       "QuestionText              0\n",
       "MC_Answer                 0\n",
       "StudentExplanation        0\n",
       "Category                  0\n",
       "Misconception         26836\n",
       "dtype: int64"
      ]
     },
     "execution_count": 22,
     "metadata": {},
     "output_type": "execute_result"
    }
   ],
   "source": [
    "# Nan and Null check\n",
    "trainDF.isnull().sum()\n"
   ]
  },
  {
   "cell_type": "code",
   "execution_count": 23,
   "metadata": {
    "execution": {
     "iopub.execute_input": "2025-09-27T14:43:52.905367Z",
     "iopub.status.busy": "2025-09-27T14:43:52.905018Z",
     "iopub.status.idle": "2025-09-27T14:43:52.917960Z",
     "shell.execute_reply": "2025-09-27T14:43:52.917115Z",
     "shell.execute_reply.started": "2025-09-27T14:43:52.905342Z"
    }
   },
   "outputs": [
    {
     "data": {
      "application/vnd.microsoft.datawrangler.viewer.v0+json": {
       "columns": [
        {
         "name": "index",
         "rawType": "int64",
         "type": "integer"
        },
        {
         "name": "row_id",
         "rawType": "int64",
         "type": "integer"
        },
        {
         "name": "Category:Misconception",
         "rawType": "object",
         "type": "string"
        }
       ],
       "ref": "dbff55c5-deb3-4752-a9b1-01f3fc9e211e",
       "rows": [
        [
         "0",
         "36696",
         "True_Correct:NA False_Neither:NA False_Misconception:Incomplete"
        ],
        [
         "1",
         "36697",
         "True_Correct:NA False_Neither:NA False_Misconception:Incomplete"
        ],
        [
         "2",
         "36698",
         "True_Correct:NA False_Neither:NA False_Misconception:Incomplete"
        ]
       ],
       "shape": {
        "columns": 2,
        "rows": 3
       }
      },
      "text/html": [
       "<div>\n",
       "<style scoped>\n",
       "    .dataframe tbody tr th:only-of-type {\n",
       "        vertical-align: middle;\n",
       "    }\n",
       "\n",
       "    .dataframe tbody tr th {\n",
       "        vertical-align: top;\n",
       "    }\n",
       "\n",
       "    .dataframe thead th {\n",
       "        text-align: right;\n",
       "    }\n",
       "</style>\n",
       "<table border=\"1\" class=\"dataframe\">\n",
       "  <thead>\n",
       "    <tr style=\"text-align: right;\">\n",
       "      <th></th>\n",
       "      <th>row_id</th>\n",
       "      <th>Category:Misconception</th>\n",
       "    </tr>\n",
       "  </thead>\n",
       "  <tbody>\n",
       "    <tr>\n",
       "      <th>0</th>\n",
       "      <td>36696</td>\n",
       "      <td>True_Correct:NA False_Neither:NA False_Misconc...</td>\n",
       "    </tr>\n",
       "    <tr>\n",
       "      <th>1</th>\n",
       "      <td>36697</td>\n",
       "      <td>True_Correct:NA False_Neither:NA False_Misconc...</td>\n",
       "    </tr>\n",
       "    <tr>\n",
       "      <th>2</th>\n",
       "      <td>36698</td>\n",
       "      <td>True_Correct:NA False_Neither:NA False_Misconc...</td>\n",
       "    </tr>\n",
       "  </tbody>\n",
       "</table>\n",
       "</div>"
      ],
      "text/plain": [
       "   row_id                             Category:Misconception\n",
       "0   36696  True_Correct:NA False_Neither:NA False_Misconc...\n",
       "1   36697  True_Correct:NA False_Neither:NA False_Misconc...\n",
       "2   36698  True_Correct:NA False_Neither:NA False_Misconc..."
      ]
     },
     "execution_count": 23,
     "metadata": {},
     "output_type": "execute_result"
    }
   ],
   "source": [
    "sample = pd.read_csv(CFG.sampleFile)\n",
    "sample"
   ]
  },
  {
   "cell_type": "code",
   "execution_count": 24,
   "metadata": {
    "execution": {
     "iopub.execute_input": "2025-09-27T14:43:53.073607Z",
     "iopub.status.busy": "2025-09-27T14:43:53.073276Z",
     "iopub.status.idle": "2025-09-27T14:43:53.078998Z",
     "shell.execute_reply": "2025-09-27T14:43:53.078240Z",
     "shell.execute_reply.started": "2025-09-27T14:43:53.073587Z"
    }
   },
   "outputs": [
    {
     "data": {
      "text/plain": [
       "Index(['row_id', 'Category:Misconception'], dtype='object')"
      ]
     },
     "execution_count": 24,
     "metadata": {},
     "output_type": "execute_result"
    }
   ],
   "source": [
    "sample.columns"
   ]
  },
  {
   "cell_type": "markdown",
   "metadata": {
    "execution": {
     "iopub.execute_input": "2025-08-05T12:00:32.719746Z",
     "iopub.status.busy": "2025-08-05T12:00:32.719388Z",
     "iopub.status.idle": "2025-08-05T12:00:32.724824Z",
     "shell.execute_reply": "2025-08-05T12:00:32.723659Z",
     "shell.execute_reply.started": "2025-08-05T12:00:32.719721Z"
    }
   },
   "source": [
    "## EDA\n",
    "### Print Columns Values"
   ]
  },
  {
   "cell_type": "code",
   "execution_count": 25,
   "metadata": {
    "execution": {
     "iopub.execute_input": "2025-09-27T14:43:55.207041Z",
     "iopub.status.busy": "2025-09-27T14:43:55.206738Z",
     "iopub.status.idle": "2025-09-27T14:43:55.212939Z",
     "shell.execute_reply": "2025-09-27T14:43:55.211807Z",
     "shell.execute_reply.started": "2025-09-27T14:43:55.207020Z"
    }
   },
   "outputs": [],
   "source": [
    "def printAllcolumnsValue(df, showAll=True):\n",
    "    \"\"\"\n",
    "    Print DataFrame columns values\n",
    "    \"\"\"\n",
    "    # loop column\n",
    "    for col in df.columns:\n",
    "        if showAll is True:\n",
    "            print(f\"{col} : {df[col].unique()}\") # print unique value\n",
    "        else: # only print caterogy column\n",
    "            if df[col].dtype == \"object\":\n",
    "                print(f\"{col} : {df[col].unique()}\") # print unique value\n",
    "\n",
    "def printSerieUnquieValue(df):\n",
    "    \"\"\"\n",
    "    print data serie value\n",
    "    \"\"\"\n",
    "    print(f\" {df.unique()}\")"
   ]
  },
  {
   "cell_type": "code",
   "execution_count": 26,
   "metadata": {
    "execution": {
     "iopub.execute_input": "2025-09-27T14:43:55.416940Z",
     "iopub.status.busy": "2025-09-27T14:43:55.416378Z",
     "iopub.status.idle": "2025-09-27T14:43:55.450138Z",
     "shell.execute_reply": "2025-09-27T14:43:55.449258Z",
     "shell.execute_reply.started": "2025-09-27T14:43:55.416919Z"
    }
   },
   "outputs": [
    {
     "name": "stdout",
     "output_type": "stream",
     "text": [
      "row_id : [    0     1     2 ... 36693 36694 36695]\n",
      "QuestionId : [ 31772  31774  31777  31778  32829  32833  32835  33471  33472  33474\n",
      "  76870  89443  91695 104665 109465]\n",
      "QuestionText : ['What fraction of the shape is not shaded? Give your answer in its simplest form. [Image: A triangle split into 9 equal smaller triangles. 6 of them are shaded.]'\n",
      " 'Calculate \\\\( \\\\frac{1}{2} \\\\div 6 \\\\)'\n",
      " 'A box contains \\\\( 120 \\\\) counters. The counters are red or blue. \\\\( \\\\frac{3}{5} \\\\) of the counters are red.\\nHow many red counters are there?'\n",
      " '\\\\( \\\\frac{A}{10}=\\\\frac{9}{15} \\\\) What is the value of \\\\( A \\\\) ?'\n",
      " '\\\\( 2 y=24 \\\\) What is the value of \\\\( y \\\\) ?'\n",
      " 'Calculate \\\\( \\\\frac{2}{3} \\\\times 5 \\\\)'\n",
      " 'Which number is the greatest?'\n",
      " 'A bag contains \\\\( 24 \\\\) yellow and green balls. \\\\( \\\\frac{3}{8} \\\\) of the balls are yellow. How many of the balls are green?'\n",
      " '\\\\( \\\\frac{1}{3}+\\\\frac{2}{5}= \\\\)'\n",
      " 'Sally has \\\\( \\\\frac{2}{3} \\\\) of a whole cake in the fridge. Robert eats \\\\( \\\\frac{1}{3} \\\\) of this piece. What fraction of the whole cake has Robert eaten?\\nChoose the number sentence that would solve the word problem.'\n",
      " 'This is part of a regular polygon. How many sides does it have? [Image: A diagram showing an obtuse angle labelled 144 degrees]'\n",
      " 'What number belongs in the box?\\n\\\\(\\n(-8)-(-5)=\\n\\\\square\\\\)'\n",
      " 'Dots have been arranged in these patterns: [Image: Pattern 1 consists of 6 dots, Pattern 2 consists of 10 dots, Pattern 3 consists of 14 dots and Pattern 4 consists of 18 dots] How many dots would there be in Pattern \\\\( 6 \\\\) ?'\n",
      " 'It takes \\\\( 3 \\\\) people a total of \\\\( 192 \\\\) hours to build a wall.\\n\\nHow long would it take if \\\\( 12 \\\\) people built the same wall?'\n",
      " 'The probability of an event occurring is \\\\( 0.9 \\\\).\\n\\nWhich of the following most accurately describes the likelihood of the event occurring?']\n",
      "MC_Answer : ['\\\\( \\\\frac{1}{3} \\\\)' '\\\\( \\\\frac{3}{6} \\\\)' '\\\\( \\\\frac{3}{8} \\\\)'\n",
      " '\\\\( \\\\frac{3}{9} \\\\)' '\\\\( 3 \\\\)' '\\\\( \\\\frac{1}{12} \\\\)'\n",
      " '\\\\( \\\\frac{6}{2} \\\\)' '\\\\( 24 \\\\)' '\\\\( 48 \\\\)' '\\\\( 60 \\\\)'\n",
      " '\\\\( 72 \\\\)' '\\\\( 4 \\\\)' '\\\\( 6 \\\\)' '\\\\( 9 \\\\)' '\\\\( 12 \\\\)'\n",
      " '\\\\( 22 \\\\)' '\\\\( 3 \\\\frac{1}{3} \\\\)' '\\\\( 5 \\\\frac{2}{3} \\\\)'\n",
      " '\\\\( \\\\frac{10}{15} \\\\)' '\\\\( \\\\frac{2}{15} \\\\)' '\\\\( 6.0001 \\\\)'\n",
      " '\\\\( 6.079 \\\\)' '\\\\( 6.2 \\\\)' '\\\\( 15 \\\\)' '\\\\( 8 \\\\)'\n",
      " '\\\\( \\\\frac{11}{15} \\\\)' '\\\\( \\\\frac{11}{30} \\\\)' '\\\\( \\\\frac{3}{15} \\\\)'\n",
      " '\\\\( \\\\frac{1}{3} \\\\times \\\\frac{2}{3} \\\\)'\n",
      " '\\\\( \\\\frac{1}{3}+\\\\frac{2}{3} \\\\)'\n",
      " '\\\\( \\\\frac{2}{3} \\\\div \\\\frac{1}{3} \\\\)'\n",
      " '\\\\( \\\\frac{2}{3}-\\\\frac{1}{3} \\\\)' 'Not enough information' '\\\\( 10 \\\\)'\n",
      " '\\\\( 5 \\\\)' '\\\\( -13 \\\\)' '\\\\( -3 \\\\)' '\\\\( 13 \\\\)' '\\\\( 20 \\\\)'\n",
      " '\\\\( 26 \\\\)' '\\\\( 36 \\\\)' '\\\\( 192 \\\\) hours' '\\\\( 48 \\\\) hours'\n",
      " '\\\\( 64 \\\\) hours' '\\\\( 768 \\\\) hours' 'Certain' 'Impossible' 'Likely'\n",
      " 'Unlikely']\n",
      "StudentExplanation : ['0ne third is equal to tree nineth'\n",
      " '1 / 3 because 6 over 9 is 2 thirds and 1 third is not shaded.'\n",
      " '1 3rd is half of 3 6th, so it is simplee to understand.' ...\n",
      " 'yeah pretty unlikelyy from what it seems.'\n",
      " 'you have 9 other numbers to get.'\n",
      " 'you have a chanve but it is not i think this because there is 0.9 odds so you have chance chance,']\n",
      "Category : ['True_Correct' 'True_Neither' 'True_Misconception' 'False_Neither'\n",
      " 'False_Misconception' 'False_Correct']\n",
      "Misconception : [nan 'Incomplete' 'WNB' 'SwapDividend' 'Mult' 'FlipChange' 'Irrelevant'\n",
      " 'Wrong_Fraction' 'Additive' 'Not_variable' 'Adding_terms'\n",
      " 'Inverse_operation' 'Inversion' 'Duplication' 'Wrong_Operation'\n",
      " 'Whole_numbers_larger' 'Longer_is_bigger' 'Ignores_zeroes'\n",
      " 'Shorter_is_bigger' 'Wrong_fraction' 'Adding_across'\n",
      " 'Denominator-only_change' 'Incorrect_equivalent_fraction_addition'\n",
      " 'Division' 'Subtraction' 'Unknowable' 'Definition' 'Interior' 'Positive'\n",
      " 'Tacking' 'Wrong_term' 'Firstterm' 'Base_rate' 'Multiplying_by_4'\n",
      " 'Certainty' 'Scale']\n"
     ]
    }
   ],
   "source": [
    "printAllcolumnsValue(trainDF, showAll=True)"
   ]
  },
  {
   "cell_type": "code",
   "execution_count": 27,
   "metadata": {
    "execution": {
     "iopub.execute_input": "2025-09-27T14:43:55.570541Z",
     "iopub.status.busy": "2025-09-27T14:43:55.570181Z",
     "iopub.status.idle": "2025-09-27T14:43:55.576191Z",
     "shell.execute_reply": "2025-09-27T14:43:55.575406Z",
     "shell.execute_reply.started": "2025-09-27T14:43:55.570519Z"
    }
   },
   "outputs": [
    {
     "data": {
      "text/plain": [
       "['row_id',\n",
       " 'QuestionId',\n",
       " 'QuestionText',\n",
       " 'MC_Answer',\n",
       " 'StudentExplanation',\n",
       " 'Category',\n",
       " 'Misconception']"
      ]
     },
     "execution_count": 27,
     "metadata": {},
     "output_type": "execute_result"
    }
   ],
   "source": [
    "featureCols = trainDF.columns.tolist()\n",
    "featureCols"
   ]
  },
  {
   "cell_type": "code",
   "execution_count": 28,
   "metadata": {
    "execution": {
     "iopub.execute_input": "2025-09-27T14:43:57.866852Z",
     "iopub.status.busy": "2025-09-27T14:43:57.866170Z",
     "iopub.status.idle": "2025-09-27T14:43:57.878602Z",
     "shell.execute_reply": "2025-09-27T14:43:57.877672Z",
     "shell.execute_reply.started": "2025-09-27T14:43:57.866825Z"
    }
   },
   "outputs": [
    {
     "data": {
      "text/plain": [
       "np.int64(0)"
      ]
     },
     "execution_count": 28,
     "metadata": {},
     "output_type": "execute_result"
    }
   ],
   "source": [
    "# clean data\n",
    "trainDF[\"Misconception\"]= trainDF[\"Misconception\"].fillna(\"NA\") # fill NaN to NA\n",
    "trainDF[\"Misconception\"].isnull().sum() # check Null "
   ]
  },
  {
   "cell_type": "markdown",
   "metadata": {
    "execution": {
     "iopub.execute_input": "2025-08-06T05:39:57.456179Z",
     "iopub.status.busy": "2025-08-06T05:39:57.455612Z",
     "iopub.status.idle": "2025-08-06T05:39:57.459673Z",
     "shell.execute_reply": "2025-08-06T05:39:57.458795Z",
     "shell.execute_reply.started": "2025-08-06T05:39:57.456155Z"
    }
   },
   "source": [
    "#### combine into target columns"
   ]
  },
  {
   "cell_type": "code",
   "execution_count": 29,
   "metadata": {
    "execution": {
     "iopub.execute_input": "2025-09-27T14:43:58.293599Z",
     "iopub.status.busy": "2025-09-27T14:43:58.292911Z",
     "iopub.status.idle": "2025-09-27T14:43:58.319870Z",
     "shell.execute_reply": "2025-09-27T14:43:58.318913Z",
     "shell.execute_reply.started": "2025-09-27T14:43:58.293571Z"
    }
   },
   "outputs": [
    {
     "data": {
      "application/vnd.microsoft.datawrangler.viewer.v0+json": {
       "columns": [
        {
         "name": "index",
         "rawType": "int64",
         "type": "integer"
        },
        {
         "name": "row_id",
         "rawType": "int64",
         "type": "integer"
        },
        {
         "name": "QuestionId",
         "rawType": "int64",
         "type": "integer"
        },
        {
         "name": "QuestionText",
         "rawType": "object",
         "type": "string"
        },
        {
         "name": "MC_Answer",
         "rawType": "object",
         "type": "string"
        },
        {
         "name": "StudentExplanation",
         "rawType": "object",
         "type": "string"
        },
        {
         "name": "Category",
         "rawType": "object",
         "type": "string"
        },
        {
         "name": "Misconception",
         "rawType": "object",
         "type": "string"
        },
        {
         "name": "target",
         "rawType": "object",
         "type": "string"
        }
       ],
       "ref": "53a02cee-947e-4b27-a936-75ffad9271ea",
       "rows": [
        [
         "0",
         "0",
         "31772",
         "What fraction of the shape is not shaded? Give your answer in its simplest form. [Image: A triangle split into 9 equal smaller triangles. 6 of them are shaded.]",
         "\\( \\frac{1}{3} \\)",
         "0ne third is equal to tree nineth",
         "True_Correct",
         "NA",
         "True_Correct:NA"
        ],
        [
         "1",
         "1",
         "31772",
         "What fraction of the shape is not shaded? Give your answer in its simplest form. [Image: A triangle split into 9 equal smaller triangles. 6 of them are shaded.]",
         "\\( \\frac{1}{3} \\)",
         "1 / 3 because 6 over 9 is 2 thirds and 1 third is not shaded.",
         "True_Correct",
         "NA",
         "True_Correct:NA"
        ],
        [
         "2",
         "2",
         "31772",
         "What fraction of the shape is not shaded? Give your answer in its simplest form. [Image: A triangle split into 9 equal smaller triangles. 6 of them are shaded.]",
         "\\( \\frac{1}{3} \\)",
         "1 3rd is half of 3 6th, so it is simplee to understand.",
         "True_Neither",
         "NA",
         "True_Neither:NA"
        ],
        [
         "3",
         "3",
         "31772",
         "What fraction of the shape is not shaded? Give your answer in its simplest form. [Image: A triangle split into 9 equal smaller triangles. 6 of them are shaded.]",
         "\\( \\frac{1}{3} \\)",
         "1 goes into everything and 3 goes into nine",
         "True_Neither",
         "NA",
         "True_Neither:NA"
        ],
        [
         "4",
         "4",
         "31772",
         "What fraction of the shape is not shaded? Give your answer in its simplest form. [Image: A triangle split into 9 equal smaller triangles. 6 of them are shaded.]",
         "\\( \\frac{1}{3} \\)",
         "1 out of every 3 isn't coloured",
         "True_Correct",
         "NA",
         "True_Correct:NA"
        ],
        [
         "5",
         "5",
         "31772",
         "What fraction of the shape is not shaded? Give your answer in its simplest form. [Image: A triangle split into 9 equal smaller triangles. 6 of them are shaded.]",
         "\\( \\frac{1}{3} \\)",
         "1 third because 6 over 9 is 2 thirds and 1 third is not shaded",
         "True_Correct",
         "NA",
         "True_Correct:NA"
        ],
        [
         "6",
         "6",
         "31772",
         "What fraction of the shape is not shaded? Give your answer in its simplest form. [Image: A triangle split into 9 equal smaller triangles. 6 of them are shaded.]",
         "\\( \\frac{1}{3} \\)",
         "1/3 and 3/9 are not shaded but they are equal to 1/3.",
         "True_Correct",
         "NA",
         "True_Correct:NA"
        ],
        [
         "7",
         "7",
         "31772",
         "What fraction of the shape is not shaded? Give your answer in its simplest form. [Image: A triangle split into 9 equal smaller triangles. 6 of them are shaded.]",
         "\\( \\frac{1}{3} \\)",
         "1/3 because 3/9 simplified divided by 3 would be 1/3",
         "True_Correct",
         "NA",
         "True_Correct:NA"
        ],
        [
         "8",
         "8",
         "31772",
         "What fraction of the shape is not shaded? Give your answer in its simplest form. [Image: A triangle split into 9 equal smaller triangles. 6 of them are shaded.]",
         "\\( \\frac{1}{3} \\)",
         "1/3 because I worked out that 3/9 were not shaded and because 3 and 9 have a common factor of 3, I divided the numerator and denominator by 3 to give me 1/3",
         "True_Correct",
         "NA",
         "True_Correct:NA"
        ],
        [
         "9",
         "9",
         "31772",
         "What fraction of the shape is not shaded? Give your answer in its simplest form. [Image: A triangle split into 9 equal smaller triangles. 6 of them are shaded.]",
         "\\( \\frac{1}{3} \\)",
         "1/3 because it 3 shadedd in not all of them",
         "True_Neither",
         "NA",
         "True_Neither:NA"
        ],
        [
         "10",
         "10",
         "31772",
         "What fraction of the shape is not shaded? Give your answer in its simplest form. [Image: A triangle split into 9 equal smaller triangles. 6 of them are shaded.]",
         "\\( \\frac{1}{3} \\)",
         "1/3 because there are 6 shaded aut of 9 so 1/3",
         "True_Correct",
         "NA",
         "True_Correct:NA"
        ],
        [
         "11",
         "11",
         "31772",
         "What fraction of the shape is not shaded? Give your answer in its simplest form. [Image: A triangle split into 9 equal smaller triangles. 6 of them are shaded.]",
         "\\( \\frac{1}{3} \\)",
         "1/3 because there are threee triangles that are not shaded which is equivilent to 1/3",
         "True_Correct",
         "NA",
         "True_Correct:NA"
        ],
        [
         "12",
         "12",
         "31772",
         "What fraction of the shape is not shaded? Give your answer in its simplest form. [Image: A triangle split into 9 equal smaller triangles. 6 of them are shaded.]",
         "\\( \\frac{1}{3} \\)",
         "1/3 is a simplafide version of 3/9",
         "True_Correct",
         "NA",
         "True_Correct:NA"
        ],
        [
         "13",
         "13",
         "31772",
         "What fraction of the shape is not shaded? Give your answer in its simplest form. [Image: A triangle split into 9 equal smaller triangles. 6 of them are shaded.]",
         "\\( \\frac{1}{3} \\)",
         "1/3 is also 1/3 in its simplest form.",
         "True_Neither",
         "NA",
         "True_Neither:NA"
        ],
        [
         "14",
         "14",
         "31772",
         "What fraction of the shape is not shaded? Give your answer in its simplest form. [Image: A triangle split into 9 equal smaller triangles. 6 of them are shaded.]",
         "\\( \\frac{1}{3} \\)",
         "1/3 is equal to 3 because if 3 are not shared in so 3/6 in its simplest form is 1/3.",
         "True_Neither",
         "NA",
         "True_Neither:NA"
        ],
        [
         "15",
         "15",
         "31772",
         "What fraction of the shape is not shaded? Give your answer in its simplest form. [Image: A triangle split into 9 equal smaller triangles. 6 of them are shaded.]",
         "\\( \\frac{1}{3} \\)",
         "1/3 is equal to 3 because if 3 are not shared in so 3/6 in its simplest form is 1/3.",
         "True_Neither",
         "NA",
         "True_Neither:NA"
        ],
        [
         "16",
         "16",
         "31772",
         "What fraction of the shape is not shaded? Give your answer in its simplest form. [Image: A triangle split into 9 equal smaller triangles. 6 of them are shaded.]",
         "\\( \\frac{1}{3} \\)",
         "1/3 is in its simplest form.",
         "True_Neither",
         "NA",
         "True_Neither:NA"
        ],
        [
         "17",
         "17",
         "31772",
         "What fraction of the shape is not shaded? Give your answer in its simplest form. [Image: A triangle split into 9 equal smaller triangles. 6 of them are shaded.]",
         "\\( \\frac{1}{3} \\)",
         "1/3 is not shaded and 3/9 divided by 3 is 1/3.",
         "True_Correct",
         "NA",
         "True_Correct:NA"
        ],
        [
         "18",
         "18",
         "31772",
         "What fraction of the shape is not shaded? Give your answer in its simplest form. [Image: A triangle split into 9 equal smaller triangles. 6 of them are shaded.]",
         "\\( \\frac{1}{3} \\)",
         "1/3 is not shaded and 3/9 is equal to 1/3.",
         "True_Correct",
         "NA",
         "True_Correct:NA"
        ],
        [
         "19",
         "19",
         "31772",
         "What fraction of the shape is not shaded? Give your answer in its simplest form. [Image: A triangle split into 9 equal smaller triangles. 6 of them are shaded.]",
         "\\( \\frac{1}{3} \\)",
         "1/3 is not shaded out of the other 2/3 shaded.",
         "True_Correct",
         "NA",
         "True_Correct:NA"
        ],
        [
         "20",
         "20",
         "31772",
         "What fraction of the shape is not shaded? Give your answer in its simplest form. [Image: A triangle split into 9 equal smaller triangles. 6 of them are shaded.]",
         "\\( \\frac{1}{3} \\)",
         "1/3 is not shsded out of the other 2/3.",
         "True_Correct",
         "NA",
         "True_Correct:NA"
        ],
        [
         "21",
         "21",
         "31772",
         "What fraction of the shape is not shaded? Give your answer in its simplest form. [Image: A triangle split into 9 equal smaller triangles. 6 of them are shaded.]",
         "\\( \\frac{1}{3} \\)",
         "1/3 is the right answer because the fraction of the shape not shaded is 3/9 and in its simplest form it is 1/3 therefore I am correct.",
         "True_Correct",
         "NA",
         "True_Correct:NA"
        ],
        [
         "22",
         "22",
         "31772",
         "What fraction of the shape is not shaded? Give your answer in its simplest form. [Image: A triangle split into 9 equal smaller triangles. 6 of them are shaded.]",
         "\\( \\frac{1}{3} \\)",
         "1/3 is the right answer because the fraction of the shape not shaded is 3/9 and in its simplest form it is 1/3.",
         "True_Correct",
         "NA",
         "True_Correct:NA"
        ],
        [
         "23",
         "23",
         "31772",
         "What fraction of the shape is not shaded? Give your answer in its simplest form. [Image: A triangle split into 9 equal smaller triangles. 6 of them are shaded.]",
         "\\( \\frac{1}{3} \\)",
         "1/3 is the right answer because the fractionn of the shape not shaded is 3/9 and in its simplest form it is 1/3.",
         "True_Correct",
         "NA",
         "True_Correct:NA"
        ],
        [
         "24",
         "24",
         "31772",
         "What fraction of the shape is not shaded? Give your answer in its simplest form. [Image: A triangle split into 9 equal smaller triangles. 6 of them are shaded.]",
         "\\( \\frac{1}{3} \\)",
         "1/3 is the same as 3/9 and there is 1/9 left unshaded.",
         "True_Neither",
         "NA",
         "True_Neither:NA"
        ],
        [
         "25",
         "25",
         "31772",
         "What fraction of the shape is not shaded? Give your answer in its simplest form. [Image: A triangle split into 9 equal smaller triangles. 6 of them are shaded.]",
         "\\( \\frac{1}{3} \\)",
         "1/3 is the same as 3/9 and there is 3/9 left unshaded",
         "True_Correct",
         "NA",
         "True_Correct:NA"
        ],
        [
         "26",
         "26",
         "31772",
         "What fraction of the shape is not shaded? Give your answer in its simplest form. [Image: A triangle split into 9 equal smaller triangles. 6 of them are shaded.]",
         "\\( \\frac{1}{3} \\)",
         "1/3 is the same as 3/9.",
         "True_Correct",
         "NA",
         "True_Correct:NA"
        ],
        [
         "27",
         "27",
         "31772",
         "What fraction of the shape is not shaded? Give your answer in its simplest form. [Image: A triangle split into 9 equal smaller triangles. 6 of them are shaded.]",
         "\\( \\frac{1}{3} \\)",
         "1/3 is the same as 3/9.",
         "True_Correct",
         "NA",
         "True_Correct:NA"
        ],
        [
         "28",
         "28",
         "31772",
         "What fraction of the shape is not shaded? Give your answer in its simplest form. [Image: A triangle split into 9 equal smaller triangles. 6 of them are shaded.]",
         "\\( \\frac{1}{3} \\)",
         "1/3 is the same as 3/9.",
         "True_Correct",
         "NA",
         "True_Correct:NA"
        ],
        [
         "29",
         "29",
         "31772",
         "What fraction of the shape is not shaded? Give your answer in its simplest form. [Image: A triangle split into 9 equal smaller triangles. 6 of them are shaded.]",
         "\\( \\frac{1}{3} \\)",
         "1/3 is the simplest form of 3/9",
         "True_Correct",
         "NA",
         "True_Correct:NA"
        ],
        [
         "30",
         "30",
         "31772",
         "What fraction of the shape is not shaded? Give your answer in its simplest form. [Image: A triangle split into 9 equal smaller triangles. 6 of them are shaded.]",
         "\\( \\frac{1}{3} \\)",
         "1/3 is the simplest form of 3/9",
         "True_Correct",
         "NA",
         "True_Correct:NA"
        ],
        [
         "31",
         "31",
         "31772",
         "What fraction of the shape is not shaded? Give your answer in its simplest form. [Image: A triangle split into 9 equal smaller triangles. 6 of them are shaded.]",
         "\\( \\frac{1}{3} \\)",
         "1/3 is the simplest form of 3/9.",
         "True_Correct",
         "NA",
         "True_Correct:NA"
        ],
        [
         "32",
         "32",
         "31772",
         "What fraction of the shape is not shaded? Give your answer in its simplest form. [Image: A triangle split into 9 equal smaller triangles. 6 of them are shaded.]",
         "\\( \\frac{1}{3} \\)",
         "1/3 is the simplest form of this shape.",
         "True_Neither",
         "NA",
         "True_Neither:NA"
        ],
        [
         "33",
         "33",
         "31772",
         "What fraction of the shape is not shaded? Give your answer in its simplest form. [Image: A triangle split into 9 equal smaller triangles. 6 of them are shaded.]",
         "\\( \\frac{1}{3} \\)",
         "1/3 is the simplest form.",
         "True_Correct",
         "NA",
         "True_Correct:NA"
        ],
        [
         "34",
         "34",
         "31772",
         "What fraction of the shape is not shaded? Give your answer in its simplest form. [Image: A triangle split into 9 equal smaller triangles. 6 of them are shaded.]",
         "\\( \\frac{1}{3} \\)",
         "1/3 is the simplifued version of 3/9 which is what you need to know.",
         "True_Correct",
         "NA",
         "True_Correct:NA"
        ],
        [
         "35",
         "35",
         "31772",
         "What fraction of the shape is not shaded? Give your answer in its simplest form. [Image: A triangle split into 9 equal smaller triangles. 6 of them are shaded.]",
         "\\( \\frac{1}{3} \\)",
         "1/3 is thee same as 3/9.",
         "True_Correct",
         "NA",
         "True_Correct:NA"
        ],
        [
         "36",
         "36",
         "31772",
         "What fraction of the shape is not shaded? Give your answer in its simplest form. [Image: A triangle split into 9 equal smaller triangles. 6 of them are shaded.]",
         "\\( \\frac{1}{3} \\)",
         "1/3 is thee same as 3/9.",
         "True_Correct",
         "NA",
         "True_Correct:NA"
        ],
        [
         "37",
         "37",
         "31772",
         "What fraction of the shape is not shaded? Give your answer in its simplest form. [Image: A triangle split into 9 equal smaller triangles. 6 of them are shaded.]",
         "\\( \\frac{1}{3} \\)",
         "1/3 is thr same as 3/9.",
         "True_Correct",
         "NA",
         "True_Correct:NA"
        ],
        [
         "38",
         "38",
         "31772",
         "What fraction of the shape is not shaded? Give your answer in its simplest form. [Image: A triangle split into 9 equal smaller triangles. 6 of them are shaded.]",
         "\\( \\frac{1}{3} \\)",
         "1/3 of the 9 triangles are shaded, so 3/9=1/3.",
         "True_Correct",
         "NA",
         "True_Correct:NA"
        ],
        [
         "39",
         "39",
         "31772",
         "What fraction of the shape is not shaded? Give your answer in its simplest form. [Image: A triangle split into 9 equal smaller triangles. 6 of them are shaded.]",
         "\\( \\frac{1}{3} \\)",
         "1/3 of the 9 triangles are shaded, so 3/9=1/3.",
         "True_Neither",
         "NA",
         "True_Neither:NA"
        ],
        [
         "40",
         "40",
         "31772",
         "What fraction of the shape is not shaded? Give your answer in its simplest form. [Image: A triangle split into 9 equal smaller triangles. 6 of them are shaded.]",
         "\\( \\frac{1}{3} \\)",
         "1/3 of the triangle is 3, and 3 of them aren't shaded.",
         "True_Correct",
         "NA",
         "True_Correct:NA"
        ],
        [
         "41",
         "41",
         "31772",
         "What fraction of the shape is not shaded? Give your answer in its simplest form. [Image: A triangle split into 9 equal smaller triangles. 6 of them are shaded.]",
         "\\( \\frac{1}{3} \\)",
         "1/3 of the triangle is not shaded",
         "True_Correct",
         "NA",
         "True_Correct:NA"
        ],
        [
         "42",
         "42",
         "31772",
         "What fraction of the shape is not shaded? Give your answer in its simplest form. [Image: A triangle split into 9 equal smaller triangles. 6 of them are shaded.]",
         "\\( \\frac{1}{3} \\)",
         "1/3 of the triangle is not shaded amd 3/ 9 is divisible by 3, making it 1/3.",
         "True_Correct",
         "NA",
         "True_Correct:NA"
        ],
        [
         "43",
         "43",
         "31772",
         "What fraction of the shape is not shaded? Give your answer in its simplest form. [Image: A triangle split into 9 equal smaller triangles. 6 of them are shaded.]",
         "\\( \\frac{1}{3} \\)",
         "1/3.   3/9 shaded, and to find simplest from we divide the top and the bottom by 3.",
         "True_Neither",
         "NA",
         "True_Neither:NA"
        ],
        [
         "44",
         "44",
         "31772",
         "What fraction of the shape is not shaded? Give your answer in its simplest form. [Image: A triangle split into 9 equal smaller triangles. 6 of them are shaded.]",
         "\\( \\frac{1}{3} \\)",
         "1/3. 3/9 shaded, and to find simplest from we divide the top and the bottom by 3.",
         "True_Neither",
         "NA",
         "True_Neither:NA"
        ],
        [
         "45",
         "45",
         "31772",
         "What fraction of the shape is not shaded? Give your answer in its simplest form. [Image: A triangle split into 9 equal smaller triangles. 6 of them are shaded.]",
         "\\( \\frac{1}{3} \\)",
         "13 is the simplest form of 3 9",
         "True_Correct",
         "NA",
         "True_Correct:NA"
        ],
        [
         "46",
         "46",
         "31772",
         "What fraction of the shape is not shaded? Give your answer in its simplest form. [Image: A triangle split into 9 equal smaller triangles. 6 of them are shaded.]",
         "\\( \\frac{1}{3} \\)",
         "2/3 is shaded so 1/3 is not",
         "True_Correct",
         "NA",
         "True_Correct:NA"
        ],
        [
         "47",
         "47",
         "31772",
         "What fraction of the shape is not shaded? Give your answer in its simplest form. [Image: A triangle split into 9 equal smaller triangles. 6 of them are shaded.]",
         "\\( \\frac{1}{3} \\)",
         "3                                                              1\n¬   are shaded which converts to       ¬\n9                                                               3",
         "True_Correct",
         "NA",
         "True_Correct:NA"
        ],
        [
         "48",
         "48",
         "31772",
         "What fraction of the shape is not shaded? Give your answer in its simplest form. [Image: A triangle split into 9 equal smaller triangles. 6 of them are shaded.]",
         "\\( \\frac{1}{3} \\)",
         "3 9 are shaded and to put in its simplest form you would divide it by 3",
         "True_Neither",
         "NA",
         "True_Neither:NA"
        ],
        [
         "49",
         "49",
         "31772",
         "What fraction of the shape is not shaded? Give your answer in its simplest form. [Image: A triangle split into 9 equal smaller triangles. 6 of them are shaded.]",
         "\\( \\frac{1}{3} \\)",
         "3 9th's are shaded and it is the same as 1 3rd",
         "True_Neither",
         "NA",
         "True_Neither:NA"
        ]
       ],
       "shape": {
        "columns": 8,
        "rows": 36696
       }
      },
      "text/html": [
       "<div>\n",
       "<style scoped>\n",
       "    .dataframe tbody tr th:only-of-type {\n",
       "        vertical-align: middle;\n",
       "    }\n",
       "\n",
       "    .dataframe tbody tr th {\n",
       "        vertical-align: top;\n",
       "    }\n",
       "\n",
       "    .dataframe thead th {\n",
       "        text-align: right;\n",
       "    }\n",
       "</style>\n",
       "<table border=\"1\" class=\"dataframe\">\n",
       "  <thead>\n",
       "    <tr style=\"text-align: right;\">\n",
       "      <th></th>\n",
       "      <th>row_id</th>\n",
       "      <th>QuestionId</th>\n",
       "      <th>QuestionText</th>\n",
       "      <th>MC_Answer</th>\n",
       "      <th>StudentExplanation</th>\n",
       "      <th>Category</th>\n",
       "      <th>Misconception</th>\n",
       "      <th>target</th>\n",
       "    </tr>\n",
       "  </thead>\n",
       "  <tbody>\n",
       "    <tr>\n",
       "      <th>0</th>\n",
       "      <td>0</td>\n",
       "      <td>31772</td>\n",
       "      <td>What fraction of the shape is not shaded? Give...</td>\n",
       "      <td>\\( \\frac{1}{3} \\)</td>\n",
       "      <td>0ne third is equal to tree nineth</td>\n",
       "      <td>True_Correct</td>\n",
       "      <td>NA</td>\n",
       "      <td>True_Correct:NA</td>\n",
       "    </tr>\n",
       "    <tr>\n",
       "      <th>1</th>\n",
       "      <td>1</td>\n",
       "      <td>31772</td>\n",
       "      <td>What fraction of the shape is not shaded? Give...</td>\n",
       "      <td>\\( \\frac{1}{3} \\)</td>\n",
       "      <td>1 / 3 because 6 over 9 is 2 thirds and 1 third...</td>\n",
       "      <td>True_Correct</td>\n",
       "      <td>NA</td>\n",
       "      <td>True_Correct:NA</td>\n",
       "    </tr>\n",
       "    <tr>\n",
       "      <th>2</th>\n",
       "      <td>2</td>\n",
       "      <td>31772</td>\n",
       "      <td>What fraction of the shape is not shaded? Give...</td>\n",
       "      <td>\\( \\frac{1}{3} \\)</td>\n",
       "      <td>1 3rd is half of 3 6th, so it is simplee to un...</td>\n",
       "      <td>True_Neither</td>\n",
       "      <td>NA</td>\n",
       "      <td>True_Neither:NA</td>\n",
       "    </tr>\n",
       "    <tr>\n",
       "      <th>3</th>\n",
       "      <td>3</td>\n",
       "      <td>31772</td>\n",
       "      <td>What fraction of the shape is not shaded? Give...</td>\n",
       "      <td>\\( \\frac{1}{3} \\)</td>\n",
       "      <td>1 goes into everything and 3 goes into nine</td>\n",
       "      <td>True_Neither</td>\n",
       "      <td>NA</td>\n",
       "      <td>True_Neither:NA</td>\n",
       "    </tr>\n",
       "    <tr>\n",
       "      <th>4</th>\n",
       "      <td>4</td>\n",
       "      <td>31772</td>\n",
       "      <td>What fraction of the shape is not shaded? Give...</td>\n",
       "      <td>\\( \\frac{1}{3} \\)</td>\n",
       "      <td>1 out of every 3 isn't coloured</td>\n",
       "      <td>True_Correct</td>\n",
       "      <td>NA</td>\n",
       "      <td>True_Correct:NA</td>\n",
       "    </tr>\n",
       "    <tr>\n",
       "      <th>...</th>\n",
       "      <td>...</td>\n",
       "      <td>...</td>\n",
       "      <td>...</td>\n",
       "      <td>...</td>\n",
       "      <td>...</td>\n",
       "      <td>...</td>\n",
       "      <td>...</td>\n",
       "      <td>...</td>\n",
       "    </tr>\n",
       "    <tr>\n",
       "      <th>36691</th>\n",
       "      <td>36691</td>\n",
       "      <td>109465</td>\n",
       "      <td>The probability of an event occurring is \\( 0....</td>\n",
       "      <td>Unlikely</td>\n",
       "      <td>very unlikely.</td>\n",
       "      <td>False_Neither</td>\n",
       "      <td>NA</td>\n",
       "      <td>False_Neither:NA</td>\n",
       "    </tr>\n",
       "    <tr>\n",
       "      <th>36692</th>\n",
       "      <td>36692</td>\n",
       "      <td>109465</td>\n",
       "      <td>The probability of an event occurring is \\( 0....</td>\n",
       "      <td>Unlikely</td>\n",
       "      <td>yea pretty much unlikely from what it seems.</td>\n",
       "      <td>False_Neither</td>\n",
       "      <td>NA</td>\n",
       "      <td>False_Neither:NA</td>\n",
       "    </tr>\n",
       "    <tr>\n",
       "      <th>36693</th>\n",
       "      <td>36693</td>\n",
       "      <td>109465</td>\n",
       "      <td>The probability of an event occurring is \\( 0....</td>\n",
       "      <td>Unlikely</td>\n",
       "      <td>yeah pretty unlikelyy from what it seems.</td>\n",
       "      <td>False_Neither</td>\n",
       "      <td>NA</td>\n",
       "      <td>False_Neither:NA</td>\n",
       "    </tr>\n",
       "    <tr>\n",
       "      <th>36694</th>\n",
       "      <td>36694</td>\n",
       "      <td>109465</td>\n",
       "      <td>The probability of an event occurring is \\( 0....</td>\n",
       "      <td>Unlikely</td>\n",
       "      <td>you have 9 other numbers to get.</td>\n",
       "      <td>False_Neither</td>\n",
       "      <td>NA</td>\n",
       "      <td>False_Neither:NA</td>\n",
       "    </tr>\n",
       "    <tr>\n",
       "      <th>36695</th>\n",
       "      <td>36695</td>\n",
       "      <td>109465</td>\n",
       "      <td>The probability of an event occurring is \\( 0....</td>\n",
       "      <td>Unlikely</td>\n",
       "      <td>you have a chanve but it is not i think this b...</td>\n",
       "      <td>False_Neither</td>\n",
       "      <td>NA</td>\n",
       "      <td>False_Neither:NA</td>\n",
       "    </tr>\n",
       "  </tbody>\n",
       "</table>\n",
       "<p>36696 rows × 8 columns</p>\n",
       "</div>"
      ],
      "text/plain": [
       "       row_id  QuestionId                                       QuestionText  \\\n",
       "0           0       31772  What fraction of the shape is not shaded? Give...   \n",
       "1           1       31772  What fraction of the shape is not shaded? Give...   \n",
       "2           2       31772  What fraction of the shape is not shaded? Give...   \n",
       "3           3       31772  What fraction of the shape is not shaded? Give...   \n",
       "4           4       31772  What fraction of the shape is not shaded? Give...   \n",
       "...       ...         ...                                                ...   \n",
       "36691   36691      109465  The probability of an event occurring is \\( 0....   \n",
       "36692   36692      109465  The probability of an event occurring is \\( 0....   \n",
       "36693   36693      109465  The probability of an event occurring is \\( 0....   \n",
       "36694   36694      109465  The probability of an event occurring is \\( 0....   \n",
       "36695   36695      109465  The probability of an event occurring is \\( 0....   \n",
       "\n",
       "               MC_Answer                                 StudentExplanation  \\\n",
       "0      \\( \\frac{1}{3} \\)                  0ne third is equal to tree nineth   \n",
       "1      \\( \\frac{1}{3} \\)  1 / 3 because 6 over 9 is 2 thirds and 1 third...   \n",
       "2      \\( \\frac{1}{3} \\)  1 3rd is half of 3 6th, so it is simplee to un...   \n",
       "3      \\( \\frac{1}{3} \\)        1 goes into everything and 3 goes into nine   \n",
       "4      \\( \\frac{1}{3} \\)                    1 out of every 3 isn't coloured   \n",
       "...                  ...                                                ...   \n",
       "36691           Unlikely                                     very unlikely.   \n",
       "36692           Unlikely       yea pretty much unlikely from what it seems.   \n",
       "36693           Unlikely          yeah pretty unlikelyy from what it seems.   \n",
       "36694           Unlikely                   you have 9 other numbers to get.   \n",
       "36695           Unlikely  you have a chanve but it is not i think this b...   \n",
       "\n",
       "            Category Misconception            target  \n",
       "0       True_Correct            NA   True_Correct:NA  \n",
       "1       True_Correct            NA   True_Correct:NA  \n",
       "2       True_Neither            NA   True_Neither:NA  \n",
       "3       True_Neither            NA   True_Neither:NA  \n",
       "4       True_Correct            NA   True_Correct:NA  \n",
       "...              ...           ...               ...  \n",
       "36691  False_Neither            NA  False_Neither:NA  \n",
       "36692  False_Neither            NA  False_Neither:NA  \n",
       "36693  False_Neither            NA  False_Neither:NA  \n",
       "36694  False_Neither            NA  False_Neither:NA  \n",
       "36695  False_Neither            NA  False_Neither:NA  \n",
       "\n",
       "[36696 rows x 8 columns]"
      ]
     },
     "execution_count": 29,
     "metadata": {},
     "output_type": "execute_result"
    }
   ],
   "source": [
    "\n",
    "trainDF['target'] = trainDF[\"Category\"]+\":\"+trainDF[\"Misconception\"]\n",
    "trainDF"
   ]
  },
  {
   "cell_type": "markdown",
   "metadata": {},
   "source": [
    "### Create Label"
   ]
  },
  {
   "cell_type": "code",
   "execution_count": 30,
   "metadata": {
    "execution": {
     "iopub.execute_input": "2025-09-27T14:44:00.545019Z",
     "iopub.status.busy": "2025-09-27T14:44:00.544119Z",
     "iopub.status.idle": "2025-09-27T14:44:00.560409Z",
     "shell.execute_reply": "2025-09-27T14:44:00.559537Z",
     "shell.execute_reply.started": "2025-09-27T14:44:00.544984Z"
    }
   },
   "outputs": [],
   "source": [
    "le = LabelEncoder()\n",
    "trainDF[\"label\"]= le.fit_transform(trainDF['target']) # encode caterogy into label"
   ]
  },
  {
   "cell_type": "code",
   "execution_count": 31,
   "metadata": {
    "execution": {
     "iopub.execute_input": "2025-09-27T14:44:00.775482Z",
     "iopub.status.busy": "2025-09-27T14:44:00.774633Z",
     "iopub.status.idle": "2025-09-27T14:44:00.791619Z",
     "shell.execute_reply": "2025-09-27T14:44:00.790644Z",
     "shell.execute_reply.started": "2025-09-27T14:44:00.775450Z"
    }
   },
   "outputs": [
    {
     "data": {
      "application/vnd.microsoft.datawrangler.viewer.v0+json": {
       "columns": [
        {
         "name": "index",
         "rawType": "int64",
         "type": "integer"
        },
        {
         "name": "row_id",
         "rawType": "int64",
         "type": "integer"
        },
        {
         "name": "QuestionId",
         "rawType": "int64",
         "type": "integer"
        },
        {
         "name": "QuestionText",
         "rawType": "object",
         "type": "string"
        },
        {
         "name": "MC_Answer",
         "rawType": "object",
         "type": "string"
        },
        {
         "name": "StudentExplanation",
         "rawType": "object",
         "type": "string"
        },
        {
         "name": "Category",
         "rawType": "object",
         "type": "string"
        },
        {
         "name": "Misconception",
         "rawType": "object",
         "type": "string"
        },
        {
         "name": "target",
         "rawType": "object",
         "type": "string"
        },
        {
         "name": "label",
         "rawType": "int64",
         "type": "integer"
        }
       ],
       "ref": "390304bd-7939-4363-88f4-a8c09be4381d",
       "rows": [
        [
         "0",
         "0",
         "31772",
         "What fraction of the shape is not shaded? Give your answer in its simplest form. [Image: A triangle split into 9 equal smaller triangles. 6 of them are shaded.]",
         "\\( \\frac{1}{3} \\)",
         "0ne third is equal to tree nineth",
         "True_Correct",
         "NA",
         "True_Correct:NA",
         "37"
        ],
        [
         "1",
         "1",
         "31772",
         "What fraction of the shape is not shaded? Give your answer in its simplest form. [Image: A triangle split into 9 equal smaller triangles. 6 of them are shaded.]",
         "\\( \\frac{1}{3} \\)",
         "1 / 3 because 6 over 9 is 2 thirds and 1 third is not shaded.",
         "True_Correct",
         "NA",
         "True_Correct:NA",
         "37"
        ],
        [
         "2",
         "2",
         "31772",
         "What fraction of the shape is not shaded? Give your answer in its simplest form. [Image: A triangle split into 9 equal smaller triangles. 6 of them are shaded.]",
         "\\( \\frac{1}{3} \\)",
         "1 3rd is half of 3 6th, so it is simplee to understand.",
         "True_Neither",
         "NA",
         "True_Neither:NA",
         "64"
        ],
        [
         "3",
         "3",
         "31772",
         "What fraction of the shape is not shaded? Give your answer in its simplest form. [Image: A triangle split into 9 equal smaller triangles. 6 of them are shaded.]",
         "\\( \\frac{1}{3} \\)",
         "1 goes into everything and 3 goes into nine",
         "True_Neither",
         "NA",
         "True_Neither:NA",
         "64"
        ],
        [
         "4",
         "4",
         "31772",
         "What fraction of the shape is not shaded? Give your answer in its simplest form. [Image: A triangle split into 9 equal smaller triangles. 6 of them are shaded.]",
         "\\( \\frac{1}{3} \\)",
         "1 out of every 3 isn't coloured",
         "True_Correct",
         "NA",
         "True_Correct:NA",
         "37"
        ],
        [
         "5",
         "5",
         "31772",
         "What fraction of the shape is not shaded? Give your answer in its simplest form. [Image: A triangle split into 9 equal smaller triangles. 6 of them are shaded.]",
         "\\( \\frac{1}{3} \\)",
         "1 third because 6 over 9 is 2 thirds and 1 third is not shaded",
         "True_Correct",
         "NA",
         "True_Correct:NA",
         "37"
        ],
        [
         "6",
         "6",
         "31772",
         "What fraction of the shape is not shaded? Give your answer in its simplest form. [Image: A triangle split into 9 equal smaller triangles. 6 of them are shaded.]",
         "\\( \\frac{1}{3} \\)",
         "1/3 and 3/9 are not shaded but they are equal to 1/3.",
         "True_Correct",
         "NA",
         "True_Correct:NA",
         "37"
        ],
        [
         "7",
         "7",
         "31772",
         "What fraction of the shape is not shaded? Give your answer in its simplest form. [Image: A triangle split into 9 equal smaller triangles. 6 of them are shaded.]",
         "\\( \\frac{1}{3} \\)",
         "1/3 because 3/9 simplified divided by 3 would be 1/3",
         "True_Correct",
         "NA",
         "True_Correct:NA",
         "37"
        ],
        [
         "8",
         "8",
         "31772",
         "What fraction of the shape is not shaded? Give your answer in its simplest form. [Image: A triangle split into 9 equal smaller triangles. 6 of them are shaded.]",
         "\\( \\frac{1}{3} \\)",
         "1/3 because I worked out that 3/9 were not shaded and because 3 and 9 have a common factor of 3, I divided the numerator and denominator by 3 to give me 1/3",
         "True_Correct",
         "NA",
         "True_Correct:NA",
         "37"
        ],
        [
         "9",
         "9",
         "31772",
         "What fraction of the shape is not shaded? Give your answer in its simplest form. [Image: A triangle split into 9 equal smaller triangles. 6 of them are shaded.]",
         "\\( \\frac{1}{3} \\)",
         "1/3 because it 3 shadedd in not all of them",
         "True_Neither",
         "NA",
         "True_Neither:NA",
         "64"
        ],
        [
         "10",
         "10",
         "31772",
         "What fraction of the shape is not shaded? Give your answer in its simplest form. [Image: A triangle split into 9 equal smaller triangles. 6 of them are shaded.]",
         "\\( \\frac{1}{3} \\)",
         "1/3 because there are 6 shaded aut of 9 so 1/3",
         "True_Correct",
         "NA",
         "True_Correct:NA",
         "37"
        ],
        [
         "11",
         "11",
         "31772",
         "What fraction of the shape is not shaded? Give your answer in its simplest form. [Image: A triangle split into 9 equal smaller triangles. 6 of them are shaded.]",
         "\\( \\frac{1}{3} \\)",
         "1/3 because there are threee triangles that are not shaded which is equivilent to 1/3",
         "True_Correct",
         "NA",
         "True_Correct:NA",
         "37"
        ],
        [
         "12",
         "12",
         "31772",
         "What fraction of the shape is not shaded? Give your answer in its simplest form. [Image: A triangle split into 9 equal smaller triangles. 6 of them are shaded.]",
         "\\( \\frac{1}{3} \\)",
         "1/3 is a simplafide version of 3/9",
         "True_Correct",
         "NA",
         "True_Correct:NA",
         "37"
        ],
        [
         "13",
         "13",
         "31772",
         "What fraction of the shape is not shaded? Give your answer in its simplest form. [Image: A triangle split into 9 equal smaller triangles. 6 of them are shaded.]",
         "\\( \\frac{1}{3} \\)",
         "1/3 is also 1/3 in its simplest form.",
         "True_Neither",
         "NA",
         "True_Neither:NA",
         "64"
        ],
        [
         "14",
         "14",
         "31772",
         "What fraction of the shape is not shaded? Give your answer in its simplest form. [Image: A triangle split into 9 equal smaller triangles. 6 of them are shaded.]",
         "\\( \\frac{1}{3} \\)",
         "1/3 is equal to 3 because if 3 are not shared in so 3/6 in its simplest form is 1/3.",
         "True_Neither",
         "NA",
         "True_Neither:NA",
         "64"
        ],
        [
         "15",
         "15",
         "31772",
         "What fraction of the shape is not shaded? Give your answer in its simplest form. [Image: A triangle split into 9 equal smaller triangles. 6 of them are shaded.]",
         "\\( \\frac{1}{3} \\)",
         "1/3 is equal to 3 because if 3 are not shared in so 3/6 in its simplest form is 1/3.",
         "True_Neither",
         "NA",
         "True_Neither:NA",
         "64"
        ],
        [
         "16",
         "16",
         "31772",
         "What fraction of the shape is not shaded? Give your answer in its simplest form. [Image: A triangle split into 9 equal smaller triangles. 6 of them are shaded.]",
         "\\( \\frac{1}{3} \\)",
         "1/3 is in its simplest form.",
         "True_Neither",
         "NA",
         "True_Neither:NA",
         "64"
        ],
        [
         "17",
         "17",
         "31772",
         "What fraction of the shape is not shaded? Give your answer in its simplest form. [Image: A triangle split into 9 equal smaller triangles. 6 of them are shaded.]",
         "\\( \\frac{1}{3} \\)",
         "1/3 is not shaded and 3/9 divided by 3 is 1/3.",
         "True_Correct",
         "NA",
         "True_Correct:NA",
         "37"
        ],
        [
         "18",
         "18",
         "31772",
         "What fraction of the shape is not shaded? Give your answer in its simplest form. [Image: A triangle split into 9 equal smaller triangles. 6 of them are shaded.]",
         "\\( \\frac{1}{3} \\)",
         "1/3 is not shaded and 3/9 is equal to 1/3.",
         "True_Correct",
         "NA",
         "True_Correct:NA",
         "37"
        ],
        [
         "19",
         "19",
         "31772",
         "What fraction of the shape is not shaded? Give your answer in its simplest form. [Image: A triangle split into 9 equal smaller triangles. 6 of them are shaded.]",
         "\\( \\frac{1}{3} \\)",
         "1/3 is not shaded out of the other 2/3 shaded.",
         "True_Correct",
         "NA",
         "True_Correct:NA",
         "37"
        ],
        [
         "20",
         "20",
         "31772",
         "What fraction of the shape is not shaded? Give your answer in its simplest form. [Image: A triangle split into 9 equal smaller triangles. 6 of them are shaded.]",
         "\\( \\frac{1}{3} \\)",
         "1/3 is not shsded out of the other 2/3.",
         "True_Correct",
         "NA",
         "True_Correct:NA",
         "37"
        ],
        [
         "21",
         "21",
         "31772",
         "What fraction of the shape is not shaded? Give your answer in its simplest form. [Image: A triangle split into 9 equal smaller triangles. 6 of them are shaded.]",
         "\\( \\frac{1}{3} \\)",
         "1/3 is the right answer because the fraction of the shape not shaded is 3/9 and in its simplest form it is 1/3 therefore I am correct.",
         "True_Correct",
         "NA",
         "True_Correct:NA",
         "37"
        ],
        [
         "22",
         "22",
         "31772",
         "What fraction of the shape is not shaded? Give your answer in its simplest form. [Image: A triangle split into 9 equal smaller triangles. 6 of them are shaded.]",
         "\\( \\frac{1}{3} \\)",
         "1/3 is the right answer because the fraction of the shape not shaded is 3/9 and in its simplest form it is 1/3.",
         "True_Correct",
         "NA",
         "True_Correct:NA",
         "37"
        ],
        [
         "23",
         "23",
         "31772",
         "What fraction of the shape is not shaded? Give your answer in its simplest form. [Image: A triangle split into 9 equal smaller triangles. 6 of them are shaded.]",
         "\\( \\frac{1}{3} \\)",
         "1/3 is the right answer because the fractionn of the shape not shaded is 3/9 and in its simplest form it is 1/3.",
         "True_Correct",
         "NA",
         "True_Correct:NA",
         "37"
        ],
        [
         "24",
         "24",
         "31772",
         "What fraction of the shape is not shaded? Give your answer in its simplest form. [Image: A triangle split into 9 equal smaller triangles. 6 of them are shaded.]",
         "\\( \\frac{1}{3} \\)",
         "1/3 is the same as 3/9 and there is 1/9 left unshaded.",
         "True_Neither",
         "NA",
         "True_Neither:NA",
         "64"
        ],
        [
         "25",
         "25",
         "31772",
         "What fraction of the shape is not shaded? Give your answer in its simplest form. [Image: A triangle split into 9 equal smaller triangles. 6 of them are shaded.]",
         "\\( \\frac{1}{3} \\)",
         "1/3 is the same as 3/9 and there is 3/9 left unshaded",
         "True_Correct",
         "NA",
         "True_Correct:NA",
         "37"
        ],
        [
         "26",
         "26",
         "31772",
         "What fraction of the shape is not shaded? Give your answer in its simplest form. [Image: A triangle split into 9 equal smaller triangles. 6 of them are shaded.]",
         "\\( \\frac{1}{3} \\)",
         "1/3 is the same as 3/9.",
         "True_Correct",
         "NA",
         "True_Correct:NA",
         "37"
        ],
        [
         "27",
         "27",
         "31772",
         "What fraction of the shape is not shaded? Give your answer in its simplest form. [Image: A triangle split into 9 equal smaller triangles. 6 of them are shaded.]",
         "\\( \\frac{1}{3} \\)",
         "1/3 is the same as 3/9.",
         "True_Correct",
         "NA",
         "True_Correct:NA",
         "37"
        ],
        [
         "28",
         "28",
         "31772",
         "What fraction of the shape is not shaded? Give your answer in its simplest form. [Image: A triangle split into 9 equal smaller triangles. 6 of them are shaded.]",
         "\\( \\frac{1}{3} \\)",
         "1/3 is the same as 3/9.",
         "True_Correct",
         "NA",
         "True_Correct:NA",
         "37"
        ],
        [
         "29",
         "29",
         "31772",
         "What fraction of the shape is not shaded? Give your answer in its simplest form. [Image: A triangle split into 9 equal smaller triangles. 6 of them are shaded.]",
         "\\( \\frac{1}{3} \\)",
         "1/3 is the simplest form of 3/9",
         "True_Correct",
         "NA",
         "True_Correct:NA",
         "37"
        ],
        [
         "30",
         "30",
         "31772",
         "What fraction of the shape is not shaded? Give your answer in its simplest form. [Image: A triangle split into 9 equal smaller triangles. 6 of them are shaded.]",
         "\\( \\frac{1}{3} \\)",
         "1/3 is the simplest form of 3/9",
         "True_Correct",
         "NA",
         "True_Correct:NA",
         "37"
        ],
        [
         "31",
         "31",
         "31772",
         "What fraction of the shape is not shaded? Give your answer in its simplest form. [Image: A triangle split into 9 equal smaller triangles. 6 of them are shaded.]",
         "\\( \\frac{1}{3} \\)",
         "1/3 is the simplest form of 3/9.",
         "True_Correct",
         "NA",
         "True_Correct:NA",
         "37"
        ],
        [
         "32",
         "32",
         "31772",
         "What fraction of the shape is not shaded? Give your answer in its simplest form. [Image: A triangle split into 9 equal smaller triangles. 6 of them are shaded.]",
         "\\( \\frac{1}{3} \\)",
         "1/3 is the simplest form of this shape.",
         "True_Neither",
         "NA",
         "True_Neither:NA",
         "64"
        ],
        [
         "33",
         "33",
         "31772",
         "What fraction of the shape is not shaded? Give your answer in its simplest form. [Image: A triangle split into 9 equal smaller triangles. 6 of them are shaded.]",
         "\\( \\frac{1}{3} \\)",
         "1/3 is the simplest form.",
         "True_Correct",
         "NA",
         "True_Correct:NA",
         "37"
        ],
        [
         "34",
         "34",
         "31772",
         "What fraction of the shape is not shaded? Give your answer in its simplest form. [Image: A triangle split into 9 equal smaller triangles. 6 of them are shaded.]",
         "\\( \\frac{1}{3} \\)",
         "1/3 is the simplifued version of 3/9 which is what you need to know.",
         "True_Correct",
         "NA",
         "True_Correct:NA",
         "37"
        ],
        [
         "35",
         "35",
         "31772",
         "What fraction of the shape is not shaded? Give your answer in its simplest form. [Image: A triangle split into 9 equal smaller triangles. 6 of them are shaded.]",
         "\\( \\frac{1}{3} \\)",
         "1/3 is thee same as 3/9.",
         "True_Correct",
         "NA",
         "True_Correct:NA",
         "37"
        ],
        [
         "36",
         "36",
         "31772",
         "What fraction of the shape is not shaded? Give your answer in its simplest form. [Image: A triangle split into 9 equal smaller triangles. 6 of them are shaded.]",
         "\\( \\frac{1}{3} \\)",
         "1/3 is thee same as 3/9.",
         "True_Correct",
         "NA",
         "True_Correct:NA",
         "37"
        ],
        [
         "37",
         "37",
         "31772",
         "What fraction of the shape is not shaded? Give your answer in its simplest form. [Image: A triangle split into 9 equal smaller triangles. 6 of them are shaded.]",
         "\\( \\frac{1}{3} \\)",
         "1/3 is thr same as 3/9.",
         "True_Correct",
         "NA",
         "True_Correct:NA",
         "37"
        ],
        [
         "38",
         "38",
         "31772",
         "What fraction of the shape is not shaded? Give your answer in its simplest form. [Image: A triangle split into 9 equal smaller triangles. 6 of them are shaded.]",
         "\\( \\frac{1}{3} \\)",
         "1/3 of the 9 triangles are shaded, so 3/9=1/3.",
         "True_Correct",
         "NA",
         "True_Correct:NA",
         "37"
        ],
        [
         "39",
         "39",
         "31772",
         "What fraction of the shape is not shaded? Give your answer in its simplest form. [Image: A triangle split into 9 equal smaller triangles. 6 of them are shaded.]",
         "\\( \\frac{1}{3} \\)",
         "1/3 of the 9 triangles are shaded, so 3/9=1/3.",
         "True_Neither",
         "NA",
         "True_Neither:NA",
         "64"
        ],
        [
         "40",
         "40",
         "31772",
         "What fraction of the shape is not shaded? Give your answer in its simplest form. [Image: A triangle split into 9 equal smaller triangles. 6 of them are shaded.]",
         "\\( \\frac{1}{3} \\)",
         "1/3 of the triangle is 3, and 3 of them aren't shaded.",
         "True_Correct",
         "NA",
         "True_Correct:NA",
         "37"
        ],
        [
         "41",
         "41",
         "31772",
         "What fraction of the shape is not shaded? Give your answer in its simplest form. [Image: A triangle split into 9 equal smaller triangles. 6 of them are shaded.]",
         "\\( \\frac{1}{3} \\)",
         "1/3 of the triangle is not shaded",
         "True_Correct",
         "NA",
         "True_Correct:NA",
         "37"
        ],
        [
         "42",
         "42",
         "31772",
         "What fraction of the shape is not shaded? Give your answer in its simplest form. [Image: A triangle split into 9 equal smaller triangles. 6 of them are shaded.]",
         "\\( \\frac{1}{3} \\)",
         "1/3 of the triangle is not shaded amd 3/ 9 is divisible by 3, making it 1/3.",
         "True_Correct",
         "NA",
         "True_Correct:NA",
         "37"
        ],
        [
         "43",
         "43",
         "31772",
         "What fraction of the shape is not shaded? Give your answer in its simplest form. [Image: A triangle split into 9 equal smaller triangles. 6 of them are shaded.]",
         "\\( \\frac{1}{3} \\)",
         "1/3.   3/9 shaded, and to find simplest from we divide the top and the bottom by 3.",
         "True_Neither",
         "NA",
         "True_Neither:NA",
         "64"
        ],
        [
         "44",
         "44",
         "31772",
         "What fraction of the shape is not shaded? Give your answer in its simplest form. [Image: A triangle split into 9 equal smaller triangles. 6 of them are shaded.]",
         "\\( \\frac{1}{3} \\)",
         "1/3. 3/9 shaded, and to find simplest from we divide the top and the bottom by 3.",
         "True_Neither",
         "NA",
         "True_Neither:NA",
         "64"
        ],
        [
         "45",
         "45",
         "31772",
         "What fraction of the shape is not shaded? Give your answer in its simplest form. [Image: A triangle split into 9 equal smaller triangles. 6 of them are shaded.]",
         "\\( \\frac{1}{3} \\)",
         "13 is the simplest form of 3 9",
         "True_Correct",
         "NA",
         "True_Correct:NA",
         "37"
        ],
        [
         "46",
         "46",
         "31772",
         "What fraction of the shape is not shaded? Give your answer in its simplest form. [Image: A triangle split into 9 equal smaller triangles. 6 of them are shaded.]",
         "\\( \\frac{1}{3} \\)",
         "2/3 is shaded so 1/3 is not",
         "True_Correct",
         "NA",
         "True_Correct:NA",
         "37"
        ],
        [
         "47",
         "47",
         "31772",
         "What fraction of the shape is not shaded? Give your answer in its simplest form. [Image: A triangle split into 9 equal smaller triangles. 6 of them are shaded.]",
         "\\( \\frac{1}{3} \\)",
         "3                                                              1\n¬   are shaded which converts to       ¬\n9                                                               3",
         "True_Correct",
         "NA",
         "True_Correct:NA",
         "37"
        ],
        [
         "48",
         "48",
         "31772",
         "What fraction of the shape is not shaded? Give your answer in its simplest form. [Image: A triangle split into 9 equal smaller triangles. 6 of them are shaded.]",
         "\\( \\frac{1}{3} \\)",
         "3 9 are shaded and to put in its simplest form you would divide it by 3",
         "True_Neither",
         "NA",
         "True_Neither:NA",
         "64"
        ],
        [
         "49",
         "49",
         "31772",
         "What fraction of the shape is not shaded? Give your answer in its simplest form. [Image: A triangle split into 9 equal smaller triangles. 6 of them are shaded.]",
         "\\( \\frac{1}{3} \\)",
         "3 9th's are shaded and it is the same as 1 3rd",
         "True_Neither",
         "NA",
         "True_Neither:NA",
         "64"
        ]
       ],
       "shape": {
        "columns": 9,
        "rows": 36696
       }
      },
      "text/html": [
       "<div>\n",
       "<style scoped>\n",
       "    .dataframe tbody tr th:only-of-type {\n",
       "        vertical-align: middle;\n",
       "    }\n",
       "\n",
       "    .dataframe tbody tr th {\n",
       "        vertical-align: top;\n",
       "    }\n",
       "\n",
       "    .dataframe thead th {\n",
       "        text-align: right;\n",
       "    }\n",
       "</style>\n",
       "<table border=\"1\" class=\"dataframe\">\n",
       "  <thead>\n",
       "    <tr style=\"text-align: right;\">\n",
       "      <th></th>\n",
       "      <th>row_id</th>\n",
       "      <th>QuestionId</th>\n",
       "      <th>QuestionText</th>\n",
       "      <th>MC_Answer</th>\n",
       "      <th>StudentExplanation</th>\n",
       "      <th>Category</th>\n",
       "      <th>Misconception</th>\n",
       "      <th>target</th>\n",
       "      <th>label</th>\n",
       "    </tr>\n",
       "  </thead>\n",
       "  <tbody>\n",
       "    <tr>\n",
       "      <th>0</th>\n",
       "      <td>0</td>\n",
       "      <td>31772</td>\n",
       "      <td>What fraction of the shape is not shaded? Give...</td>\n",
       "      <td>\\( \\frac{1}{3} \\)</td>\n",
       "      <td>0ne third is equal to tree nineth</td>\n",
       "      <td>True_Correct</td>\n",
       "      <td>NA</td>\n",
       "      <td>True_Correct:NA</td>\n",
       "      <td>37</td>\n",
       "    </tr>\n",
       "    <tr>\n",
       "      <th>1</th>\n",
       "      <td>1</td>\n",
       "      <td>31772</td>\n",
       "      <td>What fraction of the shape is not shaded? Give...</td>\n",
       "      <td>\\( \\frac{1}{3} \\)</td>\n",
       "      <td>1 / 3 because 6 over 9 is 2 thirds and 1 third...</td>\n",
       "      <td>True_Correct</td>\n",
       "      <td>NA</td>\n",
       "      <td>True_Correct:NA</td>\n",
       "      <td>37</td>\n",
       "    </tr>\n",
       "    <tr>\n",
       "      <th>2</th>\n",
       "      <td>2</td>\n",
       "      <td>31772</td>\n",
       "      <td>What fraction of the shape is not shaded? Give...</td>\n",
       "      <td>\\( \\frac{1}{3} \\)</td>\n",
       "      <td>1 3rd is half of 3 6th, so it is simplee to un...</td>\n",
       "      <td>True_Neither</td>\n",
       "      <td>NA</td>\n",
       "      <td>True_Neither:NA</td>\n",
       "      <td>64</td>\n",
       "    </tr>\n",
       "    <tr>\n",
       "      <th>3</th>\n",
       "      <td>3</td>\n",
       "      <td>31772</td>\n",
       "      <td>What fraction of the shape is not shaded? Give...</td>\n",
       "      <td>\\( \\frac{1}{3} \\)</td>\n",
       "      <td>1 goes into everything and 3 goes into nine</td>\n",
       "      <td>True_Neither</td>\n",
       "      <td>NA</td>\n",
       "      <td>True_Neither:NA</td>\n",
       "      <td>64</td>\n",
       "    </tr>\n",
       "    <tr>\n",
       "      <th>4</th>\n",
       "      <td>4</td>\n",
       "      <td>31772</td>\n",
       "      <td>What fraction of the shape is not shaded? Give...</td>\n",
       "      <td>\\( \\frac{1}{3} \\)</td>\n",
       "      <td>1 out of every 3 isn't coloured</td>\n",
       "      <td>True_Correct</td>\n",
       "      <td>NA</td>\n",
       "      <td>True_Correct:NA</td>\n",
       "      <td>37</td>\n",
       "    </tr>\n",
       "    <tr>\n",
       "      <th>...</th>\n",
       "      <td>...</td>\n",
       "      <td>...</td>\n",
       "      <td>...</td>\n",
       "      <td>...</td>\n",
       "      <td>...</td>\n",
       "      <td>...</td>\n",
       "      <td>...</td>\n",
       "      <td>...</td>\n",
       "      <td>...</td>\n",
       "    </tr>\n",
       "    <tr>\n",
       "      <th>36691</th>\n",
       "      <td>36691</td>\n",
       "      <td>109465</td>\n",
       "      <td>The probability of an event occurring is \\( 0....</td>\n",
       "      <td>Unlikely</td>\n",
       "      <td>very unlikely.</td>\n",
       "      <td>False_Neither</td>\n",
       "      <td>NA</td>\n",
       "      <td>False_Neither:NA</td>\n",
       "      <td>36</td>\n",
       "    </tr>\n",
       "    <tr>\n",
       "      <th>36692</th>\n",
       "      <td>36692</td>\n",
       "      <td>109465</td>\n",
       "      <td>The probability of an event occurring is \\( 0....</td>\n",
       "      <td>Unlikely</td>\n",
       "      <td>yea pretty much unlikely from what it seems.</td>\n",
       "      <td>False_Neither</td>\n",
       "      <td>NA</td>\n",
       "      <td>False_Neither:NA</td>\n",
       "      <td>36</td>\n",
       "    </tr>\n",
       "    <tr>\n",
       "      <th>36693</th>\n",
       "      <td>36693</td>\n",
       "      <td>109465</td>\n",
       "      <td>The probability of an event occurring is \\( 0....</td>\n",
       "      <td>Unlikely</td>\n",
       "      <td>yeah pretty unlikelyy from what it seems.</td>\n",
       "      <td>False_Neither</td>\n",
       "      <td>NA</td>\n",
       "      <td>False_Neither:NA</td>\n",
       "      <td>36</td>\n",
       "    </tr>\n",
       "    <tr>\n",
       "      <th>36694</th>\n",
       "      <td>36694</td>\n",
       "      <td>109465</td>\n",
       "      <td>The probability of an event occurring is \\( 0....</td>\n",
       "      <td>Unlikely</td>\n",
       "      <td>you have 9 other numbers to get.</td>\n",
       "      <td>False_Neither</td>\n",
       "      <td>NA</td>\n",
       "      <td>False_Neither:NA</td>\n",
       "      <td>36</td>\n",
       "    </tr>\n",
       "    <tr>\n",
       "      <th>36695</th>\n",
       "      <td>36695</td>\n",
       "      <td>109465</td>\n",
       "      <td>The probability of an event occurring is \\( 0....</td>\n",
       "      <td>Unlikely</td>\n",
       "      <td>you have a chanve but it is not i think this b...</td>\n",
       "      <td>False_Neither</td>\n",
       "      <td>NA</td>\n",
       "      <td>False_Neither:NA</td>\n",
       "      <td>36</td>\n",
       "    </tr>\n",
       "  </tbody>\n",
       "</table>\n",
       "<p>36696 rows × 9 columns</p>\n",
       "</div>"
      ],
      "text/plain": [
       "       row_id  QuestionId                                       QuestionText  \\\n",
       "0           0       31772  What fraction of the shape is not shaded? Give...   \n",
       "1           1       31772  What fraction of the shape is not shaded? Give...   \n",
       "2           2       31772  What fraction of the shape is not shaded? Give...   \n",
       "3           3       31772  What fraction of the shape is not shaded? Give...   \n",
       "4           4       31772  What fraction of the shape is not shaded? Give...   \n",
       "...       ...         ...                                                ...   \n",
       "36691   36691      109465  The probability of an event occurring is \\( 0....   \n",
       "36692   36692      109465  The probability of an event occurring is \\( 0....   \n",
       "36693   36693      109465  The probability of an event occurring is \\( 0....   \n",
       "36694   36694      109465  The probability of an event occurring is \\( 0....   \n",
       "36695   36695      109465  The probability of an event occurring is \\( 0....   \n",
       "\n",
       "               MC_Answer                                 StudentExplanation  \\\n",
       "0      \\( \\frac{1}{3} \\)                  0ne third is equal to tree nineth   \n",
       "1      \\( \\frac{1}{3} \\)  1 / 3 because 6 over 9 is 2 thirds and 1 third...   \n",
       "2      \\( \\frac{1}{3} \\)  1 3rd is half of 3 6th, so it is simplee to un...   \n",
       "3      \\( \\frac{1}{3} \\)        1 goes into everything and 3 goes into nine   \n",
       "4      \\( \\frac{1}{3} \\)                    1 out of every 3 isn't coloured   \n",
       "...                  ...                                                ...   \n",
       "36691           Unlikely                                     very unlikely.   \n",
       "36692           Unlikely       yea pretty much unlikely from what it seems.   \n",
       "36693           Unlikely          yeah pretty unlikelyy from what it seems.   \n",
       "36694           Unlikely                   you have 9 other numbers to get.   \n",
       "36695           Unlikely  you have a chanve but it is not i think this b...   \n",
       "\n",
       "            Category Misconception            target  label  \n",
       "0       True_Correct            NA   True_Correct:NA     37  \n",
       "1       True_Correct            NA   True_Correct:NA     37  \n",
       "2       True_Neither            NA   True_Neither:NA     64  \n",
       "3       True_Neither            NA   True_Neither:NA     64  \n",
       "4       True_Correct            NA   True_Correct:NA     37  \n",
       "...              ...           ...               ...    ...  \n",
       "36691  False_Neither            NA  False_Neither:NA     36  \n",
       "36692  False_Neither            NA  False_Neither:NA     36  \n",
       "36693  False_Neither            NA  False_Neither:NA     36  \n",
       "36694  False_Neither            NA  False_Neither:NA     36  \n",
       "36695  False_Neither            NA  False_Neither:NA     36  \n",
       "\n",
       "[36696 rows x 9 columns]"
      ]
     },
     "execution_count": 31,
     "metadata": {},
     "output_type": "execute_result"
    }
   ],
   "source": [
    "trainDF"
   ]
  },
  {
   "cell_type": "code",
   "execution_count": 32,
   "metadata": {
    "execution": {
     "iopub.execute_input": "2025-09-27T14:44:00.967655Z",
     "iopub.status.busy": "2025-09-27T14:44:00.966983Z",
     "iopub.status.idle": "2025-09-27T14:44:01.003647Z",
     "shell.execute_reply": "2025-09-27T14:44:01.002607Z",
     "shell.execute_reply.started": "2025-09-27T14:44:00.967627Z"
    }
   },
   "outputs": [
    {
     "name": "stdout",
     "output_type": "stream",
     "text": [
      "row_id : [    0     1     2 ... 36693 36694 36695]\n",
      "QuestionId : [ 31772  31774  31777  31778  32829  32833  32835  33471  33472  33474\n",
      "  76870  89443  91695 104665 109465]\n",
      "QuestionText : ['What fraction of the shape is not shaded? Give your answer in its simplest form. [Image: A triangle split into 9 equal smaller triangles. 6 of them are shaded.]'\n",
      " 'Calculate \\\\( \\\\frac{1}{2} \\\\div 6 \\\\)'\n",
      " 'A box contains \\\\( 120 \\\\) counters. The counters are red or blue. \\\\( \\\\frac{3}{5} \\\\) of the counters are red.\\nHow many red counters are there?'\n",
      " '\\\\( \\\\frac{A}{10}=\\\\frac{9}{15} \\\\) What is the value of \\\\( A \\\\) ?'\n",
      " '\\\\( 2 y=24 \\\\) What is the value of \\\\( y \\\\) ?'\n",
      " 'Calculate \\\\( \\\\frac{2}{3} \\\\times 5 \\\\)'\n",
      " 'Which number is the greatest?'\n",
      " 'A bag contains \\\\( 24 \\\\) yellow and green balls. \\\\( \\\\frac{3}{8} \\\\) of the balls are yellow. How many of the balls are green?'\n",
      " '\\\\( \\\\frac{1}{3}+\\\\frac{2}{5}= \\\\)'\n",
      " 'Sally has \\\\( \\\\frac{2}{3} \\\\) of a whole cake in the fridge. Robert eats \\\\( \\\\frac{1}{3} \\\\) of this piece. What fraction of the whole cake has Robert eaten?\\nChoose the number sentence that would solve the word problem.'\n",
      " 'This is part of a regular polygon. How many sides does it have? [Image: A diagram showing an obtuse angle labelled 144 degrees]'\n",
      " 'What number belongs in the box?\\n\\\\(\\n(-8)-(-5)=\\n\\\\square\\\\)'\n",
      " 'Dots have been arranged in these patterns: [Image: Pattern 1 consists of 6 dots, Pattern 2 consists of 10 dots, Pattern 3 consists of 14 dots and Pattern 4 consists of 18 dots] How many dots would there be in Pattern \\\\( 6 \\\\) ?'\n",
      " 'It takes \\\\( 3 \\\\) people a total of \\\\( 192 \\\\) hours to build a wall.\\n\\nHow long would it take if \\\\( 12 \\\\) people built the same wall?'\n",
      " 'The probability of an event occurring is \\\\( 0.9 \\\\).\\n\\nWhich of the following most accurately describes the likelihood of the event occurring?']\n",
      "MC_Answer : ['\\\\( \\\\frac{1}{3} \\\\)' '\\\\( \\\\frac{3}{6} \\\\)' '\\\\( \\\\frac{3}{8} \\\\)'\n",
      " '\\\\( \\\\frac{3}{9} \\\\)' '\\\\( 3 \\\\)' '\\\\( \\\\frac{1}{12} \\\\)'\n",
      " '\\\\( \\\\frac{6}{2} \\\\)' '\\\\( 24 \\\\)' '\\\\( 48 \\\\)' '\\\\( 60 \\\\)'\n",
      " '\\\\( 72 \\\\)' '\\\\( 4 \\\\)' '\\\\( 6 \\\\)' '\\\\( 9 \\\\)' '\\\\( 12 \\\\)'\n",
      " '\\\\( 22 \\\\)' '\\\\( 3 \\\\frac{1}{3} \\\\)' '\\\\( 5 \\\\frac{2}{3} \\\\)'\n",
      " '\\\\( \\\\frac{10}{15} \\\\)' '\\\\( \\\\frac{2}{15} \\\\)' '\\\\( 6.0001 \\\\)'\n",
      " '\\\\( 6.079 \\\\)' '\\\\( 6.2 \\\\)' '\\\\( 15 \\\\)' '\\\\( 8 \\\\)'\n",
      " '\\\\( \\\\frac{11}{15} \\\\)' '\\\\( \\\\frac{11}{30} \\\\)' '\\\\( \\\\frac{3}{15} \\\\)'\n",
      " '\\\\( \\\\frac{1}{3} \\\\times \\\\frac{2}{3} \\\\)'\n",
      " '\\\\( \\\\frac{1}{3}+\\\\frac{2}{3} \\\\)'\n",
      " '\\\\( \\\\frac{2}{3} \\\\div \\\\frac{1}{3} \\\\)'\n",
      " '\\\\( \\\\frac{2}{3}-\\\\frac{1}{3} \\\\)' 'Not enough information' '\\\\( 10 \\\\)'\n",
      " '\\\\( 5 \\\\)' '\\\\( -13 \\\\)' '\\\\( -3 \\\\)' '\\\\( 13 \\\\)' '\\\\( 20 \\\\)'\n",
      " '\\\\( 26 \\\\)' '\\\\( 36 \\\\)' '\\\\( 192 \\\\) hours' '\\\\( 48 \\\\) hours'\n",
      " '\\\\( 64 \\\\) hours' '\\\\( 768 \\\\) hours' 'Certain' 'Impossible' 'Likely'\n",
      " 'Unlikely']\n",
      "StudentExplanation : ['0ne third is equal to tree nineth'\n",
      " '1 / 3 because 6 over 9 is 2 thirds and 1 third is not shaded.'\n",
      " '1 3rd is half of 3 6th, so it is simplee to understand.' ...\n",
      " 'yeah pretty unlikelyy from what it seems.'\n",
      " 'you have 9 other numbers to get.'\n",
      " 'you have a chanve but it is not i think this because there is 0.9 odds so you have chance chance,']\n",
      "Category : ['True_Correct' 'True_Neither' 'True_Misconception' 'False_Neither'\n",
      " 'False_Misconception' 'False_Correct']\n",
      "Misconception : ['NA' 'Incomplete' 'WNB' 'SwapDividend' 'Mult' 'FlipChange' 'Irrelevant'\n",
      " 'Wrong_Fraction' 'Additive' 'Not_variable' 'Adding_terms'\n",
      " 'Inverse_operation' 'Inversion' 'Duplication' 'Wrong_Operation'\n",
      " 'Whole_numbers_larger' 'Longer_is_bigger' 'Ignores_zeroes'\n",
      " 'Shorter_is_bigger' 'Wrong_fraction' 'Adding_across'\n",
      " 'Denominator-only_change' 'Incorrect_equivalent_fraction_addition'\n",
      " 'Division' 'Subtraction' 'Unknowable' 'Definition' 'Interior' 'Positive'\n",
      " 'Tacking' 'Wrong_term' 'Firstterm' 'Base_rate' 'Multiplying_by_4'\n",
      " 'Certainty' 'Scale']\n",
      "target : ['True_Correct:NA' 'True_Neither:NA' 'True_Misconception:Incomplete'\n",
      " 'True_Misconception:WNB' 'False_Neither:NA' 'False_Misconception:WNB'\n",
      " 'False_Misconception:Incomplete' 'False_Correct:NA'\n",
      " 'False_Misconception:SwapDividend' 'False_Misconception:Mult'\n",
      " 'False_Misconception:FlipChange' 'True_Misconception:SwapDividend'\n",
      " 'True_Misconception:Mult' 'True_Misconception:FlipChange'\n",
      " 'False_Misconception:Irrelevant' 'False_Misconception:Wrong_Fraction'\n",
      " 'False_Misconception:Additive' 'True_Misconception:Irrelevant'\n",
      " 'True_Misconception:Additive' 'True_Misconception:Not_variable'\n",
      " 'False_Misconception:Adding_terms' 'False_Misconception:Not_variable'\n",
      " 'False_Misconception:Inverse_operation' 'True_Misconception:Inversion'\n",
      " 'True_Misconception:Duplication' 'False_Misconception:Duplication'\n",
      " 'False_Misconception:Inversion' 'False_Misconception:Wrong_Operation'\n",
      " 'False_Misconception:Whole_numbers_larger'\n",
      " 'False_Misconception:Longer_is_bigger'\n",
      " 'False_Misconception:Ignores_zeroes'\n",
      " 'False_Misconception:Shorter_is_bigger'\n",
      " 'True_Misconception:Whole_numbers_larger'\n",
      " 'True_Misconception:Shorter_is_bigger'\n",
      " 'True_Misconception:Longer_is_bigger' 'True_Misconception:Wrong_fraction'\n",
      " 'False_Misconception:Wrong_fraction' 'True_Misconception:Adding_across'\n",
      " 'True_Misconception:Denominator-only_change'\n",
      " 'True_Misconception:Incorrect_equivalent_fraction_addition'\n",
      " 'False_Misconception:Denominator-only_change'\n",
      " 'False_Misconception:Incorrect_equivalent_fraction_addition'\n",
      " 'False_Misconception:Adding_across' 'True_Misconception:Division'\n",
      " 'True_Misconception:Subtraction' 'False_Misconception:Subtraction'\n",
      " 'False_Misconception:Division' 'False_Misconception:Unknowable'\n",
      " 'False_Misconception:Definition' 'False_Misconception:Interior'\n",
      " 'True_Misconception:Definition' 'False_Misconception:Positive'\n",
      " 'False_Misconception:Tacking' 'True_Misconception:Tacking'\n",
      " 'True_Misconception:Positive' 'False_Misconception:Wrong_term'\n",
      " 'False_Misconception:Firstterm' 'True_Misconception:Wrong_term'\n",
      " 'True_Misconception:Firstterm' 'False_Misconception:Base_rate'\n",
      " 'True_Misconception:Base_rate' 'True_Misconception:Multiplying_by_4'\n",
      " 'False_Misconception:Multiplying_by_4' 'False_Misconception:Certainty'\n",
      " 'False_Misconception:Scale']\n",
      "label : [37 64 47 60 36 30 13  0 27 20 11 58 52 46 18 32  3 50 39 54  2 22 16 49\n",
      " 44  9 17 33 31 19 12 25 61 56 51 62 34 38 42 48  7 14  1 43 57 26  8 29\n",
      "  6 15 41 23 28 59 55 35 10 63 45  4 40 53 21  5 24]\n"
     ]
    }
   ],
   "source": [
    "# print all unique t\n",
    "printAllcolumnsValue(trainDF, showAll=True)"
   ]
  },
  {
   "cell_type": "markdown",
   "metadata": {},
   "source": [
    "### Get Label Catergory class name"
   ]
  },
  {
   "cell_type": "code",
   "execution_count": 33,
   "metadata": {
    "execution": {
     "iopub.execute_input": "2025-09-27T14:44:03.635675Z",
     "iopub.status.busy": "2025-09-27T14:44:03.635362Z",
     "iopub.status.idle": "2025-09-27T14:44:03.641563Z",
     "shell.execute_reply": "2025-09-27T14:44:03.640649Z",
     "shell.execute_reply.started": "2025-09-27T14:44:03.635653Z"
    }
   },
   "outputs": [
    {
     "data": {
      "text/plain": [
       "array(['False_Correct:NA', 'False_Misconception:Adding_across',\n",
       "       'False_Misconception:Adding_terms', 'False_Misconception:Additive',\n",
       "       'False_Misconception:Base_rate', 'False_Misconception:Certainty',\n",
       "       'False_Misconception:Definition',\n",
       "       'False_Misconception:Denominator-only_change',\n",
       "       'False_Misconception:Division', 'False_Misconception:Duplication',\n",
       "       'False_Misconception:Firstterm', 'False_Misconception:FlipChange',\n",
       "       'False_Misconception:Ignores_zeroes',\n",
       "       'False_Misconception:Incomplete',\n",
       "       'False_Misconception:Incorrect_equivalent_fraction_addition',\n",
       "       'False_Misconception:Interior',\n",
       "       'False_Misconception:Inverse_operation',\n",
       "       'False_Misconception:Inversion', 'False_Misconception:Irrelevant',\n",
       "       'False_Misconception:Longer_is_bigger', 'False_Misconception:Mult',\n",
       "       'False_Misconception:Multiplying_by_4',\n",
       "       'False_Misconception:Not_variable', 'False_Misconception:Positive',\n",
       "       'False_Misconception:Scale',\n",
       "       'False_Misconception:Shorter_is_bigger',\n",
       "       'False_Misconception:Subtraction',\n",
       "       'False_Misconception:SwapDividend', 'False_Misconception:Tacking',\n",
       "       'False_Misconception:Unknowable', 'False_Misconception:WNB',\n",
       "       'False_Misconception:Whole_numbers_larger',\n",
       "       'False_Misconception:Wrong_Fraction',\n",
       "       'False_Misconception:Wrong_Operation',\n",
       "       'False_Misconception:Wrong_fraction',\n",
       "       'False_Misconception:Wrong_term', 'False_Neither:NA',\n",
       "       'True_Correct:NA', 'True_Misconception:Adding_across',\n",
       "       'True_Misconception:Additive', 'True_Misconception:Base_rate',\n",
       "       'True_Misconception:Definition',\n",
       "       'True_Misconception:Denominator-only_change',\n",
       "       'True_Misconception:Division', 'True_Misconception:Duplication',\n",
       "       'True_Misconception:Firstterm', 'True_Misconception:FlipChange',\n",
       "       'True_Misconception:Incomplete',\n",
       "       'True_Misconception:Incorrect_equivalent_fraction_addition',\n",
       "       'True_Misconception:Inversion', 'True_Misconception:Irrelevant',\n",
       "       'True_Misconception:Longer_is_bigger', 'True_Misconception:Mult',\n",
       "       'True_Misconception:Multiplying_by_4',\n",
       "       'True_Misconception:Not_variable', 'True_Misconception:Positive',\n",
       "       'True_Misconception:Shorter_is_bigger',\n",
       "       'True_Misconception:Subtraction',\n",
       "       'True_Misconception:SwapDividend', 'True_Misconception:Tacking',\n",
       "       'True_Misconception:WNB',\n",
       "       'True_Misconception:Whole_numbers_larger',\n",
       "       'True_Misconception:Wrong_fraction',\n",
       "       'True_Misconception:Wrong_term', 'True_Neither:NA'], dtype=object)"
      ]
     },
     "execution_count": 33,
     "metadata": {},
     "output_type": "execute_result"
    }
   ],
   "source": [
    "\n",
    "targetClasses = le.classes_   \n",
    "targetClasses"
   ]
  },
  {
   "cell_type": "code",
   "execution_count": 34,
   "metadata": {
    "execution": {
     "iopub.execute_input": "2025-09-27T14:44:03.850176Z",
     "iopub.status.busy": "2025-09-27T14:44:03.849859Z",
     "iopub.status.idle": "2025-09-27T14:44:03.855673Z",
     "shell.execute_reply": "2025-09-27T14:44:03.854815Z",
     "shell.execute_reply.started": "2025-09-27T14:44:03.850153Z"
    }
   },
   "outputs": [
    {
     "data": {
      "text/plain": [
       "65"
      ]
     },
     "execution_count": 34,
     "metadata": {},
     "output_type": "execute_result"
    }
   ],
   "source": [
    "nClasses = len(targetClasses)\n",
    "nClasses"
   ]
  },
  {
   "cell_type": "code",
   "execution_count": 35,
   "metadata": {
    "execution": {
     "iopub.execute_input": "2025-09-27T14:44:04.049194Z",
     "iopub.status.busy": "2025-09-27T14:44:04.048883Z",
     "iopub.status.idle": "2025-09-27T14:44:04.061589Z",
     "shell.execute_reply": "2025-09-27T14:44:04.060642Z",
     "shell.execute_reply.started": "2025-09-27T14:44:04.049169Z"
    }
   },
   "outputs": [
    {
     "name": "stdout",
     "output_type": "stream",
     "text": [
      "Train shape: (36696, 9) with 65 target classes\n"
     ]
    },
    {
     "data": {
      "application/vnd.microsoft.datawrangler.viewer.v0+json": {
       "columns": [
        {
         "name": "index",
         "rawType": "int64",
         "type": "integer"
        },
        {
         "name": "row_id",
         "rawType": "int64",
         "type": "integer"
        },
        {
         "name": "QuestionId",
         "rawType": "int64",
         "type": "integer"
        },
        {
         "name": "QuestionText",
         "rawType": "object",
         "type": "string"
        },
        {
         "name": "MC_Answer",
         "rawType": "object",
         "type": "string"
        },
        {
         "name": "StudentExplanation",
         "rawType": "object",
         "type": "string"
        },
        {
         "name": "Category",
         "rawType": "object",
         "type": "string"
        },
        {
         "name": "Misconception",
         "rawType": "object",
         "type": "string"
        },
        {
         "name": "target",
         "rawType": "object",
         "type": "string"
        },
        {
         "name": "label",
         "rawType": "int64",
         "type": "integer"
        }
       ],
       "ref": "32aecb07-189f-4b25-a0d3-4b036f52cc54",
       "rows": [
        [
         "0",
         "0",
         "31772",
         "What fraction of the shape is not shaded? Give your answer in its simplest form. [Image: A triangle split into 9 equal smaller triangles. 6 of them are shaded.]",
         "\\( \\frac{1}{3} \\)",
         "0ne third is equal to tree nineth",
         "True_Correct",
         "NA",
         "True_Correct:NA",
         "37"
        ],
        [
         "1",
         "1",
         "31772",
         "What fraction of the shape is not shaded? Give your answer in its simplest form. [Image: A triangle split into 9 equal smaller triangles. 6 of them are shaded.]",
         "\\( \\frac{1}{3} \\)",
         "1 / 3 because 6 over 9 is 2 thirds and 1 third is not shaded.",
         "True_Correct",
         "NA",
         "True_Correct:NA",
         "37"
        ],
        [
         "2",
         "2",
         "31772",
         "What fraction of the shape is not shaded? Give your answer in its simplest form. [Image: A triangle split into 9 equal smaller triangles. 6 of them are shaded.]",
         "\\( \\frac{1}{3} \\)",
         "1 3rd is half of 3 6th, so it is simplee to understand.",
         "True_Neither",
         "NA",
         "True_Neither:NA",
         "64"
        ],
        [
         "3",
         "3",
         "31772",
         "What fraction of the shape is not shaded? Give your answer in its simplest form. [Image: A triangle split into 9 equal smaller triangles. 6 of them are shaded.]",
         "\\( \\frac{1}{3} \\)",
         "1 goes into everything and 3 goes into nine",
         "True_Neither",
         "NA",
         "True_Neither:NA",
         "64"
        ],
        [
         "4",
         "4",
         "31772",
         "What fraction of the shape is not shaded? Give your answer in its simplest form. [Image: A triangle split into 9 equal smaller triangles. 6 of them are shaded.]",
         "\\( \\frac{1}{3} \\)",
         "1 out of every 3 isn't coloured",
         "True_Correct",
         "NA",
         "True_Correct:NA",
         "37"
        ]
       ],
       "shape": {
        "columns": 9,
        "rows": 5
       }
      },
      "text/html": [
       "<div>\n",
       "<style scoped>\n",
       "    .dataframe tbody tr th:only-of-type {\n",
       "        vertical-align: middle;\n",
       "    }\n",
       "\n",
       "    .dataframe tbody tr th {\n",
       "        vertical-align: top;\n",
       "    }\n",
       "\n",
       "    .dataframe thead th {\n",
       "        text-align: right;\n",
       "    }\n",
       "</style>\n",
       "<table border=\"1\" class=\"dataframe\">\n",
       "  <thead>\n",
       "    <tr style=\"text-align: right;\">\n",
       "      <th></th>\n",
       "      <th>row_id</th>\n",
       "      <th>QuestionId</th>\n",
       "      <th>QuestionText</th>\n",
       "      <th>MC_Answer</th>\n",
       "      <th>StudentExplanation</th>\n",
       "      <th>Category</th>\n",
       "      <th>Misconception</th>\n",
       "      <th>target</th>\n",
       "      <th>label</th>\n",
       "    </tr>\n",
       "  </thead>\n",
       "  <tbody>\n",
       "    <tr>\n",
       "      <th>0</th>\n",
       "      <td>0</td>\n",
       "      <td>31772</td>\n",
       "      <td>What fraction of the shape is not shaded? Give...</td>\n",
       "      <td>\\( \\frac{1}{3} \\)</td>\n",
       "      <td>0ne third is equal to tree nineth</td>\n",
       "      <td>True_Correct</td>\n",
       "      <td>NA</td>\n",
       "      <td>True_Correct:NA</td>\n",
       "      <td>37</td>\n",
       "    </tr>\n",
       "    <tr>\n",
       "      <th>1</th>\n",
       "      <td>1</td>\n",
       "      <td>31772</td>\n",
       "      <td>What fraction of the shape is not shaded? Give...</td>\n",
       "      <td>\\( \\frac{1}{3} \\)</td>\n",
       "      <td>1 / 3 because 6 over 9 is 2 thirds and 1 third...</td>\n",
       "      <td>True_Correct</td>\n",
       "      <td>NA</td>\n",
       "      <td>True_Correct:NA</td>\n",
       "      <td>37</td>\n",
       "    </tr>\n",
       "    <tr>\n",
       "      <th>2</th>\n",
       "      <td>2</td>\n",
       "      <td>31772</td>\n",
       "      <td>What fraction of the shape is not shaded? Give...</td>\n",
       "      <td>\\( \\frac{1}{3} \\)</td>\n",
       "      <td>1 3rd is half of 3 6th, so it is simplee to un...</td>\n",
       "      <td>True_Neither</td>\n",
       "      <td>NA</td>\n",
       "      <td>True_Neither:NA</td>\n",
       "      <td>64</td>\n",
       "    </tr>\n",
       "    <tr>\n",
       "      <th>3</th>\n",
       "      <td>3</td>\n",
       "      <td>31772</td>\n",
       "      <td>What fraction of the shape is not shaded? Give...</td>\n",
       "      <td>\\( \\frac{1}{3} \\)</td>\n",
       "      <td>1 goes into everything and 3 goes into nine</td>\n",
       "      <td>True_Neither</td>\n",
       "      <td>NA</td>\n",
       "      <td>True_Neither:NA</td>\n",
       "      <td>64</td>\n",
       "    </tr>\n",
       "    <tr>\n",
       "      <th>4</th>\n",
       "      <td>4</td>\n",
       "      <td>31772</td>\n",
       "      <td>What fraction of the shape is not shaded? Give...</td>\n",
       "      <td>\\( \\frac{1}{3} \\)</td>\n",
       "      <td>1 out of every 3 isn't coloured</td>\n",
       "      <td>True_Correct</td>\n",
       "      <td>NA</td>\n",
       "      <td>True_Correct:NA</td>\n",
       "      <td>37</td>\n",
       "    </tr>\n",
       "  </tbody>\n",
       "</table>\n",
       "</div>"
      ],
      "text/plain": [
       "   row_id  QuestionId                                       QuestionText  \\\n",
       "0       0       31772  What fraction of the shape is not shaded? Give...   \n",
       "1       1       31772  What fraction of the shape is not shaded? Give...   \n",
       "2       2       31772  What fraction of the shape is not shaded? Give...   \n",
       "3       3       31772  What fraction of the shape is not shaded? Give...   \n",
       "4       4       31772  What fraction of the shape is not shaded? Give...   \n",
       "\n",
       "           MC_Answer                                 StudentExplanation  \\\n",
       "0  \\( \\frac{1}{3} \\)                  0ne third is equal to tree nineth   \n",
       "1  \\( \\frac{1}{3} \\)  1 / 3 because 6 over 9 is 2 thirds and 1 third...   \n",
       "2  \\( \\frac{1}{3} \\)  1 3rd is half of 3 6th, so it is simplee to un...   \n",
       "3  \\( \\frac{1}{3} \\)        1 goes into everything and 3 goes into nine   \n",
       "4  \\( \\frac{1}{3} \\)                    1 out of every 3 isn't coloured   \n",
       "\n",
       "       Category Misconception           target  label  \n",
       "0  True_Correct            NA  True_Correct:NA     37  \n",
       "1  True_Correct            NA  True_Correct:NA     37  \n",
       "2  True_Neither            NA  True_Neither:NA     64  \n",
       "3  True_Neither            NA  True_Neither:NA     64  \n",
       "4  True_Correct            NA  True_Correct:NA     37  "
      ]
     },
     "execution_count": 35,
     "metadata": {},
     "output_type": "execute_result"
    }
   ],
   "source": [
    "print(f\"Train shape: {trainDF.shape} with {nClasses} target classes\")\n",
    "trainDF.head()"
   ]
  },
  {
   "cell_type": "markdown",
   "metadata": {},
   "source": [
    "# Feature Engineering\n",
    "\n",
    "### Add correct answer flag"
   ]
  },
  {
   "cell_type": "code",
   "execution_count": 36,
   "metadata": {
    "execution": {
     "iopub.execute_input": "2025-09-27T14:44:04.385175Z",
     "iopub.status.busy": "2025-09-27T14:44:04.384623Z",
     "iopub.status.idle": "2025-09-27T14:44:04.584115Z",
     "shell.execute_reply": "2025-09-27T14:44:04.583427Z",
     "shell.execute_reply.started": "2025-09-27T14:44:04.385151Z"
    }
   },
   "outputs": [
    {
     "data": {
      "application/vnd.microsoft.datawrangler.viewer.v0+json": {
       "columns": [
        {
         "name": "index",
         "rawType": "int64",
         "type": "integer"
        },
        {
         "name": "0",
         "rawType": "bool",
         "type": "boolean"
        }
       ],
       "ref": "44c8cccc-1b21-4844-b42d-f8fa36e835e5",
       "rows": [
        [
         "0",
         "True"
        ],
        [
         "1",
         "True"
        ],
        [
         "2",
         "True"
        ],
        [
         "3",
         "True"
        ],
        [
         "4",
         "True"
        ],
        [
         "5",
         "True"
        ],
        [
         "6",
         "True"
        ],
        [
         "7",
         "True"
        ],
        [
         "8",
         "True"
        ],
        [
         "9",
         "True"
        ],
        [
         "10",
         "True"
        ],
        [
         "11",
         "True"
        ],
        [
         "12",
         "True"
        ],
        [
         "13",
         "True"
        ],
        [
         "14",
         "True"
        ],
        [
         "15",
         "True"
        ],
        [
         "16",
         "True"
        ],
        [
         "17",
         "True"
        ],
        [
         "18",
         "True"
        ],
        [
         "19",
         "True"
        ],
        [
         "20",
         "True"
        ],
        [
         "21",
         "True"
        ],
        [
         "22",
         "True"
        ],
        [
         "23",
         "True"
        ],
        [
         "24",
         "True"
        ],
        [
         "25",
         "True"
        ],
        [
         "26",
         "True"
        ],
        [
         "27",
         "True"
        ],
        [
         "28",
         "True"
        ],
        [
         "29",
         "True"
        ],
        [
         "30",
         "True"
        ],
        [
         "31",
         "True"
        ],
        [
         "32",
         "True"
        ],
        [
         "33",
         "True"
        ],
        [
         "34",
         "True"
        ],
        [
         "35",
         "True"
        ],
        [
         "36",
         "True"
        ],
        [
         "37",
         "True"
        ],
        [
         "38",
         "True"
        ],
        [
         "39",
         "True"
        ],
        [
         "40",
         "True"
        ],
        [
         "41",
         "True"
        ],
        [
         "42",
         "True"
        ],
        [
         "43",
         "True"
        ],
        [
         "44",
         "True"
        ],
        [
         "45",
         "True"
        ],
        [
         "46",
         "True"
        ],
        [
         "47",
         "True"
        ],
        [
         "48",
         "True"
        ],
        [
         "49",
         "True"
        ]
       ],
       "shape": {
        "columns": 1,
        "rows": 36696
       }
      },
      "text/plain": [
       "0         True\n",
       "1         True\n",
       "2         True\n",
       "3         True\n",
       "4         True\n",
       "         ...  \n",
       "36691    False\n",
       "36692    False\n",
       "36693    False\n",
       "36694    False\n",
       "36695    False\n",
       "Length: 36696, dtype: bool"
      ]
     },
     "execution_count": 36,
     "metadata": {},
     "output_type": "execute_result"
    }
   ],
   "source": [
    "idx = trainDF.apply(lambda row: row[\"Category\"].split(\"_\")[0] , axis=1) == \"True\" # get Category with True \n",
    "idx"
   ]
  },
  {
   "cell_type": "code",
   "execution_count": 37,
   "metadata": {
    "execution": {
     "iopub.execute_input": "2025-09-27T14:44:06.431490Z",
     "iopub.status.busy": "2025-09-27T14:44:06.430543Z",
     "iopub.status.idle": "2025-09-27T14:44:06.452004Z",
     "shell.execute_reply": "2025-09-27T14:44:06.451145Z",
     "shell.execute_reply.started": "2025-09-27T14:44:06.431454Z"
    }
   },
   "outputs": [
    {
     "data": {
      "application/vnd.microsoft.datawrangler.viewer.v0+json": {
       "columns": [
        {
         "name": "index",
         "rawType": "int64",
         "type": "integer"
        },
        {
         "name": "row_id",
         "rawType": "int64",
         "type": "integer"
        },
        {
         "name": "QuestionId",
         "rawType": "int64",
         "type": "integer"
        },
        {
         "name": "QuestionText",
         "rawType": "object",
         "type": "string"
        },
        {
         "name": "MC_Answer",
         "rawType": "object",
         "type": "string"
        },
        {
         "name": "StudentExplanation",
         "rawType": "object",
         "type": "string"
        },
        {
         "name": "Category",
         "rawType": "object",
         "type": "string"
        },
        {
         "name": "Misconception",
         "rawType": "object",
         "type": "string"
        },
        {
         "name": "target",
         "rawType": "object",
         "type": "string"
        },
        {
         "name": "label",
         "rawType": "int64",
         "type": "integer"
        }
       ],
       "ref": "95852663-9c2a-4ee2-aa1c-fc2e56caefe7",
       "rows": [
        [
         "0",
         "0",
         "31772",
         "What fraction of the shape is not shaded? Give your answer in its simplest form. [Image: A triangle split into 9 equal smaller triangles. 6 of them are shaded.]",
         "\\( \\frac{1}{3} \\)",
         "0ne third is equal to tree nineth",
         "True_Correct",
         "NA",
         "True_Correct:NA",
         "37"
        ],
        [
         "1",
         "1",
         "31772",
         "What fraction of the shape is not shaded? Give your answer in its simplest form. [Image: A triangle split into 9 equal smaller triangles. 6 of them are shaded.]",
         "\\( \\frac{1}{3} \\)",
         "1 / 3 because 6 over 9 is 2 thirds and 1 third is not shaded.",
         "True_Correct",
         "NA",
         "True_Correct:NA",
         "37"
        ],
        [
         "2",
         "2",
         "31772",
         "What fraction of the shape is not shaded? Give your answer in its simplest form. [Image: A triangle split into 9 equal smaller triangles. 6 of them are shaded.]",
         "\\( \\frac{1}{3} \\)",
         "1 3rd is half of 3 6th, so it is simplee to understand.",
         "True_Neither",
         "NA",
         "True_Neither:NA",
         "64"
        ],
        [
         "3",
         "3",
         "31772",
         "What fraction of the shape is not shaded? Give your answer in its simplest form. [Image: A triangle split into 9 equal smaller triangles. 6 of them are shaded.]",
         "\\( \\frac{1}{3} \\)",
         "1 goes into everything and 3 goes into nine",
         "True_Neither",
         "NA",
         "True_Neither:NA",
         "64"
        ],
        [
         "4",
         "4",
         "31772",
         "What fraction of the shape is not shaded? Give your answer in its simplest form. [Image: A triangle split into 9 equal smaller triangles. 6 of them are shaded.]",
         "\\( \\frac{1}{3} \\)",
         "1 out of every 3 isn't coloured",
         "True_Correct",
         "NA",
         "True_Correct:NA",
         "37"
        ],
        [
         "5",
         "5",
         "31772",
         "What fraction of the shape is not shaded? Give your answer in its simplest form. [Image: A triangle split into 9 equal smaller triangles. 6 of them are shaded.]",
         "\\( \\frac{1}{3} \\)",
         "1 third because 6 over 9 is 2 thirds and 1 third is not shaded",
         "True_Correct",
         "NA",
         "True_Correct:NA",
         "37"
        ],
        [
         "6",
         "6",
         "31772",
         "What fraction of the shape is not shaded? Give your answer in its simplest form. [Image: A triangle split into 9 equal smaller triangles. 6 of them are shaded.]",
         "\\( \\frac{1}{3} \\)",
         "1/3 and 3/9 are not shaded but they are equal to 1/3.",
         "True_Correct",
         "NA",
         "True_Correct:NA",
         "37"
        ],
        [
         "7",
         "7",
         "31772",
         "What fraction of the shape is not shaded? Give your answer in its simplest form. [Image: A triangle split into 9 equal smaller triangles. 6 of them are shaded.]",
         "\\( \\frac{1}{3} \\)",
         "1/3 because 3/9 simplified divided by 3 would be 1/3",
         "True_Correct",
         "NA",
         "True_Correct:NA",
         "37"
        ],
        [
         "8",
         "8",
         "31772",
         "What fraction of the shape is not shaded? Give your answer in its simplest form. [Image: A triangle split into 9 equal smaller triangles. 6 of them are shaded.]",
         "\\( \\frac{1}{3} \\)",
         "1/3 because I worked out that 3/9 were not shaded and because 3 and 9 have a common factor of 3, I divided the numerator and denominator by 3 to give me 1/3",
         "True_Correct",
         "NA",
         "True_Correct:NA",
         "37"
        ],
        [
         "9",
         "9",
         "31772",
         "What fraction of the shape is not shaded? Give your answer in its simplest form. [Image: A triangle split into 9 equal smaller triangles. 6 of them are shaded.]",
         "\\( \\frac{1}{3} \\)",
         "1/3 because it 3 shadedd in not all of them",
         "True_Neither",
         "NA",
         "True_Neither:NA",
         "64"
        ],
        [
         "10",
         "10",
         "31772",
         "What fraction of the shape is not shaded? Give your answer in its simplest form. [Image: A triangle split into 9 equal smaller triangles. 6 of them are shaded.]",
         "\\( \\frac{1}{3} \\)",
         "1/3 because there are 6 shaded aut of 9 so 1/3",
         "True_Correct",
         "NA",
         "True_Correct:NA",
         "37"
        ],
        [
         "11",
         "11",
         "31772",
         "What fraction of the shape is not shaded? Give your answer in its simplest form. [Image: A triangle split into 9 equal smaller triangles. 6 of them are shaded.]",
         "\\( \\frac{1}{3} \\)",
         "1/3 because there are threee triangles that are not shaded which is equivilent to 1/3",
         "True_Correct",
         "NA",
         "True_Correct:NA",
         "37"
        ],
        [
         "12",
         "12",
         "31772",
         "What fraction of the shape is not shaded? Give your answer in its simplest form. [Image: A triangle split into 9 equal smaller triangles. 6 of them are shaded.]",
         "\\( \\frac{1}{3} \\)",
         "1/3 is a simplafide version of 3/9",
         "True_Correct",
         "NA",
         "True_Correct:NA",
         "37"
        ],
        [
         "13",
         "13",
         "31772",
         "What fraction of the shape is not shaded? Give your answer in its simplest form. [Image: A triangle split into 9 equal smaller triangles. 6 of them are shaded.]",
         "\\( \\frac{1}{3} \\)",
         "1/3 is also 1/3 in its simplest form.",
         "True_Neither",
         "NA",
         "True_Neither:NA",
         "64"
        ],
        [
         "14",
         "14",
         "31772",
         "What fraction of the shape is not shaded? Give your answer in its simplest form. [Image: A triangle split into 9 equal smaller triangles. 6 of them are shaded.]",
         "\\( \\frac{1}{3} \\)",
         "1/3 is equal to 3 because if 3 are not shared in so 3/6 in its simplest form is 1/3.",
         "True_Neither",
         "NA",
         "True_Neither:NA",
         "64"
        ],
        [
         "15",
         "15",
         "31772",
         "What fraction of the shape is not shaded? Give your answer in its simplest form. [Image: A triangle split into 9 equal smaller triangles. 6 of them are shaded.]",
         "\\( \\frac{1}{3} \\)",
         "1/3 is equal to 3 because if 3 are not shared in so 3/6 in its simplest form is 1/3.",
         "True_Neither",
         "NA",
         "True_Neither:NA",
         "64"
        ],
        [
         "16",
         "16",
         "31772",
         "What fraction of the shape is not shaded? Give your answer in its simplest form. [Image: A triangle split into 9 equal smaller triangles. 6 of them are shaded.]",
         "\\( \\frac{1}{3} \\)",
         "1/3 is in its simplest form.",
         "True_Neither",
         "NA",
         "True_Neither:NA",
         "64"
        ],
        [
         "17",
         "17",
         "31772",
         "What fraction of the shape is not shaded? Give your answer in its simplest form. [Image: A triangle split into 9 equal smaller triangles. 6 of them are shaded.]",
         "\\( \\frac{1}{3} \\)",
         "1/3 is not shaded and 3/9 divided by 3 is 1/3.",
         "True_Correct",
         "NA",
         "True_Correct:NA",
         "37"
        ],
        [
         "18",
         "18",
         "31772",
         "What fraction of the shape is not shaded? Give your answer in its simplest form. [Image: A triangle split into 9 equal smaller triangles. 6 of them are shaded.]",
         "\\( \\frac{1}{3} \\)",
         "1/3 is not shaded and 3/9 is equal to 1/3.",
         "True_Correct",
         "NA",
         "True_Correct:NA",
         "37"
        ],
        [
         "19",
         "19",
         "31772",
         "What fraction of the shape is not shaded? Give your answer in its simplest form. [Image: A triangle split into 9 equal smaller triangles. 6 of them are shaded.]",
         "\\( \\frac{1}{3} \\)",
         "1/3 is not shaded out of the other 2/3 shaded.",
         "True_Correct",
         "NA",
         "True_Correct:NA",
         "37"
        ],
        [
         "20",
         "20",
         "31772",
         "What fraction of the shape is not shaded? Give your answer in its simplest form. [Image: A triangle split into 9 equal smaller triangles. 6 of them are shaded.]",
         "\\( \\frac{1}{3} \\)",
         "1/3 is not shsded out of the other 2/3.",
         "True_Correct",
         "NA",
         "True_Correct:NA",
         "37"
        ],
        [
         "21",
         "21",
         "31772",
         "What fraction of the shape is not shaded? Give your answer in its simplest form. [Image: A triangle split into 9 equal smaller triangles. 6 of them are shaded.]",
         "\\( \\frac{1}{3} \\)",
         "1/3 is the right answer because the fraction of the shape not shaded is 3/9 and in its simplest form it is 1/3 therefore I am correct.",
         "True_Correct",
         "NA",
         "True_Correct:NA",
         "37"
        ],
        [
         "22",
         "22",
         "31772",
         "What fraction of the shape is not shaded? Give your answer in its simplest form. [Image: A triangle split into 9 equal smaller triangles. 6 of them are shaded.]",
         "\\( \\frac{1}{3} \\)",
         "1/3 is the right answer because the fraction of the shape not shaded is 3/9 and in its simplest form it is 1/3.",
         "True_Correct",
         "NA",
         "True_Correct:NA",
         "37"
        ],
        [
         "23",
         "23",
         "31772",
         "What fraction of the shape is not shaded? Give your answer in its simplest form. [Image: A triangle split into 9 equal smaller triangles. 6 of them are shaded.]",
         "\\( \\frac{1}{3} \\)",
         "1/3 is the right answer because the fractionn of the shape not shaded is 3/9 and in its simplest form it is 1/3.",
         "True_Correct",
         "NA",
         "True_Correct:NA",
         "37"
        ],
        [
         "24",
         "24",
         "31772",
         "What fraction of the shape is not shaded? Give your answer in its simplest form. [Image: A triangle split into 9 equal smaller triangles. 6 of them are shaded.]",
         "\\( \\frac{1}{3} \\)",
         "1/3 is the same as 3/9 and there is 1/9 left unshaded.",
         "True_Neither",
         "NA",
         "True_Neither:NA",
         "64"
        ],
        [
         "25",
         "25",
         "31772",
         "What fraction of the shape is not shaded? Give your answer in its simplest form. [Image: A triangle split into 9 equal smaller triangles. 6 of them are shaded.]",
         "\\( \\frac{1}{3} \\)",
         "1/3 is the same as 3/9 and there is 3/9 left unshaded",
         "True_Correct",
         "NA",
         "True_Correct:NA",
         "37"
        ],
        [
         "26",
         "26",
         "31772",
         "What fraction of the shape is not shaded? Give your answer in its simplest form. [Image: A triangle split into 9 equal smaller triangles. 6 of them are shaded.]",
         "\\( \\frac{1}{3} \\)",
         "1/3 is the same as 3/9.",
         "True_Correct",
         "NA",
         "True_Correct:NA",
         "37"
        ],
        [
         "27",
         "27",
         "31772",
         "What fraction of the shape is not shaded? Give your answer in its simplest form. [Image: A triangle split into 9 equal smaller triangles. 6 of them are shaded.]",
         "\\( \\frac{1}{3} \\)",
         "1/3 is the same as 3/9.",
         "True_Correct",
         "NA",
         "True_Correct:NA",
         "37"
        ],
        [
         "28",
         "28",
         "31772",
         "What fraction of the shape is not shaded? Give your answer in its simplest form. [Image: A triangle split into 9 equal smaller triangles. 6 of them are shaded.]",
         "\\( \\frac{1}{3} \\)",
         "1/3 is the same as 3/9.",
         "True_Correct",
         "NA",
         "True_Correct:NA",
         "37"
        ],
        [
         "29",
         "29",
         "31772",
         "What fraction of the shape is not shaded? Give your answer in its simplest form. [Image: A triangle split into 9 equal smaller triangles. 6 of them are shaded.]",
         "\\( \\frac{1}{3} \\)",
         "1/3 is the simplest form of 3/9",
         "True_Correct",
         "NA",
         "True_Correct:NA",
         "37"
        ],
        [
         "30",
         "30",
         "31772",
         "What fraction of the shape is not shaded? Give your answer in its simplest form. [Image: A triangle split into 9 equal smaller triangles. 6 of them are shaded.]",
         "\\( \\frac{1}{3} \\)",
         "1/3 is the simplest form of 3/9",
         "True_Correct",
         "NA",
         "True_Correct:NA",
         "37"
        ],
        [
         "31",
         "31",
         "31772",
         "What fraction of the shape is not shaded? Give your answer in its simplest form. [Image: A triangle split into 9 equal smaller triangles. 6 of them are shaded.]",
         "\\( \\frac{1}{3} \\)",
         "1/3 is the simplest form of 3/9.",
         "True_Correct",
         "NA",
         "True_Correct:NA",
         "37"
        ],
        [
         "32",
         "32",
         "31772",
         "What fraction of the shape is not shaded? Give your answer in its simplest form. [Image: A triangle split into 9 equal smaller triangles. 6 of them are shaded.]",
         "\\( \\frac{1}{3} \\)",
         "1/3 is the simplest form of this shape.",
         "True_Neither",
         "NA",
         "True_Neither:NA",
         "64"
        ],
        [
         "33",
         "33",
         "31772",
         "What fraction of the shape is not shaded? Give your answer in its simplest form. [Image: A triangle split into 9 equal smaller triangles. 6 of them are shaded.]",
         "\\( \\frac{1}{3} \\)",
         "1/3 is the simplest form.",
         "True_Correct",
         "NA",
         "True_Correct:NA",
         "37"
        ],
        [
         "34",
         "34",
         "31772",
         "What fraction of the shape is not shaded? Give your answer in its simplest form. [Image: A triangle split into 9 equal smaller triangles. 6 of them are shaded.]",
         "\\( \\frac{1}{3} \\)",
         "1/3 is the simplifued version of 3/9 which is what you need to know.",
         "True_Correct",
         "NA",
         "True_Correct:NA",
         "37"
        ],
        [
         "35",
         "35",
         "31772",
         "What fraction of the shape is not shaded? Give your answer in its simplest form. [Image: A triangle split into 9 equal smaller triangles. 6 of them are shaded.]",
         "\\( \\frac{1}{3} \\)",
         "1/3 is thee same as 3/9.",
         "True_Correct",
         "NA",
         "True_Correct:NA",
         "37"
        ],
        [
         "36",
         "36",
         "31772",
         "What fraction of the shape is not shaded? Give your answer in its simplest form. [Image: A triangle split into 9 equal smaller triangles. 6 of them are shaded.]",
         "\\( \\frac{1}{3} \\)",
         "1/3 is thee same as 3/9.",
         "True_Correct",
         "NA",
         "True_Correct:NA",
         "37"
        ],
        [
         "37",
         "37",
         "31772",
         "What fraction of the shape is not shaded? Give your answer in its simplest form. [Image: A triangle split into 9 equal smaller triangles. 6 of them are shaded.]",
         "\\( \\frac{1}{3} \\)",
         "1/3 is thr same as 3/9.",
         "True_Correct",
         "NA",
         "True_Correct:NA",
         "37"
        ],
        [
         "38",
         "38",
         "31772",
         "What fraction of the shape is not shaded? Give your answer in its simplest form. [Image: A triangle split into 9 equal smaller triangles. 6 of them are shaded.]",
         "\\( \\frac{1}{3} \\)",
         "1/3 of the 9 triangles are shaded, so 3/9=1/3.",
         "True_Correct",
         "NA",
         "True_Correct:NA",
         "37"
        ],
        [
         "39",
         "39",
         "31772",
         "What fraction of the shape is not shaded? Give your answer in its simplest form. [Image: A triangle split into 9 equal smaller triangles. 6 of them are shaded.]",
         "\\( \\frac{1}{3} \\)",
         "1/3 of the 9 triangles are shaded, so 3/9=1/3.",
         "True_Neither",
         "NA",
         "True_Neither:NA",
         "64"
        ],
        [
         "40",
         "40",
         "31772",
         "What fraction of the shape is not shaded? Give your answer in its simplest form. [Image: A triangle split into 9 equal smaller triangles. 6 of them are shaded.]",
         "\\( \\frac{1}{3} \\)",
         "1/3 of the triangle is 3, and 3 of them aren't shaded.",
         "True_Correct",
         "NA",
         "True_Correct:NA",
         "37"
        ],
        [
         "41",
         "41",
         "31772",
         "What fraction of the shape is not shaded? Give your answer in its simplest form. [Image: A triangle split into 9 equal smaller triangles. 6 of them are shaded.]",
         "\\( \\frac{1}{3} \\)",
         "1/3 of the triangle is not shaded",
         "True_Correct",
         "NA",
         "True_Correct:NA",
         "37"
        ],
        [
         "42",
         "42",
         "31772",
         "What fraction of the shape is not shaded? Give your answer in its simplest form. [Image: A triangle split into 9 equal smaller triangles. 6 of them are shaded.]",
         "\\( \\frac{1}{3} \\)",
         "1/3 of the triangle is not shaded amd 3/ 9 is divisible by 3, making it 1/3.",
         "True_Correct",
         "NA",
         "True_Correct:NA",
         "37"
        ],
        [
         "43",
         "43",
         "31772",
         "What fraction of the shape is not shaded? Give your answer in its simplest form. [Image: A triangle split into 9 equal smaller triangles. 6 of them are shaded.]",
         "\\( \\frac{1}{3} \\)",
         "1/3.   3/9 shaded, and to find simplest from we divide the top and the bottom by 3.",
         "True_Neither",
         "NA",
         "True_Neither:NA",
         "64"
        ],
        [
         "44",
         "44",
         "31772",
         "What fraction of the shape is not shaded? Give your answer in its simplest form. [Image: A triangle split into 9 equal smaller triangles. 6 of them are shaded.]",
         "\\( \\frac{1}{3} \\)",
         "1/3. 3/9 shaded, and to find simplest from we divide the top and the bottom by 3.",
         "True_Neither",
         "NA",
         "True_Neither:NA",
         "64"
        ],
        [
         "45",
         "45",
         "31772",
         "What fraction of the shape is not shaded? Give your answer in its simplest form. [Image: A triangle split into 9 equal smaller triangles. 6 of them are shaded.]",
         "\\( \\frac{1}{3} \\)",
         "13 is the simplest form of 3 9",
         "True_Correct",
         "NA",
         "True_Correct:NA",
         "37"
        ],
        [
         "46",
         "46",
         "31772",
         "What fraction of the shape is not shaded? Give your answer in its simplest form. [Image: A triangle split into 9 equal smaller triangles. 6 of them are shaded.]",
         "\\( \\frac{1}{3} \\)",
         "2/3 is shaded so 1/3 is not",
         "True_Correct",
         "NA",
         "True_Correct:NA",
         "37"
        ],
        [
         "47",
         "47",
         "31772",
         "What fraction of the shape is not shaded? Give your answer in its simplest form. [Image: A triangle split into 9 equal smaller triangles. 6 of them are shaded.]",
         "\\( \\frac{1}{3} \\)",
         "3                                                              1\n¬   are shaded which converts to       ¬\n9                                                               3",
         "True_Correct",
         "NA",
         "True_Correct:NA",
         "37"
        ],
        [
         "48",
         "48",
         "31772",
         "What fraction of the shape is not shaded? Give your answer in its simplest form. [Image: A triangle split into 9 equal smaller triangles. 6 of them are shaded.]",
         "\\( \\frac{1}{3} \\)",
         "3 9 are shaded and to put in its simplest form you would divide it by 3",
         "True_Neither",
         "NA",
         "True_Neither:NA",
         "64"
        ],
        [
         "49",
         "49",
         "31772",
         "What fraction of the shape is not shaded? Give your answer in its simplest form. [Image: A triangle split into 9 equal smaller triangles. 6 of them are shaded.]",
         "\\( \\frac{1}{3} \\)",
         "3 9th's are shaded and it is the same as 1 3rd",
         "True_Neither",
         "NA",
         "True_Neither:NA",
         "64"
        ]
       ],
       "shape": {
        "columns": 9,
        "rows": 20470
       }
      },
      "text/html": [
       "<div>\n",
       "<style scoped>\n",
       "    .dataframe tbody tr th:only-of-type {\n",
       "        vertical-align: middle;\n",
       "    }\n",
       "\n",
       "    .dataframe tbody tr th {\n",
       "        vertical-align: top;\n",
       "    }\n",
       "\n",
       "    .dataframe thead th {\n",
       "        text-align: right;\n",
       "    }\n",
       "</style>\n",
       "<table border=\"1\" class=\"dataframe\">\n",
       "  <thead>\n",
       "    <tr style=\"text-align: right;\">\n",
       "      <th></th>\n",
       "      <th>row_id</th>\n",
       "      <th>QuestionId</th>\n",
       "      <th>QuestionText</th>\n",
       "      <th>MC_Answer</th>\n",
       "      <th>StudentExplanation</th>\n",
       "      <th>Category</th>\n",
       "      <th>Misconception</th>\n",
       "      <th>target</th>\n",
       "      <th>label</th>\n",
       "    </tr>\n",
       "  </thead>\n",
       "  <tbody>\n",
       "    <tr>\n",
       "      <th>0</th>\n",
       "      <td>0</td>\n",
       "      <td>31772</td>\n",
       "      <td>What fraction of the shape is not shaded? Give...</td>\n",
       "      <td>\\( \\frac{1}{3} \\)</td>\n",
       "      <td>0ne third is equal to tree nineth</td>\n",
       "      <td>True_Correct</td>\n",
       "      <td>NA</td>\n",
       "      <td>True_Correct:NA</td>\n",
       "      <td>37</td>\n",
       "    </tr>\n",
       "    <tr>\n",
       "      <th>1</th>\n",
       "      <td>1</td>\n",
       "      <td>31772</td>\n",
       "      <td>What fraction of the shape is not shaded? Give...</td>\n",
       "      <td>\\( \\frac{1}{3} \\)</td>\n",
       "      <td>1 / 3 because 6 over 9 is 2 thirds and 1 third...</td>\n",
       "      <td>True_Correct</td>\n",
       "      <td>NA</td>\n",
       "      <td>True_Correct:NA</td>\n",
       "      <td>37</td>\n",
       "    </tr>\n",
       "    <tr>\n",
       "      <th>2</th>\n",
       "      <td>2</td>\n",
       "      <td>31772</td>\n",
       "      <td>What fraction of the shape is not shaded? Give...</td>\n",
       "      <td>\\( \\frac{1}{3} \\)</td>\n",
       "      <td>1 3rd is half of 3 6th, so it is simplee to un...</td>\n",
       "      <td>True_Neither</td>\n",
       "      <td>NA</td>\n",
       "      <td>True_Neither:NA</td>\n",
       "      <td>64</td>\n",
       "    </tr>\n",
       "    <tr>\n",
       "      <th>3</th>\n",
       "      <td>3</td>\n",
       "      <td>31772</td>\n",
       "      <td>What fraction of the shape is not shaded? Give...</td>\n",
       "      <td>\\( \\frac{1}{3} \\)</td>\n",
       "      <td>1 goes into everything and 3 goes into nine</td>\n",
       "      <td>True_Neither</td>\n",
       "      <td>NA</td>\n",
       "      <td>True_Neither:NA</td>\n",
       "      <td>64</td>\n",
       "    </tr>\n",
       "    <tr>\n",
       "      <th>4</th>\n",
       "      <td>4</td>\n",
       "      <td>31772</td>\n",
       "      <td>What fraction of the shape is not shaded? Give...</td>\n",
       "      <td>\\( \\frac{1}{3} \\)</td>\n",
       "      <td>1 out of every 3 isn't coloured</td>\n",
       "      <td>True_Correct</td>\n",
       "      <td>NA</td>\n",
       "      <td>True_Correct:NA</td>\n",
       "      <td>37</td>\n",
       "    </tr>\n",
       "    <tr>\n",
       "      <th>...</th>\n",
       "      <td>...</td>\n",
       "      <td>...</td>\n",
       "      <td>...</td>\n",
       "      <td>...</td>\n",
       "      <td>...</td>\n",
       "      <td>...</td>\n",
       "      <td>...</td>\n",
       "      <td>...</td>\n",
       "      <td>...</td>\n",
       "    </tr>\n",
       "    <tr>\n",
       "      <th>36275</th>\n",
       "      <td>36275</td>\n",
       "      <td>109465</td>\n",
       "      <td>The probability of an event occurring is \\( 0....</td>\n",
       "      <td>Likely</td>\n",
       "      <td>very close to one but not one so it cant be ce...</td>\n",
       "      <td>True_Correct</td>\n",
       "      <td>NA</td>\n",
       "      <td>True_Correct:NA</td>\n",
       "      <td>37</td>\n",
       "    </tr>\n",
       "    <tr>\n",
       "      <th>36276</th>\n",
       "      <td>36276</td>\n",
       "      <td>109465</td>\n",
       "      <td>The probability of an event occurring is \\( 0....</td>\n",
       "      <td>Likely</td>\n",
       "      <td>very high probability however it's not certain</td>\n",
       "      <td>True_Neither</td>\n",
       "      <td>NA</td>\n",
       "      <td>True_Neither:NA</td>\n",
       "      <td>64</td>\n",
       "    </tr>\n",
       "    <tr>\n",
       "      <th>36277</th>\n",
       "      <td>36277</td>\n",
       "      <td>109465</td>\n",
       "      <td>The probability of an event occurring is \\( 0....</td>\n",
       "      <td>Likely</td>\n",
       "      <td>we should use likely because we dont know for ...</td>\n",
       "      <td>True_Neither</td>\n",
       "      <td>NA</td>\n",
       "      <td>True_Neither:NA</td>\n",
       "      <td>64</td>\n",
       "    </tr>\n",
       "    <tr>\n",
       "      <th>36278</th>\n",
       "      <td>36278</td>\n",
       "      <td>109465</td>\n",
       "      <td>The probability of an event occurring is \\( 0....</td>\n",
       "      <td>Likely</td>\n",
       "      <td>well 0.9 = 90% and the only way something can ...</td>\n",
       "      <td>True_Correct</td>\n",
       "      <td>NA</td>\n",
       "      <td>True_Correct:NA</td>\n",
       "      <td>37</td>\n",
       "    </tr>\n",
       "    <tr>\n",
       "      <th>36279</th>\n",
       "      <td>36279</td>\n",
       "      <td>109465</td>\n",
       "      <td>The probability of an event occurring is \\( 0....</td>\n",
       "      <td>Likely</td>\n",
       "      <td>well normally if it is in the decimals its the...</td>\n",
       "      <td>True_Correct</td>\n",
       "      <td>NA</td>\n",
       "      <td>True_Correct:NA</td>\n",
       "      <td>37</td>\n",
       "    </tr>\n",
       "  </tbody>\n",
       "</table>\n",
       "<p>20470 rows × 9 columns</p>\n",
       "</div>"
      ],
      "text/plain": [
       "       row_id  QuestionId                                       QuestionText  \\\n",
       "0           0       31772  What fraction of the shape is not shaded? Give...   \n",
       "1           1       31772  What fraction of the shape is not shaded? Give...   \n",
       "2           2       31772  What fraction of the shape is not shaded? Give...   \n",
       "3           3       31772  What fraction of the shape is not shaded? Give...   \n",
       "4           4       31772  What fraction of the shape is not shaded? Give...   \n",
       "...       ...         ...                                                ...   \n",
       "36275   36275      109465  The probability of an event occurring is \\( 0....   \n",
       "36276   36276      109465  The probability of an event occurring is \\( 0....   \n",
       "36277   36277      109465  The probability of an event occurring is \\( 0....   \n",
       "36278   36278      109465  The probability of an event occurring is \\( 0....   \n",
       "36279   36279      109465  The probability of an event occurring is \\( 0....   \n",
       "\n",
       "               MC_Answer                                 StudentExplanation  \\\n",
       "0      \\( \\frac{1}{3} \\)                  0ne third is equal to tree nineth   \n",
       "1      \\( \\frac{1}{3} \\)  1 / 3 because 6 over 9 is 2 thirds and 1 third...   \n",
       "2      \\( \\frac{1}{3} \\)  1 3rd is half of 3 6th, so it is simplee to un...   \n",
       "3      \\( \\frac{1}{3} \\)        1 goes into everything and 3 goes into nine   \n",
       "4      \\( \\frac{1}{3} \\)                    1 out of every 3 isn't coloured   \n",
       "...                  ...                                                ...   \n",
       "36275             Likely  very close to one but not one so it cant be ce...   \n",
       "36276             Likely     very high probability however it's not certain   \n",
       "36277             Likely  we should use likely because we dont know for ...   \n",
       "36278             Likely  well 0.9 = 90% and the only way something can ...   \n",
       "36279             Likely  well normally if it is in the decimals its the...   \n",
       "\n",
       "           Category Misconception           target  label  \n",
       "0      True_Correct            NA  True_Correct:NA     37  \n",
       "1      True_Correct            NA  True_Correct:NA     37  \n",
       "2      True_Neither            NA  True_Neither:NA     64  \n",
       "3      True_Neither            NA  True_Neither:NA     64  \n",
       "4      True_Correct            NA  True_Correct:NA     37  \n",
       "...             ...           ...              ...    ...  \n",
       "36275  True_Correct            NA  True_Correct:NA     37  \n",
       "36276  True_Neither            NA  True_Neither:NA     64  \n",
       "36277  True_Neither            NA  True_Neither:NA     64  \n",
       "36278  True_Correct            NA  True_Correct:NA     37  \n",
       "36279  True_Correct            NA  True_Correct:NA     37  \n",
       "\n",
       "[20470 rows x 9 columns]"
      ]
     },
     "execution_count": 37,
     "metadata": {},
     "output_type": "execute_result"
    }
   ],
   "source": [
    "correct = trainDF.loc[idx].copy()\n",
    "correct"
   ]
  },
  {
   "cell_type": "code",
   "execution_count": 38,
   "metadata": {
    "execution": {
     "iopub.execute_input": "2025-09-27T14:44:06.656138Z",
     "iopub.status.busy": "2025-09-27T14:44:06.655784Z",
     "iopub.status.idle": "2025-09-27T14:44:06.681732Z",
     "shell.execute_reply": "2025-09-27T14:44:06.680809Z",
     "shell.execute_reply.started": "2025-09-27T14:44:06.656097Z"
    }
   },
   "outputs": [
    {
     "data": {
      "application/vnd.microsoft.datawrangler.viewer.v0+json": {
       "columns": [
        {
         "name": "index",
         "rawType": "int64",
         "type": "integer"
        },
        {
         "name": "row_id",
         "rawType": "int64",
         "type": "integer"
        },
        {
         "name": "QuestionId",
         "rawType": "int64",
         "type": "integer"
        },
        {
         "name": "QuestionText",
         "rawType": "object",
         "type": "string"
        },
        {
         "name": "MC_Answer",
         "rawType": "object",
         "type": "string"
        },
        {
         "name": "StudentExplanation",
         "rawType": "object",
         "type": "string"
        },
        {
         "name": "Category",
         "rawType": "object",
         "type": "string"
        },
        {
         "name": "Misconception",
         "rawType": "object",
         "type": "string"
        },
        {
         "name": "target",
         "rawType": "object",
         "type": "string"
        },
        {
         "name": "label",
         "rawType": "int64",
         "type": "integer"
        },
        {
         "name": "c",
         "rawType": "int64",
         "type": "integer"
        }
       ],
       "ref": "0571b0e3-eff0-4624-b384-752361218bb2",
       "rows": [
        [
         "15",
         "15",
         "31772",
         "What fraction of the shape is not shaded? Give your answer in its simplest form. [Image: A triangle split into 9 equal smaller triangles. 6 of them are shaded.]",
         "\\( \\frac{1}{3} \\)",
         "1/3 is equal to 3 because if 3 are not shared in so 3/6 in its simplest form is 1/3.",
         "True_Neither",
         "NA",
         "True_Neither:NA",
         "64",
         "2348"
        ],
        [
         "14",
         "14",
         "31772",
         "What fraction of the shape is not shaded? Give your answer in its simplest form. [Image: A triangle split into 9 equal smaller triangles. 6 of them are shaded.]",
         "\\( \\frac{1}{3} \\)",
         "1/3 is equal to 3 because if 3 are not shared in so 3/6 in its simplest form is 1/3.",
         "True_Neither",
         "NA",
         "True_Neither:NA",
         "64",
         "2348"
        ],
        [
         "13",
         "13",
         "31772",
         "What fraction of the shape is not shaded? Give your answer in its simplest form. [Image: A triangle split into 9 equal smaller triangles. 6 of them are shaded.]",
         "\\( \\frac{1}{3} \\)",
         "1/3 is also 1/3 in its simplest form.",
         "True_Neither",
         "NA",
         "True_Neither:NA",
         "64",
         "2348"
        ],
        [
         "12",
         "12",
         "31772",
         "What fraction of the shape is not shaded? Give your answer in its simplest form. [Image: A triangle split into 9 equal smaller triangles. 6 of them are shaded.]",
         "\\( \\frac{1}{3} \\)",
         "1/3 is a simplafide version of 3/9",
         "True_Correct",
         "NA",
         "True_Correct:NA",
         "37",
         "2348"
        ],
        [
         "11",
         "11",
         "31772",
         "What fraction of the shape is not shaded? Give your answer in its simplest form. [Image: A triangle split into 9 equal smaller triangles. 6 of them are shaded.]",
         "\\( \\frac{1}{3} \\)",
         "1/3 because there are threee triangles that are not shaded which is equivilent to 1/3",
         "True_Correct",
         "NA",
         "True_Correct:NA",
         "37",
         "2348"
        ],
        [
         "2347",
         "2347",
         "31772",
         "What fraction of the shape is not shaded? Give your answer in its simplest form. [Image: A triangle split into 9 equal smaller triangles. 6 of them are shaded.]",
         "\\( \\frac{1}{3} \\)",
         "⅓ because 3 of 9 aren't shaded and³/9 in its simplest form is ⅓.",
         "True_Correct",
         "NA",
         "True_Correct:NA",
         "37",
         "2348"
        ],
        [
         "42",
         "42",
         "31772",
         "What fraction of the shape is not shaded? Give your answer in its simplest form. [Image: A triangle split into 9 equal smaller triangles. 6 of them are shaded.]",
         "\\( \\frac{1}{3} \\)",
         "1/3 of the triangle is not shaded amd 3/ 9 is divisible by 3, making it 1/3.",
         "True_Correct",
         "NA",
         "True_Correct:NA",
         "37",
         "2348"
        ],
        [
         "41",
         "41",
         "31772",
         "What fraction of the shape is not shaded? Give your answer in its simplest form. [Image: A triangle split into 9 equal smaller triangles. 6 of them are shaded.]",
         "\\( \\frac{1}{3} \\)",
         "1/3 of the triangle is not shaded",
         "True_Correct",
         "NA",
         "True_Correct:NA",
         "37",
         "2348"
        ],
        [
         "40",
         "40",
         "31772",
         "What fraction of the shape is not shaded? Give your answer in its simplest form. [Image: A triangle split into 9 equal smaller triangles. 6 of them are shaded.]",
         "\\( \\frac{1}{3} \\)",
         "1/3 of the triangle is 3, and 3 of them aren't shaded.",
         "True_Correct",
         "NA",
         "True_Correct:NA",
         "37",
         "2348"
        ],
        [
         "39",
         "39",
         "31772",
         "What fraction of the shape is not shaded? Give your answer in its simplest form. [Image: A triangle split into 9 equal smaller triangles. 6 of them are shaded.]",
         "\\( \\frac{1}{3} \\)",
         "1/3 of the 9 triangles are shaded, so 3/9=1/3.",
         "True_Neither",
         "NA",
         "True_Neither:NA",
         "64",
         "2348"
        ],
        [
         "38",
         "38",
         "31772",
         "What fraction of the shape is not shaded? Give your answer in its simplest form. [Image: A triangle split into 9 equal smaller triangles. 6 of them are shaded.]",
         "\\( \\frac{1}{3} \\)",
         "1/3 of the 9 triangles are shaded, so 3/9=1/3.",
         "True_Correct",
         "NA",
         "True_Correct:NA",
         "37",
         "2348"
        ],
        [
         "37",
         "37",
         "31772",
         "What fraction of the shape is not shaded? Give your answer in its simplest form. [Image: A triangle split into 9 equal smaller triangles. 6 of them are shaded.]",
         "\\( \\frac{1}{3} \\)",
         "1/3 is thr same as 3/9.",
         "True_Correct",
         "NA",
         "True_Correct:NA",
         "37",
         "2348"
        ],
        [
         "36",
         "36",
         "31772",
         "What fraction of the shape is not shaded? Give your answer in its simplest form. [Image: A triangle split into 9 equal smaller triangles. 6 of them are shaded.]",
         "\\( \\frac{1}{3} \\)",
         "1/3 is thee same as 3/9.",
         "True_Correct",
         "NA",
         "True_Correct:NA",
         "37",
         "2348"
        ],
        [
         "35",
         "35",
         "31772",
         "What fraction of the shape is not shaded? Give your answer in its simplest form. [Image: A triangle split into 9 equal smaller triangles. 6 of them are shaded.]",
         "\\( \\frac{1}{3} \\)",
         "1/3 is thee same as 3/9.",
         "True_Correct",
         "NA",
         "True_Correct:NA",
         "37",
         "2348"
        ],
        [
         "34",
         "34",
         "31772",
         "What fraction of the shape is not shaded? Give your answer in its simplest form. [Image: A triangle split into 9 equal smaller triangles. 6 of them are shaded.]",
         "\\( \\frac{1}{3} \\)",
         "1/3 is the simplifued version of 3/9 which is what you need to know.",
         "True_Correct",
         "NA",
         "True_Correct:NA",
         "37",
         "2348"
        ],
        [
         "33",
         "33",
         "31772",
         "What fraction of the shape is not shaded? Give your answer in its simplest form. [Image: A triangle split into 9 equal smaller triangles. 6 of them are shaded.]",
         "\\( \\frac{1}{3} \\)",
         "1/3 is the simplest form.",
         "True_Correct",
         "NA",
         "True_Correct:NA",
         "37",
         "2348"
        ],
        [
         "32",
         "32",
         "31772",
         "What fraction of the shape is not shaded? Give your answer in its simplest form. [Image: A triangle split into 9 equal smaller triangles. 6 of them are shaded.]",
         "\\( \\frac{1}{3} \\)",
         "1/3 is the simplest form of this shape.",
         "True_Neither",
         "NA",
         "True_Neither:NA",
         "64",
         "2348"
        ],
        [
         "31",
         "31",
         "31772",
         "What fraction of the shape is not shaded? Give your answer in its simplest form. [Image: A triangle split into 9 equal smaller triangles. 6 of them are shaded.]",
         "\\( \\frac{1}{3} \\)",
         "1/3 is the simplest form of 3/9.",
         "True_Correct",
         "NA",
         "True_Correct:NA",
         "37",
         "2348"
        ],
        [
         "30",
         "30",
         "31772",
         "What fraction of the shape is not shaded? Give your answer in its simplest form. [Image: A triangle split into 9 equal smaller triangles. 6 of them are shaded.]",
         "\\( \\frac{1}{3} \\)",
         "1/3 is the simplest form of 3/9",
         "True_Correct",
         "NA",
         "True_Correct:NA",
         "37",
         "2348"
        ],
        [
         "29",
         "29",
         "31772",
         "What fraction of the shape is not shaded? Give your answer in its simplest form. [Image: A triangle split into 9 equal smaller triangles. 6 of them are shaded.]",
         "\\( \\frac{1}{3} \\)",
         "1/3 is the simplest form of 3/9",
         "True_Correct",
         "NA",
         "True_Correct:NA",
         "37",
         "2348"
        ],
        [
         "28",
         "28",
         "31772",
         "What fraction of the shape is not shaded? Give your answer in its simplest form. [Image: A triangle split into 9 equal smaller triangles. 6 of them are shaded.]",
         "\\( \\frac{1}{3} \\)",
         "1/3 is the same as 3/9.",
         "True_Correct",
         "NA",
         "True_Correct:NA",
         "37",
         "2348"
        ],
        [
         "27",
         "27",
         "31772",
         "What fraction of the shape is not shaded? Give your answer in its simplest form. [Image: A triangle split into 9 equal smaller triangles. 6 of them are shaded.]",
         "\\( \\frac{1}{3} \\)",
         "1/3 is the same as 3/9.",
         "True_Correct",
         "NA",
         "True_Correct:NA",
         "37",
         "2348"
        ],
        [
         "58",
         "58",
         "31772",
         "What fraction of the shape is not shaded? Give your answer in its simplest form. [Image: A triangle split into 9 equal smaller triangles. 6 of them are shaded.]",
         "\\( \\frac{1}{3} \\)",
         "3 aren't shaded and there are 9 triangles in total so its 3/9 and 3/9 becomes 1/3 when simplified.",
         "True_Correct",
         "NA",
         "True_Correct:NA",
         "37",
         "2348"
        ],
        [
         "57",
         "57",
         "31772",
         "What fraction of the shape is not shaded? Give your answer in its simplest form. [Image: A triangle split into 9 equal smaller triangles. 6 of them are shaded.]",
         "\\( \\frac{1}{3} \\)",
         "3 aren't shaded and there are 9 altogether, so it is 3/9, but you need to do it in its simplest form, which is 1/3.",
         "True_Correct",
         "NA",
         "True_Correct:NA",
         "37",
         "2348"
        ],
        [
         "56",
         "56",
         "31772",
         "What fraction of the shape is not shaded? Give your answer in its simplest form. [Image: A triangle split into 9 equal smaller triangles. 6 of them are shaded.]",
         "\\( \\frac{1}{3} \\)",
         "3 are unshaded and there are 9 altogether 3/9=1/3.",
         "True_Correct",
         "NA",
         "True_Correct:NA",
         "37",
         "2348"
        ],
        [
         "55",
         "55",
         "31772",
         "What fraction of the shape is not shaded? Give your answer in its simplest form. [Image: A triangle split into 9 equal smaller triangles. 6 of them are shaded.]",
         "\\( \\frac{1}{3} \\)",
         "3 are unshaded and there are 9 altogether\n3/9=1/3",
         "True_Correct",
         "NA",
         "True_Correct:NA",
         "37",
         "2348"
        ],
        [
         "54",
         "54",
         "31772",
         "What fraction of the shape is not shaded? Give your answer in its simplest form. [Image: A triangle split into 9 equal smaller triangles. 6 of them are shaded.]",
         "\\( \\frac{1}{3} \\)",
         "3 are not shaded out of nine which is the same as 1 over 3",
         "True_Correct",
         "NA",
         "True_Correct:NA",
         "37",
         "2348"
        ],
        [
         "53",
         "53",
         "31772",
         "What fraction of the shape is not shaded? Give your answer in its simplest form. [Image: A triangle split into 9 equal smaller triangles. 6 of them are shaded.]",
         "\\( \\frac{1}{3} \\)",
         "3 are not shaded but you need to simplify the numbers",
         "True_Neither",
         "NA",
         "True_Neither:NA",
         "64",
         "2348"
        ],
        [
         "52",
         "52",
         "31772",
         "What fraction of the shape is not shaded? Give your answer in its simplest form. [Image: A triangle split into 9 equal smaller triangles. 6 of them are shaded.]",
         "\\( \\frac{1}{3} \\)",
         "3 are mot shaded, 3/9=1/3.",
         "True_Correct",
         "NA",
         "True_Correct:NA",
         "37",
         "2348"
        ],
        [
         "51",
         "51",
         "31772",
         "What fraction of the shape is not shaded? Give your answer in its simplest form. [Image: A triangle split into 9 equal smaller triangles. 6 of them are shaded.]",
         "\\( \\frac{1}{3} \\)",
         "3 and 9 can divide by 3 so it makes 1/3",
         "True_Correct",
         "NA",
         "True_Correct:NA",
         "37",
         "2348"
        ],
        [
         "50",
         "50",
         "31772",
         "What fraction of the shape is not shaded? Give your answer in its simplest form. [Image: A triangle split into 9 equal smaller triangles. 6 of them are shaded.]",
         "\\( \\frac{1}{3} \\)",
         "3 amd 9 can be divided by 3, so it makes 1 / 3.",
         "True_Correct",
         "NA",
         "True_Correct:NA",
         "37",
         "2348"
        ],
        [
         "49",
         "49",
         "31772",
         "What fraction of the shape is not shaded? Give your answer in its simplest form. [Image: A triangle split into 9 equal smaller triangles. 6 of them are shaded.]",
         "\\( \\frac{1}{3} \\)",
         "3 9th's are shaded and it is the same as 1 3rd",
         "True_Neither",
         "NA",
         "True_Neither:NA",
         "64",
         "2348"
        ],
        [
         "48",
         "48",
         "31772",
         "What fraction of the shape is not shaded? Give your answer in its simplest form. [Image: A triangle split into 9 equal smaller triangles. 6 of them are shaded.]",
         "\\( \\frac{1}{3} \\)",
         "3 9 are shaded and to put in its simplest form you would divide it by 3",
         "True_Neither",
         "NA",
         "True_Neither:NA",
         "64",
         "2348"
        ],
        [
         "47",
         "47",
         "31772",
         "What fraction of the shape is not shaded? Give your answer in its simplest form. [Image: A triangle split into 9 equal smaller triangles. 6 of them are shaded.]",
         "\\( \\frac{1}{3} \\)",
         "3                                                              1\n¬   are shaded which converts to       ¬\n9                                                               3",
         "True_Correct",
         "NA",
         "True_Correct:NA",
         "37",
         "2348"
        ],
        [
         "46",
         "46",
         "31772",
         "What fraction of the shape is not shaded? Give your answer in its simplest form. [Image: A triangle split into 9 equal smaller triangles. 6 of them are shaded.]",
         "\\( \\frac{1}{3} \\)",
         "2/3 is shaded so 1/3 is not",
         "True_Correct",
         "NA",
         "True_Correct:NA",
         "37",
         "2348"
        ],
        [
         "45",
         "45",
         "31772",
         "What fraction of the shape is not shaded? Give your answer in its simplest form. [Image: A triangle split into 9 equal smaller triangles. 6 of them are shaded.]",
         "\\( \\frac{1}{3} \\)",
         "13 is the simplest form of 3 9",
         "True_Correct",
         "NA",
         "True_Correct:NA",
         "37",
         "2348"
        ],
        [
         "44",
         "44",
         "31772",
         "What fraction of the shape is not shaded? Give your answer in its simplest form. [Image: A triangle split into 9 equal smaller triangles. 6 of them are shaded.]",
         "\\( \\frac{1}{3} \\)",
         "1/3. 3/9 shaded, and to find simplest from we divide the top and the bottom by 3.",
         "True_Neither",
         "NA",
         "True_Neither:NA",
         "64",
         "2348"
        ],
        [
         "43",
         "43",
         "31772",
         "What fraction of the shape is not shaded? Give your answer in its simplest form. [Image: A triangle split into 9 equal smaller triangles. 6 of them are shaded.]",
         "\\( \\frac{1}{3} \\)",
         "1/3.   3/9 shaded, and to find simplest from we divide the top and the bottom by 3.",
         "True_Neither",
         "NA",
         "True_Neither:NA",
         "64",
         "2348"
        ],
        [
         "74",
         "74",
         "31772",
         "What fraction of the shape is not shaded? Give your answer in its simplest form. [Image: A triangle split into 9 equal smaller triangles. 6 of them are shaded.]",
         "\\( \\frac{1}{3} \\)",
         "3 of the 9 are not coloured in but in it's simplest form its a third",
         "True_Correct",
         "NA",
         "True_Correct:NA",
         "37",
         "2348"
        ],
        [
         "73",
         "73",
         "31772",
         "What fraction of the shape is not shaded? Give your answer in its simplest form. [Image: A triangle split into 9 equal smaller triangles. 6 of them are shaded.]",
         "\\( \\frac{1}{3} \\)",
         "3 of 9 is shaded and then you simplify it",
         "True_Correct",
         "NA",
         "True_Correct:NA",
         "37",
         "2348"
        ],
        [
         "72",
         "72",
         "31772",
         "What fraction of the shape is not shaded? Give your answer in its simplest form. [Image: A triangle split into 9 equal smaller triangles. 6 of them are shaded.]",
         "\\( \\frac{1}{3} \\)",
         "3 of 9 is dark and then you simplify it.",
         "True_Neither",
         "NA",
         "True_Neither:NA",
         "64",
         "2348"
        ],
        [
         "71",
         "71",
         "31772",
         "What fraction of the shape is not shaded? Give your answer in its simplest form. [Image: A triangle split into 9 equal smaller triangles. 6 of them are shaded.]",
         "\\( \\frac{1}{3} \\)",
         "3 not shaded, 9 in total, given its simplest form",
         "True_Correct",
         "NA",
         "True_Correct:NA",
         "37",
         "2348"
        ],
        [
         "70",
         "70",
         "31772",
         "What fraction of the shape is not shaded? Give your answer in its simplest form. [Image: A triangle split into 9 equal smaller triangles. 6 of them are shaded.]",
         "\\( \\frac{1}{3} \\)",
         "3 not shaded ones out of 9 triangles=3 over 9 which is simplified 1 third.",
         "True_Correct",
         "NA",
         "True_Correct:NA",
         "37",
         "2348"
        ],
        [
         "69",
         "69",
         "31772",
         "What fraction of the shape is not shaded? Give your answer in its simplest form. [Image: A triangle split into 9 equal smaller triangles. 6 of them are shaded.]",
         "\\( \\frac{1}{3} \\)",
         "3 ninths simplified is one third",
         "True_Correct",
         "NA",
         "True_Correct:NA",
         "37",
         "2348"
        ],
        [
         "68",
         "68",
         "31772",
         "What fraction of the shape is not shaded? Give your answer in its simplest form. [Image: A triangle split into 9 equal smaller triangles. 6 of them are shaded.]",
         "\\( \\frac{1}{3} \\)",
         "3 ninths isn’t shaded and 1 third is the simplest form.",
         "True_Correct",
         "NA",
         "True_Correct:NA",
         "37",
         "2348"
        ],
        [
         "67",
         "67",
         "31772",
         "What fraction of the shape is not shaded? Give your answer in its simplest form. [Image: A triangle split into 9 equal smaller triangles. 6 of them are shaded.]",
         "\\( \\frac{1}{3} \\)",
         "3 ninths isn’t shaded and 1 third is the simplest form",
         "True_Correct",
         "NA",
         "True_Correct:NA",
         "37",
         "2348"
        ],
        [
         "66",
         "66",
         "31772",
         "What fraction of the shape is not shaded? Give your answer in its simplest form. [Image: A triangle split into 9 equal smaller triangles. 6 of them are shaded.]",
         "\\( \\frac{1}{3} \\)",
         "3 is shaded in and then simplify it",
         "True_Neither",
         "NA",
         "True_Neither:NA",
         "64",
         "2348"
        ],
        [
         "65",
         "65",
         "31772",
         "What fraction of the shape is not shaded? Give your answer in its simplest form. [Image: A triangle split into 9 equal smaller triangles. 6 of them are shaded.]",
         "\\( \\frac{1}{3} \\)",
         "3 is shaded in and then it is explained.",
         "True_Neither",
         "NA",
         "True_Neither:NA",
         "64",
         "2348"
        ],
        [
         "64",
         "64",
         "31772",
         "What fraction of the shape is not shaded? Give your answer in its simplest form. [Image: A triangle split into 9 equal smaller triangles. 6 of them are shaded.]",
         "\\( \\frac{1}{3} \\)",
         "3 is not shaded in and 3/9 is simplified to 1/3 so your answer is a",
         "True_Correct",
         "NA",
         "True_Correct:NA",
         "37",
         "2348"
        ],
        [
         "63",
         "63",
         "31772",
         "What fraction of the shape is not shaded? Give your answer in its simplest form. [Image: A triangle split into 9 equal smaller triangles. 6 of them are shaded.]",
         "\\( \\frac{1}{3} \\)",
         "3 is not shaded and 9 is shaded. our current answer is 9/3. 9/3 simplified is 1/3.",
         "True_Neither",
         "NA",
         "True_Neither:NA",
         "64",
         "2348"
        ]
       ],
       "shape": {
        "columns": 10,
        "rows": 20470
       }
      },
      "text/html": [
       "<div>\n",
       "<style scoped>\n",
       "    .dataframe tbody tr th:only-of-type {\n",
       "        vertical-align: middle;\n",
       "    }\n",
       "\n",
       "    .dataframe tbody tr th {\n",
       "        vertical-align: top;\n",
       "    }\n",
       "\n",
       "    .dataframe thead th {\n",
       "        text-align: right;\n",
       "    }\n",
       "</style>\n",
       "<table border=\"1\" class=\"dataframe\">\n",
       "  <thead>\n",
       "    <tr style=\"text-align: right;\">\n",
       "      <th></th>\n",
       "      <th>row_id</th>\n",
       "      <th>QuestionId</th>\n",
       "      <th>QuestionText</th>\n",
       "      <th>MC_Answer</th>\n",
       "      <th>StudentExplanation</th>\n",
       "      <th>Category</th>\n",
       "      <th>Misconception</th>\n",
       "      <th>target</th>\n",
       "      <th>label</th>\n",
       "      <th>c</th>\n",
       "    </tr>\n",
       "  </thead>\n",
       "  <tbody>\n",
       "    <tr>\n",
       "      <th>15</th>\n",
       "      <td>15</td>\n",
       "      <td>31772</td>\n",
       "      <td>What fraction of the shape is not shaded? Give...</td>\n",
       "      <td>\\( \\frac{1}{3} \\)</td>\n",
       "      <td>1/3 is equal to 3 because if 3 are not shared ...</td>\n",
       "      <td>True_Neither</td>\n",
       "      <td>NA</td>\n",
       "      <td>True_Neither:NA</td>\n",
       "      <td>64</td>\n",
       "      <td>2348</td>\n",
       "    </tr>\n",
       "    <tr>\n",
       "      <th>14</th>\n",
       "      <td>14</td>\n",
       "      <td>31772</td>\n",
       "      <td>What fraction of the shape is not shaded? Give...</td>\n",
       "      <td>\\( \\frac{1}{3} \\)</td>\n",
       "      <td>1/3 is equal to 3 because if 3 are not shared ...</td>\n",
       "      <td>True_Neither</td>\n",
       "      <td>NA</td>\n",
       "      <td>True_Neither:NA</td>\n",
       "      <td>64</td>\n",
       "      <td>2348</td>\n",
       "    </tr>\n",
       "    <tr>\n",
       "      <th>13</th>\n",
       "      <td>13</td>\n",
       "      <td>31772</td>\n",
       "      <td>What fraction of the shape is not shaded? Give...</td>\n",
       "      <td>\\( \\frac{1}{3} \\)</td>\n",
       "      <td>1/3 is also 1/3 in its simplest form.</td>\n",
       "      <td>True_Neither</td>\n",
       "      <td>NA</td>\n",
       "      <td>True_Neither:NA</td>\n",
       "      <td>64</td>\n",
       "      <td>2348</td>\n",
       "    </tr>\n",
       "    <tr>\n",
       "      <th>12</th>\n",
       "      <td>12</td>\n",
       "      <td>31772</td>\n",
       "      <td>What fraction of the shape is not shaded? Give...</td>\n",
       "      <td>\\( \\frac{1}{3} \\)</td>\n",
       "      <td>1/3 is a simplafide version of 3/9</td>\n",
       "      <td>True_Correct</td>\n",
       "      <td>NA</td>\n",
       "      <td>True_Correct:NA</td>\n",
       "      <td>37</td>\n",
       "      <td>2348</td>\n",
       "    </tr>\n",
       "    <tr>\n",
       "      <th>11</th>\n",
       "      <td>11</td>\n",
       "      <td>31772</td>\n",
       "      <td>What fraction of the shape is not shaded? Give...</td>\n",
       "      <td>\\( \\frac{1}{3} \\)</td>\n",
       "      <td>1/3 because there are threee triangles that ar...</td>\n",
       "      <td>True_Correct</td>\n",
       "      <td>NA</td>\n",
       "      <td>True_Correct:NA</td>\n",
       "      <td>37</td>\n",
       "      <td>2348</td>\n",
       "    </tr>\n",
       "    <tr>\n",
       "      <th>...</th>\n",
       "      <td>...</td>\n",
       "      <td>...</td>\n",
       "      <td>...</td>\n",
       "      <td>...</td>\n",
       "      <td>...</td>\n",
       "      <td>...</td>\n",
       "      <td>...</td>\n",
       "      <td>...</td>\n",
       "      <td>...</td>\n",
       "      <td>...</td>\n",
       "    </tr>\n",
       "    <tr>\n",
       "      <th>14335</th>\n",
       "      <td>14335</td>\n",
       "      <td>31778</td>\n",
       "      <td>\\( \\frac{A}{10}=\\frac{9}{15} \\) What is the va...</td>\n",
       "      <td>\\( 9 \\)</td>\n",
       "      <td>Il believe that is the ansewer because I calcu...</td>\n",
       "      <td>True_Neither</td>\n",
       "      <td>NA</td>\n",
       "      <td>True_Neither:NA</td>\n",
       "      <td>64</td>\n",
       "      <td>12</td>\n",
       "    </tr>\n",
       "    <tr>\n",
       "      <th>14321</th>\n",
       "      <td>14321</td>\n",
       "      <td>31778</td>\n",
       "      <td>\\( \\frac{A}{10}=\\frac{9}{15} \\) What is the va...</td>\n",
       "      <td>\\( 9 \\)</td>\n",
       "      <td>I think it's C because 6/10 is the same as 9/15.</td>\n",
       "      <td>True_Correct</td>\n",
       "      <td>NA</td>\n",
       "      <td>True_Correct:NA</td>\n",
       "      <td>37</td>\n",
       "      <td>12</td>\n",
       "    </tr>\n",
       "    <tr>\n",
       "      <th>14305</th>\n",
       "      <td>14305</td>\n",
       "      <td>31778</td>\n",
       "      <td>\\( \\frac{A}{10}=\\frac{9}{15} \\) What is the va...</td>\n",
       "      <td>\\( 9 \\)</td>\n",
       "      <td>I divided 9/15 by 3, then got 3/5 and timsed i...</td>\n",
       "      <td>True_Correct</td>\n",
       "      <td>NA</td>\n",
       "      <td>True_Correct:NA</td>\n",
       "      <td>37</td>\n",
       "      <td>12</td>\n",
       "    </tr>\n",
       "    <tr>\n",
       "      <th>14280</th>\n",
       "      <td>14280</td>\n",
       "      <td>31778</td>\n",
       "      <td>\\( \\frac{A}{10}=\\frac{9}{15} \\) What is the va...</td>\n",
       "      <td>\\( 9 \\)</td>\n",
       "      <td>Because 10 is 2 / 3 of 15, and 2 is 6.</td>\n",
       "      <td>True_Neither</td>\n",
       "      <td>NA</td>\n",
       "      <td>True_Neither:NA</td>\n",
       "      <td>64</td>\n",
       "      <td>12</td>\n",
       "    </tr>\n",
       "    <tr>\n",
       "      <th>14418</th>\n",
       "      <td>14418</td>\n",
       "      <td>31778</td>\n",
       "      <td>\\( \\frac{A}{10}=\\frac{9}{15} \\) What is the va...</td>\n",
       "      <td>\\( 9 \\)</td>\n",
       "      <td>this is because the top numbers go up in three...</td>\n",
       "      <td>True_Misconception</td>\n",
       "      <td>Irrelevant</td>\n",
       "      <td>True_Misconception:Irrelevant</td>\n",
       "      <td>50</td>\n",
       "      <td>12</td>\n",
       "    </tr>\n",
       "  </tbody>\n",
       "</table>\n",
       "<p>20470 rows × 10 columns</p>\n",
       "</div>"
      ],
      "text/plain": [
       "       row_id  QuestionId                                       QuestionText  \\\n",
       "15         15       31772  What fraction of the shape is not shaded? Give...   \n",
       "14         14       31772  What fraction of the shape is not shaded? Give...   \n",
       "13         13       31772  What fraction of the shape is not shaded? Give...   \n",
       "12         12       31772  What fraction of the shape is not shaded? Give...   \n",
       "11         11       31772  What fraction of the shape is not shaded? Give...   \n",
       "...       ...         ...                                                ...   \n",
       "14335   14335       31778  \\( \\frac{A}{10}=\\frac{9}{15} \\) What is the va...   \n",
       "14321   14321       31778  \\( \\frac{A}{10}=\\frac{9}{15} \\) What is the va...   \n",
       "14305   14305       31778  \\( \\frac{A}{10}=\\frac{9}{15} \\) What is the va...   \n",
       "14280   14280       31778  \\( \\frac{A}{10}=\\frac{9}{15} \\) What is the va...   \n",
       "14418   14418       31778  \\( \\frac{A}{10}=\\frac{9}{15} \\) What is the va...   \n",
       "\n",
       "               MC_Answer                                 StudentExplanation  \\\n",
       "15     \\( \\frac{1}{3} \\)  1/3 is equal to 3 because if 3 are not shared ...   \n",
       "14     \\( \\frac{1}{3} \\)  1/3 is equal to 3 because if 3 are not shared ...   \n",
       "13     \\( \\frac{1}{3} \\)              1/3 is also 1/3 in its simplest form.   \n",
       "12     \\( \\frac{1}{3} \\)                 1/3 is a simplafide version of 3/9   \n",
       "11     \\( \\frac{1}{3} \\)  1/3 because there are threee triangles that ar...   \n",
       "...                  ...                                                ...   \n",
       "14335            \\( 9 \\)  Il believe that is the ansewer because I calcu...   \n",
       "14321            \\( 9 \\)   I think it's C because 6/10 is the same as 9/15.   \n",
       "14305            \\( 9 \\)  I divided 9/15 by 3, then got 3/5 and timsed i...   \n",
       "14280            \\( 9 \\)             Because 10 is 2 / 3 of 15, and 2 is 6.   \n",
       "14418            \\( 9 \\)  this is because the top numbers go up in three...   \n",
       "\n",
       "                 Category Misconception                         target  label  \\\n",
       "15           True_Neither            NA                True_Neither:NA     64   \n",
       "14           True_Neither            NA                True_Neither:NA     64   \n",
       "13           True_Neither            NA                True_Neither:NA     64   \n",
       "12           True_Correct            NA                True_Correct:NA     37   \n",
       "11           True_Correct            NA                True_Correct:NA     37   \n",
       "...                   ...           ...                            ...    ...   \n",
       "14335        True_Neither            NA                True_Neither:NA     64   \n",
       "14321        True_Correct            NA                True_Correct:NA     37   \n",
       "14305        True_Correct            NA                True_Correct:NA     37   \n",
       "14280        True_Neither            NA                True_Neither:NA     64   \n",
       "14418  True_Misconception    Irrelevant  True_Misconception:Irrelevant     50   \n",
       "\n",
       "          c  \n",
       "15     2348  \n",
       "14     2348  \n",
       "13     2348  \n",
       "12     2348  \n",
       "11     2348  \n",
       "...     ...  \n",
       "14335    12  \n",
       "14321    12  \n",
       "14305    12  \n",
       "14280    12  \n",
       "14418    12  \n",
       "\n",
       "[20470 rows x 10 columns]"
      ]
     },
     "execution_count": 38,
     "metadata": {},
     "output_type": "execute_result"
    }
   ],
   "source": [
    "# group MC anwser with count \n",
    "correct['c'] = correct.groupby(['QuestionId','MC_Answer']).MC_Answer.transform('count')\n",
    "correct = correct.sort_values('c',ascending=False) # sort value \n",
    "correct"
   ]
  },
  {
   "cell_type": "code",
   "execution_count": 39,
   "metadata": {
    "execution": {
     "iopub.execute_input": "2025-09-27T14:44:06.831218Z",
     "iopub.status.busy": "2025-09-27T14:44:06.830909Z",
     "iopub.status.idle": "2025-09-27T14:44:06.844043Z",
     "shell.execute_reply": "2025-09-27T14:44:06.843078Z",
     "shell.execute_reply.started": "2025-09-27T14:44:06.831195Z"
    }
   },
   "outputs": [
    {
     "data": {
      "application/vnd.microsoft.datawrangler.viewer.v0+json": {
       "columns": [
        {
         "name": "index",
         "rawType": "int64",
         "type": "integer"
        },
        {
         "name": "QuestionId",
         "rawType": "int64",
         "type": "integer"
        },
        {
         "name": "MC_Answer",
         "rawType": "object",
         "type": "string"
        }
       ],
       "ref": "ffe5dd37-3271-42e9-97aa-f4503edd18c5",
       "rows": [
        [
         "15",
         "31772",
         "\\( \\frac{1}{3} \\)"
        ],
        [
         "7424",
         "31774",
         "\\( \\frac{1}{12} \\)"
        ],
        [
         "10749",
         "31777",
         "\\( 72 \\)"
        ],
        [
         "12544",
         "31778",
         "\\( 6 \\)"
        ],
        [
         "16136",
         "32829",
         "\\( 12 \\)"
        ],
        [
         "21998",
         "32835",
         "\\( 6.2 \\)"
        ],
        [
         "24284",
         "33472",
         "\\( \\frac{11}{15} \\)"
        ],
        [
         "18173",
         "32833",
         "\\( 3 \\frac{1}{3} \\)"
        ],
        [
         "33182",
         "91695",
         "\\( 26 \\)"
        ],
        [
         "31003",
         "89443",
         "\\( -3 \\)"
        ],
        [
         "22578",
         "33471",
         "\\( 15 \\)"
        ],
        [
         "26983",
         "33474",
         "\\( \\frac{1}{3} \\times \\frac{2}{3} \\)"
        ],
        [
         "36279",
         "109465",
         "Likely"
        ],
        [
         "28526",
         "76870",
         "\\( 10 \\)"
        ],
        [
         "34999",
         "104665",
         "\\( 48 \\) hours"
        ]
       ],
       "shape": {
        "columns": 2,
        "rows": 15
       }
      },
      "text/html": [
       "<div>\n",
       "<style scoped>\n",
       "    .dataframe tbody tr th:only-of-type {\n",
       "        vertical-align: middle;\n",
       "    }\n",
       "\n",
       "    .dataframe tbody tr th {\n",
       "        vertical-align: top;\n",
       "    }\n",
       "\n",
       "    .dataframe thead th {\n",
       "        text-align: right;\n",
       "    }\n",
       "</style>\n",
       "<table border=\"1\" class=\"dataframe\">\n",
       "  <thead>\n",
       "    <tr style=\"text-align: right;\">\n",
       "      <th></th>\n",
       "      <th>QuestionId</th>\n",
       "      <th>MC_Answer</th>\n",
       "    </tr>\n",
       "  </thead>\n",
       "  <tbody>\n",
       "    <tr>\n",
       "      <th>15</th>\n",
       "      <td>31772</td>\n",
       "      <td>\\( \\frac{1}{3} \\)</td>\n",
       "    </tr>\n",
       "    <tr>\n",
       "      <th>7424</th>\n",
       "      <td>31774</td>\n",
       "      <td>\\( \\frac{1}{12} \\)</td>\n",
       "    </tr>\n",
       "    <tr>\n",
       "      <th>10749</th>\n",
       "      <td>31777</td>\n",
       "      <td>\\( 72 \\)</td>\n",
       "    </tr>\n",
       "    <tr>\n",
       "      <th>12544</th>\n",
       "      <td>31778</td>\n",
       "      <td>\\( 6 \\)</td>\n",
       "    </tr>\n",
       "    <tr>\n",
       "      <th>16136</th>\n",
       "      <td>32829</td>\n",
       "      <td>\\( 12 \\)</td>\n",
       "    </tr>\n",
       "    <tr>\n",
       "      <th>21998</th>\n",
       "      <td>32835</td>\n",
       "      <td>\\( 6.2 \\)</td>\n",
       "    </tr>\n",
       "    <tr>\n",
       "      <th>24284</th>\n",
       "      <td>33472</td>\n",
       "      <td>\\( \\frac{11}{15} \\)</td>\n",
       "    </tr>\n",
       "    <tr>\n",
       "      <th>18173</th>\n",
       "      <td>32833</td>\n",
       "      <td>\\( 3 \\frac{1}{3} \\)</td>\n",
       "    </tr>\n",
       "    <tr>\n",
       "      <th>33182</th>\n",
       "      <td>91695</td>\n",
       "      <td>\\( 26 \\)</td>\n",
       "    </tr>\n",
       "    <tr>\n",
       "      <th>31003</th>\n",
       "      <td>89443</td>\n",
       "      <td>\\( -3 \\)</td>\n",
       "    </tr>\n",
       "    <tr>\n",
       "      <th>22578</th>\n",
       "      <td>33471</td>\n",
       "      <td>\\( 15 \\)</td>\n",
       "    </tr>\n",
       "    <tr>\n",
       "      <th>26983</th>\n",
       "      <td>33474</td>\n",
       "      <td>\\( \\frac{1}{3} \\times \\frac{2}{3} \\)</td>\n",
       "    </tr>\n",
       "    <tr>\n",
       "      <th>36279</th>\n",
       "      <td>109465</td>\n",
       "      <td>Likely</td>\n",
       "    </tr>\n",
       "    <tr>\n",
       "      <th>28526</th>\n",
       "      <td>76870</td>\n",
       "      <td>\\( 10 \\)</td>\n",
       "    </tr>\n",
       "    <tr>\n",
       "      <th>34999</th>\n",
       "      <td>104665</td>\n",
       "      <td>\\( 48 \\) hours</td>\n",
       "    </tr>\n",
       "  </tbody>\n",
       "</table>\n",
       "</div>"
      ],
      "text/plain": [
       "       QuestionId                             MC_Answer\n",
       "15          31772                     \\( \\frac{1}{3} \\)\n",
       "7424        31774                    \\( \\frac{1}{12} \\)\n",
       "10749       31777                              \\( 72 \\)\n",
       "12544       31778                               \\( 6 \\)\n",
       "16136       32829                              \\( 12 \\)\n",
       "21998       32835                             \\( 6.2 \\)\n",
       "24284       33472                   \\( \\frac{11}{15} \\)\n",
       "18173       32833                   \\( 3 \\frac{1}{3} \\)\n",
       "33182       91695                              \\( 26 \\)\n",
       "31003       89443                              \\( -3 \\)\n",
       "22578       33471                              \\( 15 \\)\n",
       "26983       33474  \\( \\frac{1}{3} \\times \\frac{2}{3} \\)\n",
       "36279      109465                                Likely\n",
       "28526       76870                              \\( 10 \\)\n",
       "34999      104665                        \\( 48 \\) hours"
      ]
     },
     "execution_count": 39,
     "metadata": {},
     "output_type": "execute_result"
    }
   ],
   "source": [
    "# Drop duplicateds ID\n",
    "correct = correct.drop_duplicates(['QuestionId']) #drop dprlicate id\n",
    "correct = correct[['QuestionId','MC_Answer']]\n",
    "correct"
   ]
  },
  {
   "cell_type": "code",
   "execution_count": 40,
   "metadata": {
    "execution": {
     "iopub.execute_input": "2025-09-27T14:44:07.000496Z",
     "iopub.status.busy": "2025-09-27T14:44:07.000169Z",
     "iopub.status.idle": "2025-09-27T14:44:07.011084Z",
     "shell.execute_reply": "2025-09-27T14:44:07.010105Z",
     "shell.execute_reply.started": "2025-09-27T14:44:07.000473Z"
    }
   },
   "outputs": [
    {
     "data": {
      "application/vnd.microsoft.datawrangler.viewer.v0+json": {
       "columns": [
        {
         "name": "index",
         "rawType": "int64",
         "type": "integer"
        },
        {
         "name": "QuestionId",
         "rawType": "int64",
         "type": "integer"
        },
        {
         "name": "MC_Answer",
         "rawType": "object",
         "type": "string"
        },
        {
         "name": "is_correct",
         "rawType": "int64",
         "type": "integer"
        }
       ],
       "ref": "760a5a7f-f6e6-4ed9-a3aa-13100087df98",
       "rows": [
        [
         "15",
         "31772",
         "\\( \\frac{1}{3} \\)",
         "1"
        ],
        [
         "7424",
         "31774",
         "\\( \\frac{1}{12} \\)",
         "1"
        ],
        [
         "10749",
         "31777",
         "\\( 72 \\)",
         "1"
        ],
        [
         "12544",
         "31778",
         "\\( 6 \\)",
         "1"
        ],
        [
         "16136",
         "32829",
         "\\( 12 \\)",
         "1"
        ],
        [
         "21998",
         "32835",
         "\\( 6.2 \\)",
         "1"
        ],
        [
         "24284",
         "33472",
         "\\( \\frac{11}{15} \\)",
         "1"
        ],
        [
         "18173",
         "32833",
         "\\( 3 \\frac{1}{3} \\)",
         "1"
        ],
        [
         "33182",
         "91695",
         "\\( 26 \\)",
         "1"
        ],
        [
         "31003",
         "89443",
         "\\( -3 \\)",
         "1"
        ],
        [
         "22578",
         "33471",
         "\\( 15 \\)",
         "1"
        ],
        [
         "26983",
         "33474",
         "\\( \\frac{1}{3} \\times \\frac{2}{3} \\)",
         "1"
        ],
        [
         "36279",
         "109465",
         "Likely",
         "1"
        ],
        [
         "28526",
         "76870",
         "\\( 10 \\)",
         "1"
        ],
        [
         "34999",
         "104665",
         "\\( 48 \\) hours",
         "1"
        ]
       ],
       "shape": {
        "columns": 3,
        "rows": 15
       }
      },
      "text/html": [
       "<div>\n",
       "<style scoped>\n",
       "    .dataframe tbody tr th:only-of-type {\n",
       "        vertical-align: middle;\n",
       "    }\n",
       "\n",
       "    .dataframe tbody tr th {\n",
       "        vertical-align: top;\n",
       "    }\n",
       "\n",
       "    .dataframe thead th {\n",
       "        text-align: right;\n",
       "    }\n",
       "</style>\n",
       "<table border=\"1\" class=\"dataframe\">\n",
       "  <thead>\n",
       "    <tr style=\"text-align: right;\">\n",
       "      <th></th>\n",
       "      <th>QuestionId</th>\n",
       "      <th>MC_Answer</th>\n",
       "      <th>is_correct</th>\n",
       "    </tr>\n",
       "  </thead>\n",
       "  <tbody>\n",
       "    <tr>\n",
       "      <th>15</th>\n",
       "      <td>31772</td>\n",
       "      <td>\\( \\frac{1}{3} \\)</td>\n",
       "      <td>1</td>\n",
       "    </tr>\n",
       "    <tr>\n",
       "      <th>7424</th>\n",
       "      <td>31774</td>\n",
       "      <td>\\( \\frac{1}{12} \\)</td>\n",
       "      <td>1</td>\n",
       "    </tr>\n",
       "    <tr>\n",
       "      <th>10749</th>\n",
       "      <td>31777</td>\n",
       "      <td>\\( 72 \\)</td>\n",
       "      <td>1</td>\n",
       "    </tr>\n",
       "    <tr>\n",
       "      <th>12544</th>\n",
       "      <td>31778</td>\n",
       "      <td>\\( 6 \\)</td>\n",
       "      <td>1</td>\n",
       "    </tr>\n",
       "    <tr>\n",
       "      <th>16136</th>\n",
       "      <td>32829</td>\n",
       "      <td>\\( 12 \\)</td>\n",
       "      <td>1</td>\n",
       "    </tr>\n",
       "    <tr>\n",
       "      <th>21998</th>\n",
       "      <td>32835</td>\n",
       "      <td>\\( 6.2 \\)</td>\n",
       "      <td>1</td>\n",
       "    </tr>\n",
       "    <tr>\n",
       "      <th>24284</th>\n",
       "      <td>33472</td>\n",
       "      <td>\\( \\frac{11}{15} \\)</td>\n",
       "      <td>1</td>\n",
       "    </tr>\n",
       "    <tr>\n",
       "      <th>18173</th>\n",
       "      <td>32833</td>\n",
       "      <td>\\( 3 \\frac{1}{3} \\)</td>\n",
       "      <td>1</td>\n",
       "    </tr>\n",
       "    <tr>\n",
       "      <th>33182</th>\n",
       "      <td>91695</td>\n",
       "      <td>\\( 26 \\)</td>\n",
       "      <td>1</td>\n",
       "    </tr>\n",
       "    <tr>\n",
       "      <th>31003</th>\n",
       "      <td>89443</td>\n",
       "      <td>\\( -3 \\)</td>\n",
       "      <td>1</td>\n",
       "    </tr>\n",
       "    <tr>\n",
       "      <th>22578</th>\n",
       "      <td>33471</td>\n",
       "      <td>\\( 15 \\)</td>\n",
       "      <td>1</td>\n",
       "    </tr>\n",
       "    <tr>\n",
       "      <th>26983</th>\n",
       "      <td>33474</td>\n",
       "      <td>\\( \\frac{1}{3} \\times \\frac{2}{3} \\)</td>\n",
       "      <td>1</td>\n",
       "    </tr>\n",
       "    <tr>\n",
       "      <th>36279</th>\n",
       "      <td>109465</td>\n",
       "      <td>Likely</td>\n",
       "      <td>1</td>\n",
       "    </tr>\n",
       "    <tr>\n",
       "      <th>28526</th>\n",
       "      <td>76870</td>\n",
       "      <td>\\( 10 \\)</td>\n",
       "      <td>1</td>\n",
       "    </tr>\n",
       "    <tr>\n",
       "      <th>34999</th>\n",
       "      <td>104665</td>\n",
       "      <td>\\( 48 \\) hours</td>\n",
       "      <td>1</td>\n",
       "    </tr>\n",
       "  </tbody>\n",
       "</table>\n",
       "</div>"
      ],
      "text/plain": [
       "       QuestionId                             MC_Answer  is_correct\n",
       "15          31772                     \\( \\frac{1}{3} \\)           1\n",
       "7424        31774                    \\( \\frac{1}{12} \\)           1\n",
       "10749       31777                              \\( 72 \\)           1\n",
       "12544       31778                               \\( 6 \\)           1\n",
       "16136       32829                              \\( 12 \\)           1\n",
       "21998       32835                             \\( 6.2 \\)           1\n",
       "24284       33472                   \\( \\frac{11}{15} \\)           1\n",
       "18173       32833                   \\( 3 \\frac{1}{3} \\)           1\n",
       "33182       91695                              \\( 26 \\)           1\n",
       "31003       89443                              \\( -3 \\)           1\n",
       "22578       33471                              \\( 15 \\)           1\n",
       "26983       33474  \\( \\frac{1}{3} \\times \\frac{2}{3} \\)           1\n",
       "36279      109465                                Likely           1\n",
       "28526       76870                              \\( 10 \\)           1\n",
       "34999      104665                        \\( 48 \\) hours           1"
      ]
     },
     "execution_count": 40,
     "metadata": {},
     "output_type": "execute_result"
    }
   ],
   "source": [
    "# set correct flag = 1\n",
    "correct[\"is_correct\"] = 1\n",
    "correct"
   ]
  },
  {
   "cell_type": "markdown",
   "metadata": {},
   "source": [
    "### Merge training data"
   ]
  },
  {
   "cell_type": "code",
   "execution_count": 41,
   "metadata": {
    "execution": {
     "iopub.execute_input": "2025-09-27T14:44:10.109982Z",
     "iopub.status.busy": "2025-09-27T14:44:10.109180Z",
     "iopub.status.idle": "2025-09-27T14:44:10.135701Z",
     "shell.execute_reply": "2025-09-27T14:44:10.135002Z",
     "shell.execute_reply.started": "2025-09-27T14:44:10.109956Z"
    }
   },
   "outputs": [],
   "source": [
    "\n",
    "trainDF = trainDF.merge(correct, on=['QuestionId','MC_Answer'], how='left')\n",
    "trainDF[\"is_correct\"] = trainDF[\"is_correct\"].fillna(0) # fill miss data to 0"
   ]
  },
  {
   "cell_type": "code",
   "execution_count": 42,
   "metadata": {
    "execution": {
     "iopub.execute_input": "2025-09-27T14:44:10.308505Z",
     "iopub.status.busy": "2025-09-27T14:44:10.307915Z",
     "iopub.status.idle": "2025-09-27T14:44:10.313212Z",
     "shell.execute_reply": "2025-09-27T14:44:10.312555Z",
     "shell.execute_reply.started": "2025-09-27T14:44:10.308482Z"
    }
   },
   "outputs": [],
   "source": [
    "trainDF[\"is_correct\"] = trainDF[\"is_correct\"].astype(int) # change is_correct data type to int"
   ]
  },
  {
   "cell_type": "code",
   "execution_count": 43,
   "metadata": {
    "execution": {
     "iopub.execute_input": "2025-09-27T14:44:10.507249Z",
     "iopub.status.busy": "2025-09-27T14:44:10.506602Z",
     "iopub.status.idle": "2025-09-27T14:44:10.519893Z",
     "shell.execute_reply": "2025-09-27T14:44:10.519113Z",
     "shell.execute_reply.started": "2025-09-27T14:44:10.507225Z"
    }
   },
   "outputs": [
    {
     "data": {
      "application/vnd.microsoft.datawrangler.viewer.v0+json": {
       "columns": [
        {
         "name": "index",
         "rawType": "int64",
         "type": "integer"
        },
        {
         "name": "row_id",
         "rawType": "int64",
         "type": "integer"
        },
        {
         "name": "QuestionId",
         "rawType": "int64",
         "type": "integer"
        },
        {
         "name": "QuestionText",
         "rawType": "object",
         "type": "string"
        },
        {
         "name": "MC_Answer",
         "rawType": "object",
         "type": "string"
        },
        {
         "name": "StudentExplanation",
         "rawType": "object",
         "type": "string"
        },
        {
         "name": "Category",
         "rawType": "object",
         "type": "string"
        },
        {
         "name": "Misconception",
         "rawType": "object",
         "type": "string"
        },
        {
         "name": "target",
         "rawType": "object",
         "type": "string"
        },
        {
         "name": "label",
         "rawType": "int64",
         "type": "integer"
        },
        {
         "name": "is_correct",
         "rawType": "int64",
         "type": "integer"
        }
       ],
       "ref": "179fcedf-5361-4285-a595-7030fc69a464",
       "rows": [
        [
         "0",
         "0",
         "31772",
         "What fraction of the shape is not shaded? Give your answer in its simplest form. [Image: A triangle split into 9 equal smaller triangles. 6 of them are shaded.]",
         "\\( \\frac{1}{3} \\)",
         "0ne third is equal to tree nineth",
         "True_Correct",
         "NA",
         "True_Correct:NA",
         "37",
         "1"
        ],
        [
         "1",
         "1",
         "31772",
         "What fraction of the shape is not shaded? Give your answer in its simplest form. [Image: A triangle split into 9 equal smaller triangles. 6 of them are shaded.]",
         "\\( \\frac{1}{3} \\)",
         "1 / 3 because 6 over 9 is 2 thirds and 1 third is not shaded.",
         "True_Correct",
         "NA",
         "True_Correct:NA",
         "37",
         "1"
        ],
        [
         "2",
         "2",
         "31772",
         "What fraction of the shape is not shaded? Give your answer in its simplest form. [Image: A triangle split into 9 equal smaller triangles. 6 of them are shaded.]",
         "\\( \\frac{1}{3} \\)",
         "1 3rd is half of 3 6th, so it is simplee to understand.",
         "True_Neither",
         "NA",
         "True_Neither:NA",
         "64",
         "1"
        ],
        [
         "3",
         "3",
         "31772",
         "What fraction of the shape is not shaded? Give your answer in its simplest form. [Image: A triangle split into 9 equal smaller triangles. 6 of them are shaded.]",
         "\\( \\frac{1}{3} \\)",
         "1 goes into everything and 3 goes into nine",
         "True_Neither",
         "NA",
         "True_Neither:NA",
         "64",
         "1"
        ],
        [
         "4",
         "4",
         "31772",
         "What fraction of the shape is not shaded? Give your answer in its simplest form. [Image: A triangle split into 9 equal smaller triangles. 6 of them are shaded.]",
         "\\( \\frac{1}{3} \\)",
         "1 out of every 3 isn't coloured",
         "True_Correct",
         "NA",
         "True_Correct:NA",
         "37",
         "1"
        ],
        [
         "5",
         "5",
         "31772",
         "What fraction of the shape is not shaded? Give your answer in its simplest form. [Image: A triangle split into 9 equal smaller triangles. 6 of them are shaded.]",
         "\\( \\frac{1}{3} \\)",
         "1 third because 6 over 9 is 2 thirds and 1 third is not shaded",
         "True_Correct",
         "NA",
         "True_Correct:NA",
         "37",
         "1"
        ],
        [
         "6",
         "6",
         "31772",
         "What fraction of the shape is not shaded? Give your answer in its simplest form. [Image: A triangle split into 9 equal smaller triangles. 6 of them are shaded.]",
         "\\( \\frac{1}{3} \\)",
         "1/3 and 3/9 are not shaded but they are equal to 1/3.",
         "True_Correct",
         "NA",
         "True_Correct:NA",
         "37",
         "1"
        ],
        [
         "7",
         "7",
         "31772",
         "What fraction of the shape is not shaded? Give your answer in its simplest form. [Image: A triangle split into 9 equal smaller triangles. 6 of them are shaded.]",
         "\\( \\frac{1}{3} \\)",
         "1/3 because 3/9 simplified divided by 3 would be 1/3",
         "True_Correct",
         "NA",
         "True_Correct:NA",
         "37",
         "1"
        ],
        [
         "8",
         "8",
         "31772",
         "What fraction of the shape is not shaded? Give your answer in its simplest form. [Image: A triangle split into 9 equal smaller triangles. 6 of them are shaded.]",
         "\\( \\frac{1}{3} \\)",
         "1/3 because I worked out that 3/9 were not shaded and because 3 and 9 have a common factor of 3, I divided the numerator and denominator by 3 to give me 1/3",
         "True_Correct",
         "NA",
         "True_Correct:NA",
         "37",
         "1"
        ],
        [
         "9",
         "9",
         "31772",
         "What fraction of the shape is not shaded? Give your answer in its simplest form. [Image: A triangle split into 9 equal smaller triangles. 6 of them are shaded.]",
         "\\( \\frac{1}{3} \\)",
         "1/3 because it 3 shadedd in not all of them",
         "True_Neither",
         "NA",
         "True_Neither:NA",
         "64",
         "1"
        ],
        [
         "10",
         "10",
         "31772",
         "What fraction of the shape is not shaded? Give your answer in its simplest form. [Image: A triangle split into 9 equal smaller triangles. 6 of them are shaded.]",
         "\\( \\frac{1}{3} \\)",
         "1/3 because there are 6 shaded aut of 9 so 1/3",
         "True_Correct",
         "NA",
         "True_Correct:NA",
         "37",
         "1"
        ],
        [
         "11",
         "11",
         "31772",
         "What fraction of the shape is not shaded? Give your answer in its simplest form. [Image: A triangle split into 9 equal smaller triangles. 6 of them are shaded.]",
         "\\( \\frac{1}{3} \\)",
         "1/3 because there are threee triangles that are not shaded which is equivilent to 1/3",
         "True_Correct",
         "NA",
         "True_Correct:NA",
         "37",
         "1"
        ],
        [
         "12",
         "12",
         "31772",
         "What fraction of the shape is not shaded? Give your answer in its simplest form. [Image: A triangle split into 9 equal smaller triangles. 6 of them are shaded.]",
         "\\( \\frac{1}{3} \\)",
         "1/3 is a simplafide version of 3/9",
         "True_Correct",
         "NA",
         "True_Correct:NA",
         "37",
         "1"
        ],
        [
         "13",
         "13",
         "31772",
         "What fraction of the shape is not shaded? Give your answer in its simplest form. [Image: A triangle split into 9 equal smaller triangles. 6 of them are shaded.]",
         "\\( \\frac{1}{3} \\)",
         "1/3 is also 1/3 in its simplest form.",
         "True_Neither",
         "NA",
         "True_Neither:NA",
         "64",
         "1"
        ],
        [
         "14",
         "14",
         "31772",
         "What fraction of the shape is not shaded? Give your answer in its simplest form. [Image: A triangle split into 9 equal smaller triangles. 6 of them are shaded.]",
         "\\( \\frac{1}{3} \\)",
         "1/3 is equal to 3 because if 3 are not shared in so 3/6 in its simplest form is 1/3.",
         "True_Neither",
         "NA",
         "True_Neither:NA",
         "64",
         "1"
        ],
        [
         "15",
         "15",
         "31772",
         "What fraction of the shape is not shaded? Give your answer in its simplest form. [Image: A triangle split into 9 equal smaller triangles. 6 of them are shaded.]",
         "\\( \\frac{1}{3} \\)",
         "1/3 is equal to 3 because if 3 are not shared in so 3/6 in its simplest form is 1/3.",
         "True_Neither",
         "NA",
         "True_Neither:NA",
         "64",
         "1"
        ],
        [
         "16",
         "16",
         "31772",
         "What fraction of the shape is not shaded? Give your answer in its simplest form. [Image: A triangle split into 9 equal smaller triangles. 6 of them are shaded.]",
         "\\( \\frac{1}{3} \\)",
         "1/3 is in its simplest form.",
         "True_Neither",
         "NA",
         "True_Neither:NA",
         "64",
         "1"
        ],
        [
         "17",
         "17",
         "31772",
         "What fraction of the shape is not shaded? Give your answer in its simplest form. [Image: A triangle split into 9 equal smaller triangles. 6 of them are shaded.]",
         "\\( \\frac{1}{3} \\)",
         "1/3 is not shaded and 3/9 divided by 3 is 1/3.",
         "True_Correct",
         "NA",
         "True_Correct:NA",
         "37",
         "1"
        ],
        [
         "18",
         "18",
         "31772",
         "What fraction of the shape is not shaded? Give your answer in its simplest form. [Image: A triangle split into 9 equal smaller triangles. 6 of them are shaded.]",
         "\\( \\frac{1}{3} \\)",
         "1/3 is not shaded and 3/9 is equal to 1/3.",
         "True_Correct",
         "NA",
         "True_Correct:NA",
         "37",
         "1"
        ],
        [
         "19",
         "19",
         "31772",
         "What fraction of the shape is not shaded? Give your answer in its simplest form. [Image: A triangle split into 9 equal smaller triangles. 6 of them are shaded.]",
         "\\( \\frac{1}{3} \\)",
         "1/3 is not shaded out of the other 2/3 shaded.",
         "True_Correct",
         "NA",
         "True_Correct:NA",
         "37",
         "1"
        ],
        [
         "20",
         "20",
         "31772",
         "What fraction of the shape is not shaded? Give your answer in its simplest form. [Image: A triangle split into 9 equal smaller triangles. 6 of them are shaded.]",
         "\\( \\frac{1}{3} \\)",
         "1/3 is not shsded out of the other 2/3.",
         "True_Correct",
         "NA",
         "True_Correct:NA",
         "37",
         "1"
        ],
        [
         "21",
         "21",
         "31772",
         "What fraction of the shape is not shaded? Give your answer in its simplest form. [Image: A triangle split into 9 equal smaller triangles. 6 of them are shaded.]",
         "\\( \\frac{1}{3} \\)",
         "1/3 is the right answer because the fraction of the shape not shaded is 3/9 and in its simplest form it is 1/3 therefore I am correct.",
         "True_Correct",
         "NA",
         "True_Correct:NA",
         "37",
         "1"
        ],
        [
         "22",
         "22",
         "31772",
         "What fraction of the shape is not shaded? Give your answer in its simplest form. [Image: A triangle split into 9 equal smaller triangles. 6 of them are shaded.]",
         "\\( \\frac{1}{3} \\)",
         "1/3 is the right answer because the fraction of the shape not shaded is 3/9 and in its simplest form it is 1/3.",
         "True_Correct",
         "NA",
         "True_Correct:NA",
         "37",
         "1"
        ],
        [
         "23",
         "23",
         "31772",
         "What fraction of the shape is not shaded? Give your answer in its simplest form. [Image: A triangle split into 9 equal smaller triangles. 6 of them are shaded.]",
         "\\( \\frac{1}{3} \\)",
         "1/3 is the right answer because the fractionn of the shape not shaded is 3/9 and in its simplest form it is 1/3.",
         "True_Correct",
         "NA",
         "True_Correct:NA",
         "37",
         "1"
        ],
        [
         "24",
         "24",
         "31772",
         "What fraction of the shape is not shaded? Give your answer in its simplest form. [Image: A triangle split into 9 equal smaller triangles. 6 of them are shaded.]",
         "\\( \\frac{1}{3} \\)",
         "1/3 is the same as 3/9 and there is 1/9 left unshaded.",
         "True_Neither",
         "NA",
         "True_Neither:NA",
         "64",
         "1"
        ],
        [
         "25",
         "25",
         "31772",
         "What fraction of the shape is not shaded? Give your answer in its simplest form. [Image: A triangle split into 9 equal smaller triangles. 6 of them are shaded.]",
         "\\( \\frac{1}{3} \\)",
         "1/3 is the same as 3/9 and there is 3/9 left unshaded",
         "True_Correct",
         "NA",
         "True_Correct:NA",
         "37",
         "1"
        ],
        [
         "26",
         "26",
         "31772",
         "What fraction of the shape is not shaded? Give your answer in its simplest form. [Image: A triangle split into 9 equal smaller triangles. 6 of them are shaded.]",
         "\\( \\frac{1}{3} \\)",
         "1/3 is the same as 3/9.",
         "True_Correct",
         "NA",
         "True_Correct:NA",
         "37",
         "1"
        ],
        [
         "27",
         "27",
         "31772",
         "What fraction of the shape is not shaded? Give your answer in its simplest form. [Image: A triangle split into 9 equal smaller triangles. 6 of them are shaded.]",
         "\\( \\frac{1}{3} \\)",
         "1/3 is the same as 3/9.",
         "True_Correct",
         "NA",
         "True_Correct:NA",
         "37",
         "1"
        ],
        [
         "28",
         "28",
         "31772",
         "What fraction of the shape is not shaded? Give your answer in its simplest form. [Image: A triangle split into 9 equal smaller triangles. 6 of them are shaded.]",
         "\\( \\frac{1}{3} \\)",
         "1/3 is the same as 3/9.",
         "True_Correct",
         "NA",
         "True_Correct:NA",
         "37",
         "1"
        ],
        [
         "29",
         "29",
         "31772",
         "What fraction of the shape is not shaded? Give your answer in its simplest form. [Image: A triangle split into 9 equal smaller triangles. 6 of them are shaded.]",
         "\\( \\frac{1}{3} \\)",
         "1/3 is the simplest form of 3/9",
         "True_Correct",
         "NA",
         "True_Correct:NA",
         "37",
         "1"
        ],
        [
         "30",
         "30",
         "31772",
         "What fraction of the shape is not shaded? Give your answer in its simplest form. [Image: A triangle split into 9 equal smaller triangles. 6 of them are shaded.]",
         "\\( \\frac{1}{3} \\)",
         "1/3 is the simplest form of 3/9",
         "True_Correct",
         "NA",
         "True_Correct:NA",
         "37",
         "1"
        ],
        [
         "31",
         "31",
         "31772",
         "What fraction of the shape is not shaded? Give your answer in its simplest form. [Image: A triangle split into 9 equal smaller triangles. 6 of them are shaded.]",
         "\\( \\frac{1}{3} \\)",
         "1/3 is the simplest form of 3/9.",
         "True_Correct",
         "NA",
         "True_Correct:NA",
         "37",
         "1"
        ],
        [
         "32",
         "32",
         "31772",
         "What fraction of the shape is not shaded? Give your answer in its simplest form. [Image: A triangle split into 9 equal smaller triangles. 6 of them are shaded.]",
         "\\( \\frac{1}{3} \\)",
         "1/3 is the simplest form of this shape.",
         "True_Neither",
         "NA",
         "True_Neither:NA",
         "64",
         "1"
        ],
        [
         "33",
         "33",
         "31772",
         "What fraction of the shape is not shaded? Give your answer in its simplest form. [Image: A triangle split into 9 equal smaller triangles. 6 of them are shaded.]",
         "\\( \\frac{1}{3} \\)",
         "1/3 is the simplest form.",
         "True_Correct",
         "NA",
         "True_Correct:NA",
         "37",
         "1"
        ],
        [
         "34",
         "34",
         "31772",
         "What fraction of the shape is not shaded? Give your answer in its simplest form. [Image: A triangle split into 9 equal smaller triangles. 6 of them are shaded.]",
         "\\( \\frac{1}{3} \\)",
         "1/3 is the simplifued version of 3/9 which is what you need to know.",
         "True_Correct",
         "NA",
         "True_Correct:NA",
         "37",
         "1"
        ],
        [
         "35",
         "35",
         "31772",
         "What fraction of the shape is not shaded? Give your answer in its simplest form. [Image: A triangle split into 9 equal smaller triangles. 6 of them are shaded.]",
         "\\( \\frac{1}{3} \\)",
         "1/3 is thee same as 3/9.",
         "True_Correct",
         "NA",
         "True_Correct:NA",
         "37",
         "1"
        ],
        [
         "36",
         "36",
         "31772",
         "What fraction of the shape is not shaded? Give your answer in its simplest form. [Image: A triangle split into 9 equal smaller triangles. 6 of them are shaded.]",
         "\\( \\frac{1}{3} \\)",
         "1/3 is thee same as 3/9.",
         "True_Correct",
         "NA",
         "True_Correct:NA",
         "37",
         "1"
        ],
        [
         "37",
         "37",
         "31772",
         "What fraction of the shape is not shaded? Give your answer in its simplest form. [Image: A triangle split into 9 equal smaller triangles. 6 of them are shaded.]",
         "\\( \\frac{1}{3} \\)",
         "1/3 is thr same as 3/9.",
         "True_Correct",
         "NA",
         "True_Correct:NA",
         "37",
         "1"
        ],
        [
         "38",
         "38",
         "31772",
         "What fraction of the shape is not shaded? Give your answer in its simplest form. [Image: A triangle split into 9 equal smaller triangles. 6 of them are shaded.]",
         "\\( \\frac{1}{3} \\)",
         "1/3 of the 9 triangles are shaded, so 3/9=1/3.",
         "True_Correct",
         "NA",
         "True_Correct:NA",
         "37",
         "1"
        ],
        [
         "39",
         "39",
         "31772",
         "What fraction of the shape is not shaded? Give your answer in its simplest form. [Image: A triangle split into 9 equal smaller triangles. 6 of them are shaded.]",
         "\\( \\frac{1}{3} \\)",
         "1/3 of the 9 triangles are shaded, so 3/9=1/3.",
         "True_Neither",
         "NA",
         "True_Neither:NA",
         "64",
         "1"
        ],
        [
         "40",
         "40",
         "31772",
         "What fraction of the shape is not shaded? Give your answer in its simplest form. [Image: A triangle split into 9 equal smaller triangles. 6 of them are shaded.]",
         "\\( \\frac{1}{3} \\)",
         "1/3 of the triangle is 3, and 3 of them aren't shaded.",
         "True_Correct",
         "NA",
         "True_Correct:NA",
         "37",
         "1"
        ],
        [
         "41",
         "41",
         "31772",
         "What fraction of the shape is not shaded? Give your answer in its simplest form. [Image: A triangle split into 9 equal smaller triangles. 6 of them are shaded.]",
         "\\( \\frac{1}{3} \\)",
         "1/3 of the triangle is not shaded",
         "True_Correct",
         "NA",
         "True_Correct:NA",
         "37",
         "1"
        ],
        [
         "42",
         "42",
         "31772",
         "What fraction of the shape is not shaded? Give your answer in its simplest form. [Image: A triangle split into 9 equal smaller triangles. 6 of them are shaded.]",
         "\\( \\frac{1}{3} \\)",
         "1/3 of the triangle is not shaded amd 3/ 9 is divisible by 3, making it 1/3.",
         "True_Correct",
         "NA",
         "True_Correct:NA",
         "37",
         "1"
        ],
        [
         "43",
         "43",
         "31772",
         "What fraction of the shape is not shaded? Give your answer in its simplest form. [Image: A triangle split into 9 equal smaller triangles. 6 of them are shaded.]",
         "\\( \\frac{1}{3} \\)",
         "1/3.   3/9 shaded, and to find simplest from we divide the top and the bottom by 3.",
         "True_Neither",
         "NA",
         "True_Neither:NA",
         "64",
         "1"
        ],
        [
         "44",
         "44",
         "31772",
         "What fraction of the shape is not shaded? Give your answer in its simplest form. [Image: A triangle split into 9 equal smaller triangles. 6 of them are shaded.]",
         "\\( \\frac{1}{3} \\)",
         "1/3. 3/9 shaded, and to find simplest from we divide the top and the bottom by 3.",
         "True_Neither",
         "NA",
         "True_Neither:NA",
         "64",
         "1"
        ],
        [
         "45",
         "45",
         "31772",
         "What fraction of the shape is not shaded? Give your answer in its simplest form. [Image: A triangle split into 9 equal smaller triangles. 6 of them are shaded.]",
         "\\( \\frac{1}{3} \\)",
         "13 is the simplest form of 3 9",
         "True_Correct",
         "NA",
         "True_Correct:NA",
         "37",
         "1"
        ],
        [
         "46",
         "46",
         "31772",
         "What fraction of the shape is not shaded? Give your answer in its simplest form. [Image: A triangle split into 9 equal smaller triangles. 6 of them are shaded.]",
         "\\( \\frac{1}{3} \\)",
         "2/3 is shaded so 1/3 is not",
         "True_Correct",
         "NA",
         "True_Correct:NA",
         "37",
         "1"
        ],
        [
         "47",
         "47",
         "31772",
         "What fraction of the shape is not shaded? Give your answer in its simplest form. [Image: A triangle split into 9 equal smaller triangles. 6 of them are shaded.]",
         "\\( \\frac{1}{3} \\)",
         "3                                                              1\n¬   are shaded which converts to       ¬\n9                                                               3",
         "True_Correct",
         "NA",
         "True_Correct:NA",
         "37",
         "1"
        ],
        [
         "48",
         "48",
         "31772",
         "What fraction of the shape is not shaded? Give your answer in its simplest form. [Image: A triangle split into 9 equal smaller triangles. 6 of them are shaded.]",
         "\\( \\frac{1}{3} \\)",
         "3 9 are shaded and to put in its simplest form you would divide it by 3",
         "True_Neither",
         "NA",
         "True_Neither:NA",
         "64",
         "1"
        ],
        [
         "49",
         "49",
         "31772",
         "What fraction of the shape is not shaded? Give your answer in its simplest form. [Image: A triangle split into 9 equal smaller triangles. 6 of them are shaded.]",
         "\\( \\frac{1}{3} \\)",
         "3 9th's are shaded and it is the same as 1 3rd",
         "True_Neither",
         "NA",
         "True_Neither:NA",
         "64",
         "1"
        ]
       ],
       "shape": {
        "columns": 10,
        "rows": 36696
       }
      },
      "text/html": [
       "<div>\n",
       "<style scoped>\n",
       "    .dataframe tbody tr th:only-of-type {\n",
       "        vertical-align: middle;\n",
       "    }\n",
       "\n",
       "    .dataframe tbody tr th {\n",
       "        vertical-align: top;\n",
       "    }\n",
       "\n",
       "    .dataframe thead th {\n",
       "        text-align: right;\n",
       "    }\n",
       "</style>\n",
       "<table border=\"1\" class=\"dataframe\">\n",
       "  <thead>\n",
       "    <tr style=\"text-align: right;\">\n",
       "      <th></th>\n",
       "      <th>row_id</th>\n",
       "      <th>QuestionId</th>\n",
       "      <th>QuestionText</th>\n",
       "      <th>MC_Answer</th>\n",
       "      <th>StudentExplanation</th>\n",
       "      <th>Category</th>\n",
       "      <th>Misconception</th>\n",
       "      <th>target</th>\n",
       "      <th>label</th>\n",
       "      <th>is_correct</th>\n",
       "    </tr>\n",
       "  </thead>\n",
       "  <tbody>\n",
       "    <tr>\n",
       "      <th>0</th>\n",
       "      <td>0</td>\n",
       "      <td>31772</td>\n",
       "      <td>What fraction of the shape is not shaded? Give...</td>\n",
       "      <td>\\( \\frac{1}{3} \\)</td>\n",
       "      <td>0ne third is equal to tree nineth</td>\n",
       "      <td>True_Correct</td>\n",
       "      <td>NA</td>\n",
       "      <td>True_Correct:NA</td>\n",
       "      <td>37</td>\n",
       "      <td>1</td>\n",
       "    </tr>\n",
       "    <tr>\n",
       "      <th>1</th>\n",
       "      <td>1</td>\n",
       "      <td>31772</td>\n",
       "      <td>What fraction of the shape is not shaded? Give...</td>\n",
       "      <td>\\( \\frac{1}{3} \\)</td>\n",
       "      <td>1 / 3 because 6 over 9 is 2 thirds and 1 third...</td>\n",
       "      <td>True_Correct</td>\n",
       "      <td>NA</td>\n",
       "      <td>True_Correct:NA</td>\n",
       "      <td>37</td>\n",
       "      <td>1</td>\n",
       "    </tr>\n",
       "    <tr>\n",
       "      <th>2</th>\n",
       "      <td>2</td>\n",
       "      <td>31772</td>\n",
       "      <td>What fraction of the shape is not shaded? Give...</td>\n",
       "      <td>\\( \\frac{1}{3} \\)</td>\n",
       "      <td>1 3rd is half of 3 6th, so it is simplee to un...</td>\n",
       "      <td>True_Neither</td>\n",
       "      <td>NA</td>\n",
       "      <td>True_Neither:NA</td>\n",
       "      <td>64</td>\n",
       "      <td>1</td>\n",
       "    </tr>\n",
       "    <tr>\n",
       "      <th>3</th>\n",
       "      <td>3</td>\n",
       "      <td>31772</td>\n",
       "      <td>What fraction of the shape is not shaded? Give...</td>\n",
       "      <td>\\( \\frac{1}{3} \\)</td>\n",
       "      <td>1 goes into everything and 3 goes into nine</td>\n",
       "      <td>True_Neither</td>\n",
       "      <td>NA</td>\n",
       "      <td>True_Neither:NA</td>\n",
       "      <td>64</td>\n",
       "      <td>1</td>\n",
       "    </tr>\n",
       "    <tr>\n",
       "      <th>4</th>\n",
       "      <td>4</td>\n",
       "      <td>31772</td>\n",
       "      <td>What fraction of the shape is not shaded? Give...</td>\n",
       "      <td>\\( \\frac{1}{3} \\)</td>\n",
       "      <td>1 out of every 3 isn't coloured</td>\n",
       "      <td>True_Correct</td>\n",
       "      <td>NA</td>\n",
       "      <td>True_Correct:NA</td>\n",
       "      <td>37</td>\n",
       "      <td>1</td>\n",
       "    </tr>\n",
       "    <tr>\n",
       "      <th>...</th>\n",
       "      <td>...</td>\n",
       "      <td>...</td>\n",
       "      <td>...</td>\n",
       "      <td>...</td>\n",
       "      <td>...</td>\n",
       "      <td>...</td>\n",
       "      <td>...</td>\n",
       "      <td>...</td>\n",
       "      <td>...</td>\n",
       "      <td>...</td>\n",
       "    </tr>\n",
       "    <tr>\n",
       "      <th>36691</th>\n",
       "      <td>36691</td>\n",
       "      <td>109465</td>\n",
       "      <td>The probability of an event occurring is \\( 0....</td>\n",
       "      <td>Unlikely</td>\n",
       "      <td>very unlikely.</td>\n",
       "      <td>False_Neither</td>\n",
       "      <td>NA</td>\n",
       "      <td>False_Neither:NA</td>\n",
       "      <td>36</td>\n",
       "      <td>0</td>\n",
       "    </tr>\n",
       "    <tr>\n",
       "      <th>36692</th>\n",
       "      <td>36692</td>\n",
       "      <td>109465</td>\n",
       "      <td>The probability of an event occurring is \\( 0....</td>\n",
       "      <td>Unlikely</td>\n",
       "      <td>yea pretty much unlikely from what it seems.</td>\n",
       "      <td>False_Neither</td>\n",
       "      <td>NA</td>\n",
       "      <td>False_Neither:NA</td>\n",
       "      <td>36</td>\n",
       "      <td>0</td>\n",
       "    </tr>\n",
       "    <tr>\n",
       "      <th>36693</th>\n",
       "      <td>36693</td>\n",
       "      <td>109465</td>\n",
       "      <td>The probability of an event occurring is \\( 0....</td>\n",
       "      <td>Unlikely</td>\n",
       "      <td>yeah pretty unlikelyy from what it seems.</td>\n",
       "      <td>False_Neither</td>\n",
       "      <td>NA</td>\n",
       "      <td>False_Neither:NA</td>\n",
       "      <td>36</td>\n",
       "      <td>0</td>\n",
       "    </tr>\n",
       "    <tr>\n",
       "      <th>36694</th>\n",
       "      <td>36694</td>\n",
       "      <td>109465</td>\n",
       "      <td>The probability of an event occurring is \\( 0....</td>\n",
       "      <td>Unlikely</td>\n",
       "      <td>you have 9 other numbers to get.</td>\n",
       "      <td>False_Neither</td>\n",
       "      <td>NA</td>\n",
       "      <td>False_Neither:NA</td>\n",
       "      <td>36</td>\n",
       "      <td>0</td>\n",
       "    </tr>\n",
       "    <tr>\n",
       "      <th>36695</th>\n",
       "      <td>36695</td>\n",
       "      <td>109465</td>\n",
       "      <td>The probability of an event occurring is \\( 0....</td>\n",
       "      <td>Unlikely</td>\n",
       "      <td>you have a chanve but it is not i think this b...</td>\n",
       "      <td>False_Neither</td>\n",
       "      <td>NA</td>\n",
       "      <td>False_Neither:NA</td>\n",
       "      <td>36</td>\n",
       "      <td>0</td>\n",
       "    </tr>\n",
       "  </tbody>\n",
       "</table>\n",
       "<p>36696 rows × 10 columns</p>\n",
       "</div>"
      ],
      "text/plain": [
       "       row_id  QuestionId                                       QuestionText  \\\n",
       "0           0       31772  What fraction of the shape is not shaded? Give...   \n",
       "1           1       31772  What fraction of the shape is not shaded? Give...   \n",
       "2           2       31772  What fraction of the shape is not shaded? Give...   \n",
       "3           3       31772  What fraction of the shape is not shaded? Give...   \n",
       "4           4       31772  What fraction of the shape is not shaded? Give...   \n",
       "...       ...         ...                                                ...   \n",
       "36691   36691      109465  The probability of an event occurring is \\( 0....   \n",
       "36692   36692      109465  The probability of an event occurring is \\( 0....   \n",
       "36693   36693      109465  The probability of an event occurring is \\( 0....   \n",
       "36694   36694      109465  The probability of an event occurring is \\( 0....   \n",
       "36695   36695      109465  The probability of an event occurring is \\( 0....   \n",
       "\n",
       "               MC_Answer                                 StudentExplanation  \\\n",
       "0      \\( \\frac{1}{3} \\)                  0ne third is equal to tree nineth   \n",
       "1      \\( \\frac{1}{3} \\)  1 / 3 because 6 over 9 is 2 thirds and 1 third...   \n",
       "2      \\( \\frac{1}{3} \\)  1 3rd is half of 3 6th, so it is simplee to un...   \n",
       "3      \\( \\frac{1}{3} \\)        1 goes into everything and 3 goes into nine   \n",
       "4      \\( \\frac{1}{3} \\)                    1 out of every 3 isn't coloured   \n",
       "...                  ...                                                ...   \n",
       "36691           Unlikely                                     very unlikely.   \n",
       "36692           Unlikely       yea pretty much unlikely from what it seems.   \n",
       "36693           Unlikely          yeah pretty unlikelyy from what it seems.   \n",
       "36694           Unlikely                   you have 9 other numbers to get.   \n",
       "36695           Unlikely  you have a chanve but it is not i think this b...   \n",
       "\n",
       "            Category Misconception            target  label  is_correct  \n",
       "0       True_Correct            NA   True_Correct:NA     37           1  \n",
       "1       True_Correct            NA   True_Correct:NA     37           1  \n",
       "2       True_Neither            NA   True_Neither:NA     64           1  \n",
       "3       True_Neither            NA   True_Neither:NA     64           1  \n",
       "4       True_Correct            NA   True_Correct:NA     37           1  \n",
       "...              ...           ...               ...    ...         ...  \n",
       "36691  False_Neither            NA  False_Neither:NA     36           0  \n",
       "36692  False_Neither            NA  False_Neither:NA     36           0  \n",
       "36693  False_Neither            NA  False_Neither:NA     36           0  \n",
       "36694  False_Neither            NA  False_Neither:NA     36           0  \n",
       "36695  False_Neither            NA  False_Neither:NA     36           0  \n",
       "\n",
       "[36696 rows x 10 columns]"
      ]
     },
     "execution_count": 43,
     "metadata": {},
     "output_type": "execute_result"
    }
   ],
   "source": [
    "trainDF"
   ]
  },
  {
   "cell_type": "code",
   "execution_count": 44,
   "metadata": {
    "execution": {
     "iopub.execute_input": "2025-09-27T14:44:10.710438Z",
     "iopub.status.busy": "2025-09-27T14:44:10.710104Z",
     "iopub.status.idle": "2025-09-27T14:44:11.018420Z",
     "shell.execute_reply": "2025-09-27T14:44:11.017595Z",
     "shell.execute_reply.started": "2025-09-27T14:44:10.710415Z"
    }
   },
   "outputs": [
    {
     "data": {
      "image/png": "[encoded data removed]",
      "text/plain": [
       "<Figure size 640x480 with 1 Axes>"
      ]
     },
     "metadata": {},
     "output_type": "display_data"
    }
   ],
   "source": [
    "trainDF[\"is_correct\"].value_counts().plot(kind=\"bar\", title=\"Correct vs Incorrect\");"
   ]
  },
  {
   "cell_type": "markdown",
   "metadata": {},
   "source": [
    "## Seem the training Data extremely imbalance"
   ]
  },
  {
   "cell_type": "code",
   "execution_count": 45,
   "metadata": {
    "execution": {
     "iopub.execute_input": "2025-09-27T14:44:11.094316Z",
     "iopub.status.busy": "2025-09-27T14:44:11.093970Z",
     "iopub.status.idle": "2025-09-27T14:44:11.664042Z",
     "shell.execute_reply": "2025-09-27T14:44:11.663271Z",
     "shell.execute_reply.started": "2025-09-27T14:44:11.094268Z"
    }
   },
   "outputs": [
    {
     "data": {
      "image/png": "[encoded data removed]",
      "text/plain": [
       "<Figure size 640x480 with 1 Axes>"
      ]
     },
     "metadata": {},
     "output_type": "display_data"
    }
   ],
   "source": [
    "trainDF[\"label\"].value_counts().plot(kind=\"bar\", title=\"Distribution Label\");"
   ]
  },
  {
   "cell_type": "code",
   "execution_count": 46,
   "metadata": {
    "execution": {
     "iopub.execute_input": "2025-09-27T14:44:13.508630Z",
     "iopub.status.busy": "2025-09-27T14:44:13.507949Z",
     "iopub.status.idle": "2025-09-27T14:44:13.518630Z",
     "shell.execute_reply": "2025-09-27T14:44:13.517706Z",
     "shell.execute_reply.started": "2025-09-27T14:44:13.508603Z"
    }
   },
   "outputs": [
    {
     "data": {
      "application/vnd.microsoft.datawrangler.viewer.v0+json": {
       "columns": [
        {
         "name": "index",
         "rawType": "object",
         "type": "string"
        },
        {
         "name": "count",
         "rawType": "float64",
         "type": "float"
        }
       ],
       "ref": "1dd57ca3-d5d8-4208-a26a-1950027f9c87",
       "rows": [
        [
         "count",
         "65.0"
        ],
        [
         "mean",
         "564.5538461538462"
        ],
        [
         "std",
         "2071.725262543646"
        ],
        [
         "min",
         "1.0"
        ],
        [
         "25%",
         "6.0"
        ],
        [
         "50%",
         "50.0"
        ],
        [
         "75%",
         "291.0"
        ],
        [
         "max",
         "14802.0"
        ]
       ],
       "shape": {
        "columns": 1,
        "rows": 8
       }
      },
      "text/plain": [
       "count       65.000000\n",
       "mean       564.553846\n",
       "std       2071.725263\n",
       "min          1.000000\n",
       "25%          6.000000\n",
       "50%         50.000000\n",
       "75%        291.000000\n",
       "max      14802.000000\n",
       "Name: count, dtype: float64"
      ]
     },
     "execution_count": 46,
     "metadata": {},
     "output_type": "execute_result"
    }
   ],
   "source": [
    "trainDF[\"label\"].value_counts().describe()"
   ]
  },
  {
   "cell_type": "code",
   "execution_count": 47,
   "metadata": {
    "execution": {
     "iopub.execute_input": "2025-09-27T14:44:13.741950Z",
     "iopub.status.busy": "2025-09-27T14:44:13.741674Z",
     "iopub.status.idle": "2025-09-27T14:44:13.749470Z",
     "shell.execute_reply": "2025-09-27T14:44:13.748723Z",
     "shell.execute_reply.started": "2025-09-27T14:44:13.741931Z"
    }
   },
   "outputs": [
    {
     "data": {
      "application/vnd.microsoft.datawrangler.viewer.v0+json": {
       "columns": [
        {
         "name": "label",
         "rawType": "int64",
         "type": "integer"
        },
        {
         "name": "count",
         "rawType": "int64",
         "type": "integer"
        }
       ],
       "ref": "44e19a65-c7ad-4ec3-81eb-013531e451e3",
       "rows": [
        [
         "37",
         "14802"
        ],
        [
         "36",
         "6542"
        ],
        [
         "64",
         "5265"
        ],
        [
         "13",
         "1446"
        ],
        [
         "3",
         "891"
        ],
        [
         "9",
         "698"
        ],
        [
         "26",
         "618"
        ],
        [
         "23",
         "564"
        ],
        [
         "35",
         "550"
        ],
        [
         "34",
         "412"
        ],
        [
         "18",
         "409"
        ],
        [
         "17",
         "409"
        ],
        [
         "20",
         "345"
        ],
        [
         "7",
         "332"
        ],
        [
         "31",
         "328"
        ],
        [
         "1",
         "306"
        ],
        [
         "30",
         "291"
        ],
        [
         "29",
         "282"
        ],
        [
         "32",
         "273"
        ],
        [
         "0",
         "227"
        ],
        [
         "27",
         "198"
        ],
        [
         "24",
         "179"
        ],
        [
         "59",
         "162"
        ],
        [
         "22",
         "153"
        ],
        [
         "28",
         "128"
        ],
        [
         "2",
         "97"
        ],
        [
         "10",
         "96"
        ],
        [
         "21",
         "93"
        ],
        [
         "50",
         "88"
        ],
        [
         "11",
         "74"
        ],
        [
         "8",
         "58"
        ],
        [
         "6",
         "51"
        ],
        [
         "15",
         "50"
        ],
        [
         "39",
         "38"
        ],
        [
         "12",
         "23"
        ],
        [
         "19",
         "23"
        ],
        [
         "4",
         "22"
        ],
        [
         "16",
         "21"
        ],
        [
         "5",
         "18"
        ],
        [
         "56",
         "17"
        ],
        [
         "45",
         "11"
        ],
        [
         "47",
         "8"
        ],
        [
         "58",
         "8"
        ],
        [
         "60",
         "8"
        ],
        [
         "63",
         "8"
        ],
        [
         "52",
         "8"
        ],
        [
         "14",
         "7"
        ],
        [
         "25",
         "6"
        ],
        [
         "44",
         "6"
        ],
        [
         "33",
         "6"
        ]
       ],
       "shape": {
        "columns": 1,
        "rows": 50
       }
      },
      "text/plain": [
       "label\n",
       "37    14802\n",
       "36     6542\n",
       "64     5265\n",
       "13     1446\n",
       "3       891\n",
       "9       698\n",
       "26      618\n",
       "23      564\n",
       "35      550\n",
       "34      412\n",
       "18      409\n",
       "17      409\n",
       "20      345\n",
       "7       332\n",
       "31      328\n",
       "1       306\n",
       "30      291\n",
       "29      282\n",
       "32      273\n",
       "0       227\n",
       "27      198\n",
       "24      179\n",
       "59      162\n",
       "22      153\n",
       "28      128\n",
       "2        97\n",
       "10       96\n",
       "21       93\n",
       "50       88\n",
       "11       74\n",
       "8        58\n",
       "6        51\n",
       "15       50\n",
       "39       38\n",
       "12       23\n",
       "19       23\n",
       "4        22\n",
       "16       21\n",
       "5        18\n",
       "56       17\n",
       "45       11\n",
       "47        8\n",
       "58        8\n",
       "60        8\n",
       "63        8\n",
       "52        8\n",
       "14        7\n",
       "25        6\n",
       "44        6\n",
       "33        6\n",
       "Name: count, dtype: int64"
      ]
     },
     "execution_count": 47,
     "metadata": {},
     "output_type": "execute_result"
    }
   ],
   "source": [
    "trainDF[\"label\"].value_counts()[:50]  # top 50"
   ]
  },
  {
   "cell_type": "markdown",
   "metadata": {},
   "source": [
    "## Merge into Test /Submit Data"
   ]
  },
  {
   "cell_type": "code",
   "execution_count": 48,
   "metadata": {
    "execution": {
     "iopub.execute_input": "2025-09-27T14:44:16.098085Z",
     "iopub.status.busy": "2025-09-27T14:44:16.097784Z",
     "iopub.status.idle": "2025-09-27T14:44:16.106425Z",
     "shell.execute_reply": "2025-09-27T14:44:16.105697Z",
     "shell.execute_reply.started": "2025-09-27T14:44:16.098061Z"
    }
   },
   "outputs": [],
   "source": [
    "testDF = testDF.merge(correct, on=['QuestionId','MC_Answer'], how='left')\n",
    "testDF[\"is_correct\"] = testDF[\"is_correct\"].fillna(0)  # fill Na to 0\n"
   ]
  },
  {
   "cell_type": "code",
   "execution_count": 49,
   "metadata": {
    "execution": {
     "iopub.execute_input": "2025-09-27T14:44:16.299266Z",
     "iopub.status.busy": "2025-09-27T14:44:16.298963Z",
     "iopub.status.idle": "2025-09-27T14:44:16.309462Z",
     "shell.execute_reply": "2025-09-27T14:44:16.308341Z",
     "shell.execute_reply.started": "2025-09-27T14:44:16.299247Z"
    }
   },
   "outputs": [
    {
     "data": {
      "application/vnd.microsoft.datawrangler.viewer.v0+json": {
       "columns": [
        {
         "name": "index",
         "rawType": "int64",
         "type": "integer"
        },
        {
         "name": "row_id",
         "rawType": "int64",
         "type": "integer"
        },
        {
         "name": "QuestionId",
         "rawType": "int64",
         "type": "integer"
        },
        {
         "name": "QuestionText",
         "rawType": "object",
         "type": "string"
        },
        {
         "name": "MC_Answer",
         "rawType": "object",
         "type": "string"
        },
        {
         "name": "StudentExplanation",
         "rawType": "object",
         "type": "string"
        },
        {
         "name": "is_correct",
         "rawType": "int64",
         "type": "integer"
        }
       ],
       "ref": "97fc0e57-cb51-4920-80f8-f97c3f2ce682",
       "rows": [
        [
         "0",
         "36696",
         "31772",
         "What fraction of the shape is not shaded? Give your answer in its simplest form. [Image: A triangle split into 9 equal smaller triangles. 6 of them are shaded.]",
         "\\( \\frac{1}{3} \\)",
         "I think that 1/3 is the answer, as it's the simplest form of 3/9.",
         "1"
        ],
        [
         "1",
         "36697",
         "31772",
         "What fraction of the shape is not shaded? Give your answer in its simplest form. [Image: A triangle split into 9 equal smaller triangles. 6 of them are shaded.]",
         "\\( \\frac{3}{6} \\)",
         "i think this answer is because 3 triangles are white and 6 triangle are blue.",
         "0"
        ],
        [
         "2",
         "36698",
         "32835",
         "Which number is the greatest?",
         "\\( 6.2 \\)",
         "because the 2 makes it higher than the others.",
         "1"
        ]
       ],
       "shape": {
        "columns": 6,
        "rows": 3
       }
      },
      "text/html": [
       "<div>\n",
       "<style scoped>\n",
       "    .dataframe tbody tr th:only-of-type {\n",
       "        vertical-align: middle;\n",
       "    }\n",
       "\n",
       "    .dataframe tbody tr th {\n",
       "        vertical-align: top;\n",
       "    }\n",
       "\n",
       "    .dataframe thead th {\n",
       "        text-align: right;\n",
       "    }\n",
       "</style>\n",
       "<table border=\"1\" class=\"dataframe\">\n",
       "  <thead>\n",
       "    <tr style=\"text-align: right;\">\n",
       "      <th></th>\n",
       "      <th>row_id</th>\n",
       "      <th>QuestionId</th>\n",
       "      <th>QuestionText</th>\n",
       "      <th>MC_Answer</th>\n",
       "      <th>StudentExplanation</th>\n",
       "      <th>is_correct</th>\n",
       "    </tr>\n",
       "  </thead>\n",
       "  <tbody>\n",
       "    <tr>\n",
       "      <th>0</th>\n",
       "      <td>36696</td>\n",
       "      <td>31772</td>\n",
       "      <td>What fraction of the shape is not shaded? Give...</td>\n",
       "      <td>\\( \\frac{1}{3} \\)</td>\n",
       "      <td>I think that 1/3 is the answer, as it's the si...</td>\n",
       "      <td>1</td>\n",
       "    </tr>\n",
       "    <tr>\n",
       "      <th>1</th>\n",
       "      <td>36697</td>\n",
       "      <td>31772</td>\n",
       "      <td>What fraction of the shape is not shaded? Give...</td>\n",
       "      <td>\\( \\frac{3}{6} \\)</td>\n",
       "      <td>i think this answer is because 3 triangles are...</td>\n",
       "      <td>0</td>\n",
       "    </tr>\n",
       "    <tr>\n",
       "      <th>2</th>\n",
       "      <td>36698</td>\n",
       "      <td>32835</td>\n",
       "      <td>Which number is the greatest?</td>\n",
       "      <td>\\( 6.2 \\)</td>\n",
       "      <td>because the 2 makes it higher than the others.</td>\n",
       "      <td>1</td>\n",
       "    </tr>\n",
       "  </tbody>\n",
       "</table>\n",
       "</div>"
      ],
      "text/plain": [
       "   row_id  QuestionId                                       QuestionText  \\\n",
       "0   36696       31772  What fraction of the shape is not shaded? Give...   \n",
       "1   36697       31772  What fraction of the shape is not shaded? Give...   \n",
       "2   36698       32835                      Which number is the greatest?   \n",
       "\n",
       "           MC_Answer                                 StudentExplanation  \\\n",
       "0  \\( \\frac{1}{3} \\)  I think that 1/3 is the answer, as it's the si...   \n",
       "1  \\( \\frac{3}{6} \\)  i think this answer is because 3 triangles are...   \n",
       "2          \\( 6.2 \\)     because the 2 makes it higher than the others.   \n",
       "\n",
       "   is_correct  \n",
       "0           1  \n",
       "1           0  \n",
       "2           1  "
      ]
     },
     "execution_count": 49,
     "metadata": {},
     "output_type": "execute_result"
    }
   ],
   "source": [
    "testDF[\"is_correct\"] = testDF[\"is_correct\"].astype(int)\n",
    "testDF"
   ]
  },
  {
   "cell_type": "markdown",
   "metadata": {},
   "source": [
    "## Visualize Get Answer choices "
   ]
  },
  {
   "cell_type": "code",
   "execution_count": 50,
   "metadata": {
    "execution": {
     "iopub.execute_input": "2025-09-27T14:44:16.668535Z",
     "iopub.status.busy": "2025-09-27T14:44:16.667978Z",
     "iopub.status.idle": "2025-09-27T14:44:16.672305Z",
     "shell.execute_reply": "2025-09-27T14:44:16.671463Z",
     "shell.execute_reply.started": "2025-09-27T14:44:16.668508Z"
    }
   },
   "outputs": [],
   "source": [
    "from IPython.display import display, Math, Latex"
   ]
  },
  {
   "cell_type": "code",
   "execution_count": 51,
   "metadata": {
    "execution": {
     "iopub.execute_input": "2025-09-27T14:44:16.858895Z",
     "iopub.status.busy": "2025-09-27T14:44:16.858353Z",
     "iopub.status.idle": "2025-09-27T14:44:16.877034Z",
     "shell.execute_reply": "2025-09-27T14:44:16.876170Z",
     "shell.execute_reply.started": "2025-09-27T14:44:16.858870Z"
    },
    "scrolled": true
   },
   "outputs": [
    {
     "data": {
      "application/vnd.microsoft.datawrangler.viewer.v0+json": {
       "columns": [
        {
         "name": "index",
         "rawType": "int64",
         "type": "integer"
        },
        {
         "name": "QuestionId",
         "rawType": "int64",
         "type": "integer"
        },
        {
         "name": "MC_Answer",
         "rawType": "object",
         "type": "string"
        },
        {
         "name": "count",
         "rawType": "int64",
         "type": "integer"
        }
       ],
       "ref": "14b68090-77e2-4a49-a7a4-4497deef7d4c",
       "rows": [
        [
         "0",
         "31772",
         "\\( \\frac{1}{3} \\)",
         "2348"
        ],
        [
         "1",
         "31772",
         "\\( \\frac{3}{6} \\)",
         "412"
        ],
        [
         "2",
         "31772",
         "\\( \\frac{3}{8} \\)",
         "118"
        ],
        [
         "3",
         "31772",
         "\\( \\frac{3}{9} \\)",
         "1979"
        ],
        [
         "4",
         "31774",
         "\\( 3 \\)",
         "659"
        ],
        [
         "5",
         "31774",
         "\\( \\frac{1}{12} \\)",
         "1918"
        ],
        [
         "6",
         "31774",
         "\\( \\frac{1}{3} \\)",
         "251"
        ],
        [
         "7",
         "31774",
         "\\( \\frac{6}{2} \\)",
         "287"
        ],
        [
         "8",
         "31777",
         "\\( 24 \\)",
         "255"
        ],
        [
         "9",
         "31777",
         "\\( 48 \\)",
         "406"
        ],
        [
         "10",
         "31777",
         "\\( 60 \\)",
         "350"
        ],
        [
         "11",
         "31777",
         "\\( 72 \\)",
         "1798"
        ],
        [
         "12",
         "31778",
         "\\( 3 \\)",
         "627"
        ],
        [
         "13",
         "31778",
         "\\( 4 \\)",
         "1108"
        ],
        [
         "14",
         "31778",
         "\\( 6 \\)",
         "1755"
        ],
        [
         "15",
         "31778",
         "\\( 9 \\)",
         "150"
        ],
        [
         "16",
         "32829",
         "\\( 12 \\)",
         "1716"
        ],
        [
         "17",
         "32829",
         "\\( 22 \\)",
         "148"
        ],
        [
         "18",
         "32829",
         "\\( 4 \\)",
         "248"
        ],
        [
         "19",
         "32829",
         "\\( 48 \\)",
         "44"
        ],
        [
         "20",
         "32833",
         "\\( 3 \\frac{1}{3} \\)",
         "1601"
        ],
        [
         "21",
         "32833",
         "\\( 5 \\frac{2}{3} \\)",
         "78"
        ],
        [
         "22",
         "32833",
         "\\( \\frac{10}{15} \\)",
         "906"
        ],
        [
         "23",
         "32833",
         "\\( \\frac{2}{15} \\)",
         "520"
        ],
        [
         "24",
         "32835",
         "\\( 6 \\)",
         "478"
        ],
        [
         "25",
         "32835",
         "\\( 6.0001 \\)",
         "64"
        ],
        [
         "26",
         "32835",
         "\\( 6.079 \\)",
         "116"
        ],
        [
         "27",
         "32835",
         "\\( 6.2 \\)",
         "1674"
        ],
        [
         "28",
         "33471",
         "\\( 15 \\)",
         "874"
        ],
        [
         "29",
         "33471",
         "\\( 3 \\)",
         "40"
        ],
        [
         "30",
         "33471",
         "\\( 8 \\)",
         "56"
        ],
        [
         "31",
         "33471",
         "\\( 9 \\)",
         "572"
        ],
        [
         "32",
         "33472",
         "\\( \\frac{11}{15} \\)",
         "1651"
        ],
        [
         "33",
         "33472",
         "\\( \\frac{11}{30} \\)",
         "116"
        ],
        [
         "34",
         "33472",
         "\\( \\frac{3}{15} \\)",
         "565"
        ],
        [
         "35",
         "33472",
         "\\( \\frac{3}{8} \\)",
         "468"
        ],
        [
         "36",
         "33474",
         "\\( \\frac{1}{3} \\times \\frac{2}{3} \\)",
         "630"
        ],
        [
         "37",
         "33474",
         "\\( \\frac{1}{3}+\\frac{2}{3} \\)",
         "49"
        ],
        [
         "38",
         "33474",
         "\\( \\frac{2}{3} \\div \\frac{1}{3} \\)",
         "147"
        ],
        [
         "39",
         "33474",
         "\\( \\frac{2}{3}-\\frac{1}{3} \\)",
         "940"
        ],
        [
         "40",
         "76870",
         "Not enough information",
         "403"
        ],
        [
         "41",
         "76870",
         "\\( 10 \\)",
         "508"
        ],
        [
         "42",
         "76870",
         "\\( 5 \\)",
         "140"
        ],
        [
         "43",
         "76870",
         "\\( 6 \\)",
         "135"
        ],
        [
         "44",
         "89443",
         "\\( -13 \\)",
         "798"
        ],
        [
         "45",
         "89443",
         "\\( -3 \\)",
         "1394"
        ],
        [
         "46",
         "89443",
         "\\( 13 \\)",
         "396"
        ],
        [
         "47",
         "89443",
         "\\( 3 \\)",
         "466"
        ],
        [
         "48",
         "91695",
         "\\( 20 \\)",
         "102"
        ],
        [
         "49",
         "91695",
         "\\( 22 \\)",
         "718"
        ]
       ],
       "shape": {
        "columns": 3,
        "rows": 60
       }
      },
      "text/html": [
       "<div>\n",
       "<style scoped>\n",
       "    .dataframe tbody tr th:only-of-type {\n",
       "        vertical-align: middle;\n",
       "    }\n",
       "\n",
       "    .dataframe tbody tr th {\n",
       "        vertical-align: top;\n",
       "    }\n",
       "\n",
       "    .dataframe thead th {\n",
       "        text-align: right;\n",
       "    }\n",
       "</style>\n",
       "<table border=\"1\" class=\"dataframe\">\n",
       "  <thead>\n",
       "    <tr style=\"text-align: right;\">\n",
       "      <th></th>\n",
       "      <th>QuestionId</th>\n",
       "      <th>MC_Answer</th>\n",
       "      <th>count</th>\n",
       "    </tr>\n",
       "  </thead>\n",
       "  <tbody>\n",
       "    <tr>\n",
       "      <th>0</th>\n",
       "      <td>31772</td>\n",
       "      <td>\\( \\frac{1}{3} \\)</td>\n",
       "      <td>2348</td>\n",
       "    </tr>\n",
       "    <tr>\n",
       "      <th>1</th>\n",
       "      <td>31772</td>\n",
       "      <td>\\( \\frac{3}{6} \\)</td>\n",
       "      <td>412</td>\n",
       "    </tr>\n",
       "    <tr>\n",
       "      <th>2</th>\n",
       "      <td>31772</td>\n",
       "      <td>\\( \\frac{3}{8} \\)</td>\n",
       "      <td>118</td>\n",
       "    </tr>\n",
       "    <tr>\n",
       "      <th>3</th>\n",
       "      <td>31772</td>\n",
       "      <td>\\( \\frac{3}{9} \\)</td>\n",
       "      <td>1979</td>\n",
       "    </tr>\n",
       "    <tr>\n",
       "      <th>4</th>\n",
       "      <td>31774</td>\n",
       "      <td>\\( 3 \\)</td>\n",
       "      <td>659</td>\n",
       "    </tr>\n",
       "    <tr>\n",
       "      <th>5</th>\n",
       "      <td>31774</td>\n",
       "      <td>\\( \\frac{1}{12} \\)</td>\n",
       "      <td>1918</td>\n",
       "    </tr>\n",
       "    <tr>\n",
       "      <th>6</th>\n",
       "      <td>31774</td>\n",
       "      <td>\\( \\frac{1}{3} \\)</td>\n",
       "      <td>251</td>\n",
       "    </tr>\n",
       "    <tr>\n",
       "      <th>7</th>\n",
       "      <td>31774</td>\n",
       "      <td>\\( \\frac{6}{2} \\)</td>\n",
       "      <td>287</td>\n",
       "    </tr>\n",
       "    <tr>\n",
       "      <th>8</th>\n",
       "      <td>31777</td>\n",
       "      <td>\\( 24 \\)</td>\n",
       "      <td>255</td>\n",
       "    </tr>\n",
       "    <tr>\n",
       "      <th>9</th>\n",
       "      <td>31777</td>\n",
       "      <td>\\( 48 \\)</td>\n",
       "      <td>406</td>\n",
       "    </tr>\n",
       "    <tr>\n",
       "      <th>10</th>\n",
       "      <td>31777</td>\n",
       "      <td>\\( 60 \\)</td>\n",
       "      <td>350</td>\n",
       "    </tr>\n",
       "    <tr>\n",
       "      <th>11</th>\n",
       "      <td>31777</td>\n",
       "      <td>\\( 72 \\)</td>\n",
       "      <td>1798</td>\n",
       "    </tr>\n",
       "    <tr>\n",
       "      <th>12</th>\n",
       "      <td>31778</td>\n",
       "      <td>\\( 3 \\)</td>\n",
       "      <td>627</td>\n",
       "    </tr>\n",
       "    <tr>\n",
       "      <th>13</th>\n",
       "      <td>31778</td>\n",
       "      <td>\\( 4 \\)</td>\n",
       "      <td>1108</td>\n",
       "    </tr>\n",
       "    <tr>\n",
       "      <th>14</th>\n",
       "      <td>31778</td>\n",
       "      <td>\\( 6 \\)</td>\n",
       "      <td>1755</td>\n",
       "    </tr>\n",
       "    <tr>\n",
       "      <th>15</th>\n",
       "      <td>31778</td>\n",
       "      <td>\\( 9 \\)</td>\n",
       "      <td>150</td>\n",
       "    </tr>\n",
       "    <tr>\n",
       "      <th>16</th>\n",
       "      <td>32829</td>\n",
       "      <td>\\( 12 \\)</td>\n",
       "      <td>1716</td>\n",
       "    </tr>\n",
       "    <tr>\n",
       "      <th>17</th>\n",
       "      <td>32829</td>\n",
       "      <td>\\( 22 \\)</td>\n",
       "      <td>148</td>\n",
       "    </tr>\n",
       "    <tr>\n",
       "      <th>18</th>\n",
       "      <td>32829</td>\n",
       "      <td>\\( 4 \\)</td>\n",
       "      <td>248</td>\n",
       "    </tr>\n",
       "    <tr>\n",
       "      <th>19</th>\n",
       "      <td>32829</td>\n",
       "      <td>\\( 48 \\)</td>\n",
       "      <td>44</td>\n",
       "    </tr>\n",
       "    <tr>\n",
       "      <th>20</th>\n",
       "      <td>32833</td>\n",
       "      <td>\\( 3 \\frac{1}{3} \\)</td>\n",
       "      <td>1601</td>\n",
       "    </tr>\n",
       "    <tr>\n",
       "      <th>21</th>\n",
       "      <td>32833</td>\n",
       "      <td>\\( 5 \\frac{2}{3} \\)</td>\n",
       "      <td>78</td>\n",
       "    </tr>\n",
       "    <tr>\n",
       "      <th>22</th>\n",
       "      <td>32833</td>\n",
       "      <td>\\( \\frac{10}{15} \\)</td>\n",
       "      <td>906</td>\n",
       "    </tr>\n",
       "    <tr>\n",
       "      <th>23</th>\n",
       "      <td>32833</td>\n",
       "      <td>\\( \\frac{2}{15} \\)</td>\n",
       "      <td>520</td>\n",
       "    </tr>\n",
       "    <tr>\n",
       "      <th>24</th>\n",
       "      <td>32835</td>\n",
       "      <td>\\( 6 \\)</td>\n",
       "      <td>478</td>\n",
       "    </tr>\n",
       "    <tr>\n",
       "      <th>25</th>\n",
       "      <td>32835</td>\n",
       "      <td>\\( 6.0001 \\)</td>\n",
       "      <td>64</td>\n",
       "    </tr>\n",
       "    <tr>\n",
       "      <th>26</th>\n",
       "      <td>32835</td>\n",
       "      <td>\\( 6.079 \\)</td>\n",
       "      <td>116</td>\n",
       "    </tr>\n",
       "    <tr>\n",
       "      <th>27</th>\n",
       "      <td>32835</td>\n",
       "      <td>\\( 6.2 \\)</td>\n",
       "      <td>1674</td>\n",
       "    </tr>\n",
       "    <tr>\n",
       "      <th>28</th>\n",
       "      <td>33471</td>\n",
       "      <td>\\( 15 \\)</td>\n",
       "      <td>874</td>\n",
       "    </tr>\n",
       "    <tr>\n",
       "      <th>29</th>\n",
       "      <td>33471</td>\n",
       "      <td>\\( 3 \\)</td>\n",
       "      <td>40</td>\n",
       "    </tr>\n",
       "    <tr>\n",
       "      <th>30</th>\n",
       "      <td>33471</td>\n",
       "      <td>\\( 8 \\)</td>\n",
       "      <td>56</td>\n",
       "    </tr>\n",
       "    <tr>\n",
       "      <th>31</th>\n",
       "      <td>33471</td>\n",
       "      <td>\\( 9 \\)</td>\n",
       "      <td>572</td>\n",
       "    </tr>\n",
       "    <tr>\n",
       "      <th>32</th>\n",
       "      <td>33472</td>\n",
       "      <td>\\( \\frac{11}{15} \\)</td>\n",
       "      <td>1651</td>\n",
       "    </tr>\n",
       "    <tr>\n",
       "      <th>33</th>\n",
       "      <td>33472</td>\n",
       "      <td>\\( \\frac{11}{30} \\)</td>\n",
       "      <td>116</td>\n",
       "    </tr>\n",
       "    <tr>\n",
       "      <th>34</th>\n",
       "      <td>33472</td>\n",
       "      <td>\\( \\frac{3}{15} \\)</td>\n",
       "      <td>565</td>\n",
       "    </tr>\n",
       "    <tr>\n",
       "      <th>35</th>\n",
       "      <td>33472</td>\n",
       "      <td>\\( \\frac{3}{8} \\)</td>\n",
       "      <td>468</td>\n",
       "    </tr>\n",
       "    <tr>\n",
       "      <th>36</th>\n",
       "      <td>33474</td>\n",
       "      <td>\\( \\frac{1}{3} \\times \\frac{2}{3} \\)</td>\n",
       "      <td>630</td>\n",
       "    </tr>\n",
       "    <tr>\n",
       "      <th>37</th>\n",
       "      <td>33474</td>\n",
       "      <td>\\( \\frac{1}{3}+\\frac{2}{3} \\)</td>\n",
       "      <td>49</td>\n",
       "    </tr>\n",
       "    <tr>\n",
       "      <th>38</th>\n",
       "      <td>33474</td>\n",
       "      <td>\\( \\frac{2}{3} \\div \\frac{1}{3} \\)</td>\n",
       "      <td>147</td>\n",
       "    </tr>\n",
       "    <tr>\n",
       "      <th>39</th>\n",
       "      <td>33474</td>\n",
       "      <td>\\( \\frac{2}{3}-\\frac{1}{3} \\)</td>\n",
       "      <td>940</td>\n",
       "    </tr>\n",
       "    <tr>\n",
       "      <th>40</th>\n",
       "      <td>76870</td>\n",
       "      <td>Not enough information</td>\n",
       "      <td>403</td>\n",
       "    </tr>\n",
       "    <tr>\n",
       "      <th>41</th>\n",
       "      <td>76870</td>\n",
       "      <td>\\( 10 \\)</td>\n",
       "      <td>508</td>\n",
       "    </tr>\n",
       "    <tr>\n",
       "      <th>42</th>\n",
       "      <td>76870</td>\n",
       "      <td>\\( 5 \\)</td>\n",
       "      <td>140</td>\n",
       "    </tr>\n",
       "    <tr>\n",
       "      <th>43</th>\n",
       "      <td>76870</td>\n",
       "      <td>\\( 6 \\)</td>\n",
       "      <td>135</td>\n",
       "    </tr>\n",
       "    <tr>\n",
       "      <th>44</th>\n",
       "      <td>89443</td>\n",
       "      <td>\\( -13 \\)</td>\n",
       "      <td>798</td>\n",
       "    </tr>\n",
       "    <tr>\n",
       "      <th>45</th>\n",
       "      <td>89443</td>\n",
       "      <td>\\( -3 \\)</td>\n",
       "      <td>1394</td>\n",
       "    </tr>\n",
       "    <tr>\n",
       "      <th>46</th>\n",
       "      <td>89443</td>\n",
       "      <td>\\( 13 \\)</td>\n",
       "      <td>396</td>\n",
       "    </tr>\n",
       "    <tr>\n",
       "      <th>47</th>\n",
       "      <td>89443</td>\n",
       "      <td>\\( 3 \\)</td>\n",
       "      <td>466</td>\n",
       "    </tr>\n",
       "    <tr>\n",
       "      <th>48</th>\n",
       "      <td>91695</td>\n",
       "      <td>\\( 20 \\)</td>\n",
       "      <td>102</td>\n",
       "    </tr>\n",
       "    <tr>\n",
       "      <th>49</th>\n",
       "      <td>91695</td>\n",
       "      <td>\\( 22 \\)</td>\n",
       "      <td>718</td>\n",
       "    </tr>\n",
       "    <tr>\n",
       "      <th>50</th>\n",
       "      <td>91695</td>\n",
       "      <td>\\( 26 \\)</td>\n",
       "      <td>1547</td>\n",
       "    </tr>\n",
       "    <tr>\n",
       "      <th>51</th>\n",
       "      <td>91695</td>\n",
       "      <td>\\( 36 \\)</td>\n",
       "      <td>243</td>\n",
       "    </tr>\n",
       "    <tr>\n",
       "      <th>52</th>\n",
       "      <td>104665</td>\n",
       "      <td>\\( 192 \\) hours</td>\n",
       "      <td>9</td>\n",
       "    </tr>\n",
       "    <tr>\n",
       "      <th>53</th>\n",
       "      <td>104665</td>\n",
       "      <td>\\( 48 \\) hours</td>\n",
       "      <td>497</td>\n",
       "    </tr>\n",
       "    <tr>\n",
       "      <th>54</th>\n",
       "      <td>104665</td>\n",
       "      <td>\\( 64 \\) hours</td>\n",
       "      <td>62</td>\n",
       "    </tr>\n",
       "    <tr>\n",
       "      <th>55</th>\n",
       "      <td>104665</td>\n",
       "      <td>\\( 768 \\) hours</td>\n",
       "      <td>105</td>\n",
       "    </tr>\n",
       "    <tr>\n",
       "      <th>56</th>\n",
       "      <td>109465</td>\n",
       "      <td>Certain</td>\n",
       "      <td>64</td>\n",
       "    </tr>\n",
       "    <tr>\n",
       "      <th>57</th>\n",
       "      <td>109465</td>\n",
       "      <td>Impossible</td>\n",
       "      <td>18</td>\n",
       "    </tr>\n",
       "    <tr>\n",
       "      <th>58</th>\n",
       "      <td>109465</td>\n",
       "      <td>Likely</td>\n",
       "      <td>553</td>\n",
       "    </tr>\n",
       "    <tr>\n",
       "      <th>59</th>\n",
       "      <td>109465</td>\n",
       "      <td>Unlikely</td>\n",
       "      <td>416</td>\n",
       "    </tr>\n",
       "  </tbody>\n",
       "</table>\n",
       "</div>"
      ],
      "text/plain": [
       "    QuestionId                             MC_Answer  count\n",
       "0        31772                     \\( \\frac{1}{3} \\)   2348\n",
       "1        31772                     \\( \\frac{3}{6} \\)    412\n",
       "2        31772                     \\( \\frac{3}{8} \\)    118\n",
       "3        31772                     \\( \\frac{3}{9} \\)   1979\n",
       "4        31774                               \\( 3 \\)    659\n",
       "5        31774                    \\( \\frac{1}{12} \\)   1918\n",
       "6        31774                     \\( \\frac{1}{3} \\)    251\n",
       "7        31774                     \\( \\frac{6}{2} \\)    287\n",
       "8        31777                              \\( 24 \\)    255\n",
       "9        31777                              \\( 48 \\)    406\n",
       "10       31777                              \\( 60 \\)    350\n",
       "11       31777                              \\( 72 \\)   1798\n",
       "12       31778                               \\( 3 \\)    627\n",
       "13       31778                               \\( 4 \\)   1108\n",
       "14       31778                               \\( 6 \\)   1755\n",
       "15       31778                               \\( 9 \\)    150\n",
       "16       32829                              \\( 12 \\)   1716\n",
       "17       32829                              \\( 22 \\)    148\n",
       "18       32829                               \\( 4 \\)    248\n",
       "19       32829                              \\( 48 \\)     44\n",
       "20       32833                   \\( 3 \\frac{1}{3} \\)   1601\n",
       "21       32833                   \\( 5 \\frac{2}{3} \\)     78\n",
       "22       32833                   \\( \\frac{10}{15} \\)    906\n",
       "23       32833                    \\( \\frac{2}{15} \\)    520\n",
       "24       32835                               \\( 6 \\)    478\n",
       "25       32835                          \\( 6.0001 \\)     64\n",
       "26       32835                           \\( 6.079 \\)    116\n",
       "27       32835                             \\( 6.2 \\)   1674\n",
       "28       33471                              \\( 15 \\)    874\n",
       "29       33471                               \\( 3 \\)     40\n",
       "30       33471                               \\( 8 \\)     56\n",
       "31       33471                               \\( 9 \\)    572\n",
       "32       33472                   \\( \\frac{11}{15} \\)   1651\n",
       "33       33472                   \\( \\frac{11}{30} \\)    116\n",
       "34       33472                    \\( \\frac{3}{15} \\)    565\n",
       "35       33472                     \\( \\frac{3}{8} \\)    468\n",
       "36       33474  \\( \\frac{1}{3} \\times \\frac{2}{3} \\)    630\n",
       "37       33474         \\( \\frac{1}{3}+\\frac{2}{3} \\)     49\n",
       "38       33474    \\( \\frac{2}{3} \\div \\frac{1}{3} \\)    147\n",
       "39       33474         \\( \\frac{2}{3}-\\frac{1}{3} \\)    940\n",
       "40       76870                Not enough information    403\n",
       "41       76870                              \\( 10 \\)    508\n",
       "42       76870                               \\( 5 \\)    140\n",
       "43       76870                               \\( 6 \\)    135\n",
       "44       89443                             \\( -13 \\)    798\n",
       "45       89443                              \\( -3 \\)   1394\n",
       "46       89443                              \\( 13 \\)    396\n",
       "47       89443                               \\( 3 \\)    466\n",
       "48       91695                              \\( 20 \\)    102\n",
       "49       91695                              \\( 22 \\)    718\n",
       "50       91695                              \\( 26 \\)   1547\n",
       "51       91695                              \\( 36 \\)    243\n",
       "52      104665                       \\( 192 \\) hours      9\n",
       "53      104665                        \\( 48 \\) hours    497\n",
       "54      104665                        \\( 64 \\) hours     62\n",
       "55      104665                       \\( 768 \\) hours    105\n",
       "56      109465                               Certain     64\n",
       "57      109465                            Impossible     18\n",
       "58      109465                                Likely    553\n",
       "59      109465                              Unlikely    416"
      ]
     },
     "execution_count": 51,
     "metadata": {},
     "output_type": "execute_result"
    }
   ],
   "source": [
    "temp = trainDF.groupby([\"QuestionId\", \"MC_Answer\"]).size().reset_index(name=\"count\")\n",
    "temp"
   ]
  },
  {
   "cell_type": "code",
   "execution_count": 52,
   "metadata": {
    "execution": {
     "iopub.execute_input": "2025-09-27T14:44:17.036103Z",
     "iopub.status.busy": "2025-09-27T14:44:17.035805Z",
     "iopub.status.idle": "2025-09-27T14:44:17.052774Z",
     "shell.execute_reply": "2025-09-27T14:44:17.051859Z",
     "shell.execute_reply.started": "2025-09-27T14:44:17.036080Z"
    },
    "scrolled": true
   },
   "outputs": [
    {
     "data": {
      "application/vnd.microsoft.datawrangler.viewer.v0+json": {
       "columns": [
        {
         "name": "index",
         "rawType": "int64",
         "type": "integer"
        },
        {
         "name": "QuestionId",
         "rawType": "int64",
         "type": "integer"
        },
        {
         "name": "MC_Answer",
         "rawType": "object",
         "type": "string"
        },
        {
         "name": "count",
         "rawType": "int64",
         "type": "integer"
        },
        {
         "name": "rank",
         "rawType": "int64",
         "type": "integer"
        }
       ],
       "ref": "cad37e97-81cd-43e4-a851-13cd008314b1",
       "rows": [
        [
         "0",
         "31772",
         "\\( \\frac{1}{3} \\)",
         "2348",
         "0"
        ],
        [
         "1",
         "31772",
         "\\( \\frac{3}{6} \\)",
         "412",
         "2"
        ],
        [
         "2",
         "31772",
         "\\( \\frac{3}{8} \\)",
         "118",
         "3"
        ],
        [
         "3",
         "31772",
         "\\( \\frac{3}{9} \\)",
         "1979",
         "1"
        ],
        [
         "4",
         "31774",
         "\\( 3 \\)",
         "659",
         "1"
        ],
        [
         "5",
         "31774",
         "\\( \\frac{1}{12} \\)",
         "1918",
         "0"
        ],
        [
         "6",
         "31774",
         "\\( \\frac{1}{3} \\)",
         "251",
         "3"
        ],
        [
         "7",
         "31774",
         "\\( \\frac{6}{2} \\)",
         "287",
         "2"
        ],
        [
         "8",
         "31777",
         "\\( 24 \\)",
         "255",
         "3"
        ],
        [
         "9",
         "31777",
         "\\( 48 \\)",
         "406",
         "1"
        ],
        [
         "10",
         "31777",
         "\\( 60 \\)",
         "350",
         "2"
        ],
        [
         "11",
         "31777",
         "\\( 72 \\)",
         "1798",
         "0"
        ],
        [
         "12",
         "31778",
         "\\( 3 \\)",
         "627",
         "2"
        ],
        [
         "13",
         "31778",
         "\\( 4 \\)",
         "1108",
         "1"
        ],
        [
         "14",
         "31778",
         "\\( 6 \\)",
         "1755",
         "0"
        ],
        [
         "15",
         "31778",
         "\\( 9 \\)",
         "150",
         "3"
        ],
        [
         "16",
         "32829",
         "\\( 12 \\)",
         "1716",
         "0"
        ],
        [
         "17",
         "32829",
         "\\( 22 \\)",
         "148",
         "2"
        ],
        [
         "18",
         "32829",
         "\\( 4 \\)",
         "248",
         "1"
        ],
        [
         "19",
         "32829",
         "\\( 48 \\)",
         "44",
         "3"
        ],
        [
         "20",
         "32833",
         "\\( 3 \\frac{1}{3} \\)",
         "1601",
         "0"
        ],
        [
         "21",
         "32833",
         "\\( 5 \\frac{2}{3} \\)",
         "78",
         "3"
        ],
        [
         "22",
         "32833",
         "\\( \\frac{10}{15} \\)",
         "906",
         "1"
        ],
        [
         "23",
         "32833",
         "\\( \\frac{2}{15} \\)",
         "520",
         "2"
        ],
        [
         "24",
         "32835",
         "\\( 6 \\)",
         "478",
         "1"
        ],
        [
         "25",
         "32835",
         "\\( 6.0001 \\)",
         "64",
         "3"
        ],
        [
         "26",
         "32835",
         "\\( 6.079 \\)",
         "116",
         "2"
        ],
        [
         "27",
         "32835",
         "\\( 6.2 \\)",
         "1674",
         "0"
        ],
        [
         "28",
         "33471",
         "\\( 15 \\)",
         "874",
         "0"
        ],
        [
         "29",
         "33471",
         "\\( 3 \\)",
         "40",
         "3"
        ],
        [
         "30",
         "33471",
         "\\( 8 \\)",
         "56",
         "2"
        ],
        [
         "31",
         "33471",
         "\\( 9 \\)",
         "572",
         "1"
        ],
        [
         "32",
         "33472",
         "\\( \\frac{11}{15} \\)",
         "1651",
         "0"
        ],
        [
         "33",
         "33472",
         "\\( \\frac{11}{30} \\)",
         "116",
         "3"
        ],
        [
         "34",
         "33472",
         "\\( \\frac{3}{15} \\)",
         "565",
         "1"
        ],
        [
         "35",
         "33472",
         "\\( \\frac{3}{8} \\)",
         "468",
         "2"
        ],
        [
         "36",
         "33474",
         "\\( \\frac{1}{3} \\times \\frac{2}{3} \\)",
         "630",
         "1"
        ],
        [
         "37",
         "33474",
         "\\( \\frac{1}{3}+\\frac{2}{3} \\)",
         "49",
         "3"
        ],
        [
         "38",
         "33474",
         "\\( \\frac{2}{3} \\div \\frac{1}{3} \\)",
         "147",
         "2"
        ],
        [
         "39",
         "33474",
         "\\( \\frac{2}{3}-\\frac{1}{3} \\)",
         "940",
         "0"
        ],
        [
         "40",
         "76870",
         "Not enough information",
         "403",
         "1"
        ],
        [
         "41",
         "76870",
         "\\( 10 \\)",
         "508",
         "0"
        ],
        [
         "42",
         "76870",
         "\\( 5 \\)",
         "140",
         "2"
        ],
        [
         "43",
         "76870",
         "\\( 6 \\)",
         "135",
         "3"
        ],
        [
         "44",
         "89443",
         "\\( -13 \\)",
         "798",
         "1"
        ],
        [
         "45",
         "89443",
         "\\( -3 \\)",
         "1394",
         "0"
        ],
        [
         "46",
         "89443",
         "\\( 13 \\)",
         "396",
         "3"
        ],
        [
         "47",
         "89443",
         "\\( 3 \\)",
         "466",
         "2"
        ],
        [
         "48",
         "91695",
         "\\( 20 \\)",
         "102",
         "3"
        ],
        [
         "49",
         "91695",
         "\\( 22 \\)",
         "718",
         "1"
        ]
       ],
       "shape": {
        "columns": 4,
        "rows": 60
       }
      },
      "text/html": [
       "<div>\n",
       "<style scoped>\n",
       "    .dataframe tbody tr th:only-of-type {\n",
       "        vertical-align: middle;\n",
       "    }\n",
       "\n",
       "    .dataframe tbody tr th {\n",
       "        vertical-align: top;\n",
       "    }\n",
       "\n",
       "    .dataframe thead th {\n",
       "        text-align: right;\n",
       "    }\n",
       "</style>\n",
       "<table border=\"1\" class=\"dataframe\">\n",
       "  <thead>\n",
       "    <tr style=\"text-align: right;\">\n",
       "      <th></th>\n",
       "      <th>QuestionId</th>\n",
       "      <th>MC_Answer</th>\n",
       "      <th>count</th>\n",
       "      <th>rank</th>\n",
       "    </tr>\n",
       "  </thead>\n",
       "  <tbody>\n",
       "    <tr>\n",
       "      <th>0</th>\n",
       "      <td>31772</td>\n",
       "      <td>\\( \\frac{1}{3} \\)</td>\n",
       "      <td>2348</td>\n",
       "      <td>0</td>\n",
       "    </tr>\n",
       "    <tr>\n",
       "      <th>1</th>\n",
       "      <td>31772</td>\n",
       "      <td>\\( \\frac{3}{6} \\)</td>\n",
       "      <td>412</td>\n",
       "      <td>2</td>\n",
       "    </tr>\n",
       "    <tr>\n",
       "      <th>2</th>\n",
       "      <td>31772</td>\n",
       "      <td>\\( \\frac{3}{8} \\)</td>\n",
       "      <td>118</td>\n",
       "      <td>3</td>\n",
       "    </tr>\n",
       "    <tr>\n",
       "      <th>3</th>\n",
       "      <td>31772</td>\n",
       "      <td>\\( \\frac{3}{9} \\)</td>\n",
       "      <td>1979</td>\n",
       "      <td>1</td>\n",
       "    </tr>\n",
       "    <tr>\n",
       "      <th>4</th>\n",
       "      <td>31774</td>\n",
       "      <td>\\( 3 \\)</td>\n",
       "      <td>659</td>\n",
       "      <td>1</td>\n",
       "    </tr>\n",
       "    <tr>\n",
       "      <th>5</th>\n",
       "      <td>31774</td>\n",
       "      <td>\\( \\frac{1}{12} \\)</td>\n",
       "      <td>1918</td>\n",
       "      <td>0</td>\n",
       "    </tr>\n",
       "    <tr>\n",
       "      <th>6</th>\n",
       "      <td>31774</td>\n",
       "      <td>\\( \\frac{1}{3} \\)</td>\n",
       "      <td>251</td>\n",
       "      <td>3</td>\n",
       "    </tr>\n",
       "    <tr>\n",
       "      <th>7</th>\n",
       "      <td>31774</td>\n",
       "      <td>\\( \\frac{6}{2} \\)</td>\n",
       "      <td>287</td>\n",
       "      <td>2</td>\n",
       "    </tr>\n",
       "    <tr>\n",
       "      <th>8</th>\n",
       "      <td>31777</td>\n",
       "      <td>\\( 24 \\)</td>\n",
       "      <td>255</td>\n",
       "      <td>3</td>\n",
       "    </tr>\n",
       "    <tr>\n",
       "      <th>9</th>\n",
       "      <td>31777</td>\n",
       "      <td>\\( 48 \\)</td>\n",
       "      <td>406</td>\n",
       "      <td>1</td>\n",
       "    </tr>\n",
       "    <tr>\n",
       "      <th>10</th>\n",
       "      <td>31777</td>\n",
       "      <td>\\( 60 \\)</td>\n",
       "      <td>350</td>\n",
       "      <td>2</td>\n",
       "    </tr>\n",
       "    <tr>\n",
       "      <th>11</th>\n",
       "      <td>31777</td>\n",
       "      <td>\\( 72 \\)</td>\n",
       "      <td>1798</td>\n",
       "      <td>0</td>\n",
       "    </tr>\n",
       "    <tr>\n",
       "      <th>12</th>\n",
       "      <td>31778</td>\n",
       "      <td>\\( 3 \\)</td>\n",
       "      <td>627</td>\n",
       "      <td>2</td>\n",
       "    </tr>\n",
       "    <tr>\n",
       "      <th>13</th>\n",
       "      <td>31778</td>\n",
       "      <td>\\( 4 \\)</td>\n",
       "      <td>1108</td>\n",
       "      <td>1</td>\n",
       "    </tr>\n",
       "    <tr>\n",
       "      <th>14</th>\n",
       "      <td>31778</td>\n",
       "      <td>\\( 6 \\)</td>\n",
       "      <td>1755</td>\n",
       "      <td>0</td>\n",
       "    </tr>\n",
       "    <tr>\n",
       "      <th>15</th>\n",
       "      <td>31778</td>\n",
       "      <td>\\( 9 \\)</td>\n",
       "      <td>150</td>\n",
       "      <td>3</td>\n",
       "    </tr>\n",
       "    <tr>\n",
       "      <th>16</th>\n",
       "      <td>32829</td>\n",
       "      <td>\\( 12 \\)</td>\n",
       "      <td>1716</td>\n",
       "      <td>0</td>\n",
       "    </tr>\n",
       "    <tr>\n",
       "      <th>17</th>\n",
       "      <td>32829</td>\n",
       "      <td>\\( 22 \\)</td>\n",
       "      <td>148</td>\n",
       "      <td>2</td>\n",
       "    </tr>\n",
       "    <tr>\n",
       "      <th>18</th>\n",
       "      <td>32829</td>\n",
       "      <td>\\( 4 \\)</td>\n",
       "      <td>248</td>\n",
       "      <td>1</td>\n",
       "    </tr>\n",
       "    <tr>\n",
       "      <th>19</th>\n",
       "      <td>32829</td>\n",
       "      <td>\\( 48 \\)</td>\n",
       "      <td>44</td>\n",
       "      <td>3</td>\n",
       "    </tr>\n",
       "    <tr>\n",
       "      <th>20</th>\n",
       "      <td>32833</td>\n",
       "      <td>\\( 3 \\frac{1}{3} \\)</td>\n",
       "      <td>1601</td>\n",
       "      <td>0</td>\n",
       "    </tr>\n",
       "    <tr>\n",
       "      <th>21</th>\n",
       "      <td>32833</td>\n",
       "      <td>\\( 5 \\frac{2}{3} \\)</td>\n",
       "      <td>78</td>\n",
       "      <td>3</td>\n",
       "    </tr>\n",
       "    <tr>\n",
       "      <th>22</th>\n",
       "      <td>32833</td>\n",
       "      <td>\\( \\frac{10}{15} \\)</td>\n",
       "      <td>906</td>\n",
       "      <td>1</td>\n",
       "    </tr>\n",
       "    <tr>\n",
       "      <th>23</th>\n",
       "      <td>32833</td>\n",
       "      <td>\\( \\frac{2}{15} \\)</td>\n",
       "      <td>520</td>\n",
       "      <td>2</td>\n",
       "    </tr>\n",
       "    <tr>\n",
       "      <th>24</th>\n",
       "      <td>32835</td>\n",
       "      <td>\\( 6 \\)</td>\n",
       "      <td>478</td>\n",
       "      <td>1</td>\n",
       "    </tr>\n",
       "    <tr>\n",
       "      <th>25</th>\n",
       "      <td>32835</td>\n",
       "      <td>\\( 6.0001 \\)</td>\n",
       "      <td>64</td>\n",
       "      <td>3</td>\n",
       "    </tr>\n",
       "    <tr>\n",
       "      <th>26</th>\n",
       "      <td>32835</td>\n",
       "      <td>\\( 6.079 \\)</td>\n",
       "      <td>116</td>\n",
       "      <td>2</td>\n",
       "    </tr>\n",
       "    <tr>\n",
       "      <th>27</th>\n",
       "      <td>32835</td>\n",
       "      <td>\\( 6.2 \\)</td>\n",
       "      <td>1674</td>\n",
       "      <td>0</td>\n",
       "    </tr>\n",
       "    <tr>\n",
       "      <th>28</th>\n",
       "      <td>33471</td>\n",
       "      <td>\\( 15 \\)</td>\n",
       "      <td>874</td>\n",
       "      <td>0</td>\n",
       "    </tr>\n",
       "    <tr>\n",
       "      <th>29</th>\n",
       "      <td>33471</td>\n",
       "      <td>\\( 3 \\)</td>\n",
       "      <td>40</td>\n",
       "      <td>3</td>\n",
       "    </tr>\n",
       "    <tr>\n",
       "      <th>30</th>\n",
       "      <td>33471</td>\n",
       "      <td>\\( 8 \\)</td>\n",
       "      <td>56</td>\n",
       "      <td>2</td>\n",
       "    </tr>\n",
       "    <tr>\n",
       "      <th>31</th>\n",
       "      <td>33471</td>\n",
       "      <td>\\( 9 \\)</td>\n",
       "      <td>572</td>\n",
       "      <td>1</td>\n",
       "    </tr>\n",
       "    <tr>\n",
       "      <th>32</th>\n",
       "      <td>33472</td>\n",
       "      <td>\\( \\frac{11}{15} \\)</td>\n",
       "      <td>1651</td>\n",
       "      <td>0</td>\n",
       "    </tr>\n",
       "    <tr>\n",
       "      <th>33</th>\n",
       "      <td>33472</td>\n",
       "      <td>\\( \\frac{11}{30} \\)</td>\n",
       "      <td>116</td>\n",
       "      <td>3</td>\n",
       "    </tr>\n",
       "    <tr>\n",
       "      <th>34</th>\n",
       "      <td>33472</td>\n",
       "      <td>\\( \\frac{3}{15} \\)</td>\n",
       "      <td>565</td>\n",
       "      <td>1</td>\n",
       "    </tr>\n",
       "    <tr>\n",
       "      <th>35</th>\n",
       "      <td>33472</td>\n",
       "      <td>\\( \\frac{3}{8} \\)</td>\n",
       "      <td>468</td>\n",
       "      <td>2</td>\n",
       "    </tr>\n",
       "    <tr>\n",
       "      <th>36</th>\n",
       "      <td>33474</td>\n",
       "      <td>\\( \\frac{1}{3} \\times \\frac{2}{3} \\)</td>\n",
       "      <td>630</td>\n",
       "      <td>1</td>\n",
       "    </tr>\n",
       "    <tr>\n",
       "      <th>37</th>\n",
       "      <td>33474</td>\n",
       "      <td>\\( \\frac{1}{3}+\\frac{2}{3} \\)</td>\n",
       "      <td>49</td>\n",
       "      <td>3</td>\n",
       "    </tr>\n",
       "    <tr>\n",
       "      <th>38</th>\n",
       "      <td>33474</td>\n",
       "      <td>\\( \\frac{2}{3} \\div \\frac{1}{3} \\)</td>\n",
       "      <td>147</td>\n",
       "      <td>2</td>\n",
       "    </tr>\n",
       "    <tr>\n",
       "      <th>39</th>\n",
       "      <td>33474</td>\n",
       "      <td>\\( \\frac{2}{3}-\\frac{1}{3} \\)</td>\n",
       "      <td>940</td>\n",
       "      <td>0</td>\n",
       "    </tr>\n",
       "    <tr>\n",
       "      <th>40</th>\n",
       "      <td>76870</td>\n",
       "      <td>Not enough information</td>\n",
       "      <td>403</td>\n",
       "      <td>1</td>\n",
       "    </tr>\n",
       "    <tr>\n",
       "      <th>41</th>\n",
       "      <td>76870</td>\n",
       "      <td>\\( 10 \\)</td>\n",
       "      <td>508</td>\n",
       "      <td>0</td>\n",
       "    </tr>\n",
       "    <tr>\n",
       "      <th>42</th>\n",
       "      <td>76870</td>\n",
       "      <td>\\( 5 \\)</td>\n",
       "      <td>140</td>\n",
       "      <td>2</td>\n",
       "    </tr>\n",
       "    <tr>\n",
       "      <th>43</th>\n",
       "      <td>76870</td>\n",
       "      <td>\\( 6 \\)</td>\n",
       "      <td>135</td>\n",
       "      <td>3</td>\n",
       "    </tr>\n",
       "    <tr>\n",
       "      <th>44</th>\n",
       "      <td>89443</td>\n",
       "      <td>\\( -13 \\)</td>\n",
       "      <td>798</td>\n",
       "      <td>1</td>\n",
       "    </tr>\n",
       "    <tr>\n",
       "      <th>45</th>\n",
       "      <td>89443</td>\n",
       "      <td>\\( -3 \\)</td>\n",
       "      <td>1394</td>\n",
       "      <td>0</td>\n",
       "    </tr>\n",
       "    <tr>\n",
       "      <th>46</th>\n",
       "      <td>89443</td>\n",
       "      <td>\\( 13 \\)</td>\n",
       "      <td>396</td>\n",
       "      <td>3</td>\n",
       "    </tr>\n",
       "    <tr>\n",
       "      <th>47</th>\n",
       "      <td>89443</td>\n",
       "      <td>\\( 3 \\)</td>\n",
       "      <td>466</td>\n",
       "      <td>2</td>\n",
       "    </tr>\n",
       "    <tr>\n",
       "      <th>48</th>\n",
       "      <td>91695</td>\n",
       "      <td>\\( 20 \\)</td>\n",
       "      <td>102</td>\n",
       "      <td>3</td>\n",
       "    </tr>\n",
       "    <tr>\n",
       "      <th>49</th>\n",
       "      <td>91695</td>\n",
       "      <td>\\( 22 \\)</td>\n",
       "      <td>718</td>\n",
       "      <td>1</td>\n",
       "    </tr>\n",
       "    <tr>\n",
       "      <th>50</th>\n",
       "      <td>91695</td>\n",
       "      <td>\\( 26 \\)</td>\n",
       "      <td>1547</td>\n",
       "      <td>0</td>\n",
       "    </tr>\n",
       "    <tr>\n",
       "      <th>51</th>\n",
       "      <td>91695</td>\n",
       "      <td>\\( 36 \\)</td>\n",
       "      <td>243</td>\n",
       "      <td>2</td>\n",
       "    </tr>\n",
       "    <tr>\n",
       "      <th>52</th>\n",
       "      <td>104665</td>\n",
       "      <td>\\( 192 \\) hours</td>\n",
       "      <td>9</td>\n",
       "      <td>3</td>\n",
       "    </tr>\n",
       "    <tr>\n",
       "      <th>53</th>\n",
       "      <td>104665</td>\n",
       "      <td>\\( 48 \\) hours</td>\n",
       "      <td>497</td>\n",
       "      <td>0</td>\n",
       "    </tr>\n",
       "    <tr>\n",
       "      <th>54</th>\n",
       "      <td>104665</td>\n",
       "      <td>\\( 64 \\) hours</td>\n",
       "      <td>62</td>\n",
       "      <td>2</td>\n",
       "    </tr>\n",
       "    <tr>\n",
       "      <th>55</th>\n",
       "      <td>104665</td>\n",
       "      <td>\\( 768 \\) hours</td>\n",
       "      <td>105</td>\n",
       "      <td>1</td>\n",
       "    </tr>\n",
       "    <tr>\n",
       "      <th>56</th>\n",
       "      <td>109465</td>\n",
       "      <td>Certain</td>\n",
       "      <td>64</td>\n",
       "      <td>2</td>\n",
       "    </tr>\n",
       "    <tr>\n",
       "      <th>57</th>\n",
       "      <td>109465</td>\n",
       "      <td>Impossible</td>\n",
       "      <td>18</td>\n",
       "      <td>3</td>\n",
       "    </tr>\n",
       "    <tr>\n",
       "      <th>58</th>\n",
       "      <td>109465</td>\n",
       "      <td>Likely</td>\n",
       "      <td>553</td>\n",
       "      <td>0</td>\n",
       "    </tr>\n",
       "    <tr>\n",
       "      <th>59</th>\n",
       "      <td>109465</td>\n",
       "      <td>Unlikely</td>\n",
       "      <td>416</td>\n",
       "      <td>1</td>\n",
       "    </tr>\n",
       "  </tbody>\n",
       "</table>\n",
       "</div>"
      ],
      "text/plain": [
       "    QuestionId                             MC_Answer  count  rank\n",
       "0        31772                     \\( \\frac{1}{3} \\)   2348     0\n",
       "1        31772                     \\( \\frac{3}{6} \\)    412     2\n",
       "2        31772                     \\( \\frac{3}{8} \\)    118     3\n",
       "3        31772                     \\( \\frac{3}{9} \\)   1979     1\n",
       "4        31774                               \\( 3 \\)    659     1\n",
       "5        31774                    \\( \\frac{1}{12} \\)   1918     0\n",
       "6        31774                     \\( \\frac{1}{3} \\)    251     3\n",
       "7        31774                     \\( \\frac{6}{2} \\)    287     2\n",
       "8        31777                              \\( 24 \\)    255     3\n",
       "9        31777                              \\( 48 \\)    406     1\n",
       "10       31777                              \\( 60 \\)    350     2\n",
       "11       31777                              \\( 72 \\)   1798     0\n",
       "12       31778                               \\( 3 \\)    627     2\n",
       "13       31778                               \\( 4 \\)   1108     1\n",
       "14       31778                               \\( 6 \\)   1755     0\n",
       "15       31778                               \\( 9 \\)    150     3\n",
       "16       32829                              \\( 12 \\)   1716     0\n",
       "17       32829                              \\( 22 \\)    148     2\n",
       "18       32829                               \\( 4 \\)    248     1\n",
       "19       32829                              \\( 48 \\)     44     3\n",
       "20       32833                   \\( 3 \\frac{1}{3} \\)   1601     0\n",
       "21       32833                   \\( 5 \\frac{2}{3} \\)     78     3\n",
       "22       32833                   \\( \\frac{10}{15} \\)    906     1\n",
       "23       32833                    \\( \\frac{2}{15} \\)    520     2\n",
       "24       32835                               \\( 6 \\)    478     1\n",
       "25       32835                          \\( 6.0001 \\)     64     3\n",
       "26       32835                           \\( 6.079 \\)    116     2\n",
       "27       32835                             \\( 6.2 \\)   1674     0\n",
       "28       33471                              \\( 15 \\)    874     0\n",
       "29       33471                               \\( 3 \\)     40     3\n",
       "30       33471                               \\( 8 \\)     56     2\n",
       "31       33471                               \\( 9 \\)    572     1\n",
       "32       33472                   \\( \\frac{11}{15} \\)   1651     0\n",
       "33       33472                   \\( \\frac{11}{30} \\)    116     3\n",
       "34       33472                    \\( \\frac{3}{15} \\)    565     1\n",
       "35       33472                     \\( \\frac{3}{8} \\)    468     2\n",
       "36       33474  \\( \\frac{1}{3} \\times \\frac{2}{3} \\)    630     1\n",
       "37       33474         \\( \\frac{1}{3}+\\frac{2}{3} \\)     49     3\n",
       "38       33474    \\( \\frac{2}{3} \\div \\frac{1}{3} \\)    147     2\n",
       "39       33474         \\( \\frac{2}{3}-\\frac{1}{3} \\)    940     0\n",
       "40       76870                Not enough information    403     1\n",
       "41       76870                              \\( 10 \\)    508     0\n",
       "42       76870                               \\( 5 \\)    140     2\n",
       "43       76870                               \\( 6 \\)    135     3\n",
       "44       89443                             \\( -13 \\)    798     1\n",
       "45       89443                              \\( -3 \\)   1394     0\n",
       "46       89443                              \\( 13 \\)    396     3\n",
       "47       89443                               \\( 3 \\)    466     2\n",
       "48       91695                              \\( 20 \\)    102     3\n",
       "49       91695                              \\( 22 \\)    718     1\n",
       "50       91695                              \\( 26 \\)   1547     0\n",
       "51       91695                              \\( 36 \\)    243     2\n",
       "52      104665                       \\( 192 \\) hours      9     3\n",
       "53      104665                        \\( 48 \\) hours    497     0\n",
       "54      104665                        \\( 64 \\) hours     62     2\n",
       "55      104665                       \\( 768 \\) hours    105     1\n",
       "56      109465                               Certain     64     2\n",
       "57      109465                            Impossible     18     3\n",
       "58      109465                                Likely    553     0\n",
       "59      109465                              Unlikely    416     1"
      ]
     },
     "execution_count": 52,
     "metadata": {},
     "output_type": "execute_result"
    }
   ],
   "source": [
    "# add Ranking\n",
    "temp[\"rank\"] = temp.groupby(\"QuestionId\")['count'].rank(method='dense', ascending=False).astype(int) - 1\n",
    "temp"
   ]
  },
  {
   "cell_type": "code",
   "execution_count": 53,
   "metadata": {
    "execution": {
     "iopub.execute_input": "2025-09-27T14:44:17.218336Z",
     "iopub.status.busy": "2025-09-27T14:44:17.217652Z",
     "iopub.status.idle": "2025-09-27T14:44:17.231123Z",
     "shell.execute_reply": "2025-09-27T14:44:17.230368Z",
     "shell.execute_reply.started": "2025-09-27T14:44:17.218309Z"
    },
    "scrolled": true
   },
   "outputs": [
    {
     "data": {
      "application/vnd.microsoft.datawrangler.viewer.v0+json": {
       "columns": [
        {
         "name": "index",
         "rawType": "int64",
         "type": "integer"
        },
        {
         "name": "QuestionId",
         "rawType": "int64",
         "type": "integer"
        },
        {
         "name": "MC_Answer",
         "rawType": "object",
         "type": "string"
        },
        {
         "name": "rank",
         "rawType": "int64",
         "type": "integer"
        }
       ],
       "ref": "323cd3aa-8462-46dd-b4a1-3a353c46ca57",
       "rows": [
        [
         "0",
         "31772",
         "\\( \\frac{1}{3} \\)",
         "0"
        ],
        [
         "3",
         "31772",
         "\\( \\frac{3}{9} \\)",
         "1"
        ],
        [
         "1",
         "31772",
         "\\( \\frac{3}{6} \\)",
         "2"
        ],
        [
         "2",
         "31772",
         "\\( \\frac{3}{8} \\)",
         "3"
        ],
        [
         "5",
         "31774",
         "\\( \\frac{1}{12} \\)",
         "0"
        ],
        [
         "4",
         "31774",
         "\\( 3 \\)",
         "1"
        ],
        [
         "7",
         "31774",
         "\\( \\frac{6}{2} \\)",
         "2"
        ],
        [
         "6",
         "31774",
         "\\( \\frac{1}{3} \\)",
         "3"
        ],
        [
         "11",
         "31777",
         "\\( 72 \\)",
         "0"
        ],
        [
         "9",
         "31777",
         "\\( 48 \\)",
         "1"
        ],
        [
         "10",
         "31777",
         "\\( 60 \\)",
         "2"
        ],
        [
         "8",
         "31777",
         "\\( 24 \\)",
         "3"
        ],
        [
         "14",
         "31778",
         "\\( 6 \\)",
         "0"
        ],
        [
         "13",
         "31778",
         "\\( 4 \\)",
         "1"
        ],
        [
         "12",
         "31778",
         "\\( 3 \\)",
         "2"
        ],
        [
         "15",
         "31778",
         "\\( 9 \\)",
         "3"
        ],
        [
         "16",
         "32829",
         "\\( 12 \\)",
         "0"
        ],
        [
         "18",
         "32829",
         "\\( 4 \\)",
         "1"
        ],
        [
         "17",
         "32829",
         "\\( 22 \\)",
         "2"
        ],
        [
         "19",
         "32829",
         "\\( 48 \\)",
         "3"
        ],
        [
         "20",
         "32833",
         "\\( 3 \\frac{1}{3} \\)",
         "0"
        ],
        [
         "22",
         "32833",
         "\\( \\frac{10}{15} \\)",
         "1"
        ],
        [
         "23",
         "32833",
         "\\( \\frac{2}{15} \\)",
         "2"
        ],
        [
         "21",
         "32833",
         "\\( 5 \\frac{2}{3} \\)",
         "3"
        ],
        [
         "27",
         "32835",
         "\\( 6.2 \\)",
         "0"
        ],
        [
         "24",
         "32835",
         "\\( 6 \\)",
         "1"
        ],
        [
         "26",
         "32835",
         "\\( 6.079 \\)",
         "2"
        ],
        [
         "25",
         "32835",
         "\\( 6.0001 \\)",
         "3"
        ],
        [
         "28",
         "33471",
         "\\( 15 \\)",
         "0"
        ],
        [
         "31",
         "33471",
         "\\( 9 \\)",
         "1"
        ],
        [
         "30",
         "33471",
         "\\( 8 \\)",
         "2"
        ],
        [
         "29",
         "33471",
         "\\( 3 \\)",
         "3"
        ],
        [
         "32",
         "33472",
         "\\( \\frac{11}{15} \\)",
         "0"
        ],
        [
         "34",
         "33472",
         "\\( \\frac{3}{15} \\)",
         "1"
        ],
        [
         "35",
         "33472",
         "\\( \\frac{3}{8} \\)",
         "2"
        ],
        [
         "33",
         "33472",
         "\\( \\frac{11}{30} \\)",
         "3"
        ],
        [
         "39",
         "33474",
         "\\( \\frac{2}{3}-\\frac{1}{3} \\)",
         "0"
        ],
        [
         "36",
         "33474",
         "\\( \\frac{1}{3} \\times \\frac{2}{3} \\)",
         "1"
        ],
        [
         "38",
         "33474",
         "\\( \\frac{2}{3} \\div \\frac{1}{3} \\)",
         "2"
        ],
        [
         "37",
         "33474",
         "\\( \\frac{1}{3}+\\frac{2}{3} \\)",
         "3"
        ],
        [
         "41",
         "76870",
         "\\( 10 \\)",
         "0"
        ],
        [
         "40",
         "76870",
         "Not enough information",
         "1"
        ],
        [
         "42",
         "76870",
         "\\( 5 \\)",
         "2"
        ],
        [
         "43",
         "76870",
         "\\( 6 \\)",
         "3"
        ],
        [
         "45",
         "89443",
         "\\( -3 \\)",
         "0"
        ],
        [
         "44",
         "89443",
         "\\( -13 \\)",
         "1"
        ],
        [
         "47",
         "89443",
         "\\( 3 \\)",
         "2"
        ],
        [
         "46",
         "89443",
         "\\( 13 \\)",
         "3"
        ],
        [
         "50",
         "91695",
         "\\( 26 \\)",
         "0"
        ],
        [
         "49",
         "91695",
         "\\( 22 \\)",
         "1"
        ]
       ],
       "shape": {
        "columns": 3,
        "rows": 60
       }
      },
      "text/html": [
       "<div>\n",
       "<style scoped>\n",
       "    .dataframe tbody tr th:only-of-type {\n",
       "        vertical-align: middle;\n",
       "    }\n",
       "\n",
       "    .dataframe tbody tr th {\n",
       "        vertical-align: top;\n",
       "    }\n",
       "\n",
       "    .dataframe thead th {\n",
       "        text-align: right;\n",
       "    }\n",
       "</style>\n",
       "<table border=\"1\" class=\"dataframe\">\n",
       "  <thead>\n",
       "    <tr style=\"text-align: right;\">\n",
       "      <th></th>\n",
       "      <th>QuestionId</th>\n",
       "      <th>MC_Answer</th>\n",
       "      <th>rank</th>\n",
       "    </tr>\n",
       "  </thead>\n",
       "  <tbody>\n",
       "    <tr>\n",
       "      <th>0</th>\n",
       "      <td>31772</td>\n",
       "      <td>\\( \\frac{1}{3} \\)</td>\n",
       "      <td>0</td>\n",
       "    </tr>\n",
       "    <tr>\n",
       "      <th>3</th>\n",
       "      <td>31772</td>\n",
       "      <td>\\( \\frac{3}{9} \\)</td>\n",
       "      <td>1</td>\n",
       "    </tr>\n",
       "    <tr>\n",
       "      <th>1</th>\n",
       "      <td>31772</td>\n",
       "      <td>\\( \\frac{3}{6} \\)</td>\n",
       "      <td>2</td>\n",
       "    </tr>\n",
       "    <tr>\n",
       "      <th>2</th>\n",
       "      <td>31772</td>\n",
       "      <td>\\( \\frac{3}{8} \\)</td>\n",
       "      <td>3</td>\n",
       "    </tr>\n",
       "    <tr>\n",
       "      <th>5</th>\n",
       "      <td>31774</td>\n",
       "      <td>\\( \\frac{1}{12} \\)</td>\n",
       "      <td>0</td>\n",
       "    </tr>\n",
       "    <tr>\n",
       "      <th>4</th>\n",
       "      <td>31774</td>\n",
       "      <td>\\( 3 \\)</td>\n",
       "      <td>1</td>\n",
       "    </tr>\n",
       "    <tr>\n",
       "      <th>7</th>\n",
       "      <td>31774</td>\n",
       "      <td>\\( \\frac{6}{2} \\)</td>\n",
       "      <td>2</td>\n",
       "    </tr>\n",
       "    <tr>\n",
       "      <th>6</th>\n",
       "      <td>31774</td>\n",
       "      <td>\\( \\frac{1}{3} \\)</td>\n",
       "      <td>3</td>\n",
       "    </tr>\n",
       "    <tr>\n",
       "      <th>11</th>\n",
       "      <td>31777</td>\n",
       "      <td>\\( 72 \\)</td>\n",
       "      <td>0</td>\n",
       "    </tr>\n",
       "    <tr>\n",
       "      <th>9</th>\n",
       "      <td>31777</td>\n",
       "      <td>\\( 48 \\)</td>\n",
       "      <td>1</td>\n",
       "    </tr>\n",
       "    <tr>\n",
       "      <th>10</th>\n",
       "      <td>31777</td>\n",
       "      <td>\\( 60 \\)</td>\n",
       "      <td>2</td>\n",
       "    </tr>\n",
       "    <tr>\n",
       "      <th>8</th>\n",
       "      <td>31777</td>\n",
       "      <td>\\( 24 \\)</td>\n",
       "      <td>3</td>\n",
       "    </tr>\n",
       "    <tr>\n",
       "      <th>14</th>\n",
       "      <td>31778</td>\n",
       "      <td>\\( 6 \\)</td>\n",
       "      <td>0</td>\n",
       "    </tr>\n",
       "    <tr>\n",
       "      <th>13</th>\n",
       "      <td>31778</td>\n",
       "      <td>\\( 4 \\)</td>\n",
       "      <td>1</td>\n",
       "    </tr>\n",
       "    <tr>\n",
       "      <th>12</th>\n",
       "      <td>31778</td>\n",
       "      <td>\\( 3 \\)</td>\n",
       "      <td>2</td>\n",
       "    </tr>\n",
       "    <tr>\n",
       "      <th>15</th>\n",
       "      <td>31778</td>\n",
       "      <td>\\( 9 \\)</td>\n",
       "      <td>3</td>\n",
       "    </tr>\n",
       "    <tr>\n",
       "      <th>16</th>\n",
       "      <td>32829</td>\n",
       "      <td>\\( 12 \\)</td>\n",
       "      <td>0</td>\n",
       "    </tr>\n",
       "    <tr>\n",
       "      <th>18</th>\n",
       "      <td>32829</td>\n",
       "      <td>\\( 4 \\)</td>\n",
       "      <td>1</td>\n",
       "    </tr>\n",
       "    <tr>\n",
       "      <th>17</th>\n",
       "      <td>32829</td>\n",
       "      <td>\\( 22 \\)</td>\n",
       "      <td>2</td>\n",
       "    </tr>\n",
       "    <tr>\n",
       "      <th>19</th>\n",
       "      <td>32829</td>\n",
       "      <td>\\( 48 \\)</td>\n",
       "      <td>3</td>\n",
       "    </tr>\n",
       "    <tr>\n",
       "      <th>20</th>\n",
       "      <td>32833</td>\n",
       "      <td>\\( 3 \\frac{1}{3} \\)</td>\n",
       "      <td>0</td>\n",
       "    </tr>\n",
       "    <tr>\n",
       "      <th>22</th>\n",
       "      <td>32833</td>\n",
       "      <td>\\( \\frac{10}{15} \\)</td>\n",
       "      <td>1</td>\n",
       "    </tr>\n",
       "    <tr>\n",
       "      <th>23</th>\n",
       "      <td>32833</td>\n",
       "      <td>\\( \\frac{2}{15} \\)</td>\n",
       "      <td>2</td>\n",
       "    </tr>\n",
       "    <tr>\n",
       "      <th>21</th>\n",
       "      <td>32833</td>\n",
       "      <td>\\( 5 \\frac{2}{3} \\)</td>\n",
       "      <td>3</td>\n",
       "    </tr>\n",
       "    <tr>\n",
       "      <th>27</th>\n",
       "      <td>32835</td>\n",
       "      <td>\\( 6.2 \\)</td>\n",
       "      <td>0</td>\n",
       "    </tr>\n",
       "    <tr>\n",
       "      <th>24</th>\n",
       "      <td>32835</td>\n",
       "      <td>\\( 6 \\)</td>\n",
       "      <td>1</td>\n",
       "    </tr>\n",
       "    <tr>\n",
       "      <th>26</th>\n",
       "      <td>32835</td>\n",
       "      <td>\\( 6.079 \\)</td>\n",
       "      <td>2</td>\n",
       "    </tr>\n",
       "    <tr>\n",
       "      <th>25</th>\n",
       "      <td>32835</td>\n",
       "      <td>\\( 6.0001 \\)</td>\n",
       "      <td>3</td>\n",
       "    </tr>\n",
       "    <tr>\n",
       "      <th>28</th>\n",
       "      <td>33471</td>\n",
       "      <td>\\( 15 \\)</td>\n",
       "      <td>0</td>\n",
       "    </tr>\n",
       "    <tr>\n",
       "      <th>31</th>\n",
       "      <td>33471</td>\n",
       "      <td>\\( 9 \\)</td>\n",
       "      <td>1</td>\n",
       "    </tr>\n",
       "    <tr>\n",
       "      <th>30</th>\n",
       "      <td>33471</td>\n",
       "      <td>\\( 8 \\)</td>\n",
       "      <td>2</td>\n",
       "    </tr>\n",
       "    <tr>\n",
       "      <th>29</th>\n",
       "      <td>33471</td>\n",
       "      <td>\\( 3 \\)</td>\n",
       "      <td>3</td>\n",
       "    </tr>\n",
       "    <tr>\n",
       "      <th>32</th>\n",
       "      <td>33472</td>\n",
       "      <td>\\( \\frac{11}{15} \\)</td>\n",
       "      <td>0</td>\n",
       "    </tr>\n",
       "    <tr>\n",
       "      <th>34</th>\n",
       "      <td>33472</td>\n",
       "      <td>\\( \\frac{3}{15} \\)</td>\n",
       "      <td>1</td>\n",
       "    </tr>\n",
       "    <tr>\n",
       "      <th>35</th>\n",
       "      <td>33472</td>\n",
       "      <td>\\( \\frac{3}{8} \\)</td>\n",
       "      <td>2</td>\n",
       "    </tr>\n",
       "    <tr>\n",
       "      <th>33</th>\n",
       "      <td>33472</td>\n",
       "      <td>\\( \\frac{11}{30} \\)</td>\n",
       "      <td>3</td>\n",
       "    </tr>\n",
       "    <tr>\n",
       "      <th>39</th>\n",
       "      <td>33474</td>\n",
       "      <td>\\( \\frac{2}{3}-\\frac{1}{3} \\)</td>\n",
       "      <td>0</td>\n",
       "    </tr>\n",
       "    <tr>\n",
       "      <th>36</th>\n",
       "      <td>33474</td>\n",
       "      <td>\\( \\frac{1}{3} \\times \\frac{2}{3} \\)</td>\n",
       "      <td>1</td>\n",
       "    </tr>\n",
       "    <tr>\n",
       "      <th>38</th>\n",
       "      <td>33474</td>\n",
       "      <td>\\( \\frac{2}{3} \\div \\frac{1}{3} \\)</td>\n",
       "      <td>2</td>\n",
       "    </tr>\n",
       "    <tr>\n",
       "      <th>37</th>\n",
       "      <td>33474</td>\n",
       "      <td>\\( \\frac{1}{3}+\\frac{2}{3} \\)</td>\n",
       "      <td>3</td>\n",
       "    </tr>\n",
       "    <tr>\n",
       "      <th>41</th>\n",
       "      <td>76870</td>\n",
       "      <td>\\( 10 \\)</td>\n",
       "      <td>0</td>\n",
       "    </tr>\n",
       "    <tr>\n",
       "      <th>40</th>\n",
       "      <td>76870</td>\n",
       "      <td>Not enough information</td>\n",
       "      <td>1</td>\n",
       "    </tr>\n",
       "    <tr>\n",
       "      <th>42</th>\n",
       "      <td>76870</td>\n",
       "      <td>\\( 5 \\)</td>\n",
       "      <td>2</td>\n",
       "    </tr>\n",
       "    <tr>\n",
       "      <th>43</th>\n",
       "      <td>76870</td>\n",
       "      <td>\\( 6 \\)</td>\n",
       "      <td>3</td>\n",
       "    </tr>\n",
       "    <tr>\n",
       "      <th>45</th>\n",
       "      <td>89443</td>\n",
       "      <td>\\( -3 \\)</td>\n",
       "      <td>0</td>\n",
       "    </tr>\n",
       "    <tr>\n",
       "      <th>44</th>\n",
       "      <td>89443</td>\n",
       "      <td>\\( -13 \\)</td>\n",
       "      <td>1</td>\n",
       "    </tr>\n",
       "    <tr>\n",
       "      <th>47</th>\n",
       "      <td>89443</td>\n",
       "      <td>\\( 3 \\)</td>\n",
       "      <td>2</td>\n",
       "    </tr>\n",
       "    <tr>\n",
       "      <th>46</th>\n",
       "      <td>89443</td>\n",
       "      <td>\\( 13 \\)</td>\n",
       "      <td>3</td>\n",
       "    </tr>\n",
       "    <tr>\n",
       "      <th>50</th>\n",
       "      <td>91695</td>\n",
       "      <td>\\( 26 \\)</td>\n",
       "      <td>0</td>\n",
       "    </tr>\n",
       "    <tr>\n",
       "      <th>49</th>\n",
       "      <td>91695</td>\n",
       "      <td>\\( 22 \\)</td>\n",
       "      <td>1</td>\n",
       "    </tr>\n",
       "    <tr>\n",
       "      <th>51</th>\n",
       "      <td>91695</td>\n",
       "      <td>\\( 36 \\)</td>\n",
       "      <td>2</td>\n",
       "    </tr>\n",
       "    <tr>\n",
       "      <th>48</th>\n",
       "      <td>91695</td>\n",
       "      <td>\\( 20 \\)</td>\n",
       "      <td>3</td>\n",
       "    </tr>\n",
       "    <tr>\n",
       "      <th>53</th>\n",
       "      <td>104665</td>\n",
       "      <td>\\( 48 \\) hours</td>\n",
       "      <td>0</td>\n",
       "    </tr>\n",
       "    <tr>\n",
       "      <th>55</th>\n",
       "      <td>104665</td>\n",
       "      <td>\\( 768 \\) hours</td>\n",
       "      <td>1</td>\n",
       "    </tr>\n",
       "    <tr>\n",
       "      <th>54</th>\n",
       "      <td>104665</td>\n",
       "      <td>\\( 64 \\) hours</td>\n",
       "      <td>2</td>\n",
       "    </tr>\n",
       "    <tr>\n",
       "      <th>52</th>\n",
       "      <td>104665</td>\n",
       "      <td>\\( 192 \\) hours</td>\n",
       "      <td>3</td>\n",
       "    </tr>\n",
       "    <tr>\n",
       "      <th>58</th>\n",
       "      <td>109465</td>\n",
       "      <td>Likely</td>\n",
       "      <td>0</td>\n",
       "    </tr>\n",
       "    <tr>\n",
       "      <th>59</th>\n",
       "      <td>109465</td>\n",
       "      <td>Unlikely</td>\n",
       "      <td>1</td>\n",
       "    </tr>\n",
       "    <tr>\n",
       "      <th>56</th>\n",
       "      <td>109465</td>\n",
       "      <td>Certain</td>\n",
       "      <td>2</td>\n",
       "    </tr>\n",
       "    <tr>\n",
       "      <th>57</th>\n",
       "      <td>109465</td>\n",
       "      <td>Impossible</td>\n",
       "      <td>3</td>\n",
       "    </tr>\n",
       "  </tbody>\n",
       "</table>\n",
       "</div>"
      ],
      "text/plain": [
       "    QuestionId                             MC_Answer  rank\n",
       "0        31772                     \\( \\frac{1}{3} \\)     0\n",
       "3        31772                     \\( \\frac{3}{9} \\)     1\n",
       "1        31772                     \\( \\frac{3}{6} \\)     2\n",
       "2        31772                     \\( \\frac{3}{8} \\)     3\n",
       "5        31774                    \\( \\frac{1}{12} \\)     0\n",
       "4        31774                               \\( 3 \\)     1\n",
       "7        31774                     \\( \\frac{6}{2} \\)     2\n",
       "6        31774                     \\( \\frac{1}{3} \\)     3\n",
       "11       31777                              \\( 72 \\)     0\n",
       "9        31777                              \\( 48 \\)     1\n",
       "10       31777                              \\( 60 \\)     2\n",
       "8        31777                              \\( 24 \\)     3\n",
       "14       31778                               \\( 6 \\)     0\n",
       "13       31778                               \\( 4 \\)     1\n",
       "12       31778                               \\( 3 \\)     2\n",
       "15       31778                               \\( 9 \\)     3\n",
       "16       32829                              \\( 12 \\)     0\n",
       "18       32829                               \\( 4 \\)     1\n",
       "17       32829                              \\( 22 \\)     2\n",
       "19       32829                              \\( 48 \\)     3\n",
       "20       32833                   \\( 3 \\frac{1}{3} \\)     0\n",
       "22       32833                   \\( \\frac{10}{15} \\)     1\n",
       "23       32833                    \\( \\frac{2}{15} \\)     2\n",
       "21       32833                   \\( 5 \\frac{2}{3} \\)     3\n",
       "27       32835                             \\( 6.2 \\)     0\n",
       "24       32835                               \\( 6 \\)     1\n",
       "26       32835                           \\( 6.079 \\)     2\n",
       "25       32835                          \\( 6.0001 \\)     3\n",
       "28       33471                              \\( 15 \\)     0\n",
       "31       33471                               \\( 9 \\)     1\n",
       "30       33471                               \\( 8 \\)     2\n",
       "29       33471                               \\( 3 \\)     3\n",
       "32       33472                   \\( \\frac{11}{15} \\)     0\n",
       "34       33472                    \\( \\frac{3}{15} \\)     1\n",
       "35       33472                     \\( \\frac{3}{8} \\)     2\n",
       "33       33472                   \\( \\frac{11}{30} \\)     3\n",
       "39       33474         \\( \\frac{2}{3}-\\frac{1}{3} \\)     0\n",
       "36       33474  \\( \\frac{1}{3} \\times \\frac{2}{3} \\)     1\n",
       "38       33474    \\( \\frac{2}{3} \\div \\frac{1}{3} \\)     2\n",
       "37       33474         \\( \\frac{1}{3}+\\frac{2}{3} \\)     3\n",
       "41       76870                              \\( 10 \\)     0\n",
       "40       76870                Not enough information     1\n",
       "42       76870                               \\( 5 \\)     2\n",
       "43       76870                               \\( 6 \\)     3\n",
       "45       89443                              \\( -3 \\)     0\n",
       "44       89443                             \\( -13 \\)     1\n",
       "47       89443                               \\( 3 \\)     2\n",
       "46       89443                              \\( 13 \\)     3\n",
       "50       91695                              \\( 26 \\)     0\n",
       "49       91695                              \\( 22 \\)     1\n",
       "51       91695                              \\( 36 \\)     2\n",
       "48       91695                              \\( 20 \\)     3\n",
       "53      104665                        \\( 48 \\) hours     0\n",
       "55      104665                       \\( 768 \\) hours     1\n",
       "54      104665                        \\( 64 \\) hours     2\n",
       "52      104665                       \\( 192 \\) hours     3\n",
       "58      109465                                Likely     0\n",
       "59      109465                              Unlikely     1\n",
       "56      109465                               Certain     2\n",
       "57      109465                            Impossible     3"
      ]
     },
     "execution_count": 53,
     "metadata": {},
     "output_type": "execute_result"
    }
   ],
   "source": [
    "temp = temp.drop('count',axis=1)\n",
    "temp = temp.sort_values(['QuestionId','rank'])\n",
    "temp"
   ]
  },
  {
   "cell_type": "code",
   "execution_count": 54,
   "metadata": {
    "execution": {
     "iopub.execute_input": "2025-09-27T14:44:17.392847Z",
     "iopub.status.busy": "2025-09-27T14:44:17.392221Z",
     "iopub.status.idle": "2025-09-27T14:44:17.471531Z",
     "shell.execute_reply": "2025-09-27T14:44:17.470824Z",
     "shell.execute_reply.started": "2025-09-27T14:44:17.392821Z"
    },
    "scrolled": true
   },
   "outputs": [
    {
     "name": "stdout",
     "output_type": "stream",
     "text": [
      "\n"
     ]
    },
    {
     "data": {
      "text/latex": [
       "Question Id: 31772: What fraction of the shape is not shaded? Give your answer in its simplest form. [Image: A triangle split into 9 equal smaller triangles. 6 of them are shaded.]"
      ],
      "text/plain": [
       "<IPython.core.display.Latex object>"
      ]
     },
     "metadata": {},
     "output_type": "display_data"
    },
    {
     "data": {
      "text/latex": [
       "MC Answer: (A) \\( \\frac{1}{3} \\) (B) \\( \\frac{3}{9} \\) (C) \\( \\frac{3}{6} \\) (D) \\( \\frac{3}{8} \\)\n",
       "\r"
      ],
      "text/plain": [
       "<IPython.core.display.Latex object>"
      ]
     },
     "metadata": {},
     "output_type": "display_data"
    },
    {
     "name": "stdout",
     "output_type": "stream",
     "text": [
      "\n"
     ]
    },
    {
     "data": {
      "text/latex": [
       "Question Id: 31774: Calculate \\( \\frac{1}{2} \\div 6 \\)"
      ],
      "text/plain": [
       "<IPython.core.display.Latex object>"
      ]
     },
     "metadata": {},
     "output_type": "display_data"
    },
    {
     "data": {
      "text/latex": [
       "MC Answer: (A) \\( \\frac{1}{12} \\) (B) \\( 3 \\) (C) \\( \\frac{6}{2} \\) (D) \\( \\frac{1}{3} \\)\n",
       "\r"
      ],
      "text/plain": [
       "<IPython.core.display.Latex object>"
      ]
     },
     "metadata": {},
     "output_type": "display_data"
    },
    {
     "name": "stdout",
     "output_type": "stream",
     "text": [
      "\n"
     ]
    },
    {
     "data": {
      "text/latex": [
       "Question Id: 31777: A box contains \\( 120 \\) counters. The counters are red or blue. \\( \\frac{3}{5} \\) of the counters are red.\n",
       "How many red counters are there?"
      ],
      "text/plain": [
       "<IPython.core.display.Latex object>"
      ]
     },
     "metadata": {},
     "output_type": "display_data"
    },
    {
     "data": {
      "text/latex": [
       "MC Answer: (A) \\( 72 \\) (B) \\( 48 \\) (C) \\( 60 \\) (D) \\( 24 \\)\n",
       "\r"
      ],
      "text/plain": [
       "<IPython.core.display.Latex object>"
      ]
     },
     "metadata": {},
     "output_type": "display_data"
    },
    {
     "name": "stdout",
     "output_type": "stream",
     "text": [
      "\n"
     ]
    },
    {
     "data": {
      "text/latex": [
       "Question Id: 31778: \\( \\frac{A}{10}=\\frac{9}{15} \\) What is the value of \\( A \\) ?"
      ],
      "text/plain": [
       "<IPython.core.display.Latex object>"
      ]
     },
     "metadata": {},
     "output_type": "display_data"
    },
    {
     "data": {
      "text/latex": [
       "MC Answer: (A) \\( 6 \\) (B) \\( 4 \\) (C) \\( 3 \\) (D) \\( 9 \\)\n",
       "\r"
      ],
      "text/plain": [
       "<IPython.core.display.Latex object>"
      ]
     },
     "metadata": {},
     "output_type": "display_data"
    },
    {
     "name": "stdout",
     "output_type": "stream",
     "text": [
      "\n"
     ]
    },
    {
     "data": {
      "text/latex": [
       "Question Id: 32829: \\( 2 y=24 \\) What is the value of \\( y \\) ?"
      ],
      "text/plain": [
       "<IPython.core.display.Latex object>"
      ]
     },
     "metadata": {},
     "output_type": "display_data"
    },
    {
     "data": {
      "text/latex": [
       "MC Answer: (A) \\( 12 \\) (B) \\( 4 \\) (C) \\( 22 \\) (D) \\( 48 \\)\n",
       "\r"
      ],
      "text/plain": [
       "<IPython.core.display.Latex object>"
      ]
     },
     "metadata": {},
     "output_type": "display_data"
    },
    {
     "name": "stdout",
     "output_type": "stream",
     "text": [
      "\n"
     ]
    },
    {
     "data": {
      "text/latex": [
       "Question Id: 32833: Calculate \\( \\frac{2}{3} \\times 5 \\)"
      ],
      "text/plain": [
       "<IPython.core.display.Latex object>"
      ]
     },
     "metadata": {},
     "output_type": "display_data"
    },
    {
     "data": {
      "text/latex": [
       "MC Answer: (A) \\( 3 \\frac{1}{3} \\) (B) \\( \\frac{10}{15} \\) (C) \\( \\frac{2}{15} \\) (D) \\( 5 \\frac{2}{3} \\)\n",
       "\r"
      ],
      "text/plain": [
       "<IPython.core.display.Latex object>"
      ]
     },
     "metadata": {},
     "output_type": "display_data"
    },
    {
     "name": "stdout",
     "output_type": "stream",
     "text": [
      "\n"
     ]
    },
    {
     "data": {
      "text/latex": [
       "Question Id: 32835: Which number is the greatest?"
      ],
      "text/plain": [
       "<IPython.core.display.Latex object>"
      ]
     },
     "metadata": {},
     "output_type": "display_data"
    },
    {
     "data": {
      "text/latex": [
       "MC Answer: (A) \\( 6.2 \\) (B) \\( 6 \\) (C) \\( 6.079 \\) (D) \\( 6.0001 \\)\n",
       "\r"
      ],
      "text/plain": [
       "<IPython.core.display.Latex object>"
      ]
     },
     "metadata": {},
     "output_type": "display_data"
    },
    {
     "name": "stdout",
     "output_type": "stream",
     "text": [
      "\n"
     ]
    },
    {
     "data": {
      "text/latex": [
       "Question Id: 33471: A bag contains \\( 24 \\) yellow and green balls. \\( \\frac{3}{8} \\) of the balls are yellow. How many of the balls are green?"
      ],
      "text/plain": [
       "<IPython.core.display.Latex object>"
      ]
     },
     "metadata": {},
     "output_type": "display_data"
    },
    {
     "data": {
      "text/latex": [
       "MC Answer: (A) \\( 15 \\) (B) \\( 9 \\) (C) \\( 8 \\) (D) \\( 3 \\)\n",
       "\r"
      ],
      "text/plain": [
       "<IPython.core.display.Latex object>"
      ]
     },
     "metadata": {},
     "output_type": "display_data"
    },
    {
     "name": "stdout",
     "output_type": "stream",
     "text": [
      "\n"
     ]
    },
    {
     "data": {
      "text/latex": [
       "Question Id: 33472: \\( \\frac{1}{3}+\\frac{2}{5}= \\)"
      ],
      "text/plain": [
       "<IPython.core.display.Latex object>"
      ]
     },
     "metadata": {},
     "output_type": "display_data"
    },
    {
     "data": {
      "text/latex": [
       "MC Answer: (A) \\( \\frac{11}{15} \\) (B) \\( \\frac{3}{15} \\) (C) \\( \\frac{3}{8} \\) (D) \\( \\frac{11}{30} \\)\n",
       "\r"
      ],
      "text/plain": [
       "<IPython.core.display.Latex object>"
      ]
     },
     "metadata": {},
     "output_type": "display_data"
    },
    {
     "name": "stdout",
     "output_type": "stream",
     "text": [
      "\n"
     ]
    },
    {
     "data": {
      "text/latex": [
       "Question Id: 33474: Sally has \\( \\frac{2}{3} \\) of a whole cake in the fridge. Robert eats \\( \\frac{1}{3} \\) of this piece. What fraction of the whole cake has Robert eaten?\n",
       "Choose the number sentence that would solve the word problem."
      ],
      "text/plain": [
       "<IPython.core.display.Latex object>"
      ]
     },
     "metadata": {},
     "output_type": "display_data"
    },
    {
     "data": {
      "text/latex": [
       "MC Answer: (A) \\( \\frac{2}{3}-\\frac{1}{3} \\) (B) \\( \\frac{1}{3} \\times \\frac{2}{3} \\) (C) \\( \\frac{2}{3} \\div \\frac{1}{3} \\) (D) \\( \\frac{1}{3}+\\frac{2}{3} \\)\n",
       "\r"
      ],
      "text/plain": [
       "<IPython.core.display.Latex object>"
      ]
     },
     "metadata": {},
     "output_type": "display_data"
    },
    {
     "name": "stdout",
     "output_type": "stream",
     "text": [
      "\n"
     ]
    },
    {
     "data": {
      "text/latex": [
       "Question Id: 76870: This is part of a regular polygon. How many sides does it have? [Image: A diagram showing an obtuse angle labelled 144 degrees]"
      ],
      "text/plain": [
       "<IPython.core.display.Latex object>"
      ]
     },
     "metadata": {},
     "output_type": "display_data"
    },
    {
     "data": {
      "text/latex": [
       "MC Answer: (A) \\( 10 \\) (B) Not enough information (C) \\( 5 \\) (D) \\( 6 \\)\n",
       "\r"
      ],
      "text/plain": [
       "<IPython.core.display.Latex object>"
      ]
     },
     "metadata": {},
     "output_type": "display_data"
    },
    {
     "name": "stdout",
     "output_type": "stream",
     "text": [
      "\n"
     ]
    },
    {
     "data": {
      "text/latex": [
       "Question Id: 89443: What number belongs in the box?\n",
       "\\(\n",
       "(-8)-(-5)=\n",
       "\\square\\)"
      ],
      "text/plain": [
       "<IPython.core.display.Latex object>"
      ]
     },
     "metadata": {},
     "output_type": "display_data"
    },
    {
     "data": {
      "text/latex": [
       "MC Answer: (A) \\( -3 \\) (B) \\( -13 \\) (C) \\( 3 \\) (D) \\( 13 \\)\n",
       "\r"
      ],
      "text/plain": [
       "<IPython.core.display.Latex object>"
      ]
     },
     "metadata": {},
     "output_type": "display_data"
    },
    {
     "name": "stdout",
     "output_type": "stream",
     "text": [
      "\n"
     ]
    },
    {
     "data": {
      "text/latex": [
       "Question Id: 91695: Dots have been arranged in these patterns: [Image: Pattern 1 consists of 6 dots, Pattern 2 consists of 10 dots, Pattern 3 consists of 14 dots and Pattern 4 consists of 18 dots] How many dots would there be in Pattern \\( 6 \\) ?"
      ],
      "text/plain": [
       "<IPython.core.display.Latex object>"
      ]
     },
     "metadata": {},
     "output_type": "display_data"
    },
    {
     "data": {
      "text/latex": [
       "MC Answer: (A) \\( 26 \\) (B) \\( 22 \\) (C) \\( 36 \\) (D) \\( 20 \\)\n",
       "\r"
      ],
      "text/plain": [
       "<IPython.core.display.Latex object>"
      ]
     },
     "metadata": {},
     "output_type": "display_data"
    },
    {
     "name": "stdout",
     "output_type": "stream",
     "text": [
      "\n"
     ]
    },
    {
     "data": {
      "text/latex": [
       "Question Id: 104665: It takes \\( 3 \\) people a total of \\( 192 \\) hours to build a wall.\n",
       "\n",
       "How long would it take if \\( 12 \\) people built the same wall?"
      ],
      "text/plain": [
       "<IPython.core.display.Latex object>"
      ]
     },
     "metadata": {},
     "output_type": "display_data"
    },
    {
     "data": {
      "text/latex": [
       "MC Answer: (A) \\( 48 \\) hours (B) \\( 768 \\) hours (C) \\( 64 \\) hours (D) \\( 192 \\) hours\n",
       "\r"
      ],
      "text/plain": [
       "<IPython.core.display.Latex object>"
      ]
     },
     "metadata": {},
     "output_type": "display_data"
    },
    {
     "name": "stdout",
     "output_type": "stream",
     "text": [
      "\n"
     ]
    },
    {
     "data": {
      "text/latex": [
       "Question Id: 109465: The probability of an event occurring is \\( 0.9 \\).\n",
       "\n",
       "Which of the following most accurately describes the likelihood of the event occurring?"
      ],
      "text/plain": [
       "<IPython.core.display.Latex object>"
      ]
     },
     "metadata": {},
     "output_type": "display_data"
    },
    {
     "data": {
      "text/latex": [
       "MC Answer: (A) Likely (B) Unlikely (C) Certain (D) Impossible\n",
       "\r"
      ],
      "text/plain": [
       "<IPython.core.display.Latex object>"
      ]
     },
     "metadata": {},
     "output_type": "display_data"
    }
   ],
   "source": [
    "Qid = temp[\"QuestionId\"].unique() # get unique questionid\n",
    "for q in Qid:\n",
    "    question = trainDF.loc[trainDF.QuestionId==q].iloc[0][\"QuestionText\"] # get Question Text for specific QuestionId\n",
    "    choices = temp.loc[temp[\"QuestionId\"] ==q][\"MC_Answer\"].values #\n",
    "    labels=\"ABCD\" # define labels name\n",
    "    choiceStr = \" \".join([f\"({labels[i]}) {choice}\" for  i, choice in enumerate(choices)])\n",
    "    print()\n",
    "    display(Latex(f\"Question Id: {q}: {question}\"))\n",
    "    display(Latex(f\"MC Answer: {choiceStr}\\n\\r\"))\n",
    "    \n",
    "    # print(f\"question: {question}, choices: {choices}  \\n\\r\")"
   ]
  },
  {
   "cell_type": "code",
   "execution_count": 55,
   "metadata": {
    "execution": {
     "iopub.execute_input": "2025-09-27T14:44:22.530949Z",
     "iopub.status.busy": "2025-09-27T14:44:22.530365Z",
     "iopub.status.idle": "2025-09-27T14:44:22.536114Z",
     "shell.execute_reply": "2025-09-27T14:44:22.535224Z",
     "shell.execute_reply.started": "2025-09-27T14:44:22.530928Z"
    }
   },
   "outputs": [
    {
     "data": {
      "text/plain": [
       "15"
      ]
     },
     "execution_count": 55,
     "metadata": {},
     "output_type": "execute_result"
    }
   ],
   "source": [
    "len(Qid)"
   ]
  },
  {
   "cell_type": "code",
   "execution_count": 56,
   "metadata": {
    "execution": {
     "iopub.execute_input": "2025-09-27T14:44:24.409708Z",
     "iopub.status.busy": "2025-09-27T14:44:24.409412Z",
     "iopub.status.idle": "2025-09-27T14:44:27.977193Z",
     "shell.execute_reply": "2025-09-27T14:44:27.976534Z",
     "shell.execute_reply.started": "2025-09-27T14:44:24.409686Z"
    }
   },
   "outputs": [],
   "source": [
    "clearMemory()"
   ]
  },
  {
   "cell_type": "markdown",
   "metadata": {},
   "source": [
    "<!-- ### Undersampling is simple way to reduce impact for training imbalance class -->\n",
    "# Imbalance Class Handling\n",
    "To address the extreme class imbalance in your training dataset, you can apply sampling techniques to create a more balanced dataset for fine-tuning. Here are common and effective approaches:\n",
    "\n",
    "### Undersampling the Majority Classes\n",
    "Randomly remove samples from highly frequent classes (e.g., label 37 with 14,802 samples) to reduce their dominance.\n",
    "\n",
    "Techniques like Near Miss or Tomek Links select majority samples close to minority samples to keep important points and remove redundant ones.\n",
    "\n",
    "Downsampling ensures batches contain more representative samples of minority classes, helping the model learn minority patterns better.\n",
    "\n",
    "### Oversampling the Minority Classes\n",
    "Increase the number of samples in minority classes by replicating existing samples or synthetically generating new ones (e.g., SMOTE or Perceptual Borderline SMOTE).\n",
    "\n",
    "Synthetic oversampling creates new minority samples by interpolating between nearest neighbors, improving representation without losing information.\n",
    "\n",
    "### Hybrid Sampling\n",
    "Combine undersampling and oversampling to balance the dataset effectively without losing valuable majority class information.\n",
    "\n",
    "For example, reduce majority class samples moderately and apply synthetic oversampling to minority classes.\n",
    "\n",
    "Hybrid methods have been shown to perform well in highly imbalanced multi-class settings.\n",
    "\n",
    "## Additional Suggestions\n",
    "- Class Weights: Alternatively or additionally, assign higher loss weights to minority classes during training to force the model to pay more attention to them without changing the dataset distribution.\n",
    "\n",
    "- Experiment: It’s important to experiment with the degree of under- and oversampling as well as weighting to optimize balanced learning.\n",
    "\n",
    "\n",
    "By applying these resampling strategies, the data balance improves, which can help stabilize metrics like mAP during fine-tuning and improve overall model robustness across all classes.To address the extreme class imbalance in your training dataset, a common solution is to use sampling techniques to balance the dataset:\n",
    "\n",
    "- Undersampling: Reduce samples from majority classes by randomly removing some instances or using informed methods like Near Miss or Tomek Links, which selectively remove samples from majority classes near minority class boundaries. This prevents the model from overwhelming bias towards large classes.\n",
    "\n",
    "- Oversampling: Increase samples from minority classes by duplicating instances or generating synthetic samples using methods like SMOTE or Perceptual Borderline SMOTE, which interpolate between minority samples to create new, plausible instances.\n",
    "\n",
    "- Hybrid methods: Combine undersampling of large classes with oversampling of small classes to maintain data diversity and balance effectively.\n",
    "\n",
    "- Class weighting: Alternatively, or in addition, use class-weighted loss functions to penalize misclassification of minority classes more heavily without changing data distribution.\n",
    "\n",
    "It's recommended to experiment with these approaches and their parameters, aiming for a balanced representation that helps the model learn all classes well and stabilizes performance metrics like mAP during fine-tuning.\n",
    "\n",
    "\n",
    "### how to apply class weight in transformers\n",
    "To apply class weights in fine-tuning transformers with PyTorch, you typically define a weighted loss function that penalizes misclassification of underrepresented classes more heavily. Here's how you can do it:\n",
    "\n",
    "### How to Apply Class Weights in Transformers (PyTorch)\n",
    "Calculate class weights: Create a tensor of class weights inversely proportional to class frequencies.\n",
    "\n",
    "- Use weighted loss function: Pass the class weights to PyTorch's nn.CrossEntropyLoss(weight=class_weights). This makes the loss sensitive to class imbalance.\n",
    "\n",
    "Integrate with Hugging Face Trainer:\n",
    "\n",
    "Subclass the Trainer class.\n",
    "\n",
    "Override the compute_loss method to apply the weighted loss function instead of the default one.\n",
    "\n",
    "Example Code\n",
    "python\n",
    "import torch\n",
    "from torch import nn\n",
    "from transformers import Trainer\n",
    "\n",
    "# Define class weights as a torch tensor, for example:\n",
    "class_weights = torch.tensor([0.1, 0.3, 0.6], device='cuda')  # Replace with actual weights\n",
    "\n",
    "# Custom Trainer to use weighted loss\n",
    "```\n",
    "class CustomTrainer(Trainer):\n",
    "    def compute_loss(self, model, inputs, return_outputs=False):\n",
    "        labels = inputs.get(\"labels\")\n",
    "        outputs = model(**inputs)\n",
    "        logits = outputs.get('logits')\n",
    "        loss_fct = nn.CrossEntropyLoss(weight=class_weights)\n",
    "        loss = loss_fct(logits.view(-1, model.config.num_labels), labels.view(-1))\n",
    "        return (loss, outputs) if return_outputs else loss\n",
    "```\n",
    "\n",
    "This approach lets the transformer model focus more on minority classes by increasing their contribution to the loss during training. The class weights tensor should be calculated based on class frequencies from your dataset.\n",
    "\n",
    "This method is the standard way to apply class weights during transformer fine-tuning in PyTorch and Hugging Face Trainer.\n",
    "\n"
   ]
  },
  {
   "cell_type": "code",
   "execution_count": 57,
   "metadata": {
    "execution": {
     "iopub.execute_input": "2025-09-27T14:44:27.979006Z",
     "iopub.status.busy": "2025-09-27T14:44:27.978687Z",
     "iopub.status.idle": "2025-09-27T14:44:27.984360Z",
     "shell.execute_reply": "2025-09-27T14:44:27.983724Z",
     "shell.execute_reply.started": "2025-09-27T14:44:27.978980Z"
    }
   },
   "outputs": [
    {
     "data": {
      "text/plain": [
       "2960"
      ]
     },
     "execution_count": 57,
     "metadata": {},
     "output_type": "execute_result"
    }
   ],
   "source": [
    "sampleValue =  14802 //5\n",
    "sampleValue"
   ]
  },
  {
   "cell_type": "code",
   "execution_count": 58,
   "metadata": {
    "execution": {
     "iopub.execute_input": "2025-09-27T14:44:27.985436Z",
     "iopub.status.busy": "2025-09-27T14:44:27.985141Z",
     "iopub.status.idle": "2025-09-27T14:44:27.999456Z",
     "shell.execute_reply": "2025-09-27T14:44:27.998574Z",
     "shell.execute_reply.started": "2025-09-27T14:44:27.985417Z"
    }
   },
   "outputs": [
    {
     "data": {
      "text/plain": [
       "np.int64(3)"
      ]
     },
     "execution_count": 58,
     "metadata": {},
     "output_type": "execute_result"
    }
   ],
   "source": [
    "# median value = 50 \n",
    "(trainDF[\"label\"].value_counts() > sampleValue).sum() # number of class > 50 counts"
   ]
  },
  {
   "cell_type": "markdown",
   "metadata": {},
   "source": [
    "## Use Mix Undersample and Oversample Improve performance"
   ]
  },
  {
   "cell_type": "code",
   "execution_count": 59,
   "metadata": {
    "execution": {
     "iopub.execute_input": "2025-09-27T14:44:28.069784Z",
     "iopub.status.busy": "2025-09-27T14:44:28.069132Z",
     "iopub.status.idle": "2025-09-27T14:44:28.074273Z",
     "shell.execute_reply": "2025-09-27T14:44:28.073560Z",
     "shell.execute_reply.started": "2025-09-27T14:44:28.069759Z"
    }
   },
   "outputs": [],
   "source": [
    "# Assume df is your DataFrame and 'label' is your class column\n",
    "desired_count = sampleValue #50\n",
    "def resample_group_mix(group):\n",
    "    '''\n",
    "    Resample with hybird undersample and Oversample\n",
    "    '''\n",
    "    n = len(group)\n",
    "    if n > desired_count:\n",
    "        # Undersample if more than desired_count\n",
    "        return group.sample(n=desired_count, random_state=42)\n",
    "    elif n < desired_count:\n",
    "        # Oversample with replacement if less than desired_count\n",
    "        return group.sample(n=desired_count, replace=True, random_state=42)\n",
    "    else:\n",
    "        # Keep as is if exactly desired_count\n",
    "        return group"
   ]
  },
  {
   "cell_type": "code",
   "execution_count": 60,
   "metadata": {
    "execution": {
     "iopub.execute_input": "2025-09-27T14:44:28.236746Z",
     "iopub.status.busy": "2025-09-27T14:44:28.236439Z",
     "iopub.status.idle": "2025-09-27T14:44:28.241788Z",
     "shell.execute_reply": "2025-09-27T14:44:28.240854Z",
     "shell.execute_reply.started": "2025-09-27T14:44:28.236724Z"
    }
   },
   "outputs": [],
   "source": [
    "# conditional oversample \n",
    "oversample_count = 1000\n",
    "def resample_group_oversample(group):\n",
    "    '''\n",
    "    Resample with condition Oversample , keep major\n",
    "    '''\n",
    "    n = len(group)\n",
    "    if n < oversample_count:\n",
    "        # Oversample with replacement if less than desired_count\n",
    "        return group.sample(n=oversample_count, replace=True, random_state=42)\n",
    "    else:\n",
    "        # Keep as is if exactly desired_count\n",
    "        return group\n",
    "    "
   ]
  },
  {
   "cell_type": "code",
   "execution_count": 61,
   "metadata": {
    "execution": {
     "iopub.execute_input": "2025-09-27T14:44:28.384707Z",
     "iopub.status.busy": "2025-09-27T14:44:28.383932Z",
     "iopub.status.idle": "2025-09-27T14:44:28.453832Z",
     "shell.execute_reply": "2025-09-27T14:44:28.452957Z",
     "shell.execute_reply.started": "2025-09-27T14:44:28.384681Z"
    }
   },
   "outputs": [
    {
     "name": "stdout",
     "output_type": "stream",
     "text": [
      "label\n",
      "37    14802\n",
      "36     6542\n",
      "64     5265\n",
      "13     1446\n",
      "0      1000\n",
      "      ...  \n",
      "58     1000\n",
      "60     1000\n",
      "61     1000\n",
      "62     1000\n",
      "63     1000\n",
      "Name: count, Length: 65, dtype: int64\n"
     ]
    },
    {
     "name": "stderr",
     "output_type": "stream",
     "text": [
      "/tmp/ipykernel_312443/4246594355.py:5: DeprecationWarning: DataFrameGroupBy.apply operated on the grouping columns. This behavior is deprecated, and in a future version of pandas the grouping columns will be excluded from the operation. Either pass `include_groups=False` to exclude the groupings or explicitly select the grouping columns after groupby to silence this warning.\n",
      "  trainDF_balanced = trainDF.groupby('label', group_keys=False).apply(resample_group_oversample)\n"
     ]
    }
   ],
   "source": [
    "#\n",
    "\n",
    "# Group by class and sample min(desired_count, current_count) from each class\n",
    "# trainDF_balanced = trainDF.groupby('label', group_keys=False).apply(lambda x: x.sample(n=min(len(x), desired_count), random_state=42))\n",
    "trainDF_balanced = trainDF.groupby('label', group_keys=False).apply(resample_group_oversample)\n",
    "\n",
    "print(trainDF_balanced['label'].value_counts())"
   ]
  },
  {
   "cell_type": "code",
   "execution_count": 62,
   "metadata": {
    "execution": {
     "iopub.execute_input": "2025-09-27T14:44:32.263276Z",
     "iopub.status.busy": "2025-09-27T14:44:32.262659Z",
     "iopub.status.idle": "2025-09-27T14:44:32.270544Z",
     "shell.execute_reply": "2025-09-27T14:44:32.269785Z",
     "shell.execute_reply.started": "2025-09-27T14:44:32.263249Z"
    },
    "scrolled": true
   },
   "outputs": [
    {
     "data": {
      "application/vnd.microsoft.datawrangler.viewer.v0+json": {
       "columns": [
        {
         "name": "label",
         "rawType": "int64",
         "type": "integer"
        },
        {
         "name": "count",
         "rawType": "int64",
         "type": "integer"
        }
       ],
       "ref": "9e7a831d-1606-452f-bd29-b7c76bd75af9",
       "rows": [
        [
         "37",
         "14802"
        ],
        [
         "36",
         "6542"
        ],
        [
         "64",
         "5265"
        ],
        [
         "13",
         "1446"
        ],
        [
         "0",
         "1000"
        ],
        [
         "5",
         "1000"
        ],
        [
         "1",
         "1000"
        ],
        [
         "3",
         "1000"
        ],
        [
         "2",
         "1000"
        ],
        [
         "8",
         "1000"
        ],
        [
         "9",
         "1000"
        ],
        [
         "11",
         "1000"
        ],
        [
         "10",
         "1000"
        ],
        [
         "12",
         "1000"
        ],
        [
         "6",
         "1000"
        ],
        [
         "7",
         "1000"
        ],
        [
         "4",
         "1000"
        ],
        [
         "17",
         "1000"
        ],
        [
         "18",
         "1000"
        ],
        [
         "19",
         "1000"
        ],
        [
         "20",
         "1000"
        ],
        [
         "21",
         "1000"
        ],
        [
         "22",
         "1000"
        ],
        [
         "23",
         "1000"
        ],
        [
         "24",
         "1000"
        ],
        [
         "25",
         "1000"
        ],
        [
         "26",
         "1000"
        ],
        [
         "27",
         "1000"
        ],
        [
         "28",
         "1000"
        ],
        [
         "29",
         "1000"
        ],
        [
         "14",
         "1000"
        ],
        [
         "15",
         "1000"
        ],
        [
         "16",
         "1000"
        ],
        [
         "32",
         "1000"
        ],
        [
         "31",
         "1000"
        ],
        [
         "30",
         "1000"
        ],
        [
         "34",
         "1000"
        ],
        [
         "35",
         "1000"
        ],
        [
         "38",
         "1000"
        ],
        [
         "39",
         "1000"
        ],
        [
         "33",
         "1000"
        ],
        [
         "41",
         "1000"
        ],
        [
         "42",
         "1000"
        ],
        [
         "43",
         "1000"
        ],
        [
         "44",
         "1000"
        ],
        [
         "45",
         "1000"
        ],
        [
         "46",
         "1000"
        ],
        [
         "47",
         "1000"
        ],
        [
         "40",
         "1000"
        ],
        [
         "48",
         "1000"
        ]
       ],
       "shape": {
        "columns": 1,
        "rows": 55
       }
      },
      "text/plain": [
       "label\n",
       "37    14802\n",
       "36     6542\n",
       "64     5265\n",
       "13     1446\n",
       "0      1000\n",
       "5      1000\n",
       "1      1000\n",
       "3      1000\n",
       "2      1000\n",
       "8      1000\n",
       "9      1000\n",
       "11     1000\n",
       "10     1000\n",
       "12     1000\n",
       "6      1000\n",
       "7      1000\n",
       "4      1000\n",
       "17     1000\n",
       "18     1000\n",
       "19     1000\n",
       "20     1000\n",
       "21     1000\n",
       "22     1000\n",
       "23     1000\n",
       "24     1000\n",
       "25     1000\n",
       "26     1000\n",
       "27     1000\n",
       "28     1000\n",
       "29     1000\n",
       "14     1000\n",
       "15     1000\n",
       "16     1000\n",
       "32     1000\n",
       "31     1000\n",
       "30     1000\n",
       "34     1000\n",
       "35     1000\n",
       "38     1000\n",
       "39     1000\n",
       "33     1000\n",
       "41     1000\n",
       "42     1000\n",
       "43     1000\n",
       "44     1000\n",
       "45     1000\n",
       "46     1000\n",
       "47     1000\n",
       "40     1000\n",
       "48     1000\n",
       "49     1000\n",
       "51     1000\n",
       "50     1000\n",
       "53     1000\n",
       "54     1000\n",
       "Name: count, dtype: int64"
      ]
     },
     "execution_count": 62,
     "metadata": {},
     "output_type": "execute_result"
    }
   ],
   "source": [
    "trainDF_balanced['label'].value_counts()[:55]"
   ]
  },
  {
   "cell_type": "code",
   "execution_count": 63,
   "metadata": {
    "execution": {
     "iopub.execute_input": "2025-09-27T14:44:32.526112Z",
     "iopub.status.busy": "2025-09-27T14:44:32.525840Z",
     "iopub.status.idle": "2025-09-27T14:44:33.092501Z",
     "shell.execute_reply": "2025-09-27T14:44:33.091681Z",
     "shell.execute_reply.started": "2025-09-27T14:44:32.526093Z"
    }
   },
   "outputs": [
    {
     "data": {
      "image/png": "[encoded data removed]",
      "text/plain": [
       "<Figure size 640x480 with 1 Axes>"
      ]
     },
     "metadata": {},
     "output_type": "display_data"
    }
   ],
   "source": [
    "trainDF_balanced['label'].value_counts().plot(kind=\"bar\", title=\"Distribution Label\");"
   ]
  },
  {
   "cell_type": "code",
   "execution_count": 64,
   "metadata": {
    "execution": {
     "iopub.execute_input": "2025-09-27T14:44:33.094381Z",
     "iopub.status.busy": "2025-09-27T14:44:33.094015Z",
     "iopub.status.idle": "2025-09-27T14:44:33.113457Z",
     "shell.execute_reply": "2025-09-27T14:44:33.112679Z",
     "shell.execute_reply.started": "2025-09-27T14:44:33.094359Z"
    }
   },
   "outputs": [],
   "source": [
    "trainDF_balanced = trainDF_balanced.reset_index(drop=True)"
   ]
  },
  {
   "cell_type": "code",
   "execution_count": 65,
   "metadata": {
    "execution": {
     "iopub.execute_input": "2025-09-27T14:44:33.114587Z",
     "iopub.status.busy": "2025-09-27T14:44:33.114316Z",
     "iopub.status.idle": "2025-09-27T14:44:33.128195Z",
     "shell.execute_reply": "2025-09-27T14:44:33.127353Z",
     "shell.execute_reply.started": "2025-09-27T14:44:33.114566Z"
    }
   },
   "outputs": [
    {
     "data": {
      "application/vnd.microsoft.datawrangler.viewer.v0+json": {
       "columns": [
        {
         "name": "index",
         "rawType": "int64",
         "type": "integer"
        },
        {
         "name": "row_id",
         "rawType": "int64",
         "type": "integer"
        },
        {
         "name": "QuestionId",
         "rawType": "int64",
         "type": "integer"
        },
        {
         "name": "QuestionText",
         "rawType": "object",
         "type": "string"
        },
        {
         "name": "MC_Answer",
         "rawType": "object",
         "type": "string"
        },
        {
         "name": "StudentExplanation",
         "rawType": "object",
         "type": "string"
        },
        {
         "name": "Category",
         "rawType": "object",
         "type": "string"
        },
        {
         "name": "Misconception",
         "rawType": "object",
         "type": "string"
        },
        {
         "name": "target",
         "rawType": "object",
         "type": "string"
        },
        {
         "name": "label",
         "rawType": "int64",
         "type": "integer"
        },
        {
         "name": "is_correct",
         "rawType": "int64",
         "type": "integer"
        }
       ],
       "ref": "6bbc82e4-692c-4255-b334-b431b48d42bc",
       "rows": [
        [
         "0",
         "14350",
         "31778",
         "\\( \\frac{A}{10}=\\frac{9}{15} \\) What is the value of \\( A \\) ?",
         "\\( 9 \\)",
         "This is because youu can time both 10 and 15 to get 30. Then, the 9 turns into 18 so you get 18/30 which is easy to understand.",
         "False_Correct",
         "NA",
         "False_Correct:NA",
         "0",
         "0"
        ],
        [
         "1",
         "25280",
         "33472",
         "\\( \\frac{1}{3}+\\frac{2}{5}= \\)",
         "\\( \\frac{11}{30} \\)",
         "i know this because a common denominator is 15 so then the calculation would be changed to 5/15 add 6/15 and the answer to that would be 11/15 my answer.",
         "False_Correct",
         "NA",
         "False_Correct:NA",
         "0",
         "0"
        ],
        [
         "2",
         "11228",
         "31778",
         "\\( \\frac{A}{10}=\\frac{9}{15} \\) What is the value of \\( A \\) ?",
         "\\( 3 \\)",
         "i divided by 3 and timesed by 2",
         "False_Correct",
         "NA",
         "False_Correct:NA",
         "0",
         "0"
        ],
        [
         "3",
         "2945",
         "31772",
         "What fraction of the shape is not shaded? Give your answer in its simplest form. [Image: A triangle split into 9 equal smaller triangles. 6 of them are shaded.]",
         "\\( \\frac{3}{9} \\)",
         "3 outt of 9 are not-shaded. also 1/3",
         "False_Correct",
         "NA",
         "False_Correct:NA",
         "0",
         "0"
        ],
        [
         "4",
         "16143",
         "32829",
         "\\( 2 y=24 \\) What is the value of \\( y \\) ?",
         "\\( 22 \\)",
         "24%2=12\n12  so the answer is 12 because the 2xy=24 you think that and than divide 24%2=12 so 12=y",
         "False_Correct",
         "NA",
         "False_Correct:NA",
         "0",
         "0"
        ],
        [
         "5",
         "8249",
         "31777",
         "A box contains \\( 120 \\) counters. The counters are red or blue. \\( \\frac{3}{5} \\) of the counters are red.\nHow many red counters are there?",
         "\\( 48 \\)",
         "120 divided by 5 is 24\n24 times 3 is 72, so there are 72 red counters",
         "False_Correct",
         "NA",
         "False_Correct:NA",
         "0",
         "0"
        ],
        [
         "6",
         "25305",
         "33472",
         "\\( \\frac{1}{3}+\\frac{2}{5}= \\)",
         "\\( \\frac{11}{30} \\)",
         "make the denominators the same - it becomes 15\n1 times 5 = 5\n2 times 3 =6\n5+6=1\nso its 11/15",
         "False_Correct",
         "NA",
         "False_Correct:NA",
         "0",
         "0"
        ],
        [
         "7",
         "3485",
         "31772",
         "What fraction of the shape is not shaded? Give your answer in its simplest form. [Image: A triangle split into 9 equal smaller triangles. 6 of them are shaded.]",
         "\\( \\frac{3}{9} \\)",
         "I think this because 3 divided by 3 is equal 1 and 9 divided 3 is 3",
         "False_Correct",
         "NA",
         "False_Correct:NA",
         "0",
         "0"
        ],
        [
         "8",
         "14350",
         "31778",
         "\\( \\frac{A}{10}=\\frac{9}{15} \\) What is the value of \\( A \\) ?",
         "\\( 9 \\)",
         "This is because youu can time both 10 and 15 to get 30. Then, the 9 turns into 18 so you get 18/30 which is easy to understand.",
         "False_Correct",
         "NA",
         "False_Correct:NA",
         "0",
         "0"
        ],
        [
         "9",
         "19473",
         "32833",
         "Calculate \\( \\frac{2}{3} \\times 5 \\)",
         "\\( \\frac{2}{15} \\)",
         "i think the answer is b because 2/3 x 5/1 = 10/3 and 10/3 simplified is 3 1/3",
         "False_Correct",
         "NA",
         "False_Correct:NA",
         "0",
         "0"
        ],
        [
         "10",
         "32267",
         "89443",
         "What number belongs in the box?\n\\(\n(-8)-(-5)=\n\\square\\)",
         "\\( 3 \\)",
         "if you have two negatives, the sum is positive, so -8) minus (-5) is (-8 + 5) = (-3).",
         "False_Correct",
         "NA",
         "False_Correct:NA",
         "0",
         "0"
        ],
        [
         "11",
         "32499",
         "91695",
         "Dots have been arranged in these patterns: [Image: Pattern 1 consists of 6 dots, Pattern 2 consists of 10 dots, Pattern 3 consists of 14 dots and Pattern 4 consists of 18 dots] How many dots would there be in Pattern \\( 6 \\) ?",
         "\\( 22 \\)",
         "Did I tell you to just add 8?",
         "False_Correct",
         "NA",
         "False_Correct:NA",
         "0",
         "0"
        ],
        [
         "12",
         "8282",
         "31777",
         "A box contains \\( 120 \\) counters. The counters are red or blue. \\( \\frac{3}{5} \\) of the counters are red.\nHow many red counters are there?",
         "\\( 48 \\)",
         "3/5 is 6/10. 1/10 is 12. 12 multiplied by 6 is 72",
         "False_Correct",
         "NA",
         "False_Correct:NA",
         "0",
         "0"
        ],
        [
         "13",
         "27172",
         "33474",
         "Sally has \\( \\frac{2}{3} \\) of a whole cake in the fridge. Robert eats \\( \\frac{1}{3} \\) of this piece. What fraction of the whole cake has Robert eaten?\nChoose the number sentence that would solve the word problem.",
         "\\( \\frac{2}{3} \\div \\frac{1}{3} \\)",
         "timsing is the same as \"of\" so when they say 1/3 x 2/3 that is the same as 1/3 of 2/3 .",
         "False_Correct",
         "NA",
         "False_Correct:NA",
         "0",
         "0"
        ],
        [
         "14",
         "11055",
         "31778",
         "\\( \\frac{A}{10}=\\frac{9}{15} \\) What is the value of \\( A \\) ?",
         "\\( 3 \\)",
         "I worked out 3/5 of 60 then times it by 2",
         "False_Correct",
         "NA",
         "False_Correct:NA",
         "0",
         "0"
        ],
        [
         "15",
         "18682",
         "32833",
         "Calculate \\( \\frac{2}{3} \\times 5 \\)",
         "\\( \\frac{10}{15} \\)",
         "because you put the 5 over 1 and then multiply the fractions",
         "False_Correct",
         "NA",
         "False_Correct:NA",
         "0",
         "0"
        ],
        [
         "16",
         "14276",
         "31778",
         "\\( \\frac{A}{10}=\\frac{9}{15} \\) What is the value of \\( A \\) ?",
         "\\( 9 \\)",
         "9/15 is equal to 3/5 and to get A/10 . And if you times  the denominator and numerator  of 3/5 by 2   to get an equivalent fraction you will get 6/10.",
         "False_Correct",
         "NA",
         "False_Correct:NA",
         "0",
         "0"
        ],
        [
         "17",
         "14369",
         "31778",
         "\\( \\frac{A}{10}=\\frac{9}{15} \\) What is the value of \\( A \\) ?",
         "\\( 9 \\)",
         "because it is the same as 9/15",
         "False_Correct",
         "NA",
         "False_Correct:NA",
         "0",
         "0"
        ],
        [
         "18",
         "23240",
         "33471",
         "A bag contains \\( 24 \\) yellow and green balls. \\( \\frac{3}{8} \\) of the balls are yellow. How many of the balls are green?",
         "\\( 9 \\)",
         "because 3/8 of 24 is 9 and 24-9=15 so 15 is whats left",
         "False_Correct",
         "NA",
         "False_Correct:NA",
         "0",
         "0"
        ],
        [
         "19",
         "20234",
         "32835",
         "Which number is the greatest?",
         "\\( 6.079 \\)",
         "6.2 is the greatest because it could be as big as 6.3000000.",
         "False_Correct",
         "NA",
         "False_Correct:NA",
         "0",
         "0"
        ],
        [
         "20",
         "22998",
         "33471",
         "A bag contains \\( 24 \\) yellow and green balls. \\( \\frac{3}{8} \\) of the balls are yellow. How many of the balls are green?",
         "\\( 9 \\)",
         "15 because you divided 24 by 8 and times it by 3, then took it away from 24.",
         "False_Correct",
         "NA",
         "False_Correct:NA",
         "0",
         "0"
        ],
        [
         "21",
         "7977",
         "31777",
         "A box contains \\( 120 \\) counters. The counters are red or blue. \\( \\frac{3}{5} \\) of the counters are red.\nHow many red counters are there?",
         "\\( 24 \\)",
         "120 divided by 5 equals 24 which times by 3 is 72 which is my corrected answer.",
         "False_Correct",
         "NA",
         "False_Correct:NA",
         "0",
         "0"
        ],
        [
         "22",
         "2427",
         "31772",
         "What fraction of the shape is not shaded? Give your answer in its simplest form. [Image: A triangle split into 9 equal smaller triangles. 6 of them are shaded.]",
         "\\( \\frac{3}{6} \\)",
         "Because the fraction is 3/9 and if you simplify that by three (because 3 and 9 are both in the three times tables) then you get 1/3",
         "False_Correct",
         "NA",
         "False_Correct:NA",
         "0",
         "0"
        ],
        [
         "23",
         "11055",
         "31778",
         "\\( \\frac{A}{10}=\\frac{9}{15} \\) What is the value of \\( A \\) ?",
         "\\( 3 \\)",
         "I worked out 3/5 of 60 then times it by 2",
         "False_Correct",
         "NA",
         "False_Correct:NA",
         "0",
         "0"
        ],
        [
         "24",
         "25212",
         "33472",
         "\\( \\frac{1}{3}+\\frac{2}{5}= \\)",
         "\\( \\frac{11}{30} \\)",
         "1/3x2/5= 11/15.u do 5x1/3=5/15 then u add 5/15+6/15=11/15",
         "False_Correct",
         "NA",
         "False_Correct:NA",
         "0",
         "0"
        ],
        [
         "25",
         "5076",
         "31774",
         "Calculate \\( \\frac{1}{2} \\div 6 \\)",
         "\\( 3 \\)",
         "I know the answer is 1/12 because when you do KFC (Keep Flipp Change)I got the correct answer.",
         "False_Correct",
         "NA",
         "False_Correct:NA",
         "0",
         "0"
        ],
        [
         "26",
         "20233",
         "32835",
         "Which number is the greatest?",
         "\\( 6.079 \\)",
         "6.2 is the greatest because it could be  6.20000",
         "False_Correct",
         "NA",
         "False_Correct:NA",
         "0",
         "0"
        ],
        [
         "27",
         "25344",
         "33472",
         "\\( \\frac{1}{3}+\\frac{2}{5}= \\)",
         "\\( \\frac{3}{15} \\)",
         "2/5 = 6/15 and 1/3 = 5/15 so add them together and you get 11/15.",
         "False_Correct",
         "NA",
         "False_Correct:NA",
         "0",
         "0"
        ],
        [
         "28",
         "25301",
         "33472",
         "\\( \\frac{1}{3}+\\frac{2}{5}= \\)",
         "\\( \\frac{11}{30} \\)",
         "if you multiply 5x3=15 then you do 5*1=5 and 3*2=6 and 6 plus 5 is 11 then it would be 11/15",
         "False_Correct",
         "NA",
         "False_Correct:NA",
         "0",
         "0"
        ],
        [
         "29",
         "3485",
         "31772",
         "What fraction of the shape is not shaded? Give your answer in its simplest form. [Image: A triangle split into 9 equal smaller triangles. 6 of them are shaded.]",
         "\\( \\frac{3}{9} \\)",
         "I think this because 3 divided by 3 is equal 1 and 9 divided 3 is 3",
         "False_Correct",
         "NA",
         "False_Correct:NA",
         "0",
         "0"
        ],
        [
         "30",
         "25237",
         "33472",
         "\\( \\frac{1}{3}+\\frac{2}{5}= \\)",
         "\\( \\frac{11}{30} \\)",
         "If you convert both of them unto 15s, you get 1/3=5/15 and 2/5=6/15, so 5/15+6-15=11/15.",
         "False_Correct",
         "NA",
         "False_Correct:NA",
         "0",
         "0"
        ],
        [
         "31",
         "27253",
         "33474",
         "Sally has \\( \\frac{2}{3} \\) of a whole cake in the fridge. Robert eats \\( \\frac{1}{3} \\) of this piece. What fraction of the whole cake has Robert eaten?\nChoose the number sentence that would solve the word problem.",
         "\\( \\frac{2}{3}-\\frac{1}{3} \\)",
         "because 2 3rds minus 1 3rd is 1 3rd which is the correct answer",
         "False_Correct",
         "NA",
         "False_Correct:NA",
         "0",
         "0"
        ],
        [
         "32",
         "8011",
         "31777",
         "A box contains \\( 120 \\) counters. The counters are red or blue. \\( \\frac{3}{5} \\) of the counters are red.\nHow many red counters are there?",
         "\\( 24 \\)",
         "Because I first did 3/5 of 120 which was 72 and that is the amount of red counters because there were 3/5",
         "False_Correct",
         "NA",
         "False_Correct:NA",
         "0",
         "0"
        ],
        [
         "33",
         "3676",
         "31772",
         "What fraction of the shape is not shaded? Give your answer in its simplest form. [Image: A triangle split into 9 equal smaller triangles. 6 of them are shaded.]",
         "\\( \\frac{3}{9} \\)",
         "In total there are 9 triangles and there are 6 shaded in and 3 are not. Which gives you the answer 3/9 which can be divided by 3 which equals 1/3",
         "False_Correct",
         "NA",
         "False_Correct:NA",
         "0",
         "0"
        ],
        [
         "34",
         "11163",
         "31778",
         "\\( \\frac{A}{10}=\\frac{9}{15} \\) What is the value of \\( A \\) ?",
         "\\( 3 \\)",
         "because 9/15 in its simplest form is 3/5 so you times that by 2 to find a",
         "False_Correct",
         "NA",
         "False_Correct:NA",
         "0",
         "0"
        ],
        [
         "35",
         "7874",
         "31774",
         "Calculate \\( \\frac{1}{2} \\div 6 \\)",
         "\\( \\frac{6}{2} \\)",
         "because when you divide fractions you keep the first fraction(1/2) swap the division symbol for the x symbol and swap the second fraction round(for example 1/3 becomes 3/1).\nso you are left with 1/2 x 1/6.\n1x1=1, 2x6=12:1/12",
         "False_Correct",
         "NA",
         "False_Correct:NA",
         "0",
         "0"
        ],
        [
         "36",
         "32915",
         "91695",
         "Dots have been arranged in these patterns: [Image: Pattern 1 consists of 6 dots, Pattern 2 consists of 10 dots, Pattern 3 consists of 14 dots and Pattern 4 consists of 18 dots] How many dots would there be in Pattern \\( 6 \\) ?",
         "\\( 22 \\)",
         "i think this because every time a new pattern happens, 4 dots are added. in pattern 4, if there is 18 dots, pattern 6 would be 26",
         "False_Correct",
         "NA",
         "False_Correct:NA",
         "0",
         "0"
        ],
        [
         "37",
         "8016",
         "31777",
         "A box contains \\( 120 \\) counters. The counters are red or blue. \\( \\frac{3}{5} \\) of the counters are red.\nHow many red counters are there?",
         "\\( 24 \\)",
         "Because we divided 120 by 5, and we got the answer 24, and then we multiplied 24 by 3,\n24x3=72",
         "False_Correct",
         "NA",
         "False_Correct:NA",
         "0",
         "0"
        ],
        [
         "38",
         "25260",
         "33472",
         "\\( \\frac{1}{3}+\\frac{2}{5}= \\)",
         "\\( \\frac{11}{30} \\)",
         "because their lowest common denominator is 15 so they become 5/15 and 6/15 those added is 11/15",
         "False_Correct",
         "NA",
         "False_Correct:NA",
         "0",
         "0"
        ],
        [
         "39",
         "32944",
         "91695",
         "Dots have been arranged in these patterns: [Image: Pattern 1 consists of 6 dots, Pattern 2 consists of 10 dots, Pattern 3 consists of 14 dots and Pattern 4 consists of 18 dots] How many dots would there be in Pattern \\( 6 \\) ?",
         "\\( 22 \\)",
         "i think this is because every time a new pattern happens, 4 dots are added. so in pattern 4, if there are 18 dots, in the next pattern (pattern 6), it would be 26 dots.",
         "False_Correct",
         "NA",
         "False_Correct:NA",
         "0",
         "0"
        ],
        [
         "40",
         "25301",
         "33472",
         "\\( \\frac{1}{3}+\\frac{2}{5}= \\)",
         "\\( \\frac{11}{30} \\)",
         "if you multiply 5x3=15 then you do 5*1=5 and 3*2=6 and 6 plus 5 is 11 then it would be 11/15",
         "False_Correct",
         "NA",
         "False_Correct:NA",
         "0",
         "0"
        ],
        [
         "41",
         "29080",
         "76870",
         "This is part of a regular polygon. How many sides does it have? [Image: A diagram showing an obtuse angle labelled 144 degrees]",
         "\\( 5 \\)",
         "The sum of the interior angles on a decagon is 1440, andd 144 x 10 = 14 40.",
         "False_Correct",
         "NA",
         "False_Correct:NA",
         "0",
         "0"
        ],
        [
         "42",
         "2945",
         "31772",
         "What fraction of the shape is not shaded? Give your answer in its simplest form. [Image: A triangle split into 9 equal smaller triangles. 6 of them are shaded.]",
         "\\( \\frac{3}{9} \\)",
         "3 outt of 9 are not-shaded. also 1/3",
         "False_Correct",
         "NA",
         "False_Correct:NA",
         "0",
         "0"
        ],
        [
         "43",
         "25318",
         "33472",
         "\\( \\frac{1}{3}+\\frac{2}{5}= \\)",
         "\\( \\frac{11}{30} \\)",
         "you have to find the lowest common multiple and then you have to add 6/15 and 5/15 which is 11/15",
         "False_Correct",
         "NA",
         "False_Correct:NA",
         "0",
         "0"
        ],
        [
         "44",
         "25318",
         "33472",
         "\\( \\frac{1}{3}+\\frac{2}{5}= \\)",
         "\\( \\frac{11}{30} \\)",
         "you have to find the lowest common multiple and then you have to add 6/15 and 5/15 which is 11/15",
         "False_Correct",
         "NA",
         "False_Correct:NA",
         "0",
         "0"
        ],
        [
         "45",
         "25268",
         "33472",
         "\\( \\frac{1}{3}+\\frac{2}{5}= \\)",
         "\\( \\frac{11}{30} \\)",
         "common number is 15, 3x2 is 6, 1x5 is 5, 5+6 is 11, 11/15 is the answer",
         "False_Correct",
         "NA",
         "False_Correct:NA",
         "0",
         "0"
        ],
        [
         "46",
         "25318",
         "33472",
         "\\( \\frac{1}{3}+\\frac{2}{5}= \\)",
         "\\( \\frac{11}{30} \\)",
         "you have to find the lowest common multiple and then you have to add 6/15 and 5/15 which is 11/15",
         "False_Correct",
         "NA",
         "False_Correct:NA",
         "0",
         "0"
        ],
        [
         "47",
         "7972",
         "31777",
         "A box contains \\( 120 \\) counters. The counters are red or blue. \\( \\frac{3}{5} \\) of the counters are red.\nHow many red counters are there?",
         "\\( 24 \\)",
         "1 fifth of 120 is 24. Then you multiply that by 3 which equals 72.",
         "False_Correct",
         "NA",
         "False_Correct:NA",
         "0",
         "0"
        ],
        [
         "48",
         "16145",
         "32829",
         "\\( 2 y=24 \\) What is the value of \\( y \\) ?",
         "\\( 22 \\)",
         "2y is 24 so divided by 2 y is 12",
         "False_Correct",
         "NA",
         "False_Correct:NA",
         "0",
         "0"
        ],
        [
         "49",
         "7979",
         "31777",
         "A box contains \\( 120 \\) counters. The counters are red or blue. \\( \\frac{3}{5} \\) of the counters are red.\nHow many red counters are there?",
         "\\( 24 \\)",
         "120 divided by 5 is 24 multiplied by 3 is 72 so the answer is B.",
         "False_Correct",
         "NA",
         "False_Correct:NA",
         "0",
         "0"
        ]
       ],
       "shape": {
        "columns": 10,
        "rows": 89055
       }
      },
      "text/html": [
       "<div>\n",
       "<style scoped>\n",
       "    .dataframe tbody tr th:only-of-type {\n",
       "        vertical-align: middle;\n",
       "    }\n",
       "\n",
       "    .dataframe tbody tr th {\n",
       "        vertical-align: top;\n",
       "    }\n",
       "\n",
       "    .dataframe thead th {\n",
       "        text-align: right;\n",
       "    }\n",
       "</style>\n",
       "<table border=\"1\" class=\"dataframe\">\n",
       "  <thead>\n",
       "    <tr style=\"text-align: right;\">\n",
       "      <th></th>\n",
       "      <th>row_id</th>\n",
       "      <th>QuestionId</th>\n",
       "      <th>QuestionText</th>\n",
       "      <th>MC_Answer</th>\n",
       "      <th>StudentExplanation</th>\n",
       "      <th>Category</th>\n",
       "      <th>Misconception</th>\n",
       "      <th>target</th>\n",
       "      <th>label</th>\n",
       "      <th>is_correct</th>\n",
       "    </tr>\n",
       "  </thead>\n",
       "  <tbody>\n",
       "    <tr>\n",
       "      <th>0</th>\n",
       "      <td>14350</td>\n",
       "      <td>31778</td>\n",
       "      <td>\\( \\frac{A}{10}=\\frac{9}{15} \\) What is the va...</td>\n",
       "      <td>\\( 9 \\)</td>\n",
       "      <td>This is because youu can time both 10 and 15 t...</td>\n",
       "      <td>False_Correct</td>\n",
       "      <td>NA</td>\n",
       "      <td>False_Correct:NA</td>\n",
       "      <td>0</td>\n",
       "      <td>0</td>\n",
       "    </tr>\n",
       "    <tr>\n",
       "      <th>1</th>\n",
       "      <td>25280</td>\n",
       "      <td>33472</td>\n",
       "      <td>\\( \\frac{1}{3}+\\frac{2}{5}= \\)</td>\n",
       "      <td>\\( \\frac{11}{30} \\)</td>\n",
       "      <td>i know this because a common denominator is 15...</td>\n",
       "      <td>False_Correct</td>\n",
       "      <td>NA</td>\n",
       "      <td>False_Correct:NA</td>\n",
       "      <td>0</td>\n",
       "      <td>0</td>\n",
       "    </tr>\n",
       "    <tr>\n",
       "      <th>2</th>\n",
       "      <td>11228</td>\n",
       "      <td>31778</td>\n",
       "      <td>\\( \\frac{A}{10}=\\frac{9}{15} \\) What is the va...</td>\n",
       "      <td>\\( 3 \\)</td>\n",
       "      <td>i divided by 3 and timesed by 2</td>\n",
       "      <td>False_Correct</td>\n",
       "      <td>NA</td>\n",
       "      <td>False_Correct:NA</td>\n",
       "      <td>0</td>\n",
       "      <td>0</td>\n",
       "    </tr>\n",
       "    <tr>\n",
       "      <th>3</th>\n",
       "      <td>2945</td>\n",
       "      <td>31772</td>\n",
       "      <td>What fraction of the shape is not shaded? Give...</td>\n",
       "      <td>\\( \\frac{3}{9} \\)</td>\n",
       "      <td>3 outt of 9 are not-shaded. also 1/3</td>\n",
       "      <td>False_Correct</td>\n",
       "      <td>NA</td>\n",
       "      <td>False_Correct:NA</td>\n",
       "      <td>0</td>\n",
       "      <td>0</td>\n",
       "    </tr>\n",
       "    <tr>\n",
       "      <th>4</th>\n",
       "      <td>16143</td>\n",
       "      <td>32829</td>\n",
       "      <td>\\( 2 y=24 \\) What is the value of \\( y \\) ?</td>\n",
       "      <td>\\( 22 \\)</td>\n",
       "      <td>24%2=12\\n12  so the answer is 12 because the 2...</td>\n",
       "      <td>False_Correct</td>\n",
       "      <td>NA</td>\n",
       "      <td>False_Correct:NA</td>\n",
       "      <td>0</td>\n",
       "      <td>0</td>\n",
       "    </tr>\n",
       "    <tr>\n",
       "      <th>...</th>\n",
       "      <td>...</td>\n",
       "      <td>...</td>\n",
       "      <td>...</td>\n",
       "      <td>...</td>\n",
       "      <td>...</td>\n",
       "      <td>...</td>\n",
       "      <td>...</td>\n",
       "      <td>...</td>\n",
       "      <td>...</td>\n",
       "      <td>...</td>\n",
       "    </tr>\n",
       "    <tr>\n",
       "      <th>89050</th>\n",
       "      <td>36262</td>\n",
       "      <td>109465</td>\n",
       "      <td>The probability of an event occurring is \\( 0....</td>\n",
       "      <td>Likely</td>\n",
       "      <td>this is because a 9 out of 10 chance means tha...</td>\n",
       "      <td>True_Neither</td>\n",
       "      <td>NA</td>\n",
       "      <td>True_Neither:NA</td>\n",
       "      <td>64</td>\n",
       "      <td>1</td>\n",
       "    </tr>\n",
       "    <tr>\n",
       "      <th>89051</th>\n",
       "      <td>36271</td>\n",
       "      <td>109465</td>\n",
       "      <td>The probability of an event occurring is \\( 0....</td>\n",
       "      <td>Likely</td>\n",
       "      <td>this is your answer because 1 would be certain...</td>\n",
       "      <td>True_Neither</td>\n",
       "      <td>NA</td>\n",
       "      <td>True_Neither:NA</td>\n",
       "      <td>64</td>\n",
       "      <td>1</td>\n",
       "    </tr>\n",
       "    <tr>\n",
       "      <th>89052</th>\n",
       "      <td>36274</td>\n",
       "      <td>109465</td>\n",
       "      <td>The probability of an event occurring is \\( 0....</td>\n",
       "      <td>Likely</td>\n",
       "      <td>u can use the process of elimination because c...</td>\n",
       "      <td>True_Neither</td>\n",
       "      <td>NA</td>\n",
       "      <td>True_Neither:NA</td>\n",
       "      <td>64</td>\n",
       "      <td>1</td>\n",
       "    </tr>\n",
       "    <tr>\n",
       "      <th>89053</th>\n",
       "      <td>36276</td>\n",
       "      <td>109465</td>\n",
       "      <td>The probability of an event occurring is \\( 0....</td>\n",
       "      <td>Likely</td>\n",
       "      <td>very high probability however it's not certain</td>\n",
       "      <td>True_Neither</td>\n",
       "      <td>NA</td>\n",
       "      <td>True_Neither:NA</td>\n",
       "      <td>64</td>\n",
       "      <td>1</td>\n",
       "    </tr>\n",
       "    <tr>\n",
       "      <th>89054</th>\n",
       "      <td>36277</td>\n",
       "      <td>109465</td>\n",
       "      <td>The probability of an event occurring is \\( 0....</td>\n",
       "      <td>Likely</td>\n",
       "      <td>we should use likely because we dont know for ...</td>\n",
       "      <td>True_Neither</td>\n",
       "      <td>NA</td>\n",
       "      <td>True_Neither:NA</td>\n",
       "      <td>64</td>\n",
       "      <td>1</td>\n",
       "    </tr>\n",
       "  </tbody>\n",
       "</table>\n",
       "<p>89055 rows × 10 columns</p>\n",
       "</div>"
      ],
      "text/plain": [
       "       row_id  QuestionId                                       QuestionText  \\\n",
       "0       14350       31778  \\( \\frac{A}{10}=\\frac{9}{15} \\) What is the va...   \n",
       "1       25280       33472                     \\( \\frac{1}{3}+\\frac{2}{5}= \\)   \n",
       "2       11228       31778  \\( \\frac{A}{10}=\\frac{9}{15} \\) What is the va...   \n",
       "3        2945       31772  What fraction of the shape is not shaded? Give...   \n",
       "4       16143       32829        \\( 2 y=24 \\) What is the value of \\( y \\) ?   \n",
       "...       ...         ...                                                ...   \n",
       "89050   36262      109465  The probability of an event occurring is \\( 0....   \n",
       "89051   36271      109465  The probability of an event occurring is \\( 0....   \n",
       "89052   36274      109465  The probability of an event occurring is \\( 0....   \n",
       "89053   36276      109465  The probability of an event occurring is \\( 0....   \n",
       "89054   36277      109465  The probability of an event occurring is \\( 0....   \n",
       "\n",
       "                 MC_Answer                                 StudentExplanation  \\\n",
       "0                  \\( 9 \\)  This is because youu can time both 10 and 15 t...   \n",
       "1      \\( \\frac{11}{30} \\)  i know this because a common denominator is 15...   \n",
       "2                  \\( 3 \\)                    i divided by 3 and timesed by 2   \n",
       "3        \\( \\frac{3}{9} \\)               3 outt of 9 are not-shaded. also 1/3   \n",
       "4                 \\( 22 \\)  24%2=12\\n12  so the answer is 12 because the 2...   \n",
       "...                    ...                                                ...   \n",
       "89050               Likely  this is because a 9 out of 10 chance means tha...   \n",
       "89051               Likely  this is your answer because 1 would be certain...   \n",
       "89052               Likely  u can use the process of elimination because c...   \n",
       "89053               Likely     very high probability however it's not certain   \n",
       "89054               Likely  we should use likely because we dont know for ...   \n",
       "\n",
       "            Category Misconception            target  label  is_correct  \n",
       "0      False_Correct            NA  False_Correct:NA      0           0  \n",
       "1      False_Correct            NA  False_Correct:NA      0           0  \n",
       "2      False_Correct            NA  False_Correct:NA      0           0  \n",
       "3      False_Correct            NA  False_Correct:NA      0           0  \n",
       "4      False_Correct            NA  False_Correct:NA      0           0  \n",
       "...              ...           ...               ...    ...         ...  \n",
       "89050   True_Neither            NA   True_Neither:NA     64           1  \n",
       "89051   True_Neither            NA   True_Neither:NA     64           1  \n",
       "89052   True_Neither            NA   True_Neither:NA     64           1  \n",
       "89053   True_Neither            NA   True_Neither:NA     64           1  \n",
       "89054   True_Neither            NA   True_Neither:NA     64           1  \n",
       "\n",
       "[89055 rows x 10 columns]"
      ]
     },
     "execution_count": 65,
     "metadata": {},
     "output_type": "execute_result"
    }
   ],
   "source": [
    "trainDF_balanced"
   ]
  },
  {
   "cell_type": "code",
   "execution_count": 66,
   "metadata": {
    "execution": {
     "iopub.execute_input": "2025-09-27T14:44:35.198898Z",
     "iopub.status.busy": "2025-09-27T14:44:35.198298Z",
     "iopub.status.idle": "2025-09-27T14:44:35.238695Z",
     "shell.execute_reply": "2025-09-27T14:44:35.237920Z",
     "shell.execute_reply.started": "2025-09-27T14:44:35.198875Z"
    }
   },
   "outputs": [
    {
     "data": {
      "application/vnd.microsoft.datawrangler.viewer.v0+json": {
       "columns": [
        {
         "name": "index",
         "rawType": "object",
         "type": "string"
        },
        {
         "name": "0",
         "rawType": "int64",
         "type": "integer"
        }
       ],
       "ref": "3234046e-7c18-4445-9ace-a3758c89e632",
       "rows": [
        [
         "row_id",
         "0"
        ],
        [
         "QuestionId",
         "0"
        ],
        [
         "QuestionText",
         "0"
        ],
        [
         "MC_Answer",
         "0"
        ],
        [
         "StudentExplanation",
         "0"
        ],
        [
         "Category",
         "0"
        ],
        [
         "Misconception",
         "0"
        ],
        [
         "target",
         "0"
        ],
        [
         "label",
         "0"
        ],
        [
         "is_correct",
         "0"
        ]
       ],
       "shape": {
        "columns": 1,
        "rows": 10
       }
      },
      "text/plain": [
       "row_id                0\n",
       "QuestionId            0\n",
       "QuestionText          0\n",
       "MC_Answer             0\n",
       "StudentExplanation    0\n",
       "Category              0\n",
       "Misconception         0\n",
       "target                0\n",
       "label                 0\n",
       "is_correct            0\n",
       "dtype: int64"
      ]
     },
     "execution_count": 66,
     "metadata": {},
     "output_type": "execute_result"
    }
   ],
   "source": [
    "trainDF_balanced.isnull().sum() # null checking"
   ]
  },
  {
   "cell_type": "code",
   "execution_count": 67,
   "metadata": {
    "execution": {
     "iopub.execute_input": "2025-09-27T14:44:35.409456Z",
     "iopub.status.busy": "2025-09-27T14:44:35.409107Z",
     "iopub.status.idle": "2025-09-27T14:44:35.413180Z",
     "shell.execute_reply": "2025-09-27T14:44:35.412489Z",
     "shell.execute_reply.started": "2025-09-27T14:44:35.409431Z"
    }
   },
   "outputs": [],
   "source": [
    "# !pip uninstall protobuf\n",
    "# !pip install protobuf==3.20.3"
   ]
  },
  {
   "cell_type": "markdown",
   "metadata": {},
   "source": [
    "## LLM inital"
   ]
  },
  {
   "cell_type": "code",
   "execution_count": 68,
   "metadata": {
    "execution": {
     "iopub.execute_input": "2025-09-27T14:44:35.769661Z",
     "iopub.status.busy": "2025-09-27T14:44:35.769322Z",
     "iopub.status.idle": "2025-09-27T14:44:35.775751Z",
     "shell.execute_reply": "2025-09-27T14:44:35.775024Z",
     "shell.execute_reply.started": "2025-09-27T14:44:35.769638Z"
    }
   },
   "outputs": [],
   "source": [
    "bnbConfig = BitsAndBytesConfig(\n",
    "            load_in_4bit=True,\n",
    "            bnb_4bit_quant_type=\"nf4\",\n",
    "            bnb_4bit_compute_dtype=torch.bfloat16,\n",
    "            bnb_4bit_use_double_quant=True ) # Activate netsed quantization for 4bit base "
   ]
  },
  {
   "cell_type": "code",
   "execution_count": 69,
   "metadata": {
    "execution": {
     "iopub.execute_input": "2025-09-27T14:44:35.927084Z",
     "iopub.status.busy": "2025-09-27T14:44:35.926520Z",
     "iopub.status.idle": "2025-09-27T14:44:35.930814Z",
     "shell.execute_reply": "2025-09-27T14:44:35.930075Z",
     "shell.execute_reply.started": "2025-09-27T14:44:35.927058Z"
    }
   },
   "outputs": [],
   "source": [
    "# !pip install triton==3.4.0\n",
    "# !pip install triton==3.0.0\n",
    "# !pip install protobuf==6.30.2"
   ]
  },
  {
   "cell_type": "code",
   "execution_count": null,
   "metadata": {},
   "outputs": [],
   "source": []
  },
  {
   "cell_type": "markdown",
   "metadata": {},
   "source": [
    "### Load LLM Model and Tokenizer"
   ]
  },
  {
   "cell_type": "code",
   "execution_count": 70,
   "metadata": {
    "execution": {
     "iopub.execute_input": "2025-09-27T14:44:38.204117Z",
     "iopub.status.busy": "2025-09-27T14:44:38.203818Z",
     "iopub.status.idle": "2025-09-27T14:44:41.768476Z",
     "shell.execute_reply": "2025-09-27T14:44:41.767735Z",
     "shell.execute_reply.started": "2025-09-27T14:44:38.204089Z"
    }
   },
   "outputs": [],
   "source": [
    "clearMemory()"
   ]
  },
  {
   "cell_type": "code",
   "execution_count": 71,
   "metadata": {
    "execution": {
     "iopub.execute_input": "2025-09-27T14:44:41.770322Z",
     "iopub.status.busy": "2025-09-27T14:44:41.769962Z",
     "iopub.status.idle": "2025-09-27T14:44:41.775784Z",
     "shell.execute_reply": "2025-09-27T14:44:41.775102Z",
     "shell.execute_reply.started": "2025-09-27T14:44:41.770268Z"
    }
   },
   "outputs": [
    {
     "data": {
      "text/plain": [
       "'0.23.0'"
      ]
     },
     "execution_count": 71,
     "metadata": {},
     "output_type": "execute_result"
    }
   ],
   "source": [
    "# !pip install triton==3.0.0\n",
    "import trl\n",
    "trl.__version__"
   ]
  },
  {
   "cell_type": "code",
   "execution_count": 72,
   "metadata": {
    "execution": {
     "iopub.execute_input": "2025-09-27T14:44:41.776910Z",
     "iopub.status.busy": "2025-09-27T14:44:41.776612Z",
     "iopub.status.idle": "2025-09-27T14:44:41.792540Z",
     "shell.execute_reply": "2025-09-27T14:44:41.791822Z",
     "shell.execute_reply.started": "2025-09-27T14:44:41.776882Z"
    }
   },
   "outputs": [
    {
     "data": {
      "text/plain": [
       "'3.4.0'"
      ]
     },
     "execution_count": 72,
     "metadata": {},
     "output_type": "execute_result"
    }
   ],
   "source": [
    "\n",
    "\n",
    "import triton\n",
    "\n",
    "triton.__version__"
   ]
  },
  {
   "cell_type": "code",
   "execution_count": 73,
   "metadata": {
    "execution": {
     "iopub.execute_input": "2025-09-27T14:44:41.794770Z",
     "iopub.status.busy": "2025-09-27T14:44:41.794521Z",
     "iopub.status.idle": "2025-09-27T14:44:41.803614Z",
     "shell.execute_reply": "2025-09-27T14:44:41.802755Z",
     "shell.execute_reply.started": "2025-09-27T14:44:41.794751Z"
    },
    "scrolled": true
   },
   "outputs": [],
   "source": [
    "# !pip install bitsandbytes==0.46.1"
   ]
  },
  {
   "cell_type": "code",
   "execution_count": 74,
   "metadata": {
    "execution": {
     "iopub.execute_input": "2025-09-27T14:44:41.804756Z",
     "iopub.status.busy": "2025-09-27T14:44:41.804486Z",
     "iopub.status.idle": "2025-09-27T14:44:42.598996Z",
     "shell.execute_reply": "2025-09-27T14:44:42.598334Z",
     "shell.execute_reply.started": "2025-09-27T14:44:41.804738Z"
    }
   },
   "outputs": [],
   "source": [
    "import bitsandbytes\n",
    "# bitsandbytes.__version__"
   ]
  },
  {
   "cell_type": "code",
   "execution_count": 75,
   "metadata": {},
   "outputs": [
    {
     "name": "stdout",
     "output_type": "stream",
     "text": [
      "Label to ID mapping: {'False_Correct:NA': 0, 'False_Misconception:Adding_across': 1, 'False_Misconception:Adding_terms': 2, 'False_Misconception:Additive': 3, 'False_Misconception:Base_rate': 4, 'False_Misconception:Certainty': 5, 'False_Misconception:Definition': 6, 'False_Misconception:Denominator-only_change': 7, 'False_Misconception:Division': 8, 'False_Misconception:Duplication': 9, 'False_Misconception:Firstterm': 10, 'False_Misconception:FlipChange': 11, 'False_Misconception:Ignores_zeroes': 12, 'False_Misconception:Incomplete': 13, 'False_Misconception:Incorrect_equivalent_fraction_addition': 14, 'False_Misconception:Interior': 15, 'False_Misconception:Inverse_operation': 16, 'False_Misconception:Inversion': 17, 'False_Misconception:Irrelevant': 18, 'False_Misconception:Longer_is_bigger': 19, 'False_Misconception:Mult': 20, 'False_Misconception:Multiplying_by_4': 21, 'False_Misconception:Not_variable': 22, 'False_Misconception:Positive': 23, 'False_Misconception:Scale': 24, 'False_Misconception:Shorter_is_bigger': 25, 'False_Misconception:Subtraction': 26, 'False_Misconception:SwapDividend': 27, 'False_Misconception:Tacking': 28, 'False_Misconception:Unknowable': 29, 'False_Misconception:WNB': 30, 'False_Misconception:Whole_numbers_larger': 31, 'False_Misconception:Wrong_Fraction': 32, 'False_Misconception:Wrong_Operation': 33, 'False_Misconception:Wrong_fraction': 34, 'False_Misconception:Wrong_term': 35, 'False_Neither:NA': 36, 'True_Correct:NA': 37, 'True_Misconception:Adding_across': 38, 'True_Misconception:Additive': 39, 'True_Misconception:Base_rate': 40, 'True_Misconception:Definition': 41, 'True_Misconception:Denominator-only_change': 42, 'True_Misconception:Division': 43, 'True_Misconception:Duplication': 44, 'True_Misconception:Firstterm': 45, 'True_Misconception:FlipChange': 46, 'True_Misconception:Incomplete': 47, 'True_Misconception:Incorrect_equivalent_fraction_addition': 48, 'True_Misconception:Inversion': 49, 'True_Misconception:Irrelevant': 50, 'True_Misconception:Longer_is_bigger': 51, 'True_Misconception:Mult': 52, 'True_Misconception:Multiplying_by_4': 53, 'True_Misconception:Not_variable': 54, 'True_Misconception:Positive': 55, 'True_Misconception:Shorter_is_bigger': 56, 'True_Misconception:Subtraction': 57, 'True_Misconception:SwapDividend': 58, 'True_Misconception:Tacking': 59, 'True_Misconception:WNB': 60, 'True_Misconception:Whole_numbers_larger': 61, 'True_Misconception:Wrong_fraction': 62, 'True_Misconception:Wrong_term': 63, 'True_Neither:NA': 64}\n",
      "ID to label mapping: {0: 'False_Correct:NA', 1: 'False_Misconception:Adding_across', 2: 'False_Misconception:Adding_terms', 3: 'False_Misconception:Additive', 4: 'False_Misconception:Base_rate', 5: 'False_Misconception:Certainty', 6: 'False_Misconception:Definition', 7: 'False_Misconception:Denominator-only_change', 8: 'False_Misconception:Division', 9: 'False_Misconception:Duplication', 10: 'False_Misconception:Firstterm', 11: 'False_Misconception:FlipChange', 12: 'False_Misconception:Ignores_zeroes', 13: 'False_Misconception:Incomplete', 14: 'False_Misconception:Incorrect_equivalent_fraction_addition', 15: 'False_Misconception:Interior', 16: 'False_Misconception:Inverse_operation', 17: 'False_Misconception:Inversion', 18: 'False_Misconception:Irrelevant', 19: 'False_Misconception:Longer_is_bigger', 20: 'False_Misconception:Mult', 21: 'False_Misconception:Multiplying_by_4', 22: 'False_Misconception:Not_variable', 23: 'False_Misconception:Positive', 24: 'False_Misconception:Scale', 25: 'False_Misconception:Shorter_is_bigger', 26: 'False_Misconception:Subtraction', 27: 'False_Misconception:SwapDividend', 28: 'False_Misconception:Tacking', 29: 'False_Misconception:Unknowable', 30: 'False_Misconception:WNB', 31: 'False_Misconception:Whole_numbers_larger', 32: 'False_Misconception:Wrong_Fraction', 33: 'False_Misconception:Wrong_Operation', 34: 'False_Misconception:Wrong_fraction', 35: 'False_Misconception:Wrong_term', 36: 'False_Neither:NA', 37: 'True_Correct:NA', 38: 'True_Misconception:Adding_across', 39: 'True_Misconception:Additive', 40: 'True_Misconception:Base_rate', 41: 'True_Misconception:Definition', 42: 'True_Misconception:Denominator-only_change', 43: 'True_Misconception:Division', 44: 'True_Misconception:Duplication', 45: 'True_Misconception:Firstterm', 46: 'True_Misconception:FlipChange', 47: 'True_Misconception:Incomplete', 48: 'True_Misconception:Incorrect_equivalent_fraction_addition', 49: 'True_Misconception:Inversion', 50: 'True_Misconception:Irrelevant', 51: 'True_Misconception:Longer_is_bigger', 52: 'True_Misconception:Mult', 53: 'True_Misconception:Multiplying_by_4', 54: 'True_Misconception:Not_variable', 55: 'True_Misconception:Positive', 56: 'True_Misconception:Shorter_is_bigger', 57: 'True_Misconception:Subtraction', 58: 'True_Misconception:SwapDividend', 59: 'True_Misconception:Tacking', 60: 'True_Misconception:WNB', 61: 'True_Misconception:Whole_numbers_larger', 62: 'True_Misconception:Wrong_fraction', 63: 'True_Misconception:Wrong_term', 64: 'True_Neither:NA'}\n"
     ]
    }
   ],
   "source": [
    "# Mapping from label to ID (label2id)\n",
    "label2id = {label: i for i, label in enumerate(le.classes_)}\n",
    "print(f\"Label to ID mapping: {label2id}\")\n",
    "\n",
    "# Mapping from ID to label (id2label)\n",
    "id2label = {i: label for i, label in enumerate(le.classes_)}\n",
    "print(f\"ID to label mapping: {id2label}\")"
   ]
  },
  {
   "cell_type": "code",
   "execution_count": 76,
   "metadata": {
    "execution": {
     "iopub.execute_input": "2025-09-27T14:44:42.600109Z",
     "iopub.status.busy": "2025-09-27T14:44:42.599880Z",
     "iopub.status.idle": "2025-09-27T14:46:26.137099Z",
     "shell.execute_reply": "2025-09-27T14:46:26.136269Z",
     "shell.execute_reply.started": "2025-09-27T14:44:42.600092Z"
    }
   },
   "outputs": [
    {
     "name": "stderr",
     "output_type": "stream",
     "text": [
      "`torch_dtype` is deprecated! Use `dtype` instead!\n",
      "Loading checkpoint shards: 100%|██████████| 2/2 [00:10<00:00,  5.05s/it]\n",
      "Some weights of Qwen3ForSequenceClassification were not initialized from the model checkpoint at Qwen/Qwen3-Reranker-4B and are newly initialized: ['score.weight']\n",
      "You should probably TRAIN this model on a down-stream task to be able to use it for predictions and inference.\n"
     ]
    }
   ],
   "source": [
    "if device.type == \"cuda\":\n",
    "    model = AutoModelForSequenceClassification.from_pretrained(\n",
    "        CFG.model2,  #CFG.model1, #CFG.model3,\n",
    "        num_labels= nClasses,\n",
    "        id2label =id2label,\n",
    "        label2id = label2id,\n",
    "        torch_dtype=torch.bfloat16,\n",
    "        device_map=\"auto\",\n",
    "        quantization_config= bnbConfig,\n",
    "        trust_remote_code=False,\n",
    "        problem_type=\"single_label_classification\", \n",
    "    )\n",
    "\n",
    "else: \n",
    "     model = AutoModelForSequenceClassification.from_pretrained(\n",
    "        CFG.model2,  #CFG.model1 #CFG.model3,\n",
    "        num_labels= nClasses,\n",
    "        id2label =id2label,\n",
    "        label2id = label2id,\n",
    "        device_map=\"auto\",\n",
    "        trust_remote_code=False,\n",
    "        problem_type=\"single_label_classification\", \n",
    "    )\n",
    "\n",
    "tokenizer = AutoTokenizer.from_pretrained(CFG.model2)\n",
    "tokenizer.pad_token = tokenizer.eos_token"
   ]
  },
  {
   "cell_type": "code",
   "execution_count": 77,
   "metadata": {
    "execution": {
     "iopub.execute_input": "2025-09-27T14:46:26.138320Z",
     "iopub.status.busy": "2025-09-27T14:46:26.137988Z",
     "iopub.status.idle": "2025-09-27T14:46:26.147579Z",
     "shell.execute_reply": "2025-09-27T14:46:26.146613Z",
     "shell.execute_reply.started": "2025-09-27T14:46:26.138273Z"
    }
   },
   "outputs": [
    {
     "data": {
      "text/plain": [
       "Qwen3ForSequenceClassification(\n",
       "  (model): Qwen3Model(\n",
       "    (embed_tokens): Embedding(151669, 2560)\n",
       "    (layers): ModuleList(\n",
       "      (0-35): 36 x Qwen3DecoderLayer(\n",
       "        (self_attn): Qwen3Attention(\n",
       "          (q_proj): Linear4bit(in_features=2560, out_features=4096, bias=False)\n",
       "          (k_proj): Linear4bit(in_features=2560, out_features=1024, bias=False)\n",
       "          (v_proj): Linear4bit(in_features=2560, out_features=1024, bias=False)\n",
       "          (o_proj): Linear4bit(in_features=4096, out_features=2560, bias=False)\n",
       "          (q_norm): Qwen3RMSNorm((128,), eps=1e-06)\n",
       "          (k_norm): Qwen3RMSNorm((128,), eps=1e-06)\n",
       "        )\n",
       "        (mlp): Qwen3MLP(\n",
       "          (gate_proj): Linear4bit(in_features=2560, out_features=9728, bias=False)\n",
       "          (up_proj): Linear4bit(in_features=2560, out_features=9728, bias=False)\n",
       "          (down_proj): Linear4bit(in_features=9728, out_features=2560, bias=False)\n",
       "          (act_fn): SiLU()\n",
       "        )\n",
       "        (input_layernorm): Qwen3RMSNorm((2560,), eps=1e-06)\n",
       "        (post_attention_layernorm): Qwen3RMSNorm((2560,), eps=1e-06)\n",
       "      )\n",
       "    )\n",
       "    (norm): Qwen3RMSNorm((2560,), eps=1e-06)\n",
       "    (rotary_emb): Qwen3RotaryEmbedding()\n",
       "  )\n",
       "  (score): Linear(in_features=2560, out_features=65, bias=False)\n",
       ")"
      ]
     },
     "execution_count": 77,
     "metadata": {},
     "output_type": "execute_result"
    }
   ],
   "source": [
    "model"
   ]
  },
  {
   "cell_type": "code",
   "execution_count": 79,
   "metadata": {
    "execution": {
     "iopub.execute_input": "2025-09-27T14:46:26.150448Z",
     "iopub.status.busy": "2025-09-27T14:46:26.149831Z",
     "iopub.status.idle": "2025-09-27T14:46:26.189961Z",
     "shell.execute_reply": "2025-09-27T14:46:26.189125Z",
     "shell.execute_reply.started": "2025-09-27T14:46:26.150421Z"
    }
   },
   "outputs": [],
   "source": [
    "if CFG.DeepEval:\n",
    "    from deepeval.models.base_model import DeepEvalBaseLLM\n",
    "    from deepeval.test_case import LLMTestCase, LLMTestCaseParams\n",
    "    from deepeval.metrics import GEval\n",
    "    # from deepeval import evaluate\n",
    "    from deepeval.metrics import AnswerRelevancyMetric\n",
    "    # from deepeval.benchmarks import MMLU, HellaSwag, HumanEval,TruthfulQA\n",
    "    # from deepeval.benchmarks.tasks import HumanEvalTask, HellaSwagTask, MMLUTask, TruthfulQATask\n",
    "    # from deepeval.benchmarks.modes import TruthfulQAMode "
   ]
  },
  {
   "cell_type": "markdown",
   "metadata": {},
   "source": [
    "## Prepare Training Dataset"
   ]
  },
  {
   "cell_type": "code",
   "execution_count": 80,
   "metadata": {
    "execution": {
     "iopub.execute_input": "2025-09-27T14:46:26.191178Z",
     "iopub.status.busy": "2025-09-27T14:46:26.190901Z",
     "iopub.status.idle": "2025-09-27T14:46:26.235422Z",
     "shell.execute_reply": "2025-09-27T14:46:26.234512Z",
     "shell.execute_reply.started": "2025-09-27T14:46:26.191156Z"
    }
   },
   "outputs": [
    {
     "data": {
      "application/vnd.microsoft.datawrangler.viewer.v0+json": {
       "columns": [
        {
         "name": "index",
         "rawType": "int64",
         "type": "integer"
        },
        {
         "name": "row_id",
         "rawType": "int64",
         "type": "integer"
        },
        {
         "name": "QuestionId",
         "rawType": "int64",
         "type": "integer"
        },
        {
         "name": "QuestionText",
         "rawType": "object",
         "type": "string"
        },
        {
         "name": "MC_Answer",
         "rawType": "object",
         "type": "string"
        },
        {
         "name": "StudentExplanation",
         "rawType": "object",
         "type": "string"
        },
        {
         "name": "Category",
         "rawType": "object",
         "type": "string"
        },
        {
         "name": "Misconception",
         "rawType": "object",
         "type": "string"
        },
        {
         "name": "target",
         "rawType": "object",
         "type": "string"
        },
        {
         "name": "label",
         "rawType": "int64",
         "type": "integer"
        },
        {
         "name": "is_correct",
         "rawType": "int64",
         "type": "integer"
        }
       ],
       "ref": "95b58bfe-a0d0-44b5-bb6c-d449cda44063",
       "rows": [
        [
         "0",
         "28442",
         "76870",
         "This is part of a regular polygon. How many sides does it have? [Image: A diagram showing an obtuse angle labelled 144 degrees]",
         "Not enough information",
         "there is not enough information to tell",
         "False_Misconception",
         "Unknowable",
         "False_Misconception:Unknowable",
         "29",
         "0"
        ],
        [
         "1",
         "19487",
         "32833",
         "Calculate \\( \\frac{2}{3} \\times 5 \\)",
         "\\( \\frac{2}{15} \\)",
         "i think this because 5 x 3 is 15 and you only times the denominator.",
         "False_Misconception",
         "Inversion",
         "False_Misconception:Inversion",
         "17",
         "0"
        ],
        [
         "2",
         "30955",
         "89443",
         "What number belongs in the box?\n\\(\n(-8)-(-5)=\n\\square\\)",
         "\\( -3 \\)",
         "i think this because subtracting a negative is the same as adding a positive. 8 minus 5 equals 3 and that can be translated into negatives",
         "True_Misconception",
         "Tacking",
         "True_Misconception:Tacking",
         "59",
         "1"
        ],
        [
         "3",
         "5578",
         "31774",
         "Calculate \\( \\frac{1}{2} \\div 6 \\)",
         "\\( \\frac{1}{12} \\)",
         "1/2÷6 is impossible so I did 6÷1/2 equals 12 so it’s 1/12",
         "True_Misconception",
         "SwapDividend",
         "True_Misconception:SwapDividend",
         "58",
         "1"
        ],
        [
         "4",
         "29169",
         "76870",
         "This is part of a regular polygon. How many sides does it have? [Image: A diagram showing an obtuse angle labelled 144 degrees]",
         "\\( 5 \\)",
         "there are five sides in a polygon.",
         "False_Misconception",
         "Definition",
         "False_Misconception:Definition",
         "6",
         "0"
        ],
        [
         "5",
         "28738",
         "76870",
         "This is part of a regular polygon. How many sides does it have? [Image: A diagram showing an obtuse angle labelled 144 degrees]",
         "\\( 10 \\)",
         "because a polygon has 3 side so then you have to double it i think",
         "True_Misconception",
         "Definition",
         "True_Misconception:Definition",
         "41",
         "1"
        ],
        [
         "6",
         "14187",
         "31778",
         "\\( \\frac{A}{10}=\\frac{9}{15} \\) What is the value of \\( A \\) ?",
         "\\( 6 \\)",
         "the 9/15 is higher so the A will be lower than nine but have to be in the sames times tables",
         "True_Misconception",
         "Irrelevant",
         "True_Misconception:Irrelevant",
         "50",
         "1"
        ],
        [
         "7",
         "23692",
         "33472",
         "\\( \\frac{1}{3}+\\frac{2}{5}= \\)",
         "\\( \\frac{11}{15} \\)",
         "as convert them into 15s and 5+6 =11",
         "True_Correct",
         "NA",
         "True_Correct:NA",
         "37",
         "1"
        ],
        [
         "8",
         "7881",
         "31774",
         "Calculate \\( \\frac{1}{2} \\div 6 \\)",
         "\\( \\frac{6}{2} \\)",
         "because you turn it into a times and put a 1 under the 6",
         "False_Misconception",
         "Mult",
         "False_Misconception:Mult",
         "20",
         "0"
        ],
        [
         "9",
         "34910",
         "91695",
         "Dots have been arranged in these patterns: [Image: Pattern 1 consists of 6 dots, Pattern 2 consists of 10 dots, Pattern 3 consists of 14 dots and Pattern 4 consists of 18 dots] How many dots would there be in Pattern \\( 6 \\) ?",
         "\\( 36 \\)",
         "it just adds numbers on an on.",
         "False_Neither",
         "NA",
         "False_Neither:NA",
         "36",
         "0"
        ],
        [
         "10",
         "36553",
         "109465",
         "The probability of an event occurring is \\( 0.9 \\).\n\nWhich of the following most accurately describes the likelihood of the event occurring?",
         "Unlikely",
         "if there is a 0.9 % chance of something happening there is a chance it will therefore it is possible but unlikely",
         "False_Misconception",
         "Scale",
         "False_Misconception:Scale",
         "24",
         "0"
        ],
        [
         "11",
         "15826",
         "32829",
         "\\( 2 y=24 \\) What is the value of \\( y \\) ?",
         "\\( 12 \\)",
         "in order to get y, you need to divide 24 by 2 to get 12.",
         "True_Correct",
         "NA",
         "True_Correct:NA",
         "37",
         "1"
        ],
        [
         "12",
         "26739",
         "33474",
         "Sally has \\( \\frac{2}{3} \\) of a whole cake in the fridge. Robert eats \\( \\frac{1}{3} \\) of this piece. What fraction of the whole cake has Robert eaten?\nChoose the number sentence that would solve the word problem.",
         "\\( \\frac{1}{3} \\times \\frac{2}{3} \\)",
         "i think this because if there is 2/3 in the fridge and he ate 1/3 it is 2/3-1/3.",
         "True_Misconception",
         "Subtraction",
         "True_Misconception:Subtraction",
         "57",
         "1"
        ],
        [
         "13",
         "7335",
         "31774",
         "Calculate \\( \\frac{1}{2} \\div 6 \\)",
         "\\( \\frac{1}{12} \\)",
         "to divide a whole number by a fraction if you want you can write it as 6/1 divided by 1/2 all you have to do is flip the fraction so the answer is 1/12",
         "True_Misconception",
         "SwapDividend",
         "True_Misconception:SwapDividend",
         "58",
         "1"
        ],
        [
         "14",
         "16138",
         "32829",
         "\\( 2 y=24 \\) What is the value of \\( y \\) ?",
         "\\( 22 \\)",
         "24 - 2 = 22 so if y is 22 it adds up",
         "False_Misconception",
         "Adding_terms",
         "False_Misconception:Adding_terms",
         "2",
         "0"
        ],
        [
         "15",
         "35314",
         "104665",
         "It takes \\( 3 \\) people a total of \\( 192 \\) hours to build a wall.\n\nHow long would it take if \\( 12 \\) people built the same wall?",
         "\\( 48 \\) hours",
         "i think this because you need to divide 192 by 3 and then you need to times that answer by 12 to get your final answer.",
         "True_Misconception",
         "Multiplying_by_4",
         "True_Misconception:Multiplying_by_4",
         "53",
         "1"
        ],
        [
         "16",
         "34342",
         "91695",
         "Dots have been arranged in these patterns: [Image: Pattern 1 consists of 6 dots, Pattern 2 consists of 10 dots, Pattern 3 consists of 14 dots and Pattern 4 consists of 18 dots] How many dots would there be in Pattern \\( 6 \\) ?",
         "\\( 26 \\)",
         "its going up in fours then adding two so 4x6 is 24 then add 2  is 26",
         "True_Correct",
         "NA",
         "True_Correct:NA",
         "37",
         "1"
        ],
        [
         "17",
         "14878",
         "32829",
         "\\( 2 y=24 \\) What is the value of \\( y \\) ?",
         "\\( 12 \\)",
         "because y is a symbol that means 2xy= 24 so i did the inverse which is 24 divided by 2 which is 12",
         "True_Correct",
         "NA",
         "True_Correct:NA",
         "37",
         "1"
        ],
        [
         "18",
         "21927",
         "32835",
         "Which number is the greatest?",
         "\\( 6.2 \\)",
         "there is a two in  the tenths column but nothing in the others which makes it the biggest",
         "True_Correct",
         "NA",
         "True_Correct:NA",
         "37",
         "1"
        ],
        [
         "19",
         "25284",
         "33472",
         "\\( \\frac{1}{3}+\\frac{2}{5}= \\)",
         "\\( \\frac{11}{30} \\)",
         "i think it is 11/30 because if youu convert it into 5/15 + 6/15=11/-30.",
         "False_Misconception",
         "Incorrect_equivalent_fraction_addition",
         "False_Misconception:Incorrect_equivalent_fraction_addition",
         "14",
         "0"
        ],
        [
         "20",
         "32181",
         "89443",
         "What number belongs in the box?\n\\(\n(-8)-(-5)=\n\\square\\)",
         "\\( 3 \\)",
         "i think it is because two negatives=positive.",
         "False_Misconception",
         "Positive",
         "False_Misconception:Positive",
         "23",
         "0"
        ],
        [
         "21",
         "20259",
         "32835",
         "Which number is the greatest?",
         "\\( 6.079 \\)",
         "bc it has .79 so its bigger u dont caunt the zeross",
         "False_Misconception",
         "Ignores_zeroes",
         "False_Misconception:Ignores_zeroes",
         "12",
         "0"
        ],
        [
         "22",
         "3540",
         "31772",
         "What fraction of the shape is not shaded? Give your answer in its simplest form. [Image: A triangle split into 9 equal smaller triangles. 6 of them are shaded.]",
         "\\( \\frac{3}{9} \\)",
         "I think this because the white ones are not shaded by the blue one",
         "False_Neither",
         "NA",
         "False_Neither:NA",
         "36",
         "0"
        ],
        [
         "23",
         "32142",
         "89443",
         "What number belongs in the box?\n\\(\n(-8)-(-5)=\n\\square\\)",
         "\\( 3 \\)",
         "c because on my number line i counted until ive gott to -5 and gave me a answer of 3",
         "False_Neither",
         "NA",
         "False_Neither:NA",
         "36",
         "0"
        ],
        [
         "24",
         "2238",
         "31772",
         "What fraction of the shape is not shaded? Give your answer in its simplest form. [Image: A triangle split into 9 equal smaller triangles. 6 of them are shaded.]",
         "\\( \\frac{1}{3} \\)",
         "there are 9 triangles, 6 are shadedd and 3 are not and 3/9 is the answer which is equivalent to 1/3.",
         "True_Correct",
         "NA",
         "True_Correct:NA",
         "37",
         "1"
        ],
        [
         "25",
         "3676",
         "31772",
         "What fraction of the shape is not shaded? Give your answer in its simplest form. [Image: A triangle split into 9 equal smaller triangles. 6 of them are shaded.]",
         "\\( \\frac{3}{9} \\)",
         "In total there are 9 triangles and there are 6 shaded in and 3 are not. Which gives you the answer 3/9 which can be divided by 3 which equals 1/3",
         "False_Correct",
         "NA",
         "False_Correct:NA",
         "0",
         "0"
        ],
        [
         "26",
         "16560",
         "32829",
         "\\( 2 y=24 \\) What is the value of \\( y \\) ?",
         "\\( 48 \\)",
         "i think it is c because 48 divided by 2 equals 24. also 24x by 2 equals 48.",
         "False_Misconception",
         "Inverse_operation",
         "False_Misconception:Inverse_operation",
         "16",
         "0"
        ],
        [
         "27",
         "25284",
         "33472",
         "\\( \\frac{1}{3}+\\frac{2}{5}= \\)",
         "\\( \\frac{11}{30} \\)",
         "i think it is 11/30 because if youu convert it into 5/15 + 6/15=11/-30.",
         "False_Misconception",
         "Incorrect_equivalent_fraction_addition",
         "False_Misconception:Incorrect_equivalent_fraction_addition",
         "14",
         "0"
        ],
        [
         "28",
         "34256",
         "91695",
         "Dots have been arranged in these patterns: [Image: Pattern 1 consists of 6 dots, Pattern 2 consists of 10 dots, Pattern 3 consists of 14 dots and Pattern 4 consists of 18 dots] How many dots would there be in Pattern \\( 6 \\) ?",
         "\\( 26 \\)",
         "it adds 4 each time so if pattern 4 is 18 then plus 4 is 22",
         "True_Misconception",
         "Wrong_term",
         "True_Misconception:Wrong_term",
         "63",
         "1"
        ],
        [
         "29",
         "34490",
         "91695",
         "Dots have been arranged in these patterns: [Image: Pattern 1 consists of 6 dots, Pattern 2 consists of 10 dots, Pattern 3 consists of 14 dots and Pattern 4 consists of 18 dots] How many dots would there be in Pattern \\( 6 \\) ?",
         "\\( 26 \\)",
         "the pattern is 4 x the pattern number add 2     4 x 6 plus 2 is 26",
         "True_Correct",
         "NA",
         "True_Correct:NA",
         "37",
         "1"
        ],
        [
         "30",
         "25425",
         "33472",
         "\\( \\frac{1}{3}+\\frac{2}{5}= \\)",
         "\\( \\frac{3}{15} \\)",
         "I'm not sure if it's 3 or 8 because 1+2 is 3 and 3+5 is 8 but I think it might be 3/8.",
         "False_Misconception",
         "Adding_across",
         "False_Misconception:Adding_across",
         "1",
         "0"
        ],
        [
         "31",
         "20967",
         "32835",
         "Which number is the greatest?",
         "\\( 6.2 \\)",
         "because it has the highest number in the 10ths column",
         "True_Correct",
         "NA",
         "True_Correct:NA",
         "37",
         "1"
        ],
        [
         "32",
         "15189",
         "32829",
         "\\( 2 y=24 \\) What is the value of \\( y \\) ?",
         "\\( 12 \\)",
         "i think because 2*12is 24 so that's why im sort of guessing",
         "True_Misconception",
         "Not_variable",
         "True_Misconception:Not_variable",
         "54",
         "1"
        ],
        [
         "33",
         "20364",
         "32835",
         "Which number is the greatest?",
         "\\( 6.2 \\)",
         "6 is bigger than decimal numbers",
         "True_Misconception",
         "Whole_numbers_larger",
         "True_Misconception:Whole_numbers_larger",
         "61",
         "1"
        ],
        [
         "34",
         "16185",
         "32829",
         "\\( 2 y=24 \\) What is the value of \\( y \\) ?",
         "\\( 22 \\)",
         "because if you see it say you need to add the 2 to the 22 it makes 24",
         "False_Misconception",
         "Adding_terms",
         "False_Misconception:Adding_terms",
         "2",
         "0"
        ],
        [
         "35",
         "6771",
         "31774",
         "Calculate \\( \\frac{1}{2} \\div 6 \\)",
         "\\( \\frac{1}{12} \\)",
         "You can’t / 6 by 1/2 so you would times it across",
         "True_Misconception",
         "Mult",
         "True_Misconception:Mult",
         "52",
         "1"
        ],
        [
         "36",
         "23580",
         "33472",
         "\\( \\frac{1}{3}+\\frac{2}{5}= \\)",
         "\\( \\frac{11}{15} \\)",
         "1/3 is 5/15\n2/5 is 6/15\n5+6 is 11 so the answer must be d",
         "True_Misconception",
         "Adding_across",
         "True_Misconception:Adding_across",
         "38",
         "1"
        ],
        [
         "37",
         "21212",
         "32835",
         "Which number is the greatest?",
         "\\( 6.2 \\)",
         "d because it has a 6 the same as a but it also has a decimal number which makes it bigger",
         "True_Misconception",
         "Longer_is_bigger",
         "True_Misconception:Longer_is_bigger",
         "51",
         "1"
        ],
        [
         "38",
         "20344",
         "32835",
         "Which number is the greatest?",
         "\\( 6.2 \\)",
         "0.2 is bigger than the numbers in the outher collumns",
         "True_Correct",
         "NA",
         "True_Correct:NA",
         "37",
         "1"
        ],
        [
         "39",
         "33885",
         "91695",
         "Dots have been arranged in these patterns: [Image: Pattern 1 consists of 6 dots, Pattern 2 consists of 10 dots, Pattern 3 consists of 14 dots and Pattern 4 consists of 18 dots] How many dots would there be in Pattern \\( 6 \\) ?",
         "\\( 26 \\)",
         "i added 8 dots to it.",
         "True_Correct",
         "NA",
         "True_Correct:NA",
         "37",
         "1"
        ],
        [
         "40",
         "2600",
         "31772",
         "What fraction of the shape is not shaded? Give your answer in its simplest form. [Image: A triangle split into 9 equal smaller triangles. 6 of them are shaded.]",
         "\\( \\frac{3}{6} \\)",
         "because 3 wernt shaded  and eight were left",
         "False_Neither",
         "NA",
         "False_Neither:NA",
         "36",
         "0"
        ],
        [
         "41",
         "31459",
         "89443",
         "What number belongs in the box?\n\\(\n(-8)-(-5)=\n\\square\\)",
         "\\( -3 \\)",
         "when youu do the calculation, you - 3",
         "True_Neither",
         "NA",
         "True_Neither:NA",
         "64",
         "1"
        ],
        [
         "42",
         "31372",
         "89443",
         "What number belongs in the box?\n\\(\n(-8)-(-5)=\n\\square\\)",
         "\\( -3 \\)",
         "two minuses sum up to make a plus so we do -8+-5 which makes -3.",
         "True_Misconception",
         "Positive",
         "True_Misconception:Positive",
         "55",
         "1"
        ],
        [
         "43",
         "13697",
         "31778",
         "\\( \\frac{A}{10}=\\frac{9}{15} \\) What is the value of \\( A \\) ?",
         "\\( 6 \\)",
         "answers to book also have a nice day miss :d",
         "True_Neither",
         "NA",
         "True_Neither:NA",
         "64",
         "1"
        ],
        [
         "44",
         "16433",
         "32829",
         "\\( 2 y=24 \\) What is the value of \\( y \\) ?",
         "\\( 4 \\)",
         "i think it is 4 because 2 * 24 = 48.",
         "False_Misconception",
         "Inverse_operation",
         "False_Misconception:Inverse_operation",
         "16",
         "0"
        ],
        [
         "45",
         "35684",
         "109465",
         "The probability of an event occurring is \\( 0.9 \\).\n\nWhich of the following most accurately describes the likelihood of the event occurring?",
         "Certain",
         "certain because there is 9 out of 10 a chance",
         "False_Misconception",
         "Certainty",
         "False_Misconception:Certainty",
         "5",
         "0"
        ],
        [
         "46",
         "35497",
         "104665",
         "It takes \\( 3 \\) people a total of \\( 192 \\) hours to build a wall.\n\nHow long would it take if \\( 12 \\) people built the same wall?",
         "\\( 64 \\) hours",
         "because i divide 192 and 3 and then i got this answer",
         "False_Misconception",
         "Base_rate",
         "False_Misconception:Base_rate",
         "4",
         "0"
        ],
        [
         "47",
         "31119",
         "89443",
         "What number belongs in the box?\n\\(\n(-8)-(-5)=\n\\square\\)",
         "\\( -3 \\)",
         "if you take away 5 from 8 then just add the negative symbol it would tell you the answer so it would be -3",
         "True_Correct",
         "NA",
         "True_Correct:NA",
         "37",
         "1"
        ],
        [
         "48",
         "35502",
         "104665",
         "It takes \\( 3 \\) people a total of \\( 192 \\) hours to build a wall.\n\nHow long would it take if \\( 12 \\) people built the same wall?",
         "\\( 64 \\) hours",
         "because you do 3 x 4 is 12 on one side and then you do 192 divided by 3 =64",
         "False_Misconception",
         "Base_rate",
         "False_Misconception:Base_rate",
         "4",
         "0"
        ],
        [
         "49",
         "35496",
         "104665",
         "It takes \\( 3 \\) people a total of \\( 192 \\) hours to build a wall.\n\nHow long would it take if \\( 12 \\) people built the same wall?",
         "\\( 64 \\) hours",
         "because i did 192 divided by 3= 64",
         "False_Misconception",
         "Base_rate",
         "False_Misconception:Base_rate",
         "4",
         "0"
        ]
       ],
       "shape": {
        "columns": 10,
        "rows": 89055
       }
      },
      "text/html": [
       "<div>\n",
       "<style scoped>\n",
       "    .dataframe tbody tr th:only-of-type {\n",
       "        vertical-align: middle;\n",
       "    }\n",
       "\n",
       "    .dataframe tbody tr th {\n",
       "        vertical-align: top;\n",
       "    }\n",
       "\n",
       "    .dataframe thead th {\n",
       "        text-align: right;\n",
       "    }\n",
       "</style>\n",
       "<table border=\"1\" class=\"dataframe\">\n",
       "  <thead>\n",
       "    <tr style=\"text-align: right;\">\n",
       "      <th></th>\n",
       "      <th>row_id</th>\n",
       "      <th>QuestionId</th>\n",
       "      <th>QuestionText</th>\n",
       "      <th>MC_Answer</th>\n",
       "      <th>StudentExplanation</th>\n",
       "      <th>Category</th>\n",
       "      <th>Misconception</th>\n",
       "      <th>target</th>\n",
       "      <th>label</th>\n",
       "      <th>is_correct</th>\n",
       "    </tr>\n",
       "  </thead>\n",
       "  <tbody>\n",
       "    <tr>\n",
       "      <th>0</th>\n",
       "      <td>28442</td>\n",
       "      <td>76870</td>\n",
       "      <td>This is part of a regular polygon. How many si...</td>\n",
       "      <td>Not enough information</td>\n",
       "      <td>there is not enough information to tell</td>\n",
       "      <td>False_Misconception</td>\n",
       "      <td>Unknowable</td>\n",
       "      <td>False_Misconception:Unknowable</td>\n",
       "      <td>29</td>\n",
       "      <td>0</td>\n",
       "    </tr>\n",
       "    <tr>\n",
       "      <th>1</th>\n",
       "      <td>19487</td>\n",
       "      <td>32833</td>\n",
       "      <td>Calculate \\( \\frac{2}{3} \\times 5 \\)</td>\n",
       "      <td>\\( \\frac{2}{15} \\)</td>\n",
       "      <td>i think this because 5 x 3 is 15 and you only ...</td>\n",
       "      <td>False_Misconception</td>\n",
       "      <td>Inversion</td>\n",
       "      <td>False_Misconception:Inversion</td>\n",
       "      <td>17</td>\n",
       "      <td>0</td>\n",
       "    </tr>\n",
       "    <tr>\n",
       "      <th>2</th>\n",
       "      <td>30955</td>\n",
       "      <td>89443</td>\n",
       "      <td>What number belongs in the box?\\n\\(\\n(-8)-(-5)...</td>\n",
       "      <td>\\( -3 \\)</td>\n",
       "      <td>i think this because subtracting a negative is...</td>\n",
       "      <td>True_Misconception</td>\n",
       "      <td>Tacking</td>\n",
       "      <td>True_Misconception:Tacking</td>\n",
       "      <td>59</td>\n",
       "      <td>1</td>\n",
       "    </tr>\n",
       "    <tr>\n",
       "      <th>3</th>\n",
       "      <td>5578</td>\n",
       "      <td>31774</td>\n",
       "      <td>Calculate \\( \\frac{1}{2} \\div 6 \\)</td>\n",
       "      <td>\\( \\frac{1}{12} \\)</td>\n",
       "      <td>1/2÷6 is impossible so I did 6÷1/2 equals 12 s...</td>\n",
       "      <td>True_Misconception</td>\n",
       "      <td>SwapDividend</td>\n",
       "      <td>True_Misconception:SwapDividend</td>\n",
       "      <td>58</td>\n",
       "      <td>1</td>\n",
       "    </tr>\n",
       "    <tr>\n",
       "      <th>4</th>\n",
       "      <td>29169</td>\n",
       "      <td>76870</td>\n",
       "      <td>This is part of a regular polygon. How many si...</td>\n",
       "      <td>\\( 5 \\)</td>\n",
       "      <td>there are five sides in a polygon.</td>\n",
       "      <td>False_Misconception</td>\n",
       "      <td>Definition</td>\n",
       "      <td>False_Misconception:Definition</td>\n",
       "      <td>6</td>\n",
       "      <td>0</td>\n",
       "    </tr>\n",
       "    <tr>\n",
       "      <th>...</th>\n",
       "      <td>...</td>\n",
       "      <td>...</td>\n",
       "      <td>...</td>\n",
       "      <td>...</td>\n",
       "      <td>...</td>\n",
       "      <td>...</td>\n",
       "      <td>...</td>\n",
       "      <td>...</td>\n",
       "      <td>...</td>\n",
       "      <td>...</td>\n",
       "    </tr>\n",
       "    <tr>\n",
       "      <th>89050</th>\n",
       "      <td>34973</td>\n",
       "      <td>104665</td>\n",
       "      <td>It takes \\( 3 \\) people a total of \\( 192 \\) h...</td>\n",
       "      <td>\\( 192 \\) hours</td>\n",
       "      <td>To build the wall takes 192 hours but every pe...</td>\n",
       "      <td>False_Misconception</td>\n",
       "      <td>Base_rate</td>\n",
       "      <td>False_Misconception:Base_rate</td>\n",
       "      <td>4</td>\n",
       "      <td>0</td>\n",
       "    </tr>\n",
       "    <tr>\n",
       "      <th>89051</th>\n",
       "      <td>16268</td>\n",
       "      <td>32829</td>\n",
       "      <td>\\( 2 y=24 \\) What is the value of \\( y \\) ?</td>\n",
       "      <td>\\( 22 \\)</td>\n",
       "      <td>the 2 stands fir a 2 instead of 20.  you add 2...</td>\n",
       "      <td>False_Misconception</td>\n",
       "      <td>Adding_terms</td>\n",
       "      <td>False_Misconception:Adding_terms</td>\n",
       "      <td>2</td>\n",
       "      <td>0</td>\n",
       "    </tr>\n",
       "    <tr>\n",
       "      <th>89052</th>\n",
       "      <td>16302</td>\n",
       "      <td>32829</td>\n",
       "      <td>\\( 2 y=24 \\) What is the value of \\( y \\) ?</td>\n",
       "      <td>\\( 4 \\)</td>\n",
       "      <td>24 is a multiple of 4 and whatever thee number...</td>\n",
       "      <td>False_Misconception</td>\n",
       "      <td>Not_variable</td>\n",
       "      <td>False_Misconception:Not_variable</td>\n",
       "      <td>22</td>\n",
       "      <td>0</td>\n",
       "    </tr>\n",
       "    <tr>\n",
       "      <th>89053</th>\n",
       "      <td>36622</td>\n",
       "      <td>109465</td>\n",
       "      <td>The probability of an event occurring is \\( 0....</td>\n",
       "      <td>Unlikely</td>\n",
       "      <td>its not very likely as 0.9 is a small number</td>\n",
       "      <td>False_Misconception</td>\n",
       "      <td>Scale</td>\n",
       "      <td>False_Misconception:Scale</td>\n",
       "      <td>24</td>\n",
       "      <td>0</td>\n",
       "    </tr>\n",
       "    <tr>\n",
       "      <th>89054</th>\n",
       "      <td>28138</td>\n",
       "      <td>76870</td>\n",
       "      <td>This is part of a regular polygon. How many si...</td>\n",
       "      <td>Not enough information</td>\n",
       "      <td>I am not sure andd I do not understand and the...</td>\n",
       "      <td>False_Misconception</td>\n",
       "      <td>Unknowable</td>\n",
       "      <td>False_Misconception:Unknowable</td>\n",
       "      <td>29</td>\n",
       "      <td>0</td>\n",
       "    </tr>\n",
       "  </tbody>\n",
       "</table>\n",
       "<p>89055 rows × 10 columns</p>\n",
       "</div>"
      ],
      "text/plain": [
       "       row_id  QuestionId                                       QuestionText  \\\n",
       "0       28442       76870  This is part of a regular polygon. How many si...   \n",
       "1       19487       32833               Calculate \\( \\frac{2}{3} \\times 5 \\)   \n",
       "2       30955       89443  What number belongs in the box?\\n\\(\\n(-8)-(-5)...   \n",
       "3        5578       31774                 Calculate \\( \\frac{1}{2} \\div 6 \\)   \n",
       "4       29169       76870  This is part of a regular polygon. How many si...   \n",
       "...       ...         ...                                                ...   \n",
       "89050   34973      104665  It takes \\( 3 \\) people a total of \\( 192 \\) h...   \n",
       "89051   16268       32829        \\( 2 y=24 \\) What is the value of \\( y \\) ?   \n",
       "89052   16302       32829        \\( 2 y=24 \\) What is the value of \\( y \\) ?   \n",
       "89053   36622      109465  The probability of an event occurring is \\( 0....   \n",
       "89054   28138       76870  This is part of a regular polygon. How many si...   \n",
       "\n",
       "                    MC_Answer  \\\n",
       "0      Not enough information   \n",
       "1          \\( \\frac{2}{15} \\)   \n",
       "2                    \\( -3 \\)   \n",
       "3          \\( \\frac{1}{12} \\)   \n",
       "4                     \\( 5 \\)   \n",
       "...                       ...   \n",
       "89050         \\( 192 \\) hours   \n",
       "89051                \\( 22 \\)   \n",
       "89052                 \\( 4 \\)   \n",
       "89053                Unlikely   \n",
       "89054  Not enough information   \n",
       "\n",
       "                                      StudentExplanation             Category  \\\n",
       "0                there is not enough information to tell  False_Misconception   \n",
       "1      i think this because 5 x 3 is 15 and you only ...  False_Misconception   \n",
       "2      i think this because subtracting a negative is...   True_Misconception   \n",
       "3      1/2÷6 is impossible so I did 6÷1/2 equals 12 s...   True_Misconception   \n",
       "4                     there are five sides in a polygon.  False_Misconception   \n",
       "...                                                  ...                  ...   \n",
       "89050  To build the wall takes 192 hours but every pe...  False_Misconception   \n",
       "89051  the 2 stands fir a 2 instead of 20.  you add 2...  False_Misconception   \n",
       "89052  24 is a multiple of 4 and whatever thee number...  False_Misconception   \n",
       "89053       its not very likely as 0.9 is a small number  False_Misconception   \n",
       "89054  I am not sure andd I do not understand and the...  False_Misconception   \n",
       "\n",
       "      Misconception                            target  label  is_correct  \n",
       "0        Unknowable    False_Misconception:Unknowable     29           0  \n",
       "1         Inversion     False_Misconception:Inversion     17           0  \n",
       "2           Tacking        True_Misconception:Tacking     59           1  \n",
       "3      SwapDividend   True_Misconception:SwapDividend     58           1  \n",
       "4        Definition    False_Misconception:Definition      6           0  \n",
       "...             ...                               ...    ...         ...  \n",
       "89050     Base_rate     False_Misconception:Base_rate      4           0  \n",
       "89051  Adding_terms  False_Misconception:Adding_terms      2           0  \n",
       "89052  Not_variable  False_Misconception:Not_variable     22           0  \n",
       "89053         Scale         False_Misconception:Scale     24           0  \n",
       "89054    Unknowable    False_Misconception:Unknowable     29           0  \n",
       "\n",
       "[89055 rows x 10 columns]"
      ]
     },
     "execution_count": 80,
     "metadata": {},
     "output_type": "execute_result"
    }
   ],
   "source": [
    "# Random Resample Dataset\n",
    "# trainDF = trainDF.sample(frac=1.0, replace=True)\n",
    "# trainDF = trainDF.reset_index(drop=True)\n",
    "# trainDF\n",
    "\n",
    "trainDF_balanced= trainDF_balanced.sample(frac=1.0, replace=True)\n",
    "trainDF_balanced = trainDF_balanced.reset_index(drop=True)\n",
    "trainDF_balanced"
   ]
  },
  {
   "cell_type": "code",
   "execution_count": 81,
   "metadata": {
    "execution": {
     "iopub.execute_input": "2025-09-27T14:46:26.236847Z",
     "iopub.status.busy": "2025-09-27T14:46:26.236578Z",
     "iopub.status.idle": "2025-09-27T14:46:26.242976Z",
     "shell.execute_reply": "2025-09-27T14:46:26.242172Z",
     "shell.execute_reply.started": "2025-09-27T14:46:26.236828Z"
    }
   },
   "outputs": [],
   "source": [
    "PROMPT_FORMAT1 = \"\"\"\\\n",
    "You are an expert in identifying math misconceptions from student explanations.\n",
    "\n",
    "Question: {QuestionText}\n",
    "Answer: {MC_Answer}\n",
    "Correct: {Correct}\n",
    "Student Explanation: {StudentExplanation}\n",
    "\n",
    "Identify the specific type of math misconception in the student's explanation.\n",
    "Give a short, clear label for the misconception.\n",
    "\"\"\"\n",
    "\n",
    "PROMPT_FORMAT2 = \"\"\"\\\n",
    "You are an expert educational diagnostician specializing in identifying students' math misconceptions from their written explanations.\n",
    "Your task is to analyze the student's explanation and classify the specific type of misconception they demonstrate.\n",
    "\n",
    "Question: {QuestionText}\n",
    "Answer: {MC_Answer}\n",
    "Correct: {Correct}\n",
    "Student Explanation: {StudentExplanation}\n",
    "\n",
    "Based on the information above, identify and label the underlying math misconception in the student's explanation.\n",
    "Provide a clear and concise classification of the misconception type.\n",
    "\"\"\"\n",
    "\n",
    "PROMPT_FORMAT3 = \"\"\"\\\n",
    "You are an expert in analyzing students' answers to math problems and identifying specific types of misunderstandings.\n",
    "Given the following information, classify the student's misunderstanding.\n",
    "\n",
    "Question: {QuestionText}\n",
    "Answer: {MC_Answer}\n",
    "Correct: {Correct}\n",
    "Student Explanation: {StudentExplanation}\n",
    "\n",
    "Please determine the type of misunderstanding the student has.\n",
    "\"\"\"\n",
    "\n",
    "PROMPT_FORMAT4 = \"\"\"\\\n",
    "You are a specialist in identifying the types of misunderstandings that arise from students’ answers to math problems.\n",
    "Based on the information provided below, please determine what kind of misunderstanding the student has.\n",
    "\n",
    "Question: {QuestionText}\n",
    "Answer: {MC_Answer}\n",
    "Correct: {Correct}\n",
    "Student Explanation: {StudentExplanation}\n",
    "\"\"\""
   ]
  },
  {
   "cell_type": "code",
   "execution_count": 82,
   "metadata": {
    "execution": {
     "iopub.execute_input": "2025-09-27T14:46:26.244326Z",
     "iopub.status.busy": "2025-09-27T14:46:26.243970Z",
     "iopub.status.idle": "2025-09-27T14:46:26.260344Z",
     "shell.execute_reply": "2025-09-27T14:46:26.259507Z",
     "shell.execute_reply.started": "2025-09-27T14:46:26.244269Z"
    }
   },
   "outputs": [],
   "source": [
    "\n",
    "def generateTrainContent(row):\n",
    "    x= \"True\"\n",
    "    if not row[\"is_correct\"]:\n",
    "        x= \"False\"\n",
    "    return PROMPT_FORMAT3.format(\n",
    "        QuestionText=row['QuestionText'],\n",
    "        MC_Answer=row['MC_Answer'],\n",
    "        Correct=x,\n",
    "        StudentExplanation=row['StudentExplanation']\n",
    "        \n",
    "    )"
   ]
  },
  {
   "cell_type": "code",
   "execution_count": 83,
   "metadata": {
    "execution": {
     "iopub.execute_input": "2025-09-27T14:46:26.261519Z",
     "iopub.status.busy": "2025-09-27T14:46:26.261222Z",
     "iopub.status.idle": "2025-09-27T14:46:27.458981Z",
     "shell.execute_reply": "2025-09-27T14:46:27.458133Z",
     "shell.execute_reply.started": "2025-09-27T14:46:26.261496Z"
    }
   },
   "outputs": [],
   "source": [
    "# trainDF[\"LLM_Content\"]= trainDF.apply(generateTrainContent, axis=1)\n",
    "trainDF_balanced[\"LLM_Content\"] = trainDF_balanced.apply(generateTrainContent, axis=1)"
   ]
  },
  {
   "cell_type": "code",
   "execution_count": 84,
   "metadata": {
    "execution": {
     "iopub.execute_input": "2025-09-27T14:46:27.460162Z",
     "iopub.status.busy": "2025-09-27T14:46:27.459864Z",
     "iopub.status.idle": "2025-09-27T14:46:27.465569Z",
     "shell.execute_reply": "2025-09-27T14:46:27.464483Z",
     "shell.execute_reply.started": "2025-09-27T14:46:27.460136Z"
    }
   },
   "outputs": [],
   "source": [
    "testDF[\"LLM_Content\"]= testDF.apply(generateTrainContent, axis=1)"
   ]
  },
  {
   "cell_type": "code",
   "execution_count": 85,
   "metadata": {
    "execution": {
     "iopub.execute_input": "2025-09-27T14:46:27.466771Z",
     "iopub.status.busy": "2025-09-27T14:46:27.466470Z",
     "iopub.status.idle": "2025-09-27T14:46:27.478115Z",
     "shell.execute_reply": "2025-09-27T14:46:27.477231Z",
     "shell.execute_reply.started": "2025-09-27T14:46:27.466744Z"
    }
   },
   "outputs": [
    {
     "name": "stdout",
     "output_type": "stream",
     "text": [
      "You are an expert in analyzing students' answers to math problems and identifying specific types of misunderstandings.\n",
      "Given the following information, classify the student's misunderstanding.\n",
      "\n",
      "Question: This is part of a regular polygon. How many sides does it have? [Image: A diagram showing an obtuse angle labelled 144 degrees]\n",
      "Answer: Not enough information\n",
      "Correct: False\n",
      "Student Explanation: there is not enough information to tell\n",
      "\n",
      "Please determine the type of misunderstanding the student has.\n",
      "\n"
     ]
    }
   ],
   "source": [
    "# print one of example\n",
    "print(trainDF_balanced[\"LLM_Content\"].values[0])"
   ]
  },
  {
   "cell_type": "code",
   "execution_count": 86,
   "metadata": {
    "execution": {
     "iopub.execute_input": "2025-09-27T14:46:27.479386Z",
     "iopub.status.busy": "2025-09-27T14:46:27.479061Z",
     "iopub.status.idle": "2025-09-27T14:46:27.489477Z",
     "shell.execute_reply": "2025-09-27T14:46:27.488592Z",
     "shell.execute_reply.started": "2025-09-27T14:46:27.479361Z"
    }
   },
   "outputs": [
    {
     "name": "stdout",
     "output_type": "stream",
     "text": [
      "You are an expert in analyzing students' answers to math problems and identifying specific types of misunderstandings.\n",
      "Given the following information, classify the student's misunderstanding.\n",
      "\n",
      "Question: What fraction of the shape is not shaded? Give your answer in its simplest form. [Image: A triangle split into 9 equal smaller triangles. 6 of them are shaded.]\n",
      "Answer: \\( \\frac{1}{3} \\)\n",
      "Correct: True\n",
      "Student Explanation: I think that 1/3 is the answer, as it's the simplest form of 3/9.\n",
      "\n",
      "Please determine the type of misunderstanding the student has.\n",
      "\n"
     ]
    }
   ],
   "source": [
    "print(testDF[\"LLM_Content\"].values[0])"
   ]
  },
  {
   "cell_type": "markdown",
   "metadata": {},
   "source": [
    "## lenght of the LLM conntent"
   ]
  },
  {
   "cell_type": "code",
   "execution_count": 87,
   "metadata": {
    "execution": {
     "iopub.execute_input": "2025-09-27T14:46:27.491178Z",
     "iopub.status.busy": "2025-09-27T14:46:27.490837Z",
     "iopub.status.idle": "2025-09-27T14:47:06.321882Z",
     "shell.execute_reply": "2025-09-27T14:47:06.320988Z",
     "shell.execute_reply.started": "2025-09-27T14:46:27.491142Z"
    }
   },
   "outputs": [
    {
     "data": {
      "application/vnd.microsoft.datawrangler.viewer.v0+json": {
       "columns": [
        {
         "name": "index",
         "rawType": "object",
         "type": "string"
        },
        {
         "name": "Length",
         "rawType": "float64",
         "type": "float"
        }
       ],
       "ref": "86e5bc9f-14ba-4b7c-b2fa-f3708befe71c",
       "rows": [
        [
         "count",
         "89055.0"
        ],
        [
         "mean",
         "110.81720285217001"
        ],
        [
         "std",
         "20.97677685586268"
        ],
        [
         "min",
         "69.0"
        ],
        [
         "25%",
         "96.0"
        ],
        [
         "50%",
         "108.0"
        ],
        [
         "75%",
         "123.0"
        ],
        [
         "max",
         "268.0"
        ]
       ],
       "shape": {
        "columns": 1,
        "rows": 8
       }
      },
      "text/plain": [
       "count    89055.000000\n",
       "mean       110.817203\n",
       "std         20.976777\n",
       "min         69.000000\n",
       "25%         96.000000\n",
       "50%        108.000000\n",
       "75%        123.000000\n",
       "max        268.000000\n",
       "Name: Length, dtype: float64"
      ]
     },
     "execution_count": 87,
     "metadata": {},
     "output_type": "execute_result"
    }
   ],
   "source": [
    "# trainDF[\"Length\"] = trainDF[\"LLM_Content\"].str.len()\n",
    "trainDF_balanced[\"Length\"] = [len(tokenizer.encode(t, truncation=False)) for t in trainDF_balanced[\"LLM_Content\"]]\n",
    "\n",
    "trainDF_balanced[\"Length\"].describe()"
   ]
  },
  {
   "cell_type": "code",
   "execution_count": 88,
   "metadata": {
    "execution": {
     "iopub.execute_input": "2025-09-27T14:47:06.326409Z",
     "iopub.status.busy": "2025-09-27T14:47:06.325755Z",
     "iopub.status.idle": "2025-09-27T14:47:06.609868Z",
     "shell.execute_reply": "2025-09-27T14:47:06.609088Z",
     "shell.execute_reply.started": "2025-09-27T14:47:06.326375Z"
    }
   },
   "outputs": [
    {
     "data": {
      "image/png": "[encoded data removed]",
      "text/plain": [
       "<Figure size 640x480 with 1 Axes>"
      ]
     },
     "metadata": {},
     "output_type": "display_data"
    }
   ],
   "source": [
    "trainDF_balanced[\"Length\"].plot(kind='hist', bins=50, subplots=True,sharex=True,sharey=True, title='LLM Content Length Distribution');"
   ]
  },
  {
   "cell_type": "code",
   "execution_count": 89,
   "metadata": {
    "execution": {
     "iopub.execute_input": "2025-09-27T14:47:06.611118Z",
     "iopub.status.busy": "2025-09-27T14:47:06.610851Z",
     "iopub.status.idle": "2025-09-27T14:47:06.617298Z",
     "shell.execute_reply": "2025-09-27T14:47:06.616495Z",
     "shell.execute_reply.started": "2025-09-27T14:47:06.611095Z"
    }
   },
   "outputs": [
    {
     "name": "stdout",
     "output_type": "stream",
     "text": [
      "There are 1 train sample(s) with more than 256 tokens\n"
     ]
    }
   ],
   "source": [
    "MAX_LEN = 256 #512\n",
    "L = (np.array(trainDF_balanced[\"Length\"])>MAX_LEN).sum()\n",
    "print(f\"There are {L} train sample(s) with more than {MAX_LEN} tokens\")"
   ]
  },
  {
   "cell_type": "markdown",
   "metadata": {
    "execution": {
     "iopub.execute_input": "2025-08-12T14:48:14.784040Z",
     "iopub.status.busy": "2025-08-12T14:48:14.783703Z",
     "iopub.status.idle": "2025-08-12T14:48:14.788666Z",
     "shell.execute_reply": "2025-08-12T14:48:14.787640Z",
     "shell.execute_reply.started": "2025-08-12T14:48:14.784018Z"
    }
   },
   "source": [
    "### MAX window size 256 is suitable for training "
   ]
  },
  {
   "cell_type": "markdown",
   "metadata": {},
   "source": [
    "## Create Dataset"
   ]
  },
  {
   "cell_type": "code",
   "execution_count": 90,
   "metadata": {
    "execution": {
     "iopub.execute_input": "2025-09-27T14:47:06.618581Z",
     "iopub.status.busy": "2025-09-27T14:47:06.618211Z",
     "iopub.status.idle": "2025-09-27T14:47:06.629554Z",
     "shell.execute_reply": "2025-09-27T14:47:06.628815Z",
     "shell.execute_reply.started": "2025-09-27T14:47:06.618552Z"
    }
   },
   "outputs": [
    {
     "data": {
      "text/plain": [
       "(89055, 75697)"
      ]
     },
     "execution_count": 90,
     "metadata": {},
     "output_type": "execute_result"
    }
   ],
   "source": [
    "len(trainDF_balanced) , round(len(trainDF_balanced) * 0.85) # check train data size"
   ]
  },
  {
   "cell_type": "code",
   "execution_count": 91,
   "metadata": {
    "execution": {
     "iopub.execute_input": "2025-09-27T14:47:06.630611Z",
     "iopub.status.busy": "2025-09-27T14:47:06.630402Z",
     "iopub.status.idle": "2025-09-27T14:47:06.641978Z",
     "shell.execute_reply": "2025-09-27T14:47:06.641201Z",
     "shell.execute_reply.started": "2025-09-27T14:47:06.630594Z"
    }
   },
   "outputs": [
    {
     "data": {
      "text/plain": [
       "89055"
      ]
     },
     "execution_count": 91,
     "metadata": {},
     "output_type": "execute_result"
    }
   ],
   "source": [
    "totalTrainSize= len(trainDF_balanced)\n",
    "totalTrainSize"
   ]
  },
  {
   "cell_type": "code",
   "execution_count": 92,
   "metadata": {
    "execution": {
     "iopub.execute_input": "2025-09-27T14:47:06.643203Z",
     "iopub.status.busy": "2025-09-27T14:47:06.642903Z",
     "iopub.status.idle": "2025-09-27T14:47:06.653857Z",
     "shell.execute_reply": "2025-09-27T14:47:06.653150Z",
     "shell.execute_reply.started": "2025-09-27T14:47:06.643177Z"
    }
   },
   "outputs": [
    {
     "data": {
      "text/plain": [
       "89005"
      ]
     },
     "execution_count": 92,
     "metadata": {},
     "output_type": "execute_result"
    }
   ],
   "source": [
    "setMaxTrainData = totalTrainSize - CFG.valDatasetSize\n",
    "setMaxTrainData"
   ]
  },
  {
   "cell_type": "code",
   "execution_count": null,
   "metadata": {},
   "outputs": [],
   "source": []
  },
  {
   "cell_type": "markdown",
   "metadata": {},
   "source": [
    "### Create Dataset for Train/Validation"
   ]
  },
  {
   "cell_type": "code",
   "execution_count": 93,
   "metadata": {
    "execution": {
     "iopub.execute_input": "2025-09-27T14:47:06.654980Z",
     "iopub.status.busy": "2025-09-27T14:47:06.654747Z",
     "iopub.status.idle": "2025-09-27T14:47:06.690394Z",
     "shell.execute_reply": "2025-09-27T14:47:06.689621Z",
     "shell.execute_reply.started": "2025-09-27T14:47:06.654961Z"
    }
   },
   "outputs": [],
   "source": [
    "# tempTrainDF = trainDF[:setMaxTrainData]\n",
    "# tempValDF = trainDF[setMaxTrainData:] \n",
    "\n",
    "\n",
    "# tempTrainDF , tempValDF = train_test_split(trainDF_balanced , stratify= trainDF[\"is_correct\"], test_size=CFG.test_size, random_state=42)\n",
    "tempTrainDF , tempValDF = train_test_split(trainDF_balanced ,  test_size=CFG.test_size, random_state=42)"
   ]
  },
  {
   "cell_type": "code",
   "execution_count": 94,
   "metadata": {
    "execution": {
     "iopub.execute_input": "2025-09-27T14:47:06.691472Z",
     "iopub.status.busy": "2025-09-27T14:47:06.691200Z",
     "iopub.status.idle": "2025-09-27T14:47:06.706112Z",
     "shell.execute_reply": "2025-09-27T14:47:06.705121Z",
     "shell.execute_reply.started": "2025-09-27T14:47:06.691451Z"
    }
   },
   "outputs": [
    {
     "data": {
      "application/vnd.microsoft.datawrangler.viewer.v0+json": {
       "columns": [
        {
         "name": "index",
         "rawType": "int64",
         "type": "integer"
        },
        {
         "name": "row_id",
         "rawType": "int64",
         "type": "integer"
        },
        {
         "name": "QuestionId",
         "rawType": "int64",
         "type": "integer"
        },
        {
         "name": "QuestionText",
         "rawType": "object",
         "type": "string"
        },
        {
         "name": "MC_Answer",
         "rawType": "object",
         "type": "string"
        },
        {
         "name": "StudentExplanation",
         "rawType": "object",
         "type": "string"
        },
        {
         "name": "Category",
         "rawType": "object",
         "type": "string"
        },
        {
         "name": "Misconception",
         "rawType": "object",
         "type": "string"
        },
        {
         "name": "target",
         "rawType": "object",
         "type": "string"
        },
        {
         "name": "label",
         "rawType": "int64",
         "type": "integer"
        },
        {
         "name": "is_correct",
         "rawType": "int64",
         "type": "integer"
        },
        {
         "name": "LLM_Content",
         "rawType": "object",
         "type": "string"
        },
        {
         "name": "Length",
         "rawType": "int64",
         "type": "integer"
        }
       ],
       "ref": "95b7e0c4-6592-402a-b49b-e63a5a350d28",
       "rows": [
        [
         "76694",
         "29040",
         "76870",
         "This is part of a regular polygon. How many sides does it have? [Image: A diagram showing an obtuse angle labelled 144 degrees]",
         "\\( 5 \\)",
         "144 x 5 = 720 so the shape has to have 5 sides",
         "False_Misconception",
         "Interior",
         "False_Misconception:Interior",
         "15",
         "0",
         "You are an expert in analyzing students' answers to math problems and identifying specific types of misunderstandings.\nGiven the following information, classify the student's misunderstanding.\n\nQuestion: This is part of a regular polygon. How many sides does it have? [Image: A diagram showing an obtuse angle labelled 144 degrees]\nAnswer: \\( 5 \\)\nCorrect: False\nStudent Explanation: 144 x 5 = 720 so the shape has to have 5 sides\n\nPlease determine the type of misunderstanding the student has.\n",
         "111"
        ],
        [
         "75200",
         "2353",
         "31772",
         "What fraction of the shape is not shaded? Give your answer in its simplest form. [Image: A triangle split into 9 equal smaller triangles. 6 of them are shaded.]",
         "\\( \\frac{3}{6} \\)",
         "3 are not shaded and 6 are shadedas.",
         "False_Misconception",
         "WNB",
         "False_Misconception:WNB",
         "30",
         "0",
         "You are an expert in analyzing students' answers to math problems and identifying specific types of misunderstandings.\nGiven the following information, classify the student's misunderstanding.\n\nQuestion: What fraction of the shape is not shaded? Give your answer in its simplest form. [Image: A triangle split into 9 equal smaller triangles. 6 of them are shaded.]\nAnswer: \\( \\frac{3}{6} \\)\nCorrect: False\nStudent Explanation: 3 are not shaded and 6 are shadedas.\n\nPlease determine the type of misunderstanding the student has.\n",
         "112"
        ],
        [
         "23029",
         "19939",
         "32835",
         "Which number is the greatest?",
         "\\( 6 \\)",
         "because the bigger the number in the decimal the smaller the number gets so, i put a",
         "False_Misconception",
         "Shorter_is_bigger",
         "False_Misconception:Shorter_is_bigger",
         "25",
         "0",
         "You are an expert in analyzing students' answers to math problems and identifying specific types of misunderstandings.\nGiven the following information, classify the student's misunderstanding.\n\nQuestion: Which number is the greatest?\nAnswer: \\( 6 \\)\nCorrect: False\nStudent Explanation: because the bigger the number in the decimal the smaller the number gets so, i put a\n\nPlease determine the type of misunderstanding the student has.\n",
         "82"
        ],
        [
         "88940",
         "33148",
         "91695",
         "Dots have been arranged in these patterns: [Image: Pattern 1 consists of 6 dots, Pattern 2 consists of 10 dots, Pattern 3 consists of 14 dots and Pattern 4 consists of 18 dots] How many dots would there be in Pattern \\( 6 \\) ?",
         "\\( 22 \\)",
         "when you start with 6 then it will be 10, then 14 then 18 then thee answer would be 22",
         "False_Misconception",
         "Wrong_term",
         "False_Misconception:Wrong_term",
         "35",
         "0",
         "You are an expert in analyzing students' answers to math problems and identifying specific types of misunderstandings.\nGiven the following information, classify the student's misunderstanding.\n\nQuestion: Dots have been arranged in these patterns: [Image: Pattern 1 consists of 6 dots, Pattern 2 consists of 10 dots, Pattern 3 consists of 14 dots and Pattern 4 consists of 18 dots] How many dots would there be in Pattern \\( 6 \\) ?\nAnswer: \\( 22 \\)\nCorrect: False\nStudent Explanation: when you start with 6 then it will be 10, then 14 then 18 then thee answer would be 22\n\nPlease determine the type of misunderstanding the student has.\n",
         "154"
        ],
        [
         "44519",
         "6279",
         "31774",
         "Calculate \\( \\frac{1}{2} \\div 6 \\)",
         "\\( \\frac{1}{12} \\)",
         "I think this because 6 becomes 6/1 and then flipped the fraction to become 1/6 after i times the two fractions together to get the answer of A.",
         "True_Correct",
         "NA",
         "True_Correct:NA",
         "37",
         "1",
         "You are an expert in analyzing students' answers to math problems and identifying specific types of misunderstandings.\nGiven the following information, classify the student's misunderstanding.\n\nQuestion: Calculate \\( \\frac{1}{2} \\div 6 \\)\nAnswer: \\( \\frac{1}{12} \\)\nCorrect: True\nStudent Explanation: I think this because 6 becomes 6/1 and then flipped the fraction to become 1/6 after i times the two fractions together to get the answer of A.\n\nPlease determine the type of misunderstanding the student has.\n",
         "114"
        ],
        [
         "10121",
         "32764",
         "91695",
         "Dots have been arranged in these patterns: [Image: Pattern 1 consists of 6 dots, Pattern 2 consists of 10 dots, Pattern 3 consists of 14 dots and Pattern 4 consists of 18 dots] How many dots would there be in Pattern \\( 6 \\) ?",
         "\\( 22 \\)",
         "because you have to add 4 dots every time you go up a number",
         "False_Misconception",
         "Wrong_term",
         "False_Misconception:Wrong_term",
         "35",
         "0",
         "You are an expert in analyzing students' answers to math problems and identifying specific types of misunderstandings.\nGiven the following information, classify the student's misunderstanding.\n\nQuestion: Dots have been arranged in these patterns: [Image: Pattern 1 consists of 6 dots, Pattern 2 consists of 10 dots, Pattern 3 consists of 14 dots and Pattern 4 consists of 18 dots] How many dots would there be in Pattern \\( 6 \\) ?\nAnswer: \\( 22 \\)\nCorrect: False\nStudent Explanation: because you have to add 4 dots every time you go up a number\n\nPlease determine the type of misunderstanding the student has.\n",
         "139"
        ],
        [
         "59631",
         "18386",
         "32833",
         "Calculate \\( \\frac{2}{3} \\times 5 \\)",
         "\\( \\frac{10}{15} \\)",
         "For the top and bottom, you times them by 5.",
         "False_Misconception",
         "Duplication",
         "False_Misconception:Duplication",
         "9",
         "0",
         "You are an expert in analyzing students' answers to math problems and identifying specific types of misunderstandings.\nGiven the following information, classify the student's misunderstanding.\n\nQuestion: Calculate \\( \\frac{2}{3} \\times 5 \\)\nAnswer: \\( \\frac{10}{15} \\)\nCorrect: False\nStudent Explanation: For the top and bottom, you times them by 5.\n\nPlease determine the type of misunderstanding the student has.\n",
         "92"
        ],
        [
         "74282",
         "31218",
         "89443",
         "What number belongs in the box?\n\\(\n(-8)-(-5)=\n\\square\\)",
         "\\( -3 \\)",
         "minus a negative makes it positive so you add",
         "True_Correct",
         "NA",
         "True_Correct:NA",
         "37",
         "1",
         "You are an expert in analyzing students' answers to math problems and identifying specific types of misunderstandings.\nGiven the following information, classify the student's misunderstanding.\n\nQuestion: What number belongs in the box?\n\\(\n(-8)-(-5)=\n\\square\\)\nAnswer: \\( -3 \\)\nCorrect: True\nStudent Explanation: minus a negative makes it positive so you add\n\nPlease determine the type of misunderstanding the student has.\n",
         "87"
        ],
        [
         "19402",
         "1794",
         "31772",
         "What fraction of the shape is not shaded? Give your answer in its simplest form. [Image: A triangle split into 9 equal smaller triangles. 6 of them are shaded.]",
         "\\( \\frac{1}{3} \\)",
         "here we see that 6/9 triangles are shaded and 3 are not which means that 3/9 aren't.",
         "True_Correct",
         "NA",
         "True_Correct:NA",
         "37",
         "1",
         "You are an expert in analyzing students' answers to math problems and identifying specific types of misunderstandings.\nGiven the following information, classify the student's misunderstanding.\n\nQuestion: What fraction of the shape is not shaded? Give your answer in its simplest form. [Image: A triangle split into 9 equal smaller triangles. 6 of them are shaded.]\nAnswer: \\( \\frac{1}{3} \\)\nCorrect: True\nStudent Explanation: here we see that 6/9 triangles are shaded and 3 are not which means that 3/9 aren't.\n\nPlease determine the type of misunderstanding the student has.\n",
         "126"
        ],
        [
         "61636",
         "34447",
         "91695",
         "Dots have been arranged in these patterns: [Image: Pattern 1 consists of 6 dots, Pattern 2 consists of 10 dots, Pattern 3 consists of 14 dots and Pattern 4 consists of 18 dots] How many dots would there be in Pattern \\( 6 \\) ?",
         "\\( 26 \\)",
         "the middle dots would be 24 and the remaining 2 so 24 + 2 is 26",
         "True_Correct",
         "NA",
         "True_Correct:NA",
         "37",
         "1",
         "You are an expert in analyzing students' answers to math problems and identifying specific types of misunderstandings.\nGiven the following information, classify the student's misunderstanding.\n\nQuestion: Dots have been arranged in these patterns: [Image: Pattern 1 consists of 6 dots, Pattern 2 consists of 10 dots, Pattern 3 consists of 14 dots and Pattern 4 consists of 18 dots] How many dots would there be in Pattern \\( 6 \\) ?\nAnswer: \\( 26 \\)\nCorrect: True\nStudent Explanation: the middle dots would be 24 and the remaining 2 so 24 + 2 is 26\n\nPlease determine the type of misunderstanding the student has.\n",
         "148"
        ],
        [
         "36012",
         "35096",
         "104665",
         "It takes \\( 3 \\) people a total of \\( 192 \\) hours to build a wall.\n\nHow long would it take if \\( 12 \\) people built the same wall?",
         "\\( 48 \\) hours",
         "because 192 divided by 4 as 3 times 4 is 12 and there is 4 people so it is 48 hours",
         "True_Correct",
         "NA",
         "True_Correct:NA",
         "37",
         "1",
         "You are an expert in analyzing students' answers to math problems and identifying specific types of misunderstandings.\nGiven the following information, classify the student's misunderstanding.\n\nQuestion: It takes \\( 3 \\) people a total of \\( 192 \\) hours to build a wall.\n\nHow long would it take if \\( 12 \\) people built the same wall?\nAnswer: \\( 48 \\) hours\nCorrect: True\nStudent Explanation: because 192 divided by 4 as 3 times 4 is 12 and there is 4 people so it is 48 hours\n\nPlease determine the type of misunderstanding the student has.\n",
         "135"
        ],
        [
         "73845",
         "31174",
         "89443",
         "What number belongs in the box?\n\\(\n(-8)-(-5)=\n\\square\\)",
         "\\( -3 \\)",
         "it is the same as 8-5, only negative.",
         "True_Misconception",
         "Tacking",
         "True_Misconception:Tacking",
         "59",
         "1",
         "You are an expert in analyzing students' answers to math problems and identifying specific types of misunderstandings.\nGiven the following information, classify the student's misunderstanding.\n\nQuestion: What number belongs in the box?\n\\(\n(-8)-(-5)=\n\\square\\)\nAnswer: \\( -3 \\)\nCorrect: True\nStudent Explanation: it is the same as 8-5, only negative.\n\nPlease determine the type of misunderstanding the student has.\n",
         "90"
        ],
        [
         "47620",
         "1356",
         "31772",
         "What fraction of the shape is not shaded? Give your answer in its simplest form. [Image: A triangle split into 9 equal smaller triangles. 6 of them are shaded.]",
         "\\( \\frac{1}{3} \\)",
         "There are 9 spaces and 3 are shaded to get 3/9.",
         "True_Neither",
         "NA",
         "True_Neither:NA",
         "64",
         "1",
         "You are an expert in analyzing students' answers to math problems and identifying specific types of misunderstandings.\nGiven the following information, classify the student's misunderstanding.\n\nQuestion: What fraction of the shape is not shaded? Give your answer in its simplest form. [Image: A triangle split into 9 equal smaller triangles. 6 of them are shaded.]\nAnswer: \\( \\frac{1}{3} \\)\nCorrect: True\nStudent Explanation: There are 9 spaces and 3 are shaded to get 3/9.\n\nPlease determine the type of misunderstanding the student has.\n",
         "117"
        ],
        [
         "84591",
         "22753",
         "33471",
         "A bag contains \\( 24 \\) yellow and green balls. \\( \\frac{3}{8} \\) of the balls are yellow. How many of the balls are green?",
         "\\( 15 \\)",
         "if you divided 24 by the dino inalterable you get three. next you do 3 x 3 to get nine and the remaining number is the answer",
         "True_Misconception",
         "Wrong_fraction",
         "True_Misconception:Wrong_fraction",
         "62",
         "1",
         "You are an expert in analyzing students' answers to math problems and identifying specific types of misunderstandings.\nGiven the following information, classify the student's misunderstanding.\n\nQuestion: A bag contains \\( 24 \\) yellow and green balls. \\( \\frac{3}{8} \\) of the balls are yellow. How many of the balls are green?\nAnswer: \\( 15 \\)\nCorrect: True\nStudent Explanation: if you divided 24 by the dino inalterable you get three. next you do 3 x 3 to get nine and the remaining number is the answer\n\nPlease determine the type of misunderstanding the student has.\n",
         "132"
        ],
        [
         "23176",
         "24487",
         "33472",
         "\\( \\frac{1}{3}+\\frac{2}{5}= \\)",
         "\\( \\frac{11}{15} \\)",
         "i think this because 3 x 5 =15 and 1 + 2 is 3 the answer is 3/15",
         "True_Misconception",
         "Denominator-only_change",
         "True_Misconception:Denominator-only_change",
         "42",
         "1",
         "You are an expert in analyzing students' answers to math problems and identifying specific types of misunderstandings.\nGiven the following information, classify the student's misunderstanding.\n\nQuestion: \\( \\frac{1}{3}+\\frac{2}{5}= \\)\nAnswer: \\( \\frac{11}{15} \\)\nCorrect: True\nStudent Explanation: i think this because 3 x 5 =15 and 1 + 2 is 3 the answer is 3/15\n\nPlease determine the type of misunderstanding the student has.\n",
         "111"
        ],
        [
         "55670",
         "29100",
         "76870",
         "This is part of a regular polygon. How many sides does it have? [Image: A diagram showing an obtuse angle labelled 144 degrees]",
         "\\( 5 \\)",
         "because a polygon had 5 sides.",
         "False_Misconception",
         "Definition",
         "False_Misconception:Definition",
         "6",
         "0",
         "You are an expert in analyzing students' answers to math problems and identifying specific types of misunderstandings.\nGiven the following information, classify the student's misunderstanding.\n\nQuestion: This is part of a regular polygon. How many sides does it have? [Image: A diagram showing an obtuse angle labelled 144 degrees]\nAnswer: \\( 5 \\)\nCorrect: False\nStudent Explanation: because a polygon had 5 sides.\n\nPlease determine the type of misunderstanding the student has.\n",
         "97"
        ],
        [
         "41134",
         "16355",
         "32829",
         "\\( 2 y=24 \\) What is the value of \\( y \\) ?",
         "\\( 4 \\)",
         "So I picked 4 because 2y has to equal the same as 24 so when you put it together 24 = 24, which is what you want, and that is why they called it an even number.",
         "False_Misconception",
         "Not_variable",
         "False_Misconception:Not_variable",
         "22",
         "0",
         "You are an expert in analyzing students' answers to math problems and identifying specific types of misunderstandings.\nGiven the following information, classify the student's misunderstanding.\n\nQuestion: \\( 2 y=24 \\) What is the value of \\( y \\) ?\nAnswer: \\( 4 \\)\nCorrect: False\nStudent Explanation: So I picked 4 because 2y has to equal the same as 24 so when you put it together 24 = 24, which is what you want, and that is why they called it an even number.\n\nPlease determine the type of misunderstanding the student has.\n",
         "125"
        ],
        [
         "7890",
         "11366",
         "31778",
         "\\( \\frac{A}{10}=\\frac{9}{15} \\) What is the value of \\( A \\) ?",
         "\\( 3 \\)",
         "its 3 because 3 goes into 9 and 15",
         "False_Misconception",
         "Irrelevant",
         "False_Misconception:Irrelevant",
         "18",
         "0",
         "You are an expert in analyzing students' answers to math problems and identifying specific types of misunderstandings.\nGiven the following information, classify the student's misunderstanding.\n\nQuestion: \\( \\frac{A}{10}=\\frac{9}{15} \\) What is the value of \\( A \\) ?\nAnswer: \\( 3 \\)\nCorrect: False\nStudent Explanation: its 3 because 3 goes into 9 and 15\n\nPlease determine the type of misunderstanding the student has.\n",
         "101"
        ],
        [
         "29828",
         "13858",
         "31778",
         "\\( \\frac{A}{10}=\\frac{9}{15} \\) What is the value of \\( A \\) ?",
         "\\( 6 \\)",
         "because with 10 and 15 your adding five so I had four then added five and got nine",
         "True_Misconception",
         "Additive",
         "True_Misconception:Additive",
         "39",
         "1",
         "You are an expert in analyzing students' answers to math problems and identifying specific types of misunderstandings.\nGiven the following information, classify the student's misunderstanding.\n\nQuestion: \\( \\frac{A}{10}=\\frac{9}{15} \\) What is the value of \\( A \\) ?\nAnswer: \\( 6 \\)\nCorrect: True\nStudent Explanation: because with 10 and 15 your adding five so I had four then added five and got nine\n\nPlease determine the type of misunderstanding the student has.\n",
         "109"
        ],
        [
         "74249",
         "7463",
         "31774",
         "Calculate \\( \\frac{1}{2} \\div 6 \\)",
         "\\( \\frac{1}{3} \\)",
         "Because i did 6 divided by the denominator of 1/2 and i got 1/3.",
         "False_Misconception",
         "SwapDividend",
         "False_Misconception:SwapDividend",
         "27",
         "0",
         "You are an expert in analyzing students' answers to math problems and identifying specific types of misunderstandings.\nGiven the following information, classify the student's misunderstanding.\n\nQuestion: Calculate \\( \\frac{1}{2} \\div 6 \\)\nAnswer: \\( \\frac{1}{3} \\)\nCorrect: False\nStudent Explanation: Because i did 6 divided by the denominator of 1/2 and i got 1/3.\n\nPlease determine the type of misunderstanding the student has.\n",
         "99"
        ],
        [
         "55966",
         "30939",
         "89443",
         "What number belongs in the box?\n\\(\n(-8)-(-5)=\n\\square\\)",
         "\\( -3 \\)",
         "i think this because if we have 8 ice cubes and we take away 5 ice cubes we are left with 3 ice cubes (or -3).",
         "True_Misconception",
         "Tacking",
         "True_Misconception:Tacking",
         "59",
         "1",
         "You are an expert in analyzing students' answers to math problems and identifying specific types of misunderstandings.\nGiven the following information, classify the student's misunderstanding.\n\nQuestion: What number belongs in the box?\n\\(\n(-8)-(-5)=\n\\square\\)\nAnswer: \\( -3 \\)\nCorrect: True\nStudent Explanation: i think this because if we have 8 ice cubes and we take away 5 ice cubes we are left with 3 ice cubes (or -3).\n\nPlease determine the type of misunderstanding the student has.\n",
         "109"
        ],
        [
         "56555",
         "14363",
         "31778",
         "\\( \\frac{A}{10}=\\frac{9}{15} \\) What is the value of \\( A \\) ?",
         "\\( 9 \\)",
         "because 10= 2 and 15= 3 so the 9 would be 6",
         "False_Neither",
         "NA",
         "False_Neither:NA",
         "36",
         "0",
         "You are an expert in analyzing students' answers to math problems and identifying specific types of misunderstandings.\nGiven the following information, classify the student's misunderstanding.\n\nQuestion: \\( \\frac{A}{10}=\\frac{9}{15} \\) What is the value of \\( A \\) ?\nAnswer: \\( 9 \\)\nCorrect: False\nStudent Explanation: because 10= 2 and 15= 3 so the 9 would be 6\n\nPlease determine the type of misunderstanding the student has.\n",
         "109"
        ],
        [
         "54248",
         "2803",
         "31772",
         "What fraction of the shape is not shaded? Give your answer in its simplest form. [Image: A triangle split into 9 equal smaller triangles. 6 of them are shaded.]",
         "\\( \\frac{3}{8} \\)",
         "I think this because there are 9 triangles and 3 not shaded in so it is 3/9 but in its simplest form is 1/3.",
         "False_Correct",
         "NA",
         "False_Correct:NA",
         "0",
         "0",
         "You are an expert in analyzing students' answers to math problems and identifying specific types of misunderstandings.\nGiven the following information, classify the student's misunderstanding.\n\nQuestion: What fraction of the shape is not shaded? Give your answer in its simplest form. [Image: A triangle split into 9 equal smaller triangles. 6 of them are shaded.]\nAnswer: \\( \\frac{3}{8} \\)\nCorrect: False\nStudent Explanation: I think this because there are 9 triangles and 3 not shaded in so it is 3/9 but in its simplest form is 1/3.\n\nPlease determine the type of misunderstanding the student has.\n",
         "133"
        ],
        [
         "3300",
         "25220",
         "33472",
         "\\( \\frac{1}{3}+\\frac{2}{5}= \\)",
         "\\( \\frac{11}{30} \\)",
         "3 x 5 equals 15 add 15 and 15 together to get 30",
         "False_Misconception",
         "Incorrect_equivalent_fraction_addition",
         "False_Misconception:Incorrect_equivalent_fraction_addition",
         "14",
         "0",
         "You are an expert in analyzing students' answers to math problems and identifying specific types of misunderstandings.\nGiven the following information, classify the student's misunderstanding.\n\nQuestion: \\( \\frac{1}{3}+\\frac{2}{5}= \\)\nAnswer: \\( \\frac{11}{30} \\)\nCorrect: False\nStudent Explanation: 3 x 5 equals 15 add 15 and 15 together to get 30\n\nPlease determine the type of misunderstanding the student has.\n",
         "105"
        ],
        [
         "7720",
         "35332",
         "104665",
         "It takes \\( 3 \\) people a total of \\( 192 \\) hours to build a wall.\n\nHow long would it take if \\( 12 \\) people built the same wall?",
         "\\( 48 \\) hours",
         "if it takes 3 people 192 hours to build a wall it will take a 1/4 as much time",
         "True_Correct",
         "NA",
         "True_Correct:NA",
         "37",
         "1",
         "You are an expert in analyzing students' answers to math problems and identifying specific types of misunderstandings.\nGiven the following information, classify the student's misunderstanding.\n\nQuestion: It takes \\( 3 \\) people a total of \\( 192 \\) hours to build a wall.\n\nHow long would it take if \\( 12 \\) people built the same wall?\nAnswer: \\( 48 \\) hours\nCorrect: True\nStudent Explanation: if it takes 3 people 192 hours to build a wall it will take a 1/4 as much time\n\nPlease determine the type of misunderstanding the student has.\n",
         "129"
        ],
        [
         "41531",
         "29773",
         "89443",
         "What number belongs in the box?\n\\(\n(-8)-(-5)=\n\\square\\)",
         "\\( -13 \\)",
         "i think it is this because i the negatives everything is the opposite in the possitive",
         "False_Misconception",
         "Tacking",
         "False_Misconception:Tacking",
         "28",
         "0",
         "You are an expert in analyzing students' answers to math problems and identifying specific types of misunderstandings.\nGiven the following information, classify the student's misunderstanding.\n\nQuestion: What number belongs in the box?\n\\(\n(-8)-(-5)=\n\\square\\)\nAnswer: \\( -13 \\)\nCorrect: False\nStudent Explanation: i think it is this because i the negatives everything is the opposite in the possitive\n\nPlease determine the type of misunderstanding the student has.\n",
         "96"
        ],
        [
         "46848",
         "29836",
         "89443",
         "What number belongs in the box?\n\\(\n(-8)-(-5)=\n\\square\\)",
         "\\( -13 \\)",
         "if 8+5 = 13 then the answer to tis is -13.",
         "False_Misconception",
         "Tacking",
         "False_Misconception:Tacking",
         "28",
         "0",
         "You are an expert in analyzing students' answers to math problems and identifying specific types of misunderstandings.\nGiven the following information, classify the student's misunderstanding.\n\nQuestion: What number belongs in the box?\n\\(\n(-8)-(-5)=\n\\square\\)\nAnswer: \\( -13 \\)\nCorrect: False\nStudent Explanation: if 8+5 = 13 then the answer to tis is -13.\n\nPlease determine the type of misunderstanding the student has.\n",
         "98"
        ],
        [
         "25624",
         "11003",
         "31778",
         "\\( \\frac{A}{10}=\\frac{9}{15} \\) What is the value of \\( A \\) ?",
         "\\( 3 \\)",
         "I think this because 30 goes into 15 and 10, so 3x10 = 30, so the numerator should be 3.",
         "False_Neither",
         "NA",
         "False_Neither:NA",
         "36",
         "0",
         "You are an expert in analyzing students' answers to math problems and identifying specific types of misunderstandings.\nGiven the following information, classify the student's misunderstanding.\n\nQuestion: \\( \\frac{A}{10}=\\frac{9}{15} \\) What is the value of \\( A \\) ?\nAnswer: \\( 3 \\)\nCorrect: False\nStudent Explanation: I think this because 30 goes into 15 and 10, so 3x10 = 30, so the numerator should be 3.\n\nPlease determine the type of misunderstanding the student has.\n",
         "122"
        ],
        [
         "27800",
         "28520",
         "76870",
         "This is part of a regular polygon. How many sides does it have? [Image: A diagram showing an obtuse angle labelled 144 degrees]",
         "Not enough information",
         "you see only the two sides",
         "False_Misconception",
         "Unknowable",
         "False_Misconception:Unknowable",
         "29",
         "0",
         "You are an expert in analyzing students' answers to math problems and identifying specific types of misunderstandings.\nGiven the following information, classify the student's misunderstanding.\n\nQuestion: This is part of a regular polygon. How many sides does it have? [Image: A diagram showing an obtuse angle labelled 144 degrees]\nAnswer: Not enough information\nCorrect: False\nStudent Explanation: you see only the two sides\n\nPlease determine the type of misunderstanding the student has.\n",
         "95"
        ],
        [
         "68468",
         "14655",
         "32829",
         "\\( 2 y=24 \\) What is the value of \\( y \\) ?",
         "\\( 12 \\)",
         "because 2 times 12 is the same as 24.",
         "True_Correct",
         "NA",
         "True_Correct:NA",
         "37",
         "1",
         "You are an expert in analyzing students' answers to math problems and identifying specific types of misunderstandings.\nGiven the following information, classify the student's misunderstanding.\n\nQuestion: \\( 2 y=24 \\) What is the value of \\( y \\) ?\nAnswer: \\( 12 \\)\nCorrect: True\nStudent Explanation: because 2 times 12 is the same as 24.\n\nPlease determine the type of misunderstanding the student has.\n",
         "92"
        ],
        [
         "79144",
         "14790",
         "32829",
         "\\( 2 y=24 \\) What is the value of \\( y \\) ?",
         "\\( 12 \\)",
         "because if you double 12 that = 24",
         "True_Correct",
         "NA",
         "True_Correct:NA",
         "37",
         "1",
         "You are an expert in analyzing students' answers to math problems and identifying specific types of misunderstandings.\nGiven the following information, classify the student's misunderstanding.\n\nQuestion: \\( 2 y=24 \\) What is the value of \\( y \\) ?\nAnswer: \\( 12 \\)\nCorrect: True\nStudent Explanation: because if you double 12 that = 24\n\nPlease determine the type of misunderstanding the student has.\n",
         "90"
        ],
        [
         "84438",
         "13318",
         "31778",
         "\\( \\frac{A}{10}=\\frac{9}{15} \\) What is the value of \\( A \\) ?",
         "\\( 6 \\)",
         "I think this because 90 divided by15 = 6",
         "True_Correct",
         "NA",
         "True_Correct:NA",
         "37",
         "1",
         "You are an expert in analyzing students' answers to math problems and identifying specific types of misunderstandings.\nGiven the following information, classify the student's misunderstanding.\n\nQuestion: \\( \\frac{A}{10}=\\frac{9}{15} \\) What is the value of \\( A \\) ?\nAnswer: \\( 6 \\)\nCorrect: True\nStudent Explanation: I think this because 90 divided by15 = 6\n\nPlease determine the type of misunderstanding the student has.\n",
         "101"
        ],
        [
         "4293",
         "6138",
         "31774",
         "Calculate \\( \\frac{1}{2} \\div 6 \\)",
         "\\( \\frac{1}{12} \\)",
         "I put a because 2times3 is 6 and I thought 2 dived by 6 is 12",
         "True_Misconception",
         "FlipChange",
         "True_Misconception:FlipChange",
         "46",
         "1",
         "You are an expert in analyzing students' answers to math problems and identifying specific types of misunderstandings.\nGiven the following information, classify the student's misunderstanding.\n\nQuestion: Calculate \\( \\frac{1}{2} \\div 6 \\)\nAnswer: \\( \\frac{1}{12} \\)\nCorrect: True\nStudent Explanation: I put a because 2times3 is 6 and I thought 2 dived by 6 is 12\n\nPlease determine the type of misunderstanding the student has.\n",
         "104"
        ],
        [
         "28463",
         "19027",
         "32833",
         "Calculate \\( \\frac{2}{3} \\times 5 \\)",
         "\\( \\frac{10}{15} \\)",
         "since 5 times 2 is 10, and five times 3 is 15, so the answer is 10/15.",
         "False_Misconception",
         "Duplication",
         "False_Misconception:Duplication",
         "9",
         "0",
         "You are an expert in analyzing students' answers to math problems and identifying specific types of misunderstandings.\nGiven the following information, classify the student's misunderstanding.\n\nQuestion: Calculate \\( \\frac{2}{3} \\times 5 \\)\nAnswer: \\( \\frac{10}{15} \\)\nCorrect: False\nStudent Explanation: since 5 times 2 is 10, and five times 3 is 15, so the answer is 10/15.\n\nPlease determine the type of misunderstanding the student has.\n",
         "111"
        ],
        [
         "68233",
         "6809",
         "31774",
         "Calculate \\( \\frac{1}{2} \\div 6 \\)",
         "\\( \\frac{1}{12} \\)",
         "You have to times the denominator instead of divide",
         "True_Neither",
         "NA",
         "True_Neither:NA",
         "64",
         "1",
         "You are an expert in analyzing students' answers to math problems and identifying specific types of misunderstandings.\nGiven the following information, classify the student's misunderstanding.\n\nQuestion: Calculate \\( \\frac{1}{2} \\div 6 \\)\nAnswer: \\( \\frac{1}{12} \\)\nCorrect: True\nStudent Explanation: You have to times the denominator instead of divide\n\nPlease determine the type of misunderstanding the student has.\n",
         "88"
        ],
        [
         "75284",
         "35466",
         "104665",
         "It takes \\( 3 \\) people a total of \\( 192 \\) hours to build a wall.\n\nHow long would it take if \\( 12 \\) people built the same wall?",
         "\\( 48 \\) hours",
         "you multiply it by 4 because you do 12 divided by 3",
         "True_Misconception",
         "Multiplying_by_4",
         "True_Misconception:Multiplying_by_4",
         "53",
         "1",
         "You are an expert in analyzing students' answers to math problems and identifying specific types of misunderstandings.\nGiven the following information, classify the student's misunderstanding.\n\nQuestion: It takes \\( 3 \\) people a total of \\( 192 \\) hours to build a wall.\n\nHow long would it take if \\( 12 \\) people built the same wall?\nAnswer: \\( 48 \\) hours\nCorrect: True\nStudent Explanation: you multiply it by 4 because you do 12 divided by 3\n\nPlease determine the type of misunderstanding the student has.\n",
         "119"
        ],
        [
         "82311",
         "33478",
         "91695",
         "Dots have been arranged in these patterns: [Image: Pattern 1 consists of 6 dots, Pattern 2 consists of 10 dots, Pattern 3 consists of 14 dots and Pattern 4 consists of 18 dots] How many dots would there be in Pattern \\( 6 \\) ?",
         "\\( 26 \\)",
         "because it goes up 6 each time #",
         "True_Misconception",
         "Firstterm",
         "True_Misconception:Firstterm",
         "45",
         "1",
         "You are an expert in analyzing students' answers to math problems and identifying specific types of misunderstandings.\nGiven the following information, classify the student's misunderstanding.\n\nQuestion: Dots have been arranged in these patterns: [Image: Pattern 1 consists of 6 dots, Pattern 2 consists of 10 dots, Pattern 3 consists of 14 dots and Pattern 4 consists of 18 dots] How many dots would there be in Pattern \\( 6 \\) ?\nAnswer: \\( 26 \\)\nCorrect: True\nStudent Explanation: because it goes up 6 each time #\n\nPlease determine the type of misunderstanding the student has.\n",
         "132"
        ],
        [
         "30149",
         "33469",
         "91695",
         "Dots have been arranged in these patterns: [Image: Pattern 1 consists of 6 dots, Pattern 2 consists of 10 dots, Pattern 3 consists of 14 dots and Pattern 4 consists of 18 dots] How many dots would there be in Pattern \\( 6 \\) ?",
         "\\( 26 \\)",
         "because it adds on 6 each time",
         "True_Misconception",
         "Firstterm",
         "True_Misconception:Firstterm",
         "45",
         "1",
         "You are an expert in analyzing students' answers to math problems and identifying specific types of misunderstandings.\nGiven the following information, classify the student's misunderstanding.\n\nQuestion: Dots have been arranged in these patterns: [Image: Pattern 1 consists of 6 dots, Pattern 2 consists of 10 dots, Pattern 3 consists of 14 dots and Pattern 4 consists of 18 dots] How many dots would there be in Pattern \\( 6 \\) ?\nAnswer: \\( 26 \\)\nCorrect: True\nStudent Explanation: because it adds on 6 each time\n\nPlease determine the type of misunderstanding the student has.\n",
         "132"
        ],
        [
         "21624",
         "10654",
         "31777",
         "A box contains \\( 120 \\) counters. The counters are red or blue. \\( \\frac{3}{5} \\) of the counters are red.\nHow many red counters are there?",
         "\\( 72 \\)",
         "i think this because if you split 120 into groups of 5 and then shade in three of each group of 5 and then count the shaded theres 72",
         "True_Correct",
         "NA",
         "True_Correct:NA",
         "37",
         "1",
         "You are an expert in analyzing students' answers to math problems and identifying specific types of misunderstandings.\nGiven the following information, classify the student's misunderstanding.\n\nQuestion: A box contains \\( 120 \\) counters. The counters are red or blue. \\( \\frac{3}{5} \\) of the counters are red.\nHow many red counters are there?\nAnswer: \\( 72 \\)\nCorrect: True\nStudent Explanation: i think this because if you split 120 into groups of 5 and then shade in three of each group of 5 and then count the shaded theres 72\n\nPlease determine the type of misunderstanding the student has.\n",
         "137"
        ],
        [
         "54667",
         "22753",
         "33471",
         "A bag contains \\( 24 \\) yellow and green balls. \\( \\frac{3}{8} \\) of the balls are yellow. How many of the balls are green?",
         "\\( 15 \\)",
         "if you divided 24 by the dino inalterable you get three. next you do 3 x 3 to get nine and the remaining number is the answer",
         "True_Misconception",
         "Wrong_fraction",
         "True_Misconception:Wrong_fraction",
         "62",
         "1",
         "You are an expert in analyzing students' answers to math problems and identifying specific types of misunderstandings.\nGiven the following information, classify the student's misunderstanding.\n\nQuestion: A bag contains \\( 24 \\) yellow and green balls. \\( \\frac{3}{8} \\) of the balls are yellow. How many of the balls are green?\nAnswer: \\( 15 \\)\nCorrect: True\nStudent Explanation: if you divided 24 by the dino inalterable you get three. next you do 3 x 3 to get nine and the remaining number is the answer\n\nPlease determine the type of misunderstanding the student has.\n",
         "132"
        ],
        [
         "3803",
         "28028",
         "33474",
         "Sally has \\( \\frac{2}{3} \\) of a whole cake in the fridge. Robert eats \\( \\frac{1}{3} \\) of this piece. What fraction of the whole cake has Robert eaten?\nChoose the number sentence that would solve the word problem.",
         "\\( \\frac{2}{3}-\\frac{1}{3} \\)",
         "the number sentence would be d because he has eaten so it would be a subtraction.",
         "False_Misconception",
         "Subtraction",
         "False_Misconception:Subtraction",
         "26",
         "0",
         "You are an expert in analyzing students' answers to math problems and identifying specific types of misunderstandings.\nGiven the following information, classify the student's misunderstanding.\n\nQuestion: Sally has \\( \\frac{2}{3} \\) of a whole cake in the fridge. Robert eats \\( \\frac{1}{3} \\) of this piece. What fraction of the whole cake has Robert eaten?\nChoose the number sentence that would solve the word problem.\nAnswer: \\( \\frac{2}{3}-\\frac{1}{3} \\)\nCorrect: False\nStudent Explanation: the number sentence would be d because he has eaten so it would be a subtraction.\n\nPlease determine the type of misunderstanding the student has.\n",
         "143"
        ],
        [
         "66628",
         "1434",
         "31772",
         "What fraction of the shape is not shaded? Give your answer in its simplest form. [Image: A triangle split into 9 equal smaller triangles. 6 of them are shaded.]",
         "\\( \\frac{1}{3} \\)",
         "There are 9 triangles in total, three of which are unshaded. Therefore the fraction is 3/9. However 3/9 can be simplified to 1/3",
         "True_Correct",
         "NA",
         "True_Correct:NA",
         "37",
         "1",
         "You are an expert in analyzing students' answers to math problems and identifying specific types of misunderstandings.\nGiven the following information, classify the student's misunderstanding.\n\nQuestion: What fraction of the shape is not shaded? Give your answer in its simplest form. [Image: A triangle split into 9 equal smaller triangles. 6 of them are shaded.]\nAnswer: \\( \\frac{1}{3} \\)\nCorrect: True\nStudent Explanation: There are 9 triangles in total, three of which are unshaded. Therefore the fraction is 3/9. However 3/9 can be simplified to 1/3\n\nPlease determine the type of misunderstanding the student has.\n",
         "139"
        ],
        [
         "57270",
         "21799",
         "32835",
         "Which number is the greatest?",
         "\\( 6.2 \\)",
         "it only has one decimal place and it makes the number bigger than the rest",
         "True_Misconception",
         "Shorter_is_bigger",
         "True_Misconception:Shorter_is_bigger",
         "56",
         "1",
         "You are an expert in analyzing students' answers to math problems and identifying specific types of misunderstandings.\nGiven the following information, classify the student's misunderstanding.\n\nQuestion: Which number is the greatest?\nAnswer: \\( 6.2 \\)\nCorrect: True\nStudent Explanation: it only has one decimal place and it makes the number bigger than the rest\n\nPlease determine the type of misunderstanding the student has.\n",
         "81"
        ],
        [
         "78914",
         "6628",
         "31774",
         "Calculate \\( \\frac{1}{2} \\div 6 \\)",
         "\\( \\frac{1}{12} \\)",
         "KFC, keep 1/2, flip 6/1 and change divide for             1/2x1/6=1/12",
         "True_Correct",
         "NA",
         "True_Correct:NA",
         "37",
         "1",
         "You are an expert in analyzing students' answers to math problems and identifying specific types of misunderstandings.\nGiven the following information, classify the student's misunderstanding.\n\nQuestion: Calculate \\( \\frac{1}{2} \\div 6 \\)\nAnswer: \\( \\frac{1}{12} \\)\nCorrect: True\nStudent Explanation: KFC, keep 1/2, flip 6/1 and change divide for             1/2x1/6=1/12\n\nPlease determine the type of misunderstanding the student has.\n",
         "111"
        ],
        [
         "33587",
         "5624",
         "31774",
         "Calculate \\( \\frac{1}{2} \\div 6 \\)",
         "\\( \\frac{1}{12} \\)",
         "6 wholes divided into half will give you 12 parts",
         "True_Misconception",
         "SwapDividend",
         "True_Misconception:SwapDividend",
         "58",
         "1",
         "You are an expert in analyzing students' answers to math problems and identifying specific types of misunderstandings.\nGiven the following information, classify the student's misunderstanding.\n\nQuestion: Calculate \\( \\frac{1}{2} \\div 6 \\)\nAnswer: \\( \\frac{1}{12} \\)\nCorrect: True\nStudent Explanation: 6 wholes divided into half will give you 12 parts\n\nPlease determine the type of misunderstanding the student has.\n",
         "92"
        ],
        [
         "16398",
         "7884",
         "31774",
         "Calculate \\( \\frac{1}{2} \\div 6 \\)",
         "\\( \\frac{6}{2} \\)",
         "divide 1 and six then put the denominator",
         "False_Neither",
         "NA",
         "False_Neither:NA",
         "36",
         "0",
         "You are an expert in analyzing students' answers to math problems and identifying specific types of misunderstandings.\nGiven the following information, classify the student's misunderstanding.\n\nQuestion: Calculate \\( \\frac{1}{2} \\div 6 \\)\nAnswer: \\( \\frac{6}{2} \\)\nCorrect: False\nStudent Explanation: divide 1 and six then put the denominator\n\nPlease determine the type of misunderstanding the student has.\n",
         "87"
        ],
        [
         "39670",
         "6238",
         "31774",
         "Calculate \\( \\frac{1}{2} \\div 6 \\)",
         "\\( \\frac{1}{12} \\)",
         "I think this because 1 x 1 = 1 and 2 x 6 = 12",
         "True_Correct",
         "NA",
         "True_Correct:NA",
         "37",
         "1",
         "You are an expert in analyzing students' answers to math problems and identifying specific types of misunderstandings.\nGiven the following information, classify the student's misunderstanding.\n\nQuestion: Calculate \\( \\frac{1}{2} \\div 6 \\)\nAnswer: \\( \\frac{1}{12} \\)\nCorrect: True\nStudent Explanation: I think this because 1 x 1 = 1 and 2 x 6 = 12\n\nPlease determine the type of misunderstanding the student has.\n",
         "101"
        ],
        [
         "23189",
         "5298",
         "31774",
         "Calculate \\( \\frac{1}{2} \\div 6 \\)",
         "\\( 3 \\)",
         "because i divide the denominator by six",
         "False_Misconception",
         "FlipChange",
         "False_Misconception:FlipChange",
         "11",
         "0",
         "You are an expert in analyzing students' answers to math problems and identifying specific types of misunderstandings.\nGiven the following information, classify the student's misunderstanding.\n\nQuestion: Calculate \\( \\frac{1}{2} \\div 6 \\)\nAnswer: \\( 3 \\)\nCorrect: False\nStudent Explanation: because i divide the denominator by six\n\nPlease determine the type of misunderstanding the student has.\n",
         "80"
        ],
        [
         "72264",
         "4295",
         "31772",
         "What fraction of the shape is not shaded? Give your answer in its simplest form. [Image: A triangle split into 9 equal smaller triangles. 6 of them are shaded.]",
         "\\( \\frac{3}{9} \\)",
         "d because three are not shaded and there are nine triangles in the big triangle so the answer is 3/9.",
         "False_Misconception",
         "Incomplete",
         "False_Misconception:Incomplete",
         "13",
         "0",
         "You are an expert in analyzing students' answers to math problems and identifying specific types of misunderstandings.\nGiven the following information, classify the student's misunderstanding.\n\nQuestion: What fraction of the shape is not shaded? Give your answer in its simplest form. [Image: A triangle split into 9 equal smaller triangles. 6 of them are shaded.]\nAnswer: \\( \\frac{3}{9} \\)\nCorrect: False\nStudent Explanation: d because three are not shaded and there are nine triangles in the big triangle so the answer is 3/9.\n\nPlease determine the type of misunderstanding the student has.\n",
         "124"
        ],
        [
         "33504",
         "35676",
         "109465",
         "The probability of an event occurring is \\( 0.9 \\).\n\nWhich of the following most accurately describes the likelihood of the event occurring?",
         "Certain",
         "because it is almost 1 and anything with a probability of 1 is certain",
         "False_Misconception",
         "Certainty",
         "False_Misconception:Certainty",
         "5",
         "0",
         "You are an expert in analyzing students' answers to math problems and identifying specific types of misunderstandings.\nGiven the following information, classify the student's misunderstanding.\n\nQuestion: The probability of an event occurring is \\( 0.9 \\).\n\nWhich of the following most accurately describes the likelihood of the event occurring?\nAnswer: Certain\nCorrect: False\nStudent Explanation: because it is almost 1 and anything with a probability of 1 is certain\n\nPlease determine the type of misunderstanding the student has.\n",
         "99"
        ]
       ],
       "shape": {
        "columns": 12,
        "rows": 88876
       }
      },
      "text/html": [
       "<div>\n",
       "<style scoped>\n",
       "    .dataframe tbody tr th:only-of-type {\n",
       "        vertical-align: middle;\n",
       "    }\n",
       "\n",
       "    .dataframe tbody tr th {\n",
       "        vertical-align: top;\n",
       "    }\n",
       "\n",
       "    .dataframe thead th {\n",
       "        text-align: right;\n",
       "    }\n",
       "</style>\n",
       "<table border=\"1\" class=\"dataframe\">\n",
       "  <thead>\n",
       "    <tr style=\"text-align: right;\">\n",
       "      <th></th>\n",
       "      <th>row_id</th>\n",
       "      <th>QuestionId</th>\n",
       "      <th>QuestionText</th>\n",
       "      <th>MC_Answer</th>\n",
       "      <th>StudentExplanation</th>\n",
       "      <th>Category</th>\n",
       "      <th>Misconception</th>\n",
       "      <th>target</th>\n",
       "      <th>label</th>\n",
       "      <th>is_correct</th>\n",
       "      <th>LLM_Content</th>\n",
       "      <th>Length</th>\n",
       "    </tr>\n",
       "  </thead>\n",
       "  <tbody>\n",
       "    <tr>\n",
       "      <th>76694</th>\n",
       "      <td>29040</td>\n",
       "      <td>76870</td>\n",
       "      <td>This is part of a regular polygon. How many si...</td>\n",
       "      <td>\\( 5 \\)</td>\n",
       "      <td>144 x 5 = 720 so the shape has to have 5 sides</td>\n",
       "      <td>False_Misconception</td>\n",
       "      <td>Interior</td>\n",
       "      <td>False_Misconception:Interior</td>\n",
       "      <td>15</td>\n",
       "      <td>0</td>\n",
       "      <td>You are an expert in analyzing students' answe...</td>\n",
       "      <td>111</td>\n",
       "    </tr>\n",
       "    <tr>\n",
       "      <th>75200</th>\n",
       "      <td>2353</td>\n",
       "      <td>31772</td>\n",
       "      <td>What fraction of the shape is not shaded? Give...</td>\n",
       "      <td>\\( \\frac{3}{6} \\)</td>\n",
       "      <td>3 are not shaded and 6 are shadedas.</td>\n",
       "      <td>False_Misconception</td>\n",
       "      <td>WNB</td>\n",
       "      <td>False_Misconception:WNB</td>\n",
       "      <td>30</td>\n",
       "      <td>0</td>\n",
       "      <td>You are an expert in analyzing students' answe...</td>\n",
       "      <td>112</td>\n",
       "    </tr>\n",
       "    <tr>\n",
       "      <th>23029</th>\n",
       "      <td>19939</td>\n",
       "      <td>32835</td>\n",
       "      <td>Which number is the greatest?</td>\n",
       "      <td>\\( 6 \\)</td>\n",
       "      <td>because the bigger the number in the decimal t...</td>\n",
       "      <td>False_Misconception</td>\n",
       "      <td>Shorter_is_bigger</td>\n",
       "      <td>False_Misconception:Shorter_is_bigger</td>\n",
       "      <td>25</td>\n",
       "      <td>0</td>\n",
       "      <td>You are an expert in analyzing students' answe...</td>\n",
       "      <td>82</td>\n",
       "    </tr>\n",
       "    <tr>\n",
       "      <th>88940</th>\n",
       "      <td>33148</td>\n",
       "      <td>91695</td>\n",
       "      <td>Dots have been arranged in these patterns: [Im...</td>\n",
       "      <td>\\( 22 \\)</td>\n",
       "      <td>when you start with 6 then it will be 10, then...</td>\n",
       "      <td>False_Misconception</td>\n",
       "      <td>Wrong_term</td>\n",
       "      <td>False_Misconception:Wrong_term</td>\n",
       "      <td>35</td>\n",
       "      <td>0</td>\n",
       "      <td>You are an expert in analyzing students' answe...</td>\n",
       "      <td>154</td>\n",
       "    </tr>\n",
       "    <tr>\n",
       "      <th>44519</th>\n",
       "      <td>6279</td>\n",
       "      <td>31774</td>\n",
       "      <td>Calculate \\( \\frac{1}{2} \\div 6 \\)</td>\n",
       "      <td>\\( \\frac{1}{12} \\)</td>\n",
       "      <td>I think this because 6 becomes 6/1 and then fl...</td>\n",
       "      <td>True_Correct</td>\n",
       "      <td>NA</td>\n",
       "      <td>True_Correct:NA</td>\n",
       "      <td>37</td>\n",
       "      <td>1</td>\n",
       "      <td>You are an expert in analyzing students' answe...</td>\n",
       "      <td>114</td>\n",
       "    </tr>\n",
       "    <tr>\n",
       "      <th>...</th>\n",
       "      <td>...</td>\n",
       "      <td>...</td>\n",
       "      <td>...</td>\n",
       "      <td>...</td>\n",
       "      <td>...</td>\n",
       "      <td>...</td>\n",
       "      <td>...</td>\n",
       "      <td>...</td>\n",
       "      <td>...</td>\n",
       "      <td>...</td>\n",
       "      <td>...</td>\n",
       "      <td>...</td>\n",
       "    </tr>\n",
       "    <tr>\n",
       "      <th>6265</th>\n",
       "      <td>5213</td>\n",
       "      <td>31774</td>\n",
       "      <td>Calculate \\( \\frac{1}{2} \\div 6 \\)</td>\n",
       "      <td>\\( 3 \\)</td>\n",
       "      <td>Is because half of 6 is the same thing as 6 di...</td>\n",
       "      <td>False_Misconception</td>\n",
       "      <td>SwapDividend</td>\n",
       "      <td>False_Misconception:SwapDividend</td>\n",
       "      <td>27</td>\n",
       "      <td>0</td>\n",
       "      <td>You are an expert in analyzing students' answe...</td>\n",
       "      <td>90</td>\n",
       "    </tr>\n",
       "    <tr>\n",
       "      <th>54886</th>\n",
       "      <td>13718</td>\n",
       "      <td>31778</td>\n",
       "      <td>\\( \\frac{A}{10}=\\frac{9}{15} \\) What is the va...</td>\n",
       "      <td>\\( 6 \\)</td>\n",
       "      <td>because 15 is after 10, and 6 is before 9.</td>\n",
       "      <td>True_Neither</td>\n",
       "      <td>NA</td>\n",
       "      <td>True_Neither:NA</td>\n",
       "      <td>64</td>\n",
       "      <td>1</td>\n",
       "      <td>You are an expert in analyzing students' answe...</td>\n",
       "      <td>104</td>\n",
       "    </tr>\n",
       "    <tr>\n",
       "      <th>76820</th>\n",
       "      <td>16144</td>\n",
       "      <td>32829</td>\n",
       "      <td>\\( 2 y=24 \\) What is the value of \\( y \\) ?</td>\n",
       "      <td>\\( 22 \\)</td>\n",
       "      <td>24+2=22 so it is d because that will give you 24.</td>\n",
       "      <td>False_Misconception</td>\n",
       "      <td>Adding_terms</td>\n",
       "      <td>False_Misconception:Adding_terms</td>\n",
       "      <td>2</td>\n",
       "      <td>0</td>\n",
       "      <td>You are an expert in analyzing students' answe...</td>\n",
       "      <td>98</td>\n",
       "    </tr>\n",
       "    <tr>\n",
       "      <th>860</th>\n",
       "      <td>17960</td>\n",
       "      <td>32833</td>\n",
       "      <td>Calculate \\( \\frac{2}{3} \\times 5 \\)</td>\n",
       "      <td>\\( 3 \\frac{1}{3} \\)</td>\n",
       "      <td>its 2x5=10 and 3x 5=15 so it is ten fifteenths...</td>\n",
       "      <td>True_Misconception</td>\n",
       "      <td>Duplication</td>\n",
       "      <td>True_Misconception:Duplication</td>\n",
       "      <td>44</td>\n",
       "      <td>1</td>\n",
       "      <td>You are an expert in analyzing students' answe...</td>\n",
       "      <td>107</td>\n",
       "    </tr>\n",
       "    <tr>\n",
       "      <th>15795</th>\n",
       "      <td>28737</td>\n",
       "      <td>76870</td>\n",
       "      <td>This is part of a regular polygon. How many si...</td>\n",
       "      <td>\\( 10 \\)</td>\n",
       "      <td>because a number of polygon have 10 sides</td>\n",
       "      <td>True_Misconception</td>\n",
       "      <td>Definition</td>\n",
       "      <td>True_Misconception:Definition</td>\n",
       "      <td>41</td>\n",
       "      <td>1</td>\n",
       "      <td>You are an expert in analyzing students' answe...</td>\n",
       "      <td>101</td>\n",
       "    </tr>\n",
       "  </tbody>\n",
       "</table>\n",
       "<p>88876 rows × 12 columns</p>\n",
       "</div>"
      ],
      "text/plain": [
       "       row_id  QuestionId                                       QuestionText  \\\n",
       "76694   29040       76870  This is part of a regular polygon. How many si...   \n",
       "75200    2353       31772  What fraction of the shape is not shaded? Give...   \n",
       "23029   19939       32835                      Which number is the greatest?   \n",
       "88940   33148       91695  Dots have been arranged in these patterns: [Im...   \n",
       "44519    6279       31774                 Calculate \\( \\frac{1}{2} \\div 6 \\)   \n",
       "...       ...         ...                                                ...   \n",
       "6265     5213       31774                 Calculate \\( \\frac{1}{2} \\div 6 \\)   \n",
       "54886   13718       31778  \\( \\frac{A}{10}=\\frac{9}{15} \\) What is the va...   \n",
       "76820   16144       32829        \\( 2 y=24 \\) What is the value of \\( y \\) ?   \n",
       "860     17960       32833               Calculate \\( \\frac{2}{3} \\times 5 \\)   \n",
       "15795   28737       76870  This is part of a regular polygon. How many si...   \n",
       "\n",
       "                 MC_Answer                                 StudentExplanation  \\\n",
       "76694              \\( 5 \\)     144 x 5 = 720 so the shape has to have 5 sides   \n",
       "75200    \\( \\frac{3}{6} \\)               3 are not shaded and 6 are shadedas.   \n",
       "23029              \\( 6 \\)  because the bigger the number in the decimal t...   \n",
       "88940             \\( 22 \\)  when you start with 6 then it will be 10, then...   \n",
       "44519   \\( \\frac{1}{12} \\)  I think this because 6 becomes 6/1 and then fl...   \n",
       "...                    ...                                                ...   \n",
       "6265               \\( 3 \\)  Is because half of 6 is the same thing as 6 di...   \n",
       "54886              \\( 6 \\)         because 15 is after 10, and 6 is before 9.   \n",
       "76820             \\( 22 \\)  24+2=22 so it is d because that will give you 24.   \n",
       "860    \\( 3 \\frac{1}{3} \\)  its 2x5=10 and 3x 5=15 so it is ten fifteenths...   \n",
       "15795             \\( 10 \\)          because a number of polygon have 10 sides   \n",
       "\n",
       "                  Category      Misconception  \\\n",
       "76694  False_Misconception           Interior   \n",
       "75200  False_Misconception                WNB   \n",
       "23029  False_Misconception  Shorter_is_bigger   \n",
       "88940  False_Misconception         Wrong_term   \n",
       "44519         True_Correct                 NA   \n",
       "...                    ...                ...   \n",
       "6265   False_Misconception       SwapDividend   \n",
       "54886         True_Neither                 NA   \n",
       "76820  False_Misconception       Adding_terms   \n",
       "860     True_Misconception        Duplication   \n",
       "15795   True_Misconception         Definition   \n",
       "\n",
       "                                      target  label  is_correct  \\\n",
       "76694           False_Misconception:Interior     15           0   \n",
       "75200                False_Misconception:WNB     30           0   \n",
       "23029  False_Misconception:Shorter_is_bigger     25           0   \n",
       "88940         False_Misconception:Wrong_term     35           0   \n",
       "44519                        True_Correct:NA     37           1   \n",
       "...                                      ...    ...         ...   \n",
       "6265        False_Misconception:SwapDividend     27           0   \n",
       "54886                        True_Neither:NA     64           1   \n",
       "76820       False_Misconception:Adding_terms      2           0   \n",
       "860           True_Misconception:Duplication     44           1   \n",
       "15795          True_Misconception:Definition     41           1   \n",
       "\n",
       "                                             LLM_Content  Length  \n",
       "76694  You are an expert in analyzing students' answe...     111  \n",
       "75200  You are an expert in analyzing students' answe...     112  \n",
       "23029  You are an expert in analyzing students' answe...      82  \n",
       "88940  You are an expert in analyzing students' answe...     154  \n",
       "44519  You are an expert in analyzing students' answe...     114  \n",
       "...                                                  ...     ...  \n",
       "6265   You are an expert in analyzing students' answe...      90  \n",
       "54886  You are an expert in analyzing students' answe...     104  \n",
       "76820  You are an expert in analyzing students' answe...      98  \n",
       "860    You are an expert in analyzing students' answe...     107  \n",
       "15795  You are an expert in analyzing students' answe...     101  \n",
       "\n",
       "[88876 rows x 12 columns]"
      ]
     },
     "execution_count": 94,
     "metadata": {},
     "output_type": "execute_result"
    }
   ],
   "source": [
    "tempTrainDF"
   ]
  },
  {
   "cell_type": "code",
   "execution_count": 95,
   "metadata": {
    "execution": {
     "iopub.execute_input": "2025-09-27T14:47:06.707441Z",
     "iopub.status.busy": "2025-09-27T14:47:06.707100Z",
     "iopub.status.idle": "2025-09-27T14:47:07.288594Z",
     "shell.execute_reply": "2025-09-27T14:47:07.287711Z",
     "shell.execute_reply.started": "2025-09-27T14:47:06.707410Z"
    }
   },
   "outputs": [
    {
     "data": {
      "image/png": "[encoded data removed]",
      "text/plain": [
       "<Figure size 640x480 with 1 Axes>"
      ]
     },
     "metadata": {},
     "output_type": "display_data"
    }
   ],
   "source": [
    "tempTrainDF[\"label\"].value_counts().plot(kind=\"bar\", title=\"Class Distribution\");"
   ]
  },
  {
   "cell_type": "code",
   "execution_count": 96,
   "metadata": {
    "execution": {
     "iopub.execute_input": "2025-09-27T14:47:07.290530Z",
     "iopub.status.busy": "2025-09-27T14:47:07.289705Z",
     "iopub.status.idle": "2025-09-27T14:47:07.311237Z",
     "shell.execute_reply": "2025-09-27T14:47:07.310452Z",
     "shell.execute_reply.started": "2025-09-27T14:47:07.290506Z"
    }
   },
   "outputs": [
    {
     "data": {
      "application/vnd.microsoft.datawrangler.viewer.v0+json": {
       "columns": [
        {
         "name": "index",
         "rawType": "object",
         "type": "string"
        },
        {
         "name": "row_id",
         "rawType": "float64",
         "type": "float"
        },
        {
         "name": "QuestionId",
         "rawType": "float64",
         "type": "float"
        },
        {
         "name": "label",
         "rawType": "float64",
         "type": "float"
        },
        {
         "name": "is_correct",
         "rawType": "float64",
         "type": "float"
        },
        {
         "name": "Length",
         "rawType": "float64",
         "type": "float"
        }
       ],
       "ref": "b42d8d1c-65a7-400d-8a56-80563b566cc1",
       "rows": [
        [
         "count",
         "179.0",
         "179.0",
         "179.0",
         "179.0",
         "179.0"
        ],
        [
         "mean",
         "21261.821229050278",
         "52070.73184357542",
         "32.14525139664804",
         "0.4692737430167598",
         "110.64804469273743"
        ],
        [
         "std",
         "10582.420784171014",
         "29277.937091088068",
         "17.608128782871777",
         "0.5004548806487199",
         "20.864574947224025"
        ],
        [
         "min",
         "107.0",
         "31772.0",
         "0.0",
         "0.0",
         "70.0"
        ],
        [
         "25%",
         "14820.5",
         "32829.0",
         "17.0",
         "0.0",
         "96.0"
        ],
        [
         "50%",
         "22121.0",
         "33471.0",
         "36.0",
         "0.0",
         "107.0"
        ],
        [
         "75%",
         "29213.5",
         "76870.0",
         "43.0",
         "1.0",
         "122.5"
        ],
        [
         "max",
         "36555.0",
         "109465.0",
         "64.0",
         "1.0",
         "170.0"
        ]
       ],
       "shape": {
        "columns": 5,
        "rows": 8
       }
      },
      "text/html": [
       "<div>\n",
       "<style scoped>\n",
       "    .dataframe tbody tr th:only-of-type {\n",
       "        vertical-align: middle;\n",
       "    }\n",
       "\n",
       "    .dataframe tbody tr th {\n",
       "        vertical-align: top;\n",
       "    }\n",
       "\n",
       "    .dataframe thead th {\n",
       "        text-align: right;\n",
       "    }\n",
       "</style>\n",
       "<table border=\"1\" class=\"dataframe\">\n",
       "  <thead>\n",
       "    <tr style=\"text-align: right;\">\n",
       "      <th></th>\n",
       "      <th>row_id</th>\n",
       "      <th>QuestionId</th>\n",
       "      <th>label</th>\n",
       "      <th>is_correct</th>\n",
       "      <th>Length</th>\n",
       "    </tr>\n",
       "  </thead>\n",
       "  <tbody>\n",
       "    <tr>\n",
       "      <th>count</th>\n",
       "      <td>179.000000</td>\n",
       "      <td>179.000000</td>\n",
       "      <td>179.000000</td>\n",
       "      <td>179.000000</td>\n",
       "      <td>179.000000</td>\n",
       "    </tr>\n",
       "    <tr>\n",
       "      <th>mean</th>\n",
       "      <td>21261.821229</td>\n",
       "      <td>52070.731844</td>\n",
       "      <td>32.145251</td>\n",
       "      <td>0.469274</td>\n",
       "      <td>110.648045</td>\n",
       "    </tr>\n",
       "    <tr>\n",
       "      <th>std</th>\n",
       "      <td>10582.420784</td>\n",
       "      <td>29277.937091</td>\n",
       "      <td>17.608129</td>\n",
       "      <td>0.500455</td>\n",
       "      <td>20.864575</td>\n",
       "    </tr>\n",
       "    <tr>\n",
       "      <th>min</th>\n",
       "      <td>107.000000</td>\n",
       "      <td>31772.000000</td>\n",
       "      <td>0.000000</td>\n",
       "      <td>0.000000</td>\n",
       "      <td>70.000000</td>\n",
       "    </tr>\n",
       "    <tr>\n",
       "      <th>25%</th>\n",
       "      <td>14820.500000</td>\n",
       "      <td>32829.000000</td>\n",
       "      <td>17.000000</td>\n",
       "      <td>0.000000</td>\n",
       "      <td>96.000000</td>\n",
       "    </tr>\n",
       "    <tr>\n",
       "      <th>50%</th>\n",
       "      <td>22121.000000</td>\n",
       "      <td>33471.000000</td>\n",
       "      <td>36.000000</td>\n",
       "      <td>0.000000</td>\n",
       "      <td>107.000000</td>\n",
       "    </tr>\n",
       "    <tr>\n",
       "      <th>75%</th>\n",
       "      <td>29213.500000</td>\n",
       "      <td>76870.000000</td>\n",
       "      <td>43.000000</td>\n",
       "      <td>1.000000</td>\n",
       "      <td>122.500000</td>\n",
       "    </tr>\n",
       "    <tr>\n",
       "      <th>max</th>\n",
       "      <td>36555.000000</td>\n",
       "      <td>109465.000000</td>\n",
       "      <td>64.000000</td>\n",
       "      <td>1.000000</td>\n",
       "      <td>170.000000</td>\n",
       "    </tr>\n",
       "  </tbody>\n",
       "</table>\n",
       "</div>"
      ],
      "text/plain": [
       "             row_id     QuestionId       label  is_correct      Length\n",
       "count    179.000000     179.000000  179.000000  179.000000  179.000000\n",
       "mean   21261.821229   52070.731844   32.145251    0.469274  110.648045\n",
       "std    10582.420784   29277.937091   17.608129    0.500455   20.864575\n",
       "min      107.000000   31772.000000    0.000000    0.000000   70.000000\n",
       "25%    14820.500000   32829.000000   17.000000    0.000000   96.000000\n",
       "50%    22121.000000   33471.000000   36.000000    0.000000  107.000000\n",
       "75%    29213.500000   76870.000000   43.000000    1.000000  122.500000\n",
       "max    36555.000000  109465.000000   64.000000    1.000000  170.000000"
      ]
     },
     "execution_count": 96,
     "metadata": {},
     "output_type": "execute_result"
    }
   ],
   "source": [
    "tempValDF.describe()"
   ]
  },
  {
   "cell_type": "code",
   "execution_count": 97,
   "metadata": {
    "execution": {
     "iopub.execute_input": "2025-09-27T14:47:07.312615Z",
     "iopub.status.busy": "2025-09-27T14:47:07.312255Z",
     "iopub.status.idle": "2025-09-27T14:47:07.821414Z",
     "shell.execute_reply": "2025-09-27T14:47:07.820445Z",
     "shell.execute_reply.started": "2025-09-27T14:47:07.312584Z"
    }
   },
   "outputs": [],
   "source": [
    "# Convert to Hugging Face Dataset for training dataset\n",
    "COLS = ['LLM_Content','label']\n",
    "\n",
    "trainDataset = Dataset.from_pandas(tempTrainDF[COLS], split=\"train\")\n",
    "valDataset = Dataset.from_pandas(tempValDF[COLS], split=\"test\")\n",
    "testDataset = Dataset.from_pandas(testDF, split=\"test\")\n",
    "subDataset = Dataset.from_pandas(sample, split=\"test\") # submit dataset\n",
    "\n",
    "# trainDataset = Dataset.from_pandas(tempTrainDF, split=\"train\")\n",
    "# valDataset = Dataset.from_pandas(tempValDF, split=\"test\")\n",
    "# subDataset = Dataset.from_pandas(sample, split=\"test\") # submit dataset"
   ]
  },
  {
   "cell_type": "code",
   "execution_count": 98,
   "metadata": {
    "execution": {
     "iopub.execute_input": "2025-09-27T14:47:07.823576Z",
     "iopub.status.busy": "2025-09-27T14:47:07.822483Z",
     "iopub.status.idle": "2025-09-27T14:47:07.828651Z",
     "shell.execute_reply": "2025-09-27T14:47:07.827842Z",
     "shell.execute_reply.started": "2025-09-27T14:47:07.823544Z"
    }
   },
   "outputs": [
    {
     "data": {
      "text/plain": [
       "Dataset({\n",
       "    features: ['LLM_Content', 'label', '__index_level_0__'],\n",
       "    num_rows: 88876\n",
       "})"
      ]
     },
     "execution_count": 98,
     "metadata": {},
     "output_type": "execute_result"
    }
   ],
   "source": [
    "trainDataset"
   ]
  },
  {
   "cell_type": "code",
   "execution_count": 99,
   "metadata": {
    "execution": {
     "iopub.execute_input": "2025-09-27T14:47:07.829789Z",
     "iopub.status.busy": "2025-09-27T14:47:07.829525Z",
     "iopub.status.idle": "2025-09-27T14:47:07.841427Z",
     "shell.execute_reply": "2025-09-27T14:47:07.840482Z",
     "shell.execute_reply.started": "2025-09-27T14:47:07.829760Z"
    }
   },
   "outputs": [
    {
     "data": {
      "text/plain": [
       "Dataset({\n",
       "    features: ['row_id', 'QuestionId', 'QuestionText', 'MC_Answer', 'StudentExplanation', 'is_correct', 'LLM_Content'],\n",
       "    num_rows: 3\n",
       "})"
      ]
     },
     "execution_count": 99,
     "metadata": {},
     "output_type": "execute_result"
    }
   ],
   "source": [
    "testDataset"
   ]
  },
  {
   "cell_type": "code",
   "execution_count": 100,
   "metadata": {
    "execution": {
     "iopub.execute_input": "2025-09-27T14:47:07.842793Z",
     "iopub.status.busy": "2025-09-27T14:47:07.842476Z",
     "iopub.status.idle": "2025-09-27T14:47:07.855183Z",
     "shell.execute_reply": "2025-09-27T14:47:07.854400Z",
     "shell.execute_reply.started": "2025-09-27T14:47:07.842756Z"
    }
   },
   "outputs": [
    {
     "data": {
      "text/plain": [
       "Dataset({\n",
       "    features: ['row_id', 'Category:Misconception'],\n",
       "    num_rows: 3\n",
       "})"
      ]
     },
     "execution_count": 100,
     "metadata": {},
     "output_type": "execute_result"
    }
   ],
   "source": [
    "subDataset"
   ]
  },
  {
   "cell_type": "code",
   "execution_count": 101,
   "metadata": {
    "execution": {
     "iopub.execute_input": "2025-09-27T14:47:07.856659Z",
     "iopub.status.busy": "2025-09-27T14:47:07.856130Z",
     "iopub.status.idle": "2025-09-27T14:47:08.150793Z",
     "shell.execute_reply": "2025-09-27T14:47:08.149887Z",
     "shell.execute_reply.started": "2025-09-27T14:47:07.856630Z"
    }
   },
   "outputs": [
    {
     "name": "stdout",
     "output_type": "stream",
     "text": [
      "Mon Sep 29 23:42:59 2025       \n",
      "+-----------------------------------------------------------------------------------------+\n",
      "| NVIDIA-SMI 560.28.03              Driver Version: 560.28.03      CUDA Version: 12.6     |\n",
      "|-----------------------------------------+------------------------+----------------------+\n",
      "| GPU  Name                 Persistence-M | Bus-Id          Disp.A | Volatile Uncorr. ECC |\n",
      "| Fan  Temp   Perf          Pwr:Usage/Cap |           Memory-Usage | GPU-Util  Compute M. |\n",
      "|                                         |                        |               MIG M. |\n",
      "|=========================================+========================+======================|\n",
      "|   0  NVIDIA GeForce RTX 3080        Off |   00000000:01:00.0  On |                  N/A |\n",
      "| 58%   45C    P8             45W /  370W |    4724MiB /  12288MiB |     33%      Default |\n",
      "|                                         |                        |                  N/A |\n",
      "+-----------------------------------------+------------------------+----------------------+\n",
      "                                                                                         \n",
      "+-----------------------------------------------------------------------------------------+\n",
      "| Processes:                                                                              |\n",
      "|  GPU   GI   CI        PID   Type   Process name                              GPU Memory |\n",
      "|        ID   ID                                                               Usage      |\n",
      "|=========================================================================================|\n",
      "|    0   N/A  N/A      5395      G   /usr/lib/xorg/Xorg                            201MiB |\n",
      "|    0   N/A  N/A      5694      G   /usr/bin/gnome-shell                           85MiB |\n",
      "|    0   N/A  N/A    129967      G   /proc/self/exe                                259MiB |\n",
      "|    0   N/A  N/A    312443      C   .../.pyenv/versions/3.11.11/bin/python       4150MiB |\n",
      "+-----------------------------------------------------------------------------------------+\n"
     ]
    },
    {
     "name": "stderr",
     "output_type": "stream",
     "text": [
      "huggingface/tokenizers: The current process just got forked, after parallelism has already been used. Disabling parallelism to avoid deadlocks...\n",
      "To disable this warning, you can either:\n",
      "\t- Avoid using `tokenizers` before the fork if possible\n",
      "\t- Explicitly set the environment variable TOKENIZERS_PARALLELISM=(true | false)\n"
     ]
    }
   ],
   "source": [
    "# for GPU only\n",
    "!nvidia-smi  "
   ]
  },
  {
   "cell_type": "code",
   "execution_count": 102,
   "metadata": {
    "execution": {
     "iopub.execute_input": "2025-09-27T14:47:08.152580Z",
     "iopub.status.busy": "2025-09-27T14:47:08.152172Z",
     "iopub.status.idle": "2025-09-27T14:47:08.160803Z",
     "shell.execute_reply": "2025-09-27T14:47:08.159850Z",
     "shell.execute_reply.started": "2025-09-27T14:47:08.152538Z"
    }
   },
   "outputs": [],
   "source": [
    "del tempTrainDF \n",
    "del tempValDF"
   ]
  },
  {
   "cell_type": "code",
   "execution_count": 103,
   "metadata": {
    "execution": {
     "iopub.execute_input": "2025-09-27T14:47:08.162163Z",
     "iopub.status.busy": "2025-09-27T14:47:08.161839Z",
     "iopub.status.idle": "2025-09-27T14:47:08.175055Z",
     "shell.execute_reply": "2025-09-27T14:47:08.174053Z",
     "shell.execute_reply.started": "2025-09-27T14:47:08.162131Z"
    }
   },
   "outputs": [
    {
     "data": {
      "text/plain": [
       "DatasetDict({\n",
       "    train: Dataset({\n",
       "        features: ['LLM_Content', 'label', '__index_level_0__'],\n",
       "        num_rows: 88876\n",
       "    })\n",
       "    val: Dataset({\n",
       "        features: ['LLM_Content', 'label', '__index_level_0__'],\n",
       "        num_rows: 179\n",
       "    })\n",
       "})"
      ]
     },
     "execution_count": 103,
     "metadata": {},
     "output_type": "execute_result"
    }
   ],
   "source": [
    "datasetDict = DatasetDict({\n",
    "    \"train\" : trainDataset,\n",
    "    \"val\"  : valDataset\n",
    "    \n",
    "})\n",
    "datasetDict"
   ]
  },
  {
   "cell_type": "code",
   "execution_count": 104,
   "metadata": {
    "execution": {
     "iopub.execute_input": "2025-09-27T14:47:08.176821Z",
     "iopub.status.busy": "2025-09-27T14:47:08.176224Z",
     "iopub.status.idle": "2025-09-27T14:47:08.187188Z",
     "shell.execute_reply": "2025-09-27T14:47:08.186427Z",
     "shell.execute_reply.started": "2025-09-27T14:47:08.176800Z"
    }
   },
   "outputs": [
    {
     "data": {
      "text/plain": [
       "Dataset({\n",
       "    features: ['LLM_Content', 'label', '__index_level_0__'],\n",
       "    num_rows: 88876\n",
       "})"
      ]
     },
     "execution_count": 104,
     "metadata": {},
     "output_type": "execute_result"
    }
   ],
   "source": [
    "datasetDict[\"train\"]"
   ]
  },
  {
   "cell_type": "code",
   "execution_count": 105,
   "metadata": {
    "execution": {
     "iopub.execute_input": "2025-09-27T14:47:08.188848Z",
     "iopub.status.busy": "2025-09-27T14:47:08.188140Z",
     "iopub.status.idle": "2025-09-27T14:47:08.198711Z",
     "shell.execute_reply": "2025-09-27T14:47:08.197923Z",
     "shell.execute_reply.started": "2025-09-27T14:47:08.188820Z"
    }
   },
   "outputs": [],
   "source": [
    "def tokenizeFunc(batch):\n",
    "    return tokenizer(batch[\"LLM_Content\"],  max_length=CFG.maxLength, padding=True, truncation=True)"
   ]
  },
  {
   "cell_type": "code",
   "execution_count": 106,
   "metadata": {
    "execution": {
     "iopub.execute_input": "2025-09-27T14:47:08.200250Z",
     "iopub.status.busy": "2025-09-27T14:47:08.199907Z",
     "iopub.status.idle": "2025-09-27T14:47:33.367308Z",
     "shell.execute_reply": "2025-09-27T14:47:33.366576Z",
     "shell.execute_reply.started": "2025-09-27T14:47:08.200217Z"
    }
   },
   "outputs": [
    {
     "name": "stderr",
     "output_type": "stream",
     "text": [
      "Map: 100%|██████████| 88876/88876 [00:05<00:00, 17284.60 examples/s]\n",
      "Map: 100%|██████████| 179/179 [00:00<00:00, 17665.01 examples/s]\n"
     ]
    }
   ],
   "source": [
    "datasetDict = datasetDict.map(tokenizeFunc, batched=True)"
   ]
  },
  {
   "cell_type": "code",
   "execution_count": 107,
   "metadata": {
    "execution": {
     "iopub.execute_input": "2025-09-27T14:47:33.369150Z",
     "iopub.status.busy": "2025-09-27T14:47:33.368363Z",
     "iopub.status.idle": "2025-09-27T14:47:33.374098Z",
     "shell.execute_reply": "2025-09-27T14:47:33.373490Z",
     "shell.execute_reply.started": "2025-09-27T14:47:33.369118Z"
    }
   },
   "outputs": [
    {
     "data": {
      "text/plain": [
       "DatasetDict({\n",
       "    train: Dataset({\n",
       "        features: ['LLM_Content', 'label', '__index_level_0__', 'input_ids', 'attention_mask'],\n",
       "        num_rows: 88876\n",
       "    })\n",
       "    val: Dataset({\n",
       "        features: ['LLM_Content', 'label', '__index_level_0__', 'input_ids', 'attention_mask'],\n",
       "        num_rows: 179\n",
       "    })\n",
       "})"
      ]
     },
     "execution_count": 107,
     "metadata": {},
     "output_type": "execute_result"
    }
   ],
   "source": [
    "datasetDict"
   ]
  },
  {
   "cell_type": "code",
   "execution_count": 108,
   "metadata": {
    "execution": {
     "iopub.execute_input": "2025-09-27T14:47:33.375721Z",
     "iopub.status.busy": "2025-09-27T14:47:33.374987Z",
     "iopub.status.idle": "2025-09-27T14:47:33.389778Z",
     "shell.execute_reply": "2025-09-27T14:47:33.389016Z",
     "shell.execute_reply.started": "2025-09-27T14:47:33.375701Z"
    }
   },
   "outputs": [],
   "source": [
    "datasetDict = datasetDict.rename_column(\"label\", \"labels\")  # change name to labels "
   ]
  },
  {
   "cell_type": "code",
   "execution_count": 109,
   "metadata": {
    "execution": {
     "iopub.execute_input": "2025-09-27T14:47:33.391103Z",
     "iopub.status.busy": "2025-09-27T14:47:33.390735Z",
     "iopub.status.idle": "2025-09-27T14:47:33.397446Z",
     "shell.execute_reply": "2025-09-27T14:47:33.396645Z",
     "shell.execute_reply.started": "2025-09-27T14:47:33.391082Z"
    }
   },
   "outputs": [
    {
     "data": {
      "text/plain": [
       "DatasetDict({\n",
       "    train: Dataset({\n",
       "        features: ['LLM_Content', 'labels', '__index_level_0__', 'input_ids', 'attention_mask'],\n",
       "        num_rows: 88876\n",
       "    })\n",
       "    val: Dataset({\n",
       "        features: ['LLM_Content', 'labels', '__index_level_0__', 'input_ids', 'attention_mask'],\n",
       "        num_rows: 179\n",
       "    })\n",
       "})"
      ]
     },
     "execution_count": 109,
     "metadata": {},
     "output_type": "execute_result"
    }
   ],
   "source": [
    "datasetDict"
   ]
  },
  {
   "cell_type": "code",
   "execution_count": 110,
   "metadata": {
    "execution": {
     "iopub.execute_input": "2025-09-27T14:47:33.399362Z",
     "iopub.status.busy": "2025-09-27T14:47:33.398492Z",
     "iopub.status.idle": "2025-09-27T14:47:33.409767Z",
     "shell.execute_reply": "2025-09-27T14:47:33.408973Z",
     "shell.execute_reply.started": "2025-09-27T14:47:33.399330Z"
    }
   },
   "outputs": [
    {
     "data": {
      "text/plain": [
       "DatasetDict({\n",
       "    test: Dataset({\n",
       "        features: ['row_id', 'QuestionId', 'QuestionText', 'MC_Answer', 'StudentExplanation', 'is_correct', 'LLM_Content'],\n",
       "        num_rows: 3\n",
       "    })\n",
       "})"
      ]
     },
     "execution_count": 110,
     "metadata": {},
     "output_type": "execute_result"
    }
   ],
   "source": [
    "testDict = DatasetDict({\n",
    "    \"test\": testDataset\n",
    "    \n",
    "})\n",
    "testDict"
   ]
  },
  {
   "cell_type": "code",
   "execution_count": 111,
   "metadata": {
    "execution": {
     "iopub.execute_input": "2025-09-27T14:47:33.411148Z",
     "iopub.status.busy": "2025-09-27T14:47:33.410795Z",
     "iopub.status.idle": "2025-09-27T14:47:33.421877Z",
     "shell.execute_reply": "2025-09-27T14:47:33.421033Z",
     "shell.execute_reply.started": "2025-09-27T14:47:33.411119Z"
    }
   },
   "outputs": [
    {
     "data": {
      "text/plain": [
       "DatasetDict({\n",
       "    test: Dataset({\n",
       "        features: ['row_id', 'Category:Misconception'],\n",
       "        num_rows: 3\n",
       "    })\n",
       "})"
      ]
     },
     "execution_count": 111,
     "metadata": {},
     "output_type": "execute_result"
    }
   ],
   "source": [
    "submitDict = DatasetDict({\n",
    "    \"test\": subDataset\n",
    "    # \"test\": subDataset\n",
    "    \n",
    "})\n",
    "submitDict"
   ]
  },
  {
   "cell_type": "code",
   "execution_count": 112,
   "metadata": {
    "execution": {
     "iopub.execute_input": "2025-09-27T14:47:33.423227Z",
     "iopub.status.busy": "2025-09-27T14:47:33.422868Z",
     "iopub.status.idle": "2025-09-27T14:47:33.435185Z",
     "shell.execute_reply": "2025-09-27T14:47:33.434358Z",
     "shell.execute_reply.started": "2025-09-27T14:47:33.423194Z"
    }
   },
   "outputs": [],
   "source": [
    "# Evaluation Metrics\n",
    "def compute_metric(eval_pred):\n",
    "    logits , labels = eval_pred\n",
    "    predictions = np.argmax(logits, axis=-1)  # for mult-class\n",
    "    acc = (predictions == labels).mean()\n",
    "    f1score  =  f1_score(labels, predictions, average='weighted', zero_division=1)\n",
    "    recallScore = recall_score(labels, predictions,  average='weighted', zero_division=1)\n",
    "    precision = precision_score(labels, predictions,  average='weighted', zero_division=1)\n",
    "\n",
    "    # for map@3\n",
    "    top3_preds = np.argsort(logits, axis=-1)[:, -3:]\n",
    "    match = (top3_preds == labels[:, None])\n",
    "\n",
    "    # Compute MAP@3 manually\n",
    "    map3 = 0\n",
    "    for i in range(len(labels)):\n",
    "        if match[i, 0]:\n",
    "            map3 += 1.0\n",
    "        elif match[i, 1]:\n",
    "            map3 += 1.0 / 2\n",
    "        elif match[i, 2]:\n",
    "            map3 += 1.0 / 3\n",
    "    map3Score = map3 / len(labels)\n",
    "    # map3List.append(map3Score)\n",
    "    \n",
    "    return {\"accuracy\": acc , \"recall\":  recallScore,  \"precision\":precision, 'f1-score': f1score ,\n",
    "             \"map_3\":map3Score}\n",
    "    \n",
    "    \n",
    "    \n",
    "    "
   ]
  },
  {
   "cell_type": "markdown",
   "metadata": {},
   "source": [
    "## LoRA fine tuing"
   ]
  },
  {
   "cell_type": "code",
   "execution_count": 113,
   "metadata": {
    "execution": {
     "iopub.execute_input": "2025-09-27T14:47:33.436362Z",
     "iopub.status.busy": "2025-09-27T14:47:33.436024Z",
     "iopub.status.idle": "2025-09-27T14:47:33.451731Z",
     "shell.execute_reply": "2025-09-27T14:47:33.450882Z",
     "shell.execute_reply.started": "2025-09-27T14:47:33.436335Z"
    }
   },
   "outputs": [],
   "source": [
    "lora_config = LoraConfig(\n",
    "        r=16,\n",
    "        lora_alpha=32,\n",
    "        task_type=\"SEQ_CLS\",  # for Sequence Classification\n",
    "        # task_type=\"CAUSAL_LM\", # for generative task\n",
    "        bias=\"none\",\n",
    "        target_modules = [\"q_proj\", \"o_proj\", \"k_proj\", \"v_proj\",\n",
    "                      \"gate_proj\", \"up_proj\", \"down_proj\"],\n",
    "        lora_dropout= CFG.DROPOUT,\n",
    "    )"
   ]
  },
  {
   "cell_type": "code",
   "execution_count": 114,
   "metadata": {
    "execution": {
     "iopub.execute_input": "2025-09-27T14:47:33.452988Z",
     "iopub.status.busy": "2025-09-27T14:47:33.452611Z",
     "iopub.status.idle": "2025-09-27T14:47:34.232334Z",
     "shell.execute_reply": "2025-09-27T14:47:34.231643Z",
     "shell.execute_reply.started": "2025-09-27T14:47:33.452966Z"
    }
   },
   "outputs": [],
   "source": [
    "# Creat Lora Model\n",
    "model = get_peft_model(model, lora_config)"
   ]
  },
  {
   "cell_type": "code",
   "execution_count": 115,
   "metadata": {
    "execution": {
     "iopub.execute_input": "2025-09-27T14:47:34.236487Z",
     "iopub.status.busy": "2025-09-27T14:47:34.236201Z",
     "iopub.status.idle": "2025-09-27T14:47:34.249047Z",
     "shell.execute_reply": "2025-09-27T14:47:34.248343Z",
     "shell.execute_reply.started": "2025-09-27T14:47:34.236466Z"
    }
   },
   "outputs": [
    {
     "name": "stdout",
     "output_type": "stream",
     "text": [
      "trainable params: 33,196,544 || all params: 4,055,147,520 || trainable%: 0.8186\n"
     ]
    }
   ],
   "source": [
    "model.print_trainable_parameters()"
   ]
  },
  {
   "cell_type": "code",
   "execution_count": 116,
   "metadata": {
    "execution": {
     "iopub.execute_input": "2025-09-27T14:47:34.250780Z",
     "iopub.status.busy": "2025-09-27T14:47:34.250020Z",
     "iopub.status.idle": "2025-09-27T14:47:34.263510Z",
     "shell.execute_reply": "2025-09-27T14:47:34.262618Z",
     "shell.execute_reply.started": "2025-09-27T14:47:34.250750Z"
    }
   },
   "outputs": [
    {
     "data": {
      "text/plain": [
       "'0.23.0'"
      ]
     },
     "execution_count": 116,
     "metadata": {},
     "output_type": "execute_result"
    }
   ],
   "source": [
    "import trl\n",
    "trl.__version__"
   ]
  },
  {
   "cell_type": "code",
   "execution_count": 117,
   "metadata": {
    "execution": {
     "iopub.execute_input": "2025-09-27T14:47:34.264835Z",
     "iopub.status.busy": "2025-09-27T14:47:34.264468Z",
     "iopub.status.idle": "2025-09-27T14:47:34.275264Z",
     "shell.execute_reply": "2025-09-27T14:47:34.274400Z",
     "shell.execute_reply.started": "2025-09-27T14:47:34.264804Z"
    }
   },
   "outputs": [
    {
     "data": {
      "text/plain": [
       "0.005"
      ]
     },
     "execution_count": 117,
     "metadata": {},
     "output_type": "execute_result"
    }
   ],
   "source": [
    "CFG.maxEpoch"
   ]
  },
  {
   "cell_type": "code",
   "execution_count": 118,
   "metadata": {
    "execution": {
     "iopub.execute_input": "2025-09-27T14:47:34.277010Z",
     "iopub.status.busy": "2025-09-27T14:47:34.276296Z",
     "iopub.status.idle": "2025-09-27T14:47:34.287185Z",
     "shell.execute_reply": "2025-09-27T14:47:34.286427Z",
     "shell.execute_reply.started": "2025-09-27T14:47:34.276981Z"
    }
   },
   "outputs": [
    {
     "name": "stdout",
     "output_type": "stream",
     "text": [
      "BATCH_SIZE: 2, N_SAMPLES: 88876, STEPS_PER_EPOCH: 44438\n",
      "NUM_WARMUP_STEPS: 22, TOTAL_STEPS: 222\n",
      "Val Step per epoch: 89\n"
     ]
    }
   ],
   "source": [
    "N_SAMPLES = len(datasetDict[\"train\"])  # Use train_df after the split\n",
    "STEPS_PER_EPOCH = (N_SAMPLES // CFG.per_device_train_batch_size ) #* CFG.maxEpoch\n",
    "VAL_STEPS_PER_EPOCH = len(datasetDict[\"val\"]) // CFG.per_device_eval_batch_size\n",
    "TOTAL_STEPS = int(STEPS_PER_EPOCH * CFG.maxEpoch)\n",
    "NUM_WARMUP_STEPS = int(TOTAL_STEPS * 0.1)\n",
    "\n",
    "print(f'BATCH_SIZE: {CFG.per_device_train_batch_size}, N_SAMPLES: {N_SAMPLES}, STEPS_PER_EPOCH: {STEPS_PER_EPOCH}')\n",
    "print(f'NUM_WARMUP_STEPS: {NUM_WARMUP_STEPS}, TOTAL_STEPS: {TOTAL_STEPS}')\n",
    "print(f\"Val Step per epoch: {VAL_STEPS_PER_EPOCH}\")\n"
   ]
  },
  {
   "cell_type": "code",
   "execution_count": 119,
   "metadata": {
    "execution": {
     "iopub.execute_input": "2025-09-27T14:47:34.288558Z",
     "iopub.status.busy": "2025-09-27T14:47:34.288213Z",
     "iopub.status.idle": "2025-09-27T14:47:34.301131Z",
     "shell.execute_reply": "2025-09-27T14:47:34.300177Z",
     "shell.execute_reply.started": "2025-09-27T14:47:34.288529Z"
    }
   },
   "outputs": [],
   "source": [
    "# import deepspeed\n",
    "# deepspeed.__version__"
   ]
  },
  {
   "cell_type": "code",
   "execution_count": 122,
   "metadata": {
    "execution": {
     "iopub.execute_input": "2025-09-27T14:47:34.347947Z",
     "iopub.status.busy": "2025-09-27T14:47:34.347649Z",
     "iopub.status.idle": "2025-09-27T14:47:34.353441Z",
     "shell.execute_reply": "2025-09-27T14:47:34.352681Z",
     "shell.execute_reply.started": "2025-09-27T14:47:34.347922Z"
    }
   },
   "outputs": [
    {
     "data": {
      "text/plain": [
       "'1.10.1'"
      ]
     },
     "execution_count": 122,
     "metadata": {},
     "output_type": "execute_result"
    }
   ],
   "source": [
    "import accelerate\n",
    "accelerate.__version__"
   ]
  },
  {
   "cell_type": "markdown",
   "metadata": {},
   "source": [
    "## STF Trainer Parameter"
   ]
  },
  {
   "cell_type": "code",
   "execution_count": 123,
   "metadata": {
    "execution": {
     "iopub.execute_input": "2025-09-27T14:47:44.431345Z",
     "iopub.status.busy": "2025-09-27T14:47:44.431045Z",
     "iopub.status.idle": "2025-09-27T14:47:44.470271Z",
     "shell.execute_reply": "2025-09-27T14:47:44.469411Z",
     "shell.execute_reply.started": "2025-09-27T14:47:44.431324Z"
    }
   },
   "outputs": [],
   "source": [
    "from trl import SFTTrainer, SFTConfig\n",
    "torch_dtype = model.dtype\n",
    "trainArg = SFTConfig(\n",
    "    output_dir= \"kaggle/working\",\n",
    "    max_length= CFG.maxLength, # old version trl\n",
    "    # max_seq_length = CFG.maxLength, # new version trl\n",
    "    per_device_train_batch_size =CFG.per_device_train_batch_size,\n",
    "    per_device_eval_batch_size = CFG.per_device_eval_batch_size,\n",
    "    gradient_accumulation_steps = CFG.gradient_accumulation_steps,\n",
    "    eval_strategy= \"steps\",\n",
    "    save_strategy= \"steps\",\n",
    "    warmup_steps= NUM_WARMUP_STEPS, #CFG.warmup_steps,\n",
    "    max_steps = TOTAL_STEPS,  #CFG.maxTrainStep, # set max train step size\n",
    "    learning_rate=CFG.learning_rate,\n",
    "    lr_scheduler_type=\"cosine\", #\"linear\", #\"cosine\",\n",
    "    save_total_limit=1,\n",
    "    fp16=True if torch_dtype == torch.float16 else False,   # use float16 precision ,  # INFER WITH FP16 BECAUSE KAGGLE IS T4 GPU\n",
    "    bf16=True if torch_dtype == torch.bfloat16 else False,  # use bfloat16 precision, TRAIN WITH BF16 IF LOCAL GPU IS NEWER GPU  \n",
    "    # fp16=True,\n",
    "    logging_steps= CFG.evalSteps,\n",
    "    eval_steps = CFG.evalSteps,\n",
    "    optim=\"adamw_8bit\",  #\"paged_adamw_8bit\",\n",
    "    report_to = CFG.reportTo,\n",
    "    do_eval=True,                # Perform evaluation at the end of training\n",
    "    max_grad_norm=1.0,\n",
    "    weight_decay=CFG.weight_decay,\n",
    "    metric_for_best_model=\"map_3\",\n",
    "    greater_is_better=True,\n",
    "    # memory optimial (reduce GPU memory but slowdown train speed )\n",
    "    # gradient_checkpointing=True,\n",
    "    # gradient_checkpointing_kwargs={'use_reentrant':False}, # for Mulitple -GPU\n",
    "    load_best_model_at_end=True,\n",
    "    gradient_checkpointing_kwargs={'use_reentrant':True} # for Single -GPU\n",
    "    # deepspeed=CFG.deepspeedConfigFile, # config error\n",
    "\n",
    "    \n",
    ")"
   ]
  },
  {
   "cell_type": "code",
   "execution_count": 124,
   "metadata": {
    "execution": {
     "iopub.execute_input": "2025-09-27T14:47:47.019811Z",
     "iopub.status.busy": "2025-09-27T14:47:47.019138Z",
     "iopub.status.idle": "2025-09-27T14:47:47.024627Z",
     "shell.execute_reply": "2025-09-27T14:47:47.023819Z",
     "shell.execute_reply.started": "2025-09-27T14:47:47.019784Z"
    }
   },
   "outputs": [
    {
     "data": {
      "text/plain": [
       "True"
      ]
     },
     "execution_count": 124,
     "metadata": {},
     "output_type": "execute_result"
    }
   ],
   "source": [
    "trainArg.bf16 "
   ]
  },
  {
   "cell_type": "code",
   "execution_count": 125,
   "metadata": {
    "execution": {
     "iopub.execute_input": "2025-09-27T14:47:47.593152Z",
     "iopub.status.busy": "2025-09-27T14:47:47.592487Z",
     "iopub.status.idle": "2025-09-27T14:47:47.596781Z",
     "shell.execute_reply": "2025-09-27T14:47:47.595919Z",
     "shell.execute_reply.started": "2025-09-27T14:47:47.593127Z"
    }
   },
   "outputs": [],
   "source": [
    "from transformers import DataCollatorWithPadding"
   ]
  },
  {
   "cell_type": "code",
   "execution_count": 126,
   "metadata": {
    "execution": {
     "iopub.execute_input": "2025-09-27T14:47:49.882914Z",
     "iopub.status.busy": "2025-09-27T14:47:49.882155Z",
     "iopub.status.idle": "2025-09-27T14:47:50.459429Z",
     "shell.execute_reply": "2025-09-27T14:47:50.458680Z",
     "shell.execute_reply.started": "2025-09-27T14:47:49.882886Z"
    }
   },
   "outputs": [
    {
     "name": "stderr",
     "output_type": "stream",
     "text": [
      "/home/johnsonhk88/.pyenv/versions/3.11.11/lib/python3.11/site-packages/peft/tuners/lora/bnb.py:348: UserWarning: Merge lora module to 4-bit linear may get different generations due to rounding errors.\n",
      "  warnings.warn(\n",
      "/home/johnsonhk88/.pyenv/versions/3.11.11/lib/python3.11/site-packages/peft/tuners/tuners_utils.py:196: UserWarning: Already found a `peft_config` attribute in the model. This will lead to having multiple adapters in the model. Make sure to know what you are doing!\n",
      "  warnings.warn(\n",
      "Truncating train dataset: 100%|██████████| 88876/88876 [00:00<00:00, 709903.11 examples/s]\n",
      "Truncating eval dataset: 100%|██████████| 179/179 [00:00<00:00, 137606.38 examples/s]\n"
     ]
    }
   ],
   "source": [
    "data_collator = DataCollatorWithPadding(tokenizer=tokenizer)\n",
    "\n",
    "trainer= SFTTrainer(\n",
    "    model=model,\n",
    "    train_dataset=datasetDict[\"train\"],\n",
    "    eval_dataset = datasetDict[\"val\"],\n",
    "    args=trainArg,\n",
    "    peft_config = lora_config,\n",
    "    # formatting_func=formatFuct,\n",
    "    data_collator = data_collator, \n",
    "    compute_metrics= compute_metric,\n",
    "    \n",
    "    \n",
    ")"
   ]
  },
  {
   "cell_type": "code",
   "execution_count": 127,
   "metadata": {
    "execution": {
     "iopub.execute_input": "2025-09-27T14:48:07.114619Z",
     "iopub.status.busy": "2025-09-27T14:48:07.114252Z",
     "iopub.status.idle": "2025-09-27T14:48:07.119344Z",
     "shell.execute_reply": "2025-09-27T14:48:07.118352Z",
     "shell.execute_reply.started": "2025-09-27T14:48:07.114595Z"
    }
   },
   "outputs": [],
   "source": [
    "# Fix Batch size >1 , not define pad token id issues\n",
    "eos_token_id=tokenizer.eos_token_id\n",
    "model.config.use_cache=False\n",
    "model.config.pad_token_id = tokenizer.pad_token_id"
   ]
  },
  {
   "cell_type": "code",
   "execution_count": 128,
   "metadata": {},
   "outputs": [],
   "source": [
    "# model.config.pad_token_id = tokenizer.pad_token_id\n",
    "# model.config.bos_token_id = tokenizer.bos_token_id if tokenizer.bos_token_id is not None else model.config.bos_token_id\n",
    "# model.config.eos_token_id = tokenizer.eos_token_id if tokenizer.eos_token_id is not None else model.config.eos_token_id"
   ]
  },
  {
   "cell_type": "code",
   "execution_count": null,
   "metadata": {},
   "outputs": [],
   "source": []
  },
  {
   "cell_type": "code",
   "execution_count": 129,
   "metadata": {
    "execution": {
     "iopub.execute_input": "2025-09-27T14:48:09.130600Z",
     "iopub.status.busy": "2025-09-27T14:48:09.130241Z",
     "iopub.status.idle": "2025-09-27T14:48:12.902472Z",
     "shell.execute_reply": "2025-09-27T14:48:12.901583Z",
     "shell.execute_reply.started": "2025-09-27T14:48:09.130577Z"
    }
   },
   "outputs": [],
   "source": [
    "clearMemory() # clear memory before training"
   ]
  },
  {
   "cell_type": "code",
   "execution_count": 130,
   "metadata": {
    "execution": {
     "iopub.execute_input": "2025-09-27T14:48:12.904062Z",
     "iopub.status.busy": "2025-09-27T14:48:12.903769Z",
     "iopub.status.idle": "2025-09-27T16:18:07.648436Z",
     "shell.execute_reply": "2025-09-27T16:18:07.647719Z",
     "shell.execute_reply.started": "2025-09-27T14:48:12.904042Z"
    }
   },
   "outputs": [
    {
     "name": "stderr",
     "output_type": "stream",
     "text": [
      "The tokenizer has new PAD/BOS/EOS tokens that differ from the model config and generation config. The model config and generation config were aligned accordingly, being updated with the tokenizer's values. Updated tokens: {'bos_token_id': None, 'pad_token_id': 151643}.\n"
     ]
    },
    {
     "ename": "IndexError",
     "evalue": "too many indices for tensor of dimension 2",
     "output_type": "error",
     "traceback": [
      "\u001b[31m---------------------------------------------------------------------------\u001b[39m",
      "\u001b[31mIndexError\u001b[39m                                Traceback (most recent call last)",
      "\u001b[36mCell\u001b[39m\u001b[36m \u001b[39m\u001b[32mIn[130]\u001b[39m\u001b[32m, line 2\u001b[39m\n\u001b[32m      1\u001b[39m \u001b[38;5;66;03m# %%time\u001b[39;00m\n\u001b[32m----> \u001b[39m\u001b[32m2\u001b[39m \u001b[43mtrainer\u001b[49m\u001b[43m.\u001b[49m\u001b[43mtrain\u001b[49m\u001b[43m(\u001b[49m\u001b[43m)\u001b[49m\n",
      "\u001b[36mFile \u001b[39m\u001b[32m~/.pyenv/versions/3.11.11/lib/python3.11/site-packages/transformers/trainer.py:2325\u001b[39m, in \u001b[36mTrainer.train\u001b[39m\u001b[34m(self, resume_from_checkpoint, trial, ignore_keys_for_eval, **kwargs)\u001b[39m\n\u001b[32m   2323\u001b[39m         hf_hub_utils.enable_progress_bars()\n\u001b[32m   2324\u001b[39m \u001b[38;5;28;01melse\u001b[39;00m:\n\u001b[32m-> \u001b[39m\u001b[32m2325\u001b[39m     \u001b[38;5;28;01mreturn\u001b[39;00m \u001b[43minner_training_loop\u001b[49m\u001b[43m(\u001b[49m\n\u001b[32m   2326\u001b[39m \u001b[43m        \u001b[49m\u001b[43margs\u001b[49m\u001b[43m=\u001b[49m\u001b[43margs\u001b[49m\u001b[43m,\u001b[49m\n\u001b[32m   2327\u001b[39m \u001b[43m        \u001b[49m\u001b[43mresume_from_checkpoint\u001b[49m\u001b[43m=\u001b[49m\u001b[43mresume_from_checkpoint\u001b[49m\u001b[43m,\u001b[49m\n\u001b[32m   2328\u001b[39m \u001b[43m        \u001b[49m\u001b[43mtrial\u001b[49m\u001b[43m=\u001b[49m\u001b[43mtrial\u001b[49m\u001b[43m,\u001b[49m\n\u001b[32m   2329\u001b[39m \u001b[43m        \u001b[49m\u001b[43mignore_keys_for_eval\u001b[49m\u001b[43m=\u001b[49m\u001b[43mignore_keys_for_eval\u001b[49m\u001b[43m,\u001b[49m\n\u001b[32m   2330\u001b[39m \u001b[43m    \u001b[49m\u001b[43m)\u001b[49m\n",
      "\u001b[36mFile \u001b[39m\u001b[32m~/.pyenv/versions/3.11.11/lib/python3.11/site-packages/transformers/trainer.py:2674\u001b[39m, in \u001b[36mTrainer._inner_training_loop\u001b[39m\u001b[34m(self, batch_size, args, resume_from_checkpoint, trial, ignore_keys_for_eval)\u001b[39m\n\u001b[32m   2667\u001b[39m context = (\n\u001b[32m   2668\u001b[39m     functools.partial(\u001b[38;5;28mself\u001b[39m.accelerator.no_sync, model=model)\n\u001b[32m   2669\u001b[39m     \u001b[38;5;28;01mif\u001b[39;00m i != \u001b[38;5;28mlen\u001b[39m(batch_samples) - \u001b[32m1\u001b[39m\n\u001b[32m   2670\u001b[39m     \u001b[38;5;129;01mand\u001b[39;00m \u001b[38;5;28mself\u001b[39m.accelerator.distributed_type != DistributedType.DEEPSPEED\n\u001b[32m   2671\u001b[39m     \u001b[38;5;28;01melse\u001b[39;00m contextlib.nullcontext\n\u001b[32m   2672\u001b[39m )\n\u001b[32m   2673\u001b[39m \u001b[38;5;28;01mwith\u001b[39;00m context():\n\u001b[32m-> \u001b[39m\u001b[32m2674\u001b[39m     tr_loss_step = \u001b[38;5;28;43mself\u001b[39;49m\u001b[43m.\u001b[49m\u001b[43mtraining_step\u001b[49m\u001b[43m(\u001b[49m\u001b[43mmodel\u001b[49m\u001b[43m,\u001b[49m\u001b[43m \u001b[49m\u001b[43minputs\u001b[49m\u001b[43m,\u001b[49m\u001b[43m \u001b[49m\u001b[43mnum_items_in_batch\u001b[49m\u001b[43m)\u001b[49m\n\u001b[32m   2676\u001b[39m \u001b[38;5;28;01mif\u001b[39;00m (\n\u001b[32m   2677\u001b[39m     args.logging_nan_inf_filter\n\u001b[32m   2678\u001b[39m     \u001b[38;5;129;01mand\u001b[39;00m \u001b[38;5;129;01mnot\u001b[39;00m is_torch_xla_available()\n\u001b[32m   2679\u001b[39m     \u001b[38;5;129;01mand\u001b[39;00m (torch.isnan(tr_loss_step) \u001b[38;5;129;01mor\u001b[39;00m torch.isinf(tr_loss_step))\n\u001b[32m   2680\u001b[39m ):\n\u001b[32m   2681\u001b[39m     \u001b[38;5;66;03m# if loss is nan or inf simply add the average of previous logged losses\u001b[39;00m\n\u001b[32m   2682\u001b[39m     tr_loss = tr_loss + tr_loss / (\u001b[32m1\u001b[39m + \u001b[38;5;28mself\u001b[39m.state.global_step - \u001b[38;5;28mself\u001b[39m._globalstep_last_logged)\n",
      "\u001b[36mFile \u001b[39m\u001b[32m~/.pyenv/versions/3.11.11/lib/python3.11/site-packages/trl/trainer/sft_trainer.py:1189\u001b[39m, in \u001b[36mSFTTrainer.training_step\u001b[39m\u001b[34m(self, *args, **kwargs)\u001b[39m\n\u001b[32m   1187\u001b[39m \u001b[38;5;28;01mdef\u001b[39;00m\u001b[38;5;250m \u001b[39m\u001b[34mtraining_step\u001b[39m(\u001b[38;5;28mself\u001b[39m, *args, **kwargs):\n\u001b[32m   1188\u001b[39m     \u001b[38;5;28;01mwith\u001b[39;00m \u001b[38;5;28mself\u001b[39m.maybe_activation_offload_context:\n\u001b[32m-> \u001b[39m\u001b[32m1189\u001b[39m         \u001b[38;5;28;01mreturn\u001b[39;00m \u001b[38;5;28;43msuper\u001b[39;49m\u001b[43m(\u001b[49m\u001b[43m)\u001b[49m\u001b[43m.\u001b[49m\u001b[43mtraining_step\u001b[49m\u001b[43m(\u001b[49m\u001b[43m*\u001b[49m\u001b[43margs\u001b[49m\u001b[43m,\u001b[49m\u001b[43m \u001b[49m\u001b[43m*\u001b[49m\u001b[43m*\u001b[49m\u001b[43mkwargs\u001b[49m\u001b[43m)\u001b[49m\n",
      "\u001b[36mFile \u001b[39m\u001b[32m~/.pyenv/versions/3.11.11/lib/python3.11/site-packages/transformers/trainer.py:4019\u001b[39m, in \u001b[36mTrainer.training_step\u001b[39m\u001b[34m(self, model, inputs, num_items_in_batch)\u001b[39m\n\u001b[32m   4016\u001b[39m     \u001b[38;5;28;01mreturn\u001b[39;00m loss_mb.reduce_mean().detach().to(\u001b[38;5;28mself\u001b[39m.args.device)\n\u001b[32m   4018\u001b[39m \u001b[38;5;28;01mwith\u001b[39;00m \u001b[38;5;28mself\u001b[39m.compute_loss_context_manager():\n\u001b[32m-> \u001b[39m\u001b[32m4019\u001b[39m     loss = \u001b[38;5;28;43mself\u001b[39;49m\u001b[43m.\u001b[49m\u001b[43mcompute_loss\u001b[49m\u001b[43m(\u001b[49m\u001b[43mmodel\u001b[49m\u001b[43m,\u001b[49m\u001b[43m \u001b[49m\u001b[43minputs\u001b[49m\u001b[43m,\u001b[49m\u001b[43m \u001b[49m\u001b[43mnum_items_in_batch\u001b[49m\u001b[43m=\u001b[49m\u001b[43mnum_items_in_batch\u001b[49m\u001b[43m)\u001b[49m\n\u001b[32m   4021\u001b[39m \u001b[38;5;28;01mdel\u001b[39;00m inputs\n\u001b[32m   4022\u001b[39m \u001b[38;5;28;01mif\u001b[39;00m (\n\u001b[32m   4023\u001b[39m     \u001b[38;5;28mself\u001b[39m.args.torch_empty_cache_steps \u001b[38;5;129;01mis\u001b[39;00m \u001b[38;5;129;01mnot\u001b[39;00m \u001b[38;5;28;01mNone\u001b[39;00m\n\u001b[32m   4024\u001b[39m     \u001b[38;5;129;01mand\u001b[39;00m \u001b[38;5;28mself\u001b[39m.state.global_step % \u001b[38;5;28mself\u001b[39m.args.torch_empty_cache_steps == \u001b[32m0\u001b[39m\n\u001b[32m   4025\u001b[39m ):\n",
      "\u001b[36mFile \u001b[39m\u001b[32m~/.pyenv/versions/3.11.11/lib/python3.11/site-packages/trl/trainer/sft_trainer.py:1159\u001b[39m, in \u001b[36mSFTTrainer.compute_loss\u001b[39m\u001b[34m(self, model, inputs, return_outputs, num_items_in_batch)\u001b[39m\n\u001b[32m   1155\u001b[39m     shift_labels = labels[..., \u001b[32m1\u001b[39m:].contiguous()\n\u001b[32m   1157\u001b[39m \u001b[38;5;66;03m# When using Prompt Tuning, skip the virtual tokens in logits before accuracy computation, since they do\u001b[39;00m\n\u001b[32m   1158\u001b[39m \u001b[38;5;66;03m# not correspond to actual input labels.\u001b[39;00m\n\u001b[32m-> \u001b[39m\u001b[32m1159\u001b[39m shift_logits = \u001b[43mshift_logits\u001b[49m\u001b[43m[\u001b[49m\u001b[43m:\u001b[49m\u001b[43m,\u001b[49m\u001b[43m \u001b[49m\u001b[38;5;28;43mself\u001b[39;49m\u001b[43m.\u001b[49m\u001b[43mnum_virtual_tokens\u001b[49m\u001b[43m \u001b[49m\u001b[43m:\u001b[49m\u001b[43m,\u001b[49m\u001b[43m \u001b[49m\u001b[43m:\u001b[49m\u001b[43m]\u001b[49m\n\u001b[32m   1161\u001b[39m \u001b[38;5;66;03m# Get predictions\u001b[39;00m\n\u001b[32m   1162\u001b[39m predictions = shift_logits.argmax(dim=-\u001b[32m1\u001b[39m)\n",
      "\u001b[31mIndexError\u001b[39m: too many indices for tensor of dimension 2"
     ]
    }
   ],
   "source": [
    "# %%time\n",
    "trainer.train()"
   ]
  },
  {
   "cell_type": "code",
   "execution_count": 131,
   "metadata": {
    "execution": {
     "iopub.execute_input": "2025-09-27T16:25:10.888157Z",
     "iopub.status.busy": "2025-09-27T16:25:10.887828Z",
     "iopub.status.idle": "2025-09-27T16:25:11.320699Z",
     "shell.execute_reply": "2025-09-27T16:25:11.319824Z",
     "shell.execute_reply.started": "2025-09-27T16:25:10.888135Z"
    }
   },
   "outputs": [],
   "source": [
    "model.save_pretrained(\"student-math-llm-Fine-tune\") # for peft fine tuning model without trainer\n",
    "# trainer.save_model(\"student-math-llm-Fine-tune\") # save model with full trainer "
   ]
  },
  {
   "cell_type": "code",
   "execution_count": 132,
   "metadata": {
    "execution": {
     "iopub.execute_input": "2025-09-27T16:25:11.528018Z",
     "iopub.status.busy": "2025-09-27T16:25:11.527357Z",
     "iopub.status.idle": "2025-09-27T16:25:19.758387Z",
     "shell.execute_reply": "2025-09-27T16:25:19.757467Z",
     "shell.execute_reply.started": "2025-09-27T16:25:11.527992Z"
    }
   },
   "outputs": [
    {
     "name": "stdout",
     "output_type": "stream",
     "text": [
      "\tzip warning: name not matched: /kaggle/working/student-math-llm-Fine-tune\n",
      "\n",
      "zip error: Nothing to do! (try: zip -r student-math-llm-Fine-tune.zip . -i /kaggle/working/student-math-llm-Fine-tune)\n"
     ]
    },
    {
     "name": "stderr",
     "output_type": "stream",
     "text": [
      "huggingface/tokenizers: The current process just got forked, after parallelism has already been used. Disabling parallelism to avoid deadlocks...\n",
      "To disable this warning, you can either:\n",
      "\t- Avoid using `tokenizers` before the fork if possible\n",
      "\t- Explicitly set the environment variable TOKENIZERS_PARALLELISM=(true | false)\n"
     ]
    }
   ],
   "source": [
    "# for generate downloadable zip file \n",
    "!zip -r student-math-llm-Fine-tune.zip /kaggle/working/student-math-llm-Fine-tune # for peft\n"
   ]
  },
  {
   "cell_type": "code",
   "execution_count": null,
   "metadata": {
    "execution": {
     "iopub.execute_input": "2025-09-27T16:25:19.760701Z",
     "iopub.status.busy": "2025-09-27T16:25:19.760362Z",
     "iopub.status.idle": "2025-09-27T16:25:19.789579Z",
     "shell.execute_reply": "2025-09-27T16:25:19.788663Z",
     "shell.execute_reply.started": "2025-09-27T16:25:19.760673Z"
    }
   },
   "outputs": [],
   "source": [
    "trainHistoryDF = pd.DataFrame(trainer.state.log_history)\n",
    "trainHistoryDF"
   ]
  },
  {
   "cell_type": "code",
   "execution_count": null,
   "metadata": {
    "execution": {
     "iopub.execute_input": "2025-09-27T16:25:19.790895Z",
     "iopub.status.busy": "2025-09-27T16:25:19.790600Z",
     "iopub.status.idle": "2025-09-27T16:25:19.802165Z",
     "shell.execute_reply": "2025-09-27T16:25:19.801328Z",
     "shell.execute_reply.started": "2025-09-27T16:25:19.790873Z"
    }
   },
   "outputs": [],
   "source": [
    "trainHistoryDF.columns"
   ]
  },
  {
   "cell_type": "code",
   "execution_count": null,
   "metadata": {
    "execution": {
     "iopub.execute_input": "2025-09-27T16:25:19.804125Z",
     "iopub.status.busy": "2025-09-27T16:25:19.803839Z",
     "iopub.status.idle": "2025-09-27T16:25:20.043126Z",
     "shell.execute_reply": "2025-09-27T16:25:20.042164Z",
     "shell.execute_reply.started": "2025-09-27T16:25:19.804105Z"
    }
   },
   "outputs": [],
   "source": [
    "import matplotlib.pyplot as plt\n",
    "trainloss = trainHistoryDF[~trainHistoryDF[\"loss\"].isnull()]\n",
    "valloss = trainHistoryDF[~trainHistoryDF[\"eval_loss\"].isnull()]\n",
    "plt.plot(trainloss[\"loss\"], label=\"Train\")\n",
    "plt.plot(valloss[\"eval_loss\"], label=\"Val\")\n",
    "plt.title(\"LLM loss\")\n",
    "plt.legend()\n",
    "plt.show()"
   ]
  },
  {
   "cell_type": "code",
   "execution_count": null,
   "metadata": {
    "execution": {
     "iopub.execute_input": "2025-09-27T16:25:20.044382Z",
     "iopub.status.busy": "2025-09-27T16:25:20.044117Z",
     "iopub.status.idle": "2025-09-27T16:25:20.261845Z",
     "shell.execute_reply": "2025-09-27T16:25:20.260974Z",
     "shell.execute_reply.started": "2025-09-27T16:25:20.044364Z"
    }
   },
   "outputs": [],
   "source": [
    "trainloss = trainHistoryDF[~trainHistoryDF[\"eval_accuracy\"].isnull()]\n",
    "plt.plot(trainloss[\"eval_accuracy\"], label=\"Val Accuracy\")\n",
    "plt.title(\"Val Accuracy\")\n",
    "plt.legend()\n",
    "plt.show()"
   ]
  },
  {
   "cell_type": "code",
   "execution_count": null,
   "metadata": {
    "execution": {
     "iopub.execute_input": "2025-09-27T16:25:20.263310Z",
     "iopub.status.busy": "2025-09-27T16:25:20.262952Z",
     "iopub.status.idle": "2025-09-27T16:25:20.474693Z",
     "shell.execute_reply": "2025-09-27T16:25:20.473873Z",
     "shell.execute_reply.started": "2025-09-27T16:25:20.263261Z"
    }
   },
   "outputs": [],
   "source": [
    "trainloss = trainHistoryDF[~trainHistoryDF[\"eval_recall\"].isnull()]\n",
    "plt.plot(trainloss[\"eval_recall\"], label=\"Val Recall\")\n",
    "plt.title(\"Val Recall\")\n",
    "plt.legend()\n",
    "plt.show()"
   ]
  },
  {
   "cell_type": "code",
   "execution_count": null,
   "metadata": {
    "execution": {
     "iopub.execute_input": "2025-09-27T16:25:20.476537Z",
     "iopub.status.busy": "2025-09-27T16:25:20.476213Z",
     "iopub.status.idle": "2025-09-27T16:25:20.693756Z",
     "shell.execute_reply": "2025-09-27T16:25:20.692880Z",
     "shell.execute_reply.started": "2025-09-27T16:25:20.476505Z"
    }
   },
   "outputs": [],
   "source": [
    "trainloss = trainHistoryDF[~trainHistoryDF[\"eval_precision\"].isnull()]\n",
    "plt.plot(trainloss[\"eval_precision\"], label=\"Val Precision\")\n",
    "plt.title(\"Val Precision\")\n",
    "plt.legend()\n",
    "plt.show()"
   ]
  },
  {
   "cell_type": "code",
   "execution_count": null,
   "metadata": {
    "execution": {
     "iopub.execute_input": "2025-09-27T16:25:20.694924Z",
     "iopub.status.busy": "2025-09-27T16:25:20.694654Z",
     "iopub.status.idle": "2025-09-27T16:25:20.909023Z",
     "shell.execute_reply": "2025-09-27T16:25:20.908009Z",
     "shell.execute_reply.started": "2025-09-27T16:25:20.694891Z"
    }
   },
   "outputs": [],
   "source": [
    "trainloss = trainHistoryDF[~trainHistoryDF[\"eval_f1-score\"].isnull()]\n",
    "plt.plot(trainloss[\"eval_f1-score\"], label=\"Val F1-Score\")\n",
    "plt.title(\"Val F1-Score\")\n",
    "plt.legend()\n",
    "plt.show()"
   ]
  },
  {
   "cell_type": "code",
   "execution_count": null,
   "metadata": {
    "execution": {
     "iopub.execute_input": "2025-09-27T16:25:20.910949Z",
     "iopub.status.busy": "2025-09-27T16:25:20.910667Z",
     "iopub.status.idle": "2025-09-27T16:25:21.133468Z",
     "shell.execute_reply": "2025-09-27T16:25:21.132535Z",
     "shell.execute_reply.started": "2025-09-27T16:25:20.910927Z"
    }
   },
   "outputs": [],
   "source": [
    "trainloss = trainHistoryDF[~trainHistoryDF[\"eval_map_3\"].isnull()]\n",
    "plt.plot(trainloss[\"eval_map_3\"], label=\"MAP@3 Score\")\n",
    "plt.title(\"Val MAP@3\")\n",
    "plt.legend()\n",
    "plt.show()"
   ]
  },
  {
   "cell_type": "code",
   "execution_count": null,
   "metadata": {
    "execution": {
     "iopub.execute_input": "2025-09-27T16:25:27.248489Z",
     "iopub.status.busy": "2025-09-27T16:25:27.247767Z",
     "iopub.status.idle": "2025-09-27T16:25:27.257702Z",
     "shell.execute_reply": "2025-09-27T16:25:27.256854Z",
     "shell.execute_reply.started": "2025-09-27T16:25:27.248464Z"
    }
   },
   "outputs": [],
   "source": [
    "def testValDataset(ds, maxNumData=10):\n",
    "    for i, data in enumerate(ds):\n",
    "        if (i >= maxNumData):\n",
    "            break\n",
    "        print(f\"Data {i}\")\n",
    "        newPrompt = data[\"LLM_Content\"]\n",
    "        with torch.no_grad():\n",
    "             inputIds = tokenizer(newPrompt, return_tensors=\"pt\").to(device)\n",
    "             logits = model(**inputIds).logits\n",
    "             print(f\"Logits Dimension: {logits.shape}\")\n",
    "             probabilities = nn.functional.softmax(logits, dim=-1) # get probilitity\n",
    "             print(f\"Probailities : {probabilities}\")\n",
    "             classID =logits.argmax().item()\n",
    "             print(f\"Class ID type {type(classID)}\")\n",
    "             classTxt = le.inverse_transform([classID])[0]\n",
    "             actualClassID = data['labels']\n",
    "             # print(f\"Actual ClassID : {actualClassID}\")\n",
    "             actualClass = le.inverse_transform([actualClassID])[0]\n",
    "             # Top3 prediction\n",
    "             # acc = (probabilities == actualClassID).mean()\n",
    "             # f1score  =  f1_score(actualClassID, probabilities, average='weighted', zero_division=1)\n",
    "             # recallScore = recall_score(actualClassID, probabilities,  average='weighted', zero_division=1)\n",
    "             # precision = precision_score(actualClassID, probabilities,  average='weighted', zero_division=1)\n",
    "            \n",
    "             # # for map@3\n",
    "             top3_preds = np.argsort(logits.to(torch.float32).cpu(), axis=-1)[:, -3:]\n",
    "             top3 = top3_preds.flatten() # convert to 1D \n",
    "             print(f\"Top3 ID : {top3}\")\n",
    "             # classTxtArray = le.inverse_transform(top3) # convert class ID to Label \n",
    "             match = (top3_preds == actualClassID)\n",
    "                    \n",
    "             # Compute MAP@3 manually\n",
    "             map3 = 0\n",
    "             for i in range(len([actualClassID])):\n",
    "                if match[i, 0]:\n",
    "                    map3 += 1.0\n",
    "                elif match[i, 1]:\n",
    "                    map3 += 1.0 / 2\n",
    "                elif match[i, 2]:\n",
    "                    map3 += 1.0 / 3\n",
    "             map3Score = map3 / len([actualClassID])\n",
    "        \n",
    "\n",
    "        print(f\"\"\"Query: {newPrompt}\n",
    "              Predict Class ID: {classID}\n",
    "              Predict Text: {classTxt}\n",
    "              Actual Class ID: {actualClassID}\n",
    "              Actual Class Text: {actualClass}\n",
    "             MAP@3 Score : {map3Score}\"\"\")\n",
    "        print(\"-\"*30)\n",
    "        \n"
   ]
  },
  {
   "cell_type": "code",
   "execution_count": null,
   "metadata": {
    "execution": {
     "iopub.execute_input": "2025-09-27T16:25:30.316139Z",
     "iopub.status.busy": "2025-09-27T16:25:30.315316Z",
     "iopub.status.idle": "2025-09-27T16:25:44.662791Z",
     "shell.execute_reply": "2025-09-27T16:25:44.661795Z",
     "shell.execute_reply.started": "2025-09-27T16:25:30.316088Z"
    },
    "scrolled": true
   },
   "outputs": [],
   "source": [
    "testValDataset(datasetDict[\"val\"], 20 )"
   ]
  },
  {
   "cell_type": "code",
   "execution_count": null,
   "metadata": {},
   "outputs": [],
   "source": []
  },
  {
   "cell_type": "code",
   "execution_count": null,
   "metadata": {},
   "outputs": [],
   "source": []
  }
 ],
 "metadata": {
  "kaggle": {
   "accelerator": "nvidiaTeslaT4",
   "dataSources": [
    {
     "databundleVersionId": 12957508,
     "sourceId": 104383,
     "sourceType": "competition"
    },
    {
     "datasetId": 5404413,
     "sourceId": 12932535,
     "sourceType": "datasetVersion"
    },
    {
     "datasetId": 8319386,
     "sourceId": 13132370,
     "sourceType": "datasetVersion"
    },
    {
     "modelId": 368800,
     "modelInstanceId": 347538,
     "sourceId": 426326,
     "sourceType": "modelInstanceVersion"
    }
   ],
   "dockerImageVersionId": 31089,
   "isGpuEnabled": true,
   "isInternetEnabled": false,
   "language": "python",
   "sourceType": "notebook"
  },
  "kernelspec": {
   "display_name": "3.11.11",
   "language": "python",
   "name": "python3"
  },
  "language_info": {
   "codemirror_mode": {
    "name": "ipython",
    "version": 3
   },
   "file_extension": ".py",
   "mimetype": "text/x-python",
   "name": "python",
   "nbconvert_exporter": "python",
   "pygments_lexer": "ipython3",
   "version": "3.11.11"
  }
 },
 "nbformat": 4,
 "nbformat_minor": 4
}
