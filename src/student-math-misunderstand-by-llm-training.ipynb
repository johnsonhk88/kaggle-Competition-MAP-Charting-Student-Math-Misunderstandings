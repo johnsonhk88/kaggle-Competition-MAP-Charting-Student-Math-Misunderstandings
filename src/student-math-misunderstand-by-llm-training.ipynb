{
 "cells": [
  {
   "cell_type": "markdown",
   "id": "b0797f7b",
   "metadata": {
    "papermill": {
     "duration": 0.02885,
     "end_time": "2025-10-02T14:44:51.026150",
     "exception": false,
     "start_time": "2025-10-02T14:44:50.997300",
     "status": "completed"
    },
    "tags": []
   },
   "source": [
    "# Kaggle Competition Info\n",
    "In this competition, you’ll develop an NLP model driven by ML to accurately predict students’ potential math misconceptions based on student explanations in open-ended responses. This solution will suggest candidate misconceptions for these explanations, making it easier for teachers to identify and address students’ incorrect thinking, which is critical to improving student math learning.  \n",
    "## Offical Link\n",
    "https://www.kaggle.com/competitions/map-charting-student-math-misunderstandings "
   ]
  },
  {
   "cell_type": "markdown",
   "id": "b8115003",
   "metadata": {
    "papermill": {
     "duration": 0.029988,
     "end_time": "2025-10-02T14:44:51.098693",
     "exception": false,
     "start_time": "2025-10-02T14:44:51.068705",
     "status": "completed"
    },
    "tags": []
   },
   "source": [
    "# Recommand install package first at Add-ons --> Install Dependence\n",
    "\n",
    "```python\n",
    "!pip install -U bitsandbytes==0.47.0\n",
    "!pip install -U peft==0.17.0\n",
    "!pip install -U trl==0.21.0\n",
    "!pip install -U accelerate==1.10.0\n",
    "!pip install transformers==4.55.0\n",
    "!pip install langchain==0.3.27\n",
    "!pip install -U langchain-core==0.3.74\n",
    "!pip install langchain-text-splitters==0.3.9\n",
    "!pip install langchain-community==0.3.27\n",
    "!pip install -U deepeval==3.3.9\n",
    "```"
   ]
  },
  {
   "cell_type": "code",
   "execution_count": 1,
   "id": "7705fb2a",
   "metadata": {
    "execution": {
     "iopub.execute_input": "2025-10-02T14:44:51.164460Z",
     "iopub.status.busy": "2025-10-02T14:44:51.164139Z",
     "iopub.status.idle": "2025-10-02T14:45:09.372815Z",
     "shell.execute_reply": "2025-10-02T14:45:09.372044Z"
    },
    "papermill": {
     "duration": 18.240705,
     "end_time": "2025-10-02T14:45:09.374797",
     "exception": false,
     "start_time": "2025-10-02T14:44:51.134092",
     "status": "completed"
    },
    "scrolled": true,
    "tags": []
   },
   "outputs": [
    {
     "name": "stdout",
     "output_type": "stream",
     "text": [
      "Looking in links: file:///kaggle/input/universal-llm-install-package2/V9/transformers-4.45.2-py3-none-any.whl\r\n",
      "Requirement already satisfied: transformers in /usr/local/lib/python3.11/dist-packages (4.52.4)\r\n",
      "Looking in links: file:///kaggle/input/universal-llm-install-package2/V9/accelerate-1.0.1-py3-none-any.whl\r\n",
      "Requirement already satisfied: accelerate in /usr/local/lib/python3.11/dist-packages (1.8.1)\r\n",
      "Looking in links: file:///kaggle/input/universal-llm-install-package2/V9/trl-0.11.4-py3-none-any.whl\r\n",
      "Processing /kaggle/input/universal-llm-install-package2/V9/trl-0.11.4-py3-none-any.whl\r\n",
      "Installing collected packages: trl\r\n",
      "Successfully installed trl-0.11.4\r\n",
      "Looking in links: file:///kaggle/input/universal-llm-install-package2/V9/peft-0.14.0-py3-none-any.whl\r\n",
      "Requirement already satisfied: peft in /usr/local/lib/python3.11/dist-packages (0.15.2)\r\n",
      "Looking in links: file:///kaggle/input/universal-llm-install-package2/V9/bitsandbytes-0.46.1-py3-none-manylinux_2_24_x86_64.whl\r\n",
      "Processing /kaggle/input/universal-llm-install-package2/V9/bitsandbytes-0.46.1-py3-none-manylinux_2_24_x86_64.whl\r\n",
      "Installing collected packages: bitsandbytes\r\n",
      "Successfully installed bitsandbytes-0.46.1\r\n",
      "Looking in links: file:///kaggle/input/universal-llm-install-package2/V9/langchain-0.3.3-py3-none-any.whl\r\n",
      "Requirement already satisfied: langchain in /usr/local/lib/python3.11/dist-packages (0.3.26)\r\n",
      "Looking in links: file:///kaggle/input/universal-llm-install-package2/V9/langchain_core-0.3.12-py3-none-any.whl\r\n",
      "Requirement already satisfied: langchain_core in /usr/local/lib/python3.11/dist-packages (0.3.66)\r\n",
      "Looking in links: file:///kaggle/input/universal-llm-install-package2/V9/langchain_text_splitters-0.3.0-py3-none-any.whl\r\n",
      "Requirement already satisfied: langchain_text_splitters in /usr/local/lib/python3.11/dist-packages (0.3.8)\r\n",
      "Looking in links: file:///kaggle/input/universal-llm-install-package2/V9/langchain_community-0.3.2-py3-none-any.whl\r\n",
      "Processing /kaggle/input/universal-llm-install-package2/V9/langchain_community-0.3.2-py3-none-any.whl\r\n",
      "Installing collected packages: langchain_community\r\n",
      "Successfully installed langchain_community-0.3.2\r\n"
     ]
    }
   ],
   "source": [
    "# import kagglehub\n",
    "\n",
    "DEBUG = False#True\n",
    "\n",
    "if DEBUG is True:\n",
    "    # !pip install --upgrade datasets accelerate  # add datasets, accelerate , bitsndbytes\n",
    "    !pip install -U peft==0.14.0\n",
    "    !pip install -U trl==0.11.4\n",
    "    # !pip install --upgrade peft trl\n",
    "    # !pip install -U datasets\n",
    "    !pip install -U accelerate==1.0.1\n",
    "    !pip install transformers==4.45.2\n",
    "    !pip install langchain==0.3.27\n",
    "    !pip install -U langchain-core==0.3.74\n",
    "    !pip install langchain-text-splitters==0.3.9\n",
    "    !pip install langchain-community==0.3.27\n",
    "    # !pip install -U deepeval==3.3.9\n",
    "    # !pip install protobuf==4.25.8 #4.49.0     # 6.30.2      #==3.20.3 #4.49.0\n",
    "    # !pip install triton==3.0.0   # avoid load LLM error\n",
    "    !pip install bitsandbytes==0.46.1\n",
    "    # !pip install unsloth==2025.9.9\n",
    "    !pip install unsloth==2025.9.1\n",
    "\n",
    "else:\n",
    "    # package = kagglehub.package_import(\"/johnsonhk88/universal-llm-install-package2\")\n",
    "    # installDir = \"/kaggle/input/universal-llm-install-package2/V7\" #\"/kaggle/input/universal-llm-install-package2/V7\"\n",
    "    installDir = \"/kaggle/input/universal-llm-install-package2/V9\"\n",
    "    # installDir2 =\"/kaggle/input/deepeval-open-source-llm-evaluation-framework\"\n",
    "    !pip install transformers --no-index --no-deps --find-links=file://{installDir}/transformers-4.45.2-py3-none-any.whl\n",
    "    !pip install -U accelerate --no-index --no-deps --find-links=file://{installDir}/accelerate-1.0.1-py3-none-any.whl\n",
    "    !pip install -U trl --no-index --no-deps --find-links=file://{installDir}/trl-0.11.4-py3-none-any.whl\n",
    "    !pip install -U peft --no-index --no-deps --find-links=file://{installDir}/peft-0.14.0-py3-none-any.whl\n",
    "    !pip install  bitsandbytes --no-index --no-deps --find-links=file://{installDir}/bitsandbytes-0.46.1-py3-none-manylinux_2_24_x86_64.whl\n",
    "    \n",
    "    !pip install -U langchain --no-index  --no-deps --find-links=file://{installDir}/langchain-0.3.3-py3-none-any.whl\n",
    "    !pip install -U langchain_core --no-index  --no-deps --find-links=file://{installDir}/langchain_core-0.3.12-py3-none-any.whl\n",
    "    !pip install -U langchain_text_splitters  --no-index  --no-deps  --find-links=file://{installDir}/langchain_text_splitters-0.3.0-py3-none-any.whl\n",
    "    !pip install -U langchain_community  --no-index  --no-deps   --find-links=file://{installDir}/langchain_community-0.3.2-py3-none-any.whl\n",
    "    # !pip install -U triton  --no-index --no-deps  --find-links=file://{installDir}/triton-3.4.0-cp311-cp311-manylinux_2_27_x86_64.manylinux_2_28_x86_64.whl\n",
    "    # !pip install -U protobuf  --no-index  --no-deps  --find-links=file://{installDir}/protobuf-4.25.8-cp37-abi3-manylinux2014_x86_64.whl  \n",
    "    \n",
    "    # !pip install -U vllm   --no-index --find-links=file:///kaggle/input/vllm-inference/\n",
    "\n"
   ]
  },
  {
   "cell_type": "code",
   "execution_count": 2,
   "id": "a0ca3821",
   "metadata": {
    "execution": {
     "iopub.execute_input": "2025-10-02T14:45:09.459648Z",
     "iopub.status.busy": "2025-10-02T14:45:09.459377Z",
     "iopub.status.idle": "2025-10-02T14:45:09.462753Z",
     "shell.execute_reply": "2025-10-02T14:45:09.462234Z"
    },
    "papermill": {
     "duration": 0.026323,
     "end_time": "2025-10-02T14:45:09.463807",
     "exception": false,
     "start_time": "2025-10-02T14:45:09.437484",
     "status": "completed"
    },
    "tags": []
   },
   "outputs": [],
   "source": [
    "# !pip install triton==3.0.0\n",
    "# !pip install triton==3.3.0"
   ]
  },
  {
   "cell_type": "code",
   "execution_count": 3,
   "id": "15a535b2",
   "metadata": {
    "execution": {
     "iopub.execute_input": "2025-10-02T14:45:09.506666Z",
     "iopub.status.busy": "2025-10-02T14:45:09.506480Z",
     "iopub.status.idle": "2025-10-02T14:45:09.509355Z",
     "shell.execute_reply": "2025-10-02T14:45:09.508837Z"
    },
    "papermill": {
     "duration": 0.025032,
     "end_time": "2025-10-02T14:45:09.510318",
     "exception": false,
     "start_time": "2025-10-02T14:45:09.485286",
     "status": "completed"
    },
    "scrolled": true,
    "tags": []
   },
   "outputs": [],
   "source": [
    "# !pip install deepspeed==0.14.5"
   ]
  },
  {
   "cell_type": "code",
   "execution_count": 4,
   "id": "b3886ed2",
   "metadata": {
    "execution": {
     "iopub.execute_input": "2025-10-02T14:45:09.552380Z",
     "iopub.status.busy": "2025-10-02T14:45:09.552207Z",
     "iopub.status.idle": "2025-10-02T14:45:18.887296Z",
     "shell.execute_reply": "2025-10-02T14:45:18.886694Z"
    },
    "papermill": {
     "duration": 9.357822,
     "end_time": "2025-10-02T14:45:18.888665",
     "exception": false,
     "start_time": "2025-10-02T14:45:09.530843",
     "status": "completed"
    },
    "tags": []
   },
   "outputs": [],
   "source": [
    "import numpy as np # linear algebra\n",
    "import pandas as pd # data processing, CSV file I/O (e.g. pd.read_csv)\n",
    "from sklearn.preprocessing import LabelEncoder\n",
    "from sklearn.model_selection import train_test_split\n",
    "\n",
    "import os, time , gc , json\n",
    "import numpy as np # linear algebra\n",
    "import pandas as pd # data processing, CSV file I/O (e.g. pd.read_csv)\n",
    "import matplotlib.pyplot as plt\n",
    "import seaborn as sns\n",
    "\n",
    "import torch\n",
    "from torch import nn\n",
    "import transformers\n",
    "\n",
    "\n"
   ]
  },
  {
   "cell_type": "code",
   "execution_count": 5,
   "id": "23fab3aa",
   "metadata": {
    "execution": {
     "iopub.execute_input": "2025-10-02T14:45:18.932414Z",
     "iopub.status.busy": "2025-10-02T14:45:18.932019Z",
     "iopub.status.idle": "2025-10-02T14:45:18.935490Z",
     "shell.execute_reply": "2025-10-02T14:45:18.934812Z"
    },
    "papermill": {
     "duration": 0.026506,
     "end_time": "2025-10-02T14:45:18.936634",
     "exception": false,
     "start_time": "2025-10-02T14:45:18.910128",
     "status": "completed"
    },
    "tags": []
   },
   "outputs": [],
   "source": [
    "# !pip install --upgrade imbalanced-learn\n",
    "# !pip install --upgrade scikit-learn"
   ]
  },
  {
   "cell_type": "code",
   "execution_count": 6,
   "id": "e6f725e6",
   "metadata": {
    "execution": {
     "iopub.execute_input": "2025-10-02T14:45:18.978824Z",
     "iopub.status.busy": "2025-10-02T14:45:18.978602Z",
     "iopub.status.idle": "2025-10-02T14:45:18.981630Z",
     "shell.execute_reply": "2025-10-02T14:45:18.981107Z"
    },
    "papermill": {
     "duration": 0.025427,
     "end_time": "2025-10-02T14:45:18.982766",
     "exception": false,
     "start_time": "2025-10-02T14:45:18.957339",
     "status": "completed"
    },
    "scrolled": true,
    "tags": []
   },
   "outputs": [],
   "source": [
    "# !pip install trl==0.15.0\n",
    "# from imblearn.over_sampling import SMOTE\n",
    "# from collections import Counte"
   ]
  },
  {
   "cell_type": "code",
   "execution_count": 7,
   "id": "8410bc0c",
   "metadata": {
    "execution": {
     "iopub.execute_input": "2025-10-02T14:45:19.027443Z",
     "iopub.status.busy": "2025-10-02T14:45:19.026938Z",
     "iopub.status.idle": "2025-10-02T14:45:19.036990Z",
     "shell.execute_reply": "2025-10-02T14:45:19.036231Z"
    },
    "papermill": {
     "duration": 0.034124,
     "end_time": "2025-10-02T14:45:19.038108",
     "exception": false,
     "start_time": "2025-10-02T14:45:19.003984",
     "status": "completed"
    },
    "tags": []
   },
   "outputs": [
    {
     "data": {
      "text/plain": [
       "'0.11.4'"
      ]
     },
     "execution_count": 7,
     "metadata": {},
     "output_type": "execute_result"
    }
   ],
   "source": [
    "import trl\n",
    "trl.__version__"
   ]
  },
  {
   "cell_type": "code",
   "execution_count": 8,
   "id": "d5142d92",
   "metadata": {
    "execution": {
     "iopub.execute_input": "2025-10-02T14:45:19.081434Z",
     "iopub.status.busy": "2025-10-02T14:45:19.081231Z",
     "iopub.status.idle": "2025-10-02T14:45:41.463405Z",
     "shell.execute_reply": "2025-10-02T14:45:41.462697Z"
    },
    "papermill": {
     "duration": 22.405316,
     "end_time": "2025-10-02T14:45:41.464861",
     "exception": false,
     "start_time": "2025-10-02T14:45:19.059545",
     "status": "completed"
    },
    "tags": []
   },
   "outputs": [
    {
     "name": "stderr",
     "output_type": "stream",
     "text": [
      "2025-10-02 14:45:22.246943: E external/local_xla/xla/stream_executor/cuda/cuda_fft.cc:477] Unable to register cuFFT factory: Attempting to register factory for plugin cuFFT when one has already been registered\n",
      "WARNING: All log messages before absl::InitializeLog() is called are written to STDERR\n",
      "E0000 00:00:1759416322.423166      19 cuda_dnn.cc:8310] Unable to register cuDNN factory: Attempting to register factory for plugin cuDNN when one has already been registered\n",
      "E0000 00:00:1759416322.470045      19 cuda_blas.cc:1418] Unable to register cuBLAS factory: Attempting to register factory for plugin cuBLAS when one has already been registered\n"
     ]
    }
   ],
   "source": [
    "import torch\n",
    "from sklearn.model_selection import train_test_split\n",
    "\n",
    "from transformers import (AutoTokenizer, \n",
    "                          BitsAndBytesConfig, \n",
    "                          AutoModelForCausalLM,\n",
    "                          AutoModelForSequenceClassification,\n",
    "                         TrainingArguments)\n",
    "\n",
    "from datasets import Dataset, DatasetDict, load_dataset\n",
    "\n",
    "\n",
    "# Fine tuning \n",
    "from trl import SFTTrainer, SFTConfig\n",
    "from peft import (LoraConfig, \n",
    "                    PeftModel, \n",
    "                    get_peft_model)\n",
    "                    # prepare_model_for_kbit_training)  #prepare_model_for_int8_training deprecated \n",
    "\n",
    "from sklearn.metrics import (classification_report, ConfusionMatrixDisplay, log_loss,\n",
    "                             f1_score, accuracy_score, precision_score, recall_score)"
   ]
  },
  {
   "cell_type": "code",
   "execution_count": 9,
   "id": "66945eb7",
   "metadata": {
    "_cell_guid": "b1076dfc-b9ad-4769-8c92-a6c4dae69d19",
    "_uuid": "8f2839f25d086af736a60e9eeb907d3b93b6e0e5",
    "execution": {
     "iopub.execute_input": "2025-10-02T14:45:41.509551Z",
     "iopub.status.busy": "2025-10-02T14:45:41.508899Z",
     "iopub.status.idle": "2025-10-02T14:45:41.534638Z",
     "shell.execute_reply": "2025-10-02T14:45:41.533532Z"
    },
    "papermill": {
     "duration": 0.049312,
     "end_time": "2025-10-02T14:45:41.535870",
     "exception": false,
     "start_time": "2025-10-02T14:45:41.486558",
     "status": "completed"
    },
    "tags": []
   },
   "outputs": [
    {
     "name": "stdout",
     "output_type": "stream",
     "text": [
      "/kaggle/input/deepspeed-config-for-kaggle-t4x2-gpu/deepspeed_config.json\n",
      "/kaggle/input/universal-llm-install-package2/V9/langchain_community-0.3.2-py3-none-any.whl\n",
      "/kaggle/input/universal-llm-install-package2/V9/langsmith-0.1.136-py3-none-any.whl\n",
      "/kaggle/input/universal-llm-install-package2/V9/langchain_core-0.3.12-py3-none-any.whl\n",
      "/kaggle/input/universal-llm-install-package2/V9/accelerate-1.0.1-py3-none-any.whl\n",
      "/kaggle/input/universal-llm-install-package2/V9/trl-0.11.4-py3-none-any.whl\n",
      "/kaggle/input/universal-llm-install-package2/V9/langchain_text_splitters-0.3.0-py3-none-any.whl\n",
      "/kaggle/input/universal-llm-install-package2/V9/bitsandbytes-0.46.1-py3-none-manylinux_2_24_x86_64.whl\n",
      "/kaggle/input/universal-llm-install-package2/V9/huggingface_hub-0.26.0-py3-none-any.whl\n",
      "/kaggle/input/universal-llm-install-package2/V9/protobuf-4.25.8-cp37-abi3-manylinux2014_x86_64.whl\n",
      "/kaggle/input/universal-llm-install-package2/V9/triton-3.4.0-cp311-cp311-manylinux_2_27_x86_64.manylinux_2_28_x86_64.whl\n",
      "/kaggle/input/universal-llm-install-package2/V9/langchain-0.3.3-py3-none-any.whl\n",
      "/kaggle/input/universal-llm-install-package2/V9/peft-0.14.0-py3-none-any.whl\n",
      "/kaggle/input/universal-llm-install-package2/V9/transformers-4.45.2-py3-none-any.whl\n",
      "/kaggle/input/qwen-3-reranker/transformers/4b/1/model.safetensors.index.json\n",
      "/kaggle/input/qwen-3-reranker/transformers/4b/1/config.json\n",
      "/kaggle/input/qwen-3-reranker/transformers/4b/1/merges.txt\n",
      "/kaggle/input/qwen-3-reranker/transformers/4b/1/model-00001-of-00002.safetensors\n",
      "/kaggle/input/qwen-3-reranker/transformers/4b/1/model-00002-of-00002.safetensors\n",
      "/kaggle/input/qwen-3-reranker/transformers/4b/1/README.md\n",
      "/kaggle/input/qwen-3-reranker/transformers/4b/1/tokenizer.json\n",
      "/kaggle/input/qwen-3-reranker/transformers/4b/1/vocab.json\n",
      "/kaggle/input/qwen-3-reranker/transformers/4b/1/tokenizer_config.json\n",
      "/kaggle/input/qwen-3-reranker/transformers/4b/1/special_tokens_map.json\n",
      "/kaggle/input/qwen-3-reranker/transformers/4b/1/generation_config.json\n",
      "/kaggle/input/map-charting-student-math-misunderstandings/sample_submission.csv\n",
      "/kaggle/input/map-charting-student-math-misunderstandings/train.csv\n",
      "/kaggle/input/map-charting-student-math-misunderstandings/test.csv\n"
     ]
    }
   ],
   "source": [
    "\n",
    "\n",
    "# Input data files are available in the read-only \"../input/\" directory\n",
    "# For example, running this (by clicking run or pressing Shift+Enter) will list all files under the input directory\n",
    "\n",
    "import os\n",
    "for dirname, _, filenames in os.walk('/kaggle/input'):\n",
    "    for filename in filenames:\n",
    "        print(os.path.join(dirname, filename))\n",
    "\n",
    "# You can write up to 20GB to the current directory (/kaggle/working/) that gets preserved as output when you create a version using \"Save & Run All\" \n",
    "# You can also write temporary files to /kaggle/temp/, but they won't be saved outside of the current session"
   ]
  },
  {
   "cell_type": "code",
   "execution_count": 10,
   "id": "3c468c2b",
   "metadata": {
    "execution": {
     "iopub.execute_input": "2025-10-02T14:45:41.586838Z",
     "iopub.status.busy": "2025-10-02T14:45:41.586131Z",
     "iopub.status.idle": "2025-10-02T14:45:41.592331Z",
     "shell.execute_reply": "2025-10-02T14:45:41.591581Z"
    },
    "papermill": {
     "duration": 0.033602,
     "end_time": "2025-10-02T14:45:41.593509",
     "exception": false,
     "start_time": "2025-10-02T14:45:41.559907",
     "status": "completed"
    },
    "tags": []
   },
   "outputs": [],
   "source": [
    "class CFG:\n",
    "    DeepEval = False #True  # True must enable \"Internet on\" \n",
    "    SEED = 42\n",
    "\n",
    "     # LLM Config \n",
    "    reportTo =\"none\"\n",
    "    topK = 40\n",
    "    topP = 1.0\n",
    "    temperature = 0.1 #0.5\n",
    "    repetition_penalty = 1.05 # 1.1\n",
    "    maxOutToken = 300 #150#180 #100\n",
    "    test_size = 0.003 #0.002 #0.005 #0.005 #0.1 #0.01 #0.005 #0.01\n",
    "\n",
    "\n",
    "    # Fine tuning Config\n",
    "    maxLength = 256 #384 #512 #256 #368 #512 #1024 \n",
    "    reportTo = \"none\"\n",
    "    maxEpoch = 0.014 #0.013 #0.005 #0.01 #0.005 #0.5 #0.05 #0.02 #0.05  #0.1 #0.5 #1 #2\n",
    "    evalSteps = 20 #50 #30 #40 #20 \n",
    "    learning_rate = 9e-4 #8e-4 #5e-4 #2e-5 #1e-5 #8e-5 #5e-5 #2e-5 #2e-4 #1e-4\n",
    "    per_device_train_batch_size = 9 #5 #4 #6 #8 #10#6#16 #6 #2 #8#6 #8\n",
    "    per_device_eval_batch_size =  9 #5 #4 #6 #8 #10 #6#16 #6 #2 #8#6 #8  \n",
    "    # Lora config\n",
    "    DROPOUT = 0.05 #0.1 #0.05\n",
    "    weight_decay = 0.01 \n",
    "\n",
    "    warmup_steps= 10 #5# 10\n",
    "    gradient_accumulation_steps = 4 #8 # 4 #2  #10\n",
    "    maxTrainStep =  500 #120 #160 #100 #50#100 #250 #150 \n",
    "    valDatasetSize = 50 #20 #10 #50 #500 # set validiation data size\n",
    "\n",
    "    #model\n",
    "    model1 = \"/kaggle/input/qwen-3/transformers/8b/1\"\n",
    "    model2 = \"/kaggle/input/qwen-3-reranker/transformers/4b/1\"\n",
    "\n",
    "    #\n",
    "    frac = 0.5 #0.3 #0.3 #0.3 #0.1 # Random resample data(reduce train data size )\n",
    "    \n",
    "\n",
    "    trainFile = \"/kaggle/input/map-charting-student-math-misunderstandings/train.csv\"\n",
    "    testFile  = \"/kaggle/input/map-charting-student-math-misunderstandings/test.csv\"\n",
    "    sampleFile = \"/kaggle/input/map-charting-student-math-misunderstandings/sample_submission.csv\"\n",
    "    deepspeedConfigFile = \"/kaggle/input/deepspeed-config-for-kaggle-t4x2-gpu/deepspeed_config.json\"\n",
    "    "
   ]
  },
  {
   "cell_type": "code",
   "execution_count": 11,
   "id": "4b08ede7",
   "metadata": {
    "execution": {
     "iopub.execute_input": "2025-10-02T14:45:41.642528Z",
     "iopub.status.busy": "2025-10-02T14:45:41.642110Z",
     "iopub.status.idle": "2025-10-02T14:45:41.646605Z",
     "shell.execute_reply": "2025-10-02T14:45:41.645891Z"
    },
    "papermill": {
     "duration": 0.029269,
     "end_time": "2025-10-02T14:45:41.647609",
     "exception": false,
     "start_time": "2025-10-02T14:45:41.618340",
     "status": "completed"
    },
    "tags": []
   },
   "outputs": [
    {
     "data": {
      "text/plain": [
       "device(type='cuda')"
      ]
     },
     "execution_count": 11,
     "metadata": {},
     "output_type": "execute_result"
    }
   ],
   "source": [
    "device = torch.device(\"cuda\" if torch.cuda.is_available() else \"cpu\")\n",
    "device"
   ]
  },
  {
   "cell_type": "code",
   "execution_count": 12,
   "id": "8e90a7ac",
   "metadata": {
    "execution": {
     "iopub.execute_input": "2025-10-02T14:45:41.693619Z",
     "iopub.status.busy": "2025-10-02T14:45:41.693202Z",
     "iopub.status.idle": "2025-10-02T14:45:41.858628Z",
     "shell.execute_reply": "2025-10-02T14:45:41.857977Z"
    },
    "papermill": {
     "duration": 0.189186,
     "end_time": "2025-10-02T14:45:41.859708",
     "exception": false,
     "start_time": "2025-10-02T14:45:41.670522",
     "status": "completed"
    },
    "tags": []
   },
   "outputs": [
    {
     "data": {
      "text/plain": [
       "True"
      ]
     },
     "execution_count": 12,
     "metadata": {},
     "output_type": "execute_result"
    }
   ],
   "source": [
    "torch.cuda.is_bf16_supported()"
   ]
  },
  {
   "cell_type": "code",
   "execution_count": 13,
   "id": "2584ba3c",
   "metadata": {
    "execution": {
     "iopub.execute_input": "2025-10-02T14:45:41.903481Z",
     "iopub.status.busy": "2025-10-02T14:45:41.903016Z",
     "iopub.status.idle": "2025-10-02T14:45:41.906757Z",
     "shell.execute_reply": "2025-10-02T14:45:41.906075Z"
    },
    "papermill": {
     "duration": 0.026356,
     "end_time": "2025-10-02T14:45:41.907805",
     "exception": false,
     "start_time": "2025-10-02T14:45:41.881449",
     "status": "completed"
    },
    "tags": []
   },
   "outputs": [],
   "source": [
    "def clearMemory():\n",
    "    for _ in range(5):\n",
    "        torch.cuda.empty_cache()\n",
    "        gc.collect()\n",
    "        time.sleep(0.3)"
   ]
  },
  {
   "cell_type": "code",
   "execution_count": 14,
   "id": "0c732c4c",
   "metadata": {
    "execution": {
     "iopub.execute_input": "2025-10-02T14:45:41.950812Z",
     "iopub.status.busy": "2025-10-02T14:45:41.950602Z",
     "iopub.status.idle": "2025-10-02T14:45:45.205132Z",
     "shell.execute_reply": "2025-10-02T14:45:45.204545Z"
    },
    "papermill": {
     "duration": 3.277611,
     "end_time": "2025-10-02T14:45:45.206342",
     "exception": false,
     "start_time": "2025-10-02T14:45:41.928731",
     "status": "completed"
    },
    "tags": []
   },
   "outputs": [],
   "source": [
    "clearMemory()"
   ]
  },
  {
   "cell_type": "code",
   "execution_count": 15,
   "id": "e21fed44",
   "metadata": {
    "execution": {
     "iopub.execute_input": "2025-10-02T14:45:45.257140Z",
     "iopub.status.busy": "2025-10-02T14:45:45.256896Z",
     "iopub.status.idle": "2025-10-02T14:45:45.259982Z",
     "shell.execute_reply": "2025-10-02T14:45:45.259436Z"
    },
    "papermill": {
     "duration": 0.026429,
     "end_time": "2025-10-02T14:45:45.260970",
     "exception": false,
     "start_time": "2025-10-02T14:45:45.234541",
     "status": "completed"
    },
    "tags": []
   },
   "outputs": [],
   "source": [
    "# !accelerate config"
   ]
  },
  {
   "cell_type": "code",
   "execution_count": 16,
   "id": "76591e18",
   "metadata": {
    "execution": {
     "iopub.execute_input": "2025-10-02T14:45:45.305729Z",
     "iopub.status.busy": "2025-10-02T14:45:45.305513Z",
     "iopub.status.idle": "2025-10-02T14:45:45.513343Z",
     "shell.execute_reply": "2025-10-02T14:45:45.512607Z"
    },
    "papermill": {
     "duration": 0.23178,
     "end_time": "2025-10-02T14:45:45.514502",
     "exception": false,
     "start_time": "2025-10-02T14:45:45.282722",
     "status": "completed"
    },
    "tags": []
   },
   "outputs": [
    {
     "data": {
      "text/html": [
       "<div>\n",
       "<style scoped>\n",
       "    .dataframe tbody tr th:only-of-type {\n",
       "        vertical-align: middle;\n",
       "    }\n",
       "\n",
       "    .dataframe tbody tr th {\n",
       "        vertical-align: top;\n",
       "    }\n",
       "\n",
       "    .dataframe thead th {\n",
       "        text-align: right;\n",
       "    }\n",
       "</style>\n",
       "<table border=\"1\" class=\"dataframe\">\n",
       "  <thead>\n",
       "    <tr style=\"text-align: right;\">\n",
       "      <th></th>\n",
       "      <th>row_id</th>\n",
       "      <th>QuestionId</th>\n",
       "      <th>QuestionText</th>\n",
       "      <th>MC_Answer</th>\n",
       "      <th>StudentExplanation</th>\n",
       "      <th>Category</th>\n",
       "      <th>Misconception</th>\n",
       "    </tr>\n",
       "  </thead>\n",
       "  <tbody>\n",
       "    <tr>\n",
       "      <th>0</th>\n",
       "      <td>0</td>\n",
       "      <td>31772</td>\n",
       "      <td>What fraction of the shape is not shaded? Give...</td>\n",
       "      <td>\\( \\frac{1}{3} \\)</td>\n",
       "      <td>0ne third is equal to tree nineth</td>\n",
       "      <td>True_Correct</td>\n",
       "      <td>NaN</td>\n",
       "    </tr>\n",
       "    <tr>\n",
       "      <th>1</th>\n",
       "      <td>1</td>\n",
       "      <td>31772</td>\n",
       "      <td>What fraction of the shape is not shaded? Give...</td>\n",
       "      <td>\\( \\frac{1}{3} \\)</td>\n",
       "      <td>1 / 3 because 6 over 9 is 2 thirds and 1 third...</td>\n",
       "      <td>True_Correct</td>\n",
       "      <td>NaN</td>\n",
       "    </tr>\n",
       "    <tr>\n",
       "      <th>2</th>\n",
       "      <td>2</td>\n",
       "      <td>31772</td>\n",
       "      <td>What fraction of the shape is not shaded? Give...</td>\n",
       "      <td>\\( \\frac{1}{3} \\)</td>\n",
       "      <td>1 3rd is half of 3 6th, so it is simplee to un...</td>\n",
       "      <td>True_Neither</td>\n",
       "      <td>NaN</td>\n",
       "    </tr>\n",
       "    <tr>\n",
       "      <th>3</th>\n",
       "      <td>3</td>\n",
       "      <td>31772</td>\n",
       "      <td>What fraction of the shape is not shaded? Give...</td>\n",
       "      <td>\\( \\frac{1}{3} \\)</td>\n",
       "      <td>1 goes into everything and 3 goes into nine</td>\n",
       "      <td>True_Neither</td>\n",
       "      <td>NaN</td>\n",
       "    </tr>\n",
       "    <tr>\n",
       "      <th>4</th>\n",
       "      <td>4</td>\n",
       "      <td>31772</td>\n",
       "      <td>What fraction of the shape is not shaded? Give...</td>\n",
       "      <td>\\( \\frac{1}{3} \\)</td>\n",
       "      <td>1 out of every 3 isn't coloured</td>\n",
       "      <td>True_Correct</td>\n",
       "      <td>NaN</td>\n",
       "    </tr>\n",
       "  </tbody>\n",
       "</table>\n",
       "</div>"
      ],
      "text/plain": [
       "   row_id  QuestionId                                       QuestionText  \\\n",
       "0       0       31772  What fraction of the shape is not shaded? Give...   \n",
       "1       1       31772  What fraction of the shape is not shaded? Give...   \n",
       "2       2       31772  What fraction of the shape is not shaded? Give...   \n",
       "3       3       31772  What fraction of the shape is not shaded? Give...   \n",
       "4       4       31772  What fraction of the shape is not shaded? Give...   \n",
       "\n",
       "           MC_Answer                                 StudentExplanation  \\\n",
       "0  \\( \\frac{1}{3} \\)                  0ne third is equal to tree nineth   \n",
       "1  \\( \\frac{1}{3} \\)  1 / 3 because 6 over 9 is 2 thirds and 1 third...   \n",
       "2  \\( \\frac{1}{3} \\)  1 3rd is half of 3 6th, so it is simplee to un...   \n",
       "3  \\( \\frac{1}{3} \\)        1 goes into everything and 3 goes into nine   \n",
       "4  \\( \\frac{1}{3} \\)                    1 out of every 3 isn't coloured   \n",
       "\n",
       "       Category Misconception  \n",
       "0  True_Correct           NaN  \n",
       "1  True_Correct           NaN  \n",
       "2  True_Neither           NaN  \n",
       "3  True_Neither           NaN  \n",
       "4  True_Correct           NaN  "
      ]
     },
     "execution_count": 16,
     "metadata": {},
     "output_type": "execute_result"
    }
   ],
   "source": [
    "trainDF = pd.read_csv(CFG.trainFile)\n",
    "trainDF.head()"
   ]
  },
  {
   "cell_type": "code",
   "execution_count": 17,
   "id": "a6bc2180",
   "metadata": {
    "execution": {
     "iopub.execute_input": "2025-10-02T14:45:45.560048Z",
     "iopub.status.busy": "2025-10-02T14:45:45.559467Z",
     "iopub.status.idle": "2025-10-02T14:45:45.587608Z",
     "shell.execute_reply": "2025-10-02T14:45:45.586847Z"
    },
    "papermill": {
     "duration": 0.051783,
     "end_time": "2025-10-02T14:45:45.588603",
     "exception": false,
     "start_time": "2025-10-02T14:45:45.536820",
     "status": "completed"
    },
    "tags": []
   },
   "outputs": [
    {
     "name": "stdout",
     "output_type": "stream",
     "text": [
      "<class 'pandas.core.frame.DataFrame'>\n",
      "RangeIndex: 36696 entries, 0 to 36695\n",
      "Data columns (total 7 columns):\n",
      " #   Column              Non-Null Count  Dtype \n",
      "---  ------              --------------  ----- \n",
      " 0   row_id              36696 non-null  int64 \n",
      " 1   QuestionId          36696 non-null  int64 \n",
      " 2   QuestionText        36696 non-null  object\n",
      " 3   MC_Answer           36696 non-null  object\n",
      " 4   StudentExplanation  36696 non-null  object\n",
      " 5   Category            36696 non-null  object\n",
      " 6   Misconception       9860 non-null   object\n",
      "dtypes: int64(2), object(5)\n",
      "memory usage: 2.0+ MB\n"
     ]
    }
   ],
   "source": [
    "trainDF.info()"
   ]
  },
  {
   "cell_type": "code",
   "execution_count": 18,
   "id": "8cfce388",
   "metadata": {
    "execution": {
     "iopub.execute_input": "2025-10-02T14:45:45.631984Z",
     "iopub.status.busy": "2025-10-02T14:45:45.631571Z",
     "iopub.status.idle": "2025-10-02T14:45:45.644915Z",
     "shell.execute_reply": "2025-10-02T14:45:45.644238Z"
    },
    "papermill": {
     "duration": 0.03618,
     "end_time": "2025-10-02T14:45:45.646046",
     "exception": false,
     "start_time": "2025-10-02T14:45:45.609866",
     "status": "completed"
    },
    "tags": []
   },
   "outputs": [
    {
     "data": {
      "text/html": [
       "<div>\n",
       "<style scoped>\n",
       "    .dataframe tbody tr th:only-of-type {\n",
       "        vertical-align: middle;\n",
       "    }\n",
       "\n",
       "    .dataframe tbody tr th {\n",
       "        vertical-align: top;\n",
       "    }\n",
       "\n",
       "    .dataframe thead th {\n",
       "        text-align: right;\n",
       "    }\n",
       "</style>\n",
       "<table border=\"1\" class=\"dataframe\">\n",
       "  <thead>\n",
       "    <tr style=\"text-align: right;\">\n",
       "      <th></th>\n",
       "      <th>row_id</th>\n",
       "      <th>QuestionId</th>\n",
       "    </tr>\n",
       "  </thead>\n",
       "  <tbody>\n",
       "    <tr>\n",
       "      <th>count</th>\n",
       "      <td>36696.000000</td>\n",
       "      <td>36696.000000</td>\n",
       "    </tr>\n",
       "    <tr>\n",
       "      <th>mean</th>\n",
       "      <td>18347.500000</td>\n",
       "      <td>46356.825104</td>\n",
       "    </tr>\n",
       "    <tr>\n",
       "      <th>std</th>\n",
       "      <td>10593.367076</td>\n",
       "      <td>25617.723392</td>\n",
       "    </tr>\n",
       "    <tr>\n",
       "      <th>min</th>\n",
       "      <td>0.000000</td>\n",
       "      <td>31772.000000</td>\n",
       "    </tr>\n",
       "    <tr>\n",
       "      <th>25%</th>\n",
       "      <td>9173.750000</td>\n",
       "      <td>31777.000000</td>\n",
       "    </tr>\n",
       "    <tr>\n",
       "      <th>50%</th>\n",
       "      <td>18347.500000</td>\n",
       "      <td>32833.000000</td>\n",
       "    </tr>\n",
       "    <tr>\n",
       "      <th>75%</th>\n",
       "      <td>27521.250000</td>\n",
       "      <td>33474.000000</td>\n",
       "    </tr>\n",
       "    <tr>\n",
       "      <th>max</th>\n",
       "      <td>36695.000000</td>\n",
       "      <td>109465.000000</td>\n",
       "    </tr>\n",
       "  </tbody>\n",
       "</table>\n",
       "</div>"
      ],
      "text/plain": [
       "             row_id     QuestionId\n",
       "count  36696.000000   36696.000000\n",
       "mean   18347.500000   46356.825104\n",
       "std    10593.367076   25617.723392\n",
       "min        0.000000   31772.000000\n",
       "25%     9173.750000   31777.000000\n",
       "50%    18347.500000   32833.000000\n",
       "75%    27521.250000   33474.000000\n",
       "max    36695.000000  109465.000000"
      ]
     },
     "execution_count": 18,
     "metadata": {},
     "output_type": "execute_result"
    }
   ],
   "source": [
    "trainDF.describe()"
   ]
  },
  {
   "cell_type": "code",
   "execution_count": 19,
   "id": "1e884810",
   "metadata": {
    "execution": {
     "iopub.execute_input": "2025-10-02T14:45:45.693239Z",
     "iopub.status.busy": "2025-10-02T14:45:45.692666Z",
     "iopub.status.idle": "2025-10-02T14:45:45.703145Z",
     "shell.execute_reply": "2025-10-02T14:45:45.702625Z"
    },
    "papermill": {
     "duration": 0.035051,
     "end_time": "2025-10-02T14:45:45.704111",
     "exception": false,
     "start_time": "2025-10-02T14:45:45.669060",
     "status": "completed"
    },
    "tags": []
   },
   "outputs": [
    {
     "data": {
      "text/html": [
       "<div>\n",
       "<style scoped>\n",
       "    .dataframe tbody tr th:only-of-type {\n",
       "        vertical-align: middle;\n",
       "    }\n",
       "\n",
       "    .dataframe tbody tr th {\n",
       "        vertical-align: top;\n",
       "    }\n",
       "\n",
       "    .dataframe thead th {\n",
       "        text-align: right;\n",
       "    }\n",
       "</style>\n",
       "<table border=\"1\" class=\"dataframe\">\n",
       "  <thead>\n",
       "    <tr style=\"text-align: right;\">\n",
       "      <th></th>\n",
       "      <th>row_id</th>\n",
       "      <th>QuestionId</th>\n",
       "      <th>QuestionText</th>\n",
       "      <th>MC_Answer</th>\n",
       "      <th>StudentExplanation</th>\n",
       "    </tr>\n",
       "  </thead>\n",
       "  <tbody>\n",
       "    <tr>\n",
       "      <th>0</th>\n",
       "      <td>36696</td>\n",
       "      <td>31772</td>\n",
       "      <td>What fraction of the shape is not shaded? Give...</td>\n",
       "      <td>\\( \\frac{1}{3} \\)</td>\n",
       "      <td>I think that 1/3 is the answer, as it's the si...</td>\n",
       "    </tr>\n",
       "    <tr>\n",
       "      <th>1</th>\n",
       "      <td>36697</td>\n",
       "      <td>31772</td>\n",
       "      <td>What fraction of the shape is not shaded? Give...</td>\n",
       "      <td>\\( \\frac{3}{6} \\)</td>\n",
       "      <td>i think this answer is because 3 triangles are...</td>\n",
       "    </tr>\n",
       "    <tr>\n",
       "      <th>2</th>\n",
       "      <td>36698</td>\n",
       "      <td>32835</td>\n",
       "      <td>Which number is the greatest?</td>\n",
       "      <td>\\( 6.2 \\)</td>\n",
       "      <td>because the 2 makes it higher than the others.</td>\n",
       "    </tr>\n",
       "  </tbody>\n",
       "</table>\n",
       "</div>"
      ],
      "text/plain": [
       "   row_id  QuestionId                                       QuestionText  \\\n",
       "0   36696       31772  What fraction of the shape is not shaded? Give...   \n",
       "1   36697       31772  What fraction of the shape is not shaded? Give...   \n",
       "2   36698       32835                      Which number is the greatest?   \n",
       "\n",
       "           MC_Answer                                 StudentExplanation  \n",
       "0  \\( \\frac{1}{3} \\)  I think that 1/3 is the answer, as it's the si...  \n",
       "1  \\( \\frac{3}{6} \\)  i think this answer is because 3 triangles are...  \n",
       "2          \\( 6.2 \\)     because the 2 makes it higher than the others.  "
      ]
     },
     "execution_count": 19,
     "metadata": {},
     "output_type": "execute_result"
    }
   ],
   "source": [
    "testDF = pd.read_csv(CFG.testFile)\n",
    "testDF"
   ]
  },
  {
   "cell_type": "code",
   "execution_count": 20,
   "id": "e68d1c34",
   "metadata": {
    "execution": {
     "iopub.execute_input": "2025-10-02T14:45:45.747982Z",
     "iopub.status.busy": "2025-10-02T14:45:45.747566Z",
     "iopub.status.idle": "2025-10-02T14:45:45.754550Z",
     "shell.execute_reply": "2025-10-02T14:45:45.753757Z"
    },
    "papermill": {
     "duration": 0.030192,
     "end_time": "2025-10-02T14:45:45.755629",
     "exception": false,
     "start_time": "2025-10-02T14:45:45.725437",
     "status": "completed"
    },
    "tags": []
   },
   "outputs": [
    {
     "name": "stdout",
     "output_type": "stream",
     "text": [
      "<class 'pandas.core.frame.DataFrame'>\n",
      "RangeIndex: 3 entries, 0 to 2\n",
      "Data columns (total 5 columns):\n",
      " #   Column              Non-Null Count  Dtype \n",
      "---  ------              --------------  ----- \n",
      " 0   row_id              3 non-null      int64 \n",
      " 1   QuestionId          3 non-null      int64 \n",
      " 2   QuestionText        3 non-null      object\n",
      " 3   MC_Answer           3 non-null      object\n",
      " 4   StudentExplanation  3 non-null      object\n",
      "dtypes: int64(2), object(3)\n",
      "memory usage: 252.0+ bytes\n"
     ]
    }
   ],
   "source": [
    "testDF.info()"
   ]
  },
  {
   "cell_type": "code",
   "execution_count": 21,
   "id": "3c785a17",
   "metadata": {
    "execution": {
     "iopub.execute_input": "2025-10-02T14:45:45.800080Z",
     "iopub.status.busy": "2025-10-02T14:45:45.799494Z",
     "iopub.status.idle": "2025-10-02T14:45:45.804918Z",
     "shell.execute_reply": "2025-10-02T14:45:45.804210Z"
    },
    "papermill": {
     "duration": 0.028499,
     "end_time": "2025-10-02T14:45:45.806027",
     "exception": false,
     "start_time": "2025-10-02T14:45:45.777528",
     "status": "completed"
    },
    "tags": []
   },
   "outputs": [
    {
     "data": {
      "text/plain": [
       "row_id                0\n",
       "QuestionId            0\n",
       "QuestionText          0\n",
       "MC_Answer             0\n",
       "StudentExplanation    0\n",
       "dtype: int64"
      ]
     },
     "execution_count": 21,
     "metadata": {},
     "output_type": "execute_result"
    }
   ],
   "source": [
    "testDF.isnull().sum()"
   ]
  },
  {
   "cell_type": "code",
   "execution_count": 22,
   "id": "24854287",
   "metadata": {
    "execution": {
     "iopub.execute_input": "2025-10-02T14:45:45.850376Z",
     "iopub.status.busy": "2025-10-02T14:45:45.850125Z",
     "iopub.status.idle": "2025-10-02T14:45:45.862873Z",
     "shell.execute_reply": "2025-10-02T14:45:45.862307Z"
    },
    "papermill": {
     "duration": 0.036101,
     "end_time": "2025-10-02T14:45:45.863837",
     "exception": false,
     "start_time": "2025-10-02T14:45:45.827736",
     "status": "completed"
    },
    "tags": []
   },
   "outputs": [
    {
     "data": {
      "text/plain": [
       "row_id                    0\n",
       "QuestionId                0\n",
       "QuestionText              0\n",
       "MC_Answer                 0\n",
       "StudentExplanation        0\n",
       "Category                  0\n",
       "Misconception         26836\n",
       "dtype: int64"
      ]
     },
     "execution_count": 22,
     "metadata": {},
     "output_type": "execute_result"
    }
   ],
   "source": [
    "# Nan and Null check\n",
    "trainDF.isnull().sum()\n"
   ]
  },
  {
   "cell_type": "code",
   "execution_count": 23,
   "id": "2e363c1f",
   "metadata": {
    "execution": {
     "iopub.execute_input": "2025-10-02T14:45:45.908486Z",
     "iopub.status.busy": "2025-10-02T14:45:45.908087Z",
     "iopub.status.idle": "2025-10-02T14:45:45.916949Z",
     "shell.execute_reply": "2025-10-02T14:45:45.916405Z"
    },
    "papermill": {
     "duration": 0.032518,
     "end_time": "2025-10-02T14:45:45.917993",
     "exception": false,
     "start_time": "2025-10-02T14:45:45.885475",
     "status": "completed"
    },
    "tags": []
   },
   "outputs": [
    {
     "data": {
      "text/html": [
       "<div>\n",
       "<style scoped>\n",
       "    .dataframe tbody tr th:only-of-type {\n",
       "        vertical-align: middle;\n",
       "    }\n",
       "\n",
       "    .dataframe tbody tr th {\n",
       "        vertical-align: top;\n",
       "    }\n",
       "\n",
       "    .dataframe thead th {\n",
       "        text-align: right;\n",
       "    }\n",
       "</style>\n",
       "<table border=\"1\" class=\"dataframe\">\n",
       "  <thead>\n",
       "    <tr style=\"text-align: right;\">\n",
       "      <th></th>\n",
       "      <th>row_id</th>\n",
       "      <th>Category:Misconception</th>\n",
       "    </tr>\n",
       "  </thead>\n",
       "  <tbody>\n",
       "    <tr>\n",
       "      <th>0</th>\n",
       "      <td>36696</td>\n",
       "      <td>True_Correct:NA False_Neither:NA False_Misconc...</td>\n",
       "    </tr>\n",
       "    <tr>\n",
       "      <th>1</th>\n",
       "      <td>36697</td>\n",
       "      <td>True_Correct:NA False_Neither:NA False_Misconc...</td>\n",
       "    </tr>\n",
       "    <tr>\n",
       "      <th>2</th>\n",
       "      <td>36698</td>\n",
       "      <td>True_Correct:NA False_Neither:NA False_Misconc...</td>\n",
       "    </tr>\n",
       "  </tbody>\n",
       "</table>\n",
       "</div>"
      ],
      "text/plain": [
       "   row_id                             Category:Misconception\n",
       "0   36696  True_Correct:NA False_Neither:NA False_Misconc...\n",
       "1   36697  True_Correct:NA False_Neither:NA False_Misconc...\n",
       "2   36698  True_Correct:NA False_Neither:NA False_Misconc..."
      ]
     },
     "execution_count": 23,
     "metadata": {},
     "output_type": "execute_result"
    }
   ],
   "source": [
    "sample = pd.read_csv(CFG.sampleFile)\n",
    "sample"
   ]
  },
  {
   "cell_type": "code",
   "execution_count": 24,
   "id": "0a2c9fd7",
   "metadata": {
    "execution": {
     "iopub.execute_input": "2025-10-02T14:45:45.964223Z",
     "iopub.status.busy": "2025-10-02T14:45:45.963619Z",
     "iopub.status.idle": "2025-10-02T14:45:45.967809Z",
     "shell.execute_reply": "2025-10-02T14:45:45.967339Z"
    },
    "papermill": {
     "duration": 0.027511,
     "end_time": "2025-10-02T14:45:45.968793",
     "exception": false,
     "start_time": "2025-10-02T14:45:45.941282",
     "status": "completed"
    },
    "tags": []
   },
   "outputs": [
    {
     "data": {
      "text/plain": [
       "Index(['row_id', 'Category:Misconception'], dtype='object')"
      ]
     },
     "execution_count": 24,
     "metadata": {},
     "output_type": "execute_result"
    }
   ],
   "source": [
    "sample.columns"
   ]
  },
  {
   "cell_type": "markdown",
   "id": "755ac664",
   "metadata": {
    "execution": {
     "iopub.execute_input": "2025-08-05T12:00:32.719746Z",
     "iopub.status.busy": "2025-08-05T12:00:32.719388Z",
     "iopub.status.idle": "2025-08-05T12:00:32.724824Z",
     "shell.execute_reply": "2025-08-05T12:00:32.723659Z",
     "shell.execute_reply.started": "2025-08-05T12:00:32.719721Z"
    },
    "papermill": {
     "duration": 0.021613,
     "end_time": "2025-10-02T14:45:46.012417",
     "exception": false,
     "start_time": "2025-10-02T14:45:45.990804",
     "status": "completed"
    },
    "tags": []
   },
   "source": [
    "## EDA\n",
    "### Print Columns Values"
   ]
  },
  {
   "cell_type": "code",
   "execution_count": 25,
   "id": "9026917b",
   "metadata": {
    "execution": {
     "iopub.execute_input": "2025-10-02T14:45:46.056864Z",
     "iopub.status.busy": "2025-10-02T14:45:46.056464Z",
     "iopub.status.idle": "2025-10-02T14:45:46.060638Z",
     "shell.execute_reply": "2025-10-02T14:45:46.059999Z"
    },
    "papermill": {
     "duration": 0.027694,
     "end_time": "2025-10-02T14:45:46.061726",
     "exception": false,
     "start_time": "2025-10-02T14:45:46.034032",
     "status": "completed"
    },
    "tags": []
   },
   "outputs": [],
   "source": [
    "def printAllcolumnsValue(df, showAll=True):\n",
    "    \"\"\"\n",
    "    Print DataFrame columns values\n",
    "    \"\"\"\n",
    "    # loop column\n",
    "    for col in df.columns:\n",
    "        if showAll is True:\n",
    "            print(f\"{col} : {df[col].unique()}\") # print unique value\n",
    "        else: # only print caterogy column\n",
    "            if df[col].dtype == \"object\":\n",
    "                print(f\"{col} : {df[col].unique()}\") # print unique value\n",
    "\n",
    "def printSerieUnquieValue(df):\n",
    "    \"\"\"\n",
    "    print data serie value\n",
    "    \"\"\"\n",
    "    print(f\" {df.unique()}\")"
   ]
  },
  {
   "cell_type": "code",
   "execution_count": 26,
   "id": "4c72a99f",
   "metadata": {
    "execution": {
     "iopub.execute_input": "2025-10-02T14:45:46.107999Z",
     "iopub.status.busy": "2025-10-02T14:45:46.107432Z",
     "iopub.status.idle": "2025-10-02T14:45:46.132909Z",
     "shell.execute_reply": "2025-10-02T14:45:46.131993Z"
    },
    "papermill": {
     "duration": 0.049186,
     "end_time": "2025-10-02T14:45:46.133910",
     "exception": false,
     "start_time": "2025-10-02T14:45:46.084724",
     "status": "completed"
    },
    "scrolled": true,
    "tags": []
   },
   "outputs": [
    {
     "name": "stdout",
     "output_type": "stream",
     "text": [
      "row_id : [    0     1     2 ... 36693 36694 36695]\n",
      "QuestionId : [ 31772  31774  31777  31778  32829  32833  32835  33471  33472  33474\n",
      "  76870  89443  91695 104665 109465]\n",
      "QuestionText : ['What fraction of the shape is not shaded? Give your answer in its simplest form. [Image: A triangle split into 9 equal smaller triangles. 6 of them are shaded.]'\n",
      " 'Calculate \\\\( \\\\frac{1}{2} \\\\div 6 \\\\)'\n",
      " 'A box contains \\\\( 120 \\\\) counters. The counters are red or blue. \\\\( \\\\frac{3}{5} \\\\) of the counters are red.\\nHow many red counters are there?'\n",
      " '\\\\( \\\\frac{A}{10}=\\\\frac{9}{15} \\\\) What is the value of \\\\( A \\\\) ?'\n",
      " '\\\\( 2 y=24 \\\\) What is the value of \\\\( y \\\\) ?'\n",
      " 'Calculate \\\\( \\\\frac{2}{3} \\\\times 5 \\\\)'\n",
      " 'Which number is the greatest?'\n",
      " 'A bag contains \\\\( 24 \\\\) yellow and green balls. \\\\( \\\\frac{3}{8} \\\\) of the balls are yellow. How many of the balls are green?'\n",
      " '\\\\( \\\\frac{1}{3}+\\\\frac{2}{5}= \\\\)'\n",
      " 'Sally has \\\\( \\\\frac{2}{3} \\\\) of a whole cake in the fridge. Robert eats \\\\( \\\\frac{1}{3} \\\\) of this piece. What fraction of the whole cake has Robert eaten?\\nChoose the number sentence that would solve the word problem.'\n",
      " 'This is part of a regular polygon. How many sides does it have? [Image: A diagram showing an obtuse angle labelled 144 degrees]'\n",
      " 'What number belongs in the box?\\n\\\\(\\n(-8)-(-5)=\\n\\\\square\\\\)'\n",
      " 'Dots have been arranged in these patterns: [Image: Pattern 1 consists of 6 dots, Pattern 2 consists of 10 dots, Pattern 3 consists of 14 dots and Pattern 4 consists of 18 dots] How many dots would there be in Pattern \\\\( 6 \\\\) ?'\n",
      " 'It takes \\\\( 3 \\\\) people a total of \\\\( 192 \\\\) hours to build a wall.\\n\\nHow long would it take if \\\\( 12 \\\\) people built the same wall?'\n",
      " 'The probability of an event occurring is \\\\( 0.9 \\\\).\\n\\nWhich of the following most accurately describes the likelihood of the event occurring?']\n",
      "MC_Answer : ['\\\\( \\\\frac{1}{3} \\\\)' '\\\\( \\\\frac{3}{6} \\\\)' '\\\\( \\\\frac{3}{8} \\\\)'\n",
      " '\\\\( \\\\frac{3}{9} \\\\)' '\\\\( 3 \\\\)' '\\\\( \\\\frac{1}{12} \\\\)'\n",
      " '\\\\( \\\\frac{6}{2} \\\\)' '\\\\( 24 \\\\)' '\\\\( 48 \\\\)' '\\\\( 60 \\\\)'\n",
      " '\\\\( 72 \\\\)' '\\\\( 4 \\\\)' '\\\\( 6 \\\\)' '\\\\( 9 \\\\)' '\\\\( 12 \\\\)'\n",
      " '\\\\( 22 \\\\)' '\\\\( 3 \\\\frac{1}{3} \\\\)' '\\\\( 5 \\\\frac{2}{3} \\\\)'\n",
      " '\\\\( \\\\frac{10}{15} \\\\)' '\\\\( \\\\frac{2}{15} \\\\)' '\\\\( 6.0001 \\\\)'\n",
      " '\\\\( 6.079 \\\\)' '\\\\( 6.2 \\\\)' '\\\\( 15 \\\\)' '\\\\( 8 \\\\)'\n",
      " '\\\\( \\\\frac{11}{15} \\\\)' '\\\\( \\\\frac{11}{30} \\\\)' '\\\\( \\\\frac{3}{15} \\\\)'\n",
      " '\\\\( \\\\frac{1}{3} \\\\times \\\\frac{2}{3} \\\\)'\n",
      " '\\\\( \\\\frac{1}{3}+\\\\frac{2}{3} \\\\)'\n",
      " '\\\\( \\\\frac{2}{3} \\\\div \\\\frac{1}{3} \\\\)'\n",
      " '\\\\( \\\\frac{2}{3}-\\\\frac{1}{3} \\\\)' 'Not enough information' '\\\\( 10 \\\\)'\n",
      " '\\\\( 5 \\\\)' '\\\\( -13 \\\\)' '\\\\( -3 \\\\)' '\\\\( 13 \\\\)' '\\\\( 20 \\\\)'\n",
      " '\\\\( 26 \\\\)' '\\\\( 36 \\\\)' '\\\\( 192 \\\\) hours' '\\\\( 48 \\\\) hours'\n",
      " '\\\\( 64 \\\\) hours' '\\\\( 768 \\\\) hours' 'Certain' 'Impossible' 'Likely'\n",
      " 'Unlikely']\n",
      "StudentExplanation : ['0ne third is equal to tree nineth'\n",
      " '1 / 3 because 6 over 9 is 2 thirds and 1 third is not shaded.'\n",
      " '1 3rd is half of 3 6th, so it is simplee to understand.' ...\n",
      " 'yeah pretty unlikelyy from what it seems.'\n",
      " 'you have 9 other numbers to get.'\n",
      " 'you have a chanve but it is not i think this because there is 0.9 odds so you have chance chance,']\n",
      "Category : ['True_Correct' 'True_Neither' 'True_Misconception' 'False_Neither'\n",
      " 'False_Misconception' 'False_Correct']\n",
      "Misconception : [nan 'Incomplete' 'WNB' 'SwapDividend' 'Mult' 'FlipChange' 'Irrelevant'\n",
      " 'Wrong_Fraction' 'Additive' 'Not_variable' 'Adding_terms'\n",
      " 'Inverse_operation' 'Inversion' 'Duplication' 'Wrong_Operation'\n",
      " 'Whole_numbers_larger' 'Longer_is_bigger' 'Ignores_zeroes'\n",
      " 'Shorter_is_bigger' 'Wrong_fraction' 'Adding_across'\n",
      " 'Denominator-only_change' 'Incorrect_equivalent_fraction_addition'\n",
      " 'Division' 'Subtraction' 'Unknowable' 'Definition' 'Interior' 'Positive'\n",
      " 'Tacking' 'Wrong_term' 'Firstterm' 'Base_rate' 'Multiplying_by_4'\n",
      " 'Certainty' 'Scale']\n"
     ]
    }
   ],
   "source": [
    "printAllcolumnsValue(trainDF, showAll=True)"
   ]
  },
  {
   "cell_type": "code",
   "execution_count": 27,
   "id": "141de50a",
   "metadata": {
    "execution": {
     "iopub.execute_input": "2025-10-02T14:45:46.178561Z",
     "iopub.status.busy": "2025-10-02T14:45:46.178364Z",
     "iopub.status.idle": "2025-10-02T14:45:46.182518Z",
     "shell.execute_reply": "2025-10-02T14:45:46.181869Z"
    },
    "papermill": {
     "duration": 0.027462,
     "end_time": "2025-10-02T14:45:46.183566",
     "exception": false,
     "start_time": "2025-10-02T14:45:46.156104",
     "status": "completed"
    },
    "tags": []
   },
   "outputs": [
    {
     "data": {
      "text/plain": [
       "['row_id',\n",
       " 'QuestionId',\n",
       " 'QuestionText',\n",
       " 'MC_Answer',\n",
       " 'StudentExplanation',\n",
       " 'Category',\n",
       " 'Misconception']"
      ]
     },
     "execution_count": 27,
     "metadata": {},
     "output_type": "execute_result"
    }
   ],
   "source": [
    "featureCols = trainDF.columns.tolist()\n",
    "featureCols"
   ]
  },
  {
   "cell_type": "code",
   "execution_count": 28,
   "id": "3f1ac672",
   "metadata": {
    "execution": {
     "iopub.execute_input": "2025-10-02T14:45:46.228052Z",
     "iopub.status.busy": "2025-10-02T14:45:46.227587Z",
     "iopub.status.idle": "2025-10-02T14:45:46.236305Z",
     "shell.execute_reply": "2025-10-02T14:45:46.235644Z"
    },
    "papermill": {
     "duration": 0.031953,
     "end_time": "2025-10-02T14:45:46.237280",
     "exception": false,
     "start_time": "2025-10-02T14:45:46.205327",
     "status": "completed"
    },
    "tags": []
   },
   "outputs": [
    {
     "data": {
      "text/plain": [
       "0"
      ]
     },
     "execution_count": 28,
     "metadata": {},
     "output_type": "execute_result"
    }
   ],
   "source": [
    "# clean data\n",
    "trainDF[\"Misconception\"]= trainDF[\"Misconception\"].fillna(\"NA\") # fill NaN to NA\n",
    "trainDF[\"Misconception\"].isnull().sum() # check Null "
   ]
  },
  {
   "cell_type": "markdown",
   "id": "d37aa0ac",
   "metadata": {
    "execution": {
     "iopub.execute_input": "2025-08-06T05:39:57.456179Z",
     "iopub.status.busy": "2025-08-06T05:39:57.455612Z",
     "iopub.status.idle": "2025-08-06T05:39:57.459673Z",
     "shell.execute_reply": "2025-08-06T05:39:57.458795Z",
     "shell.execute_reply.started": "2025-08-06T05:39:57.456155Z"
    },
    "papermill": {
     "duration": 0.021798,
     "end_time": "2025-10-02T14:45:46.281155",
     "exception": false,
     "start_time": "2025-10-02T14:45:46.259357",
     "status": "completed"
    },
    "tags": []
   },
   "source": [
    "#### combine into target columns"
   ]
  },
  {
   "cell_type": "code",
   "execution_count": 29,
   "id": "6831ae84",
   "metadata": {
    "execution": {
     "iopub.execute_input": "2025-10-02T14:45:46.326829Z",
     "iopub.status.busy": "2025-10-02T14:45:46.326051Z",
     "iopub.status.idle": "2025-10-02T14:45:46.346779Z",
     "shell.execute_reply": "2025-10-02T14:45:46.346221Z"
    },
    "papermill": {
     "duration": 0.044232,
     "end_time": "2025-10-02T14:45:46.347817",
     "exception": false,
     "start_time": "2025-10-02T14:45:46.303585",
     "status": "completed"
    },
    "tags": []
   },
   "outputs": [
    {
     "data": {
      "text/html": [
       "<div>\n",
       "<style scoped>\n",
       "    .dataframe tbody tr th:only-of-type {\n",
       "        vertical-align: middle;\n",
       "    }\n",
       "\n",
       "    .dataframe tbody tr th {\n",
       "        vertical-align: top;\n",
       "    }\n",
       "\n",
       "    .dataframe thead th {\n",
       "        text-align: right;\n",
       "    }\n",
       "</style>\n",
       "<table border=\"1\" class=\"dataframe\">\n",
       "  <thead>\n",
       "    <tr style=\"text-align: right;\">\n",
       "      <th></th>\n",
       "      <th>row_id</th>\n",
       "      <th>QuestionId</th>\n",
       "      <th>QuestionText</th>\n",
       "      <th>MC_Answer</th>\n",
       "      <th>StudentExplanation</th>\n",
       "      <th>Category</th>\n",
       "      <th>Misconception</th>\n",
       "      <th>target</th>\n",
       "    </tr>\n",
       "  </thead>\n",
       "  <tbody>\n",
       "    <tr>\n",
       "      <th>0</th>\n",
       "      <td>0</td>\n",
       "      <td>31772</td>\n",
       "      <td>What fraction of the shape is not shaded? Give...</td>\n",
       "      <td>\\( \\frac{1}{3} \\)</td>\n",
       "      <td>0ne third is equal to tree nineth</td>\n",
       "      <td>True_Correct</td>\n",
       "      <td>NA</td>\n",
       "      <td>True_Correct:NA</td>\n",
       "    </tr>\n",
       "    <tr>\n",
       "      <th>1</th>\n",
       "      <td>1</td>\n",
       "      <td>31772</td>\n",
       "      <td>What fraction of the shape is not shaded? Give...</td>\n",
       "      <td>\\( \\frac{1}{3} \\)</td>\n",
       "      <td>1 / 3 because 6 over 9 is 2 thirds and 1 third...</td>\n",
       "      <td>True_Correct</td>\n",
       "      <td>NA</td>\n",
       "      <td>True_Correct:NA</td>\n",
       "    </tr>\n",
       "    <tr>\n",
       "      <th>2</th>\n",
       "      <td>2</td>\n",
       "      <td>31772</td>\n",
       "      <td>What fraction of the shape is not shaded? Give...</td>\n",
       "      <td>\\( \\frac{1}{3} \\)</td>\n",
       "      <td>1 3rd is half of 3 6th, so it is simplee to un...</td>\n",
       "      <td>True_Neither</td>\n",
       "      <td>NA</td>\n",
       "      <td>True_Neither:NA</td>\n",
       "    </tr>\n",
       "    <tr>\n",
       "      <th>3</th>\n",
       "      <td>3</td>\n",
       "      <td>31772</td>\n",
       "      <td>What fraction of the shape is not shaded? Give...</td>\n",
       "      <td>\\( \\frac{1}{3} \\)</td>\n",
       "      <td>1 goes into everything and 3 goes into nine</td>\n",
       "      <td>True_Neither</td>\n",
       "      <td>NA</td>\n",
       "      <td>True_Neither:NA</td>\n",
       "    </tr>\n",
       "    <tr>\n",
       "      <th>4</th>\n",
       "      <td>4</td>\n",
       "      <td>31772</td>\n",
       "      <td>What fraction of the shape is not shaded? Give...</td>\n",
       "      <td>\\( \\frac{1}{3} \\)</td>\n",
       "      <td>1 out of every 3 isn't coloured</td>\n",
       "      <td>True_Correct</td>\n",
       "      <td>NA</td>\n",
       "      <td>True_Correct:NA</td>\n",
       "    </tr>\n",
       "    <tr>\n",
       "      <th>...</th>\n",
       "      <td>...</td>\n",
       "      <td>...</td>\n",
       "      <td>...</td>\n",
       "      <td>...</td>\n",
       "      <td>...</td>\n",
       "      <td>...</td>\n",
       "      <td>...</td>\n",
       "      <td>...</td>\n",
       "    </tr>\n",
       "    <tr>\n",
       "      <th>36691</th>\n",
       "      <td>36691</td>\n",
       "      <td>109465</td>\n",
       "      <td>The probability of an event occurring is \\( 0....</td>\n",
       "      <td>Unlikely</td>\n",
       "      <td>very unlikely.</td>\n",
       "      <td>False_Neither</td>\n",
       "      <td>NA</td>\n",
       "      <td>False_Neither:NA</td>\n",
       "    </tr>\n",
       "    <tr>\n",
       "      <th>36692</th>\n",
       "      <td>36692</td>\n",
       "      <td>109465</td>\n",
       "      <td>The probability of an event occurring is \\( 0....</td>\n",
       "      <td>Unlikely</td>\n",
       "      <td>yea pretty much unlikely from what it seems.</td>\n",
       "      <td>False_Neither</td>\n",
       "      <td>NA</td>\n",
       "      <td>False_Neither:NA</td>\n",
       "    </tr>\n",
       "    <tr>\n",
       "      <th>36693</th>\n",
       "      <td>36693</td>\n",
       "      <td>109465</td>\n",
       "      <td>The probability of an event occurring is \\( 0....</td>\n",
       "      <td>Unlikely</td>\n",
       "      <td>yeah pretty unlikelyy from what it seems.</td>\n",
       "      <td>False_Neither</td>\n",
       "      <td>NA</td>\n",
       "      <td>False_Neither:NA</td>\n",
       "    </tr>\n",
       "    <tr>\n",
       "      <th>36694</th>\n",
       "      <td>36694</td>\n",
       "      <td>109465</td>\n",
       "      <td>The probability of an event occurring is \\( 0....</td>\n",
       "      <td>Unlikely</td>\n",
       "      <td>you have 9 other numbers to get.</td>\n",
       "      <td>False_Neither</td>\n",
       "      <td>NA</td>\n",
       "      <td>False_Neither:NA</td>\n",
       "    </tr>\n",
       "    <tr>\n",
       "      <th>36695</th>\n",
       "      <td>36695</td>\n",
       "      <td>109465</td>\n",
       "      <td>The probability of an event occurring is \\( 0....</td>\n",
       "      <td>Unlikely</td>\n",
       "      <td>you have a chanve but it is not i think this b...</td>\n",
       "      <td>False_Neither</td>\n",
       "      <td>NA</td>\n",
       "      <td>False_Neither:NA</td>\n",
       "    </tr>\n",
       "  </tbody>\n",
       "</table>\n",
       "<p>36696 rows × 8 columns</p>\n",
       "</div>"
      ],
      "text/plain": [
       "       row_id  QuestionId                                       QuestionText  \\\n",
       "0           0       31772  What fraction of the shape is not shaded? Give...   \n",
       "1           1       31772  What fraction of the shape is not shaded? Give...   \n",
       "2           2       31772  What fraction of the shape is not shaded? Give...   \n",
       "3           3       31772  What fraction of the shape is not shaded? Give...   \n",
       "4           4       31772  What fraction of the shape is not shaded? Give...   \n",
       "...       ...         ...                                                ...   \n",
       "36691   36691      109465  The probability of an event occurring is \\( 0....   \n",
       "36692   36692      109465  The probability of an event occurring is \\( 0....   \n",
       "36693   36693      109465  The probability of an event occurring is \\( 0....   \n",
       "36694   36694      109465  The probability of an event occurring is \\( 0....   \n",
       "36695   36695      109465  The probability of an event occurring is \\( 0....   \n",
       "\n",
       "               MC_Answer                                 StudentExplanation  \\\n",
       "0      \\( \\frac{1}{3} \\)                  0ne third is equal to tree nineth   \n",
       "1      \\( \\frac{1}{3} \\)  1 / 3 because 6 over 9 is 2 thirds and 1 third...   \n",
       "2      \\( \\frac{1}{3} \\)  1 3rd is half of 3 6th, so it is simplee to un...   \n",
       "3      \\( \\frac{1}{3} \\)        1 goes into everything and 3 goes into nine   \n",
       "4      \\( \\frac{1}{3} \\)                    1 out of every 3 isn't coloured   \n",
       "...                  ...                                                ...   \n",
       "36691           Unlikely                                     very unlikely.   \n",
       "36692           Unlikely       yea pretty much unlikely from what it seems.   \n",
       "36693           Unlikely          yeah pretty unlikelyy from what it seems.   \n",
       "36694           Unlikely                   you have 9 other numbers to get.   \n",
       "36695           Unlikely  you have a chanve but it is not i think this b...   \n",
       "\n",
       "            Category Misconception            target  \n",
       "0       True_Correct            NA   True_Correct:NA  \n",
       "1       True_Correct            NA   True_Correct:NA  \n",
       "2       True_Neither            NA   True_Neither:NA  \n",
       "3       True_Neither            NA   True_Neither:NA  \n",
       "4       True_Correct            NA   True_Correct:NA  \n",
       "...              ...           ...               ...  \n",
       "36691  False_Neither            NA  False_Neither:NA  \n",
       "36692  False_Neither            NA  False_Neither:NA  \n",
       "36693  False_Neither            NA  False_Neither:NA  \n",
       "36694  False_Neither            NA  False_Neither:NA  \n",
       "36695  False_Neither            NA  False_Neither:NA  \n",
       "\n",
       "[36696 rows x 8 columns]"
      ]
     },
     "execution_count": 29,
     "metadata": {},
     "output_type": "execute_result"
    }
   ],
   "source": [
    "\n",
    "trainDF['target'] = trainDF[\"Category\"]+\":\"+trainDF[\"Misconception\"]\n",
    "trainDF"
   ]
  },
  {
   "cell_type": "markdown",
   "id": "b1aa62e6",
   "metadata": {
    "papermill": {
     "duration": 0.022037,
     "end_time": "2025-10-02T14:45:46.392869",
     "exception": false,
     "start_time": "2025-10-02T14:45:46.370832",
     "status": "completed"
    },
    "tags": []
   },
   "source": [
    "### Create Label"
   ]
  },
  {
   "cell_type": "code",
   "execution_count": 30,
   "id": "671b6172",
   "metadata": {
    "execution": {
     "iopub.execute_input": "2025-10-02T14:45:46.437751Z",
     "iopub.status.busy": "2025-10-02T14:45:46.437546Z",
     "iopub.status.idle": "2025-10-02T14:45:46.447698Z",
     "shell.execute_reply": "2025-10-02T14:45:46.447215Z"
    },
    "papermill": {
     "duration": 0.033713,
     "end_time": "2025-10-02T14:45:46.448677",
     "exception": false,
     "start_time": "2025-10-02T14:45:46.414964",
     "status": "completed"
    },
    "tags": []
   },
   "outputs": [],
   "source": [
    "le = LabelEncoder()\n",
    "trainDF[\"label\"]= le.fit_transform(trainDF['target']) # encode caterogy into label"
   ]
  },
  {
   "cell_type": "code",
   "execution_count": 31,
   "id": "129b1d84",
   "metadata": {
    "execution": {
     "iopub.execute_input": "2025-10-02T14:45:46.494791Z",
     "iopub.status.busy": "2025-10-02T14:45:46.494600Z",
     "iopub.status.idle": "2025-10-02T14:45:46.505894Z",
     "shell.execute_reply": "2025-10-02T14:45:46.505208Z"
    },
    "papermill": {
     "duration": 0.035327,
     "end_time": "2025-10-02T14:45:46.507005",
     "exception": false,
     "start_time": "2025-10-02T14:45:46.471678",
     "status": "completed"
    },
    "tags": []
   },
   "outputs": [
    {
     "data": {
      "text/html": [
       "<div>\n",
       "<style scoped>\n",
       "    .dataframe tbody tr th:only-of-type {\n",
       "        vertical-align: middle;\n",
       "    }\n",
       "\n",
       "    .dataframe tbody tr th {\n",
       "        vertical-align: top;\n",
       "    }\n",
       "\n",
       "    .dataframe thead th {\n",
       "        text-align: right;\n",
       "    }\n",
       "</style>\n",
       "<table border=\"1\" class=\"dataframe\">\n",
       "  <thead>\n",
       "    <tr style=\"text-align: right;\">\n",
       "      <th></th>\n",
       "      <th>row_id</th>\n",
       "      <th>QuestionId</th>\n",
       "      <th>QuestionText</th>\n",
       "      <th>MC_Answer</th>\n",
       "      <th>StudentExplanation</th>\n",
       "      <th>Category</th>\n",
       "      <th>Misconception</th>\n",
       "      <th>target</th>\n",
       "      <th>label</th>\n",
       "    </tr>\n",
       "  </thead>\n",
       "  <tbody>\n",
       "    <tr>\n",
       "      <th>0</th>\n",
       "      <td>0</td>\n",
       "      <td>31772</td>\n",
       "      <td>What fraction of the shape is not shaded? Give...</td>\n",
       "      <td>\\( \\frac{1}{3} \\)</td>\n",
       "      <td>0ne third is equal to tree nineth</td>\n",
       "      <td>True_Correct</td>\n",
       "      <td>NA</td>\n",
       "      <td>True_Correct:NA</td>\n",
       "      <td>37</td>\n",
       "    </tr>\n",
       "    <tr>\n",
       "      <th>1</th>\n",
       "      <td>1</td>\n",
       "      <td>31772</td>\n",
       "      <td>What fraction of the shape is not shaded? Give...</td>\n",
       "      <td>\\( \\frac{1}{3} \\)</td>\n",
       "      <td>1 / 3 because 6 over 9 is 2 thirds and 1 third...</td>\n",
       "      <td>True_Correct</td>\n",
       "      <td>NA</td>\n",
       "      <td>True_Correct:NA</td>\n",
       "      <td>37</td>\n",
       "    </tr>\n",
       "    <tr>\n",
       "      <th>2</th>\n",
       "      <td>2</td>\n",
       "      <td>31772</td>\n",
       "      <td>What fraction of the shape is not shaded? Give...</td>\n",
       "      <td>\\( \\frac{1}{3} \\)</td>\n",
       "      <td>1 3rd is half of 3 6th, so it is simplee to un...</td>\n",
       "      <td>True_Neither</td>\n",
       "      <td>NA</td>\n",
       "      <td>True_Neither:NA</td>\n",
       "      <td>64</td>\n",
       "    </tr>\n",
       "    <tr>\n",
       "      <th>3</th>\n",
       "      <td>3</td>\n",
       "      <td>31772</td>\n",
       "      <td>What fraction of the shape is not shaded? Give...</td>\n",
       "      <td>\\( \\frac{1}{3} \\)</td>\n",
       "      <td>1 goes into everything and 3 goes into nine</td>\n",
       "      <td>True_Neither</td>\n",
       "      <td>NA</td>\n",
       "      <td>True_Neither:NA</td>\n",
       "      <td>64</td>\n",
       "    </tr>\n",
       "    <tr>\n",
       "      <th>4</th>\n",
       "      <td>4</td>\n",
       "      <td>31772</td>\n",
       "      <td>What fraction of the shape is not shaded? Give...</td>\n",
       "      <td>\\( \\frac{1}{3} \\)</td>\n",
       "      <td>1 out of every 3 isn't coloured</td>\n",
       "      <td>True_Correct</td>\n",
       "      <td>NA</td>\n",
       "      <td>True_Correct:NA</td>\n",
       "      <td>37</td>\n",
       "    </tr>\n",
       "    <tr>\n",
       "      <th>...</th>\n",
       "      <td>...</td>\n",
       "      <td>...</td>\n",
       "      <td>...</td>\n",
       "      <td>...</td>\n",
       "      <td>...</td>\n",
       "      <td>...</td>\n",
       "      <td>...</td>\n",
       "      <td>...</td>\n",
       "      <td>...</td>\n",
       "    </tr>\n",
       "    <tr>\n",
       "      <th>36691</th>\n",
       "      <td>36691</td>\n",
       "      <td>109465</td>\n",
       "      <td>The probability of an event occurring is \\( 0....</td>\n",
       "      <td>Unlikely</td>\n",
       "      <td>very unlikely.</td>\n",
       "      <td>False_Neither</td>\n",
       "      <td>NA</td>\n",
       "      <td>False_Neither:NA</td>\n",
       "      <td>36</td>\n",
       "    </tr>\n",
       "    <tr>\n",
       "      <th>36692</th>\n",
       "      <td>36692</td>\n",
       "      <td>109465</td>\n",
       "      <td>The probability of an event occurring is \\( 0....</td>\n",
       "      <td>Unlikely</td>\n",
       "      <td>yea pretty much unlikely from what it seems.</td>\n",
       "      <td>False_Neither</td>\n",
       "      <td>NA</td>\n",
       "      <td>False_Neither:NA</td>\n",
       "      <td>36</td>\n",
       "    </tr>\n",
       "    <tr>\n",
       "      <th>36693</th>\n",
       "      <td>36693</td>\n",
       "      <td>109465</td>\n",
       "      <td>The probability of an event occurring is \\( 0....</td>\n",
       "      <td>Unlikely</td>\n",
       "      <td>yeah pretty unlikelyy from what it seems.</td>\n",
       "      <td>False_Neither</td>\n",
       "      <td>NA</td>\n",
       "      <td>False_Neither:NA</td>\n",
       "      <td>36</td>\n",
       "    </tr>\n",
       "    <tr>\n",
       "      <th>36694</th>\n",
       "      <td>36694</td>\n",
       "      <td>109465</td>\n",
       "      <td>The probability of an event occurring is \\( 0....</td>\n",
       "      <td>Unlikely</td>\n",
       "      <td>you have 9 other numbers to get.</td>\n",
       "      <td>False_Neither</td>\n",
       "      <td>NA</td>\n",
       "      <td>False_Neither:NA</td>\n",
       "      <td>36</td>\n",
       "    </tr>\n",
       "    <tr>\n",
       "      <th>36695</th>\n",
       "      <td>36695</td>\n",
       "      <td>109465</td>\n",
       "      <td>The probability of an event occurring is \\( 0....</td>\n",
       "      <td>Unlikely</td>\n",
       "      <td>you have a chanve but it is not i think this b...</td>\n",
       "      <td>False_Neither</td>\n",
       "      <td>NA</td>\n",
       "      <td>False_Neither:NA</td>\n",
       "      <td>36</td>\n",
       "    </tr>\n",
       "  </tbody>\n",
       "</table>\n",
       "<p>36696 rows × 9 columns</p>\n",
       "</div>"
      ],
      "text/plain": [
       "       row_id  QuestionId                                       QuestionText  \\\n",
       "0           0       31772  What fraction of the shape is not shaded? Give...   \n",
       "1           1       31772  What fraction of the shape is not shaded? Give...   \n",
       "2           2       31772  What fraction of the shape is not shaded? Give...   \n",
       "3           3       31772  What fraction of the shape is not shaded? Give...   \n",
       "4           4       31772  What fraction of the shape is not shaded? Give...   \n",
       "...       ...         ...                                                ...   \n",
       "36691   36691      109465  The probability of an event occurring is \\( 0....   \n",
       "36692   36692      109465  The probability of an event occurring is \\( 0....   \n",
       "36693   36693      109465  The probability of an event occurring is \\( 0....   \n",
       "36694   36694      109465  The probability of an event occurring is \\( 0....   \n",
       "36695   36695      109465  The probability of an event occurring is \\( 0....   \n",
       "\n",
       "               MC_Answer                                 StudentExplanation  \\\n",
       "0      \\( \\frac{1}{3} \\)                  0ne third is equal to tree nineth   \n",
       "1      \\( \\frac{1}{3} \\)  1 / 3 because 6 over 9 is 2 thirds and 1 third...   \n",
       "2      \\( \\frac{1}{3} \\)  1 3rd is half of 3 6th, so it is simplee to un...   \n",
       "3      \\( \\frac{1}{3} \\)        1 goes into everything and 3 goes into nine   \n",
       "4      \\( \\frac{1}{3} \\)                    1 out of every 3 isn't coloured   \n",
       "...                  ...                                                ...   \n",
       "36691           Unlikely                                     very unlikely.   \n",
       "36692           Unlikely       yea pretty much unlikely from what it seems.   \n",
       "36693           Unlikely          yeah pretty unlikelyy from what it seems.   \n",
       "36694           Unlikely                   you have 9 other numbers to get.   \n",
       "36695           Unlikely  you have a chanve but it is not i think this b...   \n",
       "\n",
       "            Category Misconception            target  label  \n",
       "0       True_Correct            NA   True_Correct:NA     37  \n",
       "1       True_Correct            NA   True_Correct:NA     37  \n",
       "2       True_Neither            NA   True_Neither:NA     64  \n",
       "3       True_Neither            NA   True_Neither:NA     64  \n",
       "4       True_Correct            NA   True_Correct:NA     37  \n",
       "...              ...           ...               ...    ...  \n",
       "36691  False_Neither            NA  False_Neither:NA     36  \n",
       "36692  False_Neither            NA  False_Neither:NA     36  \n",
       "36693  False_Neither            NA  False_Neither:NA     36  \n",
       "36694  False_Neither            NA  False_Neither:NA     36  \n",
       "36695  False_Neither            NA  False_Neither:NA     36  \n",
       "\n",
       "[36696 rows x 9 columns]"
      ]
     },
     "execution_count": 31,
     "metadata": {},
     "output_type": "execute_result"
    }
   ],
   "source": [
    "trainDF"
   ]
  },
  {
   "cell_type": "code",
   "execution_count": 32,
   "id": "5d1c2a8c",
   "metadata": {
    "execution": {
     "iopub.execute_input": "2025-10-02T14:45:46.553465Z",
     "iopub.status.busy": "2025-10-02T14:45:46.553068Z",
     "iopub.status.idle": "2025-10-02T14:45:46.579090Z",
     "shell.execute_reply": "2025-10-02T14:45:46.578192Z"
    },
    "papermill": {
     "duration": 0.050334,
     "end_time": "2025-10-02T14:45:46.580332",
     "exception": false,
     "start_time": "2025-10-02T14:45:46.529998",
     "status": "completed"
    },
    "scrolled": true,
    "tags": []
   },
   "outputs": [
    {
     "name": "stdout",
     "output_type": "stream",
     "text": [
      "row_id : [    0     1     2 ... 36693 36694 36695]\n",
      "QuestionId : [ 31772  31774  31777  31778  32829  32833  32835  33471  33472  33474\n",
      "  76870  89443  91695 104665 109465]\n",
      "QuestionText : ['What fraction of the shape is not shaded? Give your answer in its simplest form. [Image: A triangle split into 9 equal smaller triangles. 6 of them are shaded.]'\n",
      " 'Calculate \\\\( \\\\frac{1}{2} \\\\div 6 \\\\)'\n",
      " 'A box contains \\\\( 120 \\\\) counters. The counters are red or blue. \\\\( \\\\frac{3}{5} \\\\) of the counters are red.\\nHow many red counters are there?'\n",
      " '\\\\( \\\\frac{A}{10}=\\\\frac{9}{15} \\\\) What is the value of \\\\( A \\\\) ?'\n",
      " '\\\\( 2 y=24 \\\\) What is the value of \\\\( y \\\\) ?'\n",
      " 'Calculate \\\\( \\\\frac{2}{3} \\\\times 5 \\\\)'\n",
      " 'Which number is the greatest?'\n",
      " 'A bag contains \\\\( 24 \\\\) yellow and green balls. \\\\( \\\\frac{3}{8} \\\\) of the balls are yellow. How many of the balls are green?'\n",
      " '\\\\( \\\\frac{1}{3}+\\\\frac{2}{5}= \\\\)'\n",
      " 'Sally has \\\\( \\\\frac{2}{3} \\\\) of a whole cake in the fridge. Robert eats \\\\( \\\\frac{1}{3} \\\\) of this piece. What fraction of the whole cake has Robert eaten?\\nChoose the number sentence that would solve the word problem.'\n",
      " 'This is part of a regular polygon. How many sides does it have? [Image: A diagram showing an obtuse angle labelled 144 degrees]'\n",
      " 'What number belongs in the box?\\n\\\\(\\n(-8)-(-5)=\\n\\\\square\\\\)'\n",
      " 'Dots have been arranged in these patterns: [Image: Pattern 1 consists of 6 dots, Pattern 2 consists of 10 dots, Pattern 3 consists of 14 dots and Pattern 4 consists of 18 dots] How many dots would there be in Pattern \\\\( 6 \\\\) ?'\n",
      " 'It takes \\\\( 3 \\\\) people a total of \\\\( 192 \\\\) hours to build a wall.\\n\\nHow long would it take if \\\\( 12 \\\\) people built the same wall?'\n",
      " 'The probability of an event occurring is \\\\( 0.9 \\\\).\\n\\nWhich of the following most accurately describes the likelihood of the event occurring?']\n",
      "MC_Answer : ['\\\\( \\\\frac{1}{3} \\\\)' '\\\\( \\\\frac{3}{6} \\\\)' '\\\\( \\\\frac{3}{8} \\\\)'\n",
      " '\\\\( \\\\frac{3}{9} \\\\)' '\\\\( 3 \\\\)' '\\\\( \\\\frac{1}{12} \\\\)'\n",
      " '\\\\( \\\\frac{6}{2} \\\\)' '\\\\( 24 \\\\)' '\\\\( 48 \\\\)' '\\\\( 60 \\\\)'\n",
      " '\\\\( 72 \\\\)' '\\\\( 4 \\\\)' '\\\\( 6 \\\\)' '\\\\( 9 \\\\)' '\\\\( 12 \\\\)'\n",
      " '\\\\( 22 \\\\)' '\\\\( 3 \\\\frac{1}{3} \\\\)' '\\\\( 5 \\\\frac{2}{3} \\\\)'\n",
      " '\\\\( \\\\frac{10}{15} \\\\)' '\\\\( \\\\frac{2}{15} \\\\)' '\\\\( 6.0001 \\\\)'\n",
      " '\\\\( 6.079 \\\\)' '\\\\( 6.2 \\\\)' '\\\\( 15 \\\\)' '\\\\( 8 \\\\)'\n",
      " '\\\\( \\\\frac{11}{15} \\\\)' '\\\\( \\\\frac{11}{30} \\\\)' '\\\\( \\\\frac{3}{15} \\\\)'\n",
      " '\\\\( \\\\frac{1}{3} \\\\times \\\\frac{2}{3} \\\\)'\n",
      " '\\\\( \\\\frac{1}{3}+\\\\frac{2}{3} \\\\)'\n",
      " '\\\\( \\\\frac{2}{3} \\\\div \\\\frac{1}{3} \\\\)'\n",
      " '\\\\( \\\\frac{2}{3}-\\\\frac{1}{3} \\\\)' 'Not enough information' '\\\\( 10 \\\\)'\n",
      " '\\\\( 5 \\\\)' '\\\\( -13 \\\\)' '\\\\( -3 \\\\)' '\\\\( 13 \\\\)' '\\\\( 20 \\\\)'\n",
      " '\\\\( 26 \\\\)' '\\\\( 36 \\\\)' '\\\\( 192 \\\\) hours' '\\\\( 48 \\\\) hours'\n",
      " '\\\\( 64 \\\\) hours' '\\\\( 768 \\\\) hours' 'Certain' 'Impossible' 'Likely'\n",
      " 'Unlikely']\n",
      "StudentExplanation : ['0ne third is equal to tree nineth'\n",
      " '1 / 3 because 6 over 9 is 2 thirds and 1 third is not shaded.'\n",
      " '1 3rd is half of 3 6th, so it is simplee to understand.' ...\n",
      " 'yeah pretty unlikelyy from what it seems.'\n",
      " 'you have 9 other numbers to get.'\n",
      " 'you have a chanve but it is not i think this because there is 0.9 odds so you have chance chance,']\n",
      "Category : ['True_Correct' 'True_Neither' 'True_Misconception' 'False_Neither'\n",
      " 'False_Misconception' 'False_Correct']\n",
      "Misconception : ['NA' 'Incomplete' 'WNB' 'SwapDividend' 'Mult' 'FlipChange' 'Irrelevant'\n",
      " 'Wrong_Fraction' 'Additive' 'Not_variable' 'Adding_terms'\n",
      " 'Inverse_operation' 'Inversion' 'Duplication' 'Wrong_Operation'\n",
      " 'Whole_numbers_larger' 'Longer_is_bigger' 'Ignores_zeroes'\n",
      " 'Shorter_is_bigger' 'Wrong_fraction' 'Adding_across'\n",
      " 'Denominator-only_change' 'Incorrect_equivalent_fraction_addition'\n",
      " 'Division' 'Subtraction' 'Unknowable' 'Definition' 'Interior' 'Positive'\n",
      " 'Tacking' 'Wrong_term' 'Firstterm' 'Base_rate' 'Multiplying_by_4'\n",
      " 'Certainty' 'Scale']\n",
      "target : ['True_Correct:NA' 'True_Neither:NA' 'True_Misconception:Incomplete'\n",
      " 'True_Misconception:WNB' 'False_Neither:NA' 'False_Misconception:WNB'\n",
      " 'False_Misconception:Incomplete' 'False_Correct:NA'\n",
      " 'False_Misconception:SwapDividend' 'False_Misconception:Mult'\n",
      " 'False_Misconception:FlipChange' 'True_Misconception:SwapDividend'\n",
      " 'True_Misconception:Mult' 'True_Misconception:FlipChange'\n",
      " 'False_Misconception:Irrelevant' 'False_Misconception:Wrong_Fraction'\n",
      " 'False_Misconception:Additive' 'True_Misconception:Irrelevant'\n",
      " 'True_Misconception:Additive' 'True_Misconception:Not_variable'\n",
      " 'False_Misconception:Adding_terms' 'False_Misconception:Not_variable'\n",
      " 'False_Misconception:Inverse_operation' 'True_Misconception:Inversion'\n",
      " 'True_Misconception:Duplication' 'False_Misconception:Duplication'\n",
      " 'False_Misconception:Inversion' 'False_Misconception:Wrong_Operation'\n",
      " 'False_Misconception:Whole_numbers_larger'\n",
      " 'False_Misconception:Longer_is_bigger'\n",
      " 'False_Misconception:Ignores_zeroes'\n",
      " 'False_Misconception:Shorter_is_bigger'\n",
      " 'True_Misconception:Whole_numbers_larger'\n",
      " 'True_Misconception:Shorter_is_bigger'\n",
      " 'True_Misconception:Longer_is_bigger' 'True_Misconception:Wrong_fraction'\n",
      " 'False_Misconception:Wrong_fraction' 'True_Misconception:Adding_across'\n",
      " 'True_Misconception:Denominator-only_change'\n",
      " 'True_Misconception:Incorrect_equivalent_fraction_addition'\n",
      " 'False_Misconception:Denominator-only_change'\n",
      " 'False_Misconception:Incorrect_equivalent_fraction_addition'\n",
      " 'False_Misconception:Adding_across' 'True_Misconception:Division'\n",
      " 'True_Misconception:Subtraction' 'False_Misconception:Subtraction'\n",
      " 'False_Misconception:Division' 'False_Misconception:Unknowable'\n",
      " 'False_Misconception:Definition' 'False_Misconception:Interior'\n",
      " 'True_Misconception:Definition' 'False_Misconception:Positive'\n",
      " 'False_Misconception:Tacking' 'True_Misconception:Tacking'\n",
      " 'True_Misconception:Positive' 'False_Misconception:Wrong_term'\n",
      " 'False_Misconception:Firstterm' 'True_Misconception:Wrong_term'\n",
      " 'True_Misconception:Firstterm' 'False_Misconception:Base_rate'\n",
      " 'True_Misconception:Base_rate' 'True_Misconception:Multiplying_by_4'\n",
      " 'False_Misconception:Multiplying_by_4' 'False_Misconception:Certainty'\n",
      " 'False_Misconception:Scale']\n",
      "label : [37 64 47 60 36 30 13  0 27 20 11 58 52 46 18 32  3 50 39 54  2 22 16 49\n",
      " 44  9 17 33 31 19 12 25 61 56 51 62 34 38 42 48  7 14  1 43 57 26  8 29\n",
      "  6 15 41 23 28 59 55 35 10 63 45  4 40 53 21  5 24]\n"
     ]
    }
   ],
   "source": [
    "# print all unique t\n",
    "printAllcolumnsValue(trainDF, showAll=True)"
   ]
  },
  {
   "cell_type": "markdown",
   "id": "555538b0",
   "metadata": {
    "papermill": {
     "duration": 0.022223,
     "end_time": "2025-10-02T14:45:46.626639",
     "exception": false,
     "start_time": "2025-10-02T14:45:46.604416",
     "status": "completed"
    },
    "tags": []
   },
   "source": [
    "### Get Label Catergory class name"
   ]
  },
  {
   "cell_type": "code",
   "execution_count": 33,
   "id": "e47aaada",
   "metadata": {
    "execution": {
     "iopub.execute_input": "2025-10-02T14:45:46.672958Z",
     "iopub.status.busy": "2025-10-02T14:45:46.672751Z",
     "iopub.status.idle": "2025-10-02T14:45:46.677273Z",
     "shell.execute_reply": "2025-10-02T14:45:46.676604Z"
    },
    "papermill": {
     "duration": 0.029192,
     "end_time": "2025-10-02T14:45:46.678311",
     "exception": false,
     "start_time": "2025-10-02T14:45:46.649119",
     "status": "completed"
    },
    "tags": []
   },
   "outputs": [
    {
     "data": {
      "text/plain": [
       "array(['False_Correct:NA', 'False_Misconception:Adding_across',\n",
       "       'False_Misconception:Adding_terms', 'False_Misconception:Additive',\n",
       "       'False_Misconception:Base_rate', 'False_Misconception:Certainty',\n",
       "       'False_Misconception:Definition',\n",
       "       'False_Misconception:Denominator-only_change',\n",
       "       'False_Misconception:Division', 'False_Misconception:Duplication',\n",
       "       'False_Misconception:Firstterm', 'False_Misconception:FlipChange',\n",
       "       'False_Misconception:Ignores_zeroes',\n",
       "       'False_Misconception:Incomplete',\n",
       "       'False_Misconception:Incorrect_equivalent_fraction_addition',\n",
       "       'False_Misconception:Interior',\n",
       "       'False_Misconception:Inverse_operation',\n",
       "       'False_Misconception:Inversion', 'False_Misconception:Irrelevant',\n",
       "       'False_Misconception:Longer_is_bigger', 'False_Misconception:Mult',\n",
       "       'False_Misconception:Multiplying_by_4',\n",
       "       'False_Misconception:Not_variable', 'False_Misconception:Positive',\n",
       "       'False_Misconception:Scale',\n",
       "       'False_Misconception:Shorter_is_bigger',\n",
       "       'False_Misconception:Subtraction',\n",
       "       'False_Misconception:SwapDividend', 'False_Misconception:Tacking',\n",
       "       'False_Misconception:Unknowable', 'False_Misconception:WNB',\n",
       "       'False_Misconception:Whole_numbers_larger',\n",
       "       'False_Misconception:Wrong_Fraction',\n",
       "       'False_Misconception:Wrong_Operation',\n",
       "       'False_Misconception:Wrong_fraction',\n",
       "       'False_Misconception:Wrong_term', 'False_Neither:NA',\n",
       "       'True_Correct:NA', 'True_Misconception:Adding_across',\n",
       "       'True_Misconception:Additive', 'True_Misconception:Base_rate',\n",
       "       'True_Misconception:Definition',\n",
       "       'True_Misconception:Denominator-only_change',\n",
       "       'True_Misconception:Division', 'True_Misconception:Duplication',\n",
       "       'True_Misconception:Firstterm', 'True_Misconception:FlipChange',\n",
       "       'True_Misconception:Incomplete',\n",
       "       'True_Misconception:Incorrect_equivalent_fraction_addition',\n",
       "       'True_Misconception:Inversion', 'True_Misconception:Irrelevant',\n",
       "       'True_Misconception:Longer_is_bigger', 'True_Misconception:Mult',\n",
       "       'True_Misconception:Multiplying_by_4',\n",
       "       'True_Misconception:Not_variable', 'True_Misconception:Positive',\n",
       "       'True_Misconception:Shorter_is_bigger',\n",
       "       'True_Misconception:Subtraction',\n",
       "       'True_Misconception:SwapDividend', 'True_Misconception:Tacking',\n",
       "       'True_Misconception:WNB',\n",
       "       'True_Misconception:Whole_numbers_larger',\n",
       "       'True_Misconception:Wrong_fraction',\n",
       "       'True_Misconception:Wrong_term', 'True_Neither:NA'], dtype=object)"
      ]
     },
     "execution_count": 33,
     "metadata": {},
     "output_type": "execute_result"
    }
   ],
   "source": [
    "\n",
    "targetClasses = le.classes_   \n",
    "targetClasses"
   ]
  },
  {
   "cell_type": "code",
   "execution_count": 34,
   "id": "a35e66b4",
   "metadata": {
    "execution": {
     "iopub.execute_input": "2025-10-02T14:45:46.724324Z",
     "iopub.status.busy": "2025-10-02T14:45:46.724108Z",
     "iopub.status.idle": "2025-10-02T14:45:46.728027Z",
     "shell.execute_reply": "2025-10-02T14:45:46.727398Z"
    },
    "papermill": {
     "duration": 0.028214,
     "end_time": "2025-10-02T14:45:46.729003",
     "exception": false,
     "start_time": "2025-10-02T14:45:46.700789",
     "status": "completed"
    },
    "tags": []
   },
   "outputs": [
    {
     "data": {
      "text/plain": [
       "65"
      ]
     },
     "execution_count": 34,
     "metadata": {},
     "output_type": "execute_result"
    }
   ],
   "source": [
    "nClasses = len(targetClasses)\n",
    "nClasses"
   ]
  },
  {
   "cell_type": "code",
   "execution_count": 35,
   "id": "32c36262",
   "metadata": {
    "execution": {
     "iopub.execute_input": "2025-10-02T14:45:46.775197Z",
     "iopub.status.busy": "2025-10-02T14:45:46.774984Z",
     "iopub.status.idle": "2025-10-02T14:45:46.783856Z",
     "shell.execute_reply": "2025-10-02T14:45:46.783357Z"
    },
    "papermill": {
     "duration": 0.032902,
     "end_time": "2025-10-02T14:45:46.784896",
     "exception": false,
     "start_time": "2025-10-02T14:45:46.751994",
     "status": "completed"
    },
    "tags": []
   },
   "outputs": [
    {
     "name": "stdout",
     "output_type": "stream",
     "text": [
      "Train shape: (36696, 9) with 65 target classes\n"
     ]
    },
    {
     "data": {
      "text/html": [
       "<div>\n",
       "<style scoped>\n",
       "    .dataframe tbody tr th:only-of-type {\n",
       "        vertical-align: middle;\n",
       "    }\n",
       "\n",
       "    .dataframe tbody tr th {\n",
       "        vertical-align: top;\n",
       "    }\n",
       "\n",
       "    .dataframe thead th {\n",
       "        text-align: right;\n",
       "    }\n",
       "</style>\n",
       "<table border=\"1\" class=\"dataframe\">\n",
       "  <thead>\n",
       "    <tr style=\"text-align: right;\">\n",
       "      <th></th>\n",
       "      <th>row_id</th>\n",
       "      <th>QuestionId</th>\n",
       "      <th>QuestionText</th>\n",
       "      <th>MC_Answer</th>\n",
       "      <th>StudentExplanation</th>\n",
       "      <th>Category</th>\n",
       "      <th>Misconception</th>\n",
       "      <th>target</th>\n",
       "      <th>label</th>\n",
       "    </tr>\n",
       "  </thead>\n",
       "  <tbody>\n",
       "    <tr>\n",
       "      <th>0</th>\n",
       "      <td>0</td>\n",
       "      <td>31772</td>\n",
       "      <td>What fraction of the shape is not shaded? Give...</td>\n",
       "      <td>\\( \\frac{1}{3} \\)</td>\n",
       "      <td>0ne third is equal to tree nineth</td>\n",
       "      <td>True_Correct</td>\n",
       "      <td>NA</td>\n",
       "      <td>True_Correct:NA</td>\n",
       "      <td>37</td>\n",
       "    </tr>\n",
       "    <tr>\n",
       "      <th>1</th>\n",
       "      <td>1</td>\n",
       "      <td>31772</td>\n",
       "      <td>What fraction of the shape is not shaded? Give...</td>\n",
       "      <td>\\( \\frac{1}{3} \\)</td>\n",
       "      <td>1 / 3 because 6 over 9 is 2 thirds and 1 third...</td>\n",
       "      <td>True_Correct</td>\n",
       "      <td>NA</td>\n",
       "      <td>True_Correct:NA</td>\n",
       "      <td>37</td>\n",
       "    </tr>\n",
       "    <tr>\n",
       "      <th>2</th>\n",
       "      <td>2</td>\n",
       "      <td>31772</td>\n",
       "      <td>What fraction of the shape is not shaded? Give...</td>\n",
       "      <td>\\( \\frac{1}{3} \\)</td>\n",
       "      <td>1 3rd is half of 3 6th, so it is simplee to un...</td>\n",
       "      <td>True_Neither</td>\n",
       "      <td>NA</td>\n",
       "      <td>True_Neither:NA</td>\n",
       "      <td>64</td>\n",
       "    </tr>\n",
       "    <tr>\n",
       "      <th>3</th>\n",
       "      <td>3</td>\n",
       "      <td>31772</td>\n",
       "      <td>What fraction of the shape is not shaded? Give...</td>\n",
       "      <td>\\( \\frac{1}{3} \\)</td>\n",
       "      <td>1 goes into everything and 3 goes into nine</td>\n",
       "      <td>True_Neither</td>\n",
       "      <td>NA</td>\n",
       "      <td>True_Neither:NA</td>\n",
       "      <td>64</td>\n",
       "    </tr>\n",
       "    <tr>\n",
       "      <th>4</th>\n",
       "      <td>4</td>\n",
       "      <td>31772</td>\n",
       "      <td>What fraction of the shape is not shaded? Give...</td>\n",
       "      <td>\\( \\frac{1}{3} \\)</td>\n",
       "      <td>1 out of every 3 isn't coloured</td>\n",
       "      <td>True_Correct</td>\n",
       "      <td>NA</td>\n",
       "      <td>True_Correct:NA</td>\n",
       "      <td>37</td>\n",
       "    </tr>\n",
       "  </tbody>\n",
       "</table>\n",
       "</div>"
      ],
      "text/plain": [
       "   row_id  QuestionId                                       QuestionText  \\\n",
       "0       0       31772  What fraction of the shape is not shaded? Give...   \n",
       "1       1       31772  What fraction of the shape is not shaded? Give...   \n",
       "2       2       31772  What fraction of the shape is not shaded? Give...   \n",
       "3       3       31772  What fraction of the shape is not shaded? Give...   \n",
       "4       4       31772  What fraction of the shape is not shaded? Give...   \n",
       "\n",
       "           MC_Answer                                 StudentExplanation  \\\n",
       "0  \\( \\frac{1}{3} \\)                  0ne third is equal to tree nineth   \n",
       "1  \\( \\frac{1}{3} \\)  1 / 3 because 6 over 9 is 2 thirds and 1 third...   \n",
       "2  \\( \\frac{1}{3} \\)  1 3rd is half of 3 6th, so it is simplee to un...   \n",
       "3  \\( \\frac{1}{3} \\)        1 goes into everything and 3 goes into nine   \n",
       "4  \\( \\frac{1}{3} \\)                    1 out of every 3 isn't coloured   \n",
       "\n",
       "       Category Misconception           target  label  \n",
       "0  True_Correct            NA  True_Correct:NA     37  \n",
       "1  True_Correct            NA  True_Correct:NA     37  \n",
       "2  True_Neither            NA  True_Neither:NA     64  \n",
       "3  True_Neither            NA  True_Neither:NA     64  \n",
       "4  True_Correct            NA  True_Correct:NA     37  "
      ]
     },
     "execution_count": 35,
     "metadata": {},
     "output_type": "execute_result"
    }
   ],
   "source": [
    "print(f\"Train shape: {trainDF.shape} with {nClasses} target classes\")\n",
    "trainDF.head()"
   ]
  },
  {
   "cell_type": "markdown",
   "id": "d55c5939",
   "metadata": {
    "papermill": {
     "duration": 0.022712,
     "end_time": "2025-10-02T14:45:46.830660",
     "exception": false,
     "start_time": "2025-10-02T14:45:46.807948",
     "status": "completed"
    },
    "tags": []
   },
   "source": [
    "# Feature Engineering\n",
    "\n",
    "### Add correct answer flag"
   ]
  },
  {
   "cell_type": "code",
   "execution_count": 36,
   "id": "a741abc3",
   "metadata": {
    "execution": {
     "iopub.execute_input": "2025-10-02T14:45:46.877388Z",
     "iopub.status.busy": "2025-10-02T14:45:46.877210Z",
     "iopub.status.idle": "2025-10-02T14:45:47.055876Z",
     "shell.execute_reply": "2025-10-02T14:45:47.055236Z"
    },
    "papermill": {
     "duration": 0.203314,
     "end_time": "2025-10-02T14:45:47.057068",
     "exception": false,
     "start_time": "2025-10-02T14:45:46.853754",
     "status": "completed"
    },
    "tags": []
   },
   "outputs": [
    {
     "data": {
      "text/plain": [
       "0         True\n",
       "1         True\n",
       "2         True\n",
       "3         True\n",
       "4         True\n",
       "         ...  \n",
       "36691    False\n",
       "36692    False\n",
       "36693    False\n",
       "36694    False\n",
       "36695    False\n",
       "Length: 36696, dtype: bool"
      ]
     },
     "execution_count": 36,
     "metadata": {},
     "output_type": "execute_result"
    }
   ],
   "source": [
    "idx = trainDF.apply(lambda row: row[\"Category\"].split(\"_\")[0] , axis=1) == \"True\" # get Category with True \n",
    "idx"
   ]
  },
  {
   "cell_type": "code",
   "execution_count": 37,
   "id": "55abb135",
   "metadata": {
    "execution": {
     "iopub.execute_input": "2025-10-02T14:45:47.109642Z",
     "iopub.status.busy": "2025-10-02T14:45:47.109418Z",
     "iopub.status.idle": "2025-10-02T14:45:47.124399Z",
     "shell.execute_reply": "2025-10-02T14:45:47.123831Z"
    },
    "papermill": {
     "duration": 0.040367,
     "end_time": "2025-10-02T14:45:47.125403",
     "exception": false,
     "start_time": "2025-10-02T14:45:47.085036",
     "status": "completed"
    },
    "tags": []
   },
   "outputs": [
    {
     "data": {
      "text/html": [
       "<div>\n",
       "<style scoped>\n",
       "    .dataframe tbody tr th:only-of-type {\n",
       "        vertical-align: middle;\n",
       "    }\n",
       "\n",
       "    .dataframe tbody tr th {\n",
       "        vertical-align: top;\n",
       "    }\n",
       "\n",
       "    .dataframe thead th {\n",
       "        text-align: right;\n",
       "    }\n",
       "</style>\n",
       "<table border=\"1\" class=\"dataframe\">\n",
       "  <thead>\n",
       "    <tr style=\"text-align: right;\">\n",
       "      <th></th>\n",
       "      <th>row_id</th>\n",
       "      <th>QuestionId</th>\n",
       "      <th>QuestionText</th>\n",
       "      <th>MC_Answer</th>\n",
       "      <th>StudentExplanation</th>\n",
       "      <th>Category</th>\n",
       "      <th>Misconception</th>\n",
       "      <th>target</th>\n",
       "      <th>label</th>\n",
       "    </tr>\n",
       "  </thead>\n",
       "  <tbody>\n",
       "    <tr>\n",
       "      <th>0</th>\n",
       "      <td>0</td>\n",
       "      <td>31772</td>\n",
       "      <td>What fraction of the shape is not shaded? Give...</td>\n",
       "      <td>\\( \\frac{1}{3} \\)</td>\n",
       "      <td>0ne third is equal to tree nineth</td>\n",
       "      <td>True_Correct</td>\n",
       "      <td>NA</td>\n",
       "      <td>True_Correct:NA</td>\n",
       "      <td>37</td>\n",
       "    </tr>\n",
       "    <tr>\n",
       "      <th>1</th>\n",
       "      <td>1</td>\n",
       "      <td>31772</td>\n",
       "      <td>What fraction of the shape is not shaded? Give...</td>\n",
       "      <td>\\( \\frac{1}{3} \\)</td>\n",
       "      <td>1 / 3 because 6 over 9 is 2 thirds and 1 third...</td>\n",
       "      <td>True_Correct</td>\n",
       "      <td>NA</td>\n",
       "      <td>True_Correct:NA</td>\n",
       "      <td>37</td>\n",
       "    </tr>\n",
       "    <tr>\n",
       "      <th>2</th>\n",
       "      <td>2</td>\n",
       "      <td>31772</td>\n",
       "      <td>What fraction of the shape is not shaded? Give...</td>\n",
       "      <td>\\( \\frac{1}{3} \\)</td>\n",
       "      <td>1 3rd is half of 3 6th, so it is simplee to un...</td>\n",
       "      <td>True_Neither</td>\n",
       "      <td>NA</td>\n",
       "      <td>True_Neither:NA</td>\n",
       "      <td>64</td>\n",
       "    </tr>\n",
       "    <tr>\n",
       "      <th>3</th>\n",
       "      <td>3</td>\n",
       "      <td>31772</td>\n",
       "      <td>What fraction of the shape is not shaded? Give...</td>\n",
       "      <td>\\( \\frac{1}{3} \\)</td>\n",
       "      <td>1 goes into everything and 3 goes into nine</td>\n",
       "      <td>True_Neither</td>\n",
       "      <td>NA</td>\n",
       "      <td>True_Neither:NA</td>\n",
       "      <td>64</td>\n",
       "    </tr>\n",
       "    <tr>\n",
       "      <th>4</th>\n",
       "      <td>4</td>\n",
       "      <td>31772</td>\n",
       "      <td>What fraction of the shape is not shaded? Give...</td>\n",
       "      <td>\\( \\frac{1}{3} \\)</td>\n",
       "      <td>1 out of every 3 isn't coloured</td>\n",
       "      <td>True_Correct</td>\n",
       "      <td>NA</td>\n",
       "      <td>True_Correct:NA</td>\n",
       "      <td>37</td>\n",
       "    </tr>\n",
       "    <tr>\n",
       "      <th>...</th>\n",
       "      <td>...</td>\n",
       "      <td>...</td>\n",
       "      <td>...</td>\n",
       "      <td>...</td>\n",
       "      <td>...</td>\n",
       "      <td>...</td>\n",
       "      <td>...</td>\n",
       "      <td>...</td>\n",
       "      <td>...</td>\n",
       "    </tr>\n",
       "    <tr>\n",
       "      <th>36275</th>\n",
       "      <td>36275</td>\n",
       "      <td>109465</td>\n",
       "      <td>The probability of an event occurring is \\( 0....</td>\n",
       "      <td>Likely</td>\n",
       "      <td>very close to one but not one so it cant be ce...</td>\n",
       "      <td>True_Correct</td>\n",
       "      <td>NA</td>\n",
       "      <td>True_Correct:NA</td>\n",
       "      <td>37</td>\n",
       "    </tr>\n",
       "    <tr>\n",
       "      <th>36276</th>\n",
       "      <td>36276</td>\n",
       "      <td>109465</td>\n",
       "      <td>The probability of an event occurring is \\( 0....</td>\n",
       "      <td>Likely</td>\n",
       "      <td>very high probability however it's not certain</td>\n",
       "      <td>True_Neither</td>\n",
       "      <td>NA</td>\n",
       "      <td>True_Neither:NA</td>\n",
       "      <td>64</td>\n",
       "    </tr>\n",
       "    <tr>\n",
       "      <th>36277</th>\n",
       "      <td>36277</td>\n",
       "      <td>109465</td>\n",
       "      <td>The probability of an event occurring is \\( 0....</td>\n",
       "      <td>Likely</td>\n",
       "      <td>we should use likely because we dont know for ...</td>\n",
       "      <td>True_Neither</td>\n",
       "      <td>NA</td>\n",
       "      <td>True_Neither:NA</td>\n",
       "      <td>64</td>\n",
       "    </tr>\n",
       "    <tr>\n",
       "      <th>36278</th>\n",
       "      <td>36278</td>\n",
       "      <td>109465</td>\n",
       "      <td>The probability of an event occurring is \\( 0....</td>\n",
       "      <td>Likely</td>\n",
       "      <td>well 0.9 = 90% and the only way something can ...</td>\n",
       "      <td>True_Correct</td>\n",
       "      <td>NA</td>\n",
       "      <td>True_Correct:NA</td>\n",
       "      <td>37</td>\n",
       "    </tr>\n",
       "    <tr>\n",
       "      <th>36279</th>\n",
       "      <td>36279</td>\n",
       "      <td>109465</td>\n",
       "      <td>The probability of an event occurring is \\( 0....</td>\n",
       "      <td>Likely</td>\n",
       "      <td>well normally if it is in the decimals its the...</td>\n",
       "      <td>True_Correct</td>\n",
       "      <td>NA</td>\n",
       "      <td>True_Correct:NA</td>\n",
       "      <td>37</td>\n",
       "    </tr>\n",
       "  </tbody>\n",
       "</table>\n",
       "<p>20470 rows × 9 columns</p>\n",
       "</div>"
      ],
      "text/plain": [
       "       row_id  QuestionId                                       QuestionText  \\\n",
       "0           0       31772  What fraction of the shape is not shaded? Give...   \n",
       "1           1       31772  What fraction of the shape is not shaded? Give...   \n",
       "2           2       31772  What fraction of the shape is not shaded? Give...   \n",
       "3           3       31772  What fraction of the shape is not shaded? Give...   \n",
       "4           4       31772  What fraction of the shape is not shaded? Give...   \n",
       "...       ...         ...                                                ...   \n",
       "36275   36275      109465  The probability of an event occurring is \\( 0....   \n",
       "36276   36276      109465  The probability of an event occurring is \\( 0....   \n",
       "36277   36277      109465  The probability of an event occurring is \\( 0....   \n",
       "36278   36278      109465  The probability of an event occurring is \\( 0....   \n",
       "36279   36279      109465  The probability of an event occurring is \\( 0....   \n",
       "\n",
       "               MC_Answer                                 StudentExplanation  \\\n",
       "0      \\( \\frac{1}{3} \\)                  0ne third is equal to tree nineth   \n",
       "1      \\( \\frac{1}{3} \\)  1 / 3 because 6 over 9 is 2 thirds and 1 third...   \n",
       "2      \\( \\frac{1}{3} \\)  1 3rd is half of 3 6th, so it is simplee to un...   \n",
       "3      \\( \\frac{1}{3} \\)        1 goes into everything and 3 goes into nine   \n",
       "4      \\( \\frac{1}{3} \\)                    1 out of every 3 isn't coloured   \n",
       "...                  ...                                                ...   \n",
       "36275             Likely  very close to one but not one so it cant be ce...   \n",
       "36276             Likely     very high probability however it's not certain   \n",
       "36277             Likely  we should use likely because we dont know for ...   \n",
       "36278             Likely  well 0.9 = 90% and the only way something can ...   \n",
       "36279             Likely  well normally if it is in the decimals its the...   \n",
       "\n",
       "           Category Misconception           target  label  \n",
       "0      True_Correct            NA  True_Correct:NA     37  \n",
       "1      True_Correct            NA  True_Correct:NA     37  \n",
       "2      True_Neither            NA  True_Neither:NA     64  \n",
       "3      True_Neither            NA  True_Neither:NA     64  \n",
       "4      True_Correct            NA  True_Correct:NA     37  \n",
       "...             ...           ...              ...    ...  \n",
       "36275  True_Correct            NA  True_Correct:NA     37  \n",
       "36276  True_Neither            NA  True_Neither:NA     64  \n",
       "36277  True_Neither            NA  True_Neither:NA     64  \n",
       "36278  True_Correct            NA  True_Correct:NA     37  \n",
       "36279  True_Correct            NA  True_Correct:NA     37  \n",
       "\n",
       "[20470 rows x 9 columns]"
      ]
     },
     "execution_count": 37,
     "metadata": {},
     "output_type": "execute_result"
    }
   ],
   "source": [
    "correct = trainDF.loc[idx].copy()\n",
    "correct"
   ]
  },
  {
   "cell_type": "code",
   "execution_count": 38,
   "id": "4f705dfa",
   "metadata": {
    "execution": {
     "iopub.execute_input": "2025-10-02T14:45:47.173892Z",
     "iopub.status.busy": "2025-10-02T14:45:47.173655Z",
     "iopub.status.idle": "2025-10-02T14:45:47.188409Z",
     "shell.execute_reply": "2025-10-02T14:45:47.187860Z"
    },
    "papermill": {
     "duration": 0.03998,
     "end_time": "2025-10-02T14:45:47.189395",
     "exception": false,
     "start_time": "2025-10-02T14:45:47.149415",
     "status": "completed"
    },
    "tags": []
   },
   "outputs": [
    {
     "data": {
      "text/html": [
       "<div>\n",
       "<style scoped>\n",
       "    .dataframe tbody tr th:only-of-type {\n",
       "        vertical-align: middle;\n",
       "    }\n",
       "\n",
       "    .dataframe tbody tr th {\n",
       "        vertical-align: top;\n",
       "    }\n",
       "\n",
       "    .dataframe thead th {\n",
       "        text-align: right;\n",
       "    }\n",
       "</style>\n",
       "<table border=\"1\" class=\"dataframe\">\n",
       "  <thead>\n",
       "    <tr style=\"text-align: right;\">\n",
       "      <th></th>\n",
       "      <th>row_id</th>\n",
       "      <th>QuestionId</th>\n",
       "      <th>QuestionText</th>\n",
       "      <th>MC_Answer</th>\n",
       "      <th>StudentExplanation</th>\n",
       "      <th>Category</th>\n",
       "      <th>Misconception</th>\n",
       "      <th>target</th>\n",
       "      <th>label</th>\n",
       "      <th>c</th>\n",
       "    </tr>\n",
       "  </thead>\n",
       "  <tbody>\n",
       "    <tr>\n",
       "      <th>61</th>\n",
       "      <td>61</td>\n",
       "      <td>31772</td>\n",
       "      <td>What fraction of the shape is not shaded? Give...</td>\n",
       "      <td>\\( \\frac{1}{3} \\)</td>\n",
       "      <td>3 goes into 9 three times which makes it one t...</td>\n",
       "      <td>True_Correct</td>\n",
       "      <td>NA</td>\n",
       "      <td>True_Correct:NA</td>\n",
       "      <td>37</td>\n",
       "      <td>2348</td>\n",
       "    </tr>\n",
       "    <tr>\n",
       "      <th>7</th>\n",
       "      <td>7</td>\n",
       "      <td>31772</td>\n",
       "      <td>What fraction of the shape is not shaded? Give...</td>\n",
       "      <td>\\( \\frac{1}{3} \\)</td>\n",
       "      <td>1/3 because 3/9 simplified divided by 3 would ...</td>\n",
       "      <td>True_Correct</td>\n",
       "      <td>NA</td>\n",
       "      <td>True_Correct:NA</td>\n",
       "      <td>37</td>\n",
       "      <td>2348</td>\n",
       "    </tr>\n",
       "    <tr>\n",
       "      <th>6</th>\n",
       "      <td>6</td>\n",
       "      <td>31772</td>\n",
       "      <td>What fraction of the shape is not shaded? Give...</td>\n",
       "      <td>\\( \\frac{1}{3} \\)</td>\n",
       "      <td>1/3 and 3/9 are not shaded but they are equal ...</td>\n",
       "      <td>True_Correct</td>\n",
       "      <td>NA</td>\n",
       "      <td>True_Correct:NA</td>\n",
       "      <td>37</td>\n",
       "      <td>2348</td>\n",
       "    </tr>\n",
       "    <tr>\n",
       "      <th>5</th>\n",
       "      <td>5</td>\n",
       "      <td>31772</td>\n",
       "      <td>What fraction of the shape is not shaded? Give...</td>\n",
       "      <td>\\( \\frac{1}{3} \\)</td>\n",
       "      <td>1 third because 6 over 9 is 2 thirds and 1 thi...</td>\n",
       "      <td>True_Correct</td>\n",
       "      <td>NA</td>\n",
       "      <td>True_Correct:NA</td>\n",
       "      <td>37</td>\n",
       "      <td>2348</td>\n",
       "    </tr>\n",
       "    <tr>\n",
       "      <th>60</th>\n",
       "      <td>60</td>\n",
       "      <td>31772</td>\n",
       "      <td>What fraction of the shape is not shaded? Give...</td>\n",
       "      <td>\\( \\frac{1}{3} \\)</td>\n",
       "      <td>3 from the 9 triangles are not shaded and 3/9 ...</td>\n",
       "      <td>True_Correct</td>\n",
       "      <td>NA</td>\n",
       "      <td>True_Correct:NA</td>\n",
       "      <td>37</td>\n",
       "      <td>2348</td>\n",
       "    </tr>\n",
       "    <tr>\n",
       "      <th>...</th>\n",
       "      <td>...</td>\n",
       "      <td>...</td>\n",
       "      <td>...</td>\n",
       "      <td>...</td>\n",
       "      <td>...</td>\n",
       "      <td>...</td>\n",
       "      <td>...</td>\n",
       "      <td>...</td>\n",
       "      <td>...</td>\n",
       "      <td>...</td>\n",
       "    </tr>\n",
       "    <tr>\n",
       "      <th>14338</th>\n",
       "      <td>14338</td>\n",
       "      <td>31778</td>\n",
       "      <td>\\( \\frac{A}{10}=\\frac{9}{15} \\) What is the va...</td>\n",
       "      <td>\\( 9 \\)</td>\n",
       "      <td>It is six because they are both equal to 3over5.</td>\n",
       "      <td>True_Correct</td>\n",
       "      <td>NA</td>\n",
       "      <td>True_Correct:NA</td>\n",
       "      <td>37</td>\n",
       "      <td>12</td>\n",
       "    </tr>\n",
       "    <tr>\n",
       "      <th>14335</th>\n",
       "      <td>14335</td>\n",
       "      <td>31778</td>\n",
       "      <td>\\( \\frac{A}{10}=\\frac{9}{15} \\) What is the va...</td>\n",
       "      <td>\\( 9 \\)</td>\n",
       "      <td>Il believe that is the ansewer because I calcu...</td>\n",
       "      <td>True_Neither</td>\n",
       "      <td>NA</td>\n",
       "      <td>True_Neither:NA</td>\n",
       "      <td>64</td>\n",
       "      <td>12</td>\n",
       "    </tr>\n",
       "    <tr>\n",
       "      <th>14321</th>\n",
       "      <td>14321</td>\n",
       "      <td>31778</td>\n",
       "      <td>\\( \\frac{A}{10}=\\frac{9}{15} \\) What is the va...</td>\n",
       "      <td>\\( 9 \\)</td>\n",
       "      <td>I think it's C because 6/10 is the same as 9/15.</td>\n",
       "      <td>True_Correct</td>\n",
       "      <td>NA</td>\n",
       "      <td>True_Correct:NA</td>\n",
       "      <td>37</td>\n",
       "      <td>12</td>\n",
       "    </tr>\n",
       "    <tr>\n",
       "      <th>14280</th>\n",
       "      <td>14280</td>\n",
       "      <td>31778</td>\n",
       "      <td>\\( \\frac{A}{10}=\\frac{9}{15} \\) What is the va...</td>\n",
       "      <td>\\( 9 \\)</td>\n",
       "      <td>Because 10 is 2 / 3 of 15, and 2 is 6.</td>\n",
       "      <td>True_Neither</td>\n",
       "      <td>NA</td>\n",
       "      <td>True_Neither:NA</td>\n",
       "      <td>64</td>\n",
       "      <td>12</td>\n",
       "    </tr>\n",
       "    <tr>\n",
       "      <th>14305</th>\n",
       "      <td>14305</td>\n",
       "      <td>31778</td>\n",
       "      <td>\\( \\frac{A}{10}=\\frac{9}{15} \\) What is the va...</td>\n",
       "      <td>\\( 9 \\)</td>\n",
       "      <td>I divided 9/15 by 3, then got 3/5 and timsed i...</td>\n",
       "      <td>True_Correct</td>\n",
       "      <td>NA</td>\n",
       "      <td>True_Correct:NA</td>\n",
       "      <td>37</td>\n",
       "      <td>12</td>\n",
       "    </tr>\n",
       "  </tbody>\n",
       "</table>\n",
       "<p>20470 rows × 10 columns</p>\n",
       "</div>"
      ],
      "text/plain": [
       "       row_id  QuestionId                                       QuestionText  \\\n",
       "61         61       31772  What fraction of the shape is not shaded? Give...   \n",
       "7           7       31772  What fraction of the shape is not shaded? Give...   \n",
       "6           6       31772  What fraction of the shape is not shaded? Give...   \n",
       "5           5       31772  What fraction of the shape is not shaded? Give...   \n",
       "60         60       31772  What fraction of the shape is not shaded? Give...   \n",
       "...       ...         ...                                                ...   \n",
       "14338   14338       31778  \\( \\frac{A}{10}=\\frac{9}{15} \\) What is the va...   \n",
       "14335   14335       31778  \\( \\frac{A}{10}=\\frac{9}{15} \\) What is the va...   \n",
       "14321   14321       31778  \\( \\frac{A}{10}=\\frac{9}{15} \\) What is the va...   \n",
       "14280   14280       31778  \\( \\frac{A}{10}=\\frac{9}{15} \\) What is the va...   \n",
       "14305   14305       31778  \\( \\frac{A}{10}=\\frac{9}{15} \\) What is the va...   \n",
       "\n",
       "               MC_Answer                                 StudentExplanation  \\\n",
       "61     \\( \\frac{1}{3} \\)  3 goes into 9 three times which makes it one t...   \n",
       "7      \\( \\frac{1}{3} \\)  1/3 because 3/9 simplified divided by 3 would ...   \n",
       "6      \\( \\frac{1}{3} \\)  1/3 and 3/9 are not shaded but they are equal ...   \n",
       "5      \\( \\frac{1}{3} \\)  1 third because 6 over 9 is 2 thirds and 1 thi...   \n",
       "60     \\( \\frac{1}{3} \\)  3 from the 9 triangles are not shaded and 3/9 ...   \n",
       "...                  ...                                                ...   \n",
       "14338            \\( 9 \\)   It is six because they are both equal to 3over5.   \n",
       "14335            \\( 9 \\)  Il believe that is the ansewer because I calcu...   \n",
       "14321            \\( 9 \\)   I think it's C because 6/10 is the same as 9/15.   \n",
       "14280            \\( 9 \\)             Because 10 is 2 / 3 of 15, and 2 is 6.   \n",
       "14305            \\( 9 \\)  I divided 9/15 by 3, then got 3/5 and timsed i...   \n",
       "\n",
       "           Category Misconception           target  label     c  \n",
       "61     True_Correct            NA  True_Correct:NA     37  2348  \n",
       "7      True_Correct            NA  True_Correct:NA     37  2348  \n",
       "6      True_Correct            NA  True_Correct:NA     37  2348  \n",
       "5      True_Correct            NA  True_Correct:NA     37  2348  \n",
       "60     True_Correct            NA  True_Correct:NA     37  2348  \n",
       "...             ...           ...              ...    ...   ...  \n",
       "14338  True_Correct            NA  True_Correct:NA     37    12  \n",
       "14335  True_Neither            NA  True_Neither:NA     64    12  \n",
       "14321  True_Correct            NA  True_Correct:NA     37    12  \n",
       "14280  True_Neither            NA  True_Neither:NA     64    12  \n",
       "14305  True_Correct            NA  True_Correct:NA     37    12  \n",
       "\n",
       "[20470 rows x 10 columns]"
      ]
     },
     "execution_count": 38,
     "metadata": {},
     "output_type": "execute_result"
    }
   ],
   "source": [
    "# group MC anwser with count \n",
    "correct['c'] = correct.groupby(['QuestionId','MC_Answer']).MC_Answer.transform('count')\n",
    "correct = correct.sort_values('c',ascending=False) # sort value \n",
    "correct"
   ]
  },
  {
   "cell_type": "code",
   "execution_count": 39,
   "id": "5cf85bf8",
   "metadata": {
    "execution": {
     "iopub.execute_input": "2025-10-02T14:45:47.237880Z",
     "iopub.status.busy": "2025-10-02T14:45:47.237678Z",
     "iopub.status.idle": "2025-10-02T14:45:47.245202Z",
     "shell.execute_reply": "2025-10-02T14:45:47.244642Z"
    },
    "papermill": {
     "duration": 0.032764,
     "end_time": "2025-10-02T14:45:47.246260",
     "exception": false,
     "start_time": "2025-10-02T14:45:47.213496",
     "status": "completed"
    },
    "tags": []
   },
   "outputs": [
    {
     "data": {
      "text/html": [
       "<div>\n",
       "<style scoped>\n",
       "    .dataframe tbody tr th:only-of-type {\n",
       "        vertical-align: middle;\n",
       "    }\n",
       "\n",
       "    .dataframe tbody tr th {\n",
       "        vertical-align: top;\n",
       "    }\n",
       "\n",
       "    .dataframe thead th {\n",
       "        text-align: right;\n",
       "    }\n",
       "</style>\n",
       "<table border=\"1\" class=\"dataframe\">\n",
       "  <thead>\n",
       "    <tr style=\"text-align: right;\">\n",
       "      <th></th>\n",
       "      <th>QuestionId</th>\n",
       "      <th>MC_Answer</th>\n",
       "    </tr>\n",
       "  </thead>\n",
       "  <tbody>\n",
       "    <tr>\n",
       "      <th>61</th>\n",
       "      <td>31772</td>\n",
       "      <td>\\( \\frac{1}{3} \\)</td>\n",
       "    </tr>\n",
       "    <tr>\n",
       "      <th>7430</th>\n",
       "      <td>31774</td>\n",
       "      <td>\\( \\frac{1}{12} \\)</td>\n",
       "    </tr>\n",
       "    <tr>\n",
       "      <th>10770</th>\n",
       "      <td>31777</td>\n",
       "      <td>\\( 72 \\)</td>\n",
       "    </tr>\n",
       "    <tr>\n",
       "      <th>14266</th>\n",
       "      <td>31778</td>\n",
       "      <td>\\( 6 \\)</td>\n",
       "    </tr>\n",
       "    <tr>\n",
       "      <th>14440</th>\n",
       "      <td>32829</td>\n",
       "      <td>\\( 12 \\)</td>\n",
       "    </tr>\n",
       "    <tr>\n",
       "      <th>22004</th>\n",
       "      <td>32835</td>\n",
       "      <td>\\( 6.2 \\)</td>\n",
       "    </tr>\n",
       "    <tr>\n",
       "      <th>24278</th>\n",
       "      <td>33472</td>\n",
       "      <td>\\( \\frac{11}{15} \\)</td>\n",
       "    </tr>\n",
       "    <tr>\n",
       "      <th>18135</th>\n",
       "      <td>32833</td>\n",
       "      <td>\\( 3 \\frac{1}{3} \\)</td>\n",
       "    </tr>\n",
       "    <tr>\n",
       "      <th>33183</th>\n",
       "      <td>91695</td>\n",
       "      <td>\\( 26 \\)</td>\n",
       "    </tr>\n",
       "    <tr>\n",
       "      <th>30937</th>\n",
       "      <td>89443</td>\n",
       "      <td>\\( -3 \\)</td>\n",
       "    </tr>\n",
       "    <tr>\n",
       "      <th>22198</th>\n",
       "      <td>33471</td>\n",
       "      <td>\\( 15 \\)</td>\n",
       "    </tr>\n",
       "    <tr>\n",
       "      <th>26981</th>\n",
       "      <td>33474</td>\n",
       "      <td>\\( \\frac{1}{3} \\times \\frac{2}{3} \\)</td>\n",
       "    </tr>\n",
       "    <tr>\n",
       "      <th>36279</th>\n",
       "      <td>109465</td>\n",
       "      <td>Likely</td>\n",
       "    </tr>\n",
       "    <tr>\n",
       "      <th>28530</th>\n",
       "      <td>76870</td>\n",
       "      <td>\\( 10 \\)</td>\n",
       "    </tr>\n",
       "    <tr>\n",
       "      <th>34997</th>\n",
       "      <td>104665</td>\n",
       "      <td>\\( 48 \\) hours</td>\n",
       "    </tr>\n",
       "  </tbody>\n",
       "</table>\n",
       "</div>"
      ],
      "text/plain": [
       "       QuestionId                             MC_Answer\n",
       "61          31772                     \\( \\frac{1}{3} \\)\n",
       "7430        31774                    \\( \\frac{1}{12} \\)\n",
       "10770       31777                              \\( 72 \\)\n",
       "14266       31778                               \\( 6 \\)\n",
       "14440       32829                              \\( 12 \\)\n",
       "22004       32835                             \\( 6.2 \\)\n",
       "24278       33472                   \\( \\frac{11}{15} \\)\n",
       "18135       32833                   \\( 3 \\frac{1}{3} \\)\n",
       "33183       91695                              \\( 26 \\)\n",
       "30937       89443                              \\( -3 \\)\n",
       "22198       33471                              \\( 15 \\)\n",
       "26981       33474  \\( \\frac{1}{3} \\times \\frac{2}{3} \\)\n",
       "36279      109465                                Likely\n",
       "28530       76870                              \\( 10 \\)\n",
       "34997      104665                        \\( 48 \\) hours"
      ]
     },
     "execution_count": 39,
     "metadata": {},
     "output_type": "execute_result"
    }
   ],
   "source": [
    "# Drop duplicateds ID\n",
    "correct = correct.drop_duplicates(['QuestionId']) #drop dprlicate id\n",
    "correct = correct[['QuestionId','MC_Answer']]\n",
    "correct"
   ]
  },
  {
   "cell_type": "code",
   "execution_count": 40,
   "id": "0e64d1aa",
   "metadata": {
    "execution": {
     "iopub.execute_input": "2025-10-02T14:45:47.294485Z",
     "iopub.status.busy": "2025-10-02T14:45:47.294308Z",
     "iopub.status.idle": "2025-10-02T14:45:47.300819Z",
     "shell.execute_reply": "2025-10-02T14:45:47.300312Z"
    },
    "papermill": {
     "duration": 0.031834,
     "end_time": "2025-10-02T14:45:47.301786",
     "exception": false,
     "start_time": "2025-10-02T14:45:47.269952",
     "status": "completed"
    },
    "tags": []
   },
   "outputs": [
    {
     "data": {
      "text/html": [
       "<div>\n",
       "<style scoped>\n",
       "    .dataframe tbody tr th:only-of-type {\n",
       "        vertical-align: middle;\n",
       "    }\n",
       "\n",
       "    .dataframe tbody tr th {\n",
       "        vertical-align: top;\n",
       "    }\n",
       "\n",
       "    .dataframe thead th {\n",
       "        text-align: right;\n",
       "    }\n",
       "</style>\n",
       "<table border=\"1\" class=\"dataframe\">\n",
       "  <thead>\n",
       "    <tr style=\"text-align: right;\">\n",
       "      <th></th>\n",
       "      <th>QuestionId</th>\n",
       "      <th>MC_Answer</th>\n",
       "      <th>is_correct</th>\n",
       "    </tr>\n",
       "  </thead>\n",
       "  <tbody>\n",
       "    <tr>\n",
       "      <th>61</th>\n",
       "      <td>31772</td>\n",
       "      <td>\\( \\frac{1}{3} \\)</td>\n",
       "      <td>1</td>\n",
       "    </tr>\n",
       "    <tr>\n",
       "      <th>7430</th>\n",
       "      <td>31774</td>\n",
       "      <td>\\( \\frac{1}{12} \\)</td>\n",
       "      <td>1</td>\n",
       "    </tr>\n",
       "    <tr>\n",
       "      <th>10770</th>\n",
       "      <td>31777</td>\n",
       "      <td>\\( 72 \\)</td>\n",
       "      <td>1</td>\n",
       "    </tr>\n",
       "    <tr>\n",
       "      <th>14266</th>\n",
       "      <td>31778</td>\n",
       "      <td>\\( 6 \\)</td>\n",
       "      <td>1</td>\n",
       "    </tr>\n",
       "    <tr>\n",
       "      <th>14440</th>\n",
       "      <td>32829</td>\n",
       "      <td>\\( 12 \\)</td>\n",
       "      <td>1</td>\n",
       "    </tr>\n",
       "    <tr>\n",
       "      <th>22004</th>\n",
       "      <td>32835</td>\n",
       "      <td>\\( 6.2 \\)</td>\n",
       "      <td>1</td>\n",
       "    </tr>\n",
       "    <tr>\n",
       "      <th>24278</th>\n",
       "      <td>33472</td>\n",
       "      <td>\\( \\frac{11}{15} \\)</td>\n",
       "      <td>1</td>\n",
       "    </tr>\n",
       "    <tr>\n",
       "      <th>18135</th>\n",
       "      <td>32833</td>\n",
       "      <td>\\( 3 \\frac{1}{3} \\)</td>\n",
       "      <td>1</td>\n",
       "    </tr>\n",
       "    <tr>\n",
       "      <th>33183</th>\n",
       "      <td>91695</td>\n",
       "      <td>\\( 26 \\)</td>\n",
       "      <td>1</td>\n",
       "    </tr>\n",
       "    <tr>\n",
       "      <th>30937</th>\n",
       "      <td>89443</td>\n",
       "      <td>\\( -3 \\)</td>\n",
       "      <td>1</td>\n",
       "    </tr>\n",
       "    <tr>\n",
       "      <th>22198</th>\n",
       "      <td>33471</td>\n",
       "      <td>\\( 15 \\)</td>\n",
       "      <td>1</td>\n",
       "    </tr>\n",
       "    <tr>\n",
       "      <th>26981</th>\n",
       "      <td>33474</td>\n",
       "      <td>\\( \\frac{1}{3} \\times \\frac{2}{3} \\)</td>\n",
       "      <td>1</td>\n",
       "    </tr>\n",
       "    <tr>\n",
       "      <th>36279</th>\n",
       "      <td>109465</td>\n",
       "      <td>Likely</td>\n",
       "      <td>1</td>\n",
       "    </tr>\n",
       "    <tr>\n",
       "      <th>28530</th>\n",
       "      <td>76870</td>\n",
       "      <td>\\( 10 \\)</td>\n",
       "      <td>1</td>\n",
       "    </tr>\n",
       "    <tr>\n",
       "      <th>34997</th>\n",
       "      <td>104665</td>\n",
       "      <td>\\( 48 \\) hours</td>\n",
       "      <td>1</td>\n",
       "    </tr>\n",
       "  </tbody>\n",
       "</table>\n",
       "</div>"
      ],
      "text/plain": [
       "       QuestionId                             MC_Answer  is_correct\n",
       "61          31772                     \\( \\frac{1}{3} \\)           1\n",
       "7430        31774                    \\( \\frac{1}{12} \\)           1\n",
       "10770       31777                              \\( 72 \\)           1\n",
       "14266       31778                               \\( 6 \\)           1\n",
       "14440       32829                              \\( 12 \\)           1\n",
       "22004       32835                             \\( 6.2 \\)           1\n",
       "24278       33472                   \\( \\frac{11}{15} \\)           1\n",
       "18135       32833                   \\( 3 \\frac{1}{3} \\)           1\n",
       "33183       91695                              \\( 26 \\)           1\n",
       "30937       89443                              \\( -3 \\)           1\n",
       "22198       33471                              \\( 15 \\)           1\n",
       "26981       33474  \\( \\frac{1}{3} \\times \\frac{2}{3} \\)           1\n",
       "36279      109465                                Likely           1\n",
       "28530       76870                              \\( 10 \\)           1\n",
       "34997      104665                        \\( 48 \\) hours           1"
      ]
     },
     "execution_count": 40,
     "metadata": {},
     "output_type": "execute_result"
    }
   ],
   "source": [
    "# set correct flag = 1\n",
    "correct[\"is_correct\"] = 1\n",
    "correct"
   ]
  },
  {
   "cell_type": "markdown",
   "id": "ca5a6f19",
   "metadata": {
    "papermill": {
     "duration": 0.024626,
     "end_time": "2025-10-02T14:45:47.350536",
     "exception": false,
     "start_time": "2025-10-02T14:45:47.325910",
     "status": "completed"
    },
    "tags": []
   },
   "source": [
    "### Merge training data"
   ]
  },
  {
   "cell_type": "code",
   "execution_count": 41,
   "id": "915a3d0e",
   "metadata": {
    "execution": {
     "iopub.execute_input": "2025-10-02T14:45:47.400485Z",
     "iopub.status.busy": "2025-10-02T14:45:47.399909Z",
     "iopub.status.idle": "2025-10-02T14:45:47.419779Z",
     "shell.execute_reply": "2025-10-02T14:45:47.419268Z"
    },
    "papermill": {
     "duration": 0.045463,
     "end_time": "2025-10-02T14:45:47.420873",
     "exception": false,
     "start_time": "2025-10-02T14:45:47.375410",
     "status": "completed"
    },
    "tags": []
   },
   "outputs": [],
   "source": [
    "\n",
    "trainDF = trainDF.merge(correct, on=['QuestionId','MC_Answer'], how='left')\n",
    "trainDF[\"is_correct\"] = trainDF[\"is_correct\"].fillna(0) # fill miss data to 0"
   ]
  },
  {
   "cell_type": "code",
   "execution_count": 42,
   "id": "a93dee20",
   "metadata": {
    "execution": {
     "iopub.execute_input": "2025-10-02T14:45:47.470713Z",
     "iopub.status.busy": "2025-10-02T14:45:47.470151Z",
     "iopub.status.idle": "2025-10-02T14:45:47.473726Z",
     "shell.execute_reply": "2025-10-02T14:45:47.473201Z"
    },
    "papermill": {
     "duration": 0.029289,
     "end_time": "2025-10-02T14:45:47.474872",
     "exception": false,
     "start_time": "2025-10-02T14:45:47.445583",
     "status": "completed"
    },
    "tags": []
   },
   "outputs": [],
   "source": [
    "trainDF[\"is_correct\"] = trainDF[\"is_correct\"].astype(int) # change is_correct data type to int"
   ]
  },
  {
   "cell_type": "code",
   "execution_count": 43,
   "id": "a6090bb0",
   "metadata": {
    "execution": {
     "iopub.execute_input": "2025-10-02T14:45:47.526260Z",
     "iopub.status.busy": "2025-10-02T14:45:47.525815Z",
     "iopub.status.idle": "2025-10-02T14:45:47.535596Z",
     "shell.execute_reply": "2025-10-02T14:45:47.534952Z"
    },
    "papermill": {
     "duration": 0.037536,
     "end_time": "2025-10-02T14:45:47.536652",
     "exception": false,
     "start_time": "2025-10-02T14:45:47.499116",
     "status": "completed"
    },
    "tags": []
   },
   "outputs": [
    {
     "data": {
      "text/html": [
       "<div>\n",
       "<style scoped>\n",
       "    .dataframe tbody tr th:only-of-type {\n",
       "        vertical-align: middle;\n",
       "    }\n",
       "\n",
       "    .dataframe tbody tr th {\n",
       "        vertical-align: top;\n",
       "    }\n",
       "\n",
       "    .dataframe thead th {\n",
       "        text-align: right;\n",
       "    }\n",
       "</style>\n",
       "<table border=\"1\" class=\"dataframe\">\n",
       "  <thead>\n",
       "    <tr style=\"text-align: right;\">\n",
       "      <th></th>\n",
       "      <th>row_id</th>\n",
       "      <th>QuestionId</th>\n",
       "      <th>QuestionText</th>\n",
       "      <th>MC_Answer</th>\n",
       "      <th>StudentExplanation</th>\n",
       "      <th>Category</th>\n",
       "      <th>Misconception</th>\n",
       "      <th>target</th>\n",
       "      <th>label</th>\n",
       "      <th>is_correct</th>\n",
       "    </tr>\n",
       "  </thead>\n",
       "  <tbody>\n",
       "    <tr>\n",
       "      <th>0</th>\n",
       "      <td>0</td>\n",
       "      <td>31772</td>\n",
       "      <td>What fraction of the shape is not shaded? Give...</td>\n",
       "      <td>\\( \\frac{1}{3} \\)</td>\n",
       "      <td>0ne third is equal to tree nineth</td>\n",
       "      <td>True_Correct</td>\n",
       "      <td>NA</td>\n",
       "      <td>True_Correct:NA</td>\n",
       "      <td>37</td>\n",
       "      <td>1</td>\n",
       "    </tr>\n",
       "    <tr>\n",
       "      <th>1</th>\n",
       "      <td>1</td>\n",
       "      <td>31772</td>\n",
       "      <td>What fraction of the shape is not shaded? Give...</td>\n",
       "      <td>\\( \\frac{1}{3} \\)</td>\n",
       "      <td>1 / 3 because 6 over 9 is 2 thirds and 1 third...</td>\n",
       "      <td>True_Correct</td>\n",
       "      <td>NA</td>\n",
       "      <td>True_Correct:NA</td>\n",
       "      <td>37</td>\n",
       "      <td>1</td>\n",
       "    </tr>\n",
       "    <tr>\n",
       "      <th>2</th>\n",
       "      <td>2</td>\n",
       "      <td>31772</td>\n",
       "      <td>What fraction of the shape is not shaded? Give...</td>\n",
       "      <td>\\( \\frac{1}{3} \\)</td>\n",
       "      <td>1 3rd is half of 3 6th, so it is simplee to un...</td>\n",
       "      <td>True_Neither</td>\n",
       "      <td>NA</td>\n",
       "      <td>True_Neither:NA</td>\n",
       "      <td>64</td>\n",
       "      <td>1</td>\n",
       "    </tr>\n",
       "    <tr>\n",
       "      <th>3</th>\n",
       "      <td>3</td>\n",
       "      <td>31772</td>\n",
       "      <td>What fraction of the shape is not shaded? Give...</td>\n",
       "      <td>\\( \\frac{1}{3} \\)</td>\n",
       "      <td>1 goes into everything and 3 goes into nine</td>\n",
       "      <td>True_Neither</td>\n",
       "      <td>NA</td>\n",
       "      <td>True_Neither:NA</td>\n",
       "      <td>64</td>\n",
       "      <td>1</td>\n",
       "    </tr>\n",
       "    <tr>\n",
       "      <th>4</th>\n",
       "      <td>4</td>\n",
       "      <td>31772</td>\n",
       "      <td>What fraction of the shape is not shaded? Give...</td>\n",
       "      <td>\\( \\frac{1}{3} \\)</td>\n",
       "      <td>1 out of every 3 isn't coloured</td>\n",
       "      <td>True_Correct</td>\n",
       "      <td>NA</td>\n",
       "      <td>True_Correct:NA</td>\n",
       "      <td>37</td>\n",
       "      <td>1</td>\n",
       "    </tr>\n",
       "    <tr>\n",
       "      <th>...</th>\n",
       "      <td>...</td>\n",
       "      <td>...</td>\n",
       "      <td>...</td>\n",
       "      <td>...</td>\n",
       "      <td>...</td>\n",
       "      <td>...</td>\n",
       "      <td>...</td>\n",
       "      <td>...</td>\n",
       "      <td>...</td>\n",
       "      <td>...</td>\n",
       "    </tr>\n",
       "    <tr>\n",
       "      <th>36691</th>\n",
       "      <td>36691</td>\n",
       "      <td>109465</td>\n",
       "      <td>The probability of an event occurring is \\( 0....</td>\n",
       "      <td>Unlikely</td>\n",
       "      <td>very unlikely.</td>\n",
       "      <td>False_Neither</td>\n",
       "      <td>NA</td>\n",
       "      <td>False_Neither:NA</td>\n",
       "      <td>36</td>\n",
       "      <td>0</td>\n",
       "    </tr>\n",
       "    <tr>\n",
       "      <th>36692</th>\n",
       "      <td>36692</td>\n",
       "      <td>109465</td>\n",
       "      <td>The probability of an event occurring is \\( 0....</td>\n",
       "      <td>Unlikely</td>\n",
       "      <td>yea pretty much unlikely from what it seems.</td>\n",
       "      <td>False_Neither</td>\n",
       "      <td>NA</td>\n",
       "      <td>False_Neither:NA</td>\n",
       "      <td>36</td>\n",
       "      <td>0</td>\n",
       "    </tr>\n",
       "    <tr>\n",
       "      <th>36693</th>\n",
       "      <td>36693</td>\n",
       "      <td>109465</td>\n",
       "      <td>The probability of an event occurring is \\( 0....</td>\n",
       "      <td>Unlikely</td>\n",
       "      <td>yeah pretty unlikelyy from what it seems.</td>\n",
       "      <td>False_Neither</td>\n",
       "      <td>NA</td>\n",
       "      <td>False_Neither:NA</td>\n",
       "      <td>36</td>\n",
       "      <td>0</td>\n",
       "    </tr>\n",
       "    <tr>\n",
       "      <th>36694</th>\n",
       "      <td>36694</td>\n",
       "      <td>109465</td>\n",
       "      <td>The probability of an event occurring is \\( 0....</td>\n",
       "      <td>Unlikely</td>\n",
       "      <td>you have 9 other numbers to get.</td>\n",
       "      <td>False_Neither</td>\n",
       "      <td>NA</td>\n",
       "      <td>False_Neither:NA</td>\n",
       "      <td>36</td>\n",
       "      <td>0</td>\n",
       "    </tr>\n",
       "    <tr>\n",
       "      <th>36695</th>\n",
       "      <td>36695</td>\n",
       "      <td>109465</td>\n",
       "      <td>The probability of an event occurring is \\( 0....</td>\n",
       "      <td>Unlikely</td>\n",
       "      <td>you have a chanve but it is not i think this b...</td>\n",
       "      <td>False_Neither</td>\n",
       "      <td>NA</td>\n",
       "      <td>False_Neither:NA</td>\n",
       "      <td>36</td>\n",
       "      <td>0</td>\n",
       "    </tr>\n",
       "  </tbody>\n",
       "</table>\n",
       "<p>36696 rows × 10 columns</p>\n",
       "</div>"
      ],
      "text/plain": [
       "       row_id  QuestionId                                       QuestionText  \\\n",
       "0           0       31772  What fraction of the shape is not shaded? Give...   \n",
       "1           1       31772  What fraction of the shape is not shaded? Give...   \n",
       "2           2       31772  What fraction of the shape is not shaded? Give...   \n",
       "3           3       31772  What fraction of the shape is not shaded? Give...   \n",
       "4           4       31772  What fraction of the shape is not shaded? Give...   \n",
       "...       ...         ...                                                ...   \n",
       "36691   36691      109465  The probability of an event occurring is \\( 0....   \n",
       "36692   36692      109465  The probability of an event occurring is \\( 0....   \n",
       "36693   36693      109465  The probability of an event occurring is \\( 0....   \n",
       "36694   36694      109465  The probability of an event occurring is \\( 0....   \n",
       "36695   36695      109465  The probability of an event occurring is \\( 0....   \n",
       "\n",
       "               MC_Answer                                 StudentExplanation  \\\n",
       "0      \\( \\frac{1}{3} \\)                  0ne third is equal to tree nineth   \n",
       "1      \\( \\frac{1}{3} \\)  1 / 3 because 6 over 9 is 2 thirds and 1 third...   \n",
       "2      \\( \\frac{1}{3} \\)  1 3rd is half of 3 6th, so it is simplee to un...   \n",
       "3      \\( \\frac{1}{3} \\)        1 goes into everything and 3 goes into nine   \n",
       "4      \\( \\frac{1}{3} \\)                    1 out of every 3 isn't coloured   \n",
       "...                  ...                                                ...   \n",
       "36691           Unlikely                                     very unlikely.   \n",
       "36692           Unlikely       yea pretty much unlikely from what it seems.   \n",
       "36693           Unlikely          yeah pretty unlikelyy from what it seems.   \n",
       "36694           Unlikely                   you have 9 other numbers to get.   \n",
       "36695           Unlikely  you have a chanve but it is not i think this b...   \n",
       "\n",
       "            Category Misconception            target  label  is_correct  \n",
       "0       True_Correct            NA   True_Correct:NA     37           1  \n",
       "1       True_Correct            NA   True_Correct:NA     37           1  \n",
       "2       True_Neither            NA   True_Neither:NA     64           1  \n",
       "3       True_Neither            NA   True_Neither:NA     64           1  \n",
       "4       True_Correct            NA   True_Correct:NA     37           1  \n",
       "...              ...           ...               ...    ...         ...  \n",
       "36691  False_Neither            NA  False_Neither:NA     36           0  \n",
       "36692  False_Neither            NA  False_Neither:NA     36           0  \n",
       "36693  False_Neither            NA  False_Neither:NA     36           0  \n",
       "36694  False_Neither            NA  False_Neither:NA     36           0  \n",
       "36695  False_Neither            NA  False_Neither:NA     36           0  \n",
       "\n",
       "[36696 rows x 10 columns]"
      ]
     },
     "execution_count": 43,
     "metadata": {},
     "output_type": "execute_result"
    }
   ],
   "source": [
    "trainDF"
   ]
  },
  {
   "cell_type": "code",
   "execution_count": 44,
   "id": "c5850e7a",
   "metadata": {
    "execution": {
     "iopub.execute_input": "2025-10-02T14:45:47.590687Z",
     "iopub.status.busy": "2025-10-02T14:45:47.590493Z",
     "iopub.status.idle": "2025-10-02T14:45:47.853306Z",
     "shell.execute_reply": "2025-10-02T14:45:47.852602Z"
    },
    "papermill": {
     "duration": 0.291706,
     "end_time": "2025-10-02T14:45:47.854556",
     "exception": false,
     "start_time": "2025-10-02T14:45:47.562850",
     "status": "completed"
    },
    "tags": []
   },
   "outputs": [
    {
     "data": {
      "image/png": "[encoded data removed]",
      "text/plain": [
       "<Figure size 640x480 with 1 Axes>"
      ]
     },
     "metadata": {},
     "output_type": "display_data"
    }
   ],
   "source": [
    "trainDF[\"is_correct\"].value_counts().plot(kind=\"bar\", title=\"Correct vs Incorrect\");"
   ]
  },
  {
   "cell_type": "markdown",
   "id": "cc974732",
   "metadata": {
    "papermill": {
     "duration": 0.024475,
     "end_time": "2025-10-02T14:45:47.904224",
     "exception": false,
     "start_time": "2025-10-02T14:45:47.879749",
     "status": "completed"
    },
    "tags": []
   },
   "source": [
    "## Seem the training Data extremely imbalance"
   ]
  },
  {
   "cell_type": "code",
   "execution_count": 45,
   "id": "d5ca5082",
   "metadata": {
    "execution": {
     "iopub.execute_input": "2025-10-02T14:45:47.954401Z",
     "iopub.status.busy": "2025-10-02T14:45:47.953958Z",
     "iopub.status.idle": "2025-10-02T14:45:48.426337Z",
     "shell.execute_reply": "2025-10-02T14:45:48.425629Z"
    },
    "papermill": {
     "duration": 0.49885,
     "end_time": "2025-10-02T14:45:48.427724",
     "exception": false,
     "start_time": "2025-10-02T14:45:47.928874",
     "status": "completed"
    },
    "tags": []
   },
   "outputs": [
    {
     "data": {
      "image/png": "[encoded data removed]",
      "text/plain": [
       "<Figure size 640x480 with 1 Axes>"
      ]
     },
     "metadata": {},
     "output_type": "display_data"
    }
   ],
   "source": [
    "trainDF[\"label\"].value_counts().plot(kind=\"bar\", title=\"Distribution Label\");"
   ]
  },
  {
   "cell_type": "code",
   "execution_count": 46,
   "id": "b70cf41b",
   "metadata": {
    "execution": {
     "iopub.execute_input": "2025-10-02T14:45:48.487071Z",
     "iopub.status.busy": "2025-10-02T14:45:48.486844Z",
     "iopub.status.idle": "2025-10-02T14:45:48.494297Z",
     "shell.execute_reply": "2025-10-02T14:45:48.493615Z"
    },
    "papermill": {
     "duration": 0.037157,
     "end_time": "2025-10-02T14:45:48.495385",
     "exception": false,
     "start_time": "2025-10-02T14:45:48.458228",
     "status": "completed"
    },
    "tags": []
   },
   "outputs": [
    {
     "data": {
      "text/plain": [
       "count       65.000000\n",
       "mean       564.553846\n",
       "std       2071.725263\n",
       "min          1.000000\n",
       "25%          6.000000\n",
       "50%         50.000000\n",
       "75%        291.000000\n",
       "max      14802.000000\n",
       "Name: count, dtype: float64"
      ]
     },
     "execution_count": 46,
     "metadata": {},
     "output_type": "execute_result"
    }
   ],
   "source": [
    "trainDF[\"label\"].value_counts().describe()"
   ]
  },
  {
   "cell_type": "code",
   "execution_count": 47,
   "id": "f75db4ea",
   "metadata": {
    "execution": {
     "iopub.execute_input": "2025-10-02T14:45:48.548057Z",
     "iopub.status.busy": "2025-10-02T14:45:48.547852Z",
     "iopub.status.idle": "2025-10-02T14:45:48.553782Z",
     "shell.execute_reply": "2025-10-02T14:45:48.553031Z"
    },
    "papermill": {
     "duration": 0.032543,
     "end_time": "2025-10-02T14:45:48.554829",
     "exception": false,
     "start_time": "2025-10-02T14:45:48.522286",
     "status": "completed"
    },
    "scrolled": true,
    "tags": []
   },
   "outputs": [
    {
     "data": {
      "text/plain": [
       "label\n",
       "37    14802\n",
       "36     6542\n",
       "64     5265\n",
       "13     1446\n",
       "3       891\n",
       "9       698\n",
       "26      618\n",
       "23      564\n",
       "35      550\n",
       "34      412\n",
       "17      409\n",
       "18      409\n",
       "20      345\n",
       "7       332\n",
       "31      328\n",
       "1       306\n",
       "30      291\n",
       "29      282\n",
       "32      273\n",
       "0       227\n",
       "27      198\n",
       "24      179\n",
       "59      162\n",
       "22      153\n",
       "28      128\n",
       "2        97\n",
       "10       96\n",
       "21       93\n",
       "50       88\n",
       "11       74\n",
       "8        58\n",
       "6        51\n",
       "15       50\n",
       "39       38\n",
       "19       23\n",
       "12       23\n",
       "4        22\n",
       "16       21\n",
       "5        18\n",
       "56       17\n",
       "45       11\n",
       "58        8\n",
       "47        8\n",
       "63        8\n",
       "52        8\n",
       "60        8\n",
       "14        7\n",
       "33        6\n",
       "44        6\n",
       "62        6\n",
       "Name: count, dtype: int64"
      ]
     },
     "execution_count": 47,
     "metadata": {},
     "output_type": "execute_result"
    }
   ],
   "source": [
    "trainDF[\"label\"].value_counts()[:50]  # top 50"
   ]
  },
  {
   "cell_type": "markdown",
   "id": "5aab5c40",
   "metadata": {
    "papermill": {
     "duration": 0.025775,
     "end_time": "2025-10-02T14:45:48.606364",
     "exception": false,
     "start_time": "2025-10-02T14:45:48.580589",
     "status": "completed"
    },
    "tags": []
   },
   "source": [
    "## Merge into Test /Submit Data"
   ]
  },
  {
   "cell_type": "code",
   "execution_count": 48,
   "id": "b20796a3",
   "metadata": {
    "execution": {
     "iopub.execute_input": "2025-10-02T14:45:48.658420Z",
     "iopub.status.busy": "2025-10-02T14:45:48.658201Z",
     "iopub.status.idle": "2025-10-02T14:45:48.664783Z",
     "shell.execute_reply": "2025-10-02T14:45:48.664102Z"
    },
    "papermill": {
     "duration": 0.033778,
     "end_time": "2025-10-02T14:45:48.665806",
     "exception": false,
     "start_time": "2025-10-02T14:45:48.632028",
     "status": "completed"
    },
    "tags": []
   },
   "outputs": [],
   "source": [
    "testDF = testDF.merge(correct, on=['QuestionId','MC_Answer'], how='left')\n",
    "testDF[\"is_correct\"] = testDF[\"is_correct\"].fillna(0)  # fill Na to 0\n"
   ]
  },
  {
   "cell_type": "code",
   "execution_count": 49,
   "id": "30355f24",
   "metadata": {
    "execution": {
     "iopub.execute_input": "2025-10-02T14:45:48.717118Z",
     "iopub.status.busy": "2025-10-02T14:45:48.716918Z",
     "iopub.status.idle": "2025-10-02T14:45:48.724323Z",
     "shell.execute_reply": "2025-10-02T14:45:48.723598Z"
    },
    "papermill": {
     "duration": 0.034383,
     "end_time": "2025-10-02T14:45:48.725445",
     "exception": false,
     "start_time": "2025-10-02T14:45:48.691062",
     "status": "completed"
    },
    "tags": []
   },
   "outputs": [
    {
     "data": {
      "text/html": [
       "<div>\n",
       "<style scoped>\n",
       "    .dataframe tbody tr th:only-of-type {\n",
       "        vertical-align: middle;\n",
       "    }\n",
       "\n",
       "    .dataframe tbody tr th {\n",
       "        vertical-align: top;\n",
       "    }\n",
       "\n",
       "    .dataframe thead th {\n",
       "        text-align: right;\n",
       "    }\n",
       "</style>\n",
       "<table border=\"1\" class=\"dataframe\">\n",
       "  <thead>\n",
       "    <tr style=\"text-align: right;\">\n",
       "      <th></th>\n",
       "      <th>row_id</th>\n",
       "      <th>QuestionId</th>\n",
       "      <th>QuestionText</th>\n",
       "      <th>MC_Answer</th>\n",
       "      <th>StudentExplanation</th>\n",
       "      <th>is_correct</th>\n",
       "    </tr>\n",
       "  </thead>\n",
       "  <tbody>\n",
       "    <tr>\n",
       "      <th>0</th>\n",
       "      <td>36696</td>\n",
       "      <td>31772</td>\n",
       "      <td>What fraction of the shape is not shaded? Give...</td>\n",
       "      <td>\\( \\frac{1}{3} \\)</td>\n",
       "      <td>I think that 1/3 is the answer, as it's the si...</td>\n",
       "      <td>1</td>\n",
       "    </tr>\n",
       "    <tr>\n",
       "      <th>1</th>\n",
       "      <td>36697</td>\n",
       "      <td>31772</td>\n",
       "      <td>What fraction of the shape is not shaded? Give...</td>\n",
       "      <td>\\( \\frac{3}{6} \\)</td>\n",
       "      <td>i think this answer is because 3 triangles are...</td>\n",
       "      <td>0</td>\n",
       "    </tr>\n",
       "    <tr>\n",
       "      <th>2</th>\n",
       "      <td>36698</td>\n",
       "      <td>32835</td>\n",
       "      <td>Which number is the greatest?</td>\n",
       "      <td>\\( 6.2 \\)</td>\n",
       "      <td>because the 2 makes it higher than the others.</td>\n",
       "      <td>1</td>\n",
       "    </tr>\n",
       "  </tbody>\n",
       "</table>\n",
       "</div>"
      ],
      "text/plain": [
       "   row_id  QuestionId                                       QuestionText  \\\n",
       "0   36696       31772  What fraction of the shape is not shaded? Give...   \n",
       "1   36697       31772  What fraction of the shape is not shaded? Give...   \n",
       "2   36698       32835                      Which number is the greatest?   \n",
       "\n",
       "           MC_Answer                                 StudentExplanation  \\\n",
       "0  \\( \\frac{1}{3} \\)  I think that 1/3 is the answer, as it's the si...   \n",
       "1  \\( \\frac{3}{6} \\)  i think this answer is because 3 triangles are...   \n",
       "2          \\( 6.2 \\)     because the 2 makes it higher than the others.   \n",
       "\n",
       "   is_correct  \n",
       "0           1  \n",
       "1           0  \n",
       "2           1  "
      ]
     },
     "execution_count": 49,
     "metadata": {},
     "output_type": "execute_result"
    }
   ],
   "source": [
    "testDF[\"is_correct\"] = testDF[\"is_correct\"].astype(int)\n",
    "testDF"
   ]
  },
  {
   "cell_type": "markdown",
   "id": "9cf985a8",
   "metadata": {
    "papermill": {
     "duration": 0.026195,
     "end_time": "2025-10-02T14:45:48.778572",
     "exception": false,
     "start_time": "2025-10-02T14:45:48.752377",
     "status": "completed"
    },
    "tags": []
   },
   "source": [
    "## Visualize Get Answer choices "
   ]
  },
  {
   "cell_type": "code",
   "execution_count": 50,
   "id": "c111b315",
   "metadata": {
    "execution": {
     "iopub.execute_input": "2025-10-02T14:45:48.831480Z",
     "iopub.status.busy": "2025-10-02T14:45:48.831265Z",
     "iopub.status.idle": "2025-10-02T14:45:48.834335Z",
     "shell.execute_reply": "2025-10-02T14:45:48.833675Z"
    },
    "papermill": {
     "duration": 0.030735,
     "end_time": "2025-10-02T14:45:48.835370",
     "exception": false,
     "start_time": "2025-10-02T14:45:48.804635",
     "status": "completed"
    },
    "tags": []
   },
   "outputs": [],
   "source": [
    "from IPython.display import display, Math, Latex"
   ]
  },
  {
   "cell_type": "code",
   "execution_count": 51,
   "id": "09808427",
   "metadata": {
    "execution": {
     "iopub.execute_input": "2025-10-02T14:45:48.887113Z",
     "iopub.status.busy": "2025-10-02T14:45:48.886916Z",
     "iopub.status.idle": "2025-10-02T14:45:48.899474Z",
     "shell.execute_reply": "2025-10-02T14:45:48.898904Z"
    },
    "papermill": {
     "duration": 0.039984,
     "end_time": "2025-10-02T14:45:48.900515",
     "exception": false,
     "start_time": "2025-10-02T14:45:48.860531",
     "status": "completed"
    },
    "scrolled": true,
    "tags": []
   },
   "outputs": [
    {
     "data": {
      "text/html": [
       "<div>\n",
       "<style scoped>\n",
       "    .dataframe tbody tr th:only-of-type {\n",
       "        vertical-align: middle;\n",
       "    }\n",
       "\n",
       "    .dataframe tbody tr th {\n",
       "        vertical-align: top;\n",
       "    }\n",
       "\n",
       "    .dataframe thead th {\n",
       "        text-align: right;\n",
       "    }\n",
       "</style>\n",
       "<table border=\"1\" class=\"dataframe\">\n",
       "  <thead>\n",
       "    <tr style=\"text-align: right;\">\n",
       "      <th></th>\n",
       "      <th>QuestionId</th>\n",
       "      <th>MC_Answer</th>\n",
       "      <th>count</th>\n",
       "    </tr>\n",
       "  </thead>\n",
       "  <tbody>\n",
       "    <tr>\n",
       "      <th>0</th>\n",
       "      <td>31772</td>\n",
       "      <td>\\( \\frac{1}{3} \\)</td>\n",
       "      <td>2348</td>\n",
       "    </tr>\n",
       "    <tr>\n",
       "      <th>1</th>\n",
       "      <td>31772</td>\n",
       "      <td>\\( \\frac{3}{6} \\)</td>\n",
       "      <td>412</td>\n",
       "    </tr>\n",
       "    <tr>\n",
       "      <th>2</th>\n",
       "      <td>31772</td>\n",
       "      <td>\\( \\frac{3}{8} \\)</td>\n",
       "      <td>118</td>\n",
       "    </tr>\n",
       "    <tr>\n",
       "      <th>3</th>\n",
       "      <td>31772</td>\n",
       "      <td>\\( \\frac{3}{9} \\)</td>\n",
       "      <td>1979</td>\n",
       "    </tr>\n",
       "    <tr>\n",
       "      <th>4</th>\n",
       "      <td>31774</td>\n",
       "      <td>\\( 3 \\)</td>\n",
       "      <td>659</td>\n",
       "    </tr>\n",
       "    <tr>\n",
       "      <th>5</th>\n",
       "      <td>31774</td>\n",
       "      <td>\\( \\frac{1}{12} \\)</td>\n",
       "      <td>1918</td>\n",
       "    </tr>\n",
       "    <tr>\n",
       "      <th>6</th>\n",
       "      <td>31774</td>\n",
       "      <td>\\( \\frac{1}{3} \\)</td>\n",
       "      <td>251</td>\n",
       "    </tr>\n",
       "    <tr>\n",
       "      <th>7</th>\n",
       "      <td>31774</td>\n",
       "      <td>\\( \\frac{6}{2} \\)</td>\n",
       "      <td>287</td>\n",
       "    </tr>\n",
       "    <tr>\n",
       "      <th>8</th>\n",
       "      <td>31777</td>\n",
       "      <td>\\( 24 \\)</td>\n",
       "      <td>255</td>\n",
       "    </tr>\n",
       "    <tr>\n",
       "      <th>9</th>\n",
       "      <td>31777</td>\n",
       "      <td>\\( 48 \\)</td>\n",
       "      <td>406</td>\n",
       "    </tr>\n",
       "    <tr>\n",
       "      <th>10</th>\n",
       "      <td>31777</td>\n",
       "      <td>\\( 60 \\)</td>\n",
       "      <td>350</td>\n",
       "    </tr>\n",
       "    <tr>\n",
       "      <th>11</th>\n",
       "      <td>31777</td>\n",
       "      <td>\\( 72 \\)</td>\n",
       "      <td>1798</td>\n",
       "    </tr>\n",
       "    <tr>\n",
       "      <th>12</th>\n",
       "      <td>31778</td>\n",
       "      <td>\\( 3 \\)</td>\n",
       "      <td>627</td>\n",
       "    </tr>\n",
       "    <tr>\n",
       "      <th>13</th>\n",
       "      <td>31778</td>\n",
       "      <td>\\( 4 \\)</td>\n",
       "      <td>1108</td>\n",
       "    </tr>\n",
       "    <tr>\n",
       "      <th>14</th>\n",
       "      <td>31778</td>\n",
       "      <td>\\( 6 \\)</td>\n",
       "      <td>1755</td>\n",
       "    </tr>\n",
       "    <tr>\n",
       "      <th>15</th>\n",
       "      <td>31778</td>\n",
       "      <td>\\( 9 \\)</td>\n",
       "      <td>150</td>\n",
       "    </tr>\n",
       "    <tr>\n",
       "      <th>16</th>\n",
       "      <td>32829</td>\n",
       "      <td>\\( 12 \\)</td>\n",
       "      <td>1716</td>\n",
       "    </tr>\n",
       "    <tr>\n",
       "      <th>17</th>\n",
       "      <td>32829</td>\n",
       "      <td>\\( 22 \\)</td>\n",
       "      <td>148</td>\n",
       "    </tr>\n",
       "    <tr>\n",
       "      <th>18</th>\n",
       "      <td>32829</td>\n",
       "      <td>\\( 4 \\)</td>\n",
       "      <td>248</td>\n",
       "    </tr>\n",
       "    <tr>\n",
       "      <th>19</th>\n",
       "      <td>32829</td>\n",
       "      <td>\\( 48 \\)</td>\n",
       "      <td>44</td>\n",
       "    </tr>\n",
       "    <tr>\n",
       "      <th>20</th>\n",
       "      <td>32833</td>\n",
       "      <td>\\( 3 \\frac{1}{3} \\)</td>\n",
       "      <td>1601</td>\n",
       "    </tr>\n",
       "    <tr>\n",
       "      <th>21</th>\n",
       "      <td>32833</td>\n",
       "      <td>\\( 5 \\frac{2}{3} \\)</td>\n",
       "      <td>78</td>\n",
       "    </tr>\n",
       "    <tr>\n",
       "      <th>22</th>\n",
       "      <td>32833</td>\n",
       "      <td>\\( \\frac{10}{15} \\)</td>\n",
       "      <td>906</td>\n",
       "    </tr>\n",
       "    <tr>\n",
       "      <th>23</th>\n",
       "      <td>32833</td>\n",
       "      <td>\\( \\frac{2}{15} \\)</td>\n",
       "      <td>520</td>\n",
       "    </tr>\n",
       "    <tr>\n",
       "      <th>24</th>\n",
       "      <td>32835</td>\n",
       "      <td>\\( 6 \\)</td>\n",
       "      <td>478</td>\n",
       "    </tr>\n",
       "    <tr>\n",
       "      <th>25</th>\n",
       "      <td>32835</td>\n",
       "      <td>\\( 6.0001 \\)</td>\n",
       "      <td>64</td>\n",
       "    </tr>\n",
       "    <tr>\n",
       "      <th>26</th>\n",
       "      <td>32835</td>\n",
       "      <td>\\( 6.079 \\)</td>\n",
       "      <td>116</td>\n",
       "    </tr>\n",
       "    <tr>\n",
       "      <th>27</th>\n",
       "      <td>32835</td>\n",
       "      <td>\\( 6.2 \\)</td>\n",
       "      <td>1674</td>\n",
       "    </tr>\n",
       "    <tr>\n",
       "      <th>28</th>\n",
       "      <td>33471</td>\n",
       "      <td>\\( 15 \\)</td>\n",
       "      <td>874</td>\n",
       "    </tr>\n",
       "    <tr>\n",
       "      <th>29</th>\n",
       "      <td>33471</td>\n",
       "      <td>\\( 3 \\)</td>\n",
       "      <td>40</td>\n",
       "    </tr>\n",
       "    <tr>\n",
       "      <th>30</th>\n",
       "      <td>33471</td>\n",
       "      <td>\\( 8 \\)</td>\n",
       "      <td>56</td>\n",
       "    </tr>\n",
       "    <tr>\n",
       "      <th>31</th>\n",
       "      <td>33471</td>\n",
       "      <td>\\( 9 \\)</td>\n",
       "      <td>572</td>\n",
       "    </tr>\n",
       "    <tr>\n",
       "      <th>32</th>\n",
       "      <td>33472</td>\n",
       "      <td>\\( \\frac{11}{15} \\)</td>\n",
       "      <td>1651</td>\n",
       "    </tr>\n",
       "    <tr>\n",
       "      <th>33</th>\n",
       "      <td>33472</td>\n",
       "      <td>\\( \\frac{11}{30} \\)</td>\n",
       "      <td>116</td>\n",
       "    </tr>\n",
       "    <tr>\n",
       "      <th>34</th>\n",
       "      <td>33472</td>\n",
       "      <td>\\( \\frac{3}{15} \\)</td>\n",
       "      <td>565</td>\n",
       "    </tr>\n",
       "    <tr>\n",
       "      <th>35</th>\n",
       "      <td>33472</td>\n",
       "      <td>\\( \\frac{3}{8} \\)</td>\n",
       "      <td>468</td>\n",
       "    </tr>\n",
       "    <tr>\n",
       "      <th>36</th>\n",
       "      <td>33474</td>\n",
       "      <td>\\( \\frac{1}{3} \\times \\frac{2}{3} \\)</td>\n",
       "      <td>630</td>\n",
       "    </tr>\n",
       "    <tr>\n",
       "      <th>37</th>\n",
       "      <td>33474</td>\n",
       "      <td>\\( \\frac{1}{3}+\\frac{2}{3} \\)</td>\n",
       "      <td>49</td>\n",
       "    </tr>\n",
       "    <tr>\n",
       "      <th>38</th>\n",
       "      <td>33474</td>\n",
       "      <td>\\( \\frac{2}{3} \\div \\frac{1}{3} \\)</td>\n",
       "      <td>147</td>\n",
       "    </tr>\n",
       "    <tr>\n",
       "      <th>39</th>\n",
       "      <td>33474</td>\n",
       "      <td>\\( \\frac{2}{3}-\\frac{1}{3} \\)</td>\n",
       "      <td>940</td>\n",
       "    </tr>\n",
       "    <tr>\n",
       "      <th>40</th>\n",
       "      <td>76870</td>\n",
       "      <td>Not enough information</td>\n",
       "      <td>403</td>\n",
       "    </tr>\n",
       "    <tr>\n",
       "      <th>41</th>\n",
       "      <td>76870</td>\n",
       "      <td>\\( 10 \\)</td>\n",
       "      <td>508</td>\n",
       "    </tr>\n",
       "    <tr>\n",
       "      <th>42</th>\n",
       "      <td>76870</td>\n",
       "      <td>\\( 5 \\)</td>\n",
       "      <td>140</td>\n",
       "    </tr>\n",
       "    <tr>\n",
       "      <th>43</th>\n",
       "      <td>76870</td>\n",
       "      <td>\\( 6 \\)</td>\n",
       "      <td>135</td>\n",
       "    </tr>\n",
       "    <tr>\n",
       "      <th>44</th>\n",
       "      <td>89443</td>\n",
       "      <td>\\( -13 \\)</td>\n",
       "      <td>798</td>\n",
       "    </tr>\n",
       "    <tr>\n",
       "      <th>45</th>\n",
       "      <td>89443</td>\n",
       "      <td>\\( -3 \\)</td>\n",
       "      <td>1394</td>\n",
       "    </tr>\n",
       "    <tr>\n",
       "      <th>46</th>\n",
       "      <td>89443</td>\n",
       "      <td>\\( 13 \\)</td>\n",
       "      <td>396</td>\n",
       "    </tr>\n",
       "    <tr>\n",
       "      <th>47</th>\n",
       "      <td>89443</td>\n",
       "      <td>\\( 3 \\)</td>\n",
       "      <td>466</td>\n",
       "    </tr>\n",
       "    <tr>\n",
       "      <th>48</th>\n",
       "      <td>91695</td>\n",
       "      <td>\\( 20 \\)</td>\n",
       "      <td>102</td>\n",
       "    </tr>\n",
       "    <tr>\n",
       "      <th>49</th>\n",
       "      <td>91695</td>\n",
       "      <td>\\( 22 \\)</td>\n",
       "      <td>718</td>\n",
       "    </tr>\n",
       "    <tr>\n",
       "      <th>50</th>\n",
       "      <td>91695</td>\n",
       "      <td>\\( 26 \\)</td>\n",
       "      <td>1547</td>\n",
       "    </tr>\n",
       "    <tr>\n",
       "      <th>51</th>\n",
       "      <td>91695</td>\n",
       "      <td>\\( 36 \\)</td>\n",
       "      <td>243</td>\n",
       "    </tr>\n",
       "    <tr>\n",
       "      <th>52</th>\n",
       "      <td>104665</td>\n",
       "      <td>\\( 192 \\) hours</td>\n",
       "      <td>9</td>\n",
       "    </tr>\n",
       "    <tr>\n",
       "      <th>53</th>\n",
       "      <td>104665</td>\n",
       "      <td>\\( 48 \\) hours</td>\n",
       "      <td>497</td>\n",
       "    </tr>\n",
       "    <tr>\n",
       "      <th>54</th>\n",
       "      <td>104665</td>\n",
       "      <td>\\( 64 \\) hours</td>\n",
       "      <td>62</td>\n",
       "    </tr>\n",
       "    <tr>\n",
       "      <th>55</th>\n",
       "      <td>104665</td>\n",
       "      <td>\\( 768 \\) hours</td>\n",
       "      <td>105</td>\n",
       "    </tr>\n",
       "    <tr>\n",
       "      <th>56</th>\n",
       "      <td>109465</td>\n",
       "      <td>Certain</td>\n",
       "      <td>64</td>\n",
       "    </tr>\n",
       "    <tr>\n",
       "      <th>57</th>\n",
       "      <td>109465</td>\n",
       "      <td>Impossible</td>\n",
       "      <td>18</td>\n",
       "    </tr>\n",
       "    <tr>\n",
       "      <th>58</th>\n",
       "      <td>109465</td>\n",
       "      <td>Likely</td>\n",
       "      <td>553</td>\n",
       "    </tr>\n",
       "    <tr>\n",
       "      <th>59</th>\n",
       "      <td>109465</td>\n",
       "      <td>Unlikely</td>\n",
       "      <td>416</td>\n",
       "    </tr>\n",
       "  </tbody>\n",
       "</table>\n",
       "</div>"
      ],
      "text/plain": [
       "    QuestionId                             MC_Answer  count\n",
       "0        31772                     \\( \\frac{1}{3} \\)   2348\n",
       "1        31772                     \\( \\frac{3}{6} \\)    412\n",
       "2        31772                     \\( \\frac{3}{8} \\)    118\n",
       "3        31772                     \\( \\frac{3}{9} \\)   1979\n",
       "4        31774                               \\( 3 \\)    659\n",
       "5        31774                    \\( \\frac{1}{12} \\)   1918\n",
       "6        31774                     \\( \\frac{1}{3} \\)    251\n",
       "7        31774                     \\( \\frac{6}{2} \\)    287\n",
       "8        31777                              \\( 24 \\)    255\n",
       "9        31777                              \\( 48 \\)    406\n",
       "10       31777                              \\( 60 \\)    350\n",
       "11       31777                              \\( 72 \\)   1798\n",
       "12       31778                               \\( 3 \\)    627\n",
       "13       31778                               \\( 4 \\)   1108\n",
       "14       31778                               \\( 6 \\)   1755\n",
       "15       31778                               \\( 9 \\)    150\n",
       "16       32829                              \\( 12 \\)   1716\n",
       "17       32829                              \\( 22 \\)    148\n",
       "18       32829                               \\( 4 \\)    248\n",
       "19       32829                              \\( 48 \\)     44\n",
       "20       32833                   \\( 3 \\frac{1}{3} \\)   1601\n",
       "21       32833                   \\( 5 \\frac{2}{3} \\)     78\n",
       "22       32833                   \\( \\frac{10}{15} \\)    906\n",
       "23       32833                    \\( \\frac{2}{15} \\)    520\n",
       "24       32835                               \\( 6 \\)    478\n",
       "25       32835                          \\( 6.0001 \\)     64\n",
       "26       32835                           \\( 6.079 \\)    116\n",
       "27       32835                             \\( 6.2 \\)   1674\n",
       "28       33471                              \\( 15 \\)    874\n",
       "29       33471                               \\( 3 \\)     40\n",
       "30       33471                               \\( 8 \\)     56\n",
       "31       33471                               \\( 9 \\)    572\n",
       "32       33472                   \\( \\frac{11}{15} \\)   1651\n",
       "33       33472                   \\( \\frac{11}{30} \\)    116\n",
       "34       33472                    \\( \\frac{3}{15} \\)    565\n",
       "35       33472                     \\( \\frac{3}{8} \\)    468\n",
       "36       33474  \\( \\frac{1}{3} \\times \\frac{2}{3} \\)    630\n",
       "37       33474         \\( \\frac{1}{3}+\\frac{2}{3} \\)     49\n",
       "38       33474    \\( \\frac{2}{3} \\div \\frac{1}{3} \\)    147\n",
       "39       33474         \\( \\frac{2}{3}-\\frac{1}{3} \\)    940\n",
       "40       76870                Not enough information    403\n",
       "41       76870                              \\( 10 \\)    508\n",
       "42       76870                               \\( 5 \\)    140\n",
       "43       76870                               \\( 6 \\)    135\n",
       "44       89443                             \\( -13 \\)    798\n",
       "45       89443                              \\( -3 \\)   1394\n",
       "46       89443                              \\( 13 \\)    396\n",
       "47       89443                               \\( 3 \\)    466\n",
       "48       91695                              \\( 20 \\)    102\n",
       "49       91695                              \\( 22 \\)    718\n",
       "50       91695                              \\( 26 \\)   1547\n",
       "51       91695                              \\( 36 \\)    243\n",
       "52      104665                       \\( 192 \\) hours      9\n",
       "53      104665                        \\( 48 \\) hours    497\n",
       "54      104665                        \\( 64 \\) hours     62\n",
       "55      104665                       \\( 768 \\) hours    105\n",
       "56      109465                               Certain     64\n",
       "57      109465                            Impossible     18\n",
       "58      109465                                Likely    553\n",
       "59      109465                              Unlikely    416"
      ]
     },
     "execution_count": 51,
     "metadata": {},
     "output_type": "execute_result"
    }
   ],
   "source": [
    "temp = trainDF.groupby([\"QuestionId\", \"MC_Answer\"]).size().reset_index(name=\"count\")\n",
    "temp"
   ]
  },
  {
   "cell_type": "code",
   "execution_count": 52,
   "id": "3f80a0f3",
   "metadata": {
    "execution": {
     "iopub.execute_input": "2025-10-02T14:45:48.953150Z",
     "iopub.status.busy": "2025-10-02T14:45:48.952937Z",
     "iopub.status.idle": "2025-10-02T14:45:48.965643Z",
     "shell.execute_reply": "2025-10-02T14:45:48.965058Z"
    },
    "papermill": {
     "duration": 0.039759,
     "end_time": "2025-10-02T14:45:48.966641",
     "exception": false,
     "start_time": "2025-10-02T14:45:48.926882",
     "status": "completed"
    },
    "scrolled": true,
    "tags": []
   },
   "outputs": [
    {
     "data": {
      "text/html": [
       "<div>\n",
       "<style scoped>\n",
       "    .dataframe tbody tr th:only-of-type {\n",
       "        vertical-align: middle;\n",
       "    }\n",
       "\n",
       "    .dataframe tbody tr th {\n",
       "        vertical-align: top;\n",
       "    }\n",
       "\n",
       "    .dataframe thead th {\n",
       "        text-align: right;\n",
       "    }\n",
       "</style>\n",
       "<table border=\"1\" class=\"dataframe\">\n",
       "  <thead>\n",
       "    <tr style=\"text-align: right;\">\n",
       "      <th></th>\n",
       "      <th>QuestionId</th>\n",
       "      <th>MC_Answer</th>\n",
       "      <th>count</th>\n",
       "      <th>rank</th>\n",
       "    </tr>\n",
       "  </thead>\n",
       "  <tbody>\n",
       "    <tr>\n",
       "      <th>0</th>\n",
       "      <td>31772</td>\n",
       "      <td>\\( \\frac{1}{3} \\)</td>\n",
       "      <td>2348</td>\n",
       "      <td>0</td>\n",
       "    </tr>\n",
       "    <tr>\n",
       "      <th>1</th>\n",
       "      <td>31772</td>\n",
       "      <td>\\( \\frac{3}{6} \\)</td>\n",
       "      <td>412</td>\n",
       "      <td>2</td>\n",
       "    </tr>\n",
       "    <tr>\n",
       "      <th>2</th>\n",
       "      <td>31772</td>\n",
       "      <td>\\( \\frac{3}{8} \\)</td>\n",
       "      <td>118</td>\n",
       "      <td>3</td>\n",
       "    </tr>\n",
       "    <tr>\n",
       "      <th>3</th>\n",
       "      <td>31772</td>\n",
       "      <td>\\( \\frac{3}{9} \\)</td>\n",
       "      <td>1979</td>\n",
       "      <td>1</td>\n",
       "    </tr>\n",
       "    <tr>\n",
       "      <th>4</th>\n",
       "      <td>31774</td>\n",
       "      <td>\\( 3 \\)</td>\n",
       "      <td>659</td>\n",
       "      <td>1</td>\n",
       "    </tr>\n",
       "    <tr>\n",
       "      <th>5</th>\n",
       "      <td>31774</td>\n",
       "      <td>\\( \\frac{1}{12} \\)</td>\n",
       "      <td>1918</td>\n",
       "      <td>0</td>\n",
       "    </tr>\n",
       "    <tr>\n",
       "      <th>6</th>\n",
       "      <td>31774</td>\n",
       "      <td>\\( \\frac{1}{3} \\)</td>\n",
       "      <td>251</td>\n",
       "      <td>3</td>\n",
       "    </tr>\n",
       "    <tr>\n",
       "      <th>7</th>\n",
       "      <td>31774</td>\n",
       "      <td>\\( \\frac{6}{2} \\)</td>\n",
       "      <td>287</td>\n",
       "      <td>2</td>\n",
       "    </tr>\n",
       "    <tr>\n",
       "      <th>8</th>\n",
       "      <td>31777</td>\n",
       "      <td>\\( 24 \\)</td>\n",
       "      <td>255</td>\n",
       "      <td>3</td>\n",
       "    </tr>\n",
       "    <tr>\n",
       "      <th>9</th>\n",
       "      <td>31777</td>\n",
       "      <td>\\( 48 \\)</td>\n",
       "      <td>406</td>\n",
       "      <td>1</td>\n",
       "    </tr>\n",
       "    <tr>\n",
       "      <th>10</th>\n",
       "      <td>31777</td>\n",
       "      <td>\\( 60 \\)</td>\n",
       "      <td>350</td>\n",
       "      <td>2</td>\n",
       "    </tr>\n",
       "    <tr>\n",
       "      <th>11</th>\n",
       "      <td>31777</td>\n",
       "      <td>\\( 72 \\)</td>\n",
       "      <td>1798</td>\n",
       "      <td>0</td>\n",
       "    </tr>\n",
       "    <tr>\n",
       "      <th>12</th>\n",
       "      <td>31778</td>\n",
       "      <td>\\( 3 \\)</td>\n",
       "      <td>627</td>\n",
       "      <td>2</td>\n",
       "    </tr>\n",
       "    <tr>\n",
       "      <th>13</th>\n",
       "      <td>31778</td>\n",
       "      <td>\\( 4 \\)</td>\n",
       "      <td>1108</td>\n",
       "      <td>1</td>\n",
       "    </tr>\n",
       "    <tr>\n",
       "      <th>14</th>\n",
       "      <td>31778</td>\n",
       "      <td>\\( 6 \\)</td>\n",
       "      <td>1755</td>\n",
       "      <td>0</td>\n",
       "    </tr>\n",
       "    <tr>\n",
       "      <th>15</th>\n",
       "      <td>31778</td>\n",
       "      <td>\\( 9 \\)</td>\n",
       "      <td>150</td>\n",
       "      <td>3</td>\n",
       "    </tr>\n",
       "    <tr>\n",
       "      <th>16</th>\n",
       "      <td>32829</td>\n",
       "      <td>\\( 12 \\)</td>\n",
       "      <td>1716</td>\n",
       "      <td>0</td>\n",
       "    </tr>\n",
       "    <tr>\n",
       "      <th>17</th>\n",
       "      <td>32829</td>\n",
       "      <td>\\( 22 \\)</td>\n",
       "      <td>148</td>\n",
       "      <td>2</td>\n",
       "    </tr>\n",
       "    <tr>\n",
       "      <th>18</th>\n",
       "      <td>32829</td>\n",
       "      <td>\\( 4 \\)</td>\n",
       "      <td>248</td>\n",
       "      <td>1</td>\n",
       "    </tr>\n",
       "    <tr>\n",
       "      <th>19</th>\n",
       "      <td>32829</td>\n",
       "      <td>\\( 48 \\)</td>\n",
       "      <td>44</td>\n",
       "      <td>3</td>\n",
       "    </tr>\n",
       "    <tr>\n",
       "      <th>20</th>\n",
       "      <td>32833</td>\n",
       "      <td>\\( 3 \\frac{1}{3} \\)</td>\n",
       "      <td>1601</td>\n",
       "      <td>0</td>\n",
       "    </tr>\n",
       "    <tr>\n",
       "      <th>21</th>\n",
       "      <td>32833</td>\n",
       "      <td>\\( 5 \\frac{2}{3} \\)</td>\n",
       "      <td>78</td>\n",
       "      <td>3</td>\n",
       "    </tr>\n",
       "    <tr>\n",
       "      <th>22</th>\n",
       "      <td>32833</td>\n",
       "      <td>\\( \\frac{10}{15} \\)</td>\n",
       "      <td>906</td>\n",
       "      <td>1</td>\n",
       "    </tr>\n",
       "    <tr>\n",
       "      <th>23</th>\n",
       "      <td>32833</td>\n",
       "      <td>\\( \\frac{2}{15} \\)</td>\n",
       "      <td>520</td>\n",
       "      <td>2</td>\n",
       "    </tr>\n",
       "    <tr>\n",
       "      <th>24</th>\n",
       "      <td>32835</td>\n",
       "      <td>\\( 6 \\)</td>\n",
       "      <td>478</td>\n",
       "      <td>1</td>\n",
       "    </tr>\n",
       "    <tr>\n",
       "      <th>25</th>\n",
       "      <td>32835</td>\n",
       "      <td>\\( 6.0001 \\)</td>\n",
       "      <td>64</td>\n",
       "      <td>3</td>\n",
       "    </tr>\n",
       "    <tr>\n",
       "      <th>26</th>\n",
       "      <td>32835</td>\n",
       "      <td>\\( 6.079 \\)</td>\n",
       "      <td>116</td>\n",
       "      <td>2</td>\n",
       "    </tr>\n",
       "    <tr>\n",
       "      <th>27</th>\n",
       "      <td>32835</td>\n",
       "      <td>\\( 6.2 \\)</td>\n",
       "      <td>1674</td>\n",
       "      <td>0</td>\n",
       "    </tr>\n",
       "    <tr>\n",
       "      <th>28</th>\n",
       "      <td>33471</td>\n",
       "      <td>\\( 15 \\)</td>\n",
       "      <td>874</td>\n",
       "      <td>0</td>\n",
       "    </tr>\n",
       "    <tr>\n",
       "      <th>29</th>\n",
       "      <td>33471</td>\n",
       "      <td>\\( 3 \\)</td>\n",
       "      <td>40</td>\n",
       "      <td>3</td>\n",
       "    </tr>\n",
       "    <tr>\n",
       "      <th>30</th>\n",
       "      <td>33471</td>\n",
       "      <td>\\( 8 \\)</td>\n",
       "      <td>56</td>\n",
       "      <td>2</td>\n",
       "    </tr>\n",
       "    <tr>\n",
       "      <th>31</th>\n",
       "      <td>33471</td>\n",
       "      <td>\\( 9 \\)</td>\n",
       "      <td>572</td>\n",
       "      <td>1</td>\n",
       "    </tr>\n",
       "    <tr>\n",
       "      <th>32</th>\n",
       "      <td>33472</td>\n",
       "      <td>\\( \\frac{11}{15} \\)</td>\n",
       "      <td>1651</td>\n",
       "      <td>0</td>\n",
       "    </tr>\n",
       "    <tr>\n",
       "      <th>33</th>\n",
       "      <td>33472</td>\n",
       "      <td>\\( \\frac{11}{30} \\)</td>\n",
       "      <td>116</td>\n",
       "      <td>3</td>\n",
       "    </tr>\n",
       "    <tr>\n",
       "      <th>34</th>\n",
       "      <td>33472</td>\n",
       "      <td>\\( \\frac{3}{15} \\)</td>\n",
       "      <td>565</td>\n",
       "      <td>1</td>\n",
       "    </tr>\n",
       "    <tr>\n",
       "      <th>35</th>\n",
       "      <td>33472</td>\n",
       "      <td>\\( \\frac{3}{8} \\)</td>\n",
       "      <td>468</td>\n",
       "      <td>2</td>\n",
       "    </tr>\n",
       "    <tr>\n",
       "      <th>36</th>\n",
       "      <td>33474</td>\n",
       "      <td>\\( \\frac{1}{3} \\times \\frac{2}{3} \\)</td>\n",
       "      <td>630</td>\n",
       "      <td>1</td>\n",
       "    </tr>\n",
       "    <tr>\n",
       "      <th>37</th>\n",
       "      <td>33474</td>\n",
       "      <td>\\( \\frac{1}{3}+\\frac{2}{3} \\)</td>\n",
       "      <td>49</td>\n",
       "      <td>3</td>\n",
       "    </tr>\n",
       "    <tr>\n",
       "      <th>38</th>\n",
       "      <td>33474</td>\n",
       "      <td>\\( \\frac{2}{3} \\div \\frac{1}{3} \\)</td>\n",
       "      <td>147</td>\n",
       "      <td>2</td>\n",
       "    </tr>\n",
       "    <tr>\n",
       "      <th>39</th>\n",
       "      <td>33474</td>\n",
       "      <td>\\( \\frac{2}{3}-\\frac{1}{3} \\)</td>\n",
       "      <td>940</td>\n",
       "      <td>0</td>\n",
       "    </tr>\n",
       "    <tr>\n",
       "      <th>40</th>\n",
       "      <td>76870</td>\n",
       "      <td>Not enough information</td>\n",
       "      <td>403</td>\n",
       "      <td>1</td>\n",
       "    </tr>\n",
       "    <tr>\n",
       "      <th>41</th>\n",
       "      <td>76870</td>\n",
       "      <td>\\( 10 \\)</td>\n",
       "      <td>508</td>\n",
       "      <td>0</td>\n",
       "    </tr>\n",
       "    <tr>\n",
       "      <th>42</th>\n",
       "      <td>76870</td>\n",
       "      <td>\\( 5 \\)</td>\n",
       "      <td>140</td>\n",
       "      <td>2</td>\n",
       "    </tr>\n",
       "    <tr>\n",
       "      <th>43</th>\n",
       "      <td>76870</td>\n",
       "      <td>\\( 6 \\)</td>\n",
       "      <td>135</td>\n",
       "      <td>3</td>\n",
       "    </tr>\n",
       "    <tr>\n",
       "      <th>44</th>\n",
       "      <td>89443</td>\n",
       "      <td>\\( -13 \\)</td>\n",
       "      <td>798</td>\n",
       "      <td>1</td>\n",
       "    </tr>\n",
       "    <tr>\n",
       "      <th>45</th>\n",
       "      <td>89443</td>\n",
       "      <td>\\( -3 \\)</td>\n",
       "      <td>1394</td>\n",
       "      <td>0</td>\n",
       "    </tr>\n",
       "    <tr>\n",
       "      <th>46</th>\n",
       "      <td>89443</td>\n",
       "      <td>\\( 13 \\)</td>\n",
       "      <td>396</td>\n",
       "      <td>3</td>\n",
       "    </tr>\n",
       "    <tr>\n",
       "      <th>47</th>\n",
       "      <td>89443</td>\n",
       "      <td>\\( 3 \\)</td>\n",
       "      <td>466</td>\n",
       "      <td>2</td>\n",
       "    </tr>\n",
       "    <tr>\n",
       "      <th>48</th>\n",
       "      <td>91695</td>\n",
       "      <td>\\( 20 \\)</td>\n",
       "      <td>102</td>\n",
       "      <td>3</td>\n",
       "    </tr>\n",
       "    <tr>\n",
       "      <th>49</th>\n",
       "      <td>91695</td>\n",
       "      <td>\\( 22 \\)</td>\n",
       "      <td>718</td>\n",
       "      <td>1</td>\n",
       "    </tr>\n",
       "    <tr>\n",
       "      <th>50</th>\n",
       "      <td>91695</td>\n",
       "      <td>\\( 26 \\)</td>\n",
       "      <td>1547</td>\n",
       "      <td>0</td>\n",
       "    </tr>\n",
       "    <tr>\n",
       "      <th>51</th>\n",
       "      <td>91695</td>\n",
       "      <td>\\( 36 \\)</td>\n",
       "      <td>243</td>\n",
       "      <td>2</td>\n",
       "    </tr>\n",
       "    <tr>\n",
       "      <th>52</th>\n",
       "      <td>104665</td>\n",
       "      <td>\\( 192 \\) hours</td>\n",
       "      <td>9</td>\n",
       "      <td>3</td>\n",
       "    </tr>\n",
       "    <tr>\n",
       "      <th>53</th>\n",
       "      <td>104665</td>\n",
       "      <td>\\( 48 \\) hours</td>\n",
       "      <td>497</td>\n",
       "      <td>0</td>\n",
       "    </tr>\n",
       "    <tr>\n",
       "      <th>54</th>\n",
       "      <td>104665</td>\n",
       "      <td>\\( 64 \\) hours</td>\n",
       "      <td>62</td>\n",
       "      <td>2</td>\n",
       "    </tr>\n",
       "    <tr>\n",
       "      <th>55</th>\n",
       "      <td>104665</td>\n",
       "      <td>\\( 768 \\) hours</td>\n",
       "      <td>105</td>\n",
       "      <td>1</td>\n",
       "    </tr>\n",
       "    <tr>\n",
       "      <th>56</th>\n",
       "      <td>109465</td>\n",
       "      <td>Certain</td>\n",
       "      <td>64</td>\n",
       "      <td>2</td>\n",
       "    </tr>\n",
       "    <tr>\n",
       "      <th>57</th>\n",
       "      <td>109465</td>\n",
       "      <td>Impossible</td>\n",
       "      <td>18</td>\n",
       "      <td>3</td>\n",
       "    </tr>\n",
       "    <tr>\n",
       "      <th>58</th>\n",
       "      <td>109465</td>\n",
       "      <td>Likely</td>\n",
       "      <td>553</td>\n",
       "      <td>0</td>\n",
       "    </tr>\n",
       "    <tr>\n",
       "      <th>59</th>\n",
       "      <td>109465</td>\n",
       "      <td>Unlikely</td>\n",
       "      <td>416</td>\n",
       "      <td>1</td>\n",
       "    </tr>\n",
       "  </tbody>\n",
       "</table>\n",
       "</div>"
      ],
      "text/plain": [
       "    QuestionId                             MC_Answer  count  rank\n",
       "0        31772                     \\( \\frac{1}{3} \\)   2348     0\n",
       "1        31772                     \\( \\frac{3}{6} \\)    412     2\n",
       "2        31772                     \\( \\frac{3}{8} \\)    118     3\n",
       "3        31772                     \\( \\frac{3}{9} \\)   1979     1\n",
       "4        31774                               \\( 3 \\)    659     1\n",
       "5        31774                    \\( \\frac{1}{12} \\)   1918     0\n",
       "6        31774                     \\( \\frac{1}{3} \\)    251     3\n",
       "7        31774                     \\( \\frac{6}{2} \\)    287     2\n",
       "8        31777                              \\( 24 \\)    255     3\n",
       "9        31777                              \\( 48 \\)    406     1\n",
       "10       31777                              \\( 60 \\)    350     2\n",
       "11       31777                              \\( 72 \\)   1798     0\n",
       "12       31778                               \\( 3 \\)    627     2\n",
       "13       31778                               \\( 4 \\)   1108     1\n",
       "14       31778                               \\( 6 \\)   1755     0\n",
       "15       31778                               \\( 9 \\)    150     3\n",
       "16       32829                              \\( 12 \\)   1716     0\n",
       "17       32829                              \\( 22 \\)    148     2\n",
       "18       32829                               \\( 4 \\)    248     1\n",
       "19       32829                              \\( 48 \\)     44     3\n",
       "20       32833                   \\( 3 \\frac{1}{3} \\)   1601     0\n",
       "21       32833                   \\( 5 \\frac{2}{3} \\)     78     3\n",
       "22       32833                   \\( \\frac{10}{15} \\)    906     1\n",
       "23       32833                    \\( \\frac{2}{15} \\)    520     2\n",
       "24       32835                               \\( 6 \\)    478     1\n",
       "25       32835                          \\( 6.0001 \\)     64     3\n",
       "26       32835                           \\( 6.079 \\)    116     2\n",
       "27       32835                             \\( 6.2 \\)   1674     0\n",
       "28       33471                              \\( 15 \\)    874     0\n",
       "29       33471                               \\( 3 \\)     40     3\n",
       "30       33471                               \\( 8 \\)     56     2\n",
       "31       33471                               \\( 9 \\)    572     1\n",
       "32       33472                   \\( \\frac{11}{15} \\)   1651     0\n",
       "33       33472                   \\( \\frac{11}{30} \\)    116     3\n",
       "34       33472                    \\( \\frac{3}{15} \\)    565     1\n",
       "35       33472                     \\( \\frac{3}{8} \\)    468     2\n",
       "36       33474  \\( \\frac{1}{3} \\times \\frac{2}{3} \\)    630     1\n",
       "37       33474         \\( \\frac{1}{3}+\\frac{2}{3} \\)     49     3\n",
       "38       33474    \\( \\frac{2}{3} \\div \\frac{1}{3} \\)    147     2\n",
       "39       33474         \\( \\frac{2}{3}-\\frac{1}{3} \\)    940     0\n",
       "40       76870                Not enough information    403     1\n",
       "41       76870                              \\( 10 \\)    508     0\n",
       "42       76870                               \\( 5 \\)    140     2\n",
       "43       76870                               \\( 6 \\)    135     3\n",
       "44       89443                             \\( -13 \\)    798     1\n",
       "45       89443                              \\( -3 \\)   1394     0\n",
       "46       89443                              \\( 13 \\)    396     3\n",
       "47       89443                               \\( 3 \\)    466     2\n",
       "48       91695                              \\( 20 \\)    102     3\n",
       "49       91695                              \\( 22 \\)    718     1\n",
       "50       91695                              \\( 26 \\)   1547     0\n",
       "51       91695                              \\( 36 \\)    243     2\n",
       "52      104665                       \\( 192 \\) hours      9     3\n",
       "53      104665                        \\( 48 \\) hours    497     0\n",
       "54      104665                        \\( 64 \\) hours     62     2\n",
       "55      104665                       \\( 768 \\) hours    105     1\n",
       "56      109465                               Certain     64     2\n",
       "57      109465                            Impossible     18     3\n",
       "58      109465                                Likely    553     0\n",
       "59      109465                              Unlikely    416     1"
      ]
     },
     "execution_count": 52,
     "metadata": {},
     "output_type": "execute_result"
    }
   ],
   "source": [
    "# add Ranking\n",
    "temp[\"rank\"] = temp.groupby(\"QuestionId\")['count'].rank(method='dense', ascending=False).astype(int) - 1\n",
    "temp"
   ]
  },
  {
   "cell_type": "code",
   "execution_count": 53,
   "id": "870f18e5",
   "metadata": {
    "execution": {
     "iopub.execute_input": "2025-10-02T14:45:49.019715Z",
     "iopub.status.busy": "2025-10-02T14:45:49.019542Z",
     "iopub.status.idle": "2025-10-02T14:45:49.028881Z",
     "shell.execute_reply": "2025-10-02T14:45:49.028317Z"
    },
    "papermill": {
     "duration": 0.036938,
     "end_time": "2025-10-02T14:45:49.029904",
     "exception": false,
     "start_time": "2025-10-02T14:45:48.992966",
     "status": "completed"
    },
    "scrolled": true,
    "tags": []
   },
   "outputs": [
    {
     "data": {
      "text/html": [
       "<div>\n",
       "<style scoped>\n",
       "    .dataframe tbody tr th:only-of-type {\n",
       "        vertical-align: middle;\n",
       "    }\n",
       "\n",
       "    .dataframe tbody tr th {\n",
       "        vertical-align: top;\n",
       "    }\n",
       "\n",
       "    .dataframe thead th {\n",
       "        text-align: right;\n",
       "    }\n",
       "</style>\n",
       "<table border=\"1\" class=\"dataframe\">\n",
       "  <thead>\n",
       "    <tr style=\"text-align: right;\">\n",
       "      <th></th>\n",
       "      <th>QuestionId</th>\n",
       "      <th>MC_Answer</th>\n",
       "      <th>rank</th>\n",
       "    </tr>\n",
       "  </thead>\n",
       "  <tbody>\n",
       "    <tr>\n",
       "      <th>0</th>\n",
       "      <td>31772</td>\n",
       "      <td>\\( \\frac{1}{3} \\)</td>\n",
       "      <td>0</td>\n",
       "    </tr>\n",
       "    <tr>\n",
       "      <th>3</th>\n",
       "      <td>31772</td>\n",
       "      <td>\\( \\frac{3}{9} \\)</td>\n",
       "      <td>1</td>\n",
       "    </tr>\n",
       "    <tr>\n",
       "      <th>1</th>\n",
       "      <td>31772</td>\n",
       "      <td>\\( \\frac{3}{6} \\)</td>\n",
       "      <td>2</td>\n",
       "    </tr>\n",
       "    <tr>\n",
       "      <th>2</th>\n",
       "      <td>31772</td>\n",
       "      <td>\\( \\frac{3}{8} \\)</td>\n",
       "      <td>3</td>\n",
       "    </tr>\n",
       "    <tr>\n",
       "      <th>5</th>\n",
       "      <td>31774</td>\n",
       "      <td>\\( \\frac{1}{12} \\)</td>\n",
       "      <td>0</td>\n",
       "    </tr>\n",
       "    <tr>\n",
       "      <th>4</th>\n",
       "      <td>31774</td>\n",
       "      <td>\\( 3 \\)</td>\n",
       "      <td>1</td>\n",
       "    </tr>\n",
       "    <tr>\n",
       "      <th>7</th>\n",
       "      <td>31774</td>\n",
       "      <td>\\( \\frac{6}{2} \\)</td>\n",
       "      <td>2</td>\n",
       "    </tr>\n",
       "    <tr>\n",
       "      <th>6</th>\n",
       "      <td>31774</td>\n",
       "      <td>\\( \\frac{1}{3} \\)</td>\n",
       "      <td>3</td>\n",
       "    </tr>\n",
       "    <tr>\n",
       "      <th>11</th>\n",
       "      <td>31777</td>\n",
       "      <td>\\( 72 \\)</td>\n",
       "      <td>0</td>\n",
       "    </tr>\n",
       "    <tr>\n",
       "      <th>9</th>\n",
       "      <td>31777</td>\n",
       "      <td>\\( 48 \\)</td>\n",
       "      <td>1</td>\n",
       "    </tr>\n",
       "    <tr>\n",
       "      <th>10</th>\n",
       "      <td>31777</td>\n",
       "      <td>\\( 60 \\)</td>\n",
       "      <td>2</td>\n",
       "    </tr>\n",
       "    <tr>\n",
       "      <th>8</th>\n",
       "      <td>31777</td>\n",
       "      <td>\\( 24 \\)</td>\n",
       "      <td>3</td>\n",
       "    </tr>\n",
       "    <tr>\n",
       "      <th>14</th>\n",
       "      <td>31778</td>\n",
       "      <td>\\( 6 \\)</td>\n",
       "      <td>0</td>\n",
       "    </tr>\n",
       "    <tr>\n",
       "      <th>13</th>\n",
       "      <td>31778</td>\n",
       "      <td>\\( 4 \\)</td>\n",
       "      <td>1</td>\n",
       "    </tr>\n",
       "    <tr>\n",
       "      <th>12</th>\n",
       "      <td>31778</td>\n",
       "      <td>\\( 3 \\)</td>\n",
       "      <td>2</td>\n",
       "    </tr>\n",
       "    <tr>\n",
       "      <th>15</th>\n",
       "      <td>31778</td>\n",
       "      <td>\\( 9 \\)</td>\n",
       "      <td>3</td>\n",
       "    </tr>\n",
       "    <tr>\n",
       "      <th>16</th>\n",
       "      <td>32829</td>\n",
       "      <td>\\( 12 \\)</td>\n",
       "      <td>0</td>\n",
       "    </tr>\n",
       "    <tr>\n",
       "      <th>18</th>\n",
       "      <td>32829</td>\n",
       "      <td>\\( 4 \\)</td>\n",
       "      <td>1</td>\n",
       "    </tr>\n",
       "    <tr>\n",
       "      <th>17</th>\n",
       "      <td>32829</td>\n",
       "      <td>\\( 22 \\)</td>\n",
       "      <td>2</td>\n",
       "    </tr>\n",
       "    <tr>\n",
       "      <th>19</th>\n",
       "      <td>32829</td>\n",
       "      <td>\\( 48 \\)</td>\n",
       "      <td>3</td>\n",
       "    </tr>\n",
       "    <tr>\n",
       "      <th>20</th>\n",
       "      <td>32833</td>\n",
       "      <td>\\( 3 \\frac{1}{3} \\)</td>\n",
       "      <td>0</td>\n",
       "    </tr>\n",
       "    <tr>\n",
       "      <th>22</th>\n",
       "      <td>32833</td>\n",
       "      <td>\\( \\frac{10}{15} \\)</td>\n",
       "      <td>1</td>\n",
       "    </tr>\n",
       "    <tr>\n",
       "      <th>23</th>\n",
       "      <td>32833</td>\n",
       "      <td>\\( \\frac{2}{15} \\)</td>\n",
       "      <td>2</td>\n",
       "    </tr>\n",
       "    <tr>\n",
       "      <th>21</th>\n",
       "      <td>32833</td>\n",
       "      <td>\\( 5 \\frac{2}{3} \\)</td>\n",
       "      <td>3</td>\n",
       "    </tr>\n",
       "    <tr>\n",
       "      <th>27</th>\n",
       "      <td>32835</td>\n",
       "      <td>\\( 6.2 \\)</td>\n",
       "      <td>0</td>\n",
       "    </tr>\n",
       "    <tr>\n",
       "      <th>24</th>\n",
       "      <td>32835</td>\n",
       "      <td>\\( 6 \\)</td>\n",
       "      <td>1</td>\n",
       "    </tr>\n",
       "    <tr>\n",
       "      <th>26</th>\n",
       "      <td>32835</td>\n",
       "      <td>\\( 6.079 \\)</td>\n",
       "      <td>2</td>\n",
       "    </tr>\n",
       "    <tr>\n",
       "      <th>25</th>\n",
       "      <td>32835</td>\n",
       "      <td>\\( 6.0001 \\)</td>\n",
       "      <td>3</td>\n",
       "    </tr>\n",
       "    <tr>\n",
       "      <th>28</th>\n",
       "      <td>33471</td>\n",
       "      <td>\\( 15 \\)</td>\n",
       "      <td>0</td>\n",
       "    </tr>\n",
       "    <tr>\n",
       "      <th>31</th>\n",
       "      <td>33471</td>\n",
       "      <td>\\( 9 \\)</td>\n",
       "      <td>1</td>\n",
       "    </tr>\n",
       "    <tr>\n",
       "      <th>30</th>\n",
       "      <td>33471</td>\n",
       "      <td>\\( 8 \\)</td>\n",
       "      <td>2</td>\n",
       "    </tr>\n",
       "    <tr>\n",
       "      <th>29</th>\n",
       "      <td>33471</td>\n",
       "      <td>\\( 3 \\)</td>\n",
       "      <td>3</td>\n",
       "    </tr>\n",
       "    <tr>\n",
       "      <th>32</th>\n",
       "      <td>33472</td>\n",
       "      <td>\\( \\frac{11}{15} \\)</td>\n",
       "      <td>0</td>\n",
       "    </tr>\n",
       "    <tr>\n",
       "      <th>34</th>\n",
       "      <td>33472</td>\n",
       "      <td>\\( \\frac{3}{15} \\)</td>\n",
       "      <td>1</td>\n",
       "    </tr>\n",
       "    <tr>\n",
       "      <th>35</th>\n",
       "      <td>33472</td>\n",
       "      <td>\\( \\frac{3}{8} \\)</td>\n",
       "      <td>2</td>\n",
       "    </tr>\n",
       "    <tr>\n",
       "      <th>33</th>\n",
       "      <td>33472</td>\n",
       "      <td>\\( \\frac{11}{30} \\)</td>\n",
       "      <td>3</td>\n",
       "    </tr>\n",
       "    <tr>\n",
       "      <th>39</th>\n",
       "      <td>33474</td>\n",
       "      <td>\\( \\frac{2}{3}-\\frac{1}{3} \\)</td>\n",
       "      <td>0</td>\n",
       "    </tr>\n",
       "    <tr>\n",
       "      <th>36</th>\n",
       "      <td>33474</td>\n",
       "      <td>\\( \\frac{1}{3} \\times \\frac{2}{3} \\)</td>\n",
       "      <td>1</td>\n",
       "    </tr>\n",
       "    <tr>\n",
       "      <th>38</th>\n",
       "      <td>33474</td>\n",
       "      <td>\\( \\frac{2}{3} \\div \\frac{1}{3} \\)</td>\n",
       "      <td>2</td>\n",
       "    </tr>\n",
       "    <tr>\n",
       "      <th>37</th>\n",
       "      <td>33474</td>\n",
       "      <td>\\( \\frac{1}{3}+\\frac{2}{3} \\)</td>\n",
       "      <td>3</td>\n",
       "    </tr>\n",
       "    <tr>\n",
       "      <th>41</th>\n",
       "      <td>76870</td>\n",
       "      <td>\\( 10 \\)</td>\n",
       "      <td>0</td>\n",
       "    </tr>\n",
       "    <tr>\n",
       "      <th>40</th>\n",
       "      <td>76870</td>\n",
       "      <td>Not enough information</td>\n",
       "      <td>1</td>\n",
       "    </tr>\n",
       "    <tr>\n",
       "      <th>42</th>\n",
       "      <td>76870</td>\n",
       "      <td>\\( 5 \\)</td>\n",
       "      <td>2</td>\n",
       "    </tr>\n",
       "    <tr>\n",
       "      <th>43</th>\n",
       "      <td>76870</td>\n",
       "      <td>\\( 6 \\)</td>\n",
       "      <td>3</td>\n",
       "    </tr>\n",
       "    <tr>\n",
       "      <th>45</th>\n",
       "      <td>89443</td>\n",
       "      <td>\\( -3 \\)</td>\n",
       "      <td>0</td>\n",
       "    </tr>\n",
       "    <tr>\n",
       "      <th>44</th>\n",
       "      <td>89443</td>\n",
       "      <td>\\( -13 \\)</td>\n",
       "      <td>1</td>\n",
       "    </tr>\n",
       "    <tr>\n",
       "      <th>47</th>\n",
       "      <td>89443</td>\n",
       "      <td>\\( 3 \\)</td>\n",
       "      <td>2</td>\n",
       "    </tr>\n",
       "    <tr>\n",
       "      <th>46</th>\n",
       "      <td>89443</td>\n",
       "      <td>\\( 13 \\)</td>\n",
       "      <td>3</td>\n",
       "    </tr>\n",
       "    <tr>\n",
       "      <th>50</th>\n",
       "      <td>91695</td>\n",
       "      <td>\\( 26 \\)</td>\n",
       "      <td>0</td>\n",
       "    </tr>\n",
       "    <tr>\n",
       "      <th>49</th>\n",
       "      <td>91695</td>\n",
       "      <td>\\( 22 \\)</td>\n",
       "      <td>1</td>\n",
       "    </tr>\n",
       "    <tr>\n",
       "      <th>51</th>\n",
       "      <td>91695</td>\n",
       "      <td>\\( 36 \\)</td>\n",
       "      <td>2</td>\n",
       "    </tr>\n",
       "    <tr>\n",
       "      <th>48</th>\n",
       "      <td>91695</td>\n",
       "      <td>\\( 20 \\)</td>\n",
       "      <td>3</td>\n",
       "    </tr>\n",
       "    <tr>\n",
       "      <th>53</th>\n",
       "      <td>104665</td>\n",
       "      <td>\\( 48 \\) hours</td>\n",
       "      <td>0</td>\n",
       "    </tr>\n",
       "    <tr>\n",
       "      <th>55</th>\n",
       "      <td>104665</td>\n",
       "      <td>\\( 768 \\) hours</td>\n",
       "      <td>1</td>\n",
       "    </tr>\n",
       "    <tr>\n",
       "      <th>54</th>\n",
       "      <td>104665</td>\n",
       "      <td>\\( 64 \\) hours</td>\n",
       "      <td>2</td>\n",
       "    </tr>\n",
       "    <tr>\n",
       "      <th>52</th>\n",
       "      <td>104665</td>\n",
       "      <td>\\( 192 \\) hours</td>\n",
       "      <td>3</td>\n",
       "    </tr>\n",
       "    <tr>\n",
       "      <th>58</th>\n",
       "      <td>109465</td>\n",
       "      <td>Likely</td>\n",
       "      <td>0</td>\n",
       "    </tr>\n",
       "    <tr>\n",
       "      <th>59</th>\n",
       "      <td>109465</td>\n",
       "      <td>Unlikely</td>\n",
       "      <td>1</td>\n",
       "    </tr>\n",
       "    <tr>\n",
       "      <th>56</th>\n",
       "      <td>109465</td>\n",
       "      <td>Certain</td>\n",
       "      <td>2</td>\n",
       "    </tr>\n",
       "    <tr>\n",
       "      <th>57</th>\n",
       "      <td>109465</td>\n",
       "      <td>Impossible</td>\n",
       "      <td>3</td>\n",
       "    </tr>\n",
       "  </tbody>\n",
       "</table>\n",
       "</div>"
      ],
      "text/plain": [
       "    QuestionId                             MC_Answer  rank\n",
       "0        31772                     \\( \\frac{1}{3} \\)     0\n",
       "3        31772                     \\( \\frac{3}{9} \\)     1\n",
       "1        31772                     \\( \\frac{3}{6} \\)     2\n",
       "2        31772                     \\( \\frac{3}{8} \\)     3\n",
       "5        31774                    \\( \\frac{1}{12} \\)     0\n",
       "4        31774                               \\( 3 \\)     1\n",
       "7        31774                     \\( \\frac{6}{2} \\)     2\n",
       "6        31774                     \\( \\frac{1}{3} \\)     3\n",
       "11       31777                              \\( 72 \\)     0\n",
       "9        31777                              \\( 48 \\)     1\n",
       "10       31777                              \\( 60 \\)     2\n",
       "8        31777                              \\( 24 \\)     3\n",
       "14       31778                               \\( 6 \\)     0\n",
       "13       31778                               \\( 4 \\)     1\n",
       "12       31778                               \\( 3 \\)     2\n",
       "15       31778                               \\( 9 \\)     3\n",
       "16       32829                              \\( 12 \\)     0\n",
       "18       32829                               \\( 4 \\)     1\n",
       "17       32829                              \\( 22 \\)     2\n",
       "19       32829                              \\( 48 \\)     3\n",
       "20       32833                   \\( 3 \\frac{1}{3} \\)     0\n",
       "22       32833                   \\( \\frac{10}{15} \\)     1\n",
       "23       32833                    \\( \\frac{2}{15} \\)     2\n",
       "21       32833                   \\( 5 \\frac{2}{3} \\)     3\n",
       "27       32835                             \\( 6.2 \\)     0\n",
       "24       32835                               \\( 6 \\)     1\n",
       "26       32835                           \\( 6.079 \\)     2\n",
       "25       32835                          \\( 6.0001 \\)     3\n",
       "28       33471                              \\( 15 \\)     0\n",
       "31       33471                               \\( 9 \\)     1\n",
       "30       33471                               \\( 8 \\)     2\n",
       "29       33471                               \\( 3 \\)     3\n",
       "32       33472                   \\( \\frac{11}{15} \\)     0\n",
       "34       33472                    \\( \\frac{3}{15} \\)     1\n",
       "35       33472                     \\( \\frac{3}{8} \\)     2\n",
       "33       33472                   \\( \\frac{11}{30} \\)     3\n",
       "39       33474         \\( \\frac{2}{3}-\\frac{1}{3} \\)     0\n",
       "36       33474  \\( \\frac{1}{3} \\times \\frac{2}{3} \\)     1\n",
       "38       33474    \\( \\frac{2}{3} \\div \\frac{1}{3} \\)     2\n",
       "37       33474         \\( \\frac{1}{3}+\\frac{2}{3} \\)     3\n",
       "41       76870                              \\( 10 \\)     0\n",
       "40       76870                Not enough information     1\n",
       "42       76870                               \\( 5 \\)     2\n",
       "43       76870                               \\( 6 \\)     3\n",
       "45       89443                              \\( -3 \\)     0\n",
       "44       89443                             \\( -13 \\)     1\n",
       "47       89443                               \\( 3 \\)     2\n",
       "46       89443                              \\( 13 \\)     3\n",
       "50       91695                              \\( 26 \\)     0\n",
       "49       91695                              \\( 22 \\)     1\n",
       "51       91695                              \\( 36 \\)     2\n",
       "48       91695                              \\( 20 \\)     3\n",
       "53      104665                        \\( 48 \\) hours     0\n",
       "55      104665                       \\( 768 \\) hours     1\n",
       "54      104665                        \\( 64 \\) hours     2\n",
       "52      104665                       \\( 192 \\) hours     3\n",
       "58      109465                                Likely     0\n",
       "59      109465                              Unlikely     1\n",
       "56      109465                               Certain     2\n",
       "57      109465                            Impossible     3"
      ]
     },
     "execution_count": 53,
     "metadata": {},
     "output_type": "execute_result"
    }
   ],
   "source": [
    "temp = temp.drop('count',axis=1)\n",
    "temp = temp.sort_values(['QuestionId','rank'])\n",
    "temp"
   ]
  },
  {
   "cell_type": "code",
   "execution_count": 54,
   "id": "19fb47fa",
   "metadata": {
    "execution": {
     "iopub.execute_input": "2025-10-02T14:45:49.085529Z",
     "iopub.status.busy": "2025-10-02T14:45:49.085129Z",
     "iopub.status.idle": "2025-10-02T14:45:49.144356Z",
     "shell.execute_reply": "2025-10-02T14:45:49.143717Z"
    },
    "papermill": {
     "duration": 0.088425,
     "end_time": "2025-10-02T14:45:49.145336",
     "exception": false,
     "start_time": "2025-10-02T14:45:49.056911",
     "status": "completed"
    },
    "scrolled": true,
    "tags": []
   },
   "outputs": [
    {
     "name": "stdout",
     "output_type": "stream",
     "text": [
      "\n"
     ]
    },
    {
     "data": {
      "text/latex": [
       "Question Id: 31772: What fraction of the shape is not shaded? Give your answer in its simplest form. [Image: A triangle split into 9 equal smaller triangles. 6 of them are shaded.]"
      ],
      "text/plain": [
       "<IPython.core.display.Latex object>"
      ]
     },
     "metadata": {},
     "output_type": "display_data"
    },
    {
     "data": {
      "text/latex": [
       "MC Answer: (A) \\( \\frac{1}{3} \\) (B) \\( \\frac{3}{9} \\) (C) \\( \\frac{3}{6} \\) (D) \\( \\frac{3}{8} \\)\n",
       "\r"
      ],
      "text/plain": [
       "<IPython.core.display.Latex object>"
      ]
     },
     "metadata": {},
     "output_type": "display_data"
    },
    {
     "name": "stdout",
     "output_type": "stream",
     "text": [
      "\n"
     ]
    },
    {
     "data": {
      "text/latex": [
       "Question Id: 31774: Calculate \\( \\frac{1}{2} \\div 6 \\)"
      ],
      "text/plain": [
       "<IPython.core.display.Latex object>"
      ]
     },
     "metadata": {},
     "output_type": "display_data"
    },
    {
     "data": {
      "text/latex": [
       "MC Answer: (A) \\( \\frac{1}{12} \\) (B) \\( 3 \\) (C) \\( \\frac{6}{2} \\) (D) \\( \\frac{1}{3} \\)\n",
       "\r"
      ],
      "text/plain": [
       "<IPython.core.display.Latex object>"
      ]
     },
     "metadata": {},
     "output_type": "display_data"
    },
    {
     "name": "stdout",
     "output_type": "stream",
     "text": [
      "\n"
     ]
    },
    {
     "data": {
      "text/latex": [
       "Question Id: 31777: A box contains \\( 120 \\) counters. The counters are red or blue. \\( \\frac{3}{5} \\) of the counters are red.\n",
       "How many red counters are there?"
      ],
      "text/plain": [
       "<IPython.core.display.Latex object>"
      ]
     },
     "metadata": {},
     "output_type": "display_data"
    },
    {
     "data": {
      "text/latex": [
       "MC Answer: (A) \\( 72 \\) (B) \\( 48 \\) (C) \\( 60 \\) (D) \\( 24 \\)\n",
       "\r"
      ],
      "text/plain": [
       "<IPython.core.display.Latex object>"
      ]
     },
     "metadata": {},
     "output_type": "display_data"
    },
    {
     "name": "stdout",
     "output_type": "stream",
     "text": [
      "\n"
     ]
    },
    {
     "data": {
      "text/latex": [
       "Question Id: 31778: \\( \\frac{A}{10}=\\frac{9}{15} \\) What is the value of \\( A \\) ?"
      ],
      "text/plain": [
       "<IPython.core.display.Latex object>"
      ]
     },
     "metadata": {},
     "output_type": "display_data"
    },
    {
     "data": {
      "text/latex": [
       "MC Answer: (A) \\( 6 \\) (B) \\( 4 \\) (C) \\( 3 \\) (D) \\( 9 \\)\n",
       "\r"
      ],
      "text/plain": [
       "<IPython.core.display.Latex object>"
      ]
     },
     "metadata": {},
     "output_type": "display_data"
    },
    {
     "name": "stdout",
     "output_type": "stream",
     "text": [
      "\n"
     ]
    },
    {
     "data": {
      "text/latex": [
       "Question Id: 32829: \\( 2 y=24 \\) What is the value of \\( y \\) ?"
      ],
      "text/plain": [
       "<IPython.core.display.Latex object>"
      ]
     },
     "metadata": {},
     "output_type": "display_data"
    },
    {
     "data": {
      "text/latex": [
       "MC Answer: (A) \\( 12 \\) (B) \\( 4 \\) (C) \\( 22 \\) (D) \\( 48 \\)\n",
       "\r"
      ],
      "text/plain": [
       "<IPython.core.display.Latex object>"
      ]
     },
     "metadata": {},
     "output_type": "display_data"
    },
    {
     "name": "stdout",
     "output_type": "stream",
     "text": [
      "\n"
     ]
    },
    {
     "data": {
      "text/latex": [
       "Question Id: 32833: Calculate \\( \\frac{2}{3} \\times 5 \\)"
      ],
      "text/plain": [
       "<IPython.core.display.Latex object>"
      ]
     },
     "metadata": {},
     "output_type": "display_data"
    },
    {
     "data": {
      "text/latex": [
       "MC Answer: (A) \\( 3 \\frac{1}{3} \\) (B) \\( \\frac{10}{15} \\) (C) \\( \\frac{2}{15} \\) (D) \\( 5 \\frac{2}{3} \\)\n",
       "\r"
      ],
      "text/plain": [
       "<IPython.core.display.Latex object>"
      ]
     },
     "metadata": {},
     "output_type": "display_data"
    },
    {
     "name": "stdout",
     "output_type": "stream",
     "text": [
      "\n"
     ]
    },
    {
     "data": {
      "text/latex": [
       "Question Id: 32835: Which number is the greatest?"
      ],
      "text/plain": [
       "<IPython.core.display.Latex object>"
      ]
     },
     "metadata": {},
     "output_type": "display_data"
    },
    {
     "data": {
      "text/latex": [
       "MC Answer: (A) \\( 6.2 \\) (B) \\( 6 \\) (C) \\( 6.079 \\) (D) \\( 6.0001 \\)\n",
       "\r"
      ],
      "text/plain": [
       "<IPython.core.display.Latex object>"
      ]
     },
     "metadata": {},
     "output_type": "display_data"
    },
    {
     "name": "stdout",
     "output_type": "stream",
     "text": [
      "\n"
     ]
    },
    {
     "data": {
      "text/latex": [
       "Question Id: 33471: A bag contains \\( 24 \\) yellow and green balls. \\( \\frac{3}{8} \\) of the balls are yellow. How many of the balls are green?"
      ],
      "text/plain": [
       "<IPython.core.display.Latex object>"
      ]
     },
     "metadata": {},
     "output_type": "display_data"
    },
    {
     "data": {
      "text/latex": [
       "MC Answer: (A) \\( 15 \\) (B) \\( 9 \\) (C) \\( 8 \\) (D) \\( 3 \\)\n",
       "\r"
      ],
      "text/plain": [
       "<IPython.core.display.Latex object>"
      ]
     },
     "metadata": {},
     "output_type": "display_data"
    },
    {
     "name": "stdout",
     "output_type": "stream",
     "text": [
      "\n"
     ]
    },
    {
     "data": {
      "text/latex": [
       "Question Id: 33472: \\( \\frac{1}{3}+\\frac{2}{5}= \\)"
      ],
      "text/plain": [
       "<IPython.core.display.Latex object>"
      ]
     },
     "metadata": {},
     "output_type": "display_data"
    },
    {
     "data": {
      "text/latex": [
       "MC Answer: (A) \\( \\frac{11}{15} \\) (B) \\( \\frac{3}{15} \\) (C) \\( \\frac{3}{8} \\) (D) \\( \\frac{11}{30} \\)\n",
       "\r"
      ],
      "text/plain": [
       "<IPython.core.display.Latex object>"
      ]
     },
     "metadata": {},
     "output_type": "display_data"
    },
    {
     "name": "stdout",
     "output_type": "stream",
     "text": [
      "\n"
     ]
    },
    {
     "data": {
      "text/latex": [
       "Question Id: 33474: Sally has \\( \\frac{2}{3} \\) of a whole cake in the fridge. Robert eats \\( \\frac{1}{3} \\) of this piece. What fraction of the whole cake has Robert eaten?\n",
       "Choose the number sentence that would solve the word problem."
      ],
      "text/plain": [
       "<IPython.core.display.Latex object>"
      ]
     },
     "metadata": {},
     "output_type": "display_data"
    },
    {
     "data": {
      "text/latex": [
       "MC Answer: (A) \\( \\frac{2}{3}-\\frac{1}{3} \\) (B) \\( \\frac{1}{3} \\times \\frac{2}{3} \\) (C) \\( \\frac{2}{3} \\div \\frac{1}{3} \\) (D) \\( \\frac{1}{3}+\\frac{2}{3} \\)\n",
       "\r"
      ],
      "text/plain": [
       "<IPython.core.display.Latex object>"
      ]
     },
     "metadata": {},
     "output_type": "display_data"
    },
    {
     "name": "stdout",
     "output_type": "stream",
     "text": [
      "\n"
     ]
    },
    {
     "data": {
      "text/latex": [
       "Question Id: 76870: This is part of a regular polygon. How many sides does it have? [Image: A diagram showing an obtuse angle labelled 144 degrees]"
      ],
      "text/plain": [
       "<IPython.core.display.Latex object>"
      ]
     },
     "metadata": {},
     "output_type": "display_data"
    },
    {
     "data": {
      "text/latex": [
       "MC Answer: (A) \\( 10 \\) (B) Not enough information (C) \\( 5 \\) (D) \\( 6 \\)\n",
       "\r"
      ],
      "text/plain": [
       "<IPython.core.display.Latex object>"
      ]
     },
     "metadata": {},
     "output_type": "display_data"
    },
    {
     "name": "stdout",
     "output_type": "stream",
     "text": [
      "\n"
     ]
    },
    {
     "data": {
      "text/latex": [
       "Question Id: 89443: What number belongs in the box?\n",
       "\\(\n",
       "(-8)-(-5)=\n",
       "\\square\\)"
      ],
      "text/plain": [
       "<IPython.core.display.Latex object>"
      ]
     },
     "metadata": {},
     "output_type": "display_data"
    },
    {
     "data": {
      "text/latex": [
       "MC Answer: (A) \\( -3 \\) (B) \\( -13 \\) (C) \\( 3 \\) (D) \\( 13 \\)\n",
       "\r"
      ],
      "text/plain": [
       "<IPython.core.display.Latex object>"
      ]
     },
     "metadata": {},
     "output_type": "display_data"
    },
    {
     "name": "stdout",
     "output_type": "stream",
     "text": [
      "\n"
     ]
    },
    {
     "data": {
      "text/latex": [
       "Question Id: 91695: Dots have been arranged in these patterns: [Image: Pattern 1 consists of 6 dots, Pattern 2 consists of 10 dots, Pattern 3 consists of 14 dots and Pattern 4 consists of 18 dots] How many dots would there be in Pattern \\( 6 \\) ?"
      ],
      "text/plain": [
       "<IPython.core.display.Latex object>"
      ]
     },
     "metadata": {},
     "output_type": "display_data"
    },
    {
     "data": {
      "text/latex": [
       "MC Answer: (A) \\( 26 \\) (B) \\( 22 \\) (C) \\( 36 \\) (D) \\( 20 \\)\n",
       "\r"
      ],
      "text/plain": [
       "<IPython.core.display.Latex object>"
      ]
     },
     "metadata": {},
     "output_type": "display_data"
    },
    {
     "name": "stdout",
     "output_type": "stream",
     "text": [
      "\n"
     ]
    },
    {
     "data": {
      "text/latex": [
       "Question Id: 104665: It takes \\( 3 \\) people a total of \\( 192 \\) hours to build a wall.\n",
       "\n",
       "How long would it take if \\( 12 \\) people built the same wall?"
      ],
      "text/plain": [
       "<IPython.core.display.Latex object>"
      ]
     },
     "metadata": {},
     "output_type": "display_data"
    },
    {
     "data": {
      "text/latex": [
       "MC Answer: (A) \\( 48 \\) hours (B) \\( 768 \\) hours (C) \\( 64 \\) hours (D) \\( 192 \\) hours\n",
       "\r"
      ],
      "text/plain": [
       "<IPython.core.display.Latex object>"
      ]
     },
     "metadata": {},
     "output_type": "display_data"
    },
    {
     "name": "stdout",
     "output_type": "stream",
     "text": [
      "\n"
     ]
    },
    {
     "data": {
      "text/latex": [
       "Question Id: 109465: The probability of an event occurring is \\( 0.9 \\).\n",
       "\n",
       "Which of the following most accurately describes the likelihood of the event occurring?"
      ],
      "text/plain": [
       "<IPython.core.display.Latex object>"
      ]
     },
     "metadata": {},
     "output_type": "display_data"
    },
    {
     "data": {
      "text/latex": [
       "MC Answer: (A) Likely (B) Unlikely (C) Certain (D) Impossible\n",
       "\r"
      ],
      "text/plain": [
       "<IPython.core.display.Latex object>"
      ]
     },
     "metadata": {},
     "output_type": "display_data"
    }
   ],
   "source": [
    "Qid = temp[\"QuestionId\"].unique() # get unique questionid\n",
    "for q in Qid:\n",
    "    question = trainDF.loc[trainDF.QuestionId==q].iloc[0][\"QuestionText\"] # get Question Text for specific QuestionId\n",
    "    choices = temp.loc[temp[\"QuestionId\"] ==q][\"MC_Answer\"].values #\n",
    "    labels=\"ABCD\" # define labels name\n",
    "    choiceStr = \" \".join([f\"({labels[i]}) {choice}\" for  i, choice in enumerate(choices)])\n",
    "    print()\n",
    "    display(Latex(f\"Question Id: {q}: {question}\"))\n",
    "    display(Latex(f\"MC Answer: {choiceStr}\\n\\r\"))\n",
    "    \n",
    "    # print(f\"question: {question}, choices: {choices}  \\n\\r\")"
   ]
  },
  {
   "cell_type": "code",
   "execution_count": 55,
   "id": "5320d0c4",
   "metadata": {
    "execution": {
     "iopub.execute_input": "2025-10-02T14:45:49.204382Z",
     "iopub.status.busy": "2025-10-02T14:45:49.204157Z",
     "iopub.status.idle": "2025-10-02T14:45:49.208060Z",
     "shell.execute_reply": "2025-10-02T14:45:49.207551Z"
    },
    "papermill": {
     "duration": 0.034542,
     "end_time": "2025-10-02T14:45:49.209029",
     "exception": false,
     "start_time": "2025-10-02T14:45:49.174487",
     "status": "completed"
    },
    "tags": []
   },
   "outputs": [
    {
     "data": {
      "text/plain": [
       "15"
      ]
     },
     "execution_count": 55,
     "metadata": {},
     "output_type": "execute_result"
    }
   ],
   "source": [
    "len(Qid)"
   ]
  },
  {
   "cell_type": "code",
   "execution_count": 56,
   "id": "c6855709",
   "metadata": {
    "execution": {
     "iopub.execute_input": "2025-10-02T14:45:49.312357Z",
     "iopub.status.busy": "2025-10-02T14:45:49.311682Z",
     "iopub.status.idle": "2025-10-02T14:45:52.594694Z",
     "shell.execute_reply": "2025-10-02T14:45:52.594096Z"
    },
    "papermill": {
     "duration": 3.314111,
     "end_time": "2025-10-02T14:45:52.596010",
     "exception": false,
     "start_time": "2025-10-02T14:45:49.281899",
     "status": "completed"
    },
    "tags": []
   },
   "outputs": [],
   "source": [
    "clearMemory()"
   ]
  },
  {
   "cell_type": "markdown",
   "id": "911946f0",
   "metadata": {
    "papermill": {
     "duration": 0.028858,
     "end_time": "2025-10-02T14:45:52.654869",
     "exception": false,
     "start_time": "2025-10-02T14:45:52.626011",
     "status": "completed"
    },
    "tags": []
   },
   "source": [
    "<!-- ### Undersampling is simple way to reduce impact for training imbalance class -->\n",
    "# Imbalance Class Handling\n",
    "To address the extreme class imbalance in your training dataset, you can apply sampling techniques to create a more balanced dataset for fine-tuning. Here are common and effective approaches:\n",
    "\n",
    "### Undersampling the Majority Classes\n",
    "Randomly remove samples from highly frequent classes (e.g., label 37 with 14,802 samples) to reduce their dominance.\n",
    "\n",
    "Techniques like Near Miss or Tomek Links select majority samples close to minority samples to keep important points and remove redundant ones.\n",
    "\n",
    "Downsampling ensures batches contain more representative samples of minority classes, helping the model learn minority patterns better.\n",
    "\n",
    "### Oversampling the Minority Classes\n",
    "Increase the number of samples in minority classes by replicating existing samples or synthetically generating new ones (e.g., SMOTE or Perceptual Borderline SMOTE).\n",
    "\n",
    "Synthetic oversampling creates new minority samples by interpolating between nearest neighbors, improving representation without losing information.\n",
    "\n",
    "### Hybrid Sampling\n",
    "Combine undersampling and oversampling to balance the dataset effectively without losing valuable majority class information.\n",
    "\n",
    "For example, reduce majority class samples moderately and apply synthetic oversampling to minority classes.\n",
    "\n",
    "Hybrid methods have been shown to perform well in highly imbalanced multi-class settings.\n",
    "\n",
    "## Additional Suggestions\n",
    "- Class Weights: Alternatively or additionally, assign higher loss weights to minority classes during training to force the model to pay more attention to them without changing the dataset distribution.\n",
    "\n",
    "- Experiment: It’s important to experiment with the degree of under- and oversampling as well as weighting to optimize balanced learning.\n",
    "\n",
    "\n",
    "By applying these resampling strategies, the data balance improves, which can help stabilize metrics like mAP during fine-tuning and improve overall model robustness across all classes.To address the extreme class imbalance in your training dataset, a common solution is to use sampling techniques to balance the dataset:\n",
    "\n",
    "- Undersampling: Reduce samples from majority classes by randomly removing some instances or using informed methods like Near Miss or Tomek Links, which selectively remove samples from majority classes near minority class boundaries. This prevents the model from overwhelming bias towards large classes.\n",
    "\n",
    "- Oversampling: Increase samples from minority classes by duplicating instances or generating synthetic samples using methods like SMOTE or Perceptual Borderline SMOTE, which interpolate between minority samples to create new, plausible instances.\n",
    "\n",
    "- Hybrid methods: Combine undersampling of large classes with oversampling of small classes to maintain data diversity and balance effectively.\n",
    "\n",
    "- Class weighting: Alternatively, or in addition, use class-weighted loss functions to penalize misclassification of minority classes more heavily without changing data distribution.\n",
    "\n",
    "It's recommended to experiment with these approaches and their parameters, aiming for a balanced representation that helps the model learn all classes well and stabilizes performance metrics like mAP during fine-tuning.\n",
    "\n",
    "\n",
    "### how to apply class weight in transformers\n",
    "To apply class weights in fine-tuning transformers with PyTorch, you typically define a weighted loss function that penalizes misclassification of underrepresented classes more heavily. Here's how you can do it:\n",
    "\n",
    "### How to Apply Class Weights in Transformers (PyTorch)\n",
    "Calculate class weights: Create a tensor of class weights inversely proportional to class frequencies.\n",
    "\n",
    "- Use weighted loss function: Pass the class weights to PyTorch's nn.CrossEntropyLoss(weight=class_weights). This makes the loss sensitive to class imbalance.\n",
    "\n",
    "Integrate with Hugging Face Trainer:\n",
    "\n",
    "Subclass the Trainer class.\n",
    "\n",
    "Override the compute_loss method to apply the weighted loss function instead of the default one.\n",
    "\n",
    "Example Code\n",
    "python\n",
    "import torch\n",
    "from torch import nn\n",
    "from transformers import Trainer\n",
    "\n",
    "# Define class weights as a torch tensor, for example:\n",
    "class_weights = torch.tensor([0.1, 0.3, 0.6], device='cuda')  # Replace with actual weights\n",
    "\n",
    "# Custom Trainer to use weighted loss\n",
    "```\n",
    "class CustomTrainer(Trainer):\n",
    "    def compute_loss(self, model, inputs, return_outputs=False):\n",
    "        labels = inputs.get(\"labels\")\n",
    "        outputs = model(**inputs)\n",
    "        logits = outputs.get('logits')\n",
    "        loss_fct = nn.CrossEntropyLoss(weight=class_weights)\n",
    "        loss = loss_fct(logits.view(-1, model.config.num_labels), labels.view(-1))\n",
    "        return (loss, outputs) if return_outputs else loss\n",
    "```\n",
    "\n",
    "This approach lets the transformer model focus more on minority classes by increasing their contribution to the loss during training. The class weights tensor should be calculated based on class frequencies from your dataset.\n",
    "\n",
    "This method is the standard way to apply class weights during transformer fine-tuning in PyTorch and Hugging Face Trainer.\n",
    "\n"
   ]
  },
  {
   "cell_type": "code",
   "execution_count": 57,
   "id": "36528c95",
   "metadata": {
    "execution": {
     "iopub.execute_input": "2025-10-02T14:45:52.714528Z",
     "iopub.status.busy": "2025-10-02T14:45:52.714274Z",
     "iopub.status.idle": "2025-10-02T14:45:52.718608Z",
     "shell.execute_reply": "2025-10-02T14:45:52.717962Z"
    },
    "papermill": {
     "duration": 0.034776,
     "end_time": "2025-10-02T14:45:52.719698",
     "exception": false,
     "start_time": "2025-10-02T14:45:52.684922",
     "status": "completed"
    },
    "tags": []
   },
   "outputs": [
    {
     "data": {
      "text/plain": [
       "2960"
      ]
     },
     "execution_count": 57,
     "metadata": {},
     "output_type": "execute_result"
    }
   ],
   "source": [
    "sampleValue =  14802 //5\n",
    "sampleValue"
   ]
  },
  {
   "cell_type": "code",
   "execution_count": 58,
   "id": "f2840211",
   "metadata": {
    "execution": {
     "iopub.execute_input": "2025-10-02T14:45:52.778787Z",
     "iopub.status.busy": "2025-10-02T14:45:52.778590Z",
     "iopub.status.idle": "2025-10-02T14:45:52.783849Z",
     "shell.execute_reply": "2025-10-02T14:45:52.783198Z"
    },
    "papermill": {
     "duration": 0.035562,
     "end_time": "2025-10-02T14:45:52.784862",
     "exception": false,
     "start_time": "2025-10-02T14:45:52.749300",
     "status": "completed"
    },
    "tags": []
   },
   "outputs": [
    {
     "data": {
      "text/plain": [
       "3"
      ]
     },
     "execution_count": 58,
     "metadata": {},
     "output_type": "execute_result"
    }
   ],
   "source": [
    "# median value = 50 \n",
    "(trainDF[\"label\"].value_counts() > sampleValue).sum() # number of class > 50 counts"
   ]
  },
  {
   "cell_type": "markdown",
   "id": "eb5d7789",
   "metadata": {
    "papermill": {
     "duration": 0.029135,
     "end_time": "2025-10-02T14:45:52.843345",
     "exception": false,
     "start_time": "2025-10-02T14:45:52.814210",
     "status": "completed"
    },
    "tags": []
   },
   "source": [
    "## Use Mix Undersample and Oversample Improve performance"
   ]
  },
  {
   "cell_type": "code",
   "execution_count": 59,
   "id": "2c9c165e",
   "metadata": {
    "execution": {
     "iopub.execute_input": "2025-10-02T14:45:52.902126Z",
     "iopub.status.busy": "2025-10-02T14:45:52.901912Z",
     "iopub.status.idle": "2025-10-02T14:45:52.905943Z",
     "shell.execute_reply": "2025-10-02T14:45:52.905439Z"
    },
    "papermill": {
     "duration": 0.034836,
     "end_time": "2025-10-02T14:45:52.906982",
     "exception": false,
     "start_time": "2025-10-02T14:45:52.872146",
     "status": "completed"
    },
    "tags": []
   },
   "outputs": [],
   "source": [
    "# Assume df is your DataFrame and 'label' is your class column\n",
    "desired_count = sampleValue #50\n",
    "def resample_group_mix(group):\n",
    "    '''\n",
    "    Resample with hybird undersample and Oversample\n",
    "    '''\n",
    "    n = len(group)\n",
    "    if n > desired_count:\n",
    "        # Undersample if more than desired_count\n",
    "        return group.sample(n=desired_count, random_state=42)\n",
    "    elif n < desired_count:\n",
    "        # Oversample with replacement if less than desired_count\n",
    "        return group.sample(n=desired_count, replace=True, random_state=42)\n",
    "    else:\n",
    "        # Keep as is if exactly desired_count\n",
    "        return group"
   ]
  },
  {
   "cell_type": "code",
   "execution_count": 60,
   "id": "4fce5a3c",
   "metadata": {
    "execution": {
     "iopub.execute_input": "2025-10-02T14:45:52.966201Z",
     "iopub.status.busy": "2025-10-02T14:45:52.965984Z",
     "iopub.status.idle": "2025-10-02T14:45:52.969507Z",
     "shell.execute_reply": "2025-10-02T14:45:52.968970Z"
    },
    "papermill": {
     "duration": 0.034339,
     "end_time": "2025-10-02T14:45:52.970547",
     "exception": false,
     "start_time": "2025-10-02T14:45:52.936208",
     "status": "completed"
    },
    "tags": []
   },
   "outputs": [],
   "source": [
    "# conditional oversample \n",
    "oversample_count = 1500 #1000\n",
    "def resample_group_oversample(group):\n",
    "    '''\n",
    "    Resample with condition Oversample , keep major\n",
    "    '''\n",
    "    n = len(group)\n",
    "    if n < oversample_count:\n",
    "        # Oversample with replacement if less than desired_count\n",
    "        return group.sample(n=oversample_count, replace=True, random_state=42)\n",
    "    else:\n",
    "        # Keep as is if exactly desired_count\n",
    "        return group\n",
    "    "
   ]
  },
  {
   "cell_type": "code",
   "execution_count": 61,
   "id": "63648424",
   "metadata": {
    "execution": {
     "iopub.execute_input": "2025-10-02T14:45:53.029576Z",
     "iopub.status.busy": "2025-10-02T14:45:53.029372Z",
     "iopub.status.idle": "2025-10-02T14:45:53.094427Z",
     "shell.execute_reply": "2025-10-02T14:45:53.093469Z"
    },
    "papermill": {
     "duration": 0.096103,
     "end_time": "2025-10-02T14:45:53.095717",
     "exception": false,
     "start_time": "2025-10-02T14:45:52.999614",
     "status": "completed"
    },
    "tags": []
   },
   "outputs": [
    {
     "name": "stdout",
     "output_type": "stream",
     "text": [
      "label\n",
      "37    14802\n",
      "36     6542\n",
      "64     5265\n",
      "33     1500\n",
      "34     1500\n",
      "      ...  \n",
      "19     1500\n",
      "18     1500\n",
      "17     1500\n",
      "16     1500\n",
      "24     1500\n",
      "Name: count, Length: 65, dtype: int64\n"
     ]
    },
    {
     "name": "stderr",
     "output_type": "stream",
     "text": [
      "/tmp/ipykernel_19/4246594355.py:5: DeprecationWarning: DataFrameGroupBy.apply operated on the grouping columns. This behavior is deprecated, and in a future version of pandas the grouping columns will be excluded from the operation. Either pass `include_groups=False` to exclude the groupings or explicitly select the grouping columns after groupby to silence this warning.\n",
      "  trainDF_balanced = trainDF.groupby('label', group_keys=False).apply(resample_group_oversample)\n"
     ]
    }
   ],
   "source": [
    "#\n",
    "\n",
    "# Group by class and sample min(desired_count, current_count) from each class\n",
    "# trainDF_balanced = trainDF.groupby('label', group_keys=False).apply(lambda x: x.sample(n=min(len(x), desired_count), random_state=42))\n",
    "trainDF_balanced = trainDF.groupby('label', group_keys=False).apply(resample_group_oversample)\n",
    "\n",
    "print(trainDF_balanced['label'].value_counts())"
   ]
  },
  {
   "cell_type": "code",
   "execution_count": 62,
   "id": "a88be31a",
   "metadata": {
    "execution": {
     "iopub.execute_input": "2025-10-02T14:45:53.165261Z",
     "iopub.status.busy": "2025-10-02T14:45:53.165006Z",
     "iopub.status.idle": "2025-10-02T14:45:53.171653Z",
     "shell.execute_reply": "2025-10-02T14:45:53.171006Z"
    },
    "papermill": {
     "duration": 0.042825,
     "end_time": "2025-10-02T14:45:53.172872",
     "exception": false,
     "start_time": "2025-10-02T14:45:53.130047",
     "status": "completed"
    },
    "scrolled": true,
    "tags": []
   },
   "outputs": [
    {
     "data": {
      "text/plain": [
       "label\n",
       "37    14802\n",
       "36     6542\n",
       "64     5265\n",
       "33     1500\n",
       "34     1500\n",
       "35     1500\n",
       "38     1500\n",
       "39     1500\n",
       "40     1500\n",
       "41     1500\n",
       "42     1500\n",
       "43     1500\n",
       "44     1500\n",
       "45     1500\n",
       "46     1500\n",
       "47     1500\n",
       "49     1500\n",
       "50     1500\n",
       "51     1500\n",
       "52     1500\n",
       "53     1500\n",
       "54     1500\n",
       "55     1500\n",
       "56     1500\n",
       "57     1500\n",
       "58     1500\n",
       "59     1500\n",
       "60     1500\n",
       "61     1500\n",
       "62     1500\n",
       "63     1500\n",
       "48     1500\n",
       "0      1500\n",
       "1      1500\n",
       "2      1500\n",
       "3      1500\n",
       "4      1500\n",
       "5      1500\n",
       "6      1500\n",
       "7      1500\n",
       "8      1500\n",
       "9      1500\n",
       "10     1500\n",
       "11     1500\n",
       "12     1500\n",
       "13     1500\n",
       "14     1500\n",
       "32     1500\n",
       "31     1500\n",
       "30     1500\n",
       "29     1500\n",
       "28     1500\n",
       "27     1500\n",
       "26     1500\n",
       "25     1500\n",
       "Name: count, dtype: int64"
      ]
     },
     "execution_count": 62,
     "metadata": {},
     "output_type": "execute_result"
    }
   ],
   "source": [
    "trainDF_balanced['label'].value_counts()[:55]"
   ]
  },
  {
   "cell_type": "code",
   "execution_count": 63,
   "id": "94db9039",
   "metadata": {
    "execution": {
     "iopub.execute_input": "2025-10-02T14:45:53.240281Z",
     "iopub.status.busy": "2025-10-02T14:45:53.240042Z",
     "iopub.status.idle": "2025-10-02T14:45:53.685128Z",
     "shell.execute_reply": "2025-10-02T14:45:53.684427Z"
    },
    "papermill": {
     "duration": 0.479116,
     "end_time": "2025-10-02T14:45:53.686330",
     "exception": false,
     "start_time": "2025-10-02T14:45:53.207214",
     "status": "completed"
    },
    "tags": []
   },
   "outputs": [
    {
     "data": {
      "image/png": "[encoded data removed]",
      "text/plain": [
       "<Figure size 640x480 with 1 Axes>"
      ]
     },
     "metadata": {},
     "output_type": "display_data"
    }
   ],
   "source": [
    "trainDF_balanced['label'].value_counts().plot(kind=\"bar\", title=\"Distribution Label\");"
   ]
  },
  {
   "cell_type": "code",
   "execution_count": 64,
   "id": "ada5aa8c",
   "metadata": {
    "execution": {
     "iopub.execute_input": "2025-10-02T14:45:53.748495Z",
     "iopub.status.busy": "2025-10-02T14:45:53.748062Z",
     "iopub.status.idle": "2025-10-02T14:45:53.767412Z",
     "shell.execute_reply": "2025-10-02T14:45:53.766835Z"
    },
    "papermill": {
     "duration": 0.05099,
     "end_time": "2025-10-02T14:45:53.768690",
     "exception": false,
     "start_time": "2025-10-02T14:45:53.717700",
     "status": "completed"
    },
    "tags": []
   },
   "outputs": [],
   "source": [
    "trainDF_balanced = trainDF_balanced.reset_index(drop=True)"
   ]
  },
  {
   "cell_type": "code",
   "execution_count": 65,
   "id": "c47c8bc9",
   "metadata": {
    "execution": {
     "iopub.execute_input": "2025-10-02T14:45:53.831650Z",
     "iopub.status.busy": "2025-10-02T14:45:53.831425Z",
     "iopub.status.idle": "2025-10-02T14:45:53.841847Z",
     "shell.execute_reply": "2025-10-02T14:45:53.841232Z"
    },
    "papermill": {
     "duration": 0.042204,
     "end_time": "2025-10-02T14:45:53.842965",
     "exception": false,
     "start_time": "2025-10-02T14:45:53.800761",
     "status": "completed"
    },
    "tags": []
   },
   "outputs": [
    {
     "data": {
      "text/html": [
       "<div>\n",
       "<style scoped>\n",
       "    .dataframe tbody tr th:only-of-type {\n",
       "        vertical-align: middle;\n",
       "    }\n",
       "\n",
       "    .dataframe tbody tr th {\n",
       "        vertical-align: top;\n",
       "    }\n",
       "\n",
       "    .dataframe thead th {\n",
       "        text-align: right;\n",
       "    }\n",
       "</style>\n",
       "<table border=\"1\" class=\"dataframe\">\n",
       "  <thead>\n",
       "    <tr style=\"text-align: right;\">\n",
       "      <th></th>\n",
       "      <th>row_id</th>\n",
       "      <th>QuestionId</th>\n",
       "      <th>QuestionText</th>\n",
       "      <th>MC_Answer</th>\n",
       "      <th>StudentExplanation</th>\n",
       "      <th>Category</th>\n",
       "      <th>Misconception</th>\n",
       "      <th>target</th>\n",
       "      <th>label</th>\n",
       "      <th>is_correct</th>\n",
       "    </tr>\n",
       "  </thead>\n",
       "  <tbody>\n",
       "    <tr>\n",
       "      <th>0</th>\n",
       "      <td>14350</td>\n",
       "      <td>31778</td>\n",
       "      <td>\\( \\frac{A}{10}=\\frac{9}{15} \\) What is the va...</td>\n",
       "      <td>\\( 9 \\)</td>\n",
       "      <td>This is because youu can time both 10 and 15 t...</td>\n",
       "      <td>False_Correct</td>\n",
       "      <td>NA</td>\n",
       "      <td>False_Correct:NA</td>\n",
       "      <td>0</td>\n",
       "      <td>0</td>\n",
       "    </tr>\n",
       "    <tr>\n",
       "      <th>1</th>\n",
       "      <td>25280</td>\n",
       "      <td>33472</td>\n",
       "      <td>\\( \\frac{1}{3}+\\frac{2}{5}= \\)</td>\n",
       "      <td>\\( \\frac{11}{30} \\)</td>\n",
       "      <td>i know this because a common denominator is 15...</td>\n",
       "      <td>False_Correct</td>\n",
       "      <td>NA</td>\n",
       "      <td>False_Correct:NA</td>\n",
       "      <td>0</td>\n",
       "      <td>0</td>\n",
       "    </tr>\n",
       "    <tr>\n",
       "      <th>2</th>\n",
       "      <td>11228</td>\n",
       "      <td>31778</td>\n",
       "      <td>\\( \\frac{A}{10}=\\frac{9}{15} \\) What is the va...</td>\n",
       "      <td>\\( 3 \\)</td>\n",
       "      <td>i divided by 3 and timesed by 2</td>\n",
       "      <td>False_Correct</td>\n",
       "      <td>NA</td>\n",
       "      <td>False_Correct:NA</td>\n",
       "      <td>0</td>\n",
       "      <td>0</td>\n",
       "    </tr>\n",
       "    <tr>\n",
       "      <th>3</th>\n",
       "      <td>2945</td>\n",
       "      <td>31772</td>\n",
       "      <td>What fraction of the shape is not shaded? Give...</td>\n",
       "      <td>\\( \\frac{3}{9} \\)</td>\n",
       "      <td>3 outt of 9 are not-shaded. also 1/3</td>\n",
       "      <td>False_Correct</td>\n",
       "      <td>NA</td>\n",
       "      <td>False_Correct:NA</td>\n",
       "      <td>0</td>\n",
       "      <td>0</td>\n",
       "    </tr>\n",
       "    <tr>\n",
       "      <th>4</th>\n",
       "      <td>16143</td>\n",
       "      <td>32829</td>\n",
       "      <td>\\( 2 y=24 \\) What is the value of \\( y \\) ?</td>\n",
       "      <td>\\( 22 \\)</td>\n",
       "      <td>24%2=12\\n12  so the answer is 12 because the 2...</td>\n",
       "      <td>False_Correct</td>\n",
       "      <td>NA</td>\n",
       "      <td>False_Correct:NA</td>\n",
       "      <td>0</td>\n",
       "      <td>0</td>\n",
       "    </tr>\n",
       "    <tr>\n",
       "      <th>...</th>\n",
       "      <td>...</td>\n",
       "      <td>...</td>\n",
       "      <td>...</td>\n",
       "      <td>...</td>\n",
       "      <td>...</td>\n",
       "      <td>...</td>\n",
       "      <td>...</td>\n",
       "      <td>...</td>\n",
       "      <td>...</td>\n",
       "      <td>...</td>\n",
       "    </tr>\n",
       "    <tr>\n",
       "      <th>119604</th>\n",
       "      <td>36262</td>\n",
       "      <td>109465</td>\n",
       "      <td>The probability of an event occurring is \\( 0....</td>\n",
       "      <td>Likely</td>\n",
       "      <td>this is because a 9 out of 10 chance means tha...</td>\n",
       "      <td>True_Neither</td>\n",
       "      <td>NA</td>\n",
       "      <td>True_Neither:NA</td>\n",
       "      <td>64</td>\n",
       "      <td>1</td>\n",
       "    </tr>\n",
       "    <tr>\n",
       "      <th>119605</th>\n",
       "      <td>36271</td>\n",
       "      <td>109465</td>\n",
       "      <td>The probability of an event occurring is \\( 0....</td>\n",
       "      <td>Likely</td>\n",
       "      <td>this is your answer because 1 would be certain...</td>\n",
       "      <td>True_Neither</td>\n",
       "      <td>NA</td>\n",
       "      <td>True_Neither:NA</td>\n",
       "      <td>64</td>\n",
       "      <td>1</td>\n",
       "    </tr>\n",
       "    <tr>\n",
       "      <th>119606</th>\n",
       "      <td>36274</td>\n",
       "      <td>109465</td>\n",
       "      <td>The probability of an event occurring is \\( 0....</td>\n",
       "      <td>Likely</td>\n",
       "      <td>u can use the process of elimination because c...</td>\n",
       "      <td>True_Neither</td>\n",
       "      <td>NA</td>\n",
       "      <td>True_Neither:NA</td>\n",
       "      <td>64</td>\n",
       "      <td>1</td>\n",
       "    </tr>\n",
       "    <tr>\n",
       "      <th>119607</th>\n",
       "      <td>36276</td>\n",
       "      <td>109465</td>\n",
       "      <td>The probability of an event occurring is \\( 0....</td>\n",
       "      <td>Likely</td>\n",
       "      <td>very high probability however it's not certain</td>\n",
       "      <td>True_Neither</td>\n",
       "      <td>NA</td>\n",
       "      <td>True_Neither:NA</td>\n",
       "      <td>64</td>\n",
       "      <td>1</td>\n",
       "    </tr>\n",
       "    <tr>\n",
       "      <th>119608</th>\n",
       "      <td>36277</td>\n",
       "      <td>109465</td>\n",
       "      <td>The probability of an event occurring is \\( 0....</td>\n",
       "      <td>Likely</td>\n",
       "      <td>we should use likely because we dont know for ...</td>\n",
       "      <td>True_Neither</td>\n",
       "      <td>NA</td>\n",
       "      <td>True_Neither:NA</td>\n",
       "      <td>64</td>\n",
       "      <td>1</td>\n",
       "    </tr>\n",
       "  </tbody>\n",
       "</table>\n",
       "<p>119609 rows × 10 columns</p>\n",
       "</div>"
      ],
      "text/plain": [
       "        row_id  QuestionId                                       QuestionText  \\\n",
       "0        14350       31778  \\( \\frac{A}{10}=\\frac{9}{15} \\) What is the va...   \n",
       "1        25280       33472                     \\( \\frac{1}{3}+\\frac{2}{5}= \\)   \n",
       "2        11228       31778  \\( \\frac{A}{10}=\\frac{9}{15} \\) What is the va...   \n",
       "3         2945       31772  What fraction of the shape is not shaded? Give...   \n",
       "4        16143       32829        \\( 2 y=24 \\) What is the value of \\( y \\) ?   \n",
       "...        ...         ...                                                ...   \n",
       "119604   36262      109465  The probability of an event occurring is \\( 0....   \n",
       "119605   36271      109465  The probability of an event occurring is \\( 0....   \n",
       "119606   36274      109465  The probability of an event occurring is \\( 0....   \n",
       "119607   36276      109465  The probability of an event occurring is \\( 0....   \n",
       "119608   36277      109465  The probability of an event occurring is \\( 0....   \n",
       "\n",
       "                  MC_Answer  \\\n",
       "0                   \\( 9 \\)   \n",
       "1       \\( \\frac{11}{30} \\)   \n",
       "2                   \\( 3 \\)   \n",
       "3         \\( \\frac{3}{9} \\)   \n",
       "4                  \\( 22 \\)   \n",
       "...                     ...   \n",
       "119604               Likely   \n",
       "119605               Likely   \n",
       "119606               Likely   \n",
       "119607               Likely   \n",
       "119608               Likely   \n",
       "\n",
       "                                       StudentExplanation       Category  \\\n",
       "0       This is because youu can time both 10 and 15 t...  False_Correct   \n",
       "1       i know this because a common denominator is 15...  False_Correct   \n",
       "2                         i divided by 3 and timesed by 2  False_Correct   \n",
       "3                    3 outt of 9 are not-shaded. also 1/3  False_Correct   \n",
       "4       24%2=12\\n12  so the answer is 12 because the 2...  False_Correct   \n",
       "...                                                   ...            ...   \n",
       "119604  this is because a 9 out of 10 chance means tha...   True_Neither   \n",
       "119605  this is your answer because 1 would be certain...   True_Neither   \n",
       "119606  u can use the process of elimination because c...   True_Neither   \n",
       "119607     very high probability however it's not certain   True_Neither   \n",
       "119608  we should use likely because we dont know for ...   True_Neither   \n",
       "\n",
       "       Misconception            target  label  is_correct  \n",
       "0                 NA  False_Correct:NA      0           0  \n",
       "1                 NA  False_Correct:NA      0           0  \n",
       "2                 NA  False_Correct:NA      0           0  \n",
       "3                 NA  False_Correct:NA      0           0  \n",
       "4                 NA  False_Correct:NA      0           0  \n",
       "...              ...               ...    ...         ...  \n",
       "119604            NA   True_Neither:NA     64           1  \n",
       "119605            NA   True_Neither:NA     64           1  \n",
       "119606            NA   True_Neither:NA     64           1  \n",
       "119607            NA   True_Neither:NA     64           1  \n",
       "119608            NA   True_Neither:NA     64           1  \n",
       "\n",
       "[119609 rows x 10 columns]"
      ]
     },
     "execution_count": 65,
     "metadata": {},
     "output_type": "execute_result"
    }
   ],
   "source": [
    "trainDF_balanced"
   ]
  },
  {
   "cell_type": "code",
   "execution_count": 66,
   "id": "08139c94",
   "metadata": {
    "execution": {
     "iopub.execute_input": "2025-10-02T14:45:53.906783Z",
     "iopub.status.busy": "2025-10-02T14:45:53.906571Z",
     "iopub.status.idle": "2025-10-02T14:45:53.943990Z",
     "shell.execute_reply": "2025-10-02T14:45:53.943205Z"
    },
    "papermill": {
     "duration": 0.070408,
     "end_time": "2025-10-02T14:45:53.945133",
     "exception": false,
     "start_time": "2025-10-02T14:45:53.874725",
     "status": "completed"
    },
    "tags": []
   },
   "outputs": [
    {
     "data": {
      "text/plain": [
       "row_id                0\n",
       "QuestionId            0\n",
       "QuestionText          0\n",
       "MC_Answer             0\n",
       "StudentExplanation    0\n",
       "Category              0\n",
       "Misconception         0\n",
       "target                0\n",
       "label                 0\n",
       "is_correct            0\n",
       "dtype: int64"
      ]
     },
     "execution_count": 66,
     "metadata": {},
     "output_type": "execute_result"
    }
   ],
   "source": [
    "trainDF_balanced.isnull().sum() # null checking"
   ]
  },
  {
   "cell_type": "code",
   "execution_count": 67,
   "id": "997384bf",
   "metadata": {
    "execution": {
     "iopub.execute_input": "2025-10-02T14:45:54.006987Z",
     "iopub.status.busy": "2025-10-02T14:45:54.006771Z",
     "iopub.status.idle": "2025-10-02T14:45:54.009508Z",
     "shell.execute_reply": "2025-10-02T14:45:54.008975Z"
    },
    "papermill": {
     "duration": 0.034537,
     "end_time": "2025-10-02T14:45:54.010562",
     "exception": false,
     "start_time": "2025-10-02T14:45:53.976025",
     "status": "completed"
    },
    "tags": []
   },
   "outputs": [],
   "source": [
    "# !pip uninstall protobuf\n",
    "# !pip install protobuf==3.20.3"
   ]
  },
  {
   "cell_type": "markdown",
   "id": "cb4f2bee",
   "metadata": {
    "papermill": {
     "duration": 0.029788,
     "end_time": "2025-10-02T14:45:54.070750",
     "exception": false,
     "start_time": "2025-10-02T14:45:54.040962",
     "status": "completed"
    },
    "tags": []
   },
   "source": [
    "## LLM inital"
   ]
  },
  {
   "cell_type": "code",
   "execution_count": 68,
   "id": "35e8be8b",
   "metadata": {
    "execution": {
     "iopub.execute_input": "2025-10-02T14:45:54.133886Z",
     "iopub.status.busy": "2025-10-02T14:45:54.133609Z",
     "iopub.status.idle": "2025-10-02T14:45:54.138496Z",
     "shell.execute_reply": "2025-10-02T14:45:54.137968Z"
    },
    "papermill": {
     "duration": 0.036922,
     "end_time": "2025-10-02T14:45:54.139476",
     "exception": false,
     "start_time": "2025-10-02T14:45:54.102554",
     "status": "completed"
    },
    "tags": []
   },
   "outputs": [],
   "source": [
    "bnbConfig = BitsAndBytesConfig(\n",
    "            load_in_4bit=True,\n",
    "            bnb_4bit_quant_type=\"nf4\",\n",
    "            bnb_4bit_compute_dtype=torch.bfloat16,\n",
    "            bnb_4bit_use_double_quant=True ) # Activate netsed quantization for 4bit base "
   ]
  },
  {
   "cell_type": "code",
   "execution_count": 69,
   "id": "15abe021",
   "metadata": {
    "execution": {
     "iopub.execute_input": "2025-10-02T14:45:54.201093Z",
     "iopub.status.busy": "2025-10-02T14:45:54.200708Z",
     "iopub.status.idle": "2025-10-02T14:45:54.203756Z",
     "shell.execute_reply": "2025-10-02T14:45:54.203196Z"
    },
    "papermill": {
     "duration": 0.034639,
     "end_time": "2025-10-02T14:45:54.204727",
     "exception": false,
     "start_time": "2025-10-02T14:45:54.170088",
     "status": "completed"
    },
    "tags": []
   },
   "outputs": [],
   "source": [
    "# !pip install triton==3.4.0\n",
    "# !pip install triton==3.0.0\n",
    "# !pip install protobuf==6.30.2"
   ]
  },
  {
   "cell_type": "code",
   "execution_count": null,
   "id": "d55b84dc",
   "metadata": {
    "papermill": {
     "duration": 0.029762,
     "end_time": "2025-10-02T14:45:54.264514",
     "exception": false,
     "start_time": "2025-10-02T14:45:54.234752",
     "status": "completed"
    },
    "tags": []
   },
   "outputs": [],
   "source": []
  },
  {
   "cell_type": "markdown",
   "id": "8161c14b",
   "metadata": {
    "papermill": {
     "duration": 0.0298,
     "end_time": "2025-10-02T14:45:54.324048",
     "exception": false,
     "start_time": "2025-10-02T14:45:54.294248",
     "status": "completed"
    },
    "tags": []
   },
   "source": [
    "### Load LLM Model and Tokenizer"
   ]
  },
  {
   "cell_type": "code",
   "execution_count": 70,
   "id": "ec146c55",
   "metadata": {
    "execution": {
     "iopub.execute_input": "2025-10-02T14:45:54.385736Z",
     "iopub.status.busy": "2025-10-02T14:45:54.385144Z",
     "iopub.status.idle": "2025-10-02T14:45:57.742874Z",
     "shell.execute_reply": "2025-10-02T14:45:57.742291Z"
    },
    "papermill": {
     "duration": 3.389636,
     "end_time": "2025-10-02T14:45:57.744364",
     "exception": false,
     "start_time": "2025-10-02T14:45:54.354728",
     "status": "completed"
    },
    "tags": []
   },
   "outputs": [],
   "source": [
    "clearMemory()"
   ]
  },
  {
   "cell_type": "code",
   "execution_count": 71,
   "id": "8b45d370",
   "metadata": {
    "execution": {
     "iopub.execute_input": "2025-10-02T14:45:57.812258Z",
     "iopub.status.busy": "2025-10-02T14:45:57.812002Z",
     "iopub.status.idle": "2025-10-02T14:45:57.816503Z",
     "shell.execute_reply": "2025-10-02T14:45:57.815939Z"
    },
    "papermill": {
     "duration": 0.03882,
     "end_time": "2025-10-02T14:45:57.817529",
     "exception": false,
     "start_time": "2025-10-02T14:45:57.778709",
     "status": "completed"
    },
    "tags": []
   },
   "outputs": [
    {
     "data": {
      "text/plain": [
       "'0.11.4'"
      ]
     },
     "execution_count": 71,
     "metadata": {},
     "output_type": "execute_result"
    }
   ],
   "source": [
    "# !pip install triton==3.0.0\n",
    "import trl\n",
    "trl.__version__"
   ]
  },
  {
   "cell_type": "code",
   "execution_count": 72,
   "id": "ff6cdcd9",
   "metadata": {
    "execution": {
     "iopub.execute_input": "2025-10-02T14:45:57.880079Z",
     "iopub.status.busy": "2025-10-02T14:45:57.879894Z",
     "iopub.status.idle": "2025-10-02T14:45:57.884004Z",
     "shell.execute_reply": "2025-10-02T14:45:57.883347Z"
    },
    "papermill": {
     "duration": 0.035566,
     "end_time": "2025-10-02T14:45:57.885015",
     "exception": false,
     "start_time": "2025-10-02T14:45:57.849449",
     "status": "completed"
    },
    "tags": []
   },
   "outputs": [
    {
     "data": {
      "text/plain": [
       "'3.2.0'"
      ]
     },
     "execution_count": 72,
     "metadata": {},
     "output_type": "execute_result"
    }
   ],
   "source": [
    "\n",
    "\n",
    "import triton\n",
    "\n",
    "triton.__version__"
   ]
  },
  {
   "cell_type": "code",
   "execution_count": 73,
   "id": "7609a651",
   "metadata": {
    "execution": {
     "iopub.execute_input": "2025-10-02T14:45:57.946051Z",
     "iopub.status.busy": "2025-10-02T14:45:57.945854Z",
     "iopub.status.idle": "2025-10-02T14:45:57.948832Z",
     "shell.execute_reply": "2025-10-02T14:45:57.948155Z"
    },
    "papermill": {
     "duration": 0.035036,
     "end_time": "2025-10-02T14:45:57.949934",
     "exception": false,
     "start_time": "2025-10-02T14:45:57.914898",
     "status": "completed"
    },
    "scrolled": true,
    "tags": []
   },
   "outputs": [],
   "source": [
    "# !pip install bitsandbytes==0.46.1"
   ]
  },
  {
   "cell_type": "code",
   "execution_count": 74,
   "id": "8067206e",
   "metadata": {
    "execution": {
     "iopub.execute_input": "2025-10-02T14:45:58.010708Z",
     "iopub.status.busy": "2025-10-02T14:45:58.010514Z",
     "iopub.status.idle": "2025-10-02T14:45:58.754735Z",
     "shell.execute_reply": "2025-10-02T14:45:58.754119Z"
    },
    "papermill": {
     "duration": 0.775923,
     "end_time": "2025-10-02T14:45:58.756008",
     "exception": false,
     "start_time": "2025-10-02T14:45:57.980085",
     "status": "completed"
    },
    "tags": []
   },
   "outputs": [],
   "source": [
    "import bitsandbytes\n",
    "# bitsandbytes.__version__"
   ]
  },
  {
   "cell_type": "code",
   "execution_count": 75,
   "id": "58e40daa",
   "metadata": {
    "execution": {
     "iopub.execute_input": "2025-10-02T14:45:58.822029Z",
     "iopub.status.busy": "2025-10-02T14:45:58.821755Z",
     "iopub.status.idle": "2025-10-02T14:45:58.826140Z",
     "shell.execute_reply": "2025-10-02T14:45:58.825352Z"
    },
    "papermill": {
     "duration": 0.038229,
     "end_time": "2025-10-02T14:45:58.827380",
     "exception": false,
     "start_time": "2025-10-02T14:45:58.789151",
     "status": "completed"
    },
    "scrolled": true,
    "tags": []
   },
   "outputs": [
    {
     "name": "stdout",
     "output_type": "stream",
     "text": [
      "Label to ID mapping: {'False_Correct:NA': 0, 'False_Misconception:Adding_across': 1, 'False_Misconception:Adding_terms': 2, 'False_Misconception:Additive': 3, 'False_Misconception:Base_rate': 4, 'False_Misconception:Certainty': 5, 'False_Misconception:Definition': 6, 'False_Misconception:Denominator-only_change': 7, 'False_Misconception:Division': 8, 'False_Misconception:Duplication': 9, 'False_Misconception:Firstterm': 10, 'False_Misconception:FlipChange': 11, 'False_Misconception:Ignores_zeroes': 12, 'False_Misconception:Incomplete': 13, 'False_Misconception:Incorrect_equivalent_fraction_addition': 14, 'False_Misconception:Interior': 15, 'False_Misconception:Inverse_operation': 16, 'False_Misconception:Inversion': 17, 'False_Misconception:Irrelevant': 18, 'False_Misconception:Longer_is_bigger': 19, 'False_Misconception:Mult': 20, 'False_Misconception:Multiplying_by_4': 21, 'False_Misconception:Not_variable': 22, 'False_Misconception:Positive': 23, 'False_Misconception:Scale': 24, 'False_Misconception:Shorter_is_bigger': 25, 'False_Misconception:Subtraction': 26, 'False_Misconception:SwapDividend': 27, 'False_Misconception:Tacking': 28, 'False_Misconception:Unknowable': 29, 'False_Misconception:WNB': 30, 'False_Misconception:Whole_numbers_larger': 31, 'False_Misconception:Wrong_Fraction': 32, 'False_Misconception:Wrong_Operation': 33, 'False_Misconception:Wrong_fraction': 34, 'False_Misconception:Wrong_term': 35, 'False_Neither:NA': 36, 'True_Correct:NA': 37, 'True_Misconception:Adding_across': 38, 'True_Misconception:Additive': 39, 'True_Misconception:Base_rate': 40, 'True_Misconception:Definition': 41, 'True_Misconception:Denominator-only_change': 42, 'True_Misconception:Division': 43, 'True_Misconception:Duplication': 44, 'True_Misconception:Firstterm': 45, 'True_Misconception:FlipChange': 46, 'True_Misconception:Incomplete': 47, 'True_Misconception:Incorrect_equivalent_fraction_addition': 48, 'True_Misconception:Inversion': 49, 'True_Misconception:Irrelevant': 50, 'True_Misconception:Longer_is_bigger': 51, 'True_Misconception:Mult': 52, 'True_Misconception:Multiplying_by_4': 53, 'True_Misconception:Not_variable': 54, 'True_Misconception:Positive': 55, 'True_Misconception:Shorter_is_bigger': 56, 'True_Misconception:Subtraction': 57, 'True_Misconception:SwapDividend': 58, 'True_Misconception:Tacking': 59, 'True_Misconception:WNB': 60, 'True_Misconception:Whole_numbers_larger': 61, 'True_Misconception:Wrong_fraction': 62, 'True_Misconception:Wrong_term': 63, 'True_Neither:NA': 64}\n"
     ]
    }
   ],
   "source": [
    "# Mapping from label to ID (label2id)\n",
    "label2id = {label: i for i, label in enumerate(le.classes_)}\n",
    "print(f\"Label to ID mapping: {label2id}\")"
   ]
  },
  {
   "cell_type": "code",
   "execution_count": 76,
   "id": "9eeeca5a",
   "metadata": {
    "execution": {
     "iopub.execute_input": "2025-10-02T14:45:58.888788Z",
     "iopub.status.busy": "2025-10-02T14:45:58.888587Z",
     "iopub.status.idle": "2025-10-02T14:45:58.892645Z",
     "shell.execute_reply": "2025-10-02T14:45:58.892034Z"
    },
    "papermill": {
     "duration": 0.035914,
     "end_time": "2025-10-02T14:45:58.893639",
     "exception": false,
     "start_time": "2025-10-02T14:45:58.857725",
     "status": "completed"
    },
    "scrolled": true,
    "tags": []
   },
   "outputs": [
    {
     "name": "stdout",
     "output_type": "stream",
     "text": [
      "ID to label mapping: {0: 'False_Correct:NA', 1: 'False_Misconception:Adding_across', 2: 'False_Misconception:Adding_terms', 3: 'False_Misconception:Additive', 4: 'False_Misconception:Base_rate', 5: 'False_Misconception:Certainty', 6: 'False_Misconception:Definition', 7: 'False_Misconception:Denominator-only_change', 8: 'False_Misconception:Division', 9: 'False_Misconception:Duplication', 10: 'False_Misconception:Firstterm', 11: 'False_Misconception:FlipChange', 12: 'False_Misconception:Ignores_zeroes', 13: 'False_Misconception:Incomplete', 14: 'False_Misconception:Incorrect_equivalent_fraction_addition', 15: 'False_Misconception:Interior', 16: 'False_Misconception:Inverse_operation', 17: 'False_Misconception:Inversion', 18: 'False_Misconception:Irrelevant', 19: 'False_Misconception:Longer_is_bigger', 20: 'False_Misconception:Mult', 21: 'False_Misconception:Multiplying_by_4', 22: 'False_Misconception:Not_variable', 23: 'False_Misconception:Positive', 24: 'False_Misconception:Scale', 25: 'False_Misconception:Shorter_is_bigger', 26: 'False_Misconception:Subtraction', 27: 'False_Misconception:SwapDividend', 28: 'False_Misconception:Tacking', 29: 'False_Misconception:Unknowable', 30: 'False_Misconception:WNB', 31: 'False_Misconception:Whole_numbers_larger', 32: 'False_Misconception:Wrong_Fraction', 33: 'False_Misconception:Wrong_Operation', 34: 'False_Misconception:Wrong_fraction', 35: 'False_Misconception:Wrong_term', 36: 'False_Neither:NA', 37: 'True_Correct:NA', 38: 'True_Misconception:Adding_across', 39: 'True_Misconception:Additive', 40: 'True_Misconception:Base_rate', 41: 'True_Misconception:Definition', 42: 'True_Misconception:Denominator-only_change', 43: 'True_Misconception:Division', 44: 'True_Misconception:Duplication', 45: 'True_Misconception:Firstterm', 46: 'True_Misconception:FlipChange', 47: 'True_Misconception:Incomplete', 48: 'True_Misconception:Incorrect_equivalent_fraction_addition', 49: 'True_Misconception:Inversion', 50: 'True_Misconception:Irrelevant', 51: 'True_Misconception:Longer_is_bigger', 52: 'True_Misconception:Mult', 53: 'True_Misconception:Multiplying_by_4', 54: 'True_Misconception:Not_variable', 55: 'True_Misconception:Positive', 56: 'True_Misconception:Shorter_is_bigger', 57: 'True_Misconception:Subtraction', 58: 'True_Misconception:SwapDividend', 59: 'True_Misconception:Tacking', 60: 'True_Misconception:WNB', 61: 'True_Misconception:Whole_numbers_larger', 62: 'True_Misconception:Wrong_fraction', 63: 'True_Misconception:Wrong_term', 64: 'True_Neither:NA'}\n"
     ]
    }
   ],
   "source": [
    "# Mapping from ID to label (id2label)\n",
    "id2label = {i: label for i, label in enumerate(le.classes_)}\n",
    "print(f\"ID to label mapping: {id2label}\")"
   ]
  },
  {
   "cell_type": "code",
   "execution_count": 77,
   "id": "5a1fef2e",
   "metadata": {
    "execution": {
     "iopub.execute_input": "2025-10-02T14:45:58.955673Z",
     "iopub.status.busy": "2025-10-02T14:45:58.955051Z",
     "iopub.status.idle": "2025-10-02T14:47:06.575178Z",
     "shell.execute_reply": "2025-10-02T14:47:06.574593Z"
    },
    "papermill": {
     "duration": 67.652679,
     "end_time": "2025-10-02T14:47:06.576606",
     "exception": false,
     "start_time": "2025-10-02T14:45:58.923927",
     "status": "completed"
    },
    "tags": []
   },
   "outputs": [
    {
     "data": {
      "application/vnd.jupyter.widget-view+json": {
       "model_id": "9ffac15892c24a279a96b399ce9380c5",
       "version_major": 2,
       "version_minor": 0
      },
      "text/plain": [
       "Loading checkpoint shards:   0%|          | 0/2 [00:00<?, ?it/s]"
      ]
     },
     "metadata": {},
     "output_type": "display_data"
    },
    {
     "name": "stderr",
     "output_type": "stream",
     "text": [
      "Some weights of Qwen3ForSequenceClassification were not initialized from the model checkpoint at /kaggle/input/qwen-3-reranker/transformers/4b/1 and are newly initialized: ['score.weight']\n",
      "You should probably TRAIN this model on a down-stream task to be able to use it for predictions and inference.\n"
     ]
    }
   ],
   "source": [
    "if device.type == \"cuda\":\n",
    "    model = AutoModelForSequenceClassification.from_pretrained(\n",
    "        CFG.model2,  #CFG.model1, #CFG.model3,\n",
    "        num_labels= nClasses,\n",
    "        id2label =id2label,\n",
    "        label2id = label2id,\n",
    "        torch_dtype=torch.bfloat16,\n",
    "        device_map=\"auto\",\n",
    "        quantization_config= bnbConfig,\n",
    "        trust_remote_code=False,\n",
    "        problem_type=\"single_label_classification\", \n",
    "    )\n",
    "\n",
    "else: \n",
    "     model = AutoModelForSequenceClassification.from_pretrained(\n",
    "        CFG.model2,  #CFG.model1 #CFG.model3,\n",
    "        num_labels= nClasses,\n",
    "        id2label =id2label,\n",
    "        label2id = label2id,\n",
    "        device_map=\"auto\",\n",
    "        trust_remote_code=False,\n",
    "        problem_type=\"single_label_classification\", \n",
    "    )\n",
    "\n",
    "tokenizer = AutoTokenizer.from_pretrained(CFG.model2)\n",
    "tokenizer.pad_token = tokenizer.eos_token"
   ]
  },
  {
   "cell_type": "code",
   "execution_count": 78,
   "id": "3587d74a",
   "metadata": {
    "execution": {
     "iopub.execute_input": "2025-10-02T14:47:06.639977Z",
     "iopub.status.busy": "2025-10-02T14:47:06.639493Z",
     "iopub.status.idle": "2025-10-02T14:47:06.646102Z",
     "shell.execute_reply": "2025-10-02T14:47:06.645551Z"
    },
    "papermill": {
     "duration": 0.038442,
     "end_time": "2025-10-02T14:47:06.647054",
     "exception": false,
     "start_time": "2025-10-02T14:47:06.608612",
     "status": "completed"
    },
    "tags": []
   },
   "outputs": [
    {
     "data": {
      "text/plain": [
       "Qwen3ForSequenceClassification(\n",
       "  (model): Qwen3Model(\n",
       "    (embed_tokens): Embedding(151669, 2560)\n",
       "    (layers): ModuleList(\n",
       "      (0-35): 36 x Qwen3DecoderLayer(\n",
       "        (self_attn): Qwen3Attention(\n",
       "          (q_proj): Linear4bit(in_features=2560, out_features=4096, bias=False)\n",
       "          (k_proj): Linear4bit(in_features=2560, out_features=1024, bias=False)\n",
       "          (v_proj): Linear4bit(in_features=2560, out_features=1024, bias=False)\n",
       "          (o_proj): Linear4bit(in_features=4096, out_features=2560, bias=False)\n",
       "          (q_norm): Qwen3RMSNorm((128,), eps=1e-06)\n",
       "          (k_norm): Qwen3RMSNorm((128,), eps=1e-06)\n",
       "        )\n",
       "        (mlp): Qwen3MLP(\n",
       "          (gate_proj): Linear4bit(in_features=2560, out_features=9728, bias=False)\n",
       "          (up_proj): Linear4bit(in_features=2560, out_features=9728, bias=False)\n",
       "          (down_proj): Linear4bit(in_features=9728, out_features=2560, bias=False)\n",
       "          (act_fn): SiLU()\n",
       "        )\n",
       "        (input_layernorm): Qwen3RMSNorm((2560,), eps=1e-06)\n",
       "        (post_attention_layernorm): Qwen3RMSNorm((2560,), eps=1e-06)\n",
       "      )\n",
       "    )\n",
       "    (norm): Qwen3RMSNorm((2560,), eps=1e-06)\n",
       "    (rotary_emb): Qwen3RotaryEmbedding()\n",
       "  )\n",
       "  (score): Linear(in_features=2560, out_features=65, bias=False)\n",
       ")"
      ]
     },
     "execution_count": 78,
     "metadata": {},
     "output_type": "execute_result"
    }
   ],
   "source": [
    "model"
   ]
  },
  {
   "cell_type": "code",
   "execution_count": 79,
   "id": "4e369b77",
   "metadata": {
    "execution": {
     "iopub.execute_input": "2025-10-02T14:47:06.710019Z",
     "iopub.status.busy": "2025-10-02T14:47:06.709497Z",
     "iopub.status.idle": "2025-10-02T14:47:06.713063Z",
     "shell.execute_reply": "2025-10-02T14:47:06.712530Z"
    },
    "papermill": {
     "duration": 0.035668,
     "end_time": "2025-10-02T14:47:06.713995",
     "exception": false,
     "start_time": "2025-10-02T14:47:06.678327",
     "status": "completed"
    },
    "tags": []
   },
   "outputs": [],
   "source": [
    "if CFG.DeepEval:\n",
    "    from deepeval.models.base_model import DeepEvalBaseLLM\n",
    "    from deepeval.test_case import LLMTestCase, LLMTestCaseParams\n",
    "    from deepeval.metrics import GEval\n",
    "    # from deepeval import evaluate\n",
    "    from deepeval.metrics import AnswerRelevancyMetric\n",
    "    # from deepeval.benchmarks import MMLU, HellaSwag, HumanEval,TruthfulQA\n",
    "    # from deepeval.benchmarks.tasks import HumanEvalTask, HellaSwagTask, MMLUTask, TruthfulQATask\n",
    "    # from deepeval.benchmarks.modes import TruthfulQAMode "
   ]
  },
  {
   "cell_type": "markdown",
   "id": "4edd5a51",
   "metadata": {
    "papermill": {
     "duration": 0.030375,
     "end_time": "2025-10-02T14:47:06.774874",
     "exception": false,
     "start_time": "2025-10-02T14:47:06.744499",
     "status": "completed"
    },
    "tags": []
   },
   "source": [
    "## Prepare Training Dataset"
   ]
  },
  {
   "cell_type": "code",
   "execution_count": 80,
   "id": "f16942c2",
   "metadata": {
    "execution": {
     "iopub.execute_input": "2025-10-02T14:47:06.837041Z",
     "iopub.status.busy": "2025-10-02T14:47:06.836865Z",
     "iopub.status.idle": "2025-10-02T14:47:06.869822Z",
     "shell.execute_reply": "2025-10-02T14:47:06.869115Z"
    },
    "papermill": {
     "duration": 0.065551,
     "end_time": "2025-10-02T14:47:06.870924",
     "exception": false,
     "start_time": "2025-10-02T14:47:06.805373",
     "status": "completed"
    },
    "tags": []
   },
   "outputs": [
    {
     "data": {
      "text/html": [
       "<div>\n",
       "<style scoped>\n",
       "    .dataframe tbody tr th:only-of-type {\n",
       "        vertical-align: middle;\n",
       "    }\n",
       "\n",
       "    .dataframe tbody tr th {\n",
       "        vertical-align: top;\n",
       "    }\n",
       "\n",
       "    .dataframe thead th {\n",
       "        text-align: right;\n",
       "    }\n",
       "</style>\n",
       "<table border=\"1\" class=\"dataframe\">\n",
       "  <thead>\n",
       "    <tr style=\"text-align: right;\">\n",
       "      <th></th>\n",
       "      <th>row_id</th>\n",
       "      <th>QuestionId</th>\n",
       "      <th>QuestionText</th>\n",
       "      <th>MC_Answer</th>\n",
       "      <th>StudentExplanation</th>\n",
       "      <th>Category</th>\n",
       "      <th>Misconception</th>\n",
       "      <th>target</th>\n",
       "      <th>label</th>\n",
       "      <th>is_correct</th>\n",
       "    </tr>\n",
       "  </thead>\n",
       "  <tbody>\n",
       "    <tr>\n",
       "      <th>0</th>\n",
       "      <td>21942</td>\n",
       "      <td>32835</td>\n",
       "      <td>Which number is the greatest?</td>\n",
       "      <td>\\( 6.2 \\)</td>\n",
       "      <td>they all start with 6 but this has the biggest...</td>\n",
       "      <td>True_Correct</td>\n",
       "      <td>NA</td>\n",
       "      <td>True_Correct:NA</td>\n",
       "      <td>37</td>\n",
       "      <td>1</td>\n",
       "    </tr>\n",
       "    <tr>\n",
       "      <th>1</th>\n",
       "      <td>15189</td>\n",
       "      <td>32829</td>\n",
       "      <td>\\( 2 y=24 \\) What is the value of \\( y \\) ?</td>\n",
       "      <td>\\( 12 \\)</td>\n",
       "      <td>i think because 2*12is 24 so that's why im sor...</td>\n",
       "      <td>True_Misconception</td>\n",
       "      <td>Not_variable</td>\n",
       "      <td>True_Misconception:Not_variable</td>\n",
       "      <td>54</td>\n",
       "      <td>1</td>\n",
       "    </tr>\n",
       "    <tr>\n",
       "      <th>2</th>\n",
       "      <td>2732</td>\n",
       "      <td>31772</td>\n",
       "      <td>What fraction of the shape is not shaded? Give...</td>\n",
       "      <td>\\( \\frac{3}{6} \\)</td>\n",
       "      <td>there are 6 shadrd and 3 not shade d</td>\n",
       "      <td>False_Misconception</td>\n",
       "      <td>WNB</td>\n",
       "      <td>False_Misconception:WNB</td>\n",
       "      <td>30</td>\n",
       "      <td>0</td>\n",
       "    </tr>\n",
       "    <tr>\n",
       "      <th>3</th>\n",
       "      <td>26508</td>\n",
       "      <td>33474</td>\n",
       "      <td>Sally has \\( \\frac{2}{3} \\) of a whole cake in...</td>\n",
       "      <td>\\( \\frac{1}{3} \\times \\frac{2}{3} \\)</td>\n",
       "      <td>Sinve Robert ate 1/3 of the 2/3 cake, then we ...</td>\n",
       "      <td>True_Misconception</td>\n",
       "      <td>Division</td>\n",
       "      <td>True_Misconception:Division</td>\n",
       "      <td>43</td>\n",
       "      <td>1</td>\n",
       "    </tr>\n",
       "    <tr>\n",
       "      <th>4</th>\n",
       "      <td>31372</td>\n",
       "      <td>89443</td>\n",
       "      <td>What number belongs in the box?\\n\\(\\n(-8)-(-5)...</td>\n",
       "      <td>\\( -3 \\)</td>\n",
       "      <td>two minuses sum up to make a plus so we do -8+...</td>\n",
       "      <td>True_Misconception</td>\n",
       "      <td>Positive</td>\n",
       "      <td>True_Misconception:Positive</td>\n",
       "      <td>55</td>\n",
       "      <td>1</td>\n",
       "    </tr>\n",
       "    <tr>\n",
       "      <th>...</th>\n",
       "      <td>...</td>\n",
       "      <td>...</td>\n",
       "      <td>...</td>\n",
       "      <td>...</td>\n",
       "      <td>...</td>\n",
       "      <td>...</td>\n",
       "      <td>...</td>\n",
       "      <td>...</td>\n",
       "      <td>...</td>\n",
       "      <td>...</td>\n",
       "    </tr>\n",
       "    <tr>\n",
       "      <th>119604</th>\n",
       "      <td>5578</td>\n",
       "      <td>31774</td>\n",
       "      <td>Calculate \\( \\frac{1}{2} \\div 6 \\)</td>\n",
       "      <td>\\( \\frac{1}{12} \\)</td>\n",
       "      <td>1/2÷6 is impossible so I did 6÷1/2 equals 12 s...</td>\n",
       "      <td>True_Misconception</td>\n",
       "      <td>SwapDividend</td>\n",
       "      <td>True_Misconception:SwapDividend</td>\n",
       "      <td>58</td>\n",
       "      <td>1</td>\n",
       "    </tr>\n",
       "    <tr>\n",
       "      <th>119605</th>\n",
       "      <td>19614</td>\n",
       "      <td>32833</td>\n",
       "      <td>Calculate \\( \\frac{2}{3} \\times 5 \\)</td>\n",
       "      <td>\\( \\frac{2}{15} \\)</td>\n",
       "      <td>the reason is becausee you times the denominat...</td>\n",
       "      <td>False_Neither</td>\n",
       "      <td>NA</td>\n",
       "      <td>False_Neither:NA</td>\n",
       "      <td>36</td>\n",
       "      <td>0</td>\n",
       "    </tr>\n",
       "    <tr>\n",
       "      <th>119606</th>\n",
       "      <td>17961</td>\n",
       "      <td>32833</td>\n",
       "      <td>Calculate \\( \\frac{2}{3} \\times 5 \\)</td>\n",
       "      <td>\\( 3 \\frac{1}{3} \\)</td>\n",
       "      <td>its 2x5=10 and 3x5=15 and its ten fifteenths\\n...</td>\n",
       "      <td>True_Misconception</td>\n",
       "      <td>Duplication</td>\n",
       "      <td>True_Misconception:Duplication</td>\n",
       "      <td>44</td>\n",
       "      <td>1</td>\n",
       "    </tr>\n",
       "    <tr>\n",
       "      <th>119607</th>\n",
       "      <td>29078</td>\n",
       "      <td>76870</td>\n",
       "      <td>This is part of a regular polygon. How many si...</td>\n",
       "      <td>\\( 5 \\)</td>\n",
       "      <td>The first step is to find thee interior angles...</td>\n",
       "      <td>False_Misconception</td>\n",
       "      <td>Interior</td>\n",
       "      <td>False_Misconception:Interior</td>\n",
       "      <td>15</td>\n",
       "      <td>0</td>\n",
       "    </tr>\n",
       "    <tr>\n",
       "      <th>119608</th>\n",
       "      <td>29182</td>\n",
       "      <td>76870</td>\n",
       "      <td>This is part of a regular polygon. How many si...</td>\n",
       "      <td>\\( 6 \\)</td>\n",
       "      <td>720 - 144*5=720 and the interior angles of a h...</td>\n",
       "      <td>False_Misconception</td>\n",
       "      <td>Interior</td>\n",
       "      <td>False_Misconception:Interior</td>\n",
       "      <td>15</td>\n",
       "      <td>0</td>\n",
       "    </tr>\n",
       "  </tbody>\n",
       "</table>\n",
       "<p>119609 rows × 10 columns</p>\n",
       "</div>"
      ],
      "text/plain": [
       "        row_id  QuestionId                                       QuestionText  \\\n",
       "0        21942       32835                      Which number is the greatest?   \n",
       "1        15189       32829        \\( 2 y=24 \\) What is the value of \\( y \\) ?   \n",
       "2         2732       31772  What fraction of the shape is not shaded? Give...   \n",
       "3        26508       33474  Sally has \\( \\frac{2}{3} \\) of a whole cake in...   \n",
       "4        31372       89443  What number belongs in the box?\\n\\(\\n(-8)-(-5)...   \n",
       "...        ...         ...                                                ...   \n",
       "119604    5578       31774                 Calculate \\( \\frac{1}{2} \\div 6 \\)   \n",
       "119605   19614       32833               Calculate \\( \\frac{2}{3} \\times 5 \\)   \n",
       "119606   17961       32833               Calculate \\( \\frac{2}{3} \\times 5 \\)   \n",
       "119607   29078       76870  This is part of a regular polygon. How many si...   \n",
       "119608   29182       76870  This is part of a regular polygon. How many si...   \n",
       "\n",
       "                                   MC_Answer  \\\n",
       "0                                  \\( 6.2 \\)   \n",
       "1                                   \\( 12 \\)   \n",
       "2                          \\( \\frac{3}{6} \\)   \n",
       "3       \\( \\frac{1}{3} \\times \\frac{2}{3} \\)   \n",
       "4                                   \\( -3 \\)   \n",
       "...                                      ...   \n",
       "119604                    \\( \\frac{1}{12} \\)   \n",
       "119605                    \\( \\frac{2}{15} \\)   \n",
       "119606                   \\( 3 \\frac{1}{3} \\)   \n",
       "119607                               \\( 5 \\)   \n",
       "119608                               \\( 6 \\)   \n",
       "\n",
       "                                       StudentExplanation  \\\n",
       "0       they all start with 6 but this has the biggest...   \n",
       "1       i think because 2*12is 24 so that's why im sor...   \n",
       "2                    there are 6 shadrd and 3 not shade d   \n",
       "3       Sinve Robert ate 1/3 of the 2/3 cake, then we ...   \n",
       "4       two minuses sum up to make a plus so we do -8+...   \n",
       "...                                                   ...   \n",
       "119604  1/2÷6 is impossible so I did 6÷1/2 equals 12 s...   \n",
       "119605  the reason is becausee you times the denominat...   \n",
       "119606  its 2x5=10 and 3x5=15 and its ten fifteenths\\n...   \n",
       "119607  The first step is to find thee interior angles...   \n",
       "119608  720 - 144*5=720 and the interior angles of a h...   \n",
       "\n",
       "                   Category Misconception                           target  \\\n",
       "0              True_Correct            NA                  True_Correct:NA   \n",
       "1        True_Misconception  Not_variable  True_Misconception:Not_variable   \n",
       "2       False_Misconception           WNB          False_Misconception:WNB   \n",
       "3        True_Misconception      Division      True_Misconception:Division   \n",
       "4        True_Misconception      Positive      True_Misconception:Positive   \n",
       "...                     ...           ...                              ...   \n",
       "119604   True_Misconception  SwapDividend  True_Misconception:SwapDividend   \n",
       "119605        False_Neither            NA                 False_Neither:NA   \n",
       "119606   True_Misconception   Duplication   True_Misconception:Duplication   \n",
       "119607  False_Misconception      Interior     False_Misconception:Interior   \n",
       "119608  False_Misconception      Interior     False_Misconception:Interior   \n",
       "\n",
       "        label  is_correct  \n",
       "0          37           1  \n",
       "1          54           1  \n",
       "2          30           0  \n",
       "3          43           1  \n",
       "4          55           1  \n",
       "...       ...         ...  \n",
       "119604     58           1  \n",
       "119605     36           0  \n",
       "119606     44           1  \n",
       "119607     15           0  \n",
       "119608     15           0  \n",
       "\n",
       "[119609 rows x 10 columns]"
      ]
     },
     "execution_count": 80,
     "metadata": {},
     "output_type": "execute_result"
    }
   ],
   "source": [
    "# Random Resample Dataset\n",
    "# trainDF = trainDF.sample(frac=1.0, replace=True)\n",
    "# trainDF = trainDF.reset_index(drop=True)\n",
    "# trainDF\n",
    "\n",
    "trainDF_balanced= trainDF_balanced.sample(frac=1.0, replace=True)\n",
    "trainDF_balanced = trainDF_balanced.reset_index(drop=True)\n",
    "trainDF_balanced"
   ]
  },
  {
   "cell_type": "code",
   "execution_count": 81,
   "id": "e64832b2",
   "metadata": {
    "execution": {
     "iopub.execute_input": "2025-10-02T14:47:06.935590Z",
     "iopub.status.busy": "2025-10-02T14:47:06.935134Z",
     "iopub.status.idle": "2025-10-02T14:47:06.939492Z",
     "shell.execute_reply": "2025-10-02T14:47:06.938832Z"
    },
    "papermill": {
     "duration": 0.03735,
     "end_time": "2025-10-02T14:47:06.940571",
     "exception": false,
     "start_time": "2025-10-02T14:47:06.903221",
     "status": "completed"
    },
    "tags": []
   },
   "outputs": [],
   "source": [
    "PROMPT_FORMAT1 = \"\"\"\\\n",
    "You are an expert in identifying math misconceptions from student explanations.\n",
    "\n",
    "Question: {QuestionText}\n",
    "Answer: {MC_Answer}\n",
    "Correct: {Correct}\n",
    "Student Explanation: {StudentExplanation}\n",
    "\n",
    "Identify the specific type of math misconception in the student's explanation.\n",
    "Give a short, clear label for the misconception.\n",
    "\"\"\"\n",
    "\n",
    "PROMPT_FORMAT2 = \"\"\"\\\n",
    "You are an expert educational diagnostician specializing in identifying students' math misconceptions from their written explanations.\n",
    "Your task is to analyze the student's explanation and classify the specific type of misconception they demonstrate.\n",
    "\n",
    "Question: {QuestionText}\n",
    "Answer: {MC_Answer}\n",
    "Correct: {Correct}\n",
    "Student Explanation: {StudentExplanation}\n",
    "\n",
    "Based on the information above, identify and label the underlying math misconception in the student's explanation.\n",
    "Provide a clear and concise classification of the misconception type.\n",
    "\"\"\"\n",
    "\n",
    "PROMPT_FORMAT3 = \"\"\"\\\n",
    "You are an expert in analyzing students' answers to math problems and identifying specific types of misunderstandings.\n",
    "Given the following information, classify the student's misunderstanding.\n",
    "\n",
    "Question: {QuestionText}\n",
    "Answer: {MC_Answer}\n",
    "Correct: {Correct}\n",
    "Student Explanation: {StudentExplanation}\n",
    "\n",
    "Please determine the type of misunderstanding the student has.\n",
    "\"\"\"\n",
    "\n",
    "PROMPT_FORMAT4 = \"\"\"\\\n",
    "You are a specialist in identifying the types of misunderstandings that arise from students’ answers to math problems.\n",
    "Based on the information provided below, please determine what kind of misunderstanding the student has.\n",
    "\n",
    "Question: {QuestionText}\n",
    "Answer: {MC_Answer}\n",
    "Correct: {Correct}\n",
    "Student Explanation: {StudentExplanation}\n",
    "\"\"\""
   ]
  },
  {
   "cell_type": "code",
   "execution_count": 82,
   "id": "6dd3ab3e",
   "metadata": {
    "execution": {
     "iopub.execute_input": "2025-10-02T14:47:07.004342Z",
     "iopub.status.busy": "2025-10-02T14:47:07.003910Z",
     "iopub.status.idle": "2025-10-02T14:47:07.007704Z",
     "shell.execute_reply": "2025-10-02T14:47:07.007054Z"
    },
    "papermill": {
     "duration": 0.036794,
     "end_time": "2025-10-02T14:47:07.008676",
     "exception": false,
     "start_time": "2025-10-02T14:47:06.971882",
     "status": "completed"
    },
    "tags": []
   },
   "outputs": [],
   "source": [
    "def generateTrainContent(row):\n",
    "    x= \"True\"\n",
    "    if not row[\"is_correct\"]:\n",
    "        x= \"False\"\n",
    "    return PROMPT_FORMAT2.format(\n",
    "        QuestionText=row['QuestionText'],\n",
    "        MC_Answer=row['MC_Answer'],\n",
    "        Correct=x,\n",
    "        StudentExplanation=row['StudentExplanation']\n",
    "        \n",
    "    )"
   ]
  },
  {
   "cell_type": "code",
   "execution_count": 83,
   "id": "0a9edeb7",
   "metadata": {
    "execution": {
     "iopub.execute_input": "2025-10-02T14:47:07.071751Z",
     "iopub.status.busy": "2025-10-02T14:47:07.071405Z",
     "iopub.status.idle": "2025-10-02T14:47:08.413598Z",
     "shell.execute_reply": "2025-10-02T14:47:08.412648Z"
    },
    "papermill": {
     "duration": 1.375565,
     "end_time": "2025-10-02T14:47:08.414927",
     "exception": false,
     "start_time": "2025-10-02T14:47:07.039362",
     "status": "completed"
    },
    "tags": []
   },
   "outputs": [],
   "source": [
    "# trainDF[\"LLM_Content\"]= trainDF.apply(generateTrainContent, axis=1)\n",
    "trainDF_balanced[\"LLM_Content\"] = trainDF_balanced.apply(generateTrainContent, axis=1)"
   ]
  },
  {
   "cell_type": "code",
   "execution_count": 84,
   "id": "092b90ec",
   "metadata": {
    "execution": {
     "iopub.execute_input": "2025-10-02T14:47:08.479544Z",
     "iopub.status.busy": "2025-10-02T14:47:08.479087Z",
     "iopub.status.idle": "2025-10-02T14:47:08.483326Z",
     "shell.execute_reply": "2025-10-02T14:47:08.482648Z"
    },
    "papermill": {
     "duration": 0.03698,
     "end_time": "2025-10-02T14:47:08.484439",
     "exception": false,
     "start_time": "2025-10-02T14:47:08.447459",
     "status": "completed"
    },
    "tags": []
   },
   "outputs": [],
   "source": [
    "testDF[\"LLM_Content\"]= testDF.apply(generateTrainContent, axis=1)"
   ]
  },
  {
   "cell_type": "code",
   "execution_count": 85,
   "id": "e8e79a2e",
   "metadata": {
    "execution": {
     "iopub.execute_input": "2025-10-02T14:47:08.546964Z",
     "iopub.status.busy": "2025-10-02T14:47:08.546770Z",
     "iopub.status.idle": "2025-10-02T14:47:08.550491Z",
     "shell.execute_reply": "2025-10-02T14:47:08.549861Z"
    },
    "papermill": {
     "duration": 0.03607,
     "end_time": "2025-10-02T14:47:08.551584",
     "exception": false,
     "start_time": "2025-10-02T14:47:08.515514",
     "status": "completed"
    },
    "tags": []
   },
   "outputs": [
    {
     "name": "stdout",
     "output_type": "stream",
     "text": [
      "You are an expert educational diagnostician specializing in identifying students' math misconceptions from their written explanations.\n",
      "Your task is to analyze the student's explanation and classify the specific type of misconception they demonstrate.\n",
      "\n",
      "Question: Which number is the greatest?\n",
      "Answer: \\( 6.2 \\)\n",
      "Correct: True\n",
      "Student Explanation: they all start with 6 but this has the biggest tenth\n",
      "\n",
      "Based on the information above, identify and label the underlying math misconception in the student's explanation.\n",
      "Provide a clear and concise classification of the misconception type.\n",
      "\n"
     ]
    }
   ],
   "source": [
    "# print one of example\n",
    "print(trainDF_balanced[\"LLM_Content\"].values[0])"
   ]
  },
  {
   "cell_type": "code",
   "execution_count": 86,
   "id": "5f2fdcd9",
   "metadata": {
    "execution": {
     "iopub.execute_input": "2025-10-02T14:47:08.614503Z",
     "iopub.status.busy": "2025-10-02T14:47:08.614155Z",
     "iopub.status.idle": "2025-10-02T14:47:08.617869Z",
     "shell.execute_reply": "2025-10-02T14:47:08.617210Z"
    },
    "papermill": {
     "duration": 0.036402,
     "end_time": "2025-10-02T14:47:08.618863",
     "exception": false,
     "start_time": "2025-10-02T14:47:08.582461",
     "status": "completed"
    },
    "tags": []
   },
   "outputs": [
    {
     "name": "stdout",
     "output_type": "stream",
     "text": [
      "You are an expert educational diagnostician specializing in identifying students' math misconceptions from their written explanations.\n",
      "Your task is to analyze the student's explanation and classify the specific type of misconception they demonstrate.\n",
      "\n",
      "Question: What fraction of the shape is not shaded? Give your answer in its simplest form. [Image: A triangle split into 9 equal smaller triangles. 6 of them are shaded.]\n",
      "Answer: \\( \\frac{1}{3} \\)\n",
      "Correct: True\n",
      "Student Explanation: I think that 1/3 is the answer, as it's the simplest form of 3/9.\n",
      "\n",
      "Based on the information above, identify and label the underlying math misconception in the student's explanation.\n",
      "Provide a clear and concise classification of the misconception type.\n",
      "\n"
     ]
    }
   ],
   "source": [
    "print(testDF[\"LLM_Content\"].values[0])"
   ]
  },
  {
   "cell_type": "markdown",
   "id": "fc616f4c",
   "metadata": {
    "papermill": {
     "duration": 0.03096,
     "end_time": "2025-10-02T14:47:08.680717",
     "exception": false,
     "start_time": "2025-10-02T14:47:08.649757",
     "status": "completed"
    },
    "tags": []
   },
   "source": [
    "## lenght of the LLM conntent"
   ]
  },
  {
   "cell_type": "code",
   "execution_count": 87,
   "id": "ee04e142",
   "metadata": {
    "execution": {
     "iopub.execute_input": "2025-10-02T14:47:08.744187Z",
     "iopub.status.busy": "2025-10-02T14:47:08.743499Z",
     "iopub.status.idle": "2025-10-02T14:47:08.797952Z",
     "shell.execute_reply": "2025-10-02T14:47:08.797210Z"
    },
    "papermill": {
     "duration": 0.087862,
     "end_time": "2025-10-02T14:47:08.799225",
     "exception": false,
     "start_time": "2025-10-02T14:47:08.711363",
     "status": "completed"
    },
    "tags": []
   },
   "outputs": [
    {
     "data": {
      "text/plain": [
       "LLM_Content\n",
       "621     2963\n",
       "607     2496\n",
       "600     2400\n",
       "604     2380\n",
       "595     1884\n",
       "        ... \n",
       "950        1\n",
       "990        1\n",
       "1047       1\n",
       "992        1\n",
       "949        1\n",
       "Name: count, Length: 407, dtype: int64"
      ]
     },
     "execution_count": 87,
     "metadata": {},
     "output_type": "execute_result"
    }
   ],
   "source": [
    "trainDF_balanced[\"LLM_Content\"].str.len().value_counts() # raw input character length"
   ]
  },
  {
   "cell_type": "code",
   "execution_count": 88,
   "id": "42477dfe",
   "metadata": {
    "execution": {
     "iopub.execute_input": "2025-10-02T14:47:08.864123Z",
     "iopub.status.busy": "2025-10-02T14:47:08.863716Z",
     "iopub.status.idle": "2025-10-02T14:47:55.743501Z",
     "shell.execute_reply": "2025-10-02T14:47:55.742721Z"
    },
    "papermill": {
     "duration": 46.94438,
     "end_time": "2025-10-02T14:47:55.776626",
     "exception": false,
     "start_time": "2025-10-02T14:47:08.832246",
     "status": "completed"
    },
    "tags": []
   },
   "outputs": [
    {
     "data": {
      "text/plain": [
       "count    119609.000000\n",
       "mean        138.538087\n",
       "std          21.078332\n",
       "min          97.000000\n",
       "25%         124.000000\n",
       "50%         136.000000\n",
       "75%         150.000000\n",
       "max         391.000000\n",
       "Name: Length, dtype: float64"
      ]
     },
     "execution_count": 88,
     "metadata": {},
     "output_type": "execute_result"
    }
   ],
   "source": [
    "# trainDF[\"Length\"] = trainDF[\"LLM_Content\"].str.len()\n",
    "trainDF_balanced[\"Length\"] = [len(tokenizer.encode(t, truncation=False)) for t in trainDF_balanced[\"LLM_Content\"]]\n",
    "\n",
    "trainDF_balanced[\"Length\"].describe()"
   ]
  },
  {
   "cell_type": "code",
   "execution_count": 89,
   "id": "eff62b12",
   "metadata": {
    "execution": {
     "iopub.execute_input": "2025-10-02T14:47:55.839703Z",
     "iopub.status.busy": "2025-10-02T14:47:55.839489Z",
     "iopub.status.idle": "2025-10-02T14:47:56.041203Z",
     "shell.execute_reply": "2025-10-02T14:47:56.040515Z"
    },
    "papermill": {
     "duration": 0.234496,
     "end_time": "2025-10-02T14:47:56.042370",
     "exception": false,
     "start_time": "2025-10-02T14:47:55.807874",
     "status": "completed"
    },
    "tags": []
   },
   "outputs": [
    {
     "data": {
      "image/png": "[encoded data removed]",
      "text/plain": [
       "<Figure size 640x480 with 1 Axes>"
      ]
     },
     "metadata": {},
     "output_type": "display_data"
    }
   ],
   "source": [
    "trainDF_balanced[\"Length\"].plot(kind='hist', bins=50, subplots=True,sharex=True,sharey=True, title='LLM Content Length Distribution');"
   ]
  },
  {
   "cell_type": "code",
   "execution_count": 90,
   "id": "3921282a",
   "metadata": {
    "execution": {
     "iopub.execute_input": "2025-10-02T14:47:56.110077Z",
     "iopub.status.busy": "2025-10-02T14:47:56.109832Z",
     "iopub.status.idle": "2025-10-02T14:47:56.114731Z",
     "shell.execute_reply": "2025-10-02T14:47:56.114066Z"
    },
    "papermill": {
     "duration": 0.039928,
     "end_time": "2025-10-02T14:47:56.115836",
     "exception": false,
     "start_time": "2025-10-02T14:47:56.075908",
     "status": "completed"
    },
    "tags": []
   },
   "outputs": [
    {
     "name": "stdout",
     "output_type": "stream",
     "text": [
      "There are 4 train sample(s) with more than 256 tokens\n"
     ]
    }
   ],
   "source": [
    "MAX_LEN = 256 #512 #256 #512\n",
    "L = (np.array(trainDF_balanced[\"Length\"])>MAX_LEN).sum()\n",
    "print(f\"There are {L} train sample(s) with more than {MAX_LEN} tokens\")"
   ]
  },
  {
   "cell_type": "markdown",
   "id": "57c774a0",
   "metadata": {
    "execution": {
     "iopub.execute_input": "2025-08-12T14:48:14.784040Z",
     "iopub.status.busy": "2025-08-12T14:48:14.783703Z",
     "iopub.status.idle": "2025-08-12T14:48:14.788666Z",
     "shell.execute_reply": "2025-08-12T14:48:14.787640Z",
     "shell.execute_reply.started": "2025-08-12T14:48:14.784018Z"
    },
    "papermill": {
     "duration": 0.032101,
     "end_time": "2025-10-02T14:47:56.179791",
     "exception": false,
     "start_time": "2025-10-02T14:47:56.147690",
     "status": "completed"
    },
    "tags": []
   },
   "source": [
    "### MAX window size 256 is suitable for training "
   ]
  },
  {
   "cell_type": "markdown",
   "id": "346f1aae",
   "metadata": {
    "papermill": {
     "duration": 0.031384,
     "end_time": "2025-10-02T14:47:56.242197",
     "exception": false,
     "start_time": "2025-10-02T14:47:56.210813",
     "status": "completed"
    },
    "tags": []
   },
   "source": [
    "## Create Dataset"
   ]
  },
  {
   "cell_type": "code",
   "execution_count": 91,
   "id": "6430b3d0",
   "metadata": {
    "execution": {
     "iopub.execute_input": "2025-10-02T14:47:56.305743Z",
     "iopub.status.busy": "2025-10-02T14:47:56.305501Z",
     "iopub.status.idle": "2025-10-02T14:47:56.310226Z",
     "shell.execute_reply": "2025-10-02T14:47:56.309541Z"
    },
    "papermill": {
     "duration": 0.03802,
     "end_time": "2025-10-02T14:47:56.311468",
     "exception": false,
     "start_time": "2025-10-02T14:47:56.273448",
     "status": "completed"
    },
    "tags": []
   },
   "outputs": [
    {
     "data": {
      "text/plain": [
       "(119609, 101668)"
      ]
     },
     "execution_count": 91,
     "metadata": {},
     "output_type": "execute_result"
    }
   ],
   "source": [
    "len(trainDF_balanced) , round(len(trainDF_balanced) * 0.85) # check train data size"
   ]
  },
  {
   "cell_type": "code",
   "execution_count": 92,
   "id": "a5296379",
   "metadata": {
    "execution": {
     "iopub.execute_input": "2025-10-02T14:47:56.374811Z",
     "iopub.status.busy": "2025-10-02T14:47:56.374436Z",
     "iopub.status.idle": "2025-10-02T14:47:56.378479Z",
     "shell.execute_reply": "2025-10-02T14:47:56.377963Z"
    },
    "papermill": {
     "duration": 0.036663,
     "end_time": "2025-10-02T14:47:56.379512",
     "exception": false,
     "start_time": "2025-10-02T14:47:56.342849",
     "status": "completed"
    },
    "tags": []
   },
   "outputs": [
    {
     "data": {
      "text/plain": [
       "119609"
      ]
     },
     "execution_count": 92,
     "metadata": {},
     "output_type": "execute_result"
    }
   ],
   "source": [
    "totalTrainSize= len(trainDF_balanced)\n",
    "totalTrainSize"
   ]
  },
  {
   "cell_type": "code",
   "execution_count": 93,
   "id": "ee3f95fa",
   "metadata": {
    "execution": {
     "iopub.execute_input": "2025-10-02T14:47:56.444713Z",
     "iopub.status.busy": "2025-10-02T14:47:56.444509Z",
     "iopub.status.idle": "2025-10-02T14:47:56.448469Z",
     "shell.execute_reply": "2025-10-02T14:47:56.447969Z"
    },
    "papermill": {
     "duration": 0.036997,
     "end_time": "2025-10-02T14:47:56.449499",
     "exception": false,
     "start_time": "2025-10-02T14:47:56.412502",
     "status": "completed"
    },
    "tags": []
   },
   "outputs": [
    {
     "data": {
      "text/plain": [
       "119559"
      ]
     },
     "execution_count": 93,
     "metadata": {},
     "output_type": "execute_result"
    }
   ],
   "source": [
    "setMaxTrainData = totalTrainSize - CFG.valDatasetSize\n",
    "setMaxTrainData"
   ]
  },
  {
   "cell_type": "code",
   "execution_count": null,
   "id": "2b6b4380",
   "metadata": {
    "papermill": {
     "duration": 0.031344,
     "end_time": "2025-10-02T14:47:56.512248",
     "exception": false,
     "start_time": "2025-10-02T14:47:56.480904",
     "status": "completed"
    },
    "tags": []
   },
   "outputs": [],
   "source": []
  },
  {
   "cell_type": "markdown",
   "id": "752ef111",
   "metadata": {
    "papermill": {
     "duration": 0.031025,
     "end_time": "2025-10-02T14:47:56.574539",
     "exception": false,
     "start_time": "2025-10-02T14:47:56.543514",
     "status": "completed"
    },
    "tags": []
   },
   "source": [
    "### Create Dataset for Train/Validation"
   ]
  },
  {
   "cell_type": "code",
   "execution_count": 94,
   "id": "aa0ee948",
   "metadata": {
    "execution": {
     "iopub.execute_input": "2025-10-02T14:47:56.638258Z",
     "iopub.status.busy": "2025-10-02T14:47:56.637691Z",
     "iopub.status.idle": "2025-10-02T14:47:56.669413Z",
     "shell.execute_reply": "2025-10-02T14:47:56.668503Z"
    },
    "papermill": {
     "duration": 0.064975,
     "end_time": "2025-10-02T14:47:56.670817",
     "exception": false,
     "start_time": "2025-10-02T14:47:56.605842",
     "status": "completed"
    },
    "tags": []
   },
   "outputs": [],
   "source": [
    "\n",
    "# tempTrainDF , tempValDF = train_test_split(trainDF_balanced , stratify= trainDF[\"is_correct\"], test_size=CFG.test_size, random_state=42)\n",
    "tempTrainDF , tempValDF = train_test_split(trainDF_balanced ,  test_size=CFG.test_size, random_state=42)"
   ]
  },
  {
   "cell_type": "code",
   "execution_count": 95,
   "id": "38751d83",
   "metadata": {
    "execution": {
     "iopub.execute_input": "2025-10-02T14:47:56.736039Z",
     "iopub.status.busy": "2025-10-02T14:47:56.735826Z",
     "iopub.status.idle": "2025-10-02T14:47:56.746990Z",
     "shell.execute_reply": "2025-10-02T14:47:56.746303Z"
    },
    "papermill": {
     "duration": 0.044507,
     "end_time": "2025-10-02T14:47:56.748015",
     "exception": false,
     "start_time": "2025-10-02T14:47:56.703508",
     "status": "completed"
    },
    "tags": []
   },
   "outputs": [
    {
     "data": {
      "text/html": [
       "<div>\n",
       "<style scoped>\n",
       "    .dataframe tbody tr th:only-of-type {\n",
       "        vertical-align: middle;\n",
       "    }\n",
       "\n",
       "    .dataframe tbody tr th {\n",
       "        vertical-align: top;\n",
       "    }\n",
       "\n",
       "    .dataframe thead th {\n",
       "        text-align: right;\n",
       "    }\n",
       "</style>\n",
       "<table border=\"1\" class=\"dataframe\">\n",
       "  <thead>\n",
       "    <tr style=\"text-align: right;\">\n",
       "      <th></th>\n",
       "      <th>row_id</th>\n",
       "      <th>QuestionId</th>\n",
       "      <th>QuestionText</th>\n",
       "      <th>MC_Answer</th>\n",
       "      <th>StudentExplanation</th>\n",
       "      <th>Category</th>\n",
       "      <th>Misconception</th>\n",
       "      <th>target</th>\n",
       "      <th>label</th>\n",
       "      <th>is_correct</th>\n",
       "      <th>LLM_Content</th>\n",
       "      <th>Length</th>\n",
       "    </tr>\n",
       "  </thead>\n",
       "  <tbody>\n",
       "    <tr>\n",
       "      <th>115081</th>\n",
       "      <td>5394</td>\n",
       "      <td>31774</td>\n",
       "      <td>Calculate \\( \\frac{1}{2} \\div 6 \\)</td>\n",
       "      <td>\\( 3 \\)</td>\n",
       "      <td>i think it is b because 1/2 of 6 = 3</td>\n",
       "      <td>False_Misconception</td>\n",
       "      <td>Mult</td>\n",
       "      <td>False_Misconception:Mult</td>\n",
       "      <td>20</td>\n",
       "      <td>0</td>\n",
       "      <td>You are an expert educational diagnostician sp...</td>\n",
       "      <td>117</td>\n",
       "    </tr>\n",
       "    <tr>\n",
       "      <th>48976</th>\n",
       "      <td>15189</td>\n",
       "      <td>32829</td>\n",
       "      <td>\\( 2 y=24 \\) What is the value of \\( y \\) ?</td>\n",
       "      <td>\\( 12 \\)</td>\n",
       "      <td>i think because 2*12is 24 so that's why im sor...</td>\n",
       "      <td>True_Misconception</td>\n",
       "      <td>Not_variable</td>\n",
       "      <td>True_Misconception:Not_variable</td>\n",
       "      <td>54</td>\n",
       "      <td>1</td>\n",
       "      <td>You are an expert educational diagnostician sp...</td>\n",
       "      <td>126</td>\n",
       "    </tr>\n",
       "    <tr>\n",
       "      <th>97620</th>\n",
       "      <td>23928</td>\n",
       "      <td>33472</td>\n",
       "      <td>\\( \\frac{1}{3}+\\frac{2}{5}= \\)</td>\n",
       "      <td>\\( \\frac{11}{15} \\)</td>\n",
       "      <td>because you add 5 to 6 to get 11 then out it o...</td>\n",
       "      <td>True_Misconception</td>\n",
       "      <td>Incorrect_equivalent_fraction_addition</td>\n",
       "      <td>True_Misconception:Incorrect_equivalent_fracti...</td>\n",
       "      <td>48</td>\n",
       "      <td>1</td>\n",
       "      <td>You are an expert educational diagnostician sp...</td>\n",
       "      <td>130</td>\n",
       "    </tr>\n",
       "    <tr>\n",
       "      <th>103047</th>\n",
       "      <td>5776</td>\n",
       "      <td>31774</td>\n",
       "      <td>Calculate \\( \\frac{1}{2} \\div 6 \\)</td>\n",
       "      <td>\\( \\frac{1}{12} \\)</td>\n",
       "      <td>Because if you can’t divide you times</td>\n",
       "      <td>True_Misconception</td>\n",
       "      <td>Mult</td>\n",
       "      <td>True_Misconception:Mult</td>\n",
       "      <td>52</td>\n",
       "      <td>1</td>\n",
       "      <td>You are an expert educational diagnostician sp...</td>\n",
       "      <td>115</td>\n",
       "    </tr>\n",
       "    <tr>\n",
       "      <th>56455</th>\n",
       "      <td>21212</td>\n",
       "      <td>32835</td>\n",
       "      <td>Which number is the greatest?</td>\n",
       "      <td>\\( 6.2 \\)</td>\n",
       "      <td>d because it has a 6 the same as a but it also...</td>\n",
       "      <td>True_Misconception</td>\n",
       "      <td>Longer_is_bigger</td>\n",
       "      <td>True_Misconception:Longer_is_bigger</td>\n",
       "      <td>51</td>\n",
       "      <td>1</td>\n",
       "      <td>You are an expert educational diagnostician sp...</td>\n",
       "      <td>116</td>\n",
       "    </tr>\n",
       "    <tr>\n",
       "      <th>...</th>\n",
       "      <td>...</td>\n",
       "      <td>...</td>\n",
       "      <td>...</td>\n",
       "      <td>...</td>\n",
       "      <td>...</td>\n",
       "      <td>...</td>\n",
       "      <td>...</td>\n",
       "      <td>...</td>\n",
       "      <td>...</td>\n",
       "      <td>...</td>\n",
       "      <td>...</td>\n",
       "      <td>...</td>\n",
       "    </tr>\n",
       "    <tr>\n",
       "      <th>76820</th>\n",
       "      <td>120</td>\n",
       "      <td>31772</td>\n",
       "      <td>What fraction of the shape is not shaded? Give...</td>\n",
       "      <td>\\( \\frac{1}{3} \\)</td>\n",
       "      <td>3 out of 9 triangles are not shaded.</td>\n",
       "      <td>True_Misconception</td>\n",
       "      <td>Incomplete</td>\n",
       "      <td>True_Misconception:Incomplete</td>\n",
       "      <td>47</td>\n",
       "      <td>1</td>\n",
       "      <td>You are an expert educational diagnostician sp...</td>\n",
       "      <td>139</td>\n",
       "    </tr>\n",
       "    <tr>\n",
       "      <th>110268</th>\n",
       "      <td>34742</td>\n",
       "      <td>91695</td>\n",
       "      <td>Dots have been arranged in these patterns: [Im...</td>\n",
       "      <td>\\( 36 \\)</td>\n",
       "      <td>Because I ciunted by times tables</td>\n",
       "      <td>False_Neither</td>\n",
       "      <td>NA</td>\n",
       "      <td>False_Neither:NA</td>\n",
       "      <td>36</td>\n",
       "      <td>0</td>\n",
       "      <td>You are an expert educational diagnostician sp...</td>\n",
       "      <td>159</td>\n",
       "    </tr>\n",
       "    <tr>\n",
       "      <th>103694</th>\n",
       "      <td>23580</td>\n",
       "      <td>33472</td>\n",
       "      <td>\\( \\frac{1}{3}+\\frac{2}{5}= \\)</td>\n",
       "      <td>\\( \\frac{11}{15} \\)</td>\n",
       "      <td>1/3 is 5/15\\n2/5 is 6/15\\n5+6 is 11 so the ans...</td>\n",
       "      <td>True_Misconception</td>\n",
       "      <td>Adding_across</td>\n",
       "      <td>True_Misconception:Adding_across</td>\n",
       "      <td>38</td>\n",
       "      <td>1</td>\n",
       "      <td>You are an expert educational diagnostician sp...</td>\n",
       "      <td>144</td>\n",
       "    </tr>\n",
       "    <tr>\n",
       "      <th>860</th>\n",
       "      <td>11252</td>\n",
       "      <td>31778</td>\n",
       "      <td>\\( \\frac{A}{10}=\\frac{9}{15} \\) What is the va...</td>\n",
       "      <td>\\( 3 \\)</td>\n",
       "      <td>i think 3 because 15 divided by 5 is 3</td>\n",
       "      <td>False_Misconception</td>\n",
       "      <td>Irrelevant</td>\n",
       "      <td>False_Misconception:Irrelevant</td>\n",
       "      <td>18</td>\n",
       "      <td>0</td>\n",
       "      <td>You are an expert educational diagnostician sp...</td>\n",
       "      <td>130</td>\n",
       "    </tr>\n",
       "    <tr>\n",
       "      <th>15795</th>\n",
       "      <td>20329</td>\n",
       "      <td>32835</td>\n",
       "      <td>Which number is the greatest?</td>\n",
       "      <td>\\( 6.079 \\)</td>\n",
       "      <td>it has.79 so its bigger you cant count the zeros</td>\n",
       "      <td>False_Misconception</td>\n",
       "      <td>Ignores_zeroes</td>\n",
       "      <td>False_Misconception:Ignores_zeroes</td>\n",
       "      <td>12</td>\n",
       "      <td>0</td>\n",
       "      <td>You are an expert educational diagnostician sp...</td>\n",
       "      <td>109</td>\n",
       "    </tr>\n",
       "  </tbody>\n",
       "</table>\n",
       "<p>119250 rows × 12 columns</p>\n",
       "</div>"
      ],
      "text/plain": [
       "        row_id  QuestionId                                       QuestionText  \\\n",
       "115081    5394       31774                 Calculate \\( \\frac{1}{2} \\div 6 \\)   \n",
       "48976    15189       32829        \\( 2 y=24 \\) What is the value of \\( y \\) ?   \n",
       "97620    23928       33472                     \\( \\frac{1}{3}+\\frac{2}{5}= \\)   \n",
       "103047    5776       31774                 Calculate \\( \\frac{1}{2} \\div 6 \\)   \n",
       "56455    21212       32835                      Which number is the greatest?   \n",
       "...        ...         ...                                                ...   \n",
       "76820      120       31772  What fraction of the shape is not shaded? Give...   \n",
       "110268   34742       91695  Dots have been arranged in these patterns: [Im...   \n",
       "103694   23580       33472                     \\( \\frac{1}{3}+\\frac{2}{5}= \\)   \n",
       "860      11252       31778  \\( \\frac{A}{10}=\\frac{9}{15} \\) What is the va...   \n",
       "15795    20329       32835                      Which number is the greatest?   \n",
       "\n",
       "                  MC_Answer  \\\n",
       "115081              \\( 3 \\)   \n",
       "48976              \\( 12 \\)   \n",
       "97620   \\( \\frac{11}{15} \\)   \n",
       "103047   \\( \\frac{1}{12} \\)   \n",
       "56455             \\( 6.2 \\)   \n",
       "...                     ...   \n",
       "76820     \\( \\frac{1}{3} \\)   \n",
       "110268             \\( 36 \\)   \n",
       "103694  \\( \\frac{11}{15} \\)   \n",
       "860                 \\( 3 \\)   \n",
       "15795           \\( 6.079 \\)   \n",
       "\n",
       "                                       StudentExplanation  \\\n",
       "115081               i think it is b because 1/2 of 6 = 3   \n",
       "48976   i think because 2*12is 24 so that's why im sor...   \n",
       "97620   because you add 5 to 6 to get 11 then out it o...   \n",
       "103047              Because if you can’t divide you times   \n",
       "56455   d because it has a 6 the same as a but it also...   \n",
       "...                                                   ...   \n",
       "76820                3 out of 9 triangles are not shaded.   \n",
       "110268                  Because I ciunted by times tables   \n",
       "103694  1/3 is 5/15\\n2/5 is 6/15\\n5+6 is 11 so the ans...   \n",
       "860                i think 3 because 15 divided by 5 is 3   \n",
       "15795    it has.79 so its bigger you cant count the zeros   \n",
       "\n",
       "                   Category                           Misconception  \\\n",
       "115081  False_Misconception                                    Mult   \n",
       "48976    True_Misconception                            Not_variable   \n",
       "97620    True_Misconception  Incorrect_equivalent_fraction_addition   \n",
       "103047   True_Misconception                                    Mult   \n",
       "56455    True_Misconception                        Longer_is_bigger   \n",
       "...                     ...                                     ...   \n",
       "76820    True_Misconception                              Incomplete   \n",
       "110268        False_Neither                                      NA   \n",
       "103694   True_Misconception                           Adding_across   \n",
       "860     False_Misconception                              Irrelevant   \n",
       "15795   False_Misconception                          Ignores_zeroes   \n",
       "\n",
       "                                                   target  label  is_correct  \\\n",
       "115081                           False_Misconception:Mult     20           0   \n",
       "48976                     True_Misconception:Not_variable     54           1   \n",
       "97620   True_Misconception:Incorrect_equivalent_fracti...     48           1   \n",
       "103047                            True_Misconception:Mult     52           1   \n",
       "56455                 True_Misconception:Longer_is_bigger     51           1   \n",
       "...                                                   ...    ...         ...   \n",
       "76820                       True_Misconception:Incomplete     47           1   \n",
       "110268                                   False_Neither:NA     36           0   \n",
       "103694                   True_Misconception:Adding_across     38           1   \n",
       "860                        False_Misconception:Irrelevant     18           0   \n",
       "15795                  False_Misconception:Ignores_zeroes     12           0   \n",
       "\n",
       "                                              LLM_Content  Length  \n",
       "115081  You are an expert educational diagnostician sp...     117  \n",
       "48976   You are an expert educational diagnostician sp...     126  \n",
       "97620   You are an expert educational diagnostician sp...     130  \n",
       "103047  You are an expert educational diagnostician sp...     115  \n",
       "56455   You are an expert educational diagnostician sp...     116  \n",
       "...                                                   ...     ...  \n",
       "76820   You are an expert educational diagnostician sp...     139  \n",
       "110268  You are an expert educational diagnostician sp...     159  \n",
       "103694  You are an expert educational diagnostician sp...     144  \n",
       "860     You are an expert educational diagnostician sp...     130  \n",
       "15795   You are an expert educational diagnostician sp...     109  \n",
       "\n",
       "[119250 rows x 12 columns]"
      ]
     },
     "execution_count": 95,
     "metadata": {},
     "output_type": "execute_result"
    }
   ],
   "source": [
    "tempTrainDF"
   ]
  },
  {
   "cell_type": "code",
   "execution_count": 96,
   "id": "4c83bb96",
   "metadata": {
    "execution": {
     "iopub.execute_input": "2025-10-02T14:47:56.816894Z",
     "iopub.status.busy": "2025-10-02T14:47:56.816687Z",
     "iopub.status.idle": "2025-10-02T14:47:57.247918Z",
     "shell.execute_reply": "2025-10-02T14:47:57.247212Z"
    },
    "papermill": {
     "duration": 0.466954,
     "end_time": "2025-10-02T14:47:57.249345",
     "exception": false,
     "start_time": "2025-10-02T14:47:56.782391",
     "status": "completed"
    },
    "tags": []
   },
   "outputs": [
    {
     "data": {
      "image/png": "[encoded data removed]",
      "text/plain": [
       "<Figure size 640x480 with 1 Axes>"
      ]
     },
     "metadata": {},
     "output_type": "display_data"
    }
   ],
   "source": [
    "tempTrainDF[\"label\"].value_counts().plot(kind=\"bar\", title=\"Class Distribution\");"
   ]
  },
  {
   "cell_type": "code",
   "execution_count": 97,
   "id": "2d9fc7d5",
   "metadata": {
    "execution": {
     "iopub.execute_input": "2025-10-02T14:47:57.317633Z",
     "iopub.status.busy": "2025-10-02T14:47:57.317397Z",
     "iopub.status.idle": "2025-10-02T14:47:57.333459Z",
     "shell.execute_reply": "2025-10-02T14:47:57.332844Z"
    },
    "papermill": {
     "duration": 0.050731,
     "end_time": "2025-10-02T14:47:57.334496",
     "exception": false,
     "start_time": "2025-10-02T14:47:57.283765",
     "status": "completed"
    },
    "tags": []
   },
   "outputs": [
    {
     "data": {
      "text/html": [
       "<div>\n",
       "<style scoped>\n",
       "    .dataframe tbody tr th:only-of-type {\n",
       "        vertical-align: middle;\n",
       "    }\n",
       "\n",
       "    .dataframe tbody tr th {\n",
       "        vertical-align: top;\n",
       "    }\n",
       "\n",
       "    .dataframe thead th {\n",
       "        text-align: right;\n",
       "    }\n",
       "</style>\n",
       "<table border=\"1\" class=\"dataframe\">\n",
       "  <thead>\n",
       "    <tr style=\"text-align: right;\">\n",
       "      <th></th>\n",
       "      <th>row_id</th>\n",
       "      <th>QuestionId</th>\n",
       "      <th>label</th>\n",
       "      <th>is_correct</th>\n",
       "      <th>Length</th>\n",
       "    </tr>\n",
       "  </thead>\n",
       "  <tbody>\n",
       "    <tr>\n",
       "      <th>count</th>\n",
       "      <td>359.000000</td>\n",
       "      <td>359.000000</td>\n",
       "      <td>359.000000</td>\n",
       "      <td>359.000000</td>\n",
       "      <td>359.000000</td>\n",
       "    </tr>\n",
       "    <tr>\n",
       "      <th>mean</th>\n",
       "      <td>21246.108635</td>\n",
       "      <td>50173.855153</td>\n",
       "      <td>34.147632</td>\n",
       "      <td>0.504178</td>\n",
       "      <td>139.543175</td>\n",
       "    </tr>\n",
       "    <tr>\n",
       "      <th>std</th>\n",
       "      <td>10071.569838</td>\n",
       "      <td>28093.638987</td>\n",
       "      <td>17.780566</td>\n",
       "      <td>0.500680</td>\n",
       "      <td>21.581409</td>\n",
       "    </tr>\n",
       "    <tr>\n",
       "      <th>min</th>\n",
       "      <td>86.000000</td>\n",
       "      <td>31772.000000</td>\n",
       "      <td>0.000000</td>\n",
       "      <td>0.000000</td>\n",
       "      <td>98.000000</td>\n",
       "    </tr>\n",
       "    <tr>\n",
       "      <th>25%</th>\n",
       "      <td>15189.000000</td>\n",
       "      <td>32829.000000</td>\n",
       "      <td>21.000000</td>\n",
       "      <td>0.000000</td>\n",
       "      <td>124.000000</td>\n",
       "    </tr>\n",
       "    <tr>\n",
       "      <th>50%</th>\n",
       "      <td>22166.000000</td>\n",
       "      <td>33471.000000</td>\n",
       "      <td>37.000000</td>\n",
       "      <td>1.000000</td>\n",
       "      <td>138.000000</td>\n",
       "    </tr>\n",
       "    <tr>\n",
       "      <th>75%</th>\n",
       "      <td>29405.500000</td>\n",
       "      <td>89443.000000</td>\n",
       "      <td>48.000000</td>\n",
       "      <td>1.000000</td>\n",
       "      <td>151.000000</td>\n",
       "    </tr>\n",
       "    <tr>\n",
       "      <th>max</th>\n",
       "      <td>36610.000000</td>\n",
       "      <td>109465.000000</td>\n",
       "      <td>64.000000</td>\n",
       "      <td>1.000000</td>\n",
       "      <td>210.000000</td>\n",
       "    </tr>\n",
       "  </tbody>\n",
       "</table>\n",
       "</div>"
      ],
      "text/plain": [
       "             row_id     QuestionId       label  is_correct      Length\n",
       "count    359.000000     359.000000  359.000000  359.000000  359.000000\n",
       "mean   21246.108635   50173.855153   34.147632    0.504178  139.543175\n",
       "std    10071.569838   28093.638987   17.780566    0.500680   21.581409\n",
       "min       86.000000   31772.000000    0.000000    0.000000   98.000000\n",
       "25%    15189.000000   32829.000000   21.000000    0.000000  124.000000\n",
       "50%    22166.000000   33471.000000   37.000000    1.000000  138.000000\n",
       "75%    29405.500000   89443.000000   48.000000    1.000000  151.000000\n",
       "max    36610.000000  109465.000000   64.000000    1.000000  210.000000"
      ]
     },
     "execution_count": 97,
     "metadata": {},
     "output_type": "execute_result"
    }
   ],
   "source": [
    "tempValDF.describe()"
   ]
  },
  {
   "cell_type": "code",
   "execution_count": 98,
   "id": "c181ac34",
   "metadata": {
    "execution": {
     "iopub.execute_input": "2025-10-02T14:47:57.401279Z",
     "iopub.status.busy": "2025-10-02T14:47:57.401060Z",
     "iopub.status.idle": "2025-10-02T14:47:58.136614Z",
     "shell.execute_reply": "2025-10-02T14:47:58.135978Z"
    },
    "papermill": {
     "duration": 0.770206,
     "end_time": "2025-10-02T14:47:58.137835",
     "exception": false,
     "start_time": "2025-10-02T14:47:57.367629",
     "status": "completed"
    },
    "tags": []
   },
   "outputs": [],
   "source": [
    "# Convert to Hugging Face Dataset for training dataset\n",
    "COLS = ['LLM_Content','label']\n",
    "\n",
    "trainDataset = Dataset.from_pandas(tempTrainDF[COLS], split=\"train\")\n",
    "valDataset = Dataset.from_pandas(tempValDF[COLS], split=\"test\")\n",
    "testDataset = Dataset.from_pandas(testDF, split=\"test\")\n",
    "subDataset = Dataset.from_pandas(sample, split=\"test\") # submit dataset\n",
    "\n",
    "# trainDataset = Dataset.from_pandas(tempTrainDF, split=\"train\")\n",
    "# valDataset = Dataset.from_pandas(tempValDF, split=\"test\")\n",
    "# subDataset = Dataset.from_pandas(sample, split=\"test\") # submit dataset"
   ]
  },
  {
   "cell_type": "code",
   "execution_count": 99,
   "id": "3095005b",
   "metadata": {
    "execution": {
     "iopub.execute_input": "2025-10-02T14:47:58.249413Z",
     "iopub.status.busy": "2025-10-02T14:47:58.248684Z",
     "iopub.status.idle": "2025-10-02T14:47:58.252917Z",
     "shell.execute_reply": "2025-10-02T14:47:58.252424Z"
    },
    "papermill": {
     "duration": 0.082609,
     "end_time": "2025-10-02T14:47:58.253970",
     "exception": false,
     "start_time": "2025-10-02T14:47:58.171361",
     "status": "completed"
    },
    "tags": []
   },
   "outputs": [
    {
     "data": {
      "text/plain": [
       "Dataset({\n",
       "    features: ['LLM_Content', 'label', '__index_level_0__'],\n",
       "    num_rows: 119250\n",
       "})"
      ]
     },
     "execution_count": 99,
     "metadata": {},
     "output_type": "execute_result"
    }
   ],
   "source": [
    "trainDataset"
   ]
  },
  {
   "cell_type": "code",
   "execution_count": 100,
   "id": "9ccf8bb2",
   "metadata": {
    "execution": {
     "iopub.execute_input": "2025-10-02T14:47:58.321056Z",
     "iopub.status.busy": "2025-10-02T14:47:58.320393Z",
     "iopub.status.idle": "2025-10-02T14:47:58.324866Z",
     "shell.execute_reply": "2025-10-02T14:47:58.324213Z"
    },
    "papermill": {
     "duration": 0.039176,
     "end_time": "2025-10-02T14:47:58.325998",
     "exception": false,
     "start_time": "2025-10-02T14:47:58.286822",
     "status": "completed"
    },
    "tags": []
   },
   "outputs": [
    {
     "data": {
      "text/plain": [
       "Dataset({\n",
       "    features: ['row_id', 'QuestionId', 'QuestionText', 'MC_Answer', 'StudentExplanation', 'is_correct', 'LLM_Content'],\n",
       "    num_rows: 3\n",
       "})"
      ]
     },
     "execution_count": 100,
     "metadata": {},
     "output_type": "execute_result"
    }
   ],
   "source": [
    "testDataset"
   ]
  },
  {
   "cell_type": "code",
   "execution_count": 101,
   "id": "1714ce14",
   "metadata": {
    "execution": {
     "iopub.execute_input": "2025-10-02T14:47:58.393075Z",
     "iopub.status.busy": "2025-10-02T14:47:58.392861Z",
     "iopub.status.idle": "2025-10-02T14:47:58.397074Z",
     "shell.execute_reply": "2025-10-02T14:47:58.396591Z"
    },
    "papermill": {
     "duration": 0.039364,
     "end_time": "2025-10-02T14:47:58.398208",
     "exception": false,
     "start_time": "2025-10-02T14:47:58.358844",
     "status": "completed"
    },
    "tags": []
   },
   "outputs": [
    {
     "data": {
      "text/plain": [
       "Dataset({\n",
       "    features: ['row_id', 'Category:Misconception'],\n",
       "    num_rows: 3\n",
       "})"
      ]
     },
     "execution_count": 101,
     "metadata": {},
     "output_type": "execute_result"
    }
   ],
   "source": [
    "subDataset"
   ]
  },
  {
   "cell_type": "code",
   "execution_count": 102,
   "id": "06e24e1c",
   "metadata": {
    "execution": {
     "iopub.execute_input": "2025-10-02T14:47:58.466505Z",
     "iopub.status.busy": "2025-10-02T14:47:58.466090Z",
     "iopub.status.idle": "2025-10-02T14:47:58.733552Z",
     "shell.execute_reply": "2025-10-02T14:47:58.732647Z"
    },
    "papermill": {
     "duration": 0.302361,
     "end_time": "2025-10-02T14:47:58.734808",
     "exception": false,
     "start_time": "2025-10-02T14:47:58.432447",
     "status": "completed"
    },
    "tags": []
   },
   "outputs": [
    {
     "name": "stdout",
     "output_type": "stream",
     "text": [
      "Thu Oct  2 14:47:58 2025       \r\n",
      "+-----------------------------------------------------------------------------------------+\r\n",
      "| NVIDIA-SMI 560.35.03              Driver Version: 560.35.03      CUDA Version: 12.6     |\r\n",
      "|-----------------------------------------+------------------------+----------------------+\r\n",
      "| GPU  Name                 Persistence-M | Bus-Id          Disp.A | Volatile Uncorr. ECC |\r\n",
      "| Fan  Temp   Perf          Pwr:Usage/Cap |           Memory-Usage | GPU-Util  Compute M. |\r\n",
      "|                                         |                        |               MIG M. |\r\n",
      "|=========================================+========================+======================|\r\n",
      "|   0  Tesla T4                       Off |   00000000:00:04.0 Off |                    0 |\r\n",
      "| N/A   58C    P0             29W /   70W |    1861MiB /  15360MiB |      0%      Default |\r\n",
      "|                                         |                        |                  N/A |\r\n",
      "+-----------------------------------------+------------------------+----------------------+\r\n",
      "|   1  Tesla T4                       Off |   00000000:00:05.0 Off |                    0 |\r\n",
      "| N/A   54C    P0             29W /   70W |    2273MiB /  15360MiB |      0%      Default |\r\n",
      "|                                         |                        |                  N/A |\r\n",
      "+-----------------------------------------+------------------------+----------------------+\r\n",
      "                                                                                         \r\n",
      "+-----------------------------------------------------------------------------------------+\r\n",
      "| Processes:                                                                              |\r\n",
      "|  GPU   GI   CI        PID   Type   Process name                              GPU Memory |\r\n",
      "|        ID   ID                                                               Usage      |\r\n",
      "|=========================================================================================|\r\n",
      "+-----------------------------------------------------------------------------------------+\r\n"
     ]
    },
    {
     "name": "stderr",
     "output_type": "stream",
     "text": [
      "huggingface/tokenizers: The current process just got forked, after parallelism has already been used. Disabling parallelism to avoid deadlocks...\n",
      "To disable this warning, you can either:\n",
      "\t- Avoid using `tokenizers` before the fork if possible\n",
      "\t- Explicitly set the environment variable TOKENIZERS_PARALLELISM=(true | false)\n"
     ]
    }
   ],
   "source": [
    "# for GPU only\n",
    "!nvidia-smi  "
   ]
  },
  {
   "cell_type": "code",
   "execution_count": 103,
   "id": "51e4de9c",
   "metadata": {
    "execution": {
     "iopub.execute_input": "2025-10-02T14:47:58.802327Z",
     "iopub.status.busy": "2025-10-02T14:47:58.801816Z",
     "iopub.status.idle": "2025-10-02T14:47:58.806962Z",
     "shell.execute_reply": "2025-10-02T14:47:58.806278Z"
    },
    "papermill": {
     "duration": 0.039468,
     "end_time": "2025-10-02T14:47:58.807998",
     "exception": false,
     "start_time": "2025-10-02T14:47:58.768530",
     "status": "completed"
    },
    "tags": []
   },
   "outputs": [],
   "source": [
    "del tempTrainDF \n",
    "del tempValDF"
   ]
  },
  {
   "cell_type": "code",
   "execution_count": 104,
   "id": "23e3d7cf",
   "metadata": {
    "execution": {
     "iopub.execute_input": "2025-10-02T14:47:58.874917Z",
     "iopub.status.busy": "2025-10-02T14:47:58.874645Z",
     "iopub.status.idle": "2025-10-02T14:47:58.879966Z",
     "shell.execute_reply": "2025-10-02T14:47:58.879305Z"
    },
    "papermill": {
     "duration": 0.040258,
     "end_time": "2025-10-02T14:47:58.881083",
     "exception": false,
     "start_time": "2025-10-02T14:47:58.840825",
     "status": "completed"
    },
    "tags": []
   },
   "outputs": [
    {
     "data": {
      "text/plain": [
       "DatasetDict({\n",
       "    train: Dataset({\n",
       "        features: ['LLM_Content', 'label', '__index_level_0__'],\n",
       "        num_rows: 119250\n",
       "    })\n",
       "    val: Dataset({\n",
       "        features: ['LLM_Content', 'label', '__index_level_0__'],\n",
       "        num_rows: 359\n",
       "    })\n",
       "})"
      ]
     },
     "execution_count": 104,
     "metadata": {},
     "output_type": "execute_result"
    }
   ],
   "source": [
    "datasetDict = DatasetDict({\n",
    "    \"train\" : trainDataset,\n",
    "    \"val\"  : valDataset\n",
    "    \n",
    "})\n",
    "datasetDict"
   ]
  },
  {
   "cell_type": "code",
   "execution_count": 105,
   "id": "63da8bf7",
   "metadata": {
    "execution": {
     "iopub.execute_input": "2025-10-02T14:47:58.948645Z",
     "iopub.status.busy": "2025-10-02T14:47:58.948076Z",
     "iopub.status.idle": "2025-10-02T14:47:58.952302Z",
     "shell.execute_reply": "2025-10-02T14:47:58.951793Z"
    },
    "papermill": {
     "duration": 0.038833,
     "end_time": "2025-10-02T14:47:58.953365",
     "exception": false,
     "start_time": "2025-10-02T14:47:58.914532",
     "status": "completed"
    },
    "tags": []
   },
   "outputs": [
    {
     "data": {
      "text/plain": [
       "Dataset({\n",
       "    features: ['LLM_Content', 'label', '__index_level_0__'],\n",
       "    num_rows: 119250\n",
       "})"
      ]
     },
     "execution_count": 105,
     "metadata": {},
     "output_type": "execute_result"
    }
   ],
   "source": [
    "datasetDict[\"train\"]"
   ]
  },
  {
   "cell_type": "code",
   "execution_count": 106,
   "id": "98ab8630",
   "metadata": {
    "execution": {
     "iopub.execute_input": "2025-10-02T14:47:59.020476Z",
     "iopub.status.busy": "2025-10-02T14:47:59.020291Z",
     "iopub.status.idle": "2025-10-02T14:47:59.023437Z",
     "shell.execute_reply": "2025-10-02T14:47:59.022931Z"
    },
    "papermill": {
     "duration": 0.037841,
     "end_time": "2025-10-02T14:47:59.024510",
     "exception": false,
     "start_time": "2025-10-02T14:47:58.986669",
     "status": "completed"
    },
    "tags": []
   },
   "outputs": [],
   "source": [
    "def tokenizeFunc(batch):\n",
    "    return tokenizer(batch[\"LLM_Content\"],  max_length=CFG.maxLength, padding='max_length', truncation=True)"
   ]
  },
  {
   "cell_type": "code",
   "execution_count": 107,
   "id": "8f616181",
   "metadata": {
    "execution": {
     "iopub.execute_input": "2025-10-02T14:47:59.091255Z",
     "iopub.status.busy": "2025-10-02T14:47:59.090828Z",
     "iopub.status.idle": "2025-10-02T14:48:28.988579Z",
     "shell.execute_reply": "2025-10-02T14:48:28.988035Z"
    },
    "papermill": {
     "duration": 29.931999,
     "end_time": "2025-10-02T14:48:28.989657",
     "exception": false,
     "start_time": "2025-10-02T14:47:59.057658",
     "status": "completed"
    },
    "tags": []
   },
   "outputs": [
    {
     "data": {
      "application/vnd.jupyter.widget-view+json": {
       "model_id": "d760f9e1bea94274a5e502b1d6f309c1",
       "version_major": 2,
       "version_minor": 0
      },
      "text/plain": [
       "Map:   0%|          | 0/119250 [00:00<?, ? examples/s]"
      ]
     },
     "metadata": {},
     "output_type": "display_data"
    },
    {
     "data": {
      "application/vnd.jupyter.widget-view+json": {
       "model_id": "a6d59c75c51345da83ee5e1c51e3b585",
       "version_major": 2,
       "version_minor": 0
      },
      "text/plain": [
       "Map:   0%|          | 0/359 [00:00<?, ? examples/s]"
      ]
     },
     "metadata": {},
     "output_type": "display_data"
    }
   ],
   "source": [
    "datasetDict = datasetDict.map(tokenizeFunc, batched=True)"
   ]
  },
  {
   "cell_type": "code",
   "execution_count": 108,
   "id": "2f3e6cdb",
   "metadata": {
    "execution": {
     "iopub.execute_input": "2025-10-02T14:48:29.059738Z",
     "iopub.status.busy": "2025-10-02T14:48:29.059280Z",
     "iopub.status.idle": "2025-10-02T14:48:29.063629Z",
     "shell.execute_reply": "2025-10-02T14:48:29.062956Z"
    },
    "papermill": {
     "duration": 0.039648,
     "end_time": "2025-10-02T14:48:29.064679",
     "exception": false,
     "start_time": "2025-10-02T14:48:29.025031",
     "status": "completed"
    },
    "tags": []
   },
   "outputs": [
    {
     "data": {
      "text/plain": [
       "DatasetDict({\n",
       "    train: Dataset({\n",
       "        features: ['LLM_Content', 'label', '__index_level_0__', 'input_ids', 'attention_mask'],\n",
       "        num_rows: 119250\n",
       "    })\n",
       "    val: Dataset({\n",
       "        features: ['LLM_Content', 'label', '__index_level_0__', 'input_ids', 'attention_mask'],\n",
       "        num_rows: 359\n",
       "    })\n",
       "})"
      ]
     },
     "execution_count": 108,
     "metadata": {},
     "output_type": "execute_result"
    }
   ],
   "source": [
    "datasetDict"
   ]
  },
  {
   "cell_type": "code",
   "execution_count": 109,
   "id": "860e69ea",
   "metadata": {
    "execution": {
     "iopub.execute_input": "2025-10-02T14:48:29.131735Z",
     "iopub.status.busy": "2025-10-02T14:48:29.131534Z",
     "iopub.status.idle": "2025-10-02T14:48:29.137609Z",
     "shell.execute_reply": "2025-10-02T14:48:29.136954Z"
    },
    "papermill": {
     "duration": 0.040775,
     "end_time": "2025-10-02T14:48:29.138654",
     "exception": false,
     "start_time": "2025-10-02T14:48:29.097879",
     "status": "completed"
    },
    "tags": []
   },
   "outputs": [],
   "source": [
    "datasetDict = datasetDict.rename_column(\"label\", \"labels\")  # change name to labels "
   ]
  },
  {
   "cell_type": "code",
   "execution_count": 110,
   "id": "42156a90",
   "metadata": {
    "execution": {
     "iopub.execute_input": "2025-10-02T14:48:29.205466Z",
     "iopub.status.busy": "2025-10-02T14:48:29.205091Z",
     "iopub.status.idle": "2025-10-02T14:48:29.209205Z",
     "shell.execute_reply": "2025-10-02T14:48:29.208561Z"
    },
    "papermill": {
     "duration": 0.038508,
     "end_time": "2025-10-02T14:48:29.210144",
     "exception": false,
     "start_time": "2025-10-02T14:48:29.171636",
     "status": "completed"
    },
    "tags": []
   },
   "outputs": [
    {
     "data": {
      "text/plain": [
       "DatasetDict({\n",
       "    train: Dataset({\n",
       "        features: ['LLM_Content', 'labels', '__index_level_0__', 'input_ids', 'attention_mask'],\n",
       "        num_rows: 119250\n",
       "    })\n",
       "    val: Dataset({\n",
       "        features: ['LLM_Content', 'labels', '__index_level_0__', 'input_ids', 'attention_mask'],\n",
       "        num_rows: 359\n",
       "    })\n",
       "})"
      ]
     },
     "execution_count": 110,
     "metadata": {},
     "output_type": "execute_result"
    }
   ],
   "source": [
    "datasetDict"
   ]
  },
  {
   "cell_type": "code",
   "execution_count": 111,
   "id": "5dc749db",
   "metadata": {
    "execution": {
     "iopub.execute_input": "2025-10-02T14:48:29.278027Z",
     "iopub.status.busy": "2025-10-02T14:48:29.277386Z",
     "iopub.status.idle": "2025-10-02T14:48:29.281850Z",
     "shell.execute_reply": "2025-10-02T14:48:29.281202Z"
    },
    "papermill": {
     "duration": 0.039566,
     "end_time": "2025-10-02T14:48:29.282872",
     "exception": false,
     "start_time": "2025-10-02T14:48:29.243306",
     "status": "completed"
    },
    "tags": []
   },
   "outputs": [
    {
     "data": {
      "text/plain": [
       "DatasetDict({\n",
       "    test: Dataset({\n",
       "        features: ['row_id', 'QuestionId', 'QuestionText', 'MC_Answer', 'StudentExplanation', 'is_correct', 'LLM_Content'],\n",
       "        num_rows: 3\n",
       "    })\n",
       "})"
      ]
     },
     "execution_count": 111,
     "metadata": {},
     "output_type": "execute_result"
    }
   ],
   "source": [
    "testDict = DatasetDict({\n",
    "    \"test\": testDataset\n",
    "    \n",
    "})\n",
    "testDict"
   ]
  },
  {
   "cell_type": "code",
   "execution_count": 112,
   "id": "c520859d",
   "metadata": {
    "execution": {
     "iopub.execute_input": "2025-10-02T14:48:29.351087Z",
     "iopub.status.busy": "2025-10-02T14:48:29.350390Z",
     "iopub.status.idle": "2025-10-02T14:48:29.354638Z",
     "shell.execute_reply": "2025-10-02T14:48:29.354091Z"
    },
    "papermill": {
     "duration": 0.039188,
     "end_time": "2025-10-02T14:48:29.355585",
     "exception": false,
     "start_time": "2025-10-02T14:48:29.316397",
     "status": "completed"
    },
    "tags": []
   },
   "outputs": [
    {
     "data": {
      "text/plain": [
       "DatasetDict({\n",
       "    test: Dataset({\n",
       "        features: ['row_id', 'Category:Misconception'],\n",
       "        num_rows: 3\n",
       "    })\n",
       "})"
      ]
     },
     "execution_count": 112,
     "metadata": {},
     "output_type": "execute_result"
    }
   ],
   "source": [
    "submitDict = DatasetDict({\n",
    "    \"test\": subDataset\n",
    "    # \"test\": subDataset\n",
    "    \n",
    "})\n",
    "submitDict"
   ]
  },
  {
   "cell_type": "code",
   "execution_count": 113,
   "id": "9dfa0daa",
   "metadata": {
    "execution": {
     "iopub.execute_input": "2025-10-02T14:48:29.422390Z",
     "iopub.status.busy": "2025-10-02T14:48:29.422001Z",
     "iopub.status.idle": "2025-10-02T14:48:29.427687Z",
     "shell.execute_reply": "2025-10-02T14:48:29.427140Z"
    },
    "papermill": {
     "duration": 0.039965,
     "end_time": "2025-10-02T14:48:29.428670",
     "exception": false,
     "start_time": "2025-10-02T14:48:29.388705",
     "status": "completed"
    },
    "tags": []
   },
   "outputs": [],
   "source": [
    "# Evaluation Metrics \n",
    "def compute_metric(eval_pred):\n",
    "    logits , labels = eval_pred\n",
    "    # predictions = np.argmax(logits, axis=-1)  # for mult-class\n",
    "    top3_preds = np.argsort(logits, axis=-1)[:, -3:]\n",
    "    match = (top3_preds == labels[:, None])\n",
    "    predictions= top3_preds[:, 2]\n",
    "    acc = (predictions == labels).mean()\n",
    "    f1score  =  f1_score(labels, predictions, average='weighted', zero_division=1)\n",
    "    recallScore = recall_score(labels, predictions,  average='weighted', zero_division=1)\n",
    "    precision = precision_score(labels, predictions,  average='weighted', zero_division=1)\n",
    "    \n",
    "    # for map@3\n",
    "    top3_preds = np.argsort(logits, axis=-1)[:, -3:]\n",
    "    match = (top3_preds == labels[:, None])\n",
    "\n",
    "    # Compute MAP@3 manually\n",
    "    map3 = 0\n",
    "    for i in range(len(labels)):\n",
    "        if match[i, 0]:\n",
    "            map3 += 1.0\n",
    "        elif match[i, 1]:\n",
    "            map3 += 1.0 / 2\n",
    "        elif match[i, 2]:\n",
    "            map3 += 1.0 / 3\n",
    "    map3Score = map3 / len(labels)\n",
    "    # map3List.append(map3Score)\n",
    "    \n",
    "    return {\"accuracy\": acc , \"recall\":  recallScore,  \"precision\":precision, 'f1-score': f1score ,\n",
    "             \"map_3\":map3Score}\n",
    "    \n",
    "    \n",
    "    \n",
    "    "
   ]
  },
  {
   "cell_type": "markdown",
   "id": "ed9e27ce",
   "metadata": {
    "papermill": {
     "duration": 0.033093,
     "end_time": "2025-10-02T14:48:29.494942",
     "exception": false,
     "start_time": "2025-10-02T14:48:29.461849",
     "status": "completed"
    },
    "tags": []
   },
   "source": [
    "## LoRA fine tuing"
   ]
  },
  {
   "cell_type": "code",
   "execution_count": 114,
   "id": "2a82e2eb",
   "metadata": {
    "execution": {
     "iopub.execute_input": "2025-10-02T14:48:29.563542Z",
     "iopub.status.busy": "2025-10-02T14:48:29.563019Z",
     "iopub.status.idle": "2025-10-02T14:48:29.566641Z",
     "shell.execute_reply": "2025-10-02T14:48:29.566064Z"
    },
    "papermill": {
     "duration": 0.039269,
     "end_time": "2025-10-02T14:48:29.567616",
     "exception": false,
     "start_time": "2025-10-02T14:48:29.528347",
     "status": "completed"
    },
    "tags": []
   },
   "outputs": [],
   "source": [
    "lora_config = LoraConfig(\n",
    "        r=16,\n",
    "        lora_alpha=32,\n",
    "        task_type=\"SEQ_CLS\",  # for Sequence Classification\n",
    "        # task_type=\"CAUSAL_LM\", # for generative task\n",
    "        bias=\"none\",\n",
    "        target_modules = [\"q_proj\", \"o_proj\", \"k_proj\", \"v_proj\",\n",
    "                      \"gate_proj\", \"up_proj\", \"down_proj\"],\n",
    "        lora_dropout= CFG.DROPOUT,\n",
    "    )"
   ]
  },
  {
   "cell_type": "code",
   "execution_count": 115,
   "id": "4209ebde",
   "metadata": {
    "execution": {
     "iopub.execute_input": "2025-10-02T14:48:29.635080Z",
     "iopub.status.busy": "2025-10-02T14:48:29.634692Z",
     "iopub.status.idle": "2025-10-02T14:48:30.267868Z",
     "shell.execute_reply": "2025-10-02T14:48:30.267323Z"
    },
    "papermill": {
     "duration": 0.668373,
     "end_time": "2025-10-02T14:48:30.269231",
     "exception": false,
     "start_time": "2025-10-02T14:48:29.600858",
     "status": "completed"
    },
    "tags": []
   },
   "outputs": [],
   "source": [
    "# Creat Lora Model\n",
    "model = get_peft_model(model, lora_config)"
   ]
  },
  {
   "cell_type": "code",
   "execution_count": 116,
   "id": "e285d3d9",
   "metadata": {
    "execution": {
     "iopub.execute_input": "2025-10-02T14:48:30.339329Z",
     "iopub.status.busy": "2025-10-02T14:48:30.339080Z",
     "iopub.status.idle": "2025-10-02T14:48:30.348223Z",
     "shell.execute_reply": "2025-10-02T14:48:30.347522Z"
    },
    "papermill": {
     "duration": 0.044384,
     "end_time": "2025-10-02T14:48:30.349362",
     "exception": false,
     "start_time": "2025-10-02T14:48:30.304978",
     "status": "completed"
    },
    "tags": []
   },
   "outputs": [
    {
     "name": "stdout",
     "output_type": "stream",
     "text": [
      "trainable params: 33,196,544 || all params: 4,055,147,520 || trainable%: 0.8186\n"
     ]
    }
   ],
   "source": [
    "model.print_trainable_parameters()"
   ]
  },
  {
   "cell_type": "code",
   "execution_count": 117,
   "id": "f49de927",
   "metadata": {
    "execution": {
     "iopub.execute_input": "2025-10-02T14:48:30.424396Z",
     "iopub.status.busy": "2025-10-02T14:48:30.424101Z",
     "iopub.status.idle": "2025-10-02T14:48:30.428648Z",
     "shell.execute_reply": "2025-10-02T14:48:30.428069Z"
    },
    "papermill": {
     "duration": 0.043004,
     "end_time": "2025-10-02T14:48:30.429738",
     "exception": false,
     "start_time": "2025-10-02T14:48:30.386734",
     "status": "completed"
    },
    "tags": []
   },
   "outputs": [
    {
     "data": {
      "text/plain": [
       "'0.11.4'"
      ]
     },
     "execution_count": 117,
     "metadata": {},
     "output_type": "execute_result"
    }
   ],
   "source": [
    "import trl\n",
    "trl.__version__"
   ]
  },
  {
   "cell_type": "code",
   "execution_count": 118,
   "id": "db6e2e47",
   "metadata": {
    "execution": {
     "iopub.execute_input": "2025-10-02T14:48:30.501474Z",
     "iopub.status.busy": "2025-10-02T14:48:30.500912Z",
     "iopub.status.idle": "2025-10-02T14:48:30.505114Z",
     "shell.execute_reply": "2025-10-02T14:48:30.504469Z"
    },
    "papermill": {
     "duration": 0.039896,
     "end_time": "2025-10-02T14:48:30.506242",
     "exception": false,
     "start_time": "2025-10-02T14:48:30.466346",
     "status": "completed"
    },
    "tags": []
   },
   "outputs": [
    {
     "data": {
      "text/plain": [
       "0.014"
      ]
     },
     "execution_count": 118,
     "metadata": {},
     "output_type": "execute_result"
    }
   ],
   "source": [
    " CFG.maxEpoch"
   ]
  },
  {
   "cell_type": "code",
   "execution_count": 119,
   "id": "65e8e304",
   "metadata": {
    "execution": {
     "iopub.execute_input": "2025-10-02T14:48:30.576066Z",
     "iopub.status.busy": "2025-10-02T14:48:30.575873Z",
     "iopub.status.idle": "2025-10-02T14:48:30.580924Z",
     "shell.execute_reply": "2025-10-02T14:48:30.580349Z"
    },
    "papermill": {
     "duration": 0.041542,
     "end_time": "2025-10-02T14:48:30.581860",
     "exception": false,
     "start_time": "2025-10-02T14:48:30.540318",
     "status": "completed"
    },
    "tags": []
   },
   "outputs": [
    {
     "name": "stdout",
     "output_type": "stream",
     "text": [
      "BATCH_SIZE: 9, N_SAMPLES: 119250, STEPS_PER_EPOCH: 13250\n",
      "NUM_WARMUP_STEPS: 9, TOTAL_STEPS: 185\n",
      "Val Step per epoch: 39\n"
     ]
    }
   ],
   "source": [
    "N_SAMPLES = len(datasetDict[\"train\"])  # Use train_df after the split\n",
    "STEPS_PER_EPOCH = (N_SAMPLES // CFG.per_device_train_batch_size ) #* CFG.maxEpoch\n",
    "VAL_STEPS_PER_EPOCH = len(datasetDict[\"val\"]) // CFG.per_device_eval_batch_size\n",
    "TOTAL_STEPS = int(STEPS_PER_EPOCH * CFG.maxEpoch)\n",
    "NUM_WARMUP_STEPS = int(TOTAL_STEPS * 0.05)\n",
    "\n",
    "print(f'BATCH_SIZE: {CFG.per_device_train_batch_size}, N_SAMPLES: {N_SAMPLES}, STEPS_PER_EPOCH: {STEPS_PER_EPOCH}')\n",
    "print(f'NUM_WARMUP_STEPS: {NUM_WARMUP_STEPS}, TOTAL_STEPS: {TOTAL_STEPS}')\n",
    "print(f\"Val Step per epoch: {VAL_STEPS_PER_EPOCH}\")\n"
   ]
  },
  {
   "cell_type": "code",
   "execution_count": 120,
   "id": "faa1ae1a",
   "metadata": {
    "execution": {
     "iopub.execute_input": "2025-10-02T14:48:30.650448Z",
     "iopub.status.busy": "2025-10-02T14:48:30.650037Z",
     "iopub.status.idle": "2025-10-02T14:48:30.652923Z",
     "shell.execute_reply": "2025-10-02T14:48:30.652280Z"
    },
    "papermill": {
     "duration": 0.038629,
     "end_time": "2025-10-02T14:48:30.654001",
     "exception": false,
     "start_time": "2025-10-02T14:48:30.615372",
     "status": "completed"
    },
    "tags": []
   },
   "outputs": [],
   "source": [
    "# import deepspeed\n",
    "# deepspeed.__version__"
   ]
  },
  {
   "cell_type": "code",
   "execution_count": 121,
   "id": "08ffaada",
   "metadata": {
    "execution": {
     "iopub.execute_input": "2025-10-02T14:48:30.722635Z",
     "iopub.status.busy": "2025-10-02T14:48:30.722052Z",
     "iopub.status.idle": "2025-10-02T14:48:30.726193Z",
     "shell.execute_reply": "2025-10-02T14:48:30.725671Z"
    },
    "papermill": {
     "duration": 0.039443,
     "end_time": "2025-10-02T14:48:30.727230",
     "exception": false,
     "start_time": "2025-10-02T14:48:30.687787",
     "status": "completed"
    },
    "tags": []
   },
   "outputs": [
    {
     "data": {
      "text/plain": [
       "'1.8.1'"
      ]
     },
     "execution_count": 121,
     "metadata": {},
     "output_type": "execute_result"
    }
   ],
   "source": [
    "import accelerate\n",
    "accelerate.__version__"
   ]
  },
  {
   "cell_type": "markdown",
   "id": "f5a54894",
   "metadata": {
    "papermill": {
     "duration": 0.0332,
     "end_time": "2025-10-02T14:48:30.794206",
     "exception": false,
     "start_time": "2025-10-02T14:48:30.761006",
     "status": "completed"
    },
    "tags": []
   },
   "source": [
    "## STF Trainer Parameter"
   ]
  },
  {
   "cell_type": "code",
   "execution_count": 122,
   "id": "527305c3",
   "metadata": {
    "execution": {
     "iopub.execute_input": "2025-10-02T14:48:30.861859Z",
     "iopub.status.busy": "2025-10-02T14:48:30.861362Z",
     "iopub.status.idle": "2025-10-02T14:48:30.894099Z",
     "shell.execute_reply": "2025-10-02T14:48:30.893625Z"
    },
    "papermill": {
     "duration": 0.067586,
     "end_time": "2025-10-02T14:48:30.895197",
     "exception": false,
     "start_time": "2025-10-02T14:48:30.827611",
     "status": "completed"
    },
    "tags": []
   },
   "outputs": [],
   "source": [
    "from trl import SFTTrainer, SFTConfig\n",
    "torch_dtype = model.dtype\n",
    "trainArg = SFTConfig(\n",
    "    output_dir= \"kaggle/working\",\n",
    "    # max_length= CFG.maxLength, # old version trl\n",
    "    max_seq_length = CFG.maxLength, # new version trl\n",
    "    per_device_train_batch_size =CFG.per_device_train_batch_size,\n",
    "    per_device_eval_batch_size = CFG.per_device_eval_batch_size,\n",
    "    gradient_accumulation_steps = CFG.gradient_accumulation_steps,\n",
    "    eval_strategy= \"steps\",\n",
    "    save_strategy= \"steps\",\n",
    "    warmup_steps= NUM_WARMUP_STEPS, #CFG.warmup_steps,\n",
    "    max_steps = TOTAL_STEPS,  #CFG.maxTrainStep, # set max train step size\n",
    "    learning_rate=CFG.learning_rate,\n",
    "    lr_scheduler_type=\"cosine\", #\"linear\", #\"cosine\",\n",
    "    save_total_limit=2,\n",
    "    fp16=True if torch_dtype == torch.float16 else False,   # use float16 precision ,  # INFER WITH FP16 BECAUSE KAGGLE IS T4 GPU\n",
    "    bf16=True if torch_dtype == torch.bfloat16 else False,  # use bfloat16 precision, TRAIN WITH BF16 IF LOCAL GPU IS NEWER GPU  \n",
    "    # fp16=True,\n",
    "    logging_steps= CFG.evalSteps,\n",
    "    eval_steps = CFG.evalSteps,\n",
    "    optim=\"adamw_8bit\",  #\"paged_adamw_8bit\",\n",
    "    report_to = CFG.reportTo,\n",
    "    do_eval=True,                # Perform evaluation at the end of training\n",
    "    max_grad_norm=1.0,\n",
    "    weight_decay=CFG.weight_decay,\n",
    "    metric_for_best_model=\"map_3\",\n",
    "    greater_is_better=True,\n",
    "    # memory optimial (reduce GPU memory but slowdown train speed )\n",
    "    # gradient_checkpointing=True,\n",
    "    # gradient_checkpointing_kwargs={'use_reentrant':False}, # for Mulitple -GPU\n",
    "    load_best_model_at_end=True,\n",
    "    # deepspeed=CFG.deepspeedConfigFile, # config error\n",
    "    # label_names = targetClasses,\n",
    "\n",
    "    \n",
    ")"
   ]
  },
  {
   "cell_type": "code",
   "execution_count": 123,
   "id": "2fe2be5a",
   "metadata": {
    "execution": {
     "iopub.execute_input": "2025-10-02T14:48:30.968366Z",
     "iopub.status.busy": "2025-10-02T14:48:30.967955Z",
     "iopub.status.idle": "2025-10-02T14:48:30.972249Z",
     "shell.execute_reply": "2025-10-02T14:48:30.971559Z"
    },
    "papermill": {
     "duration": 0.040261,
     "end_time": "2025-10-02T14:48:30.973353",
     "exception": false,
     "start_time": "2025-10-02T14:48:30.933092",
     "status": "completed"
    },
    "tags": []
   },
   "outputs": [
    {
     "data": {
      "text/plain": [
       "True"
      ]
     },
     "execution_count": 123,
     "metadata": {},
     "output_type": "execute_result"
    }
   ],
   "source": [
    "trainArg.bf16 "
   ]
  },
  {
   "cell_type": "code",
   "execution_count": 124,
   "id": "0b179737",
   "metadata": {
    "execution": {
     "iopub.execute_input": "2025-10-02T14:48:31.041120Z",
     "iopub.status.busy": "2025-10-02T14:48:31.040617Z",
     "iopub.status.idle": "2025-10-02T14:48:31.043822Z",
     "shell.execute_reply": "2025-10-02T14:48:31.043125Z"
    },
    "papermill": {
     "duration": 0.038083,
     "end_time": "2025-10-02T14:48:31.044892",
     "exception": false,
     "start_time": "2025-10-02T14:48:31.006809",
     "status": "completed"
    },
    "tags": []
   },
   "outputs": [],
   "source": [
    "from transformers import DataCollatorWithPadding"
   ]
  },
  {
   "cell_type": "code",
   "execution_count": 125,
   "id": "8e4cbdea",
   "metadata": {
    "execution": {
     "iopub.execute_input": "2025-10-02T14:48:31.140182Z",
     "iopub.status.busy": "2025-10-02T14:48:31.139681Z",
     "iopub.status.idle": "2025-10-02T14:48:31.599967Z",
     "shell.execute_reply": "2025-10-02T14:48:31.599364Z"
    },
    "papermill": {
     "duration": 0.50497,
     "end_time": "2025-10-02T14:48:31.601121",
     "exception": false,
     "start_time": "2025-10-02T14:48:31.096151",
     "status": "completed"
    },
    "tags": []
   },
   "outputs": [
    {
     "name": "stderr",
     "output_type": "stream",
     "text": [
      "/usr/local/lib/python3.11/dist-packages/trl/trainer/sft_trainer.py:401: FutureWarning: `tokenizer` is deprecated and will be removed in version 5.0.0 for `SFTTrainer.__init__`. Use `processing_class` instead.\n",
      "  super().__init__(\n",
      "No label_names provided for model class `PeftModelForSequenceClassification`. Since `PeftModel` hides base models input arguments, if label_names is not given, label_names can't be set automatically within `Trainer`. Note that empty label_names list will be used instead.\n"
     ]
    }
   ],
   "source": [
    "data_collator = DataCollatorWithPadding(tokenizer=tokenizer)\n",
    "\n",
    "trainer= SFTTrainer(\n",
    "    model=model,\n",
    "    train_dataset=datasetDict[\"train\"],\n",
    "    eval_dataset = datasetDict[\"val\"],\n",
    "    args=trainArg,\n",
    "    peft_config = lora_config,\n",
    "    # formatting_func=formatFuct,\n",
    "    data_collator = data_collator, \n",
    "    compute_metrics= compute_metric,\n",
    "    \n",
    ")"
   ]
  },
  {
   "cell_type": "code",
   "execution_count": 126,
   "id": "e0a10a45",
   "metadata": {
    "execution": {
     "iopub.execute_input": "2025-10-02T14:48:31.673396Z",
     "iopub.status.busy": "2025-10-02T14:48:31.672824Z",
     "iopub.status.idle": "2025-10-02T14:48:31.676453Z",
     "shell.execute_reply": "2025-10-02T14:48:31.675768Z"
    },
    "papermill": {
     "duration": 0.041206,
     "end_time": "2025-10-02T14:48:31.677655",
     "exception": false,
     "start_time": "2025-10-02T14:48:31.636449",
     "status": "completed"
    },
    "tags": []
   },
   "outputs": [],
   "source": [
    "# Fix Batch size >1 , not define pad token id issues\n",
    "eos_token_id=tokenizer.eos_token_id\n",
    "model.config.use_cache=False\n",
    "model.config.pad_token_id = tokenizer.pad_token_id"
   ]
  },
  {
   "cell_type": "code",
   "execution_count": 127,
   "id": "a604b7f4",
   "metadata": {
    "execution": {
     "iopub.execute_input": "2025-10-02T14:48:31.746043Z",
     "iopub.status.busy": "2025-10-02T14:48:31.745842Z",
     "iopub.status.idle": "2025-10-02T14:48:35.089763Z",
     "shell.execute_reply": "2025-10-02T14:48:35.089089Z"
    },
    "papermill": {
     "duration": 3.379356,
     "end_time": "2025-10-02T14:48:35.091015",
     "exception": false,
     "start_time": "2025-10-02T14:48:31.711659",
     "status": "completed"
    },
    "tags": []
   },
   "outputs": [],
   "source": [
    "clearMemory() # clear memory before training"
   ]
  },
  {
   "cell_type": "code",
   "execution_count": 128,
   "id": "2f44ade2",
   "metadata": {
    "execution": {
     "iopub.execute_input": "2025-10-02T14:48:35.161866Z",
     "iopub.status.busy": "2025-10-02T14:48:35.161655Z",
     "iopub.status.idle": "2025-10-02T19:57:24.984186Z",
     "shell.execute_reply": "2025-10-02T19:57:24.983540Z"
    },
    "papermill": {
     "duration": 18529.858849,
     "end_time": "2025-10-02T19:57:24.985367",
     "exception": false,
     "start_time": "2025-10-02T14:48:35.126518",
     "status": "completed"
    },
    "tags": []
   },
   "outputs": [
    {
     "data": {
      "text/html": [
       "\n",
       "    <div>\n",
       "      \n",
       "      <progress value='185' max='185' style='width:300px; height:20px; vertical-align: middle;'></progress>\n",
       "      [185/185 5:07:38, Epoch 0/1]\n",
       "    </div>\n",
       "    <table border=\"1\" class=\"dataframe\">\n",
       "  <thead>\n",
       " <tr style=\"text-align: left;\">\n",
       "      <th>Step</th>\n",
       "      <th>Training Loss</th>\n",
       "      <th>Validation Loss</th>\n",
       "      <th>Accuracy</th>\n",
       "      <th>Recall</th>\n",
       "      <th>Precision</th>\n",
       "      <th>F1-score</th>\n",
       "      <th>Map 3</th>\n",
       "    </tr>\n",
       "  </thead>\n",
       "  <tbody>\n",
       "    <tr>\n",
       "      <td>20</td>\n",
       "      <td>4.614200</td>\n",
       "      <td>3.642447</td>\n",
       "      <td>0.181058</td>\n",
       "      <td>0.181058</td>\n",
       "      <td>0.768479</td>\n",
       "      <td>0.102953</td>\n",
       "      <td>0.199629</td>\n",
       "    </tr>\n",
       "    <tr>\n",
       "      <td>40</td>\n",
       "      <td>2.168100</td>\n",
       "      <td>1.430962</td>\n",
       "      <td>0.515320</td>\n",
       "      <td>0.515320</td>\n",
       "      <td>0.713093</td>\n",
       "      <td>0.468529</td>\n",
       "      <td>0.405757</td>\n",
       "    </tr>\n",
       "    <tr>\n",
       "      <td>60</td>\n",
       "      <td>1.152000</td>\n",
       "      <td>0.862588</td>\n",
       "      <td>0.777159</td>\n",
       "      <td>0.777159</td>\n",
       "      <td>0.783265</td>\n",
       "      <td>0.739645</td>\n",
       "      <td>0.369081</td>\n",
       "    </tr>\n",
       "    <tr>\n",
       "      <td>80</td>\n",
       "      <td>0.943900</td>\n",
       "      <td>0.750923</td>\n",
       "      <td>0.813370</td>\n",
       "      <td>0.813370</td>\n",
       "      <td>0.856473</td>\n",
       "      <td>0.780289</td>\n",
       "      <td>0.339369</td>\n",
       "    </tr>\n",
       "    <tr>\n",
       "      <td>100</td>\n",
       "      <td>0.588800</td>\n",
       "      <td>0.677757</td>\n",
       "      <td>0.782730</td>\n",
       "      <td>0.782730</td>\n",
       "      <td>0.857484</td>\n",
       "      <td>0.773238</td>\n",
       "      <td>0.368152</td>\n",
       "    </tr>\n",
       "    <tr>\n",
       "      <td>120</td>\n",
       "      <td>0.464800</td>\n",
       "      <td>0.444387</td>\n",
       "      <td>0.874652</td>\n",
       "      <td>0.874652</td>\n",
       "      <td>0.886342</td>\n",
       "      <td>0.862284</td>\n",
       "      <td>0.354225</td>\n",
       "    </tr>\n",
       "    <tr>\n",
       "      <td>140</td>\n",
       "      <td>0.362900</td>\n",
       "      <td>0.352421</td>\n",
       "      <td>0.885794</td>\n",
       "      <td>0.885794</td>\n",
       "      <td>0.899583</td>\n",
       "      <td>0.881290</td>\n",
       "      <td>0.350975</td>\n",
       "    </tr>\n",
       "    <tr>\n",
       "      <td>160</td>\n",
       "      <td>0.421100</td>\n",
       "      <td>0.274972</td>\n",
       "      <td>0.908078</td>\n",
       "      <td>0.908078</td>\n",
       "      <td>0.915011</td>\n",
       "      <td>0.904879</td>\n",
       "      <td>0.352832</td>\n",
       "    </tr>\n",
       "    <tr>\n",
       "      <td>180</td>\n",
       "      <td>0.296200</td>\n",
       "      <td>0.262164</td>\n",
       "      <td>0.910864</td>\n",
       "      <td>0.910864</td>\n",
       "      <td>0.920935</td>\n",
       "      <td>0.906487</td>\n",
       "      <td>0.355153</td>\n",
       "    </tr>\n",
       "  </tbody>\n",
       "</table><p>"
      ],
      "text/plain": [
       "<IPython.core.display.HTML object>"
      ]
     },
     "metadata": {},
     "output_type": "display_data"
    },
    {
     "data": {
      "text/plain": [
       "TrainOutput(global_step=185, training_loss=1.1969359964937778, metrics={'train_runtime': 18529.3622, 'train_samples_per_second': 0.359, 'train_steps_per_second': 0.01, 'total_flos': 3.75112499724288e+16, 'train_loss': 1.1969359964937778, 'epoch': 0.05584905660377359})"
      ]
     },
     "execution_count": 128,
     "metadata": {},
     "output_type": "execute_result"
    }
   ],
   "source": [
    "# %%time\n",
    "trainer.train()"
   ]
  },
  {
   "cell_type": "code",
   "execution_count": 129,
   "id": "fc7eedc4",
   "metadata": {
    "execution": {
     "iopub.execute_input": "2025-10-02T19:57:25.057636Z",
     "iopub.status.busy": "2025-10-02T19:57:25.057001Z",
     "iopub.status.idle": "2025-10-02T19:57:25.328217Z",
     "shell.execute_reply": "2025-10-02T19:57:25.327620Z"
    },
    "papermill": {
     "duration": 0.308157,
     "end_time": "2025-10-02T19:57:25.329807",
     "exception": false,
     "start_time": "2025-10-02T19:57:25.021650",
     "status": "completed"
    },
    "tags": []
   },
   "outputs": [],
   "source": [
    "model.save_pretrained(\"student-math-llm-Fine-tune\") # for peft fine tuning model without trainer\n",
    "# trainer.save_model(\"student-math-llm-Fine-tune\") # save model with full trainer "
   ]
  },
  {
   "cell_type": "code",
   "execution_count": 130,
   "id": "3b352895",
   "metadata": {
    "execution": {
     "iopub.execute_input": "2025-10-02T19:57:25.401936Z",
     "iopub.status.busy": "2025-10-02T19:57:25.401717Z",
     "iopub.status.idle": "2025-10-02T19:57:32.658932Z",
     "shell.execute_reply": "2025-10-02T19:57:32.658217Z"
    },
    "papermill": {
     "duration": 7.294093,
     "end_time": "2025-10-02T19:57:32.660247",
     "exception": false,
     "start_time": "2025-10-02T19:57:25.366154",
     "status": "completed"
    },
    "tags": []
   },
   "outputs": [
    {
     "name": "stdout",
     "output_type": "stream",
     "text": [
      "  adding: kaggle/working/student-math-llm-Fine-tune/ (stored 0%)\r\n",
      "  adding: kaggle/working/student-math-llm-Fine-tune/adapter_config.json (deflated 56%)\r\n",
      "  adding: kaggle/working/student-math-llm-Fine-tune/adapter_model.safetensors"
     ]
    },
    {
     "name": "stderr",
     "output_type": "stream",
     "text": [
      "huggingface/tokenizers: The current process just got forked, after parallelism has already been used. Disabling parallelism to avoid deadlocks...\n",
      "To disable this warning, you can either:\n",
      "\t- Avoid using `tokenizers` before the fork if possible\n",
      "\t- Explicitly set the environment variable TOKENIZERS_PARALLELISM=(true | false)\n"
     ]
    },
    {
     "name": "stdout",
     "output_type": "stream",
     "text": [
      " (deflated 7%)\r\n",
      "  adding: kaggle/working/student-math-llm-Fine-tune/README.md (deflated 66%)\r\n"
     ]
    }
   ],
   "source": [
    "# for generate downloadable zip file \n",
    "!zip -r student-math-llm-Fine-tune.zip /kaggle/working/student-math-llm-Fine-tune # for peft\n"
   ]
  },
  {
   "cell_type": "code",
   "execution_count": 131,
   "id": "671cff50",
   "metadata": {
    "execution": {
     "iopub.execute_input": "2025-10-02T19:57:32.732390Z",
     "iopub.status.busy": "2025-10-02T19:57:32.732109Z",
     "iopub.status.idle": "2025-10-02T19:57:32.759401Z",
     "shell.execute_reply": "2025-10-02T19:57:32.758733Z"
    },
    "papermill": {
     "duration": 0.064071,
     "end_time": "2025-10-02T19:57:32.760791",
     "exception": false,
     "start_time": "2025-10-02T19:57:32.696720",
     "status": "completed"
    },
    "tags": []
   },
   "outputs": [
    {
     "name": "stderr",
     "output_type": "stream",
     "text": [
      "/usr/local/lib/python3.11/dist-packages/pandas/io/formats/format.py:1458: RuntimeWarning: invalid value encountered in greater\n",
      "  has_large_values = (abs_vals > 1e6).any()\n",
      "/usr/local/lib/python3.11/dist-packages/pandas/io/formats/format.py:1459: RuntimeWarning: invalid value encountered in less\n",
      "  has_small_values = ((abs_vals < 10 ** (-self.digits)) & (abs_vals > 0)).any()\n",
      "/usr/local/lib/python3.11/dist-packages/pandas/io/formats/format.py:1459: RuntimeWarning: invalid value encountered in greater\n",
      "  has_small_values = ((abs_vals < 10 ** (-self.digits)) & (abs_vals > 0)).any()\n"
     ]
    },
    {
     "data": {
      "text/html": [
       "<div>\n",
       "<style scoped>\n",
       "    .dataframe tbody tr th:only-of-type {\n",
       "        vertical-align: middle;\n",
       "    }\n",
       "\n",
       "    .dataframe tbody tr th {\n",
       "        vertical-align: top;\n",
       "    }\n",
       "\n",
       "    .dataframe thead th {\n",
       "        text-align: right;\n",
       "    }\n",
       "</style>\n",
       "<table border=\"1\" class=\"dataframe\">\n",
       "  <thead>\n",
       "    <tr style=\"text-align: right;\">\n",
       "      <th></th>\n",
       "      <th>loss</th>\n",
       "      <th>grad_norm</th>\n",
       "      <th>learning_rate</th>\n",
       "      <th>epoch</th>\n",
       "      <th>step</th>\n",
       "      <th>eval_loss</th>\n",
       "      <th>eval_accuracy</th>\n",
       "      <th>eval_recall</th>\n",
       "      <th>eval_precision</th>\n",
       "      <th>eval_f1-score</th>\n",
       "      <th>eval_map_3</th>\n",
       "      <th>eval_runtime</th>\n",
       "      <th>eval_samples_per_second</th>\n",
       "      <th>eval_steps_per_second</th>\n",
       "      <th>train_runtime</th>\n",
       "      <th>train_samples_per_second</th>\n",
       "      <th>train_steps_per_second</th>\n",
       "      <th>total_flos</th>\n",
       "      <th>train_loss</th>\n",
       "    </tr>\n",
       "  </thead>\n",
       "  <tbody>\n",
       "    <tr>\n",
       "      <th>0</th>\n",
       "      <td>4.6142</td>\n",
       "      <td>10.710816</td>\n",
       "      <td>0.000893</td>\n",
       "      <td>0.006038</td>\n",
       "      <td>20</td>\n",
       "      <td>NaN</td>\n",
       "      <td>NaN</td>\n",
       "      <td>NaN</td>\n",
       "      <td>NaN</td>\n",
       "      <td>NaN</td>\n",
       "      <td>NaN</td>\n",
       "      <td>NaN</td>\n",
       "      <td>NaN</td>\n",
       "      <td>NaN</td>\n",
       "      <td>NaN</td>\n",
       "      <td>NaN</td>\n",
       "      <td>NaN</td>\n",
       "      <td>NaN</td>\n",
       "      <td>NaN</td>\n",
       "    </tr>\n",
       "    <tr>\n",
       "      <th>1</th>\n",
       "      <td>NaN</td>\n",
       "      <td>NaN</td>\n",
       "      <td>NaN</td>\n",
       "      <td>0.006038</td>\n",
       "      <td>20</td>\n",
       "      <td>3.642447</td>\n",
       "      <td>0.181058</td>\n",
       "      <td>0.181058</td>\n",
       "      <td>0.768479</td>\n",
       "      <td>0.102953</td>\n",
       "      <td>0.199629</td>\n",
       "      <td>365.8287</td>\n",
       "      <td>0.981</td>\n",
       "      <td>0.109</td>\n",
       "      <td>NaN</td>\n",
       "      <td>NaN</td>\n",
       "      <td>NaN</td>\n",
       "      <td>NaN</td>\n",
       "      <td>NaN</td>\n",
       "    </tr>\n",
       "    <tr>\n",
       "      <th>2</th>\n",
       "      <td>2.1681</td>\n",
       "      <td>7.188257</td>\n",
       "      <td>0.000837</td>\n",
       "      <td>0.012075</td>\n",
       "      <td>40</td>\n",
       "      <td>NaN</td>\n",
       "      <td>NaN</td>\n",
       "      <td>NaN</td>\n",
       "      <td>NaN</td>\n",
       "      <td>NaN</td>\n",
       "      <td>NaN</td>\n",
       "      <td>NaN</td>\n",
       "      <td>NaN</td>\n",
       "      <td>NaN</td>\n",
       "      <td>NaN</td>\n",
       "      <td>NaN</td>\n",
       "      <td>NaN</td>\n",
       "      <td>NaN</td>\n",
       "      <td>NaN</td>\n",
       "    </tr>\n",
       "    <tr>\n",
       "      <th>3</th>\n",
       "      <td>NaN</td>\n",
       "      <td>NaN</td>\n",
       "      <td>NaN</td>\n",
       "      <td>0.012075</td>\n",
       "      <td>40</td>\n",
       "      <td>1.430962</td>\n",
       "      <td>0.515320</td>\n",
       "      <td>0.515320</td>\n",
       "      <td>0.713093</td>\n",
       "      <td>0.468529</td>\n",
       "      <td>0.405757</td>\n",
       "      <td>372.7374</td>\n",
       "      <td>0.963</td>\n",
       "      <td>0.107</td>\n",
       "      <td>NaN</td>\n",
       "      <td>NaN</td>\n",
       "      <td>NaN</td>\n",
       "      <td>NaN</td>\n",
       "      <td>NaN</td>\n",
       "    </tr>\n",
       "    <tr>\n",
       "      <th>4</th>\n",
       "      <td>1.1520</td>\n",
       "      <td>5.140187</td>\n",
       "      <td>0.000732</td>\n",
       "      <td>0.018113</td>\n",
       "      <td>60</td>\n",
       "      <td>NaN</td>\n",
       "      <td>NaN</td>\n",
       "      <td>NaN</td>\n",
       "      <td>NaN</td>\n",
       "      <td>NaN</td>\n",
       "      <td>NaN</td>\n",
       "      <td>NaN</td>\n",
       "      <td>NaN</td>\n",
       "      <td>NaN</td>\n",
       "      <td>NaN</td>\n",
       "      <td>NaN</td>\n",
       "      <td>NaN</td>\n",
       "      <td>NaN</td>\n",
       "      <td>NaN</td>\n",
       "    </tr>\n",
       "    <tr>\n",
       "      <th>5</th>\n",
       "      <td>NaN</td>\n",
       "      <td>NaN</td>\n",
       "      <td>NaN</td>\n",
       "      <td>0.018113</td>\n",
       "      <td>60</td>\n",
       "      <td>0.862588</td>\n",
       "      <td>0.777159</td>\n",
       "      <td>0.777159</td>\n",
       "      <td>0.783265</td>\n",
       "      <td>0.739645</td>\n",
       "      <td>0.369081</td>\n",
       "      <td>372.7743</td>\n",
       "      <td>0.963</td>\n",
       "      <td>0.107</td>\n",
       "      <td>NaN</td>\n",
       "      <td>NaN</td>\n",
       "      <td>NaN</td>\n",
       "      <td>NaN</td>\n",
       "      <td>NaN</td>\n",
       "    </tr>\n",
       "    <tr>\n",
       "      <th>6</th>\n",
       "      <td>0.9439</td>\n",
       "      <td>6.279175</td>\n",
       "      <td>0.000592</td>\n",
       "      <td>0.024151</td>\n",
       "      <td>80</td>\n",
       "      <td>NaN</td>\n",
       "      <td>NaN</td>\n",
       "      <td>NaN</td>\n",
       "      <td>NaN</td>\n",
       "      <td>NaN</td>\n",
       "      <td>NaN</td>\n",
       "      <td>NaN</td>\n",
       "      <td>NaN</td>\n",
       "      <td>NaN</td>\n",
       "      <td>NaN</td>\n",
       "      <td>NaN</td>\n",
       "      <td>NaN</td>\n",
       "      <td>NaN</td>\n",
       "      <td>NaN</td>\n",
       "    </tr>\n",
       "    <tr>\n",
       "      <th>7</th>\n",
       "      <td>NaN</td>\n",
       "      <td>NaN</td>\n",
       "      <td>NaN</td>\n",
       "      <td>0.024151</td>\n",
       "      <td>80</td>\n",
       "      <td>0.750923</td>\n",
       "      <td>0.813370</td>\n",
       "      <td>0.813370</td>\n",
       "      <td>0.856473</td>\n",
       "      <td>0.780289</td>\n",
       "      <td>0.339369</td>\n",
       "      <td>372.7491</td>\n",
       "      <td>0.963</td>\n",
       "      <td>0.107</td>\n",
       "      <td>NaN</td>\n",
       "      <td>NaN</td>\n",
       "      <td>NaN</td>\n",
       "      <td>NaN</td>\n",
       "      <td>NaN</td>\n",
       "    </tr>\n",
       "    <tr>\n",
       "      <th>8</th>\n",
       "      <td>0.5888</td>\n",
       "      <td>6.538661</td>\n",
       "      <td>0.000434</td>\n",
       "      <td>0.030189</td>\n",
       "      <td>100</td>\n",
       "      <td>NaN</td>\n",
       "      <td>NaN</td>\n",
       "      <td>NaN</td>\n",
       "      <td>NaN</td>\n",
       "      <td>NaN</td>\n",
       "      <td>NaN</td>\n",
       "      <td>NaN</td>\n",
       "      <td>NaN</td>\n",
       "      <td>NaN</td>\n",
       "      <td>NaN</td>\n",
       "      <td>NaN</td>\n",
       "      <td>NaN</td>\n",
       "      <td>NaN</td>\n",
       "      <td>NaN</td>\n",
       "    </tr>\n",
       "    <tr>\n",
       "      <th>9</th>\n",
       "      <td>NaN</td>\n",
       "      <td>NaN</td>\n",
       "      <td>NaN</td>\n",
       "      <td>0.030189</td>\n",
       "      <td>100</td>\n",
       "      <td>0.677757</td>\n",
       "      <td>0.782730</td>\n",
       "      <td>0.782730</td>\n",
       "      <td>0.857484</td>\n",
       "      <td>0.773238</td>\n",
       "      <td>0.368152</td>\n",
       "      <td>358.8190</td>\n",
       "      <td>1.001</td>\n",
       "      <td>0.111</td>\n",
       "      <td>NaN</td>\n",
       "      <td>NaN</td>\n",
       "      <td>NaN</td>\n",
       "      <td>NaN</td>\n",
       "      <td>NaN</td>\n",
       "    </tr>\n",
       "    <tr>\n",
       "      <th>10</th>\n",
       "      <td>0.4648</td>\n",
       "      <td>4.310565</td>\n",
       "      <td>0.000278</td>\n",
       "      <td>0.036226</td>\n",
       "      <td>120</td>\n",
       "      <td>NaN</td>\n",
       "      <td>NaN</td>\n",
       "      <td>NaN</td>\n",
       "      <td>NaN</td>\n",
       "      <td>NaN</td>\n",
       "      <td>NaN</td>\n",
       "      <td>NaN</td>\n",
       "      <td>NaN</td>\n",
       "      <td>NaN</td>\n",
       "      <td>NaN</td>\n",
       "      <td>NaN</td>\n",
       "      <td>NaN</td>\n",
       "      <td>NaN</td>\n",
       "      <td>NaN</td>\n",
       "    </tr>\n",
       "    <tr>\n",
       "      <th>11</th>\n",
       "      <td>NaN</td>\n",
       "      <td>NaN</td>\n",
       "      <td>NaN</td>\n",
       "      <td>0.036226</td>\n",
       "      <td>120</td>\n",
       "      <td>0.444387</td>\n",
       "      <td>0.874652</td>\n",
       "      <td>0.874652</td>\n",
       "      <td>0.886342</td>\n",
       "      <td>0.862284</td>\n",
       "      <td>0.354225</td>\n",
       "      <td>360.0851</td>\n",
       "      <td>0.997</td>\n",
       "      <td>0.111</td>\n",
       "      <td>NaN</td>\n",
       "      <td>NaN</td>\n",
       "      <td>NaN</td>\n",
       "      <td>NaN</td>\n",
       "      <td>NaN</td>\n",
       "    </tr>\n",
       "    <tr>\n",
       "      <th>12</th>\n",
       "      <td>0.3629</td>\n",
       "      <td>4.270544</td>\n",
       "      <td>0.000143</td>\n",
       "      <td>0.042264</td>\n",
       "      <td>140</td>\n",
       "      <td>NaN</td>\n",
       "      <td>NaN</td>\n",
       "      <td>NaN</td>\n",
       "      <td>NaN</td>\n",
       "      <td>NaN</td>\n",
       "      <td>NaN</td>\n",
       "      <td>NaN</td>\n",
       "      <td>NaN</td>\n",
       "      <td>NaN</td>\n",
       "      <td>NaN</td>\n",
       "      <td>NaN</td>\n",
       "      <td>NaN</td>\n",
       "      <td>NaN</td>\n",
       "      <td>NaN</td>\n",
       "    </tr>\n",
       "    <tr>\n",
       "      <th>13</th>\n",
       "      <td>NaN</td>\n",
       "      <td>NaN</td>\n",
       "      <td>NaN</td>\n",
       "      <td>0.042264</td>\n",
       "      <td>140</td>\n",
       "      <td>0.352421</td>\n",
       "      <td>0.885794</td>\n",
       "      <td>0.885794</td>\n",
       "      <td>0.899583</td>\n",
       "      <td>0.881290</td>\n",
       "      <td>0.350975</td>\n",
       "      <td>374.1212</td>\n",
       "      <td>0.960</td>\n",
       "      <td>0.107</td>\n",
       "      <td>NaN</td>\n",
       "      <td>NaN</td>\n",
       "      <td>NaN</td>\n",
       "      <td>NaN</td>\n",
       "      <td>NaN</td>\n",
       "    </tr>\n",
       "    <tr>\n",
       "      <th>14</th>\n",
       "      <td>0.4211</td>\n",
       "      <td>3.055156</td>\n",
       "      <td>0.000048</td>\n",
       "      <td>0.048302</td>\n",
       "      <td>160</td>\n",
       "      <td>NaN</td>\n",
       "      <td>NaN</td>\n",
       "      <td>NaN</td>\n",
       "      <td>NaN</td>\n",
       "      <td>NaN</td>\n",
       "      <td>NaN</td>\n",
       "      <td>NaN</td>\n",
       "      <td>NaN</td>\n",
       "      <td>NaN</td>\n",
       "      <td>NaN</td>\n",
       "      <td>NaN</td>\n",
       "      <td>NaN</td>\n",
       "      <td>NaN</td>\n",
       "      <td>NaN</td>\n",
       "    </tr>\n",
       "    <tr>\n",
       "      <th>15</th>\n",
       "      <td>NaN</td>\n",
       "      <td>NaN</td>\n",
       "      <td>NaN</td>\n",
       "      <td>0.048302</td>\n",
       "      <td>160</td>\n",
       "      <td>0.274972</td>\n",
       "      <td>0.908078</td>\n",
       "      <td>0.908078</td>\n",
       "      <td>0.915011</td>\n",
       "      <td>0.904879</td>\n",
       "      <td>0.352832</td>\n",
       "      <td>374.2456</td>\n",
       "      <td>0.959</td>\n",
       "      <td>0.107</td>\n",
       "      <td>NaN</td>\n",
       "      <td>NaN</td>\n",
       "      <td>NaN</td>\n",
       "      <td>NaN</td>\n",
       "      <td>NaN</td>\n",
       "    </tr>\n",
       "    <tr>\n",
       "      <th>16</th>\n",
       "      <td>0.2962</td>\n",
       "      <td>4.065827</td>\n",
       "      <td>0.000003</td>\n",
       "      <td>0.054340</td>\n",
       "      <td>180</td>\n",
       "      <td>NaN</td>\n",
       "      <td>NaN</td>\n",
       "      <td>NaN</td>\n",
       "      <td>NaN</td>\n",
       "      <td>NaN</td>\n",
       "      <td>NaN</td>\n",
       "      <td>NaN</td>\n",
       "      <td>NaN</td>\n",
       "      <td>NaN</td>\n",
       "      <td>NaN</td>\n",
       "      <td>NaN</td>\n",
       "      <td>NaN</td>\n",
       "      <td>NaN</td>\n",
       "      <td>NaN</td>\n",
       "    </tr>\n",
       "    <tr>\n",
       "      <th>17</th>\n",
       "      <td>NaN</td>\n",
       "      <td>NaN</td>\n",
       "      <td>NaN</td>\n",
       "      <td>0.054340</td>\n",
       "      <td>180</td>\n",
       "      <td>0.262164</td>\n",
       "      <td>0.910864</td>\n",
       "      <td>0.910864</td>\n",
       "      <td>0.920935</td>\n",
       "      <td>0.906487</td>\n",
       "      <td>0.355153</td>\n",
       "      <td>374.0077</td>\n",
       "      <td>0.960</td>\n",
       "      <td>0.107</td>\n",
       "      <td>NaN</td>\n",
       "      <td>NaN</td>\n",
       "      <td>NaN</td>\n",
       "      <td>NaN</td>\n",
       "      <td>NaN</td>\n",
       "    </tr>\n",
       "    <tr>\n",
       "      <th>18</th>\n",
       "      <td>NaN</td>\n",
       "      <td>NaN</td>\n",
       "      <td>NaN</td>\n",
       "      <td>0.055849</td>\n",
       "      <td>185</td>\n",
       "      <td>NaN</td>\n",
       "      <td>NaN</td>\n",
       "      <td>NaN</td>\n",
       "      <td>NaN</td>\n",
       "      <td>NaN</td>\n",
       "      <td>NaN</td>\n",
       "      <td>NaN</td>\n",
       "      <td>NaN</td>\n",
       "      <td>NaN</td>\n",
       "      <td>18529.3622</td>\n",
       "      <td>0.359</td>\n",
       "      <td>0.01</td>\n",
       "      <td>3.751125e+16</td>\n",
       "      <td>1.196936</td>\n",
       "    </tr>\n",
       "  </tbody>\n",
       "</table>\n",
       "</div>"
      ],
      "text/plain": [
       "      loss  grad_norm  learning_rate     epoch  step  eval_loss  \\\n",
       "0   4.6142  10.710816       0.000893  0.006038    20        NaN   \n",
       "1      NaN        NaN            NaN  0.006038    20   3.642447   \n",
       "2   2.1681   7.188257       0.000837  0.012075    40        NaN   \n",
       "3      NaN        NaN            NaN  0.012075    40   1.430962   \n",
       "4   1.1520   5.140187       0.000732  0.018113    60        NaN   \n",
       "5      NaN        NaN            NaN  0.018113    60   0.862588   \n",
       "6   0.9439   6.279175       0.000592  0.024151    80        NaN   \n",
       "7      NaN        NaN            NaN  0.024151    80   0.750923   \n",
       "8   0.5888   6.538661       0.000434  0.030189   100        NaN   \n",
       "9      NaN        NaN            NaN  0.030189   100   0.677757   \n",
       "10  0.4648   4.310565       0.000278  0.036226   120        NaN   \n",
       "11     NaN        NaN            NaN  0.036226   120   0.444387   \n",
       "12  0.3629   4.270544       0.000143  0.042264   140        NaN   \n",
       "13     NaN        NaN            NaN  0.042264   140   0.352421   \n",
       "14  0.4211   3.055156       0.000048  0.048302   160        NaN   \n",
       "15     NaN        NaN            NaN  0.048302   160   0.274972   \n",
       "16  0.2962   4.065827       0.000003  0.054340   180        NaN   \n",
       "17     NaN        NaN            NaN  0.054340   180   0.262164   \n",
       "18     NaN        NaN            NaN  0.055849   185        NaN   \n",
       "\n",
       "    eval_accuracy  eval_recall  eval_precision  eval_f1-score  eval_map_3  \\\n",
       "0             NaN          NaN             NaN            NaN         NaN   \n",
       "1        0.181058     0.181058        0.768479       0.102953    0.199629   \n",
       "2             NaN          NaN             NaN            NaN         NaN   \n",
       "3        0.515320     0.515320        0.713093       0.468529    0.405757   \n",
       "4             NaN          NaN             NaN            NaN         NaN   \n",
       "5        0.777159     0.777159        0.783265       0.739645    0.369081   \n",
       "6             NaN          NaN             NaN            NaN         NaN   \n",
       "7        0.813370     0.813370        0.856473       0.780289    0.339369   \n",
       "8             NaN          NaN             NaN            NaN         NaN   \n",
       "9        0.782730     0.782730        0.857484       0.773238    0.368152   \n",
       "10            NaN          NaN             NaN            NaN         NaN   \n",
       "11       0.874652     0.874652        0.886342       0.862284    0.354225   \n",
       "12            NaN          NaN             NaN            NaN         NaN   \n",
       "13       0.885794     0.885794        0.899583       0.881290    0.350975   \n",
       "14            NaN          NaN             NaN            NaN         NaN   \n",
       "15       0.908078     0.908078        0.915011       0.904879    0.352832   \n",
       "16            NaN          NaN             NaN            NaN         NaN   \n",
       "17       0.910864     0.910864        0.920935       0.906487    0.355153   \n",
       "18            NaN          NaN             NaN            NaN         NaN   \n",
       "\n",
       "    eval_runtime  eval_samples_per_second  eval_steps_per_second  \\\n",
       "0            NaN                      NaN                    NaN   \n",
       "1       365.8287                    0.981                  0.109   \n",
       "2            NaN                      NaN                    NaN   \n",
       "3       372.7374                    0.963                  0.107   \n",
       "4            NaN                      NaN                    NaN   \n",
       "5       372.7743                    0.963                  0.107   \n",
       "6            NaN                      NaN                    NaN   \n",
       "7       372.7491                    0.963                  0.107   \n",
       "8            NaN                      NaN                    NaN   \n",
       "9       358.8190                    1.001                  0.111   \n",
       "10           NaN                      NaN                    NaN   \n",
       "11      360.0851                    0.997                  0.111   \n",
       "12           NaN                      NaN                    NaN   \n",
       "13      374.1212                    0.960                  0.107   \n",
       "14           NaN                      NaN                    NaN   \n",
       "15      374.2456                    0.959                  0.107   \n",
       "16           NaN                      NaN                    NaN   \n",
       "17      374.0077                    0.960                  0.107   \n",
       "18           NaN                      NaN                    NaN   \n",
       "\n",
       "    train_runtime  train_samples_per_second  train_steps_per_second  \\\n",
       "0             NaN                       NaN                     NaN   \n",
       "1             NaN                       NaN                     NaN   \n",
       "2             NaN                       NaN                     NaN   \n",
       "3             NaN                       NaN                     NaN   \n",
       "4             NaN                       NaN                     NaN   \n",
       "5             NaN                       NaN                     NaN   \n",
       "6             NaN                       NaN                     NaN   \n",
       "7             NaN                       NaN                     NaN   \n",
       "8             NaN                       NaN                     NaN   \n",
       "9             NaN                       NaN                     NaN   \n",
       "10            NaN                       NaN                     NaN   \n",
       "11            NaN                       NaN                     NaN   \n",
       "12            NaN                       NaN                     NaN   \n",
       "13            NaN                       NaN                     NaN   \n",
       "14            NaN                       NaN                     NaN   \n",
       "15            NaN                       NaN                     NaN   \n",
       "16            NaN                       NaN                     NaN   \n",
       "17            NaN                       NaN                     NaN   \n",
       "18     18529.3622                     0.359                    0.01   \n",
       "\n",
       "      total_flos  train_loss  \n",
       "0            NaN         NaN  \n",
       "1            NaN         NaN  \n",
       "2            NaN         NaN  \n",
       "3            NaN         NaN  \n",
       "4            NaN         NaN  \n",
       "5            NaN         NaN  \n",
       "6            NaN         NaN  \n",
       "7            NaN         NaN  \n",
       "8            NaN         NaN  \n",
       "9            NaN         NaN  \n",
       "10           NaN         NaN  \n",
       "11           NaN         NaN  \n",
       "12           NaN         NaN  \n",
       "13           NaN         NaN  \n",
       "14           NaN         NaN  \n",
       "15           NaN         NaN  \n",
       "16           NaN         NaN  \n",
       "17           NaN         NaN  \n",
       "18  3.751125e+16    1.196936  "
      ]
     },
     "execution_count": 131,
     "metadata": {},
     "output_type": "execute_result"
    }
   ],
   "source": [
    "trainHistoryDF = pd.DataFrame(trainer.state.log_history)\n",
    "trainHistoryDF"
   ]
  },
  {
   "cell_type": "code",
   "execution_count": 132,
   "id": "13e69d84",
   "metadata": {
    "execution": {
     "iopub.execute_input": "2025-10-02T19:57:32.835547Z",
     "iopub.status.busy": "2025-10-02T19:57:32.835337Z",
     "iopub.status.idle": "2025-10-02T19:57:32.839970Z",
     "shell.execute_reply": "2025-10-02T19:57:32.839213Z"
    },
    "papermill": {
     "duration": 0.042468,
     "end_time": "2025-10-02T19:57:32.841141",
     "exception": false,
     "start_time": "2025-10-02T19:57:32.798673",
     "status": "completed"
    },
    "tags": []
   },
   "outputs": [
    {
     "data": {
      "text/plain": [
       "Index(['loss', 'grad_norm', 'learning_rate', 'epoch', 'step', 'eval_loss',\n",
       "       'eval_accuracy', 'eval_recall', 'eval_precision', 'eval_f1-score',\n",
       "       'eval_map_3', 'eval_runtime', 'eval_samples_per_second',\n",
       "       'eval_steps_per_second', 'train_runtime', 'train_samples_per_second',\n",
       "       'train_steps_per_second', 'total_flos', 'train_loss'],\n",
       "      dtype='object')"
      ]
     },
     "execution_count": 132,
     "metadata": {},
     "output_type": "execute_result"
    }
   ],
   "source": [
    "trainHistoryDF.columns"
   ]
  },
  {
   "cell_type": "code",
   "execution_count": 133,
   "id": "f3394be2",
   "metadata": {
    "execution": {
     "iopub.execute_input": "2025-10-02T19:57:32.912512Z",
     "iopub.status.busy": "2025-10-02T19:57:32.912317Z",
     "iopub.status.idle": "2025-10-02T19:57:33.068788Z",
     "shell.execute_reply": "2025-10-02T19:57:33.068183Z"
    },
    "papermill": {
     "duration": 0.193767,
     "end_time": "2025-10-02T19:57:33.069889",
     "exception": false,
     "start_time": "2025-10-02T19:57:32.876122",
     "status": "completed"
    },
    "tags": []
   },
   "outputs": [
    {
     "data": {
      "image/png": "[encoded data removed]",
      "text/plain": [
       "<Figure size 640x480 with 1 Axes>"
      ]
     },
     "metadata": {},
     "output_type": "display_data"
    }
   ],
   "source": [
    "import matplotlib.pyplot as plt\n",
    "trainloss = trainHistoryDF[~trainHistoryDF[\"loss\"].isnull()]\n",
    "valloss = trainHistoryDF[~trainHistoryDF[\"eval_loss\"].isnull()]\n",
    "plt.plot(trainloss[\"loss\"], label=\"Train\")\n",
    "plt.plot(valloss[\"eval_loss\"], label=\"Val\")\n",
    "plt.title(\"LLM loss\")\n",
    "plt.legend()\n",
    "plt.show()"
   ]
  },
  {
   "cell_type": "code",
   "execution_count": 134,
   "id": "77b4e5b0",
   "metadata": {
    "execution": {
     "iopub.execute_input": "2025-10-02T19:57:33.142600Z",
     "iopub.status.busy": "2025-10-02T19:57:33.142011Z",
     "iopub.status.idle": "2025-10-02T19:57:33.299972Z",
     "shell.execute_reply": "2025-10-02T19:57:33.299204Z"
    },
    "papermill": {
     "duration": 0.195402,
     "end_time": "2025-10-02T19:57:33.301150",
     "exception": false,
     "start_time": "2025-10-02T19:57:33.105748",
     "status": "completed"
    },
    "tags": []
   },
   "outputs": [
    {
     "data": {
      "image/png": "[encoded data removed]",
      "text/plain": [
       "<Figure size 640x480 with 1 Axes>"
      ]
     },
     "metadata": {},
     "output_type": "display_data"
    }
   ],
   "source": [
    "trainloss = trainHistoryDF[~trainHistoryDF[\"eval_accuracy\"].isnull()]\n",
    "plt.plot(trainloss[\"eval_accuracy\"], label=\"Val Accuracy\")\n",
    "plt.title(\"Val Accuracy\")\n",
    "plt.legend()\n",
    "plt.show()"
   ]
  },
  {
   "cell_type": "code",
   "execution_count": 135,
   "id": "6829226e",
   "metadata": {
    "execution": {
     "iopub.execute_input": "2025-10-02T19:57:33.387892Z",
     "iopub.status.busy": "2025-10-02T19:57:33.387133Z",
     "iopub.status.idle": "2025-10-02T19:57:33.572842Z",
     "shell.execute_reply": "2025-10-02T19:57:33.572080Z"
    },
    "papermill": {
     "duration": 0.228249,
     "end_time": "2025-10-02T19:57:33.574246",
     "exception": false,
     "start_time": "2025-10-02T19:57:33.345997",
     "status": "completed"
    },
    "tags": []
   },
   "outputs": [
    {
     "data": {
      "image/png": "[encoded data removed]",
      "text/plain": [
       "<Figure size 640x480 with 1 Axes>"
      ]
     },
     "metadata": {},
     "output_type": "display_data"
    }
   ],
   "source": [
    "trainloss = trainHistoryDF[~trainHistoryDF[\"eval_recall\"].isnull()]\n",
    "plt.plot(trainloss[\"eval_recall\"], label=\"Val Recall\")\n",
    "plt.title(\"Val Recall\")\n",
    "plt.legend()\n",
    "plt.show()"
   ]
  },
  {
   "cell_type": "code",
   "execution_count": 136,
   "id": "d70c0af9",
   "metadata": {
    "execution": {
     "iopub.execute_input": "2025-10-02T19:57:33.664959Z",
     "iopub.status.busy": "2025-10-02T19:57:33.664203Z",
     "iopub.status.idle": "2025-10-02T19:57:33.834425Z",
     "shell.execute_reply": "2025-10-02T19:57:33.833733Z"
    },
    "papermill": {
     "duration": 0.214428,
     "end_time": "2025-10-02T19:57:33.835759",
     "exception": false,
     "start_time": "2025-10-02T19:57:33.621331",
     "status": "completed"
    },
    "tags": []
   },
   "outputs": [
    {
     "data": {
      "image/png": "[encoded data removed]",
      "text/plain": [
       "<Figure size 640x480 with 1 Axes>"
      ]
     },
     "metadata": {},
     "output_type": "display_data"
    }
   ],
   "source": [
    "trainloss = trainHistoryDF[~trainHistoryDF[\"eval_precision\"].isnull()]\n",
    "plt.plot(trainloss[\"eval_precision\"], label=\"Val Precision\")\n",
    "plt.title(\"Val Precision\")\n",
    "plt.legend()\n",
    "plt.show()"
   ]
  },
  {
   "cell_type": "code",
   "execution_count": 137,
   "id": "9299c87e",
   "metadata": {
    "execution": {
     "iopub.execute_input": "2025-10-02T19:57:33.923784Z",
     "iopub.status.busy": "2025-10-02T19:57:33.923153Z",
     "iopub.status.idle": "2025-10-02T19:57:34.114289Z",
     "shell.execute_reply": "2025-10-02T19:57:34.113453Z"
    },
    "papermill": {
     "duration": 0.233206,
     "end_time": "2025-10-02T19:57:34.115589",
     "exception": false,
     "start_time": "2025-10-02T19:57:33.882383",
     "status": "completed"
    },
    "tags": []
   },
   "outputs": [
    {
     "data": {
      "image/png": "[encoded data removed]",
      "text/plain": [
       "<Figure size 640x480 with 1 Axes>"
      ]
     },
     "metadata": {},
     "output_type": "display_data"
    }
   ],
   "source": [
    "trainloss = trainHistoryDF[~trainHistoryDF[\"eval_f1-score\"].isnull()]\n",
    "plt.plot(trainloss[\"eval_f1-score\"], label=\"Val F1-Score\")\n",
    "plt.title(\"Val F1-Score\")\n",
    "plt.legend()\n",
    "plt.show()"
   ]
  },
  {
   "cell_type": "code",
   "execution_count": 138,
   "id": "538bbe03",
   "metadata": {
    "execution": {
     "iopub.execute_input": "2025-10-02T19:57:34.207654Z",
     "iopub.status.busy": "2025-10-02T19:57:34.207071Z",
     "iopub.status.idle": "2025-10-02T19:57:34.358814Z",
     "shell.execute_reply": "2025-10-02T19:57:34.357837Z"
    },
    "papermill": {
     "duration": 0.198169,
     "end_time": "2025-10-02T19:57:34.359967",
     "exception": false,
     "start_time": "2025-10-02T19:57:34.161798",
     "status": "completed"
    },
    "tags": []
   },
   "outputs": [
    {
     "data": {
      "image/png": "[encoded data removed]",
      "text/plain": [
       "<Figure size 640x480 with 1 Axes>"
      ]
     },
     "metadata": {},
     "output_type": "display_data"
    }
   ],
   "source": [
    "trainloss = trainHistoryDF[~trainHistoryDF[\"eval_map_3\"].isnull()]\n",
    "plt.plot(trainloss[\"eval_map_3\"], label=\"MAP@3 Score\")\n",
    "plt.title(\"Val MAP@3\")\n",
    "plt.legend()\n",
    "plt.show()"
   ]
  },
  {
   "cell_type": "code",
   "execution_count": 139,
   "id": "2add085f",
   "metadata": {
    "execution": {
     "iopub.execute_input": "2025-10-02T19:57:34.441140Z",
     "iopub.status.busy": "2025-10-02T19:57:34.440914Z",
     "iopub.status.idle": "2025-10-02T19:57:34.448710Z",
     "shell.execute_reply": "2025-10-02T19:57:34.448118Z"
    },
    "papermill": {
     "duration": 0.047473,
     "end_time": "2025-10-02T19:57:34.449833",
     "exception": false,
     "start_time": "2025-10-02T19:57:34.402360",
     "status": "completed"
    },
    "tags": []
   },
   "outputs": [],
   "source": [
    "def testValDataset(ds, maxNumData=10):\n",
    "    for i, data in enumerate(ds):\n",
    "        if (i >= maxNumData):\n",
    "            break\n",
    "        print(f\"Data {i}\")\n",
    "        newPrompt = data[\"LLM_Content\"]\n",
    "        with torch.no_grad():\n",
    "             inputIds = tokenizer(newPrompt, return_tensors=\"pt\").to(device)\n",
    "             logits = model(**inputIds).logits\n",
    "             print(f\"Logits Dimension: {logits.shape}\")\n",
    "             probabilities = nn.functional.softmax(logits, dim=-1) # get probilitity\n",
    "             print(f\"Probailities : {probabilities}\")\n",
    "             classID =logits.argmax().item()\n",
    "             print(f\"Class ID type {type(classID)}\")\n",
    "             classTxt = le.inverse_transform([classID])[0]\n",
    "             actualClassID = data['labels']\n",
    "             # print(f\"Actual ClassID : {actualClassID}\")\n",
    "             actualClass = le.inverse_transform([actualClassID])[0]\n",
    "             # Top3 prediction\n",
    "             # acc = (probabilities == actualClassID).mean()\n",
    "             # f1score  =  f1_score(actualClassID, probabilities, average='weighted', zero_division=1)\n",
    "             # recallScore = recall_score(actualClassID, probabilities,  average='weighted', zero_division=1)\n",
    "             # precision = precision_score(actualClassID, probabilities,  average='weighted', zero_division=1)\n",
    "            \n",
    "             # # for map@3\n",
    "             top3_preds = np.argsort(logits.to(torch.float32).cpu(), axis=-1)[:, -3:]\n",
    "             top3 = top3_preds.flatten() # convert to 1D \n",
    "             print(f\"Top3 ID : {top3}\")\n",
    "             # classTxtArray = le.inverse_transform(top3) # convert class ID to Label \n",
    "             match = (top3_preds == actualClassID)\n",
    "                    \n",
    "             # Compute MAP@3 manually\n",
    "             map3 = 0\n",
    "             for i in range(len([actualClassID])):\n",
    "                if match[i, 0]:\n",
    "                    map3 += 1.0\n",
    "                elif match[i, 1]:\n",
    "                    map3 += 1.0 / 2\n",
    "                elif match[i, 2]:\n",
    "                    map3 += 1.0 / 3\n",
    "             map3Score = map3 / len([actualClassID])\n",
    "        \n",
    "\n",
    "        print(f\"\"\"Query: {newPrompt}\n",
    "              Predict Class ID: {classID}\n",
    "              Predict Text: {classTxt}\n",
    "              Actual Class ID: {actualClassID}\n",
    "              Actual Class Text: {actualClass}\n",
    "             MAP@3 Score : {map3Score}\"\"\")\n",
    "        print(\"-\"*30)\n",
    "        \n"
   ]
  },
  {
   "cell_type": "code",
   "execution_count": 140,
   "id": "c9f27ea0",
   "metadata": {
    "execution": {
     "iopub.execute_input": "2025-10-02T19:57:34.525579Z",
     "iopub.status.busy": "2025-10-02T19:57:34.525374Z",
     "iopub.status.idle": "2025-10-02T19:57:50.543195Z",
     "shell.execute_reply": "2025-10-02T19:57:50.542300Z"
    },
    "papermill": {
     "duration": 16.057079,
     "end_time": "2025-10-02T19:57:50.544479",
     "exception": false,
     "start_time": "2025-10-02T19:57:34.487400",
     "status": "completed"
    },
    "scrolled": true,
    "tags": []
   },
   "outputs": [
    {
     "name": "stdout",
     "output_type": "stream",
     "text": [
      "Data 0\n",
      "Logits Dimension: torch.Size([1, 65])\n",
      "Probailities : tensor([[5.6656e-06, 2.2314e-07, 8.1940e-07, 4.1926e-08, 7.7439e-06, 3.1468e-07,\n",
      "         1.4355e-05, 2.2094e-08, 2.9269e-08, 5.2477e-09, 5.5660e-07, 2.0755e-08,\n",
      "         6.4567e-07, 3.9386e-08, 2.4265e-08, 2.6916e-07, 6.8731e-07, 4.6506e-07,\n",
      "         7.9109e-07, 9.0020e-05, 1.2323e-07, 1.3964e-07, 1.0058e-07, 1.1759e-07,\n",
      "         2.7770e-07, 4.7609e-07, 3.9386e-08, 2.7937e-06, 7.1319e-08, 8.9266e-09,\n",
      "         4.1041e-07, 2.6610e-05, 2.2314e-07, 2.0637e-07, 5.7307e-08, 1.5823e-07,\n",
      "         3.6580e-06, 6.0564e-04, 1.0340e-05, 7.6239e-06, 3.4024e-07, 2.3385e-07,\n",
      "         2.3022e-07, 1.0645e-06, 1.2914e-07, 9.8660e-06, 1.1093e-05, 5.3528e-07,\n",
      "         2.1968e-07, 3.6219e-07, 5.2100e-05, 3.2418e-04, 1.3276e-05, 8.7566e-07,\n",
      "         8.1792e-06, 1.3993e-06, 4.4310e-04, 6.9814e-07, 3.7526e-05, 6.7666e-07,\n",
      "         2.5391e-05, 9.9703e-01, 7.3318e-06, 7.7439e-06, 1.2427e-03]],\n",
      "       device='cuda:0')\n",
      "Class ID type <class 'int'>\n",
      "Top3 ID : tensor([37, 64, 61])\n",
      "Query: You are an expert educational diagnostician specializing in identifying students' math misconceptions from their written explanations.\n",
      "Your task is to analyze the student's explanation and classify the specific type of misconception they demonstrate.\n",
      "\n",
      "Question: Which number is the greatest?\n",
      "Answer: \\( 6.2 \\)\n",
      "Correct: True\n",
      "Student Explanation: 6 is bigger than decimal numbers\n",
      "\n",
      "Based on the information above, identify and label the underlying math misconception in the student's explanation.\n",
      "Provide a clear and concise classification of the misconception type.\n",
      "\n",
      "              Predict Class ID: 61\n",
      "              Predict Text: True_Misconception:Whole_numbers_larger\n",
      "              Actual Class ID: 61\n",
      "              Actual Class Text: True_Misconception:Whole_numbers_larger\n",
      "             MAP@3 Score : 0.3333333333333333\n",
      "------------------------------\n",
      "Data 1\n",
      "Logits Dimension: torch.Size([1, 65])\n",
      "Probailities : tensor([[1.5193e-06, 1.0260e-06, 5.6323e-08, 1.1763e-06, 2.0645e-06, 1.9659e-07,\n",
      "         9.8493e-06, 4.6693e-08, 8.8608e-08, 1.3802e-08, 1.7317e-06, 1.5159e-08,\n",
      "         2.5348e-05, 5.3743e-08, 1.0098e-08, 7.9595e-07, 3.6158e-07, 8.1949e-08,\n",
      "         2.2983e-07, 2.3080e-05, 8.0848e-07, 7.4615e-08, 1.0688e-07, 3.7519e-08,\n",
      "         8.1018e-06, 2.0365e-06, 3.3110e-08, 3.3445e-06, 2.4086e-07, 2.1378e-08,\n",
      "         9.5635e-07, 4.5447e-06, 8.7234e-08, 2.9053e-07, 4.2515e-08, 7.2320e-08,\n",
      "         8.5573e-06, 2.6263e-03, 1.8440e-04, 4.8103e-05, 3.8791e-07, 1.1401e-06,\n",
      "         2.9511e-07, 6.7551e-07, 7.8196e-08, 4.1145e-05, 1.2819e-06, 1.9968e-07,\n",
      "         1.7284e-06, 2.6043e-07, 5.8023e-05, 9.9534e-01, 2.2023e-05, 1.8181e-07,\n",
      "         1.5342e-06, 2.3345e-07, 1.0285e-03, 1.0522e-07, 3.5747e-05, 1.5312e-06,\n",
      "         2.4188e-05, 1.8837e-05, 5.2514e-06, 2.4664e-06, 4.5639e-04]],\n",
      "       device='cuda:0')\n",
      "Class ID type <class 'int'>\n",
      "Top3 ID : tensor([56, 37, 51])\n",
      "Query: You are an expert educational diagnostician specializing in identifying students' math misconceptions from their written explanations.\n",
      "Your task is to analyze the student's explanation and classify the specific type of misconception they demonstrate.\n",
      "\n",
      "Question: Which number is the greatest?\n",
      "Answer: \\( 6.2 \\)\n",
      "Correct: True\n",
      "Student Explanation: d because it has a 6 the same as a but it also has a decimal number which makes it bigger\n",
      "\n",
      "Based on the information above, identify and label the underlying math misconception in the student's explanation.\n",
      "Provide a clear and concise classification of the misconception type.\n",
      "\n",
      "              Predict Class ID: 51\n",
      "              Predict Text: True_Misconception:Longer_is_bigger\n",
      "              Actual Class ID: 51\n",
      "              Actual Class Text: True_Misconception:Longer_is_bigger\n",
      "             MAP@3 Score : 0.3333333333333333\n",
      "------------------------------\n",
      "Data 2\n",
      "Logits Dimension: torch.Size([1, 65])\n",
      "Probailities : tensor([[4.0647e-06, 2.5985e-07, 3.1343e-07, 2.0555e-07, 5.7714e-06, 1.2645e-04,\n",
      "         2.9908e-07, 2.3426e-08, 1.5276e-07, 2.1542e-07, 8.6542e-07, 2.5728e-08,\n",
      "         1.1900e-05, 6.9538e-07, 4.0879e-07, 2.7936e-06, 4.0806e-06, 1.6042e-06,\n",
      "         5.1167e-08, 4.9607e-06, 1.7859e-07, 1.2109e-06, 6.3315e-07, 1.1645e-06,\n",
      "         7.7902e-05, 3.6076e-07, 6.0366e-06, 1.7139e-08, 4.9592e-08, 5.0684e-06,\n",
      "         1.8823e-08, 4.5604e-07, 5.5009e-07, 3.3036e-08, 1.7041e-07, 4.9310e-07,\n",
      "         7.3182e-05, 9.3293e-01, 4.7793e-07, 2.7346e-05, 6.9235e-06, 4.9518e-05,\n",
      "         5.0011e-04, 2.0322e-05, 1.8398e-04, 1.9391e-05, 2.9800e-05, 2.0322e-05,\n",
      "         1.1157e-05, 6.9360e-06, 6.7683e-05, 1.0855e-06, 9.6951e-05, 2.6505e-05,\n",
      "         3.3315e-04, 7.0489e-06, 1.3176e-03, 6.4583e-05, 7.4335e-05, 2.6713e-05,\n",
      "         2.4373e-04, 1.6944e-06, 9.5448e-05, 2.2849e-05, 6.3486e-02]],\n",
      "       device='cuda:0')\n",
      "Class ID type <class 'int'>\n",
      "Top3 ID : tensor([56, 64, 37])\n",
      "Query: You are an expert educational diagnostician specializing in identifying students' math misconceptions from their written explanations.\n",
      "Your task is to analyze the student's explanation and classify the specific type of misconception they demonstrate.\n",
      "\n",
      "Question: The probability of an event occurring is \\( 0.9 \\).\n",
      "\n",
      "Which of the following most accurately describes the likelihood of the event occurring?\n",
      "Answer: Likely\n",
      "Correct: True\n",
      "Student Explanation: it is b because certain would be 100% or 1 and imposable would be 0% or 0.0. so, i can't be them. as it is closer to 1 then 0.0. it would be liklely.\n",
      "\n",
      "Based on the information above, identify and label the underlying math misconception in the student's explanation.\n",
      "Provide a clear and concise classification of the misconception type.\n",
      "\n",
      "              Predict Class ID: 37\n",
      "              Predict Text: True_Correct:NA\n",
      "              Actual Class ID: 37\n",
      "              Actual Class Text: True_Correct:NA\n",
      "             MAP@3 Score : 0.3333333333333333\n",
      "------------------------------\n",
      "Data 3\n",
      "Logits Dimension: torch.Size([1, 65])\n",
      "Probailities : tensor([[4.2363e-04, 1.5366e-07, 3.6235e-04, 5.2801e-07, 1.1924e-05, 2.5190e-06,\n",
      "         9.1424e-06, 6.0773e-07, 1.1533e-06, 9.2668e-07, 7.9430e-06, 1.1899e-06,\n",
      "         4.4556e-06, 3.2344e-06, 1.1354e-06, 3.8711e-06, 7.9430e-06, 4.9617e-05,\n",
      "         1.3560e-07, 2.9450e-06, 3.4628e-07, 5.1284e-06, 9.4128e-07, 1.2086e-06,\n",
      "         4.2516e-06, 2.9619e-07, 2.2386e-05, 1.9618e-06, 7.4149e-09, 1.3143e-07,\n",
      "         4.5971e-06, 9.4128e-07, 9.4128e-07, 2.1910e-05, 1.8144e-06, 8.4376e-07,\n",
      "         5.0096e-06, 9.6824e-01, 2.7092e-05, 2.1180e-03, 2.1153e-05, 1.9618e-06,\n",
      "         2.2324e-04, 3.4576e-04, 2.3032e-04, 5.3552e-04, 6.4596e-04, 7.6548e-05,\n",
      "         2.6607e-05, 2.2580e-06, 5.7574e-03, 1.0689e-05, 7.4349e-04, 2.7666e-06,\n",
      "         2.4904e-04, 1.0795e-04, 1.4301e-04, 3.4503e-05, 2.9239e-05, 1.8759e-05,\n",
      "         1.3890e-03, 3.3770e-05, 2.3763e-04, 4.8657e-05, 1.7734e-02]],\n",
      "       device='cuda:0')\n",
      "Class ID type <class 'int'>\n",
      "Top3 ID : tensor([50, 64, 37])\n",
      "Query: You are an expert educational diagnostician specializing in identifying students' math misconceptions from their written explanations.\n",
      "Your task is to analyze the student's explanation and classify the specific type of misconception they demonstrate.\n",
      "\n",
      "Question: \\( \\frac{A}{10}=\\frac{9}{15} \\) What is the value of \\( A \\) ?\n",
      "Answer: \\( 6 \\)\n",
      "Correct: True\n",
      "Student Explanation: I think C because 10 is 2/3 of 15 and 6 is 2/3 of 9\n",
      "\n",
      "Based on the information above, identify and label the underlying math misconception in the student's explanation.\n",
      "Provide a clear and concise classification of the misconception type.\n",
      "\n",
      "              Predict Class ID: 37\n",
      "              Predict Text: True_Correct:NA\n",
      "              Actual Class ID: 37\n",
      "              Actual Class Text: True_Correct:NA\n",
      "             MAP@3 Score : 0.3333333333333333\n",
      "------------------------------\n",
      "Data 4\n",
      "Logits Dimension: torch.Size([1, 65])\n",
      "Probailities : tensor([[6.8662e-04, 1.6595e-05, 9.0065e-05, 1.7698e-06, 2.1226e-05, 3.4185e-05,\n",
      "         5.5255e-07, 4.2968e-04, 3.6808e-07, 1.9672e-04, 5.3781e-05, 7.7327e-06,\n",
      "         3.3514e-07, 2.4667e-06, 9.9753e-01, 2.7518e-06, 2.5450e-06, 1.1338e-06,\n",
      "         2.1638e-07, 7.0949e-07, 1.2527e-05, 9.8133e-06, 6.4600e-07, 6.5893e-05,\n",
      "         1.2550e-06, 6.7975e-06, 1.7324e-05, 1.9437e-06, 7.3201e-07, 1.1055e-05,\n",
      "         1.4418e-05, 9.2188e-06, 2.0096e-05, 2.1181e-06, 8.4254e-07, 4.8968e-05,\n",
      "         2.4482e-04, 5.7249e-05, 1.2429e-05, 2.7626e-06, 1.7153e-06, 1.2069e-06,\n",
      "         2.3361e-04, 3.4515e-06, 7.5524e-07, 5.0310e-07, 2.6101e-07, 3.1173e-08,\n",
      "         1.0206e-04, 5.8819e-07, 6.9849e-07, 6.0087e-08, 7.1202e-06, 1.0084e-06,\n",
      "         4.3033e-07, 2.8221e-07, 5.3555e-07, 1.2355e-06, 3.3183e-08, 2.9576e-07,\n",
      "         2.9523e-06, 3.8574e-07, 2.1303e-07, 1.6114e-06, 1.9478e-05]],\n",
      "       device='cuda:0')\n",
      "Class ID type <class 'int'>\n",
      "Top3 ID : tensor([ 7,  0, 14])\n",
      "Query: You are an expert educational diagnostician specializing in identifying students' math misconceptions from their written explanations.\n",
      "Your task is to analyze the student's explanation and classify the specific type of misconception they demonstrate.\n",
      "\n",
      "Question: \\( \\frac{1}{3}+\\frac{2}{5}= \\)\n",
      "Answer: \\( \\frac{11}{30} \\)\n",
      "Correct: False\n",
      "Student Explanation: I think it is this one because 15 times 2 equals 15 so that is why it would be 11 30.\n",
      "\n",
      "Based on the information above, identify and label the underlying math misconception in the student's explanation.\n",
      "Provide a clear and concise classification of the misconception type.\n",
      "\n",
      "              Predict Class ID: 14\n",
      "              Predict Text: False_Misconception:Incorrect_equivalent_fraction_addition\n",
      "              Actual Class ID: 14\n",
      "              Actual Class Text: False_Misconception:Incorrect_equivalent_fraction_addition\n",
      "             MAP@3 Score : 0.3333333333333333\n",
      "------------------------------\n",
      "Data 5\n",
      "Logits Dimension: torch.Size([1, 65])\n",
      "Probailities : tensor([[4.1695e-05, 2.2663e-07, 1.4632e-07, 9.2144e-05, 1.3512e-04, 2.4556e-06,\n",
      "         6.7658e-07, 1.4182e-07, 9.8442e-07, 8.0806e-08, 5.2692e-07, 1.9384e-07,\n",
      "         5.2692e-07, 5.1071e-07, 3.2278e-06, 1.0644e-06, 1.1648e-04, 5.3217e-06,\n",
      "         8.8748e-08, 8.6043e-06, 6.9117e-08, 1.6046e-04, 2.7398e-05, 1.3883e-06,\n",
      "         5.1178e-06, 1.3746e-07, 5.6090e-07, 1.4182e-07, 1.4488e-08, 3.4092e-06,\n",
      "         8.6017e-08, 4.7233e-07, 6.0557e-04, 3.6996e-08, 3.0023e-07, 1.9886e-06,\n",
      "         6.9408e-06, 9.5126e-01, 2.8485e-06, 3.5600e-04, 3.0277e-03, 8.9309e-05,\n",
      "         1.3725e-04, 1.6299e-04, 5.5888e-05, 9.5614e-06, 4.6696e-05, 4.3356e-05,\n",
      "         1.5772e-05, 4.2098e-06, 3.3969e-04, 2.7825e-06, 1.3303e-04, 4.0110e-03,\n",
      "         2.7559e-05, 1.6661e-05, 1.2693e-04, 9.5988e-06, 8.8614e-05, 3.5600e-04,\n",
      "         1.3022e-03, 2.9222e-05, 1.4840e-04, 8.6562e-05, 3.6884e-02]],\n",
      "       device='cuda:0')\n",
      "Class ID type <class 'int'>\n",
      "Top3 ID : tensor([53, 64, 37])\n",
      "Query: You are an expert educational diagnostician specializing in identifying students' math misconceptions from their written explanations.\n",
      "Your task is to analyze the student's explanation and classify the specific type of misconception they demonstrate.\n",
      "\n",
      "Question: It takes \\( 3 \\) people a total of \\( 192 \\) hours to build a wall.\n",
      "\n",
      "How long would it take if \\( 12 \\) people built the same wall?\n",
      "Answer: \\( 48 \\) hours\n",
      "Correct: True\n",
      "Student Explanation: the answer is 48 hours because 192 divided by 4 is 48\n",
      "\n",
      "Based on the information above, identify and label the underlying math misconception in the student's explanation.\n",
      "Provide a clear and concise classification of the misconception type.\n",
      "\n",
      "              Predict Class ID: 37\n",
      "              Predict Text: True_Correct:NA\n",
      "              Actual Class ID: 37\n",
      "              Actual Class Text: True_Correct:NA\n",
      "             MAP@3 Score : 0.3333333333333333\n",
      "------------------------------\n",
      "Data 6\n",
      "Logits Dimension: torch.Size([1, 65])\n",
      "Probailities : tensor([[6.6327e-01, 6.5270e-04, 5.9895e-04, 1.0719e-03, 8.6490e-04, 7.2541e-03,\n",
      "         6.5772e-05, 1.8446e-04, 2.4247e-04, 3.5353e-03, 1.8485e-03, 1.0347e-04,\n",
      "         2.2696e-02, 3.4535e-03, 9.0045e-04, 1.5599e-02, 1.4008e-03, 5.8622e-04,\n",
      "         1.2028e-03, 7.6022e-03, 1.9677e-03, 1.0890e-02, 2.3501e-04, 6.4383e-04,\n",
      "         9.3267e-04, 3.7702e-04, 6.4258e-04, 3.6542e-04, 4.7473e-04, 2.5610e-04,\n",
      "         4.9468e-03, 4.4343e-03, 1.0172e-01, 1.8019e-04, 2.1566e-04, 1.4035e-03,\n",
      "         1.0828e-01, 2.0990e-02, 3.1134e-04, 6.9751e-04, 1.5173e-04, 2.9186e-05,\n",
      "         3.3664e-04, 4.5916e-05, 3.1134e-04, 2.9708e-04, 1.3787e-05, 2.4437e-04,\n",
      "         2.5811e-04, 3.4122e-05, 6.5015e-04, 4.2466e-05, 2.3501e-04, 2.1735e-04,\n",
      "         2.3088e-05, 4.4423e-04, 1.6026e-04, 6.1196e-04, 7.2236e-05, 3.5760e-05,\n",
      "         4.2389e-04, 2.2957e-04, 2.5411e-04, 1.6535e-04, 1.6186e-03]],\n",
      "       device='cuda:0')\n",
      "Class ID type <class 'int'>\n",
      "Top3 ID : tensor([32, 36,  0])\n",
      "Query: You are an expert educational diagnostician specializing in identifying students' math misconceptions from their written explanations.\n",
      "Your task is to analyze the student's explanation and classify the specific type of misconception they demonstrate.\n",
      "\n",
      "Question: A box contains \\( 120 \\) counters. The counters are red or blue. \\( \\frac{3}{5} \\) of the counters are red.\n",
      "How many red counters are there?\n",
      "Answer: \\( 48 \\)\n",
      "Correct: False\n",
      "Student Explanation: 3/5 is 6/10. 1/10 is 12. 12 timrs 6 is 72.\n",
      "\n",
      "Based on the information above, identify and label the underlying math misconception in the student's explanation.\n",
      "Provide a clear and concise classification of the misconception type.\n",
      "\n",
      "              Predict Class ID: 0\n",
      "              Predict Text: False_Correct:NA\n",
      "              Actual Class ID: 0\n",
      "              Actual Class Text: False_Correct:NA\n",
      "             MAP@3 Score : 0.3333333333333333\n",
      "------------------------------\n",
      "Data 7\n",
      "Logits Dimension: torch.Size([1, 65])\n",
      "Probailities : tensor([[1.0261e-03, 9.3950e-06, 4.0645e-06, 1.0888e-05, 2.0278e-06, 4.0183e-04,\n",
      "         1.4268e-06, 2.9048e-06, 9.4872e-06, 1.7365e-05, 4.7891e-06, 4.5343e-06,\n",
      "         9.9305e-01, 2.0202e-05, 2.0438e-06, 3.1721e-05, 3.6150e-06, 2.8822e-06,\n",
      "         3.8865e-05, 4.0183e-04, 9.5444e-05, 4.3357e-05, 6.6751e-06, 4.6057e-06,\n",
      "         5.6668e-04, 8.1002e-05, 4.6516e-05, 4.2595e-06, 3.8784e-06, 6.1494e-06,\n",
      "         2.0163e-05, 2.2406e-05, 2.0598e-06, 4.3948e-06, 1.3056e-05, 1.0420e-05,\n",
      "         3.5815e-03, 2.7189e-04, 1.0438e-06, 3.6150e-06, 1.1287e-06, 1.0770e-06,\n",
      "         2.9505e-06, 2.6242e-06, 7.1742e-07, 3.8182e-06, 9.8060e-07, 8.7901e-07,\n",
      "         6.0304e-06, 1.2204e-06, 1.4221e-05, 3.4298e-05, 2.9275e-06, 5.1674e-07,\n",
      "         8.5196e-07, 4.3266e-06, 1.9277e-05, 4.6057e-06, 1.1645e-06, 3.9620e-07,\n",
      "         4.5602e-07, 2.9907e-07, 1.5904e-05, 2.0278e-06, 4.1372e-05]],\n",
      "       device='cuda:0')\n",
      "Class ID type <class 'int'>\n",
      "Top3 ID : tensor([ 0, 36, 12])\n",
      "Query: You are an expert educational diagnostician specializing in identifying students' math misconceptions from their written explanations.\n",
      "Your task is to analyze the student's explanation and classify the specific type of misconception they demonstrate.\n",
      "\n",
      "Question: Which number is the greatest?\n",
      "Answer: \\( 6.079 \\)\n",
      "Correct: False\n",
      "Student Explanation: i think the answer is c because it has the highest tenths.\n",
      "\n",
      "Based on the information above, identify and label the underlying math misconception in the student's explanation.\n",
      "Provide a clear and concise classification of the misconception type.\n",
      "\n",
      "              Predict Class ID: 12\n",
      "              Predict Text: False_Misconception:Ignores_zeroes\n",
      "              Actual Class ID: 12\n",
      "              Actual Class Text: False_Misconception:Ignores_zeroes\n",
      "             MAP@3 Score : 0.3333333333333333\n",
      "------------------------------\n",
      "Data 8\n",
      "Logits Dimension: torch.Size([1, 65])\n",
      "Probailities : tensor([[5.7747e-07, 2.5517e-09, 1.5150e-08, 1.9873e-09, 5.6732e-08, 1.8855e-08,\n",
      "         6.4151e-09, 2.3102e-08, 6.2533e-10, 3.0105e-07, 6.0865e-08, 8.8186e-10,\n",
      "         3.8991e-08, 7.7381e-09, 1.2835e-07, 5.7177e-08, 8.4680e-07, 4.5326e-07,\n",
      "         2.4732e-09, 3.0780e-09, 2.7866e-08, 4.1506e-08, 2.0504e-09, 1.0743e-08,\n",
      "         1.2365e-08, 1.4092e-09, 1.3987e-07, 3.3472e-10, 3.3472e-10, 1.3581e-08,\n",
      "         9.0985e-10, 1.4092e-09, 1.4515e-07, 2.2519e-09, 4.0777e-09, 2.0504e-09,\n",
      "         5.0854e-08, 9.9477e-01, 3.6061e-08, 1.2343e-07, 1.5820e-06, 5.0671e-06,\n",
      "         2.3164e-03, 8.6688e-07, 4.1121e-05, 2.4312e-06, 1.0743e-08, 2.7549e-06,\n",
      "         2.3588e-07, 6.9259e-06, 2.0156e-06, 1.6128e-08, 3.1709e-06, 5.8322e-06,\n",
      "         7.6502e-07, 1.6161e-07, 6.9114e-07, 3.1709e-06, 3.3754e-06, 4.4024e-06,\n",
      "         1.0561e-05, 1.9173e-07, 1.6614e-05, 2.1017e-07, 2.7941e-03]],\n",
      "       device='cuda:0')\n",
      "Class ID type <class 'int'>\n",
      "Top3 ID : tensor([42, 64, 37])\n",
      "Query: You are an expert educational diagnostician specializing in identifying students' math misconceptions from their written explanations.\n",
      "Your task is to analyze the student's explanation and classify the specific type of misconception they demonstrate.\n",
      "\n",
      "Question: Calculate \\( \\frac{2}{3} \\times 5 \\)\n",
      "Answer: \\( 3 \\frac{1}{3} \\)\n",
      "Correct: True\n",
      "Student Explanation: because you do 2/3 x 5/1 then times it which is10/3 then you change it into a mixed number fraction which is 3 1/3\n",
      "\n",
      "Based on the information above, identify and label the underlying math misconception in the student's explanation.\n",
      "Provide a clear and concise classification of the misconception type.\n",
      "\n",
      "              Predict Class ID: 37\n",
      "              Predict Text: True_Correct:NA\n",
      "              Actual Class ID: 37\n",
      "              Actual Class Text: True_Correct:NA\n",
      "             MAP@3 Score : 0.3333333333333333\n",
      "------------------------------\n",
      "Data 9\n",
      "Logits Dimension: torch.Size([1, 65])\n",
      "Probailities : tensor([[4.6641e-02, 1.0102e-05, 5.3154e-03, 1.2904e-04, 1.5893e-05, 9.6221e-05,\n",
      "         6.4097e-05, 4.4666e-04, 2.6986e-04, 5.7681e-05, 3.3263e-03, 6.0105e-04,\n",
      "         3.3383e-05, 2.7734e-04, 3.4113e-04, 3.4371e-06, 2.3587e-03, 3.0763e-03,\n",
      "         2.3256e-06, 4.9441e-04, 8.6408e-06, 6.9577e-05, 8.3623e-03, 1.8457e-04,\n",
      "         1.1573e-04, 1.5633e-04, 4.3292e-04, 5.8466e-06, 3.4912e-06, 1.7680e-04,\n",
      "         4.4922e-05, 1.6674e-04, 5.7473e-03, 3.3193e-04, 4.3292e-04, 9.0799e-01,\n",
      "         4.0123e-03, 5.3154e-03, 7.1635e-06, 4.4828e-06, 4.9337e-05, 1.0102e-05,\n",
      "         1.3383e-05, 1.1997e-05, 3.9029e-05, 9.5659e-05, 5.1303e-05, 1.0754e-05,\n",
      "         4.0816e-06, 1.0923e-05, 5.8466e-06, 1.8009e-05, 5.4924e-06, 5.7009e-05,\n",
      "         7.8841e-05, 6.5106e-05, 2.1386e-05, 3.0396e-05, 1.5492e-06, 5.6668e-06,\n",
      "         1.5404e-05, 2.6824e-05, 3.9644e-05, 1.9862e-03, 2.1223e-04]],\n",
      "       device='cuda:0')\n",
      "Class ID type <class 'int'>\n",
      "Top3 ID : tensor([22,  0, 35])\n",
      "Query: You are an expert educational diagnostician specializing in identifying students' math misconceptions from their written explanations.\n",
      "Your task is to analyze the student's explanation and classify the specific type of misconception they demonstrate.\n",
      "\n",
      "Question: Dots have been arranged in these patterns: [Image: Pattern 1 consists of 6 dots, Pattern 2 consists of 10 dots, Pattern 3 consists of 14 dots and Pattern 4 consists of 18 dots] How many dots would there be in Pattern \\( 6 \\) ?\n",
      "Answer: \\( 22 \\)\n",
      "Correct: False\n",
      "Student Explanation: 4n+2 this is because four is the gap between each of the numbers therefore making the answerr 22.\n",
      "\n",
      "Based on the information above, identify and label the underlying math misconception in the student's explanation.\n",
      "Provide a clear and concise classification of the misconception type.\n",
      "\n",
      "              Predict Class ID: 35\n",
      "              Predict Text: False_Misconception:Wrong_term\n",
      "              Actual Class ID: 35\n",
      "              Actual Class Text: False_Misconception:Wrong_term\n",
      "             MAP@3 Score : 0.3333333333333333\n",
      "------------------------------\n",
      "Data 10\n",
      "Logits Dimension: torch.Size([1, 65])\n",
      "Probailities : tensor([[2.4881e-06, 4.5311e-07, 2.0745e-07, 4.6024e-07, 3.6408e-07, 9.7229e-08,\n",
      "         1.6030e-07, 3.3081e-08, 8.0606e-08, 1.0392e-06, 5.1344e-07, 1.2050e-09,\n",
      "         2.7326e-06, 6.7877e-08, 1.6800e-07, 6.8020e-07, 1.7956e-06, 2.2921e-06,\n",
      "         1.5145e-08, 2.6637e-07, 3.9060e-07, 5.2357e-07, 3.9903e-08, 2.5616e-07,\n",
      "         1.0032e-07, 2.4202e-08, 3.6639e-04, 1.8089e-09, 8.3641e-09, 2.8134e-07,\n",
      "         5.7485e-09, 9.1338e-08, 2.4635e-07, 5.0944e-07, 2.3458e-08, 5.6272e-08,\n",
      "         7.2559e-06, 8.2567e-04, 5.2043e-08, 5.4770e-06, 1.5494e-06, 1.9644e-06,\n",
      "         1.0394e-05, 3.5511e-04, 1.6835e-06, 1.2407e-06, 2.2431e-07, 3.3875e-06,\n",
      "         2.8749e-06, 6.0753e-05, 1.0892e-05, 2.1740e-07, 6.7106e-06, 6.1710e-05,\n",
      "         1.3499e-07, 3.4274e-06, 2.4166e-05, 9.9445e-01, 1.5299e-06, 1.1238e-05,\n",
      "         1.2935e-05, 7.9356e-08, 5.9811e-05, 1.8023e-07, 3.7004e-03]],\n",
      "       device='cuda:0')\n",
      "Class ID type <class 'int'>\n",
      "Top3 ID : tensor([37, 64, 57])\n",
      "Query: You are an expert educational diagnostician specializing in identifying students' math misconceptions from their written explanations.\n",
      "Your task is to analyze the student's explanation and classify the specific type of misconception they demonstrate.\n",
      "\n",
      "Question: Sally has \\( \\frac{2}{3} \\) of a whole cake in the fridge. Robert eats \\( \\frac{1}{3} \\) of this piece. What fraction of the whole cake has Robert eaten?\n",
      "Choose the number sentence that would solve the word problem.\n",
      "Answer: \\( \\frac{1}{3} \\times \\frac{2}{3} \\)\n",
      "Correct: True\n",
      "Student Explanation: you have to find the common denominator then take away the numerator\n",
      "\n",
      "Based on the information above, identify and label the underlying math misconception in the student's explanation.\n",
      "Provide a clear and concise classification of the misconception type.\n",
      "\n",
      "              Predict Class ID: 57\n",
      "              Predict Text: True_Misconception:Subtraction\n",
      "              Actual Class ID: 57\n",
      "              Actual Class Text: True_Misconception:Subtraction\n",
      "             MAP@3 Score : 0.3333333333333333\n",
      "------------------------------\n",
      "Data 11\n",
      "Logits Dimension: torch.Size([1, 65])\n",
      "Probailities : tensor([[4.5738e-07, 2.0472e-08, 2.9957e-09, 1.8247e-07, 1.2328e-04, 6.9653e-09,\n",
      "         1.0788e-08, 1.4978e-08, 1.7239e-08, 5.9577e-09, 4.6135e-08, 9.6704e-09,\n",
      "         4.0947e-09, 8.2715e-09, 3.9461e-08, 1.2224e-08, 9.4862e-07, 9.9983e-08,\n",
      "         5.5216e-08, 3.4824e-08, 3.3230e-08, 7.7145e-05, 3.8247e-08, 5.5649e-08,\n",
      "         1.8679e-07, 6.9653e-09, 5.2577e-09, 8.2889e-08, 1.8747e-09, 3.8247e-08,\n",
      "         1.3715e-09, 5.4360e-08, 1.6263e-06, 1.7437e-10, 1.1484e-08, 7.4145e-09,\n",
      "         5.7649e-07, 1.6332e-04, 3.5373e-08, 1.9771e-06, 9.9893e-01, 2.1046e-06,\n",
      "         1.5159e-06, 8.6554e-06, 9.7111e-07, 1.2666e-06, 4.5420e-08, 5.6755e-07,\n",
      "         2.1884e-06, 9.1750e-08, 5.7658e-06, 4.9884e-08, 1.1004e-06, 2.9573e-04,\n",
      "         1.5365e-07, 3.7070e-08, 2.1884e-06, 6.4052e-08, 5.0883e-06, 3.0862e-06,\n",
      "         6.9548e-06, 4.6549e-07, 2.9281e-05, 8.2740e-07, 3.3510e-04]],\n",
      "       device='cuda:0')\n",
      "Class ID type <class 'int'>\n",
      "Top3 ID : tensor([53, 64, 40])\n",
      "Query: You are an expert educational diagnostician specializing in identifying students' math misconceptions from their written explanations.\n",
      "Your task is to analyze the student's explanation and classify the specific type of misconception they demonstrate.\n",
      "\n",
      "Question: It takes \\( 3 \\) people a total of \\( 192 \\) hours to build a wall.\n",
      "\n",
      "How long would it take if \\( 12 \\) people built the same wall?\n",
      "Answer: \\( 48 \\) hours\n",
      "Correct: True\n",
      "Student Explanation: because you divide by 3 from 192\n",
      "\n",
      "Based on the information above, identify and label the underlying math misconception in the student's explanation.\n",
      "Provide a clear and concise classification of the misconception type.\n",
      "\n",
      "              Predict Class ID: 40\n",
      "              Predict Text: True_Misconception:Base_rate\n",
      "              Actual Class ID: 40\n",
      "              Actual Class Text: True_Misconception:Base_rate\n",
      "             MAP@3 Score : 0.3333333333333333\n",
      "------------------------------\n",
      "Data 12\n",
      "Logits Dimension: torch.Size([1, 65])\n",
      "Probailities : tensor([[5.7643e-07, 2.8420e-08, 3.5020e-09, 2.1582e-07, 1.5828e-04, 9.3719e-09,\n",
      "         1.3425e-08, 1.9230e-08, 2.3196e-08, 8.4009e-09, 6.0165e-08, 1.4069e-08,\n",
      "         5.2572e-09, 1.1483e-08, 5.1462e-08, 1.6970e-08, 1.0336e-06, 1.1329e-07,\n",
      "         7.9706e-08, 4.4018e-08, 4.2002e-08, 8.7408e-05, 5.3096e-08, 7.1448e-08,\n",
      "         2.6340e-07, 8.4009e-09, 6.5427e-09, 1.2154e-07, 2.7274e-09, 4.5415e-08,\n",
      "         1.8745e-09, 7.0892e-08, 1.8000e-06, 1.9149e-10, 1.3636e-08, 9.6694e-09,\n",
      "         7.8023e-07, 1.5341e-04, 3.8846e-08, 2.2401e-06, 9.9883e-01, 2.4033e-06,\n",
      "         1.6647e-06, 1.0118e-05, 1.0665e-06, 1.6518e-06, 4.9105e-08, 5.4522e-07,\n",
      "         2.9677e-06, 1.1688e-07, 5.6758e-06, 5.8314e-08, 1.2227e-06, 3.0508e-04,\n",
      "         1.6355e-07, 5.3096e-08, 2.4603e-06, 7.6056e-08, 6.2337e-06, 2.6602e-06,\n",
      "         7.0637e-06, 5.6143e-07, 3.1166e-05, 9.6723e-07, 3.7968e-04]],\n",
      "       device='cuda:0')\n",
      "Class ID type <class 'int'>\n",
      "Top3 ID : tensor([53, 64, 40])\n",
      "Query: You are an expert educational diagnostician specializing in identifying students' math misconceptions from their written explanations.\n",
      "Your task is to analyze the student's explanation and classify the specific type of misconception they demonstrate.\n",
      "\n",
      "Question: It takes \\( 3 \\) people a total of \\( 192 \\) hours to build a wall.\n",
      "\n",
      "How long would it take if \\( 12 \\) people built the same wall?\n",
      "Answer: \\( 48 \\) hours\n",
      "Correct: True\n",
      "Student Explanation: because you divide by 3 from 192\n",
      "\n",
      "Based on the information above, identify and label the underlying math misconception in the student's explanation.\n",
      "Provide a clear and concise classification of the misconception type.\n",
      "\n",
      "              Predict Class ID: 40\n",
      "              Predict Text: True_Misconception:Base_rate\n",
      "              Actual Class ID: 40\n",
      "              Actual Class Text: True_Misconception:Base_rate\n",
      "             MAP@3 Score : 0.3333333333333333\n",
      "------------------------------\n",
      "Data 13\n",
      "Logits Dimension: torch.Size([1, 65])\n",
      "Probailities : tensor([[5.3049e-06, 7.5693e-06, 2.2816e-06, 7.0278e-06, 5.0226e-06, 2.5059e-06,\n",
      "         1.4963e-06, 8.2634e-07, 1.4731e-06, 1.2405e-06, 2.6261e-06, 9.3104e-06,\n",
      "         1.3285e-05, 4.6354e-07, 1.9648e-05, 8.3936e-07, 1.4705e-05, 4.9062e-06,\n",
      "         4.2205e-07, 1.8716e-05, 2.3821e-05, 6.9732e-06, 9.7572e-06, 5.3884e-06,\n",
      "         1.1769e-05, 6.1059e-06, 6.9189e-06, 2.1896e-07, 3.0878e-07, 5.1820e-06,\n",
      "         2.5599e-07, 8.9349e-07, 2.7095e-06, 2.5599e-07, 5.3658e-08, 3.9034e-07,\n",
      "         5.1525e-05, 8.9080e-01, 9.0756e-07, 7.1535e-05, 8.3458e-06, 1.1431e-04,\n",
      "         6.5921e-03, 5.6589e-05, 2.9296e-06, 7.5104e-06, 3.7112e-05, 3.4864e-05,\n",
      "         6.1059e-06, 1.2581e-03, 1.9405e-05, 2.1434e-06, 2.8073e-04, 1.3261e-04,\n",
      "         2.9883e-04, 9.9109e-06, 4.6284e-04, 3.9589e-04, 4.8229e-03, 3.1810e-04,\n",
      "         7.6149e-05, 1.5199e-06, 3.2307e-05, 9.3834e-06, 9.3890e-02]],\n",
      "       device='cuda:0')\n",
      "Class ID type <class 'int'>\n",
      "Top3 ID : tensor([42, 64, 37])\n",
      "Query: You are an expert educational diagnostician specializing in identifying students' math misconceptions from their written explanations.\n",
      "Your task is to analyze the student's explanation and classify the specific type of misconception they demonstrate.\n",
      "\n",
      "Question: Calculate \\( \\frac{1}{2} \\div 6 \\)\n",
      "Answer: \\( \\frac{1}{12} \\)\n",
      "Correct: True\n",
      "Student Explanation: i know this because all you have to do is keep change swap it\n",
      "\n",
      "Based on the information above, identify and label the underlying math misconception in the student's explanation.\n",
      "Provide a clear and concise classification of the misconception type.\n",
      "\n",
      "              Predict Class ID: 37\n",
      "              Predict Text: True_Correct:NA\n",
      "              Actual Class ID: 37\n",
      "              Actual Class Text: True_Correct:NA\n",
      "             MAP@3 Score : 0.3333333333333333\n",
      "------------------------------\n",
      "Data 14\n",
      "Logits Dimension: torch.Size([1, 65])\n",
      "Probailities : tensor([[3.9067e-05, 8.1546e-08, 1.2241e-07, 8.6805e-08, 7.1554e-07, 2.4206e-06,\n",
      "         1.5718e-07, 7.2681e-07, 2.9828e-07, 3.7650e-04, 2.6794e-06, 9.2403e-08,\n",
      "         4.2484e-06, 8.3655e-07, 6.2167e-07, 4.0223e-06, 5.9271e-06, 9.2264e-05,\n",
      "         7.4248e-08, 5.8401e-07, 2.5171e-06, 7.0445e-07, 3.2947e-08, 1.0250e-06,\n",
      "         9.5337e-08, 7.4988e-07, 3.3346e-06, 9.7393e-09, 2.9999e-08, 2.0705e-06,\n",
      "         1.4312e-07, 2.6379e-06, 4.2318e-06, 5.2350e-07, 2.9366e-07, 1.8666e-07,\n",
      "         7.5304e-05, 3.0858e-02, 2.2644e-08, 9.6287e-07, 8.7341e-06, 2.7545e-04,\n",
      "         7.7252e-04, 4.8242e-05, 9.5997e-01, 1.3984e-05, 3.3800e-07, 5.2571e-05,\n",
      "         5.0163e-05, 1.7784e-04, 5.3095e-04, 3.5422e-07, 1.6193e-04, 2.3932e-04,\n",
      "         1.7435e-06, 5.7495e-07, 8.8039e-05, 7.4137e-05, 5.9570e-05, 2.8360e-05,\n",
      "         9.9762e-05, 1.7710e-06, 1.1240e-03, 1.3058e-06, 4.7323e-03]],\n",
      "       device='cuda:0')\n",
      "Class ID type <class 'int'>\n",
      "Top3 ID : tensor([64, 37, 44])\n",
      "Query: You are an expert educational diagnostician specializing in identifying students' math misconceptions from their written explanations.\n",
      "Your task is to analyze the student's explanation and classify the specific type of misconception they demonstrate.\n",
      "\n",
      "Question: Calculate \\( \\frac{2}{3} \\times 5 \\)\n",
      "Answer: \\( 3 \\frac{1}{3} \\)\n",
      "Correct: True\n",
      "Student Explanation: because u have to times the numerator by the whole number and that would have given you 10/15 and you can make it a mixed number\n",
      "\n",
      "Based on the information above, identify and label the underlying math misconception in the student's explanation.\n",
      "Provide a clear and concise classification of the misconception type.\n",
      "\n",
      "              Predict Class ID: 44\n",
      "              Predict Text: True_Misconception:Duplication\n",
      "              Actual Class ID: 44\n",
      "              Actual Class Text: True_Misconception:Duplication\n",
      "             MAP@3 Score : 0.3333333333333333\n",
      "------------------------------\n",
      "Data 15\n",
      "Logits Dimension: torch.Size([1, 65])\n",
      "Probailities : tensor([[6.6776e-04, 2.1465e-05, 7.2463e-06, 1.9621e-05, 5.9557e-05, 3.8427e-03,\n",
      "         1.1489e-05, 1.7935e-05, 6.8483e-05, 1.6077e-05, 8.4235e-05, 8.5382e-06,\n",
      "         1.6364e-04, 5.8930e-04, 3.3638e-05, 1.1947e-05, 9.9045e-06, 4.7867e-05,\n",
      "         2.3441e-04, 1.7833e-04, 1.0321e-04, 8.4896e-05, 6.0024e-05, 2.2719e-04,\n",
      "         9.1135e-01, 1.7833e-04, 3.0098e-04, 2.3209e-05, 1.1049e-05, 3.3577e-04,\n",
      "         6.8617e-05, 1.8983e-04, 6.2172e-05, 1.6848e-05, 1.3780e-04, 1.1247e-04,\n",
      "         7.9632e-02, 7.1083e-04, 2.3342e-06, 1.1670e-05, 1.1854e-05, 3.0923e-06,\n",
      "         2.0323e-05, 9.2320e-06, 3.7888e-06, 9.7509e-06, 2.7720e-06, 1.5461e-05,\n",
      "         2.2624e-06, 5.3431e-06, 2.6506e-05, 6.8073e-06, 7.5940e-06, 2.6402e-05,\n",
      "         1.7113e-05, 1.5340e-05, 2.1718e-05, 1.0060e-05, 1.9051e-06, 1.5071e-06,\n",
      "         1.2135e-05, 1.1737e-06, 5.9606e-06, 2.3342e-06, 5.0576e-05]],\n",
      "       device='cuda:0')\n",
      "Class ID type <class 'int'>\n",
      "Top3 ID : tensor([ 5, 36, 24])\n",
      "Query: You are an expert educational diagnostician specializing in identifying students' math misconceptions from their written explanations.\n",
      "Your task is to analyze the student's explanation and classify the specific type of misconception they demonstrate.\n",
      "\n",
      "Question: The probability of an event occurring is \\( 0.9 \\).\n",
      "\n",
      "Which of the following most accurately describes the likelihood of the event occurring?\n",
      "Answer: Unlikely\n",
      "Correct: False\n",
      "Student Explanation: i think it's unlikely for the event to occur. this being as it's 0.9 meaning it's not impossible but not anything above unlikely.\n",
      "\n",
      "Based on the information above, identify and label the underlying math misconception in the student's explanation.\n",
      "Provide a clear and concise classification of the misconception type.\n",
      "\n",
      "              Predict Class ID: 24\n",
      "              Predict Text: False_Misconception:Scale\n",
      "              Actual Class ID: 24\n",
      "              Actual Class Text: False_Misconception:Scale\n",
      "             MAP@3 Score : 0.3333333333333333\n",
      "------------------------------\n",
      "Data 16\n",
      "Logits Dimension: torch.Size([1, 65])\n",
      "Probailities : tensor([[7.3879e-04, 3.3946e-06, 4.9288e-07, 2.5934e-04, 1.3823e-06, 2.9904e-05,\n",
      "         2.9036e-06, 4.6399e-06, 4.4368e-05, 6.7247e-06, 3.1395e-06, 3.5299e-06,\n",
      "         9.7083e-06, 6.6225e-04, 7.9237e-06, 2.3149e-06, 9.9206e-05, 1.9157e-05,\n",
      "         3.2208e-05, 1.1154e-04, 2.4260e-06, 1.3495e-05, 1.3246e-04, 1.6482e-05,\n",
      "         3.0733e-05, 2.7924e-06, 3.8247e-05, 1.4487e-06, 8.5009e-06, 2.4985e-05,\n",
      "         1.0715e-05, 1.1745e-05, 9.9265e-01, 7.2843e-07, 2.5478e-05, 9.6908e-05,\n",
      "         4.1855e-03, 5.8443e-04, 1.6674e-06, 8.5175e-06, 1.0016e-05, 5.5851e-07,\n",
      "         6.9382e-06, 1.7749e-06, 5.9346e-06, 4.5134e-08, 1.3060e-07, 2.4643e-06,\n",
      "         5.4985e-07, 5.8531e-07, 7.0602e-07, 1.0599e-06, 1.1107e-06, 1.1473e-05,\n",
      "         1.6769e-07, 4.0947e-06, 5.4672e-06, 2.9958e-06, 2.7648e-07, 2.1078e-06,\n",
      "         2.1371e-05, 8.6503e-07, 2.0914e-06, 1.2586e-06, 2.1665e-05]],\n",
      "       device='cuda:0')\n",
      "Class ID type <class 'int'>\n",
      "Top3 ID : tensor([ 0, 36, 32])\n",
      "Query: You are an expert educational diagnostician specializing in identifying students' math misconceptions from their written explanations.\n",
      "Your task is to analyze the student's explanation and classify the specific type of misconception they demonstrate.\n",
      "\n",
      "Question: A box contains \\( 120 \\) counters. The counters are red or blue. \\( \\frac{3}{5} \\) of the counters are red.\n",
      "How many red counters are there?\n",
      "Answer: \\( 48 \\)\n",
      "Correct: False\n",
      "Student Explanation: since 120 divided by 5 is 24 then 24x2 is 48 so the answer is48.\n",
      "\n",
      "Based on the information above, identify and label the underlying math misconception in the student's explanation.\n",
      "Provide a clear and concise classification of the misconception type.\n",
      "\n",
      "              Predict Class ID: 32\n",
      "              Predict Text: False_Misconception:Wrong_Fraction\n",
      "              Actual Class ID: 32\n",
      "              Actual Class Text: False_Misconception:Wrong_Fraction\n",
      "             MAP@3 Score : 0.3333333333333333\n",
      "------------------------------\n",
      "Data 17\n",
      "Logits Dimension: torch.Size([1, 65])\n",
      "Probailities : tensor([[1.6246e-06, 2.0534e-07, 4.1548e-09, 1.3141e-07, 3.0764e-07, 2.3909e-08,\n",
      "         1.0165e-07, 4.7549e-08, 5.7114e-10, 3.3194e-08, 2.1940e-08, 2.0568e-09,\n",
      "         1.0124e-08, 2.7093e-08, 4.6545e-07, 1.1838e-07, 3.9645e-09, 4.7349e-10,\n",
      "         8.3101e-10, 7.8844e-09, 1.1472e-08, 5.5042e-09, 2.9630e-10, 4.0904e-09,\n",
      "         2.9989e-08, 2.1894e-09, 1.2475e-09, 9.9878e-08, 1.2599e-08, 7.3336e-10,\n",
      "         8.7956e-09, 6.3353e-09, 6.4992e-08, 1.0325e-07, 3.2543e-10, 2.2637e-08,\n",
      "         2.9127e-07, 1.9263e-03, 9.9787e-01, 1.3392e-05, 1.4085e-07, 4.8676e-08,\n",
      "         1.2456e-06, 2.8011e-07, 2.5597e-09, 5.8381e-07, 4.4161e-06, 1.0610e-08,\n",
      "         2.5961e-06, 3.9419e-08, 1.3468e-06, 3.8750e-05, 1.4255e-05, 3.0461e-08,\n",
      "         1.3257e-07, 9.2733e-08, 5.2632e-08, 2.2112e-08, 1.0407e-06, 4.2957e-08,\n",
      "         1.5656e-05, 1.6246e-06, 3.2749e-07, 1.5175e-05, 9.0096e-05]],\n",
      "       device='cuda:0')\n",
      "Class ID type <class 'int'>\n",
      "Top3 ID : tensor([64, 37, 38])\n",
      "Query: You are an expert educational diagnostician specializing in identifying students' math misconceptions from their written explanations.\n",
      "Your task is to analyze the student's explanation and classify the specific type of misconception they demonstrate.\n",
      "\n",
      "Question: \\( \\frac{1}{3}+\\frac{2}{5}= \\)\n",
      "Answer: \\( \\frac{11}{15} \\)\n",
      "Correct: True\n",
      "Student Explanation: 1/3 is 5/15\n",
      "2/5 is 6/15\n",
      "5+6 is 11 so the answer must be d\n",
      "\n",
      "Based on the information above, identify and label the underlying math misconception in the student's explanation.\n",
      "Provide a clear and concise classification of the misconception type.\n",
      "\n",
      "              Predict Class ID: 38\n",
      "              Predict Text: True_Misconception:Adding_across\n",
      "              Actual Class ID: 38\n",
      "              Actual Class Text: True_Misconception:Adding_across\n",
      "             MAP@3 Score : 0.3333333333333333\n",
      "------------------------------\n",
      "Data 18\n",
      "Logits Dimension: torch.Size([1, 65])\n",
      "Probailities : tensor([[1.1722e-03, 4.3214e-03, 3.3128e-04, 5.7009e-05, 1.7020e-04, 2.6079e-04,\n",
      "         1.7237e-04, 2.3131e-03, 1.1561e-04, 4.3123e-04, 2.0015e-04, 1.2648e-04,\n",
      "         2.8952e-04, 3.9264e-04, 1.3864e-04, 1.3754e-05, 1.6756e-04, 7.7479e-04,\n",
      "         3.5750e-04, 1.6920e-04, 2.8787e-03, 2.6284e-04, 9.5472e-05, 5.9316e-01,\n",
      "         2.4982e-04, 3.0341e-04, 2.4332e-04, 6.4736e-04, 3.4526e-02, 1.3464e-04,\n",
      "         2.3332e-04, 7.9316e-04, 2.5475e-04, 4.4053e-05, 8.3122e-04, 6.6271e-04,\n",
      "         3.4870e-01, 2.1886e-04, 2.7784e-05, 4.5808e-05, 4.6529e-05, 2.3034e-05,\n",
      "         1.4388e-04, 3.1238e-05, 5.4825e-05, 3.0042e-05, 1.8326e-06, 5.5688e-05,\n",
      "         2.0133e-04, 3.9799e-05, 8.8803e-06, 5.4398e-05, 9.4530e-06, 4.2366e-05,\n",
      "         1.6686e-06, 2.6028e-04, 2.3765e-05, 7.6117e-05, 1.5831e-05, 2.1729e-03,\n",
      "         2.7784e-05, 3.7387e-05, 9.1815e-05, 2.6101e-05, 2.4178e-04]],\n",
      "       device='cuda:0')\n",
      "Class ID type <class 'int'>\n",
      "Top3 ID : tensor([28, 36, 23])\n",
      "Query: You are an expert educational diagnostician specializing in identifying students' math misconceptions from their written explanations.\n",
      "Your task is to analyze the student's explanation and classify the specific type of misconception they demonstrate.\n",
      "\n",
      "Question: What number belongs in the box?\n",
      "\\(\n",
      "(-8)-(-5)=\n",
      "\\square\\)\n",
      "Answer: \\( 3 \\)\n",
      "Correct: False\n",
      "Student Explanation: negative add a negative = positive\n",
      "\n",
      "Based on the information above, identify and label the underlying math misconception in the student's explanation.\n",
      "Provide a clear and concise classification of the misconception type.\n",
      "\n",
      "              Predict Class ID: 23\n",
      "              Predict Text: False_Misconception:Positive\n",
      "              Actual Class ID: 23\n",
      "              Actual Class Text: False_Misconception:Positive\n",
      "             MAP@3 Score : 0.3333333333333333\n",
      "------------------------------\n",
      "Data 19\n",
      "Logits Dimension: torch.Size([1, 65])\n",
      "Probailities : tensor([[3.9652e-01, 4.8175e-05, 6.5100e-03, 3.1104e-05, 1.5400e-04, 4.4475e-04,\n",
      "         2.0082e-05, 1.3886e-04, 4.9229e-04, 1.0141e-03, 2.8912e-04, 3.5527e-04,\n",
      "         1.0141e-03, 2.9343e-03, 1.4382e-04, 5.2090e-05, 3.7967e-04, 1.0083e-02,\n",
      "         4.4301e-04, 1.9620e-04, 3.9402e-04, 9.6763e-04, 1.7899e-04, 6.1747e-04,\n",
      "         1.7113e-04, 6.8081e-04, 1.3226e-03, 2.3272e-04, 4.2848e-05, 7.7588e-05,\n",
      "         3.4502e-04, 6.9153e-04, 3.7305e-04, 1.1923e-04, 4.9347e-01, 7.7146e-04,\n",
      "         3.3581e-02, 2.4693e-04, 4.4115e-06, 4.4115e-06, 1.6391e-05, 2.5934e-06,\n",
      "         1.1443e-05, 1.1333e-04, 1.0279e-04, 3.2092e-05, 7.9882e-06, 5.5884e-05,\n",
      "         7.9882e-06, 3.4161e-05, 3.2602e-04, 1.4693e-05, 4.8451e-06, 2.3479e-05,\n",
      "         7.5043e-06, 8.4550e-05, 8.0678e-05, 1.3044e-04, 6.9800e-07, 1.1992e-05,\n",
      "         1.6137e-05, 2.7882e-05, 4.3119e-02, 3.1594e-05, 1.8217e-04]],\n",
      "       device='cuda:0')\n",
      "Class ID type <class 'int'>\n",
      "Top3 ID : tensor([62,  0, 34])\n",
      "Query: You are an expert educational diagnostician specializing in identifying students' math misconceptions from their written explanations.\n",
      "Your task is to analyze the student's explanation and classify the specific type of misconception they demonstrate.\n",
      "\n",
      "Question: A bag contains \\( 24 \\) yellow and green balls. \\( \\frac{3}{8} \\) of the balls are yellow. How many of the balls are green?\n",
      "Answer: \\( 9 \\)\n",
      "Correct: False\n",
      "Student Explanation: then multiply by the denominator which is three times the numerator so 3 * 9 = 27.\n",
      "\n",
      "Based on the information above, identify and label the underlying math misconception in the student's explanation.\n",
      "Provide a clear and concise classification of the misconception type.\n",
      "\n",
      "              Predict Class ID: 34\n",
      "              Predict Text: False_Misconception:Wrong_fraction\n",
      "              Actual Class ID: 36\n",
      "              Actual Class Text: False_Neither:NA\n",
      "             MAP@3 Score : 0.0\n",
      "------------------------------\n"
     ]
    }
   ],
   "source": [
    "testValDataset(datasetDict[\"val\"], 20 )"
   ]
  },
  {
   "cell_type": "code",
   "execution_count": null,
   "id": "cafc2523",
   "metadata": {
    "papermill": {
     "duration": 0.041787,
     "end_time": "2025-10-02T19:57:50.629756",
     "exception": false,
     "start_time": "2025-10-02T19:57:50.587969",
     "status": "completed"
    },
    "tags": []
   },
   "outputs": [],
   "source": []
  },
  {
   "cell_type": "code",
   "execution_count": null,
   "id": "a38dd7ab",
   "metadata": {
    "papermill": {
     "duration": 0.039162,
     "end_time": "2025-10-02T19:57:50.708728",
     "exception": false,
     "start_time": "2025-10-02T19:57:50.669566",
     "status": "completed"
    },
    "tags": []
   },
   "outputs": [],
   "source": []
  },
  {
   "cell_type": "code",
   "execution_count": null,
   "id": "11b1b2f4",
   "metadata": {
    "papermill": {
     "duration": 0.038981,
     "end_time": "2025-10-02T19:57:50.787044",
     "exception": false,
     "start_time": "2025-10-02T19:57:50.748063",
     "status": "completed"
    },
    "tags": []
   },
   "outputs": [],
   "source": []
  },
  {
   "cell_type": "code",
   "execution_count": null,
   "id": "d6bb7005",
   "metadata": {
    "papermill": {
     "duration": 0.04034,
     "end_time": "2025-10-02T19:57:50.866865",
     "exception": false,
     "start_time": "2025-10-02T19:57:50.826525",
     "status": "completed"
    },
    "tags": []
   },
   "outputs": [],
   "source": []
  },
  {
   "cell_type": "code",
   "execution_count": null,
   "id": "9ee8b0bb",
   "metadata": {
    "papermill": {
     "duration": 0.041603,
     "end_time": "2025-10-02T19:57:50.950253",
     "exception": false,
     "start_time": "2025-10-02T19:57:50.908650",
     "status": "completed"
    },
    "tags": []
   },
   "outputs": [],
   "source": []
  },
  {
   "cell_type": "code",
   "execution_count": null,
   "id": "0e179167",
   "metadata": {
    "papermill": {
     "duration": 0.038751,
     "end_time": "2025-10-02T19:57:51.027889",
     "exception": false,
     "start_time": "2025-10-02T19:57:50.989138",
     "status": "completed"
    },
    "tags": []
   },
   "outputs": [],
   "source": []
  },
  {
   "cell_type": "code",
   "execution_count": null,
   "id": "c50a937d",
   "metadata": {
    "papermill": {
     "duration": 0.055801,
     "end_time": "2025-10-02T19:57:51.128516",
     "exception": false,
     "start_time": "2025-10-02T19:57:51.072715",
     "status": "completed"
    },
    "tags": []
   },
   "outputs": [],
   "source": []
  },
  {
   "cell_type": "code",
   "execution_count": null,
   "id": "d542d592",
   "metadata": {
    "papermill": {
     "duration": 0.039843,
     "end_time": "2025-10-02T19:57:51.207885",
     "exception": false,
     "start_time": "2025-10-02T19:57:51.168042",
     "status": "completed"
    },
    "tags": []
   },
   "outputs": [],
   "source": []
  },
  {
   "cell_type": "code",
   "execution_count": null,
   "id": "2931a591",
   "metadata": {
    "papermill": {
     "duration": 0.03931,
     "end_time": "2025-10-02T19:57:51.286950",
     "exception": false,
     "start_time": "2025-10-02T19:57:51.247640",
     "status": "completed"
    },
    "tags": []
   },
   "outputs": [],
   "source": []
  },
  {
   "cell_type": "code",
   "execution_count": null,
   "id": "3460a080",
   "metadata": {
    "papermill": {
     "duration": 0.039378,
     "end_time": "2025-10-02T19:57:51.366183",
     "exception": false,
     "start_time": "2025-10-02T19:57:51.326805",
     "status": "completed"
    },
    "tags": []
   },
   "outputs": [],
   "source": []
  },
  {
   "cell_type": "code",
   "execution_count": null,
   "id": "c39121ac",
   "metadata": {
    "papermill": {
     "duration": 0.03906,
     "end_time": "2025-10-02T19:57:51.444456",
     "exception": false,
     "start_time": "2025-10-02T19:57:51.405396",
     "status": "completed"
    },
    "tags": []
   },
   "outputs": [],
   "source": []
  },
  {
   "cell_type": "code",
   "execution_count": null,
   "id": "6025475e",
   "metadata": {
    "papermill": {
     "duration": 0.039288,
     "end_time": "2025-10-02T19:57:51.523162",
     "exception": false,
     "start_time": "2025-10-02T19:57:51.483874",
     "status": "completed"
    },
    "tags": []
   },
   "outputs": [],
   "source": []
  },
  {
   "cell_type": "code",
   "execution_count": null,
   "id": "e84aa8f6",
   "metadata": {
    "papermill": {
     "duration": 0.038965,
     "end_time": "2025-10-02T19:57:51.601407",
     "exception": false,
     "start_time": "2025-10-02T19:57:51.562442",
     "status": "completed"
    },
    "tags": []
   },
   "outputs": [],
   "source": []
  },
  {
   "cell_type": "code",
   "execution_count": null,
   "id": "eccbc30b",
   "metadata": {
    "papermill": {
     "duration": 0.039719,
     "end_time": "2025-10-02T19:57:51.680383",
     "exception": false,
     "start_time": "2025-10-02T19:57:51.640664",
     "status": "completed"
    },
    "tags": []
   },
   "outputs": [],
   "source": []
  },
  {
   "cell_type": "code",
   "execution_count": null,
   "id": "76e0e070",
   "metadata": {
    "papermill": {
     "duration": 0.039148,
     "end_time": "2025-10-02T19:57:51.758667",
     "exception": false,
     "start_time": "2025-10-02T19:57:51.719519",
     "status": "completed"
    },
    "tags": []
   },
   "outputs": [],
   "source": []
  },
  {
   "cell_type": "code",
   "execution_count": null,
   "id": "4ee39531",
   "metadata": {
    "papermill": {
     "duration": 0.039417,
     "end_time": "2025-10-02T19:57:51.837573",
     "exception": false,
     "start_time": "2025-10-02T19:57:51.798156",
     "status": "completed"
    },
    "tags": []
   },
   "outputs": [],
   "source": []
  },
  {
   "cell_type": "code",
   "execution_count": null,
   "id": "c1c36f14",
   "metadata": {
    "papermill": {
     "duration": 0.0392,
     "end_time": "2025-10-02T19:57:51.918294",
     "exception": false,
     "start_time": "2025-10-02T19:57:51.879094",
     "status": "completed"
    },
    "tags": []
   },
   "outputs": [],
   "source": []
  },
  {
   "cell_type": "code",
   "execution_count": null,
   "id": "d9d1dc7e",
   "metadata": {
    "papermill": {
     "duration": 0.039348,
     "end_time": "2025-10-02T19:57:51.997217",
     "exception": false,
     "start_time": "2025-10-02T19:57:51.957869",
     "status": "completed"
    },
    "tags": []
   },
   "outputs": [],
   "source": []
  },
  {
   "cell_type": "code",
   "execution_count": null,
   "id": "f0e99851",
   "metadata": {
    "papermill": {
     "duration": 0.03961,
     "end_time": "2025-10-02T19:57:52.077287",
     "exception": false,
     "start_time": "2025-10-02T19:57:52.037677",
     "status": "completed"
    },
    "tags": []
   },
   "outputs": [],
   "source": []
  },
  {
   "cell_type": "code",
   "execution_count": null,
   "id": "db7d28de",
   "metadata": {
    "papermill": {
     "duration": 0.04151,
     "end_time": "2025-10-02T19:57:52.158090",
     "exception": false,
     "start_time": "2025-10-02T19:57:52.116580",
     "status": "completed"
    },
    "tags": []
   },
   "outputs": [],
   "source": []
  },
  {
   "cell_type": "code",
   "execution_count": null,
   "id": "2f9e9442",
   "metadata": {
    "papermill": {
     "duration": 0.045903,
     "end_time": "2025-10-02T19:57:52.250354",
     "exception": false,
     "start_time": "2025-10-02T19:57:52.204451",
     "status": "completed"
    },
    "tags": []
   },
   "outputs": [],
   "source": []
  },
  {
   "cell_type": "code",
   "execution_count": null,
   "id": "9b506a29",
   "metadata": {
    "papermill": {
     "duration": 0.04582,
     "end_time": "2025-10-02T19:57:52.342088",
     "exception": false,
     "start_time": "2025-10-02T19:57:52.296268",
     "status": "completed"
    },
    "tags": []
   },
   "outputs": [],
   "source": []
  },
  {
   "cell_type": "code",
   "execution_count": null,
   "id": "8f07b4d2",
   "metadata": {
    "papermill": {
     "duration": 0.044269,
     "end_time": "2025-10-02T19:57:52.430857",
     "exception": false,
     "start_time": "2025-10-02T19:57:52.386588",
     "status": "completed"
    },
    "tags": []
   },
   "outputs": [],
   "source": []
  },
  {
   "cell_type": "code",
   "execution_count": null,
   "id": "3a64f7bc",
   "metadata": {
    "papermill": {
     "duration": 0.044969,
     "end_time": "2025-10-02T19:57:52.521984",
     "exception": false,
     "start_time": "2025-10-02T19:57:52.477015",
     "status": "completed"
    },
    "tags": []
   },
   "outputs": [],
   "source": []
  },
  {
   "cell_type": "code",
   "execution_count": null,
   "id": "3f318b54",
   "metadata": {
    "papermill": {
     "duration": 0.046527,
     "end_time": "2025-10-02T19:57:52.614628",
     "exception": false,
     "start_time": "2025-10-02T19:57:52.568101",
     "status": "completed"
    },
    "tags": []
   },
   "outputs": [],
   "source": []
  },
  {
   "cell_type": "code",
   "execution_count": null,
   "id": "ae5a3f44",
   "metadata": {
    "papermill": {
     "duration": 0.047561,
     "end_time": "2025-10-02T19:57:52.707039",
     "exception": false,
     "start_time": "2025-10-02T19:57:52.659478",
     "status": "completed"
    },
    "tags": []
   },
   "outputs": [],
   "source": []
  },
  {
   "cell_type": "code",
   "execution_count": null,
   "id": "b66ca57f",
   "metadata": {
    "papermill": {
     "duration": 0.044824,
     "end_time": "2025-10-02T19:57:52.797448",
     "exception": false,
     "start_time": "2025-10-02T19:57:52.752624",
     "status": "completed"
    },
    "tags": []
   },
   "outputs": [],
   "source": []
  },
  {
   "cell_type": "code",
   "execution_count": null,
   "id": "e75cfdd9",
   "metadata": {
    "papermill": {
     "duration": 0.047748,
     "end_time": "2025-10-02T19:57:52.889570",
     "exception": false,
     "start_time": "2025-10-02T19:57:52.841822",
     "status": "completed"
    },
    "tags": []
   },
   "outputs": [],
   "source": []
  },
  {
   "cell_type": "code",
   "execution_count": null,
   "id": "aaf915e2",
   "metadata": {
    "papermill": {
     "duration": 0.045981,
     "end_time": "2025-10-02T19:57:52.982289",
     "exception": false,
     "start_time": "2025-10-02T19:57:52.936308",
     "status": "completed"
    },
    "tags": []
   },
   "outputs": [],
   "source": []
  },
  {
   "cell_type": "code",
   "execution_count": null,
   "id": "136c46e3",
   "metadata": {
    "papermill": {
     "duration": 0.040335,
     "end_time": "2025-10-02T19:57:53.066943",
     "exception": false,
     "start_time": "2025-10-02T19:57:53.026608",
     "status": "completed"
    },
    "tags": []
   },
   "outputs": [],
   "source": []
  },
  {
   "cell_type": "code",
   "execution_count": null,
   "id": "7ed3f78f",
   "metadata": {
    "papermill": {
     "duration": 0.038904,
     "end_time": "2025-10-02T19:57:53.145968",
     "exception": false,
     "start_time": "2025-10-02T19:57:53.107064",
     "status": "completed"
    },
    "tags": []
   },
   "outputs": [],
   "source": []
  },
  {
   "cell_type": "code",
   "execution_count": null,
   "id": "0831c846",
   "metadata": {
    "papermill": {
     "duration": 0.038907,
     "end_time": "2025-10-02T19:57:53.224042",
     "exception": false,
     "start_time": "2025-10-02T19:57:53.185135",
     "status": "completed"
    },
    "tags": []
   },
   "outputs": [],
   "source": []
  },
  {
   "cell_type": "code",
   "execution_count": null,
   "id": "642263ec",
   "metadata": {
    "papermill": {
     "duration": 0.038803,
     "end_time": "2025-10-02T19:57:53.302496",
     "exception": false,
     "start_time": "2025-10-02T19:57:53.263693",
     "status": "completed"
    },
    "tags": []
   },
   "outputs": [],
   "source": []
  },
  {
   "cell_type": "code",
   "execution_count": null,
   "id": "6316b95b",
   "metadata": {
    "papermill": {
     "duration": 0.038787,
     "end_time": "2025-10-02T19:57:53.380298",
     "exception": false,
     "start_time": "2025-10-02T19:57:53.341511",
     "status": "completed"
    },
    "tags": []
   },
   "outputs": [],
   "source": []
  },
  {
   "cell_type": "code",
   "execution_count": null,
   "id": "950f85b8",
   "metadata": {
    "papermill": {
     "duration": 0.038779,
     "end_time": "2025-10-02T19:57:53.457879",
     "exception": false,
     "start_time": "2025-10-02T19:57:53.419100",
     "status": "completed"
    },
    "tags": []
   },
   "outputs": [],
   "source": []
  },
  {
   "cell_type": "code",
   "execution_count": null,
   "id": "4bd0a2a4",
   "metadata": {
    "papermill": {
     "duration": 0.038866,
     "end_time": "2025-10-02T19:57:53.535810",
     "exception": false,
     "start_time": "2025-10-02T19:57:53.496944",
     "status": "completed"
    },
    "tags": []
   },
   "outputs": [],
   "source": []
  },
  {
   "cell_type": "code",
   "execution_count": null,
   "id": "a3b25fc7",
   "metadata": {
    "papermill": {
     "duration": 0.039763,
     "end_time": "2025-10-02T19:57:53.614777",
     "exception": false,
     "start_time": "2025-10-02T19:57:53.575014",
     "status": "completed"
    },
    "tags": []
   },
   "outputs": [],
   "source": []
  },
  {
   "cell_type": "code",
   "execution_count": null,
   "id": "de7f5a72",
   "metadata": {
    "papermill": {
     "duration": 0.038932,
     "end_time": "2025-10-02T19:57:53.693384",
     "exception": false,
     "start_time": "2025-10-02T19:57:53.654452",
     "status": "completed"
    },
    "tags": []
   },
   "outputs": [],
   "source": []
  },
  {
   "cell_type": "code",
   "execution_count": null,
   "id": "b8411771",
   "metadata": {
    "papermill": {
     "duration": 0.039065,
     "end_time": "2025-10-02T19:57:53.771894",
     "exception": false,
     "start_time": "2025-10-02T19:57:53.732829",
     "status": "completed"
    },
    "tags": []
   },
   "outputs": [],
   "source": []
  },
  {
   "cell_type": "code",
   "execution_count": null,
   "id": "86f02cc9",
   "metadata": {
    "papermill": {
     "duration": 0.039325,
     "end_time": "2025-10-02T19:57:53.849891",
     "exception": false,
     "start_time": "2025-10-02T19:57:53.810566",
     "status": "completed"
    },
    "tags": []
   },
   "outputs": [],
   "source": []
  },
  {
   "cell_type": "code",
   "execution_count": null,
   "id": "c56e5a54",
   "metadata": {
    "papermill": {
     "duration": 0.038803,
     "end_time": "2025-10-02T19:57:53.929768",
     "exception": false,
     "start_time": "2025-10-02T19:57:53.890965",
     "status": "completed"
    },
    "tags": []
   },
   "outputs": [],
   "source": []
  },
  {
   "cell_type": "code",
   "execution_count": null,
   "id": "bbeb9eac",
   "metadata": {
    "papermill": {
     "duration": 0.039065,
     "end_time": "2025-10-02T19:57:54.007959",
     "exception": false,
     "start_time": "2025-10-02T19:57:53.968894",
     "status": "completed"
    },
    "tags": []
   },
   "outputs": [],
   "source": []
  },
  {
   "cell_type": "code",
   "execution_count": null,
   "id": "44c6a36f",
   "metadata": {
    "papermill": {
     "duration": 0.03902,
     "end_time": "2025-10-02T19:57:54.086711",
     "exception": false,
     "start_time": "2025-10-02T19:57:54.047691",
     "status": "completed"
    },
    "tags": []
   },
   "outputs": [],
   "source": []
  },
  {
   "cell_type": "code",
   "execution_count": null,
   "id": "acb9eb40",
   "metadata": {
    "papermill": {
     "duration": 0.04012,
     "end_time": "2025-10-02T19:57:54.165662",
     "exception": false,
     "start_time": "2025-10-02T19:57:54.125542",
     "status": "completed"
    },
    "tags": []
   },
   "outputs": [],
   "source": []
  }
 ],
 "metadata": {
  "kaggle": {
   "accelerator": "nvidiaTeslaT4",
   "dataSources": [
    {
     "databundleVersionId": 12957508,
     "sourceId": 104383,
     "sourceType": "competition"
    },
    {
     "datasetId": 5404413,
     "sourceId": 12932535,
     "sourceType": "datasetVersion"
    },
    {
     "datasetId": 8319386,
     "sourceId": 13132370,
     "sourceType": "datasetVersion"
    },
    {
     "modelId": 368800,
     "modelInstanceId": 347538,
     "sourceId": 426326,
     "sourceType": "modelInstanceVersion"
    }
   ],
   "dockerImageVersionId": 31089,
   "isGpuEnabled": true,
   "isInternetEnabled": false,
   "language": "python",
   "sourceType": "notebook"
  },
  "kernelspec": {
   "display_name": "Python 3",
   "language": "python",
   "name": "python3"
  },
  "language_info": {
   "codemirror_mode": {
    "name": "ipython",
    "version": 3
   },
   "file_extension": ".py",
   "mimetype": "text/x-python",
   "name": "python",
   "nbconvert_exporter": "python",
   "pygments_lexer": "ipython3",
   "version": "3.11.13"
  },
  "papermill": {
   "default_parameters": {},
   "duration": 18791.000175,
   "end_time": "2025-10-02T19:57:57.712638",
   "environment_variables": {},
   "exception": null,
   "input_path": "__notebook__.ipynb",
   "output_path": "__notebook__.ipynb",
   "parameters": {},
   "start_time": "2025-10-02T14:44:46.712463",
   "version": "2.6.0"
  },
  "widgets": {
   "application/vnd.jupyter.widget-state+json": {
    "state": {
     "0055815c9da245ffbc2dc33c2ae48064": {
      "model_module": "@jupyter-widgets/controls",
      "model_module_version": "2.0.0",
      "model_name": "HTMLStyleModel",
      "state": {
       "_model_module": "@jupyter-widgets/controls",
       "_model_module_version": "2.0.0",
       "_model_name": "HTMLStyleModel",
       "_view_count": null,
       "_view_module": "@jupyter-widgets/base",
       "_view_module_version": "2.0.0",
       "_view_name": "StyleView",
       "background": null,
       "description_width": "",
       "font_size": null,
       "text_color": null
      }
     },
     "1084d3391d5945c0b1b45bf32c53b7dd": {
      "model_module": "@jupyter-widgets/controls",
      "model_module_version": "2.0.0",
      "model_name": "FloatProgressModel",
      "state": {
       "_dom_classes": [],
       "_model_module": "@jupyter-widgets/controls",
       "_model_module_version": "2.0.0",
       "_model_name": "FloatProgressModel",
       "_view_count": null,
       "_view_module": "@jupyter-widgets/controls",
       "_view_module_version": "2.0.0",
       "_view_name": "ProgressView",
       "bar_style": "success",
       "description": "",
       "description_allow_html": false,
       "layout": "IPY_MODEL_c32a5299abd74c10aac1c136037ee6c8",
       "max": 359.0,
       "min": 0.0,
       "orientation": "horizontal",
       "style": "IPY_MODEL_ebb80d39286543e58857885f6dcdc16f",
       "tabbable": null,
       "tooltip": null,
       "value": 359.0
      }
     },
     "2a77a4e5972344f1b9dc6e6cfc628d9c": {
      "model_module": "@jupyter-widgets/controls",
      "model_module_version": "2.0.0",
      "model_name": "HTMLModel",
      "state": {
       "_dom_classes": [],
       "_model_module": "@jupyter-widgets/controls",
       "_model_module_version": "2.0.0",
       "_model_name": "HTMLModel",
       "_view_count": null,
       "_view_module": "@jupyter-widgets/controls",
       "_view_module_version": "2.0.0",
       "_view_name": "HTMLView",
       "description": "",
       "description_allow_html": false,
       "layout": "IPY_MODEL_cee6d0eba0854f7a94bccc204a90f525",
       "placeholder": "​",
       "style": "IPY_MODEL_748d8a6095534adcb78ae87c582b6d5c",
       "tabbable": null,
       "tooltip": null,
       "value": "Map: 100%"
      }
     },
     "2bb2c21f75f04140955cceec12f8254d": {
      "model_module": "@jupyter-widgets/controls",
      "model_module_version": "2.0.0",
      "model_name": "HTMLStyleModel",
      "state": {
       "_model_module": "@jupyter-widgets/controls",
       "_model_module_version": "2.0.0",
       "_model_name": "HTMLStyleModel",
       "_view_count": null,
       "_view_module": "@jupyter-widgets/base",
       "_view_module_version": "2.0.0",
       "_view_name": "StyleView",
       "background": null,
       "description_width": "",
       "font_size": null,
       "text_color": null
      }
     },
     "2fe3eb577e9f4ff3ac1ae6311efdf0bb": {
      "model_module": "@jupyter-widgets/controls",
      "model_module_version": "2.0.0",
      "model_name": "HTMLModel",
      "state": {
       "_dom_classes": [],
       "_model_module": "@jupyter-widgets/controls",
       "_model_module_version": "2.0.0",
       "_model_name": "HTMLModel",
       "_view_count": null,
       "_view_module": "@jupyter-widgets/controls",
       "_view_module_version": "2.0.0",
       "_view_name": "HTMLView",
       "description": "",
       "description_allow_html": false,
       "layout": "IPY_MODEL_e16edaff1a484b709720b3573ee83947",
       "placeholder": "​",
       "style": "IPY_MODEL_c36681127b11415d89e3f24fa931856d",
       "tabbable": null,
       "tooltip": null,
       "value": "Map: 100%"
      }
     },
     "373f435c98a94f34aa8384dcd6cf952c": {
      "model_module": "@jupyter-widgets/controls",
      "model_module_version": "2.0.0",
      "model_name": "HTMLModel",
      "state": {
       "_dom_classes": [],
       "_model_module": "@jupyter-widgets/controls",
       "_model_module_version": "2.0.0",
       "_model_name": "HTMLModel",
       "_view_count": null,
       "_view_module": "@jupyter-widgets/controls",
       "_view_module_version": "2.0.0",
       "_view_name": "HTMLView",
       "description": "",
       "description_allow_html": false,
       "layout": "IPY_MODEL_c401ae7ce294474f8715116ec986c06d",
       "placeholder": "​",
       "style": "IPY_MODEL_0055815c9da245ffbc2dc33c2ae48064",
       "tabbable": null,
       "tooltip": null,
       "value": "Loading checkpoint shards: 100%"
      }
     },
     "572748d357cf4561869224cc4b5456b9": {
      "model_module": "@jupyter-widgets/controls",
      "model_module_version": "2.0.0",
      "model_name": "ProgressStyleModel",
      "state": {
       "_model_module": "@jupyter-widgets/controls",
       "_model_module_version": "2.0.0",
       "_model_name": "ProgressStyleModel",
       "_view_count": null,
       "_view_module": "@jupyter-widgets/base",
       "_view_module_version": "2.0.0",
       "_view_name": "StyleView",
       "bar_color": null,
       "description_width": ""
      }
     },
     "5b703d7d0f0e4576a16e5d731e6fea6d": {
      "model_module": "@jupyter-widgets/controls",
      "model_module_version": "2.0.0",
      "model_name": "HTMLModel",
      "state": {
       "_dom_classes": [],
       "_model_module": "@jupyter-widgets/controls",
       "_model_module_version": "2.0.0",
       "_model_name": "HTMLModel",
       "_view_count": null,
       "_view_module": "@jupyter-widgets/controls",
       "_view_module_version": "2.0.0",
       "_view_name": "HTMLView",
       "description": "",
       "description_allow_html": false,
       "layout": "IPY_MODEL_686914d242a749b7a0ab0edf5cd3a4da",
       "placeholder": "​",
       "style": "IPY_MODEL_988483c4aa354919969b4c9ef974a39d",
       "tabbable": null,
       "tooltip": null,
       "value": " 2/2 [01:06&lt;00:00, 32.95s/it]"
      }
     },
     "5e5463d3daf041a58a8cffb6ec1c1e87": {
      "model_module": "@jupyter-widgets/controls",
      "model_module_version": "2.0.0",
      "model_name": "HTMLStyleModel",
      "state": {
       "_model_module": "@jupyter-widgets/controls",
       "_model_module_version": "2.0.0",
       "_model_name": "HTMLStyleModel",
       "_view_count": null,
       "_view_module": "@jupyter-widgets/base",
       "_view_module_version": "2.0.0",
       "_view_name": "StyleView",
       "background": null,
       "description_width": "",
       "font_size": null,
       "text_color": null
      }
     },
     "68632b67753d4f419d4cd2fb5efd7390": {
      "model_module": "@jupyter-widgets/base",
      "model_module_version": "2.0.0",
      "model_name": "LayoutModel",
      "state": {
       "_model_module": "@jupyter-widgets/base",
       "_model_module_version": "2.0.0",
       "_model_name": "LayoutModel",
       "_view_count": null,
       "_view_module": "@jupyter-widgets/base",
       "_view_module_version": "2.0.0",
       "_view_name": "LayoutView",
       "align_content": null,
       "align_items": null,
       "align_self": null,
       "border_bottom": null,
       "border_left": null,
       "border_right": null,
       "border_top": null,
       "bottom": null,
       "display": null,
       "flex": null,
       "flex_flow": null,
       "grid_area": null,
       "grid_auto_columns": null,
       "grid_auto_flow": null,
       "grid_auto_rows": null,
       "grid_column": null,
       "grid_gap": null,
       "grid_row": null,
       "grid_template_areas": null,
       "grid_template_columns": null,
       "grid_template_rows": null,
       "height": null,
       "justify_content": null,
       "justify_items": null,
       "left": null,
       "margin": null,
       "max_height": null,
       "max_width": null,
       "min_height": null,
       "min_width": null,
       "object_fit": null,
       "object_position": null,
       "order": null,
       "overflow": null,
       "padding": null,
       "right": null,
       "top": null,
       "visibility": null,
       "width": null
      }
     },
     "686914d242a749b7a0ab0edf5cd3a4da": {
      "model_module": "@jupyter-widgets/base",
      "model_module_version": "2.0.0",
      "model_name": "LayoutModel",
      "state": {
       "_model_module": "@jupyter-widgets/base",
       "_model_module_version": "2.0.0",
       "_model_name": "LayoutModel",
       "_view_count": null,
       "_view_module": "@jupyter-widgets/base",
       "_view_module_version": "2.0.0",
       "_view_name": "LayoutView",
       "align_content": null,
       "align_items": null,
       "align_self": null,
       "border_bottom": null,
       "border_left": null,
       "border_right": null,
       "border_top": null,
       "bottom": null,
       "display": null,
       "flex": null,
       "flex_flow": null,
       "grid_area": null,
       "grid_auto_columns": null,
       "grid_auto_flow": null,
       "grid_auto_rows": null,
       "grid_column": null,
       "grid_gap": null,
       "grid_row": null,
       "grid_template_areas": null,
       "grid_template_columns": null,
       "grid_template_rows": null,
       "height": null,
       "justify_content": null,
       "justify_items": null,
       "left": null,
       "margin": null,
       "max_height": null,
       "max_width": null,
       "min_height": null,
       "min_width": null,
       "object_fit": null,
       "object_position": null,
       "order": null,
       "overflow": null,
       "padding": null,
       "right": null,
       "top": null,
       "visibility": null,
       "width": null
      }
     },
     "68c7256d0d4c458c9d55dfb3d90b477f": {
      "model_module": "@jupyter-widgets/base",
      "model_module_version": "2.0.0",
      "model_name": "LayoutModel",
      "state": {
       "_model_module": "@jupyter-widgets/base",
       "_model_module_version": "2.0.0",
       "_model_name": "LayoutModel",
       "_view_count": null,
       "_view_module": "@jupyter-widgets/base",
       "_view_module_version": "2.0.0",
       "_view_name": "LayoutView",
       "align_content": null,
       "align_items": null,
       "align_self": null,
       "border_bottom": null,
       "border_left": null,
       "border_right": null,
       "border_top": null,
       "bottom": null,
       "display": null,
       "flex": null,
       "flex_flow": null,
       "grid_area": null,
       "grid_auto_columns": null,
       "grid_auto_flow": null,
       "grid_auto_rows": null,
       "grid_column": null,
       "grid_gap": null,
       "grid_row": null,
       "grid_template_areas": null,
       "grid_template_columns": null,
       "grid_template_rows": null,
       "height": null,
       "justify_content": null,
       "justify_items": null,
       "left": null,
       "margin": null,
       "max_height": null,
       "max_width": null,
       "min_height": null,
       "min_width": null,
       "object_fit": null,
       "object_position": null,
       "order": null,
       "overflow": null,
       "padding": null,
       "right": null,
       "top": null,
       "visibility": null,
       "width": null
      }
     },
     "72a25ecebba740aaa19f96dbfd7d8170": {
      "model_module": "@jupyter-widgets/base",
      "model_module_version": "2.0.0",
      "model_name": "LayoutModel",
      "state": {
       "_model_module": "@jupyter-widgets/base",
       "_model_module_version": "2.0.0",
       "_model_name": "LayoutModel",
       "_view_count": null,
       "_view_module": "@jupyter-widgets/base",
       "_view_module_version": "2.0.0",
       "_view_name": "LayoutView",
       "align_content": null,
       "align_items": null,
       "align_self": null,
       "border_bottom": null,
       "border_left": null,
       "border_right": null,
       "border_top": null,
       "bottom": null,
       "display": null,
       "flex": null,
       "flex_flow": null,
       "grid_area": null,
       "grid_auto_columns": null,
       "grid_auto_flow": null,
       "grid_auto_rows": null,
       "grid_column": null,
       "grid_gap": null,
       "grid_row": null,
       "grid_template_areas": null,
       "grid_template_columns": null,
       "grid_template_rows": null,
       "height": null,
       "justify_content": null,
       "justify_items": null,
       "left": null,
       "margin": null,
       "max_height": null,
       "max_width": null,
       "min_height": null,
       "min_width": null,
       "object_fit": null,
       "object_position": null,
       "order": null,
       "overflow": null,
       "padding": null,
       "right": null,
       "top": null,
       "visibility": null,
       "width": null
      }
     },
     "748d8a6095534adcb78ae87c582b6d5c": {
      "model_module": "@jupyter-widgets/controls",
      "model_module_version": "2.0.0",
      "model_name": "HTMLStyleModel",
      "state": {
       "_model_module": "@jupyter-widgets/controls",
       "_model_module_version": "2.0.0",
       "_model_name": "HTMLStyleModel",
       "_view_count": null,
       "_view_module": "@jupyter-widgets/base",
       "_view_module_version": "2.0.0",
       "_view_name": "StyleView",
       "background": null,
       "description_width": "",
       "font_size": null,
       "text_color": null
      }
     },
     "766081c8758342bbbc8aab3db672be30": {
      "model_module": "@jupyter-widgets/controls",
      "model_module_version": "2.0.0",
      "model_name": "HTMLModel",
      "state": {
       "_dom_classes": [],
       "_model_module": "@jupyter-widgets/controls",
       "_model_module_version": "2.0.0",
       "_model_name": "HTMLModel",
       "_view_count": null,
       "_view_module": "@jupyter-widgets/controls",
       "_view_module_version": "2.0.0",
       "_view_name": "HTMLView",
       "description": "",
       "description_allow_html": false,
       "layout": "IPY_MODEL_f5dc2943041049ef800988877cf71747",
       "placeholder": "​",
       "style": "IPY_MODEL_5e5463d3daf041a58a8cffb6ec1c1e87",
       "tabbable": null,
       "tooltip": null,
       "value": " 119250/119250 [00:29&lt;00:00, 4124.09 examples/s]"
      }
     },
     "95f3771451f844cd9d3a9e0b84f12930": {
      "model_module": "@jupyter-widgets/base",
      "model_module_version": "2.0.0",
      "model_name": "LayoutModel",
      "state": {
       "_model_module": "@jupyter-widgets/base",
       "_model_module_version": "2.0.0",
       "_model_name": "LayoutModel",
       "_view_count": null,
       "_view_module": "@jupyter-widgets/base",
       "_view_module_version": "2.0.0",
       "_view_name": "LayoutView",
       "align_content": null,
       "align_items": null,
       "align_self": null,
       "border_bottom": null,
       "border_left": null,
       "border_right": null,
       "border_top": null,
       "bottom": null,
       "display": null,
       "flex": null,
       "flex_flow": null,
       "grid_area": null,
       "grid_auto_columns": null,
       "grid_auto_flow": null,
       "grid_auto_rows": null,
       "grid_column": null,
       "grid_gap": null,
       "grid_row": null,
       "grid_template_areas": null,
       "grid_template_columns": null,
       "grid_template_rows": null,
       "height": null,
       "justify_content": null,
       "justify_items": null,
       "left": null,
       "margin": null,
       "max_height": null,
       "max_width": null,
       "min_height": null,
       "min_width": null,
       "object_fit": null,
       "object_position": null,
       "order": null,
       "overflow": null,
       "padding": null,
       "right": null,
       "top": null,
       "visibility": null,
       "width": null
      }
     },
     "9733f14337214798b3f3368b84b8a1d9": {
      "model_module": "@jupyter-widgets/controls",
      "model_module_version": "2.0.0",
      "model_name": "ProgressStyleModel",
      "state": {
       "_model_module": "@jupyter-widgets/controls",
       "_model_module_version": "2.0.0",
       "_model_name": "ProgressStyleModel",
       "_view_count": null,
       "_view_module": "@jupyter-widgets/base",
       "_view_module_version": "2.0.0",
       "_view_name": "StyleView",
       "bar_color": null,
       "description_width": ""
      }
     },
     "988483c4aa354919969b4c9ef974a39d": {
      "model_module": "@jupyter-widgets/controls",
      "model_module_version": "2.0.0",
      "model_name": "HTMLStyleModel",
      "state": {
       "_model_module": "@jupyter-widgets/controls",
       "_model_module_version": "2.0.0",
       "_model_name": "HTMLStyleModel",
       "_view_count": null,
       "_view_module": "@jupyter-widgets/base",
       "_view_module_version": "2.0.0",
       "_view_name": "StyleView",
       "background": null,
       "description_width": "",
       "font_size": null,
       "text_color": null
      }
     },
     "9ffac15892c24a279a96b399ce9380c5": {
      "model_module": "@jupyter-widgets/controls",
      "model_module_version": "2.0.0",
      "model_name": "HBoxModel",
      "state": {
       "_dom_classes": [],
       "_model_module": "@jupyter-widgets/controls",
       "_model_module_version": "2.0.0",
       "_model_name": "HBoxModel",
       "_view_count": null,
       "_view_module": "@jupyter-widgets/controls",
       "_view_module_version": "2.0.0",
       "_view_name": "HBoxView",
       "box_style": "",
       "children": [
        "IPY_MODEL_373f435c98a94f34aa8384dcd6cf952c",
        "IPY_MODEL_f8dad39ffb3d4017a751e936fcd5f13c",
        "IPY_MODEL_5b703d7d0f0e4576a16e5d731e6fea6d"
       ],
       "layout": "IPY_MODEL_68632b67753d4f419d4cd2fb5efd7390",
       "tabbable": null,
       "tooltip": null
      }
     },
     "a6d59c75c51345da83ee5e1c51e3b585": {
      "model_module": "@jupyter-widgets/controls",
      "model_module_version": "2.0.0",
      "model_name": "HBoxModel",
      "state": {
       "_dom_classes": [],
       "_model_module": "@jupyter-widgets/controls",
       "_model_module_version": "2.0.0",
       "_model_name": "HBoxModel",
       "_view_count": null,
       "_view_module": "@jupyter-widgets/controls",
       "_view_module_version": "2.0.0",
       "_view_name": "HBoxView",
       "box_style": "",
       "children": [
        "IPY_MODEL_2fe3eb577e9f4ff3ac1ae6311efdf0bb",
        "IPY_MODEL_1084d3391d5945c0b1b45bf32c53b7dd",
        "IPY_MODEL_f5b18adbc4e1437f969ec1efa7bab43a"
       ],
       "layout": "IPY_MODEL_fd9558f8fa1940988dc9674a07305926",
       "tabbable": null,
       "tooltip": null
      }
     },
     "c32a5299abd74c10aac1c136037ee6c8": {
      "model_module": "@jupyter-widgets/base",
      "model_module_version": "2.0.0",
      "model_name": "LayoutModel",
      "state": {
       "_model_module": "@jupyter-widgets/base",
       "_model_module_version": "2.0.0",
       "_model_name": "LayoutModel",
       "_view_count": null,
       "_view_module": "@jupyter-widgets/base",
       "_view_module_version": "2.0.0",
       "_view_name": "LayoutView",
       "align_content": null,
       "align_items": null,
       "align_self": null,
       "border_bottom": null,
       "border_left": null,
       "border_right": null,
       "border_top": null,
       "bottom": null,
       "display": null,
       "flex": null,
       "flex_flow": null,
       "grid_area": null,
       "grid_auto_columns": null,
       "grid_auto_flow": null,
       "grid_auto_rows": null,
       "grid_column": null,
       "grid_gap": null,
       "grid_row": null,
       "grid_template_areas": null,
       "grid_template_columns": null,
       "grid_template_rows": null,
       "height": null,
       "justify_content": null,
       "justify_items": null,
       "left": null,
       "margin": null,
       "max_height": null,
       "max_width": null,
       "min_height": null,
       "min_width": null,
       "object_fit": null,
       "object_position": null,
       "order": null,
       "overflow": null,
       "padding": null,
       "right": null,
       "top": null,
       "visibility": null,
       "width": null
      }
     },
     "c36681127b11415d89e3f24fa931856d": {
      "model_module": "@jupyter-widgets/controls",
      "model_module_version": "2.0.0",
      "model_name": "HTMLStyleModel",
      "state": {
       "_model_module": "@jupyter-widgets/controls",
       "_model_module_version": "2.0.0",
       "_model_name": "HTMLStyleModel",
       "_view_count": null,
       "_view_module": "@jupyter-widgets/base",
       "_view_module_version": "2.0.0",
       "_view_name": "StyleView",
       "background": null,
       "description_width": "",
       "font_size": null,
       "text_color": null
      }
     },
     "c401ae7ce294474f8715116ec986c06d": {
      "model_module": "@jupyter-widgets/base",
      "model_module_version": "2.0.0",
      "model_name": "LayoutModel",
      "state": {
       "_model_module": "@jupyter-widgets/base",
       "_model_module_version": "2.0.0",
       "_model_name": "LayoutModel",
       "_view_count": null,
       "_view_module": "@jupyter-widgets/base",
       "_view_module_version": "2.0.0",
       "_view_name": "LayoutView",
       "align_content": null,
       "align_items": null,
       "align_self": null,
       "border_bottom": null,
       "border_left": null,
       "border_right": null,
       "border_top": null,
       "bottom": null,
       "display": null,
       "flex": null,
       "flex_flow": null,
       "grid_area": null,
       "grid_auto_columns": null,
       "grid_auto_flow": null,
       "grid_auto_rows": null,
       "grid_column": null,
       "grid_gap": null,
       "grid_row": null,
       "grid_template_areas": null,
       "grid_template_columns": null,
       "grid_template_rows": null,
       "height": null,
       "justify_content": null,
       "justify_items": null,
       "left": null,
       "margin": null,
       "max_height": null,
       "max_width": null,
       "min_height": null,
       "min_width": null,
       "object_fit": null,
       "object_position": null,
       "order": null,
       "overflow": null,
       "padding": null,
       "right": null,
       "top": null,
       "visibility": null,
       "width": null
      }
     },
     "c5dc6ddbf76e41a2822ef1414756cb41": {
      "model_module": "@jupyter-widgets/base",
      "model_module_version": "2.0.0",
      "model_name": "LayoutModel",
      "state": {
       "_model_module": "@jupyter-widgets/base",
       "_model_module_version": "2.0.0",
       "_model_name": "LayoutModel",
       "_view_count": null,
       "_view_module": "@jupyter-widgets/base",
       "_view_module_version": "2.0.0",
       "_view_name": "LayoutView",
       "align_content": null,
       "align_items": null,
       "align_self": null,
       "border_bottom": null,
       "border_left": null,
       "border_right": null,
       "border_top": null,
       "bottom": null,
       "display": null,
       "flex": null,
       "flex_flow": null,
       "grid_area": null,
       "grid_auto_columns": null,
       "grid_auto_flow": null,
       "grid_auto_rows": null,
       "grid_column": null,
       "grid_gap": null,
       "grid_row": null,
       "grid_template_areas": null,
       "grid_template_columns": null,
       "grid_template_rows": null,
       "height": null,
       "justify_content": null,
       "justify_items": null,
       "left": null,
       "margin": null,
       "max_height": null,
       "max_width": null,
       "min_height": null,
       "min_width": null,
       "object_fit": null,
       "object_position": null,
       "order": null,
       "overflow": null,
       "padding": null,
       "right": null,
       "top": null,
       "visibility": null,
       "width": null
      }
     },
     "cee6d0eba0854f7a94bccc204a90f525": {
      "model_module": "@jupyter-widgets/base",
      "model_module_version": "2.0.0",
      "model_name": "LayoutModel",
      "state": {
       "_model_module": "@jupyter-widgets/base",
       "_model_module_version": "2.0.0",
       "_model_name": "LayoutModel",
       "_view_count": null,
       "_view_module": "@jupyter-widgets/base",
       "_view_module_version": "2.0.0",
       "_view_name": "LayoutView",
       "align_content": null,
       "align_items": null,
       "align_self": null,
       "border_bottom": null,
       "border_left": null,
       "border_right": null,
       "border_top": null,
       "bottom": null,
       "display": null,
       "flex": null,
       "flex_flow": null,
       "grid_area": null,
       "grid_auto_columns": null,
       "grid_auto_flow": null,
       "grid_auto_rows": null,
       "grid_column": null,
       "grid_gap": null,
       "grid_row": null,
       "grid_template_areas": null,
       "grid_template_columns": null,
       "grid_template_rows": null,
       "height": null,
       "justify_content": null,
       "justify_items": null,
       "left": null,
       "margin": null,
       "max_height": null,
       "max_width": null,
       "min_height": null,
       "min_width": null,
       "object_fit": null,
       "object_position": null,
       "order": null,
       "overflow": null,
       "padding": null,
       "right": null,
       "top": null,
       "visibility": null,
       "width": null
      }
     },
     "d760f9e1bea94274a5e502b1d6f309c1": {
      "model_module": "@jupyter-widgets/controls",
      "model_module_version": "2.0.0",
      "model_name": "HBoxModel",
      "state": {
       "_dom_classes": [],
       "_model_module": "@jupyter-widgets/controls",
       "_model_module_version": "2.0.0",
       "_model_name": "HBoxModel",
       "_view_count": null,
       "_view_module": "@jupyter-widgets/controls",
       "_view_module_version": "2.0.0",
       "_view_name": "HBoxView",
       "box_style": "",
       "children": [
        "IPY_MODEL_2a77a4e5972344f1b9dc6e6cfc628d9c",
        "IPY_MODEL_f183c30ed405426db8a5c25bd68ce54d",
        "IPY_MODEL_766081c8758342bbbc8aab3db672be30"
       ],
       "layout": "IPY_MODEL_c5dc6ddbf76e41a2822ef1414756cb41",
       "tabbable": null,
       "tooltip": null
      }
     },
     "e16edaff1a484b709720b3573ee83947": {
      "model_module": "@jupyter-widgets/base",
      "model_module_version": "2.0.0",
      "model_name": "LayoutModel",
      "state": {
       "_model_module": "@jupyter-widgets/base",
       "_model_module_version": "2.0.0",
       "_model_name": "LayoutModel",
       "_view_count": null,
       "_view_module": "@jupyter-widgets/base",
       "_view_module_version": "2.0.0",
       "_view_name": "LayoutView",
       "align_content": null,
       "align_items": null,
       "align_self": null,
       "border_bottom": null,
       "border_left": null,
       "border_right": null,
       "border_top": null,
       "bottom": null,
       "display": null,
       "flex": null,
       "flex_flow": null,
       "grid_area": null,
       "grid_auto_columns": null,
       "grid_auto_flow": null,
       "grid_auto_rows": null,
       "grid_column": null,
       "grid_gap": null,
       "grid_row": null,
       "grid_template_areas": null,
       "grid_template_columns": null,
       "grid_template_rows": null,
       "height": null,
       "justify_content": null,
       "justify_items": null,
       "left": null,
       "margin": null,
       "max_height": null,
       "max_width": null,
       "min_height": null,
       "min_width": null,
       "object_fit": null,
       "object_position": null,
       "order": null,
       "overflow": null,
       "padding": null,
       "right": null,
       "top": null,
       "visibility": null,
       "width": null
      }
     },
     "ebb80d39286543e58857885f6dcdc16f": {
      "model_module": "@jupyter-widgets/controls",
      "model_module_version": "2.0.0",
      "model_name": "ProgressStyleModel",
      "state": {
       "_model_module": "@jupyter-widgets/controls",
       "_model_module_version": "2.0.0",
       "_model_name": "ProgressStyleModel",
       "_view_count": null,
       "_view_module": "@jupyter-widgets/base",
       "_view_module_version": "2.0.0",
       "_view_name": "StyleView",
       "bar_color": null,
       "description_width": ""
      }
     },
     "f183c30ed405426db8a5c25bd68ce54d": {
      "model_module": "@jupyter-widgets/controls",
      "model_module_version": "2.0.0",
      "model_name": "FloatProgressModel",
      "state": {
       "_dom_classes": [],
       "_model_module": "@jupyter-widgets/controls",
       "_model_module_version": "2.0.0",
       "_model_name": "FloatProgressModel",
       "_view_count": null,
       "_view_module": "@jupyter-widgets/controls",
       "_view_module_version": "2.0.0",
       "_view_name": "ProgressView",
       "bar_style": "success",
       "description": "",
       "description_allow_html": false,
       "layout": "IPY_MODEL_72a25ecebba740aaa19f96dbfd7d8170",
       "max": 119250.0,
       "min": 0.0,
       "orientation": "horizontal",
       "style": "IPY_MODEL_9733f14337214798b3f3368b84b8a1d9",
       "tabbable": null,
       "tooltip": null,
       "value": 119250.0
      }
     },
     "f5b18adbc4e1437f969ec1efa7bab43a": {
      "model_module": "@jupyter-widgets/controls",
      "model_module_version": "2.0.0",
      "model_name": "HTMLModel",
      "state": {
       "_dom_classes": [],
       "_model_module": "@jupyter-widgets/controls",
       "_model_module_version": "2.0.0",
       "_model_name": "HTMLModel",
       "_view_count": null,
       "_view_module": "@jupyter-widgets/controls",
       "_view_module_version": "2.0.0",
       "_view_name": "HTMLView",
       "description": "",
       "description_allow_html": false,
       "layout": "IPY_MODEL_95f3771451f844cd9d3a9e0b84f12930",
       "placeholder": "​",
       "style": "IPY_MODEL_2bb2c21f75f04140955cceec12f8254d",
       "tabbable": null,
       "tooltip": null,
       "value": " 359/359 [00:00&lt;00:00, 3771.64 examples/s]"
      }
     },
     "f5dc2943041049ef800988877cf71747": {
      "model_module": "@jupyter-widgets/base",
      "model_module_version": "2.0.0",
      "model_name": "LayoutModel",
      "state": {
       "_model_module": "@jupyter-widgets/base",
       "_model_module_version": "2.0.0",
       "_model_name": "LayoutModel",
       "_view_count": null,
       "_view_module": "@jupyter-widgets/base",
       "_view_module_version": "2.0.0",
       "_view_name": "LayoutView",
       "align_content": null,
       "align_items": null,
       "align_self": null,
       "border_bottom": null,
       "border_left": null,
       "border_right": null,
       "border_top": null,
       "bottom": null,
       "display": null,
       "flex": null,
       "flex_flow": null,
       "grid_area": null,
       "grid_auto_columns": null,
       "grid_auto_flow": null,
       "grid_auto_rows": null,
       "grid_column": null,
       "grid_gap": null,
       "grid_row": null,
       "grid_template_areas": null,
       "grid_template_columns": null,
       "grid_template_rows": null,
       "height": null,
       "justify_content": null,
       "justify_items": null,
       "left": null,
       "margin": null,
       "max_height": null,
       "max_width": null,
       "min_height": null,
       "min_width": null,
       "object_fit": null,
       "object_position": null,
       "order": null,
       "overflow": null,
       "padding": null,
       "right": null,
       "top": null,
       "visibility": null,
       "width": null
      }
     },
     "f8dad39ffb3d4017a751e936fcd5f13c": {
      "model_module": "@jupyter-widgets/controls",
      "model_module_version": "2.0.0",
      "model_name": "FloatProgressModel",
      "state": {
       "_dom_classes": [],
       "_model_module": "@jupyter-widgets/controls",
       "_model_module_version": "2.0.0",
       "_model_name": "FloatProgressModel",
       "_view_count": null,
       "_view_module": "@jupyter-widgets/controls",
       "_view_module_version": "2.0.0",
       "_view_name": "ProgressView",
       "bar_style": "success",
       "description": "",
       "description_allow_html": false,
       "layout": "IPY_MODEL_68c7256d0d4c458c9d55dfb3d90b477f",
       "max": 2.0,
       "min": 0.0,
       "orientation": "horizontal",
       "style": "IPY_MODEL_572748d357cf4561869224cc4b5456b9",
       "tabbable": null,
       "tooltip": null,
       "value": 2.0
      }
     },
     "fd9558f8fa1940988dc9674a07305926": {
      "model_module": "@jupyter-widgets/base",
      "model_module_version": "2.0.0",
      "model_name": "LayoutModel",
      "state": {
       "_model_module": "@jupyter-widgets/base",
       "_model_module_version": "2.0.0",
       "_model_name": "LayoutModel",
       "_view_count": null,
       "_view_module": "@jupyter-widgets/base",
       "_view_module_version": "2.0.0",
       "_view_name": "LayoutView",
       "align_content": null,
       "align_items": null,
       "align_self": null,
       "border_bottom": null,
       "border_left": null,
       "border_right": null,
       "border_top": null,
       "bottom": null,
       "display": null,
       "flex": null,
       "flex_flow": null,
       "grid_area": null,
       "grid_auto_columns": null,
       "grid_auto_flow": null,
       "grid_auto_rows": null,
       "grid_column": null,
       "grid_gap": null,
       "grid_row": null,
       "grid_template_areas": null,
       "grid_template_columns": null,
       "grid_template_rows": null,
       "height": null,
       "justify_content": null,
       "justify_items": null,
       "left": null,
       "margin": null,
       "max_height": null,
       "max_width": null,
       "min_height": null,
       "min_width": null,
       "object_fit": null,
       "object_position": null,
       "order": null,
       "overflow": null,
       "padding": null,
       "right": null,
       "top": null,
       "visibility": null,
       "width": null
      }
     }
    },
    "version_major": 2,
    "version_minor": 0
   }
  }
 },
 "nbformat": 4,
 "nbformat_minor": 5
}
