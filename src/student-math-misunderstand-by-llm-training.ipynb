{
 "cells": [
  {
   "cell_type": "markdown",
   "id": "dc69f325",
   "metadata": {
    "papermill": {
     "duration": 0.02032,
     "end_time": "2025-09-29T16:40:52.632006",
     "exception": false,
     "start_time": "2025-09-29T16:40:52.611686",
     "status": "completed"
    },
    "tags": []
   },
   "source": [
    "# Kaggle Competition Info\n",
    "In this competition, you’ll develop an NLP model driven by ML to accurately predict students’ potential math misconceptions based on student explanations in open-ended responses. This solution will suggest candidate misconceptions for these explanations, making it easier for teachers to identify and address students’ incorrect thinking, which is critical to improving student math learning.  \n",
    "## Offical Link\n",
    "https://www.kaggle.com/competitions/map-charting-student-math-misunderstandings "
   ]
  },
  {
   "cell_type": "markdown",
   "id": "6f3aaed7",
   "metadata": {
    "papermill": {
     "duration": 0.017659,
     "end_time": "2025-09-29T16:40:52.666885",
     "exception": false,
     "start_time": "2025-09-29T16:40:52.649226",
     "status": "completed"
    },
    "tags": []
   },
   "source": [
    "# Recommand install package first at Add-ons --> Install Dependence\n",
    "\n",
    "```python\n",
    "!pip install -U bitsandbytes==0.47.0\n",
    "!pip install -U peft==0.17.0\n",
    "!pip install -U trl==0.21.0\n",
    "!pip install -U accelerate==1.10.0\n",
    "!pip install transformers==4.55.0\n",
    "!pip install langchain==0.3.27\n",
    "!pip install -U langchain-core==0.3.74\n",
    "!pip install langchain-text-splitters==0.3.9\n",
    "!pip install langchain-community==0.3.27\n",
    "!pip install -U deepeval==3.3.9\n",
    "```"
   ]
  },
  {
   "cell_type": "code",
   "execution_count": 1,
   "id": "bcb8e921",
   "metadata": {
    "execution": {
     "iopub.execute_input": "2025-09-29T16:40:52.702179Z",
     "iopub.status.busy": "2025-09-29T16:40:52.701961Z",
     "iopub.status.idle": "2025-09-29T16:41:12.930872Z",
     "shell.execute_reply": "2025-09-29T16:41:12.929860Z"
    },
    "papermill": {
     "duration": 20.248019,
     "end_time": "2025-09-29T16:41:12.932340",
     "exception": false,
     "start_time": "2025-09-29T16:40:52.684321",
     "status": "completed"
    },
    "scrolled": true,
    "tags": []
   },
   "outputs": [
    {
     "name": "stdout",
     "output_type": "stream",
     "text": [
      "Looking in links: file:///kaggle/input/universal-llm-install-package2/V9/transformers-4.45.2-py3-none-any.whl\r\n",
      "Requirement already satisfied: transformers in /usr/local/lib/python3.11/dist-packages (4.52.4)\r\n",
      "Looking in links: file:///kaggle/input/universal-llm-install-package2/V9/accelerate-1.0.1-py3-none-any.whl\r\n",
      "Requirement already satisfied: accelerate in /usr/local/lib/python3.11/dist-packages (1.8.1)\r\n",
      "Looking in links: file:///kaggle/input/universal-llm-install-package2/V9/trl-0.11.4-py3-none-any.whl\r\n",
      "Processing /kaggle/input/universal-llm-install-package2/V9/trl-0.11.4-py3-none-any.whl\r\n",
      "Installing collected packages: trl\r\n",
      "Successfully installed trl-0.11.4\r\n",
      "Looking in links: file:///kaggle/input/universal-llm-install-package2/V9/peft-0.14.0-py3-none-any.whl\r\n",
      "Requirement already satisfied: peft in /usr/local/lib/python3.11/dist-packages (0.15.2)\r\n",
      "Looking in links: file:///kaggle/input/universal-llm-install-package2/V9/bitsandbytes-0.46.1-py3-none-manylinux_2_24_x86_64.whl\r\n",
      "Processing /kaggle/input/universal-llm-install-package2/V9/bitsandbytes-0.46.1-py3-none-manylinux_2_24_x86_64.whl\r\n",
      "Installing collected packages: bitsandbytes\r\n",
      "Successfully installed bitsandbytes-0.46.1\r\n",
      "Looking in links: file:///kaggle/input/universal-llm-install-package2/V9/langchain-0.3.3-py3-none-any.whl\r\n",
      "Requirement already satisfied: langchain in /usr/local/lib/python3.11/dist-packages (0.3.26)\r\n",
      "Looking in links: file:///kaggle/input/universal-llm-install-package2/V9/langchain_core-0.3.12-py3-none-any.whl\r\n",
      "Requirement already satisfied: langchain_core in /usr/local/lib/python3.11/dist-packages (0.3.66)\r\n",
      "Looking in links: file:///kaggle/input/universal-llm-install-package2/V9/langchain_text_splitters-0.3.0-py3-none-any.whl\r\n",
      "Requirement already satisfied: langchain_text_splitters in /usr/local/lib/python3.11/dist-packages (0.3.8)\r\n",
      "Looking in links: file:///kaggle/input/universal-llm-install-package2/V9/langchain_community-0.3.2-py3-none-any.whl\r\n",
      "Processing /kaggle/input/universal-llm-install-package2/V9/langchain_community-0.3.2-py3-none-any.whl\r\n",
      "Installing collected packages: langchain_community\r\n",
      "Successfully installed langchain_community-0.3.2\r\n"
     ]
    }
   ],
   "source": [
    "import kagglehub\n",
    "\n",
    "DEBUG = False#True\n",
    "\n",
    "if DEBUG is True:\n",
    "    !pip install git+https://github.com/huggingface/transformers.git  # install transformer from source\n",
    "    # !pip install --upgrade torch datasets accelerate peft bitsandbytes trl\n",
    "    # !pip install --upgrade accelerate peft bitsandbytes trl\n",
    "    !pip install --upgrade datasets accelerate  # add datasets, accelerate , bitsndbytes\n",
    "    # !pip install -U bitsandbytes==0.47.0\n",
    "    # !pip install -U peft==0.17.0\n",
    "    # !pip install -U trl==0.21.0\n",
    "    !pip install --upgrade peft trl\n",
    "    # !pip install -U accelerate==1.10.0\n",
    "    # !pip install transformers==4.55.0\n",
    "    !pip install langchain==0.3.27\n",
    "    !pip install -U langchain-core==0.3.74\n",
    "    !pip install langchain-text-splitters==0.3.9\n",
    "    !pip install langchain-community==0.3.27\n",
    "    !pip install -U deepeval==3.3.9\n",
    "    !pip install protobuf==4.25.8 #4.49.0     # 6.30.2      #==3.20.3 #4.49.0\n",
    "    !pip install triton==3.0.0   # avoid load LLM error\n",
    "    !pip install --upgrade bitsandbytes\n",
    "\n",
    "else:\n",
    "    # package = kagglehub.package_import(\"/johnsonhk88/universal-llm-install-package2\")\n",
    "    # installDir = \"/kaggle/input/universal-llm-install-package2/V7\" #\"/kaggle/input/universal-llm-install-package2/V7\"\n",
    "    installDir = \"/kaggle/input/universal-llm-install-package2/V9\"\n",
    "    # installDir2 =\"/kaggle/input/deepeval-open-source-llm-evaluation-framework\"\n",
    "    !pip install transformers --no-index --no-deps --find-links=file://{installDir}/transformers-4.45.2-py3-none-any.whl\n",
    "    !pip install -U accelerate --no-index --no-deps --find-links=file://{installDir}/accelerate-1.0.1-py3-none-any.whl\n",
    "    !pip install -U trl --no-index --no-deps --find-links=file://{installDir}/trl-0.11.4-py3-none-any.whl\n",
    "    !pip install -U peft --no-index --no-deps --find-links=file://{installDir}/peft-0.14.0-py3-none-any.whl\n",
    "    !pip install  bitsandbytes --no-index --no-deps --find-links=file://{installDir}/bitsandbytes-0.46.1-py3-none-manylinux_2_24_x86_64.whl\n",
    "    \n",
    "    !pip install -U langchain --no-index  --no-deps --find-links=file://{installDir}/langchain-0.3.3-py3-none-any.whl\n",
    "    !pip install -U langchain_core --no-index  --no-deps --find-links=file://{installDir}/langchain_core-0.3.12-py3-none-any.whl\n",
    "    !pip install -U langchain_text_splitters  --no-index  --no-deps  --find-links=file://{installDir}/langchain_text_splitters-0.3.0-py3-none-any.whl\n",
    "    !pip install -U langchain_community  --no-index  --no-deps   --find-links=file://{installDir}/langchain_community-0.3.2-py3-none-any.whl\n",
    "    # !pip install -U triton  --no-index --no-deps  --find-links=file://{installDir}/triton-3.4.0-cp311-cp311-manylinux_2_27_x86_64.manylinux_2_28_x86_64.whl\n",
    "    # !pip install -U protobuf  --no-index  --no-deps  --find-links=file://{installDir}/protobuf-4.25.8-cp37-abi3-manylinux2014_x86_64.whl  \n",
    "    \n",
    "    # !pip install -U vllm   --no-index --find-links=file:///kaggle/input/vllm-inference/\n",
    "\n"
   ]
  },
  {
   "cell_type": "code",
   "execution_count": 2,
   "id": "8695dcd7",
   "metadata": {
    "execution": {
     "iopub.execute_input": "2025-09-29T16:41:13.011781Z",
     "iopub.status.busy": "2025-09-29T16:41:13.011453Z",
     "iopub.status.idle": "2025-09-29T16:41:13.015201Z",
     "shell.execute_reply": "2025-09-29T16:41:13.014634Z"
    },
    "papermill": {
     "duration": 0.065543,
     "end_time": "2025-09-29T16:41:13.016318",
     "exception": false,
     "start_time": "2025-09-29T16:41:12.950775",
     "status": "completed"
    },
    "tags": []
   },
   "outputs": [],
   "source": [
    "# !pip install triton==3.0.0\n",
    "# !pip install triton==3.3.0"
   ]
  },
  {
   "cell_type": "code",
   "execution_count": 3,
   "id": "ad687aaa",
   "metadata": {
    "execution": {
     "iopub.execute_input": "2025-09-29T16:41:13.058565Z",
     "iopub.status.busy": "2025-09-29T16:41:13.058336Z",
     "iopub.status.idle": "2025-09-29T16:41:13.061860Z",
     "shell.execute_reply": "2025-09-29T16:41:13.061257Z"
    },
    "papermill": {
     "duration": 0.025894,
     "end_time": "2025-09-29T16:41:13.063131",
     "exception": false,
     "start_time": "2025-09-29T16:41:13.037237",
     "status": "completed"
    },
    "scrolled": true,
    "tags": []
   },
   "outputs": [],
   "source": [
    "# !pip install deepspeed==0.14.5"
   ]
  },
  {
   "cell_type": "code",
   "execution_count": 4,
   "id": "8c377662",
   "metadata": {
    "execution": {
     "iopub.execute_input": "2025-09-29T16:41:13.105435Z",
     "iopub.status.busy": "2025-09-29T16:41:13.105203Z",
     "iopub.status.idle": "2025-09-29T16:41:29.039455Z",
     "shell.execute_reply": "2025-09-29T16:41:29.038841Z"
    },
    "papermill": {
     "duration": 15.957134,
     "end_time": "2025-09-29T16:41:29.040831",
     "exception": false,
     "start_time": "2025-09-29T16:41:13.083697",
     "status": "completed"
    },
    "tags": []
   },
   "outputs": [],
   "source": [
    "import numpy as np # linear algebra\n",
    "import pandas as pd # data processing, CSV file I/O (e.g. pd.read_csv)\n",
    "from sklearn.preprocessing import LabelEncoder\n",
    "from sklearn.model_selection import train_test_split\n",
    "\n",
    "import os, time , gc , json\n",
    "import numpy as np # linear algebra\n",
    "import pandas as pd # data processing, CSV file I/O (e.g. pd.read_csv)\n",
    "import matplotlib.pyplot as plt\n",
    "import seaborn as sns\n",
    "\n",
    "import torch\n",
    "from torch import nn\n",
    "import transformers\n",
    "\n",
    "\n"
   ]
  },
  {
   "cell_type": "code",
   "execution_count": 5,
   "id": "332e7f27",
   "metadata": {
    "execution": {
     "iopub.execute_input": "2025-09-29T16:41:29.078299Z",
     "iopub.status.busy": "2025-09-29T16:41:29.077939Z",
     "iopub.status.idle": "2025-09-29T16:41:29.081181Z",
     "shell.execute_reply": "2025-09-29T16:41:29.080519Z"
    },
    "papermill": {
     "duration": 0.022527,
     "end_time": "2025-09-29T16:41:29.082222",
     "exception": false,
     "start_time": "2025-09-29T16:41:29.059695",
     "status": "completed"
    },
    "tags": []
   },
   "outputs": [],
   "source": [
    "# !pip install --upgrade imbalanced-learn\n",
    "# !pip install --upgrade scikit-learn"
   ]
  },
  {
   "cell_type": "code",
   "execution_count": 6,
   "id": "286156ac",
   "metadata": {
    "execution": {
     "iopub.execute_input": "2025-09-29T16:41:29.118232Z",
     "iopub.status.busy": "2025-09-29T16:41:29.118032Z",
     "iopub.status.idle": "2025-09-29T16:41:29.120714Z",
     "shell.execute_reply": "2025-09-29T16:41:29.120248Z"
    },
    "papermill": {
     "duration": 0.021828,
     "end_time": "2025-09-29T16:41:29.121697",
     "exception": false,
     "start_time": "2025-09-29T16:41:29.099869",
     "status": "completed"
    },
    "scrolled": true,
    "tags": []
   },
   "outputs": [],
   "source": [
    "# !pip install trl==0.15.0\n",
    "# from imblearn.over_sampling import SMOTE\n",
    "# from collections import Counte"
   ]
  },
  {
   "cell_type": "code",
   "execution_count": 7,
   "id": "381a939f",
   "metadata": {
    "execution": {
     "iopub.execute_input": "2025-09-29T16:41:29.157624Z",
     "iopub.status.busy": "2025-09-29T16:41:29.157421Z",
     "iopub.status.idle": "2025-09-29T16:41:29.167901Z",
     "shell.execute_reply": "2025-09-29T16:41:29.167215Z"
    },
    "papermill": {
     "duration": 0.029898,
     "end_time": "2025-09-29T16:41:29.169095",
     "exception": false,
     "start_time": "2025-09-29T16:41:29.139197",
     "status": "completed"
    },
    "tags": []
   },
   "outputs": [
    {
     "data": {
      "text/plain": [
       "'0.11.4'"
      ]
     },
     "execution_count": 7,
     "metadata": {},
     "output_type": "execute_result"
    }
   ],
   "source": [
    "import trl\n",
    "trl.__version__"
   ]
  },
  {
   "cell_type": "code",
   "execution_count": 8,
   "id": "c55dd492",
   "metadata": {
    "execution": {
     "iopub.execute_input": "2025-09-29T16:41:29.209517Z",
     "iopub.status.busy": "2025-09-29T16:41:29.208838Z",
     "iopub.status.idle": "2025-09-29T16:42:00.645079Z",
     "shell.execute_reply": "2025-09-29T16:42:00.644486Z"
    },
    "papermill": {
     "duration": 31.45729,
     "end_time": "2025-09-29T16:42:00.646461",
     "exception": false,
     "start_time": "2025-09-29T16:41:29.189171",
     "status": "completed"
    },
    "tags": []
   },
   "outputs": [
    {
     "name": "stderr",
     "output_type": "stream",
     "text": [
      "2025-09-29 16:41:34.560420: E external/local_xla/xla/stream_executor/cuda/cuda_fft.cc:477] Unable to register cuFFT factory: Attempting to register factory for plugin cuFFT when one has already been registered\n",
      "WARNING: All log messages before absl::InitializeLog() is called are written to STDERR\n",
      "E0000 00:00:1759164094.951838      19 cuda_dnn.cc:8310] Unable to register cuDNN factory: Attempting to register factory for plugin cuDNN when one has already been registered\n",
      "E0000 00:00:1759164095.063679      19 cuda_blas.cc:1418] Unable to register cuBLAS factory: Attempting to register factory for plugin cuBLAS when one has already been registered\n"
     ]
    }
   ],
   "source": [
    "import torch\n",
    "from sklearn.model_selection import train_test_split\n",
    "\n",
    "from transformers import (AutoTokenizer, \n",
    "                          BitsAndBytesConfig, \n",
    "                          AutoModelForCausalLM,\n",
    "                          AutoModelForSequenceClassification,\n",
    "                         TrainingArguments)\n",
    "\n",
    "from datasets import Dataset, DatasetDict, load_dataset\n",
    "\n",
    "\n",
    "# Fine tuning \n",
    "from trl import SFTTrainer, SFTConfig\n",
    "from peft import (LoraConfig, \n",
    "                    PeftModel, \n",
    "                    get_peft_model)\n",
    "                    # prepare_model_for_kbit_training)  #prepare_model_for_int8_training deprecated \n",
    "\n",
    "from sklearn.metrics import (classification_report, ConfusionMatrixDisplay, log_loss,\n",
    "                             f1_score, accuracy_score, precision_score, recall_score)"
   ]
  },
  {
   "cell_type": "code",
   "execution_count": 9,
   "id": "72853f67",
   "metadata": {
    "_cell_guid": "b1076dfc-b9ad-4769-8c92-a6c4dae69d19",
    "_uuid": "8f2839f25d086af736a60e9eeb907d3b93b6e0e5",
    "execution": {
     "iopub.execute_input": "2025-09-29T16:42:00.684681Z",
     "iopub.status.busy": "2025-09-29T16:42:00.684191Z",
     "iopub.status.idle": "2025-09-29T16:42:00.709145Z",
     "shell.execute_reply": "2025-09-29T16:42:00.708377Z"
    },
    "papermill": {
     "duration": 0.044941,
     "end_time": "2025-09-29T16:42:00.710348",
     "exception": false,
     "start_time": "2025-09-29T16:42:00.665407",
     "status": "completed"
    },
    "tags": []
   },
   "outputs": [
    {
     "name": "stdout",
     "output_type": "stream",
     "text": [
      "/kaggle/input/deepspeed-config-for-kaggle-t4x2-gpu/deepspeed_config.json\n",
      "/kaggle/input/qwen-3-reranker/transformers/4b/1/model.safetensors.index.json\n",
      "/kaggle/input/qwen-3-reranker/transformers/4b/1/config.json\n",
      "/kaggle/input/qwen-3-reranker/transformers/4b/1/merges.txt\n",
      "/kaggle/input/qwen-3-reranker/transformers/4b/1/model-00001-of-00002.safetensors\n",
      "/kaggle/input/qwen-3-reranker/transformers/4b/1/model-00002-of-00002.safetensors\n",
      "/kaggle/input/qwen-3-reranker/transformers/4b/1/README.md\n",
      "/kaggle/input/qwen-3-reranker/transformers/4b/1/tokenizer.json\n",
      "/kaggle/input/qwen-3-reranker/transformers/4b/1/vocab.json\n",
      "/kaggle/input/qwen-3-reranker/transformers/4b/1/tokenizer_config.json\n",
      "/kaggle/input/qwen-3-reranker/transformers/4b/1/special_tokens_map.json\n",
      "/kaggle/input/qwen-3-reranker/transformers/4b/1/generation_config.json\n",
      "/kaggle/input/map-charting-student-math-misunderstandings/sample_submission.csv\n",
      "/kaggle/input/map-charting-student-math-misunderstandings/train.csv\n",
      "/kaggle/input/map-charting-student-math-misunderstandings/test.csv\n",
      "/kaggle/input/universal-llm-install-package2/V9/langchain_community-0.3.2-py3-none-any.whl\n",
      "/kaggle/input/universal-llm-install-package2/V9/langsmith-0.1.136-py3-none-any.whl\n",
      "/kaggle/input/universal-llm-install-package2/V9/langchain_core-0.3.12-py3-none-any.whl\n",
      "/kaggle/input/universal-llm-install-package2/V9/accelerate-1.0.1-py3-none-any.whl\n",
      "/kaggle/input/universal-llm-install-package2/V9/trl-0.11.4-py3-none-any.whl\n",
      "/kaggle/input/universal-llm-install-package2/V9/langchain_text_splitters-0.3.0-py3-none-any.whl\n",
      "/kaggle/input/universal-llm-install-package2/V9/bitsandbytes-0.46.1-py3-none-manylinux_2_24_x86_64.whl\n",
      "/kaggle/input/universal-llm-install-package2/V9/huggingface_hub-0.26.0-py3-none-any.whl\n",
      "/kaggle/input/universal-llm-install-package2/V9/protobuf-4.25.8-cp37-abi3-manylinux2014_x86_64.whl\n",
      "/kaggle/input/universal-llm-install-package2/V9/triton-3.4.0-cp311-cp311-manylinux_2_27_x86_64.manylinux_2_28_x86_64.whl\n",
      "/kaggle/input/universal-llm-install-package2/V9/langchain-0.3.3-py3-none-any.whl\n",
      "/kaggle/input/universal-llm-install-package2/V9/peft-0.14.0-py3-none-any.whl\n",
      "/kaggle/input/universal-llm-install-package2/V9/transformers-4.45.2-py3-none-any.whl\n"
     ]
    }
   ],
   "source": [
    "\n",
    "\n",
    "# Input data files are available in the read-only \"../input/\" directory\n",
    "# For example, running this (by clicking run or pressing Shift+Enter) will list all files under the input directory\n",
    "\n",
    "import os\n",
    "for dirname, _, filenames in os.walk('/kaggle/input'):\n",
    "    for filename in filenames:\n",
    "        print(os.path.join(dirname, filename))\n",
    "\n",
    "# You can write up to 20GB to the current directory (/kaggle/working/) that gets preserved as output when you create a version using \"Save & Run All\" \n",
    "# You can also write temporary files to /kaggle/temp/, but they won't be saved outside of the current session"
   ]
  },
  {
   "cell_type": "code",
   "execution_count": 10,
   "id": "8362d3d5",
   "metadata": {
    "execution": {
     "iopub.execute_input": "2025-09-29T16:42:00.747037Z",
     "iopub.status.busy": "2025-09-29T16:42:00.746830Z",
     "iopub.status.idle": "2025-09-29T16:42:00.751386Z",
     "shell.execute_reply": "2025-09-29T16:42:00.750877Z"
    },
    "papermill": {
     "duration": 0.023958,
     "end_time": "2025-09-29T16:42:00.752346",
     "exception": false,
     "start_time": "2025-09-29T16:42:00.728388",
     "status": "completed"
    },
    "tags": []
   },
   "outputs": [],
   "source": [
    "class CFG:\n",
    "    DeepEval = False #True  # True must enable \"Internet on\" \n",
    "    SEED = 42\n",
    "\n",
    "     # LLM Config \n",
    "    reportTo =\"none\"\n",
    "    topK = 40\n",
    "    topP = 1.0\n",
    "    temperature = 0.1 #0.5\n",
    "    repetition_penalty = 1.05 # 1.1\n",
    "    maxOutToken = 300 #150#180 #100\n",
    "    test_size = 0.001 #0.005 #0.005 #0.1 #0.01 #0.005 #0.01\n",
    "\n",
    "\n",
    "    # Fine tuning Config\n",
    "    maxLength = 256 #384 #512 #256 #368 #512 #1024 \n",
    "    reportTo = \"none\"\n",
    "    maxEpoch = 0.013 #0.005 #0.01 #0.005 #0.5 #0.05 #0.02 #0.05  #0.1 #0.5 #1 #2\n",
    "    evalSteps = 20 #50 #30 #40 #20 \n",
    "    learning_rate = 5e-4 #2e-5 #1e-5 #8e-5 #5e-5 #2e-5 #2e-4 #1e-4\n",
    "    per_device_train_batch_size = 9 #5 #4 #6 #8 #10#6#16 #6 #2 #8#6 #8\n",
    "    per_device_eval_batch_size =  9 #5 #4 #6 #8 #10 #6#16 #6 #2 #8#6 #8  \n",
    "    # Lora config\n",
    "    DROPOUT = 0.05 #0.1 #0.05\n",
    "    weight_decay = 0.01 \n",
    "\n",
    "    warmup_steps= 10 #5# 10\n",
    "    gradient_accumulation_steps = 4 #8 # 4 #2  #10\n",
    "    maxTrainStep =  500 #120 #160 #100 #50#100 #250 #150 \n",
    "    valDatasetSize = 50 #20 #10 #50 #500 # set validiation data size\n",
    "\n",
    "    #model\n",
    "    model1 = \"/kaggle/input/qwen-3/transformers/8b/1\"\n",
    "    model2 = \"/kaggle/input/qwen-3-reranker/transformers/4b/1\"\n",
    "\n",
    "    #\n",
    "    frac = 0.5 #0.3 #0.3 #0.3 #0.1 # Random resample data(reduce train data size )\n",
    "    \n",
    "\n",
    "    trainFile = \"/kaggle/input/map-charting-student-math-misunderstandings/train.csv\"\n",
    "    testFile  = \"/kaggle/input/map-charting-student-math-misunderstandings/test.csv\"\n",
    "    sampleFile = \"/kaggle/input/map-charting-student-math-misunderstandings/sample_submission.csv\"\n",
    "    deepspeedConfigFile = \"/kaggle/input/deepspeed-config-for-kaggle-t4x2-gpu/deepspeed_config.json\"\n",
    "    "
   ]
  },
  {
   "cell_type": "code",
   "execution_count": 11,
   "id": "a0d3411a",
   "metadata": {
    "execution": {
     "iopub.execute_input": "2025-09-29T16:42:00.788465Z",
     "iopub.status.busy": "2025-09-29T16:42:00.788256Z",
     "iopub.status.idle": "2025-09-29T16:42:00.792509Z",
     "shell.execute_reply": "2025-09-29T16:42:00.791872Z"
    },
    "papermill": {
     "duration": 0.023389,
     "end_time": "2025-09-29T16:42:00.793560",
     "exception": false,
     "start_time": "2025-09-29T16:42:00.770171",
     "status": "completed"
    },
    "tags": []
   },
   "outputs": [
    {
     "data": {
      "text/plain": [
       "device(type='cuda')"
      ]
     },
     "execution_count": 11,
     "metadata": {},
     "output_type": "execute_result"
    }
   ],
   "source": [
    "device = torch.device(\"cuda\" if torch.cuda.is_available() else \"cpu\")\n",
    "device"
   ]
  },
  {
   "cell_type": "code",
   "execution_count": 12,
   "id": "364885c1",
   "metadata": {
    "execution": {
     "iopub.execute_input": "2025-09-29T16:42:00.829961Z",
     "iopub.status.busy": "2025-09-29T16:42:00.829751Z",
     "iopub.status.idle": "2025-09-29T16:42:01.020565Z",
     "shell.execute_reply": "2025-09-29T16:42:01.019724Z"
    },
    "papermill": {
     "duration": 0.210725,
     "end_time": "2025-09-29T16:42:01.022056",
     "exception": false,
     "start_time": "2025-09-29T16:42:00.811331",
     "status": "completed"
    },
    "tags": []
   },
   "outputs": [
    {
     "data": {
      "text/plain": [
       "True"
      ]
     },
     "execution_count": 12,
     "metadata": {},
     "output_type": "execute_result"
    }
   ],
   "source": [
    "torch.cuda.is_bf16_supported()"
   ]
  },
  {
   "cell_type": "code",
   "execution_count": 13,
   "id": "e13f0be3",
   "metadata": {
    "execution": {
     "iopub.execute_input": "2025-09-29T16:42:01.070439Z",
     "iopub.status.busy": "2025-09-29T16:42:01.069975Z",
     "iopub.status.idle": "2025-09-29T16:42:01.073592Z",
     "shell.execute_reply": "2025-09-29T16:42:01.072942Z"
    },
    "papermill": {
     "duration": 0.023374,
     "end_time": "2025-09-29T16:42:01.074632",
     "exception": false,
     "start_time": "2025-09-29T16:42:01.051258",
     "status": "completed"
    },
    "tags": []
   },
   "outputs": [],
   "source": [
    "def clearMemory():\n",
    "    for _ in range(5):\n",
    "        torch.cuda.empty_cache()\n",
    "        gc.collect()\n",
    "        time.sleep(0.3)"
   ]
  },
  {
   "cell_type": "code",
   "execution_count": 14,
   "id": "defcb635",
   "metadata": {
    "execution": {
     "iopub.execute_input": "2025-09-29T16:42:01.112315Z",
     "iopub.status.busy": "2025-09-29T16:42:01.112099Z",
     "iopub.status.idle": "2025-09-29T16:42:04.349875Z",
     "shell.execute_reply": "2025-09-29T16:42:04.348958Z"
    },
    "papermill": {
     "duration": 3.257654,
     "end_time": "2025-09-29T16:42:04.351338",
     "exception": false,
     "start_time": "2025-09-29T16:42:01.093684",
     "status": "completed"
    },
    "tags": []
   },
   "outputs": [],
   "source": [
    "clearMemory()"
   ]
  },
  {
   "cell_type": "code",
   "execution_count": 15,
   "id": "c577fe7a",
   "metadata": {
    "execution": {
     "iopub.execute_input": "2025-09-29T16:42:04.389250Z",
     "iopub.status.busy": "2025-09-29T16:42:04.388999Z",
     "iopub.status.idle": "2025-09-29T16:42:04.391915Z",
     "shell.execute_reply": "2025-09-29T16:42:04.391402Z"
    },
    "papermill": {
     "duration": 0.022597,
     "end_time": "2025-09-29T16:42:04.392869",
     "exception": false,
     "start_time": "2025-09-29T16:42:04.370272",
     "status": "completed"
    },
    "tags": []
   },
   "outputs": [],
   "source": [
    "# !accelerate config"
   ]
  },
  {
   "cell_type": "code",
   "execution_count": 16,
   "id": "976f5d80",
   "metadata": {
    "execution": {
     "iopub.execute_input": "2025-09-29T16:42:04.429790Z",
     "iopub.status.busy": "2025-09-29T16:42:04.429563Z",
     "iopub.status.idle": "2025-09-29T16:42:04.663773Z",
     "shell.execute_reply": "2025-09-29T16:42:04.663035Z"
    },
    "papermill": {
     "duration": 0.254197,
     "end_time": "2025-09-29T16:42:04.665085",
     "exception": false,
     "start_time": "2025-09-29T16:42:04.410888",
     "status": "completed"
    },
    "tags": []
   },
   "outputs": [
    {
     "data": {
      "text/html": [
       "<div>\n",
       "<style scoped>\n",
       "    .dataframe tbody tr th:only-of-type {\n",
       "        vertical-align: middle;\n",
       "    }\n",
       "\n",
       "    .dataframe tbody tr th {\n",
       "        vertical-align: top;\n",
       "    }\n",
       "\n",
       "    .dataframe thead th {\n",
       "        text-align: right;\n",
       "    }\n",
       "</style>\n",
       "<table border=\"1\" class=\"dataframe\">\n",
       "  <thead>\n",
       "    <tr style=\"text-align: right;\">\n",
       "      <th></th>\n",
       "      <th>row_id</th>\n",
       "      <th>QuestionId</th>\n",
       "      <th>QuestionText</th>\n",
       "      <th>MC_Answer</th>\n",
       "      <th>StudentExplanation</th>\n",
       "      <th>Category</th>\n",
       "      <th>Misconception</th>\n",
       "    </tr>\n",
       "  </thead>\n",
       "  <tbody>\n",
       "    <tr>\n",
       "      <th>0</th>\n",
       "      <td>0</td>\n",
       "      <td>31772</td>\n",
       "      <td>What fraction of the shape is not shaded? Give...</td>\n",
       "      <td>\\( \\frac{1}{3} \\)</td>\n",
       "      <td>0ne third is equal to tree nineth</td>\n",
       "      <td>True_Correct</td>\n",
       "      <td>NaN</td>\n",
       "    </tr>\n",
       "    <tr>\n",
       "      <th>1</th>\n",
       "      <td>1</td>\n",
       "      <td>31772</td>\n",
       "      <td>What fraction of the shape is not shaded? Give...</td>\n",
       "      <td>\\( \\frac{1}{3} \\)</td>\n",
       "      <td>1 / 3 because 6 over 9 is 2 thirds and 1 third...</td>\n",
       "      <td>True_Correct</td>\n",
       "      <td>NaN</td>\n",
       "    </tr>\n",
       "    <tr>\n",
       "      <th>2</th>\n",
       "      <td>2</td>\n",
       "      <td>31772</td>\n",
       "      <td>What fraction of the shape is not shaded? Give...</td>\n",
       "      <td>\\( \\frac{1}{3} \\)</td>\n",
       "      <td>1 3rd is half of 3 6th, so it is simplee to un...</td>\n",
       "      <td>True_Neither</td>\n",
       "      <td>NaN</td>\n",
       "    </tr>\n",
       "    <tr>\n",
       "      <th>3</th>\n",
       "      <td>3</td>\n",
       "      <td>31772</td>\n",
       "      <td>What fraction of the shape is not shaded? Give...</td>\n",
       "      <td>\\( \\frac{1}{3} \\)</td>\n",
       "      <td>1 goes into everything and 3 goes into nine</td>\n",
       "      <td>True_Neither</td>\n",
       "      <td>NaN</td>\n",
       "    </tr>\n",
       "    <tr>\n",
       "      <th>4</th>\n",
       "      <td>4</td>\n",
       "      <td>31772</td>\n",
       "      <td>What fraction of the shape is not shaded? Give...</td>\n",
       "      <td>\\( \\frac{1}{3} \\)</td>\n",
       "      <td>1 out of every 3 isn't coloured</td>\n",
       "      <td>True_Correct</td>\n",
       "      <td>NaN</td>\n",
       "    </tr>\n",
       "  </tbody>\n",
       "</table>\n",
       "</div>"
      ],
      "text/plain": [
       "   row_id  QuestionId                                       QuestionText  \\\n",
       "0       0       31772  What fraction of the shape is not shaded? Give...   \n",
       "1       1       31772  What fraction of the shape is not shaded? Give...   \n",
       "2       2       31772  What fraction of the shape is not shaded? Give...   \n",
       "3       3       31772  What fraction of the shape is not shaded? Give...   \n",
       "4       4       31772  What fraction of the shape is not shaded? Give...   \n",
       "\n",
       "           MC_Answer                                 StudentExplanation  \\\n",
       "0  \\( \\frac{1}{3} \\)                  0ne third is equal to tree nineth   \n",
       "1  \\( \\frac{1}{3} \\)  1 / 3 because 6 over 9 is 2 thirds and 1 third...   \n",
       "2  \\( \\frac{1}{3} \\)  1 3rd is half of 3 6th, so it is simplee to un...   \n",
       "3  \\( \\frac{1}{3} \\)        1 goes into everything and 3 goes into nine   \n",
       "4  \\( \\frac{1}{3} \\)                    1 out of every 3 isn't coloured   \n",
       "\n",
       "       Category Misconception  \n",
       "0  True_Correct           NaN  \n",
       "1  True_Correct           NaN  \n",
       "2  True_Neither           NaN  \n",
       "3  True_Neither           NaN  \n",
       "4  True_Correct           NaN  "
      ]
     },
     "execution_count": 16,
     "metadata": {},
     "output_type": "execute_result"
    }
   ],
   "source": [
    "trainDF = pd.read_csv(CFG.trainFile)\n",
    "trainDF.head()"
   ]
  },
  {
   "cell_type": "code",
   "execution_count": 17,
   "id": "a1794294",
   "metadata": {
    "execution": {
     "iopub.execute_input": "2025-09-29T16:42:04.703272Z",
     "iopub.status.busy": "2025-09-29T16:42:04.703044Z",
     "iopub.status.idle": "2025-09-29T16:42:04.751636Z",
     "shell.execute_reply": "2025-09-29T16:42:04.750791Z"
    },
    "papermill": {
     "duration": 0.068436,
     "end_time": "2025-09-29T16:42:04.752781",
     "exception": false,
     "start_time": "2025-09-29T16:42:04.684345",
     "status": "completed"
    },
    "tags": []
   },
   "outputs": [
    {
     "name": "stdout",
     "output_type": "stream",
     "text": [
      "<class 'pandas.core.frame.DataFrame'>\n",
      "RangeIndex: 36696 entries, 0 to 36695\n",
      "Data columns (total 7 columns):\n",
      " #   Column              Non-Null Count  Dtype \n",
      "---  ------              --------------  ----- \n",
      " 0   row_id              36696 non-null  int64 \n",
      " 1   QuestionId          36696 non-null  int64 \n",
      " 2   QuestionText        36696 non-null  object\n",
      " 3   MC_Answer           36696 non-null  object\n",
      " 4   StudentExplanation  36696 non-null  object\n",
      " 5   Category            36696 non-null  object\n",
      " 6   Misconception       9860 non-null   object\n",
      "dtypes: int64(2), object(5)\n",
      "memory usage: 2.0+ MB\n"
     ]
    }
   ],
   "source": [
    "trainDF.info()"
   ]
  },
  {
   "cell_type": "code",
   "execution_count": 18,
   "id": "1551a736",
   "metadata": {
    "execution": {
     "iopub.execute_input": "2025-09-29T16:42:04.790080Z",
     "iopub.status.busy": "2025-09-29T16:42:04.789871Z",
     "iopub.status.idle": "2025-09-29T16:42:04.810381Z",
     "shell.execute_reply": "2025-09-29T16:42:04.809550Z"
    },
    "papermill": {
     "duration": 0.040145,
     "end_time": "2025-09-29T16:42:04.811485",
     "exception": false,
     "start_time": "2025-09-29T16:42:04.771340",
     "status": "completed"
    },
    "tags": []
   },
   "outputs": [
    {
     "data": {
      "text/html": [
       "<div>\n",
       "<style scoped>\n",
       "    .dataframe tbody tr th:only-of-type {\n",
       "        vertical-align: middle;\n",
       "    }\n",
       "\n",
       "    .dataframe tbody tr th {\n",
       "        vertical-align: top;\n",
       "    }\n",
       "\n",
       "    .dataframe thead th {\n",
       "        text-align: right;\n",
       "    }\n",
       "</style>\n",
       "<table border=\"1\" class=\"dataframe\">\n",
       "  <thead>\n",
       "    <tr style=\"text-align: right;\">\n",
       "      <th></th>\n",
       "      <th>row_id</th>\n",
       "      <th>QuestionId</th>\n",
       "    </tr>\n",
       "  </thead>\n",
       "  <tbody>\n",
       "    <tr>\n",
       "      <th>count</th>\n",
       "      <td>36696.000000</td>\n",
       "      <td>36696.000000</td>\n",
       "    </tr>\n",
       "    <tr>\n",
       "      <th>mean</th>\n",
       "      <td>18347.500000</td>\n",
       "      <td>46356.825104</td>\n",
       "    </tr>\n",
       "    <tr>\n",
       "      <th>std</th>\n",
       "      <td>10593.367076</td>\n",
       "      <td>25617.723392</td>\n",
       "    </tr>\n",
       "    <tr>\n",
       "      <th>min</th>\n",
       "      <td>0.000000</td>\n",
       "      <td>31772.000000</td>\n",
       "    </tr>\n",
       "    <tr>\n",
       "      <th>25%</th>\n",
       "      <td>9173.750000</td>\n",
       "      <td>31777.000000</td>\n",
       "    </tr>\n",
       "    <tr>\n",
       "      <th>50%</th>\n",
       "      <td>18347.500000</td>\n",
       "      <td>32833.000000</td>\n",
       "    </tr>\n",
       "    <tr>\n",
       "      <th>75%</th>\n",
       "      <td>27521.250000</td>\n",
       "      <td>33474.000000</td>\n",
       "    </tr>\n",
       "    <tr>\n",
       "      <th>max</th>\n",
       "      <td>36695.000000</td>\n",
       "      <td>109465.000000</td>\n",
       "    </tr>\n",
       "  </tbody>\n",
       "</table>\n",
       "</div>"
      ],
      "text/plain": [
       "             row_id     QuestionId\n",
       "count  36696.000000   36696.000000\n",
       "mean   18347.500000   46356.825104\n",
       "std    10593.367076   25617.723392\n",
       "min        0.000000   31772.000000\n",
       "25%     9173.750000   31777.000000\n",
       "50%    18347.500000   32833.000000\n",
       "75%    27521.250000   33474.000000\n",
       "max    36695.000000  109465.000000"
      ]
     },
     "execution_count": 18,
     "metadata": {},
     "output_type": "execute_result"
    }
   ],
   "source": [
    "trainDF.describe()"
   ]
  },
  {
   "cell_type": "code",
   "execution_count": 19,
   "id": "6f024373",
   "metadata": {
    "execution": {
     "iopub.execute_input": "2025-09-29T16:42:04.850192Z",
     "iopub.status.busy": "2025-09-29T16:42:04.850009Z",
     "iopub.status.idle": "2025-09-29T16:42:04.862709Z",
     "shell.execute_reply": "2025-09-29T16:42:04.862011Z"
    },
    "papermill": {
     "duration": 0.033211,
     "end_time": "2025-09-29T16:42:04.863806",
     "exception": false,
     "start_time": "2025-09-29T16:42:04.830595",
     "status": "completed"
    },
    "tags": []
   },
   "outputs": [
    {
     "data": {
      "text/html": [
       "<div>\n",
       "<style scoped>\n",
       "    .dataframe tbody tr th:only-of-type {\n",
       "        vertical-align: middle;\n",
       "    }\n",
       "\n",
       "    .dataframe tbody tr th {\n",
       "        vertical-align: top;\n",
       "    }\n",
       "\n",
       "    .dataframe thead th {\n",
       "        text-align: right;\n",
       "    }\n",
       "</style>\n",
       "<table border=\"1\" class=\"dataframe\">\n",
       "  <thead>\n",
       "    <tr style=\"text-align: right;\">\n",
       "      <th></th>\n",
       "      <th>row_id</th>\n",
       "      <th>QuestionId</th>\n",
       "      <th>QuestionText</th>\n",
       "      <th>MC_Answer</th>\n",
       "      <th>StudentExplanation</th>\n",
       "    </tr>\n",
       "  </thead>\n",
       "  <tbody>\n",
       "    <tr>\n",
       "      <th>0</th>\n",
       "      <td>36696</td>\n",
       "      <td>31772</td>\n",
       "      <td>What fraction of the shape is not shaded? Give...</td>\n",
       "      <td>\\( \\frac{1}{3} \\)</td>\n",
       "      <td>I think that 1/3 is the answer, as it's the si...</td>\n",
       "    </tr>\n",
       "    <tr>\n",
       "      <th>1</th>\n",
       "      <td>36697</td>\n",
       "      <td>31772</td>\n",
       "      <td>What fraction of the shape is not shaded? Give...</td>\n",
       "      <td>\\( \\frac{3}{6} \\)</td>\n",
       "      <td>i think this answer is because 3 triangles are...</td>\n",
       "    </tr>\n",
       "    <tr>\n",
       "      <th>2</th>\n",
       "      <td>36698</td>\n",
       "      <td>32835</td>\n",
       "      <td>Which number is the greatest?</td>\n",
       "      <td>\\( 6.2 \\)</td>\n",
       "      <td>because the 2 makes it higher than the others.</td>\n",
       "    </tr>\n",
       "  </tbody>\n",
       "</table>\n",
       "</div>"
      ],
      "text/plain": [
       "   row_id  QuestionId                                       QuestionText  \\\n",
       "0   36696       31772  What fraction of the shape is not shaded? Give...   \n",
       "1   36697       31772  What fraction of the shape is not shaded? Give...   \n",
       "2   36698       32835                      Which number is the greatest?   \n",
       "\n",
       "           MC_Answer                                 StudentExplanation  \n",
       "0  \\( \\frac{1}{3} \\)  I think that 1/3 is the answer, as it's the si...  \n",
       "1  \\( \\frac{3}{6} \\)  i think this answer is because 3 triangles are...  \n",
       "2          \\( 6.2 \\)     because the 2 makes it higher than the others.  "
      ]
     },
     "execution_count": 19,
     "metadata": {},
     "output_type": "execute_result"
    }
   ],
   "source": [
    "testDF = pd.read_csv(CFG.testFile)\n",
    "testDF"
   ]
  },
  {
   "cell_type": "code",
   "execution_count": 20,
   "id": "7d2be09c",
   "metadata": {
    "execution": {
     "iopub.execute_input": "2025-09-29T16:42:04.901149Z",
     "iopub.status.busy": "2025-09-29T16:42:04.900951Z",
     "iopub.status.idle": "2025-09-29T16:42:04.908555Z",
     "shell.execute_reply": "2025-09-29T16:42:04.907779Z"
    },
    "papermill": {
     "duration": 0.027594,
     "end_time": "2025-09-29T16:42:04.909806",
     "exception": false,
     "start_time": "2025-09-29T16:42:04.882212",
     "status": "completed"
    },
    "tags": []
   },
   "outputs": [
    {
     "name": "stdout",
     "output_type": "stream",
     "text": [
      "<class 'pandas.core.frame.DataFrame'>\n",
      "RangeIndex: 3 entries, 0 to 2\n",
      "Data columns (total 5 columns):\n",
      " #   Column              Non-Null Count  Dtype \n",
      "---  ------              --------------  ----- \n",
      " 0   row_id              3 non-null      int64 \n",
      " 1   QuestionId          3 non-null      int64 \n",
      " 2   QuestionText        3 non-null      object\n",
      " 3   MC_Answer           3 non-null      object\n",
      " 4   StudentExplanation  3 non-null      object\n",
      "dtypes: int64(2), object(3)\n",
      "memory usage: 252.0+ bytes\n"
     ]
    }
   ],
   "source": [
    "testDF.info()"
   ]
  },
  {
   "cell_type": "code",
   "execution_count": 21,
   "id": "b9391f02",
   "metadata": {
    "execution": {
     "iopub.execute_input": "2025-09-29T16:42:04.953091Z",
     "iopub.status.busy": "2025-09-29T16:42:04.952878Z",
     "iopub.status.idle": "2025-09-29T16:42:04.959034Z",
     "shell.execute_reply": "2025-09-29T16:42:04.958261Z"
    },
    "papermill": {
     "duration": 0.030776,
     "end_time": "2025-09-29T16:42:04.960387",
     "exception": false,
     "start_time": "2025-09-29T16:42:04.929611",
     "status": "completed"
    },
    "tags": []
   },
   "outputs": [
    {
     "data": {
      "text/plain": [
       "row_id                0\n",
       "QuestionId            0\n",
       "QuestionText          0\n",
       "MC_Answer             0\n",
       "StudentExplanation    0\n",
       "dtype: int64"
      ]
     },
     "execution_count": 21,
     "metadata": {},
     "output_type": "execute_result"
    }
   ],
   "source": [
    "testDF.isnull().sum()"
   ]
  },
  {
   "cell_type": "code",
   "execution_count": 22,
   "id": "2e3056f2",
   "metadata": {
    "execution": {
     "iopub.execute_input": "2025-09-29T16:42:05.010542Z",
     "iopub.status.busy": "2025-09-29T16:42:05.009654Z",
     "iopub.status.idle": "2025-09-29T16:42:05.029965Z",
     "shell.execute_reply": "2025-09-29T16:42:05.029214Z"
    },
    "papermill": {
     "duration": 0.044827,
     "end_time": "2025-09-29T16:42:05.031113",
     "exception": false,
     "start_time": "2025-09-29T16:42:04.986286",
     "status": "completed"
    },
    "tags": []
   },
   "outputs": [
    {
     "data": {
      "text/plain": [
       "row_id                    0\n",
       "QuestionId                0\n",
       "QuestionText              0\n",
       "MC_Answer                 0\n",
       "StudentExplanation        0\n",
       "Category                  0\n",
       "Misconception         26836\n",
       "dtype: int64"
      ]
     },
     "execution_count": 22,
     "metadata": {},
     "output_type": "execute_result"
    }
   ],
   "source": [
    "# Nan and Null check\n",
    "trainDF.isnull().sum()\n"
   ]
  },
  {
   "cell_type": "code",
   "execution_count": 23,
   "id": "0a92ae3a",
   "metadata": {
    "execution": {
     "iopub.execute_input": "2025-09-29T16:42:05.069061Z",
     "iopub.status.busy": "2025-09-29T16:42:05.068854Z",
     "iopub.status.idle": "2025-09-29T16:42:05.080381Z",
     "shell.execute_reply": "2025-09-29T16:42:05.079684Z"
    },
    "papermill": {
     "duration": 0.03136,
     "end_time": "2025-09-29T16:42:05.081383",
     "exception": false,
     "start_time": "2025-09-29T16:42:05.050023",
     "status": "completed"
    },
    "tags": []
   },
   "outputs": [
    {
     "data": {
      "text/html": [
       "<div>\n",
       "<style scoped>\n",
       "    .dataframe tbody tr th:only-of-type {\n",
       "        vertical-align: middle;\n",
       "    }\n",
       "\n",
       "    .dataframe tbody tr th {\n",
       "        vertical-align: top;\n",
       "    }\n",
       "\n",
       "    .dataframe thead th {\n",
       "        text-align: right;\n",
       "    }\n",
       "</style>\n",
       "<table border=\"1\" class=\"dataframe\">\n",
       "  <thead>\n",
       "    <tr style=\"text-align: right;\">\n",
       "      <th></th>\n",
       "      <th>row_id</th>\n",
       "      <th>Category:Misconception</th>\n",
       "    </tr>\n",
       "  </thead>\n",
       "  <tbody>\n",
       "    <tr>\n",
       "      <th>0</th>\n",
       "      <td>36696</td>\n",
       "      <td>True_Correct:NA False_Neither:NA False_Misconc...</td>\n",
       "    </tr>\n",
       "    <tr>\n",
       "      <th>1</th>\n",
       "      <td>36697</td>\n",
       "      <td>True_Correct:NA False_Neither:NA False_Misconc...</td>\n",
       "    </tr>\n",
       "    <tr>\n",
       "      <th>2</th>\n",
       "      <td>36698</td>\n",
       "      <td>True_Correct:NA False_Neither:NA False_Misconc...</td>\n",
       "    </tr>\n",
       "  </tbody>\n",
       "</table>\n",
       "</div>"
      ],
      "text/plain": [
       "   row_id                             Category:Misconception\n",
       "0   36696  True_Correct:NA False_Neither:NA False_Misconc...\n",
       "1   36697  True_Correct:NA False_Neither:NA False_Misconc...\n",
       "2   36698  True_Correct:NA False_Neither:NA False_Misconc..."
      ]
     },
     "execution_count": 23,
     "metadata": {},
     "output_type": "execute_result"
    }
   ],
   "source": [
    "sample = pd.read_csv(CFG.sampleFile)\n",
    "sample"
   ]
  },
  {
   "cell_type": "code",
   "execution_count": 24,
   "id": "45fa26f7",
   "metadata": {
    "execution": {
     "iopub.execute_input": "2025-09-29T16:42:05.120792Z",
     "iopub.status.busy": "2025-09-29T16:42:05.120573Z",
     "iopub.status.idle": "2025-09-29T16:42:05.124751Z",
     "shell.execute_reply": "2025-09-29T16:42:05.124124Z"
    },
    "papermill": {
     "duration": 0.025088,
     "end_time": "2025-09-29T16:42:05.125712",
     "exception": false,
     "start_time": "2025-09-29T16:42:05.100624",
     "status": "completed"
    },
    "tags": []
   },
   "outputs": [
    {
     "data": {
      "text/plain": [
       "Index(['row_id', 'Category:Misconception'], dtype='object')"
      ]
     },
     "execution_count": 24,
     "metadata": {},
     "output_type": "execute_result"
    }
   ],
   "source": [
    "sample.columns"
   ]
  },
  {
   "cell_type": "markdown",
   "id": "bec76a81",
   "metadata": {
    "execution": {
     "iopub.execute_input": "2025-08-05T12:00:32.719746Z",
     "iopub.status.busy": "2025-08-05T12:00:32.719388Z",
     "iopub.status.idle": "2025-08-05T12:00:32.724824Z",
     "shell.execute_reply": "2025-08-05T12:00:32.723659Z",
     "shell.execute_reply.started": "2025-08-05T12:00:32.719721Z"
    },
    "papermill": {
     "duration": 0.018584,
     "end_time": "2025-09-29T16:42:05.162972",
     "exception": false,
     "start_time": "2025-09-29T16:42:05.144388",
     "status": "completed"
    },
    "tags": []
   },
   "source": [
    "## EDA\n",
    "### Print Columns Values"
   ]
  },
  {
   "cell_type": "code",
   "execution_count": 25,
   "id": "b84bbb36",
   "metadata": {
    "execution": {
     "iopub.execute_input": "2025-09-29T16:42:05.201185Z",
     "iopub.status.busy": "2025-09-29T16:42:05.200986Z",
     "iopub.status.idle": "2025-09-29T16:42:05.205062Z",
     "shell.execute_reply": "2025-09-29T16:42:05.204418Z"
    },
    "papermill": {
     "duration": 0.024517,
     "end_time": "2025-09-29T16:42:05.206200",
     "exception": false,
     "start_time": "2025-09-29T16:42:05.181683",
     "status": "completed"
    },
    "tags": []
   },
   "outputs": [],
   "source": [
    "def printAllcolumnsValue(df, showAll=True):\n",
    "    \"\"\"\n",
    "    Print DataFrame columns values\n",
    "    \"\"\"\n",
    "    # loop column\n",
    "    for col in df.columns:\n",
    "        if showAll is True:\n",
    "            print(f\"{col} : {df[col].unique()}\") # print unique value\n",
    "        else: # only print caterogy column\n",
    "            if df[col].dtype == \"object\":\n",
    "                print(f\"{col} : {df[col].unique()}\") # print unique value\n",
    "\n",
    "def printSerieUnquieValue(df):\n",
    "    \"\"\"\n",
    "    print data serie value\n",
    "    \"\"\"\n",
    "    print(f\" {df.unique()}\")"
   ]
  },
  {
   "cell_type": "code",
   "execution_count": 26,
   "id": "1a9e008e",
   "metadata": {
    "execution": {
     "iopub.execute_input": "2025-09-29T16:42:05.244528Z",
     "iopub.status.busy": "2025-09-29T16:42:05.244357Z",
     "iopub.status.idle": "2025-09-29T16:42:05.270613Z",
     "shell.execute_reply": "2025-09-29T16:42:05.269485Z"
    },
    "papermill": {
     "duration": 0.046995,
     "end_time": "2025-09-29T16:42:05.271873",
     "exception": false,
     "start_time": "2025-09-29T16:42:05.224878",
     "status": "completed"
    },
    "scrolled": true,
    "tags": []
   },
   "outputs": [
    {
     "name": "stdout",
     "output_type": "stream",
     "text": [
      "row_id : [    0     1     2 ... 36693 36694 36695]\n",
      "QuestionId : [ 31772  31774  31777  31778  32829  32833  32835  33471  33472  33474\n",
      "  76870  89443  91695 104665 109465]\n",
      "QuestionText : ['What fraction of the shape is not shaded? Give your answer in its simplest form. [Image: A triangle split into 9 equal smaller triangles. 6 of them are shaded.]'\n",
      " 'Calculate \\\\( \\\\frac{1}{2} \\\\div 6 \\\\)'\n",
      " 'A box contains \\\\( 120 \\\\) counters. The counters are red or blue. \\\\( \\\\frac{3}{5} \\\\) of the counters are red.\\nHow many red counters are there?'\n",
      " '\\\\( \\\\frac{A}{10}=\\\\frac{9}{15} \\\\) What is the value of \\\\( A \\\\) ?'\n",
      " '\\\\( 2 y=24 \\\\) What is the value of \\\\( y \\\\) ?'\n",
      " 'Calculate \\\\( \\\\frac{2}{3} \\\\times 5 \\\\)'\n",
      " 'Which number is the greatest?'\n",
      " 'A bag contains \\\\( 24 \\\\) yellow and green balls. \\\\( \\\\frac{3}{8} \\\\) of the balls are yellow. How many of the balls are green?'\n",
      " '\\\\( \\\\frac{1}{3}+\\\\frac{2}{5}= \\\\)'\n",
      " 'Sally has \\\\( \\\\frac{2}{3} \\\\) of a whole cake in the fridge. Robert eats \\\\( \\\\frac{1}{3} \\\\) of this piece. What fraction of the whole cake has Robert eaten?\\nChoose the number sentence that would solve the word problem.'\n",
      " 'This is part of a regular polygon. How many sides does it have? [Image: A diagram showing an obtuse angle labelled 144 degrees]'\n",
      " 'What number belongs in the box?\\n\\\\(\\n(-8)-(-5)=\\n\\\\square\\\\)'\n",
      " 'Dots have been arranged in these patterns: [Image: Pattern 1 consists of 6 dots, Pattern 2 consists of 10 dots, Pattern 3 consists of 14 dots and Pattern 4 consists of 18 dots] How many dots would there be in Pattern \\\\( 6 \\\\) ?'\n",
      " 'It takes \\\\( 3 \\\\) people a total of \\\\( 192 \\\\) hours to build a wall.\\n\\nHow long would it take if \\\\( 12 \\\\) people built the same wall?'\n",
      " 'The probability of an event occurring is \\\\( 0.9 \\\\).\\n\\nWhich of the following most accurately describes the likelihood of the event occurring?']\n",
      "MC_Answer : ['\\\\( \\\\frac{1}{3} \\\\)' '\\\\( \\\\frac{3}{6} \\\\)' '\\\\( \\\\frac{3}{8} \\\\)'\n",
      " '\\\\( \\\\frac{3}{9} \\\\)' '\\\\( 3 \\\\)' '\\\\( \\\\frac{1}{12} \\\\)'\n",
      " '\\\\( \\\\frac{6}{2} \\\\)' '\\\\( 24 \\\\)' '\\\\( 48 \\\\)' '\\\\( 60 \\\\)'\n",
      " '\\\\( 72 \\\\)' '\\\\( 4 \\\\)' '\\\\( 6 \\\\)' '\\\\( 9 \\\\)' '\\\\( 12 \\\\)'\n",
      " '\\\\( 22 \\\\)' '\\\\( 3 \\\\frac{1}{3} \\\\)' '\\\\( 5 \\\\frac{2}{3} \\\\)'\n",
      " '\\\\( \\\\frac{10}{15} \\\\)' '\\\\( \\\\frac{2}{15} \\\\)' '\\\\( 6.0001 \\\\)'\n",
      " '\\\\( 6.079 \\\\)' '\\\\( 6.2 \\\\)' '\\\\( 15 \\\\)' '\\\\( 8 \\\\)'\n",
      " '\\\\( \\\\frac{11}{15} \\\\)' '\\\\( \\\\frac{11}{30} \\\\)' '\\\\( \\\\frac{3}{15} \\\\)'\n",
      " '\\\\( \\\\frac{1}{3} \\\\times \\\\frac{2}{3} \\\\)'\n",
      " '\\\\( \\\\frac{1}{3}+\\\\frac{2}{3} \\\\)'\n",
      " '\\\\( \\\\frac{2}{3} \\\\div \\\\frac{1}{3} \\\\)'\n",
      " '\\\\( \\\\frac{2}{3}-\\\\frac{1}{3} \\\\)' 'Not enough information' '\\\\( 10 \\\\)'\n",
      " '\\\\( 5 \\\\)' '\\\\( -13 \\\\)' '\\\\( -3 \\\\)' '\\\\( 13 \\\\)' '\\\\( 20 \\\\)'\n",
      " '\\\\( 26 \\\\)' '\\\\( 36 \\\\)' '\\\\( 192 \\\\) hours' '\\\\( 48 \\\\) hours'\n",
      " '\\\\( 64 \\\\) hours' '\\\\( 768 \\\\) hours' 'Certain' 'Impossible' 'Likely'\n",
      " 'Unlikely']\n",
      "StudentExplanation : ['0ne third is equal to tree nineth'\n",
      " '1 / 3 because 6 over 9 is 2 thirds and 1 third is not shaded.'\n",
      " '1 3rd is half of 3 6th, so it is simplee to understand.' ...\n",
      " 'yeah pretty unlikelyy from what it seems.'\n",
      " 'you have 9 other numbers to get.'\n",
      " 'you have a chanve but it is not i think this because there is 0.9 odds so you have chance chance,']\n",
      "Category : ['True_Correct' 'True_Neither' 'True_Misconception' 'False_Neither'\n",
      " 'False_Misconception' 'False_Correct']\n",
      "Misconception : [nan 'Incomplete' 'WNB' 'SwapDividend' 'Mult' 'FlipChange' 'Irrelevant'\n",
      " 'Wrong_Fraction' 'Additive' 'Not_variable' 'Adding_terms'\n",
      " 'Inverse_operation' 'Inversion' 'Duplication' 'Wrong_Operation'\n",
      " 'Whole_numbers_larger' 'Longer_is_bigger' 'Ignores_zeroes'\n",
      " 'Shorter_is_bigger' 'Wrong_fraction' 'Adding_across'\n",
      " 'Denominator-only_change' 'Incorrect_equivalent_fraction_addition'\n",
      " 'Division' 'Subtraction' 'Unknowable' 'Definition' 'Interior' 'Positive'\n",
      " 'Tacking' 'Wrong_term' 'Firstterm' 'Base_rate' 'Multiplying_by_4'\n",
      " 'Certainty' 'Scale']\n"
     ]
    }
   ],
   "source": [
    "printAllcolumnsValue(trainDF, showAll=True)"
   ]
  },
  {
   "cell_type": "code",
   "execution_count": 27,
   "id": "fefe2720",
   "metadata": {
    "execution": {
     "iopub.execute_input": "2025-09-29T16:42:05.310566Z",
     "iopub.status.busy": "2025-09-29T16:42:05.309977Z",
     "iopub.status.idle": "2025-09-29T16:42:05.314343Z",
     "shell.execute_reply": "2025-09-29T16:42:05.313655Z"
    },
    "papermill": {
     "duration": 0.024784,
     "end_time": "2025-09-29T16:42:05.315379",
     "exception": false,
     "start_time": "2025-09-29T16:42:05.290595",
     "status": "completed"
    },
    "tags": []
   },
   "outputs": [
    {
     "data": {
      "text/plain": [
       "['row_id',\n",
       " 'QuestionId',\n",
       " 'QuestionText',\n",
       " 'MC_Answer',\n",
       " 'StudentExplanation',\n",
       " 'Category',\n",
       " 'Misconception']"
      ]
     },
     "execution_count": 27,
     "metadata": {},
     "output_type": "execute_result"
    }
   ],
   "source": [
    "featureCols = trainDF.columns.tolist()\n",
    "featureCols"
   ]
  },
  {
   "cell_type": "code",
   "execution_count": 28,
   "id": "71b266ae",
   "metadata": {
    "execution": {
     "iopub.execute_input": "2025-09-29T16:42:05.353929Z",
     "iopub.status.busy": "2025-09-29T16:42:05.353697Z",
     "iopub.status.idle": "2025-09-29T16:42:05.362559Z",
     "shell.execute_reply": "2025-09-29T16:42:05.361898Z"
    },
    "papermill": {
     "duration": 0.029375,
     "end_time": "2025-09-29T16:42:05.363620",
     "exception": false,
     "start_time": "2025-09-29T16:42:05.334245",
     "status": "completed"
    },
    "tags": []
   },
   "outputs": [
    {
     "data": {
      "text/plain": [
       "0"
      ]
     },
     "execution_count": 28,
     "metadata": {},
     "output_type": "execute_result"
    }
   ],
   "source": [
    "# clean data\n",
    "trainDF[\"Misconception\"]= trainDF[\"Misconception\"].fillna(\"NA\") # fill NaN to NA\n",
    "trainDF[\"Misconception\"].isnull().sum() # check Null "
   ]
  },
  {
   "cell_type": "markdown",
   "id": "10f9e755",
   "metadata": {
    "execution": {
     "iopub.execute_input": "2025-08-06T05:39:57.456179Z",
     "iopub.status.busy": "2025-08-06T05:39:57.455612Z",
     "iopub.status.idle": "2025-08-06T05:39:57.459673Z",
     "shell.execute_reply": "2025-08-06T05:39:57.458795Z",
     "shell.execute_reply.started": "2025-08-06T05:39:57.456155Z"
    },
    "papermill": {
     "duration": 0.018805,
     "end_time": "2025-09-29T16:42:05.401675",
     "exception": false,
     "start_time": "2025-09-29T16:42:05.382870",
     "status": "completed"
    },
    "tags": []
   },
   "source": [
    "#### combine into target columns"
   ]
  },
  {
   "cell_type": "code",
   "execution_count": 29,
   "id": "98e23ed1",
   "metadata": {
    "execution": {
     "iopub.execute_input": "2025-09-29T16:42:05.440853Z",
     "iopub.status.busy": "2025-09-29T16:42:05.440327Z",
     "iopub.status.idle": "2025-09-29T16:42:05.461191Z",
     "shell.execute_reply": "2025-09-29T16:42:05.460457Z"
    },
    "papermill": {
     "duration": 0.041553,
     "end_time": "2025-09-29T16:42:05.462250",
     "exception": false,
     "start_time": "2025-09-29T16:42:05.420697",
     "status": "completed"
    },
    "tags": []
   },
   "outputs": [
    {
     "data": {
      "text/html": [
       "<div>\n",
       "<style scoped>\n",
       "    .dataframe tbody tr th:only-of-type {\n",
       "        vertical-align: middle;\n",
       "    }\n",
       "\n",
       "    .dataframe tbody tr th {\n",
       "        vertical-align: top;\n",
       "    }\n",
       "\n",
       "    .dataframe thead th {\n",
       "        text-align: right;\n",
       "    }\n",
       "</style>\n",
       "<table border=\"1\" class=\"dataframe\">\n",
       "  <thead>\n",
       "    <tr style=\"text-align: right;\">\n",
       "      <th></th>\n",
       "      <th>row_id</th>\n",
       "      <th>QuestionId</th>\n",
       "      <th>QuestionText</th>\n",
       "      <th>MC_Answer</th>\n",
       "      <th>StudentExplanation</th>\n",
       "      <th>Category</th>\n",
       "      <th>Misconception</th>\n",
       "      <th>target</th>\n",
       "    </tr>\n",
       "  </thead>\n",
       "  <tbody>\n",
       "    <tr>\n",
       "      <th>0</th>\n",
       "      <td>0</td>\n",
       "      <td>31772</td>\n",
       "      <td>What fraction of the shape is not shaded? Give...</td>\n",
       "      <td>\\( \\frac{1}{3} \\)</td>\n",
       "      <td>0ne third is equal to tree nineth</td>\n",
       "      <td>True_Correct</td>\n",
       "      <td>NA</td>\n",
       "      <td>True_Correct:NA</td>\n",
       "    </tr>\n",
       "    <tr>\n",
       "      <th>1</th>\n",
       "      <td>1</td>\n",
       "      <td>31772</td>\n",
       "      <td>What fraction of the shape is not shaded? Give...</td>\n",
       "      <td>\\( \\frac{1}{3} \\)</td>\n",
       "      <td>1 / 3 because 6 over 9 is 2 thirds and 1 third...</td>\n",
       "      <td>True_Correct</td>\n",
       "      <td>NA</td>\n",
       "      <td>True_Correct:NA</td>\n",
       "    </tr>\n",
       "    <tr>\n",
       "      <th>2</th>\n",
       "      <td>2</td>\n",
       "      <td>31772</td>\n",
       "      <td>What fraction of the shape is not shaded? Give...</td>\n",
       "      <td>\\( \\frac{1}{3} \\)</td>\n",
       "      <td>1 3rd is half of 3 6th, so it is simplee to un...</td>\n",
       "      <td>True_Neither</td>\n",
       "      <td>NA</td>\n",
       "      <td>True_Neither:NA</td>\n",
       "    </tr>\n",
       "    <tr>\n",
       "      <th>3</th>\n",
       "      <td>3</td>\n",
       "      <td>31772</td>\n",
       "      <td>What fraction of the shape is not shaded? Give...</td>\n",
       "      <td>\\( \\frac{1}{3} \\)</td>\n",
       "      <td>1 goes into everything and 3 goes into nine</td>\n",
       "      <td>True_Neither</td>\n",
       "      <td>NA</td>\n",
       "      <td>True_Neither:NA</td>\n",
       "    </tr>\n",
       "    <tr>\n",
       "      <th>4</th>\n",
       "      <td>4</td>\n",
       "      <td>31772</td>\n",
       "      <td>What fraction of the shape is not shaded? Give...</td>\n",
       "      <td>\\( \\frac{1}{3} \\)</td>\n",
       "      <td>1 out of every 3 isn't coloured</td>\n",
       "      <td>True_Correct</td>\n",
       "      <td>NA</td>\n",
       "      <td>True_Correct:NA</td>\n",
       "    </tr>\n",
       "    <tr>\n",
       "      <th>...</th>\n",
       "      <td>...</td>\n",
       "      <td>...</td>\n",
       "      <td>...</td>\n",
       "      <td>...</td>\n",
       "      <td>...</td>\n",
       "      <td>...</td>\n",
       "      <td>...</td>\n",
       "      <td>...</td>\n",
       "    </tr>\n",
       "    <tr>\n",
       "      <th>36691</th>\n",
       "      <td>36691</td>\n",
       "      <td>109465</td>\n",
       "      <td>The probability of an event occurring is \\( 0....</td>\n",
       "      <td>Unlikely</td>\n",
       "      <td>very unlikely.</td>\n",
       "      <td>False_Neither</td>\n",
       "      <td>NA</td>\n",
       "      <td>False_Neither:NA</td>\n",
       "    </tr>\n",
       "    <tr>\n",
       "      <th>36692</th>\n",
       "      <td>36692</td>\n",
       "      <td>109465</td>\n",
       "      <td>The probability of an event occurring is \\( 0....</td>\n",
       "      <td>Unlikely</td>\n",
       "      <td>yea pretty much unlikely from what it seems.</td>\n",
       "      <td>False_Neither</td>\n",
       "      <td>NA</td>\n",
       "      <td>False_Neither:NA</td>\n",
       "    </tr>\n",
       "    <tr>\n",
       "      <th>36693</th>\n",
       "      <td>36693</td>\n",
       "      <td>109465</td>\n",
       "      <td>The probability of an event occurring is \\( 0....</td>\n",
       "      <td>Unlikely</td>\n",
       "      <td>yeah pretty unlikelyy from what it seems.</td>\n",
       "      <td>False_Neither</td>\n",
       "      <td>NA</td>\n",
       "      <td>False_Neither:NA</td>\n",
       "    </tr>\n",
       "    <tr>\n",
       "      <th>36694</th>\n",
       "      <td>36694</td>\n",
       "      <td>109465</td>\n",
       "      <td>The probability of an event occurring is \\( 0....</td>\n",
       "      <td>Unlikely</td>\n",
       "      <td>you have 9 other numbers to get.</td>\n",
       "      <td>False_Neither</td>\n",
       "      <td>NA</td>\n",
       "      <td>False_Neither:NA</td>\n",
       "    </tr>\n",
       "    <tr>\n",
       "      <th>36695</th>\n",
       "      <td>36695</td>\n",
       "      <td>109465</td>\n",
       "      <td>The probability of an event occurring is \\( 0....</td>\n",
       "      <td>Unlikely</td>\n",
       "      <td>you have a chanve but it is not i think this b...</td>\n",
       "      <td>False_Neither</td>\n",
       "      <td>NA</td>\n",
       "      <td>False_Neither:NA</td>\n",
       "    </tr>\n",
       "  </tbody>\n",
       "</table>\n",
       "<p>36696 rows × 8 columns</p>\n",
       "</div>"
      ],
      "text/plain": [
       "       row_id  QuestionId                                       QuestionText  \\\n",
       "0           0       31772  What fraction of the shape is not shaded? Give...   \n",
       "1           1       31772  What fraction of the shape is not shaded? Give...   \n",
       "2           2       31772  What fraction of the shape is not shaded? Give...   \n",
       "3           3       31772  What fraction of the shape is not shaded? Give...   \n",
       "4           4       31772  What fraction of the shape is not shaded? Give...   \n",
       "...       ...         ...                                                ...   \n",
       "36691   36691      109465  The probability of an event occurring is \\( 0....   \n",
       "36692   36692      109465  The probability of an event occurring is \\( 0....   \n",
       "36693   36693      109465  The probability of an event occurring is \\( 0....   \n",
       "36694   36694      109465  The probability of an event occurring is \\( 0....   \n",
       "36695   36695      109465  The probability of an event occurring is \\( 0....   \n",
       "\n",
       "               MC_Answer                                 StudentExplanation  \\\n",
       "0      \\( \\frac{1}{3} \\)                  0ne third is equal to tree nineth   \n",
       "1      \\( \\frac{1}{3} \\)  1 / 3 because 6 over 9 is 2 thirds and 1 third...   \n",
       "2      \\( \\frac{1}{3} \\)  1 3rd is half of 3 6th, so it is simplee to un...   \n",
       "3      \\( \\frac{1}{3} \\)        1 goes into everything and 3 goes into nine   \n",
       "4      \\( \\frac{1}{3} \\)                    1 out of every 3 isn't coloured   \n",
       "...                  ...                                                ...   \n",
       "36691           Unlikely                                     very unlikely.   \n",
       "36692           Unlikely       yea pretty much unlikely from what it seems.   \n",
       "36693           Unlikely          yeah pretty unlikelyy from what it seems.   \n",
       "36694           Unlikely                   you have 9 other numbers to get.   \n",
       "36695           Unlikely  you have a chanve but it is not i think this b...   \n",
       "\n",
       "            Category Misconception            target  \n",
       "0       True_Correct            NA   True_Correct:NA  \n",
       "1       True_Correct            NA   True_Correct:NA  \n",
       "2       True_Neither            NA   True_Neither:NA  \n",
       "3       True_Neither            NA   True_Neither:NA  \n",
       "4       True_Correct            NA   True_Correct:NA  \n",
       "...              ...           ...               ...  \n",
       "36691  False_Neither            NA  False_Neither:NA  \n",
       "36692  False_Neither            NA  False_Neither:NA  \n",
       "36693  False_Neither            NA  False_Neither:NA  \n",
       "36694  False_Neither            NA  False_Neither:NA  \n",
       "36695  False_Neither            NA  False_Neither:NA  \n",
       "\n",
       "[36696 rows x 8 columns]"
      ]
     },
     "execution_count": 29,
     "metadata": {},
     "output_type": "execute_result"
    }
   ],
   "source": [
    "\n",
    "trainDF['target'] = trainDF[\"Category\"]+\":\"+trainDF[\"Misconception\"]\n",
    "trainDF"
   ]
  },
  {
   "cell_type": "markdown",
   "id": "dee1bae0",
   "metadata": {
    "papermill": {
     "duration": 0.019679,
     "end_time": "2025-09-29T16:42:05.501355",
     "exception": false,
     "start_time": "2025-09-29T16:42:05.481676",
     "status": "completed"
    },
    "tags": []
   },
   "source": [
    "### Create Label"
   ]
  },
  {
   "cell_type": "code",
   "execution_count": 30,
   "id": "f185a3ad",
   "metadata": {
    "execution": {
     "iopub.execute_input": "2025-09-29T16:42:05.539980Z",
     "iopub.status.busy": "2025-09-29T16:42:05.539767Z",
     "iopub.status.idle": "2025-09-29T16:42:05.550112Z",
     "shell.execute_reply": "2025-09-29T16:42:05.549447Z"
    },
    "papermill": {
     "duration": 0.03088,
     "end_time": "2025-09-29T16:42:05.551209",
     "exception": false,
     "start_time": "2025-09-29T16:42:05.520329",
     "status": "completed"
    },
    "tags": []
   },
   "outputs": [],
   "source": [
    "le = LabelEncoder()\n",
    "trainDF[\"label\"]= le.fit_transform(trainDF['target']) # encode caterogy into label"
   ]
  },
  {
   "cell_type": "code",
   "execution_count": 31,
   "id": "aa837ced",
   "metadata": {
    "execution": {
     "iopub.execute_input": "2025-09-29T16:42:05.590479Z",
     "iopub.status.busy": "2025-09-29T16:42:05.590277Z",
     "iopub.status.idle": "2025-09-29T16:42:05.600530Z",
     "shell.execute_reply": "2025-09-29T16:42:05.599867Z"
    },
    "papermill": {
     "duration": 0.031109,
     "end_time": "2025-09-29T16:42:05.601553",
     "exception": false,
     "start_time": "2025-09-29T16:42:05.570444",
     "status": "completed"
    },
    "tags": []
   },
   "outputs": [
    {
     "data": {
      "text/html": [
       "<div>\n",
       "<style scoped>\n",
       "    .dataframe tbody tr th:only-of-type {\n",
       "        vertical-align: middle;\n",
       "    }\n",
       "\n",
       "    .dataframe tbody tr th {\n",
       "        vertical-align: top;\n",
       "    }\n",
       "\n",
       "    .dataframe thead th {\n",
       "        text-align: right;\n",
       "    }\n",
       "</style>\n",
       "<table border=\"1\" class=\"dataframe\">\n",
       "  <thead>\n",
       "    <tr style=\"text-align: right;\">\n",
       "      <th></th>\n",
       "      <th>row_id</th>\n",
       "      <th>QuestionId</th>\n",
       "      <th>QuestionText</th>\n",
       "      <th>MC_Answer</th>\n",
       "      <th>StudentExplanation</th>\n",
       "      <th>Category</th>\n",
       "      <th>Misconception</th>\n",
       "      <th>target</th>\n",
       "      <th>label</th>\n",
       "    </tr>\n",
       "  </thead>\n",
       "  <tbody>\n",
       "    <tr>\n",
       "      <th>0</th>\n",
       "      <td>0</td>\n",
       "      <td>31772</td>\n",
       "      <td>What fraction of the shape is not shaded? Give...</td>\n",
       "      <td>\\( \\frac{1}{3} \\)</td>\n",
       "      <td>0ne third is equal to tree nineth</td>\n",
       "      <td>True_Correct</td>\n",
       "      <td>NA</td>\n",
       "      <td>True_Correct:NA</td>\n",
       "      <td>37</td>\n",
       "    </tr>\n",
       "    <tr>\n",
       "      <th>1</th>\n",
       "      <td>1</td>\n",
       "      <td>31772</td>\n",
       "      <td>What fraction of the shape is not shaded? Give...</td>\n",
       "      <td>\\( \\frac{1}{3} \\)</td>\n",
       "      <td>1 / 3 because 6 over 9 is 2 thirds and 1 third...</td>\n",
       "      <td>True_Correct</td>\n",
       "      <td>NA</td>\n",
       "      <td>True_Correct:NA</td>\n",
       "      <td>37</td>\n",
       "    </tr>\n",
       "    <tr>\n",
       "      <th>2</th>\n",
       "      <td>2</td>\n",
       "      <td>31772</td>\n",
       "      <td>What fraction of the shape is not shaded? Give...</td>\n",
       "      <td>\\( \\frac{1}{3} \\)</td>\n",
       "      <td>1 3rd is half of 3 6th, so it is simplee to un...</td>\n",
       "      <td>True_Neither</td>\n",
       "      <td>NA</td>\n",
       "      <td>True_Neither:NA</td>\n",
       "      <td>64</td>\n",
       "    </tr>\n",
       "    <tr>\n",
       "      <th>3</th>\n",
       "      <td>3</td>\n",
       "      <td>31772</td>\n",
       "      <td>What fraction of the shape is not shaded? Give...</td>\n",
       "      <td>\\( \\frac{1}{3} \\)</td>\n",
       "      <td>1 goes into everything and 3 goes into nine</td>\n",
       "      <td>True_Neither</td>\n",
       "      <td>NA</td>\n",
       "      <td>True_Neither:NA</td>\n",
       "      <td>64</td>\n",
       "    </tr>\n",
       "    <tr>\n",
       "      <th>4</th>\n",
       "      <td>4</td>\n",
       "      <td>31772</td>\n",
       "      <td>What fraction of the shape is not shaded? Give...</td>\n",
       "      <td>\\( \\frac{1}{3} \\)</td>\n",
       "      <td>1 out of every 3 isn't coloured</td>\n",
       "      <td>True_Correct</td>\n",
       "      <td>NA</td>\n",
       "      <td>True_Correct:NA</td>\n",
       "      <td>37</td>\n",
       "    </tr>\n",
       "    <tr>\n",
       "      <th>...</th>\n",
       "      <td>...</td>\n",
       "      <td>...</td>\n",
       "      <td>...</td>\n",
       "      <td>...</td>\n",
       "      <td>...</td>\n",
       "      <td>...</td>\n",
       "      <td>...</td>\n",
       "      <td>...</td>\n",
       "      <td>...</td>\n",
       "    </tr>\n",
       "    <tr>\n",
       "      <th>36691</th>\n",
       "      <td>36691</td>\n",
       "      <td>109465</td>\n",
       "      <td>The probability of an event occurring is \\( 0....</td>\n",
       "      <td>Unlikely</td>\n",
       "      <td>very unlikely.</td>\n",
       "      <td>False_Neither</td>\n",
       "      <td>NA</td>\n",
       "      <td>False_Neither:NA</td>\n",
       "      <td>36</td>\n",
       "    </tr>\n",
       "    <tr>\n",
       "      <th>36692</th>\n",
       "      <td>36692</td>\n",
       "      <td>109465</td>\n",
       "      <td>The probability of an event occurring is \\( 0....</td>\n",
       "      <td>Unlikely</td>\n",
       "      <td>yea pretty much unlikely from what it seems.</td>\n",
       "      <td>False_Neither</td>\n",
       "      <td>NA</td>\n",
       "      <td>False_Neither:NA</td>\n",
       "      <td>36</td>\n",
       "    </tr>\n",
       "    <tr>\n",
       "      <th>36693</th>\n",
       "      <td>36693</td>\n",
       "      <td>109465</td>\n",
       "      <td>The probability of an event occurring is \\( 0....</td>\n",
       "      <td>Unlikely</td>\n",
       "      <td>yeah pretty unlikelyy from what it seems.</td>\n",
       "      <td>False_Neither</td>\n",
       "      <td>NA</td>\n",
       "      <td>False_Neither:NA</td>\n",
       "      <td>36</td>\n",
       "    </tr>\n",
       "    <tr>\n",
       "      <th>36694</th>\n",
       "      <td>36694</td>\n",
       "      <td>109465</td>\n",
       "      <td>The probability of an event occurring is \\( 0....</td>\n",
       "      <td>Unlikely</td>\n",
       "      <td>you have 9 other numbers to get.</td>\n",
       "      <td>False_Neither</td>\n",
       "      <td>NA</td>\n",
       "      <td>False_Neither:NA</td>\n",
       "      <td>36</td>\n",
       "    </tr>\n",
       "    <tr>\n",
       "      <th>36695</th>\n",
       "      <td>36695</td>\n",
       "      <td>109465</td>\n",
       "      <td>The probability of an event occurring is \\( 0....</td>\n",
       "      <td>Unlikely</td>\n",
       "      <td>you have a chanve but it is not i think this b...</td>\n",
       "      <td>False_Neither</td>\n",
       "      <td>NA</td>\n",
       "      <td>False_Neither:NA</td>\n",
       "      <td>36</td>\n",
       "    </tr>\n",
       "  </tbody>\n",
       "</table>\n",
       "<p>36696 rows × 9 columns</p>\n",
       "</div>"
      ],
      "text/plain": [
       "       row_id  QuestionId                                       QuestionText  \\\n",
       "0           0       31772  What fraction of the shape is not shaded? Give...   \n",
       "1           1       31772  What fraction of the shape is not shaded? Give...   \n",
       "2           2       31772  What fraction of the shape is not shaded? Give...   \n",
       "3           3       31772  What fraction of the shape is not shaded? Give...   \n",
       "4           4       31772  What fraction of the shape is not shaded? Give...   \n",
       "...       ...         ...                                                ...   \n",
       "36691   36691      109465  The probability of an event occurring is \\( 0....   \n",
       "36692   36692      109465  The probability of an event occurring is \\( 0....   \n",
       "36693   36693      109465  The probability of an event occurring is \\( 0....   \n",
       "36694   36694      109465  The probability of an event occurring is \\( 0....   \n",
       "36695   36695      109465  The probability of an event occurring is \\( 0....   \n",
       "\n",
       "               MC_Answer                                 StudentExplanation  \\\n",
       "0      \\( \\frac{1}{3} \\)                  0ne third is equal to tree nineth   \n",
       "1      \\( \\frac{1}{3} \\)  1 / 3 because 6 over 9 is 2 thirds and 1 third...   \n",
       "2      \\( \\frac{1}{3} \\)  1 3rd is half of 3 6th, so it is simplee to un...   \n",
       "3      \\( \\frac{1}{3} \\)        1 goes into everything and 3 goes into nine   \n",
       "4      \\( \\frac{1}{3} \\)                    1 out of every 3 isn't coloured   \n",
       "...                  ...                                                ...   \n",
       "36691           Unlikely                                     very unlikely.   \n",
       "36692           Unlikely       yea pretty much unlikely from what it seems.   \n",
       "36693           Unlikely          yeah pretty unlikelyy from what it seems.   \n",
       "36694           Unlikely                   you have 9 other numbers to get.   \n",
       "36695           Unlikely  you have a chanve but it is not i think this b...   \n",
       "\n",
       "            Category Misconception            target  label  \n",
       "0       True_Correct            NA   True_Correct:NA     37  \n",
       "1       True_Correct            NA   True_Correct:NA     37  \n",
       "2       True_Neither            NA   True_Neither:NA     64  \n",
       "3       True_Neither            NA   True_Neither:NA     64  \n",
       "4       True_Correct            NA   True_Correct:NA     37  \n",
       "...              ...           ...               ...    ...  \n",
       "36691  False_Neither            NA  False_Neither:NA     36  \n",
       "36692  False_Neither            NA  False_Neither:NA     36  \n",
       "36693  False_Neither            NA  False_Neither:NA     36  \n",
       "36694  False_Neither            NA  False_Neither:NA     36  \n",
       "36695  False_Neither            NA  False_Neither:NA     36  \n",
       "\n",
       "[36696 rows x 9 columns]"
      ]
     },
     "execution_count": 31,
     "metadata": {},
     "output_type": "execute_result"
    }
   ],
   "source": [
    "trainDF"
   ]
  },
  {
   "cell_type": "code",
   "execution_count": 32,
   "id": "25bb9c30",
   "metadata": {
    "execution": {
     "iopub.execute_input": "2025-09-29T16:42:05.641583Z",
     "iopub.status.busy": "2025-09-29T16:42:05.641018Z",
     "iopub.status.idle": "2025-09-29T16:42:05.666890Z",
     "shell.execute_reply": "2025-09-29T16:42:05.666109Z"
    },
    "papermill": {
     "duration": 0.04683,
     "end_time": "2025-09-29T16:42:05.667956",
     "exception": false,
     "start_time": "2025-09-29T16:42:05.621126",
     "status": "completed"
    },
    "scrolled": true,
    "tags": []
   },
   "outputs": [
    {
     "name": "stdout",
     "output_type": "stream",
     "text": [
      "row_id : [    0     1     2 ... 36693 36694 36695]\n",
      "QuestionId : [ 31772  31774  31777  31778  32829  32833  32835  33471  33472  33474\n",
      "  76870  89443  91695 104665 109465]\n",
      "QuestionText : ['What fraction of the shape is not shaded? Give your answer in its simplest form. [Image: A triangle split into 9 equal smaller triangles. 6 of them are shaded.]'\n",
      " 'Calculate \\\\( \\\\frac{1}{2} \\\\div 6 \\\\)'\n",
      " 'A box contains \\\\( 120 \\\\) counters. The counters are red or blue. \\\\( \\\\frac{3}{5} \\\\) of the counters are red.\\nHow many red counters are there?'\n",
      " '\\\\( \\\\frac{A}{10}=\\\\frac{9}{15} \\\\) What is the value of \\\\( A \\\\) ?'\n",
      " '\\\\( 2 y=24 \\\\) What is the value of \\\\( y \\\\) ?'\n",
      " 'Calculate \\\\( \\\\frac{2}{3} \\\\times 5 \\\\)'\n",
      " 'Which number is the greatest?'\n",
      " 'A bag contains \\\\( 24 \\\\) yellow and green balls. \\\\( \\\\frac{3}{8} \\\\) of the balls are yellow. How many of the balls are green?'\n",
      " '\\\\( \\\\frac{1}{3}+\\\\frac{2}{5}= \\\\)'\n",
      " 'Sally has \\\\( \\\\frac{2}{3} \\\\) of a whole cake in the fridge. Robert eats \\\\( \\\\frac{1}{3} \\\\) of this piece. What fraction of the whole cake has Robert eaten?\\nChoose the number sentence that would solve the word problem.'\n",
      " 'This is part of a regular polygon. How many sides does it have? [Image: A diagram showing an obtuse angle labelled 144 degrees]'\n",
      " 'What number belongs in the box?\\n\\\\(\\n(-8)-(-5)=\\n\\\\square\\\\)'\n",
      " 'Dots have been arranged in these patterns: [Image: Pattern 1 consists of 6 dots, Pattern 2 consists of 10 dots, Pattern 3 consists of 14 dots and Pattern 4 consists of 18 dots] How many dots would there be in Pattern \\\\( 6 \\\\) ?'\n",
      " 'It takes \\\\( 3 \\\\) people a total of \\\\( 192 \\\\) hours to build a wall.\\n\\nHow long would it take if \\\\( 12 \\\\) people built the same wall?'\n",
      " 'The probability of an event occurring is \\\\( 0.9 \\\\).\\n\\nWhich of the following most accurately describes the likelihood of the event occurring?']\n",
      "MC_Answer : ['\\\\( \\\\frac{1}{3} \\\\)' '\\\\( \\\\frac{3}{6} \\\\)' '\\\\( \\\\frac{3}{8} \\\\)'\n",
      " '\\\\( \\\\frac{3}{9} \\\\)' '\\\\( 3 \\\\)' '\\\\( \\\\frac{1}{12} \\\\)'\n",
      " '\\\\( \\\\frac{6}{2} \\\\)' '\\\\( 24 \\\\)' '\\\\( 48 \\\\)' '\\\\( 60 \\\\)'\n",
      " '\\\\( 72 \\\\)' '\\\\( 4 \\\\)' '\\\\( 6 \\\\)' '\\\\( 9 \\\\)' '\\\\( 12 \\\\)'\n",
      " '\\\\( 22 \\\\)' '\\\\( 3 \\\\frac{1}{3} \\\\)' '\\\\( 5 \\\\frac{2}{3} \\\\)'\n",
      " '\\\\( \\\\frac{10}{15} \\\\)' '\\\\( \\\\frac{2}{15} \\\\)' '\\\\( 6.0001 \\\\)'\n",
      " '\\\\( 6.079 \\\\)' '\\\\( 6.2 \\\\)' '\\\\( 15 \\\\)' '\\\\( 8 \\\\)'\n",
      " '\\\\( \\\\frac{11}{15} \\\\)' '\\\\( \\\\frac{11}{30} \\\\)' '\\\\( \\\\frac{3}{15} \\\\)'\n",
      " '\\\\( \\\\frac{1}{3} \\\\times \\\\frac{2}{3} \\\\)'\n",
      " '\\\\( \\\\frac{1}{3}+\\\\frac{2}{3} \\\\)'\n",
      " '\\\\( \\\\frac{2}{3} \\\\div \\\\frac{1}{3} \\\\)'\n",
      " '\\\\( \\\\frac{2}{3}-\\\\frac{1}{3} \\\\)' 'Not enough information' '\\\\( 10 \\\\)'\n",
      " '\\\\( 5 \\\\)' '\\\\( -13 \\\\)' '\\\\( -3 \\\\)' '\\\\( 13 \\\\)' '\\\\( 20 \\\\)'\n",
      " '\\\\( 26 \\\\)' '\\\\( 36 \\\\)' '\\\\( 192 \\\\) hours' '\\\\( 48 \\\\) hours'\n",
      " '\\\\( 64 \\\\) hours' '\\\\( 768 \\\\) hours' 'Certain' 'Impossible' 'Likely'\n",
      " 'Unlikely']\n",
      "StudentExplanation : ['0ne third is equal to tree nineth'\n",
      " '1 / 3 because 6 over 9 is 2 thirds and 1 third is not shaded.'\n",
      " '1 3rd is half of 3 6th, so it is simplee to understand.' ...\n",
      " 'yeah pretty unlikelyy from what it seems.'\n",
      " 'you have 9 other numbers to get.'\n",
      " 'you have a chanve but it is not i think this because there is 0.9 odds so you have chance chance,']\n",
      "Category : ['True_Correct' 'True_Neither' 'True_Misconception' 'False_Neither'\n",
      " 'False_Misconception' 'False_Correct']\n",
      "Misconception : ['NA' 'Incomplete' 'WNB' 'SwapDividend' 'Mult' 'FlipChange' 'Irrelevant'\n",
      " 'Wrong_Fraction' 'Additive' 'Not_variable' 'Adding_terms'\n",
      " 'Inverse_operation' 'Inversion' 'Duplication' 'Wrong_Operation'\n",
      " 'Whole_numbers_larger' 'Longer_is_bigger' 'Ignores_zeroes'\n",
      " 'Shorter_is_bigger' 'Wrong_fraction' 'Adding_across'\n",
      " 'Denominator-only_change' 'Incorrect_equivalent_fraction_addition'\n",
      " 'Division' 'Subtraction' 'Unknowable' 'Definition' 'Interior' 'Positive'\n",
      " 'Tacking' 'Wrong_term' 'Firstterm' 'Base_rate' 'Multiplying_by_4'\n",
      " 'Certainty' 'Scale']\n",
      "target : ['True_Correct:NA' 'True_Neither:NA' 'True_Misconception:Incomplete'\n",
      " 'True_Misconception:WNB' 'False_Neither:NA' 'False_Misconception:WNB'\n",
      " 'False_Misconception:Incomplete' 'False_Correct:NA'\n",
      " 'False_Misconception:SwapDividend' 'False_Misconception:Mult'\n",
      " 'False_Misconception:FlipChange' 'True_Misconception:SwapDividend'\n",
      " 'True_Misconception:Mult' 'True_Misconception:FlipChange'\n",
      " 'False_Misconception:Irrelevant' 'False_Misconception:Wrong_Fraction'\n",
      " 'False_Misconception:Additive' 'True_Misconception:Irrelevant'\n",
      " 'True_Misconception:Additive' 'True_Misconception:Not_variable'\n",
      " 'False_Misconception:Adding_terms' 'False_Misconception:Not_variable'\n",
      " 'False_Misconception:Inverse_operation' 'True_Misconception:Inversion'\n",
      " 'True_Misconception:Duplication' 'False_Misconception:Duplication'\n",
      " 'False_Misconception:Inversion' 'False_Misconception:Wrong_Operation'\n",
      " 'False_Misconception:Whole_numbers_larger'\n",
      " 'False_Misconception:Longer_is_bigger'\n",
      " 'False_Misconception:Ignores_zeroes'\n",
      " 'False_Misconception:Shorter_is_bigger'\n",
      " 'True_Misconception:Whole_numbers_larger'\n",
      " 'True_Misconception:Shorter_is_bigger'\n",
      " 'True_Misconception:Longer_is_bigger' 'True_Misconception:Wrong_fraction'\n",
      " 'False_Misconception:Wrong_fraction' 'True_Misconception:Adding_across'\n",
      " 'True_Misconception:Denominator-only_change'\n",
      " 'True_Misconception:Incorrect_equivalent_fraction_addition'\n",
      " 'False_Misconception:Denominator-only_change'\n",
      " 'False_Misconception:Incorrect_equivalent_fraction_addition'\n",
      " 'False_Misconception:Adding_across' 'True_Misconception:Division'\n",
      " 'True_Misconception:Subtraction' 'False_Misconception:Subtraction'\n",
      " 'False_Misconception:Division' 'False_Misconception:Unknowable'\n",
      " 'False_Misconception:Definition' 'False_Misconception:Interior'\n",
      " 'True_Misconception:Definition' 'False_Misconception:Positive'\n",
      " 'False_Misconception:Tacking' 'True_Misconception:Tacking'\n",
      " 'True_Misconception:Positive' 'False_Misconception:Wrong_term'\n",
      " 'False_Misconception:Firstterm' 'True_Misconception:Wrong_term'\n",
      " 'True_Misconception:Firstterm' 'False_Misconception:Base_rate'\n",
      " 'True_Misconception:Base_rate' 'True_Misconception:Multiplying_by_4'\n",
      " 'False_Misconception:Multiplying_by_4' 'False_Misconception:Certainty'\n",
      " 'False_Misconception:Scale']\n",
      "label : [37 64 47 60 36 30 13  0 27 20 11 58 52 46 18 32  3 50 39 54  2 22 16 49\n",
      " 44  9 17 33 31 19 12 25 61 56 51 62 34 38 42 48  7 14  1 43 57 26  8 29\n",
      "  6 15 41 23 28 59 55 35 10 63 45  4 40 53 21  5 24]\n"
     ]
    }
   ],
   "source": [
    "# print all unique t\n",
    "printAllcolumnsValue(trainDF, showAll=True)"
   ]
  },
  {
   "cell_type": "markdown",
   "id": "06f5fece",
   "metadata": {
    "papermill": {
     "duration": 0.022923,
     "end_time": "2025-09-29T16:42:05.710769",
     "exception": false,
     "start_time": "2025-09-29T16:42:05.687846",
     "status": "completed"
    },
    "tags": []
   },
   "source": [
    "### Get Label Catergory class name"
   ]
  },
  {
   "cell_type": "code",
   "execution_count": 33,
   "id": "7bc9fa41",
   "metadata": {
    "execution": {
     "iopub.execute_input": "2025-09-29T16:42:05.750941Z",
     "iopub.status.busy": "2025-09-29T16:42:05.750722Z",
     "iopub.status.idle": "2025-09-29T16:42:05.754723Z",
     "shell.execute_reply": "2025-09-29T16:42:05.754221Z"
    },
    "papermill": {
     "duration": 0.024887,
     "end_time": "2025-09-29T16:42:05.755680",
     "exception": false,
     "start_time": "2025-09-29T16:42:05.730793",
     "status": "completed"
    },
    "tags": []
   },
   "outputs": [
    {
     "data": {
      "text/plain": [
       "array(['False_Correct:NA', 'False_Misconception:Adding_across',\n",
       "       'False_Misconception:Adding_terms', 'False_Misconception:Additive',\n",
       "       'False_Misconception:Base_rate', 'False_Misconception:Certainty',\n",
       "       'False_Misconception:Definition',\n",
       "       'False_Misconception:Denominator-only_change',\n",
       "       'False_Misconception:Division', 'False_Misconception:Duplication',\n",
       "       'False_Misconception:Firstterm', 'False_Misconception:FlipChange',\n",
       "       'False_Misconception:Ignores_zeroes',\n",
       "       'False_Misconception:Incomplete',\n",
       "       'False_Misconception:Incorrect_equivalent_fraction_addition',\n",
       "       'False_Misconception:Interior',\n",
       "       'False_Misconception:Inverse_operation',\n",
       "       'False_Misconception:Inversion', 'False_Misconception:Irrelevant',\n",
       "       'False_Misconception:Longer_is_bigger', 'False_Misconception:Mult',\n",
       "       'False_Misconception:Multiplying_by_4',\n",
       "       'False_Misconception:Not_variable', 'False_Misconception:Positive',\n",
       "       'False_Misconception:Scale',\n",
       "       'False_Misconception:Shorter_is_bigger',\n",
       "       'False_Misconception:Subtraction',\n",
       "       'False_Misconception:SwapDividend', 'False_Misconception:Tacking',\n",
       "       'False_Misconception:Unknowable', 'False_Misconception:WNB',\n",
       "       'False_Misconception:Whole_numbers_larger',\n",
       "       'False_Misconception:Wrong_Fraction',\n",
       "       'False_Misconception:Wrong_Operation',\n",
       "       'False_Misconception:Wrong_fraction',\n",
       "       'False_Misconception:Wrong_term', 'False_Neither:NA',\n",
       "       'True_Correct:NA', 'True_Misconception:Adding_across',\n",
       "       'True_Misconception:Additive', 'True_Misconception:Base_rate',\n",
       "       'True_Misconception:Definition',\n",
       "       'True_Misconception:Denominator-only_change',\n",
       "       'True_Misconception:Division', 'True_Misconception:Duplication',\n",
       "       'True_Misconception:Firstterm', 'True_Misconception:FlipChange',\n",
       "       'True_Misconception:Incomplete',\n",
       "       'True_Misconception:Incorrect_equivalent_fraction_addition',\n",
       "       'True_Misconception:Inversion', 'True_Misconception:Irrelevant',\n",
       "       'True_Misconception:Longer_is_bigger', 'True_Misconception:Mult',\n",
       "       'True_Misconception:Multiplying_by_4',\n",
       "       'True_Misconception:Not_variable', 'True_Misconception:Positive',\n",
       "       'True_Misconception:Shorter_is_bigger',\n",
       "       'True_Misconception:Subtraction',\n",
       "       'True_Misconception:SwapDividend', 'True_Misconception:Tacking',\n",
       "       'True_Misconception:WNB',\n",
       "       'True_Misconception:Whole_numbers_larger',\n",
       "       'True_Misconception:Wrong_fraction',\n",
       "       'True_Misconception:Wrong_term', 'True_Neither:NA'], dtype=object)"
      ]
     },
     "execution_count": 33,
     "metadata": {},
     "output_type": "execute_result"
    }
   ],
   "source": [
    "\n",
    "targetClasses = le.classes_   \n",
    "targetClasses"
   ]
  },
  {
   "cell_type": "code",
   "execution_count": 34,
   "id": "f6b49836",
   "metadata": {
    "execution": {
     "iopub.execute_input": "2025-09-29T16:42:05.795655Z",
     "iopub.status.busy": "2025-09-29T16:42:05.795279Z",
     "iopub.status.idle": "2025-09-29T16:42:05.799137Z",
     "shell.execute_reply": "2025-09-29T16:42:05.798641Z"
    },
    "papermill": {
     "duration": 0.024906,
     "end_time": "2025-09-29T16:42:05.800169",
     "exception": false,
     "start_time": "2025-09-29T16:42:05.775263",
     "status": "completed"
    },
    "tags": []
   },
   "outputs": [
    {
     "data": {
      "text/plain": [
       "65"
      ]
     },
     "execution_count": 34,
     "metadata": {},
     "output_type": "execute_result"
    }
   ],
   "source": [
    "nClasses = len(targetClasses)\n",
    "nClasses"
   ]
  },
  {
   "cell_type": "code",
   "execution_count": 35,
   "id": "c3f16c7f",
   "metadata": {
    "execution": {
     "iopub.execute_input": "2025-09-29T16:42:05.841015Z",
     "iopub.status.busy": "2025-09-29T16:42:05.840811Z",
     "iopub.status.idle": "2025-09-29T16:42:05.849468Z",
     "shell.execute_reply": "2025-09-29T16:42:05.848786Z"
    },
    "papermill": {
     "duration": 0.03035,
     "end_time": "2025-09-29T16:42:05.850614",
     "exception": false,
     "start_time": "2025-09-29T16:42:05.820264",
     "status": "completed"
    },
    "tags": []
   },
   "outputs": [
    {
     "name": "stdout",
     "output_type": "stream",
     "text": [
      "Train shape: (36696, 9) with 65 target classes\n"
     ]
    },
    {
     "data": {
      "text/html": [
       "<div>\n",
       "<style scoped>\n",
       "    .dataframe tbody tr th:only-of-type {\n",
       "        vertical-align: middle;\n",
       "    }\n",
       "\n",
       "    .dataframe tbody tr th {\n",
       "        vertical-align: top;\n",
       "    }\n",
       "\n",
       "    .dataframe thead th {\n",
       "        text-align: right;\n",
       "    }\n",
       "</style>\n",
       "<table border=\"1\" class=\"dataframe\">\n",
       "  <thead>\n",
       "    <tr style=\"text-align: right;\">\n",
       "      <th></th>\n",
       "      <th>row_id</th>\n",
       "      <th>QuestionId</th>\n",
       "      <th>QuestionText</th>\n",
       "      <th>MC_Answer</th>\n",
       "      <th>StudentExplanation</th>\n",
       "      <th>Category</th>\n",
       "      <th>Misconception</th>\n",
       "      <th>target</th>\n",
       "      <th>label</th>\n",
       "    </tr>\n",
       "  </thead>\n",
       "  <tbody>\n",
       "    <tr>\n",
       "      <th>0</th>\n",
       "      <td>0</td>\n",
       "      <td>31772</td>\n",
       "      <td>What fraction of the shape is not shaded? Give...</td>\n",
       "      <td>\\( \\frac{1}{3} \\)</td>\n",
       "      <td>0ne third is equal to tree nineth</td>\n",
       "      <td>True_Correct</td>\n",
       "      <td>NA</td>\n",
       "      <td>True_Correct:NA</td>\n",
       "      <td>37</td>\n",
       "    </tr>\n",
       "    <tr>\n",
       "      <th>1</th>\n",
       "      <td>1</td>\n",
       "      <td>31772</td>\n",
       "      <td>What fraction of the shape is not shaded? Give...</td>\n",
       "      <td>\\( \\frac{1}{3} \\)</td>\n",
       "      <td>1 / 3 because 6 over 9 is 2 thirds and 1 third...</td>\n",
       "      <td>True_Correct</td>\n",
       "      <td>NA</td>\n",
       "      <td>True_Correct:NA</td>\n",
       "      <td>37</td>\n",
       "    </tr>\n",
       "    <tr>\n",
       "      <th>2</th>\n",
       "      <td>2</td>\n",
       "      <td>31772</td>\n",
       "      <td>What fraction of the shape is not shaded? Give...</td>\n",
       "      <td>\\( \\frac{1}{3} \\)</td>\n",
       "      <td>1 3rd is half of 3 6th, so it is simplee to un...</td>\n",
       "      <td>True_Neither</td>\n",
       "      <td>NA</td>\n",
       "      <td>True_Neither:NA</td>\n",
       "      <td>64</td>\n",
       "    </tr>\n",
       "    <tr>\n",
       "      <th>3</th>\n",
       "      <td>3</td>\n",
       "      <td>31772</td>\n",
       "      <td>What fraction of the shape is not shaded? Give...</td>\n",
       "      <td>\\( \\frac{1}{3} \\)</td>\n",
       "      <td>1 goes into everything and 3 goes into nine</td>\n",
       "      <td>True_Neither</td>\n",
       "      <td>NA</td>\n",
       "      <td>True_Neither:NA</td>\n",
       "      <td>64</td>\n",
       "    </tr>\n",
       "    <tr>\n",
       "      <th>4</th>\n",
       "      <td>4</td>\n",
       "      <td>31772</td>\n",
       "      <td>What fraction of the shape is not shaded? Give...</td>\n",
       "      <td>\\( \\frac{1}{3} \\)</td>\n",
       "      <td>1 out of every 3 isn't coloured</td>\n",
       "      <td>True_Correct</td>\n",
       "      <td>NA</td>\n",
       "      <td>True_Correct:NA</td>\n",
       "      <td>37</td>\n",
       "    </tr>\n",
       "  </tbody>\n",
       "</table>\n",
       "</div>"
      ],
      "text/plain": [
       "   row_id  QuestionId                                       QuestionText  \\\n",
       "0       0       31772  What fraction of the shape is not shaded? Give...   \n",
       "1       1       31772  What fraction of the shape is not shaded? Give...   \n",
       "2       2       31772  What fraction of the shape is not shaded? Give...   \n",
       "3       3       31772  What fraction of the shape is not shaded? Give...   \n",
       "4       4       31772  What fraction of the shape is not shaded? Give...   \n",
       "\n",
       "           MC_Answer                                 StudentExplanation  \\\n",
       "0  \\( \\frac{1}{3} \\)                  0ne third is equal to tree nineth   \n",
       "1  \\( \\frac{1}{3} \\)  1 / 3 because 6 over 9 is 2 thirds and 1 third...   \n",
       "2  \\( \\frac{1}{3} \\)  1 3rd is half of 3 6th, so it is simplee to un...   \n",
       "3  \\( \\frac{1}{3} \\)        1 goes into everything and 3 goes into nine   \n",
       "4  \\( \\frac{1}{3} \\)                    1 out of every 3 isn't coloured   \n",
       "\n",
       "       Category Misconception           target  label  \n",
       "0  True_Correct            NA  True_Correct:NA     37  \n",
       "1  True_Correct            NA  True_Correct:NA     37  \n",
       "2  True_Neither            NA  True_Neither:NA     64  \n",
       "3  True_Neither            NA  True_Neither:NA     64  \n",
       "4  True_Correct            NA  True_Correct:NA     37  "
      ]
     },
     "execution_count": 35,
     "metadata": {},
     "output_type": "execute_result"
    }
   ],
   "source": [
    "print(f\"Train shape: {trainDF.shape} with {nClasses} target classes\")\n",
    "trainDF.head()"
   ]
  },
  {
   "cell_type": "markdown",
   "id": "4fe26449",
   "metadata": {
    "papermill": {
     "duration": 0.01979,
     "end_time": "2025-09-29T16:42:05.890656",
     "exception": false,
     "start_time": "2025-09-29T16:42:05.870866",
     "status": "completed"
    },
    "tags": []
   },
   "source": [
    "# Feature Engineering\n",
    "\n",
    "### Add correct answer flag"
   ]
  },
  {
   "cell_type": "code",
   "execution_count": 36,
   "id": "40ae2c9f",
   "metadata": {
    "execution": {
     "iopub.execute_input": "2025-09-29T16:42:05.931145Z",
     "iopub.status.busy": "2025-09-29T16:42:05.930952Z",
     "iopub.status.idle": "2025-09-29T16:42:06.097073Z",
     "shell.execute_reply": "2025-09-29T16:42:06.096209Z"
    },
    "papermill": {
     "duration": 0.187784,
     "end_time": "2025-09-29T16:42:06.098286",
     "exception": false,
     "start_time": "2025-09-29T16:42:05.910502",
     "status": "completed"
    },
    "tags": []
   },
   "outputs": [
    {
     "data": {
      "text/plain": [
       "0         True\n",
       "1         True\n",
       "2         True\n",
       "3         True\n",
       "4         True\n",
       "         ...  \n",
       "36691    False\n",
       "36692    False\n",
       "36693    False\n",
       "36694    False\n",
       "36695    False\n",
       "Length: 36696, dtype: bool"
      ]
     },
     "execution_count": 36,
     "metadata": {},
     "output_type": "execute_result"
    }
   ],
   "source": [
    "idx = trainDF.apply(lambda row: row[\"Category\"].split(\"_\")[0] , axis=1) == \"True\" # get Category with True \n",
    "idx"
   ]
  },
  {
   "cell_type": "code",
   "execution_count": 37,
   "id": "7d89f378",
   "metadata": {
    "execution": {
     "iopub.execute_input": "2025-09-29T16:42:06.143246Z",
     "iopub.status.busy": "2025-09-29T16:42:06.142613Z",
     "iopub.status.idle": "2025-09-29T16:42:06.156776Z",
     "shell.execute_reply": "2025-09-29T16:42:06.156058Z"
    },
    "papermill": {
     "duration": 0.036171,
     "end_time": "2025-09-29T16:42:06.157880",
     "exception": false,
     "start_time": "2025-09-29T16:42:06.121709",
     "status": "completed"
    },
    "tags": []
   },
   "outputs": [
    {
     "data": {
      "text/html": [
       "<div>\n",
       "<style scoped>\n",
       "    .dataframe tbody tr th:only-of-type {\n",
       "        vertical-align: middle;\n",
       "    }\n",
       "\n",
       "    .dataframe tbody tr th {\n",
       "        vertical-align: top;\n",
       "    }\n",
       "\n",
       "    .dataframe thead th {\n",
       "        text-align: right;\n",
       "    }\n",
       "</style>\n",
       "<table border=\"1\" class=\"dataframe\">\n",
       "  <thead>\n",
       "    <tr style=\"text-align: right;\">\n",
       "      <th></th>\n",
       "      <th>row_id</th>\n",
       "      <th>QuestionId</th>\n",
       "      <th>QuestionText</th>\n",
       "      <th>MC_Answer</th>\n",
       "      <th>StudentExplanation</th>\n",
       "      <th>Category</th>\n",
       "      <th>Misconception</th>\n",
       "      <th>target</th>\n",
       "      <th>label</th>\n",
       "    </tr>\n",
       "  </thead>\n",
       "  <tbody>\n",
       "    <tr>\n",
       "      <th>0</th>\n",
       "      <td>0</td>\n",
       "      <td>31772</td>\n",
       "      <td>What fraction of the shape is not shaded? Give...</td>\n",
       "      <td>\\( \\frac{1}{3} \\)</td>\n",
       "      <td>0ne third is equal to tree nineth</td>\n",
       "      <td>True_Correct</td>\n",
       "      <td>NA</td>\n",
       "      <td>True_Correct:NA</td>\n",
       "      <td>37</td>\n",
       "    </tr>\n",
       "    <tr>\n",
       "      <th>1</th>\n",
       "      <td>1</td>\n",
       "      <td>31772</td>\n",
       "      <td>What fraction of the shape is not shaded? Give...</td>\n",
       "      <td>\\( \\frac{1}{3} \\)</td>\n",
       "      <td>1 / 3 because 6 over 9 is 2 thirds and 1 third...</td>\n",
       "      <td>True_Correct</td>\n",
       "      <td>NA</td>\n",
       "      <td>True_Correct:NA</td>\n",
       "      <td>37</td>\n",
       "    </tr>\n",
       "    <tr>\n",
       "      <th>2</th>\n",
       "      <td>2</td>\n",
       "      <td>31772</td>\n",
       "      <td>What fraction of the shape is not shaded? Give...</td>\n",
       "      <td>\\( \\frac{1}{3} \\)</td>\n",
       "      <td>1 3rd is half of 3 6th, so it is simplee to un...</td>\n",
       "      <td>True_Neither</td>\n",
       "      <td>NA</td>\n",
       "      <td>True_Neither:NA</td>\n",
       "      <td>64</td>\n",
       "    </tr>\n",
       "    <tr>\n",
       "      <th>3</th>\n",
       "      <td>3</td>\n",
       "      <td>31772</td>\n",
       "      <td>What fraction of the shape is not shaded? Give...</td>\n",
       "      <td>\\( \\frac{1}{3} \\)</td>\n",
       "      <td>1 goes into everything and 3 goes into nine</td>\n",
       "      <td>True_Neither</td>\n",
       "      <td>NA</td>\n",
       "      <td>True_Neither:NA</td>\n",
       "      <td>64</td>\n",
       "    </tr>\n",
       "    <tr>\n",
       "      <th>4</th>\n",
       "      <td>4</td>\n",
       "      <td>31772</td>\n",
       "      <td>What fraction of the shape is not shaded? Give...</td>\n",
       "      <td>\\( \\frac{1}{3} \\)</td>\n",
       "      <td>1 out of every 3 isn't coloured</td>\n",
       "      <td>True_Correct</td>\n",
       "      <td>NA</td>\n",
       "      <td>True_Correct:NA</td>\n",
       "      <td>37</td>\n",
       "    </tr>\n",
       "    <tr>\n",
       "      <th>...</th>\n",
       "      <td>...</td>\n",
       "      <td>...</td>\n",
       "      <td>...</td>\n",
       "      <td>...</td>\n",
       "      <td>...</td>\n",
       "      <td>...</td>\n",
       "      <td>...</td>\n",
       "      <td>...</td>\n",
       "      <td>...</td>\n",
       "    </tr>\n",
       "    <tr>\n",
       "      <th>36275</th>\n",
       "      <td>36275</td>\n",
       "      <td>109465</td>\n",
       "      <td>The probability of an event occurring is \\( 0....</td>\n",
       "      <td>Likely</td>\n",
       "      <td>very close to one but not one so it cant be ce...</td>\n",
       "      <td>True_Correct</td>\n",
       "      <td>NA</td>\n",
       "      <td>True_Correct:NA</td>\n",
       "      <td>37</td>\n",
       "    </tr>\n",
       "    <tr>\n",
       "      <th>36276</th>\n",
       "      <td>36276</td>\n",
       "      <td>109465</td>\n",
       "      <td>The probability of an event occurring is \\( 0....</td>\n",
       "      <td>Likely</td>\n",
       "      <td>very high probability however it's not certain</td>\n",
       "      <td>True_Neither</td>\n",
       "      <td>NA</td>\n",
       "      <td>True_Neither:NA</td>\n",
       "      <td>64</td>\n",
       "    </tr>\n",
       "    <tr>\n",
       "      <th>36277</th>\n",
       "      <td>36277</td>\n",
       "      <td>109465</td>\n",
       "      <td>The probability of an event occurring is \\( 0....</td>\n",
       "      <td>Likely</td>\n",
       "      <td>we should use likely because we dont know for ...</td>\n",
       "      <td>True_Neither</td>\n",
       "      <td>NA</td>\n",
       "      <td>True_Neither:NA</td>\n",
       "      <td>64</td>\n",
       "    </tr>\n",
       "    <tr>\n",
       "      <th>36278</th>\n",
       "      <td>36278</td>\n",
       "      <td>109465</td>\n",
       "      <td>The probability of an event occurring is \\( 0....</td>\n",
       "      <td>Likely</td>\n",
       "      <td>well 0.9 = 90% and the only way something can ...</td>\n",
       "      <td>True_Correct</td>\n",
       "      <td>NA</td>\n",
       "      <td>True_Correct:NA</td>\n",
       "      <td>37</td>\n",
       "    </tr>\n",
       "    <tr>\n",
       "      <th>36279</th>\n",
       "      <td>36279</td>\n",
       "      <td>109465</td>\n",
       "      <td>The probability of an event occurring is \\( 0....</td>\n",
       "      <td>Likely</td>\n",
       "      <td>well normally if it is in the decimals its the...</td>\n",
       "      <td>True_Correct</td>\n",
       "      <td>NA</td>\n",
       "      <td>True_Correct:NA</td>\n",
       "      <td>37</td>\n",
       "    </tr>\n",
       "  </tbody>\n",
       "</table>\n",
       "<p>20470 rows × 9 columns</p>\n",
       "</div>"
      ],
      "text/plain": [
       "       row_id  QuestionId                                       QuestionText  \\\n",
       "0           0       31772  What fraction of the shape is not shaded? Give...   \n",
       "1           1       31772  What fraction of the shape is not shaded? Give...   \n",
       "2           2       31772  What fraction of the shape is not shaded? Give...   \n",
       "3           3       31772  What fraction of the shape is not shaded? Give...   \n",
       "4           4       31772  What fraction of the shape is not shaded? Give...   \n",
       "...       ...         ...                                                ...   \n",
       "36275   36275      109465  The probability of an event occurring is \\( 0....   \n",
       "36276   36276      109465  The probability of an event occurring is \\( 0....   \n",
       "36277   36277      109465  The probability of an event occurring is \\( 0....   \n",
       "36278   36278      109465  The probability of an event occurring is \\( 0....   \n",
       "36279   36279      109465  The probability of an event occurring is \\( 0....   \n",
       "\n",
       "               MC_Answer                                 StudentExplanation  \\\n",
       "0      \\( \\frac{1}{3} \\)                  0ne third is equal to tree nineth   \n",
       "1      \\( \\frac{1}{3} \\)  1 / 3 because 6 over 9 is 2 thirds and 1 third...   \n",
       "2      \\( \\frac{1}{3} \\)  1 3rd is half of 3 6th, so it is simplee to un...   \n",
       "3      \\( \\frac{1}{3} \\)        1 goes into everything and 3 goes into nine   \n",
       "4      \\( \\frac{1}{3} \\)                    1 out of every 3 isn't coloured   \n",
       "...                  ...                                                ...   \n",
       "36275             Likely  very close to one but not one so it cant be ce...   \n",
       "36276             Likely     very high probability however it's not certain   \n",
       "36277             Likely  we should use likely because we dont know for ...   \n",
       "36278             Likely  well 0.9 = 90% and the only way something can ...   \n",
       "36279             Likely  well normally if it is in the decimals its the...   \n",
       "\n",
       "           Category Misconception           target  label  \n",
       "0      True_Correct            NA  True_Correct:NA     37  \n",
       "1      True_Correct            NA  True_Correct:NA     37  \n",
       "2      True_Neither            NA  True_Neither:NA     64  \n",
       "3      True_Neither            NA  True_Neither:NA     64  \n",
       "4      True_Correct            NA  True_Correct:NA     37  \n",
       "...             ...           ...              ...    ...  \n",
       "36275  True_Correct            NA  True_Correct:NA     37  \n",
       "36276  True_Neither            NA  True_Neither:NA     64  \n",
       "36277  True_Neither            NA  True_Neither:NA     64  \n",
       "36278  True_Correct            NA  True_Correct:NA     37  \n",
       "36279  True_Correct            NA  True_Correct:NA     37  \n",
       "\n",
       "[20470 rows x 9 columns]"
      ]
     },
     "execution_count": 37,
     "metadata": {},
     "output_type": "execute_result"
    }
   ],
   "source": [
    "correct = trainDF.loc[idx].copy()\n",
    "correct"
   ]
  },
  {
   "cell_type": "code",
   "execution_count": 38,
   "id": "b1ba5169",
   "metadata": {
    "execution": {
     "iopub.execute_input": "2025-09-29T16:42:06.199106Z",
     "iopub.status.busy": "2025-09-29T16:42:06.198905Z",
     "iopub.status.idle": "2025-09-29T16:42:06.214045Z",
     "shell.execute_reply": "2025-09-29T16:42:06.213482Z"
    },
    "papermill": {
     "duration": 0.036826,
     "end_time": "2025-09-29T16:42:06.215007",
     "exception": false,
     "start_time": "2025-09-29T16:42:06.178181",
     "status": "completed"
    },
    "tags": []
   },
   "outputs": [
    {
     "data": {
      "text/html": [
       "<div>\n",
       "<style scoped>\n",
       "    .dataframe tbody tr th:only-of-type {\n",
       "        vertical-align: middle;\n",
       "    }\n",
       "\n",
       "    .dataframe tbody tr th {\n",
       "        vertical-align: top;\n",
       "    }\n",
       "\n",
       "    .dataframe thead th {\n",
       "        text-align: right;\n",
       "    }\n",
       "</style>\n",
       "<table border=\"1\" class=\"dataframe\">\n",
       "  <thead>\n",
       "    <tr style=\"text-align: right;\">\n",
       "      <th></th>\n",
       "      <th>row_id</th>\n",
       "      <th>QuestionId</th>\n",
       "      <th>QuestionText</th>\n",
       "      <th>MC_Answer</th>\n",
       "      <th>StudentExplanation</th>\n",
       "      <th>Category</th>\n",
       "      <th>Misconception</th>\n",
       "      <th>target</th>\n",
       "      <th>label</th>\n",
       "      <th>c</th>\n",
       "    </tr>\n",
       "  </thead>\n",
       "  <tbody>\n",
       "    <tr>\n",
       "      <th>61</th>\n",
       "      <td>61</td>\n",
       "      <td>31772</td>\n",
       "      <td>What fraction of the shape is not shaded? Give...</td>\n",
       "      <td>\\( \\frac{1}{3} \\)</td>\n",
       "      <td>3 goes into 9 three times which makes it one t...</td>\n",
       "      <td>True_Correct</td>\n",
       "      <td>NA</td>\n",
       "      <td>True_Correct:NA</td>\n",
       "      <td>37</td>\n",
       "      <td>2348</td>\n",
       "    </tr>\n",
       "    <tr>\n",
       "      <th>7</th>\n",
       "      <td>7</td>\n",
       "      <td>31772</td>\n",
       "      <td>What fraction of the shape is not shaded? Give...</td>\n",
       "      <td>\\( \\frac{1}{3} \\)</td>\n",
       "      <td>1/3 because 3/9 simplified divided by 3 would ...</td>\n",
       "      <td>True_Correct</td>\n",
       "      <td>NA</td>\n",
       "      <td>True_Correct:NA</td>\n",
       "      <td>37</td>\n",
       "      <td>2348</td>\n",
       "    </tr>\n",
       "    <tr>\n",
       "      <th>6</th>\n",
       "      <td>6</td>\n",
       "      <td>31772</td>\n",
       "      <td>What fraction of the shape is not shaded? Give...</td>\n",
       "      <td>\\( \\frac{1}{3} \\)</td>\n",
       "      <td>1/3 and 3/9 are not shaded but they are equal ...</td>\n",
       "      <td>True_Correct</td>\n",
       "      <td>NA</td>\n",
       "      <td>True_Correct:NA</td>\n",
       "      <td>37</td>\n",
       "      <td>2348</td>\n",
       "    </tr>\n",
       "    <tr>\n",
       "      <th>5</th>\n",
       "      <td>5</td>\n",
       "      <td>31772</td>\n",
       "      <td>What fraction of the shape is not shaded? Give...</td>\n",
       "      <td>\\( \\frac{1}{3} \\)</td>\n",
       "      <td>1 third because 6 over 9 is 2 thirds and 1 thi...</td>\n",
       "      <td>True_Correct</td>\n",
       "      <td>NA</td>\n",
       "      <td>True_Correct:NA</td>\n",
       "      <td>37</td>\n",
       "      <td>2348</td>\n",
       "    </tr>\n",
       "    <tr>\n",
       "      <th>60</th>\n",
       "      <td>60</td>\n",
       "      <td>31772</td>\n",
       "      <td>What fraction of the shape is not shaded? Give...</td>\n",
       "      <td>\\( \\frac{1}{3} \\)</td>\n",
       "      <td>3 from the 9 triangles are not shaded and 3/9 ...</td>\n",
       "      <td>True_Correct</td>\n",
       "      <td>NA</td>\n",
       "      <td>True_Correct:NA</td>\n",
       "      <td>37</td>\n",
       "      <td>2348</td>\n",
       "    </tr>\n",
       "    <tr>\n",
       "      <th>...</th>\n",
       "      <td>...</td>\n",
       "      <td>...</td>\n",
       "      <td>...</td>\n",
       "      <td>...</td>\n",
       "      <td>...</td>\n",
       "      <td>...</td>\n",
       "      <td>...</td>\n",
       "      <td>...</td>\n",
       "      <td>...</td>\n",
       "      <td>...</td>\n",
       "    </tr>\n",
       "    <tr>\n",
       "      <th>14338</th>\n",
       "      <td>14338</td>\n",
       "      <td>31778</td>\n",
       "      <td>\\( \\frac{A}{10}=\\frac{9}{15} \\) What is the va...</td>\n",
       "      <td>\\( 9 \\)</td>\n",
       "      <td>It is six because they are both equal to 3over5.</td>\n",
       "      <td>True_Correct</td>\n",
       "      <td>NA</td>\n",
       "      <td>True_Correct:NA</td>\n",
       "      <td>37</td>\n",
       "      <td>12</td>\n",
       "    </tr>\n",
       "    <tr>\n",
       "      <th>14335</th>\n",
       "      <td>14335</td>\n",
       "      <td>31778</td>\n",
       "      <td>\\( \\frac{A}{10}=\\frac{9}{15} \\) What is the va...</td>\n",
       "      <td>\\( 9 \\)</td>\n",
       "      <td>Il believe that is the ansewer because I calcu...</td>\n",
       "      <td>True_Neither</td>\n",
       "      <td>NA</td>\n",
       "      <td>True_Neither:NA</td>\n",
       "      <td>64</td>\n",
       "      <td>12</td>\n",
       "    </tr>\n",
       "    <tr>\n",
       "      <th>14321</th>\n",
       "      <td>14321</td>\n",
       "      <td>31778</td>\n",
       "      <td>\\( \\frac{A}{10}=\\frac{9}{15} \\) What is the va...</td>\n",
       "      <td>\\( 9 \\)</td>\n",
       "      <td>I think it's C because 6/10 is the same as 9/15.</td>\n",
       "      <td>True_Correct</td>\n",
       "      <td>NA</td>\n",
       "      <td>True_Correct:NA</td>\n",
       "      <td>37</td>\n",
       "      <td>12</td>\n",
       "    </tr>\n",
       "    <tr>\n",
       "      <th>14280</th>\n",
       "      <td>14280</td>\n",
       "      <td>31778</td>\n",
       "      <td>\\( \\frac{A}{10}=\\frac{9}{15} \\) What is the va...</td>\n",
       "      <td>\\( 9 \\)</td>\n",
       "      <td>Because 10 is 2 / 3 of 15, and 2 is 6.</td>\n",
       "      <td>True_Neither</td>\n",
       "      <td>NA</td>\n",
       "      <td>True_Neither:NA</td>\n",
       "      <td>64</td>\n",
       "      <td>12</td>\n",
       "    </tr>\n",
       "    <tr>\n",
       "      <th>14305</th>\n",
       "      <td>14305</td>\n",
       "      <td>31778</td>\n",
       "      <td>\\( \\frac{A}{10}=\\frac{9}{15} \\) What is the va...</td>\n",
       "      <td>\\( 9 \\)</td>\n",
       "      <td>I divided 9/15 by 3, then got 3/5 and timsed i...</td>\n",
       "      <td>True_Correct</td>\n",
       "      <td>NA</td>\n",
       "      <td>True_Correct:NA</td>\n",
       "      <td>37</td>\n",
       "      <td>12</td>\n",
       "    </tr>\n",
       "  </tbody>\n",
       "</table>\n",
       "<p>20470 rows × 10 columns</p>\n",
       "</div>"
      ],
      "text/plain": [
       "       row_id  QuestionId                                       QuestionText  \\\n",
       "61         61       31772  What fraction of the shape is not shaded? Give...   \n",
       "7           7       31772  What fraction of the shape is not shaded? Give...   \n",
       "6           6       31772  What fraction of the shape is not shaded? Give...   \n",
       "5           5       31772  What fraction of the shape is not shaded? Give...   \n",
       "60         60       31772  What fraction of the shape is not shaded? Give...   \n",
       "...       ...         ...                                                ...   \n",
       "14338   14338       31778  \\( \\frac{A}{10}=\\frac{9}{15} \\) What is the va...   \n",
       "14335   14335       31778  \\( \\frac{A}{10}=\\frac{9}{15} \\) What is the va...   \n",
       "14321   14321       31778  \\( \\frac{A}{10}=\\frac{9}{15} \\) What is the va...   \n",
       "14280   14280       31778  \\( \\frac{A}{10}=\\frac{9}{15} \\) What is the va...   \n",
       "14305   14305       31778  \\( \\frac{A}{10}=\\frac{9}{15} \\) What is the va...   \n",
       "\n",
       "               MC_Answer                                 StudentExplanation  \\\n",
       "61     \\( \\frac{1}{3} \\)  3 goes into 9 three times which makes it one t...   \n",
       "7      \\( \\frac{1}{3} \\)  1/3 because 3/9 simplified divided by 3 would ...   \n",
       "6      \\( \\frac{1}{3} \\)  1/3 and 3/9 are not shaded but they are equal ...   \n",
       "5      \\( \\frac{1}{3} \\)  1 third because 6 over 9 is 2 thirds and 1 thi...   \n",
       "60     \\( \\frac{1}{3} \\)  3 from the 9 triangles are not shaded and 3/9 ...   \n",
       "...                  ...                                                ...   \n",
       "14338            \\( 9 \\)   It is six because they are both equal to 3over5.   \n",
       "14335            \\( 9 \\)  Il believe that is the ansewer because I calcu...   \n",
       "14321            \\( 9 \\)   I think it's C because 6/10 is the same as 9/15.   \n",
       "14280            \\( 9 \\)             Because 10 is 2 / 3 of 15, and 2 is 6.   \n",
       "14305            \\( 9 \\)  I divided 9/15 by 3, then got 3/5 and timsed i...   \n",
       "\n",
       "           Category Misconception           target  label     c  \n",
       "61     True_Correct            NA  True_Correct:NA     37  2348  \n",
       "7      True_Correct            NA  True_Correct:NA     37  2348  \n",
       "6      True_Correct            NA  True_Correct:NA     37  2348  \n",
       "5      True_Correct            NA  True_Correct:NA     37  2348  \n",
       "60     True_Correct            NA  True_Correct:NA     37  2348  \n",
       "...             ...           ...              ...    ...   ...  \n",
       "14338  True_Correct            NA  True_Correct:NA     37    12  \n",
       "14335  True_Neither            NA  True_Neither:NA     64    12  \n",
       "14321  True_Correct            NA  True_Correct:NA     37    12  \n",
       "14280  True_Neither            NA  True_Neither:NA     64    12  \n",
       "14305  True_Correct            NA  True_Correct:NA     37    12  \n",
       "\n",
       "[20470 rows x 10 columns]"
      ]
     },
     "execution_count": 38,
     "metadata": {},
     "output_type": "execute_result"
    }
   ],
   "source": [
    "# group MC anwser with count \n",
    "correct['c'] = correct.groupby(['QuestionId','MC_Answer']).MC_Answer.transform('count')\n",
    "correct = correct.sort_values('c',ascending=False) # sort value \n",
    "correct"
   ]
  },
  {
   "cell_type": "code",
   "execution_count": 39,
   "id": "d4c832f9",
   "metadata": {
    "execution": {
     "iopub.execute_input": "2025-09-29T16:42:06.257538Z",
     "iopub.status.busy": "2025-09-29T16:42:06.257013Z",
     "iopub.status.idle": "2025-09-29T16:42:06.264282Z",
     "shell.execute_reply": "2025-09-29T16:42:06.263720Z"
    },
    "papermill": {
     "duration": 0.029874,
     "end_time": "2025-09-29T16:42:06.265339",
     "exception": false,
     "start_time": "2025-09-29T16:42:06.235465",
     "status": "completed"
    },
    "tags": []
   },
   "outputs": [
    {
     "data": {
      "text/html": [
       "<div>\n",
       "<style scoped>\n",
       "    .dataframe tbody tr th:only-of-type {\n",
       "        vertical-align: middle;\n",
       "    }\n",
       "\n",
       "    .dataframe tbody tr th {\n",
       "        vertical-align: top;\n",
       "    }\n",
       "\n",
       "    .dataframe thead th {\n",
       "        text-align: right;\n",
       "    }\n",
       "</style>\n",
       "<table border=\"1\" class=\"dataframe\">\n",
       "  <thead>\n",
       "    <tr style=\"text-align: right;\">\n",
       "      <th></th>\n",
       "      <th>QuestionId</th>\n",
       "      <th>MC_Answer</th>\n",
       "    </tr>\n",
       "  </thead>\n",
       "  <tbody>\n",
       "    <tr>\n",
       "      <th>61</th>\n",
       "      <td>31772</td>\n",
       "      <td>\\( \\frac{1}{3} \\)</td>\n",
       "    </tr>\n",
       "    <tr>\n",
       "      <th>7430</th>\n",
       "      <td>31774</td>\n",
       "      <td>\\( \\frac{1}{12} \\)</td>\n",
       "    </tr>\n",
       "    <tr>\n",
       "      <th>10770</th>\n",
       "      <td>31777</td>\n",
       "      <td>\\( 72 \\)</td>\n",
       "    </tr>\n",
       "    <tr>\n",
       "      <th>14266</th>\n",
       "      <td>31778</td>\n",
       "      <td>\\( 6 \\)</td>\n",
       "    </tr>\n",
       "    <tr>\n",
       "      <th>14440</th>\n",
       "      <td>32829</td>\n",
       "      <td>\\( 12 \\)</td>\n",
       "    </tr>\n",
       "    <tr>\n",
       "      <th>22004</th>\n",
       "      <td>32835</td>\n",
       "      <td>\\( 6.2 \\)</td>\n",
       "    </tr>\n",
       "    <tr>\n",
       "      <th>24278</th>\n",
       "      <td>33472</td>\n",
       "      <td>\\( \\frac{11}{15} \\)</td>\n",
       "    </tr>\n",
       "    <tr>\n",
       "      <th>18135</th>\n",
       "      <td>32833</td>\n",
       "      <td>\\( 3 \\frac{1}{3} \\)</td>\n",
       "    </tr>\n",
       "    <tr>\n",
       "      <th>33183</th>\n",
       "      <td>91695</td>\n",
       "      <td>\\( 26 \\)</td>\n",
       "    </tr>\n",
       "    <tr>\n",
       "      <th>30937</th>\n",
       "      <td>89443</td>\n",
       "      <td>\\( -3 \\)</td>\n",
       "    </tr>\n",
       "    <tr>\n",
       "      <th>22198</th>\n",
       "      <td>33471</td>\n",
       "      <td>\\( 15 \\)</td>\n",
       "    </tr>\n",
       "    <tr>\n",
       "      <th>26981</th>\n",
       "      <td>33474</td>\n",
       "      <td>\\( \\frac{1}{3} \\times \\frac{2}{3} \\)</td>\n",
       "    </tr>\n",
       "    <tr>\n",
       "      <th>36279</th>\n",
       "      <td>109465</td>\n",
       "      <td>Likely</td>\n",
       "    </tr>\n",
       "    <tr>\n",
       "      <th>28530</th>\n",
       "      <td>76870</td>\n",
       "      <td>\\( 10 \\)</td>\n",
       "    </tr>\n",
       "    <tr>\n",
       "      <th>34997</th>\n",
       "      <td>104665</td>\n",
       "      <td>\\( 48 \\) hours</td>\n",
       "    </tr>\n",
       "  </tbody>\n",
       "</table>\n",
       "</div>"
      ],
      "text/plain": [
       "       QuestionId                             MC_Answer\n",
       "61          31772                     \\( \\frac{1}{3} \\)\n",
       "7430        31774                    \\( \\frac{1}{12} \\)\n",
       "10770       31777                              \\( 72 \\)\n",
       "14266       31778                               \\( 6 \\)\n",
       "14440       32829                              \\( 12 \\)\n",
       "22004       32835                             \\( 6.2 \\)\n",
       "24278       33472                   \\( \\frac{11}{15} \\)\n",
       "18135       32833                   \\( 3 \\frac{1}{3} \\)\n",
       "33183       91695                              \\( 26 \\)\n",
       "30937       89443                              \\( -3 \\)\n",
       "22198       33471                              \\( 15 \\)\n",
       "26981       33474  \\( \\frac{1}{3} \\times \\frac{2}{3} \\)\n",
       "36279      109465                                Likely\n",
       "28530       76870                              \\( 10 \\)\n",
       "34997      104665                        \\( 48 \\) hours"
      ]
     },
     "execution_count": 39,
     "metadata": {},
     "output_type": "execute_result"
    }
   ],
   "source": [
    "# Drop duplicateds ID\n",
    "correct = correct.drop_duplicates(['QuestionId']) #drop dprlicate id\n",
    "correct = correct[['QuestionId','MC_Answer']]\n",
    "correct"
   ]
  },
  {
   "cell_type": "code",
   "execution_count": 40,
   "id": "e621e4af",
   "metadata": {
    "execution": {
     "iopub.execute_input": "2025-09-29T16:42:06.308012Z",
     "iopub.status.busy": "2025-09-29T16:42:06.307575Z",
     "iopub.status.idle": "2025-09-29T16:42:06.314011Z",
     "shell.execute_reply": "2025-09-29T16:42:06.313495Z"
    },
    "papermill": {
     "duration": 0.028741,
     "end_time": "2025-09-29T16:42:06.315048",
     "exception": false,
     "start_time": "2025-09-29T16:42:06.286307",
     "status": "completed"
    },
    "tags": []
   },
   "outputs": [
    {
     "data": {
      "text/html": [
       "<div>\n",
       "<style scoped>\n",
       "    .dataframe tbody tr th:only-of-type {\n",
       "        vertical-align: middle;\n",
       "    }\n",
       "\n",
       "    .dataframe tbody tr th {\n",
       "        vertical-align: top;\n",
       "    }\n",
       "\n",
       "    .dataframe thead th {\n",
       "        text-align: right;\n",
       "    }\n",
       "</style>\n",
       "<table border=\"1\" class=\"dataframe\">\n",
       "  <thead>\n",
       "    <tr style=\"text-align: right;\">\n",
       "      <th></th>\n",
       "      <th>QuestionId</th>\n",
       "      <th>MC_Answer</th>\n",
       "      <th>is_correct</th>\n",
       "    </tr>\n",
       "  </thead>\n",
       "  <tbody>\n",
       "    <tr>\n",
       "      <th>61</th>\n",
       "      <td>31772</td>\n",
       "      <td>\\( \\frac{1}{3} \\)</td>\n",
       "      <td>1</td>\n",
       "    </tr>\n",
       "    <tr>\n",
       "      <th>7430</th>\n",
       "      <td>31774</td>\n",
       "      <td>\\( \\frac{1}{12} \\)</td>\n",
       "      <td>1</td>\n",
       "    </tr>\n",
       "    <tr>\n",
       "      <th>10770</th>\n",
       "      <td>31777</td>\n",
       "      <td>\\( 72 \\)</td>\n",
       "      <td>1</td>\n",
       "    </tr>\n",
       "    <tr>\n",
       "      <th>14266</th>\n",
       "      <td>31778</td>\n",
       "      <td>\\( 6 \\)</td>\n",
       "      <td>1</td>\n",
       "    </tr>\n",
       "    <tr>\n",
       "      <th>14440</th>\n",
       "      <td>32829</td>\n",
       "      <td>\\( 12 \\)</td>\n",
       "      <td>1</td>\n",
       "    </tr>\n",
       "    <tr>\n",
       "      <th>22004</th>\n",
       "      <td>32835</td>\n",
       "      <td>\\( 6.2 \\)</td>\n",
       "      <td>1</td>\n",
       "    </tr>\n",
       "    <tr>\n",
       "      <th>24278</th>\n",
       "      <td>33472</td>\n",
       "      <td>\\( \\frac{11}{15} \\)</td>\n",
       "      <td>1</td>\n",
       "    </tr>\n",
       "    <tr>\n",
       "      <th>18135</th>\n",
       "      <td>32833</td>\n",
       "      <td>\\( 3 \\frac{1}{3} \\)</td>\n",
       "      <td>1</td>\n",
       "    </tr>\n",
       "    <tr>\n",
       "      <th>33183</th>\n",
       "      <td>91695</td>\n",
       "      <td>\\( 26 \\)</td>\n",
       "      <td>1</td>\n",
       "    </tr>\n",
       "    <tr>\n",
       "      <th>30937</th>\n",
       "      <td>89443</td>\n",
       "      <td>\\( -3 \\)</td>\n",
       "      <td>1</td>\n",
       "    </tr>\n",
       "    <tr>\n",
       "      <th>22198</th>\n",
       "      <td>33471</td>\n",
       "      <td>\\( 15 \\)</td>\n",
       "      <td>1</td>\n",
       "    </tr>\n",
       "    <tr>\n",
       "      <th>26981</th>\n",
       "      <td>33474</td>\n",
       "      <td>\\( \\frac{1}{3} \\times \\frac{2}{3} \\)</td>\n",
       "      <td>1</td>\n",
       "    </tr>\n",
       "    <tr>\n",
       "      <th>36279</th>\n",
       "      <td>109465</td>\n",
       "      <td>Likely</td>\n",
       "      <td>1</td>\n",
       "    </tr>\n",
       "    <tr>\n",
       "      <th>28530</th>\n",
       "      <td>76870</td>\n",
       "      <td>\\( 10 \\)</td>\n",
       "      <td>1</td>\n",
       "    </tr>\n",
       "    <tr>\n",
       "      <th>34997</th>\n",
       "      <td>104665</td>\n",
       "      <td>\\( 48 \\) hours</td>\n",
       "      <td>1</td>\n",
       "    </tr>\n",
       "  </tbody>\n",
       "</table>\n",
       "</div>"
      ],
      "text/plain": [
       "       QuestionId                             MC_Answer  is_correct\n",
       "61          31772                     \\( \\frac{1}{3} \\)           1\n",
       "7430        31774                    \\( \\frac{1}{12} \\)           1\n",
       "10770       31777                              \\( 72 \\)           1\n",
       "14266       31778                               \\( 6 \\)           1\n",
       "14440       32829                              \\( 12 \\)           1\n",
       "22004       32835                             \\( 6.2 \\)           1\n",
       "24278       33472                   \\( \\frac{11}{15} \\)           1\n",
       "18135       32833                   \\( 3 \\frac{1}{3} \\)           1\n",
       "33183       91695                              \\( 26 \\)           1\n",
       "30937       89443                              \\( -3 \\)           1\n",
       "22198       33471                              \\( 15 \\)           1\n",
       "26981       33474  \\( \\frac{1}{3} \\times \\frac{2}{3} \\)           1\n",
       "36279      109465                                Likely           1\n",
       "28530       76870                              \\( 10 \\)           1\n",
       "34997      104665                        \\( 48 \\) hours           1"
      ]
     },
     "execution_count": 40,
     "metadata": {},
     "output_type": "execute_result"
    }
   ],
   "source": [
    "# set correct flag = 1\n",
    "correct[\"is_correct\"] = 1\n",
    "correct"
   ]
  },
  {
   "cell_type": "markdown",
   "id": "f61093e5",
   "metadata": {
    "papermill": {
     "duration": 0.020836,
     "end_time": "2025-09-29T16:42:06.356829",
     "exception": false,
     "start_time": "2025-09-29T16:42:06.335993",
     "status": "completed"
    },
    "tags": []
   },
   "source": [
    "### Merge training data"
   ]
  },
  {
   "cell_type": "code",
   "execution_count": 41,
   "id": "693980a9",
   "metadata": {
    "execution": {
     "iopub.execute_input": "2025-09-29T16:42:06.399560Z",
     "iopub.status.busy": "2025-09-29T16:42:06.399359Z",
     "iopub.status.idle": "2025-09-29T16:42:06.423631Z",
     "shell.execute_reply": "2025-09-29T16:42:06.422880Z"
    },
    "papermill": {
     "duration": 0.047382,
     "end_time": "2025-09-29T16:42:06.424940",
     "exception": false,
     "start_time": "2025-09-29T16:42:06.377558",
     "status": "completed"
    },
    "tags": []
   },
   "outputs": [],
   "source": [
    "\n",
    "trainDF = trainDF.merge(correct, on=['QuestionId','MC_Answer'], how='left')\n",
    "trainDF[\"is_correct\"] = trainDF[\"is_correct\"].fillna(0) # fill miss data to 0"
   ]
  },
  {
   "cell_type": "code",
   "execution_count": 42,
   "id": "0b5fcdc2",
   "metadata": {
    "execution": {
     "iopub.execute_input": "2025-09-29T16:42:06.468598Z",
     "iopub.status.busy": "2025-09-29T16:42:06.468387Z",
     "iopub.status.idle": "2025-09-29T16:42:06.472129Z",
     "shell.execute_reply": "2025-09-29T16:42:06.471600Z"
    },
    "papermill": {
     "duration": 0.026571,
     "end_time": "2025-09-29T16:42:06.473095",
     "exception": false,
     "start_time": "2025-09-29T16:42:06.446524",
     "status": "completed"
    },
    "tags": []
   },
   "outputs": [],
   "source": [
    "trainDF[\"is_correct\"] = trainDF[\"is_correct\"].astype(int) # change is_correct data type to int"
   ]
  },
  {
   "cell_type": "code",
   "execution_count": 43,
   "id": "cefec11b",
   "metadata": {
    "execution": {
     "iopub.execute_input": "2025-09-29T16:42:06.517131Z",
     "iopub.status.busy": "2025-09-29T16:42:06.516926Z",
     "iopub.status.idle": "2025-09-29T16:42:06.527410Z",
     "shell.execute_reply": "2025-09-29T16:42:06.526857Z"
    },
    "papermill": {
     "duration": 0.033612,
     "end_time": "2025-09-29T16:42:06.528390",
     "exception": false,
     "start_time": "2025-09-29T16:42:06.494778",
     "status": "completed"
    },
    "tags": []
   },
   "outputs": [
    {
     "data": {
      "text/html": [
       "<div>\n",
       "<style scoped>\n",
       "    .dataframe tbody tr th:only-of-type {\n",
       "        vertical-align: middle;\n",
       "    }\n",
       "\n",
       "    .dataframe tbody tr th {\n",
       "        vertical-align: top;\n",
       "    }\n",
       "\n",
       "    .dataframe thead th {\n",
       "        text-align: right;\n",
       "    }\n",
       "</style>\n",
       "<table border=\"1\" class=\"dataframe\">\n",
       "  <thead>\n",
       "    <tr style=\"text-align: right;\">\n",
       "      <th></th>\n",
       "      <th>row_id</th>\n",
       "      <th>QuestionId</th>\n",
       "      <th>QuestionText</th>\n",
       "      <th>MC_Answer</th>\n",
       "      <th>StudentExplanation</th>\n",
       "      <th>Category</th>\n",
       "      <th>Misconception</th>\n",
       "      <th>target</th>\n",
       "      <th>label</th>\n",
       "      <th>is_correct</th>\n",
       "    </tr>\n",
       "  </thead>\n",
       "  <tbody>\n",
       "    <tr>\n",
       "      <th>0</th>\n",
       "      <td>0</td>\n",
       "      <td>31772</td>\n",
       "      <td>What fraction of the shape is not shaded? Give...</td>\n",
       "      <td>\\( \\frac{1}{3} \\)</td>\n",
       "      <td>0ne third is equal to tree nineth</td>\n",
       "      <td>True_Correct</td>\n",
       "      <td>NA</td>\n",
       "      <td>True_Correct:NA</td>\n",
       "      <td>37</td>\n",
       "      <td>1</td>\n",
       "    </tr>\n",
       "    <tr>\n",
       "      <th>1</th>\n",
       "      <td>1</td>\n",
       "      <td>31772</td>\n",
       "      <td>What fraction of the shape is not shaded? Give...</td>\n",
       "      <td>\\( \\frac{1}{3} \\)</td>\n",
       "      <td>1 / 3 because 6 over 9 is 2 thirds and 1 third...</td>\n",
       "      <td>True_Correct</td>\n",
       "      <td>NA</td>\n",
       "      <td>True_Correct:NA</td>\n",
       "      <td>37</td>\n",
       "      <td>1</td>\n",
       "    </tr>\n",
       "    <tr>\n",
       "      <th>2</th>\n",
       "      <td>2</td>\n",
       "      <td>31772</td>\n",
       "      <td>What fraction of the shape is not shaded? Give...</td>\n",
       "      <td>\\( \\frac{1}{3} \\)</td>\n",
       "      <td>1 3rd is half of 3 6th, so it is simplee to un...</td>\n",
       "      <td>True_Neither</td>\n",
       "      <td>NA</td>\n",
       "      <td>True_Neither:NA</td>\n",
       "      <td>64</td>\n",
       "      <td>1</td>\n",
       "    </tr>\n",
       "    <tr>\n",
       "      <th>3</th>\n",
       "      <td>3</td>\n",
       "      <td>31772</td>\n",
       "      <td>What fraction of the shape is not shaded? Give...</td>\n",
       "      <td>\\( \\frac{1}{3} \\)</td>\n",
       "      <td>1 goes into everything and 3 goes into nine</td>\n",
       "      <td>True_Neither</td>\n",
       "      <td>NA</td>\n",
       "      <td>True_Neither:NA</td>\n",
       "      <td>64</td>\n",
       "      <td>1</td>\n",
       "    </tr>\n",
       "    <tr>\n",
       "      <th>4</th>\n",
       "      <td>4</td>\n",
       "      <td>31772</td>\n",
       "      <td>What fraction of the shape is not shaded? Give...</td>\n",
       "      <td>\\( \\frac{1}{3} \\)</td>\n",
       "      <td>1 out of every 3 isn't coloured</td>\n",
       "      <td>True_Correct</td>\n",
       "      <td>NA</td>\n",
       "      <td>True_Correct:NA</td>\n",
       "      <td>37</td>\n",
       "      <td>1</td>\n",
       "    </tr>\n",
       "    <tr>\n",
       "      <th>...</th>\n",
       "      <td>...</td>\n",
       "      <td>...</td>\n",
       "      <td>...</td>\n",
       "      <td>...</td>\n",
       "      <td>...</td>\n",
       "      <td>...</td>\n",
       "      <td>...</td>\n",
       "      <td>...</td>\n",
       "      <td>...</td>\n",
       "      <td>...</td>\n",
       "    </tr>\n",
       "    <tr>\n",
       "      <th>36691</th>\n",
       "      <td>36691</td>\n",
       "      <td>109465</td>\n",
       "      <td>The probability of an event occurring is \\( 0....</td>\n",
       "      <td>Unlikely</td>\n",
       "      <td>very unlikely.</td>\n",
       "      <td>False_Neither</td>\n",
       "      <td>NA</td>\n",
       "      <td>False_Neither:NA</td>\n",
       "      <td>36</td>\n",
       "      <td>0</td>\n",
       "    </tr>\n",
       "    <tr>\n",
       "      <th>36692</th>\n",
       "      <td>36692</td>\n",
       "      <td>109465</td>\n",
       "      <td>The probability of an event occurring is \\( 0....</td>\n",
       "      <td>Unlikely</td>\n",
       "      <td>yea pretty much unlikely from what it seems.</td>\n",
       "      <td>False_Neither</td>\n",
       "      <td>NA</td>\n",
       "      <td>False_Neither:NA</td>\n",
       "      <td>36</td>\n",
       "      <td>0</td>\n",
       "    </tr>\n",
       "    <tr>\n",
       "      <th>36693</th>\n",
       "      <td>36693</td>\n",
       "      <td>109465</td>\n",
       "      <td>The probability of an event occurring is \\( 0....</td>\n",
       "      <td>Unlikely</td>\n",
       "      <td>yeah pretty unlikelyy from what it seems.</td>\n",
       "      <td>False_Neither</td>\n",
       "      <td>NA</td>\n",
       "      <td>False_Neither:NA</td>\n",
       "      <td>36</td>\n",
       "      <td>0</td>\n",
       "    </tr>\n",
       "    <tr>\n",
       "      <th>36694</th>\n",
       "      <td>36694</td>\n",
       "      <td>109465</td>\n",
       "      <td>The probability of an event occurring is \\( 0....</td>\n",
       "      <td>Unlikely</td>\n",
       "      <td>you have 9 other numbers to get.</td>\n",
       "      <td>False_Neither</td>\n",
       "      <td>NA</td>\n",
       "      <td>False_Neither:NA</td>\n",
       "      <td>36</td>\n",
       "      <td>0</td>\n",
       "    </tr>\n",
       "    <tr>\n",
       "      <th>36695</th>\n",
       "      <td>36695</td>\n",
       "      <td>109465</td>\n",
       "      <td>The probability of an event occurring is \\( 0....</td>\n",
       "      <td>Unlikely</td>\n",
       "      <td>you have a chanve but it is not i think this b...</td>\n",
       "      <td>False_Neither</td>\n",
       "      <td>NA</td>\n",
       "      <td>False_Neither:NA</td>\n",
       "      <td>36</td>\n",
       "      <td>0</td>\n",
       "    </tr>\n",
       "  </tbody>\n",
       "</table>\n",
       "<p>36696 rows × 10 columns</p>\n",
       "</div>"
      ],
      "text/plain": [
       "       row_id  QuestionId                                       QuestionText  \\\n",
       "0           0       31772  What fraction of the shape is not shaded? Give...   \n",
       "1           1       31772  What fraction of the shape is not shaded? Give...   \n",
       "2           2       31772  What fraction of the shape is not shaded? Give...   \n",
       "3           3       31772  What fraction of the shape is not shaded? Give...   \n",
       "4           4       31772  What fraction of the shape is not shaded? Give...   \n",
       "...       ...         ...                                                ...   \n",
       "36691   36691      109465  The probability of an event occurring is \\( 0....   \n",
       "36692   36692      109465  The probability of an event occurring is \\( 0....   \n",
       "36693   36693      109465  The probability of an event occurring is \\( 0....   \n",
       "36694   36694      109465  The probability of an event occurring is \\( 0....   \n",
       "36695   36695      109465  The probability of an event occurring is \\( 0....   \n",
       "\n",
       "               MC_Answer                                 StudentExplanation  \\\n",
       "0      \\( \\frac{1}{3} \\)                  0ne third is equal to tree nineth   \n",
       "1      \\( \\frac{1}{3} \\)  1 / 3 because 6 over 9 is 2 thirds and 1 third...   \n",
       "2      \\( \\frac{1}{3} \\)  1 3rd is half of 3 6th, so it is simplee to un...   \n",
       "3      \\( \\frac{1}{3} \\)        1 goes into everything and 3 goes into nine   \n",
       "4      \\( \\frac{1}{3} \\)                    1 out of every 3 isn't coloured   \n",
       "...                  ...                                                ...   \n",
       "36691           Unlikely                                     very unlikely.   \n",
       "36692           Unlikely       yea pretty much unlikely from what it seems.   \n",
       "36693           Unlikely          yeah pretty unlikelyy from what it seems.   \n",
       "36694           Unlikely                   you have 9 other numbers to get.   \n",
       "36695           Unlikely  you have a chanve but it is not i think this b...   \n",
       "\n",
       "            Category Misconception            target  label  is_correct  \n",
       "0       True_Correct            NA   True_Correct:NA     37           1  \n",
       "1       True_Correct            NA   True_Correct:NA     37           1  \n",
       "2       True_Neither            NA   True_Neither:NA     64           1  \n",
       "3       True_Neither            NA   True_Neither:NA     64           1  \n",
       "4       True_Correct            NA   True_Correct:NA     37           1  \n",
       "...              ...           ...               ...    ...         ...  \n",
       "36691  False_Neither            NA  False_Neither:NA     36           0  \n",
       "36692  False_Neither            NA  False_Neither:NA     36           0  \n",
       "36693  False_Neither            NA  False_Neither:NA     36           0  \n",
       "36694  False_Neither            NA  False_Neither:NA     36           0  \n",
       "36695  False_Neither            NA  False_Neither:NA     36           0  \n",
       "\n",
       "[36696 rows x 10 columns]"
      ]
     },
     "execution_count": 43,
     "metadata": {},
     "output_type": "execute_result"
    }
   ],
   "source": [
    "trainDF"
   ]
  },
  {
   "cell_type": "code",
   "execution_count": 44,
   "id": "e825b8ae",
   "metadata": {
    "execution": {
     "iopub.execute_input": "2025-09-29T16:42:06.572032Z",
     "iopub.status.busy": "2025-09-29T16:42:06.571828Z",
     "iopub.status.idle": "2025-09-29T16:42:06.912166Z",
     "shell.execute_reply": "2025-09-29T16:42:06.911486Z"
    },
    "papermill": {
     "duration": 0.363509,
     "end_time": "2025-09-29T16:42:06.913227",
     "exception": false,
     "start_time": "2025-09-29T16:42:06.549718",
     "status": "completed"
    },
    "tags": []
   },
   "outputs": [
    {
     "data": {
      "image/png": "[encoded data removed]",
      "text/plain": [
       "<Figure size 640x480 with 1 Axes>"
      ]
     },
     "metadata": {},
     "output_type": "display_data"
    }
   ],
   "source": [
    "trainDF[\"is_correct\"].value_counts().plot(kind=\"bar\", title=\"Correct vs Incorrect\");"
   ]
  },
  {
   "cell_type": "markdown",
   "id": "8f95024f",
   "metadata": {
    "papermill": {
     "duration": 0.021579,
     "end_time": "2025-09-29T16:42:06.956806",
     "exception": false,
     "start_time": "2025-09-29T16:42:06.935227",
     "status": "completed"
    },
    "tags": []
   },
   "source": [
    "## Seem the training Data extremely imbalance"
   ]
  },
  {
   "cell_type": "code",
   "execution_count": 45,
   "id": "7a1c0e03",
   "metadata": {
    "execution": {
     "iopub.execute_input": "2025-09-29T16:42:07.000707Z",
     "iopub.status.busy": "2025-09-29T16:42:07.000492Z",
     "iopub.status.idle": "2025-09-29T16:42:07.412184Z",
     "shell.execute_reply": "2025-09-29T16:42:07.411461Z"
    },
    "papermill": {
     "duration": 0.434727,
     "end_time": "2025-09-29T16:42:07.413265",
     "exception": false,
     "start_time": "2025-09-29T16:42:06.978538",
     "status": "completed"
    },
    "tags": []
   },
   "outputs": [
    {
     "data": {
      "image/png": "[encoded data removed]",
      "text/plain": [
       "<Figure size 640x480 with 1 Axes>"
      ]
     },
     "metadata": {},
     "output_type": "display_data"
    }
   ],
   "source": [
    "trainDF[\"label\"].value_counts().plot(kind=\"bar\", title=\"Distribution Label\");"
   ]
  },
  {
   "cell_type": "code",
   "execution_count": 46,
   "id": "b5ddc70c",
   "metadata": {
    "execution": {
     "iopub.execute_input": "2025-09-29T16:42:07.459091Z",
     "iopub.status.busy": "2025-09-29T16:42:07.458878Z",
     "iopub.status.idle": "2025-09-29T16:42:07.466292Z",
     "shell.execute_reply": "2025-09-29T16:42:07.465784Z"
    },
    "papermill": {
     "duration": 0.031312,
     "end_time": "2025-09-29T16:42:07.467300",
     "exception": false,
     "start_time": "2025-09-29T16:42:07.435988",
     "status": "completed"
    },
    "tags": []
   },
   "outputs": [
    {
     "data": {
      "text/plain": [
       "count       65.000000\n",
       "mean       564.553846\n",
       "std       2071.725263\n",
       "min          1.000000\n",
       "25%          6.000000\n",
       "50%         50.000000\n",
       "75%        291.000000\n",
       "max      14802.000000\n",
       "Name: count, dtype: float64"
      ]
     },
     "execution_count": 46,
     "metadata": {},
     "output_type": "execute_result"
    }
   ],
   "source": [
    "trainDF[\"label\"].value_counts().describe()"
   ]
  },
  {
   "cell_type": "code",
   "execution_count": 47,
   "id": "39ba37f0",
   "metadata": {
    "execution": {
     "iopub.execute_input": "2025-09-29T16:42:07.512026Z",
     "iopub.status.busy": "2025-09-29T16:42:07.511846Z",
     "iopub.status.idle": "2025-09-29T16:42:07.517052Z",
     "shell.execute_reply": "2025-09-29T16:42:07.516529Z"
    },
    "papermill": {
     "duration": 0.028858,
     "end_time": "2025-09-29T16:42:07.518146",
     "exception": false,
     "start_time": "2025-09-29T16:42:07.489288",
     "status": "completed"
    },
    "scrolled": true,
    "tags": []
   },
   "outputs": [
    {
     "data": {
      "text/plain": [
       "label\n",
       "37    14802\n",
       "36     6542\n",
       "64     5265\n",
       "13     1446\n",
       "3       891\n",
       "9       698\n",
       "26      618\n",
       "23      564\n",
       "35      550\n",
       "34      412\n",
       "17      409\n",
       "18      409\n",
       "20      345\n",
       "7       332\n",
       "31      328\n",
       "1       306\n",
       "30      291\n",
       "29      282\n",
       "32      273\n",
       "0       227\n",
       "27      198\n",
       "24      179\n",
       "59      162\n",
       "22      153\n",
       "28      128\n",
       "2        97\n",
       "10       96\n",
       "21       93\n",
       "50       88\n",
       "11       74\n",
       "8        58\n",
       "6        51\n",
       "15       50\n",
       "39       38\n",
       "19       23\n",
       "12       23\n",
       "4        22\n",
       "16       21\n",
       "5        18\n",
       "56       17\n",
       "45       11\n",
       "58        8\n",
       "47        8\n",
       "63        8\n",
       "52        8\n",
       "60        8\n",
       "14        7\n",
       "33        6\n",
       "44        6\n",
       "62        6\n",
       "Name: count, dtype: int64"
      ]
     },
     "execution_count": 47,
     "metadata": {},
     "output_type": "execute_result"
    }
   ],
   "source": [
    "trainDF[\"label\"].value_counts()[:50]  # top 50"
   ]
  },
  {
   "cell_type": "markdown",
   "id": "c26935b4",
   "metadata": {
    "papermill": {
     "duration": 0.027194,
     "end_time": "2025-09-29T16:42:07.568817",
     "exception": false,
     "start_time": "2025-09-29T16:42:07.541623",
     "status": "completed"
    },
    "tags": []
   },
   "source": [
    "## Merge into Test /Submit Data"
   ]
  },
  {
   "cell_type": "code",
   "execution_count": 48,
   "id": "e8daca34",
   "metadata": {
    "execution": {
     "iopub.execute_input": "2025-09-29T16:42:07.613375Z",
     "iopub.status.busy": "2025-09-29T16:42:07.613185Z",
     "iopub.status.idle": "2025-09-29T16:42:07.619235Z",
     "shell.execute_reply": "2025-09-29T16:42:07.618527Z"
    },
    "papermill": {
     "duration": 0.029547,
     "end_time": "2025-09-29T16:42:07.620219",
     "exception": false,
     "start_time": "2025-09-29T16:42:07.590672",
     "status": "completed"
    },
    "tags": []
   },
   "outputs": [],
   "source": [
    "testDF = testDF.merge(correct, on=['QuestionId','MC_Answer'], how='left')\n",
    "testDF[\"is_correct\"] = testDF[\"is_correct\"].fillna(0)  # fill Na to 0\n"
   ]
  },
  {
   "cell_type": "code",
   "execution_count": 49,
   "id": "29b90006",
   "metadata": {
    "execution": {
     "iopub.execute_input": "2025-09-29T16:42:07.665095Z",
     "iopub.status.busy": "2025-09-29T16:42:07.664895Z",
     "iopub.status.idle": "2025-09-29T16:42:07.671651Z",
     "shell.execute_reply": "2025-09-29T16:42:07.671151Z"
    },
    "papermill": {
     "duration": 0.030225,
     "end_time": "2025-09-29T16:42:07.672617",
     "exception": false,
     "start_time": "2025-09-29T16:42:07.642392",
     "status": "completed"
    },
    "tags": []
   },
   "outputs": [
    {
     "data": {
      "text/html": [
       "<div>\n",
       "<style scoped>\n",
       "    .dataframe tbody tr th:only-of-type {\n",
       "        vertical-align: middle;\n",
       "    }\n",
       "\n",
       "    .dataframe tbody tr th {\n",
       "        vertical-align: top;\n",
       "    }\n",
       "\n",
       "    .dataframe thead th {\n",
       "        text-align: right;\n",
       "    }\n",
       "</style>\n",
       "<table border=\"1\" class=\"dataframe\">\n",
       "  <thead>\n",
       "    <tr style=\"text-align: right;\">\n",
       "      <th></th>\n",
       "      <th>row_id</th>\n",
       "      <th>QuestionId</th>\n",
       "      <th>QuestionText</th>\n",
       "      <th>MC_Answer</th>\n",
       "      <th>StudentExplanation</th>\n",
       "      <th>is_correct</th>\n",
       "    </tr>\n",
       "  </thead>\n",
       "  <tbody>\n",
       "    <tr>\n",
       "      <th>0</th>\n",
       "      <td>36696</td>\n",
       "      <td>31772</td>\n",
       "      <td>What fraction of the shape is not shaded? Give...</td>\n",
       "      <td>\\( \\frac{1}{3} \\)</td>\n",
       "      <td>I think that 1/3 is the answer, as it's the si...</td>\n",
       "      <td>1</td>\n",
       "    </tr>\n",
       "    <tr>\n",
       "      <th>1</th>\n",
       "      <td>36697</td>\n",
       "      <td>31772</td>\n",
       "      <td>What fraction of the shape is not shaded? Give...</td>\n",
       "      <td>\\( \\frac{3}{6} \\)</td>\n",
       "      <td>i think this answer is because 3 triangles are...</td>\n",
       "      <td>0</td>\n",
       "    </tr>\n",
       "    <tr>\n",
       "      <th>2</th>\n",
       "      <td>36698</td>\n",
       "      <td>32835</td>\n",
       "      <td>Which number is the greatest?</td>\n",
       "      <td>\\( 6.2 \\)</td>\n",
       "      <td>because the 2 makes it higher than the others.</td>\n",
       "      <td>1</td>\n",
       "    </tr>\n",
       "  </tbody>\n",
       "</table>\n",
       "</div>"
      ],
      "text/plain": [
       "   row_id  QuestionId                                       QuestionText  \\\n",
       "0   36696       31772  What fraction of the shape is not shaded? Give...   \n",
       "1   36697       31772  What fraction of the shape is not shaded? Give...   \n",
       "2   36698       32835                      Which number is the greatest?   \n",
       "\n",
       "           MC_Answer                                 StudentExplanation  \\\n",
       "0  \\( \\frac{1}{3} \\)  I think that 1/3 is the answer, as it's the si...   \n",
       "1  \\( \\frac{3}{6} \\)  i think this answer is because 3 triangles are...   \n",
       "2          \\( 6.2 \\)     because the 2 makes it higher than the others.   \n",
       "\n",
       "   is_correct  \n",
       "0           1  \n",
       "1           0  \n",
       "2           1  "
      ]
     },
     "execution_count": 49,
     "metadata": {},
     "output_type": "execute_result"
    }
   ],
   "source": [
    "testDF[\"is_correct\"] = testDF[\"is_correct\"].astype(int)\n",
    "testDF"
   ]
  },
  {
   "cell_type": "markdown",
   "id": "c058f458",
   "metadata": {
    "papermill": {
     "duration": 0.021837,
     "end_time": "2025-09-29T16:42:07.716918",
     "exception": false,
     "start_time": "2025-09-29T16:42:07.695081",
     "status": "completed"
    },
    "tags": []
   },
   "source": [
    "## Visualize Get Answer choices "
   ]
  },
  {
   "cell_type": "code",
   "execution_count": 50,
   "id": "f83cab1f",
   "metadata": {
    "execution": {
     "iopub.execute_input": "2025-09-29T16:42:07.761974Z",
     "iopub.status.busy": "2025-09-29T16:42:07.761777Z",
     "iopub.status.idle": "2025-09-29T16:42:07.764562Z",
     "shell.execute_reply": "2025-09-29T16:42:07.764085Z"
    },
    "papermill": {
     "duration": 0.02649,
     "end_time": "2025-09-29T16:42:07.765567",
     "exception": false,
     "start_time": "2025-09-29T16:42:07.739077",
     "status": "completed"
    },
    "tags": []
   },
   "outputs": [],
   "source": [
    "from IPython.display import display, Math, Latex"
   ]
  },
  {
   "cell_type": "code",
   "execution_count": 51,
   "id": "8a8e3fa5",
   "metadata": {
    "execution": {
     "iopub.execute_input": "2025-09-29T16:42:07.810560Z",
     "iopub.status.busy": "2025-09-29T16:42:07.810364Z",
     "iopub.status.idle": "2025-09-29T16:42:07.822122Z",
     "shell.execute_reply": "2025-09-29T16:42:07.821584Z"
    },
    "papermill": {
     "duration": 0.035535,
     "end_time": "2025-09-29T16:42:07.823105",
     "exception": false,
     "start_time": "2025-09-29T16:42:07.787570",
     "status": "completed"
    },
    "scrolled": true,
    "tags": []
   },
   "outputs": [
    {
     "data": {
      "text/html": [
       "<div>\n",
       "<style scoped>\n",
       "    .dataframe tbody tr th:only-of-type {\n",
       "        vertical-align: middle;\n",
       "    }\n",
       "\n",
       "    .dataframe tbody tr th {\n",
       "        vertical-align: top;\n",
       "    }\n",
       "\n",
       "    .dataframe thead th {\n",
       "        text-align: right;\n",
       "    }\n",
       "</style>\n",
       "<table border=\"1\" class=\"dataframe\">\n",
       "  <thead>\n",
       "    <tr style=\"text-align: right;\">\n",
       "      <th></th>\n",
       "      <th>QuestionId</th>\n",
       "      <th>MC_Answer</th>\n",
       "      <th>count</th>\n",
       "    </tr>\n",
       "  </thead>\n",
       "  <tbody>\n",
       "    <tr>\n",
       "      <th>0</th>\n",
       "      <td>31772</td>\n",
       "      <td>\\( \\frac{1}{3} \\)</td>\n",
       "      <td>2348</td>\n",
       "    </tr>\n",
       "    <tr>\n",
       "      <th>1</th>\n",
       "      <td>31772</td>\n",
       "      <td>\\( \\frac{3}{6} \\)</td>\n",
       "      <td>412</td>\n",
       "    </tr>\n",
       "    <tr>\n",
       "      <th>2</th>\n",
       "      <td>31772</td>\n",
       "      <td>\\( \\frac{3}{8} \\)</td>\n",
       "      <td>118</td>\n",
       "    </tr>\n",
       "    <tr>\n",
       "      <th>3</th>\n",
       "      <td>31772</td>\n",
       "      <td>\\( \\frac{3}{9} \\)</td>\n",
       "      <td>1979</td>\n",
       "    </tr>\n",
       "    <tr>\n",
       "      <th>4</th>\n",
       "      <td>31774</td>\n",
       "      <td>\\( 3 \\)</td>\n",
       "      <td>659</td>\n",
       "    </tr>\n",
       "    <tr>\n",
       "      <th>5</th>\n",
       "      <td>31774</td>\n",
       "      <td>\\( \\frac{1}{12} \\)</td>\n",
       "      <td>1918</td>\n",
       "    </tr>\n",
       "    <tr>\n",
       "      <th>6</th>\n",
       "      <td>31774</td>\n",
       "      <td>\\( \\frac{1}{3} \\)</td>\n",
       "      <td>251</td>\n",
       "    </tr>\n",
       "    <tr>\n",
       "      <th>7</th>\n",
       "      <td>31774</td>\n",
       "      <td>\\( \\frac{6}{2} \\)</td>\n",
       "      <td>287</td>\n",
       "    </tr>\n",
       "    <tr>\n",
       "      <th>8</th>\n",
       "      <td>31777</td>\n",
       "      <td>\\( 24 \\)</td>\n",
       "      <td>255</td>\n",
       "    </tr>\n",
       "    <tr>\n",
       "      <th>9</th>\n",
       "      <td>31777</td>\n",
       "      <td>\\( 48 \\)</td>\n",
       "      <td>406</td>\n",
       "    </tr>\n",
       "    <tr>\n",
       "      <th>10</th>\n",
       "      <td>31777</td>\n",
       "      <td>\\( 60 \\)</td>\n",
       "      <td>350</td>\n",
       "    </tr>\n",
       "    <tr>\n",
       "      <th>11</th>\n",
       "      <td>31777</td>\n",
       "      <td>\\( 72 \\)</td>\n",
       "      <td>1798</td>\n",
       "    </tr>\n",
       "    <tr>\n",
       "      <th>12</th>\n",
       "      <td>31778</td>\n",
       "      <td>\\( 3 \\)</td>\n",
       "      <td>627</td>\n",
       "    </tr>\n",
       "    <tr>\n",
       "      <th>13</th>\n",
       "      <td>31778</td>\n",
       "      <td>\\( 4 \\)</td>\n",
       "      <td>1108</td>\n",
       "    </tr>\n",
       "    <tr>\n",
       "      <th>14</th>\n",
       "      <td>31778</td>\n",
       "      <td>\\( 6 \\)</td>\n",
       "      <td>1755</td>\n",
       "    </tr>\n",
       "    <tr>\n",
       "      <th>15</th>\n",
       "      <td>31778</td>\n",
       "      <td>\\( 9 \\)</td>\n",
       "      <td>150</td>\n",
       "    </tr>\n",
       "    <tr>\n",
       "      <th>16</th>\n",
       "      <td>32829</td>\n",
       "      <td>\\( 12 \\)</td>\n",
       "      <td>1716</td>\n",
       "    </tr>\n",
       "    <tr>\n",
       "      <th>17</th>\n",
       "      <td>32829</td>\n",
       "      <td>\\( 22 \\)</td>\n",
       "      <td>148</td>\n",
       "    </tr>\n",
       "    <tr>\n",
       "      <th>18</th>\n",
       "      <td>32829</td>\n",
       "      <td>\\( 4 \\)</td>\n",
       "      <td>248</td>\n",
       "    </tr>\n",
       "    <tr>\n",
       "      <th>19</th>\n",
       "      <td>32829</td>\n",
       "      <td>\\( 48 \\)</td>\n",
       "      <td>44</td>\n",
       "    </tr>\n",
       "    <tr>\n",
       "      <th>20</th>\n",
       "      <td>32833</td>\n",
       "      <td>\\( 3 \\frac{1}{3} \\)</td>\n",
       "      <td>1601</td>\n",
       "    </tr>\n",
       "    <tr>\n",
       "      <th>21</th>\n",
       "      <td>32833</td>\n",
       "      <td>\\( 5 \\frac{2}{3} \\)</td>\n",
       "      <td>78</td>\n",
       "    </tr>\n",
       "    <tr>\n",
       "      <th>22</th>\n",
       "      <td>32833</td>\n",
       "      <td>\\( \\frac{10}{15} \\)</td>\n",
       "      <td>906</td>\n",
       "    </tr>\n",
       "    <tr>\n",
       "      <th>23</th>\n",
       "      <td>32833</td>\n",
       "      <td>\\( \\frac{2}{15} \\)</td>\n",
       "      <td>520</td>\n",
       "    </tr>\n",
       "    <tr>\n",
       "      <th>24</th>\n",
       "      <td>32835</td>\n",
       "      <td>\\( 6 \\)</td>\n",
       "      <td>478</td>\n",
       "    </tr>\n",
       "    <tr>\n",
       "      <th>25</th>\n",
       "      <td>32835</td>\n",
       "      <td>\\( 6.0001 \\)</td>\n",
       "      <td>64</td>\n",
       "    </tr>\n",
       "    <tr>\n",
       "      <th>26</th>\n",
       "      <td>32835</td>\n",
       "      <td>\\( 6.079 \\)</td>\n",
       "      <td>116</td>\n",
       "    </tr>\n",
       "    <tr>\n",
       "      <th>27</th>\n",
       "      <td>32835</td>\n",
       "      <td>\\( 6.2 \\)</td>\n",
       "      <td>1674</td>\n",
       "    </tr>\n",
       "    <tr>\n",
       "      <th>28</th>\n",
       "      <td>33471</td>\n",
       "      <td>\\( 15 \\)</td>\n",
       "      <td>874</td>\n",
       "    </tr>\n",
       "    <tr>\n",
       "      <th>29</th>\n",
       "      <td>33471</td>\n",
       "      <td>\\( 3 \\)</td>\n",
       "      <td>40</td>\n",
       "    </tr>\n",
       "    <tr>\n",
       "      <th>30</th>\n",
       "      <td>33471</td>\n",
       "      <td>\\( 8 \\)</td>\n",
       "      <td>56</td>\n",
       "    </tr>\n",
       "    <tr>\n",
       "      <th>31</th>\n",
       "      <td>33471</td>\n",
       "      <td>\\( 9 \\)</td>\n",
       "      <td>572</td>\n",
       "    </tr>\n",
       "    <tr>\n",
       "      <th>32</th>\n",
       "      <td>33472</td>\n",
       "      <td>\\( \\frac{11}{15} \\)</td>\n",
       "      <td>1651</td>\n",
       "    </tr>\n",
       "    <tr>\n",
       "      <th>33</th>\n",
       "      <td>33472</td>\n",
       "      <td>\\( \\frac{11}{30} \\)</td>\n",
       "      <td>116</td>\n",
       "    </tr>\n",
       "    <tr>\n",
       "      <th>34</th>\n",
       "      <td>33472</td>\n",
       "      <td>\\( \\frac{3}{15} \\)</td>\n",
       "      <td>565</td>\n",
       "    </tr>\n",
       "    <tr>\n",
       "      <th>35</th>\n",
       "      <td>33472</td>\n",
       "      <td>\\( \\frac{3}{8} \\)</td>\n",
       "      <td>468</td>\n",
       "    </tr>\n",
       "    <tr>\n",
       "      <th>36</th>\n",
       "      <td>33474</td>\n",
       "      <td>\\( \\frac{1}{3} \\times \\frac{2}{3} \\)</td>\n",
       "      <td>630</td>\n",
       "    </tr>\n",
       "    <tr>\n",
       "      <th>37</th>\n",
       "      <td>33474</td>\n",
       "      <td>\\( \\frac{1}{3}+\\frac{2}{3} \\)</td>\n",
       "      <td>49</td>\n",
       "    </tr>\n",
       "    <tr>\n",
       "      <th>38</th>\n",
       "      <td>33474</td>\n",
       "      <td>\\( \\frac{2}{3} \\div \\frac{1}{3} \\)</td>\n",
       "      <td>147</td>\n",
       "    </tr>\n",
       "    <tr>\n",
       "      <th>39</th>\n",
       "      <td>33474</td>\n",
       "      <td>\\( \\frac{2}{3}-\\frac{1}{3} \\)</td>\n",
       "      <td>940</td>\n",
       "    </tr>\n",
       "    <tr>\n",
       "      <th>40</th>\n",
       "      <td>76870</td>\n",
       "      <td>Not enough information</td>\n",
       "      <td>403</td>\n",
       "    </tr>\n",
       "    <tr>\n",
       "      <th>41</th>\n",
       "      <td>76870</td>\n",
       "      <td>\\( 10 \\)</td>\n",
       "      <td>508</td>\n",
       "    </tr>\n",
       "    <tr>\n",
       "      <th>42</th>\n",
       "      <td>76870</td>\n",
       "      <td>\\( 5 \\)</td>\n",
       "      <td>140</td>\n",
       "    </tr>\n",
       "    <tr>\n",
       "      <th>43</th>\n",
       "      <td>76870</td>\n",
       "      <td>\\( 6 \\)</td>\n",
       "      <td>135</td>\n",
       "    </tr>\n",
       "    <tr>\n",
       "      <th>44</th>\n",
       "      <td>89443</td>\n",
       "      <td>\\( -13 \\)</td>\n",
       "      <td>798</td>\n",
       "    </tr>\n",
       "    <tr>\n",
       "      <th>45</th>\n",
       "      <td>89443</td>\n",
       "      <td>\\( -3 \\)</td>\n",
       "      <td>1394</td>\n",
       "    </tr>\n",
       "    <tr>\n",
       "      <th>46</th>\n",
       "      <td>89443</td>\n",
       "      <td>\\( 13 \\)</td>\n",
       "      <td>396</td>\n",
       "    </tr>\n",
       "    <tr>\n",
       "      <th>47</th>\n",
       "      <td>89443</td>\n",
       "      <td>\\( 3 \\)</td>\n",
       "      <td>466</td>\n",
       "    </tr>\n",
       "    <tr>\n",
       "      <th>48</th>\n",
       "      <td>91695</td>\n",
       "      <td>\\( 20 \\)</td>\n",
       "      <td>102</td>\n",
       "    </tr>\n",
       "    <tr>\n",
       "      <th>49</th>\n",
       "      <td>91695</td>\n",
       "      <td>\\( 22 \\)</td>\n",
       "      <td>718</td>\n",
       "    </tr>\n",
       "    <tr>\n",
       "      <th>50</th>\n",
       "      <td>91695</td>\n",
       "      <td>\\( 26 \\)</td>\n",
       "      <td>1547</td>\n",
       "    </tr>\n",
       "    <tr>\n",
       "      <th>51</th>\n",
       "      <td>91695</td>\n",
       "      <td>\\( 36 \\)</td>\n",
       "      <td>243</td>\n",
       "    </tr>\n",
       "    <tr>\n",
       "      <th>52</th>\n",
       "      <td>104665</td>\n",
       "      <td>\\( 192 \\) hours</td>\n",
       "      <td>9</td>\n",
       "    </tr>\n",
       "    <tr>\n",
       "      <th>53</th>\n",
       "      <td>104665</td>\n",
       "      <td>\\( 48 \\) hours</td>\n",
       "      <td>497</td>\n",
       "    </tr>\n",
       "    <tr>\n",
       "      <th>54</th>\n",
       "      <td>104665</td>\n",
       "      <td>\\( 64 \\) hours</td>\n",
       "      <td>62</td>\n",
       "    </tr>\n",
       "    <tr>\n",
       "      <th>55</th>\n",
       "      <td>104665</td>\n",
       "      <td>\\( 768 \\) hours</td>\n",
       "      <td>105</td>\n",
       "    </tr>\n",
       "    <tr>\n",
       "      <th>56</th>\n",
       "      <td>109465</td>\n",
       "      <td>Certain</td>\n",
       "      <td>64</td>\n",
       "    </tr>\n",
       "    <tr>\n",
       "      <th>57</th>\n",
       "      <td>109465</td>\n",
       "      <td>Impossible</td>\n",
       "      <td>18</td>\n",
       "    </tr>\n",
       "    <tr>\n",
       "      <th>58</th>\n",
       "      <td>109465</td>\n",
       "      <td>Likely</td>\n",
       "      <td>553</td>\n",
       "    </tr>\n",
       "    <tr>\n",
       "      <th>59</th>\n",
       "      <td>109465</td>\n",
       "      <td>Unlikely</td>\n",
       "      <td>416</td>\n",
       "    </tr>\n",
       "  </tbody>\n",
       "</table>\n",
       "</div>"
      ],
      "text/plain": [
       "    QuestionId                             MC_Answer  count\n",
       "0        31772                     \\( \\frac{1}{3} \\)   2348\n",
       "1        31772                     \\( \\frac{3}{6} \\)    412\n",
       "2        31772                     \\( \\frac{3}{8} \\)    118\n",
       "3        31772                     \\( \\frac{3}{9} \\)   1979\n",
       "4        31774                               \\( 3 \\)    659\n",
       "5        31774                    \\( \\frac{1}{12} \\)   1918\n",
       "6        31774                     \\( \\frac{1}{3} \\)    251\n",
       "7        31774                     \\( \\frac{6}{2} \\)    287\n",
       "8        31777                              \\( 24 \\)    255\n",
       "9        31777                              \\( 48 \\)    406\n",
       "10       31777                              \\( 60 \\)    350\n",
       "11       31777                              \\( 72 \\)   1798\n",
       "12       31778                               \\( 3 \\)    627\n",
       "13       31778                               \\( 4 \\)   1108\n",
       "14       31778                               \\( 6 \\)   1755\n",
       "15       31778                               \\( 9 \\)    150\n",
       "16       32829                              \\( 12 \\)   1716\n",
       "17       32829                              \\( 22 \\)    148\n",
       "18       32829                               \\( 4 \\)    248\n",
       "19       32829                              \\( 48 \\)     44\n",
       "20       32833                   \\( 3 \\frac{1}{3} \\)   1601\n",
       "21       32833                   \\( 5 \\frac{2}{3} \\)     78\n",
       "22       32833                   \\( \\frac{10}{15} \\)    906\n",
       "23       32833                    \\( \\frac{2}{15} \\)    520\n",
       "24       32835                               \\( 6 \\)    478\n",
       "25       32835                          \\( 6.0001 \\)     64\n",
       "26       32835                           \\( 6.079 \\)    116\n",
       "27       32835                             \\( 6.2 \\)   1674\n",
       "28       33471                              \\( 15 \\)    874\n",
       "29       33471                               \\( 3 \\)     40\n",
       "30       33471                               \\( 8 \\)     56\n",
       "31       33471                               \\( 9 \\)    572\n",
       "32       33472                   \\( \\frac{11}{15} \\)   1651\n",
       "33       33472                   \\( \\frac{11}{30} \\)    116\n",
       "34       33472                    \\( \\frac{3}{15} \\)    565\n",
       "35       33472                     \\( \\frac{3}{8} \\)    468\n",
       "36       33474  \\( \\frac{1}{3} \\times \\frac{2}{3} \\)    630\n",
       "37       33474         \\( \\frac{1}{3}+\\frac{2}{3} \\)     49\n",
       "38       33474    \\( \\frac{2}{3} \\div \\frac{1}{3} \\)    147\n",
       "39       33474         \\( \\frac{2}{3}-\\frac{1}{3} \\)    940\n",
       "40       76870                Not enough information    403\n",
       "41       76870                              \\( 10 \\)    508\n",
       "42       76870                               \\( 5 \\)    140\n",
       "43       76870                               \\( 6 \\)    135\n",
       "44       89443                             \\( -13 \\)    798\n",
       "45       89443                              \\( -3 \\)   1394\n",
       "46       89443                              \\( 13 \\)    396\n",
       "47       89443                               \\( 3 \\)    466\n",
       "48       91695                              \\( 20 \\)    102\n",
       "49       91695                              \\( 22 \\)    718\n",
       "50       91695                              \\( 26 \\)   1547\n",
       "51       91695                              \\( 36 \\)    243\n",
       "52      104665                       \\( 192 \\) hours      9\n",
       "53      104665                        \\( 48 \\) hours    497\n",
       "54      104665                        \\( 64 \\) hours     62\n",
       "55      104665                       \\( 768 \\) hours    105\n",
       "56      109465                               Certain     64\n",
       "57      109465                            Impossible     18\n",
       "58      109465                                Likely    553\n",
       "59      109465                              Unlikely    416"
      ]
     },
     "execution_count": 51,
     "metadata": {},
     "output_type": "execute_result"
    }
   ],
   "source": [
    "temp = trainDF.groupby([\"QuestionId\", \"MC_Answer\"]).size().reset_index(name=\"count\")\n",
    "temp"
   ]
  },
  {
   "cell_type": "code",
   "execution_count": 52,
   "id": "a6032840",
   "metadata": {
    "execution": {
     "iopub.execute_input": "2025-09-29T16:42:07.869468Z",
     "iopub.status.busy": "2025-09-29T16:42:07.869276Z",
     "iopub.status.idle": "2025-09-29T16:42:07.882442Z",
     "shell.execute_reply": "2025-09-29T16:42:07.881895Z"
    },
    "papermill": {
     "duration": 0.037564,
     "end_time": "2025-09-29T16:42:07.883390",
     "exception": false,
     "start_time": "2025-09-29T16:42:07.845826",
     "status": "completed"
    },
    "scrolled": true,
    "tags": []
   },
   "outputs": [
    {
     "data": {
      "text/html": [
       "<div>\n",
       "<style scoped>\n",
       "    .dataframe tbody tr th:only-of-type {\n",
       "        vertical-align: middle;\n",
       "    }\n",
       "\n",
       "    .dataframe tbody tr th {\n",
       "        vertical-align: top;\n",
       "    }\n",
       "\n",
       "    .dataframe thead th {\n",
       "        text-align: right;\n",
       "    }\n",
       "</style>\n",
       "<table border=\"1\" class=\"dataframe\">\n",
       "  <thead>\n",
       "    <tr style=\"text-align: right;\">\n",
       "      <th></th>\n",
       "      <th>QuestionId</th>\n",
       "      <th>MC_Answer</th>\n",
       "      <th>count</th>\n",
       "      <th>rank</th>\n",
       "    </tr>\n",
       "  </thead>\n",
       "  <tbody>\n",
       "    <tr>\n",
       "      <th>0</th>\n",
       "      <td>31772</td>\n",
       "      <td>\\( \\frac{1}{3} \\)</td>\n",
       "      <td>2348</td>\n",
       "      <td>0</td>\n",
       "    </tr>\n",
       "    <tr>\n",
       "      <th>1</th>\n",
       "      <td>31772</td>\n",
       "      <td>\\( \\frac{3}{6} \\)</td>\n",
       "      <td>412</td>\n",
       "      <td>2</td>\n",
       "    </tr>\n",
       "    <tr>\n",
       "      <th>2</th>\n",
       "      <td>31772</td>\n",
       "      <td>\\( \\frac{3}{8} \\)</td>\n",
       "      <td>118</td>\n",
       "      <td>3</td>\n",
       "    </tr>\n",
       "    <tr>\n",
       "      <th>3</th>\n",
       "      <td>31772</td>\n",
       "      <td>\\( \\frac{3}{9} \\)</td>\n",
       "      <td>1979</td>\n",
       "      <td>1</td>\n",
       "    </tr>\n",
       "    <tr>\n",
       "      <th>4</th>\n",
       "      <td>31774</td>\n",
       "      <td>\\( 3 \\)</td>\n",
       "      <td>659</td>\n",
       "      <td>1</td>\n",
       "    </tr>\n",
       "    <tr>\n",
       "      <th>5</th>\n",
       "      <td>31774</td>\n",
       "      <td>\\( \\frac{1}{12} \\)</td>\n",
       "      <td>1918</td>\n",
       "      <td>0</td>\n",
       "    </tr>\n",
       "    <tr>\n",
       "      <th>6</th>\n",
       "      <td>31774</td>\n",
       "      <td>\\( \\frac{1}{3} \\)</td>\n",
       "      <td>251</td>\n",
       "      <td>3</td>\n",
       "    </tr>\n",
       "    <tr>\n",
       "      <th>7</th>\n",
       "      <td>31774</td>\n",
       "      <td>\\( \\frac{6}{2} \\)</td>\n",
       "      <td>287</td>\n",
       "      <td>2</td>\n",
       "    </tr>\n",
       "    <tr>\n",
       "      <th>8</th>\n",
       "      <td>31777</td>\n",
       "      <td>\\( 24 \\)</td>\n",
       "      <td>255</td>\n",
       "      <td>3</td>\n",
       "    </tr>\n",
       "    <tr>\n",
       "      <th>9</th>\n",
       "      <td>31777</td>\n",
       "      <td>\\( 48 \\)</td>\n",
       "      <td>406</td>\n",
       "      <td>1</td>\n",
       "    </tr>\n",
       "    <tr>\n",
       "      <th>10</th>\n",
       "      <td>31777</td>\n",
       "      <td>\\( 60 \\)</td>\n",
       "      <td>350</td>\n",
       "      <td>2</td>\n",
       "    </tr>\n",
       "    <tr>\n",
       "      <th>11</th>\n",
       "      <td>31777</td>\n",
       "      <td>\\( 72 \\)</td>\n",
       "      <td>1798</td>\n",
       "      <td>0</td>\n",
       "    </tr>\n",
       "    <tr>\n",
       "      <th>12</th>\n",
       "      <td>31778</td>\n",
       "      <td>\\( 3 \\)</td>\n",
       "      <td>627</td>\n",
       "      <td>2</td>\n",
       "    </tr>\n",
       "    <tr>\n",
       "      <th>13</th>\n",
       "      <td>31778</td>\n",
       "      <td>\\( 4 \\)</td>\n",
       "      <td>1108</td>\n",
       "      <td>1</td>\n",
       "    </tr>\n",
       "    <tr>\n",
       "      <th>14</th>\n",
       "      <td>31778</td>\n",
       "      <td>\\( 6 \\)</td>\n",
       "      <td>1755</td>\n",
       "      <td>0</td>\n",
       "    </tr>\n",
       "    <tr>\n",
       "      <th>15</th>\n",
       "      <td>31778</td>\n",
       "      <td>\\( 9 \\)</td>\n",
       "      <td>150</td>\n",
       "      <td>3</td>\n",
       "    </tr>\n",
       "    <tr>\n",
       "      <th>16</th>\n",
       "      <td>32829</td>\n",
       "      <td>\\( 12 \\)</td>\n",
       "      <td>1716</td>\n",
       "      <td>0</td>\n",
       "    </tr>\n",
       "    <tr>\n",
       "      <th>17</th>\n",
       "      <td>32829</td>\n",
       "      <td>\\( 22 \\)</td>\n",
       "      <td>148</td>\n",
       "      <td>2</td>\n",
       "    </tr>\n",
       "    <tr>\n",
       "      <th>18</th>\n",
       "      <td>32829</td>\n",
       "      <td>\\( 4 \\)</td>\n",
       "      <td>248</td>\n",
       "      <td>1</td>\n",
       "    </tr>\n",
       "    <tr>\n",
       "      <th>19</th>\n",
       "      <td>32829</td>\n",
       "      <td>\\( 48 \\)</td>\n",
       "      <td>44</td>\n",
       "      <td>3</td>\n",
       "    </tr>\n",
       "    <tr>\n",
       "      <th>20</th>\n",
       "      <td>32833</td>\n",
       "      <td>\\( 3 \\frac{1}{3} \\)</td>\n",
       "      <td>1601</td>\n",
       "      <td>0</td>\n",
       "    </tr>\n",
       "    <tr>\n",
       "      <th>21</th>\n",
       "      <td>32833</td>\n",
       "      <td>\\( 5 \\frac{2}{3} \\)</td>\n",
       "      <td>78</td>\n",
       "      <td>3</td>\n",
       "    </tr>\n",
       "    <tr>\n",
       "      <th>22</th>\n",
       "      <td>32833</td>\n",
       "      <td>\\( \\frac{10}{15} \\)</td>\n",
       "      <td>906</td>\n",
       "      <td>1</td>\n",
       "    </tr>\n",
       "    <tr>\n",
       "      <th>23</th>\n",
       "      <td>32833</td>\n",
       "      <td>\\( \\frac{2}{15} \\)</td>\n",
       "      <td>520</td>\n",
       "      <td>2</td>\n",
       "    </tr>\n",
       "    <tr>\n",
       "      <th>24</th>\n",
       "      <td>32835</td>\n",
       "      <td>\\( 6 \\)</td>\n",
       "      <td>478</td>\n",
       "      <td>1</td>\n",
       "    </tr>\n",
       "    <tr>\n",
       "      <th>25</th>\n",
       "      <td>32835</td>\n",
       "      <td>\\( 6.0001 \\)</td>\n",
       "      <td>64</td>\n",
       "      <td>3</td>\n",
       "    </tr>\n",
       "    <tr>\n",
       "      <th>26</th>\n",
       "      <td>32835</td>\n",
       "      <td>\\( 6.079 \\)</td>\n",
       "      <td>116</td>\n",
       "      <td>2</td>\n",
       "    </tr>\n",
       "    <tr>\n",
       "      <th>27</th>\n",
       "      <td>32835</td>\n",
       "      <td>\\( 6.2 \\)</td>\n",
       "      <td>1674</td>\n",
       "      <td>0</td>\n",
       "    </tr>\n",
       "    <tr>\n",
       "      <th>28</th>\n",
       "      <td>33471</td>\n",
       "      <td>\\( 15 \\)</td>\n",
       "      <td>874</td>\n",
       "      <td>0</td>\n",
       "    </tr>\n",
       "    <tr>\n",
       "      <th>29</th>\n",
       "      <td>33471</td>\n",
       "      <td>\\( 3 \\)</td>\n",
       "      <td>40</td>\n",
       "      <td>3</td>\n",
       "    </tr>\n",
       "    <tr>\n",
       "      <th>30</th>\n",
       "      <td>33471</td>\n",
       "      <td>\\( 8 \\)</td>\n",
       "      <td>56</td>\n",
       "      <td>2</td>\n",
       "    </tr>\n",
       "    <tr>\n",
       "      <th>31</th>\n",
       "      <td>33471</td>\n",
       "      <td>\\( 9 \\)</td>\n",
       "      <td>572</td>\n",
       "      <td>1</td>\n",
       "    </tr>\n",
       "    <tr>\n",
       "      <th>32</th>\n",
       "      <td>33472</td>\n",
       "      <td>\\( \\frac{11}{15} \\)</td>\n",
       "      <td>1651</td>\n",
       "      <td>0</td>\n",
       "    </tr>\n",
       "    <tr>\n",
       "      <th>33</th>\n",
       "      <td>33472</td>\n",
       "      <td>\\( \\frac{11}{30} \\)</td>\n",
       "      <td>116</td>\n",
       "      <td>3</td>\n",
       "    </tr>\n",
       "    <tr>\n",
       "      <th>34</th>\n",
       "      <td>33472</td>\n",
       "      <td>\\( \\frac{3}{15} \\)</td>\n",
       "      <td>565</td>\n",
       "      <td>1</td>\n",
       "    </tr>\n",
       "    <tr>\n",
       "      <th>35</th>\n",
       "      <td>33472</td>\n",
       "      <td>\\( \\frac{3}{8} \\)</td>\n",
       "      <td>468</td>\n",
       "      <td>2</td>\n",
       "    </tr>\n",
       "    <tr>\n",
       "      <th>36</th>\n",
       "      <td>33474</td>\n",
       "      <td>\\( \\frac{1}{3} \\times \\frac{2}{3} \\)</td>\n",
       "      <td>630</td>\n",
       "      <td>1</td>\n",
       "    </tr>\n",
       "    <tr>\n",
       "      <th>37</th>\n",
       "      <td>33474</td>\n",
       "      <td>\\( \\frac{1}{3}+\\frac{2}{3} \\)</td>\n",
       "      <td>49</td>\n",
       "      <td>3</td>\n",
       "    </tr>\n",
       "    <tr>\n",
       "      <th>38</th>\n",
       "      <td>33474</td>\n",
       "      <td>\\( \\frac{2}{3} \\div \\frac{1}{3} \\)</td>\n",
       "      <td>147</td>\n",
       "      <td>2</td>\n",
       "    </tr>\n",
       "    <tr>\n",
       "      <th>39</th>\n",
       "      <td>33474</td>\n",
       "      <td>\\( \\frac{2}{3}-\\frac{1}{3} \\)</td>\n",
       "      <td>940</td>\n",
       "      <td>0</td>\n",
       "    </tr>\n",
       "    <tr>\n",
       "      <th>40</th>\n",
       "      <td>76870</td>\n",
       "      <td>Not enough information</td>\n",
       "      <td>403</td>\n",
       "      <td>1</td>\n",
       "    </tr>\n",
       "    <tr>\n",
       "      <th>41</th>\n",
       "      <td>76870</td>\n",
       "      <td>\\( 10 \\)</td>\n",
       "      <td>508</td>\n",
       "      <td>0</td>\n",
       "    </tr>\n",
       "    <tr>\n",
       "      <th>42</th>\n",
       "      <td>76870</td>\n",
       "      <td>\\( 5 \\)</td>\n",
       "      <td>140</td>\n",
       "      <td>2</td>\n",
       "    </tr>\n",
       "    <tr>\n",
       "      <th>43</th>\n",
       "      <td>76870</td>\n",
       "      <td>\\( 6 \\)</td>\n",
       "      <td>135</td>\n",
       "      <td>3</td>\n",
       "    </tr>\n",
       "    <tr>\n",
       "      <th>44</th>\n",
       "      <td>89443</td>\n",
       "      <td>\\( -13 \\)</td>\n",
       "      <td>798</td>\n",
       "      <td>1</td>\n",
       "    </tr>\n",
       "    <tr>\n",
       "      <th>45</th>\n",
       "      <td>89443</td>\n",
       "      <td>\\( -3 \\)</td>\n",
       "      <td>1394</td>\n",
       "      <td>0</td>\n",
       "    </tr>\n",
       "    <tr>\n",
       "      <th>46</th>\n",
       "      <td>89443</td>\n",
       "      <td>\\( 13 \\)</td>\n",
       "      <td>396</td>\n",
       "      <td>3</td>\n",
       "    </tr>\n",
       "    <tr>\n",
       "      <th>47</th>\n",
       "      <td>89443</td>\n",
       "      <td>\\( 3 \\)</td>\n",
       "      <td>466</td>\n",
       "      <td>2</td>\n",
       "    </tr>\n",
       "    <tr>\n",
       "      <th>48</th>\n",
       "      <td>91695</td>\n",
       "      <td>\\( 20 \\)</td>\n",
       "      <td>102</td>\n",
       "      <td>3</td>\n",
       "    </tr>\n",
       "    <tr>\n",
       "      <th>49</th>\n",
       "      <td>91695</td>\n",
       "      <td>\\( 22 \\)</td>\n",
       "      <td>718</td>\n",
       "      <td>1</td>\n",
       "    </tr>\n",
       "    <tr>\n",
       "      <th>50</th>\n",
       "      <td>91695</td>\n",
       "      <td>\\( 26 \\)</td>\n",
       "      <td>1547</td>\n",
       "      <td>0</td>\n",
       "    </tr>\n",
       "    <tr>\n",
       "      <th>51</th>\n",
       "      <td>91695</td>\n",
       "      <td>\\( 36 \\)</td>\n",
       "      <td>243</td>\n",
       "      <td>2</td>\n",
       "    </tr>\n",
       "    <tr>\n",
       "      <th>52</th>\n",
       "      <td>104665</td>\n",
       "      <td>\\( 192 \\) hours</td>\n",
       "      <td>9</td>\n",
       "      <td>3</td>\n",
       "    </tr>\n",
       "    <tr>\n",
       "      <th>53</th>\n",
       "      <td>104665</td>\n",
       "      <td>\\( 48 \\) hours</td>\n",
       "      <td>497</td>\n",
       "      <td>0</td>\n",
       "    </tr>\n",
       "    <tr>\n",
       "      <th>54</th>\n",
       "      <td>104665</td>\n",
       "      <td>\\( 64 \\) hours</td>\n",
       "      <td>62</td>\n",
       "      <td>2</td>\n",
       "    </tr>\n",
       "    <tr>\n",
       "      <th>55</th>\n",
       "      <td>104665</td>\n",
       "      <td>\\( 768 \\) hours</td>\n",
       "      <td>105</td>\n",
       "      <td>1</td>\n",
       "    </tr>\n",
       "    <tr>\n",
       "      <th>56</th>\n",
       "      <td>109465</td>\n",
       "      <td>Certain</td>\n",
       "      <td>64</td>\n",
       "      <td>2</td>\n",
       "    </tr>\n",
       "    <tr>\n",
       "      <th>57</th>\n",
       "      <td>109465</td>\n",
       "      <td>Impossible</td>\n",
       "      <td>18</td>\n",
       "      <td>3</td>\n",
       "    </tr>\n",
       "    <tr>\n",
       "      <th>58</th>\n",
       "      <td>109465</td>\n",
       "      <td>Likely</td>\n",
       "      <td>553</td>\n",
       "      <td>0</td>\n",
       "    </tr>\n",
       "    <tr>\n",
       "      <th>59</th>\n",
       "      <td>109465</td>\n",
       "      <td>Unlikely</td>\n",
       "      <td>416</td>\n",
       "      <td>1</td>\n",
       "    </tr>\n",
       "  </tbody>\n",
       "</table>\n",
       "</div>"
      ],
      "text/plain": [
       "    QuestionId                             MC_Answer  count  rank\n",
       "0        31772                     \\( \\frac{1}{3} \\)   2348     0\n",
       "1        31772                     \\( \\frac{3}{6} \\)    412     2\n",
       "2        31772                     \\( \\frac{3}{8} \\)    118     3\n",
       "3        31772                     \\( \\frac{3}{9} \\)   1979     1\n",
       "4        31774                               \\( 3 \\)    659     1\n",
       "5        31774                    \\( \\frac{1}{12} \\)   1918     0\n",
       "6        31774                     \\( \\frac{1}{3} \\)    251     3\n",
       "7        31774                     \\( \\frac{6}{2} \\)    287     2\n",
       "8        31777                              \\( 24 \\)    255     3\n",
       "9        31777                              \\( 48 \\)    406     1\n",
       "10       31777                              \\( 60 \\)    350     2\n",
       "11       31777                              \\( 72 \\)   1798     0\n",
       "12       31778                               \\( 3 \\)    627     2\n",
       "13       31778                               \\( 4 \\)   1108     1\n",
       "14       31778                               \\( 6 \\)   1755     0\n",
       "15       31778                               \\( 9 \\)    150     3\n",
       "16       32829                              \\( 12 \\)   1716     0\n",
       "17       32829                              \\( 22 \\)    148     2\n",
       "18       32829                               \\( 4 \\)    248     1\n",
       "19       32829                              \\( 48 \\)     44     3\n",
       "20       32833                   \\( 3 \\frac{1}{3} \\)   1601     0\n",
       "21       32833                   \\( 5 \\frac{2}{3} \\)     78     3\n",
       "22       32833                   \\( \\frac{10}{15} \\)    906     1\n",
       "23       32833                    \\( \\frac{2}{15} \\)    520     2\n",
       "24       32835                               \\( 6 \\)    478     1\n",
       "25       32835                          \\( 6.0001 \\)     64     3\n",
       "26       32835                           \\( 6.079 \\)    116     2\n",
       "27       32835                             \\( 6.2 \\)   1674     0\n",
       "28       33471                              \\( 15 \\)    874     0\n",
       "29       33471                               \\( 3 \\)     40     3\n",
       "30       33471                               \\( 8 \\)     56     2\n",
       "31       33471                               \\( 9 \\)    572     1\n",
       "32       33472                   \\( \\frac{11}{15} \\)   1651     0\n",
       "33       33472                   \\( \\frac{11}{30} \\)    116     3\n",
       "34       33472                    \\( \\frac{3}{15} \\)    565     1\n",
       "35       33472                     \\( \\frac{3}{8} \\)    468     2\n",
       "36       33474  \\( \\frac{1}{3} \\times \\frac{2}{3} \\)    630     1\n",
       "37       33474         \\( \\frac{1}{3}+\\frac{2}{3} \\)     49     3\n",
       "38       33474    \\( \\frac{2}{3} \\div \\frac{1}{3} \\)    147     2\n",
       "39       33474         \\( \\frac{2}{3}-\\frac{1}{3} \\)    940     0\n",
       "40       76870                Not enough information    403     1\n",
       "41       76870                              \\( 10 \\)    508     0\n",
       "42       76870                               \\( 5 \\)    140     2\n",
       "43       76870                               \\( 6 \\)    135     3\n",
       "44       89443                             \\( -13 \\)    798     1\n",
       "45       89443                              \\( -3 \\)   1394     0\n",
       "46       89443                              \\( 13 \\)    396     3\n",
       "47       89443                               \\( 3 \\)    466     2\n",
       "48       91695                              \\( 20 \\)    102     3\n",
       "49       91695                              \\( 22 \\)    718     1\n",
       "50       91695                              \\( 26 \\)   1547     0\n",
       "51       91695                              \\( 36 \\)    243     2\n",
       "52      104665                       \\( 192 \\) hours      9     3\n",
       "53      104665                        \\( 48 \\) hours    497     0\n",
       "54      104665                        \\( 64 \\) hours     62     2\n",
       "55      104665                       \\( 768 \\) hours    105     1\n",
       "56      109465                               Certain     64     2\n",
       "57      109465                            Impossible     18     3\n",
       "58      109465                                Likely    553     0\n",
       "59      109465                              Unlikely    416     1"
      ]
     },
     "execution_count": 52,
     "metadata": {},
     "output_type": "execute_result"
    }
   ],
   "source": [
    "# add Ranking\n",
    "temp[\"rank\"] = temp.groupby(\"QuestionId\")['count'].rank(method='dense', ascending=False).astype(int) - 1\n",
    "temp"
   ]
  },
  {
   "cell_type": "code",
   "execution_count": 53,
   "id": "02cb7318",
   "metadata": {
    "execution": {
     "iopub.execute_input": "2025-09-29T16:42:07.930615Z",
     "iopub.status.busy": "2025-09-29T16:42:07.930394Z",
     "iopub.status.idle": "2025-09-29T16:42:07.940079Z",
     "shell.execute_reply": "2025-09-29T16:42:07.939568Z"
    },
    "papermill": {
     "duration": 0.034428,
     "end_time": "2025-09-29T16:42:07.941134",
     "exception": false,
     "start_time": "2025-09-29T16:42:07.906706",
     "status": "completed"
    },
    "scrolled": true,
    "tags": []
   },
   "outputs": [
    {
     "data": {
      "text/html": [
       "<div>\n",
       "<style scoped>\n",
       "    .dataframe tbody tr th:only-of-type {\n",
       "        vertical-align: middle;\n",
       "    }\n",
       "\n",
       "    .dataframe tbody tr th {\n",
       "        vertical-align: top;\n",
       "    }\n",
       "\n",
       "    .dataframe thead th {\n",
       "        text-align: right;\n",
       "    }\n",
       "</style>\n",
       "<table border=\"1\" class=\"dataframe\">\n",
       "  <thead>\n",
       "    <tr style=\"text-align: right;\">\n",
       "      <th></th>\n",
       "      <th>QuestionId</th>\n",
       "      <th>MC_Answer</th>\n",
       "      <th>rank</th>\n",
       "    </tr>\n",
       "  </thead>\n",
       "  <tbody>\n",
       "    <tr>\n",
       "      <th>0</th>\n",
       "      <td>31772</td>\n",
       "      <td>\\( \\frac{1}{3} \\)</td>\n",
       "      <td>0</td>\n",
       "    </tr>\n",
       "    <tr>\n",
       "      <th>3</th>\n",
       "      <td>31772</td>\n",
       "      <td>\\( \\frac{3}{9} \\)</td>\n",
       "      <td>1</td>\n",
       "    </tr>\n",
       "    <tr>\n",
       "      <th>1</th>\n",
       "      <td>31772</td>\n",
       "      <td>\\( \\frac{3}{6} \\)</td>\n",
       "      <td>2</td>\n",
       "    </tr>\n",
       "    <tr>\n",
       "      <th>2</th>\n",
       "      <td>31772</td>\n",
       "      <td>\\( \\frac{3}{8} \\)</td>\n",
       "      <td>3</td>\n",
       "    </tr>\n",
       "    <tr>\n",
       "      <th>5</th>\n",
       "      <td>31774</td>\n",
       "      <td>\\( \\frac{1}{12} \\)</td>\n",
       "      <td>0</td>\n",
       "    </tr>\n",
       "    <tr>\n",
       "      <th>4</th>\n",
       "      <td>31774</td>\n",
       "      <td>\\( 3 \\)</td>\n",
       "      <td>1</td>\n",
       "    </tr>\n",
       "    <tr>\n",
       "      <th>7</th>\n",
       "      <td>31774</td>\n",
       "      <td>\\( \\frac{6}{2} \\)</td>\n",
       "      <td>2</td>\n",
       "    </tr>\n",
       "    <tr>\n",
       "      <th>6</th>\n",
       "      <td>31774</td>\n",
       "      <td>\\( \\frac{1}{3} \\)</td>\n",
       "      <td>3</td>\n",
       "    </tr>\n",
       "    <tr>\n",
       "      <th>11</th>\n",
       "      <td>31777</td>\n",
       "      <td>\\( 72 \\)</td>\n",
       "      <td>0</td>\n",
       "    </tr>\n",
       "    <tr>\n",
       "      <th>9</th>\n",
       "      <td>31777</td>\n",
       "      <td>\\( 48 \\)</td>\n",
       "      <td>1</td>\n",
       "    </tr>\n",
       "    <tr>\n",
       "      <th>10</th>\n",
       "      <td>31777</td>\n",
       "      <td>\\( 60 \\)</td>\n",
       "      <td>2</td>\n",
       "    </tr>\n",
       "    <tr>\n",
       "      <th>8</th>\n",
       "      <td>31777</td>\n",
       "      <td>\\( 24 \\)</td>\n",
       "      <td>3</td>\n",
       "    </tr>\n",
       "    <tr>\n",
       "      <th>14</th>\n",
       "      <td>31778</td>\n",
       "      <td>\\( 6 \\)</td>\n",
       "      <td>0</td>\n",
       "    </tr>\n",
       "    <tr>\n",
       "      <th>13</th>\n",
       "      <td>31778</td>\n",
       "      <td>\\( 4 \\)</td>\n",
       "      <td>1</td>\n",
       "    </tr>\n",
       "    <tr>\n",
       "      <th>12</th>\n",
       "      <td>31778</td>\n",
       "      <td>\\( 3 \\)</td>\n",
       "      <td>2</td>\n",
       "    </tr>\n",
       "    <tr>\n",
       "      <th>15</th>\n",
       "      <td>31778</td>\n",
       "      <td>\\( 9 \\)</td>\n",
       "      <td>3</td>\n",
       "    </tr>\n",
       "    <tr>\n",
       "      <th>16</th>\n",
       "      <td>32829</td>\n",
       "      <td>\\( 12 \\)</td>\n",
       "      <td>0</td>\n",
       "    </tr>\n",
       "    <tr>\n",
       "      <th>18</th>\n",
       "      <td>32829</td>\n",
       "      <td>\\( 4 \\)</td>\n",
       "      <td>1</td>\n",
       "    </tr>\n",
       "    <tr>\n",
       "      <th>17</th>\n",
       "      <td>32829</td>\n",
       "      <td>\\( 22 \\)</td>\n",
       "      <td>2</td>\n",
       "    </tr>\n",
       "    <tr>\n",
       "      <th>19</th>\n",
       "      <td>32829</td>\n",
       "      <td>\\( 48 \\)</td>\n",
       "      <td>3</td>\n",
       "    </tr>\n",
       "    <tr>\n",
       "      <th>20</th>\n",
       "      <td>32833</td>\n",
       "      <td>\\( 3 \\frac{1}{3} \\)</td>\n",
       "      <td>0</td>\n",
       "    </tr>\n",
       "    <tr>\n",
       "      <th>22</th>\n",
       "      <td>32833</td>\n",
       "      <td>\\( \\frac{10}{15} \\)</td>\n",
       "      <td>1</td>\n",
       "    </tr>\n",
       "    <tr>\n",
       "      <th>23</th>\n",
       "      <td>32833</td>\n",
       "      <td>\\( \\frac{2}{15} \\)</td>\n",
       "      <td>2</td>\n",
       "    </tr>\n",
       "    <tr>\n",
       "      <th>21</th>\n",
       "      <td>32833</td>\n",
       "      <td>\\( 5 \\frac{2}{3} \\)</td>\n",
       "      <td>3</td>\n",
       "    </tr>\n",
       "    <tr>\n",
       "      <th>27</th>\n",
       "      <td>32835</td>\n",
       "      <td>\\( 6.2 \\)</td>\n",
       "      <td>0</td>\n",
       "    </tr>\n",
       "    <tr>\n",
       "      <th>24</th>\n",
       "      <td>32835</td>\n",
       "      <td>\\( 6 \\)</td>\n",
       "      <td>1</td>\n",
       "    </tr>\n",
       "    <tr>\n",
       "      <th>26</th>\n",
       "      <td>32835</td>\n",
       "      <td>\\( 6.079 \\)</td>\n",
       "      <td>2</td>\n",
       "    </tr>\n",
       "    <tr>\n",
       "      <th>25</th>\n",
       "      <td>32835</td>\n",
       "      <td>\\( 6.0001 \\)</td>\n",
       "      <td>3</td>\n",
       "    </tr>\n",
       "    <tr>\n",
       "      <th>28</th>\n",
       "      <td>33471</td>\n",
       "      <td>\\( 15 \\)</td>\n",
       "      <td>0</td>\n",
       "    </tr>\n",
       "    <tr>\n",
       "      <th>31</th>\n",
       "      <td>33471</td>\n",
       "      <td>\\( 9 \\)</td>\n",
       "      <td>1</td>\n",
       "    </tr>\n",
       "    <tr>\n",
       "      <th>30</th>\n",
       "      <td>33471</td>\n",
       "      <td>\\( 8 \\)</td>\n",
       "      <td>2</td>\n",
       "    </tr>\n",
       "    <tr>\n",
       "      <th>29</th>\n",
       "      <td>33471</td>\n",
       "      <td>\\( 3 \\)</td>\n",
       "      <td>3</td>\n",
       "    </tr>\n",
       "    <tr>\n",
       "      <th>32</th>\n",
       "      <td>33472</td>\n",
       "      <td>\\( \\frac{11}{15} \\)</td>\n",
       "      <td>0</td>\n",
       "    </tr>\n",
       "    <tr>\n",
       "      <th>34</th>\n",
       "      <td>33472</td>\n",
       "      <td>\\( \\frac{3}{15} \\)</td>\n",
       "      <td>1</td>\n",
       "    </tr>\n",
       "    <tr>\n",
       "      <th>35</th>\n",
       "      <td>33472</td>\n",
       "      <td>\\( \\frac{3}{8} \\)</td>\n",
       "      <td>2</td>\n",
       "    </tr>\n",
       "    <tr>\n",
       "      <th>33</th>\n",
       "      <td>33472</td>\n",
       "      <td>\\( \\frac{11}{30} \\)</td>\n",
       "      <td>3</td>\n",
       "    </tr>\n",
       "    <tr>\n",
       "      <th>39</th>\n",
       "      <td>33474</td>\n",
       "      <td>\\( \\frac{2}{3}-\\frac{1}{3} \\)</td>\n",
       "      <td>0</td>\n",
       "    </tr>\n",
       "    <tr>\n",
       "      <th>36</th>\n",
       "      <td>33474</td>\n",
       "      <td>\\( \\frac{1}{3} \\times \\frac{2}{3} \\)</td>\n",
       "      <td>1</td>\n",
       "    </tr>\n",
       "    <tr>\n",
       "      <th>38</th>\n",
       "      <td>33474</td>\n",
       "      <td>\\( \\frac{2}{3} \\div \\frac{1}{3} \\)</td>\n",
       "      <td>2</td>\n",
       "    </tr>\n",
       "    <tr>\n",
       "      <th>37</th>\n",
       "      <td>33474</td>\n",
       "      <td>\\( \\frac{1}{3}+\\frac{2}{3} \\)</td>\n",
       "      <td>3</td>\n",
       "    </tr>\n",
       "    <tr>\n",
       "      <th>41</th>\n",
       "      <td>76870</td>\n",
       "      <td>\\( 10 \\)</td>\n",
       "      <td>0</td>\n",
       "    </tr>\n",
       "    <tr>\n",
       "      <th>40</th>\n",
       "      <td>76870</td>\n",
       "      <td>Not enough information</td>\n",
       "      <td>1</td>\n",
       "    </tr>\n",
       "    <tr>\n",
       "      <th>42</th>\n",
       "      <td>76870</td>\n",
       "      <td>\\( 5 \\)</td>\n",
       "      <td>2</td>\n",
       "    </tr>\n",
       "    <tr>\n",
       "      <th>43</th>\n",
       "      <td>76870</td>\n",
       "      <td>\\( 6 \\)</td>\n",
       "      <td>3</td>\n",
       "    </tr>\n",
       "    <tr>\n",
       "      <th>45</th>\n",
       "      <td>89443</td>\n",
       "      <td>\\( -3 \\)</td>\n",
       "      <td>0</td>\n",
       "    </tr>\n",
       "    <tr>\n",
       "      <th>44</th>\n",
       "      <td>89443</td>\n",
       "      <td>\\( -13 \\)</td>\n",
       "      <td>1</td>\n",
       "    </tr>\n",
       "    <tr>\n",
       "      <th>47</th>\n",
       "      <td>89443</td>\n",
       "      <td>\\( 3 \\)</td>\n",
       "      <td>2</td>\n",
       "    </tr>\n",
       "    <tr>\n",
       "      <th>46</th>\n",
       "      <td>89443</td>\n",
       "      <td>\\( 13 \\)</td>\n",
       "      <td>3</td>\n",
       "    </tr>\n",
       "    <tr>\n",
       "      <th>50</th>\n",
       "      <td>91695</td>\n",
       "      <td>\\( 26 \\)</td>\n",
       "      <td>0</td>\n",
       "    </tr>\n",
       "    <tr>\n",
       "      <th>49</th>\n",
       "      <td>91695</td>\n",
       "      <td>\\( 22 \\)</td>\n",
       "      <td>1</td>\n",
       "    </tr>\n",
       "    <tr>\n",
       "      <th>51</th>\n",
       "      <td>91695</td>\n",
       "      <td>\\( 36 \\)</td>\n",
       "      <td>2</td>\n",
       "    </tr>\n",
       "    <tr>\n",
       "      <th>48</th>\n",
       "      <td>91695</td>\n",
       "      <td>\\( 20 \\)</td>\n",
       "      <td>3</td>\n",
       "    </tr>\n",
       "    <tr>\n",
       "      <th>53</th>\n",
       "      <td>104665</td>\n",
       "      <td>\\( 48 \\) hours</td>\n",
       "      <td>0</td>\n",
       "    </tr>\n",
       "    <tr>\n",
       "      <th>55</th>\n",
       "      <td>104665</td>\n",
       "      <td>\\( 768 \\) hours</td>\n",
       "      <td>1</td>\n",
       "    </tr>\n",
       "    <tr>\n",
       "      <th>54</th>\n",
       "      <td>104665</td>\n",
       "      <td>\\( 64 \\) hours</td>\n",
       "      <td>2</td>\n",
       "    </tr>\n",
       "    <tr>\n",
       "      <th>52</th>\n",
       "      <td>104665</td>\n",
       "      <td>\\( 192 \\) hours</td>\n",
       "      <td>3</td>\n",
       "    </tr>\n",
       "    <tr>\n",
       "      <th>58</th>\n",
       "      <td>109465</td>\n",
       "      <td>Likely</td>\n",
       "      <td>0</td>\n",
       "    </tr>\n",
       "    <tr>\n",
       "      <th>59</th>\n",
       "      <td>109465</td>\n",
       "      <td>Unlikely</td>\n",
       "      <td>1</td>\n",
       "    </tr>\n",
       "    <tr>\n",
       "      <th>56</th>\n",
       "      <td>109465</td>\n",
       "      <td>Certain</td>\n",
       "      <td>2</td>\n",
       "    </tr>\n",
       "    <tr>\n",
       "      <th>57</th>\n",
       "      <td>109465</td>\n",
       "      <td>Impossible</td>\n",
       "      <td>3</td>\n",
       "    </tr>\n",
       "  </tbody>\n",
       "</table>\n",
       "</div>"
      ],
      "text/plain": [
       "    QuestionId                             MC_Answer  rank\n",
       "0        31772                     \\( \\frac{1}{3} \\)     0\n",
       "3        31772                     \\( \\frac{3}{9} \\)     1\n",
       "1        31772                     \\( \\frac{3}{6} \\)     2\n",
       "2        31772                     \\( \\frac{3}{8} \\)     3\n",
       "5        31774                    \\( \\frac{1}{12} \\)     0\n",
       "4        31774                               \\( 3 \\)     1\n",
       "7        31774                     \\( \\frac{6}{2} \\)     2\n",
       "6        31774                     \\( \\frac{1}{3} \\)     3\n",
       "11       31777                              \\( 72 \\)     0\n",
       "9        31777                              \\( 48 \\)     1\n",
       "10       31777                              \\( 60 \\)     2\n",
       "8        31777                              \\( 24 \\)     3\n",
       "14       31778                               \\( 6 \\)     0\n",
       "13       31778                               \\( 4 \\)     1\n",
       "12       31778                               \\( 3 \\)     2\n",
       "15       31778                               \\( 9 \\)     3\n",
       "16       32829                              \\( 12 \\)     0\n",
       "18       32829                               \\( 4 \\)     1\n",
       "17       32829                              \\( 22 \\)     2\n",
       "19       32829                              \\( 48 \\)     3\n",
       "20       32833                   \\( 3 \\frac{1}{3} \\)     0\n",
       "22       32833                   \\( \\frac{10}{15} \\)     1\n",
       "23       32833                    \\( \\frac{2}{15} \\)     2\n",
       "21       32833                   \\( 5 \\frac{2}{3} \\)     3\n",
       "27       32835                             \\( 6.2 \\)     0\n",
       "24       32835                               \\( 6 \\)     1\n",
       "26       32835                           \\( 6.079 \\)     2\n",
       "25       32835                          \\( 6.0001 \\)     3\n",
       "28       33471                              \\( 15 \\)     0\n",
       "31       33471                               \\( 9 \\)     1\n",
       "30       33471                               \\( 8 \\)     2\n",
       "29       33471                               \\( 3 \\)     3\n",
       "32       33472                   \\( \\frac{11}{15} \\)     0\n",
       "34       33472                    \\( \\frac{3}{15} \\)     1\n",
       "35       33472                     \\( \\frac{3}{8} \\)     2\n",
       "33       33472                   \\( \\frac{11}{30} \\)     3\n",
       "39       33474         \\( \\frac{2}{3}-\\frac{1}{3} \\)     0\n",
       "36       33474  \\( \\frac{1}{3} \\times \\frac{2}{3} \\)     1\n",
       "38       33474    \\( \\frac{2}{3} \\div \\frac{1}{3} \\)     2\n",
       "37       33474         \\( \\frac{1}{3}+\\frac{2}{3} \\)     3\n",
       "41       76870                              \\( 10 \\)     0\n",
       "40       76870                Not enough information     1\n",
       "42       76870                               \\( 5 \\)     2\n",
       "43       76870                               \\( 6 \\)     3\n",
       "45       89443                              \\( -3 \\)     0\n",
       "44       89443                             \\( -13 \\)     1\n",
       "47       89443                               \\( 3 \\)     2\n",
       "46       89443                              \\( 13 \\)     3\n",
       "50       91695                              \\( 26 \\)     0\n",
       "49       91695                              \\( 22 \\)     1\n",
       "51       91695                              \\( 36 \\)     2\n",
       "48       91695                              \\( 20 \\)     3\n",
       "53      104665                        \\( 48 \\) hours     0\n",
       "55      104665                       \\( 768 \\) hours     1\n",
       "54      104665                        \\( 64 \\) hours     2\n",
       "52      104665                       \\( 192 \\) hours     3\n",
       "58      109465                                Likely     0\n",
       "59      109465                              Unlikely     1\n",
       "56      109465                               Certain     2\n",
       "57      109465                            Impossible     3"
      ]
     },
     "execution_count": 53,
     "metadata": {},
     "output_type": "execute_result"
    }
   ],
   "source": [
    "temp = temp.drop('count',axis=1)\n",
    "temp = temp.sort_values(['QuestionId','rank'])\n",
    "temp"
   ]
  },
  {
   "cell_type": "code",
   "execution_count": 54,
   "id": "b0c6b17f",
   "metadata": {
    "execution": {
     "iopub.execute_input": "2025-09-29T16:42:07.988756Z",
     "iopub.status.busy": "2025-09-29T16:42:07.988542Z",
     "iopub.status.idle": "2025-09-29T16:42:08.050021Z",
     "shell.execute_reply": "2025-09-29T16:42:08.049384Z"
    },
    "papermill": {
     "duration": 0.086495,
     "end_time": "2025-09-29T16:42:08.051149",
     "exception": false,
     "start_time": "2025-09-29T16:42:07.964654",
     "status": "completed"
    },
    "scrolled": true,
    "tags": []
   },
   "outputs": [
    {
     "name": "stdout",
     "output_type": "stream",
     "text": [
      "\n"
     ]
    },
    {
     "data": {
      "text/latex": [
       "Question Id: 31772: What fraction of the shape is not shaded? Give your answer in its simplest form. [Image: A triangle split into 9 equal smaller triangles. 6 of them are shaded.]"
      ],
      "text/plain": [
       "<IPython.core.display.Latex object>"
      ]
     },
     "metadata": {},
     "output_type": "display_data"
    },
    {
     "data": {
      "text/latex": [
       "MC Answer: (A) \\( \\frac{1}{3} \\) (B) \\( \\frac{3}{9} \\) (C) \\( \\frac{3}{6} \\) (D) \\( \\frac{3}{8} \\)\n",
       "\r"
      ],
      "text/plain": [
       "<IPython.core.display.Latex object>"
      ]
     },
     "metadata": {},
     "output_type": "display_data"
    },
    {
     "name": "stdout",
     "output_type": "stream",
     "text": [
      "\n"
     ]
    },
    {
     "data": {
      "text/latex": [
       "Question Id: 31774: Calculate \\( \\frac{1}{2} \\div 6 \\)"
      ],
      "text/plain": [
       "<IPython.core.display.Latex object>"
      ]
     },
     "metadata": {},
     "output_type": "display_data"
    },
    {
     "data": {
      "text/latex": [
       "MC Answer: (A) \\( \\frac{1}{12} \\) (B) \\( 3 \\) (C) \\( \\frac{6}{2} \\) (D) \\( \\frac{1}{3} \\)\n",
       "\r"
      ],
      "text/plain": [
       "<IPython.core.display.Latex object>"
      ]
     },
     "metadata": {},
     "output_type": "display_data"
    },
    {
     "name": "stdout",
     "output_type": "stream",
     "text": [
      "\n"
     ]
    },
    {
     "data": {
      "text/latex": [
       "Question Id: 31777: A box contains \\( 120 \\) counters. The counters are red or blue. \\( \\frac{3}{5} \\) of the counters are red.\n",
       "How many red counters are there?"
      ],
      "text/plain": [
       "<IPython.core.display.Latex object>"
      ]
     },
     "metadata": {},
     "output_type": "display_data"
    },
    {
     "data": {
      "text/latex": [
       "MC Answer: (A) \\( 72 \\) (B) \\( 48 \\) (C) \\( 60 \\) (D) \\( 24 \\)\n",
       "\r"
      ],
      "text/plain": [
       "<IPython.core.display.Latex object>"
      ]
     },
     "metadata": {},
     "output_type": "display_data"
    },
    {
     "name": "stdout",
     "output_type": "stream",
     "text": [
      "\n"
     ]
    },
    {
     "data": {
      "text/latex": [
       "Question Id: 31778: \\( \\frac{A}{10}=\\frac{9}{15} \\) What is the value of \\( A \\) ?"
      ],
      "text/plain": [
       "<IPython.core.display.Latex object>"
      ]
     },
     "metadata": {},
     "output_type": "display_data"
    },
    {
     "data": {
      "text/latex": [
       "MC Answer: (A) \\( 6 \\) (B) \\( 4 \\) (C) \\( 3 \\) (D) \\( 9 \\)\n",
       "\r"
      ],
      "text/plain": [
       "<IPython.core.display.Latex object>"
      ]
     },
     "metadata": {},
     "output_type": "display_data"
    },
    {
     "name": "stdout",
     "output_type": "stream",
     "text": [
      "\n"
     ]
    },
    {
     "data": {
      "text/latex": [
       "Question Id: 32829: \\( 2 y=24 \\) What is the value of \\( y \\) ?"
      ],
      "text/plain": [
       "<IPython.core.display.Latex object>"
      ]
     },
     "metadata": {},
     "output_type": "display_data"
    },
    {
     "data": {
      "text/latex": [
       "MC Answer: (A) \\( 12 \\) (B) \\( 4 \\) (C) \\( 22 \\) (D) \\( 48 \\)\n",
       "\r"
      ],
      "text/plain": [
       "<IPython.core.display.Latex object>"
      ]
     },
     "metadata": {},
     "output_type": "display_data"
    },
    {
     "name": "stdout",
     "output_type": "stream",
     "text": [
      "\n"
     ]
    },
    {
     "data": {
      "text/latex": [
       "Question Id: 32833: Calculate \\( \\frac{2}{3} \\times 5 \\)"
      ],
      "text/plain": [
       "<IPython.core.display.Latex object>"
      ]
     },
     "metadata": {},
     "output_type": "display_data"
    },
    {
     "data": {
      "text/latex": [
       "MC Answer: (A) \\( 3 \\frac{1}{3} \\) (B) \\( \\frac{10}{15} \\) (C) \\( \\frac{2}{15} \\) (D) \\( 5 \\frac{2}{3} \\)\n",
       "\r"
      ],
      "text/plain": [
       "<IPython.core.display.Latex object>"
      ]
     },
     "metadata": {},
     "output_type": "display_data"
    },
    {
     "name": "stdout",
     "output_type": "stream",
     "text": [
      "\n"
     ]
    },
    {
     "data": {
      "text/latex": [
       "Question Id: 32835: Which number is the greatest?"
      ],
      "text/plain": [
       "<IPython.core.display.Latex object>"
      ]
     },
     "metadata": {},
     "output_type": "display_data"
    },
    {
     "data": {
      "text/latex": [
       "MC Answer: (A) \\( 6.2 \\) (B) \\( 6 \\) (C) \\( 6.079 \\) (D) \\( 6.0001 \\)\n",
       "\r"
      ],
      "text/plain": [
       "<IPython.core.display.Latex object>"
      ]
     },
     "metadata": {},
     "output_type": "display_data"
    },
    {
     "name": "stdout",
     "output_type": "stream",
     "text": [
      "\n"
     ]
    },
    {
     "data": {
      "text/latex": [
       "Question Id: 33471: A bag contains \\( 24 \\) yellow and green balls. \\( \\frac{3}{8} \\) of the balls are yellow. How many of the balls are green?"
      ],
      "text/plain": [
       "<IPython.core.display.Latex object>"
      ]
     },
     "metadata": {},
     "output_type": "display_data"
    },
    {
     "data": {
      "text/latex": [
       "MC Answer: (A) \\( 15 \\) (B) \\( 9 \\) (C) \\( 8 \\) (D) \\( 3 \\)\n",
       "\r"
      ],
      "text/plain": [
       "<IPython.core.display.Latex object>"
      ]
     },
     "metadata": {},
     "output_type": "display_data"
    },
    {
     "name": "stdout",
     "output_type": "stream",
     "text": [
      "\n"
     ]
    },
    {
     "data": {
      "text/latex": [
       "Question Id: 33472: \\( \\frac{1}{3}+\\frac{2}{5}= \\)"
      ],
      "text/plain": [
       "<IPython.core.display.Latex object>"
      ]
     },
     "metadata": {},
     "output_type": "display_data"
    },
    {
     "data": {
      "text/latex": [
       "MC Answer: (A) \\( \\frac{11}{15} \\) (B) \\( \\frac{3}{15} \\) (C) \\( \\frac{3}{8} \\) (D) \\( \\frac{11}{30} \\)\n",
       "\r"
      ],
      "text/plain": [
       "<IPython.core.display.Latex object>"
      ]
     },
     "metadata": {},
     "output_type": "display_data"
    },
    {
     "name": "stdout",
     "output_type": "stream",
     "text": [
      "\n"
     ]
    },
    {
     "data": {
      "text/latex": [
       "Question Id: 33474: Sally has \\( \\frac{2}{3} \\) of a whole cake in the fridge. Robert eats \\( \\frac{1}{3} \\) of this piece. What fraction of the whole cake has Robert eaten?\n",
       "Choose the number sentence that would solve the word problem."
      ],
      "text/plain": [
       "<IPython.core.display.Latex object>"
      ]
     },
     "metadata": {},
     "output_type": "display_data"
    },
    {
     "data": {
      "text/latex": [
       "MC Answer: (A) \\( \\frac{2}{3}-\\frac{1}{3} \\) (B) \\( \\frac{1}{3} \\times \\frac{2}{3} \\) (C) \\( \\frac{2}{3} \\div \\frac{1}{3} \\) (D) \\( \\frac{1}{3}+\\frac{2}{3} \\)\n",
       "\r"
      ],
      "text/plain": [
       "<IPython.core.display.Latex object>"
      ]
     },
     "metadata": {},
     "output_type": "display_data"
    },
    {
     "name": "stdout",
     "output_type": "stream",
     "text": [
      "\n"
     ]
    },
    {
     "data": {
      "text/latex": [
       "Question Id: 76870: This is part of a regular polygon. How many sides does it have? [Image: A diagram showing an obtuse angle labelled 144 degrees]"
      ],
      "text/plain": [
       "<IPython.core.display.Latex object>"
      ]
     },
     "metadata": {},
     "output_type": "display_data"
    },
    {
     "data": {
      "text/latex": [
       "MC Answer: (A) \\( 10 \\) (B) Not enough information (C) \\( 5 \\) (D) \\( 6 \\)\n",
       "\r"
      ],
      "text/plain": [
       "<IPython.core.display.Latex object>"
      ]
     },
     "metadata": {},
     "output_type": "display_data"
    },
    {
     "name": "stdout",
     "output_type": "stream",
     "text": [
      "\n"
     ]
    },
    {
     "data": {
      "text/latex": [
       "Question Id: 89443: What number belongs in the box?\n",
       "\\(\n",
       "(-8)-(-5)=\n",
       "\\square\\)"
      ],
      "text/plain": [
       "<IPython.core.display.Latex object>"
      ]
     },
     "metadata": {},
     "output_type": "display_data"
    },
    {
     "data": {
      "text/latex": [
       "MC Answer: (A) \\( -3 \\) (B) \\( -13 \\) (C) \\( 3 \\) (D) \\( 13 \\)\n",
       "\r"
      ],
      "text/plain": [
       "<IPython.core.display.Latex object>"
      ]
     },
     "metadata": {},
     "output_type": "display_data"
    },
    {
     "name": "stdout",
     "output_type": "stream",
     "text": [
      "\n"
     ]
    },
    {
     "data": {
      "text/latex": [
       "Question Id: 91695: Dots have been arranged in these patterns: [Image: Pattern 1 consists of 6 dots, Pattern 2 consists of 10 dots, Pattern 3 consists of 14 dots and Pattern 4 consists of 18 dots] How many dots would there be in Pattern \\( 6 \\) ?"
      ],
      "text/plain": [
       "<IPython.core.display.Latex object>"
      ]
     },
     "metadata": {},
     "output_type": "display_data"
    },
    {
     "data": {
      "text/latex": [
       "MC Answer: (A) \\( 26 \\) (B) \\( 22 \\) (C) \\( 36 \\) (D) \\( 20 \\)\n",
       "\r"
      ],
      "text/plain": [
       "<IPython.core.display.Latex object>"
      ]
     },
     "metadata": {},
     "output_type": "display_data"
    },
    {
     "name": "stdout",
     "output_type": "stream",
     "text": [
      "\n"
     ]
    },
    {
     "data": {
      "text/latex": [
       "Question Id: 104665: It takes \\( 3 \\) people a total of \\( 192 \\) hours to build a wall.\n",
       "\n",
       "How long would it take if \\( 12 \\) people built the same wall?"
      ],
      "text/plain": [
       "<IPython.core.display.Latex object>"
      ]
     },
     "metadata": {},
     "output_type": "display_data"
    },
    {
     "data": {
      "text/latex": [
       "MC Answer: (A) \\( 48 \\) hours (B) \\( 768 \\) hours (C) \\( 64 \\) hours (D) \\( 192 \\) hours\n",
       "\r"
      ],
      "text/plain": [
       "<IPython.core.display.Latex object>"
      ]
     },
     "metadata": {},
     "output_type": "display_data"
    },
    {
     "name": "stdout",
     "output_type": "stream",
     "text": [
      "\n"
     ]
    },
    {
     "data": {
      "text/latex": [
       "Question Id: 109465: The probability of an event occurring is \\( 0.9 \\).\n",
       "\n",
       "Which of the following most accurately describes the likelihood of the event occurring?"
      ],
      "text/plain": [
       "<IPython.core.display.Latex object>"
      ]
     },
     "metadata": {},
     "output_type": "display_data"
    },
    {
     "data": {
      "text/latex": [
       "MC Answer: (A) Likely (B) Unlikely (C) Certain (D) Impossible\n",
       "\r"
      ],
      "text/plain": [
       "<IPython.core.display.Latex object>"
      ]
     },
     "metadata": {},
     "output_type": "display_data"
    }
   ],
   "source": [
    "Qid = temp[\"QuestionId\"].unique() # get unique questionid\n",
    "for q in Qid:\n",
    "    question = trainDF.loc[trainDF.QuestionId==q].iloc[0][\"QuestionText\"] # get Question Text for specific QuestionId\n",
    "    choices = temp.loc[temp[\"QuestionId\"] ==q][\"MC_Answer\"].values #\n",
    "    labels=\"ABCD\" # define labels name\n",
    "    choiceStr = \" \".join([f\"({labels[i]}) {choice}\" for  i, choice in enumerate(choices)])\n",
    "    print()\n",
    "    display(Latex(f\"Question Id: {q}: {question}\"))\n",
    "    display(Latex(f\"MC Answer: {choiceStr}\\n\\r\"))\n",
    "    \n",
    "    # print(f\"question: {question}, choices: {choices}  \\n\\r\")"
   ]
  },
  {
   "cell_type": "code",
   "execution_count": 55,
   "id": "3374241c",
   "metadata": {
    "execution": {
     "iopub.execute_input": "2025-09-29T16:42:08.103930Z",
     "iopub.status.busy": "2025-09-29T16:42:08.103678Z",
     "iopub.status.idle": "2025-09-29T16:42:08.107845Z",
     "shell.execute_reply": "2025-09-29T16:42:08.107176Z"
    },
    "papermill": {
     "duration": 0.031337,
     "end_time": "2025-09-29T16:42:08.108835",
     "exception": false,
     "start_time": "2025-09-29T16:42:08.077498",
     "status": "completed"
    },
    "tags": []
   },
   "outputs": [
    {
     "data": {
      "text/plain": [
       "15"
      ]
     },
     "execution_count": 55,
     "metadata": {},
     "output_type": "execute_result"
    }
   ],
   "source": [
    "len(Qid)"
   ]
  },
  {
   "cell_type": "code",
   "execution_count": 56,
   "id": "ea5953ac",
   "metadata": {
    "execution": {
     "iopub.execute_input": "2025-09-29T16:42:08.161440Z",
     "iopub.status.busy": "2025-09-29T16:42:08.161235Z",
     "iopub.status.idle": "2025-09-29T16:42:11.374660Z",
     "shell.execute_reply": "2025-09-29T16:42:11.374077Z"
    },
    "papermill": {
     "duration": 3.24142,
     "end_time": "2025-09-29T16:42:11.376095",
     "exception": false,
     "start_time": "2025-09-29T16:42:08.134675",
     "status": "completed"
    },
    "tags": []
   },
   "outputs": [],
   "source": [
    "clearMemory()"
   ]
  },
  {
   "cell_type": "markdown",
   "id": "f1c21792",
   "metadata": {
    "papermill": {
     "duration": 0.025691,
     "end_time": "2025-09-29T16:42:11.431051",
     "exception": false,
     "start_time": "2025-09-29T16:42:11.405360",
     "status": "completed"
    },
    "tags": []
   },
   "source": [
    "<!-- ### Undersampling is simple way to reduce impact for training imbalance class -->\n",
    "# Imbalance Class Handling\n",
    "To address the extreme class imbalance in your training dataset, you can apply sampling techniques to create a more balanced dataset for fine-tuning. Here are common and effective approaches:\n",
    "\n",
    "### Undersampling the Majority Classes\n",
    "Randomly remove samples from highly frequent classes (e.g., label 37 with 14,802 samples) to reduce their dominance.\n",
    "\n",
    "Techniques like Near Miss or Tomek Links select majority samples close to minority samples to keep important points and remove redundant ones.\n",
    "\n",
    "Downsampling ensures batches contain more representative samples of minority classes, helping the model learn minority patterns better.\n",
    "\n",
    "### Oversampling the Minority Classes\n",
    "Increase the number of samples in minority classes by replicating existing samples or synthetically generating new ones (e.g., SMOTE or Perceptual Borderline SMOTE).\n",
    "\n",
    "Synthetic oversampling creates new minority samples by interpolating between nearest neighbors, improving representation without losing information.\n",
    "\n",
    "### Hybrid Sampling\n",
    "Combine undersampling and oversampling to balance the dataset effectively without losing valuable majority class information.\n",
    "\n",
    "For example, reduce majority class samples moderately and apply synthetic oversampling to minority classes.\n",
    "\n",
    "Hybrid methods have been shown to perform well in highly imbalanced multi-class settings.\n",
    "\n",
    "## Additional Suggestions\n",
    "- Class Weights: Alternatively or additionally, assign higher loss weights to minority classes during training to force the model to pay more attention to them without changing the dataset distribution.\n",
    "\n",
    "- Experiment: It’s important to experiment with the degree of under- and oversampling as well as weighting to optimize balanced learning.\n",
    "\n",
    "\n",
    "By applying these resampling strategies, the data balance improves, which can help stabilize metrics like mAP during fine-tuning and improve overall model robustness across all classes.To address the extreme class imbalance in your training dataset, a common solution is to use sampling techniques to balance the dataset:\n",
    "\n",
    "- Undersampling: Reduce samples from majority classes by randomly removing some instances or using informed methods like Near Miss or Tomek Links, which selectively remove samples from majority classes near minority class boundaries. This prevents the model from overwhelming bias towards large classes.\n",
    "\n",
    "- Oversampling: Increase samples from minority classes by duplicating instances or generating synthetic samples using methods like SMOTE or Perceptual Borderline SMOTE, which interpolate between minority samples to create new, plausible instances.\n",
    "\n",
    "- Hybrid methods: Combine undersampling of large classes with oversampling of small classes to maintain data diversity and balance effectively.\n",
    "\n",
    "- Class weighting: Alternatively, or in addition, use class-weighted loss functions to penalize misclassification of minority classes more heavily without changing data distribution.\n",
    "\n",
    "It's recommended to experiment with these approaches and their parameters, aiming for a balanced representation that helps the model learn all classes well and stabilizes performance metrics like mAP during fine-tuning.\n",
    "\n",
    "\n",
    "### how to apply class weight in transformers\n",
    "To apply class weights in fine-tuning transformers with PyTorch, you typically define a weighted loss function that penalizes misclassification of underrepresented classes more heavily. Here's how you can do it:\n",
    "\n",
    "### How to Apply Class Weights in Transformers (PyTorch)\n",
    "Calculate class weights: Create a tensor of class weights inversely proportional to class frequencies.\n",
    "\n",
    "- Use weighted loss function: Pass the class weights to PyTorch's nn.CrossEntropyLoss(weight=class_weights). This makes the loss sensitive to class imbalance.\n",
    "\n",
    "Integrate with Hugging Face Trainer:\n",
    "\n",
    "Subclass the Trainer class.\n",
    "\n",
    "Override the compute_loss method to apply the weighted loss function instead of the default one.\n",
    "\n",
    "Example Code\n",
    "python\n",
    "import torch\n",
    "from torch import nn\n",
    "from transformers import Trainer\n",
    "\n",
    "# Define class weights as a torch tensor, for example:\n",
    "class_weights = torch.tensor([0.1, 0.3, 0.6], device='cuda')  # Replace with actual weights\n",
    "\n",
    "# Custom Trainer to use weighted loss\n",
    "```\n",
    "class CustomTrainer(Trainer):\n",
    "    def compute_loss(self, model, inputs, return_outputs=False):\n",
    "        labels = inputs.get(\"labels\")\n",
    "        outputs = model(**inputs)\n",
    "        logits = outputs.get('logits')\n",
    "        loss_fct = nn.CrossEntropyLoss(weight=class_weights)\n",
    "        loss = loss_fct(logits.view(-1, model.config.num_labels), labels.view(-1))\n",
    "        return (loss, outputs) if return_outputs else loss\n",
    "```\n",
    "\n",
    "This approach lets the transformer model focus more on minority classes by increasing their contribution to the loss during training. The class weights tensor should be calculated based on class frequencies from your dataset.\n",
    "\n",
    "This method is the standard way to apply class weights during transformer fine-tuning in PyTorch and Hugging Face Trainer.\n",
    "\n"
   ]
  },
  {
   "cell_type": "code",
   "execution_count": 57,
   "id": "c8ce1966",
   "metadata": {
    "execution": {
     "iopub.execute_input": "2025-09-29T16:42:11.483270Z",
     "iopub.status.busy": "2025-09-29T16:42:11.483038Z",
     "iopub.status.idle": "2025-09-29T16:42:11.487177Z",
     "shell.execute_reply": "2025-09-29T16:42:11.486506Z"
    },
    "papermill": {
     "duration": 0.031714,
     "end_time": "2025-09-29T16:42:11.488318",
     "exception": false,
     "start_time": "2025-09-29T16:42:11.456604",
     "status": "completed"
    },
    "tags": []
   },
   "outputs": [
    {
     "data": {
      "text/plain": [
       "2960"
      ]
     },
     "execution_count": 57,
     "metadata": {},
     "output_type": "execute_result"
    }
   ],
   "source": [
    "sampleValue =  14802 //5\n",
    "sampleValue"
   ]
  },
  {
   "cell_type": "code",
   "execution_count": 58,
   "id": "f414a545",
   "metadata": {
    "execution": {
     "iopub.execute_input": "2025-09-29T16:42:11.540530Z",
     "iopub.status.busy": "2025-09-29T16:42:11.540331Z",
     "iopub.status.idle": "2025-09-29T16:42:11.545562Z",
     "shell.execute_reply": "2025-09-29T16:42:11.544900Z"
    },
    "papermill": {
     "duration": 0.032509,
     "end_time": "2025-09-29T16:42:11.546643",
     "exception": false,
     "start_time": "2025-09-29T16:42:11.514134",
     "status": "completed"
    },
    "tags": []
   },
   "outputs": [
    {
     "data": {
      "text/plain": [
       "3"
      ]
     },
     "execution_count": 58,
     "metadata": {},
     "output_type": "execute_result"
    }
   ],
   "source": [
    "# median value = 50 \n",
    "(trainDF[\"label\"].value_counts() > sampleValue).sum() # number of class > 50 counts"
   ]
  },
  {
   "cell_type": "markdown",
   "id": "7450ae81",
   "metadata": {
    "papermill": {
     "duration": 0.025731,
     "end_time": "2025-09-29T16:42:11.598108",
     "exception": false,
     "start_time": "2025-09-29T16:42:11.572377",
     "status": "completed"
    },
    "tags": []
   },
   "source": [
    "## Use Mix Undersample and Oversample Improve performance"
   ]
  },
  {
   "cell_type": "code",
   "execution_count": 59,
   "id": "20cb45fa",
   "metadata": {
    "execution": {
     "iopub.execute_input": "2025-09-29T16:42:11.665354Z",
     "iopub.status.busy": "2025-09-29T16:42:11.665087Z",
     "iopub.status.idle": "2025-09-29T16:42:11.669492Z",
     "shell.execute_reply": "2025-09-29T16:42:11.668960Z"
    },
    "papermill": {
     "duration": 0.046486,
     "end_time": "2025-09-29T16:42:11.670665",
     "exception": false,
     "start_time": "2025-09-29T16:42:11.624179",
     "status": "completed"
    },
    "tags": []
   },
   "outputs": [],
   "source": [
    "# Assume df is your DataFrame and 'label' is your class column\n",
    "desired_count = sampleValue #50\n",
    "def resample_group_mix(group):\n",
    "    '''\n",
    "    Resample with hybird undersample and Oversample\n",
    "    '''\n",
    "    n = len(group)\n",
    "    if n > desired_count:\n",
    "        # Undersample if more than desired_count\n",
    "        return group.sample(n=desired_count, random_state=42)\n",
    "    elif n < desired_count:\n",
    "        # Oversample with replacement if less than desired_count\n",
    "        return group.sample(n=desired_count, replace=True, random_state=42)\n",
    "    else:\n",
    "        # Keep as is if exactly desired_count\n",
    "        return group"
   ]
  },
  {
   "cell_type": "code",
   "execution_count": 60,
   "id": "a2148df6",
   "metadata": {
    "execution": {
     "iopub.execute_input": "2025-09-29T16:42:11.732289Z",
     "iopub.status.busy": "2025-09-29T16:42:11.732055Z",
     "iopub.status.idle": "2025-09-29T16:42:11.736056Z",
     "shell.execute_reply": "2025-09-29T16:42:11.735462Z"
    },
    "papermill": {
     "duration": 0.036346,
     "end_time": "2025-09-29T16:42:11.737186",
     "exception": false,
     "start_time": "2025-09-29T16:42:11.700840",
     "status": "completed"
    },
    "tags": []
   },
   "outputs": [],
   "source": [
    "# conditional oversample \n",
    "oversample_count = 1000\n",
    "def resample_group_oversample(group):\n",
    "    '''\n",
    "    Resample with condition Oversample , keep major\n",
    "    '''\n",
    "    n = len(group)\n",
    "    if n < oversample_count:\n",
    "        # Oversample with replacement if less than desired_count\n",
    "        return group.sample(n=oversample_count, replace=True, random_state=42)\n",
    "    else:\n",
    "        # Keep as is if exactly desired_count\n",
    "        return group\n",
    "    "
   ]
  },
  {
   "cell_type": "code",
   "execution_count": 61,
   "id": "168e9296",
   "metadata": {
    "execution": {
     "iopub.execute_input": "2025-09-29T16:42:11.797564Z",
     "iopub.status.busy": "2025-09-29T16:42:11.797338Z",
     "iopub.status.idle": "2025-09-29T16:42:11.858363Z",
     "shell.execute_reply": "2025-09-29T16:42:11.857390Z"
    },
    "papermill": {
     "duration": 0.0926,
     "end_time": "2025-09-29T16:42:11.859721",
     "exception": false,
     "start_time": "2025-09-29T16:42:11.767121",
     "status": "completed"
    },
    "tags": []
   },
   "outputs": [
    {
     "name": "stdout",
     "output_type": "stream",
     "text": [
      "label\n",
      "37    14802\n",
      "36     6542\n",
      "64     5265\n",
      "13     1446\n",
      "47     1000\n",
      "      ...  \n",
      "28     1000\n",
      "29     1000\n",
      "30     1000\n",
      "31     1000\n",
      "16     1000\n",
      "Name: count, Length: 65, dtype: int64\n"
     ]
    },
    {
     "name": "stderr",
     "output_type": "stream",
     "text": [
      "/tmp/ipykernel_19/4246594355.py:5: DeprecationWarning: DataFrameGroupBy.apply operated on the grouping columns. This behavior is deprecated, and in a future version of pandas the grouping columns will be excluded from the operation. Either pass `include_groups=False` to exclude the groupings or explicitly select the grouping columns after groupby to silence this warning.\n",
      "  trainDF_balanced = trainDF.groupby('label', group_keys=False).apply(resample_group_oversample)\n"
     ]
    }
   ],
   "source": [
    "#\n",
    "\n",
    "# Group by class and sample min(desired_count, current_count) from each class\n",
    "# trainDF_balanced = trainDF.groupby('label', group_keys=False).apply(lambda x: x.sample(n=min(len(x), desired_count), random_state=42))\n",
    "trainDF_balanced = trainDF.groupby('label', group_keys=False).apply(resample_group_oversample)\n",
    "\n",
    "print(trainDF_balanced['label'].value_counts())"
   ]
  },
  {
   "cell_type": "code",
   "execution_count": 62,
   "id": "392918cb",
   "metadata": {
    "execution": {
     "iopub.execute_input": "2025-09-29T16:42:11.923332Z",
     "iopub.status.busy": "2025-09-29T16:42:11.923158Z",
     "iopub.status.idle": "2025-09-29T16:42:11.928936Z",
     "shell.execute_reply": "2025-09-29T16:42:11.928267Z"
    },
    "papermill": {
     "duration": 0.036599,
     "end_time": "2025-09-29T16:42:11.929987",
     "exception": false,
     "start_time": "2025-09-29T16:42:11.893388",
     "status": "completed"
    },
    "scrolled": true,
    "tags": []
   },
   "outputs": [
    {
     "data": {
      "text/plain": [
       "label\n",
       "37    14802\n",
       "36     6542\n",
       "64     5265\n",
       "13     1446\n",
       "47     1000\n",
       "46     1000\n",
       "45     1000\n",
       "44     1000\n",
       "43     1000\n",
       "42     1000\n",
       "40     1000\n",
       "39     1000\n",
       "38     1000\n",
       "35     1000\n",
       "34     1000\n",
       "33     1000\n",
       "41     1000\n",
       "49     1000\n",
       "50     1000\n",
       "51     1000\n",
       "52     1000\n",
       "53     1000\n",
       "54     1000\n",
       "55     1000\n",
       "56     1000\n",
       "57     1000\n",
       "58     1000\n",
       "59     1000\n",
       "60     1000\n",
       "61     1000\n",
       "62     1000\n",
       "63     1000\n",
       "48     1000\n",
       "0      1000\n",
       "1      1000\n",
       "2      1000\n",
       "3      1000\n",
       "4      1000\n",
       "5      1000\n",
       "6      1000\n",
       "7      1000\n",
       "8      1000\n",
       "9      1000\n",
       "10     1000\n",
       "11     1000\n",
       "12     1000\n",
       "14     1000\n",
       "15     1000\n",
       "32     1000\n",
       "17     1000\n",
       "18     1000\n",
       "19     1000\n",
       "20     1000\n",
       "21     1000\n",
       "22     1000\n",
       "Name: count, dtype: int64"
      ]
     },
     "execution_count": 62,
     "metadata": {},
     "output_type": "execute_result"
    }
   ],
   "source": [
    "trainDF_balanced['label'].value_counts()[:55]"
   ]
  },
  {
   "cell_type": "code",
   "execution_count": 63,
   "id": "964da395",
   "metadata": {
    "execution": {
     "iopub.execute_input": "2025-09-29T16:42:11.983254Z",
     "iopub.status.busy": "2025-09-29T16:42:11.983082Z",
     "iopub.status.idle": "2025-09-29T16:42:12.397009Z",
     "shell.execute_reply": "2025-09-29T16:42:12.396403Z"
    },
    "papermill": {
     "duration": 0.442077,
     "end_time": "2025-09-29T16:42:12.398087",
     "exception": false,
     "start_time": "2025-09-29T16:42:11.956010",
     "status": "completed"
    },
    "tags": []
   },
   "outputs": [
    {
     "data": {
      "image/png": "[encoded data removed]",
      "text/plain": [
       "<Figure size 640x480 with 1 Axes>"
      ]
     },
     "metadata": {},
     "output_type": "display_data"
    }
   ],
   "source": [
    "trainDF_balanced['label'].value_counts().plot(kind=\"bar\", title=\"Distribution Label\");"
   ]
  },
  {
   "cell_type": "code",
   "execution_count": 64,
   "id": "7f45fed0",
   "metadata": {
    "execution": {
     "iopub.execute_input": "2025-09-29T16:42:12.453152Z",
     "iopub.status.busy": "2025-09-29T16:42:12.452945Z",
     "iopub.status.idle": "2025-09-29T16:42:12.468972Z",
     "shell.execute_reply": "2025-09-29T16:42:12.468235Z"
    },
    "papermill": {
     "duration": 0.044681,
     "end_time": "2025-09-29T16:42:12.470181",
     "exception": false,
     "start_time": "2025-09-29T16:42:12.425500",
     "status": "completed"
    },
    "tags": []
   },
   "outputs": [],
   "source": [
    "trainDF_balanced = trainDF_balanced.reset_index(drop=True)"
   ]
  },
  {
   "cell_type": "code",
   "execution_count": 65,
   "id": "794dc78a",
   "metadata": {
    "execution": {
     "iopub.execute_input": "2025-09-29T16:42:12.524563Z",
     "iopub.status.busy": "2025-09-29T16:42:12.524367Z",
     "iopub.status.idle": "2025-09-29T16:42:12.534395Z",
     "shell.execute_reply": "2025-09-29T16:42:12.533705Z"
    },
    "papermill": {
     "duration": 0.038034,
     "end_time": "2025-09-29T16:42:12.535400",
     "exception": false,
     "start_time": "2025-09-29T16:42:12.497366",
     "status": "completed"
    },
    "tags": []
   },
   "outputs": [
    {
     "data": {
      "text/html": [
       "<div>\n",
       "<style scoped>\n",
       "    .dataframe tbody tr th:only-of-type {\n",
       "        vertical-align: middle;\n",
       "    }\n",
       "\n",
       "    .dataframe tbody tr th {\n",
       "        vertical-align: top;\n",
       "    }\n",
       "\n",
       "    .dataframe thead th {\n",
       "        text-align: right;\n",
       "    }\n",
       "</style>\n",
       "<table border=\"1\" class=\"dataframe\">\n",
       "  <thead>\n",
       "    <tr style=\"text-align: right;\">\n",
       "      <th></th>\n",
       "      <th>row_id</th>\n",
       "      <th>QuestionId</th>\n",
       "      <th>QuestionText</th>\n",
       "      <th>MC_Answer</th>\n",
       "      <th>StudentExplanation</th>\n",
       "      <th>Category</th>\n",
       "      <th>Misconception</th>\n",
       "      <th>target</th>\n",
       "      <th>label</th>\n",
       "      <th>is_correct</th>\n",
       "    </tr>\n",
       "  </thead>\n",
       "  <tbody>\n",
       "    <tr>\n",
       "      <th>0</th>\n",
       "      <td>14350</td>\n",
       "      <td>31778</td>\n",
       "      <td>\\( \\frac{A}{10}=\\frac{9}{15} \\) What is the va...</td>\n",
       "      <td>\\( 9 \\)</td>\n",
       "      <td>This is because youu can time both 10 and 15 t...</td>\n",
       "      <td>False_Correct</td>\n",
       "      <td>NA</td>\n",
       "      <td>False_Correct:NA</td>\n",
       "      <td>0</td>\n",
       "      <td>0</td>\n",
       "    </tr>\n",
       "    <tr>\n",
       "      <th>1</th>\n",
       "      <td>25280</td>\n",
       "      <td>33472</td>\n",
       "      <td>\\( \\frac{1}{3}+\\frac{2}{5}= \\)</td>\n",
       "      <td>\\( \\frac{11}{30} \\)</td>\n",
       "      <td>i know this because a common denominator is 15...</td>\n",
       "      <td>False_Correct</td>\n",
       "      <td>NA</td>\n",
       "      <td>False_Correct:NA</td>\n",
       "      <td>0</td>\n",
       "      <td>0</td>\n",
       "    </tr>\n",
       "    <tr>\n",
       "      <th>2</th>\n",
       "      <td>11228</td>\n",
       "      <td>31778</td>\n",
       "      <td>\\( \\frac{A}{10}=\\frac{9}{15} \\) What is the va...</td>\n",
       "      <td>\\( 3 \\)</td>\n",
       "      <td>i divided by 3 and timesed by 2</td>\n",
       "      <td>False_Correct</td>\n",
       "      <td>NA</td>\n",
       "      <td>False_Correct:NA</td>\n",
       "      <td>0</td>\n",
       "      <td>0</td>\n",
       "    </tr>\n",
       "    <tr>\n",
       "      <th>3</th>\n",
       "      <td>2945</td>\n",
       "      <td>31772</td>\n",
       "      <td>What fraction of the shape is not shaded? Give...</td>\n",
       "      <td>\\( \\frac{3}{9} \\)</td>\n",
       "      <td>3 outt of 9 are not-shaded. also 1/3</td>\n",
       "      <td>False_Correct</td>\n",
       "      <td>NA</td>\n",
       "      <td>False_Correct:NA</td>\n",
       "      <td>0</td>\n",
       "      <td>0</td>\n",
       "    </tr>\n",
       "    <tr>\n",
       "      <th>4</th>\n",
       "      <td>16143</td>\n",
       "      <td>32829</td>\n",
       "      <td>\\( 2 y=24 \\) What is the value of \\( y \\) ?</td>\n",
       "      <td>\\( 22 \\)</td>\n",
       "      <td>24%2=12\\n12  so the answer is 12 because the 2...</td>\n",
       "      <td>False_Correct</td>\n",
       "      <td>NA</td>\n",
       "      <td>False_Correct:NA</td>\n",
       "      <td>0</td>\n",
       "      <td>0</td>\n",
       "    </tr>\n",
       "    <tr>\n",
       "      <th>...</th>\n",
       "      <td>...</td>\n",
       "      <td>...</td>\n",
       "      <td>...</td>\n",
       "      <td>...</td>\n",
       "      <td>...</td>\n",
       "      <td>...</td>\n",
       "      <td>...</td>\n",
       "      <td>...</td>\n",
       "      <td>...</td>\n",
       "      <td>...</td>\n",
       "    </tr>\n",
       "    <tr>\n",
       "      <th>89050</th>\n",
       "      <td>36262</td>\n",
       "      <td>109465</td>\n",
       "      <td>The probability of an event occurring is \\( 0....</td>\n",
       "      <td>Likely</td>\n",
       "      <td>this is because a 9 out of 10 chance means tha...</td>\n",
       "      <td>True_Neither</td>\n",
       "      <td>NA</td>\n",
       "      <td>True_Neither:NA</td>\n",
       "      <td>64</td>\n",
       "      <td>1</td>\n",
       "    </tr>\n",
       "    <tr>\n",
       "      <th>89051</th>\n",
       "      <td>36271</td>\n",
       "      <td>109465</td>\n",
       "      <td>The probability of an event occurring is \\( 0....</td>\n",
       "      <td>Likely</td>\n",
       "      <td>this is your answer because 1 would be certain...</td>\n",
       "      <td>True_Neither</td>\n",
       "      <td>NA</td>\n",
       "      <td>True_Neither:NA</td>\n",
       "      <td>64</td>\n",
       "      <td>1</td>\n",
       "    </tr>\n",
       "    <tr>\n",
       "      <th>89052</th>\n",
       "      <td>36274</td>\n",
       "      <td>109465</td>\n",
       "      <td>The probability of an event occurring is \\( 0....</td>\n",
       "      <td>Likely</td>\n",
       "      <td>u can use the process of elimination because c...</td>\n",
       "      <td>True_Neither</td>\n",
       "      <td>NA</td>\n",
       "      <td>True_Neither:NA</td>\n",
       "      <td>64</td>\n",
       "      <td>1</td>\n",
       "    </tr>\n",
       "    <tr>\n",
       "      <th>89053</th>\n",
       "      <td>36276</td>\n",
       "      <td>109465</td>\n",
       "      <td>The probability of an event occurring is \\( 0....</td>\n",
       "      <td>Likely</td>\n",
       "      <td>very high probability however it's not certain</td>\n",
       "      <td>True_Neither</td>\n",
       "      <td>NA</td>\n",
       "      <td>True_Neither:NA</td>\n",
       "      <td>64</td>\n",
       "      <td>1</td>\n",
       "    </tr>\n",
       "    <tr>\n",
       "      <th>89054</th>\n",
       "      <td>36277</td>\n",
       "      <td>109465</td>\n",
       "      <td>The probability of an event occurring is \\( 0....</td>\n",
       "      <td>Likely</td>\n",
       "      <td>we should use likely because we dont know for ...</td>\n",
       "      <td>True_Neither</td>\n",
       "      <td>NA</td>\n",
       "      <td>True_Neither:NA</td>\n",
       "      <td>64</td>\n",
       "      <td>1</td>\n",
       "    </tr>\n",
       "  </tbody>\n",
       "</table>\n",
       "<p>89055 rows × 10 columns</p>\n",
       "</div>"
      ],
      "text/plain": [
       "       row_id  QuestionId                                       QuestionText  \\\n",
       "0       14350       31778  \\( \\frac{A}{10}=\\frac{9}{15} \\) What is the va...   \n",
       "1       25280       33472                     \\( \\frac{1}{3}+\\frac{2}{5}= \\)   \n",
       "2       11228       31778  \\( \\frac{A}{10}=\\frac{9}{15} \\) What is the va...   \n",
       "3        2945       31772  What fraction of the shape is not shaded? Give...   \n",
       "4       16143       32829        \\( 2 y=24 \\) What is the value of \\( y \\) ?   \n",
       "...       ...         ...                                                ...   \n",
       "89050   36262      109465  The probability of an event occurring is \\( 0....   \n",
       "89051   36271      109465  The probability of an event occurring is \\( 0....   \n",
       "89052   36274      109465  The probability of an event occurring is \\( 0....   \n",
       "89053   36276      109465  The probability of an event occurring is \\( 0....   \n",
       "89054   36277      109465  The probability of an event occurring is \\( 0....   \n",
       "\n",
       "                 MC_Answer                                 StudentExplanation  \\\n",
       "0                  \\( 9 \\)  This is because youu can time both 10 and 15 t...   \n",
       "1      \\( \\frac{11}{30} \\)  i know this because a common denominator is 15...   \n",
       "2                  \\( 3 \\)                    i divided by 3 and timesed by 2   \n",
       "3        \\( \\frac{3}{9} \\)               3 outt of 9 are not-shaded. also 1/3   \n",
       "4                 \\( 22 \\)  24%2=12\\n12  so the answer is 12 because the 2...   \n",
       "...                    ...                                                ...   \n",
       "89050               Likely  this is because a 9 out of 10 chance means tha...   \n",
       "89051               Likely  this is your answer because 1 would be certain...   \n",
       "89052               Likely  u can use the process of elimination because c...   \n",
       "89053               Likely     very high probability however it's not certain   \n",
       "89054               Likely  we should use likely because we dont know for ...   \n",
       "\n",
       "            Category Misconception            target  label  is_correct  \n",
       "0      False_Correct            NA  False_Correct:NA      0           0  \n",
       "1      False_Correct            NA  False_Correct:NA      0           0  \n",
       "2      False_Correct            NA  False_Correct:NA      0           0  \n",
       "3      False_Correct            NA  False_Correct:NA      0           0  \n",
       "4      False_Correct            NA  False_Correct:NA      0           0  \n",
       "...              ...           ...               ...    ...         ...  \n",
       "89050   True_Neither            NA   True_Neither:NA     64           1  \n",
       "89051   True_Neither            NA   True_Neither:NA     64           1  \n",
       "89052   True_Neither            NA   True_Neither:NA     64           1  \n",
       "89053   True_Neither            NA   True_Neither:NA     64           1  \n",
       "89054   True_Neither            NA   True_Neither:NA     64           1  \n",
       "\n",
       "[89055 rows x 10 columns]"
      ]
     },
     "execution_count": 65,
     "metadata": {},
     "output_type": "execute_result"
    }
   ],
   "source": [
    "trainDF_balanced"
   ]
  },
  {
   "cell_type": "code",
   "execution_count": 66,
   "id": "c7448bae",
   "metadata": {
    "execution": {
     "iopub.execute_input": "2025-09-29T16:42:12.589667Z",
     "iopub.status.busy": "2025-09-29T16:42:12.589492Z",
     "iopub.status.idle": "2025-09-29T16:42:12.620596Z",
     "shell.execute_reply": "2025-09-29T16:42:12.620101Z"
    },
    "papermill": {
     "duration": 0.0595,
     "end_time": "2025-09-29T16:42:12.621610",
     "exception": false,
     "start_time": "2025-09-29T16:42:12.562110",
     "status": "completed"
    },
    "tags": []
   },
   "outputs": [
    {
     "data": {
      "text/plain": [
       "row_id                0\n",
       "QuestionId            0\n",
       "QuestionText          0\n",
       "MC_Answer             0\n",
       "StudentExplanation    0\n",
       "Category              0\n",
       "Misconception         0\n",
       "target                0\n",
       "label                 0\n",
       "is_correct            0\n",
       "dtype: int64"
      ]
     },
     "execution_count": 66,
     "metadata": {},
     "output_type": "execute_result"
    }
   ],
   "source": [
    "trainDF_balanced.isnull().sum() # null checking"
   ]
  },
  {
   "cell_type": "code",
   "execution_count": 67,
   "id": "560dc560",
   "metadata": {
    "execution": {
     "iopub.execute_input": "2025-09-29T16:42:12.701297Z",
     "iopub.status.busy": "2025-09-29T16:42:12.700938Z",
     "iopub.status.idle": "2025-09-29T16:42:12.705307Z",
     "shell.execute_reply": "2025-09-29T16:42:12.704477Z"
    },
    "papermill": {
     "duration": 0.058188,
     "end_time": "2025-09-29T16:42:12.706476",
     "exception": false,
     "start_time": "2025-09-29T16:42:12.648288",
     "status": "completed"
    },
    "tags": []
   },
   "outputs": [],
   "source": [
    "# !pip uninstall protobuf\n",
    "# !pip install protobuf==3.20.3"
   ]
  },
  {
   "cell_type": "markdown",
   "id": "19bc93df",
   "metadata": {
    "papermill": {
     "duration": 0.027502,
     "end_time": "2025-09-29T16:42:12.763702",
     "exception": false,
     "start_time": "2025-09-29T16:42:12.736200",
     "status": "completed"
    },
    "tags": []
   },
   "source": [
    "## LLM inital"
   ]
  },
  {
   "cell_type": "code",
   "execution_count": 68,
   "id": "b7e8768e",
   "metadata": {
    "execution": {
     "iopub.execute_input": "2025-09-29T16:42:12.818497Z",
     "iopub.status.busy": "2025-09-29T16:42:12.818280Z",
     "iopub.status.idle": "2025-09-29T16:42:12.822710Z",
     "shell.execute_reply": "2025-09-29T16:42:12.822233Z"
    },
    "papermill": {
     "duration": 0.033191,
     "end_time": "2025-09-29T16:42:12.823773",
     "exception": false,
     "start_time": "2025-09-29T16:42:12.790582",
     "status": "completed"
    },
    "tags": []
   },
   "outputs": [],
   "source": [
    "bnbConfig = BitsAndBytesConfig(\n",
    "            load_in_4bit=True,\n",
    "            bnb_4bit_quant_type=\"nf4\",\n",
    "            bnb_4bit_compute_dtype=torch.bfloat16,\n",
    "            bnb_4bit_use_double_quant=True ) # Activate netsed quantization for 4bit base "
   ]
  },
  {
   "cell_type": "code",
   "execution_count": 69,
   "id": "244edc95",
   "metadata": {
    "execution": {
     "iopub.execute_input": "2025-09-29T16:42:12.878185Z",
     "iopub.status.busy": "2025-09-29T16:42:12.877754Z",
     "iopub.status.idle": "2025-09-29T16:42:12.880571Z",
     "shell.execute_reply": "2025-09-29T16:42:12.880040Z"
    },
    "papermill": {
     "duration": 0.030865,
     "end_time": "2025-09-29T16:42:12.881499",
     "exception": false,
     "start_time": "2025-09-29T16:42:12.850634",
     "status": "completed"
    },
    "tags": []
   },
   "outputs": [],
   "source": [
    "# !pip install triton==3.4.0\n",
    "# !pip install triton==3.0.0\n",
    "# !pip install protobuf==6.30.2"
   ]
  },
  {
   "cell_type": "code",
   "execution_count": null,
   "id": "659f20b2",
   "metadata": {
    "papermill": {
     "duration": 0.026387,
     "end_time": "2025-09-29T16:42:12.934568",
     "exception": false,
     "start_time": "2025-09-29T16:42:12.908181",
     "status": "completed"
    },
    "tags": []
   },
   "outputs": [],
   "source": []
  },
  {
   "cell_type": "markdown",
   "id": "e5cff049",
   "metadata": {
    "papermill": {
     "duration": 0.026515,
     "end_time": "2025-09-29T16:42:12.987582",
     "exception": false,
     "start_time": "2025-09-29T16:42:12.961067",
     "status": "completed"
    },
    "tags": []
   },
   "source": [
    "### Load LLM Model and Tokenizer"
   ]
  },
  {
   "cell_type": "code",
   "execution_count": 70,
   "id": "790a1781",
   "metadata": {
    "execution": {
     "iopub.execute_input": "2025-09-29T16:42:13.041553Z",
     "iopub.status.busy": "2025-09-29T16:42:13.041379Z",
     "iopub.status.idle": "2025-09-29T16:42:16.288283Z",
     "shell.execute_reply": "2025-09-29T16:42:16.287659Z"
    },
    "papermill": {
     "duration": 3.275573,
     "end_time": "2025-09-29T16:42:16.289700",
     "exception": false,
     "start_time": "2025-09-29T16:42:13.014127",
     "status": "completed"
    },
    "tags": []
   },
   "outputs": [],
   "source": [
    "clearMemory()"
   ]
  },
  {
   "cell_type": "code",
   "execution_count": 71,
   "id": "dce0b1d4",
   "metadata": {
    "execution": {
     "iopub.execute_input": "2025-09-29T16:42:16.345269Z",
     "iopub.status.busy": "2025-09-29T16:42:16.345047Z",
     "iopub.status.idle": "2025-09-29T16:42:16.349272Z",
     "shell.execute_reply": "2025-09-29T16:42:16.348596Z"
    },
    "papermill": {
     "duration": 0.032488,
     "end_time": "2025-09-29T16:42:16.350376",
     "exception": false,
     "start_time": "2025-09-29T16:42:16.317888",
     "status": "completed"
    },
    "tags": []
   },
   "outputs": [
    {
     "data": {
      "text/plain": [
       "'0.11.4'"
      ]
     },
     "execution_count": 71,
     "metadata": {},
     "output_type": "execute_result"
    }
   ],
   "source": [
    "# !pip install triton==3.0.0\n",
    "import trl\n",
    "trl.__version__"
   ]
  },
  {
   "cell_type": "code",
   "execution_count": 72,
   "id": "f1c9bac5",
   "metadata": {
    "execution": {
     "iopub.execute_input": "2025-09-29T16:42:16.448179Z",
     "iopub.status.busy": "2025-09-29T16:42:16.447396Z",
     "iopub.status.idle": "2025-09-29T16:42:16.452394Z",
     "shell.execute_reply": "2025-09-29T16:42:16.451619Z"
    },
    "papermill": {
     "duration": 0.075836,
     "end_time": "2025-09-29T16:42:16.453551",
     "exception": false,
     "start_time": "2025-09-29T16:42:16.377715",
     "status": "completed"
    },
    "tags": []
   },
   "outputs": [
    {
     "data": {
      "text/plain": [
       "'3.2.0'"
      ]
     },
     "execution_count": 72,
     "metadata": {},
     "output_type": "execute_result"
    }
   ],
   "source": [
    "\n",
    "\n",
    "import triton\n",
    "\n",
    "triton.__version__"
   ]
  },
  {
   "cell_type": "code",
   "execution_count": 73,
   "id": "d7f0771d",
   "metadata": {
    "execution": {
     "iopub.execute_input": "2025-09-29T16:42:16.513981Z",
     "iopub.status.busy": "2025-09-29T16:42:16.513807Z",
     "iopub.status.idle": "2025-09-29T16:42:16.516510Z",
     "shell.execute_reply": "2025-09-29T16:42:16.516015Z"
    },
    "papermill": {
     "duration": 0.031441,
     "end_time": "2025-09-29T16:42:16.517568",
     "exception": false,
     "start_time": "2025-09-29T16:42:16.486127",
     "status": "completed"
    },
    "scrolled": true,
    "tags": []
   },
   "outputs": [],
   "source": [
    "# !pip install bitsandbytes==0.46.1"
   ]
  },
  {
   "cell_type": "code",
   "execution_count": 74,
   "id": "997a74fb",
   "metadata": {
    "execution": {
     "iopub.execute_input": "2025-09-29T16:42:16.572555Z",
     "iopub.status.busy": "2025-09-29T16:42:16.572370Z",
     "iopub.status.idle": "2025-09-29T16:42:17.870034Z",
     "shell.execute_reply": "2025-09-29T16:42:17.869131Z"
    },
    "papermill": {
     "duration": 1.326887,
     "end_time": "2025-09-29T16:42:17.871499",
     "exception": false,
     "start_time": "2025-09-29T16:42:16.544612",
     "status": "completed"
    },
    "tags": []
   },
   "outputs": [],
   "source": [
    "import bitsandbytes\n",
    "# bitsandbytes.__version__"
   ]
  },
  {
   "cell_type": "code",
   "execution_count": 75,
   "id": "1ba3e130",
   "metadata": {
    "execution": {
     "iopub.execute_input": "2025-09-29T16:42:17.931495Z",
     "iopub.status.busy": "2025-09-29T16:42:17.930868Z",
     "iopub.status.idle": "2025-09-29T16:42:17.935065Z",
     "shell.execute_reply": "2025-09-29T16:42:17.934431Z"
    },
    "papermill": {
     "duration": 0.03423,
     "end_time": "2025-09-29T16:42:17.936080",
     "exception": false,
     "start_time": "2025-09-29T16:42:17.901850",
     "status": "completed"
    },
    "scrolled": true,
    "tags": []
   },
   "outputs": [
    {
     "name": "stdout",
     "output_type": "stream",
     "text": [
      "Label to ID mapping: {'False_Correct:NA': 0, 'False_Misconception:Adding_across': 1, 'False_Misconception:Adding_terms': 2, 'False_Misconception:Additive': 3, 'False_Misconception:Base_rate': 4, 'False_Misconception:Certainty': 5, 'False_Misconception:Definition': 6, 'False_Misconception:Denominator-only_change': 7, 'False_Misconception:Division': 8, 'False_Misconception:Duplication': 9, 'False_Misconception:Firstterm': 10, 'False_Misconception:FlipChange': 11, 'False_Misconception:Ignores_zeroes': 12, 'False_Misconception:Incomplete': 13, 'False_Misconception:Incorrect_equivalent_fraction_addition': 14, 'False_Misconception:Interior': 15, 'False_Misconception:Inverse_operation': 16, 'False_Misconception:Inversion': 17, 'False_Misconception:Irrelevant': 18, 'False_Misconception:Longer_is_bigger': 19, 'False_Misconception:Mult': 20, 'False_Misconception:Multiplying_by_4': 21, 'False_Misconception:Not_variable': 22, 'False_Misconception:Positive': 23, 'False_Misconception:Scale': 24, 'False_Misconception:Shorter_is_bigger': 25, 'False_Misconception:Subtraction': 26, 'False_Misconception:SwapDividend': 27, 'False_Misconception:Tacking': 28, 'False_Misconception:Unknowable': 29, 'False_Misconception:WNB': 30, 'False_Misconception:Whole_numbers_larger': 31, 'False_Misconception:Wrong_Fraction': 32, 'False_Misconception:Wrong_Operation': 33, 'False_Misconception:Wrong_fraction': 34, 'False_Misconception:Wrong_term': 35, 'False_Neither:NA': 36, 'True_Correct:NA': 37, 'True_Misconception:Adding_across': 38, 'True_Misconception:Additive': 39, 'True_Misconception:Base_rate': 40, 'True_Misconception:Definition': 41, 'True_Misconception:Denominator-only_change': 42, 'True_Misconception:Division': 43, 'True_Misconception:Duplication': 44, 'True_Misconception:Firstterm': 45, 'True_Misconception:FlipChange': 46, 'True_Misconception:Incomplete': 47, 'True_Misconception:Incorrect_equivalent_fraction_addition': 48, 'True_Misconception:Inversion': 49, 'True_Misconception:Irrelevant': 50, 'True_Misconception:Longer_is_bigger': 51, 'True_Misconception:Mult': 52, 'True_Misconception:Multiplying_by_4': 53, 'True_Misconception:Not_variable': 54, 'True_Misconception:Positive': 55, 'True_Misconception:Shorter_is_bigger': 56, 'True_Misconception:Subtraction': 57, 'True_Misconception:SwapDividend': 58, 'True_Misconception:Tacking': 59, 'True_Misconception:WNB': 60, 'True_Misconception:Whole_numbers_larger': 61, 'True_Misconception:Wrong_fraction': 62, 'True_Misconception:Wrong_term': 63, 'True_Neither:NA': 64}\n"
     ]
    }
   ],
   "source": [
    "# Mapping from label to ID (label2id)\n",
    "label2id = {label: i for i, label in enumerate(le.classes_)}\n",
    "print(f\"Label to ID mapping: {label2id}\")"
   ]
  },
  {
   "cell_type": "code",
   "execution_count": 76,
   "id": "8207b10e",
   "metadata": {
    "execution": {
     "iopub.execute_input": "2025-09-29T16:42:17.991435Z",
     "iopub.status.busy": "2025-09-29T16:42:17.991252Z",
     "iopub.status.idle": "2025-09-29T16:42:17.995395Z",
     "shell.execute_reply": "2025-09-29T16:42:17.994654Z"
    },
    "papermill": {
     "duration": 0.033441,
     "end_time": "2025-09-29T16:42:17.996614",
     "exception": false,
     "start_time": "2025-09-29T16:42:17.963173",
     "status": "completed"
    },
    "scrolled": true,
    "tags": []
   },
   "outputs": [
    {
     "name": "stdout",
     "output_type": "stream",
     "text": [
      "ID to label mapping: {0: 'False_Correct:NA', 1: 'False_Misconception:Adding_across', 2: 'False_Misconception:Adding_terms', 3: 'False_Misconception:Additive', 4: 'False_Misconception:Base_rate', 5: 'False_Misconception:Certainty', 6: 'False_Misconception:Definition', 7: 'False_Misconception:Denominator-only_change', 8: 'False_Misconception:Division', 9: 'False_Misconception:Duplication', 10: 'False_Misconception:Firstterm', 11: 'False_Misconception:FlipChange', 12: 'False_Misconception:Ignores_zeroes', 13: 'False_Misconception:Incomplete', 14: 'False_Misconception:Incorrect_equivalent_fraction_addition', 15: 'False_Misconception:Interior', 16: 'False_Misconception:Inverse_operation', 17: 'False_Misconception:Inversion', 18: 'False_Misconception:Irrelevant', 19: 'False_Misconception:Longer_is_bigger', 20: 'False_Misconception:Mult', 21: 'False_Misconception:Multiplying_by_4', 22: 'False_Misconception:Not_variable', 23: 'False_Misconception:Positive', 24: 'False_Misconception:Scale', 25: 'False_Misconception:Shorter_is_bigger', 26: 'False_Misconception:Subtraction', 27: 'False_Misconception:SwapDividend', 28: 'False_Misconception:Tacking', 29: 'False_Misconception:Unknowable', 30: 'False_Misconception:WNB', 31: 'False_Misconception:Whole_numbers_larger', 32: 'False_Misconception:Wrong_Fraction', 33: 'False_Misconception:Wrong_Operation', 34: 'False_Misconception:Wrong_fraction', 35: 'False_Misconception:Wrong_term', 36: 'False_Neither:NA', 37: 'True_Correct:NA', 38: 'True_Misconception:Adding_across', 39: 'True_Misconception:Additive', 40: 'True_Misconception:Base_rate', 41: 'True_Misconception:Definition', 42: 'True_Misconception:Denominator-only_change', 43: 'True_Misconception:Division', 44: 'True_Misconception:Duplication', 45: 'True_Misconception:Firstterm', 46: 'True_Misconception:FlipChange', 47: 'True_Misconception:Incomplete', 48: 'True_Misconception:Incorrect_equivalent_fraction_addition', 49: 'True_Misconception:Inversion', 50: 'True_Misconception:Irrelevant', 51: 'True_Misconception:Longer_is_bigger', 52: 'True_Misconception:Mult', 53: 'True_Misconception:Multiplying_by_4', 54: 'True_Misconception:Not_variable', 55: 'True_Misconception:Positive', 56: 'True_Misconception:Shorter_is_bigger', 57: 'True_Misconception:Subtraction', 58: 'True_Misconception:SwapDividend', 59: 'True_Misconception:Tacking', 60: 'True_Misconception:WNB', 61: 'True_Misconception:Whole_numbers_larger', 62: 'True_Misconception:Wrong_fraction', 63: 'True_Misconception:Wrong_term', 64: 'True_Neither:NA'}\n"
     ]
    }
   ],
   "source": [
    "# Mapping from ID to label (id2label)\n",
    "id2label = {i: label for i, label in enumerate(le.classes_)}\n",
    "print(f\"ID to label mapping: {id2label}\")"
   ]
  },
  {
   "cell_type": "code",
   "execution_count": 77,
   "id": "1ca9eb69",
   "metadata": {
    "execution": {
     "iopub.execute_input": "2025-09-29T16:42:18.052371Z",
     "iopub.status.busy": "2025-09-29T16:42:18.051847Z",
     "iopub.status.idle": "2025-09-29T16:43:35.576079Z",
     "shell.execute_reply": "2025-09-29T16:43:35.575455Z"
    },
    "papermill": {
     "duration": 77.553347,
     "end_time": "2025-09-29T16:43:35.577438",
     "exception": false,
     "start_time": "2025-09-29T16:42:18.024091",
     "status": "completed"
    },
    "tags": []
   },
   "outputs": [
    {
     "data": {
      "application/vnd.jupyter.widget-view+json": {
       "model_id": "42cea40490504779a17504287074f85a",
       "version_major": 2,
       "version_minor": 0
      },
      "text/plain": [
       "Loading checkpoint shards:   0%|          | 0/2 [00:00<?, ?it/s]"
      ]
     },
     "metadata": {},
     "output_type": "display_data"
    },
    {
     "name": "stderr",
     "output_type": "stream",
     "text": [
      "Some weights of Qwen3ForSequenceClassification were not initialized from the model checkpoint at /kaggle/input/qwen-3-reranker/transformers/4b/1 and are newly initialized: ['score.weight']\n",
      "You should probably TRAIN this model on a down-stream task to be able to use it for predictions and inference.\n"
     ]
    }
   ],
   "source": [
    "if device.type == \"cuda\":\n",
    "    model = AutoModelForSequenceClassification.from_pretrained(\n",
    "        CFG.model2,  #CFG.model1, #CFG.model3,\n",
    "        num_labels= nClasses,\n",
    "        id2label =id2label,\n",
    "        label2id = label2id,\n",
    "        torch_dtype=torch.bfloat16,\n",
    "        device_map=\"auto\",\n",
    "        quantization_config= bnbConfig,\n",
    "        trust_remote_code=False,\n",
    "        problem_type=\"single_label_classification\", \n",
    "    )\n",
    "\n",
    "else: \n",
    "     model = AutoModelForSequenceClassification.from_pretrained(\n",
    "        CFG.model2,  #CFG.model1 #CFG.model3,\n",
    "        num_labels= nClasses,\n",
    "        id2label =id2label,\n",
    "        label2id = label2id,\n",
    "        device_map=\"auto\",\n",
    "        trust_remote_code=False,\n",
    "        problem_type=\"single_label_classification\", \n",
    "    )\n",
    "\n",
    "tokenizer = AutoTokenizer.from_pretrained(CFG.model2)\n",
    "tokenizer.pad_token = tokenizer.eos_token"
   ]
  },
  {
   "cell_type": "code",
   "execution_count": 78,
   "id": "553bb80c",
   "metadata": {
    "execution": {
     "iopub.execute_input": "2025-09-29T16:43:35.635245Z",
     "iopub.status.busy": "2025-09-29T16:43:35.634643Z",
     "iopub.status.idle": "2025-09-29T16:43:35.641188Z",
     "shell.execute_reply": "2025-09-29T16:43:35.640671Z"
    },
    "papermill": {
     "duration": 0.036408,
     "end_time": "2025-09-29T16:43:35.642236",
     "exception": false,
     "start_time": "2025-09-29T16:43:35.605828",
     "status": "completed"
    },
    "tags": []
   },
   "outputs": [
    {
     "data": {
      "text/plain": [
       "Qwen3ForSequenceClassification(\n",
       "  (model): Qwen3Model(\n",
       "    (embed_tokens): Embedding(151669, 2560)\n",
       "    (layers): ModuleList(\n",
       "      (0-35): 36 x Qwen3DecoderLayer(\n",
       "        (self_attn): Qwen3Attention(\n",
       "          (q_proj): Linear4bit(in_features=2560, out_features=4096, bias=False)\n",
       "          (k_proj): Linear4bit(in_features=2560, out_features=1024, bias=False)\n",
       "          (v_proj): Linear4bit(in_features=2560, out_features=1024, bias=False)\n",
       "          (o_proj): Linear4bit(in_features=4096, out_features=2560, bias=False)\n",
       "          (q_norm): Qwen3RMSNorm((128,), eps=1e-06)\n",
       "          (k_norm): Qwen3RMSNorm((128,), eps=1e-06)\n",
       "        )\n",
       "        (mlp): Qwen3MLP(\n",
       "          (gate_proj): Linear4bit(in_features=2560, out_features=9728, bias=False)\n",
       "          (up_proj): Linear4bit(in_features=2560, out_features=9728, bias=False)\n",
       "          (down_proj): Linear4bit(in_features=9728, out_features=2560, bias=False)\n",
       "          (act_fn): SiLU()\n",
       "        )\n",
       "        (input_layernorm): Qwen3RMSNorm((2560,), eps=1e-06)\n",
       "        (post_attention_layernorm): Qwen3RMSNorm((2560,), eps=1e-06)\n",
       "      )\n",
       "    )\n",
       "    (norm): Qwen3RMSNorm((2560,), eps=1e-06)\n",
       "    (rotary_emb): Qwen3RotaryEmbedding()\n",
       "  )\n",
       "  (score): Linear(in_features=2560, out_features=65, bias=False)\n",
       ")"
      ]
     },
     "execution_count": 78,
     "metadata": {},
     "output_type": "execute_result"
    }
   ],
   "source": [
    "model"
   ]
  },
  {
   "cell_type": "code",
   "execution_count": 79,
   "id": "4db6bb30",
   "metadata": {
    "execution": {
     "iopub.execute_input": "2025-09-29T16:43:35.698652Z",
     "iopub.status.busy": "2025-09-29T16:43:35.698426Z",
     "iopub.status.idle": "2025-09-29T16:43:35.702088Z",
     "shell.execute_reply": "2025-09-29T16:43:35.701573Z"
    },
    "papermill": {
     "duration": 0.033594,
     "end_time": "2025-09-29T16:43:35.703121",
     "exception": false,
     "start_time": "2025-09-29T16:43:35.669527",
     "status": "completed"
    },
    "tags": []
   },
   "outputs": [],
   "source": [
    "if CFG.DeepEval:\n",
    "    from deepeval.models.base_model import DeepEvalBaseLLM\n",
    "    from deepeval.test_case import LLMTestCase, LLMTestCaseParams\n",
    "    from deepeval.metrics import GEval\n",
    "    # from deepeval import evaluate\n",
    "    from deepeval.metrics import AnswerRelevancyMetric\n",
    "    # from deepeval.benchmarks import MMLU, HellaSwag, HumanEval,TruthfulQA\n",
    "    # from deepeval.benchmarks.tasks import HumanEvalTask, HellaSwagTask, MMLUTask, TruthfulQATask\n",
    "    # from deepeval.benchmarks.modes import TruthfulQAMode "
   ]
  },
  {
   "cell_type": "markdown",
   "id": "4f7fd350",
   "metadata": {
    "papermill": {
     "duration": 0.027292,
     "end_time": "2025-09-29T16:43:35.757790",
     "exception": false,
     "start_time": "2025-09-29T16:43:35.730498",
     "status": "completed"
    },
    "tags": []
   },
   "source": [
    "## Prepare Training Dataset"
   ]
  },
  {
   "cell_type": "code",
   "execution_count": 80,
   "id": "bd9861ab",
   "metadata": {
    "execution": {
     "iopub.execute_input": "2025-09-29T16:43:35.814437Z",
     "iopub.status.busy": "2025-09-29T16:43:35.814182Z",
     "iopub.status.idle": "2025-09-29T16:43:35.840039Z",
     "shell.execute_reply": "2025-09-29T16:43:35.839414Z"
    },
    "papermill": {
     "duration": 0.056419,
     "end_time": "2025-09-29T16:43:35.841285",
     "exception": false,
     "start_time": "2025-09-29T16:43:35.784866",
     "status": "completed"
    },
    "tags": []
   },
   "outputs": [
    {
     "data": {
      "text/html": [
       "<div>\n",
       "<style scoped>\n",
       "    .dataframe tbody tr th:only-of-type {\n",
       "        vertical-align: middle;\n",
       "    }\n",
       "\n",
       "    .dataframe tbody tr th {\n",
       "        vertical-align: top;\n",
       "    }\n",
       "\n",
       "    .dataframe thead th {\n",
       "        text-align: right;\n",
       "    }\n",
       "</style>\n",
       "<table border=\"1\" class=\"dataframe\">\n",
       "  <thead>\n",
       "    <tr style=\"text-align: right;\">\n",
       "      <th></th>\n",
       "      <th>row_id</th>\n",
       "      <th>QuestionId</th>\n",
       "      <th>QuestionText</th>\n",
       "      <th>MC_Answer</th>\n",
       "      <th>StudentExplanation</th>\n",
       "      <th>Category</th>\n",
       "      <th>Misconception</th>\n",
       "      <th>target</th>\n",
       "      <th>label</th>\n",
       "      <th>is_correct</th>\n",
       "    </tr>\n",
       "  </thead>\n",
       "  <tbody>\n",
       "    <tr>\n",
       "      <th>0</th>\n",
       "      <td>19896</td>\n",
       "      <td>32835</td>\n",
       "      <td>Which number is the greatest?</td>\n",
       "      <td>\\( 6 \\)</td>\n",
       "      <td>because it is a whole number</td>\n",
       "      <td>False_Misconception</td>\n",
       "      <td>Whole_numbers_larger</td>\n",
       "      <td>False_Misconception:Whole_numbers_larger</td>\n",
       "      <td>31</td>\n",
       "      <td>0</td>\n",
       "    </tr>\n",
       "    <tr>\n",
       "      <th>1</th>\n",
       "      <td>13174</td>\n",
       "      <td>31778</td>\n",
       "      <td>\\( \\frac{A}{10}=\\frac{9}{15} \\) What is the va...</td>\n",
       "      <td>\\( 6 \\)</td>\n",
       "      <td>I think C because the ratio has to be the same...</td>\n",
       "      <td>True_Correct</td>\n",
       "      <td>NA</td>\n",
       "      <td>True_Correct:NA</td>\n",
       "      <td>37</td>\n",
       "      <td>1</td>\n",
       "    </tr>\n",
       "    <tr>\n",
       "      <th>2</th>\n",
       "      <td>5776</td>\n",
       "      <td>31774</td>\n",
       "      <td>Calculate \\( \\frac{1}{2} \\div 6 \\)</td>\n",
       "      <td>\\( \\frac{1}{12} \\)</td>\n",
       "      <td>Because if you can’t divide you times</td>\n",
       "      <td>True_Misconception</td>\n",
       "      <td>Mult</td>\n",
       "      <td>True_Misconception:Mult</td>\n",
       "      <td>52</td>\n",
       "      <td>1</td>\n",
       "    </tr>\n",
       "    <tr>\n",
       "      <th>3</th>\n",
       "      <td>35366</td>\n",
       "      <td>104665</td>\n",
       "      <td>It takes \\( 3 \\) people a total of \\( 192 \\) h...</td>\n",
       "      <td>\\( 48 \\) hours</td>\n",
       "      <td>it would take 48 hours because if 3 people tak...</td>\n",
       "      <td>True_Correct</td>\n",
       "      <td>NA</td>\n",
       "      <td>True_Correct:NA</td>\n",
       "      <td>37</td>\n",
       "      <td>1</td>\n",
       "    </tr>\n",
       "    <tr>\n",
       "      <th>4</th>\n",
       "      <td>24370</td>\n",
       "      <td>33472</td>\n",
       "      <td>\\( \\frac{1}{3}+\\frac{2}{5}= \\)</td>\n",
       "      <td>\\( \\frac{11}{15} \\)</td>\n",
       "      <td>i multiplied them to get the common denominator</td>\n",
       "      <td>True_Neither</td>\n",
       "      <td>NA</td>\n",
       "      <td>True_Neither:NA</td>\n",
       "      <td>64</td>\n",
       "      <td>1</td>\n",
       "    </tr>\n",
       "    <tr>\n",
       "      <th>...</th>\n",
       "      <td>...</td>\n",
       "      <td>...</td>\n",
       "      <td>...</td>\n",
       "      <td>...</td>\n",
       "      <td>...</td>\n",
       "      <td>...</td>\n",
       "      <td>...</td>\n",
       "      <td>...</td>\n",
       "      <td>...</td>\n",
       "      <td>...</td>\n",
       "    </tr>\n",
       "    <tr>\n",
       "      <th>89050</th>\n",
       "      <td>36395</td>\n",
       "      <td>109465</td>\n",
       "      <td>The probability of an event occurring is \\( 0....</td>\n",
       "      <td>Unlikely</td>\n",
       "      <td>a 0.9 percent chance means its quite unlickely</td>\n",
       "      <td>False_Misconception</td>\n",
       "      <td>Scale</td>\n",
       "      <td>False_Misconception:Scale</td>\n",
       "      <td>24</td>\n",
       "      <td>0</td>\n",
       "    </tr>\n",
       "    <tr>\n",
       "      <th>89051</th>\n",
       "      <td>15590</td>\n",
       "      <td>32829</td>\n",
       "      <td>\\( 2 y=24 \\) What is the value of \\( y \\) ?</td>\n",
       "      <td>\\( 12 \\)</td>\n",
       "      <td>i think this because i tried to work it out an...</td>\n",
       "      <td>True_Neither</td>\n",
       "      <td>NA</td>\n",
       "      <td>True_Neither:NA</td>\n",
       "      <td>64</td>\n",
       "      <td>1</td>\n",
       "    </tr>\n",
       "    <tr>\n",
       "      <th>89052</th>\n",
       "      <td>36483</td>\n",
       "      <td>109465</td>\n",
       "      <td>The probability of an event occurring is \\( 0....</td>\n",
       "      <td>Unlikely</td>\n",
       "      <td>despite how small it is, 0.9 is still higher t...</td>\n",
       "      <td>False_Misconception</td>\n",
       "      <td>Scale</td>\n",
       "      <td>False_Misconception:Scale</td>\n",
       "      <td>24</td>\n",
       "      <td>0</td>\n",
       "    </tr>\n",
       "    <tr>\n",
       "      <th>89053</th>\n",
       "      <td>19545</td>\n",
       "      <td>32833</td>\n",
       "      <td>Calculate \\( \\frac{2}{3} \\times 5 \\)</td>\n",
       "      <td>\\( \\frac{2}{15} \\)</td>\n",
       "      <td>if you add 1 on top of the 5,it will make 3 an...</td>\n",
       "      <td>False_Neither</td>\n",
       "      <td>NA</td>\n",
       "      <td>False_Neither:NA</td>\n",
       "      <td>36</td>\n",
       "      <td>0</td>\n",
       "    </tr>\n",
       "    <tr>\n",
       "      <th>89054</th>\n",
       "      <td>20005</td>\n",
       "      <td>32835</td>\n",
       "      <td>Which number is the greatest?</td>\n",
       "      <td>\\( 6 \\)</td>\n",
       "      <td>i think 6 is the biggest because it comes befo...</td>\n",
       "      <td>False_Neither</td>\n",
       "      <td>NA</td>\n",
       "      <td>False_Neither:NA</td>\n",
       "      <td>36</td>\n",
       "      <td>0</td>\n",
       "    </tr>\n",
       "  </tbody>\n",
       "</table>\n",
       "<p>89055 rows × 10 columns</p>\n",
       "</div>"
      ],
      "text/plain": [
       "       row_id  QuestionId                                       QuestionText  \\\n",
       "0       19896       32835                      Which number is the greatest?   \n",
       "1       13174       31778  \\( \\frac{A}{10}=\\frac{9}{15} \\) What is the va...   \n",
       "2        5776       31774                 Calculate \\( \\frac{1}{2} \\div 6 \\)   \n",
       "3       35366      104665  It takes \\( 3 \\) people a total of \\( 192 \\) h...   \n",
       "4       24370       33472                     \\( \\frac{1}{3}+\\frac{2}{5}= \\)   \n",
       "...       ...         ...                                                ...   \n",
       "89050   36395      109465  The probability of an event occurring is \\( 0....   \n",
       "89051   15590       32829        \\( 2 y=24 \\) What is the value of \\( y \\) ?   \n",
       "89052   36483      109465  The probability of an event occurring is \\( 0....   \n",
       "89053   19545       32833               Calculate \\( \\frac{2}{3} \\times 5 \\)   \n",
       "89054   20005       32835                      Which number is the greatest?   \n",
       "\n",
       "                 MC_Answer                                 StudentExplanation  \\\n",
       "0                  \\( 6 \\)                       because it is a whole number   \n",
       "1                  \\( 6 \\)  I think C because the ratio has to be the same...   \n",
       "2       \\( \\frac{1}{12} \\)              Because if you can’t divide you times   \n",
       "3           \\( 48 \\) hours  it would take 48 hours because if 3 people tak...   \n",
       "4      \\( \\frac{11}{15} \\)    i multiplied them to get the common denominator   \n",
       "...                    ...                                                ...   \n",
       "89050             Unlikely     a 0.9 percent chance means its quite unlickely   \n",
       "89051             \\( 12 \\)  i think this because i tried to work it out an...   \n",
       "89052             Unlikely  despite how small it is, 0.9 is still higher t...   \n",
       "89053   \\( \\frac{2}{15} \\)  if you add 1 on top of the 5,it will make 3 an...   \n",
       "89054              \\( 6 \\)  i think 6 is the biggest because it comes befo...   \n",
       "\n",
       "                  Category         Misconception  \\\n",
       "0      False_Misconception  Whole_numbers_larger   \n",
       "1             True_Correct                    NA   \n",
       "2       True_Misconception                  Mult   \n",
       "3             True_Correct                    NA   \n",
       "4             True_Neither                    NA   \n",
       "...                    ...                   ...   \n",
       "89050  False_Misconception                 Scale   \n",
       "89051         True_Neither                    NA   \n",
       "89052  False_Misconception                 Scale   \n",
       "89053        False_Neither                    NA   \n",
       "89054        False_Neither                    NA   \n",
       "\n",
       "                                         target  label  is_correct  \n",
       "0      False_Misconception:Whole_numbers_larger     31           0  \n",
       "1                               True_Correct:NA     37           1  \n",
       "2                       True_Misconception:Mult     52           1  \n",
       "3                               True_Correct:NA     37           1  \n",
       "4                               True_Neither:NA     64           1  \n",
       "...                                         ...    ...         ...  \n",
       "89050                 False_Misconception:Scale     24           0  \n",
       "89051                           True_Neither:NA     64           1  \n",
       "89052                 False_Misconception:Scale     24           0  \n",
       "89053                          False_Neither:NA     36           0  \n",
       "89054                          False_Neither:NA     36           0  \n",
       "\n",
       "[89055 rows x 10 columns]"
      ]
     },
     "execution_count": 80,
     "metadata": {},
     "output_type": "execute_result"
    }
   ],
   "source": [
    "# Random Resample Dataset\n",
    "# trainDF = trainDF.sample(frac=1.0, replace=True)\n",
    "# trainDF = trainDF.reset_index(drop=True)\n",
    "# trainDF\n",
    "\n",
    "trainDF_balanced= trainDF_balanced.sample(frac=1.0, replace=True)\n",
    "trainDF_balanced = trainDF_balanced.reset_index(drop=True)\n",
    "trainDF_balanced"
   ]
  },
  {
   "cell_type": "code",
   "execution_count": 81,
   "id": "3d1e225c",
   "metadata": {
    "execution": {
     "iopub.execute_input": "2025-09-29T16:43:35.899637Z",
     "iopub.status.busy": "2025-09-29T16:43:35.899398Z",
     "iopub.status.idle": "2025-09-29T16:43:35.903521Z",
     "shell.execute_reply": "2025-09-29T16:43:35.902971Z"
    },
    "papermill": {
     "duration": 0.034203,
     "end_time": "2025-09-29T16:43:35.904659",
     "exception": false,
     "start_time": "2025-09-29T16:43:35.870456",
     "status": "completed"
    },
    "tags": []
   },
   "outputs": [],
   "source": [
    "PROMPT_FORMAT1 = \"\"\"\\\n",
    "You are an expert in identifying math misconceptions from student explanations.\n",
    "\n",
    "Question: {QuestionText}\n",
    "Answer: {MC_Answer}\n",
    "Correct: {Correct}\n",
    "Student Explanation: {StudentExplanation}\n",
    "\n",
    "Identify the specific type of math misconception in the student's explanation.\n",
    "Give a short, clear label for the misconception.\n",
    "\"\"\"\n",
    "\n",
    "PROMPT_FORMAT2 = \"\"\"\\\n",
    "You are an expert educational diagnostician specializing in identifying students' math misconceptions from their written explanations.\n",
    "Your task is to analyze the student's explanation and classify the specific type of misconception they demonstrate.\n",
    "\n",
    "Question: {QuestionText}\n",
    "Answer: {MC_Answer}\n",
    "Correct: {Correct}\n",
    "Student Explanation: {StudentExplanation}\n",
    "\n",
    "Based on the information above, identify and label the underlying math misconception in the student's explanation.\n",
    "Provide a clear and concise classification of the misconception type.\n",
    "\"\"\"\n",
    "\n",
    "PROMPT_FORMAT3 = \"\"\"\\\n",
    "You are an expert in analyzing students' answers to math problems and identifying specific types of misunderstandings.\n",
    "Given the following information, classify the student's misunderstanding.\n",
    "\n",
    "Question: {QuestionText}\n",
    "Answer: {MC_Answer}\n",
    "Correct: {Correct}\n",
    "Student Explanation: {StudentExplanation}\n",
    "\n",
    "Please determine the type of misunderstanding the student has.\n",
    "\"\"\"\n",
    "\n",
    "PROMPT_FORMAT4 = \"\"\"\\\n",
    "You are a specialist in identifying the types of misunderstandings that arise from students’ answers to math problems.\n",
    "Based on the information provided below, please determine what kind of misunderstanding the student has.\n",
    "\n",
    "Question: {QuestionText}\n",
    "Answer: {MC_Answer}\n",
    "Correct: {Correct}\n",
    "Student Explanation: {StudentExplanation}\n",
    "\"\"\""
   ]
  },
  {
   "cell_type": "code",
   "execution_count": 82,
   "id": "890e6a71",
   "metadata": {
    "execution": {
     "iopub.execute_input": "2025-09-29T16:43:35.961274Z",
     "iopub.status.busy": "2025-09-29T16:43:35.961063Z",
     "iopub.status.idle": "2025-09-29T16:43:35.964906Z",
     "shell.execute_reply": "2025-09-29T16:43:35.964224Z"
    },
    "papermill": {
     "duration": 0.033104,
     "end_time": "2025-09-29T16:43:35.966069",
     "exception": false,
     "start_time": "2025-09-29T16:43:35.932965",
     "status": "completed"
    },
    "tags": []
   },
   "outputs": [],
   "source": [
    "def generateTrainContent(row):\n",
    "    x= \"True\"\n",
    "    if not row[\"is_correct\"]:\n",
    "        x= \"False\"\n",
    "    return PROMPT_FORMAT2.format(\n",
    "        QuestionText=row['QuestionText'],\n",
    "        MC_Answer=row['MC_Answer'],\n",
    "        Correct=x,\n",
    "        StudentExplanation=row['StudentExplanation']\n",
    "        \n",
    "    )"
   ]
  },
  {
   "cell_type": "code",
   "execution_count": 83,
   "id": "4f8a3edc",
   "metadata": {
    "execution": {
     "iopub.execute_input": "2025-09-29T16:43:36.022574Z",
     "iopub.status.busy": "2025-09-29T16:43:36.021970Z",
     "iopub.status.idle": "2025-09-29T16:43:37.006831Z",
     "shell.execute_reply": "2025-09-29T16:43:37.006243Z"
    },
    "papermill": {
     "duration": 1.014609,
     "end_time": "2025-09-29T16:43:37.008209",
     "exception": false,
     "start_time": "2025-09-29T16:43:35.993600",
     "status": "completed"
    },
    "tags": []
   },
   "outputs": [],
   "source": [
    "# trainDF[\"LLM_Content\"]= trainDF.apply(generateTrainContent, axis=1)\n",
    "trainDF_balanced[\"LLM_Content\"] = trainDF_balanced.apply(generateTrainContent, axis=1)"
   ]
  },
  {
   "cell_type": "code",
   "execution_count": 84,
   "id": "39f01f40",
   "metadata": {
    "execution": {
     "iopub.execute_input": "2025-09-29T16:43:37.065938Z",
     "iopub.status.busy": "2025-09-29T16:43:37.065676Z",
     "iopub.status.idle": "2025-09-29T16:43:37.070052Z",
     "shell.execute_reply": "2025-09-29T16:43:37.069379Z"
    },
    "papermill": {
     "duration": 0.033661,
     "end_time": "2025-09-29T16:43:37.071234",
     "exception": false,
     "start_time": "2025-09-29T16:43:37.037573",
     "status": "completed"
    },
    "tags": []
   },
   "outputs": [],
   "source": [
    "testDF[\"LLM_Content\"]= testDF.apply(generateTrainContent, axis=1)"
   ]
  },
  {
   "cell_type": "code",
   "execution_count": 85,
   "id": "94694e08",
   "metadata": {
    "execution": {
     "iopub.execute_input": "2025-09-29T16:43:37.127290Z",
     "iopub.status.busy": "2025-09-29T16:43:37.127078Z",
     "iopub.status.idle": "2025-09-29T16:43:37.130704Z",
     "shell.execute_reply": "2025-09-29T16:43:37.130094Z"
    },
    "papermill": {
     "duration": 0.03282,
     "end_time": "2025-09-29T16:43:37.131819",
     "exception": false,
     "start_time": "2025-09-29T16:43:37.098999",
     "status": "completed"
    },
    "tags": []
   },
   "outputs": [
    {
     "name": "stdout",
     "output_type": "stream",
     "text": [
      "You are an expert educational diagnostician specializing in identifying students' math misconceptions from their written explanations.\n",
      "Your task is to analyze the student's explanation and classify the specific type of misconception they demonstrate.\n",
      "\n",
      "Question: Which number is the greatest?\n",
      "Answer: \\( 6 \\)\n",
      "Correct: False\n",
      "Student Explanation: because it is a whole number\n",
      "\n",
      "Based on the information above, identify and label the underlying math misconception in the student's explanation.\n",
      "Provide a clear and concise classification of the misconception type.\n",
      "\n"
     ]
    }
   ],
   "source": [
    "# print one of example\n",
    "print(trainDF_balanced[\"LLM_Content\"].values[0])"
   ]
  },
  {
   "cell_type": "code",
   "execution_count": 86,
   "id": "e9ac286a",
   "metadata": {
    "execution": {
     "iopub.execute_input": "2025-09-29T16:43:37.187406Z",
     "iopub.status.busy": "2025-09-29T16:43:37.187216Z",
     "iopub.status.idle": "2025-09-29T16:43:37.190848Z",
     "shell.execute_reply": "2025-09-29T16:43:37.190023Z"
    },
    "papermill": {
     "duration": 0.032497,
     "end_time": "2025-09-29T16:43:37.191908",
     "exception": false,
     "start_time": "2025-09-29T16:43:37.159411",
     "status": "completed"
    },
    "tags": []
   },
   "outputs": [
    {
     "name": "stdout",
     "output_type": "stream",
     "text": [
      "You are an expert educational diagnostician specializing in identifying students' math misconceptions from their written explanations.\n",
      "Your task is to analyze the student's explanation and classify the specific type of misconception they demonstrate.\n",
      "\n",
      "Question: What fraction of the shape is not shaded? Give your answer in its simplest form. [Image: A triangle split into 9 equal smaller triangles. 6 of them are shaded.]\n",
      "Answer: \\( \\frac{1}{3} \\)\n",
      "Correct: True\n",
      "Student Explanation: I think that 1/3 is the answer, as it's the simplest form of 3/9.\n",
      "\n",
      "Based on the information above, identify and label the underlying math misconception in the student's explanation.\n",
      "Provide a clear and concise classification of the misconception type.\n",
      "\n"
     ]
    }
   ],
   "source": [
    "print(testDF[\"LLM_Content\"].values[0])"
   ]
  },
  {
   "cell_type": "markdown",
   "id": "b96ddcd2",
   "metadata": {
    "papermill": {
     "duration": 0.027759,
     "end_time": "2025-09-29T16:43:37.247154",
     "exception": false,
     "start_time": "2025-09-29T16:43:37.219395",
     "status": "completed"
    },
    "tags": []
   },
   "source": [
    "## lenght of the LLM conntent"
   ]
  },
  {
   "cell_type": "code",
   "execution_count": 87,
   "id": "4b7b7bc5",
   "metadata": {
    "execution": {
     "iopub.execute_input": "2025-09-29T16:43:37.305332Z",
     "iopub.status.busy": "2025-09-29T16:43:37.304933Z",
     "iopub.status.idle": "2025-09-29T16:43:37.340270Z",
     "shell.execute_reply": "2025-09-29T16:43:37.339742Z"
    },
    "papermill": {
     "duration": 0.06573,
     "end_time": "2025-09-29T16:43:37.341359",
     "exception": false,
     "start_time": "2025-09-29T16:43:37.275629",
     "status": "completed"
    },
    "tags": []
   },
   "outputs": [
    {
     "data": {
      "text/plain": [
       "LLM_Content\n",
       "621     2014\n",
       "600     1677\n",
       "607     1664\n",
       "604     1598\n",
       "595     1332\n",
       "        ... \n",
       "979        1\n",
       "990        1\n",
       "1066       1\n",
       "1054       1\n",
       "988        1\n",
       "Name: count, Length: 399, dtype: int64"
      ]
     },
     "execution_count": 87,
     "metadata": {},
     "output_type": "execute_result"
    }
   ],
   "source": [
    "trainDF_balanced[\"LLM_Content\"].str.len().value_counts() # raw input character length"
   ]
  },
  {
   "cell_type": "code",
   "execution_count": 88,
   "id": "450d1c15",
   "metadata": {
    "execution": {
     "iopub.execute_input": "2025-09-29T16:43:37.399424Z",
     "iopub.status.busy": "2025-09-29T16:43:37.398986Z",
     "iopub.status.idle": "2025-09-29T16:44:11.532779Z",
     "shell.execute_reply": "2025-09-29T16:44:11.532084Z"
    },
    "papermill": {
     "duration": 34.192184,
     "end_time": "2025-09-29T16:44:11.562805",
     "exception": false,
     "start_time": "2025-09-29T16:43:37.370621",
     "status": "completed"
    },
    "tags": []
   },
   "outputs": [
    {
     "data": {
      "text/plain": [
       "count    89055.000000\n",
       "mean       138.734086\n",
       "std         20.884166\n",
       "min         97.000000\n",
       "25%        124.000000\n",
       "50%        136.000000\n",
       "75%        151.000000\n",
       "max        391.000000\n",
       "Name: Length, dtype: float64"
      ]
     },
     "execution_count": 88,
     "metadata": {},
     "output_type": "execute_result"
    }
   ],
   "source": [
    "# trainDF[\"Length\"] = trainDF[\"LLM_Content\"].str.len()\n",
    "trainDF_balanced[\"Length\"] = [len(tokenizer.encode(t, truncation=False)) for t in trainDF_balanced[\"LLM_Content\"]]\n",
    "\n",
    "trainDF_balanced[\"Length\"].describe()"
   ]
  },
  {
   "cell_type": "code",
   "execution_count": 89,
   "id": "5ce41bfd",
   "metadata": {
    "execution": {
     "iopub.execute_input": "2025-09-29T16:44:11.620874Z",
     "iopub.status.busy": "2025-09-29T16:44:11.620182Z",
     "iopub.status.idle": "2025-09-29T16:44:11.821578Z",
     "shell.execute_reply": "2025-09-29T16:44:11.820933Z"
    },
    "papermill": {
     "duration": 0.231255,
     "end_time": "2025-09-29T16:44:11.822670",
     "exception": false,
     "start_time": "2025-09-29T16:44:11.591415",
     "status": "completed"
    },
    "tags": []
   },
   "outputs": [
    {
     "data": {
      "image/png": "[encoded data removed]",
      "text/plain": [
       "<Figure size 640x480 with 1 Axes>"
      ]
     },
     "metadata": {},
     "output_type": "display_data"
    }
   ],
   "source": [
    "trainDF_balanced[\"Length\"].plot(kind='hist', bins=50, subplots=True,sharex=True,sharey=True, title='LLM Content Length Distribution');"
   ]
  },
  {
   "cell_type": "code",
   "execution_count": 90,
   "id": "514e6bef",
   "metadata": {
    "execution": {
     "iopub.execute_input": "2025-09-29T16:44:11.880327Z",
     "iopub.status.busy": "2025-09-29T16:44:11.880127Z",
     "iopub.status.idle": "2025-09-29T16:44:11.884629Z",
     "shell.execute_reply": "2025-09-29T16:44:11.884019Z"
    },
    "papermill": {
     "duration": 0.034481,
     "end_time": "2025-09-29T16:44:11.885759",
     "exception": false,
     "start_time": "2025-09-29T16:44:11.851278",
     "status": "completed"
    },
    "tags": []
   },
   "outputs": [
    {
     "name": "stdout",
     "output_type": "stream",
     "text": [
      "There are 4 train sample(s) with more than 256 tokens\n"
     ]
    }
   ],
   "source": [
    "MAX_LEN = 256 #512 #256 #512\n",
    "L = (np.array(trainDF_balanced[\"Length\"])>MAX_LEN).sum()\n",
    "print(f\"There are {L} train sample(s) with more than {MAX_LEN} tokens\")"
   ]
  },
  {
   "cell_type": "markdown",
   "id": "e82367a1",
   "metadata": {
    "execution": {
     "iopub.execute_input": "2025-08-12T14:48:14.784040Z",
     "iopub.status.busy": "2025-08-12T14:48:14.783703Z",
     "iopub.status.idle": "2025-08-12T14:48:14.788666Z",
     "shell.execute_reply": "2025-08-12T14:48:14.787640Z",
     "shell.execute_reply.started": "2025-08-12T14:48:14.784018Z"
    },
    "papermill": {
     "duration": 0.028137,
     "end_time": "2025-09-29T16:44:11.942123",
     "exception": false,
     "start_time": "2025-09-29T16:44:11.913986",
     "status": "completed"
    },
    "tags": []
   },
   "source": [
    "### MAX window size 256 is suitable for training "
   ]
  },
  {
   "cell_type": "markdown",
   "id": "19b774dd",
   "metadata": {
    "papermill": {
     "duration": 0.030517,
     "end_time": "2025-09-29T16:44:12.001280",
     "exception": false,
     "start_time": "2025-09-29T16:44:11.970763",
     "status": "completed"
    },
    "tags": []
   },
   "source": [
    "## Create Dataset"
   ]
  },
  {
   "cell_type": "code",
   "execution_count": 91,
   "id": "579c6b26",
   "metadata": {
    "execution": {
     "iopub.execute_input": "2025-09-29T16:44:12.059569Z",
     "iopub.status.busy": "2025-09-29T16:44:12.059354Z",
     "iopub.status.idle": "2025-09-29T16:44:12.063685Z",
     "shell.execute_reply": "2025-09-29T16:44:12.063136Z"
    },
    "papermill": {
     "duration": 0.034572,
     "end_time": "2025-09-29T16:44:12.064648",
     "exception": false,
     "start_time": "2025-09-29T16:44:12.030076",
     "status": "completed"
    },
    "tags": []
   },
   "outputs": [
    {
     "data": {
      "text/plain": [
       "(89055, 75697)"
      ]
     },
     "execution_count": 91,
     "metadata": {},
     "output_type": "execute_result"
    }
   ],
   "source": [
    "len(trainDF_balanced) , round(len(trainDF_balanced) * 0.85) # check train data size"
   ]
  },
  {
   "cell_type": "code",
   "execution_count": 92,
   "id": "4c15b8f4",
   "metadata": {
    "execution": {
     "iopub.execute_input": "2025-09-29T16:44:12.122677Z",
     "iopub.status.busy": "2025-09-29T16:44:12.122310Z",
     "iopub.status.idle": "2025-09-29T16:44:12.126389Z",
     "shell.execute_reply": "2025-09-29T16:44:12.125866Z"
    },
    "papermill": {
     "duration": 0.033873,
     "end_time": "2025-09-29T16:44:12.127349",
     "exception": false,
     "start_time": "2025-09-29T16:44:12.093476",
     "status": "completed"
    },
    "tags": []
   },
   "outputs": [
    {
     "data": {
      "text/plain": [
       "89055"
      ]
     },
     "execution_count": 92,
     "metadata": {},
     "output_type": "execute_result"
    }
   ],
   "source": [
    "totalTrainSize= len(trainDF_balanced)\n",
    "totalTrainSize"
   ]
  },
  {
   "cell_type": "code",
   "execution_count": 93,
   "id": "c95f69ad",
   "metadata": {
    "execution": {
     "iopub.execute_input": "2025-09-29T16:44:12.184714Z",
     "iopub.status.busy": "2025-09-29T16:44:12.184542Z",
     "iopub.status.idle": "2025-09-29T16:44:12.188704Z",
     "shell.execute_reply": "2025-09-29T16:44:12.187980Z"
    },
    "papermill": {
     "duration": 0.033977,
     "end_time": "2025-09-29T16:44:12.189875",
     "exception": false,
     "start_time": "2025-09-29T16:44:12.155898",
     "status": "completed"
    },
    "tags": []
   },
   "outputs": [
    {
     "data": {
      "text/plain": [
       "89005"
      ]
     },
     "execution_count": 93,
     "metadata": {},
     "output_type": "execute_result"
    }
   ],
   "source": [
    "setMaxTrainData = totalTrainSize - CFG.valDatasetSize\n",
    "setMaxTrainData"
   ]
  },
  {
   "cell_type": "code",
   "execution_count": null,
   "id": "ab20377c",
   "metadata": {
    "papermill": {
     "duration": 0.028357,
     "end_time": "2025-09-29T16:44:12.246545",
     "exception": false,
     "start_time": "2025-09-29T16:44:12.218188",
     "status": "completed"
    },
    "tags": []
   },
   "outputs": [],
   "source": []
  },
  {
   "cell_type": "markdown",
   "id": "3e2749a8",
   "metadata": {
    "papermill": {
     "duration": 0.027943,
     "end_time": "2025-09-29T16:44:12.302636",
     "exception": false,
     "start_time": "2025-09-29T16:44:12.274693",
     "status": "completed"
    },
    "tags": []
   },
   "source": [
    "### Create Dataset for Train/Validation"
   ]
  },
  {
   "cell_type": "code",
   "execution_count": 94,
   "id": "1f41a89f",
   "metadata": {
    "execution": {
     "iopub.execute_input": "2025-09-29T16:44:12.361321Z",
     "iopub.status.busy": "2025-09-29T16:44:12.361116Z",
     "iopub.status.idle": "2025-09-29T16:44:12.388888Z",
     "shell.execute_reply": "2025-09-29T16:44:12.388323Z"
    },
    "papermill": {
     "duration": 0.059366,
     "end_time": "2025-09-29T16:44:12.389977",
     "exception": false,
     "start_time": "2025-09-29T16:44:12.330611",
     "status": "completed"
    },
    "tags": []
   },
   "outputs": [],
   "source": [
    "\n",
    "# tempTrainDF , tempValDF = train_test_split(trainDF_balanced , stratify= trainDF[\"is_correct\"], test_size=CFG.test_size, random_state=42)\n",
    "tempTrainDF , tempValDF = train_test_split(trainDF_balanced ,  test_size=CFG.test_size, random_state=42)"
   ]
  },
  {
   "cell_type": "code",
   "execution_count": 95,
   "id": "598cac0b",
   "metadata": {
    "execution": {
     "iopub.execute_input": "2025-09-29T16:44:12.447791Z",
     "iopub.status.busy": "2025-09-29T16:44:12.447564Z",
     "iopub.status.idle": "2025-09-29T16:44:12.458424Z",
     "shell.execute_reply": "2025-09-29T16:44:12.457870Z"
    },
    "papermill": {
     "duration": 0.040878,
     "end_time": "2025-09-29T16:44:12.459408",
     "exception": false,
     "start_time": "2025-09-29T16:44:12.418530",
     "status": "completed"
    },
    "tags": []
   },
   "outputs": [
    {
     "data": {
      "text/html": [
       "<div>\n",
       "<style scoped>\n",
       "    .dataframe tbody tr th:only-of-type {\n",
       "        vertical-align: middle;\n",
       "    }\n",
       "\n",
       "    .dataframe tbody tr th {\n",
       "        vertical-align: top;\n",
       "    }\n",
       "\n",
       "    .dataframe thead th {\n",
       "        text-align: right;\n",
       "    }\n",
       "</style>\n",
       "<table border=\"1\" class=\"dataframe\">\n",
       "  <thead>\n",
       "    <tr style=\"text-align: right;\">\n",
       "      <th></th>\n",
       "      <th>row_id</th>\n",
       "      <th>QuestionId</th>\n",
       "      <th>QuestionText</th>\n",
       "      <th>MC_Answer</th>\n",
       "      <th>StudentExplanation</th>\n",
       "      <th>Category</th>\n",
       "      <th>Misconception</th>\n",
       "      <th>target</th>\n",
       "      <th>label</th>\n",
       "      <th>is_correct</th>\n",
       "      <th>LLM_Content</th>\n",
       "      <th>Length</th>\n",
       "    </tr>\n",
       "  </thead>\n",
       "  <tbody>\n",
       "    <tr>\n",
       "      <th>38252</th>\n",
       "      <td>20364</td>\n",
       "      <td>32835</td>\n",
       "      <td>Which number is the greatest?</td>\n",
       "      <td>\\( 6.2 \\)</td>\n",
       "      <td>6 is bigger than decimal numbers</td>\n",
       "      <td>True_Misconception</td>\n",
       "      <td>Whole_numbers_larger</td>\n",
       "      <td>True_Misconception:Whole_numbers_larger</td>\n",
       "      <td>61</td>\n",
       "      <td>1</td>\n",
       "      <td>You are an expert educational diagnostician sp...</td>\n",
       "      <td>101</td>\n",
       "    </tr>\n",
       "    <tr>\n",
       "      <th>2997</th>\n",
       "      <td>28357</td>\n",
       "      <td>76870</td>\n",
       "      <td>This is part of a regular polygon. How many si...</td>\n",
       "      <td>Not enough information</td>\n",
       "      <td>i think this because you do not know what the ...</td>\n",
       "      <td>False_Neither</td>\n",
       "      <td>NA</td>\n",
       "      <td>False_Neither:NA</td>\n",
       "      <td>36</td>\n",
       "      <td>0</td>\n",
       "      <td>You are an expert educational diagnostician sp...</td>\n",
       "      <td>129</td>\n",
       "    </tr>\n",
       "    <tr>\n",
       "      <th>66308</th>\n",
       "      <td>13139</td>\n",
       "      <td>31778</td>\n",
       "      <td>\\( \\frac{A}{10}=\\frac{9}{15} \\) What is the va...</td>\n",
       "      <td>\\( 6 \\)</td>\n",
       "      <td>I put this because this because the difference...</td>\n",
       "      <td>True_Misconception</td>\n",
       "      <td>Additive</td>\n",
       "      <td>True_Misconception:Additive</td>\n",
       "      <td>39</td>\n",
       "      <td>1</td>\n",
       "      <td>You are an expert educational diagnostician sp...</td>\n",
       "      <td>143</td>\n",
       "    </tr>\n",
       "    <tr>\n",
       "      <th>65630</th>\n",
       "      <td>25336</td>\n",
       "      <td>33472</td>\n",
       "      <td>\\( \\frac{1}{3}+\\frac{2}{5}= \\)</td>\n",
       "      <td>\\( \\frac{3}{15} \\)</td>\n",
       "      <td>15 goes in the 3 and 5 times tables then times...</td>\n",
       "      <td>False_Neither</td>\n",
       "      <td>NA</td>\n",
       "      <td>False_Neither:NA</td>\n",
       "      <td>36</td>\n",
       "      <td>0</td>\n",
       "      <td>You are an expert educational diagnostician sp...</td>\n",
       "      <td>159</td>\n",
       "    </tr>\n",
       "    <tr>\n",
       "      <th>47822</th>\n",
       "      <td>35176</td>\n",
       "      <td>104665</td>\n",
       "      <td>It takes \\( 3 \\) people a total of \\( 192 \\) h...</td>\n",
       "      <td>\\( 48 \\) hours</td>\n",
       "      <td>because you go to one person and then times by 12</td>\n",
       "      <td>True_Misconception</td>\n",
       "      <td>Multiplying_by_4</td>\n",
       "      <td>True_Misconception:Multiplying_by_4</td>\n",
       "      <td>53</td>\n",
       "      <td>1</td>\n",
       "      <td>You are an expert educational diagnostician sp...</td>\n",
       "      <td>144</td>\n",
       "    </tr>\n",
       "    <tr>\n",
       "      <th>...</th>\n",
       "      <td>...</td>\n",
       "      <td>...</td>\n",
       "      <td>...</td>\n",
       "      <td>...</td>\n",
       "      <td>...</td>\n",
       "      <td>...</td>\n",
       "      <td>...</td>\n",
       "      <td>...</td>\n",
       "      <td>...</td>\n",
       "      <td>...</td>\n",
       "      <td>...</td>\n",
       "      <td>...</td>\n",
       "    </tr>\n",
       "    <tr>\n",
       "      <th>6265</th>\n",
       "      <td>15189</td>\n",
       "      <td>32829</td>\n",
       "      <td>\\( 2 y=24 \\) What is the value of \\( y \\) ?</td>\n",
       "      <td>\\( 12 \\)</td>\n",
       "      <td>i think because 2*12is 24 so that's why im sor...</td>\n",
       "      <td>True_Misconception</td>\n",
       "      <td>Not_variable</td>\n",
       "      <td>True_Misconception:Not_variable</td>\n",
       "      <td>54</td>\n",
       "      <td>1</td>\n",
       "      <td>You are an expert educational diagnostician sp...</td>\n",
       "      <td>126</td>\n",
       "    </tr>\n",
       "    <tr>\n",
       "      <th>54886</th>\n",
       "      <td>16214</td>\n",
       "      <td>32829</td>\n",
       "      <td>\\( 2 y=24 \\) What is the value of \\( y \\) ?</td>\n",
       "      <td>\\( 22 \\)</td>\n",
       "      <td>i think  this because 22+2 would be  24 so y w...</td>\n",
       "      <td>False_Misconception</td>\n",
       "      <td>Adding_terms</td>\n",
       "      <td>False_Misconception:Adding_terms</td>\n",
       "      <td>2</td>\n",
       "      <td>0</td>\n",
       "      <td>You are an expert educational diagnostician sp...</td>\n",
       "      <td>131</td>\n",
       "    </tr>\n",
       "    <tr>\n",
       "      <th>76820</th>\n",
       "      <td>28915</td>\n",
       "      <td>76870</td>\n",
       "      <td>This is part of a regular polygon. How many si...</td>\n",
       "      <td>\\( 10 \\)</td>\n",
       "      <td>interior angles in a 10 sided shape make a sum...</td>\n",
       "      <td>True_Correct</td>\n",
       "      <td>NA</td>\n",
       "      <td>True_Correct:NA</td>\n",
       "      <td>37</td>\n",
       "      <td>1</td>\n",
       "      <td>You are an expert educational diagnostician sp...</td>\n",
       "      <td>155</td>\n",
       "    </tr>\n",
       "    <tr>\n",
       "      <th>860</th>\n",
       "      <td>35497</td>\n",
       "      <td>104665</td>\n",
       "      <td>It takes \\( 3 \\) people a total of \\( 192 \\) h...</td>\n",
       "      <td>\\( 64 \\) hours</td>\n",
       "      <td>because i divide 192 and 3 and then i got this...</td>\n",
       "      <td>False_Misconception</td>\n",
       "      <td>Base_rate</td>\n",
       "      <td>False_Misconception:Base_rate</td>\n",
       "      <td>4</td>\n",
       "      <td>0</td>\n",
       "      <td>You are an expert educational diagnostician sp...</td>\n",
       "      <td>147</td>\n",
       "    </tr>\n",
       "    <tr>\n",
       "      <th>15795</th>\n",
       "      <td>23043</td>\n",
       "      <td>33471</td>\n",
       "      <td>A bag contains \\( 24 \\) yellow and green balls...</td>\n",
       "      <td>\\( 9 \\)</td>\n",
       "      <td>24 divided by 8 is 3 and three times 3 is 9. I...</td>\n",
       "      <td>False_Misconception</td>\n",
       "      <td>Wrong_fraction</td>\n",
       "      <td>False_Misconception:Wrong_fraction</td>\n",
       "      <td>34</td>\n",
       "      <td>0</td>\n",
       "      <td>You are an expert educational diagnostician sp...</td>\n",
       "      <td>166</td>\n",
       "    </tr>\n",
       "  </tbody>\n",
       "</table>\n",
       "<p>88965 rows × 12 columns</p>\n",
       "</div>"
      ],
      "text/plain": [
       "       row_id  QuestionId                                       QuestionText  \\\n",
       "38252   20364       32835                      Which number is the greatest?   \n",
       "2997    28357       76870  This is part of a regular polygon. How many si...   \n",
       "66308   13139       31778  \\( \\frac{A}{10}=\\frac{9}{15} \\) What is the va...   \n",
       "65630   25336       33472                     \\( \\frac{1}{3}+\\frac{2}{5}= \\)   \n",
       "47822   35176      104665  It takes \\( 3 \\) people a total of \\( 192 \\) h...   \n",
       "...       ...         ...                                                ...   \n",
       "6265    15189       32829        \\( 2 y=24 \\) What is the value of \\( y \\) ?   \n",
       "54886   16214       32829        \\( 2 y=24 \\) What is the value of \\( y \\) ?   \n",
       "76820   28915       76870  This is part of a regular polygon. How many si...   \n",
       "860     35497      104665  It takes \\( 3 \\) people a total of \\( 192 \\) h...   \n",
       "15795   23043       33471  A bag contains \\( 24 \\) yellow and green balls...   \n",
       "\n",
       "                    MC_Answer  \\\n",
       "38252               \\( 6.2 \\)   \n",
       "2997   Not enough information   \n",
       "66308                 \\( 6 \\)   \n",
       "65630      \\( \\frac{3}{15} \\)   \n",
       "47822          \\( 48 \\) hours   \n",
       "...                       ...   \n",
       "6265                 \\( 12 \\)   \n",
       "54886                \\( 22 \\)   \n",
       "76820                \\( 10 \\)   \n",
       "860            \\( 64 \\) hours   \n",
       "15795                 \\( 9 \\)   \n",
       "\n",
       "                                      StudentExplanation             Category  \\\n",
       "38252                   6 is bigger than decimal numbers   True_Misconception   \n",
       "2997   i think this because you do not know what the ...        False_Neither   \n",
       "66308  I put this because this because the difference...   True_Misconception   \n",
       "65630  15 goes in the 3 and 5 times tables then times...        False_Neither   \n",
       "47822  because you go to one person and then times by 12   True_Misconception   \n",
       "...                                                  ...                  ...   \n",
       "6265   i think because 2*12is 24 so that's why im sor...   True_Misconception   \n",
       "54886  i think  this because 22+2 would be  24 so y w...  False_Misconception   \n",
       "76820  interior angles in a 10 sided shape make a sum...         True_Correct   \n",
       "860    because i divide 192 and 3 and then i got this...  False_Misconception   \n",
       "15795  24 divided by 8 is 3 and three times 3 is 9. I...  False_Misconception   \n",
       "\n",
       "              Misconception                                   target  label  \\\n",
       "38252  Whole_numbers_larger  True_Misconception:Whole_numbers_larger     61   \n",
       "2997                     NA                         False_Neither:NA     36   \n",
       "66308              Additive              True_Misconception:Additive     39   \n",
       "65630                    NA                         False_Neither:NA     36   \n",
       "47822      Multiplying_by_4      True_Misconception:Multiplying_by_4     53   \n",
       "...                     ...                                      ...    ...   \n",
       "6265           Not_variable          True_Misconception:Not_variable     54   \n",
       "54886          Adding_terms         False_Misconception:Adding_terms      2   \n",
       "76820                    NA                          True_Correct:NA     37   \n",
       "860               Base_rate            False_Misconception:Base_rate      4   \n",
       "15795        Wrong_fraction       False_Misconception:Wrong_fraction     34   \n",
       "\n",
       "       is_correct                                        LLM_Content  Length  \n",
       "38252           1  You are an expert educational diagnostician sp...     101  \n",
       "2997            0  You are an expert educational diagnostician sp...     129  \n",
       "66308           1  You are an expert educational diagnostician sp...     143  \n",
       "65630           0  You are an expert educational diagnostician sp...     159  \n",
       "47822           1  You are an expert educational diagnostician sp...     144  \n",
       "...           ...                                                ...     ...  \n",
       "6265            1  You are an expert educational diagnostician sp...     126  \n",
       "54886           0  You are an expert educational diagnostician sp...     131  \n",
       "76820           1  You are an expert educational diagnostician sp...     155  \n",
       "860             0  You are an expert educational diagnostician sp...     147  \n",
       "15795           0  You are an expert educational diagnostician sp...     166  \n",
       "\n",
       "[88965 rows x 12 columns]"
      ]
     },
     "execution_count": 95,
     "metadata": {},
     "output_type": "execute_result"
    }
   ],
   "source": [
    "tempTrainDF"
   ]
  },
  {
   "cell_type": "code",
   "execution_count": 96,
   "id": "33981cb9",
   "metadata": {
    "execution": {
     "iopub.execute_input": "2025-09-29T16:44:12.519253Z",
     "iopub.status.busy": "2025-09-29T16:44:12.518647Z",
     "iopub.status.idle": "2025-09-29T16:44:12.948025Z",
     "shell.execute_reply": "2025-09-29T16:44:12.947256Z"
    },
    "papermill": {
     "duration": 0.460315,
     "end_time": "2025-09-29T16:44:12.949129",
     "exception": false,
     "start_time": "2025-09-29T16:44:12.488814",
     "status": "completed"
    },
    "tags": []
   },
   "outputs": [
    {
     "data": {
      "image/png": "[encoded data removed]",
      "text/plain": [
       "<Figure size 640x480 with 1 Axes>"
      ]
     },
     "metadata": {},
     "output_type": "display_data"
    }
   ],
   "source": [
    "tempTrainDF[\"label\"].value_counts().plot(kind=\"bar\", title=\"Class Distribution\");"
   ]
  },
  {
   "cell_type": "code",
   "execution_count": 97,
   "id": "b46529f1",
   "metadata": {
    "execution": {
     "iopub.execute_input": "2025-09-29T16:44:13.010542Z",
     "iopub.status.busy": "2025-09-29T16:44:13.010329Z",
     "iopub.status.idle": "2025-09-29T16:44:13.026174Z",
     "shell.execute_reply": "2025-09-29T16:44:13.025577Z"
    },
    "papermill": {
     "duration": 0.047374,
     "end_time": "2025-09-29T16:44:13.027176",
     "exception": false,
     "start_time": "2025-09-29T16:44:12.979802",
     "status": "completed"
    },
    "tags": []
   },
   "outputs": [
    {
     "data": {
      "text/html": [
       "<div>\n",
       "<style scoped>\n",
       "    .dataframe tbody tr th:only-of-type {\n",
       "        vertical-align: middle;\n",
       "    }\n",
       "\n",
       "    .dataframe tbody tr th {\n",
       "        vertical-align: top;\n",
       "    }\n",
       "\n",
       "    .dataframe thead th {\n",
       "        text-align: right;\n",
       "    }\n",
       "</style>\n",
       "<table border=\"1\" class=\"dataframe\">\n",
       "  <thead>\n",
       "    <tr style=\"text-align: right;\">\n",
       "      <th></th>\n",
       "      <th>row_id</th>\n",
       "      <th>QuestionId</th>\n",
       "      <th>label</th>\n",
       "      <th>is_correct</th>\n",
       "      <th>Length</th>\n",
       "    </tr>\n",
       "  </thead>\n",
       "  <tbody>\n",
       "    <tr>\n",
       "      <th>count</th>\n",
       "      <td>90.000000</td>\n",
       "      <td>90.000000</td>\n",
       "      <td>90.000000</td>\n",
       "      <td>90.000000</td>\n",
       "      <td>90.000000</td>\n",
       "    </tr>\n",
       "    <tr>\n",
       "      <th>mean</th>\n",
       "      <td>19330.255556</td>\n",
       "      <td>46673.622222</td>\n",
       "      <td>32.366667</td>\n",
       "      <td>0.500000</td>\n",
       "      <td>139.522222</td>\n",
       "    </tr>\n",
       "    <tr>\n",
       "      <th>std</th>\n",
       "      <td>10751.926739</td>\n",
       "      <td>26956.689073</td>\n",
       "      <td>18.582612</td>\n",
       "      <td>0.502801</td>\n",
       "      <td>21.791777</td>\n",
       "    </tr>\n",
       "    <tr>\n",
       "      <th>min</th>\n",
       "      <td>31.000000</td>\n",
       "      <td>31772.000000</td>\n",
       "      <td>1.000000</td>\n",
       "      <td>0.000000</td>\n",
       "      <td>101.000000</td>\n",
       "    </tr>\n",
       "    <tr>\n",
       "      <th>25%</th>\n",
       "      <td>9153.250000</td>\n",
       "      <td>31777.250000</td>\n",
       "      <td>16.000000</td>\n",
       "      <td>0.000000</td>\n",
       "      <td>125.250000</td>\n",
       "    </tr>\n",
       "    <tr>\n",
       "      <th>50%</th>\n",
       "      <td>20175.000000</td>\n",
       "      <td>32835.000000</td>\n",
       "      <td>36.500000</td>\n",
       "      <td>0.500000</td>\n",
       "      <td>136.500000</td>\n",
       "    </tr>\n",
       "    <tr>\n",
       "      <th>75%</th>\n",
       "      <td>26775.000000</td>\n",
       "      <td>33474.000000</td>\n",
       "      <td>46.000000</td>\n",
       "      <td>1.000000</td>\n",
       "      <td>146.750000</td>\n",
       "    </tr>\n",
       "    <tr>\n",
       "      <th>max</th>\n",
       "      <td>36319.000000</td>\n",
       "      <td>109465.000000</td>\n",
       "      <td>64.000000</td>\n",
       "      <td>1.000000</td>\n",
       "      <td>224.000000</td>\n",
       "    </tr>\n",
       "  </tbody>\n",
       "</table>\n",
       "</div>"
      ],
      "text/plain": [
       "             row_id     QuestionId      label  is_correct      Length\n",
       "count     90.000000      90.000000  90.000000   90.000000   90.000000\n",
       "mean   19330.255556   46673.622222  32.366667    0.500000  139.522222\n",
       "std    10751.926739   26956.689073  18.582612    0.502801   21.791777\n",
       "min       31.000000   31772.000000   1.000000    0.000000  101.000000\n",
       "25%     9153.250000   31777.250000  16.000000    0.000000  125.250000\n",
       "50%    20175.000000   32835.000000  36.500000    0.500000  136.500000\n",
       "75%    26775.000000   33474.000000  46.000000    1.000000  146.750000\n",
       "max    36319.000000  109465.000000  64.000000    1.000000  224.000000"
      ]
     },
     "execution_count": 97,
     "metadata": {},
     "output_type": "execute_result"
    }
   ],
   "source": [
    "tempValDF.describe()"
   ]
  },
  {
   "cell_type": "code",
   "execution_count": 98,
   "id": "3613a8a3",
   "metadata": {
    "execution": {
     "iopub.execute_input": "2025-09-29T16:44:13.086690Z",
     "iopub.status.busy": "2025-09-29T16:44:13.086493Z",
     "iopub.status.idle": "2025-09-29T16:44:13.662216Z",
     "shell.execute_reply": "2025-09-29T16:44:13.661630Z"
    },
    "papermill": {
     "duration": 0.607049,
     "end_time": "2025-09-29T16:44:13.663543",
     "exception": false,
     "start_time": "2025-09-29T16:44:13.056494",
     "status": "completed"
    },
    "tags": []
   },
   "outputs": [],
   "source": [
    "# Convert to Hugging Face Dataset for training dataset\n",
    "COLS = ['LLM_Content','label']\n",
    "\n",
    "trainDataset = Dataset.from_pandas(tempTrainDF[COLS], split=\"train\")\n",
    "valDataset = Dataset.from_pandas(tempValDF[COLS], split=\"test\")\n",
    "testDataset = Dataset.from_pandas(testDF, split=\"test\")\n",
    "subDataset = Dataset.from_pandas(sample, split=\"test\") # submit dataset\n",
    "\n",
    "# trainDataset = Dataset.from_pandas(tempTrainDF, split=\"train\")\n",
    "# valDataset = Dataset.from_pandas(tempValDF, split=\"test\")\n",
    "# subDataset = Dataset.from_pandas(sample, split=\"test\") # submit dataset"
   ]
  },
  {
   "cell_type": "code",
   "execution_count": 99,
   "id": "1acbf9f0",
   "metadata": {
    "execution": {
     "iopub.execute_input": "2025-09-29T16:44:13.724812Z",
     "iopub.status.busy": "2025-09-29T16:44:13.724584Z",
     "iopub.status.idle": "2025-09-29T16:44:13.728674Z",
     "shell.execute_reply": "2025-09-29T16:44:13.728175Z"
    },
    "papermill": {
     "duration": 0.034904,
     "end_time": "2025-09-29T16:44:13.729822",
     "exception": false,
     "start_time": "2025-09-29T16:44:13.694918",
     "status": "completed"
    },
    "tags": []
   },
   "outputs": [
    {
     "data": {
      "text/plain": [
       "Dataset({\n",
       "    features: ['LLM_Content', 'label', '__index_level_0__'],\n",
       "    num_rows: 88965\n",
       "})"
      ]
     },
     "execution_count": 99,
     "metadata": {},
     "output_type": "execute_result"
    }
   ],
   "source": [
    "trainDataset"
   ]
  },
  {
   "cell_type": "code",
   "execution_count": 100,
   "id": "46e2aecf",
   "metadata": {
    "execution": {
     "iopub.execute_input": "2025-09-29T16:44:13.789511Z",
     "iopub.status.busy": "2025-09-29T16:44:13.789330Z",
     "iopub.status.idle": "2025-09-29T16:44:13.793415Z",
     "shell.execute_reply": "2025-09-29T16:44:13.792783Z"
    },
    "papermill": {
     "duration": 0.034797,
     "end_time": "2025-09-29T16:44:13.794579",
     "exception": false,
     "start_time": "2025-09-29T16:44:13.759782",
     "status": "completed"
    },
    "tags": []
   },
   "outputs": [
    {
     "data": {
      "text/plain": [
       "Dataset({\n",
       "    features: ['row_id', 'QuestionId', 'QuestionText', 'MC_Answer', 'StudentExplanation', 'is_correct', 'LLM_Content'],\n",
       "    num_rows: 3\n",
       "})"
      ]
     },
     "execution_count": 100,
     "metadata": {},
     "output_type": "execute_result"
    }
   ],
   "source": [
    "testDataset"
   ]
  },
  {
   "cell_type": "code",
   "execution_count": 101,
   "id": "f9445399",
   "metadata": {
    "execution": {
     "iopub.execute_input": "2025-09-29T16:44:13.854078Z",
     "iopub.status.busy": "2025-09-29T16:44:13.853882Z",
     "iopub.status.idle": "2025-09-29T16:44:13.857838Z",
     "shell.execute_reply": "2025-09-29T16:44:13.857173Z"
    },
    "papermill": {
     "duration": 0.034728,
     "end_time": "2025-09-29T16:44:13.858927",
     "exception": false,
     "start_time": "2025-09-29T16:44:13.824199",
     "status": "completed"
    },
    "tags": []
   },
   "outputs": [
    {
     "data": {
      "text/plain": [
       "Dataset({\n",
       "    features: ['row_id', 'Category:Misconception'],\n",
       "    num_rows: 3\n",
       "})"
      ]
     },
     "execution_count": 101,
     "metadata": {},
     "output_type": "execute_result"
    }
   ],
   "source": [
    "subDataset"
   ]
  },
  {
   "cell_type": "code",
   "execution_count": 102,
   "id": "85a8f9f3",
   "metadata": {
    "execution": {
     "iopub.execute_input": "2025-09-29T16:44:13.918609Z",
     "iopub.status.busy": "2025-09-29T16:44:13.918086Z",
     "iopub.status.idle": "2025-09-29T16:44:14.196241Z",
     "shell.execute_reply": "2025-09-29T16:44:14.195311Z"
    },
    "papermill": {
     "duration": 0.309274,
     "end_time": "2025-09-29T16:44:14.197599",
     "exception": false,
     "start_time": "2025-09-29T16:44:13.888325",
     "status": "completed"
    },
    "tags": []
   },
   "outputs": [
    {
     "name": "stdout",
     "output_type": "stream",
     "text": [
      "Mon Sep 29 16:44:14 2025       \r\n",
      "+-----------------------------------------------------------------------------------------+\r\n",
      "| NVIDIA-SMI 560.35.03              Driver Version: 560.35.03      CUDA Version: 12.6     |\r\n",
      "|-----------------------------------------+------------------------+----------------------+\r\n",
      "| GPU  Name                 Persistence-M | Bus-Id          Disp.A | Volatile Uncorr. ECC |\r\n",
      "| Fan  Temp   Perf          Pwr:Usage/Cap |           Memory-Usage | GPU-Util  Compute M. |\r\n",
      "|                                         |                        |               MIG M. |\r\n",
      "|=========================================+========================+======================|\r\n",
      "|   0  Tesla T4                       Off |   00000000:00:04.0 Off |                    0 |\r\n",
      "| N/A   54C    P0             27W /   70W |    1861MiB /  15360MiB |      0%      Default |\r\n",
      "|                                         |                        |                  N/A |\r\n",
      "+-----------------------------------------+------------------------+----------------------+\r\n",
      "|   1  Tesla T4                       Off |   00000000:00:05.0 Off |                    0 |\r\n",
      "| N/A   54C    P0             28W /   70W |    2273MiB /  15360MiB |      0%      Default |\r\n",
      "|                                         |                        |                  N/A |\r\n",
      "+-----------------------------------------+------------------------+----------------------+\r\n",
      "                                                                                         \r\n",
      "+-----------------------------------------------------------------------------------------+\r\n",
      "| Processes:                                                                              |\r\n",
      "|  GPU   GI   CI        PID   Type   Process name                              GPU Memory |\r\n",
      "|        ID   ID                                                               Usage      |\r\n",
      "|=========================================================================================|\r\n",
      "+-----------------------------------------------------------------------------------------+\r\n"
     ]
    },
    {
     "name": "stderr",
     "output_type": "stream",
     "text": [
      "huggingface/tokenizers: The current process just got forked, after parallelism has already been used. Disabling parallelism to avoid deadlocks...\n",
      "To disable this warning, you can either:\n",
      "\t- Avoid using `tokenizers` before the fork if possible\n",
      "\t- Explicitly set the environment variable TOKENIZERS_PARALLELISM=(true | false)\n"
     ]
    }
   ],
   "source": [
    "# for GPU only\n",
    "!nvidia-smi  "
   ]
  },
  {
   "cell_type": "code",
   "execution_count": 103,
   "id": "67a999e5",
   "metadata": {
    "execution": {
     "iopub.execute_input": "2025-09-29T16:44:14.258897Z",
     "iopub.status.busy": "2025-09-29T16:44:14.258652Z",
     "iopub.status.idle": "2025-09-29T16:44:14.262578Z",
     "shell.execute_reply": "2025-09-29T16:44:14.262109Z"
    },
    "papermill": {
     "duration": 0.035573,
     "end_time": "2025-09-29T16:44:14.263663",
     "exception": false,
     "start_time": "2025-09-29T16:44:14.228090",
     "status": "completed"
    },
    "tags": []
   },
   "outputs": [],
   "source": [
    "del tempTrainDF \n",
    "del tempValDF"
   ]
  },
  {
   "cell_type": "code",
   "execution_count": 104,
   "id": "fc514082",
   "metadata": {
    "execution": {
     "iopub.execute_input": "2025-09-29T16:44:14.329036Z",
     "iopub.status.busy": "2025-09-29T16:44:14.328644Z",
     "iopub.status.idle": "2025-09-29T16:44:14.333363Z",
     "shell.execute_reply": "2025-09-29T16:44:14.332884Z"
    },
    "papermill": {
     "duration": 0.038029,
     "end_time": "2025-09-29T16:44:14.334401",
     "exception": false,
     "start_time": "2025-09-29T16:44:14.296372",
     "status": "completed"
    },
    "tags": []
   },
   "outputs": [
    {
     "data": {
      "text/plain": [
       "DatasetDict({\n",
       "    train: Dataset({\n",
       "        features: ['LLM_Content', 'label', '__index_level_0__'],\n",
       "        num_rows: 88965\n",
       "    })\n",
       "    val: Dataset({\n",
       "        features: ['LLM_Content', 'label', '__index_level_0__'],\n",
       "        num_rows: 90\n",
       "    })\n",
       "})"
      ]
     },
     "execution_count": 104,
     "metadata": {},
     "output_type": "execute_result"
    }
   ],
   "source": [
    "datasetDict = DatasetDict({\n",
    "    \"train\" : trainDataset,\n",
    "    \"val\"  : valDataset\n",
    "    \n",
    "})\n",
    "datasetDict"
   ]
  },
  {
   "cell_type": "code",
   "execution_count": 105,
   "id": "c379a9c0",
   "metadata": {
    "execution": {
     "iopub.execute_input": "2025-09-29T16:44:14.397143Z",
     "iopub.status.busy": "2025-09-29T16:44:14.396934Z",
     "iopub.status.idle": "2025-09-29T16:44:14.401358Z",
     "shell.execute_reply": "2025-09-29T16:44:14.400668Z"
    },
    "papermill": {
     "duration": 0.035869,
     "end_time": "2025-09-29T16:44:14.402548",
     "exception": false,
     "start_time": "2025-09-29T16:44:14.366679",
     "status": "completed"
    },
    "tags": []
   },
   "outputs": [
    {
     "data": {
      "text/plain": [
       "Dataset({\n",
       "    features: ['LLM_Content', 'label', '__index_level_0__'],\n",
       "    num_rows: 88965\n",
       "})"
      ]
     },
     "execution_count": 105,
     "metadata": {},
     "output_type": "execute_result"
    }
   ],
   "source": [
    "datasetDict[\"train\"]"
   ]
  },
  {
   "cell_type": "code",
   "execution_count": 106,
   "id": "a54a5947",
   "metadata": {
    "execution": {
     "iopub.execute_input": "2025-09-29T16:44:14.463109Z",
     "iopub.status.busy": "2025-09-29T16:44:14.462544Z",
     "iopub.status.idle": "2025-09-29T16:44:14.466384Z",
     "shell.execute_reply": "2025-09-29T16:44:14.465683Z"
    },
    "papermill": {
     "duration": 0.035264,
     "end_time": "2025-09-29T16:44:14.467504",
     "exception": false,
     "start_time": "2025-09-29T16:44:14.432240",
     "status": "completed"
    },
    "tags": []
   },
   "outputs": [],
   "source": [
    "def tokenizeFunc(batch):\n",
    "    return tokenizer(batch[\"LLM_Content\"],  max_length=CFG.maxLength, padding='max_length', truncation=True)"
   ]
  },
  {
   "cell_type": "code",
   "execution_count": 107,
   "id": "677233e4",
   "metadata": {
    "execution": {
     "iopub.execute_input": "2025-09-29T16:44:14.527834Z",
     "iopub.status.busy": "2025-09-29T16:44:14.527610Z",
     "iopub.status.idle": "2025-09-29T16:44:36.636130Z",
     "shell.execute_reply": "2025-09-29T16:44:36.635551Z"
    },
    "papermill": {
     "duration": 22.139881,
     "end_time": "2025-09-29T16:44:36.637170",
     "exception": false,
     "start_time": "2025-09-29T16:44:14.497289",
     "status": "completed"
    },
    "tags": []
   },
   "outputs": [
    {
     "data": {
      "application/vnd.jupyter.widget-view+json": {
       "model_id": "9a770b9e585443aab1ad141e74e20425",
       "version_major": 2,
       "version_minor": 0
      },
      "text/plain": [
       "Map:   0%|          | 0/88965 [00:00<?, ? examples/s]"
      ]
     },
     "metadata": {},
     "output_type": "display_data"
    },
    {
     "data": {
      "application/vnd.jupyter.widget-view+json": {
       "model_id": "1d2a1d7dc6ca460498de8e2030223049",
       "version_major": 2,
       "version_minor": 0
      },
      "text/plain": [
       "Map:   0%|          | 0/90 [00:00<?, ? examples/s]"
      ]
     },
     "metadata": {},
     "output_type": "display_data"
    }
   ],
   "source": [
    "datasetDict = datasetDict.map(tokenizeFunc, batched=True)"
   ]
  },
  {
   "cell_type": "code",
   "execution_count": 108,
   "id": "36934d74",
   "metadata": {
    "execution": {
     "iopub.execute_input": "2025-09-29T16:44:36.700114Z",
     "iopub.status.busy": "2025-09-29T16:44:36.699659Z",
     "iopub.status.idle": "2025-09-29T16:44:36.703798Z",
     "shell.execute_reply": "2025-09-29T16:44:36.703280Z"
    },
    "papermill": {
     "duration": 0.035895,
     "end_time": "2025-09-29T16:44:36.704851",
     "exception": false,
     "start_time": "2025-09-29T16:44:36.668956",
     "status": "completed"
    },
    "tags": []
   },
   "outputs": [
    {
     "data": {
      "text/plain": [
       "DatasetDict({\n",
       "    train: Dataset({\n",
       "        features: ['LLM_Content', 'label', '__index_level_0__', 'input_ids', 'attention_mask'],\n",
       "        num_rows: 88965\n",
       "    })\n",
       "    val: Dataset({\n",
       "        features: ['LLM_Content', 'label', '__index_level_0__', 'input_ids', 'attention_mask'],\n",
       "        num_rows: 90\n",
       "    })\n",
       "})"
      ]
     },
     "execution_count": 108,
     "metadata": {},
     "output_type": "execute_result"
    }
   ],
   "source": [
    "datasetDict"
   ]
  },
  {
   "cell_type": "code",
   "execution_count": 109,
   "id": "d072b267",
   "metadata": {
    "execution": {
     "iopub.execute_input": "2025-09-29T16:44:36.765706Z",
     "iopub.status.busy": "2025-09-29T16:44:36.765513Z",
     "iopub.status.idle": "2025-09-29T16:44:36.771357Z",
     "shell.execute_reply": "2025-09-29T16:44:36.770672Z"
    },
    "papermill": {
     "duration": 0.037378,
     "end_time": "2025-09-29T16:44:36.772418",
     "exception": false,
     "start_time": "2025-09-29T16:44:36.735040",
     "status": "completed"
    },
    "tags": []
   },
   "outputs": [],
   "source": [
    "datasetDict = datasetDict.rename_column(\"label\", \"labels\")  # change name to labels "
   ]
  },
  {
   "cell_type": "code",
   "execution_count": 110,
   "id": "29a6a8d4",
   "metadata": {
    "execution": {
     "iopub.execute_input": "2025-09-29T16:44:36.833110Z",
     "iopub.status.busy": "2025-09-29T16:44:36.832919Z",
     "iopub.status.idle": "2025-09-29T16:44:36.836861Z",
     "shell.execute_reply": "2025-09-29T16:44:36.836201Z"
    },
    "papermill": {
     "duration": 0.035749,
     "end_time": "2025-09-29T16:44:36.837968",
     "exception": false,
     "start_time": "2025-09-29T16:44:36.802219",
     "status": "completed"
    },
    "tags": []
   },
   "outputs": [
    {
     "data": {
      "text/plain": [
       "DatasetDict({\n",
       "    train: Dataset({\n",
       "        features: ['LLM_Content', 'labels', '__index_level_0__', 'input_ids', 'attention_mask'],\n",
       "        num_rows: 88965\n",
       "    })\n",
       "    val: Dataset({\n",
       "        features: ['LLM_Content', 'labels', '__index_level_0__', 'input_ids', 'attention_mask'],\n",
       "        num_rows: 90\n",
       "    })\n",
       "})"
      ]
     },
     "execution_count": 110,
     "metadata": {},
     "output_type": "execute_result"
    }
   ],
   "source": [
    "datasetDict"
   ]
  },
  {
   "cell_type": "code",
   "execution_count": 111,
   "id": "8f5cb30e",
   "metadata": {
    "execution": {
     "iopub.execute_input": "2025-09-29T16:44:36.899991Z",
     "iopub.status.busy": "2025-09-29T16:44:36.899788Z",
     "iopub.status.idle": "2025-09-29T16:44:36.903988Z",
     "shell.execute_reply": "2025-09-29T16:44:36.903360Z"
    },
    "papermill": {
     "duration": 0.036387,
     "end_time": "2025-09-29T16:44:36.905022",
     "exception": false,
     "start_time": "2025-09-29T16:44:36.868635",
     "status": "completed"
    },
    "tags": []
   },
   "outputs": [
    {
     "data": {
      "text/plain": [
       "DatasetDict({\n",
       "    test: Dataset({\n",
       "        features: ['row_id', 'QuestionId', 'QuestionText', 'MC_Answer', 'StudentExplanation', 'is_correct', 'LLM_Content'],\n",
       "        num_rows: 3\n",
       "    })\n",
       "})"
      ]
     },
     "execution_count": 111,
     "metadata": {},
     "output_type": "execute_result"
    }
   ],
   "source": [
    "testDict = DatasetDict({\n",
    "    \"test\": testDataset\n",
    "    \n",
    "})\n",
    "testDict"
   ]
  },
  {
   "cell_type": "code",
   "execution_count": 112,
   "id": "adba69dd",
   "metadata": {
    "execution": {
     "iopub.execute_input": "2025-09-29T16:44:36.965682Z",
     "iopub.status.busy": "2025-09-29T16:44:36.965260Z",
     "iopub.status.idle": "2025-09-29T16:44:36.969238Z",
     "shell.execute_reply": "2025-09-29T16:44:36.968767Z"
    },
    "papermill": {
     "duration": 0.035323,
     "end_time": "2025-09-29T16:44:36.970211",
     "exception": false,
     "start_time": "2025-09-29T16:44:36.934888",
     "status": "completed"
    },
    "tags": []
   },
   "outputs": [
    {
     "data": {
      "text/plain": [
       "DatasetDict({\n",
       "    test: Dataset({\n",
       "        features: ['row_id', 'Category:Misconception'],\n",
       "        num_rows: 3\n",
       "    })\n",
       "})"
      ]
     },
     "execution_count": 112,
     "metadata": {},
     "output_type": "execute_result"
    }
   ],
   "source": [
    "submitDict = DatasetDict({\n",
    "    \"test\": subDataset\n",
    "    # \"test\": subDataset\n",
    "    \n",
    "})\n",
    "submitDict"
   ]
  },
  {
   "cell_type": "code",
   "execution_count": 113,
   "id": "22b62a3c",
   "metadata": {
    "execution": {
     "iopub.execute_input": "2025-09-29T16:44:37.032156Z",
     "iopub.status.busy": "2025-09-29T16:44:37.031987Z",
     "iopub.status.idle": "2025-09-29T16:44:37.037748Z",
     "shell.execute_reply": "2025-09-29T16:44:37.037088Z"
    },
    "papermill": {
     "duration": 0.037747,
     "end_time": "2025-09-29T16:44:37.038752",
     "exception": false,
     "start_time": "2025-09-29T16:44:37.001005",
     "status": "completed"
    },
    "tags": []
   },
   "outputs": [],
   "source": [
    "# Evaluation Metrics \n",
    "def compute_metric(eval_pred):\n",
    "    logits , labels = eval_pred\n",
    "    # predictions = np.argmax(logits, axis=-1)  # for mult-class\n",
    "    top3_preds = np.argsort(logits, axis=-1)[:, -3:]\n",
    "    match = (top3_preds == labels[:, None])\n",
    "    predictions= top3_preds[:, 2]\n",
    "    acc = (predictions == labels).mean()\n",
    "    f1score  =  f1_score(labels, predictions, average='weighted', zero_division=1)\n",
    "    recallScore = recall_score(labels, predictions,  average='weighted', zero_division=1)\n",
    "    precision = precision_score(labels, predictions,  average='weighted', zero_division=1)\n",
    "    \n",
    "    # for map@3\n",
    "    top3_preds = np.argsort(logits, axis=-1)[:, -3:]\n",
    "    match = (top3_preds == labels[:, None])\n",
    "\n",
    "    # Compute MAP@3 manually\n",
    "    map3 = 0\n",
    "    for i in range(len(labels)):\n",
    "        if match[i, 0]:\n",
    "            map3 += 1.0\n",
    "        elif match[i, 1]:\n",
    "            map3 += 1.0 / 2\n",
    "        elif match[i, 2]:\n",
    "            map3 += 1.0 / 3\n",
    "    map3Score = map3 / len(labels)\n",
    "    # map3List.append(map3Score)\n",
    "    \n",
    "    return {\"accuracy\": acc , \"recall\":  recallScore,  \"precision\":precision, 'f1-score': f1score ,\n",
    "             \"map_3\":map3Score}\n",
    "    \n",
    "    \n",
    "    \n",
    "    "
   ]
  },
  {
   "cell_type": "markdown",
   "id": "4fb59188",
   "metadata": {
    "papermill": {
     "duration": 0.030883,
     "end_time": "2025-09-29T16:44:37.099787",
     "exception": false,
     "start_time": "2025-09-29T16:44:37.068904",
     "status": "completed"
    },
    "tags": []
   },
   "source": [
    "## LoRA fine tuing"
   ]
  },
  {
   "cell_type": "code",
   "execution_count": 114,
   "id": "79d3b4d1",
   "metadata": {
    "execution": {
     "iopub.execute_input": "2025-09-29T16:44:37.160566Z",
     "iopub.status.busy": "2025-09-29T16:44:37.160364Z",
     "iopub.status.idle": "2025-09-29T16:44:37.163856Z",
     "shell.execute_reply": "2025-09-29T16:44:37.163334Z"
    },
    "papermill": {
     "duration": 0.034975,
     "end_time": "2025-09-29T16:44:37.164863",
     "exception": false,
     "start_time": "2025-09-29T16:44:37.129888",
     "status": "completed"
    },
    "tags": []
   },
   "outputs": [],
   "source": [
    "lora_config = LoraConfig(\n",
    "        r=16,\n",
    "        lora_alpha=32,\n",
    "        task_type=\"SEQ_CLS\",  # for Sequence Classification\n",
    "        # task_type=\"CAUSAL_LM\", # for generative task\n",
    "        bias=\"none\",\n",
    "        target_modules = [\"q_proj\", \"o_proj\", \"k_proj\", \"v_proj\",\n",
    "                      \"gate_proj\", \"up_proj\", \"down_proj\"],\n",
    "        lora_dropout= CFG.DROPOUT,\n",
    "    )"
   ]
  },
  {
   "cell_type": "code",
   "execution_count": 115,
   "id": "6039f7e3",
   "metadata": {
    "execution": {
     "iopub.execute_input": "2025-09-29T16:44:37.225679Z",
     "iopub.status.busy": "2025-09-29T16:44:37.225488Z",
     "iopub.status.idle": "2025-09-29T16:44:37.860454Z",
     "shell.execute_reply": "2025-09-29T16:44:37.859765Z"
    },
    "papermill": {
     "duration": 0.666886,
     "end_time": "2025-09-29T16:44:37.861835",
     "exception": false,
     "start_time": "2025-09-29T16:44:37.194949",
     "status": "completed"
    },
    "tags": []
   },
   "outputs": [],
   "source": [
    "# Creat Lora Model\n",
    "model = get_peft_model(model, lora_config)"
   ]
  },
  {
   "cell_type": "code",
   "execution_count": 116,
   "id": "abfbcdb0",
   "metadata": {
    "execution": {
     "iopub.execute_input": "2025-09-29T16:44:37.924167Z",
     "iopub.status.busy": "2025-09-29T16:44:37.923936Z",
     "iopub.status.idle": "2025-09-29T16:44:37.932767Z",
     "shell.execute_reply": "2025-09-29T16:44:37.932104Z"
    },
    "papermill": {
     "duration": 0.040773,
     "end_time": "2025-09-29T16:44:37.934015",
     "exception": false,
     "start_time": "2025-09-29T16:44:37.893242",
     "status": "completed"
    },
    "tags": []
   },
   "outputs": [
    {
     "name": "stdout",
     "output_type": "stream",
     "text": [
      "trainable params: 33,196,544 || all params: 4,055,147,520 || trainable%: 0.8186\n"
     ]
    }
   ],
   "source": [
    "model.print_trainable_parameters()"
   ]
  },
  {
   "cell_type": "code",
   "execution_count": 117,
   "id": "9648b8d0",
   "metadata": {
    "execution": {
     "iopub.execute_input": "2025-09-29T16:44:37.995396Z",
     "iopub.status.busy": "2025-09-29T16:44:37.995196Z",
     "iopub.status.idle": "2025-09-29T16:44:37.999181Z",
     "shell.execute_reply": "2025-09-29T16:44:37.998647Z"
    },
    "papermill": {
     "duration": 0.035388,
     "end_time": "2025-09-29T16:44:38.000207",
     "exception": false,
     "start_time": "2025-09-29T16:44:37.964819",
     "status": "completed"
    },
    "tags": []
   },
   "outputs": [
    {
     "data": {
      "text/plain": [
       "'0.11.4'"
      ]
     },
     "execution_count": 117,
     "metadata": {},
     "output_type": "execute_result"
    }
   ],
   "source": [
    "import trl\n",
    "trl.__version__"
   ]
  },
  {
   "cell_type": "code",
   "execution_count": 118,
   "id": "75c0a48b",
   "metadata": {
    "execution": {
     "iopub.execute_input": "2025-09-29T16:44:38.061664Z",
     "iopub.status.busy": "2025-09-29T16:44:38.061472Z",
     "iopub.status.idle": "2025-09-29T16:44:38.065311Z",
     "shell.execute_reply": "2025-09-29T16:44:38.064832Z"
    },
    "papermill": {
     "duration": 0.035672,
     "end_time": "2025-09-29T16:44:38.066324",
     "exception": false,
     "start_time": "2025-09-29T16:44:38.030652",
     "status": "completed"
    },
    "tags": []
   },
   "outputs": [
    {
     "data": {
      "text/plain": [
       "0.013"
      ]
     },
     "execution_count": 118,
     "metadata": {},
     "output_type": "execute_result"
    }
   ],
   "source": [
    " CFG.maxEpoch"
   ]
  },
  {
   "cell_type": "code",
   "execution_count": 119,
   "id": "e3bf852c",
   "metadata": {
    "execution": {
     "iopub.execute_input": "2025-09-29T16:44:38.130426Z",
     "iopub.status.busy": "2025-09-29T16:44:38.130228Z",
     "iopub.status.idle": "2025-09-29T16:44:38.134768Z",
     "shell.execute_reply": "2025-09-29T16:44:38.134157Z"
    },
    "papermill": {
     "duration": 0.038336,
     "end_time": "2025-09-29T16:44:38.135677",
     "exception": false,
     "start_time": "2025-09-29T16:44:38.097341",
     "status": "completed"
    },
    "tags": []
   },
   "outputs": [
    {
     "name": "stdout",
     "output_type": "stream",
     "text": [
      "BATCH_SIZE: 9, N_SAMPLES: 88965, STEPS_PER_EPOCH: 9885\n",
      "NUM_WARMUP_STEPS: 6, TOTAL_STEPS: 128\n",
      "Val Step per epoch: 10\n"
     ]
    }
   ],
   "source": [
    "N_SAMPLES = len(datasetDict[\"train\"])  # Use train_df after the split\n",
    "STEPS_PER_EPOCH = (N_SAMPLES // CFG.per_device_train_batch_size ) #* CFG.maxEpoch\n",
    "VAL_STEPS_PER_EPOCH = len(datasetDict[\"val\"]) // CFG.per_device_eval_batch_size\n",
    "TOTAL_STEPS = int(STEPS_PER_EPOCH * CFG.maxEpoch)\n",
    "NUM_WARMUP_STEPS = int(TOTAL_STEPS * 0.05)\n",
    "\n",
    "print(f'BATCH_SIZE: {CFG.per_device_train_batch_size}, N_SAMPLES: {N_SAMPLES}, STEPS_PER_EPOCH: {STEPS_PER_EPOCH}')\n",
    "print(f'NUM_WARMUP_STEPS: {NUM_WARMUP_STEPS}, TOTAL_STEPS: {TOTAL_STEPS}')\n",
    "print(f\"Val Step per epoch: {VAL_STEPS_PER_EPOCH}\")\n"
   ]
  },
  {
   "cell_type": "code",
   "execution_count": 120,
   "id": "c67ffd89",
   "metadata": {
    "execution": {
     "iopub.execute_input": "2025-09-29T16:44:38.196842Z",
     "iopub.status.busy": "2025-09-29T16:44:38.196638Z",
     "iopub.status.idle": "2025-09-29T16:44:38.199257Z",
     "shell.execute_reply": "2025-09-29T16:44:38.198714Z"
    },
    "papermill": {
     "duration": 0.03439,
     "end_time": "2025-09-29T16:44:38.200262",
     "exception": false,
     "start_time": "2025-09-29T16:44:38.165872",
     "status": "completed"
    },
    "tags": []
   },
   "outputs": [],
   "source": [
    "# import deepspeed\n",
    "# deepspeed.__version__"
   ]
  },
  {
   "cell_type": "code",
   "execution_count": 121,
   "id": "61a02884",
   "metadata": {
    "execution": {
     "iopub.execute_input": "2025-09-29T16:44:38.262238Z",
     "iopub.status.busy": "2025-09-29T16:44:38.262034Z",
     "iopub.status.idle": "2025-09-29T16:44:38.266000Z",
     "shell.execute_reply": "2025-09-29T16:44:38.265439Z"
    },
    "papermill": {
     "duration": 0.036383,
     "end_time": "2025-09-29T16:44:38.267075",
     "exception": false,
     "start_time": "2025-09-29T16:44:38.230692",
     "status": "completed"
    },
    "tags": []
   },
   "outputs": [
    {
     "data": {
      "text/plain": [
       "'1.8.1'"
      ]
     },
     "execution_count": 121,
     "metadata": {},
     "output_type": "execute_result"
    }
   ],
   "source": [
    "import accelerate\n",
    "accelerate.__version__"
   ]
  },
  {
   "cell_type": "markdown",
   "id": "1a1b010a",
   "metadata": {
    "papermill": {
     "duration": 0.03075,
     "end_time": "2025-09-29T16:44:38.328187",
     "exception": false,
     "start_time": "2025-09-29T16:44:38.297437",
     "status": "completed"
    },
    "tags": []
   },
   "source": [
    "## STF Trainer Parameter"
   ]
  },
  {
   "cell_type": "code",
   "execution_count": 122,
   "id": "8f29db82",
   "metadata": {
    "execution": {
     "iopub.execute_input": "2025-09-29T16:44:38.392489Z",
     "iopub.status.busy": "2025-09-29T16:44:38.392213Z",
     "iopub.status.idle": "2025-09-29T16:44:38.428483Z",
     "shell.execute_reply": "2025-09-29T16:44:38.427830Z"
    },
    "papermill": {
     "duration": 0.071462,
     "end_time": "2025-09-29T16:44:38.430218",
     "exception": false,
     "start_time": "2025-09-29T16:44:38.358756",
     "status": "completed"
    },
    "tags": []
   },
   "outputs": [],
   "source": [
    "from trl import SFTTrainer, SFTConfig\n",
    "torch_dtype = model.dtype\n",
    "trainArg = SFTConfig(\n",
    "    output_dir= \"kaggle/working\",\n",
    "    # max_length= CFG.maxLength, # old version trl\n",
    "    max_seq_length = CFG.maxLength, # new version trl\n",
    "    per_device_train_batch_size =CFG.per_device_train_batch_size,\n",
    "    per_device_eval_batch_size = CFG.per_device_eval_batch_size,\n",
    "    gradient_accumulation_steps = CFG.gradient_accumulation_steps,\n",
    "    eval_strategy= \"steps\",\n",
    "    save_strategy= \"steps\",\n",
    "    warmup_steps= NUM_WARMUP_STEPS, #CFG.warmup_steps,\n",
    "    max_steps = TOTAL_STEPS,  #CFG.maxTrainStep, # set max train step size\n",
    "    learning_rate=CFG.learning_rate,\n",
    "    lr_scheduler_type=\"cosine\", #\"linear\", #\"cosine\",\n",
    "    save_total_limit=2,\n",
    "    fp16=True if torch_dtype == torch.float16 else False,   # use float16 precision ,  # INFER WITH FP16 BECAUSE KAGGLE IS T4 GPU\n",
    "    bf16=True if torch_dtype == torch.bfloat16 else False,  # use bfloat16 precision, TRAIN WITH BF16 IF LOCAL GPU IS NEWER GPU  \n",
    "    # fp16=True,\n",
    "    logging_steps= CFG.evalSteps,\n",
    "    eval_steps = CFG.evalSteps,\n",
    "    optim=\"adamw_8bit\",  #\"paged_adamw_8bit\",\n",
    "    report_to = CFG.reportTo,\n",
    "    do_eval=True,                # Perform evaluation at the end of training\n",
    "    max_grad_norm=1.0,\n",
    "    weight_decay=CFG.weight_decay,\n",
    "    metric_for_best_model=\"map_3\",\n",
    "    greater_is_better=True,\n",
    "    # memory optimial (reduce GPU memory but slowdown train speed )\n",
    "    # gradient_checkpointing=True,\n",
    "    # gradient_checkpointing_kwargs={'use_reentrant':False}, # for Mulitple -GPU\n",
    "    load_best_model_at_end=True,\n",
    "    # deepspeed=CFG.deepspeedConfigFile, # config error\n",
    "    # label_names = targetClasses,\n",
    "\n",
    "    \n",
    ")"
   ]
  },
  {
   "cell_type": "code",
   "execution_count": 123,
   "id": "1d6fdde0",
   "metadata": {
    "execution": {
     "iopub.execute_input": "2025-09-29T16:44:38.500635Z",
     "iopub.status.busy": "2025-09-29T16:44:38.500194Z",
     "iopub.status.idle": "2025-09-29T16:44:38.504448Z",
     "shell.execute_reply": "2025-09-29T16:44:38.503821Z"
    },
    "papermill": {
     "duration": 0.040459,
     "end_time": "2025-09-29T16:44:38.505461",
     "exception": false,
     "start_time": "2025-09-29T16:44:38.465002",
     "status": "completed"
    },
    "tags": []
   },
   "outputs": [
    {
     "data": {
      "text/plain": [
       "True"
      ]
     },
     "execution_count": 123,
     "metadata": {},
     "output_type": "execute_result"
    }
   ],
   "source": [
    "trainArg.bf16 "
   ]
  },
  {
   "cell_type": "code",
   "execution_count": 124,
   "id": "0f3254c5",
   "metadata": {
    "execution": {
     "iopub.execute_input": "2025-09-29T16:44:38.572257Z",
     "iopub.status.busy": "2025-09-29T16:44:38.571629Z",
     "iopub.status.idle": "2025-09-29T16:44:38.575075Z",
     "shell.execute_reply": "2025-09-29T16:44:38.574367Z"
    },
    "papermill": {
     "duration": 0.035868,
     "end_time": "2025-09-29T16:44:38.576178",
     "exception": false,
     "start_time": "2025-09-29T16:44:38.540310",
     "status": "completed"
    },
    "tags": []
   },
   "outputs": [],
   "source": [
    "from transformers import DataCollatorWithPadding"
   ]
  },
  {
   "cell_type": "code",
   "execution_count": 125,
   "id": "b123621b",
   "metadata": {
    "execution": {
     "iopub.execute_input": "2025-09-29T16:44:38.639011Z",
     "iopub.status.busy": "2025-09-29T16:44:38.638590Z",
     "iopub.status.idle": "2025-09-29T16:44:39.105821Z",
     "shell.execute_reply": "2025-09-29T16:44:39.104993Z"
    },
    "papermill": {
     "duration": 0.499829,
     "end_time": "2025-09-29T16:44:39.107338",
     "exception": false,
     "start_time": "2025-09-29T16:44:38.607509",
     "status": "completed"
    },
    "tags": []
   },
   "outputs": [
    {
     "name": "stderr",
     "output_type": "stream",
     "text": [
      "/usr/local/lib/python3.11/dist-packages/trl/trainer/sft_trainer.py:401: FutureWarning: `tokenizer` is deprecated and will be removed in version 5.0.0 for `SFTTrainer.__init__`. Use `processing_class` instead.\n",
      "  super().__init__(\n",
      "No label_names provided for model class `PeftModelForSequenceClassification`. Since `PeftModel` hides base models input arguments, if label_names is not given, label_names can't be set automatically within `Trainer`. Note that empty label_names list will be used instead.\n"
     ]
    }
   ],
   "source": [
    "data_collator = DataCollatorWithPadding(tokenizer=tokenizer)\n",
    "\n",
    "trainer= SFTTrainer(\n",
    "    model=model,\n",
    "    train_dataset=datasetDict[\"train\"],\n",
    "    eval_dataset = datasetDict[\"val\"],\n",
    "    args=trainArg,\n",
    "    peft_config = lora_config,\n",
    "    # formatting_func=formatFuct,\n",
    "    data_collator = data_collator, \n",
    "    compute_metrics= compute_metric,\n",
    "    \n",
    ")"
   ]
  },
  {
   "cell_type": "code",
   "execution_count": 126,
   "id": "a47f119c",
   "metadata": {
    "execution": {
     "iopub.execute_input": "2025-09-29T16:44:39.171071Z",
     "iopub.status.busy": "2025-09-29T16:44:39.170663Z",
     "iopub.status.idle": "2025-09-29T16:44:39.174128Z",
     "shell.execute_reply": "2025-09-29T16:44:39.173453Z"
    },
    "papermill": {
     "duration": 0.035849,
     "end_time": "2025-09-29T16:44:39.175159",
     "exception": false,
     "start_time": "2025-09-29T16:44:39.139310",
     "status": "completed"
    },
    "tags": []
   },
   "outputs": [],
   "source": [
    "# Fix Batch size >1 , not define pad token id issues\n",
    "eos_token_id=tokenizer.eos_token_id\n",
    "model.config.use_cache=False\n",
    "model.config.pad_token_id = tokenizer.pad_token_id"
   ]
  },
  {
   "cell_type": "code",
   "execution_count": 127,
   "id": "2c57435e",
   "metadata": {
    "execution": {
     "iopub.execute_input": "2025-09-29T16:44:39.237835Z",
     "iopub.status.busy": "2025-09-29T16:44:39.237238Z",
     "iopub.status.idle": "2025-09-29T16:44:42.583034Z",
     "shell.execute_reply": "2025-09-29T16:44:42.582237Z"
    },
    "papermill": {
     "duration": 3.37841,
     "end_time": "2025-09-29T16:44:42.584515",
     "exception": false,
     "start_time": "2025-09-29T16:44:39.206105",
     "status": "completed"
    },
    "tags": []
   },
   "outputs": [],
   "source": [
    "clearMemory() # clear memory before training"
   ]
  },
  {
   "cell_type": "code",
   "execution_count": 128,
   "id": "8913b5ef",
   "metadata": {
    "execution": {
     "iopub.execute_input": "2025-09-29T16:44:42.690923Z",
     "iopub.status.busy": "2025-09-29T16:44:42.690336Z",
     "iopub.status.idle": "2025-09-29T19:33:45.029511Z",
     "shell.execute_reply": "2025-09-29T19:33:45.028928Z"
    },
    "papermill": {
     "duration": 10142.371559,
     "end_time": "2025-09-29T19:33:45.030760",
     "exception": false,
     "start_time": "2025-09-29T16:44:42.659201",
     "status": "completed"
    },
    "tags": []
   },
   "outputs": [
    {
     "data": {
      "text/html": [
       "\n",
       "    <div>\n",
       "      \n",
       "      <progress value='128' max='128' style='width:300px; height:20px; vertical-align: middle;'></progress>\n",
       "      [128/128 2:47:53, Epoch 0/1]\n",
       "    </div>\n",
       "    <table border=\"1\" class=\"dataframe\">\n",
       "  <thead>\n",
       " <tr style=\"text-align: left;\">\n",
       "      <th>Step</th>\n",
       "      <th>Training Loss</th>\n",
       "      <th>Validation Loss</th>\n",
       "      <th>Accuracy</th>\n",
       "      <th>Recall</th>\n",
       "      <th>Precision</th>\n",
       "      <th>F1-score</th>\n",
       "      <th>Map 3</th>\n",
       "    </tr>\n",
       "  </thead>\n",
       "  <tbody>\n",
       "    <tr>\n",
       "      <td>20</td>\n",
       "      <td>5.158000</td>\n",
       "      <td>4.018056</td>\n",
       "      <td>0.155556</td>\n",
       "      <td>0.155556</td>\n",
       "      <td>0.868642</td>\n",
       "      <td>0.041880</td>\n",
       "      <td>0.085185</td>\n",
       "    </tr>\n",
       "    <tr>\n",
       "      <td>40</td>\n",
       "      <td>3.508300</td>\n",
       "      <td>2.836545</td>\n",
       "      <td>0.177778</td>\n",
       "      <td>0.177778</td>\n",
       "      <td>0.720052</td>\n",
       "      <td>0.112522</td>\n",
       "      <td>0.231481</td>\n",
       "    </tr>\n",
       "    <tr>\n",
       "      <td>60</td>\n",
       "      <td>1.971700</td>\n",
       "      <td>1.618443</td>\n",
       "      <td>0.455556</td>\n",
       "      <td>0.455556</td>\n",
       "      <td>0.815926</td>\n",
       "      <td>0.383483</td>\n",
       "      <td>0.407407</td>\n",
       "    </tr>\n",
       "    <tr>\n",
       "      <td>80</td>\n",
       "      <td>1.182900</td>\n",
       "      <td>0.916125</td>\n",
       "      <td>0.633333</td>\n",
       "      <td>0.633333</td>\n",
       "      <td>0.874691</td>\n",
       "      <td>0.637331</td>\n",
       "      <td>0.411111</td>\n",
       "    </tr>\n",
       "    <tr>\n",
       "      <td>100</td>\n",
       "      <td>0.676300</td>\n",
       "      <td>0.555768</td>\n",
       "      <td>0.811111</td>\n",
       "      <td>0.811111</td>\n",
       "      <td>0.913399</td>\n",
       "      <td>0.795651</td>\n",
       "      <td>0.381481</td>\n",
       "    </tr>\n",
       "    <tr>\n",
       "      <td>120</td>\n",
       "      <td>0.555500</td>\n",
       "      <td>0.435229</td>\n",
       "      <td>0.877778</td>\n",
       "      <td>0.877778</td>\n",
       "      <td>0.928241</td>\n",
       "      <td>0.875556</td>\n",
       "      <td>0.375926</td>\n",
       "    </tr>\n",
       "  </tbody>\n",
       "</table><p>"
      ],
      "text/plain": [
       "<IPython.core.display.HTML object>"
      ]
     },
     "metadata": {},
     "output_type": "display_data"
    },
    {
     "data": {
      "text/plain": [
       "TrainOutput(global_step=128, training_loss=2.0714421048760414, metrics={'train_runtime': 10141.8683, 'train_samples_per_second': 0.454, 'train_steps_per_second': 0.013, 'total_flos': 2.595372971065344e+16, 'train_loss': 2.0714421048760414, 'epoch': 0.05179564997470915})"
      ]
     },
     "execution_count": 128,
     "metadata": {},
     "output_type": "execute_result"
    }
   ],
   "source": [
    "# %%time\n",
    "trainer.train()"
   ]
  },
  {
   "cell_type": "code",
   "execution_count": 129,
   "id": "e91da8f7",
   "metadata": {
    "execution": {
     "iopub.execute_input": "2025-09-29T19:33:45.094790Z",
     "iopub.status.busy": "2025-09-29T19:33:45.094528Z",
     "iopub.status.idle": "2025-09-29T19:33:45.360816Z",
     "shell.execute_reply": "2025-09-29T19:33:45.360212Z"
    },
    "papermill": {
     "duration": 0.299312,
     "end_time": "2025-09-29T19:33:45.362223",
     "exception": false,
     "start_time": "2025-09-29T19:33:45.062911",
     "status": "completed"
    },
    "tags": []
   },
   "outputs": [],
   "source": [
    "model.save_pretrained(\"student-math-llm-Fine-tune\") # for peft fine tuning model without trainer\n",
    "# trainer.save_model(\"student-math-llm-Fine-tune\") # save model with full trainer "
   ]
  },
  {
   "cell_type": "code",
   "execution_count": 130,
   "id": "9d9f8b1e",
   "metadata": {
    "execution": {
     "iopub.execute_input": "2025-09-29T19:33:45.427944Z",
     "iopub.status.busy": "2025-09-29T19:33:45.427672Z",
     "iopub.status.idle": "2025-09-29T19:33:52.416252Z",
     "shell.execute_reply": "2025-09-29T19:33:52.415292Z"
    },
    "papermill": {
     "duration": 7.022608,
     "end_time": "2025-09-29T19:33:52.417652",
     "exception": false,
     "start_time": "2025-09-29T19:33:45.395044",
     "status": "completed"
    },
    "tags": []
   },
   "outputs": [
    {
     "name": "stdout",
     "output_type": "stream",
     "text": [
      "  adding: kaggle/working/student-math-llm-Fine-tune/ (stored 0%)\r\n",
      "  adding: kaggle/working/student-math-llm-Fine-tune/README.md (deflated 66%)\r\n",
      "  adding: kaggle/working/student-math-llm-Fine-tune/adapter_config.json (deflated 56%)\r\n",
      "  adding: kaggle/working/student-math-llm-Fine-tune/adapter_model.safetensors"
     ]
    },
    {
     "name": "stderr",
     "output_type": "stream",
     "text": [
      "huggingface/tokenizers: The current process just got forked, after parallelism has already been used. Disabling parallelism to avoid deadlocks...\n",
      "To disable this warning, you can either:\n",
      "\t- Avoid using `tokenizers` before the fork if possible\n",
      "\t- Explicitly set the environment variable TOKENIZERS_PARALLELISM=(true | false)\n"
     ]
    },
    {
     "name": "stdout",
     "output_type": "stream",
     "text": [
      " (deflated 8%)\r\n"
     ]
    }
   ],
   "source": [
    "# for generate downloadable zip file \n",
    "!zip -r student-math-llm-Fine-tune.zip /kaggle/working/student-math-llm-Fine-tune # for peft\n"
   ]
  },
  {
   "cell_type": "code",
   "execution_count": 131,
   "id": "48637688",
   "metadata": {
    "execution": {
     "iopub.execute_input": "2025-09-29T19:33:52.482036Z",
     "iopub.status.busy": "2025-09-29T19:33:52.481779Z",
     "iopub.status.idle": "2025-09-29T19:33:52.505787Z",
     "shell.execute_reply": "2025-09-29T19:33:52.505022Z"
    },
    "papermill": {
     "duration": 0.056817,
     "end_time": "2025-09-29T19:33:52.506902",
     "exception": false,
     "start_time": "2025-09-29T19:33:52.450085",
     "status": "completed"
    },
    "tags": []
   },
   "outputs": [
    {
     "name": "stderr",
     "output_type": "stream",
     "text": [
      "/usr/local/lib/python3.11/dist-packages/pandas/io/formats/format.py:1458: RuntimeWarning: invalid value encountered in greater\n",
      "  has_large_values = (abs_vals > 1e6).any()\n",
      "/usr/local/lib/python3.11/dist-packages/pandas/io/formats/format.py:1459: RuntimeWarning: invalid value encountered in less\n",
      "  has_small_values = ((abs_vals < 10 ** (-self.digits)) & (abs_vals > 0)).any()\n",
      "/usr/local/lib/python3.11/dist-packages/pandas/io/formats/format.py:1459: RuntimeWarning: invalid value encountered in greater\n",
      "  has_small_values = ((abs_vals < 10 ** (-self.digits)) & (abs_vals > 0)).any()\n"
     ]
    },
    {
     "data": {
      "text/html": [
       "<div>\n",
       "<style scoped>\n",
       "    .dataframe tbody tr th:only-of-type {\n",
       "        vertical-align: middle;\n",
       "    }\n",
       "\n",
       "    .dataframe tbody tr th {\n",
       "        vertical-align: top;\n",
       "    }\n",
       "\n",
       "    .dataframe thead th {\n",
       "        text-align: right;\n",
       "    }\n",
       "</style>\n",
       "<table border=\"1\" class=\"dataframe\">\n",
       "  <thead>\n",
       "    <tr style=\"text-align: right;\">\n",
       "      <th></th>\n",
       "      <th>loss</th>\n",
       "      <th>grad_norm</th>\n",
       "      <th>learning_rate</th>\n",
       "      <th>epoch</th>\n",
       "      <th>step</th>\n",
       "      <th>eval_loss</th>\n",
       "      <th>eval_accuracy</th>\n",
       "      <th>eval_recall</th>\n",
       "      <th>eval_precision</th>\n",
       "      <th>eval_f1-score</th>\n",
       "      <th>eval_map_3</th>\n",
       "      <th>eval_runtime</th>\n",
       "      <th>eval_samples_per_second</th>\n",
       "      <th>eval_steps_per_second</th>\n",
       "      <th>train_runtime</th>\n",
       "      <th>train_samples_per_second</th>\n",
       "      <th>train_steps_per_second</th>\n",
       "      <th>total_flos</th>\n",
       "      <th>train_loss</th>\n",
       "    </tr>\n",
       "  </thead>\n",
       "  <tbody>\n",
       "    <tr>\n",
       "      <th>0</th>\n",
       "      <td>5.1580</td>\n",
       "      <td>7.427052</td>\n",
       "      <td>0.000486</td>\n",
       "      <td>0.008093</td>\n",
       "      <td>20</td>\n",
       "      <td>NaN</td>\n",
       "      <td>NaN</td>\n",
       "      <td>NaN</td>\n",
       "      <td>NaN</td>\n",
       "      <td>NaN</td>\n",
       "      <td>NaN</td>\n",
       "      <td>NaN</td>\n",
       "      <td>NaN</td>\n",
       "      <td>NaN</td>\n",
       "      <td>NaN</td>\n",
       "      <td>NaN</td>\n",
       "      <td>NaN</td>\n",
       "      <td>NaN</td>\n",
       "      <td>NaN</td>\n",
       "    </tr>\n",
       "    <tr>\n",
       "      <th>1</th>\n",
       "      <td>NaN</td>\n",
       "      <td>NaN</td>\n",
       "      <td>NaN</td>\n",
       "      <td>0.008093</td>\n",
       "      <td>20</td>\n",
       "      <td>4.018056</td>\n",
       "      <td>0.155556</td>\n",
       "      <td>0.155556</td>\n",
       "      <td>0.868642</td>\n",
       "      <td>0.041880</td>\n",
       "      <td>0.085185</td>\n",
       "      <td>85.7171</td>\n",
       "      <td>1.050</td>\n",
       "      <td>0.117</td>\n",
       "      <td>NaN</td>\n",
       "      <td>NaN</td>\n",
       "      <td>NaN</td>\n",
       "      <td>NaN</td>\n",
       "      <td>NaN</td>\n",
       "    </tr>\n",
       "    <tr>\n",
       "      <th>2</th>\n",
       "      <td>3.5083</td>\n",
       "      <td>17.419308</td>\n",
       "      <td>0.000415</td>\n",
       "      <td>0.016186</td>\n",
       "      <td>40</td>\n",
       "      <td>NaN</td>\n",
       "      <td>NaN</td>\n",
       "      <td>NaN</td>\n",
       "      <td>NaN</td>\n",
       "      <td>NaN</td>\n",
       "      <td>NaN</td>\n",
       "      <td>NaN</td>\n",
       "      <td>NaN</td>\n",
       "      <td>NaN</td>\n",
       "      <td>NaN</td>\n",
       "      <td>NaN</td>\n",
       "      <td>NaN</td>\n",
       "      <td>NaN</td>\n",
       "      <td>NaN</td>\n",
       "    </tr>\n",
       "    <tr>\n",
       "      <th>3</th>\n",
       "      <td>NaN</td>\n",
       "      <td>NaN</td>\n",
       "      <td>NaN</td>\n",
       "      <td>0.016186</td>\n",
       "      <td>40</td>\n",
       "      <td>2.836545</td>\n",
       "      <td>0.177778</td>\n",
       "      <td>0.177778</td>\n",
       "      <td>0.720052</td>\n",
       "      <td>0.112522</td>\n",
       "      <td>0.231481</td>\n",
       "      <td>85.9995</td>\n",
       "      <td>1.047</td>\n",
       "      <td>0.116</td>\n",
       "      <td>NaN</td>\n",
       "      <td>NaN</td>\n",
       "      <td>NaN</td>\n",
       "      <td>NaN</td>\n",
       "      <td>NaN</td>\n",
       "    </tr>\n",
       "    <tr>\n",
       "      <th>4</th>\n",
       "      <td>1.9717</td>\n",
       "      <td>9.943343</td>\n",
       "      <td>0.000301</td>\n",
       "      <td>0.024279</td>\n",
       "      <td>60</td>\n",
       "      <td>NaN</td>\n",
       "      <td>NaN</td>\n",
       "      <td>NaN</td>\n",
       "      <td>NaN</td>\n",
       "      <td>NaN</td>\n",
       "      <td>NaN</td>\n",
       "      <td>NaN</td>\n",
       "      <td>NaN</td>\n",
       "      <td>NaN</td>\n",
       "      <td>NaN</td>\n",
       "      <td>NaN</td>\n",
       "      <td>NaN</td>\n",
       "      <td>NaN</td>\n",
       "      <td>NaN</td>\n",
       "    </tr>\n",
       "    <tr>\n",
       "      <th>5</th>\n",
       "      <td>NaN</td>\n",
       "      <td>NaN</td>\n",
       "      <td>NaN</td>\n",
       "      <td>0.024279</td>\n",
       "      <td>60</td>\n",
       "      <td>1.618443</td>\n",
       "      <td>0.455556</td>\n",
       "      <td>0.455556</td>\n",
       "      <td>0.815926</td>\n",
       "      <td>0.383483</td>\n",
       "      <td>0.407407</td>\n",
       "      <td>85.7672</td>\n",
       "      <td>1.049</td>\n",
       "      <td>0.117</td>\n",
       "      <td>NaN</td>\n",
       "      <td>NaN</td>\n",
       "      <td>NaN</td>\n",
       "      <td>NaN</td>\n",
       "      <td>NaN</td>\n",
       "    </tr>\n",
       "    <tr>\n",
       "      <th>6</th>\n",
       "      <td>1.1829</td>\n",
       "      <td>8.706386</td>\n",
       "      <td>0.000174</td>\n",
       "      <td>0.032372</td>\n",
       "      <td>80</td>\n",
       "      <td>NaN</td>\n",
       "      <td>NaN</td>\n",
       "      <td>NaN</td>\n",
       "      <td>NaN</td>\n",
       "      <td>NaN</td>\n",
       "      <td>NaN</td>\n",
       "      <td>NaN</td>\n",
       "      <td>NaN</td>\n",
       "      <td>NaN</td>\n",
       "      <td>NaN</td>\n",
       "      <td>NaN</td>\n",
       "      <td>NaN</td>\n",
       "      <td>NaN</td>\n",
       "      <td>NaN</td>\n",
       "    </tr>\n",
       "    <tr>\n",
       "      <th>7</th>\n",
       "      <td>NaN</td>\n",
       "      <td>NaN</td>\n",
       "      <td>NaN</td>\n",
       "      <td>0.032372</td>\n",
       "      <td>80</td>\n",
       "      <td>0.916125</td>\n",
       "      <td>0.633333</td>\n",
       "      <td>0.633333</td>\n",
       "      <td>0.874691</td>\n",
       "      <td>0.637331</td>\n",
       "      <td>0.411111</td>\n",
       "      <td>85.8699</td>\n",
       "      <td>1.048</td>\n",
       "      <td>0.116</td>\n",
       "      <td>NaN</td>\n",
       "      <td>NaN</td>\n",
       "      <td>NaN</td>\n",
       "      <td>NaN</td>\n",
       "      <td>NaN</td>\n",
       "    </tr>\n",
       "    <tr>\n",
       "      <th>8</th>\n",
       "      <td>0.6763</td>\n",
       "      <td>7.775350</td>\n",
       "      <td>0.000067</td>\n",
       "      <td>0.040465</td>\n",
       "      <td>100</td>\n",
       "      <td>NaN</td>\n",
       "      <td>NaN</td>\n",
       "      <td>NaN</td>\n",
       "      <td>NaN</td>\n",
       "      <td>NaN</td>\n",
       "      <td>NaN</td>\n",
       "      <td>NaN</td>\n",
       "      <td>NaN</td>\n",
       "      <td>NaN</td>\n",
       "      <td>NaN</td>\n",
       "      <td>NaN</td>\n",
       "      <td>NaN</td>\n",
       "      <td>NaN</td>\n",
       "      <td>NaN</td>\n",
       "    </tr>\n",
       "    <tr>\n",
       "      <th>9</th>\n",
       "      <td>NaN</td>\n",
       "      <td>NaN</td>\n",
       "      <td>NaN</td>\n",
       "      <td>0.040465</td>\n",
       "      <td>100</td>\n",
       "      <td>0.555768</td>\n",
       "      <td>0.811111</td>\n",
       "      <td>0.811111</td>\n",
       "      <td>0.913399</td>\n",
       "      <td>0.795651</td>\n",
       "      <td>0.381481</td>\n",
       "      <td>85.9943</td>\n",
       "      <td>1.047</td>\n",
       "      <td>0.116</td>\n",
       "      <td>NaN</td>\n",
       "      <td>NaN</td>\n",
       "      <td>NaN</td>\n",
       "      <td>NaN</td>\n",
       "      <td>NaN</td>\n",
       "    </tr>\n",
       "    <tr>\n",
       "      <th>10</th>\n",
       "      <td>0.5555</td>\n",
       "      <td>7.785251</td>\n",
       "      <td>0.000007</td>\n",
       "      <td>0.048558</td>\n",
       "      <td>120</td>\n",
       "      <td>NaN</td>\n",
       "      <td>NaN</td>\n",
       "      <td>NaN</td>\n",
       "      <td>NaN</td>\n",
       "      <td>NaN</td>\n",
       "      <td>NaN</td>\n",
       "      <td>NaN</td>\n",
       "      <td>NaN</td>\n",
       "      <td>NaN</td>\n",
       "      <td>NaN</td>\n",
       "      <td>NaN</td>\n",
       "      <td>NaN</td>\n",
       "      <td>NaN</td>\n",
       "      <td>NaN</td>\n",
       "    </tr>\n",
       "    <tr>\n",
       "      <th>11</th>\n",
       "      <td>NaN</td>\n",
       "      <td>NaN</td>\n",
       "      <td>NaN</td>\n",
       "      <td>0.048558</td>\n",
       "      <td>120</td>\n",
       "      <td>0.435229</td>\n",
       "      <td>0.877778</td>\n",
       "      <td>0.877778</td>\n",
       "      <td>0.928241</td>\n",
       "      <td>0.875556</td>\n",
       "      <td>0.375926</td>\n",
       "      <td>86.0370</td>\n",
       "      <td>1.046</td>\n",
       "      <td>0.116</td>\n",
       "      <td>NaN</td>\n",
       "      <td>NaN</td>\n",
       "      <td>NaN</td>\n",
       "      <td>NaN</td>\n",
       "      <td>NaN</td>\n",
       "    </tr>\n",
       "    <tr>\n",
       "      <th>12</th>\n",
       "      <td>NaN</td>\n",
       "      <td>NaN</td>\n",
       "      <td>NaN</td>\n",
       "      <td>0.051796</td>\n",
       "      <td>128</td>\n",
       "      <td>NaN</td>\n",
       "      <td>NaN</td>\n",
       "      <td>NaN</td>\n",
       "      <td>NaN</td>\n",
       "      <td>NaN</td>\n",
       "      <td>NaN</td>\n",
       "      <td>NaN</td>\n",
       "      <td>NaN</td>\n",
       "      <td>NaN</td>\n",
       "      <td>10141.8683</td>\n",
       "      <td>0.454</td>\n",
       "      <td>0.013</td>\n",
       "      <td>2.595373e+16</td>\n",
       "      <td>2.071442</td>\n",
       "    </tr>\n",
       "  </tbody>\n",
       "</table>\n",
       "</div>"
      ],
      "text/plain": [
       "      loss  grad_norm  learning_rate     epoch  step  eval_loss  \\\n",
       "0   5.1580   7.427052       0.000486  0.008093    20        NaN   \n",
       "1      NaN        NaN            NaN  0.008093    20   4.018056   \n",
       "2   3.5083  17.419308       0.000415  0.016186    40        NaN   \n",
       "3      NaN        NaN            NaN  0.016186    40   2.836545   \n",
       "4   1.9717   9.943343       0.000301  0.024279    60        NaN   \n",
       "5      NaN        NaN            NaN  0.024279    60   1.618443   \n",
       "6   1.1829   8.706386       0.000174  0.032372    80        NaN   \n",
       "7      NaN        NaN            NaN  0.032372    80   0.916125   \n",
       "8   0.6763   7.775350       0.000067  0.040465   100        NaN   \n",
       "9      NaN        NaN            NaN  0.040465   100   0.555768   \n",
       "10  0.5555   7.785251       0.000007  0.048558   120        NaN   \n",
       "11     NaN        NaN            NaN  0.048558   120   0.435229   \n",
       "12     NaN        NaN            NaN  0.051796   128        NaN   \n",
       "\n",
       "    eval_accuracy  eval_recall  eval_precision  eval_f1-score  eval_map_3  \\\n",
       "0             NaN          NaN             NaN            NaN         NaN   \n",
       "1        0.155556     0.155556        0.868642       0.041880    0.085185   \n",
       "2             NaN          NaN             NaN            NaN         NaN   \n",
       "3        0.177778     0.177778        0.720052       0.112522    0.231481   \n",
       "4             NaN          NaN             NaN            NaN         NaN   \n",
       "5        0.455556     0.455556        0.815926       0.383483    0.407407   \n",
       "6             NaN          NaN             NaN            NaN         NaN   \n",
       "7        0.633333     0.633333        0.874691       0.637331    0.411111   \n",
       "8             NaN          NaN             NaN            NaN         NaN   \n",
       "9        0.811111     0.811111        0.913399       0.795651    0.381481   \n",
       "10            NaN          NaN             NaN            NaN         NaN   \n",
       "11       0.877778     0.877778        0.928241       0.875556    0.375926   \n",
       "12            NaN          NaN             NaN            NaN         NaN   \n",
       "\n",
       "    eval_runtime  eval_samples_per_second  eval_steps_per_second  \\\n",
       "0            NaN                      NaN                    NaN   \n",
       "1        85.7171                    1.050                  0.117   \n",
       "2            NaN                      NaN                    NaN   \n",
       "3        85.9995                    1.047                  0.116   \n",
       "4            NaN                      NaN                    NaN   \n",
       "5        85.7672                    1.049                  0.117   \n",
       "6            NaN                      NaN                    NaN   \n",
       "7        85.8699                    1.048                  0.116   \n",
       "8            NaN                      NaN                    NaN   \n",
       "9        85.9943                    1.047                  0.116   \n",
       "10           NaN                      NaN                    NaN   \n",
       "11       86.0370                    1.046                  0.116   \n",
       "12           NaN                      NaN                    NaN   \n",
       "\n",
       "    train_runtime  train_samples_per_second  train_steps_per_second  \\\n",
       "0             NaN                       NaN                     NaN   \n",
       "1             NaN                       NaN                     NaN   \n",
       "2             NaN                       NaN                     NaN   \n",
       "3             NaN                       NaN                     NaN   \n",
       "4             NaN                       NaN                     NaN   \n",
       "5             NaN                       NaN                     NaN   \n",
       "6             NaN                       NaN                     NaN   \n",
       "7             NaN                       NaN                     NaN   \n",
       "8             NaN                       NaN                     NaN   \n",
       "9             NaN                       NaN                     NaN   \n",
       "10            NaN                       NaN                     NaN   \n",
       "11            NaN                       NaN                     NaN   \n",
       "12     10141.8683                     0.454                   0.013   \n",
       "\n",
       "      total_flos  train_loss  \n",
       "0            NaN         NaN  \n",
       "1            NaN         NaN  \n",
       "2            NaN         NaN  \n",
       "3            NaN         NaN  \n",
       "4            NaN         NaN  \n",
       "5            NaN         NaN  \n",
       "6            NaN         NaN  \n",
       "7            NaN         NaN  \n",
       "8            NaN         NaN  \n",
       "9            NaN         NaN  \n",
       "10           NaN         NaN  \n",
       "11           NaN         NaN  \n",
       "12  2.595373e+16    2.071442  "
      ]
     },
     "execution_count": 131,
     "metadata": {},
     "output_type": "execute_result"
    }
   ],
   "source": [
    "trainHistoryDF = pd.DataFrame(trainer.state.log_history)\n",
    "trainHistoryDF"
   ]
  },
  {
   "cell_type": "code",
   "execution_count": 132,
   "id": "400f0110",
   "metadata": {
    "execution": {
     "iopub.execute_input": "2025-09-29T19:33:52.570805Z",
     "iopub.status.busy": "2025-09-29T19:33:52.570391Z",
     "iopub.status.idle": "2025-09-29T19:33:52.575191Z",
     "shell.execute_reply": "2025-09-29T19:33:52.574454Z"
    },
    "papermill": {
     "duration": 0.037722,
     "end_time": "2025-09-29T19:33:52.576288",
     "exception": false,
     "start_time": "2025-09-29T19:33:52.538566",
     "status": "completed"
    },
    "tags": []
   },
   "outputs": [
    {
     "data": {
      "text/plain": [
       "Index(['loss', 'grad_norm', 'learning_rate', 'epoch', 'step', 'eval_loss',\n",
       "       'eval_accuracy', 'eval_recall', 'eval_precision', 'eval_f1-score',\n",
       "       'eval_map_3', 'eval_runtime', 'eval_samples_per_second',\n",
       "       'eval_steps_per_second', 'train_runtime', 'train_samples_per_second',\n",
       "       'train_steps_per_second', 'total_flos', 'train_loss'],\n",
       "      dtype='object')"
      ]
     },
     "execution_count": 132,
     "metadata": {},
     "output_type": "execute_result"
    }
   ],
   "source": [
    "trainHistoryDF.columns"
   ]
  },
  {
   "cell_type": "code",
   "execution_count": 133,
   "id": "e5045efd",
   "metadata": {
    "execution": {
     "iopub.execute_input": "2025-09-29T19:33:52.643698Z",
     "iopub.status.busy": "2025-09-29T19:33:52.643465Z",
     "iopub.status.idle": "2025-09-29T19:33:52.797094Z",
     "shell.execute_reply": "2025-09-29T19:33:52.796358Z"
    },
    "papermill": {
     "duration": 0.189247,
     "end_time": "2025-09-29T19:33:52.798263",
     "exception": false,
     "start_time": "2025-09-29T19:33:52.609016",
     "status": "completed"
    },
    "tags": []
   },
   "outputs": [
    {
     "data": {
      "image/png": "[encoded data removed]",
      "text/plain": [
       "<Figure size 640x480 with 1 Axes>"
      ]
     },
     "metadata": {},
     "output_type": "display_data"
    }
   ],
   "source": [
    "import matplotlib.pyplot as plt\n",
    "trainloss = trainHistoryDF[~trainHistoryDF[\"loss\"].isnull()]\n",
    "valloss = trainHistoryDF[~trainHistoryDF[\"eval_loss\"].isnull()]\n",
    "plt.plot(trainloss[\"loss\"], label=\"Train\")\n",
    "plt.plot(valloss[\"eval_loss\"], label=\"Val\")\n",
    "plt.title(\"LLM loss\")\n",
    "plt.legend()\n",
    "plt.show()"
   ]
  },
  {
   "cell_type": "code",
   "execution_count": 134,
   "id": "84de5318",
   "metadata": {
    "execution": {
     "iopub.execute_input": "2025-09-29T19:33:52.866073Z",
     "iopub.status.busy": "2025-09-29T19:33:52.865849Z",
     "iopub.status.idle": "2025-09-29T19:33:53.010513Z",
     "shell.execute_reply": "2025-09-29T19:33:53.009893Z"
    },
    "papermill": {
     "duration": 0.180471,
     "end_time": "2025-09-29T19:33:53.011622",
     "exception": false,
     "start_time": "2025-09-29T19:33:52.831151",
     "status": "completed"
    },
    "tags": []
   },
   "outputs": [
    {
     "data": {
      "image/png": "[encoded data removed]",
      "text/plain": [
       "<Figure size 640x480 with 1 Axes>"
      ]
     },
     "metadata": {},
     "output_type": "display_data"
    }
   ],
   "source": [
    "trainloss = trainHistoryDF[~trainHistoryDF[\"eval_accuracy\"].isnull()]\n",
    "plt.plot(trainloss[\"eval_accuracy\"], label=\"Val Accuracy\")\n",
    "plt.title(\"Val Accuracy\")\n",
    "plt.legend()\n",
    "plt.show()"
   ]
  },
  {
   "cell_type": "code",
   "execution_count": 135,
   "id": "27eb05d7",
   "metadata": {
    "execution": {
     "iopub.execute_input": "2025-09-29T19:33:53.080095Z",
     "iopub.status.busy": "2025-09-29T19:33:53.079564Z",
     "iopub.status.idle": "2025-09-29T19:33:53.222071Z",
     "shell.execute_reply": "2025-09-29T19:33:53.221419Z"
    },
    "papermill": {
     "duration": 0.177167,
     "end_time": "2025-09-29T19:33:53.223371",
     "exception": false,
     "start_time": "2025-09-29T19:33:53.046204",
     "status": "completed"
    },
    "tags": []
   },
   "outputs": [
    {
     "data": {
      "image/png": "[encoded data removed]",
      "text/plain": [
       "<Figure size 640x480 with 1 Axes>"
      ]
     },
     "metadata": {},
     "output_type": "display_data"
    }
   ],
   "source": [
    "trainloss = trainHistoryDF[~trainHistoryDF[\"eval_recall\"].isnull()]\n",
    "plt.plot(trainloss[\"eval_recall\"], label=\"Val Recall\")\n",
    "plt.title(\"Val Recall\")\n",
    "plt.legend()\n",
    "plt.show()"
   ]
  },
  {
   "cell_type": "code",
   "execution_count": 136,
   "id": "1de7b6a9",
   "metadata": {
    "execution": {
     "iopub.execute_input": "2025-09-29T19:33:53.291658Z",
     "iopub.status.busy": "2025-09-29T19:33:53.291433Z",
     "iopub.status.idle": "2025-09-29T19:33:53.421403Z",
     "shell.execute_reply": "2025-09-29T19:33:53.420771Z"
    },
    "papermill": {
     "duration": 0.164736,
     "end_time": "2025-09-29T19:33:53.422666",
     "exception": false,
     "start_time": "2025-09-29T19:33:53.257930",
     "status": "completed"
    },
    "tags": []
   },
   "outputs": [
    {
     "data": {
      "image/png": "[encoded data removed]",
      "text/plain": [
       "<Figure size 640x480 with 1 Axes>"
      ]
     },
     "metadata": {},
     "output_type": "display_data"
    }
   ],
   "source": [
    "trainloss = trainHistoryDF[~trainHistoryDF[\"eval_precision\"].isnull()]\n",
    "plt.plot(trainloss[\"eval_precision\"], label=\"Val Precision\")\n",
    "plt.title(\"Val Precision\")\n",
    "plt.legend()\n",
    "plt.show()"
   ]
  },
  {
   "cell_type": "code",
   "execution_count": 137,
   "id": "605be5d9",
   "metadata": {
    "execution": {
     "iopub.execute_input": "2025-09-29T19:33:53.492873Z",
     "iopub.status.busy": "2025-09-29T19:33:53.492613Z",
     "iopub.status.idle": "2025-09-29T19:33:53.617382Z",
     "shell.execute_reply": "2025-09-29T19:33:53.616770Z"
    },
    "papermill": {
     "duration": 0.160153,
     "end_time": "2025-09-29T19:33:53.618468",
     "exception": false,
     "start_time": "2025-09-29T19:33:53.458315",
     "status": "completed"
    },
    "tags": []
   },
   "outputs": [
    {
     "data": {
      "image/png": "[encoded data removed]",
      "text/plain": [
       "<Figure size 640x480 with 1 Axes>"
      ]
     },
     "metadata": {},
     "output_type": "display_data"
    }
   ],
   "source": [
    "trainloss = trainHistoryDF[~trainHistoryDF[\"eval_f1-score\"].isnull()]\n",
    "plt.plot(trainloss[\"eval_f1-score\"], label=\"Val F1-Score\")\n",
    "plt.title(\"Val F1-Score\")\n",
    "plt.legend()\n",
    "plt.show()"
   ]
  },
  {
   "cell_type": "code",
   "execution_count": 138,
   "id": "adf4e00d",
   "metadata": {
    "execution": {
     "iopub.execute_input": "2025-09-29T19:33:53.686789Z",
     "iopub.status.busy": "2025-09-29T19:33:53.686523Z",
     "iopub.status.idle": "2025-09-29T19:33:53.830678Z",
     "shell.execute_reply": "2025-09-29T19:33:53.830097Z"
    },
    "papermill": {
     "duration": 0.179038,
     "end_time": "2025-09-29T19:33:53.831883",
     "exception": false,
     "start_time": "2025-09-29T19:33:53.652845",
     "status": "completed"
    },
    "tags": []
   },
   "outputs": [
    {
     "data": {
      "image/png": "[encoded data removed]",
      "text/plain": [
       "<Figure size 640x480 with 1 Axes>"
      ]
     },
     "metadata": {},
     "output_type": "display_data"
    }
   ],
   "source": [
    "trainloss = trainHistoryDF[~trainHistoryDF[\"eval_map_3\"].isnull()]\n",
    "plt.plot(trainloss[\"eval_map_3\"], label=\"MAP@3 Score\")\n",
    "plt.title(\"Val MAP@3\")\n",
    "plt.legend()\n",
    "plt.show()"
   ]
  },
  {
   "cell_type": "code",
   "execution_count": 139,
   "id": "cc89c583",
   "metadata": {
    "execution": {
     "iopub.execute_input": "2025-09-29T19:33:53.904911Z",
     "iopub.status.busy": "2025-09-29T19:33:53.904651Z",
     "iopub.status.idle": "2025-09-29T19:33:53.912645Z",
     "shell.execute_reply": "2025-09-29T19:33:53.911963Z"
    },
    "papermill": {
     "duration": 0.044365,
     "end_time": "2025-09-29T19:33:53.913809",
     "exception": false,
     "start_time": "2025-09-29T19:33:53.869444",
     "status": "completed"
    },
    "tags": []
   },
   "outputs": [],
   "source": [
    "def testValDataset(ds, maxNumData=10):\n",
    "    for i, data in enumerate(ds):\n",
    "        if (i >= maxNumData):\n",
    "            break\n",
    "        print(f\"Data {i}\")\n",
    "        newPrompt = data[\"LLM_Content\"]\n",
    "        with torch.no_grad():\n",
    "             inputIds = tokenizer(newPrompt, return_tensors=\"pt\").to(device)\n",
    "             logits = model(**inputIds).logits\n",
    "             print(f\"Logits Dimension: {logits.shape}\")\n",
    "             probabilities = nn.functional.softmax(logits, dim=-1) # get probilitity\n",
    "             print(f\"Probailities : {probabilities}\")\n",
    "             classID =logits.argmax().item()\n",
    "             print(f\"Class ID type {type(classID)}\")\n",
    "             classTxt = le.inverse_transform([classID])[0]\n",
    "             actualClassID = data['labels']\n",
    "             # print(f\"Actual ClassID : {actualClassID}\")\n",
    "             actualClass = le.inverse_transform([actualClassID])[0]\n",
    "             # Top3 prediction\n",
    "             # acc = (probabilities == actualClassID).mean()\n",
    "             # f1score  =  f1_score(actualClassID, probabilities, average='weighted', zero_division=1)\n",
    "             # recallScore = recall_score(actualClassID, probabilities,  average='weighted', zero_division=1)\n",
    "             # precision = precision_score(actualClassID, probabilities,  average='weighted', zero_division=1)\n",
    "            \n",
    "             # # for map@3\n",
    "             top3_preds = np.argsort(logits.to(torch.float32).cpu(), axis=-1)[:, -3:]\n",
    "             top3 = top3_preds.flatten() # convert to 1D \n",
    "             print(f\"Top3 ID : {top3}\")\n",
    "             # classTxtArray = le.inverse_transform(top3) # convert class ID to Label \n",
    "             match = (top3_preds == actualClassID)\n",
    "                    \n",
    "             # Compute MAP@3 manually\n",
    "             map3 = 0\n",
    "             for i in range(len([actualClassID])):\n",
    "                if match[i, 0]:\n",
    "                    map3 += 1.0\n",
    "                elif match[i, 1]:\n",
    "                    map3 += 1.0 / 2\n",
    "                elif match[i, 2]:\n",
    "                    map3 += 1.0 / 3\n",
    "             map3Score = map3 / len([actualClassID])\n",
    "        \n",
    "\n",
    "        print(f\"\"\"Query: {newPrompt}\n",
    "              Predict Class ID: {classID}\n",
    "              Predict Text: {classTxt}\n",
    "              Actual Class ID: {actualClassID}\n",
    "              Actual Class Text: {actualClass}\n",
    "             MAP@3 Score : {map3Score}\"\"\")\n",
    "        print(\"-\"*30)\n",
    "        \n"
   ]
  },
  {
   "cell_type": "code",
   "execution_count": 140,
   "id": "5b293cec",
   "metadata": {
    "execution": {
     "iopub.execute_input": "2025-09-29T19:33:53.983374Z",
     "iopub.status.busy": "2025-09-29T19:33:53.982948Z",
     "iopub.status.idle": "2025-09-29T19:34:08.438041Z",
     "shell.execute_reply": "2025-09-29T19:34:08.437346Z"
    },
    "papermill": {
     "duration": 14.491143,
     "end_time": "2025-09-29T19:34:08.439256",
     "exception": false,
     "start_time": "2025-09-29T19:33:53.948113",
     "status": "completed"
    },
    "scrolled": true,
    "tags": []
   },
   "outputs": [
    {
     "name": "stdout",
     "output_type": "stream",
     "text": [
      "Data 0\n",
      "Logits Dimension: torch.Size([1, 65])\n",
      "Probailities : tensor([[7.0567e-04, 4.8573e-07, 1.7123e-05, 1.1768e-05, 6.3484e-06, 5.8713e-06,\n",
      "         8.0421e-05, 2.0891e-07, 1.3837e-06, 2.0772e-06, 1.3184e-03, 5.4727e-06,\n",
      "         9.3627e-07, 9.6049e-06, 2.0248e-07, 1.3651e-05, 3.0914e-05, 4.7548e-06,\n",
      "         7.5389e-06, 4.5370e-06, 7.0673e-07, 4.9160e-05, 2.4052e-05, 3.3194e-06,\n",
      "         2.1431e-06, 1.2671e-07, 4.6810e-06, 6.7579e-06, 1.9513e-06, 2.3680e-05,\n",
      "         8.7453e-06, 1.7221e-06, 4.8303e-05, 4.0268e-07, 6.0106e-06, 3.2630e-03,\n",
      "         5.3676e-05, 7.5005e-01, 3.4639e-05, 1.9596e-04, 1.8553e-04, 3.8148e-03,\n",
      "         1.5926e-06, 6.3123e-05, 1.0738e-04, 1.5722e-01, 5.5156e-06, 1.5902e-03,\n",
      "         9.8326e-06, 2.5161e-04, 7.6301e-04, 2.3131e-05, 1.0407e-04, 7.9963e-04,\n",
      "         1.5746e-04, 2.7043e-05, 4.0755e-05, 6.9327e-05, 9.2369e-06, 3.4391e-04,\n",
      "         6.9077e-03, 5.3572e-05, 2.6219e-03, 5.9674e-02, 9.1512e-03]],\n",
      "       device='cuda:0')\n",
      "Class ID type <class 'int'>\n",
      "Top3 ID : tensor([63, 45, 37])\n",
      "Query: You are an expert educational diagnostician specializing in identifying students' math misconceptions from their written explanations.\n",
      "Your task is to analyze the student's explanation and classify the specific type of misconception they demonstrate.\n",
      "\n",
      "Question: Dots have been arranged in these patterns: [Image: Pattern 1 consists of 6 dots, Pattern 2 consists of 10 dots, Pattern 3 consists of 14 dots and Pattern 4 consists of 18 dots] How many dots would there be in Pattern \\( 6 \\) ?\n",
      "Answer: \\( 26 \\)\n",
      "Correct: True\n",
      "Student Explanation: 1st pattern has 6 circles\n",
      "2nd had 10\n",
      "difference is 4\n",
      "compared with multiples of 4, it is 2 more each time.\n",
      "4n + 2\n",
      "substitute\n",
      "4(6) + 2\n",
      "multiply\n",
      "24 + 2\n",
      "add\n",
      "24+2= 26\n",
      "\n",
      "Based on the information above, identify and label the underlying math misconception in the student's explanation.\n",
      "Provide a clear and concise classification of the misconception type.\n",
      "\n",
      "              Predict Class ID: 37\n",
      "              Predict Text: True_Correct:NA\n",
      "              Actual Class ID: 37\n",
      "              Actual Class Text: True_Correct:NA\n",
      "             MAP@3 Score : 0.3333333333333333\n",
      "------------------------------\n",
      "Data 1\n",
      "Logits Dimension: torch.Size([1, 65])\n",
      "Probailities : tensor([[1.1093e-04, 2.6985e-02, 1.2619e-04, 2.5641e-04, 9.3013e-05, 3.3372e-05,\n",
      "         4.4557e-05, 7.4083e-01, 3.0149e-05, 3.4504e-04, 7.0500e-06, 5.9153e-04,\n",
      "         2.3807e-04, 3.3112e-05, 3.4649e-02, 4.9424e-04, 8.1145e-06, 9.0905e-04,\n",
      "         2.2150e-03, 1.4078e-04, 2.1136e-03, 1.5192e-04, 9.5268e-04, 7.2324e-05,\n",
      "         1.5224e-03, 9.8292e-04, 7.5943e-05, 6.7555e-04, 1.2619e-04, 5.3216e-06,\n",
      "         5.3860e-04, 8.2770e-04, 1.8430e-05, 8.5398e-04, 6.3960e-04, 1.3589e-05,\n",
      "         1.7596e-01, 1.4778e-06, 2.4711e-03, 4.7990e-05, 3.1844e-05, 3.4020e-07,\n",
      "         2.9345e-03, 2.9389e-06, 9.5411e-07, 4.1036e-07, 6.0302e-06, 4.3683e-07,\n",
      "         6.8619e-04, 3.6008e-06, 3.8330e-06, 1.0419e-05, 4.0802e-06, 1.3041e-06,\n",
      "         7.8648e-06, 1.9314e-05, 4.6963e-06, 2.9852e-06, 5.1085e-05, 1.5247e-06,\n",
      "         1.9314e-05, 3.8330e-06, 2.8204e-07, 6.9116e-08, 6.4191e-06]],\n",
      "       device='cuda:0')\n",
      "Class ID type <class 'int'>\n",
      "Top3 ID : tensor([14, 36,  7])\n",
      "Query: You are an expert educational diagnostician specializing in identifying students' math misconceptions from their written explanations.\n",
      "Your task is to analyze the student's explanation and classify the specific type of misconception they demonstrate.\n",
      "\n",
      "Question: \\( \\frac{1}{3}+\\frac{2}{5}= \\)\n",
      "Answer: \\( \\frac{3}{15} \\)\n",
      "Correct: False\n",
      "Student Explanation: 1 + 2 = 3 and also 3 and 5 both fit into 15\n",
      "\n",
      "Based on the information above, identify and label the underlying math misconception in the student's explanation.\n",
      "Provide a clear and concise classification of the misconception type.\n",
      "\n",
      "              Predict Class ID: 7\n",
      "              Predict Text: False_Misconception:Denominator-only_change\n",
      "              Actual Class ID: 7\n",
      "              Actual Class Text: False_Misconception:Denominator-only_change\n",
      "             MAP@3 Score : 0.3333333333333333\n",
      "------------------------------\n",
      "Data 2\n",
      "Logits Dimension: torch.Size([1, 65])\n",
      "Probailities : tensor([[2.1998e-07, 3.7998e-09, 1.4144e-09, 6.1789e-10, 6.7577e-12, 1.8369e-11,\n",
      "         5.6582e-11, 1.7602e-09, 6.2143e-11, 1.5056e-09, 2.7576e-11, 7.2652e-11,\n",
      "         4.3815e-10, 3.6532e-11, 7.3376e-10, 1.6725e-11, 5.8378e-11, 5.3169e-09,\n",
      "         2.2916e-08, 5.7145e-10, 4.7375e-10, 8.4455e-10, 4.0607e-09, 1.1708e-06,\n",
      "         7.4532e-10, 6.4115e-11, 1.4144e-09, 2.1029e-08, 1.4122e-06, 1.2878e-09,\n",
      "         4.8879e-10, 2.1690e-10, 1.0571e-10, 8.6134e-09, 2.4823e-09, 1.1544e-09,\n",
      "         2.5411e-09, 5.8782e-04, 7.3266e-07, 8.5656e-07, 1.7639e-08, 7.0311e-08,\n",
      "         6.0612e-08, 4.1247e-09, 7.6024e-08, 4.3736e-09, 6.5027e-08, 5.4007e-09,\n",
      "         3.0542e-07, 1.9147e-08, 3.6763e-08, 1.4034e-09, 1.1910e-09, 7.2179e-09,\n",
      "         3.3213e-08, 9.9841e-01, 8.2471e-09, 5.9888e-10, 2.4160e-07, 5.8782e-04,\n",
      "         4.8049e-07, 7.7222e-08, 1.3156e-10, 3.3073e-10, 4.0400e-04]],\n",
      "       device='cuda:0')\n",
      "Class ID type <class 'int'>\n",
      "Top3 ID : tensor([59, 37, 55])\n",
      "Query: You are an expert educational diagnostician specializing in identifying students' math misconceptions from their written explanations.\n",
      "Your task is to analyze the student's explanation and classify the specific type of misconception they demonstrate.\n",
      "\n",
      "Question: What number belongs in the box?\n",
      "\\(\n",
      "(-8)-(-5)=\n",
      "\\square\\)\n",
      "Answer: \\( -3 \\)\n",
      "Correct: True\n",
      "Student Explanation: two minuses sum up to make a plus so we do -8+-5 which makes -3.\n",
      "\n",
      "Based on the information above, identify and label the underlying math misconception in the student's explanation.\n",
      "Provide a clear and concise classification of the misconception type.\n",
      "\n",
      "              Predict Class ID: 55\n",
      "              Predict Text: True_Misconception:Positive\n",
      "              Actual Class ID: 55\n",
      "              Actual Class Text: True_Misconception:Positive\n",
      "             MAP@3 Score : 0.3333333333333333\n",
      "------------------------------\n",
      "Data 3\n",
      "Logits Dimension: torch.Size([1, 65])\n",
      "Probailities : tensor([[9.8527e-03, 3.4576e-05, 7.8146e-05, 2.2991e-04, 1.7085e-04, 3.3251e-05,\n",
      "         5.5360e-05, 1.9819e-04, 1.1697e-04, 1.9471e-05, 2.6462e-04, 6.1413e-05,\n",
      "         2.5296e-05, 7.0266e-04, 1.4470e-05, 4.3971e-04, 9.4909e-05, 4.5985e-05,\n",
      "         6.2010e-04, 3.3907e-05, 9.1452e-05, 1.4331e-04, 7.1373e-04, 2.5695e-05,\n",
      "         8.3268e-05, 6.9281e-07, 7.3699e-05, 5.5352e-06, 6.7818e-06, 9.8883e-05,\n",
      "         5.4822e-05, 3.1729e-05, 8.5962e-01, 5.8017e-05, 8.8825e-04, 4.5806e-05,\n",
      "         1.2384e-01, 1.9210e-04, 3.2035e-06, 3.1482e-05, 8.7081e-06, 3.4638e-06,\n",
      "         2.7833e-06, 5.0308e-05, 9.9464e-05, 3.5184e-06, 3.2540e-06, 1.0023e-05,\n",
      "         1.7050e-05, 3.5813e-05, 1.6525e-05, 1.5613e-06, 3.0040e-05, 1.5403e-05,\n",
      "         7.6090e-07, 5.5669e-07, 8.8958e-07, 4.7544e-04, 8.0998e-07, 7.8505e-07,\n",
      "         1.2870e-05, 1.2743e-06, 6.4470e-05, 7.8505e-07, 3.9952e-05]],\n",
      "       device='cuda:0')\n",
      "Class ID type <class 'int'>\n",
      "Top3 ID : tensor([ 0, 36, 32])\n",
      "Query: You are an expert educational diagnostician specializing in identifying students' math misconceptions from their written explanations.\n",
      "Your task is to analyze the student's explanation and classify the specific type of misconception they demonstrate.\n",
      "\n",
      "Question: A box contains \\( 120 \\) counters. The counters are red or blue. \\( \\frac{3}{5} \\) of the counters are red.\n",
      "How many red counters are there?\n",
      "Answer: \\( 48 \\)\n",
      "Correct: False\n",
      "Student Explanation: This is because 2 / 5 times by 120.\n",
      "\n",
      "Based on the information above, identify and label the underlying math misconception in the student's explanation.\n",
      "Provide a clear and concise classification of the misconception type.\n",
      "\n",
      "              Predict Class ID: 32\n",
      "              Predict Text: False_Misconception:Wrong_Fraction\n",
      "              Actual Class ID: 32\n",
      "              Actual Class Text: False_Misconception:Wrong_Fraction\n",
      "             MAP@3 Score : 0.3333333333333333\n",
      "------------------------------\n",
      "Data 4\n",
      "Logits Dimension: torch.Size([1, 65])\n",
      "Probailities : tensor([[7.9152e-03, 3.0516e-03, 5.4286e-04, 2.0973e-03, 7.2048e-05, 3.8797e-04,\n",
      "         1.6316e-04, 7.5369e-04, 8.1322e-05, 7.0146e-01, 2.1888e-05, 2.6102e-03,\n",
      "         1.5829e-04, 7.0379e-05, 1.7561e-02, 8.1493e-04, 1.6793e-04, 8.3778e-02,\n",
      "         1.4191e-03, 6.3965e-04, 1.0006e-02, 2.8996e-05, 2.3762e-04, 1.7283e-04,\n",
      "         1.4415e-03, 2.5697e-03, 9.6023e-04, 1.8509e-03, 8.6749e-04, 2.2582e-05,\n",
      "         7.8513e-05, 2.2410e-04, 4.5975e-05, 5.5808e-02, 1.5523e-04, 7.2330e-05,\n",
      "         9.7946e-02, 2.0359e-06, 8.2603e-05, 7.8513e-05, 6.6753e-06, 1.3145e-06,\n",
      "         8.9503e-04, 1.3277e-04, 8.1493e-04, 1.5368e-06, 5.8574e-05, 1.2614e-07,\n",
      "         2.0950e-04, 1.1139e-03, 1.0021e-05, 8.3076e-06, 3.6655e-05, 1.0179e-05,\n",
      "         7.2178e-06, 1.1534e-05, 8.0520e-06, 1.1379e-04, 7.0931e-05, 1.5855e-06,\n",
      "         5.8328e-07, 4.4214e-05, 1.5280e-05, 2.4075e-08, 9.7126e-06]],\n",
      "       device='cuda:0')\n",
      "Class ID type <class 'int'>\n",
      "Top3 ID : tensor([17, 36,  9])\n",
      "Query: You are an expert educational diagnostician specializing in identifying students' math misconceptions from their written explanations.\n",
      "Your task is to analyze the student's explanation and classify the specific type of misconception they demonstrate.\n",
      "\n",
      "Question: Calculate \\( \\frac{2}{3} \\times 5 \\)\n",
      "Answer: \\( \\frac{10}{15} \\)\n",
      "Correct: False\n",
      "Student Explanation: since 5x2=10 and 5x3 =15, thenn 10 + 15 equals 15.\n",
      "\n",
      "Based on the information above, identify and label the underlying math misconception in the student's explanation.\n",
      "Provide a clear and concise classification of the misconception type.\n",
      "\n",
      "              Predict Class ID: 9\n",
      "              Predict Text: False_Misconception:Duplication\n",
      "              Actual Class ID: 9\n",
      "              Actual Class Text: False_Misconception:Duplication\n",
      "             MAP@3 Score : 0.3333333333333333\n",
      "------------------------------\n",
      "Data 5\n",
      "Logits Dimension: torch.Size([1, 65])\n",
      "Probailities : tensor([[1.3378e-05, 5.4690e-06, 2.6288e-07, 6.4190e-06, 1.3427e-07, 5.5103e-08,\n",
      "         1.0958e-07, 1.2277e-05, 3.1891e-08, 2.3753e-06, 1.8748e-08, 1.1665e-07,\n",
      "         2.5479e-07, 1.8935e-07, 3.8410e-05, 1.9343e-08, 4.2249e-08, 3.1843e-05,\n",
      "         8.3543e-07, 2.5084e-07, 3.5374e-07, 1.8935e-07, 7.8931e-08, 4.0399e-07,\n",
      "         2.6288e-07, 4.3590e-08, 1.1874e-06, 6.1121e-07, 7.2999e-08, 6.6466e-08,\n",
      "         3.2209e-07, 3.1218e-07, 3.5025e-08, 6.1490e-06, 8.4022e-08, 5.3939e-07,\n",
      "         2.4411e-06, 9.8912e-01, 5.6443e-04, 1.0605e-04, 3.9629e-05, 3.2182e-06,\n",
      "         1.4871e-03, 5.2595e-06, 3.4430e-05, 8.8425e-06, 4.9319e-05, 4.9112e-07,\n",
      "         4.5353e-04, 6.1730e-06, 5.6766e-05, 1.2613e-07, 8.4376e-06, 6.2948e-06,\n",
      "         9.9419e-06, 1.5278e-05, 2.8844e-06, 4.2670e-07, 6.3327e-05, 3.0385e-05,\n",
      "         9.5610e-06, 2.3822e-06, 6.7513e-08, 1.9885e-06, 7.7917e-03]],\n",
      "       device='cuda:0')\n",
      "Class ID type <class 'int'>\n",
      "Top3 ID : tensor([42, 64, 37])\n",
      "Query: You are an expert educational diagnostician specializing in identifying students' math misconceptions from their written explanations.\n",
      "Your task is to analyze the student's explanation and classify the specific type of misconception they demonstrate.\n",
      "\n",
      "Question: \\( \\frac{1}{3}+\\frac{2}{5}= \\)\n",
      "Answer: \\( \\frac{11}{15} \\)\n",
      "Correct: True\n",
      "Student Explanation: i think d is correct, because you need to convert 1/3 into 5/15 (timed by 5) and 2/5 into 6/15 ( timed by 3) them added together becomes 11/15.\n",
      "\n",
      "Based on the information above, identify and label the underlying math misconception in the student's explanation.\n",
      "Provide a clear and concise classification of the misconception type.\n",
      "\n",
      "              Predict Class ID: 37\n",
      "              Predict Text: True_Correct:NA\n",
      "              Actual Class ID: 37\n",
      "              Actual Class Text: True_Correct:NA\n",
      "             MAP@3 Score : 0.3333333333333333\n",
      "------------------------------\n",
      "Data 6\n",
      "Logits Dimension: torch.Size([1, 65])\n",
      "Probailities : tensor([[2.6823e-04, 8.6898e-06, 1.2971e-04, 3.0449e-05, 5.6784e-04, 1.2043e-04,\n",
      "         9.3480e-01, 6.5594e-06, 5.1017e-05, 5.6545e-06, 2.1553e-04, 8.0851e-05,\n",
      "         1.2572e-04, 3.4842e-05, 4.2793e-05, 4.5109e-02, 2.2237e-04, 6.8207e-06,\n",
      "         9.0904e-05, 5.5037e-04, 9.1975e-05, 8.1339e-04, 4.4843e-05, 3.7453e-05,\n",
      "         1.8980e-05, 1.0062e-04, 3.2219e-06, 3.5843e-05, 4.4244e-05, 1.0776e-03,\n",
      "         1.6142e-04, 4.4223e-04, 7.3175e-06, 7.2041e-06, 1.8686e-05, 9.4525e-05,\n",
      "         1.0065e-02, 1.7691e-05, 6.6627e-06, 7.0520e-05, 1.3278e-04, 3.9416e-03,\n",
      "         1.2816e-06, 1.8906e-05, 6.1140e-06, 3.4638e-05, 1.1334e-05, 2.2846e-06,\n",
      "         6.0537e-07, 8.4885e-06, 1.3354e-05, 1.5983e-05, 5.7436e-06, 4.2068e-05,\n",
      "         2.0927e-05, 1.1853e-06, 2.7294e-05, 1.2743e-05, 1.1334e-05, 1.2421e-06,\n",
      "         2.2628e-05, 1.2816e-06, 3.3638e-05, 2.0479e-06, 8.1633e-06]],\n",
      "       device='cuda:0')\n",
      "Class ID type <class 'int'>\n",
      "Top3 ID : tensor([36, 15,  6])\n",
      "Query: You are an expert educational diagnostician specializing in identifying students' math misconceptions from their written explanations.\n",
      "Your task is to analyze the student's explanation and classify the specific type of misconception they demonstrate.\n",
      "\n",
      "Question: This is part of a regular polygon. How many sides does it have? [Image: A diagram showing an obtuse angle labelled 144 degrees]\n",
      "Answer: \\( 6 \\)\n",
      "Correct: False\n",
      "Student Explanation: i think this because a normal polygon has 3 sides so if you double it then it would be 6\n",
      "\n",
      "Based on the information above, identify and label the underlying math misconception in the student's explanation.\n",
      "Provide a clear and concise classification of the misconception type.\n",
      "\n",
      "              Predict Class ID: 6\n",
      "              Predict Text: False_Misconception:Definition\n",
      "              Actual Class ID: 6\n",
      "              Actual Class Text: False_Misconception:Definition\n",
      "             MAP@3 Score : 0.3333333333333333\n",
      "------------------------------\n",
      "Data 7\n",
      "Logits Dimension: torch.Size([1, 65])\n",
      "Probailities : tensor([[3.1312e-05, 2.2554e-05, 8.5244e-08, 8.6769e-07, 5.2517e-08, 3.0095e-09,\n",
      "         1.3411e-07, 8.9014e-06, 2.9169e-09, 2.5055e-07, 1.8833e-09, 2.5449e-07,\n",
      "         9.6594e-08, 1.7491e-07, 6.2272e-05, 1.6269e-08, 2.8272e-09, 6.8784e-06,\n",
      "         1.5959e-06, 2.3671e-08, 1.7491e-07, 3.1360e-08, 1.6786e-08, 5.5038e-08,\n",
      "         2.0572e-06, 1.4054e-07, 7.4217e-07, 4.0267e-08, 1.2670e-08, 3.3715e-07,\n",
      "         1.9513e-07, 1.5959e-06, 1.7766e-07, 1.0304e-06, 3.6663e-08, 6.1751e-09,\n",
      "         5.4955e-05, 2.4875e-03, 1.1817e-04, 3.6608e-05, 4.3473e-05, 6.8249e-06,\n",
      "         1.0473e-02, 2.1878e-06, 6.2272e-05, 3.0108e-06, 1.4033e-04, 2.6753e-06,\n",
      "         8.3194e-01, 8.2324e-06, 7.9170e-06, 1.0466e-06, 2.9415e-05, 3.2171e-07,\n",
      "         5.9065e-06, 1.2192e-04, 2.6989e-06, 2.2111e-07, 3.5835e-04, 1.0821e-05,\n",
      "         4.0839e-05, 4.6724e-06, 7.3640e-07, 6.6528e-07, 1.5389e-01]],\n",
      "       device='cuda:0')\n",
      "Class ID type <class 'int'>\n",
      "Top3 ID : tensor([42, 64, 48])\n",
      "Query: You are an expert educational diagnostician specializing in identifying students' math misconceptions from their written explanations.\n",
      "Your task is to analyze the student's explanation and classify the specific type of misconception they demonstrate.\n",
      "\n",
      "Question: \\( \\frac{1}{3}+\\frac{2}{5}= \\)\n",
      "Answer: \\( \\frac{11}{15} \\)\n",
      "Correct: True\n",
      "Student Explanation: because once worked out is 11/30\n",
      "\n",
      "Based on the information above, identify and label the underlying math misconception in the student's explanation.\n",
      "Provide a clear and concise classification of the misconception type.\n",
      "\n",
      "              Predict Class ID: 48\n",
      "              Predict Text: True_Misconception:Incorrect_equivalent_fraction_addition\n",
      "              Actual Class ID: 48\n",
      "              Actual Class Text: True_Misconception:Incorrect_equivalent_fraction_addition\n",
      "             MAP@3 Score : 0.3333333333333333\n",
      "------------------------------\n",
      "Data 8\n",
      "Logits Dimension: torch.Size([1, 65])\n",
      "Probailities : tensor([[7.1614e-04, 1.5161e-03, 1.9426e-04, 1.2445e-04, 5.3419e-05, 1.7719e-05,\n",
      "         6.0997e-06, 9.8859e-03, 8.0179e-06, 1.0562e-04, 6.5441e-06, 4.8072e-05,\n",
      "         1.7143e-04, 2.5984e-05, 8.8990e-01, 1.8570e-05, 8.7875e-07, 1.4694e-03,\n",
      "         2.2012e-04, 6.4562e-05, 2.7181e-04, 6.9119e-06, 7.8794e-05, 4.3941e-05,\n",
      "         4.4120e-04, 1.8536e-04, 7.0907e-05, 3.2766e-05, 1.7581e-05, 4.6768e-06,\n",
      "         4.4983e-05, 4.6965e-04, 4.0003e-06, 2.9853e-04, 1.1420e-04, 1.1575e-05,\n",
      "         8.8112e-02, 6.3925e-06, 3.0801e-04, 4.0003e-06, 6.9661e-06, 1.0660e-07,\n",
      "         3.5249e-03, 1.1642e-06, 2.5033e-06, 6.3294e-07, 2.0115e-06, 1.9916e-07,\n",
      "         1.3379e-03, 2.2793e-06, 1.1283e-06, 1.2200e-06, 1.2200e-06, 8.8378e-08,\n",
      "         1.2987e-06, 1.5156e-05, 1.0936e-06, 4.0866e-07, 4.0633e-06, 2.1874e-07,\n",
      "         6.2313e-07, 2.9728e-06, 5.8873e-08, 2.6125e-08, 6.6992e-06]],\n",
      "       device='cuda:0')\n",
      "Class ID type <class 'int'>\n",
      "Top3 ID : tensor([ 7, 36, 14])\n",
      "Query: You are an expert educational diagnostician specializing in identifying students' math misconceptions from their written explanations.\n",
      "Your task is to analyze the student's explanation and classify the specific type of misconception they demonstrate.\n",
      "\n",
      "Question: \\( \\frac{1}{3}+\\frac{2}{5}= \\)\n",
      "Answer: \\( \\frac{11}{30} \\)\n",
      "Correct: False\n",
      "Student Explanation: you change thee bottoms to 30 and add the top ones up\n",
      "\n",
      "Based on the information above, identify and label the underlying math misconception in the student's explanation.\n",
      "Provide a clear and concise classification of the misconception type.\n",
      "\n",
      "              Predict Class ID: 14\n",
      "              Predict Text: False_Misconception:Incorrect_equivalent_fraction_addition\n",
      "              Actual Class ID: 14\n",
      "              Actual Class Text: False_Misconception:Incorrect_equivalent_fraction_addition\n",
      "             MAP@3 Score : 0.3333333333333333\n",
      "------------------------------\n",
      "Data 9\n",
      "Logits Dimension: torch.Size([1, 65])\n",
      "Probailities : tensor([[5.5715e-06, 4.4254e-05, 8.3150e-06, 7.8725e-06, 6.8397e-06, 1.1886e-06,\n",
      "         1.1793e-06, 1.6928e-05, 3.1684e-06, 3.3025e-03, 2.1144e-07, 1.5689e-04,\n",
      "         4.7849e-05, 9.7593e-06, 9.3685e-05, 2.1567e-05, 5.7475e-07, 3.9836e-03,\n",
      "         2.6841e-05, 1.5534e-05, 2.3418e-03, 9.7008e-07, 2.2252e-05, 5.6043e-06,\n",
      "         1.5685e-06, 2.9479e-05, 2.6425e-05, 1.5689e-04, 2.8512e-06, 3.7693e-07,\n",
      "         1.8845e-06, 2.0261e-05, 1.9444e-06, 9.7475e-01, 4.8691e-06, 9.9308e-07,\n",
      "         1.4801e-02, 3.5612e-08, 7.7948e-07, 2.0291e-08, 2.9524e-08, 2.5797e-09,\n",
      "         2.9389e-06, 9.6253e-07, 6.1792e-06, 1.1206e-08, 3.1870e-06, 9.0042e-09,\n",
      "         1.7226e-06, 5.3380e-05, 4.8676e-08, 2.4720e-07, 5.3581e-06, 1.4389e-08,\n",
      "         4.7179e-08, 1.3026e-07, 2.4476e-08, 6.0706e-07, 8.1689e-07, 3.8727e-09,\n",
      "         4.6713e-09, 5.6144e-07, 3.2748e-07, 3.9562e-10, 7.9009e-08]],\n",
      "       device='cuda:0')\n",
      "Class ID type <class 'int'>\n",
      "Top3 ID : tensor([17, 36, 33])\n",
      "Query: You are an expert educational diagnostician specializing in identifying students' math misconceptions from their written explanations.\n",
      "Your task is to analyze the student's explanation and classify the specific type of misconception they demonstrate.\n",
      "\n",
      "Question: Calculate \\( \\frac{2}{3} \\times 5 \\)\n",
      "Answer: \\( 5 \\frac{2}{3} \\)\n",
      "Correct: False\n",
      "Student Explanation: you add the 5 and 2 / 3\n",
      "\n",
      "Based on the information above, identify and label the underlying math misconception in the student's explanation.\n",
      "Provide a clear and concise classification of the misconception type.\n",
      "\n",
      "              Predict Class ID: 33\n",
      "              Predict Text: False_Misconception:Wrong_Operation\n",
      "              Actual Class ID: 33\n",
      "              Actual Class Text: False_Misconception:Wrong_Operation\n",
      "             MAP@3 Score : 0.3333333333333333\n",
      "------------------------------\n",
      "Data 10\n",
      "Logits Dimension: torch.Size([1, 65])\n",
      "Probailities : tensor([[4.9575e-05, 8.5324e-05, 4.1421e-05, 5.4974e-06, 2.3786e-05, 2.5169e-06,\n",
      "         2.5420e-05, 4.0853e-06, 4.1671e-04, 1.4858e-04, 3.3343e-06, 4.3605e-01,\n",
      "         2.1959e-04, 1.2459e-06, 3.5091e-04, 1.3766e-05, 4.0859e-05, 1.0536e-04,\n",
      "         1.7507e-04, 9.1539e-05, 2.0598e-01, 1.9113e-05, 5.1057e-04, 3.6733e-05,\n",
      "         3.6053e-06, 5.2677e-04, 8.5145e-06, 3.3960e-01, 2.6252e-05, 1.0432e-05,\n",
      "         7.6922e-06, 9.4445e-05, 1.7815e-05, 1.4774e-03, 5.2456e-06, 8.7164e-06,\n",
      "         7.5027e-03, 1.5029e-06, 6.2782e-06, 1.2266e-06, 3.3343e-06, 3.2689e-08,\n",
      "         2.4090e-05, 5.6616e-05, 3.9141e-05, 9.1155e-07, 1.8970e-03, 1.6090e-07,\n",
      "         4.9278e-06, 5.7060e-05, 5.9441e-06, 7.7969e-07, 3.6565e-03, 2.0224e-06,\n",
      "         1.2882e-05, 9.2591e-07, 3.6620e-06, 7.9197e-07, 5.1861e-04, 5.2757e-07,\n",
      "         1.3339e-07, 1.0514e-05, 5.0054e-06, 5.5605e-08, 1.2459e-06]],\n",
      "       device='cuda:0')\n",
      "Class ID type <class 'int'>\n",
      "Top3 ID : tensor([20, 27, 11])\n",
      "Query: You are an expert educational diagnostician specializing in identifying students' math misconceptions from their written explanations.\n",
      "Your task is to analyze the student's explanation and classify the specific type of misconception they demonstrate.\n",
      "\n",
      "Question: Calculate \\( \\frac{1}{2} \\div 6 \\)\n",
      "Answer: \\( 3 \\)\n",
      "Correct: False\n",
      "Student Explanation: i divided 2 by 6 and gott 3 so that's what i did.\n",
      "\n",
      "Based on the information above, identify and label the underlying math misconception in the student's explanation.\n",
      "Provide a clear and concise classification of the misconception type.\n",
      "\n",
      "              Predict Class ID: 11\n",
      "              Predict Text: False_Misconception:FlipChange\n",
      "              Actual Class ID: 11\n",
      "              Actual Class Text: False_Misconception:FlipChange\n",
      "             MAP@3 Score : 0.3333333333333333\n",
      "------------------------------\n",
      "Data 11\n",
      "Logits Dimension: torch.Size([1, 65])\n",
      "Probailities : tensor([[1.7043e-04, 3.4150e-06, 9.7928e-01, 1.8323e-03, 4.6860e-06, 5.5322e-06,\n",
      "         9.3465e-06, 6.9944e-05, 9.6700e-07, 2.2135e-06, 1.0789e-05, 1.5791e-05,\n",
      "         4.6593e-05, 1.5300e-07, 3.4896e-05, 6.5706e-05, 5.4162e-04, 9.0368e-06,\n",
      "         1.8718e-04, 1.1830e-03, 3.4896e-05, 9.4937e-06, 9.6005e-03, 5.3307e-06,\n",
      "         3.1460e-06, 9.7108e-05, 7.2436e-06, 8.2552e-06, 8.6928e-06, 2.2838e-06,\n",
      "         1.9231e-06, 1.6292e-05, 7.6582e-06, 5.6303e-06, 1.4490e-05, 9.6056e-06,\n",
      "         6.5983e-03, 1.3293e-07, 8.8551e-08, 3.4355e-05, 1.7337e-07, 1.4150e-07,\n",
      "         8.1430e-07, 3.1394e-07, 3.6134e-07, 1.9955e-07, 1.0353e-07, 1.4914e-08,\n",
      "         7.8924e-07, 3.9686e-07, 8.4202e-06, 3.5170e-05, 1.6287e-07, 1.9955e-07,\n",
      "         9.6999e-06, 3.7868e-07, 1.9382e-06, 1.9955e-07, 3.6703e-07, 4.1828e-08,\n",
      "         5.8988e-08, 8.4015e-07, 1.3115e-06, 9.0460e-09, 2.7705e-07]],\n",
      "       device='cuda:0')\n",
      "Class ID type <class 'int'>\n",
      "Top3 ID : tensor([36, 22,  2])\n",
      "Query: You are an expert educational diagnostician specializing in identifying students' math misconceptions from their written explanations.\n",
      "Your task is to analyze the student's explanation and classify the specific type of misconception they demonstrate.\n",
      "\n",
      "Question: \\( 2 y=24 \\) What is the value of \\( y \\) ?\n",
      "Answer: \\( 22 \\)\n",
      "Correct: False\n",
      "Student Explanation: i think this coz you add\n",
      "\n",
      "Based on the information above, identify and label the underlying math misconception in the student's explanation.\n",
      "Provide a clear and concise classification of the misconception type.\n",
      "\n",
      "              Predict Class ID: 2\n",
      "              Predict Text: False_Misconception:Adding_terms\n",
      "              Actual Class ID: 2\n",
      "              Actual Class Text: False_Misconception:Adding_terms\n",
      "             MAP@3 Score : 0.3333333333333333\n",
      "------------------------------\n",
      "Data 12\n",
      "Logits Dimension: torch.Size([1, 65])\n",
      "Probailities : tensor([[3.9688e-03, 7.1156e-04, 7.2975e-05, 5.0853e-04, 2.3282e-04, 5.4019e-05,\n",
      "         2.8975e-04, 9.8022e-04, 2.0789e-04, 1.1501e-05, 4.2823e-04, 3.0965e-04,\n",
      "         1.9377e-04, 1.6544e-03, 1.9453e-04, 3.8990e-04, 1.4632e-04, 1.8669e-05,\n",
      "         1.2353e-04, 1.1868e-04, 1.9189e-04, 1.8170e-03, 5.6731e-04, 4.6933e-05,\n",
      "         5.4985e-04, 2.5121e-05, 1.4407e-04, 7.7379e-05, 2.3971e-05, 5.2879e-04,\n",
      "         6.6966e-05, 9.5006e-04, 5.3938e-02, 2.5273e-04, 2.7277e-03, 1.6167e-04,\n",
      "         9.2666e-01, 1.7814e-05, 2.3053e-05, 2.0344e-05, 4.7301e-05, 2.0946e-06,\n",
      "         1.4768e-05, 4.6205e-05, 3.9214e-05, 6.2532e-06, 1.4768e-05, 2.9370e-05,\n",
      "         3.8909e-05, 1.6220e-05, 8.9573e-06, 2.6067e-06, 7.4998e-05, 1.3033e-05,\n",
      "         3.7927e-06, 9.2945e-07, 2.0946e-06, 2.3971e-05, 3.7339e-06, 2.8185e-06,\n",
      "         5.6833e-05, 4.8700e-06, 3.5151e-05, 4.9750e-07, 1.0576e-04]],\n",
      "       device='cuda:0')\n",
      "Class ID type <class 'int'>\n",
      "Top3 ID : tensor([ 0, 32, 36])\n",
      "Query: You are an expert educational diagnostician specializing in identifying students' math misconceptions from their written explanations.\n",
      "Your task is to analyze the student's explanation and classify the specific type of misconception they demonstrate.\n",
      "\n",
      "Question: A box contains \\( 120 \\) counters. The counters are red or blue. \\( \\frac{3}{5} \\) of the counters are red.\n",
      "How many red counters are there?\n",
      "Answer: \\( 48 \\)\n",
      "Correct: False\n",
      "Student Explanation: Bye the way the ones I didn’t type were easy or I guessed.\n",
      "\n",
      "Based on the information above, identify and label the underlying math misconception in the student's explanation.\n",
      "Provide a clear and concise classification of the misconception type.\n",
      "\n",
      "              Predict Class ID: 36\n",
      "              Predict Text: False_Neither:NA\n",
      "              Actual Class ID: 36\n",
      "              Actual Class Text: False_Neither:NA\n",
      "             MAP@3 Score : 0.3333333333333333\n",
      "------------------------------\n",
      "Data 13\n",
      "Logits Dimension: torch.Size([1, 65])\n",
      "Probailities : tensor([[1.0006e-07, 4.9431e-09, 1.1590e-04, 2.0855e-07, 1.6722e-08, 2.2374e-07,\n",
      "         1.9098e-08, 8.6598e-08, 1.4757e-08, 7.5828e-08, 1.7055e-07, 5.6690e-07,\n",
      "         1.5076e-09, 1.1510e-11, 3.8117e-10, 1.1315e-08, 1.0127e-05, 2.2638e-07,\n",
      "         9.7189e-07, 1.6722e-08, 5.2524e-08, 7.5374e-09, 2.5209e-06, 7.1922e-09,\n",
      "         5.7221e-10, 1.5466e-08, 1.0629e-08, 1.3571e-07, 1.4757e-08, 7.0807e-09,\n",
      "         1.0043e-09, 1.3228e-08, 3.0454e-09, 2.9068e-07, 1.3228e-08, 5.4290e-09,\n",
      "         1.4303e-08, 2.3547e-05, 9.6985e-08, 9.8158e-06, 2.8446e-08, 2.5853e-07,\n",
      "         7.5532e-08, 4.8870e-07, 8.5102e-07, 1.9029e-06, 1.6276e-06, 3.9103e-09,\n",
      "         2.0814e-07, 1.7734e-07, 2.8403e-05, 3.0887e-06, 1.1186e-06, 1.5866e-07,\n",
      "         9.9973e-01, 6.2374e-08, 1.6276e-06, 6.2131e-08, 7.8872e-06, 3.9886e-07,\n",
      "         3.2175e-07, 3.9186e-08, 3.2427e-07, 2.8669e-08, 5.4748e-05]],\n",
      "       device='cuda:0')\n",
      "Class ID type <class 'int'>\n",
      "Top3 ID : tensor([64,  2, 54])\n",
      "Query: You are an expert educational diagnostician specializing in identifying students' math misconceptions from their written explanations.\n",
      "Your task is to analyze the student's explanation and classify the specific type of misconception they demonstrate.\n",
      "\n",
      "Question: \\( 2 y=24 \\) What is the value of \\( y \\) ?\n",
      "Answer: \\( 12 \\)\n",
      "Correct: True\n",
      "Student Explanation: i think because 2*12is 24 so that's why im sort of guessing\n",
      "\n",
      "Based on the information above, identify and label the underlying math misconception in the student's explanation.\n",
      "Provide a clear and concise classification of the misconception type.\n",
      "\n",
      "              Predict Class ID: 54\n",
      "              Predict Text: True_Misconception:Not_variable\n",
      "              Actual Class ID: 54\n",
      "              Actual Class Text: True_Misconception:Not_variable\n",
      "             MAP@3 Score : 0.3333333333333333\n",
      "------------------------------\n",
      "Data 14\n",
      "Logits Dimension: torch.Size([1, 65])\n",
      "Probailities : tensor([[3.1096e-03, 8.7184e-05, 6.7899e-05, 3.3291e-04, 6.0755e-04, 4.2824e-05,\n",
      "         1.2069e-04, 2.5031e-04, 1.0114e-04, 2.5092e-01, 6.0391e-05, 3.8921e-04,\n",
      "         9.7451e-05, 4.0471e-04, 1.8313e-04, 2.6130e-04, 2.4305e-05, 4.2503e-03,\n",
      "         7.4438e-04, 3.3552e-04, 1.8280e-03, 1.3741e-05, 1.5035e-04, 3.4544e-05,\n",
      "         2.0752e-04, 4.0157e-04, 3.9844e-04, 4.7316e-04, 3.3482e-05, 1.6065e-05,\n",
      "         2.4740e-04, 4.7773e-05, 1.5695e-04, 3.4296e-01, 1.9647e-04, 2.6075e-05,\n",
      "         3.8863e-01, 2.0789e-05, 1.0701e-05, 1.2708e-05, 5.7280e-06, 2.1527e-07,\n",
      "         2.6335e-04, 8.9165e-05, 4.5149e-04, 5.6715e-07, 8.0790e-05, 6.8411e-07,\n",
      "         4.0229e-05, 5.5318e-04, 1.8635e-05, 7.9981e-07, 7.4719e-05, 1.0270e-06,\n",
      "         6.8411e-07, 3.1633e-06, 2.7483e-06, 4.7033e-05, 6.3901e-06, 8.2520e-07,\n",
      "         8.5139e-07, 3.0724e-05, 1.1392e-05, 1.5265e-07, 6.8298e-05]],\n",
      "       device='cuda:0')\n",
      "Class ID type <class 'int'>\n",
      "Top3 ID : tensor([ 9, 33, 36])\n",
      "Query: You are an expert educational diagnostician specializing in identifying students' math misconceptions from their written explanations.\n",
      "Your task is to analyze the student's explanation and classify the specific type of misconception they demonstrate.\n",
      "\n",
      "Question: Calculate \\( \\frac{2}{3} \\times 5 \\)\n",
      "Answer: \\( \\frac{10}{15} \\)\n",
      "Correct: False\n",
      "Student Explanation: You just do 2 thirds 5 times.\n",
      "\n",
      "Based on the information above, identify and label the underlying math misconception in the student's explanation.\n",
      "Provide a clear and concise classification of the misconception type.\n",
      "\n",
      "              Predict Class ID: 36\n",
      "              Predict Text: False_Neither:NA\n",
      "              Actual Class ID: 33\n",
      "              Actual Class Text: False_Misconception:Wrong_Operation\n",
      "             MAP@3 Score : 0.5\n",
      "------------------------------\n",
      "Data 15\n",
      "Logits Dimension: torch.Size([1, 65])\n",
      "Probailities : tensor([[4.2445e-04, 4.6799e-04, 1.7323e-02, 6.8226e-04, 9.9268e-04, 1.8986e-03,\n",
      "         1.3890e-03, 1.0672e-02, 4.8474e-04, 2.5494e-04, 1.5830e-04, 2.4855e-04,\n",
      "         3.9038e-02, 1.5046e-04, 3.2363e-02, 1.4902e-03, 4.3030e-04, 6.8493e-04,\n",
      "         1.7873e-02, 2.7958e-01, 1.0026e-02, 2.7918e-04, 2.1682e-03, 2.4188e-03,\n",
      "         4.2033e-04, 4.4676e-01, 2.3213e-04, 1.3919e-02, 1.8258e-03, 1.8184e-04,\n",
      "         2.3081e-03, 4.7088e-02, 1.6137e-06, 2.9176e-03, 3.8571e-04, 2.2150e-04,\n",
      "         4.0277e-02, 9.0005e-06, 2.4087e-05, 1.0360e-05, 3.2412e-05, 8.9117e-07,\n",
      "         5.0701e-04, 3.6728e-05, 4.8278e-05, 2.3479e-06, 2.7450e-06, 1.6322e-08,\n",
      "         3.5046e-05, 2.5787e-06, 2.4087e-05, 1.2873e-02, 3.7520e-06, 1.8866e-06,\n",
      "         9.4523e-05, 4.3276e-05, 8.0559e-03, 6.5200e-07, 3.5598e-05, 1.4241e-06,\n",
      "         3.0148e-06, 1.0141e-04, 6.5849e-06, 5.3519e-08, 5.1283e-06]],\n",
      "       device='cuda:0')\n",
      "Class ID type <class 'int'>\n",
      "Top3 ID : tensor([31, 19, 25])\n",
      "Query: You are an expert educational diagnostician specializing in identifying students' math misconceptions from their written explanations.\n",
      "Your task is to analyze the student's explanation and classify the specific type of misconception they demonstrate.\n",
      "\n",
      "Question: Which number is the greatest?\n",
      "Answer: \\( 6 \\)\n",
      "Correct: False\n",
      "Student Explanation: if you had 6.789 and 6.1, the one with 3 decimal places would be smaller because it has more decimals than 1, while the other only has 1 decimal place.\n",
      "\n",
      "Based on the information above, identify and label the underlying math misconception in the student's explanation.\n",
      "Provide a clear and concise classification of the misconception type.\n",
      "\n",
      "              Predict Class ID: 25\n",
      "              Predict Text: False_Misconception:Shorter_is_bigger\n",
      "              Actual Class ID: 25\n",
      "              Actual Class Text: False_Misconception:Shorter_is_bigger\n",
      "             MAP@3 Score : 0.3333333333333333\n",
      "------------------------------\n",
      "Data 16\n",
      "Logits Dimension: torch.Size([1, 65])\n",
      "Probailities : tensor([[9.0147e-07, 4.1922e-07, 3.5504e-08, 1.3191e-07, 3.8994e-08, 1.2659e-08,\n",
      "         1.0874e-06, 2.0114e-07, 2.5983e-06, 5.2181e-06, 1.1527e-08, 1.2568e-04,\n",
      "         1.6162e-07, 3.1332e-08, 7.9554e-07, 9.3541e-08, 2.9266e-07, 5.1364e-07,\n",
      "         9.9783e-07, 4.2582e-07, 8.3247e-04, 1.1461e-07, 4.1272e-07, 2.2091e-07,\n",
      "         6.1475e-07, 1.0874e-06, 2.3516e-07, 3.5804e-04, 3.4412e-08, 2.8366e-07,\n",
      "         1.9803e-07, 8.5349e-07, 3.1332e-08, 5.7309e-06, 1.1527e-08, 2.5176e-08,\n",
      "         2.9161e-05, 1.4161e-03, 8.1294e-06, 1.2640e-05, 3.3303e-05, 3.2085e-06,\n",
      "         1.4021e-04, 1.4663e-05, 2.2711e-05, 6.9807e-06, 2.0809e-02, 7.4153e-07,\n",
      "         4.5520e-05, 1.9731e-05, 2.9853e-05, 5.5546e-06, 8.3122e-01, 7.8793e-06,\n",
      "         1.4549e-05, 1.5609e-05, 4.0887e-06, 2.9500e-06, 1.1249e-01, 5.1581e-05,\n",
      "         1.3992e-05, 4.8259e-06, 8.5864e-06, 2.7067e-07, 3.2230e-02]],\n",
      "       device='cuda:0')\n",
      "Class ID type <class 'int'>\n",
      "Top3 ID : tensor([64, 58, 52])\n",
      "Query: You are an expert educational diagnostician specializing in identifying students' math misconceptions from their written explanations.\n",
      "Your task is to analyze the student's explanation and classify the specific type of misconception they demonstrate.\n",
      "\n",
      "Question: Calculate \\( \\frac{1}{2} \\div 6 \\)\n",
      "Answer: \\( \\frac{1}{12} \\)\n",
      "Correct: True\n",
      "Student Explanation: its a because it is half of 6\n",
      "\n",
      "Based on the information above, identify and label the underlying math misconception in the student's explanation.\n",
      "Provide a clear and concise classification of the misconception type.\n",
      "\n",
      "              Predict Class ID: 52\n",
      "              Predict Text: True_Misconception:Mult\n",
      "              Actual Class ID: 52\n",
      "              Actual Class Text: True_Misconception:Mult\n",
      "             MAP@3 Score : 0.3333333333333333\n",
      "------------------------------\n",
      "Data 17\n",
      "Logits Dimension: torch.Size([1, 65])\n",
      "Probailities : tensor([[4.7711e-06, 2.8149e-08, 2.7671e-05, 4.9612e-06, 2.2490e-07, 9.0867e-08,\n",
      "         4.5691e-08, 3.9164e-07, 6.3321e-07, 2.7555e-07, 7.3014e-08, 6.0895e-07,\n",
      "         3.4489e-08, 3.6144e-08, 1.1373e-08, 2.6499e-07, 5.5031e-05, 5.3418e-08,\n",
      "         1.2089e-05, 3.1897e-08, 6.8466e-07, 5.5114e-08, 1.2669e-05, 1.6039e-08,\n",
      "         2.8593e-08, 2.8149e-08, 1.3641e-07, 2.5286e-07, 2.0003e-07, 2.7555e-07,\n",
      "         4.9403e-08, 6.6480e-08, 1.6548e-08, 1.1133e-07, 4.2922e-08, 5.6863e-08,\n",
      "         3.1224e-07, 9.8931e-01, 4.2346e-07, 2.5051e-04, 3.2032e-06, 3.9554e-06,\n",
      "         4.2346e-07, 2.7505e-06, 3.9246e-06, 5.3226e-06, 2.2940e-05, 6.8199e-07,\n",
      "         3.4635e-06, 6.0312e-06, 6.2003e-04, 5.4915e-06, 9.2159e-05, 5.5346e-06,\n",
      "         3.4241e-04, 1.3856e-07, 1.9622e-05, 5.6539e-07, 1.8433e-05, 1.6015e-05,\n",
      "         2.3301e-05, 8.2909e-07, 2.7079e-06, 2.9857e-06, 9.1113e-03]],\n",
      "       device='cuda:0')\n",
      "Class ID type <class 'int'>\n",
      "Top3 ID : tensor([50, 64, 37])\n",
      "Query: You are an expert educational diagnostician specializing in identifying students' math misconceptions from their written explanations.\n",
      "Your task is to analyze the student's explanation and classify the specific type of misconception they demonstrate.\n",
      "\n",
      "Question: \\( 2 y=24 \\) What is the value of \\( y \\) ?\n",
      "Answer: \\( 12 \\)\n",
      "Correct: True\n",
      "Student Explanation: because if 2=24 then i did half 24 and that =12\n",
      "\n",
      "Based on the information above, identify and label the underlying math misconception in the student's explanation.\n",
      "Provide a clear and concise classification of the misconception type.\n",
      "\n",
      "              Predict Class ID: 37\n",
      "              Predict Text: True_Correct:NA\n",
      "              Actual Class ID: 64\n",
      "              Actual Class Text: True_Neither:NA\n",
      "             MAP@3 Score : 0.5\n",
      "------------------------------\n",
      "Data 18\n",
      "Logits Dimension: torch.Size([1, 65])\n",
      "Probailities : tensor([[1.3240e-05, 5.0939e-07, 1.1235e-06, 8.8892e-06, 9.7893e-01, 1.3768e-05,\n",
      "         9.3158e-06, 2.7917e-06, 4.4350e-06, 4.3492e-06, 5.3609e-05, 1.3110e-06,\n",
      "         1.4205e-05, 3.1696e-06, 5.0255e-06, 5.8297e-06, 7.3694e-06, 4.8607e-07,\n",
      "         1.1504e-05, 4.9580e-05, 7.8001e-05, 1.2323e-02, 1.5847e-05, 6.9772e-06,\n",
      "         8.6833e-06, 5.1447e-06, 2.7430e-06, 3.9755e-06, 1.6350e-05, 2.9713e-07,\n",
      "         2.5768e-06, 2.6538e-05, 1.2412e-06, 1.1569e-06, 6.6577e-06, 1.1213e-06,\n",
      "         7.9563e-03, 1.7430e-08, 7.8118e-08, 8.9913e-08, 3.2839e-04, 9.8336e-10,\n",
      "         5.4650e-07, 3.8753e-07, 8.2336e-09, 7.5715e-08, 7.0172e-07, 1.4762e-09,\n",
      "         5.0437e-08, 4.0127e-09, 7.5715e-08, 3.1139e-07, 1.9035e-07, 7.1020e-05,\n",
      "         2.8738e-08, 7.9803e-09, 5.0437e-08, 3.9899e-08, 6.3758e-08, 1.5714e-09,\n",
      "         2.8738e-08, 2.5361e-08, 2.1693e-08, 1.2238e-09, 4.9939e-09]],\n",
      "       device='cuda:0')\n",
      "Class ID type <class 'int'>\n",
      "Top3 ID : tensor([36, 21,  4])\n",
      "Query: You are an expert educational diagnostician specializing in identifying students' math misconceptions from their written explanations.\n",
      "Your task is to analyze the student's explanation and classify the specific type of misconception they demonstrate.\n",
      "\n",
      "Question: It takes \\( 3 \\) people a total of \\( 192 \\) hours to build a wall.\n",
      "\n",
      "How long would it take if \\( 12 \\) people built the same wall?\n",
      "Answer: \\( 64 \\) hours\n",
      "Correct: False\n",
      "Student Explanation: because i did 192 divided by 3= 64\n",
      "\n",
      "Based on the information above, identify and label the underlying math misconception in the student's explanation.\n",
      "Provide a clear and concise classification of the misconception type.\n",
      "\n",
      "              Predict Class ID: 4\n",
      "              Predict Text: False_Misconception:Base_rate\n",
      "              Actual Class ID: 4\n",
      "              Actual Class Text: False_Misconception:Base_rate\n",
      "             MAP@3 Score : 0.3333333333333333\n",
      "------------------------------\n",
      "Data 19\n",
      "Logits Dimension: torch.Size([1, 65])\n",
      "Probailities : tensor([[1.0605e-05, 8.5343e-09, 9.9895e-01, 2.4275e-05, 6.4439e-07, 5.4476e-07,\n",
      "         2.0920e-07, 5.1576e-07, 5.9704e-08, 3.3529e-07, 3.0828e-07, 1.7178e-06,\n",
      "         4.1294e-05, 7.4147e-09, 1.2470e-06, 3.6082e-06, 5.1391e-05, 1.5159e-06,\n",
      "         2.2805e-05, 3.2344e-06, 7.8645e-07, 6.1120e-08, 8.5573e-04, 4.7801e-06,\n",
      "         5.2279e-08, 4.9407e-07, 1.3720e-07, 4.2848e-06, 1.2865e-06, 3.0733e-08,\n",
      "         5.3102e-08, 8.6374e-07, 1.6421e-07, 1.7377e-07, 2.1500e-07, 2.7066e-07,\n",
      "         5.3326e-06, 1.3350e-07, 7.8929e-09, 2.9748e-07, 5.6850e-09, 3.9688e-09,\n",
      "         1.8934e-08, 2.9958e-09, 2.0795e-08, 4.0948e-09, 1.2885e-09, 5.1546e-11,\n",
      "         1.6011e-06, 7.4147e-09, 6.9550e-06, 8.9815e-07, 5.3406e-09, 1.7070e-09,\n",
      "         2.7236e-06, 1.2613e-08, 1.5697e-08, 2.9036e-09, 9.3730e-09, 3.1890e-09,\n",
      "         1.5542e-09, 8.2717e-09, 2.4695e-08, 1.7070e-09, 4.4972e-09]],\n",
      "       device='cuda:0')\n",
      "Class ID type <class 'int'>\n",
      "Top3 ID : tensor([16, 22,  2])\n",
      "Query: You are an expert educational diagnostician specializing in identifying students' math misconceptions from their written explanations.\n",
      "Your task is to analyze the student's explanation and classify the specific type of misconception they demonstrate.\n",
      "\n",
      "Question: \\( 2 y=24 \\) What is the value of \\( y \\) ?\n",
      "Answer: \\( 22 \\)\n",
      "Correct: False\n",
      "Student Explanation: because 2 is worth 2 22 add 2 is 24\n",
      "\n",
      "Based on the information above, identify and label the underlying math misconception in the student's explanation.\n",
      "Provide a clear and concise classification of the misconception type.\n",
      "\n",
      "              Predict Class ID: 2\n",
      "              Predict Text: False_Misconception:Adding_terms\n",
      "              Actual Class ID: 2\n",
      "              Actual Class Text: False_Misconception:Adding_terms\n",
      "             MAP@3 Score : 0.3333333333333333\n",
      "------------------------------\n"
     ]
    }
   ],
   "source": [
    "testValDataset(datasetDict[\"val\"], 20 )"
   ]
  },
  {
   "cell_type": "code",
   "execution_count": null,
   "id": "9ba25cf6",
   "metadata": {
    "papermill": {
     "duration": 0.035394,
     "end_time": "2025-09-29T19:34:08.514348",
     "exception": false,
     "start_time": "2025-09-29T19:34:08.478954",
     "status": "completed"
    },
    "tags": []
   },
   "outputs": [],
   "source": []
  },
  {
   "cell_type": "code",
   "execution_count": null,
   "id": "6d84af02",
   "metadata": {
    "papermill": {
     "duration": 0.034769,
     "end_time": "2025-09-29T19:34:08.584075",
     "exception": false,
     "start_time": "2025-09-29T19:34:08.549306",
     "status": "completed"
    },
    "tags": []
   },
   "outputs": [],
   "source": []
  },
  {
   "cell_type": "code",
   "execution_count": null,
   "id": "e536a394",
   "metadata": {
    "papermill": {
     "duration": 0.034972,
     "end_time": "2025-09-29T19:34:08.653966",
     "exception": false,
     "start_time": "2025-09-29T19:34:08.618994",
     "status": "completed"
    },
    "tags": []
   },
   "outputs": [],
   "source": []
  }
 ],
 "metadata": {
  "kaggle": {
   "accelerator": "nvidiaTeslaT4",
   "dataSources": [
    {
     "databundleVersionId": 12957508,
     "sourceId": 104383,
     "sourceType": "competition"
    },
    {
     "datasetId": 5404413,
     "sourceId": 12932535,
     "sourceType": "datasetVersion"
    },
    {
     "datasetId": 8319386,
     "sourceId": 13132370,
     "sourceType": "datasetVersion"
    },
    {
     "modelId": 368800,
     "modelInstanceId": 347538,
     "sourceId": 426326,
     "sourceType": "modelInstanceVersion"
    }
   ],
   "dockerImageVersionId": 31089,
   "isGpuEnabled": true,
   "isInternetEnabled": false,
   "language": "python",
   "sourceType": "notebook"
  },
  "kernelspec": {
   "display_name": "Python 3",
   "language": "python",
   "name": "python3"
  },
  "language_info": {
   "codemirror_mode": {
    "name": "ipython",
    "version": 3
   },
   "file_extension": ".py",
   "mimetype": "text/x-python",
   "name": "python",
   "nbconvert_exporter": "python",
   "pygments_lexer": "ipython3",
   "version": "3.11.13"
  },
  "papermill": {
   "default_parameters": {},
   "duration": 10405.180876,
   "end_time": "2025-09-29T19:34:11.727629",
   "environment_variables": {},
   "exception": null,
   "input_path": "__notebook__.ipynb",
   "output_path": "__notebook__.ipynb",
   "parameters": {},
   "start_time": "2025-09-29T16:40:46.546753",
   "version": "2.6.0"
  },
  "widgets": {
   "application/vnd.jupyter.widget-state+json": {
    "state": {
     "0b8eb47dc13e486c8136eccb959b3fdc": {
      "model_module": "@jupyter-widgets/controls",
      "model_module_version": "2.0.0",
      "model_name": "HTMLModel",
      "state": {
       "_dom_classes": [],
       "_model_module": "@jupyter-widgets/controls",
       "_model_module_version": "2.0.0",
       "_model_name": "HTMLModel",
       "_view_count": null,
       "_view_module": "@jupyter-widgets/controls",
       "_view_module_version": "2.0.0",
       "_view_name": "HTMLView",
       "description": "",
       "description_allow_html": false,
       "layout": "IPY_MODEL_d505e37248e5419bbe77415b674065b4",
       "placeholder": "​",
       "style": "IPY_MODEL_d04b68f4b70843e889bfe4a965461a35",
       "tabbable": null,
       "tooltip": null,
       "value": "Map: 100%"
      }
     },
     "0c22729d148f4d2ca623f1dc467bdbfd": {
      "model_module": "@jupyter-widgets/controls",
      "model_module_version": "2.0.0",
      "model_name": "HTMLStyleModel",
      "state": {
       "_model_module": "@jupyter-widgets/controls",
       "_model_module_version": "2.0.0",
       "_model_name": "HTMLStyleModel",
       "_view_count": null,
       "_view_module": "@jupyter-widgets/base",
       "_view_module_version": "2.0.0",
       "_view_name": "StyleView",
       "background": null,
       "description_width": "",
       "font_size": null,
       "text_color": null
      }
     },
     "14722bb9ce04453a9a6870239f332e34": {
      "model_module": "@jupyter-widgets/base",
      "model_module_version": "2.0.0",
      "model_name": "LayoutModel",
      "state": {
       "_model_module": "@jupyter-widgets/base",
       "_model_module_version": "2.0.0",
       "_model_name": "LayoutModel",
       "_view_count": null,
       "_view_module": "@jupyter-widgets/base",
       "_view_module_version": "2.0.0",
       "_view_name": "LayoutView",
       "align_content": null,
       "align_items": null,
       "align_self": null,
       "border_bottom": null,
       "border_left": null,
       "border_right": null,
       "border_top": null,
       "bottom": null,
       "display": null,
       "flex": null,
       "flex_flow": null,
       "grid_area": null,
       "grid_auto_columns": null,
       "grid_auto_flow": null,
       "grid_auto_rows": null,
       "grid_column": null,
       "grid_gap": null,
       "grid_row": null,
       "grid_template_areas": null,
       "grid_template_columns": null,
       "grid_template_rows": null,
       "height": null,
       "justify_content": null,
       "justify_items": null,
       "left": null,
       "margin": null,
       "max_height": null,
       "max_width": null,
       "min_height": null,
       "min_width": null,
       "object_fit": null,
       "object_position": null,
       "order": null,
       "overflow": null,
       "padding": null,
       "right": null,
       "top": null,
       "visibility": null,
       "width": null
      }
     },
     "1d2a1d7dc6ca460498de8e2030223049": {
      "model_module": "@jupyter-widgets/controls",
      "model_module_version": "2.0.0",
      "model_name": "HBoxModel",
      "state": {
       "_dom_classes": [],
       "_model_module": "@jupyter-widgets/controls",
       "_model_module_version": "2.0.0",
       "_model_name": "HBoxModel",
       "_view_count": null,
       "_view_module": "@jupyter-widgets/controls",
       "_view_module_version": "2.0.0",
       "_view_name": "HBoxView",
       "box_style": "",
       "children": [
        "IPY_MODEL_55a72548a05f4339a5d8bb4bcf314494",
        "IPY_MODEL_3027f179bc674d1599073730edbba9d1",
        "IPY_MODEL_d03b47df840e4029ad54907dabf68113"
       ],
       "layout": "IPY_MODEL_4b593e76fd0a482badc9930c311f761d",
       "tabbable": null,
       "tooltip": null
      }
     },
     "2fe6ffb6907540239a4173e9735ed0a0": {
      "model_module": "@jupyter-widgets/controls",
      "model_module_version": "2.0.0",
      "model_name": "HTMLModel",
      "state": {
       "_dom_classes": [],
       "_model_module": "@jupyter-widgets/controls",
       "_model_module_version": "2.0.0",
       "_model_name": "HTMLModel",
       "_view_count": null,
       "_view_module": "@jupyter-widgets/controls",
       "_view_module_version": "2.0.0",
       "_view_name": "HTMLView",
       "description": "",
       "description_allow_html": false,
       "layout": "IPY_MODEL_383565d370eb409b99f2372e9fdc397b",
       "placeholder": "​",
       "style": "IPY_MODEL_814da794fa3142288df786fbdaee68c3",
       "tabbable": null,
       "tooltip": null,
       "value": " 88965/88965 [00:21&lt;00:00, 4171.37 examples/s]"
      }
     },
     "3027f179bc674d1599073730edbba9d1": {
      "model_module": "@jupyter-widgets/controls",
      "model_module_version": "2.0.0",
      "model_name": "FloatProgressModel",
      "state": {
       "_dom_classes": [],
       "_model_module": "@jupyter-widgets/controls",
       "_model_module_version": "2.0.0",
       "_model_name": "FloatProgressModel",
       "_view_count": null,
       "_view_module": "@jupyter-widgets/controls",
       "_view_module_version": "2.0.0",
       "_view_name": "ProgressView",
       "bar_style": "success",
       "description": "",
       "description_allow_html": false,
       "layout": "IPY_MODEL_67b3199d9c22434a8aaed4e915da722f",
       "max": 90.0,
       "min": 0.0,
       "orientation": "horizontal",
       "style": "IPY_MODEL_c75398183b974a37831e70db9fb03f5c",
       "tabbable": null,
       "tooltip": null,
       "value": 90.0
      }
     },
     "3618f04d8e834275ad4035044817163a": {
      "model_module": "@jupyter-widgets/controls",
      "model_module_version": "2.0.0",
      "model_name": "HTMLStyleModel",
      "state": {
       "_model_module": "@jupyter-widgets/controls",
       "_model_module_version": "2.0.0",
       "_model_name": "HTMLStyleModel",
       "_view_count": null,
       "_view_module": "@jupyter-widgets/base",
       "_view_module_version": "2.0.0",
       "_view_name": "StyleView",
       "background": null,
       "description_width": "",
       "font_size": null,
       "text_color": null
      }
     },
     "383565d370eb409b99f2372e9fdc397b": {
      "model_module": "@jupyter-widgets/base",
      "model_module_version": "2.0.0",
      "model_name": "LayoutModel",
      "state": {
       "_model_module": "@jupyter-widgets/base",
       "_model_module_version": "2.0.0",
       "_model_name": "LayoutModel",
       "_view_count": null,
       "_view_module": "@jupyter-widgets/base",
       "_view_module_version": "2.0.0",
       "_view_name": "LayoutView",
       "align_content": null,
       "align_items": null,
       "align_self": null,
       "border_bottom": null,
       "border_left": null,
       "border_right": null,
       "border_top": null,
       "bottom": null,
       "display": null,
       "flex": null,
       "flex_flow": null,
       "grid_area": null,
       "grid_auto_columns": null,
       "grid_auto_flow": null,
       "grid_auto_rows": null,
       "grid_column": null,
       "grid_gap": null,
       "grid_row": null,
       "grid_template_areas": null,
       "grid_template_columns": null,
       "grid_template_rows": null,
       "height": null,
       "justify_content": null,
       "justify_items": null,
       "left": null,
       "margin": null,
       "max_height": null,
       "max_width": null,
       "min_height": null,
       "min_width": null,
       "object_fit": null,
       "object_position": null,
       "order": null,
       "overflow": null,
       "padding": null,
       "right": null,
       "top": null,
       "visibility": null,
       "width": null
      }
     },
     "42cea40490504779a17504287074f85a": {
      "model_module": "@jupyter-widgets/controls",
      "model_module_version": "2.0.0",
      "model_name": "HBoxModel",
      "state": {
       "_dom_classes": [],
       "_model_module": "@jupyter-widgets/controls",
       "_model_module_version": "2.0.0",
       "_model_name": "HBoxModel",
       "_view_count": null,
       "_view_module": "@jupyter-widgets/controls",
       "_view_module_version": "2.0.0",
       "_view_name": "HBoxView",
       "box_style": "",
       "children": [
        "IPY_MODEL_ba9bb07ec342438e8b6d2e65e5d2fec3",
        "IPY_MODEL_dcac5a32ed6b471da4a43e73161feb40",
        "IPY_MODEL_b06beb4dbb2e429ba863aad58da17e2e"
       ],
       "layout": "IPY_MODEL_9c1c2b446ff946c1924fa2409dbb1ca1",
       "tabbable": null,
       "tooltip": null
      }
     },
     "4b593e76fd0a482badc9930c311f761d": {
      "model_module": "@jupyter-widgets/base",
      "model_module_version": "2.0.0",
      "model_name": "LayoutModel",
      "state": {
       "_model_module": "@jupyter-widgets/base",
       "_model_module_version": "2.0.0",
       "_model_name": "LayoutModel",
       "_view_count": null,
       "_view_module": "@jupyter-widgets/base",
       "_view_module_version": "2.0.0",
       "_view_name": "LayoutView",
       "align_content": null,
       "align_items": null,
       "align_self": null,
       "border_bottom": null,
       "border_left": null,
       "border_right": null,
       "border_top": null,
       "bottom": null,
       "display": null,
       "flex": null,
       "flex_flow": null,
       "grid_area": null,
       "grid_auto_columns": null,
       "grid_auto_flow": null,
       "grid_auto_rows": null,
       "grid_column": null,
       "grid_gap": null,
       "grid_row": null,
       "grid_template_areas": null,
       "grid_template_columns": null,
       "grid_template_rows": null,
       "height": null,
       "justify_content": null,
       "justify_items": null,
       "left": null,
       "margin": null,
       "max_height": null,
       "max_width": null,
       "min_height": null,
       "min_width": null,
       "object_fit": null,
       "object_position": null,
       "order": null,
       "overflow": null,
       "padding": null,
       "right": null,
       "top": null,
       "visibility": null,
       "width": null
      }
     },
     "55a72548a05f4339a5d8bb4bcf314494": {
      "model_module": "@jupyter-widgets/controls",
      "model_module_version": "2.0.0",
      "model_name": "HTMLModel",
      "state": {
       "_dom_classes": [],
       "_model_module": "@jupyter-widgets/controls",
       "_model_module_version": "2.0.0",
       "_model_name": "HTMLModel",
       "_view_count": null,
       "_view_module": "@jupyter-widgets/controls",
       "_view_module_version": "2.0.0",
       "_view_name": "HTMLView",
       "description": "",
       "description_allow_html": false,
       "layout": "IPY_MODEL_ec48fdc7c5a84332baa7cfae641b0b2d",
       "placeholder": "​",
       "style": "IPY_MODEL_0c22729d148f4d2ca623f1dc467bdbfd",
       "tabbable": null,
       "tooltip": null,
       "value": "Map: 100%"
      }
     },
     "57a7b0d8f0e94848a9dc46b4cb322432": {
      "model_module": "@jupyter-widgets/controls",
      "model_module_version": "2.0.0",
      "model_name": "FloatProgressModel",
      "state": {
       "_dom_classes": [],
       "_model_module": "@jupyter-widgets/controls",
       "_model_module_version": "2.0.0",
       "_model_name": "FloatProgressModel",
       "_view_count": null,
       "_view_module": "@jupyter-widgets/controls",
       "_view_module_version": "2.0.0",
       "_view_name": "ProgressView",
       "bar_style": "success",
       "description": "",
       "description_allow_html": false,
       "layout": "IPY_MODEL_d9196f6ff1dc4aa4888bb5f856039398",
       "max": 88965.0,
       "min": 0.0,
       "orientation": "horizontal",
       "style": "IPY_MODEL_6c8f157f78e6435c84f717af8023304b",
       "tabbable": null,
       "tooltip": null,
       "value": 88965.0
      }
     },
     "60a426267b0841f8b2a58477ccf9de12": {
      "model_module": "@jupyter-widgets/base",
      "model_module_version": "2.0.0",
      "model_name": "LayoutModel",
      "state": {
       "_model_module": "@jupyter-widgets/base",
       "_model_module_version": "2.0.0",
       "_model_name": "LayoutModel",
       "_view_count": null,
       "_view_module": "@jupyter-widgets/base",
       "_view_module_version": "2.0.0",
       "_view_name": "LayoutView",
       "align_content": null,
       "align_items": null,
       "align_self": null,
       "border_bottom": null,
       "border_left": null,
       "border_right": null,
       "border_top": null,
       "bottom": null,
       "display": null,
       "flex": null,
       "flex_flow": null,
       "grid_area": null,
       "grid_auto_columns": null,
       "grid_auto_flow": null,
       "grid_auto_rows": null,
       "grid_column": null,
       "grid_gap": null,
       "grid_row": null,
       "grid_template_areas": null,
       "grid_template_columns": null,
       "grid_template_rows": null,
       "height": null,
       "justify_content": null,
       "justify_items": null,
       "left": null,
       "margin": null,
       "max_height": null,
       "max_width": null,
       "min_height": null,
       "min_width": null,
       "object_fit": null,
       "object_position": null,
       "order": null,
       "overflow": null,
       "padding": null,
       "right": null,
       "top": null,
       "visibility": null,
       "width": null
      }
     },
     "67b3199d9c22434a8aaed4e915da722f": {
      "model_module": "@jupyter-widgets/base",
      "model_module_version": "2.0.0",
      "model_name": "LayoutModel",
      "state": {
       "_model_module": "@jupyter-widgets/base",
       "_model_module_version": "2.0.0",
       "_model_name": "LayoutModel",
       "_view_count": null,
       "_view_module": "@jupyter-widgets/base",
       "_view_module_version": "2.0.0",
       "_view_name": "LayoutView",
       "align_content": null,
       "align_items": null,
       "align_self": null,
       "border_bottom": null,
       "border_left": null,
       "border_right": null,
       "border_top": null,
       "bottom": null,
       "display": null,
       "flex": null,
       "flex_flow": null,
       "grid_area": null,
       "grid_auto_columns": null,
       "grid_auto_flow": null,
       "grid_auto_rows": null,
       "grid_column": null,
       "grid_gap": null,
       "grid_row": null,
       "grid_template_areas": null,
       "grid_template_columns": null,
       "grid_template_rows": null,
       "height": null,
       "justify_content": null,
       "justify_items": null,
       "left": null,
       "margin": null,
       "max_height": null,
       "max_width": null,
       "min_height": null,
       "min_width": null,
       "object_fit": null,
       "object_position": null,
       "order": null,
       "overflow": null,
       "padding": null,
       "right": null,
       "top": null,
       "visibility": null,
       "width": null
      }
     },
     "6c8f157f78e6435c84f717af8023304b": {
      "model_module": "@jupyter-widgets/controls",
      "model_module_version": "2.0.0",
      "model_name": "ProgressStyleModel",
      "state": {
       "_model_module": "@jupyter-widgets/controls",
       "_model_module_version": "2.0.0",
       "_model_name": "ProgressStyleModel",
       "_view_count": null,
       "_view_module": "@jupyter-widgets/base",
       "_view_module_version": "2.0.0",
       "_view_name": "StyleView",
       "bar_color": null,
       "description_width": ""
      }
     },
     "7a60979c822f465d93023864e75d7e99": {
      "model_module": "@jupyter-widgets/controls",
      "model_module_version": "2.0.0",
      "model_name": "HTMLStyleModel",
      "state": {
       "_model_module": "@jupyter-widgets/controls",
       "_model_module_version": "2.0.0",
       "_model_name": "HTMLStyleModel",
       "_view_count": null,
       "_view_module": "@jupyter-widgets/base",
       "_view_module_version": "2.0.0",
       "_view_name": "StyleView",
       "background": null,
       "description_width": "",
       "font_size": null,
       "text_color": null
      }
     },
     "814da794fa3142288df786fbdaee68c3": {
      "model_module": "@jupyter-widgets/controls",
      "model_module_version": "2.0.0",
      "model_name": "HTMLStyleModel",
      "state": {
       "_model_module": "@jupyter-widgets/controls",
       "_model_module_version": "2.0.0",
       "_model_name": "HTMLStyleModel",
       "_view_count": null,
       "_view_module": "@jupyter-widgets/base",
       "_view_module_version": "2.0.0",
       "_view_name": "StyleView",
       "background": null,
       "description_width": "",
       "font_size": null,
       "text_color": null
      }
     },
     "9a770b9e585443aab1ad141e74e20425": {
      "model_module": "@jupyter-widgets/controls",
      "model_module_version": "2.0.0",
      "model_name": "HBoxModel",
      "state": {
       "_dom_classes": [],
       "_model_module": "@jupyter-widgets/controls",
       "_model_module_version": "2.0.0",
       "_model_name": "HBoxModel",
       "_view_count": null,
       "_view_module": "@jupyter-widgets/controls",
       "_view_module_version": "2.0.0",
       "_view_name": "HBoxView",
       "box_style": "",
       "children": [
        "IPY_MODEL_0b8eb47dc13e486c8136eccb959b3fdc",
        "IPY_MODEL_57a7b0d8f0e94848a9dc46b4cb322432",
        "IPY_MODEL_2fe6ffb6907540239a4173e9735ed0a0"
       ],
       "layout": "IPY_MODEL_d87f6703643e4643ab09d31822ed9539",
       "tabbable": null,
       "tooltip": null
      }
     },
     "9c1c2b446ff946c1924fa2409dbb1ca1": {
      "model_module": "@jupyter-widgets/base",
      "model_module_version": "2.0.0",
      "model_name": "LayoutModel",
      "state": {
       "_model_module": "@jupyter-widgets/base",
       "_model_module_version": "2.0.0",
       "_model_name": "LayoutModel",
       "_view_count": null,
       "_view_module": "@jupyter-widgets/base",
       "_view_module_version": "2.0.0",
       "_view_name": "LayoutView",
       "align_content": null,
       "align_items": null,
       "align_self": null,
       "border_bottom": null,
       "border_left": null,
       "border_right": null,
       "border_top": null,
       "bottom": null,
       "display": null,
       "flex": null,
       "flex_flow": null,
       "grid_area": null,
       "grid_auto_columns": null,
       "grid_auto_flow": null,
       "grid_auto_rows": null,
       "grid_column": null,
       "grid_gap": null,
       "grid_row": null,
       "grid_template_areas": null,
       "grid_template_columns": null,
       "grid_template_rows": null,
       "height": null,
       "justify_content": null,
       "justify_items": null,
       "left": null,
       "margin": null,
       "max_height": null,
       "max_width": null,
       "min_height": null,
       "min_width": null,
       "object_fit": null,
       "object_position": null,
       "order": null,
       "overflow": null,
       "padding": null,
       "right": null,
       "top": null,
       "visibility": null,
       "width": null
      }
     },
     "af402ad7781f4445bd68d199c59a6b30": {
      "model_module": "@jupyter-widgets/controls",
      "model_module_version": "2.0.0",
      "model_name": "HTMLStyleModel",
      "state": {
       "_model_module": "@jupyter-widgets/controls",
       "_model_module_version": "2.0.0",
       "_model_name": "HTMLStyleModel",
       "_view_count": null,
       "_view_module": "@jupyter-widgets/base",
       "_view_module_version": "2.0.0",
       "_view_name": "StyleView",
       "background": null,
       "description_width": "",
       "font_size": null,
       "text_color": null
      }
     },
     "b06beb4dbb2e429ba863aad58da17e2e": {
      "model_module": "@jupyter-widgets/controls",
      "model_module_version": "2.0.0",
      "model_name": "HTMLModel",
      "state": {
       "_dom_classes": [],
       "_model_module": "@jupyter-widgets/controls",
       "_model_module_version": "2.0.0",
       "_model_name": "HTMLModel",
       "_view_count": null,
       "_view_module": "@jupyter-widgets/controls",
       "_view_module_version": "2.0.0",
       "_view_name": "HTMLView",
       "description": "",
       "description_allow_html": false,
       "layout": "IPY_MODEL_14722bb9ce04453a9a6870239f332e34",
       "placeholder": "​",
       "style": "IPY_MODEL_af402ad7781f4445bd68d199c59a6b30",
       "tabbable": null,
       "tooltip": null,
       "value": " 2/2 [01:15&lt;00:00, 37.86s/it]"
      }
     },
     "ba9bb07ec342438e8b6d2e65e5d2fec3": {
      "model_module": "@jupyter-widgets/controls",
      "model_module_version": "2.0.0",
      "model_name": "HTMLModel",
      "state": {
       "_dom_classes": [],
       "_model_module": "@jupyter-widgets/controls",
       "_model_module_version": "2.0.0",
       "_model_name": "HTMLModel",
       "_view_count": null,
       "_view_module": "@jupyter-widgets/controls",
       "_view_module_version": "2.0.0",
       "_view_name": "HTMLView",
       "description": "",
       "description_allow_html": false,
       "layout": "IPY_MODEL_c164cea939f6418e928eca893f295427",
       "placeholder": "​",
       "style": "IPY_MODEL_3618f04d8e834275ad4035044817163a",
       "tabbable": null,
       "tooltip": null,
       "value": "Loading checkpoint shards: 100%"
      }
     },
     "c164cea939f6418e928eca893f295427": {
      "model_module": "@jupyter-widgets/base",
      "model_module_version": "2.0.0",
      "model_name": "LayoutModel",
      "state": {
       "_model_module": "@jupyter-widgets/base",
       "_model_module_version": "2.0.0",
       "_model_name": "LayoutModel",
       "_view_count": null,
       "_view_module": "@jupyter-widgets/base",
       "_view_module_version": "2.0.0",
       "_view_name": "LayoutView",
       "align_content": null,
       "align_items": null,
       "align_self": null,
       "border_bottom": null,
       "border_left": null,
       "border_right": null,
       "border_top": null,
       "bottom": null,
       "display": null,
       "flex": null,
       "flex_flow": null,
       "grid_area": null,
       "grid_auto_columns": null,
       "grid_auto_flow": null,
       "grid_auto_rows": null,
       "grid_column": null,
       "grid_gap": null,
       "grid_row": null,
       "grid_template_areas": null,
       "grid_template_columns": null,
       "grid_template_rows": null,
       "height": null,
       "justify_content": null,
       "justify_items": null,
       "left": null,
       "margin": null,
       "max_height": null,
       "max_width": null,
       "min_height": null,
       "min_width": null,
       "object_fit": null,
       "object_position": null,
       "order": null,
       "overflow": null,
       "padding": null,
       "right": null,
       "top": null,
       "visibility": null,
       "width": null
      }
     },
     "c75398183b974a37831e70db9fb03f5c": {
      "model_module": "@jupyter-widgets/controls",
      "model_module_version": "2.0.0",
      "model_name": "ProgressStyleModel",
      "state": {
       "_model_module": "@jupyter-widgets/controls",
       "_model_module_version": "2.0.0",
       "_model_name": "ProgressStyleModel",
       "_view_count": null,
       "_view_module": "@jupyter-widgets/base",
       "_view_module_version": "2.0.0",
       "_view_name": "StyleView",
       "bar_color": null,
       "description_width": ""
      }
     },
     "d03b47df840e4029ad54907dabf68113": {
      "model_module": "@jupyter-widgets/controls",
      "model_module_version": "2.0.0",
      "model_name": "HTMLModel",
      "state": {
       "_dom_classes": [],
       "_model_module": "@jupyter-widgets/controls",
       "_model_module_version": "2.0.0",
       "_model_name": "HTMLModel",
       "_view_count": null,
       "_view_module": "@jupyter-widgets/controls",
       "_view_module_version": "2.0.0",
       "_view_name": "HTMLView",
       "description": "",
       "description_allow_html": false,
       "layout": "IPY_MODEL_60a426267b0841f8b2a58477ccf9de12",
       "placeholder": "​",
       "style": "IPY_MODEL_7a60979c822f465d93023864e75d7e99",
       "tabbable": null,
       "tooltip": null,
       "value": " 90/90 [00:00&lt;00:00, 2555.18 examples/s]"
      }
     },
     "d04b68f4b70843e889bfe4a965461a35": {
      "model_module": "@jupyter-widgets/controls",
      "model_module_version": "2.0.0",
      "model_name": "HTMLStyleModel",
      "state": {
       "_model_module": "@jupyter-widgets/controls",
       "_model_module_version": "2.0.0",
       "_model_name": "HTMLStyleModel",
       "_view_count": null,
       "_view_module": "@jupyter-widgets/base",
       "_view_module_version": "2.0.0",
       "_view_name": "StyleView",
       "background": null,
       "description_width": "",
       "font_size": null,
       "text_color": null
      }
     },
     "d4b66e9cfc154bf4aa9ff40924394c8e": {
      "model_module": "@jupyter-widgets/base",
      "model_module_version": "2.0.0",
      "model_name": "LayoutModel",
      "state": {
       "_model_module": "@jupyter-widgets/base",
       "_model_module_version": "2.0.0",
       "_model_name": "LayoutModel",
       "_view_count": null,
       "_view_module": "@jupyter-widgets/base",
       "_view_module_version": "2.0.0",
       "_view_name": "LayoutView",
       "align_content": null,
       "align_items": null,
       "align_self": null,
       "border_bottom": null,
       "border_left": null,
       "border_right": null,
       "border_top": null,
       "bottom": null,
       "display": null,
       "flex": null,
       "flex_flow": null,
       "grid_area": null,
       "grid_auto_columns": null,
       "grid_auto_flow": null,
       "grid_auto_rows": null,
       "grid_column": null,
       "grid_gap": null,
       "grid_row": null,
       "grid_template_areas": null,
       "grid_template_columns": null,
       "grid_template_rows": null,
       "height": null,
       "justify_content": null,
       "justify_items": null,
       "left": null,
       "margin": null,
       "max_height": null,
       "max_width": null,
       "min_height": null,
       "min_width": null,
       "object_fit": null,
       "object_position": null,
       "order": null,
       "overflow": null,
       "padding": null,
       "right": null,
       "top": null,
       "visibility": null,
       "width": null
      }
     },
     "d505e37248e5419bbe77415b674065b4": {
      "model_module": "@jupyter-widgets/base",
      "model_module_version": "2.0.0",
      "model_name": "LayoutModel",
      "state": {
       "_model_module": "@jupyter-widgets/base",
       "_model_module_version": "2.0.0",
       "_model_name": "LayoutModel",
       "_view_count": null,
       "_view_module": "@jupyter-widgets/base",
       "_view_module_version": "2.0.0",
       "_view_name": "LayoutView",
       "align_content": null,
       "align_items": null,
       "align_self": null,
       "border_bottom": null,
       "border_left": null,
       "border_right": null,
       "border_top": null,
       "bottom": null,
       "display": null,
       "flex": null,
       "flex_flow": null,
       "grid_area": null,
       "grid_auto_columns": null,
       "grid_auto_flow": null,
       "grid_auto_rows": null,
       "grid_column": null,
       "grid_gap": null,
       "grid_row": null,
       "grid_template_areas": null,
       "grid_template_columns": null,
       "grid_template_rows": null,
       "height": null,
       "justify_content": null,
       "justify_items": null,
       "left": null,
       "margin": null,
       "max_height": null,
       "max_width": null,
       "min_height": null,
       "min_width": null,
       "object_fit": null,
       "object_position": null,
       "order": null,
       "overflow": null,
       "padding": null,
       "right": null,
       "top": null,
       "visibility": null,
       "width": null
      }
     },
     "d87f6703643e4643ab09d31822ed9539": {
      "model_module": "@jupyter-widgets/base",
      "model_module_version": "2.0.0",
      "model_name": "LayoutModel",
      "state": {
       "_model_module": "@jupyter-widgets/base",
       "_model_module_version": "2.0.0",
       "_model_name": "LayoutModel",
       "_view_count": null,
       "_view_module": "@jupyter-widgets/base",
       "_view_module_version": "2.0.0",
       "_view_name": "LayoutView",
       "align_content": null,
       "align_items": null,
       "align_self": null,
       "border_bottom": null,
       "border_left": null,
       "border_right": null,
       "border_top": null,
       "bottom": null,
       "display": null,
       "flex": null,
       "flex_flow": null,
       "grid_area": null,
       "grid_auto_columns": null,
       "grid_auto_flow": null,
       "grid_auto_rows": null,
       "grid_column": null,
       "grid_gap": null,
       "grid_row": null,
       "grid_template_areas": null,
       "grid_template_columns": null,
       "grid_template_rows": null,
       "height": null,
       "justify_content": null,
       "justify_items": null,
       "left": null,
       "margin": null,
       "max_height": null,
       "max_width": null,
       "min_height": null,
       "min_width": null,
       "object_fit": null,
       "object_position": null,
       "order": null,
       "overflow": null,
       "padding": null,
       "right": null,
       "top": null,
       "visibility": null,
       "width": null
      }
     },
     "d9196f6ff1dc4aa4888bb5f856039398": {
      "model_module": "@jupyter-widgets/base",
      "model_module_version": "2.0.0",
      "model_name": "LayoutModel",
      "state": {
       "_model_module": "@jupyter-widgets/base",
       "_model_module_version": "2.0.0",
       "_model_name": "LayoutModel",
       "_view_count": null,
       "_view_module": "@jupyter-widgets/base",
       "_view_module_version": "2.0.0",
       "_view_name": "LayoutView",
       "align_content": null,
       "align_items": null,
       "align_self": null,
       "border_bottom": null,
       "border_left": null,
       "border_right": null,
       "border_top": null,
       "bottom": null,
       "display": null,
       "flex": null,
       "flex_flow": null,
       "grid_area": null,
       "grid_auto_columns": null,
       "grid_auto_flow": null,
       "grid_auto_rows": null,
       "grid_column": null,
       "grid_gap": null,
       "grid_row": null,
       "grid_template_areas": null,
       "grid_template_columns": null,
       "grid_template_rows": null,
       "height": null,
       "justify_content": null,
       "justify_items": null,
       "left": null,
       "margin": null,
       "max_height": null,
       "max_width": null,
       "min_height": null,
       "min_width": null,
       "object_fit": null,
       "object_position": null,
       "order": null,
       "overflow": null,
       "padding": null,
       "right": null,
       "top": null,
       "visibility": null,
       "width": null
      }
     },
     "dcac5a32ed6b471da4a43e73161feb40": {
      "model_module": "@jupyter-widgets/controls",
      "model_module_version": "2.0.0",
      "model_name": "FloatProgressModel",
      "state": {
       "_dom_classes": [],
       "_model_module": "@jupyter-widgets/controls",
       "_model_module_version": "2.0.0",
       "_model_name": "FloatProgressModel",
       "_view_count": null,
       "_view_module": "@jupyter-widgets/controls",
       "_view_module_version": "2.0.0",
       "_view_name": "ProgressView",
       "bar_style": "success",
       "description": "",
       "description_allow_html": false,
       "layout": "IPY_MODEL_d4b66e9cfc154bf4aa9ff40924394c8e",
       "max": 2.0,
       "min": 0.0,
       "orientation": "horizontal",
       "style": "IPY_MODEL_fd082471676644c7a76d7b47ca76b45e",
       "tabbable": null,
       "tooltip": null,
       "value": 2.0
      }
     },
     "ec48fdc7c5a84332baa7cfae641b0b2d": {
      "model_module": "@jupyter-widgets/base",
      "model_module_version": "2.0.0",
      "model_name": "LayoutModel",
      "state": {
       "_model_module": "@jupyter-widgets/base",
       "_model_module_version": "2.0.0",
       "_model_name": "LayoutModel",
       "_view_count": null,
       "_view_module": "@jupyter-widgets/base",
       "_view_module_version": "2.0.0",
       "_view_name": "LayoutView",
       "align_content": null,
       "align_items": null,
       "align_self": null,
       "border_bottom": null,
       "border_left": null,
       "border_right": null,
       "border_top": null,
       "bottom": null,
       "display": null,
       "flex": null,
       "flex_flow": null,
       "grid_area": null,
       "grid_auto_columns": null,
       "grid_auto_flow": null,
       "grid_auto_rows": null,
       "grid_column": null,
       "grid_gap": null,
       "grid_row": null,
       "grid_template_areas": null,
       "grid_template_columns": null,
       "grid_template_rows": null,
       "height": null,
       "justify_content": null,
       "justify_items": null,
       "left": null,
       "margin": null,
       "max_height": null,
       "max_width": null,
       "min_height": null,
       "min_width": null,
       "object_fit": null,
       "object_position": null,
       "order": null,
       "overflow": null,
       "padding": null,
       "right": null,
       "top": null,
       "visibility": null,
       "width": null
      }
     },
     "fd082471676644c7a76d7b47ca76b45e": {
      "model_module": "@jupyter-widgets/controls",
      "model_module_version": "2.0.0",
      "model_name": "ProgressStyleModel",
      "state": {
       "_model_module": "@jupyter-widgets/controls",
       "_model_module_version": "2.0.0",
       "_model_name": "ProgressStyleModel",
       "_view_count": null,
       "_view_module": "@jupyter-widgets/base",
       "_view_module_version": "2.0.0",
       "_view_name": "StyleView",
       "bar_color": null,
       "description_width": ""
      }
     }
    },
    "version_major": 2,
    "version_minor": 0
   }
  }
 },
 "nbformat": 4,
 "nbformat_minor": 5
}
