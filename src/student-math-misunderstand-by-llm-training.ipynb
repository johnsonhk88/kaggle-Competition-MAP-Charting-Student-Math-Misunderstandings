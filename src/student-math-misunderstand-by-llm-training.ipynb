{
 "cells": [
  {
   "cell_type": "markdown",
   "id": "b50b1424",
   "metadata": {
    "papermill": {
     "duration": 0.020251,
     "end_time": "2025-09-28T11:39:28.682407",
     "exception": false,
     "start_time": "2025-09-28T11:39:28.662156",
     "status": "completed"
    },
    "tags": []
   },
   "source": [
    "# Kaggle Competition Info\n",
    "In this competition, you’ll develop an NLP model driven by ML to accurately predict students’ potential math misconceptions based on student explanations in open-ended responses. This solution will suggest candidate misconceptions for these explanations, making it easier for teachers to identify and address students’ incorrect thinking, which is critical to improving student math learning.  \n",
    "## Offical Link\n",
    "https://www.kaggle.com/competitions/map-charting-student-math-misunderstandings "
   ]
  },
  {
   "cell_type": "markdown",
   "id": "88858ce3",
   "metadata": {
    "papermill": {
     "duration": 0.016538,
     "end_time": "2025-09-28T11:39:28.715800",
     "exception": false,
     "start_time": "2025-09-28T11:39:28.699262",
     "status": "completed"
    },
    "tags": []
   },
   "source": [
    "# Recommand install package first at Add-ons --> Install Dependence\n",
    "\n",
    "```python\n",
    "!pip install -U bitsandbytes==0.47.0\n",
    "!pip install -U peft==0.17.0\n",
    "!pip install -U trl==0.21.0\n",
    "!pip install -U accelerate==1.10.0\n",
    "!pip install transformers==4.55.0\n",
    "!pip install langchain==0.3.27\n",
    "!pip install -U langchain-core==0.3.74\n",
    "!pip install langchain-text-splitters==0.3.9\n",
    "!pip install langchain-community==0.3.27\n",
    "!pip install -U deepeval==3.3.9\n",
    "```"
   ]
  },
  {
   "cell_type": "code",
   "execution_count": 1,
   "id": "92fbaf48",
   "metadata": {
    "execution": {
     "iopub.execute_input": "2025-09-28T11:39:28.750781Z",
     "iopub.status.busy": "2025-09-28T11:39:28.750483Z",
     "iopub.status.idle": "2025-09-28T11:39:47.480676Z",
     "shell.execute_reply": "2025-09-28T11:39:47.479784Z"
    },
    "papermill": {
     "duration": 18.749911,
     "end_time": "2025-09-28T11:39:47.482369",
     "exception": false,
     "start_time": "2025-09-28T11:39:28.732458",
     "status": "completed"
    },
    "scrolled": true,
    "tags": []
   },
   "outputs": [
    {
     "name": "stdout",
     "output_type": "stream",
     "text": [
      "Looking in links: file:///kaggle/input/universal-llm-install-package2/V9/transformers-4.45.2-py3-none-any.whl\r\n",
      "Requirement already satisfied: transformers in /usr/local/lib/python3.11/dist-packages (4.52.4)\r\n",
      "Looking in links: file:///kaggle/input/universal-llm-install-package2/V9/accelerate-1.0.1-py3-none-any.whl\r\n",
      "Requirement already satisfied: accelerate in /usr/local/lib/python3.11/dist-packages (1.8.1)\r\n",
      "Looking in links: file:///kaggle/input/universal-llm-install-package2/V9/trl-0.11.4-py3-none-any.whl\r\n",
      "Processing /kaggle/input/universal-llm-install-package2/V9/trl-0.11.4-py3-none-any.whl\r\n",
      "Installing collected packages: trl\r\n",
      "Successfully installed trl-0.11.4\r\n",
      "Looking in links: file:///kaggle/input/universal-llm-install-package2/V9/peft-0.14.0-py3-none-any.whl\r\n",
      "Requirement already satisfied: peft in /usr/local/lib/python3.11/dist-packages (0.15.2)\r\n",
      "Looking in links: file:///kaggle/input/universal-llm-install-package2/V9/bitsandbytes-0.46.1-py3-none-manylinux_2_24_x86_64.whl\r\n",
      "Processing /kaggle/input/universal-llm-install-package2/V9/bitsandbytes-0.46.1-py3-none-manylinux_2_24_x86_64.whl\r\n",
      "Installing collected packages: bitsandbytes\r\n",
      "Successfully installed bitsandbytes-0.46.1\r\n",
      "Looking in links: file:///kaggle/input/universal-llm-install-package2/V9/langchain-0.3.3-py3-none-any.whl\r\n",
      "Requirement already satisfied: langchain in /usr/local/lib/python3.11/dist-packages (0.3.26)\r\n",
      "Looking in links: file:///kaggle/input/universal-llm-install-package2/V9/langchain_core-0.3.12-py3-none-any.whl\r\n",
      "Requirement already satisfied: langchain_core in /usr/local/lib/python3.11/dist-packages (0.3.66)\r\n",
      "Looking in links: file:///kaggle/input/universal-llm-install-package2/V9/langchain_text_splitters-0.3.0-py3-none-any.whl\r\n",
      "Requirement already satisfied: langchain_text_splitters in /usr/local/lib/python3.11/dist-packages (0.3.8)\r\n",
      "Looking in links: file:///kaggle/input/universal-llm-install-package2/V9/langchain_community-0.3.2-py3-none-any.whl\r\n",
      "Processing /kaggle/input/universal-llm-install-package2/V9/langchain_community-0.3.2-py3-none-any.whl\r\n",
      "Installing collected packages: langchain_community\r\n",
      "Successfully installed langchain_community-0.3.2\r\n"
     ]
    }
   ],
   "source": [
    "import kagglehub\n",
    "\n",
    "DEBUG = False#True\n",
    "\n",
    "if DEBUG is True:\n",
    "    !pip install git+https://github.com/huggingface/transformers.git  # install transformer from source\n",
    "    # !pip install --upgrade torch datasets accelerate peft bitsandbytes trl\n",
    "    # !pip install --upgrade accelerate peft bitsandbytes trl\n",
    "    !pip install --upgrade datasets accelerate  # add datasets, accelerate , bitsndbytes\n",
    "    # !pip install -U bitsandbytes==0.47.0\n",
    "    # !pip install -U peft==0.17.0\n",
    "    # !pip install -U trl==0.21.0\n",
    "    !pip install --upgrade peft trl\n",
    "    # !pip install -U accelerate==1.10.0\n",
    "    # !pip install transformers==4.55.0\n",
    "    !pip install langchain==0.3.27\n",
    "    !pip install -U langchain-core==0.3.74\n",
    "    !pip install langchain-text-splitters==0.3.9\n",
    "    !pip install langchain-community==0.3.27\n",
    "    !pip install -U deepeval==3.3.9\n",
    "    !pip install protobuf==4.25.8 #4.49.0     # 6.30.2      #==3.20.3 #4.49.0\n",
    "    !pip install triton==3.0.0   # avoid load LLM error\n",
    "    !pip install --upgrade bitsandbytes\n",
    "\n",
    "else:\n",
    "    # package = kagglehub.package_import(\"/johnsonhk88/universal-llm-install-package2\")\n",
    "    # installDir = \"/kaggle/input/universal-llm-install-package2/V7\" #\"/kaggle/input/universal-llm-install-package2/V7\"\n",
    "    installDir = \"/kaggle/input/universal-llm-install-package2/V9\"\n",
    "    # installDir2 =\"/kaggle/input/deepeval-open-source-llm-evaluation-framework\"\n",
    "    !pip install transformers --no-index --no-deps --find-links=file://{installDir}/transformers-4.45.2-py3-none-any.whl\n",
    "    !pip install -U accelerate --no-index --no-deps --find-links=file://{installDir}/accelerate-1.0.1-py3-none-any.whl\n",
    "    !pip install -U trl --no-index --no-deps --find-links=file://{installDir}/trl-0.11.4-py3-none-any.whl\n",
    "    !pip install -U peft --no-index --no-deps --find-links=file://{installDir}/peft-0.14.0-py3-none-any.whl\n",
    "    !pip install  bitsandbytes --no-index --no-deps --find-links=file://{installDir}/bitsandbytes-0.46.1-py3-none-manylinux_2_24_x86_64.whl\n",
    "    \n",
    "    !pip install -U langchain --no-index  --no-deps --find-links=file://{installDir}/langchain-0.3.3-py3-none-any.whl\n",
    "    !pip install -U langchain_core --no-index  --no-deps --find-links=file://{installDir}/langchain_core-0.3.12-py3-none-any.whl\n",
    "    !pip install -U langchain_text_splitters  --no-index  --no-deps  --find-links=file://{installDir}/langchain_text_splitters-0.3.0-py3-none-any.whl\n",
    "    !pip install -U langchain_community  --no-index  --no-deps   --find-links=file://{installDir}/langchain_community-0.3.2-py3-none-any.whl\n",
    "    # !pip install -U triton  --no-index --no-deps  --find-links=file://{installDir}/triton-3.4.0-cp311-cp311-manylinux_2_27_x86_64.manylinux_2_28_x86_64.whl\n",
    "    # !pip install -U protobuf  --no-index  --no-deps  --find-links=file://{installDir}/protobuf-4.25.8-cp37-abi3-manylinux2014_x86_64.whl  \n",
    "    \n",
    "    # !pip install -U vllm   --no-index --find-links=file:///kaggle/input/vllm-inference/\n",
    "\n"
   ]
  },
  {
   "cell_type": "code",
   "execution_count": 2,
   "id": "4edbdfdc",
   "metadata": {
    "execution": {
     "iopub.execute_input": "2025-09-28T11:39:47.522350Z",
     "iopub.status.busy": "2025-09-28T11:39:47.522116Z",
     "iopub.status.idle": "2025-09-28T11:39:47.525652Z",
     "shell.execute_reply": "2025-09-28T11:39:47.525096Z"
    },
    "papermill": {
     "duration": 0.024918,
     "end_time": "2025-09-28T11:39:47.526769",
     "exception": false,
     "start_time": "2025-09-28T11:39:47.501851",
     "status": "completed"
    },
    "tags": []
   },
   "outputs": [],
   "source": [
    "# !pip install triton==3.0.0\n",
    "# !pip install triton==3.3.0"
   ]
  },
  {
   "cell_type": "code",
   "execution_count": 3,
   "id": "a38b8984",
   "metadata": {
    "execution": {
     "iopub.execute_input": "2025-09-28T11:39:47.611457Z",
     "iopub.status.busy": "2025-09-28T11:39:47.610874Z",
     "iopub.status.idle": "2025-09-28T11:39:47.614503Z",
     "shell.execute_reply": "2025-09-28T11:39:47.613756Z"
    },
    "papermill": {
     "duration": 0.024104,
     "end_time": "2025-09-28T11:39:47.615598",
     "exception": false,
     "start_time": "2025-09-28T11:39:47.591494",
     "status": "completed"
    },
    "scrolled": true,
    "tags": []
   },
   "outputs": [],
   "source": [
    "# !pip install deepspeed==0.14.5"
   ]
  },
  {
   "cell_type": "code",
   "execution_count": 4,
   "id": "233a450e",
   "metadata": {
    "execution": {
     "iopub.execute_input": "2025-09-28T11:39:47.653444Z",
     "iopub.status.busy": "2025-09-28T11:39:47.653239Z",
     "iopub.status.idle": "2025-09-28T11:39:56.700202Z",
     "shell.execute_reply": "2025-09-28T11:39:56.699534Z"
    },
    "papermill": {
     "duration": 9.067569,
     "end_time": "2025-09-28T11:39:56.701712",
     "exception": false,
     "start_time": "2025-09-28T11:39:47.634143",
     "status": "completed"
    },
    "tags": []
   },
   "outputs": [],
   "source": [
    "import numpy as np # linear algebra\n",
    "import pandas as pd # data processing, CSV file I/O (e.g. pd.read_csv)\n",
    "from sklearn.preprocessing import LabelEncoder\n",
    "from sklearn.model_selection import train_test_split\n",
    "\n",
    "import os, time , gc , json\n",
    "import numpy as np # linear algebra\n",
    "import pandas as pd # data processing, CSV file I/O (e.g. pd.read_csv)\n",
    "import matplotlib.pyplot as plt\n",
    "import seaborn as sns\n",
    "\n",
    "import torch\n",
    "from torch import nn\n",
    "import transformers\n",
    "\n",
    "\n"
   ]
  },
  {
   "cell_type": "code",
   "execution_count": 5,
   "id": "fb10d933",
   "metadata": {
    "execution": {
     "iopub.execute_input": "2025-09-28T11:39:56.743952Z",
     "iopub.status.busy": "2025-09-28T11:39:56.742844Z",
     "iopub.status.idle": "2025-09-28T11:39:56.746546Z",
     "shell.execute_reply": "2025-09-28T11:39:56.746008Z"
    },
    "papermill": {
     "duration": 0.025348,
     "end_time": "2025-09-28T11:39:56.747651",
     "exception": false,
     "start_time": "2025-09-28T11:39:56.722303",
     "status": "completed"
    },
    "tags": []
   },
   "outputs": [],
   "source": [
    "# !pip install --upgrade imbalanced-learn\n",
    "# !pip install --upgrade scikit-learn"
   ]
  },
  {
   "cell_type": "code",
   "execution_count": 6,
   "id": "336e2283",
   "metadata": {
    "execution": {
     "iopub.execute_input": "2025-09-28T11:39:56.787319Z",
     "iopub.status.busy": "2025-09-28T11:39:56.786669Z",
     "iopub.status.idle": "2025-09-28T11:39:56.789985Z",
     "shell.execute_reply": "2025-09-28T11:39:56.789447Z"
    },
    "papermill": {
     "duration": 0.024106,
     "end_time": "2025-09-28T11:39:56.791064",
     "exception": false,
     "start_time": "2025-09-28T11:39:56.766958",
     "status": "completed"
    },
    "scrolled": true,
    "tags": []
   },
   "outputs": [],
   "source": [
    "# !pip install trl==0.15.0\n",
    "# from imblearn.over_sampling import SMOTE\n",
    "# from collections import Counte"
   ]
  },
  {
   "cell_type": "code",
   "execution_count": 7,
   "id": "21a33eee",
   "metadata": {
    "execution": {
     "iopub.execute_input": "2025-09-28T11:39:56.827914Z",
     "iopub.status.busy": "2025-09-28T11:39:56.827519Z",
     "iopub.status.idle": "2025-09-28T11:39:56.837050Z",
     "shell.execute_reply": "2025-09-28T11:39:56.836370Z"
    },
    "papermill": {
     "duration": 0.028929,
     "end_time": "2025-09-28T11:39:56.838171",
     "exception": false,
     "start_time": "2025-09-28T11:39:56.809242",
     "status": "completed"
    },
    "tags": []
   },
   "outputs": [
    {
     "data": {
      "text/plain": [
       "'0.11.4'"
      ]
     },
     "execution_count": 7,
     "metadata": {},
     "output_type": "execute_result"
    }
   ],
   "source": [
    "import trl\n",
    "trl.__version__"
   ]
  },
  {
   "cell_type": "code",
   "execution_count": 8,
   "id": "77e53872",
   "metadata": {
    "execution": {
     "iopub.execute_input": "2025-09-28T11:39:56.873923Z",
     "iopub.status.busy": "2025-09-28T11:39:56.873707Z",
     "iopub.status.idle": "2025-09-28T11:40:19.106891Z",
     "shell.execute_reply": "2025-09-28T11:40:19.106318Z"
    },
    "papermill": {
     "duration": 22.252562,
     "end_time": "2025-09-28T11:40:19.108295",
     "exception": false,
     "start_time": "2025-09-28T11:39:56.855733",
     "status": "completed"
    },
    "tags": []
   },
   "outputs": [
    {
     "name": "stderr",
     "output_type": "stream",
     "text": [
      "2025-09-28 11:40:00.022852: E external/local_xla/xla/stream_executor/cuda/cuda_fft.cc:477] Unable to register cuFFT factory: Attempting to register factory for plugin cuFFT when one has already been registered\n",
      "WARNING: All log messages before absl::InitializeLog() is called are written to STDERR\n",
      "E0000 00:00:1759059600.221556      19 cuda_dnn.cc:8310] Unable to register cuDNN factory: Attempting to register factory for plugin cuDNN when one has already been registered\n",
      "E0000 00:00:1759059600.272642      19 cuda_blas.cc:1418] Unable to register cuBLAS factory: Attempting to register factory for plugin cuBLAS when one has already been registered\n"
     ]
    }
   ],
   "source": [
    "import torch\n",
    "from sklearn.model_selection import train_test_split\n",
    "\n",
    "from transformers import (AutoTokenizer, \n",
    "                          BitsAndBytesConfig, \n",
    "                          AutoModelForCausalLM,\n",
    "                          AutoModelForSequenceClassification,\n",
    "                         TrainingArguments)\n",
    "\n",
    "from datasets import Dataset, DatasetDict, load_dataset\n",
    "\n",
    "\n",
    "# Fine tuning \n",
    "from trl import SFTTrainer, SFTConfig\n",
    "from peft import (LoraConfig, \n",
    "                    PeftModel, \n",
    "                    get_peft_model)\n",
    "                    # prepare_model_for_kbit_training)  #prepare_model_for_int8_training deprecated \n",
    "\n",
    "from sklearn.metrics import (classification_report, ConfusionMatrixDisplay, log_loss,\n",
    "                             f1_score, accuracy_score, precision_score, recall_score)"
   ]
  },
  {
   "cell_type": "code",
   "execution_count": 9,
   "id": "57f8d1f7",
   "metadata": {
    "_cell_guid": "b1076dfc-b9ad-4769-8c92-a6c4dae69d19",
    "_uuid": "8f2839f25d086af736a60e9eeb907d3b93b6e0e5",
    "execution": {
     "iopub.execute_input": "2025-09-28T11:40:19.146293Z",
     "iopub.status.busy": "2025-09-28T11:40:19.145373Z",
     "iopub.status.idle": "2025-09-28T11:40:19.166175Z",
     "shell.execute_reply": "2025-09-28T11:40:19.165431Z"
    },
    "papermill": {
     "duration": 0.040092,
     "end_time": "2025-09-28T11:40:19.167161",
     "exception": false,
     "start_time": "2025-09-28T11:40:19.127069",
     "status": "completed"
    },
    "tags": []
   },
   "outputs": [
    {
     "name": "stdout",
     "output_type": "stream",
     "text": [
      "/kaggle/input/universal-llm-install-package2/V9/langchain_community-0.3.2-py3-none-any.whl\n",
      "/kaggle/input/universal-llm-install-package2/V9/langsmith-0.1.136-py3-none-any.whl\n",
      "/kaggle/input/universal-llm-install-package2/V9/langchain_core-0.3.12-py3-none-any.whl\n",
      "/kaggle/input/universal-llm-install-package2/V9/accelerate-1.0.1-py3-none-any.whl\n",
      "/kaggle/input/universal-llm-install-package2/V9/trl-0.11.4-py3-none-any.whl\n",
      "/kaggle/input/universal-llm-install-package2/V9/langchain_text_splitters-0.3.0-py3-none-any.whl\n",
      "/kaggle/input/universal-llm-install-package2/V9/bitsandbytes-0.46.1-py3-none-manylinux_2_24_x86_64.whl\n",
      "/kaggle/input/universal-llm-install-package2/V9/huggingface_hub-0.26.0-py3-none-any.whl\n",
      "/kaggle/input/universal-llm-install-package2/V9/protobuf-4.25.8-cp37-abi3-manylinux2014_x86_64.whl\n",
      "/kaggle/input/universal-llm-install-package2/V9/triton-3.4.0-cp311-cp311-manylinux_2_27_x86_64.manylinux_2_28_x86_64.whl\n",
      "/kaggle/input/universal-llm-install-package2/V9/langchain-0.3.3-py3-none-any.whl\n",
      "/kaggle/input/universal-llm-install-package2/V9/peft-0.14.0-py3-none-any.whl\n",
      "/kaggle/input/universal-llm-install-package2/V9/transformers-4.45.2-py3-none-any.whl\n",
      "/kaggle/input/deepspeed-config-for-kaggle-t4x2-gpu/deepspeed_config.json\n",
      "/kaggle/input/map-charting-student-math-misunderstandings/sample_submission.csv\n",
      "/kaggle/input/map-charting-student-math-misunderstandings/train.csv\n",
      "/kaggle/input/map-charting-student-math-misunderstandings/test.csv\n",
      "/kaggle/input/qwen-3-reranker/transformers/4b/1/model.safetensors.index.json\n",
      "/kaggle/input/qwen-3-reranker/transformers/4b/1/config.json\n",
      "/kaggle/input/qwen-3-reranker/transformers/4b/1/merges.txt\n",
      "/kaggle/input/qwen-3-reranker/transformers/4b/1/model-00001-of-00002.safetensors\n",
      "/kaggle/input/qwen-3-reranker/transformers/4b/1/model-00002-of-00002.safetensors\n",
      "/kaggle/input/qwen-3-reranker/transformers/4b/1/README.md\n",
      "/kaggle/input/qwen-3-reranker/transformers/4b/1/tokenizer.json\n",
      "/kaggle/input/qwen-3-reranker/transformers/4b/1/vocab.json\n",
      "/kaggle/input/qwen-3-reranker/transformers/4b/1/tokenizer_config.json\n",
      "/kaggle/input/qwen-3-reranker/transformers/4b/1/special_tokens_map.json\n",
      "/kaggle/input/qwen-3-reranker/transformers/4b/1/generation_config.json\n"
     ]
    }
   ],
   "source": [
    "\n",
    "\n",
    "# Input data files are available in the read-only \"../input/\" directory\n",
    "# For example, running this (by clicking run or pressing Shift+Enter) will list all files under the input directory\n",
    "\n",
    "import os\n",
    "for dirname, _, filenames in os.walk('/kaggle/input'):\n",
    "    for filename in filenames:\n",
    "        print(os.path.join(dirname, filename))\n",
    "\n",
    "# You can write up to 20GB to the current directory (/kaggle/working/) that gets preserved as output when you create a version using \"Save & Run All\" \n",
    "# You can also write temporary files to /kaggle/temp/, but they won't be saved outside of the current session"
   ]
  },
  {
   "cell_type": "code",
   "execution_count": 10,
   "id": "b486e339",
   "metadata": {
    "execution": {
     "iopub.execute_input": "2025-09-28T11:40:19.203537Z",
     "iopub.status.busy": "2025-09-28T11:40:19.203341Z",
     "iopub.status.idle": "2025-09-28T11:40:19.208441Z",
     "shell.execute_reply": "2025-09-28T11:40:19.207888Z"
    },
    "papermill": {
     "duration": 0.024389,
     "end_time": "2025-09-28T11:40:19.209455",
     "exception": false,
     "start_time": "2025-09-28T11:40:19.185066",
     "status": "completed"
    },
    "tags": []
   },
   "outputs": [],
   "source": [
    "class CFG:\n",
    "    DeepEval = False #True  # True must enable \"Internet on\" \n",
    "    SEED = 42\n",
    "\n",
    "     # LLM Config \n",
    "    reportTo =\"none\"\n",
    "    topK = 40\n",
    "    topP = 1.0\n",
    "    temperature = 0.1 #0.5\n",
    "    repetition_penalty = 1.05 # 1.1\n",
    "    maxOutToken = 300 #150#180 #100\n",
    "    test_size = 0.001 #0.005 #0.005 #0.1 #0.01 #0.005 #0.01\n",
    "\n",
    "\n",
    "    # Fine tuning Config\n",
    "    maxLength = 384 #512 #256 #368 #512 #1024 \n",
    "    reportTo = \"none\"\n",
    "    maxEpoch = 0.01 #0.005 #0.01 #0.005 #0.5 #0.05 #0.02 #0.05  #0.1 #0.5 #1 #2\n",
    "    evalSteps = 50 #20 #50 #30 #40 #20 \n",
    "    learning_rate = 2e-5 #1e-5 #8e-5 #5e-5 #2e-5 #2e-4 #1e-4\n",
    "    per_device_train_batch_size = 5 #4 #6 #8 #10#6#16 #6 #2 #8#6 #8\n",
    "    per_device_eval_batch_size =  5 #4 #6 #8 #10 #6#16 #6 #2 #8#6 #8  \n",
    "    # Lora config\n",
    "    DROPOUT = 0.1 #0.05\n",
    "    weight_decay = 0.01 \n",
    "\n",
    "    warmup_steps= 10 #5# 10\n",
    "    gradient_accumulation_steps = 4 #8 # 4 #2  #10\n",
    "    maxTrainStep =  500 #120 #160 #100 #50#100 #250 #150 \n",
    "    valDatasetSize = 50 #20 #10 #50 #500 # set validiation data size\n",
    "\n",
    "    #model\n",
    "    model1 = \"/kaggle/input/qwen-3/transformers/8b/1\"\n",
    "    model2 = \"/kaggle/input/qwen-3-reranker/transformers/4b/1\"\n",
    "\n",
    "    #\n",
    "    frac = 0.5 #0.3 #0.3 #0.3 #0.1 # Random resample data(reduce train data size )\n",
    "    \n",
    "\n",
    "    trainFile = \"/kaggle/input/map-charting-student-math-misunderstandings/train.csv\"\n",
    "    testFile  = \"/kaggle/input/map-charting-student-math-misunderstandings/test.csv\"\n",
    "    sampleFile = \"/kaggle/input/map-charting-student-math-misunderstandings/sample_submission.csv\"\n",
    "    deepspeedConfigFile = \"/kaggle/input/deepspeed-config-for-kaggle-t4x2-gpu/deepspeed_config.json\"\n",
    "    "
   ]
  },
  {
   "cell_type": "code",
   "execution_count": 11,
   "id": "92e954bb",
   "metadata": {
    "execution": {
     "iopub.execute_input": "2025-09-28T11:40:19.245552Z",
     "iopub.status.busy": "2025-09-28T11:40:19.245347Z",
     "iopub.status.idle": "2025-09-28T11:40:19.249785Z",
     "shell.execute_reply": "2025-09-28T11:40:19.249087Z"
    },
    "papermill": {
     "duration": 0.023925,
     "end_time": "2025-09-28T11:40:19.250992",
     "exception": false,
     "start_time": "2025-09-28T11:40:19.227067",
     "status": "completed"
    },
    "tags": []
   },
   "outputs": [
    {
     "data": {
      "text/plain": [
       "device(type='cuda')"
      ]
     },
     "execution_count": 11,
     "metadata": {},
     "output_type": "execute_result"
    }
   ],
   "source": [
    "device = torch.device(\"cuda\" if torch.cuda.is_available() else \"cpu\")\n",
    "device"
   ]
  },
  {
   "cell_type": "code",
   "execution_count": 12,
   "id": "b7da8667",
   "metadata": {
    "execution": {
     "iopub.execute_input": "2025-09-28T11:40:19.289833Z",
     "iopub.status.busy": "2025-09-28T11:40:19.289308Z",
     "iopub.status.idle": "2025-09-28T11:40:19.457251Z",
     "shell.execute_reply": "2025-09-28T11:40:19.456575Z"
    },
    "papermill": {
     "duration": 0.188017,
     "end_time": "2025-09-28T11:40:19.458391",
     "exception": false,
     "start_time": "2025-09-28T11:40:19.270374",
     "status": "completed"
    },
    "tags": []
   },
   "outputs": [
    {
     "data": {
      "text/plain": [
       "True"
      ]
     },
     "execution_count": 12,
     "metadata": {},
     "output_type": "execute_result"
    }
   ],
   "source": [
    "torch.cuda.is_bf16_supported()"
   ]
  },
  {
   "cell_type": "code",
   "execution_count": 13,
   "id": "1f4de7fe",
   "metadata": {
    "execution": {
     "iopub.execute_input": "2025-09-28T11:40:19.495799Z",
     "iopub.status.busy": "2025-09-28T11:40:19.495575Z",
     "iopub.status.idle": "2025-09-28T11:40:19.498899Z",
     "shell.execute_reply": "2025-09-28T11:40:19.498409Z"
    },
    "papermill": {
     "duration": 0.023034,
     "end_time": "2025-09-28T11:40:19.499833",
     "exception": false,
     "start_time": "2025-09-28T11:40:19.476799",
     "status": "completed"
    },
    "tags": []
   },
   "outputs": [],
   "source": [
    "def clearMemory():\n",
    "    for _ in range(5):\n",
    "        torch.cuda.empty_cache()\n",
    "        gc.collect()\n",
    "        time.sleep(0.3)"
   ]
  },
  {
   "cell_type": "code",
   "execution_count": 14,
   "id": "94318291",
   "metadata": {
    "execution": {
     "iopub.execute_input": "2025-09-28T11:40:19.536268Z",
     "iopub.status.busy": "2025-09-28T11:40:19.535676Z",
     "iopub.status.idle": "2025-09-28T11:40:22.843655Z",
     "shell.execute_reply": "2025-09-28T11:40:22.843111Z"
    },
    "papermill": {
     "duration": 3.327217,
     "end_time": "2025-09-28T11:40:22.844830",
     "exception": false,
     "start_time": "2025-09-28T11:40:19.517613",
     "status": "completed"
    },
    "tags": []
   },
   "outputs": [],
   "source": [
    "clearMemory()"
   ]
  },
  {
   "cell_type": "code",
   "execution_count": 15,
   "id": "587f2e71",
   "metadata": {
    "execution": {
     "iopub.execute_input": "2025-09-28T11:40:22.882233Z",
     "iopub.status.busy": "2025-09-28T11:40:22.881793Z",
     "iopub.status.idle": "2025-09-28T11:40:22.884883Z",
     "shell.execute_reply": "2025-09-28T11:40:22.884219Z"
    },
    "papermill": {
     "duration": 0.022503,
     "end_time": "2025-09-28T11:40:22.885945",
     "exception": false,
     "start_time": "2025-09-28T11:40:22.863442",
     "status": "completed"
    },
    "tags": []
   },
   "outputs": [],
   "source": [
    "# !accelerate config"
   ]
  },
  {
   "cell_type": "code",
   "execution_count": 16,
   "id": "b24be82c",
   "metadata": {
    "execution": {
     "iopub.execute_input": "2025-09-28T11:40:22.922914Z",
     "iopub.status.busy": "2025-09-28T11:40:22.922696Z",
     "iopub.status.idle": "2025-09-28T11:40:23.129948Z",
     "shell.execute_reply": "2025-09-28T11:40:23.128908Z"
    },
    "papermill": {
     "duration": 0.227552,
     "end_time": "2025-09-28T11:40:23.131312",
     "exception": false,
     "start_time": "2025-09-28T11:40:22.903760",
     "status": "completed"
    },
    "tags": []
   },
   "outputs": [
    {
     "data": {
      "text/html": [
       "<div>\n",
       "<style scoped>\n",
       "    .dataframe tbody tr th:only-of-type {\n",
       "        vertical-align: middle;\n",
       "    }\n",
       "\n",
       "    .dataframe tbody tr th {\n",
       "        vertical-align: top;\n",
       "    }\n",
       "\n",
       "    .dataframe thead th {\n",
       "        text-align: right;\n",
       "    }\n",
       "</style>\n",
       "<table border=\"1\" class=\"dataframe\">\n",
       "  <thead>\n",
       "    <tr style=\"text-align: right;\">\n",
       "      <th></th>\n",
       "      <th>row_id</th>\n",
       "      <th>QuestionId</th>\n",
       "      <th>QuestionText</th>\n",
       "      <th>MC_Answer</th>\n",
       "      <th>StudentExplanation</th>\n",
       "      <th>Category</th>\n",
       "      <th>Misconception</th>\n",
       "    </tr>\n",
       "  </thead>\n",
       "  <tbody>\n",
       "    <tr>\n",
       "      <th>0</th>\n",
       "      <td>0</td>\n",
       "      <td>31772</td>\n",
       "      <td>What fraction of the shape is not shaded? Give...</td>\n",
       "      <td>\\( \\frac{1}{3} \\)</td>\n",
       "      <td>0ne third is equal to tree nineth</td>\n",
       "      <td>True_Correct</td>\n",
       "      <td>NaN</td>\n",
       "    </tr>\n",
       "    <tr>\n",
       "      <th>1</th>\n",
       "      <td>1</td>\n",
       "      <td>31772</td>\n",
       "      <td>What fraction of the shape is not shaded? Give...</td>\n",
       "      <td>\\( \\frac{1}{3} \\)</td>\n",
       "      <td>1 / 3 because 6 over 9 is 2 thirds and 1 third...</td>\n",
       "      <td>True_Correct</td>\n",
       "      <td>NaN</td>\n",
       "    </tr>\n",
       "    <tr>\n",
       "      <th>2</th>\n",
       "      <td>2</td>\n",
       "      <td>31772</td>\n",
       "      <td>What fraction of the shape is not shaded? Give...</td>\n",
       "      <td>\\( \\frac{1}{3} \\)</td>\n",
       "      <td>1 3rd is half of 3 6th, so it is simplee to un...</td>\n",
       "      <td>True_Neither</td>\n",
       "      <td>NaN</td>\n",
       "    </tr>\n",
       "    <tr>\n",
       "      <th>3</th>\n",
       "      <td>3</td>\n",
       "      <td>31772</td>\n",
       "      <td>What fraction of the shape is not shaded? Give...</td>\n",
       "      <td>\\( \\frac{1}{3} \\)</td>\n",
       "      <td>1 goes into everything and 3 goes into nine</td>\n",
       "      <td>True_Neither</td>\n",
       "      <td>NaN</td>\n",
       "    </tr>\n",
       "    <tr>\n",
       "      <th>4</th>\n",
       "      <td>4</td>\n",
       "      <td>31772</td>\n",
       "      <td>What fraction of the shape is not shaded? Give...</td>\n",
       "      <td>\\( \\frac{1}{3} \\)</td>\n",
       "      <td>1 out of every 3 isn't coloured</td>\n",
       "      <td>True_Correct</td>\n",
       "      <td>NaN</td>\n",
       "    </tr>\n",
       "  </tbody>\n",
       "</table>\n",
       "</div>"
      ],
      "text/plain": [
       "   row_id  QuestionId                                       QuestionText  \\\n",
       "0       0       31772  What fraction of the shape is not shaded? Give...   \n",
       "1       1       31772  What fraction of the shape is not shaded? Give...   \n",
       "2       2       31772  What fraction of the shape is not shaded? Give...   \n",
       "3       3       31772  What fraction of the shape is not shaded? Give...   \n",
       "4       4       31772  What fraction of the shape is not shaded? Give...   \n",
       "\n",
       "           MC_Answer                                 StudentExplanation  \\\n",
       "0  \\( \\frac{1}{3} \\)                  0ne third is equal to tree nineth   \n",
       "1  \\( \\frac{1}{3} \\)  1 / 3 because 6 over 9 is 2 thirds and 1 third...   \n",
       "2  \\( \\frac{1}{3} \\)  1 3rd is half of 3 6th, so it is simplee to un...   \n",
       "3  \\( \\frac{1}{3} \\)        1 goes into everything and 3 goes into nine   \n",
       "4  \\( \\frac{1}{3} \\)                    1 out of every 3 isn't coloured   \n",
       "\n",
       "       Category Misconception  \n",
       "0  True_Correct           NaN  \n",
       "1  True_Correct           NaN  \n",
       "2  True_Neither           NaN  \n",
       "3  True_Neither           NaN  \n",
       "4  True_Correct           NaN  "
      ]
     },
     "execution_count": 16,
     "metadata": {},
     "output_type": "execute_result"
    }
   ],
   "source": [
    "trainDF = pd.read_csv(CFG.trainFile)\n",
    "trainDF.head()"
   ]
  },
  {
   "cell_type": "code",
   "execution_count": 17,
   "id": "d6882b8d",
   "metadata": {
    "execution": {
     "iopub.execute_input": "2025-09-28T11:40:23.170088Z",
     "iopub.status.busy": "2025-09-28T11:40:23.169837Z",
     "iopub.status.idle": "2025-09-28T11:40:23.199803Z",
     "shell.execute_reply": "2025-09-28T11:40:23.199016Z"
    },
    "papermill": {
     "duration": 0.050687,
     "end_time": "2025-09-28T11:40:23.201202",
     "exception": false,
     "start_time": "2025-09-28T11:40:23.150515",
     "status": "completed"
    },
    "tags": []
   },
   "outputs": [
    {
     "name": "stdout",
     "output_type": "stream",
     "text": [
      "<class 'pandas.core.frame.DataFrame'>\n",
      "RangeIndex: 36696 entries, 0 to 36695\n",
      "Data columns (total 7 columns):\n",
      " #   Column              Non-Null Count  Dtype \n",
      "---  ------              --------------  ----- \n",
      " 0   row_id              36696 non-null  int64 \n",
      " 1   QuestionId          36696 non-null  int64 \n",
      " 2   QuestionText        36696 non-null  object\n",
      " 3   MC_Answer           36696 non-null  object\n",
      " 4   StudentExplanation  36696 non-null  object\n",
      " 5   Category            36696 non-null  object\n",
      " 6   Misconception       9860 non-null   object\n",
      "dtypes: int64(2), object(5)\n",
      "memory usage: 2.0+ MB\n"
     ]
    }
   ],
   "source": [
    "trainDF.info()"
   ]
  },
  {
   "cell_type": "code",
   "execution_count": 18,
   "id": "45d8a408",
   "metadata": {
    "execution": {
     "iopub.execute_input": "2025-09-28T11:40:23.244274Z",
     "iopub.status.busy": "2025-09-28T11:40:23.243981Z",
     "iopub.status.idle": "2025-09-28T11:40:23.259949Z",
     "shell.execute_reply": "2025-09-28T11:40:23.259296Z"
    },
    "papermill": {
     "duration": 0.036362,
     "end_time": "2025-09-28T11:40:23.261061",
     "exception": false,
     "start_time": "2025-09-28T11:40:23.224699",
     "status": "completed"
    },
    "tags": []
   },
   "outputs": [
    {
     "data": {
      "text/html": [
       "<div>\n",
       "<style scoped>\n",
       "    .dataframe tbody tr th:only-of-type {\n",
       "        vertical-align: middle;\n",
       "    }\n",
       "\n",
       "    .dataframe tbody tr th {\n",
       "        vertical-align: top;\n",
       "    }\n",
       "\n",
       "    .dataframe thead th {\n",
       "        text-align: right;\n",
       "    }\n",
       "</style>\n",
       "<table border=\"1\" class=\"dataframe\">\n",
       "  <thead>\n",
       "    <tr style=\"text-align: right;\">\n",
       "      <th></th>\n",
       "      <th>row_id</th>\n",
       "      <th>QuestionId</th>\n",
       "    </tr>\n",
       "  </thead>\n",
       "  <tbody>\n",
       "    <tr>\n",
       "      <th>count</th>\n",
       "      <td>36696.000000</td>\n",
       "      <td>36696.000000</td>\n",
       "    </tr>\n",
       "    <tr>\n",
       "      <th>mean</th>\n",
       "      <td>18347.500000</td>\n",
       "      <td>46356.825104</td>\n",
       "    </tr>\n",
       "    <tr>\n",
       "      <th>std</th>\n",
       "      <td>10593.367076</td>\n",
       "      <td>25617.723392</td>\n",
       "    </tr>\n",
       "    <tr>\n",
       "      <th>min</th>\n",
       "      <td>0.000000</td>\n",
       "      <td>31772.000000</td>\n",
       "    </tr>\n",
       "    <tr>\n",
       "      <th>25%</th>\n",
       "      <td>9173.750000</td>\n",
       "      <td>31777.000000</td>\n",
       "    </tr>\n",
       "    <tr>\n",
       "      <th>50%</th>\n",
       "      <td>18347.500000</td>\n",
       "      <td>32833.000000</td>\n",
       "    </tr>\n",
       "    <tr>\n",
       "      <th>75%</th>\n",
       "      <td>27521.250000</td>\n",
       "      <td>33474.000000</td>\n",
       "    </tr>\n",
       "    <tr>\n",
       "      <th>max</th>\n",
       "      <td>36695.000000</td>\n",
       "      <td>109465.000000</td>\n",
       "    </tr>\n",
       "  </tbody>\n",
       "</table>\n",
       "</div>"
      ],
      "text/plain": [
       "             row_id     QuestionId\n",
       "count  36696.000000   36696.000000\n",
       "mean   18347.500000   46356.825104\n",
       "std    10593.367076   25617.723392\n",
       "min        0.000000   31772.000000\n",
       "25%     9173.750000   31777.000000\n",
       "50%    18347.500000   32833.000000\n",
       "75%    27521.250000   33474.000000\n",
       "max    36695.000000  109465.000000"
      ]
     },
     "execution_count": 18,
     "metadata": {},
     "output_type": "execute_result"
    }
   ],
   "source": [
    "trainDF.describe()"
   ]
  },
  {
   "cell_type": "code",
   "execution_count": 19,
   "id": "41d4e056",
   "metadata": {
    "execution": {
     "iopub.execute_input": "2025-09-28T11:40:23.298226Z",
     "iopub.status.busy": "2025-09-28T11:40:23.298003Z",
     "iopub.status.idle": "2025-09-28T11:40:23.308909Z",
     "shell.execute_reply": "2025-09-28T11:40:23.308219Z"
    },
    "papermill": {
     "duration": 0.030461,
     "end_time": "2025-09-28T11:40:23.309909",
     "exception": false,
     "start_time": "2025-09-28T11:40:23.279448",
     "status": "completed"
    },
    "tags": []
   },
   "outputs": [
    {
     "data": {
      "text/html": [
       "<div>\n",
       "<style scoped>\n",
       "    .dataframe tbody tr th:only-of-type {\n",
       "        vertical-align: middle;\n",
       "    }\n",
       "\n",
       "    .dataframe tbody tr th {\n",
       "        vertical-align: top;\n",
       "    }\n",
       "\n",
       "    .dataframe thead th {\n",
       "        text-align: right;\n",
       "    }\n",
       "</style>\n",
       "<table border=\"1\" class=\"dataframe\">\n",
       "  <thead>\n",
       "    <tr style=\"text-align: right;\">\n",
       "      <th></th>\n",
       "      <th>row_id</th>\n",
       "      <th>QuestionId</th>\n",
       "      <th>QuestionText</th>\n",
       "      <th>MC_Answer</th>\n",
       "      <th>StudentExplanation</th>\n",
       "    </tr>\n",
       "  </thead>\n",
       "  <tbody>\n",
       "    <tr>\n",
       "      <th>0</th>\n",
       "      <td>36696</td>\n",
       "      <td>31772</td>\n",
       "      <td>What fraction of the shape is not shaded? Give...</td>\n",
       "      <td>\\( \\frac{1}{3} \\)</td>\n",
       "      <td>I think that 1/3 is the answer, as it's the si...</td>\n",
       "    </tr>\n",
       "    <tr>\n",
       "      <th>1</th>\n",
       "      <td>36697</td>\n",
       "      <td>31772</td>\n",
       "      <td>What fraction of the shape is not shaded? Give...</td>\n",
       "      <td>\\( \\frac{3}{6} \\)</td>\n",
       "      <td>i think this answer is because 3 triangles are...</td>\n",
       "    </tr>\n",
       "    <tr>\n",
       "      <th>2</th>\n",
       "      <td>36698</td>\n",
       "      <td>32835</td>\n",
       "      <td>Which number is the greatest?</td>\n",
       "      <td>\\( 6.2 \\)</td>\n",
       "      <td>because the 2 makes it higher than the others.</td>\n",
       "    </tr>\n",
       "  </tbody>\n",
       "</table>\n",
       "</div>"
      ],
      "text/plain": [
       "   row_id  QuestionId                                       QuestionText  \\\n",
       "0   36696       31772  What fraction of the shape is not shaded? Give...   \n",
       "1   36697       31772  What fraction of the shape is not shaded? Give...   \n",
       "2   36698       32835                      Which number is the greatest?   \n",
       "\n",
       "           MC_Answer                                 StudentExplanation  \n",
       "0  \\( \\frac{1}{3} \\)  I think that 1/3 is the answer, as it's the si...  \n",
       "1  \\( \\frac{3}{6} \\)  i think this answer is because 3 triangles are...  \n",
       "2          \\( 6.2 \\)     because the 2 makes it higher than the others.  "
      ]
     },
     "execution_count": 19,
     "metadata": {},
     "output_type": "execute_result"
    }
   ],
   "source": [
    "testDF = pd.read_csv(CFG.testFile)\n",
    "testDF"
   ]
  },
  {
   "cell_type": "code",
   "execution_count": 20,
   "id": "7602d4ca",
   "metadata": {
    "execution": {
     "iopub.execute_input": "2025-09-28T11:40:23.347780Z",
     "iopub.status.busy": "2025-09-28T11:40:23.347122Z",
     "iopub.status.idle": "2025-09-28T11:40:23.355181Z",
     "shell.execute_reply": "2025-09-28T11:40:23.354497Z"
    },
    "papermill": {
     "duration": 0.027893,
     "end_time": "2025-09-28T11:40:23.356278",
     "exception": false,
     "start_time": "2025-09-28T11:40:23.328385",
     "status": "completed"
    },
    "tags": []
   },
   "outputs": [
    {
     "name": "stdout",
     "output_type": "stream",
     "text": [
      "<class 'pandas.core.frame.DataFrame'>\n",
      "RangeIndex: 3 entries, 0 to 2\n",
      "Data columns (total 5 columns):\n",
      " #   Column              Non-Null Count  Dtype \n",
      "---  ------              --------------  ----- \n",
      " 0   row_id              3 non-null      int64 \n",
      " 1   QuestionId          3 non-null      int64 \n",
      " 2   QuestionText        3 non-null      object\n",
      " 3   MC_Answer           3 non-null      object\n",
      " 4   StudentExplanation  3 non-null      object\n",
      "dtypes: int64(2), object(3)\n",
      "memory usage: 252.0+ bytes\n"
     ]
    }
   ],
   "source": [
    "testDF.info()"
   ]
  },
  {
   "cell_type": "code",
   "execution_count": 21,
   "id": "57d9abb5",
   "metadata": {
    "execution": {
     "iopub.execute_input": "2025-09-28T11:40:23.394108Z",
     "iopub.status.busy": "2025-09-28T11:40:23.393681Z",
     "iopub.status.idle": "2025-09-28T11:40:23.398731Z",
     "shell.execute_reply": "2025-09-28T11:40:23.398157Z"
    },
    "papermill": {
     "duration": 0.024814,
     "end_time": "2025-09-28T11:40:23.399752",
     "exception": false,
     "start_time": "2025-09-28T11:40:23.374938",
     "status": "completed"
    },
    "tags": []
   },
   "outputs": [
    {
     "data": {
      "text/plain": [
       "row_id                0\n",
       "QuestionId            0\n",
       "QuestionText          0\n",
       "MC_Answer             0\n",
       "StudentExplanation    0\n",
       "dtype: int64"
      ]
     },
     "execution_count": 21,
     "metadata": {},
     "output_type": "execute_result"
    }
   ],
   "source": [
    "testDF.isnull().sum()"
   ]
  },
  {
   "cell_type": "code",
   "execution_count": 22,
   "id": "d6f71200",
   "metadata": {
    "execution": {
     "iopub.execute_input": "2025-09-28T11:40:23.439312Z",
     "iopub.status.busy": "2025-09-28T11:40:23.439127Z",
     "iopub.status.idle": "2025-09-28T11:40:23.451839Z",
     "shell.execute_reply": "2025-09-28T11:40:23.451129Z"
    },
    "papermill": {
     "duration": 0.033825,
     "end_time": "2025-09-28T11:40:23.453052",
     "exception": false,
     "start_time": "2025-09-28T11:40:23.419227",
     "status": "completed"
    },
    "tags": []
   },
   "outputs": [
    {
     "data": {
      "text/plain": [
       "row_id                    0\n",
       "QuestionId                0\n",
       "QuestionText              0\n",
       "MC_Answer                 0\n",
       "StudentExplanation        0\n",
       "Category                  0\n",
       "Misconception         26836\n",
       "dtype: int64"
      ]
     },
     "execution_count": 22,
     "metadata": {},
     "output_type": "execute_result"
    }
   ],
   "source": [
    "# Nan and Null check\n",
    "trainDF.isnull().sum()\n"
   ]
  },
  {
   "cell_type": "code",
   "execution_count": 23,
   "id": "a1383a82",
   "metadata": {
    "execution": {
     "iopub.execute_input": "2025-09-28T11:40:23.490553Z",
     "iopub.status.busy": "2025-09-28T11:40:23.490334Z",
     "iopub.status.idle": "2025-09-28T11:40:23.500161Z",
     "shell.execute_reply": "2025-09-28T11:40:23.499483Z"
    },
    "papermill": {
     "duration": 0.029986,
     "end_time": "2025-09-28T11:40:23.501389",
     "exception": false,
     "start_time": "2025-09-28T11:40:23.471403",
     "status": "completed"
    },
    "tags": []
   },
   "outputs": [
    {
     "data": {
      "text/html": [
       "<div>\n",
       "<style scoped>\n",
       "    .dataframe tbody tr th:only-of-type {\n",
       "        vertical-align: middle;\n",
       "    }\n",
       "\n",
       "    .dataframe tbody tr th {\n",
       "        vertical-align: top;\n",
       "    }\n",
       "\n",
       "    .dataframe thead th {\n",
       "        text-align: right;\n",
       "    }\n",
       "</style>\n",
       "<table border=\"1\" class=\"dataframe\">\n",
       "  <thead>\n",
       "    <tr style=\"text-align: right;\">\n",
       "      <th></th>\n",
       "      <th>row_id</th>\n",
       "      <th>Category:Misconception</th>\n",
       "    </tr>\n",
       "  </thead>\n",
       "  <tbody>\n",
       "    <tr>\n",
       "      <th>0</th>\n",
       "      <td>36696</td>\n",
       "      <td>True_Correct:NA False_Neither:NA False_Misconc...</td>\n",
       "    </tr>\n",
       "    <tr>\n",
       "      <th>1</th>\n",
       "      <td>36697</td>\n",
       "      <td>True_Correct:NA False_Neither:NA False_Misconc...</td>\n",
       "    </tr>\n",
       "    <tr>\n",
       "      <th>2</th>\n",
       "      <td>36698</td>\n",
       "      <td>True_Correct:NA False_Neither:NA False_Misconc...</td>\n",
       "    </tr>\n",
       "  </tbody>\n",
       "</table>\n",
       "</div>"
      ],
      "text/plain": [
       "   row_id                             Category:Misconception\n",
       "0   36696  True_Correct:NA False_Neither:NA False_Misconc...\n",
       "1   36697  True_Correct:NA False_Neither:NA False_Misconc...\n",
       "2   36698  True_Correct:NA False_Neither:NA False_Misconc..."
      ]
     },
     "execution_count": 23,
     "metadata": {},
     "output_type": "execute_result"
    }
   ],
   "source": [
    "sample = pd.read_csv(CFG.sampleFile)\n",
    "sample"
   ]
  },
  {
   "cell_type": "code",
   "execution_count": 24,
   "id": "308f3989",
   "metadata": {
    "execution": {
     "iopub.execute_input": "2025-09-28T11:40:23.542354Z",
     "iopub.status.busy": "2025-09-28T11:40:23.542146Z",
     "iopub.status.idle": "2025-09-28T11:40:23.546445Z",
     "shell.execute_reply": "2025-09-28T11:40:23.545859Z"
    },
    "papermill": {
     "duration": 0.025505,
     "end_time": "2025-09-28T11:40:23.547494",
     "exception": false,
     "start_time": "2025-09-28T11:40:23.521989",
     "status": "completed"
    },
    "tags": []
   },
   "outputs": [
    {
     "data": {
      "text/plain": [
       "Index(['row_id', 'Category:Misconception'], dtype='object')"
      ]
     },
     "execution_count": 24,
     "metadata": {},
     "output_type": "execute_result"
    }
   ],
   "source": [
    "sample.columns"
   ]
  },
  {
   "cell_type": "markdown",
   "id": "9ad1902a",
   "metadata": {
    "execution": {
     "iopub.execute_input": "2025-08-05T12:00:32.719746Z",
     "iopub.status.busy": "2025-08-05T12:00:32.719388Z",
     "iopub.status.idle": "2025-08-05T12:00:32.724824Z",
     "shell.execute_reply": "2025-08-05T12:00:32.723659Z",
     "shell.execute_reply.started": "2025-08-05T12:00:32.719721Z"
    },
    "papermill": {
     "duration": 0.019334,
     "end_time": "2025-09-28T11:40:23.586478",
     "exception": false,
     "start_time": "2025-09-28T11:40:23.567144",
     "status": "completed"
    },
    "tags": []
   },
   "source": [
    "## EDA\n",
    "### Print Columns Values"
   ]
  },
  {
   "cell_type": "code",
   "execution_count": 25,
   "id": "6df0bdf3",
   "metadata": {
    "execution": {
     "iopub.execute_input": "2025-09-28T11:40:23.625640Z",
     "iopub.status.busy": "2025-09-28T11:40:23.625412Z",
     "iopub.status.idle": "2025-09-28T11:40:23.629787Z",
     "shell.execute_reply": "2025-09-28T11:40:23.629126Z"
    },
    "papermill": {
     "duration": 0.025264,
     "end_time": "2025-09-28T11:40:23.630819",
     "exception": false,
     "start_time": "2025-09-28T11:40:23.605555",
     "status": "completed"
    },
    "tags": []
   },
   "outputs": [],
   "source": [
    "def printAllcolumnsValue(df, showAll=True):\n",
    "    \"\"\"\n",
    "    Print DataFrame columns values\n",
    "    \"\"\"\n",
    "    # loop column\n",
    "    for col in df.columns:\n",
    "        if showAll is True:\n",
    "            print(f\"{col} : {df[col].unique()}\") # print unique value\n",
    "        else: # only print caterogy column\n",
    "            if df[col].dtype == \"object\":\n",
    "                print(f\"{col} : {df[col].unique()}\") # print unique value\n",
    "\n",
    "def printSerieUnquieValue(df):\n",
    "    \"\"\"\n",
    "    print data serie value\n",
    "    \"\"\"\n",
    "    print(f\" {df.unique()}\")"
   ]
  },
  {
   "cell_type": "code",
   "execution_count": 26,
   "id": "c6ce31c8",
   "metadata": {
    "execution": {
     "iopub.execute_input": "2025-09-28T11:40:23.668630Z",
     "iopub.status.busy": "2025-09-28T11:40:23.668414Z",
     "iopub.status.idle": "2025-09-28T11:40:23.694569Z",
     "shell.execute_reply": "2025-09-28T11:40:23.693517Z"
    },
    "papermill": {
     "duration": 0.046484,
     "end_time": "2025-09-28T11:40:23.695680",
     "exception": false,
     "start_time": "2025-09-28T11:40:23.649196",
     "status": "completed"
    },
    "scrolled": true,
    "tags": []
   },
   "outputs": [
    {
     "name": "stdout",
     "output_type": "stream",
     "text": [
      "row_id : [    0     1     2 ... 36693 36694 36695]\n",
      "QuestionId : [ 31772  31774  31777  31778  32829  32833  32835  33471  33472  33474\n",
      "  76870  89443  91695 104665 109465]\n",
      "QuestionText : ['What fraction of the shape is not shaded? Give your answer in its simplest form. [Image: A triangle split into 9 equal smaller triangles. 6 of them are shaded.]'\n",
      " 'Calculate \\\\( \\\\frac{1}{2} \\\\div 6 \\\\)'\n",
      " 'A box contains \\\\( 120 \\\\) counters. The counters are red or blue. \\\\( \\\\frac{3}{5} \\\\) of the counters are red.\\nHow many red counters are there?'\n",
      " '\\\\( \\\\frac{A}{10}=\\\\frac{9}{15} \\\\) What is the value of \\\\( A \\\\) ?'\n",
      " '\\\\( 2 y=24 \\\\) What is the value of \\\\( y \\\\) ?'\n",
      " 'Calculate \\\\( \\\\frac{2}{3} \\\\times 5 \\\\)'\n",
      " 'Which number is the greatest?'\n",
      " 'A bag contains \\\\( 24 \\\\) yellow and green balls. \\\\( \\\\frac{3}{8} \\\\) of the balls are yellow. How many of the balls are green?'\n",
      " '\\\\( \\\\frac{1}{3}+\\\\frac{2}{5}= \\\\)'\n",
      " 'Sally has \\\\( \\\\frac{2}{3} \\\\) of a whole cake in the fridge. Robert eats \\\\( \\\\frac{1}{3} \\\\) of this piece. What fraction of the whole cake has Robert eaten?\\nChoose the number sentence that would solve the word problem.'\n",
      " 'This is part of a regular polygon. How many sides does it have? [Image: A diagram showing an obtuse angle labelled 144 degrees]'\n",
      " 'What number belongs in the box?\\n\\\\(\\n(-8)-(-5)=\\n\\\\square\\\\)'\n",
      " 'Dots have been arranged in these patterns: [Image: Pattern 1 consists of 6 dots, Pattern 2 consists of 10 dots, Pattern 3 consists of 14 dots and Pattern 4 consists of 18 dots] How many dots would there be in Pattern \\\\( 6 \\\\) ?'\n",
      " 'It takes \\\\( 3 \\\\) people a total of \\\\( 192 \\\\) hours to build a wall.\\n\\nHow long would it take if \\\\( 12 \\\\) people built the same wall?'\n",
      " 'The probability of an event occurring is \\\\( 0.9 \\\\).\\n\\nWhich of the following most accurately describes the likelihood of the event occurring?']\n",
      "MC_Answer : ['\\\\( \\\\frac{1}{3} \\\\)' '\\\\( \\\\frac{3}{6} \\\\)' '\\\\( \\\\frac{3}{8} \\\\)'\n",
      " '\\\\( \\\\frac{3}{9} \\\\)' '\\\\( 3 \\\\)' '\\\\( \\\\frac{1}{12} \\\\)'\n",
      " '\\\\( \\\\frac{6}{2} \\\\)' '\\\\( 24 \\\\)' '\\\\( 48 \\\\)' '\\\\( 60 \\\\)'\n",
      " '\\\\( 72 \\\\)' '\\\\( 4 \\\\)' '\\\\( 6 \\\\)' '\\\\( 9 \\\\)' '\\\\( 12 \\\\)'\n",
      " '\\\\( 22 \\\\)' '\\\\( 3 \\\\frac{1}{3} \\\\)' '\\\\( 5 \\\\frac{2}{3} \\\\)'\n",
      " '\\\\( \\\\frac{10}{15} \\\\)' '\\\\( \\\\frac{2}{15} \\\\)' '\\\\( 6.0001 \\\\)'\n",
      " '\\\\( 6.079 \\\\)' '\\\\( 6.2 \\\\)' '\\\\( 15 \\\\)' '\\\\( 8 \\\\)'\n",
      " '\\\\( \\\\frac{11}{15} \\\\)' '\\\\( \\\\frac{11}{30} \\\\)' '\\\\( \\\\frac{3}{15} \\\\)'\n",
      " '\\\\( \\\\frac{1}{3} \\\\times \\\\frac{2}{3} \\\\)'\n",
      " '\\\\( \\\\frac{1}{3}+\\\\frac{2}{3} \\\\)'\n",
      " '\\\\( \\\\frac{2}{3} \\\\div \\\\frac{1}{3} \\\\)'\n",
      " '\\\\( \\\\frac{2}{3}-\\\\frac{1}{3} \\\\)' 'Not enough information' '\\\\( 10 \\\\)'\n",
      " '\\\\( 5 \\\\)' '\\\\( -13 \\\\)' '\\\\( -3 \\\\)' '\\\\( 13 \\\\)' '\\\\( 20 \\\\)'\n",
      " '\\\\( 26 \\\\)' '\\\\( 36 \\\\)' '\\\\( 192 \\\\) hours' '\\\\( 48 \\\\) hours'\n",
      " '\\\\( 64 \\\\) hours' '\\\\( 768 \\\\) hours' 'Certain' 'Impossible' 'Likely'\n",
      " 'Unlikely']\n",
      "StudentExplanation : ['0ne third is equal to tree nineth'\n",
      " '1 / 3 because 6 over 9 is 2 thirds and 1 third is not shaded.'\n",
      " '1 3rd is half of 3 6th, so it is simplee to understand.' ...\n",
      " 'yeah pretty unlikelyy from what it seems.'\n",
      " 'you have 9 other numbers to get.'\n",
      " 'you have a chanve but it is not i think this because there is 0.9 odds so you have chance chance,']\n",
      "Category : ['True_Correct' 'True_Neither' 'True_Misconception' 'False_Neither'\n",
      " 'False_Misconception' 'False_Correct']\n",
      "Misconception : [nan 'Incomplete' 'WNB' 'SwapDividend' 'Mult' 'FlipChange' 'Irrelevant'\n",
      " 'Wrong_Fraction' 'Additive' 'Not_variable' 'Adding_terms'\n",
      " 'Inverse_operation' 'Inversion' 'Duplication' 'Wrong_Operation'\n",
      " 'Whole_numbers_larger' 'Longer_is_bigger' 'Ignores_zeroes'\n",
      " 'Shorter_is_bigger' 'Wrong_fraction' 'Adding_across'\n",
      " 'Denominator-only_change' 'Incorrect_equivalent_fraction_addition'\n",
      " 'Division' 'Subtraction' 'Unknowable' 'Definition' 'Interior' 'Positive'\n",
      " 'Tacking' 'Wrong_term' 'Firstterm' 'Base_rate' 'Multiplying_by_4'\n",
      " 'Certainty' 'Scale']\n"
     ]
    }
   ],
   "source": [
    "printAllcolumnsValue(trainDF, showAll=True)"
   ]
  },
  {
   "cell_type": "code",
   "execution_count": 27,
   "id": "ae15fafc",
   "metadata": {
    "execution": {
     "iopub.execute_input": "2025-09-28T11:40:23.733787Z",
     "iopub.status.busy": "2025-09-28T11:40:23.733608Z",
     "iopub.status.idle": "2025-09-28T11:40:23.737912Z",
     "shell.execute_reply": "2025-09-28T11:40:23.737392Z"
    },
    "papermill": {
     "duration": 0.024468,
     "end_time": "2025-09-28T11:40:23.738964",
     "exception": false,
     "start_time": "2025-09-28T11:40:23.714496",
     "status": "completed"
    },
    "tags": []
   },
   "outputs": [
    {
     "data": {
      "text/plain": [
       "['row_id',\n",
       " 'QuestionId',\n",
       " 'QuestionText',\n",
       " 'MC_Answer',\n",
       " 'StudentExplanation',\n",
       " 'Category',\n",
       " 'Misconception']"
      ]
     },
     "execution_count": 27,
     "metadata": {},
     "output_type": "execute_result"
    }
   ],
   "source": [
    "featureCols = trainDF.columns.tolist()\n",
    "featureCols"
   ]
  },
  {
   "cell_type": "code",
   "execution_count": 28,
   "id": "937fc0b8",
   "metadata": {
    "execution": {
     "iopub.execute_input": "2025-09-28T11:40:23.777590Z",
     "iopub.status.busy": "2025-09-28T11:40:23.777391Z",
     "iopub.status.idle": "2025-09-28T11:40:23.788141Z",
     "shell.execute_reply": "2025-09-28T11:40:23.787401Z"
    },
    "papermill": {
     "duration": 0.031721,
     "end_time": "2025-09-28T11:40:23.789406",
     "exception": false,
     "start_time": "2025-09-28T11:40:23.757685",
     "status": "completed"
    },
    "tags": []
   },
   "outputs": [
    {
     "data": {
      "text/plain": [
       "0"
      ]
     },
     "execution_count": 28,
     "metadata": {},
     "output_type": "execute_result"
    }
   ],
   "source": [
    "# clean data\n",
    "trainDF[\"Misconception\"]= trainDF[\"Misconception\"].fillna(\"NA\") # fill NaN to NA\n",
    "trainDF[\"Misconception\"].isnull().sum() # check Null "
   ]
  },
  {
   "cell_type": "markdown",
   "id": "cda26370",
   "metadata": {
    "execution": {
     "iopub.execute_input": "2025-08-06T05:39:57.456179Z",
     "iopub.status.busy": "2025-08-06T05:39:57.455612Z",
     "iopub.status.idle": "2025-08-06T05:39:57.459673Z",
     "shell.execute_reply": "2025-08-06T05:39:57.458795Z",
     "shell.execute_reply.started": "2025-08-06T05:39:57.456155Z"
    },
    "papermill": {
     "duration": 0.019876,
     "end_time": "2025-09-28T11:40:23.829093",
     "exception": false,
     "start_time": "2025-09-28T11:40:23.809217",
     "status": "completed"
    },
    "tags": []
   },
   "source": [
    "#### combine into target columns"
   ]
  },
  {
   "cell_type": "code",
   "execution_count": 29,
   "id": "6aeff60f",
   "metadata": {
    "execution": {
     "iopub.execute_input": "2025-09-28T11:40:23.869634Z",
     "iopub.status.busy": "2025-09-28T11:40:23.868993Z",
     "iopub.status.idle": "2025-09-28T11:40:23.889718Z",
     "shell.execute_reply": "2025-09-28T11:40:23.889176Z"
    },
    "papermill": {
     "duration": 0.041893,
     "end_time": "2025-09-28T11:40:23.890672",
     "exception": false,
     "start_time": "2025-09-28T11:40:23.848779",
     "status": "completed"
    },
    "tags": []
   },
   "outputs": [
    {
     "data": {
      "text/html": [
       "<div>\n",
       "<style scoped>\n",
       "    .dataframe tbody tr th:only-of-type {\n",
       "        vertical-align: middle;\n",
       "    }\n",
       "\n",
       "    .dataframe tbody tr th {\n",
       "        vertical-align: top;\n",
       "    }\n",
       "\n",
       "    .dataframe thead th {\n",
       "        text-align: right;\n",
       "    }\n",
       "</style>\n",
       "<table border=\"1\" class=\"dataframe\">\n",
       "  <thead>\n",
       "    <tr style=\"text-align: right;\">\n",
       "      <th></th>\n",
       "      <th>row_id</th>\n",
       "      <th>QuestionId</th>\n",
       "      <th>QuestionText</th>\n",
       "      <th>MC_Answer</th>\n",
       "      <th>StudentExplanation</th>\n",
       "      <th>Category</th>\n",
       "      <th>Misconception</th>\n",
       "      <th>target</th>\n",
       "    </tr>\n",
       "  </thead>\n",
       "  <tbody>\n",
       "    <tr>\n",
       "      <th>0</th>\n",
       "      <td>0</td>\n",
       "      <td>31772</td>\n",
       "      <td>What fraction of the shape is not shaded? Give...</td>\n",
       "      <td>\\( \\frac{1}{3} \\)</td>\n",
       "      <td>0ne third is equal to tree nineth</td>\n",
       "      <td>True_Correct</td>\n",
       "      <td>NA</td>\n",
       "      <td>True_Correct:NA</td>\n",
       "    </tr>\n",
       "    <tr>\n",
       "      <th>1</th>\n",
       "      <td>1</td>\n",
       "      <td>31772</td>\n",
       "      <td>What fraction of the shape is not shaded? Give...</td>\n",
       "      <td>\\( \\frac{1}{3} \\)</td>\n",
       "      <td>1 / 3 because 6 over 9 is 2 thirds and 1 third...</td>\n",
       "      <td>True_Correct</td>\n",
       "      <td>NA</td>\n",
       "      <td>True_Correct:NA</td>\n",
       "    </tr>\n",
       "    <tr>\n",
       "      <th>2</th>\n",
       "      <td>2</td>\n",
       "      <td>31772</td>\n",
       "      <td>What fraction of the shape is not shaded? Give...</td>\n",
       "      <td>\\( \\frac{1}{3} \\)</td>\n",
       "      <td>1 3rd is half of 3 6th, so it is simplee to un...</td>\n",
       "      <td>True_Neither</td>\n",
       "      <td>NA</td>\n",
       "      <td>True_Neither:NA</td>\n",
       "    </tr>\n",
       "    <tr>\n",
       "      <th>3</th>\n",
       "      <td>3</td>\n",
       "      <td>31772</td>\n",
       "      <td>What fraction of the shape is not shaded? Give...</td>\n",
       "      <td>\\( \\frac{1}{3} \\)</td>\n",
       "      <td>1 goes into everything and 3 goes into nine</td>\n",
       "      <td>True_Neither</td>\n",
       "      <td>NA</td>\n",
       "      <td>True_Neither:NA</td>\n",
       "    </tr>\n",
       "    <tr>\n",
       "      <th>4</th>\n",
       "      <td>4</td>\n",
       "      <td>31772</td>\n",
       "      <td>What fraction of the shape is not shaded? Give...</td>\n",
       "      <td>\\( \\frac{1}{3} \\)</td>\n",
       "      <td>1 out of every 3 isn't coloured</td>\n",
       "      <td>True_Correct</td>\n",
       "      <td>NA</td>\n",
       "      <td>True_Correct:NA</td>\n",
       "    </tr>\n",
       "    <tr>\n",
       "      <th>...</th>\n",
       "      <td>...</td>\n",
       "      <td>...</td>\n",
       "      <td>...</td>\n",
       "      <td>...</td>\n",
       "      <td>...</td>\n",
       "      <td>...</td>\n",
       "      <td>...</td>\n",
       "      <td>...</td>\n",
       "    </tr>\n",
       "    <tr>\n",
       "      <th>36691</th>\n",
       "      <td>36691</td>\n",
       "      <td>109465</td>\n",
       "      <td>The probability of an event occurring is \\( 0....</td>\n",
       "      <td>Unlikely</td>\n",
       "      <td>very unlikely.</td>\n",
       "      <td>False_Neither</td>\n",
       "      <td>NA</td>\n",
       "      <td>False_Neither:NA</td>\n",
       "    </tr>\n",
       "    <tr>\n",
       "      <th>36692</th>\n",
       "      <td>36692</td>\n",
       "      <td>109465</td>\n",
       "      <td>The probability of an event occurring is \\( 0....</td>\n",
       "      <td>Unlikely</td>\n",
       "      <td>yea pretty much unlikely from what it seems.</td>\n",
       "      <td>False_Neither</td>\n",
       "      <td>NA</td>\n",
       "      <td>False_Neither:NA</td>\n",
       "    </tr>\n",
       "    <tr>\n",
       "      <th>36693</th>\n",
       "      <td>36693</td>\n",
       "      <td>109465</td>\n",
       "      <td>The probability of an event occurring is \\( 0....</td>\n",
       "      <td>Unlikely</td>\n",
       "      <td>yeah pretty unlikelyy from what it seems.</td>\n",
       "      <td>False_Neither</td>\n",
       "      <td>NA</td>\n",
       "      <td>False_Neither:NA</td>\n",
       "    </tr>\n",
       "    <tr>\n",
       "      <th>36694</th>\n",
       "      <td>36694</td>\n",
       "      <td>109465</td>\n",
       "      <td>The probability of an event occurring is \\( 0....</td>\n",
       "      <td>Unlikely</td>\n",
       "      <td>you have 9 other numbers to get.</td>\n",
       "      <td>False_Neither</td>\n",
       "      <td>NA</td>\n",
       "      <td>False_Neither:NA</td>\n",
       "    </tr>\n",
       "    <tr>\n",
       "      <th>36695</th>\n",
       "      <td>36695</td>\n",
       "      <td>109465</td>\n",
       "      <td>The probability of an event occurring is \\( 0....</td>\n",
       "      <td>Unlikely</td>\n",
       "      <td>you have a chanve but it is not i think this b...</td>\n",
       "      <td>False_Neither</td>\n",
       "      <td>NA</td>\n",
       "      <td>False_Neither:NA</td>\n",
       "    </tr>\n",
       "  </tbody>\n",
       "</table>\n",
       "<p>36696 rows × 8 columns</p>\n",
       "</div>"
      ],
      "text/plain": [
       "       row_id  QuestionId                                       QuestionText  \\\n",
       "0           0       31772  What fraction of the shape is not shaded? Give...   \n",
       "1           1       31772  What fraction of the shape is not shaded? Give...   \n",
       "2           2       31772  What fraction of the shape is not shaded? Give...   \n",
       "3           3       31772  What fraction of the shape is not shaded? Give...   \n",
       "4           4       31772  What fraction of the shape is not shaded? Give...   \n",
       "...       ...         ...                                                ...   \n",
       "36691   36691      109465  The probability of an event occurring is \\( 0....   \n",
       "36692   36692      109465  The probability of an event occurring is \\( 0....   \n",
       "36693   36693      109465  The probability of an event occurring is \\( 0....   \n",
       "36694   36694      109465  The probability of an event occurring is \\( 0....   \n",
       "36695   36695      109465  The probability of an event occurring is \\( 0....   \n",
       "\n",
       "               MC_Answer                                 StudentExplanation  \\\n",
       "0      \\( \\frac{1}{3} \\)                  0ne third is equal to tree nineth   \n",
       "1      \\( \\frac{1}{3} \\)  1 / 3 because 6 over 9 is 2 thirds and 1 third...   \n",
       "2      \\( \\frac{1}{3} \\)  1 3rd is half of 3 6th, so it is simplee to un...   \n",
       "3      \\( \\frac{1}{3} \\)        1 goes into everything and 3 goes into nine   \n",
       "4      \\( \\frac{1}{3} \\)                    1 out of every 3 isn't coloured   \n",
       "...                  ...                                                ...   \n",
       "36691           Unlikely                                     very unlikely.   \n",
       "36692           Unlikely       yea pretty much unlikely from what it seems.   \n",
       "36693           Unlikely          yeah pretty unlikelyy from what it seems.   \n",
       "36694           Unlikely                   you have 9 other numbers to get.   \n",
       "36695           Unlikely  you have a chanve but it is not i think this b...   \n",
       "\n",
       "            Category Misconception            target  \n",
       "0       True_Correct            NA   True_Correct:NA  \n",
       "1       True_Correct            NA   True_Correct:NA  \n",
       "2       True_Neither            NA   True_Neither:NA  \n",
       "3       True_Neither            NA   True_Neither:NA  \n",
       "4       True_Correct            NA   True_Correct:NA  \n",
       "...              ...           ...               ...  \n",
       "36691  False_Neither            NA  False_Neither:NA  \n",
       "36692  False_Neither            NA  False_Neither:NA  \n",
       "36693  False_Neither            NA  False_Neither:NA  \n",
       "36694  False_Neither            NA  False_Neither:NA  \n",
       "36695  False_Neither            NA  False_Neither:NA  \n",
       "\n",
       "[36696 rows x 8 columns]"
      ]
     },
     "execution_count": 29,
     "metadata": {},
     "output_type": "execute_result"
    }
   ],
   "source": [
    "\n",
    "trainDF['target'] = trainDF[\"Category\"]+\":\"+trainDF[\"Misconception\"]\n",
    "trainDF"
   ]
  },
  {
   "cell_type": "markdown",
   "id": "e9396ec2",
   "metadata": {
    "papermill": {
     "duration": 0.018813,
     "end_time": "2025-09-28T11:40:23.928997",
     "exception": false,
     "start_time": "2025-09-28T11:40:23.910184",
     "status": "completed"
    },
    "tags": []
   },
   "source": [
    "### Create Label"
   ]
  },
  {
   "cell_type": "code",
   "execution_count": 30,
   "id": "85f00369",
   "metadata": {
    "execution": {
     "iopub.execute_input": "2025-09-28T11:40:23.967507Z",
     "iopub.status.busy": "2025-09-28T11:40:23.967324Z",
     "iopub.status.idle": "2025-09-28T11:40:23.977789Z",
     "shell.execute_reply": "2025-09-28T11:40:23.977135Z"
    },
    "papermill": {
     "duration": 0.030953,
     "end_time": "2025-09-28T11:40:23.978835",
     "exception": false,
     "start_time": "2025-09-28T11:40:23.947882",
     "status": "completed"
    },
    "tags": []
   },
   "outputs": [],
   "source": [
    "le = LabelEncoder()\n",
    "trainDF[\"label\"]= le.fit_transform(trainDF['target']) # encode caterogy into label"
   ]
  },
  {
   "cell_type": "code",
   "execution_count": 31,
   "id": "ef4e90ab",
   "metadata": {
    "execution": {
     "iopub.execute_input": "2025-09-28T11:40:24.017537Z",
     "iopub.status.busy": "2025-09-28T11:40:24.017111Z",
     "iopub.status.idle": "2025-09-28T11:40:24.027357Z",
     "shell.execute_reply": "2025-09-28T11:40:24.026703Z"
    },
    "papermill": {
     "duration": 0.030755,
     "end_time": "2025-09-28T11:40:24.028399",
     "exception": false,
     "start_time": "2025-09-28T11:40:23.997644",
     "status": "completed"
    },
    "tags": []
   },
   "outputs": [
    {
     "data": {
      "text/html": [
       "<div>\n",
       "<style scoped>\n",
       "    .dataframe tbody tr th:only-of-type {\n",
       "        vertical-align: middle;\n",
       "    }\n",
       "\n",
       "    .dataframe tbody tr th {\n",
       "        vertical-align: top;\n",
       "    }\n",
       "\n",
       "    .dataframe thead th {\n",
       "        text-align: right;\n",
       "    }\n",
       "</style>\n",
       "<table border=\"1\" class=\"dataframe\">\n",
       "  <thead>\n",
       "    <tr style=\"text-align: right;\">\n",
       "      <th></th>\n",
       "      <th>row_id</th>\n",
       "      <th>QuestionId</th>\n",
       "      <th>QuestionText</th>\n",
       "      <th>MC_Answer</th>\n",
       "      <th>StudentExplanation</th>\n",
       "      <th>Category</th>\n",
       "      <th>Misconception</th>\n",
       "      <th>target</th>\n",
       "      <th>label</th>\n",
       "    </tr>\n",
       "  </thead>\n",
       "  <tbody>\n",
       "    <tr>\n",
       "      <th>0</th>\n",
       "      <td>0</td>\n",
       "      <td>31772</td>\n",
       "      <td>What fraction of the shape is not shaded? Give...</td>\n",
       "      <td>\\( \\frac{1}{3} \\)</td>\n",
       "      <td>0ne third is equal to tree nineth</td>\n",
       "      <td>True_Correct</td>\n",
       "      <td>NA</td>\n",
       "      <td>True_Correct:NA</td>\n",
       "      <td>37</td>\n",
       "    </tr>\n",
       "    <tr>\n",
       "      <th>1</th>\n",
       "      <td>1</td>\n",
       "      <td>31772</td>\n",
       "      <td>What fraction of the shape is not shaded? Give...</td>\n",
       "      <td>\\( \\frac{1}{3} \\)</td>\n",
       "      <td>1 / 3 because 6 over 9 is 2 thirds and 1 third...</td>\n",
       "      <td>True_Correct</td>\n",
       "      <td>NA</td>\n",
       "      <td>True_Correct:NA</td>\n",
       "      <td>37</td>\n",
       "    </tr>\n",
       "    <tr>\n",
       "      <th>2</th>\n",
       "      <td>2</td>\n",
       "      <td>31772</td>\n",
       "      <td>What fraction of the shape is not shaded? Give...</td>\n",
       "      <td>\\( \\frac{1}{3} \\)</td>\n",
       "      <td>1 3rd is half of 3 6th, so it is simplee to un...</td>\n",
       "      <td>True_Neither</td>\n",
       "      <td>NA</td>\n",
       "      <td>True_Neither:NA</td>\n",
       "      <td>64</td>\n",
       "    </tr>\n",
       "    <tr>\n",
       "      <th>3</th>\n",
       "      <td>3</td>\n",
       "      <td>31772</td>\n",
       "      <td>What fraction of the shape is not shaded? Give...</td>\n",
       "      <td>\\( \\frac{1}{3} \\)</td>\n",
       "      <td>1 goes into everything and 3 goes into nine</td>\n",
       "      <td>True_Neither</td>\n",
       "      <td>NA</td>\n",
       "      <td>True_Neither:NA</td>\n",
       "      <td>64</td>\n",
       "    </tr>\n",
       "    <tr>\n",
       "      <th>4</th>\n",
       "      <td>4</td>\n",
       "      <td>31772</td>\n",
       "      <td>What fraction of the shape is not shaded? Give...</td>\n",
       "      <td>\\( \\frac{1}{3} \\)</td>\n",
       "      <td>1 out of every 3 isn't coloured</td>\n",
       "      <td>True_Correct</td>\n",
       "      <td>NA</td>\n",
       "      <td>True_Correct:NA</td>\n",
       "      <td>37</td>\n",
       "    </tr>\n",
       "    <tr>\n",
       "      <th>...</th>\n",
       "      <td>...</td>\n",
       "      <td>...</td>\n",
       "      <td>...</td>\n",
       "      <td>...</td>\n",
       "      <td>...</td>\n",
       "      <td>...</td>\n",
       "      <td>...</td>\n",
       "      <td>...</td>\n",
       "      <td>...</td>\n",
       "    </tr>\n",
       "    <tr>\n",
       "      <th>36691</th>\n",
       "      <td>36691</td>\n",
       "      <td>109465</td>\n",
       "      <td>The probability of an event occurring is \\( 0....</td>\n",
       "      <td>Unlikely</td>\n",
       "      <td>very unlikely.</td>\n",
       "      <td>False_Neither</td>\n",
       "      <td>NA</td>\n",
       "      <td>False_Neither:NA</td>\n",
       "      <td>36</td>\n",
       "    </tr>\n",
       "    <tr>\n",
       "      <th>36692</th>\n",
       "      <td>36692</td>\n",
       "      <td>109465</td>\n",
       "      <td>The probability of an event occurring is \\( 0....</td>\n",
       "      <td>Unlikely</td>\n",
       "      <td>yea pretty much unlikely from what it seems.</td>\n",
       "      <td>False_Neither</td>\n",
       "      <td>NA</td>\n",
       "      <td>False_Neither:NA</td>\n",
       "      <td>36</td>\n",
       "    </tr>\n",
       "    <tr>\n",
       "      <th>36693</th>\n",
       "      <td>36693</td>\n",
       "      <td>109465</td>\n",
       "      <td>The probability of an event occurring is \\( 0....</td>\n",
       "      <td>Unlikely</td>\n",
       "      <td>yeah pretty unlikelyy from what it seems.</td>\n",
       "      <td>False_Neither</td>\n",
       "      <td>NA</td>\n",
       "      <td>False_Neither:NA</td>\n",
       "      <td>36</td>\n",
       "    </tr>\n",
       "    <tr>\n",
       "      <th>36694</th>\n",
       "      <td>36694</td>\n",
       "      <td>109465</td>\n",
       "      <td>The probability of an event occurring is \\( 0....</td>\n",
       "      <td>Unlikely</td>\n",
       "      <td>you have 9 other numbers to get.</td>\n",
       "      <td>False_Neither</td>\n",
       "      <td>NA</td>\n",
       "      <td>False_Neither:NA</td>\n",
       "      <td>36</td>\n",
       "    </tr>\n",
       "    <tr>\n",
       "      <th>36695</th>\n",
       "      <td>36695</td>\n",
       "      <td>109465</td>\n",
       "      <td>The probability of an event occurring is \\( 0....</td>\n",
       "      <td>Unlikely</td>\n",
       "      <td>you have a chanve but it is not i think this b...</td>\n",
       "      <td>False_Neither</td>\n",
       "      <td>NA</td>\n",
       "      <td>False_Neither:NA</td>\n",
       "      <td>36</td>\n",
       "    </tr>\n",
       "  </tbody>\n",
       "</table>\n",
       "<p>36696 rows × 9 columns</p>\n",
       "</div>"
      ],
      "text/plain": [
       "       row_id  QuestionId                                       QuestionText  \\\n",
       "0           0       31772  What fraction of the shape is not shaded? Give...   \n",
       "1           1       31772  What fraction of the shape is not shaded? Give...   \n",
       "2           2       31772  What fraction of the shape is not shaded? Give...   \n",
       "3           3       31772  What fraction of the shape is not shaded? Give...   \n",
       "4           4       31772  What fraction of the shape is not shaded? Give...   \n",
       "...       ...         ...                                                ...   \n",
       "36691   36691      109465  The probability of an event occurring is \\( 0....   \n",
       "36692   36692      109465  The probability of an event occurring is \\( 0....   \n",
       "36693   36693      109465  The probability of an event occurring is \\( 0....   \n",
       "36694   36694      109465  The probability of an event occurring is \\( 0....   \n",
       "36695   36695      109465  The probability of an event occurring is \\( 0....   \n",
       "\n",
       "               MC_Answer                                 StudentExplanation  \\\n",
       "0      \\( \\frac{1}{3} \\)                  0ne third is equal to tree nineth   \n",
       "1      \\( \\frac{1}{3} \\)  1 / 3 because 6 over 9 is 2 thirds and 1 third...   \n",
       "2      \\( \\frac{1}{3} \\)  1 3rd is half of 3 6th, so it is simplee to un...   \n",
       "3      \\( \\frac{1}{3} \\)        1 goes into everything and 3 goes into nine   \n",
       "4      \\( \\frac{1}{3} \\)                    1 out of every 3 isn't coloured   \n",
       "...                  ...                                                ...   \n",
       "36691           Unlikely                                     very unlikely.   \n",
       "36692           Unlikely       yea pretty much unlikely from what it seems.   \n",
       "36693           Unlikely          yeah pretty unlikelyy from what it seems.   \n",
       "36694           Unlikely                   you have 9 other numbers to get.   \n",
       "36695           Unlikely  you have a chanve but it is not i think this b...   \n",
       "\n",
       "            Category Misconception            target  label  \n",
       "0       True_Correct            NA   True_Correct:NA     37  \n",
       "1       True_Correct            NA   True_Correct:NA     37  \n",
       "2       True_Neither            NA   True_Neither:NA     64  \n",
       "3       True_Neither            NA   True_Neither:NA     64  \n",
       "4       True_Correct            NA   True_Correct:NA     37  \n",
       "...              ...           ...               ...    ...  \n",
       "36691  False_Neither            NA  False_Neither:NA     36  \n",
       "36692  False_Neither            NA  False_Neither:NA     36  \n",
       "36693  False_Neither            NA  False_Neither:NA     36  \n",
       "36694  False_Neither            NA  False_Neither:NA     36  \n",
       "36695  False_Neither            NA  False_Neither:NA     36  \n",
       "\n",
       "[36696 rows x 9 columns]"
      ]
     },
     "execution_count": 31,
     "metadata": {},
     "output_type": "execute_result"
    }
   ],
   "source": [
    "trainDF"
   ]
  },
  {
   "cell_type": "code",
   "execution_count": 32,
   "id": "f1cc7e5d",
   "metadata": {
    "execution": {
     "iopub.execute_input": "2025-09-28T11:40:24.070011Z",
     "iopub.status.busy": "2025-09-28T11:40:24.069773Z",
     "iopub.status.idle": "2025-09-28T11:40:24.098451Z",
     "shell.execute_reply": "2025-09-28T11:40:24.097212Z"
    },
    "papermill": {
     "duration": 0.0506,
     "end_time": "2025-09-28T11:40:24.099750",
     "exception": false,
     "start_time": "2025-09-28T11:40:24.049150",
     "status": "completed"
    },
    "scrolled": true,
    "tags": []
   },
   "outputs": [
    {
     "name": "stdout",
     "output_type": "stream",
     "text": [
      "row_id : [    0     1     2 ... 36693 36694 36695]\n",
      "QuestionId : [ 31772  31774  31777  31778  32829  32833  32835  33471  33472  33474\n",
      "  76870  89443  91695 104665 109465]\n",
      "QuestionText : ['What fraction of the shape is not shaded? Give your answer in its simplest form. [Image: A triangle split into 9 equal smaller triangles. 6 of them are shaded.]'\n",
      " 'Calculate \\\\( \\\\frac{1}{2} \\\\div 6 \\\\)'\n",
      " 'A box contains \\\\( 120 \\\\) counters. The counters are red or blue. \\\\( \\\\frac{3}{5} \\\\) of the counters are red.\\nHow many red counters are there?'\n",
      " '\\\\( \\\\frac{A}{10}=\\\\frac{9}{15} \\\\) What is the value of \\\\( A \\\\) ?'\n",
      " '\\\\( 2 y=24 \\\\) What is the value of \\\\( y \\\\) ?'\n",
      " 'Calculate \\\\( \\\\frac{2}{3} \\\\times 5 \\\\)'\n",
      " 'Which number is the greatest?'\n",
      " 'A bag contains \\\\( 24 \\\\) yellow and green balls. \\\\( \\\\frac{3}{8} \\\\) of the balls are yellow. How many of the balls are green?'\n",
      " '\\\\( \\\\frac{1}{3}+\\\\frac{2}{5}= \\\\)'\n",
      " 'Sally has \\\\( \\\\frac{2}{3} \\\\) of a whole cake in the fridge. Robert eats \\\\( \\\\frac{1}{3} \\\\) of this piece. What fraction of the whole cake has Robert eaten?\\nChoose the number sentence that would solve the word problem.'\n",
      " 'This is part of a regular polygon. How many sides does it have? [Image: A diagram showing an obtuse angle labelled 144 degrees]'\n",
      " 'What number belongs in the box?\\n\\\\(\\n(-8)-(-5)=\\n\\\\square\\\\)'\n",
      " 'Dots have been arranged in these patterns: [Image: Pattern 1 consists of 6 dots, Pattern 2 consists of 10 dots, Pattern 3 consists of 14 dots and Pattern 4 consists of 18 dots] How many dots would there be in Pattern \\\\( 6 \\\\) ?'\n",
      " 'It takes \\\\( 3 \\\\) people a total of \\\\( 192 \\\\) hours to build a wall.\\n\\nHow long would it take if \\\\( 12 \\\\) people built the same wall?'\n",
      " 'The probability of an event occurring is \\\\( 0.9 \\\\).\\n\\nWhich of the following most accurately describes the likelihood of the event occurring?']\n",
      "MC_Answer : ['\\\\( \\\\frac{1}{3} \\\\)' '\\\\( \\\\frac{3}{6} \\\\)' '\\\\( \\\\frac{3}{8} \\\\)'\n",
      " '\\\\( \\\\frac{3}{9} \\\\)' '\\\\( 3 \\\\)' '\\\\( \\\\frac{1}{12} \\\\)'\n",
      " '\\\\( \\\\frac{6}{2} \\\\)' '\\\\( 24 \\\\)' '\\\\( 48 \\\\)' '\\\\( 60 \\\\)'\n",
      " '\\\\( 72 \\\\)' '\\\\( 4 \\\\)' '\\\\( 6 \\\\)' '\\\\( 9 \\\\)' '\\\\( 12 \\\\)'\n",
      " '\\\\( 22 \\\\)' '\\\\( 3 \\\\frac{1}{3} \\\\)' '\\\\( 5 \\\\frac{2}{3} \\\\)'\n",
      " '\\\\( \\\\frac{10}{15} \\\\)' '\\\\( \\\\frac{2}{15} \\\\)' '\\\\( 6.0001 \\\\)'\n",
      " '\\\\( 6.079 \\\\)' '\\\\( 6.2 \\\\)' '\\\\( 15 \\\\)' '\\\\( 8 \\\\)'\n",
      " '\\\\( \\\\frac{11}{15} \\\\)' '\\\\( \\\\frac{11}{30} \\\\)' '\\\\( \\\\frac{3}{15} \\\\)'\n",
      " '\\\\( \\\\frac{1}{3} \\\\times \\\\frac{2}{3} \\\\)'\n",
      " '\\\\( \\\\frac{1}{3}+\\\\frac{2}{3} \\\\)'\n",
      " '\\\\( \\\\frac{2}{3} \\\\div \\\\frac{1}{3} \\\\)'\n",
      " '\\\\( \\\\frac{2}{3}-\\\\frac{1}{3} \\\\)' 'Not enough information' '\\\\( 10 \\\\)'\n",
      " '\\\\( 5 \\\\)' '\\\\( -13 \\\\)' '\\\\( -3 \\\\)' '\\\\( 13 \\\\)' '\\\\( 20 \\\\)'\n",
      " '\\\\( 26 \\\\)' '\\\\( 36 \\\\)' '\\\\( 192 \\\\) hours' '\\\\( 48 \\\\) hours'\n",
      " '\\\\( 64 \\\\) hours' '\\\\( 768 \\\\) hours' 'Certain' 'Impossible' 'Likely'\n",
      " 'Unlikely']\n",
      "StudentExplanation : ['0ne third is equal to tree nineth'\n",
      " '1 / 3 because 6 over 9 is 2 thirds and 1 third is not shaded.'\n",
      " '1 3rd is half of 3 6th, so it is simplee to understand.' ...\n",
      " 'yeah pretty unlikelyy from what it seems.'\n",
      " 'you have 9 other numbers to get.'\n",
      " 'you have a chanve but it is not i think this because there is 0.9 odds so you have chance chance,']\n",
      "Category : ['True_Correct' 'True_Neither' 'True_Misconception' 'False_Neither'\n",
      " 'False_Misconception' 'False_Correct']\n",
      "Misconception : ['NA' 'Incomplete' 'WNB' 'SwapDividend' 'Mult' 'FlipChange' 'Irrelevant'\n",
      " 'Wrong_Fraction' 'Additive' 'Not_variable' 'Adding_terms'\n",
      " 'Inverse_operation' 'Inversion' 'Duplication' 'Wrong_Operation'\n",
      " 'Whole_numbers_larger' 'Longer_is_bigger' 'Ignores_zeroes'\n",
      " 'Shorter_is_bigger' 'Wrong_fraction' 'Adding_across'\n",
      " 'Denominator-only_change' 'Incorrect_equivalent_fraction_addition'\n",
      " 'Division' 'Subtraction' 'Unknowable' 'Definition' 'Interior' 'Positive'\n",
      " 'Tacking' 'Wrong_term' 'Firstterm' 'Base_rate' 'Multiplying_by_4'\n",
      " 'Certainty' 'Scale']\n",
      "target : ['True_Correct:NA' 'True_Neither:NA' 'True_Misconception:Incomplete'\n",
      " 'True_Misconception:WNB' 'False_Neither:NA' 'False_Misconception:WNB'\n",
      " 'False_Misconception:Incomplete' 'False_Correct:NA'\n",
      " 'False_Misconception:SwapDividend' 'False_Misconception:Mult'\n",
      " 'False_Misconception:FlipChange' 'True_Misconception:SwapDividend'\n",
      " 'True_Misconception:Mult' 'True_Misconception:FlipChange'\n",
      " 'False_Misconception:Irrelevant' 'False_Misconception:Wrong_Fraction'\n",
      " 'False_Misconception:Additive' 'True_Misconception:Irrelevant'\n",
      " 'True_Misconception:Additive' 'True_Misconception:Not_variable'\n",
      " 'False_Misconception:Adding_terms' 'False_Misconception:Not_variable'\n",
      " 'False_Misconception:Inverse_operation' 'True_Misconception:Inversion'\n",
      " 'True_Misconception:Duplication' 'False_Misconception:Duplication'\n",
      " 'False_Misconception:Inversion' 'False_Misconception:Wrong_Operation'\n",
      " 'False_Misconception:Whole_numbers_larger'\n",
      " 'False_Misconception:Longer_is_bigger'\n",
      " 'False_Misconception:Ignores_zeroes'\n",
      " 'False_Misconception:Shorter_is_bigger'\n",
      " 'True_Misconception:Whole_numbers_larger'\n",
      " 'True_Misconception:Shorter_is_bigger'\n",
      " 'True_Misconception:Longer_is_bigger' 'True_Misconception:Wrong_fraction'\n",
      " 'False_Misconception:Wrong_fraction' 'True_Misconception:Adding_across'\n",
      " 'True_Misconception:Denominator-only_change'\n",
      " 'True_Misconception:Incorrect_equivalent_fraction_addition'\n",
      " 'False_Misconception:Denominator-only_change'\n",
      " 'False_Misconception:Incorrect_equivalent_fraction_addition'\n",
      " 'False_Misconception:Adding_across' 'True_Misconception:Division'\n",
      " 'True_Misconception:Subtraction' 'False_Misconception:Subtraction'\n",
      " 'False_Misconception:Division' 'False_Misconception:Unknowable'\n",
      " 'False_Misconception:Definition' 'False_Misconception:Interior'\n",
      " 'True_Misconception:Definition' 'False_Misconception:Positive'\n",
      " 'False_Misconception:Tacking' 'True_Misconception:Tacking'\n",
      " 'True_Misconception:Positive' 'False_Misconception:Wrong_term'\n",
      " 'False_Misconception:Firstterm' 'True_Misconception:Wrong_term'\n",
      " 'True_Misconception:Firstterm' 'False_Misconception:Base_rate'\n",
      " 'True_Misconception:Base_rate' 'True_Misconception:Multiplying_by_4'\n",
      " 'False_Misconception:Multiplying_by_4' 'False_Misconception:Certainty'\n",
      " 'False_Misconception:Scale']\n",
      "label : [37 64 47 60 36 30 13  0 27 20 11 58 52 46 18 32  3 50 39 54  2 22 16 49\n",
      " 44  9 17 33 31 19 12 25 61 56 51 62 34 38 42 48  7 14  1 43 57 26  8 29\n",
      "  6 15 41 23 28 59 55 35 10 63 45  4 40 53 21  5 24]\n"
     ]
    }
   ],
   "source": [
    "# print all unique t\n",
    "printAllcolumnsValue(trainDF, showAll=True)"
   ]
  },
  {
   "cell_type": "markdown",
   "id": "4189438e",
   "metadata": {
    "papermill": {
     "duration": 0.019694,
     "end_time": "2025-09-28T11:40:24.139029",
     "exception": false,
     "start_time": "2025-09-28T11:40:24.119335",
     "status": "completed"
    },
    "tags": []
   },
   "source": [
    "### Get Label Catergory class name"
   ]
  },
  {
   "cell_type": "code",
   "execution_count": 33,
   "id": "2afbc729",
   "metadata": {
    "execution": {
     "iopub.execute_input": "2025-09-28T11:40:24.179892Z",
     "iopub.status.busy": "2025-09-28T11:40:24.179685Z",
     "iopub.status.idle": "2025-09-28T11:40:24.184071Z",
     "shell.execute_reply": "2025-09-28T11:40:24.183511Z"
    },
    "papermill": {
     "duration": 0.02569,
     "end_time": "2025-09-28T11:40:24.185112",
     "exception": false,
     "start_time": "2025-09-28T11:40:24.159422",
     "status": "completed"
    },
    "tags": []
   },
   "outputs": [
    {
     "data": {
      "text/plain": [
       "array(['False_Correct:NA', 'False_Misconception:Adding_across',\n",
       "       'False_Misconception:Adding_terms', 'False_Misconception:Additive',\n",
       "       'False_Misconception:Base_rate', 'False_Misconception:Certainty',\n",
       "       'False_Misconception:Definition',\n",
       "       'False_Misconception:Denominator-only_change',\n",
       "       'False_Misconception:Division', 'False_Misconception:Duplication',\n",
       "       'False_Misconception:Firstterm', 'False_Misconception:FlipChange',\n",
       "       'False_Misconception:Ignores_zeroes',\n",
       "       'False_Misconception:Incomplete',\n",
       "       'False_Misconception:Incorrect_equivalent_fraction_addition',\n",
       "       'False_Misconception:Interior',\n",
       "       'False_Misconception:Inverse_operation',\n",
       "       'False_Misconception:Inversion', 'False_Misconception:Irrelevant',\n",
       "       'False_Misconception:Longer_is_bigger', 'False_Misconception:Mult',\n",
       "       'False_Misconception:Multiplying_by_4',\n",
       "       'False_Misconception:Not_variable', 'False_Misconception:Positive',\n",
       "       'False_Misconception:Scale',\n",
       "       'False_Misconception:Shorter_is_bigger',\n",
       "       'False_Misconception:Subtraction',\n",
       "       'False_Misconception:SwapDividend', 'False_Misconception:Tacking',\n",
       "       'False_Misconception:Unknowable', 'False_Misconception:WNB',\n",
       "       'False_Misconception:Whole_numbers_larger',\n",
       "       'False_Misconception:Wrong_Fraction',\n",
       "       'False_Misconception:Wrong_Operation',\n",
       "       'False_Misconception:Wrong_fraction',\n",
       "       'False_Misconception:Wrong_term', 'False_Neither:NA',\n",
       "       'True_Correct:NA', 'True_Misconception:Adding_across',\n",
       "       'True_Misconception:Additive', 'True_Misconception:Base_rate',\n",
       "       'True_Misconception:Definition',\n",
       "       'True_Misconception:Denominator-only_change',\n",
       "       'True_Misconception:Division', 'True_Misconception:Duplication',\n",
       "       'True_Misconception:Firstterm', 'True_Misconception:FlipChange',\n",
       "       'True_Misconception:Incomplete',\n",
       "       'True_Misconception:Incorrect_equivalent_fraction_addition',\n",
       "       'True_Misconception:Inversion', 'True_Misconception:Irrelevant',\n",
       "       'True_Misconception:Longer_is_bigger', 'True_Misconception:Mult',\n",
       "       'True_Misconception:Multiplying_by_4',\n",
       "       'True_Misconception:Not_variable', 'True_Misconception:Positive',\n",
       "       'True_Misconception:Shorter_is_bigger',\n",
       "       'True_Misconception:Subtraction',\n",
       "       'True_Misconception:SwapDividend', 'True_Misconception:Tacking',\n",
       "       'True_Misconception:WNB',\n",
       "       'True_Misconception:Whole_numbers_larger',\n",
       "       'True_Misconception:Wrong_fraction',\n",
       "       'True_Misconception:Wrong_term', 'True_Neither:NA'], dtype=object)"
      ]
     },
     "execution_count": 33,
     "metadata": {},
     "output_type": "execute_result"
    }
   ],
   "source": [
    "\n",
    "targetClasses = le.classes_   \n",
    "targetClasses"
   ]
  },
  {
   "cell_type": "code",
   "execution_count": 34,
   "id": "dad0ae35",
   "metadata": {
    "execution": {
     "iopub.execute_input": "2025-09-28T11:40:24.224892Z",
     "iopub.status.busy": "2025-09-28T11:40:24.224703Z",
     "iopub.status.idle": "2025-09-28T11:40:24.228802Z",
     "shell.execute_reply": "2025-09-28T11:40:24.228262Z"
    },
    "papermill": {
     "duration": 0.025025,
     "end_time": "2025-09-28T11:40:24.229777",
     "exception": false,
     "start_time": "2025-09-28T11:40:24.204752",
     "status": "completed"
    },
    "tags": []
   },
   "outputs": [
    {
     "data": {
      "text/plain": [
       "65"
      ]
     },
     "execution_count": 34,
     "metadata": {},
     "output_type": "execute_result"
    }
   ],
   "source": [
    "nClasses = len(targetClasses)\n",
    "nClasses"
   ]
  },
  {
   "cell_type": "code",
   "execution_count": 35,
   "id": "0969925c",
   "metadata": {
    "execution": {
     "iopub.execute_input": "2025-09-28T11:40:24.270160Z",
     "iopub.status.busy": "2025-09-28T11:40:24.269938Z",
     "iopub.status.idle": "2025-09-28T11:40:24.279798Z",
     "shell.execute_reply": "2025-09-28T11:40:24.279219Z"
    },
    "papermill": {
     "duration": 0.031163,
     "end_time": "2025-09-28T11:40:24.280805",
     "exception": false,
     "start_time": "2025-09-28T11:40:24.249642",
     "status": "completed"
    },
    "tags": []
   },
   "outputs": [
    {
     "name": "stdout",
     "output_type": "stream",
     "text": [
      "Train shape: (36696, 9) with 65 target classes\n"
     ]
    },
    {
     "data": {
      "text/html": [
       "<div>\n",
       "<style scoped>\n",
       "    .dataframe tbody tr th:only-of-type {\n",
       "        vertical-align: middle;\n",
       "    }\n",
       "\n",
       "    .dataframe tbody tr th {\n",
       "        vertical-align: top;\n",
       "    }\n",
       "\n",
       "    .dataframe thead th {\n",
       "        text-align: right;\n",
       "    }\n",
       "</style>\n",
       "<table border=\"1\" class=\"dataframe\">\n",
       "  <thead>\n",
       "    <tr style=\"text-align: right;\">\n",
       "      <th></th>\n",
       "      <th>row_id</th>\n",
       "      <th>QuestionId</th>\n",
       "      <th>QuestionText</th>\n",
       "      <th>MC_Answer</th>\n",
       "      <th>StudentExplanation</th>\n",
       "      <th>Category</th>\n",
       "      <th>Misconception</th>\n",
       "      <th>target</th>\n",
       "      <th>label</th>\n",
       "    </tr>\n",
       "  </thead>\n",
       "  <tbody>\n",
       "    <tr>\n",
       "      <th>0</th>\n",
       "      <td>0</td>\n",
       "      <td>31772</td>\n",
       "      <td>What fraction of the shape is not shaded? Give...</td>\n",
       "      <td>\\( \\frac{1}{3} \\)</td>\n",
       "      <td>0ne third is equal to tree nineth</td>\n",
       "      <td>True_Correct</td>\n",
       "      <td>NA</td>\n",
       "      <td>True_Correct:NA</td>\n",
       "      <td>37</td>\n",
       "    </tr>\n",
       "    <tr>\n",
       "      <th>1</th>\n",
       "      <td>1</td>\n",
       "      <td>31772</td>\n",
       "      <td>What fraction of the shape is not shaded? Give...</td>\n",
       "      <td>\\( \\frac{1}{3} \\)</td>\n",
       "      <td>1 / 3 because 6 over 9 is 2 thirds and 1 third...</td>\n",
       "      <td>True_Correct</td>\n",
       "      <td>NA</td>\n",
       "      <td>True_Correct:NA</td>\n",
       "      <td>37</td>\n",
       "    </tr>\n",
       "    <tr>\n",
       "      <th>2</th>\n",
       "      <td>2</td>\n",
       "      <td>31772</td>\n",
       "      <td>What fraction of the shape is not shaded? Give...</td>\n",
       "      <td>\\( \\frac{1}{3} \\)</td>\n",
       "      <td>1 3rd is half of 3 6th, so it is simplee to un...</td>\n",
       "      <td>True_Neither</td>\n",
       "      <td>NA</td>\n",
       "      <td>True_Neither:NA</td>\n",
       "      <td>64</td>\n",
       "    </tr>\n",
       "    <tr>\n",
       "      <th>3</th>\n",
       "      <td>3</td>\n",
       "      <td>31772</td>\n",
       "      <td>What fraction of the shape is not shaded? Give...</td>\n",
       "      <td>\\( \\frac{1}{3} \\)</td>\n",
       "      <td>1 goes into everything and 3 goes into nine</td>\n",
       "      <td>True_Neither</td>\n",
       "      <td>NA</td>\n",
       "      <td>True_Neither:NA</td>\n",
       "      <td>64</td>\n",
       "    </tr>\n",
       "    <tr>\n",
       "      <th>4</th>\n",
       "      <td>4</td>\n",
       "      <td>31772</td>\n",
       "      <td>What fraction of the shape is not shaded? Give...</td>\n",
       "      <td>\\( \\frac{1}{3} \\)</td>\n",
       "      <td>1 out of every 3 isn't coloured</td>\n",
       "      <td>True_Correct</td>\n",
       "      <td>NA</td>\n",
       "      <td>True_Correct:NA</td>\n",
       "      <td>37</td>\n",
       "    </tr>\n",
       "  </tbody>\n",
       "</table>\n",
       "</div>"
      ],
      "text/plain": [
       "   row_id  QuestionId                                       QuestionText  \\\n",
       "0       0       31772  What fraction of the shape is not shaded? Give...   \n",
       "1       1       31772  What fraction of the shape is not shaded? Give...   \n",
       "2       2       31772  What fraction of the shape is not shaded? Give...   \n",
       "3       3       31772  What fraction of the shape is not shaded? Give...   \n",
       "4       4       31772  What fraction of the shape is not shaded? Give...   \n",
       "\n",
       "           MC_Answer                                 StudentExplanation  \\\n",
       "0  \\( \\frac{1}{3} \\)                  0ne third is equal to tree nineth   \n",
       "1  \\( \\frac{1}{3} \\)  1 / 3 because 6 over 9 is 2 thirds and 1 third...   \n",
       "2  \\( \\frac{1}{3} \\)  1 3rd is half of 3 6th, so it is simplee to un...   \n",
       "3  \\( \\frac{1}{3} \\)        1 goes into everything and 3 goes into nine   \n",
       "4  \\( \\frac{1}{3} \\)                    1 out of every 3 isn't coloured   \n",
       "\n",
       "       Category Misconception           target  label  \n",
       "0  True_Correct            NA  True_Correct:NA     37  \n",
       "1  True_Correct            NA  True_Correct:NA     37  \n",
       "2  True_Neither            NA  True_Neither:NA     64  \n",
       "3  True_Neither            NA  True_Neither:NA     64  \n",
       "4  True_Correct            NA  True_Correct:NA     37  "
      ]
     },
     "execution_count": 35,
     "metadata": {},
     "output_type": "execute_result"
    }
   ],
   "source": [
    "print(f\"Train shape: {trainDF.shape} with {nClasses} target classes\")\n",
    "trainDF.head()"
   ]
  },
  {
   "cell_type": "markdown",
   "id": "6cea16ff",
   "metadata": {
    "papermill": {
     "duration": 0.022092,
     "end_time": "2025-09-28T11:40:24.324894",
     "exception": false,
     "start_time": "2025-09-28T11:40:24.302802",
     "status": "completed"
    },
    "tags": []
   },
   "source": [
    "# Feature Engineering\n",
    "\n",
    "### Add correct answer flag"
   ]
  },
  {
   "cell_type": "code",
   "execution_count": 36,
   "id": "2e6afd35",
   "metadata": {
    "execution": {
     "iopub.execute_input": "2025-09-28T11:40:24.367582Z",
     "iopub.status.busy": "2025-09-28T11:40:24.367377Z",
     "iopub.status.idle": "2025-09-28T11:40:24.533401Z",
     "shell.execute_reply": "2025-09-28T11:40:24.532617Z"
    },
    "papermill": {
     "duration": 0.188829,
     "end_time": "2025-09-28T11:40:24.534575",
     "exception": false,
     "start_time": "2025-09-28T11:40:24.345746",
     "status": "completed"
    },
    "tags": []
   },
   "outputs": [
    {
     "data": {
      "text/plain": [
       "0         True\n",
       "1         True\n",
       "2         True\n",
       "3         True\n",
       "4         True\n",
       "         ...  \n",
       "36691    False\n",
       "36692    False\n",
       "36693    False\n",
       "36694    False\n",
       "36695    False\n",
       "Length: 36696, dtype: bool"
      ]
     },
     "execution_count": 36,
     "metadata": {},
     "output_type": "execute_result"
    }
   ],
   "source": [
    "idx = trainDF.apply(lambda row: row[\"Category\"].split(\"_\")[0] , axis=1) == \"True\" # get Category with True \n",
    "idx"
   ]
  },
  {
   "cell_type": "code",
   "execution_count": 37,
   "id": "6f7f0f55",
   "metadata": {
    "execution": {
     "iopub.execute_input": "2025-09-28T11:40:24.577509Z",
     "iopub.status.busy": "2025-09-28T11:40:24.577047Z",
     "iopub.status.idle": "2025-09-28T11:40:24.591925Z",
     "shell.execute_reply": "2025-09-28T11:40:24.591337Z"
    },
    "papermill": {
     "duration": 0.037552,
     "end_time": "2025-09-28T11:40:24.593152",
     "exception": false,
     "start_time": "2025-09-28T11:40:24.555600",
     "status": "completed"
    },
    "tags": []
   },
   "outputs": [
    {
     "data": {
      "text/html": [
       "<div>\n",
       "<style scoped>\n",
       "    .dataframe tbody tr th:only-of-type {\n",
       "        vertical-align: middle;\n",
       "    }\n",
       "\n",
       "    .dataframe tbody tr th {\n",
       "        vertical-align: top;\n",
       "    }\n",
       "\n",
       "    .dataframe thead th {\n",
       "        text-align: right;\n",
       "    }\n",
       "</style>\n",
       "<table border=\"1\" class=\"dataframe\">\n",
       "  <thead>\n",
       "    <tr style=\"text-align: right;\">\n",
       "      <th></th>\n",
       "      <th>row_id</th>\n",
       "      <th>QuestionId</th>\n",
       "      <th>QuestionText</th>\n",
       "      <th>MC_Answer</th>\n",
       "      <th>StudentExplanation</th>\n",
       "      <th>Category</th>\n",
       "      <th>Misconception</th>\n",
       "      <th>target</th>\n",
       "      <th>label</th>\n",
       "    </tr>\n",
       "  </thead>\n",
       "  <tbody>\n",
       "    <tr>\n",
       "      <th>0</th>\n",
       "      <td>0</td>\n",
       "      <td>31772</td>\n",
       "      <td>What fraction of the shape is not shaded? Give...</td>\n",
       "      <td>\\( \\frac{1}{3} \\)</td>\n",
       "      <td>0ne third is equal to tree nineth</td>\n",
       "      <td>True_Correct</td>\n",
       "      <td>NA</td>\n",
       "      <td>True_Correct:NA</td>\n",
       "      <td>37</td>\n",
       "    </tr>\n",
       "    <tr>\n",
       "      <th>1</th>\n",
       "      <td>1</td>\n",
       "      <td>31772</td>\n",
       "      <td>What fraction of the shape is not shaded? Give...</td>\n",
       "      <td>\\( \\frac{1}{3} \\)</td>\n",
       "      <td>1 / 3 because 6 over 9 is 2 thirds and 1 third...</td>\n",
       "      <td>True_Correct</td>\n",
       "      <td>NA</td>\n",
       "      <td>True_Correct:NA</td>\n",
       "      <td>37</td>\n",
       "    </tr>\n",
       "    <tr>\n",
       "      <th>2</th>\n",
       "      <td>2</td>\n",
       "      <td>31772</td>\n",
       "      <td>What fraction of the shape is not shaded? Give...</td>\n",
       "      <td>\\( \\frac{1}{3} \\)</td>\n",
       "      <td>1 3rd is half of 3 6th, so it is simplee to un...</td>\n",
       "      <td>True_Neither</td>\n",
       "      <td>NA</td>\n",
       "      <td>True_Neither:NA</td>\n",
       "      <td>64</td>\n",
       "    </tr>\n",
       "    <tr>\n",
       "      <th>3</th>\n",
       "      <td>3</td>\n",
       "      <td>31772</td>\n",
       "      <td>What fraction of the shape is not shaded? Give...</td>\n",
       "      <td>\\( \\frac{1}{3} \\)</td>\n",
       "      <td>1 goes into everything and 3 goes into nine</td>\n",
       "      <td>True_Neither</td>\n",
       "      <td>NA</td>\n",
       "      <td>True_Neither:NA</td>\n",
       "      <td>64</td>\n",
       "    </tr>\n",
       "    <tr>\n",
       "      <th>4</th>\n",
       "      <td>4</td>\n",
       "      <td>31772</td>\n",
       "      <td>What fraction of the shape is not shaded? Give...</td>\n",
       "      <td>\\( \\frac{1}{3} \\)</td>\n",
       "      <td>1 out of every 3 isn't coloured</td>\n",
       "      <td>True_Correct</td>\n",
       "      <td>NA</td>\n",
       "      <td>True_Correct:NA</td>\n",
       "      <td>37</td>\n",
       "    </tr>\n",
       "    <tr>\n",
       "      <th>...</th>\n",
       "      <td>...</td>\n",
       "      <td>...</td>\n",
       "      <td>...</td>\n",
       "      <td>...</td>\n",
       "      <td>...</td>\n",
       "      <td>...</td>\n",
       "      <td>...</td>\n",
       "      <td>...</td>\n",
       "      <td>...</td>\n",
       "    </tr>\n",
       "    <tr>\n",
       "      <th>36275</th>\n",
       "      <td>36275</td>\n",
       "      <td>109465</td>\n",
       "      <td>The probability of an event occurring is \\( 0....</td>\n",
       "      <td>Likely</td>\n",
       "      <td>very close to one but not one so it cant be ce...</td>\n",
       "      <td>True_Correct</td>\n",
       "      <td>NA</td>\n",
       "      <td>True_Correct:NA</td>\n",
       "      <td>37</td>\n",
       "    </tr>\n",
       "    <tr>\n",
       "      <th>36276</th>\n",
       "      <td>36276</td>\n",
       "      <td>109465</td>\n",
       "      <td>The probability of an event occurring is \\( 0....</td>\n",
       "      <td>Likely</td>\n",
       "      <td>very high probability however it's not certain</td>\n",
       "      <td>True_Neither</td>\n",
       "      <td>NA</td>\n",
       "      <td>True_Neither:NA</td>\n",
       "      <td>64</td>\n",
       "    </tr>\n",
       "    <tr>\n",
       "      <th>36277</th>\n",
       "      <td>36277</td>\n",
       "      <td>109465</td>\n",
       "      <td>The probability of an event occurring is \\( 0....</td>\n",
       "      <td>Likely</td>\n",
       "      <td>we should use likely because we dont know for ...</td>\n",
       "      <td>True_Neither</td>\n",
       "      <td>NA</td>\n",
       "      <td>True_Neither:NA</td>\n",
       "      <td>64</td>\n",
       "    </tr>\n",
       "    <tr>\n",
       "      <th>36278</th>\n",
       "      <td>36278</td>\n",
       "      <td>109465</td>\n",
       "      <td>The probability of an event occurring is \\( 0....</td>\n",
       "      <td>Likely</td>\n",
       "      <td>well 0.9 = 90% and the only way something can ...</td>\n",
       "      <td>True_Correct</td>\n",
       "      <td>NA</td>\n",
       "      <td>True_Correct:NA</td>\n",
       "      <td>37</td>\n",
       "    </tr>\n",
       "    <tr>\n",
       "      <th>36279</th>\n",
       "      <td>36279</td>\n",
       "      <td>109465</td>\n",
       "      <td>The probability of an event occurring is \\( 0....</td>\n",
       "      <td>Likely</td>\n",
       "      <td>well normally if it is in the decimals its the...</td>\n",
       "      <td>True_Correct</td>\n",
       "      <td>NA</td>\n",
       "      <td>True_Correct:NA</td>\n",
       "      <td>37</td>\n",
       "    </tr>\n",
       "  </tbody>\n",
       "</table>\n",
       "<p>20470 rows × 9 columns</p>\n",
       "</div>"
      ],
      "text/plain": [
       "       row_id  QuestionId                                       QuestionText  \\\n",
       "0           0       31772  What fraction of the shape is not shaded? Give...   \n",
       "1           1       31772  What fraction of the shape is not shaded? Give...   \n",
       "2           2       31772  What fraction of the shape is not shaded? Give...   \n",
       "3           3       31772  What fraction of the shape is not shaded? Give...   \n",
       "4           4       31772  What fraction of the shape is not shaded? Give...   \n",
       "...       ...         ...                                                ...   \n",
       "36275   36275      109465  The probability of an event occurring is \\( 0....   \n",
       "36276   36276      109465  The probability of an event occurring is \\( 0....   \n",
       "36277   36277      109465  The probability of an event occurring is \\( 0....   \n",
       "36278   36278      109465  The probability of an event occurring is \\( 0....   \n",
       "36279   36279      109465  The probability of an event occurring is \\( 0....   \n",
       "\n",
       "               MC_Answer                                 StudentExplanation  \\\n",
       "0      \\( \\frac{1}{3} \\)                  0ne third is equal to tree nineth   \n",
       "1      \\( \\frac{1}{3} \\)  1 / 3 because 6 over 9 is 2 thirds and 1 third...   \n",
       "2      \\( \\frac{1}{3} \\)  1 3rd is half of 3 6th, so it is simplee to un...   \n",
       "3      \\( \\frac{1}{3} \\)        1 goes into everything and 3 goes into nine   \n",
       "4      \\( \\frac{1}{3} \\)                    1 out of every 3 isn't coloured   \n",
       "...                  ...                                                ...   \n",
       "36275             Likely  very close to one but not one so it cant be ce...   \n",
       "36276             Likely     very high probability however it's not certain   \n",
       "36277             Likely  we should use likely because we dont know for ...   \n",
       "36278             Likely  well 0.9 = 90% and the only way something can ...   \n",
       "36279             Likely  well normally if it is in the decimals its the...   \n",
       "\n",
       "           Category Misconception           target  label  \n",
       "0      True_Correct            NA  True_Correct:NA     37  \n",
       "1      True_Correct            NA  True_Correct:NA     37  \n",
       "2      True_Neither            NA  True_Neither:NA     64  \n",
       "3      True_Neither            NA  True_Neither:NA     64  \n",
       "4      True_Correct            NA  True_Correct:NA     37  \n",
       "...             ...           ...              ...    ...  \n",
       "36275  True_Correct            NA  True_Correct:NA     37  \n",
       "36276  True_Neither            NA  True_Neither:NA     64  \n",
       "36277  True_Neither            NA  True_Neither:NA     64  \n",
       "36278  True_Correct            NA  True_Correct:NA     37  \n",
       "36279  True_Correct            NA  True_Correct:NA     37  \n",
       "\n",
       "[20470 rows x 9 columns]"
      ]
     },
     "execution_count": 37,
     "metadata": {},
     "output_type": "execute_result"
    }
   ],
   "source": [
    "correct = trainDF.loc[idx].copy()\n",
    "correct"
   ]
  },
  {
   "cell_type": "code",
   "execution_count": 38,
   "id": "808b441a",
   "metadata": {
    "execution": {
     "iopub.execute_input": "2025-09-28T11:40:24.639144Z",
     "iopub.status.busy": "2025-09-28T11:40:24.638730Z",
     "iopub.status.idle": "2025-09-28T11:40:24.654750Z",
     "shell.execute_reply": "2025-09-28T11:40:24.654165Z"
    },
    "papermill": {
     "duration": 0.040055,
     "end_time": "2025-09-28T11:40:24.655916",
     "exception": false,
     "start_time": "2025-09-28T11:40:24.615861",
     "status": "completed"
    },
    "tags": []
   },
   "outputs": [
    {
     "data": {
      "text/html": [
       "<div>\n",
       "<style scoped>\n",
       "    .dataframe tbody tr th:only-of-type {\n",
       "        vertical-align: middle;\n",
       "    }\n",
       "\n",
       "    .dataframe tbody tr th {\n",
       "        vertical-align: top;\n",
       "    }\n",
       "\n",
       "    .dataframe thead th {\n",
       "        text-align: right;\n",
       "    }\n",
       "</style>\n",
       "<table border=\"1\" class=\"dataframe\">\n",
       "  <thead>\n",
       "    <tr style=\"text-align: right;\">\n",
       "      <th></th>\n",
       "      <th>row_id</th>\n",
       "      <th>QuestionId</th>\n",
       "      <th>QuestionText</th>\n",
       "      <th>MC_Answer</th>\n",
       "      <th>StudentExplanation</th>\n",
       "      <th>Category</th>\n",
       "      <th>Misconception</th>\n",
       "      <th>target</th>\n",
       "      <th>label</th>\n",
       "      <th>c</th>\n",
       "    </tr>\n",
       "  </thead>\n",
       "  <tbody>\n",
       "    <tr>\n",
       "      <th>61</th>\n",
       "      <td>61</td>\n",
       "      <td>31772</td>\n",
       "      <td>What fraction of the shape is not shaded? Give...</td>\n",
       "      <td>\\( \\frac{1}{3} \\)</td>\n",
       "      <td>3 goes into 9 three times which makes it one t...</td>\n",
       "      <td>True_Correct</td>\n",
       "      <td>NA</td>\n",
       "      <td>True_Correct:NA</td>\n",
       "      <td>37</td>\n",
       "      <td>2348</td>\n",
       "    </tr>\n",
       "    <tr>\n",
       "      <th>7</th>\n",
       "      <td>7</td>\n",
       "      <td>31772</td>\n",
       "      <td>What fraction of the shape is not shaded? Give...</td>\n",
       "      <td>\\( \\frac{1}{3} \\)</td>\n",
       "      <td>1/3 because 3/9 simplified divided by 3 would ...</td>\n",
       "      <td>True_Correct</td>\n",
       "      <td>NA</td>\n",
       "      <td>True_Correct:NA</td>\n",
       "      <td>37</td>\n",
       "      <td>2348</td>\n",
       "    </tr>\n",
       "    <tr>\n",
       "      <th>6</th>\n",
       "      <td>6</td>\n",
       "      <td>31772</td>\n",
       "      <td>What fraction of the shape is not shaded? Give...</td>\n",
       "      <td>\\( \\frac{1}{3} \\)</td>\n",
       "      <td>1/3 and 3/9 are not shaded but they are equal ...</td>\n",
       "      <td>True_Correct</td>\n",
       "      <td>NA</td>\n",
       "      <td>True_Correct:NA</td>\n",
       "      <td>37</td>\n",
       "      <td>2348</td>\n",
       "    </tr>\n",
       "    <tr>\n",
       "      <th>5</th>\n",
       "      <td>5</td>\n",
       "      <td>31772</td>\n",
       "      <td>What fraction of the shape is not shaded? Give...</td>\n",
       "      <td>\\( \\frac{1}{3} \\)</td>\n",
       "      <td>1 third because 6 over 9 is 2 thirds and 1 thi...</td>\n",
       "      <td>True_Correct</td>\n",
       "      <td>NA</td>\n",
       "      <td>True_Correct:NA</td>\n",
       "      <td>37</td>\n",
       "      <td>2348</td>\n",
       "    </tr>\n",
       "    <tr>\n",
       "      <th>60</th>\n",
       "      <td>60</td>\n",
       "      <td>31772</td>\n",
       "      <td>What fraction of the shape is not shaded? Give...</td>\n",
       "      <td>\\( \\frac{1}{3} \\)</td>\n",
       "      <td>3 from the 9 triangles are not shaded and 3/9 ...</td>\n",
       "      <td>True_Correct</td>\n",
       "      <td>NA</td>\n",
       "      <td>True_Correct:NA</td>\n",
       "      <td>37</td>\n",
       "      <td>2348</td>\n",
       "    </tr>\n",
       "    <tr>\n",
       "      <th>...</th>\n",
       "      <td>...</td>\n",
       "      <td>...</td>\n",
       "      <td>...</td>\n",
       "      <td>...</td>\n",
       "      <td>...</td>\n",
       "      <td>...</td>\n",
       "      <td>...</td>\n",
       "      <td>...</td>\n",
       "      <td>...</td>\n",
       "      <td>...</td>\n",
       "    </tr>\n",
       "    <tr>\n",
       "      <th>14338</th>\n",
       "      <td>14338</td>\n",
       "      <td>31778</td>\n",
       "      <td>\\( \\frac{A}{10}=\\frac{9}{15} \\) What is the va...</td>\n",
       "      <td>\\( 9 \\)</td>\n",
       "      <td>It is six because they are both equal to 3over5.</td>\n",
       "      <td>True_Correct</td>\n",
       "      <td>NA</td>\n",
       "      <td>True_Correct:NA</td>\n",
       "      <td>37</td>\n",
       "      <td>12</td>\n",
       "    </tr>\n",
       "    <tr>\n",
       "      <th>14335</th>\n",
       "      <td>14335</td>\n",
       "      <td>31778</td>\n",
       "      <td>\\( \\frac{A}{10}=\\frac{9}{15} \\) What is the va...</td>\n",
       "      <td>\\( 9 \\)</td>\n",
       "      <td>Il believe that is the ansewer because I calcu...</td>\n",
       "      <td>True_Neither</td>\n",
       "      <td>NA</td>\n",
       "      <td>True_Neither:NA</td>\n",
       "      <td>64</td>\n",
       "      <td>12</td>\n",
       "    </tr>\n",
       "    <tr>\n",
       "      <th>14321</th>\n",
       "      <td>14321</td>\n",
       "      <td>31778</td>\n",
       "      <td>\\( \\frac{A}{10}=\\frac{9}{15} \\) What is the va...</td>\n",
       "      <td>\\( 9 \\)</td>\n",
       "      <td>I think it's C because 6/10 is the same as 9/15.</td>\n",
       "      <td>True_Correct</td>\n",
       "      <td>NA</td>\n",
       "      <td>True_Correct:NA</td>\n",
       "      <td>37</td>\n",
       "      <td>12</td>\n",
       "    </tr>\n",
       "    <tr>\n",
       "      <th>14280</th>\n",
       "      <td>14280</td>\n",
       "      <td>31778</td>\n",
       "      <td>\\( \\frac{A}{10}=\\frac{9}{15} \\) What is the va...</td>\n",
       "      <td>\\( 9 \\)</td>\n",
       "      <td>Because 10 is 2 / 3 of 15, and 2 is 6.</td>\n",
       "      <td>True_Neither</td>\n",
       "      <td>NA</td>\n",
       "      <td>True_Neither:NA</td>\n",
       "      <td>64</td>\n",
       "      <td>12</td>\n",
       "    </tr>\n",
       "    <tr>\n",
       "      <th>14305</th>\n",
       "      <td>14305</td>\n",
       "      <td>31778</td>\n",
       "      <td>\\( \\frac{A}{10}=\\frac{9}{15} \\) What is the va...</td>\n",
       "      <td>\\( 9 \\)</td>\n",
       "      <td>I divided 9/15 by 3, then got 3/5 and timsed i...</td>\n",
       "      <td>True_Correct</td>\n",
       "      <td>NA</td>\n",
       "      <td>True_Correct:NA</td>\n",
       "      <td>37</td>\n",
       "      <td>12</td>\n",
       "    </tr>\n",
       "  </tbody>\n",
       "</table>\n",
       "<p>20470 rows × 10 columns</p>\n",
       "</div>"
      ],
      "text/plain": [
       "       row_id  QuestionId                                       QuestionText  \\\n",
       "61         61       31772  What fraction of the shape is not shaded? Give...   \n",
       "7           7       31772  What fraction of the shape is not shaded? Give...   \n",
       "6           6       31772  What fraction of the shape is not shaded? Give...   \n",
       "5           5       31772  What fraction of the shape is not shaded? Give...   \n",
       "60         60       31772  What fraction of the shape is not shaded? Give...   \n",
       "...       ...         ...                                                ...   \n",
       "14338   14338       31778  \\( \\frac{A}{10}=\\frac{9}{15} \\) What is the va...   \n",
       "14335   14335       31778  \\( \\frac{A}{10}=\\frac{9}{15} \\) What is the va...   \n",
       "14321   14321       31778  \\( \\frac{A}{10}=\\frac{9}{15} \\) What is the va...   \n",
       "14280   14280       31778  \\( \\frac{A}{10}=\\frac{9}{15} \\) What is the va...   \n",
       "14305   14305       31778  \\( \\frac{A}{10}=\\frac{9}{15} \\) What is the va...   \n",
       "\n",
       "               MC_Answer                                 StudentExplanation  \\\n",
       "61     \\( \\frac{1}{3} \\)  3 goes into 9 three times which makes it one t...   \n",
       "7      \\( \\frac{1}{3} \\)  1/3 because 3/9 simplified divided by 3 would ...   \n",
       "6      \\( \\frac{1}{3} \\)  1/3 and 3/9 are not shaded but they are equal ...   \n",
       "5      \\( \\frac{1}{3} \\)  1 third because 6 over 9 is 2 thirds and 1 thi...   \n",
       "60     \\( \\frac{1}{3} \\)  3 from the 9 triangles are not shaded and 3/9 ...   \n",
       "...                  ...                                                ...   \n",
       "14338            \\( 9 \\)   It is six because they are both equal to 3over5.   \n",
       "14335            \\( 9 \\)  Il believe that is the ansewer because I calcu...   \n",
       "14321            \\( 9 \\)   I think it's C because 6/10 is the same as 9/15.   \n",
       "14280            \\( 9 \\)             Because 10 is 2 / 3 of 15, and 2 is 6.   \n",
       "14305            \\( 9 \\)  I divided 9/15 by 3, then got 3/5 and timsed i...   \n",
       "\n",
       "           Category Misconception           target  label     c  \n",
       "61     True_Correct            NA  True_Correct:NA     37  2348  \n",
       "7      True_Correct            NA  True_Correct:NA     37  2348  \n",
       "6      True_Correct            NA  True_Correct:NA     37  2348  \n",
       "5      True_Correct            NA  True_Correct:NA     37  2348  \n",
       "60     True_Correct            NA  True_Correct:NA     37  2348  \n",
       "...             ...           ...              ...    ...   ...  \n",
       "14338  True_Correct            NA  True_Correct:NA     37    12  \n",
       "14335  True_Neither            NA  True_Neither:NA     64    12  \n",
       "14321  True_Correct            NA  True_Correct:NA     37    12  \n",
       "14280  True_Neither            NA  True_Neither:NA     64    12  \n",
       "14305  True_Correct            NA  True_Correct:NA     37    12  \n",
       "\n",
       "[20470 rows x 10 columns]"
      ]
     },
     "execution_count": 38,
     "metadata": {},
     "output_type": "execute_result"
    }
   ],
   "source": [
    "# group MC anwser with count \n",
    "correct['c'] = correct.groupby(['QuestionId','MC_Answer']).MC_Answer.transform('count')\n",
    "correct = correct.sort_values('c',ascending=False) # sort value \n",
    "correct"
   ]
  },
  {
   "cell_type": "code",
   "execution_count": 39,
   "id": "45b78b2a",
   "metadata": {
    "execution": {
     "iopub.execute_input": "2025-09-28T11:40:24.702627Z",
     "iopub.status.busy": "2025-09-28T11:40:24.702388Z",
     "iopub.status.idle": "2025-09-28T11:40:24.710632Z",
     "shell.execute_reply": "2025-09-28T11:40:24.710098Z"
    },
    "papermill": {
     "duration": 0.032848,
     "end_time": "2025-09-28T11:40:24.711681",
     "exception": false,
     "start_time": "2025-09-28T11:40:24.678833",
     "status": "completed"
    },
    "tags": []
   },
   "outputs": [
    {
     "data": {
      "text/html": [
       "<div>\n",
       "<style scoped>\n",
       "    .dataframe tbody tr th:only-of-type {\n",
       "        vertical-align: middle;\n",
       "    }\n",
       "\n",
       "    .dataframe tbody tr th {\n",
       "        vertical-align: top;\n",
       "    }\n",
       "\n",
       "    .dataframe thead th {\n",
       "        text-align: right;\n",
       "    }\n",
       "</style>\n",
       "<table border=\"1\" class=\"dataframe\">\n",
       "  <thead>\n",
       "    <tr style=\"text-align: right;\">\n",
       "      <th></th>\n",
       "      <th>QuestionId</th>\n",
       "      <th>MC_Answer</th>\n",
       "    </tr>\n",
       "  </thead>\n",
       "  <tbody>\n",
       "    <tr>\n",
       "      <th>61</th>\n",
       "      <td>31772</td>\n",
       "      <td>\\( \\frac{1}{3} \\)</td>\n",
       "    </tr>\n",
       "    <tr>\n",
       "      <th>7430</th>\n",
       "      <td>31774</td>\n",
       "      <td>\\( \\frac{1}{12} \\)</td>\n",
       "    </tr>\n",
       "    <tr>\n",
       "      <th>10770</th>\n",
       "      <td>31777</td>\n",
       "      <td>\\( 72 \\)</td>\n",
       "    </tr>\n",
       "    <tr>\n",
       "      <th>14266</th>\n",
       "      <td>31778</td>\n",
       "      <td>\\( 6 \\)</td>\n",
       "    </tr>\n",
       "    <tr>\n",
       "      <th>14440</th>\n",
       "      <td>32829</td>\n",
       "      <td>\\( 12 \\)</td>\n",
       "    </tr>\n",
       "    <tr>\n",
       "      <th>22004</th>\n",
       "      <td>32835</td>\n",
       "      <td>\\( 6.2 \\)</td>\n",
       "    </tr>\n",
       "    <tr>\n",
       "      <th>24278</th>\n",
       "      <td>33472</td>\n",
       "      <td>\\( \\frac{11}{15} \\)</td>\n",
       "    </tr>\n",
       "    <tr>\n",
       "      <th>18135</th>\n",
       "      <td>32833</td>\n",
       "      <td>\\( 3 \\frac{1}{3} \\)</td>\n",
       "    </tr>\n",
       "    <tr>\n",
       "      <th>33183</th>\n",
       "      <td>91695</td>\n",
       "      <td>\\( 26 \\)</td>\n",
       "    </tr>\n",
       "    <tr>\n",
       "      <th>30937</th>\n",
       "      <td>89443</td>\n",
       "      <td>\\( -3 \\)</td>\n",
       "    </tr>\n",
       "    <tr>\n",
       "      <th>22198</th>\n",
       "      <td>33471</td>\n",
       "      <td>\\( 15 \\)</td>\n",
       "    </tr>\n",
       "    <tr>\n",
       "      <th>26981</th>\n",
       "      <td>33474</td>\n",
       "      <td>\\( \\frac{1}{3} \\times \\frac{2}{3} \\)</td>\n",
       "    </tr>\n",
       "    <tr>\n",
       "      <th>36279</th>\n",
       "      <td>109465</td>\n",
       "      <td>Likely</td>\n",
       "    </tr>\n",
       "    <tr>\n",
       "      <th>28530</th>\n",
       "      <td>76870</td>\n",
       "      <td>\\( 10 \\)</td>\n",
       "    </tr>\n",
       "    <tr>\n",
       "      <th>34997</th>\n",
       "      <td>104665</td>\n",
       "      <td>\\( 48 \\) hours</td>\n",
       "    </tr>\n",
       "  </tbody>\n",
       "</table>\n",
       "</div>"
      ],
      "text/plain": [
       "       QuestionId                             MC_Answer\n",
       "61          31772                     \\( \\frac{1}{3} \\)\n",
       "7430        31774                    \\( \\frac{1}{12} \\)\n",
       "10770       31777                              \\( 72 \\)\n",
       "14266       31778                               \\( 6 \\)\n",
       "14440       32829                              \\( 12 \\)\n",
       "22004       32835                             \\( 6.2 \\)\n",
       "24278       33472                   \\( \\frac{11}{15} \\)\n",
       "18135       32833                   \\( 3 \\frac{1}{3} \\)\n",
       "33183       91695                              \\( 26 \\)\n",
       "30937       89443                              \\( -3 \\)\n",
       "22198       33471                              \\( 15 \\)\n",
       "26981       33474  \\( \\frac{1}{3} \\times \\frac{2}{3} \\)\n",
       "36279      109465                                Likely\n",
       "28530       76870                              \\( 10 \\)\n",
       "34997      104665                        \\( 48 \\) hours"
      ]
     },
     "execution_count": 39,
     "metadata": {},
     "output_type": "execute_result"
    }
   ],
   "source": [
    "# Drop duplicateds ID\n",
    "correct = correct.drop_duplicates(['QuestionId']) #drop dprlicate id\n",
    "correct = correct[['QuestionId','MC_Answer']]\n",
    "correct"
   ]
  },
  {
   "cell_type": "code",
   "execution_count": 40,
   "id": "ba0e4262",
   "metadata": {
    "execution": {
     "iopub.execute_input": "2025-09-28T11:40:24.754910Z",
     "iopub.status.busy": "2025-09-28T11:40:24.754561Z",
     "iopub.status.idle": "2025-09-28T11:40:24.762161Z",
     "shell.execute_reply": "2025-09-28T11:40:24.761424Z"
    },
    "papermill": {
     "duration": 0.030177,
     "end_time": "2025-09-28T11:40:24.763253",
     "exception": false,
     "start_time": "2025-09-28T11:40:24.733076",
     "status": "completed"
    },
    "tags": []
   },
   "outputs": [
    {
     "data": {
      "text/html": [
       "<div>\n",
       "<style scoped>\n",
       "    .dataframe tbody tr th:only-of-type {\n",
       "        vertical-align: middle;\n",
       "    }\n",
       "\n",
       "    .dataframe tbody tr th {\n",
       "        vertical-align: top;\n",
       "    }\n",
       "\n",
       "    .dataframe thead th {\n",
       "        text-align: right;\n",
       "    }\n",
       "</style>\n",
       "<table border=\"1\" class=\"dataframe\">\n",
       "  <thead>\n",
       "    <tr style=\"text-align: right;\">\n",
       "      <th></th>\n",
       "      <th>QuestionId</th>\n",
       "      <th>MC_Answer</th>\n",
       "      <th>is_correct</th>\n",
       "    </tr>\n",
       "  </thead>\n",
       "  <tbody>\n",
       "    <tr>\n",
       "      <th>61</th>\n",
       "      <td>31772</td>\n",
       "      <td>\\( \\frac{1}{3} \\)</td>\n",
       "      <td>1</td>\n",
       "    </tr>\n",
       "    <tr>\n",
       "      <th>7430</th>\n",
       "      <td>31774</td>\n",
       "      <td>\\( \\frac{1}{12} \\)</td>\n",
       "      <td>1</td>\n",
       "    </tr>\n",
       "    <tr>\n",
       "      <th>10770</th>\n",
       "      <td>31777</td>\n",
       "      <td>\\( 72 \\)</td>\n",
       "      <td>1</td>\n",
       "    </tr>\n",
       "    <tr>\n",
       "      <th>14266</th>\n",
       "      <td>31778</td>\n",
       "      <td>\\( 6 \\)</td>\n",
       "      <td>1</td>\n",
       "    </tr>\n",
       "    <tr>\n",
       "      <th>14440</th>\n",
       "      <td>32829</td>\n",
       "      <td>\\( 12 \\)</td>\n",
       "      <td>1</td>\n",
       "    </tr>\n",
       "    <tr>\n",
       "      <th>22004</th>\n",
       "      <td>32835</td>\n",
       "      <td>\\( 6.2 \\)</td>\n",
       "      <td>1</td>\n",
       "    </tr>\n",
       "    <tr>\n",
       "      <th>24278</th>\n",
       "      <td>33472</td>\n",
       "      <td>\\( \\frac{11}{15} \\)</td>\n",
       "      <td>1</td>\n",
       "    </tr>\n",
       "    <tr>\n",
       "      <th>18135</th>\n",
       "      <td>32833</td>\n",
       "      <td>\\( 3 \\frac{1}{3} \\)</td>\n",
       "      <td>1</td>\n",
       "    </tr>\n",
       "    <tr>\n",
       "      <th>33183</th>\n",
       "      <td>91695</td>\n",
       "      <td>\\( 26 \\)</td>\n",
       "      <td>1</td>\n",
       "    </tr>\n",
       "    <tr>\n",
       "      <th>30937</th>\n",
       "      <td>89443</td>\n",
       "      <td>\\( -3 \\)</td>\n",
       "      <td>1</td>\n",
       "    </tr>\n",
       "    <tr>\n",
       "      <th>22198</th>\n",
       "      <td>33471</td>\n",
       "      <td>\\( 15 \\)</td>\n",
       "      <td>1</td>\n",
       "    </tr>\n",
       "    <tr>\n",
       "      <th>26981</th>\n",
       "      <td>33474</td>\n",
       "      <td>\\( \\frac{1}{3} \\times \\frac{2}{3} \\)</td>\n",
       "      <td>1</td>\n",
       "    </tr>\n",
       "    <tr>\n",
       "      <th>36279</th>\n",
       "      <td>109465</td>\n",
       "      <td>Likely</td>\n",
       "      <td>1</td>\n",
       "    </tr>\n",
       "    <tr>\n",
       "      <th>28530</th>\n",
       "      <td>76870</td>\n",
       "      <td>\\( 10 \\)</td>\n",
       "      <td>1</td>\n",
       "    </tr>\n",
       "    <tr>\n",
       "      <th>34997</th>\n",
       "      <td>104665</td>\n",
       "      <td>\\( 48 \\) hours</td>\n",
       "      <td>1</td>\n",
       "    </tr>\n",
       "  </tbody>\n",
       "</table>\n",
       "</div>"
      ],
      "text/plain": [
       "       QuestionId                             MC_Answer  is_correct\n",
       "61          31772                     \\( \\frac{1}{3} \\)           1\n",
       "7430        31774                    \\( \\frac{1}{12} \\)           1\n",
       "10770       31777                              \\( 72 \\)           1\n",
       "14266       31778                               \\( 6 \\)           1\n",
       "14440       32829                              \\( 12 \\)           1\n",
       "22004       32835                             \\( 6.2 \\)           1\n",
       "24278       33472                   \\( \\frac{11}{15} \\)           1\n",
       "18135       32833                   \\( 3 \\frac{1}{3} \\)           1\n",
       "33183       91695                              \\( 26 \\)           1\n",
       "30937       89443                              \\( -3 \\)           1\n",
       "22198       33471                              \\( 15 \\)           1\n",
       "26981       33474  \\( \\frac{1}{3} \\times \\frac{2}{3} \\)           1\n",
       "36279      109465                                Likely           1\n",
       "28530       76870                              \\( 10 \\)           1\n",
       "34997      104665                        \\( 48 \\) hours           1"
      ]
     },
     "execution_count": 40,
     "metadata": {},
     "output_type": "execute_result"
    }
   ],
   "source": [
    "# set correct flag = 1\n",
    "correct[\"is_correct\"] = 1\n",
    "correct"
   ]
  },
  {
   "cell_type": "markdown",
   "id": "83f4b72d",
   "metadata": {
    "papermill": {
     "duration": 0.020761,
     "end_time": "2025-09-28T11:40:24.804858",
     "exception": false,
     "start_time": "2025-09-28T11:40:24.784097",
     "status": "completed"
    },
    "tags": []
   },
   "source": [
    "### Merge training data"
   ]
  },
  {
   "cell_type": "code",
   "execution_count": 41,
   "id": "522c7221",
   "metadata": {
    "execution": {
     "iopub.execute_input": "2025-09-28T11:40:24.848550Z",
     "iopub.status.busy": "2025-09-28T11:40:24.848282Z",
     "iopub.status.idle": "2025-09-28T11:40:24.871309Z",
     "shell.execute_reply": "2025-09-28T11:40:24.870717Z"
    },
    "papermill": {
     "duration": 0.046655,
     "end_time": "2025-09-28T11:40:24.872424",
     "exception": false,
     "start_time": "2025-09-28T11:40:24.825769",
     "status": "completed"
    },
    "tags": []
   },
   "outputs": [],
   "source": [
    "\n",
    "trainDF = trainDF.merge(correct, on=['QuestionId','MC_Answer'], how='left')\n",
    "trainDF[\"is_correct\"] = trainDF[\"is_correct\"].fillna(0) # fill miss data to 0"
   ]
  },
  {
   "cell_type": "code",
   "execution_count": 42,
   "id": "dbd594dc",
   "metadata": {
    "execution": {
     "iopub.execute_input": "2025-09-28T11:40:24.916422Z",
     "iopub.status.busy": "2025-09-28T11:40:24.916164Z",
     "iopub.status.idle": "2025-09-28T11:40:24.920191Z",
     "shell.execute_reply": "2025-09-28T11:40:24.919674Z"
    },
    "papermill": {
     "duration": 0.027758,
     "end_time": "2025-09-28T11:40:24.921248",
     "exception": false,
     "start_time": "2025-09-28T11:40:24.893490",
     "status": "completed"
    },
    "tags": []
   },
   "outputs": [],
   "source": [
    "trainDF[\"is_correct\"] = trainDF[\"is_correct\"].astype(int) # change is_correct data type to int"
   ]
  },
  {
   "cell_type": "code",
   "execution_count": 43,
   "id": "d1f2e9b0",
   "metadata": {
    "execution": {
     "iopub.execute_input": "2025-09-28T11:40:24.964773Z",
     "iopub.status.busy": "2025-09-28T11:40:24.964535Z",
     "iopub.status.idle": "2025-09-28T11:40:24.975765Z",
     "shell.execute_reply": "2025-09-28T11:40:24.975082Z"
    },
    "papermill": {
     "duration": 0.034553,
     "end_time": "2025-09-28T11:40:24.976907",
     "exception": false,
     "start_time": "2025-09-28T11:40:24.942354",
     "status": "completed"
    },
    "tags": []
   },
   "outputs": [
    {
     "data": {
      "text/html": [
       "<div>\n",
       "<style scoped>\n",
       "    .dataframe tbody tr th:only-of-type {\n",
       "        vertical-align: middle;\n",
       "    }\n",
       "\n",
       "    .dataframe tbody tr th {\n",
       "        vertical-align: top;\n",
       "    }\n",
       "\n",
       "    .dataframe thead th {\n",
       "        text-align: right;\n",
       "    }\n",
       "</style>\n",
       "<table border=\"1\" class=\"dataframe\">\n",
       "  <thead>\n",
       "    <tr style=\"text-align: right;\">\n",
       "      <th></th>\n",
       "      <th>row_id</th>\n",
       "      <th>QuestionId</th>\n",
       "      <th>QuestionText</th>\n",
       "      <th>MC_Answer</th>\n",
       "      <th>StudentExplanation</th>\n",
       "      <th>Category</th>\n",
       "      <th>Misconception</th>\n",
       "      <th>target</th>\n",
       "      <th>label</th>\n",
       "      <th>is_correct</th>\n",
       "    </tr>\n",
       "  </thead>\n",
       "  <tbody>\n",
       "    <tr>\n",
       "      <th>0</th>\n",
       "      <td>0</td>\n",
       "      <td>31772</td>\n",
       "      <td>What fraction of the shape is not shaded? Give...</td>\n",
       "      <td>\\( \\frac{1}{3} \\)</td>\n",
       "      <td>0ne third is equal to tree nineth</td>\n",
       "      <td>True_Correct</td>\n",
       "      <td>NA</td>\n",
       "      <td>True_Correct:NA</td>\n",
       "      <td>37</td>\n",
       "      <td>1</td>\n",
       "    </tr>\n",
       "    <tr>\n",
       "      <th>1</th>\n",
       "      <td>1</td>\n",
       "      <td>31772</td>\n",
       "      <td>What fraction of the shape is not shaded? Give...</td>\n",
       "      <td>\\( \\frac{1}{3} \\)</td>\n",
       "      <td>1 / 3 because 6 over 9 is 2 thirds and 1 third...</td>\n",
       "      <td>True_Correct</td>\n",
       "      <td>NA</td>\n",
       "      <td>True_Correct:NA</td>\n",
       "      <td>37</td>\n",
       "      <td>1</td>\n",
       "    </tr>\n",
       "    <tr>\n",
       "      <th>2</th>\n",
       "      <td>2</td>\n",
       "      <td>31772</td>\n",
       "      <td>What fraction of the shape is not shaded? Give...</td>\n",
       "      <td>\\( \\frac{1}{3} \\)</td>\n",
       "      <td>1 3rd is half of 3 6th, so it is simplee to un...</td>\n",
       "      <td>True_Neither</td>\n",
       "      <td>NA</td>\n",
       "      <td>True_Neither:NA</td>\n",
       "      <td>64</td>\n",
       "      <td>1</td>\n",
       "    </tr>\n",
       "    <tr>\n",
       "      <th>3</th>\n",
       "      <td>3</td>\n",
       "      <td>31772</td>\n",
       "      <td>What fraction of the shape is not shaded? Give...</td>\n",
       "      <td>\\( \\frac{1}{3} \\)</td>\n",
       "      <td>1 goes into everything and 3 goes into nine</td>\n",
       "      <td>True_Neither</td>\n",
       "      <td>NA</td>\n",
       "      <td>True_Neither:NA</td>\n",
       "      <td>64</td>\n",
       "      <td>1</td>\n",
       "    </tr>\n",
       "    <tr>\n",
       "      <th>4</th>\n",
       "      <td>4</td>\n",
       "      <td>31772</td>\n",
       "      <td>What fraction of the shape is not shaded? Give...</td>\n",
       "      <td>\\( \\frac{1}{3} \\)</td>\n",
       "      <td>1 out of every 3 isn't coloured</td>\n",
       "      <td>True_Correct</td>\n",
       "      <td>NA</td>\n",
       "      <td>True_Correct:NA</td>\n",
       "      <td>37</td>\n",
       "      <td>1</td>\n",
       "    </tr>\n",
       "    <tr>\n",
       "      <th>...</th>\n",
       "      <td>...</td>\n",
       "      <td>...</td>\n",
       "      <td>...</td>\n",
       "      <td>...</td>\n",
       "      <td>...</td>\n",
       "      <td>...</td>\n",
       "      <td>...</td>\n",
       "      <td>...</td>\n",
       "      <td>...</td>\n",
       "      <td>...</td>\n",
       "    </tr>\n",
       "    <tr>\n",
       "      <th>36691</th>\n",
       "      <td>36691</td>\n",
       "      <td>109465</td>\n",
       "      <td>The probability of an event occurring is \\( 0....</td>\n",
       "      <td>Unlikely</td>\n",
       "      <td>very unlikely.</td>\n",
       "      <td>False_Neither</td>\n",
       "      <td>NA</td>\n",
       "      <td>False_Neither:NA</td>\n",
       "      <td>36</td>\n",
       "      <td>0</td>\n",
       "    </tr>\n",
       "    <tr>\n",
       "      <th>36692</th>\n",
       "      <td>36692</td>\n",
       "      <td>109465</td>\n",
       "      <td>The probability of an event occurring is \\( 0....</td>\n",
       "      <td>Unlikely</td>\n",
       "      <td>yea pretty much unlikely from what it seems.</td>\n",
       "      <td>False_Neither</td>\n",
       "      <td>NA</td>\n",
       "      <td>False_Neither:NA</td>\n",
       "      <td>36</td>\n",
       "      <td>0</td>\n",
       "    </tr>\n",
       "    <tr>\n",
       "      <th>36693</th>\n",
       "      <td>36693</td>\n",
       "      <td>109465</td>\n",
       "      <td>The probability of an event occurring is \\( 0....</td>\n",
       "      <td>Unlikely</td>\n",
       "      <td>yeah pretty unlikelyy from what it seems.</td>\n",
       "      <td>False_Neither</td>\n",
       "      <td>NA</td>\n",
       "      <td>False_Neither:NA</td>\n",
       "      <td>36</td>\n",
       "      <td>0</td>\n",
       "    </tr>\n",
       "    <tr>\n",
       "      <th>36694</th>\n",
       "      <td>36694</td>\n",
       "      <td>109465</td>\n",
       "      <td>The probability of an event occurring is \\( 0....</td>\n",
       "      <td>Unlikely</td>\n",
       "      <td>you have 9 other numbers to get.</td>\n",
       "      <td>False_Neither</td>\n",
       "      <td>NA</td>\n",
       "      <td>False_Neither:NA</td>\n",
       "      <td>36</td>\n",
       "      <td>0</td>\n",
       "    </tr>\n",
       "    <tr>\n",
       "      <th>36695</th>\n",
       "      <td>36695</td>\n",
       "      <td>109465</td>\n",
       "      <td>The probability of an event occurring is \\( 0....</td>\n",
       "      <td>Unlikely</td>\n",
       "      <td>you have a chanve but it is not i think this b...</td>\n",
       "      <td>False_Neither</td>\n",
       "      <td>NA</td>\n",
       "      <td>False_Neither:NA</td>\n",
       "      <td>36</td>\n",
       "      <td>0</td>\n",
       "    </tr>\n",
       "  </tbody>\n",
       "</table>\n",
       "<p>36696 rows × 10 columns</p>\n",
       "</div>"
      ],
      "text/plain": [
       "       row_id  QuestionId                                       QuestionText  \\\n",
       "0           0       31772  What fraction of the shape is not shaded? Give...   \n",
       "1           1       31772  What fraction of the shape is not shaded? Give...   \n",
       "2           2       31772  What fraction of the shape is not shaded? Give...   \n",
       "3           3       31772  What fraction of the shape is not shaded? Give...   \n",
       "4           4       31772  What fraction of the shape is not shaded? Give...   \n",
       "...       ...         ...                                                ...   \n",
       "36691   36691      109465  The probability of an event occurring is \\( 0....   \n",
       "36692   36692      109465  The probability of an event occurring is \\( 0....   \n",
       "36693   36693      109465  The probability of an event occurring is \\( 0....   \n",
       "36694   36694      109465  The probability of an event occurring is \\( 0....   \n",
       "36695   36695      109465  The probability of an event occurring is \\( 0....   \n",
       "\n",
       "               MC_Answer                                 StudentExplanation  \\\n",
       "0      \\( \\frac{1}{3} \\)                  0ne third is equal to tree nineth   \n",
       "1      \\( \\frac{1}{3} \\)  1 / 3 because 6 over 9 is 2 thirds and 1 third...   \n",
       "2      \\( \\frac{1}{3} \\)  1 3rd is half of 3 6th, so it is simplee to un...   \n",
       "3      \\( \\frac{1}{3} \\)        1 goes into everything and 3 goes into nine   \n",
       "4      \\( \\frac{1}{3} \\)                    1 out of every 3 isn't coloured   \n",
       "...                  ...                                                ...   \n",
       "36691           Unlikely                                     very unlikely.   \n",
       "36692           Unlikely       yea pretty much unlikely from what it seems.   \n",
       "36693           Unlikely          yeah pretty unlikelyy from what it seems.   \n",
       "36694           Unlikely                   you have 9 other numbers to get.   \n",
       "36695           Unlikely  you have a chanve but it is not i think this b...   \n",
       "\n",
       "            Category Misconception            target  label  is_correct  \n",
       "0       True_Correct            NA   True_Correct:NA     37           1  \n",
       "1       True_Correct            NA   True_Correct:NA     37           1  \n",
       "2       True_Neither            NA   True_Neither:NA     64           1  \n",
       "3       True_Neither            NA   True_Neither:NA     64           1  \n",
       "4       True_Correct            NA   True_Correct:NA     37           1  \n",
       "...              ...           ...               ...    ...         ...  \n",
       "36691  False_Neither            NA  False_Neither:NA     36           0  \n",
       "36692  False_Neither            NA  False_Neither:NA     36           0  \n",
       "36693  False_Neither            NA  False_Neither:NA     36           0  \n",
       "36694  False_Neither            NA  False_Neither:NA     36           0  \n",
       "36695  False_Neither            NA  False_Neither:NA     36           0  \n",
       "\n",
       "[36696 rows x 10 columns]"
      ]
     },
     "execution_count": 43,
     "metadata": {},
     "output_type": "execute_result"
    }
   ],
   "source": [
    "trainDF"
   ]
  },
  {
   "cell_type": "code",
   "execution_count": 44,
   "id": "afd58a02",
   "metadata": {
    "execution": {
     "iopub.execute_input": "2025-09-28T11:40:25.023876Z",
     "iopub.status.busy": "2025-09-28T11:40:25.023690Z",
     "iopub.status.idle": "2025-09-28T11:40:25.308909Z",
     "shell.execute_reply": "2025-09-28T11:40:25.308172Z"
    },
    "papermill": {
     "duration": 0.311838,
     "end_time": "2025-09-28T11:40:25.310255",
     "exception": false,
     "start_time": "2025-09-28T11:40:24.998417",
     "status": "completed"
    },
    "tags": []
   },
   "outputs": [
    {
     "data": {
      "image/png": "[encoded data removed]",
      "text/plain": [
       "<Figure size 640x480 with 1 Axes>"
      ]
     },
     "metadata": {},
     "output_type": "display_data"
    }
   ],
   "source": [
    "trainDF[\"is_correct\"].value_counts().plot(kind=\"bar\", title=\"Correct vs Incorrect\");"
   ]
  },
  {
   "cell_type": "markdown",
   "id": "50c99abb",
   "metadata": {
    "papermill": {
     "duration": 0.021458,
     "end_time": "2025-09-28T11:40:25.354311",
     "exception": false,
     "start_time": "2025-09-28T11:40:25.332853",
     "status": "completed"
    },
    "tags": []
   },
   "source": [
    "## Seem the training Data extremely imbalance"
   ]
  },
  {
   "cell_type": "code",
   "execution_count": 45,
   "id": "d8434b17",
   "metadata": {
    "execution": {
     "iopub.execute_input": "2025-09-28T11:40:25.399113Z",
     "iopub.status.busy": "2025-09-28T11:40:25.398606Z",
     "iopub.status.idle": "2025-09-28T11:40:25.870536Z",
     "shell.execute_reply": "2025-09-28T11:40:25.869743Z"
    },
    "papermill": {
     "duration": 0.495945,
     "end_time": "2025-09-28T11:40:25.871743",
     "exception": false,
     "start_time": "2025-09-28T11:40:25.375798",
     "status": "completed"
    },
    "tags": []
   },
   "outputs": [
    {
     "data": {
      "image/png": "[encoded data removed]",
      "text/plain": [
       "<Figure size 640x480 with 1 Axes>"
      ]
     },
     "metadata": {},
     "output_type": "display_data"
    }
   ],
   "source": [
    "trainDF[\"label\"].value_counts().plot(kind=\"bar\", title=\"Distribution Label\");"
   ]
  },
  {
   "cell_type": "code",
   "execution_count": 46,
   "id": "1401b379",
   "metadata": {
    "execution": {
     "iopub.execute_input": "2025-09-28T11:40:25.917942Z",
     "iopub.status.busy": "2025-09-28T11:40:25.917703Z",
     "iopub.status.idle": "2025-09-28T11:40:25.926264Z",
     "shell.execute_reply": "2025-09-28T11:40:25.925448Z"
    },
    "papermill": {
     "duration": 0.033118,
     "end_time": "2025-09-28T11:40:25.927529",
     "exception": false,
     "start_time": "2025-09-28T11:40:25.894411",
     "status": "completed"
    },
    "tags": []
   },
   "outputs": [
    {
     "data": {
      "text/plain": [
       "count       65.000000\n",
       "mean       564.553846\n",
       "std       2071.725263\n",
       "min          1.000000\n",
       "25%          6.000000\n",
       "50%         50.000000\n",
       "75%        291.000000\n",
       "max      14802.000000\n",
       "Name: count, dtype: float64"
      ]
     },
     "execution_count": 46,
     "metadata": {},
     "output_type": "execute_result"
    }
   ],
   "source": [
    "trainDF[\"label\"].value_counts().describe()"
   ]
  },
  {
   "cell_type": "code",
   "execution_count": 47,
   "id": "450f68eb",
   "metadata": {
    "execution": {
     "iopub.execute_input": "2025-09-28T11:40:25.973073Z",
     "iopub.status.busy": "2025-09-28T11:40:25.972851Z",
     "iopub.status.idle": "2025-09-28T11:40:25.978556Z",
     "shell.execute_reply": "2025-09-28T11:40:25.978038Z"
    },
    "papermill": {
     "duration": 0.029549,
     "end_time": "2025-09-28T11:40:25.979571",
     "exception": false,
     "start_time": "2025-09-28T11:40:25.950022",
     "status": "completed"
    },
    "scrolled": true,
    "tags": []
   },
   "outputs": [
    {
     "data": {
      "text/plain": [
       "label\n",
       "37    14802\n",
       "36     6542\n",
       "64     5265\n",
       "13     1446\n",
       "3       891\n",
       "9       698\n",
       "26      618\n",
       "23      564\n",
       "35      550\n",
       "34      412\n",
       "17      409\n",
       "18      409\n",
       "20      345\n",
       "7       332\n",
       "31      328\n",
       "1       306\n",
       "30      291\n",
       "29      282\n",
       "32      273\n",
       "0       227\n",
       "27      198\n",
       "24      179\n",
       "59      162\n",
       "22      153\n",
       "28      128\n",
       "2        97\n",
       "10       96\n",
       "21       93\n",
       "50       88\n",
       "11       74\n",
       "8        58\n",
       "6        51\n",
       "15       50\n",
       "39       38\n",
       "19       23\n",
       "12       23\n",
       "4        22\n",
       "16       21\n",
       "5        18\n",
       "56       17\n",
       "45       11\n",
       "58        8\n",
       "47        8\n",
       "63        8\n",
       "52        8\n",
       "60        8\n",
       "14        7\n",
       "33        6\n",
       "44        6\n",
       "62        6\n",
       "Name: count, dtype: int64"
      ]
     },
     "execution_count": 47,
     "metadata": {},
     "output_type": "execute_result"
    }
   ],
   "source": [
    "trainDF[\"label\"].value_counts()[:50]  # top 50"
   ]
  },
  {
   "cell_type": "markdown",
   "id": "d14f64bd",
   "metadata": {
    "papermill": {
     "duration": 0.021761,
     "end_time": "2025-09-28T11:40:26.023540",
     "exception": false,
     "start_time": "2025-09-28T11:40:26.001779",
     "status": "completed"
    },
    "tags": []
   },
   "source": [
    "## Merge into Test /Submit Data"
   ]
  },
  {
   "cell_type": "code",
   "execution_count": 48,
   "id": "9bf9ac6b",
   "metadata": {
    "execution": {
     "iopub.execute_input": "2025-09-28T11:40:26.068445Z",
     "iopub.status.busy": "2025-09-28T11:40:26.067998Z",
     "iopub.status.idle": "2025-09-28T11:40:26.074180Z",
     "shell.execute_reply": "2025-09-28T11:40:26.073641Z"
    },
    "papermill": {
     "duration": 0.029598,
     "end_time": "2025-09-28T11:40:26.075141",
     "exception": false,
     "start_time": "2025-09-28T11:40:26.045543",
     "status": "completed"
    },
    "tags": []
   },
   "outputs": [],
   "source": [
    "testDF = testDF.merge(correct, on=['QuestionId','MC_Answer'], how='left')\n",
    "testDF[\"is_correct\"] = testDF[\"is_correct\"].fillna(0)  # fill Na to 0\n"
   ]
  },
  {
   "cell_type": "code",
   "execution_count": 49,
   "id": "d1ab02fe",
   "metadata": {
    "execution": {
     "iopub.execute_input": "2025-09-28T11:40:26.122586Z",
     "iopub.status.busy": "2025-09-28T11:40:26.121829Z",
     "iopub.status.idle": "2025-09-28T11:40:26.130135Z",
     "shell.execute_reply": "2025-09-28T11:40:26.129335Z"
    },
    "papermill": {
     "duration": 0.034061,
     "end_time": "2025-09-28T11:40:26.131450",
     "exception": false,
     "start_time": "2025-09-28T11:40:26.097389",
     "status": "completed"
    },
    "tags": []
   },
   "outputs": [
    {
     "data": {
      "text/html": [
       "<div>\n",
       "<style scoped>\n",
       "    .dataframe tbody tr th:only-of-type {\n",
       "        vertical-align: middle;\n",
       "    }\n",
       "\n",
       "    .dataframe tbody tr th {\n",
       "        vertical-align: top;\n",
       "    }\n",
       "\n",
       "    .dataframe thead th {\n",
       "        text-align: right;\n",
       "    }\n",
       "</style>\n",
       "<table border=\"1\" class=\"dataframe\">\n",
       "  <thead>\n",
       "    <tr style=\"text-align: right;\">\n",
       "      <th></th>\n",
       "      <th>row_id</th>\n",
       "      <th>QuestionId</th>\n",
       "      <th>QuestionText</th>\n",
       "      <th>MC_Answer</th>\n",
       "      <th>StudentExplanation</th>\n",
       "      <th>is_correct</th>\n",
       "    </tr>\n",
       "  </thead>\n",
       "  <tbody>\n",
       "    <tr>\n",
       "      <th>0</th>\n",
       "      <td>36696</td>\n",
       "      <td>31772</td>\n",
       "      <td>What fraction of the shape is not shaded? Give...</td>\n",
       "      <td>\\( \\frac{1}{3} \\)</td>\n",
       "      <td>I think that 1/3 is the answer, as it's the si...</td>\n",
       "      <td>1</td>\n",
       "    </tr>\n",
       "    <tr>\n",
       "      <th>1</th>\n",
       "      <td>36697</td>\n",
       "      <td>31772</td>\n",
       "      <td>What fraction of the shape is not shaded? Give...</td>\n",
       "      <td>\\( \\frac{3}{6} \\)</td>\n",
       "      <td>i think this answer is because 3 triangles are...</td>\n",
       "      <td>0</td>\n",
       "    </tr>\n",
       "    <tr>\n",
       "      <th>2</th>\n",
       "      <td>36698</td>\n",
       "      <td>32835</td>\n",
       "      <td>Which number is the greatest?</td>\n",
       "      <td>\\( 6.2 \\)</td>\n",
       "      <td>because the 2 makes it higher than the others.</td>\n",
       "      <td>1</td>\n",
       "    </tr>\n",
       "  </tbody>\n",
       "</table>\n",
       "</div>"
      ],
      "text/plain": [
       "   row_id  QuestionId                                       QuestionText  \\\n",
       "0   36696       31772  What fraction of the shape is not shaded? Give...   \n",
       "1   36697       31772  What fraction of the shape is not shaded? Give...   \n",
       "2   36698       32835                      Which number is the greatest?   \n",
       "\n",
       "           MC_Answer                                 StudentExplanation  \\\n",
       "0  \\( \\frac{1}{3} \\)  I think that 1/3 is the answer, as it's the si...   \n",
       "1  \\( \\frac{3}{6} \\)  i think this answer is because 3 triangles are...   \n",
       "2          \\( 6.2 \\)     because the 2 makes it higher than the others.   \n",
       "\n",
       "   is_correct  \n",
       "0           1  \n",
       "1           0  \n",
       "2           1  "
      ]
     },
     "execution_count": 49,
     "metadata": {},
     "output_type": "execute_result"
    }
   ],
   "source": [
    "testDF[\"is_correct\"] = testDF[\"is_correct\"].astype(int)\n",
    "testDF"
   ]
  },
  {
   "cell_type": "markdown",
   "id": "e741dafd",
   "metadata": {
    "papermill": {
     "duration": 0.023259,
     "end_time": "2025-09-28T11:40:26.178852",
     "exception": false,
     "start_time": "2025-09-28T11:40:26.155593",
     "status": "completed"
    },
    "tags": []
   },
   "source": [
    "## Visualize Get Answer choices "
   ]
  },
  {
   "cell_type": "code",
   "execution_count": 50,
   "id": "a755c156",
   "metadata": {
    "execution": {
     "iopub.execute_input": "2025-09-28T11:40:26.224892Z",
     "iopub.status.busy": "2025-09-28T11:40:26.224404Z",
     "iopub.status.idle": "2025-09-28T11:40:26.227675Z",
     "shell.execute_reply": "2025-09-28T11:40:26.227005Z"
    },
    "papermill": {
     "duration": 0.026759,
     "end_time": "2025-09-28T11:40:26.228716",
     "exception": false,
     "start_time": "2025-09-28T11:40:26.201957",
     "status": "completed"
    },
    "tags": []
   },
   "outputs": [],
   "source": [
    "from IPython.display import display, Math, Latex"
   ]
  },
  {
   "cell_type": "code",
   "execution_count": 51,
   "id": "b6771009",
   "metadata": {
    "execution": {
     "iopub.execute_input": "2025-09-28T11:40:26.275440Z",
     "iopub.status.busy": "2025-09-28T11:40:26.275213Z",
     "iopub.status.idle": "2025-09-28T11:40:26.288843Z",
     "shell.execute_reply": "2025-09-28T11:40:26.288166Z"
    },
    "papermill": {
     "duration": 0.038528,
     "end_time": "2025-09-28T11:40:26.289951",
     "exception": false,
     "start_time": "2025-09-28T11:40:26.251423",
     "status": "completed"
    },
    "scrolled": true,
    "tags": []
   },
   "outputs": [
    {
     "data": {
      "text/html": [
       "<div>\n",
       "<style scoped>\n",
       "    .dataframe tbody tr th:only-of-type {\n",
       "        vertical-align: middle;\n",
       "    }\n",
       "\n",
       "    .dataframe tbody tr th {\n",
       "        vertical-align: top;\n",
       "    }\n",
       "\n",
       "    .dataframe thead th {\n",
       "        text-align: right;\n",
       "    }\n",
       "</style>\n",
       "<table border=\"1\" class=\"dataframe\">\n",
       "  <thead>\n",
       "    <tr style=\"text-align: right;\">\n",
       "      <th></th>\n",
       "      <th>QuestionId</th>\n",
       "      <th>MC_Answer</th>\n",
       "      <th>count</th>\n",
       "    </tr>\n",
       "  </thead>\n",
       "  <tbody>\n",
       "    <tr>\n",
       "      <th>0</th>\n",
       "      <td>31772</td>\n",
       "      <td>\\( \\frac{1}{3} \\)</td>\n",
       "      <td>2348</td>\n",
       "    </tr>\n",
       "    <tr>\n",
       "      <th>1</th>\n",
       "      <td>31772</td>\n",
       "      <td>\\( \\frac{3}{6} \\)</td>\n",
       "      <td>412</td>\n",
       "    </tr>\n",
       "    <tr>\n",
       "      <th>2</th>\n",
       "      <td>31772</td>\n",
       "      <td>\\( \\frac{3}{8} \\)</td>\n",
       "      <td>118</td>\n",
       "    </tr>\n",
       "    <tr>\n",
       "      <th>3</th>\n",
       "      <td>31772</td>\n",
       "      <td>\\( \\frac{3}{9} \\)</td>\n",
       "      <td>1979</td>\n",
       "    </tr>\n",
       "    <tr>\n",
       "      <th>4</th>\n",
       "      <td>31774</td>\n",
       "      <td>\\( 3 \\)</td>\n",
       "      <td>659</td>\n",
       "    </tr>\n",
       "    <tr>\n",
       "      <th>5</th>\n",
       "      <td>31774</td>\n",
       "      <td>\\( \\frac{1}{12} \\)</td>\n",
       "      <td>1918</td>\n",
       "    </tr>\n",
       "    <tr>\n",
       "      <th>6</th>\n",
       "      <td>31774</td>\n",
       "      <td>\\( \\frac{1}{3} \\)</td>\n",
       "      <td>251</td>\n",
       "    </tr>\n",
       "    <tr>\n",
       "      <th>7</th>\n",
       "      <td>31774</td>\n",
       "      <td>\\( \\frac{6}{2} \\)</td>\n",
       "      <td>287</td>\n",
       "    </tr>\n",
       "    <tr>\n",
       "      <th>8</th>\n",
       "      <td>31777</td>\n",
       "      <td>\\( 24 \\)</td>\n",
       "      <td>255</td>\n",
       "    </tr>\n",
       "    <tr>\n",
       "      <th>9</th>\n",
       "      <td>31777</td>\n",
       "      <td>\\( 48 \\)</td>\n",
       "      <td>406</td>\n",
       "    </tr>\n",
       "    <tr>\n",
       "      <th>10</th>\n",
       "      <td>31777</td>\n",
       "      <td>\\( 60 \\)</td>\n",
       "      <td>350</td>\n",
       "    </tr>\n",
       "    <tr>\n",
       "      <th>11</th>\n",
       "      <td>31777</td>\n",
       "      <td>\\( 72 \\)</td>\n",
       "      <td>1798</td>\n",
       "    </tr>\n",
       "    <tr>\n",
       "      <th>12</th>\n",
       "      <td>31778</td>\n",
       "      <td>\\( 3 \\)</td>\n",
       "      <td>627</td>\n",
       "    </tr>\n",
       "    <tr>\n",
       "      <th>13</th>\n",
       "      <td>31778</td>\n",
       "      <td>\\( 4 \\)</td>\n",
       "      <td>1108</td>\n",
       "    </tr>\n",
       "    <tr>\n",
       "      <th>14</th>\n",
       "      <td>31778</td>\n",
       "      <td>\\( 6 \\)</td>\n",
       "      <td>1755</td>\n",
       "    </tr>\n",
       "    <tr>\n",
       "      <th>15</th>\n",
       "      <td>31778</td>\n",
       "      <td>\\( 9 \\)</td>\n",
       "      <td>150</td>\n",
       "    </tr>\n",
       "    <tr>\n",
       "      <th>16</th>\n",
       "      <td>32829</td>\n",
       "      <td>\\( 12 \\)</td>\n",
       "      <td>1716</td>\n",
       "    </tr>\n",
       "    <tr>\n",
       "      <th>17</th>\n",
       "      <td>32829</td>\n",
       "      <td>\\( 22 \\)</td>\n",
       "      <td>148</td>\n",
       "    </tr>\n",
       "    <tr>\n",
       "      <th>18</th>\n",
       "      <td>32829</td>\n",
       "      <td>\\( 4 \\)</td>\n",
       "      <td>248</td>\n",
       "    </tr>\n",
       "    <tr>\n",
       "      <th>19</th>\n",
       "      <td>32829</td>\n",
       "      <td>\\( 48 \\)</td>\n",
       "      <td>44</td>\n",
       "    </tr>\n",
       "    <tr>\n",
       "      <th>20</th>\n",
       "      <td>32833</td>\n",
       "      <td>\\( 3 \\frac{1}{3} \\)</td>\n",
       "      <td>1601</td>\n",
       "    </tr>\n",
       "    <tr>\n",
       "      <th>21</th>\n",
       "      <td>32833</td>\n",
       "      <td>\\( 5 \\frac{2}{3} \\)</td>\n",
       "      <td>78</td>\n",
       "    </tr>\n",
       "    <tr>\n",
       "      <th>22</th>\n",
       "      <td>32833</td>\n",
       "      <td>\\( \\frac{10}{15} \\)</td>\n",
       "      <td>906</td>\n",
       "    </tr>\n",
       "    <tr>\n",
       "      <th>23</th>\n",
       "      <td>32833</td>\n",
       "      <td>\\( \\frac{2}{15} \\)</td>\n",
       "      <td>520</td>\n",
       "    </tr>\n",
       "    <tr>\n",
       "      <th>24</th>\n",
       "      <td>32835</td>\n",
       "      <td>\\( 6 \\)</td>\n",
       "      <td>478</td>\n",
       "    </tr>\n",
       "    <tr>\n",
       "      <th>25</th>\n",
       "      <td>32835</td>\n",
       "      <td>\\( 6.0001 \\)</td>\n",
       "      <td>64</td>\n",
       "    </tr>\n",
       "    <tr>\n",
       "      <th>26</th>\n",
       "      <td>32835</td>\n",
       "      <td>\\( 6.079 \\)</td>\n",
       "      <td>116</td>\n",
       "    </tr>\n",
       "    <tr>\n",
       "      <th>27</th>\n",
       "      <td>32835</td>\n",
       "      <td>\\( 6.2 \\)</td>\n",
       "      <td>1674</td>\n",
       "    </tr>\n",
       "    <tr>\n",
       "      <th>28</th>\n",
       "      <td>33471</td>\n",
       "      <td>\\( 15 \\)</td>\n",
       "      <td>874</td>\n",
       "    </tr>\n",
       "    <tr>\n",
       "      <th>29</th>\n",
       "      <td>33471</td>\n",
       "      <td>\\( 3 \\)</td>\n",
       "      <td>40</td>\n",
       "    </tr>\n",
       "    <tr>\n",
       "      <th>30</th>\n",
       "      <td>33471</td>\n",
       "      <td>\\( 8 \\)</td>\n",
       "      <td>56</td>\n",
       "    </tr>\n",
       "    <tr>\n",
       "      <th>31</th>\n",
       "      <td>33471</td>\n",
       "      <td>\\( 9 \\)</td>\n",
       "      <td>572</td>\n",
       "    </tr>\n",
       "    <tr>\n",
       "      <th>32</th>\n",
       "      <td>33472</td>\n",
       "      <td>\\( \\frac{11}{15} \\)</td>\n",
       "      <td>1651</td>\n",
       "    </tr>\n",
       "    <tr>\n",
       "      <th>33</th>\n",
       "      <td>33472</td>\n",
       "      <td>\\( \\frac{11}{30} \\)</td>\n",
       "      <td>116</td>\n",
       "    </tr>\n",
       "    <tr>\n",
       "      <th>34</th>\n",
       "      <td>33472</td>\n",
       "      <td>\\( \\frac{3}{15} \\)</td>\n",
       "      <td>565</td>\n",
       "    </tr>\n",
       "    <tr>\n",
       "      <th>35</th>\n",
       "      <td>33472</td>\n",
       "      <td>\\( \\frac{3}{8} \\)</td>\n",
       "      <td>468</td>\n",
       "    </tr>\n",
       "    <tr>\n",
       "      <th>36</th>\n",
       "      <td>33474</td>\n",
       "      <td>\\( \\frac{1}{3} \\times \\frac{2}{3} \\)</td>\n",
       "      <td>630</td>\n",
       "    </tr>\n",
       "    <tr>\n",
       "      <th>37</th>\n",
       "      <td>33474</td>\n",
       "      <td>\\( \\frac{1}{3}+\\frac{2}{3} \\)</td>\n",
       "      <td>49</td>\n",
       "    </tr>\n",
       "    <tr>\n",
       "      <th>38</th>\n",
       "      <td>33474</td>\n",
       "      <td>\\( \\frac{2}{3} \\div \\frac{1}{3} \\)</td>\n",
       "      <td>147</td>\n",
       "    </tr>\n",
       "    <tr>\n",
       "      <th>39</th>\n",
       "      <td>33474</td>\n",
       "      <td>\\( \\frac{2}{3}-\\frac{1}{3} \\)</td>\n",
       "      <td>940</td>\n",
       "    </tr>\n",
       "    <tr>\n",
       "      <th>40</th>\n",
       "      <td>76870</td>\n",
       "      <td>Not enough information</td>\n",
       "      <td>403</td>\n",
       "    </tr>\n",
       "    <tr>\n",
       "      <th>41</th>\n",
       "      <td>76870</td>\n",
       "      <td>\\( 10 \\)</td>\n",
       "      <td>508</td>\n",
       "    </tr>\n",
       "    <tr>\n",
       "      <th>42</th>\n",
       "      <td>76870</td>\n",
       "      <td>\\( 5 \\)</td>\n",
       "      <td>140</td>\n",
       "    </tr>\n",
       "    <tr>\n",
       "      <th>43</th>\n",
       "      <td>76870</td>\n",
       "      <td>\\( 6 \\)</td>\n",
       "      <td>135</td>\n",
       "    </tr>\n",
       "    <tr>\n",
       "      <th>44</th>\n",
       "      <td>89443</td>\n",
       "      <td>\\( -13 \\)</td>\n",
       "      <td>798</td>\n",
       "    </tr>\n",
       "    <tr>\n",
       "      <th>45</th>\n",
       "      <td>89443</td>\n",
       "      <td>\\( -3 \\)</td>\n",
       "      <td>1394</td>\n",
       "    </tr>\n",
       "    <tr>\n",
       "      <th>46</th>\n",
       "      <td>89443</td>\n",
       "      <td>\\( 13 \\)</td>\n",
       "      <td>396</td>\n",
       "    </tr>\n",
       "    <tr>\n",
       "      <th>47</th>\n",
       "      <td>89443</td>\n",
       "      <td>\\( 3 \\)</td>\n",
       "      <td>466</td>\n",
       "    </tr>\n",
       "    <tr>\n",
       "      <th>48</th>\n",
       "      <td>91695</td>\n",
       "      <td>\\( 20 \\)</td>\n",
       "      <td>102</td>\n",
       "    </tr>\n",
       "    <tr>\n",
       "      <th>49</th>\n",
       "      <td>91695</td>\n",
       "      <td>\\( 22 \\)</td>\n",
       "      <td>718</td>\n",
       "    </tr>\n",
       "    <tr>\n",
       "      <th>50</th>\n",
       "      <td>91695</td>\n",
       "      <td>\\( 26 \\)</td>\n",
       "      <td>1547</td>\n",
       "    </tr>\n",
       "    <tr>\n",
       "      <th>51</th>\n",
       "      <td>91695</td>\n",
       "      <td>\\( 36 \\)</td>\n",
       "      <td>243</td>\n",
       "    </tr>\n",
       "    <tr>\n",
       "      <th>52</th>\n",
       "      <td>104665</td>\n",
       "      <td>\\( 192 \\) hours</td>\n",
       "      <td>9</td>\n",
       "    </tr>\n",
       "    <tr>\n",
       "      <th>53</th>\n",
       "      <td>104665</td>\n",
       "      <td>\\( 48 \\) hours</td>\n",
       "      <td>497</td>\n",
       "    </tr>\n",
       "    <tr>\n",
       "      <th>54</th>\n",
       "      <td>104665</td>\n",
       "      <td>\\( 64 \\) hours</td>\n",
       "      <td>62</td>\n",
       "    </tr>\n",
       "    <tr>\n",
       "      <th>55</th>\n",
       "      <td>104665</td>\n",
       "      <td>\\( 768 \\) hours</td>\n",
       "      <td>105</td>\n",
       "    </tr>\n",
       "    <tr>\n",
       "      <th>56</th>\n",
       "      <td>109465</td>\n",
       "      <td>Certain</td>\n",
       "      <td>64</td>\n",
       "    </tr>\n",
       "    <tr>\n",
       "      <th>57</th>\n",
       "      <td>109465</td>\n",
       "      <td>Impossible</td>\n",
       "      <td>18</td>\n",
       "    </tr>\n",
       "    <tr>\n",
       "      <th>58</th>\n",
       "      <td>109465</td>\n",
       "      <td>Likely</td>\n",
       "      <td>553</td>\n",
       "    </tr>\n",
       "    <tr>\n",
       "      <th>59</th>\n",
       "      <td>109465</td>\n",
       "      <td>Unlikely</td>\n",
       "      <td>416</td>\n",
       "    </tr>\n",
       "  </tbody>\n",
       "</table>\n",
       "</div>"
      ],
      "text/plain": [
       "    QuestionId                             MC_Answer  count\n",
       "0        31772                     \\( \\frac{1}{3} \\)   2348\n",
       "1        31772                     \\( \\frac{3}{6} \\)    412\n",
       "2        31772                     \\( \\frac{3}{8} \\)    118\n",
       "3        31772                     \\( \\frac{3}{9} \\)   1979\n",
       "4        31774                               \\( 3 \\)    659\n",
       "5        31774                    \\( \\frac{1}{12} \\)   1918\n",
       "6        31774                     \\( \\frac{1}{3} \\)    251\n",
       "7        31774                     \\( \\frac{6}{2} \\)    287\n",
       "8        31777                              \\( 24 \\)    255\n",
       "9        31777                              \\( 48 \\)    406\n",
       "10       31777                              \\( 60 \\)    350\n",
       "11       31777                              \\( 72 \\)   1798\n",
       "12       31778                               \\( 3 \\)    627\n",
       "13       31778                               \\( 4 \\)   1108\n",
       "14       31778                               \\( 6 \\)   1755\n",
       "15       31778                               \\( 9 \\)    150\n",
       "16       32829                              \\( 12 \\)   1716\n",
       "17       32829                              \\( 22 \\)    148\n",
       "18       32829                               \\( 4 \\)    248\n",
       "19       32829                              \\( 48 \\)     44\n",
       "20       32833                   \\( 3 \\frac{1}{3} \\)   1601\n",
       "21       32833                   \\( 5 \\frac{2}{3} \\)     78\n",
       "22       32833                   \\( \\frac{10}{15} \\)    906\n",
       "23       32833                    \\( \\frac{2}{15} \\)    520\n",
       "24       32835                               \\( 6 \\)    478\n",
       "25       32835                          \\( 6.0001 \\)     64\n",
       "26       32835                           \\( 6.079 \\)    116\n",
       "27       32835                             \\( 6.2 \\)   1674\n",
       "28       33471                              \\( 15 \\)    874\n",
       "29       33471                               \\( 3 \\)     40\n",
       "30       33471                               \\( 8 \\)     56\n",
       "31       33471                               \\( 9 \\)    572\n",
       "32       33472                   \\( \\frac{11}{15} \\)   1651\n",
       "33       33472                   \\( \\frac{11}{30} \\)    116\n",
       "34       33472                    \\( \\frac{3}{15} \\)    565\n",
       "35       33472                     \\( \\frac{3}{8} \\)    468\n",
       "36       33474  \\( \\frac{1}{3} \\times \\frac{2}{3} \\)    630\n",
       "37       33474         \\( \\frac{1}{3}+\\frac{2}{3} \\)     49\n",
       "38       33474    \\( \\frac{2}{3} \\div \\frac{1}{3} \\)    147\n",
       "39       33474         \\( \\frac{2}{3}-\\frac{1}{3} \\)    940\n",
       "40       76870                Not enough information    403\n",
       "41       76870                              \\( 10 \\)    508\n",
       "42       76870                               \\( 5 \\)    140\n",
       "43       76870                               \\( 6 \\)    135\n",
       "44       89443                             \\( -13 \\)    798\n",
       "45       89443                              \\( -3 \\)   1394\n",
       "46       89443                              \\( 13 \\)    396\n",
       "47       89443                               \\( 3 \\)    466\n",
       "48       91695                              \\( 20 \\)    102\n",
       "49       91695                              \\( 22 \\)    718\n",
       "50       91695                              \\( 26 \\)   1547\n",
       "51       91695                              \\( 36 \\)    243\n",
       "52      104665                       \\( 192 \\) hours      9\n",
       "53      104665                        \\( 48 \\) hours    497\n",
       "54      104665                        \\( 64 \\) hours     62\n",
       "55      104665                       \\( 768 \\) hours    105\n",
       "56      109465                               Certain     64\n",
       "57      109465                            Impossible     18\n",
       "58      109465                                Likely    553\n",
       "59      109465                              Unlikely    416"
      ]
     },
     "execution_count": 51,
     "metadata": {},
     "output_type": "execute_result"
    }
   ],
   "source": [
    "temp = trainDF.groupby([\"QuestionId\", \"MC_Answer\"]).size().reset_index(name=\"count\")\n",
    "temp"
   ]
  },
  {
   "cell_type": "code",
   "execution_count": 52,
   "id": "33ea84f7",
   "metadata": {
    "execution": {
     "iopub.execute_input": "2025-09-28T11:40:26.337062Z",
     "iopub.status.busy": "2025-09-28T11:40:26.336825Z",
     "iopub.status.idle": "2025-09-28T11:40:26.349717Z",
     "shell.execute_reply": "2025-09-28T11:40:26.349184Z"
    },
    "papermill": {
     "duration": 0.037117,
     "end_time": "2025-09-28T11:40:26.350724",
     "exception": false,
     "start_time": "2025-09-28T11:40:26.313607",
     "status": "completed"
    },
    "scrolled": true,
    "tags": []
   },
   "outputs": [
    {
     "data": {
      "text/html": [
       "<div>\n",
       "<style scoped>\n",
       "    .dataframe tbody tr th:only-of-type {\n",
       "        vertical-align: middle;\n",
       "    }\n",
       "\n",
       "    .dataframe tbody tr th {\n",
       "        vertical-align: top;\n",
       "    }\n",
       "\n",
       "    .dataframe thead th {\n",
       "        text-align: right;\n",
       "    }\n",
       "</style>\n",
       "<table border=\"1\" class=\"dataframe\">\n",
       "  <thead>\n",
       "    <tr style=\"text-align: right;\">\n",
       "      <th></th>\n",
       "      <th>QuestionId</th>\n",
       "      <th>MC_Answer</th>\n",
       "      <th>count</th>\n",
       "      <th>rank</th>\n",
       "    </tr>\n",
       "  </thead>\n",
       "  <tbody>\n",
       "    <tr>\n",
       "      <th>0</th>\n",
       "      <td>31772</td>\n",
       "      <td>\\( \\frac{1}{3} \\)</td>\n",
       "      <td>2348</td>\n",
       "      <td>0</td>\n",
       "    </tr>\n",
       "    <tr>\n",
       "      <th>1</th>\n",
       "      <td>31772</td>\n",
       "      <td>\\( \\frac{3}{6} \\)</td>\n",
       "      <td>412</td>\n",
       "      <td>2</td>\n",
       "    </tr>\n",
       "    <tr>\n",
       "      <th>2</th>\n",
       "      <td>31772</td>\n",
       "      <td>\\( \\frac{3}{8} \\)</td>\n",
       "      <td>118</td>\n",
       "      <td>3</td>\n",
       "    </tr>\n",
       "    <tr>\n",
       "      <th>3</th>\n",
       "      <td>31772</td>\n",
       "      <td>\\( \\frac{3}{9} \\)</td>\n",
       "      <td>1979</td>\n",
       "      <td>1</td>\n",
       "    </tr>\n",
       "    <tr>\n",
       "      <th>4</th>\n",
       "      <td>31774</td>\n",
       "      <td>\\( 3 \\)</td>\n",
       "      <td>659</td>\n",
       "      <td>1</td>\n",
       "    </tr>\n",
       "    <tr>\n",
       "      <th>5</th>\n",
       "      <td>31774</td>\n",
       "      <td>\\( \\frac{1}{12} \\)</td>\n",
       "      <td>1918</td>\n",
       "      <td>0</td>\n",
       "    </tr>\n",
       "    <tr>\n",
       "      <th>6</th>\n",
       "      <td>31774</td>\n",
       "      <td>\\( \\frac{1}{3} \\)</td>\n",
       "      <td>251</td>\n",
       "      <td>3</td>\n",
       "    </tr>\n",
       "    <tr>\n",
       "      <th>7</th>\n",
       "      <td>31774</td>\n",
       "      <td>\\( \\frac{6}{2} \\)</td>\n",
       "      <td>287</td>\n",
       "      <td>2</td>\n",
       "    </tr>\n",
       "    <tr>\n",
       "      <th>8</th>\n",
       "      <td>31777</td>\n",
       "      <td>\\( 24 \\)</td>\n",
       "      <td>255</td>\n",
       "      <td>3</td>\n",
       "    </tr>\n",
       "    <tr>\n",
       "      <th>9</th>\n",
       "      <td>31777</td>\n",
       "      <td>\\( 48 \\)</td>\n",
       "      <td>406</td>\n",
       "      <td>1</td>\n",
       "    </tr>\n",
       "    <tr>\n",
       "      <th>10</th>\n",
       "      <td>31777</td>\n",
       "      <td>\\( 60 \\)</td>\n",
       "      <td>350</td>\n",
       "      <td>2</td>\n",
       "    </tr>\n",
       "    <tr>\n",
       "      <th>11</th>\n",
       "      <td>31777</td>\n",
       "      <td>\\( 72 \\)</td>\n",
       "      <td>1798</td>\n",
       "      <td>0</td>\n",
       "    </tr>\n",
       "    <tr>\n",
       "      <th>12</th>\n",
       "      <td>31778</td>\n",
       "      <td>\\( 3 \\)</td>\n",
       "      <td>627</td>\n",
       "      <td>2</td>\n",
       "    </tr>\n",
       "    <tr>\n",
       "      <th>13</th>\n",
       "      <td>31778</td>\n",
       "      <td>\\( 4 \\)</td>\n",
       "      <td>1108</td>\n",
       "      <td>1</td>\n",
       "    </tr>\n",
       "    <tr>\n",
       "      <th>14</th>\n",
       "      <td>31778</td>\n",
       "      <td>\\( 6 \\)</td>\n",
       "      <td>1755</td>\n",
       "      <td>0</td>\n",
       "    </tr>\n",
       "    <tr>\n",
       "      <th>15</th>\n",
       "      <td>31778</td>\n",
       "      <td>\\( 9 \\)</td>\n",
       "      <td>150</td>\n",
       "      <td>3</td>\n",
       "    </tr>\n",
       "    <tr>\n",
       "      <th>16</th>\n",
       "      <td>32829</td>\n",
       "      <td>\\( 12 \\)</td>\n",
       "      <td>1716</td>\n",
       "      <td>0</td>\n",
       "    </tr>\n",
       "    <tr>\n",
       "      <th>17</th>\n",
       "      <td>32829</td>\n",
       "      <td>\\( 22 \\)</td>\n",
       "      <td>148</td>\n",
       "      <td>2</td>\n",
       "    </tr>\n",
       "    <tr>\n",
       "      <th>18</th>\n",
       "      <td>32829</td>\n",
       "      <td>\\( 4 \\)</td>\n",
       "      <td>248</td>\n",
       "      <td>1</td>\n",
       "    </tr>\n",
       "    <tr>\n",
       "      <th>19</th>\n",
       "      <td>32829</td>\n",
       "      <td>\\( 48 \\)</td>\n",
       "      <td>44</td>\n",
       "      <td>3</td>\n",
       "    </tr>\n",
       "    <tr>\n",
       "      <th>20</th>\n",
       "      <td>32833</td>\n",
       "      <td>\\( 3 \\frac{1}{3} \\)</td>\n",
       "      <td>1601</td>\n",
       "      <td>0</td>\n",
       "    </tr>\n",
       "    <tr>\n",
       "      <th>21</th>\n",
       "      <td>32833</td>\n",
       "      <td>\\( 5 \\frac{2}{3} \\)</td>\n",
       "      <td>78</td>\n",
       "      <td>3</td>\n",
       "    </tr>\n",
       "    <tr>\n",
       "      <th>22</th>\n",
       "      <td>32833</td>\n",
       "      <td>\\( \\frac{10}{15} \\)</td>\n",
       "      <td>906</td>\n",
       "      <td>1</td>\n",
       "    </tr>\n",
       "    <tr>\n",
       "      <th>23</th>\n",
       "      <td>32833</td>\n",
       "      <td>\\( \\frac{2}{15} \\)</td>\n",
       "      <td>520</td>\n",
       "      <td>2</td>\n",
       "    </tr>\n",
       "    <tr>\n",
       "      <th>24</th>\n",
       "      <td>32835</td>\n",
       "      <td>\\( 6 \\)</td>\n",
       "      <td>478</td>\n",
       "      <td>1</td>\n",
       "    </tr>\n",
       "    <tr>\n",
       "      <th>25</th>\n",
       "      <td>32835</td>\n",
       "      <td>\\( 6.0001 \\)</td>\n",
       "      <td>64</td>\n",
       "      <td>3</td>\n",
       "    </tr>\n",
       "    <tr>\n",
       "      <th>26</th>\n",
       "      <td>32835</td>\n",
       "      <td>\\( 6.079 \\)</td>\n",
       "      <td>116</td>\n",
       "      <td>2</td>\n",
       "    </tr>\n",
       "    <tr>\n",
       "      <th>27</th>\n",
       "      <td>32835</td>\n",
       "      <td>\\( 6.2 \\)</td>\n",
       "      <td>1674</td>\n",
       "      <td>0</td>\n",
       "    </tr>\n",
       "    <tr>\n",
       "      <th>28</th>\n",
       "      <td>33471</td>\n",
       "      <td>\\( 15 \\)</td>\n",
       "      <td>874</td>\n",
       "      <td>0</td>\n",
       "    </tr>\n",
       "    <tr>\n",
       "      <th>29</th>\n",
       "      <td>33471</td>\n",
       "      <td>\\( 3 \\)</td>\n",
       "      <td>40</td>\n",
       "      <td>3</td>\n",
       "    </tr>\n",
       "    <tr>\n",
       "      <th>30</th>\n",
       "      <td>33471</td>\n",
       "      <td>\\( 8 \\)</td>\n",
       "      <td>56</td>\n",
       "      <td>2</td>\n",
       "    </tr>\n",
       "    <tr>\n",
       "      <th>31</th>\n",
       "      <td>33471</td>\n",
       "      <td>\\( 9 \\)</td>\n",
       "      <td>572</td>\n",
       "      <td>1</td>\n",
       "    </tr>\n",
       "    <tr>\n",
       "      <th>32</th>\n",
       "      <td>33472</td>\n",
       "      <td>\\( \\frac{11}{15} \\)</td>\n",
       "      <td>1651</td>\n",
       "      <td>0</td>\n",
       "    </tr>\n",
       "    <tr>\n",
       "      <th>33</th>\n",
       "      <td>33472</td>\n",
       "      <td>\\( \\frac{11}{30} \\)</td>\n",
       "      <td>116</td>\n",
       "      <td>3</td>\n",
       "    </tr>\n",
       "    <tr>\n",
       "      <th>34</th>\n",
       "      <td>33472</td>\n",
       "      <td>\\( \\frac{3}{15} \\)</td>\n",
       "      <td>565</td>\n",
       "      <td>1</td>\n",
       "    </tr>\n",
       "    <tr>\n",
       "      <th>35</th>\n",
       "      <td>33472</td>\n",
       "      <td>\\( \\frac{3}{8} \\)</td>\n",
       "      <td>468</td>\n",
       "      <td>2</td>\n",
       "    </tr>\n",
       "    <tr>\n",
       "      <th>36</th>\n",
       "      <td>33474</td>\n",
       "      <td>\\( \\frac{1}{3} \\times \\frac{2}{3} \\)</td>\n",
       "      <td>630</td>\n",
       "      <td>1</td>\n",
       "    </tr>\n",
       "    <tr>\n",
       "      <th>37</th>\n",
       "      <td>33474</td>\n",
       "      <td>\\( \\frac{1}{3}+\\frac{2}{3} \\)</td>\n",
       "      <td>49</td>\n",
       "      <td>3</td>\n",
       "    </tr>\n",
       "    <tr>\n",
       "      <th>38</th>\n",
       "      <td>33474</td>\n",
       "      <td>\\( \\frac{2}{3} \\div \\frac{1}{3} \\)</td>\n",
       "      <td>147</td>\n",
       "      <td>2</td>\n",
       "    </tr>\n",
       "    <tr>\n",
       "      <th>39</th>\n",
       "      <td>33474</td>\n",
       "      <td>\\( \\frac{2}{3}-\\frac{1}{3} \\)</td>\n",
       "      <td>940</td>\n",
       "      <td>0</td>\n",
       "    </tr>\n",
       "    <tr>\n",
       "      <th>40</th>\n",
       "      <td>76870</td>\n",
       "      <td>Not enough information</td>\n",
       "      <td>403</td>\n",
       "      <td>1</td>\n",
       "    </tr>\n",
       "    <tr>\n",
       "      <th>41</th>\n",
       "      <td>76870</td>\n",
       "      <td>\\( 10 \\)</td>\n",
       "      <td>508</td>\n",
       "      <td>0</td>\n",
       "    </tr>\n",
       "    <tr>\n",
       "      <th>42</th>\n",
       "      <td>76870</td>\n",
       "      <td>\\( 5 \\)</td>\n",
       "      <td>140</td>\n",
       "      <td>2</td>\n",
       "    </tr>\n",
       "    <tr>\n",
       "      <th>43</th>\n",
       "      <td>76870</td>\n",
       "      <td>\\( 6 \\)</td>\n",
       "      <td>135</td>\n",
       "      <td>3</td>\n",
       "    </tr>\n",
       "    <tr>\n",
       "      <th>44</th>\n",
       "      <td>89443</td>\n",
       "      <td>\\( -13 \\)</td>\n",
       "      <td>798</td>\n",
       "      <td>1</td>\n",
       "    </tr>\n",
       "    <tr>\n",
       "      <th>45</th>\n",
       "      <td>89443</td>\n",
       "      <td>\\( -3 \\)</td>\n",
       "      <td>1394</td>\n",
       "      <td>0</td>\n",
       "    </tr>\n",
       "    <tr>\n",
       "      <th>46</th>\n",
       "      <td>89443</td>\n",
       "      <td>\\( 13 \\)</td>\n",
       "      <td>396</td>\n",
       "      <td>3</td>\n",
       "    </tr>\n",
       "    <tr>\n",
       "      <th>47</th>\n",
       "      <td>89443</td>\n",
       "      <td>\\( 3 \\)</td>\n",
       "      <td>466</td>\n",
       "      <td>2</td>\n",
       "    </tr>\n",
       "    <tr>\n",
       "      <th>48</th>\n",
       "      <td>91695</td>\n",
       "      <td>\\( 20 \\)</td>\n",
       "      <td>102</td>\n",
       "      <td>3</td>\n",
       "    </tr>\n",
       "    <tr>\n",
       "      <th>49</th>\n",
       "      <td>91695</td>\n",
       "      <td>\\( 22 \\)</td>\n",
       "      <td>718</td>\n",
       "      <td>1</td>\n",
       "    </tr>\n",
       "    <tr>\n",
       "      <th>50</th>\n",
       "      <td>91695</td>\n",
       "      <td>\\( 26 \\)</td>\n",
       "      <td>1547</td>\n",
       "      <td>0</td>\n",
       "    </tr>\n",
       "    <tr>\n",
       "      <th>51</th>\n",
       "      <td>91695</td>\n",
       "      <td>\\( 36 \\)</td>\n",
       "      <td>243</td>\n",
       "      <td>2</td>\n",
       "    </tr>\n",
       "    <tr>\n",
       "      <th>52</th>\n",
       "      <td>104665</td>\n",
       "      <td>\\( 192 \\) hours</td>\n",
       "      <td>9</td>\n",
       "      <td>3</td>\n",
       "    </tr>\n",
       "    <tr>\n",
       "      <th>53</th>\n",
       "      <td>104665</td>\n",
       "      <td>\\( 48 \\) hours</td>\n",
       "      <td>497</td>\n",
       "      <td>0</td>\n",
       "    </tr>\n",
       "    <tr>\n",
       "      <th>54</th>\n",
       "      <td>104665</td>\n",
       "      <td>\\( 64 \\) hours</td>\n",
       "      <td>62</td>\n",
       "      <td>2</td>\n",
       "    </tr>\n",
       "    <tr>\n",
       "      <th>55</th>\n",
       "      <td>104665</td>\n",
       "      <td>\\( 768 \\) hours</td>\n",
       "      <td>105</td>\n",
       "      <td>1</td>\n",
       "    </tr>\n",
       "    <tr>\n",
       "      <th>56</th>\n",
       "      <td>109465</td>\n",
       "      <td>Certain</td>\n",
       "      <td>64</td>\n",
       "      <td>2</td>\n",
       "    </tr>\n",
       "    <tr>\n",
       "      <th>57</th>\n",
       "      <td>109465</td>\n",
       "      <td>Impossible</td>\n",
       "      <td>18</td>\n",
       "      <td>3</td>\n",
       "    </tr>\n",
       "    <tr>\n",
       "      <th>58</th>\n",
       "      <td>109465</td>\n",
       "      <td>Likely</td>\n",
       "      <td>553</td>\n",
       "      <td>0</td>\n",
       "    </tr>\n",
       "    <tr>\n",
       "      <th>59</th>\n",
       "      <td>109465</td>\n",
       "      <td>Unlikely</td>\n",
       "      <td>416</td>\n",
       "      <td>1</td>\n",
       "    </tr>\n",
       "  </tbody>\n",
       "</table>\n",
       "</div>"
      ],
      "text/plain": [
       "    QuestionId                             MC_Answer  count  rank\n",
       "0        31772                     \\( \\frac{1}{3} \\)   2348     0\n",
       "1        31772                     \\( \\frac{3}{6} \\)    412     2\n",
       "2        31772                     \\( \\frac{3}{8} \\)    118     3\n",
       "3        31772                     \\( \\frac{3}{9} \\)   1979     1\n",
       "4        31774                               \\( 3 \\)    659     1\n",
       "5        31774                    \\( \\frac{1}{12} \\)   1918     0\n",
       "6        31774                     \\( \\frac{1}{3} \\)    251     3\n",
       "7        31774                     \\( \\frac{6}{2} \\)    287     2\n",
       "8        31777                              \\( 24 \\)    255     3\n",
       "9        31777                              \\( 48 \\)    406     1\n",
       "10       31777                              \\( 60 \\)    350     2\n",
       "11       31777                              \\( 72 \\)   1798     0\n",
       "12       31778                               \\( 3 \\)    627     2\n",
       "13       31778                               \\( 4 \\)   1108     1\n",
       "14       31778                               \\( 6 \\)   1755     0\n",
       "15       31778                               \\( 9 \\)    150     3\n",
       "16       32829                              \\( 12 \\)   1716     0\n",
       "17       32829                              \\( 22 \\)    148     2\n",
       "18       32829                               \\( 4 \\)    248     1\n",
       "19       32829                              \\( 48 \\)     44     3\n",
       "20       32833                   \\( 3 \\frac{1}{3} \\)   1601     0\n",
       "21       32833                   \\( 5 \\frac{2}{3} \\)     78     3\n",
       "22       32833                   \\( \\frac{10}{15} \\)    906     1\n",
       "23       32833                    \\( \\frac{2}{15} \\)    520     2\n",
       "24       32835                               \\( 6 \\)    478     1\n",
       "25       32835                          \\( 6.0001 \\)     64     3\n",
       "26       32835                           \\( 6.079 \\)    116     2\n",
       "27       32835                             \\( 6.2 \\)   1674     0\n",
       "28       33471                              \\( 15 \\)    874     0\n",
       "29       33471                               \\( 3 \\)     40     3\n",
       "30       33471                               \\( 8 \\)     56     2\n",
       "31       33471                               \\( 9 \\)    572     1\n",
       "32       33472                   \\( \\frac{11}{15} \\)   1651     0\n",
       "33       33472                   \\( \\frac{11}{30} \\)    116     3\n",
       "34       33472                    \\( \\frac{3}{15} \\)    565     1\n",
       "35       33472                     \\( \\frac{3}{8} \\)    468     2\n",
       "36       33474  \\( \\frac{1}{3} \\times \\frac{2}{3} \\)    630     1\n",
       "37       33474         \\( \\frac{1}{3}+\\frac{2}{3} \\)     49     3\n",
       "38       33474    \\( \\frac{2}{3} \\div \\frac{1}{3} \\)    147     2\n",
       "39       33474         \\( \\frac{2}{3}-\\frac{1}{3} \\)    940     0\n",
       "40       76870                Not enough information    403     1\n",
       "41       76870                              \\( 10 \\)    508     0\n",
       "42       76870                               \\( 5 \\)    140     2\n",
       "43       76870                               \\( 6 \\)    135     3\n",
       "44       89443                             \\( -13 \\)    798     1\n",
       "45       89443                              \\( -3 \\)   1394     0\n",
       "46       89443                              \\( 13 \\)    396     3\n",
       "47       89443                               \\( 3 \\)    466     2\n",
       "48       91695                              \\( 20 \\)    102     3\n",
       "49       91695                              \\( 22 \\)    718     1\n",
       "50       91695                              \\( 26 \\)   1547     0\n",
       "51       91695                              \\( 36 \\)    243     2\n",
       "52      104665                       \\( 192 \\) hours      9     3\n",
       "53      104665                        \\( 48 \\) hours    497     0\n",
       "54      104665                        \\( 64 \\) hours     62     2\n",
       "55      104665                       \\( 768 \\) hours    105     1\n",
       "56      109465                               Certain     64     2\n",
       "57      109465                            Impossible     18     3\n",
       "58      109465                                Likely    553     0\n",
       "59      109465                              Unlikely    416     1"
      ]
     },
     "execution_count": 52,
     "metadata": {},
     "output_type": "execute_result"
    }
   ],
   "source": [
    "# add Ranking\n",
    "temp[\"rank\"] = temp.groupby(\"QuestionId\")['count'].rank(method='dense', ascending=False).astype(int) - 1\n",
    "temp"
   ]
  },
  {
   "cell_type": "code",
   "execution_count": 53,
   "id": "fa2d657a",
   "metadata": {
    "execution": {
     "iopub.execute_input": "2025-09-28T11:40:26.397872Z",
     "iopub.status.busy": "2025-09-28T11:40:26.397673Z",
     "iopub.status.idle": "2025-09-28T11:40:26.408453Z",
     "shell.execute_reply": "2025-09-28T11:40:26.407841Z"
    },
    "papermill": {
     "duration": 0.035336,
     "end_time": "2025-09-28T11:40:26.409568",
     "exception": false,
     "start_time": "2025-09-28T11:40:26.374232",
     "status": "completed"
    },
    "scrolled": true,
    "tags": []
   },
   "outputs": [
    {
     "data": {
      "text/html": [
       "<div>\n",
       "<style scoped>\n",
       "    .dataframe tbody tr th:only-of-type {\n",
       "        vertical-align: middle;\n",
       "    }\n",
       "\n",
       "    .dataframe tbody tr th {\n",
       "        vertical-align: top;\n",
       "    }\n",
       "\n",
       "    .dataframe thead th {\n",
       "        text-align: right;\n",
       "    }\n",
       "</style>\n",
       "<table border=\"1\" class=\"dataframe\">\n",
       "  <thead>\n",
       "    <tr style=\"text-align: right;\">\n",
       "      <th></th>\n",
       "      <th>QuestionId</th>\n",
       "      <th>MC_Answer</th>\n",
       "      <th>rank</th>\n",
       "    </tr>\n",
       "  </thead>\n",
       "  <tbody>\n",
       "    <tr>\n",
       "      <th>0</th>\n",
       "      <td>31772</td>\n",
       "      <td>\\( \\frac{1}{3} \\)</td>\n",
       "      <td>0</td>\n",
       "    </tr>\n",
       "    <tr>\n",
       "      <th>3</th>\n",
       "      <td>31772</td>\n",
       "      <td>\\( \\frac{3}{9} \\)</td>\n",
       "      <td>1</td>\n",
       "    </tr>\n",
       "    <tr>\n",
       "      <th>1</th>\n",
       "      <td>31772</td>\n",
       "      <td>\\( \\frac{3}{6} \\)</td>\n",
       "      <td>2</td>\n",
       "    </tr>\n",
       "    <tr>\n",
       "      <th>2</th>\n",
       "      <td>31772</td>\n",
       "      <td>\\( \\frac{3}{8} \\)</td>\n",
       "      <td>3</td>\n",
       "    </tr>\n",
       "    <tr>\n",
       "      <th>5</th>\n",
       "      <td>31774</td>\n",
       "      <td>\\( \\frac{1}{12} \\)</td>\n",
       "      <td>0</td>\n",
       "    </tr>\n",
       "    <tr>\n",
       "      <th>4</th>\n",
       "      <td>31774</td>\n",
       "      <td>\\( 3 \\)</td>\n",
       "      <td>1</td>\n",
       "    </tr>\n",
       "    <tr>\n",
       "      <th>7</th>\n",
       "      <td>31774</td>\n",
       "      <td>\\( \\frac{6}{2} \\)</td>\n",
       "      <td>2</td>\n",
       "    </tr>\n",
       "    <tr>\n",
       "      <th>6</th>\n",
       "      <td>31774</td>\n",
       "      <td>\\( \\frac{1}{3} \\)</td>\n",
       "      <td>3</td>\n",
       "    </tr>\n",
       "    <tr>\n",
       "      <th>11</th>\n",
       "      <td>31777</td>\n",
       "      <td>\\( 72 \\)</td>\n",
       "      <td>0</td>\n",
       "    </tr>\n",
       "    <tr>\n",
       "      <th>9</th>\n",
       "      <td>31777</td>\n",
       "      <td>\\( 48 \\)</td>\n",
       "      <td>1</td>\n",
       "    </tr>\n",
       "    <tr>\n",
       "      <th>10</th>\n",
       "      <td>31777</td>\n",
       "      <td>\\( 60 \\)</td>\n",
       "      <td>2</td>\n",
       "    </tr>\n",
       "    <tr>\n",
       "      <th>8</th>\n",
       "      <td>31777</td>\n",
       "      <td>\\( 24 \\)</td>\n",
       "      <td>3</td>\n",
       "    </tr>\n",
       "    <tr>\n",
       "      <th>14</th>\n",
       "      <td>31778</td>\n",
       "      <td>\\( 6 \\)</td>\n",
       "      <td>0</td>\n",
       "    </tr>\n",
       "    <tr>\n",
       "      <th>13</th>\n",
       "      <td>31778</td>\n",
       "      <td>\\( 4 \\)</td>\n",
       "      <td>1</td>\n",
       "    </tr>\n",
       "    <tr>\n",
       "      <th>12</th>\n",
       "      <td>31778</td>\n",
       "      <td>\\( 3 \\)</td>\n",
       "      <td>2</td>\n",
       "    </tr>\n",
       "    <tr>\n",
       "      <th>15</th>\n",
       "      <td>31778</td>\n",
       "      <td>\\( 9 \\)</td>\n",
       "      <td>3</td>\n",
       "    </tr>\n",
       "    <tr>\n",
       "      <th>16</th>\n",
       "      <td>32829</td>\n",
       "      <td>\\( 12 \\)</td>\n",
       "      <td>0</td>\n",
       "    </tr>\n",
       "    <tr>\n",
       "      <th>18</th>\n",
       "      <td>32829</td>\n",
       "      <td>\\( 4 \\)</td>\n",
       "      <td>1</td>\n",
       "    </tr>\n",
       "    <tr>\n",
       "      <th>17</th>\n",
       "      <td>32829</td>\n",
       "      <td>\\( 22 \\)</td>\n",
       "      <td>2</td>\n",
       "    </tr>\n",
       "    <tr>\n",
       "      <th>19</th>\n",
       "      <td>32829</td>\n",
       "      <td>\\( 48 \\)</td>\n",
       "      <td>3</td>\n",
       "    </tr>\n",
       "    <tr>\n",
       "      <th>20</th>\n",
       "      <td>32833</td>\n",
       "      <td>\\( 3 \\frac{1}{3} \\)</td>\n",
       "      <td>0</td>\n",
       "    </tr>\n",
       "    <tr>\n",
       "      <th>22</th>\n",
       "      <td>32833</td>\n",
       "      <td>\\( \\frac{10}{15} \\)</td>\n",
       "      <td>1</td>\n",
       "    </tr>\n",
       "    <tr>\n",
       "      <th>23</th>\n",
       "      <td>32833</td>\n",
       "      <td>\\( \\frac{2}{15} \\)</td>\n",
       "      <td>2</td>\n",
       "    </tr>\n",
       "    <tr>\n",
       "      <th>21</th>\n",
       "      <td>32833</td>\n",
       "      <td>\\( 5 \\frac{2}{3} \\)</td>\n",
       "      <td>3</td>\n",
       "    </tr>\n",
       "    <tr>\n",
       "      <th>27</th>\n",
       "      <td>32835</td>\n",
       "      <td>\\( 6.2 \\)</td>\n",
       "      <td>0</td>\n",
       "    </tr>\n",
       "    <tr>\n",
       "      <th>24</th>\n",
       "      <td>32835</td>\n",
       "      <td>\\( 6 \\)</td>\n",
       "      <td>1</td>\n",
       "    </tr>\n",
       "    <tr>\n",
       "      <th>26</th>\n",
       "      <td>32835</td>\n",
       "      <td>\\( 6.079 \\)</td>\n",
       "      <td>2</td>\n",
       "    </tr>\n",
       "    <tr>\n",
       "      <th>25</th>\n",
       "      <td>32835</td>\n",
       "      <td>\\( 6.0001 \\)</td>\n",
       "      <td>3</td>\n",
       "    </tr>\n",
       "    <tr>\n",
       "      <th>28</th>\n",
       "      <td>33471</td>\n",
       "      <td>\\( 15 \\)</td>\n",
       "      <td>0</td>\n",
       "    </tr>\n",
       "    <tr>\n",
       "      <th>31</th>\n",
       "      <td>33471</td>\n",
       "      <td>\\( 9 \\)</td>\n",
       "      <td>1</td>\n",
       "    </tr>\n",
       "    <tr>\n",
       "      <th>30</th>\n",
       "      <td>33471</td>\n",
       "      <td>\\( 8 \\)</td>\n",
       "      <td>2</td>\n",
       "    </tr>\n",
       "    <tr>\n",
       "      <th>29</th>\n",
       "      <td>33471</td>\n",
       "      <td>\\( 3 \\)</td>\n",
       "      <td>3</td>\n",
       "    </tr>\n",
       "    <tr>\n",
       "      <th>32</th>\n",
       "      <td>33472</td>\n",
       "      <td>\\( \\frac{11}{15} \\)</td>\n",
       "      <td>0</td>\n",
       "    </tr>\n",
       "    <tr>\n",
       "      <th>34</th>\n",
       "      <td>33472</td>\n",
       "      <td>\\( \\frac{3}{15} \\)</td>\n",
       "      <td>1</td>\n",
       "    </tr>\n",
       "    <tr>\n",
       "      <th>35</th>\n",
       "      <td>33472</td>\n",
       "      <td>\\( \\frac{3}{8} \\)</td>\n",
       "      <td>2</td>\n",
       "    </tr>\n",
       "    <tr>\n",
       "      <th>33</th>\n",
       "      <td>33472</td>\n",
       "      <td>\\( \\frac{11}{30} \\)</td>\n",
       "      <td>3</td>\n",
       "    </tr>\n",
       "    <tr>\n",
       "      <th>39</th>\n",
       "      <td>33474</td>\n",
       "      <td>\\( \\frac{2}{3}-\\frac{1}{3} \\)</td>\n",
       "      <td>0</td>\n",
       "    </tr>\n",
       "    <tr>\n",
       "      <th>36</th>\n",
       "      <td>33474</td>\n",
       "      <td>\\( \\frac{1}{3} \\times \\frac{2}{3} \\)</td>\n",
       "      <td>1</td>\n",
       "    </tr>\n",
       "    <tr>\n",
       "      <th>38</th>\n",
       "      <td>33474</td>\n",
       "      <td>\\( \\frac{2}{3} \\div \\frac{1}{3} \\)</td>\n",
       "      <td>2</td>\n",
       "    </tr>\n",
       "    <tr>\n",
       "      <th>37</th>\n",
       "      <td>33474</td>\n",
       "      <td>\\( \\frac{1}{3}+\\frac{2}{3} \\)</td>\n",
       "      <td>3</td>\n",
       "    </tr>\n",
       "    <tr>\n",
       "      <th>41</th>\n",
       "      <td>76870</td>\n",
       "      <td>\\( 10 \\)</td>\n",
       "      <td>0</td>\n",
       "    </tr>\n",
       "    <tr>\n",
       "      <th>40</th>\n",
       "      <td>76870</td>\n",
       "      <td>Not enough information</td>\n",
       "      <td>1</td>\n",
       "    </tr>\n",
       "    <tr>\n",
       "      <th>42</th>\n",
       "      <td>76870</td>\n",
       "      <td>\\( 5 \\)</td>\n",
       "      <td>2</td>\n",
       "    </tr>\n",
       "    <tr>\n",
       "      <th>43</th>\n",
       "      <td>76870</td>\n",
       "      <td>\\( 6 \\)</td>\n",
       "      <td>3</td>\n",
       "    </tr>\n",
       "    <tr>\n",
       "      <th>45</th>\n",
       "      <td>89443</td>\n",
       "      <td>\\( -3 \\)</td>\n",
       "      <td>0</td>\n",
       "    </tr>\n",
       "    <tr>\n",
       "      <th>44</th>\n",
       "      <td>89443</td>\n",
       "      <td>\\( -13 \\)</td>\n",
       "      <td>1</td>\n",
       "    </tr>\n",
       "    <tr>\n",
       "      <th>47</th>\n",
       "      <td>89443</td>\n",
       "      <td>\\( 3 \\)</td>\n",
       "      <td>2</td>\n",
       "    </tr>\n",
       "    <tr>\n",
       "      <th>46</th>\n",
       "      <td>89443</td>\n",
       "      <td>\\( 13 \\)</td>\n",
       "      <td>3</td>\n",
       "    </tr>\n",
       "    <tr>\n",
       "      <th>50</th>\n",
       "      <td>91695</td>\n",
       "      <td>\\( 26 \\)</td>\n",
       "      <td>0</td>\n",
       "    </tr>\n",
       "    <tr>\n",
       "      <th>49</th>\n",
       "      <td>91695</td>\n",
       "      <td>\\( 22 \\)</td>\n",
       "      <td>1</td>\n",
       "    </tr>\n",
       "    <tr>\n",
       "      <th>51</th>\n",
       "      <td>91695</td>\n",
       "      <td>\\( 36 \\)</td>\n",
       "      <td>2</td>\n",
       "    </tr>\n",
       "    <tr>\n",
       "      <th>48</th>\n",
       "      <td>91695</td>\n",
       "      <td>\\( 20 \\)</td>\n",
       "      <td>3</td>\n",
       "    </tr>\n",
       "    <tr>\n",
       "      <th>53</th>\n",
       "      <td>104665</td>\n",
       "      <td>\\( 48 \\) hours</td>\n",
       "      <td>0</td>\n",
       "    </tr>\n",
       "    <tr>\n",
       "      <th>55</th>\n",
       "      <td>104665</td>\n",
       "      <td>\\( 768 \\) hours</td>\n",
       "      <td>1</td>\n",
       "    </tr>\n",
       "    <tr>\n",
       "      <th>54</th>\n",
       "      <td>104665</td>\n",
       "      <td>\\( 64 \\) hours</td>\n",
       "      <td>2</td>\n",
       "    </tr>\n",
       "    <tr>\n",
       "      <th>52</th>\n",
       "      <td>104665</td>\n",
       "      <td>\\( 192 \\) hours</td>\n",
       "      <td>3</td>\n",
       "    </tr>\n",
       "    <tr>\n",
       "      <th>58</th>\n",
       "      <td>109465</td>\n",
       "      <td>Likely</td>\n",
       "      <td>0</td>\n",
       "    </tr>\n",
       "    <tr>\n",
       "      <th>59</th>\n",
       "      <td>109465</td>\n",
       "      <td>Unlikely</td>\n",
       "      <td>1</td>\n",
       "    </tr>\n",
       "    <tr>\n",
       "      <th>56</th>\n",
       "      <td>109465</td>\n",
       "      <td>Certain</td>\n",
       "      <td>2</td>\n",
       "    </tr>\n",
       "    <tr>\n",
       "      <th>57</th>\n",
       "      <td>109465</td>\n",
       "      <td>Impossible</td>\n",
       "      <td>3</td>\n",
       "    </tr>\n",
       "  </tbody>\n",
       "</table>\n",
       "</div>"
      ],
      "text/plain": [
       "    QuestionId                             MC_Answer  rank\n",
       "0        31772                     \\( \\frac{1}{3} \\)     0\n",
       "3        31772                     \\( \\frac{3}{9} \\)     1\n",
       "1        31772                     \\( \\frac{3}{6} \\)     2\n",
       "2        31772                     \\( \\frac{3}{8} \\)     3\n",
       "5        31774                    \\( \\frac{1}{12} \\)     0\n",
       "4        31774                               \\( 3 \\)     1\n",
       "7        31774                     \\( \\frac{6}{2} \\)     2\n",
       "6        31774                     \\( \\frac{1}{3} \\)     3\n",
       "11       31777                              \\( 72 \\)     0\n",
       "9        31777                              \\( 48 \\)     1\n",
       "10       31777                              \\( 60 \\)     2\n",
       "8        31777                              \\( 24 \\)     3\n",
       "14       31778                               \\( 6 \\)     0\n",
       "13       31778                               \\( 4 \\)     1\n",
       "12       31778                               \\( 3 \\)     2\n",
       "15       31778                               \\( 9 \\)     3\n",
       "16       32829                              \\( 12 \\)     0\n",
       "18       32829                               \\( 4 \\)     1\n",
       "17       32829                              \\( 22 \\)     2\n",
       "19       32829                              \\( 48 \\)     3\n",
       "20       32833                   \\( 3 \\frac{1}{3} \\)     0\n",
       "22       32833                   \\( \\frac{10}{15} \\)     1\n",
       "23       32833                    \\( \\frac{2}{15} \\)     2\n",
       "21       32833                   \\( 5 \\frac{2}{3} \\)     3\n",
       "27       32835                             \\( 6.2 \\)     0\n",
       "24       32835                               \\( 6 \\)     1\n",
       "26       32835                           \\( 6.079 \\)     2\n",
       "25       32835                          \\( 6.0001 \\)     3\n",
       "28       33471                              \\( 15 \\)     0\n",
       "31       33471                               \\( 9 \\)     1\n",
       "30       33471                               \\( 8 \\)     2\n",
       "29       33471                               \\( 3 \\)     3\n",
       "32       33472                   \\( \\frac{11}{15} \\)     0\n",
       "34       33472                    \\( \\frac{3}{15} \\)     1\n",
       "35       33472                     \\( \\frac{3}{8} \\)     2\n",
       "33       33472                   \\( \\frac{11}{30} \\)     3\n",
       "39       33474         \\( \\frac{2}{3}-\\frac{1}{3} \\)     0\n",
       "36       33474  \\( \\frac{1}{3} \\times \\frac{2}{3} \\)     1\n",
       "38       33474    \\( \\frac{2}{3} \\div \\frac{1}{3} \\)     2\n",
       "37       33474         \\( \\frac{1}{3}+\\frac{2}{3} \\)     3\n",
       "41       76870                              \\( 10 \\)     0\n",
       "40       76870                Not enough information     1\n",
       "42       76870                               \\( 5 \\)     2\n",
       "43       76870                               \\( 6 \\)     3\n",
       "45       89443                              \\( -3 \\)     0\n",
       "44       89443                             \\( -13 \\)     1\n",
       "47       89443                               \\( 3 \\)     2\n",
       "46       89443                              \\( 13 \\)     3\n",
       "50       91695                              \\( 26 \\)     0\n",
       "49       91695                              \\( 22 \\)     1\n",
       "51       91695                              \\( 36 \\)     2\n",
       "48       91695                              \\( 20 \\)     3\n",
       "53      104665                        \\( 48 \\) hours     0\n",
       "55      104665                       \\( 768 \\) hours     1\n",
       "54      104665                        \\( 64 \\) hours     2\n",
       "52      104665                       \\( 192 \\) hours     3\n",
       "58      109465                                Likely     0\n",
       "59      109465                              Unlikely     1\n",
       "56      109465                               Certain     2\n",
       "57      109465                            Impossible     3"
      ]
     },
     "execution_count": 53,
     "metadata": {},
     "output_type": "execute_result"
    }
   ],
   "source": [
    "temp = temp.drop('count',axis=1)\n",
    "temp = temp.sort_values(['QuestionId','rank'])\n",
    "temp"
   ]
  },
  {
   "cell_type": "code",
   "execution_count": 54,
   "id": "6f96aad7",
   "metadata": {
    "execution": {
     "iopub.execute_input": "2025-09-28T11:40:26.461277Z",
     "iopub.status.busy": "2025-09-28T11:40:26.461014Z",
     "iopub.status.idle": "2025-09-28T11:40:26.524775Z",
     "shell.execute_reply": "2025-09-28T11:40:26.524021Z"
    },
    "papermill": {
     "duration": 0.091487,
     "end_time": "2025-09-28T11:40:26.526040",
     "exception": false,
     "start_time": "2025-09-28T11:40:26.434553",
     "status": "completed"
    },
    "scrolled": true,
    "tags": []
   },
   "outputs": [
    {
     "name": "stdout",
     "output_type": "stream",
     "text": [
      "\n"
     ]
    },
    {
     "data": {
      "text/latex": [
       "Question Id: 31772: What fraction of the shape is not shaded? Give your answer in its simplest form. [Image: A triangle split into 9 equal smaller triangles. 6 of them are shaded.]"
      ],
      "text/plain": [
       "<IPython.core.display.Latex object>"
      ]
     },
     "metadata": {},
     "output_type": "display_data"
    },
    {
     "data": {
      "text/latex": [
       "MC Answer: (A) \\( \\frac{1}{3} \\) (B) \\( \\frac{3}{9} \\) (C) \\( \\frac{3}{6} \\) (D) \\( \\frac{3}{8} \\)\n",
       "\r"
      ],
      "text/plain": [
       "<IPython.core.display.Latex object>"
      ]
     },
     "metadata": {},
     "output_type": "display_data"
    },
    {
     "name": "stdout",
     "output_type": "stream",
     "text": [
      "\n"
     ]
    },
    {
     "data": {
      "text/latex": [
       "Question Id: 31774: Calculate \\( \\frac{1}{2} \\div 6 \\)"
      ],
      "text/plain": [
       "<IPython.core.display.Latex object>"
      ]
     },
     "metadata": {},
     "output_type": "display_data"
    },
    {
     "data": {
      "text/latex": [
       "MC Answer: (A) \\( \\frac{1}{12} \\) (B) \\( 3 \\) (C) \\( \\frac{6}{2} \\) (D) \\( \\frac{1}{3} \\)\n",
       "\r"
      ],
      "text/plain": [
       "<IPython.core.display.Latex object>"
      ]
     },
     "metadata": {},
     "output_type": "display_data"
    },
    {
     "name": "stdout",
     "output_type": "stream",
     "text": [
      "\n"
     ]
    },
    {
     "data": {
      "text/latex": [
       "Question Id: 31777: A box contains \\( 120 \\) counters. The counters are red or blue. \\( \\frac{3}{5} \\) of the counters are red.\n",
       "How many red counters are there?"
      ],
      "text/plain": [
       "<IPython.core.display.Latex object>"
      ]
     },
     "metadata": {},
     "output_type": "display_data"
    },
    {
     "data": {
      "text/latex": [
       "MC Answer: (A) \\( 72 \\) (B) \\( 48 \\) (C) \\( 60 \\) (D) \\( 24 \\)\n",
       "\r"
      ],
      "text/plain": [
       "<IPython.core.display.Latex object>"
      ]
     },
     "metadata": {},
     "output_type": "display_data"
    },
    {
     "name": "stdout",
     "output_type": "stream",
     "text": [
      "\n"
     ]
    },
    {
     "data": {
      "text/latex": [
       "Question Id: 31778: \\( \\frac{A}{10}=\\frac{9}{15} \\) What is the value of \\( A \\) ?"
      ],
      "text/plain": [
       "<IPython.core.display.Latex object>"
      ]
     },
     "metadata": {},
     "output_type": "display_data"
    },
    {
     "data": {
      "text/latex": [
       "MC Answer: (A) \\( 6 \\) (B) \\( 4 \\) (C) \\( 3 \\) (D) \\( 9 \\)\n",
       "\r"
      ],
      "text/plain": [
       "<IPython.core.display.Latex object>"
      ]
     },
     "metadata": {},
     "output_type": "display_data"
    },
    {
     "name": "stdout",
     "output_type": "stream",
     "text": [
      "\n"
     ]
    },
    {
     "data": {
      "text/latex": [
       "Question Id: 32829: \\( 2 y=24 \\) What is the value of \\( y \\) ?"
      ],
      "text/plain": [
       "<IPython.core.display.Latex object>"
      ]
     },
     "metadata": {},
     "output_type": "display_data"
    },
    {
     "data": {
      "text/latex": [
       "MC Answer: (A) \\( 12 \\) (B) \\( 4 \\) (C) \\( 22 \\) (D) \\( 48 \\)\n",
       "\r"
      ],
      "text/plain": [
       "<IPython.core.display.Latex object>"
      ]
     },
     "metadata": {},
     "output_type": "display_data"
    },
    {
     "name": "stdout",
     "output_type": "stream",
     "text": [
      "\n"
     ]
    },
    {
     "data": {
      "text/latex": [
       "Question Id: 32833: Calculate \\( \\frac{2}{3} \\times 5 \\)"
      ],
      "text/plain": [
       "<IPython.core.display.Latex object>"
      ]
     },
     "metadata": {},
     "output_type": "display_data"
    },
    {
     "data": {
      "text/latex": [
       "MC Answer: (A) \\( 3 \\frac{1}{3} \\) (B) \\( \\frac{10}{15} \\) (C) \\( \\frac{2}{15} \\) (D) \\( 5 \\frac{2}{3} \\)\n",
       "\r"
      ],
      "text/plain": [
       "<IPython.core.display.Latex object>"
      ]
     },
     "metadata": {},
     "output_type": "display_data"
    },
    {
     "name": "stdout",
     "output_type": "stream",
     "text": [
      "\n"
     ]
    },
    {
     "data": {
      "text/latex": [
       "Question Id: 32835: Which number is the greatest?"
      ],
      "text/plain": [
       "<IPython.core.display.Latex object>"
      ]
     },
     "metadata": {},
     "output_type": "display_data"
    },
    {
     "data": {
      "text/latex": [
       "MC Answer: (A) \\( 6.2 \\) (B) \\( 6 \\) (C) \\( 6.079 \\) (D) \\( 6.0001 \\)\n",
       "\r"
      ],
      "text/plain": [
       "<IPython.core.display.Latex object>"
      ]
     },
     "metadata": {},
     "output_type": "display_data"
    },
    {
     "name": "stdout",
     "output_type": "stream",
     "text": [
      "\n"
     ]
    },
    {
     "data": {
      "text/latex": [
       "Question Id: 33471: A bag contains \\( 24 \\) yellow and green balls. \\( \\frac{3}{8} \\) of the balls are yellow. How many of the balls are green?"
      ],
      "text/plain": [
       "<IPython.core.display.Latex object>"
      ]
     },
     "metadata": {},
     "output_type": "display_data"
    },
    {
     "data": {
      "text/latex": [
       "MC Answer: (A) \\( 15 \\) (B) \\( 9 \\) (C) \\( 8 \\) (D) \\( 3 \\)\n",
       "\r"
      ],
      "text/plain": [
       "<IPython.core.display.Latex object>"
      ]
     },
     "metadata": {},
     "output_type": "display_data"
    },
    {
     "name": "stdout",
     "output_type": "stream",
     "text": [
      "\n"
     ]
    },
    {
     "data": {
      "text/latex": [
       "Question Id: 33472: \\( \\frac{1}{3}+\\frac{2}{5}= \\)"
      ],
      "text/plain": [
       "<IPython.core.display.Latex object>"
      ]
     },
     "metadata": {},
     "output_type": "display_data"
    },
    {
     "data": {
      "text/latex": [
       "MC Answer: (A) \\( \\frac{11}{15} \\) (B) \\( \\frac{3}{15} \\) (C) \\( \\frac{3}{8} \\) (D) \\( \\frac{11}{30} \\)\n",
       "\r"
      ],
      "text/plain": [
       "<IPython.core.display.Latex object>"
      ]
     },
     "metadata": {},
     "output_type": "display_data"
    },
    {
     "name": "stdout",
     "output_type": "stream",
     "text": [
      "\n"
     ]
    },
    {
     "data": {
      "text/latex": [
       "Question Id: 33474: Sally has \\( \\frac{2}{3} \\) of a whole cake in the fridge. Robert eats \\( \\frac{1}{3} \\) of this piece. What fraction of the whole cake has Robert eaten?\n",
       "Choose the number sentence that would solve the word problem."
      ],
      "text/plain": [
       "<IPython.core.display.Latex object>"
      ]
     },
     "metadata": {},
     "output_type": "display_data"
    },
    {
     "data": {
      "text/latex": [
       "MC Answer: (A) \\( \\frac{2}{3}-\\frac{1}{3} \\) (B) \\( \\frac{1}{3} \\times \\frac{2}{3} \\) (C) \\( \\frac{2}{3} \\div \\frac{1}{3} \\) (D) \\( \\frac{1}{3}+\\frac{2}{3} \\)\n",
       "\r"
      ],
      "text/plain": [
       "<IPython.core.display.Latex object>"
      ]
     },
     "metadata": {},
     "output_type": "display_data"
    },
    {
     "name": "stdout",
     "output_type": "stream",
     "text": [
      "\n"
     ]
    },
    {
     "data": {
      "text/latex": [
       "Question Id: 76870: This is part of a regular polygon. How many sides does it have? [Image: A diagram showing an obtuse angle labelled 144 degrees]"
      ],
      "text/plain": [
       "<IPython.core.display.Latex object>"
      ]
     },
     "metadata": {},
     "output_type": "display_data"
    },
    {
     "data": {
      "text/latex": [
       "MC Answer: (A) \\( 10 \\) (B) Not enough information (C) \\( 5 \\) (D) \\( 6 \\)\n",
       "\r"
      ],
      "text/plain": [
       "<IPython.core.display.Latex object>"
      ]
     },
     "metadata": {},
     "output_type": "display_data"
    },
    {
     "name": "stdout",
     "output_type": "stream",
     "text": [
      "\n"
     ]
    },
    {
     "data": {
      "text/latex": [
       "Question Id: 89443: What number belongs in the box?\n",
       "\\(\n",
       "(-8)-(-5)=\n",
       "\\square\\)"
      ],
      "text/plain": [
       "<IPython.core.display.Latex object>"
      ]
     },
     "metadata": {},
     "output_type": "display_data"
    },
    {
     "data": {
      "text/latex": [
       "MC Answer: (A) \\( -3 \\) (B) \\( -13 \\) (C) \\( 3 \\) (D) \\( 13 \\)\n",
       "\r"
      ],
      "text/plain": [
       "<IPython.core.display.Latex object>"
      ]
     },
     "metadata": {},
     "output_type": "display_data"
    },
    {
     "name": "stdout",
     "output_type": "stream",
     "text": [
      "\n"
     ]
    },
    {
     "data": {
      "text/latex": [
       "Question Id: 91695: Dots have been arranged in these patterns: [Image: Pattern 1 consists of 6 dots, Pattern 2 consists of 10 dots, Pattern 3 consists of 14 dots and Pattern 4 consists of 18 dots] How many dots would there be in Pattern \\( 6 \\) ?"
      ],
      "text/plain": [
       "<IPython.core.display.Latex object>"
      ]
     },
     "metadata": {},
     "output_type": "display_data"
    },
    {
     "data": {
      "text/latex": [
       "MC Answer: (A) \\( 26 \\) (B) \\( 22 \\) (C) \\( 36 \\) (D) \\( 20 \\)\n",
       "\r"
      ],
      "text/plain": [
       "<IPython.core.display.Latex object>"
      ]
     },
     "metadata": {},
     "output_type": "display_data"
    },
    {
     "name": "stdout",
     "output_type": "stream",
     "text": [
      "\n"
     ]
    },
    {
     "data": {
      "text/latex": [
       "Question Id: 104665: It takes \\( 3 \\) people a total of \\( 192 \\) hours to build a wall.\n",
       "\n",
       "How long would it take if \\( 12 \\) people built the same wall?"
      ],
      "text/plain": [
       "<IPython.core.display.Latex object>"
      ]
     },
     "metadata": {},
     "output_type": "display_data"
    },
    {
     "data": {
      "text/latex": [
       "MC Answer: (A) \\( 48 \\) hours (B) \\( 768 \\) hours (C) \\( 64 \\) hours (D) \\( 192 \\) hours\n",
       "\r"
      ],
      "text/plain": [
       "<IPython.core.display.Latex object>"
      ]
     },
     "metadata": {},
     "output_type": "display_data"
    },
    {
     "name": "stdout",
     "output_type": "stream",
     "text": [
      "\n"
     ]
    },
    {
     "data": {
      "text/latex": [
       "Question Id: 109465: The probability of an event occurring is \\( 0.9 \\).\n",
       "\n",
       "Which of the following most accurately describes the likelihood of the event occurring?"
      ],
      "text/plain": [
       "<IPython.core.display.Latex object>"
      ]
     },
     "metadata": {},
     "output_type": "display_data"
    },
    {
     "data": {
      "text/latex": [
       "MC Answer: (A) Likely (B) Unlikely (C) Certain (D) Impossible\n",
       "\r"
      ],
      "text/plain": [
       "<IPython.core.display.Latex object>"
      ]
     },
     "metadata": {},
     "output_type": "display_data"
    }
   ],
   "source": [
    "Qid = temp[\"QuestionId\"].unique() # get unique questionid\n",
    "for q in Qid:\n",
    "    question = trainDF.loc[trainDF.QuestionId==q].iloc[0][\"QuestionText\"] # get Question Text for specific QuestionId\n",
    "    choices = temp.loc[temp[\"QuestionId\"] ==q][\"MC_Answer\"].values #\n",
    "    labels=\"ABCD\" # define labels name\n",
    "    choiceStr = \" \".join([f\"({labels[i]}) {choice}\" for  i, choice in enumerate(choices)])\n",
    "    print()\n",
    "    display(Latex(f\"Question Id: {q}: {question}\"))\n",
    "    display(Latex(f\"MC Answer: {choiceStr}\\n\\r\"))\n",
    "    \n",
    "    # print(f\"question: {question}, choices: {choices}  \\n\\r\")"
   ]
  },
  {
   "cell_type": "code",
   "execution_count": 55,
   "id": "ade924f6",
   "metadata": {
    "execution": {
     "iopub.execute_input": "2025-09-28T11:40:26.588409Z",
     "iopub.status.busy": "2025-09-28T11:40:26.588122Z",
     "iopub.status.idle": "2025-09-28T11:40:26.592831Z",
     "shell.execute_reply": "2025-09-28T11:40:26.592154Z"
    },
    "papermill": {
     "duration": 0.03523,
     "end_time": "2025-09-28T11:40:26.594009",
     "exception": false,
     "start_time": "2025-09-28T11:40:26.558779",
     "status": "completed"
    },
    "tags": []
   },
   "outputs": [
    {
     "data": {
      "text/plain": [
       "15"
      ]
     },
     "execution_count": 55,
     "metadata": {},
     "output_type": "execute_result"
    }
   ],
   "source": [
    "len(Qid)"
   ]
  },
  {
   "cell_type": "code",
   "execution_count": 56,
   "id": "594975cd",
   "metadata": {
    "execution": {
     "iopub.execute_input": "2025-09-28T11:40:26.647677Z",
     "iopub.status.busy": "2025-09-28T11:40:26.647459Z",
     "iopub.status.idle": "2025-09-28T11:40:29.954356Z",
     "shell.execute_reply": "2025-09-28T11:40:29.953702Z"
    },
    "papermill": {
     "duration": 3.334742,
     "end_time": "2025-09-28T11:40:29.955668",
     "exception": false,
     "start_time": "2025-09-28T11:40:26.620926",
     "status": "completed"
    },
    "tags": []
   },
   "outputs": [],
   "source": [
    "clearMemory()"
   ]
  },
  {
   "cell_type": "markdown",
   "id": "679508af",
   "metadata": {
    "papermill": {
     "duration": 0.028339,
     "end_time": "2025-09-28T11:40:30.010779",
     "exception": false,
     "start_time": "2025-09-28T11:40:29.982440",
     "status": "completed"
    },
    "tags": []
   },
   "source": [
    "<!-- ### Undersampling is simple way to reduce impact for training imbalance class -->\n",
    "# Imbalance Class Handling\n",
    "To address the extreme class imbalance in your training dataset, you can apply sampling techniques to create a more balanced dataset for fine-tuning. Here are common and effective approaches:\n",
    "\n",
    "### Undersampling the Majority Classes\n",
    "Randomly remove samples from highly frequent classes (e.g., label 37 with 14,802 samples) to reduce their dominance.\n",
    "\n",
    "Techniques like Near Miss or Tomek Links select majority samples close to minority samples to keep important points and remove redundant ones.\n",
    "\n",
    "Downsampling ensures batches contain more representative samples of minority classes, helping the model learn minority patterns better.\n",
    "\n",
    "### Oversampling the Minority Classes\n",
    "Increase the number of samples in minority classes by replicating existing samples or synthetically generating new ones (e.g., SMOTE or Perceptual Borderline SMOTE).\n",
    "\n",
    "Synthetic oversampling creates new minority samples by interpolating between nearest neighbors, improving representation without losing information.\n",
    "\n",
    "### Hybrid Sampling\n",
    "Combine undersampling and oversampling to balance the dataset effectively without losing valuable majority class information.\n",
    "\n",
    "For example, reduce majority class samples moderately and apply synthetic oversampling to minority classes.\n",
    "\n",
    "Hybrid methods have been shown to perform well in highly imbalanced multi-class settings.\n",
    "\n",
    "## Additional Suggestions\n",
    "- Class Weights: Alternatively or additionally, assign higher loss weights to minority classes during training to force the model to pay more attention to them without changing the dataset distribution.\n",
    "\n",
    "- Experiment: It’s important to experiment with the degree of under- and oversampling as well as weighting to optimize balanced learning.\n",
    "\n",
    "\n",
    "By applying these resampling strategies, the data balance improves, which can help stabilize metrics like mAP during fine-tuning and improve overall model robustness across all classes.To address the extreme class imbalance in your training dataset, a common solution is to use sampling techniques to balance the dataset:\n",
    "\n",
    "- Undersampling: Reduce samples from majority classes by randomly removing some instances or using informed methods like Near Miss or Tomek Links, which selectively remove samples from majority classes near minority class boundaries. This prevents the model from overwhelming bias towards large classes.\n",
    "\n",
    "- Oversampling: Increase samples from minority classes by duplicating instances or generating synthetic samples using methods like SMOTE or Perceptual Borderline SMOTE, which interpolate between minority samples to create new, plausible instances.\n",
    "\n",
    "- Hybrid methods: Combine undersampling of large classes with oversampling of small classes to maintain data diversity and balance effectively.\n",
    "\n",
    "- Class weighting: Alternatively, or in addition, use class-weighted loss functions to penalize misclassification of minority classes more heavily without changing data distribution.\n",
    "\n",
    "It's recommended to experiment with these approaches and their parameters, aiming for a balanced representation that helps the model learn all classes well and stabilizes performance metrics like mAP during fine-tuning.\n",
    "\n",
    "\n",
    "### how to apply class weight in transformers\n",
    "To apply class weights in fine-tuning transformers with PyTorch, you typically define a weighted loss function that penalizes misclassification of underrepresented classes more heavily. Here's how you can do it:\n",
    "\n",
    "### How to Apply Class Weights in Transformers (PyTorch)\n",
    "Calculate class weights: Create a tensor of class weights inversely proportional to class frequencies.\n",
    "\n",
    "- Use weighted loss function: Pass the class weights to PyTorch's nn.CrossEntropyLoss(weight=class_weights). This makes the loss sensitive to class imbalance.\n",
    "\n",
    "Integrate with Hugging Face Trainer:\n",
    "\n",
    "Subclass the Trainer class.\n",
    "\n",
    "Override the compute_loss method to apply the weighted loss function instead of the default one.\n",
    "\n",
    "Example Code\n",
    "python\n",
    "import torch\n",
    "from torch import nn\n",
    "from transformers import Trainer\n",
    "\n",
    "# Define class weights as a torch tensor, for example:\n",
    "class_weights = torch.tensor([0.1, 0.3, 0.6], device='cuda')  # Replace with actual weights\n",
    "\n",
    "# Custom Trainer to use weighted loss\n",
    "```\n",
    "class CustomTrainer(Trainer):\n",
    "    def compute_loss(self, model, inputs, return_outputs=False):\n",
    "        labels = inputs.get(\"labels\")\n",
    "        outputs = model(**inputs)\n",
    "        logits = outputs.get('logits')\n",
    "        loss_fct = nn.CrossEntropyLoss(weight=class_weights)\n",
    "        loss = loss_fct(logits.view(-1, model.config.num_labels), labels.view(-1))\n",
    "        return (loss, outputs) if return_outputs else loss\n",
    "```\n",
    "\n",
    "This approach lets the transformer model focus more on minority classes by increasing their contribution to the loss during training. The class weights tensor should be calculated based on class frequencies from your dataset.\n",
    "\n",
    "This method is the standard way to apply class weights during transformer fine-tuning in PyTorch and Hugging Face Trainer.\n",
    "\n"
   ]
  },
  {
   "cell_type": "code",
   "execution_count": 57,
   "id": "b5d2b26d",
   "metadata": {
    "execution": {
     "iopub.execute_input": "2025-09-28T11:40:30.067296Z",
     "iopub.status.busy": "2025-09-28T11:40:30.066879Z",
     "iopub.status.idle": "2025-09-28T11:40:30.073091Z",
     "shell.execute_reply": "2025-09-28T11:40:30.072257Z"
    },
    "papermill": {
     "duration": 0.035523,
     "end_time": "2025-09-28T11:40:30.074367",
     "exception": false,
     "start_time": "2025-09-28T11:40:30.038844",
     "status": "completed"
    },
    "tags": []
   },
   "outputs": [
    {
     "data": {
      "text/plain": [
       "2960"
      ]
     },
     "execution_count": 57,
     "metadata": {},
     "output_type": "execute_result"
    }
   ],
   "source": [
    "sampleValue =  14802 //5\n",
    "sampleValue"
   ]
  },
  {
   "cell_type": "code",
   "execution_count": 58,
   "id": "21e6995a",
   "metadata": {
    "execution": {
     "iopub.execute_input": "2025-09-28T11:40:30.148617Z",
     "iopub.status.busy": "2025-09-28T11:40:30.148179Z",
     "iopub.status.idle": "2025-09-28T11:40:30.154437Z",
     "shell.execute_reply": "2025-09-28T11:40:30.153640Z"
    },
    "papermill": {
     "duration": 0.04745,
     "end_time": "2025-09-28T11:40:30.155553",
     "exception": false,
     "start_time": "2025-09-28T11:40:30.108103",
     "status": "completed"
    },
    "tags": []
   },
   "outputs": [
    {
     "data": {
      "text/plain": [
       "3"
      ]
     },
     "execution_count": 58,
     "metadata": {},
     "output_type": "execute_result"
    }
   ],
   "source": [
    "# median value = 50 \n",
    "(trainDF[\"label\"].value_counts() > sampleValue).sum() # number of class > 50 counts"
   ]
  },
  {
   "cell_type": "markdown",
   "id": "686766f1",
   "metadata": {
    "papermill": {
     "duration": 0.027349,
     "end_time": "2025-09-28T11:40:30.210100",
     "exception": false,
     "start_time": "2025-09-28T11:40:30.182751",
     "status": "completed"
    },
    "tags": []
   },
   "source": [
    "## Use Mix Undersample and Oversample Improve performance"
   ]
  },
  {
   "cell_type": "code",
   "execution_count": 59,
   "id": "4cbc37a4",
   "metadata": {
    "execution": {
     "iopub.execute_input": "2025-09-28T11:40:30.266633Z",
     "iopub.status.busy": "2025-09-28T11:40:30.265882Z",
     "iopub.status.idle": "2025-09-28T11:40:30.270277Z",
     "shell.execute_reply": "2025-09-28T11:40:30.269709Z"
    },
    "papermill": {
     "duration": 0.033608,
     "end_time": "2025-09-28T11:40:30.271414",
     "exception": false,
     "start_time": "2025-09-28T11:40:30.237806",
     "status": "completed"
    },
    "tags": []
   },
   "outputs": [],
   "source": [
    "# Assume df is your DataFrame and 'label' is your class column\n",
    "desired_count = sampleValue #50\n",
    "def resample_group_mix(group):\n",
    "    '''\n",
    "    Resample with hybird undersample and Oversample\n",
    "    '''\n",
    "    n = len(group)\n",
    "    if n > desired_count:\n",
    "        # Undersample if more than desired_count\n",
    "        return group.sample(n=desired_count, random_state=42)\n",
    "    elif n < desired_count:\n",
    "        # Oversample with replacement if less than desired_count\n",
    "        return group.sample(n=desired_count, replace=True, random_state=42)\n",
    "    else:\n",
    "        # Keep as is if exactly desired_count\n",
    "        return group"
   ]
  },
  {
   "cell_type": "code",
   "execution_count": 60,
   "id": "fbe03411",
   "metadata": {
    "execution": {
     "iopub.execute_input": "2025-09-28T11:40:30.326062Z",
     "iopub.status.busy": "2025-09-28T11:40:30.325481Z",
     "iopub.status.idle": "2025-09-28T11:40:30.329473Z",
     "shell.execute_reply": "2025-09-28T11:40:30.328786Z"
    },
    "papermill": {
     "duration": 0.031873,
     "end_time": "2025-09-28T11:40:30.330525",
     "exception": false,
     "start_time": "2025-09-28T11:40:30.298652",
     "status": "completed"
    },
    "tags": []
   },
   "outputs": [],
   "source": [
    "# conditional oversample \n",
    "oversample_count = 1000\n",
    "def resample_group_oversample(group):\n",
    "    '''\n",
    "    Resample with condition Oversample , keep major\n",
    "    '''\n",
    "    n = len(group)\n",
    "    if n < oversample_count:\n",
    "        # Oversample with replacement if less than desired_count\n",
    "        return group.sample(n=oversample_count, replace=True, random_state=42)\n",
    "    else:\n",
    "        # Keep as is if exactly desired_count\n",
    "        return group\n",
    "    "
   ]
  },
  {
   "cell_type": "code",
   "execution_count": 61,
   "id": "b69fe9a2",
   "metadata": {
    "execution": {
     "iopub.execute_input": "2025-09-28T11:40:30.383560Z",
     "iopub.status.busy": "2025-09-28T11:40:30.383355Z",
     "iopub.status.idle": "2025-09-28T11:40:30.437382Z",
     "shell.execute_reply": "2025-09-28T11:40:30.436443Z"
    },
    "papermill": {
     "duration": 0.081852,
     "end_time": "2025-09-28T11:40:30.438552",
     "exception": false,
     "start_time": "2025-09-28T11:40:30.356700",
     "status": "completed"
    },
    "tags": []
   },
   "outputs": [
    {
     "name": "stdout",
     "output_type": "stream",
     "text": [
      "label\n",
      "37    14802\n",
      "36     6542\n",
      "64     5265\n",
      "13     1446\n",
      "47     1000\n",
      "      ...  \n",
      "28     1000\n",
      "29     1000\n",
      "30     1000\n",
      "31     1000\n",
      "16     1000\n",
      "Name: count, Length: 65, dtype: int64\n"
     ]
    },
    {
     "name": "stderr",
     "output_type": "stream",
     "text": [
      "/tmp/ipykernel_19/4246594355.py:5: DeprecationWarning: DataFrameGroupBy.apply operated on the grouping columns. This behavior is deprecated, and in a future version of pandas the grouping columns will be excluded from the operation. Either pass `include_groups=False` to exclude the groupings or explicitly select the grouping columns after groupby to silence this warning.\n",
      "  trainDF_balanced = trainDF.groupby('label', group_keys=False).apply(resample_group_oversample)\n"
     ]
    }
   ],
   "source": [
    "#\n",
    "\n",
    "# Group by class and sample min(desired_count, current_count) from each class\n",
    "# trainDF_balanced = trainDF.groupby('label', group_keys=False).apply(lambda x: x.sample(n=min(len(x), desired_count), random_state=42))\n",
    "trainDF_balanced = trainDF.groupby('label', group_keys=False).apply(resample_group_oversample)\n",
    "\n",
    "print(trainDF_balanced['label'].value_counts())"
   ]
  },
  {
   "cell_type": "code",
   "execution_count": 62,
   "id": "ea152584",
   "metadata": {
    "execution": {
     "iopub.execute_input": "2025-09-28T11:40:30.498587Z",
     "iopub.status.busy": "2025-09-28T11:40:30.498179Z",
     "iopub.status.idle": "2025-09-28T11:40:30.504891Z",
     "shell.execute_reply": "2025-09-28T11:40:30.504121Z"
    },
    "papermill": {
     "duration": 0.037631,
     "end_time": "2025-09-28T11:40:30.506080",
     "exception": false,
     "start_time": "2025-09-28T11:40:30.468449",
     "status": "completed"
    },
    "scrolled": true,
    "tags": []
   },
   "outputs": [
    {
     "data": {
      "text/plain": [
       "label\n",
       "37    14802\n",
       "36     6542\n",
       "64     5265\n",
       "13     1446\n",
       "47     1000\n",
       "46     1000\n",
       "45     1000\n",
       "44     1000\n",
       "43     1000\n",
       "42     1000\n",
       "40     1000\n",
       "39     1000\n",
       "38     1000\n",
       "35     1000\n",
       "34     1000\n",
       "33     1000\n",
       "41     1000\n",
       "49     1000\n",
       "50     1000\n",
       "51     1000\n",
       "52     1000\n",
       "53     1000\n",
       "54     1000\n",
       "55     1000\n",
       "56     1000\n",
       "57     1000\n",
       "58     1000\n",
       "59     1000\n",
       "60     1000\n",
       "61     1000\n",
       "62     1000\n",
       "63     1000\n",
       "48     1000\n",
       "0      1000\n",
       "1      1000\n",
       "2      1000\n",
       "3      1000\n",
       "4      1000\n",
       "5      1000\n",
       "6      1000\n",
       "7      1000\n",
       "8      1000\n",
       "9      1000\n",
       "10     1000\n",
       "11     1000\n",
       "12     1000\n",
       "14     1000\n",
       "15     1000\n",
       "32     1000\n",
       "17     1000\n",
       "18     1000\n",
       "19     1000\n",
       "20     1000\n",
       "21     1000\n",
       "22     1000\n",
       "Name: count, dtype: int64"
      ]
     },
     "execution_count": 62,
     "metadata": {},
     "output_type": "execute_result"
    }
   ],
   "source": [
    "trainDF_balanced['label'].value_counts()[:55]"
   ]
  },
  {
   "cell_type": "code",
   "execution_count": 63,
   "id": "6daa4488",
   "metadata": {
    "execution": {
     "iopub.execute_input": "2025-09-28T11:40:30.605948Z",
     "iopub.status.busy": "2025-09-28T11:40:30.605703Z",
     "iopub.status.idle": "2025-09-28T11:40:31.057997Z",
     "shell.execute_reply": "2025-09-28T11:40:31.057204Z"
    },
    "papermill": {
     "duration": 0.525886,
     "end_time": "2025-09-28T11:40:31.059102",
     "exception": false,
     "start_time": "2025-09-28T11:40:30.533216",
     "status": "completed"
    },
    "tags": []
   },
   "outputs": [
    {
     "data": {
      "image/png": "[encoded data removed]",
      "text/plain": [
       "<Figure size 640x480 with 1 Axes>"
      ]
     },
     "metadata": {},
     "output_type": "display_data"
    }
   ],
   "source": [
    "trainDF_balanced['label'].value_counts().plot(kind=\"bar\", title=\"Distribution Label\");"
   ]
  },
  {
   "cell_type": "code",
   "execution_count": 64,
   "id": "cb435752",
   "metadata": {
    "execution": {
     "iopub.execute_input": "2025-09-28T11:40:31.115580Z",
     "iopub.status.busy": "2025-09-28T11:40:31.115193Z",
     "iopub.status.idle": "2025-09-28T11:40:31.130701Z",
     "shell.execute_reply": "2025-09-28T11:40:31.130163Z"
    },
    "papermill": {
     "duration": 0.044968,
     "end_time": "2025-09-28T11:40:31.131839",
     "exception": false,
     "start_time": "2025-09-28T11:40:31.086871",
     "status": "completed"
    },
    "tags": []
   },
   "outputs": [],
   "source": [
    "trainDF_balanced = trainDF_balanced.reset_index(drop=True)"
   ]
  },
  {
   "cell_type": "code",
   "execution_count": 65,
   "id": "66e29299",
   "metadata": {
    "execution": {
     "iopub.execute_input": "2025-09-28T11:40:31.188254Z",
     "iopub.status.busy": "2025-09-28T11:40:31.188029Z",
     "iopub.status.idle": "2025-09-28T11:40:31.199097Z",
     "shell.execute_reply": "2025-09-28T11:40:31.198398Z"
    },
    "papermill": {
     "duration": 0.039864,
     "end_time": "2025-09-28T11:40:31.200294",
     "exception": false,
     "start_time": "2025-09-28T11:40:31.160430",
     "status": "completed"
    },
    "tags": []
   },
   "outputs": [
    {
     "data": {
      "text/html": [
       "<div>\n",
       "<style scoped>\n",
       "    .dataframe tbody tr th:only-of-type {\n",
       "        vertical-align: middle;\n",
       "    }\n",
       "\n",
       "    .dataframe tbody tr th {\n",
       "        vertical-align: top;\n",
       "    }\n",
       "\n",
       "    .dataframe thead th {\n",
       "        text-align: right;\n",
       "    }\n",
       "</style>\n",
       "<table border=\"1\" class=\"dataframe\">\n",
       "  <thead>\n",
       "    <tr style=\"text-align: right;\">\n",
       "      <th></th>\n",
       "      <th>row_id</th>\n",
       "      <th>QuestionId</th>\n",
       "      <th>QuestionText</th>\n",
       "      <th>MC_Answer</th>\n",
       "      <th>StudentExplanation</th>\n",
       "      <th>Category</th>\n",
       "      <th>Misconception</th>\n",
       "      <th>target</th>\n",
       "      <th>label</th>\n",
       "      <th>is_correct</th>\n",
       "    </tr>\n",
       "  </thead>\n",
       "  <tbody>\n",
       "    <tr>\n",
       "      <th>0</th>\n",
       "      <td>14350</td>\n",
       "      <td>31778</td>\n",
       "      <td>\\( \\frac{A}{10}=\\frac{9}{15} \\) What is the va...</td>\n",
       "      <td>\\( 9 \\)</td>\n",
       "      <td>This is because youu can time both 10 and 15 t...</td>\n",
       "      <td>False_Correct</td>\n",
       "      <td>NA</td>\n",
       "      <td>False_Correct:NA</td>\n",
       "      <td>0</td>\n",
       "      <td>0</td>\n",
       "    </tr>\n",
       "    <tr>\n",
       "      <th>1</th>\n",
       "      <td>25280</td>\n",
       "      <td>33472</td>\n",
       "      <td>\\( \\frac{1}{3}+\\frac{2}{5}= \\)</td>\n",
       "      <td>\\( \\frac{11}{30} \\)</td>\n",
       "      <td>i know this because a common denominator is 15...</td>\n",
       "      <td>False_Correct</td>\n",
       "      <td>NA</td>\n",
       "      <td>False_Correct:NA</td>\n",
       "      <td>0</td>\n",
       "      <td>0</td>\n",
       "    </tr>\n",
       "    <tr>\n",
       "      <th>2</th>\n",
       "      <td>11228</td>\n",
       "      <td>31778</td>\n",
       "      <td>\\( \\frac{A}{10}=\\frac{9}{15} \\) What is the va...</td>\n",
       "      <td>\\( 3 \\)</td>\n",
       "      <td>i divided by 3 and timesed by 2</td>\n",
       "      <td>False_Correct</td>\n",
       "      <td>NA</td>\n",
       "      <td>False_Correct:NA</td>\n",
       "      <td>0</td>\n",
       "      <td>0</td>\n",
       "    </tr>\n",
       "    <tr>\n",
       "      <th>3</th>\n",
       "      <td>2945</td>\n",
       "      <td>31772</td>\n",
       "      <td>What fraction of the shape is not shaded? Give...</td>\n",
       "      <td>\\( \\frac{3}{9} \\)</td>\n",
       "      <td>3 outt of 9 are not-shaded. also 1/3</td>\n",
       "      <td>False_Correct</td>\n",
       "      <td>NA</td>\n",
       "      <td>False_Correct:NA</td>\n",
       "      <td>0</td>\n",
       "      <td>0</td>\n",
       "    </tr>\n",
       "    <tr>\n",
       "      <th>4</th>\n",
       "      <td>16143</td>\n",
       "      <td>32829</td>\n",
       "      <td>\\( 2 y=24 \\) What is the value of \\( y \\) ?</td>\n",
       "      <td>\\( 22 \\)</td>\n",
       "      <td>24%2=12\\n12  so the answer is 12 because the 2...</td>\n",
       "      <td>False_Correct</td>\n",
       "      <td>NA</td>\n",
       "      <td>False_Correct:NA</td>\n",
       "      <td>0</td>\n",
       "      <td>0</td>\n",
       "    </tr>\n",
       "    <tr>\n",
       "      <th>...</th>\n",
       "      <td>...</td>\n",
       "      <td>...</td>\n",
       "      <td>...</td>\n",
       "      <td>...</td>\n",
       "      <td>...</td>\n",
       "      <td>...</td>\n",
       "      <td>...</td>\n",
       "      <td>...</td>\n",
       "      <td>...</td>\n",
       "      <td>...</td>\n",
       "    </tr>\n",
       "    <tr>\n",
       "      <th>89050</th>\n",
       "      <td>36262</td>\n",
       "      <td>109465</td>\n",
       "      <td>The probability of an event occurring is \\( 0....</td>\n",
       "      <td>Likely</td>\n",
       "      <td>this is because a 9 out of 10 chance means tha...</td>\n",
       "      <td>True_Neither</td>\n",
       "      <td>NA</td>\n",
       "      <td>True_Neither:NA</td>\n",
       "      <td>64</td>\n",
       "      <td>1</td>\n",
       "    </tr>\n",
       "    <tr>\n",
       "      <th>89051</th>\n",
       "      <td>36271</td>\n",
       "      <td>109465</td>\n",
       "      <td>The probability of an event occurring is \\( 0....</td>\n",
       "      <td>Likely</td>\n",
       "      <td>this is your answer because 1 would be certain...</td>\n",
       "      <td>True_Neither</td>\n",
       "      <td>NA</td>\n",
       "      <td>True_Neither:NA</td>\n",
       "      <td>64</td>\n",
       "      <td>1</td>\n",
       "    </tr>\n",
       "    <tr>\n",
       "      <th>89052</th>\n",
       "      <td>36274</td>\n",
       "      <td>109465</td>\n",
       "      <td>The probability of an event occurring is \\( 0....</td>\n",
       "      <td>Likely</td>\n",
       "      <td>u can use the process of elimination because c...</td>\n",
       "      <td>True_Neither</td>\n",
       "      <td>NA</td>\n",
       "      <td>True_Neither:NA</td>\n",
       "      <td>64</td>\n",
       "      <td>1</td>\n",
       "    </tr>\n",
       "    <tr>\n",
       "      <th>89053</th>\n",
       "      <td>36276</td>\n",
       "      <td>109465</td>\n",
       "      <td>The probability of an event occurring is \\( 0....</td>\n",
       "      <td>Likely</td>\n",
       "      <td>very high probability however it's not certain</td>\n",
       "      <td>True_Neither</td>\n",
       "      <td>NA</td>\n",
       "      <td>True_Neither:NA</td>\n",
       "      <td>64</td>\n",
       "      <td>1</td>\n",
       "    </tr>\n",
       "    <tr>\n",
       "      <th>89054</th>\n",
       "      <td>36277</td>\n",
       "      <td>109465</td>\n",
       "      <td>The probability of an event occurring is \\( 0....</td>\n",
       "      <td>Likely</td>\n",
       "      <td>we should use likely because we dont know for ...</td>\n",
       "      <td>True_Neither</td>\n",
       "      <td>NA</td>\n",
       "      <td>True_Neither:NA</td>\n",
       "      <td>64</td>\n",
       "      <td>1</td>\n",
       "    </tr>\n",
       "  </tbody>\n",
       "</table>\n",
       "<p>89055 rows × 10 columns</p>\n",
       "</div>"
      ],
      "text/plain": [
       "       row_id  QuestionId                                       QuestionText  \\\n",
       "0       14350       31778  \\( \\frac{A}{10}=\\frac{9}{15} \\) What is the va...   \n",
       "1       25280       33472                     \\( \\frac{1}{3}+\\frac{2}{5}= \\)   \n",
       "2       11228       31778  \\( \\frac{A}{10}=\\frac{9}{15} \\) What is the va...   \n",
       "3        2945       31772  What fraction of the shape is not shaded? Give...   \n",
       "4       16143       32829        \\( 2 y=24 \\) What is the value of \\( y \\) ?   \n",
       "...       ...         ...                                                ...   \n",
       "89050   36262      109465  The probability of an event occurring is \\( 0....   \n",
       "89051   36271      109465  The probability of an event occurring is \\( 0....   \n",
       "89052   36274      109465  The probability of an event occurring is \\( 0....   \n",
       "89053   36276      109465  The probability of an event occurring is \\( 0....   \n",
       "89054   36277      109465  The probability of an event occurring is \\( 0....   \n",
       "\n",
       "                 MC_Answer                                 StudentExplanation  \\\n",
       "0                  \\( 9 \\)  This is because youu can time both 10 and 15 t...   \n",
       "1      \\( \\frac{11}{30} \\)  i know this because a common denominator is 15...   \n",
       "2                  \\( 3 \\)                    i divided by 3 and timesed by 2   \n",
       "3        \\( \\frac{3}{9} \\)               3 outt of 9 are not-shaded. also 1/3   \n",
       "4                 \\( 22 \\)  24%2=12\\n12  so the answer is 12 because the 2...   \n",
       "...                    ...                                                ...   \n",
       "89050               Likely  this is because a 9 out of 10 chance means tha...   \n",
       "89051               Likely  this is your answer because 1 would be certain...   \n",
       "89052               Likely  u can use the process of elimination because c...   \n",
       "89053               Likely     very high probability however it's not certain   \n",
       "89054               Likely  we should use likely because we dont know for ...   \n",
       "\n",
       "            Category Misconception            target  label  is_correct  \n",
       "0      False_Correct            NA  False_Correct:NA      0           0  \n",
       "1      False_Correct            NA  False_Correct:NA      0           0  \n",
       "2      False_Correct            NA  False_Correct:NA      0           0  \n",
       "3      False_Correct            NA  False_Correct:NA      0           0  \n",
       "4      False_Correct            NA  False_Correct:NA      0           0  \n",
       "...              ...           ...               ...    ...         ...  \n",
       "89050   True_Neither            NA   True_Neither:NA     64           1  \n",
       "89051   True_Neither            NA   True_Neither:NA     64           1  \n",
       "89052   True_Neither            NA   True_Neither:NA     64           1  \n",
       "89053   True_Neither            NA   True_Neither:NA     64           1  \n",
       "89054   True_Neither            NA   True_Neither:NA     64           1  \n",
       "\n",
       "[89055 rows x 10 columns]"
      ]
     },
     "execution_count": 65,
     "metadata": {},
     "output_type": "execute_result"
    }
   ],
   "source": [
    "trainDF_balanced"
   ]
  },
  {
   "cell_type": "code",
   "execution_count": 66,
   "id": "0beb5a99",
   "metadata": {
    "execution": {
     "iopub.execute_input": "2025-09-28T11:40:31.261735Z",
     "iopub.status.busy": "2025-09-28T11:40:31.261227Z",
     "iopub.status.idle": "2025-09-28T11:40:31.299856Z",
     "shell.execute_reply": "2025-09-28T11:40:31.299149Z"
    },
    "papermill": {
     "duration": 0.07164,
     "end_time": "2025-09-28T11:40:31.301182",
     "exception": false,
     "start_time": "2025-09-28T11:40:31.229542",
     "status": "completed"
    },
    "tags": []
   },
   "outputs": [
    {
     "data": {
      "text/plain": [
       "row_id                0\n",
       "QuestionId            0\n",
       "QuestionText          0\n",
       "MC_Answer             0\n",
       "StudentExplanation    0\n",
       "Category              0\n",
       "Misconception         0\n",
       "target                0\n",
       "label                 0\n",
       "is_correct            0\n",
       "dtype: int64"
      ]
     },
     "execution_count": 66,
     "metadata": {},
     "output_type": "execute_result"
    }
   ],
   "source": [
    "trainDF_balanced.isnull().sum() # null checking"
   ]
  },
  {
   "cell_type": "code",
   "execution_count": 67,
   "id": "0fadc284",
   "metadata": {
    "execution": {
     "iopub.execute_input": "2025-09-28T11:40:31.366490Z",
     "iopub.status.busy": "2025-09-28T11:40:31.366218Z",
     "iopub.status.idle": "2025-09-28T11:40:31.369689Z",
     "shell.execute_reply": "2025-09-28T11:40:31.368893Z"
    },
    "papermill": {
     "duration": 0.037497,
     "end_time": "2025-09-28T11:40:31.370851",
     "exception": false,
     "start_time": "2025-09-28T11:40:31.333354",
     "status": "completed"
    },
    "tags": []
   },
   "outputs": [],
   "source": [
    "# !pip uninstall protobuf\n",
    "# !pip install protobuf==3.20.3"
   ]
  },
  {
   "cell_type": "markdown",
   "id": "64ee8cd0",
   "metadata": {
    "papermill": {
     "duration": 0.029606,
     "end_time": "2025-09-28T11:40:31.431324",
     "exception": false,
     "start_time": "2025-09-28T11:40:31.401718",
     "status": "completed"
    },
    "tags": []
   },
   "source": [
    "## LLM inital"
   ]
  },
  {
   "cell_type": "code",
   "execution_count": 68,
   "id": "32d7c883",
   "metadata": {
    "execution": {
     "iopub.execute_input": "2025-09-28T11:40:31.487165Z",
     "iopub.status.busy": "2025-09-28T11:40:31.486922Z",
     "iopub.status.idle": "2025-09-28T11:40:31.491689Z",
     "shell.execute_reply": "2025-09-28T11:40:31.491012Z"
    },
    "papermill": {
     "duration": 0.033407,
     "end_time": "2025-09-28T11:40:31.492710",
     "exception": false,
     "start_time": "2025-09-28T11:40:31.459303",
     "status": "completed"
    },
    "tags": []
   },
   "outputs": [],
   "source": [
    "bnbConfig = BitsAndBytesConfig(\n",
    "            load_in_4bit=True,\n",
    "            bnb_4bit_quant_type=\"nf4\",\n",
    "            bnb_4bit_compute_dtype=torch.bfloat16,\n",
    "            bnb_4bit_use_double_quant=True ) # Activate netsed quantization for 4bit base "
   ]
  },
  {
   "cell_type": "code",
   "execution_count": 69,
   "id": "638f970e",
   "metadata": {
    "execution": {
     "iopub.execute_input": "2025-09-28T11:40:31.547198Z",
     "iopub.status.busy": "2025-09-28T11:40:31.546987Z",
     "iopub.status.idle": "2025-09-28T11:40:31.549930Z",
     "shell.execute_reply": "2025-09-28T11:40:31.549292Z"
    },
    "papermill": {
     "duration": 0.031487,
     "end_time": "2025-09-28T11:40:31.551197",
     "exception": false,
     "start_time": "2025-09-28T11:40:31.519710",
     "status": "completed"
    },
    "tags": []
   },
   "outputs": [],
   "source": [
    "# !pip install triton==3.4.0\n",
    "# !pip install triton==3.0.0\n",
    "# !pip install protobuf==6.30.2"
   ]
  },
  {
   "cell_type": "code",
   "execution_count": null,
   "id": "d4110aff",
   "metadata": {
    "papermill": {
     "duration": 0.026412,
     "end_time": "2025-09-28T11:40:31.604680",
     "exception": false,
     "start_time": "2025-09-28T11:40:31.578268",
     "status": "completed"
    },
    "tags": []
   },
   "outputs": [],
   "source": []
  },
  {
   "cell_type": "markdown",
   "id": "f4d153d8",
   "metadata": {
    "papermill": {
     "duration": 0.027776,
     "end_time": "2025-09-28T11:40:31.659323",
     "exception": false,
     "start_time": "2025-09-28T11:40:31.631547",
     "status": "completed"
    },
    "tags": []
   },
   "source": [
    "### Load LLM Model and Tokenizer"
   ]
  },
  {
   "cell_type": "code",
   "execution_count": 70,
   "id": "2c62496e",
   "metadata": {
    "execution": {
     "iopub.execute_input": "2025-09-28T11:40:31.725305Z",
     "iopub.status.busy": "2025-09-28T11:40:31.724884Z",
     "iopub.status.idle": "2025-09-28T11:40:35.039010Z",
     "shell.execute_reply": "2025-09-28T11:40:35.038337Z"
    },
    "papermill": {
     "duration": 3.342741,
     "end_time": "2025-09-28T11:40:35.040422",
     "exception": false,
     "start_time": "2025-09-28T11:40:31.697681",
     "status": "completed"
    },
    "tags": []
   },
   "outputs": [],
   "source": [
    "clearMemory()"
   ]
  },
  {
   "cell_type": "code",
   "execution_count": 71,
   "id": "3271207f",
   "metadata": {
    "execution": {
     "iopub.execute_input": "2025-09-28T11:40:35.103302Z",
     "iopub.status.busy": "2025-09-28T11:40:35.103045Z",
     "iopub.status.idle": "2025-09-28T11:40:35.107607Z",
     "shell.execute_reply": "2025-09-28T11:40:35.106991Z"
    },
    "papermill": {
     "duration": 0.034978,
     "end_time": "2025-09-28T11:40:35.108778",
     "exception": false,
     "start_time": "2025-09-28T11:40:35.073800",
     "status": "completed"
    },
    "tags": []
   },
   "outputs": [
    {
     "data": {
      "text/plain": [
       "'0.11.4'"
      ]
     },
     "execution_count": 71,
     "metadata": {},
     "output_type": "execute_result"
    }
   ],
   "source": [
    "# !pip install triton==3.0.0\n",
    "import trl\n",
    "trl.__version__"
   ]
  },
  {
   "cell_type": "code",
   "execution_count": 72,
   "id": "7927307c",
   "metadata": {
    "execution": {
     "iopub.execute_input": "2025-09-28T11:40:35.165794Z",
     "iopub.status.busy": "2025-09-28T11:40:35.165406Z",
     "iopub.status.idle": "2025-09-28T11:40:35.169650Z",
     "shell.execute_reply": "2025-09-28T11:40:35.168987Z"
    },
    "papermill": {
     "duration": 0.033161,
     "end_time": "2025-09-28T11:40:35.170661",
     "exception": false,
     "start_time": "2025-09-28T11:40:35.137500",
     "status": "completed"
    },
    "tags": []
   },
   "outputs": [
    {
     "data": {
      "text/plain": [
       "'3.2.0'"
      ]
     },
     "execution_count": 72,
     "metadata": {},
     "output_type": "execute_result"
    }
   ],
   "source": [
    "\n",
    "\n",
    "import triton\n",
    "\n",
    "triton.__version__"
   ]
  },
  {
   "cell_type": "code",
   "execution_count": 73,
   "id": "65a98080",
   "metadata": {
    "execution": {
     "iopub.execute_input": "2025-09-28T11:40:35.224873Z",
     "iopub.status.busy": "2025-09-28T11:40:35.224665Z",
     "iopub.status.idle": "2025-09-28T11:40:35.227490Z",
     "shell.execute_reply": "2025-09-28T11:40:35.227003Z"
    },
    "papermill": {
     "duration": 0.030845,
     "end_time": "2025-09-28T11:40:35.228503",
     "exception": false,
     "start_time": "2025-09-28T11:40:35.197658",
     "status": "completed"
    },
    "scrolled": true,
    "tags": []
   },
   "outputs": [],
   "source": [
    "# !pip install bitsandbytes==0.46.1"
   ]
  },
  {
   "cell_type": "code",
   "execution_count": 74,
   "id": "27f9f716",
   "metadata": {
    "execution": {
     "iopub.execute_input": "2025-09-28T11:40:35.283950Z",
     "iopub.status.busy": "2025-09-28T11:40:35.283727Z",
     "iopub.status.idle": "2025-09-28T11:40:35.993734Z",
     "shell.execute_reply": "2025-09-28T11:40:35.993161Z"
    },
    "papermill": {
     "duration": 0.739504,
     "end_time": "2025-09-28T11:40:35.995066",
     "exception": false,
     "start_time": "2025-09-28T11:40:35.255562",
     "status": "completed"
    },
    "tags": []
   },
   "outputs": [],
   "source": [
    "import bitsandbytes\n",
    "# bitsandbytes.__version__"
   ]
  },
  {
   "cell_type": "code",
   "execution_count": 75,
   "id": "0b7d880f",
   "metadata": {
    "execution": {
     "iopub.execute_input": "2025-09-28T11:40:36.051347Z",
     "iopub.status.busy": "2025-09-28T11:40:36.050754Z",
     "iopub.status.idle": "2025-09-28T11:40:36.054980Z",
     "shell.execute_reply": "2025-09-28T11:40:36.054400Z"
    },
    "papermill": {
     "duration": 0.032619,
     "end_time": "2025-09-28T11:40:36.056165",
     "exception": false,
     "start_time": "2025-09-28T11:40:36.023546",
     "status": "completed"
    },
    "scrolled": true,
    "tags": []
   },
   "outputs": [
    {
     "name": "stdout",
     "output_type": "stream",
     "text": [
      "Label to ID mapping: {'False_Correct:NA': 0, 'False_Misconception:Adding_across': 1, 'False_Misconception:Adding_terms': 2, 'False_Misconception:Additive': 3, 'False_Misconception:Base_rate': 4, 'False_Misconception:Certainty': 5, 'False_Misconception:Definition': 6, 'False_Misconception:Denominator-only_change': 7, 'False_Misconception:Division': 8, 'False_Misconception:Duplication': 9, 'False_Misconception:Firstterm': 10, 'False_Misconception:FlipChange': 11, 'False_Misconception:Ignores_zeroes': 12, 'False_Misconception:Incomplete': 13, 'False_Misconception:Incorrect_equivalent_fraction_addition': 14, 'False_Misconception:Interior': 15, 'False_Misconception:Inverse_operation': 16, 'False_Misconception:Inversion': 17, 'False_Misconception:Irrelevant': 18, 'False_Misconception:Longer_is_bigger': 19, 'False_Misconception:Mult': 20, 'False_Misconception:Multiplying_by_4': 21, 'False_Misconception:Not_variable': 22, 'False_Misconception:Positive': 23, 'False_Misconception:Scale': 24, 'False_Misconception:Shorter_is_bigger': 25, 'False_Misconception:Subtraction': 26, 'False_Misconception:SwapDividend': 27, 'False_Misconception:Tacking': 28, 'False_Misconception:Unknowable': 29, 'False_Misconception:WNB': 30, 'False_Misconception:Whole_numbers_larger': 31, 'False_Misconception:Wrong_Fraction': 32, 'False_Misconception:Wrong_Operation': 33, 'False_Misconception:Wrong_fraction': 34, 'False_Misconception:Wrong_term': 35, 'False_Neither:NA': 36, 'True_Correct:NA': 37, 'True_Misconception:Adding_across': 38, 'True_Misconception:Additive': 39, 'True_Misconception:Base_rate': 40, 'True_Misconception:Definition': 41, 'True_Misconception:Denominator-only_change': 42, 'True_Misconception:Division': 43, 'True_Misconception:Duplication': 44, 'True_Misconception:Firstterm': 45, 'True_Misconception:FlipChange': 46, 'True_Misconception:Incomplete': 47, 'True_Misconception:Incorrect_equivalent_fraction_addition': 48, 'True_Misconception:Inversion': 49, 'True_Misconception:Irrelevant': 50, 'True_Misconception:Longer_is_bigger': 51, 'True_Misconception:Mult': 52, 'True_Misconception:Multiplying_by_4': 53, 'True_Misconception:Not_variable': 54, 'True_Misconception:Positive': 55, 'True_Misconception:Shorter_is_bigger': 56, 'True_Misconception:Subtraction': 57, 'True_Misconception:SwapDividend': 58, 'True_Misconception:Tacking': 59, 'True_Misconception:WNB': 60, 'True_Misconception:Whole_numbers_larger': 61, 'True_Misconception:Wrong_fraction': 62, 'True_Misconception:Wrong_term': 63, 'True_Neither:NA': 64}\n"
     ]
    }
   ],
   "source": [
    "# Mapping from label to ID (label2id)\n",
    "label2id = {label: i for i, label in enumerate(le.classes_)}\n",
    "print(f\"Label to ID mapping: {label2id}\")"
   ]
  },
  {
   "cell_type": "code",
   "execution_count": 76,
   "id": "010f35ad",
   "metadata": {
    "execution": {
     "iopub.execute_input": "2025-09-28T11:40:36.110304Z",
     "iopub.status.busy": "2025-09-28T11:40:36.110101Z",
     "iopub.status.idle": "2025-09-28T11:40:36.114192Z",
     "shell.execute_reply": "2025-09-28T11:40:36.113595Z"
    },
    "papermill": {
     "duration": 0.032413,
     "end_time": "2025-09-28T11:40:36.115244",
     "exception": false,
     "start_time": "2025-09-28T11:40:36.082831",
     "status": "completed"
    },
    "scrolled": true,
    "tags": []
   },
   "outputs": [
    {
     "name": "stdout",
     "output_type": "stream",
     "text": [
      "ID to label mapping: {0: 'False_Correct:NA', 1: 'False_Misconception:Adding_across', 2: 'False_Misconception:Adding_terms', 3: 'False_Misconception:Additive', 4: 'False_Misconception:Base_rate', 5: 'False_Misconception:Certainty', 6: 'False_Misconception:Definition', 7: 'False_Misconception:Denominator-only_change', 8: 'False_Misconception:Division', 9: 'False_Misconception:Duplication', 10: 'False_Misconception:Firstterm', 11: 'False_Misconception:FlipChange', 12: 'False_Misconception:Ignores_zeroes', 13: 'False_Misconception:Incomplete', 14: 'False_Misconception:Incorrect_equivalent_fraction_addition', 15: 'False_Misconception:Interior', 16: 'False_Misconception:Inverse_operation', 17: 'False_Misconception:Inversion', 18: 'False_Misconception:Irrelevant', 19: 'False_Misconception:Longer_is_bigger', 20: 'False_Misconception:Mult', 21: 'False_Misconception:Multiplying_by_4', 22: 'False_Misconception:Not_variable', 23: 'False_Misconception:Positive', 24: 'False_Misconception:Scale', 25: 'False_Misconception:Shorter_is_bigger', 26: 'False_Misconception:Subtraction', 27: 'False_Misconception:SwapDividend', 28: 'False_Misconception:Tacking', 29: 'False_Misconception:Unknowable', 30: 'False_Misconception:WNB', 31: 'False_Misconception:Whole_numbers_larger', 32: 'False_Misconception:Wrong_Fraction', 33: 'False_Misconception:Wrong_Operation', 34: 'False_Misconception:Wrong_fraction', 35: 'False_Misconception:Wrong_term', 36: 'False_Neither:NA', 37: 'True_Correct:NA', 38: 'True_Misconception:Adding_across', 39: 'True_Misconception:Additive', 40: 'True_Misconception:Base_rate', 41: 'True_Misconception:Definition', 42: 'True_Misconception:Denominator-only_change', 43: 'True_Misconception:Division', 44: 'True_Misconception:Duplication', 45: 'True_Misconception:Firstterm', 46: 'True_Misconception:FlipChange', 47: 'True_Misconception:Incomplete', 48: 'True_Misconception:Incorrect_equivalent_fraction_addition', 49: 'True_Misconception:Inversion', 50: 'True_Misconception:Irrelevant', 51: 'True_Misconception:Longer_is_bigger', 52: 'True_Misconception:Mult', 53: 'True_Misconception:Multiplying_by_4', 54: 'True_Misconception:Not_variable', 55: 'True_Misconception:Positive', 56: 'True_Misconception:Shorter_is_bigger', 57: 'True_Misconception:Subtraction', 58: 'True_Misconception:SwapDividend', 59: 'True_Misconception:Tacking', 60: 'True_Misconception:WNB', 61: 'True_Misconception:Whole_numbers_larger', 62: 'True_Misconception:Wrong_fraction', 63: 'True_Misconception:Wrong_term', 64: 'True_Neither:NA'}\n"
     ]
    }
   ],
   "source": [
    "# Mapping from ID to label (id2label)\n",
    "id2label = {i: label for i, label in enumerate(le.classes_)}\n",
    "print(f\"ID to label mapping: {id2label}\")"
   ]
  },
  {
   "cell_type": "code",
   "execution_count": 77,
   "id": "aa8ab4d6",
   "metadata": {
    "execution": {
     "iopub.execute_input": "2025-09-28T11:40:36.172819Z",
     "iopub.status.busy": "2025-09-28T11:40:36.172644Z",
     "iopub.status.idle": "2025-09-28T11:41:40.435119Z",
     "shell.execute_reply": "2025-09-28T11:41:40.434280Z"
    },
    "papermill": {
     "duration": 64.292649,
     "end_time": "2025-09-28T11:41:40.436671",
     "exception": false,
     "start_time": "2025-09-28T11:40:36.144022",
     "status": "completed"
    },
    "tags": []
   },
   "outputs": [
    {
     "data": {
      "application/vnd.jupyter.widget-view+json": {
       "model_id": "8205b452f71e49969cde8cd85cc7becb",
       "version_major": 2,
       "version_minor": 0
      },
      "text/plain": [
       "Loading checkpoint shards:   0%|          | 0/2 [00:00<?, ?it/s]"
      ]
     },
     "metadata": {},
     "output_type": "display_data"
    },
    {
     "name": "stderr",
     "output_type": "stream",
     "text": [
      "Some weights of Qwen3ForSequenceClassification were not initialized from the model checkpoint at /kaggle/input/qwen-3-reranker/transformers/4b/1 and are newly initialized: ['score.weight']\n",
      "You should probably TRAIN this model on a down-stream task to be able to use it for predictions and inference.\n"
     ]
    }
   ],
   "source": [
    "if device.type == \"cuda\":\n",
    "    model = AutoModelForSequenceClassification.from_pretrained(\n",
    "        CFG.model2,  #CFG.model1, #CFG.model3,\n",
    "        num_labels= nClasses,\n",
    "        id2label =id2label,\n",
    "        label2id = label2id,\n",
    "        torch_dtype=torch.bfloat16,\n",
    "        device_map=\"auto\",\n",
    "        quantization_config= bnbConfig,\n",
    "        trust_remote_code=False,\n",
    "        problem_type=\"single_label_classification\", \n",
    "    )\n",
    "\n",
    "else: \n",
    "     model = AutoModelForSequenceClassification.from_pretrained(\n",
    "        CFG.model2,  #CFG.model1 #CFG.model3,\n",
    "        num_labels= nClasses,\n",
    "        id2label =id2label,\n",
    "        label2id = label2id,\n",
    "        device_map=\"auto\",\n",
    "        trust_remote_code=False,\n",
    "        problem_type=\"single_label_classification\", \n",
    "    )\n",
    "\n",
    "tokenizer = AutoTokenizer.from_pretrained(CFG.model2)\n",
    "tokenizer.pad_token = tokenizer.eos_token"
   ]
  },
  {
   "cell_type": "code",
   "execution_count": 78,
   "id": "881d56ce",
   "metadata": {
    "execution": {
     "iopub.execute_input": "2025-09-28T11:41:40.494511Z",
     "iopub.status.busy": "2025-09-28T11:41:40.493861Z",
     "iopub.status.idle": "2025-09-28T11:41:40.500695Z",
     "shell.execute_reply": "2025-09-28T11:41:40.500165Z"
    },
    "papermill": {
     "duration": 0.036173,
     "end_time": "2025-09-28T11:41:40.501657",
     "exception": false,
     "start_time": "2025-09-28T11:41:40.465484",
     "status": "completed"
    },
    "tags": []
   },
   "outputs": [
    {
     "data": {
      "text/plain": [
       "Qwen3ForSequenceClassification(\n",
       "  (model): Qwen3Model(\n",
       "    (embed_tokens): Embedding(151669, 2560)\n",
       "    (layers): ModuleList(\n",
       "      (0-35): 36 x Qwen3DecoderLayer(\n",
       "        (self_attn): Qwen3Attention(\n",
       "          (q_proj): Linear4bit(in_features=2560, out_features=4096, bias=False)\n",
       "          (k_proj): Linear4bit(in_features=2560, out_features=1024, bias=False)\n",
       "          (v_proj): Linear4bit(in_features=2560, out_features=1024, bias=False)\n",
       "          (o_proj): Linear4bit(in_features=4096, out_features=2560, bias=False)\n",
       "          (q_norm): Qwen3RMSNorm((128,), eps=1e-06)\n",
       "          (k_norm): Qwen3RMSNorm((128,), eps=1e-06)\n",
       "        )\n",
       "        (mlp): Qwen3MLP(\n",
       "          (gate_proj): Linear4bit(in_features=2560, out_features=9728, bias=False)\n",
       "          (up_proj): Linear4bit(in_features=2560, out_features=9728, bias=False)\n",
       "          (down_proj): Linear4bit(in_features=9728, out_features=2560, bias=False)\n",
       "          (act_fn): SiLU()\n",
       "        )\n",
       "        (input_layernorm): Qwen3RMSNorm((2560,), eps=1e-06)\n",
       "        (post_attention_layernorm): Qwen3RMSNorm((2560,), eps=1e-06)\n",
       "      )\n",
       "    )\n",
       "    (norm): Qwen3RMSNorm((2560,), eps=1e-06)\n",
       "    (rotary_emb): Qwen3RotaryEmbedding()\n",
       "  )\n",
       "  (score): Linear(in_features=2560, out_features=65, bias=False)\n",
       ")"
      ]
     },
     "execution_count": 78,
     "metadata": {},
     "output_type": "execute_result"
    }
   ],
   "source": [
    "model"
   ]
  },
  {
   "cell_type": "code",
   "execution_count": 79,
   "id": "f7c0101b",
   "metadata": {
    "execution": {
     "iopub.execute_input": "2025-09-28T11:41:40.557155Z",
     "iopub.status.busy": "2025-09-28T11:41:40.556917Z",
     "iopub.status.idle": "2025-09-28T11:41:40.560497Z",
     "shell.execute_reply": "2025-09-28T11:41:40.559950Z"
    },
    "papermill": {
     "duration": 0.032952,
     "end_time": "2025-09-28T11:41:40.561513",
     "exception": false,
     "start_time": "2025-09-28T11:41:40.528561",
     "status": "completed"
    },
    "tags": []
   },
   "outputs": [],
   "source": [
    "if CFG.DeepEval:\n",
    "    from deepeval.models.base_model import DeepEvalBaseLLM\n",
    "    from deepeval.test_case import LLMTestCase, LLMTestCaseParams\n",
    "    from deepeval.metrics import GEval\n",
    "    # from deepeval import evaluate\n",
    "    from deepeval.metrics import AnswerRelevancyMetric\n",
    "    # from deepeval.benchmarks import MMLU, HellaSwag, HumanEval,TruthfulQA\n",
    "    # from deepeval.benchmarks.tasks import HumanEvalTask, HellaSwagTask, MMLUTask, TruthfulQATask\n",
    "    # from deepeval.benchmarks.modes import TruthfulQAMode "
   ]
  },
  {
   "cell_type": "markdown",
   "id": "b8f5608a",
   "metadata": {
    "papermill": {
     "duration": 0.027154,
     "end_time": "2025-09-28T11:41:40.616026",
     "exception": false,
     "start_time": "2025-09-28T11:41:40.588872",
     "status": "completed"
    },
    "tags": []
   },
   "source": [
    "## Prepare Training Dataset"
   ]
  },
  {
   "cell_type": "code",
   "execution_count": 80,
   "id": "592aa454",
   "metadata": {
    "execution": {
     "iopub.execute_input": "2025-09-28T11:41:40.672045Z",
     "iopub.status.busy": "2025-09-28T11:41:40.671561Z",
     "iopub.status.idle": "2025-09-28T11:41:40.697699Z",
     "shell.execute_reply": "2025-09-28T11:41:40.697021Z"
    },
    "papermill": {
     "duration": 0.055125,
     "end_time": "2025-09-28T11:41:40.698795",
     "exception": false,
     "start_time": "2025-09-28T11:41:40.643670",
     "status": "completed"
    },
    "tags": []
   },
   "outputs": [
    {
     "data": {
      "text/html": [
       "<div>\n",
       "<style scoped>\n",
       "    .dataframe tbody tr th:only-of-type {\n",
       "        vertical-align: middle;\n",
       "    }\n",
       "\n",
       "    .dataframe tbody tr th {\n",
       "        vertical-align: top;\n",
       "    }\n",
       "\n",
       "    .dataframe thead th {\n",
       "        text-align: right;\n",
       "    }\n",
       "</style>\n",
       "<table border=\"1\" class=\"dataframe\">\n",
       "  <thead>\n",
       "    <tr style=\"text-align: right;\">\n",
       "      <th></th>\n",
       "      <th>row_id</th>\n",
       "      <th>QuestionId</th>\n",
       "      <th>QuestionText</th>\n",
       "      <th>MC_Answer</th>\n",
       "      <th>StudentExplanation</th>\n",
       "      <th>Category</th>\n",
       "      <th>Misconception</th>\n",
       "      <th>target</th>\n",
       "      <th>label</th>\n",
       "      <th>is_correct</th>\n",
       "    </tr>\n",
       "  </thead>\n",
       "  <tbody>\n",
       "    <tr>\n",
       "      <th>0</th>\n",
       "      <td>13385</td>\n",
       "      <td>31778</td>\n",
       "      <td>\\( \\frac{A}{10}=\\frac{9}{15} \\) What is the va...</td>\n",
       "      <td>\\( 6 \\)</td>\n",
       "      <td>I think this because in order to find a you mu...</td>\n",
       "      <td>True_Correct</td>\n",
       "      <td>NA</td>\n",
       "      <td>True_Correct:NA</td>\n",
       "      <td>37</td>\n",
       "      <td>1</td>\n",
       "    </tr>\n",
       "    <tr>\n",
       "      <th>1</th>\n",
       "      <td>34334</td>\n",
       "      <td>91695</td>\n",
       "      <td>Dots have been arranged in these patterns: [Im...</td>\n",
       "      <td>\\( 26 \\)</td>\n",
       "      <td>its 26 because it would become 6x4+2</td>\n",
       "      <td>True_Correct</td>\n",
       "      <td>NA</td>\n",
       "      <td>True_Correct:NA</td>\n",
       "      <td>37</td>\n",
       "      <td>1</td>\n",
       "    </tr>\n",
       "    <tr>\n",
       "      <th>2</th>\n",
       "      <td>5148</td>\n",
       "      <td>31774</td>\n",
       "      <td>Calculate \\( \\frac{1}{2} \\div 6 \\)</td>\n",
       "      <td>\\( 3 \\)</td>\n",
       "      <td>I think this because if half by 6 you just get...</td>\n",
       "      <td>False_Misconception</td>\n",
       "      <td>Mult</td>\n",
       "      <td>False_Misconception:Mult</td>\n",
       "      <td>20</td>\n",
       "      <td>0</td>\n",
       "    </tr>\n",
       "    <tr>\n",
       "      <th>3</th>\n",
       "      <td>7639</td>\n",
       "      <td>31774</td>\n",
       "      <td>Calculate \\( \\frac{1}{2} \\div 6 \\)</td>\n",
       "      <td>\\( \\frac{1}{3} \\)</td>\n",
       "      <td>i think this because 62=3 whichh means it is 1...</td>\n",
       "      <td>False_Misconception</td>\n",
       "      <td>FlipChange</td>\n",
       "      <td>False_Misconception:FlipChange</td>\n",
       "      <td>11</td>\n",
       "      <td>0</td>\n",
       "    </tr>\n",
       "    <tr>\n",
       "      <th>4</th>\n",
       "      <td>20140</td>\n",
       "      <td>32835</td>\n",
       "      <td>Which number is the greatest?</td>\n",
       "      <td>\\( 6 \\)</td>\n",
       "      <td>the overs look bigger but they go into decimals</td>\n",
       "      <td>False_Misconception</td>\n",
       "      <td>Longer_is_bigger</td>\n",
       "      <td>False_Misconception:Longer_is_bigger</td>\n",
       "      <td>19</td>\n",
       "      <td>0</td>\n",
       "    </tr>\n",
       "    <tr>\n",
       "      <th>...</th>\n",
       "      <td>...</td>\n",
       "      <td>...</td>\n",
       "      <td>...</td>\n",
       "      <td>...</td>\n",
       "      <td>...</td>\n",
       "      <td>...</td>\n",
       "      <td>...</td>\n",
       "      <td>...</td>\n",
       "      <td>...</td>\n",
       "      <td>...</td>\n",
       "    </tr>\n",
       "    <tr>\n",
       "      <th>89050</th>\n",
       "      <td>15189</td>\n",
       "      <td>32829</td>\n",
       "      <td>\\( 2 y=24 \\) What is the value of \\( y \\) ?</td>\n",
       "      <td>\\( 12 \\)</td>\n",
       "      <td>i think because 2*12is 24 so that's why im sor...</td>\n",
       "      <td>True_Misconception</td>\n",
       "      <td>Not_variable</td>\n",
       "      <td>True_Misconception:Not_variable</td>\n",
       "      <td>54</td>\n",
       "      <td>1</td>\n",
       "    </tr>\n",
       "    <tr>\n",
       "      <th>89051</th>\n",
       "      <td>36563</td>\n",
       "      <td>109465</td>\n",
       "      <td>The probability of an event occurring is \\( 0....</td>\n",
       "      <td>Unlikely</td>\n",
       "      <td>it has a 0.9 persent chance of happing</td>\n",
       "      <td>False_Misconception</td>\n",
       "      <td>Scale</td>\n",
       "      <td>False_Misconception:Scale</td>\n",
       "      <td>24</td>\n",
       "      <td>0</td>\n",
       "    </tr>\n",
       "    <tr>\n",
       "      <th>89052</th>\n",
       "      <td>10515</td>\n",
       "      <td>31777</td>\n",
       "      <td>A box contains \\( 120 \\) counters. The counter...</td>\n",
       "      <td>\\( 72 \\)</td>\n",
       "      <td>divide 120  by the denominator the times by th...</td>\n",
       "      <td>True_Correct</td>\n",
       "      <td>NA</td>\n",
       "      <td>True_Correct:NA</td>\n",
       "      <td>37</td>\n",
       "      <td>1</td>\n",
       "    </tr>\n",
       "    <tr>\n",
       "      <th>89053</th>\n",
       "      <td>19089</td>\n",
       "      <td>32833</td>\n",
       "      <td>Calculate \\( \\frac{2}{3} \\times 5 \\)</td>\n",
       "      <td>\\( \\frac{10}{15} \\)</td>\n",
       "      <td>times two and three by five</td>\n",
       "      <td>False_Misconception</td>\n",
       "      <td>Duplication</td>\n",
       "      <td>False_Misconception:Duplication</td>\n",
       "      <td>9</td>\n",
       "      <td>0</td>\n",
       "    </tr>\n",
       "    <tr>\n",
       "      <th>89054</th>\n",
       "      <td>23928</td>\n",
       "      <td>33472</td>\n",
       "      <td>\\( \\frac{1}{3}+\\frac{2}{5}= \\)</td>\n",
       "      <td>\\( \\frac{11}{15} \\)</td>\n",
       "      <td>because you add 5 to 6 to get 11 then out it o...</td>\n",
       "      <td>True_Misconception</td>\n",
       "      <td>Incorrect_equivalent_fraction_addition</td>\n",
       "      <td>True_Misconception:Incorrect_equivalent_fracti...</td>\n",
       "      <td>48</td>\n",
       "      <td>1</td>\n",
       "    </tr>\n",
       "  </tbody>\n",
       "</table>\n",
       "<p>89055 rows × 10 columns</p>\n",
       "</div>"
      ],
      "text/plain": [
       "       row_id  QuestionId                                       QuestionText  \\\n",
       "0       13385       31778  \\( \\frac{A}{10}=\\frac{9}{15} \\) What is the va...   \n",
       "1       34334       91695  Dots have been arranged in these patterns: [Im...   \n",
       "2        5148       31774                 Calculate \\( \\frac{1}{2} \\div 6 \\)   \n",
       "3        7639       31774                 Calculate \\( \\frac{1}{2} \\div 6 \\)   \n",
       "4       20140       32835                      Which number is the greatest?   \n",
       "...       ...         ...                                                ...   \n",
       "89050   15189       32829        \\( 2 y=24 \\) What is the value of \\( y \\) ?   \n",
       "89051   36563      109465  The probability of an event occurring is \\( 0....   \n",
       "89052   10515       31777  A box contains \\( 120 \\) counters. The counter...   \n",
       "89053   19089       32833               Calculate \\( \\frac{2}{3} \\times 5 \\)   \n",
       "89054   23928       33472                     \\( \\frac{1}{3}+\\frac{2}{5}= \\)   \n",
       "\n",
       "                 MC_Answer                                 StudentExplanation  \\\n",
       "0                  \\( 6 \\)  I think this because in order to find a you mu...   \n",
       "1                 \\( 26 \\)               its 26 because it would become 6x4+2   \n",
       "2                  \\( 3 \\)  I think this because if half by 6 you just get...   \n",
       "3        \\( \\frac{1}{3} \\)  i think this because 62=3 whichh means it is 1...   \n",
       "4                  \\( 6 \\)    the overs look bigger but they go into decimals   \n",
       "...                    ...                                                ...   \n",
       "89050             \\( 12 \\)  i think because 2*12is 24 so that's why im sor...   \n",
       "89051             Unlikely             it has a 0.9 persent chance of happing   \n",
       "89052             \\( 72 \\)  divide 120  by the denominator the times by th...   \n",
       "89053  \\( \\frac{10}{15} \\)                        times two and three by five   \n",
       "89054  \\( \\frac{11}{15} \\)  because you add 5 to 6 to get 11 then out it o...   \n",
       "\n",
       "                  Category                           Misconception  \\\n",
       "0             True_Correct                                      NA   \n",
       "1             True_Correct                                      NA   \n",
       "2      False_Misconception                                    Mult   \n",
       "3      False_Misconception                              FlipChange   \n",
       "4      False_Misconception                        Longer_is_bigger   \n",
       "...                    ...                                     ...   \n",
       "89050   True_Misconception                            Not_variable   \n",
       "89051  False_Misconception                                   Scale   \n",
       "89052         True_Correct                                      NA   \n",
       "89053  False_Misconception                             Duplication   \n",
       "89054   True_Misconception  Incorrect_equivalent_fraction_addition   \n",
       "\n",
       "                                                  target  label  is_correct  \n",
       "0                                        True_Correct:NA     37           1  \n",
       "1                                        True_Correct:NA     37           1  \n",
       "2                               False_Misconception:Mult     20           0  \n",
       "3                         False_Misconception:FlipChange     11           0  \n",
       "4                   False_Misconception:Longer_is_bigger     19           0  \n",
       "...                                                  ...    ...         ...  \n",
       "89050                    True_Misconception:Not_variable     54           1  \n",
       "89051                          False_Misconception:Scale     24           0  \n",
       "89052                                    True_Correct:NA     37           1  \n",
       "89053                    False_Misconception:Duplication      9           0  \n",
       "89054  True_Misconception:Incorrect_equivalent_fracti...     48           1  \n",
       "\n",
       "[89055 rows x 10 columns]"
      ]
     },
     "execution_count": 80,
     "metadata": {},
     "output_type": "execute_result"
    }
   ],
   "source": [
    "# Random Resample Dataset\n",
    "# trainDF = trainDF.sample(frac=1.0, replace=True)\n",
    "# trainDF = trainDF.reset_index(drop=True)\n",
    "# trainDF\n",
    "\n",
    "trainDF_balanced= trainDF_balanced.sample(frac=1.0, replace=True)\n",
    "trainDF_balanced = trainDF_balanced.reset_index(drop=True)\n",
    "trainDF_balanced"
   ]
  },
  {
   "cell_type": "code",
   "execution_count": 81,
   "id": "e6695622",
   "metadata": {
    "execution": {
     "iopub.execute_input": "2025-09-28T11:41:40.756629Z",
     "iopub.status.busy": "2025-09-28T11:41:40.756430Z",
     "iopub.status.idle": "2025-09-28T11:41:40.760358Z",
     "shell.execute_reply": "2025-09-28T11:41:40.759819Z"
    },
    "papermill": {
     "duration": 0.03422,
     "end_time": "2025-09-28T11:41:40.761392",
     "exception": false,
     "start_time": "2025-09-28T11:41:40.727172",
     "status": "completed"
    },
    "tags": []
   },
   "outputs": [],
   "source": [
    "PROMPT_FORMAT1 = \"\"\"\\\n",
    "You are an expert in identifying math misconceptions from student explanations.\n",
    "\n",
    "Question: {QuestionText}\n",
    "Answer: {MC_Answer}\n",
    "Correct: {Correct}\n",
    "Student Explanation: {StudentExplanation}\n",
    "\n",
    "Identify the specific type of math misconception in the student's explanation.\n",
    "Give a short, clear label for the misconception.\n",
    "\"\"\"\n",
    "\n",
    "PROMPT_FORMAT2 = \"\"\"\\\n",
    "You are an expert educational diagnostician specializing in identifying students' math misconceptions from their written explanations.\n",
    "Your task is to analyze the student's explanation and classify the specific type of misconception they demonstrate.\n",
    "\n",
    "Question: {QuestionText}\n",
    "Answer: {MC_Answer}\n",
    "Correct: {Correct}\n",
    "Student Explanation: {StudentExplanation}\n",
    "\n",
    "Based on the information above, identify and label the underlying math misconception in the student's explanation.\n",
    "Provide a clear and concise classification of the misconception type.\n",
    "\"\"\"\n",
    "\n",
    "PROMPT_FORMAT3 = \"\"\"\\\n",
    "You are an expert in analyzing students' answers to math problems and identifying specific types of misunderstandings.\n",
    "Given the following information, classify the student's misunderstanding.\n",
    "\n",
    "Question: {QuestionText}\n",
    "Answer: {MC_Answer}\n",
    "Correct: {Correct}\n",
    "Student Explanation: {StudentExplanation}\n",
    "\n",
    "Please determine the type of misunderstanding the student has.\n",
    "\"\"\"\n",
    "\n",
    "PROMPT_FORMAT4 = \"\"\"\\\n",
    "You are a specialist in identifying the types of misunderstandings that arise from students’ answers to math problems.\n",
    "Based on the information provided below, please determine what kind of misunderstanding the student has.\n",
    "\n",
    "Question: {QuestionText}\n",
    "Answer: {MC_Answer}\n",
    "Correct: {Correct}\n",
    "Student Explanation: {StudentExplanation}\n",
    "\"\"\""
   ]
  },
  {
   "cell_type": "code",
   "execution_count": 82,
   "id": "27a4d6ed",
   "metadata": {
    "execution": {
     "iopub.execute_input": "2025-09-28T11:41:40.817560Z",
     "iopub.status.busy": "2025-09-28T11:41:40.817347Z",
     "iopub.status.idle": "2025-09-28T11:41:40.821049Z",
     "shell.execute_reply": "2025-09-28T11:41:40.820500Z"
    },
    "papermill": {
     "duration": 0.03312,
     "end_time": "2025-09-28T11:41:40.822021",
     "exception": false,
     "start_time": "2025-09-28T11:41:40.788901",
     "status": "completed"
    },
    "tags": []
   },
   "outputs": [],
   "source": [
    "def generateTrainContent(row):\n",
    "    x= \"True\"\n",
    "    if not row[\"is_correct\"]:\n",
    "        x= \"False\"\n",
    "    return PROMPT_FORMAT3.format(\n",
    "        QuestionText=row['QuestionText'],\n",
    "        MC_Answer=row['MC_Answer'],\n",
    "        Correct=x,\n",
    "        StudentExplanation=row['StudentExplanation']\n",
    "        \n",
    "    )"
   ]
  },
  {
   "cell_type": "code",
   "execution_count": 83,
   "id": "b19ac40a",
   "metadata": {
    "execution": {
     "iopub.execute_input": "2025-09-28T11:41:40.876909Z",
     "iopub.status.busy": "2025-09-28T11:41:40.876711Z",
     "iopub.status.idle": "2025-09-28T11:41:41.830317Z",
     "shell.execute_reply": "2025-09-28T11:41:41.829716Z"
    },
    "papermill": {
     "duration": 0.982514,
     "end_time": "2025-09-28T11:41:41.831665",
     "exception": false,
     "start_time": "2025-09-28T11:41:40.849151",
     "status": "completed"
    },
    "tags": []
   },
   "outputs": [],
   "source": [
    "# trainDF[\"LLM_Content\"]= trainDF.apply(generateTrainContent, axis=1)\n",
    "trainDF_balanced[\"LLM_Content\"] = trainDF_balanced.apply(generateTrainContent, axis=1)"
   ]
  },
  {
   "cell_type": "code",
   "execution_count": 84,
   "id": "b85b2847",
   "metadata": {
    "execution": {
     "iopub.execute_input": "2025-09-28T11:41:41.891175Z",
     "iopub.status.busy": "2025-09-28T11:41:41.890891Z",
     "iopub.status.idle": "2025-09-28T11:41:41.895292Z",
     "shell.execute_reply": "2025-09-28T11:41:41.894708Z"
    },
    "papermill": {
     "duration": 0.035175,
     "end_time": "2025-09-28T11:41:41.896389",
     "exception": false,
     "start_time": "2025-09-28T11:41:41.861214",
     "status": "completed"
    },
    "tags": []
   },
   "outputs": [],
   "source": [
    "testDF[\"LLM_Content\"]= testDF.apply(generateTrainContent, axis=1)"
   ]
  },
  {
   "cell_type": "code",
   "execution_count": 85,
   "id": "92392661",
   "metadata": {
    "execution": {
     "iopub.execute_input": "2025-09-28T11:41:41.953411Z",
     "iopub.status.busy": "2025-09-28T11:41:41.952886Z",
     "iopub.status.idle": "2025-09-28T11:41:41.957118Z",
     "shell.execute_reply": "2025-09-28T11:41:41.956328Z"
    },
    "papermill": {
     "duration": 0.034395,
     "end_time": "2025-09-28T11:41:41.958134",
     "exception": false,
     "start_time": "2025-09-28T11:41:41.923739",
     "status": "completed"
    },
    "tags": []
   },
   "outputs": [
    {
     "name": "stdout",
     "output_type": "stream",
     "text": [
      "You are an expert in analyzing students' answers to math problems and identifying specific types of misunderstandings.\n",
      "Given the following information, classify the student's misunderstanding.\n",
      "\n",
      "Question: \\( \\frac{A}{10}=\\frac{9}{15} \\) What is the value of \\( A \\) ?\n",
      "Answer: \\( 6 \\)\n",
      "Correct: True\n",
      "Student Explanation: I think this because in order to find a you multiply 9 and 10 to get 90 then you'd find that you have 15a once you cross multiply. On both sides you divide by 15a to get that a=6\n",
      "\n",
      "Please determine the type of misunderstanding the student has.\n",
      "\n"
     ]
    }
   ],
   "source": [
    "# print one of example\n",
    "print(trainDF_balanced[\"LLM_Content\"].values[0])"
   ]
  },
  {
   "cell_type": "code",
   "execution_count": 86,
   "id": "6fae2996",
   "metadata": {
    "execution": {
     "iopub.execute_input": "2025-09-28T11:41:42.014374Z",
     "iopub.status.busy": "2025-09-28T11:41:42.014143Z",
     "iopub.status.idle": "2025-09-28T11:41:42.018272Z",
     "shell.execute_reply": "2025-09-28T11:41:42.017432Z"
    },
    "papermill": {
     "duration": 0.033316,
     "end_time": "2025-09-28T11:41:42.019308",
     "exception": false,
     "start_time": "2025-09-28T11:41:41.985992",
     "status": "completed"
    },
    "tags": []
   },
   "outputs": [
    {
     "name": "stdout",
     "output_type": "stream",
     "text": [
      "You are an expert in analyzing students' answers to math problems and identifying specific types of misunderstandings.\n",
      "Given the following information, classify the student's misunderstanding.\n",
      "\n",
      "Question: What fraction of the shape is not shaded? Give your answer in its simplest form. [Image: A triangle split into 9 equal smaller triangles. 6 of them are shaded.]\n",
      "Answer: \\( \\frac{1}{3} \\)\n",
      "Correct: True\n",
      "Student Explanation: I think that 1/3 is the answer, as it's the simplest form of 3/9.\n",
      "\n",
      "Please determine the type of misunderstanding the student has.\n",
      "\n"
     ]
    }
   ],
   "source": [
    "print(testDF[\"LLM_Content\"].values[0])"
   ]
  },
  {
   "cell_type": "markdown",
   "id": "c0240a00",
   "metadata": {
    "papermill": {
     "duration": 0.027259,
     "end_time": "2025-09-28T11:41:42.074197",
     "exception": false,
     "start_time": "2025-09-28T11:41:42.046938",
     "status": "completed"
    },
    "tags": []
   },
   "source": [
    "## lenght of the LLM conntent"
   ]
  },
  {
   "cell_type": "code",
   "execution_count": 87,
   "id": "4f44c336",
   "metadata": {
    "execution": {
     "iopub.execute_input": "2025-09-28T11:41:42.130107Z",
     "iopub.status.busy": "2025-09-28T11:41:42.129727Z",
     "iopub.status.idle": "2025-09-28T11:41:42.173354Z",
     "shell.execute_reply": "2025-09-28T11:41:42.172757Z"
    },
    "papermill": {
     "duration": 0.072488,
     "end_time": "2025-09-28T11:41:42.174375",
     "exception": false,
     "start_time": "2025-09-28T11:41:42.101887",
     "status": "completed"
    },
    "tags": []
   },
   "outputs": [
    {
     "data": {
      "text/plain": [
       "LLM_Content\n",
       "441    2031\n",
       "427    1735\n",
       "420    1706\n",
       "424    1590\n",
       "415    1293\n",
       "       ... \n",
       "372       1\n",
       "867       1\n",
       "886       1\n",
       "874       1\n",
       "736       1\n",
       "Name: count, Length: 401, dtype: int64"
      ]
     },
     "execution_count": 87,
     "metadata": {},
     "output_type": "execute_result"
    }
   ],
   "source": [
    "trainDF_balanced[\"LLM_Content\"].str.len().value_counts() # raw input character length"
   ]
  },
  {
   "cell_type": "code",
   "execution_count": 88,
   "id": "025d15c5",
   "metadata": {
    "execution": {
     "iopub.execute_input": "2025-09-28T11:41:42.234382Z",
     "iopub.status.busy": "2025-09-28T11:41:42.233895Z",
     "iopub.status.idle": "2025-09-28T11:42:09.766991Z",
     "shell.execute_reply": "2025-09-28T11:42:09.766308Z"
    },
    "papermill": {
     "duration": 27.564128,
     "end_time": "2025-09-28T11:42:09.768195",
     "exception": false,
     "start_time": "2025-09-28T11:41:42.204067",
     "status": "completed"
    },
    "tags": []
   },
   "outputs": [
    {
     "data": {
      "text/plain": [
       "count    89055.000000\n",
       "mean       110.705440\n",
       "std         21.001909\n",
       "min         69.000000\n",
       "25%         96.000000\n",
       "50%        108.000000\n",
       "75%        123.000000\n",
       "max        231.000000\n",
       "Name: Length, dtype: float64"
      ]
     },
     "execution_count": 88,
     "metadata": {},
     "output_type": "execute_result"
    }
   ],
   "source": [
    "# trainDF[\"Length\"] = trainDF[\"LLM_Content\"].str.len()\n",
    "trainDF_balanced[\"Length\"] = [len(tokenizer.encode(t, truncation=False)) for t in trainDF_balanced[\"LLM_Content\"]]\n",
    "\n",
    "trainDF_balanced[\"Length\"].describe()"
   ]
  },
  {
   "cell_type": "code",
   "execution_count": 89,
   "id": "e95dc755",
   "metadata": {
    "execution": {
     "iopub.execute_input": "2025-09-28T11:42:09.825892Z",
     "iopub.status.busy": "2025-09-28T11:42:09.825661Z",
     "iopub.status.idle": "2025-09-28T11:42:10.019250Z",
     "shell.execute_reply": "2025-09-28T11:42:10.018494Z"
    },
    "papermill": {
     "duration": 0.223337,
     "end_time": "2025-09-28T11:42:10.020411",
     "exception": false,
     "start_time": "2025-09-28T11:42:09.797074",
     "status": "completed"
    },
    "tags": []
   },
   "outputs": [
    {
     "data": {
      "image/png": "[encoded data removed]",
      "text/plain": [
       "<Figure size 640x480 with 1 Axes>"
      ]
     },
     "metadata": {},
     "output_type": "display_data"
    }
   ],
   "source": [
    "trainDF_balanced[\"Length\"].plot(kind='hist', bins=50, subplots=True,sharex=True,sharey=True, title='LLM Content Length Distribution');"
   ]
  },
  {
   "cell_type": "code",
   "execution_count": 90,
   "id": "30140090",
   "metadata": {
    "execution": {
     "iopub.execute_input": "2025-09-28T11:42:10.085183Z",
     "iopub.status.busy": "2025-09-28T11:42:10.084883Z",
     "iopub.status.idle": "2025-09-28T11:42:10.089701Z",
     "shell.execute_reply": "2025-09-28T11:42:10.088987Z"
    },
    "papermill": {
     "duration": 0.042197,
     "end_time": "2025-09-28T11:42:10.091137",
     "exception": false,
     "start_time": "2025-09-28T11:42:10.048940",
     "status": "completed"
    },
    "tags": []
   },
   "outputs": [
    {
     "name": "stdout",
     "output_type": "stream",
     "text": [
      "There are 0 train sample(s) with more than 384 tokens\n"
     ]
    }
   ],
   "source": [
    "MAX_LEN = 384 #512 #256 #512\n",
    "L = (np.array(trainDF_balanced[\"Length\"])>MAX_LEN).sum()\n",
    "print(f\"There are {L} train sample(s) with more than {MAX_LEN} tokens\")"
   ]
  },
  {
   "cell_type": "markdown",
   "id": "46eaebd0",
   "metadata": {
    "execution": {
     "iopub.execute_input": "2025-08-12T14:48:14.784040Z",
     "iopub.status.busy": "2025-08-12T14:48:14.783703Z",
     "iopub.status.idle": "2025-08-12T14:48:14.788666Z",
     "shell.execute_reply": "2025-08-12T14:48:14.787640Z",
     "shell.execute_reply.started": "2025-08-12T14:48:14.784018Z"
    },
    "papermill": {
     "duration": 0.033851,
     "end_time": "2025-09-28T11:42:10.160286",
     "exception": false,
     "start_time": "2025-09-28T11:42:10.126435",
     "status": "completed"
    },
    "tags": []
   },
   "source": [
    "### MAX window size 256 is suitable for training "
   ]
  },
  {
   "cell_type": "markdown",
   "id": "cf733aaf",
   "metadata": {
    "papermill": {
     "duration": 0.027944,
     "end_time": "2025-09-28T11:42:10.216541",
     "exception": false,
     "start_time": "2025-09-28T11:42:10.188597",
     "status": "completed"
    },
    "tags": []
   },
   "source": [
    "## Create Dataset"
   ]
  },
  {
   "cell_type": "code",
   "execution_count": 91,
   "id": "dbb789f4",
   "metadata": {
    "execution": {
     "iopub.execute_input": "2025-09-28T11:42:10.274098Z",
     "iopub.status.busy": "2025-09-28T11:42:10.273485Z",
     "iopub.status.idle": "2025-09-28T11:42:10.278187Z",
     "shell.execute_reply": "2025-09-28T11:42:10.277657Z"
    },
    "papermill": {
     "duration": 0.034886,
     "end_time": "2025-09-28T11:42:10.279167",
     "exception": false,
     "start_time": "2025-09-28T11:42:10.244281",
     "status": "completed"
    },
    "tags": []
   },
   "outputs": [
    {
     "data": {
      "text/plain": [
       "(89055, 75697)"
      ]
     },
     "execution_count": 91,
     "metadata": {},
     "output_type": "execute_result"
    }
   ],
   "source": [
    "len(trainDF_balanced) , round(len(trainDF_balanced) * 0.85) # check train data size"
   ]
  },
  {
   "cell_type": "code",
   "execution_count": 92,
   "id": "a27262da",
   "metadata": {
    "execution": {
     "iopub.execute_input": "2025-09-28T11:42:10.336174Z",
     "iopub.status.busy": "2025-09-28T11:42:10.335906Z",
     "iopub.status.idle": "2025-09-28T11:42:10.340300Z",
     "shell.execute_reply": "2025-09-28T11:42:10.339615Z"
    },
    "papermill": {
     "duration": 0.033982,
     "end_time": "2025-09-28T11:42:10.341454",
     "exception": false,
     "start_time": "2025-09-28T11:42:10.307472",
     "status": "completed"
    },
    "tags": []
   },
   "outputs": [
    {
     "data": {
      "text/plain": [
       "89055"
      ]
     },
     "execution_count": 92,
     "metadata": {},
     "output_type": "execute_result"
    }
   ],
   "source": [
    "totalTrainSize= len(trainDF_balanced)\n",
    "totalTrainSize"
   ]
  },
  {
   "cell_type": "code",
   "execution_count": 93,
   "id": "167e601f",
   "metadata": {
    "execution": {
     "iopub.execute_input": "2025-09-28T11:42:10.401670Z",
     "iopub.status.busy": "2025-09-28T11:42:10.401455Z",
     "iopub.status.idle": "2025-09-28T11:42:10.405842Z",
     "shell.execute_reply": "2025-09-28T11:42:10.405158Z"
    },
    "papermill": {
     "duration": 0.03636,
     "end_time": "2025-09-28T11:42:10.406948",
     "exception": false,
     "start_time": "2025-09-28T11:42:10.370588",
     "status": "completed"
    },
    "tags": []
   },
   "outputs": [
    {
     "data": {
      "text/plain": [
       "89005"
      ]
     },
     "execution_count": 93,
     "metadata": {},
     "output_type": "execute_result"
    }
   ],
   "source": [
    "setMaxTrainData = totalTrainSize - CFG.valDatasetSize\n",
    "setMaxTrainData"
   ]
  },
  {
   "cell_type": "code",
   "execution_count": null,
   "id": "ef35c4d6",
   "metadata": {
    "papermill": {
     "duration": 0.027867,
     "end_time": "2025-09-28T11:42:10.463541",
     "exception": false,
     "start_time": "2025-09-28T11:42:10.435674",
     "status": "completed"
    },
    "tags": []
   },
   "outputs": [],
   "source": []
  },
  {
   "cell_type": "markdown",
   "id": "89734525",
   "metadata": {
    "papermill": {
     "duration": 0.027922,
     "end_time": "2025-09-28T11:42:10.519749",
     "exception": false,
     "start_time": "2025-09-28T11:42:10.491827",
     "status": "completed"
    },
    "tags": []
   },
   "source": [
    "### Create Dataset for Train/Validation"
   ]
  },
  {
   "cell_type": "code",
   "execution_count": 94,
   "id": "7f124fb2",
   "metadata": {
    "execution": {
     "iopub.execute_input": "2025-09-28T11:42:10.576730Z",
     "iopub.status.busy": "2025-09-28T11:42:10.576243Z",
     "iopub.status.idle": "2025-09-28T11:42:10.604814Z",
     "shell.execute_reply": "2025-09-28T11:42:10.604090Z"
    },
    "papermill": {
     "duration": 0.058484,
     "end_time": "2025-09-28T11:42:10.606225",
     "exception": false,
     "start_time": "2025-09-28T11:42:10.547741",
     "status": "completed"
    },
    "tags": []
   },
   "outputs": [],
   "source": [
    "# tempTrainDF = trainDF[:setMaxTrainData]\n",
    "# tempValDF = trainDF[setMaxTrainData:] \n",
    "\n",
    "\n",
    "# tempTrainDF , tempValDF = train_test_split(trainDF_balanced , stratify= trainDF[\"is_correct\"], test_size=CFG.test_size, random_state=42)\n",
    "tempTrainDF , tempValDF = train_test_split(trainDF_balanced ,  test_size=CFG.test_size, random_state=42)"
   ]
  },
  {
   "cell_type": "code",
   "execution_count": 95,
   "id": "8bb37a9f",
   "metadata": {
    "execution": {
     "iopub.execute_input": "2025-09-28T11:42:10.666763Z",
     "iopub.status.busy": "2025-09-28T11:42:10.666355Z",
     "iopub.status.idle": "2025-09-28T11:42:10.677859Z",
     "shell.execute_reply": "2025-09-28T11:42:10.677227Z"
    },
    "papermill": {
     "duration": 0.042189,
     "end_time": "2025-09-28T11:42:10.678814",
     "exception": false,
     "start_time": "2025-09-28T11:42:10.636625",
     "status": "completed"
    },
    "tags": []
   },
   "outputs": [
    {
     "data": {
      "text/html": [
       "<div>\n",
       "<style scoped>\n",
       "    .dataframe tbody tr th:only-of-type {\n",
       "        vertical-align: middle;\n",
       "    }\n",
       "\n",
       "    .dataframe tbody tr th {\n",
       "        vertical-align: top;\n",
       "    }\n",
       "\n",
       "    .dataframe thead th {\n",
       "        text-align: right;\n",
       "    }\n",
       "</style>\n",
       "<table border=\"1\" class=\"dataframe\">\n",
       "  <thead>\n",
       "    <tr style=\"text-align: right;\">\n",
       "      <th></th>\n",
       "      <th>row_id</th>\n",
       "      <th>QuestionId</th>\n",
       "      <th>QuestionText</th>\n",
       "      <th>MC_Answer</th>\n",
       "      <th>StudentExplanation</th>\n",
       "      <th>Category</th>\n",
       "      <th>Misconception</th>\n",
       "      <th>target</th>\n",
       "      <th>label</th>\n",
       "      <th>is_correct</th>\n",
       "      <th>LLM_Content</th>\n",
       "      <th>Length</th>\n",
       "    </tr>\n",
       "  </thead>\n",
       "  <tbody>\n",
       "    <tr>\n",
       "      <th>38252</th>\n",
       "      <td>5898</td>\n",
       "      <td>31774</td>\n",
       "      <td>Calculate \\( \\frac{1}{2} \\div 6 \\)</td>\n",
       "      <td>\\( \\frac{1}{12} \\)</td>\n",
       "      <td>Because you times 6/1 by 1/2 and then I get th...</td>\n",
       "      <td>True_Misconception</td>\n",
       "      <td>Mult</td>\n",
       "      <td>True_Misconception:Mult</td>\n",
       "      <td>52</td>\n",
       "      <td>1</td>\n",
       "      <td>You are an expert in analyzing students' answe...</td>\n",
       "      <td>97</td>\n",
       "    </tr>\n",
       "    <tr>\n",
       "      <th>2997</th>\n",
       "      <td>16379</td>\n",
       "      <td>32829</td>\n",
       "      <td>\\( 2 y=24 \\) What is the value of \\( y \\) ?</td>\n",
       "      <td>\\( 4 \\)</td>\n",
       "      <td>because 2y = 24 and 4 is the value of y</td>\n",
       "      <td>False_Misconception</td>\n",
       "      <td>Not_variable</td>\n",
       "      <td>False_Misconception:Not_variable</td>\n",
       "      <td>22</td>\n",
       "      <td>0</td>\n",
       "      <td>You are an expert in analyzing students' answe...</td>\n",
       "      <td>93</td>\n",
       "    </tr>\n",
       "    <tr>\n",
       "      <th>66308</th>\n",
       "      <td>7284</td>\n",
       "      <td>31774</td>\n",
       "      <td>Calculate \\( \\frac{1}{2} \\div 6 \\)</td>\n",
       "      <td>\\( \\frac{1}{12} \\)</td>\n",
       "      <td>its a because it is half of 6</td>\n",
       "      <td>True_Misconception</td>\n",
       "      <td>Mult</td>\n",
       "      <td>True_Misconception:Mult</td>\n",
       "      <td>52</td>\n",
       "      <td>1</td>\n",
       "      <td>You are an expert in analyzing students' answe...</td>\n",
       "      <td>88</td>\n",
       "    </tr>\n",
       "    <tr>\n",
       "      <th>65630</th>\n",
       "      <td>5423</td>\n",
       "      <td>31774</td>\n",
       "      <td>Calculate \\( \\frac{1}{2} \\div 6 \\)</td>\n",
       "      <td>\\( 3 \\)</td>\n",
       "      <td>i think this because it is basically saying wh...</td>\n",
       "      <td>False_Misconception</td>\n",
       "      <td>Mult</td>\n",
       "      <td>False_Misconception:Mult</td>\n",
       "      <td>20</td>\n",
       "      <td>0</td>\n",
       "      <td>You are an expert in analyzing students' answe...</td>\n",
       "      <td>92</td>\n",
       "    </tr>\n",
       "    <tr>\n",
       "      <th>47822</th>\n",
       "      <td>29132</td>\n",
       "      <td>76870</td>\n",
       "      <td>This is part of a regular polygon. How many si...</td>\n",
       "      <td>\\( 5 \\)</td>\n",
       "      <td>i know that poly means 5 and a polygon has 5 s...</td>\n",
       "      <td>False_Misconception</td>\n",
       "      <td>Definition</td>\n",
       "      <td>False_Misconception:Definition</td>\n",
       "      <td>6</td>\n",
       "      <td>0</td>\n",
       "      <td>You are an expert in analyzing students' answe...</td>\n",
       "      <td>121</td>\n",
       "    </tr>\n",
       "    <tr>\n",
       "      <th>...</th>\n",
       "      <td>...</td>\n",
       "      <td>...</td>\n",
       "      <td>...</td>\n",
       "      <td>...</td>\n",
       "      <td>...</td>\n",
       "      <td>...</td>\n",
       "      <td>...</td>\n",
       "      <td>...</td>\n",
       "      <td>...</td>\n",
       "      <td>...</td>\n",
       "      <td>...</td>\n",
       "      <td>...</td>\n",
       "    </tr>\n",
       "    <tr>\n",
       "      <th>6265</th>\n",
       "      <td>5293</td>\n",
       "      <td>31774</td>\n",
       "      <td>Calculate \\( \\frac{1}{2} \\div 6 \\)</td>\n",
       "      <td>\\( 3 \\)</td>\n",
       "      <td>because half of six is 3</td>\n",
       "      <td>False_Misconception</td>\n",
       "      <td>Mult</td>\n",
       "      <td>False_Misconception:Mult</td>\n",
       "      <td>20</td>\n",
       "      <td>0</td>\n",
       "      <td>You are an expert in analyzing students' answe...</td>\n",
       "      <td>80</td>\n",
       "    </tr>\n",
       "    <tr>\n",
       "      <th>54886</th>\n",
       "      <td>14273</td>\n",
       "      <td>31778</td>\n",
       "      <td>\\( \\frac{A}{10}=\\frac{9}{15} \\) What is the va...</td>\n",
       "      <td>\\( 9 \\)</td>\n",
       "      <td>9 is  A because it says that it equals 9 .</td>\n",
       "      <td>False_Misconception</td>\n",
       "      <td>WNB</td>\n",
       "      <td>False_Misconception:WNB</td>\n",
       "      <td>30</td>\n",
       "      <td>0</td>\n",
       "      <td>You are an expert in analyzing students' answe...</td>\n",
       "      <td>100</td>\n",
       "    </tr>\n",
       "    <tr>\n",
       "      <th>76820</th>\n",
       "      <td>11972</td>\n",
       "      <td>31778</td>\n",
       "      <td>\\( \\frac{A}{10}=\\frac{9}{15} \\) What is the va...</td>\n",
       "      <td>\\( 4 \\)</td>\n",
       "      <td>To get to 10 to 15 you divide by 2, times by 3...</td>\n",
       "      <td>False_Correct</td>\n",
       "      <td>NA</td>\n",
       "      <td>False_Correct:NA</td>\n",
       "      <td>0</td>\n",
       "      <td>0</td>\n",
       "      <td>You are an expert in analyzing students' answe...</td>\n",
       "      <td>117</td>\n",
       "    </tr>\n",
       "    <tr>\n",
       "      <th>860</th>\n",
       "      <td>33969</td>\n",
       "      <td>91695</td>\n",
       "      <td>Dots have been arranged in these patterns: [Im...</td>\n",
       "      <td>\\( 26 \\)</td>\n",
       "      <td>i guessed this because it goes up in a pattern...</td>\n",
       "      <td>True_Neither</td>\n",
       "      <td>NA</td>\n",
       "      <td>True_Neither:NA</td>\n",
       "      <td>64</td>\n",
       "      <td>1</td>\n",
       "      <td>You are an expert in analyzing students' answe...</td>\n",
       "      <td>148</td>\n",
       "    </tr>\n",
       "    <tr>\n",
       "      <th>15795</th>\n",
       "      <td>27172</td>\n",
       "      <td>33474</td>\n",
       "      <td>Sally has \\( \\frac{2}{3} \\) of a whole cake in...</td>\n",
       "      <td>\\( \\frac{2}{3} \\div \\frac{1}{3} \\)</td>\n",
       "      <td>timsing is the same as \"of\" so when they say 1...</td>\n",
       "      <td>False_Correct</td>\n",
       "      <td>NA</td>\n",
       "      <td>False_Correct:NA</td>\n",
       "      <td>0</td>\n",
       "      <td>0</td>\n",
       "      <td>You are an expert in analyzing students' answe...</td>\n",
       "      <td>166</td>\n",
       "    </tr>\n",
       "  </tbody>\n",
       "</table>\n",
       "<p>88965 rows × 12 columns</p>\n",
       "</div>"
      ],
      "text/plain": [
       "       row_id  QuestionId                                       QuestionText  \\\n",
       "38252    5898       31774                 Calculate \\( \\frac{1}{2} \\div 6 \\)   \n",
       "2997    16379       32829        \\( 2 y=24 \\) What is the value of \\( y \\) ?   \n",
       "66308    7284       31774                 Calculate \\( \\frac{1}{2} \\div 6 \\)   \n",
       "65630    5423       31774                 Calculate \\( \\frac{1}{2} \\div 6 \\)   \n",
       "47822   29132       76870  This is part of a regular polygon. How many si...   \n",
       "...       ...         ...                                                ...   \n",
       "6265     5293       31774                 Calculate \\( \\frac{1}{2} \\div 6 \\)   \n",
       "54886   14273       31778  \\( \\frac{A}{10}=\\frac{9}{15} \\) What is the va...   \n",
       "76820   11972       31778  \\( \\frac{A}{10}=\\frac{9}{15} \\) What is the va...   \n",
       "860     33969       91695  Dots have been arranged in these patterns: [Im...   \n",
       "15795   27172       33474  Sally has \\( \\frac{2}{3} \\) of a whole cake in...   \n",
       "\n",
       "                                MC_Answer  \\\n",
       "38252                  \\( \\frac{1}{12} \\)   \n",
       "2997                              \\( 4 \\)   \n",
       "66308                  \\( \\frac{1}{12} \\)   \n",
       "65630                             \\( 3 \\)   \n",
       "47822                             \\( 5 \\)   \n",
       "...                                   ...   \n",
       "6265                              \\( 3 \\)   \n",
       "54886                             \\( 9 \\)   \n",
       "76820                             \\( 4 \\)   \n",
       "860                              \\( 26 \\)   \n",
       "15795  \\( \\frac{2}{3} \\div \\frac{1}{3} \\)   \n",
       "\n",
       "                                      StudentExplanation             Category  \\\n",
       "38252  Because you times 6/1 by 1/2 and then I get th...   True_Misconception   \n",
       "2997             because 2y = 24 and 4 is the value of y  False_Misconception   \n",
       "66308                      its a because it is half of 6   True_Misconception   \n",
       "65630  i think this because it is basically saying wh...  False_Misconception   \n",
       "47822  i know that poly means 5 and a polygon has 5 s...  False_Misconception   \n",
       "...                                                  ...                  ...   \n",
       "6265                            because half of six is 3  False_Misconception   \n",
       "54886         9 is  A because it says that it equals 9 .  False_Misconception   \n",
       "76820  To get to 10 to 15 you divide by 2, times by 3...        False_Correct   \n",
       "860    i guessed this because it goes up in a pattern...         True_Neither   \n",
       "15795  timsing is the same as \"of\" so when they say 1...        False_Correct   \n",
       "\n",
       "      Misconception                            target  label  is_correct  \\\n",
       "38252          Mult           True_Misconception:Mult     52           1   \n",
       "2997   Not_variable  False_Misconception:Not_variable     22           0   \n",
       "66308          Mult           True_Misconception:Mult     52           1   \n",
       "65630          Mult          False_Misconception:Mult     20           0   \n",
       "47822    Definition    False_Misconception:Definition      6           0   \n",
       "...             ...                               ...    ...         ...   \n",
       "6265           Mult          False_Misconception:Mult     20           0   \n",
       "54886           WNB           False_Misconception:WNB     30           0   \n",
       "76820            NA                  False_Correct:NA      0           0   \n",
       "860              NA                   True_Neither:NA     64           1   \n",
       "15795            NA                  False_Correct:NA      0           0   \n",
       "\n",
       "                                             LLM_Content  Length  \n",
       "38252  You are an expert in analyzing students' answe...      97  \n",
       "2997   You are an expert in analyzing students' answe...      93  \n",
       "66308  You are an expert in analyzing students' answe...      88  \n",
       "65630  You are an expert in analyzing students' answe...      92  \n",
       "47822  You are an expert in analyzing students' answe...     121  \n",
       "...                                                  ...     ...  \n",
       "6265   You are an expert in analyzing students' answe...      80  \n",
       "54886  You are an expert in analyzing students' answe...     100  \n",
       "76820  You are an expert in analyzing students' answe...     117  \n",
       "860    You are an expert in analyzing students' answe...     148  \n",
       "15795  You are an expert in analyzing students' answe...     166  \n",
       "\n",
       "[88965 rows x 12 columns]"
      ]
     },
     "execution_count": 95,
     "metadata": {},
     "output_type": "execute_result"
    }
   ],
   "source": [
    "tempTrainDF"
   ]
  },
  {
   "cell_type": "code",
   "execution_count": 96,
   "id": "2a065672",
   "metadata": {
    "execution": {
     "iopub.execute_input": "2025-09-28T11:42:10.737576Z",
     "iopub.status.busy": "2025-09-28T11:42:10.737377Z",
     "iopub.status.idle": "2025-09-28T11:42:11.182837Z",
     "shell.execute_reply": "2025-09-28T11:42:11.182098Z"
    },
    "papermill": {
     "duration": 0.476037,
     "end_time": "2025-09-28T11:42:11.184095",
     "exception": false,
     "start_time": "2025-09-28T11:42:10.708058",
     "status": "completed"
    },
    "tags": []
   },
   "outputs": [
    {
     "data": {
      "image/png": "[encoded data removed]",
      "text/plain": [
       "<Figure size 640x480 with 1 Axes>"
      ]
     },
     "metadata": {},
     "output_type": "display_data"
    }
   ],
   "source": [
    "tempTrainDF[\"label\"].value_counts().plot(kind=\"bar\", title=\"Class Distribution\");"
   ]
  },
  {
   "cell_type": "code",
   "execution_count": 97,
   "id": "5ff199f9",
   "metadata": {
    "execution": {
     "iopub.execute_input": "2025-09-28T11:42:11.245025Z",
     "iopub.status.busy": "2025-09-28T11:42:11.244620Z",
     "iopub.status.idle": "2025-09-28T11:42:11.261563Z",
     "shell.execute_reply": "2025-09-28T11:42:11.260964Z"
    },
    "papermill": {
     "duration": 0.047976,
     "end_time": "2025-09-28T11:42:11.262552",
     "exception": false,
     "start_time": "2025-09-28T11:42:11.214576",
     "status": "completed"
    },
    "tags": []
   },
   "outputs": [
    {
     "data": {
      "text/html": [
       "<div>\n",
       "<style scoped>\n",
       "    .dataframe tbody tr th:only-of-type {\n",
       "        vertical-align: middle;\n",
       "    }\n",
       "\n",
       "    .dataframe tbody tr th {\n",
       "        vertical-align: top;\n",
       "    }\n",
       "\n",
       "    .dataframe thead th {\n",
       "        text-align: right;\n",
       "    }\n",
       "</style>\n",
       "<table border=\"1\" class=\"dataframe\">\n",
       "  <thead>\n",
       "    <tr style=\"text-align: right;\">\n",
       "      <th></th>\n",
       "      <th>row_id</th>\n",
       "      <th>QuestionId</th>\n",
       "      <th>label</th>\n",
       "      <th>is_correct</th>\n",
       "      <th>Length</th>\n",
       "    </tr>\n",
       "  </thead>\n",
       "  <tbody>\n",
       "    <tr>\n",
       "      <th>count</th>\n",
       "      <td>90.000000</td>\n",
       "      <td>90.000000</td>\n",
       "      <td>90.000000</td>\n",
       "      <td>90.000000</td>\n",
       "      <td>90.000000</td>\n",
       "    </tr>\n",
       "    <tr>\n",
       "      <th>mean</th>\n",
       "      <td>21252.244444</td>\n",
       "      <td>48163.955556</td>\n",
       "      <td>32.322222</td>\n",
       "      <td>0.488889</td>\n",
       "      <td>107.622222</td>\n",
       "    </tr>\n",
       "    <tr>\n",
       "      <th>std</th>\n",
       "      <td>9296.231807</td>\n",
       "      <td>27113.141471</td>\n",
       "      <td>18.179398</td>\n",
       "      <td>0.502677</td>\n",
       "      <td>21.226747</td>\n",
       "    </tr>\n",
       "    <tr>\n",
       "      <th>min</th>\n",
       "      <td>2860.000000</td>\n",
       "      <td>31772.000000</td>\n",
       "      <td>0.000000</td>\n",
       "      <td>0.000000</td>\n",
       "      <td>73.000000</td>\n",
       "    </tr>\n",
       "    <tr>\n",
       "      <th>25%</th>\n",
       "      <td>16012.500000</td>\n",
       "      <td>32829.000000</td>\n",
       "      <td>16.000000</td>\n",
       "      <td>0.000000</td>\n",
       "      <td>91.500000</td>\n",
       "    </tr>\n",
       "    <tr>\n",
       "      <th>50%</th>\n",
       "      <td>20577.000000</td>\n",
       "      <td>32835.000000</td>\n",
       "      <td>36.000000</td>\n",
       "      <td>0.000000</td>\n",
       "      <td>104.000000</td>\n",
       "    </tr>\n",
       "    <tr>\n",
       "      <th>75%</th>\n",
       "      <td>28257.750000</td>\n",
       "      <td>66021.000000</td>\n",
       "      <td>44.750000</td>\n",
       "      <td>1.000000</td>\n",
       "      <td>115.750000</td>\n",
       "    </tr>\n",
       "    <tr>\n",
       "      <th>max</th>\n",
       "      <td>36326.000000</td>\n",
       "      <td>109465.000000</td>\n",
       "      <td>64.000000</td>\n",
       "      <td>1.000000</td>\n",
       "      <td>169.000000</td>\n",
       "    </tr>\n",
       "  </tbody>\n",
       "</table>\n",
       "</div>"
      ],
      "text/plain": [
       "             row_id     QuestionId      label  is_correct      Length\n",
       "count     90.000000      90.000000  90.000000   90.000000   90.000000\n",
       "mean   21252.244444   48163.955556  32.322222    0.488889  107.622222\n",
       "std     9296.231807   27113.141471  18.179398    0.502677   21.226747\n",
       "min     2860.000000   31772.000000   0.000000    0.000000   73.000000\n",
       "25%    16012.500000   32829.000000  16.000000    0.000000   91.500000\n",
       "50%    20577.000000   32835.000000  36.000000    0.000000  104.000000\n",
       "75%    28257.750000   66021.000000  44.750000    1.000000  115.750000\n",
       "max    36326.000000  109465.000000  64.000000    1.000000  169.000000"
      ]
     },
     "execution_count": 97,
     "metadata": {},
     "output_type": "execute_result"
    }
   ],
   "source": [
    "tempValDF.describe()"
   ]
  },
  {
   "cell_type": "code",
   "execution_count": 98,
   "id": "acbbadeb",
   "metadata": {
    "execution": {
     "iopub.execute_input": "2025-09-28T11:42:11.321706Z",
     "iopub.status.busy": "2025-09-28T11:42:11.321237Z",
     "iopub.status.idle": "2025-09-28T11:42:11.826085Z",
     "shell.execute_reply": "2025-09-28T11:42:11.825440Z"
    },
    "papermill": {
     "duration": 0.535523,
     "end_time": "2025-09-28T11:42:11.827447",
     "exception": false,
     "start_time": "2025-09-28T11:42:11.291924",
     "status": "completed"
    },
    "tags": []
   },
   "outputs": [],
   "source": [
    "# Convert to Hugging Face Dataset for training dataset\n",
    "COLS = ['LLM_Content','label']\n",
    "\n",
    "trainDataset = Dataset.from_pandas(tempTrainDF[COLS], split=\"train\")\n",
    "valDataset = Dataset.from_pandas(tempValDF[COLS], split=\"test\")\n",
    "testDataset = Dataset.from_pandas(testDF, split=\"test\")\n",
    "subDataset = Dataset.from_pandas(sample, split=\"test\") # submit dataset\n",
    "\n",
    "# trainDataset = Dataset.from_pandas(tempTrainDF, split=\"train\")\n",
    "# valDataset = Dataset.from_pandas(tempValDF, split=\"test\")\n",
    "# subDataset = Dataset.from_pandas(sample, split=\"test\") # submit dataset"
   ]
  },
  {
   "cell_type": "code",
   "execution_count": 99,
   "id": "ef012f93",
   "metadata": {
    "execution": {
     "iopub.execute_input": "2025-09-28T11:42:11.888425Z",
     "iopub.status.busy": "2025-09-28T11:42:11.887877Z",
     "iopub.status.idle": "2025-09-28T11:42:11.892125Z",
     "shell.execute_reply": "2025-09-28T11:42:11.891572Z"
    },
    "papermill": {
     "duration": 0.03522,
     "end_time": "2025-09-28T11:42:11.893208",
     "exception": false,
     "start_time": "2025-09-28T11:42:11.857988",
     "status": "completed"
    },
    "tags": []
   },
   "outputs": [
    {
     "data": {
      "text/plain": [
       "Dataset({\n",
       "    features: ['LLM_Content', 'label', '__index_level_0__'],\n",
       "    num_rows: 88965\n",
       "})"
      ]
     },
     "execution_count": 99,
     "metadata": {},
     "output_type": "execute_result"
    }
   ],
   "source": [
    "trainDataset"
   ]
  },
  {
   "cell_type": "code",
   "execution_count": 100,
   "id": "cb412631",
   "metadata": {
    "execution": {
     "iopub.execute_input": "2025-09-28T11:42:11.953666Z",
     "iopub.status.busy": "2025-09-28T11:42:11.953064Z",
     "iopub.status.idle": "2025-09-28T11:42:11.957425Z",
     "shell.execute_reply": "2025-09-28T11:42:11.956848Z"
    },
    "papermill": {
     "duration": 0.035199,
     "end_time": "2025-09-28T11:42:11.958476",
     "exception": false,
     "start_time": "2025-09-28T11:42:11.923277",
     "status": "completed"
    },
    "tags": []
   },
   "outputs": [
    {
     "data": {
      "text/plain": [
       "Dataset({\n",
       "    features: ['row_id', 'QuestionId', 'QuestionText', 'MC_Answer', 'StudentExplanation', 'is_correct', 'LLM_Content'],\n",
       "    num_rows: 3\n",
       "})"
      ]
     },
     "execution_count": 100,
     "metadata": {},
     "output_type": "execute_result"
    }
   ],
   "source": [
    "testDataset"
   ]
  },
  {
   "cell_type": "code",
   "execution_count": 101,
   "id": "1f4e907d",
   "metadata": {
    "execution": {
     "iopub.execute_input": "2025-09-28T11:42:12.017438Z",
     "iopub.status.busy": "2025-09-28T11:42:12.017224Z",
     "iopub.status.idle": "2025-09-28T11:42:12.021121Z",
     "shell.execute_reply": "2025-09-28T11:42:12.020612Z"
    },
    "papermill": {
     "duration": 0.034399,
     "end_time": "2025-09-28T11:42:12.022095",
     "exception": false,
     "start_time": "2025-09-28T11:42:11.987696",
     "status": "completed"
    },
    "tags": []
   },
   "outputs": [
    {
     "data": {
      "text/plain": [
       "Dataset({\n",
       "    features: ['row_id', 'Category:Misconception'],\n",
       "    num_rows: 3\n",
       "})"
      ]
     },
     "execution_count": 101,
     "metadata": {},
     "output_type": "execute_result"
    }
   ],
   "source": [
    "subDataset"
   ]
  },
  {
   "cell_type": "code",
   "execution_count": 102,
   "id": "c99542c7",
   "metadata": {
    "execution": {
     "iopub.execute_input": "2025-09-28T11:42:12.081888Z",
     "iopub.status.busy": "2025-09-28T11:42:12.081674Z",
     "iopub.status.idle": "2025-09-28T11:42:12.350923Z",
     "shell.execute_reply": "2025-09-28T11:42:12.350013Z"
    },
    "papermill": {
     "duration": 0.300815,
     "end_time": "2025-09-28T11:42:12.352193",
     "exception": false,
     "start_time": "2025-09-28T11:42:12.051378",
     "status": "completed"
    },
    "tags": []
   },
   "outputs": [
    {
     "name": "stdout",
     "output_type": "stream",
     "text": [
      "Sun Sep 28 11:42:12 2025       \r\n",
      "+-----------------------------------------------------------------------------------------+\r\n",
      "| NVIDIA-SMI 560.35.03              Driver Version: 560.35.03      CUDA Version: 12.6     |\r\n",
      "|-----------------------------------------+------------------------+----------------------+\r\n",
      "| GPU  Name                 Persistence-M | Bus-Id          Disp.A | Volatile Uncorr. ECC |\r\n",
      "| Fan  Temp   Perf          Pwr:Usage/Cap |           Memory-Usage | GPU-Util  Compute M. |\r\n",
      "|                                         |                        |               MIG M. |\r\n",
      "|=========================================+========================+======================|\r\n",
      "|   0  Tesla T4                       Off |   00000000:00:04.0 Off |                    0 |\r\n",
      "| N/A   57C    P0             29W /   70W |    1861MiB /  15360MiB |      0%      Default |\r\n",
      "|                                         |                        |                  N/A |\r\n",
      "+-----------------------------------------+------------------------+----------------------+\r\n",
      "|   1  Tesla T4                       Off |   00000000:00:05.0 Off |                    0 |\r\n",
      "| N/A   55C    P0             29W /   70W |    2273MiB /  15360MiB |      0%      Default |\r\n",
      "|                                         |                        |                  N/A |\r\n",
      "+-----------------------------------------+------------------------+----------------------+\r\n",
      "                                                                                         \r\n",
      "+-----------------------------------------------------------------------------------------+\r\n",
      "| Processes:                                                                              |\r\n",
      "|  GPU   GI   CI        PID   Type   Process name                              GPU Memory |\r\n",
      "|        ID   ID                                                               Usage      |\r\n",
      "|=========================================================================================|\r\n",
      "+-----------------------------------------------------------------------------------------+\r\n"
     ]
    },
    {
     "name": "stderr",
     "output_type": "stream",
     "text": [
      "huggingface/tokenizers: The current process just got forked, after parallelism has already been used. Disabling parallelism to avoid deadlocks...\n",
      "To disable this warning, you can either:\n",
      "\t- Avoid using `tokenizers` before the fork if possible\n",
      "\t- Explicitly set the environment variable TOKENIZERS_PARALLELISM=(true | false)\n"
     ]
    }
   ],
   "source": [
    "# for GPU only\n",
    "!nvidia-smi  "
   ]
  },
  {
   "cell_type": "code",
   "execution_count": 103,
   "id": "b3cb7c52",
   "metadata": {
    "execution": {
     "iopub.execute_input": "2025-09-28T11:42:12.415304Z",
     "iopub.status.busy": "2025-09-28T11:42:12.415063Z",
     "iopub.status.idle": "2025-09-28T11:42:12.419587Z",
     "shell.execute_reply": "2025-09-28T11:42:12.418818Z"
    },
    "papermill": {
     "duration": 0.03634,
     "end_time": "2025-09-28T11:42:12.420645",
     "exception": false,
     "start_time": "2025-09-28T11:42:12.384305",
     "status": "completed"
    },
    "tags": []
   },
   "outputs": [],
   "source": [
    "del tempTrainDF \n",
    "del tempValDF"
   ]
  },
  {
   "cell_type": "code",
   "execution_count": 104,
   "id": "9e4e8eb8",
   "metadata": {
    "execution": {
     "iopub.execute_input": "2025-09-28T11:42:12.480201Z",
     "iopub.status.busy": "2025-09-28T11:42:12.479931Z",
     "iopub.status.idle": "2025-09-28T11:42:12.485226Z",
     "shell.execute_reply": "2025-09-28T11:42:12.484575Z"
    },
    "papermill": {
     "duration": 0.03607,
     "end_time": "2025-09-28T11:42:12.486238",
     "exception": false,
     "start_time": "2025-09-28T11:42:12.450168",
     "status": "completed"
    },
    "tags": []
   },
   "outputs": [
    {
     "data": {
      "text/plain": [
       "DatasetDict({\n",
       "    train: Dataset({\n",
       "        features: ['LLM_Content', 'label', '__index_level_0__'],\n",
       "        num_rows: 88965\n",
       "    })\n",
       "    val: Dataset({\n",
       "        features: ['LLM_Content', 'label', '__index_level_0__'],\n",
       "        num_rows: 90\n",
       "    })\n",
       "})"
      ]
     },
     "execution_count": 104,
     "metadata": {},
     "output_type": "execute_result"
    }
   ],
   "source": [
    "datasetDict = DatasetDict({\n",
    "    \"train\" : trainDataset,\n",
    "    \"val\"  : valDataset\n",
    "    \n",
    "})\n",
    "datasetDict"
   ]
  },
  {
   "cell_type": "code",
   "execution_count": 105,
   "id": "2f94f4bd",
   "metadata": {
    "execution": {
     "iopub.execute_input": "2025-09-28T11:42:12.545868Z",
     "iopub.status.busy": "2025-09-28T11:42:12.545658Z",
     "iopub.status.idle": "2025-09-28T11:42:12.550320Z",
     "shell.execute_reply": "2025-09-28T11:42:12.549623Z"
    },
    "papermill": {
     "duration": 0.035902,
     "end_time": "2025-09-28T11:42:12.551399",
     "exception": false,
     "start_time": "2025-09-28T11:42:12.515497",
     "status": "completed"
    },
    "tags": []
   },
   "outputs": [
    {
     "data": {
      "text/plain": [
       "Dataset({\n",
       "    features: ['LLM_Content', 'label', '__index_level_0__'],\n",
       "    num_rows: 88965\n",
       "})"
      ]
     },
     "execution_count": 105,
     "metadata": {},
     "output_type": "execute_result"
    }
   ],
   "source": [
    "datasetDict[\"train\"]"
   ]
  },
  {
   "cell_type": "code",
   "execution_count": 106,
   "id": "2b9b5f44",
   "metadata": {
    "execution": {
     "iopub.execute_input": "2025-09-28T11:42:12.614418Z",
     "iopub.status.busy": "2025-09-28T11:42:12.614200Z",
     "iopub.status.idle": "2025-09-28T11:42:12.617809Z",
     "shell.execute_reply": "2025-09-28T11:42:12.617095Z"
    },
    "papermill": {
     "duration": 0.035564,
     "end_time": "2025-09-28T11:42:12.618963",
     "exception": false,
     "start_time": "2025-09-28T11:42:12.583399",
     "status": "completed"
    },
    "tags": []
   },
   "outputs": [],
   "source": [
    "def tokenizeFunc(batch):\n",
    "    return tokenizer(batch[\"LLM_Content\"],  max_length=CFG.maxLength, padding='max_length', truncation=True)"
   ]
  },
  {
   "cell_type": "code",
   "execution_count": 107,
   "id": "cc9d20b1",
   "metadata": {
    "execution": {
     "iopub.execute_input": "2025-09-28T11:42:12.679180Z",
     "iopub.status.busy": "2025-09-28T11:42:12.678931Z",
     "iopub.status.idle": "2025-09-28T11:42:37.043744Z",
     "shell.execute_reply": "2025-09-28T11:42:37.043008Z"
    },
    "papermill": {
     "duration": 24.396399,
     "end_time": "2025-09-28T11:42:37.044846",
     "exception": false,
     "start_time": "2025-09-28T11:42:12.648447",
     "status": "completed"
    },
    "tags": []
   },
   "outputs": [
    {
     "data": {
      "application/vnd.jupyter.widget-view+json": {
       "model_id": "d64282ed08724963a5dbc71ac4329a80",
       "version_major": 2,
       "version_minor": 0
      },
      "text/plain": [
       "Map:   0%|          | 0/88965 [00:00<?, ? examples/s]"
      ]
     },
     "metadata": {},
     "output_type": "display_data"
    },
    {
     "data": {
      "application/vnd.jupyter.widget-view+json": {
       "model_id": "e2a15351df3f47d8b44ad923ad29e0b0",
       "version_major": 2,
       "version_minor": 0
      },
      "text/plain": [
       "Map:   0%|          | 0/90 [00:00<?, ? examples/s]"
      ]
     },
     "metadata": {},
     "output_type": "display_data"
    }
   ],
   "source": [
    "datasetDict = datasetDict.map(tokenizeFunc, batched=True)"
   ]
  },
  {
   "cell_type": "code",
   "execution_count": 108,
   "id": "61d2384d",
   "metadata": {
    "execution": {
     "iopub.execute_input": "2025-09-28T11:42:37.106468Z",
     "iopub.status.busy": "2025-09-28T11:42:37.106226Z",
     "iopub.status.idle": "2025-09-28T11:42:37.110607Z",
     "shell.execute_reply": "2025-09-28T11:42:37.109908Z"
    },
    "papermill": {
     "duration": 0.035766,
     "end_time": "2025-09-28T11:42:37.111696",
     "exception": false,
     "start_time": "2025-09-28T11:42:37.075930",
     "status": "completed"
    },
    "tags": []
   },
   "outputs": [
    {
     "data": {
      "text/plain": [
       "DatasetDict({\n",
       "    train: Dataset({\n",
       "        features: ['LLM_Content', 'label', '__index_level_0__', 'input_ids', 'attention_mask'],\n",
       "        num_rows: 88965\n",
       "    })\n",
       "    val: Dataset({\n",
       "        features: ['LLM_Content', 'label', '__index_level_0__', 'input_ids', 'attention_mask'],\n",
       "        num_rows: 90\n",
       "    })\n",
       "})"
      ]
     },
     "execution_count": 108,
     "metadata": {},
     "output_type": "execute_result"
    }
   ],
   "source": [
    "datasetDict"
   ]
  },
  {
   "cell_type": "code",
   "execution_count": 109,
   "id": "ae52e474",
   "metadata": {
    "execution": {
     "iopub.execute_input": "2025-09-28T11:42:37.171515Z",
     "iopub.status.busy": "2025-09-28T11:42:37.171296Z",
     "iopub.status.idle": "2025-09-28T11:42:37.177304Z",
     "shell.execute_reply": "2025-09-28T11:42:37.176609Z"
    },
    "papermill": {
     "duration": 0.037237,
     "end_time": "2025-09-28T11:42:37.178382",
     "exception": false,
     "start_time": "2025-09-28T11:42:37.141145",
     "status": "completed"
    },
    "tags": []
   },
   "outputs": [],
   "source": [
    "datasetDict = datasetDict.rename_column(\"label\", \"labels\")  # change name to labels "
   ]
  },
  {
   "cell_type": "code",
   "execution_count": 110,
   "id": "abb9c012",
   "metadata": {
    "execution": {
     "iopub.execute_input": "2025-09-28T11:42:37.238681Z",
     "iopub.status.busy": "2025-09-28T11:42:37.238496Z",
     "iopub.status.idle": "2025-09-28T11:42:37.242619Z",
     "shell.execute_reply": "2025-09-28T11:42:37.242021Z"
    },
    "papermill": {
     "duration": 0.035339,
     "end_time": "2025-09-28T11:42:37.243767",
     "exception": false,
     "start_time": "2025-09-28T11:42:37.208428",
     "status": "completed"
    },
    "tags": []
   },
   "outputs": [
    {
     "data": {
      "text/plain": [
       "DatasetDict({\n",
       "    train: Dataset({\n",
       "        features: ['LLM_Content', 'labels', '__index_level_0__', 'input_ids', 'attention_mask'],\n",
       "        num_rows: 88965\n",
       "    })\n",
       "    val: Dataset({\n",
       "        features: ['LLM_Content', 'labels', '__index_level_0__', 'input_ids', 'attention_mask'],\n",
       "        num_rows: 90\n",
       "    })\n",
       "})"
      ]
     },
     "execution_count": 110,
     "metadata": {},
     "output_type": "execute_result"
    }
   ],
   "source": [
    "datasetDict"
   ]
  },
  {
   "cell_type": "code",
   "execution_count": 111,
   "id": "bcd66a0f",
   "metadata": {
    "execution": {
     "iopub.execute_input": "2025-09-28T11:42:37.303863Z",
     "iopub.status.busy": "2025-09-28T11:42:37.303659Z",
     "iopub.status.idle": "2025-09-28T11:42:37.308012Z",
     "shell.execute_reply": "2025-09-28T11:42:37.307295Z"
    },
    "papermill": {
     "duration": 0.035534,
     "end_time": "2025-09-28T11:42:37.309097",
     "exception": false,
     "start_time": "2025-09-28T11:42:37.273563",
     "status": "completed"
    },
    "tags": []
   },
   "outputs": [
    {
     "data": {
      "text/plain": [
       "DatasetDict({\n",
       "    test: Dataset({\n",
       "        features: ['row_id', 'QuestionId', 'QuestionText', 'MC_Answer', 'StudentExplanation', 'is_correct', 'LLM_Content'],\n",
       "        num_rows: 3\n",
       "    })\n",
       "})"
      ]
     },
     "execution_count": 111,
     "metadata": {},
     "output_type": "execute_result"
    }
   ],
   "source": [
    "testDict = DatasetDict({\n",
    "    \"test\": testDataset\n",
    "    \n",
    "})\n",
    "testDict"
   ]
  },
  {
   "cell_type": "code",
   "execution_count": 112,
   "id": "66be7107",
   "metadata": {
    "execution": {
     "iopub.execute_input": "2025-09-28T11:42:37.369871Z",
     "iopub.status.busy": "2025-09-28T11:42:37.369669Z",
     "iopub.status.idle": "2025-09-28T11:42:37.373954Z",
     "shell.execute_reply": "2025-09-28T11:42:37.373271Z"
    },
    "papermill": {
     "duration": 0.03535,
     "end_time": "2025-09-28T11:42:37.375042",
     "exception": false,
     "start_time": "2025-09-28T11:42:37.339692",
     "status": "completed"
    },
    "tags": []
   },
   "outputs": [
    {
     "data": {
      "text/plain": [
       "DatasetDict({\n",
       "    test: Dataset({\n",
       "        features: ['row_id', 'Category:Misconception'],\n",
       "        num_rows: 3\n",
       "    })\n",
       "})"
      ]
     },
     "execution_count": 112,
     "metadata": {},
     "output_type": "execute_result"
    }
   ],
   "source": [
    "submitDict = DatasetDict({\n",
    "    \"test\": subDataset\n",
    "    # \"test\": subDataset\n",
    "    \n",
    "})\n",
    "submitDict"
   ]
  },
  {
   "cell_type": "code",
   "execution_count": 113,
   "id": "d8146422",
   "metadata": {
    "execution": {
     "iopub.execute_input": "2025-09-28T11:42:37.435369Z",
     "iopub.status.busy": "2025-09-28T11:42:37.434851Z",
     "iopub.status.idle": "2025-09-28T11:42:37.440725Z",
     "shell.execute_reply": "2025-09-28T11:42:37.440205Z"
    },
    "papermill": {
     "duration": 0.037051,
     "end_time": "2025-09-28T11:42:37.441734",
     "exception": false,
     "start_time": "2025-09-28T11:42:37.404683",
     "status": "completed"
    },
    "tags": []
   },
   "outputs": [],
   "source": [
    "# Evaluation Metrics \n",
    "def compute_metric(eval_pred):\n",
    "    logits , labels = eval_pred\n",
    "    # predictions = np.argmax(logits, axis=-1)  # for mult-class\n",
    "    top3_preds = np.argsort(logits, axis=-1)[:, -3:]\n",
    "    match = (top3_preds == labels[:, None])\n",
    "    predictions= top3_preds[:, 2]\n",
    "    acc = (predictions == labels).mean()\n",
    "    f1score  =  f1_score(labels, predictions, average='weighted', zero_division=1)\n",
    "    recallScore = recall_score(labels, predictions,  average='weighted', zero_division=1)\n",
    "    precision = precision_score(labels, predictions,  average='weighted', zero_division=1)\n",
    "    \n",
    "    # for map@3\n",
    "    top3_preds = np.argsort(logits, axis=-1)[:, -3:]\n",
    "    match = (top3_preds == labels[:, None])\n",
    "\n",
    "    # Compute MAP@3 manually\n",
    "    map3 = 0\n",
    "    for i in range(len(labels)):\n",
    "        if match[i, 0]:\n",
    "            map3 += 1.0\n",
    "        elif match[i, 1]:\n",
    "            map3 += 1.0 / 2\n",
    "        elif match[i, 2]:\n",
    "            map3 += 1.0 / 3\n",
    "    map3Score = map3 / len(labels)\n",
    "    # map3List.append(map3Score)\n",
    "    \n",
    "    return {\"accuracy\": acc , \"recall\":  recallScore,  \"precision\":precision, 'f1-score': f1score ,\n",
    "             \"map_3\":map3Score}\n",
    "    \n",
    "    \n",
    "    \n",
    "    "
   ]
  },
  {
   "cell_type": "markdown",
   "id": "b444a2e9",
   "metadata": {
    "papermill": {
     "duration": 0.029631,
     "end_time": "2025-09-28T11:42:37.505778",
     "exception": false,
     "start_time": "2025-09-28T11:42:37.476147",
     "status": "completed"
    },
    "tags": []
   },
   "source": [
    "## LoRA fine tuing"
   ]
  },
  {
   "cell_type": "code",
   "execution_count": 114,
   "id": "8a0e1531",
   "metadata": {
    "execution": {
     "iopub.execute_input": "2025-09-28T11:42:37.566053Z",
     "iopub.status.busy": "2025-09-28T11:42:37.565836Z",
     "iopub.status.idle": "2025-09-28T11:42:37.569470Z",
     "shell.execute_reply": "2025-09-28T11:42:37.568935Z"
    },
    "papermill": {
     "duration": 0.035097,
     "end_time": "2025-09-28T11:42:37.570483",
     "exception": false,
     "start_time": "2025-09-28T11:42:37.535386",
     "status": "completed"
    },
    "tags": []
   },
   "outputs": [],
   "source": [
    "lora_config = LoraConfig(\n",
    "        r=16,\n",
    "        lora_alpha=32,\n",
    "        task_type=\"SEQ_CLS\",  # for Sequence Classification\n",
    "        # task_type=\"CAUSAL_LM\", # for generative task\n",
    "        bias=\"none\",\n",
    "        target_modules = [\"q_proj\", \"o_proj\", \"k_proj\", \"v_proj\",\n",
    "                      \"gate_proj\", \"up_proj\", \"down_proj\"],\n",
    "        lora_dropout= CFG.DROPOUT,\n",
    "    )"
   ]
  },
  {
   "cell_type": "code",
   "execution_count": 115,
   "id": "5e5299a3",
   "metadata": {
    "execution": {
     "iopub.execute_input": "2025-09-28T11:42:37.630700Z",
     "iopub.status.busy": "2025-09-28T11:42:37.630488Z",
     "iopub.status.idle": "2025-09-28T11:42:38.263785Z",
     "shell.execute_reply": "2025-09-28T11:42:38.263224Z"
    },
    "papermill": {
     "duration": 0.664971,
     "end_time": "2025-09-28T11:42:38.265120",
     "exception": false,
     "start_time": "2025-09-28T11:42:37.600149",
     "status": "completed"
    },
    "tags": []
   },
   "outputs": [],
   "source": [
    "# Creat Lora Model\n",
    "model = get_peft_model(model, lora_config)"
   ]
  },
  {
   "cell_type": "code",
   "execution_count": 116,
   "id": "80810226",
   "metadata": {
    "execution": {
     "iopub.execute_input": "2025-09-28T11:42:38.326888Z",
     "iopub.status.busy": "2025-09-28T11:42:38.326380Z",
     "iopub.status.idle": "2025-09-28T11:42:38.335593Z",
     "shell.execute_reply": "2025-09-28T11:42:38.334827Z"
    },
    "papermill": {
     "duration": 0.040503,
     "end_time": "2025-09-28T11:42:38.336575",
     "exception": false,
     "start_time": "2025-09-28T11:42:38.296072",
     "status": "completed"
    },
    "tags": []
   },
   "outputs": [
    {
     "name": "stdout",
     "output_type": "stream",
     "text": [
      "trainable params: 33,196,544 || all params: 4,055,147,520 || trainable%: 0.8186\n"
     ]
    }
   ],
   "source": [
    "model.print_trainable_parameters()"
   ]
  },
  {
   "cell_type": "code",
   "execution_count": 117,
   "id": "363a96a5",
   "metadata": {
    "execution": {
     "iopub.execute_input": "2025-09-28T11:42:38.397706Z",
     "iopub.status.busy": "2025-09-28T11:42:38.397145Z",
     "iopub.status.idle": "2025-09-28T11:42:38.401317Z",
     "shell.execute_reply": "2025-09-28T11:42:38.400771Z"
    },
    "papermill": {
     "duration": 0.035592,
     "end_time": "2025-09-28T11:42:38.402362",
     "exception": false,
     "start_time": "2025-09-28T11:42:38.366770",
     "status": "completed"
    },
    "tags": []
   },
   "outputs": [
    {
     "data": {
      "text/plain": [
       "'0.11.4'"
      ]
     },
     "execution_count": 117,
     "metadata": {},
     "output_type": "execute_result"
    }
   ],
   "source": [
    "import trl\n",
    "trl.__version__"
   ]
  },
  {
   "cell_type": "code",
   "execution_count": 118,
   "id": "bbc52ccf",
   "metadata": {
    "execution": {
     "iopub.execute_input": "2025-09-28T11:42:38.464871Z",
     "iopub.status.busy": "2025-09-28T11:42:38.464375Z",
     "iopub.status.idle": "2025-09-28T11:42:38.468406Z",
     "shell.execute_reply": "2025-09-28T11:42:38.467846Z"
    },
    "papermill": {
     "duration": 0.037133,
     "end_time": "2025-09-28T11:42:38.469424",
     "exception": false,
     "start_time": "2025-09-28T11:42:38.432291",
     "status": "completed"
    },
    "tags": []
   },
   "outputs": [
    {
     "data": {
      "text/plain": [
       "0.01"
      ]
     },
     "execution_count": 118,
     "metadata": {},
     "output_type": "execute_result"
    }
   ],
   "source": [
    " CFG.maxEpoch"
   ]
  },
  {
   "cell_type": "code",
   "execution_count": 119,
   "id": "801e03e0",
   "metadata": {
    "execution": {
     "iopub.execute_input": "2025-09-28T11:42:38.530966Z",
     "iopub.status.busy": "2025-09-28T11:42:38.530786Z",
     "iopub.status.idle": "2025-09-28T11:42:38.535670Z",
     "shell.execute_reply": "2025-09-28T11:42:38.534760Z"
    },
    "papermill": {
     "duration": 0.037051,
     "end_time": "2025-09-28T11:42:38.536828",
     "exception": false,
     "start_time": "2025-09-28T11:42:38.499777",
     "status": "completed"
    },
    "tags": []
   },
   "outputs": [
    {
     "name": "stdout",
     "output_type": "stream",
     "text": [
      "BATCH_SIZE: 5, N_SAMPLES: 88965, STEPS_PER_EPOCH: 17793\n",
      "NUM_WARMUP_STEPS: 8, TOTAL_STEPS: 177\n",
      "Val Step per epoch: 18\n"
     ]
    }
   ],
   "source": [
    "N_SAMPLES = len(datasetDict[\"train\"])  # Use train_df after the split\n",
    "STEPS_PER_EPOCH = (N_SAMPLES // CFG.per_device_train_batch_size ) #* CFG.maxEpoch\n",
    "VAL_STEPS_PER_EPOCH = len(datasetDict[\"val\"]) // CFG.per_device_eval_batch_size\n",
    "TOTAL_STEPS = int(STEPS_PER_EPOCH * CFG.maxEpoch)\n",
    "NUM_WARMUP_STEPS = int(TOTAL_STEPS * 0.05)\n",
    "\n",
    "print(f'BATCH_SIZE: {CFG.per_device_train_batch_size}, N_SAMPLES: {N_SAMPLES}, STEPS_PER_EPOCH: {STEPS_PER_EPOCH}')\n",
    "print(f'NUM_WARMUP_STEPS: {NUM_WARMUP_STEPS}, TOTAL_STEPS: {TOTAL_STEPS}')\n",
    "print(f\"Val Step per epoch: {VAL_STEPS_PER_EPOCH}\")\n"
   ]
  },
  {
   "cell_type": "code",
   "execution_count": 120,
   "id": "f3eccb46",
   "metadata": {
    "execution": {
     "iopub.execute_input": "2025-09-28T11:42:38.598509Z",
     "iopub.status.busy": "2025-09-28T11:42:38.597996Z",
     "iopub.status.idle": "2025-09-28T11:42:38.600807Z",
     "shell.execute_reply": "2025-09-28T11:42:38.600322Z"
    },
    "papermill": {
     "duration": 0.034537,
     "end_time": "2025-09-28T11:42:38.601758",
     "exception": false,
     "start_time": "2025-09-28T11:42:38.567221",
     "status": "completed"
    },
    "tags": []
   },
   "outputs": [],
   "source": [
    "# import deepspeed\n",
    "# deepspeed.__version__"
   ]
  },
  {
   "cell_type": "code",
   "execution_count": 121,
   "id": "26e9ad37",
   "metadata": {
    "execution": {
     "iopub.execute_input": "2025-09-28T11:42:38.662321Z",
     "iopub.status.busy": "2025-09-28T11:42:38.662126Z",
     "iopub.status.idle": "2025-09-28T11:42:38.666087Z",
     "shell.execute_reply": "2025-09-28T11:42:38.665574Z"
    },
    "papermill": {
     "duration": 0.035176,
     "end_time": "2025-09-28T11:42:38.667042",
     "exception": false,
     "start_time": "2025-09-28T11:42:38.631866",
     "status": "completed"
    },
    "tags": []
   },
   "outputs": [
    {
     "data": {
      "text/plain": [
       "'1.8.1'"
      ]
     },
     "execution_count": 121,
     "metadata": {},
     "output_type": "execute_result"
    }
   ],
   "source": [
    "import accelerate\n",
    "accelerate.__version__"
   ]
  },
  {
   "cell_type": "markdown",
   "id": "5891c68b",
   "metadata": {
    "papermill": {
     "duration": 0.029889,
     "end_time": "2025-09-28T11:42:38.727312",
     "exception": false,
     "start_time": "2025-09-28T11:42:38.697423",
     "status": "completed"
    },
    "tags": []
   },
   "source": [
    "## STF Trainer Parameter"
   ]
  },
  {
   "cell_type": "code",
   "execution_count": 122,
   "id": "92fafe6b",
   "metadata": {
    "execution": {
     "iopub.execute_input": "2025-09-28T11:42:38.836737Z",
     "iopub.status.busy": "2025-09-28T11:42:38.836471Z",
     "iopub.status.idle": "2025-09-28T11:42:38.869836Z",
     "shell.execute_reply": "2025-09-28T11:42:38.869275Z"
    },
    "papermill": {
     "duration": 0.066822,
     "end_time": "2025-09-28T11:42:38.871420",
     "exception": false,
     "start_time": "2025-09-28T11:42:38.804598",
     "status": "completed"
    },
    "tags": []
   },
   "outputs": [],
   "source": [
    "from trl import SFTTrainer, SFTConfig\n",
    "torch_dtype = model.dtype\n",
    "trainArg = SFTConfig(\n",
    "    output_dir= \"kaggle/working\",\n",
    "    # max_length= CFG.maxLength, # old version trl\n",
    "    max_seq_length = CFG.maxLength, # new version trl\n",
    "    per_device_train_batch_size =CFG.per_device_train_batch_size,\n",
    "    per_device_eval_batch_size = CFG.per_device_eval_batch_size,\n",
    "    gradient_accumulation_steps = CFG.gradient_accumulation_steps,\n",
    "    eval_strategy= \"steps\",\n",
    "    save_strategy= \"steps\",\n",
    "    warmup_steps= NUM_WARMUP_STEPS, #CFG.warmup_steps,\n",
    "    max_steps = TOTAL_STEPS,  #CFG.maxTrainStep, # set max train step size\n",
    "    learning_rate=CFG.learning_rate,\n",
    "    lr_scheduler_type=\"cosine\", #\"linear\", #\"cosine\",\n",
    "    save_total_limit=2,\n",
    "    fp16=True if torch_dtype == torch.float16 else False,   # use float16 precision ,  # INFER WITH FP16 BECAUSE KAGGLE IS T4 GPU\n",
    "    bf16=True if torch_dtype == torch.bfloat16 else False,  # use bfloat16 precision, TRAIN WITH BF16 IF LOCAL GPU IS NEWER GPU  \n",
    "    # fp16=True,\n",
    "    logging_steps= CFG.evalSteps,\n",
    "    eval_steps = CFG.evalSteps,\n",
    "    optim=\"adamw_8bit\",  #\"paged_adamw_8bit\",\n",
    "    report_to = CFG.reportTo,\n",
    "    do_eval=True,                # Perform evaluation at the end of training\n",
    "    max_grad_norm=1.0,\n",
    "    weight_decay=CFG.weight_decay,\n",
    "    metric_for_best_model=\"map_3\",\n",
    "    greater_is_better=True,\n",
    "    # memory optimial (reduce GPU memory but slowdown train speed )\n",
    "    # gradient_checkpointing=True,\n",
    "    # gradient_checkpointing_kwargs={'use_reentrant':False}, # for Mulitple -GPU\n",
    "    load_best_model_at_end=True,\n",
    "    # deepspeed=CFG.deepspeedConfigFile, # config error\n",
    "    # label_names = targetClasses,\n",
    "\n",
    "    \n",
    ")"
   ]
  },
  {
   "cell_type": "code",
   "execution_count": 123,
   "id": "589a98c0",
   "metadata": {
    "execution": {
     "iopub.execute_input": "2025-09-28T11:42:38.934606Z",
     "iopub.status.busy": "2025-09-28T11:42:38.934405Z",
     "iopub.status.idle": "2025-09-28T11:42:38.938624Z",
     "shell.execute_reply": "2025-09-28T11:42:38.938089Z"
    },
    "papermill": {
     "duration": 0.036885,
     "end_time": "2025-09-28T11:42:38.939665",
     "exception": false,
     "start_time": "2025-09-28T11:42:38.902780",
     "status": "completed"
    },
    "tags": []
   },
   "outputs": [
    {
     "data": {
      "text/plain": [
       "True"
      ]
     },
     "execution_count": 123,
     "metadata": {},
     "output_type": "execute_result"
    }
   ],
   "source": [
    "trainArg.bf16 "
   ]
  },
  {
   "cell_type": "code",
   "execution_count": 124,
   "id": "01f8f010",
   "metadata": {
    "execution": {
     "iopub.execute_input": "2025-09-28T11:42:39.002489Z",
     "iopub.status.busy": "2025-09-28T11:42:39.002034Z",
     "iopub.status.idle": "2025-09-28T11:42:39.005523Z",
     "shell.execute_reply": "2025-09-28T11:42:39.004668Z"
    },
    "papermill": {
     "duration": 0.036543,
     "end_time": "2025-09-28T11:42:39.006940",
     "exception": false,
     "start_time": "2025-09-28T11:42:38.970397",
     "status": "completed"
    },
    "tags": []
   },
   "outputs": [],
   "source": [
    "from transformers import DataCollatorWithPadding"
   ]
  },
  {
   "cell_type": "code",
   "execution_count": 125,
   "id": "9058266f",
   "metadata": {
    "execution": {
     "iopub.execute_input": "2025-09-28T11:42:39.070520Z",
     "iopub.status.busy": "2025-09-28T11:42:39.070097Z",
     "iopub.status.idle": "2025-09-28T11:42:39.518169Z",
     "shell.execute_reply": "2025-09-28T11:42:39.517569Z"
    },
    "papermill": {
     "duration": 0.480518,
     "end_time": "2025-09-28T11:42:39.519250",
     "exception": false,
     "start_time": "2025-09-28T11:42:39.038732",
     "status": "completed"
    },
    "tags": []
   },
   "outputs": [
    {
     "name": "stderr",
     "output_type": "stream",
     "text": [
      "/usr/local/lib/python3.11/dist-packages/trl/trainer/sft_trainer.py:401: FutureWarning: `tokenizer` is deprecated and will be removed in version 5.0.0 for `SFTTrainer.__init__`. Use `processing_class` instead.\n",
      "  super().__init__(\n",
      "No label_names provided for model class `PeftModelForSequenceClassification`. Since `PeftModel` hides base models input arguments, if label_names is not given, label_names can't be set automatically within `Trainer`. Note that empty label_names list will be used instead.\n"
     ]
    }
   ],
   "source": [
    "data_collator = DataCollatorWithPadding(tokenizer=tokenizer)\n",
    "\n",
    "trainer= SFTTrainer(\n",
    "    model=model,\n",
    "    train_dataset=datasetDict[\"train\"],\n",
    "    eval_dataset = datasetDict[\"val\"],\n",
    "    args=trainArg,\n",
    "    peft_config = lora_config,\n",
    "    # formatting_func=formatFuct,\n",
    "    data_collator = data_collator, \n",
    "    compute_metrics= compute_metric,\n",
    "    \n",
    ")"
   ]
  },
  {
   "cell_type": "code",
   "execution_count": 126,
   "id": "4a39f679",
   "metadata": {
    "execution": {
     "iopub.execute_input": "2025-09-28T11:42:39.582196Z",
     "iopub.status.busy": "2025-09-28T11:42:39.581727Z",
     "iopub.status.idle": "2025-09-28T11:42:39.585397Z",
     "shell.execute_reply": "2025-09-28T11:42:39.584716Z"
    },
    "papermill": {
     "duration": 0.03564,
     "end_time": "2025-09-28T11:42:39.586523",
     "exception": false,
     "start_time": "2025-09-28T11:42:39.550883",
     "status": "completed"
    },
    "tags": []
   },
   "outputs": [],
   "source": [
    "# Fix Batch size >1 , not define pad token id issues\n",
    "eos_token_id=tokenizer.eos_token_id\n",
    "model.config.use_cache=False\n",
    "model.config.pad_token_id = tokenizer.pad_token_id"
   ]
  },
  {
   "cell_type": "code",
   "execution_count": 127,
   "id": "a6be0ced",
   "metadata": {
    "execution": {
     "iopub.execute_input": "2025-09-28T11:42:39.649235Z",
     "iopub.status.busy": "2025-09-28T11:42:39.648673Z",
     "iopub.status.idle": "2025-09-28T11:42:43.084383Z",
     "shell.execute_reply": "2025-09-28T11:42:43.083485Z"
    },
    "papermill": {
     "duration": 3.468123,
     "end_time": "2025-09-28T11:42:43.085758",
     "exception": false,
     "start_time": "2025-09-28T11:42:39.617635",
     "status": "completed"
    },
    "tags": []
   },
   "outputs": [],
   "source": [
    "clearMemory() # clear memory before training"
   ]
  },
  {
   "cell_type": "code",
   "execution_count": 128,
   "id": "ca085ce6",
   "metadata": {
    "execution": {
     "iopub.execute_input": "2025-09-28T11:42:43.150088Z",
     "iopub.status.busy": "2025-09-28T11:42:43.149834Z",
     "iopub.status.idle": "2025-09-28T15:00:26.288321Z",
     "shell.execute_reply": "2025-09-28T15:00:26.287586Z"
    },
    "papermill": {
     "duration": 11863.170669,
     "end_time": "2025-09-28T15:00:26.289510",
     "exception": false,
     "start_time": "2025-09-28T11:42:43.118841",
     "status": "completed"
    },
    "tags": []
   },
   "outputs": [
    {
     "data": {
      "text/html": [
       "\n",
       "    <div>\n",
       "      \n",
       "      <progress value='177' max='177' style='width:300px; height:20px; vertical-align: middle;'></progress>\n",
       "      [177/177 3:16:43, Epoch 0/1]\n",
       "    </div>\n",
       "    <table border=\"1\" class=\"dataframe\">\n",
       "  <thead>\n",
       " <tr style=\"text-align: left;\">\n",
       "      <th>Step</th>\n",
       "      <th>Training Loss</th>\n",
       "      <th>Validation Loss</th>\n",
       "      <th>Accuracy</th>\n",
       "      <th>Recall</th>\n",
       "      <th>Precision</th>\n",
       "      <th>F1-score</th>\n",
       "      <th>Map 3</th>\n",
       "    </tr>\n",
       "  </thead>\n",
       "  <tbody>\n",
       "    <tr>\n",
       "      <td>50</td>\n",
       "      <td>5.321100</td>\n",
       "      <td>3.908507</td>\n",
       "      <td>0.166667</td>\n",
       "      <td>0.166667</td>\n",
       "      <td>0.861111</td>\n",
       "      <td>0.047619</td>\n",
       "      <td>0.161111</td>\n",
       "    </tr>\n",
       "    <tr>\n",
       "      <td>100</td>\n",
       "      <td>3.483000</td>\n",
       "      <td>3.030577</td>\n",
       "      <td>0.277778</td>\n",
       "      <td>0.277778</td>\n",
       "      <td>0.818596</td>\n",
       "      <td>0.184220</td>\n",
       "      <td>0.231481</td>\n",
       "    </tr>\n",
       "    <tr>\n",
       "      <td>150</td>\n",
       "      <td>2.616600</td>\n",
       "      <td>2.301975</td>\n",
       "      <td>0.388889</td>\n",
       "      <td>0.388889</td>\n",
       "      <td>0.665741</td>\n",
       "      <td>0.325858</td>\n",
       "      <td>0.285185</td>\n",
       "    </tr>\n",
       "  </tbody>\n",
       "</table><p>"
      ],
      "text/plain": [
       "<IPython.core.display.HTML object>"
      ]
     },
     "metadata": {},
     "output_type": "display_data"
    },
    {
     "data": {
      "text/plain": [
       "TrainOutput(global_step=177, training_loss=3.579198158393472, metrics={'train_runtime': 11862.6673, 'train_samples_per_second': 0.298, 'train_steps_per_second': 0.015, 'total_flos': 2.99076182212608e+16, 'train_loss': 3.579198158393472, 'epoch': 0.039790929017029165})"
      ]
     },
     "execution_count": 128,
     "metadata": {},
     "output_type": "execute_result"
    }
   ],
   "source": [
    "# %%time\n",
    "trainer.train()"
   ]
  },
  {
   "cell_type": "code",
   "execution_count": 129,
   "id": "4bcec095",
   "metadata": {
    "execution": {
     "iopub.execute_input": "2025-09-28T15:00:26.354879Z",
     "iopub.status.busy": "2025-09-28T15:00:26.354606Z",
     "iopub.status.idle": "2025-09-28T15:00:26.636369Z",
     "shell.execute_reply": "2025-09-28T15:00:26.635756Z"
    },
    "papermill": {
     "duration": 0.315888,
     "end_time": "2025-09-28T15:00:26.637826",
     "exception": false,
     "start_time": "2025-09-28T15:00:26.321938",
     "status": "completed"
    },
    "tags": []
   },
   "outputs": [],
   "source": [
    "model.save_pretrained(\"student-math-llm-Fine-tune\") # for peft fine tuning model without trainer\n",
    "# trainer.save_model(\"student-math-llm-Fine-tune\") # save model with full trainer "
   ]
  },
  {
   "cell_type": "code",
   "execution_count": 130,
   "id": "c9b19dbb",
   "metadata": {
    "execution": {
     "iopub.execute_input": "2025-09-28T15:00:26.703804Z",
     "iopub.status.busy": "2025-09-28T15:00:26.703531Z",
     "iopub.status.idle": "2025-09-28T15:00:33.678315Z",
     "shell.execute_reply": "2025-09-28T15:00:33.677296Z"
    },
    "papermill": {
     "duration": 7.008748,
     "end_time": "2025-09-28T15:00:33.679623",
     "exception": false,
     "start_time": "2025-09-28T15:00:26.670875",
     "status": "completed"
    },
    "tags": []
   },
   "outputs": [
    {
     "name": "stdout",
     "output_type": "stream",
     "text": [
      "  adding: kaggle/working/student-math-llm-Fine-tune/ (stored 0%)\r\n",
      "  adding: kaggle/working/student-math-llm-Fine-tune/adapter_model.safetensors"
     ]
    },
    {
     "name": "stderr",
     "output_type": "stream",
     "text": [
      "huggingface/tokenizers: The current process just got forked, after parallelism has already been used. Disabling parallelism to avoid deadlocks...\n",
      "To disable this warning, you can either:\n",
      "\t- Avoid using `tokenizers` before the fork if possible\n",
      "\t- Explicitly set the environment variable TOKENIZERS_PARALLELISM=(true | false)\n"
     ]
    },
    {
     "name": "stdout",
     "output_type": "stream",
     "text": [
      " (deflated 7%)\r\n",
      "  adding: kaggle/working/student-math-llm-Fine-tune/README.md (deflated 66%)\r\n",
      "  adding: kaggle/working/student-math-llm-Fine-tune/adapter_config.json (deflated 56%)\r\n"
     ]
    }
   ],
   "source": [
    "# for generate downloadable zip file \n",
    "!zip -r student-math-llm-Fine-tune.zip /kaggle/working/student-math-llm-Fine-tune # for peft\n"
   ]
  },
  {
   "cell_type": "code",
   "execution_count": 131,
   "id": "58a7fd02",
   "metadata": {
    "execution": {
     "iopub.execute_input": "2025-09-28T15:00:33.744101Z",
     "iopub.status.busy": "2025-09-28T15:00:33.743846Z",
     "iopub.status.idle": "2025-09-28T15:00:33.766697Z",
     "shell.execute_reply": "2025-09-28T15:00:33.765838Z"
    },
    "papermill": {
     "duration": 0.056154,
     "end_time": "2025-09-28T15:00:33.767714",
     "exception": false,
     "start_time": "2025-09-28T15:00:33.711560",
     "status": "completed"
    },
    "tags": []
   },
   "outputs": [
    {
     "name": "stderr",
     "output_type": "stream",
     "text": [
      "/usr/local/lib/python3.11/dist-packages/pandas/io/formats/format.py:1458: RuntimeWarning: invalid value encountered in greater\n",
      "  has_large_values = (abs_vals > 1e6).any()\n",
      "/usr/local/lib/python3.11/dist-packages/pandas/io/formats/format.py:1459: RuntimeWarning: invalid value encountered in less\n",
      "  has_small_values = ((abs_vals < 10 ** (-self.digits)) & (abs_vals > 0)).any()\n",
      "/usr/local/lib/python3.11/dist-packages/pandas/io/formats/format.py:1459: RuntimeWarning: invalid value encountered in greater\n",
      "  has_small_values = ((abs_vals < 10 ** (-self.digits)) & (abs_vals > 0)).any()\n"
     ]
    },
    {
     "data": {
      "text/html": [
       "<div>\n",
       "<style scoped>\n",
       "    .dataframe tbody tr th:only-of-type {\n",
       "        vertical-align: middle;\n",
       "    }\n",
       "\n",
       "    .dataframe tbody tr th {\n",
       "        vertical-align: top;\n",
       "    }\n",
       "\n",
       "    .dataframe thead th {\n",
       "        text-align: right;\n",
       "    }\n",
       "</style>\n",
       "<table border=\"1\" class=\"dataframe\">\n",
       "  <thead>\n",
       "    <tr style=\"text-align: right;\">\n",
       "      <th></th>\n",
       "      <th>loss</th>\n",
       "      <th>grad_norm</th>\n",
       "      <th>learning_rate</th>\n",
       "      <th>epoch</th>\n",
       "      <th>step</th>\n",
       "      <th>eval_loss</th>\n",
       "      <th>eval_accuracy</th>\n",
       "      <th>eval_recall</th>\n",
       "      <th>eval_precision</th>\n",
       "      <th>eval_f1-score</th>\n",
       "      <th>eval_map_3</th>\n",
       "      <th>eval_runtime</th>\n",
       "      <th>eval_samples_per_second</th>\n",
       "      <th>eval_steps_per_second</th>\n",
       "      <th>train_runtime</th>\n",
       "      <th>train_samples_per_second</th>\n",
       "      <th>train_steps_per_second</th>\n",
       "      <th>total_flos</th>\n",
       "      <th>train_loss</th>\n",
       "    </tr>\n",
       "  </thead>\n",
       "  <tbody>\n",
       "    <tr>\n",
       "      <th>0</th>\n",
       "      <td>5.3211</td>\n",
       "      <td>22.256374</td>\n",
       "      <td>0.000017</td>\n",
       "      <td>0.011240</td>\n",
       "      <td>50</td>\n",
       "      <td>NaN</td>\n",
       "      <td>NaN</td>\n",
       "      <td>NaN</td>\n",
       "      <td>NaN</td>\n",
       "      <td>NaN</td>\n",
       "      <td>NaN</td>\n",
       "      <td>NaN</td>\n",
       "      <td>NaN</td>\n",
       "      <td>NaN</td>\n",
       "      <td>NaN</td>\n",
       "      <td>NaN</td>\n",
       "      <td>NaN</td>\n",
       "      <td>NaN</td>\n",
       "      <td>NaN</td>\n",
       "    </tr>\n",
       "    <tr>\n",
       "      <th>1</th>\n",
       "      <td>NaN</td>\n",
       "      <td>NaN</td>\n",
       "      <td>NaN</td>\n",
       "      <td>0.011240</td>\n",
       "      <td>50</td>\n",
       "      <td>3.908507</td>\n",
       "      <td>0.166667</td>\n",
       "      <td>0.166667</td>\n",
       "      <td>0.861111</td>\n",
       "      <td>0.047619</td>\n",
       "      <td>0.161111</td>\n",
       "      <td>134.8503</td>\n",
       "      <td>0.667</td>\n",
       "      <td>0.133</td>\n",
       "      <td>NaN</td>\n",
       "      <td>NaN</td>\n",
       "      <td>NaN</td>\n",
       "      <td>NaN</td>\n",
       "      <td>NaN</td>\n",
       "    </tr>\n",
       "    <tr>\n",
       "      <th>2</th>\n",
       "      <td>3.4830</td>\n",
       "      <td>24.572840</td>\n",
       "      <td>0.000009</td>\n",
       "      <td>0.022481</td>\n",
       "      <td>100</td>\n",
       "      <td>NaN</td>\n",
       "      <td>NaN</td>\n",
       "      <td>NaN</td>\n",
       "      <td>NaN</td>\n",
       "      <td>NaN</td>\n",
       "      <td>NaN</td>\n",
       "      <td>NaN</td>\n",
       "      <td>NaN</td>\n",
       "      <td>NaN</td>\n",
       "      <td>NaN</td>\n",
       "      <td>NaN</td>\n",
       "      <td>NaN</td>\n",
       "      <td>NaN</td>\n",
       "      <td>NaN</td>\n",
       "    </tr>\n",
       "    <tr>\n",
       "      <th>3</th>\n",
       "      <td>NaN</td>\n",
       "      <td>NaN</td>\n",
       "      <td>NaN</td>\n",
       "      <td>0.022481</td>\n",
       "      <td>100</td>\n",
       "      <td>3.030577</td>\n",
       "      <td>0.277778</td>\n",
       "      <td>0.277778</td>\n",
       "      <td>0.818596</td>\n",
       "      <td>0.184220</td>\n",
       "      <td>0.231481</td>\n",
       "      <td>134.8043</td>\n",
       "      <td>0.668</td>\n",
       "      <td>0.134</td>\n",
       "      <td>NaN</td>\n",
       "      <td>NaN</td>\n",
       "      <td>NaN</td>\n",
       "      <td>NaN</td>\n",
       "      <td>NaN</td>\n",
       "    </tr>\n",
       "    <tr>\n",
       "      <th>4</th>\n",
       "      <td>2.6166</td>\n",
       "      <td>38.216480</td>\n",
       "      <td>0.000001</td>\n",
       "      <td>0.033721</td>\n",
       "      <td>150</td>\n",
       "      <td>NaN</td>\n",
       "      <td>NaN</td>\n",
       "      <td>NaN</td>\n",
       "      <td>NaN</td>\n",
       "      <td>NaN</td>\n",
       "      <td>NaN</td>\n",
       "      <td>NaN</td>\n",
       "      <td>NaN</td>\n",
       "      <td>NaN</td>\n",
       "      <td>NaN</td>\n",
       "      <td>NaN</td>\n",
       "      <td>NaN</td>\n",
       "      <td>NaN</td>\n",
       "      <td>NaN</td>\n",
       "    </tr>\n",
       "    <tr>\n",
       "      <th>5</th>\n",
       "      <td>NaN</td>\n",
       "      <td>NaN</td>\n",
       "      <td>NaN</td>\n",
       "      <td>0.033721</td>\n",
       "      <td>150</td>\n",
       "      <td>2.301975</td>\n",
       "      <td>0.388889</td>\n",
       "      <td>0.388889</td>\n",
       "      <td>0.665741</td>\n",
       "      <td>0.325858</td>\n",
       "      <td>0.285185</td>\n",
       "      <td>135.1153</td>\n",
       "      <td>0.666</td>\n",
       "      <td>0.133</td>\n",
       "      <td>NaN</td>\n",
       "      <td>NaN</td>\n",
       "      <td>NaN</td>\n",
       "      <td>NaN</td>\n",
       "      <td>NaN</td>\n",
       "    </tr>\n",
       "    <tr>\n",
       "      <th>6</th>\n",
       "      <td>NaN</td>\n",
       "      <td>NaN</td>\n",
       "      <td>NaN</td>\n",
       "      <td>0.039791</td>\n",
       "      <td>177</td>\n",
       "      <td>NaN</td>\n",
       "      <td>NaN</td>\n",
       "      <td>NaN</td>\n",
       "      <td>NaN</td>\n",
       "      <td>NaN</td>\n",
       "      <td>NaN</td>\n",
       "      <td>NaN</td>\n",
       "      <td>NaN</td>\n",
       "      <td>NaN</td>\n",
       "      <td>11862.6673</td>\n",
       "      <td>0.298</td>\n",
       "      <td>0.015</td>\n",
       "      <td>2.990762e+16</td>\n",
       "      <td>3.579198</td>\n",
       "    </tr>\n",
       "  </tbody>\n",
       "</table>\n",
       "</div>"
      ],
      "text/plain": [
       "     loss  grad_norm  learning_rate     epoch  step  eval_loss  eval_accuracy  \\\n",
       "0  5.3211  22.256374       0.000017  0.011240    50        NaN            NaN   \n",
       "1     NaN        NaN            NaN  0.011240    50   3.908507       0.166667   \n",
       "2  3.4830  24.572840       0.000009  0.022481   100        NaN            NaN   \n",
       "3     NaN        NaN            NaN  0.022481   100   3.030577       0.277778   \n",
       "4  2.6166  38.216480       0.000001  0.033721   150        NaN            NaN   \n",
       "5     NaN        NaN            NaN  0.033721   150   2.301975       0.388889   \n",
       "6     NaN        NaN            NaN  0.039791   177        NaN            NaN   \n",
       "\n",
       "   eval_recall  eval_precision  eval_f1-score  eval_map_3  eval_runtime  \\\n",
       "0          NaN             NaN            NaN         NaN           NaN   \n",
       "1     0.166667        0.861111       0.047619    0.161111      134.8503   \n",
       "2          NaN             NaN            NaN         NaN           NaN   \n",
       "3     0.277778        0.818596       0.184220    0.231481      134.8043   \n",
       "4          NaN             NaN            NaN         NaN           NaN   \n",
       "5     0.388889        0.665741       0.325858    0.285185      135.1153   \n",
       "6          NaN             NaN            NaN         NaN           NaN   \n",
       "\n",
       "   eval_samples_per_second  eval_steps_per_second  train_runtime  \\\n",
       "0                      NaN                    NaN            NaN   \n",
       "1                    0.667                  0.133            NaN   \n",
       "2                      NaN                    NaN            NaN   \n",
       "3                    0.668                  0.134            NaN   \n",
       "4                      NaN                    NaN            NaN   \n",
       "5                    0.666                  0.133            NaN   \n",
       "6                      NaN                    NaN     11862.6673   \n",
       "\n",
       "   train_samples_per_second  train_steps_per_second    total_flos  train_loss  \n",
       "0                       NaN                     NaN           NaN         NaN  \n",
       "1                       NaN                     NaN           NaN         NaN  \n",
       "2                       NaN                     NaN           NaN         NaN  \n",
       "3                       NaN                     NaN           NaN         NaN  \n",
       "4                       NaN                     NaN           NaN         NaN  \n",
       "5                       NaN                     NaN           NaN         NaN  \n",
       "6                     0.298                   0.015  2.990762e+16    3.579198  "
      ]
     },
     "execution_count": 131,
     "metadata": {},
     "output_type": "execute_result"
    }
   ],
   "source": [
    "trainHistoryDF = pd.DataFrame(trainer.state.log_history)\n",
    "trainHistoryDF"
   ]
  },
  {
   "cell_type": "code",
   "execution_count": 132,
   "id": "93e5bc01",
   "metadata": {
    "execution": {
     "iopub.execute_input": "2025-09-28T15:00:33.830376Z",
     "iopub.status.busy": "2025-09-28T15:00:33.830165Z",
     "iopub.status.idle": "2025-09-28T15:00:33.834563Z",
     "shell.execute_reply": "2025-09-28T15:00:33.834088Z"
    },
    "papermill": {
     "duration": 0.036607,
     "end_time": "2025-09-28T15:00:33.835564",
     "exception": false,
     "start_time": "2025-09-28T15:00:33.798957",
     "status": "completed"
    },
    "tags": []
   },
   "outputs": [
    {
     "data": {
      "text/plain": [
       "Index(['loss', 'grad_norm', 'learning_rate', 'epoch', 'step', 'eval_loss',\n",
       "       'eval_accuracy', 'eval_recall', 'eval_precision', 'eval_f1-score',\n",
       "       'eval_map_3', 'eval_runtime', 'eval_samples_per_second',\n",
       "       'eval_steps_per_second', 'train_runtime', 'train_samples_per_second',\n",
       "       'train_steps_per_second', 'total_flos', 'train_loss'],\n",
       "      dtype='object')"
      ]
     },
     "execution_count": 132,
     "metadata": {},
     "output_type": "execute_result"
    }
   ],
   "source": [
    "trainHistoryDF.columns"
   ]
  },
  {
   "cell_type": "code",
   "execution_count": 133,
   "id": "7bde80af",
   "metadata": {
    "execution": {
     "iopub.execute_input": "2025-09-28T15:00:33.900451Z",
     "iopub.status.busy": "2025-09-28T15:00:33.900244Z",
     "iopub.status.idle": "2025-09-28T15:00:34.060172Z",
     "shell.execute_reply": "2025-09-28T15:00:34.059469Z"
    },
    "papermill": {
     "duration": 0.194588,
     "end_time": "2025-09-28T15:00:34.061351",
     "exception": false,
     "start_time": "2025-09-28T15:00:33.866763",
     "status": "completed"
    },
    "tags": []
   },
   "outputs": [
    {
     "data": {
      "image/png": "[encoded data removed]",
      "text/plain": [
       "<Figure size 640x480 with 1 Axes>"
      ]
     },
     "metadata": {},
     "output_type": "display_data"
    }
   ],
   "source": [
    "import matplotlib.pyplot as plt\n",
    "trainloss = trainHistoryDF[~trainHistoryDF[\"loss\"].isnull()]\n",
    "valloss = trainHistoryDF[~trainHistoryDF[\"eval_loss\"].isnull()]\n",
    "plt.plot(trainloss[\"loss\"], label=\"Train\")\n",
    "plt.plot(valloss[\"eval_loss\"], label=\"Val\")\n",
    "plt.title(\"LLM loss\")\n",
    "plt.legend()\n",
    "plt.show()"
   ]
  },
  {
   "cell_type": "code",
   "execution_count": 134,
   "id": "2da44f90",
   "metadata": {
    "execution": {
     "iopub.execute_input": "2025-09-28T15:00:34.126456Z",
     "iopub.status.busy": "2025-09-28T15:00:34.126181Z",
     "iopub.status.idle": "2025-09-28T15:00:34.275862Z",
     "shell.execute_reply": "2025-09-28T15:00:34.275185Z"
    },
    "papermill": {
     "duration": 0.183782,
     "end_time": "2025-09-28T15:00:34.277023",
     "exception": false,
     "start_time": "2025-09-28T15:00:34.093241",
     "status": "completed"
    },
    "tags": []
   },
   "outputs": [
    {
     "data": {
      "image/png": "[encoded data removed]",
      "text/plain": [
       "<Figure size 640x480 with 1 Axes>"
      ]
     },
     "metadata": {},
     "output_type": "display_data"
    }
   ],
   "source": [
    "trainloss = trainHistoryDF[~trainHistoryDF[\"eval_accuracy\"].isnull()]\n",
    "plt.plot(trainloss[\"eval_accuracy\"], label=\"Val Accuracy\")\n",
    "plt.title(\"Val Accuracy\")\n",
    "plt.legend()\n",
    "plt.show()"
   ]
  },
  {
   "cell_type": "code",
   "execution_count": 135,
   "id": "b1f3422e",
   "metadata": {
    "execution": {
     "iopub.execute_input": "2025-09-28T15:00:34.342832Z",
     "iopub.status.busy": "2025-09-28T15:00:34.342428Z",
     "iopub.status.idle": "2025-09-28T15:00:34.496897Z",
     "shell.execute_reply": "2025-09-28T15:00:34.496196Z"
    },
    "papermill": {
     "duration": 0.188033,
     "end_time": "2025-09-28T15:00:34.498057",
     "exception": false,
     "start_time": "2025-09-28T15:00:34.310024",
     "status": "completed"
    },
    "tags": []
   },
   "outputs": [
    {
     "data": {
      "image/png": "[encoded data removed]",
      "text/plain": [
       "<Figure size 640x480 with 1 Axes>"
      ]
     },
     "metadata": {},
     "output_type": "display_data"
    }
   ],
   "source": [
    "trainloss = trainHistoryDF[~trainHistoryDF[\"eval_recall\"].isnull()]\n",
    "plt.plot(trainloss[\"eval_recall\"], label=\"Val Recall\")\n",
    "plt.title(\"Val Recall\")\n",
    "plt.legend()\n",
    "plt.show()"
   ]
  },
  {
   "cell_type": "code",
   "execution_count": 136,
   "id": "d706e27b",
   "metadata": {
    "execution": {
     "iopub.execute_input": "2025-09-28T15:00:34.564460Z",
     "iopub.status.busy": "2025-09-28T15:00:34.564244Z",
     "iopub.status.idle": "2025-09-28T15:00:34.730940Z",
     "shell.execute_reply": "2025-09-28T15:00:34.730290Z"
    },
    "papermill": {
     "duration": 0.200851,
     "end_time": "2025-09-28T15:00:34.732146",
     "exception": false,
     "start_time": "2025-09-28T15:00:34.531295",
     "status": "completed"
    },
    "tags": []
   },
   "outputs": [
    {
     "data": {
      "image/png": "[encoded data removed]",
      "text/plain": [
       "<Figure size 640x480 with 1 Axes>"
      ]
     },
     "metadata": {},
     "output_type": "display_data"
    }
   ],
   "source": [
    "trainloss = trainHistoryDF[~trainHistoryDF[\"eval_precision\"].isnull()]\n",
    "plt.plot(trainloss[\"eval_precision\"], label=\"Val Precision\")\n",
    "plt.title(\"Val Precision\")\n",
    "plt.legend()\n",
    "plt.show()"
   ]
  },
  {
   "cell_type": "code",
   "execution_count": 137,
   "id": "9c4fd668",
   "metadata": {
    "execution": {
     "iopub.execute_input": "2025-09-28T15:00:34.801778Z",
     "iopub.status.busy": "2025-09-28T15:00:34.801521Z",
     "iopub.status.idle": "2025-09-28T15:00:34.958333Z",
     "shell.execute_reply": "2025-09-28T15:00:34.957720Z"
    },
    "papermill": {
     "duration": 0.191808,
     "end_time": "2025-09-28T15:00:34.959559",
     "exception": false,
     "start_time": "2025-09-28T15:00:34.767751",
     "status": "completed"
    },
    "tags": []
   },
   "outputs": [
    {
     "data": {
      "image/png": "[encoded data removed]",
      "text/plain": [
       "<Figure size 640x480 with 1 Axes>"
      ]
     },
     "metadata": {},
     "output_type": "display_data"
    }
   ],
   "source": [
    "trainloss = trainHistoryDF[~trainHistoryDF[\"eval_f1-score\"].isnull()]\n",
    "plt.plot(trainloss[\"eval_f1-score\"], label=\"Val F1-Score\")\n",
    "plt.title(\"Val F1-Score\")\n",
    "plt.legend()\n",
    "plt.show()"
   ]
  },
  {
   "cell_type": "code",
   "execution_count": 138,
   "id": "ca37a887",
   "metadata": {
    "execution": {
     "iopub.execute_input": "2025-09-28T15:00:35.028078Z",
     "iopub.status.busy": "2025-09-28T15:00:35.027524Z",
     "iopub.status.idle": "2025-09-28T15:00:35.188418Z",
     "shell.execute_reply": "2025-09-28T15:00:35.187709Z"
    },
    "papermill": {
     "duration": 0.195902,
     "end_time": "2025-09-28T15:00:35.189531",
     "exception": false,
     "start_time": "2025-09-28T15:00:34.993629",
     "status": "completed"
    },
    "tags": []
   },
   "outputs": [
    {
     "data": {
      "image/png": "[encoded data removed]",
      "text/plain": [
       "<Figure size 640x480 with 1 Axes>"
      ]
     },
     "metadata": {},
     "output_type": "display_data"
    }
   ],
   "source": [
    "trainloss = trainHistoryDF[~trainHistoryDF[\"eval_map_3\"].isnull()]\n",
    "plt.plot(trainloss[\"eval_map_3\"], label=\"MAP@3 Score\")\n",
    "plt.title(\"Val MAP@3\")\n",
    "plt.legend()\n",
    "plt.show()"
   ]
  },
  {
   "cell_type": "code",
   "execution_count": 139,
   "id": "70f1e71b",
   "metadata": {
    "execution": {
     "iopub.execute_input": "2025-09-28T15:00:35.260519Z",
     "iopub.status.busy": "2025-09-28T15:00:35.260300Z",
     "iopub.status.idle": "2025-09-28T15:00:35.267486Z",
     "shell.execute_reply": "2025-09-28T15:00:35.266948Z"
    },
    "papermill": {
     "duration": 0.043611,
     "end_time": "2025-09-28T15:00:35.268485",
     "exception": false,
     "start_time": "2025-09-28T15:00:35.224874",
     "status": "completed"
    },
    "tags": []
   },
   "outputs": [],
   "source": [
    "def testValDataset(ds, maxNumData=10):\n",
    "    for i, data in enumerate(ds):\n",
    "        if (i >= maxNumData):\n",
    "            break\n",
    "        print(f\"Data {i}\")\n",
    "        newPrompt = data[\"LLM_Content\"]\n",
    "        with torch.no_grad():\n",
    "             inputIds = tokenizer(newPrompt, return_tensors=\"pt\").to(device)\n",
    "             logits = model(**inputIds).logits\n",
    "             print(f\"Logits Dimension: {logits.shape}\")\n",
    "             probabilities = nn.functional.softmax(logits, dim=-1) # get probilitity\n",
    "             print(f\"Probailities : {probabilities}\")\n",
    "             classID =logits.argmax().item()\n",
    "             print(f\"Class ID type {type(classID)}\")\n",
    "             classTxt = le.inverse_transform([classID])[0]\n",
    "             actualClassID = data['labels']\n",
    "             # print(f\"Actual ClassID : {actualClassID}\")\n",
    "             actualClass = le.inverse_transform([actualClassID])[0]\n",
    "             # Top3 prediction\n",
    "             # acc = (probabilities == actualClassID).mean()\n",
    "             # f1score  =  f1_score(actualClassID, probabilities, average='weighted', zero_division=1)\n",
    "             # recallScore = recall_score(actualClassID, probabilities,  average='weighted', zero_division=1)\n",
    "             # precision = precision_score(actualClassID, probabilities,  average='weighted', zero_division=1)\n",
    "            \n",
    "             # # for map@3\n",
    "             top3_preds = np.argsort(logits.to(torch.float32).cpu(), axis=-1)[:, -3:]\n",
    "             top3 = top3_preds.flatten() # convert to 1D \n",
    "             print(f\"Top3 ID : {top3}\")\n",
    "             # classTxtArray = le.inverse_transform(top3) # convert class ID to Label \n",
    "             match = (top3_preds == actualClassID)\n",
    "                    \n",
    "             # Compute MAP@3 manually\n",
    "             map3 = 0\n",
    "             for i in range(len([actualClassID])):\n",
    "                if match[i, 0]:\n",
    "                    map3 += 1.0\n",
    "                elif match[i, 1]:\n",
    "                    map3 += 1.0 / 2\n",
    "                elif match[i, 2]:\n",
    "                    map3 += 1.0 / 3\n",
    "             map3Score = map3 / len([actualClassID])\n",
    "        \n",
    "\n",
    "        print(f\"\"\"Query: {newPrompt}\n",
    "              Predict Class ID: {classID}\n",
    "              Predict Text: {classTxt}\n",
    "              Actual Class ID: {actualClassID}\n",
    "              Actual Class Text: {actualClass}\n",
    "             MAP@3 Score : {map3Score}\"\"\")\n",
    "        print(\"-\"*30)\n",
    "        \n"
   ]
  },
  {
   "cell_type": "code",
   "execution_count": 140,
   "id": "ddae1f80",
   "metadata": {
    "execution": {
     "iopub.execute_input": "2025-09-28T15:00:35.336004Z",
     "iopub.status.busy": "2025-09-28T15:00:35.335776Z",
     "iopub.status.idle": "2025-09-28T15:00:48.849198Z",
     "shell.execute_reply": "2025-09-28T15:00:48.848271Z"
    },
    "papermill": {
     "duration": 13.548328,
     "end_time": "2025-09-28T15:00:48.850398",
     "exception": false,
     "start_time": "2025-09-28T15:00:35.302070",
     "status": "completed"
    },
    "scrolled": true,
    "tags": []
   },
   "outputs": [
    {
     "name": "stdout",
     "output_type": "stream",
     "text": [
      "Data 0\n",
      "Logits Dimension: torch.Size([1, 65])\n",
      "Probailities : tensor([[3.1747e-03, 6.2636e-04, 1.4506e-03, 1.1455e-02, 1.9293e-03, 3.6523e-03,\n",
      "         8.2185e-03, 1.5026e-03, 8.5793e-03, 5.1229e-03, 9.0806e-02, 1.5904e-02,\n",
      "         2.5709e-03, 3.8783e-03, 4.9267e-03, 5.6928e-03, 4.3055e-03, 1.6960e-03,\n",
      "         2.1908e-02, 6.2148e-04, 3.0620e-03, 2.5506e-04, 1.1911e-02, 7.1125e-03,\n",
      "         3.2417e-03, 1.4480e-02, 3.5659e-03, 1.9068e-03, 9.2570e-04, 2.6577e-03,\n",
      "         8.9560e-03, 5.2240e-03, 6.6296e-03, 2.6293e-03, 5.3382e-02, 1.4035e-02,\n",
      "         1.2099e-02, 4.3321e-01, 5.1523e-04, 1.2603e-03, 5.6045e-03, 5.7030e-04,\n",
      "         4.0758e-04, 7.6146e-04, 1.3817e-02, 1.0268e-02, 1.3208e-03, 1.5203e-03,\n",
      "         5.1330e-03, 2.0943e-03, 1.6828e-03, 3.2689e-03, 1.6120e-03, 5.1229e-03,\n",
      "         1.0088e-03, 7.1403e-03, 1.2073e-03, 1.7093e-03, 5.5392e-03, 1.2360e-03,\n",
      "         5.1530e-03, 5.2650e-03, 2.0905e-02, 8.5305e-02, 2.7265e-02]],\n",
      "       device='cuda:0')\n",
      "Class ID type <class 'int'>\n",
      "Top3 ID : tensor([63, 10, 37])\n",
      "Query: You are an expert in analyzing students' answers to math problems and identifying specific types of misunderstandings.\n",
      "Given the following information, classify the student's misunderstanding.\n",
      "\n",
      "Question: Dots have been arranged in these patterns: [Image: Pattern 1 consists of 6 dots, Pattern 2 consists of 10 dots, Pattern 3 consists of 14 dots and Pattern 4 consists of 18 dots] How many dots would there be in Pattern \\( 6 \\) ?\n",
      "Answer: \\( 26 \\)\n",
      "Correct: True\n",
      "Student Explanation: because if there is 18 in pattern 4 we add 12 dots more to pattern 6 meaning we have 30 but then we take 4\n",
      "\n",
      "Please determine the type of misunderstanding the student has.\n",
      "\n",
      "              Predict Class ID: 37\n",
      "              Predict Text: True_Correct:NA\n",
      "              Actual Class ID: 45\n",
      "              Actual Class Text: True_Misconception:Firstterm\n",
      "             MAP@3 Score : 0.0\n",
      "------------------------------\n",
      "Data 1\n",
      "Logits Dimension: torch.Size([1, 65])\n",
      "Probailities : tensor([[1.4816e-02, 1.4932e-02, 1.3781e-03, 1.6789e-02, 6.4783e-03, 3.3199e-01,\n",
      "         6.4177e-03, 1.7018e-03, 1.7421e-03, 5.8791e-03, 4.8479e-03, 3.1122e-02,\n",
      "         4.2872e-02, 3.0935e-03, 2.1897e-02, 1.1425e-03, 8.0476e-03, 2.4187e-03,\n",
      "         1.8984e-03, 2.0251e-02, 5.6181e-03, 5.1656e-03, 6.6004e-03, 1.1539e-02,\n",
      "         4.3547e-02, 3.7903e-03, 6.0598e-03, 1.5136e-03, 2.4325e-04, 7.9461e-03,\n",
      "         1.7872e-02, 1.6789e-02, 9.0924e-03, 2.9061e-03, 9.3081e-03, 1.0568e-02,\n",
      "         1.9782e-02, 4.8203e-02, 6.7817e-03, 2.3627e-03, 1.7151e-03, 3.0575e-03,\n",
      "         5.9252e-03, 3.1234e-04, 1.7974e-03, 1.7018e-03, 7.6107e-04, 6.1163e-03,\n",
      "         3.0164e-02, 4.0823e-03, 2.3443e-03, 1.7286e-03, 3.2420e-03, 4.1553e-02,\n",
      "         1.5018e-03, 1.5649e-02, 7.4865e-03, 1.3462e-03, 1.2525e-02, 9.6209e-04,\n",
      "         3.6594e-03, 1.4587e-02, 6.2920e-03, 7.8842e-03, 4.8203e-02]],\n",
      "       device='cuda:0')\n",
      "Class ID type <class 'int'>\n",
      "Top3 ID : tensor([64, 37,  5])\n",
      "Query: You are an expert in analyzing students' answers to math problems and identifying specific types of misunderstandings.\n",
      "Given the following information, classify the student's misunderstanding.\n",
      "\n",
      "Question: The probability of an event occurring is \\( 0.9 \\).\n",
      "\n",
      "Which of the following most accurately describes the likelihood of the event occurring?\n",
      "Answer: Certain\n",
      "Correct: False\n",
      "Student Explanation: i'm not sure but if you round 0.9 it is certain that it will become 1.\n",
      "\n",
      "Please determine the type of misunderstanding the student has.\n",
      "\n",
      "              Predict Class ID: 5\n",
      "              Predict Text: False_Misconception:Certainty\n",
      "              Actual Class ID: 5\n",
      "              Actual Class Text: False_Misconception:Certainty\n",
      "             MAP@3 Score : 0.3333333333333333\n",
      "------------------------------\n",
      "Data 2\n",
      "Logits Dimension: torch.Size([1, 65])\n",
      "Probailities : tensor([[1.0991e-02, 4.1016e-03, 1.8225e-03, 9.9297e-03, 1.6273e-03, 2.0173e-03,\n",
      "         3.9279e-03, 3.4551e-03, 4.7543e-04, 2.8008e-03, 1.2071e-02, 1.2624e-03,\n",
      "         3.0641e-03, 1.7255e-03, 7.3217e-03, 5.4296e-04, 2.7146e-03, 1.3974e-03,\n",
      "         3.0348e-02, 1.8154e-03, 6.4984e-04, 1.3410e-04, 9.8524e-03, 3.3330e-02,\n",
      "         2.0016e-03, 2.6621e-03, 4.8393e-03, 6.6926e-03, 6.2984e-04, 5.1014e-03,\n",
      "         2.2156e-03, 1.0065e-03, 1.0245e-02, 1.8013e-03, 5.7590e-02, 7.9476e-03,\n",
      "         2.6992e-02, 5.2137e-01, 8.2642e-03, 1.6401e-03, 2.3039e-03, 8.5419e-04,\n",
      "         2.4576e-02, 1.7121e-03, 4.7226e-03, 1.3650e-03, 5.4837e-03, 8.0099e-03,\n",
      "         6.2504e-03, 2.6935e-03, 1.3258e-02, 8.0099e-03, 2.4050e-03, 5.4517e-03,\n",
      "         9.9865e-04, 3.4388e-02, 7.2495e-04, 7.3063e-04, 7.8244e-03, 4.3592e-03,\n",
      "         2.1984e-03, 6.2008e-04, 2.9414e-02, 4.2749e-03, 1.8991e-02]],\n",
      "       device='cuda:0')\n",
      "Class ID type <class 'int'>\n",
      "Top3 ID : tensor([55, 34, 37])\n",
      "Query: You are an expert in analyzing students' answers to math problems and identifying specific types of misunderstandings.\n",
      "Given the following information, classify the student's misunderstanding.\n",
      "\n",
      "Question: A bag contains \\( 24 \\) yellow and green balls. \\( \\frac{3}{8} \\) of the balls are yellow. How many of the balls are green?\n",
      "Answer: \\( 15 \\)\n",
      "Correct: True\n",
      "Student Explanation: if you divided 24 by the dino inalterable you get three. next you do 3 x 3 to get nine and the remaining number is the answer\n",
      "\n",
      "Please determine the type of misunderstanding the student has.\n",
      "\n",
      "              Predict Class ID: 37\n",
      "              Predict Text: True_Correct:NA\n",
      "              Actual Class ID: 62\n",
      "              Actual Class Text: True_Misconception:Wrong_fraction\n",
      "             MAP@3 Score : 0.0\n",
      "------------------------------\n",
      "Data 3\n",
      "Logits Dimension: torch.Size([1, 65])\n",
      "Probailities : tensor([[0.0288, 0.0083, 0.0096, 0.0043, 0.0010, 0.0729, 0.0095, 0.0017, 0.0011,\n",
      "         0.0110, 0.0014, 0.0242, 0.0568, 0.0035, 0.0166, 0.0023, 0.0019, 0.0042,\n",
      "         0.0025, 0.0145, 0.0039, 0.0044, 0.0153, 0.0194, 0.1722, 0.0052, 0.0056,\n",
      "         0.0009, 0.0008, 0.0138, 0.0233, 0.0100, 0.0129, 0.0028, 0.0172, 0.0224,\n",
      "         0.0643, 0.0355, 0.0177, 0.0041, 0.0043, 0.0015, 0.0030, 0.0002, 0.0013,\n",
      "         0.0018, 0.0004, 0.0153, 0.0936, 0.0031, 0.0051, 0.0027, 0.0041, 0.0288,\n",
      "         0.0014, 0.0154, 0.0011, 0.0038, 0.0212, 0.0008, 0.0024, 0.0129, 0.0029,\n",
      "         0.0060, 0.0393]], device='cuda:0')\n",
      "Class ID type <class 'int'>\n",
      "Top3 ID : tensor([ 5, 48, 24])\n",
      "Query: You are an expert in analyzing students' answers to math problems and identifying specific types of misunderstandings.\n",
      "Given the following information, classify the student's misunderstanding.\n",
      "\n",
      "Question: The probability of an event occurring is \\( 0.9 \\).\n",
      "\n",
      "Which of the following most accurately describes the likelihood of the event occurring?\n",
      "Answer: Unlikely\n",
      "Correct: False\n",
      "Student Explanation: 0.9 is such a low number\n",
      "\n",
      "Please determine the type of misunderstanding the student has.\n",
      "\n",
      "              Predict Class ID: 24\n",
      "              Predict Text: False_Misconception:Scale\n",
      "              Actual Class ID: 24\n",
      "              Actual Class Text: False_Misconception:Scale\n",
      "             MAP@3 Score : 0.3333333333333333\n",
      "------------------------------\n",
      "Data 4\n",
      "Logits Dimension: torch.Size([1, 65])\n",
      "Probailities : tensor([[5.0194e-03, 3.3666e-03, 1.2704e-03, 6.5786e-03, 1.5996e-03, 9.2051e-03,\n",
      "         1.8235e-02, 3.6402e-03, 6.0260e-02, 4.6354e-03, 7.6176e-02, 5.1535e-03,\n",
      "         7.0706e-04, 9.3137e-03, 1.4091e-02, 5.3484e-03, 3.8304e-02, 2.5165e-03,\n",
      "         1.8522e-02, 8.2020e-04, 8.1235e-03, 2.7906e-04, 4.4972e-03, 5.7492e-03,\n",
      "         1.3952e-03, 2.8024e-02, 1.9145e-03, 1.6248e-03, 1.2383e-04, 3.0060e-03,\n",
      "         6.9756e-03, 1.4202e-02, 1.6346e-02, 5.2398e-03, 7.8594e-02, 3.3279e-02,\n",
      "         5.4017e-02, 1.9151e-01, 1.7915e-03, 1.8556e-03, 1.2243e-02, 1.8628e-03,\n",
      "         4.8217e-04, 6.6943e-04, 7.1132e-03, 2.5716e-02, 8.1382e-04, 6.5274e-03,\n",
      "         3.1258e-03, 2.6528e-03, 2.0863e-03, 1.0554e-02, 5.6160e-03, 1.1234e-02,\n",
      "         5.7708e-04, 6.6302e-03, 1.1124e-03, 8.3965e-04, 2.5712e-03, 1.2217e-03,\n",
      "         2.4925e-02, 5.1687e-03, 6.4388e-03, 1.0092e-01, 1.5597e-02]],\n",
      "       device='cuda:0')\n",
      "Class ID type <class 'int'>\n",
      "Top3 ID : tensor([34, 63, 37])\n",
      "Query: You are an expert in analyzing students' answers to math problems and identifying specific types of misunderstandings.\n",
      "Given the following information, classify the student's misunderstanding.\n",
      "\n",
      "Question: Dots have been arranged in these patterns: [Image: Pattern 1 consists of 6 dots, Pattern 2 consists of 10 dots, Pattern 3 consists of 14 dots and Pattern 4 consists of 18 dots] How many dots would there be in Pattern \\( 6 \\) ?\n",
      "Answer: \\( 26 \\)\n",
      "Correct: True\n",
      "Student Explanation: on each term one line of 4 blue circles are added.\n",
      "\n",
      "Please determine the type of misunderstanding the student has.\n",
      "\n",
      "              Predict Class ID: 37\n",
      "              Predict Text: True_Correct:NA\n",
      "              Actual Class ID: 63\n",
      "              Actual Class Text: True_Misconception:Wrong_term\n",
      "             MAP@3 Score : 0.5\n",
      "------------------------------\n",
      "Data 5\n",
      "Logits Dimension: torch.Size([1, 65])\n",
      "Probailities : tensor([[0.0229, 0.0034, 0.0094, 0.0032, 0.0009, 0.0087, 0.0055, 0.0489, 0.0438,\n",
      "         0.0082, 0.0026, 0.0014, 0.0063, 0.0599, 0.0183, 0.0151, 0.0014, 0.0068,\n",
      "         0.0124, 0.0025, 0.0048, 0.0061, 0.0032, 0.0063, 0.0010, 0.0264, 0.0512,\n",
      "         0.0008, 0.0031, 0.0062, 0.0050, 0.0052, 0.0108, 0.0006, 0.0016, 0.0020,\n",
      "         0.0438, 0.0323, 0.0161, 0.0043, 0.0058, 0.0083, 0.0013, 0.1229, 0.0049,\n",
      "         0.0019, 0.0066, 0.0031, 0.0027, 0.0045, 0.0019, 0.0048, 0.0019, 0.0081,\n",
      "         0.0075, 0.0053, 0.0004, 0.1845, 0.0010, 0.0099, 0.0279, 0.0184, 0.0128,\n",
      "         0.0091, 0.0323]], device='cuda:0')\n",
      "Class ID type <class 'int'>\n",
      "Top3 ID : tensor([13, 43, 57])\n",
      "Query: You are an expert in analyzing students' answers to math problems and identifying specific types of misunderstandings.\n",
      "Given the following information, classify the student's misunderstanding.\n",
      "\n",
      "Question: Sally has \\( \\frac{2}{3} \\) of a whole cake in the fridge. Robert eats \\( \\frac{1}{3} \\) of this piece. What fraction of the whole cake has Robert eaten?\n",
      "Choose the number sentence that would solve the word problem.\n",
      "Answer: \\( \\frac{1}{3} \\times \\frac{2}{3} \\)\n",
      "Correct: True\n",
      "Student Explanation: because i did 2/3 divided by  1/3.\n",
      "\n",
      "Please determine the type of misunderstanding the student has.\n",
      "\n",
      "              Predict Class ID: 57\n",
      "              Predict Text: True_Misconception:Subtraction\n",
      "              Actual Class ID: 43\n",
      "              Actual Class Text: True_Misconception:Division\n",
      "             MAP@3 Score : 0.5\n",
      "------------------------------\n",
      "Data 6\n",
      "Logits Dimension: torch.Size([1, 65])\n",
      "Probailities : tensor([[0.0117, 0.0198, 0.0083, 0.0080, 0.0113, 0.0279, 0.0020, 0.0087, 0.0034,\n",
      "         0.0044, 0.0012, 0.0056, 0.0159, 0.0007, 0.0011, 0.0052, 0.0089, 0.1147,\n",
      "         0.0057, 0.1044, 0.0595, 0.0015, 0.0042, 0.0025, 0.0013, 0.0051, 0.0011,\n",
      "         0.0140, 0.0035, 0.0103, 0.0053, 0.0114, 0.0018, 0.1012, 0.0005, 0.0010,\n",
      "         0.1384, 0.0069, 0.0031, 0.0033, 0.0012, 0.0088, 0.0040, 0.0040, 0.0021,\n",
      "         0.0009, 0.0109, 0.0106, 0.0058, 0.0384, 0.0047, 0.0006, 0.0111, 0.0042,\n",
      "         0.0055, 0.0039, 0.0011, 0.0007, 0.0478, 0.0126, 0.0004, 0.0046, 0.0093,\n",
      "         0.0049, 0.0568]], device='cuda:0')\n",
      "Class ID type <class 'int'>\n",
      "Top3 ID : tensor([19, 17, 36])\n",
      "Query: You are an expert in analyzing students' answers to math problems and identifying specific types of misunderstandings.\n",
      "Given the following information, classify the student's misunderstanding.\n",
      "\n",
      "Question: Calculate \\( \\frac{2}{3} \\times 5 \\)\n",
      "Answer: \\( \\frac{2}{15} \\)\n",
      "Correct: False\n",
      "Student Explanation: i used the method stick,change, flip\n",
      "\n",
      "Please determine the type of misunderstanding the student has.\n",
      "\n",
      "              Predict Class ID: 36\n",
      "              Predict Text: False_Neither:NA\n",
      "              Actual Class ID: 36\n",
      "              Actual Class Text: False_Neither:NA\n",
      "             MAP@3 Score : 0.3333333333333333\n",
      "------------------------------\n",
      "Data 7\n",
      "Logits Dimension: torch.Size([1, 65])\n",
      "Probailities : tensor([[0.0411, 0.0047, 0.0046, 0.0122, 0.0126, 0.0081, 0.0007, 0.0019, 0.0055,\n",
      "         0.0032, 0.0058, 0.0061, 0.1857, 0.0013, 0.0084, 0.0034, 0.0218, 0.0017,\n",
      "         0.0191, 0.0171, 0.0094, 0.0020, 0.0064, 0.0039, 0.0096, 0.0363, 0.0040,\n",
      "         0.0022, 0.0052, 0.0225, 0.0151, 0.0824, 0.0174, 0.0050, 0.0170, 0.0112,\n",
      "         0.0994, 0.0424, 0.0115, 0.0036, 0.0051, 0.0091, 0.0199, 0.0019, 0.0055,\n",
      "         0.0019, 0.0016, 0.0034, 0.0105, 0.0036, 0.0013, 0.0094, 0.0038, 0.0100,\n",
      "         0.0125, 0.0048, 0.0155, 0.0049, 0.0146, 0.0025, 0.0019, 0.0097, 0.0187,\n",
      "         0.0052, 0.0508]], device='cuda:0')\n",
      "Class ID type <class 'int'>\n",
      "Top3 ID : tensor([31, 36, 12])\n",
      "Query: You are an expert in analyzing students' answers to math problems and identifying specific types of misunderstandings.\n",
      "Given the following information, classify the student's misunderstanding.\n",
      "\n",
      "Question: Which number is the greatest?\n",
      "Answer: \\( 6 \\)\n",
      "Correct: False\n",
      "Student Explanation: i think this because this number has 2 tenths , the others only have nothing or hundredths or thousandths after the decimal place.\n",
      "\n",
      "Please determine the type of misunderstanding the student has.\n",
      "\n",
      "              Predict Class ID: 12\n",
      "              Predict Text: False_Misconception:Ignores_zeroes\n",
      "              Actual Class ID: 0\n",
      "              Actual Class Text: False_Correct:NA\n",
      "             MAP@3 Score : 0.0\n",
      "------------------------------\n",
      "Data 8\n",
      "Logits Dimension: torch.Size([1, 65])\n",
      "Probailities : tensor([[1.5066e-02, 2.5034e-02, 2.4454e-02, 1.8173e-02, 9.1199e-03, 7.1916e-03,\n",
      "         4.4883e-03, 1.4153e-02, 1.2660e-03, 3.2328e-03, 2.4594e-03, 3.2906e-02,\n",
      "         4.9875e-03, 3.1211e-03, 7.4982e-03, 1.6129e-03, 2.8753e-03, 1.5605e-02,\n",
      "         3.1703e-03, 7.2409e-03, 2.5230e-02, 4.3164e-03, 4.6671e-03, 3.9455e-03,\n",
      "         2.8307e-03, 8.0326e-03, 7.2134e-04, 1.6324e-01, 4.6854e-03, 1.3062e-03,\n",
      "         1.4345e-03, 2.6385e-03, 3.6776e-03, 1.0874e-01, 1.2367e-03, 6.5678e-04,\n",
      "         7.3578e-02, 2.0916e-02, 3.2966e-03, 4.1026e-03, 6.1699e-04, 3.0133e-03,\n",
      "         8.9610e-03, 7.3269e-04, 2.4981e-03, 3.3025e-04, 7.0732e-03, 3.5644e-03,\n",
      "         7.1898e-03, 1.2131e-01, 5.7462e-03, 9.7828e-04, 4.5686e-02, 2.2746e-03,\n",
      "         1.6772e-03, 3.9455e-03, 5.3300e-03, 3.9836e-04, 3.9384e-02, 1.7752e-02,\n",
      "         1.5600e-04, 3.8241e-03, 8.3281e-03, 3.3879e-03, 6.2935e-02]],\n",
      "       device='cuda:0')\n",
      "Class ID type <class 'int'>\n",
      "Top3 ID : tensor([33, 49, 27])\n",
      "Query: You are an expert in analyzing students' answers to math problems and identifying specific types of misunderstandings.\n",
      "Given the following information, classify the student's misunderstanding.\n",
      "\n",
      "Question: Calculate \\( \\frac{1}{2} \\div 6 \\)\n",
      "Answer: \\( \\frac{1}{3} \\)\n",
      "Correct: False\n",
      "Student Explanation: I think that if I take away 3 from 6 and leave the 1 alone\n",
      "\n",
      "Please determine the type of misunderstanding the student has.\n",
      "\n",
      "              Predict Class ID: 27\n",
      "              Predict Text: False_Misconception:SwapDividend\n",
      "              Actual Class ID: 36\n",
      "              Actual Class Text: False_Neither:NA\n",
      "             MAP@3 Score : 0.0\n",
      "------------------------------\n",
      "Data 9\n",
      "Logits Dimension: torch.Size([1, 65])\n",
      "Probailities : tensor([[8.0053e-03, 8.8265e-03, 2.9339e-02, 1.0420e-02, 5.9345e-03, 4.0563e-04,\n",
      "         3.5041e-03, 6.0723e-03, 1.9351e-03, 1.2016e-03, 2.1673e-03, 7.4606e-04,\n",
      "         4.1127e-03, 4.9699e-04, 4.1450e-03, 7.4026e-04, 4.8854e-01, 1.2016e-03,\n",
      "         2.0968e-02, 8.7749e-03, 3.1657e-03, 1.2110e-03, 2.4654e-03, 5.8797e-03,\n",
      "         9.4311e-04, 1.0061e-02, 2.0080e-04, 2.6095e-02, 6.5721e-03, 3.2662e-03,\n",
      "         2.1757e-03, 1.3300e-03, 2.9507e-03, 1.3751e-02, 3.3176e-03, 5.1977e-03,\n",
      "         4.9908e-02, 2.1132e-02, 2.0439e-03, 2.1588e-03, 2.8437e-02, 9.3409e-03,\n",
      "         1.4868e-02, 1.8465e-03, 4.7423e-04, 4.7430e-03, 1.3615e-03, 4.6877e-03,\n",
      "         2.2495e-02, 5.9056e-03, 1.4837e-03, 1.1049e-02, 1.3276e-02, 9.2320e-03,\n",
      "         3.4841e-02, 1.5221e-02, 9.6548e-04, 5.7203e-04, 1.2110e-03, 1.3697e-02,\n",
      "         2.5939e-03, 2.6040e-03, 6.8540e-03, 1.1737e-03, 1.9698e-02]],\n",
      "       device='cuda:0')\n",
      "Class ID type <class 'int'>\n",
      "Top3 ID : tensor([54, 36, 16])\n",
      "Query: You are an expert in analyzing students' answers to math problems and identifying specific types of misunderstandings.\n",
      "Given the following information, classify the student's misunderstanding.\n",
      "\n",
      "Question: \\( 2 y=24 \\) What is the value of \\( y \\) ?\n",
      "Answer: \\( 48 \\)\n",
      "Correct: False\n",
      "Student Explanation: y=24------->48\n",
      "\n",
      "Please determine the type of misunderstanding the student has.\n",
      "\n",
      "              Predict Class ID: 16\n",
      "              Predict Text: False_Misconception:Inverse_operation\n",
      "              Actual Class ID: 16\n",
      "              Actual Class Text: False_Misconception:Inverse_operation\n",
      "             MAP@3 Score : 0.3333333333333333\n",
      "------------------------------\n",
      "Data 10\n",
      "Logits Dimension: torch.Size([1, 65])\n",
      "Probailities : tensor([[0.0145, 0.0090, 0.0119, 0.0076, 0.0022, 0.0039, 0.0036, 0.0049, 0.0108,\n",
      "         0.0039, 0.0005, 0.0356, 0.0032, 0.0230, 0.0009, 0.0027, 0.0009, 0.0192,\n",
      "         0.0017, 0.0044, 0.0048, 0.0053, 0.0128, 0.0010, 0.0023, 0.0088, 0.0009,\n",
      "         0.0241, 0.0050, 0.0051, 0.0029, 0.0010, 0.0016, 0.0171, 0.0031, 0.0048,\n",
      "         0.0277, 0.0783, 0.0041, 0.0006, 0.0003, 0.0040, 0.0072, 0.0120, 0.0241,\n",
      "         0.0003, 0.1607, 0.0056, 0.0088, 0.0419, 0.0070, 0.0009, 0.2162, 0.0032,\n",
      "         0.0006, 0.0003, 0.0010, 0.0022, 0.0140, 0.0182, 0.0021, 0.0029, 0.0033,\n",
      "         0.0033, 0.0847]], device='cuda:0')\n",
      "Class ID type <class 'int'>\n",
      "Top3 ID : tensor([64, 46, 52])\n",
      "Query: You are an expert in analyzing students' answers to math problems and identifying specific types of misunderstandings.\n",
      "Given the following information, classify the student's misunderstanding.\n",
      "\n",
      "Question: Calculate \\( \\frac{1}{2} \\div 6 \\)\n",
      "Answer: \\( \\frac{1}{12} \\)\n",
      "Correct: True\n",
      "Student Explanation: I think this one because it is 1 is divided by 6 and 6 is divided by 2\n",
      "\n",
      "Please determine the type of misunderstanding the student has.\n",
      "\n",
      "              Predict Class ID: 52\n",
      "              Predict Text: True_Misconception:Mult\n",
      "              Actual Class ID: 46\n",
      "              Actual Class Text: True_Misconception:FlipChange\n",
      "             MAP@3 Score : 0.5\n",
      "------------------------------\n",
      "Data 11\n",
      "Logits Dimension: torch.Size([1, 65])\n",
      "Probailities : tensor([[0.0148, 0.0041, 0.0130, 0.0035, 0.0016, 0.0139, 0.0056, 0.0359, 0.1071,\n",
      "         0.0079, 0.0022, 0.0006, 0.0053, 0.0796, 0.0087, 0.0309, 0.0013, 0.0091,\n",
      "         0.0069, 0.0025, 0.0082, 0.0046, 0.0025, 0.0024, 0.0010, 0.0514, 0.0327,\n",
      "         0.0003, 0.0034, 0.0029, 0.0050, 0.0053, 0.0174, 0.0007, 0.0014, 0.0022,\n",
      "         0.0660, 0.0324, 0.0145, 0.0070, 0.0043, 0.0254, 0.0012, 0.0640, 0.0053,\n",
      "         0.0049, 0.0128, 0.0037, 0.0021, 0.0049, 0.0036, 0.0038, 0.0046, 0.0048,\n",
      "         0.0077, 0.0012, 0.0001, 0.0760, 0.0008, 0.0115, 0.0592, 0.0211, 0.0083,\n",
      "         0.0114, 0.0413]], device='cuda:0')\n",
      "Class ID type <class 'int'>\n",
      "Top3 ID : tensor([57, 13,  8])\n",
      "Query: You are an expert in analyzing students' answers to math problems and identifying specific types of misunderstandings.\n",
      "Given the following information, classify the student's misunderstanding.\n",
      "\n",
      "Question: Sally has \\( \\frac{2}{3} \\) of a whole cake in the fridge. Robert eats \\( \\frac{1}{3} \\) of this piece. What fraction of the whole cake has Robert eaten?\n",
      "Choose the number sentence that would solve the word problem.\n",
      "Answer: \\( \\frac{2}{3} \\div \\frac{1}{3} \\)\n",
      "Correct: False\n",
      "Student Explanation: i think this because sally has eaten 2/3 of the cake and robert has eaten 1/3 of her peace so we have to divide it to find out how much robert has eaten.\n",
      "\n",
      "Please determine the type of misunderstanding the student has.\n",
      "\n",
      "              Predict Class ID: 8\n",
      "              Predict Text: False_Misconception:Division\n",
      "              Actual Class ID: 8\n",
      "              Actual Class Text: False_Misconception:Division\n",
      "             MAP@3 Score : 0.3333333333333333\n",
      "------------------------------\n",
      "Data 12\n",
      "Logits Dimension: torch.Size([1, 65])\n",
      "Probailities : tensor([[0.0085, 0.0156, 0.0032, 0.0238, 0.0038, 0.0073, 0.0174, 0.0022, 0.0215,\n",
      "         0.0056, 0.0598, 0.0038, 0.0064, 0.0022, 0.0084, 0.0075, 0.0188, 0.0020,\n",
      "         0.0418, 0.0009, 0.0045, 0.0003, 0.0030, 0.0187, 0.0035, 0.0218, 0.0017,\n",
      "         0.0013, 0.0003, 0.0037, 0.0044, 0.0170, 0.0291, 0.0060, 0.0792, 0.0187,\n",
      "         0.0699, 0.1576, 0.0025, 0.0043, 0.0169, 0.0059, 0.0018, 0.0026, 0.0047,\n",
      "         0.0154, 0.0009, 0.0028, 0.0177, 0.0018, 0.0059, 0.0162, 0.0022, 0.0075,\n",
      "         0.0008, 0.0085, 0.0012, 0.0015, 0.0047, 0.0011, 0.0108, 0.0123, 0.0072,\n",
      "         0.0398, 0.1017]], device='cuda:0')\n",
      "Class ID type <class 'int'>\n",
      "Top3 ID : tensor([34, 64, 37])\n",
      "Query: You are an expert in analyzing students' answers to math problems and identifying specific types of misunderstandings.\n",
      "Given the following information, classify the student's misunderstanding.\n",
      "\n",
      "Question: Dots have been arranged in these patterns: [Image: Pattern 1 consists of 6 dots, Pattern 2 consists of 10 dots, Pattern 3 consists of 14 dots and Pattern 4 consists of 18 dots] How many dots would there be in Pattern \\( 6 \\) ?\n",
      "Answer: \\( 26 \\)\n",
      "Correct: True\n",
      "Student Explanation: because it goes up 6 each time #\n",
      "\n",
      "Please determine the type of misunderstanding the student has.\n",
      "\n",
      "              Predict Class ID: 37\n",
      "              Predict Text: True_Correct:NA\n",
      "              Actual Class ID: 45\n",
      "              Actual Class Text: True_Misconception:Firstterm\n",
      "             MAP@3 Score : 0.0\n",
      "------------------------------\n",
      "Data 13\n",
      "Logits Dimension: torch.Size([1, 65])\n",
      "Probailities : tensor([[0.0074, 0.0180, 0.0029, 0.0015, 0.0125, 0.0061, 0.0071, 0.0063, 0.0123,\n",
      "         0.0064, 0.0019, 0.0015, 0.0032, 0.0086, 0.0035, 0.0474, 0.0022, 0.0081,\n",
      "         0.0125, 0.0054, 0.0105, 0.0017, 0.0051, 0.0026, 0.0012, 0.0132, 0.0038,\n",
      "         0.0003, 0.0037, 0.1735, 0.0071, 0.0187, 0.0246, 0.0004, 0.0017, 0.0053,\n",
      "         0.2125, 0.0396, 0.0064, 0.0094, 0.0025, 0.0609, 0.0008, 0.0057, 0.0017,\n",
      "         0.0039, 0.0057, 0.0145, 0.0355, 0.0028, 0.0109, 0.0022, 0.0035, 0.0202,\n",
      "         0.0075, 0.0010, 0.0006, 0.0042, 0.0107, 0.0044, 0.0056, 0.0228, 0.0024,\n",
      "         0.0031, 0.0513]], device='cuda:0')\n",
      "Class ID type <class 'int'>\n",
      "Top3 ID : tensor([41, 29, 36])\n",
      "Query: You are an expert in analyzing students' answers to math problems and identifying specific types of misunderstandings.\n",
      "Given the following information, classify the student's misunderstanding.\n",
      "\n",
      "Question: This is part of a regular polygon. How many sides does it have? [Image: A diagram showing an obtuse angle labelled 144 degrees]\n",
      "Answer: Not enough information\n",
      "Correct: False\n",
      "Student Explanation: you cant work out the rest of the angle by giving one of the angles.\n",
      "\n",
      "Please determine the type of misunderstanding the student has.\n",
      "\n",
      "              Predict Class ID: 36\n",
      "              Predict Text: False_Neither:NA\n",
      "              Actual Class ID: 29\n",
      "              Actual Class Text: False_Misconception:Unknowable\n",
      "             MAP@3 Score : 0.5\n",
      "------------------------------\n",
      "Data 14\n",
      "Logits Dimension: torch.Size([1, 65])\n",
      "Probailities : tensor([[0.0076, 0.0034, 0.0031, 0.0028, 0.0034, 0.0073, 0.0025, 0.0350, 0.0029,\n",
      "         0.0188, 0.0094, 0.0204, 0.0650, 0.0018, 0.0102, 0.0040, 0.0066, 0.0019,\n",
      "         0.0126, 0.0038, 0.0055, 0.0026, 0.0130, 0.0081, 0.0104, 0.0267, 0.0021,\n",
      "         0.0019, 0.0026, 0.0154, 0.0224, 0.0081, 0.0130, 0.0039, 0.0254, 0.0461,\n",
      "         0.0124, 0.1659, 0.0015, 0.0014, 0.0006, 0.0012, 0.0188, 0.0019, 0.0079,\n",
      "         0.0002, 0.0017, 0.0119, 0.0048, 0.0142, 0.0033, 0.1054, 0.0188, 0.0200,\n",
      "         0.0027, 0.0141, 0.0232, 0.0039, 0.0036, 0.0028, 0.0027, 0.0615, 0.0146,\n",
      "         0.0100, 0.0394]], device='cuda:0')\n",
      "Class ID type <class 'int'>\n",
      "Top3 ID : tensor([12, 51, 37])\n",
      "Query: You are an expert in analyzing students' answers to math problems and identifying specific types of misunderstandings.\n",
      "Given the following information, classify the student's misunderstanding.\n",
      "\n",
      "Question: Which number is the greatest?\n",
      "Answer: \\( 6.2 \\)\n",
      "Correct: True\n",
      "Student Explanation: d because it has a 6 the same as a but it also has a decimal number which makes it bigger\n",
      "\n",
      "Please determine the type of misunderstanding the student has.\n",
      "\n",
      "              Predict Class ID: 37\n",
      "              Predict Text: True_Correct:NA\n",
      "              Actual Class ID: 51\n",
      "              Actual Class Text: True_Misconception:Longer_is_bigger\n",
      "             MAP@3 Score : 0.5\n",
      "------------------------------\n",
      "Data 15\n",
      "Logits Dimension: torch.Size([1, 65])\n",
      "Probailities : tensor([[3.9434e-03, 3.6127e-01, 2.3778e-03, 3.1501e-03, 2.3047e-03, 8.8347e-03,\n",
      "         4.1246e-03, 3.6051e-02, 5.5170e-04, 1.6994e-03, 2.6423e-03, 2.6735e-03,\n",
      "         1.1409e-03, 3.2433e-04, 2.2210e-02, 9.2949e-03, 2.1527e-02, 8.6300e-03,\n",
      "         7.3088e-04, 9.3313e-03, 1.4880e-03, 2.9424e-02, 1.0307e-03, 5.4058e-03,\n",
      "         6.1548e-03, 1.4738e-02, 1.0695e-04, 4.7388e-02, 2.1315e-03, 7.2106e-03,\n",
      "         1.7127e-03, 2.7741e-04, 2.2778e-03, 2.6375e-02, 1.7708e-02, 7.6607e-03,\n",
      "         5.8975e-02, 8.3156e-03, 3.1134e-03, 2.6944e-03, 1.7396e-03, 1.1704e-02,\n",
      "         1.1704e-02, 2.6888e-04, 1.5233e-03, 4.8687e-04, 2.5213e-03, 3.5695e-03,\n",
      "         1.8703e-02, 1.1256e-02, 1.0469e-03, 1.3737e-02, 1.2754e-02, 2.1482e-03,\n",
      "         3.2374e-03, 5.8975e-02, 7.1966e-03, 1.1035e-04, 7.9815e-03, 5.3847e-03,\n",
      "         6.1546e-04, 1.9754e-02, 3.7335e-03, 8.0272e-04, 5.2046e-02]],\n",
      "       device='cuda:0')\n",
      "Class ID type <class 'int'>\n",
      "Top3 ID : tensor([36, 55,  1])\n",
      "Query: You are an expert in analyzing students' answers to math problems and identifying specific types of misunderstandings.\n",
      "Given the following information, classify the student's misunderstanding.\n",
      "\n",
      "Question: \\( \\frac{1}{3}+\\frac{2}{5}= \\)\n",
      "Answer: \\( \\frac{3}{8} \\)\n",
      "Correct: False\n",
      "Student Explanation: add the top then the bottom\n",
      "\n",
      "Please determine the type of misunderstanding the student has.\n",
      "\n",
      "              Predict Class ID: 1\n",
      "              Predict Text: False_Misconception:Adding_across\n",
      "              Actual Class ID: 1\n",
      "              Actual Class Text: False_Misconception:Adding_across\n",
      "             MAP@3 Score : 0.3333333333333333\n",
      "------------------------------\n",
      "Data 16\n",
      "Logits Dimension: torch.Size([1, 65])\n",
      "Probailities : tensor([[0.0187, 0.0116, 0.0041, 0.0089, 0.0066, 0.0081, 0.0018, 0.0062, 0.0036,\n",
      "         0.0078, 0.0067, 0.0084, 0.2078, 0.0020, 0.0062, 0.0028, 0.0342, 0.0013,\n",
      "         0.0104, 0.0314, 0.0066, 0.0046, 0.0054, 0.0057, 0.0050, 0.0564, 0.0025,\n",
      "         0.0044, 0.0100, 0.0206, 0.0216, 0.0277, 0.0106, 0.0140, 0.0281, 0.0109,\n",
      "         0.1095, 0.0224, 0.0104, 0.0041, 0.0056, 0.0094, 0.0141, 0.0046, 0.0024,\n",
      "         0.0025, 0.0009, 0.0051, 0.0102, 0.0093, 0.0016, 0.0227, 0.0047, 0.0103,\n",
      "         0.0113, 0.0112, 0.0140, 0.0019, 0.0111, 0.0026, 0.0006, 0.0180, 0.0096,\n",
      "         0.0062, 0.0412]], device='cuda:0')\n",
      "Class ID type <class 'int'>\n",
      "Top3 ID : tensor([25, 36, 12])\n",
      "Query: You are an expert in analyzing students' answers to math problems and identifying specific types of misunderstandings.\n",
      "Given the following information, classify the student's misunderstanding.\n",
      "\n",
      "Question: Which number is the greatest?\n",
      "Answer: \\( 6.079 \\)\n",
      "Correct: False\n",
      "Student Explanation: i think the answer is c because it has the highest tenths.\n",
      "\n",
      "Please determine the type of misunderstanding the student has.\n",
      "\n",
      "              Predict Class ID: 12\n",
      "              Predict Text: False_Misconception:Ignores_zeroes\n",
      "              Actual Class ID: 12\n",
      "              Actual Class Text: False_Misconception:Ignores_zeroes\n",
      "             MAP@3 Score : 0.3333333333333333\n",
      "------------------------------\n",
      "Data 17\n",
      "Logits Dimension: torch.Size([1, 65])\n",
      "Probailities : tensor([[0.0145, 0.0082, 0.0039, 0.0042, 0.0074, 0.0201, 0.0026, 0.0136, 0.0046,\n",
      "         0.0068, 0.0065, 0.0076, 0.0488, 0.0011, 0.0098, 0.0033, 0.0129, 0.0017,\n",
      "         0.0039, 0.0120, 0.0052, 0.0063, 0.0066, 0.0216, 0.0131, 0.0473, 0.0011,\n",
      "         0.0023, 0.0084, 0.0277, 0.0127, 0.0077, 0.0209, 0.0072, 0.0303, 0.0196,\n",
      "         0.0677, 0.0351, 0.0013, 0.0050, 0.0020, 0.0040, 0.0480, 0.0020, 0.0056,\n",
      "         0.0008, 0.0012, 0.0032, 0.0196, 0.0199, 0.0037, 0.0434, 0.0251, 0.0254,\n",
      "         0.0053, 0.0308, 0.0325, 0.0056, 0.0068, 0.0076, 0.0020, 0.0672, 0.0357,\n",
      "         0.0062, 0.0557]], device='cuda:0')\n",
      "Class ID type <class 'int'>\n",
      "Top3 ID : tensor([64, 61, 36])\n",
      "Query: You are an expert in analyzing students' answers to math problems and identifying specific types of misunderstandings.\n",
      "Given the following information, classify the student's misunderstanding.\n",
      "\n",
      "Question: Which number is the greatest?\n",
      "Answer: \\( 6.2 \\)\n",
      "Correct: True\n",
      "Student Explanation: because the tenths are the biggest and 2 is bigger than 0\n",
      "\n",
      "Please determine the type of misunderstanding the student has.\n",
      "\n",
      "              Predict Class ID: 36\n",
      "              Predict Text: False_Neither:NA\n",
      "              Actual Class ID: 37\n",
      "              Actual Class Text: True_Correct:NA\n",
      "             MAP@3 Score : 0.0\n",
      "------------------------------\n",
      "Data 18\n",
      "Logits Dimension: torch.Size([1, 65])\n",
      "Probailities : tensor([[0.0023, 0.0142, 0.0534, 0.0084, 0.0074, 0.0004, 0.0041, 0.0180, 0.0008,\n",
      "         0.0011, 0.0052, 0.0117, 0.0031, 0.0005, 0.0221, 0.0007, 0.3595, 0.0011,\n",
      "         0.0635, 0.0258, 0.0115, 0.0006, 0.0056, 0.0077, 0.0122, 0.0064, 0.0010,\n",
      "         0.0254, 0.0014, 0.0014, 0.0012, 0.0005, 0.0036, 0.0142, 0.0036, 0.0252,\n",
      "         0.0376, 0.0057, 0.0012, 0.0056, 0.0146, 0.0054, 0.0100, 0.0013, 0.0007,\n",
      "         0.0062, 0.0010, 0.0035, 0.0195, 0.0123, 0.0106, 0.0040, 0.0133, 0.0502,\n",
      "         0.0108, 0.0078, 0.0013, 0.0005, 0.0125, 0.0081, 0.0016, 0.0060, 0.0038,\n",
      "         0.0023, 0.0180]], device='cuda:0')\n",
      "Class ID type <class 'int'>\n",
      "Top3 ID : tensor([ 2, 18, 16])\n",
      "Query: You are an expert in analyzing students' answers to math problems and identifying specific types of misunderstandings.\n",
      "Given the following information, classify the student's misunderstanding.\n",
      "\n",
      "Question: \\( 2 y=24 \\) What is the value of \\( y \\) ?\n",
      "Answer: \\( 48 \\)\n",
      "Correct: False\n",
      "Student Explanation: the answer is c because it's in the 2x table.\n",
      "\n",
      "Please determine the type of misunderstanding the student has.\n",
      "\n",
      "              Predict Class ID: 16\n",
      "              Predict Text: False_Misconception:Inverse_operation\n",
      "              Actual Class ID: 16\n",
      "              Actual Class Text: False_Misconception:Inverse_operation\n",
      "             MAP@3 Score : 0.3333333333333333\n",
      "------------------------------\n",
      "Data 19\n",
      "Logits Dimension: torch.Size([1, 65])\n",
      "Probailities : tensor([[1.6484e-02, 6.2935e-03, 1.2443e-02, 6.8986e-03, 1.7648e-03, 5.7303e-03,\n",
      "         2.4598e-03, 3.8773e-03, 1.0235e-02, 4.7669e-03, 3.5024e-04, 5.4474e-02,\n",
      "         2.1963e-03, 2.6967e-02, 8.6009e-04, 2.4985e-03, 9.0137e-04, 2.2010e-02,\n",
      "         1.8351e-03, 6.3677e-03, 3.7727e-03, 2.6910e-03, 1.5729e-02, 1.1484e-03,\n",
      "         2.1878e-03, 9.0680e-03, 7.8312e-04, 2.6757e-02, 4.4628e-03, 4.6202e-03,\n",
      "         2.9555e-03, 8.6684e-04, 1.4631e-03, 1.5977e-02, 2.8646e-03, 4.8787e-03,\n",
      "         2.6549e-02, 7.1048e-02, 3.4284e-03, 5.3404e-04, 2.8585e-04, 3.3555e-03,\n",
      "         9.0327e-03, 9.1035e-03, 2.5934e-02, 1.7611e-04, 1.8143e-01, 4.8597e-03,\n",
      "         1.1463e-02, 3.9854e-02, 9.2108e-03, 8.1432e-04, 2.0240e-01, 3.0732e-03,\n",
      "         5.5967e-04, 2.3698e-04, 1.0538e-03, 1.9842e-03, 1.4434e-02, 1.8247e-02,\n",
      "         1.9082e-03, 2.2660e-03, 3.8098e-03, 2.5478e-03, 6.0770e-02]],\n",
      "       device='cuda:0')\n",
      "Class ID type <class 'int'>\n",
      "Top3 ID : tensor([37, 46, 52])\n",
      "Query: You are an expert in analyzing students' answers to math problems and identifying specific types of misunderstandings.\n",
      "Given the following information, classify the student's misunderstanding.\n",
      "\n",
      "Question: Calculate \\( \\frac{1}{2} \\div 6 \\)\n",
      "Answer: \\( \\frac{1}{12} \\)\n",
      "Correct: True\n",
      "Student Explanation: I think this one because it is 1 is divided by 6 and 6 is divided by 2\n",
      "\n",
      "Please determine the type of misunderstanding the student has.\n",
      "\n",
      "              Predict Class ID: 52\n",
      "              Predict Text: True_Misconception:Mult\n",
      "              Actual Class ID: 46\n",
      "              Actual Class Text: True_Misconception:FlipChange\n",
      "             MAP@3 Score : 0.5\n",
      "------------------------------\n"
     ]
    }
   ],
   "source": [
    "testValDataset(datasetDict[\"val\"], 20 )"
   ]
  },
  {
   "cell_type": "code",
   "execution_count": null,
   "id": "4b5d8ef0",
   "metadata": {
    "papermill": {
     "duration": 0.037656,
     "end_time": "2025-09-28T15:00:48.928075",
     "exception": false,
     "start_time": "2025-09-28T15:00:48.890419",
     "status": "completed"
    },
    "tags": []
   },
   "outputs": [],
   "source": []
  },
  {
   "cell_type": "code",
   "execution_count": null,
   "id": "531ff7d4",
   "metadata": {
    "papermill": {
     "duration": 0.03605,
     "end_time": "2025-09-28T15:00:49.004169",
     "exception": false,
     "start_time": "2025-09-28T15:00:48.968119",
     "status": "completed"
    },
    "tags": []
   },
   "outputs": [],
   "source": []
  }
 ],
 "metadata": {
  "kaggle": {
   "accelerator": "nvidiaTeslaT4",
   "dataSources": [
    {
     "databundleVersionId": 12957508,
     "sourceId": 104383,
     "sourceType": "competition"
    },
    {
     "datasetId": 5404413,
     "sourceId": 12932535,
     "sourceType": "datasetVersion"
    },
    {
     "datasetId": 8319386,
     "sourceId": 13132370,
     "sourceType": "datasetVersion"
    },
    {
     "modelId": 368800,
     "modelInstanceId": 347538,
     "sourceId": 426326,
     "sourceType": "modelInstanceVersion"
    }
   ],
   "dockerImageVersionId": 31089,
   "isGpuEnabled": true,
   "isInternetEnabled": false,
   "language": "python",
   "sourceType": "notebook"
  },
  "kernelspec": {
   "display_name": "Python 3",
   "language": "python",
   "name": "python3"
  },
  "language_info": {
   "codemirror_mode": {
    "name": "ipython",
    "version": 3
   },
   "file_extension": ".py",
   "mimetype": "text/x-python",
   "name": "python",
   "nbconvert_exporter": "python",
   "pygments_lexer": "ipython3",
   "version": "3.11.13"
  },
  "papermill": {
   "default_parameters": {},
   "duration": 12088.236522,
   "end_time": "2025-09-28T15:00:52.761287",
   "environment_variables": {},
   "exception": null,
   "input_path": "__notebook__.ipynb",
   "output_path": "__notebook__.ipynb",
   "parameters": {},
   "start_time": "2025-09-28T11:39:24.524765",
   "version": "2.6.0"
  },
  "widgets": {
   "application/vnd.jupyter.widget-state+json": {
    "state": {
     "11e03933bdbe4cbda5b1071e13c45b82": {
      "model_module": "@jupyter-widgets/controls",
      "model_module_version": "2.0.0",
      "model_name": "ProgressStyleModel",
      "state": {
       "_model_module": "@jupyter-widgets/controls",
       "_model_module_version": "2.0.0",
       "_model_name": "ProgressStyleModel",
       "_view_count": null,
       "_view_module": "@jupyter-widgets/base",
       "_view_module_version": "2.0.0",
       "_view_name": "StyleView",
       "bar_color": null,
       "description_width": ""
      }
     },
     "17e086bc7c2c4216813bbe9f3dec79d9": {
      "model_module": "@jupyter-widgets/controls",
      "model_module_version": "2.0.0",
      "model_name": "HTMLModel",
      "state": {
       "_dom_classes": [],
       "_model_module": "@jupyter-widgets/controls",
       "_model_module_version": "2.0.0",
       "_model_name": "HTMLModel",
       "_view_count": null,
       "_view_module": "@jupyter-widgets/controls",
       "_view_module_version": "2.0.0",
       "_view_name": "HTMLView",
       "description": "",
       "description_allow_html": false,
       "layout": "IPY_MODEL_6774f7b556b14dbc8e0bbb57935ae056",
       "placeholder": "​",
       "style": "IPY_MODEL_d4790690e74f408e8cf2b95d93be5dad",
       "tabbable": null,
       "tooltip": null,
       "value": " 88965/88965 [00:24&lt;00:00, 3847.93 examples/s]"
      }
     },
     "18bb5ee747094d5eb8a8da031af810f4": {
      "model_module": "@jupyter-widgets/base",
      "model_module_version": "2.0.0",
      "model_name": "LayoutModel",
      "state": {
       "_model_module": "@jupyter-widgets/base",
       "_model_module_version": "2.0.0",
       "_model_name": "LayoutModel",
       "_view_count": null,
       "_view_module": "@jupyter-widgets/base",
       "_view_module_version": "2.0.0",
       "_view_name": "LayoutView",
       "align_content": null,
       "align_items": null,
       "align_self": null,
       "border_bottom": null,
       "border_left": null,
       "border_right": null,
       "border_top": null,
       "bottom": null,
       "display": null,
       "flex": null,
       "flex_flow": null,
       "grid_area": null,
       "grid_auto_columns": null,
       "grid_auto_flow": null,
       "grid_auto_rows": null,
       "grid_column": null,
       "grid_gap": null,
       "grid_row": null,
       "grid_template_areas": null,
       "grid_template_columns": null,
       "grid_template_rows": null,
       "height": null,
       "justify_content": null,
       "justify_items": null,
       "left": null,
       "margin": null,
       "max_height": null,
       "max_width": null,
       "min_height": null,
       "min_width": null,
       "object_fit": null,
       "object_position": null,
       "order": null,
       "overflow": null,
       "padding": null,
       "right": null,
       "top": null,
       "visibility": null,
       "width": null
      }
     },
     "3cccafaa28e74c3d9d3e925dabb5ac1a": {
      "model_module": "@jupyter-widgets/base",
      "model_module_version": "2.0.0",
      "model_name": "LayoutModel",
      "state": {
       "_model_module": "@jupyter-widgets/base",
       "_model_module_version": "2.0.0",
       "_model_name": "LayoutModel",
       "_view_count": null,
       "_view_module": "@jupyter-widgets/base",
       "_view_module_version": "2.0.0",
       "_view_name": "LayoutView",
       "align_content": null,
       "align_items": null,
       "align_self": null,
       "border_bottom": null,
       "border_left": null,
       "border_right": null,
       "border_top": null,
       "bottom": null,
       "display": null,
       "flex": null,
       "flex_flow": null,
       "grid_area": null,
       "grid_auto_columns": null,
       "grid_auto_flow": null,
       "grid_auto_rows": null,
       "grid_column": null,
       "grid_gap": null,
       "grid_row": null,
       "grid_template_areas": null,
       "grid_template_columns": null,
       "grid_template_rows": null,
       "height": null,
       "justify_content": null,
       "justify_items": null,
       "left": null,
       "margin": null,
       "max_height": null,
       "max_width": null,
       "min_height": null,
       "min_width": null,
       "object_fit": null,
       "object_position": null,
       "order": null,
       "overflow": null,
       "padding": null,
       "right": null,
       "top": null,
       "visibility": null,
       "width": null
      }
     },
     "406b37f849e3452ebd952bd492fd72e2": {
      "model_module": "@jupyter-widgets/controls",
      "model_module_version": "2.0.0",
      "model_name": "HTMLModel",
      "state": {
       "_dom_classes": [],
       "_model_module": "@jupyter-widgets/controls",
       "_model_module_version": "2.0.0",
       "_model_name": "HTMLModel",
       "_view_count": null,
       "_view_module": "@jupyter-widgets/controls",
       "_view_module_version": "2.0.0",
       "_view_name": "HTMLView",
       "description": "",
       "description_allow_html": false,
       "layout": "IPY_MODEL_18bb5ee747094d5eb8a8da031af810f4",
       "placeholder": "​",
       "style": "IPY_MODEL_80ea1504a90c42c196a733aaf1b3a7ac",
       "tabbable": null,
       "tooltip": null,
       "value": "Map: 100%"
      }
     },
     "493a657070d3434e92de5fdd98ece43a": {
      "model_module": "@jupyter-widgets/controls",
      "model_module_version": "2.0.0",
      "model_name": "HTMLModel",
      "state": {
       "_dom_classes": [],
       "_model_module": "@jupyter-widgets/controls",
       "_model_module_version": "2.0.0",
       "_model_name": "HTMLModel",
       "_view_count": null,
       "_view_module": "@jupyter-widgets/controls",
       "_view_module_version": "2.0.0",
       "_view_name": "HTMLView",
       "description": "",
       "description_allow_html": false,
       "layout": "IPY_MODEL_af02a279744442a3931e2367e7842235",
       "placeholder": "​",
       "style": "IPY_MODEL_8c6215599b634128838010d0443455bc",
       "tabbable": null,
       "tooltip": null,
       "value": "Map: 100%"
      }
     },
     "498824f2868847a9b795102889b31fb3": {
      "model_module": "@jupyter-widgets/controls",
      "model_module_version": "2.0.0",
      "model_name": "HTMLStyleModel",
      "state": {
       "_model_module": "@jupyter-widgets/controls",
       "_model_module_version": "2.0.0",
       "_model_name": "HTMLStyleModel",
       "_view_count": null,
       "_view_module": "@jupyter-widgets/base",
       "_view_module_version": "2.0.0",
       "_view_name": "StyleView",
       "background": null,
       "description_width": "",
       "font_size": null,
       "text_color": null
      }
     },
     "6774f7b556b14dbc8e0bbb57935ae056": {
      "model_module": "@jupyter-widgets/base",
      "model_module_version": "2.0.0",
      "model_name": "LayoutModel",
      "state": {
       "_model_module": "@jupyter-widgets/base",
       "_model_module_version": "2.0.0",
       "_model_name": "LayoutModel",
       "_view_count": null,
       "_view_module": "@jupyter-widgets/base",
       "_view_module_version": "2.0.0",
       "_view_name": "LayoutView",
       "align_content": null,
       "align_items": null,
       "align_self": null,
       "border_bottom": null,
       "border_left": null,
       "border_right": null,
       "border_top": null,
       "bottom": null,
       "display": null,
       "flex": null,
       "flex_flow": null,
       "grid_area": null,
       "grid_auto_columns": null,
       "grid_auto_flow": null,
       "grid_auto_rows": null,
       "grid_column": null,
       "grid_gap": null,
       "grid_row": null,
       "grid_template_areas": null,
       "grid_template_columns": null,
       "grid_template_rows": null,
       "height": null,
       "justify_content": null,
       "justify_items": null,
       "left": null,
       "margin": null,
       "max_height": null,
       "max_width": null,
       "min_height": null,
       "min_width": null,
       "object_fit": null,
       "object_position": null,
       "order": null,
       "overflow": null,
       "padding": null,
       "right": null,
       "top": null,
       "visibility": null,
       "width": null
      }
     },
     "6a53b35b1354432881c4ae8eeb3c918b": {
      "model_module": "@jupyter-widgets/controls",
      "model_module_version": "2.0.0",
      "model_name": "FloatProgressModel",
      "state": {
       "_dom_classes": [],
       "_model_module": "@jupyter-widgets/controls",
       "_model_module_version": "2.0.0",
       "_model_name": "FloatProgressModel",
       "_view_count": null,
       "_view_module": "@jupyter-widgets/controls",
       "_view_module_version": "2.0.0",
       "_view_name": "ProgressView",
       "bar_style": "success",
       "description": "",
       "description_allow_html": false,
       "layout": "IPY_MODEL_3cccafaa28e74c3d9d3e925dabb5ac1a",
       "max": 88965.0,
       "min": 0.0,
       "orientation": "horizontal",
       "style": "IPY_MODEL_11e03933bdbe4cbda5b1071e13c45b82",
       "tabbable": null,
       "tooltip": null,
       "value": 88965.0
      }
     },
     "6d0c9051a049458cbb8cbba1ce82f56c": {
      "model_module": "@jupyter-widgets/base",
      "model_module_version": "2.0.0",
      "model_name": "LayoutModel",
      "state": {
       "_model_module": "@jupyter-widgets/base",
       "_model_module_version": "2.0.0",
       "_model_name": "LayoutModel",
       "_view_count": null,
       "_view_module": "@jupyter-widgets/base",
       "_view_module_version": "2.0.0",
       "_view_name": "LayoutView",
       "align_content": null,
       "align_items": null,
       "align_self": null,
       "border_bottom": null,
       "border_left": null,
       "border_right": null,
       "border_top": null,
       "bottom": null,
       "display": null,
       "flex": null,
       "flex_flow": null,
       "grid_area": null,
       "grid_auto_columns": null,
       "grid_auto_flow": null,
       "grid_auto_rows": null,
       "grid_column": null,
       "grid_gap": null,
       "grid_row": null,
       "grid_template_areas": null,
       "grid_template_columns": null,
       "grid_template_rows": null,
       "height": null,
       "justify_content": null,
       "justify_items": null,
       "left": null,
       "margin": null,
       "max_height": null,
       "max_width": null,
       "min_height": null,
       "min_width": null,
       "object_fit": null,
       "object_position": null,
       "order": null,
       "overflow": null,
       "padding": null,
       "right": null,
       "top": null,
       "visibility": null,
       "width": null
      }
     },
     "765e2e0930a04b8b8fa6544a2a20f764": {
      "model_module": "@jupyter-widgets/controls",
      "model_module_version": "2.0.0",
      "model_name": "HTMLModel",
      "state": {
       "_dom_classes": [],
       "_model_module": "@jupyter-widgets/controls",
       "_model_module_version": "2.0.0",
       "_model_name": "HTMLModel",
       "_view_count": null,
       "_view_module": "@jupyter-widgets/controls",
       "_view_module_version": "2.0.0",
       "_view_name": "HTMLView",
       "description": "",
       "description_allow_html": false,
       "layout": "IPY_MODEL_d724ed8d3bad48e487dcd2c77bae2eb8",
       "placeholder": "​",
       "style": "IPY_MODEL_498824f2868847a9b795102889b31fb3",
       "tabbable": null,
       "tooltip": null,
       "value": " 90/90 [00:00&lt;00:00, 2500.96 examples/s]"
      }
     },
     "788bc5cd09c44f63b1ee0e8aa67a1a9b": {
      "model_module": "@jupyter-widgets/base",
      "model_module_version": "2.0.0",
      "model_name": "LayoutModel",
      "state": {
       "_model_module": "@jupyter-widgets/base",
       "_model_module_version": "2.0.0",
       "_model_name": "LayoutModel",
       "_view_count": null,
       "_view_module": "@jupyter-widgets/base",
       "_view_module_version": "2.0.0",
       "_view_name": "LayoutView",
       "align_content": null,
       "align_items": null,
       "align_self": null,
       "border_bottom": null,
       "border_left": null,
       "border_right": null,
       "border_top": null,
       "bottom": null,
       "display": null,
       "flex": null,
       "flex_flow": null,
       "grid_area": null,
       "grid_auto_columns": null,
       "grid_auto_flow": null,
       "grid_auto_rows": null,
       "grid_column": null,
       "grid_gap": null,
       "grid_row": null,
       "grid_template_areas": null,
       "grid_template_columns": null,
       "grid_template_rows": null,
       "height": null,
       "justify_content": null,
       "justify_items": null,
       "left": null,
       "margin": null,
       "max_height": null,
       "max_width": null,
       "min_height": null,
       "min_width": null,
       "object_fit": null,
       "object_position": null,
       "order": null,
       "overflow": null,
       "padding": null,
       "right": null,
       "top": null,
       "visibility": null,
       "width": null
      }
     },
     "7978412572de44c5b84557e59710eff8": {
      "model_module": "@jupyter-widgets/controls",
      "model_module_version": "2.0.0",
      "model_name": "FloatProgressModel",
      "state": {
       "_dom_classes": [],
       "_model_module": "@jupyter-widgets/controls",
       "_model_module_version": "2.0.0",
       "_model_name": "FloatProgressModel",
       "_view_count": null,
       "_view_module": "@jupyter-widgets/controls",
       "_view_module_version": "2.0.0",
       "_view_name": "ProgressView",
       "bar_style": "success",
       "description": "",
       "description_allow_html": false,
       "layout": "IPY_MODEL_99164e81f808428aad678ad45034e275",
       "max": 2.0,
       "min": 0.0,
       "orientation": "horizontal",
       "style": "IPY_MODEL_bfd3a90c445f4450b07f6a9762b2f96e",
       "tabbable": null,
       "tooltip": null,
       "value": 2.0
      }
     },
     "80ea1504a90c42c196a733aaf1b3a7ac": {
      "model_module": "@jupyter-widgets/controls",
      "model_module_version": "2.0.0",
      "model_name": "HTMLStyleModel",
      "state": {
       "_model_module": "@jupyter-widgets/controls",
       "_model_module_version": "2.0.0",
       "_model_name": "HTMLStyleModel",
       "_view_count": null,
       "_view_module": "@jupyter-widgets/base",
       "_view_module_version": "2.0.0",
       "_view_name": "StyleView",
       "background": null,
       "description_width": "",
       "font_size": null,
       "text_color": null
      }
     },
     "8205b452f71e49969cde8cd85cc7becb": {
      "model_module": "@jupyter-widgets/controls",
      "model_module_version": "2.0.0",
      "model_name": "HBoxModel",
      "state": {
       "_dom_classes": [],
       "_model_module": "@jupyter-widgets/controls",
       "_model_module_version": "2.0.0",
       "_model_name": "HBoxModel",
       "_view_count": null,
       "_view_module": "@jupyter-widgets/controls",
       "_view_module_version": "2.0.0",
       "_view_name": "HBoxView",
       "box_style": "",
       "children": [
        "IPY_MODEL_c9bd54afc1eb400fa22191d001b8bb23",
        "IPY_MODEL_7978412572de44c5b84557e59710eff8",
        "IPY_MODEL_9c0100719dc041509b8e55c97a42188e"
       ],
       "layout": "IPY_MODEL_6d0c9051a049458cbb8cbba1ce82f56c",
       "tabbable": null,
       "tooltip": null
      }
     },
     "8c6215599b634128838010d0443455bc": {
      "model_module": "@jupyter-widgets/controls",
      "model_module_version": "2.0.0",
      "model_name": "HTMLStyleModel",
      "state": {
       "_model_module": "@jupyter-widgets/controls",
       "_model_module_version": "2.0.0",
       "_model_name": "HTMLStyleModel",
       "_view_count": null,
       "_view_module": "@jupyter-widgets/base",
       "_view_module_version": "2.0.0",
       "_view_name": "StyleView",
       "background": null,
       "description_width": "",
       "font_size": null,
       "text_color": null
      }
     },
     "94d57948eb3f460cbf2a099e76d46e61": {
      "model_module": "@jupyter-widgets/controls",
      "model_module_version": "2.0.0",
      "model_name": "HTMLStyleModel",
      "state": {
       "_model_module": "@jupyter-widgets/controls",
       "_model_module_version": "2.0.0",
       "_model_name": "HTMLStyleModel",
       "_view_count": null,
       "_view_module": "@jupyter-widgets/base",
       "_view_module_version": "2.0.0",
       "_view_name": "StyleView",
       "background": null,
       "description_width": "",
       "font_size": null,
       "text_color": null
      }
     },
     "99164e81f808428aad678ad45034e275": {
      "model_module": "@jupyter-widgets/base",
      "model_module_version": "2.0.0",
      "model_name": "LayoutModel",
      "state": {
       "_model_module": "@jupyter-widgets/base",
       "_model_module_version": "2.0.0",
       "_model_name": "LayoutModel",
       "_view_count": null,
       "_view_module": "@jupyter-widgets/base",
       "_view_module_version": "2.0.0",
       "_view_name": "LayoutView",
       "align_content": null,
       "align_items": null,
       "align_self": null,
       "border_bottom": null,
       "border_left": null,
       "border_right": null,
       "border_top": null,
       "bottom": null,
       "display": null,
       "flex": null,
       "flex_flow": null,
       "grid_area": null,
       "grid_auto_columns": null,
       "grid_auto_flow": null,
       "grid_auto_rows": null,
       "grid_column": null,
       "grid_gap": null,
       "grid_row": null,
       "grid_template_areas": null,
       "grid_template_columns": null,
       "grid_template_rows": null,
       "height": null,
       "justify_content": null,
       "justify_items": null,
       "left": null,
       "margin": null,
       "max_height": null,
       "max_width": null,
       "min_height": null,
       "min_width": null,
       "object_fit": null,
       "object_position": null,
       "order": null,
       "overflow": null,
       "padding": null,
       "right": null,
       "top": null,
       "visibility": null,
       "width": null
      }
     },
     "9c0100719dc041509b8e55c97a42188e": {
      "model_module": "@jupyter-widgets/controls",
      "model_module_version": "2.0.0",
      "model_name": "HTMLModel",
      "state": {
       "_dom_classes": [],
       "_model_module": "@jupyter-widgets/controls",
       "_model_module_version": "2.0.0",
       "_model_name": "HTMLModel",
       "_view_count": null,
       "_view_module": "@jupyter-widgets/controls",
       "_view_module_version": "2.0.0",
       "_view_name": "HTMLView",
       "description": "",
       "description_allow_html": false,
       "layout": "IPY_MODEL_a62f049bc8ea4749baeecad4651880a7",
       "placeholder": "​",
       "style": "IPY_MODEL_94d57948eb3f460cbf2a099e76d46e61",
       "tabbable": null,
       "tooltip": null,
       "value": " 2/2 [01:02&lt;00:00, 31.02s/it]"
      }
     },
     "a62f049bc8ea4749baeecad4651880a7": {
      "model_module": "@jupyter-widgets/base",
      "model_module_version": "2.0.0",
      "model_name": "LayoutModel",
      "state": {
       "_model_module": "@jupyter-widgets/base",
       "_model_module_version": "2.0.0",
       "_model_name": "LayoutModel",
       "_view_count": null,
       "_view_module": "@jupyter-widgets/base",
       "_view_module_version": "2.0.0",
       "_view_name": "LayoutView",
       "align_content": null,
       "align_items": null,
       "align_self": null,
       "border_bottom": null,
       "border_left": null,
       "border_right": null,
       "border_top": null,
       "bottom": null,
       "display": null,
       "flex": null,
       "flex_flow": null,
       "grid_area": null,
       "grid_auto_columns": null,
       "grid_auto_flow": null,
       "grid_auto_rows": null,
       "grid_column": null,
       "grid_gap": null,
       "grid_row": null,
       "grid_template_areas": null,
       "grid_template_columns": null,
       "grid_template_rows": null,
       "height": null,
       "justify_content": null,
       "justify_items": null,
       "left": null,
       "margin": null,
       "max_height": null,
       "max_width": null,
       "min_height": null,
       "min_width": null,
       "object_fit": null,
       "object_position": null,
       "order": null,
       "overflow": null,
       "padding": null,
       "right": null,
       "top": null,
       "visibility": null,
       "width": null
      }
     },
     "a9e023526de54431b775f296d67fe4de": {
      "model_module": "@jupyter-widgets/base",
      "model_module_version": "2.0.0",
      "model_name": "LayoutModel",
      "state": {
       "_model_module": "@jupyter-widgets/base",
       "_model_module_version": "2.0.0",
       "_model_name": "LayoutModel",
       "_view_count": null,
       "_view_module": "@jupyter-widgets/base",
       "_view_module_version": "2.0.0",
       "_view_name": "LayoutView",
       "align_content": null,
       "align_items": null,
       "align_self": null,
       "border_bottom": null,
       "border_left": null,
       "border_right": null,
       "border_top": null,
       "bottom": null,
       "display": null,
       "flex": null,
       "flex_flow": null,
       "grid_area": null,
       "grid_auto_columns": null,
       "grid_auto_flow": null,
       "grid_auto_rows": null,
       "grid_column": null,
       "grid_gap": null,
       "grid_row": null,
       "grid_template_areas": null,
       "grid_template_columns": null,
       "grid_template_rows": null,
       "height": null,
       "justify_content": null,
       "justify_items": null,
       "left": null,
       "margin": null,
       "max_height": null,
       "max_width": null,
       "min_height": null,
       "min_width": null,
       "object_fit": null,
       "object_position": null,
       "order": null,
       "overflow": null,
       "padding": null,
       "right": null,
       "top": null,
       "visibility": null,
       "width": null
      }
     },
     "ae5d5920e32343e4be2d1c48f47a892f": {
      "model_module": "@jupyter-widgets/controls",
      "model_module_version": "2.0.0",
      "model_name": "ProgressStyleModel",
      "state": {
       "_model_module": "@jupyter-widgets/controls",
       "_model_module_version": "2.0.0",
       "_model_name": "ProgressStyleModel",
       "_view_count": null,
       "_view_module": "@jupyter-widgets/base",
       "_view_module_version": "2.0.0",
       "_view_name": "StyleView",
       "bar_color": null,
       "description_width": ""
      }
     },
     "af02a279744442a3931e2367e7842235": {
      "model_module": "@jupyter-widgets/base",
      "model_module_version": "2.0.0",
      "model_name": "LayoutModel",
      "state": {
       "_model_module": "@jupyter-widgets/base",
       "_model_module_version": "2.0.0",
       "_model_name": "LayoutModel",
       "_view_count": null,
       "_view_module": "@jupyter-widgets/base",
       "_view_module_version": "2.0.0",
       "_view_name": "LayoutView",
       "align_content": null,
       "align_items": null,
       "align_self": null,
       "border_bottom": null,
       "border_left": null,
       "border_right": null,
       "border_top": null,
       "bottom": null,
       "display": null,
       "flex": null,
       "flex_flow": null,
       "grid_area": null,
       "grid_auto_columns": null,
       "grid_auto_flow": null,
       "grid_auto_rows": null,
       "grid_column": null,
       "grid_gap": null,
       "grid_row": null,
       "grid_template_areas": null,
       "grid_template_columns": null,
       "grid_template_rows": null,
       "height": null,
       "justify_content": null,
       "justify_items": null,
       "left": null,
       "margin": null,
       "max_height": null,
       "max_width": null,
       "min_height": null,
       "min_width": null,
       "object_fit": null,
       "object_position": null,
       "order": null,
       "overflow": null,
       "padding": null,
       "right": null,
       "top": null,
       "visibility": null,
       "width": null
      }
     },
     "bfd3a90c445f4450b07f6a9762b2f96e": {
      "model_module": "@jupyter-widgets/controls",
      "model_module_version": "2.0.0",
      "model_name": "ProgressStyleModel",
      "state": {
       "_model_module": "@jupyter-widgets/controls",
       "_model_module_version": "2.0.0",
       "_model_name": "ProgressStyleModel",
       "_view_count": null,
       "_view_module": "@jupyter-widgets/base",
       "_view_module_version": "2.0.0",
       "_view_name": "StyleView",
       "bar_color": null,
       "description_width": ""
      }
     },
     "c9bd54afc1eb400fa22191d001b8bb23": {
      "model_module": "@jupyter-widgets/controls",
      "model_module_version": "2.0.0",
      "model_name": "HTMLModel",
      "state": {
       "_dom_classes": [],
       "_model_module": "@jupyter-widgets/controls",
       "_model_module_version": "2.0.0",
       "_model_name": "HTMLModel",
       "_view_count": null,
       "_view_module": "@jupyter-widgets/controls",
       "_view_module_version": "2.0.0",
       "_view_name": "HTMLView",
       "description": "",
       "description_allow_html": false,
       "layout": "IPY_MODEL_a9e023526de54431b775f296d67fe4de",
       "placeholder": "​",
       "style": "IPY_MODEL_e0528cb0d0654088a76643432ab2efeb",
       "tabbable": null,
       "tooltip": null,
       "value": "Loading checkpoint shards: 100%"
      }
     },
     "d4790690e74f408e8cf2b95d93be5dad": {
      "model_module": "@jupyter-widgets/controls",
      "model_module_version": "2.0.0",
      "model_name": "HTMLStyleModel",
      "state": {
       "_model_module": "@jupyter-widgets/controls",
       "_model_module_version": "2.0.0",
       "_model_name": "HTMLStyleModel",
       "_view_count": null,
       "_view_module": "@jupyter-widgets/base",
       "_view_module_version": "2.0.0",
       "_view_name": "StyleView",
       "background": null,
       "description_width": "",
       "font_size": null,
       "text_color": null
      }
     },
     "d64282ed08724963a5dbc71ac4329a80": {
      "model_module": "@jupyter-widgets/controls",
      "model_module_version": "2.0.0",
      "model_name": "HBoxModel",
      "state": {
       "_dom_classes": [],
       "_model_module": "@jupyter-widgets/controls",
       "_model_module_version": "2.0.0",
       "_model_name": "HBoxModel",
       "_view_count": null,
       "_view_module": "@jupyter-widgets/controls",
       "_view_module_version": "2.0.0",
       "_view_name": "HBoxView",
       "box_style": "",
       "children": [
        "IPY_MODEL_406b37f849e3452ebd952bd492fd72e2",
        "IPY_MODEL_6a53b35b1354432881c4ae8eeb3c918b",
        "IPY_MODEL_17e086bc7c2c4216813bbe9f3dec79d9"
       ],
       "layout": "IPY_MODEL_788bc5cd09c44f63b1ee0e8aa67a1a9b",
       "tabbable": null,
       "tooltip": null
      }
     },
     "d724ed8d3bad48e487dcd2c77bae2eb8": {
      "model_module": "@jupyter-widgets/base",
      "model_module_version": "2.0.0",
      "model_name": "LayoutModel",
      "state": {
       "_model_module": "@jupyter-widgets/base",
       "_model_module_version": "2.0.0",
       "_model_name": "LayoutModel",
       "_view_count": null,
       "_view_module": "@jupyter-widgets/base",
       "_view_module_version": "2.0.0",
       "_view_name": "LayoutView",
       "align_content": null,
       "align_items": null,
       "align_self": null,
       "border_bottom": null,
       "border_left": null,
       "border_right": null,
       "border_top": null,
       "bottom": null,
       "display": null,
       "flex": null,
       "flex_flow": null,
       "grid_area": null,
       "grid_auto_columns": null,
       "grid_auto_flow": null,
       "grid_auto_rows": null,
       "grid_column": null,
       "grid_gap": null,
       "grid_row": null,
       "grid_template_areas": null,
       "grid_template_columns": null,
       "grid_template_rows": null,
       "height": null,
       "justify_content": null,
       "justify_items": null,
       "left": null,
       "margin": null,
       "max_height": null,
       "max_width": null,
       "min_height": null,
       "min_width": null,
       "object_fit": null,
       "object_position": null,
       "order": null,
       "overflow": null,
       "padding": null,
       "right": null,
       "top": null,
       "visibility": null,
       "width": null
      }
     },
     "e0528cb0d0654088a76643432ab2efeb": {
      "model_module": "@jupyter-widgets/controls",
      "model_module_version": "2.0.0",
      "model_name": "HTMLStyleModel",
      "state": {
       "_model_module": "@jupyter-widgets/controls",
       "_model_module_version": "2.0.0",
       "_model_name": "HTMLStyleModel",
       "_view_count": null,
       "_view_module": "@jupyter-widgets/base",
       "_view_module_version": "2.0.0",
       "_view_name": "StyleView",
       "background": null,
       "description_width": "",
       "font_size": null,
       "text_color": null
      }
     },
     "e2a15351df3f47d8b44ad923ad29e0b0": {
      "model_module": "@jupyter-widgets/controls",
      "model_module_version": "2.0.0",
      "model_name": "HBoxModel",
      "state": {
       "_dom_classes": [],
       "_model_module": "@jupyter-widgets/controls",
       "_model_module_version": "2.0.0",
       "_model_name": "HBoxModel",
       "_view_count": null,
       "_view_module": "@jupyter-widgets/controls",
       "_view_module_version": "2.0.0",
       "_view_name": "HBoxView",
       "box_style": "",
       "children": [
        "IPY_MODEL_493a657070d3434e92de5fdd98ece43a",
        "IPY_MODEL_ef07385c3b934fb79052f4592092629a",
        "IPY_MODEL_765e2e0930a04b8b8fa6544a2a20f764"
       ],
       "layout": "IPY_MODEL_fac349c5c9414f8ab3405ea4bbf2815b",
       "tabbable": null,
       "tooltip": null
      }
     },
     "ef07385c3b934fb79052f4592092629a": {
      "model_module": "@jupyter-widgets/controls",
      "model_module_version": "2.0.0",
      "model_name": "FloatProgressModel",
      "state": {
       "_dom_classes": [],
       "_model_module": "@jupyter-widgets/controls",
       "_model_module_version": "2.0.0",
       "_model_name": "FloatProgressModel",
       "_view_count": null,
       "_view_module": "@jupyter-widgets/controls",
       "_view_module_version": "2.0.0",
       "_view_name": "ProgressView",
       "bar_style": "success",
       "description": "",
       "description_allow_html": false,
       "layout": "IPY_MODEL_f560672a518a43fb8f615205673ddd9e",
       "max": 90.0,
       "min": 0.0,
       "orientation": "horizontal",
       "style": "IPY_MODEL_ae5d5920e32343e4be2d1c48f47a892f",
       "tabbable": null,
       "tooltip": null,
       "value": 90.0
      }
     },
     "f560672a518a43fb8f615205673ddd9e": {
      "model_module": "@jupyter-widgets/base",
      "model_module_version": "2.0.0",
      "model_name": "LayoutModel",
      "state": {
       "_model_module": "@jupyter-widgets/base",
       "_model_module_version": "2.0.0",
       "_model_name": "LayoutModel",
       "_view_count": null,
       "_view_module": "@jupyter-widgets/base",
       "_view_module_version": "2.0.0",
       "_view_name": "LayoutView",
       "align_content": null,
       "align_items": null,
       "align_self": null,
       "border_bottom": null,
       "border_left": null,
       "border_right": null,
       "border_top": null,
       "bottom": null,
       "display": null,
       "flex": null,
       "flex_flow": null,
       "grid_area": null,
       "grid_auto_columns": null,
       "grid_auto_flow": null,
       "grid_auto_rows": null,
       "grid_column": null,
       "grid_gap": null,
       "grid_row": null,
       "grid_template_areas": null,
       "grid_template_columns": null,
       "grid_template_rows": null,
       "height": null,
       "justify_content": null,
       "justify_items": null,
       "left": null,
       "margin": null,
       "max_height": null,
       "max_width": null,
       "min_height": null,
       "min_width": null,
       "object_fit": null,
       "object_position": null,
       "order": null,
       "overflow": null,
       "padding": null,
       "right": null,
       "top": null,
       "visibility": null,
       "width": null
      }
     },
     "fac349c5c9414f8ab3405ea4bbf2815b": {
      "model_module": "@jupyter-widgets/base",
      "model_module_version": "2.0.0",
      "model_name": "LayoutModel",
      "state": {
       "_model_module": "@jupyter-widgets/base",
       "_model_module_version": "2.0.0",
       "_model_name": "LayoutModel",
       "_view_count": null,
       "_view_module": "@jupyter-widgets/base",
       "_view_module_version": "2.0.0",
       "_view_name": "LayoutView",
       "align_content": null,
       "align_items": null,
       "align_self": null,
       "border_bottom": null,
       "border_left": null,
       "border_right": null,
       "border_top": null,
       "bottom": null,
       "display": null,
       "flex": null,
       "flex_flow": null,
       "grid_area": null,
       "grid_auto_columns": null,
       "grid_auto_flow": null,
       "grid_auto_rows": null,
       "grid_column": null,
       "grid_gap": null,
       "grid_row": null,
       "grid_template_areas": null,
       "grid_template_columns": null,
       "grid_template_rows": null,
       "height": null,
       "justify_content": null,
       "justify_items": null,
       "left": null,
       "margin": null,
       "max_height": null,
       "max_width": null,
       "min_height": null,
       "min_width": null,
       "object_fit": null,
       "object_position": null,
       "order": null,
       "overflow": null,
       "padding": null,
       "right": null,
       "top": null,
       "visibility": null,
       "width": null
      }
     }
    },
    "version_major": 2,
    "version_minor": 0
   }
  }
 },
 "nbformat": 4,
 "nbformat_minor": 5
}
