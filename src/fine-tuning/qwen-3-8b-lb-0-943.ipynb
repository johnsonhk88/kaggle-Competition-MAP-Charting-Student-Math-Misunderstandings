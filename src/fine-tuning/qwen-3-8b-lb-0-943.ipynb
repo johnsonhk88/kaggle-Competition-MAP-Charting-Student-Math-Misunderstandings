{
 "cells": [
  {
   "cell_type": "markdown",
   "id": "b79fa811",
   "metadata": {
    "papermill": {
     "duration": 0.003335,
     "end_time": "2025-08-11T01:39:58.886840",
     "exception": false,
     "start_time": "2025-08-11T01:39:58.883505",
     "status": "completed"
    },
    "tags": []
   },
   "source": [
    "## Step 1: Imports"
   ]
  },
  {
   "cell_type": "code",
   "execution_count": 1,
   "id": "19dde6a0",
   "metadata": {
    "execution": {
     "iopub.execute_input": "2025-08-11T01:39:58.893143Z",
     "iopub.status.busy": "2025-08-11T01:39:58.892864Z",
     "iopub.status.idle": "2025-08-11T01:40:05.583179Z",
     "shell.execute_reply": "2025-08-11T01:40:05.582415Z"
    },
    "papermill": {
     "duration": 6.694948,
     "end_time": "2025-08-11T01:40:05.584580",
     "exception": false,
     "start_time": "2025-08-11T01:39:58.889632",
     "status": "completed"
    },
    "tags": []
   },
   "outputs": [],
   "source": [
    "import os\n",
    "import torch\n",
    "os.environ[\"CUDA_VISIBLE_DEVICES\"] = \"0\""
   ]
  },
  {
   "cell_type": "code",
   "execution_count": 2,
   "id": "5c06c56b",
   "metadata": {
    "execution": {
     "iopub.execute_input": "2025-08-11T01:40:05.591450Z",
     "iopub.status.busy": "2025-08-11T01:40:05.590830Z",
     "iopub.status.idle": "2025-08-11T01:40:44.817871Z",
     "shell.execute_reply": "2025-08-11T01:40:44.817096Z"
    },
    "papermill": {
     "duration": 39.232134,
     "end_time": "2025-08-11T01:40:44.819716",
     "exception": false,
     "start_time": "2025-08-11T01:40:05.587582",
     "status": "completed"
    },
    "tags": []
   },
   "outputs": [
    {
     "name": "stderr",
     "output_type": "stream",
     "text": [
      "2025-08-11 01:40:25.105184: E external/local_xla/xla/stream_executor/cuda/cuda_fft.cc:477] Unable to register cuFFT factory: Attempting to register factory for plugin cuFFT when one has already been registered\n",
      "WARNING: All log messages before absl::InitializeLog() is called are written to STDERR\n",
      "E0000 00:00:1754876425.463155      19 cuda_dnn.cc:8310] Unable to register cuDNN factory: Attempting to register factory for plugin cuDNN when one has already been registered\n",
      "E0000 00:00:1754876425.568698      19 cuda_blas.cc:1418] Unable to register cuBLAS factory: Attempting to register factory for plugin cuBLAS when one has already been registered\n"
     ]
    }
   ],
   "source": [
    "import pandas as pd\n",
    "import numpy as np\n",
    "from sklearn.preprocessing import LabelEncoder\n",
    "\n",
    "from transformers import AutoTokenizer, AutoModelForSequenceClassification, TrainingArguments, Trainer, ModernBertForSequenceClassification, DataCollatorWithPadding\n",
    "from sklearn.model_selection import train_test_split\n",
    "from datasets import Dataset"
   ]
  },
  {
   "cell_type": "markdown",
   "id": "3e98622c",
   "metadata": {
    "papermill": {
     "duration": 0.004575,
     "end_time": "2025-08-11T01:40:44.829535",
     "exception": false,
     "start_time": "2025-08-11T01:40:44.824960",
     "status": "completed"
    },
    "tags": []
   },
   "source": [
    "## Step 2: Load train and test data"
   ]
  },
  {
   "cell_type": "code",
   "execution_count": 3,
   "id": "ea8e498b",
   "metadata": {
    "execution": {
     "iopub.execute_input": "2025-08-11T01:40:44.837807Z",
     "iopub.status.busy": "2025-08-11T01:40:44.836637Z",
     "iopub.status.idle": "2025-08-11T01:40:45.039411Z",
     "shell.execute_reply": "2025-08-11T01:40:45.038648Z"
    },
    "papermill": {
     "duration": 0.207994,
     "end_time": "2025-08-11T01:40:45.041231",
     "exception": false,
     "start_time": "2025-08-11T01:40:44.833237",
     "status": "completed"
    },
    "tags": []
   },
   "outputs": [],
   "source": [
    "train               = pd.read_csv('/kaggle/input/map-charting-student-math-misunderstandings/train.csv')\n",
    "test                = pd.read_csv('/kaggle/input/map-charting-student-math-misunderstandings/test.csv')"
   ]
  },
  {
   "cell_type": "markdown",
   "id": "bba22260",
   "metadata": {
    "papermill": {
     "duration": 0.00554,
     "end_time": "2025-08-11T01:40:45.052569",
     "exception": false,
     "start_time": "2025-08-11T01:40:45.047029",
     "status": "completed"
    },
    "tags": []
   },
   "source": [
    "## Step 3: Preapring label encoders for both models"
   ]
  },
  {
   "cell_type": "code",
   "execution_count": 4,
   "id": "7629d64f",
   "metadata": {
    "execution": {
     "iopub.execute_input": "2025-08-11T01:40:45.061360Z",
     "iopub.status.busy": "2025-08-11T01:40:45.061123Z",
     "iopub.status.idle": "2025-08-11T01:40:45.091792Z",
     "shell.execute_reply": "2025-08-11T01:40:45.090971Z"
    },
    "papermill": {
     "duration": 0.035459,
     "end_time": "2025-08-11T01:40:45.093108",
     "exception": false,
     "start_time": "2025-08-11T01:40:45.057649",
     "status": "completed"
    },
    "tags": []
   },
   "outputs": [
    {
     "name": "stdout",
     "output_type": "stream",
     "text": [
      "Train shape: (36696, 9) with 65 target classes\n"
     ]
    }
   ],
   "source": [
    "le                  = LabelEncoder()\n",
    "train.Misconception     = train.Misconception.fillna('NA')\n",
    "train['target']   = train.Category + ':' +train.Misconception\n",
    "train['label']    = le.fit_transform(train['target'])\n",
    "\n",
    "n_classes = len(le.classes_)\n",
    "print(f\"Train shape: {train.shape} with {n_classes} target classes\")"
   ]
  },
  {
   "cell_type": "code",
   "execution_count": 5,
   "id": "4a57a683",
   "metadata": {
    "execution": {
     "iopub.execute_input": "2025-08-11T01:40:45.102314Z",
     "iopub.status.busy": "2025-08-11T01:40:45.102093Z",
     "iopub.status.idle": "2025-08-11T01:40:45.406340Z",
     "shell.execute_reply": "2025-08-11T01:40:45.405484Z"
    },
    "papermill": {
     "duration": 0.31094,
     "end_time": "2025-08-11T01:40:45.408279",
     "exception": false,
     "start_time": "2025-08-11T01:40:45.097339",
     "status": "completed"
    },
    "tags": []
   },
   "outputs": [],
   "source": [
    "idx = train.apply(lambda row: row.Category.split('_')[0],axis=1)=='True'\n",
    "correct = train.loc[idx].copy()\n",
    "correct['c'] = correct.groupby(['QuestionId','MC_Answer']).MC_Answer.transform('count')\n",
    "correct = correct.sort_values('c',ascending=False)\n",
    "correct = correct.drop_duplicates(['QuestionId'])\n",
    "correct = correct[['QuestionId','MC_Answer']]\n",
    "correct['is_correct'] = 1\n",
    "\n",
    "train = train.merge(correct, on=['QuestionId','MC_Answer'], how='left')\n",
    "train.is_correct = train.is_correct.fillna(0)"
   ]
  },
  {
   "cell_type": "code",
   "execution_count": 6,
   "id": "f554d4b9",
   "metadata": {
    "execution": {
     "iopub.execute_input": "2025-08-11T01:40:45.419412Z",
     "iopub.status.busy": "2025-08-11T01:40:45.419176Z",
     "iopub.status.idle": "2025-08-11T01:40:45.425874Z",
     "shell.execute_reply": "2025-08-11T01:40:45.425216Z"
    },
    "papermill": {
     "duration": 0.013332,
     "end_time": "2025-08-11T01:40:45.427088",
     "exception": false,
     "start_time": "2025-08-11T01:40:45.413756",
     "status": "completed"
    },
    "tags": []
   },
   "outputs": [],
   "source": [
    "test = test.merge(correct, on=['QuestionId','MC_Answer'], how='left')\n",
    "test.is_correct = test.is_correct.fillna(0)"
   ]
  },
  {
   "cell_type": "code",
   "execution_count": 7,
   "id": "4321f75d",
   "metadata": {
    "execution": {
     "iopub.execute_input": "2025-08-11T01:40:45.435775Z",
     "iopub.status.busy": "2025-08-11T01:40:45.435258Z",
     "iopub.status.idle": "2025-08-11T01:40:45.442187Z",
     "shell.execute_reply": "2025-08-11T01:40:45.441408Z"
    },
    "papermill": {
     "duration": 0.013177,
     "end_time": "2025-08-11T01:40:45.443400",
     "exception": false,
     "start_time": "2025-08-11T01:40:45.430223",
     "status": "completed"
    },
    "tags": []
   },
   "outputs": [],
   "source": [
    "def format_input(row):\n",
    "    x = \"This answer is correct.\"\n",
    "    if not row['is_correct']:\n",
    "        x = \"This is answer is incorrect.\"\n",
    "    return (\n",
    "        f\"Question: {row['QuestionText']}\\n\"\n",
    "        f\"Answer: {row['MC_Answer']}\\n\"\n",
    "        f\"{x}\\n\"\n",
    "        f\"Student Explanation: {row['StudentExplanation']}\"\n",
    "    )\n",
    "\n",
    "test['text'] = test.apply(format_input,axis=1)"
   ]
  },
  {
   "cell_type": "code",
   "execution_count": 8,
   "id": "f76cfb5d",
   "metadata": {
    "execution": {
     "iopub.execute_input": "2025-08-11T01:40:45.450762Z",
     "iopub.status.busy": "2025-08-11T01:40:45.450172Z",
     "iopub.status.idle": "2025-08-11T01:40:45.477070Z",
     "shell.execute_reply": "2025-08-11T01:40:45.476379Z"
    },
    "papermill": {
     "duration": 0.032083,
     "end_time": "2025-08-11T01:40:45.478552",
     "exception": false,
     "start_time": "2025-08-11T01:40:45.446469",
     "status": "completed"
    },
    "tags": []
   },
   "outputs": [],
   "source": [
    "ds_test = Dataset.from_pandas(test)"
   ]
  },
  {
   "cell_type": "code",
   "execution_count": 9,
   "id": "c141fc11",
   "metadata": {
    "execution": {
     "iopub.execute_input": "2025-08-11T01:40:45.490515Z",
     "iopub.status.busy": "2025-08-11T01:40:45.490291Z",
     "iopub.status.idle": "2025-08-11T01:42:25.696925Z",
     "shell.execute_reply": "2025-08-11T01:42:25.696344Z"
    },
    "papermill": {
     "duration": 100.21397,
     "end_time": "2025-08-11T01:42:25.698153",
     "exception": false,
     "start_time": "2025-08-11T01:40:45.484183",
     "status": "completed"
    },
    "tags": []
   },
   "outputs": [
    {
     "data": {
      "application/vnd.jupyter.widget-view+json": {
       "model_id": "20f20604110b46f48670acd24a7fb52c",
       "version_major": 2,
       "version_minor": 0
      },
      "text/plain": [
       "Loading checkpoint shards:   0%|          | 0/4 [00:00<?, ?it/s]"
      ]
     },
     "metadata": {},
     "output_type": "display_data"
    }
   ],
   "source": [
    "model = AutoModelForSequenceClassification.from_pretrained(\"/kaggle/input/qwen3-8b-map-competition/MAP_EXP_16_FULL\", device_map=\"cuda:0\", torch_dtype=torch.bfloat16)"
   ]
  },
  {
   "cell_type": "code",
   "execution_count": 10,
   "id": "7b32d110",
   "metadata": {
    "execution": {
     "iopub.execute_input": "2025-08-11T01:42:25.705500Z",
     "iopub.status.busy": "2025-08-11T01:42:25.704832Z",
     "iopub.status.idle": "2025-08-11T01:42:25.711528Z",
     "shell.execute_reply": "2025-08-11T01:42:25.710977Z"
    },
    "papermill": {
     "duration": 0.01118,
     "end_time": "2025-08-11T01:42:25.712518",
     "exception": false,
     "start_time": "2025-08-11T01:42:25.701338",
     "status": "completed"
    },
    "tags": []
   },
   "outputs": [
    {
     "data": {
      "text/plain": [
       "Qwen3ForSequenceClassification(\n",
       "  (model): Qwen3Model(\n",
       "    (embed_tokens): Embedding(151936, 4096)\n",
       "    (layers): ModuleList(\n",
       "      (0-35): 36 x Qwen3DecoderLayer(\n",
       "        (self_attn): Qwen3Attention(\n",
       "          (q_proj): Linear(in_features=4096, out_features=4096, bias=False)\n",
       "          (k_proj): Linear(in_features=4096, out_features=1024, bias=False)\n",
       "          (v_proj): Linear(in_features=4096, out_features=1024, bias=False)\n",
       "          (o_proj): Linear(in_features=4096, out_features=4096, bias=False)\n",
       "          (q_norm): Qwen3RMSNorm((128,), eps=1e-06)\n",
       "          (k_norm): Qwen3RMSNorm((128,), eps=1e-06)\n",
       "        )\n",
       "        (mlp): Qwen3MLP(\n",
       "          (gate_proj): Linear(in_features=4096, out_features=12288, bias=False)\n",
       "          (up_proj): Linear(in_features=4096, out_features=12288, bias=False)\n",
       "          (down_proj): Linear(in_features=12288, out_features=4096, bias=False)\n",
       "          (act_fn): SiLU()\n",
       "        )\n",
       "        (input_layernorm): Qwen3RMSNorm((4096,), eps=1e-06)\n",
       "        (post_attention_layernorm): Qwen3RMSNorm((4096,), eps=1e-06)\n",
       "      )\n",
       "    )\n",
       "    (norm): Qwen3RMSNorm((4096,), eps=1e-06)\n",
       "    (rotary_emb): Qwen3RotaryEmbedding()\n",
       "  )\n",
       "  (score): Linear(in_features=4096, out_features=65, bias=False)\n",
       ")"
      ]
     },
     "execution_count": 10,
     "metadata": {},
     "output_type": "execute_result"
    }
   ],
   "source": [
    "model"
   ]
  },
  {
   "cell_type": "code",
   "execution_count": 11,
   "id": "fe773087",
   "metadata": {
    "execution": {
     "iopub.execute_input": "2025-08-11T01:42:25.718896Z",
     "iopub.status.busy": "2025-08-11T01:42:25.718685Z",
     "iopub.status.idle": "2025-08-11T01:42:26.407273Z",
     "shell.execute_reply": "2025-08-11T01:42:26.406645Z"
    },
    "papermill": {
     "duration": 0.692986,
     "end_time": "2025-08-11T01:42:26.408373",
     "exception": false,
     "start_time": "2025-08-11T01:42:25.715387",
     "status": "completed"
    },
    "tags": []
   },
   "outputs": [
    {
     "data": {
      "application/vnd.jupyter.widget-view+json": {
       "model_id": "be7cbfb192f3441aa99caf2725532b85",
       "version_major": 2,
       "version_minor": 0
      },
      "text/plain": [
       "Map:   0%|          | 0/3 [00:00<?, ? examples/s]"
      ]
     },
     "metadata": {},
     "output_type": "display_data"
    }
   ],
   "source": [
    "tokenizer = AutoTokenizer.from_pretrained(\"/kaggle/input/qwen3-8b-map-competition/MAP_EXP_16_FULL\")\n",
    "tokenizer.pad_token = tokenizer.eos_token\n",
    "model.config.pad_token_id = tokenizer.pad_token_id\n",
    "\n",
    "def tokenize(batch):\n",
    "    return tokenizer(batch[\"text\"], padding=\"max_length\", truncation=True, max_length=256)\n",
    "\n",
    "ds_test = ds_test.map(tokenize, batched=True)"
   ]
  },
  {
   "cell_type": "code",
   "execution_count": 12,
   "id": "6bbaffda",
   "metadata": {
    "execution": {
     "iopub.execute_input": "2025-08-11T01:42:26.415365Z",
     "iopub.status.busy": "2025-08-11T01:42:26.415152Z",
     "iopub.status.idle": "2025-08-11T01:42:28.692003Z",
     "shell.execute_reply": "2025-08-11T01:42:28.691286Z"
    },
    "papermill": {
     "duration": 2.281473,
     "end_time": "2025-08-11T01:42:28.693115",
     "exception": false,
     "start_time": "2025-08-11T01:42:26.411642",
     "status": "completed"
    },
    "tags": []
   },
   "outputs": [
    {
     "name": "stderr",
     "output_type": "stream",
     "text": [
      "/tmp/ipykernel_19/1882862596.py:11: FutureWarning: `tokenizer` is deprecated and will be removed in version 5.0.0 for `Trainer.__init__`. Use `processing_class` instead.\n",
      "  trainer = Trainer(\n"
     ]
    },
    {
     "data": {
      "text/html": [],
      "text/plain": [
       "<IPython.core.display.HTML object>"
      ]
     },
     "metadata": {},
     "output_type": "display_data"
    },
    {
     "data": {
      "text/plain": [
       "array([[-0.5917969 , -1.203125  , -1.8378906 , -5.1210938 , -1.4160156 ,\n",
       "        -1.9462891 , -3.0878906 , -1.1455078 , -1.5546875 , -2.0859375 ,\n",
       "        -2.0722656 , -1.9472656 , -2.4023438 ,  0.09143066, -2.3847656 ,\n",
       "        -2.7363281 , -2.        , -1.7636719 , -2.5761719 , -3.2539062 ,\n",
       "        -1.1259766 , -2.0507812 , -2.1679688 , -1.7246094 , -1.4677734 ,\n",
       "        -3.2558594 ,  0.16394043, -2.5898438 , -3.9628906 , -2.0585938 ,\n",
       "        -1.9960938 , -1.1503906 , -2.0117188 , -3.2011719 , -1.9042969 ,\n",
       "        -1.4375    , -1.8359375 , 11.9921875 , -1.2832031 , -0.5957031 ,\n",
       "        -4.6523438 , -1.6435547 ,  2.0371094 , -0.62597656,  0.7109375 ,\n",
       "         0.43188477, -0.81933594,  4.2773438 , -2.53125   ,  0.9970703 ,\n",
       "         1.4169922 , -2.5703125 , -0.29833984, -1.1210938 , -1.7441406 ,\n",
       "        -0.5024414 ,  0.6665039 , -1.3164062 , -0.3154297 ,  0.8051758 ,\n",
       "         0.84814453, -2.3144531 ,  0.9824219 ,  0.6645508 ,  6.9726562 ],\n",
       "       [ 1.1054688 , -2.2421875 , -1.6552734 , -1.3007812 , -1.0068359 ,\n",
       "        -1.4921875 , -1.0419922 , -2.0078125 , -2.9375    , -1.3105469 ,\n",
       "        -0.34106445, -3.203125  , -0.9560547 ,  4.8164062 , -3.2402344 ,\n",
       "        -1.0927734 , -2.1992188 , -2.5234375 , -0.52734375, -2.078125  ,\n",
       "        -0.61816406, -2.4707031 , -3.8535156 , -0.49291992, -2.3945312 ,\n",
       "        -2.7851562 , -1.6269531 , -0.5253906 , -1.9052734 , -0.4272461 ,\n",
       "        12.046875  , -0.96191406, -3.4628906 , -1.4472656 , -0.8876953 ,\n",
       "        -3.1054688 ,  4.7421875 ,  0.37890625, -3.9179688 , -2.4179688 ,\n",
       "        -4.2851562 , -3.65625   , -2.6796875 , -4.5117188 , -2.921875  ,\n",
       "        -3.7324219 , -2.9648438 , -0.25854492, -3.5507812 , -3.9570312 ,\n",
       "        -1.8359375 , -5.046875  , -3.7265625 , -4.7460938 , -5.7109375 ,\n",
       "        -3.0878906 , -3.1269531 , -3.0488281 , -3.7871094 , -3.4570312 ,\n",
       "        -0.22875977, -5.5976562 , -2.2832031 , -2.0449219 , -0.04354858],\n",
       "       [-1.8300781 , -1.7617188 , -0.9448242 , -2.8554688 , -3.0214844 ,\n",
       "        -2.2675781 , -1.8271484 , -2.1582031 , -3.1933594 , -3.0507812 ,\n",
       "        -2.2636719 , -1.34375   , -0.46704102, -2.7539062 , -2.3828125 ,\n",
       "        -2.0605469 , -0.5410156 , -1.3759766 , -3.1503906 , -0.67285156,\n",
       "        -3.2382812 , -3.1660156 , -0.46606445, -2.0878906 ,  0.14489746,\n",
       "        -1.6728516 , -1.9013672 , -1.9736328 , -2.7988281 , -1.2490234 ,\n",
       "        -2.0488281 , -0.44262695, -3.0664062 , -2.1640625 , -3.1894531 ,\n",
       "        -1.4824219 ,  0.25341797,  6.0078125 , -3.1738281 ,  0.35180664,\n",
       "        -4.1679688 , -1.4072266 , -1.6884766 ,  0.11523438, -0.7885742 ,\n",
       "         0.44995117, -0.02716064, -0.41601562, -2.09375   ,  0.52734375,\n",
       "        -0.41357422, -2.796875  ,  0.4321289 , -1.328125  , -3.4433594 ,\n",
       "        -1.1816406 ,  4.5898438 , -1.2646484 , -0.03222656, -0.1616211 ,\n",
       "        -0.19812012, -2.8066406 , -1.2910156 ,  1.7001953 ,  9.2734375 ]],\n",
       "      dtype=float32)"
      ]
     },
     "execution_count": 12,
     "metadata": {},
     "output_type": "execute_result"
    }
   ],
   "source": [
    "test_args = TrainingArguments(\n",
    "    output_dir=\"./\",\n",
    "    do_train=False,\n",
    "    do_predict=True,\n",
    "    per_device_eval_batch_size=1, # Adjust as needed\n",
    "    bf16=False, # TRAIN WITH BF16 IF LOCAL GPU IS NEWER GPU          \n",
    "    fp16=True,\n",
    "    report_to='none'\n",
    ")\n",
    "\n",
    "trainer = Trainer(\n",
    "    model=model,\n",
    "    args=test_args,\n",
    "    tokenizer=tokenizer,\n",
    "    data_collator=DataCollatorWithPadding(tokenizer)\n",
    ")\n",
    "\n",
    "predictions = trainer.predict(ds_test)\n",
    "\n",
    "predictions.predictions"
   ]
  },
  {
   "cell_type": "code",
   "execution_count": 13,
   "id": "cac14c3e",
   "metadata": {
    "execution": {
     "iopub.execute_input": "2025-08-11T01:42:28.701193Z",
     "iopub.status.busy": "2025-08-11T01:42:28.700507Z",
     "iopub.status.idle": "2025-08-11T01:42:28.706251Z",
     "shell.execute_reply": "2025-08-11T01:42:28.705717Z"
    },
    "papermill": {
     "duration": 0.010574,
     "end_time": "2025-08-11T01:42:28.707316",
     "exception": false,
     "start_time": "2025-08-11T01:42:28.696742",
     "status": "completed"
    },
    "tags": []
   },
   "outputs": [
    {
     "data": {
      "text/plain": [
       "array([['True_Correct:NA', 'True_Neither:NA',\n",
       "        'True_Misconception:Incomplete'],\n",
       "       ['False_Misconception:WNB', 'False_Misconception:Incomplete',\n",
       "        'False_Neither:NA'],\n",
       "       ['True_Neither:NA', 'True_Correct:NA',\n",
       "        'True_Misconception:Shorter_is_bigger']], dtype=object)"
      ]
     },
     "execution_count": 13,
     "metadata": {},
     "output_type": "execute_result"
    }
   ],
   "source": [
    "top3           = np.argsort(-predictions.predictions, axis=1)[:, :3]\n",
    "flat_top3      = top3.flatten()\n",
    "decoded_labels = le.inverse_transform(flat_top3)\n",
    "top3_labels_cat    = decoded_labels.reshape(top3.shape)\n",
    "top3_labels_cat"
   ]
  },
  {
   "cell_type": "code",
   "execution_count": 14,
   "id": "19489327",
   "metadata": {
    "execution": {
     "iopub.execute_input": "2025-08-11T01:42:28.714614Z",
     "iopub.status.busy": "2025-08-11T01:42:28.714437Z",
     "iopub.status.idle": "2025-08-11T01:42:28.736735Z",
     "shell.execute_reply": "2025-08-11T01:42:28.736179Z"
    },
    "papermill": {
     "duration": 0.027198,
     "end_time": "2025-08-11T01:42:28.737813",
     "exception": false,
     "start_time": "2025-08-11T01:42:28.710615",
     "status": "completed"
    },
    "tags": []
   },
   "outputs": [
    {
     "data": {
      "text/html": [
       "<div>\n",
       "<style scoped>\n",
       "    .dataframe tbody tr th:only-of-type {\n",
       "        vertical-align: middle;\n",
       "    }\n",
       "\n",
       "    .dataframe tbody tr th {\n",
       "        vertical-align: top;\n",
       "    }\n",
       "\n",
       "    .dataframe thead th {\n",
       "        text-align: right;\n",
       "    }\n",
       "</style>\n",
       "<table border=\"1\" class=\"dataframe\">\n",
       "  <thead>\n",
       "    <tr style=\"text-align: right;\">\n",
       "      <th></th>\n",
       "      <th>row_id</th>\n",
       "      <th>Category:Misconception</th>\n",
       "    </tr>\n",
       "  </thead>\n",
       "  <tbody>\n",
       "    <tr>\n",
       "      <th>0</th>\n",
       "      <td>36696</td>\n",
       "      <td>True_Correct:NA True_Neither:NA True_Misconcep...</td>\n",
       "    </tr>\n",
       "    <tr>\n",
       "      <th>1</th>\n",
       "      <td>36697</td>\n",
       "      <td>False_Misconception:WNB False_Misconception:In...</td>\n",
       "    </tr>\n",
       "    <tr>\n",
       "      <th>2</th>\n",
       "      <td>36698</td>\n",
       "      <td>True_Neither:NA True_Correct:NA True_Misconcep...</td>\n",
       "    </tr>\n",
       "  </tbody>\n",
       "</table>\n",
       "</div>"
      ],
      "text/plain": [
       "   row_id                             Category:Misconception\n",
       "0   36696  True_Correct:NA True_Neither:NA True_Misconcep...\n",
       "1   36697  False_Misconception:WNB False_Misconception:In...\n",
       "2   36698  True_Neither:NA True_Correct:NA True_Misconcep..."
      ]
     },
     "execution_count": 14,
     "metadata": {},
     "output_type": "execute_result"
    }
   ],
   "source": [
    "joined_preds = []\n",
    "\n",
    "for preds in top3_labels_cat:\n",
    "    joined_preds.append(\" \".join(preds))\n",
    "\n",
    "\n",
    "\n",
    "# Save submission\n",
    "sub = pd.DataFrame({\n",
    "    \"row_id\": test.row_id.values,\n",
    "    \"Category:Misconception\": joined_preds\n",
    "})\n",
    "sub.to_csv(\"submission.csv\", index=False)\n",
    "sub.head()"
   ]
  },
  {
   "cell_type": "code",
   "execution_count": null,
   "id": "a73331fb",
   "metadata": {
    "papermill": {
     "duration": 0.003022,
     "end_time": "2025-08-11T01:42:28.744057",
     "exception": false,
     "start_time": "2025-08-11T01:42:28.741035",
     "status": "completed"
    },
    "tags": []
   },
   "outputs": [],
   "source": []
  }
 ],
 "metadata": {
  "kaggle": {
   "accelerator": "nvidiaTeslaT4",
   "dataSources": [
    {
     "databundleVersionId": 12957508,
     "sourceId": 104383,
     "sourceType": "competition"
    },
    {
     "datasetId": 8045877,
     "sourceId": 12729471,
     "sourceType": "datasetVersion"
    }
   ],
   "dockerImageVersionId": 31090,
   "isGpuEnabled": true,
   "isInternetEnabled": false,
   "language": "python",
   "sourceType": "notebook"
  },
  "kernelspec": {
   "display_name": "Python 3",
   "language": "python",
   "name": "python3"
  },
  "language_info": {
   "codemirror_mode": {
    "name": "ipython",
    "version": 3
   },
   "file_extension": ".py",
   "mimetype": "text/x-python",
   "name": "python",
   "nbconvert_exporter": "python",
   "pygments_lexer": "ipython3",
   "version": "3.11.13"
  },
  "papermill": {
   "default_parameters": {},
   "duration": 158.394985,
   "end_time": "2025-08-11T01:42:31.564755",
   "environment_variables": {},
   "exception": null,
   "input_path": "__notebook__.ipynb",
   "output_path": "__notebook__.ipynb",
   "parameters": {},
   "start_time": "2025-08-11T01:39:53.169770",
   "version": "2.6.0"
  },
  "widgets": {
   "application/vnd.jupyter.widget-state+json": {
    "state": {
     "09c1d43ef6f145e39d2d0035436d96cf": {
      "model_module": "@jupyter-widgets/controls",
      "model_module_version": "2.0.0",
      "model_name": "HTMLStyleModel",
      "state": {
       "_model_module": "@jupyter-widgets/controls",
       "_model_module_version": "2.0.0",
       "_model_name": "HTMLStyleModel",
       "_view_count": null,
       "_view_module": "@jupyter-widgets/base",
       "_view_module_version": "2.0.0",
       "_view_name": "StyleView",
       "background": null,
       "description_width": "",
       "font_size": null,
       "text_color": null
      }
     },
     "0e51cf8d23ef4534b99bf81c596b502e": {
      "model_module": "@jupyter-widgets/base",
      "model_module_version": "2.0.0",
      "model_name": "LayoutModel",
      "state": {
       "_model_module": "@jupyter-widgets/base",
       "_model_module_version": "2.0.0",
       "_model_name": "LayoutModel",
       "_view_count": null,
       "_view_module": "@jupyter-widgets/base",
       "_view_module_version": "2.0.0",
       "_view_name": "LayoutView",
       "align_content": null,
       "align_items": null,
       "align_self": null,
       "border_bottom": null,
       "border_left": null,
       "border_right": null,
       "border_top": null,
       "bottom": null,
       "display": null,
       "flex": null,
       "flex_flow": null,
       "grid_area": null,
       "grid_auto_columns": null,
       "grid_auto_flow": null,
       "grid_auto_rows": null,
       "grid_column": null,
       "grid_gap": null,
       "grid_row": null,
       "grid_template_areas": null,
       "grid_template_columns": null,
       "grid_template_rows": null,
       "height": null,
       "justify_content": null,
       "justify_items": null,
       "left": null,
       "margin": null,
       "max_height": null,
       "max_width": null,
       "min_height": null,
       "min_width": null,
       "object_fit": null,
       "object_position": null,
       "order": null,
       "overflow": null,
       "padding": null,
       "right": null,
       "top": null,
       "visibility": null,
       "width": null
      }
     },
     "11cea4b292054dd8ae9e071f5a20d769": {
      "model_module": "@jupyter-widgets/controls",
      "model_module_version": "2.0.0",
      "model_name": "HTMLModel",
      "state": {
       "_dom_classes": [],
       "_model_module": "@jupyter-widgets/controls",
       "_model_module_version": "2.0.0",
       "_model_name": "HTMLModel",
       "_view_count": null,
       "_view_module": "@jupyter-widgets/controls",
       "_view_module_version": "2.0.0",
       "_view_name": "HTMLView",
       "description": "",
       "description_allow_html": false,
       "layout": "IPY_MODEL_9626308e0d5842539a1f13f1adc5673b",
       "placeholder": "​",
       "style": "IPY_MODEL_316685484cf645fcaed94de075dfc6ab",
       "tabbable": null,
       "tooltip": null,
       "value": " 3/3 [00:00&lt;00:00, 56.94 examples/s]"
      }
     },
     "20f20604110b46f48670acd24a7fb52c": {
      "model_module": "@jupyter-widgets/controls",
      "model_module_version": "2.0.0",
      "model_name": "HBoxModel",
      "state": {
       "_dom_classes": [],
       "_model_module": "@jupyter-widgets/controls",
       "_model_module_version": "2.0.0",
       "_model_name": "HBoxModel",
       "_view_count": null,
       "_view_module": "@jupyter-widgets/controls",
       "_view_module_version": "2.0.0",
       "_view_name": "HBoxView",
       "box_style": "",
       "children": [
        "IPY_MODEL_71f34a5308184fb59e428c747138ad8d",
        "IPY_MODEL_294bcb088d434fe49373d4afe0ed5614",
        "IPY_MODEL_4364a28bd0094547bc2a1bf1947ad22e"
       ],
       "layout": "IPY_MODEL_5f281ba0480847ad8e81a35a6c5dbdcd",
       "tabbable": null,
       "tooltip": null
      }
     },
     "28c84438a89c40a98f4423e08b7f15a0": {
      "model_module": "@jupyter-widgets/base",
      "model_module_version": "2.0.0",
      "model_name": "LayoutModel",
      "state": {
       "_model_module": "@jupyter-widgets/base",
       "_model_module_version": "2.0.0",
       "_model_name": "LayoutModel",
       "_view_count": null,
       "_view_module": "@jupyter-widgets/base",
       "_view_module_version": "2.0.0",
       "_view_name": "LayoutView",
       "align_content": null,
       "align_items": null,
       "align_self": null,
       "border_bottom": null,
       "border_left": null,
       "border_right": null,
       "border_top": null,
       "bottom": null,
       "display": null,
       "flex": null,
       "flex_flow": null,
       "grid_area": null,
       "grid_auto_columns": null,
       "grid_auto_flow": null,
       "grid_auto_rows": null,
       "grid_column": null,
       "grid_gap": null,
       "grid_row": null,
       "grid_template_areas": null,
       "grid_template_columns": null,
       "grid_template_rows": null,
       "height": null,
       "justify_content": null,
       "justify_items": null,
       "left": null,
       "margin": null,
       "max_height": null,
       "max_width": null,
       "min_height": null,
       "min_width": null,
       "object_fit": null,
       "object_position": null,
       "order": null,
       "overflow": null,
       "padding": null,
       "right": null,
       "top": null,
       "visibility": null,
       "width": null
      }
     },
     "294bcb088d434fe49373d4afe0ed5614": {
      "model_module": "@jupyter-widgets/controls",
      "model_module_version": "2.0.0",
      "model_name": "FloatProgressModel",
      "state": {
       "_dom_classes": [],
       "_model_module": "@jupyter-widgets/controls",
       "_model_module_version": "2.0.0",
       "_model_name": "FloatProgressModel",
       "_view_count": null,
       "_view_module": "@jupyter-widgets/controls",
       "_view_module_version": "2.0.0",
       "_view_name": "ProgressView",
       "bar_style": "success",
       "description": "",
       "description_allow_html": false,
       "layout": "IPY_MODEL_f9b21df3df864df68151fbf6800565a1",
       "max": 4.0,
       "min": 0.0,
       "orientation": "horizontal",
       "style": "IPY_MODEL_2d52b85778404de9995c8c05c0d1a60a",
       "tabbable": null,
       "tooltip": null,
       "value": 4.0
      }
     },
     "2d52b85778404de9995c8c05c0d1a60a": {
      "model_module": "@jupyter-widgets/controls",
      "model_module_version": "2.0.0",
      "model_name": "ProgressStyleModel",
      "state": {
       "_model_module": "@jupyter-widgets/controls",
       "_model_module_version": "2.0.0",
       "_model_name": "ProgressStyleModel",
       "_view_count": null,
       "_view_module": "@jupyter-widgets/base",
       "_view_module_version": "2.0.0",
       "_view_name": "StyleView",
       "bar_color": null,
       "description_width": ""
      }
     },
     "316685484cf645fcaed94de075dfc6ab": {
      "model_module": "@jupyter-widgets/controls",
      "model_module_version": "2.0.0",
      "model_name": "HTMLStyleModel",
      "state": {
       "_model_module": "@jupyter-widgets/controls",
       "_model_module_version": "2.0.0",
       "_model_name": "HTMLStyleModel",
       "_view_count": null,
       "_view_module": "@jupyter-widgets/base",
       "_view_module_version": "2.0.0",
       "_view_name": "StyleView",
       "background": null,
       "description_width": "",
       "font_size": null,
       "text_color": null
      }
     },
     "4364a28bd0094547bc2a1bf1947ad22e": {
      "model_module": "@jupyter-widgets/controls",
      "model_module_version": "2.0.0",
      "model_name": "HTMLModel",
      "state": {
       "_dom_classes": [],
       "_model_module": "@jupyter-widgets/controls",
       "_model_module_version": "2.0.0",
       "_model_name": "HTMLModel",
       "_view_count": null,
       "_view_module": "@jupyter-widgets/controls",
       "_view_module_version": "2.0.0",
       "_view_name": "HTMLView",
       "description": "",
       "description_allow_html": false,
       "layout": "IPY_MODEL_0e51cf8d23ef4534b99bf81c596b502e",
       "placeholder": "​",
       "style": "IPY_MODEL_09c1d43ef6f145e39d2d0035436d96cf",
       "tabbable": null,
       "tooltip": null,
       "value": " 4/4 [01:39&lt;00:00, 20.42s/it]"
      }
     },
     "47075ab95ae142b6b1645a1b449363b2": {
      "model_module": "@jupyter-widgets/controls",
      "model_module_version": "2.0.0",
      "model_name": "HTMLStyleModel",
      "state": {
       "_model_module": "@jupyter-widgets/controls",
       "_model_module_version": "2.0.0",
       "_model_name": "HTMLStyleModel",
       "_view_count": null,
       "_view_module": "@jupyter-widgets/base",
       "_view_module_version": "2.0.0",
       "_view_name": "StyleView",
       "background": null,
       "description_width": "",
       "font_size": null,
       "text_color": null
      }
     },
     "47a60e27708145ea951e15991562f13a": {
      "model_module": "@jupyter-widgets/base",
      "model_module_version": "2.0.0",
      "model_name": "LayoutModel",
      "state": {
       "_model_module": "@jupyter-widgets/base",
       "_model_module_version": "2.0.0",
       "_model_name": "LayoutModel",
       "_view_count": null,
       "_view_module": "@jupyter-widgets/base",
       "_view_module_version": "2.0.0",
       "_view_name": "LayoutView",
       "align_content": null,
       "align_items": null,
       "align_self": null,
       "border_bottom": null,
       "border_left": null,
       "border_right": null,
       "border_top": null,
       "bottom": null,
       "display": null,
       "flex": null,
       "flex_flow": null,
       "grid_area": null,
       "grid_auto_columns": null,
       "grid_auto_flow": null,
       "grid_auto_rows": null,
       "grid_column": null,
       "grid_gap": null,
       "grid_row": null,
       "grid_template_areas": null,
       "grid_template_columns": null,
       "grid_template_rows": null,
       "height": null,
       "justify_content": null,
       "justify_items": null,
       "left": null,
       "margin": null,
       "max_height": null,
       "max_width": null,
       "min_height": null,
       "min_width": null,
       "object_fit": null,
       "object_position": null,
       "order": null,
       "overflow": null,
       "padding": null,
       "right": null,
       "top": null,
       "visibility": null,
       "width": null
      }
     },
     "5f281ba0480847ad8e81a35a6c5dbdcd": {
      "model_module": "@jupyter-widgets/base",
      "model_module_version": "2.0.0",
      "model_name": "LayoutModel",
      "state": {
       "_model_module": "@jupyter-widgets/base",
       "_model_module_version": "2.0.0",
       "_model_name": "LayoutModel",
       "_view_count": null,
       "_view_module": "@jupyter-widgets/base",
       "_view_module_version": "2.0.0",
       "_view_name": "LayoutView",
       "align_content": null,
       "align_items": null,
       "align_self": null,
       "border_bottom": null,
       "border_left": null,
       "border_right": null,
       "border_top": null,
       "bottom": null,
       "display": null,
       "flex": null,
       "flex_flow": null,
       "grid_area": null,
       "grid_auto_columns": null,
       "grid_auto_flow": null,
       "grid_auto_rows": null,
       "grid_column": null,
       "grid_gap": null,
       "grid_row": null,
       "grid_template_areas": null,
       "grid_template_columns": null,
       "grid_template_rows": null,
       "height": null,
       "justify_content": null,
       "justify_items": null,
       "left": null,
       "margin": null,
       "max_height": null,
       "max_width": null,
       "min_height": null,
       "min_width": null,
       "object_fit": null,
       "object_position": null,
       "order": null,
       "overflow": null,
       "padding": null,
       "right": null,
       "top": null,
       "visibility": null,
       "width": null
      }
     },
     "604d29cf7e1048b693479d86df627368": {
      "model_module": "@jupyter-widgets/base",
      "model_module_version": "2.0.0",
      "model_name": "LayoutModel",
      "state": {
       "_model_module": "@jupyter-widgets/base",
       "_model_module_version": "2.0.0",
       "_model_name": "LayoutModel",
       "_view_count": null,
       "_view_module": "@jupyter-widgets/base",
       "_view_module_version": "2.0.0",
       "_view_name": "LayoutView",
       "align_content": null,
       "align_items": null,
       "align_self": null,
       "border_bottom": null,
       "border_left": null,
       "border_right": null,
       "border_top": null,
       "bottom": null,
       "display": null,
       "flex": null,
       "flex_flow": null,
       "grid_area": null,
       "grid_auto_columns": null,
       "grid_auto_flow": null,
       "grid_auto_rows": null,
       "grid_column": null,
       "grid_gap": null,
       "grid_row": null,
       "grid_template_areas": null,
       "grid_template_columns": null,
       "grid_template_rows": null,
       "height": null,
       "justify_content": null,
       "justify_items": null,
       "left": null,
       "margin": null,
       "max_height": null,
       "max_width": null,
       "min_height": null,
       "min_width": null,
       "object_fit": null,
       "object_position": null,
       "order": null,
       "overflow": null,
       "padding": null,
       "right": null,
       "top": null,
       "visibility": null,
       "width": null
      }
     },
     "71f34a5308184fb59e428c747138ad8d": {
      "model_module": "@jupyter-widgets/controls",
      "model_module_version": "2.0.0",
      "model_name": "HTMLModel",
      "state": {
       "_dom_classes": [],
       "_model_module": "@jupyter-widgets/controls",
       "_model_module_version": "2.0.0",
       "_model_name": "HTMLModel",
       "_view_count": null,
       "_view_module": "@jupyter-widgets/controls",
       "_view_module_version": "2.0.0",
       "_view_name": "HTMLView",
       "description": "",
       "description_allow_html": false,
       "layout": "IPY_MODEL_c8551f958cf84de38a39d46e6915b16a",
       "placeholder": "​",
       "style": "IPY_MODEL_47075ab95ae142b6b1645a1b449363b2",
       "tabbable": null,
       "tooltip": null,
       "value": "Loading checkpoint shards: 100%"
      }
     },
     "7635c3ad8a554c2bb5488b2c260e2087": {
      "model_module": "@jupyter-widgets/controls",
      "model_module_version": "2.0.0",
      "model_name": "HTMLStyleModel",
      "state": {
       "_model_module": "@jupyter-widgets/controls",
       "_model_module_version": "2.0.0",
       "_model_name": "HTMLStyleModel",
       "_view_count": null,
       "_view_module": "@jupyter-widgets/base",
       "_view_module_version": "2.0.0",
       "_view_name": "StyleView",
       "background": null,
       "description_width": "",
       "font_size": null,
       "text_color": null
      }
     },
     "94a5ca981fbf4ea197b50873caad1cb3": {
      "model_module": "@jupyter-widgets/controls",
      "model_module_version": "2.0.0",
      "model_name": "FloatProgressModel",
      "state": {
       "_dom_classes": [],
       "_model_module": "@jupyter-widgets/controls",
       "_model_module_version": "2.0.0",
       "_model_name": "FloatProgressModel",
       "_view_count": null,
       "_view_module": "@jupyter-widgets/controls",
       "_view_module_version": "2.0.0",
       "_view_name": "ProgressView",
       "bar_style": "success",
       "description": "",
       "description_allow_html": false,
       "layout": "IPY_MODEL_47a60e27708145ea951e15991562f13a",
       "max": 3.0,
       "min": 0.0,
       "orientation": "horizontal",
       "style": "IPY_MODEL_a377b9ca78fd4076845bd3661e45ee95",
       "tabbable": null,
       "tooltip": null,
       "value": 3.0
      }
     },
     "9626308e0d5842539a1f13f1adc5673b": {
      "model_module": "@jupyter-widgets/base",
      "model_module_version": "2.0.0",
      "model_name": "LayoutModel",
      "state": {
       "_model_module": "@jupyter-widgets/base",
       "_model_module_version": "2.0.0",
       "_model_name": "LayoutModel",
       "_view_count": null,
       "_view_module": "@jupyter-widgets/base",
       "_view_module_version": "2.0.0",
       "_view_name": "LayoutView",
       "align_content": null,
       "align_items": null,
       "align_self": null,
       "border_bottom": null,
       "border_left": null,
       "border_right": null,
       "border_top": null,
       "bottom": null,
       "display": null,
       "flex": null,
       "flex_flow": null,
       "grid_area": null,
       "grid_auto_columns": null,
       "grid_auto_flow": null,
       "grid_auto_rows": null,
       "grid_column": null,
       "grid_gap": null,
       "grid_row": null,
       "grid_template_areas": null,
       "grid_template_columns": null,
       "grid_template_rows": null,
       "height": null,
       "justify_content": null,
       "justify_items": null,
       "left": null,
       "margin": null,
       "max_height": null,
       "max_width": null,
       "min_height": null,
       "min_width": null,
       "object_fit": null,
       "object_position": null,
       "order": null,
       "overflow": null,
       "padding": null,
       "right": null,
       "top": null,
       "visibility": null,
       "width": null
      }
     },
     "a377b9ca78fd4076845bd3661e45ee95": {
      "model_module": "@jupyter-widgets/controls",
      "model_module_version": "2.0.0",
      "model_name": "ProgressStyleModel",
      "state": {
       "_model_module": "@jupyter-widgets/controls",
       "_model_module_version": "2.0.0",
       "_model_name": "ProgressStyleModel",
       "_view_count": null,
       "_view_module": "@jupyter-widgets/base",
       "_view_module_version": "2.0.0",
       "_view_name": "StyleView",
       "bar_color": null,
       "description_width": ""
      }
     },
     "be7cbfb192f3441aa99caf2725532b85": {
      "model_module": "@jupyter-widgets/controls",
      "model_module_version": "2.0.0",
      "model_name": "HBoxModel",
      "state": {
       "_dom_classes": [],
       "_model_module": "@jupyter-widgets/controls",
       "_model_module_version": "2.0.0",
       "_model_name": "HBoxModel",
       "_view_count": null,
       "_view_module": "@jupyter-widgets/controls",
       "_view_module_version": "2.0.0",
       "_view_name": "HBoxView",
       "box_style": "",
       "children": [
        "IPY_MODEL_e5a2c12556e34f4eaca2eecbad62b8f2",
        "IPY_MODEL_94a5ca981fbf4ea197b50873caad1cb3",
        "IPY_MODEL_11cea4b292054dd8ae9e071f5a20d769"
       ],
       "layout": "IPY_MODEL_604d29cf7e1048b693479d86df627368",
       "tabbable": null,
       "tooltip": null
      }
     },
     "c8551f958cf84de38a39d46e6915b16a": {
      "model_module": "@jupyter-widgets/base",
      "model_module_version": "2.0.0",
      "model_name": "LayoutModel",
      "state": {
       "_model_module": "@jupyter-widgets/base",
       "_model_module_version": "2.0.0",
       "_model_name": "LayoutModel",
       "_view_count": null,
       "_view_module": "@jupyter-widgets/base",
       "_view_module_version": "2.0.0",
       "_view_name": "LayoutView",
       "align_content": null,
       "align_items": null,
       "align_self": null,
       "border_bottom": null,
       "border_left": null,
       "border_right": null,
       "border_top": null,
       "bottom": null,
       "display": null,
       "flex": null,
       "flex_flow": null,
       "grid_area": null,
       "grid_auto_columns": null,
       "grid_auto_flow": null,
       "grid_auto_rows": null,
       "grid_column": null,
       "grid_gap": null,
       "grid_row": null,
       "grid_template_areas": null,
       "grid_template_columns": null,
       "grid_template_rows": null,
       "height": null,
       "justify_content": null,
       "justify_items": null,
       "left": null,
       "margin": null,
       "max_height": null,
       "max_width": null,
       "min_height": null,
       "min_width": null,
       "object_fit": null,
       "object_position": null,
       "order": null,
       "overflow": null,
       "padding": null,
       "right": null,
       "top": null,
       "visibility": null,
       "width": null
      }
     },
     "e5a2c12556e34f4eaca2eecbad62b8f2": {
      "model_module": "@jupyter-widgets/controls",
      "model_module_version": "2.0.0",
      "model_name": "HTMLModel",
      "state": {
       "_dom_classes": [],
       "_model_module": "@jupyter-widgets/controls",
       "_model_module_version": "2.0.0",
       "_model_name": "HTMLModel",
       "_view_count": null,
       "_view_module": "@jupyter-widgets/controls",
       "_view_module_version": "2.0.0",
       "_view_name": "HTMLView",
       "description": "",
       "description_allow_html": false,
       "layout": "IPY_MODEL_28c84438a89c40a98f4423e08b7f15a0",
       "placeholder": "​",
       "style": "IPY_MODEL_7635c3ad8a554c2bb5488b2c260e2087",
       "tabbable": null,
       "tooltip": null,
       "value": "Map: 100%"
      }
     },
     "f9b21df3df864df68151fbf6800565a1": {
      "model_module": "@jupyter-widgets/base",
      "model_module_version": "2.0.0",
      "model_name": "LayoutModel",
      "state": {
       "_model_module": "@jupyter-widgets/base",
       "_model_module_version": "2.0.0",
       "_model_name": "LayoutModel",
       "_view_count": null,
       "_view_module": "@jupyter-widgets/base",
       "_view_module_version": "2.0.0",
       "_view_name": "LayoutView",
       "align_content": null,
       "align_items": null,
       "align_self": null,
       "border_bottom": null,
       "border_left": null,
       "border_right": null,
       "border_top": null,
       "bottom": null,
       "display": null,
       "flex": null,
       "flex_flow": null,
       "grid_area": null,
       "grid_auto_columns": null,
       "grid_auto_flow": null,
       "grid_auto_rows": null,
       "grid_column": null,
       "grid_gap": null,
       "grid_row": null,
       "grid_template_areas": null,
       "grid_template_columns": null,
       "grid_template_rows": null,
       "height": null,
       "justify_content": null,
       "justify_items": null,
       "left": null,
       "margin": null,
       "max_height": null,
       "max_width": null,
       "min_height": null,
       "min_width": null,
       "object_fit": null,
       "object_position": null,
       "order": null,
       "overflow": null,
       "padding": null,
       "right": null,
       "top": null,
       "visibility": null,
       "width": null
      }
     }
    },
    "version_major": 2,
    "version_minor": 0
   }
  }
 },
 "nbformat": 4,
 "nbformat_minor": 5
}
