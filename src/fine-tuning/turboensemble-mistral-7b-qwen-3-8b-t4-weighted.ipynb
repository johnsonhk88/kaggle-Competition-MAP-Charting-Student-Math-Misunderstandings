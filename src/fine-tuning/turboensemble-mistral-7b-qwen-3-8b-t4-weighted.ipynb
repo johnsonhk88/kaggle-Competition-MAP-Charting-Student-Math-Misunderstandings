{
 "cells": [
  {
   "cell_type": "markdown",
   "id": "12b97e6b",
   "metadata": {
    "papermill": {
     "duration": 0.003166,
     "end_time": "2025-08-25T08:01:33.914903",
     "exception": false,
     "start_time": "2025-08-25T08:01:33.911737",
     "status": "completed"
    },
    "tags": []
   },
   "source": [
    "# Integrated Model\n",
    "This script ensembles two pre-trained models (Mistral-7B and Qwen-3.8B) "
   ]
  },
  {
   "cell_type": "code",
   "execution_count": 1,
   "id": "b13ae015",
   "metadata": {
    "execution": {
     "iopub.execute_input": "2025-08-25T08:01:33.920706Z",
     "iopub.status.busy": "2025-08-25T08:01:33.920505Z",
     "iopub.status.idle": "2025-08-25T08:02:01.504510Z",
     "shell.execute_reply": "2025-08-25T08:02:01.503637Z"
    },
    "papermill": {
     "duration": 27.58815,
     "end_time": "2025-08-25T08:02:01.505735",
     "exception": false,
     "start_time": "2025-08-25T08:01:33.917585",
     "status": "completed"
    },
    "tags": []
   },
   "outputs": [
    {
     "name": "stdout",
     "output_type": "stream",
     "text": [
      "Processing /kaggle/input/bitsandbytes-0-46-1/bitsandbytes-0.46.1-py3-none-manylinux_2_24_x86_64.whl\n",
      "Installing collected packages: bitsandbytes\n",
      "Successfully installed bitsandbytes-0.46.1\n"
     ]
    },
    {
     "name": "stderr",
     "output_type": "stream",
     "text": [
      "2025-08-25 08:01:49.926390: E external/local_xla/xla/stream_executor/cuda/cuda_fft.cc:477] Unable to register cuFFT factory: Attempting to register factory for plugin cuFFT when one has already been registered\n",
      "WARNING: All log messages before absl::InitializeLog() is called are written to STDERR\n",
      "E0000 00:00:1756108910.130646      19 cuda_dnn.cc:8310] Unable to register cuDNN factory: Attempting to register factory for plugin cuDNN when one has already been registered\n",
      "E0000 00:00:1756108910.189738      19 cuda_blas.cc:1418] Unable to register cuBLAS factory: Attempting to register factory for plugin cuBLAS when one has already been registered\n"
     ]
    },
    {
     "name": "stdout",
     "output_type": "stream",
     "text": [
      "Step 1: Libraries imported and environment set up.\n"
     ]
    }
   ],
   "source": [
    "import os\n",
    "os.environ['PYTORCH_CUDA_ALLOC_CONF'] = 'expandable_segments:True'\n",
    "\n",
    "# 只安装必要的包\n",
    "os.system('pip install \"/kaggle/input/bitsandbytes-0-46-1/bitsandbytes-0.46.1-py3-none-manylinux_2_24_x86_64.whl\" --no-build-isolation --no-deps --force-reinstall')\n",
    "\n",
    "# 导入所有必要的库\n",
    "import torch\n",
    "from torch.utils.data import DataLoader   \n",
    "import pandas as pd\n",
    "import numpy as np\n",
    "from sklearn.preprocessing import LabelEncoder\n",
    "from transformers import AutoTokenizer, AutoModelForSequenceClassification, DataCollatorWithPadding, BitsAndBytesConfig\n",
    "from datasets import Dataset\n",
    "import gc\n",
    "\n",
    "print(\"Step 1: Libraries imported and environment set up.\")"
   ]
  },
  {
   "cell_type": "markdown",
   "id": "e2fecf54",
   "metadata": {
    "papermill": {
     "duration": 0.002547,
     "end_time": "2025-08-25T08:02:01.511298",
     "exception": false,
     "start_time": "2025-08-25T08:02:01.508751",
     "status": "completed"
    },
    "tags": []
   },
   "source": [
    "# 2.Efficient Data Loading"
   ]
  },
  {
   "cell_type": "code",
   "execution_count": 2,
   "id": "4f0ba848",
   "metadata": {
    "execution": {
     "iopub.execute_input": "2025-08-25T08:02:01.517407Z",
     "iopub.status.busy": "2025-08-25T08:02:01.516970Z",
     "iopub.status.idle": "2025-08-25T08:02:01.715747Z",
     "shell.execute_reply": "2025-08-25T08:02:01.714995Z"
    },
    "papermill": {
     "duration": 0.203043,
     "end_time": "2025-08-25T08:02:01.716917",
     "exception": false,
     "start_time": "2025-08-25T08:02:01.513874",
     "status": "completed"
    },
    "tags": []
   },
   "outputs": [
    {
     "name": "stdout",
     "output_type": "stream",
     "text": [
      "Step 2: Data loaded - Train: (36696, 7), Test: (3, 5)\n"
     ]
    }
   ],
   "source": [
    "DATA_PATH = '/kaggle/input/map-charting-student-math-misunderstandings/'\n",
    "\n",
    "train = pd.read_csv(f'{DATA_PATH}train.csv')\n",
    "test = pd.read_csv(f'{DATA_PATH}test.csv')\n",
    "\n",
    "print(f\"Step 2: Data loaded - Train: {train.shape}, Test: {test.shape}\")"
   ]
  },
  {
   "cell_type": "markdown",
   "id": "773fa07d",
   "metadata": {
    "papermill": {
     "duration": 0.002584,
     "end_time": "2025-08-25T08:02:01.722499",
     "exception": false,
     "start_time": "2025-08-25T08:02:01.719915",
     "status": "completed"
    },
    "tags": []
   },
   "source": [
    "# 3.Fast Feature Engineering"
   ]
  },
  {
   "cell_type": "code",
   "execution_count": 3,
   "id": "fd0aa25d",
   "metadata": {
    "execution": {
     "iopub.execute_input": "2025-08-25T08:02:01.728694Z",
     "iopub.status.busy": "2025-08-25T08:02:01.728452Z",
     "iopub.status.idle": "2025-08-25T08:02:02.022172Z",
     "shell.execute_reply": "2025-08-25T08:02:02.021256Z"
    },
    "papermill": {
     "duration": 0.298096,
     "end_time": "2025-08-25T08:02:02.023321",
     "exception": false,
     "start_time": "2025-08-25T08:02:01.725225",
     "status": "completed"
    },
    "tags": []
   },
   "outputs": [
    {
     "name": "stdout",
     "output_type": "stream",
     "text": [
      "Step 3: Feature engineering completed - 65 classes\n"
     ]
    }
   ],
   "source": [
    "le = LabelEncoder()\n",
    "train.Misconception = train.Misconception.fillna('NA')\n",
    "train['target'] = train.Category + ':' + train.Misconception\n",
    "train['label'] = le.fit_transform(train['target'])\n",
    "\n",
    "# 创建正确答案映射\n",
    "idx = train.apply(lambda row: row.Category.split('_')[0], axis=1) == 'True'\n",
    "correct = train.loc[idx].copy()\n",
    "correct['c'] = correct.groupby(['QuestionId', 'MC_Answer']).MC_Answer.transform('count')\n",
    "correct = correct.sort_values('c', ascending=False).drop_duplicates(['QuestionId'])[['QuestionId', 'MC_Answer']]\n",
    "correct['is_correct'] = 1\n",
    "\n",
    "test = test.merge(correct, on=['QuestionId', 'MC_Answer'], how='left')\n",
    "test.is_correct = test.is_correct.fillna(0)\n",
    "\n",
    "print(f\"Step 3: Feature engineering completed - {len(le.classes_)} classes\")"
   ]
  },
  {
   "cell_type": "markdown",
   "id": "0aa93d51",
   "metadata": {
    "papermill": {
     "duration": 0.002542,
     "end_time": "2025-08-25T08:02:02.028803",
     "exception": false,
     "start_time": "2025-08-25T08:02:02.026261",
     "status": "completed"
    },
    "tags": []
   },
   "source": [
    "# 4.Format Input"
   ]
  },
  {
   "cell_type": "code",
   "execution_count": 4,
   "id": "4a5be5c3",
   "metadata": {
    "execution": {
     "iopub.execute_input": "2025-08-25T08:02:02.034902Z",
     "iopub.status.busy": "2025-08-25T08:02:02.034660Z",
     "iopub.status.idle": "2025-08-25T08:02:02.037683Z",
     "shell.execute_reply": "2025-08-25T08:02:02.037189Z"
    },
    "papermill": {
     "duration": 0.007352,
     "end_time": "2025-08-25T08:02:02.038731",
     "exception": false,
     "start_time": "2025-08-25T08:02:02.031379",
     "status": "completed"
    },
    "tags": []
   },
   "outputs": [],
   "source": [
    "# def format_input(row):\n",
    "#     correctness = \"This answer is correct.\" if row['is_correct'] else \"This answer is incorrect.\"\n",
    "#     return f\"Question: {row['QuestionText']}\\nAnswer: {row['MC_Answer']}\\n{correctness}\\nStudent Explanation: {row['StudentExplanation']}\"\n",
    "\n",
    "# test['text'] = test.apply(format_input, axis=1)\n",
    "# ds_test = Dataset.from_pandas(test)\n",
    "\n",
    "# print(\"Step 4: Model input formatted.\")"
   ]
  },
  {
   "cell_type": "code",
   "execution_count": 5,
   "id": "72489e68",
   "metadata": {
    "execution": {
     "iopub.execute_input": "2025-08-25T08:02:02.045366Z",
     "iopub.status.busy": "2025-08-25T08:02:02.044798Z",
     "iopub.status.idle": "2025-08-25T08:02:02.061750Z",
     "shell.execute_reply": "2025-08-25T08:02:02.061140Z"
    },
    "papermill": {
     "duration": 0.021289,
     "end_time": "2025-08-25T08:02:02.062816",
     "exception": false,
     "start_time": "2025-08-25T08:02:02.041527",
     "status": "completed"
    },
    "tags": []
   },
   "outputs": [
    {
     "name": "stdout",
     "output_type": "stream",
     "text": [
      "Step 4: Model input formatted.\n"
     ]
    }
   ],
   "source": [
    "def format_input(row):\n",
    "    correctness = \"This answer is correct.\" if row['is_correct'] else \"This answer is incorrect.\"\n",
    "    return f\"\"\"Math Question: {row['QuestionText']}\n",
    "\n",
    "Student's Answer: {row['MC_Answer']}\n",
    "Answer Status: {correctness}\n",
    "\n",
    "Student's Explanation: {row['StudentExplanation']}\n",
    "\n",
    "Analyze the student's mathematical reasoning and identify any misconceptions.\"\"\"\n",
    "\n",
    "test['text'] = test.apply(format_input, axis=1)\n",
    "ds_test = Dataset.from_pandas(test)\n",
    "print(\"Step 4: Model input formatted.\")"
   ]
  },
  {
   "cell_type": "markdown",
   "id": "8fa3c3e0",
   "metadata": {
    "papermill": {
     "duration": 0.002558,
     "end_time": "2025-08-25T08:02:02.068085",
     "exception": false,
     "start_time": "2025-08-25T08:02:02.065527",
     "status": "completed"
    },
    "tags": []
   },
   "source": [
    "# 5.Optimized Model Inference"
   ]
  },
  {
   "cell_type": "code",
   "execution_count": 6,
   "id": "4a4c2b1a",
   "metadata": {
    "execution": {
     "iopub.execute_input": "2025-08-25T08:02:02.075321Z",
     "iopub.status.busy": "2025-08-25T08:02:02.075003Z",
     "iopub.status.idle": "2025-08-25T08:02:02.083976Z",
     "shell.execute_reply": "2025-08-25T08:02:02.083383Z"
    },
    "papermill": {
     "duration": 0.013424,
     "end_time": "2025-08-25T08:02:02.085026",
     "exception": false,
     "start_time": "2025-08-25T08:02:02.071602",
     "status": "completed"
    },
    "tags": []
   },
   "outputs": [
    {
     "name": "stdout",
     "output_type": "stream",
     "text": [
      "Step 5: Optimized inference function defined.\n"
     ]
    }
   ],
   "source": [
    "def get_predictions(model_path, ds_test):\n",
    "    \"\"\"优化的模型推理函数 - 针对Kaggle T4 GPU优化\"\"\"\n",
    "    \n",
    "    print(f\"Loading model from: {model_path}\")\n",
    "    \n",
    "    # 清理内存\n",
    "    torch.cuda.empty_cache()\n",
    "    gc.collect()\n",
    "    \n",
    "    # 使用4bit量化降低内存占用\n",
    "    quantization_config = BitsAndBytesConfig(\n",
    "        load_in_4bit=True,\n",
    "        bnb_4bit_compute_dtype=torch.float16,\n",
    "        bnb_4bit_use_double_quant=True,\n",
    "        bnb_4bit_quant_type=\"nf4\"\n",
    "    )\n",
    "    \n",
    "    # 尝试不同的attention实现\n",
    "    for attn_type in [\"sdpa\", \"eager\"]:  # SDPA对T4最兼容\n",
    "        try:\n",
    "            print(f\"Trying {attn_type} attention...\")\n",
    "            model = AutoModelForSequenceClassification.from_pretrained(\n",
    "                model_path,\n",
    "                device_map=\"cuda\",\n",
    "                attn_implementation=attn_type,\n",
    "                quantization_config=quantization_config,\n",
    "                torch_dtype=torch.float16,\n",
    "                trust_remote_code=True\n",
    "            )\n",
    "            print(f\"Model loaded successfully with {attn_type}\")\n",
    "            break\n",
    "        except Exception as e:\n",
    "            print(f\"{attn_type} failed: {str(e)[:100]}\")\n",
    "            continue\n",
    "    else:\n",
    "        raise RuntimeError(\"Failed to load model with any attention type\")\n",
    "    \n",
    "    # 加载tokenizer\n",
    "    tokenizer = AutoTokenizer.from_pretrained(model_path)\n",
    "    if tokenizer.pad_token is None:\n",
    "        tokenizer.pad_token = tokenizer.eos_token\n",
    "    model.config.pad_token_id = tokenizer.pad_token_id\n",
    "    \n",
    "    # 快速tokenization - 使用较短的序列长度\n",
    "    def tokenize(batch):\n",
    "        return tokenizer(batch[\"text\"], padding=\"max_length\", truncation=True, max_length=128)\n",
    "    \n",
    "    ds_test_tokenized = ds_test.map(tokenize, batched=True)\n",
    "    \n",
    "    # 推理设置\n",
    "    model.eval()\n",
    "    data_collator = DataCollatorWithPadding(tokenizer)\n",
    "    ds_test_tokenized.set_format(type='torch', columns=['input_ids', 'attention_mask'])\n",
    "    \n",
    "    # 对于小数据集，可以使用稍大的batch size\n",
    "    batch_size = min(4, len(ds_test))  # 自适应batch size\n",
    "    dataloader = DataLoader(ds_test_tokenized, batch_size=batch_size, collate_fn=data_collator, shuffle=False)\n",
    "    \n",
    "    print(f\"Starting inference with batch_size={batch_size}\")\n",
    "    \n",
    "    # 推理循环\n",
    "    all_predictions = []\n",
    "    with torch.no_grad():\n",
    "        for i, batch in enumerate(dataloader):\n",
    "            inputs = {k: v.to(\"cuda\") for k, v in batch.items() if k in tokenizer.model_input_names}\n",
    "            outputs = model(**inputs)\n",
    "            all_predictions.append(outputs.logits.cpu().numpy())\n",
    "            \n",
    "            # 清理内存\n",
    "            del inputs, outputs\n",
    "            if i % 2 == 0:\n",
    "                torch.cuda.empty_cache()\n",
    "    \n",
    "    # 合并预测结果\n",
    "    predictions = np.concatenate(all_predictions, axis=0)\n",
    "    \n",
    "    # 彻底清理\n",
    "    del model, tokenizer, dataloader, all_predictions\n",
    "    gc.collect()\n",
    "    torch.cuda.empty_cache()\n",
    "    \n",
    "    print(f\"Inference completed. Shape: {predictions.shape}\")\n",
    "    return predictions\n",
    "\n",
    "print(\"Step 5: Optimized inference function defined.\")"
   ]
  },
  {
   "cell_type": "markdown",
   "id": "76339d50",
   "metadata": {
    "papermill": {
     "duration": 0.002595,
     "end_time": "2025-08-25T08:02:02.090355",
     "exception": false,
     "start_time": "2025-08-25T08:02:02.087760",
     "status": "completed"
    },
    "tags": []
   },
   "source": [
    "# 6.Model Ensemble Inference"
   ]
  },
  {
   "cell_type": "code",
   "execution_count": 7,
   "id": "f8427f29",
   "metadata": {
    "execution": {
     "iopub.execute_input": "2025-08-25T08:02:02.096751Z",
     "iopub.status.busy": "2025-08-25T08:02:02.096257Z",
     "iopub.status.idle": "2025-08-25T08:05:14.961008Z",
     "shell.execute_reply": "2025-08-25T08:05:14.960137Z"
    },
    "papermill": {
     "duration": 192.869078,
     "end_time": "2025-08-25T08:05:14.962148",
     "exception": false,
     "start_time": "2025-08-25T08:02:02.093070",
     "status": "completed"
    },
    "tags": []
   },
   "outputs": [
    {
     "name": "stdout",
     "output_type": "stream",
     "text": [
      "Starting ensemble inference...\n",
      "Loading model from: /kaggle/input/map-exp-14-full/MAP_EXP_14_FULL\n",
      "Trying sdpa attention...\n"
     ]
    },
    {
     "data": {
      "application/vnd.jupyter.widget-view+json": {
       "model_id": "4e13aa23dfd3452cbacafd9f5b7cc479",
       "version_major": 2,
       "version_minor": 0
      },
      "text/plain": [
       "Loading checkpoint shards:   0%|          | 0/3 [00:00<?, ?it/s]"
      ]
     },
     "metadata": {},
     "output_type": "display_data"
    },
    {
     "name": "stdout",
     "output_type": "stream",
     "text": [
      "Model loaded successfully with sdpa\n"
     ]
    },
    {
     "data": {
      "application/vnd.jupyter.widget-view+json": {
       "model_id": "f446765605f64796a7df87b1b6738ee1",
       "version_major": 2,
       "version_minor": 0
      },
      "text/plain": [
       "Map:   0%|          | 0/3 [00:00<?, ? examples/s]"
      ]
     },
     "metadata": {},
     "output_type": "display_data"
    },
    {
     "name": "stdout",
     "output_type": "stream",
     "text": [
      "Starting inference with batch_size=3\n",
      "Inference completed. Shape: (3, 65)\n",
      "Loading model from: /kaggle/input/qwen3-8b-map-competition/MAP_EXP_16_FULL\n",
      "Trying sdpa attention...\n"
     ]
    },
    {
     "data": {
      "application/vnd.jupyter.widget-view+json": {
       "model_id": "bf547bf0a28c4fdd9d3bb52cc3aed4be",
       "version_major": 2,
       "version_minor": 0
      },
      "text/plain": [
       "Loading checkpoint shards:   0%|          | 0/4 [00:00<?, ?it/s]"
      ]
     },
     "metadata": {},
     "output_type": "display_data"
    },
    {
     "name": "stdout",
     "output_type": "stream",
     "text": [
      "Model loaded successfully with sdpa\n"
     ]
    },
    {
     "data": {
      "application/vnd.jupyter.widget-view+json": {
       "model_id": "b9004da777d9438681096efd7cbe28fb",
       "version_major": 2,
       "version_minor": 0
      },
      "text/plain": [
       "Map:   0%|          | 0/3 [00:00<?, ? examples/s]"
      ]
     },
     "metadata": {},
     "output_type": "display_data"
    },
    {
     "name": "stdout",
     "output_type": "stream",
     "text": [
      "Starting inference with batch_size=3\n",
      "Inference completed. Shape: (3, 65)\n",
      "Step 6: Both models completed successfully!\n"
     ]
    }
   ],
   "source": [
    "mistral_model_path = '/kaggle/input/map-exp-14-full/MAP_EXP_14_FULL'\n",
    "qwen_model_path = '/kaggle/input/qwen3-8b-map-competition/MAP_EXP_16_FULL'\n",
    "\n",
    "print(\"Starting ensemble inference...\")\n",
    "\n",
    "# 获取两个模型的预测\n",
    "predictions_mistral = get_predictions(mistral_model_path, ds_test)\n",
    "predictions_qwen = get_predictions(qwen_model_path, ds_test)\n",
    "\n",
    "print(\"Step 6: Both models completed successfully!\")"
   ]
  },
  {
   "cell_type": "markdown",
   "id": "4a759068",
   "metadata": {
    "papermill": {
     "duration": 0.003484,
     "end_time": "2025-08-25T08:05:14.969509",
     "exception": false,
     "start_time": "2025-08-25T08:05:14.966025",
     "status": "completed"
    },
    "tags": []
   },
   "source": [
    "# 7.Generate Submission"
   ]
  },
  {
   "cell_type": "code",
   "execution_count": 8,
   "id": "38b83ee8",
   "metadata": {
    "execution": {
     "iopub.execute_input": "2025-08-25T08:05:14.977332Z",
     "iopub.status.busy": "2025-08-25T08:05:14.977093Z",
     "iopub.status.idle": "2025-08-25T08:05:14.993319Z",
     "shell.execute_reply": "2025-08-25T08:05:14.992620Z"
    },
    "papermill": {
     "duration": 0.021381,
     "end_time": "2025-08-25T08:05:14.994419",
     "exception": false,
     "start_time": "2025-08-25T08:05:14.973038",
     "status": "completed"
    },
    "tags": []
   },
   "outputs": [
    {
     "name": "stdout",
     "output_type": "stream",
     "text": [
      "Using weighted ensemble: Mistral(0.2) + Qwen(0.8)\n",
      "Step 7: Weighted ensemble submission file created successfully!\n",
      "Submission shape: (3, 2)\n",
      "Applied weights: Mistral=0.2, Qwen=0.8\n",
      "First few predictions:\n",
      "   row_id                             Category:Misconception\n",
      "0   36696   True_Neither:NA True_Correct:NA False_Neither:NA\n",
      "1   36697  False_Neither:NA False_Misconception:WNB False...\n",
      "2   36698   True_Neither:NA False_Neither:NA True_Correct:NA\n"
     ]
    }
   ],
   "source": [
    "# 加权集成预测 - 给Qwen更高权重\n",
    "mistral_weight = 0.2 # Mistral权重\n",
    "qwen_weight = 0.8   # Qwen权重 (更高)\n",
    "\n",
    "print(f\"Using weighted ensemble: Mistral({mistral_weight}) + Qwen({qwen_weight})\")\n",
    "\n",
    "# 加权平均替代简单平均\n",
    "ensembled_predictions = mistral_weight * predictions_mistral + qwen_weight * predictions_qwen\n",
    "\n",
    "# 获取Top 3预测\n",
    "top3_indices = np.argsort(-ensembled_predictions, axis=1)[:, :3]\n",
    "\n",
    "# 转换为标签\n",
    "flat_top3 = top3_indices.flatten()\n",
    "decoded_labels = le.inverse_transform(flat_top3)\n",
    "top3_labels = decoded_labels.reshape(top3_indices.shape)\n",
    "\n",
    "# 格式化输出\n",
    "joined_preds = [\" \".join(preds) for preds in top3_labels]\n",
    "\n",
    "# 创建提交文件\n",
    "submission_df = pd.DataFrame({\n",
    "    \"row_id\": test.row_id.values,\n",
    "    \"Category:Misconception\": joined_preds\n",
    "})\n",
    "\n",
    "submission_df.to_csv(\"submission.csv\", index=False)\n",
    "\n",
    "print(\"Step 7: Weighted ensemble submission file created successfully!\")\n",
    "print(f\"Submission shape: {submission_df.shape}\")\n",
    "print(f\"Applied weights: Mistral={mistral_weight}, Qwen={qwen_weight}\")\n",
    "print(\"First few predictions:\")\n",
    "print(submission_df.head())"
   ]
  },
  {
   "cell_type": "code",
   "execution_count": null,
   "id": "8ec5356a",
   "metadata": {
    "papermill": {
     "duration": 0.003295,
     "end_time": "2025-08-25T08:05:15.001372",
     "exception": false,
     "start_time": "2025-08-25T08:05:14.998077",
     "status": "completed"
    },
    "tags": []
   },
   "outputs": [],
   "source": []
  }
 ],
 "metadata": {
  "kaggle": {
   "accelerator": "nvidiaTeslaT4",
   "dataSources": [
    {
     "databundleVersionId": 12957508,
     "isSourceIdPinned": false,
     "sourceId": 104383,
     "sourceType": "competition"
    },
    {
     "datasetId": 7823286,
     "sourceId": 12405488,
     "sourceType": "datasetVersion"
    },
    {
     "datasetId": 8040987,
     "sourceId": 12722014,
     "sourceType": "datasetVersion"
    },
    {
     "datasetId": 8045877,
     "sourceId": 12729471,
     "sourceType": "datasetVersion"
    },
    {
     "datasetId": 8077615,
     "sourceId": 12777113,
     "sourceType": "datasetVersion"
    }
   ],
   "dockerImageVersionId": 31090,
   "isGpuEnabled": true,
   "isInternetEnabled": false,
   "language": "python",
   "sourceType": "notebook"
  },
  "kernelspec": {
   "display_name": "Python 3",
   "language": "python",
   "name": "python3"
  },
  "language_info": {
   "codemirror_mode": {
    "name": "ipython",
    "version": 3
   },
   "file_extension": ".py",
   "mimetype": "text/x-python",
   "name": "python",
   "nbconvert_exporter": "python",
   "pygments_lexer": "ipython3",
   "version": "3.11.13"
  },
  "papermill": {
   "default_parameters": {},
   "duration": 228.328043,
   "end_time": "2025-08-25T08:05:18.146522",
   "environment_variables": {},
   "exception": null,
   "input_path": "__notebook__.ipynb",
   "output_path": "__notebook__.ipynb",
   "parameters": {},
   "start_time": "2025-08-25T08:01:29.818479",
   "version": "2.6.0"
  },
  "widgets": {
   "application/vnd.jupyter.widget-state+json": {
    "state": {
     "0722d714c103481c8a5363f1baf04aae": {
      "model_module": "@jupyter-widgets/controls",
      "model_module_version": "2.0.0",
      "model_name": "FloatProgressModel",
      "state": {
       "_dom_classes": [],
       "_model_module": "@jupyter-widgets/controls",
       "_model_module_version": "2.0.0",
       "_model_name": "FloatProgressModel",
       "_view_count": null,
       "_view_module": "@jupyter-widgets/controls",
       "_view_module_version": "2.0.0",
       "_view_name": "ProgressView",
       "bar_style": "success",
       "description": "",
       "description_allow_html": false,
       "layout": "IPY_MODEL_cb22df6802ee46218317847087eb6c35",
       "max": 4.0,
       "min": 0.0,
       "orientation": "horizontal",
       "style": "IPY_MODEL_1da860b81d8c41cd85471a398607ce22",
       "tabbable": null,
       "tooltip": null,
       "value": 4.0
      }
     },
     "185298ee52834ba2883d5c22ad2a23a3": {
      "model_module": "@jupyter-widgets/controls",
      "model_module_version": "2.0.0",
      "model_name": "HTMLStyleModel",
      "state": {
       "_model_module": "@jupyter-widgets/controls",
       "_model_module_version": "2.0.0",
       "_model_name": "HTMLStyleModel",
       "_view_count": null,
       "_view_module": "@jupyter-widgets/base",
       "_view_module_version": "2.0.0",
       "_view_name": "StyleView",
       "background": null,
       "description_width": "",
       "font_size": null,
       "text_color": null
      }
     },
     "1c7fc156d9134728a366fdc2dff98f0b": {
      "model_module": "@jupyter-widgets/controls",
      "model_module_version": "2.0.0",
      "model_name": "HTMLStyleModel",
      "state": {
       "_model_module": "@jupyter-widgets/controls",
       "_model_module_version": "2.0.0",
       "_model_name": "HTMLStyleModel",
       "_view_count": null,
       "_view_module": "@jupyter-widgets/base",
       "_view_module_version": "2.0.0",
       "_view_name": "StyleView",
       "background": null,
       "description_width": "",
       "font_size": null,
       "text_color": null
      }
     },
     "1da860b81d8c41cd85471a398607ce22": {
      "model_module": "@jupyter-widgets/controls",
      "model_module_version": "2.0.0",
      "model_name": "ProgressStyleModel",
      "state": {
       "_model_module": "@jupyter-widgets/controls",
       "_model_module_version": "2.0.0",
       "_model_name": "ProgressStyleModel",
       "_view_count": null,
       "_view_module": "@jupyter-widgets/base",
       "_view_module_version": "2.0.0",
       "_view_name": "StyleView",
       "bar_color": null,
       "description_width": ""
      }
     },
     "2d255b83004f498c9bcb72cc28e52644": {
      "model_module": "@jupyter-widgets/base",
      "model_module_version": "2.0.0",
      "model_name": "LayoutModel",
      "state": {
       "_model_module": "@jupyter-widgets/base",
       "_model_module_version": "2.0.0",
       "_model_name": "LayoutModel",
       "_view_count": null,
       "_view_module": "@jupyter-widgets/base",
       "_view_module_version": "2.0.0",
       "_view_name": "LayoutView",
       "align_content": null,
       "align_items": null,
       "align_self": null,
       "border_bottom": null,
       "border_left": null,
       "border_right": null,
       "border_top": null,
       "bottom": null,
       "display": null,
       "flex": null,
       "flex_flow": null,
       "grid_area": null,
       "grid_auto_columns": null,
       "grid_auto_flow": null,
       "grid_auto_rows": null,
       "grid_column": null,
       "grid_gap": null,
       "grid_row": null,
       "grid_template_areas": null,
       "grid_template_columns": null,
       "grid_template_rows": null,
       "height": null,
       "justify_content": null,
       "justify_items": null,
       "left": null,
       "margin": null,
       "max_height": null,
       "max_width": null,
       "min_height": null,
       "min_width": null,
       "object_fit": null,
       "object_position": null,
       "order": null,
       "overflow": null,
       "padding": null,
       "right": null,
       "top": null,
       "visibility": null,
       "width": null
      }
     },
     "316f061c90bd439b8c469d98c0c7b722": {
      "model_module": "@jupyter-widgets/controls",
      "model_module_version": "2.0.0",
      "model_name": "HTMLStyleModel",
      "state": {
       "_model_module": "@jupyter-widgets/controls",
       "_model_module_version": "2.0.0",
       "_model_name": "HTMLStyleModel",
       "_view_count": null,
       "_view_module": "@jupyter-widgets/base",
       "_view_module_version": "2.0.0",
       "_view_name": "StyleView",
       "background": null,
       "description_width": "",
       "font_size": null,
       "text_color": null
      }
     },
     "3d877ae5e3144e6fa8bed0f129c00389": {
      "model_module": "@jupyter-widgets/controls",
      "model_module_version": "2.0.0",
      "model_name": "HTMLModel",
      "state": {
       "_dom_classes": [],
       "_model_module": "@jupyter-widgets/controls",
       "_model_module_version": "2.0.0",
       "_model_name": "HTMLModel",
       "_view_count": null,
       "_view_module": "@jupyter-widgets/controls",
       "_view_module_version": "2.0.0",
       "_view_name": "HTMLView",
       "description": "",
       "description_allow_html": false,
       "layout": "IPY_MODEL_a5be3b0664f74ee9b05f280ff5c112ae",
       "placeholder": "​",
       "style": "IPY_MODEL_dd7b1b5da0b243b9acdfb7bcb587512d",
       "tabbable": null,
       "tooltip": null,
       "value": "Loading checkpoint shards: 100%"
      }
     },
     "42fe6d2c1f494a3c9fd3ca9db09414dc": {
      "model_module": "@jupyter-widgets/base",
      "model_module_version": "2.0.0",
      "model_name": "LayoutModel",
      "state": {
       "_model_module": "@jupyter-widgets/base",
       "_model_module_version": "2.0.0",
       "_model_name": "LayoutModel",
       "_view_count": null,
       "_view_module": "@jupyter-widgets/base",
       "_view_module_version": "2.0.0",
       "_view_name": "LayoutView",
       "align_content": null,
       "align_items": null,
       "align_self": null,
       "border_bottom": null,
       "border_left": null,
       "border_right": null,
       "border_top": null,
       "bottom": null,
       "display": null,
       "flex": null,
       "flex_flow": null,
       "grid_area": null,
       "grid_auto_columns": null,
       "grid_auto_flow": null,
       "grid_auto_rows": null,
       "grid_column": null,
       "grid_gap": null,
       "grid_row": null,
       "grid_template_areas": null,
       "grid_template_columns": null,
       "grid_template_rows": null,
       "height": null,
       "justify_content": null,
       "justify_items": null,
       "left": null,
       "margin": null,
       "max_height": null,
       "max_width": null,
       "min_height": null,
       "min_width": null,
       "object_fit": null,
       "object_position": null,
       "order": null,
       "overflow": null,
       "padding": null,
       "right": null,
       "top": null,
       "visibility": null,
       "width": null
      }
     },
     "494489d5be2644a1a1feb463119402a8": {
      "model_module": "@jupyter-widgets/controls",
      "model_module_version": "2.0.0",
      "model_name": "HTMLModel",
      "state": {
       "_dom_classes": [],
       "_model_module": "@jupyter-widgets/controls",
       "_model_module_version": "2.0.0",
       "_model_name": "HTMLModel",
       "_view_count": null,
       "_view_module": "@jupyter-widgets/controls",
       "_view_module_version": "2.0.0",
       "_view_name": "HTMLView",
       "description": "",
       "description_allow_html": false,
       "layout": "IPY_MODEL_94c2de12e8504dd7a6b86512b06d512f",
       "placeholder": "​",
       "style": "IPY_MODEL_316f061c90bd439b8c469d98c0c7b722",
       "tabbable": null,
       "tooltip": null,
       "value": " 4/4 [01:20&lt;00:00, 15.80s/it]"
      }
     },
     "4e13aa23dfd3452cbacafd9f5b7cc479": {
      "model_module": "@jupyter-widgets/controls",
      "model_module_version": "2.0.0",
      "model_name": "HBoxModel",
      "state": {
       "_dom_classes": [],
       "_model_module": "@jupyter-widgets/controls",
       "_model_module_version": "2.0.0",
       "_model_name": "HBoxModel",
       "_view_count": null,
       "_view_module": "@jupyter-widgets/controls",
       "_view_module_version": "2.0.0",
       "_view_name": "HBoxView",
       "box_style": "",
       "children": [
        "IPY_MODEL_3d877ae5e3144e6fa8bed0f129c00389",
        "IPY_MODEL_52970ff47c104b0b98cd1828508fa190",
        "IPY_MODEL_78936390db2e4d4db6059a6835a8d7d7"
       ],
       "layout": "IPY_MODEL_2d255b83004f498c9bcb72cc28e52644",
       "tabbable": null,
       "tooltip": null
      }
     },
     "52970ff47c104b0b98cd1828508fa190": {
      "model_module": "@jupyter-widgets/controls",
      "model_module_version": "2.0.0",
      "model_name": "FloatProgressModel",
      "state": {
       "_dom_classes": [],
       "_model_module": "@jupyter-widgets/controls",
       "_model_module_version": "2.0.0",
       "_model_name": "FloatProgressModel",
       "_view_count": null,
       "_view_module": "@jupyter-widgets/controls",
       "_view_module_version": "2.0.0",
       "_view_name": "ProgressView",
       "bar_style": "success",
       "description": "",
       "description_allow_html": false,
       "layout": "IPY_MODEL_c0126ea0425e42dc8e36197ac23b7707",
       "max": 3.0,
       "min": 0.0,
       "orientation": "horizontal",
       "style": "IPY_MODEL_97effa98bbe1447eafbe3d4c72f42774",
       "tabbable": null,
       "tooltip": null,
       "value": 3.0
      }
     },
     "61ef5857c4044b70a128cb88c1df5c1e": {
      "model_module": "@jupyter-widgets/base",
      "model_module_version": "2.0.0",
      "model_name": "LayoutModel",
      "state": {
       "_model_module": "@jupyter-widgets/base",
       "_model_module_version": "2.0.0",
       "_model_name": "LayoutModel",
       "_view_count": null,
       "_view_module": "@jupyter-widgets/base",
       "_view_module_version": "2.0.0",
       "_view_name": "LayoutView",
       "align_content": null,
       "align_items": null,
       "align_self": null,
       "border_bottom": null,
       "border_left": null,
       "border_right": null,
       "border_top": null,
       "bottom": null,
       "display": null,
       "flex": null,
       "flex_flow": null,
       "grid_area": null,
       "grid_auto_columns": null,
       "grid_auto_flow": null,
       "grid_auto_rows": null,
       "grid_column": null,
       "grid_gap": null,
       "grid_row": null,
       "grid_template_areas": null,
       "grid_template_columns": null,
       "grid_template_rows": null,
       "height": null,
       "justify_content": null,
       "justify_items": null,
       "left": null,
       "margin": null,
       "max_height": null,
       "max_width": null,
       "min_height": null,
       "min_width": null,
       "object_fit": null,
       "object_position": null,
       "order": null,
       "overflow": null,
       "padding": null,
       "right": null,
       "top": null,
       "visibility": null,
       "width": null
      }
     },
     "666fca8a18524049852270abacf00675": {
      "model_module": "@jupyter-widgets/controls",
      "model_module_version": "2.0.0",
      "model_name": "FloatProgressModel",
      "state": {
       "_dom_classes": [],
       "_model_module": "@jupyter-widgets/controls",
       "_model_module_version": "2.0.0",
       "_model_name": "FloatProgressModel",
       "_view_count": null,
       "_view_module": "@jupyter-widgets/controls",
       "_view_module_version": "2.0.0",
       "_view_name": "ProgressView",
       "bar_style": "success",
       "description": "",
       "description_allow_html": false,
       "layout": "IPY_MODEL_aaefdecd8320463e9b3d8f5ab90733f8",
       "max": 3.0,
       "min": 0.0,
       "orientation": "horizontal",
       "style": "IPY_MODEL_937f73e5ca9b4da5b14c9b40580646ef",
       "tabbable": null,
       "tooltip": null,
       "value": 3.0
      }
     },
     "66d21f994f7248518a1209696a712407": {
      "model_module": "@jupyter-widgets/controls",
      "model_module_version": "2.0.0",
      "model_name": "HTMLStyleModel",
      "state": {
       "_model_module": "@jupyter-widgets/controls",
       "_model_module_version": "2.0.0",
       "_model_name": "HTMLStyleModel",
       "_view_count": null,
       "_view_module": "@jupyter-widgets/base",
       "_view_module_version": "2.0.0",
       "_view_name": "StyleView",
       "background": null,
       "description_width": "",
       "font_size": null,
       "text_color": null
      }
     },
     "690ec807384541ecb87bf7c547f00174": {
      "model_module": "@jupyter-widgets/controls",
      "model_module_version": "2.0.0",
      "model_name": "HTMLStyleModel",
      "state": {
       "_model_module": "@jupyter-widgets/controls",
       "_model_module_version": "2.0.0",
       "_model_name": "HTMLStyleModel",
       "_view_count": null,
       "_view_module": "@jupyter-widgets/base",
       "_view_module_version": "2.0.0",
       "_view_name": "StyleView",
       "background": null,
       "description_width": "",
       "font_size": null,
       "text_color": null
      }
     },
     "78936390db2e4d4db6059a6835a8d7d7": {
      "model_module": "@jupyter-widgets/controls",
      "model_module_version": "2.0.0",
      "model_name": "HTMLModel",
      "state": {
       "_dom_classes": [],
       "_model_module": "@jupyter-widgets/controls",
       "_model_module_version": "2.0.0",
       "_model_name": "HTMLModel",
       "_view_count": null,
       "_view_module": "@jupyter-widgets/controls",
       "_view_module_version": "2.0.0",
       "_view_name": "HTMLView",
       "description": "",
       "description_allow_html": false,
       "layout": "IPY_MODEL_9c88abffa778415a8b9562c805f25990",
       "placeholder": "​",
       "style": "IPY_MODEL_66d21f994f7248518a1209696a712407",
       "tabbable": null,
       "tooltip": null,
       "value": " 3/3 [01:40&lt;00:00, 34.90s/it]"
      }
     },
     "7dc2793537934721b89ce386ee916549": {
      "model_module": "@jupyter-widgets/controls",
      "model_module_version": "2.0.0",
      "model_name": "HTMLStyleModel",
      "state": {
       "_model_module": "@jupyter-widgets/controls",
       "_model_module_version": "2.0.0",
       "_model_name": "HTMLStyleModel",
       "_view_count": null,
       "_view_module": "@jupyter-widgets/base",
       "_view_module_version": "2.0.0",
       "_view_name": "StyleView",
       "background": null,
       "description_width": "",
       "font_size": null,
       "text_color": null
      }
     },
     "7f20111f6ba441ebb469a3ad2735e319": {
      "model_module": "@jupyter-widgets/base",
      "model_module_version": "2.0.0",
      "model_name": "LayoutModel",
      "state": {
       "_model_module": "@jupyter-widgets/base",
       "_model_module_version": "2.0.0",
       "_model_name": "LayoutModel",
       "_view_count": null,
       "_view_module": "@jupyter-widgets/base",
       "_view_module_version": "2.0.0",
       "_view_name": "LayoutView",
       "align_content": null,
       "align_items": null,
       "align_self": null,
       "border_bottom": null,
       "border_left": null,
       "border_right": null,
       "border_top": null,
       "bottom": null,
       "display": null,
       "flex": null,
       "flex_flow": null,
       "grid_area": null,
       "grid_auto_columns": null,
       "grid_auto_flow": null,
       "grid_auto_rows": null,
       "grid_column": null,
       "grid_gap": null,
       "grid_row": null,
       "grid_template_areas": null,
       "grid_template_columns": null,
       "grid_template_rows": null,
       "height": null,
       "justify_content": null,
       "justify_items": null,
       "left": null,
       "margin": null,
       "max_height": null,
       "max_width": null,
       "min_height": null,
       "min_width": null,
       "object_fit": null,
       "object_position": null,
       "order": null,
       "overflow": null,
       "padding": null,
       "right": null,
       "top": null,
       "visibility": null,
       "width": null
      }
     },
     "812681a0d7cd4ef1afb79267bbbe1152": {
      "model_module": "@jupyter-widgets/base",
      "model_module_version": "2.0.0",
      "model_name": "LayoutModel",
      "state": {
       "_model_module": "@jupyter-widgets/base",
       "_model_module_version": "2.0.0",
       "_model_name": "LayoutModel",
       "_view_count": null,
       "_view_module": "@jupyter-widgets/base",
       "_view_module_version": "2.0.0",
       "_view_name": "LayoutView",
       "align_content": null,
       "align_items": null,
       "align_self": null,
       "border_bottom": null,
       "border_left": null,
       "border_right": null,
       "border_top": null,
       "bottom": null,
       "display": null,
       "flex": null,
       "flex_flow": null,
       "grid_area": null,
       "grid_auto_columns": null,
       "grid_auto_flow": null,
       "grid_auto_rows": null,
       "grid_column": null,
       "grid_gap": null,
       "grid_row": null,
       "grid_template_areas": null,
       "grid_template_columns": null,
       "grid_template_rows": null,
       "height": null,
       "justify_content": null,
       "justify_items": null,
       "left": null,
       "margin": null,
       "max_height": null,
       "max_width": null,
       "min_height": null,
       "min_width": null,
       "object_fit": null,
       "object_position": null,
       "order": null,
       "overflow": null,
       "padding": null,
       "right": null,
       "top": null,
       "visibility": null,
       "width": null
      }
     },
     "8396f73cb9cd4d3fa8b24d9803bbfff2": {
      "model_module": "@jupyter-widgets/base",
      "model_module_version": "2.0.0",
      "model_name": "LayoutModel",
      "state": {
       "_model_module": "@jupyter-widgets/base",
       "_model_module_version": "2.0.0",
       "_model_name": "LayoutModel",
       "_view_count": null,
       "_view_module": "@jupyter-widgets/base",
       "_view_module_version": "2.0.0",
       "_view_name": "LayoutView",
       "align_content": null,
       "align_items": null,
       "align_self": null,
       "border_bottom": null,
       "border_left": null,
       "border_right": null,
       "border_top": null,
       "bottom": null,
       "display": null,
       "flex": null,
       "flex_flow": null,
       "grid_area": null,
       "grid_auto_columns": null,
       "grid_auto_flow": null,
       "grid_auto_rows": null,
       "grid_column": null,
       "grid_gap": null,
       "grid_row": null,
       "grid_template_areas": null,
       "grid_template_columns": null,
       "grid_template_rows": null,
       "height": null,
       "justify_content": null,
       "justify_items": null,
       "left": null,
       "margin": null,
       "max_height": null,
       "max_width": null,
       "min_height": null,
       "min_width": null,
       "object_fit": null,
       "object_position": null,
       "order": null,
       "overflow": null,
       "padding": null,
       "right": null,
       "top": null,
       "visibility": null,
       "width": null
      }
     },
     "8718986e0de54bdd8c0a0fac741454d0": {
      "model_module": "@jupyter-widgets/controls",
      "model_module_version": "2.0.0",
      "model_name": "ProgressStyleModel",
      "state": {
       "_model_module": "@jupyter-widgets/controls",
       "_model_module_version": "2.0.0",
       "_model_name": "ProgressStyleModel",
       "_view_count": null,
       "_view_module": "@jupyter-widgets/base",
       "_view_module_version": "2.0.0",
       "_view_name": "StyleView",
       "bar_color": null,
       "description_width": ""
      }
     },
     "937f73e5ca9b4da5b14c9b40580646ef": {
      "model_module": "@jupyter-widgets/controls",
      "model_module_version": "2.0.0",
      "model_name": "ProgressStyleModel",
      "state": {
       "_model_module": "@jupyter-widgets/controls",
       "_model_module_version": "2.0.0",
       "_model_name": "ProgressStyleModel",
       "_view_count": null,
       "_view_module": "@jupyter-widgets/base",
       "_view_module_version": "2.0.0",
       "_view_name": "StyleView",
       "bar_color": null,
       "description_width": ""
      }
     },
     "94c2de12e8504dd7a6b86512b06d512f": {
      "model_module": "@jupyter-widgets/base",
      "model_module_version": "2.0.0",
      "model_name": "LayoutModel",
      "state": {
       "_model_module": "@jupyter-widgets/base",
       "_model_module_version": "2.0.0",
       "_model_name": "LayoutModel",
       "_view_count": null,
       "_view_module": "@jupyter-widgets/base",
       "_view_module_version": "2.0.0",
       "_view_name": "LayoutView",
       "align_content": null,
       "align_items": null,
       "align_self": null,
       "border_bottom": null,
       "border_left": null,
       "border_right": null,
       "border_top": null,
       "bottom": null,
       "display": null,
       "flex": null,
       "flex_flow": null,
       "grid_area": null,
       "grid_auto_columns": null,
       "grid_auto_flow": null,
       "grid_auto_rows": null,
       "grid_column": null,
       "grid_gap": null,
       "grid_row": null,
       "grid_template_areas": null,
       "grid_template_columns": null,
       "grid_template_rows": null,
       "height": null,
       "justify_content": null,
       "justify_items": null,
       "left": null,
       "margin": null,
       "max_height": null,
       "max_width": null,
       "min_height": null,
       "min_width": null,
       "object_fit": null,
       "object_position": null,
       "order": null,
       "overflow": null,
       "padding": null,
       "right": null,
       "top": null,
       "visibility": null,
       "width": null
      }
     },
     "9687fb6e65fa4b9b9c2765ea43a06383": {
      "model_module": "@jupyter-widgets/base",
      "model_module_version": "2.0.0",
      "model_name": "LayoutModel",
      "state": {
       "_model_module": "@jupyter-widgets/base",
       "_model_module_version": "2.0.0",
       "_model_name": "LayoutModel",
       "_view_count": null,
       "_view_module": "@jupyter-widgets/base",
       "_view_module_version": "2.0.0",
       "_view_name": "LayoutView",
       "align_content": null,
       "align_items": null,
       "align_self": null,
       "border_bottom": null,
       "border_left": null,
       "border_right": null,
       "border_top": null,
       "bottom": null,
       "display": null,
       "flex": null,
       "flex_flow": null,
       "grid_area": null,
       "grid_auto_columns": null,
       "grid_auto_flow": null,
       "grid_auto_rows": null,
       "grid_column": null,
       "grid_gap": null,
       "grid_row": null,
       "grid_template_areas": null,
       "grid_template_columns": null,
       "grid_template_rows": null,
       "height": null,
       "justify_content": null,
       "justify_items": null,
       "left": null,
       "margin": null,
       "max_height": null,
       "max_width": null,
       "min_height": null,
       "min_width": null,
       "object_fit": null,
       "object_position": null,
       "order": null,
       "overflow": null,
       "padding": null,
       "right": null,
       "top": null,
       "visibility": null,
       "width": null
      }
     },
     "97effa98bbe1447eafbe3d4c72f42774": {
      "model_module": "@jupyter-widgets/controls",
      "model_module_version": "2.0.0",
      "model_name": "ProgressStyleModel",
      "state": {
       "_model_module": "@jupyter-widgets/controls",
       "_model_module_version": "2.0.0",
       "_model_name": "ProgressStyleModel",
       "_view_count": null,
       "_view_module": "@jupyter-widgets/base",
       "_view_module_version": "2.0.0",
       "_view_name": "StyleView",
       "bar_color": null,
       "description_width": ""
      }
     },
     "9c88abffa778415a8b9562c805f25990": {
      "model_module": "@jupyter-widgets/base",
      "model_module_version": "2.0.0",
      "model_name": "LayoutModel",
      "state": {
       "_model_module": "@jupyter-widgets/base",
       "_model_module_version": "2.0.0",
       "_model_name": "LayoutModel",
       "_view_count": null,
       "_view_module": "@jupyter-widgets/base",
       "_view_module_version": "2.0.0",
       "_view_name": "LayoutView",
       "align_content": null,
       "align_items": null,
       "align_self": null,
       "border_bottom": null,
       "border_left": null,
       "border_right": null,
       "border_top": null,
       "bottom": null,
       "display": null,
       "flex": null,
       "flex_flow": null,
       "grid_area": null,
       "grid_auto_columns": null,
       "grid_auto_flow": null,
       "grid_auto_rows": null,
       "grid_column": null,
       "grid_gap": null,
       "grid_row": null,
       "grid_template_areas": null,
       "grid_template_columns": null,
       "grid_template_rows": null,
       "height": null,
       "justify_content": null,
       "justify_items": null,
       "left": null,
       "margin": null,
       "max_height": null,
       "max_width": null,
       "min_height": null,
       "min_width": null,
       "object_fit": null,
       "object_position": null,
       "order": null,
       "overflow": null,
       "padding": null,
       "right": null,
       "top": null,
       "visibility": null,
       "width": null
      }
     },
     "a5be3b0664f74ee9b05f280ff5c112ae": {
      "model_module": "@jupyter-widgets/base",
      "model_module_version": "2.0.0",
      "model_name": "LayoutModel",
      "state": {
       "_model_module": "@jupyter-widgets/base",
       "_model_module_version": "2.0.0",
       "_model_name": "LayoutModel",
       "_view_count": null,
       "_view_module": "@jupyter-widgets/base",
       "_view_module_version": "2.0.0",
       "_view_name": "LayoutView",
       "align_content": null,
       "align_items": null,
       "align_self": null,
       "border_bottom": null,
       "border_left": null,
       "border_right": null,
       "border_top": null,
       "bottom": null,
       "display": null,
       "flex": null,
       "flex_flow": null,
       "grid_area": null,
       "grid_auto_columns": null,
       "grid_auto_flow": null,
       "grid_auto_rows": null,
       "grid_column": null,
       "grid_gap": null,
       "grid_row": null,
       "grid_template_areas": null,
       "grid_template_columns": null,
       "grid_template_rows": null,
       "height": null,
       "justify_content": null,
       "justify_items": null,
       "left": null,
       "margin": null,
       "max_height": null,
       "max_width": null,
       "min_height": null,
       "min_width": null,
       "object_fit": null,
       "object_position": null,
       "order": null,
       "overflow": null,
       "padding": null,
       "right": null,
       "top": null,
       "visibility": null,
       "width": null
      }
     },
     "aaefdecd8320463e9b3d8f5ab90733f8": {
      "model_module": "@jupyter-widgets/base",
      "model_module_version": "2.0.0",
      "model_name": "LayoutModel",
      "state": {
       "_model_module": "@jupyter-widgets/base",
       "_model_module_version": "2.0.0",
       "_model_name": "LayoutModel",
       "_view_count": null,
       "_view_module": "@jupyter-widgets/base",
       "_view_module_version": "2.0.0",
       "_view_name": "LayoutView",
       "align_content": null,
       "align_items": null,
       "align_self": null,
       "border_bottom": null,
       "border_left": null,
       "border_right": null,
       "border_top": null,
       "bottom": null,
       "display": null,
       "flex": null,
       "flex_flow": null,
       "grid_area": null,
       "grid_auto_columns": null,
       "grid_auto_flow": null,
       "grid_auto_rows": null,
       "grid_column": null,
       "grid_gap": null,
       "grid_row": null,
       "grid_template_areas": null,
       "grid_template_columns": null,
       "grid_template_rows": null,
       "height": null,
       "justify_content": null,
       "justify_items": null,
       "left": null,
       "margin": null,
       "max_height": null,
       "max_width": null,
       "min_height": null,
       "min_width": null,
       "object_fit": null,
       "object_position": null,
       "order": null,
       "overflow": null,
       "padding": null,
       "right": null,
       "top": null,
       "visibility": null,
       "width": null
      }
     },
     "b6a1549010a34883b42251a9a9cf0ba3": {
      "model_module": "@jupyter-widgets/controls",
      "model_module_version": "2.0.0",
      "model_name": "HTMLModel",
      "state": {
       "_dom_classes": [],
       "_model_module": "@jupyter-widgets/controls",
       "_model_module_version": "2.0.0",
       "_model_name": "HTMLModel",
       "_view_count": null,
       "_view_module": "@jupyter-widgets/controls",
       "_view_module_version": "2.0.0",
       "_view_name": "HTMLView",
       "description": "",
       "description_allow_html": false,
       "layout": "IPY_MODEL_7f20111f6ba441ebb469a3ad2735e319",
       "placeholder": "​",
       "style": "IPY_MODEL_690ec807384541ecb87bf7c547f00174",
       "tabbable": null,
       "tooltip": null,
       "value": " 3/3 [00:00&lt;00:00, 185.29 examples/s]"
      }
     },
     "b9004da777d9438681096efd7cbe28fb": {
      "model_module": "@jupyter-widgets/controls",
      "model_module_version": "2.0.0",
      "model_name": "HBoxModel",
      "state": {
       "_dom_classes": [],
       "_model_module": "@jupyter-widgets/controls",
       "_model_module_version": "2.0.0",
       "_model_name": "HBoxModel",
       "_view_count": null,
       "_view_module": "@jupyter-widgets/controls",
       "_view_module_version": "2.0.0",
       "_view_name": "HBoxView",
       "box_style": "",
       "children": [
        "IPY_MODEL_f63485f58f254083bd3a06793df67921",
        "IPY_MODEL_666fca8a18524049852270abacf00675",
        "IPY_MODEL_b6a1549010a34883b42251a9a9cf0ba3"
       ],
       "layout": "IPY_MODEL_cdfa11c0b16a4026a3f9a8c7ad723821",
       "tabbable": null,
       "tooltip": null
      }
     },
     "bf547bf0a28c4fdd9d3bb52cc3aed4be": {
      "model_module": "@jupyter-widgets/controls",
      "model_module_version": "2.0.0",
      "model_name": "HBoxModel",
      "state": {
       "_dom_classes": [],
       "_model_module": "@jupyter-widgets/controls",
       "_model_module_version": "2.0.0",
       "_model_name": "HBoxModel",
       "_view_count": null,
       "_view_module": "@jupyter-widgets/controls",
       "_view_module_version": "2.0.0",
       "_view_name": "HBoxView",
       "box_style": "",
       "children": [
        "IPY_MODEL_e4941883394b43f6a08f3360e1320255",
        "IPY_MODEL_0722d714c103481c8a5363f1baf04aae",
        "IPY_MODEL_494489d5be2644a1a1feb463119402a8"
       ],
       "layout": "IPY_MODEL_fb4c3938e3244febb114e751ce1920d5",
       "tabbable": null,
       "tooltip": null
      }
     },
     "c0126ea0425e42dc8e36197ac23b7707": {
      "model_module": "@jupyter-widgets/base",
      "model_module_version": "2.0.0",
      "model_name": "LayoutModel",
      "state": {
       "_model_module": "@jupyter-widgets/base",
       "_model_module_version": "2.0.0",
       "_model_name": "LayoutModel",
       "_view_count": null,
       "_view_module": "@jupyter-widgets/base",
       "_view_module_version": "2.0.0",
       "_view_name": "LayoutView",
       "align_content": null,
       "align_items": null,
       "align_self": null,
       "border_bottom": null,
       "border_left": null,
       "border_right": null,
       "border_top": null,
       "bottom": null,
       "display": null,
       "flex": null,
       "flex_flow": null,
       "grid_area": null,
       "grid_auto_columns": null,
       "grid_auto_flow": null,
       "grid_auto_rows": null,
       "grid_column": null,
       "grid_gap": null,
       "grid_row": null,
       "grid_template_areas": null,
       "grid_template_columns": null,
       "grid_template_rows": null,
       "height": null,
       "justify_content": null,
       "justify_items": null,
       "left": null,
       "margin": null,
       "max_height": null,
       "max_width": null,
       "min_height": null,
       "min_width": null,
       "object_fit": null,
       "object_position": null,
       "order": null,
       "overflow": null,
       "padding": null,
       "right": null,
       "top": null,
       "visibility": null,
       "width": null
      }
     },
     "cb22df6802ee46218317847087eb6c35": {
      "model_module": "@jupyter-widgets/base",
      "model_module_version": "2.0.0",
      "model_name": "LayoutModel",
      "state": {
       "_model_module": "@jupyter-widgets/base",
       "_model_module_version": "2.0.0",
       "_model_name": "LayoutModel",
       "_view_count": null,
       "_view_module": "@jupyter-widgets/base",
       "_view_module_version": "2.0.0",
       "_view_name": "LayoutView",
       "align_content": null,
       "align_items": null,
       "align_self": null,
       "border_bottom": null,
       "border_left": null,
       "border_right": null,
       "border_top": null,
       "bottom": null,
       "display": null,
       "flex": null,
       "flex_flow": null,
       "grid_area": null,
       "grid_auto_columns": null,
       "grid_auto_flow": null,
       "grid_auto_rows": null,
       "grid_column": null,
       "grid_gap": null,
       "grid_row": null,
       "grid_template_areas": null,
       "grid_template_columns": null,
       "grid_template_rows": null,
       "height": null,
       "justify_content": null,
       "justify_items": null,
       "left": null,
       "margin": null,
       "max_height": null,
       "max_width": null,
       "min_height": null,
       "min_width": null,
       "object_fit": null,
       "object_position": null,
       "order": null,
       "overflow": null,
       "padding": null,
       "right": null,
       "top": null,
       "visibility": null,
       "width": null
      }
     },
     "cdfa11c0b16a4026a3f9a8c7ad723821": {
      "model_module": "@jupyter-widgets/base",
      "model_module_version": "2.0.0",
      "model_name": "LayoutModel",
      "state": {
       "_model_module": "@jupyter-widgets/base",
       "_model_module_version": "2.0.0",
       "_model_name": "LayoutModel",
       "_view_count": null,
       "_view_module": "@jupyter-widgets/base",
       "_view_module_version": "2.0.0",
       "_view_name": "LayoutView",
       "align_content": null,
       "align_items": null,
       "align_self": null,
       "border_bottom": null,
       "border_left": null,
       "border_right": null,
       "border_top": null,
       "bottom": null,
       "display": null,
       "flex": null,
       "flex_flow": null,
       "grid_area": null,
       "grid_auto_columns": null,
       "grid_auto_flow": null,
       "grid_auto_rows": null,
       "grid_column": null,
       "grid_gap": null,
       "grid_row": null,
       "grid_template_areas": null,
       "grid_template_columns": null,
       "grid_template_rows": null,
       "height": null,
       "justify_content": null,
       "justify_items": null,
       "left": null,
       "margin": null,
       "max_height": null,
       "max_width": null,
       "min_height": null,
       "min_width": null,
       "object_fit": null,
       "object_position": null,
       "order": null,
       "overflow": null,
       "padding": null,
       "right": null,
       "top": null,
       "visibility": null,
       "width": null
      }
     },
     "d66c199a307942da9c76cf3a75a75689": {
      "model_module": "@jupyter-widgets/controls",
      "model_module_version": "2.0.0",
      "model_name": "FloatProgressModel",
      "state": {
       "_dom_classes": [],
       "_model_module": "@jupyter-widgets/controls",
       "_model_module_version": "2.0.0",
       "_model_name": "FloatProgressModel",
       "_view_count": null,
       "_view_module": "@jupyter-widgets/controls",
       "_view_module_version": "2.0.0",
       "_view_name": "ProgressView",
       "bar_style": "success",
       "description": "",
       "description_allow_html": false,
       "layout": "IPY_MODEL_61ef5857c4044b70a128cb88c1df5c1e",
       "max": 3.0,
       "min": 0.0,
       "orientation": "horizontal",
       "style": "IPY_MODEL_8718986e0de54bdd8c0a0fac741454d0",
       "tabbable": null,
       "tooltip": null,
       "value": 3.0
      }
     },
     "dacfbf1e2d54453c9bcc856e1a29060b": {
      "model_module": "@jupyter-widgets/controls",
      "model_module_version": "2.0.0",
      "model_name": "HTMLStyleModel",
      "state": {
       "_model_module": "@jupyter-widgets/controls",
       "_model_module_version": "2.0.0",
       "_model_name": "HTMLStyleModel",
       "_view_count": null,
       "_view_module": "@jupyter-widgets/base",
       "_view_module_version": "2.0.0",
       "_view_name": "StyleView",
       "background": null,
       "description_width": "",
       "font_size": null,
       "text_color": null
      }
     },
     "dd7b1b5da0b243b9acdfb7bcb587512d": {
      "model_module": "@jupyter-widgets/controls",
      "model_module_version": "2.0.0",
      "model_name": "HTMLStyleModel",
      "state": {
       "_model_module": "@jupyter-widgets/controls",
       "_model_module_version": "2.0.0",
       "_model_name": "HTMLStyleModel",
       "_view_count": null,
       "_view_module": "@jupyter-widgets/base",
       "_view_module_version": "2.0.0",
       "_view_name": "StyleView",
       "background": null,
       "description_width": "",
       "font_size": null,
       "text_color": null
      }
     },
     "e4941883394b43f6a08f3360e1320255": {
      "model_module": "@jupyter-widgets/controls",
      "model_module_version": "2.0.0",
      "model_name": "HTMLModel",
      "state": {
       "_dom_classes": [],
       "_model_module": "@jupyter-widgets/controls",
       "_model_module_version": "2.0.0",
       "_model_name": "HTMLModel",
       "_view_count": null,
       "_view_module": "@jupyter-widgets/controls",
       "_view_module_version": "2.0.0",
       "_view_name": "HTMLView",
       "description": "",
       "description_allow_html": false,
       "layout": "IPY_MODEL_42fe6d2c1f494a3c9fd3ca9db09414dc",
       "placeholder": "​",
       "style": "IPY_MODEL_dacfbf1e2d54453c9bcc856e1a29060b",
       "tabbable": null,
       "tooltip": null,
       "value": "Loading checkpoint shards: 100%"
      }
     },
     "f253d12b6e614c239571b4ea01e37072": {
      "model_module": "@jupyter-widgets/controls",
      "model_module_version": "2.0.0",
      "model_name": "HTMLModel",
      "state": {
       "_dom_classes": [],
       "_model_module": "@jupyter-widgets/controls",
       "_model_module_version": "2.0.0",
       "_model_name": "HTMLModel",
       "_view_count": null,
       "_view_module": "@jupyter-widgets/controls",
       "_view_module_version": "2.0.0",
       "_view_name": "HTMLView",
       "description": "",
       "description_allow_html": false,
       "layout": "IPY_MODEL_812681a0d7cd4ef1afb79267bbbe1152",
       "placeholder": "​",
       "style": "IPY_MODEL_185298ee52834ba2883d5c22ad2a23a3",
       "tabbable": null,
       "tooltip": null,
       "value": " 3/3 [00:00&lt;00:00, 92.79 examples/s]"
      }
     },
     "f446765605f64796a7df87b1b6738ee1": {
      "model_module": "@jupyter-widgets/controls",
      "model_module_version": "2.0.0",
      "model_name": "HBoxModel",
      "state": {
       "_dom_classes": [],
       "_model_module": "@jupyter-widgets/controls",
       "_model_module_version": "2.0.0",
       "_model_name": "HBoxModel",
       "_view_count": null,
       "_view_module": "@jupyter-widgets/controls",
       "_view_module_version": "2.0.0",
       "_view_name": "HBoxView",
       "box_style": "",
       "children": [
        "IPY_MODEL_f8d0dfcd585a47fd9deddae12bc45921",
        "IPY_MODEL_d66c199a307942da9c76cf3a75a75689",
        "IPY_MODEL_f253d12b6e614c239571b4ea01e37072"
       ],
       "layout": "IPY_MODEL_f561d816bdcf4756b411ad02981e71e4",
       "tabbable": null,
       "tooltip": null
      }
     },
     "f561d816bdcf4756b411ad02981e71e4": {
      "model_module": "@jupyter-widgets/base",
      "model_module_version": "2.0.0",
      "model_name": "LayoutModel",
      "state": {
       "_model_module": "@jupyter-widgets/base",
       "_model_module_version": "2.0.0",
       "_model_name": "LayoutModel",
       "_view_count": null,
       "_view_module": "@jupyter-widgets/base",
       "_view_module_version": "2.0.0",
       "_view_name": "LayoutView",
       "align_content": null,
       "align_items": null,
       "align_self": null,
       "border_bottom": null,
       "border_left": null,
       "border_right": null,
       "border_top": null,
       "bottom": null,
       "display": null,
       "flex": null,
       "flex_flow": null,
       "grid_area": null,
       "grid_auto_columns": null,
       "grid_auto_flow": null,
       "grid_auto_rows": null,
       "grid_column": null,
       "grid_gap": null,
       "grid_row": null,
       "grid_template_areas": null,
       "grid_template_columns": null,
       "grid_template_rows": null,
       "height": null,
       "justify_content": null,
       "justify_items": null,
       "left": null,
       "margin": null,
       "max_height": null,
       "max_width": null,
       "min_height": null,
       "min_width": null,
       "object_fit": null,
       "object_position": null,
       "order": null,
       "overflow": null,
       "padding": null,
       "right": null,
       "top": null,
       "visibility": null,
       "width": null
      }
     },
     "f63485f58f254083bd3a06793df67921": {
      "model_module": "@jupyter-widgets/controls",
      "model_module_version": "2.0.0",
      "model_name": "HTMLModel",
      "state": {
       "_dom_classes": [],
       "_model_module": "@jupyter-widgets/controls",
       "_model_module_version": "2.0.0",
       "_model_name": "HTMLModel",
       "_view_count": null,
       "_view_module": "@jupyter-widgets/controls",
       "_view_module_version": "2.0.0",
       "_view_name": "HTMLView",
       "description": "",
       "description_allow_html": false,
       "layout": "IPY_MODEL_9687fb6e65fa4b9b9c2765ea43a06383",
       "placeholder": "​",
       "style": "IPY_MODEL_1c7fc156d9134728a366fdc2dff98f0b",
       "tabbable": null,
       "tooltip": null,
       "value": "Map: 100%"
      }
     },
     "f8d0dfcd585a47fd9deddae12bc45921": {
      "model_module": "@jupyter-widgets/controls",
      "model_module_version": "2.0.0",
      "model_name": "HTMLModel",
      "state": {
       "_dom_classes": [],
       "_model_module": "@jupyter-widgets/controls",
       "_model_module_version": "2.0.0",
       "_model_name": "HTMLModel",
       "_view_count": null,
       "_view_module": "@jupyter-widgets/controls",
       "_view_module_version": "2.0.0",
       "_view_name": "HTMLView",
       "description": "",
       "description_allow_html": false,
       "layout": "IPY_MODEL_8396f73cb9cd4d3fa8b24d9803bbfff2",
       "placeholder": "​",
       "style": "IPY_MODEL_7dc2793537934721b89ce386ee916549",
       "tabbable": null,
       "tooltip": null,
       "value": "Map: 100%"
      }
     },
     "fb4c3938e3244febb114e751ce1920d5": {
      "model_module": "@jupyter-widgets/base",
      "model_module_version": "2.0.0",
      "model_name": "LayoutModel",
      "state": {
       "_model_module": "@jupyter-widgets/base",
       "_model_module_version": "2.0.0",
       "_model_name": "LayoutModel",
       "_view_count": null,
       "_view_module": "@jupyter-widgets/base",
       "_view_module_version": "2.0.0",
       "_view_name": "LayoutView",
       "align_content": null,
       "align_items": null,
       "align_self": null,
       "border_bottom": null,
       "border_left": null,
       "border_right": null,
       "border_top": null,
       "bottom": null,
       "display": null,
       "flex": null,
       "flex_flow": null,
       "grid_area": null,
       "grid_auto_columns": null,
       "grid_auto_flow": null,
       "grid_auto_rows": null,
       "grid_column": null,
       "grid_gap": null,
       "grid_row": null,
       "grid_template_areas": null,
       "grid_template_columns": null,
       "grid_template_rows": null,
       "height": null,
       "justify_content": null,
       "justify_items": null,
       "left": null,
       "margin": null,
       "max_height": null,
       "max_width": null,
       "min_height": null,
       "min_width": null,
       "object_fit": null,
       "object_position": null,
       "order": null,
       "overflow": null,
       "padding": null,
       "right": null,
       "top": null,
       "visibility": null,
       "width": null
      }
     }
    },
    "version_major": 2,
    "version_minor": 0
   }
  }
 },
 "nbformat": 4,
 "nbformat_minor": 5
}
