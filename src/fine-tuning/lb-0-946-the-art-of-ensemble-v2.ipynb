{
 "cells": [
  {
   "cell_type": "markdown",
   "id": "cfe6e5a7",
   "metadata": {
    "papermill": {
     "duration": 0.01369,
     "end_time": "2025-08-25T02:17:39.914019",
     "exception": false,
     "start_time": "2025-08-25T02:17:39.900329",
     "status": "completed"
    },
    "tags": []
   },
   "source": [
    "# 1. MODEL GEMMA2"
   ]
  },
  {
   "cell_type": "code",
   "execution_count": 1,
   "id": "876f97ec",
   "metadata": {
    "execution": {
     "iopub.execute_input": "2025-08-25T02:17:39.940487Z",
     "iopub.status.busy": "2025-08-25T02:17:39.940184Z",
     "iopub.status.idle": "2025-08-25T02:17:39.946851Z",
     "shell.execute_reply": "2025-08-25T02:17:39.946170Z"
    },
    "papermill": {
     "duration": 0.020352,
     "end_time": "2025-08-25T02:17:39.947969",
     "exception": false,
     "start_time": "2025-08-25T02:17:39.927617",
     "status": "completed"
    },
    "tags": []
   },
   "outputs": [],
   "source": [
    "import os\n",
    "os.environ[\"CUDA_VISIBLE_DEVICES\"] = \"0,1\"\n",
    "\n",
    "VER=1\n",
    "#model_name = \"google/gemma-2-9b-it\"\n",
    "model_name = \"/kaggle/input/gemma2-9b-it-cv945\"\n",
    "EPOCHS = 2\n",
    "\n",
    "DIR = f\"ver_{VER}\"\n",
    "os.makedirs(DIR, exist_ok=True)"
   ]
  },
  {
   "cell_type": "code",
   "execution_count": 2,
   "id": "3c29772f",
   "metadata": {
    "execution": {
     "iopub.execute_input": "2025-08-25T02:17:39.972406Z",
     "iopub.status.busy": "2025-08-25T02:17:39.972190Z",
     "iopub.status.idle": "2025-08-25T02:17:43.994584Z",
     "shell.execute_reply": "2025-08-25T02:17:43.993812Z"
    },
    "papermill": {
     "duration": 4.035895,
     "end_time": "2025-08-25T02:17:43.995707",
     "exception": false,
     "start_time": "2025-08-25T02:17:39.959812",
     "status": "completed"
    },
    "tags": []
   },
   "outputs": [
    {
     "name": "stdout",
     "output_type": "stream",
     "text": [
      "Train shape: (36696, 9) with 65 target classes\n"
     ]
    },
    {
     "data": {
      "text/html": [
       "<div>\n",
       "<style scoped>\n",
       "    .dataframe tbody tr th:only-of-type {\n",
       "        vertical-align: middle;\n",
       "    }\n",
       "\n",
       "    .dataframe tbody tr th {\n",
       "        vertical-align: top;\n",
       "    }\n",
       "\n",
       "    .dataframe thead th {\n",
       "        text-align: right;\n",
       "    }\n",
       "</style>\n",
       "<table border=\"1\" class=\"dataframe\">\n",
       "  <thead>\n",
       "    <tr style=\"text-align: right;\">\n",
       "      <th></th>\n",
       "      <th>row_id</th>\n",
       "      <th>QuestionId</th>\n",
       "      <th>QuestionText</th>\n",
       "      <th>MC_Answer</th>\n",
       "      <th>StudentExplanation</th>\n",
       "      <th>Category</th>\n",
       "      <th>Misconception</th>\n",
       "      <th>target</th>\n",
       "      <th>label</th>\n",
       "    </tr>\n",
       "  </thead>\n",
       "  <tbody>\n",
       "    <tr>\n",
       "      <th>0</th>\n",
       "      <td>0</td>\n",
       "      <td>31772</td>\n",
       "      <td>What fraction of the shape is not shaded? Give...</td>\n",
       "      <td>\\( \\frac{1}{3} \\)</td>\n",
       "      <td>0ne third is equal to tree nineth</td>\n",
       "      <td>True_Correct</td>\n",
       "      <td>NA</td>\n",
       "      <td>True_Correct:NA</td>\n",
       "      <td>37</td>\n",
       "    </tr>\n",
       "    <tr>\n",
       "      <th>1</th>\n",
       "      <td>1</td>\n",
       "      <td>31772</td>\n",
       "      <td>What fraction of the shape is not shaded? Give...</td>\n",
       "      <td>\\( \\frac{1}{3} \\)</td>\n",
       "      <td>1 / 3 because 6 over 9 is 2 thirds and 1 third...</td>\n",
       "      <td>True_Correct</td>\n",
       "      <td>NA</td>\n",
       "      <td>True_Correct:NA</td>\n",
       "      <td>37</td>\n",
       "    </tr>\n",
       "    <tr>\n",
       "      <th>2</th>\n",
       "      <td>2</td>\n",
       "      <td>31772</td>\n",
       "      <td>What fraction of the shape is not shaded? Give...</td>\n",
       "      <td>\\( \\frac{1}{3} \\)</td>\n",
       "      <td>1 3rd is half of 3 6th, so it is simplee to un...</td>\n",
       "      <td>True_Neither</td>\n",
       "      <td>NA</td>\n",
       "      <td>True_Neither:NA</td>\n",
       "      <td>64</td>\n",
       "    </tr>\n",
       "    <tr>\n",
       "      <th>3</th>\n",
       "      <td>3</td>\n",
       "      <td>31772</td>\n",
       "      <td>What fraction of the shape is not shaded? Give...</td>\n",
       "      <td>\\( \\frac{1}{3} \\)</td>\n",
       "      <td>1 goes into everything and 3 goes into nine</td>\n",
       "      <td>True_Neither</td>\n",
       "      <td>NA</td>\n",
       "      <td>True_Neither:NA</td>\n",
       "      <td>64</td>\n",
       "    </tr>\n",
       "    <tr>\n",
       "      <th>4</th>\n",
       "      <td>4</td>\n",
       "      <td>31772</td>\n",
       "      <td>What fraction of the shape is not shaded? Give...</td>\n",
       "      <td>\\( \\frac{1}{3} \\)</td>\n",
       "      <td>1 out of every 3 isn't coloured</td>\n",
       "      <td>True_Correct</td>\n",
       "      <td>NA</td>\n",
       "      <td>True_Correct:NA</td>\n",
       "      <td>37</td>\n",
       "    </tr>\n",
       "  </tbody>\n",
       "</table>\n",
       "</div>"
      ],
      "text/plain": [
       "   row_id  QuestionId                                       QuestionText  \\\n",
       "0       0       31772  What fraction of the shape is not shaded? Give...   \n",
       "1       1       31772  What fraction of the shape is not shaded? Give...   \n",
       "2       2       31772  What fraction of the shape is not shaded? Give...   \n",
       "3       3       31772  What fraction of the shape is not shaded? Give...   \n",
       "4       4       31772  What fraction of the shape is not shaded? Give...   \n",
       "\n",
       "           MC_Answer                                 StudentExplanation  \\\n",
       "0  \\( \\frac{1}{3} \\)                  0ne third is equal to tree nineth   \n",
       "1  \\( \\frac{1}{3} \\)  1 / 3 because 6 over 9 is 2 thirds and 1 third...   \n",
       "2  \\( \\frac{1}{3} \\)  1 3rd is half of 3 6th, so it is simplee to un...   \n",
       "3  \\( \\frac{1}{3} \\)        1 goes into everything and 3 goes into nine   \n",
       "4  \\( \\frac{1}{3} \\)                    1 out of every 3 isn't coloured   \n",
       "\n",
       "       Category Misconception           target  label  \n",
       "0  True_Correct            NA  True_Correct:NA     37  \n",
       "1  True_Correct            NA  True_Correct:NA     37  \n",
       "2  True_Neither            NA  True_Neither:NA     64  \n",
       "3  True_Neither            NA  True_Neither:NA     64  \n",
       "4  True_Correct            NA  True_Correct:NA     37  "
      ]
     },
     "execution_count": 2,
     "metadata": {},
     "output_type": "execute_result"
    }
   ],
   "source": [
    "import pandas as pd, numpy as np\n",
    "from sklearn.preprocessing import LabelEncoder\n",
    "\n",
    "le = LabelEncoder()\n",
    "train = pd.read_csv('/kaggle/input/map-charting-student-math-misunderstandings/train.csv')\n",
    "train.Misconception = train.Misconception.fillna('NA')\n",
    "train['target'] = train.Category+\":\"+train.Misconception\n",
    "train['label'] = le.fit_transform(train['target'])\n",
    "target_classes = le.classes_\n",
    "n_classes = len(target_classes)\n",
    "print(f\"Train shape: {train.shape} with {n_classes} target classes\")\n",
    "train.head()"
   ]
  },
  {
   "cell_type": "code",
   "execution_count": 3,
   "id": "3732141e",
   "metadata": {
    "execution": {
     "iopub.execute_input": "2025-08-25T02:17:44.020900Z",
     "iopub.status.busy": "2025-08-25T02:17:44.020691Z",
     "iopub.status.idle": "2025-08-25T02:17:44.336174Z",
     "shell.execute_reply": "2025-08-25T02:17:44.335559Z"
    },
    "papermill": {
     "duration": 0.329458,
     "end_time": "2025-08-25T02:17:44.337551",
     "exception": false,
     "start_time": "2025-08-25T02:17:44.008093",
     "status": "completed"
    },
    "tags": []
   },
   "outputs": [],
   "source": [
    "idx = train.apply(lambda row: row.Category.split('_')[0],axis=1)=='True'\n",
    "correct = train.loc[idx].copy()\n",
    "correct['c'] = correct.groupby(['QuestionId','MC_Answer']).MC_Answer.transform('count')\n",
    "correct = correct.sort_values('c',ascending=False)\n",
    "correct = correct.drop_duplicates(['QuestionId'])\n",
    "correct = correct[['QuestionId','MC_Answer']]\n",
    "correct['is_correct'] = 1\n",
    "\n",
    "train = train.merge(correct, on=['QuestionId','MC_Answer'], how='left')\n",
    "train.is_correct = train.is_correct.fillna(0)"
   ]
  },
  {
   "cell_type": "code",
   "execution_count": 4,
   "id": "94844a63",
   "metadata": {
    "_kg_hide-output": true,
    "execution": {
     "iopub.execute_input": "2025-08-25T02:17:44.363056Z",
     "iopub.status.busy": "2025-08-25T02:17:44.362831Z",
     "iopub.status.idle": "2025-08-25T02:17:44.441990Z",
     "shell.execute_reply": "2025-08-25T02:17:44.441359Z"
    },
    "papermill": {
     "duration": 0.092949,
     "end_time": "2025-08-25T02:17:44.443125",
     "exception": false,
     "start_time": "2025-08-25T02:17:44.350176",
     "status": "completed"
    },
    "tags": []
   },
   "outputs": [
    {
     "name": "stdout",
     "output_type": "stream",
     "text": [
      "\n"
     ]
    },
    {
     "data": {
      "text/latex": [
       "QuestionId 31772: What fraction of the shape is not shaded? Give your answer in its simplest form. [Image: A triangle split into 9 equal smaller triangles. 6 of them are shaded.]"
      ],
      "text/plain": [
       "<IPython.core.display.Latex object>"
      ]
     },
     "metadata": {},
     "output_type": "display_data"
    },
    {
     "data": {
      "text/latex": [
       "MC Answers: (A) \\( \\frac{1}{3} \\) (B) \\( \\frac{3}{9} \\) (C) \\( \\frac{3}{6} \\) (D) \\( \\frac{3}{8} \\)"
      ],
      "text/plain": [
       "<IPython.core.display.Latex object>"
      ]
     },
     "metadata": {},
     "output_type": "display_data"
    },
    {
     "name": "stdout",
     "output_type": "stream",
     "text": [
      "\n"
     ]
    },
    {
     "data": {
      "text/latex": [
       "QuestionId 31774: Calculate \\( \\frac{1}{2} \\div 6 \\)"
      ],
      "text/plain": [
       "<IPython.core.display.Latex object>"
      ]
     },
     "metadata": {},
     "output_type": "display_data"
    },
    {
     "data": {
      "text/latex": [
       "MC Answers: (A) \\( \\frac{1}{12} \\) (B) \\( 3 \\) (C) \\( \\frac{6}{2} \\) (D) \\( \\frac{1}{3} \\)"
      ],
      "text/plain": [
       "<IPython.core.display.Latex object>"
      ]
     },
     "metadata": {},
     "output_type": "display_data"
    },
    {
     "name": "stdout",
     "output_type": "stream",
     "text": [
      "\n"
     ]
    },
    {
     "data": {
      "text/latex": [
       "QuestionId 31777: A box contains \\( 120 \\) counters. The counters are red or blue. \\( \\frac{3}{5} \\) of the counters are red.\n",
       "How many red counters are there?"
      ],
      "text/plain": [
       "<IPython.core.display.Latex object>"
      ]
     },
     "metadata": {},
     "output_type": "display_data"
    },
    {
     "data": {
      "text/latex": [
       "MC Answers: (A) \\( 72 \\) (B) \\( 48 \\) (C) \\( 60 \\) (D) \\( 24 \\)"
      ],
      "text/plain": [
       "<IPython.core.display.Latex object>"
      ]
     },
     "metadata": {},
     "output_type": "display_data"
    },
    {
     "name": "stdout",
     "output_type": "stream",
     "text": [
      "\n"
     ]
    },
    {
     "data": {
      "text/latex": [
       "QuestionId 31778: \\( \\frac{A}{10}=\\frac{9}{15} \\) What is the value of \\( A \\) ?"
      ],
      "text/plain": [
       "<IPython.core.display.Latex object>"
      ]
     },
     "metadata": {},
     "output_type": "display_data"
    },
    {
     "data": {
      "text/latex": [
       "MC Answers: (A) \\( 6 \\) (B) \\( 4 \\) (C) \\( 3 \\) (D) \\( 9 \\)"
      ],
      "text/plain": [
       "<IPython.core.display.Latex object>"
      ]
     },
     "metadata": {},
     "output_type": "display_data"
    },
    {
     "name": "stdout",
     "output_type": "stream",
     "text": [
      "\n"
     ]
    },
    {
     "data": {
      "text/latex": [
       "QuestionId 32829: \\( 2 y=24 \\) What is the value of \\( y \\) ?"
      ],
      "text/plain": [
       "<IPython.core.display.Latex object>"
      ]
     },
     "metadata": {},
     "output_type": "display_data"
    },
    {
     "data": {
      "text/latex": [
       "MC Answers: (A) \\( 12 \\) (B) \\( 4 \\) (C) \\( 22 \\) (D) \\( 48 \\)"
      ],
      "text/plain": [
       "<IPython.core.display.Latex object>"
      ]
     },
     "metadata": {},
     "output_type": "display_data"
    },
    {
     "name": "stdout",
     "output_type": "stream",
     "text": [
      "\n"
     ]
    },
    {
     "data": {
      "text/latex": [
       "QuestionId 32833: Calculate \\( \\frac{2}{3} \\times 5 \\)"
      ],
      "text/plain": [
       "<IPython.core.display.Latex object>"
      ]
     },
     "metadata": {},
     "output_type": "display_data"
    },
    {
     "data": {
      "text/latex": [
       "MC Answers: (A) \\( 3 \\frac{1}{3} \\) (B) \\( \\frac{10}{15} \\) (C) \\( \\frac{2}{15} \\) (D) \\( 5 \\frac{2}{3} \\)"
      ],
      "text/plain": [
       "<IPython.core.display.Latex object>"
      ]
     },
     "metadata": {},
     "output_type": "display_data"
    },
    {
     "name": "stdout",
     "output_type": "stream",
     "text": [
      "\n"
     ]
    },
    {
     "data": {
      "text/latex": [
       "QuestionId 32835: Which number is the greatest?"
      ],
      "text/plain": [
       "<IPython.core.display.Latex object>"
      ]
     },
     "metadata": {},
     "output_type": "display_data"
    },
    {
     "data": {
      "text/latex": [
       "MC Answers: (A) \\( 6.2 \\) (B) \\( 6 \\) (C) \\( 6.079 \\) (D) \\( 6.0001 \\)"
      ],
      "text/plain": [
       "<IPython.core.display.Latex object>"
      ]
     },
     "metadata": {},
     "output_type": "display_data"
    },
    {
     "name": "stdout",
     "output_type": "stream",
     "text": [
      "\n"
     ]
    },
    {
     "data": {
      "text/latex": [
       "QuestionId 33471: A bag contains \\( 24 \\) yellow and green balls. \\( \\frac{3}{8} \\) of the balls are yellow. How many of the balls are green?"
      ],
      "text/plain": [
       "<IPython.core.display.Latex object>"
      ]
     },
     "metadata": {},
     "output_type": "display_data"
    },
    {
     "data": {
      "text/latex": [
       "MC Answers: (A) \\( 15 \\) (B) \\( 9 \\) (C) \\( 8 \\) (D) \\( 3 \\)"
      ],
      "text/plain": [
       "<IPython.core.display.Latex object>"
      ]
     },
     "metadata": {},
     "output_type": "display_data"
    },
    {
     "name": "stdout",
     "output_type": "stream",
     "text": [
      "\n"
     ]
    },
    {
     "data": {
      "text/latex": [
       "QuestionId 33472: \\( \\frac{1}{3}+\\frac{2}{5}= \\)"
      ],
      "text/plain": [
       "<IPython.core.display.Latex object>"
      ]
     },
     "metadata": {},
     "output_type": "display_data"
    },
    {
     "data": {
      "text/latex": [
       "MC Answers: (A) \\( \\frac{11}{15} \\) (B) \\( \\frac{3}{15} \\) (C) \\( \\frac{3}{8} \\) (D) \\( \\frac{11}{30} \\)"
      ],
      "text/plain": [
       "<IPython.core.display.Latex object>"
      ]
     },
     "metadata": {},
     "output_type": "display_data"
    },
    {
     "name": "stdout",
     "output_type": "stream",
     "text": [
      "\n"
     ]
    },
    {
     "data": {
      "text/latex": [
       "QuestionId 33474: Sally has \\( \\frac{2}{3} \\) of a whole cake in the fridge. Robert eats \\( \\frac{1}{3} \\) of this piece. What fraction of the whole cake has Robert eaten?\n",
       "Choose the number sentence that would solve the word problem."
      ],
      "text/plain": [
       "<IPython.core.display.Latex object>"
      ]
     },
     "metadata": {},
     "output_type": "display_data"
    },
    {
     "data": {
      "text/latex": [
       "MC Answers: (A) \\( \\frac{2}{3}-\\frac{1}{3} \\) (B) \\( \\frac{1}{3} \\times \\frac{2}{3} \\) (C) \\( \\frac{2}{3} \\div \\frac{1}{3} \\) (D) \\( \\frac{1}{3}+\\frac{2}{3} \\)"
      ],
      "text/plain": [
       "<IPython.core.display.Latex object>"
      ]
     },
     "metadata": {},
     "output_type": "display_data"
    },
    {
     "name": "stdout",
     "output_type": "stream",
     "text": [
      "\n"
     ]
    },
    {
     "data": {
      "text/latex": [
       "QuestionId 76870: This is part of a regular polygon. How many sides does it have? [Image: A diagram showing an obtuse angle labelled 144 degrees]"
      ],
      "text/plain": [
       "<IPython.core.display.Latex object>"
      ]
     },
     "metadata": {},
     "output_type": "display_data"
    },
    {
     "data": {
      "text/latex": [
       "MC Answers: (A) \\( 10 \\) (B) Not enough information (C) \\( 5 \\) (D) \\( 6 \\)"
      ],
      "text/plain": [
       "<IPython.core.display.Latex object>"
      ]
     },
     "metadata": {},
     "output_type": "display_data"
    },
    {
     "name": "stdout",
     "output_type": "stream",
     "text": [
      "\n"
     ]
    },
    {
     "data": {
      "text/latex": [
       "QuestionId 89443: What number belongs in the box?\n",
       "\\(\n",
       "(-8)-(-5)=\n",
       "\\square\\)"
      ],
      "text/plain": [
       "<IPython.core.display.Latex object>"
      ]
     },
     "metadata": {},
     "output_type": "display_data"
    },
    {
     "data": {
      "text/latex": [
       "MC Answers: (A) \\( -3 \\) (B) \\( -13 \\) (C) \\( 3 \\) (D) \\( 13 \\)"
      ],
      "text/plain": [
       "<IPython.core.display.Latex object>"
      ]
     },
     "metadata": {},
     "output_type": "display_data"
    },
    {
     "name": "stdout",
     "output_type": "stream",
     "text": [
      "\n"
     ]
    },
    {
     "data": {
      "text/latex": [
       "QuestionId 91695: Dots have been arranged in these patterns: [Image: Pattern 1 consists of 6 dots, Pattern 2 consists of 10 dots, Pattern 3 consists of 14 dots and Pattern 4 consists of 18 dots] How many dots would there be in Pattern \\( 6 \\) ?"
      ],
      "text/plain": [
       "<IPython.core.display.Latex object>"
      ]
     },
     "metadata": {},
     "output_type": "display_data"
    },
    {
     "data": {
      "text/latex": [
       "MC Answers: (A) \\( 26 \\) (B) \\( 22 \\) (C) \\( 36 \\) (D) \\( 20 \\)"
      ],
      "text/plain": [
       "<IPython.core.display.Latex object>"
      ]
     },
     "metadata": {},
     "output_type": "display_data"
    },
    {
     "name": "stdout",
     "output_type": "stream",
     "text": [
      "\n"
     ]
    },
    {
     "data": {
      "text/latex": [
       "QuestionId 104665: It takes \\( 3 \\) people a total of \\( 192 \\) hours to build a wall.\n",
       "\n",
       "How long would it take if \\( 12 \\) people built the same wall?"
      ],
      "text/plain": [
       "<IPython.core.display.Latex object>"
      ]
     },
     "metadata": {},
     "output_type": "display_data"
    },
    {
     "data": {
      "text/latex": [
       "MC Answers: (A) \\( 48 \\) hours (B) \\( 768 \\) hours (C) \\( 64 \\) hours (D) \\( 192 \\) hours"
      ],
      "text/plain": [
       "<IPython.core.display.Latex object>"
      ]
     },
     "metadata": {},
     "output_type": "display_data"
    },
    {
     "name": "stdout",
     "output_type": "stream",
     "text": [
      "\n"
     ]
    },
    {
     "data": {
      "text/latex": [
       "QuestionId 109465: The probability of an event occurring is \\( 0.9 \\).\n",
       "\n",
       "Which of the following most accurately describes the likelihood of the event occurring?"
      ],
      "text/plain": [
       "<IPython.core.display.Latex object>"
      ]
     },
     "metadata": {},
     "output_type": "display_data"
    },
    {
     "data": {
      "text/latex": [
       "MC Answers: (A) Likely (B) Unlikely (C) Certain (D) Impossible"
      ],
      "text/plain": [
       "<IPython.core.display.Latex object>"
      ]
     },
     "metadata": {},
     "output_type": "display_data"
    }
   ],
   "source": [
    "from IPython.display import display, Math, Latex\n",
    "\n",
    "# GET ANSWER CHOICES\n",
    "tmp = train.groupby(['QuestionId','MC_Answer']).size().reset_index(name='count')\n",
    "tmp['rank'] = tmp.groupby('QuestionId')['count'].rank(method='dense', ascending=False).astype(int) - 1\n",
    "tmp = tmp.drop('count',axis=1)\n",
    "tmp = tmp.sort_values(['QuestionId','rank'])\n",
    "\n",
    "# DISPLAY QUESTION AND ANSWER CHOICES\n",
    "Q = tmp.QuestionId.unique()\n",
    "for q in Q:\n",
    "    question = train.loc[train.QuestionId==q].iloc[0].QuestionText\n",
    "    choices = tmp.loc[tmp.QuestionId==q].MC_Answer.values\n",
    "    labels=\"ABCD\"\n",
    "    choice_str = \" \".join([f\"({labels[i]}) {choice}\" for i, choice in enumerate(choices)])\n",
    "    \n",
    "    print()\n",
    "    display(Latex(f\"QuestionId {q}: {question}\") )\n",
    "    display(Latex(f\"MC Answers: {choice_str}\"))"
   ]
  },
  {
   "cell_type": "code",
   "execution_count": 5,
   "id": "3478ab38",
   "metadata": {
    "execution": {
     "iopub.execute_input": "2025-08-25T02:17:44.474168Z",
     "iopub.status.busy": "2025-08-25T02:17:44.473915Z",
     "iopub.status.idle": "2025-08-25T02:17:57.414466Z",
     "shell.execute_reply": "2025-08-25T02:17:57.413784Z"
    },
    "papermill": {
     "duration": 12.956927,
     "end_time": "2025-08-25T02:17:57.415853",
     "exception": false,
     "start_time": "2025-08-25T02:17:44.458926",
     "status": "completed"
    },
    "tags": []
   },
   "outputs": [],
   "source": [
    "import torch\n",
    "from transformers import AutoTokenizer\n",
    "from sklearn.model_selection import train_test_split\n",
    "from datasets import Dataset\n",
    "import numpy as np\n",
    "\n",
    "tokenizer = AutoTokenizer.from_pretrained(model_name)\n",
    "MAX_LEN = 256"
   ]
  },
  {
   "cell_type": "code",
   "execution_count": 6,
   "id": "ac640247",
   "metadata": {
    "execution": {
     "iopub.execute_input": "2025-08-25T02:17:57.446322Z",
     "iopub.status.busy": "2025-08-25T02:17:57.445787Z",
     "iopub.status.idle": "2025-08-25T02:17:57.798389Z",
     "shell.execute_reply": "2025-08-25T02:17:57.797515Z"
    },
    "papermill": {
     "duration": 0.368763,
     "end_time": "2025-08-25T02:17:57.799664",
     "exception": false,
     "start_time": "2025-08-25T02:17:57.430901",
     "status": "completed"
    },
    "tags": []
   },
   "outputs": [
    {
     "name": "stdout",
     "output_type": "stream",
     "text": [
      "Example prompt for our LLM:\n",
      "\n",
      "Question: What fraction of the shape is not shaded? Give your answer in its simplest form. [Image: A triangle split into 9 equal smaller triangles. 6 of them are shaded.]\n",
      "Answer: \\( \\frac{1}{3} \\)\n",
      "Correct? Yes\n",
      "Student Explanation: 0ne third is equal to tree nineth\n"
     ]
    }
   ],
   "source": [
    "def format_input(row):\n",
    "    x = \"Yes\"\n",
    "    if not row['is_correct']:\n",
    "        x = \"No\"\n",
    "    return (\n",
    "        f\"Question: {row['QuestionText']}\\n\"\n",
    "        f\"Answer: {row['MC_Answer']}\\n\"\n",
    "        f\"Correct? {x}\\n\"\n",
    "        f\"Student Explanation: {row['StudentExplanation']}\"\n",
    "    )\n",
    "\n",
    "train['text'] = train.apply(format_input,axis=1)\n",
    "print(\"Example prompt for our LLM:\")\n",
    "print()\n",
    "print( train.text.values[0] )"
   ]
  },
  {
   "cell_type": "code",
   "execution_count": 7,
   "id": "489528f0",
   "metadata": {
    "_kg_hide-output": true,
    "execution": {
     "iopub.execute_input": "2025-08-25T02:17:57.829965Z",
     "iopub.status.busy": "2025-08-25T02:17:57.829746Z",
     "iopub.status.idle": "2025-08-25T02:18:03.698587Z",
     "shell.execute_reply": "2025-08-25T02:18:03.697824Z"
    },
    "papermill": {
     "duration": 5.885107,
     "end_time": "2025-08-25T02:18:03.699698",
     "exception": false,
     "start_time": "2025-08-25T02:17:57.814591",
     "status": "completed"
    },
    "tags": []
   },
   "outputs": [
    {
     "data": {
      "image/png": "[encoded data removed]",
      "text/plain": [
       "<Figure size 640x480 with 1 Axes>"
      ]
     },
     "metadata": {},
     "output_type": "display_data"
    }
   ],
   "source": [
    "lengths = [len(tokenizer.encode(t, truncation=False)) for t in train[\"text\"]]\n",
    "import matplotlib.pyplot as plt\n",
    "\n",
    "plt.hist(lengths, bins=50)\n",
    "plt.title(\"Token Length Distribution\")\n",
    "plt.xlabel(\"Number of tokens\")\n",
    "plt.ylabel(\"Frequency\")\n",
    "plt.grid(True)\n",
    "plt.show()"
   ]
  },
  {
   "cell_type": "code",
   "execution_count": 8,
   "id": "8cc479a8",
   "metadata": {
    "execution": {
     "iopub.execute_input": "2025-08-25T02:18:03.776401Z",
     "iopub.status.busy": "2025-08-25T02:18:03.776104Z",
     "iopub.status.idle": "2025-08-25T02:18:03.785741Z",
     "shell.execute_reply": "2025-08-25T02:18:03.785165Z"
    },
    "papermill": {
     "duration": 0.027116,
     "end_time": "2025-08-25T02:18:03.786746",
     "exception": false,
     "start_time": "2025-08-25T02:18:03.759630",
     "status": "completed"
    },
    "tags": []
   },
   "outputs": [
    {
     "name": "stdout",
     "output_type": "stream",
     "text": [
      "There are 1 train sample(s) with more than 256 tokens\n"
     ]
    },
    {
     "data": {
      "text/plain": [
       "array([ 31,  31,  31, ..., 195, 231, 325])"
      ]
     },
     "execution_count": 8,
     "metadata": {},
     "output_type": "execute_result"
    }
   ],
   "source": [
    "L = (np.array(lengths)>MAX_LEN).sum()\n",
    "print(f\"There are {L} train sample(s) with more than {MAX_LEN} tokens\")\n",
    "np.sort( lengths )"
   ]
  },
  {
   "cell_type": "code",
   "execution_count": 9,
   "id": "7dfc5843",
   "metadata": {
    "execution": {
     "iopub.execute_input": "2025-08-25T02:18:03.817585Z",
     "iopub.status.busy": "2025-08-25T02:18:03.817373Z",
     "iopub.status.idle": "2025-08-25T02:18:03.892028Z",
     "shell.execute_reply": "2025-08-25T02:18:03.891282Z"
    },
    "papermill": {
     "duration": 0.091518,
     "end_time": "2025-08-25T02:18:03.893539",
     "exception": false,
     "start_time": "2025-08-25T02:18:03.802021",
     "status": "completed"
    },
    "tags": []
   },
   "outputs": [],
   "source": [
    "# Split into train and validation sets\n",
    "train_df, val_df = train_test_split(train, test_size=0.2, random_state=42)\n",
    "\n",
    "# Convert to Hugging Face Dataset\n",
    "COLS = ['text','label']\n",
    "train_ds = Dataset.from_pandas(train_df[COLS])\n",
    "val_ds = Dataset.from_pandas(val_df[COLS])"
   ]
  },
  {
   "cell_type": "code",
   "execution_count": 10,
   "id": "284308ca",
   "metadata": {
    "execution": {
     "iopub.execute_input": "2025-08-25T02:18:03.925219Z",
     "iopub.status.busy": "2025-08-25T02:18:03.924958Z",
     "iopub.status.idle": "2025-08-25T02:18:10.157847Z",
     "shell.execute_reply": "2025-08-25T02:18:10.157096Z"
    },
    "papermill": {
     "duration": 6.249962,
     "end_time": "2025-08-25T02:18:10.159005",
     "exception": false,
     "start_time": "2025-08-25T02:18:03.909043",
     "status": "completed"
    },
    "tags": []
   },
   "outputs": [
    {
     "data": {
      "application/vnd.jupyter.widget-view+json": {
       "model_id": "046388e9e1084f908627bdd0f8aa6b6f",
       "version_major": 2,
       "version_minor": 0
      },
      "text/plain": [
       "Map:   0%|          | 0/29356 [00:00<?, ? examples/s]"
      ]
     },
     "metadata": {},
     "output_type": "display_data"
    },
    {
     "data": {
      "application/vnd.jupyter.widget-view+json": {
       "model_id": "0a3421b83d944a6c8961e4443e835b5a",
       "version_major": 2,
       "version_minor": 0
      },
      "text/plain": [
       "Map:   0%|          | 0/7340 [00:00<?, ? examples/s]"
      ]
     },
     "metadata": {},
     "output_type": "display_data"
    }
   ],
   "source": [
    "# Tokenization function\n",
    "def tokenize(batch):\n",
    "    return tokenizer(batch[\"text\"], padding=\"max_length\", truncation=True, max_length=256)\n",
    "\n",
    "train_ds = train_ds.map(tokenize, batched=True)\n",
    "val_ds = val_ds.map(tokenize, batched=True)\n",
    "\n",
    "# Set format for PyTorch\n",
    "columns = ['input_ids', 'attention_mask', 'label']\n",
    "train_ds.set_format(type='torch', columns=columns)\n",
    "val_ds.set_format(type='torch', columns=columns)"
   ]
  },
  {
   "cell_type": "code",
   "execution_count": 11,
   "id": "7b04bf5f",
   "metadata": {
    "execution": {
     "iopub.execute_input": "2025-08-25T02:18:10.191241Z",
     "iopub.status.busy": "2025-08-25T02:18:10.190618Z",
     "iopub.status.idle": "2025-08-25T02:21:00.843967Z",
     "shell.execute_reply": "2025-08-25T02:21:00.843406Z"
    },
    "papermill": {
     "duration": 170.67036,
     "end_time": "2025-08-25T02:21:00.845263",
     "exception": false,
     "start_time": "2025-08-25T02:18:10.174903",
     "status": "completed"
    },
    "tags": []
   },
   "outputs": [
    {
     "name": "stderr",
     "output_type": "stream",
     "text": [
      "2025-08-25 02:18:20.701759: E external/local_xla/xla/stream_executor/cuda/cuda_fft.cc:477] Unable to register cuFFT factory: Attempting to register factory for plugin cuFFT when one has already been registered\n",
      "WARNING: All log messages before absl::InitializeLog() is called are written to STDERR\n",
      "E0000 00:00:1756088301.043112      19 cuda_dnn.cc:8310] Unable to register cuDNN factory: Attempting to register factory for plugin cuDNN when one has already been registered\n",
      "E0000 00:00:1756088301.142640      19 cuda_blas.cc:1418] Unable to register cuBLAS factory: Attempting to register factory for plugin cuBLAS when one has already been registered\n"
     ]
    },
    {
     "data": {
      "application/vnd.jupyter.widget-view+json": {
       "model_id": "2a564564d2774889a1d13f063833e0b4",
       "version_major": 2,
       "version_minor": 0
      },
      "text/plain": [
       "Loading checkpoint shards:   0%|          | 0/4 [00:00<?, ?it/s]"
      ]
     },
     "metadata": {},
     "output_type": "display_data"
    },
    {
     "name": "stderr",
     "output_type": "stream",
     "text": [
      "Some weights of Gemma2ForSequenceClassification were not initialized from the model checkpoint at /kaggle/input/gemma2-9b-it-bf16 and are newly initialized: ['score.weight']\n",
      "You should probably TRAIN this model on a down-stream task to be able to use it for predictions and inference.\n"
     ]
    }
   ],
   "source": [
    "from transformers import AutoModelForSequenceClassification, TrainingArguments, Trainer\n",
    "\n",
    "model = AutoModelForSequenceClassification.from_pretrained(\n",
    "    \"/kaggle/input/gemma2-9b-it-bf16\",\n",
    "    num_labels=n_classes,\n",
    "    torch_dtype=torch.bfloat16,\n",
    "    device_map=\"auto\",\n",
    ")"
   ]
  },
  {
   "cell_type": "code",
   "execution_count": 12,
   "id": "b18c17cd",
   "metadata": {
    "execution": {
     "iopub.execute_input": "2025-08-25T02:21:00.877989Z",
     "iopub.status.busy": "2025-08-25T02:21:00.877423Z",
     "iopub.status.idle": "2025-08-25T02:21:02.481990Z",
     "shell.execute_reply": "2025-08-25T02:21:02.481394Z"
    },
    "papermill": {
     "duration": 1.621772,
     "end_time": "2025-08-25T02:21:02.483290",
     "exception": false,
     "start_time": "2025-08-25T02:21:00.861518",
     "status": "completed"
    },
    "tags": []
   },
   "outputs": [
    {
     "name": "stderr",
     "output_type": "stream",
     "text": [
      "/usr/local/lib/python3.11/dist-packages/peft/config.py:165: UserWarning: Unexpected keyword arguments ['qalora_group_size', 'use_qalora'] for class LoraConfig, these are ignored. This probably means that you're loading a configuration file that was saved using a higher version of the library and additional parameters have been introduced since. It is highly recommended to upgrade the PEFT version before continuing (e.g. by running `pip install -U peft`).\n",
      "  warnings.warn(\n"
     ]
    }
   ],
   "source": [
    "from peft import PeftModel\n",
    "model = PeftModel.from_pretrained(model, model_name)"
   ]
  },
  {
   "cell_type": "code",
   "execution_count": 13,
   "id": "bb708d7a",
   "metadata": {
    "execution": {
     "iopub.execute_input": "2025-08-25T02:21:02.515236Z",
     "iopub.status.busy": "2025-08-25T02:21:02.514992Z",
     "iopub.status.idle": "2025-08-25T02:21:02.546509Z",
     "shell.execute_reply": "2025-08-25T02:21:02.545808Z"
    },
    "papermill": {
     "duration": 0.049132,
     "end_time": "2025-08-25T02:21:02.548175",
     "exception": false,
     "start_time": "2025-08-25T02:21:02.499043",
     "status": "completed"
    },
    "tags": []
   },
   "outputs": [],
   "source": [
    "training_args = TrainingArguments(\n",
    "    output_dir = f\"./{DIR}\",\n",
    "    do_train=True,\n",
    "    do_eval=True,\n",
    "    eval_strategy=\"steps\",\n",
    "    save_strategy=\"steps\", #no for no saving \n",
    "    num_train_epochs=EPOCHS,\n",
    "    per_device_train_batch_size=8,\n",
    "    per_device_eval_batch_size=16,\n",
    "    learning_rate=2e-5,\n",
    "    logging_dir=\"./logs\",\n",
    "    logging_steps=50,\n",
    "    save_steps=200,\n",
    "    eval_steps=200,\n",
    "    save_total_limit=1,\n",
    "    metric_for_best_model=\"map@3\",\n",
    "    greater_is_better=True,\n",
    "    load_best_model_at_end=True,\n",
    "    report_to=\"none\",\n",
    "    bf16=False, # TRAIN WITH BF16 IF LOCAL GPU IS NEWER GPU          \n",
    "    fp16=True, # INFER WITH FP16 BECAUSE KAGGLE IS T4 GPU\n",
    ")"
   ]
  },
  {
   "cell_type": "code",
   "execution_count": 14,
   "id": "8e302abe",
   "metadata": {
    "execution": {
     "iopub.execute_input": "2025-08-25T02:21:02.582726Z",
     "iopub.status.busy": "2025-08-25T02:21:02.582476Z",
     "iopub.status.idle": "2025-08-25T02:21:02.588026Z",
     "shell.execute_reply": "2025-08-25T02:21:02.587321Z"
    },
    "papermill": {
     "duration": 0.02512,
     "end_time": "2025-08-25T02:21:02.589321",
     "exception": false,
     "start_time": "2025-08-25T02:21:02.564201",
     "status": "completed"
    },
    "tags": []
   },
   "outputs": [],
   "source": [
    "# CUSTOM MAP@3 METRIC\n",
    "\n",
    "from sklearn.metrics import average_precision_score\n",
    "\n",
    "def compute_map3(eval_pred):\n",
    "    logits, labels = eval_pred\n",
    "    probs = torch.nn.functional.softmax(torch.tensor(logits), dim=-1).numpy()\n",
    "    \n",
    "    top3 = np.argsort(-probs, axis=1)[:, :3]  # Top 3 predictions\n",
    "    match = (top3 == labels[:, None])\n",
    "\n",
    "    # Compute MAP@3 manually\n",
    "    map3 = 0\n",
    "    for i in range(len(labels)):\n",
    "        if match[i, 0]:\n",
    "            map3 += 1.0\n",
    "        elif match[i, 1]:\n",
    "            map3 += 1.0 / 2\n",
    "        elif match[i, 2]:\n",
    "            map3 += 1.0 / 3\n",
    "    return {\"map@3\": map3 / len(labels)}"
   ]
  },
  {
   "cell_type": "code",
   "execution_count": 15,
   "id": "e7fa9baa",
   "metadata": {
    "execution": {
     "iopub.execute_input": "2025-08-25T02:21:02.623866Z",
     "iopub.status.busy": "2025-08-25T02:21:02.623611Z",
     "iopub.status.idle": "2025-08-25T02:21:02.648255Z",
     "shell.execute_reply": "2025-08-25T02:21:02.647455Z"
    },
    "papermill": {
     "duration": 0.043102,
     "end_time": "2025-08-25T02:21:02.649381",
     "exception": false,
     "start_time": "2025-08-25T02:21:02.606279",
     "status": "completed"
    },
    "tags": []
   },
   "outputs": [
    {
     "name": "stderr",
     "output_type": "stream",
     "text": [
      "/tmp/ipykernel_19/661334471.py:2: FutureWarning: `tokenizer` is deprecated and will be removed in version 5.0.0 for `Trainer.__init__`. Use `processing_class` instead.\n",
      "  trainer = Trainer(\n",
      "No label_names provided for model class `PeftModelForSequenceClassification`. Since `PeftModel` hides base models input arguments, if label_names is not given, label_names can't be set automatically within `Trainer`. Note that empty label_names list will be used instead.\n"
     ]
    }
   ],
   "source": [
    "# Trainer\n",
    "trainer = Trainer(\n",
    "    model=model,\n",
    "    args=training_args,\n",
    "    train_dataset=train_ds,\n",
    "    eval_dataset=val_ds,\n",
    "    tokenizer=tokenizer,\n",
    "    compute_metrics=compute_map3,\n",
    ")\n",
    "\n",
    "#trainer.train()"
   ]
  },
  {
   "cell_type": "code",
   "execution_count": 16,
   "id": "a13f301a",
   "metadata": {
    "execution": {
     "iopub.execute_input": "2025-08-25T02:21:02.684309Z",
     "iopub.status.busy": "2025-08-25T02:21:02.683862Z",
     "iopub.status.idle": "2025-08-25T02:21:02.687153Z",
     "shell.execute_reply": "2025-08-25T02:21:02.686393Z"
    },
    "papermill": {
     "duration": 0.021822,
     "end_time": "2025-08-25T02:21:02.688342",
     "exception": false,
     "start_time": "2025-08-25T02:21:02.666520",
     "status": "completed"
    },
    "tags": []
   },
   "outputs": [],
   "source": [
    "#trainer.save_model(f\"ver_{VER}\")      \n",
    "#tokenizer.save_pretrained(f\"ver_{VER}\")"
   ]
  },
  {
   "cell_type": "code",
   "execution_count": 17,
   "id": "d9b68c6c",
   "metadata": {
    "execution": {
     "iopub.execute_input": "2025-08-25T02:21:02.722717Z",
     "iopub.status.busy": "2025-08-25T02:21:02.722028Z",
     "iopub.status.idle": "2025-08-25T02:21:02.736996Z",
     "shell.execute_reply": "2025-08-25T02:21:02.736233Z"
    },
    "papermill": {
     "duration": 0.033114,
     "end_time": "2025-08-25T02:21:02.738119",
     "exception": false,
     "start_time": "2025-08-25T02:21:02.705005",
     "status": "completed"
    },
    "tags": []
   },
   "outputs": [
    {
     "name": "stdout",
     "output_type": "stream",
     "text": [
      "(3, 5)\n"
     ]
    },
    {
     "data": {
      "text/html": [
       "<div>\n",
       "<style scoped>\n",
       "    .dataframe tbody tr th:only-of-type {\n",
       "        vertical-align: middle;\n",
       "    }\n",
       "\n",
       "    .dataframe tbody tr th {\n",
       "        vertical-align: top;\n",
       "    }\n",
       "\n",
       "    .dataframe thead th {\n",
       "        text-align: right;\n",
       "    }\n",
       "</style>\n",
       "<table border=\"1\" class=\"dataframe\">\n",
       "  <thead>\n",
       "    <tr style=\"text-align: right;\">\n",
       "      <th></th>\n",
       "      <th>row_id</th>\n",
       "      <th>QuestionId</th>\n",
       "      <th>QuestionText</th>\n",
       "      <th>MC_Answer</th>\n",
       "      <th>StudentExplanation</th>\n",
       "    </tr>\n",
       "  </thead>\n",
       "  <tbody>\n",
       "    <tr>\n",
       "      <th>0</th>\n",
       "      <td>36696</td>\n",
       "      <td>31772</td>\n",
       "      <td>What fraction of the shape is not shaded? Give...</td>\n",
       "      <td>\\( \\frac{1}{3} \\)</td>\n",
       "      <td>I think that 1/3 is the answer, as it's the si...</td>\n",
       "    </tr>\n",
       "    <tr>\n",
       "      <th>1</th>\n",
       "      <td>36697</td>\n",
       "      <td>31772</td>\n",
       "      <td>What fraction of the shape is not shaded? Give...</td>\n",
       "      <td>\\( \\frac{3}{6} \\)</td>\n",
       "      <td>i think this answer is because 3 triangles are...</td>\n",
       "    </tr>\n",
       "    <tr>\n",
       "      <th>2</th>\n",
       "      <td>36698</td>\n",
       "      <td>32835</td>\n",
       "      <td>Which number is the greatest?</td>\n",
       "      <td>\\( 6.2 \\)</td>\n",
       "      <td>because the 2 makes it higher than the others.</td>\n",
       "    </tr>\n",
       "  </tbody>\n",
       "</table>\n",
       "</div>"
      ],
      "text/plain": [
       "   row_id  QuestionId                                       QuestionText  \\\n",
       "0   36696       31772  What fraction of the shape is not shaded? Give...   \n",
       "1   36697       31772  What fraction of the shape is not shaded? Give...   \n",
       "2   36698       32835                      Which number is the greatest?   \n",
       "\n",
       "           MC_Answer                                 StudentExplanation  \n",
       "0  \\( \\frac{1}{3} \\)  I think that 1/3 is the answer, as it's the si...  \n",
       "1  \\( \\frac{3}{6} \\)  i think this answer is because 3 triangles are...  \n",
       "2          \\( 6.2 \\)     because the 2 makes it higher than the others.  "
      ]
     },
     "execution_count": 17,
     "metadata": {},
     "output_type": "execute_result"
    }
   ],
   "source": [
    "test = pd.read_csv('/kaggle/input/map-charting-student-math-misunderstandings/test.csv')\n",
    "print( test.shape )\n",
    "test.head()"
   ]
  },
  {
   "cell_type": "code",
   "execution_count": 18,
   "id": "b48c3d90",
   "metadata": {
    "execution": {
     "iopub.execute_input": "2025-08-25T02:21:02.771781Z",
     "iopub.status.busy": "2025-08-25T02:21:02.771408Z",
     "iopub.status.idle": "2025-08-25T02:21:02.785323Z",
     "shell.execute_reply": "2025-08-25T02:21:02.784458Z"
    },
    "papermill": {
     "duration": 0.032001,
     "end_time": "2025-08-25T02:21:02.786492",
     "exception": false,
     "start_time": "2025-08-25T02:21:02.754491",
     "status": "completed"
    },
    "tags": []
   },
   "outputs": [
    {
     "data": {
      "text/html": [
       "<div>\n",
       "<style scoped>\n",
       "    .dataframe tbody tr th:only-of-type {\n",
       "        vertical-align: middle;\n",
       "    }\n",
       "\n",
       "    .dataframe tbody tr th {\n",
       "        vertical-align: top;\n",
       "    }\n",
       "\n",
       "    .dataframe thead th {\n",
       "        text-align: right;\n",
       "    }\n",
       "</style>\n",
       "<table border=\"1\" class=\"dataframe\">\n",
       "  <thead>\n",
       "    <tr style=\"text-align: right;\">\n",
       "      <th></th>\n",
       "      <th>row_id</th>\n",
       "      <th>QuestionId</th>\n",
       "      <th>QuestionText</th>\n",
       "      <th>MC_Answer</th>\n",
       "      <th>StudentExplanation</th>\n",
       "      <th>is_correct</th>\n",
       "      <th>text</th>\n",
       "    </tr>\n",
       "  </thead>\n",
       "  <tbody>\n",
       "    <tr>\n",
       "      <th>0</th>\n",
       "      <td>36696</td>\n",
       "      <td>31772</td>\n",
       "      <td>What fraction of the shape is not shaded? Give...</td>\n",
       "      <td>\\( \\frac{1}{3} \\)</td>\n",
       "      <td>I think that 1/3 is the answer, as it's the si...</td>\n",
       "      <td>1.0</td>\n",
       "      <td>Question: What fraction of the shape is not sh...</td>\n",
       "    </tr>\n",
       "    <tr>\n",
       "      <th>1</th>\n",
       "      <td>36697</td>\n",
       "      <td>31772</td>\n",
       "      <td>What fraction of the shape is not shaded? Give...</td>\n",
       "      <td>\\( \\frac{3}{6} \\)</td>\n",
       "      <td>i think this answer is because 3 triangles are...</td>\n",
       "      <td>0.0</td>\n",
       "      <td>Question: What fraction of the shape is not sh...</td>\n",
       "    </tr>\n",
       "    <tr>\n",
       "      <th>2</th>\n",
       "      <td>36698</td>\n",
       "      <td>32835</td>\n",
       "      <td>Which number is the greatest?</td>\n",
       "      <td>\\( 6.2 \\)</td>\n",
       "      <td>because the 2 makes it higher than the others.</td>\n",
       "      <td>1.0</td>\n",
       "      <td>Question: Which number is the greatest?\\nAnswe...</td>\n",
       "    </tr>\n",
       "  </tbody>\n",
       "</table>\n",
       "</div>"
      ],
      "text/plain": [
       "   row_id  QuestionId                                       QuestionText  \\\n",
       "0   36696       31772  What fraction of the shape is not shaded? Give...   \n",
       "1   36697       31772  What fraction of the shape is not shaded? Give...   \n",
       "2   36698       32835                      Which number is the greatest?   \n",
       "\n",
       "           MC_Answer                                 StudentExplanation  \\\n",
       "0  \\( \\frac{1}{3} \\)  I think that 1/3 is the answer, as it's the si...   \n",
       "1  \\( \\frac{3}{6} \\)  i think this answer is because 3 triangles are...   \n",
       "2          \\( 6.2 \\)     because the 2 makes it higher than the others.   \n",
       "\n",
       "   is_correct                                               text  \n",
       "0         1.0  Question: What fraction of the shape is not sh...  \n",
       "1         0.0  Question: What fraction of the shape is not sh...  \n",
       "2         1.0  Question: Which number is the greatest?\\nAnswe...  "
      ]
     },
     "execution_count": 18,
     "metadata": {},
     "output_type": "execute_result"
    }
   ],
   "source": [
    "test = test.merge(correct, on=['QuestionId','MC_Answer'], how='left')\n",
    "test.is_correct = test.is_correct.fillna(0)\n",
    "\n",
    "test['text'] = test.apply(format_input,axis=1)\n",
    "\n",
    "test.head()"
   ]
  },
  {
   "cell_type": "code",
   "execution_count": 19,
   "id": "611e1249",
   "metadata": {
    "execution": {
     "iopub.execute_input": "2025-08-25T02:21:02.821031Z",
     "iopub.status.busy": "2025-08-25T02:21:02.820505Z",
     "iopub.status.idle": "2025-08-25T02:21:05.522455Z",
     "shell.execute_reply": "2025-08-25T02:21:05.521728Z"
    },
    "papermill": {
     "duration": 2.720297,
     "end_time": "2025-08-25T02:21:05.523686",
     "exception": false,
     "start_time": "2025-08-25T02:21:02.803389",
     "status": "completed"
    },
    "tags": []
   },
   "outputs": [
    {
     "data": {
      "application/vnd.jupyter.widget-view+json": {
       "model_id": "6d1e28ba214847689e7431d6ad414661",
       "version_major": 2,
       "version_minor": 0
      },
      "text/plain": [
       "Map:   0%|          | 0/3 [00:00<?, ? examples/s]"
      ]
     },
     "metadata": {},
     "output_type": "display_data"
    },
    {
     "data": {
      "text/html": [],
      "text/plain": [
       "<IPython.core.display.HTML object>"
      ]
     },
     "metadata": {},
     "output_type": "display_data"
    }
   ],
   "source": [
    "ds_test = Dataset.from_pandas(test[['text']])\n",
    "ds_test = ds_test.map(tokenize, batched=True)\n",
    "\n",
    "predictions = trainer.predict(ds_test)\n",
    "probs = torch.nn.functional.softmax(torch.tensor(predictions.predictions), dim=1).numpy()"
   ]
  },
  {
   "cell_type": "code",
   "execution_count": 20,
   "id": "ca7c64ff",
   "metadata": {
    "execution": {
     "iopub.execute_input": "2025-08-25T02:21:05.563577Z",
     "iopub.status.busy": "2025-08-25T02:21:05.563345Z",
     "iopub.status.idle": "2025-08-25T02:21:05.578223Z",
     "shell.execute_reply": "2025-08-25T02:21:05.577434Z"
    },
    "papermill": {
     "duration": 0.033521,
     "end_time": "2025-08-25T02:21:05.579319",
     "exception": false,
     "start_time": "2025-08-25T02:21:05.545798",
     "status": "completed"
    },
    "tags": []
   },
   "outputs": [
    {
     "data": {
      "text/html": [
       "<div>\n",
       "<style scoped>\n",
       "    .dataframe tbody tr th:only-of-type {\n",
       "        vertical-align: middle;\n",
       "    }\n",
       "\n",
       "    .dataframe tbody tr th {\n",
       "        vertical-align: top;\n",
       "    }\n",
       "\n",
       "    .dataframe thead th {\n",
       "        text-align: right;\n",
       "    }\n",
       "</style>\n",
       "<table border=\"1\" class=\"dataframe\">\n",
       "  <thead>\n",
       "    <tr style=\"text-align: right;\">\n",
       "      <th></th>\n",
       "      <th>row_id</th>\n",
       "      <th>Category:Misconception</th>\n",
       "    </tr>\n",
       "  </thead>\n",
       "  <tbody>\n",
       "    <tr>\n",
       "      <th>0</th>\n",
       "      <td>36696</td>\n",
       "      <td>True_Correct:NA|True_Neither:NA|True_Misconcep...</td>\n",
       "    </tr>\n",
       "    <tr>\n",
       "      <th>1</th>\n",
       "      <td>36697</td>\n",
       "      <td>False_Misconception:WNB|False_Neither:NA|True_...</td>\n",
       "    </tr>\n",
       "    <tr>\n",
       "      <th>2</th>\n",
       "      <td>36698</td>\n",
       "      <td>True_Neither:NA|True_Correct:NA|True_Misconcep...</td>\n",
       "    </tr>\n",
       "  </tbody>\n",
       "</table>\n",
       "</div>"
      ],
      "text/plain": [
       "   row_id                             Category:Misconception\n",
       "0   36696  True_Correct:NA|True_Neither:NA|True_Misconcep...\n",
       "1   36697  False_Misconception:WNB|False_Neither:NA|True_...\n",
       "2   36698  True_Neither:NA|True_Correct:NA|True_Misconcep..."
      ]
     },
     "execution_count": 20,
     "metadata": {},
     "output_type": "execute_result"
    }
   ],
   "source": [
    "# Get top 3 predicted class indices\n",
    "top3 = np.argsort(-probs, axis=1)[:, :]   # shape: [num_samples, 3]\n",
    "\n",
    "# Decode numeric class indices to original string labels\n",
    "flat_top3 = top3.flatten()\n",
    "decoded_labels = le.inverse_transform(flat_top3)\n",
    "top3_labels = decoded_labels.reshape(top3.shape)\n",
    "\n",
    "# Join 3 labels per row with space\n",
    "joined_preds = [\"|\".join(row) for row in top3_labels]\n",
    "\n",
    "# Save submission\n",
    "sub = pd.DataFrame({\n",
    "    \"row_id\": test.row_id.values,\n",
    "    \"Category:Misconception\": joined_preds\n",
    "})\n",
    "sub.to_csv(\"submission_gemma.csv\", index=False)\n",
    "sub.head()"
   ]
  },
  {
   "cell_type": "code",
   "execution_count": 21,
   "id": "c0078e54",
   "metadata": {
    "execution": {
     "iopub.execute_input": "2025-08-25T02:21:05.611786Z",
     "iopub.status.busy": "2025-08-25T02:21:05.611601Z",
     "iopub.status.idle": "2025-08-25T02:21:05.616012Z",
     "shell.execute_reply": "2025-08-25T02:21:05.615356Z"
    },
    "papermill": {
     "duration": 0.021831,
     "end_time": "2025-08-25T02:21:05.617107",
     "exception": false,
     "start_time": "2025-08-25T02:21:05.595276",
     "status": "completed"
    },
    "tags": []
   },
   "outputs": [
    {
     "data": {
      "text/plain": [
       "'True_Correct:NA|True_Neither:NA|True_Misconception:Incomplete|True_Misconception:Wrong_fraction|True_Misconception:Wrong_term|False_Misconception:Incomplete|True_Misconception:Inversion|True_Misconception:Duplication|True_Misconception:Denominator-only_change|False_Correct:NA|True_Misconception:SwapDividend|False_Misconception:Wrong_fraction|True_Misconception:Irrelevant|True_Misconception:Tacking|True_Misconception:Mult|True_Misconception:FlipChange|True_Misconception:Positive|True_Misconception:Multiplying_by_4|True_Misconception:Division|True_Misconception:Definition|True_Misconception:Subtraction|True_Misconception:WNB|True_Misconception:Adding_across|True_Misconception:Not_variable|True_Misconception:Firstterm|True_Misconception:Shorter_is_bigger|True_Misconception:Incorrect_equivalent_fraction_addition|False_Misconception:Division|True_Misconception:Whole_numbers_larger|True_Misconception:Additive|False_Misconception:Incorrect_equivalent_fraction_addition|False_Misconception:Inverse_operation|False_Misconception:Certainty|False_Neither:NA|False_Misconception:Base_rate|False_Misconception:Multiplying_by_4|False_Misconception:WNB|False_Misconception:Adding_terms|False_Misconception:Ignores_zeroes|False_Misconception:Wrong_Operation|True_Misconception:Base_rate|False_Misconception:Wrong_Fraction|False_Misconception:Positive|False_Misconception:FlipChange|False_Misconception:Shorter_is_bigger|False_Misconception:Wrong_term|True_Misconception:Longer_is_bigger|False_Misconception:Not_variable|False_Misconception:Longer_is_bigger|False_Misconception:Denominator-only_change|False_Misconception:Duplication|False_Misconception:Whole_numbers_larger|False_Misconception:Subtraction|False_Misconception:Unknowable|False_Misconception:Irrelevant|False_Misconception:SwapDividend|False_Misconception:Adding_across|False_Misconception:Inversion|False_Misconception:Scale|False_Misconception:Definition|False_Misconception:Firstterm|False_Misconception:Tacking|False_Misconception:Mult|False_Misconception:Interior|False_Misconception:Additive'"
      ]
     },
     "execution_count": 21,
     "metadata": {},
     "output_type": "execute_result"
    }
   ],
   "source": [
    "sub.iloc[0]['Category:Misconception']"
   ]
  },
  {
   "cell_type": "code",
   "execution_count": 22,
   "id": "567c0e0c",
   "metadata": {
    "execution": {
     "iopub.execute_input": "2025-08-25T02:21:05.649563Z",
     "iopub.status.busy": "2025-08-25T02:21:05.649315Z",
     "iopub.status.idle": "2025-08-25T02:21:06.084140Z",
     "shell.execute_reply": "2025-08-25T02:21:06.083297Z"
    },
    "papermill": {
     "duration": 0.452367,
     "end_time": "2025-08-25T02:21:06.085346",
     "exception": false,
     "start_time": "2025-08-25T02:21:05.632979",
     "status": "completed"
    },
    "tags": []
   },
   "outputs": [
    {
     "name": "stdout",
     "output_type": "stream",
     "text": [
      "Memory allocated: 8519680\n",
      "Memory reserved: 9030336512\n"
     ]
    }
   ],
   "source": [
    "import torch\n",
    "import gc\n",
    "\n",
    "del top3_labels, flat_top3, decoded_labels, top3, test, ds_test\n",
    "del training_args, train_ds, val_ds, model, trainer, predictions, probs\n",
    "# Delete any other lingering references\n",
    "for obj in list(globals().keys()):\n",
    "    if isinstance(globals()[obj], torch.nn.Module) or isinstance(globals()[obj], torch.Tensor):\n",
    "        del globals()[obj]\n",
    "\n",
    "# Dọn sạch autograd\n",
    "torch.cuda.empty_cache()\n",
    "gc.collect()\n",
    "\n",
    "# Nếu dùng nhiều GPU, làm thêm bước này để clear hết:\n",
    "torch.cuda.ipc_collect()\n",
    "\n",
    "# In ra kiểm tra\n",
    "print(\"Memory allocated:\", torch.cuda.memory_allocated())\n",
    "print(\"Memory reserved:\", torch.cuda.memory_reserved())"
   ]
  },
  {
   "cell_type": "code",
   "execution_count": 23,
   "id": "bd4ddd4f",
   "metadata": {
    "execution": {
     "iopub.execute_input": "2025-08-25T02:21:06.120591Z",
     "iopub.status.busy": "2025-08-25T02:21:06.119989Z",
     "iopub.status.idle": "2025-08-25T02:21:06.560997Z",
     "shell.execute_reply": "2025-08-25T02:21:06.560232Z"
    },
    "papermill": {
     "duration": 0.459753,
     "end_time": "2025-08-25T02:21:06.562153",
     "exception": false,
     "start_time": "2025-08-25T02:21:06.102400",
     "status": "completed"
    },
    "tags": []
   },
   "outputs": [
    {
     "name": "stdout",
     "output_type": "stream",
     "text": [
      "Memory allocated: 8519680\n",
      "Memory reserved: 12582912\n"
     ]
    }
   ],
   "source": [
    "# Delete any other lingering references\n",
    "for obj in list(globals().keys()):\n",
    "    if isinstance(globals()[obj], torch.nn.Module) or isinstance(globals()[obj], torch.Tensor):\n",
    "        del globals()[obj]\n",
    "\n",
    "# Dọn sạch autograd\n",
    "torch.cuda.empty_cache()\n",
    "gc.collect()\n",
    "\n",
    "# Nếu dùng nhiều GPU, làm thêm bước này để clear hết:\n",
    "torch.cuda.ipc_collect()\n",
    "\n",
    "# In ra kiểm tra\n",
    "print(\"Memory allocated:\", torch.cuda.memory_allocated())\n",
    "print(\"Memory reserved:\", torch.cuda.memory_reserved())"
   ]
  },
  {
   "cell_type": "code",
   "execution_count": 24,
   "id": "dfe2bd8f",
   "metadata": {
    "execution": {
     "iopub.execute_input": "2025-08-25T02:21:06.596230Z",
     "iopub.status.busy": "2025-08-25T02:21:06.595521Z",
     "iopub.status.idle": "2025-08-25T02:21:06.953051Z",
     "shell.execute_reply": "2025-08-25T02:21:06.952374Z"
    },
    "papermill": {
     "duration": 0.375155,
     "end_time": "2025-08-25T02:21:06.954164",
     "exception": false,
     "start_time": "2025-08-25T02:21:06.579009",
     "status": "completed"
    },
    "tags": []
   },
   "outputs": [
    {
     "name": "stdout",
     "output_type": "stream",
     "text": [
      "Memory allocated: 8519680\n",
      "Memory reserved: 12582912\n"
     ]
    }
   ],
   "source": [
    "# Delete any other lingering references\n",
    "for obj in list(globals().keys()):\n",
    "    if isinstance(globals()[obj], torch.nn.Module) or isinstance(globals()[obj], torch.Tensor):\n",
    "        del globals()[obj]\n",
    "\n",
    "# Dọn sạch autograd\n",
    "torch.cuda.empty_cache()\n",
    "gc.collect()\n",
    "\n",
    "# Nếu dùng nhiều GPU, làm thêm bước này để clear hết:\n",
    "torch.cuda.ipc_collect()\n",
    "\n",
    "# In ra kiểm tra\n",
    "print(\"Memory allocated:\", torch.cuda.memory_allocated())\n",
    "print(\"Memory reserved:\", torch.cuda.memory_reserved())"
   ]
  },
  {
   "cell_type": "code",
   "execution_count": 25,
   "id": "6ea26524",
   "metadata": {
    "execution": {
     "iopub.execute_input": "2025-08-25T02:21:06.987991Z",
     "iopub.status.busy": "2025-08-25T02:21:06.987560Z",
     "iopub.status.idle": "2025-08-25T02:21:07.349558Z",
     "shell.execute_reply": "2025-08-25T02:21:07.348706Z"
    },
    "papermill": {
     "duration": 0.380261,
     "end_time": "2025-08-25T02:21:07.351050",
     "exception": false,
     "start_time": "2025-08-25T02:21:06.970789",
     "status": "completed"
    },
    "tags": []
   },
   "outputs": [
    {
     "name": "stdout",
     "output_type": "stream",
     "text": [
      "Memory allocated: 8519680\n",
      "Memory reserved: 12582912\n"
     ]
    }
   ],
   "source": [
    "# Delete any other lingering references\n",
    "for obj in list(globals().keys()):\n",
    "    if isinstance(globals()[obj], torch.nn.Module) or isinstance(globals()[obj], torch.Tensor):\n",
    "        del globals()[obj]\n",
    "\n",
    "# Dọn sạch autograd\n",
    "torch.cuda.empty_cache()\n",
    "gc.collect()\n",
    "\n",
    "# Nếu dùng nhiều GPU, làm thêm bước này để clear hết:\n",
    "torch.cuda.ipc_collect()\n",
    "\n",
    "# In ra kiểm tra\n",
    "print(\"Memory allocated:\", torch.cuda.memory_allocated())\n",
    "print(\"Memory reserved:\", torch.cuda.memory_reserved())"
   ]
  },
  {
   "cell_type": "markdown",
   "id": "7d48351c",
   "metadata": {
    "papermill": {
     "duration": 0.016247,
     "end_time": "2025-08-25T02:21:07.386963",
     "exception": false,
     "start_time": "2025-08-25T02:21:07.370716",
     "status": "completed"
    },
    "tags": []
   },
   "source": [
    "# 2. DEEPSEEK MATH"
   ]
  },
  {
   "cell_type": "code",
   "execution_count": 26,
   "id": "eaf42117",
   "metadata": {
    "execution": {
     "iopub.execute_input": "2025-08-25T02:21:07.421309Z",
     "iopub.status.busy": "2025-08-25T02:21:07.421058Z",
     "iopub.status.idle": "2025-08-25T02:21:07.424168Z",
     "shell.execute_reply": "2025-08-25T02:21:07.423652Z"
    },
    "papermill": {
     "duration": 0.021106,
     "end_time": "2025-08-25T02:21:07.425280",
     "exception": false,
     "start_time": "2025-08-25T02:21:07.404174",
     "status": "completed"
    },
    "tags": []
   },
   "outputs": [],
   "source": [
    "import os\n",
    "import torch\n",
    "os.environ[\"CUDA_VISIBLE_DEVICES\"] = \"0\""
   ]
  },
  {
   "cell_type": "code",
   "execution_count": 27,
   "id": "eb61bf32",
   "metadata": {
    "execution": {
     "iopub.execute_input": "2025-08-25T02:21:07.462069Z",
     "iopub.status.busy": "2025-08-25T02:21:07.461871Z",
     "iopub.status.idle": "2025-08-25T02:21:08.709437Z",
     "shell.execute_reply": "2025-08-25T02:21:08.708629Z"
    },
    "papermill": {
     "duration": 1.265882,
     "end_time": "2025-08-25T02:21:08.710814",
     "exception": false,
     "start_time": "2025-08-25T02:21:07.444932",
     "status": "completed"
    },
    "tags": []
   },
   "outputs": [],
   "source": [
    "import pandas as pd\n",
    "import numpy as np\n",
    "from sklearn.preprocessing import LabelEncoder\n",
    "\n",
    "from transformers import AutoTokenizer, AutoModelForSequenceClassification, TrainingArguments, Trainer, ModernBertForSequenceClassification, DataCollatorWithPadding\n",
    "from sklearn.model_selection import train_test_split\n",
    "from datasets import Dataset\n"
   ]
  },
  {
   "cell_type": "code",
   "execution_count": 28,
   "id": "734e1b38",
   "metadata": {
    "execution": {
     "iopub.execute_input": "2025-08-25T02:21:08.745691Z",
     "iopub.status.busy": "2025-08-25T02:21:08.745080Z",
     "iopub.status.idle": "2025-08-25T02:21:08.860787Z",
     "shell.execute_reply": "2025-08-25T02:21:08.859984Z"
    },
    "papermill": {
     "duration": 0.134279,
     "end_time": "2025-08-25T02:21:08.862121",
     "exception": false,
     "start_time": "2025-08-25T02:21:08.727842",
     "status": "completed"
    },
    "tags": []
   },
   "outputs": [],
   "source": [
    "train               = pd.read_csv('/kaggle/input/map-charting-student-math-misunderstandings/train.csv')\n",
    "test                = pd.read_csv('/kaggle/input/map-charting-student-math-misunderstandings/test.csv')\n"
   ]
  },
  {
   "cell_type": "code",
   "execution_count": 29,
   "id": "69d224e5",
   "metadata": {
    "execution": {
     "iopub.execute_input": "2025-08-25T02:21:08.897074Z",
     "iopub.status.busy": "2025-08-25T02:21:08.896501Z",
     "iopub.status.idle": "2025-08-25T02:21:08.923672Z",
     "shell.execute_reply": "2025-08-25T02:21:08.922918Z"
    },
    "papermill": {
     "duration": 0.045405,
     "end_time": "2025-08-25T02:21:08.924753",
     "exception": false,
     "start_time": "2025-08-25T02:21:08.879348",
     "status": "completed"
    },
    "tags": []
   },
   "outputs": [
    {
     "name": "stdout",
     "output_type": "stream",
     "text": [
      "Train shape: (36696, 9) with 65 target classes\n"
     ]
    }
   ],
   "source": [
    "le                  = LabelEncoder()\n",
    "train.Misconception     = train.Misconception.fillna('NA')\n",
    "train['target']   = train.Category + ':' +train.Misconception\n",
    "train['label']    = le.fit_transform(train['target'])\n",
    "\n",
    "n_classes = len(le.classes_)\n",
    "print(f\"Train shape: {train.shape} with {n_classes} target classes\")"
   ]
  },
  {
   "cell_type": "code",
   "execution_count": 30,
   "id": "706ef4b8",
   "metadata": {
    "execution": {
     "iopub.execute_input": "2025-08-25T02:21:08.958487Z",
     "iopub.status.busy": "2025-08-25T02:21:08.958275Z",
     "iopub.status.idle": "2025-08-25T02:21:09.235362Z",
     "shell.execute_reply": "2025-08-25T02:21:09.234470Z"
    },
    "papermill": {
     "duration": 0.296032,
     "end_time": "2025-08-25T02:21:09.237256",
     "exception": false,
     "start_time": "2025-08-25T02:21:08.941224",
     "status": "completed"
    },
    "tags": []
   },
   "outputs": [],
   "source": [
    "idx = train.apply(lambda row: row.Category.split('_')[0],axis=1)=='True'\n",
    "correct = train.loc[idx].copy()\n",
    "correct['c'] = correct.groupby(['QuestionId','MC_Answer']).MC_Answer.transform('count')\n",
    "correct = correct.sort_values('c',ascending=False)\n",
    "correct = correct.drop_duplicates(['QuestionId'])\n",
    "correct = correct[['QuestionId','MC_Answer']]\n",
    "correct['is_correct'] = 1\n",
    "\n",
    "train = train.merge(correct, on=['QuestionId','MC_Answer'], how='left')\n",
    "train.is_correct = train.is_correct.fillna(0)\n"
   ]
  },
  {
   "cell_type": "code",
   "execution_count": 31,
   "id": "0ecbcfc9",
   "metadata": {
    "execution": {
     "iopub.execute_input": "2025-08-25T02:21:09.280673Z",
     "iopub.status.busy": "2025-08-25T02:21:09.280434Z",
     "iopub.status.idle": "2025-08-25T02:21:09.287218Z",
     "shell.execute_reply": "2025-08-25T02:21:09.286505Z"
    },
    "papermill": {
     "duration": 0.025203,
     "end_time": "2025-08-25T02:21:09.288378",
     "exception": false,
     "start_time": "2025-08-25T02:21:09.263175",
     "status": "completed"
    },
    "tags": []
   },
   "outputs": [],
   "source": [
    "\n",
    "\n",
    "test = test.merge(correct, on=['QuestionId','MC_Answer'], how='left')\n",
    "test.is_correct = test.is_correct.fillna(0)\n",
    "\n"
   ]
  },
  {
   "cell_type": "code",
   "execution_count": 32,
   "id": "43e53602",
   "metadata": {
    "execution": {
     "iopub.execute_input": "2025-08-25T02:21:09.323212Z",
     "iopub.status.busy": "2025-08-25T02:21:09.322661Z",
     "iopub.status.idle": "2025-08-25T02:21:09.328845Z",
     "shell.execute_reply": "2025-08-25T02:21:09.328180Z"
    },
    "papermill": {
     "duration": 0.024478,
     "end_time": "2025-08-25T02:21:09.330207",
     "exception": false,
     "start_time": "2025-08-25T02:21:09.305729",
     "status": "completed"
    },
    "tags": []
   },
   "outputs": [],
   "source": [
    "def format_input(row):\n",
    "    x = \"This answer is correct.\"\n",
    "    if not row['is_correct']:\n",
    "        x = \"This is answer is incorrect.\"\n",
    "    return (\n",
    "        f\"Question: {row['QuestionText']}\\n\"\n",
    "        f\"Answer: {row['MC_Answer']}\\n\"\n",
    "        f\"{x}\\n\"\n",
    "        f\"Student Explanation: {row['StudentExplanation']}\"\n",
    "    )\n",
    "\n",
    "test['text'] = test.apply(format_input,axis=1)"
   ]
  },
  {
   "cell_type": "code",
   "execution_count": 33,
   "id": "ac0daec6",
   "metadata": {
    "execution": {
     "iopub.execute_input": "2025-08-25T02:21:09.372872Z",
     "iopub.status.busy": "2025-08-25T02:21:09.372649Z",
     "iopub.status.idle": "2025-08-25T02:21:09.384480Z",
     "shell.execute_reply": "2025-08-25T02:21:09.383798Z"
    },
    "papermill": {
     "duration": 0.029855,
     "end_time": "2025-08-25T02:21:09.385787",
     "exception": false,
     "start_time": "2025-08-25T02:21:09.355932",
     "status": "completed"
    },
    "tags": []
   },
   "outputs": [],
   "source": [
    "ds_test = Dataset.from_pandas(test)"
   ]
  },
  {
   "cell_type": "code",
   "execution_count": 34,
   "id": "9fb7cb78",
   "metadata": {
    "execution": {
     "iopub.execute_input": "2025-08-25T02:21:09.432686Z",
     "iopub.status.busy": "2025-08-25T02:21:09.432418Z",
     "iopub.status.idle": "2025-08-25T02:22:47.636488Z",
     "shell.execute_reply": "2025-08-25T02:22:47.635929Z"
    },
    "papermill": {
     "duration": 98.222389,
     "end_time": "2025-08-25T02:22:47.637562",
     "exception": false,
     "start_time": "2025-08-25T02:21:09.415173",
     "status": "completed"
    },
    "tags": []
   },
   "outputs": [
    {
     "data": {
      "application/vnd.jupyter.widget-view+json": {
       "model_id": "895df9cb24a4493a89075b37c9374f65",
       "version_major": 2,
       "version_minor": 0
      },
      "text/plain": [
       "Loading checkpoint shards:   0%|          | 0/3 [00:00<?, ?it/s]"
      ]
     },
     "metadata": {},
     "output_type": "display_data"
    }
   ],
   "source": [
    "\n",
    "\n",
    "model = AutoModelForSequenceClassification.from_pretrained(\"/kaggle/input/deekseepmath-7b-map-competition/MAP_EXP_09_FULL\", device_map=\"cuda:0\", torch_dtype=torch.bfloat16)\n",
    "\n"
   ]
  },
  {
   "cell_type": "code",
   "execution_count": 35,
   "id": "5f6550b7",
   "metadata": {
    "execution": {
     "iopub.execute_input": "2025-08-25T02:22:47.671907Z",
     "iopub.status.busy": "2025-08-25T02:22:47.671711Z",
     "iopub.status.idle": "2025-08-25T02:22:48.209306Z",
     "shell.execute_reply": "2025-08-25T02:22:48.208625Z"
    },
    "papermill": {
     "duration": 0.55574,
     "end_time": "2025-08-25T02:22:48.210613",
     "exception": false,
     "start_time": "2025-08-25T02:22:47.654873",
     "status": "completed"
    },
    "tags": []
   },
   "outputs": [
    {
     "data": {
      "application/vnd.jupyter.widget-view+json": {
       "model_id": "b62d7622da544e1a826f79081562be99",
       "version_major": 2,
       "version_minor": 0
      },
      "text/plain": [
       "Map:   0%|          | 0/3 [00:00<?, ? examples/s]"
      ]
     },
     "metadata": {},
     "output_type": "display_data"
    }
   ],
   "source": [
    "\n",
    "\n",
    "tokenizer = AutoTokenizer.from_pretrained(\"/kaggle/input/deekseepmath-7b-map-competition/MAP_EXP_09_FULL\")\n",
    "model.config.pad_token_id = tokenizer.pad_token_id\n",
    "\n",
    "def tokenize(batch):\n",
    "    return tokenizer(batch[\"text\"], padding=\"max_length\", truncation=True, max_length=256)\n",
    "\n",
    "ds_test = ds_test.map(tokenize, batched=True)\n",
    "\n"
   ]
  },
  {
   "cell_type": "code",
   "execution_count": 36,
   "id": "a4845877",
   "metadata": {
    "execution": {
     "iopub.execute_input": "2025-08-25T02:22:48.245774Z",
     "iopub.status.busy": "2025-08-25T02:22:48.245564Z",
     "iopub.status.idle": "2025-08-25T02:22:52.368162Z",
     "shell.execute_reply": "2025-08-25T02:22:52.367365Z"
    },
    "papermill": {
     "duration": 4.140821,
     "end_time": "2025-08-25T02:22:52.369241",
     "exception": false,
     "start_time": "2025-08-25T02:22:48.228420",
     "status": "completed"
    },
    "tags": []
   },
   "outputs": [
    {
     "name": "stderr",
     "output_type": "stream",
     "text": [
      "/tmp/ipykernel_19/1508544383.py:11: FutureWarning: `tokenizer` is deprecated and will be removed in version 5.0.0 for `Trainer.__init__`. Use `processing_class` instead.\n",
      "  trainer = Trainer(\n"
     ]
    },
    {
     "data": {
      "text/html": [],
      "text/plain": [
       "<IPython.core.display.HTML object>"
      ]
     },
     "metadata": {},
     "output_type": "display_data"
    },
    {
     "data": {
      "text/plain": [
       "array([[ 0.5       , -2.203125  , -2.34375   , -2.53125   , -2.03125   ,\n",
       "        -0.82421875, -2.28125   , -1.5546875 , -2.015625  , -0.8203125 ,\n",
       "        -2.046875  , -1.2109375 , -2.890625  , -1.046875  , -1.8671875 ,\n",
       "        -2.21875   , -2.453125  , -1.9453125 , -1.1328125 , -1.3125    ,\n",
       "        -1.109375  , -1.046875  , -1.046875  , -1.25      , -1.5703125 ,\n",
       "        -2.640625  , -1.09375   , -2.890625  , -2.359375  , -1.4296875 ,\n",
       "        -1.234375  , -1.21875   , -1.4609375 , -1.90625   , -1.2421875 ,\n",
       "        -1.40625   , -0.6015625 , 11.1875    , -2.3125    , -0.31054688,\n",
       "        -2.375     , -1.5234375 ,  0.58203125, -0.4375    ,  1.015625  ,\n",
       "        -1.0078125 , -1.34375   ,  2.328125  , -1.75      , -0.22070312,\n",
       "         0.04980469, -2.640625  ,  0.11669922, -0.06787109, -2.1875    ,\n",
       "        -0.890625  ,  0.6796875 , -2.5625    ,  0.78515625, -1.5       ,\n",
       "         0.11914062, -1.953125  ,  0.30078125, -0.01977539,  5.96875   ],\n",
       "       [ 0.9140625 , -1.3671875 , -1.96875   , -0.49023438,  0.12402344,\n",
       "        -0.765625  , -0.05664062, -0.95703125, -1.453125  , -0.72265625,\n",
       "         0.91796875, -0.11376953, -1.46875   ,  4.96875   , -1.1328125 ,\n",
       "        -1.8359375 , -2.671875  , -2.390625  ,  0.15136719, -1.1875    ,\n",
       "         0.89453125, -2.109375  , -1.9609375 , -0.27539062, -0.33398438,\n",
       "        -0.42382812, -0.66796875, -0.09619141, -0.24023438,  0.34960938,\n",
       "        10.0625    ,  0.36328125, -1.21875   , -2.34375   , -0.15722656,\n",
       "        -0.23828125,  5.1875    , -1.453125  , -4.        , -2.34375   ,\n",
       "        -2.84375   , -3.046875  , -2.78125   , -3.203125  , -2.640625  ,\n",
       "        -2.828125  , -2.265625  , -0.4765625 , -2.171875  , -3.1875    ,\n",
       "        -2.234375  , -3.625     , -1.9140625 , -3.5       , -3.890625  ,\n",
       "        -3.53125   , -3.140625  , -3.40625   , -2.703125  , -2.953125  ,\n",
       "         0.24316406, -3.546875  , -2.609375  , -3.546875  , -1.9140625 ],\n",
       "       [-0.625     , -1.8359375 , -0.8046875 , -1.5859375 , -1.46875   ,\n",
       "        -1.3671875 , -1.921875  , -1.6015625 , -1.6015625 , -1.546875  ,\n",
       "        -1.953125  , -1.6015625 , -0.47265625, -2.15625   , -2.4375    ,\n",
       "        -1.984375  , -1.7890625 , -1.625     , -1.6328125 ,  0.8359375 ,\n",
       "        -0.78125   , -1.984375  ,  0.13769531, -2.046875  , -1.0625    ,\n",
       "        -0.22753906, -1.5703125 , -0.765625  , -1.6796875 , -1.421875  ,\n",
       "        -1.53125   , -0.51953125, -2.5625    , -1.8203125 , -1.96875   ,\n",
       "        -0.68359375, -0.05175781,  6.375     , -1.75      ,  0.02648926,\n",
       "        -2.328125  , -0.29492188, -0.08789062, -0.24121094, -0.19140625,\n",
       "         0.9296875 , -0.32421875,  0.32421875, -1.3984375 ,  0.8671875 ,\n",
       "        -0.40234375, -1.125     ,  0.80859375, -0.32226562, -1.3984375 ,\n",
       "         0.12792969,  4.78125   , -1.6328125 ,  0.90625   ,  0.203125  ,\n",
       "         0.04882812, -1.21875   , -0.078125  ,  0.51171875,  8.25      ]],\n",
       "      dtype=float32)"
      ]
     },
     "execution_count": 36,
     "metadata": {},
     "output_type": "execute_result"
    }
   ],
   "source": [
    "\n",
    "\n",
    "test_args = TrainingArguments(\n",
    "    output_dir=\"./\",\n",
    "    do_train=False,\n",
    "    do_predict=True,\n",
    "    per_device_eval_batch_size=16, # Adjust as needed\n",
    "    bf16=False, # TRAIN WITH BF16 IF LOCAL GPU IS NEWER GPU          \n",
    "    fp16=True,\n",
    "    report_to='none'\n",
    ")\n",
    "\n",
    "trainer = Trainer(\n",
    "    model=model,\n",
    "    args=test_args,\n",
    "    tokenizer=tokenizer,\n",
    "    data_collator=DataCollatorWithPadding(tokenizer)\n",
    ")\n",
    "\n",
    "predictions = trainer.predict(ds_test)\n",
    "\n",
    "predictions.predictions\n",
    "\n"
   ]
  },
  {
   "cell_type": "code",
   "execution_count": 37,
   "id": "1bd41f9a",
   "metadata": {
    "execution": {
     "iopub.execute_input": "2025-08-25T02:22:52.403995Z",
     "iopub.status.busy": "2025-08-25T02:22:52.403777Z",
     "iopub.status.idle": "2025-08-25T02:22:52.410100Z",
     "shell.execute_reply": "2025-08-25T02:22:52.409554Z"
    },
    "papermill": {
     "duration": 0.024607,
     "end_time": "2025-08-25T02:22:52.411093",
     "exception": false,
     "start_time": "2025-08-25T02:22:52.386486",
     "status": "completed"
    },
    "tags": []
   },
   "outputs": [
    {
     "data": {
      "text/plain": [
       "array([['True_Correct:NA', 'True_Neither:NA',\n",
       "        'True_Misconception:Incomplete',\n",
       "        'True_Misconception:Duplication',\n",
       "        'True_Misconception:SwapDividend',\n",
       "        'True_Misconception:Shorter_is_bigger',\n",
       "        'True_Misconception:Denominator-only_change', 'False_Correct:NA',\n",
       "        'True_Misconception:Wrong_fraction', 'True_Misconception:WNB',\n",
       "        'True_Misconception:Mult', 'True_Misconception:Irrelevant',\n",
       "        'True_Misconception:Wrong_term',\n",
       "        'True_Misconception:Multiplying_by_4',\n",
       "        'True_Misconception:Inversion', 'True_Misconception:Additive',\n",
       "        'True_Misconception:Division', 'False_Neither:NA',\n",
       "        'False_Misconception:Duplication',\n",
       "        'False_Misconception:Certainty', 'True_Misconception:Positive',\n",
       "        'True_Misconception:Firstterm',\n",
       "        'False_Misconception:Not_variable',\n",
       "        'False_Misconception:Incomplete',\n",
       "        'False_Misconception:Multiplying_by_4',\n",
       "        'False_Misconception:Subtraction', 'False_Misconception:Mult',\n",
       "        'False_Misconception:Irrelevant',\n",
       "        'False_Misconception:FlipChange',\n",
       "        'False_Misconception:Whole_numbers_larger',\n",
       "        'False_Misconception:WNB', 'False_Misconception:Wrong_fraction',\n",
       "        'False_Misconception:Positive',\n",
       "        'False_Misconception:Longer_is_bigger',\n",
       "        'True_Misconception:FlipChange',\n",
       "        'False_Misconception:Wrong_term',\n",
       "        'False_Misconception:Unknowable',\n",
       "        'False_Misconception:Wrong_Fraction',\n",
       "        'True_Misconception:Tacking', 'True_Misconception:Definition',\n",
       "        'False_Misconception:Denominator-only_change',\n",
       "        'False_Misconception:Scale',\n",
       "        'True_Misconception:Incorrect_equivalent_fraction_addition',\n",
       "        'False_Misconception:Incorrect_equivalent_fraction_addition',\n",
       "        'False_Misconception:Wrong_Operation',\n",
       "        'False_Misconception:Inversion',\n",
       "        'True_Misconception:Whole_numbers_larger',\n",
       "        'False_Misconception:Division', 'False_Misconception:Base_rate',\n",
       "        'False_Misconception:Firstterm',\n",
       "        'True_Misconception:Not_variable',\n",
       "        'False_Misconception:Adding_across',\n",
       "        'False_Misconception:Interior', 'False_Misconception:Definition',\n",
       "        'True_Misconception:Adding_across',\n",
       "        'False_Misconception:Adding_terms',\n",
       "        'False_Misconception:Tacking', 'True_Misconception:Base_rate',\n",
       "        'False_Misconception:Inverse_operation',\n",
       "        'False_Misconception:Additive', 'True_Misconception:Subtraction',\n",
       "        'False_Misconception:Shorter_is_bigger',\n",
       "        'True_Misconception:Longer_is_bigger',\n",
       "        'False_Misconception:SwapDividend',\n",
       "        'False_Misconception:Ignores_zeroes'],\n",
       "       ['False_Misconception:WNB', 'False_Neither:NA',\n",
       "        'False_Misconception:Incomplete',\n",
       "        'False_Misconception:Firstterm', 'False_Correct:NA',\n",
       "        'False_Misconception:Mult',\n",
       "        'False_Misconception:Whole_numbers_larger',\n",
       "        'False_Misconception:Unknowable', 'True_Misconception:WNB',\n",
       "        'False_Misconception:Irrelevant',\n",
       "        'False_Misconception:Base_rate',\n",
       "        'False_Misconception:Definition',\n",
       "        'False_Misconception:SwapDividend',\n",
       "        'False_Misconception:FlipChange',\n",
       "        'False_Misconception:Wrong_fraction',\n",
       "        'False_Misconception:Wrong_term', 'False_Misconception:Tacking',\n",
       "        'False_Misconception:Positive', 'False_Misconception:Scale',\n",
       "        'False_Misconception:Shorter_is_bigger',\n",
       "        'True_Misconception:Incomplete', 'False_Misconception:Additive',\n",
       "        'False_Misconception:Subtraction',\n",
       "        'False_Misconception:Duplication',\n",
       "        'False_Misconception:Certainty',\n",
       "        'False_Misconception:Denominator-only_change',\n",
       "        'False_Misconception:Incorrect_equivalent_fraction_addition',\n",
       "        'False_Misconception:Longer_is_bigger',\n",
       "        'False_Misconception:Wrong_Fraction',\n",
       "        'False_Misconception:Adding_across',\n",
       "        'False_Misconception:Division', 'True_Correct:NA',\n",
       "        'False_Misconception:Ignores_zeroes',\n",
       "        'False_Misconception:Interior', 'True_Neither:NA',\n",
       "        'True_Misconception:Mult', 'False_Misconception:Not_variable',\n",
       "        'False_Misconception:Adding_terms',\n",
       "        'False_Misconception:Multiplying_by_4',\n",
       "        'True_Misconception:Incorrect_equivalent_fraction_addition',\n",
       "        'True_Misconception:Irrelevant', 'True_Misconception:FlipChange',\n",
       "        'False_Misconception:Wrong_Operation',\n",
       "        'True_Misconception:Additive', 'False_Misconception:Inversion',\n",
       "        'True_Misconception:Wrong_fraction',\n",
       "        'True_Misconception:Duplication',\n",
       "        'False_Misconception:Inverse_operation',\n",
       "        'True_Misconception:SwapDividend',\n",
       "        'True_Misconception:Denominator-only_change',\n",
       "        'True_Misconception:Firstterm', 'True_Misconception:Base_rate',\n",
       "        'True_Misconception:Tacking', 'True_Misconception:Definition',\n",
       "        'True_Misconception:Shorter_is_bigger',\n",
       "        'True_Misconception:Inversion', 'True_Misconception:Division',\n",
       "        'True_Misconception:Subtraction',\n",
       "        'True_Misconception:Multiplying_by_4',\n",
       "        'True_Misconception:Positive',\n",
       "        'True_Misconception:Whole_numbers_larger',\n",
       "        'True_Misconception:Wrong_term',\n",
       "        'True_Misconception:Longer_is_bigger',\n",
       "        'True_Misconception:Not_variable',\n",
       "        'True_Misconception:Adding_across'],\n",
       "       ['True_Neither:NA', 'True_Correct:NA',\n",
       "        'True_Misconception:Shorter_is_bigger',\n",
       "        'True_Misconception:Firstterm',\n",
       "        'True_Misconception:SwapDividend',\n",
       "        'True_Misconception:Inversion',\n",
       "        'False_Misconception:Longer_is_bigger',\n",
       "        'True_Misconception:Mult', 'True_Misconception:Wrong_term',\n",
       "        'True_Misconception:Incomplete', 'True_Misconception:Tacking',\n",
       "        'False_Misconception:Not_variable',\n",
       "        'True_Misconception:Positive', 'True_Misconception:WNB',\n",
       "        'True_Misconception:Additive', 'False_Neither:NA',\n",
       "        'True_Misconception:Wrong_fraction',\n",
       "        'True_Misconception:Denominator-only_change',\n",
       "        'True_Misconception:Duplication',\n",
       "        'False_Misconception:Shorter_is_bigger',\n",
       "        'True_Misconception:Division', 'True_Misconception:Definition',\n",
       "        'True_Misconception:Multiplying_by_4',\n",
       "        'True_Misconception:FlipChange', 'True_Misconception:Irrelevant',\n",
       "        'False_Misconception:Ignores_zeroes',\n",
       "        'False_Misconception:Whole_numbers_larger', 'False_Correct:NA',\n",
       "        'False_Misconception:Wrong_term',\n",
       "        'False_Misconception:SwapDividend', 'False_Misconception:Mult',\n",
       "        'False_Misconception:Adding_terms', 'False_Misconception:Scale',\n",
       "        'True_Misconception:Longer_is_bigger',\n",
       "        'True_Misconception:Whole_numbers_larger',\n",
       "        'False_Misconception:Certainty',\n",
       "        'True_Misconception:Not_variable',\n",
       "        'True_Misconception:Incorrect_equivalent_fraction_addition',\n",
       "        'False_Misconception:Unknowable',\n",
       "        'False_Misconception:Base_rate', 'False_Misconception:WNB',\n",
       "        'False_Misconception:Duplication',\n",
       "        'False_Misconception:Subtraction',\n",
       "        'False_Misconception:Additive',\n",
       "        'False_Misconception:Denominator-only_change',\n",
       "        'False_Misconception:Division', 'False_Misconception:FlipChange',\n",
       "        'False_Misconception:Inversion',\n",
       "        'False_Misconception:Irrelevant',\n",
       "        'True_Misconception:Subtraction', 'False_Misconception:Tacking',\n",
       "        'True_Misconception:Adding_across',\n",
       "        'False_Misconception:Inverse_operation',\n",
       "        'False_Misconception:Wrong_Operation',\n",
       "        'False_Misconception:Adding_across',\n",
       "        'False_Misconception:Definition',\n",
       "        'False_Misconception:Firstterm',\n",
       "        'False_Misconception:Wrong_fraction',\n",
       "        'False_Misconception:Multiplying_by_4',\n",
       "        'False_Misconception:Interior', 'False_Misconception:Positive',\n",
       "        'False_Misconception:Incomplete', 'True_Misconception:Base_rate',\n",
       "        'False_Misconception:Incorrect_equivalent_fraction_addition',\n",
       "        'False_Misconception:Wrong_Fraction']], dtype=object)"
      ]
     },
     "execution_count": 37,
     "metadata": {},
     "output_type": "execute_result"
    }
   ],
   "source": [
    "\n",
    "\n",
    "top3           = np.argsort(-predictions.predictions, axis=1)[:, :]\n",
    "flat_top3      = top3.flatten()\n",
    "decoded_labels = le.inverse_transform(flat_top3)\n",
    "top3_labels_cat    = decoded_labels.reshape(top3.shape)\n",
    "top3_labels_cat\n",
    "\n"
   ]
  },
  {
   "cell_type": "code",
   "execution_count": 38,
   "id": "e9ea1f1e",
   "metadata": {
    "execution": {
     "iopub.execute_input": "2025-08-25T02:22:52.446374Z",
     "iopub.status.busy": "2025-08-25T02:22:52.446173Z",
     "iopub.status.idle": "2025-08-25T02:22:52.454748Z",
     "shell.execute_reply": "2025-08-25T02:22:52.454186Z"
    },
    "papermill": {
     "duration": 0.026744,
     "end_time": "2025-08-25T02:22:52.455696",
     "exception": false,
     "start_time": "2025-08-25T02:22:52.428952",
     "status": "completed"
    },
    "tags": []
   },
   "outputs": [
    {
     "data": {
      "text/html": [
       "<div>\n",
       "<style scoped>\n",
       "    .dataframe tbody tr th:only-of-type {\n",
       "        vertical-align: middle;\n",
       "    }\n",
       "\n",
       "    .dataframe tbody tr th {\n",
       "        vertical-align: top;\n",
       "    }\n",
       "\n",
       "    .dataframe thead th {\n",
       "        text-align: right;\n",
       "    }\n",
       "</style>\n",
       "<table border=\"1\" class=\"dataframe\">\n",
       "  <thead>\n",
       "    <tr style=\"text-align: right;\">\n",
       "      <th></th>\n",
       "      <th>row_id</th>\n",
       "      <th>Category:Misconception</th>\n",
       "    </tr>\n",
       "  </thead>\n",
       "  <tbody>\n",
       "    <tr>\n",
       "      <th>0</th>\n",
       "      <td>36696</td>\n",
       "      <td>True_Correct:NA|True_Neither:NA|True_Misconcep...</td>\n",
       "    </tr>\n",
       "    <tr>\n",
       "      <th>1</th>\n",
       "      <td>36697</td>\n",
       "      <td>False_Misconception:WNB|False_Neither:NA|False...</td>\n",
       "    </tr>\n",
       "    <tr>\n",
       "      <th>2</th>\n",
       "      <td>36698</td>\n",
       "      <td>True_Neither:NA|True_Correct:NA|True_Misconcep...</td>\n",
       "    </tr>\n",
       "  </tbody>\n",
       "</table>\n",
       "</div>"
      ],
      "text/plain": [
       "   row_id                             Category:Misconception\n",
       "0   36696  True_Correct:NA|True_Neither:NA|True_Misconcep...\n",
       "1   36697  False_Misconception:WNB|False_Neither:NA|False...\n",
       "2   36698  True_Neither:NA|True_Correct:NA|True_Misconcep..."
      ]
     },
     "execution_count": 38,
     "metadata": {},
     "output_type": "execute_result"
    }
   ],
   "source": [
    "\n",
    "\n",
    "joined_preds = []\n",
    "\n",
    "for preds in top3_labels_cat:\n",
    "    joined_preds.append(\"|\".join(preds))\n",
    "\n",
    "\n",
    "\n",
    "# Save submission\n",
    "sub = pd.DataFrame({\n",
    "    \"row_id\": test.row_id.values,\n",
    "    \"Category:Misconception\": joined_preds\n",
    "})\n",
    "sub.to_csv(\"submission_deepseek.csv\", index=False)\n",
    "sub.head()\n",
    "\n"
   ]
  },
  {
   "cell_type": "code",
   "execution_count": 39,
   "id": "3bc1af81",
   "metadata": {
    "execution": {
     "iopub.execute_input": "2025-08-25T02:22:52.489807Z",
     "iopub.status.busy": "2025-08-25T02:22:52.489611Z",
     "iopub.status.idle": "2025-08-25T02:22:52.493634Z",
     "shell.execute_reply": "2025-08-25T02:22:52.493089Z"
    },
    "papermill": {
     "duration": 0.02223,
     "end_time": "2025-08-25T02:22:52.494631",
     "exception": false,
     "start_time": "2025-08-25T02:22:52.472401",
     "status": "completed"
    },
    "tags": []
   },
   "outputs": [
    {
     "data": {
      "text/plain": [
       "'True_Correct:NA|True_Neither:NA|True_Misconception:Incomplete|True_Misconception:Duplication|True_Misconception:SwapDividend|True_Misconception:Shorter_is_bigger|True_Misconception:Denominator-only_change|False_Correct:NA|True_Misconception:Wrong_fraction|True_Misconception:WNB|True_Misconception:Mult|True_Misconception:Irrelevant|True_Misconception:Wrong_term|True_Misconception:Multiplying_by_4|True_Misconception:Inversion|True_Misconception:Additive|True_Misconception:Division|False_Neither:NA|False_Misconception:Duplication|False_Misconception:Certainty|True_Misconception:Positive|True_Misconception:Firstterm|False_Misconception:Not_variable|False_Misconception:Incomplete|False_Misconception:Multiplying_by_4|False_Misconception:Subtraction|False_Misconception:Mult|False_Misconception:Irrelevant|False_Misconception:FlipChange|False_Misconception:Whole_numbers_larger|False_Misconception:WNB|False_Misconception:Wrong_fraction|False_Misconception:Positive|False_Misconception:Longer_is_bigger|True_Misconception:FlipChange|False_Misconception:Wrong_term|False_Misconception:Unknowable|False_Misconception:Wrong_Fraction|True_Misconception:Tacking|True_Misconception:Definition|False_Misconception:Denominator-only_change|False_Misconception:Scale|True_Misconception:Incorrect_equivalent_fraction_addition|False_Misconception:Incorrect_equivalent_fraction_addition|False_Misconception:Wrong_Operation|False_Misconception:Inversion|True_Misconception:Whole_numbers_larger|False_Misconception:Division|False_Misconception:Base_rate|False_Misconception:Firstterm|True_Misconception:Not_variable|False_Misconception:Adding_across|False_Misconception:Interior|False_Misconception:Definition|True_Misconception:Adding_across|False_Misconception:Adding_terms|False_Misconception:Tacking|True_Misconception:Base_rate|False_Misconception:Inverse_operation|False_Misconception:Additive|True_Misconception:Subtraction|False_Misconception:Shorter_is_bigger|True_Misconception:Longer_is_bigger|False_Misconception:SwapDividend|False_Misconception:Ignores_zeroes'"
      ]
     },
     "execution_count": 39,
     "metadata": {},
     "output_type": "execute_result"
    }
   ],
   "source": [
    "sub.iloc[0]['Category:Misconception']"
   ]
  },
  {
   "cell_type": "code",
   "execution_count": 40,
   "id": "0935704d",
   "metadata": {
    "execution": {
     "iopub.execute_input": "2025-08-25T02:22:52.529188Z",
     "iopub.status.busy": "2025-08-25T02:22:52.528972Z",
     "iopub.status.idle": "2025-08-25T02:22:53.156088Z",
     "shell.execute_reply": "2025-08-25T02:22:53.155352Z"
    },
    "papermill": {
     "duration": 0.64624,
     "end_time": "2025-08-25T02:22:53.157407",
     "exception": false,
     "start_time": "2025-08-25T02:22:52.511167",
     "status": "completed"
    },
    "tags": []
   },
   "outputs": [
    {
     "name": "stdout",
     "output_type": "stream",
     "text": [
      "Memory allocated: 17039360\n",
      "Memory reserved: 12991856640\n"
     ]
    }
   ],
   "source": [
    "import torch\n",
    "import gc\n",
    "\n",
    "del top3_labels_cat, flat_top3, decoded_labels, top3, test, ds_test\n",
    "del test_args, model, trainer, predictions\n",
    "# Delete any other lingering references\n",
    "for obj in list(globals().keys()):\n",
    "    if isinstance(globals()[obj], torch.nn.Module) or isinstance(globals()[obj], torch.Tensor):\n",
    "        del globals()[obj]\n",
    "\n",
    "# Dọn sạch autograd\n",
    "torch.cuda.empty_cache()\n",
    "gc.collect()\n",
    "\n",
    "# Nếu dùng nhiều GPU, làm thêm bước này để clear hết:\n",
    "torch.cuda.ipc_collect()\n",
    "\n",
    "# In ra kiểm tra\n",
    "print(\"Memory allocated:\", torch.cuda.memory_allocated())\n",
    "print(\"Memory reserved:\", torch.cuda.memory_reserved())"
   ]
  },
  {
   "cell_type": "code",
   "execution_count": 41,
   "id": "7f5b0cae",
   "metadata": {
    "execution": {
     "iopub.execute_input": "2025-08-25T02:22:53.193313Z",
     "iopub.status.busy": "2025-08-25T02:22:53.192871Z",
     "iopub.status.idle": "2025-08-25T02:22:53.581814Z",
     "shell.execute_reply": "2025-08-25T02:22:53.580802Z"
    },
    "papermill": {
     "duration": 0.407612,
     "end_time": "2025-08-25T02:22:53.582954",
     "exception": false,
     "start_time": "2025-08-25T02:22:53.175342",
     "status": "completed"
    },
    "tags": []
   },
   "outputs": [
    {
     "name": "stdout",
     "output_type": "stream",
     "text": [
      "Memory allocated: 17039360\n",
      "Memory reserved: 12991856640\n"
     ]
    }
   ],
   "source": [
    "for obj in list(globals().keys()):\n",
    "    if isinstance(globals()[obj], torch.nn.Module) or isinstance(globals()[obj], torch.Tensor):\n",
    "        del globals()[obj]\n",
    "\n",
    "# Dọn sạch autograd\n",
    "torch.cuda.empty_cache()\n",
    "gc.collect()\n",
    "\n",
    "# Nếu dùng nhiều GPU, làm thêm bước này để clear hết:\n",
    "torch.cuda.ipc_collect()\n",
    "\n",
    "# In ra kiểm tra\n",
    "print(\"Memory allocated:\", torch.cuda.memory_allocated())\n",
    "print(\"Memory reserved:\", torch.cuda.memory_reserved())"
   ]
  },
  {
   "cell_type": "code",
   "execution_count": 42,
   "id": "146b5fb6",
   "metadata": {
    "execution": {
     "iopub.execute_input": "2025-08-25T02:22:53.624161Z",
     "iopub.status.busy": "2025-08-25T02:22:53.623523Z",
     "iopub.status.idle": "2025-08-25T02:22:54.017425Z",
     "shell.execute_reply": "2025-08-25T02:22:54.016515Z"
    },
    "papermill": {
     "duration": 0.415725,
     "end_time": "2025-08-25T02:22:54.018617",
     "exception": false,
     "start_time": "2025-08-25T02:22:53.602892",
     "status": "completed"
    },
    "tags": []
   },
   "outputs": [
    {
     "name": "stdout",
     "output_type": "stream",
     "text": [
      "Memory allocated: 17039360\n",
      "Memory reserved: 12991856640\n"
     ]
    }
   ],
   "source": [
    "for obj in list(globals().keys()):\n",
    "    if isinstance(globals()[obj], torch.nn.Module) or isinstance(globals()[obj], torch.Tensor):\n",
    "        del globals()[obj]\n",
    "\n",
    "# Dọn sạch autograd\n",
    "torch.cuda.empty_cache()\n",
    "gc.collect()\n",
    "\n",
    "# Nếu dùng nhiều GPU, làm thêm bước này để clear hết:\n",
    "torch.cuda.ipc_collect()\n",
    "\n",
    "# In ra kiểm tra\n",
    "print(\"Memory allocated:\", torch.cuda.memory_allocated())\n",
    "print(\"Memory reserved:\", torch.cuda.memory_reserved())"
   ]
  },
  {
   "cell_type": "code",
   "execution_count": 43,
   "id": "5659fe69",
   "metadata": {
    "execution": {
     "iopub.execute_input": "2025-08-25T02:22:54.054450Z",
     "iopub.status.busy": "2025-08-25T02:22:54.053873Z",
     "iopub.status.idle": "2025-08-25T02:22:54.448869Z",
     "shell.execute_reply": "2025-08-25T02:22:54.448184Z"
    },
    "papermill": {
     "duration": 0.413792,
     "end_time": "2025-08-25T02:22:54.450018",
     "exception": false,
     "start_time": "2025-08-25T02:22:54.036226",
     "status": "completed"
    },
    "tags": []
   },
   "outputs": [
    {
     "name": "stdout",
     "output_type": "stream",
     "text": [
      "Memory allocated: 17039360\n",
      "Memory reserved: 12991856640\n"
     ]
    }
   ],
   "source": [
    "for obj in list(globals().keys()):\n",
    "    if isinstance(globals()[obj], torch.nn.Module) or isinstance(globals()[obj], torch.Tensor):\n",
    "        del globals()[obj]\n",
    "\n",
    "# Dọn sạch autograd\n",
    "torch.cuda.empty_cache()\n",
    "gc.collect()\n",
    "\n",
    "# Nếu dùng nhiều GPU, làm thêm bước này để clear hết:\n",
    "torch.cuda.ipc_collect()\n",
    "\n",
    "# In ra kiểm tra\n",
    "print(\"Memory allocated:\", torch.cuda.memory_allocated())\n",
    "print(\"Memory reserved:\", torch.cuda.memory_reserved())"
   ]
  },
  {
   "cell_type": "markdown",
   "id": "083a75a4",
   "metadata": {
    "papermill": {
     "duration": 0.017158,
     "end_time": "2025-08-25T02:22:54.485618",
     "exception": false,
     "start_time": "2025-08-25T02:22:54.468460",
     "status": "completed"
    },
    "tags": []
   },
   "source": [
    "# 3. Gemma3 8B"
   ]
  },
  {
   "cell_type": "code",
   "execution_count": 44,
   "id": "66b24fd0",
   "metadata": {
    "execution": {
     "iopub.execute_input": "2025-08-25T02:22:54.520624Z",
     "iopub.status.busy": "2025-08-25T02:22:54.520404Z",
     "iopub.status.idle": "2025-08-25T02:22:54.523603Z",
     "shell.execute_reply": "2025-08-25T02:22:54.523051Z"
    },
    "papermill": {
     "duration": 0.022003,
     "end_time": "2025-08-25T02:22:54.524611",
     "exception": false,
     "start_time": "2025-08-25T02:22:54.502608",
     "status": "completed"
    },
    "tags": []
   },
   "outputs": [],
   "source": [
    "import os\n",
    "import torch\n",
    "os.environ[\"CUDA_VISIBLE_DEVICES\"] = \"1\""
   ]
  },
  {
   "cell_type": "code",
   "execution_count": 45,
   "id": "3e09108e",
   "metadata": {
    "execution": {
     "iopub.execute_input": "2025-08-25T02:22:54.559434Z",
     "iopub.status.busy": "2025-08-25T02:22:54.558915Z",
     "iopub.status.idle": "2025-08-25T02:22:54.562580Z",
     "shell.execute_reply": "2025-08-25T02:22:54.561879Z"
    },
    "papermill": {
     "duration": 0.022252,
     "end_time": "2025-08-25T02:22:54.563673",
     "exception": false,
     "start_time": "2025-08-25T02:22:54.541421",
     "status": "completed"
    },
    "tags": []
   },
   "outputs": [],
   "source": [
    "import pandas as pd\n",
    "import numpy as np\n",
    "from sklearn.preprocessing import LabelEncoder\n",
    "\n",
    "from transformers import AutoTokenizer, AutoModelForSequenceClassification, TrainingArguments, Trainer, ModernBertForSequenceClassification, DataCollatorWithPadding\n",
    "from sklearn.model_selection import train_test_split\n",
    "from datasets import Dataset"
   ]
  },
  {
   "cell_type": "code",
   "execution_count": 46,
   "id": "370a4d1e",
   "metadata": {
    "execution": {
     "iopub.execute_input": "2025-08-25T02:22:54.598657Z",
     "iopub.status.busy": "2025-08-25T02:22:54.598453Z",
     "iopub.status.idle": "2025-08-25T02:22:54.707388Z",
     "shell.execute_reply": "2025-08-25T02:22:54.706792Z"
    },
    "papermill": {
     "duration": 0.127708,
     "end_time": "2025-08-25T02:22:54.708640",
     "exception": false,
     "start_time": "2025-08-25T02:22:54.580932",
     "status": "completed"
    },
    "tags": []
   },
   "outputs": [],
   "source": [
    "train               = pd.read_csv('/kaggle/input/map-charting-student-math-misunderstandings/train.csv')\n",
    "test                = pd.read_csv('/kaggle/input/map-charting-student-math-misunderstandings/test.csv')"
   ]
  },
  {
   "cell_type": "code",
   "execution_count": 47,
   "id": "5e6647eb",
   "metadata": {
    "execution": {
     "iopub.execute_input": "2025-08-25T02:22:54.744778Z",
     "iopub.status.busy": "2025-08-25T02:22:54.744165Z",
     "iopub.status.idle": "2025-08-25T02:22:54.764002Z",
     "shell.execute_reply": "2025-08-25T02:22:54.763430Z"
    },
    "papermill": {
     "duration": 0.038553,
     "end_time": "2025-08-25T02:22:54.765073",
     "exception": false,
     "start_time": "2025-08-25T02:22:54.726520",
     "status": "completed"
    },
    "tags": []
   },
   "outputs": [
    {
     "name": "stdout",
     "output_type": "stream",
     "text": [
      "Train shape: (36696, 9) with 65 target classes\n"
     ]
    }
   ],
   "source": [
    "le                  = LabelEncoder()\n",
    "train.Misconception     = train.Misconception.fillna('NA')\n",
    "train['target']   = train.Category + ':' +train.Misconception\n",
    "train['label']    = le.fit_transform(train['target'])\n",
    "\n",
    "n_classes = len(le.classes_)\n",
    "print(f\"Train shape: {train.shape} with {n_classes} target classes\")"
   ]
  },
  {
   "cell_type": "code",
   "execution_count": 48,
   "id": "6b9ab69a",
   "metadata": {
    "execution": {
     "iopub.execute_input": "2025-08-25T02:22:54.800500Z",
     "iopub.status.busy": "2025-08-25T02:22:54.800286Z",
     "iopub.status.idle": "2025-08-25T02:22:55.099100Z",
     "shell.execute_reply": "2025-08-25T02:22:55.098525Z"
    },
    "papermill": {
     "duration": 0.318187,
     "end_time": "2025-08-25T02:22:55.100508",
     "exception": false,
     "start_time": "2025-08-25T02:22:54.782321",
     "status": "completed"
    },
    "tags": []
   },
   "outputs": [],
   "source": [
    "idx = train.apply(lambda row: row.Category.split('_')[0],axis=1)=='True'\n",
    "correct = train.loc[idx].copy()\n",
    "correct['c'] = correct.groupby(['QuestionId','MC_Answer']).MC_Answer.transform('count')\n",
    "correct = correct.sort_values('c',ascending=False)\n",
    "correct = correct.drop_duplicates(['QuestionId'])\n",
    "correct = correct[['QuestionId','MC_Answer']]\n",
    "correct['is_correct'] = 1\n",
    "\n",
    "train = train.merge(correct, on=['QuestionId','MC_Answer'], how='left')\n",
    "train.is_correct = train.is_correct.fillna(0)"
   ]
  },
  {
   "cell_type": "code",
   "execution_count": 49,
   "id": "29771eeb",
   "metadata": {
    "execution": {
     "iopub.execute_input": "2025-08-25T02:22:55.136259Z",
     "iopub.status.busy": "2025-08-25T02:22:55.136020Z",
     "iopub.status.idle": "2025-08-25T02:22:55.142118Z",
     "shell.execute_reply": "2025-08-25T02:22:55.141607Z"
    },
    "papermill": {
     "duration": 0.02518,
     "end_time": "2025-08-25T02:22:55.143328",
     "exception": false,
     "start_time": "2025-08-25T02:22:55.118148",
     "status": "completed"
    },
    "tags": []
   },
   "outputs": [],
   "source": [
    "test = test.merge(correct, on=['QuestionId','MC_Answer'], how='left')\n",
    "test.is_correct = test.is_correct.fillna(0)\n"
   ]
  },
  {
   "cell_type": "code",
   "execution_count": 50,
   "id": "0d1e2746",
   "metadata": {
    "execution": {
     "iopub.execute_input": "2025-08-25T02:22:55.178402Z",
     "iopub.status.busy": "2025-08-25T02:22:55.178000Z",
     "iopub.status.idle": "2025-08-25T02:22:55.182740Z",
     "shell.execute_reply": "2025-08-25T02:22:55.182165Z"
    },
    "papermill": {
     "duration": 0.023082,
     "end_time": "2025-08-25T02:22:55.183682",
     "exception": false,
     "start_time": "2025-08-25T02:22:55.160600",
     "status": "completed"
    },
    "tags": []
   },
   "outputs": [],
   "source": [
    "def format_input(row):\n",
    "    x = \"This answer is correct.\"\n",
    "    if not row['is_correct']:\n",
    "        x = \"This is answer is incorrect.\"\n",
    "    return (\n",
    "        f\"Question: {row['QuestionText']}\\n\"\n",
    "        f\"Answer: {row['MC_Answer']}\\n\"\n",
    "        f\"{x}\\n\"\n",
    "        f\"Student Explanation: {row['StudentExplanation']}\"\n",
    "    )\n",
    "\n",
    "test['text'] = test.apply(format_input,axis=1)"
   ]
  },
  {
   "cell_type": "code",
   "execution_count": 51,
   "id": "1248f1bf",
   "metadata": {
    "execution": {
     "iopub.execute_input": "2025-08-25T02:22:55.218255Z",
     "iopub.status.busy": "2025-08-25T02:22:55.218018Z",
     "iopub.status.idle": "2025-08-25T02:22:55.228649Z",
     "shell.execute_reply": "2025-08-25T02:22:55.228059Z"
    },
    "papermill": {
     "duration": 0.028972,
     "end_time": "2025-08-25T02:22:55.229666",
     "exception": false,
     "start_time": "2025-08-25T02:22:55.200694",
     "status": "completed"
    },
    "tags": []
   },
   "outputs": [],
   "source": [
    "ds_test = Dataset.from_pandas(test)"
   ]
  },
  {
   "cell_type": "code",
   "execution_count": 52,
   "id": "a683cc51",
   "metadata": {
    "execution": {
     "iopub.execute_input": "2025-08-25T02:22:55.264407Z",
     "iopub.status.busy": "2025-08-25T02:22:55.264196Z",
     "iopub.status.idle": "2025-08-25T02:24:49.767102Z",
     "shell.execute_reply": "2025-08-25T02:24:49.766525Z"
    },
    "papermill": {
     "duration": 114.521585,
     "end_time": "2025-08-25T02:24:49.768398",
     "exception": false,
     "start_time": "2025-08-25T02:22:55.246813",
     "status": "completed"
    },
    "tags": []
   },
   "outputs": [
    {
     "data": {
      "application/vnd.jupyter.widget-view+json": {
       "model_id": "62ad4d67e3b04540891e101d624723e0",
       "version_major": 2,
       "version_minor": 0
      },
      "text/plain": [
       "Loading checkpoint shards:   0%|          | 0/4 [00:00<?, ?it/s]"
      ]
     },
     "metadata": {},
     "output_type": "display_data"
    }
   ],
   "source": [
    "model = AutoModelForSequenceClassification.from_pretrained(\"/kaggle/input/qwen3-8b-map-competition/MAP_EXP_16_FULL\", device_map=\"cuda:1\", torch_dtype=torch.bfloat16)"
   ]
  },
  {
   "cell_type": "code",
   "execution_count": 53,
   "id": "3451cef7",
   "metadata": {
    "execution": {
     "iopub.execute_input": "2025-08-25T02:24:49.805517Z",
     "iopub.status.busy": "2025-08-25T02:24:49.805250Z",
     "iopub.status.idle": "2025-08-25T02:24:49.811570Z",
     "shell.execute_reply": "2025-08-25T02:24:49.810868Z"
    },
    "papermill": {
     "duration": 0.026382,
     "end_time": "2025-08-25T02:24:49.812619",
     "exception": false,
     "start_time": "2025-08-25T02:24:49.786237",
     "status": "completed"
    },
    "tags": []
   },
   "outputs": [
    {
     "data": {
      "text/plain": [
       "Qwen3ForSequenceClassification(\n",
       "  (model): Qwen3Model(\n",
       "    (embed_tokens): Embedding(151936, 4096)\n",
       "    (layers): ModuleList(\n",
       "      (0-35): 36 x Qwen3DecoderLayer(\n",
       "        (self_attn): Qwen3Attention(\n",
       "          (q_proj): Linear(in_features=4096, out_features=4096, bias=False)\n",
       "          (k_proj): Linear(in_features=4096, out_features=1024, bias=False)\n",
       "          (v_proj): Linear(in_features=4096, out_features=1024, bias=False)\n",
       "          (o_proj): Linear(in_features=4096, out_features=4096, bias=False)\n",
       "          (q_norm): Qwen3RMSNorm((128,), eps=1e-06)\n",
       "          (k_norm): Qwen3RMSNorm((128,), eps=1e-06)\n",
       "        )\n",
       "        (mlp): Qwen3MLP(\n",
       "          (gate_proj): Linear(in_features=4096, out_features=12288, bias=False)\n",
       "          (up_proj): Linear(in_features=4096, out_features=12288, bias=False)\n",
       "          (down_proj): Linear(in_features=12288, out_features=4096, bias=False)\n",
       "          (act_fn): SiLU()\n",
       "        )\n",
       "        (input_layernorm): Qwen3RMSNorm((4096,), eps=1e-06)\n",
       "        (post_attention_layernorm): Qwen3RMSNorm((4096,), eps=1e-06)\n",
       "      )\n",
       "    )\n",
       "    (norm): Qwen3RMSNorm((4096,), eps=1e-06)\n",
       "    (rotary_emb): Qwen3RotaryEmbedding()\n",
       "  )\n",
       "  (score): Linear(in_features=4096, out_features=65, bias=False)\n",
       ")"
      ]
     },
     "execution_count": 53,
     "metadata": {},
     "output_type": "execute_result"
    }
   ],
   "source": [
    "model\n"
   ]
  },
  {
   "cell_type": "code",
   "execution_count": 54,
   "id": "b3e292f7",
   "metadata": {
    "execution": {
     "iopub.execute_input": "2025-08-25T02:24:49.848787Z",
     "iopub.status.busy": "2025-08-25T02:24:49.848573Z",
     "iopub.status.idle": "2025-08-25T02:24:50.631595Z",
     "shell.execute_reply": "2025-08-25T02:24:50.630869Z"
    },
    "papermill": {
     "duration": 0.80242,
     "end_time": "2025-08-25T02:24:50.632817",
     "exception": false,
     "start_time": "2025-08-25T02:24:49.830397",
     "status": "completed"
    },
    "tags": []
   },
   "outputs": [
    {
     "data": {
      "application/vnd.jupyter.widget-view+json": {
       "model_id": "a3e3930d913a444b841a7a020f6168ad",
       "version_major": 2,
       "version_minor": 0
      },
      "text/plain": [
       "Map:   0%|          | 0/3 [00:00<?, ? examples/s]"
      ]
     },
     "metadata": {},
     "output_type": "display_data"
    }
   ],
   "source": [
    "tokenizer = AutoTokenizer.from_pretrained(\"/kaggle/input/qwen3-8b-map-competition/MAP_EXP_16_FULL\")\n",
    "tokenizer.pad_token = tokenizer.eos_token\n",
    "model.config.pad_token_id = tokenizer.pad_token_id\n",
    "\n",
    "def tokenize(batch):\n",
    "    return tokenizer(batch[\"text\"], padding=\"max_length\", truncation=True, max_length=256)\n",
    "\n",
    "ds_test = ds_test.map(tokenize, batched=True)"
   ]
  },
  {
   "cell_type": "code",
   "execution_count": 55,
   "id": "0b2b76fc",
   "metadata": {
    "execution": {
     "iopub.execute_input": "2025-08-25T02:24:50.669868Z",
     "iopub.status.busy": "2025-08-25T02:24:50.669652Z",
     "iopub.status.idle": "2025-08-25T02:24:53.246959Z",
     "shell.execute_reply": "2025-08-25T02:24:53.246236Z"
    },
    "papermill": {
     "duration": 2.597117,
     "end_time": "2025-08-25T02:24:53.247997",
     "exception": false,
     "start_time": "2025-08-25T02:24:50.650880",
     "status": "completed"
    },
    "tags": []
   },
   "outputs": [
    {
     "name": "stderr",
     "output_type": "stream",
     "text": [
      "/tmp/ipykernel_19/1882862596.py:11: FutureWarning: `tokenizer` is deprecated and will be removed in version 5.0.0 for `Trainer.__init__`. Use `processing_class` instead.\n",
      "  trainer = Trainer(\n"
     ]
    },
    {
     "data": {
      "text/html": [],
      "text/plain": [
       "<IPython.core.display.HTML object>"
      ]
     },
     "metadata": {},
     "output_type": "display_data"
    },
    {
     "data": {
      "text/plain": [
       "array([[-0.5917969 , -1.203125  , -1.8378906 , -5.1210938 , -1.4160156 ,\n",
       "        -1.9462891 , -3.0878906 , -1.1455078 , -1.5546875 , -2.0859375 ,\n",
       "        -2.0722656 , -1.9472656 , -2.4023438 ,  0.09143066, -2.3847656 ,\n",
       "        -2.7363281 , -2.        , -1.7636719 , -2.5761719 , -3.2539062 ,\n",
       "        -1.1259766 , -2.0507812 , -2.1679688 , -1.7246094 , -1.4677734 ,\n",
       "        -3.2558594 ,  0.16394043, -2.5898438 , -3.9628906 , -2.0585938 ,\n",
       "        -1.9960938 , -1.1503906 , -2.0117188 , -3.2011719 , -1.9042969 ,\n",
       "        -1.4375    , -1.8359375 , 11.9921875 , -1.2832031 , -0.5957031 ,\n",
       "        -4.6523438 , -1.6435547 ,  2.0371094 , -0.62597656,  0.7109375 ,\n",
       "         0.43188477, -0.81933594,  4.2773438 , -2.53125   ,  0.9970703 ,\n",
       "         1.4169922 , -2.5703125 , -0.29833984, -1.1210938 , -1.7441406 ,\n",
       "        -0.5024414 ,  0.6665039 , -1.3164062 , -0.3154297 ,  0.8051758 ,\n",
       "         0.84814453, -2.3144531 ,  0.9824219 ,  0.6645508 ,  6.9726562 ],\n",
       "       [ 1.1054688 , -2.2421875 , -1.6552734 , -1.3007812 , -1.0068359 ,\n",
       "        -1.4921875 , -1.0419922 , -2.0078125 , -2.9375    , -1.3105469 ,\n",
       "        -0.34106445, -3.203125  , -0.9560547 ,  4.8164062 , -3.2402344 ,\n",
       "        -1.0927734 , -2.1992188 , -2.5234375 , -0.52734375, -2.078125  ,\n",
       "        -0.61816406, -2.4707031 , -3.8535156 , -0.49291992, -2.3945312 ,\n",
       "        -2.7851562 , -1.6269531 , -0.5253906 , -1.9052734 , -0.4272461 ,\n",
       "        12.046875  , -0.96191406, -3.4628906 , -1.4472656 , -0.8876953 ,\n",
       "        -3.1054688 ,  4.7421875 ,  0.37890625, -3.9179688 , -2.4179688 ,\n",
       "        -4.2851562 , -3.65625   , -2.6796875 , -4.5117188 , -2.921875  ,\n",
       "        -3.7324219 , -2.9648438 , -0.25854492, -3.5507812 , -3.9570312 ,\n",
       "        -1.8359375 , -5.046875  , -3.7265625 , -4.7460938 , -5.7109375 ,\n",
       "        -3.0878906 , -3.1269531 , -3.0488281 , -3.7871094 , -3.4570312 ,\n",
       "        -0.22875977, -5.5976562 , -2.2832031 , -2.0449219 , -0.04354858],\n",
       "       [-1.8300781 , -1.7617188 , -0.9448242 , -2.8554688 , -3.0214844 ,\n",
       "        -2.2675781 , -1.8271484 , -2.1582031 , -3.1933594 , -3.0507812 ,\n",
       "        -2.2636719 , -1.34375   , -0.46704102, -2.7539062 , -2.3828125 ,\n",
       "        -2.0605469 , -0.5410156 , -1.3759766 , -3.1503906 , -0.67285156,\n",
       "        -3.2382812 , -3.1660156 , -0.46606445, -2.0878906 ,  0.14489746,\n",
       "        -1.6728516 , -1.9013672 , -1.9736328 , -2.7988281 , -1.2490234 ,\n",
       "        -2.0488281 , -0.44262695, -3.0664062 , -2.1640625 , -3.1894531 ,\n",
       "        -1.4824219 ,  0.25341797,  6.0078125 , -3.1738281 ,  0.35180664,\n",
       "        -4.1679688 , -1.4072266 , -1.6884766 ,  0.11523438, -0.7885742 ,\n",
       "         0.44995117, -0.02716064, -0.41601562, -2.09375   ,  0.52734375,\n",
       "        -0.41357422, -2.796875  ,  0.4321289 , -1.328125  , -3.4433594 ,\n",
       "        -1.1816406 ,  4.5898438 , -1.2646484 , -0.03222656, -0.1616211 ,\n",
       "        -0.19812012, -2.8066406 , -1.2910156 ,  1.7001953 ,  9.2734375 ]],\n",
       "      dtype=float32)"
      ]
     },
     "execution_count": 55,
     "metadata": {},
     "output_type": "execute_result"
    }
   ],
   "source": [
    "test_args = TrainingArguments(\n",
    "    output_dir=\"./\",\n",
    "    do_train=False,\n",
    "    do_predict=True,\n",
    "    per_device_eval_batch_size=1, # Adjust as needed\n",
    "    bf16=False, # TRAIN WITH BF16 IF LOCAL GPU IS NEWER GPU          \n",
    "    fp16=True,\n",
    "    report_to='none'\n",
    ")\n",
    "\n",
    "trainer = Trainer(\n",
    "    model=model,\n",
    "    args=test_args,\n",
    "    tokenizer=tokenizer,\n",
    "    data_collator=DataCollatorWithPadding(tokenizer)\n",
    ")\n",
    "\n",
    "predictions = trainer.predict(ds_test)\n",
    "\n",
    "predictions.predictions"
   ]
  },
  {
   "cell_type": "code",
   "execution_count": 56,
   "id": "32a2b055",
   "metadata": {
    "execution": {
     "iopub.execute_input": "2025-08-25T02:24:53.285999Z",
     "iopub.status.busy": "2025-08-25T02:24:53.285780Z",
     "iopub.status.idle": "2025-08-25T02:24:53.292403Z",
     "shell.execute_reply": "2025-08-25T02:24:53.291667Z"
    },
    "papermill": {
     "duration": 0.026173,
     "end_time": "2025-08-25T02:24:53.293436",
     "exception": false,
     "start_time": "2025-08-25T02:24:53.267263",
     "status": "completed"
    },
    "tags": []
   },
   "outputs": [
    {
     "data": {
      "text/plain": [
       "array([['True_Correct:NA', 'True_Neither:NA',\n",
       "        'True_Misconception:Incomplete',\n",
       "        'True_Misconception:Denominator-only_change',\n",
       "        'True_Misconception:Irrelevant', 'True_Misconception:Inversion',\n",
       "        'True_Misconception:Wrong_fraction', 'True_Misconception:WNB',\n",
       "        'True_Misconception:Tacking', 'True_Misconception:Duplication',\n",
       "        'True_Misconception:Shorter_is_bigger',\n",
       "        'True_Misconception:Wrong_term', 'True_Misconception:Firstterm',\n",
       "        'False_Misconception:Subtraction',\n",
       "        'False_Misconception:Incomplete', 'True_Misconception:Mult',\n",
       "        'True_Misconception:SwapDividend', 'True_Misconception:Positive',\n",
       "        'False_Correct:NA', 'True_Misconception:Additive',\n",
       "        'True_Misconception:Division', 'True_Misconception:FlipChange',\n",
       "        'True_Misconception:Multiplying_by_4',\n",
       "        'False_Misconception:Mult',\n",
       "        'False_Misconception:Denominator-only_change',\n",
       "        'False_Misconception:Whole_numbers_larger',\n",
       "        'False_Misconception:Adding_across',\n",
       "        'True_Misconception:Adding_across',\n",
       "        'True_Misconception:Subtraction',\n",
       "        'False_Misconception:Base_rate',\n",
       "        'False_Misconception:Wrong_term', 'False_Misconception:Scale',\n",
       "        'False_Misconception:Division', 'True_Misconception:Definition',\n",
       "        'False_Misconception:Positive',\n",
       "        'True_Misconception:Not_variable',\n",
       "        'False_Misconception:Inversion', 'False_Neither:NA',\n",
       "        'False_Misconception:Adding_terms',\n",
       "        'False_Misconception:Wrong_fraction',\n",
       "        'False_Misconception:Certainty',\n",
       "        'False_Misconception:FlipChange', 'False_Misconception:WNB',\n",
       "        'False_Misconception:Inverse_operation',\n",
       "        'False_Misconception:Wrong_Fraction',\n",
       "        'False_Misconception:Multiplying_by_4',\n",
       "        'False_Misconception:Unknowable',\n",
       "        'False_Misconception:Firstterm',\n",
       "        'False_Misconception:Duplication',\n",
       "        'False_Misconception:Not_variable',\n",
       "        'True_Misconception:Whole_numbers_larger',\n",
       "        'False_Misconception:Incorrect_equivalent_fraction_addition',\n",
       "        'False_Misconception:Ignores_zeroes',\n",
       "        'True_Misconception:Incorrect_equivalent_fraction_addition',\n",
       "        'True_Misconception:Longer_is_bigger',\n",
       "        'False_Misconception:Irrelevant',\n",
       "        'False_Misconception:SwapDividend',\n",
       "        'False_Misconception:Interior', 'False_Misconception:Definition',\n",
       "        'False_Misconception:Wrong_Operation',\n",
       "        'False_Misconception:Longer_is_bigger',\n",
       "        'False_Misconception:Shorter_is_bigger',\n",
       "        'False_Misconception:Tacking', 'True_Misconception:Base_rate',\n",
       "        'False_Misconception:Additive'],\n",
       "       ['False_Misconception:WNB', 'False_Misconception:Incomplete',\n",
       "        'False_Neither:NA', 'False_Correct:NA', 'True_Correct:NA',\n",
       "        'True_Neither:NA', 'True_Misconception:WNB',\n",
       "        'True_Misconception:Incomplete', 'False_Misconception:Firstterm',\n",
       "        'False_Misconception:Unknowable', 'False_Misconception:Positive',\n",
       "        'False_Misconception:SwapDividend',\n",
       "        'False_Misconception:Irrelevant', 'False_Misconception:Mult',\n",
       "        'False_Misconception:Wrong_fraction',\n",
       "        'False_Misconception:Ignores_zeroes',\n",
       "        'False_Misconception:Whole_numbers_larger',\n",
       "        'False_Misconception:Base_rate',\n",
       "        'False_Misconception:Definition', 'False_Misconception:Interior',\n",
       "        'False_Misconception:Additive',\n",
       "        'False_Misconception:Duplication',\n",
       "        'False_Misconception:Wrong_Operation',\n",
       "        'False_Misconception:Certainty',\n",
       "        'False_Misconception:Subtraction',\n",
       "        'False_Misconception:Adding_terms',\n",
       "        'True_Misconception:Irrelevant', 'False_Misconception:Tacking',\n",
       "        'False_Misconception:Denominator-only_change',\n",
       "        'True_Misconception:Wrong_term',\n",
       "        'False_Misconception:Longer_is_bigger',\n",
       "        'False_Misconception:Inverse_operation',\n",
       "        'False_Misconception:Adding_across',\n",
       "        'True_Misconception:Wrong_fraction', 'False_Misconception:Scale',\n",
       "        'True_Misconception:Additive',\n",
       "        'False_Misconception:Multiplying_by_4',\n",
       "        'False_Misconception:Inversion',\n",
       "        'True_Misconception:Denominator-only_change',\n",
       "        'False_Misconception:Shorter_is_bigger',\n",
       "        'True_Misconception:Duplication', 'False_Misconception:Division',\n",
       "        'True_Misconception:FlipChange',\n",
       "        'True_Misconception:Subtraction', 'True_Misconception:Positive',\n",
       "        'False_Misconception:Wrong_term',\n",
       "        'True_Misconception:Shorter_is_bigger',\n",
       "        'False_Misconception:FlipChange',\n",
       "        'False_Misconception:Incorrect_equivalent_fraction_addition',\n",
       "        'True_Misconception:Tacking',\n",
       "        'False_Misconception:Wrong_Fraction',\n",
       "        'True_Misconception:Incorrect_equivalent_fraction_addition',\n",
       "        'True_Misconception:Definition', 'True_Misconception:Mult',\n",
       "        'True_Misconception:Firstterm',\n",
       "        'True_Misconception:SwapDividend',\n",
       "        'False_Misconception:Not_variable',\n",
       "        'True_Misconception:Adding_across',\n",
       "        'True_Misconception:Inversion', 'True_Misconception:Base_rate',\n",
       "        'True_Misconception:Division',\n",
       "        'True_Misconception:Multiplying_by_4',\n",
       "        'True_Misconception:Longer_is_bigger',\n",
       "        'True_Misconception:Whole_numbers_larger',\n",
       "        'True_Misconception:Not_variable'],\n",
       "       ['True_Neither:NA', 'True_Correct:NA',\n",
       "        'True_Misconception:Shorter_is_bigger',\n",
       "        'True_Misconception:Wrong_term', 'True_Misconception:Inversion',\n",
       "        'True_Misconception:Firstterm', 'True_Misconception:Mult',\n",
       "        'True_Misconception:Additive', 'False_Neither:NA',\n",
       "        'False_Misconception:Scale', 'True_Misconception:Division',\n",
       "        'True_Misconception:FlipChange',\n",
       "        'True_Misconception:SwapDividend', 'True_Misconception:Tacking',\n",
       "        'True_Misconception:WNB', 'True_Misconception:Irrelevant',\n",
       "        'True_Misconception:Incomplete',\n",
       "        'False_Misconception:Whole_numbers_larger',\n",
       "        'False_Misconception:Not_variable',\n",
       "        'False_Misconception:Ignores_zeroes',\n",
       "        'False_Misconception:Inverse_operation',\n",
       "        'False_Misconception:Longer_is_bigger',\n",
       "        'True_Misconception:Duplication',\n",
       "        'False_Misconception:Adding_terms',\n",
       "        'True_Misconception:Positive', 'False_Misconception:Unknowable',\n",
       "        'True_Misconception:Subtraction',\n",
       "        'True_Misconception:Wrong_fraction',\n",
       "        'True_Misconception:Multiplying_by_4',\n",
       "        'False_Misconception:FlipChange',\n",
       "        'False_Misconception:Inversion', 'True_Misconception:Definition',\n",
       "        'False_Misconception:Wrong_term',\n",
       "        'False_Misconception:Shorter_is_bigger',\n",
       "        'True_Misconception:Denominator-only_change',\n",
       "        'False_Misconception:Adding_across',\n",
       "        'False_Misconception:Definition', 'False_Correct:NA',\n",
       "        'False_Misconception:Subtraction',\n",
       "        'False_Misconception:SwapDividend', 'False_Misconception:WNB',\n",
       "        'False_Misconception:Interior', 'False_Misconception:Positive',\n",
       "        'True_Misconception:Incorrect_equivalent_fraction_addition',\n",
       "        'False_Misconception:Denominator-only_change',\n",
       "        'False_Misconception:Wrong_Operation',\n",
       "        'False_Misconception:Firstterm', 'False_Misconception:Certainty',\n",
       "        'False_Misconception:Incorrect_equivalent_fraction_addition',\n",
       "        'False_Misconception:Incomplete',\n",
       "        'True_Misconception:Longer_is_bigger',\n",
       "        'False_Misconception:Tacking',\n",
       "        'True_Misconception:Whole_numbers_larger',\n",
       "        'False_Misconception:Additive', 'False_Misconception:Base_rate',\n",
       "        'False_Misconception:Duplication',\n",
       "        'False_Misconception:Wrong_Fraction',\n",
       "        'False_Misconception:Irrelevant',\n",
       "        'False_Misconception:Multiplying_by_4',\n",
       "        'True_Misconception:Adding_across',\n",
       "        'False_Misconception:Wrong_fraction',\n",
       "        'False_Misconception:Division', 'False_Misconception:Mult',\n",
       "        'True_Misconception:Not_variable',\n",
       "        'True_Misconception:Base_rate']], dtype=object)"
      ]
     },
     "execution_count": 56,
     "metadata": {},
     "output_type": "execute_result"
    }
   ],
   "source": [
    "top3           = np.argsort(-predictions.predictions, axis=1)[:, :]\n",
    "flat_top3      = top3.flatten()\n",
    "decoded_labels = le.inverse_transform(flat_top3)\n",
    "top3_labels_cat    = decoded_labels.reshape(top3.shape)\n",
    "top3_labels_cat\n"
   ]
  },
  {
   "cell_type": "code",
   "execution_count": 57,
   "id": "fa634ee4",
   "metadata": {
    "execution": {
     "iopub.execute_input": "2025-08-25T02:24:53.329797Z",
     "iopub.status.busy": "2025-08-25T02:24:53.329599Z",
     "iopub.status.idle": "2025-08-25T02:24:53.338761Z",
     "shell.execute_reply": "2025-08-25T02:24:53.338084Z"
    },
    "papermill": {
     "duration": 0.028806,
     "end_time": "2025-08-25T02:24:53.339907",
     "exception": false,
     "start_time": "2025-08-25T02:24:53.311101",
     "status": "completed"
    },
    "tags": []
   },
   "outputs": [
    {
     "data": {
      "text/html": [
       "<div>\n",
       "<style scoped>\n",
       "    .dataframe tbody tr th:only-of-type {\n",
       "        vertical-align: middle;\n",
       "    }\n",
       "\n",
       "    .dataframe tbody tr th {\n",
       "        vertical-align: top;\n",
       "    }\n",
       "\n",
       "    .dataframe thead th {\n",
       "        text-align: right;\n",
       "    }\n",
       "</style>\n",
       "<table border=\"1\" class=\"dataframe\">\n",
       "  <thead>\n",
       "    <tr style=\"text-align: right;\">\n",
       "      <th></th>\n",
       "      <th>row_id</th>\n",
       "      <th>Category:Misconception</th>\n",
       "    </tr>\n",
       "  </thead>\n",
       "  <tbody>\n",
       "    <tr>\n",
       "      <th>0</th>\n",
       "      <td>36696</td>\n",
       "      <td>True_Correct:NA|True_Neither:NA|True_Misconcep...</td>\n",
       "    </tr>\n",
       "    <tr>\n",
       "      <th>1</th>\n",
       "      <td>36697</td>\n",
       "      <td>False_Misconception:WNB|False_Misconception:In...</td>\n",
       "    </tr>\n",
       "    <tr>\n",
       "      <th>2</th>\n",
       "      <td>36698</td>\n",
       "      <td>True_Neither:NA|True_Correct:NA|True_Misconcep...</td>\n",
       "    </tr>\n",
       "  </tbody>\n",
       "</table>\n",
       "</div>"
      ],
      "text/plain": [
       "   row_id                             Category:Misconception\n",
       "0   36696  True_Correct:NA|True_Neither:NA|True_Misconcep...\n",
       "1   36697  False_Misconception:WNB|False_Misconception:In...\n",
       "2   36698  True_Neither:NA|True_Correct:NA|True_Misconcep..."
      ]
     },
     "execution_count": 57,
     "metadata": {},
     "output_type": "execute_result"
    }
   ],
   "source": [
    "\n",
    "\n",
    "joined_preds = []\n",
    "\n",
    "for preds in top3_labels_cat:\n",
    "    joined_preds.append(\"|\".join(preds))\n",
    "\n",
    "\n",
    "\n",
    "# Save submission\n",
    "sub = pd.DataFrame({\n",
    "    \"row_id\": test.row_id.values,\n",
    "    \"Category:Misconception\": joined_preds\n",
    "})\n",
    "sub.to_csv(\"submission_gemma3.csv\", index=False)\n",
    "sub.head()\n",
    "\n"
   ]
  },
  {
   "cell_type": "code",
   "execution_count": 58,
   "id": "47bad0ff",
   "metadata": {
    "execution": {
     "iopub.execute_input": "2025-08-25T02:24:53.376911Z",
     "iopub.status.busy": "2025-08-25T02:24:53.376716Z",
     "iopub.status.idle": "2025-08-25T02:24:53.381088Z",
     "shell.execute_reply": "2025-08-25T02:24:53.380429Z"
    },
    "papermill": {
     "duration": 0.023532,
     "end_time": "2025-08-25T02:24:53.382171",
     "exception": false,
     "start_time": "2025-08-25T02:24:53.358639",
     "status": "completed"
    },
    "tags": []
   },
   "outputs": [
    {
     "data": {
      "text/plain": [
       "'True_Correct:NA|True_Neither:NA|True_Misconception:Incomplete|True_Misconception:Denominator-only_change|True_Misconception:Irrelevant|True_Misconception:Inversion|True_Misconception:Wrong_fraction|True_Misconception:WNB|True_Misconception:Tacking|True_Misconception:Duplication|True_Misconception:Shorter_is_bigger|True_Misconception:Wrong_term|True_Misconception:Firstterm|False_Misconception:Subtraction|False_Misconception:Incomplete|True_Misconception:Mult|True_Misconception:SwapDividend|True_Misconception:Positive|False_Correct:NA|True_Misconception:Additive|True_Misconception:Division|True_Misconception:FlipChange|True_Misconception:Multiplying_by_4|False_Misconception:Mult|False_Misconception:Denominator-only_change|False_Misconception:Whole_numbers_larger|False_Misconception:Adding_across|True_Misconception:Adding_across|True_Misconception:Subtraction|False_Misconception:Base_rate|False_Misconception:Wrong_term|False_Misconception:Scale|False_Misconception:Division|True_Misconception:Definition|False_Misconception:Positive|True_Misconception:Not_variable|False_Misconception:Inversion|False_Neither:NA|False_Misconception:Adding_terms|False_Misconception:Wrong_fraction|False_Misconception:Certainty|False_Misconception:FlipChange|False_Misconception:WNB|False_Misconception:Inverse_operation|False_Misconception:Wrong_Fraction|False_Misconception:Multiplying_by_4|False_Misconception:Unknowable|False_Misconception:Firstterm|False_Misconception:Duplication|False_Misconception:Not_variable|True_Misconception:Whole_numbers_larger|False_Misconception:Incorrect_equivalent_fraction_addition|False_Misconception:Ignores_zeroes|True_Misconception:Incorrect_equivalent_fraction_addition|True_Misconception:Longer_is_bigger|False_Misconception:Irrelevant|False_Misconception:SwapDividend|False_Misconception:Interior|False_Misconception:Definition|False_Misconception:Wrong_Operation|False_Misconception:Longer_is_bigger|False_Misconception:Shorter_is_bigger|False_Misconception:Tacking|True_Misconception:Base_rate|False_Misconception:Additive'"
      ]
     },
     "execution_count": 58,
     "metadata": {},
     "output_type": "execute_result"
    }
   ],
   "source": [
    "sub.iloc[0]['Category:Misconception']"
   ]
  },
  {
   "cell_type": "markdown",
   "id": "f0093923",
   "metadata": {
    "papermill": {
     "duration": 0.017593,
     "end_time": "2025-08-25T02:24:53.417588",
     "exception": false,
     "start_time": "2025-08-25T02:24:53.399995",
     "status": "completed"
    },
    "tags": []
   },
   "source": [
    "# 4. ENSEMBLE EVERYTHING"
   ]
  },
  {
   "cell_type": "code",
   "execution_count": 59,
   "id": "3c385800",
   "metadata": {
    "execution": {
     "iopub.execute_input": "2025-08-25T02:24:53.454448Z",
     "iopub.status.busy": "2025-08-25T02:24:53.454230Z",
     "iopub.status.idle": "2025-08-25T02:24:53.460866Z",
     "shell.execute_reply": "2025-08-25T02:24:53.460169Z"
    },
    "papermill": {
     "duration": 0.02605,
     "end_time": "2025-08-25T02:24:53.461878",
     "exception": false,
     "start_time": "2025-08-25T02:24:53.435828",
     "status": "completed"
    },
    "tags": []
   },
   "outputs": [
    {
     "name": "stdout",
     "output_type": "stream",
     "text": [
      "b c a\n"
     ]
    }
   ],
   "source": [
    "from collections import defaultdict\n",
    "import math\n",
    "\n",
    "def bayesian_model_averaging(lists):\n",
    "    elements = set()\n",
    "    for lst in lists:\n",
    "        elements.update(lst)\n",
    "    elements = list(elements)\n",
    "    n = len(elements)\n",
    "    element_to_index = {elem: i for i, elem in enumerate(elements)}\n",
    "\n",
    "    # 初始化得分\n",
    "    score = defaultdict(float)\n",
    "    total_weight = 0\n",
    "\n",
    "    # 计算每个模型的权重\n",
    "    for lst in lists:\n",
    "        weight = 1 / math.sqrt(len(lst))  # 示例权重计算方式\n",
    "        total_weight += weight\n",
    "        for rank, item in enumerate(lst):\n",
    "            score[item] += weight * (n - rank)\n",
    "\n",
    "    # 归一化得分\n",
    "    for item in score:\n",
    "        score[item] /= total_weight\n",
    "\n",
    "    # 返回排序结果\n",
    "    sorted_items = sorted(score.items(), key=lambda x: -x[1])\n",
    "    return [item for item, _ in sorted_items]\n",
    "\n",
    "def get_top_k_ensemble(l1, l2,l3, k=3):\n",
    "    lists = [l1.split('|'), l2.split('|'),l3.split('|')]\n",
    "    sorted_items = bayesian_model_averaging(lists)\n",
    "    return ' '.join(sorted_items[:k])\n",
    "\n",
    "list1 = 'a|b|d|f'\n",
    "list2 = 'b|c|a|e'\n",
    "list3 = 'c|e|b'\n",
    "\n",
    "print(get_top_k_ensemble(list1, list2, list3, k=3))"
   ]
  },
  {
   "cell_type": "code",
   "execution_count": 60,
   "id": "54f4d0d8",
   "metadata": {
    "execution": {
     "iopub.execute_input": "2025-08-25T02:24:53.498344Z",
     "iopub.status.busy": "2025-08-25T02:24:53.498141Z",
     "iopub.status.idle": "2025-08-25T02:24:53.520875Z",
     "shell.execute_reply": "2025-08-25T02:24:53.520161Z"
    },
    "papermill": {
     "duration": 0.041985,
     "end_time": "2025-08-25T02:24:53.521894",
     "exception": false,
     "start_time": "2025-08-25T02:24:53.479909",
     "status": "completed"
    },
    "tags": []
   },
   "outputs": [
    {
     "data": {
      "text/html": [
       "<div>\n",
       "<style scoped>\n",
       "    .dataframe tbody tr th:only-of-type {\n",
       "        vertical-align: middle;\n",
       "    }\n",
       "\n",
       "    .dataframe tbody tr th {\n",
       "        vertical-align: top;\n",
       "    }\n",
       "\n",
       "    .dataframe thead th {\n",
       "        text-align: right;\n",
       "    }\n",
       "</style>\n",
       "<table border=\"1\" class=\"dataframe\">\n",
       "  <thead>\n",
       "    <tr style=\"text-align: right;\">\n",
       "      <th></th>\n",
       "      <th>row_id</th>\n",
       "      <th>Category:Misconception</th>\n",
       "    </tr>\n",
       "  </thead>\n",
       "  <tbody>\n",
       "    <tr>\n",
       "      <th>0</th>\n",
       "      <td>36696</td>\n",
       "      <td>True_Correct:NA True_Neither:NA True_Misconcep...</td>\n",
       "    </tr>\n",
       "    <tr>\n",
       "      <th>1</th>\n",
       "      <td>36697</td>\n",
       "      <td>False_Misconception:WNB False_Neither:NA False...</td>\n",
       "    </tr>\n",
       "    <tr>\n",
       "      <th>2</th>\n",
       "      <td>36698</td>\n",
       "      <td>True_Neither:NA True_Correct:NA True_Misconcep...</td>\n",
       "    </tr>\n",
       "  </tbody>\n",
       "</table>\n",
       "</div>"
      ],
      "text/plain": [
       "   row_id                             Category:Misconception\n",
       "0   36696  True_Correct:NA True_Neither:NA True_Misconcep...\n",
       "1   36697  False_Misconception:WNB False_Neither:NA False...\n",
       "2   36698  True_Neither:NA True_Correct:NA True_Misconcep..."
      ]
     },
     "execution_count": 60,
     "metadata": {},
     "output_type": "execute_result"
    }
   ],
   "source": [
    "df1 = pd.read_csv('submission_gemma.csv').rename(columns = {'Category:Misconception':'Category:Misconception_gemma'})\n",
    "df2 = pd.read_csv('submission_deepseek.csv').rename(columns = {'Category:Misconception':'Category:Misconception_deepseek'})\n",
    "df3 = pd.read_csv('submission_gemma3.csv').rename(columns = {'Category:Misconception':'Category:Misconception_gemma3'})\n",
    "\n",
    "\n",
    "df = pd.merge(df1, df2, on = 'row_id', how = 'inner')\n",
    "df = pd.merge(df, df3, on = 'row_id', how = 'inner')\n",
    "\n",
    "\n",
    "df['Category:Misconception'] = df.apply(lambda x: get_top_k_ensemble(x['Category:Misconception_gemma'], x['Category:Misconception_deepseek'], x['Category:Misconception_gemma3']), axis = 1)\n",
    "df[['row_id', 'Category:Misconception']].to_csv('submission.csv', index = False)\n",
    "pd.read_csv('submission.csv')"
   ]
  },
  {
   "cell_type": "code",
   "execution_count": null,
   "id": "855ec723",
   "metadata": {
    "papermill": {
     "duration": 0.01784,
     "end_time": "2025-08-25T02:24:53.557634",
     "exception": false,
     "start_time": "2025-08-25T02:24:53.539794",
     "status": "completed"
    },
    "tags": []
   },
   "outputs": [],
   "source": []
  }
 ],
 "metadata": {
  "kaggle": {
   "accelerator": "nvidiaTeslaT4",
   "dataSources": [
    {
     "databundleVersionId": 12957508,
     "sourceId": 104383,
     "sourceType": "competition"
    },
    {
     "datasetId": 2804156,
     "sourceId": 4838716,
     "sourceType": "datasetVersion"
    },
    {
     "datasetId": 4675929,
     "sourceId": 7951074,
     "sourceType": "datasetVersion"
    },
    {
     "datasetId": 7876222,
     "sourceId": 12482600,
     "sourceType": "datasetVersion"
    },
    {
     "datasetId": 7876267,
     "sourceId": 12482664,
     "sourceType": "datasetVersion"
    },
    {
     "datasetId": 7889801,
     "sourceId": 12501066,
     "sourceType": "datasetVersion"
    },
    {
     "datasetId": 7902972,
     "sourceId": 12520079,
     "sourceType": "datasetVersion"
    },
    {
     "datasetId": 7930680,
     "sourceId": 12559632,
     "sourceType": "datasetVersion"
    },
    {
     "datasetId": 7930694,
     "sourceId": 12559652,
     "sourceType": "datasetVersion"
    },
    {
     "datasetId": 8039184,
     "sourceId": 12719174,
     "sourceType": "datasetVersion"
    },
    {
     "datasetId": 8040987,
     "sourceId": 12722014,
     "sourceType": "datasetVersion"
    },
    {
     "datasetId": 8045877,
     "sourceId": 12729471,
     "sourceType": "datasetVersion"
    },
    {
     "sourceId": 250164766,
     "sourceType": "kernelVersion"
    },
    {
     "sourceId": 250240084,
     "sourceType": "kernelVersion"
    },
    {
     "sourceId": 250244223,
     "sourceType": "kernelVersion"
    },
    {
     "sourceId": 250376941,
     "sourceType": "kernelVersion"
    },
    {
     "sourceId": 250442799,
     "sourceType": "kernelVersion"
    }
   ],
   "dockerImageVersionId": 31090,
   "isGpuEnabled": true,
   "isInternetEnabled": false,
   "language": "python",
   "sourceType": "notebook"
  },
  "kernelspec": {
   "display_name": "Python 3",
   "language": "python",
   "name": "python3"
  },
  "language_info": {
   "codemirror_mode": {
    "name": "ipython",
    "version": 3
   },
   "file_extension": ".py",
   "mimetype": "text/x-python",
   "name": "python",
   "nbconvert_exporter": "python",
   "pygments_lexer": "ipython3",
   "version": "3.11.13"
  },
  "papermill": {
   "default_parameters": {},
   "duration": 442.092512,
   "end_time": "2025-08-25T02:24:56.496243",
   "environment_variables": {},
   "exception": null,
   "input_path": "__notebook__.ipynb",
   "output_path": "__notebook__.ipynb",
   "parameters": {},
   "start_time": "2025-08-25T02:17:34.403731",
   "version": "2.6.0"
  },
  "widgets": {
   "application/vnd.jupyter.widget-state+json": {
    "state": {
     "046388e9e1084f908627bdd0f8aa6b6f": {
      "model_module": "@jupyter-widgets/controls",
      "model_module_version": "2.0.0",
      "model_name": "HBoxModel",
      "state": {
       "_dom_classes": [],
       "_model_module": "@jupyter-widgets/controls",
       "_model_module_version": "2.0.0",
       "_model_name": "HBoxModel",
       "_view_count": null,
       "_view_module": "@jupyter-widgets/controls",
       "_view_module_version": "2.0.0",
       "_view_name": "HBoxView",
       "box_style": "",
       "children": [
        "IPY_MODEL_ea5f6d4bac604e5c8e4583fa44c601ea",
        "IPY_MODEL_e57805b1fcdc411fbf133b71a9b457b2",
        "IPY_MODEL_52d325db78134ec281ec6bb740b5eb0b"
       ],
       "layout": "IPY_MODEL_9477efb929b84c24995ba71b12ddca24",
       "tabbable": null,
       "tooltip": null
      }
     },
     "0a3421b83d944a6c8961e4443e835b5a": {
      "model_module": "@jupyter-widgets/controls",
      "model_module_version": "2.0.0",
      "model_name": "HBoxModel",
      "state": {
       "_dom_classes": [],
       "_model_module": "@jupyter-widgets/controls",
       "_model_module_version": "2.0.0",
       "_model_name": "HBoxModel",
       "_view_count": null,
       "_view_module": "@jupyter-widgets/controls",
       "_view_module_version": "2.0.0",
       "_view_name": "HBoxView",
       "box_style": "",
       "children": [
        "IPY_MODEL_234dddc6fa184d149c81de4478f5159c",
        "IPY_MODEL_7e84d1c6bfb04879ae2cc7f485508ece",
        "IPY_MODEL_e7aa30de78644f6887279d6594f4c1e3"
       ],
       "layout": "IPY_MODEL_9d23eacf19964933aa2bf648d7203ab1",
       "tabbable": null,
       "tooltip": null
      }
     },
     "0c0a0d556552447d80d7e2c14abc4350": {
      "model_module": "@jupyter-widgets/controls",
      "model_module_version": "2.0.0",
      "model_name": "HTMLModel",
      "state": {
       "_dom_classes": [],
       "_model_module": "@jupyter-widgets/controls",
       "_model_module_version": "2.0.0",
       "_model_name": "HTMLModel",
       "_view_count": null,
       "_view_module": "@jupyter-widgets/controls",
       "_view_module_version": "2.0.0",
       "_view_name": "HTMLView",
       "description": "",
       "description_allow_html": false,
       "layout": "IPY_MODEL_d514ea38ed21483db7f852d815e05f01",
       "placeholder": "​",
       "style": "IPY_MODEL_5b3b841a111843b085b1dd2b18677144",
       "tabbable": null,
       "tooltip": null,
       "value": "Loading checkpoint shards: 100%"
      }
     },
     "0f8db3f0ee144bae93b93afeeca42831": {
      "model_module": "@jupyter-widgets/controls",
      "model_module_version": "2.0.0",
      "model_name": "ProgressStyleModel",
      "state": {
       "_model_module": "@jupyter-widgets/controls",
       "_model_module_version": "2.0.0",
       "_model_name": "ProgressStyleModel",
       "_view_count": null,
       "_view_module": "@jupyter-widgets/base",
       "_view_module_version": "2.0.0",
       "_view_name": "StyleView",
       "bar_color": null,
       "description_width": ""
      }
     },
     "1b666bb913204c778fbd1391c215a7ab": {
      "model_module": "@jupyter-widgets/base",
      "model_module_version": "2.0.0",
      "model_name": "LayoutModel",
      "state": {
       "_model_module": "@jupyter-widgets/base",
       "_model_module_version": "2.0.0",
       "_model_name": "LayoutModel",
       "_view_count": null,
       "_view_module": "@jupyter-widgets/base",
       "_view_module_version": "2.0.0",
       "_view_name": "LayoutView",
       "align_content": null,
       "align_items": null,
       "align_self": null,
       "border_bottom": null,
       "border_left": null,
       "border_right": null,
       "border_top": null,
       "bottom": null,
       "display": null,
       "flex": null,
       "flex_flow": null,
       "grid_area": null,
       "grid_auto_columns": null,
       "grid_auto_flow": null,
       "grid_auto_rows": null,
       "grid_column": null,
       "grid_gap": null,
       "grid_row": null,
       "grid_template_areas": null,
       "grid_template_columns": null,
       "grid_template_rows": null,
       "height": null,
       "justify_content": null,
       "justify_items": null,
       "left": null,
       "margin": null,
       "max_height": null,
       "max_width": null,
       "min_height": null,
       "min_width": null,
       "object_fit": null,
       "object_position": null,
       "order": null,
       "overflow": null,
       "padding": null,
       "right": null,
       "top": null,
       "visibility": null,
       "width": null
      }
     },
     "1f7e4d70f1664952b50ead11ed9b16d7": {
      "model_module": "@jupyter-widgets/controls",
      "model_module_version": "2.0.0",
      "model_name": "HTMLModel",
      "state": {
       "_dom_classes": [],
       "_model_module": "@jupyter-widgets/controls",
       "_model_module_version": "2.0.0",
       "_model_name": "HTMLModel",
       "_view_count": null,
       "_view_module": "@jupyter-widgets/controls",
       "_view_module_version": "2.0.0",
       "_view_name": "HTMLView",
       "description": "",
       "description_allow_html": false,
       "layout": "IPY_MODEL_79f59c3233c14e48869250fe871de017",
       "placeholder": "​",
       "style": "IPY_MODEL_b81720276c26450e8c7ef02dee256abd",
       "tabbable": null,
       "tooltip": null,
       "value": " 3/3 [00:00&lt;00:00, 165.38 examples/s]"
      }
     },
     "23276eb511894ebebe91983d5c002204": {
      "model_module": "@jupyter-widgets/base",
      "model_module_version": "2.0.0",
      "model_name": "LayoutModel",
      "state": {
       "_model_module": "@jupyter-widgets/base",
       "_model_module_version": "2.0.0",
       "_model_name": "LayoutModel",
       "_view_count": null,
       "_view_module": "@jupyter-widgets/base",
       "_view_module_version": "2.0.0",
       "_view_name": "LayoutView",
       "align_content": null,
       "align_items": null,
       "align_self": null,
       "border_bottom": null,
       "border_left": null,
       "border_right": null,
       "border_top": null,
       "bottom": null,
       "display": null,
       "flex": null,
       "flex_flow": null,
       "grid_area": null,
       "grid_auto_columns": null,
       "grid_auto_flow": null,
       "grid_auto_rows": null,
       "grid_column": null,
       "grid_gap": null,
       "grid_row": null,
       "grid_template_areas": null,
       "grid_template_columns": null,
       "grid_template_rows": null,
       "height": null,
       "justify_content": null,
       "justify_items": null,
       "left": null,
       "margin": null,
       "max_height": null,
       "max_width": null,
       "min_height": null,
       "min_width": null,
       "object_fit": null,
       "object_position": null,
       "order": null,
       "overflow": null,
       "padding": null,
       "right": null,
       "top": null,
       "visibility": null,
       "width": null
      }
     },
     "234dddc6fa184d149c81de4478f5159c": {
      "model_module": "@jupyter-widgets/controls",
      "model_module_version": "2.0.0",
      "model_name": "HTMLModel",
      "state": {
       "_dom_classes": [],
       "_model_module": "@jupyter-widgets/controls",
       "_model_module_version": "2.0.0",
       "_model_name": "HTMLModel",
       "_view_count": null,
       "_view_module": "@jupyter-widgets/controls",
       "_view_module_version": "2.0.0",
       "_view_name": "HTMLView",
       "description": "",
       "description_allow_html": false,
       "layout": "IPY_MODEL_858de23c54c9427b9c66b0ba59d0f305",
       "placeholder": "​",
       "style": "IPY_MODEL_f751df5fc8a140218e1fd413fa0f7ef8",
       "tabbable": null,
       "tooltip": null,
       "value": "Map: 100%"
      }
     },
     "25eebe3fbffe4dca979ef0f7e54ae29d": {
      "model_module": "@jupyter-widgets/controls",
      "model_module_version": "2.0.0",
      "model_name": "FloatProgressModel",
      "state": {
       "_dom_classes": [],
       "_model_module": "@jupyter-widgets/controls",
       "_model_module_version": "2.0.0",
       "_model_name": "FloatProgressModel",
       "_view_count": null,
       "_view_module": "@jupyter-widgets/controls",
       "_view_module_version": "2.0.0",
       "_view_name": "ProgressView",
       "bar_style": "success",
       "description": "",
       "description_allow_html": false,
       "layout": "IPY_MODEL_83979d42c6944b05a2a81295a3530e29",
       "max": 4.0,
       "min": 0.0,
       "orientation": "horizontal",
       "style": "IPY_MODEL_0f8db3f0ee144bae93b93afeeca42831",
       "tabbable": null,
       "tooltip": null,
       "value": 4.0
      }
     },
     "2a564564d2774889a1d13f063833e0b4": {
      "model_module": "@jupyter-widgets/controls",
      "model_module_version": "2.0.0",
      "model_name": "HBoxModel",
      "state": {
       "_dom_classes": [],
       "_model_module": "@jupyter-widgets/controls",
       "_model_module_version": "2.0.0",
       "_model_name": "HBoxModel",
       "_view_count": null,
       "_view_module": "@jupyter-widgets/controls",
       "_view_module_version": "2.0.0",
       "_view_name": "HBoxView",
       "box_style": "",
       "children": [
        "IPY_MODEL_4f7a9ca8911740feb482b30bfe4ae2fb",
        "IPY_MODEL_6eb4aa2065414387bcc1f1cec9e12b85",
        "IPY_MODEL_dc164ef9914f46228fb26e442df2340f"
       ],
       "layout": "IPY_MODEL_23276eb511894ebebe91983d5c002204",
       "tabbable": null,
       "tooltip": null
      }
     },
     "2b204ea337cf421fb9d65bbf6ffb1bd0": {
      "model_module": "@jupyter-widgets/controls",
      "model_module_version": "2.0.0",
      "model_name": "HTMLModel",
      "state": {
       "_dom_classes": [],
       "_model_module": "@jupyter-widgets/controls",
       "_model_module_version": "2.0.0",
       "_model_name": "HTMLModel",
       "_view_count": null,
       "_view_module": "@jupyter-widgets/controls",
       "_view_module_version": "2.0.0",
       "_view_name": "HTMLView",
       "description": "",
       "description_allow_html": false,
       "layout": "IPY_MODEL_544357b145bf403a9db70d0d52515e20",
       "placeholder": "​",
       "style": "IPY_MODEL_6b25de4bf61941b683fdebb4c9deb0c6",
       "tabbable": null,
       "tooltip": null,
       "value": " 3/3 [00:00&lt;00:00, 143.80 examples/s]"
      }
     },
     "2c462e405f9043eba3edffca856faf7f": {
      "model_module": "@jupyter-widgets/controls",
      "model_module_version": "2.0.0",
      "model_name": "HTMLStyleModel",
      "state": {
       "_model_module": "@jupyter-widgets/controls",
       "_model_module_version": "2.0.0",
       "_model_name": "HTMLStyleModel",
       "_view_count": null,
       "_view_module": "@jupyter-widgets/base",
       "_view_module_version": "2.0.0",
       "_view_name": "StyleView",
       "background": null,
       "description_width": "",
       "font_size": null,
       "text_color": null
      }
     },
     "2dd775c5ccb44c5bad9b2752eb16c9d1": {
      "model_module": "@jupyter-widgets/controls",
      "model_module_version": "2.0.0",
      "model_name": "HTMLModel",
      "state": {
       "_dom_classes": [],
       "_model_module": "@jupyter-widgets/controls",
       "_model_module_version": "2.0.0",
       "_model_name": "HTMLModel",
       "_view_count": null,
       "_view_module": "@jupyter-widgets/controls",
       "_view_module_version": "2.0.0",
       "_view_name": "HTMLView",
       "description": "",
       "description_allow_html": false,
       "layout": "IPY_MODEL_4fdbe6e4180547e3869d9a75d0e0d306",
       "placeholder": "​",
       "style": "IPY_MODEL_9b05099203a74739ad347239b1d5d421",
       "tabbable": null,
       "tooltip": null,
       "value": "Map: 100%"
      }
     },
     "31912c810cb845ae9daeed581e87663c": {
      "model_module": "@jupyter-widgets/base",
      "model_module_version": "2.0.0",
      "model_name": "LayoutModel",
      "state": {
       "_model_module": "@jupyter-widgets/base",
       "_model_module_version": "2.0.0",
       "_model_name": "LayoutModel",
       "_view_count": null,
       "_view_module": "@jupyter-widgets/base",
       "_view_module_version": "2.0.0",
       "_view_name": "LayoutView",
       "align_content": null,
       "align_items": null,
       "align_self": null,
       "border_bottom": null,
       "border_left": null,
       "border_right": null,
       "border_top": null,
       "bottom": null,
       "display": null,
       "flex": null,
       "flex_flow": null,
       "grid_area": null,
       "grid_auto_columns": null,
       "grid_auto_flow": null,
       "grid_auto_rows": null,
       "grid_column": null,
       "grid_gap": null,
       "grid_row": null,
       "grid_template_areas": null,
       "grid_template_columns": null,
       "grid_template_rows": null,
       "height": null,
       "justify_content": null,
       "justify_items": null,
       "left": null,
       "margin": null,
       "max_height": null,
       "max_width": null,
       "min_height": null,
       "min_width": null,
       "object_fit": null,
       "object_position": null,
       "order": null,
       "overflow": null,
       "padding": null,
       "right": null,
       "top": null,
       "visibility": null,
       "width": null
      }
     },
     "398f1ed99e8f4773a2fc1cf72b519d99": {
      "model_module": "@jupyter-widgets/base",
      "model_module_version": "2.0.0",
      "model_name": "LayoutModel",
      "state": {
       "_model_module": "@jupyter-widgets/base",
       "_model_module_version": "2.0.0",
       "_model_name": "LayoutModel",
       "_view_count": null,
       "_view_module": "@jupyter-widgets/base",
       "_view_module_version": "2.0.0",
       "_view_name": "LayoutView",
       "align_content": null,
       "align_items": null,
       "align_self": null,
       "border_bottom": null,
       "border_left": null,
       "border_right": null,
       "border_top": null,
       "bottom": null,
       "display": null,
       "flex": null,
       "flex_flow": null,
       "grid_area": null,
       "grid_auto_columns": null,
       "grid_auto_flow": null,
       "grid_auto_rows": null,
       "grid_column": null,
       "grid_gap": null,
       "grid_row": null,
       "grid_template_areas": null,
       "grid_template_columns": null,
       "grid_template_rows": null,
       "height": null,
       "justify_content": null,
       "justify_items": null,
       "left": null,
       "margin": null,
       "max_height": null,
       "max_width": null,
       "min_height": null,
       "min_width": null,
       "object_fit": null,
       "object_position": null,
       "order": null,
       "overflow": null,
       "padding": null,
       "right": null,
       "top": null,
       "visibility": null,
       "width": null
      }
     },
     "3a09dc2425034da0a0de371d7ef1ab39": {
      "model_module": "@jupyter-widgets/base",
      "model_module_version": "2.0.0",
      "model_name": "LayoutModel",
      "state": {
       "_model_module": "@jupyter-widgets/base",
       "_model_module_version": "2.0.0",
       "_model_name": "LayoutModel",
       "_view_count": null,
       "_view_module": "@jupyter-widgets/base",
       "_view_module_version": "2.0.0",
       "_view_name": "LayoutView",
       "align_content": null,
       "align_items": null,
       "align_self": null,
       "border_bottom": null,
       "border_left": null,
       "border_right": null,
       "border_top": null,
       "bottom": null,
       "display": null,
       "flex": null,
       "flex_flow": null,
       "grid_area": null,
       "grid_auto_columns": null,
       "grid_auto_flow": null,
       "grid_auto_rows": null,
       "grid_column": null,
       "grid_gap": null,
       "grid_row": null,
       "grid_template_areas": null,
       "grid_template_columns": null,
       "grid_template_rows": null,
       "height": null,
       "justify_content": null,
       "justify_items": null,
       "left": null,
       "margin": null,
       "max_height": null,
       "max_width": null,
       "min_height": null,
       "min_width": null,
       "object_fit": null,
       "object_position": null,
       "order": null,
       "overflow": null,
       "padding": null,
       "right": null,
       "top": null,
       "visibility": null,
       "width": null
      }
     },
     "453042b6def54218bbd1855baedb11f6": {
      "model_module": "@jupyter-widgets/base",
      "model_module_version": "2.0.0",
      "model_name": "LayoutModel",
      "state": {
       "_model_module": "@jupyter-widgets/base",
       "_model_module_version": "2.0.0",
       "_model_name": "LayoutModel",
       "_view_count": null,
       "_view_module": "@jupyter-widgets/base",
       "_view_module_version": "2.0.0",
       "_view_name": "LayoutView",
       "align_content": null,
       "align_items": null,
       "align_self": null,
       "border_bottom": null,
       "border_left": null,
       "border_right": null,
       "border_top": null,
       "bottom": null,
       "display": null,
       "flex": null,
       "flex_flow": null,
       "grid_area": null,
       "grid_auto_columns": null,
       "grid_auto_flow": null,
       "grid_auto_rows": null,
       "grid_column": null,
       "grid_gap": null,
       "grid_row": null,
       "grid_template_areas": null,
       "grid_template_columns": null,
       "grid_template_rows": null,
       "height": null,
       "justify_content": null,
       "justify_items": null,
       "left": null,
       "margin": null,
       "max_height": null,
       "max_width": null,
       "min_height": null,
       "min_width": null,
       "object_fit": null,
       "object_position": null,
       "order": null,
       "overflow": null,
       "padding": null,
       "right": null,
       "top": null,
       "visibility": null,
       "width": null
      }
     },
     "45af8d1784d84ddb9a36499353bfdc64": {
      "model_module": "@jupyter-widgets/base",
      "model_module_version": "2.0.0",
      "model_name": "LayoutModel",
      "state": {
       "_model_module": "@jupyter-widgets/base",
       "_model_module_version": "2.0.0",
       "_model_name": "LayoutModel",
       "_view_count": null,
       "_view_module": "@jupyter-widgets/base",
       "_view_module_version": "2.0.0",
       "_view_name": "LayoutView",
       "align_content": null,
       "align_items": null,
       "align_self": null,
       "border_bottom": null,
       "border_left": null,
       "border_right": null,
       "border_top": null,
       "bottom": null,
       "display": null,
       "flex": null,
       "flex_flow": null,
       "grid_area": null,
       "grid_auto_columns": null,
       "grid_auto_flow": null,
       "grid_auto_rows": null,
       "grid_column": null,
       "grid_gap": null,
       "grid_row": null,
       "grid_template_areas": null,
       "grid_template_columns": null,
       "grid_template_rows": null,
       "height": null,
       "justify_content": null,
       "justify_items": null,
       "left": null,
       "margin": null,
       "max_height": null,
       "max_width": null,
       "min_height": null,
       "min_width": null,
       "object_fit": null,
       "object_position": null,
       "order": null,
       "overflow": null,
       "padding": null,
       "right": null,
       "top": null,
       "visibility": null,
       "width": null
      }
     },
     "4763c006d6274525a620752cd704bb7e": {
      "model_module": "@jupyter-widgets/controls",
      "model_module_version": "2.0.0",
      "model_name": "HTMLStyleModel",
      "state": {
       "_model_module": "@jupyter-widgets/controls",
       "_model_module_version": "2.0.0",
       "_model_name": "HTMLStyleModel",
       "_view_count": null,
       "_view_module": "@jupyter-widgets/base",
       "_view_module_version": "2.0.0",
       "_view_name": "StyleView",
       "background": null,
       "description_width": "",
       "font_size": null,
       "text_color": null
      }
     },
     "48ec3d574502492d9e327165eb778e16": {
      "model_module": "@jupyter-widgets/controls",
      "model_module_version": "2.0.0",
      "model_name": "HTMLStyleModel",
      "state": {
       "_model_module": "@jupyter-widgets/controls",
       "_model_module_version": "2.0.0",
       "_model_name": "HTMLStyleModel",
       "_view_count": null,
       "_view_module": "@jupyter-widgets/base",
       "_view_module_version": "2.0.0",
       "_view_name": "StyleView",
       "background": null,
       "description_width": "",
       "font_size": null,
       "text_color": null
      }
     },
     "4b463c69f99c4e2685a9cb8c2227de96": {
      "model_module": "@jupyter-widgets/controls",
      "model_module_version": "2.0.0",
      "model_name": "HTMLStyleModel",
      "state": {
       "_model_module": "@jupyter-widgets/controls",
       "_model_module_version": "2.0.0",
       "_model_name": "HTMLStyleModel",
       "_view_count": null,
       "_view_module": "@jupyter-widgets/base",
       "_view_module_version": "2.0.0",
       "_view_name": "StyleView",
       "background": null,
       "description_width": "",
       "font_size": null,
       "text_color": null
      }
     },
     "4cd67c53b3224831aebb7753a5ec914a": {
      "model_module": "@jupyter-widgets/controls",
      "model_module_version": "2.0.0",
      "model_name": "ProgressStyleModel",
      "state": {
       "_model_module": "@jupyter-widgets/controls",
       "_model_module_version": "2.0.0",
       "_model_name": "ProgressStyleModel",
       "_view_count": null,
       "_view_module": "@jupyter-widgets/base",
       "_view_module_version": "2.0.0",
       "_view_name": "StyleView",
       "bar_color": null,
       "description_width": ""
      }
     },
     "4f7a9ca8911740feb482b30bfe4ae2fb": {
      "model_module": "@jupyter-widgets/controls",
      "model_module_version": "2.0.0",
      "model_name": "HTMLModel",
      "state": {
       "_dom_classes": [],
       "_model_module": "@jupyter-widgets/controls",
       "_model_module_version": "2.0.0",
       "_model_name": "HTMLModel",
       "_view_count": null,
       "_view_module": "@jupyter-widgets/controls",
       "_view_module_version": "2.0.0",
       "_view_name": "HTMLView",
       "description": "",
       "description_allow_html": false,
       "layout": "IPY_MODEL_b48cb063487b476aa24b5a898bc14c84",
       "placeholder": "​",
       "style": "IPY_MODEL_4763c006d6274525a620752cd704bb7e",
       "tabbable": null,
       "tooltip": null,
       "value": "Loading checkpoint shards: 100%"
      }
     },
     "4fdbe6e4180547e3869d9a75d0e0d306": {
      "model_module": "@jupyter-widgets/base",
      "model_module_version": "2.0.0",
      "model_name": "LayoutModel",
      "state": {
       "_model_module": "@jupyter-widgets/base",
       "_model_module_version": "2.0.0",
       "_model_name": "LayoutModel",
       "_view_count": null,
       "_view_module": "@jupyter-widgets/base",
       "_view_module_version": "2.0.0",
       "_view_name": "LayoutView",
       "align_content": null,
       "align_items": null,
       "align_self": null,
       "border_bottom": null,
       "border_left": null,
       "border_right": null,
       "border_top": null,
       "bottom": null,
       "display": null,
       "flex": null,
       "flex_flow": null,
       "grid_area": null,
       "grid_auto_columns": null,
       "grid_auto_flow": null,
       "grid_auto_rows": null,
       "grid_column": null,
       "grid_gap": null,
       "grid_row": null,
       "grid_template_areas": null,
       "grid_template_columns": null,
       "grid_template_rows": null,
       "height": null,
       "justify_content": null,
       "justify_items": null,
       "left": null,
       "margin": null,
       "max_height": null,
       "max_width": null,
       "min_height": null,
       "min_width": null,
       "object_fit": null,
       "object_position": null,
       "order": null,
       "overflow": null,
       "padding": null,
       "right": null,
       "top": null,
       "visibility": null,
       "width": null
      }
     },
     "5236cf56144f439789d66ee683cd8c3a": {
      "model_module": "@jupyter-widgets/controls",
      "model_module_version": "2.0.0",
      "model_name": "FloatProgressModel",
      "state": {
       "_dom_classes": [],
       "_model_module": "@jupyter-widgets/controls",
       "_model_module_version": "2.0.0",
       "_model_name": "FloatProgressModel",
       "_view_count": null,
       "_view_module": "@jupyter-widgets/controls",
       "_view_module_version": "2.0.0",
       "_view_name": "ProgressView",
       "bar_style": "success",
       "description": "",
       "description_allow_html": false,
       "layout": "IPY_MODEL_1b666bb913204c778fbd1391c215a7ab",
       "max": 3.0,
       "min": 0.0,
       "orientation": "horizontal",
       "style": "IPY_MODEL_ced23df5e4af46d2b2e3aa11e30b9b1b",
       "tabbable": null,
       "tooltip": null,
       "value": 3.0
      }
     },
     "52d325db78134ec281ec6bb740b5eb0b": {
      "model_module": "@jupyter-widgets/controls",
      "model_module_version": "2.0.0",
      "model_name": "HTMLModel",
      "state": {
       "_dom_classes": [],
       "_model_module": "@jupyter-widgets/controls",
       "_model_module_version": "2.0.0",
       "_model_name": "HTMLModel",
       "_view_count": null,
       "_view_module": "@jupyter-widgets/controls",
       "_view_module_version": "2.0.0",
       "_view_name": "HTMLView",
       "description": "",
       "description_allow_html": false,
       "layout": "IPY_MODEL_45af8d1784d84ddb9a36499353bfdc64",
       "placeholder": "​",
       "style": "IPY_MODEL_aff12945c0224958aad4dc65488fc18d",
       "tabbable": null,
       "tooltip": null,
       "value": " 29356/29356 [00:04&lt;00:00, 7177.67 examples/s]"
      }
     },
     "544357b145bf403a9db70d0d52515e20": {
      "model_module": "@jupyter-widgets/base",
      "model_module_version": "2.0.0",
      "model_name": "LayoutModel",
      "state": {
       "_model_module": "@jupyter-widgets/base",
       "_model_module_version": "2.0.0",
       "_model_name": "LayoutModel",
       "_view_count": null,
       "_view_module": "@jupyter-widgets/base",
       "_view_module_version": "2.0.0",
       "_view_name": "LayoutView",
       "align_content": null,
       "align_items": null,
       "align_self": null,
       "border_bottom": null,
       "border_left": null,
       "border_right": null,
       "border_top": null,
       "bottom": null,
       "display": null,
       "flex": null,
       "flex_flow": null,
       "grid_area": null,
       "grid_auto_columns": null,
       "grid_auto_flow": null,
       "grid_auto_rows": null,
       "grid_column": null,
       "grid_gap": null,
       "grid_row": null,
       "grid_template_areas": null,
       "grid_template_columns": null,
       "grid_template_rows": null,
       "height": null,
       "justify_content": null,
       "justify_items": null,
       "left": null,
       "margin": null,
       "max_height": null,
       "max_width": null,
       "min_height": null,
       "min_width": null,
       "object_fit": null,
       "object_position": null,
       "order": null,
       "overflow": null,
       "padding": null,
       "right": null,
       "top": null,
       "visibility": null,
       "width": null
      }
     },
     "587b697ccf124a3c99c0b1077ee12a0d": {
      "model_module": "@jupyter-widgets/controls",
      "model_module_version": "2.0.0",
      "model_name": "ProgressStyleModel",
      "state": {
       "_model_module": "@jupyter-widgets/controls",
       "_model_module_version": "2.0.0",
       "_model_name": "ProgressStyleModel",
       "_view_count": null,
       "_view_module": "@jupyter-widgets/base",
       "_view_module_version": "2.0.0",
       "_view_name": "StyleView",
       "bar_color": null,
       "description_width": ""
      }
     },
     "5b3b841a111843b085b1dd2b18677144": {
      "model_module": "@jupyter-widgets/controls",
      "model_module_version": "2.0.0",
      "model_name": "HTMLStyleModel",
      "state": {
       "_model_module": "@jupyter-widgets/controls",
       "_model_module_version": "2.0.0",
       "_model_name": "HTMLStyleModel",
       "_view_count": null,
       "_view_module": "@jupyter-widgets/base",
       "_view_module_version": "2.0.0",
       "_view_name": "StyleView",
       "background": null,
       "description_width": "",
       "font_size": null,
       "text_color": null
      }
     },
     "5c40d329c16345daa1719adf6dca152f": {
      "model_module": "@jupyter-widgets/controls",
      "model_module_version": "2.0.0",
      "model_name": "FloatProgressModel",
      "state": {
       "_dom_classes": [],
       "_model_module": "@jupyter-widgets/controls",
       "_model_module_version": "2.0.0",
       "_model_name": "FloatProgressModel",
       "_view_count": null,
       "_view_module": "@jupyter-widgets/controls",
       "_view_module_version": "2.0.0",
       "_view_name": "ProgressView",
       "bar_style": "success",
       "description": "",
       "description_allow_html": false,
       "layout": "IPY_MODEL_6d1359514cb247039f2d4ccc3c6d58e2",
       "max": 3.0,
       "min": 0.0,
       "orientation": "horizontal",
       "style": "IPY_MODEL_4cd67c53b3224831aebb7753a5ec914a",
       "tabbable": null,
       "tooltip": null,
       "value": 3.0
      }
     },
     "60a11991351d4a3e848e19d51571a7d5": {
      "model_module": "@jupyter-widgets/controls",
      "model_module_version": "2.0.0",
      "model_name": "HTMLStyleModel",
      "state": {
       "_model_module": "@jupyter-widgets/controls",
       "_model_module_version": "2.0.0",
       "_model_name": "HTMLStyleModel",
       "_view_count": null,
       "_view_module": "@jupyter-widgets/base",
       "_view_module_version": "2.0.0",
       "_view_name": "StyleView",
       "background": null,
       "description_width": "",
       "font_size": null,
       "text_color": null
      }
     },
     "62ad4d67e3b04540891e101d624723e0": {
      "model_module": "@jupyter-widgets/controls",
      "model_module_version": "2.0.0",
      "model_name": "HBoxModel",
      "state": {
       "_dom_classes": [],
       "_model_module": "@jupyter-widgets/controls",
       "_model_module_version": "2.0.0",
       "_model_name": "HBoxModel",
       "_view_count": null,
       "_view_module": "@jupyter-widgets/controls",
       "_view_module_version": "2.0.0",
       "_view_name": "HBoxView",
       "box_style": "",
       "children": [
        "IPY_MODEL_0c0a0d556552447d80d7e2c14abc4350",
        "IPY_MODEL_25eebe3fbffe4dca979ef0f7e54ae29d",
        "IPY_MODEL_a2bd1bc3a00d4ffab35f2f7e6a589279"
       ],
       "layout": "IPY_MODEL_fad59655f68a41a999ae2db31499956b",
       "tabbable": null,
       "tooltip": null
      }
     },
     "63fc6f6f7017445bb91d108c912f0099": {
      "model_module": "@jupyter-widgets/base",
      "model_module_version": "2.0.0",
      "model_name": "LayoutModel",
      "state": {
       "_model_module": "@jupyter-widgets/base",
       "_model_module_version": "2.0.0",
       "_model_name": "LayoutModel",
       "_view_count": null,
       "_view_module": "@jupyter-widgets/base",
       "_view_module_version": "2.0.0",
       "_view_name": "LayoutView",
       "align_content": null,
       "align_items": null,
       "align_self": null,
       "border_bottom": null,
       "border_left": null,
       "border_right": null,
       "border_top": null,
       "bottom": null,
       "display": null,
       "flex": null,
       "flex_flow": null,
       "grid_area": null,
       "grid_auto_columns": null,
       "grid_auto_flow": null,
       "grid_auto_rows": null,
       "grid_column": null,
       "grid_gap": null,
       "grid_row": null,
       "grid_template_areas": null,
       "grid_template_columns": null,
       "grid_template_rows": null,
       "height": null,
       "justify_content": null,
       "justify_items": null,
       "left": null,
       "margin": null,
       "max_height": null,
       "max_width": null,
       "min_height": null,
       "min_width": null,
       "object_fit": null,
       "object_position": null,
       "order": null,
       "overflow": null,
       "padding": null,
       "right": null,
       "top": null,
       "visibility": null,
       "width": null
      }
     },
     "684334a4301f4ebca77ec97ed8805936": {
      "model_module": "@jupyter-widgets/controls",
      "model_module_version": "2.0.0",
      "model_name": "FloatProgressModel",
      "state": {
       "_dom_classes": [],
       "_model_module": "@jupyter-widgets/controls",
       "_model_module_version": "2.0.0",
       "_model_name": "FloatProgressModel",
       "_view_count": null,
       "_view_module": "@jupyter-widgets/controls",
       "_view_module_version": "2.0.0",
       "_view_name": "ProgressView",
       "bar_style": "success",
       "description": "",
       "description_allow_html": false,
       "layout": "IPY_MODEL_63fc6f6f7017445bb91d108c912f0099",
       "max": 3.0,
       "min": 0.0,
       "orientation": "horizontal",
       "style": "IPY_MODEL_587b697ccf124a3c99c0b1077ee12a0d",
       "tabbable": null,
       "tooltip": null,
       "value": 3.0
      }
     },
     "6b25de4bf61941b683fdebb4c9deb0c6": {
      "model_module": "@jupyter-widgets/controls",
      "model_module_version": "2.0.0",
      "model_name": "HTMLStyleModel",
      "state": {
       "_model_module": "@jupyter-widgets/controls",
       "_model_module_version": "2.0.0",
       "_model_name": "HTMLStyleModel",
       "_view_count": null,
       "_view_module": "@jupyter-widgets/base",
       "_view_module_version": "2.0.0",
       "_view_name": "StyleView",
       "background": null,
       "description_width": "",
       "font_size": null,
       "text_color": null
      }
     },
     "6d1359514cb247039f2d4ccc3c6d58e2": {
      "model_module": "@jupyter-widgets/base",
      "model_module_version": "2.0.0",
      "model_name": "LayoutModel",
      "state": {
       "_model_module": "@jupyter-widgets/base",
       "_model_module_version": "2.0.0",
       "_model_name": "LayoutModel",
       "_view_count": null,
       "_view_module": "@jupyter-widgets/base",
       "_view_module_version": "2.0.0",
       "_view_name": "LayoutView",
       "align_content": null,
       "align_items": null,
       "align_self": null,
       "border_bottom": null,
       "border_left": null,
       "border_right": null,
       "border_top": null,
       "bottom": null,
       "display": null,
       "flex": null,
       "flex_flow": null,
       "grid_area": null,
       "grid_auto_columns": null,
       "grid_auto_flow": null,
       "grid_auto_rows": null,
       "grid_column": null,
       "grid_gap": null,
       "grid_row": null,
       "grid_template_areas": null,
       "grid_template_columns": null,
       "grid_template_rows": null,
       "height": null,
       "justify_content": null,
       "justify_items": null,
       "left": null,
       "margin": null,
       "max_height": null,
       "max_width": null,
       "min_height": null,
       "min_width": null,
       "object_fit": null,
       "object_position": null,
       "order": null,
       "overflow": null,
       "padding": null,
       "right": null,
       "top": null,
       "visibility": null,
       "width": null
      }
     },
     "6d1e28ba214847689e7431d6ad414661": {
      "model_module": "@jupyter-widgets/controls",
      "model_module_version": "2.0.0",
      "model_name": "HBoxModel",
      "state": {
       "_dom_classes": [],
       "_model_module": "@jupyter-widgets/controls",
       "_model_module_version": "2.0.0",
       "_model_name": "HBoxModel",
       "_view_count": null,
       "_view_module": "@jupyter-widgets/controls",
       "_view_module_version": "2.0.0",
       "_view_name": "HBoxView",
       "box_style": "",
       "children": [
        "IPY_MODEL_2dd775c5ccb44c5bad9b2752eb16c9d1",
        "IPY_MODEL_5c40d329c16345daa1719adf6dca152f",
        "IPY_MODEL_cd6859c3d79c4f61a06d0b2e22c41bbc"
       ],
       "layout": "IPY_MODEL_d53c6c1c6ebc466092bcd9e62a37f0df",
       "tabbable": null,
       "tooltip": null
      }
     },
     "6eb4aa2065414387bcc1f1cec9e12b85": {
      "model_module": "@jupyter-widgets/controls",
      "model_module_version": "2.0.0",
      "model_name": "FloatProgressModel",
      "state": {
       "_dom_classes": [],
       "_model_module": "@jupyter-widgets/controls",
       "_model_module_version": "2.0.0",
       "_model_name": "FloatProgressModel",
       "_view_count": null,
       "_view_module": "@jupyter-widgets/controls",
       "_view_module_version": "2.0.0",
       "_view_name": "ProgressView",
       "bar_style": "success",
       "description": "",
       "description_allow_html": false,
       "layout": "IPY_MODEL_453042b6def54218bbd1855baedb11f6",
       "max": 4.0,
       "min": 0.0,
       "orientation": "horizontal",
       "style": "IPY_MODEL_70b78f1715af4491b4f9f57191671c99",
       "tabbable": null,
       "tooltip": null,
       "value": 4.0
      }
     },
     "70b78f1715af4491b4f9f57191671c99": {
      "model_module": "@jupyter-widgets/controls",
      "model_module_version": "2.0.0",
      "model_name": "ProgressStyleModel",
      "state": {
       "_model_module": "@jupyter-widgets/controls",
       "_model_module_version": "2.0.0",
       "_model_name": "ProgressStyleModel",
       "_view_count": null,
       "_view_module": "@jupyter-widgets/base",
       "_view_module_version": "2.0.0",
       "_view_name": "StyleView",
       "bar_color": null,
       "description_width": ""
      }
     },
     "75179da2c1cf4428b562add562246110": {
      "model_module": "@jupyter-widgets/controls",
      "model_module_version": "2.0.0",
      "model_name": "HTMLModel",
      "state": {
       "_dom_classes": [],
       "_model_module": "@jupyter-widgets/controls",
       "_model_module_version": "2.0.0",
       "_model_name": "HTMLModel",
       "_view_count": null,
       "_view_module": "@jupyter-widgets/controls",
       "_view_module_version": "2.0.0",
       "_view_name": "HTMLView",
       "description": "",
       "description_allow_html": false,
       "layout": "IPY_MODEL_d122b6ee7ca84aa088f5f4f07da85f55",
       "placeholder": "​",
       "style": "IPY_MODEL_c85d190674ce432a9ce93eeae278cff7",
       "tabbable": null,
       "tooltip": null,
       "value": "Map: 100%"
      }
     },
     "75b603c53a3c4c8eacf8b593c89f3314": {
      "model_module": "@jupyter-widgets/base",
      "model_module_version": "2.0.0",
      "model_name": "LayoutModel",
      "state": {
       "_model_module": "@jupyter-widgets/base",
       "_model_module_version": "2.0.0",
       "_model_name": "LayoutModel",
       "_view_count": null,
       "_view_module": "@jupyter-widgets/base",
       "_view_module_version": "2.0.0",
       "_view_name": "LayoutView",
       "align_content": null,
       "align_items": null,
       "align_self": null,
       "border_bottom": null,
       "border_left": null,
       "border_right": null,
       "border_top": null,
       "bottom": null,
       "display": null,
       "flex": null,
       "flex_flow": null,
       "grid_area": null,
       "grid_auto_columns": null,
       "grid_auto_flow": null,
       "grid_auto_rows": null,
       "grid_column": null,
       "grid_gap": null,
       "grid_row": null,
       "grid_template_areas": null,
       "grid_template_columns": null,
       "grid_template_rows": null,
       "height": null,
       "justify_content": null,
       "justify_items": null,
       "left": null,
       "margin": null,
       "max_height": null,
       "max_width": null,
       "min_height": null,
       "min_width": null,
       "object_fit": null,
       "object_position": null,
       "order": null,
       "overflow": null,
       "padding": null,
       "right": null,
       "top": null,
       "visibility": null,
       "width": null
      }
     },
     "79f59c3233c14e48869250fe871de017": {
      "model_module": "@jupyter-widgets/base",
      "model_module_version": "2.0.0",
      "model_name": "LayoutModel",
      "state": {
       "_model_module": "@jupyter-widgets/base",
       "_model_module_version": "2.0.0",
       "_model_name": "LayoutModel",
       "_view_count": null,
       "_view_module": "@jupyter-widgets/base",
       "_view_module_version": "2.0.0",
       "_view_name": "LayoutView",
       "align_content": null,
       "align_items": null,
       "align_self": null,
       "border_bottom": null,
       "border_left": null,
       "border_right": null,
       "border_top": null,
       "bottom": null,
       "display": null,
       "flex": null,
       "flex_flow": null,
       "grid_area": null,
       "grid_auto_columns": null,
       "grid_auto_flow": null,
       "grid_auto_rows": null,
       "grid_column": null,
       "grid_gap": null,
       "grid_row": null,
       "grid_template_areas": null,
       "grid_template_columns": null,
       "grid_template_rows": null,
       "height": null,
       "justify_content": null,
       "justify_items": null,
       "left": null,
       "margin": null,
       "max_height": null,
       "max_width": null,
       "min_height": null,
       "min_width": null,
       "object_fit": null,
       "object_position": null,
       "order": null,
       "overflow": null,
       "padding": null,
       "right": null,
       "top": null,
       "visibility": null,
       "width": null
      }
     },
     "7c53fd0233bf440d814d005cc10c6dcd": {
      "model_module": "@jupyter-widgets/controls",
      "model_module_version": "2.0.0",
      "model_name": "FloatProgressModel",
      "state": {
       "_dom_classes": [],
       "_model_module": "@jupyter-widgets/controls",
       "_model_module_version": "2.0.0",
       "_model_name": "FloatProgressModel",
       "_view_count": null,
       "_view_module": "@jupyter-widgets/controls",
       "_view_module_version": "2.0.0",
       "_view_name": "ProgressView",
       "bar_style": "success",
       "description": "",
       "description_allow_html": false,
       "layout": "IPY_MODEL_9f25f42fc40440468f1825d9514b51b1",
       "max": 3.0,
       "min": 0.0,
       "orientation": "horizontal",
       "style": "IPY_MODEL_f6913c973a044d08aed7b83a502426eb",
       "tabbable": null,
       "tooltip": null,
       "value": 3.0
      }
     },
     "7e84d1c6bfb04879ae2cc7f485508ece": {
      "model_module": "@jupyter-widgets/controls",
      "model_module_version": "2.0.0",
      "model_name": "FloatProgressModel",
      "state": {
       "_dom_classes": [],
       "_model_module": "@jupyter-widgets/controls",
       "_model_module_version": "2.0.0",
       "_model_name": "FloatProgressModel",
       "_view_count": null,
       "_view_module": "@jupyter-widgets/controls",
       "_view_module_version": "2.0.0",
       "_view_name": "ProgressView",
       "bar_style": "success",
       "description": "",
       "description_allow_html": false,
       "layout": "IPY_MODEL_31912c810cb845ae9daeed581e87663c",
       "max": 7340.0,
       "min": 0.0,
       "orientation": "horizontal",
       "style": "IPY_MODEL_ccd3511c754e4c90a2da1dc0d78f4ee0",
       "tabbable": null,
       "tooltip": null,
       "value": 7340.0
      }
     },
     "807c54a8f7ad4787b96225f9233b755b": {
      "model_module": "@jupyter-widgets/base",
      "model_module_version": "2.0.0",
      "model_name": "LayoutModel",
      "state": {
       "_model_module": "@jupyter-widgets/base",
       "_model_module_version": "2.0.0",
       "_model_name": "LayoutModel",
       "_view_count": null,
       "_view_module": "@jupyter-widgets/base",
       "_view_module_version": "2.0.0",
       "_view_name": "LayoutView",
       "align_content": null,
       "align_items": null,
       "align_self": null,
       "border_bottom": null,
       "border_left": null,
       "border_right": null,
       "border_top": null,
       "bottom": null,
       "display": null,
       "flex": null,
       "flex_flow": null,
       "grid_area": null,
       "grid_auto_columns": null,
       "grid_auto_flow": null,
       "grid_auto_rows": null,
       "grid_column": null,
       "grid_gap": null,
       "grid_row": null,
       "grid_template_areas": null,
       "grid_template_columns": null,
       "grid_template_rows": null,
       "height": null,
       "justify_content": null,
       "justify_items": null,
       "left": null,
       "margin": null,
       "max_height": null,
       "max_width": null,
       "min_height": null,
       "min_width": null,
       "object_fit": null,
       "object_position": null,
       "order": null,
       "overflow": null,
       "padding": null,
       "right": null,
       "top": null,
       "visibility": null,
       "width": null
      }
     },
     "83979d42c6944b05a2a81295a3530e29": {
      "model_module": "@jupyter-widgets/base",
      "model_module_version": "2.0.0",
      "model_name": "LayoutModel",
      "state": {
       "_model_module": "@jupyter-widgets/base",
       "_model_module_version": "2.0.0",
       "_model_name": "LayoutModel",
       "_view_count": null,
       "_view_module": "@jupyter-widgets/base",
       "_view_module_version": "2.0.0",
       "_view_name": "LayoutView",
       "align_content": null,
       "align_items": null,
       "align_self": null,
       "border_bottom": null,
       "border_left": null,
       "border_right": null,
       "border_top": null,
       "bottom": null,
       "display": null,
       "flex": null,
       "flex_flow": null,
       "grid_area": null,
       "grid_auto_columns": null,
       "grid_auto_flow": null,
       "grid_auto_rows": null,
       "grid_column": null,
       "grid_gap": null,
       "grid_row": null,
       "grid_template_areas": null,
       "grid_template_columns": null,
       "grid_template_rows": null,
       "height": null,
       "justify_content": null,
       "justify_items": null,
       "left": null,
       "margin": null,
       "max_height": null,
       "max_width": null,
       "min_height": null,
       "min_width": null,
       "object_fit": null,
       "object_position": null,
       "order": null,
       "overflow": null,
       "padding": null,
       "right": null,
       "top": null,
       "visibility": null,
       "width": null
      }
     },
     "858de23c54c9427b9c66b0ba59d0f305": {
      "model_module": "@jupyter-widgets/base",
      "model_module_version": "2.0.0",
      "model_name": "LayoutModel",
      "state": {
       "_model_module": "@jupyter-widgets/base",
       "_model_module_version": "2.0.0",
       "_model_name": "LayoutModel",
       "_view_count": null,
       "_view_module": "@jupyter-widgets/base",
       "_view_module_version": "2.0.0",
       "_view_name": "LayoutView",
       "align_content": null,
       "align_items": null,
       "align_self": null,
       "border_bottom": null,
       "border_left": null,
       "border_right": null,
       "border_top": null,
       "bottom": null,
       "display": null,
       "flex": null,
       "flex_flow": null,
       "grid_area": null,
       "grid_auto_columns": null,
       "grid_auto_flow": null,
       "grid_auto_rows": null,
       "grid_column": null,
       "grid_gap": null,
       "grid_row": null,
       "grid_template_areas": null,
       "grid_template_columns": null,
       "grid_template_rows": null,
       "height": null,
       "justify_content": null,
       "justify_items": null,
       "left": null,
       "margin": null,
       "max_height": null,
       "max_width": null,
       "min_height": null,
       "min_width": null,
       "object_fit": null,
       "object_position": null,
       "order": null,
       "overflow": null,
       "padding": null,
       "right": null,
       "top": null,
       "visibility": null,
       "width": null
      }
     },
     "895df9cb24a4493a89075b37c9374f65": {
      "model_module": "@jupyter-widgets/controls",
      "model_module_version": "2.0.0",
      "model_name": "HBoxModel",
      "state": {
       "_dom_classes": [],
       "_model_module": "@jupyter-widgets/controls",
       "_model_module_version": "2.0.0",
       "_model_name": "HBoxModel",
       "_view_count": null,
       "_view_module": "@jupyter-widgets/controls",
       "_view_module_version": "2.0.0",
       "_view_name": "HBoxView",
       "box_style": "",
       "children": [
        "IPY_MODEL_9d9f5d4b303943489fdf704c5c3706ca",
        "IPY_MODEL_7c53fd0233bf440d814d005cc10c6dcd",
        "IPY_MODEL_d74d7a1dc2d546b1a1fc1e363ce6f90b"
       ],
       "layout": "IPY_MODEL_c0282759276d48f59c6a8279458f512b",
       "tabbable": null,
       "tooltip": null
      }
     },
     "8f01c08a7b234fc085020f4dfbcf80c3": {
      "model_module": "@jupyter-widgets/controls",
      "model_module_version": "2.0.0",
      "model_name": "HTMLStyleModel",
      "state": {
       "_model_module": "@jupyter-widgets/controls",
       "_model_module_version": "2.0.0",
       "_model_name": "HTMLStyleModel",
       "_view_count": null,
       "_view_module": "@jupyter-widgets/base",
       "_view_module_version": "2.0.0",
       "_view_name": "StyleView",
       "background": null,
       "description_width": "",
       "font_size": null,
       "text_color": null
      }
     },
     "9477efb929b84c24995ba71b12ddca24": {
      "model_module": "@jupyter-widgets/base",
      "model_module_version": "2.0.0",
      "model_name": "LayoutModel",
      "state": {
       "_model_module": "@jupyter-widgets/base",
       "_model_module_version": "2.0.0",
       "_model_name": "LayoutModel",
       "_view_count": null,
       "_view_module": "@jupyter-widgets/base",
       "_view_module_version": "2.0.0",
       "_view_name": "LayoutView",
       "align_content": null,
       "align_items": null,
       "align_self": null,
       "border_bottom": null,
       "border_left": null,
       "border_right": null,
       "border_top": null,
       "bottom": null,
       "display": null,
       "flex": null,
       "flex_flow": null,
       "grid_area": null,
       "grid_auto_columns": null,
       "grid_auto_flow": null,
       "grid_auto_rows": null,
       "grid_column": null,
       "grid_gap": null,
       "grid_row": null,
       "grid_template_areas": null,
       "grid_template_columns": null,
       "grid_template_rows": null,
       "height": null,
       "justify_content": null,
       "justify_items": null,
       "left": null,
       "margin": null,
       "max_height": null,
       "max_width": null,
       "min_height": null,
       "min_width": null,
       "object_fit": null,
       "object_position": null,
       "order": null,
       "overflow": null,
       "padding": null,
       "right": null,
       "top": null,
       "visibility": null,
       "width": null
      }
     },
     "9b05099203a74739ad347239b1d5d421": {
      "model_module": "@jupyter-widgets/controls",
      "model_module_version": "2.0.0",
      "model_name": "HTMLStyleModel",
      "state": {
       "_model_module": "@jupyter-widgets/controls",
       "_model_module_version": "2.0.0",
       "_model_name": "HTMLStyleModel",
       "_view_count": null,
       "_view_module": "@jupyter-widgets/base",
       "_view_module_version": "2.0.0",
       "_view_name": "StyleView",
       "background": null,
       "description_width": "",
       "font_size": null,
       "text_color": null
      }
     },
     "9d23eacf19964933aa2bf648d7203ab1": {
      "model_module": "@jupyter-widgets/base",
      "model_module_version": "2.0.0",
      "model_name": "LayoutModel",
      "state": {
       "_model_module": "@jupyter-widgets/base",
       "_model_module_version": "2.0.0",
       "_model_name": "LayoutModel",
       "_view_count": null,
       "_view_module": "@jupyter-widgets/base",
       "_view_module_version": "2.0.0",
       "_view_name": "LayoutView",
       "align_content": null,
       "align_items": null,
       "align_self": null,
       "border_bottom": null,
       "border_left": null,
       "border_right": null,
       "border_top": null,
       "bottom": null,
       "display": null,
       "flex": null,
       "flex_flow": null,
       "grid_area": null,
       "grid_auto_columns": null,
       "grid_auto_flow": null,
       "grid_auto_rows": null,
       "grid_column": null,
       "grid_gap": null,
       "grid_row": null,
       "grid_template_areas": null,
       "grid_template_columns": null,
       "grid_template_rows": null,
       "height": null,
       "justify_content": null,
       "justify_items": null,
       "left": null,
       "margin": null,
       "max_height": null,
       "max_width": null,
       "min_height": null,
       "min_width": null,
       "object_fit": null,
       "object_position": null,
       "order": null,
       "overflow": null,
       "padding": null,
       "right": null,
       "top": null,
       "visibility": null,
       "width": null
      }
     },
     "9d9f5d4b303943489fdf704c5c3706ca": {
      "model_module": "@jupyter-widgets/controls",
      "model_module_version": "2.0.0",
      "model_name": "HTMLModel",
      "state": {
       "_dom_classes": [],
       "_model_module": "@jupyter-widgets/controls",
       "_model_module_version": "2.0.0",
       "_model_name": "HTMLModel",
       "_view_count": null,
       "_view_module": "@jupyter-widgets/controls",
       "_view_module_version": "2.0.0",
       "_view_name": "HTMLView",
       "description": "",
       "description_allow_html": false,
       "layout": "IPY_MODEL_c8d3741fbfe24d58b3dce03e98e0f7b5",
       "placeholder": "​",
       "style": "IPY_MODEL_60a11991351d4a3e848e19d51571a7d5",
       "tabbable": null,
       "tooltip": null,
       "value": "Loading checkpoint shards: 100%"
      }
     },
     "9f25f42fc40440468f1825d9514b51b1": {
      "model_module": "@jupyter-widgets/base",
      "model_module_version": "2.0.0",
      "model_name": "LayoutModel",
      "state": {
       "_model_module": "@jupyter-widgets/base",
       "_model_module_version": "2.0.0",
       "_model_name": "LayoutModel",
       "_view_count": null,
       "_view_module": "@jupyter-widgets/base",
       "_view_module_version": "2.0.0",
       "_view_name": "LayoutView",
       "align_content": null,
       "align_items": null,
       "align_self": null,
       "border_bottom": null,
       "border_left": null,
       "border_right": null,
       "border_top": null,
       "bottom": null,
       "display": null,
       "flex": null,
       "flex_flow": null,
       "grid_area": null,
       "grid_auto_columns": null,
       "grid_auto_flow": null,
       "grid_auto_rows": null,
       "grid_column": null,
       "grid_gap": null,
       "grid_row": null,
       "grid_template_areas": null,
       "grid_template_columns": null,
       "grid_template_rows": null,
       "height": null,
       "justify_content": null,
       "justify_items": null,
       "left": null,
       "margin": null,
       "max_height": null,
       "max_width": null,
       "min_height": null,
       "min_width": null,
       "object_fit": null,
       "object_position": null,
       "order": null,
       "overflow": null,
       "padding": null,
       "right": null,
       "top": null,
       "visibility": null,
       "width": null
      }
     },
     "a2a3af807a3d4fb4a5e872aa8d3d8f34": {
      "model_module": "@jupyter-widgets/controls",
      "model_module_version": "2.0.0",
      "model_name": "ProgressStyleModel",
      "state": {
       "_model_module": "@jupyter-widgets/controls",
       "_model_module_version": "2.0.0",
       "_model_name": "ProgressStyleModel",
       "_view_count": null,
       "_view_module": "@jupyter-widgets/base",
       "_view_module_version": "2.0.0",
       "_view_name": "StyleView",
       "bar_color": null,
       "description_width": ""
      }
     },
     "a2bd1bc3a00d4ffab35f2f7e6a589279": {
      "model_module": "@jupyter-widgets/controls",
      "model_module_version": "2.0.0",
      "model_name": "HTMLModel",
      "state": {
       "_dom_classes": [],
       "_model_module": "@jupyter-widgets/controls",
       "_model_module_version": "2.0.0",
       "_model_name": "HTMLModel",
       "_view_count": null,
       "_view_module": "@jupyter-widgets/controls",
       "_view_module_version": "2.0.0",
       "_view_name": "HTMLView",
       "description": "",
       "description_allow_html": false,
       "layout": "IPY_MODEL_d04d586650864edd87f527df1d48c55b",
       "placeholder": "​",
       "style": "IPY_MODEL_fef3238ab2664818b6bb81ff7ca9cc08",
       "tabbable": null,
       "tooltip": null,
       "value": " 4/4 [01:54&lt;00:00, 23.65s/it]"
      }
     },
     "a3e3930d913a444b841a7a020f6168ad": {
      "model_module": "@jupyter-widgets/controls",
      "model_module_version": "2.0.0",
      "model_name": "HBoxModel",
      "state": {
       "_dom_classes": [],
       "_model_module": "@jupyter-widgets/controls",
       "_model_module_version": "2.0.0",
       "_model_name": "HBoxModel",
       "_view_count": null,
       "_view_module": "@jupyter-widgets/controls",
       "_view_module_version": "2.0.0",
       "_view_name": "HBoxView",
       "box_style": "",
       "children": [
        "IPY_MODEL_dc40ecd95a7a44ca85a418288578c02b",
        "IPY_MODEL_5236cf56144f439789d66ee683cd8c3a",
        "IPY_MODEL_1f7e4d70f1664952b50ead11ed9b16d7"
       ],
       "layout": "IPY_MODEL_b612d175398547e7a9fb2ad7e2883814",
       "tabbable": null,
       "tooltip": null
      }
     },
     "a7492ea8c5ef4253b816ad4d2c61efbd": {
      "model_module": "@jupyter-widgets/base",
      "model_module_version": "2.0.0",
      "model_name": "LayoutModel",
      "state": {
       "_model_module": "@jupyter-widgets/base",
       "_model_module_version": "2.0.0",
       "_model_name": "LayoutModel",
       "_view_count": null,
       "_view_module": "@jupyter-widgets/base",
       "_view_module_version": "2.0.0",
       "_view_name": "LayoutView",
       "align_content": null,
       "align_items": null,
       "align_self": null,
       "border_bottom": null,
       "border_left": null,
       "border_right": null,
       "border_top": null,
       "bottom": null,
       "display": null,
       "flex": null,
       "flex_flow": null,
       "grid_area": null,
       "grid_auto_columns": null,
       "grid_auto_flow": null,
       "grid_auto_rows": null,
       "grid_column": null,
       "grid_gap": null,
       "grid_row": null,
       "grid_template_areas": null,
       "grid_template_columns": null,
       "grid_template_rows": null,
       "height": null,
       "justify_content": null,
       "justify_items": null,
       "left": null,
       "margin": null,
       "max_height": null,
       "max_width": null,
       "min_height": null,
       "min_width": null,
       "object_fit": null,
       "object_position": null,
       "order": null,
       "overflow": null,
       "padding": null,
       "right": null,
       "top": null,
       "visibility": null,
       "width": null
      }
     },
     "aff12945c0224958aad4dc65488fc18d": {
      "model_module": "@jupyter-widgets/controls",
      "model_module_version": "2.0.0",
      "model_name": "HTMLStyleModel",
      "state": {
       "_model_module": "@jupyter-widgets/controls",
       "_model_module_version": "2.0.0",
       "_model_name": "HTMLStyleModel",
       "_view_count": null,
       "_view_module": "@jupyter-widgets/base",
       "_view_module_version": "2.0.0",
       "_view_name": "StyleView",
       "background": null,
       "description_width": "",
       "font_size": null,
       "text_color": null
      }
     },
     "b3feabc4d7a84b48bb2015a8feadf3cc": {
      "model_module": "@jupyter-widgets/base",
      "model_module_version": "2.0.0",
      "model_name": "LayoutModel",
      "state": {
       "_model_module": "@jupyter-widgets/base",
       "_model_module_version": "2.0.0",
       "_model_name": "LayoutModel",
       "_view_count": null,
       "_view_module": "@jupyter-widgets/base",
       "_view_module_version": "2.0.0",
       "_view_name": "LayoutView",
       "align_content": null,
       "align_items": null,
       "align_self": null,
       "border_bottom": null,
       "border_left": null,
       "border_right": null,
       "border_top": null,
       "bottom": null,
       "display": null,
       "flex": null,
       "flex_flow": null,
       "grid_area": null,
       "grid_auto_columns": null,
       "grid_auto_flow": null,
       "grid_auto_rows": null,
       "grid_column": null,
       "grid_gap": null,
       "grid_row": null,
       "grid_template_areas": null,
       "grid_template_columns": null,
       "grid_template_rows": null,
       "height": null,
       "justify_content": null,
       "justify_items": null,
       "left": null,
       "margin": null,
       "max_height": null,
       "max_width": null,
       "min_height": null,
       "min_width": null,
       "object_fit": null,
       "object_position": null,
       "order": null,
       "overflow": null,
       "padding": null,
       "right": null,
       "top": null,
       "visibility": null,
       "width": null
      }
     },
     "b48cb063487b476aa24b5a898bc14c84": {
      "model_module": "@jupyter-widgets/base",
      "model_module_version": "2.0.0",
      "model_name": "LayoutModel",
      "state": {
       "_model_module": "@jupyter-widgets/base",
       "_model_module_version": "2.0.0",
       "_model_name": "LayoutModel",
       "_view_count": null,
       "_view_module": "@jupyter-widgets/base",
       "_view_module_version": "2.0.0",
       "_view_name": "LayoutView",
       "align_content": null,
       "align_items": null,
       "align_self": null,
       "border_bottom": null,
       "border_left": null,
       "border_right": null,
       "border_top": null,
       "bottom": null,
       "display": null,
       "flex": null,
       "flex_flow": null,
       "grid_area": null,
       "grid_auto_columns": null,
       "grid_auto_flow": null,
       "grid_auto_rows": null,
       "grid_column": null,
       "grid_gap": null,
       "grid_row": null,
       "grid_template_areas": null,
       "grid_template_columns": null,
       "grid_template_rows": null,
       "height": null,
       "justify_content": null,
       "justify_items": null,
       "left": null,
       "margin": null,
       "max_height": null,
       "max_width": null,
       "min_height": null,
       "min_width": null,
       "object_fit": null,
       "object_position": null,
       "order": null,
       "overflow": null,
       "padding": null,
       "right": null,
       "top": null,
       "visibility": null,
       "width": null
      }
     },
     "b612d175398547e7a9fb2ad7e2883814": {
      "model_module": "@jupyter-widgets/base",
      "model_module_version": "2.0.0",
      "model_name": "LayoutModel",
      "state": {
       "_model_module": "@jupyter-widgets/base",
       "_model_module_version": "2.0.0",
       "_model_name": "LayoutModel",
       "_view_count": null,
       "_view_module": "@jupyter-widgets/base",
       "_view_module_version": "2.0.0",
       "_view_name": "LayoutView",
       "align_content": null,
       "align_items": null,
       "align_self": null,
       "border_bottom": null,
       "border_left": null,
       "border_right": null,
       "border_top": null,
       "bottom": null,
       "display": null,
       "flex": null,
       "flex_flow": null,
       "grid_area": null,
       "grid_auto_columns": null,
       "grid_auto_flow": null,
       "grid_auto_rows": null,
       "grid_column": null,
       "grid_gap": null,
       "grid_row": null,
       "grid_template_areas": null,
       "grid_template_columns": null,
       "grid_template_rows": null,
       "height": null,
       "justify_content": null,
       "justify_items": null,
       "left": null,
       "margin": null,
       "max_height": null,
       "max_width": null,
       "min_height": null,
       "min_width": null,
       "object_fit": null,
       "object_position": null,
       "order": null,
       "overflow": null,
       "padding": null,
       "right": null,
       "top": null,
       "visibility": null,
       "width": null
      }
     },
     "b62d7622da544e1a826f79081562be99": {
      "model_module": "@jupyter-widgets/controls",
      "model_module_version": "2.0.0",
      "model_name": "HBoxModel",
      "state": {
       "_dom_classes": [],
       "_model_module": "@jupyter-widgets/controls",
       "_model_module_version": "2.0.0",
       "_model_name": "HBoxModel",
       "_view_count": null,
       "_view_module": "@jupyter-widgets/controls",
       "_view_module_version": "2.0.0",
       "_view_name": "HBoxView",
       "box_style": "",
       "children": [
        "IPY_MODEL_75179da2c1cf4428b562add562246110",
        "IPY_MODEL_684334a4301f4ebca77ec97ed8805936",
        "IPY_MODEL_2b204ea337cf421fb9d65bbf6ffb1bd0"
       ],
       "layout": "IPY_MODEL_807c54a8f7ad4787b96225f9233b755b",
       "tabbable": null,
       "tooltip": null
      }
     },
     "b7c6da4d95544c2e9218eb82effe70ec": {
      "model_module": "@jupyter-widgets/controls",
      "model_module_version": "2.0.0",
      "model_name": "HTMLStyleModel",
      "state": {
       "_model_module": "@jupyter-widgets/controls",
       "_model_module_version": "2.0.0",
       "_model_name": "HTMLStyleModel",
       "_view_count": null,
       "_view_module": "@jupyter-widgets/base",
       "_view_module_version": "2.0.0",
       "_view_name": "StyleView",
       "background": null,
       "description_width": "",
       "font_size": null,
       "text_color": null
      }
     },
     "b81720276c26450e8c7ef02dee256abd": {
      "model_module": "@jupyter-widgets/controls",
      "model_module_version": "2.0.0",
      "model_name": "HTMLStyleModel",
      "state": {
       "_model_module": "@jupyter-widgets/controls",
       "_model_module_version": "2.0.0",
       "_model_name": "HTMLStyleModel",
       "_view_count": null,
       "_view_module": "@jupyter-widgets/base",
       "_view_module_version": "2.0.0",
       "_view_name": "StyleView",
       "background": null,
       "description_width": "",
       "font_size": null,
       "text_color": null
      }
     },
     "c0282759276d48f59c6a8279458f512b": {
      "model_module": "@jupyter-widgets/base",
      "model_module_version": "2.0.0",
      "model_name": "LayoutModel",
      "state": {
       "_model_module": "@jupyter-widgets/base",
       "_model_module_version": "2.0.0",
       "_model_name": "LayoutModel",
       "_view_count": null,
       "_view_module": "@jupyter-widgets/base",
       "_view_module_version": "2.0.0",
       "_view_name": "LayoutView",
       "align_content": null,
       "align_items": null,
       "align_self": null,
       "border_bottom": null,
       "border_left": null,
       "border_right": null,
       "border_top": null,
       "bottom": null,
       "display": null,
       "flex": null,
       "flex_flow": null,
       "grid_area": null,
       "grid_auto_columns": null,
       "grid_auto_flow": null,
       "grid_auto_rows": null,
       "grid_column": null,
       "grid_gap": null,
       "grid_row": null,
       "grid_template_areas": null,
       "grid_template_columns": null,
       "grid_template_rows": null,
       "height": null,
       "justify_content": null,
       "justify_items": null,
       "left": null,
       "margin": null,
       "max_height": null,
       "max_width": null,
       "min_height": null,
       "min_width": null,
       "object_fit": null,
       "object_position": null,
       "order": null,
       "overflow": null,
       "padding": null,
       "right": null,
       "top": null,
       "visibility": null,
       "width": null
      }
     },
     "c274affe367549a2b35a63d005040f51": {
      "model_module": "@jupyter-widgets/base",
      "model_module_version": "2.0.0",
      "model_name": "LayoutModel",
      "state": {
       "_model_module": "@jupyter-widgets/base",
       "_model_module_version": "2.0.0",
       "_model_name": "LayoutModel",
       "_view_count": null,
       "_view_module": "@jupyter-widgets/base",
       "_view_module_version": "2.0.0",
       "_view_name": "LayoutView",
       "align_content": null,
       "align_items": null,
       "align_self": null,
       "border_bottom": null,
       "border_left": null,
       "border_right": null,
       "border_top": null,
       "bottom": null,
       "display": null,
       "flex": null,
       "flex_flow": null,
       "grid_area": null,
       "grid_auto_columns": null,
       "grid_auto_flow": null,
       "grid_auto_rows": null,
       "grid_column": null,
       "grid_gap": null,
       "grid_row": null,
       "grid_template_areas": null,
       "grid_template_columns": null,
       "grid_template_rows": null,
       "height": null,
       "justify_content": null,
       "justify_items": null,
       "left": null,
       "margin": null,
       "max_height": null,
       "max_width": null,
       "min_height": null,
       "min_width": null,
       "object_fit": null,
       "object_position": null,
       "order": null,
       "overflow": null,
       "padding": null,
       "right": null,
       "top": null,
       "visibility": null,
       "width": null
      }
     },
     "c5e9c685e760446cafe613978a997370": {
      "model_module": "@jupyter-widgets/base",
      "model_module_version": "2.0.0",
      "model_name": "LayoutModel",
      "state": {
       "_model_module": "@jupyter-widgets/base",
       "_model_module_version": "2.0.0",
       "_model_name": "LayoutModel",
       "_view_count": null,
       "_view_module": "@jupyter-widgets/base",
       "_view_module_version": "2.0.0",
       "_view_name": "LayoutView",
       "align_content": null,
       "align_items": null,
       "align_self": null,
       "border_bottom": null,
       "border_left": null,
       "border_right": null,
       "border_top": null,
       "bottom": null,
       "display": null,
       "flex": null,
       "flex_flow": null,
       "grid_area": null,
       "grid_auto_columns": null,
       "grid_auto_flow": null,
       "grid_auto_rows": null,
       "grid_column": null,
       "grid_gap": null,
       "grid_row": null,
       "grid_template_areas": null,
       "grid_template_columns": null,
       "grid_template_rows": null,
       "height": null,
       "justify_content": null,
       "justify_items": null,
       "left": null,
       "margin": null,
       "max_height": null,
       "max_width": null,
       "min_height": null,
       "min_width": null,
       "object_fit": null,
       "object_position": null,
       "order": null,
       "overflow": null,
       "padding": null,
       "right": null,
       "top": null,
       "visibility": null,
       "width": null
      }
     },
     "c85d190674ce432a9ce93eeae278cff7": {
      "model_module": "@jupyter-widgets/controls",
      "model_module_version": "2.0.0",
      "model_name": "HTMLStyleModel",
      "state": {
       "_model_module": "@jupyter-widgets/controls",
       "_model_module_version": "2.0.0",
       "_model_name": "HTMLStyleModel",
       "_view_count": null,
       "_view_module": "@jupyter-widgets/base",
       "_view_module_version": "2.0.0",
       "_view_name": "StyleView",
       "background": null,
       "description_width": "",
       "font_size": null,
       "text_color": null
      }
     },
     "c8d3741fbfe24d58b3dce03e98e0f7b5": {
      "model_module": "@jupyter-widgets/base",
      "model_module_version": "2.0.0",
      "model_name": "LayoutModel",
      "state": {
       "_model_module": "@jupyter-widgets/base",
       "_model_module_version": "2.0.0",
       "_model_name": "LayoutModel",
       "_view_count": null,
       "_view_module": "@jupyter-widgets/base",
       "_view_module_version": "2.0.0",
       "_view_name": "LayoutView",
       "align_content": null,
       "align_items": null,
       "align_self": null,
       "border_bottom": null,
       "border_left": null,
       "border_right": null,
       "border_top": null,
       "bottom": null,
       "display": null,
       "flex": null,
       "flex_flow": null,
       "grid_area": null,
       "grid_auto_columns": null,
       "grid_auto_flow": null,
       "grid_auto_rows": null,
       "grid_column": null,
       "grid_gap": null,
       "grid_row": null,
       "grid_template_areas": null,
       "grid_template_columns": null,
       "grid_template_rows": null,
       "height": null,
       "justify_content": null,
       "justify_items": null,
       "left": null,
       "margin": null,
       "max_height": null,
       "max_width": null,
       "min_height": null,
       "min_width": null,
       "object_fit": null,
       "object_position": null,
       "order": null,
       "overflow": null,
       "padding": null,
       "right": null,
       "top": null,
       "visibility": null,
       "width": null
      }
     },
     "ccd3511c754e4c90a2da1dc0d78f4ee0": {
      "model_module": "@jupyter-widgets/controls",
      "model_module_version": "2.0.0",
      "model_name": "ProgressStyleModel",
      "state": {
       "_model_module": "@jupyter-widgets/controls",
       "_model_module_version": "2.0.0",
       "_model_name": "ProgressStyleModel",
       "_view_count": null,
       "_view_module": "@jupyter-widgets/base",
       "_view_module_version": "2.0.0",
       "_view_name": "StyleView",
       "bar_color": null,
       "description_width": ""
      }
     },
     "cd6859c3d79c4f61a06d0b2e22c41bbc": {
      "model_module": "@jupyter-widgets/controls",
      "model_module_version": "2.0.0",
      "model_name": "HTMLModel",
      "state": {
       "_dom_classes": [],
       "_model_module": "@jupyter-widgets/controls",
       "_model_module_version": "2.0.0",
       "_model_name": "HTMLModel",
       "_view_count": null,
       "_view_module": "@jupyter-widgets/controls",
       "_view_module_version": "2.0.0",
       "_view_name": "HTMLView",
       "description": "",
       "description_allow_html": false,
       "layout": "IPY_MODEL_75b603c53a3c4c8eacf8b593c89f3314",
       "placeholder": "​",
       "style": "IPY_MODEL_8f01c08a7b234fc085020f4dfbcf80c3",
       "tabbable": null,
       "tooltip": null,
       "value": " 3/3 [00:00&lt;00:00, 203.45 examples/s]"
      }
     },
     "ced23df5e4af46d2b2e3aa11e30b9b1b": {
      "model_module": "@jupyter-widgets/controls",
      "model_module_version": "2.0.0",
      "model_name": "ProgressStyleModel",
      "state": {
       "_model_module": "@jupyter-widgets/controls",
       "_model_module_version": "2.0.0",
       "_model_name": "ProgressStyleModel",
       "_view_count": null,
       "_view_module": "@jupyter-widgets/base",
       "_view_module_version": "2.0.0",
       "_view_name": "StyleView",
       "bar_color": null,
       "description_width": ""
      }
     },
     "d04d586650864edd87f527df1d48c55b": {
      "model_module": "@jupyter-widgets/base",
      "model_module_version": "2.0.0",
      "model_name": "LayoutModel",
      "state": {
       "_model_module": "@jupyter-widgets/base",
       "_model_module_version": "2.0.0",
       "_model_name": "LayoutModel",
       "_view_count": null,
       "_view_module": "@jupyter-widgets/base",
       "_view_module_version": "2.0.0",
       "_view_name": "LayoutView",
       "align_content": null,
       "align_items": null,
       "align_self": null,
       "border_bottom": null,
       "border_left": null,
       "border_right": null,
       "border_top": null,
       "bottom": null,
       "display": null,
       "flex": null,
       "flex_flow": null,
       "grid_area": null,
       "grid_auto_columns": null,
       "grid_auto_flow": null,
       "grid_auto_rows": null,
       "grid_column": null,
       "grid_gap": null,
       "grid_row": null,
       "grid_template_areas": null,
       "grid_template_columns": null,
       "grid_template_rows": null,
       "height": null,
       "justify_content": null,
       "justify_items": null,
       "left": null,
       "margin": null,
       "max_height": null,
       "max_width": null,
       "min_height": null,
       "min_width": null,
       "object_fit": null,
       "object_position": null,
       "order": null,
       "overflow": null,
       "padding": null,
       "right": null,
       "top": null,
       "visibility": null,
       "width": null
      }
     },
     "d122b6ee7ca84aa088f5f4f07da85f55": {
      "model_module": "@jupyter-widgets/base",
      "model_module_version": "2.0.0",
      "model_name": "LayoutModel",
      "state": {
       "_model_module": "@jupyter-widgets/base",
       "_model_module_version": "2.0.0",
       "_model_name": "LayoutModel",
       "_view_count": null,
       "_view_module": "@jupyter-widgets/base",
       "_view_module_version": "2.0.0",
       "_view_name": "LayoutView",
       "align_content": null,
       "align_items": null,
       "align_self": null,
       "border_bottom": null,
       "border_left": null,
       "border_right": null,
       "border_top": null,
       "bottom": null,
       "display": null,
       "flex": null,
       "flex_flow": null,
       "grid_area": null,
       "grid_auto_columns": null,
       "grid_auto_flow": null,
       "grid_auto_rows": null,
       "grid_column": null,
       "grid_gap": null,
       "grid_row": null,
       "grid_template_areas": null,
       "grid_template_columns": null,
       "grid_template_rows": null,
       "height": null,
       "justify_content": null,
       "justify_items": null,
       "left": null,
       "margin": null,
       "max_height": null,
       "max_width": null,
       "min_height": null,
       "min_width": null,
       "object_fit": null,
       "object_position": null,
       "order": null,
       "overflow": null,
       "padding": null,
       "right": null,
       "top": null,
       "visibility": null,
       "width": null
      }
     },
     "d514ea38ed21483db7f852d815e05f01": {
      "model_module": "@jupyter-widgets/base",
      "model_module_version": "2.0.0",
      "model_name": "LayoutModel",
      "state": {
       "_model_module": "@jupyter-widgets/base",
       "_model_module_version": "2.0.0",
       "_model_name": "LayoutModel",
       "_view_count": null,
       "_view_module": "@jupyter-widgets/base",
       "_view_module_version": "2.0.0",
       "_view_name": "LayoutView",
       "align_content": null,
       "align_items": null,
       "align_self": null,
       "border_bottom": null,
       "border_left": null,
       "border_right": null,
       "border_top": null,
       "bottom": null,
       "display": null,
       "flex": null,
       "flex_flow": null,
       "grid_area": null,
       "grid_auto_columns": null,
       "grid_auto_flow": null,
       "grid_auto_rows": null,
       "grid_column": null,
       "grid_gap": null,
       "grid_row": null,
       "grid_template_areas": null,
       "grid_template_columns": null,
       "grid_template_rows": null,
       "height": null,
       "justify_content": null,
       "justify_items": null,
       "left": null,
       "margin": null,
       "max_height": null,
       "max_width": null,
       "min_height": null,
       "min_width": null,
       "object_fit": null,
       "object_position": null,
       "order": null,
       "overflow": null,
       "padding": null,
       "right": null,
       "top": null,
       "visibility": null,
       "width": null
      }
     },
     "d53c6c1c6ebc466092bcd9e62a37f0df": {
      "model_module": "@jupyter-widgets/base",
      "model_module_version": "2.0.0",
      "model_name": "LayoutModel",
      "state": {
       "_model_module": "@jupyter-widgets/base",
       "_model_module_version": "2.0.0",
       "_model_name": "LayoutModel",
       "_view_count": null,
       "_view_module": "@jupyter-widgets/base",
       "_view_module_version": "2.0.0",
       "_view_name": "LayoutView",
       "align_content": null,
       "align_items": null,
       "align_self": null,
       "border_bottom": null,
       "border_left": null,
       "border_right": null,
       "border_top": null,
       "bottom": null,
       "display": null,
       "flex": null,
       "flex_flow": null,
       "grid_area": null,
       "grid_auto_columns": null,
       "grid_auto_flow": null,
       "grid_auto_rows": null,
       "grid_column": null,
       "grid_gap": null,
       "grid_row": null,
       "grid_template_areas": null,
       "grid_template_columns": null,
       "grid_template_rows": null,
       "height": null,
       "justify_content": null,
       "justify_items": null,
       "left": null,
       "margin": null,
       "max_height": null,
       "max_width": null,
       "min_height": null,
       "min_width": null,
       "object_fit": null,
       "object_position": null,
       "order": null,
       "overflow": null,
       "padding": null,
       "right": null,
       "top": null,
       "visibility": null,
       "width": null
      }
     },
     "d74d7a1dc2d546b1a1fc1e363ce6f90b": {
      "model_module": "@jupyter-widgets/controls",
      "model_module_version": "2.0.0",
      "model_name": "HTMLModel",
      "state": {
       "_dom_classes": [],
       "_model_module": "@jupyter-widgets/controls",
       "_model_module_version": "2.0.0",
       "_model_name": "HTMLModel",
       "_view_count": null,
       "_view_module": "@jupyter-widgets/controls",
       "_view_module_version": "2.0.0",
       "_view_name": "HTMLView",
       "description": "",
       "description_allow_html": false,
       "layout": "IPY_MODEL_c5e9c685e760446cafe613978a997370",
       "placeholder": "​",
       "style": "IPY_MODEL_b7c6da4d95544c2e9218eb82effe70ec",
       "tabbable": null,
       "tooltip": null,
       "value": " 3/3 [01:38&lt;00:00, 30.33s/it]"
      }
     },
     "dc164ef9914f46228fb26e442df2340f": {
      "model_module": "@jupyter-widgets/controls",
      "model_module_version": "2.0.0",
      "model_name": "HTMLModel",
      "state": {
       "_dom_classes": [],
       "_model_module": "@jupyter-widgets/controls",
       "_model_module_version": "2.0.0",
       "_model_name": "HTMLModel",
       "_view_count": null,
       "_view_module": "@jupyter-widgets/controls",
       "_view_module_version": "2.0.0",
       "_view_name": "HTMLView",
       "description": "",
       "description_allow_html": false,
       "layout": "IPY_MODEL_3a09dc2425034da0a0de371d7ef1ab39",
       "placeholder": "​",
       "style": "IPY_MODEL_2c462e405f9043eba3edffca856faf7f",
       "tabbable": null,
       "tooltip": null,
       "value": " 4/4 [02:22&lt;00:00, 33.88s/it]"
      }
     },
     "dc40ecd95a7a44ca85a418288578c02b": {
      "model_module": "@jupyter-widgets/controls",
      "model_module_version": "2.0.0",
      "model_name": "HTMLModel",
      "state": {
       "_dom_classes": [],
       "_model_module": "@jupyter-widgets/controls",
       "_model_module_version": "2.0.0",
       "_model_name": "HTMLModel",
       "_view_count": null,
       "_view_module": "@jupyter-widgets/controls",
       "_view_module_version": "2.0.0",
       "_view_name": "HTMLView",
       "description": "",
       "description_allow_html": false,
       "layout": "IPY_MODEL_c274affe367549a2b35a63d005040f51",
       "placeholder": "​",
       "style": "IPY_MODEL_f1f8b9bccc0347bb8ae18693f42562b0",
       "tabbable": null,
       "tooltip": null,
       "value": "Map: 100%"
      }
     },
     "e57805b1fcdc411fbf133b71a9b457b2": {
      "model_module": "@jupyter-widgets/controls",
      "model_module_version": "2.0.0",
      "model_name": "FloatProgressModel",
      "state": {
       "_dom_classes": [],
       "_model_module": "@jupyter-widgets/controls",
       "_model_module_version": "2.0.0",
       "_model_name": "FloatProgressModel",
       "_view_count": null,
       "_view_module": "@jupyter-widgets/controls",
       "_view_module_version": "2.0.0",
       "_view_name": "ProgressView",
       "bar_style": "success",
       "description": "",
       "description_allow_html": false,
       "layout": "IPY_MODEL_b3feabc4d7a84b48bb2015a8feadf3cc",
       "max": 29356.0,
       "min": 0.0,
       "orientation": "horizontal",
       "style": "IPY_MODEL_a2a3af807a3d4fb4a5e872aa8d3d8f34",
       "tabbable": null,
       "tooltip": null,
       "value": 29356.0
      }
     },
     "e7aa30de78644f6887279d6594f4c1e3": {
      "model_module": "@jupyter-widgets/controls",
      "model_module_version": "2.0.0",
      "model_name": "HTMLModel",
      "state": {
       "_dom_classes": [],
       "_model_module": "@jupyter-widgets/controls",
       "_model_module_version": "2.0.0",
       "_model_name": "HTMLModel",
       "_view_count": null,
       "_view_module": "@jupyter-widgets/controls",
       "_view_module_version": "2.0.0",
       "_view_name": "HTMLView",
       "description": "",
       "description_allow_html": false,
       "layout": "IPY_MODEL_398f1ed99e8f4773a2fc1cf72b519d99",
       "placeholder": "​",
       "style": "IPY_MODEL_4b463c69f99c4e2685a9cb8c2227de96",
       "tabbable": null,
       "tooltip": null,
       "value": " 7340/7340 [00:01&lt;00:00, 5829.09 examples/s]"
      }
     },
     "ea5f6d4bac604e5c8e4583fa44c601ea": {
      "model_module": "@jupyter-widgets/controls",
      "model_module_version": "2.0.0",
      "model_name": "HTMLModel",
      "state": {
       "_dom_classes": [],
       "_model_module": "@jupyter-widgets/controls",
       "_model_module_version": "2.0.0",
       "_model_name": "HTMLModel",
       "_view_count": null,
       "_view_module": "@jupyter-widgets/controls",
       "_view_module_version": "2.0.0",
       "_view_name": "HTMLView",
       "description": "",
       "description_allow_html": false,
       "layout": "IPY_MODEL_a7492ea8c5ef4253b816ad4d2c61efbd",
       "placeholder": "​",
       "style": "IPY_MODEL_48ec3d574502492d9e327165eb778e16",
       "tabbable": null,
       "tooltip": null,
       "value": "Map: 100%"
      }
     },
     "f1f8b9bccc0347bb8ae18693f42562b0": {
      "model_module": "@jupyter-widgets/controls",
      "model_module_version": "2.0.0",
      "model_name": "HTMLStyleModel",
      "state": {
       "_model_module": "@jupyter-widgets/controls",
       "_model_module_version": "2.0.0",
       "_model_name": "HTMLStyleModel",
       "_view_count": null,
       "_view_module": "@jupyter-widgets/base",
       "_view_module_version": "2.0.0",
       "_view_name": "StyleView",
       "background": null,
       "description_width": "",
       "font_size": null,
       "text_color": null
      }
     },
     "f6913c973a044d08aed7b83a502426eb": {
      "model_module": "@jupyter-widgets/controls",
      "model_module_version": "2.0.0",
      "model_name": "ProgressStyleModel",
      "state": {
       "_model_module": "@jupyter-widgets/controls",
       "_model_module_version": "2.0.0",
       "_model_name": "ProgressStyleModel",
       "_view_count": null,
       "_view_module": "@jupyter-widgets/base",
       "_view_module_version": "2.0.0",
       "_view_name": "StyleView",
       "bar_color": null,
       "description_width": ""
      }
     },
     "f751df5fc8a140218e1fd413fa0f7ef8": {
      "model_module": "@jupyter-widgets/controls",
      "model_module_version": "2.0.0",
      "model_name": "HTMLStyleModel",
      "state": {
       "_model_module": "@jupyter-widgets/controls",
       "_model_module_version": "2.0.0",
       "_model_name": "HTMLStyleModel",
       "_view_count": null,
       "_view_module": "@jupyter-widgets/base",
       "_view_module_version": "2.0.0",
       "_view_name": "StyleView",
       "background": null,
       "description_width": "",
       "font_size": null,
       "text_color": null
      }
     },
     "fad59655f68a41a999ae2db31499956b": {
      "model_module": "@jupyter-widgets/base",
      "model_module_version": "2.0.0",
      "model_name": "LayoutModel",
      "state": {
       "_model_module": "@jupyter-widgets/base",
       "_model_module_version": "2.0.0",
       "_model_name": "LayoutModel",
       "_view_count": null,
       "_view_module": "@jupyter-widgets/base",
       "_view_module_version": "2.0.0",
       "_view_name": "LayoutView",
       "align_content": null,
       "align_items": null,
       "align_self": null,
       "border_bottom": null,
       "border_left": null,
       "border_right": null,
       "border_top": null,
       "bottom": null,
       "display": null,
       "flex": null,
       "flex_flow": null,
       "grid_area": null,
       "grid_auto_columns": null,
       "grid_auto_flow": null,
       "grid_auto_rows": null,
       "grid_column": null,
       "grid_gap": null,
       "grid_row": null,
       "grid_template_areas": null,
       "grid_template_columns": null,
       "grid_template_rows": null,
       "height": null,
       "justify_content": null,
       "justify_items": null,
       "left": null,
       "margin": null,
       "max_height": null,
       "max_width": null,
       "min_height": null,
       "min_width": null,
       "object_fit": null,
       "object_position": null,
       "order": null,
       "overflow": null,
       "padding": null,
       "right": null,
       "top": null,
       "visibility": null,
       "width": null
      }
     },
     "fef3238ab2664818b6bb81ff7ca9cc08": {
      "model_module": "@jupyter-widgets/controls",
      "model_module_version": "2.0.0",
      "model_name": "HTMLStyleModel",
      "state": {
       "_model_module": "@jupyter-widgets/controls",
       "_model_module_version": "2.0.0",
       "_model_name": "HTMLStyleModel",
       "_view_count": null,
       "_view_module": "@jupyter-widgets/base",
       "_view_module_version": "2.0.0",
       "_view_name": "StyleView",
       "background": null,
       "description_width": "",
       "font_size": null,
       "text_color": null
      }
     }
    },
    "version_major": 2,
    "version_minor": 0
   }
  }
 },
 "nbformat": 4,
 "nbformat_minor": 5
}
