{
 "cells": [
  {
   "cell_type": "markdown",
   "id": "db692c59",
   "metadata": {
    "_cell_guid": "b1076dfc-b9ad-4769-8c92-a6c4dae69d19",
    "_uuid": "8f2839f25d086af736a60e9eeb907d3b93b6e0e5",
    "papermill": {
     "duration": 0.008316,
     "end_time": "2025-09-07T09:33:21.116625",
     "exception": false,
     "start_time": "2025-09-07T09:33:21.108309",
     "status": "completed"
    },
    "tags": []
   },
   "source": [
    "# MAP@3 - Deepseekmath-7b-It [TPU Training]\n",
    "\n",
    "In this notebook we train deepseekmath-7b-it in bf16 for 2 epochs. The competition requires heavy compute resources, and Kaggle/Collab provides free TPU. So, we try here to use them. Since 4-8 bit quantization isn't supported on Kaggle TPUs, we'll train in bf16/fp16 precision using model parallelism to fit larger models. We take \n",
    "\n",
    "We're using **Deepseekmath-7b-It** here, but you can swap in any model that fits the memory constraints. The key is efficient TPU utilization and proper sharding.\n",
    "\n",
    "**Note:** This is a training-only notebook. Inference and submission will be separate.\n",
    "\n",
    "---\n",
    "\n",
    "### TPU Configuration Overview\n",
    "TPU v3-8 has 8GB memory per core (64GB total). A 7B model in fp16 needs ~14GB, so we use SPMD (Single Program Multiple Data) to shard the model across cores.\n",
    "\n",
    "**Sharding Strategy:**\n",
    "- Attention layers: Split across model parallel dimension\n",
    "- FFN layers: Split to balance compute and memory\n",
    "- Embeddings: Replicated for efficiency\n",
    "\n",
    "---\n",
    "\n",
    "### Training Hyperparameters\n",
    "Key settings optimized for TPU v3-8 and competition metric:\n",
    "- **Learning rate**: 2e-4 with cosine warmup schedule, usually high lr works well for lora.\n",
    "- **Batch size**: 8 (you can try high with grad accum).\n",
    "\n",
    "and more see CFG\n",
    "\n",
    "I have kept configs like hf trainer, and it's all open configurable and so feel free to tweak. \n",
    "\n",
    "Upvote if you find this helpful or learned something!"
   ]
  },
  {
   "cell_type": "markdown",
   "id": "65408215",
   "metadata": {
    "papermill": {
     "duration": 0.00648,
     "end_time": "2025-09-07T09:33:21.129867",
     "exception": false,
     "start_time": "2025-09-07T09:33:21.123387",
     "status": "completed"
    },
    "tags": []
   },
   "source": [
    "# Import libs \n",
    "\n",
    "Install tpu specific and then import "
   ]
  },
  {
   "cell_type": "code",
   "execution_count": 1,
   "id": "912d3e1a",
   "metadata": {
    "execution": {
     "iopub.execute_input": "2025-09-07T09:33:21.144234Z",
     "iopub.status.busy": "2025-09-07T09:33:21.143568Z",
     "iopub.status.idle": "2025-09-07T09:38:12.377106Z",
     "shell.execute_reply": "2025-09-07T09:38:12.375953Z"
    },
    "papermill": {
     "duration": 291.243318,
     "end_time": "2025-09-07T09:38:12.379611",
     "exception": false,
     "start_time": "2025-09-07T09:33:21.136293",
     "status": "completed"
    },
    "tags": []
   },
   "outputs": [
    {
     "name": "stdout",
     "output_type": "stream",
     "text": [
      "\u001b[31mERROR: pip's dependency resolver does not currently take into account all the packages that are installed. This behaviour is the source of the following dependency conflicts.\r\n",
      "torchvision 0.18.0 requires torch==2.3.0, but you have torch 2.6.0 which is incompatible.\r\n",
      "torchaudio 2.3.0 requires torch==2.3.0, but you have torch 2.6.0 which is incompatible.\u001b[0m\u001b[31m\r\n",
      "\u001b[0m"
     ]
    }
   ],
   "source": [
    "# Install libs, run once and then comment\n",
    "!pip uninstall -qq tensorflow -y\n",
    "!pip install -qq transformers==4.41.2\n",
    "!pip install -qq accelerate==1.10.1 #not required for tpu runtime, keeping to not have transformer dependency problem\n",
    "!pip install -qq peft==0.10.0\n",
    "!pip install -qq torch==2.6.0\n",
    "!pip install -qq 'torch_xla[tpu]==2.6.0' -f https://storage.googleapis.com/libtpu-releases/index.html"
   ]
  },
  {
   "cell_type": "code",
   "execution_count": 2,
   "id": "dca8f5ba",
   "metadata": {
    "execution": {
     "iopub.execute_input": "2025-09-07T09:38:12.395757Z",
     "iopub.status.busy": "2025-09-07T09:38:12.395473Z",
     "iopub.status.idle": "2025-09-07T09:38:41.705011Z",
     "shell.execute_reply": "2025-09-07T09:38:41.704072Z"
    },
    "papermill": {
     "duration": 29.319985,
     "end_time": "2025-09-07T09:38:41.706912",
     "exception": false,
     "start_time": "2025-09-07T09:38:12.386927",
     "status": "completed"
    },
    "tags": []
   },
   "outputs": [
    {
     "name": "stderr",
     "output_type": "stream",
     "text": [
      "/usr/local/lib/python3.10/site-packages/tqdm/auto.py:21: TqdmWarning: IProgress not found. Please update jupyter and ipywidgets. See https://ipywidgets.readthedocs.io/en/stable/user_install.html\n",
      "  from .autonotebook import tqdm as notebook_tqdm\n"
     ]
    },
    {
     "name": "stderr",
     "output_type": "stream",
     "text": [
      "/usr/local/lib/python3.10/site-packages/torch/utils/_pytree.py:185: FutureWarning: optree is installed but the version is too old to support PyTorch Dynamo in C++ pytree. C++ pytree support is disabled. Please consider upgrading optree using `python3 -m pip install --upgrade 'optree>=0.13.0'`.\n",
      "  warnings.warn(\n"
     ]
    },
    {
     "name": "stderr",
     "output_type": "stream",
     "text": [
      "/usr/local/lib/python3.10/site-packages/torch/utils/_pytree.py:185: FutureWarning: optree is installed but the version is too old to support PyTorch Dynamo in C++ pytree. C++ pytree support is disabled. Please consider upgrading optree using `python3 -m pip install --upgrade 'optree>=0.13.0'`.\n",
      "  warnings.warn(\n"
     ]
    },
    {
     "name": "stdout",
     "output_type": "stream",
     "text": [
      "Torch Version: 2.6.0+cu124\n"
     ]
    }
   ],
   "source": [
    "import os\n",
    "import gc\n",
    "import re\n",
    "from time import time\n",
    "import random\n",
    "import warnings\n",
    "import numpy as np\n",
    "import pandas as pd\n",
    "import matplotlib.pyplot as plt\n",
    "from tqdm.auto import tqdm\n",
    "from sklearn.preprocessing import LabelEncoder\n",
    "import time\n",
    "import os\n",
    "import glob\n",
    "from tqdm.auto import tqdm\n",
    "\n",
    "import torch\n",
    "from sklearn.model_selection import train_test_split\n",
    "\n",
    "from transformers import (AutoTokenizer, AutoModelForSequenceClassification,\n",
    "                        AutoTokenizer, Qwen2Config, get_cosine_schedule_with_warmup)\n",
    "from transformers import LlamaConfig  # Import LlamaConfig for DeepSeek\n",
    "from peft import  PeftModel,  get_peft_model, LoraConfig, TaskType\n",
    "import torch.nn.functional as F\n",
    "from IPython.display import display, Math, Latex\n",
    "\n",
    "# import torch_xla.debug.profiler as xp\n",
    "import torch_xla.core.xla_model as xm\n",
    "import torch_xla.runtime as xr\n",
    "\n",
    "xr.use_spmd()\n",
    "import torch_xla.distributed.spmd as xs\n",
    "from torch.optim import AdamW\n",
    "from torch_xla.distributed.spmd import Mesh\n",
    "\n",
    "import torch.nn as nn\n",
    "import re\n",
    "tqdm.pandas()\n",
    "\n",
    "print(f'Torch Version: {torch.__version__}')"
   ]
  },
  {
   "cell_type": "markdown",
   "id": "028b12b5",
   "metadata": {
    "papermill": {
     "duration": 0.006494,
     "end_time": "2025-09-07T09:38:41.720435",
     "exception": false,
     "start_time": "2025-09-07T09:38:41.713941",
     "status": "completed"
    },
    "tags": []
   },
   "source": [
    "# Configs\n",
    "Tweak and optimize."
   ]
  },
  {
   "cell_type": "code",
   "execution_count": 3,
   "id": "5aee6e5b",
   "metadata": {
    "execution": {
     "iopub.execute_input": "2025-09-07T09:38:41.735881Z",
     "iopub.status.busy": "2025-09-07T09:38:41.735369Z",
     "iopub.status.idle": "2025-09-07T09:38:41.741961Z",
     "shell.execute_reply": "2025-09-07T09:38:41.741040Z"
    },
    "papermill": {
     "duration": 0.016477,
     "end_time": "2025-09-07T09:38:41.743652",
     "exception": false,
     "start_time": "2025-09-07T09:38:41.727175",
     "status": "completed"
    },
    "tags": []
   },
   "outputs": [],
   "source": [
    "class CFG:\n",
    "    SEED = 42 \n",
    "    MODEL_NAME = '/kaggle/input/deepseek-math-7b-instruct/transformers/main/1'\n",
    "    NUM_EPOCHS = 2\n",
    "    BATCH_SIZE = 8\n",
    "    EVAL_BATCH_SIZE = 8\n",
    "     \n",
    "    MAX_LENGTH = 256\n",
    "    WARMUP_RATIO = 0.1\n",
    "    LR = 2e-4 #lora likes high\n",
    "    \n",
    "    # Lora configs\n",
    "    NUM_LABELS = 65 \n",
    "    LORA_RANK = 8\n",
    "    LORA_ALPHA = 16\n",
    "    DROPOUT = 0.05\n",
    "    LORA_MODULES = [\"q_proj\",\"k_proj\",\"v_proj\",\"o_proj\",\"gate_proj\",\"up_proj\",\"down_proj\"] \n",
    "    \n",
    "    # Gradient accumulation\n",
    "    GRADACCUM = 1\n",
    "    \n",
    "    # Evaluation strategy\n",
    "    VAL_SPLIT = 0.1\n",
    "    EVAL_STRATEGY = \"steps\"  # \"epoch\", \"steps\", \"no\"\n",
    "    EVAL_STEPS = 2000  # Only used if EVAL_STRATEGY = \"steps\"\n",
    "    \n",
    "    # Save strategy  \n",
    "    SAVE_STRATEGY = \"epoch\"  # \"epoch\", \"steps\", \"no\"\n",
    "    SAVE_STEPS = 1000  # Only used if SAVE_STRATEGY = \"steps\"\n",
    "    SAVE_TOTAL_LIMIT = 2  # Keep only 2 most recent checkpoints\n",
    "    \n",
    "    # Output directory\n",
    "    OUT_DIR = \"checkpoints\"\n",
    "    \n",
    "    # Additional training parameters\n",
    "    WEIGHT_DECAY = 0.01\n",
    "    MAX_GRAD_NORM = 1.0  \n",
    "    \n",
    "DEVICE = xm.xla_device() # Initialize TPU Device"
   ]
  },
  {
   "cell_type": "code",
   "execution_count": 4,
   "id": "f01fafe0",
   "metadata": {
    "execution": {
     "iopub.execute_input": "2025-09-07T09:38:41.758007Z",
     "iopub.status.busy": "2025-09-07T09:38:41.757733Z",
     "iopub.status.idle": "2025-09-07T09:38:41.764632Z",
     "shell.execute_reply": "2025-09-07T09:38:41.763910Z"
    },
    "papermill": {
     "duration": 0.016256,
     "end_time": "2025-09-07T09:38:41.766219",
     "exception": false,
     "start_time": "2025-09-07T09:38:41.749963",
     "status": "completed"
    },
    "tags": []
   },
   "outputs": [],
   "source": [
    "def set_seeds(seed):\n",
    "    \"\"\"Set seeds for reproducibility \"\"\"\n",
    "    os.environ['PYTHONHASHSEED'] = str(seed)\n",
    "    random.seed(seed)\n",
    "    np.random.seed(seed)\n",
    "    torch.manual_seed(seed)\n",
    "    # Set seed for all TPU cores\n",
    "    xm.set_rng_state(seed, device=xm.xla_device())  \n",
    "\n",
    "set_seeds(seed=CFG.SEED)"
   ]
  },
  {
   "cell_type": "markdown",
   "id": "56b82a3e",
   "metadata": {
    "papermill": {
     "duration": 0.006421,
     "end_time": "2025-09-07T09:38:41.779265",
     "exception": false,
     "start_time": "2025-09-07T09:38:41.772844",
     "status": "completed"
    },
    "tags": []
   },
   "source": [
    "# Utils\n",
    "Utility functions we will use in notebook."
   ]
  },
  {
   "cell_type": "code",
   "execution_count": 5,
   "id": "f78b7045",
   "metadata": {
    "execution": {
     "iopub.execute_input": "2025-09-07T09:38:41.794131Z",
     "iopub.status.busy": "2025-09-07T09:38:41.793825Z",
     "iopub.status.idle": "2025-09-07T09:38:41.815846Z",
     "shell.execute_reply": "2025-09-07T09:38:41.815125Z"
    },
    "papermill": {
     "duration": 0.03145,
     "end_time": "2025-09-07T09:38:41.817455",
     "exception": false,
     "start_time": "2025-09-07T09:38:41.786005",
     "status": "completed"
    },
    "tags": []
   },
   "outputs": [],
   "source": [
    "def get_token_lengths(texts):\n",
    "    # tokenize and receive input_ids for reach text\n",
    "    input_ids = tokenizer(texts.tolist(), return_tensors='np')['input_ids']\n",
    "    # return length of inputs_ids for each text\n",
    "    return [len(t) for t in input_ids]\n",
    "\n",
    "def create_dataset(input_ids, attention_masks, labels, batch_size, shuffle=True):\n",
    "    N_SAMPLES = labels.shape[0]\n",
    "    IDXS = np.arange(N_SAMPLES - (N_SAMPLES % batch_size))\n",
    "    while True:\n",
    "        if shuffle:\n",
    "            np.random.shuffle(IDXS)\n",
    "        \n",
    "        for idxs in IDXS.reshape(-1, batch_size):\n",
    "            input_ids_batch = torch.tensor(input_ids[idxs]).to(DEVICE)\n",
    "            attention_mask_batch = torch.tensor(attention_masks[idxs]).to(DEVICE)\n",
    "            labels_batch = torch.tensor(labels[idxs], dtype=torch.long).to(DEVICE)  # torch.long for classification\n",
    "            \n",
    "            # Shard Over TPU Nodes if applicable\n",
    "            xs.mark_sharding(input_ids_batch, mesh, (0, 1))\n",
    "            xs.mark_sharding(attention_mask_batch, mesh, (0, 1))\n",
    "            xs.mark_sharding(labels_batch, mesh, (0,))  # Labels are 1D\n",
    "            \n",
    "            yield input_ids_batch, attention_mask_batch, labels_batch\n",
    "\n",
    "def compute_map3(y_true, y_pred_probs):\n",
    "    \"\"\"Compute MAP@3 metric\"\"\"\n",
    "    top3 = np.argsort(-y_pred_probs, axis=1)[:, :3]\n",
    "    match = (top3 == y_true[:, None])\n",
    "    map3 = 0\n",
    "    for i in range(len(y_true)):\n",
    "        if match[i, 0]:\n",
    "            map3 += 1.0\n",
    "        elif match[i, 1]:\n",
    "            map3 += 1.0 / 2\n",
    "        elif match[i, 2]:\n",
    "            map3 += 1.0 / 3\n",
    "    return map3 / len(y_true)\n",
    "\n",
    "def evaluate_model(model, val_dataset, steps_per_val_epoch):\n",
    "    \"\"\"Evaluate model on validation set\"\"\"\n",
    "    model.eval()\n",
    "    val_losses = []\n",
    "    val_y_true = []\n",
    "    val_y_probs = []\n",
    "    \n",
    "    with torch.no_grad():\n",
    "        for step in range(steps_per_val_epoch):\n",
    "            input_ids, attention_mask, labels = next(val_dataset)\n",
    "            outputs = model(input_ids=input_ids, attention_mask=attention_mask)\n",
    "            logits = outputs.logits.to(dtype=torch.float32)\n",
    "            \n",
    "            loss = LOSS_FN(logits, labels.to(dtype=torch.float32))\n",
    "            val_losses.append(float(loss))\n",
    "            \n",
    "            probs = F.softmax(logits, dim=-1)\n",
    "            val_y_true.extend(labels.cpu().tolist())\n",
    "            val_y_probs.extend(probs.detach().cpu().numpy())\n",
    "    \n",
    "    val_loss = np.mean(val_losses)\n",
    "    val_map3 = compute_map3(np.array(val_y_true), np.array(val_y_probs))\n",
    "    \n",
    "    model.train()\n",
    "    return val_loss, val_map3\n",
    "\n",
    "def manage_checkpoints(save_dir, limit):\n",
    "    \"\"\"Keep only the most recent checkpoints based on SAVE_TOTAL_LIMIT\"\"\"\n",
    "    if limit <= 0:\n",
    "        return\n",
    "        \n",
    "    checkpoints = glob.glob(os.path.join(save_dir, \"model_step_*.pth\"))\n",
    "    checkpoints.extend(glob.glob(os.path.join(save_dir, \"model_epoch_*.pth\")))\n",
    "    \n",
    "    if len(checkpoints) > limit:\n",
    "        # Sort by modification time\n",
    "        checkpoints.sort(key=os.path.getmtime)\n",
    "        # Remove oldest checkpoints\n",
    "        for checkpoint in checkpoints[:-limit]:\n",
    "            try:\n",
    "                os.remove(checkpoint)\n",
    "                # Also remove corresponding optimizer file\n",
    "                opt_file = checkpoint.replace(\"model_\", \"optimizer_\")\n",
    "                if os.path.exists(opt_file):\n",
    "                    os.remove(opt_file)\n",
    "            except:\n",
    "                pass\n",
    "\n",
    "def save_checkpoint(epoch, step, val_map3=None):\n",
    "    \"\"\"Save model and optimizer checkpoints\"\"\"\n",
    "    if CFG.SAVE_STRATEGY == \"no\":\n",
    "        return\n",
    "        \n",
    "    if val_map3 is not None:\n",
    "        model_path = os.path.join(CFG.OUT_DIR, f'model_epoch_{epoch}_map3_{val_map3:.4f}.pth')\n",
    "        opt_path = os.path.join(CFG.OUT_DIR, f'optimizer_epoch_{epoch}.pth')\n",
    "    else:\n",
    "        model_path = os.path.join(CFG.OUT_DIR, f'model_step_{step}.pth')\n",
    "        opt_path = os.path.join(CFG.OUT_DIR, f'optimizer_step_{step}.pth')\n",
    "    \n",
    "    xm.save({k: v.cpu() for k, v in model.named_parameters() if v.requires_grad}, model_path)\n",
    "    xm.save(OPTIMIZER.state_dict(), opt_path)\n",
    "    \n",
    "    # Manage checkpoint limit\n",
    "    manage_checkpoints(CFG.OUT_DIR, CFG.SAVE_TOTAL_LIMIT)\n",
    "    \n",
    "    return model_path\n",
    "\n",
    "def plot_metrics(metrics):\n",
    "    \"\"\"Simple training metrics visualization\"\"\"\n",
    "    fig, axes = plt.subplots(1, 2, figsize=(12, 4))\n",
    "    \n",
    "    # Loss plot\n",
    "    axes[0].plot(metrics['train_loss'], 'b-', alpha=0.7, label='Train')\n",
    "    if metrics['val_loss']:\n",
    "        val_steps = [i * len(metrics['train_loss']) // len(metrics['val_loss']) \n",
    "                    for i in range(len(metrics['val_loss']))]\n",
    "        axes[0].plot(val_steps, metrics['val_loss'], 'r-', label='Val')\n",
    "    axes[0].set_title('Loss')\n",
    "    axes[0].set_xlabel('Step')\n",
    "    axes[0].legend()\n",
    "    axes[0].grid(True, alpha=0.3)\n",
    "    \n",
    "    # MAP@3 plot\n",
    "    if metrics['train_map3']:\n",
    "        epoch_steps = [i * len(metrics['train_loss']) // len(metrics['train_map3']) \n",
    "                      for i in range(len(metrics['train_map3']))]\n",
    "        axes[1].plot(epoch_steps, metrics['train_map3'], 'g-', label='Train')\n",
    "    if metrics['val_map3']:\n",
    "        val_steps = [i * len(metrics['train_loss']) // len(metrics['val_map3']) \n",
    "                    for i in range(len(metrics['val_map3']))]\n",
    "        axes[1].plot(val_steps, metrics['val_map3'], 'orange', label='Val')\n",
    "    axes[1].set_title('MAP@3')\n",
    "    axes[1].set_xlabel('Step')\n",
    "    axes[1].legend()\n",
    "    axes[1].grid(True, alpha=0.3)\n",
    "    \n",
    "    plt.tight_layout()\n",
    "    plt.show()\n",
    "    \n",
    "    # Quick summary\n",
    "    print(f\"Final - Train Loss: {metrics['train_loss'][-1]:.4f}\")\n",
    "    if metrics['val_loss']: \n",
    "        print(f\"Final - Val Loss: {metrics['val_loss'][-1]:.4f}\")\n",
    "    if metrics['train_map3']: \n",
    "        print(f\"Final - Train MAP@3: {metrics['train_map3'][-1]:.4f}\")\n",
    "    if metrics['val_map3']: \n",
    "        print(f\"Final - Val MAP@3: {metrics['val_map3'][-1]:.4f}\")"
   ]
  },
  {
   "cell_type": "markdown",
   "id": "b65956d2",
   "metadata": {
    "papermill": {
     "duration": 0.006231,
     "end_time": "2025-09-07T09:38:41.830372",
     "exception": false,
     "start_time": "2025-09-07T09:38:41.824141",
     "status": "completed"
    },
    "tags": []
   },
   "source": [
    "# Prepare data\n",
    "Cooking data is important."
   ]
  },
  {
   "cell_type": "code",
   "execution_count": 6,
   "id": "32ffc688",
   "metadata": {
    "execution": {
     "iopub.execute_input": "2025-09-07T09:38:41.845256Z",
     "iopub.status.busy": "2025-09-07T09:38:41.844977Z",
     "iopub.status.idle": "2025-09-07T09:38:42.062593Z",
     "shell.execute_reply": "2025-09-07T09:38:42.061580Z"
    },
    "papermill": {
     "duration": 0.227118,
     "end_time": "2025-09-07T09:38:42.064234",
     "exception": false,
     "start_time": "2025-09-07T09:38:41.837116",
     "status": "completed"
    },
    "tags": []
   },
   "outputs": [
    {
     "name": "stdout",
     "output_type": "stream",
     "text": [
      "Train shape: (36696, 9) with 65 target classes\n"
     ]
    }
   ],
   "source": [
    "\n",
    "le = LabelEncoder()\n",
    "train = pd.read_csv('/kaggle/input/map-charting-student-math-misunderstandings/train.csv')\n",
    "train.Misconception = train.Misconception.fillna('NA')\n",
    "train['target'] = train.Category+\":\"+train.Misconception\n",
    "train['label'] = le.fit_transform(train['target'])\n",
    "target_classes = le.classes_\n",
    "n_classes = len(target_classes)\n",
    "print(f\"Train shape: {train.shape} with {n_classes} target classes\")"
   ]
  },
  {
   "cell_type": "code",
   "execution_count": 7,
   "id": "60299b25",
   "metadata": {
    "execution": {
     "iopub.execute_input": "2025-09-07T09:38:42.078970Z",
     "iopub.status.busy": "2025-09-07T09:38:42.078662Z",
     "iopub.status.idle": "2025-09-07T09:38:42.095671Z",
     "shell.execute_reply": "2025-09-07T09:38:42.094887Z"
    },
    "papermill": {
     "duration": 0.026749,
     "end_time": "2025-09-07T09:38:42.097427",
     "exception": false,
     "start_time": "2025-09-07T09:38:42.070678",
     "status": "completed"
    },
    "tags": []
   },
   "outputs": [
    {
     "data": {
      "text/html": [
       "<div>\n",
       "<style scoped>\n",
       "    .dataframe tbody tr th:only-of-type {\n",
       "        vertical-align: middle;\n",
       "    }\n",
       "\n",
       "    .dataframe tbody tr th {\n",
       "        vertical-align: top;\n",
       "    }\n",
       "\n",
       "    .dataframe thead th {\n",
       "        text-align: right;\n",
       "    }\n",
       "</style>\n",
       "<table border=\"1\" class=\"dataframe\">\n",
       "  <thead>\n",
       "    <tr style=\"text-align: right;\">\n",
       "      <th></th>\n",
       "      <th>row_id</th>\n",
       "      <th>QuestionId</th>\n",
       "      <th>QuestionText</th>\n",
       "      <th>MC_Answer</th>\n",
       "      <th>StudentExplanation</th>\n",
       "      <th>Category</th>\n",
       "      <th>Misconception</th>\n",
       "      <th>target</th>\n",
       "      <th>label</th>\n",
       "    </tr>\n",
       "  </thead>\n",
       "  <tbody>\n",
       "    <tr>\n",
       "      <th>0</th>\n",
       "      <td>0</td>\n",
       "      <td>31772</td>\n",
       "      <td>What fraction of the shape is not shaded? Give...</td>\n",
       "      <td>\\( \\frac{1}{3} \\)</td>\n",
       "      <td>0ne third is equal to tree nineth</td>\n",
       "      <td>True_Correct</td>\n",
       "      <td>NA</td>\n",
       "      <td>True_Correct:NA</td>\n",
       "      <td>37</td>\n",
       "    </tr>\n",
       "    <tr>\n",
       "      <th>1</th>\n",
       "      <td>1</td>\n",
       "      <td>31772</td>\n",
       "      <td>What fraction of the shape is not shaded? Give...</td>\n",
       "      <td>\\( \\frac{1}{3} \\)</td>\n",
       "      <td>1 / 3 because 6 over 9 is 2 thirds and 1 third...</td>\n",
       "      <td>True_Correct</td>\n",
       "      <td>NA</td>\n",
       "      <td>True_Correct:NA</td>\n",
       "      <td>37</td>\n",
       "    </tr>\n",
       "    <tr>\n",
       "      <th>2</th>\n",
       "      <td>2</td>\n",
       "      <td>31772</td>\n",
       "      <td>What fraction of the shape is not shaded? Give...</td>\n",
       "      <td>\\( \\frac{1}{3} \\)</td>\n",
       "      <td>1 3rd is half of 3 6th, so it is simplee to un...</td>\n",
       "      <td>True_Neither</td>\n",
       "      <td>NA</td>\n",
       "      <td>True_Neither:NA</td>\n",
       "      <td>64</td>\n",
       "    </tr>\n",
       "    <tr>\n",
       "      <th>3</th>\n",
       "      <td>3</td>\n",
       "      <td>31772</td>\n",
       "      <td>What fraction of the shape is not shaded? Give...</td>\n",
       "      <td>\\( \\frac{1}{3} \\)</td>\n",
       "      <td>1 goes into everything and 3 goes into nine</td>\n",
       "      <td>True_Neither</td>\n",
       "      <td>NA</td>\n",
       "      <td>True_Neither:NA</td>\n",
       "      <td>64</td>\n",
       "    </tr>\n",
       "    <tr>\n",
       "      <th>4</th>\n",
       "      <td>4</td>\n",
       "      <td>31772</td>\n",
       "      <td>What fraction of the shape is not shaded? Give...</td>\n",
       "      <td>\\( \\frac{1}{3} \\)</td>\n",
       "      <td>1 out of every 3 isn't coloured</td>\n",
       "      <td>True_Correct</td>\n",
       "      <td>NA</td>\n",
       "      <td>True_Correct:NA</td>\n",
       "      <td>37</td>\n",
       "    </tr>\n",
       "  </tbody>\n",
       "</table>\n",
       "</div>"
      ],
      "text/plain": [
       "   row_id  QuestionId                                       QuestionText  \\\n",
       "0       0       31772  What fraction of the shape is not shaded? Give...   \n",
       "1       1       31772  What fraction of the shape is not shaded? Give...   \n",
       "2       2       31772  What fraction of the shape is not shaded? Give...   \n",
       "3       3       31772  What fraction of the shape is not shaded? Give...   \n",
       "4       4       31772  What fraction of the shape is not shaded? Give...   \n",
       "\n",
       "           MC_Answer                                 StudentExplanation  \\\n",
       "0  \\( \\frac{1}{3} \\)                  0ne third is equal to tree nineth   \n",
       "1  \\( \\frac{1}{3} \\)  1 / 3 because 6 over 9 is 2 thirds and 1 third...   \n",
       "2  \\( \\frac{1}{3} \\)  1 3rd is half of 3 6th, so it is simplee to un...   \n",
       "3  \\( \\frac{1}{3} \\)        1 goes into everything and 3 goes into nine   \n",
       "4  \\( \\frac{1}{3} \\)                    1 out of every 3 isn't coloured   \n",
       "\n",
       "       Category Misconception           target  label  \n",
       "0  True_Correct            NA  True_Correct:NA     37  \n",
       "1  True_Correct            NA  True_Correct:NA     37  \n",
       "2  True_Neither            NA  True_Neither:NA     64  \n",
       "3  True_Neither            NA  True_Neither:NA     64  \n",
       "4  True_Correct            NA  True_Correct:NA     37  "
      ]
     },
     "execution_count": 7,
     "metadata": {},
     "output_type": "execute_result"
    }
   ],
   "source": [
    "train.head(5)"
   ]
  },
  {
   "cell_type": "code",
   "execution_count": 8,
   "id": "463d897c",
   "metadata": {
    "execution": {
     "iopub.execute_input": "2025-09-07T09:38:42.112480Z",
     "iopub.status.busy": "2025-09-07T09:38:42.112178Z",
     "iopub.status.idle": "2025-09-07T09:38:42.483015Z",
     "shell.execute_reply": "2025-09-07T09:38:42.481956Z"
    },
    "papermill": {
     "duration": 0.380297,
     "end_time": "2025-09-07T09:38:42.484872",
     "exception": false,
     "start_time": "2025-09-07T09:38:42.104575",
     "status": "completed"
    },
    "tags": []
   },
   "outputs": [],
   "source": [
    "idx = train.apply(lambda row: row.Category.split('_')[0],axis=1)=='True'\n",
    "correct = train.loc[idx].copy()\n",
    "correct['c'] = correct.groupby(['QuestionId','MC_Answer']).MC_Answer.transform('count')\n",
    "correct = correct.sort_values('c',ascending=False)\n",
    "correct = correct.drop_duplicates(['QuestionId'])\n",
    "correct = correct[['QuestionId','MC_Answer']]\n",
    "correct['is_correct'] = 1\n",
    "\n",
    "train = train.merge(correct, on=['QuestionId','MC_Answer'], how='left')\n",
    "train.is_correct = train.is_correct.fillna(0)"
   ]
  },
  {
   "cell_type": "code",
   "execution_count": 9,
   "id": "428610b8",
   "metadata": {
    "execution": {
     "iopub.execute_input": "2025-09-07T09:38:42.500110Z",
     "iopub.status.busy": "2025-09-07T09:38:42.499769Z",
     "iopub.status.idle": "2025-09-07T09:38:43.005346Z",
     "shell.execute_reply": "2025-09-07T09:38:43.004317Z"
    },
    "papermill": {
     "duration": 0.515617,
     "end_time": "2025-09-07T09:38:43.007217",
     "exception": false,
     "start_time": "2025-09-07T09:38:42.491600",
     "status": "completed"
    },
    "tags": []
   },
   "outputs": [
    {
     "name": "stdout",
     "output_type": "stream",
     "text": [
      "Example prompt for our LLM:\n",
      "\n",
      "• Question: What fraction of the shape is not shaded? Give your answer in its simplest form. [Image: A triangle split into 9 equal smaller triangles. 6 of them are shaded.]\n",
      "• Answer: \\( \\frac{1}{3} \\)\n",
      "• Correctness: This is Correct answer.\n",
      "• Student Explanation: 0ne third is equal to tree nineth\n"
     ]
    }
   ],
   "source": [
    "def format_input(row):\n",
    "    x = \"This is Correct answer.\"\n",
    "    if not row['is_correct']:\n",
    "        x = \"This is Incorrect answer.\"\n",
    "    return (\n",
    "        f\"• Question: {row['QuestionText']}\\n\"\n",
    "        f\"• Answer: {row['MC_Answer']}\\n\"\n",
    "        f\"• Correctness: {x}\\n\"\n",
    "        f\"• Student Explanation: {row['StudentExplanation']}\"\n",
    "    )\n",
    "\n",
    "train['text'] = train.apply(format_input,axis=1)\n",
    "print(\"Example prompt for our LLM:\")\n",
    "print()\n",
    "print( train.text.values[0] )"
   ]
  },
  {
   "cell_type": "markdown",
   "id": "3ad6f2ed",
   "metadata": {
    "papermill": {
     "duration": 0.007086,
     "end_time": "2025-09-07T09:38:43.021984",
     "exception": false,
     "start_time": "2025-09-07T09:38:43.014898",
     "status": "completed"
    },
    "tags": []
   },
   "source": [
    "# Tokenize\n"
   ]
  },
  {
   "cell_type": "code",
   "execution_count": 10,
   "id": "bee49511",
   "metadata": {
    "execution": {
     "iopub.execute_input": "2025-09-07T09:38:43.037793Z",
     "iopub.status.busy": "2025-09-07T09:38:43.037480Z",
     "iopub.status.idle": "2025-09-07T09:38:49.554239Z",
     "shell.execute_reply": "2025-09-07T09:38:49.553069Z"
    },
    "papermill": {
     "duration": 6.527516,
     "end_time": "2025-09-07T09:38:49.556412",
     "exception": false,
     "start_time": "2025-09-07T09:38:43.028896",
     "status": "completed"
    },
    "tags": []
   },
   "outputs": [
    {
     "name": "stderr",
     "output_type": "stream",
     "text": [
      "Special tokens have been added in the vocabulary, make sure the associated word embeddings are fine-tuned or trained.\n"
     ]
    },
    {
     "name": "stdout",
     "output_type": "stream",
     "text": [
      "TRAIN - INPUT_IDS: (33026, 256), LABELS: (33026,)\n",
      "VAL - INPUT_IDS: (3670, 256), LABELS: [37 36 37 ... 37 37 37]\n",
      "Number of unique classes: 64\n"
     ]
    }
   ],
   "source": [
    "tokenizer = AutoTokenizer.from_pretrained(CFG.MODEL_NAME)\n",
    "tokenizer.pad_token = tokenizer.eos_token\n",
    "tokenizer.padding_side = 'right'\n",
    "\n",
    "# save tokenizer to load offline during inference\n",
    "tokenizer.save_pretrained('tokenizer')\n",
    "\n",
    "# train, test\n",
    "train_df, val_df = train_test_split(train, test_size=CFG.VAL_SPLIT, random_state=CFG.SEED)\n",
    "\n",
    "# Tokenize both splits\n",
    "train_tokens = tokenizer(train_df['text'].tolist(), padding='max_length', max_length=CFG.MAX_LENGTH, \n",
    "                        truncation=True, return_tensors='np')\n",
    "val_tokens = tokenizer(val_df['text'].tolist(), padding='max_length', max_length=CFG.MAX_LENGTH, \n",
    "                        truncation=True, return_tensors='np')\n",
    "\n",
    "\n",
    "print(f\"TRAIN - INPUT_IDS: {train_tokens['input_ids'].shape}, LABELS: {train_df['label'].shape}\")\n",
    "print(f\"VAL - INPUT_IDS: {val_tokens['input_ids'].shape}, LABELS: { val_df['label'].values}\")\n",
    "print(f\"Number of unique classes: {len(np.unique(train_df['label'].values))}\")\n",
    "\n",
    "\n",
    "# Create datasets\n",
    "TRAIN_DATASET = create_dataset(train_tokens['input_ids'], train_tokens['attention_mask'], \n",
    "                               train_df['label'].values , CFG.BATCH_SIZE, shuffle=True)\n",
    "VAL_DATASET = create_dataset(val_tokens['input_ids'], val_tokens['attention_mask'], \n",
    "                             val_df['label'].values, CFG.EVAL_BATCH_SIZE, shuffle=False)"
   ]
  },
  {
   "cell_type": "markdown",
   "id": "909a5bad",
   "metadata": {
    "papermill": {
     "duration": 0.008202,
     "end_time": "2025-09-07T09:38:49.573757",
     "exception": false,
     "start_time": "2025-09-07T09:38:49.565555",
     "status": "completed"
    },
    "tags": []
   },
   "source": [
    "# Load Model"
   ]
  },
  {
   "cell_type": "code",
   "execution_count": 11,
   "id": "a0d53e6d",
   "metadata": {
    "execution": {
     "iopub.execute_input": "2025-09-07T09:38:49.590985Z",
     "iopub.status.busy": "2025-09-07T09:38:49.590632Z",
     "iopub.status.idle": "2025-09-07T09:39:07.371405Z",
     "shell.execute_reply": "2025-09-07T09:39:07.370459Z"
    },
    "papermill": {
     "duration": 17.792902,
     "end_time": "2025-09-07T09:39:07.374324",
     "exception": false,
     "start_time": "2025-09-07T09:38:49.581422",
     "status": "completed"
    },
    "tags": []
   },
   "outputs": [
    {
     "name": "stderr",
     "output_type": "stream",
     "text": [
      "\r",
      "Loading checkpoint shards:   0%|          | 0/2 [00:00<?, ?it/s]"
     ]
    },
    {
     "name": "stderr",
     "output_type": "stream",
     "text": [
      "\r",
      "Loading checkpoint shards:  50%|█████     | 1/2 [00:13<00:13, 13.38s/it]"
     ]
    },
    {
     "name": "stderr",
     "output_type": "stream",
     "text": [
      "\r",
      "Loading checkpoint shards: 100%|██████████| 2/2 [00:17<00:00,  7.96s/it]"
     ]
    },
    {
     "name": "stderr",
     "output_type": "stream",
     "text": [
      "\r",
      "Loading checkpoint shards: 100%|██████████| 2/2 [00:17<00:00,  8.77s/it]"
     ]
    },
    {
     "name": "stderr",
     "output_type": "stream",
     "text": [
      "\n",
      "Some weights of LlamaForSequenceClassification were not initialized from the model checkpoint at /kaggle/input/deepseek-math-7b-instruct/transformers/main/1 and are newly initialized: ['score.weight']\n",
      "You should probably TRAIN this model on a down-stream task to be able to use it for predictions and inference.\n"
     ]
    }
   ],
   "source": [
    "base_model = AutoModelForSequenceClassification.from_pretrained(\n",
    "    CFG.MODEL_NAME,\n",
    "    num_labels=CFG.NUM_LABELS,\n",
    "    torch_dtype=torch.bfloat16) # we can also use fp16 here.\n",
    "\n",
    "# Assign Padding TOKEN\n",
    "base_model.config.pad_token_id = tokenizer.pad_token_id"
   ]
  },
  {
   "cell_type": "markdown",
   "id": "5a129136",
   "metadata": {
    "papermill": {
     "duration": 0.009479,
     "end_time": "2025-09-07T09:39:07.398137",
     "exception": false,
     "start_time": "2025-09-07T09:39:07.388658",
     "status": "completed"
    },
    "tags": []
   },
   "source": [
    "# Low-Rank Adaptation [LORA]"
   ]
  },
  {
   "cell_type": "code",
   "execution_count": 12,
   "id": "7ccbd4f0",
   "metadata": {
    "execution": {
     "iopub.execute_input": "2025-09-07T09:39:07.417930Z",
     "iopub.status.busy": "2025-09-07T09:39:07.417002Z",
     "iopub.status.idle": "2025-09-07T09:39:07.965477Z",
     "shell.execute_reply": "2025-09-07T09:39:07.964425Z"
    },
    "papermill": {
     "duration": 0.56067,
     "end_time": "2025-09-07T09:39:07.967892",
     "exception": false,
     "start_time": "2025-09-07T09:39:07.407222",
     "status": "completed"
    },
    "tags": []
   },
   "outputs": [
    {
     "name": "stdout",
     "output_type": "stream",
     "text": [
      "trainable params: 19,005,440 || all params: 6,510,206,976 || trainable%: 0.2919329611188079\n"
     ]
    }
   ],
   "source": [
    "lora_config = LoraConfig(\n",
    "    r=CFG.LORA_RANK,  # the dimension of the low-rank matrices\n",
    "    lora_alpha = CFG.LORA_ALPHA, # scaling factor for LoRA activations vs pre-trained weight activations\n",
    "    lora_dropout= CFG.DROPOUT, \n",
    "    bias='none',\n",
    "    inference_mode=False,\n",
    "    task_type=TaskType.SEQ_CLS,\n",
    "    target_modules=CFG.LORA_MODULES) \n",
    "\n",
    "# Create LoRa Model\n",
    "model = get_peft_model(base_model, lora_config)\n",
    "# Trainable Parameters\n",
    "model.print_trainable_parameters()"
   ]
  },
  {
   "cell_type": "markdown",
   "id": "a29dc0c4",
   "metadata": {
    "papermill": {
     "duration": 0.007419,
     "end_time": "2025-09-07T09:39:07.985613",
     "exception": false,
     "start_time": "2025-09-07T09:39:07.978194",
     "status": "completed"
    },
    "tags": []
   },
   "source": [
    "# Model Sharding \n",
    "The `QWEN_2_5_8b_RULES` define how to distribute different layer types across TPU cores. Each rule maps layer name patterns to sharding dimensions - for example, attention projections use `(\"fsdp\", \"mp\")` while output projections use `(\"mp\", \"fsdp\")`. This placement balances memory usage and communication overhead.\n",
    "\n",
    "The `partition_module` function iterates through model layers, matches them against regex patterns, and applies the corresponding sharding specification using `xs.mark_sharding`. This enables fitting a 14GB model across 8 cores with 8GB each by distributing weights rather than replicating the entire model.\n",
    "\n",
    "**Creating sharding rules for other models:** Examine the model architecture using `model.named_modules()`, identify layer naming patterns, and design sharding strategies based on computational and memory requirements. If you use kaggle/collab tpu then the sharding remains same for most model(MOE, MAMBA, etc. requires different).\n"
   ]
  },
  {
   "cell_type": "code",
   "execution_count": 13,
   "id": "f6ae534a",
   "metadata": {
    "execution": {
     "iopub.execute_input": "2025-09-07T09:39:08.002153Z",
     "iopub.status.busy": "2025-09-07T09:39:08.001834Z",
     "iopub.status.idle": "2025-09-07T09:39:08.011150Z",
     "shell.execute_reply": "2025-09-07T09:39:08.010385Z"
    },
    "papermill": {
     "duration": 0.019741,
     "end_time": "2025-09-07T09:39:08.012698",
     "exception": false,
     "start_time": "2025-09-07T09:39:07.992957",
     "status": "completed"
    },
    "tags": []
   },
   "outputs": [],
   "source": [
    "\n",
    "# deepseek is distil of llama\n",
    "llama_rule = (\n",
    "    (\"model\\\\.embed_tokens\", (\"mp\", \"fsdp\")),\n",
    "    (\"self_attn\\\\.(q_proj|k_proj|v_proj)\", (\"fsdp\", \"mp\")),\n",
    "    (\"self_attn\\\\.o_proj\", (\"mp\", \"fsdp\")),\n",
    "    (\"mlp\\\\.gate_proj\", (\"fsdp\", \"mp\")),\n",
    "    (\"mlp\\\\.down_proj\", (\"mp\", \"fsdp\")),\n",
    "    (\"mlp\\\\.up_proj\", (\"fsdp\", \"mp\")),\n",
    "    (\"lm_head\", (\"fsdp\", \"mp\")),\n",
    "    )\n",
    "\n",
    "ALL_RULES = [(LlamaConfig, llama_rule)]\n",
    "\n",
    "def find_rule(model):\n",
    "    for config, rule in ALL_RULES:\n",
    "        if model.config.__class__ == config:\n",
    "            return rule\n",
    "    raise Exception(\"unsupported model to partitioning\")\n",
    "\n",
    "strkey2id = {\n",
    "    \"dp\": 0,\n",
    "    \"fsdp\": 1,\n",
    "    \"mp\": 2\n",
    "}\n",
    "\n",
    "def partition_module(model, mesh, device=xm.xla_device(), verbose=False):\n",
    "    partition_specs = find_rule(model)\n",
    "    rule = [(k, tuple([strkey2id[x] for x in v])) for k, v in partition_specs]\n",
    "        \n",
    "    # print(rule)\n",
    "\n",
    "    for name, module in model.named_modules():\n",
    "        module.to(device)\n",
    "        # print(name, module.__class__.__name__)\n",
    "        if isinstance(module, (nn.Embedding, nn.Linear)):\n",
    "            for rule_pattern, spec in rule:\n",
    "                if re.findall(rule_pattern, name):\n",
    "                    if verbose:\n",
    "                        print(\"match\", rule_pattern, name)\n",
    "                    \n",
    "                    xs.mark_sharding(module.weight, mesh, spec)\n",
    "                    break\n",
    "        \n",
    "def partition_module_dp(model, mesh, device=xm.xla_device(), verbose=False):\n",
    "    spec = (1, 2)\n",
    "\n",
    "    for name, module in model.named_modules():\n",
    "        module.to(device)\n",
    "        if isinstance(module, (nn.Embedding, nn.Linear)):\n",
    "            xs.mark_sharding(module.weight, mesh, spec)"
   ]
  },
  {
   "cell_type": "code",
   "execution_count": 14,
   "id": "49739126",
   "metadata": {
    "execution": {
     "iopub.execute_input": "2025-09-07T09:39:08.030073Z",
     "iopub.status.busy": "2025-09-07T09:39:08.029826Z",
     "iopub.status.idle": "2025-09-07T09:39:20.404922Z",
     "shell.execute_reply": "2025-09-07T09:39:20.403660Z"
    },
    "papermill": {
     "duration": 12.387016,
     "end_time": "2025-09-07T09:39:20.407250",
     "exception": false,
     "start_time": "2025-09-07T09:39:08.020234",
     "status": "completed"
    },
    "tags": []
   },
   "outputs": [
    {
     "name": "stderr",
     "output_type": "stream",
     "text": [
      "WARNING: Logging before InitGoogle() is written to STDERR\n",
      "E0000 00:00:1757237949.604256      77 common_lib.cc:621] Could not set metric server port: INVALID_ARGUMENT: Could not find SliceBuilder port 8471 in any of the 0 ports provided in `tpu_process_addresses`=\"local\"\n",
      "=== Source Location Trace: ===\n",
      "learning/45eac/tfrc/runtime/common_lib.cc:232\n"
     ]
    },
    {
     "name": "stdout",
     "output_type": "stream",
     "text": [
      "Num devices: 8\n"
     ]
    }
   ],
   "source": [
    "# Number of TPU Nodes\n",
    "num_devices = xr.global_runtime_device_count()\n",
    "mesh_shape = (1, num_devices, 1)\n",
    "device_ids = np.array(range(num_devices))\n",
    "mesh = Mesh(device_ids, mesh_shape, ('dp', 'fsdp', 'mp'))\n",
    "partition_module(model, mesh)\n",
    "\n",
    "\n",
    "print(f'Num devices: {num_devices}')"
   ]
  },
  {
   "cell_type": "markdown",
   "id": "e17f5627",
   "metadata": {
    "papermill": {
     "duration": 0.00772,
     "end_time": "2025-09-07T09:39:20.422712",
     "exception": false,
     "start_time": "2025-09-07T09:39:20.414992",
     "status": "completed"
    },
    "tags": []
   },
   "source": [
    "# Sanity check "
   ]
  },
  {
   "cell_type": "code",
   "execution_count": 15,
   "id": "206aa812",
   "metadata": {
    "execution": {
     "iopub.execute_input": "2025-09-07T09:39:20.439737Z",
     "iopub.status.busy": "2025-09-07T09:39:20.439453Z",
     "iopub.status.idle": "2025-09-07T09:39:20.444698Z",
     "shell.execute_reply": "2025-09-07T09:39:20.443835Z"
    },
    "papermill": {
     "duration": 0.015944,
     "end_time": "2025-09-07T09:39:20.446416",
     "exception": false,
     "start_time": "2025-09-07T09:39:20.430472",
     "status": "completed"
    },
    "tags": []
   },
   "outputs": [
    {
     "data": {
      "text/plain": [
       "device(type='xla', index=0)"
      ]
     },
     "execution_count": 15,
     "metadata": {},
     "output_type": "execute_result"
    }
   ],
   "source": [
    "# sanity\n",
    "model.device # model is on tpu"
   ]
  },
  {
   "cell_type": "code",
   "execution_count": 16,
   "id": "a09c23c2",
   "metadata": {
    "execution": {
     "iopub.execute_input": "2025-09-07T09:39:20.463548Z",
     "iopub.status.busy": "2025-09-07T09:39:20.463312Z",
     "iopub.status.idle": "2025-09-07T09:39:20.494314Z",
     "shell.execute_reply": "2025-09-07T09:39:20.493579Z"
    },
    "papermill": {
     "duration": 0.041546,
     "end_time": "2025-09-07T09:39:20.496063",
     "exception": false,
     "start_time": "2025-09-07T09:39:20.454517",
     "status": "completed"
    },
    "tags": []
   },
   "outputs": [
    {
     "data": {
      "text/html": [
       "<div>\n",
       "<style scoped>\n",
       "    .dataframe tbody tr th:only-of-type {\n",
       "        vertical-align: middle;\n",
       "    }\n",
       "\n",
       "    .dataframe tbody tr th {\n",
       "        vertical-align: top;\n",
       "    }\n",
       "\n",
       "    .dataframe thead th {\n",
       "        text-align: right;\n",
       "    }\n",
       "</style>\n",
       "<table border=\"1\" class=\"dataframe\">\n",
       "  <thead>\n",
       "    <tr style=\"text-align: right;\">\n",
       "      <th></th>\n",
       "      <th>param</th>\n",
       "      <th>name</th>\n",
       "      <th>dtype</th>\n",
       "    </tr>\n",
       "  </thead>\n",
       "  <tbody>\n",
       "    <tr>\n",
       "      <th>0</th>\n",
       "      <td>32768</td>\n",
       "      <td>base_model.model.model.layers.0.self_attn.q_pr...</td>\n",
       "      <td>torch.bfloat16</td>\n",
       "    </tr>\n",
       "    <tr>\n",
       "      <th>1</th>\n",
       "      <td>32768</td>\n",
       "      <td>base_model.model.model.layers.0.self_attn.q_pr...</td>\n",
       "      <td>torch.bfloat16</td>\n",
       "    </tr>\n",
       "    <tr>\n",
       "      <th>2</th>\n",
       "      <td>32768</td>\n",
       "      <td>base_model.model.model.layers.0.self_attn.k_pr...</td>\n",
       "      <td>torch.bfloat16</td>\n",
       "    </tr>\n",
       "    <tr>\n",
       "      <th>3</th>\n",
       "      <td>32768</td>\n",
       "      <td>base_model.model.model.layers.0.self_attn.k_pr...</td>\n",
       "      <td>torch.bfloat16</td>\n",
       "    </tr>\n",
       "    <tr>\n",
       "      <th>4</th>\n",
       "      <td>32768</td>\n",
       "      <td>base_model.model.model.layers.0.self_attn.v_pr...</td>\n",
       "      <td>torch.bfloat16</td>\n",
       "    </tr>\n",
       "    <tr>\n",
       "      <th>...</th>\n",
       "      <td>...</td>\n",
       "      <td>...</td>\n",
       "      <td>...</td>\n",
       "    </tr>\n",
       "    <tr>\n",
       "      <th>416</th>\n",
       "      <td>32768</td>\n",
       "      <td>base_model.model.model.layers.29.mlp.up_proj.l...</td>\n",
       "      <td>torch.bfloat16</td>\n",
       "    </tr>\n",
       "    <tr>\n",
       "      <th>417</th>\n",
       "      <td>88064</td>\n",
       "      <td>base_model.model.model.layers.29.mlp.up_proj.l...</td>\n",
       "      <td>torch.bfloat16</td>\n",
       "    </tr>\n",
       "    <tr>\n",
       "      <th>418</th>\n",
       "      <td>88064</td>\n",
       "      <td>base_model.model.model.layers.29.mlp.down_proj...</td>\n",
       "      <td>torch.bfloat16</td>\n",
       "    </tr>\n",
       "    <tr>\n",
       "      <th>419</th>\n",
       "      <td>32768</td>\n",
       "      <td>base_model.model.model.layers.29.mlp.down_proj...</td>\n",
       "      <td>torch.bfloat16</td>\n",
       "    </tr>\n",
       "    <tr>\n",
       "      <th>420</th>\n",
       "      <td>266240</td>\n",
       "      <td>base_model.model.score.modules_to_save.default...</td>\n",
       "      <td>torch.bfloat16</td>\n",
       "    </tr>\n",
       "  </tbody>\n",
       "</table>\n",
       "<p>421 rows × 3 columns</p>\n",
       "</div>"
      ],
      "text/plain": [
       "      param                                               name           dtype\n",
       "0     32768  base_model.model.model.layers.0.self_attn.q_pr...  torch.bfloat16\n",
       "1     32768  base_model.model.model.layers.0.self_attn.q_pr...  torch.bfloat16\n",
       "2     32768  base_model.model.model.layers.0.self_attn.k_pr...  torch.bfloat16\n",
       "3     32768  base_model.model.model.layers.0.self_attn.k_pr...  torch.bfloat16\n",
       "4     32768  base_model.model.model.layers.0.self_attn.v_pr...  torch.bfloat16\n",
       "..      ...                                                ...             ...\n",
       "416   32768  base_model.model.model.layers.29.mlp.up_proj.l...  torch.bfloat16\n",
       "417   88064  base_model.model.model.layers.29.mlp.up_proj.l...  torch.bfloat16\n",
       "418   88064  base_model.model.model.layers.29.mlp.down_proj...  torch.bfloat16\n",
       "419   32768  base_model.model.model.layers.29.mlp.down_proj...  torch.bfloat16\n",
       "420  266240  base_model.model.score.modules_to_save.default...  torch.bfloat16\n",
       "\n",
       "[421 rows x 3 columns]"
      ]
     },
     "metadata": {},
     "output_type": "display_data"
    },
    {
     "name": "stdout",
     "output_type": "stream",
     "text": [
      "\n",
      "===============================\n",
      "N_TRAINABLE_PARAMS: 19,005,440\n",
      "N_TRAINABLE_LAYERS: 421\n",
      "===============================\n",
      "\n"
     ]
    }
   ],
   "source": [
    "# Verfy The Trainable Layers\n",
    "MODEL_LAYERS_ROWS = []\n",
    "TRAINABLE_PARAMS = []\n",
    "N_TRAINABLE_PARAMS = 0\n",
    "\n",
    "for name, param in model.named_parameters():\n",
    "    # Layer Parameter Count\n",
    "    n_parameters = int(torch.prod(torch.tensor(param.shape)))\n",
    "    # Only Trainable Layers\n",
    "    if param.requires_grad:\n",
    "        # Add Layer Information\n",
    "        MODEL_LAYERS_ROWS.append({\n",
    "            'param': n_parameters,\n",
    "            'name': name,\n",
    "            'dtype': param.data.dtype,\n",
    "        })\n",
    "        # Append Trainable Parameter\n",
    "        TRAINABLE_PARAMS.append({ 'params': param })\n",
    "        # Add Number Of Trainable Parameters\"\n",
    "        N_TRAINABLE_PARAMS += n_parameters\n",
    "        \n",
    "display(pd.DataFrame(MODEL_LAYERS_ROWS))\n",
    "\n",
    "print(f\"\"\"\n",
    "===============================\n",
    "N_TRAINABLE_PARAMS: {N_TRAINABLE_PARAMS:,}\n",
    "N_TRAINABLE_LAYERS: {len(TRAINABLE_PARAMS)}\n",
    "===============================\n",
    "\"\"\")"
   ]
  },
  {
   "cell_type": "code",
   "execution_count": 17,
   "id": "261be729",
   "metadata": {
    "execution": {
     "iopub.execute_input": "2025-09-07T09:39:20.513070Z",
     "iopub.status.busy": "2025-09-07T09:39:20.512845Z",
     "iopub.status.idle": "2025-09-07T09:39:20.518506Z",
     "shell.execute_reply": "2025-09-07T09:39:20.517785Z"
    },
    "papermill": {
     "duration": 0.016615,
     "end_time": "2025-09-07T09:39:20.520332",
     "exception": false,
     "start_time": "2025-09-07T09:39:20.503717",
     "status": "completed"
    },
    "tags": []
   },
   "outputs": [],
   "source": [
    "def check_model_device(model):\n",
    "    \"\"\"Check which device each model parameter is on\"\"\"\n",
    "    print(\"Model Parameter Devices:\")\n",
    "    print(\"-\" * 50)\n",
    "    \n",
    "    for name, param in model.named_parameters():\n",
    "        print(f\"{name}: {param.device}\")\n",
    "        if 'xla' not in str(param.device):\n",
    "            print(f\"  WARNING: {name} is NOT on XLA device!\")\n",
    "    \n",
    "    print(\"-\" * 50)\n",
    "    print(f\"Current XLA device: {xm.xla_device()}\")\n",
    "    \n",
    "    # Check if any parameters are on XLA\n",
    "    xla_params = [p for p in model.parameters() if 'xla' in str(p.device)]\n",
    "    cpu_params = [p for p in model.parameters() if p.device.type == 'cpu']\n",
    "    \n",
    "    print(f\"Parameters on XLA: {len(xla_params)}\")\n",
    "    print(f\"Parameters on CPU: {len(cpu_params)}\")\n",
    "    print(f\"Total parameters: {sum(p.numel() for p in model.parameters()):,}\")\n",
    "\n",
    "# check more if u wish \n",
    "# check_model_device(model)"
   ]
  },
  {
   "cell_type": "code",
   "execution_count": 18,
   "id": "2c11d377",
   "metadata": {
    "execution": {
     "iopub.execute_input": "2025-09-07T09:39:20.538292Z",
     "iopub.status.busy": "2025-09-07T09:39:20.538007Z",
     "iopub.status.idle": "2025-09-07T09:39:20.546038Z",
     "shell.execute_reply": "2025-09-07T09:39:20.545218Z"
    },
    "papermill": {
     "duration": 0.019752,
     "end_time": "2025-09-07T09:39:20.547955",
     "exception": false,
     "start_time": "2025-09-07T09:39:20.528203",
     "status": "completed"
    },
    "tags": []
   },
   "outputs": [
    {
     "name": "stdout",
     "output_type": "stream",
     "text": [
      "input_ids shape: torch.Size([8, 256]), dtype: torch.int64\n",
      "attention_mask shape: torch.Size([8, 256]), dtype: torch.int64\n",
      "labels shape: torch.Size([8]), dtype: torch.int64\n"
     ]
    }
   ],
   "source": [
    "input_ids, attention_mask, labels = next(TRAIN_DATASET)\n",
    "\n",
    "print(f'input_ids shape: {input_ids.shape}, dtype: {input_ids.dtype}')\n",
    "print(f'attention_mask shape: {attention_mask.shape}, dtype: {attention_mask.dtype}')\n",
    "print(f'labels shape: {labels.shape}, dtype: {labels.dtype}')"
   ]
  },
  {
   "cell_type": "code",
   "execution_count": 19,
   "id": "7f01e24a",
   "metadata": {
    "execution": {
     "iopub.execute_input": "2025-09-07T09:39:20.565574Z",
     "iopub.status.busy": "2025-09-07T09:39:20.565313Z",
     "iopub.status.idle": "2025-09-07T09:39:57.938123Z",
     "shell.execute_reply": "2025-09-07T09:39:57.937139Z"
    },
    "papermill": {
     "duration": 37.390787,
     "end_time": "2025-09-07T09:39:57.947321",
     "exception": false,
     "start_time": "2025-09-07T09:39:20.556534",
     "status": "completed"
    },
    "tags": []
   },
   "outputs": [
    {
     "name": "stdout",
     "output_type": "stream",
     "text": [
      "logits: tensor([[ 0.0078,  0.0605,  0.4297,  0.1992,  0.1191,  0.1016, -0.1680,  0.1040,\n",
      "         -0.2354, -0.4863,  0.0718, -0.2949, -0.2305, -0.2178,  0.0000, -0.4609,\n",
      "         -0.0845,  0.3086,  0.0532, -0.2373,  0.2773, -0.3242,  0.3789,  0.1152,\n",
      "         -0.0615,  0.7578,  0.0879, -0.3984, -0.0566, -0.0098,  0.6562, -0.3496,\n",
      "          0.0688,  0.2656, -0.0334, -0.3379,  0.1719,  0.3242, -0.6406,  0.0879,\n",
      "          0.0098,  0.0298, -0.1196,  0.2129,  0.0488, -0.2852,  0.4727,  0.3516,\n",
      "          0.0757, -0.0454,  0.2695,  0.3164, -0.2451,  0.0684, -0.0049, -0.5039,\n",
      "         -0.1182,  0.1924,  0.0156,  0.7773, -0.0127, -0.2344,  0.0156, -0.0117,\n",
      "          0.1768]], device='xla:0', dtype=torch.bfloat16), dtype: torch.bfloat16\n",
      "CPU times: user 1min 8s, sys: 14.1 s, total: 1min 22s\n",
      "Wall time: 37.4 s\n"
     ]
    }
   ],
   "source": [
    "%%time\n",
    "# Dummy Prediction\n",
    "with torch.no_grad():\n",
    "    outputs = model(input_ids=input_ids, attention_mask=attention_mask)\n",
    "    \n",
    "print(f'logits: {outputs.logits[:1]}, dtype: {outputs.logits.dtype}')"
   ]
  },
  {
   "cell_type": "markdown",
   "id": "4d5b2e58",
   "metadata": {
    "papermill": {
     "duration": 0.007928,
     "end_time": "2025-09-07T09:39:57.963168",
     "exception": false,
     "start_time": "2025-09-07T09:39:57.955240",
     "status": "completed"
    },
    "tags": []
   },
   "source": [
    "# Training configuration"
   ]
  },
  {
   "cell_type": "code",
   "execution_count": 20,
   "id": "89971531",
   "metadata": {
    "execution": {
     "iopub.execute_input": "2025-09-07T09:39:57.980236Z",
     "iopub.status.busy": "2025-09-07T09:39:57.979950Z",
     "iopub.status.idle": "2025-09-07T09:39:57.991200Z",
     "shell.execute_reply": "2025-09-07T09:39:57.990618Z"
    },
    "papermill": {
     "duration": 0.021986,
     "end_time": "2025-09-07T09:39:57.992953",
     "exception": false,
     "start_time": "2025-09-07T09:39:57.970967",
     "status": "completed"
    },
    "tags": []
   },
   "outputs": [
    {
     "name": "stdout",
     "output_type": "stream",
     "text": [
      "BATCH_SIZE: 8, N_SAMPLES: 33026, STEPS_PER_EPOCH: 4128\n",
      "NUM_WARMUP_STEPS: 825, TOTAL_STEPS: 8256\n"
     ]
    }
   ],
   "source": [
    "# LR & Optimizer(try a different too)\n",
    "N_SAMPLES = len(train_df)  # Use train_df after the split\n",
    "STEPS_PER_EPOCH = N_SAMPLES // CFG.BATCH_SIZE\n",
    "OPTIMIZER = torch.optim.AdamW(model.parameters(), lr=CFG.LR, weight_decay=CFG.WEIGHT_DECAY)\n",
    "NUM_WARMUP_STEPS = int(STEPS_PER_EPOCH * CFG.NUM_EPOCHS * CFG.WARMUP_RATIO)\n",
    "VAL_STEPS_PER_EPOCH = len(val_df) // CFG.EVAL_BATCH_SIZE\n",
    "\n",
    "print(f'BATCH_SIZE: {CFG.BATCH_SIZE}, N_SAMPLES: {N_SAMPLES}, STEPS_PER_EPOCH: {STEPS_PER_EPOCH}')\n",
    "print(f'NUM_WARMUP_STEPS: {NUM_WARMUP_STEPS}, TOTAL_STEPS: {STEPS_PER_EPOCH * CFG.NUM_EPOCHS}')"
   ]
  },
  {
   "cell_type": "code",
   "execution_count": 21,
   "id": "bece9727",
   "metadata": {
    "execution": {
     "iopub.execute_input": "2025-09-07T09:39:58.009979Z",
     "iopub.status.busy": "2025-09-07T09:39:58.009756Z",
     "iopub.status.idle": "2025-09-07T09:39:58.013891Z",
     "shell.execute_reply": "2025-09-07T09:39:58.013353Z"
    },
    "papermill": {
     "duration": 0.014494,
     "end_time": "2025-09-07T09:39:58.015445",
     "exception": false,
     "start_time": "2025-09-07T09:39:58.000951",
     "status": "completed"
    },
    "tags": []
   },
   "outputs": [],
   "source": [
    "# Try out more differnt schedules, cosine, cyclic, linear, etc...\n",
    "# Cosine Learning Rate With Warmup\n",
    "lr_scheduler = get_cosine_schedule_with_warmup(\n",
    "    optimizer=OPTIMIZER,\n",
    "    num_warmup_steps=NUM_WARMUP_STEPS,\n",
    "    num_training_steps=STEPS_PER_EPOCH * CFG.NUM_EPOCHS)\n",
    "\n",
    "# Set the data type for the optimizer's state (e.g., momentum buffers)\n",
    "for state in OPTIMIZER.state.values():\n",
    "    for k, v in state.items():\n",
    "        if isinstance(v, torch.Tensor) and state[k].dtype is not torch.float32:\n",
    "            state[v] = v.to(dtype=torch.float32)"
   ]
  },
  {
   "cell_type": "code",
   "execution_count": 22,
   "id": "d7b4fc30",
   "metadata": {
    "execution": {
     "iopub.execute_input": "2025-09-07T09:39:58.032486Z",
     "iopub.status.busy": "2025-09-07T09:39:58.032263Z",
     "iopub.status.idle": "2025-09-07T09:39:58.044837Z",
     "shell.execute_reply": "2025-09-07T09:39:58.044209Z"
    },
    "papermill": {
     "duration": 0.023181,
     "end_time": "2025-09-07T09:39:58.046468",
     "exception": false,
     "start_time": "2025-09-07T09:39:58.023287",
     "status": "completed"
    },
    "tags": []
   },
   "outputs": [],
   "source": [
    "# Put Model In Train Mode\n",
    "model.train()\n",
    "\n",
    "# Loss Function, Cross Entropy\n",
    "LOSS_FN = torch.nn.CrossEntropyLoss().to(dtype=torch.float32)"
   ]
  },
  {
   "cell_type": "markdown",
   "id": "42a62ad3",
   "metadata": {
    "papermill": {
     "duration": 0.007912,
     "end_time": "2025-09-07T09:39:58.062264",
     "exception": false,
     "start_time": "2025-09-07T09:39:58.054352",
     "status": "completed"
    },
    "tags": []
   },
   "source": [
    "# Training "
   ]
  },
  {
   "cell_type": "code",
   "execution_count": 23,
   "id": "6a0fe8c8",
   "metadata": {
    "execution": {
     "iopub.execute_input": "2025-09-07T09:39:58.079264Z",
     "iopub.status.busy": "2025-09-07T09:39:58.078967Z",
     "iopub.status.idle": "2025-09-07T15:11:59.964680Z",
     "shell.execute_reply": "2025-09-07T15:11:59.963495Z"
    },
    "papermill": {
     "duration": 19921.906614,
     "end_time": "2025-09-07T15:11:59.976715",
     "exception": false,
     "start_time": "2025-09-07T09:39:58.070101",
     "status": "completed"
    },
    "tags": []
   },
   "outputs": [
    {
     "name": "stdout",
     "output_type": "stream",
     "text": [
      "Starting Epoch 1/2 - 4128 steps\n"
     ]
    },
    {
     "name": "stdout",
     "output_type": "stream",
     "text": [
      "Step 412/4128 (10.0%) | Loss: 1.1250 | Avg: 2.0537 | MAP@3: 0.5760 | LR: 9.99e-05 | ETA: 198.4min\n"
     ]
    },
    {
     "name": "stdout",
     "output_type": "stream",
     "text": [
      "Step 500/4128 (12.1%) | Loss: 1.0970 | Avg: 1.8165 | MAP@3: 0.6262 | LR: 1.21e-04 | ETA: 181.2min\n"
     ]
    },
    {
     "name": "stdout",
     "output_type": "stream",
     "text": [
      "Step 824/4128 (20.0%) | Loss: 0.1222 | Avg: 0.7632 | MAP@3: 0.8560 | LR: 2.00e-04 | ETA: 145.1min\n"
     ]
    },
    {
     "name": "stdout",
     "output_type": "stream",
     "text": [
      "Step 1000/4128 (24.2%) | Loss: 0.8065 | Avg: 0.6741 | MAP@3: 0.8748 | LR: 2.00e-04 | ETA: 133.2min\n"
     ]
    },
    {
     "name": "stdout",
     "output_type": "stream",
     "text": [
      "Step 1236/4128 (29.9%) | Loss: 0.7158 | Avg: 0.6156 | MAP@3: 0.8867 | LR: 1.98e-04 | ETA: 118.7min\n"
     ]
    },
    {
     "name": "stdout",
     "output_type": "stream",
     "text": [
      "Step 1500/4128 (36.3%) | Loss: 1.8198 | Avg: 0.5565 | MAP@3: 0.8965 | LR: 1.96e-04 | ETA: 105.4min\n"
     ]
    },
    {
     "name": "stdout",
     "output_type": "stream",
     "text": [
      "Step 1648/4128 (39.9%) | Loss: 0.8859 | Avg: 0.5251 | MAP@3: 0.9006 | LR: 1.94e-04 | ETA: 98.3min\n"
     ]
    },
    {
     "name": "stdout",
     "output_type": "stream",
     "text": [
      "Evaluating at step 2000...\n"
     ]
    },
    {
     "name": "stdout",
     "output_type": "stream",
     "text": [
      "Val Loss: 0.4458 | Val MAP@3: 0.9184\n",
      "Step 2000/4128 (48.4%) | Loss: 1.0357 | Avg: 0.4708 | MAP@3: 0.9120 | LR: 1.88e-04 | ETA: 89.5min\n"
     ]
    },
    {
     "name": "stdout",
     "output_type": "stream",
     "text": [
      "Step 2060/4128 (49.9%) | Loss: 0.2851 | Avg: 0.4746 | MAP@3: 0.9114 | LR: 1.87e-04 | ETA: 86.5min\n"
     ]
    },
    {
     "name": "stdout",
     "output_type": "stream",
     "text": [
      "Step 2472/4128 (59.9%) | Loss: 0.2408 | Avg: 0.4392 | MAP@3: 0.9168 | LR: 1.77e-04 | ETA: 68.3min\n"
     ]
    },
    {
     "name": "stdout",
     "output_type": "stream",
     "text": [
      "Step 2500/4128 (60.6%) | Loss: 0.6796 | Avg: 0.4367 | MAP@3: 0.9169 | LR: 1.76e-04 | ETA: 67.0min\n"
     ]
    },
    {
     "name": "stdout",
     "output_type": "stream",
     "text": [
      "Step 2884/4128 (69.9%) | Loss: 0.7636 | Avg: 0.4076 | MAP@3: 0.9283 | LR: 1.64e-04 | ETA: 50.2min\n"
     ]
    },
    {
     "name": "stdout",
     "output_type": "stream",
     "text": [
      "Step 3000/4128 (72.7%) | Loss: 0.7174 | Avg: 0.3957 | MAP@3: 0.9319 | LR: 1.61e-04 | ETA: 45.2min\n"
     ]
    },
    {
     "name": "stdout",
     "output_type": "stream",
     "text": [
      "Step 3296/4128 (79.8%) | Loss: 0.0649 | Avg: 0.3807 | MAP@3: 0.9335 | LR: 1.50e-04 | ETA: 33.0min\n"
     ]
    },
    {
     "name": "stdout",
     "output_type": "stream",
     "text": [
      "Step 3500/4128 (84.8%) | Loss: 0.8521 | Avg: 0.4137 | MAP@3: 0.9269 | LR: 1.43e-04 | ETA: 24.7min\n"
     ]
    },
    {
     "name": "stdout",
     "output_type": "stream",
     "text": [
      "Step 3708/4128 (89.8%) | Loss: 0.8370 | Avg: 0.4060 | MAP@3: 0.9276 | LR: 1.34e-04 | ETA: 16.5min\n"
     ]
    },
    {
     "name": "stdout",
     "output_type": "stream",
     "text": [
      "Evaluating at step 4000...\n"
     ]
    },
    {
     "name": "stdout",
     "output_type": "stream",
     "text": [
      "Val Loss: 0.3503 | Val MAP@3: 0.9393\n",
      "Step 4000/4128 (96.9%) | Loss: 0.7112 | Avg: 0.3460 | MAP@3: 0.9394 | LR: 1.23e-04 | ETA: 5.2min\n"
     ]
    },
    {
     "name": "stdout",
     "output_type": "stream",
     "text": [
      "Step 4120/4128 (99.8%) | Loss: 0.0415 | Avg: 0.3484 | MAP@3: 0.9399 | LR: 1.18e-04 | ETA: 0.3min\n"
     ]
    },
    {
     "name": "stdout",
     "output_type": "stream",
     "text": [
      "\n",
      "==================================================\n",
      "EPOCH 1 COMPLETE\n",
      "Train Loss: 0.6301 | Train MAP@3: 0.8799\n",
      "Time: 9937s | Steps: 4128\n",
      "==================================================\n"
     ]
    },
    {
     "name": "stdout",
     "output_type": "stream",
     "text": [
      "Saved: checkpoints/model_step_4128.pth\n",
      "Starting Epoch 2/2 - 4128 steps\n"
     ]
    },
    {
     "name": "stdout",
     "output_type": "stream",
     "text": [
      "Step 412/4128 (10.0%) | Loss: 0.3445 | Avg: 0.2281 | MAP@3: 0.9608 | LR: 1.00e-04 | ETA: 138.4min\n"
     ]
    },
    {
     "name": "stdout",
     "output_type": "stream",
     "text": [
      "Step 500/4128 (12.1%) | Loss: 0.0087 | Avg: 0.2284 | MAP@3: 0.9610 | LR: 9.63e-05 | ETA: 135.3min\n"
     ]
    },
    {
     "name": "stdout",
     "output_type": "stream",
     "text": [
      "Step 824/4128 (20.0%) | Loss: 0.2012 | Avg: 0.2388 | MAP@3: 0.9616 | LR: 8.27e-05 | ETA: 120.4min\n"
     ]
    },
    {
     "name": "stdout",
     "output_type": "stream",
     "text": [
      "Step 1000/4128 (24.2%) | Loss: 0.0537 | Avg: 0.2359 | MAP@3: 0.9614 | LR: 7.54e-05 | ETA: 114.6min\n"
     ]
    },
    {
     "name": "stdout",
     "output_type": "stream",
     "text": [
      "Step 1236/4128 (29.9%) | Loss: 0.0476 | Avg: 0.2356 | MAP@3: 0.9612 | LR: 6.59e-05 | ETA: 106.3min\n"
     ]
    },
    {
     "name": "stdout",
     "output_type": "stream",
     "text": [
      "Step 1500/4128 (36.3%) | Loss: 0.0524 | Avg: 0.2373 | MAP@3: 0.9607 | LR: 5.56e-05 | ETA: 99.5min\n"
     ]
    },
    {
     "name": "stdout",
     "output_type": "stream",
     "text": [
      "Step 1648/4128 (39.9%) | Loss: 0.0494 | Avg: 0.2215 | MAP@3: 0.9630 | LR: 5.01e-05 | ETA: 93.2min\n"
     ]
    },
    {
     "name": "stdout",
     "output_type": "stream",
     "text": [
      "Evaluating at step 6000...\n"
     ]
    },
    {
     "name": "stdout",
     "output_type": "stream",
     "text": [
      "Val Loss: 0.3373 | Val MAP@3: 0.9454\n"
     ]
    },
    {
     "name": "stdout",
     "output_type": "stream",
     "text": [
      "Step 2000/4128 (48.4%) | Loss: 0.5685 | Avg: 0.2027 | MAP@3: 0.9644 | LR: 3.78e-05 | ETA: 84.6min\n"
     ]
    },
    {
     "name": "stdout",
     "output_type": "stream",
     "text": [
      "Step 2060/4128 (49.9%) | Loss: 0.0741 | Avg: 0.2022 | MAP@3: 0.9642 | LR: 3.58e-05 | ETA: 81.9min\n"
     ]
    },
    {
     "name": "stdout",
     "output_type": "stream",
     "text": [
      "Step 2472/4128 (59.9%) | Loss: 0.2553 | Avg: 0.2111 | MAP@3: 0.9622 | LR: 2.35e-05 | ETA: 64.2min\n"
     ]
    },
    {
     "name": "stdout",
     "output_type": "stream",
     "text": [
      "Step 2500/4128 (60.6%) | Loss: 0.0195 | Avg: 0.2115 | MAP@3: 0.9618 | LR: 2.28e-05 | ETA: 63.0min\n"
     ]
    },
    {
     "name": "stdout",
     "output_type": "stream",
     "text": [
      "Step 2884/4128 (69.9%) | Loss: 0.0369 | Avg: 0.2115 | MAP@3: 0.9617 | LR: 1.35e-05 | ETA: 47.5min\n"
     ]
    },
    {
     "name": "stdout",
     "output_type": "stream",
     "text": [
      "Step 3000/4128 (72.7%) | Loss: 0.4023 | Avg: 0.2204 | MAP@3: 0.9607 | LR: 1.12e-05 | ETA: 43.0min\n"
     ]
    },
    {
     "name": "stdout",
     "output_type": "stream",
     "text": [
      "Step 3296/4128 (79.8%) | Loss: 0.0374 | Avg: 0.2162 | MAP@3: 0.9614 | LR: 6.12e-06 | ETA: 31.5min\n"
     ]
    },
    {
     "name": "stdout",
     "output_type": "stream",
     "text": [
      "Step 3500/4128 (84.8%) | Loss: 0.0116 | Avg: 0.2004 | MAP@3: 0.9635 | LR: 3.50e-06 | ETA: 23.7min\n"
     ]
    },
    {
     "name": "stdout",
     "output_type": "stream",
     "text": [
      "Step 3708/4128 (89.8%) | Loss: 0.0568 | Avg: 0.2097 | MAP@3: 0.9624 | LR: 1.57e-06 | ETA: 16.0min\n"
     ]
    },
    {
     "name": "stdout",
     "output_type": "stream",
     "text": [
      "Evaluating at step 8000...\n"
     ]
    },
    {
     "name": "stdout",
     "output_type": "stream",
     "text": [
      "Val Loss: 0.3301 | Val MAP@3: 0.9461\n"
     ]
    },
    {
     "name": "stdout",
     "output_type": "stream",
     "text": [
      "Step 4000/4128 (96.9%) | Loss: 0.1725 | Avg: 0.2060 | MAP@3: 0.9646 | LR: 1.46e-07 | ETA: 5.0min\n"
     ]
    },
    {
     "name": "stdout",
     "output_type": "stream",
     "text": [
      "Step 4120/4128 (99.8%) | Loss: 0.0184 | Avg: 0.2049 | MAP@3: 0.9654 | LR: 5.72e-10 | ETA: 0.3min\n"
     ]
    },
    {
     "name": "stdout",
     "output_type": "stream",
     "text": [
      "\n",
      "==================================================\n",
      "EPOCH 2 COMPLETE\n",
      "Train Loss: 0.2179 | Train MAP@3: 0.9623\n",
      "Time: 9655s | Steps: 8256\n",
      "==================================================\n"
     ]
    },
    {
     "name": "stdout",
     "output_type": "stream",
     "text": [
      "Saved: checkpoints/model_step_8256.pth\n",
      "\n",
      "Training completed in 19922s\n"
     ]
    }
   ],
   "source": [
    "# Create output directory\n",
    "os.makedirs(CFG.OUT_DIR, exist_ok=True)\n",
    "\n",
    "st = time.time()\n",
    "warnings.filterwarnings(\"error\")\n",
    "\n",
    "METRICS = {\n",
    "    'train_loss': [],\n",
    "    'val_loss': [],\n",
    "    'train_map3': [],\n",
    "    'val_map3': []\n",
    "}\n",
    "\n",
    "# if true, shows progress bar, in saved notebook it looks cryptic, so set to false\n",
    "INTERACTIVE_MODE = False  \n",
    "\n",
    "global_step = 0\n",
    "\n",
    "# Training loop\n",
    "for epoch in range(CFG.NUM_EPOCHS):\n",
    "    epoch_start = time.time()\n",
    "    model.train()\n",
    "    \n",
    "    print(f\"Starting Epoch {epoch+1}/{CFG.NUM_EPOCHS} - {STEPS_PER_EPOCH} steps\")\n",
    "    \n",
    "    # Progress bar only in interactive mode\n",
    "    if INTERACTIVE_MODE:\n",
    "        epoch_pbar = tqdm(range(STEPS_PER_EPOCH), \n",
    "                         desc=f\"Epoch {epoch+1}/{CFG.NUM_EPOCHS}\", \n",
    "                         leave=True,\n",
    "                         mininterval=1.0)\n",
    "    \n",
    "    epoch_losses = []\n",
    "    epoch_y_true = []\n",
    "    epoch_y_probs = []\n",
    "    \n",
    "    for step in range(STEPS_PER_EPOCH):\n",
    "        global_step += 1\n",
    "        \n",
    "        # Gradient accumulation loop\n",
    "        accumulated_loss = 0\n",
    "        OPTIMIZER.zero_grad()\n",
    "        \n",
    "        for accum_step in range(CFG.GRADACCUM):\n",
    "            input_ids, attention_mask, labels = next(TRAIN_DATASET)\n",
    "            outputs = model(input_ids=input_ids, attention_mask=attention_mask)\n",
    "            logits = outputs.logits.to(dtype=torch.float32)\n",
    "            \n",
    "            loss = LOSS_FN(logits, labels.to(dtype=torch.float32)) / CFG.GRADACCUM\n",
    "            loss.backward()\n",
    "            accumulated_loss += float(loss) * CFG.GRADACCUM\n",
    "            \n",
    "            if accum_step == CFG.GRADACCUM - 1:\n",
    "                probs = F.softmax(logits, dim=-1)\n",
    "                epoch_y_true.extend(labels.cpu().tolist())\n",
    "                epoch_y_probs.extend(probs.detach().cpu().numpy())\n",
    "        \n",
    "        # Move gradient clipping here\n",
    "        torch.nn.utils.clip_grad_norm_(model.parameters(), CFG.MAX_GRAD_NORM)\n",
    "        OPTIMIZER.step()\n",
    "        xm.mark_step()\n",
    "        lr_scheduler.step()\n",
    "        \n",
    "        epoch_losses.append(accumulated_loss)\n",
    "        METRICS['train_loss'].append(accumulated_loss)\n",
    "        \n",
    "        # Update progress bar in interactive mode\n",
    "        if INTERACTIVE_MODE:\n",
    "            current_lr = OPTIMIZER.param_groups[0]['lr']\n",
    "            \n",
    "            # Calculate recent MAP@3 for progress bar\n",
    "            if len(epoch_y_true) >= 100:\n",
    "                recent_true = epoch_y_true[-100:]\n",
    "                recent_probs = epoch_y_probs[-100:]\n",
    "                recent_map3 = compute_map3(np.array(recent_true), np.array(recent_probs))\n",
    "            else:\n",
    "                recent_map3 = 0.0\n",
    "                \n",
    "            epoch_pbar.set_postfix({\n",
    "                'loss': f'{accumulated_loss:.4f}',\n",
    "                'avg_loss': f'{np.mean(epoch_losses[-100:]):.4f}',\n",
    "                'map3': f'{recent_map3:.4f}',\n",
    "                'lr': f'{current_lr:.2e}'\n",
    "            })\n",
    "            epoch_pbar.update(1)\n",
    "        \n",
    "        # Step-based evaluation\n",
    "        should_eval_step = (CFG.EVAL_STRATEGY == \"steps\" and \n",
    "                           global_step % CFG.EVAL_STEPS == 0)\n",
    "        \n",
    "        # Step-based saving\n",
    "        should_save_step = (CFG.SAVE_STRATEGY == \"steps\" and \n",
    "                           global_step % CFG.SAVE_STEPS == 0)\n",
    "        \n",
    "        if should_eval_step:\n",
    "            if INTERACTIVE_MODE:\n",
    "                epoch_pbar.write(f\"Evaluating at step {global_step}...\")\n",
    "            else:\n",
    "                print(f\"Evaluating at step {global_step}...\")\n",
    "            val_loss, val_map3 = evaluate_model(model, VAL_DATASET, VAL_STEPS_PER_EPOCH)\n",
    "            METRICS['val_loss'].append(val_loss)\n",
    "            METRICS['val_map3'].append(val_map3)\n",
    "            if INTERACTIVE_MODE:\n",
    "                epoch_pbar.write(f\"Val Loss: {val_loss:.4f} | Val MAP@3: {val_map3:.4f}\")\n",
    "            else:\n",
    "                print(f\"Val Loss: {val_loss:.4f} | Val MAP@3: {val_map3:.4f}\")\n",
    "        \n",
    "        if should_save_step:\n",
    "            checkpoint_path = save_checkpoint(epoch+1, global_step)\n",
    "            if INTERACTIVE_MODE:\n",
    "                epoch_pbar.write(f\"Checkpoint saved: {checkpoint_path}\")\n",
    "            else:\n",
    "                print(f\"Checkpoint saved: {checkpoint_path}\")\n",
    "        \n",
    "        # Milestone logging\n",
    "        milestone_steps = [STEPS_PER_EPOCH // 10 * i for i in range(1, 11)]  # 10%, 20%, etc.\n",
    "        if (step + 1) in milestone_steps or (step + 1) % 500 == 0:\n",
    "            # Calculate ETA\n",
    "            elapsed = time.time() - epoch_start\n",
    "            progress = (step + 1) / STEPS_PER_EPOCH\n",
    "            eta_seconds = (elapsed / progress) * (1 - progress) if progress > 0 else 0\n",
    "            eta_minutes = eta_seconds / 60\n",
    "            \n",
    "            # Calculate metrics\n",
    "            avg_loss = np.mean(epoch_losses[-min(500, len(epoch_losses)):])\n",
    "            if len(epoch_y_true) >= 100:\n",
    "                recent_true = epoch_y_true[-min(500*CFG.BATCH_SIZE, len(epoch_y_true)):]\n",
    "                recent_probs = epoch_y_probs[-min(500*CFG.BATCH_SIZE, len(epoch_y_probs)):]\n",
    "                train_map3 = compute_map3(np.array(recent_true), np.array(recent_probs))\n",
    "            else:\n",
    "                train_map3 = 0.0\n",
    "            \n",
    "            progress_pct = progress * 100\n",
    "            current_lr = OPTIMIZER.param_groups[0]['lr']\n",
    "            \n",
    "            log_msg = (f\"Step {step+1}/{STEPS_PER_EPOCH} ({progress_pct:.1f}%) | \"\n",
    "                      f\"Loss: {accumulated_loss:.4f} | Avg: {avg_loss:.4f} | \"\n",
    "                      f\"MAP@3: {train_map3:.4f} | LR: {current_lr:.2e} | \"\n",
    "                      f\"ETA: {eta_minutes:.1f}min\")\n",
    "            \n",
    "            if INTERACTIVE_MODE:\n",
    "                epoch_pbar.write(log_msg)\n",
    "            else:\n",
    "                print(log_msg)\n",
    "    \n",
    "    if INTERACTIVE_MODE:\n",
    "        epoch_pbar.close()\n",
    "    \n",
    "    # End of epoch processing\n",
    "    epoch_train_loss = np.mean(epoch_losses)\n",
    "    epoch_train_map3 = compute_map3(np.array(epoch_y_true), np.array(epoch_y_probs))\n",
    "    METRICS['train_map3'].append(epoch_train_map3)\n",
    "    \n",
    "    val_loss, val_map3 = None, None\n",
    "    \n",
    "    # Epoch-based evaluation\n",
    "    if CFG.EVAL_STRATEGY == \"epoch\":\n",
    "        print(f\"Evaluating at end of epoch {epoch+1}...\")\n",
    "        val_loss, val_map3 = evaluate_model(model, VAL_DATASET, VAL_STEPS_PER_EPOCH)\n",
    "        METRICS['val_loss'].append(val_loss)\n",
    "        METRICS['val_map3'].append(val_map3)\n",
    "    \n",
    "    epoch_time = time.time() - epoch_start\n",
    "    \n",
    "    # Clean epoch summary\n",
    "    print(f\"\\n{'='*50}\")\n",
    "    print(f\"EPOCH {epoch+1} COMPLETE\")\n",
    "    print(f\"Train Loss: {epoch_train_loss:.4f} | Train MAP@3: {epoch_train_map3:.4f}\")\n",
    "    if val_loss is not None and val_map3 is not None:\n",
    "        print(f\"Val Loss: {val_loss:.4f} | Val MAP@3: {val_map3:.4f}\")\n",
    "    print(f\"Time: {epoch_time:.0f}s | Steps: {global_step}\")\n",
    "    print(f\"{'='*50}\")\n",
    "    \n",
    "    # Epoch-based saving\n",
    "    if CFG.SAVE_STRATEGY == \"epoch\":\n",
    "        checkpoint_path = save_checkpoint(epoch+1, global_step, val_map3)\n",
    "        print(f\"Saved: {checkpoint_path}\")\n",
    "\n",
    "print(f\"\\nTraining completed in {time.time() - st:.0f}s\")"
   ]
  },
  {
   "cell_type": "markdown",
   "id": "2737fe7a",
   "metadata": {
    "papermill": {
     "duration": 0.010142,
     "end_time": "2025-09-07T15:11:59.997246",
     "exception": false,
     "start_time": "2025-09-07T15:11:59.987104",
     "status": "completed"
    },
    "tags": []
   },
   "source": [
    "# Save model \n",
    "Final model saving."
   ]
  },
  {
   "cell_type": "code",
   "execution_count": 24,
   "id": "2b036b2e",
   "metadata": {
    "execution": {
     "iopub.execute_input": "2025-09-07T15:12:00.019440Z",
     "iopub.status.busy": "2025-09-07T15:12:00.019174Z",
     "iopub.status.idle": "2025-09-07T15:15:12.516888Z",
     "shell.execute_reply": "2025-09-07T15:15:12.515794Z"
    },
    "papermill": {
     "duration": 192.512338,
     "end_time": "2025-09-07T15:15:12.519745",
     "exception": false,
     "start_time": "2025-09-07T15:12:00.007407",
     "status": "completed"
    },
    "tags": []
   },
   "outputs": [],
   "source": [
    "# skip if not necessary\n",
    "model = model.cpu()\n",
    "torch.save(dict([(k,v) for k, v in model.named_parameters() if v.requires_grad]), 'deepseekmath7b_v1_epoch_2.pth')"
   ]
  },
  {
   "cell_type": "markdown",
   "id": "3df5cd44",
   "metadata": {
    "papermill": {
     "duration": 0.01102,
     "end_time": "2025-09-07T15:15:12.542241",
     "exception": false,
     "start_time": "2025-09-07T15:15:12.531221",
     "status": "completed"
    },
    "tags": []
   },
   "source": [
    "# Plot Loss \n",
    "Now, this is a test. Try to get a beautiful loss curve."
   ]
  },
  {
   "cell_type": "code",
   "execution_count": 25,
   "id": "7c5bd90b",
   "metadata": {
    "execution": {
     "iopub.execute_input": "2025-09-07T15:15:12.565593Z",
     "iopub.status.busy": "2025-09-07T15:15:12.565028Z",
     "iopub.status.idle": "2025-09-07T15:15:12.974437Z",
     "shell.execute_reply": "2025-09-07T15:15:12.973383Z"
    },
    "papermill": {
     "duration": 0.423713,
     "end_time": "2025-09-07T15:15:12.976624",
     "exception": false,
     "start_time": "2025-09-07T15:15:12.552911",
     "status": "completed"
    },
    "tags": []
   },
   "outputs": [
    {
     "data": {
      "image/png": "[encoded data removed]",
      "text/plain": [
       "<Figure size 1200x400 with 2 Axes>"
      ]
     },
     "metadata": {},
     "output_type": "display_data"
    },
    {
     "name": "stdout",
     "output_type": "stream",
     "text": [
      "Final - Train Loss: 0.0468\n",
      "Final - Val Loss: 0.3301\n",
      "Final - Train MAP@3: 0.9623\n",
      "Final - Val MAP@3: 0.9461\n"
     ]
    }
   ],
   "source": [
    "plot_metrics(METRICS)"
   ]
  },
  {
   "cell_type": "markdown",
   "id": "2bd15ac3",
   "metadata": {
    "papermill": {
     "duration": 0.011866,
     "end_time": "2025-09-07T15:15:13.000707",
     "exception": false,
     "start_time": "2025-09-07T15:15:12.988841",
     "status": "completed"
    },
    "tags": []
   },
   "source": [
    "# Conclusion \n",
    "\n",
    "- Try out more different batch size, lr, modules...\n",
    "\n",
    "All the best! Enjoy the process!"
   ]
  }
 ],
 "metadata": {
  "kaggle": {
   "accelerator": "tpu1vmV38",
   "dataSources": [
    {
     "databundleVersionId": 12957508,
     "sourceId": 104383,
     "sourceType": "competition"
    },
    {
     "modelId": 164048,
     "modelInstanceId": 141469,
     "sourceId": 166258,
     "sourceType": "modelInstanceVersion"
    },
    {
     "isSourceIdPinned": true,
     "modelId": 49476,
     "modelInstanceId": 35171,
     "sourceId": 41850,
     "sourceType": "modelInstanceVersion"
    }
   ],
   "dockerImageVersionId": 30734,
   "isGpuEnabled": false,
   "isInternetEnabled": true,
   "language": "python",
   "sourceType": "notebook"
  },
  "kernelspec": {
   "display_name": "Python 3",
   "language": "python",
   "name": "python3"
  },
  "language_info": {
   "codemirror_mode": {
    "name": "ipython",
    "version": 3
   },
   "file_extension": ".py",
   "mimetype": "text/x-python",
   "name": "python",
   "nbconvert_exporter": "python",
   "pygments_lexer": "ipython3",
   "version": "3.10.14"
  },
  "papermill": {
   "default_parameters": {},
   "duration": 20524.504484,
   "end_time": "2025-09-07T15:15:23.916329",
   "environment_variables": {},
   "exception": null,
   "input_path": "__notebook__.ipynb",
   "output_path": "__notebook__.ipynb",
   "parameters": {},
   "start_time": "2025-09-07T09:33:19.411845",
   "version": "2.6.0"
  }
 },
 "nbformat": 4,
 "nbformat_minor": 5
}
