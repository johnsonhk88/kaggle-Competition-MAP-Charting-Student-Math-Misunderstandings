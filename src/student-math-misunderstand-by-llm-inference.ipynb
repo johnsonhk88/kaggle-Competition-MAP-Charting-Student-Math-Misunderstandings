{
 "cells": [
  {
   "cell_type": "markdown",
   "id": "deecb44a",
   "metadata": {
    "papermill": {
     "duration": 0.022029,
     "end_time": "2025-09-30T15:39:40.429060",
     "exception": false,
     "start_time": "2025-09-30T15:39:40.407031",
     "status": "completed"
    },
    "tags": []
   },
   "source": [
    "# Kaggle Competition Info\n",
    "In this competition, you’ll develop an NLP model driven by ML to accurately predict students’ potential math misconceptions based on student explanations in open-ended responses. This solution will suggest candidate misconceptions for these explanations, making it easier for teachers to identify and address students’ incorrect thinking, which is critical to improving student math learning.  \n",
    "## Offical Link\n",
    "https://www.kaggle.com/competitions/map-charting-student-math-misunderstandings "
   ]
  },
  {
   "cell_type": "markdown",
   "id": "08d97ca2",
   "metadata": {
    "papermill": {
     "duration": 0.019209,
     "end_time": "2025-09-30T15:39:40.467667",
     "exception": false,
     "start_time": "2025-09-30T15:39:40.448458",
     "status": "completed"
    },
    "tags": []
   },
   "source": [
    "## My LLM Model training Code for this Competition\n",
    "<https://www.kaggle.com/code/johnsonhk88/student-math-misunderstand-by-llm-training>"
   ]
  },
  {
   "cell_type": "markdown",
   "id": "4827b1cc",
   "metadata": {
    "papermill": {
     "duration": 0.019192,
     "end_time": "2025-09-30T15:39:40.506085",
     "exception": false,
     "start_time": "2025-09-30T15:39:40.486893",
     "status": "completed"
    },
    "tags": []
   },
   "source": [
    "# Recommand install package first at Add-ons --> Install Dependence\n",
    "\n",
    "```python\n",
    "!pip install -U bitsandbytes==0.47.0\n",
    "!pip install -U peft==0.17.0\n",
    "!pip install -U trl==0.21.0\n",
    "!pip install -U accelerate==1.10.0\n",
    "!pip install transformers==4.55.0\n",
    "!pip install langchain==0.3.27\n",
    "!pip install -U langchain-core==0.3.74\n",
    "!pip install langchain-text-splitters==0.3.9\n",
    "!pip install langchain-community==0.3.27\n",
    "!pip install -U deepeval==3.3.9\n",
    "```"
   ]
  },
  {
   "cell_type": "code",
   "execution_count": 1,
   "id": "d37596df",
   "metadata": {
    "execution": {
     "iopub.execute_input": "2025-09-30T15:39:40.589861Z",
     "iopub.status.busy": "2025-09-30T15:39:40.589601Z",
     "iopub.status.idle": "2025-09-30T15:39:59.986656Z",
     "shell.execute_reply": "2025-09-30T15:39:59.985505Z"
    },
    "papermill": {
     "duration": 19.46462,
     "end_time": "2025-09-30T15:39:59.990173",
     "exception": false,
     "start_time": "2025-09-30T15:39:40.525553",
     "status": "completed"
    },
    "scrolled": true,
    "tags": []
   },
   "outputs": [
    {
     "name": "stdout",
     "output_type": "stream",
     "text": [
      "Looking in links: file:///kaggle/input/universal-llm-install-package2/V9/transformers-4.45.2-py3-none-any.whl\r\n",
      "Requirement already satisfied: transformers in /usr/local/lib/python3.11/dist-packages (4.52.4)\r\n",
      "Looking in links: file:///kaggle/input/universal-llm-install-package2/V9/accelerate-1.0.1-py3-none-any.whl\r\n",
      "Requirement already satisfied: accelerate in /usr/local/lib/python3.11/dist-packages (1.8.1)\r\n",
      "Looking in links: file:///kaggle/input/universal-llm-install-package2/V9/trl-0.11.4-py3-none-any.whl\r\n",
      "Processing /kaggle/input/universal-llm-install-package2/V9/trl-0.11.4-py3-none-any.whl\r\n",
      "Installing collected packages: trl\r\n",
      "Successfully installed trl-0.11.4\r\n",
      "Looking in links: file:///kaggle/input/universal-llm-install-package2/V9/peft-0.14.0-py3-none-any.whl\r\n",
      "Requirement already satisfied: peft in /usr/local/lib/python3.11/dist-packages (0.15.2)\r\n",
      "Looking in links: file:///kaggle/input/universal-llm-install-package2/V9/bitsandbytes-0.46.1-py3-none-manylinux_2_24_x86_64.whl\r\n",
      "Processing /kaggle/input/universal-llm-install-package2/V9/bitsandbytes-0.46.1-py3-none-manylinux_2_24_x86_64.whl\r\n",
      "Installing collected packages: bitsandbytes\r\n",
      "Successfully installed bitsandbytes-0.46.1\r\n",
      "Looking in links: file:///kaggle/input/universal-llm-install-package2/V9/langchain-0.3.3-py3-none-any.whl\r\n",
      "Requirement already satisfied: langchain in /usr/local/lib/python3.11/dist-packages (0.3.26)\r\n",
      "Looking in links: file:///kaggle/input/universal-llm-install-package2/V9/langchain_core-0.3.12-py3-none-any.whl\r\n",
      "Requirement already satisfied: langchain_core in /usr/local/lib/python3.11/dist-packages (0.3.66)\r\n",
      "Looking in links: file:///kaggle/input/universal-llm-install-package2/V9/langchain_text_splitters-0.3.0-py3-none-any.whl\r\n",
      "Requirement already satisfied: langchain_text_splitters in /usr/local/lib/python3.11/dist-packages (0.3.8)\r\n",
      "Looking in links: file:///kaggle/input/universal-llm-install-package2/V9/langchain_community-0.3.2-py3-none-any.whl\r\n",
      "Processing /kaggle/input/universal-llm-install-package2/V9/langchain_community-0.3.2-py3-none-any.whl\r\n",
      "Installing collected packages: langchain_community\r\n",
      "Successfully installed langchain_community-0.3.2\r\n"
     ]
    }
   ],
   "source": [
    "import kagglehub\n",
    "\n",
    "DEBUG = False#True\n",
    "\n",
    "if DEBUG is True:\n",
    "    !pip install git+https://github.com/huggingface/transformers.git  # install transformer from source\n",
    "    # !pip install --upgrade torch datasets accelerate peft bitsandbytes trl\n",
    "    # !pip install --upgrade accelerate peft bitsandbytes trl\n",
    "    !pip install --upgrade datasets accelerate  # add datasets, accelerate , bitsndbytes\n",
    "    # !pip install -U bitsandbytes==0.47.0\n",
    "    # !pip install -U peft==0.17.0\n",
    "    # !pip install -U trl==0.21.0\n",
    "    !pip install --upgrade peft trl\n",
    "    # !pip install -U accelerate==1.10.0\n",
    "    # !pip install transformers==4.55.0\n",
    "    !pip install langchain==0.3.27\n",
    "    !pip install -U langchain-core==0.3.74\n",
    "    !pip install langchain-text-splitters==0.3.9\n",
    "    !pip install langchain-community==0.3.27\n",
    "    !pip install -U deepeval==3.3.9\n",
    "    !pip install protobuf==4.25.8 #4.49.0     # 6.30.2      #==3.20.3 #4.49.0\n",
    "    !pip install triton==3.0.0   # avoid load LLM error\n",
    "    !pip install --upgrade bitsandbytes\n",
    "\n",
    "else:\n",
    "    # package = kagglehub.package_import(\"/johnsonhk88/universal-llm-install-package2\")\n",
    "    # installDir = \"/kaggle/input/universal-llm-install-package2/V7\" #\"/kaggle/input/universal-llm-install-package2/V7\"\n",
    "    installDir = \"/kaggle/input/universal-llm-install-package2/V9\"\n",
    "    # installDir2 =\"/kaggle/input/deepeval-open-source-llm-evaluation-framework\"\n",
    "    !pip install transformers --no-index --no-deps --find-links=file://{installDir}/transformers-4.45.2-py3-none-any.whl\n",
    "    !pip install -U accelerate --no-index --no-deps --find-links=file://{installDir}/accelerate-1.0.1-py3-none-any.whl\n",
    "    !pip install -U trl --no-index --no-deps --find-links=file://{installDir}/trl-0.11.4-py3-none-any.whl\n",
    "    !pip install -U peft --no-index --no-deps --find-links=file://{installDir}/peft-0.14.0-py3-none-any.whl\n",
    "    !pip install  bitsandbytes --no-index --no-deps --find-links=file://{installDir}/bitsandbytes-0.46.1-py3-none-manylinux_2_24_x86_64.whl\n",
    "    \n",
    "    !pip install -U langchain --no-index  --no-deps --find-links=file://{installDir}/langchain-0.3.3-py3-none-any.whl\n",
    "    !pip install -U langchain_core --no-index  --no-deps --find-links=file://{installDir}/langchain_core-0.3.12-py3-none-any.whl\n",
    "    !pip install -U langchain_text_splitters  --no-index  --no-deps  --find-links=file://{installDir}/langchain_text_splitters-0.3.0-py3-none-any.whl\n",
    "    !pip install -U langchain_community  --no-index  --no-deps   --find-links=file://{installDir}/langchain_community-0.3.2-py3-none-any.whl\n",
    "    # !pip install -U triton  --no-index --no-deps  --find-links=file://{installDir}/triton-3.4.0-cp311-cp311-manylinux_2_27_x86_64.manylinux_2_28_x86_64.whl\n",
    "    # !pip install -U protobuf  --no-index  --no-deps  --find-links=file://{installDir}/protobuf-4.25.8-cp37-abi3-manylinux2014_x86_64.whl  \n",
    "    \n",
    "    # !pip install -U vllm   --no-index --find-links=file:///kaggle/input/vllm-inference/\n",
    "\n"
   ]
  },
  {
   "cell_type": "code",
   "execution_count": 2,
   "id": "3a084851",
   "metadata": {
    "execution": {
     "iopub.execute_input": "2025-09-30T15:40:00.048684Z",
     "iopub.status.busy": "2025-09-30T15:40:00.048436Z",
     "iopub.status.idle": "2025-09-30T15:40:00.051944Z",
     "shell.execute_reply": "2025-09-30T15:40:00.051365Z"
    },
    "papermill": {
     "duration": 0.027111,
     "end_time": "2025-09-30T15:40:00.053019",
     "exception": false,
     "start_time": "2025-09-30T15:40:00.025908",
     "status": "completed"
    },
    "tags": []
   },
   "outputs": [],
   "source": [
    "# !pip install triton==3.0.0\n",
    "# !pip install triton==3.3.0"
   ]
  },
  {
   "cell_type": "code",
   "execution_count": 3,
   "id": "de5813b2",
   "metadata": {
    "execution": {
     "iopub.execute_input": "2025-09-30T15:40:00.096059Z",
     "iopub.status.busy": "2025-09-30T15:40:00.095736Z",
     "iopub.status.idle": "2025-09-30T15:40:10.077973Z",
     "shell.execute_reply": "2025-09-30T15:40:10.077335Z"
    },
    "papermill": {
     "duration": 10.004839,
     "end_time": "2025-09-30T15:40:10.079382",
     "exception": false,
     "start_time": "2025-09-30T15:40:00.074543",
     "status": "completed"
    },
    "tags": []
   },
   "outputs": [],
   "source": [
    "import numpy as np # linear algebra\n",
    "import pandas as pd # data processing, CSV file I/O (e.g. pd.read_csv)\n",
    "from sklearn.preprocessing import LabelEncoder\n",
    "from sklearn.model_selection import train_test_split\n",
    "\n",
    "import os, time , gc , json\n",
    "import numpy as np # linear algebra\n",
    "import pandas as pd # data processing, CSV file I/O (e.g. pd.read_csv)\n",
    "import matplotlib.pyplot as plt\n",
    "import seaborn as sns\n",
    "\n",
    "import torch\n",
    "from torch import nn\n",
    "import transformers\n",
    "\n",
    "\n"
   ]
  },
  {
   "cell_type": "code",
   "execution_count": 4,
   "id": "e9a7f399",
   "metadata": {
    "execution": {
     "iopub.execute_input": "2025-09-30T15:40:10.124847Z",
     "iopub.status.busy": "2025-09-30T15:40:10.124511Z",
     "iopub.status.idle": "2025-09-30T15:40:10.127883Z",
     "shell.execute_reply": "2025-09-30T15:40:10.127342Z"
    },
    "papermill": {
     "duration": 0.025168,
     "end_time": "2025-09-30T15:40:10.128961",
     "exception": false,
     "start_time": "2025-09-30T15:40:10.103793",
     "status": "completed"
    },
    "scrolled": true,
    "tags": []
   },
   "outputs": [],
   "source": [
    "# !pip install trl==0.15.0\n"
   ]
  },
  {
   "cell_type": "code",
   "execution_count": 5,
   "id": "2afd4543",
   "metadata": {
    "execution": {
     "iopub.execute_input": "2025-09-30T15:40:10.170051Z",
     "iopub.status.busy": "2025-09-30T15:40:10.169811Z",
     "iopub.status.idle": "2025-09-30T15:40:10.178979Z",
     "shell.execute_reply": "2025-09-30T15:40:10.178386Z"
    },
    "papermill": {
     "duration": 0.030521,
     "end_time": "2025-09-30T15:40:10.180013",
     "exception": false,
     "start_time": "2025-09-30T15:40:10.149492",
     "status": "completed"
    },
    "tags": []
   },
   "outputs": [
    {
     "data": {
      "text/plain": [
       "'0.11.4'"
      ]
     },
     "execution_count": 5,
     "metadata": {},
     "output_type": "execute_result"
    }
   ],
   "source": [
    "import trl\n",
    "trl.__version__"
   ]
  },
  {
   "cell_type": "code",
   "execution_count": 6,
   "id": "a5c19a64",
   "metadata": {
    "execution": {
     "iopub.execute_input": "2025-09-30T15:40:10.220850Z",
     "iopub.status.busy": "2025-09-30T15:40:10.220643Z",
     "iopub.status.idle": "2025-09-30T15:40:33.393177Z",
     "shell.execute_reply": "2025-09-30T15:40:33.392293Z"
    },
    "papermill": {
     "duration": 23.194364,
     "end_time": "2025-09-30T15:40:33.394480",
     "exception": false,
     "start_time": "2025-09-30T15:40:10.200116",
     "status": "completed"
    },
    "tags": []
   },
   "outputs": [
    {
     "name": "stderr",
     "output_type": "stream",
     "text": [
      "2025-09-30 15:40:13.665984: E external/local_xla/xla/stream_executor/cuda/cuda_fft.cc:477] Unable to register cuFFT factory: Attempting to register factory for plugin cuFFT when one has already been registered\n",
      "WARNING: All log messages before absl::InitializeLog() is called are written to STDERR\n",
      "E0000 00:00:1759246813.886392      19 cuda_dnn.cc:8310] Unable to register cuDNN factory: Attempting to register factory for plugin cuDNN when one has already been registered\n",
      "E0000 00:00:1759246813.948174      19 cuda_blas.cc:1418] Unable to register cuBLAS factory: Attempting to register factory for plugin cuBLAS when one has already been registered\n"
     ]
    }
   ],
   "source": [
    "import torch\n",
    "from sklearn.model_selection import train_test_split\n",
    "\n",
    "from transformers import (AutoTokenizer, \n",
    "                          BitsAndBytesConfig, \n",
    "                          AutoModelForCausalLM,\n",
    "                          AutoModelForSequenceClassification,\n",
    "                         TrainingArguments)\n",
    "\n",
    "from datasets import Dataset, DatasetDict, load_dataset\n",
    "\n",
    "\n",
    "# Fine tuning \n",
    "from trl import SFTTrainer, SFTConfig\n",
    "from peft import (LoraConfig, \n",
    "                    PeftModel, \n",
    "                    get_peft_model)\n",
    "                    # prepare_model_for_kbit_training)  #prepare_model_for_int8_training deprecated \n",
    "\n",
    "from sklearn.metrics import (classification_report, ConfusionMatrixDisplay, log_loss,\n",
    "                             f1_score, accuracy_score, precision_score, recall_score)"
   ]
  },
  {
   "cell_type": "code",
   "execution_count": 7,
   "id": "573653b6",
   "metadata": {
    "_cell_guid": "b1076dfc-b9ad-4769-8c92-a6c4dae69d19",
    "_uuid": "8f2839f25d086af736a60e9eeb907d3b93b6e0e5",
    "execution": {
     "iopub.execute_input": "2025-09-30T15:40:33.438094Z",
     "iopub.status.busy": "2025-09-30T15:40:33.437530Z",
     "iopub.status.idle": "2025-09-30T15:40:33.457692Z",
     "shell.execute_reply": "2025-09-30T15:40:33.456717Z"
    },
    "papermill": {
     "duration": 0.042305,
     "end_time": "2025-09-30T15:40:33.458765",
     "exception": false,
     "start_time": "2025-09-30T15:40:33.416460",
     "status": "completed"
    },
    "tags": []
   },
   "outputs": [
    {
     "name": "stdout",
     "output_type": "stream",
     "text": [
      "/kaggle/input/map-charting-student-math-misunderstandings/sample_submission.csv\n",
      "/kaggle/input/map-charting-student-math-misunderstandings/train.csv\n",
      "/kaggle/input/map-charting-student-math-misunderstandings/test.csv\n",
      "/kaggle/input/universal-llm-install-package2/V9/langchain_community-0.3.2-py3-none-any.whl\n",
      "/kaggle/input/universal-llm-install-package2/V9/langsmith-0.1.136-py3-none-any.whl\n",
      "/kaggle/input/universal-llm-install-package2/V9/langchain_core-0.3.12-py3-none-any.whl\n",
      "/kaggle/input/universal-llm-install-package2/V9/accelerate-1.0.1-py3-none-any.whl\n",
      "/kaggle/input/universal-llm-install-package2/V9/trl-0.11.4-py3-none-any.whl\n",
      "/kaggle/input/universal-llm-install-package2/V9/langchain_text_splitters-0.3.0-py3-none-any.whl\n",
      "/kaggle/input/universal-llm-install-package2/V9/bitsandbytes-0.46.1-py3-none-manylinux_2_24_x86_64.whl\n",
      "/kaggle/input/universal-llm-install-package2/V9/huggingface_hub-0.26.0-py3-none-any.whl\n",
      "/kaggle/input/universal-llm-install-package2/V9/protobuf-4.25.8-cp37-abi3-manylinux2014_x86_64.whl\n",
      "/kaggle/input/universal-llm-install-package2/V9/triton-3.4.0-cp311-cp311-manylinux_2_27_x86_64.manylinux_2_28_x86_64.whl\n",
      "/kaggle/input/universal-llm-install-package2/V9/langchain-0.3.3-py3-none-any.whl\n",
      "/kaggle/input/universal-llm-install-package2/V9/peft-0.14.0-py3-none-any.whl\n",
      "/kaggle/input/universal-llm-install-package2/V9/transformers-4.45.2-py3-none-any.whl\n",
      "/kaggle/input/qwen-3-reranker/transformers/4b/1/model.safetensors.index.json\n",
      "/kaggle/input/qwen-3-reranker/transformers/4b/1/config.json\n",
      "/kaggle/input/qwen-3-reranker/transformers/4b/1/merges.txt\n",
      "/kaggle/input/qwen-3-reranker/transformers/4b/1/model-00001-of-00002.safetensors\n",
      "/kaggle/input/qwen-3-reranker/transformers/4b/1/model-00002-of-00002.safetensors\n",
      "/kaggle/input/qwen-3-reranker/transformers/4b/1/README.md\n",
      "/kaggle/input/qwen-3-reranker/transformers/4b/1/tokenizer.json\n",
      "/kaggle/input/qwen-3-reranker/transformers/4b/1/vocab.json\n",
      "/kaggle/input/qwen-3-reranker/transformers/4b/1/tokenizer_config.json\n",
      "/kaggle/input/qwen-3-reranker/transformers/4b/1/special_tokens_map.json\n",
      "/kaggle/input/qwen-3-reranker/transformers/4b/1/generation_config.json\n",
      "/kaggle/input/student-math-llm-fine-tune/transformers/default/11/student-math-llm-Fine-tune/adapter_model.safetensors\n",
      "/kaggle/input/student-math-llm-fine-tune/transformers/default/11/student-math-llm-Fine-tune/adapter_config.json\n",
      "/kaggle/input/student-math-llm-fine-tune/transformers/default/11/student-math-llm-Fine-tune/README.md\n"
     ]
    }
   ],
   "source": [
    "\n",
    "\n",
    "# Input data files are available in the read-only \"../input/\" directory\n",
    "# For example, running this (by clicking run or pressing Shift+Enter) will list all files under the input directory\n",
    "\n",
    "import os\n",
    "for dirname, _, filenames in os.walk('/kaggle/input'):\n",
    "    for filename in filenames:\n",
    "        print(os.path.join(dirname, filename))\n",
    "\n",
    "# You can write up to 20GB to the current directory (/kaggle/working/) that gets preserved as output when you create a version using \"Save & Run All\" \n",
    "# You can also write temporary files to /kaggle/temp/, but they won't be saved outside of the current session"
   ]
  },
  {
   "cell_type": "code",
   "execution_count": 8,
   "id": "1ad6a835",
   "metadata": {
    "execution": {
     "iopub.execute_input": "2025-09-30T15:40:33.501030Z",
     "iopub.status.busy": "2025-09-30T15:40:33.500595Z",
     "iopub.status.idle": "2025-09-30T15:40:33.506278Z",
     "shell.execute_reply": "2025-09-30T15:40:33.505606Z"
    },
    "papermill": {
     "duration": 0.027697,
     "end_time": "2025-09-30T15:40:33.507406",
     "exception": false,
     "start_time": "2025-09-30T15:40:33.479709",
     "status": "completed"
    },
    "tags": []
   },
   "outputs": [],
   "source": [
    "class CFG:\n",
    "    DeepEval = False #True  # True must enable \"Internet on\" \n",
    "    SEED = 42\n",
    "\n",
    "     # LLM Config \n",
    "    reportTo =\"none\"\n",
    "    topK = 40\n",
    "    topP = 1.0\n",
    "    temperature = 0.1 #0.5\n",
    "    repetition_penalty = 1.05 # 1.1\n",
    "    maxOutToken = 300 #150#180 #100\n",
    "    test_size = 0.001 #0.005 #0.005 #0.1 #0.01 #0.005 #0.01\n",
    "\n",
    "\n",
    "    # Fine tuning Config\n",
    "    maxLength = 256 #384 #512 #256 #368 #512 #1024 \n",
    "    reportTo = \"none\"\n",
    "    maxEpoch = 0.013 #0.005 #0.01 #0.005 #0.5 #0.05 #0.02 #0.05  #0.1 #0.5 #1 #2\n",
    "    evalSteps = 20 #50 #30 #40 #20 \n",
    "    learning_rate = 5e-4 #2e-5 #1e-5 #8e-5 #5e-5 #2e-5 #2e-4 #1e-4\n",
    "    per_device_train_batch_size = 9 #5 #4 #6 #8 #10#6#16 #6 #2 #8#6 #8\n",
    "    per_device_eval_batch_size =  9 #5 #4 #6 #8 #10 #6#16 #6 #2 #8#6 #8  \n",
    "    # Lora config\n",
    "    DROPOUT = 0.05 #0.1 #0.05\n",
    "    weight_decay = 0.01 \n",
    "\n",
    "    warmup_steps= 10 #5# 10\n",
    "    gradient_accumulation_steps = 4 #8 # 4 #2  #10\n",
    "    maxTrainStep =  500 #120 #160 #100 #50#100 #250 #150 \n",
    "    valDatasetSize = 50 #20 #10 #50 #500 # set validiation data size\n",
    "\n",
    "\n",
    "    #model\n",
    "    model1 = \"/kaggle/input/qwen-3/transformers/8b/1\"\n",
    "    model2 = \"/kaggle/input/qwen-3-reranker/transformers/4b/1\"\n",
    "    fineTunedmodel1 = \"/kaggle/input/student-math-llm-fine-tune/transformers/default/11/student-math-llm-Fine-tune\"\n",
    "    \n",
    "    #\n",
    "    frac = 0.5 #0.3 #0.3 #0.3 #0.1 # Random resample data(reduce train data size )\n",
    "    \n",
    "\n",
    "    trainFile = \"/kaggle/input/map-charting-student-math-misunderstandings/train.csv\"\n",
    "    testFile  = \"/kaggle/input/map-charting-student-math-misunderstandings/test.csv\"\n",
    "    sampleFile = \"/kaggle/input/map-charting-student-math-misunderstandings/sample_submission.csv\"\n",
    "    "
   ]
  },
  {
   "cell_type": "code",
   "execution_count": 9,
   "id": "d9428b39",
   "metadata": {
    "execution": {
     "iopub.execute_input": "2025-09-30T15:40:33.548336Z",
     "iopub.status.busy": "2025-09-30T15:40:33.548130Z",
     "iopub.status.idle": "2025-09-30T15:40:33.552440Z",
     "shell.execute_reply": "2025-09-30T15:40:33.551911Z"
    },
    "papermill": {
     "duration": 0.025973,
     "end_time": "2025-09-30T15:40:33.553414",
     "exception": false,
     "start_time": "2025-09-30T15:40:33.527441",
     "status": "completed"
    },
    "tags": []
   },
   "outputs": [
    {
     "data": {
      "text/plain": [
       "device(type='cuda')"
      ]
     },
     "execution_count": 9,
     "metadata": {},
     "output_type": "execute_result"
    }
   ],
   "source": [
    "device = torch.device(\"cuda\" if torch.cuda.is_available() else \"cpu\")\n",
    "device"
   ]
  },
  {
   "cell_type": "code",
   "execution_count": 10,
   "id": "0fda38d0",
   "metadata": {
    "execution": {
     "iopub.execute_input": "2025-09-30T15:40:33.594025Z",
     "iopub.status.busy": "2025-09-30T15:40:33.593791Z",
     "iopub.status.idle": "2025-09-30T15:40:33.775573Z",
     "shell.execute_reply": "2025-09-30T15:40:33.774915Z"
    },
    "papermill": {
     "duration": 0.203888,
     "end_time": "2025-09-30T15:40:33.777354",
     "exception": false,
     "start_time": "2025-09-30T15:40:33.573466",
     "status": "completed"
    },
    "tags": []
   },
   "outputs": [
    {
     "data": {
      "text/plain": [
       "True"
      ]
     },
     "execution_count": 10,
     "metadata": {},
     "output_type": "execute_result"
    }
   ],
   "source": [
    "torch.cuda.is_bf16_supported()"
   ]
  },
  {
   "cell_type": "code",
   "execution_count": 11,
   "id": "8262ec6f",
   "metadata": {
    "execution": {
     "iopub.execute_input": "2025-09-30T15:40:33.819162Z",
     "iopub.status.busy": "2025-09-30T15:40:33.818888Z",
     "iopub.status.idle": "2025-09-30T15:40:33.822445Z",
     "shell.execute_reply": "2025-09-30T15:40:33.821895Z"
    },
    "papermill": {
     "duration": 0.025258,
     "end_time": "2025-09-30T15:40:33.823461",
     "exception": false,
     "start_time": "2025-09-30T15:40:33.798203",
     "status": "completed"
    },
    "tags": []
   },
   "outputs": [],
   "source": [
    "def clearMemory():\n",
    "    for _ in range(5):\n",
    "        torch.cuda.empty_cache()\n",
    "        gc.collect()\n",
    "        time.sleep(0.3)"
   ]
  },
  {
   "cell_type": "code",
   "execution_count": 12,
   "id": "28ce3774",
   "metadata": {
    "execution": {
     "iopub.execute_input": "2025-09-30T15:40:33.865025Z",
     "iopub.status.busy": "2025-09-30T15:40:33.864783Z",
     "iopub.status.idle": "2025-09-30T15:40:37.120244Z",
     "shell.execute_reply": "2025-09-30T15:40:37.119447Z"
    },
    "papermill": {
     "duration": 3.277595,
     "end_time": "2025-09-30T15:40:37.121689",
     "exception": false,
     "start_time": "2025-09-30T15:40:33.844094",
     "status": "completed"
    },
    "tags": []
   },
   "outputs": [],
   "source": [
    "clearMemory()"
   ]
  },
  {
   "cell_type": "code",
   "execution_count": 13,
   "id": "72d2a76d",
   "metadata": {
    "execution": {
     "iopub.execute_input": "2025-09-30T15:40:37.164280Z",
     "iopub.status.busy": "2025-09-30T15:40:37.164027Z",
     "iopub.status.idle": "2025-09-30T15:40:37.362617Z",
     "shell.execute_reply": "2025-09-30T15:40:37.361990Z"
    },
    "papermill": {
     "duration": 0.220739,
     "end_time": "2025-09-30T15:40:37.363756",
     "exception": false,
     "start_time": "2025-09-30T15:40:37.143017",
     "status": "completed"
    },
    "tags": []
   },
   "outputs": [
    {
     "data": {
      "text/html": [
       "<div>\n",
       "<style scoped>\n",
       "    .dataframe tbody tr th:only-of-type {\n",
       "        vertical-align: middle;\n",
       "    }\n",
       "\n",
       "    .dataframe tbody tr th {\n",
       "        vertical-align: top;\n",
       "    }\n",
       "\n",
       "    .dataframe thead th {\n",
       "        text-align: right;\n",
       "    }\n",
       "</style>\n",
       "<table border=\"1\" class=\"dataframe\">\n",
       "  <thead>\n",
       "    <tr style=\"text-align: right;\">\n",
       "      <th></th>\n",
       "      <th>row_id</th>\n",
       "      <th>QuestionId</th>\n",
       "      <th>QuestionText</th>\n",
       "      <th>MC_Answer</th>\n",
       "      <th>StudentExplanation</th>\n",
       "      <th>Category</th>\n",
       "      <th>Misconception</th>\n",
       "    </tr>\n",
       "  </thead>\n",
       "  <tbody>\n",
       "    <tr>\n",
       "      <th>0</th>\n",
       "      <td>0</td>\n",
       "      <td>31772</td>\n",
       "      <td>What fraction of the shape is not shaded? Give...</td>\n",
       "      <td>\\( \\frac{1}{3} \\)</td>\n",
       "      <td>0ne third is equal to tree nineth</td>\n",
       "      <td>True_Correct</td>\n",
       "      <td>NaN</td>\n",
       "    </tr>\n",
       "    <tr>\n",
       "      <th>1</th>\n",
       "      <td>1</td>\n",
       "      <td>31772</td>\n",
       "      <td>What fraction of the shape is not shaded? Give...</td>\n",
       "      <td>\\( \\frac{1}{3} \\)</td>\n",
       "      <td>1 / 3 because 6 over 9 is 2 thirds and 1 third...</td>\n",
       "      <td>True_Correct</td>\n",
       "      <td>NaN</td>\n",
       "    </tr>\n",
       "    <tr>\n",
       "      <th>2</th>\n",
       "      <td>2</td>\n",
       "      <td>31772</td>\n",
       "      <td>What fraction of the shape is not shaded? Give...</td>\n",
       "      <td>\\( \\frac{1}{3} \\)</td>\n",
       "      <td>1 3rd is half of 3 6th, so it is simplee to un...</td>\n",
       "      <td>True_Neither</td>\n",
       "      <td>NaN</td>\n",
       "    </tr>\n",
       "    <tr>\n",
       "      <th>3</th>\n",
       "      <td>3</td>\n",
       "      <td>31772</td>\n",
       "      <td>What fraction of the shape is not shaded? Give...</td>\n",
       "      <td>\\( \\frac{1}{3} \\)</td>\n",
       "      <td>1 goes into everything and 3 goes into nine</td>\n",
       "      <td>True_Neither</td>\n",
       "      <td>NaN</td>\n",
       "    </tr>\n",
       "    <tr>\n",
       "      <th>4</th>\n",
       "      <td>4</td>\n",
       "      <td>31772</td>\n",
       "      <td>What fraction of the shape is not shaded? Give...</td>\n",
       "      <td>\\( \\frac{1}{3} \\)</td>\n",
       "      <td>1 out of every 3 isn't coloured</td>\n",
       "      <td>True_Correct</td>\n",
       "      <td>NaN</td>\n",
       "    </tr>\n",
       "  </tbody>\n",
       "</table>\n",
       "</div>"
      ],
      "text/plain": [
       "   row_id  QuestionId                                       QuestionText  \\\n",
       "0       0       31772  What fraction of the shape is not shaded? Give...   \n",
       "1       1       31772  What fraction of the shape is not shaded? Give...   \n",
       "2       2       31772  What fraction of the shape is not shaded? Give...   \n",
       "3       3       31772  What fraction of the shape is not shaded? Give...   \n",
       "4       4       31772  What fraction of the shape is not shaded? Give...   \n",
       "\n",
       "           MC_Answer                                 StudentExplanation  \\\n",
       "0  \\( \\frac{1}{3} \\)                  0ne third is equal to tree nineth   \n",
       "1  \\( \\frac{1}{3} \\)  1 / 3 because 6 over 9 is 2 thirds and 1 third...   \n",
       "2  \\( \\frac{1}{3} \\)  1 3rd is half of 3 6th, so it is simplee to un...   \n",
       "3  \\( \\frac{1}{3} \\)        1 goes into everything and 3 goes into nine   \n",
       "4  \\( \\frac{1}{3} \\)                    1 out of every 3 isn't coloured   \n",
       "\n",
       "       Category Misconception  \n",
       "0  True_Correct           NaN  \n",
       "1  True_Correct           NaN  \n",
       "2  True_Neither           NaN  \n",
       "3  True_Neither           NaN  \n",
       "4  True_Correct           NaN  "
      ]
     },
     "execution_count": 13,
     "metadata": {},
     "output_type": "execute_result"
    }
   ],
   "source": [
    "trainDF = pd.read_csv(CFG.trainFile)\n",
    "trainDF.head()"
   ]
  },
  {
   "cell_type": "code",
   "execution_count": 14,
   "id": "9a6d656c",
   "metadata": {
    "execution": {
     "iopub.execute_input": "2025-09-30T15:40:37.406765Z",
     "iopub.status.busy": "2025-09-30T15:40:37.406557Z",
     "iopub.status.idle": "2025-09-30T15:40:37.436846Z",
     "shell.execute_reply": "2025-09-30T15:40:37.436072Z"
    },
    "papermill": {
     "duration": 0.052885,
     "end_time": "2025-09-30T15:40:37.438158",
     "exception": false,
     "start_time": "2025-09-30T15:40:37.385273",
     "status": "completed"
    },
    "tags": []
   },
   "outputs": [
    {
     "name": "stdout",
     "output_type": "stream",
     "text": [
      "<class 'pandas.core.frame.DataFrame'>\n",
      "RangeIndex: 36696 entries, 0 to 36695\n",
      "Data columns (total 7 columns):\n",
      " #   Column              Non-Null Count  Dtype \n",
      "---  ------              --------------  ----- \n",
      " 0   row_id              36696 non-null  int64 \n",
      " 1   QuestionId          36696 non-null  int64 \n",
      " 2   QuestionText        36696 non-null  object\n",
      " 3   MC_Answer           36696 non-null  object\n",
      " 4   StudentExplanation  36696 non-null  object\n",
      " 5   Category            36696 non-null  object\n",
      " 6   Misconception       9860 non-null   object\n",
      "dtypes: int64(2), object(5)\n",
      "memory usage: 2.0+ MB\n"
     ]
    }
   ],
   "source": [
    "trainDF.info()"
   ]
  },
  {
   "cell_type": "code",
   "execution_count": 15,
   "id": "210d33aa",
   "metadata": {
    "execution": {
     "iopub.execute_input": "2025-09-30T15:40:37.481225Z",
     "iopub.status.busy": "2025-09-30T15:40:37.480989Z",
     "iopub.status.idle": "2025-09-30T15:40:37.496406Z",
     "shell.execute_reply": "2025-09-30T15:40:37.495647Z"
    },
    "papermill": {
     "duration": 0.037823,
     "end_time": "2025-09-30T15:40:37.497588",
     "exception": false,
     "start_time": "2025-09-30T15:40:37.459765",
     "status": "completed"
    },
    "tags": []
   },
   "outputs": [
    {
     "data": {
      "text/html": [
       "<div>\n",
       "<style scoped>\n",
       "    .dataframe tbody tr th:only-of-type {\n",
       "        vertical-align: middle;\n",
       "    }\n",
       "\n",
       "    .dataframe tbody tr th {\n",
       "        vertical-align: top;\n",
       "    }\n",
       "\n",
       "    .dataframe thead th {\n",
       "        text-align: right;\n",
       "    }\n",
       "</style>\n",
       "<table border=\"1\" class=\"dataframe\">\n",
       "  <thead>\n",
       "    <tr style=\"text-align: right;\">\n",
       "      <th></th>\n",
       "      <th>row_id</th>\n",
       "      <th>QuestionId</th>\n",
       "    </tr>\n",
       "  </thead>\n",
       "  <tbody>\n",
       "    <tr>\n",
       "      <th>count</th>\n",
       "      <td>36696.000000</td>\n",
       "      <td>36696.000000</td>\n",
       "    </tr>\n",
       "    <tr>\n",
       "      <th>mean</th>\n",
       "      <td>18347.500000</td>\n",
       "      <td>46356.825104</td>\n",
       "    </tr>\n",
       "    <tr>\n",
       "      <th>std</th>\n",
       "      <td>10593.367076</td>\n",
       "      <td>25617.723392</td>\n",
       "    </tr>\n",
       "    <tr>\n",
       "      <th>min</th>\n",
       "      <td>0.000000</td>\n",
       "      <td>31772.000000</td>\n",
       "    </tr>\n",
       "    <tr>\n",
       "      <th>25%</th>\n",
       "      <td>9173.750000</td>\n",
       "      <td>31777.000000</td>\n",
       "    </tr>\n",
       "    <tr>\n",
       "      <th>50%</th>\n",
       "      <td>18347.500000</td>\n",
       "      <td>32833.000000</td>\n",
       "    </tr>\n",
       "    <tr>\n",
       "      <th>75%</th>\n",
       "      <td>27521.250000</td>\n",
       "      <td>33474.000000</td>\n",
       "    </tr>\n",
       "    <tr>\n",
       "      <th>max</th>\n",
       "      <td>36695.000000</td>\n",
       "      <td>109465.000000</td>\n",
       "    </tr>\n",
       "  </tbody>\n",
       "</table>\n",
       "</div>"
      ],
      "text/plain": [
       "             row_id     QuestionId\n",
       "count  36696.000000   36696.000000\n",
       "mean   18347.500000   46356.825104\n",
       "std    10593.367076   25617.723392\n",
       "min        0.000000   31772.000000\n",
       "25%     9173.750000   31777.000000\n",
       "50%    18347.500000   32833.000000\n",
       "75%    27521.250000   33474.000000\n",
       "max    36695.000000  109465.000000"
      ]
     },
     "execution_count": 15,
     "metadata": {},
     "output_type": "execute_result"
    }
   ],
   "source": [
    "trainDF.describe()"
   ]
  },
  {
   "cell_type": "code",
   "execution_count": 16,
   "id": "9898dfbc",
   "metadata": {
    "execution": {
     "iopub.execute_input": "2025-09-30T15:40:37.542005Z",
     "iopub.status.busy": "2025-09-30T15:40:37.541751Z",
     "iopub.status.idle": "2025-09-30T15:40:37.553080Z",
     "shell.execute_reply": "2025-09-30T15:40:37.552500Z"
    },
    "papermill": {
     "duration": 0.033988,
     "end_time": "2025-09-30T15:40:37.554154",
     "exception": false,
     "start_time": "2025-09-30T15:40:37.520166",
     "status": "completed"
    },
    "tags": []
   },
   "outputs": [
    {
     "data": {
      "text/html": [
       "<div>\n",
       "<style scoped>\n",
       "    .dataframe tbody tr th:only-of-type {\n",
       "        vertical-align: middle;\n",
       "    }\n",
       "\n",
       "    .dataframe tbody tr th {\n",
       "        vertical-align: top;\n",
       "    }\n",
       "\n",
       "    .dataframe thead th {\n",
       "        text-align: right;\n",
       "    }\n",
       "</style>\n",
       "<table border=\"1\" class=\"dataframe\">\n",
       "  <thead>\n",
       "    <tr style=\"text-align: right;\">\n",
       "      <th></th>\n",
       "      <th>row_id</th>\n",
       "      <th>QuestionId</th>\n",
       "      <th>QuestionText</th>\n",
       "      <th>MC_Answer</th>\n",
       "      <th>StudentExplanation</th>\n",
       "    </tr>\n",
       "  </thead>\n",
       "  <tbody>\n",
       "    <tr>\n",
       "      <th>0</th>\n",
       "      <td>36696</td>\n",
       "      <td>31772</td>\n",
       "      <td>What fraction of the shape is not shaded? Give...</td>\n",
       "      <td>\\( \\frac{1}{3} \\)</td>\n",
       "      <td>I think that 1/3 is the answer, as it's the si...</td>\n",
       "    </tr>\n",
       "    <tr>\n",
       "      <th>1</th>\n",
       "      <td>36697</td>\n",
       "      <td>31772</td>\n",
       "      <td>What fraction of the shape is not shaded? Give...</td>\n",
       "      <td>\\( \\frac{3}{6} \\)</td>\n",
       "      <td>i think this answer is because 3 triangles are...</td>\n",
       "    </tr>\n",
       "    <tr>\n",
       "      <th>2</th>\n",
       "      <td>36698</td>\n",
       "      <td>32835</td>\n",
       "      <td>Which number is the greatest?</td>\n",
       "      <td>\\( 6.2 \\)</td>\n",
       "      <td>because the 2 makes it higher than the others.</td>\n",
       "    </tr>\n",
       "  </tbody>\n",
       "</table>\n",
       "</div>"
      ],
      "text/plain": [
       "   row_id  QuestionId                                       QuestionText  \\\n",
       "0   36696       31772  What fraction of the shape is not shaded? Give...   \n",
       "1   36697       31772  What fraction of the shape is not shaded? Give...   \n",
       "2   36698       32835                      Which number is the greatest?   \n",
       "\n",
       "           MC_Answer                                 StudentExplanation  \n",
       "0  \\( \\frac{1}{3} \\)  I think that 1/3 is the answer, as it's the si...  \n",
       "1  \\( \\frac{3}{6} \\)  i think this answer is because 3 triangles are...  \n",
       "2          \\( 6.2 \\)     because the 2 makes it higher than the others.  "
      ]
     },
     "execution_count": 16,
     "metadata": {},
     "output_type": "execute_result"
    }
   ],
   "source": [
    "testDF = pd.read_csv(CFG.testFile)\n",
    "testDF"
   ]
  },
  {
   "cell_type": "code",
   "execution_count": 17,
   "id": "88133e23",
   "metadata": {
    "execution": {
     "iopub.execute_input": "2025-09-30T15:40:37.596914Z",
     "iopub.status.busy": "2025-09-30T15:40:37.596703Z",
     "iopub.status.idle": "2025-09-30T15:40:37.604178Z",
     "shell.execute_reply": "2025-09-30T15:40:37.603499Z"
    },
    "papermill": {
     "duration": 0.029878,
     "end_time": "2025-09-30T15:40:37.605273",
     "exception": false,
     "start_time": "2025-09-30T15:40:37.575395",
     "status": "completed"
    },
    "tags": []
   },
   "outputs": [
    {
     "name": "stdout",
     "output_type": "stream",
     "text": [
      "<class 'pandas.core.frame.DataFrame'>\n",
      "RangeIndex: 3 entries, 0 to 2\n",
      "Data columns (total 5 columns):\n",
      " #   Column              Non-Null Count  Dtype \n",
      "---  ------              --------------  ----- \n",
      " 0   row_id              3 non-null      int64 \n",
      " 1   QuestionId          3 non-null      int64 \n",
      " 2   QuestionText        3 non-null      object\n",
      " 3   MC_Answer           3 non-null      object\n",
      " 4   StudentExplanation  3 non-null      object\n",
      "dtypes: int64(2), object(3)\n",
      "memory usage: 252.0+ bytes\n"
     ]
    }
   ],
   "source": [
    "testDF.info()"
   ]
  },
  {
   "cell_type": "code",
   "execution_count": 18,
   "id": "0b9560be",
   "metadata": {
    "execution": {
     "iopub.execute_input": "2025-09-30T15:40:37.647813Z",
     "iopub.status.busy": "2025-09-30T15:40:37.647217Z",
     "iopub.status.idle": "2025-09-30T15:40:37.653375Z",
     "shell.execute_reply": "2025-09-30T15:40:37.652602Z"
    },
    "papermill": {
     "duration": 0.028489,
     "end_time": "2025-09-30T15:40:37.654517",
     "exception": false,
     "start_time": "2025-09-30T15:40:37.626028",
     "status": "completed"
    },
    "tags": []
   },
   "outputs": [
    {
     "data": {
      "text/plain": [
       "row_id                0\n",
       "QuestionId            0\n",
       "QuestionText          0\n",
       "MC_Answer             0\n",
       "StudentExplanation    0\n",
       "dtype: int64"
      ]
     },
     "execution_count": 18,
     "metadata": {},
     "output_type": "execute_result"
    }
   ],
   "source": [
    "testDF.isnull().sum()"
   ]
  },
  {
   "cell_type": "code",
   "execution_count": 19,
   "id": "30f0ea69",
   "metadata": {
    "execution": {
     "iopub.execute_input": "2025-09-30T15:40:37.697384Z",
     "iopub.status.busy": "2025-09-30T15:40:37.697180Z",
     "iopub.status.idle": "2025-09-30T15:40:37.710816Z",
     "shell.execute_reply": "2025-09-30T15:40:37.709973Z"
    },
    "papermill": {
     "duration": 0.036478,
     "end_time": "2025-09-30T15:40:37.712015",
     "exception": false,
     "start_time": "2025-09-30T15:40:37.675537",
     "status": "completed"
    },
    "tags": []
   },
   "outputs": [
    {
     "data": {
      "text/plain": [
       "row_id                    0\n",
       "QuestionId                0\n",
       "QuestionText              0\n",
       "MC_Answer                 0\n",
       "StudentExplanation        0\n",
       "Category                  0\n",
       "Misconception         26836\n",
       "dtype: int64"
      ]
     },
     "execution_count": 19,
     "metadata": {},
     "output_type": "execute_result"
    }
   ],
   "source": [
    "# Nan and Null check\n",
    "trainDF.isnull().sum()\n"
   ]
  },
  {
   "cell_type": "code",
   "execution_count": 20,
   "id": "240f4f32",
   "metadata": {
    "execution": {
     "iopub.execute_input": "2025-09-30T15:40:37.754890Z",
     "iopub.status.busy": "2025-09-30T15:40:37.754686Z",
     "iopub.status.idle": "2025-09-30T15:40:37.765175Z",
     "shell.execute_reply": "2025-09-30T15:40:37.764623Z"
    },
    "papermill": {
     "duration": 0.033338,
     "end_time": "2025-09-30T15:40:37.766250",
     "exception": false,
     "start_time": "2025-09-30T15:40:37.732912",
     "status": "completed"
    },
    "tags": []
   },
   "outputs": [
    {
     "data": {
      "text/html": [
       "<div>\n",
       "<style scoped>\n",
       "    .dataframe tbody tr th:only-of-type {\n",
       "        vertical-align: middle;\n",
       "    }\n",
       "\n",
       "    .dataframe tbody tr th {\n",
       "        vertical-align: top;\n",
       "    }\n",
       "\n",
       "    .dataframe thead th {\n",
       "        text-align: right;\n",
       "    }\n",
       "</style>\n",
       "<table border=\"1\" class=\"dataframe\">\n",
       "  <thead>\n",
       "    <tr style=\"text-align: right;\">\n",
       "      <th></th>\n",
       "      <th>row_id</th>\n",
       "      <th>Category:Misconception</th>\n",
       "    </tr>\n",
       "  </thead>\n",
       "  <tbody>\n",
       "    <tr>\n",
       "      <th>0</th>\n",
       "      <td>36696</td>\n",
       "      <td>True_Correct:NA False_Neither:NA False_Misconc...</td>\n",
       "    </tr>\n",
       "    <tr>\n",
       "      <th>1</th>\n",
       "      <td>36697</td>\n",
       "      <td>True_Correct:NA False_Neither:NA False_Misconc...</td>\n",
       "    </tr>\n",
       "    <tr>\n",
       "      <th>2</th>\n",
       "      <td>36698</td>\n",
       "      <td>True_Correct:NA False_Neither:NA False_Misconc...</td>\n",
       "    </tr>\n",
       "  </tbody>\n",
       "</table>\n",
       "</div>"
      ],
      "text/plain": [
       "   row_id                             Category:Misconception\n",
       "0   36696  True_Correct:NA False_Neither:NA False_Misconc...\n",
       "1   36697  True_Correct:NA False_Neither:NA False_Misconc...\n",
       "2   36698  True_Correct:NA False_Neither:NA False_Misconc..."
      ]
     },
     "execution_count": 20,
     "metadata": {},
     "output_type": "execute_result"
    }
   ],
   "source": [
    "sample = pd.read_csv(CFG.sampleFile)\n",
    "sample"
   ]
  },
  {
   "cell_type": "code",
   "execution_count": 21,
   "id": "156c77cb",
   "metadata": {
    "execution": {
     "iopub.execute_input": "2025-09-30T15:40:37.809638Z",
     "iopub.status.busy": "2025-09-30T15:40:37.809431Z",
     "iopub.status.idle": "2025-09-30T15:40:37.813816Z",
     "shell.execute_reply": "2025-09-30T15:40:37.813170Z"
    },
    "papermill": {
     "duration": 0.027628,
     "end_time": "2025-09-30T15:40:37.814977",
     "exception": false,
     "start_time": "2025-09-30T15:40:37.787349",
     "status": "completed"
    },
    "tags": []
   },
   "outputs": [
    {
     "data": {
      "text/plain": [
       "Index(['row_id', 'Category:Misconception'], dtype='object')"
      ]
     },
     "execution_count": 21,
     "metadata": {},
     "output_type": "execute_result"
    }
   ],
   "source": [
    "sample.columns"
   ]
  },
  {
   "cell_type": "markdown",
   "id": "f0667af4",
   "metadata": {
    "execution": {
     "iopub.execute_input": "2025-08-05T12:00:32.719746Z",
     "iopub.status.busy": "2025-08-05T12:00:32.719388Z",
     "iopub.status.idle": "2025-08-05T12:00:32.724824Z",
     "shell.execute_reply": "2025-08-05T12:00:32.723659Z",
     "shell.execute_reply.started": "2025-08-05T12:00:32.719721Z"
    },
    "papermill": {
     "duration": 0.020898,
     "end_time": "2025-09-30T15:40:37.856807",
     "exception": false,
     "start_time": "2025-09-30T15:40:37.835909",
     "status": "completed"
    },
    "tags": []
   },
   "source": [
    "## EDA\n",
    "### Print Columns Values"
   ]
  },
  {
   "cell_type": "code",
   "execution_count": 22,
   "id": "313cfcf3",
   "metadata": {
    "execution": {
     "iopub.execute_input": "2025-09-30T15:40:37.899464Z",
     "iopub.status.busy": "2025-09-30T15:40:37.899267Z",
     "iopub.status.idle": "2025-09-30T15:40:37.903611Z",
     "shell.execute_reply": "2025-09-30T15:40:37.903082Z"
    },
    "papermill": {
     "duration": 0.027102,
     "end_time": "2025-09-30T15:40:37.904731",
     "exception": false,
     "start_time": "2025-09-30T15:40:37.877629",
     "status": "completed"
    },
    "tags": []
   },
   "outputs": [],
   "source": [
    "def printAllcolumnsValue(df, showAll=True):\n",
    "    \"\"\"\n",
    "    Print DataFrame columns values\n",
    "    \"\"\"\n",
    "    # loop column\n",
    "    for col in df.columns:\n",
    "        if showAll is True:\n",
    "            print(f\"{col} : {df[col].unique()}\") # print unique value\n",
    "        else: # only print caterogy column\n",
    "            if df[col].dtype == \"object\":\n",
    "                print(f\"{col} : {df[col].unique()}\") # print unique value\n",
    "\n",
    "def printSerieUnquieValue(df):\n",
    "    \"\"\"\n",
    "    print data serie value\n",
    "    \"\"\"\n",
    "    print(f\" {df.unique()}\")"
   ]
  },
  {
   "cell_type": "code",
   "execution_count": 23,
   "id": "6a5b5c61",
   "metadata": {
    "execution": {
     "iopub.execute_input": "2025-09-30T15:40:37.948464Z",
     "iopub.status.busy": "2025-09-30T15:40:37.948274Z",
     "iopub.status.idle": "2025-09-30T15:40:37.973556Z",
     "shell.execute_reply": "2025-09-30T15:40:37.972698Z"
    },
    "papermill": {
     "duration": 0.04829,
     "end_time": "2025-09-30T15:40:37.974650",
     "exception": false,
     "start_time": "2025-09-30T15:40:37.926360",
     "status": "completed"
    },
    "tags": []
   },
   "outputs": [
    {
     "name": "stdout",
     "output_type": "stream",
     "text": [
      "row_id : [    0     1     2 ... 36693 36694 36695]\n",
      "QuestionId : [ 31772  31774  31777  31778  32829  32833  32835  33471  33472  33474\n",
      "  76870  89443  91695 104665 109465]\n",
      "QuestionText : ['What fraction of the shape is not shaded? Give your answer in its simplest form. [Image: A triangle split into 9 equal smaller triangles. 6 of them are shaded.]'\n",
      " 'Calculate \\\\( \\\\frac{1}{2} \\\\div 6 \\\\)'\n",
      " 'A box contains \\\\( 120 \\\\) counters. The counters are red or blue. \\\\( \\\\frac{3}{5} \\\\) of the counters are red.\\nHow many red counters are there?'\n",
      " '\\\\( \\\\frac{A}{10}=\\\\frac{9}{15} \\\\) What is the value of \\\\( A \\\\) ?'\n",
      " '\\\\( 2 y=24 \\\\) What is the value of \\\\( y \\\\) ?'\n",
      " 'Calculate \\\\( \\\\frac{2}{3} \\\\times 5 \\\\)'\n",
      " 'Which number is the greatest?'\n",
      " 'A bag contains \\\\( 24 \\\\) yellow and green balls. \\\\( \\\\frac{3}{8} \\\\) of the balls are yellow. How many of the balls are green?'\n",
      " '\\\\( \\\\frac{1}{3}+\\\\frac{2}{5}= \\\\)'\n",
      " 'Sally has \\\\( \\\\frac{2}{3} \\\\) of a whole cake in the fridge. Robert eats \\\\( \\\\frac{1}{3} \\\\) of this piece. What fraction of the whole cake has Robert eaten?\\nChoose the number sentence that would solve the word problem.'\n",
      " 'This is part of a regular polygon. How many sides does it have? [Image: A diagram showing an obtuse angle labelled 144 degrees]'\n",
      " 'What number belongs in the box?\\n\\\\(\\n(-8)-(-5)=\\n\\\\square\\\\)'\n",
      " 'Dots have been arranged in these patterns: [Image: Pattern 1 consists of 6 dots, Pattern 2 consists of 10 dots, Pattern 3 consists of 14 dots and Pattern 4 consists of 18 dots] How many dots would there be in Pattern \\\\( 6 \\\\) ?'\n",
      " 'It takes \\\\( 3 \\\\) people a total of \\\\( 192 \\\\) hours to build a wall.\\n\\nHow long would it take if \\\\( 12 \\\\) people built the same wall?'\n",
      " 'The probability of an event occurring is \\\\( 0.9 \\\\).\\n\\nWhich of the following most accurately describes the likelihood of the event occurring?']\n",
      "MC_Answer : ['\\\\( \\\\frac{1}{3} \\\\)' '\\\\( \\\\frac{3}{6} \\\\)' '\\\\( \\\\frac{3}{8} \\\\)'\n",
      " '\\\\( \\\\frac{3}{9} \\\\)' '\\\\( 3 \\\\)' '\\\\( \\\\frac{1}{12} \\\\)'\n",
      " '\\\\( \\\\frac{6}{2} \\\\)' '\\\\( 24 \\\\)' '\\\\( 48 \\\\)' '\\\\( 60 \\\\)'\n",
      " '\\\\( 72 \\\\)' '\\\\( 4 \\\\)' '\\\\( 6 \\\\)' '\\\\( 9 \\\\)' '\\\\( 12 \\\\)'\n",
      " '\\\\( 22 \\\\)' '\\\\( 3 \\\\frac{1}{3} \\\\)' '\\\\( 5 \\\\frac{2}{3} \\\\)'\n",
      " '\\\\( \\\\frac{10}{15} \\\\)' '\\\\( \\\\frac{2}{15} \\\\)' '\\\\( 6.0001 \\\\)'\n",
      " '\\\\( 6.079 \\\\)' '\\\\( 6.2 \\\\)' '\\\\( 15 \\\\)' '\\\\( 8 \\\\)'\n",
      " '\\\\( \\\\frac{11}{15} \\\\)' '\\\\( \\\\frac{11}{30} \\\\)' '\\\\( \\\\frac{3}{15} \\\\)'\n",
      " '\\\\( \\\\frac{1}{3} \\\\times \\\\frac{2}{3} \\\\)'\n",
      " '\\\\( \\\\frac{1}{3}+\\\\frac{2}{3} \\\\)'\n",
      " '\\\\( \\\\frac{2}{3} \\\\div \\\\frac{1}{3} \\\\)'\n",
      " '\\\\( \\\\frac{2}{3}-\\\\frac{1}{3} \\\\)' 'Not enough information' '\\\\( 10 \\\\)'\n",
      " '\\\\( 5 \\\\)' '\\\\( -13 \\\\)' '\\\\( -3 \\\\)' '\\\\( 13 \\\\)' '\\\\( 20 \\\\)'\n",
      " '\\\\( 26 \\\\)' '\\\\( 36 \\\\)' '\\\\( 192 \\\\) hours' '\\\\( 48 \\\\) hours'\n",
      " '\\\\( 64 \\\\) hours' '\\\\( 768 \\\\) hours' 'Certain' 'Impossible' 'Likely'\n",
      " 'Unlikely']\n",
      "StudentExplanation : ['0ne third is equal to tree nineth'\n",
      " '1 / 3 because 6 over 9 is 2 thirds and 1 third is not shaded.'\n",
      " '1 3rd is half of 3 6th, so it is simplee to understand.' ...\n",
      " 'yeah pretty unlikelyy from what it seems.'\n",
      " 'you have 9 other numbers to get.'\n",
      " 'you have a chanve but it is not i think this because there is 0.9 odds so you have chance chance,']\n",
      "Category : ['True_Correct' 'True_Neither' 'True_Misconception' 'False_Neither'\n",
      " 'False_Misconception' 'False_Correct']\n",
      "Misconception : [nan 'Incomplete' 'WNB' 'SwapDividend' 'Mult' 'FlipChange' 'Irrelevant'\n",
      " 'Wrong_Fraction' 'Additive' 'Not_variable' 'Adding_terms'\n",
      " 'Inverse_operation' 'Inversion' 'Duplication' 'Wrong_Operation'\n",
      " 'Whole_numbers_larger' 'Longer_is_bigger' 'Ignores_zeroes'\n",
      " 'Shorter_is_bigger' 'Wrong_fraction' 'Adding_across'\n",
      " 'Denominator-only_change' 'Incorrect_equivalent_fraction_addition'\n",
      " 'Division' 'Subtraction' 'Unknowable' 'Definition' 'Interior' 'Positive'\n",
      " 'Tacking' 'Wrong_term' 'Firstterm' 'Base_rate' 'Multiplying_by_4'\n",
      " 'Certainty' 'Scale']\n"
     ]
    }
   ],
   "source": [
    "printAllcolumnsValue(trainDF, showAll=True)"
   ]
  },
  {
   "cell_type": "code",
   "execution_count": 24,
   "id": "cde19450",
   "metadata": {
    "execution": {
     "iopub.execute_input": "2025-09-30T15:40:38.018533Z",
     "iopub.status.busy": "2025-09-30T15:40:38.017847Z",
     "iopub.status.idle": "2025-09-30T15:40:38.022632Z",
     "shell.execute_reply": "2025-09-30T15:40:38.021909Z"
    },
    "papermill": {
     "duration": 0.027694,
     "end_time": "2025-09-30T15:40:38.023653",
     "exception": false,
     "start_time": "2025-09-30T15:40:37.995959",
     "status": "completed"
    },
    "tags": []
   },
   "outputs": [
    {
     "data": {
      "text/plain": [
       "['row_id',\n",
       " 'QuestionId',\n",
       " 'QuestionText',\n",
       " 'MC_Answer',\n",
       " 'StudentExplanation',\n",
       " 'Category',\n",
       " 'Misconception']"
      ]
     },
     "execution_count": 24,
     "metadata": {},
     "output_type": "execute_result"
    }
   ],
   "source": [
    "featureCols = trainDF.columns.tolist()\n",
    "featureCols"
   ]
  },
  {
   "cell_type": "code",
   "execution_count": 25,
   "id": "82dd23dc",
   "metadata": {
    "execution": {
     "iopub.execute_input": "2025-09-30T15:40:38.067308Z",
     "iopub.status.busy": "2025-09-30T15:40:38.067082Z",
     "iopub.status.idle": "2025-09-30T15:40:38.076582Z",
     "shell.execute_reply": "2025-09-30T15:40:38.075900Z"
    },
    "papermill": {
     "duration": 0.032767,
     "end_time": "2025-09-30T15:40:38.077594",
     "exception": false,
     "start_time": "2025-09-30T15:40:38.044827",
     "status": "completed"
    },
    "tags": []
   },
   "outputs": [
    {
     "data": {
      "text/plain": [
       "0"
      ]
     },
     "execution_count": 25,
     "metadata": {},
     "output_type": "execute_result"
    }
   ],
   "source": [
    "# clean data\n",
    "trainDF[\"Misconception\"]= trainDF[\"Misconception\"].fillna(\"NA\") # fill NaN to NA\n",
    "trainDF[\"Misconception\"].isnull().sum() # check Null "
   ]
  },
  {
   "cell_type": "markdown",
   "id": "08892d4f",
   "metadata": {
    "execution": {
     "iopub.execute_input": "2025-08-06T05:39:57.456179Z",
     "iopub.status.busy": "2025-08-06T05:39:57.455612Z",
     "iopub.status.idle": "2025-08-06T05:39:57.459673Z",
     "shell.execute_reply": "2025-08-06T05:39:57.458795Z",
     "shell.execute_reply.started": "2025-08-06T05:39:57.456155Z"
    },
    "papermill": {
     "duration": 0.021287,
     "end_time": "2025-09-30T15:40:38.120329",
     "exception": false,
     "start_time": "2025-09-30T15:40:38.099042",
     "status": "completed"
    },
    "tags": []
   },
   "source": [
    "#### combine into target columns"
   ]
  },
  {
   "cell_type": "code",
   "execution_count": 26,
   "id": "723ff33d",
   "metadata": {
    "execution": {
     "iopub.execute_input": "2025-09-30T15:40:38.163845Z",
     "iopub.status.busy": "2025-09-30T15:40:38.163621Z",
     "iopub.status.idle": "2025-09-30T15:40:38.185834Z",
     "shell.execute_reply": "2025-09-30T15:40:38.185031Z"
    },
    "papermill": {
     "duration": 0.045141,
     "end_time": "2025-09-30T15:40:38.186878",
     "exception": false,
     "start_time": "2025-09-30T15:40:38.141737",
     "status": "completed"
    },
    "tags": []
   },
   "outputs": [
    {
     "data": {
      "text/html": [
       "<div>\n",
       "<style scoped>\n",
       "    .dataframe tbody tr th:only-of-type {\n",
       "        vertical-align: middle;\n",
       "    }\n",
       "\n",
       "    .dataframe tbody tr th {\n",
       "        vertical-align: top;\n",
       "    }\n",
       "\n",
       "    .dataframe thead th {\n",
       "        text-align: right;\n",
       "    }\n",
       "</style>\n",
       "<table border=\"1\" class=\"dataframe\">\n",
       "  <thead>\n",
       "    <tr style=\"text-align: right;\">\n",
       "      <th></th>\n",
       "      <th>row_id</th>\n",
       "      <th>QuestionId</th>\n",
       "      <th>QuestionText</th>\n",
       "      <th>MC_Answer</th>\n",
       "      <th>StudentExplanation</th>\n",
       "      <th>Category</th>\n",
       "      <th>Misconception</th>\n",
       "      <th>target</th>\n",
       "    </tr>\n",
       "  </thead>\n",
       "  <tbody>\n",
       "    <tr>\n",
       "      <th>0</th>\n",
       "      <td>0</td>\n",
       "      <td>31772</td>\n",
       "      <td>What fraction of the shape is not shaded? Give...</td>\n",
       "      <td>\\( \\frac{1}{3} \\)</td>\n",
       "      <td>0ne third is equal to tree nineth</td>\n",
       "      <td>True_Correct</td>\n",
       "      <td>NA</td>\n",
       "      <td>True_Correct:NA</td>\n",
       "    </tr>\n",
       "    <tr>\n",
       "      <th>1</th>\n",
       "      <td>1</td>\n",
       "      <td>31772</td>\n",
       "      <td>What fraction of the shape is not shaded? Give...</td>\n",
       "      <td>\\( \\frac{1}{3} \\)</td>\n",
       "      <td>1 / 3 because 6 over 9 is 2 thirds and 1 third...</td>\n",
       "      <td>True_Correct</td>\n",
       "      <td>NA</td>\n",
       "      <td>True_Correct:NA</td>\n",
       "    </tr>\n",
       "    <tr>\n",
       "      <th>2</th>\n",
       "      <td>2</td>\n",
       "      <td>31772</td>\n",
       "      <td>What fraction of the shape is not shaded? Give...</td>\n",
       "      <td>\\( \\frac{1}{3} \\)</td>\n",
       "      <td>1 3rd is half of 3 6th, so it is simplee to un...</td>\n",
       "      <td>True_Neither</td>\n",
       "      <td>NA</td>\n",
       "      <td>True_Neither:NA</td>\n",
       "    </tr>\n",
       "    <tr>\n",
       "      <th>3</th>\n",
       "      <td>3</td>\n",
       "      <td>31772</td>\n",
       "      <td>What fraction of the shape is not shaded? Give...</td>\n",
       "      <td>\\( \\frac{1}{3} \\)</td>\n",
       "      <td>1 goes into everything and 3 goes into nine</td>\n",
       "      <td>True_Neither</td>\n",
       "      <td>NA</td>\n",
       "      <td>True_Neither:NA</td>\n",
       "    </tr>\n",
       "    <tr>\n",
       "      <th>4</th>\n",
       "      <td>4</td>\n",
       "      <td>31772</td>\n",
       "      <td>What fraction of the shape is not shaded? Give...</td>\n",
       "      <td>\\( \\frac{1}{3} \\)</td>\n",
       "      <td>1 out of every 3 isn't coloured</td>\n",
       "      <td>True_Correct</td>\n",
       "      <td>NA</td>\n",
       "      <td>True_Correct:NA</td>\n",
       "    </tr>\n",
       "    <tr>\n",
       "      <th>...</th>\n",
       "      <td>...</td>\n",
       "      <td>...</td>\n",
       "      <td>...</td>\n",
       "      <td>...</td>\n",
       "      <td>...</td>\n",
       "      <td>...</td>\n",
       "      <td>...</td>\n",
       "      <td>...</td>\n",
       "    </tr>\n",
       "    <tr>\n",
       "      <th>36691</th>\n",
       "      <td>36691</td>\n",
       "      <td>109465</td>\n",
       "      <td>The probability of an event occurring is \\( 0....</td>\n",
       "      <td>Unlikely</td>\n",
       "      <td>very unlikely.</td>\n",
       "      <td>False_Neither</td>\n",
       "      <td>NA</td>\n",
       "      <td>False_Neither:NA</td>\n",
       "    </tr>\n",
       "    <tr>\n",
       "      <th>36692</th>\n",
       "      <td>36692</td>\n",
       "      <td>109465</td>\n",
       "      <td>The probability of an event occurring is \\( 0....</td>\n",
       "      <td>Unlikely</td>\n",
       "      <td>yea pretty much unlikely from what it seems.</td>\n",
       "      <td>False_Neither</td>\n",
       "      <td>NA</td>\n",
       "      <td>False_Neither:NA</td>\n",
       "    </tr>\n",
       "    <tr>\n",
       "      <th>36693</th>\n",
       "      <td>36693</td>\n",
       "      <td>109465</td>\n",
       "      <td>The probability of an event occurring is \\( 0....</td>\n",
       "      <td>Unlikely</td>\n",
       "      <td>yeah pretty unlikelyy from what it seems.</td>\n",
       "      <td>False_Neither</td>\n",
       "      <td>NA</td>\n",
       "      <td>False_Neither:NA</td>\n",
       "    </tr>\n",
       "    <tr>\n",
       "      <th>36694</th>\n",
       "      <td>36694</td>\n",
       "      <td>109465</td>\n",
       "      <td>The probability of an event occurring is \\( 0....</td>\n",
       "      <td>Unlikely</td>\n",
       "      <td>you have 9 other numbers to get.</td>\n",
       "      <td>False_Neither</td>\n",
       "      <td>NA</td>\n",
       "      <td>False_Neither:NA</td>\n",
       "    </tr>\n",
       "    <tr>\n",
       "      <th>36695</th>\n",
       "      <td>36695</td>\n",
       "      <td>109465</td>\n",
       "      <td>The probability of an event occurring is \\( 0....</td>\n",
       "      <td>Unlikely</td>\n",
       "      <td>you have a chanve but it is not i think this b...</td>\n",
       "      <td>False_Neither</td>\n",
       "      <td>NA</td>\n",
       "      <td>False_Neither:NA</td>\n",
       "    </tr>\n",
       "  </tbody>\n",
       "</table>\n",
       "<p>36696 rows × 8 columns</p>\n",
       "</div>"
      ],
      "text/plain": [
       "       row_id  QuestionId                                       QuestionText  \\\n",
       "0           0       31772  What fraction of the shape is not shaded? Give...   \n",
       "1           1       31772  What fraction of the shape is not shaded? Give...   \n",
       "2           2       31772  What fraction of the shape is not shaded? Give...   \n",
       "3           3       31772  What fraction of the shape is not shaded? Give...   \n",
       "4           4       31772  What fraction of the shape is not shaded? Give...   \n",
       "...       ...         ...                                                ...   \n",
       "36691   36691      109465  The probability of an event occurring is \\( 0....   \n",
       "36692   36692      109465  The probability of an event occurring is \\( 0....   \n",
       "36693   36693      109465  The probability of an event occurring is \\( 0....   \n",
       "36694   36694      109465  The probability of an event occurring is \\( 0....   \n",
       "36695   36695      109465  The probability of an event occurring is \\( 0....   \n",
       "\n",
       "               MC_Answer                                 StudentExplanation  \\\n",
       "0      \\( \\frac{1}{3} \\)                  0ne third is equal to tree nineth   \n",
       "1      \\( \\frac{1}{3} \\)  1 / 3 because 6 over 9 is 2 thirds and 1 third...   \n",
       "2      \\( \\frac{1}{3} \\)  1 3rd is half of 3 6th, so it is simplee to un...   \n",
       "3      \\( \\frac{1}{3} \\)        1 goes into everything and 3 goes into nine   \n",
       "4      \\( \\frac{1}{3} \\)                    1 out of every 3 isn't coloured   \n",
       "...                  ...                                                ...   \n",
       "36691           Unlikely                                     very unlikely.   \n",
       "36692           Unlikely       yea pretty much unlikely from what it seems.   \n",
       "36693           Unlikely          yeah pretty unlikelyy from what it seems.   \n",
       "36694           Unlikely                   you have 9 other numbers to get.   \n",
       "36695           Unlikely  you have a chanve but it is not i think this b...   \n",
       "\n",
       "            Category Misconception            target  \n",
       "0       True_Correct            NA   True_Correct:NA  \n",
       "1       True_Correct            NA   True_Correct:NA  \n",
       "2       True_Neither            NA   True_Neither:NA  \n",
       "3       True_Neither            NA   True_Neither:NA  \n",
       "4       True_Correct            NA   True_Correct:NA  \n",
       "...              ...           ...               ...  \n",
       "36691  False_Neither            NA  False_Neither:NA  \n",
       "36692  False_Neither            NA  False_Neither:NA  \n",
       "36693  False_Neither            NA  False_Neither:NA  \n",
       "36694  False_Neither            NA  False_Neither:NA  \n",
       "36695  False_Neither            NA  False_Neither:NA  \n",
       "\n",
       "[36696 rows x 8 columns]"
      ]
     },
     "execution_count": 26,
     "metadata": {},
     "output_type": "execute_result"
    }
   ],
   "source": [
    "\n",
    "trainDF['target'] = trainDF[\"Category\"]+\":\"+trainDF[\"Misconception\"]\n",
    "trainDF"
   ]
  },
  {
   "cell_type": "markdown",
   "id": "48b9f79d",
   "metadata": {
    "papermill": {
     "duration": 0.021345,
     "end_time": "2025-09-30T15:40:38.230372",
     "exception": false,
     "start_time": "2025-09-30T15:40:38.209027",
     "status": "completed"
    },
    "tags": []
   },
   "source": [
    "### Create Label"
   ]
  },
  {
   "cell_type": "code",
   "execution_count": 27,
   "id": "24e18fed",
   "metadata": {
    "execution": {
     "iopub.execute_input": "2025-09-30T15:40:38.274328Z",
     "iopub.status.busy": "2025-09-30T15:40:38.274057Z",
     "iopub.status.idle": "2025-09-30T15:40:38.285420Z",
     "shell.execute_reply": "2025-09-30T15:40:38.284689Z"
    },
    "papermill": {
     "duration": 0.034762,
     "end_time": "2025-09-30T15:40:38.286584",
     "exception": false,
     "start_time": "2025-09-30T15:40:38.251822",
     "status": "completed"
    },
    "tags": []
   },
   "outputs": [],
   "source": [
    "le = LabelEncoder()\n",
    "trainDF[\"label\"]= le.fit_transform(trainDF['target']) # encode caterogy into label"
   ]
  },
  {
   "cell_type": "code",
   "execution_count": 28,
   "id": "f90bf5b9",
   "metadata": {
    "execution": {
     "iopub.execute_input": "2025-09-30T15:40:38.330906Z",
     "iopub.status.busy": "2025-09-30T15:40:38.330715Z",
     "iopub.status.idle": "2025-09-30T15:40:38.341236Z",
     "shell.execute_reply": "2025-09-30T15:40:38.340638Z"
    },
    "papermill": {
     "duration": 0.033756,
     "end_time": "2025-09-30T15:40:38.342232",
     "exception": false,
     "start_time": "2025-09-30T15:40:38.308476",
     "status": "completed"
    },
    "tags": []
   },
   "outputs": [
    {
     "data": {
      "text/html": [
       "<div>\n",
       "<style scoped>\n",
       "    .dataframe tbody tr th:only-of-type {\n",
       "        vertical-align: middle;\n",
       "    }\n",
       "\n",
       "    .dataframe tbody tr th {\n",
       "        vertical-align: top;\n",
       "    }\n",
       "\n",
       "    .dataframe thead th {\n",
       "        text-align: right;\n",
       "    }\n",
       "</style>\n",
       "<table border=\"1\" class=\"dataframe\">\n",
       "  <thead>\n",
       "    <tr style=\"text-align: right;\">\n",
       "      <th></th>\n",
       "      <th>row_id</th>\n",
       "      <th>QuestionId</th>\n",
       "      <th>QuestionText</th>\n",
       "      <th>MC_Answer</th>\n",
       "      <th>StudentExplanation</th>\n",
       "      <th>Category</th>\n",
       "      <th>Misconception</th>\n",
       "      <th>target</th>\n",
       "      <th>label</th>\n",
       "    </tr>\n",
       "  </thead>\n",
       "  <tbody>\n",
       "    <tr>\n",
       "      <th>0</th>\n",
       "      <td>0</td>\n",
       "      <td>31772</td>\n",
       "      <td>What fraction of the shape is not shaded? Give...</td>\n",
       "      <td>\\( \\frac{1}{3} \\)</td>\n",
       "      <td>0ne third is equal to tree nineth</td>\n",
       "      <td>True_Correct</td>\n",
       "      <td>NA</td>\n",
       "      <td>True_Correct:NA</td>\n",
       "      <td>37</td>\n",
       "    </tr>\n",
       "    <tr>\n",
       "      <th>1</th>\n",
       "      <td>1</td>\n",
       "      <td>31772</td>\n",
       "      <td>What fraction of the shape is not shaded? Give...</td>\n",
       "      <td>\\( \\frac{1}{3} \\)</td>\n",
       "      <td>1 / 3 because 6 over 9 is 2 thirds and 1 third...</td>\n",
       "      <td>True_Correct</td>\n",
       "      <td>NA</td>\n",
       "      <td>True_Correct:NA</td>\n",
       "      <td>37</td>\n",
       "    </tr>\n",
       "    <tr>\n",
       "      <th>2</th>\n",
       "      <td>2</td>\n",
       "      <td>31772</td>\n",
       "      <td>What fraction of the shape is not shaded? Give...</td>\n",
       "      <td>\\( \\frac{1}{3} \\)</td>\n",
       "      <td>1 3rd is half of 3 6th, so it is simplee to un...</td>\n",
       "      <td>True_Neither</td>\n",
       "      <td>NA</td>\n",
       "      <td>True_Neither:NA</td>\n",
       "      <td>64</td>\n",
       "    </tr>\n",
       "    <tr>\n",
       "      <th>3</th>\n",
       "      <td>3</td>\n",
       "      <td>31772</td>\n",
       "      <td>What fraction of the shape is not shaded? Give...</td>\n",
       "      <td>\\( \\frac{1}{3} \\)</td>\n",
       "      <td>1 goes into everything and 3 goes into nine</td>\n",
       "      <td>True_Neither</td>\n",
       "      <td>NA</td>\n",
       "      <td>True_Neither:NA</td>\n",
       "      <td>64</td>\n",
       "    </tr>\n",
       "    <tr>\n",
       "      <th>4</th>\n",
       "      <td>4</td>\n",
       "      <td>31772</td>\n",
       "      <td>What fraction of the shape is not shaded? Give...</td>\n",
       "      <td>\\( \\frac{1}{3} \\)</td>\n",
       "      <td>1 out of every 3 isn't coloured</td>\n",
       "      <td>True_Correct</td>\n",
       "      <td>NA</td>\n",
       "      <td>True_Correct:NA</td>\n",
       "      <td>37</td>\n",
       "    </tr>\n",
       "    <tr>\n",
       "      <th>...</th>\n",
       "      <td>...</td>\n",
       "      <td>...</td>\n",
       "      <td>...</td>\n",
       "      <td>...</td>\n",
       "      <td>...</td>\n",
       "      <td>...</td>\n",
       "      <td>...</td>\n",
       "      <td>...</td>\n",
       "      <td>...</td>\n",
       "    </tr>\n",
       "    <tr>\n",
       "      <th>36691</th>\n",
       "      <td>36691</td>\n",
       "      <td>109465</td>\n",
       "      <td>The probability of an event occurring is \\( 0....</td>\n",
       "      <td>Unlikely</td>\n",
       "      <td>very unlikely.</td>\n",
       "      <td>False_Neither</td>\n",
       "      <td>NA</td>\n",
       "      <td>False_Neither:NA</td>\n",
       "      <td>36</td>\n",
       "    </tr>\n",
       "    <tr>\n",
       "      <th>36692</th>\n",
       "      <td>36692</td>\n",
       "      <td>109465</td>\n",
       "      <td>The probability of an event occurring is \\( 0....</td>\n",
       "      <td>Unlikely</td>\n",
       "      <td>yea pretty much unlikely from what it seems.</td>\n",
       "      <td>False_Neither</td>\n",
       "      <td>NA</td>\n",
       "      <td>False_Neither:NA</td>\n",
       "      <td>36</td>\n",
       "    </tr>\n",
       "    <tr>\n",
       "      <th>36693</th>\n",
       "      <td>36693</td>\n",
       "      <td>109465</td>\n",
       "      <td>The probability of an event occurring is \\( 0....</td>\n",
       "      <td>Unlikely</td>\n",
       "      <td>yeah pretty unlikelyy from what it seems.</td>\n",
       "      <td>False_Neither</td>\n",
       "      <td>NA</td>\n",
       "      <td>False_Neither:NA</td>\n",
       "      <td>36</td>\n",
       "    </tr>\n",
       "    <tr>\n",
       "      <th>36694</th>\n",
       "      <td>36694</td>\n",
       "      <td>109465</td>\n",
       "      <td>The probability of an event occurring is \\( 0....</td>\n",
       "      <td>Unlikely</td>\n",
       "      <td>you have 9 other numbers to get.</td>\n",
       "      <td>False_Neither</td>\n",
       "      <td>NA</td>\n",
       "      <td>False_Neither:NA</td>\n",
       "      <td>36</td>\n",
       "    </tr>\n",
       "    <tr>\n",
       "      <th>36695</th>\n",
       "      <td>36695</td>\n",
       "      <td>109465</td>\n",
       "      <td>The probability of an event occurring is \\( 0....</td>\n",
       "      <td>Unlikely</td>\n",
       "      <td>you have a chanve but it is not i think this b...</td>\n",
       "      <td>False_Neither</td>\n",
       "      <td>NA</td>\n",
       "      <td>False_Neither:NA</td>\n",
       "      <td>36</td>\n",
       "    </tr>\n",
       "  </tbody>\n",
       "</table>\n",
       "<p>36696 rows × 9 columns</p>\n",
       "</div>"
      ],
      "text/plain": [
       "       row_id  QuestionId                                       QuestionText  \\\n",
       "0           0       31772  What fraction of the shape is not shaded? Give...   \n",
       "1           1       31772  What fraction of the shape is not shaded? Give...   \n",
       "2           2       31772  What fraction of the shape is not shaded? Give...   \n",
       "3           3       31772  What fraction of the shape is not shaded? Give...   \n",
       "4           4       31772  What fraction of the shape is not shaded? Give...   \n",
       "...       ...         ...                                                ...   \n",
       "36691   36691      109465  The probability of an event occurring is \\( 0....   \n",
       "36692   36692      109465  The probability of an event occurring is \\( 0....   \n",
       "36693   36693      109465  The probability of an event occurring is \\( 0....   \n",
       "36694   36694      109465  The probability of an event occurring is \\( 0....   \n",
       "36695   36695      109465  The probability of an event occurring is \\( 0....   \n",
       "\n",
       "               MC_Answer                                 StudentExplanation  \\\n",
       "0      \\( \\frac{1}{3} \\)                  0ne third is equal to tree nineth   \n",
       "1      \\( \\frac{1}{3} \\)  1 / 3 because 6 over 9 is 2 thirds and 1 third...   \n",
       "2      \\( \\frac{1}{3} \\)  1 3rd is half of 3 6th, so it is simplee to un...   \n",
       "3      \\( \\frac{1}{3} \\)        1 goes into everything and 3 goes into nine   \n",
       "4      \\( \\frac{1}{3} \\)                    1 out of every 3 isn't coloured   \n",
       "...                  ...                                                ...   \n",
       "36691           Unlikely                                     very unlikely.   \n",
       "36692           Unlikely       yea pretty much unlikely from what it seems.   \n",
       "36693           Unlikely          yeah pretty unlikelyy from what it seems.   \n",
       "36694           Unlikely                   you have 9 other numbers to get.   \n",
       "36695           Unlikely  you have a chanve but it is not i think this b...   \n",
       "\n",
       "            Category Misconception            target  label  \n",
       "0       True_Correct            NA   True_Correct:NA     37  \n",
       "1       True_Correct            NA   True_Correct:NA     37  \n",
       "2       True_Neither            NA   True_Neither:NA     64  \n",
       "3       True_Neither            NA   True_Neither:NA     64  \n",
       "4       True_Correct            NA   True_Correct:NA     37  \n",
       "...              ...           ...               ...    ...  \n",
       "36691  False_Neither            NA  False_Neither:NA     36  \n",
       "36692  False_Neither            NA  False_Neither:NA     36  \n",
       "36693  False_Neither            NA  False_Neither:NA     36  \n",
       "36694  False_Neither            NA  False_Neither:NA     36  \n",
       "36695  False_Neither            NA  False_Neither:NA     36  \n",
       "\n",
       "[36696 rows x 9 columns]"
      ]
     },
     "execution_count": 28,
     "metadata": {},
     "output_type": "execute_result"
    }
   ],
   "source": [
    "trainDF"
   ]
  },
  {
   "cell_type": "code",
   "execution_count": 29,
   "id": "1373c10c",
   "metadata": {
    "execution": {
     "iopub.execute_input": "2025-09-30T15:40:38.387271Z",
     "iopub.status.busy": "2025-09-30T15:40:38.386800Z",
     "iopub.status.idle": "2025-09-30T15:40:38.413259Z",
     "shell.execute_reply": "2025-09-30T15:40:38.412527Z"
    },
    "papermill": {
     "duration": 0.050533,
     "end_time": "2025-09-30T15:40:38.414408",
     "exception": false,
     "start_time": "2025-09-30T15:40:38.363875",
     "status": "completed"
    },
    "tags": []
   },
   "outputs": [
    {
     "name": "stdout",
     "output_type": "stream",
     "text": [
      "row_id : [    0     1     2 ... 36693 36694 36695]\n",
      "QuestionId : [ 31772  31774  31777  31778  32829  32833  32835  33471  33472  33474\n",
      "  76870  89443  91695 104665 109465]\n",
      "QuestionText : ['What fraction of the shape is not shaded? Give your answer in its simplest form. [Image: A triangle split into 9 equal smaller triangles. 6 of them are shaded.]'\n",
      " 'Calculate \\\\( \\\\frac{1}{2} \\\\div 6 \\\\)'\n",
      " 'A box contains \\\\( 120 \\\\) counters. The counters are red or blue. \\\\( \\\\frac{3}{5} \\\\) of the counters are red.\\nHow many red counters are there?'\n",
      " '\\\\( \\\\frac{A}{10}=\\\\frac{9}{15} \\\\) What is the value of \\\\( A \\\\) ?'\n",
      " '\\\\( 2 y=24 \\\\) What is the value of \\\\( y \\\\) ?'\n",
      " 'Calculate \\\\( \\\\frac{2}{3} \\\\times 5 \\\\)'\n",
      " 'Which number is the greatest?'\n",
      " 'A bag contains \\\\( 24 \\\\) yellow and green balls. \\\\( \\\\frac{3}{8} \\\\) of the balls are yellow. How many of the balls are green?'\n",
      " '\\\\( \\\\frac{1}{3}+\\\\frac{2}{5}= \\\\)'\n",
      " 'Sally has \\\\( \\\\frac{2}{3} \\\\) of a whole cake in the fridge. Robert eats \\\\( \\\\frac{1}{3} \\\\) of this piece. What fraction of the whole cake has Robert eaten?\\nChoose the number sentence that would solve the word problem.'\n",
      " 'This is part of a regular polygon. How many sides does it have? [Image: A diagram showing an obtuse angle labelled 144 degrees]'\n",
      " 'What number belongs in the box?\\n\\\\(\\n(-8)-(-5)=\\n\\\\square\\\\)'\n",
      " 'Dots have been arranged in these patterns: [Image: Pattern 1 consists of 6 dots, Pattern 2 consists of 10 dots, Pattern 3 consists of 14 dots and Pattern 4 consists of 18 dots] How many dots would there be in Pattern \\\\( 6 \\\\) ?'\n",
      " 'It takes \\\\( 3 \\\\) people a total of \\\\( 192 \\\\) hours to build a wall.\\n\\nHow long would it take if \\\\( 12 \\\\) people built the same wall?'\n",
      " 'The probability of an event occurring is \\\\( 0.9 \\\\).\\n\\nWhich of the following most accurately describes the likelihood of the event occurring?']\n",
      "MC_Answer : ['\\\\( \\\\frac{1}{3} \\\\)' '\\\\( \\\\frac{3}{6} \\\\)' '\\\\( \\\\frac{3}{8} \\\\)'\n",
      " '\\\\( \\\\frac{3}{9} \\\\)' '\\\\( 3 \\\\)' '\\\\( \\\\frac{1}{12} \\\\)'\n",
      " '\\\\( \\\\frac{6}{2} \\\\)' '\\\\( 24 \\\\)' '\\\\( 48 \\\\)' '\\\\( 60 \\\\)'\n",
      " '\\\\( 72 \\\\)' '\\\\( 4 \\\\)' '\\\\( 6 \\\\)' '\\\\( 9 \\\\)' '\\\\( 12 \\\\)'\n",
      " '\\\\( 22 \\\\)' '\\\\( 3 \\\\frac{1}{3} \\\\)' '\\\\( 5 \\\\frac{2}{3} \\\\)'\n",
      " '\\\\( \\\\frac{10}{15} \\\\)' '\\\\( \\\\frac{2}{15} \\\\)' '\\\\( 6.0001 \\\\)'\n",
      " '\\\\( 6.079 \\\\)' '\\\\( 6.2 \\\\)' '\\\\( 15 \\\\)' '\\\\( 8 \\\\)'\n",
      " '\\\\( \\\\frac{11}{15} \\\\)' '\\\\( \\\\frac{11}{30} \\\\)' '\\\\( \\\\frac{3}{15} \\\\)'\n",
      " '\\\\( \\\\frac{1}{3} \\\\times \\\\frac{2}{3} \\\\)'\n",
      " '\\\\( \\\\frac{1}{3}+\\\\frac{2}{3} \\\\)'\n",
      " '\\\\( \\\\frac{2}{3} \\\\div \\\\frac{1}{3} \\\\)'\n",
      " '\\\\( \\\\frac{2}{3}-\\\\frac{1}{3} \\\\)' 'Not enough information' '\\\\( 10 \\\\)'\n",
      " '\\\\( 5 \\\\)' '\\\\( -13 \\\\)' '\\\\( -3 \\\\)' '\\\\( 13 \\\\)' '\\\\( 20 \\\\)'\n",
      " '\\\\( 26 \\\\)' '\\\\( 36 \\\\)' '\\\\( 192 \\\\) hours' '\\\\( 48 \\\\) hours'\n",
      " '\\\\( 64 \\\\) hours' '\\\\( 768 \\\\) hours' 'Certain' 'Impossible' 'Likely'\n",
      " 'Unlikely']\n",
      "StudentExplanation : ['0ne third is equal to tree nineth'\n",
      " '1 / 3 because 6 over 9 is 2 thirds and 1 third is not shaded.'\n",
      " '1 3rd is half of 3 6th, so it is simplee to understand.' ...\n",
      " 'yeah pretty unlikelyy from what it seems.'\n",
      " 'you have 9 other numbers to get.'\n",
      " 'you have a chanve but it is not i think this because there is 0.9 odds so you have chance chance,']\n",
      "Category : ['True_Correct' 'True_Neither' 'True_Misconception' 'False_Neither'\n",
      " 'False_Misconception' 'False_Correct']\n",
      "Misconception : ['NA' 'Incomplete' 'WNB' 'SwapDividend' 'Mult' 'FlipChange' 'Irrelevant'\n",
      " 'Wrong_Fraction' 'Additive' 'Not_variable' 'Adding_terms'\n",
      " 'Inverse_operation' 'Inversion' 'Duplication' 'Wrong_Operation'\n",
      " 'Whole_numbers_larger' 'Longer_is_bigger' 'Ignores_zeroes'\n",
      " 'Shorter_is_bigger' 'Wrong_fraction' 'Adding_across'\n",
      " 'Denominator-only_change' 'Incorrect_equivalent_fraction_addition'\n",
      " 'Division' 'Subtraction' 'Unknowable' 'Definition' 'Interior' 'Positive'\n",
      " 'Tacking' 'Wrong_term' 'Firstterm' 'Base_rate' 'Multiplying_by_4'\n",
      " 'Certainty' 'Scale']\n",
      "target : ['True_Correct:NA' 'True_Neither:NA' 'True_Misconception:Incomplete'\n",
      " 'True_Misconception:WNB' 'False_Neither:NA' 'False_Misconception:WNB'\n",
      " 'False_Misconception:Incomplete' 'False_Correct:NA'\n",
      " 'False_Misconception:SwapDividend' 'False_Misconception:Mult'\n",
      " 'False_Misconception:FlipChange' 'True_Misconception:SwapDividend'\n",
      " 'True_Misconception:Mult' 'True_Misconception:FlipChange'\n",
      " 'False_Misconception:Irrelevant' 'False_Misconception:Wrong_Fraction'\n",
      " 'False_Misconception:Additive' 'True_Misconception:Irrelevant'\n",
      " 'True_Misconception:Additive' 'True_Misconception:Not_variable'\n",
      " 'False_Misconception:Adding_terms' 'False_Misconception:Not_variable'\n",
      " 'False_Misconception:Inverse_operation' 'True_Misconception:Inversion'\n",
      " 'True_Misconception:Duplication' 'False_Misconception:Duplication'\n",
      " 'False_Misconception:Inversion' 'False_Misconception:Wrong_Operation'\n",
      " 'False_Misconception:Whole_numbers_larger'\n",
      " 'False_Misconception:Longer_is_bigger'\n",
      " 'False_Misconception:Ignores_zeroes'\n",
      " 'False_Misconception:Shorter_is_bigger'\n",
      " 'True_Misconception:Whole_numbers_larger'\n",
      " 'True_Misconception:Shorter_is_bigger'\n",
      " 'True_Misconception:Longer_is_bigger' 'True_Misconception:Wrong_fraction'\n",
      " 'False_Misconception:Wrong_fraction' 'True_Misconception:Adding_across'\n",
      " 'True_Misconception:Denominator-only_change'\n",
      " 'True_Misconception:Incorrect_equivalent_fraction_addition'\n",
      " 'False_Misconception:Denominator-only_change'\n",
      " 'False_Misconception:Incorrect_equivalent_fraction_addition'\n",
      " 'False_Misconception:Adding_across' 'True_Misconception:Division'\n",
      " 'True_Misconception:Subtraction' 'False_Misconception:Subtraction'\n",
      " 'False_Misconception:Division' 'False_Misconception:Unknowable'\n",
      " 'False_Misconception:Definition' 'False_Misconception:Interior'\n",
      " 'True_Misconception:Definition' 'False_Misconception:Positive'\n",
      " 'False_Misconception:Tacking' 'True_Misconception:Tacking'\n",
      " 'True_Misconception:Positive' 'False_Misconception:Wrong_term'\n",
      " 'False_Misconception:Firstterm' 'True_Misconception:Wrong_term'\n",
      " 'True_Misconception:Firstterm' 'False_Misconception:Base_rate'\n",
      " 'True_Misconception:Base_rate' 'True_Misconception:Multiplying_by_4'\n",
      " 'False_Misconception:Multiplying_by_4' 'False_Misconception:Certainty'\n",
      " 'False_Misconception:Scale']\n",
      "label : [37 64 47 60 36 30 13  0 27 20 11 58 52 46 18 32  3 50 39 54  2 22 16 49\n",
      " 44  9 17 33 31 19 12 25 61 56 51 62 34 38 42 48  7 14  1 43 57 26  8 29\n",
      "  6 15 41 23 28 59 55 35 10 63 45  4 40 53 21  5 24]\n"
     ]
    }
   ],
   "source": [
    "# print all unique t\n",
    "printAllcolumnsValue(trainDF, showAll=True)"
   ]
  },
  {
   "cell_type": "markdown",
   "id": "7aa58eb8",
   "metadata": {
    "papermill": {
     "duration": 0.022465,
     "end_time": "2025-09-30T15:40:38.459736",
     "exception": false,
     "start_time": "2025-09-30T15:40:38.437271",
     "status": "completed"
    },
    "tags": []
   },
   "source": [
    "### Get Label Catergory class name"
   ]
  },
  {
   "cell_type": "code",
   "execution_count": 30,
   "id": "72ce6f22",
   "metadata": {
    "execution": {
     "iopub.execute_input": "2025-09-30T15:40:38.505289Z",
     "iopub.status.busy": "2025-09-30T15:40:38.505070Z",
     "iopub.status.idle": "2025-09-30T15:40:38.509533Z",
     "shell.execute_reply": "2025-09-30T15:40:38.508986Z"
    },
    "papermill": {
     "duration": 0.028362,
     "end_time": "2025-09-30T15:40:38.510579",
     "exception": false,
     "start_time": "2025-09-30T15:40:38.482217",
     "status": "completed"
    },
    "tags": []
   },
   "outputs": [
    {
     "data": {
      "text/plain": [
       "array(['False_Correct:NA', 'False_Misconception:Adding_across',\n",
       "       'False_Misconception:Adding_terms', 'False_Misconception:Additive',\n",
       "       'False_Misconception:Base_rate', 'False_Misconception:Certainty',\n",
       "       'False_Misconception:Definition',\n",
       "       'False_Misconception:Denominator-only_change',\n",
       "       'False_Misconception:Division', 'False_Misconception:Duplication',\n",
       "       'False_Misconception:Firstterm', 'False_Misconception:FlipChange',\n",
       "       'False_Misconception:Ignores_zeroes',\n",
       "       'False_Misconception:Incomplete',\n",
       "       'False_Misconception:Incorrect_equivalent_fraction_addition',\n",
       "       'False_Misconception:Interior',\n",
       "       'False_Misconception:Inverse_operation',\n",
       "       'False_Misconception:Inversion', 'False_Misconception:Irrelevant',\n",
       "       'False_Misconception:Longer_is_bigger', 'False_Misconception:Mult',\n",
       "       'False_Misconception:Multiplying_by_4',\n",
       "       'False_Misconception:Not_variable', 'False_Misconception:Positive',\n",
       "       'False_Misconception:Scale',\n",
       "       'False_Misconception:Shorter_is_bigger',\n",
       "       'False_Misconception:Subtraction',\n",
       "       'False_Misconception:SwapDividend', 'False_Misconception:Tacking',\n",
       "       'False_Misconception:Unknowable', 'False_Misconception:WNB',\n",
       "       'False_Misconception:Whole_numbers_larger',\n",
       "       'False_Misconception:Wrong_Fraction',\n",
       "       'False_Misconception:Wrong_Operation',\n",
       "       'False_Misconception:Wrong_fraction',\n",
       "       'False_Misconception:Wrong_term', 'False_Neither:NA',\n",
       "       'True_Correct:NA', 'True_Misconception:Adding_across',\n",
       "       'True_Misconception:Additive', 'True_Misconception:Base_rate',\n",
       "       'True_Misconception:Definition',\n",
       "       'True_Misconception:Denominator-only_change',\n",
       "       'True_Misconception:Division', 'True_Misconception:Duplication',\n",
       "       'True_Misconception:Firstterm', 'True_Misconception:FlipChange',\n",
       "       'True_Misconception:Incomplete',\n",
       "       'True_Misconception:Incorrect_equivalent_fraction_addition',\n",
       "       'True_Misconception:Inversion', 'True_Misconception:Irrelevant',\n",
       "       'True_Misconception:Longer_is_bigger', 'True_Misconception:Mult',\n",
       "       'True_Misconception:Multiplying_by_4',\n",
       "       'True_Misconception:Not_variable', 'True_Misconception:Positive',\n",
       "       'True_Misconception:Shorter_is_bigger',\n",
       "       'True_Misconception:Subtraction',\n",
       "       'True_Misconception:SwapDividend', 'True_Misconception:Tacking',\n",
       "       'True_Misconception:WNB',\n",
       "       'True_Misconception:Whole_numbers_larger',\n",
       "       'True_Misconception:Wrong_fraction',\n",
       "       'True_Misconception:Wrong_term', 'True_Neither:NA'], dtype=object)"
      ]
     },
     "execution_count": 30,
     "metadata": {},
     "output_type": "execute_result"
    }
   ],
   "source": [
    "\n",
    "targetClasses = le.classes_   \n",
    "targetClasses"
   ]
  },
  {
   "cell_type": "code",
   "execution_count": 31,
   "id": "983fe899",
   "metadata": {
    "execution": {
     "iopub.execute_input": "2025-09-30T15:40:38.557377Z",
     "iopub.status.busy": "2025-09-30T15:40:38.557184Z",
     "iopub.status.idle": "2025-09-30T15:40:38.561400Z",
     "shell.execute_reply": "2025-09-30T15:40:38.560649Z"
    },
    "papermill": {
     "duration": 0.02913,
     "end_time": "2025-09-30T15:40:38.562498",
     "exception": false,
     "start_time": "2025-09-30T15:40:38.533368",
     "status": "completed"
    },
    "tags": []
   },
   "outputs": [
    {
     "data": {
      "text/plain": [
       "65"
      ]
     },
     "execution_count": 31,
     "metadata": {},
     "output_type": "execute_result"
    }
   ],
   "source": [
    "nClasses = len(targetClasses)\n",
    "nClasses"
   ]
  },
  {
   "cell_type": "code",
   "execution_count": 32,
   "id": "7ec6c67b",
   "metadata": {
    "execution": {
     "iopub.execute_input": "2025-09-30T15:40:38.608775Z",
     "iopub.status.busy": "2025-09-30T15:40:38.608576Z",
     "iopub.status.idle": "2025-09-30T15:40:38.618253Z",
     "shell.execute_reply": "2025-09-30T15:40:38.617647Z"
    },
    "papermill": {
     "duration": 0.034425,
     "end_time": "2025-09-30T15:40:38.619336",
     "exception": false,
     "start_time": "2025-09-30T15:40:38.584911",
     "status": "completed"
    },
    "tags": []
   },
   "outputs": [
    {
     "name": "stdout",
     "output_type": "stream",
     "text": [
      "Train shape: (36696, 9) with 65 target classes\n"
     ]
    },
    {
     "data": {
      "text/html": [
       "<div>\n",
       "<style scoped>\n",
       "    .dataframe tbody tr th:only-of-type {\n",
       "        vertical-align: middle;\n",
       "    }\n",
       "\n",
       "    .dataframe tbody tr th {\n",
       "        vertical-align: top;\n",
       "    }\n",
       "\n",
       "    .dataframe thead th {\n",
       "        text-align: right;\n",
       "    }\n",
       "</style>\n",
       "<table border=\"1\" class=\"dataframe\">\n",
       "  <thead>\n",
       "    <tr style=\"text-align: right;\">\n",
       "      <th></th>\n",
       "      <th>row_id</th>\n",
       "      <th>QuestionId</th>\n",
       "      <th>QuestionText</th>\n",
       "      <th>MC_Answer</th>\n",
       "      <th>StudentExplanation</th>\n",
       "      <th>Category</th>\n",
       "      <th>Misconception</th>\n",
       "      <th>target</th>\n",
       "      <th>label</th>\n",
       "    </tr>\n",
       "  </thead>\n",
       "  <tbody>\n",
       "    <tr>\n",
       "      <th>0</th>\n",
       "      <td>0</td>\n",
       "      <td>31772</td>\n",
       "      <td>What fraction of the shape is not shaded? Give...</td>\n",
       "      <td>\\( \\frac{1}{3} \\)</td>\n",
       "      <td>0ne third is equal to tree nineth</td>\n",
       "      <td>True_Correct</td>\n",
       "      <td>NA</td>\n",
       "      <td>True_Correct:NA</td>\n",
       "      <td>37</td>\n",
       "    </tr>\n",
       "    <tr>\n",
       "      <th>1</th>\n",
       "      <td>1</td>\n",
       "      <td>31772</td>\n",
       "      <td>What fraction of the shape is not shaded? Give...</td>\n",
       "      <td>\\( \\frac{1}{3} \\)</td>\n",
       "      <td>1 / 3 because 6 over 9 is 2 thirds and 1 third...</td>\n",
       "      <td>True_Correct</td>\n",
       "      <td>NA</td>\n",
       "      <td>True_Correct:NA</td>\n",
       "      <td>37</td>\n",
       "    </tr>\n",
       "    <tr>\n",
       "      <th>2</th>\n",
       "      <td>2</td>\n",
       "      <td>31772</td>\n",
       "      <td>What fraction of the shape is not shaded? Give...</td>\n",
       "      <td>\\( \\frac{1}{3} \\)</td>\n",
       "      <td>1 3rd is half of 3 6th, so it is simplee to un...</td>\n",
       "      <td>True_Neither</td>\n",
       "      <td>NA</td>\n",
       "      <td>True_Neither:NA</td>\n",
       "      <td>64</td>\n",
       "    </tr>\n",
       "    <tr>\n",
       "      <th>3</th>\n",
       "      <td>3</td>\n",
       "      <td>31772</td>\n",
       "      <td>What fraction of the shape is not shaded? Give...</td>\n",
       "      <td>\\( \\frac{1}{3} \\)</td>\n",
       "      <td>1 goes into everything and 3 goes into nine</td>\n",
       "      <td>True_Neither</td>\n",
       "      <td>NA</td>\n",
       "      <td>True_Neither:NA</td>\n",
       "      <td>64</td>\n",
       "    </tr>\n",
       "    <tr>\n",
       "      <th>4</th>\n",
       "      <td>4</td>\n",
       "      <td>31772</td>\n",
       "      <td>What fraction of the shape is not shaded? Give...</td>\n",
       "      <td>\\( \\frac{1}{3} \\)</td>\n",
       "      <td>1 out of every 3 isn't coloured</td>\n",
       "      <td>True_Correct</td>\n",
       "      <td>NA</td>\n",
       "      <td>True_Correct:NA</td>\n",
       "      <td>37</td>\n",
       "    </tr>\n",
       "  </tbody>\n",
       "</table>\n",
       "</div>"
      ],
      "text/plain": [
       "   row_id  QuestionId                                       QuestionText  \\\n",
       "0       0       31772  What fraction of the shape is not shaded? Give...   \n",
       "1       1       31772  What fraction of the shape is not shaded? Give...   \n",
       "2       2       31772  What fraction of the shape is not shaded? Give...   \n",
       "3       3       31772  What fraction of the shape is not shaded? Give...   \n",
       "4       4       31772  What fraction of the shape is not shaded? Give...   \n",
       "\n",
       "           MC_Answer                                 StudentExplanation  \\\n",
       "0  \\( \\frac{1}{3} \\)                  0ne third is equal to tree nineth   \n",
       "1  \\( \\frac{1}{3} \\)  1 / 3 because 6 over 9 is 2 thirds and 1 third...   \n",
       "2  \\( \\frac{1}{3} \\)  1 3rd is half of 3 6th, so it is simplee to un...   \n",
       "3  \\( \\frac{1}{3} \\)        1 goes into everything and 3 goes into nine   \n",
       "4  \\( \\frac{1}{3} \\)                    1 out of every 3 isn't coloured   \n",
       "\n",
       "       Category Misconception           target  label  \n",
       "0  True_Correct            NA  True_Correct:NA     37  \n",
       "1  True_Correct            NA  True_Correct:NA     37  \n",
       "2  True_Neither            NA  True_Neither:NA     64  \n",
       "3  True_Neither            NA  True_Neither:NA     64  \n",
       "4  True_Correct            NA  True_Correct:NA     37  "
      ]
     },
     "execution_count": 32,
     "metadata": {},
     "output_type": "execute_result"
    }
   ],
   "source": [
    "print(f\"Train shape: {trainDF.shape} with {nClasses} target classes\")\n",
    "trainDF.head()"
   ]
  },
  {
   "cell_type": "markdown",
   "id": "611cee7a",
   "metadata": {
    "papermill": {
     "duration": 0.022321,
     "end_time": "2025-09-30T15:40:38.664018",
     "exception": false,
     "start_time": "2025-09-30T15:40:38.641697",
     "status": "completed"
    },
    "tags": []
   },
   "source": [
    "# Feature Engineering\n",
    "\n",
    "### Add correct answer flag"
   ]
  },
  {
   "cell_type": "code",
   "execution_count": 33,
   "id": "e4c5dc63",
   "metadata": {
    "execution": {
     "iopub.execute_input": "2025-09-30T15:40:38.709859Z",
     "iopub.status.busy": "2025-09-30T15:40:38.709326Z",
     "iopub.status.idle": "2025-09-30T15:40:38.880824Z",
     "shell.execute_reply": "2025-09-30T15:40:38.880134Z"
    },
    "papermill": {
     "duration": 0.195673,
     "end_time": "2025-09-30T15:40:38.882001",
     "exception": false,
     "start_time": "2025-09-30T15:40:38.686328",
     "status": "completed"
    },
    "tags": []
   },
   "outputs": [
    {
     "data": {
      "text/plain": [
       "0         True\n",
       "1         True\n",
       "2         True\n",
       "3         True\n",
       "4         True\n",
       "         ...  \n",
       "36691    False\n",
       "36692    False\n",
       "36693    False\n",
       "36694    False\n",
       "36695    False\n",
       "Length: 36696, dtype: bool"
      ]
     },
     "execution_count": 33,
     "metadata": {},
     "output_type": "execute_result"
    }
   ],
   "source": [
    "idx = trainDF.apply(lambda row: row[\"Category\"].split(\"_\")[0] , axis=1) == \"True\" # get Category with True \n",
    "idx"
   ]
  },
  {
   "cell_type": "code",
   "execution_count": 34,
   "id": "977973a6",
   "metadata": {
    "execution": {
     "iopub.execute_input": "2025-09-30T15:40:38.930084Z",
     "iopub.status.busy": "2025-09-30T15:40:38.929689Z",
     "iopub.status.idle": "2025-09-30T15:40:38.943667Z",
     "shell.execute_reply": "2025-09-30T15:40:38.943054Z"
    },
    "papermill": {
     "duration": 0.038696,
     "end_time": "2025-09-30T15:40:38.944858",
     "exception": false,
     "start_time": "2025-09-30T15:40:38.906162",
     "status": "completed"
    },
    "tags": []
   },
   "outputs": [
    {
     "data": {
      "text/html": [
       "<div>\n",
       "<style scoped>\n",
       "    .dataframe tbody tr th:only-of-type {\n",
       "        vertical-align: middle;\n",
       "    }\n",
       "\n",
       "    .dataframe tbody tr th {\n",
       "        vertical-align: top;\n",
       "    }\n",
       "\n",
       "    .dataframe thead th {\n",
       "        text-align: right;\n",
       "    }\n",
       "</style>\n",
       "<table border=\"1\" class=\"dataframe\">\n",
       "  <thead>\n",
       "    <tr style=\"text-align: right;\">\n",
       "      <th></th>\n",
       "      <th>row_id</th>\n",
       "      <th>QuestionId</th>\n",
       "      <th>QuestionText</th>\n",
       "      <th>MC_Answer</th>\n",
       "      <th>StudentExplanation</th>\n",
       "      <th>Category</th>\n",
       "      <th>Misconception</th>\n",
       "      <th>target</th>\n",
       "      <th>label</th>\n",
       "    </tr>\n",
       "  </thead>\n",
       "  <tbody>\n",
       "    <tr>\n",
       "      <th>0</th>\n",
       "      <td>0</td>\n",
       "      <td>31772</td>\n",
       "      <td>What fraction of the shape is not shaded? Give...</td>\n",
       "      <td>\\( \\frac{1}{3} \\)</td>\n",
       "      <td>0ne third is equal to tree nineth</td>\n",
       "      <td>True_Correct</td>\n",
       "      <td>NA</td>\n",
       "      <td>True_Correct:NA</td>\n",
       "      <td>37</td>\n",
       "    </tr>\n",
       "    <tr>\n",
       "      <th>1</th>\n",
       "      <td>1</td>\n",
       "      <td>31772</td>\n",
       "      <td>What fraction of the shape is not shaded? Give...</td>\n",
       "      <td>\\( \\frac{1}{3} \\)</td>\n",
       "      <td>1 / 3 because 6 over 9 is 2 thirds and 1 third...</td>\n",
       "      <td>True_Correct</td>\n",
       "      <td>NA</td>\n",
       "      <td>True_Correct:NA</td>\n",
       "      <td>37</td>\n",
       "    </tr>\n",
       "    <tr>\n",
       "      <th>2</th>\n",
       "      <td>2</td>\n",
       "      <td>31772</td>\n",
       "      <td>What fraction of the shape is not shaded? Give...</td>\n",
       "      <td>\\( \\frac{1}{3} \\)</td>\n",
       "      <td>1 3rd is half of 3 6th, so it is simplee to un...</td>\n",
       "      <td>True_Neither</td>\n",
       "      <td>NA</td>\n",
       "      <td>True_Neither:NA</td>\n",
       "      <td>64</td>\n",
       "    </tr>\n",
       "    <tr>\n",
       "      <th>3</th>\n",
       "      <td>3</td>\n",
       "      <td>31772</td>\n",
       "      <td>What fraction of the shape is not shaded? Give...</td>\n",
       "      <td>\\( \\frac{1}{3} \\)</td>\n",
       "      <td>1 goes into everything and 3 goes into nine</td>\n",
       "      <td>True_Neither</td>\n",
       "      <td>NA</td>\n",
       "      <td>True_Neither:NA</td>\n",
       "      <td>64</td>\n",
       "    </tr>\n",
       "    <tr>\n",
       "      <th>4</th>\n",
       "      <td>4</td>\n",
       "      <td>31772</td>\n",
       "      <td>What fraction of the shape is not shaded? Give...</td>\n",
       "      <td>\\( \\frac{1}{3} \\)</td>\n",
       "      <td>1 out of every 3 isn't coloured</td>\n",
       "      <td>True_Correct</td>\n",
       "      <td>NA</td>\n",
       "      <td>True_Correct:NA</td>\n",
       "      <td>37</td>\n",
       "    </tr>\n",
       "    <tr>\n",
       "      <th>...</th>\n",
       "      <td>...</td>\n",
       "      <td>...</td>\n",
       "      <td>...</td>\n",
       "      <td>...</td>\n",
       "      <td>...</td>\n",
       "      <td>...</td>\n",
       "      <td>...</td>\n",
       "      <td>...</td>\n",
       "      <td>...</td>\n",
       "    </tr>\n",
       "    <tr>\n",
       "      <th>36275</th>\n",
       "      <td>36275</td>\n",
       "      <td>109465</td>\n",
       "      <td>The probability of an event occurring is \\( 0....</td>\n",
       "      <td>Likely</td>\n",
       "      <td>very close to one but not one so it cant be ce...</td>\n",
       "      <td>True_Correct</td>\n",
       "      <td>NA</td>\n",
       "      <td>True_Correct:NA</td>\n",
       "      <td>37</td>\n",
       "    </tr>\n",
       "    <tr>\n",
       "      <th>36276</th>\n",
       "      <td>36276</td>\n",
       "      <td>109465</td>\n",
       "      <td>The probability of an event occurring is \\( 0....</td>\n",
       "      <td>Likely</td>\n",
       "      <td>very high probability however it's not certain</td>\n",
       "      <td>True_Neither</td>\n",
       "      <td>NA</td>\n",
       "      <td>True_Neither:NA</td>\n",
       "      <td>64</td>\n",
       "    </tr>\n",
       "    <tr>\n",
       "      <th>36277</th>\n",
       "      <td>36277</td>\n",
       "      <td>109465</td>\n",
       "      <td>The probability of an event occurring is \\( 0....</td>\n",
       "      <td>Likely</td>\n",
       "      <td>we should use likely because we dont know for ...</td>\n",
       "      <td>True_Neither</td>\n",
       "      <td>NA</td>\n",
       "      <td>True_Neither:NA</td>\n",
       "      <td>64</td>\n",
       "    </tr>\n",
       "    <tr>\n",
       "      <th>36278</th>\n",
       "      <td>36278</td>\n",
       "      <td>109465</td>\n",
       "      <td>The probability of an event occurring is \\( 0....</td>\n",
       "      <td>Likely</td>\n",
       "      <td>well 0.9 = 90% and the only way something can ...</td>\n",
       "      <td>True_Correct</td>\n",
       "      <td>NA</td>\n",
       "      <td>True_Correct:NA</td>\n",
       "      <td>37</td>\n",
       "    </tr>\n",
       "    <tr>\n",
       "      <th>36279</th>\n",
       "      <td>36279</td>\n",
       "      <td>109465</td>\n",
       "      <td>The probability of an event occurring is \\( 0....</td>\n",
       "      <td>Likely</td>\n",
       "      <td>well normally if it is in the decimals its the...</td>\n",
       "      <td>True_Correct</td>\n",
       "      <td>NA</td>\n",
       "      <td>True_Correct:NA</td>\n",
       "      <td>37</td>\n",
       "    </tr>\n",
       "  </tbody>\n",
       "</table>\n",
       "<p>20470 rows × 9 columns</p>\n",
       "</div>"
      ],
      "text/plain": [
       "       row_id  QuestionId                                       QuestionText  \\\n",
       "0           0       31772  What fraction of the shape is not shaded? Give...   \n",
       "1           1       31772  What fraction of the shape is not shaded? Give...   \n",
       "2           2       31772  What fraction of the shape is not shaded? Give...   \n",
       "3           3       31772  What fraction of the shape is not shaded? Give...   \n",
       "4           4       31772  What fraction of the shape is not shaded? Give...   \n",
       "...       ...         ...                                                ...   \n",
       "36275   36275      109465  The probability of an event occurring is \\( 0....   \n",
       "36276   36276      109465  The probability of an event occurring is \\( 0....   \n",
       "36277   36277      109465  The probability of an event occurring is \\( 0....   \n",
       "36278   36278      109465  The probability of an event occurring is \\( 0....   \n",
       "36279   36279      109465  The probability of an event occurring is \\( 0....   \n",
       "\n",
       "               MC_Answer                                 StudentExplanation  \\\n",
       "0      \\( \\frac{1}{3} \\)                  0ne third is equal to tree nineth   \n",
       "1      \\( \\frac{1}{3} \\)  1 / 3 because 6 over 9 is 2 thirds and 1 third...   \n",
       "2      \\( \\frac{1}{3} \\)  1 3rd is half of 3 6th, so it is simplee to un...   \n",
       "3      \\( \\frac{1}{3} \\)        1 goes into everything and 3 goes into nine   \n",
       "4      \\( \\frac{1}{3} \\)                    1 out of every 3 isn't coloured   \n",
       "...                  ...                                                ...   \n",
       "36275             Likely  very close to one but not one so it cant be ce...   \n",
       "36276             Likely     very high probability however it's not certain   \n",
       "36277             Likely  we should use likely because we dont know for ...   \n",
       "36278             Likely  well 0.9 = 90% and the only way something can ...   \n",
       "36279             Likely  well normally if it is in the decimals its the...   \n",
       "\n",
       "           Category Misconception           target  label  \n",
       "0      True_Correct            NA  True_Correct:NA     37  \n",
       "1      True_Correct            NA  True_Correct:NA     37  \n",
       "2      True_Neither            NA  True_Neither:NA     64  \n",
       "3      True_Neither            NA  True_Neither:NA     64  \n",
       "4      True_Correct            NA  True_Correct:NA     37  \n",
       "...             ...           ...              ...    ...  \n",
       "36275  True_Correct            NA  True_Correct:NA     37  \n",
       "36276  True_Neither            NA  True_Neither:NA     64  \n",
       "36277  True_Neither            NA  True_Neither:NA     64  \n",
       "36278  True_Correct            NA  True_Correct:NA     37  \n",
       "36279  True_Correct            NA  True_Correct:NA     37  \n",
       "\n",
       "[20470 rows x 9 columns]"
      ]
     },
     "execution_count": 34,
     "metadata": {},
     "output_type": "execute_result"
    }
   ],
   "source": [
    "correct = trainDF.loc[idx].copy()\n",
    "correct"
   ]
  },
  {
   "cell_type": "code",
   "execution_count": 35,
   "id": "527edc93",
   "metadata": {
    "execution": {
     "iopub.execute_input": "2025-09-30T15:40:38.992686Z",
     "iopub.status.busy": "2025-09-30T15:40:38.992227Z",
     "iopub.status.idle": "2025-09-30T15:40:39.008240Z",
     "shell.execute_reply": "2025-09-30T15:40:39.007479Z"
    },
    "papermill": {
     "duration": 0.040773,
     "end_time": "2025-09-30T15:40:39.009390",
     "exception": false,
     "start_time": "2025-09-30T15:40:38.968617",
     "status": "completed"
    },
    "tags": []
   },
   "outputs": [
    {
     "data": {
      "text/html": [
       "<div>\n",
       "<style scoped>\n",
       "    .dataframe tbody tr th:only-of-type {\n",
       "        vertical-align: middle;\n",
       "    }\n",
       "\n",
       "    .dataframe tbody tr th {\n",
       "        vertical-align: top;\n",
       "    }\n",
       "\n",
       "    .dataframe thead th {\n",
       "        text-align: right;\n",
       "    }\n",
       "</style>\n",
       "<table border=\"1\" class=\"dataframe\">\n",
       "  <thead>\n",
       "    <tr style=\"text-align: right;\">\n",
       "      <th></th>\n",
       "      <th>row_id</th>\n",
       "      <th>QuestionId</th>\n",
       "      <th>QuestionText</th>\n",
       "      <th>MC_Answer</th>\n",
       "      <th>StudentExplanation</th>\n",
       "      <th>Category</th>\n",
       "      <th>Misconception</th>\n",
       "      <th>target</th>\n",
       "      <th>label</th>\n",
       "      <th>c</th>\n",
       "    </tr>\n",
       "  </thead>\n",
       "  <tbody>\n",
       "    <tr>\n",
       "      <th>61</th>\n",
       "      <td>61</td>\n",
       "      <td>31772</td>\n",
       "      <td>What fraction of the shape is not shaded? Give...</td>\n",
       "      <td>\\( \\frac{1}{3} \\)</td>\n",
       "      <td>3 goes into 9 three times which makes it one t...</td>\n",
       "      <td>True_Correct</td>\n",
       "      <td>NA</td>\n",
       "      <td>True_Correct:NA</td>\n",
       "      <td>37</td>\n",
       "      <td>2348</td>\n",
       "    </tr>\n",
       "    <tr>\n",
       "      <th>7</th>\n",
       "      <td>7</td>\n",
       "      <td>31772</td>\n",
       "      <td>What fraction of the shape is not shaded? Give...</td>\n",
       "      <td>\\( \\frac{1}{3} \\)</td>\n",
       "      <td>1/3 because 3/9 simplified divided by 3 would ...</td>\n",
       "      <td>True_Correct</td>\n",
       "      <td>NA</td>\n",
       "      <td>True_Correct:NA</td>\n",
       "      <td>37</td>\n",
       "      <td>2348</td>\n",
       "    </tr>\n",
       "    <tr>\n",
       "      <th>6</th>\n",
       "      <td>6</td>\n",
       "      <td>31772</td>\n",
       "      <td>What fraction of the shape is not shaded? Give...</td>\n",
       "      <td>\\( \\frac{1}{3} \\)</td>\n",
       "      <td>1/3 and 3/9 are not shaded but they are equal ...</td>\n",
       "      <td>True_Correct</td>\n",
       "      <td>NA</td>\n",
       "      <td>True_Correct:NA</td>\n",
       "      <td>37</td>\n",
       "      <td>2348</td>\n",
       "    </tr>\n",
       "    <tr>\n",
       "      <th>5</th>\n",
       "      <td>5</td>\n",
       "      <td>31772</td>\n",
       "      <td>What fraction of the shape is not shaded? Give...</td>\n",
       "      <td>\\( \\frac{1}{3} \\)</td>\n",
       "      <td>1 third because 6 over 9 is 2 thirds and 1 thi...</td>\n",
       "      <td>True_Correct</td>\n",
       "      <td>NA</td>\n",
       "      <td>True_Correct:NA</td>\n",
       "      <td>37</td>\n",
       "      <td>2348</td>\n",
       "    </tr>\n",
       "    <tr>\n",
       "      <th>60</th>\n",
       "      <td>60</td>\n",
       "      <td>31772</td>\n",
       "      <td>What fraction of the shape is not shaded? Give...</td>\n",
       "      <td>\\( \\frac{1}{3} \\)</td>\n",
       "      <td>3 from the 9 triangles are not shaded and 3/9 ...</td>\n",
       "      <td>True_Correct</td>\n",
       "      <td>NA</td>\n",
       "      <td>True_Correct:NA</td>\n",
       "      <td>37</td>\n",
       "      <td>2348</td>\n",
       "    </tr>\n",
       "    <tr>\n",
       "      <th>...</th>\n",
       "      <td>...</td>\n",
       "      <td>...</td>\n",
       "      <td>...</td>\n",
       "      <td>...</td>\n",
       "      <td>...</td>\n",
       "      <td>...</td>\n",
       "      <td>...</td>\n",
       "      <td>...</td>\n",
       "      <td>...</td>\n",
       "      <td>...</td>\n",
       "    </tr>\n",
       "    <tr>\n",
       "      <th>14338</th>\n",
       "      <td>14338</td>\n",
       "      <td>31778</td>\n",
       "      <td>\\( \\frac{A}{10}=\\frac{9}{15} \\) What is the va...</td>\n",
       "      <td>\\( 9 \\)</td>\n",
       "      <td>It is six because they are both equal to 3over5.</td>\n",
       "      <td>True_Correct</td>\n",
       "      <td>NA</td>\n",
       "      <td>True_Correct:NA</td>\n",
       "      <td>37</td>\n",
       "      <td>12</td>\n",
       "    </tr>\n",
       "    <tr>\n",
       "      <th>14335</th>\n",
       "      <td>14335</td>\n",
       "      <td>31778</td>\n",
       "      <td>\\( \\frac{A}{10}=\\frac{9}{15} \\) What is the va...</td>\n",
       "      <td>\\( 9 \\)</td>\n",
       "      <td>Il believe that is the ansewer because I calcu...</td>\n",
       "      <td>True_Neither</td>\n",
       "      <td>NA</td>\n",
       "      <td>True_Neither:NA</td>\n",
       "      <td>64</td>\n",
       "      <td>12</td>\n",
       "    </tr>\n",
       "    <tr>\n",
       "      <th>14321</th>\n",
       "      <td>14321</td>\n",
       "      <td>31778</td>\n",
       "      <td>\\( \\frac{A}{10}=\\frac{9}{15} \\) What is the va...</td>\n",
       "      <td>\\( 9 \\)</td>\n",
       "      <td>I think it's C because 6/10 is the same as 9/15.</td>\n",
       "      <td>True_Correct</td>\n",
       "      <td>NA</td>\n",
       "      <td>True_Correct:NA</td>\n",
       "      <td>37</td>\n",
       "      <td>12</td>\n",
       "    </tr>\n",
       "    <tr>\n",
       "      <th>14280</th>\n",
       "      <td>14280</td>\n",
       "      <td>31778</td>\n",
       "      <td>\\( \\frac{A}{10}=\\frac{9}{15} \\) What is the va...</td>\n",
       "      <td>\\( 9 \\)</td>\n",
       "      <td>Because 10 is 2 / 3 of 15, and 2 is 6.</td>\n",
       "      <td>True_Neither</td>\n",
       "      <td>NA</td>\n",
       "      <td>True_Neither:NA</td>\n",
       "      <td>64</td>\n",
       "      <td>12</td>\n",
       "    </tr>\n",
       "    <tr>\n",
       "      <th>14305</th>\n",
       "      <td>14305</td>\n",
       "      <td>31778</td>\n",
       "      <td>\\( \\frac{A}{10}=\\frac{9}{15} \\) What is the va...</td>\n",
       "      <td>\\( 9 \\)</td>\n",
       "      <td>I divided 9/15 by 3, then got 3/5 and timsed i...</td>\n",
       "      <td>True_Correct</td>\n",
       "      <td>NA</td>\n",
       "      <td>True_Correct:NA</td>\n",
       "      <td>37</td>\n",
       "      <td>12</td>\n",
       "    </tr>\n",
       "  </tbody>\n",
       "</table>\n",
       "<p>20470 rows × 10 columns</p>\n",
       "</div>"
      ],
      "text/plain": [
       "       row_id  QuestionId                                       QuestionText  \\\n",
       "61         61       31772  What fraction of the shape is not shaded? Give...   \n",
       "7           7       31772  What fraction of the shape is not shaded? Give...   \n",
       "6           6       31772  What fraction of the shape is not shaded? Give...   \n",
       "5           5       31772  What fraction of the shape is not shaded? Give...   \n",
       "60         60       31772  What fraction of the shape is not shaded? Give...   \n",
       "...       ...         ...                                                ...   \n",
       "14338   14338       31778  \\( \\frac{A}{10}=\\frac{9}{15} \\) What is the va...   \n",
       "14335   14335       31778  \\( \\frac{A}{10}=\\frac{9}{15} \\) What is the va...   \n",
       "14321   14321       31778  \\( \\frac{A}{10}=\\frac{9}{15} \\) What is the va...   \n",
       "14280   14280       31778  \\( \\frac{A}{10}=\\frac{9}{15} \\) What is the va...   \n",
       "14305   14305       31778  \\( \\frac{A}{10}=\\frac{9}{15} \\) What is the va...   \n",
       "\n",
       "               MC_Answer                                 StudentExplanation  \\\n",
       "61     \\( \\frac{1}{3} \\)  3 goes into 9 three times which makes it one t...   \n",
       "7      \\( \\frac{1}{3} \\)  1/3 because 3/9 simplified divided by 3 would ...   \n",
       "6      \\( \\frac{1}{3} \\)  1/3 and 3/9 are not shaded but they are equal ...   \n",
       "5      \\( \\frac{1}{3} \\)  1 third because 6 over 9 is 2 thirds and 1 thi...   \n",
       "60     \\( \\frac{1}{3} \\)  3 from the 9 triangles are not shaded and 3/9 ...   \n",
       "...                  ...                                                ...   \n",
       "14338            \\( 9 \\)   It is six because they are both equal to 3over5.   \n",
       "14335            \\( 9 \\)  Il believe that is the ansewer because I calcu...   \n",
       "14321            \\( 9 \\)   I think it's C because 6/10 is the same as 9/15.   \n",
       "14280            \\( 9 \\)             Because 10 is 2 / 3 of 15, and 2 is 6.   \n",
       "14305            \\( 9 \\)  I divided 9/15 by 3, then got 3/5 and timsed i...   \n",
       "\n",
       "           Category Misconception           target  label     c  \n",
       "61     True_Correct            NA  True_Correct:NA     37  2348  \n",
       "7      True_Correct            NA  True_Correct:NA     37  2348  \n",
       "6      True_Correct            NA  True_Correct:NA     37  2348  \n",
       "5      True_Correct            NA  True_Correct:NA     37  2348  \n",
       "60     True_Correct            NA  True_Correct:NA     37  2348  \n",
       "...             ...           ...              ...    ...   ...  \n",
       "14338  True_Correct            NA  True_Correct:NA     37    12  \n",
       "14335  True_Neither            NA  True_Neither:NA     64    12  \n",
       "14321  True_Correct            NA  True_Correct:NA     37    12  \n",
       "14280  True_Neither            NA  True_Neither:NA     64    12  \n",
       "14305  True_Correct            NA  True_Correct:NA     37    12  \n",
       "\n",
       "[20470 rows x 10 columns]"
      ]
     },
     "execution_count": 35,
     "metadata": {},
     "output_type": "execute_result"
    }
   ],
   "source": [
    "# group MC anwser with count \n",
    "correct['c'] = correct.groupby(['QuestionId','MC_Answer']).MC_Answer.transform('count')\n",
    "correct = correct.sort_values('c',ascending=False) # sort value \n",
    "correct"
   ]
  },
  {
   "cell_type": "code",
   "execution_count": 36,
   "id": "dcd8477b",
   "metadata": {
    "execution": {
     "iopub.execute_input": "2025-09-30T15:40:39.056913Z",
     "iopub.status.busy": "2025-09-30T15:40:39.056313Z",
     "iopub.status.idle": "2025-09-30T15:40:39.063857Z",
     "shell.execute_reply": "2025-09-30T15:40:39.063310Z"
    },
    "papermill": {
     "duration": 0.032517,
     "end_time": "2025-09-30T15:40:39.064974",
     "exception": false,
     "start_time": "2025-09-30T15:40:39.032457",
     "status": "completed"
    },
    "tags": []
   },
   "outputs": [
    {
     "data": {
      "text/html": [
       "<div>\n",
       "<style scoped>\n",
       "    .dataframe tbody tr th:only-of-type {\n",
       "        vertical-align: middle;\n",
       "    }\n",
       "\n",
       "    .dataframe tbody tr th {\n",
       "        vertical-align: top;\n",
       "    }\n",
       "\n",
       "    .dataframe thead th {\n",
       "        text-align: right;\n",
       "    }\n",
       "</style>\n",
       "<table border=\"1\" class=\"dataframe\">\n",
       "  <thead>\n",
       "    <tr style=\"text-align: right;\">\n",
       "      <th></th>\n",
       "      <th>QuestionId</th>\n",
       "      <th>MC_Answer</th>\n",
       "    </tr>\n",
       "  </thead>\n",
       "  <tbody>\n",
       "    <tr>\n",
       "      <th>61</th>\n",
       "      <td>31772</td>\n",
       "      <td>\\( \\frac{1}{3} \\)</td>\n",
       "    </tr>\n",
       "    <tr>\n",
       "      <th>7430</th>\n",
       "      <td>31774</td>\n",
       "      <td>\\( \\frac{1}{12} \\)</td>\n",
       "    </tr>\n",
       "    <tr>\n",
       "      <th>10770</th>\n",
       "      <td>31777</td>\n",
       "      <td>\\( 72 \\)</td>\n",
       "    </tr>\n",
       "    <tr>\n",
       "      <th>14266</th>\n",
       "      <td>31778</td>\n",
       "      <td>\\( 6 \\)</td>\n",
       "    </tr>\n",
       "    <tr>\n",
       "      <th>14440</th>\n",
       "      <td>32829</td>\n",
       "      <td>\\( 12 \\)</td>\n",
       "    </tr>\n",
       "    <tr>\n",
       "      <th>22004</th>\n",
       "      <td>32835</td>\n",
       "      <td>\\( 6.2 \\)</td>\n",
       "    </tr>\n",
       "    <tr>\n",
       "      <th>24278</th>\n",
       "      <td>33472</td>\n",
       "      <td>\\( \\frac{11}{15} \\)</td>\n",
       "    </tr>\n",
       "    <tr>\n",
       "      <th>18135</th>\n",
       "      <td>32833</td>\n",
       "      <td>\\( 3 \\frac{1}{3} \\)</td>\n",
       "    </tr>\n",
       "    <tr>\n",
       "      <th>33183</th>\n",
       "      <td>91695</td>\n",
       "      <td>\\( 26 \\)</td>\n",
       "    </tr>\n",
       "    <tr>\n",
       "      <th>30937</th>\n",
       "      <td>89443</td>\n",
       "      <td>\\( -3 \\)</td>\n",
       "    </tr>\n",
       "    <tr>\n",
       "      <th>22198</th>\n",
       "      <td>33471</td>\n",
       "      <td>\\( 15 \\)</td>\n",
       "    </tr>\n",
       "    <tr>\n",
       "      <th>26981</th>\n",
       "      <td>33474</td>\n",
       "      <td>\\( \\frac{1}{3} \\times \\frac{2}{3} \\)</td>\n",
       "    </tr>\n",
       "    <tr>\n",
       "      <th>36279</th>\n",
       "      <td>109465</td>\n",
       "      <td>Likely</td>\n",
       "    </tr>\n",
       "    <tr>\n",
       "      <th>28530</th>\n",
       "      <td>76870</td>\n",
       "      <td>\\( 10 \\)</td>\n",
       "    </tr>\n",
       "    <tr>\n",
       "      <th>34997</th>\n",
       "      <td>104665</td>\n",
       "      <td>\\( 48 \\) hours</td>\n",
       "    </tr>\n",
       "  </tbody>\n",
       "</table>\n",
       "</div>"
      ],
      "text/plain": [
       "       QuestionId                             MC_Answer\n",
       "61          31772                     \\( \\frac{1}{3} \\)\n",
       "7430        31774                    \\( \\frac{1}{12} \\)\n",
       "10770       31777                              \\( 72 \\)\n",
       "14266       31778                               \\( 6 \\)\n",
       "14440       32829                              \\( 12 \\)\n",
       "22004       32835                             \\( 6.2 \\)\n",
       "24278       33472                   \\( \\frac{11}{15} \\)\n",
       "18135       32833                   \\( 3 \\frac{1}{3} \\)\n",
       "33183       91695                              \\( 26 \\)\n",
       "30937       89443                              \\( -3 \\)\n",
       "22198       33471                              \\( 15 \\)\n",
       "26981       33474  \\( \\frac{1}{3} \\times \\frac{2}{3} \\)\n",
       "36279      109465                                Likely\n",
       "28530       76870                              \\( 10 \\)\n",
       "34997      104665                        \\( 48 \\) hours"
      ]
     },
     "execution_count": 36,
     "metadata": {},
     "output_type": "execute_result"
    }
   ],
   "source": [
    "# Drop duplicateds ID\n",
    "correct = correct.drop_duplicates(['QuestionId']) #drop dprlicate id\n",
    "correct = correct[['QuestionId','MC_Answer']]\n",
    "correct"
   ]
  },
  {
   "cell_type": "code",
   "execution_count": 37,
   "id": "9a993a72",
   "metadata": {
    "execution": {
     "iopub.execute_input": "2025-09-30T15:40:39.111553Z",
     "iopub.status.busy": "2025-09-30T15:40:39.111334Z",
     "iopub.status.idle": "2025-09-30T15:40:39.118684Z",
     "shell.execute_reply": "2025-09-30T15:40:39.117963Z"
    },
    "papermill": {
     "duration": 0.031735,
     "end_time": "2025-09-30T15:40:39.119752",
     "exception": false,
     "start_time": "2025-09-30T15:40:39.088017",
     "status": "completed"
    },
    "tags": []
   },
   "outputs": [
    {
     "data": {
      "text/html": [
       "<div>\n",
       "<style scoped>\n",
       "    .dataframe tbody tr th:only-of-type {\n",
       "        vertical-align: middle;\n",
       "    }\n",
       "\n",
       "    .dataframe tbody tr th {\n",
       "        vertical-align: top;\n",
       "    }\n",
       "\n",
       "    .dataframe thead th {\n",
       "        text-align: right;\n",
       "    }\n",
       "</style>\n",
       "<table border=\"1\" class=\"dataframe\">\n",
       "  <thead>\n",
       "    <tr style=\"text-align: right;\">\n",
       "      <th></th>\n",
       "      <th>QuestionId</th>\n",
       "      <th>MC_Answer</th>\n",
       "      <th>is_correct</th>\n",
       "    </tr>\n",
       "  </thead>\n",
       "  <tbody>\n",
       "    <tr>\n",
       "      <th>61</th>\n",
       "      <td>31772</td>\n",
       "      <td>\\( \\frac{1}{3} \\)</td>\n",
       "      <td>1</td>\n",
       "    </tr>\n",
       "    <tr>\n",
       "      <th>7430</th>\n",
       "      <td>31774</td>\n",
       "      <td>\\( \\frac{1}{12} \\)</td>\n",
       "      <td>1</td>\n",
       "    </tr>\n",
       "    <tr>\n",
       "      <th>10770</th>\n",
       "      <td>31777</td>\n",
       "      <td>\\( 72 \\)</td>\n",
       "      <td>1</td>\n",
       "    </tr>\n",
       "    <tr>\n",
       "      <th>14266</th>\n",
       "      <td>31778</td>\n",
       "      <td>\\( 6 \\)</td>\n",
       "      <td>1</td>\n",
       "    </tr>\n",
       "    <tr>\n",
       "      <th>14440</th>\n",
       "      <td>32829</td>\n",
       "      <td>\\( 12 \\)</td>\n",
       "      <td>1</td>\n",
       "    </tr>\n",
       "    <tr>\n",
       "      <th>22004</th>\n",
       "      <td>32835</td>\n",
       "      <td>\\( 6.2 \\)</td>\n",
       "      <td>1</td>\n",
       "    </tr>\n",
       "    <tr>\n",
       "      <th>24278</th>\n",
       "      <td>33472</td>\n",
       "      <td>\\( \\frac{11}{15} \\)</td>\n",
       "      <td>1</td>\n",
       "    </tr>\n",
       "    <tr>\n",
       "      <th>18135</th>\n",
       "      <td>32833</td>\n",
       "      <td>\\( 3 \\frac{1}{3} \\)</td>\n",
       "      <td>1</td>\n",
       "    </tr>\n",
       "    <tr>\n",
       "      <th>33183</th>\n",
       "      <td>91695</td>\n",
       "      <td>\\( 26 \\)</td>\n",
       "      <td>1</td>\n",
       "    </tr>\n",
       "    <tr>\n",
       "      <th>30937</th>\n",
       "      <td>89443</td>\n",
       "      <td>\\( -3 \\)</td>\n",
       "      <td>1</td>\n",
       "    </tr>\n",
       "    <tr>\n",
       "      <th>22198</th>\n",
       "      <td>33471</td>\n",
       "      <td>\\( 15 \\)</td>\n",
       "      <td>1</td>\n",
       "    </tr>\n",
       "    <tr>\n",
       "      <th>26981</th>\n",
       "      <td>33474</td>\n",
       "      <td>\\( \\frac{1}{3} \\times \\frac{2}{3} \\)</td>\n",
       "      <td>1</td>\n",
       "    </tr>\n",
       "    <tr>\n",
       "      <th>36279</th>\n",
       "      <td>109465</td>\n",
       "      <td>Likely</td>\n",
       "      <td>1</td>\n",
       "    </tr>\n",
       "    <tr>\n",
       "      <th>28530</th>\n",
       "      <td>76870</td>\n",
       "      <td>\\( 10 \\)</td>\n",
       "      <td>1</td>\n",
       "    </tr>\n",
       "    <tr>\n",
       "      <th>34997</th>\n",
       "      <td>104665</td>\n",
       "      <td>\\( 48 \\) hours</td>\n",
       "      <td>1</td>\n",
       "    </tr>\n",
       "  </tbody>\n",
       "</table>\n",
       "</div>"
      ],
      "text/plain": [
       "       QuestionId                             MC_Answer  is_correct\n",
       "61          31772                     \\( \\frac{1}{3} \\)           1\n",
       "7430        31774                    \\( \\frac{1}{12} \\)           1\n",
       "10770       31777                              \\( 72 \\)           1\n",
       "14266       31778                               \\( 6 \\)           1\n",
       "14440       32829                              \\( 12 \\)           1\n",
       "22004       32835                             \\( 6.2 \\)           1\n",
       "24278       33472                   \\( \\frac{11}{15} \\)           1\n",
       "18135       32833                   \\( 3 \\frac{1}{3} \\)           1\n",
       "33183       91695                              \\( 26 \\)           1\n",
       "30937       89443                              \\( -3 \\)           1\n",
       "22198       33471                              \\( 15 \\)           1\n",
       "26981       33474  \\( \\frac{1}{3} \\times \\frac{2}{3} \\)           1\n",
       "36279      109465                                Likely           1\n",
       "28530       76870                              \\( 10 \\)           1\n",
       "34997      104665                        \\( 48 \\) hours           1"
      ]
     },
     "execution_count": 37,
     "metadata": {},
     "output_type": "execute_result"
    }
   ],
   "source": [
    "# set correct flag = 1\n",
    "correct[\"is_correct\"] = 1\n",
    "correct"
   ]
  },
  {
   "cell_type": "markdown",
   "id": "4395bb77",
   "metadata": {
    "papermill": {
     "duration": 0.023172,
     "end_time": "2025-09-30T15:40:39.167262",
     "exception": false,
     "start_time": "2025-09-30T15:40:39.144090",
     "status": "completed"
    },
    "tags": []
   },
   "source": [
    "### Merge training data"
   ]
  },
  {
   "cell_type": "code",
   "execution_count": 38,
   "id": "21f70b65",
   "metadata": {
    "execution": {
     "iopub.execute_input": "2025-09-30T15:40:39.214214Z",
     "iopub.status.busy": "2025-09-30T15:40:39.213989Z",
     "iopub.status.idle": "2025-09-30T15:40:39.237123Z",
     "shell.execute_reply": "2025-09-30T15:40:39.236589Z"
    },
    "papermill": {
     "duration": 0.04772,
     "end_time": "2025-09-30T15:40:39.238144",
     "exception": false,
     "start_time": "2025-09-30T15:40:39.190424",
     "status": "completed"
    },
    "tags": []
   },
   "outputs": [],
   "source": [
    "\n",
    "trainDF = trainDF.merge(correct, on=['QuestionId','MC_Answer'], how='left')\n",
    "trainDF[\"is_correct\"] = trainDF[\"is_correct\"].fillna(0) # fill miss data to 0"
   ]
  },
  {
   "cell_type": "code",
   "execution_count": 39,
   "id": "409e96f5",
   "metadata": {
    "execution": {
     "iopub.execute_input": "2025-09-30T15:40:39.285733Z",
     "iopub.status.busy": "2025-09-30T15:40:39.285518Z",
     "iopub.status.idle": "2025-09-30T15:40:39.289867Z",
     "shell.execute_reply": "2025-09-30T15:40:39.289061Z"
    },
    "papermill": {
     "duration": 0.029468,
     "end_time": "2025-09-30T15:40:39.291036",
     "exception": false,
     "start_time": "2025-09-30T15:40:39.261568",
     "status": "completed"
    },
    "tags": []
   },
   "outputs": [],
   "source": [
    "trainDF[\"is_correct\"] = trainDF[\"is_correct\"].astype(int) # change is_correct data type to int"
   ]
  },
  {
   "cell_type": "code",
   "execution_count": 40,
   "id": "5a2e9feb",
   "metadata": {
    "execution": {
     "iopub.execute_input": "2025-09-30T15:40:39.338631Z",
     "iopub.status.busy": "2025-09-30T15:40:39.338454Z",
     "iopub.status.idle": "2025-09-30T15:40:39.348373Z",
     "shell.execute_reply": "2025-09-30T15:40:39.347762Z"
    },
    "papermill": {
     "duration": 0.034973,
     "end_time": "2025-09-30T15:40:39.349393",
     "exception": false,
     "start_time": "2025-09-30T15:40:39.314420",
     "status": "completed"
    },
    "tags": []
   },
   "outputs": [
    {
     "data": {
      "text/html": [
       "<div>\n",
       "<style scoped>\n",
       "    .dataframe tbody tr th:only-of-type {\n",
       "        vertical-align: middle;\n",
       "    }\n",
       "\n",
       "    .dataframe tbody tr th {\n",
       "        vertical-align: top;\n",
       "    }\n",
       "\n",
       "    .dataframe thead th {\n",
       "        text-align: right;\n",
       "    }\n",
       "</style>\n",
       "<table border=\"1\" class=\"dataframe\">\n",
       "  <thead>\n",
       "    <tr style=\"text-align: right;\">\n",
       "      <th></th>\n",
       "      <th>row_id</th>\n",
       "      <th>QuestionId</th>\n",
       "      <th>QuestionText</th>\n",
       "      <th>MC_Answer</th>\n",
       "      <th>StudentExplanation</th>\n",
       "      <th>Category</th>\n",
       "      <th>Misconception</th>\n",
       "      <th>target</th>\n",
       "      <th>label</th>\n",
       "      <th>is_correct</th>\n",
       "    </tr>\n",
       "  </thead>\n",
       "  <tbody>\n",
       "    <tr>\n",
       "      <th>0</th>\n",
       "      <td>0</td>\n",
       "      <td>31772</td>\n",
       "      <td>What fraction of the shape is not shaded? Give...</td>\n",
       "      <td>\\( \\frac{1}{3} \\)</td>\n",
       "      <td>0ne third is equal to tree nineth</td>\n",
       "      <td>True_Correct</td>\n",
       "      <td>NA</td>\n",
       "      <td>True_Correct:NA</td>\n",
       "      <td>37</td>\n",
       "      <td>1</td>\n",
       "    </tr>\n",
       "    <tr>\n",
       "      <th>1</th>\n",
       "      <td>1</td>\n",
       "      <td>31772</td>\n",
       "      <td>What fraction of the shape is not shaded? Give...</td>\n",
       "      <td>\\( \\frac{1}{3} \\)</td>\n",
       "      <td>1 / 3 because 6 over 9 is 2 thirds and 1 third...</td>\n",
       "      <td>True_Correct</td>\n",
       "      <td>NA</td>\n",
       "      <td>True_Correct:NA</td>\n",
       "      <td>37</td>\n",
       "      <td>1</td>\n",
       "    </tr>\n",
       "    <tr>\n",
       "      <th>2</th>\n",
       "      <td>2</td>\n",
       "      <td>31772</td>\n",
       "      <td>What fraction of the shape is not shaded? Give...</td>\n",
       "      <td>\\( \\frac{1}{3} \\)</td>\n",
       "      <td>1 3rd is half of 3 6th, so it is simplee to un...</td>\n",
       "      <td>True_Neither</td>\n",
       "      <td>NA</td>\n",
       "      <td>True_Neither:NA</td>\n",
       "      <td>64</td>\n",
       "      <td>1</td>\n",
       "    </tr>\n",
       "    <tr>\n",
       "      <th>3</th>\n",
       "      <td>3</td>\n",
       "      <td>31772</td>\n",
       "      <td>What fraction of the shape is not shaded? Give...</td>\n",
       "      <td>\\( \\frac{1}{3} \\)</td>\n",
       "      <td>1 goes into everything and 3 goes into nine</td>\n",
       "      <td>True_Neither</td>\n",
       "      <td>NA</td>\n",
       "      <td>True_Neither:NA</td>\n",
       "      <td>64</td>\n",
       "      <td>1</td>\n",
       "    </tr>\n",
       "    <tr>\n",
       "      <th>4</th>\n",
       "      <td>4</td>\n",
       "      <td>31772</td>\n",
       "      <td>What fraction of the shape is not shaded? Give...</td>\n",
       "      <td>\\( \\frac{1}{3} \\)</td>\n",
       "      <td>1 out of every 3 isn't coloured</td>\n",
       "      <td>True_Correct</td>\n",
       "      <td>NA</td>\n",
       "      <td>True_Correct:NA</td>\n",
       "      <td>37</td>\n",
       "      <td>1</td>\n",
       "    </tr>\n",
       "    <tr>\n",
       "      <th>...</th>\n",
       "      <td>...</td>\n",
       "      <td>...</td>\n",
       "      <td>...</td>\n",
       "      <td>...</td>\n",
       "      <td>...</td>\n",
       "      <td>...</td>\n",
       "      <td>...</td>\n",
       "      <td>...</td>\n",
       "      <td>...</td>\n",
       "      <td>...</td>\n",
       "    </tr>\n",
       "    <tr>\n",
       "      <th>36691</th>\n",
       "      <td>36691</td>\n",
       "      <td>109465</td>\n",
       "      <td>The probability of an event occurring is \\( 0....</td>\n",
       "      <td>Unlikely</td>\n",
       "      <td>very unlikely.</td>\n",
       "      <td>False_Neither</td>\n",
       "      <td>NA</td>\n",
       "      <td>False_Neither:NA</td>\n",
       "      <td>36</td>\n",
       "      <td>0</td>\n",
       "    </tr>\n",
       "    <tr>\n",
       "      <th>36692</th>\n",
       "      <td>36692</td>\n",
       "      <td>109465</td>\n",
       "      <td>The probability of an event occurring is \\( 0....</td>\n",
       "      <td>Unlikely</td>\n",
       "      <td>yea pretty much unlikely from what it seems.</td>\n",
       "      <td>False_Neither</td>\n",
       "      <td>NA</td>\n",
       "      <td>False_Neither:NA</td>\n",
       "      <td>36</td>\n",
       "      <td>0</td>\n",
       "    </tr>\n",
       "    <tr>\n",
       "      <th>36693</th>\n",
       "      <td>36693</td>\n",
       "      <td>109465</td>\n",
       "      <td>The probability of an event occurring is \\( 0....</td>\n",
       "      <td>Unlikely</td>\n",
       "      <td>yeah pretty unlikelyy from what it seems.</td>\n",
       "      <td>False_Neither</td>\n",
       "      <td>NA</td>\n",
       "      <td>False_Neither:NA</td>\n",
       "      <td>36</td>\n",
       "      <td>0</td>\n",
       "    </tr>\n",
       "    <tr>\n",
       "      <th>36694</th>\n",
       "      <td>36694</td>\n",
       "      <td>109465</td>\n",
       "      <td>The probability of an event occurring is \\( 0....</td>\n",
       "      <td>Unlikely</td>\n",
       "      <td>you have 9 other numbers to get.</td>\n",
       "      <td>False_Neither</td>\n",
       "      <td>NA</td>\n",
       "      <td>False_Neither:NA</td>\n",
       "      <td>36</td>\n",
       "      <td>0</td>\n",
       "    </tr>\n",
       "    <tr>\n",
       "      <th>36695</th>\n",
       "      <td>36695</td>\n",
       "      <td>109465</td>\n",
       "      <td>The probability of an event occurring is \\( 0....</td>\n",
       "      <td>Unlikely</td>\n",
       "      <td>you have a chanve but it is not i think this b...</td>\n",
       "      <td>False_Neither</td>\n",
       "      <td>NA</td>\n",
       "      <td>False_Neither:NA</td>\n",
       "      <td>36</td>\n",
       "      <td>0</td>\n",
       "    </tr>\n",
       "  </tbody>\n",
       "</table>\n",
       "<p>36696 rows × 10 columns</p>\n",
       "</div>"
      ],
      "text/plain": [
       "       row_id  QuestionId                                       QuestionText  \\\n",
       "0           0       31772  What fraction of the shape is not shaded? Give...   \n",
       "1           1       31772  What fraction of the shape is not shaded? Give...   \n",
       "2           2       31772  What fraction of the shape is not shaded? Give...   \n",
       "3           3       31772  What fraction of the shape is not shaded? Give...   \n",
       "4           4       31772  What fraction of the shape is not shaded? Give...   \n",
       "...       ...         ...                                                ...   \n",
       "36691   36691      109465  The probability of an event occurring is \\( 0....   \n",
       "36692   36692      109465  The probability of an event occurring is \\( 0....   \n",
       "36693   36693      109465  The probability of an event occurring is \\( 0....   \n",
       "36694   36694      109465  The probability of an event occurring is \\( 0....   \n",
       "36695   36695      109465  The probability of an event occurring is \\( 0....   \n",
       "\n",
       "               MC_Answer                                 StudentExplanation  \\\n",
       "0      \\( \\frac{1}{3} \\)                  0ne third is equal to tree nineth   \n",
       "1      \\( \\frac{1}{3} \\)  1 / 3 because 6 over 9 is 2 thirds and 1 third...   \n",
       "2      \\( \\frac{1}{3} \\)  1 3rd is half of 3 6th, so it is simplee to un...   \n",
       "3      \\( \\frac{1}{3} \\)        1 goes into everything and 3 goes into nine   \n",
       "4      \\( \\frac{1}{3} \\)                    1 out of every 3 isn't coloured   \n",
       "...                  ...                                                ...   \n",
       "36691           Unlikely                                     very unlikely.   \n",
       "36692           Unlikely       yea pretty much unlikely from what it seems.   \n",
       "36693           Unlikely          yeah pretty unlikelyy from what it seems.   \n",
       "36694           Unlikely                   you have 9 other numbers to get.   \n",
       "36695           Unlikely  you have a chanve but it is not i think this b...   \n",
       "\n",
       "            Category Misconception            target  label  is_correct  \n",
       "0       True_Correct            NA   True_Correct:NA     37           1  \n",
       "1       True_Correct            NA   True_Correct:NA     37           1  \n",
       "2       True_Neither            NA   True_Neither:NA     64           1  \n",
       "3       True_Neither            NA   True_Neither:NA     64           1  \n",
       "4       True_Correct            NA   True_Correct:NA     37           1  \n",
       "...              ...           ...               ...    ...         ...  \n",
       "36691  False_Neither            NA  False_Neither:NA     36           0  \n",
       "36692  False_Neither            NA  False_Neither:NA     36           0  \n",
       "36693  False_Neither            NA  False_Neither:NA     36           0  \n",
       "36694  False_Neither            NA  False_Neither:NA     36           0  \n",
       "36695  False_Neither            NA  False_Neither:NA     36           0  \n",
       "\n",
       "[36696 rows x 10 columns]"
      ]
     },
     "execution_count": 40,
     "metadata": {},
     "output_type": "execute_result"
    }
   ],
   "source": [
    "trainDF"
   ]
  },
  {
   "cell_type": "code",
   "execution_count": 41,
   "id": "c5a3f663",
   "metadata": {
    "execution": {
     "iopub.execute_input": "2025-09-30T15:40:39.397169Z",
     "iopub.status.busy": "2025-09-30T15:40:39.396829Z",
     "iopub.status.idle": "2025-09-30T15:40:39.673672Z",
     "shell.execute_reply": "2025-09-30T15:40:39.672792Z"
    },
    "papermill": {
     "duration": 0.302551,
     "end_time": "2025-09-30T15:40:39.675339",
     "exception": false,
     "start_time": "2025-09-30T15:40:39.372788",
     "status": "completed"
    },
    "tags": []
   },
   "outputs": [
    {
     "data": {
      "image/png": "[encoded data removed]",
      "text/plain": [
       "<Figure size 640x480 with 1 Axes>"
      ]
     },
     "metadata": {},
     "output_type": "display_data"
    }
   ],
   "source": [
    "trainDF[\"is_correct\"].value_counts().plot(kind=\"bar\", title=\"Correct vs Incorrect\");"
   ]
  },
  {
   "cell_type": "markdown",
   "id": "d710faaa",
   "metadata": {
    "papermill": {
     "duration": 0.032122,
     "end_time": "2025-09-30T15:40:39.746406",
     "exception": false,
     "start_time": "2025-09-30T15:40:39.714284",
     "status": "completed"
    },
    "tags": []
   },
   "source": [
    "## Seem the training Data extremely imbalance"
   ]
  },
  {
   "cell_type": "code",
   "execution_count": 42,
   "id": "7c5a3658",
   "metadata": {
    "execution": {
     "iopub.execute_input": "2025-09-30T15:40:39.796118Z",
     "iopub.status.busy": "2025-09-30T15:40:39.795497Z",
     "iopub.status.idle": "2025-09-30T15:40:40.242758Z",
     "shell.execute_reply": "2025-09-30T15:40:40.241905Z"
    },
    "papermill": {
     "duration": 0.47386,
     "end_time": "2025-09-30T15:40:40.244072",
     "exception": false,
     "start_time": "2025-09-30T15:40:39.770212",
     "status": "completed"
    },
    "tags": []
   },
   "outputs": [
    {
     "data": {
      "image/png": "[encoded data removed]",
      "text/plain": [
       "<Figure size 640x480 with 1 Axes>"
      ]
     },
     "metadata": {},
     "output_type": "display_data"
    }
   ],
   "source": [
    "trainDF[\"label\"].value_counts().plot(kind=\"bar\", title=\"Distribution Label\");"
   ]
  },
  {
   "cell_type": "code",
   "execution_count": 43,
   "id": "7cd7d1dc",
   "metadata": {
    "execution": {
     "iopub.execute_input": "2025-09-30T15:40:40.295061Z",
     "iopub.status.busy": "2025-09-30T15:40:40.294809Z",
     "iopub.status.idle": "2025-09-30T15:40:40.302799Z",
     "shell.execute_reply": "2025-09-30T15:40:40.302024Z"
    },
    "papermill": {
     "duration": 0.034615,
     "end_time": "2025-09-30T15:40:40.304062",
     "exception": false,
     "start_time": "2025-09-30T15:40:40.269447",
     "status": "completed"
    },
    "tags": []
   },
   "outputs": [
    {
     "data": {
      "text/plain": [
       "count       65.000000\n",
       "mean       564.553846\n",
       "std       2071.725263\n",
       "min          1.000000\n",
       "25%          6.000000\n",
       "50%         50.000000\n",
       "75%        291.000000\n",
       "max      14802.000000\n",
       "Name: count, dtype: float64"
      ]
     },
     "execution_count": 43,
     "metadata": {},
     "output_type": "execute_result"
    }
   ],
   "source": [
    "trainDF[\"label\"].value_counts().describe()"
   ]
  },
  {
   "cell_type": "code",
   "execution_count": 44,
   "id": "a4f24474",
   "metadata": {
    "execution": {
     "iopub.execute_input": "2025-09-30T15:40:40.354188Z",
     "iopub.status.busy": "2025-09-30T15:40:40.354002Z",
     "iopub.status.idle": "2025-09-30T15:40:40.359356Z",
     "shell.execute_reply": "2025-09-30T15:40:40.358796Z"
    },
    "papermill": {
     "duration": 0.03098,
     "end_time": "2025-09-30T15:40:40.360414",
     "exception": false,
     "start_time": "2025-09-30T15:40:40.329434",
     "status": "completed"
    },
    "tags": []
   },
   "outputs": [
    {
     "data": {
      "text/plain": [
       "label\n",
       "37    14802\n",
       "36     6542\n",
       "64     5265\n",
       "13     1446\n",
       "3       891\n",
       "9       698\n",
       "26      618\n",
       "23      564\n",
       "35      550\n",
       "34      412\n",
       "17      409\n",
       "18      409\n",
       "20      345\n",
       "7       332\n",
       "31      328\n",
       "1       306\n",
       "30      291\n",
       "29      282\n",
       "32      273\n",
       "0       227\n",
       "27      198\n",
       "24      179\n",
       "59      162\n",
       "22      153\n",
       "28      128\n",
       "2        97\n",
       "10       96\n",
       "21       93\n",
       "50       88\n",
       "11       74\n",
       "8        58\n",
       "6        51\n",
       "15       50\n",
       "39       38\n",
       "19       23\n",
       "12       23\n",
       "4        22\n",
       "16       21\n",
       "5        18\n",
       "56       17\n",
       "45       11\n",
       "58        8\n",
       "47        8\n",
       "63        8\n",
       "52        8\n",
       "60        8\n",
       "14        7\n",
       "33        6\n",
       "44        6\n",
       "62        6\n",
       "Name: count, dtype: int64"
      ]
     },
     "execution_count": 44,
     "metadata": {},
     "output_type": "execute_result"
    }
   ],
   "source": [
    "trainDF[\"label\"].value_counts()[:50]  # top 50"
   ]
  },
  {
   "cell_type": "markdown",
   "id": "b825991c",
   "metadata": {
    "papermill": {
     "duration": 0.025123,
     "end_time": "2025-09-30T15:40:40.410033",
     "exception": false,
     "start_time": "2025-09-30T15:40:40.384910",
     "status": "completed"
    },
    "tags": []
   },
   "source": [
    "## Merge into Test /Submit Data"
   ]
  },
  {
   "cell_type": "code",
   "execution_count": 45,
   "id": "ef875958",
   "metadata": {
    "execution": {
     "iopub.execute_input": "2025-09-30T15:40:40.459558Z",
     "iopub.status.busy": "2025-09-30T15:40:40.459383Z",
     "iopub.status.idle": "2025-09-30T15:40:40.465401Z",
     "shell.execute_reply": "2025-09-30T15:40:40.464712Z"
    },
    "papermill": {
     "duration": 0.031919,
     "end_time": "2025-09-30T15:40:40.466509",
     "exception": false,
     "start_time": "2025-09-30T15:40:40.434590",
     "status": "completed"
    },
    "tags": []
   },
   "outputs": [],
   "source": [
    "testDF = testDF.merge(correct, on=['QuestionId','MC_Answer'], how='left')\n",
    "testDF[\"is_correct\"] = testDF[\"is_correct\"].fillna(0)  # fill Na to 0\n"
   ]
  },
  {
   "cell_type": "code",
   "execution_count": 46,
   "id": "dcc427f2",
   "metadata": {
    "execution": {
     "iopub.execute_input": "2025-09-30T15:40:40.516363Z",
     "iopub.status.busy": "2025-09-30T15:40:40.516167Z",
     "iopub.status.idle": "2025-09-30T15:40:40.523625Z",
     "shell.execute_reply": "2025-09-30T15:40:40.522962Z"
    },
    "papermill": {
     "duration": 0.033598,
     "end_time": "2025-09-30T15:40:40.524638",
     "exception": false,
     "start_time": "2025-09-30T15:40:40.491040",
     "status": "completed"
    },
    "tags": []
   },
   "outputs": [
    {
     "data": {
      "text/html": [
       "<div>\n",
       "<style scoped>\n",
       "    .dataframe tbody tr th:only-of-type {\n",
       "        vertical-align: middle;\n",
       "    }\n",
       "\n",
       "    .dataframe tbody tr th {\n",
       "        vertical-align: top;\n",
       "    }\n",
       "\n",
       "    .dataframe thead th {\n",
       "        text-align: right;\n",
       "    }\n",
       "</style>\n",
       "<table border=\"1\" class=\"dataframe\">\n",
       "  <thead>\n",
       "    <tr style=\"text-align: right;\">\n",
       "      <th></th>\n",
       "      <th>row_id</th>\n",
       "      <th>QuestionId</th>\n",
       "      <th>QuestionText</th>\n",
       "      <th>MC_Answer</th>\n",
       "      <th>StudentExplanation</th>\n",
       "      <th>is_correct</th>\n",
       "    </tr>\n",
       "  </thead>\n",
       "  <tbody>\n",
       "    <tr>\n",
       "      <th>0</th>\n",
       "      <td>36696</td>\n",
       "      <td>31772</td>\n",
       "      <td>What fraction of the shape is not shaded? Give...</td>\n",
       "      <td>\\( \\frac{1}{3} \\)</td>\n",
       "      <td>I think that 1/3 is the answer, as it's the si...</td>\n",
       "      <td>1</td>\n",
       "    </tr>\n",
       "    <tr>\n",
       "      <th>1</th>\n",
       "      <td>36697</td>\n",
       "      <td>31772</td>\n",
       "      <td>What fraction of the shape is not shaded? Give...</td>\n",
       "      <td>\\( \\frac{3}{6} \\)</td>\n",
       "      <td>i think this answer is because 3 triangles are...</td>\n",
       "      <td>0</td>\n",
       "    </tr>\n",
       "    <tr>\n",
       "      <th>2</th>\n",
       "      <td>36698</td>\n",
       "      <td>32835</td>\n",
       "      <td>Which number is the greatest?</td>\n",
       "      <td>\\( 6.2 \\)</td>\n",
       "      <td>because the 2 makes it higher than the others.</td>\n",
       "      <td>1</td>\n",
       "    </tr>\n",
       "  </tbody>\n",
       "</table>\n",
       "</div>"
      ],
      "text/plain": [
       "   row_id  QuestionId                                       QuestionText  \\\n",
       "0   36696       31772  What fraction of the shape is not shaded? Give...   \n",
       "1   36697       31772  What fraction of the shape is not shaded? Give...   \n",
       "2   36698       32835                      Which number is the greatest?   \n",
       "\n",
       "           MC_Answer                                 StudentExplanation  \\\n",
       "0  \\( \\frac{1}{3} \\)  I think that 1/3 is the answer, as it's the si...   \n",
       "1  \\( \\frac{3}{6} \\)  i think this answer is because 3 triangles are...   \n",
       "2          \\( 6.2 \\)     because the 2 makes it higher than the others.   \n",
       "\n",
       "   is_correct  \n",
       "0           1  \n",
       "1           0  \n",
       "2           1  "
      ]
     },
     "execution_count": 46,
     "metadata": {},
     "output_type": "execute_result"
    }
   ],
   "source": [
    "testDF[\"is_correct\"] = testDF[\"is_correct\"].astype(int)\n",
    "testDF"
   ]
  },
  {
   "cell_type": "markdown",
   "id": "93975080",
   "metadata": {
    "papermill": {
     "duration": 0.02473,
     "end_time": "2025-09-30T15:40:40.574333",
     "exception": false,
     "start_time": "2025-09-30T15:40:40.549603",
     "status": "completed"
    },
    "tags": []
   },
   "source": [
    "## Get Answer choices "
   ]
  },
  {
   "cell_type": "code",
   "execution_count": 47,
   "id": "95ed0cb7",
   "metadata": {
    "execution": {
     "iopub.execute_input": "2025-09-30T15:40:40.623998Z",
     "iopub.status.busy": "2025-09-30T15:40:40.623770Z",
     "iopub.status.idle": "2025-09-30T15:40:40.627097Z",
     "shell.execute_reply": "2025-09-30T15:40:40.626433Z"
    },
    "papermill": {
     "duration": 0.029303,
     "end_time": "2025-09-30T15:40:40.628218",
     "exception": false,
     "start_time": "2025-09-30T15:40:40.598915",
     "status": "completed"
    },
    "tags": []
   },
   "outputs": [],
   "source": [
    "from IPython.display import display, Math, Latex"
   ]
  },
  {
   "cell_type": "code",
   "execution_count": 48,
   "id": "feffc1da",
   "metadata": {
    "execution": {
     "iopub.execute_input": "2025-09-30T15:40:40.678441Z",
     "iopub.status.busy": "2025-09-30T15:40:40.677882Z",
     "iopub.status.idle": "2025-09-30T15:40:40.691354Z",
     "shell.execute_reply": "2025-09-30T15:40:40.690599Z"
    },
    "papermill": {
     "duration": 0.039375,
     "end_time": "2025-09-30T15:40:40.692416",
     "exception": false,
     "start_time": "2025-09-30T15:40:40.653041",
     "status": "completed"
    },
    "scrolled": true,
    "tags": []
   },
   "outputs": [
    {
     "data": {
      "text/html": [
       "<div>\n",
       "<style scoped>\n",
       "    .dataframe tbody tr th:only-of-type {\n",
       "        vertical-align: middle;\n",
       "    }\n",
       "\n",
       "    .dataframe tbody tr th {\n",
       "        vertical-align: top;\n",
       "    }\n",
       "\n",
       "    .dataframe thead th {\n",
       "        text-align: right;\n",
       "    }\n",
       "</style>\n",
       "<table border=\"1\" class=\"dataframe\">\n",
       "  <thead>\n",
       "    <tr style=\"text-align: right;\">\n",
       "      <th></th>\n",
       "      <th>QuestionId</th>\n",
       "      <th>MC_Answer</th>\n",
       "      <th>count</th>\n",
       "    </tr>\n",
       "  </thead>\n",
       "  <tbody>\n",
       "    <tr>\n",
       "      <th>0</th>\n",
       "      <td>31772</td>\n",
       "      <td>\\( \\frac{1}{3} \\)</td>\n",
       "      <td>2348</td>\n",
       "    </tr>\n",
       "    <tr>\n",
       "      <th>1</th>\n",
       "      <td>31772</td>\n",
       "      <td>\\( \\frac{3}{6} \\)</td>\n",
       "      <td>412</td>\n",
       "    </tr>\n",
       "    <tr>\n",
       "      <th>2</th>\n",
       "      <td>31772</td>\n",
       "      <td>\\( \\frac{3}{8} \\)</td>\n",
       "      <td>118</td>\n",
       "    </tr>\n",
       "    <tr>\n",
       "      <th>3</th>\n",
       "      <td>31772</td>\n",
       "      <td>\\( \\frac{3}{9} \\)</td>\n",
       "      <td>1979</td>\n",
       "    </tr>\n",
       "    <tr>\n",
       "      <th>4</th>\n",
       "      <td>31774</td>\n",
       "      <td>\\( 3 \\)</td>\n",
       "      <td>659</td>\n",
       "    </tr>\n",
       "    <tr>\n",
       "      <th>5</th>\n",
       "      <td>31774</td>\n",
       "      <td>\\( \\frac{1}{12} \\)</td>\n",
       "      <td>1918</td>\n",
       "    </tr>\n",
       "    <tr>\n",
       "      <th>6</th>\n",
       "      <td>31774</td>\n",
       "      <td>\\( \\frac{1}{3} \\)</td>\n",
       "      <td>251</td>\n",
       "    </tr>\n",
       "    <tr>\n",
       "      <th>7</th>\n",
       "      <td>31774</td>\n",
       "      <td>\\( \\frac{6}{2} \\)</td>\n",
       "      <td>287</td>\n",
       "    </tr>\n",
       "    <tr>\n",
       "      <th>8</th>\n",
       "      <td>31777</td>\n",
       "      <td>\\( 24 \\)</td>\n",
       "      <td>255</td>\n",
       "    </tr>\n",
       "    <tr>\n",
       "      <th>9</th>\n",
       "      <td>31777</td>\n",
       "      <td>\\( 48 \\)</td>\n",
       "      <td>406</td>\n",
       "    </tr>\n",
       "    <tr>\n",
       "      <th>10</th>\n",
       "      <td>31777</td>\n",
       "      <td>\\( 60 \\)</td>\n",
       "      <td>350</td>\n",
       "    </tr>\n",
       "    <tr>\n",
       "      <th>11</th>\n",
       "      <td>31777</td>\n",
       "      <td>\\( 72 \\)</td>\n",
       "      <td>1798</td>\n",
       "    </tr>\n",
       "    <tr>\n",
       "      <th>12</th>\n",
       "      <td>31778</td>\n",
       "      <td>\\( 3 \\)</td>\n",
       "      <td>627</td>\n",
       "    </tr>\n",
       "    <tr>\n",
       "      <th>13</th>\n",
       "      <td>31778</td>\n",
       "      <td>\\( 4 \\)</td>\n",
       "      <td>1108</td>\n",
       "    </tr>\n",
       "    <tr>\n",
       "      <th>14</th>\n",
       "      <td>31778</td>\n",
       "      <td>\\( 6 \\)</td>\n",
       "      <td>1755</td>\n",
       "    </tr>\n",
       "    <tr>\n",
       "      <th>15</th>\n",
       "      <td>31778</td>\n",
       "      <td>\\( 9 \\)</td>\n",
       "      <td>150</td>\n",
       "    </tr>\n",
       "    <tr>\n",
       "      <th>16</th>\n",
       "      <td>32829</td>\n",
       "      <td>\\( 12 \\)</td>\n",
       "      <td>1716</td>\n",
       "    </tr>\n",
       "    <tr>\n",
       "      <th>17</th>\n",
       "      <td>32829</td>\n",
       "      <td>\\( 22 \\)</td>\n",
       "      <td>148</td>\n",
       "    </tr>\n",
       "    <tr>\n",
       "      <th>18</th>\n",
       "      <td>32829</td>\n",
       "      <td>\\( 4 \\)</td>\n",
       "      <td>248</td>\n",
       "    </tr>\n",
       "    <tr>\n",
       "      <th>19</th>\n",
       "      <td>32829</td>\n",
       "      <td>\\( 48 \\)</td>\n",
       "      <td>44</td>\n",
       "    </tr>\n",
       "    <tr>\n",
       "      <th>20</th>\n",
       "      <td>32833</td>\n",
       "      <td>\\( 3 \\frac{1}{3} \\)</td>\n",
       "      <td>1601</td>\n",
       "    </tr>\n",
       "    <tr>\n",
       "      <th>21</th>\n",
       "      <td>32833</td>\n",
       "      <td>\\( 5 \\frac{2}{3} \\)</td>\n",
       "      <td>78</td>\n",
       "    </tr>\n",
       "    <tr>\n",
       "      <th>22</th>\n",
       "      <td>32833</td>\n",
       "      <td>\\( \\frac{10}{15} \\)</td>\n",
       "      <td>906</td>\n",
       "    </tr>\n",
       "    <tr>\n",
       "      <th>23</th>\n",
       "      <td>32833</td>\n",
       "      <td>\\( \\frac{2}{15} \\)</td>\n",
       "      <td>520</td>\n",
       "    </tr>\n",
       "    <tr>\n",
       "      <th>24</th>\n",
       "      <td>32835</td>\n",
       "      <td>\\( 6 \\)</td>\n",
       "      <td>478</td>\n",
       "    </tr>\n",
       "    <tr>\n",
       "      <th>25</th>\n",
       "      <td>32835</td>\n",
       "      <td>\\( 6.0001 \\)</td>\n",
       "      <td>64</td>\n",
       "    </tr>\n",
       "    <tr>\n",
       "      <th>26</th>\n",
       "      <td>32835</td>\n",
       "      <td>\\( 6.079 \\)</td>\n",
       "      <td>116</td>\n",
       "    </tr>\n",
       "    <tr>\n",
       "      <th>27</th>\n",
       "      <td>32835</td>\n",
       "      <td>\\( 6.2 \\)</td>\n",
       "      <td>1674</td>\n",
       "    </tr>\n",
       "    <tr>\n",
       "      <th>28</th>\n",
       "      <td>33471</td>\n",
       "      <td>\\( 15 \\)</td>\n",
       "      <td>874</td>\n",
       "    </tr>\n",
       "    <tr>\n",
       "      <th>29</th>\n",
       "      <td>33471</td>\n",
       "      <td>\\( 3 \\)</td>\n",
       "      <td>40</td>\n",
       "    </tr>\n",
       "    <tr>\n",
       "      <th>30</th>\n",
       "      <td>33471</td>\n",
       "      <td>\\( 8 \\)</td>\n",
       "      <td>56</td>\n",
       "    </tr>\n",
       "    <tr>\n",
       "      <th>31</th>\n",
       "      <td>33471</td>\n",
       "      <td>\\( 9 \\)</td>\n",
       "      <td>572</td>\n",
       "    </tr>\n",
       "    <tr>\n",
       "      <th>32</th>\n",
       "      <td>33472</td>\n",
       "      <td>\\( \\frac{11}{15} \\)</td>\n",
       "      <td>1651</td>\n",
       "    </tr>\n",
       "    <tr>\n",
       "      <th>33</th>\n",
       "      <td>33472</td>\n",
       "      <td>\\( \\frac{11}{30} \\)</td>\n",
       "      <td>116</td>\n",
       "    </tr>\n",
       "    <tr>\n",
       "      <th>34</th>\n",
       "      <td>33472</td>\n",
       "      <td>\\( \\frac{3}{15} \\)</td>\n",
       "      <td>565</td>\n",
       "    </tr>\n",
       "    <tr>\n",
       "      <th>35</th>\n",
       "      <td>33472</td>\n",
       "      <td>\\( \\frac{3}{8} \\)</td>\n",
       "      <td>468</td>\n",
       "    </tr>\n",
       "    <tr>\n",
       "      <th>36</th>\n",
       "      <td>33474</td>\n",
       "      <td>\\( \\frac{1}{3} \\times \\frac{2}{3} \\)</td>\n",
       "      <td>630</td>\n",
       "    </tr>\n",
       "    <tr>\n",
       "      <th>37</th>\n",
       "      <td>33474</td>\n",
       "      <td>\\( \\frac{1}{3}+\\frac{2}{3} \\)</td>\n",
       "      <td>49</td>\n",
       "    </tr>\n",
       "    <tr>\n",
       "      <th>38</th>\n",
       "      <td>33474</td>\n",
       "      <td>\\( \\frac{2}{3} \\div \\frac{1}{3} \\)</td>\n",
       "      <td>147</td>\n",
       "    </tr>\n",
       "    <tr>\n",
       "      <th>39</th>\n",
       "      <td>33474</td>\n",
       "      <td>\\( \\frac{2}{3}-\\frac{1}{3} \\)</td>\n",
       "      <td>940</td>\n",
       "    </tr>\n",
       "    <tr>\n",
       "      <th>40</th>\n",
       "      <td>76870</td>\n",
       "      <td>Not enough information</td>\n",
       "      <td>403</td>\n",
       "    </tr>\n",
       "    <tr>\n",
       "      <th>41</th>\n",
       "      <td>76870</td>\n",
       "      <td>\\( 10 \\)</td>\n",
       "      <td>508</td>\n",
       "    </tr>\n",
       "    <tr>\n",
       "      <th>42</th>\n",
       "      <td>76870</td>\n",
       "      <td>\\( 5 \\)</td>\n",
       "      <td>140</td>\n",
       "    </tr>\n",
       "    <tr>\n",
       "      <th>43</th>\n",
       "      <td>76870</td>\n",
       "      <td>\\( 6 \\)</td>\n",
       "      <td>135</td>\n",
       "    </tr>\n",
       "    <tr>\n",
       "      <th>44</th>\n",
       "      <td>89443</td>\n",
       "      <td>\\( -13 \\)</td>\n",
       "      <td>798</td>\n",
       "    </tr>\n",
       "    <tr>\n",
       "      <th>45</th>\n",
       "      <td>89443</td>\n",
       "      <td>\\( -3 \\)</td>\n",
       "      <td>1394</td>\n",
       "    </tr>\n",
       "    <tr>\n",
       "      <th>46</th>\n",
       "      <td>89443</td>\n",
       "      <td>\\( 13 \\)</td>\n",
       "      <td>396</td>\n",
       "    </tr>\n",
       "    <tr>\n",
       "      <th>47</th>\n",
       "      <td>89443</td>\n",
       "      <td>\\( 3 \\)</td>\n",
       "      <td>466</td>\n",
       "    </tr>\n",
       "    <tr>\n",
       "      <th>48</th>\n",
       "      <td>91695</td>\n",
       "      <td>\\( 20 \\)</td>\n",
       "      <td>102</td>\n",
       "    </tr>\n",
       "    <tr>\n",
       "      <th>49</th>\n",
       "      <td>91695</td>\n",
       "      <td>\\( 22 \\)</td>\n",
       "      <td>718</td>\n",
       "    </tr>\n",
       "    <tr>\n",
       "      <th>50</th>\n",
       "      <td>91695</td>\n",
       "      <td>\\( 26 \\)</td>\n",
       "      <td>1547</td>\n",
       "    </tr>\n",
       "    <tr>\n",
       "      <th>51</th>\n",
       "      <td>91695</td>\n",
       "      <td>\\( 36 \\)</td>\n",
       "      <td>243</td>\n",
       "    </tr>\n",
       "    <tr>\n",
       "      <th>52</th>\n",
       "      <td>104665</td>\n",
       "      <td>\\( 192 \\) hours</td>\n",
       "      <td>9</td>\n",
       "    </tr>\n",
       "    <tr>\n",
       "      <th>53</th>\n",
       "      <td>104665</td>\n",
       "      <td>\\( 48 \\) hours</td>\n",
       "      <td>497</td>\n",
       "    </tr>\n",
       "    <tr>\n",
       "      <th>54</th>\n",
       "      <td>104665</td>\n",
       "      <td>\\( 64 \\) hours</td>\n",
       "      <td>62</td>\n",
       "    </tr>\n",
       "    <tr>\n",
       "      <th>55</th>\n",
       "      <td>104665</td>\n",
       "      <td>\\( 768 \\) hours</td>\n",
       "      <td>105</td>\n",
       "    </tr>\n",
       "    <tr>\n",
       "      <th>56</th>\n",
       "      <td>109465</td>\n",
       "      <td>Certain</td>\n",
       "      <td>64</td>\n",
       "    </tr>\n",
       "    <tr>\n",
       "      <th>57</th>\n",
       "      <td>109465</td>\n",
       "      <td>Impossible</td>\n",
       "      <td>18</td>\n",
       "    </tr>\n",
       "    <tr>\n",
       "      <th>58</th>\n",
       "      <td>109465</td>\n",
       "      <td>Likely</td>\n",
       "      <td>553</td>\n",
       "    </tr>\n",
       "    <tr>\n",
       "      <th>59</th>\n",
       "      <td>109465</td>\n",
       "      <td>Unlikely</td>\n",
       "      <td>416</td>\n",
       "    </tr>\n",
       "  </tbody>\n",
       "</table>\n",
       "</div>"
      ],
      "text/plain": [
       "    QuestionId                             MC_Answer  count\n",
       "0        31772                     \\( \\frac{1}{3} \\)   2348\n",
       "1        31772                     \\( \\frac{3}{6} \\)    412\n",
       "2        31772                     \\( \\frac{3}{8} \\)    118\n",
       "3        31772                     \\( \\frac{3}{9} \\)   1979\n",
       "4        31774                               \\( 3 \\)    659\n",
       "5        31774                    \\( \\frac{1}{12} \\)   1918\n",
       "6        31774                     \\( \\frac{1}{3} \\)    251\n",
       "7        31774                     \\( \\frac{6}{2} \\)    287\n",
       "8        31777                              \\( 24 \\)    255\n",
       "9        31777                              \\( 48 \\)    406\n",
       "10       31777                              \\( 60 \\)    350\n",
       "11       31777                              \\( 72 \\)   1798\n",
       "12       31778                               \\( 3 \\)    627\n",
       "13       31778                               \\( 4 \\)   1108\n",
       "14       31778                               \\( 6 \\)   1755\n",
       "15       31778                               \\( 9 \\)    150\n",
       "16       32829                              \\( 12 \\)   1716\n",
       "17       32829                              \\( 22 \\)    148\n",
       "18       32829                               \\( 4 \\)    248\n",
       "19       32829                              \\( 48 \\)     44\n",
       "20       32833                   \\( 3 \\frac{1}{3} \\)   1601\n",
       "21       32833                   \\( 5 \\frac{2}{3} \\)     78\n",
       "22       32833                   \\( \\frac{10}{15} \\)    906\n",
       "23       32833                    \\( \\frac{2}{15} \\)    520\n",
       "24       32835                               \\( 6 \\)    478\n",
       "25       32835                          \\( 6.0001 \\)     64\n",
       "26       32835                           \\( 6.079 \\)    116\n",
       "27       32835                             \\( 6.2 \\)   1674\n",
       "28       33471                              \\( 15 \\)    874\n",
       "29       33471                               \\( 3 \\)     40\n",
       "30       33471                               \\( 8 \\)     56\n",
       "31       33471                               \\( 9 \\)    572\n",
       "32       33472                   \\( \\frac{11}{15} \\)   1651\n",
       "33       33472                   \\( \\frac{11}{30} \\)    116\n",
       "34       33472                    \\( \\frac{3}{15} \\)    565\n",
       "35       33472                     \\( \\frac{3}{8} \\)    468\n",
       "36       33474  \\( \\frac{1}{3} \\times \\frac{2}{3} \\)    630\n",
       "37       33474         \\( \\frac{1}{3}+\\frac{2}{3} \\)     49\n",
       "38       33474    \\( \\frac{2}{3} \\div \\frac{1}{3} \\)    147\n",
       "39       33474         \\( \\frac{2}{3}-\\frac{1}{3} \\)    940\n",
       "40       76870                Not enough information    403\n",
       "41       76870                              \\( 10 \\)    508\n",
       "42       76870                               \\( 5 \\)    140\n",
       "43       76870                               \\( 6 \\)    135\n",
       "44       89443                             \\( -13 \\)    798\n",
       "45       89443                              \\( -3 \\)   1394\n",
       "46       89443                              \\( 13 \\)    396\n",
       "47       89443                               \\( 3 \\)    466\n",
       "48       91695                              \\( 20 \\)    102\n",
       "49       91695                              \\( 22 \\)    718\n",
       "50       91695                              \\( 26 \\)   1547\n",
       "51       91695                              \\( 36 \\)    243\n",
       "52      104665                       \\( 192 \\) hours      9\n",
       "53      104665                        \\( 48 \\) hours    497\n",
       "54      104665                        \\( 64 \\) hours     62\n",
       "55      104665                       \\( 768 \\) hours    105\n",
       "56      109465                               Certain     64\n",
       "57      109465                            Impossible     18\n",
       "58      109465                                Likely    553\n",
       "59      109465                              Unlikely    416"
      ]
     },
     "execution_count": 48,
     "metadata": {},
     "output_type": "execute_result"
    }
   ],
   "source": [
    "temp = trainDF.groupby([\"QuestionId\", \"MC_Answer\"]).size().reset_index(name=\"count\")\n",
    "temp"
   ]
  },
  {
   "cell_type": "code",
   "execution_count": 49,
   "id": "40c128d6",
   "metadata": {
    "execution": {
     "iopub.execute_input": "2025-09-30T15:40:40.746130Z",
     "iopub.status.busy": "2025-09-30T15:40:40.745415Z",
     "iopub.status.idle": "2025-09-30T15:40:40.757645Z",
     "shell.execute_reply": "2025-09-30T15:40:40.757134Z"
    },
    "papermill": {
     "duration": 0.039796,
     "end_time": "2025-09-30T15:40:40.758806",
     "exception": false,
     "start_time": "2025-09-30T15:40:40.719010",
     "status": "completed"
    },
    "scrolled": true,
    "tags": []
   },
   "outputs": [
    {
     "data": {
      "text/html": [
       "<div>\n",
       "<style scoped>\n",
       "    .dataframe tbody tr th:only-of-type {\n",
       "        vertical-align: middle;\n",
       "    }\n",
       "\n",
       "    .dataframe tbody tr th {\n",
       "        vertical-align: top;\n",
       "    }\n",
       "\n",
       "    .dataframe thead th {\n",
       "        text-align: right;\n",
       "    }\n",
       "</style>\n",
       "<table border=\"1\" class=\"dataframe\">\n",
       "  <thead>\n",
       "    <tr style=\"text-align: right;\">\n",
       "      <th></th>\n",
       "      <th>QuestionId</th>\n",
       "      <th>MC_Answer</th>\n",
       "      <th>count</th>\n",
       "      <th>rank</th>\n",
       "    </tr>\n",
       "  </thead>\n",
       "  <tbody>\n",
       "    <tr>\n",
       "      <th>0</th>\n",
       "      <td>31772</td>\n",
       "      <td>\\( \\frac{1}{3} \\)</td>\n",
       "      <td>2348</td>\n",
       "      <td>0</td>\n",
       "    </tr>\n",
       "    <tr>\n",
       "      <th>1</th>\n",
       "      <td>31772</td>\n",
       "      <td>\\( \\frac{3}{6} \\)</td>\n",
       "      <td>412</td>\n",
       "      <td>2</td>\n",
       "    </tr>\n",
       "    <tr>\n",
       "      <th>2</th>\n",
       "      <td>31772</td>\n",
       "      <td>\\( \\frac{3}{8} \\)</td>\n",
       "      <td>118</td>\n",
       "      <td>3</td>\n",
       "    </tr>\n",
       "    <tr>\n",
       "      <th>3</th>\n",
       "      <td>31772</td>\n",
       "      <td>\\( \\frac{3}{9} \\)</td>\n",
       "      <td>1979</td>\n",
       "      <td>1</td>\n",
       "    </tr>\n",
       "    <tr>\n",
       "      <th>4</th>\n",
       "      <td>31774</td>\n",
       "      <td>\\( 3 \\)</td>\n",
       "      <td>659</td>\n",
       "      <td>1</td>\n",
       "    </tr>\n",
       "    <tr>\n",
       "      <th>5</th>\n",
       "      <td>31774</td>\n",
       "      <td>\\( \\frac{1}{12} \\)</td>\n",
       "      <td>1918</td>\n",
       "      <td>0</td>\n",
       "    </tr>\n",
       "    <tr>\n",
       "      <th>6</th>\n",
       "      <td>31774</td>\n",
       "      <td>\\( \\frac{1}{3} \\)</td>\n",
       "      <td>251</td>\n",
       "      <td>3</td>\n",
       "    </tr>\n",
       "    <tr>\n",
       "      <th>7</th>\n",
       "      <td>31774</td>\n",
       "      <td>\\( \\frac{6}{2} \\)</td>\n",
       "      <td>287</td>\n",
       "      <td>2</td>\n",
       "    </tr>\n",
       "    <tr>\n",
       "      <th>8</th>\n",
       "      <td>31777</td>\n",
       "      <td>\\( 24 \\)</td>\n",
       "      <td>255</td>\n",
       "      <td>3</td>\n",
       "    </tr>\n",
       "    <tr>\n",
       "      <th>9</th>\n",
       "      <td>31777</td>\n",
       "      <td>\\( 48 \\)</td>\n",
       "      <td>406</td>\n",
       "      <td>1</td>\n",
       "    </tr>\n",
       "    <tr>\n",
       "      <th>10</th>\n",
       "      <td>31777</td>\n",
       "      <td>\\( 60 \\)</td>\n",
       "      <td>350</td>\n",
       "      <td>2</td>\n",
       "    </tr>\n",
       "    <tr>\n",
       "      <th>11</th>\n",
       "      <td>31777</td>\n",
       "      <td>\\( 72 \\)</td>\n",
       "      <td>1798</td>\n",
       "      <td>0</td>\n",
       "    </tr>\n",
       "    <tr>\n",
       "      <th>12</th>\n",
       "      <td>31778</td>\n",
       "      <td>\\( 3 \\)</td>\n",
       "      <td>627</td>\n",
       "      <td>2</td>\n",
       "    </tr>\n",
       "    <tr>\n",
       "      <th>13</th>\n",
       "      <td>31778</td>\n",
       "      <td>\\( 4 \\)</td>\n",
       "      <td>1108</td>\n",
       "      <td>1</td>\n",
       "    </tr>\n",
       "    <tr>\n",
       "      <th>14</th>\n",
       "      <td>31778</td>\n",
       "      <td>\\( 6 \\)</td>\n",
       "      <td>1755</td>\n",
       "      <td>0</td>\n",
       "    </tr>\n",
       "    <tr>\n",
       "      <th>15</th>\n",
       "      <td>31778</td>\n",
       "      <td>\\( 9 \\)</td>\n",
       "      <td>150</td>\n",
       "      <td>3</td>\n",
       "    </tr>\n",
       "    <tr>\n",
       "      <th>16</th>\n",
       "      <td>32829</td>\n",
       "      <td>\\( 12 \\)</td>\n",
       "      <td>1716</td>\n",
       "      <td>0</td>\n",
       "    </tr>\n",
       "    <tr>\n",
       "      <th>17</th>\n",
       "      <td>32829</td>\n",
       "      <td>\\( 22 \\)</td>\n",
       "      <td>148</td>\n",
       "      <td>2</td>\n",
       "    </tr>\n",
       "    <tr>\n",
       "      <th>18</th>\n",
       "      <td>32829</td>\n",
       "      <td>\\( 4 \\)</td>\n",
       "      <td>248</td>\n",
       "      <td>1</td>\n",
       "    </tr>\n",
       "    <tr>\n",
       "      <th>19</th>\n",
       "      <td>32829</td>\n",
       "      <td>\\( 48 \\)</td>\n",
       "      <td>44</td>\n",
       "      <td>3</td>\n",
       "    </tr>\n",
       "    <tr>\n",
       "      <th>20</th>\n",
       "      <td>32833</td>\n",
       "      <td>\\( 3 \\frac{1}{3} \\)</td>\n",
       "      <td>1601</td>\n",
       "      <td>0</td>\n",
       "    </tr>\n",
       "    <tr>\n",
       "      <th>21</th>\n",
       "      <td>32833</td>\n",
       "      <td>\\( 5 \\frac{2}{3} \\)</td>\n",
       "      <td>78</td>\n",
       "      <td>3</td>\n",
       "    </tr>\n",
       "    <tr>\n",
       "      <th>22</th>\n",
       "      <td>32833</td>\n",
       "      <td>\\( \\frac{10}{15} \\)</td>\n",
       "      <td>906</td>\n",
       "      <td>1</td>\n",
       "    </tr>\n",
       "    <tr>\n",
       "      <th>23</th>\n",
       "      <td>32833</td>\n",
       "      <td>\\( \\frac{2}{15} \\)</td>\n",
       "      <td>520</td>\n",
       "      <td>2</td>\n",
       "    </tr>\n",
       "    <tr>\n",
       "      <th>24</th>\n",
       "      <td>32835</td>\n",
       "      <td>\\( 6 \\)</td>\n",
       "      <td>478</td>\n",
       "      <td>1</td>\n",
       "    </tr>\n",
       "    <tr>\n",
       "      <th>25</th>\n",
       "      <td>32835</td>\n",
       "      <td>\\( 6.0001 \\)</td>\n",
       "      <td>64</td>\n",
       "      <td>3</td>\n",
       "    </tr>\n",
       "    <tr>\n",
       "      <th>26</th>\n",
       "      <td>32835</td>\n",
       "      <td>\\( 6.079 \\)</td>\n",
       "      <td>116</td>\n",
       "      <td>2</td>\n",
       "    </tr>\n",
       "    <tr>\n",
       "      <th>27</th>\n",
       "      <td>32835</td>\n",
       "      <td>\\( 6.2 \\)</td>\n",
       "      <td>1674</td>\n",
       "      <td>0</td>\n",
       "    </tr>\n",
       "    <tr>\n",
       "      <th>28</th>\n",
       "      <td>33471</td>\n",
       "      <td>\\( 15 \\)</td>\n",
       "      <td>874</td>\n",
       "      <td>0</td>\n",
       "    </tr>\n",
       "    <tr>\n",
       "      <th>29</th>\n",
       "      <td>33471</td>\n",
       "      <td>\\( 3 \\)</td>\n",
       "      <td>40</td>\n",
       "      <td>3</td>\n",
       "    </tr>\n",
       "    <tr>\n",
       "      <th>30</th>\n",
       "      <td>33471</td>\n",
       "      <td>\\( 8 \\)</td>\n",
       "      <td>56</td>\n",
       "      <td>2</td>\n",
       "    </tr>\n",
       "    <tr>\n",
       "      <th>31</th>\n",
       "      <td>33471</td>\n",
       "      <td>\\( 9 \\)</td>\n",
       "      <td>572</td>\n",
       "      <td>1</td>\n",
       "    </tr>\n",
       "    <tr>\n",
       "      <th>32</th>\n",
       "      <td>33472</td>\n",
       "      <td>\\( \\frac{11}{15} \\)</td>\n",
       "      <td>1651</td>\n",
       "      <td>0</td>\n",
       "    </tr>\n",
       "    <tr>\n",
       "      <th>33</th>\n",
       "      <td>33472</td>\n",
       "      <td>\\( \\frac{11}{30} \\)</td>\n",
       "      <td>116</td>\n",
       "      <td>3</td>\n",
       "    </tr>\n",
       "    <tr>\n",
       "      <th>34</th>\n",
       "      <td>33472</td>\n",
       "      <td>\\( \\frac{3}{15} \\)</td>\n",
       "      <td>565</td>\n",
       "      <td>1</td>\n",
       "    </tr>\n",
       "    <tr>\n",
       "      <th>35</th>\n",
       "      <td>33472</td>\n",
       "      <td>\\( \\frac{3}{8} \\)</td>\n",
       "      <td>468</td>\n",
       "      <td>2</td>\n",
       "    </tr>\n",
       "    <tr>\n",
       "      <th>36</th>\n",
       "      <td>33474</td>\n",
       "      <td>\\( \\frac{1}{3} \\times \\frac{2}{3} \\)</td>\n",
       "      <td>630</td>\n",
       "      <td>1</td>\n",
       "    </tr>\n",
       "    <tr>\n",
       "      <th>37</th>\n",
       "      <td>33474</td>\n",
       "      <td>\\( \\frac{1}{3}+\\frac{2}{3} \\)</td>\n",
       "      <td>49</td>\n",
       "      <td>3</td>\n",
       "    </tr>\n",
       "    <tr>\n",
       "      <th>38</th>\n",
       "      <td>33474</td>\n",
       "      <td>\\( \\frac{2}{3} \\div \\frac{1}{3} \\)</td>\n",
       "      <td>147</td>\n",
       "      <td>2</td>\n",
       "    </tr>\n",
       "    <tr>\n",
       "      <th>39</th>\n",
       "      <td>33474</td>\n",
       "      <td>\\( \\frac{2}{3}-\\frac{1}{3} \\)</td>\n",
       "      <td>940</td>\n",
       "      <td>0</td>\n",
       "    </tr>\n",
       "    <tr>\n",
       "      <th>40</th>\n",
       "      <td>76870</td>\n",
       "      <td>Not enough information</td>\n",
       "      <td>403</td>\n",
       "      <td>1</td>\n",
       "    </tr>\n",
       "    <tr>\n",
       "      <th>41</th>\n",
       "      <td>76870</td>\n",
       "      <td>\\( 10 \\)</td>\n",
       "      <td>508</td>\n",
       "      <td>0</td>\n",
       "    </tr>\n",
       "    <tr>\n",
       "      <th>42</th>\n",
       "      <td>76870</td>\n",
       "      <td>\\( 5 \\)</td>\n",
       "      <td>140</td>\n",
       "      <td>2</td>\n",
       "    </tr>\n",
       "    <tr>\n",
       "      <th>43</th>\n",
       "      <td>76870</td>\n",
       "      <td>\\( 6 \\)</td>\n",
       "      <td>135</td>\n",
       "      <td>3</td>\n",
       "    </tr>\n",
       "    <tr>\n",
       "      <th>44</th>\n",
       "      <td>89443</td>\n",
       "      <td>\\( -13 \\)</td>\n",
       "      <td>798</td>\n",
       "      <td>1</td>\n",
       "    </tr>\n",
       "    <tr>\n",
       "      <th>45</th>\n",
       "      <td>89443</td>\n",
       "      <td>\\( -3 \\)</td>\n",
       "      <td>1394</td>\n",
       "      <td>0</td>\n",
       "    </tr>\n",
       "    <tr>\n",
       "      <th>46</th>\n",
       "      <td>89443</td>\n",
       "      <td>\\( 13 \\)</td>\n",
       "      <td>396</td>\n",
       "      <td>3</td>\n",
       "    </tr>\n",
       "    <tr>\n",
       "      <th>47</th>\n",
       "      <td>89443</td>\n",
       "      <td>\\( 3 \\)</td>\n",
       "      <td>466</td>\n",
       "      <td>2</td>\n",
       "    </tr>\n",
       "    <tr>\n",
       "      <th>48</th>\n",
       "      <td>91695</td>\n",
       "      <td>\\( 20 \\)</td>\n",
       "      <td>102</td>\n",
       "      <td>3</td>\n",
       "    </tr>\n",
       "    <tr>\n",
       "      <th>49</th>\n",
       "      <td>91695</td>\n",
       "      <td>\\( 22 \\)</td>\n",
       "      <td>718</td>\n",
       "      <td>1</td>\n",
       "    </tr>\n",
       "    <tr>\n",
       "      <th>50</th>\n",
       "      <td>91695</td>\n",
       "      <td>\\( 26 \\)</td>\n",
       "      <td>1547</td>\n",
       "      <td>0</td>\n",
       "    </tr>\n",
       "    <tr>\n",
       "      <th>51</th>\n",
       "      <td>91695</td>\n",
       "      <td>\\( 36 \\)</td>\n",
       "      <td>243</td>\n",
       "      <td>2</td>\n",
       "    </tr>\n",
       "    <tr>\n",
       "      <th>52</th>\n",
       "      <td>104665</td>\n",
       "      <td>\\( 192 \\) hours</td>\n",
       "      <td>9</td>\n",
       "      <td>3</td>\n",
       "    </tr>\n",
       "    <tr>\n",
       "      <th>53</th>\n",
       "      <td>104665</td>\n",
       "      <td>\\( 48 \\) hours</td>\n",
       "      <td>497</td>\n",
       "      <td>0</td>\n",
       "    </tr>\n",
       "    <tr>\n",
       "      <th>54</th>\n",
       "      <td>104665</td>\n",
       "      <td>\\( 64 \\) hours</td>\n",
       "      <td>62</td>\n",
       "      <td>2</td>\n",
       "    </tr>\n",
       "    <tr>\n",
       "      <th>55</th>\n",
       "      <td>104665</td>\n",
       "      <td>\\( 768 \\) hours</td>\n",
       "      <td>105</td>\n",
       "      <td>1</td>\n",
       "    </tr>\n",
       "    <tr>\n",
       "      <th>56</th>\n",
       "      <td>109465</td>\n",
       "      <td>Certain</td>\n",
       "      <td>64</td>\n",
       "      <td>2</td>\n",
       "    </tr>\n",
       "    <tr>\n",
       "      <th>57</th>\n",
       "      <td>109465</td>\n",
       "      <td>Impossible</td>\n",
       "      <td>18</td>\n",
       "      <td>3</td>\n",
       "    </tr>\n",
       "    <tr>\n",
       "      <th>58</th>\n",
       "      <td>109465</td>\n",
       "      <td>Likely</td>\n",
       "      <td>553</td>\n",
       "      <td>0</td>\n",
       "    </tr>\n",
       "    <tr>\n",
       "      <th>59</th>\n",
       "      <td>109465</td>\n",
       "      <td>Unlikely</td>\n",
       "      <td>416</td>\n",
       "      <td>1</td>\n",
       "    </tr>\n",
       "  </tbody>\n",
       "</table>\n",
       "</div>"
      ],
      "text/plain": [
       "    QuestionId                             MC_Answer  count  rank\n",
       "0        31772                     \\( \\frac{1}{3} \\)   2348     0\n",
       "1        31772                     \\( \\frac{3}{6} \\)    412     2\n",
       "2        31772                     \\( \\frac{3}{8} \\)    118     3\n",
       "3        31772                     \\( \\frac{3}{9} \\)   1979     1\n",
       "4        31774                               \\( 3 \\)    659     1\n",
       "5        31774                    \\( \\frac{1}{12} \\)   1918     0\n",
       "6        31774                     \\( \\frac{1}{3} \\)    251     3\n",
       "7        31774                     \\( \\frac{6}{2} \\)    287     2\n",
       "8        31777                              \\( 24 \\)    255     3\n",
       "9        31777                              \\( 48 \\)    406     1\n",
       "10       31777                              \\( 60 \\)    350     2\n",
       "11       31777                              \\( 72 \\)   1798     0\n",
       "12       31778                               \\( 3 \\)    627     2\n",
       "13       31778                               \\( 4 \\)   1108     1\n",
       "14       31778                               \\( 6 \\)   1755     0\n",
       "15       31778                               \\( 9 \\)    150     3\n",
       "16       32829                              \\( 12 \\)   1716     0\n",
       "17       32829                              \\( 22 \\)    148     2\n",
       "18       32829                               \\( 4 \\)    248     1\n",
       "19       32829                              \\( 48 \\)     44     3\n",
       "20       32833                   \\( 3 \\frac{1}{3} \\)   1601     0\n",
       "21       32833                   \\( 5 \\frac{2}{3} \\)     78     3\n",
       "22       32833                   \\( \\frac{10}{15} \\)    906     1\n",
       "23       32833                    \\( \\frac{2}{15} \\)    520     2\n",
       "24       32835                               \\( 6 \\)    478     1\n",
       "25       32835                          \\( 6.0001 \\)     64     3\n",
       "26       32835                           \\( 6.079 \\)    116     2\n",
       "27       32835                             \\( 6.2 \\)   1674     0\n",
       "28       33471                              \\( 15 \\)    874     0\n",
       "29       33471                               \\( 3 \\)     40     3\n",
       "30       33471                               \\( 8 \\)     56     2\n",
       "31       33471                               \\( 9 \\)    572     1\n",
       "32       33472                   \\( \\frac{11}{15} \\)   1651     0\n",
       "33       33472                   \\( \\frac{11}{30} \\)    116     3\n",
       "34       33472                    \\( \\frac{3}{15} \\)    565     1\n",
       "35       33472                     \\( \\frac{3}{8} \\)    468     2\n",
       "36       33474  \\( \\frac{1}{3} \\times \\frac{2}{3} \\)    630     1\n",
       "37       33474         \\( \\frac{1}{3}+\\frac{2}{3} \\)     49     3\n",
       "38       33474    \\( \\frac{2}{3} \\div \\frac{1}{3} \\)    147     2\n",
       "39       33474         \\( \\frac{2}{3}-\\frac{1}{3} \\)    940     0\n",
       "40       76870                Not enough information    403     1\n",
       "41       76870                              \\( 10 \\)    508     0\n",
       "42       76870                               \\( 5 \\)    140     2\n",
       "43       76870                               \\( 6 \\)    135     3\n",
       "44       89443                             \\( -13 \\)    798     1\n",
       "45       89443                              \\( -3 \\)   1394     0\n",
       "46       89443                              \\( 13 \\)    396     3\n",
       "47       89443                               \\( 3 \\)    466     2\n",
       "48       91695                              \\( 20 \\)    102     3\n",
       "49       91695                              \\( 22 \\)    718     1\n",
       "50       91695                              \\( 26 \\)   1547     0\n",
       "51       91695                              \\( 36 \\)    243     2\n",
       "52      104665                       \\( 192 \\) hours      9     3\n",
       "53      104665                        \\( 48 \\) hours    497     0\n",
       "54      104665                        \\( 64 \\) hours     62     2\n",
       "55      104665                       \\( 768 \\) hours    105     1\n",
       "56      109465                               Certain     64     2\n",
       "57      109465                            Impossible     18     3\n",
       "58      109465                                Likely    553     0\n",
       "59      109465                              Unlikely    416     1"
      ]
     },
     "execution_count": 49,
     "metadata": {},
     "output_type": "execute_result"
    }
   ],
   "source": [
    "# add Ranking\n",
    "temp[\"rank\"] = temp.groupby(\"QuestionId\")['count'].rank(method='dense', ascending=False).astype(int) - 1\n",
    "temp"
   ]
  },
  {
   "cell_type": "code",
   "execution_count": 50,
   "id": "45418b11",
   "metadata": {
    "execution": {
     "iopub.execute_input": "2025-09-30T15:40:40.812192Z",
     "iopub.status.busy": "2025-09-30T15:40:40.811773Z",
     "iopub.status.idle": "2025-09-30T15:40:40.821229Z",
     "shell.execute_reply": "2025-09-30T15:40:40.820532Z"
    },
    "papermill": {
     "duration": 0.037071,
     "end_time": "2025-09-30T15:40:40.822275",
     "exception": false,
     "start_time": "2025-09-30T15:40:40.785204",
     "status": "completed"
    },
    "scrolled": true,
    "tags": []
   },
   "outputs": [
    {
     "data": {
      "text/html": [
       "<div>\n",
       "<style scoped>\n",
       "    .dataframe tbody tr th:only-of-type {\n",
       "        vertical-align: middle;\n",
       "    }\n",
       "\n",
       "    .dataframe tbody tr th {\n",
       "        vertical-align: top;\n",
       "    }\n",
       "\n",
       "    .dataframe thead th {\n",
       "        text-align: right;\n",
       "    }\n",
       "</style>\n",
       "<table border=\"1\" class=\"dataframe\">\n",
       "  <thead>\n",
       "    <tr style=\"text-align: right;\">\n",
       "      <th></th>\n",
       "      <th>QuestionId</th>\n",
       "      <th>MC_Answer</th>\n",
       "      <th>rank</th>\n",
       "    </tr>\n",
       "  </thead>\n",
       "  <tbody>\n",
       "    <tr>\n",
       "      <th>0</th>\n",
       "      <td>31772</td>\n",
       "      <td>\\( \\frac{1}{3} \\)</td>\n",
       "      <td>0</td>\n",
       "    </tr>\n",
       "    <tr>\n",
       "      <th>3</th>\n",
       "      <td>31772</td>\n",
       "      <td>\\( \\frac{3}{9} \\)</td>\n",
       "      <td>1</td>\n",
       "    </tr>\n",
       "    <tr>\n",
       "      <th>1</th>\n",
       "      <td>31772</td>\n",
       "      <td>\\( \\frac{3}{6} \\)</td>\n",
       "      <td>2</td>\n",
       "    </tr>\n",
       "    <tr>\n",
       "      <th>2</th>\n",
       "      <td>31772</td>\n",
       "      <td>\\( \\frac{3}{8} \\)</td>\n",
       "      <td>3</td>\n",
       "    </tr>\n",
       "    <tr>\n",
       "      <th>5</th>\n",
       "      <td>31774</td>\n",
       "      <td>\\( \\frac{1}{12} \\)</td>\n",
       "      <td>0</td>\n",
       "    </tr>\n",
       "    <tr>\n",
       "      <th>4</th>\n",
       "      <td>31774</td>\n",
       "      <td>\\( 3 \\)</td>\n",
       "      <td>1</td>\n",
       "    </tr>\n",
       "    <tr>\n",
       "      <th>7</th>\n",
       "      <td>31774</td>\n",
       "      <td>\\( \\frac{6}{2} \\)</td>\n",
       "      <td>2</td>\n",
       "    </tr>\n",
       "    <tr>\n",
       "      <th>6</th>\n",
       "      <td>31774</td>\n",
       "      <td>\\( \\frac{1}{3} \\)</td>\n",
       "      <td>3</td>\n",
       "    </tr>\n",
       "    <tr>\n",
       "      <th>11</th>\n",
       "      <td>31777</td>\n",
       "      <td>\\( 72 \\)</td>\n",
       "      <td>0</td>\n",
       "    </tr>\n",
       "    <tr>\n",
       "      <th>9</th>\n",
       "      <td>31777</td>\n",
       "      <td>\\( 48 \\)</td>\n",
       "      <td>1</td>\n",
       "    </tr>\n",
       "    <tr>\n",
       "      <th>10</th>\n",
       "      <td>31777</td>\n",
       "      <td>\\( 60 \\)</td>\n",
       "      <td>2</td>\n",
       "    </tr>\n",
       "    <tr>\n",
       "      <th>8</th>\n",
       "      <td>31777</td>\n",
       "      <td>\\( 24 \\)</td>\n",
       "      <td>3</td>\n",
       "    </tr>\n",
       "    <tr>\n",
       "      <th>14</th>\n",
       "      <td>31778</td>\n",
       "      <td>\\( 6 \\)</td>\n",
       "      <td>0</td>\n",
       "    </tr>\n",
       "    <tr>\n",
       "      <th>13</th>\n",
       "      <td>31778</td>\n",
       "      <td>\\( 4 \\)</td>\n",
       "      <td>1</td>\n",
       "    </tr>\n",
       "    <tr>\n",
       "      <th>12</th>\n",
       "      <td>31778</td>\n",
       "      <td>\\( 3 \\)</td>\n",
       "      <td>2</td>\n",
       "    </tr>\n",
       "    <tr>\n",
       "      <th>15</th>\n",
       "      <td>31778</td>\n",
       "      <td>\\( 9 \\)</td>\n",
       "      <td>3</td>\n",
       "    </tr>\n",
       "    <tr>\n",
       "      <th>16</th>\n",
       "      <td>32829</td>\n",
       "      <td>\\( 12 \\)</td>\n",
       "      <td>0</td>\n",
       "    </tr>\n",
       "    <tr>\n",
       "      <th>18</th>\n",
       "      <td>32829</td>\n",
       "      <td>\\( 4 \\)</td>\n",
       "      <td>1</td>\n",
       "    </tr>\n",
       "    <tr>\n",
       "      <th>17</th>\n",
       "      <td>32829</td>\n",
       "      <td>\\( 22 \\)</td>\n",
       "      <td>2</td>\n",
       "    </tr>\n",
       "    <tr>\n",
       "      <th>19</th>\n",
       "      <td>32829</td>\n",
       "      <td>\\( 48 \\)</td>\n",
       "      <td>3</td>\n",
       "    </tr>\n",
       "    <tr>\n",
       "      <th>20</th>\n",
       "      <td>32833</td>\n",
       "      <td>\\( 3 \\frac{1}{3} \\)</td>\n",
       "      <td>0</td>\n",
       "    </tr>\n",
       "    <tr>\n",
       "      <th>22</th>\n",
       "      <td>32833</td>\n",
       "      <td>\\( \\frac{10}{15} \\)</td>\n",
       "      <td>1</td>\n",
       "    </tr>\n",
       "    <tr>\n",
       "      <th>23</th>\n",
       "      <td>32833</td>\n",
       "      <td>\\( \\frac{2}{15} \\)</td>\n",
       "      <td>2</td>\n",
       "    </tr>\n",
       "    <tr>\n",
       "      <th>21</th>\n",
       "      <td>32833</td>\n",
       "      <td>\\( 5 \\frac{2}{3} \\)</td>\n",
       "      <td>3</td>\n",
       "    </tr>\n",
       "    <tr>\n",
       "      <th>27</th>\n",
       "      <td>32835</td>\n",
       "      <td>\\( 6.2 \\)</td>\n",
       "      <td>0</td>\n",
       "    </tr>\n",
       "    <tr>\n",
       "      <th>24</th>\n",
       "      <td>32835</td>\n",
       "      <td>\\( 6 \\)</td>\n",
       "      <td>1</td>\n",
       "    </tr>\n",
       "    <tr>\n",
       "      <th>26</th>\n",
       "      <td>32835</td>\n",
       "      <td>\\( 6.079 \\)</td>\n",
       "      <td>2</td>\n",
       "    </tr>\n",
       "    <tr>\n",
       "      <th>25</th>\n",
       "      <td>32835</td>\n",
       "      <td>\\( 6.0001 \\)</td>\n",
       "      <td>3</td>\n",
       "    </tr>\n",
       "    <tr>\n",
       "      <th>28</th>\n",
       "      <td>33471</td>\n",
       "      <td>\\( 15 \\)</td>\n",
       "      <td>0</td>\n",
       "    </tr>\n",
       "    <tr>\n",
       "      <th>31</th>\n",
       "      <td>33471</td>\n",
       "      <td>\\( 9 \\)</td>\n",
       "      <td>1</td>\n",
       "    </tr>\n",
       "    <tr>\n",
       "      <th>30</th>\n",
       "      <td>33471</td>\n",
       "      <td>\\( 8 \\)</td>\n",
       "      <td>2</td>\n",
       "    </tr>\n",
       "    <tr>\n",
       "      <th>29</th>\n",
       "      <td>33471</td>\n",
       "      <td>\\( 3 \\)</td>\n",
       "      <td>3</td>\n",
       "    </tr>\n",
       "    <tr>\n",
       "      <th>32</th>\n",
       "      <td>33472</td>\n",
       "      <td>\\( \\frac{11}{15} \\)</td>\n",
       "      <td>0</td>\n",
       "    </tr>\n",
       "    <tr>\n",
       "      <th>34</th>\n",
       "      <td>33472</td>\n",
       "      <td>\\( \\frac{3}{15} \\)</td>\n",
       "      <td>1</td>\n",
       "    </tr>\n",
       "    <tr>\n",
       "      <th>35</th>\n",
       "      <td>33472</td>\n",
       "      <td>\\( \\frac{3}{8} \\)</td>\n",
       "      <td>2</td>\n",
       "    </tr>\n",
       "    <tr>\n",
       "      <th>33</th>\n",
       "      <td>33472</td>\n",
       "      <td>\\( \\frac{11}{30} \\)</td>\n",
       "      <td>3</td>\n",
       "    </tr>\n",
       "    <tr>\n",
       "      <th>39</th>\n",
       "      <td>33474</td>\n",
       "      <td>\\( \\frac{2}{3}-\\frac{1}{3} \\)</td>\n",
       "      <td>0</td>\n",
       "    </tr>\n",
       "    <tr>\n",
       "      <th>36</th>\n",
       "      <td>33474</td>\n",
       "      <td>\\( \\frac{1}{3} \\times \\frac{2}{3} \\)</td>\n",
       "      <td>1</td>\n",
       "    </tr>\n",
       "    <tr>\n",
       "      <th>38</th>\n",
       "      <td>33474</td>\n",
       "      <td>\\( \\frac{2}{3} \\div \\frac{1}{3} \\)</td>\n",
       "      <td>2</td>\n",
       "    </tr>\n",
       "    <tr>\n",
       "      <th>37</th>\n",
       "      <td>33474</td>\n",
       "      <td>\\( \\frac{1}{3}+\\frac{2}{3} \\)</td>\n",
       "      <td>3</td>\n",
       "    </tr>\n",
       "    <tr>\n",
       "      <th>41</th>\n",
       "      <td>76870</td>\n",
       "      <td>\\( 10 \\)</td>\n",
       "      <td>0</td>\n",
       "    </tr>\n",
       "    <tr>\n",
       "      <th>40</th>\n",
       "      <td>76870</td>\n",
       "      <td>Not enough information</td>\n",
       "      <td>1</td>\n",
       "    </tr>\n",
       "    <tr>\n",
       "      <th>42</th>\n",
       "      <td>76870</td>\n",
       "      <td>\\( 5 \\)</td>\n",
       "      <td>2</td>\n",
       "    </tr>\n",
       "    <tr>\n",
       "      <th>43</th>\n",
       "      <td>76870</td>\n",
       "      <td>\\( 6 \\)</td>\n",
       "      <td>3</td>\n",
       "    </tr>\n",
       "    <tr>\n",
       "      <th>45</th>\n",
       "      <td>89443</td>\n",
       "      <td>\\( -3 \\)</td>\n",
       "      <td>0</td>\n",
       "    </tr>\n",
       "    <tr>\n",
       "      <th>44</th>\n",
       "      <td>89443</td>\n",
       "      <td>\\( -13 \\)</td>\n",
       "      <td>1</td>\n",
       "    </tr>\n",
       "    <tr>\n",
       "      <th>47</th>\n",
       "      <td>89443</td>\n",
       "      <td>\\( 3 \\)</td>\n",
       "      <td>2</td>\n",
       "    </tr>\n",
       "    <tr>\n",
       "      <th>46</th>\n",
       "      <td>89443</td>\n",
       "      <td>\\( 13 \\)</td>\n",
       "      <td>3</td>\n",
       "    </tr>\n",
       "    <tr>\n",
       "      <th>50</th>\n",
       "      <td>91695</td>\n",
       "      <td>\\( 26 \\)</td>\n",
       "      <td>0</td>\n",
       "    </tr>\n",
       "    <tr>\n",
       "      <th>49</th>\n",
       "      <td>91695</td>\n",
       "      <td>\\( 22 \\)</td>\n",
       "      <td>1</td>\n",
       "    </tr>\n",
       "    <tr>\n",
       "      <th>51</th>\n",
       "      <td>91695</td>\n",
       "      <td>\\( 36 \\)</td>\n",
       "      <td>2</td>\n",
       "    </tr>\n",
       "    <tr>\n",
       "      <th>48</th>\n",
       "      <td>91695</td>\n",
       "      <td>\\( 20 \\)</td>\n",
       "      <td>3</td>\n",
       "    </tr>\n",
       "    <tr>\n",
       "      <th>53</th>\n",
       "      <td>104665</td>\n",
       "      <td>\\( 48 \\) hours</td>\n",
       "      <td>0</td>\n",
       "    </tr>\n",
       "    <tr>\n",
       "      <th>55</th>\n",
       "      <td>104665</td>\n",
       "      <td>\\( 768 \\) hours</td>\n",
       "      <td>1</td>\n",
       "    </tr>\n",
       "    <tr>\n",
       "      <th>54</th>\n",
       "      <td>104665</td>\n",
       "      <td>\\( 64 \\) hours</td>\n",
       "      <td>2</td>\n",
       "    </tr>\n",
       "    <tr>\n",
       "      <th>52</th>\n",
       "      <td>104665</td>\n",
       "      <td>\\( 192 \\) hours</td>\n",
       "      <td>3</td>\n",
       "    </tr>\n",
       "    <tr>\n",
       "      <th>58</th>\n",
       "      <td>109465</td>\n",
       "      <td>Likely</td>\n",
       "      <td>0</td>\n",
       "    </tr>\n",
       "    <tr>\n",
       "      <th>59</th>\n",
       "      <td>109465</td>\n",
       "      <td>Unlikely</td>\n",
       "      <td>1</td>\n",
       "    </tr>\n",
       "    <tr>\n",
       "      <th>56</th>\n",
       "      <td>109465</td>\n",
       "      <td>Certain</td>\n",
       "      <td>2</td>\n",
       "    </tr>\n",
       "    <tr>\n",
       "      <th>57</th>\n",
       "      <td>109465</td>\n",
       "      <td>Impossible</td>\n",
       "      <td>3</td>\n",
       "    </tr>\n",
       "  </tbody>\n",
       "</table>\n",
       "</div>"
      ],
      "text/plain": [
       "    QuestionId                             MC_Answer  rank\n",
       "0        31772                     \\( \\frac{1}{3} \\)     0\n",
       "3        31772                     \\( \\frac{3}{9} \\)     1\n",
       "1        31772                     \\( \\frac{3}{6} \\)     2\n",
       "2        31772                     \\( \\frac{3}{8} \\)     3\n",
       "5        31774                    \\( \\frac{1}{12} \\)     0\n",
       "4        31774                               \\( 3 \\)     1\n",
       "7        31774                     \\( \\frac{6}{2} \\)     2\n",
       "6        31774                     \\( \\frac{1}{3} \\)     3\n",
       "11       31777                              \\( 72 \\)     0\n",
       "9        31777                              \\( 48 \\)     1\n",
       "10       31777                              \\( 60 \\)     2\n",
       "8        31777                              \\( 24 \\)     3\n",
       "14       31778                               \\( 6 \\)     0\n",
       "13       31778                               \\( 4 \\)     1\n",
       "12       31778                               \\( 3 \\)     2\n",
       "15       31778                               \\( 9 \\)     3\n",
       "16       32829                              \\( 12 \\)     0\n",
       "18       32829                               \\( 4 \\)     1\n",
       "17       32829                              \\( 22 \\)     2\n",
       "19       32829                              \\( 48 \\)     3\n",
       "20       32833                   \\( 3 \\frac{1}{3} \\)     0\n",
       "22       32833                   \\( \\frac{10}{15} \\)     1\n",
       "23       32833                    \\( \\frac{2}{15} \\)     2\n",
       "21       32833                   \\( 5 \\frac{2}{3} \\)     3\n",
       "27       32835                             \\( 6.2 \\)     0\n",
       "24       32835                               \\( 6 \\)     1\n",
       "26       32835                           \\( 6.079 \\)     2\n",
       "25       32835                          \\( 6.0001 \\)     3\n",
       "28       33471                              \\( 15 \\)     0\n",
       "31       33471                               \\( 9 \\)     1\n",
       "30       33471                               \\( 8 \\)     2\n",
       "29       33471                               \\( 3 \\)     3\n",
       "32       33472                   \\( \\frac{11}{15} \\)     0\n",
       "34       33472                    \\( \\frac{3}{15} \\)     1\n",
       "35       33472                     \\( \\frac{3}{8} \\)     2\n",
       "33       33472                   \\( \\frac{11}{30} \\)     3\n",
       "39       33474         \\( \\frac{2}{3}-\\frac{1}{3} \\)     0\n",
       "36       33474  \\( \\frac{1}{3} \\times \\frac{2}{3} \\)     1\n",
       "38       33474    \\( \\frac{2}{3} \\div \\frac{1}{3} \\)     2\n",
       "37       33474         \\( \\frac{1}{3}+\\frac{2}{3} \\)     3\n",
       "41       76870                              \\( 10 \\)     0\n",
       "40       76870                Not enough information     1\n",
       "42       76870                               \\( 5 \\)     2\n",
       "43       76870                               \\( 6 \\)     3\n",
       "45       89443                              \\( -3 \\)     0\n",
       "44       89443                             \\( -13 \\)     1\n",
       "47       89443                               \\( 3 \\)     2\n",
       "46       89443                              \\( 13 \\)     3\n",
       "50       91695                              \\( 26 \\)     0\n",
       "49       91695                              \\( 22 \\)     1\n",
       "51       91695                              \\( 36 \\)     2\n",
       "48       91695                              \\( 20 \\)     3\n",
       "53      104665                        \\( 48 \\) hours     0\n",
       "55      104665                       \\( 768 \\) hours     1\n",
       "54      104665                        \\( 64 \\) hours     2\n",
       "52      104665                       \\( 192 \\) hours     3\n",
       "58      109465                                Likely     0\n",
       "59      109465                              Unlikely     1\n",
       "56      109465                               Certain     2\n",
       "57      109465                            Impossible     3"
      ]
     },
     "execution_count": 50,
     "metadata": {},
     "output_type": "execute_result"
    }
   ],
   "source": [
    "temp = temp.drop('count',axis=1)\n",
    "temp = temp.sort_values(['QuestionId','rank'])\n",
    "temp"
   ]
  },
  {
   "cell_type": "code",
   "execution_count": 51,
   "id": "76ea9dcd",
   "metadata": {
    "execution": {
     "iopub.execute_input": "2025-09-30T15:40:40.896097Z",
     "iopub.status.busy": "2025-09-30T15:40:40.895561Z",
     "iopub.status.idle": "2025-09-30T15:40:40.957502Z",
     "shell.execute_reply": "2025-09-30T15:40:40.956971Z"
    },
    "papermill": {
     "duration": 0.108502,
     "end_time": "2025-09-30T15:40:40.958492",
     "exception": false,
     "start_time": "2025-09-30T15:40:40.849990",
     "status": "completed"
    },
    "scrolled": true,
    "tags": []
   },
   "outputs": [
    {
     "name": "stdout",
     "output_type": "stream",
     "text": [
      "\n"
     ]
    },
    {
     "data": {
      "text/latex": [
       "Question Id: 31772: What fraction of the shape is not shaded? Give your answer in its simplest form. [Image: A triangle split into 9 equal smaller triangles. 6 of them are shaded.]"
      ],
      "text/plain": [
       "<IPython.core.display.Latex object>"
      ]
     },
     "metadata": {},
     "output_type": "display_data"
    },
    {
     "data": {
      "text/latex": [
       "MC Answer: (A) \\( \\frac{1}{3} \\) (B) \\( \\frac{3}{9} \\) (C) \\( \\frac{3}{6} \\) (D) \\( \\frac{3}{8} \\)\n",
       "\r"
      ],
      "text/plain": [
       "<IPython.core.display.Latex object>"
      ]
     },
     "metadata": {},
     "output_type": "display_data"
    },
    {
     "name": "stdout",
     "output_type": "stream",
     "text": [
      "\n"
     ]
    },
    {
     "data": {
      "text/latex": [
       "Question Id: 31774: Calculate \\( \\frac{1}{2} \\div 6 \\)"
      ],
      "text/plain": [
       "<IPython.core.display.Latex object>"
      ]
     },
     "metadata": {},
     "output_type": "display_data"
    },
    {
     "data": {
      "text/latex": [
       "MC Answer: (A) \\( \\frac{1}{12} \\) (B) \\( 3 \\) (C) \\( \\frac{6}{2} \\) (D) \\( \\frac{1}{3} \\)\n",
       "\r"
      ],
      "text/plain": [
       "<IPython.core.display.Latex object>"
      ]
     },
     "metadata": {},
     "output_type": "display_data"
    },
    {
     "name": "stdout",
     "output_type": "stream",
     "text": [
      "\n"
     ]
    },
    {
     "data": {
      "text/latex": [
       "Question Id: 31777: A box contains \\( 120 \\) counters. The counters are red or blue. \\( \\frac{3}{5} \\) of the counters are red.\n",
       "How many red counters are there?"
      ],
      "text/plain": [
       "<IPython.core.display.Latex object>"
      ]
     },
     "metadata": {},
     "output_type": "display_data"
    },
    {
     "data": {
      "text/latex": [
       "MC Answer: (A) \\( 72 \\) (B) \\( 48 \\) (C) \\( 60 \\) (D) \\( 24 \\)\n",
       "\r"
      ],
      "text/plain": [
       "<IPython.core.display.Latex object>"
      ]
     },
     "metadata": {},
     "output_type": "display_data"
    },
    {
     "name": "stdout",
     "output_type": "stream",
     "text": [
      "\n"
     ]
    },
    {
     "data": {
      "text/latex": [
       "Question Id: 31778: \\( \\frac{A}{10}=\\frac{9}{15} \\) What is the value of \\( A \\) ?"
      ],
      "text/plain": [
       "<IPython.core.display.Latex object>"
      ]
     },
     "metadata": {},
     "output_type": "display_data"
    },
    {
     "data": {
      "text/latex": [
       "MC Answer: (A) \\( 6 \\) (B) \\( 4 \\) (C) \\( 3 \\) (D) \\( 9 \\)\n",
       "\r"
      ],
      "text/plain": [
       "<IPython.core.display.Latex object>"
      ]
     },
     "metadata": {},
     "output_type": "display_data"
    },
    {
     "name": "stdout",
     "output_type": "stream",
     "text": [
      "\n"
     ]
    },
    {
     "data": {
      "text/latex": [
       "Question Id: 32829: \\( 2 y=24 \\) What is the value of \\( y \\) ?"
      ],
      "text/plain": [
       "<IPython.core.display.Latex object>"
      ]
     },
     "metadata": {},
     "output_type": "display_data"
    },
    {
     "data": {
      "text/latex": [
       "MC Answer: (A) \\( 12 \\) (B) \\( 4 \\) (C) \\( 22 \\) (D) \\( 48 \\)\n",
       "\r"
      ],
      "text/plain": [
       "<IPython.core.display.Latex object>"
      ]
     },
     "metadata": {},
     "output_type": "display_data"
    },
    {
     "name": "stdout",
     "output_type": "stream",
     "text": [
      "\n"
     ]
    },
    {
     "data": {
      "text/latex": [
       "Question Id: 32833: Calculate \\( \\frac{2}{3} \\times 5 \\)"
      ],
      "text/plain": [
       "<IPython.core.display.Latex object>"
      ]
     },
     "metadata": {},
     "output_type": "display_data"
    },
    {
     "data": {
      "text/latex": [
       "MC Answer: (A) \\( 3 \\frac{1}{3} \\) (B) \\( \\frac{10}{15} \\) (C) \\( \\frac{2}{15} \\) (D) \\( 5 \\frac{2}{3} \\)\n",
       "\r"
      ],
      "text/plain": [
       "<IPython.core.display.Latex object>"
      ]
     },
     "metadata": {},
     "output_type": "display_data"
    },
    {
     "name": "stdout",
     "output_type": "stream",
     "text": [
      "\n"
     ]
    },
    {
     "data": {
      "text/latex": [
       "Question Id: 32835: Which number is the greatest?"
      ],
      "text/plain": [
       "<IPython.core.display.Latex object>"
      ]
     },
     "metadata": {},
     "output_type": "display_data"
    },
    {
     "data": {
      "text/latex": [
       "MC Answer: (A) \\( 6.2 \\) (B) \\( 6 \\) (C) \\( 6.079 \\) (D) \\( 6.0001 \\)\n",
       "\r"
      ],
      "text/plain": [
       "<IPython.core.display.Latex object>"
      ]
     },
     "metadata": {},
     "output_type": "display_data"
    },
    {
     "name": "stdout",
     "output_type": "stream",
     "text": [
      "\n"
     ]
    },
    {
     "data": {
      "text/latex": [
       "Question Id: 33471: A bag contains \\( 24 \\) yellow and green balls. \\( \\frac{3}{8} \\) of the balls are yellow. How many of the balls are green?"
      ],
      "text/plain": [
       "<IPython.core.display.Latex object>"
      ]
     },
     "metadata": {},
     "output_type": "display_data"
    },
    {
     "data": {
      "text/latex": [
       "MC Answer: (A) \\( 15 \\) (B) \\( 9 \\) (C) \\( 8 \\) (D) \\( 3 \\)\n",
       "\r"
      ],
      "text/plain": [
       "<IPython.core.display.Latex object>"
      ]
     },
     "metadata": {},
     "output_type": "display_data"
    },
    {
     "name": "stdout",
     "output_type": "stream",
     "text": [
      "\n"
     ]
    },
    {
     "data": {
      "text/latex": [
       "Question Id: 33472: \\( \\frac{1}{3}+\\frac{2}{5}= \\)"
      ],
      "text/plain": [
       "<IPython.core.display.Latex object>"
      ]
     },
     "metadata": {},
     "output_type": "display_data"
    },
    {
     "data": {
      "text/latex": [
       "MC Answer: (A) \\( \\frac{11}{15} \\) (B) \\( \\frac{3}{15} \\) (C) \\( \\frac{3}{8} \\) (D) \\( \\frac{11}{30} \\)\n",
       "\r"
      ],
      "text/plain": [
       "<IPython.core.display.Latex object>"
      ]
     },
     "metadata": {},
     "output_type": "display_data"
    },
    {
     "name": "stdout",
     "output_type": "stream",
     "text": [
      "\n"
     ]
    },
    {
     "data": {
      "text/latex": [
       "Question Id: 33474: Sally has \\( \\frac{2}{3} \\) of a whole cake in the fridge. Robert eats \\( \\frac{1}{3} \\) of this piece. What fraction of the whole cake has Robert eaten?\n",
       "Choose the number sentence that would solve the word problem."
      ],
      "text/plain": [
       "<IPython.core.display.Latex object>"
      ]
     },
     "metadata": {},
     "output_type": "display_data"
    },
    {
     "data": {
      "text/latex": [
       "MC Answer: (A) \\( \\frac{2}{3}-\\frac{1}{3} \\) (B) \\( \\frac{1}{3} \\times \\frac{2}{3} \\) (C) \\( \\frac{2}{3} \\div \\frac{1}{3} \\) (D) \\( \\frac{1}{3}+\\frac{2}{3} \\)\n",
       "\r"
      ],
      "text/plain": [
       "<IPython.core.display.Latex object>"
      ]
     },
     "metadata": {},
     "output_type": "display_data"
    },
    {
     "name": "stdout",
     "output_type": "stream",
     "text": [
      "\n"
     ]
    },
    {
     "data": {
      "text/latex": [
       "Question Id: 76870: This is part of a regular polygon. How many sides does it have? [Image: A diagram showing an obtuse angle labelled 144 degrees]"
      ],
      "text/plain": [
       "<IPython.core.display.Latex object>"
      ]
     },
     "metadata": {},
     "output_type": "display_data"
    },
    {
     "data": {
      "text/latex": [
       "MC Answer: (A) \\( 10 \\) (B) Not enough information (C) \\( 5 \\) (D) \\( 6 \\)\n",
       "\r"
      ],
      "text/plain": [
       "<IPython.core.display.Latex object>"
      ]
     },
     "metadata": {},
     "output_type": "display_data"
    },
    {
     "name": "stdout",
     "output_type": "stream",
     "text": [
      "\n"
     ]
    },
    {
     "data": {
      "text/latex": [
       "Question Id: 89443: What number belongs in the box?\n",
       "\\(\n",
       "(-8)-(-5)=\n",
       "\\square\\)"
      ],
      "text/plain": [
       "<IPython.core.display.Latex object>"
      ]
     },
     "metadata": {},
     "output_type": "display_data"
    },
    {
     "data": {
      "text/latex": [
       "MC Answer: (A) \\( -3 \\) (B) \\( -13 \\) (C) \\( 3 \\) (D) \\( 13 \\)\n",
       "\r"
      ],
      "text/plain": [
       "<IPython.core.display.Latex object>"
      ]
     },
     "metadata": {},
     "output_type": "display_data"
    },
    {
     "name": "stdout",
     "output_type": "stream",
     "text": [
      "\n"
     ]
    },
    {
     "data": {
      "text/latex": [
       "Question Id: 91695: Dots have been arranged in these patterns: [Image: Pattern 1 consists of 6 dots, Pattern 2 consists of 10 dots, Pattern 3 consists of 14 dots and Pattern 4 consists of 18 dots] How many dots would there be in Pattern \\( 6 \\) ?"
      ],
      "text/plain": [
       "<IPython.core.display.Latex object>"
      ]
     },
     "metadata": {},
     "output_type": "display_data"
    },
    {
     "data": {
      "text/latex": [
       "MC Answer: (A) \\( 26 \\) (B) \\( 22 \\) (C) \\( 36 \\) (D) \\( 20 \\)\n",
       "\r"
      ],
      "text/plain": [
       "<IPython.core.display.Latex object>"
      ]
     },
     "metadata": {},
     "output_type": "display_data"
    },
    {
     "name": "stdout",
     "output_type": "stream",
     "text": [
      "\n"
     ]
    },
    {
     "data": {
      "text/latex": [
       "Question Id: 104665: It takes \\( 3 \\) people a total of \\( 192 \\) hours to build a wall.\n",
       "\n",
       "How long would it take if \\( 12 \\) people built the same wall?"
      ],
      "text/plain": [
       "<IPython.core.display.Latex object>"
      ]
     },
     "metadata": {},
     "output_type": "display_data"
    },
    {
     "data": {
      "text/latex": [
       "MC Answer: (A) \\( 48 \\) hours (B) \\( 768 \\) hours (C) \\( 64 \\) hours (D) \\( 192 \\) hours\n",
       "\r"
      ],
      "text/plain": [
       "<IPython.core.display.Latex object>"
      ]
     },
     "metadata": {},
     "output_type": "display_data"
    },
    {
     "name": "stdout",
     "output_type": "stream",
     "text": [
      "\n"
     ]
    },
    {
     "data": {
      "text/latex": [
       "Question Id: 109465: The probability of an event occurring is \\( 0.9 \\).\n",
       "\n",
       "Which of the following most accurately describes the likelihood of the event occurring?"
      ],
      "text/plain": [
       "<IPython.core.display.Latex object>"
      ]
     },
     "metadata": {},
     "output_type": "display_data"
    },
    {
     "data": {
      "text/latex": [
       "MC Answer: (A) Likely (B) Unlikely (C) Certain (D) Impossible\n",
       "\r"
      ],
      "text/plain": [
       "<IPython.core.display.Latex object>"
      ]
     },
     "metadata": {},
     "output_type": "display_data"
    }
   ],
   "source": [
    "Qid = temp[\"QuestionId\"].unique() # get unique questionid\n",
    "for q in Qid:\n",
    "    question = trainDF.loc[trainDF.QuestionId==q].iloc[0][\"QuestionText\"] # get Question Text for specific QuestionId\n",
    "    choices = temp.loc[temp[\"QuestionId\"] ==q][\"MC_Answer\"].values #\n",
    "    labels=\"ABCD\" # define labels name\n",
    "    choiceStr = \" \".join([f\"({labels[i]}) {choice}\" for  i, choice in enumerate(choices)])\n",
    "    print()\n",
    "    display(Latex(f\"Question Id: {q}: {question}\"))\n",
    "    display(Latex(f\"MC Answer: {choiceStr}\\n\\r\"))\n",
    "    \n",
    "    # print(f\"question: {question}, choices: {choices}  \\n\\r\")"
   ]
  },
  {
   "cell_type": "code",
   "execution_count": 52,
   "id": "8379eaef",
   "metadata": {
    "execution": {
     "iopub.execute_input": "2025-09-30T15:40:41.017281Z",
     "iopub.status.busy": "2025-09-30T15:40:41.017067Z",
     "iopub.status.idle": "2025-09-30T15:40:41.020914Z",
     "shell.execute_reply": "2025-09-30T15:40:41.020406Z"
    },
    "papermill": {
     "duration": 0.034135,
     "end_time": "2025-09-30T15:40:41.022033",
     "exception": false,
     "start_time": "2025-09-30T15:40:40.987898",
     "status": "completed"
    },
    "tags": []
   },
   "outputs": [
    {
     "data": {
      "text/plain": [
       "15"
      ]
     },
     "execution_count": 52,
     "metadata": {},
     "output_type": "execute_result"
    }
   ],
   "source": [
    "len(Qid)"
   ]
  },
  {
   "cell_type": "code",
   "execution_count": 53,
   "id": "c930b429",
   "metadata": {
    "execution": {
     "iopub.execute_input": "2025-09-30T15:40:41.079235Z",
     "iopub.status.busy": "2025-09-30T15:40:41.079027Z",
     "iopub.status.idle": "2025-09-30T15:40:44.377301Z",
     "shell.execute_reply": "2025-09-30T15:40:44.376672Z"
    },
    "papermill": {
     "duration": 3.328699,
     "end_time": "2025-09-30T15:40:44.378668",
     "exception": false,
     "start_time": "2025-09-30T15:40:41.049969",
     "status": "completed"
    },
    "tags": []
   },
   "outputs": [],
   "source": [
    "clearMemory()"
   ]
  },
  {
   "cell_type": "markdown",
   "id": "f2e8b86b",
   "metadata": {
    "papermill": {
     "duration": 0.029178,
     "end_time": "2025-09-30T15:40:44.437194",
     "exception": false,
     "start_time": "2025-09-30T15:40:44.408016",
     "status": "completed"
    },
    "tags": []
   },
   "source": [
    "<!-- ### Undersampling is simple way to reduce impact for training imbalance class -->\n",
    "# Imbalance Class Handling\n",
    "To address the extreme class imbalance in your training dataset, you can apply sampling techniques to create a more balanced dataset for fine-tuning. Here are common and effective approaches:\n",
    "\n",
    "### Undersampling the Majority Classes\n",
    "Randomly remove samples from highly frequent classes (e.g., label 37 with 14,802 samples) to reduce their dominance.\n",
    "\n",
    "Techniques like Near Miss or Tomek Links select majority samples close to minority samples to keep important points and remove redundant ones.\n",
    "\n",
    "Downsampling ensures batches contain more representative samples of minority classes, helping the model learn minority patterns better.\n",
    "\n",
    "### Oversampling the Minority Classes\n",
    "Increase the number of samples in minority classes by replicating existing samples or synthetically generating new ones (e.g., SMOTE or Perceptual Borderline SMOTE).\n",
    "\n",
    "Synthetic oversampling creates new minority samples by interpolating between nearest neighbors, improving representation without losing information.\n",
    "\n",
    "### Hybrid Sampling\n",
    "Combine undersampling and oversampling to balance the dataset effectively without losing valuable majority class information.\n",
    "\n",
    "For example, reduce majority class samples moderately and apply synthetic oversampling to minority classes.\n",
    "\n",
    "Hybrid methods have been shown to perform well in highly imbalanced multi-class settings.\n",
    "\n",
    "## Additional Suggestions\n",
    "- Class Weights: Alternatively or additionally, assign higher loss weights to minority classes during training to force the model to pay more attention to them without changing the dataset distribution.\n",
    "\n",
    "- Experiment: It’s important to experiment with the degree of under- and oversampling as well as weighting to optimize balanced learning.\n",
    "\n",
    "\n",
    "By applying these resampling strategies, the data balance improves, which can help stabilize metrics like mAP during fine-tuning and improve overall model robustness across all classes.To address the extreme class imbalance in your training dataset, a common solution is to use sampling techniques to balance the dataset:\n",
    "\n",
    "- Undersampling: Reduce samples from majority classes by randomly removing some instances or using informed methods like Near Miss or Tomek Links, which selectively remove samples from majority classes near minority class boundaries. This prevents the model from overwhelming bias towards large classes.\n",
    "\n",
    "- Oversampling: Increase samples from minority classes by duplicating instances or generating synthetic samples using methods like SMOTE or Perceptual Borderline SMOTE, which interpolate between minority samples to create new, plausible instances.\n",
    "\n",
    "- Hybrid methods: Combine undersampling of large classes with oversampling of small classes to maintain data diversity and balance effectively.\n",
    "\n",
    "- Class weighting: Alternatively, or in addition, use class-weighted loss functions to penalize misclassification of minority classes more heavily without changing data distribution.\n",
    "\n",
    "It's recommended to experiment with these approaches and their parameters, aiming for a balanced representation that helps the model learn all classes well and stabilizes performance metrics like mAP during fine-tuning.\n",
    "\n",
    "\n",
    "### how to apply class weight in transformers\n",
    "To apply class weights in fine-tuning transformers with PyTorch, you typically define a weighted loss function that penalizes misclassification of underrepresented classes more heavily. Here's how you can do it:\n",
    "\n",
    "### How to Apply Class Weights in Transformers (PyTorch)\n",
    "Calculate class weights: Create a tensor of class weights inversely proportional to class frequencies.\n",
    "\n",
    "- Use weighted loss function: Pass the class weights to PyTorch's nn.CrossEntropyLoss(weight=class_weights). This makes the loss sensitive to class imbalance.\n",
    "\n",
    "Integrate with Hugging Face Trainer:\n",
    "\n",
    "Subclass the Trainer class.\n",
    "\n",
    "Override the compute_loss method to apply the weighted loss function instead of the default one.\n",
    "\n",
    "Example Code\n",
    "python\n",
    "import torch\n",
    "from torch import nn\n",
    "from transformers import Trainer\n",
    "\n",
    "# Define class weights as a torch tensor, for example:\n",
    "class_weights = torch.tensor([0.1, 0.3, 0.6], device='cuda')  # Replace with actual weights\n",
    "\n",
    "# Custom Trainer to use weighted loss\n",
    "```\n",
    "class CustomTrainer(Trainer):\n",
    "    def compute_loss(self, model, inputs, return_outputs=False):\n",
    "        labels = inputs.get(\"labels\")\n",
    "        outputs = model(**inputs)\n",
    "        logits = outputs.get('logits')\n",
    "        loss_fct = nn.CrossEntropyLoss(weight=class_weights)\n",
    "        loss = loss_fct(logits.view(-1, model.config.num_labels), labels.view(-1))\n",
    "        return (loss, outputs) if return_outputs else loss\n",
    "```\n",
    "\n",
    "This approach lets the transformer model focus more on minority classes by increasing their contribution to the loss during training. The class weights tensor should be calculated based on class frequencies from your dataset.\n",
    "\n",
    "This method is the standard way to apply class weights during transformer fine-tuning in PyTorch and Hugging Face Trainer.\n",
    "\n"
   ]
  },
  {
   "cell_type": "code",
   "execution_count": 54,
   "id": "ea413c3c",
   "metadata": {
    "execution": {
     "iopub.execute_input": "2025-09-30T15:40:44.494396Z",
     "iopub.status.busy": "2025-09-30T15:40:44.494099Z",
     "iopub.status.idle": "2025-09-30T15:40:44.498662Z",
     "shell.execute_reply": "2025-09-30T15:40:44.498131Z"
    },
    "papermill": {
     "duration": 0.03448,
     "end_time": "2025-09-30T15:40:44.499624",
     "exception": false,
     "start_time": "2025-09-30T15:40:44.465144",
     "status": "completed"
    },
    "tags": []
   },
   "outputs": [
    {
     "data": {
      "text/plain": [
       "2960"
      ]
     },
     "execution_count": 54,
     "metadata": {},
     "output_type": "execute_result"
    }
   ],
   "source": [
    "sampleValue =  14802 //5\n",
    "sampleValue"
   ]
  },
  {
   "cell_type": "code",
   "execution_count": 55,
   "id": "92f9badb",
   "metadata": {
    "execution": {
     "iopub.execute_input": "2025-09-30T15:40:44.557465Z",
     "iopub.status.busy": "2025-09-30T15:40:44.557250Z",
     "iopub.status.idle": "2025-09-30T15:40:44.562421Z",
     "shell.execute_reply": "2025-09-30T15:40:44.561883Z"
    },
    "papermill": {
     "duration": 0.035304,
     "end_time": "2025-09-30T15:40:44.563441",
     "exception": false,
     "start_time": "2025-09-30T15:40:44.528137",
     "status": "completed"
    },
    "tags": []
   },
   "outputs": [
    {
     "data": {
      "text/plain": [
       "3"
      ]
     },
     "execution_count": 55,
     "metadata": {},
     "output_type": "execute_result"
    }
   ],
   "source": [
    " # median value = 50   \n",
    "(trainDF[\"label\"].value_counts() > sampleValue).sum() # number of class > sample value counts"
   ]
  },
  {
   "cell_type": "markdown",
   "id": "7d26efc7",
   "metadata": {
    "papermill": {
     "duration": 0.027895,
     "end_time": "2025-09-30T15:40:44.621113",
     "exception": false,
     "start_time": "2025-09-30T15:40:44.593218",
     "status": "completed"
    },
    "tags": []
   },
   "source": [
    "## Use Mix Undersample and Oversample Improve performance"
   ]
  },
  {
   "cell_type": "code",
   "execution_count": 56,
   "id": "1eaea80f",
   "metadata": {
    "execution": {
     "iopub.execute_input": "2025-09-30T15:40:44.678529Z",
     "iopub.status.busy": "2025-09-30T15:40:44.677836Z",
     "iopub.status.idle": "2025-09-30T15:40:44.681892Z",
     "shell.execute_reply": "2025-09-30T15:40:44.681362Z"
    },
    "papermill": {
     "duration": 0.03368,
     "end_time": "2025-09-30T15:40:44.683013",
     "exception": false,
     "start_time": "2025-09-30T15:40:44.649333",
     "status": "completed"
    },
    "tags": []
   },
   "outputs": [],
   "source": [
    "# Assume df is your DataFrame and 'label' is your class column\n",
    "desired_count = sampleValue #50\n",
    "def resample_group_mix(group):\n",
    "    '''\n",
    "    Resample with hybird undersample and Oversample\n",
    "    '''\n",
    "    n = len(group)\n",
    "    if n > desired_count:\n",
    "        # Undersample if more than desired_count\n",
    "        return group.sample(n=desired_count, random_state=42)\n",
    "    elif n < desired_count:\n",
    "        # Oversample with replacement if less than desired_count\n",
    "        return group.sample(n=desired_count, replace=True, random_state=42)\n",
    "    else:\n",
    "        # Keep as is if exactly desired_count\n",
    "        return group"
   ]
  },
  {
   "cell_type": "code",
   "execution_count": 57,
   "id": "1a90784d",
   "metadata": {
    "execution": {
     "iopub.execute_input": "2025-09-30T15:40:44.741845Z",
     "iopub.status.busy": "2025-09-30T15:40:44.741663Z",
     "iopub.status.idle": "2025-09-30T15:40:44.745528Z",
     "shell.execute_reply": "2025-09-30T15:40:44.744994Z"
    },
    "papermill": {
     "duration": 0.035356,
     "end_time": "2025-09-30T15:40:44.746515",
     "exception": false,
     "start_time": "2025-09-30T15:40:44.711159",
     "status": "completed"
    },
    "tags": []
   },
   "outputs": [],
   "source": [
    "# conditional oversample \n",
    "oversample_count = 1000\n",
    "def resample_group_oversample(group):\n",
    "    '''\n",
    "    Resample with condition Oversample , keep major\n",
    "    '''\n",
    "    n = len(group)\n",
    "    if n < oversample_count:\n",
    "        # Oversample with replacement if less than desired_count\n",
    "        return group.sample(n=oversample_count, replace=True, random_state=42)\n",
    "    else:\n",
    "        # Keep as is if exactly desired_count\n",
    "        return group\n",
    "    "
   ]
  },
  {
   "cell_type": "code",
   "execution_count": 58,
   "id": "7a9ff0b3",
   "metadata": {
    "execution": {
     "iopub.execute_input": "2025-09-30T15:40:44.803481Z",
     "iopub.status.busy": "2025-09-30T15:40:44.803280Z",
     "iopub.status.idle": "2025-09-30T15:40:44.857620Z",
     "shell.execute_reply": "2025-09-30T15:40:44.856582Z"
    },
    "papermill": {
     "duration": 0.084188,
     "end_time": "2025-09-30T15:40:44.858750",
     "exception": false,
     "start_time": "2025-09-30T15:40:44.774562",
     "status": "completed"
    },
    "tags": []
   },
   "outputs": [
    {
     "name": "stdout",
     "output_type": "stream",
     "text": [
      "label\n",
      "37    14802\n",
      "36     6542\n",
      "64     5265\n",
      "13     1446\n",
      "47     1000\n",
      "      ...  \n",
      "28     1000\n",
      "29     1000\n",
      "30     1000\n",
      "31     1000\n",
      "16     1000\n",
      "Name: count, Length: 65, dtype: int64\n"
     ]
    },
    {
     "name": "stderr",
     "output_type": "stream",
     "text": [
      "/tmp/ipykernel_19/4246594355.py:5: DeprecationWarning: DataFrameGroupBy.apply operated on the grouping columns. This behavior is deprecated, and in a future version of pandas the grouping columns will be excluded from the operation. Either pass `include_groups=False` to exclude the groupings or explicitly select the grouping columns after groupby to silence this warning.\n",
      "  trainDF_balanced = trainDF.groupby('label', group_keys=False).apply(resample_group_oversample)\n"
     ]
    }
   ],
   "source": [
    "#\n",
    "\n",
    "# Group by class and sample min(desired_count, current_count) from each class\n",
    "# trainDF_balanced = trainDF.groupby('label', group_keys=False).apply(lambda x: x.sample(n=min(len(x), desired_count), random_state=42))\n",
    "trainDF_balanced = trainDF.groupby('label', group_keys=False).apply(resample_group_oversample)\n",
    "\n",
    "print(trainDF_balanced['label'].value_counts())"
   ]
  },
  {
   "cell_type": "code",
   "execution_count": 59,
   "id": "184fc077",
   "metadata": {
    "execution": {
     "iopub.execute_input": "2025-09-30T15:40:44.917013Z",
     "iopub.status.busy": "2025-09-30T15:40:44.916575Z",
     "iopub.status.idle": "2025-09-30T15:40:44.922452Z",
     "shell.execute_reply": "2025-09-30T15:40:44.921748Z"
    },
    "papermill": {
     "duration": 0.035959,
     "end_time": "2025-09-30T15:40:44.923564",
     "exception": false,
     "start_time": "2025-09-30T15:40:44.887605",
     "status": "completed"
    },
    "tags": []
   },
   "outputs": [
    {
     "data": {
      "text/plain": [
       "label\n",
       "37    14802\n",
       "36     6542\n",
       "64     5265\n",
       "13     1446\n",
       "47     1000\n",
       "46     1000\n",
       "45     1000\n",
       "44     1000\n",
       "43     1000\n",
       "42     1000\n",
       "40     1000\n",
       "39     1000\n",
       "38     1000\n",
       "35     1000\n",
       "34     1000\n",
       "33     1000\n",
       "41     1000\n",
       "49     1000\n",
       "50     1000\n",
       "51     1000\n",
       "52     1000\n",
       "53     1000\n",
       "54     1000\n",
       "55     1000\n",
       "56     1000\n",
       "57     1000\n",
       "58     1000\n",
       "59     1000\n",
       "60     1000\n",
       "61     1000\n",
       "62     1000\n",
       "63     1000\n",
       "48     1000\n",
       "0      1000\n",
       "1      1000\n",
       "2      1000\n",
       "3      1000\n",
       "4      1000\n",
       "5      1000\n",
       "6      1000\n",
       "7      1000\n",
       "8      1000\n",
       "9      1000\n",
       "10     1000\n",
       "11     1000\n",
       "12     1000\n",
       "14     1000\n",
       "15     1000\n",
       "32     1000\n",
       "17     1000\n",
       "18     1000\n",
       "19     1000\n",
       "20     1000\n",
       "21     1000\n",
       "22     1000\n",
       "Name: count, dtype: int64"
      ]
     },
     "execution_count": 59,
     "metadata": {},
     "output_type": "execute_result"
    }
   ],
   "source": [
    "trainDF_balanced['label'].value_counts()[:55]"
   ]
  },
  {
   "cell_type": "code",
   "execution_count": 60,
   "id": "4b0a85fc",
   "metadata": {
    "execution": {
     "iopub.execute_input": "2025-09-30T15:40:44.981537Z",
     "iopub.status.busy": "2025-09-30T15:40:44.981040Z",
     "iopub.status.idle": "2025-09-30T15:40:45.418234Z",
     "shell.execute_reply": "2025-09-30T15:40:45.417517Z"
    },
    "papermill": {
     "duration": 0.467288,
     "end_time": "2025-09-30T15:40:45.419486",
     "exception": false,
     "start_time": "2025-09-30T15:40:44.952198",
     "status": "completed"
    },
    "tags": []
   },
   "outputs": [
    {
     "data": {
      "image/png": "[encoded data removed]",
      "text/plain": [
       "<Figure size 640x480 with 1 Axes>"
      ]
     },
     "metadata": {},
     "output_type": "display_data"
    }
   ],
   "source": [
    "trainDF_balanced['label'].value_counts().plot(kind=\"bar\", title=\"Distribution Label\");"
   ]
  },
  {
   "cell_type": "code",
   "execution_count": 61,
   "id": "697974e7",
   "metadata": {
    "execution": {
     "iopub.execute_input": "2025-09-30T15:40:45.480943Z",
     "iopub.status.busy": "2025-09-30T15:40:45.480703Z",
     "iopub.status.idle": "2025-09-30T15:40:45.496215Z",
     "shell.execute_reply": "2025-09-30T15:40:45.495674Z"
    },
    "papermill": {
     "duration": 0.046716,
     "end_time": "2025-09-30T15:40:45.497365",
     "exception": false,
     "start_time": "2025-09-30T15:40:45.450649",
     "status": "completed"
    },
    "tags": []
   },
   "outputs": [],
   "source": [
    "trainDF_balanced = trainDF_balanced.reset_index(drop=True)"
   ]
  },
  {
   "cell_type": "code",
   "execution_count": 62,
   "id": "565246cd",
   "metadata": {
    "execution": {
     "iopub.execute_input": "2025-09-30T15:40:45.556789Z",
     "iopub.status.busy": "2025-09-30T15:40:45.556576Z",
     "iopub.status.idle": "2025-09-30T15:40:45.567122Z",
     "shell.execute_reply": "2025-09-30T15:40:45.566478Z"
    },
    "papermill": {
     "duration": 0.041353,
     "end_time": "2025-09-30T15:40:45.568344",
     "exception": false,
     "start_time": "2025-09-30T15:40:45.526991",
     "status": "completed"
    },
    "tags": []
   },
   "outputs": [
    {
     "data": {
      "text/html": [
       "<div>\n",
       "<style scoped>\n",
       "    .dataframe tbody tr th:only-of-type {\n",
       "        vertical-align: middle;\n",
       "    }\n",
       "\n",
       "    .dataframe tbody tr th {\n",
       "        vertical-align: top;\n",
       "    }\n",
       "\n",
       "    .dataframe thead th {\n",
       "        text-align: right;\n",
       "    }\n",
       "</style>\n",
       "<table border=\"1\" class=\"dataframe\">\n",
       "  <thead>\n",
       "    <tr style=\"text-align: right;\">\n",
       "      <th></th>\n",
       "      <th>row_id</th>\n",
       "      <th>QuestionId</th>\n",
       "      <th>QuestionText</th>\n",
       "      <th>MC_Answer</th>\n",
       "      <th>StudentExplanation</th>\n",
       "      <th>Category</th>\n",
       "      <th>Misconception</th>\n",
       "      <th>target</th>\n",
       "      <th>label</th>\n",
       "      <th>is_correct</th>\n",
       "    </tr>\n",
       "  </thead>\n",
       "  <tbody>\n",
       "    <tr>\n",
       "      <th>0</th>\n",
       "      <td>14350</td>\n",
       "      <td>31778</td>\n",
       "      <td>\\( \\frac{A}{10}=\\frac{9}{15} \\) What is the va...</td>\n",
       "      <td>\\( 9 \\)</td>\n",
       "      <td>This is because youu can time both 10 and 15 t...</td>\n",
       "      <td>False_Correct</td>\n",
       "      <td>NA</td>\n",
       "      <td>False_Correct:NA</td>\n",
       "      <td>0</td>\n",
       "      <td>0</td>\n",
       "    </tr>\n",
       "    <tr>\n",
       "      <th>1</th>\n",
       "      <td>25280</td>\n",
       "      <td>33472</td>\n",
       "      <td>\\( \\frac{1}{3}+\\frac{2}{5}= \\)</td>\n",
       "      <td>\\( \\frac{11}{30} \\)</td>\n",
       "      <td>i know this because a common denominator is 15...</td>\n",
       "      <td>False_Correct</td>\n",
       "      <td>NA</td>\n",
       "      <td>False_Correct:NA</td>\n",
       "      <td>0</td>\n",
       "      <td>0</td>\n",
       "    </tr>\n",
       "    <tr>\n",
       "      <th>2</th>\n",
       "      <td>11228</td>\n",
       "      <td>31778</td>\n",
       "      <td>\\( \\frac{A}{10}=\\frac{9}{15} \\) What is the va...</td>\n",
       "      <td>\\( 3 \\)</td>\n",
       "      <td>i divided by 3 and timesed by 2</td>\n",
       "      <td>False_Correct</td>\n",
       "      <td>NA</td>\n",
       "      <td>False_Correct:NA</td>\n",
       "      <td>0</td>\n",
       "      <td>0</td>\n",
       "    </tr>\n",
       "    <tr>\n",
       "      <th>3</th>\n",
       "      <td>2945</td>\n",
       "      <td>31772</td>\n",
       "      <td>What fraction of the shape is not shaded? Give...</td>\n",
       "      <td>\\( \\frac{3}{9} \\)</td>\n",
       "      <td>3 outt of 9 are not-shaded. also 1/3</td>\n",
       "      <td>False_Correct</td>\n",
       "      <td>NA</td>\n",
       "      <td>False_Correct:NA</td>\n",
       "      <td>0</td>\n",
       "      <td>0</td>\n",
       "    </tr>\n",
       "    <tr>\n",
       "      <th>4</th>\n",
       "      <td>16143</td>\n",
       "      <td>32829</td>\n",
       "      <td>\\( 2 y=24 \\) What is the value of \\( y \\) ?</td>\n",
       "      <td>\\( 22 \\)</td>\n",
       "      <td>24%2=12\\n12  so the answer is 12 because the 2...</td>\n",
       "      <td>False_Correct</td>\n",
       "      <td>NA</td>\n",
       "      <td>False_Correct:NA</td>\n",
       "      <td>0</td>\n",
       "      <td>0</td>\n",
       "    </tr>\n",
       "    <tr>\n",
       "      <th>...</th>\n",
       "      <td>...</td>\n",
       "      <td>...</td>\n",
       "      <td>...</td>\n",
       "      <td>...</td>\n",
       "      <td>...</td>\n",
       "      <td>...</td>\n",
       "      <td>...</td>\n",
       "      <td>...</td>\n",
       "      <td>...</td>\n",
       "      <td>...</td>\n",
       "    </tr>\n",
       "    <tr>\n",
       "      <th>89050</th>\n",
       "      <td>36262</td>\n",
       "      <td>109465</td>\n",
       "      <td>The probability of an event occurring is \\( 0....</td>\n",
       "      <td>Likely</td>\n",
       "      <td>this is because a 9 out of 10 chance means tha...</td>\n",
       "      <td>True_Neither</td>\n",
       "      <td>NA</td>\n",
       "      <td>True_Neither:NA</td>\n",
       "      <td>64</td>\n",
       "      <td>1</td>\n",
       "    </tr>\n",
       "    <tr>\n",
       "      <th>89051</th>\n",
       "      <td>36271</td>\n",
       "      <td>109465</td>\n",
       "      <td>The probability of an event occurring is \\( 0....</td>\n",
       "      <td>Likely</td>\n",
       "      <td>this is your answer because 1 would be certain...</td>\n",
       "      <td>True_Neither</td>\n",
       "      <td>NA</td>\n",
       "      <td>True_Neither:NA</td>\n",
       "      <td>64</td>\n",
       "      <td>1</td>\n",
       "    </tr>\n",
       "    <tr>\n",
       "      <th>89052</th>\n",
       "      <td>36274</td>\n",
       "      <td>109465</td>\n",
       "      <td>The probability of an event occurring is \\( 0....</td>\n",
       "      <td>Likely</td>\n",
       "      <td>u can use the process of elimination because c...</td>\n",
       "      <td>True_Neither</td>\n",
       "      <td>NA</td>\n",
       "      <td>True_Neither:NA</td>\n",
       "      <td>64</td>\n",
       "      <td>1</td>\n",
       "    </tr>\n",
       "    <tr>\n",
       "      <th>89053</th>\n",
       "      <td>36276</td>\n",
       "      <td>109465</td>\n",
       "      <td>The probability of an event occurring is \\( 0....</td>\n",
       "      <td>Likely</td>\n",
       "      <td>very high probability however it's not certain</td>\n",
       "      <td>True_Neither</td>\n",
       "      <td>NA</td>\n",
       "      <td>True_Neither:NA</td>\n",
       "      <td>64</td>\n",
       "      <td>1</td>\n",
       "    </tr>\n",
       "    <tr>\n",
       "      <th>89054</th>\n",
       "      <td>36277</td>\n",
       "      <td>109465</td>\n",
       "      <td>The probability of an event occurring is \\( 0....</td>\n",
       "      <td>Likely</td>\n",
       "      <td>we should use likely because we dont know for ...</td>\n",
       "      <td>True_Neither</td>\n",
       "      <td>NA</td>\n",
       "      <td>True_Neither:NA</td>\n",
       "      <td>64</td>\n",
       "      <td>1</td>\n",
       "    </tr>\n",
       "  </tbody>\n",
       "</table>\n",
       "<p>89055 rows × 10 columns</p>\n",
       "</div>"
      ],
      "text/plain": [
       "       row_id  QuestionId                                       QuestionText  \\\n",
       "0       14350       31778  \\( \\frac{A}{10}=\\frac{9}{15} \\) What is the va...   \n",
       "1       25280       33472                     \\( \\frac{1}{3}+\\frac{2}{5}= \\)   \n",
       "2       11228       31778  \\( \\frac{A}{10}=\\frac{9}{15} \\) What is the va...   \n",
       "3        2945       31772  What fraction of the shape is not shaded? Give...   \n",
       "4       16143       32829        \\( 2 y=24 \\) What is the value of \\( y \\) ?   \n",
       "...       ...         ...                                                ...   \n",
       "89050   36262      109465  The probability of an event occurring is \\( 0....   \n",
       "89051   36271      109465  The probability of an event occurring is \\( 0....   \n",
       "89052   36274      109465  The probability of an event occurring is \\( 0....   \n",
       "89053   36276      109465  The probability of an event occurring is \\( 0....   \n",
       "89054   36277      109465  The probability of an event occurring is \\( 0....   \n",
       "\n",
       "                 MC_Answer                                 StudentExplanation  \\\n",
       "0                  \\( 9 \\)  This is because youu can time both 10 and 15 t...   \n",
       "1      \\( \\frac{11}{30} \\)  i know this because a common denominator is 15...   \n",
       "2                  \\( 3 \\)                    i divided by 3 and timesed by 2   \n",
       "3        \\( \\frac{3}{9} \\)               3 outt of 9 are not-shaded. also 1/3   \n",
       "4                 \\( 22 \\)  24%2=12\\n12  so the answer is 12 because the 2...   \n",
       "...                    ...                                                ...   \n",
       "89050               Likely  this is because a 9 out of 10 chance means tha...   \n",
       "89051               Likely  this is your answer because 1 would be certain...   \n",
       "89052               Likely  u can use the process of elimination because c...   \n",
       "89053               Likely     very high probability however it's not certain   \n",
       "89054               Likely  we should use likely because we dont know for ...   \n",
       "\n",
       "            Category Misconception            target  label  is_correct  \n",
       "0      False_Correct            NA  False_Correct:NA      0           0  \n",
       "1      False_Correct            NA  False_Correct:NA      0           0  \n",
       "2      False_Correct            NA  False_Correct:NA      0           0  \n",
       "3      False_Correct            NA  False_Correct:NA      0           0  \n",
       "4      False_Correct            NA  False_Correct:NA      0           0  \n",
       "...              ...           ...               ...    ...         ...  \n",
       "89050   True_Neither            NA   True_Neither:NA     64           1  \n",
       "89051   True_Neither            NA   True_Neither:NA     64           1  \n",
       "89052   True_Neither            NA   True_Neither:NA     64           1  \n",
       "89053   True_Neither            NA   True_Neither:NA     64           1  \n",
       "89054   True_Neither            NA   True_Neither:NA     64           1  \n",
       "\n",
       "[89055 rows x 10 columns]"
      ]
     },
     "execution_count": 62,
     "metadata": {},
     "output_type": "execute_result"
    }
   ],
   "source": [
    "trainDF_balanced"
   ]
  },
  {
   "cell_type": "code",
   "execution_count": 63,
   "id": "7ef06ae7",
   "metadata": {
    "execution": {
     "iopub.execute_input": "2025-09-30T15:40:45.629177Z",
     "iopub.status.busy": "2025-09-30T15:40:45.628919Z",
     "iopub.status.idle": "2025-09-30T15:40:45.658451Z",
     "shell.execute_reply": "2025-09-30T15:40:45.657850Z"
    },
    "papermill": {
     "duration": 0.060247,
     "end_time": "2025-09-30T15:40:45.659534",
     "exception": false,
     "start_time": "2025-09-30T15:40:45.599287",
     "status": "completed"
    },
    "tags": []
   },
   "outputs": [
    {
     "data": {
      "text/plain": [
       "row_id                0\n",
       "QuestionId            0\n",
       "QuestionText          0\n",
       "MC_Answer             0\n",
       "StudentExplanation    0\n",
       "Category              0\n",
       "Misconception         0\n",
       "target                0\n",
       "label                 0\n",
       "is_correct            0\n",
       "dtype: int64"
      ]
     },
     "execution_count": 63,
     "metadata": {},
     "output_type": "execute_result"
    }
   ],
   "source": [
    "trainDF_balanced.isnull().sum() # null checking"
   ]
  },
  {
   "cell_type": "code",
   "execution_count": 64,
   "id": "c8cebc90",
   "metadata": {
    "execution": {
     "iopub.execute_input": "2025-09-30T15:40:45.719260Z",
     "iopub.status.busy": "2025-09-30T15:40:45.719066Z",
     "iopub.status.idle": "2025-09-30T15:40:45.721760Z",
     "shell.execute_reply": "2025-09-30T15:40:45.721269Z"
    },
    "papermill": {
     "duration": 0.03341,
     "end_time": "2025-09-30T15:40:45.722739",
     "exception": false,
     "start_time": "2025-09-30T15:40:45.689329",
     "status": "completed"
    },
    "tags": []
   },
   "outputs": [],
   "source": [
    "# !pip uninstall protobuf\n",
    "# !pip install protobuf==3.20.3"
   ]
  },
  {
   "cell_type": "markdown",
   "id": "757e1e23",
   "metadata": {
    "papermill": {
     "duration": 0.028787,
     "end_time": "2025-09-30T15:40:45.782292",
     "exception": false,
     "start_time": "2025-09-30T15:40:45.753505",
     "status": "completed"
    },
    "tags": []
   },
   "source": [
    "## LLM inital"
   ]
  },
  {
   "cell_type": "code",
   "execution_count": 65,
   "id": "7ac13c47",
   "metadata": {
    "execution": {
     "iopub.execute_input": "2025-09-30T15:40:45.840756Z",
     "iopub.status.busy": "2025-09-30T15:40:45.840578Z",
     "iopub.status.idle": "2025-09-30T15:40:45.844984Z",
     "shell.execute_reply": "2025-09-30T15:40:45.844482Z"
    },
    "papermill": {
     "duration": 0.034862,
     "end_time": "2025-09-30T15:40:45.846076",
     "exception": false,
     "start_time": "2025-09-30T15:40:45.811214",
     "status": "completed"
    },
    "tags": []
   },
   "outputs": [],
   "source": [
    "bnbConfig = BitsAndBytesConfig(\n",
    "            load_in_4bit=True,\n",
    "            bnb_4bit_quant_type=\"nf4\",\n",
    "            bnb_4bit_compute_dtype=torch.bfloat16,\n",
    "            bnb_4bit_use_double_quant=True ) # Activate netsed quantization for 4bit base "
   ]
  },
  {
   "cell_type": "code",
   "execution_count": 66,
   "id": "7552b94d",
   "metadata": {
    "execution": {
     "iopub.execute_input": "2025-09-30T15:40:45.904489Z",
     "iopub.status.busy": "2025-09-30T15:40:45.904126Z",
     "iopub.status.idle": "2025-09-30T15:40:45.906962Z",
     "shell.execute_reply": "2025-09-30T15:40:45.906409Z"
    },
    "papermill": {
     "duration": 0.033018,
     "end_time": "2025-09-30T15:40:45.907875",
     "exception": false,
     "start_time": "2025-09-30T15:40:45.874857",
     "status": "completed"
    },
    "tags": []
   },
   "outputs": [],
   "source": [
    "# !pip install triton==3.4.0\n",
    "# !pip install triton==3.0.0\n",
    "# !pip install protobuf==6.30.2"
   ]
  },
  {
   "cell_type": "code",
   "execution_count": null,
   "id": "3119c2f9",
   "metadata": {
    "papermill": {
     "duration": 0.029214,
     "end_time": "2025-09-30T15:40:45.966071",
     "exception": false,
     "start_time": "2025-09-30T15:40:45.936857",
     "status": "completed"
    },
    "tags": []
   },
   "outputs": [],
   "source": []
  },
  {
   "cell_type": "markdown",
   "id": "66cd1e2b",
   "metadata": {
    "papermill": {
     "duration": 0.028783,
     "end_time": "2025-09-30T15:40:46.023763",
     "exception": false,
     "start_time": "2025-09-30T15:40:45.994980",
     "status": "completed"
    },
    "tags": []
   },
   "source": [
    "### Load LLM Model and Tokenizer"
   ]
  },
  {
   "cell_type": "code",
   "execution_count": 67,
   "id": "dc8d1868",
   "metadata": {
    "execution": {
     "iopub.execute_input": "2025-09-30T15:40:46.082651Z",
     "iopub.status.busy": "2025-09-30T15:40:46.082267Z",
     "iopub.status.idle": "2025-09-30T15:40:49.396194Z",
     "shell.execute_reply": "2025-09-30T15:40:49.395585Z"
    },
    "papermill": {
     "duration": 3.344856,
     "end_time": "2025-09-30T15:40:49.397544",
     "exception": false,
     "start_time": "2025-09-30T15:40:46.052688",
     "status": "completed"
    },
    "tags": []
   },
   "outputs": [],
   "source": [
    "clearMemory()"
   ]
  },
  {
   "cell_type": "code",
   "execution_count": 68,
   "id": "383980d5",
   "metadata": {
    "execution": {
     "iopub.execute_input": "2025-09-30T15:40:49.463878Z",
     "iopub.status.busy": "2025-09-30T15:40:49.463665Z",
     "iopub.status.idle": "2025-09-30T15:40:49.468257Z",
     "shell.execute_reply": "2025-09-30T15:40:49.467546Z"
    },
    "papermill": {
     "duration": 0.040669,
     "end_time": "2025-09-30T15:40:49.469380",
     "exception": false,
     "start_time": "2025-09-30T15:40:49.428711",
     "status": "completed"
    },
    "tags": []
   },
   "outputs": [
    {
     "data": {
      "text/plain": [
       "'0.11.4'"
      ]
     },
     "execution_count": 68,
     "metadata": {},
     "output_type": "execute_result"
    }
   ],
   "source": [
    "import trl\n",
    "trl.__version__"
   ]
  },
  {
   "cell_type": "code",
   "execution_count": 69,
   "id": "53eef511",
   "metadata": {
    "execution": {
     "iopub.execute_input": "2025-09-30T15:40:49.527971Z",
     "iopub.status.busy": "2025-09-30T15:40:49.527753Z",
     "iopub.status.idle": "2025-09-30T15:40:49.532154Z",
     "shell.execute_reply": "2025-09-30T15:40:49.531384Z"
    },
    "papermill": {
     "duration": 0.03509,
     "end_time": "2025-09-30T15:40:49.533467",
     "exception": false,
     "start_time": "2025-09-30T15:40:49.498377",
     "status": "completed"
    },
    "tags": []
   },
   "outputs": [
    {
     "data": {
      "text/plain": [
       "'3.2.0'"
      ]
     },
     "execution_count": 69,
     "metadata": {},
     "output_type": "execute_result"
    }
   ],
   "source": [
    "\n",
    "\n",
    "import triton\n",
    "\n",
    "triton.__version__"
   ]
  },
  {
   "cell_type": "code",
   "execution_count": 70,
   "id": "11933492",
   "metadata": {
    "execution": {
     "iopub.execute_input": "2025-09-30T15:40:49.597977Z",
     "iopub.status.busy": "2025-09-30T15:40:49.597737Z",
     "iopub.status.idle": "2025-09-30T15:40:49.600775Z",
     "shell.execute_reply": "2025-09-30T15:40:49.600172Z"
    },
    "papermill": {
     "duration": 0.034258,
     "end_time": "2025-09-30T15:40:49.601878",
     "exception": false,
     "start_time": "2025-09-30T15:40:49.567620",
     "status": "completed"
    },
    "scrolled": true,
    "tags": []
   },
   "outputs": [],
   "source": [
    "# !pip install bitsandbytes==0.46.1"
   ]
  },
  {
   "cell_type": "code",
   "execution_count": 71,
   "id": "1a009fc0",
   "metadata": {
    "execution": {
     "iopub.execute_input": "2025-09-30T15:40:49.660907Z",
     "iopub.status.busy": "2025-09-30T15:40:49.660729Z",
     "iopub.status.idle": "2025-09-30T15:40:50.546078Z",
     "shell.execute_reply": "2025-09-30T15:40:50.545405Z"
    },
    "papermill": {
     "duration": 0.916082,
     "end_time": "2025-09-30T15:40:50.547417",
     "exception": false,
     "start_time": "2025-09-30T15:40:49.631335",
     "status": "completed"
    },
    "tags": []
   },
   "outputs": [],
   "source": [
    "import bitsandbytes\n",
    "# bitsandbytes.__version__"
   ]
  },
  {
   "cell_type": "code",
   "execution_count": 72,
   "id": "e5ae6317",
   "metadata": {
    "execution": {
     "iopub.execute_input": "2025-09-30T15:40:50.607676Z",
     "iopub.status.busy": "2025-09-30T15:40:50.607447Z",
     "iopub.status.idle": "2025-09-30T15:40:50.611732Z",
     "shell.execute_reply": "2025-09-30T15:40:50.610958Z"
    },
    "papermill": {
     "duration": 0.034783,
     "end_time": "2025-09-30T15:40:50.612787",
     "exception": false,
     "start_time": "2025-09-30T15:40:50.578004",
     "status": "completed"
    },
    "tags": []
   },
   "outputs": [
    {
     "name": "stdout",
     "output_type": "stream",
     "text": [
      "Label to ID mapping: {'False_Correct:NA': 0, 'False_Misconception:Adding_across': 1, 'False_Misconception:Adding_terms': 2, 'False_Misconception:Additive': 3, 'False_Misconception:Base_rate': 4, 'False_Misconception:Certainty': 5, 'False_Misconception:Definition': 6, 'False_Misconception:Denominator-only_change': 7, 'False_Misconception:Division': 8, 'False_Misconception:Duplication': 9, 'False_Misconception:Firstterm': 10, 'False_Misconception:FlipChange': 11, 'False_Misconception:Ignores_zeroes': 12, 'False_Misconception:Incomplete': 13, 'False_Misconception:Incorrect_equivalent_fraction_addition': 14, 'False_Misconception:Interior': 15, 'False_Misconception:Inverse_operation': 16, 'False_Misconception:Inversion': 17, 'False_Misconception:Irrelevant': 18, 'False_Misconception:Longer_is_bigger': 19, 'False_Misconception:Mult': 20, 'False_Misconception:Multiplying_by_4': 21, 'False_Misconception:Not_variable': 22, 'False_Misconception:Positive': 23, 'False_Misconception:Scale': 24, 'False_Misconception:Shorter_is_bigger': 25, 'False_Misconception:Subtraction': 26, 'False_Misconception:SwapDividend': 27, 'False_Misconception:Tacking': 28, 'False_Misconception:Unknowable': 29, 'False_Misconception:WNB': 30, 'False_Misconception:Whole_numbers_larger': 31, 'False_Misconception:Wrong_Fraction': 32, 'False_Misconception:Wrong_Operation': 33, 'False_Misconception:Wrong_fraction': 34, 'False_Misconception:Wrong_term': 35, 'False_Neither:NA': 36, 'True_Correct:NA': 37, 'True_Misconception:Adding_across': 38, 'True_Misconception:Additive': 39, 'True_Misconception:Base_rate': 40, 'True_Misconception:Definition': 41, 'True_Misconception:Denominator-only_change': 42, 'True_Misconception:Division': 43, 'True_Misconception:Duplication': 44, 'True_Misconception:Firstterm': 45, 'True_Misconception:FlipChange': 46, 'True_Misconception:Incomplete': 47, 'True_Misconception:Incorrect_equivalent_fraction_addition': 48, 'True_Misconception:Inversion': 49, 'True_Misconception:Irrelevant': 50, 'True_Misconception:Longer_is_bigger': 51, 'True_Misconception:Mult': 52, 'True_Misconception:Multiplying_by_4': 53, 'True_Misconception:Not_variable': 54, 'True_Misconception:Positive': 55, 'True_Misconception:Shorter_is_bigger': 56, 'True_Misconception:Subtraction': 57, 'True_Misconception:SwapDividend': 58, 'True_Misconception:Tacking': 59, 'True_Misconception:WNB': 60, 'True_Misconception:Whole_numbers_larger': 61, 'True_Misconception:Wrong_fraction': 62, 'True_Misconception:Wrong_term': 63, 'True_Neither:NA': 64}\n"
     ]
    }
   ],
   "source": [
    "# Mapping from label to ID (label2id)\n",
    "label2id = {label: i for i, label in enumerate(le.classes_)}\n",
    "print(f\"Label to ID mapping: {label2id}\")"
   ]
  },
  {
   "cell_type": "code",
   "execution_count": 73,
   "id": "83ca9da9",
   "metadata": {
    "execution": {
     "iopub.execute_input": "2025-09-30T15:40:50.672116Z",
     "iopub.status.busy": "2025-09-30T15:40:50.671645Z",
     "iopub.status.idle": "2025-09-30T15:40:50.675748Z",
     "shell.execute_reply": "2025-09-30T15:40:50.675048Z"
    },
    "papermill": {
     "duration": 0.034586,
     "end_time": "2025-09-30T15:40:50.676798",
     "exception": false,
     "start_time": "2025-09-30T15:40:50.642212",
     "status": "completed"
    },
    "tags": []
   },
   "outputs": [
    {
     "name": "stdout",
     "output_type": "stream",
     "text": [
      "ID to label mapping: {0: 'False_Correct:NA', 1: 'False_Misconception:Adding_across', 2: 'False_Misconception:Adding_terms', 3: 'False_Misconception:Additive', 4: 'False_Misconception:Base_rate', 5: 'False_Misconception:Certainty', 6: 'False_Misconception:Definition', 7: 'False_Misconception:Denominator-only_change', 8: 'False_Misconception:Division', 9: 'False_Misconception:Duplication', 10: 'False_Misconception:Firstterm', 11: 'False_Misconception:FlipChange', 12: 'False_Misconception:Ignores_zeroes', 13: 'False_Misconception:Incomplete', 14: 'False_Misconception:Incorrect_equivalent_fraction_addition', 15: 'False_Misconception:Interior', 16: 'False_Misconception:Inverse_operation', 17: 'False_Misconception:Inversion', 18: 'False_Misconception:Irrelevant', 19: 'False_Misconception:Longer_is_bigger', 20: 'False_Misconception:Mult', 21: 'False_Misconception:Multiplying_by_4', 22: 'False_Misconception:Not_variable', 23: 'False_Misconception:Positive', 24: 'False_Misconception:Scale', 25: 'False_Misconception:Shorter_is_bigger', 26: 'False_Misconception:Subtraction', 27: 'False_Misconception:SwapDividend', 28: 'False_Misconception:Tacking', 29: 'False_Misconception:Unknowable', 30: 'False_Misconception:WNB', 31: 'False_Misconception:Whole_numbers_larger', 32: 'False_Misconception:Wrong_Fraction', 33: 'False_Misconception:Wrong_Operation', 34: 'False_Misconception:Wrong_fraction', 35: 'False_Misconception:Wrong_term', 36: 'False_Neither:NA', 37: 'True_Correct:NA', 38: 'True_Misconception:Adding_across', 39: 'True_Misconception:Additive', 40: 'True_Misconception:Base_rate', 41: 'True_Misconception:Definition', 42: 'True_Misconception:Denominator-only_change', 43: 'True_Misconception:Division', 44: 'True_Misconception:Duplication', 45: 'True_Misconception:Firstterm', 46: 'True_Misconception:FlipChange', 47: 'True_Misconception:Incomplete', 48: 'True_Misconception:Incorrect_equivalent_fraction_addition', 49: 'True_Misconception:Inversion', 50: 'True_Misconception:Irrelevant', 51: 'True_Misconception:Longer_is_bigger', 52: 'True_Misconception:Mult', 53: 'True_Misconception:Multiplying_by_4', 54: 'True_Misconception:Not_variable', 55: 'True_Misconception:Positive', 56: 'True_Misconception:Shorter_is_bigger', 57: 'True_Misconception:Subtraction', 58: 'True_Misconception:SwapDividend', 59: 'True_Misconception:Tacking', 60: 'True_Misconception:WNB', 61: 'True_Misconception:Whole_numbers_larger', 62: 'True_Misconception:Wrong_fraction', 63: 'True_Misconception:Wrong_term', 64: 'True_Neither:NA'}\n"
     ]
    }
   ],
   "source": [
    "# Mapping from ID to label (id2label)\n",
    "id2label = {i: label for i, label in enumerate(le.classes_)}\n",
    "print(f\"ID to label mapping: {id2label}\")"
   ]
  },
  {
   "cell_type": "code",
   "execution_count": 74,
   "id": "6315286b",
   "metadata": {
    "execution": {
     "iopub.execute_input": "2025-09-30T15:40:50.737712Z",
     "iopub.status.busy": "2025-09-30T15:40:50.737329Z",
     "iopub.status.idle": "2025-09-30T15:41:56.427839Z",
     "shell.execute_reply": "2025-09-30T15:41:56.427063Z"
    },
    "papermill": {
     "duration": 65.722095,
     "end_time": "2025-09-30T15:41:56.429385",
     "exception": false,
     "start_time": "2025-09-30T15:40:50.707290",
     "status": "completed"
    },
    "tags": []
   },
   "outputs": [
    {
     "data": {
      "application/vnd.jupyter.widget-view+json": {
       "model_id": "81ed2d7bf72f4a9db010837900c07c97",
       "version_major": 2,
       "version_minor": 0
      },
      "text/plain": [
       "Loading checkpoint shards:   0%|          | 0/2 [00:00<?, ?it/s]"
      ]
     },
     "metadata": {},
     "output_type": "display_data"
    },
    {
     "name": "stderr",
     "output_type": "stream",
     "text": [
      "Some weights of Qwen3ForSequenceClassification were not initialized from the model checkpoint at /kaggle/input/qwen-3-reranker/transformers/4b/1 and are newly initialized: ['score.weight']\n",
      "You should probably TRAIN this model on a down-stream task to be able to use it for predictions and inference.\n"
     ]
    }
   ],
   "source": [
    "if device.type == \"cuda\":\n",
    "    model = AutoModelForSequenceClassification.from_pretrained(\n",
    "        #CFG.model2,  #CFG.model1, #CFG.model3,\n",
    "        CFG.fineTunedmodel1,\n",
    "        num_labels= nClasses,\n",
    "        id2label =id2label,\n",
    "        label2id = label2id,\n",
    "        torch_dtype=torch.bfloat16,\n",
    "        device_map=\"auto\",\n",
    "        quantization_config= bnbConfig,\n",
    "        trust_remote_code=False,\n",
    "        problem_type=\"single_label_classification\", \n",
    "    )\n",
    "\n",
    "else: \n",
    "     model = AutoModelForSequenceClassification.from_pretrained(\n",
    "        # CFG.model2,  #CFG.model1 #CFG.model3,\n",
    "        CFG.fineTunedmodel1,\n",
    "        num_labels= nClasses,\n",
    "        id2label =id2label,\n",
    "        label2id = label2id,\n",
    "        device_map=\"auto\",\n",
    "        trust_remote_code=False,\n",
    "        problem_type=\"single_label_classification\", \n",
    "    )\n",
    "\n",
    "tokenizer = AutoTokenizer.from_pretrained(CFG.model2)\n",
    "tokenizer.pad_token = tokenizer.eos_token"
   ]
  },
  {
   "cell_type": "code",
   "execution_count": 75,
   "id": "a8616332",
   "metadata": {
    "execution": {
     "iopub.execute_input": "2025-09-30T15:41:56.491529Z",
     "iopub.status.busy": "2025-09-30T15:41:56.491078Z",
     "iopub.status.idle": "2025-09-30T15:41:56.505869Z",
     "shell.execute_reply": "2025-09-30T15:41:56.505273Z"
    },
    "papermill": {
     "duration": 0.046293,
     "end_time": "2025-09-30T15:41:56.507040",
     "exception": false,
     "start_time": "2025-09-30T15:41:56.460747",
     "status": "completed"
    },
    "tags": []
   },
   "outputs": [
    {
     "data": {
      "text/plain": [
       "Qwen3ForSequenceClassification(\n",
       "  (model): Qwen3Model(\n",
       "    (embed_tokens): Embedding(151669, 2560)\n",
       "    (layers): ModuleList(\n",
       "      (0-35): 36 x Qwen3DecoderLayer(\n",
       "        (self_attn): Qwen3Attention(\n",
       "          (q_proj): lora.Linear4bit(\n",
       "            (base_layer): Linear4bit(in_features=2560, out_features=4096, bias=False)\n",
       "            (lora_dropout): ModuleDict(\n",
       "              (default): Dropout(p=0.05, inplace=False)\n",
       "            )\n",
       "            (lora_A): ModuleDict(\n",
       "              (default): Linear(in_features=2560, out_features=16, bias=False)\n",
       "            )\n",
       "            (lora_B): ModuleDict(\n",
       "              (default): Linear(in_features=16, out_features=4096, bias=False)\n",
       "            )\n",
       "            (lora_embedding_A): ParameterDict()\n",
       "            (lora_embedding_B): ParameterDict()\n",
       "            (lora_magnitude_vector): ModuleDict()\n",
       "          )\n",
       "          (k_proj): lora.Linear4bit(\n",
       "            (base_layer): Linear4bit(in_features=2560, out_features=1024, bias=False)\n",
       "            (lora_dropout): ModuleDict(\n",
       "              (default): Dropout(p=0.05, inplace=False)\n",
       "            )\n",
       "            (lora_A): ModuleDict(\n",
       "              (default): Linear(in_features=2560, out_features=16, bias=False)\n",
       "            )\n",
       "            (lora_B): ModuleDict(\n",
       "              (default): Linear(in_features=16, out_features=1024, bias=False)\n",
       "            )\n",
       "            (lora_embedding_A): ParameterDict()\n",
       "            (lora_embedding_B): ParameterDict()\n",
       "            (lora_magnitude_vector): ModuleDict()\n",
       "          )\n",
       "          (v_proj): lora.Linear4bit(\n",
       "            (base_layer): Linear4bit(in_features=2560, out_features=1024, bias=False)\n",
       "            (lora_dropout): ModuleDict(\n",
       "              (default): Dropout(p=0.05, inplace=False)\n",
       "            )\n",
       "            (lora_A): ModuleDict(\n",
       "              (default): Linear(in_features=2560, out_features=16, bias=False)\n",
       "            )\n",
       "            (lora_B): ModuleDict(\n",
       "              (default): Linear(in_features=16, out_features=1024, bias=False)\n",
       "            )\n",
       "            (lora_embedding_A): ParameterDict()\n",
       "            (lora_embedding_B): ParameterDict()\n",
       "            (lora_magnitude_vector): ModuleDict()\n",
       "          )\n",
       "          (o_proj): lora.Linear4bit(\n",
       "            (base_layer): Linear4bit(in_features=4096, out_features=2560, bias=False)\n",
       "            (lora_dropout): ModuleDict(\n",
       "              (default): Dropout(p=0.05, inplace=False)\n",
       "            )\n",
       "            (lora_A): ModuleDict(\n",
       "              (default): Linear(in_features=4096, out_features=16, bias=False)\n",
       "            )\n",
       "            (lora_B): ModuleDict(\n",
       "              (default): Linear(in_features=16, out_features=2560, bias=False)\n",
       "            )\n",
       "            (lora_embedding_A): ParameterDict()\n",
       "            (lora_embedding_B): ParameterDict()\n",
       "            (lora_magnitude_vector): ModuleDict()\n",
       "          )\n",
       "          (q_norm): Qwen3RMSNorm((128,), eps=1e-06)\n",
       "          (k_norm): Qwen3RMSNorm((128,), eps=1e-06)\n",
       "        )\n",
       "        (mlp): Qwen3MLP(\n",
       "          (gate_proj): lora.Linear4bit(\n",
       "            (base_layer): Linear4bit(in_features=2560, out_features=9728, bias=False)\n",
       "            (lora_dropout): ModuleDict(\n",
       "              (default): Dropout(p=0.05, inplace=False)\n",
       "            )\n",
       "            (lora_A): ModuleDict(\n",
       "              (default): Linear(in_features=2560, out_features=16, bias=False)\n",
       "            )\n",
       "            (lora_B): ModuleDict(\n",
       "              (default): Linear(in_features=16, out_features=9728, bias=False)\n",
       "            )\n",
       "            (lora_embedding_A): ParameterDict()\n",
       "            (lora_embedding_B): ParameterDict()\n",
       "            (lora_magnitude_vector): ModuleDict()\n",
       "          )\n",
       "          (up_proj): lora.Linear4bit(\n",
       "            (base_layer): Linear4bit(in_features=2560, out_features=9728, bias=False)\n",
       "            (lora_dropout): ModuleDict(\n",
       "              (default): Dropout(p=0.05, inplace=False)\n",
       "            )\n",
       "            (lora_A): ModuleDict(\n",
       "              (default): Linear(in_features=2560, out_features=16, bias=False)\n",
       "            )\n",
       "            (lora_B): ModuleDict(\n",
       "              (default): Linear(in_features=16, out_features=9728, bias=False)\n",
       "            )\n",
       "            (lora_embedding_A): ParameterDict()\n",
       "            (lora_embedding_B): ParameterDict()\n",
       "            (lora_magnitude_vector): ModuleDict()\n",
       "          )\n",
       "          (down_proj): lora.Linear4bit(\n",
       "            (base_layer): Linear4bit(in_features=9728, out_features=2560, bias=False)\n",
       "            (lora_dropout): ModuleDict(\n",
       "              (default): Dropout(p=0.05, inplace=False)\n",
       "            )\n",
       "            (lora_A): ModuleDict(\n",
       "              (default): Linear(in_features=9728, out_features=16, bias=False)\n",
       "            )\n",
       "            (lora_B): ModuleDict(\n",
       "              (default): Linear(in_features=16, out_features=2560, bias=False)\n",
       "            )\n",
       "            (lora_embedding_A): ParameterDict()\n",
       "            (lora_embedding_B): ParameterDict()\n",
       "            (lora_magnitude_vector): ModuleDict()\n",
       "          )\n",
       "          (act_fn): SiLU()\n",
       "        )\n",
       "        (input_layernorm): Qwen3RMSNorm((2560,), eps=1e-06)\n",
       "        (post_attention_layernorm): Qwen3RMSNorm((2560,), eps=1e-06)\n",
       "      )\n",
       "    )\n",
       "    (norm): Qwen3RMSNorm((2560,), eps=1e-06)\n",
       "    (rotary_emb): Qwen3RotaryEmbedding()\n",
       "  )\n",
       "  (score): ModulesToSaveWrapper(\n",
       "    (original_module): Linear(in_features=2560, out_features=65, bias=False)\n",
       "    (modules_to_save): ModuleDict(\n",
       "      (default): Linear(in_features=2560, out_features=65, bias=False)\n",
       "    )\n",
       "  )\n",
       ")"
      ]
     },
     "execution_count": 75,
     "metadata": {},
     "output_type": "execute_result"
    }
   ],
   "source": [
    "model"
   ]
  },
  {
   "cell_type": "code",
   "execution_count": 76,
   "id": "3cedf5b5",
   "metadata": {
    "execution": {
     "iopub.execute_input": "2025-09-30T15:41:56.567532Z",
     "iopub.status.busy": "2025-09-30T15:41:56.567254Z",
     "iopub.status.idle": "2025-09-30T15:41:56.570832Z",
     "shell.execute_reply": "2025-09-30T15:41:56.570349Z"
    },
    "papermill": {
     "duration": 0.034957,
     "end_time": "2025-09-30T15:41:56.571919",
     "exception": false,
     "start_time": "2025-09-30T15:41:56.536962",
     "status": "completed"
    },
    "tags": []
   },
   "outputs": [],
   "source": [
    "if CFG.DeepEval:\n",
    "    from deepeval.models.base_model import DeepEvalBaseLLM\n",
    "    from deepeval.test_case import LLMTestCase, LLMTestCaseParams\n",
    "    from deepeval.metrics import GEval\n",
    "    # from deepeval import evaluate\n",
    "    from deepeval.metrics import AnswerRelevancyMetric\n",
    "    # from deepeval.benchmarks import MMLU, HellaSwag, HumanEval,TruthfulQA\n",
    "    # from deepeval.benchmarks.tasks import HumanEvalTask, HellaSwagTask, MMLUTask, TruthfulQATask\n",
    "    # from deepeval.benchmarks.modes import TruthfulQAMode "
   ]
  },
  {
   "cell_type": "markdown",
   "id": "90a9a1bd",
   "metadata": {
    "papermill": {
     "duration": 0.030511,
     "end_time": "2025-09-30T15:41:56.632743",
     "exception": false,
     "start_time": "2025-09-30T15:41:56.602232",
     "status": "completed"
    },
    "tags": []
   },
   "source": [
    "## Prepare Training Dataset"
   ]
  },
  {
   "cell_type": "code",
   "execution_count": 77,
   "id": "a5150eee",
   "metadata": {
    "execution": {
     "iopub.execute_input": "2025-09-30T15:41:56.693229Z",
     "iopub.status.busy": "2025-09-30T15:41:56.692955Z",
     "iopub.status.idle": "2025-09-30T15:41:56.722729Z",
     "shell.execute_reply": "2025-09-30T15:41:56.722049Z"
    },
    "papermill": {
     "duration": 0.061046,
     "end_time": "2025-09-30T15:41:56.723900",
     "exception": false,
     "start_time": "2025-09-30T15:41:56.662854",
     "status": "completed"
    },
    "tags": []
   },
   "outputs": [
    {
     "data": {
      "text/html": [
       "<div>\n",
       "<style scoped>\n",
       "    .dataframe tbody tr th:only-of-type {\n",
       "        vertical-align: middle;\n",
       "    }\n",
       "\n",
       "    .dataframe tbody tr th {\n",
       "        vertical-align: top;\n",
       "    }\n",
       "\n",
       "    .dataframe thead th {\n",
       "        text-align: right;\n",
       "    }\n",
       "</style>\n",
       "<table border=\"1\" class=\"dataframe\">\n",
       "  <thead>\n",
       "    <tr style=\"text-align: right;\">\n",
       "      <th></th>\n",
       "      <th>row_id</th>\n",
       "      <th>QuestionId</th>\n",
       "      <th>QuestionText</th>\n",
       "      <th>MC_Answer</th>\n",
       "      <th>StudentExplanation</th>\n",
       "      <th>Category</th>\n",
       "      <th>Misconception</th>\n",
       "      <th>target</th>\n",
       "      <th>label</th>\n",
       "      <th>is_correct</th>\n",
       "    </tr>\n",
       "  </thead>\n",
       "  <tbody>\n",
       "    <tr>\n",
       "      <th>0</th>\n",
       "      <td>29405</td>\n",
       "      <td>89443</td>\n",
       "      <td>What number belongs in the box?\\n\\(\\n(-8)-(-5)...</td>\n",
       "      <td>\\( -13 \\)</td>\n",
       "      <td>Adding up bith of them gives -13, so they both...</td>\n",
       "      <td>False_Misconception</td>\n",
       "      <td>Positive</td>\n",
       "      <td>False_Misconception:Positive</td>\n",
       "      <td>23</td>\n",
       "      <td>0</td>\n",
       "    </tr>\n",
       "    <tr>\n",
       "      <th>1</th>\n",
       "      <td>30741</td>\n",
       "      <td>89443</td>\n",
       "      <td>What number belongs in the box?\\n\\(\\n(-8)-(-5)...</td>\n",
       "      <td>\\( -3 \\)</td>\n",
       "      <td>becuase you are taking -5 or just adding 5 to ...</td>\n",
       "      <td>True_Correct</td>\n",
       "      <td>NA</td>\n",
       "      <td>True_Correct:NA</td>\n",
       "      <td>37</td>\n",
       "      <td>1</td>\n",
       "    </tr>\n",
       "    <tr>\n",
       "      <th>2</th>\n",
       "      <td>3664</td>\n",
       "      <td>31772</td>\n",
       "      <td>What fraction of the shape is not shaded? Give...</td>\n",
       "      <td>\\( \\frac{3}{9} \\)</td>\n",
       "      <td>If you count how many there are there is 9. An...</td>\n",
       "      <td>False_Misconception</td>\n",
       "      <td>Incomplete</td>\n",
       "      <td>False_Misconception:Incomplete</td>\n",
       "      <td>13</td>\n",
       "      <td>0</td>\n",
       "    </tr>\n",
       "    <tr>\n",
       "      <th>3</th>\n",
       "      <td>7456</td>\n",
       "      <td>31774</td>\n",
       "      <td>Calculate \\( \\frac{1}{2} \\div 6 \\)</td>\n",
       "      <td>\\( \\frac{1}{3} \\)</td>\n",
       "      <td>Because 2÷ 6= 3 so it would be 1/3</td>\n",
       "      <td>False_Misconception</td>\n",
       "      <td>FlipChange</td>\n",
       "      <td>False_Misconception:FlipChange</td>\n",
       "      <td>11</td>\n",
       "      <td>0</td>\n",
       "    </tr>\n",
       "    <tr>\n",
       "      <th>4</th>\n",
       "      <td>18199</td>\n",
       "      <td>32833</td>\n",
       "      <td>Calculate \\( \\frac{2}{3} \\times 5 \\)</td>\n",
       "      <td>\\( 5 \\frac{2}{3} \\)</td>\n",
       "      <td>I used my knowledge of fractions and remembere...</td>\n",
       "      <td>False_Misconception</td>\n",
       "      <td>Wrong_Operation</td>\n",
       "      <td>False_Misconception:Wrong_Operation</td>\n",
       "      <td>33</td>\n",
       "      <td>0</td>\n",
       "    </tr>\n",
       "    <tr>\n",
       "      <th>...</th>\n",
       "      <td>...</td>\n",
       "      <td>...</td>\n",
       "      <td>...</td>\n",
       "      <td>...</td>\n",
       "      <td>...</td>\n",
       "      <td>...</td>\n",
       "      <td>...</td>\n",
       "      <td>...</td>\n",
       "      <td>...</td>\n",
       "      <td>...</td>\n",
       "    </tr>\n",
       "    <tr>\n",
       "      <th>89050</th>\n",
       "      <td>27490</td>\n",
       "      <td>33474</td>\n",
       "      <td>Sally has \\( \\frac{2}{3} \\) of a whole cake in...</td>\n",
       "      <td>\\( \\frac{2}{3}-\\frac{1}{3} \\)</td>\n",
       "      <td>because there is 1/3 left so the sum is \\n2/3-...</td>\n",
       "      <td>False_Misconception</td>\n",
       "      <td>Subtraction</td>\n",
       "      <td>False_Misconception:Subtraction</td>\n",
       "      <td>26</td>\n",
       "      <td>0</td>\n",
       "    </tr>\n",
       "    <tr>\n",
       "      <th>89051</th>\n",
       "      <td>5565</td>\n",
       "      <td>31774</td>\n",
       "      <td>Calculate \\( \\frac{1}{2} \\div 6 \\)</td>\n",
       "      <td>\\( \\frac{1}{12} \\)</td>\n",
       "      <td>1/2 goes into 6, 12 times so I put 1/12 but I'...</td>\n",
       "      <td>True_Misconception</td>\n",
       "      <td>SwapDividend</td>\n",
       "      <td>True_Misconception:SwapDividend</td>\n",
       "      <td>58</td>\n",
       "      <td>1</td>\n",
       "    </tr>\n",
       "    <tr>\n",
       "      <th>89052</th>\n",
       "      <td>25034</td>\n",
       "      <td>33472</td>\n",
       "      <td>\\( \\frac{1}{3}+\\frac{2}{5}= \\)</td>\n",
       "      <td>\\( \\frac{11}{15} \\)</td>\n",
       "      <td>what ever you do on the bottom you have to do ...</td>\n",
       "      <td>True_Neither</td>\n",
       "      <td>NA</td>\n",
       "      <td>True_Neither:NA</td>\n",
       "      <td>64</td>\n",
       "      <td>1</td>\n",
       "    </tr>\n",
       "    <tr>\n",
       "      <th>89053</th>\n",
       "      <td>5613</td>\n",
       "      <td>31774</td>\n",
       "      <td>Calculate \\( \\frac{1}{2} \\div 6 \\)</td>\n",
       "      <td>\\( \\frac{1}{12} \\)</td>\n",
       "      <td>6 divided by 2 is the method u have to use whi...</td>\n",
       "      <td>True_Misconception</td>\n",
       "      <td>SwapDividend</td>\n",
       "      <td>True_Misconception:SwapDividend</td>\n",
       "      <td>58</td>\n",
       "      <td>1</td>\n",
       "    </tr>\n",
       "    <tr>\n",
       "      <th>89054</th>\n",
       "      <td>31372</td>\n",
       "      <td>89443</td>\n",
       "      <td>What number belongs in the box?\\n\\(\\n(-8)-(-5)...</td>\n",
       "      <td>\\( -3 \\)</td>\n",
       "      <td>two minuses sum up to make a plus so we do -8+...</td>\n",
       "      <td>True_Misconception</td>\n",
       "      <td>Positive</td>\n",
       "      <td>True_Misconception:Positive</td>\n",
       "      <td>55</td>\n",
       "      <td>1</td>\n",
       "    </tr>\n",
       "  </tbody>\n",
       "</table>\n",
       "<p>89055 rows × 10 columns</p>\n",
       "</div>"
      ],
      "text/plain": [
       "       row_id  QuestionId                                       QuestionText  \\\n",
       "0       29405       89443  What number belongs in the box?\\n\\(\\n(-8)-(-5)...   \n",
       "1       30741       89443  What number belongs in the box?\\n\\(\\n(-8)-(-5)...   \n",
       "2        3664       31772  What fraction of the shape is not shaded? Give...   \n",
       "3        7456       31774                 Calculate \\( \\frac{1}{2} \\div 6 \\)   \n",
       "4       18199       32833               Calculate \\( \\frac{2}{3} \\times 5 \\)   \n",
       "...       ...         ...                                                ...   \n",
       "89050   27490       33474  Sally has \\( \\frac{2}{3} \\) of a whole cake in...   \n",
       "89051    5565       31774                 Calculate \\( \\frac{1}{2} \\div 6 \\)   \n",
       "89052   25034       33472                     \\( \\frac{1}{3}+\\frac{2}{5}= \\)   \n",
       "89053    5613       31774                 Calculate \\( \\frac{1}{2} \\div 6 \\)   \n",
       "89054   31372       89443  What number belongs in the box?\\n\\(\\n(-8)-(-5)...   \n",
       "\n",
       "                           MC_Answer  \\\n",
       "0                          \\( -13 \\)   \n",
       "1                           \\( -3 \\)   \n",
       "2                  \\( \\frac{3}{9} \\)   \n",
       "3                  \\( \\frac{1}{3} \\)   \n",
       "4                \\( 5 \\frac{2}{3} \\)   \n",
       "...                              ...   \n",
       "89050  \\( \\frac{2}{3}-\\frac{1}{3} \\)   \n",
       "89051             \\( \\frac{1}{12} \\)   \n",
       "89052            \\( \\frac{11}{15} \\)   \n",
       "89053             \\( \\frac{1}{12} \\)   \n",
       "89054                       \\( -3 \\)   \n",
       "\n",
       "                                      StudentExplanation             Category  \\\n",
       "0      Adding up bith of them gives -13, so they both...  False_Misconception   \n",
       "1      becuase you are taking -5 or just adding 5 to ...         True_Correct   \n",
       "2      If you count how many there are there is 9. An...  False_Misconception   \n",
       "3                     Because 2÷ 6= 3 so it would be 1/3  False_Misconception   \n",
       "4      I used my knowledge of fractions and remembere...  False_Misconception   \n",
       "...                                                  ...                  ...   \n",
       "89050  because there is 1/3 left so the sum is \\n2/3-...  False_Misconception   \n",
       "89051  1/2 goes into 6, 12 times so I put 1/12 but I'...   True_Misconception   \n",
       "89052  what ever you do on the bottom you have to do ...         True_Neither   \n",
       "89053  6 divided by 2 is the method u have to use whi...   True_Misconception   \n",
       "89054  two minuses sum up to make a plus so we do -8+...   True_Misconception   \n",
       "\n",
       "         Misconception                               target  label  is_correct  \n",
       "0             Positive         False_Misconception:Positive     23           0  \n",
       "1                   NA                      True_Correct:NA     37           1  \n",
       "2           Incomplete       False_Misconception:Incomplete     13           0  \n",
       "3           FlipChange       False_Misconception:FlipChange     11           0  \n",
       "4      Wrong_Operation  False_Misconception:Wrong_Operation     33           0  \n",
       "...                ...                                  ...    ...         ...  \n",
       "89050      Subtraction      False_Misconception:Subtraction     26           0  \n",
       "89051     SwapDividend      True_Misconception:SwapDividend     58           1  \n",
       "89052               NA                      True_Neither:NA     64           1  \n",
       "89053     SwapDividend      True_Misconception:SwapDividend     58           1  \n",
       "89054         Positive          True_Misconception:Positive     55           1  \n",
       "\n",
       "[89055 rows x 10 columns]"
      ]
     },
     "execution_count": 77,
     "metadata": {},
     "output_type": "execute_result"
    }
   ],
   "source": [
    "# Random Resample Dataset\n",
    "# trainDF = trainDF.sample(frac=1.0, replace=True)\n",
    "# trainDF = trainDF.reset_index(drop=True)\n",
    "# trainDF\n",
    "\n",
    "trainDF_balanced= trainDF_balanced.sample(frac=1.0, replace=True)\n",
    "trainDF_balanced = trainDF_balanced.reset_index(drop=True)\n",
    "trainDF_balanced"
   ]
  },
  {
   "cell_type": "code",
   "execution_count": 78,
   "id": "3176c25e",
   "metadata": {
    "execution": {
     "iopub.execute_input": "2025-09-30T15:41:56.786048Z",
     "iopub.status.busy": "2025-09-30T15:41:56.785602Z",
     "iopub.status.idle": "2025-09-30T15:41:56.789468Z",
     "shell.execute_reply": "2025-09-30T15:41:56.788920Z"
    },
    "papermill": {
     "duration": 0.035672,
     "end_time": "2025-09-30T15:41:56.790624",
     "exception": false,
     "start_time": "2025-09-30T15:41:56.754952",
     "status": "completed"
    },
    "tags": []
   },
   "outputs": [],
   "source": [
    "PROMPT_FORMAT1 = \"\"\"\\\n",
    "You are an expert in identifying math misconceptions from student explanations.\n",
    "\n",
    "Question: {QuestionText}\n",
    "Answer: {MC_Answer}\n",
    "Correct: {Correct}\n",
    "Student Explanation: {StudentExplanation}\n",
    "\n",
    "Identify the specific type of math misconception in the student's explanation.\n",
    "Give a short, clear label for the misconception.\n",
    "\"\"\"\n",
    "\n",
    "PROMPT_FORMAT2 = \"\"\"\\\n",
    "You are an expert educational diagnostician specializing in identifying students' math misconceptions from their written explanations.\n",
    "Your task is to analyze the student's explanation and classify the specific type of misconception they demonstrate.\n",
    "\n",
    "Question: {QuestionText}\n",
    "Answer: {MC_Answer}\n",
    "Correct: {Correct}\n",
    "Student Explanation: {StudentExplanation}\n",
    "\n",
    "Based on the information above, identify and label the underlying math misconception in the student's explanation.\n",
    "Provide a clear and concise classification of the misconception type.\n",
    "\"\"\"\n",
    "\n",
    "PROMPT_FORMAT3 = \"\"\"\\\n",
    "You are an expert in analyzing students' answers to math problems and identifying specific types of misunderstandings.\n",
    "Given the following information, classify the student's misunderstanding.\n",
    "\n",
    "Question: {QuestionText}\n",
    "Answer: {MC_Answer}\n",
    "Correct: {Correct}\n",
    "Student Explanation: {StudentExplanation}\n",
    "\n",
    "Please provide the type of misunderstanding the student has.\n",
    "\"\"\"\n",
    "\n",
    "PROMPT_FORMAT4 = \"\"\"\\\n",
    "You are a specialist in identifying the types of misunderstandings that arise from students’ answers to math problems.\n",
    "Based on the information provided below, please determine what kind of misunderstanding the student has.\n",
    "\n",
    "Question: {QuestionText}\n",
    "Answer: {MC_Answer}\n",
    "Correct: {Correct}\n",
    "Student Explanation: {StudentExplanation}\n",
    "\"\"\"\n"
   ]
  },
  {
   "cell_type": "code",
   "execution_count": 79,
   "id": "41ae55c7",
   "metadata": {
    "execution": {
     "iopub.execute_input": "2025-09-30T15:41:56.852320Z",
     "iopub.status.busy": "2025-09-30T15:41:56.852104Z",
     "iopub.status.idle": "2025-09-30T15:41:56.856261Z",
     "shell.execute_reply": "2025-09-30T15:41:56.855454Z"
    },
    "papermill": {
     "duration": 0.036699,
     "end_time": "2025-09-30T15:41:56.857334",
     "exception": false,
     "start_time": "2025-09-30T15:41:56.820635",
     "status": "completed"
    },
    "tags": []
   },
   "outputs": [],
   "source": [
    "def generateTrainContent(row):\n",
    "    x= \"True\"\n",
    "    if not row[\"is_correct\"]:\n",
    "        x= \"False\"\n",
    "    return PROMPT_FORMAT2.format(\n",
    "        QuestionText=row['QuestionText'],\n",
    "        MC_Answer=row['MC_Answer'],\n",
    "        Correct=x,\n",
    "        StudentExplanation=row['StudentExplanation']\n",
    "        \n",
    "    )"
   ]
  },
  {
   "cell_type": "code",
   "execution_count": 80,
   "id": "0329b375",
   "metadata": {
    "execution": {
     "iopub.execute_input": "2025-09-30T15:41:56.930044Z",
     "iopub.status.busy": "2025-09-30T15:41:56.929532Z",
     "iopub.status.idle": "2025-09-30T15:41:57.919381Z",
     "shell.execute_reply": "2025-09-30T15:41:57.918575Z"
    },
    "papermill": {
     "duration": 1.028328,
     "end_time": "2025-09-30T15:41:57.920784",
     "exception": false,
     "start_time": "2025-09-30T15:41:56.892456",
     "status": "completed"
    },
    "tags": []
   },
   "outputs": [],
   "source": [
    "# trainDF[\"LLM_Content\"]= trainDF.apply(generateTrainContent, axis=1)\n",
    "trainDF_balanced[\"LLM_Content\"] = trainDF_balanced.apply(generateTrainContent, axis=1)"
   ]
  },
  {
   "cell_type": "code",
   "execution_count": 81,
   "id": "c00a4d4f",
   "metadata": {
    "execution": {
     "iopub.execute_input": "2025-09-30T15:41:57.984580Z",
     "iopub.status.busy": "2025-09-30T15:41:57.984350Z",
     "iopub.status.idle": "2025-09-30T15:41:57.988764Z",
     "shell.execute_reply": "2025-09-30T15:41:57.988241Z"
    },
    "papermill": {
     "duration": 0.037339,
     "end_time": "2025-09-30T15:41:57.989797",
     "exception": false,
     "start_time": "2025-09-30T15:41:57.952458",
     "status": "completed"
    },
    "tags": []
   },
   "outputs": [],
   "source": [
    "testDF[\"LLM_Content\"]= testDF.apply(generateTrainContent, axis=1)"
   ]
  },
  {
   "cell_type": "code",
   "execution_count": 82,
   "id": "be37f7bb",
   "metadata": {
    "execution": {
     "iopub.execute_input": "2025-09-30T15:41:58.051322Z",
     "iopub.status.busy": "2025-09-30T15:41:58.051110Z",
     "iopub.status.idle": "2025-09-30T15:41:58.055027Z",
     "shell.execute_reply": "2025-09-30T15:41:58.054110Z"
    },
    "papermill": {
     "duration": 0.036189,
     "end_time": "2025-09-30T15:41:58.056073",
     "exception": false,
     "start_time": "2025-09-30T15:41:58.019884",
     "status": "completed"
    },
    "tags": []
   },
   "outputs": [
    {
     "name": "stdout",
     "output_type": "stream",
     "text": [
      "You are an expert educational diagnostician specializing in identifying students' math misconceptions from their written explanations.\n",
      "Your task is to analyze the student's explanation and classify the specific type of misconception they demonstrate.\n",
      "\n",
      "Question: What number belongs in the box?\n",
      "\\(\n",
      "(-8)-(-5)=\n",
      "\\square\\)\n",
      "Answer: \\( -13 \\)\n",
      "Correct: False\n",
      "Student Explanation: Adding up bith of them gives -13, so they both add up to -1.\n",
      "\n",
      "Based on the information above, identify and label the underlying math misconception in the student's explanation.\n",
      "Provide a clear and concise classification of the misconception type.\n",
      "\n"
     ]
    }
   ],
   "source": [
    "# print one of example\n",
    "print(trainDF_balanced[\"LLM_Content\"].values[0])"
   ]
  },
  {
   "cell_type": "code",
   "execution_count": 83,
   "id": "da398416",
   "metadata": {
    "execution": {
     "iopub.execute_input": "2025-09-30T15:41:58.117151Z",
     "iopub.status.busy": "2025-09-30T15:41:58.116940Z",
     "iopub.status.idle": "2025-09-30T15:41:58.120625Z",
     "shell.execute_reply": "2025-09-30T15:41:58.119963Z"
    },
    "papermill": {
     "duration": 0.035457,
     "end_time": "2025-09-30T15:41:58.121621",
     "exception": false,
     "start_time": "2025-09-30T15:41:58.086164",
     "status": "completed"
    },
    "tags": []
   },
   "outputs": [
    {
     "name": "stdout",
     "output_type": "stream",
     "text": [
      "You are an expert educational diagnostician specializing in identifying students' math misconceptions from their written explanations.\n",
      "Your task is to analyze the student's explanation and classify the specific type of misconception they demonstrate.\n",
      "\n",
      "Question: What fraction of the shape is not shaded? Give your answer in its simplest form. [Image: A triangle split into 9 equal smaller triangles. 6 of them are shaded.]\n",
      "Answer: \\( \\frac{1}{3} \\)\n",
      "Correct: True\n",
      "Student Explanation: I think that 1/3 is the answer, as it's the simplest form of 3/9.\n",
      "\n",
      "Based on the information above, identify and label the underlying math misconception in the student's explanation.\n",
      "Provide a clear and concise classification of the misconception type.\n",
      "\n"
     ]
    }
   ],
   "source": [
    "print(testDF[\"LLM_Content\"].values[0])"
   ]
  },
  {
   "cell_type": "markdown",
   "id": "57d0dae3",
   "metadata": {
    "papermill": {
     "duration": 0.029947,
     "end_time": "2025-09-30T15:41:58.181591",
     "exception": false,
     "start_time": "2025-09-30T15:41:58.151644",
     "status": "completed"
    },
    "tags": []
   },
   "source": [
    "## lenght of the LLM conntent"
   ]
  },
  {
   "cell_type": "code",
   "execution_count": 84,
   "id": "91c0e343",
   "metadata": {
    "execution": {
     "iopub.execute_input": "2025-09-30T15:41:58.242486Z",
     "iopub.status.busy": "2025-09-30T15:41:58.241804Z",
     "iopub.status.idle": "2025-09-30T15:42:33.117691Z",
     "shell.execute_reply": "2025-09-30T15:42:33.117053Z"
    },
    "papermill": {
     "duration": 34.938912,
     "end_time": "2025-09-30T15:42:33.150280",
     "exception": false,
     "start_time": "2025-09-30T15:41:58.211368",
     "status": "completed"
    },
    "tags": []
   },
   "outputs": [
    {
     "data": {
      "text/plain": [
       "count    89055.000000\n",
       "mean       138.680501\n",
       "std         20.922351\n",
       "min         97.000000\n",
       "25%        124.000000\n",
       "50%        136.000000\n",
       "75%        151.000000\n",
       "max        391.000000\n",
       "Name: Length, dtype: float64"
      ]
     },
     "execution_count": 84,
     "metadata": {},
     "output_type": "execute_result"
    }
   ],
   "source": [
    "# trainDF[\"Length\"] = trainDF[\"LLM_Content\"].str.len()\n",
    "trainDF_balanced[\"Length\"] = [len(tokenizer.encode(t, truncation=False)) for t in trainDF_balanced[\"LLM_Content\"]]\n",
    "\n",
    "\n",
    "trainDF_balanced[\"Length\"].describe()"
   ]
  },
  {
   "cell_type": "code",
   "execution_count": 85,
   "id": "885c8323",
   "metadata": {
    "execution": {
     "iopub.execute_input": "2025-09-30T15:42:33.257378Z",
     "iopub.status.busy": "2025-09-30T15:42:33.257114Z",
     "iopub.status.idle": "2025-09-30T15:42:33.463122Z",
     "shell.execute_reply": "2025-09-30T15:42:33.462389Z"
    },
    "papermill": {
     "duration": 0.283924,
     "end_time": "2025-09-30T15:42:33.464322",
     "exception": false,
     "start_time": "2025-09-30T15:42:33.180398",
     "status": "completed"
    },
    "tags": []
   },
   "outputs": [
    {
     "data": {
      "image/png": "[encoded data removed]",
      "text/plain": [
       "<Figure size 640x480 with 1 Axes>"
      ]
     },
     "metadata": {},
     "output_type": "display_data"
    }
   ],
   "source": [
    "trainDF_balanced[\"Length\"].plot(kind='hist', bins=50, subplots=True,sharex=True,sharey=True, title='LLM Content Length Distribution');"
   ]
  },
  {
   "cell_type": "code",
   "execution_count": 86,
   "id": "9a6056be",
   "metadata": {
    "execution": {
     "iopub.execute_input": "2025-09-30T15:42:33.530988Z",
     "iopub.status.busy": "2025-09-30T15:42:33.530700Z",
     "iopub.status.idle": "2025-09-30T15:42:33.535479Z",
     "shell.execute_reply": "2025-09-30T15:42:33.534761Z"
    },
    "papermill": {
     "duration": 0.039012,
     "end_time": "2025-09-30T15:42:33.536610",
     "exception": false,
     "start_time": "2025-09-30T15:42:33.497598",
     "status": "completed"
    },
    "tags": []
   },
   "outputs": [
    {
     "name": "stdout",
     "output_type": "stream",
     "text": [
      "There are 7 train sample(s) with more than 256 tokens\n"
     ]
    }
   ],
   "source": [
    "MAX_LEN = 256 #384 #256 #512\n",
    "L = (np.array(trainDF_balanced[\"Length\"])>MAX_LEN).sum()\n",
    "print(f\"There are {L} train sample(s) with more than {MAX_LEN} tokens\")"
   ]
  },
  {
   "cell_type": "markdown",
   "id": "53d131eb",
   "metadata": {
    "execution": {
     "iopub.execute_input": "2025-08-12T14:48:14.784040Z",
     "iopub.status.busy": "2025-08-12T14:48:14.783703Z",
     "iopub.status.idle": "2025-08-12T14:48:14.788666Z",
     "shell.execute_reply": "2025-08-12T14:48:14.787640Z",
     "shell.execute_reply.started": "2025-08-12T14:48:14.784018Z"
    },
    "papermill": {
     "duration": 0.031409,
     "end_time": "2025-09-30T15:42:33.599103",
     "exception": false,
     "start_time": "2025-09-30T15:42:33.567694",
     "status": "completed"
    },
    "tags": []
   },
   "source": [
    "### MAX window size 256 is suitable for training "
   ]
  },
  {
   "cell_type": "markdown",
   "id": "6da088a4",
   "metadata": {
    "papermill": {
     "duration": 0.031522,
     "end_time": "2025-09-30T15:42:33.662183",
     "exception": false,
     "start_time": "2025-09-30T15:42:33.630661",
     "status": "completed"
    },
    "tags": []
   },
   "source": [
    "## Create Dataset"
   ]
  },
  {
   "cell_type": "code",
   "execution_count": 87,
   "id": "a5175076",
   "metadata": {
    "execution": {
     "iopub.execute_input": "2025-09-30T15:42:33.728706Z",
     "iopub.status.busy": "2025-09-30T15:42:33.728475Z",
     "iopub.status.idle": "2025-09-30T15:42:33.732854Z",
     "shell.execute_reply": "2025-09-30T15:42:33.732355Z"
    },
    "papermill": {
     "duration": 0.036373,
     "end_time": "2025-09-30T15:42:33.733874",
     "exception": false,
     "start_time": "2025-09-30T15:42:33.697501",
     "status": "completed"
    },
    "tags": []
   },
   "outputs": [
    {
     "data": {
      "text/plain": [
       "(89055, 75697)"
      ]
     },
     "execution_count": 87,
     "metadata": {},
     "output_type": "execute_result"
    }
   ],
   "source": [
    "len(trainDF_balanced) , round(len(trainDF_balanced) * 0.85) # check train data size"
   ]
  },
  {
   "cell_type": "code",
   "execution_count": 88,
   "id": "9f8d27b3",
   "metadata": {
    "execution": {
     "iopub.execute_input": "2025-09-30T15:42:33.795759Z",
     "iopub.status.busy": "2025-09-30T15:42:33.795545Z",
     "iopub.status.idle": "2025-09-30T15:42:33.799591Z",
     "shell.execute_reply": "2025-09-30T15:42:33.799056Z"
    },
    "papermill": {
     "duration": 0.035847,
     "end_time": "2025-09-30T15:42:33.800580",
     "exception": false,
     "start_time": "2025-09-30T15:42:33.764733",
     "status": "completed"
    },
    "tags": []
   },
   "outputs": [
    {
     "data": {
      "text/plain": [
       "89055"
      ]
     },
     "execution_count": 88,
     "metadata": {},
     "output_type": "execute_result"
    }
   ],
   "source": [
    "totalTrainSize= len(trainDF_balanced)\n",
    "totalTrainSize"
   ]
  },
  {
   "cell_type": "code",
   "execution_count": 89,
   "id": "d7b3004b",
   "metadata": {
    "execution": {
     "iopub.execute_input": "2025-09-30T15:42:33.862021Z",
     "iopub.status.busy": "2025-09-30T15:42:33.861801Z",
     "iopub.status.idle": "2025-09-30T15:42:33.865747Z",
     "shell.execute_reply": "2025-09-30T15:42:33.865240Z"
    },
    "papermill": {
     "duration": 0.035777,
     "end_time": "2025-09-30T15:42:33.866774",
     "exception": false,
     "start_time": "2025-09-30T15:42:33.830997",
     "status": "completed"
    },
    "tags": []
   },
   "outputs": [
    {
     "data": {
      "text/plain": [
       "89005"
      ]
     },
     "execution_count": 89,
     "metadata": {},
     "output_type": "execute_result"
    }
   ],
   "source": [
    "setMaxTrainData = totalTrainSize - CFG.valDatasetSize\n",
    "setMaxTrainData"
   ]
  },
  {
   "cell_type": "markdown",
   "id": "859a34d0",
   "metadata": {
    "papermill": {
     "duration": 0.030769,
     "end_time": "2025-09-30T15:42:33.928106",
     "exception": false,
     "start_time": "2025-09-30T15:42:33.897337",
     "status": "completed"
    },
    "tags": []
   },
   "source": [
    "### Create Dataset for Train/Validation"
   ]
  },
  {
   "cell_type": "code",
   "execution_count": 90,
   "id": "ace02666",
   "metadata": {
    "execution": {
     "iopub.execute_input": "2025-09-30T15:42:33.990295Z",
     "iopub.status.busy": "2025-09-30T15:42:33.990049Z",
     "iopub.status.idle": "2025-09-30T15:42:34.017909Z",
     "shell.execute_reply": "2025-09-30T15:42:34.017299Z"
    },
    "papermill": {
     "duration": 0.060672,
     "end_time": "2025-09-30T15:42:34.019109",
     "exception": false,
     "start_time": "2025-09-30T15:42:33.958437",
     "status": "completed"
    },
    "tags": []
   },
   "outputs": [],
   "source": [
    "\n",
    "\n",
    "# tempTrainDF , tempValDF = train_test_split(trainDF , stratify= trainDF[\"is_correct\"], test_size=test_size, random_state=42)\n",
    "tempTrainDF , tempValDF = train_test_split(trainDF_balanced ,  test_size=CFG.test_size, random_state=42)"
   ]
  },
  {
   "cell_type": "code",
   "execution_count": 91,
   "id": "6ee830c2",
   "metadata": {
    "execution": {
     "iopub.execute_input": "2025-09-30T15:42:34.081528Z",
     "iopub.status.busy": "2025-09-30T15:42:34.081313Z",
     "iopub.status.idle": "2025-09-30T15:42:34.092173Z",
     "shell.execute_reply": "2025-09-30T15:42:34.091594Z"
    },
    "papermill": {
     "duration": 0.042813,
     "end_time": "2025-09-30T15:42:34.093178",
     "exception": false,
     "start_time": "2025-09-30T15:42:34.050365",
     "status": "completed"
    },
    "tags": []
   },
   "outputs": [
    {
     "data": {
      "text/html": [
       "<div>\n",
       "<style scoped>\n",
       "    .dataframe tbody tr th:only-of-type {\n",
       "        vertical-align: middle;\n",
       "    }\n",
       "\n",
       "    .dataframe tbody tr th {\n",
       "        vertical-align: top;\n",
       "    }\n",
       "\n",
       "    .dataframe thead th {\n",
       "        text-align: right;\n",
       "    }\n",
       "</style>\n",
       "<table border=\"1\" class=\"dataframe\">\n",
       "  <thead>\n",
       "    <tr style=\"text-align: right;\">\n",
       "      <th></th>\n",
       "      <th>row_id</th>\n",
       "      <th>QuestionId</th>\n",
       "      <th>QuestionText</th>\n",
       "      <th>MC_Answer</th>\n",
       "      <th>StudentExplanation</th>\n",
       "      <th>Category</th>\n",
       "      <th>Misconception</th>\n",
       "      <th>target</th>\n",
       "      <th>label</th>\n",
       "      <th>is_correct</th>\n",
       "      <th>LLM_Content</th>\n",
       "      <th>Length</th>\n",
       "    </tr>\n",
       "  </thead>\n",
       "  <tbody>\n",
       "    <tr>\n",
       "      <th>38252</th>\n",
       "      <td>24761</td>\n",
       "      <td>33472</td>\n",
       "      <td>\\( \\frac{1}{3}+\\frac{2}{5}= \\)</td>\n",
       "      <td>\\( \\frac{11}{15} \\)</td>\n",
       "      <td>if you turn them into 15th's and add them toge...</td>\n",
       "      <td>True_Correct</td>\n",
       "      <td>NA</td>\n",
       "      <td>True_Correct:NA</td>\n",
       "      <td>37</td>\n",
       "      <td>1</td>\n",
       "      <td>You are an expert educational diagnostician sp...</td>\n",
       "      <td>128</td>\n",
       "    </tr>\n",
       "    <tr>\n",
       "      <th>2997</th>\n",
       "      <td>23485</td>\n",
       "      <td>33471</td>\n",
       "      <td>A bag contains \\( 24 \\) yellow and green balls...</td>\n",
       "      <td>\\( 9 \\)</td>\n",
       "      <td>it is 9 because you do 8 divided by 24 which =...</td>\n",
       "      <td>False_Misconception</td>\n",
       "      <td>Wrong_fraction</td>\n",
       "      <td>False_Misconception:Wrong_fraction</td>\n",
       "      <td>34</td>\n",
       "      <td>0</td>\n",
       "      <td>You are an expert educational diagnostician sp...</td>\n",
       "      <td>153</td>\n",
       "    </tr>\n",
       "    <tr>\n",
       "      <th>66308</th>\n",
       "      <td>23580</td>\n",
       "      <td>33472</td>\n",
       "      <td>\\( \\frac{1}{3}+\\frac{2}{5}= \\)</td>\n",
       "      <td>\\( \\frac{11}{15} \\)</td>\n",
       "      <td>1/3 is 5/15\\n2/5 is 6/15\\n5+6 is 11 so the ans...</td>\n",
       "      <td>True_Misconception</td>\n",
       "      <td>Adding_across</td>\n",
       "      <td>True_Misconception:Adding_across</td>\n",
       "      <td>38</td>\n",
       "      <td>1</td>\n",
       "      <td>You are an expert educational diagnostician sp...</td>\n",
       "      <td>144</td>\n",
       "    </tr>\n",
       "    <tr>\n",
       "      <th>65630</th>\n",
       "      <td>29292</td>\n",
       "      <td>76870</td>\n",
       "      <td>This is part of a regular polygon. How many si...</td>\n",
       "      <td>\\( 6 \\)</td>\n",
       "      <td>that's the internal angle for a 6 suded shape</td>\n",
       "      <td>False_Misconception</td>\n",
       "      <td>Definition</td>\n",
       "      <td>False_Misconception:Definition</td>\n",
       "      <td>6</td>\n",
       "      <td>0</td>\n",
       "      <td>You are an expert educational diagnostician sp...</td>\n",
       "      <td>130</td>\n",
       "    </tr>\n",
       "    <tr>\n",
       "      <th>47822</th>\n",
       "      <td>16927</td>\n",
       "      <td>32833</td>\n",
       "      <td>Calculate \\( \\frac{2}{3} \\times 5 \\)</td>\n",
       "      <td>\\( 3 \\frac{1}{3} \\)</td>\n",
       "      <td>I know that you only have to times the top num...</td>\n",
       "      <td>True_Correct</td>\n",
       "      <td>NA</td>\n",
       "      <td>True_Correct:NA</td>\n",
       "      <td>37</td>\n",
       "      <td>1</td>\n",
       "      <td>You are an expert educational diagnostician sp...</td>\n",
       "      <td>137</td>\n",
       "    </tr>\n",
       "    <tr>\n",
       "      <th>...</th>\n",
       "      <td>...</td>\n",
       "      <td>...</td>\n",
       "      <td>...</td>\n",
       "      <td>...</td>\n",
       "      <td>...</td>\n",
       "      <td>...</td>\n",
       "      <td>...</td>\n",
       "      <td>...</td>\n",
       "      <td>...</td>\n",
       "      <td>...</td>\n",
       "      <td>...</td>\n",
       "      <td>...</td>\n",
       "    </tr>\n",
       "    <tr>\n",
       "      <th>6265</th>\n",
       "      <td>28498</td>\n",
       "      <td>76870</td>\n",
       "      <td>This is part of a regular polygon. How many si...</td>\n",
       "      <td>Not enough information</td>\n",
       "      <td>you are not given the shape and enough info</td>\n",
       "      <td>False_Misconception</td>\n",
       "      <td>Unknowable</td>\n",
       "      <td>False_Misconception:Unknowable</td>\n",
       "      <td>29</td>\n",
       "      <td>0</td>\n",
       "      <td>You are an expert educational diagnostician sp...</td>\n",
       "      <td>126</td>\n",
       "    </tr>\n",
       "    <tr>\n",
       "      <th>54886</th>\n",
       "      <td>29267</td>\n",
       "      <td>76870</td>\n",
       "      <td>This is part of a regular polygon. How many si...</td>\n",
       "      <td>\\( 6 \\)</td>\n",
       "      <td>i think this because a normal polygon has 3 si...</td>\n",
       "      <td>False_Misconception</td>\n",
       "      <td>Definition</td>\n",
       "      <td>False_Misconception:Definition</td>\n",
       "      <td>6</td>\n",
       "      <td>0</td>\n",
       "      <td>You are an expert educational diagnostician sp...</td>\n",
       "      <td>140</td>\n",
       "    </tr>\n",
       "    <tr>\n",
       "      <th>76820</th>\n",
       "      <td>22166</td>\n",
       "      <td>33471</td>\n",
       "      <td>A bag contains \\( 24 \\) yellow and green balls...</td>\n",
       "      <td>\\( 15 \\)</td>\n",
       "      <td>3/8 of 24. let's divide it by eight, to get th...</td>\n",
       "      <td>True_Misconception</td>\n",
       "      <td>Wrong_fraction</td>\n",
       "      <td>True_Misconception:Wrong_fraction</td>\n",
       "      <td>62</td>\n",
       "      <td>1</td>\n",
       "      <td>You are an expert educational diagnostician sp...</td>\n",
       "      <td>210</td>\n",
       "    </tr>\n",
       "    <tr>\n",
       "      <th>860</th>\n",
       "      <td>16556</td>\n",
       "      <td>32829</td>\n",
       "      <td>\\( 2 y=24 \\) What is the value of \\( y \\) ?</td>\n",
       "      <td>\\( 48 \\)</td>\n",
       "      <td>i know this because i already knew y was 24, a...</td>\n",
       "      <td>False_Misconception</td>\n",
       "      <td>Inverse_operation</td>\n",
       "      <td>False_Misconception:Inverse_operation</td>\n",
       "      <td>16</td>\n",
       "      <td>0</td>\n",
       "      <td>You are an expert educational diagnostician sp...</td>\n",
       "      <td>136</td>\n",
       "    </tr>\n",
       "    <tr>\n",
       "      <th>15795</th>\n",
       "      <td>35530</td>\n",
       "      <td>104665</td>\n",
       "      <td>It takes \\( 3 \\) people a total of \\( 192 \\) h...</td>\n",
       "      <td>\\( 64 \\) hours</td>\n",
       "      <td>this is becausee 192 divided by 3 is 64.</td>\n",
       "      <td>False_Misconception</td>\n",
       "      <td>Base_rate</td>\n",
       "      <td>False_Misconception:Base_rate</td>\n",
       "      <td>4</td>\n",
       "      <td>0</td>\n",
       "      <td>You are an expert educational diagnostician sp...</td>\n",
       "      <td>147</td>\n",
       "    </tr>\n",
       "  </tbody>\n",
       "</table>\n",
       "<p>88965 rows × 12 columns</p>\n",
       "</div>"
      ],
      "text/plain": [
       "       row_id  QuestionId                                       QuestionText  \\\n",
       "38252   24761       33472                     \\( \\frac{1}{3}+\\frac{2}{5}= \\)   \n",
       "2997    23485       33471  A bag contains \\( 24 \\) yellow and green balls...   \n",
       "66308   23580       33472                     \\( \\frac{1}{3}+\\frac{2}{5}= \\)   \n",
       "65630   29292       76870  This is part of a regular polygon. How many si...   \n",
       "47822   16927       32833               Calculate \\( \\frac{2}{3} \\times 5 \\)   \n",
       "...       ...         ...                                                ...   \n",
       "6265    28498       76870  This is part of a regular polygon. How many si...   \n",
       "54886   29267       76870  This is part of a regular polygon. How many si...   \n",
       "76820   22166       33471  A bag contains \\( 24 \\) yellow and green balls...   \n",
       "860     16556       32829        \\( 2 y=24 \\) What is the value of \\( y \\) ?   \n",
       "15795   35530      104665  It takes \\( 3 \\) people a total of \\( 192 \\) h...   \n",
       "\n",
       "                    MC_Answer  \\\n",
       "38252     \\( \\frac{11}{15} \\)   \n",
       "2997                  \\( 9 \\)   \n",
       "66308     \\( \\frac{11}{15} \\)   \n",
       "65630                 \\( 6 \\)   \n",
       "47822     \\( 3 \\frac{1}{3} \\)   \n",
       "...                       ...   \n",
       "6265   Not enough information   \n",
       "54886                 \\( 6 \\)   \n",
       "76820                \\( 15 \\)   \n",
       "860                  \\( 48 \\)   \n",
       "15795          \\( 64 \\) hours   \n",
       "\n",
       "                                      StudentExplanation             Category  \\\n",
       "38252  if you turn them into 15th's and add them toge...         True_Correct   \n",
       "2997   it is 9 because you do 8 divided by 24 which =...  False_Misconception   \n",
       "66308  1/3 is 5/15\\n2/5 is 6/15\\n5+6 is 11 so the ans...   True_Misconception   \n",
       "65630      that's the internal angle for a 6 suded shape  False_Misconception   \n",
       "47822  I know that you only have to times the top num...         True_Correct   \n",
       "...                                                  ...                  ...   \n",
       "6265         you are not given the shape and enough info  False_Misconception   \n",
       "54886  i think this because a normal polygon has 3 si...  False_Misconception   \n",
       "76820  3/8 of 24. let's divide it by eight, to get th...   True_Misconception   \n",
       "860    i know this because i already knew y was 24, a...  False_Misconception   \n",
       "15795           this is becausee 192 divided by 3 is 64.  False_Misconception   \n",
       "\n",
       "           Misconception                                 target  label  \\\n",
       "38252                 NA                        True_Correct:NA     37   \n",
       "2997      Wrong_fraction     False_Misconception:Wrong_fraction     34   \n",
       "66308      Adding_across       True_Misconception:Adding_across     38   \n",
       "65630         Definition         False_Misconception:Definition      6   \n",
       "47822                 NA                        True_Correct:NA     37   \n",
       "...                  ...                                    ...    ...   \n",
       "6265          Unknowable         False_Misconception:Unknowable     29   \n",
       "54886         Definition         False_Misconception:Definition      6   \n",
       "76820     Wrong_fraction      True_Misconception:Wrong_fraction     62   \n",
       "860    Inverse_operation  False_Misconception:Inverse_operation     16   \n",
       "15795          Base_rate          False_Misconception:Base_rate      4   \n",
       "\n",
       "       is_correct                                        LLM_Content  Length  \n",
       "38252           1  You are an expert educational diagnostician sp...     128  \n",
       "2997            0  You are an expert educational diagnostician sp...     153  \n",
       "66308           1  You are an expert educational diagnostician sp...     144  \n",
       "65630           0  You are an expert educational diagnostician sp...     130  \n",
       "47822           1  You are an expert educational diagnostician sp...     137  \n",
       "...           ...                                                ...     ...  \n",
       "6265            0  You are an expert educational diagnostician sp...     126  \n",
       "54886           0  You are an expert educational diagnostician sp...     140  \n",
       "76820           1  You are an expert educational diagnostician sp...     210  \n",
       "860             0  You are an expert educational diagnostician sp...     136  \n",
       "15795           0  You are an expert educational diagnostician sp...     147  \n",
       "\n",
       "[88965 rows x 12 columns]"
      ]
     },
     "execution_count": 91,
     "metadata": {},
     "output_type": "execute_result"
    }
   ],
   "source": [
    "tempTrainDF"
   ]
  },
  {
   "cell_type": "code",
   "execution_count": 92,
   "id": "a5e126ae",
   "metadata": {
    "execution": {
     "iopub.execute_input": "2025-09-30T15:42:34.155641Z",
     "iopub.status.busy": "2025-09-30T15:42:34.155466Z",
     "iopub.status.idle": "2025-09-30T15:42:34.593663Z",
     "shell.execute_reply": "2025-09-30T15:42:34.592958Z"
    },
    "papermill": {
     "duration": 0.470478,
     "end_time": "2025-09-30T15:42:34.594755",
     "exception": false,
     "start_time": "2025-09-30T15:42:34.124277",
     "status": "completed"
    },
    "tags": []
   },
   "outputs": [
    {
     "data": {
      "image/png": "[encoded data removed]",
      "text/plain": [
       "<Figure size 640x480 with 1 Axes>"
      ]
     },
     "metadata": {},
     "output_type": "display_data"
    }
   ],
   "source": [
    "tempTrainDF[\"label\"].value_counts().plot(kind=\"bar\", title=\"Class Distribution\");"
   ]
  },
  {
   "cell_type": "code",
   "execution_count": 93,
   "id": "6f8a4a89",
   "metadata": {
    "execution": {
     "iopub.execute_input": "2025-09-30T15:42:34.661907Z",
     "iopub.status.busy": "2025-09-30T15:42:34.661225Z",
     "iopub.status.idle": "2025-09-30T15:42:34.677807Z",
     "shell.execute_reply": "2025-09-30T15:42:34.677152Z"
    },
    "papermill": {
     "duration": 0.050166,
     "end_time": "2025-09-30T15:42:34.678877",
     "exception": false,
     "start_time": "2025-09-30T15:42:34.628711",
     "status": "completed"
    },
    "tags": []
   },
   "outputs": [
    {
     "data": {
      "text/html": [
       "<div>\n",
       "<style scoped>\n",
       "    .dataframe tbody tr th:only-of-type {\n",
       "        vertical-align: middle;\n",
       "    }\n",
       "\n",
       "    .dataframe tbody tr th {\n",
       "        vertical-align: top;\n",
       "    }\n",
       "\n",
       "    .dataframe thead th {\n",
       "        text-align: right;\n",
       "    }\n",
       "</style>\n",
       "<table border=\"1\" class=\"dataframe\">\n",
       "  <thead>\n",
       "    <tr style=\"text-align: right;\">\n",
       "      <th></th>\n",
       "      <th>row_id</th>\n",
       "      <th>QuestionId</th>\n",
       "      <th>label</th>\n",
       "      <th>is_correct</th>\n",
       "      <th>Length</th>\n",
       "    </tr>\n",
       "  </thead>\n",
       "  <tbody>\n",
       "    <tr>\n",
       "      <th>count</th>\n",
       "      <td>90.000000</td>\n",
       "      <td>90.000000</td>\n",
       "      <td>90.000000</td>\n",
       "      <td>90.000000</td>\n",
       "      <td>90.000000</td>\n",
       "    </tr>\n",
       "    <tr>\n",
       "      <th>mean</th>\n",
       "      <td>21796.000000</td>\n",
       "      <td>55053.666667</td>\n",
       "      <td>34.155556</td>\n",
       "      <td>0.511111</td>\n",
       "      <td>141.900000</td>\n",
       "    </tr>\n",
       "    <tr>\n",
       "      <th>std</th>\n",
       "      <td>10903.310891</td>\n",
       "      <td>30023.259627</td>\n",
       "      <td>18.097061</td>\n",
       "      <td>0.502677</td>\n",
       "      <td>22.949897</td>\n",
       "    </tr>\n",
       "    <tr>\n",
       "      <th>min</th>\n",
       "      <td>713.000000</td>\n",
       "      <td>31772.000000</td>\n",
       "      <td>0.000000</td>\n",
       "      <td>0.000000</td>\n",
       "      <td>100.000000</td>\n",
       "    </tr>\n",
       "    <tr>\n",
       "      <th>25%</th>\n",
       "      <td>13713.500000</td>\n",
       "      <td>31778.000000</td>\n",
       "      <td>18.250000</td>\n",
       "      <td>0.000000</td>\n",
       "      <td>125.250000</td>\n",
       "    </tr>\n",
       "    <tr>\n",
       "      <th>50%</th>\n",
       "      <td>24139.500000</td>\n",
       "      <td>33471.500000</td>\n",
       "      <td>37.000000</td>\n",
       "      <td>1.000000</td>\n",
       "      <td>140.500000</td>\n",
       "    </tr>\n",
       "    <tr>\n",
       "      <th>75%</th>\n",
       "      <td>30895.250000</td>\n",
       "      <td>89443.000000</td>\n",
       "      <td>48.000000</td>\n",
       "      <td>1.000000</td>\n",
       "      <td>157.000000</td>\n",
       "    </tr>\n",
       "    <tr>\n",
       "      <th>max</th>\n",
       "      <td>36409.000000</td>\n",
       "      <td>109465.000000</td>\n",
       "      <td>64.000000</td>\n",
       "      <td>1.000000</td>\n",
       "      <td>188.000000</td>\n",
       "    </tr>\n",
       "  </tbody>\n",
       "</table>\n",
       "</div>"
      ],
      "text/plain": [
       "             row_id     QuestionId      label  is_correct      Length\n",
       "count     90.000000      90.000000  90.000000   90.000000   90.000000\n",
       "mean   21796.000000   55053.666667  34.155556    0.511111  141.900000\n",
       "std    10903.310891   30023.259627  18.097061    0.502677   22.949897\n",
       "min      713.000000   31772.000000   0.000000    0.000000  100.000000\n",
       "25%    13713.500000   31778.000000  18.250000    0.000000  125.250000\n",
       "50%    24139.500000   33471.500000  37.000000    1.000000  140.500000\n",
       "75%    30895.250000   89443.000000  48.000000    1.000000  157.000000\n",
       "max    36409.000000  109465.000000  64.000000    1.000000  188.000000"
      ]
     },
     "execution_count": 93,
     "metadata": {},
     "output_type": "execute_result"
    }
   ],
   "source": [
    "tempValDF.describe()"
   ]
  },
  {
   "cell_type": "code",
   "execution_count": 94,
   "id": "673680a4",
   "metadata": {
    "execution": {
     "iopub.execute_input": "2025-09-30T15:42:34.743053Z",
     "iopub.status.busy": "2025-09-30T15:42:34.742438Z",
     "iopub.status.idle": "2025-09-30T15:42:35.316387Z",
     "shell.execute_reply": "2025-09-30T15:42:35.315687Z"
    },
    "papermill": {
     "duration": 0.607249,
     "end_time": "2025-09-30T15:42:35.317699",
     "exception": false,
     "start_time": "2025-09-30T15:42:34.710450",
     "status": "completed"
    },
    "tags": []
   },
   "outputs": [],
   "source": [
    "# Convert to Hugging Face Dataset for training dataset\n",
    "COLS = ['LLM_Content','label']\n",
    "\n",
    "trainDataset = Dataset.from_pandas(tempTrainDF[COLS], split=\"train\")\n",
    "valDataset = Dataset.from_pandas(tempValDF[COLS], split=\"test\")\n",
    "testDataset = Dataset.from_pandas(testDF, split=\"test\")\n",
    "subDataset = Dataset.from_pandas(sample, split=\"test\") # submit dataset\n",
    "\n",
    "# trainDataset = Dataset.from_pandas(tempTrainDF, split=\"train\")\n",
    "# valDataset = Dataset.from_pandas(tempValDF, split=\"test\")\n",
    "# subDataset = Dataset.from_pandas(sample, split=\"test\") # submit dataset"
   ]
  },
  {
   "cell_type": "code",
   "execution_count": 95,
   "id": "fb38b710",
   "metadata": {
    "execution": {
     "iopub.execute_input": "2025-09-30T15:42:35.383551Z",
     "iopub.status.busy": "2025-09-30T15:42:35.383354Z",
     "iopub.status.idle": "2025-09-30T15:42:35.387388Z",
     "shell.execute_reply": "2025-09-30T15:42:35.386959Z"
    },
    "papermill": {
     "duration": 0.037993,
     "end_time": "2025-09-30T15:42:35.388465",
     "exception": false,
     "start_time": "2025-09-30T15:42:35.350472",
     "status": "completed"
    },
    "tags": []
   },
   "outputs": [
    {
     "data": {
      "text/plain": [
       "Dataset({\n",
       "    features: ['LLM_Content', 'label', '__index_level_0__'],\n",
       "    num_rows: 88965\n",
       "})"
      ]
     },
     "execution_count": 95,
     "metadata": {},
     "output_type": "execute_result"
    }
   ],
   "source": [
    "trainDataset"
   ]
  },
  {
   "cell_type": "code",
   "execution_count": 96,
   "id": "d1a9eaa8",
   "metadata": {
    "execution": {
     "iopub.execute_input": "2025-09-30T15:42:35.453272Z",
     "iopub.status.busy": "2025-09-30T15:42:35.453061Z",
     "iopub.status.idle": "2025-09-30T15:42:35.457091Z",
     "shell.execute_reply": "2025-09-30T15:42:35.456574Z"
    },
    "papermill": {
     "duration": 0.037698,
     "end_time": "2025-09-30T15:42:35.458093",
     "exception": false,
     "start_time": "2025-09-30T15:42:35.420395",
     "status": "completed"
    },
    "tags": []
   },
   "outputs": [
    {
     "data": {
      "text/plain": [
       "Dataset({\n",
       "    features: ['row_id', 'QuestionId', 'QuestionText', 'MC_Answer', 'StudentExplanation', 'is_correct', 'LLM_Content'],\n",
       "    num_rows: 3\n",
       "})"
      ]
     },
     "execution_count": 96,
     "metadata": {},
     "output_type": "execute_result"
    }
   ],
   "source": [
    "testDataset"
   ]
  },
  {
   "cell_type": "code",
   "execution_count": 97,
   "id": "755c6f1a",
   "metadata": {
    "execution": {
     "iopub.execute_input": "2025-09-30T15:42:35.522018Z",
     "iopub.status.busy": "2025-09-30T15:42:35.521261Z",
     "iopub.status.idle": "2025-09-30T15:42:35.525626Z",
     "shell.execute_reply": "2025-09-30T15:42:35.524961Z"
    },
    "papermill": {
     "duration": 0.037121,
     "end_time": "2025-09-30T15:42:35.526645",
     "exception": false,
     "start_time": "2025-09-30T15:42:35.489524",
     "status": "completed"
    },
    "tags": []
   },
   "outputs": [
    {
     "data": {
      "text/plain": [
       "Dataset({\n",
       "    features: ['row_id', 'Category:Misconception'],\n",
       "    num_rows: 3\n",
       "})"
      ]
     },
     "execution_count": 97,
     "metadata": {},
     "output_type": "execute_result"
    }
   ],
   "source": [
    "subDataset"
   ]
  },
  {
   "cell_type": "code",
   "execution_count": 98,
   "id": "ecfe3900",
   "metadata": {
    "execution": {
     "iopub.execute_input": "2025-09-30T15:42:35.591198Z",
     "iopub.status.busy": "2025-09-30T15:42:35.591019Z",
     "iopub.status.idle": "2025-09-30T15:42:35.860703Z",
     "shell.execute_reply": "2025-09-30T15:42:35.859969Z"
    },
    "papermill": {
     "duration": 0.303272,
     "end_time": "2025-09-30T15:42:35.862015",
     "exception": false,
     "start_time": "2025-09-30T15:42:35.558743",
     "status": "completed"
    },
    "tags": []
   },
   "outputs": [
    {
     "name": "stdout",
     "output_type": "stream",
     "text": [
      "Tue Sep 30 15:42:35 2025       \r\n",
      "+-----------------------------------------------------------------------------------------+\r\n",
      "| NVIDIA-SMI 560.35.03              Driver Version: 560.35.03      CUDA Version: 12.6     |\r\n",
      "|-----------------------------------------+------------------------+----------------------+\r\n",
      "| GPU  Name                 Persistence-M | Bus-Id          Disp.A | Volatile Uncorr. ECC |\r\n",
      "| Fan  Temp   Perf          Pwr:Usage/Cap |           Memory-Usage | GPU-Util  Compute M. |\r\n",
      "|                                         |                        |               MIG M. |\r\n",
      "|=========================================+========================+======================|\r\n",
      "|   0  Tesla T4                       Off |   00000000:00:04.0 Off |                    0 |\r\n",
      "| N/A   54C    P0             29W /   70W |    2037MiB /  15360MiB |      0%      Default |\r\n",
      "|                                         |                        |                  N/A |\r\n",
      "+-----------------------------------------+------------------------+----------------------+\r\n",
      "|   1  Tesla T4                       Off |   00000000:00:05.0 Off |                    0 |\r\n",
      "| N/A   53C    P0             30W /   70W |    2351MiB /  15360MiB |      0%      Default |\r\n",
      "|                                         |                        |                  N/A |\r\n",
      "+-----------------------------------------+------------------------+----------------------+\r\n",
      "                                                                                         \r\n",
      "+-----------------------------------------------------------------------------------------+\r\n",
      "| Processes:                                                                              |\r\n",
      "|  GPU   GI   CI        PID   Type   Process name                              GPU Memory |\r\n",
      "|        ID   ID                                                               Usage      |\r\n",
      "|=========================================================================================|\r\n",
      "+-----------------------------------------------------------------------------------------+\r\n"
     ]
    },
    {
     "name": "stderr",
     "output_type": "stream",
     "text": [
      "huggingface/tokenizers: The current process just got forked, after parallelism has already been used. Disabling parallelism to avoid deadlocks...\n",
      "To disable this warning, you can either:\n",
      "\t- Avoid using `tokenizers` before the fork if possible\n",
      "\t- Explicitly set the environment variable TOKENIZERS_PARALLELISM=(true | false)\n"
     ]
    }
   ],
   "source": [
    "# for GPU only\n",
    "!nvidia-smi  "
   ]
  },
  {
   "cell_type": "code",
   "execution_count": 99,
   "id": "e8efdbb0",
   "metadata": {
    "execution": {
     "iopub.execute_input": "2025-09-30T15:42:35.928594Z",
     "iopub.status.busy": "2025-09-30T15:42:35.928060Z",
     "iopub.status.idle": "2025-09-30T15:42:35.932122Z",
     "shell.execute_reply": "2025-09-30T15:42:35.931557Z"
    },
    "papermill": {
     "duration": 0.037675,
     "end_time": "2025-09-30T15:42:35.933170",
     "exception": false,
     "start_time": "2025-09-30T15:42:35.895495",
     "status": "completed"
    },
    "tags": []
   },
   "outputs": [],
   "source": [
    "del tempTrainDF \n",
    "del tempValDF"
   ]
  },
  {
   "cell_type": "code",
   "execution_count": 100,
   "id": "19149d28",
   "metadata": {
    "execution": {
     "iopub.execute_input": "2025-09-30T15:42:35.997443Z",
     "iopub.status.busy": "2025-09-30T15:42:35.997268Z",
     "iopub.status.idle": "2025-09-30T15:42:36.002450Z",
     "shell.execute_reply": "2025-09-30T15:42:36.001627Z"
    },
    "papermill": {
     "duration": 0.038557,
     "end_time": "2025-09-30T15:42:36.003637",
     "exception": false,
     "start_time": "2025-09-30T15:42:35.965080",
     "status": "completed"
    },
    "tags": []
   },
   "outputs": [
    {
     "data": {
      "text/plain": [
       "DatasetDict({\n",
       "    train: Dataset({\n",
       "        features: ['LLM_Content', 'label', '__index_level_0__'],\n",
       "        num_rows: 88965\n",
       "    })\n",
       "    val: Dataset({\n",
       "        features: ['LLM_Content', 'label', '__index_level_0__'],\n",
       "        num_rows: 90\n",
       "    })\n",
       "})"
      ]
     },
     "execution_count": 100,
     "metadata": {},
     "output_type": "execute_result"
    }
   ],
   "source": [
    "datasetDict = DatasetDict({\n",
    "    \"train\" : trainDataset,\n",
    "    \"val\"  : valDataset\n",
    "    \n",
    "})\n",
    "datasetDict"
   ]
  },
  {
   "cell_type": "code",
   "execution_count": 101,
   "id": "f462d669",
   "metadata": {
    "execution": {
     "iopub.execute_input": "2025-09-30T15:42:36.069244Z",
     "iopub.status.busy": "2025-09-30T15:42:36.069025Z",
     "iopub.status.idle": "2025-09-30T15:42:36.073379Z",
     "shell.execute_reply": "2025-09-30T15:42:36.072831Z"
    },
    "papermill": {
     "duration": 0.03783,
     "end_time": "2025-09-30T15:42:36.074406",
     "exception": false,
     "start_time": "2025-09-30T15:42:36.036576",
     "status": "completed"
    },
    "tags": []
   },
   "outputs": [
    {
     "data": {
      "text/plain": [
       "Dataset({\n",
       "    features: ['LLM_Content', 'label', '__index_level_0__'],\n",
       "    num_rows: 88965\n",
       "})"
      ]
     },
     "execution_count": 101,
     "metadata": {},
     "output_type": "execute_result"
    }
   ],
   "source": [
    "datasetDict[\"train\"]"
   ]
  },
  {
   "cell_type": "code",
   "execution_count": 102,
   "id": "d53507a7",
   "metadata": {
    "execution": {
     "iopub.execute_input": "2025-09-30T15:42:36.139017Z",
     "iopub.status.busy": "2025-09-30T15:42:36.138773Z",
     "iopub.status.idle": "2025-09-30T15:42:36.142215Z",
     "shell.execute_reply": "2025-09-30T15:42:36.141642Z"
    },
    "papermill": {
     "duration": 0.036944,
     "end_time": "2025-09-30T15:42:36.143204",
     "exception": false,
     "start_time": "2025-09-30T15:42:36.106260",
     "status": "completed"
    },
    "tags": []
   },
   "outputs": [],
   "source": [
    "def tokenizeFunc(batch):\n",
    "    return tokenizer(batch[\"LLM_Content\"],  max_length=CFG.maxLength, padding='max_length', truncation=True)"
   ]
  },
  {
   "cell_type": "code",
   "execution_count": 103,
   "id": "b1415c03",
   "metadata": {
    "execution": {
     "iopub.execute_input": "2025-09-30T15:42:36.208292Z",
     "iopub.status.busy": "2025-09-30T15:42:36.207869Z",
     "iopub.status.idle": "2025-09-30T15:42:58.575628Z",
     "shell.execute_reply": "2025-09-30T15:42:58.574882Z"
    },
    "papermill": {
     "duration": 22.401352,
     "end_time": "2025-09-30T15:42:58.576733",
     "exception": false,
     "start_time": "2025-09-30T15:42:36.175381",
     "status": "completed"
    },
    "tags": []
   },
   "outputs": [
    {
     "data": {
      "application/vnd.jupyter.widget-view+json": {
       "model_id": "eec1cee181c24df8961ee90b9a5861eb",
       "version_major": 2,
       "version_minor": 0
      },
      "text/plain": [
       "Map:   0%|          | 0/88965 [00:00<?, ? examples/s]"
      ]
     },
     "metadata": {},
     "output_type": "display_data"
    },
    {
     "data": {
      "application/vnd.jupyter.widget-view+json": {
       "model_id": "24e09e2ced024132ac6da6f2a921cb9b",
       "version_major": 2,
       "version_minor": 0
      },
      "text/plain": [
       "Map:   0%|          | 0/90 [00:00<?, ? examples/s]"
      ]
     },
     "metadata": {},
     "output_type": "display_data"
    }
   ],
   "source": [
    "datasetDict = datasetDict.map(tokenizeFunc, batched=True)"
   ]
  },
  {
   "cell_type": "code",
   "execution_count": 104,
   "id": "e1899aa8",
   "metadata": {
    "execution": {
     "iopub.execute_input": "2025-09-30T15:42:58.643426Z",
     "iopub.status.busy": "2025-09-30T15:42:58.643227Z",
     "iopub.status.idle": "2025-09-30T15:42:58.647529Z",
     "shell.execute_reply": "2025-09-30T15:42:58.646877Z"
    },
    "papermill": {
     "duration": 0.037992,
     "end_time": "2025-09-30T15:42:58.648548",
     "exception": false,
     "start_time": "2025-09-30T15:42:58.610556",
     "status": "completed"
    },
    "tags": []
   },
   "outputs": [
    {
     "data": {
      "text/plain": [
       "DatasetDict({\n",
       "    train: Dataset({\n",
       "        features: ['LLM_Content', 'label', '__index_level_0__', 'input_ids', 'attention_mask'],\n",
       "        num_rows: 88965\n",
       "    })\n",
       "    val: Dataset({\n",
       "        features: ['LLM_Content', 'label', '__index_level_0__', 'input_ids', 'attention_mask'],\n",
       "        num_rows: 90\n",
       "    })\n",
       "})"
      ]
     },
     "execution_count": 104,
     "metadata": {},
     "output_type": "execute_result"
    }
   ],
   "source": [
    "datasetDict"
   ]
  },
  {
   "cell_type": "code",
   "execution_count": 105,
   "id": "ae1d0f94",
   "metadata": {
    "execution": {
     "iopub.execute_input": "2025-09-30T15:42:58.715575Z",
     "iopub.status.busy": "2025-09-30T15:42:58.715384Z",
     "iopub.status.idle": "2025-09-30T15:42:58.721509Z",
     "shell.execute_reply": "2025-09-30T15:42:58.720968Z"
    },
    "papermill": {
     "duration": 0.040972,
     "end_time": "2025-09-30T15:42:58.722614",
     "exception": false,
     "start_time": "2025-09-30T15:42:58.681642",
     "status": "completed"
    },
    "tags": []
   },
   "outputs": [],
   "source": [
    "datasetDict = datasetDict.rename_column(\"label\", \"labels\")  # change name to labels "
   ]
  },
  {
   "cell_type": "code",
   "execution_count": 106,
   "id": "aa98813e",
   "metadata": {
    "execution": {
     "iopub.execute_input": "2025-09-30T15:42:58.788403Z",
     "iopub.status.busy": "2025-09-30T15:42:58.788195Z",
     "iopub.status.idle": "2025-09-30T15:42:58.792549Z",
     "shell.execute_reply": "2025-09-30T15:42:58.791825Z"
    },
    "papermill": {
     "duration": 0.038449,
     "end_time": "2025-09-30T15:42:58.793667",
     "exception": false,
     "start_time": "2025-09-30T15:42:58.755218",
     "status": "completed"
    },
    "tags": []
   },
   "outputs": [
    {
     "data": {
      "text/plain": [
       "DatasetDict({\n",
       "    train: Dataset({\n",
       "        features: ['LLM_Content', 'labels', '__index_level_0__', 'input_ids', 'attention_mask'],\n",
       "        num_rows: 88965\n",
       "    })\n",
       "    val: Dataset({\n",
       "        features: ['LLM_Content', 'labels', '__index_level_0__', 'input_ids', 'attention_mask'],\n",
       "        num_rows: 90\n",
       "    })\n",
       "})"
      ]
     },
     "execution_count": 106,
     "metadata": {},
     "output_type": "execute_result"
    }
   ],
   "source": [
    "datasetDict"
   ]
  },
  {
   "cell_type": "code",
   "execution_count": 107,
   "id": "34fc7981",
   "metadata": {
    "execution": {
     "iopub.execute_input": "2025-09-30T15:42:58.859131Z",
     "iopub.status.busy": "2025-09-30T15:42:58.858904Z",
     "iopub.status.idle": "2025-09-30T15:42:58.863025Z",
     "shell.execute_reply": "2025-09-30T15:42:58.862495Z"
    },
    "papermill": {
     "duration": 0.038157,
     "end_time": "2025-09-30T15:42:58.863973",
     "exception": false,
     "start_time": "2025-09-30T15:42:58.825816",
     "status": "completed"
    },
    "tags": []
   },
   "outputs": [
    {
     "data": {
      "text/plain": [
       "DatasetDict({\n",
       "    test: Dataset({\n",
       "        features: ['row_id', 'QuestionId', 'QuestionText', 'MC_Answer', 'StudentExplanation', 'is_correct', 'LLM_Content'],\n",
       "        num_rows: 3\n",
       "    })\n",
       "})"
      ]
     },
     "execution_count": 107,
     "metadata": {},
     "output_type": "execute_result"
    }
   ],
   "source": [
    "testDict = DatasetDict({\n",
    "    \"test\": testDataset\n",
    "    \n",
    "})\n",
    "testDict"
   ]
  },
  {
   "cell_type": "code",
   "execution_count": 108,
   "id": "6ff9b0b3",
   "metadata": {
    "execution": {
     "iopub.execute_input": "2025-09-30T15:42:58.929464Z",
     "iopub.status.busy": "2025-09-30T15:42:58.929293Z",
     "iopub.status.idle": "2025-09-30T15:42:58.933645Z",
     "shell.execute_reply": "2025-09-30T15:42:58.932981Z"
    },
    "papermill": {
     "duration": 0.038304,
     "end_time": "2025-09-30T15:42:58.934644",
     "exception": false,
     "start_time": "2025-09-30T15:42:58.896340",
     "status": "completed"
    },
    "tags": []
   },
   "outputs": [
    {
     "data": {
      "text/plain": [
       "DatasetDict({\n",
       "    test: Dataset({\n",
       "        features: ['row_id', 'Category:Misconception'],\n",
       "        num_rows: 3\n",
       "    })\n",
       "})"
      ]
     },
     "execution_count": 108,
     "metadata": {},
     "output_type": "execute_result"
    }
   ],
   "source": [
    "submitDict = DatasetDict({\n",
    "    \"test\": subDataset\n",
    "    # \"test\": subDataset\n",
    "    \n",
    "})\n",
    "submitDict"
   ]
  },
  {
   "cell_type": "code",
   "execution_count": 109,
   "id": "c9929d5c",
   "metadata": {
    "execution": {
     "iopub.execute_input": "2025-09-30T15:42:59.000423Z",
     "iopub.status.busy": "2025-09-30T15:42:59.000252Z",
     "iopub.status.idle": "2025-09-30T15:42:59.006086Z",
     "shell.execute_reply": "2025-09-30T15:42:59.005549Z"
    },
    "papermill": {
     "duration": 0.039925,
     "end_time": "2025-09-30T15:42:59.007141",
     "exception": false,
     "start_time": "2025-09-30T15:42:58.967216",
     "status": "completed"
    },
    "tags": []
   },
   "outputs": [],
   "source": [
    "# Evaluation Metrics\n",
    "def compute_metric(eval_pred):\n",
    "    logits , labels = eval_pred\n",
    "    # predictions = np.argmax(logits, axis=-1)  # for mult-class\n",
    "    top3_preds = np.argsort(logits, axis=-1)[:, -3:]\n",
    "    match = (top3_preds == labels[:, None])\n",
    "    predictions= top3_preds[:, 2]\n",
    "    acc = (predictions == labels).mean()\n",
    "    f1score  =  f1_score(labels, predictions, average='weighted', zero_division=1)\n",
    "    recallScore = recall_score(labels, predictions,  average='weighted', zero_division=1)\n",
    "    precision = precision_score(labels, predictions,  average='weighted', zero_division=1)\n",
    "    \n",
    "    # for map@3\n",
    "    top3_preds = np.argsort(logits, axis=-1)[:, -3:]\n",
    "    match = (top3_preds == labels[:, None])\n",
    "\n",
    "    # Compute MAP@3 manually\n",
    "    map3 = 0\n",
    "    for i in range(len(labels)):\n",
    "        if match[i, 0]:\n",
    "            map3 += 1.0\n",
    "        elif match[i, 1]:\n",
    "            map3 += 1.0 / 2\n",
    "        elif match[i, 2]:\n",
    "            map3 += 1.0 / 3\n",
    "    map3Score = map3 / len(labels)\n",
    "    # map3List.append(map3Score)\n",
    "    \n",
    "    return {\"accuracy\": acc , \"recall\":  recallScore,  \"precision\":precision, 'f1-score': f1score ,\n",
    "             \"map_3\":map3Score}\n",
    "    \n",
    "    \n",
    "    \n",
    "    "
   ]
  },
  {
   "cell_type": "markdown",
   "id": "17b86e68",
   "metadata": {
    "papermill": {
     "duration": 0.032513,
     "end_time": "2025-09-30T15:42:59.073079",
     "exception": false,
     "start_time": "2025-09-30T15:42:59.040566",
     "status": "completed"
    },
    "tags": []
   },
   "source": [
    "## LoRA fine tuing"
   ]
  },
  {
   "cell_type": "code",
   "execution_count": 110,
   "id": "35667786",
   "metadata": {
    "execution": {
     "iopub.execute_input": "2025-09-30T15:42:59.140620Z",
     "iopub.status.busy": "2025-09-30T15:42:59.140425Z",
     "iopub.status.idle": "2025-09-30T15:42:59.143986Z",
     "shell.execute_reply": "2025-09-30T15:42:59.143466Z"
    },
    "papermill": {
     "duration": 0.037615,
     "end_time": "2025-09-30T15:42:59.144972",
     "exception": false,
     "start_time": "2025-09-30T15:42:59.107357",
     "status": "completed"
    },
    "tags": []
   },
   "outputs": [],
   "source": [
    "lora_config = LoraConfig(\n",
    "        r=16,\n",
    "        lora_alpha=32,\n",
    "        task_type=\"SEQ_CLS\",  # for Sequence Classification\n",
    "        # task_type=\"CAUSAL_LM\", # for generative task\n",
    "        bias=\"none\",\n",
    "        target_modules = [\"q_proj\", \"o_proj\", \"k_proj\", \"v_proj\",\n",
    "                      \"gate_proj\", \"up_proj\", \"down_proj\"],\n",
    "        lora_dropout= CFG.DROPOUT,\n",
    "    )"
   ]
  },
  {
   "cell_type": "code",
   "execution_count": 111,
   "id": "20d65104",
   "metadata": {
    "execution": {
     "iopub.execute_input": "2025-09-30T15:42:59.210403Z",
     "iopub.status.busy": "2025-09-30T15:42:59.209996Z",
     "iopub.status.idle": "2025-09-30T15:42:59.762800Z",
     "shell.execute_reply": "2025-09-30T15:42:59.762228Z"
    },
    "papermill": {
     "duration": 0.587036,
     "end_time": "2025-09-30T15:42:59.764214",
     "exception": false,
     "start_time": "2025-09-30T15:42:59.177178",
     "status": "completed"
    },
    "tags": []
   },
   "outputs": [
    {
     "name": "stderr",
     "output_type": "stream",
     "text": [
      "/usr/local/lib/python3.11/dist-packages/peft/mapping_func.py:73: UserWarning: You are trying to modify a model with PEFT for a second time. If you want to reload the model with a different config, make sure to call `.unload()` before.\n",
      "  warnings.warn(\n",
      "/usr/local/lib/python3.11/dist-packages/peft/tuners/tuners_utils.py:167: UserWarning: Already found a `peft_config` attribute in the model. This will lead to having multiple adapters in the model. Make sure to know what you are doing!\n",
      "  warnings.warn(\n"
     ]
    }
   ],
   "source": [
    "model = get_peft_model(model, lora_config)"
   ]
  },
  {
   "cell_type": "code",
   "execution_count": 112,
   "id": "39c90989",
   "metadata": {
    "execution": {
     "iopub.execute_input": "2025-09-30T15:42:59.833069Z",
     "iopub.status.busy": "2025-09-30T15:42:59.832815Z",
     "iopub.status.idle": "2025-09-30T15:42:59.842533Z",
     "shell.execute_reply": "2025-09-30T15:42:59.841944Z"
    },
    "papermill": {
     "duration": 0.044375,
     "end_time": "2025-09-30T15:42:59.843516",
     "exception": false,
     "start_time": "2025-09-30T15:42:59.799141",
     "status": "completed"
    },
    "tags": []
   },
   "outputs": [
    {
     "name": "stdout",
     "output_type": "stream",
     "text": [
      "trainable params: 33,196,544 || all params: 4,055,147,520 || trainable%: 0.8186\n"
     ]
    }
   ],
   "source": [
    "model.print_trainable_parameters()"
   ]
  },
  {
   "cell_type": "code",
   "execution_count": 113,
   "id": "64aba2ec",
   "metadata": {
    "execution": {
     "iopub.execute_input": "2025-09-30T15:42:59.910535Z",
     "iopub.status.busy": "2025-09-30T15:42:59.909905Z",
     "iopub.status.idle": "2025-09-30T15:42:59.914250Z",
     "shell.execute_reply": "2025-09-30T15:42:59.913722Z"
    },
    "papermill": {
     "duration": 0.039053,
     "end_time": "2025-09-30T15:42:59.915393",
     "exception": false,
     "start_time": "2025-09-30T15:42:59.876340",
     "status": "completed"
    },
    "tags": []
   },
   "outputs": [
    {
     "data": {
      "text/plain": [
       "'0.11.4'"
      ]
     },
     "execution_count": 113,
     "metadata": {},
     "output_type": "execute_result"
    }
   ],
   "source": [
    "import trl\n",
    "trl.__version__"
   ]
  },
  {
   "cell_type": "code",
   "execution_count": 114,
   "id": "cfccf941",
   "metadata": {
    "execution": {
     "iopub.execute_input": "2025-09-30T15:42:59.983116Z",
     "iopub.status.busy": "2025-09-30T15:42:59.982940Z",
     "iopub.status.idle": "2025-09-30T15:42:59.989573Z",
     "shell.execute_reply": "2025-09-30T15:42:59.988960Z"
    },
    "papermill": {
     "duration": 0.04108,
     "end_time": "2025-09-30T15:42:59.990546",
     "exception": false,
     "start_time": "2025-09-30T15:42:59.949466",
     "status": "completed"
    },
    "tags": []
   },
   "outputs": [
    {
     "name": "stdout",
     "output_type": "stream",
     "text": [
      "BATCH_SIZE: 9, N_SAMPLES: 88965, STEPS_PER_EPOCH: 9885\n",
      "NUM_WARMUP_STEPS: 6, TOTAL_STEPS: 128\n",
      "Val Step per epoch: 10\n"
     ]
    }
   ],
   "source": [
    "N_SAMPLES = len(datasetDict[\"train\"])  # Use train_df after the split\n",
    "STEPS_PER_EPOCH = (N_SAMPLES // CFG.per_device_train_batch_size ) #* CFG.maxEpoch\n",
    "VAL_STEPS_PER_EPOCH = len(datasetDict[\"val\"]) // CFG.per_device_eval_batch_size\n",
    "TOTAL_STEPS = int(STEPS_PER_EPOCH * CFG.maxEpoch)\n",
    "NUM_WARMUP_STEPS = int(TOTAL_STEPS * 0.05)\n",
    "\n",
    "print(f'BATCH_SIZE: {CFG.per_device_train_batch_size}, N_SAMPLES: {N_SAMPLES}, STEPS_PER_EPOCH: {STEPS_PER_EPOCH}')\n",
    "print(f'NUM_WARMUP_STEPS: {NUM_WARMUP_STEPS}, TOTAL_STEPS: {TOTAL_STEPS}')\n",
    "print(f\"Val Step per epoch: {VAL_STEPS_PER_EPOCH}\")"
   ]
  },
  {
   "cell_type": "markdown",
   "id": "9124f581",
   "metadata": {
    "papermill": {
     "duration": 0.032437,
     "end_time": "2025-09-30T15:43:00.055787",
     "exception": false,
     "start_time": "2025-09-30T15:43:00.023350",
     "status": "completed"
    },
    "tags": []
   },
   "source": [
    "## STF Trainer Parameter"
   ]
  },
  {
   "cell_type": "code",
   "execution_count": 115,
   "id": "b64e05e7",
   "metadata": {
    "execution": {
     "iopub.execute_input": "2025-09-30T15:43:00.124584Z",
     "iopub.status.busy": "2025-09-30T15:43:00.124399Z",
     "iopub.status.idle": "2025-09-30T15:43:00.157736Z",
     "shell.execute_reply": "2025-09-30T15:43:00.157036Z"
    },
    "papermill": {
     "duration": 0.069033,
     "end_time": "2025-09-30T15:43:00.158894",
     "exception": false,
     "start_time": "2025-09-30T15:43:00.089861",
     "status": "completed"
    },
    "tags": []
   },
   "outputs": [],
   "source": [
    "from trl import SFTTrainer, SFTConfig\n",
    "torch_dtype = model.dtype\n",
    "trainArg = SFTConfig(\n",
    "    output_dir= \"kaggle/working\",\n",
    "    # max_length= CFG.maxLength, # old version trl\n",
    "    max_seq_length = CFG.maxLength, # new version trl\n",
    "    per_device_train_batch_size =CFG.per_device_train_batch_size,\n",
    "    per_device_eval_batch_size = CFG.per_device_eval_batch_size,\n",
    "    gradient_accumulation_steps = CFG.gradient_accumulation_steps,\n",
    "    eval_strategy= \"steps\",\n",
    "    save_strategy= \"steps\",\n",
    "    warmup_steps= NUM_WARMUP_STEPS, #CFG.warmup_steps,\n",
    "    max_steps = TOTAL_STEPS,  #CFG.maxTrainStep, # set max train step size\n",
    "    learning_rate=CFG.learning_rate,\n",
    "    lr_scheduler_type=\"cosine\", #\"linear\", #\"cosine\",\n",
    "    save_total_limit=2,\n",
    "    fp16=True if torch_dtype == torch.float16 else False,   # use float16 precision ,  # INFER WITH FP16 BECAUSE KAGGLE IS T4 GPU\n",
    "    bf16=True if torch_dtype == torch.bfloat16 else False,  # use bfloat16 precision, TRAIN WITH BF16 IF LOCAL GPU IS NEWER GPU  \n",
    "    # fp16=True,\n",
    "    logging_steps= CFG.evalSteps,\n",
    "    eval_steps = CFG.evalSteps,\n",
    "    optim=\"adamw_8bit\",  #\"paged_adamw_8bit\",\n",
    "    report_to = CFG.reportTo,\n",
    "    do_eval=True,                # Perform evaluation at the end of training\n",
    "    max_grad_norm=1.0,\n",
    "    weight_decay=CFG.weight_decay,\n",
    "    metric_for_best_model=\"map_3\",\n",
    "    greater_is_better=True,\n",
    "    # memory optimial (reduce GPU memory but slowdown train speed )\n",
    "    # gradient_checkpointing=True,\n",
    "    # gradient_checkpointing_kwargs={'use_reentrant':False}, # for Mulitple -GPU\n",
    "    load_best_model_at_end=True,\n",
    "    # deepspeed=CFG.deepspeedConfigFile, # config error\n",
    "    # label_names = targetClasses,\n",
    "\n",
    "    \n",
    ")"
   ]
  },
  {
   "cell_type": "code",
   "execution_count": 116,
   "id": "c4f920e0",
   "metadata": {
    "execution": {
     "iopub.execute_input": "2025-09-30T15:43:00.225511Z",
     "iopub.status.busy": "2025-09-30T15:43:00.225293Z",
     "iopub.status.idle": "2025-09-30T15:43:00.229427Z",
     "shell.execute_reply": "2025-09-30T15:43:00.228871Z"
    },
    "papermill": {
     "duration": 0.038294,
     "end_time": "2025-09-30T15:43:00.230429",
     "exception": false,
     "start_time": "2025-09-30T15:43:00.192135",
     "status": "completed"
    },
    "tags": []
   },
   "outputs": [
    {
     "data": {
      "text/plain": [
       "True"
      ]
     },
     "execution_count": 116,
     "metadata": {},
     "output_type": "execute_result"
    }
   ],
   "source": [
    "trainArg.bf16 "
   ]
  },
  {
   "cell_type": "code",
   "execution_count": 117,
   "id": "65b0f623",
   "metadata": {
    "execution": {
     "iopub.execute_input": "2025-09-30T15:43:00.296474Z",
     "iopub.status.busy": "2025-09-30T15:43:00.296270Z",
     "iopub.status.idle": "2025-09-30T15:43:00.299521Z",
     "shell.execute_reply": "2025-09-30T15:43:00.298837Z"
    },
    "papermill": {
     "duration": 0.037588,
     "end_time": "2025-09-30T15:43:00.300612",
     "exception": false,
     "start_time": "2025-09-30T15:43:00.263024",
     "status": "completed"
    },
    "tags": []
   },
   "outputs": [],
   "source": [
    "from transformers import DataCollatorWithPadding"
   ]
  },
  {
   "cell_type": "code",
   "execution_count": 118,
   "id": "d9d2873c",
   "metadata": {
    "execution": {
     "iopub.execute_input": "2025-09-30T15:43:00.368245Z",
     "iopub.status.busy": "2025-09-30T15:43:00.368028Z",
     "iopub.status.idle": "2025-09-30T15:43:00.844295Z",
     "shell.execute_reply": "2025-09-30T15:43:00.843453Z"
    },
    "papermill": {
     "duration": 0.511331,
     "end_time": "2025-09-30T15:43:00.845542",
     "exception": false,
     "start_time": "2025-09-30T15:43:00.334211",
     "status": "completed"
    },
    "tags": []
   },
   "outputs": [
    {
     "name": "stderr",
     "output_type": "stream",
     "text": [
      "/usr/local/lib/python3.11/dist-packages/trl/trainer/sft_trainer.py:401: FutureWarning: `tokenizer` is deprecated and will be removed in version 5.0.0 for `SFTTrainer.__init__`. Use `processing_class` instead.\n",
      "  super().__init__(\n",
      "No label_names provided for model class `PeftModelForSequenceClassification`. Since `PeftModel` hides base models input arguments, if label_names is not given, label_names can't be set automatically within `Trainer`. Note that empty label_names list will be used instead.\n"
     ]
    }
   ],
   "source": [
    "data_collator = DataCollatorWithPadding(tokenizer=tokenizer)\n",
    "\n",
    "trainer= SFTTrainer(\n",
    "    model=model,\n",
    "    train_dataset=datasetDict[\"train\"],\n",
    "    eval_dataset = datasetDict[\"val\"],\n",
    "    args=trainArg,\n",
    "    peft_config = lora_config,\n",
    "    # formatting_func=formatFuct,\n",
    "    data_collator = data_collator, \n",
    "    compute_metrics= compute_metric\n",
    "    \n",
    "    \n",
    ")"
   ]
  },
  {
   "cell_type": "code",
   "execution_count": 119,
   "id": "32628735",
   "metadata": {
    "execution": {
     "iopub.execute_input": "2025-09-30T15:43:00.915217Z",
     "iopub.status.busy": "2025-09-30T15:43:00.914456Z",
     "iopub.status.idle": "2025-09-30T15:43:00.918808Z",
     "shell.execute_reply": "2025-09-30T15:43:00.918071Z"
    },
    "papermill": {
     "duration": 0.039412,
     "end_time": "2025-09-30T15:43:00.919912",
     "exception": false,
     "start_time": "2025-09-30T15:43:00.880500",
     "status": "completed"
    },
    "tags": []
   },
   "outputs": [],
   "source": [
    "# Fix Batch size >1 , not define pad token id issues\n",
    "eos_token_id=tokenizer.eos_token_id\n",
    "model.config.use_cache=False\n",
    "model.config.pad_token_id = tokenizer.pad_token_id"
   ]
  },
  {
   "cell_type": "code",
   "execution_count": null,
   "id": "4efc1b6f",
   "metadata": {
    "papermill": {
     "duration": 0.032645,
     "end_time": "2025-09-30T15:43:00.986321",
     "exception": false,
     "start_time": "2025-09-30T15:43:00.953676",
     "status": "completed"
    },
    "tags": []
   },
   "outputs": [],
   "source": []
  },
  {
   "cell_type": "code",
   "execution_count": 120,
   "id": "28b64141",
   "metadata": {
    "execution": {
     "iopub.execute_input": "2025-09-30T15:43:01.052836Z",
     "iopub.status.busy": "2025-09-30T15:43:01.052617Z",
     "iopub.status.idle": "2025-09-30T15:43:04.509551Z",
     "shell.execute_reply": "2025-09-30T15:43:04.508829Z"
    },
    "papermill": {
     "duration": 3.491782,
     "end_time": "2025-09-30T15:43:04.510916",
     "exception": false,
     "start_time": "2025-09-30T15:43:01.019134",
     "status": "completed"
    },
    "tags": []
   },
   "outputs": [],
   "source": [
    "clearMemory() # clear memory before training"
   ]
  },
  {
   "cell_type": "code",
   "execution_count": 121,
   "id": "f421f68f",
   "metadata": {
    "execution": {
     "iopub.execute_input": "2025-09-30T15:43:04.579639Z",
     "iopub.status.busy": "2025-09-30T15:43:04.579401Z",
     "iopub.status.idle": "2025-09-30T15:43:04.582279Z",
     "shell.execute_reply": "2025-09-30T15:43:04.581729Z"
    },
    "papermill": {
     "duration": 0.037787,
     "end_time": "2025-09-30T15:43:04.583375",
     "exception": false,
     "start_time": "2025-09-30T15:43:04.545588",
     "status": "completed"
    },
    "tags": []
   },
   "outputs": [],
   "source": [
    "# %%time\n",
    "# trainer.train()"
   ]
  },
  {
   "cell_type": "code",
   "execution_count": 122,
   "id": "514260f6",
   "metadata": {
    "execution": {
     "iopub.execute_input": "2025-09-30T15:43:04.650342Z",
     "iopub.status.busy": "2025-09-30T15:43:04.650121Z",
     "iopub.status.idle": "2025-09-30T15:43:04.657191Z",
     "shell.execute_reply": "2025-09-30T15:43:04.656647Z"
    },
    "papermill": {
     "duration": 0.042214,
     "end_time": "2025-09-30T15:43:04.658248",
     "exception": false,
     "start_time": "2025-09-30T15:43:04.616034",
     "status": "completed"
    },
    "tags": []
   },
   "outputs": [],
   "source": [
    "def testValDataset(ds, maxNumData=10):\n",
    "    for i, data in enumerate(ds):\n",
    "        if (i >= maxNumData):\n",
    "            break\n",
    "        print(f\"Data {i}\")\n",
    "        newPrompt = data[\"LLM_Content\"]\n",
    "        with torch.no_grad():\n",
    "             inputIds = tokenizer(newPrompt, return_tensors=\"pt\").to(device)\n",
    "             logits = model(**inputIds).logits\n",
    "             print(f\"Logits Dimension: {logits.shape}\")\n",
    "             probabilities = nn.functional.softmax(logits, dim=-1) # get probilitity\n",
    "             print(f\"Probailities : {probabilities}\")\n",
    "             classID =logits.argmax().item()\n",
    "             print(f\"Class ID type {type(classID)}\")\n",
    "             classTxt = le.inverse_transform([classID])[0]\n",
    "             actualClassID = data['labels']\n",
    "             # print(f\"Actual ClassID : {actualClassID}\")\n",
    "             actualClass = le.inverse_transform([actualClassID])[0]\n",
    "             # Top3 prediction\n",
    "             # acc = (probabilities == actualClassID).mean()\n",
    "             # f1score  =  f1_score(actualClassID, probabilities, average='weighted', zero_division=1)\n",
    "             # recallScore = recall_score(actualClassID, probabilities,  average='weighted', zero_division=1)\n",
    "             # precision = precision_score(actualClassID, probabilities,  average='weighted', zero_division=1)\n",
    "            \n",
    "             # # for map@3\n",
    "             top3_preds = np.argsort(logits.to(torch.float32).cpu(), axis=-1)[:, -3:]\n",
    "             top3 = top3_preds.flatten() # convert to 1D \n",
    "             print(f\"Top3 ID : {top3}\")\n",
    "             # classTxtArray = le.inverse_transform(top3) # convert class ID to Label \n",
    "             match = (top3_preds == actualClassID)\n",
    "                    \n",
    "             # Compute MAP@3 manually\n",
    "             map3 = 0\n",
    "             for i in range(len([actualClassID])):\n",
    "                if match[i, 0]:\n",
    "                    map3 += 1.0\n",
    "                elif match[i, 1]:\n",
    "                    map3 += 1.0 / 2\n",
    "                elif match[i, 2]:\n",
    "                    map3 += 1.0 / 3\n",
    "             map3Score = map3 / len([actualClassID])\n",
    "        \n",
    "\n",
    "        print(f\"\"\"Query: {newPrompt}\n",
    "              Predict Class ID: {classID}\n",
    "              Predict Text: {classTxt}\n",
    "              Actual Class ID: {actualClassID}\n",
    "              Actual Class Text: {actualClass}\n",
    "             MAP@3 Score : {map3Score}\"\"\")\n",
    "        print(\"-\"*30)"
   ]
  },
  {
   "cell_type": "code",
   "execution_count": 123,
   "id": "99d6145a",
   "metadata": {
    "execution": {
     "iopub.execute_input": "2025-09-30T15:43:04.724619Z",
     "iopub.status.busy": "2025-09-30T15:43:04.724413Z",
     "iopub.status.idle": "2025-09-30T15:43:11.482159Z",
     "shell.execute_reply": "2025-09-30T15:43:11.481226Z"
    },
    "papermill": {
     "duration": 6.792172,
     "end_time": "2025-09-30T15:43:11.483406",
     "exception": false,
     "start_time": "2025-09-30T15:43:04.691234",
     "status": "completed"
    },
    "scrolled": true,
    "tags": []
   },
   "outputs": [
    {
     "name": "stdout",
     "output_type": "stream",
     "text": [
      "Data 0\n",
      "Logits Dimension: torch.Size([1, 65])\n",
      "Probailities : tensor([[5.2795e-03, 1.7929e-04, 1.2398e-04, 1.2970e-04, 5.1117e-04, 9.0790e-04,\n",
      "         4.4250e-03, 2.2030e-04, 1.3888e-05, 4.8256e-04, 1.1749e-03, 1.0192e-05,\n",
      "         1.0192e-05, 5.0354e-03, 7.3314e-06, 2.0508e-02, 1.6708e-03, 3.0060e-03,\n",
      "         2.5177e-04, 2.2650e-06, 1.0669e-05, 7.0801e-03, 1.4365e-05, 1.3888e-05,\n",
      "         7.8201e-04, 1.3256e-04, 3.0994e-06, 3.7193e-05, 3.8385e-05, 1.3885e-03,\n",
      "         3.7003e-04, 1.1110e-04, 1.0147e-03, 9.8705e-05, 3.4027e-03, 8.5449e-04,\n",
      "         1.3184e-01, 6.2891e-01, 5.8115e-06, 4.5776e-03, 1.1027e-05, 3.0060e-03,\n",
      "         6.3777e-06, 3.0975e-03, 5.0964e-03, 1.5991e-02, 1.1396e-04, 3.3379e-04,\n",
      "         5.5790e-05, 2.6703e-03, 5.7220e-04, 1.8234e-03, 4.5204e-04, 9.9659e-05,\n",
      "         2.0862e-05, 2.2888e-05, 7.4005e-04, 3.2501e-03, 2.9922e-05, 2.8229e-04,\n",
      "         2.0981e-04, 2.9564e-04, 4.9438e-03, 9.1553e-04, 1.3184e-01]],\n",
      "       device='cuda:0', dtype=torch.bfloat16)\n",
      "Class ID type <class 'int'>\n",
      "Top3 ID : tensor([64, 36, 37])\n",
      "Query: You are an expert educational diagnostician specializing in identifying students' math misconceptions from their written explanations.\n",
      "Your task is to analyze the student's explanation and classify the specific type of misconception they demonstrate.\n",
      "\n",
      "Question: A box contains \\( 120 \\) counters. The counters are red or blue. \\( \\frac{3}{5} \\) of the counters are red.\n",
      "How many red counters are there?\n",
      "Answer: \\( 48 \\)\n",
      "Correct: False\n",
      "Student Explanation: I dividrd 120 by 5 which is 24 then I multiplied by 3 and I subtracted 720.\n",
      "\n",
      "Based on the information above, identify and label the underlying math misconception in the student's explanation.\n",
      "Provide a clear and concise classification of the misconception type.\n",
      "\n",
      "              Predict Class ID: 37\n",
      "              Predict Text: True_Correct:NA\n",
      "              Actual Class ID: 32\n",
      "              Actual Class Text: False_Misconception:Wrong_Fraction\n",
      "             MAP@3 Score : 0.0\n",
      "------------------------------\n",
      "Data 1\n",
      "Logits Dimension: torch.Size([1, 65])\n",
      "Probailities : tensor([[4.8828e-03, 1.9646e-04, 1.0920e-04, 1.2684e-04, 5.8746e-04, 8.2397e-04,\n",
      "         2.8687e-03, 2.0313e-04, 1.2279e-05, 4.8828e-04, 1.1215e-03, 1.1325e-05,\n",
      "         7.9274e-06, 4.5166e-03, 8.2850e-06, 1.6968e-02, 1.2817e-03, 2.7771e-03,\n",
      "         2.3842e-04, 2.5332e-06, 1.0312e-05, 8.0566e-03, 1.2457e-05, 1.5736e-05,\n",
      "         7.4005e-04, 9.0599e-05, 2.8759e-06, 2.6822e-05, 3.3855e-05, 1.0605e-03,\n",
      "         4.1389e-04, 1.1444e-04, 1.1063e-03, 1.0681e-04, 3.3569e-03, 8.8882e-04,\n",
      "         1.4258e-01, 6.1719e-01, 7.6890e-06, 3.6774e-03, 1.0848e-05, 2.2736e-03,\n",
      "         6.2585e-06, 2.3041e-03, 6.3477e-03, 1.3672e-02, 1.2302e-04, 2.8610e-04,\n",
      "         5.5552e-05, 2.6245e-03, 3.6430e-04, 1.4496e-03, 5.1117e-04, 1.0681e-04,\n",
      "         1.8120e-05, 3.0398e-05, 7.1716e-04, 2.8229e-03, 2.3603e-05, 2.7084e-04,\n",
      "         2.3270e-04, 2.6512e-04, 3.7994e-03, 9.9945e-04, 1.4258e-01]],\n",
      "       device='cuda:0', dtype=torch.bfloat16)\n",
      "Class ID type <class 'int'>\n",
      "Top3 ID : tensor([64, 36, 37])\n",
      "Query: You are an expert educational diagnostician specializing in identifying students' math misconceptions from their written explanations.\n",
      "Your task is to analyze the student's explanation and classify the specific type of misconception they demonstrate.\n",
      "\n",
      "Question: What number belongs in the box?\n",
      "\\(\n",
      "(-8)-(-5)=\n",
      "\\square\\)\n",
      "Answer: \\( 13 \\)\n",
      "Correct: False\n",
      "Student Explanation: Two negatives cancel outt to make a positive.\n",
      "\n",
      "Based on the information above, identify and label the underlying math misconception in the student's explanation.\n",
      "Provide a clear and concise classification of the misconception type.\n",
      "\n",
      "              Predict Class ID: 37\n",
      "              Predict Text: True_Correct:NA\n",
      "              Actual Class ID: 23\n",
      "              Actual Class Text: False_Misconception:Positive\n",
      "             MAP@3 Score : 0.0\n",
      "------------------------------\n",
      "Data 2\n",
      "Logits Dimension: torch.Size([1, 65])\n",
      "Probailities : tensor([[6.4087e-03, 2.3937e-04, 1.4400e-04, 1.1587e-04, 6.8665e-04, 9.2316e-04,\n",
      "         4.7607e-03, 2.8229e-04, 1.8597e-05, 5.6839e-04, 1.4420e-03, 1.1444e-05,\n",
      "         1.0252e-05, 5.5847e-03, 9.2387e-06, 1.8555e-02, 1.7853e-03, 2.8992e-03,\n",
      "         3.2806e-04, 2.0564e-06, 1.0133e-05, 7.9956e-03, 1.5199e-05, 1.6928e-05,\n",
      "         6.6757e-04, 1.3733e-04, 4.6194e-06, 3.0160e-05, 3.5763e-05, 1.5717e-03,\n",
      "         5.1498e-04, 1.3161e-04, 8.0109e-04, 1.2207e-04, 3.6621e-03, 1.0147e-03,\n",
      "         1.5332e-01, 5.8594e-01, 8.5235e-06, 4.6997e-03, 1.3590e-05, 3.4332e-03,\n",
      "         6.5267e-06, 2.8687e-03, 7.1716e-03, 2.5757e-02, 1.0061e-04, 3.5095e-04,\n",
      "         5.2929e-05, 3.8910e-03, 5.4550e-04, 1.7166e-03, 4.1580e-04, 1.0777e-04,\n",
      "         2.3484e-05, 2.7537e-05, 9.9945e-04, 4.0283e-03, 3.1233e-05, 2.4796e-04,\n",
      "         3.0708e-04, 2.5940e-04, 4.4861e-03, 1.2741e-03, 1.3477e-01]],\n",
      "       device='cuda:0', dtype=torch.bfloat16)\n",
      "Class ID type <class 'int'>\n",
      "Top3 ID : tensor([64, 36, 37])\n",
      "Query: You are an expert educational diagnostician specializing in identifying students' math misconceptions from their written explanations.\n",
      "Your task is to analyze the student's explanation and classify the specific type of misconception they demonstrate.\n",
      "\n",
      "Question: Calculate \\( \\frac{2}{3} \\times 5 \\)\n",
      "Answer: \\( \\frac{10}{15} \\)\n",
      "Correct: False\n",
      "Student Explanation: i think this because 2/3 2 goes into 10 and three goes into 15\n",
      "\n",
      "Based on the information above, identify and label the underlying math misconception in the student's explanation.\n",
      "Provide a clear and concise classification of the misconception type.\n",
      "\n",
      "              Predict Class ID: 37\n",
      "              Predict Text: True_Correct:NA\n",
      "              Actual Class ID: 9\n",
      "              Actual Class Text: False_Misconception:Duplication\n",
      "             MAP@3 Score : 0.0\n",
      "------------------------------\n",
      "Data 3\n",
      "Logits Dimension: torch.Size([1, 65])\n",
      "Probailities : tensor([[4.3030e-03, 2.8419e-04, 8.7738e-05, 1.0061e-04, 6.3324e-04, 7.6294e-04,\n",
      "         4.3640e-03, 1.7834e-04, 1.9193e-05, 6.8283e-04, 1.2970e-03, 1.3411e-05,\n",
      "         1.0610e-05, 4.2114e-03, 8.5235e-06, 1.5625e-02, 1.1368e-03, 1.8158e-03,\n",
      "         2.6321e-04, 2.2352e-06, 9.8348e-06, 6.7444e-03, 1.4544e-05, 1.4067e-05,\n",
      "         5.1498e-04, 1.1587e-04, 4.7088e-06, 3.7670e-05, 3.3855e-05, 1.2970e-03,\n",
      "         5.0735e-04, 1.1873e-04, 7.5912e-04, 9.1076e-05, 3.0365e-03, 8.1635e-04,\n",
      "         1.1768e-01, 6.3672e-01, 7.1824e-06, 6.5308e-03, 1.8954e-05, 2.7313e-03,\n",
      "         6.0499e-06, 3.6621e-03, 5.7678e-03, 2.3193e-02, 8.4877e-05, 3.0136e-04,\n",
      "         4.9829e-05, 3.3875e-03, 6.2180e-04, 1.2894e-03, 4.2725e-04, 1.0490e-04,\n",
      "         1.8120e-05, 2.8849e-05, 9.2697e-04, 3.6621e-03, 2.3961e-05, 2.5558e-04,\n",
      "         2.5177e-04, 2.0313e-04, 3.8452e-03, 9.0027e-04, 1.3770e-01]],\n",
      "       device='cuda:0', dtype=torch.bfloat16)\n",
      "Class ID type <class 'int'>\n",
      "Top3 ID : tensor([36, 64, 37])\n",
      "Query: You are an expert educational diagnostician specializing in identifying students' math misconceptions from their written explanations.\n",
      "Your task is to analyze the student's explanation and classify the specific type of misconception they demonstrate.\n",
      "\n",
      "Question: Sally has \\( \\frac{2}{3} \\) of a whole cake in the fridge. Robert eats \\( \\frac{1}{3} \\) of this piece. What fraction of the whole cake has Robert eaten?\n",
      "Choose the number sentence that would solve the word problem.\n",
      "Answer: \\( \\frac{1}{3} \\times \\frac{2}{3} \\)\n",
      "Correct: True\n",
      "Student Explanation: i think this because if there is 2/3 in the fridge and he ate 1/3 it is 2/3-1/3.\n",
      "\n",
      "Based on the information above, identify and label the underlying math misconception in the student's explanation.\n",
      "Provide a clear and concise classification of the misconception type.\n",
      "\n",
      "              Predict Class ID: 37\n",
      "              Predict Text: True_Correct:NA\n",
      "              Actual Class ID: 57\n",
      "              Actual Class Text: True_Misconception:Subtraction\n",
      "             MAP@3 Score : 0.0\n",
      "------------------------------\n",
      "Data 4\n",
      "Logits Dimension: torch.Size([1, 65])\n",
      "Probailities : tensor([[4.6997e-03, 2.0790e-04, 1.0300e-04, 1.2684e-04, 5.3787e-04, 7.8964e-04,\n",
      "         4.5471e-03, 2.5558e-04, 1.2398e-05, 4.7684e-04, 1.0605e-03, 1.0729e-05,\n",
      "         1.0252e-05, 4.2725e-03, 9.9540e-06, 1.8555e-02, 1.4877e-03, 3.7689e-03,\n",
      "         2.4414e-04, 2.4736e-06, 9.9540e-06, 8.1177e-03, 1.3411e-05, 1.2755e-05,\n",
      "         8.6594e-04, 1.3351e-04, 3.7104e-06, 3.5763e-05, 3.6478e-05, 1.5564e-03,\n",
      "         4.5967e-04, 1.2207e-04, 6.5613e-04, 1.2207e-04, 3.7079e-03, 8.6594e-04,\n",
      "         1.5332e-01, 5.6641e-01, 7.0632e-06, 4.5471e-03, 1.1802e-05, 2.7161e-03,\n",
      "         6.3181e-06, 2.2125e-03, 7.5989e-03, 1.4648e-02, 1.0967e-04, 2.9373e-04,\n",
      "         4.2439e-05, 3.0823e-03, 4.0436e-04, 2.1820e-03, 3.1471e-04, 9.0122e-05,\n",
      "         1.6451e-05, 3.2187e-05, 1.2131e-03, 2.0294e-03, 2.5392e-05, 2.9564e-04,\n",
      "         3.2234e-04, 3.4523e-04, 4.3335e-03, 8.9264e-04, 1.7285e-01]],\n",
      "       device='cuda:0', dtype=torch.bfloat16)\n",
      "Class ID type <class 'int'>\n",
      "Top3 ID : tensor([36, 64, 37])\n",
      "Query: You are an expert educational diagnostician specializing in identifying students' math misconceptions from their written explanations.\n",
      "Your task is to analyze the student's explanation and classify the specific type of misconception they demonstrate.\n",
      "\n",
      "Question: Which number is the greatest?\n",
      "Answer: \\( 6.2 \\)\n",
      "Correct: True\n",
      "Student Explanation: 6 is bigger than decimal numbers\n",
      "\n",
      "Based on the information above, identify and label the underlying math misconception in the student's explanation.\n",
      "Provide a clear and concise classification of the misconception type.\n",
      "\n",
      "              Predict Class ID: 37\n",
      "              Predict Text: True_Correct:NA\n",
      "              Actual Class ID: 61\n",
      "              Actual Class Text: True_Misconception:Whole_numbers_larger\n",
      "             MAP@3 Score : 0.0\n",
      "------------------------------\n",
      "Data 5\n",
      "Logits Dimension: torch.Size([1, 65])\n",
      "Probailities : tensor([[4.9744e-03, 2.6131e-04, 9.4414e-05, 1.1587e-04, 6.3705e-04, 6.7902e-04,\n",
      "         7.2327e-03, 2.0504e-04, 1.4365e-05, 5.6839e-04, 1.0452e-03, 1.0848e-05,\n",
      "         8.4639e-06, 5.4626e-03, 8.7023e-06, 2.4048e-02, 1.3809e-03, 2.9602e-03,\n",
      "         2.8992e-04, 1.6913e-06, 9.2983e-06, 8.3008e-03, 1.1384e-05, 1.1027e-05,\n",
      "         7.4005e-04, 8.9645e-05, 4.2021e-06, 3.0518e-05, 3.9816e-05, 2.0905e-03,\n",
      "         6.0654e-04, 1.2779e-04, 8.8120e-04, 1.3638e-04, 3.7537e-03, 6.5613e-04,\n",
      "         1.5723e-01, 5.1562e-01, 7.4506e-06, 4.5166e-03, 1.6332e-05, 3.3112e-03,\n",
      "         6.4969e-06, 3.2043e-03, 5.9814e-03, 2.5635e-02, 1.1587e-04, 4.3678e-04,\n",
      "         4.7207e-05, 3.7537e-03, 5.3024e-04, 1.1063e-03, 4.1389e-04, 9.7752e-05,\n",
      "         1.9073e-05, 3.2425e-05, 1.0300e-03, 2.9602e-03, 2.6464e-05, 2.7657e-04,\n",
      "         2.9945e-04, 2.8038e-04, 4.6692e-03, 1.0071e-03, 2.0117e-01]],\n",
      "       device='cuda:0', dtype=torch.bfloat16)\n",
      "Class ID type <class 'int'>\n",
      "Top3 ID : tensor([36, 64, 37])\n",
      "Query: You are an expert educational diagnostician specializing in identifying students' math misconceptions from their written explanations.\n",
      "Your task is to analyze the student's explanation and classify the specific type of misconception they demonstrate.\n",
      "\n",
      "Question: What fraction of the shape is not shaded? Give your answer in its simplest form. [Image: A triangle split into 9 equal smaller triangles. 6 of them are shaded.]\n",
      "Answer: \\( \\frac{3}{9} \\)\n",
      "Correct: False\n",
      "Student Explanation: i did 3 9 because there are some white and blue triangles\n",
      "\n",
      "Based on the information above, identify and label the underlying math misconception in the student's explanation.\n",
      "Provide a clear and concise classification of the misconception type.\n",
      "\n",
      "              Predict Class ID: 37\n",
      "              Predict Text: True_Correct:NA\n",
      "              Actual Class ID: 13\n",
      "              Actual Class Text: False_Misconception:Incomplete\n",
      "             MAP@3 Score : 0.0\n",
      "------------------------------\n",
      "Data 6\n",
      "Logits Dimension: torch.Size([1, 65])\n",
      "Probailities : tensor([[4.0894e-03, 2.4986e-04, 8.2970e-05, 1.1015e-04, 6.1035e-04, 7.4005e-04,\n",
      "         4.5776e-03, 1.8597e-04, 1.8716e-05, 6.2943e-04, 1.1063e-03, 1.3053e-05,\n",
      "         7.2122e-06, 5.3406e-03, 6.7651e-06, 1.8066e-02, 1.0529e-03, 2.6245e-03,\n",
      "         2.9373e-04, 1.8254e-06, 8.8215e-06, 6.6528e-03, 1.0967e-05, 1.0312e-05,\n",
      "         6.8665e-04, 1.0777e-04, 3.8445e-06, 4.0770e-05, 3.6716e-05, 1.4191e-03,\n",
      "         4.9973e-04, 1.1826e-04, 8.4305e-04, 1.1349e-04, 3.1891e-03, 7.5531e-04,\n",
      "         1.0596e-01, 6.0938e-01, 6.9737e-06, 5.0354e-03, 1.5736e-05, 2.9144e-03,\n",
      "         5.4538e-06, 3.1891e-03, 6.2561e-03, 2.2217e-02, 1.1301e-04, 3.8719e-04,\n",
      "         5.4121e-05, 3.5706e-03, 6.1417e-04, 1.1292e-03, 4.8637e-04, 1.1015e-04,\n",
      "         1.7524e-05, 2.3246e-05, 8.1635e-04, 3.5706e-03, 2.2531e-05, 2.8419e-04,\n",
      "         2.5749e-04, 2.3365e-04, 4.5776e-03, 8.8501e-04, 1.7480e-01]],\n",
      "       device='cuda:0', dtype=torch.bfloat16)\n",
      "Class ID type <class 'int'>\n",
      "Top3 ID : tensor([36, 64, 37])\n",
      "Query: You are an expert educational diagnostician specializing in identifying students' math misconceptions from their written explanations.\n",
      "Your task is to analyze the student's explanation and classify the specific type of misconception they demonstrate.\n",
      "\n",
      "Question: Sally has \\( \\frac{2}{3} \\) of a whole cake in the fridge. Robert eats \\( \\frac{1}{3} \\) of this piece. What fraction of the whole cake has Robert eaten?\n",
      "Choose the number sentence that would solve the word problem.\n",
      "Answer: \\( \\frac{2}{3}-\\frac{1}{3} \\)\n",
      "Correct: False\n",
      "Student Explanation: because it says he ate 1/3 so you do 2/3-1/3 is 1/3\n",
      "\n",
      "Based on the information above, identify and label the underlying math misconception in the student's explanation.\n",
      "Provide a clear and concise classification of the misconception type.\n",
      "\n",
      "              Predict Class ID: 37\n",
      "              Predict Text: True_Correct:NA\n",
      "              Actual Class ID: 26\n",
      "              Actual Class Text: False_Misconception:Subtraction\n",
      "             MAP@3 Score : 0.0\n",
      "------------------------------\n",
      "Data 7\n",
      "Logits Dimension: torch.Size([1, 65])\n",
      "Probailities : tensor([[5.5847e-03, 2.4223e-04, 1.1683e-04, 1.2493e-04, 8.4686e-04, 1.0071e-03,\n",
      "         4.5471e-03, 2.2030e-04, 1.4305e-05, 6.7139e-04, 1.3580e-03, 1.2994e-05,\n",
      "         9.5367e-06, 6.9580e-03, 9.5367e-06, 2.1362e-02, 1.8234e-03, 2.7161e-03,\n",
      "         2.3174e-04, 3.1888e-06, 1.5736e-05, 7.5073e-03, 1.5497e-05, 1.8001e-05,\n",
      "         1.2054e-03, 1.2684e-04, 3.6061e-06, 3.6478e-05, 3.6955e-05, 1.6251e-03,\n",
      "         4.9973e-04, 1.5259e-04, 1.0605e-03, 1.2779e-04, 4.1504e-03, 1.0147e-03,\n",
      "         1.7383e-01, 5.3516e-01, 7.9870e-06, 5.3406e-03, 1.7524e-05, 3.1281e-03,\n",
      "         8.1062e-06, 2.2888e-03, 8.2397e-03, 1.5442e-02, 1.6880e-04, 3.3188e-04,\n",
      "         6.7711e-05, 3.4332e-03, 5.4169e-04, 1.5411e-03, 6.0654e-04, 1.3542e-04,\n",
      "         2.1458e-05, 3.6478e-05, 1.1978e-03, 3.1738e-03, 3.0756e-05, 2.5368e-04,\n",
      "         3.8528e-04, 2.2888e-04, 4.3335e-03, 1.2131e-03, 1.7383e-01]],\n",
      "       device='cuda:0', dtype=torch.bfloat16)\n",
      "Class ID type <class 'int'>\n",
      "Top3 ID : tensor([64, 36, 37])\n",
      "Query: You are an expert educational diagnostician specializing in identifying students' math misconceptions from their written explanations.\n",
      "Your task is to analyze the student's explanation and classify the specific type of misconception they demonstrate.\n",
      "\n",
      "Question: \\( \\frac{A}{10}=\\frac{9}{15} \\) What is the value of \\( A \\) ?\n",
      "Answer: \\( 6 \\)\n",
      "Correct: True\n",
      "Student Explanation: You do thee math, and you get the answer.\n",
      "\n",
      "Based on the information above, identify and label the underlying math misconception in the student's explanation.\n",
      "Provide a clear and concise classification of the misconception type.\n",
      "\n",
      "              Predict Class ID: 37\n",
      "              Predict Text: True_Correct:NA\n",
      "              Actual Class ID: 64\n",
      "              Actual Class Text: True_Neither:NA\n",
      "             MAP@3 Score : 1.0\n",
      "------------------------------\n",
      "Data 8\n",
      "Logits Dimension: torch.Size([1, 65])\n",
      "Probailities : tensor([[4.6082e-03, 2.4796e-04, 1.0490e-04, 1.2064e-04, 8.0490e-04, 8.5449e-04,\n",
      "         7.5684e-03, 2.3079e-04, 1.7881e-05, 5.0735e-04, 1.0757e-03, 1.3947e-05,\n",
      "         1.1742e-05, 4.6692e-03, 1.1027e-05, 2.4048e-02, 2.0142e-03, 3.1281e-03,\n",
      "         2.4796e-04, 2.7865e-06, 1.3709e-05, 9.7046e-03, 1.6332e-05, 1.2696e-05,\n",
      "         1.1292e-03, 1.2589e-04, 3.8147e-06, 3.1948e-05, 3.9816e-05, 1.9989e-03,\n",
      "         5.7602e-04, 1.2207e-04, 9.0790e-04, 1.2589e-04, 3.2501e-03, 8.7738e-04,\n",
      "         1.6699e-01, 5.4688e-01, 5.7220e-06, 4.3945e-03, 1.8477e-05, 4.0588e-03,\n",
      "         7.8082e-06, 2.9449e-03, 9.2773e-03, 2.5635e-02, 1.4305e-04, 4.6730e-04,\n",
      "         4.7207e-05, 3.2349e-03, 4.8447e-04, 1.5259e-03, 5.1498e-04, 1.0872e-04,\n",
      "         2.1935e-05, 3.0041e-05, 1.2436e-03, 2.9602e-03, 2.7299e-05, 2.3746e-04,\n",
      "         3.3760e-04, 2.9373e-04, 4.7302e-03, 9.7275e-04, 1.5234e-01]],\n",
      "       device='cuda:0', dtype=torch.bfloat16)\n",
      "Class ID type <class 'int'>\n",
      "Top3 ID : tensor([64, 36, 37])\n",
      "Query: You are an expert educational diagnostician specializing in identifying students' math misconceptions from their written explanations.\n",
      "Your task is to analyze the student's explanation and classify the specific type of misconception they demonstrate.\n",
      "\n",
      "Question: This is part of a regular polygon. How many sides does it have? [Image: A diagram showing an obtuse angle labelled 144 degrees]\n",
      "Answer: \\( 5 \\)\n",
      "Correct: False\n",
      "Student Explanation: because the sides look quite big\n",
      "\n",
      "Based on the information above, identify and label the underlying math misconception in the student's explanation.\n",
      "Provide a clear and concise classification of the misconception type.\n",
      "\n",
      "              Predict Class ID: 37\n",
      "              Predict Text: True_Correct:NA\n",
      "              Actual Class ID: 36\n",
      "              Actual Class Text: False_Neither:NA\n",
      "             MAP@3 Score : 0.5\n",
      "------------------------------\n",
      "Data 9\n",
      "Logits Dimension: torch.Size([1, 65])\n",
      "Probailities : tensor([[4.1809e-03, 2.0695e-04, 9.0599e-05, 8.8692e-05, 4.8256e-04, 6.7139e-04,\n",
      "         2.8229e-03, 1.8692e-04, 1.0848e-05, 4.5776e-04, 1.2283e-03, 1.0848e-05,\n",
      "         7.2122e-06, 3.9368e-03, 7.1228e-06, 1.7578e-02, 1.1673e-03, 2.2736e-03,\n",
      "         2.4223e-04, 2.1756e-06, 8.1658e-06, 7.3242e-03, 1.1563e-05, 1.1563e-05,\n",
      "         6.1417e-04, 7.6294e-05, 2.7865e-06, 2.5988e-05, 2.6822e-05, 9.8419e-04,\n",
      "         3.9101e-04, 1.1730e-04, 8.3923e-04, 1.0633e-04, 3.5095e-03, 9.6130e-04,\n",
      "         1.2988e-01, 6.2109e-01, 6.8843e-06, 3.6316e-03, 1.1563e-05, 2.1667e-03,\n",
      "         5.5432e-06, 2.4567e-03, 7.3242e-03, 1.3916e-02, 9.5844e-05, 2.4223e-04,\n",
      "         4.7207e-05, 2.7313e-03, 3.3760e-04, 1.1978e-03, 4.1389e-04, 9.8228e-05,\n",
      "         1.3709e-05, 2.8133e-05, 7.5531e-04, 2.2583e-03, 2.3007e-05, 2.7275e-04,\n",
      "         1.8787e-04, 2.1648e-04, 3.8605e-03, 8.1635e-04, 1.5625e-01]],\n",
      "       device='cuda:0', dtype=torch.bfloat16)\n",
      "Class ID type <class 'int'>\n",
      "Top3 ID : tensor([36, 64, 37])\n",
      "Query: You are an expert educational diagnostician specializing in identifying students' math misconceptions from their written explanations.\n",
      "Your task is to analyze the student's explanation and classify the specific type of misconception they demonstrate.\n",
      "\n",
      "Question: What number belongs in the box?\n",
      "\\(\n",
      "(-8)-(-5)=\n",
      "\\square\\)\n",
      "Answer: \\( -3 \\)\n",
      "Correct: True\n",
      "Student Explanation: two negative numbers always subtract to a positive\n",
      "\n",
      "Based on the information above, identify and label the underlying math misconception in the student's explanation.\n",
      "Provide a clear and concise classification of the misconception type.\n",
      "\n",
      "              Predict Class ID: 37\n",
      "              Predict Text: True_Correct:NA\n",
      "              Actual Class ID: 55\n",
      "              Actual Class Text: True_Misconception:Positive\n",
      "             MAP@3 Score : 0.0\n",
      "------------------------------\n"
     ]
    }
   ],
   "source": [
    "testValDataset(datasetDict[\"val\"], 10)"
   ]
  },
  {
   "cell_type": "code",
   "execution_count": 124,
   "id": "c68ed1dd",
   "metadata": {
    "execution": {
     "iopub.execute_input": "2025-09-30T15:43:11.553579Z",
     "iopub.status.busy": "2025-09-30T15:43:11.553142Z",
     "iopub.status.idle": "2025-09-30T15:43:11.557579Z",
     "shell.execute_reply": "2025-09-30T15:43:11.556871Z"
    },
    "papermill": {
     "duration": 0.040047,
     "end_time": "2025-09-30T15:43:11.558593",
     "exception": false,
     "start_time": "2025-09-30T15:43:11.518546",
     "status": "completed"
    },
    "tags": []
   },
   "outputs": [
    {
     "data": {
      "text/plain": [
       "DatasetDict({\n",
       "    test: Dataset({\n",
       "        features: ['row_id', 'Category:Misconception'],\n",
       "        num_rows: 3\n",
       "    })\n",
       "})"
      ]
     },
     "execution_count": 124,
     "metadata": {},
     "output_type": "execute_result"
    }
   ],
   "source": [
    "submitDict"
   ]
  },
  {
   "cell_type": "markdown",
   "id": "da511051",
   "metadata": {
    "papermill": {
     "duration": 0.033883,
     "end_time": "2025-09-30T15:43:11.627587",
     "exception": false,
     "start_time": "2025-09-30T15:43:11.593704",
     "status": "completed"
    },
    "tags": []
   },
   "source": [
    "# Final Prediction"
   ]
  },
  {
   "cell_type": "code",
   "execution_count": 125,
   "id": "fcad1111",
   "metadata": {
    "execution": {
     "iopub.execute_input": "2025-09-30T15:43:11.695960Z",
     "iopub.status.busy": "2025-09-30T15:43:11.695541Z",
     "iopub.status.idle": "2025-09-30T15:43:11.701072Z",
     "shell.execute_reply": "2025-09-30T15:43:11.700527Z"
    },
    "papermill": {
     "duration": 0.040958,
     "end_time": "2025-09-30T15:43:11.702120",
     "exception": false,
     "start_time": "2025-09-30T15:43:11.661162",
     "status": "completed"
    },
    "tags": []
   },
   "outputs": [],
   "source": [
    "def predictTestDataset(ds):\n",
    "    result = []\n",
    "    idx = []\n",
    "    for i, data in enumerate(ds):\n",
    "        print(f\"Data {i}\")\n",
    "        rowId= data[\"row_id\"]\n",
    "        newPrompt = data[\"LLM_Content\"]\n",
    "        with torch.no_grad():\n",
    "             inputIds = tokenizer(newPrompt, return_tensors=\"pt\").to(device)\n",
    "             logits = model(**inputIds).logits\n",
    "             probabilities = nn.functional.softmax(logits, dim=-1) # get probilitity\n",
    "             top3_preds = np.argsort(logits.to(torch.float32).cpu(), axis=-1)[:, -3:]\n",
    "             top3 = top3_preds.flatten() # convert to 1D \n",
    "             classTxtArray = le.inverse_transform(top3) # convert class ID to Label \n",
    "             top3_labels    = classTxtArray.reshape(top3.shape)\n",
    "             temp = \"\"\n",
    "             # for preds in top3_labels:\n",
    "             temp += temp + \" \".join(top3_labels)\n",
    "             # result.append(temp)\n",
    "             # print((top3.shape))\n",
    "             result.append(temp[:-1])\n",
    "             idx.append(rowId)\n",
    "\n",
    "        print(f\"RowID: {rowId}\\n\\rQuery: {newPrompt}\\n\\rPredict Top3 Class ID : {top3}\\n\\rClass Text : {temp}\")\n",
    "        print(\"-\"*30)\n",
    "    return idx, result\n"
   ]
  },
  {
   "cell_type": "code",
   "execution_count": 126,
   "id": "652e2733",
   "metadata": {
    "execution": {
     "iopub.execute_input": "2025-09-30T15:43:11.771061Z",
     "iopub.status.busy": "2025-09-30T15:43:11.770620Z",
     "iopub.status.idle": "2025-09-30T15:43:13.569915Z",
     "shell.execute_reply": "2025-09-30T15:43:13.569288Z"
    },
    "papermill": {
     "duration": 1.835598,
     "end_time": "2025-09-30T15:43:13.571096",
     "exception": false,
     "start_time": "2025-09-30T15:43:11.735498",
     "status": "completed"
    },
    "tags": []
   },
   "outputs": [
    {
     "name": "stdout",
     "output_type": "stream",
     "text": [
      "Data 0\n",
      "RowID: 36696\n",
      "Query: You are an expert educational diagnostician specializing in identifying students' math misconceptions from their written explanations.\n",
      "Your task is to analyze the student's explanation and classify the specific type of misconception they demonstrate.\n",
      "\n",
      "Question: What fraction of the shape is not shaded? Give your answer in its simplest form. [Image: A triangle split into 9 equal smaller triangles. 6 of them are shaded.]\n",
      "Answer: \\( \\frac{1}{3} \\)\n",
      "Correct: True\n",
      "Student Explanation: I think that 1/3 is the answer, as it's the simplest form of 3/9.\n",
      "\n",
      "Based on the information above, identify and label the underlying math misconception in the student's explanation.\n",
      "Provide a clear and concise classification of the misconception type.\n",
      "\n",
      "Predict Top3 Class ID : tensor([36, 64, 37])\n",
      "Class Text : False_Neither:NA True_Neither:NA True_Correct:NA\n",
      "------------------------------\n",
      "Data 1\n",
      "RowID: 36697\n",
      "Query: You are an expert educational diagnostician specializing in identifying students' math misconceptions from their written explanations.\n",
      "Your task is to analyze the student's explanation and classify the specific type of misconception they demonstrate.\n",
      "\n",
      "Question: What fraction of the shape is not shaded? Give your answer in its simplest form. [Image: A triangle split into 9 equal smaller triangles. 6 of them are shaded.]\n",
      "Answer: \\( \\frac{3}{6} \\)\n",
      "Correct: False\n",
      "Student Explanation: i think this answer is because 3 triangles are white and 6 triangle are blue.\n",
      "\n",
      "Based on the information above, identify and label the underlying math misconception in the student's explanation.\n",
      "Provide a clear and concise classification of the misconception type.\n",
      "\n",
      "Predict Top3 Class ID : tensor([64, 36, 37])\n",
      "Class Text : True_Neither:NA False_Neither:NA True_Correct:NA\n",
      "------------------------------\n",
      "Data 2\n",
      "RowID: 36698\n",
      "Query: You are an expert educational diagnostician specializing in identifying students' math misconceptions from their written explanations.\n",
      "Your task is to analyze the student's explanation and classify the specific type of misconception they demonstrate.\n",
      "\n",
      "Question: Which number is the greatest?\n",
      "Answer: \\( 6.2 \\)\n",
      "Correct: True\n",
      "Student Explanation: because the 2 makes it higher than the others.\n",
      "\n",
      "Based on the information above, identify and label the underlying math misconception in the student's explanation.\n",
      "Provide a clear and concise classification of the misconception type.\n",
      "\n",
      "Predict Top3 Class ID : tensor([36, 64, 37])\n",
      "Class Text : False_Neither:NA True_Neither:NA True_Correct:NA\n",
      "------------------------------\n"
     ]
    },
    {
     "data": {
      "text/html": [
       "<div>\n",
       "<style scoped>\n",
       "    .dataframe tbody tr th:only-of-type {\n",
       "        vertical-align: middle;\n",
       "    }\n",
       "\n",
       "    .dataframe tbody tr th {\n",
       "        vertical-align: top;\n",
       "    }\n",
       "\n",
       "    .dataframe thead th {\n",
       "        text-align: right;\n",
       "    }\n",
       "</style>\n",
       "<table border=\"1\" class=\"dataframe\">\n",
       "  <thead>\n",
       "    <tr style=\"text-align: right;\">\n",
       "      <th></th>\n",
       "      <th>row_id</th>\n",
       "      <th>Category:Misconception</th>\n",
       "    </tr>\n",
       "  </thead>\n",
       "  <tbody>\n",
       "    <tr>\n",
       "      <th>0</th>\n",
       "      <td>36696</td>\n",
       "      <td>False_Neither:NA True_Neither:NA True_Correct:N</td>\n",
       "    </tr>\n",
       "    <tr>\n",
       "      <th>1</th>\n",
       "      <td>36697</td>\n",
       "      <td>True_Neither:NA False_Neither:NA True_Correct:N</td>\n",
       "    </tr>\n",
       "    <tr>\n",
       "      <th>2</th>\n",
       "      <td>36698</td>\n",
       "      <td>False_Neither:NA True_Neither:NA True_Correct:N</td>\n",
       "    </tr>\n",
       "  </tbody>\n",
       "</table>\n",
       "</div>"
      ],
      "text/plain": [
       "   row_id                           Category:Misconception\n",
       "0   36696  False_Neither:NA True_Neither:NA True_Correct:N\n",
       "1   36697  True_Neither:NA False_Neither:NA True_Correct:N\n",
       "2   36698  False_Neither:NA True_Neither:NA True_Correct:N"
      ]
     },
     "execution_count": 126,
     "metadata": {},
     "output_type": "execute_result"
    }
   ],
   "source": [
    "rowID ,predictResult = predictTestDataset(testDict[\"test\"])\n",
    "final =  pd.DataFrame({\"row_id\": rowID, \"Category:Misconception\": predictResult})\n",
    "final"
   ]
  },
  {
   "cell_type": "code",
   "execution_count": 127,
   "id": "e588c64e",
   "metadata": {
    "execution": {
     "iopub.execute_input": "2025-09-30T15:43:13.645948Z",
     "iopub.status.busy": "2025-09-30T15:43:13.645296Z",
     "iopub.status.idle": "2025-09-30T15:43:13.650080Z",
     "shell.execute_reply": "2025-09-30T15:43:13.649388Z"
    },
    "papermill": {
     "duration": 0.042526,
     "end_time": "2025-09-30T15:43:13.651192",
     "exception": false,
     "start_time": "2025-09-30T15:43:13.608666",
     "status": "completed"
    },
    "tags": []
   },
   "outputs": [
    {
     "data": {
      "text/plain": [
       "['False_Neither:NA True_Neither:NA True_Correct:N',\n",
       " 'True_Neither:NA False_Neither:NA True_Correct:N',\n",
       " 'False_Neither:NA True_Neither:NA True_Correct:N']"
      ]
     },
     "execution_count": 127,
     "metadata": {},
     "output_type": "execute_result"
    }
   ],
   "source": [
    "predictResult\n"
   ]
  },
  {
   "cell_type": "code",
   "execution_count": 128,
   "id": "db1c589c",
   "metadata": {
    "execution": {
     "iopub.execute_input": "2025-09-30T15:43:13.721049Z",
     "iopub.status.busy": "2025-09-30T15:43:13.720650Z",
     "iopub.status.idle": "2025-09-30T15:43:13.728778Z",
     "shell.execute_reply": "2025-09-30T15:43:13.728148Z"
    },
    "papermill": {
     "duration": 0.04382,
     "end_time": "2025-09-30T15:43:13.729895",
     "exception": false,
     "start_time": "2025-09-30T15:43:13.686075",
     "status": "completed"
    },
    "tags": []
   },
   "outputs": [],
   "source": [
    "final.to_csv('submission.csv', index = False)"
   ]
  },
  {
   "cell_type": "code",
   "execution_count": 129,
   "id": "1fa574d0",
   "metadata": {
    "execution": {
     "iopub.execute_input": "2025-09-30T15:43:13.800019Z",
     "iopub.status.busy": "2025-09-30T15:43:13.799609Z",
     "iopub.status.idle": "2025-09-30T15:43:13.807296Z",
     "shell.execute_reply": "2025-09-30T15:43:13.806592Z"
    },
    "papermill": {
     "duration": 0.043317,
     "end_time": "2025-09-30T15:43:13.808446",
     "exception": false,
     "start_time": "2025-09-30T15:43:13.765129",
     "status": "completed"
    },
    "tags": []
   },
   "outputs": [
    {
     "data": {
      "text/html": [
       "<div>\n",
       "<style scoped>\n",
       "    .dataframe tbody tr th:only-of-type {\n",
       "        vertical-align: middle;\n",
       "    }\n",
       "\n",
       "    .dataframe tbody tr th {\n",
       "        vertical-align: top;\n",
       "    }\n",
       "\n",
       "    .dataframe thead th {\n",
       "        text-align: right;\n",
       "    }\n",
       "</style>\n",
       "<table border=\"1\" class=\"dataframe\">\n",
       "  <thead>\n",
       "    <tr style=\"text-align: right;\">\n",
       "      <th></th>\n",
       "      <th>row_id</th>\n",
       "      <th>Category:Misconception</th>\n",
       "    </tr>\n",
       "  </thead>\n",
       "  <tbody>\n",
       "    <tr>\n",
       "      <th>0</th>\n",
       "      <td>36696</td>\n",
       "      <td>False_Neither:NA True_Neither:NA True_Correct:N</td>\n",
       "    </tr>\n",
       "    <tr>\n",
       "      <th>1</th>\n",
       "      <td>36697</td>\n",
       "      <td>True_Neither:NA False_Neither:NA True_Correct:N</td>\n",
       "    </tr>\n",
       "    <tr>\n",
       "      <th>2</th>\n",
       "      <td>36698</td>\n",
       "      <td>False_Neither:NA True_Neither:NA True_Correct:N</td>\n",
       "    </tr>\n",
       "  </tbody>\n",
       "</table>\n",
       "</div>"
      ],
      "text/plain": [
       "   row_id                           Category:Misconception\n",
       "0   36696  False_Neither:NA True_Neither:NA True_Correct:N\n",
       "1   36697  True_Neither:NA False_Neither:NA True_Correct:N\n",
       "2   36698  False_Neither:NA True_Neither:NA True_Correct:N"
      ]
     },
     "execution_count": 129,
     "metadata": {},
     "output_type": "execute_result"
    }
   ],
   "source": [
    "pd.read_csv('submission.csv')"
   ]
  },
  {
   "cell_type": "code",
   "execution_count": null,
   "id": "0db67b5c",
   "metadata": {
    "papermill": {
     "duration": 0.033718,
     "end_time": "2025-09-30T15:43:13.877117",
     "exception": false,
     "start_time": "2025-09-30T15:43:13.843399",
     "status": "completed"
    },
    "tags": []
   },
   "outputs": [],
   "source": []
  },
  {
   "cell_type": "code",
   "execution_count": null,
   "id": "499dc657",
   "metadata": {
    "papermill": {
     "duration": 0.03378,
     "end_time": "2025-09-30T15:43:13.945233",
     "exception": false,
     "start_time": "2025-09-30T15:43:13.911453",
     "status": "completed"
    },
    "tags": []
   },
   "outputs": [],
   "source": []
  }
 ],
 "metadata": {
  "kaggle": {
   "accelerator": "nvidiaTeslaT4",
   "dataSources": [
    {
     "databundleVersionId": 12957508,
     "sourceId": 104383,
     "sourceType": "competition"
    },
    {
     "datasetId": 5404413,
     "sourceId": 12932535,
     "sourceType": "datasetVersion"
    },
    {
     "modelId": 368800,
     "modelInstanceId": 347538,
     "sourceId": 426326,
     "sourceType": "modelInstanceVersion"
    },
    {
     "isSourceIdPinned": true,
     "modelId": 450097,
     "modelInstanceId": 433218,
     "sourceId": 593806,
     "sourceType": "modelInstanceVersion"
    }
   ],
   "dockerImageVersionId": 31090,
   "isGpuEnabled": true,
   "isInternetEnabled": false,
   "language": "python",
   "sourceType": "notebook"
  },
  "kernelspec": {
   "display_name": "Python 3",
   "language": "python",
   "name": "python3"
  },
  "language_info": {
   "codemirror_mode": {
    "name": "ipython",
    "version": 3
   },
   "file_extension": ".py",
   "mimetype": "text/x-python",
   "name": "python",
   "nbconvert_exporter": "python",
   "pygments_lexer": "ipython3",
   "version": "3.11.13"
  },
  "papermill": {
   "default_parameters": {},
   "duration": 221.568421,
   "end_time": "2025-09-30T15:43:17.554145",
   "environment_variables": {},
   "exception": null,
   "input_path": "__notebook__.ipynb",
   "output_path": "__notebook__.ipynb",
   "parameters": {},
   "start_time": "2025-09-30T15:39:35.985724",
   "version": "2.6.0"
  },
  "widgets": {
   "application/vnd.jupyter.widget-state+json": {
    "state": {
     "003adc5b81b94c04b63c1c9591214456": {
      "model_module": "@jupyter-widgets/controls",
      "model_module_version": "2.0.0",
      "model_name": "FloatProgressModel",
      "state": {
       "_dom_classes": [],
       "_model_module": "@jupyter-widgets/controls",
       "_model_module_version": "2.0.0",
       "_model_name": "FloatProgressModel",
       "_view_count": null,
       "_view_module": "@jupyter-widgets/controls",
       "_view_module_version": "2.0.0",
       "_view_name": "ProgressView",
       "bar_style": "success",
       "description": "",
       "description_allow_html": false,
       "layout": "IPY_MODEL_9536a90702e54b1f87d044f128be9a31",
       "max": 2.0,
       "min": 0.0,
       "orientation": "horizontal",
       "style": "IPY_MODEL_e3ee095d3c7d4ef58c1d41f3ad4bc681",
       "tabbable": null,
       "tooltip": null,
       "value": 2.0
      }
     },
     "10d9c9fb5e0a4e13a04ca4cc945f09b7": {
      "model_module": "@jupyter-widgets/base",
      "model_module_version": "2.0.0",
      "model_name": "LayoutModel",
      "state": {
       "_model_module": "@jupyter-widgets/base",
       "_model_module_version": "2.0.0",
       "_model_name": "LayoutModel",
       "_view_count": null,
       "_view_module": "@jupyter-widgets/base",
       "_view_module_version": "2.0.0",
       "_view_name": "LayoutView",
       "align_content": null,
       "align_items": null,
       "align_self": null,
       "border_bottom": null,
       "border_left": null,
       "border_right": null,
       "border_top": null,
       "bottom": null,
       "display": null,
       "flex": null,
       "flex_flow": null,
       "grid_area": null,
       "grid_auto_columns": null,
       "grid_auto_flow": null,
       "grid_auto_rows": null,
       "grid_column": null,
       "grid_gap": null,
       "grid_row": null,
       "grid_template_areas": null,
       "grid_template_columns": null,
       "grid_template_rows": null,
       "height": null,
       "justify_content": null,
       "justify_items": null,
       "left": null,
       "margin": null,
       "max_height": null,
       "max_width": null,
       "min_height": null,
       "min_width": null,
       "object_fit": null,
       "object_position": null,
       "order": null,
       "overflow": null,
       "padding": null,
       "right": null,
       "top": null,
       "visibility": null,
       "width": null
      }
     },
     "17d87771a995419e8136a495fcd2a8a4": {
      "model_module": "@jupyter-widgets/controls",
      "model_module_version": "2.0.0",
      "model_name": "HTMLModel",
      "state": {
       "_dom_classes": [],
       "_model_module": "@jupyter-widgets/controls",
       "_model_module_version": "2.0.0",
       "_model_name": "HTMLModel",
       "_view_count": null,
       "_view_module": "@jupyter-widgets/controls",
       "_view_module_version": "2.0.0",
       "_view_name": "HTMLView",
       "description": "",
       "description_allow_html": false,
       "layout": "IPY_MODEL_d514b74d1a5a4287b4e90cc2bed6f810",
       "placeholder": "​",
       "style": "IPY_MODEL_81a7a494f3b9423ca1058fc6b0dfa268",
       "tabbable": null,
       "tooltip": null,
       "value": "Loading checkpoint shards: 100%"
      }
     },
     "1daa6b5c906843ef81f451b4cb2417c7": {
      "model_module": "@jupyter-widgets/base",
      "model_module_version": "2.0.0",
      "model_name": "LayoutModel",
      "state": {
       "_model_module": "@jupyter-widgets/base",
       "_model_module_version": "2.0.0",
       "_model_name": "LayoutModel",
       "_view_count": null,
       "_view_module": "@jupyter-widgets/base",
       "_view_module_version": "2.0.0",
       "_view_name": "LayoutView",
       "align_content": null,
       "align_items": null,
       "align_self": null,
       "border_bottom": null,
       "border_left": null,
       "border_right": null,
       "border_top": null,
       "bottom": null,
       "display": null,
       "flex": null,
       "flex_flow": null,
       "grid_area": null,
       "grid_auto_columns": null,
       "grid_auto_flow": null,
       "grid_auto_rows": null,
       "grid_column": null,
       "grid_gap": null,
       "grid_row": null,
       "grid_template_areas": null,
       "grid_template_columns": null,
       "grid_template_rows": null,
       "height": null,
       "justify_content": null,
       "justify_items": null,
       "left": null,
       "margin": null,
       "max_height": null,
       "max_width": null,
       "min_height": null,
       "min_width": null,
       "object_fit": null,
       "object_position": null,
       "order": null,
       "overflow": null,
       "padding": null,
       "right": null,
       "top": null,
       "visibility": null,
       "width": null
      }
     },
     "230af3be50964483a38470a38dc0ac29": {
      "model_module": "@jupyter-widgets/base",
      "model_module_version": "2.0.0",
      "model_name": "LayoutModel",
      "state": {
       "_model_module": "@jupyter-widgets/base",
       "_model_module_version": "2.0.0",
       "_model_name": "LayoutModel",
       "_view_count": null,
       "_view_module": "@jupyter-widgets/base",
       "_view_module_version": "2.0.0",
       "_view_name": "LayoutView",
       "align_content": null,
       "align_items": null,
       "align_self": null,
       "border_bottom": null,
       "border_left": null,
       "border_right": null,
       "border_top": null,
       "bottom": null,
       "display": null,
       "flex": null,
       "flex_flow": null,
       "grid_area": null,
       "grid_auto_columns": null,
       "grid_auto_flow": null,
       "grid_auto_rows": null,
       "grid_column": null,
       "grid_gap": null,
       "grid_row": null,
       "grid_template_areas": null,
       "grid_template_columns": null,
       "grid_template_rows": null,
       "height": null,
       "justify_content": null,
       "justify_items": null,
       "left": null,
       "margin": null,
       "max_height": null,
       "max_width": null,
       "min_height": null,
       "min_width": null,
       "object_fit": null,
       "object_position": null,
       "order": null,
       "overflow": null,
       "padding": null,
       "right": null,
       "top": null,
       "visibility": null,
       "width": null
      }
     },
     "24e09e2ced024132ac6da6f2a921cb9b": {
      "model_module": "@jupyter-widgets/controls",
      "model_module_version": "2.0.0",
      "model_name": "HBoxModel",
      "state": {
       "_dom_classes": [],
       "_model_module": "@jupyter-widgets/controls",
       "_model_module_version": "2.0.0",
       "_model_name": "HBoxModel",
       "_view_count": null,
       "_view_module": "@jupyter-widgets/controls",
       "_view_module_version": "2.0.0",
       "_view_name": "HBoxView",
       "box_style": "",
       "children": [
        "IPY_MODEL_d0784b33a25b472a9d2a88aefe1003d9",
        "IPY_MODEL_3420559e9bcc4c1aa5bda2e5af2568a8",
        "IPY_MODEL_5eaa6d354da9404e860af324371175b8"
       ],
       "layout": "IPY_MODEL_230af3be50964483a38470a38dc0ac29",
       "tabbable": null,
       "tooltip": null
      }
     },
     "341150b8c9b74c0697e76223787072af": {
      "model_module": "@jupyter-widgets/controls",
      "model_module_version": "2.0.0",
      "model_name": "HTMLStyleModel",
      "state": {
       "_model_module": "@jupyter-widgets/controls",
       "_model_module_version": "2.0.0",
       "_model_name": "HTMLStyleModel",
       "_view_count": null,
       "_view_module": "@jupyter-widgets/base",
       "_view_module_version": "2.0.0",
       "_view_name": "StyleView",
       "background": null,
       "description_width": "",
       "font_size": null,
       "text_color": null
      }
     },
     "3420559e9bcc4c1aa5bda2e5af2568a8": {
      "model_module": "@jupyter-widgets/controls",
      "model_module_version": "2.0.0",
      "model_name": "FloatProgressModel",
      "state": {
       "_dom_classes": [],
       "_model_module": "@jupyter-widgets/controls",
       "_model_module_version": "2.0.0",
       "_model_name": "FloatProgressModel",
       "_view_count": null,
       "_view_module": "@jupyter-widgets/controls",
       "_view_module_version": "2.0.0",
       "_view_name": "ProgressView",
       "bar_style": "success",
       "description": "",
       "description_allow_html": false,
       "layout": "IPY_MODEL_98dc5d989e694461984cfe33a06c5c5c",
       "max": 90.0,
       "min": 0.0,
       "orientation": "horizontal",
       "style": "IPY_MODEL_62ba34b8a8384134969fb4bf59607e8d",
       "tabbable": null,
       "tooltip": null,
       "value": 90.0
      }
     },
     "37ca82d4acf0480f8dc0b9f0845b2261": {
      "model_module": "@jupyter-widgets/controls",
      "model_module_version": "2.0.0",
      "model_name": "HTMLStyleModel",
      "state": {
       "_model_module": "@jupyter-widgets/controls",
       "_model_module_version": "2.0.0",
       "_model_name": "HTMLStyleModel",
       "_view_count": null,
       "_view_module": "@jupyter-widgets/base",
       "_view_module_version": "2.0.0",
       "_view_name": "StyleView",
       "background": null,
       "description_width": "",
       "font_size": null,
       "text_color": null
      }
     },
     "461dfd3acbcf49c281b110ed512f48e9": {
      "model_module": "@jupyter-widgets/controls",
      "model_module_version": "2.0.0",
      "model_name": "FloatProgressModel",
      "state": {
       "_dom_classes": [],
       "_model_module": "@jupyter-widgets/controls",
       "_model_module_version": "2.0.0",
       "_model_name": "FloatProgressModel",
       "_view_count": null,
       "_view_module": "@jupyter-widgets/controls",
       "_view_module_version": "2.0.0",
       "_view_name": "ProgressView",
       "bar_style": "success",
       "description": "",
       "description_allow_html": false,
       "layout": "IPY_MODEL_99df8dda056c439495e70b4966674d9f",
       "max": 88965.0,
       "min": 0.0,
       "orientation": "horizontal",
       "style": "IPY_MODEL_876d76a936a842a3b9a18843816c5a7d",
       "tabbable": null,
       "tooltip": null,
       "value": 88965.0
      }
     },
     "5eaa6d354da9404e860af324371175b8": {
      "model_module": "@jupyter-widgets/controls",
      "model_module_version": "2.0.0",
      "model_name": "HTMLModel",
      "state": {
       "_dom_classes": [],
       "_model_module": "@jupyter-widgets/controls",
       "_model_module_version": "2.0.0",
       "_model_name": "HTMLModel",
       "_view_count": null,
       "_view_module": "@jupyter-widgets/controls",
       "_view_module_version": "2.0.0",
       "_view_name": "HTMLView",
       "description": "",
       "description_allow_html": false,
       "layout": "IPY_MODEL_8822a62e84964d70887130f10581d658",
       "placeholder": "​",
       "style": "IPY_MODEL_bf1395436b8a43c5a8d259c6afe752d0",
       "tabbable": null,
       "tooltip": null,
       "value": " 90/90 [00:00&lt;00:00, 2492.62 examples/s]"
      }
     },
     "62ba34b8a8384134969fb4bf59607e8d": {
      "model_module": "@jupyter-widgets/controls",
      "model_module_version": "2.0.0",
      "model_name": "ProgressStyleModel",
      "state": {
       "_model_module": "@jupyter-widgets/controls",
       "_model_module_version": "2.0.0",
       "_model_name": "ProgressStyleModel",
       "_view_count": null,
       "_view_module": "@jupyter-widgets/base",
       "_view_module_version": "2.0.0",
       "_view_name": "StyleView",
       "bar_color": null,
       "description_width": ""
      }
     },
     "62f828af057d402fa7152e654cdc3dbe": {
      "model_module": "@jupyter-widgets/controls",
      "model_module_version": "2.0.0",
      "model_name": "HTMLModel",
      "state": {
       "_dom_classes": [],
       "_model_module": "@jupyter-widgets/controls",
       "_model_module_version": "2.0.0",
       "_model_name": "HTMLModel",
       "_view_count": null,
       "_view_module": "@jupyter-widgets/controls",
       "_view_module_version": "2.0.0",
       "_view_name": "HTMLView",
       "description": "",
       "description_allow_html": false,
       "layout": "IPY_MODEL_6ce67f2a1e5a4bbe931a6c36990c1fa4",
       "placeholder": "​",
       "style": "IPY_MODEL_cfa318677a74405e9128fff104e0bf93",
       "tabbable": null,
       "tooltip": null,
       "value": " 2/2 [01:02&lt;00:00, 31.08s/it]"
      }
     },
     "649ba44d020f46d8860d22bceacacb9b": {
      "model_module": "@jupyter-widgets/base",
      "model_module_version": "2.0.0",
      "model_name": "LayoutModel",
      "state": {
       "_model_module": "@jupyter-widgets/base",
       "_model_module_version": "2.0.0",
       "_model_name": "LayoutModel",
       "_view_count": null,
       "_view_module": "@jupyter-widgets/base",
       "_view_module_version": "2.0.0",
       "_view_name": "LayoutView",
       "align_content": null,
       "align_items": null,
       "align_self": null,
       "border_bottom": null,
       "border_left": null,
       "border_right": null,
       "border_top": null,
       "bottom": null,
       "display": null,
       "flex": null,
       "flex_flow": null,
       "grid_area": null,
       "grid_auto_columns": null,
       "grid_auto_flow": null,
       "grid_auto_rows": null,
       "grid_column": null,
       "grid_gap": null,
       "grid_row": null,
       "grid_template_areas": null,
       "grid_template_columns": null,
       "grid_template_rows": null,
       "height": null,
       "justify_content": null,
       "justify_items": null,
       "left": null,
       "margin": null,
       "max_height": null,
       "max_width": null,
       "min_height": null,
       "min_width": null,
       "object_fit": null,
       "object_position": null,
       "order": null,
       "overflow": null,
       "padding": null,
       "right": null,
       "top": null,
       "visibility": null,
       "width": null
      }
     },
     "6ce67f2a1e5a4bbe931a6c36990c1fa4": {
      "model_module": "@jupyter-widgets/base",
      "model_module_version": "2.0.0",
      "model_name": "LayoutModel",
      "state": {
       "_model_module": "@jupyter-widgets/base",
       "_model_module_version": "2.0.0",
       "_model_name": "LayoutModel",
       "_view_count": null,
       "_view_module": "@jupyter-widgets/base",
       "_view_module_version": "2.0.0",
       "_view_name": "LayoutView",
       "align_content": null,
       "align_items": null,
       "align_self": null,
       "border_bottom": null,
       "border_left": null,
       "border_right": null,
       "border_top": null,
       "bottom": null,
       "display": null,
       "flex": null,
       "flex_flow": null,
       "grid_area": null,
       "grid_auto_columns": null,
       "grid_auto_flow": null,
       "grid_auto_rows": null,
       "grid_column": null,
       "grid_gap": null,
       "grid_row": null,
       "grid_template_areas": null,
       "grid_template_columns": null,
       "grid_template_rows": null,
       "height": null,
       "justify_content": null,
       "justify_items": null,
       "left": null,
       "margin": null,
       "max_height": null,
       "max_width": null,
       "min_height": null,
       "min_width": null,
       "object_fit": null,
       "object_position": null,
       "order": null,
       "overflow": null,
       "padding": null,
       "right": null,
       "top": null,
       "visibility": null,
       "width": null
      }
     },
     "74b8297d54b34af89fd99438221b3d5b": {
      "model_module": "@jupyter-widgets/controls",
      "model_module_version": "2.0.0",
      "model_name": "HTMLModel",
      "state": {
       "_dom_classes": [],
       "_model_module": "@jupyter-widgets/controls",
       "_model_module_version": "2.0.0",
       "_model_name": "HTMLModel",
       "_view_count": null,
       "_view_module": "@jupyter-widgets/controls",
       "_view_module_version": "2.0.0",
       "_view_name": "HTMLView",
       "description": "",
       "description_allow_html": false,
       "layout": "IPY_MODEL_f544294b3ad74389bfacfd8c14bcb88f",
       "placeholder": "​",
       "style": "IPY_MODEL_341150b8c9b74c0697e76223787072af",
       "tabbable": null,
       "tooltip": null,
       "value": "Map: 100%"
      }
     },
     "7dc91377b8324ee0b41be8f7245575c8": {
      "model_module": "@jupyter-widgets/controls",
      "model_module_version": "2.0.0",
      "model_name": "HTMLStyleModel",
      "state": {
       "_model_module": "@jupyter-widgets/controls",
       "_model_module_version": "2.0.0",
       "_model_name": "HTMLStyleModel",
       "_view_count": null,
       "_view_module": "@jupyter-widgets/base",
       "_view_module_version": "2.0.0",
       "_view_name": "StyleView",
       "background": null,
       "description_width": "",
       "font_size": null,
       "text_color": null
      }
     },
     "81a7a494f3b9423ca1058fc6b0dfa268": {
      "model_module": "@jupyter-widgets/controls",
      "model_module_version": "2.0.0",
      "model_name": "HTMLStyleModel",
      "state": {
       "_model_module": "@jupyter-widgets/controls",
       "_model_module_version": "2.0.0",
       "_model_name": "HTMLStyleModel",
       "_view_count": null,
       "_view_module": "@jupyter-widgets/base",
       "_view_module_version": "2.0.0",
       "_view_name": "StyleView",
       "background": null,
       "description_width": "",
       "font_size": null,
       "text_color": null
      }
     },
     "81ed2d7bf72f4a9db010837900c07c97": {
      "model_module": "@jupyter-widgets/controls",
      "model_module_version": "2.0.0",
      "model_name": "HBoxModel",
      "state": {
       "_dom_classes": [],
       "_model_module": "@jupyter-widgets/controls",
       "_model_module_version": "2.0.0",
       "_model_name": "HBoxModel",
       "_view_count": null,
       "_view_module": "@jupyter-widgets/controls",
       "_view_module_version": "2.0.0",
       "_view_name": "HBoxView",
       "box_style": "",
       "children": [
        "IPY_MODEL_17d87771a995419e8136a495fcd2a8a4",
        "IPY_MODEL_003adc5b81b94c04b63c1c9591214456",
        "IPY_MODEL_62f828af057d402fa7152e654cdc3dbe"
       ],
       "layout": "IPY_MODEL_1daa6b5c906843ef81f451b4cb2417c7",
       "tabbable": null,
       "tooltip": null
      }
     },
     "876d76a936a842a3b9a18843816c5a7d": {
      "model_module": "@jupyter-widgets/controls",
      "model_module_version": "2.0.0",
      "model_name": "ProgressStyleModel",
      "state": {
       "_model_module": "@jupyter-widgets/controls",
       "_model_module_version": "2.0.0",
       "_model_name": "ProgressStyleModel",
       "_view_count": null,
       "_view_module": "@jupyter-widgets/base",
       "_view_module_version": "2.0.0",
       "_view_name": "StyleView",
       "bar_color": null,
       "description_width": ""
      }
     },
     "8822a62e84964d70887130f10581d658": {
      "model_module": "@jupyter-widgets/base",
      "model_module_version": "2.0.0",
      "model_name": "LayoutModel",
      "state": {
       "_model_module": "@jupyter-widgets/base",
       "_model_module_version": "2.0.0",
       "_model_name": "LayoutModel",
       "_view_count": null,
       "_view_module": "@jupyter-widgets/base",
       "_view_module_version": "2.0.0",
       "_view_name": "LayoutView",
       "align_content": null,
       "align_items": null,
       "align_self": null,
       "border_bottom": null,
       "border_left": null,
       "border_right": null,
       "border_top": null,
       "bottom": null,
       "display": null,
       "flex": null,
       "flex_flow": null,
       "grid_area": null,
       "grid_auto_columns": null,
       "grid_auto_flow": null,
       "grid_auto_rows": null,
       "grid_column": null,
       "grid_gap": null,
       "grid_row": null,
       "grid_template_areas": null,
       "grid_template_columns": null,
       "grid_template_rows": null,
       "height": null,
       "justify_content": null,
       "justify_items": null,
       "left": null,
       "margin": null,
       "max_height": null,
       "max_width": null,
       "min_height": null,
       "min_width": null,
       "object_fit": null,
       "object_position": null,
       "order": null,
       "overflow": null,
       "padding": null,
       "right": null,
       "top": null,
       "visibility": null,
       "width": null
      }
     },
     "915597d28ec74391a1e90f61f00e2987": {
      "model_module": "@jupyter-widgets/base",
      "model_module_version": "2.0.0",
      "model_name": "LayoutModel",
      "state": {
       "_model_module": "@jupyter-widgets/base",
       "_model_module_version": "2.0.0",
       "_model_name": "LayoutModel",
       "_view_count": null,
       "_view_module": "@jupyter-widgets/base",
       "_view_module_version": "2.0.0",
       "_view_name": "LayoutView",
       "align_content": null,
       "align_items": null,
       "align_self": null,
       "border_bottom": null,
       "border_left": null,
       "border_right": null,
       "border_top": null,
       "bottom": null,
       "display": null,
       "flex": null,
       "flex_flow": null,
       "grid_area": null,
       "grid_auto_columns": null,
       "grid_auto_flow": null,
       "grid_auto_rows": null,
       "grid_column": null,
       "grid_gap": null,
       "grid_row": null,
       "grid_template_areas": null,
       "grid_template_columns": null,
       "grid_template_rows": null,
       "height": null,
       "justify_content": null,
       "justify_items": null,
       "left": null,
       "margin": null,
       "max_height": null,
       "max_width": null,
       "min_height": null,
       "min_width": null,
       "object_fit": null,
       "object_position": null,
       "order": null,
       "overflow": null,
       "padding": null,
       "right": null,
       "top": null,
       "visibility": null,
       "width": null
      }
     },
     "9536a90702e54b1f87d044f128be9a31": {
      "model_module": "@jupyter-widgets/base",
      "model_module_version": "2.0.0",
      "model_name": "LayoutModel",
      "state": {
       "_model_module": "@jupyter-widgets/base",
       "_model_module_version": "2.0.0",
       "_model_name": "LayoutModel",
       "_view_count": null,
       "_view_module": "@jupyter-widgets/base",
       "_view_module_version": "2.0.0",
       "_view_name": "LayoutView",
       "align_content": null,
       "align_items": null,
       "align_self": null,
       "border_bottom": null,
       "border_left": null,
       "border_right": null,
       "border_top": null,
       "bottom": null,
       "display": null,
       "flex": null,
       "flex_flow": null,
       "grid_area": null,
       "grid_auto_columns": null,
       "grid_auto_flow": null,
       "grid_auto_rows": null,
       "grid_column": null,
       "grid_gap": null,
       "grid_row": null,
       "grid_template_areas": null,
       "grid_template_columns": null,
       "grid_template_rows": null,
       "height": null,
       "justify_content": null,
       "justify_items": null,
       "left": null,
       "margin": null,
       "max_height": null,
       "max_width": null,
       "min_height": null,
       "min_width": null,
       "object_fit": null,
       "object_position": null,
       "order": null,
       "overflow": null,
       "padding": null,
       "right": null,
       "top": null,
       "visibility": null,
       "width": null
      }
     },
     "98dc5d989e694461984cfe33a06c5c5c": {
      "model_module": "@jupyter-widgets/base",
      "model_module_version": "2.0.0",
      "model_name": "LayoutModel",
      "state": {
       "_model_module": "@jupyter-widgets/base",
       "_model_module_version": "2.0.0",
       "_model_name": "LayoutModel",
       "_view_count": null,
       "_view_module": "@jupyter-widgets/base",
       "_view_module_version": "2.0.0",
       "_view_name": "LayoutView",
       "align_content": null,
       "align_items": null,
       "align_self": null,
       "border_bottom": null,
       "border_left": null,
       "border_right": null,
       "border_top": null,
       "bottom": null,
       "display": null,
       "flex": null,
       "flex_flow": null,
       "grid_area": null,
       "grid_auto_columns": null,
       "grid_auto_flow": null,
       "grid_auto_rows": null,
       "grid_column": null,
       "grid_gap": null,
       "grid_row": null,
       "grid_template_areas": null,
       "grid_template_columns": null,
       "grid_template_rows": null,
       "height": null,
       "justify_content": null,
       "justify_items": null,
       "left": null,
       "margin": null,
       "max_height": null,
       "max_width": null,
       "min_height": null,
       "min_width": null,
       "object_fit": null,
       "object_position": null,
       "order": null,
       "overflow": null,
       "padding": null,
       "right": null,
       "top": null,
       "visibility": null,
       "width": null
      }
     },
     "99df8dda056c439495e70b4966674d9f": {
      "model_module": "@jupyter-widgets/base",
      "model_module_version": "2.0.0",
      "model_name": "LayoutModel",
      "state": {
       "_model_module": "@jupyter-widgets/base",
       "_model_module_version": "2.0.0",
       "_model_name": "LayoutModel",
       "_view_count": null,
       "_view_module": "@jupyter-widgets/base",
       "_view_module_version": "2.0.0",
       "_view_name": "LayoutView",
       "align_content": null,
       "align_items": null,
       "align_self": null,
       "border_bottom": null,
       "border_left": null,
       "border_right": null,
       "border_top": null,
       "bottom": null,
       "display": null,
       "flex": null,
       "flex_flow": null,
       "grid_area": null,
       "grid_auto_columns": null,
       "grid_auto_flow": null,
       "grid_auto_rows": null,
       "grid_column": null,
       "grid_gap": null,
       "grid_row": null,
       "grid_template_areas": null,
       "grid_template_columns": null,
       "grid_template_rows": null,
       "height": null,
       "justify_content": null,
       "justify_items": null,
       "left": null,
       "margin": null,
       "max_height": null,
       "max_width": null,
       "min_height": null,
       "min_width": null,
       "object_fit": null,
       "object_position": null,
       "order": null,
       "overflow": null,
       "padding": null,
       "right": null,
       "top": null,
       "visibility": null,
       "width": null
      }
     },
     "b5b15a45a0da4e60abc1eed92d527091": {
      "model_module": "@jupyter-widgets/controls",
      "model_module_version": "2.0.0",
      "model_name": "HTMLModel",
      "state": {
       "_dom_classes": [],
       "_model_module": "@jupyter-widgets/controls",
       "_model_module_version": "2.0.0",
       "_model_name": "HTMLModel",
       "_view_count": null,
       "_view_module": "@jupyter-widgets/controls",
       "_view_module_version": "2.0.0",
       "_view_name": "HTMLView",
       "description": "",
       "description_allow_html": false,
       "layout": "IPY_MODEL_649ba44d020f46d8860d22bceacacb9b",
       "placeholder": "​",
       "style": "IPY_MODEL_7dc91377b8324ee0b41be8f7245575c8",
       "tabbable": null,
       "tooltip": null,
       "value": " 88965/88965 [00:22&lt;00:00, 4141.04 examples/s]"
      }
     },
     "bf1395436b8a43c5a8d259c6afe752d0": {
      "model_module": "@jupyter-widgets/controls",
      "model_module_version": "2.0.0",
      "model_name": "HTMLStyleModel",
      "state": {
       "_model_module": "@jupyter-widgets/controls",
       "_model_module_version": "2.0.0",
       "_model_name": "HTMLStyleModel",
       "_view_count": null,
       "_view_module": "@jupyter-widgets/base",
       "_view_module_version": "2.0.0",
       "_view_name": "StyleView",
       "background": null,
       "description_width": "",
       "font_size": null,
       "text_color": null
      }
     },
     "cfa318677a74405e9128fff104e0bf93": {
      "model_module": "@jupyter-widgets/controls",
      "model_module_version": "2.0.0",
      "model_name": "HTMLStyleModel",
      "state": {
       "_model_module": "@jupyter-widgets/controls",
       "_model_module_version": "2.0.0",
       "_model_name": "HTMLStyleModel",
       "_view_count": null,
       "_view_module": "@jupyter-widgets/base",
       "_view_module_version": "2.0.0",
       "_view_name": "StyleView",
       "background": null,
       "description_width": "",
       "font_size": null,
       "text_color": null
      }
     },
     "d0784b33a25b472a9d2a88aefe1003d9": {
      "model_module": "@jupyter-widgets/controls",
      "model_module_version": "2.0.0",
      "model_name": "HTMLModel",
      "state": {
       "_dom_classes": [],
       "_model_module": "@jupyter-widgets/controls",
       "_model_module_version": "2.0.0",
       "_model_name": "HTMLModel",
       "_view_count": null,
       "_view_module": "@jupyter-widgets/controls",
       "_view_module_version": "2.0.0",
       "_view_name": "HTMLView",
       "description": "",
       "description_allow_html": false,
       "layout": "IPY_MODEL_10d9c9fb5e0a4e13a04ca4cc945f09b7",
       "placeholder": "​",
       "style": "IPY_MODEL_37ca82d4acf0480f8dc0b9f0845b2261",
       "tabbable": null,
       "tooltip": null,
       "value": "Map: 100%"
      }
     },
     "d514b74d1a5a4287b4e90cc2bed6f810": {
      "model_module": "@jupyter-widgets/base",
      "model_module_version": "2.0.0",
      "model_name": "LayoutModel",
      "state": {
       "_model_module": "@jupyter-widgets/base",
       "_model_module_version": "2.0.0",
       "_model_name": "LayoutModel",
       "_view_count": null,
       "_view_module": "@jupyter-widgets/base",
       "_view_module_version": "2.0.0",
       "_view_name": "LayoutView",
       "align_content": null,
       "align_items": null,
       "align_self": null,
       "border_bottom": null,
       "border_left": null,
       "border_right": null,
       "border_top": null,
       "bottom": null,
       "display": null,
       "flex": null,
       "flex_flow": null,
       "grid_area": null,
       "grid_auto_columns": null,
       "grid_auto_flow": null,
       "grid_auto_rows": null,
       "grid_column": null,
       "grid_gap": null,
       "grid_row": null,
       "grid_template_areas": null,
       "grid_template_columns": null,
       "grid_template_rows": null,
       "height": null,
       "justify_content": null,
       "justify_items": null,
       "left": null,
       "margin": null,
       "max_height": null,
       "max_width": null,
       "min_height": null,
       "min_width": null,
       "object_fit": null,
       "object_position": null,
       "order": null,
       "overflow": null,
       "padding": null,
       "right": null,
       "top": null,
       "visibility": null,
       "width": null
      }
     },
     "e3ee095d3c7d4ef58c1d41f3ad4bc681": {
      "model_module": "@jupyter-widgets/controls",
      "model_module_version": "2.0.0",
      "model_name": "ProgressStyleModel",
      "state": {
       "_model_module": "@jupyter-widgets/controls",
       "_model_module_version": "2.0.0",
       "_model_name": "ProgressStyleModel",
       "_view_count": null,
       "_view_module": "@jupyter-widgets/base",
       "_view_module_version": "2.0.0",
       "_view_name": "StyleView",
       "bar_color": null,
       "description_width": ""
      }
     },
     "eec1cee181c24df8961ee90b9a5861eb": {
      "model_module": "@jupyter-widgets/controls",
      "model_module_version": "2.0.0",
      "model_name": "HBoxModel",
      "state": {
       "_dom_classes": [],
       "_model_module": "@jupyter-widgets/controls",
       "_model_module_version": "2.0.0",
       "_model_name": "HBoxModel",
       "_view_count": null,
       "_view_module": "@jupyter-widgets/controls",
       "_view_module_version": "2.0.0",
       "_view_name": "HBoxView",
       "box_style": "",
       "children": [
        "IPY_MODEL_74b8297d54b34af89fd99438221b3d5b",
        "IPY_MODEL_461dfd3acbcf49c281b110ed512f48e9",
        "IPY_MODEL_b5b15a45a0da4e60abc1eed92d527091"
       ],
       "layout": "IPY_MODEL_915597d28ec74391a1e90f61f00e2987",
       "tabbable": null,
       "tooltip": null
      }
     },
     "f544294b3ad74389bfacfd8c14bcb88f": {
      "model_module": "@jupyter-widgets/base",
      "model_module_version": "2.0.0",
      "model_name": "LayoutModel",
      "state": {
       "_model_module": "@jupyter-widgets/base",
       "_model_module_version": "2.0.0",
       "_model_name": "LayoutModel",
       "_view_count": null,
       "_view_module": "@jupyter-widgets/base",
       "_view_module_version": "2.0.0",
       "_view_name": "LayoutView",
       "align_content": null,
       "align_items": null,
       "align_self": null,
       "border_bottom": null,
       "border_left": null,
       "border_right": null,
       "border_top": null,
       "bottom": null,
       "display": null,
       "flex": null,
       "flex_flow": null,
       "grid_area": null,
       "grid_auto_columns": null,
       "grid_auto_flow": null,
       "grid_auto_rows": null,
       "grid_column": null,
       "grid_gap": null,
       "grid_row": null,
       "grid_template_areas": null,
       "grid_template_columns": null,
       "grid_template_rows": null,
       "height": null,
       "justify_content": null,
       "justify_items": null,
       "left": null,
       "margin": null,
       "max_height": null,
       "max_width": null,
       "min_height": null,
       "min_width": null,
       "object_fit": null,
       "object_position": null,
       "order": null,
       "overflow": null,
       "padding": null,
       "right": null,
       "top": null,
       "visibility": null,
       "width": null
      }
     }
    },
    "version_major": 2,
    "version_minor": 0
   }
  }
 },
 "nbformat": 4,
 "nbformat_minor": 5
}
